{
 "metadata": {
  "name": ""
 },
 "nbformat": 3,
 "nbformat_minor": 0,
 "worksheets": [
  {
   "cells": [
    {
     "cell_type": "code",
     "collapsed": false,
     "input": [
      "import pandas as pd\n",
      "import numpy as np\n",
      "import statsmodels.api as sm\n",
      "\n",
      "#from statsmodels.nonparametric import KDE, smoothers_lowess\n",
      "#from pandas import Series, DataFrame\n",
      "from patsy import dmatrices\n",
      "from sklearn import datasets, svm"
     ],
     "language": "python",
     "metadata": {},
     "outputs": [],
     "prompt_number": 3
    },
    {
     "cell_type": "code",
     "collapsed": false,
     "input": [
      "#kaggleaux is a module with auxilary functions for Kaggle developed by AGC\n",
      "import sys\n",
      "sys.path.append('C:\\Users\\KESJ\\code\\python\\library')\n",
      "import kaggleaux as ka"
     ],
     "language": "python",
     "metadata": {},
     "outputs": []
    },
    {
     "cell_type": "code",
     "collapsed": false,
     "input": [
      "df = pd.read_csv(\"../../../../data/kaggle/titantic/train.csv\")\n",
      "df # show an overview of the data"
     ],
     "language": "python",
     "metadata": {},
     "outputs": [
      {
       "html": [
        "<div style=\"max-height:1000px;max-width:1500px;overflow:auto;\">\n",
        "<table border=\"1\" class=\"dataframe\">\n",
        "  <thead>\n",
        "    <tr style=\"text-align: right;\">\n",
        "      <th></th>\n",
        "      <th>PassengerId</th>\n",
        "      <th>Survived</th>\n",
        "      <th>Pclass</th>\n",
        "      <th>Name</th>\n",
        "      <th>Sex</th>\n",
        "      <th>Age</th>\n",
        "      <th>SibSp</th>\n",
        "      <th>Parch</th>\n",
        "      <th>Ticket</th>\n",
        "      <th>Fare</th>\n",
        "      <th>Cabin</th>\n",
        "      <th>Embarked</th>\n",
        "    </tr>\n",
        "  </thead>\n",
        "  <tbody>\n",
        "    <tr>\n",
        "      <th>0  </th>\n",
        "      <td>   1</td>\n",
        "      <td> 0</td>\n",
        "      <td> 3</td>\n",
        "      <td>                           Braund, Mr. Owen Harris</td>\n",
        "      <td>   male</td>\n",
        "      <td> 22</td>\n",
        "      <td> 1</td>\n",
        "      <td> 0</td>\n",
        "      <td>        A/5 21171</td>\n",
        "      <td>   7.2500</td>\n",
        "      <td>         NaN</td>\n",
        "      <td> S</td>\n",
        "    </tr>\n",
        "    <tr>\n",
        "      <th>1  </th>\n",
        "      <td>   2</td>\n",
        "      <td> 1</td>\n",
        "      <td> 1</td>\n",
        "      <td> Cumings, Mrs. John Bradley (Florence Briggs Th...</td>\n",
        "      <td> female</td>\n",
        "      <td> 38</td>\n",
        "      <td> 1</td>\n",
        "      <td> 0</td>\n",
        "      <td>         PC 17599</td>\n",
        "      <td>  71.2833</td>\n",
        "      <td>         C85</td>\n",
        "      <td> C</td>\n",
        "    </tr>\n",
        "    <tr>\n",
        "      <th>2  </th>\n",
        "      <td>   3</td>\n",
        "      <td> 1</td>\n",
        "      <td> 3</td>\n",
        "      <td>                            Heikkinen, Miss. Laina</td>\n",
        "      <td> female</td>\n",
        "      <td> 26</td>\n",
        "      <td> 0</td>\n",
        "      <td> 0</td>\n",
        "      <td> STON/O2. 3101282</td>\n",
        "      <td>   7.9250</td>\n",
        "      <td>         NaN</td>\n",
        "      <td> S</td>\n",
        "    </tr>\n",
        "    <tr>\n",
        "      <th>3  </th>\n",
        "      <td>   4</td>\n",
        "      <td> 1</td>\n",
        "      <td> 1</td>\n",
        "      <td>      Futrelle, Mrs. Jacques Heath (Lily May Peel)</td>\n",
        "      <td> female</td>\n",
        "      <td> 35</td>\n",
        "      <td> 1</td>\n",
        "      <td> 0</td>\n",
        "      <td>           113803</td>\n",
        "      <td>  53.1000</td>\n",
        "      <td>        C123</td>\n",
        "      <td> S</td>\n",
        "    </tr>\n",
        "    <tr>\n",
        "      <th>4  </th>\n",
        "      <td>   5</td>\n",
        "      <td> 0</td>\n",
        "      <td> 3</td>\n",
        "      <td>                          Allen, Mr. William Henry</td>\n",
        "      <td>   male</td>\n",
        "      <td> 35</td>\n",
        "      <td> 0</td>\n",
        "      <td> 0</td>\n",
        "      <td>           373450</td>\n",
        "      <td>   8.0500</td>\n",
        "      <td>         NaN</td>\n",
        "      <td> S</td>\n",
        "    </tr>\n",
        "    <tr>\n",
        "      <th>5  </th>\n",
        "      <td>   6</td>\n",
        "      <td> 0</td>\n",
        "      <td> 3</td>\n",
        "      <td>                                  Moran, Mr. James</td>\n",
        "      <td>   male</td>\n",
        "      <td>NaN</td>\n",
        "      <td> 0</td>\n",
        "      <td> 0</td>\n",
        "      <td>           330877</td>\n",
        "      <td>   8.4583</td>\n",
        "      <td>         NaN</td>\n",
        "      <td> Q</td>\n",
        "    </tr>\n",
        "    <tr>\n",
        "      <th>6  </th>\n",
        "      <td>   7</td>\n",
        "      <td> 0</td>\n",
        "      <td> 1</td>\n",
        "      <td>                           McCarthy, Mr. Timothy J</td>\n",
        "      <td>   male</td>\n",
        "      <td> 54</td>\n",
        "      <td> 0</td>\n",
        "      <td> 0</td>\n",
        "      <td>            17463</td>\n",
        "      <td>  51.8625</td>\n",
        "      <td>         E46</td>\n",
        "      <td> S</td>\n",
        "    </tr>\n",
        "    <tr>\n",
        "      <th>7  </th>\n",
        "      <td>   8</td>\n",
        "      <td> 0</td>\n",
        "      <td> 3</td>\n",
        "      <td>                    Palsson, Master. Gosta Leonard</td>\n",
        "      <td>   male</td>\n",
        "      <td>  2</td>\n",
        "      <td> 3</td>\n",
        "      <td> 1</td>\n",
        "      <td>           349909</td>\n",
        "      <td>  21.0750</td>\n",
        "      <td>         NaN</td>\n",
        "      <td> S</td>\n",
        "    </tr>\n",
        "    <tr>\n",
        "      <th>8  </th>\n",
        "      <td>   9</td>\n",
        "      <td> 1</td>\n",
        "      <td> 3</td>\n",
        "      <td> Johnson, Mrs. Oscar W (Elisabeth Vilhelmina Berg)</td>\n",
        "      <td> female</td>\n",
        "      <td> 27</td>\n",
        "      <td> 0</td>\n",
        "      <td> 2</td>\n",
        "      <td>           347742</td>\n",
        "      <td>  11.1333</td>\n",
        "      <td>         NaN</td>\n",
        "      <td> S</td>\n",
        "    </tr>\n",
        "    <tr>\n",
        "      <th>9  </th>\n",
        "      <td>  10</td>\n",
        "      <td> 1</td>\n",
        "      <td> 2</td>\n",
        "      <td>               Nasser, Mrs. Nicholas (Adele Achem)</td>\n",
        "      <td> female</td>\n",
        "      <td> 14</td>\n",
        "      <td> 1</td>\n",
        "      <td> 0</td>\n",
        "      <td>           237736</td>\n",
        "      <td>  30.0708</td>\n",
        "      <td>         NaN</td>\n",
        "      <td> C</td>\n",
        "    </tr>\n",
        "    <tr>\n",
        "      <th>10 </th>\n",
        "      <td>  11</td>\n",
        "      <td> 1</td>\n",
        "      <td> 3</td>\n",
        "      <td>                   Sandstrom, Miss. Marguerite Rut</td>\n",
        "      <td> female</td>\n",
        "      <td>  4</td>\n",
        "      <td> 1</td>\n",
        "      <td> 1</td>\n",
        "      <td>          PP 9549</td>\n",
        "      <td>  16.7000</td>\n",
        "      <td>          G6</td>\n",
        "      <td> S</td>\n",
        "    </tr>\n",
        "    <tr>\n",
        "      <th>11 </th>\n",
        "      <td>  12</td>\n",
        "      <td> 1</td>\n",
        "      <td> 1</td>\n",
        "      <td>                          Bonnell, Miss. Elizabeth</td>\n",
        "      <td> female</td>\n",
        "      <td> 58</td>\n",
        "      <td> 0</td>\n",
        "      <td> 0</td>\n",
        "      <td>           113783</td>\n",
        "      <td>  26.5500</td>\n",
        "      <td>        C103</td>\n",
        "      <td> S</td>\n",
        "    </tr>\n",
        "    <tr>\n",
        "      <th>12 </th>\n",
        "      <td>  13</td>\n",
        "      <td> 0</td>\n",
        "      <td> 3</td>\n",
        "      <td>                    Saundercock, Mr. William Henry</td>\n",
        "      <td>   male</td>\n",
        "      <td> 20</td>\n",
        "      <td> 0</td>\n",
        "      <td> 0</td>\n",
        "      <td>        A/5. 2151</td>\n",
        "      <td>   8.0500</td>\n",
        "      <td>         NaN</td>\n",
        "      <td> S</td>\n",
        "    </tr>\n",
        "    <tr>\n",
        "      <th>13 </th>\n",
        "      <td>  14</td>\n",
        "      <td> 0</td>\n",
        "      <td> 3</td>\n",
        "      <td>                       Andersson, Mr. Anders Johan</td>\n",
        "      <td>   male</td>\n",
        "      <td> 39</td>\n",
        "      <td> 1</td>\n",
        "      <td> 5</td>\n",
        "      <td>           347082</td>\n",
        "      <td>  31.2750</td>\n",
        "      <td>         NaN</td>\n",
        "      <td> S</td>\n",
        "    </tr>\n",
        "    <tr>\n",
        "      <th>14 </th>\n",
        "      <td>  15</td>\n",
        "      <td> 0</td>\n",
        "      <td> 3</td>\n",
        "      <td>              Vestrom, Miss. Hulda Amanda Adolfina</td>\n",
        "      <td> female</td>\n",
        "      <td> 14</td>\n",
        "      <td> 0</td>\n",
        "      <td> 0</td>\n",
        "      <td>           350406</td>\n",
        "      <td>   7.8542</td>\n",
        "      <td>         NaN</td>\n",
        "      <td> S</td>\n",
        "    </tr>\n",
        "    <tr>\n",
        "      <th>15 </th>\n",
        "      <td>  16</td>\n",
        "      <td> 1</td>\n",
        "      <td> 2</td>\n",
        "      <td>                  Hewlett, Mrs. (Mary D Kingcome) </td>\n",
        "      <td> female</td>\n",
        "      <td> 55</td>\n",
        "      <td> 0</td>\n",
        "      <td> 0</td>\n",
        "      <td>           248706</td>\n",
        "      <td>  16.0000</td>\n",
        "      <td>         NaN</td>\n",
        "      <td> S</td>\n",
        "    </tr>\n",
        "    <tr>\n",
        "      <th>16 </th>\n",
        "      <td>  17</td>\n",
        "      <td> 0</td>\n",
        "      <td> 3</td>\n",
        "      <td>                              Rice, Master. Eugene</td>\n",
        "      <td>   male</td>\n",
        "      <td>  2</td>\n",
        "      <td> 4</td>\n",
        "      <td> 1</td>\n",
        "      <td>           382652</td>\n",
        "      <td>  29.1250</td>\n",
        "      <td>         NaN</td>\n",
        "      <td> Q</td>\n",
        "    </tr>\n",
        "    <tr>\n",
        "      <th>17 </th>\n",
        "      <td>  18</td>\n",
        "      <td> 1</td>\n",
        "      <td> 2</td>\n",
        "      <td>                      Williams, Mr. Charles Eugene</td>\n",
        "      <td>   male</td>\n",
        "      <td>NaN</td>\n",
        "      <td> 0</td>\n",
        "      <td> 0</td>\n",
        "      <td>           244373</td>\n",
        "      <td>  13.0000</td>\n",
        "      <td>         NaN</td>\n",
        "      <td> S</td>\n",
        "    </tr>\n",
        "    <tr>\n",
        "      <th>18 </th>\n",
        "      <td>  19</td>\n",
        "      <td> 0</td>\n",
        "      <td> 3</td>\n",
        "      <td> Vander Planke, Mrs. Julius (Emelia Maria Vande...</td>\n",
        "      <td> female</td>\n",
        "      <td> 31</td>\n",
        "      <td> 1</td>\n",
        "      <td> 0</td>\n",
        "      <td>           345763</td>\n",
        "      <td>  18.0000</td>\n",
        "      <td>         NaN</td>\n",
        "      <td> S</td>\n",
        "    </tr>\n",
        "    <tr>\n",
        "      <th>19 </th>\n",
        "      <td>  20</td>\n",
        "      <td> 1</td>\n",
        "      <td> 3</td>\n",
        "      <td>                           Masselmani, Mrs. Fatima</td>\n",
        "      <td> female</td>\n",
        "      <td>NaN</td>\n",
        "      <td> 0</td>\n",
        "      <td> 0</td>\n",
        "      <td>             2649</td>\n",
        "      <td>   7.2250</td>\n",
        "      <td>         NaN</td>\n",
        "      <td> C</td>\n",
        "    </tr>\n",
        "    <tr>\n",
        "      <th>20 </th>\n",
        "      <td>  21</td>\n",
        "      <td> 0</td>\n",
        "      <td> 2</td>\n",
        "      <td>                              Fynney, Mr. Joseph J</td>\n",
        "      <td>   male</td>\n",
        "      <td> 35</td>\n",
        "      <td> 0</td>\n",
        "      <td> 0</td>\n",
        "      <td>           239865</td>\n",
        "      <td>  26.0000</td>\n",
        "      <td>         NaN</td>\n",
        "      <td> S</td>\n",
        "    </tr>\n",
        "    <tr>\n",
        "      <th>21 </th>\n",
        "      <td>  22</td>\n",
        "      <td> 1</td>\n",
        "      <td> 2</td>\n",
        "      <td>                             Beesley, Mr. Lawrence</td>\n",
        "      <td>   male</td>\n",
        "      <td> 34</td>\n",
        "      <td> 0</td>\n",
        "      <td> 0</td>\n",
        "      <td>           248698</td>\n",
        "      <td>  13.0000</td>\n",
        "      <td>         D56</td>\n",
        "      <td> S</td>\n",
        "    </tr>\n",
        "    <tr>\n",
        "      <th>22 </th>\n",
        "      <td>  23</td>\n",
        "      <td> 1</td>\n",
        "      <td> 3</td>\n",
        "      <td>                       McGowan, Miss. Anna \"Annie\"</td>\n",
        "      <td> female</td>\n",
        "      <td> 15</td>\n",
        "      <td> 0</td>\n",
        "      <td> 0</td>\n",
        "      <td>           330923</td>\n",
        "      <td>   8.0292</td>\n",
        "      <td>         NaN</td>\n",
        "      <td> Q</td>\n",
        "    </tr>\n",
        "    <tr>\n",
        "      <th>23 </th>\n",
        "      <td>  24</td>\n",
        "      <td> 1</td>\n",
        "      <td> 1</td>\n",
        "      <td>                      Sloper, Mr. William Thompson</td>\n",
        "      <td>   male</td>\n",
        "      <td> 28</td>\n",
        "      <td> 0</td>\n",
        "      <td> 0</td>\n",
        "      <td>           113788</td>\n",
        "      <td>  35.5000</td>\n",
        "      <td>          A6</td>\n",
        "      <td> S</td>\n",
        "    </tr>\n",
        "    <tr>\n",
        "      <th>24 </th>\n",
        "      <td>  25</td>\n",
        "      <td> 0</td>\n",
        "      <td> 3</td>\n",
        "      <td>                     Palsson, Miss. Torborg Danira</td>\n",
        "      <td> female</td>\n",
        "      <td>  8</td>\n",
        "      <td> 3</td>\n",
        "      <td> 1</td>\n",
        "      <td>           349909</td>\n",
        "      <td>  21.0750</td>\n",
        "      <td>         NaN</td>\n",
        "      <td> S</td>\n",
        "    </tr>\n",
        "    <tr>\n",
        "      <th>25 </th>\n",
        "      <td>  26</td>\n",
        "      <td> 1</td>\n",
        "      <td> 3</td>\n",
        "      <td> Asplund, Mrs. Carl Oscar (Selma Augusta Emilia...</td>\n",
        "      <td> female</td>\n",
        "      <td> 38</td>\n",
        "      <td> 1</td>\n",
        "      <td> 5</td>\n",
        "      <td>           347077</td>\n",
        "      <td>  31.3875</td>\n",
        "      <td>         NaN</td>\n",
        "      <td> S</td>\n",
        "    </tr>\n",
        "    <tr>\n",
        "      <th>26 </th>\n",
        "      <td>  27</td>\n",
        "      <td> 0</td>\n",
        "      <td> 3</td>\n",
        "      <td>                           Emir, Mr. Farred Chehab</td>\n",
        "      <td>   male</td>\n",
        "      <td>NaN</td>\n",
        "      <td> 0</td>\n",
        "      <td> 0</td>\n",
        "      <td>             2631</td>\n",
        "      <td>   7.2250</td>\n",
        "      <td>         NaN</td>\n",
        "      <td> C</td>\n",
        "    </tr>\n",
        "    <tr>\n",
        "      <th>27 </th>\n",
        "      <td>  28</td>\n",
        "      <td> 0</td>\n",
        "      <td> 1</td>\n",
        "      <td>                    Fortune, Mr. Charles Alexander</td>\n",
        "      <td>   male</td>\n",
        "      <td> 19</td>\n",
        "      <td> 3</td>\n",
        "      <td> 2</td>\n",
        "      <td>            19950</td>\n",
        "      <td> 263.0000</td>\n",
        "      <td> C23 C25 C27</td>\n",
        "      <td> S</td>\n",
        "    </tr>\n",
        "    <tr>\n",
        "      <th>28 </th>\n",
        "      <td>  29</td>\n",
        "      <td> 1</td>\n",
        "      <td> 3</td>\n",
        "      <td>                     O'Dwyer, Miss. Ellen \"Nellie\"</td>\n",
        "      <td> female</td>\n",
        "      <td>NaN</td>\n",
        "      <td> 0</td>\n",
        "      <td> 0</td>\n",
        "      <td>           330959</td>\n",
        "      <td>   7.8792</td>\n",
        "      <td>         NaN</td>\n",
        "      <td> Q</td>\n",
        "    </tr>\n",
        "    <tr>\n",
        "      <th>29 </th>\n",
        "      <td>  30</td>\n",
        "      <td> 0</td>\n",
        "      <td> 3</td>\n",
        "      <td>                               Todoroff, Mr. Lalio</td>\n",
        "      <td>   male</td>\n",
        "      <td>NaN</td>\n",
        "      <td> 0</td>\n",
        "      <td> 0</td>\n",
        "      <td>           349216</td>\n",
        "      <td>   7.8958</td>\n",
        "      <td>         NaN</td>\n",
        "      <td> S</td>\n",
        "    </tr>\n",
        "    <tr>\n",
        "      <th>...</th>\n",
        "      <td>...</td>\n",
        "      <td>...</td>\n",
        "      <td>...</td>\n",
        "      <td>...</td>\n",
        "      <td>...</td>\n",
        "      <td>...</td>\n",
        "      <td>...</td>\n",
        "      <td>...</td>\n",
        "      <td>...</td>\n",
        "      <td>...</td>\n",
        "      <td>...</td>\n",
        "      <td>...</td>\n",
        "    </tr>\n",
        "    <tr>\n",
        "      <th>861</th>\n",
        "      <td> 862</td>\n",
        "      <td> 0</td>\n",
        "      <td> 2</td>\n",
        "      <td>                       Giles, Mr. Frederick Edward</td>\n",
        "      <td>   male</td>\n",
        "      <td> 21</td>\n",
        "      <td> 1</td>\n",
        "      <td> 0</td>\n",
        "      <td>            28134</td>\n",
        "      <td>  11.5000</td>\n",
        "      <td>         NaN</td>\n",
        "      <td> S</td>\n",
        "    </tr>\n",
        "    <tr>\n",
        "      <th>862</th>\n",
        "      <td> 863</td>\n",
        "      <td> 1</td>\n",
        "      <td> 1</td>\n",
        "      <td> Swift, Mrs. Frederick Joel (Margaret Welles Ba...</td>\n",
        "      <td> female</td>\n",
        "      <td> 48</td>\n",
        "      <td> 0</td>\n",
        "      <td> 0</td>\n",
        "      <td>            17466</td>\n",
        "      <td>  25.9292</td>\n",
        "      <td>         D17</td>\n",
        "      <td> S</td>\n",
        "    </tr>\n",
        "    <tr>\n",
        "      <th>863</th>\n",
        "      <td> 864</td>\n",
        "      <td> 0</td>\n",
        "      <td> 3</td>\n",
        "      <td>                 Sage, Miss. Dorothy Edith \"Dolly\"</td>\n",
        "      <td> female</td>\n",
        "      <td>NaN</td>\n",
        "      <td> 8</td>\n",
        "      <td> 2</td>\n",
        "      <td>         CA. 2343</td>\n",
        "      <td>  69.5500</td>\n",
        "      <td>         NaN</td>\n",
        "      <td> S</td>\n",
        "    </tr>\n",
        "    <tr>\n",
        "      <th>864</th>\n",
        "      <td> 865</td>\n",
        "      <td> 0</td>\n",
        "      <td> 2</td>\n",
        "      <td>                            Gill, Mr. John William</td>\n",
        "      <td>   male</td>\n",
        "      <td> 24</td>\n",
        "      <td> 0</td>\n",
        "      <td> 0</td>\n",
        "      <td>           233866</td>\n",
        "      <td>  13.0000</td>\n",
        "      <td>         NaN</td>\n",
        "      <td> S</td>\n",
        "    </tr>\n",
        "    <tr>\n",
        "      <th>865</th>\n",
        "      <td> 866</td>\n",
        "      <td> 1</td>\n",
        "      <td> 2</td>\n",
        "      <td>                          Bystrom, Mrs. (Karolina)</td>\n",
        "      <td> female</td>\n",
        "      <td> 42</td>\n",
        "      <td> 0</td>\n",
        "      <td> 0</td>\n",
        "      <td>           236852</td>\n",
        "      <td>  13.0000</td>\n",
        "      <td>         NaN</td>\n",
        "      <td> S</td>\n",
        "    </tr>\n",
        "    <tr>\n",
        "      <th>866</th>\n",
        "      <td> 867</td>\n",
        "      <td> 1</td>\n",
        "      <td> 2</td>\n",
        "      <td>                      Duran y More, Miss. Asuncion</td>\n",
        "      <td> female</td>\n",
        "      <td> 27</td>\n",
        "      <td> 1</td>\n",
        "      <td> 0</td>\n",
        "      <td>    SC/PARIS 2149</td>\n",
        "      <td>  13.8583</td>\n",
        "      <td>         NaN</td>\n",
        "      <td> C</td>\n",
        "    </tr>\n",
        "    <tr>\n",
        "      <th>867</th>\n",
        "      <td> 868</td>\n",
        "      <td> 0</td>\n",
        "      <td> 1</td>\n",
        "      <td>              Roebling, Mr. Washington Augustus II</td>\n",
        "      <td>   male</td>\n",
        "      <td> 31</td>\n",
        "      <td> 0</td>\n",
        "      <td> 0</td>\n",
        "      <td>         PC 17590</td>\n",
        "      <td>  50.4958</td>\n",
        "      <td>         A24</td>\n",
        "      <td> S</td>\n",
        "    </tr>\n",
        "    <tr>\n",
        "      <th>868</th>\n",
        "      <td> 869</td>\n",
        "      <td> 0</td>\n",
        "      <td> 3</td>\n",
        "      <td>                       van Melkebeke, Mr. Philemon</td>\n",
        "      <td>   male</td>\n",
        "      <td>NaN</td>\n",
        "      <td> 0</td>\n",
        "      <td> 0</td>\n",
        "      <td>           345777</td>\n",
        "      <td>   9.5000</td>\n",
        "      <td>         NaN</td>\n",
        "      <td> S</td>\n",
        "    </tr>\n",
        "    <tr>\n",
        "      <th>869</th>\n",
        "      <td> 870</td>\n",
        "      <td> 1</td>\n",
        "      <td> 3</td>\n",
        "      <td>                   Johnson, Master. Harold Theodor</td>\n",
        "      <td>   male</td>\n",
        "      <td>  4</td>\n",
        "      <td> 1</td>\n",
        "      <td> 1</td>\n",
        "      <td>           347742</td>\n",
        "      <td>  11.1333</td>\n",
        "      <td>         NaN</td>\n",
        "      <td> S</td>\n",
        "    </tr>\n",
        "    <tr>\n",
        "      <th>870</th>\n",
        "      <td> 871</td>\n",
        "      <td> 0</td>\n",
        "      <td> 3</td>\n",
        "      <td>                                 Balkic, Mr. Cerin</td>\n",
        "      <td>   male</td>\n",
        "      <td> 26</td>\n",
        "      <td> 0</td>\n",
        "      <td> 0</td>\n",
        "      <td>           349248</td>\n",
        "      <td>   7.8958</td>\n",
        "      <td>         NaN</td>\n",
        "      <td> S</td>\n",
        "    </tr>\n",
        "    <tr>\n",
        "      <th>871</th>\n",
        "      <td> 872</td>\n",
        "      <td> 1</td>\n",
        "      <td> 1</td>\n",
        "      <td>  Beckwith, Mrs. Richard Leonard (Sallie Monypeny)</td>\n",
        "      <td> female</td>\n",
        "      <td> 47</td>\n",
        "      <td> 1</td>\n",
        "      <td> 1</td>\n",
        "      <td>            11751</td>\n",
        "      <td>  52.5542</td>\n",
        "      <td>         D35</td>\n",
        "      <td> S</td>\n",
        "    </tr>\n",
        "    <tr>\n",
        "      <th>872</th>\n",
        "      <td> 873</td>\n",
        "      <td> 0</td>\n",
        "      <td> 1</td>\n",
        "      <td>                          Carlsson, Mr. Frans Olof</td>\n",
        "      <td>   male</td>\n",
        "      <td> 33</td>\n",
        "      <td> 0</td>\n",
        "      <td> 0</td>\n",
        "      <td>              695</td>\n",
        "      <td>   5.0000</td>\n",
        "      <td> B51 B53 B55</td>\n",
        "      <td> S</td>\n",
        "    </tr>\n",
        "    <tr>\n",
        "      <th>873</th>\n",
        "      <td> 874</td>\n",
        "      <td> 0</td>\n",
        "      <td> 3</td>\n",
        "      <td>                       Vander Cruyssen, Mr. Victor</td>\n",
        "      <td>   male</td>\n",
        "      <td> 47</td>\n",
        "      <td> 0</td>\n",
        "      <td> 0</td>\n",
        "      <td>           345765</td>\n",
        "      <td>   9.0000</td>\n",
        "      <td>         NaN</td>\n",
        "      <td> S</td>\n",
        "    </tr>\n",
        "    <tr>\n",
        "      <th>874</th>\n",
        "      <td> 875</td>\n",
        "      <td> 1</td>\n",
        "      <td> 2</td>\n",
        "      <td>             Abelson, Mrs. Samuel (Hannah Wizosky)</td>\n",
        "      <td> female</td>\n",
        "      <td> 28</td>\n",
        "      <td> 1</td>\n",
        "      <td> 0</td>\n",
        "      <td>        P/PP 3381</td>\n",
        "      <td>  24.0000</td>\n",
        "      <td>         NaN</td>\n",
        "      <td> C</td>\n",
        "    </tr>\n",
        "    <tr>\n",
        "      <th>875</th>\n",
        "      <td> 876</td>\n",
        "      <td> 1</td>\n",
        "      <td> 3</td>\n",
        "      <td>                  Najib, Miss. Adele Kiamie \"Jane\"</td>\n",
        "      <td> female</td>\n",
        "      <td> 15</td>\n",
        "      <td> 0</td>\n",
        "      <td> 0</td>\n",
        "      <td>             2667</td>\n",
        "      <td>   7.2250</td>\n",
        "      <td>         NaN</td>\n",
        "      <td> C</td>\n",
        "    </tr>\n",
        "    <tr>\n",
        "      <th>876</th>\n",
        "      <td> 877</td>\n",
        "      <td> 0</td>\n",
        "      <td> 3</td>\n",
        "      <td>                     Gustafsson, Mr. Alfred Ossian</td>\n",
        "      <td>   male</td>\n",
        "      <td> 20</td>\n",
        "      <td> 0</td>\n",
        "      <td> 0</td>\n",
        "      <td>             7534</td>\n",
        "      <td>   9.8458</td>\n",
        "      <td>         NaN</td>\n",
        "      <td> S</td>\n",
        "    </tr>\n",
        "    <tr>\n",
        "      <th>877</th>\n",
        "      <td> 878</td>\n",
        "      <td> 0</td>\n",
        "      <td> 3</td>\n",
        "      <td>                              Petroff, Mr. Nedelio</td>\n",
        "      <td>   male</td>\n",
        "      <td> 19</td>\n",
        "      <td> 0</td>\n",
        "      <td> 0</td>\n",
        "      <td>           349212</td>\n",
        "      <td>   7.8958</td>\n",
        "      <td>         NaN</td>\n",
        "      <td> S</td>\n",
        "    </tr>\n",
        "    <tr>\n",
        "      <th>878</th>\n",
        "      <td> 879</td>\n",
        "      <td> 0</td>\n",
        "      <td> 3</td>\n",
        "      <td>                                Laleff, Mr. Kristo</td>\n",
        "      <td>   male</td>\n",
        "      <td>NaN</td>\n",
        "      <td> 0</td>\n",
        "      <td> 0</td>\n",
        "      <td>           349217</td>\n",
        "      <td>   7.8958</td>\n",
        "      <td>         NaN</td>\n",
        "      <td> S</td>\n",
        "    </tr>\n",
        "    <tr>\n",
        "      <th>879</th>\n",
        "      <td> 880</td>\n",
        "      <td> 1</td>\n",
        "      <td> 1</td>\n",
        "      <td>     Potter, Mrs. Thomas Jr (Lily Alexenia Wilson)</td>\n",
        "      <td> female</td>\n",
        "      <td> 56</td>\n",
        "      <td> 0</td>\n",
        "      <td> 1</td>\n",
        "      <td>            11767</td>\n",
        "      <td>  83.1583</td>\n",
        "      <td>         C50</td>\n",
        "      <td> C</td>\n",
        "    </tr>\n",
        "    <tr>\n",
        "      <th>880</th>\n",
        "      <td> 881</td>\n",
        "      <td> 1</td>\n",
        "      <td> 2</td>\n",
        "      <td>      Shelley, Mrs. William (Imanita Parrish Hall)</td>\n",
        "      <td> female</td>\n",
        "      <td> 25</td>\n",
        "      <td> 0</td>\n",
        "      <td> 1</td>\n",
        "      <td>           230433</td>\n",
        "      <td>  26.0000</td>\n",
        "      <td>         NaN</td>\n",
        "      <td> S</td>\n",
        "    </tr>\n",
        "    <tr>\n",
        "      <th>881</th>\n",
        "      <td> 882</td>\n",
        "      <td> 0</td>\n",
        "      <td> 3</td>\n",
        "      <td>                                Markun, Mr. Johann</td>\n",
        "      <td>   male</td>\n",
        "      <td> 33</td>\n",
        "      <td> 0</td>\n",
        "      <td> 0</td>\n",
        "      <td>           349257</td>\n",
        "      <td>   7.8958</td>\n",
        "      <td>         NaN</td>\n",
        "      <td> S</td>\n",
        "    </tr>\n",
        "    <tr>\n",
        "      <th>882</th>\n",
        "      <td> 883</td>\n",
        "      <td> 0</td>\n",
        "      <td> 3</td>\n",
        "      <td>                      Dahlberg, Miss. Gerda Ulrika</td>\n",
        "      <td> female</td>\n",
        "      <td> 22</td>\n",
        "      <td> 0</td>\n",
        "      <td> 0</td>\n",
        "      <td>             7552</td>\n",
        "      <td>  10.5167</td>\n",
        "      <td>         NaN</td>\n",
        "      <td> S</td>\n",
        "    </tr>\n",
        "    <tr>\n",
        "      <th>883</th>\n",
        "      <td> 884</td>\n",
        "      <td> 0</td>\n",
        "      <td> 2</td>\n",
        "      <td>                     Banfield, Mr. Frederick James</td>\n",
        "      <td>   male</td>\n",
        "      <td> 28</td>\n",
        "      <td> 0</td>\n",
        "      <td> 0</td>\n",
        "      <td> C.A./SOTON 34068</td>\n",
        "      <td>  10.5000</td>\n",
        "      <td>         NaN</td>\n",
        "      <td> S</td>\n",
        "    </tr>\n",
        "    <tr>\n",
        "      <th>884</th>\n",
        "      <td> 885</td>\n",
        "      <td> 0</td>\n",
        "      <td> 3</td>\n",
        "      <td>                            Sutehall, Mr. Henry Jr</td>\n",
        "      <td>   male</td>\n",
        "      <td> 25</td>\n",
        "      <td> 0</td>\n",
        "      <td> 0</td>\n",
        "      <td>  SOTON/OQ 392076</td>\n",
        "      <td>   7.0500</td>\n",
        "      <td>         NaN</td>\n",
        "      <td> S</td>\n",
        "    </tr>\n",
        "    <tr>\n",
        "      <th>885</th>\n",
        "      <td> 886</td>\n",
        "      <td> 0</td>\n",
        "      <td> 3</td>\n",
        "      <td>              Rice, Mrs. William (Margaret Norton)</td>\n",
        "      <td> female</td>\n",
        "      <td> 39</td>\n",
        "      <td> 0</td>\n",
        "      <td> 5</td>\n",
        "      <td>           382652</td>\n",
        "      <td>  29.1250</td>\n",
        "      <td>         NaN</td>\n",
        "      <td> Q</td>\n",
        "    </tr>\n",
        "    <tr>\n",
        "      <th>886</th>\n",
        "      <td> 887</td>\n",
        "      <td> 0</td>\n",
        "      <td> 2</td>\n",
        "      <td>                             Montvila, Rev. Juozas</td>\n",
        "      <td>   male</td>\n",
        "      <td> 27</td>\n",
        "      <td> 0</td>\n",
        "      <td> 0</td>\n",
        "      <td>           211536</td>\n",
        "      <td>  13.0000</td>\n",
        "      <td>         NaN</td>\n",
        "      <td> S</td>\n",
        "    </tr>\n",
        "    <tr>\n",
        "      <th>887</th>\n",
        "      <td> 888</td>\n",
        "      <td> 1</td>\n",
        "      <td> 1</td>\n",
        "      <td>                      Graham, Miss. Margaret Edith</td>\n",
        "      <td> female</td>\n",
        "      <td> 19</td>\n",
        "      <td> 0</td>\n",
        "      <td> 0</td>\n",
        "      <td>           112053</td>\n",
        "      <td>  30.0000</td>\n",
        "      <td>         B42</td>\n",
        "      <td> S</td>\n",
        "    </tr>\n",
        "    <tr>\n",
        "      <th>888</th>\n",
        "      <td> 889</td>\n",
        "      <td> 0</td>\n",
        "      <td> 3</td>\n",
        "      <td>          Johnston, Miss. Catherine Helen \"Carrie\"</td>\n",
        "      <td> female</td>\n",
        "      <td>NaN</td>\n",
        "      <td> 1</td>\n",
        "      <td> 2</td>\n",
        "      <td>       W./C. 6607</td>\n",
        "      <td>  23.4500</td>\n",
        "      <td>         NaN</td>\n",
        "      <td> S</td>\n",
        "    </tr>\n",
        "    <tr>\n",
        "      <th>889</th>\n",
        "      <td> 890</td>\n",
        "      <td> 1</td>\n",
        "      <td> 1</td>\n",
        "      <td>                             Behr, Mr. Karl Howell</td>\n",
        "      <td>   male</td>\n",
        "      <td> 26</td>\n",
        "      <td> 0</td>\n",
        "      <td> 0</td>\n",
        "      <td>           111369</td>\n",
        "      <td>  30.0000</td>\n",
        "      <td>        C148</td>\n",
        "      <td> C</td>\n",
        "    </tr>\n",
        "    <tr>\n",
        "      <th>890</th>\n",
        "      <td> 891</td>\n",
        "      <td> 0</td>\n",
        "      <td> 3</td>\n",
        "      <td>                               Dooley, Mr. Patrick</td>\n",
        "      <td>   male</td>\n",
        "      <td> 32</td>\n",
        "      <td> 0</td>\n",
        "      <td> 0</td>\n",
        "      <td>           370376</td>\n",
        "      <td>   7.7500</td>\n",
        "      <td>         NaN</td>\n",
        "      <td> Q</td>\n",
        "    </tr>\n",
        "  </tbody>\n",
        "</table>\n",
        "<p>891 rows \u00d7 12 columns</p>\n",
        "</div>"
       ],
       "metadata": {},
       "output_type": "pyout",
       "prompt_number": 9,
       "text": [
        "     PassengerId  Survived  Pclass  \\\n",
        "0              1         0       3   \n",
        "1              2         1       1   \n",
        "2              3         1       3   \n",
        "3              4         1       1   \n",
        "4              5         0       3   \n",
        "5              6         0       3   \n",
        "6              7         0       1   \n",
        "7              8         0       3   \n",
        "8              9         1       3   \n",
        "9             10         1       2   \n",
        "10            11         1       3   \n",
        "11            12         1       1   \n",
        "12            13         0       3   \n",
        "13            14         0       3   \n",
        "14            15         0       3   \n",
        "15            16         1       2   \n",
        "16            17         0       3   \n",
        "17            18         1       2   \n",
        "18            19         0       3   \n",
        "19            20         1       3   \n",
        "20            21         0       2   \n",
        "21            22         1       2   \n",
        "22            23         1       3   \n",
        "23            24         1       1   \n",
        "24            25         0       3   \n",
        "25            26         1       3   \n",
        "26            27         0       3   \n",
        "27            28         0       1   \n",
        "28            29         1       3   \n",
        "29            30         0       3   \n",
        "..           ...       ...     ...   \n",
        "861          862         0       2   \n",
        "862          863         1       1   \n",
        "863          864         0       3   \n",
        "864          865         0       2   \n",
        "865          866         1       2   \n",
        "866          867         1       2   \n",
        "867          868         0       1   \n",
        "868          869         0       3   \n",
        "869          870         1       3   \n",
        "870          871         0       3   \n",
        "871          872         1       1   \n",
        "872          873         0       1   \n",
        "873          874         0       3   \n",
        "874          875         1       2   \n",
        "875          876         1       3   \n",
        "876          877         0       3   \n",
        "877          878         0       3   \n",
        "878          879         0       3   \n",
        "879          880         1       1   \n",
        "880          881         1       2   \n",
        "881          882         0       3   \n",
        "882          883         0       3   \n",
        "883          884         0       2   \n",
        "884          885         0       3   \n",
        "885          886         0       3   \n",
        "886          887         0       2   \n",
        "887          888         1       1   \n",
        "888          889         0       3   \n",
        "889          890         1       1   \n",
        "890          891         0       3   \n",
        "\n",
        "                                                  Name     Sex  Age  SibSp  \\\n",
        "0                              Braund, Mr. Owen Harris    male   22      1   \n",
        "1    Cumings, Mrs. John Bradley (Florence Briggs Th...  female   38      1   \n",
        "2                               Heikkinen, Miss. Laina  female   26      0   \n",
        "3         Futrelle, Mrs. Jacques Heath (Lily May Peel)  female   35      1   \n",
        "4                             Allen, Mr. William Henry    male   35      0   \n",
        "5                                     Moran, Mr. James    male  NaN      0   \n",
        "6                              McCarthy, Mr. Timothy J    male   54      0   \n",
        "7                       Palsson, Master. Gosta Leonard    male    2      3   \n",
        "8    Johnson, Mrs. Oscar W (Elisabeth Vilhelmina Berg)  female   27      0   \n",
        "9                  Nasser, Mrs. Nicholas (Adele Achem)  female   14      1   \n",
        "10                     Sandstrom, Miss. Marguerite Rut  female    4      1   \n",
        "11                            Bonnell, Miss. Elizabeth  female   58      0   \n",
        "12                      Saundercock, Mr. William Henry    male   20      0   \n",
        "13                         Andersson, Mr. Anders Johan    male   39      1   \n",
        "14                Vestrom, Miss. Hulda Amanda Adolfina  female   14      0   \n",
        "15                    Hewlett, Mrs. (Mary D Kingcome)   female   55      0   \n",
        "16                                Rice, Master. Eugene    male    2      4   \n",
        "17                        Williams, Mr. Charles Eugene    male  NaN      0   \n",
        "18   Vander Planke, Mrs. Julius (Emelia Maria Vande...  female   31      1   \n",
        "19                             Masselmani, Mrs. Fatima  female  NaN      0   \n",
        "20                                Fynney, Mr. Joseph J    male   35      0   \n",
        "21                               Beesley, Mr. Lawrence    male   34      0   \n",
        "22                         McGowan, Miss. Anna \"Annie\"  female   15      0   \n",
        "23                        Sloper, Mr. William Thompson    male   28      0   \n",
        "24                       Palsson, Miss. Torborg Danira  female    8      3   \n",
        "25   Asplund, Mrs. Carl Oscar (Selma Augusta Emilia...  female   38      1   \n",
        "26                             Emir, Mr. Farred Chehab    male  NaN      0   \n",
        "27                      Fortune, Mr. Charles Alexander    male   19      3   \n",
        "28                       O'Dwyer, Miss. Ellen \"Nellie\"  female  NaN      0   \n",
        "29                                 Todoroff, Mr. Lalio    male  NaN      0   \n",
        "..                                                 ...     ...  ...    ...   \n",
        "861                        Giles, Mr. Frederick Edward    male   21      1   \n",
        "862  Swift, Mrs. Frederick Joel (Margaret Welles Ba...  female   48      0   \n",
        "863                  Sage, Miss. Dorothy Edith \"Dolly\"  female  NaN      8   \n",
        "864                             Gill, Mr. John William    male   24      0   \n",
        "865                           Bystrom, Mrs. (Karolina)  female   42      0   \n",
        "866                       Duran y More, Miss. Asuncion  female   27      1   \n",
        "867               Roebling, Mr. Washington Augustus II    male   31      0   \n",
        "868                        van Melkebeke, Mr. Philemon    male  NaN      0   \n",
        "869                    Johnson, Master. Harold Theodor    male    4      1   \n",
        "870                                  Balkic, Mr. Cerin    male   26      0   \n",
        "871   Beckwith, Mrs. Richard Leonard (Sallie Monypeny)  female   47      1   \n",
        "872                           Carlsson, Mr. Frans Olof    male   33      0   \n",
        "873                        Vander Cruyssen, Mr. Victor    male   47      0   \n",
        "874              Abelson, Mrs. Samuel (Hannah Wizosky)  female   28      1   \n",
        "875                   Najib, Miss. Adele Kiamie \"Jane\"  female   15      0   \n",
        "876                      Gustafsson, Mr. Alfred Ossian    male   20      0   \n",
        "877                               Petroff, Mr. Nedelio    male   19      0   \n",
        "878                                 Laleff, Mr. Kristo    male  NaN      0   \n",
        "879      Potter, Mrs. Thomas Jr (Lily Alexenia Wilson)  female   56      0   \n",
        "880       Shelley, Mrs. William (Imanita Parrish Hall)  female   25      0   \n",
        "881                                 Markun, Mr. Johann    male   33      0   \n",
        "882                       Dahlberg, Miss. Gerda Ulrika  female   22      0   \n",
        "883                      Banfield, Mr. Frederick James    male   28      0   \n",
        "884                             Sutehall, Mr. Henry Jr    male   25      0   \n",
        "885               Rice, Mrs. William (Margaret Norton)  female   39      0   \n",
        "886                              Montvila, Rev. Juozas    male   27      0   \n",
        "887                       Graham, Miss. Margaret Edith  female   19      0   \n",
        "888           Johnston, Miss. Catherine Helen \"Carrie\"  female  NaN      1   \n",
        "889                              Behr, Mr. Karl Howell    male   26      0   \n",
        "890                                Dooley, Mr. Patrick    male   32      0   \n",
        "\n",
        "     Parch            Ticket      Fare        Cabin Embarked  \n",
        "0        0         A/5 21171    7.2500          NaN        S  \n",
        "1        0          PC 17599   71.2833          C85        C  \n",
        "2        0  STON/O2. 3101282    7.9250          NaN        S  \n",
        "3        0            113803   53.1000         C123        S  \n",
        "4        0            373450    8.0500          NaN        S  \n",
        "5        0            330877    8.4583          NaN        Q  \n",
        "6        0             17463   51.8625          E46        S  \n",
        "7        1            349909   21.0750          NaN        S  \n",
        "8        2            347742   11.1333          NaN        S  \n",
        "9        0            237736   30.0708          NaN        C  \n",
        "10       1           PP 9549   16.7000           G6        S  \n",
        "11       0            113783   26.5500         C103        S  \n",
        "12       0         A/5. 2151    8.0500          NaN        S  \n",
        "13       5            347082   31.2750          NaN        S  \n",
        "14       0            350406    7.8542          NaN        S  \n",
        "15       0            248706   16.0000          NaN        S  \n",
        "16       1            382652   29.1250          NaN        Q  \n",
        "17       0            244373   13.0000          NaN        S  \n",
        "18       0            345763   18.0000          NaN        S  \n",
        "19       0              2649    7.2250          NaN        C  \n",
        "20       0            239865   26.0000          NaN        S  \n",
        "21       0            248698   13.0000          D56        S  \n",
        "22       0            330923    8.0292          NaN        Q  \n",
        "23       0            113788   35.5000           A6        S  \n",
        "24       1            349909   21.0750          NaN        S  \n",
        "25       5            347077   31.3875          NaN        S  \n",
        "26       0              2631    7.2250          NaN        C  \n",
        "27       2             19950  263.0000  C23 C25 C27        S  \n",
        "28       0            330959    7.8792          NaN        Q  \n",
        "29       0            349216    7.8958          NaN        S  \n",
        "..     ...               ...       ...          ...      ...  \n",
        "861      0             28134   11.5000          NaN        S  \n",
        "862      0             17466   25.9292          D17        S  \n",
        "863      2          CA. 2343   69.5500          NaN        S  \n",
        "864      0            233866   13.0000          NaN        S  \n",
        "865      0            236852   13.0000          NaN        S  \n",
        "866      0     SC/PARIS 2149   13.8583          NaN        C  \n",
        "867      0          PC 17590   50.4958          A24        S  \n",
        "868      0            345777    9.5000          NaN        S  \n",
        "869      1            347742   11.1333          NaN        S  \n",
        "870      0            349248    7.8958          NaN        S  \n",
        "871      1             11751   52.5542          D35        S  \n",
        "872      0               695    5.0000  B51 B53 B55        S  \n",
        "873      0            345765    9.0000          NaN        S  \n",
        "874      0         P/PP 3381   24.0000          NaN        C  \n",
        "875      0              2667    7.2250          NaN        C  \n",
        "876      0              7534    9.8458          NaN        S  \n",
        "877      0            349212    7.8958          NaN        S  \n",
        "878      0            349217    7.8958          NaN        S  \n",
        "879      1             11767   83.1583          C50        C  \n",
        "880      1            230433   26.0000          NaN        S  \n",
        "881      0            349257    7.8958          NaN        S  \n",
        "882      0              7552   10.5167          NaN        S  \n",
        "883      0  C.A./SOTON 34068   10.5000          NaN        S  \n",
        "884      0   SOTON/OQ 392076    7.0500          NaN        S  \n",
        "885      5            382652   29.1250          NaN        Q  \n",
        "886      0            211536   13.0000          NaN        S  \n",
        "887      0            112053   30.0000          B42        S  \n",
        "888      2        W./C. 6607   23.4500          NaN        S  \n",
        "889      0            111369   30.0000         C148        C  \n",
        "890      0            370376    7.7500          NaN        Q  \n",
        "\n",
        "[891 rows x 12 columns]"
       ]
      }
     ],
     "prompt_number": 9
    },
    {
     "cell_type": "code",
     "collapsed": false,
     "input": [
      "# deal with missing values (omitting ticket & cabin from consideration)\n",
      "df = df.drop(['Ticket','Cabin'],axis=1)\n",
      "#df = df.dropna() #remove NaN values\n",
      "# also drop the passengerID\n",
      "df = df.drop(['PassengerId'],axis=1)"
     ],
     "language": "python",
     "metadata": {},
     "outputs": [],
     "prompt_number": 10
    },
    {
     "cell_type": "code",
     "collapsed": false,
     "input": [
      "%pylab inline"
     ],
     "language": "python",
     "metadata": {},
     "outputs": [
      {
       "output_type": "stream",
       "stream": "stdout",
       "text": [
        "Populating the interactive namespace from numpy and matplotlib\n"
       ]
      }
     ],
     "prompt_number": 12
    },
    {
     "cell_type": "code",
     "collapsed": false,
     "input": [
      "# Examine how many are missing in each column\n",
      "for c in df.columns:\n",
      "    print \"For column {0}, there are {1} missing items.\".format(c, sum(df[c].isnull()))"
     ],
     "language": "python",
     "metadata": {},
     "outputs": [
      {
       "output_type": "stream",
       "stream": "stdout",
       "text": [
        "For column Survived, there are 0 missing items.\n",
        "For column Pclass, there are 0 missing items.\n",
        "For column Name, there are 0 missing items.\n",
        "For column Sex, there are 0 missing items.\n",
        "For column Age, there are 177 missing items.\n",
        "For column SibSp, there are 0 missing items.\n",
        "For column Parch, there are 0 missing items.\n",
        "For column Fare, there are 0 missing items.\n",
        "For column Embarked, there are 2 missing items.\n"
       ]
      }
     ],
     "prompt_number": 17
    },
    {
     "cell_type": "code",
     "collapsed": false,
     "input": [],
     "language": "python",
     "metadata": {},
     "outputs": []
    },
    {
     "cell_type": "heading",
     "level": 1,
     "metadata": {},
     "source": [
      "Look at the data graphically:"
     ]
    },
    {
     "cell_type": "code",
     "collapsed": false,
     "input": [
      "fig = figure(figsize(18,6),dpi=1600) \n",
      "a = 0.2\n",
      "a_bar= 0.55\n",
      "subplot2grid((2,3),(0,0))\n",
      "df.Survived.value_counts().plot(kind='bar',alpha=a_bar)\n",
      "title(\"Distribution of Survival, (1=Survived)\")\n",
      "\n",
      "subplot2grid((2,3),(0,1))\n",
      "scatter(df.Survived, df.Age, alpha=a)\n",
      "ylabel(\"Age\")                         # sets the y axis lable\n",
      "grid(b=True, which='major', axis='y') # formats the grid line style of our graphs\n",
      "title(\"Survial by Age,  (1 = Survived)\")\n",
      "\n",
      "subplot2grid((2,3),(0,2))\n",
      "df.Pclass.value_counts().plot(kind=\"barh\", alpha=a_bar)\n",
      "title(\"Class Distribution\")\n",
      "\n",
      "subplot2grid((2,3),(1,0), colspan=2)\n",
      "missingAge = df.Age.isnull()\n",
      "df[~missingAge].Age[df.Pclass == 1].plot(kind='kde')\n",
      "df[~missingAge].Age[df.Pclass == 2].plot(kind='kde')\n",
      "df[~missingAge].Age[df.Pclass == 3].plot(kind='kde')\n",
      "#df.Age[df.Pclass == 1].plot(kind='kde')   # plots a kernel desnsity estimate of the subset of the 1st class passanges's age\n",
      "#df.Age[df.Pclass == 2].plot(kind='kde')\n",
      "#df.Age[df.Pclass == 3].plot(kind='kde')\n",
      "xlabel(\"Age\")                         # plots an axis lable\n",
      "title(\"Age Distribution within classes\"); legend(('1st Class', '2nd Class','3rd Class'),loc='best') # sets our legend for our graph.\n",
      "\n",
      "subplot2grid((2,3),(1,2))\n",
      "df.Embarked.value_counts().plot(kind='bar', alpha=a_bar)\n",
      "title(\"Passengers per boarding location\");\n"
     ],
     "language": "python",
     "metadata": {},
     "outputs": [
      {
       "metadata": {},
       "output_type": "display_data",
       "png": "[encoded data removed]",
       "text": [
        "<matplotlib.figure.Figure at 0x1794ed68>"
       ]
      }
     ],
     "prompt_number": 19
    },
    {
     "cell_type": "heading",
     "level": 2,
     "metadata": {},
     "source": [
      "Exploratory Visualization:"
     ]
    },
    {
     "cell_type": "raw",
     "metadata": {},
     "source": [
      "The point of this competition is to predict if an individual will survive based on the features in the data like:\n",
      "* Traveling Class (pclass)\n",
      "* Sex\n",
      "* Age\n",
      "* Fare Price\n",
      "\n",
      "Look more closely at who survived and who died.\n",
      "\n",
      "First plot of those who survived vs those who did not."
     ]
    },
    {
     "cell_type": "code",
     "collapsed": false,
     "input": [
      "figure(figsize(6,4))\n",
      "df.Survived.value_counts().plot(kind='barh', color=\"blue\", alpha=.65)\n",
      "title(\"Survival Breakdown (1= survived, 0 = Died)\")"
     ],
     "language": "python",
     "metadata": {},
     "outputs": [
      {
       "metadata": {},
       "output_type": "pyout",
       "prompt_number": 20,
       "text": [
        "<matplotlib.text.Text at 0x170b17b8>"
       ]
      },
      {
       "metadata": {},
       "output_type": "display_data",
       "png": "[encoded data removed]",
       "text": [
        "<matplotlib.figure.Figure at 0x171670b8>"
       ]
      }
     ],
     "prompt_number": 20
    },
    {
     "cell_type": "heading",
     "level": 2,
     "metadata": {},
     "source": [
      "TEASE more structure out of the data:\n",
      "1. Breakdown by gender"
     ]
    },
    {
     "cell_type": "code",
     "collapsed": false,
     "input": [
      "fig = figure(figsize=(18,6))\n",
      "\n",
      "#create a plot of two subsets, male and female, of the survived variable.\n",
      "#After we do that we call value_counts() so it can be easily plotted as a bar graph. \n",
      "#'barh' is just a horizontal bar graph\n",
      "fig.add_subplot(121)\n",
      "df.Survived[df.Sex == 'male'].value_counts().plot(kind='barh',label='Male')\n",
      "df.Survived[df.Sex == 'female'].value_counts().plot(kind='barh', color='#FA2379',label='Female')\n",
      "title(\"Who Survied? with respect to Gender, (raw value counts) \"); legend(loc='best')\n",
      "\n",
      "#adjust graph to display the proportions of survival by gender\n",
      "fig.add_subplot(122)\n",
      "(df.Survived[df.Sex == 'male'].value_counts()/float(df.Sex[df.Sex == 'male'].size)).plot(kind='barh',label='Male')  \n",
      "(df.Survived[df.Sex == 'female'].value_counts()/float(df.Sex[df.Sex == 'female'].size)).plot(kind='barh', color='#FA2379',label='Female')\n",
      "title(\"Who Survied proportionally? with respect to Gender\"); legend(loc='best')"
     ],
     "language": "python",
     "metadata": {},
     "outputs": [
      {
       "metadata": {},
       "output_type": "pyout",
       "prompt_number": 22,
       "text": [
        "<matplotlib.legend.Legend at 0x187d2a58>"
       ]
      },
      {
       "metadata": {},
       "output_type": "display_data",
       "png": "[encoded data removed]",
       "text": [
        "<matplotlib.figure.Figure at 0x1793ef98>"
       ]
      }
     ],
     "prompt_number": 22
    },
    {
     "cell_type": "markdown",
     "metadata": {},
     "source": [
      "##Great! But let\u2019s go down even further:\n",
      "\n",
      "Can we capture more of the structure by using plass? Here we will bucket classes as lowest class or any of the high classes (classes 1 - 2). 3 is lowest class. Let\u2019s break it down by Gender and what Class they were traveling in."
     ]
    },
    {
     "cell_type": "code",
     "collapsed": false,
     "input": [
      "fig=plt.figure(figsize=(18,4), dpi=1600)\n",
      "a=.65 # our alpha or opacity level.\n",
      "\n",
      "\n",
      "# building on the previous code, here we create an additional subset with in the gender subset we created for the survived variable. \n",
      "# I know, thats a lot of subsets. After we do that we call value_counts() so it it can be easily plotted as a bar graph. \n",
      "# this is repeated for each gender class pair.\n",
      "ax1=fig.add_subplot(141)\n",
      "df.survived[df.sex == 'female'][df.pclass != 3].value_counts().plot(kind='bar', label='female highclass', color='#FA2479', alpha=a)\n",
      "ax1.set_xticklabels([\"Survived\", \"Died\"], rotation=0)\n",
      "title(\"Who Survied? with respect to Gender and Class\"); legend(loc='best')\n",
      "\n",
      "ax2=fig.add_subplot(142, sharey=ax1)\n",
      "df.survived[df.sex == 'female'][df.pclass == 3].value_counts().plot(kind='bar', label='female, low class', color='pink', alpha=a)\n",
      "ax2.set_xticklabels([\"Died\",\"Survived\"], rotation=0)\n",
      "legend(loc='best')\n",
      "\n",
      "ax3=fig.add_subplot(143, sharey=ax1)\n",
      "df.survived[df.sex == 'male'][df.pclass == 3].value_counts().plot(kind='bar', label='male, low class',color='lightblue', alpha=a)\n",
      "ax3.set_xticklabels([\"Died\",\"Survived\"], rotation=0)\n",
      "legend(loc='best')\n",
      "\n",
      "ax4=fig.add_subplot(144, sharey=ax1)\n",
      "df.survived[df.sex == 'male'][df.pclass != 3].value_counts().plot(kind='bar', label='male highclass', alpha=a, color='steelblue')\n",
      "ax4.set_xticklabels([\"Died\",\"Survived\"], rotation=0)\n",
      "legend(loc='best')"
     ],
     "language": "python",
     "metadata": {},
     "outputs": [
      {
       "metadata": {},
       "output_type": "pyout",
       "prompt_number": 15,
       "text": [
        "<matplotlib.legend.Legend at 0x8aaeeb0>"
       ]
      },
      {
       "metadata": {},
       "output_type": "display_data",
       "png": "[encoded data removed]"
      }
     ],
     "prompt_number": 15
    },
    {
     "cell_type": "raw",
     "metadata": {},
     "source": [
      "Awesome! Now we have a lot more information on who survived and died in the tragedy. With this deeper understanding, we are better equipped to create better more insightful models. This is a typical process in interactive data analysis. First you start small and understand the most basic relationships and slowly increment the complexity of your analysis as you discover more and more about the data you\u2019re working with. Below is the progression of process laid out together:"
     ]
    },
    {
     "cell_type": "code",
     "collapsed": false,
     "input": [
      "fig=plt.figure(figsize(18,12), dpi=1600)\n",
      "a=0.65\n",
      "# Step 1\n",
      "fig.add_subplot(341)\n",
      "df.survived.value_counts().plot(kind='bar', color=\"blue\", alpha=a)\n",
      "title(\"Step. 1\")\n",
      "\n",
      "# Step 2\n",
      "fig.add_subplot(345)\n",
      "df.survived[df.sex == 'male'].value_counts().plot(kind='bar',label='Male')\n",
      "df.survived[df.sex == 'female'].value_counts().plot(kind='bar', color='#FA2379',label='Female')\n",
      "title(\"Step. 2 \\nWho Survied? with respect to Gender.\"); legend(loc='best')\n",
      "\n",
      "fig.add_subplot(346)\n",
      "(df.survived[df.sex == 'male'].value_counts()/float(df.sex[df.sex == 'male'].size)).plot(kind='bar',label='Male')\n",
      "(df.survived[df.sex == 'female'].value_counts()/float(df.sex[df.sex == 'female'].size)).plot(kind='bar', color='#FA2379',label='Female')\n",
      "title(\"Who Survied proportionally?\"); legend(loc='best')\n",
      "\n",
      "\n",
      "#Step 3\n",
      "ax1=fig.add_subplot(349)\n",
      "df.survived[df.sex == 'female'][df.pclass != 3].value_counts().plot(kind='bar', label='female highclass', color='#FA2479', alpha=a)\n",
      "ax1.set_xticklabels([\"Survived\", \"Died\"], rotation=0)\n",
      "title(\"Step. 3\"); legend(loc='best')\n",
      "\n",
      "\n",
      "ax2=fig.add_subplot(3,4,10, sharey=ax1)\n",
      "df.survived[df.sex=='female'][df.pclass==3].value_counts().plot(kind='bar', label='female, low class', color='pink', alpha=a)\n",
      "ax2.set_xticklabels([\"Died\",\"Survived\"], rotation=0)\n",
      "legend(loc='best')\n",
      "\n",
      "ax3=fig.add_subplot(3,4,11, sharey=ax1)\n",
      "df.survived[df.sex == 'male'][df.pclass == 3].value_counts().plot(kind='bar', label='male, low class',color='lightblue', alpha=a)\n",
      "ax3.set_xticklabels([\"Died\",\"Survived\"], rotation=0)\n",
      "legend(loc='best')\n",
      "\n",
      "ax4=fig.add_subplot(3,4,12, sharey=ax1)\n",
      "df.survived[df.sex == 'male'][df.pclass != 3].value_counts().plot(kind='bar', label='male highclass', alpha=a, color='steelblue')\n",
      "ax4.set_xticklabels([\"Died\",\"Survived\"], rotation=0)\n",
      "legend(loc='best')"
     ],
     "language": "python",
     "metadata": {},
     "outputs": [
      {
       "metadata": {},
       "output_type": "pyout",
       "prompt_number": 16,
       "text": [
        "<matplotlib.legend.Legend at 0x97dba70>"
       ]
      },
      {
       "metadata": {},
       "output_type": "display_data",
       "png": "[encoded data removed]"
      }
     ],
     "prompt_number": 16
    },
    {
     "cell_type": "raw",
     "metadata": {},
     "source": [
      "Now that we have a basic understanding of what we are trying to predict, let\u2019s predict it."
     ]
    },
    {
     "cell_type": "heading",
     "level": 1,
     "metadata": {},
     "source": [
      "Supervised Machine Learning"
     ]
    },
    {
     "cell_type": "heading",
     "level": 2,
     "metadata": {},
     "source": [
      "Logistic Regression:"
     ]
    },
    {
     "cell_type": "raw",
     "metadata": {},
     "source": [
      "A logistic regression follows the all steps we took above but mathematically calculates the cutoff, or decision boundary (as stats nerds call it), for you. This way it can figure out the best cut off to choose, perhaps 50% or 51.84%, that most accurately represents the training data.\n",
      "\n",
      "The three cells below show the process of creating our Logitist regression model, training it on the data, and examining its performance.\n",
      "\n",
      "First, we define our formula for our Logit regression. In the next cell we create a regression friendly dataframe that sets up boolean values for the categorical variables in our formula and lets our regression model know the types of inputs we're giving it. The model is then instantiated and fitted before a summary of the model's performance is printed. In the last cell we graphically compare the predictions of our model to the actual values we are trying to predict, as well as the residual errors from our model to check for any structure we may have missed."
     ]
    },
    {
     "cell_type": "code",
     "collapsed": false,
     "input": [
      "# model formula\n",
      "formula = 'survived ~ C(pclass) + C(sex) + age + sibsp + C(embarked)' # here the ~ sign is an = sign, and the features of our dataset\n",
      "                                                                      # are written as a formula to predict survived. The C() lets our \n",
      "                                                                      # regression know that those variables are categorical.\n",
      "results = {} # create a results dictionary to hold our regression results for easy analysis later\n"
     ],
     "language": "python",
     "metadata": {},
     "outputs": [],
     "prompt_number": 18
    },
    {
     "cell_type": "code",
     "collapsed": false,
     "input": [
      "# create a regression freindly dataframe using patsy's dmatrices function\n",
      "y,x = dmatrices(formula, data=df, return_type='dataframe')\n",
      "\n",
      "# instantiate our model\n",
      "model = sm.Logit(y,x)\n",
      "\n",
      "# fit our model to the training data\n",
      "res = model.fit()\n",
      "\n",
      "# save the result for outputing predictions later\n",
      "results['Logit'] = [res, formula]\n",
      "res.summary()"
     ],
     "language": "python",
     "metadata": {},
     "outputs": [
      {
       "output_type": "stream",
       "stream": "stdout",
       "text": [
        "Optimization terminated successfully.\n",
        "         Current function value: 316.404460\n",
        "         Iterations 6\n"
       ]
      },
      {
       "html": [
        "<table class=\"simpletable\">\n",
        "<caption>Logit Regression Results</caption>\n",
        "<tr>\n",
        "  <th>Dep. Variable:</th>     <td>survived</td>     <th>  No. Observations:  </th>  <td>   712</td>  \n",
        "</tr>\n",
        "<tr>\n",
        "  <th>Model:</th>               <td>Logit</td>      <th>  Df Residuals:      </th>  <td>   704</td>  \n",
        "</tr>\n",
        "<tr>\n",
        "  <th>Method:</th>               <td>MLE</td>       <th>  Df Model:          </th>  <td>     7</td>  \n",
        "</tr>\n",
        "<tr>\n",
        "  <th>Date:</th>          <td>Wed, 17 Jul 2013</td> <th>  Pseudo R-squ.:     </th>  <td>0.3414</td>  \n",
        "</tr>\n",
        "<tr>\n",
        "  <th>Time:</th>              <td>10:49:40</td>     <th>  Log-Likelihood:    </th> <td> -316.40</td> \n",
        "</tr>\n",
        "<tr>\n",
        "  <th>converged:</th>           <td>True</td>       <th>  LL-Null:           </th> <td> -480.45</td> \n",
        "</tr>\n",
        "<tr>\n",
        "  <th> </th>                      <td> </td>        <th>  LLR p-value:       </th> <td>5.992e-67</td>\n",
        "</tr>\n",
        "</table>\n",
        "<table class=\"simpletable\">\n",
        "<tr>\n",
        "          <td></td>            <th>coef</th>     <th>std err</th>      <th>z</th>      <th>P>|z|</th> <th>[95.0% Conf. Int.]</th> \n",
        "</tr>\n",
        "<tr>\n",
        "  <th>Intercept</th>        <td>    4.5423</td> <td>    0.474</td> <td>    9.583</td> <td> 0.000</td> <td>    3.613     5.471</td>\n",
        "</tr>\n",
        "<tr>\n",
        "  <th>C(pclass)[T.2]</th>   <td>   -1.2673</td> <td>    0.299</td> <td>   -4.245</td> <td> 0.000</td> <td>   -1.852    -0.682</td>\n",
        "</tr>\n",
        "<tr>\n",
        "  <th>C(pclass)[T.3]</th>   <td>   -2.4966</td> <td>    0.296</td> <td>   -8.422</td> <td> 0.000</td> <td>   -3.078    -1.916</td>\n",
        "</tr>\n",
        "<tr>\n",
        "  <th>C(sex)[T.male]</th>   <td>   -2.6239</td> <td>    0.218</td> <td>  -12.060</td> <td> 0.000</td> <td>   -3.050    -2.197</td>\n",
        "</tr>\n",
        "<tr>\n",
        "  <th>C(embarked)[T.Q]</th> <td>   -0.8351</td> <td>    0.597</td> <td>   -1.398</td> <td> 0.162</td> <td>   -2.006     0.335</td>\n",
        "</tr>\n",
        "<tr>\n",
        "  <th>C(embarked)[T.S]</th> <td>   -0.4254</td> <td>    0.271</td> <td>   -1.572</td> <td> 0.116</td> <td>   -0.956     0.105</td>\n",
        "</tr>\n",
        "<tr>\n",
        "  <th>age</th>              <td>   -0.0436</td> <td>    0.008</td> <td>   -5.264</td> <td> 0.000</td> <td>   -0.060    -0.027</td>\n",
        "</tr>\n",
        "<tr>\n",
        "  <th>sibsp</th>            <td>   -0.3697</td> <td>    0.123</td> <td>   -3.004</td> <td> 0.003</td> <td>   -0.611    -0.129</td>\n",
        "</tr>\n",
        "</table>"
       ],
       "metadata": {},
       "output_type": "pyout",
       "prompt_number": 19,
       "text": [
        "<class 'statsmodels.iolib.summary.Summary'>\n",
        "\"\"\"\n",
        "                           Logit Regression Results                           \n",
        "==============================================================================\n",
        "Dep. Variable:               survived   No. Observations:                  712\n",
        "Model:                          Logit   Df Residuals:                      704\n",
        "Method:                           MLE   Df Model:                            7\n",
        "Date:                Wed, 17 Jul 2013   Pseudo R-squ.:                  0.3414\n",
        "Time:                        10:49:40   Log-Likelihood:                -316.40\n",
        "converged:                       True   LL-Null:                       -480.45\n",
        "                                        LLR p-value:                 5.992e-67\n",
        "====================================================================================\n",
        "                       coef    std err          z      P>|z|      [95.0% Conf. Int.]\n",
        "------------------------------------------------------------------------------------\n",
        "Intercept            4.5423      0.474      9.583      0.000         3.613     5.471\n",
        "C(pclass)[T.2]      -1.2673      0.299     -4.245      0.000        -1.852    -0.682\n",
        "C(pclass)[T.3]      -2.4966      0.296     -8.422      0.000        -3.078    -1.916\n",
        "C(sex)[T.male]      -2.6239      0.218    -12.060      0.000        -3.050    -2.197\n",
        "C(embarked)[T.Q]    -0.8351      0.597     -1.398      0.162        -2.006     0.335\n",
        "C(embarked)[T.S]    -0.4254      0.271     -1.572      0.116        -0.956     0.105\n",
        "age                 -0.0436      0.008     -5.264      0.000        -0.060    -0.027\n",
        "sibsp               -0.3697      0.123     -3.004      0.003        -0.611    -0.129\n",
        "====================================================================================\n",
        "\"\"\""
       ]
      }
     ],
     "prompt_number": 19
    },
    {
     "cell_type": "code",
     "collapsed": false,
     "input": [
      "# Plot Predictions Vs Actual\n",
      "plt.figure(figsize(18,4));\n",
      "plt.subplot(121, axisbg=\"#DBDBDB\")\n",
      "# generate predictions from our fitted model\n",
      "ypred = res.predict(x)\n",
      "plt.plot(x.index, ypred, 'bo', x.index, y, 'mo', alpha=.25);\n",
      "plt.grid(color='white', linestyle='dashed')\n",
      "plt.title('Logit predictions, Blue: \\nFitted/predicted values: Red');\n",
      "\n",
      "# Residuals\n",
      "plt.subplot(122, axisbg=\"#DBDBDB\")\n",
      "plt.plot(res.resid, 'r-')\n",
      "plt.grid(color='white', linestyle='dashed')\n",
      "plt.title('Logit Residuals');"
     ],
     "language": "python",
     "metadata": {},
     "outputs": [
      {
       "metadata": {},
       "output_type": "display_data",
       "png": "[encoded data removed]"
      }
     ],
     "prompt_number": 20
    },
    {
     "cell_type": "heading",
     "level": 2,
     "metadata": {},
     "source": [
      "So how well did this work? "
     ]
    },
    {
     "cell_type": "heading",
     "level": 3,
     "metadata": {},
     "source": [
      "Lets look at the predictions we generated graphically:"
     ]
    },
    {
     "cell_type": "code",
     "collapsed": false,
     "input": [
      "fig = plt.figure(figsize(18,9), dpi=1600)\n",
      "a = .2\n",
      "\n",
      "# Below are examples of more advanced plotting. \n",
      "# It it looks strange check out the tutorial above.\n",
      "fig.add_subplot(221, axisbg=\"#DBDBDB\")\n",
      "kde_res = KDE(res.predict())\n",
      "kde_res.fit()\n",
      "plt.plot(kde_res.support,kde_res.density)\n",
      "plt.fill_between(kde_res.support,kde_res.density, alpha=a)\n",
      "title(\"Distribution of our Predictions\")\n",
      "\n",
      "fig.add_subplot(222, axisbg=\"#DBDBDB\")\n",
      "plt.scatter(res.predict(),x['C(sex)[T.male]'] , alpha=a)\n",
      "plt.grid(b=True, which='major', axis='x')\n",
      "plt.xlabel(\"Predicted chance of survival\")\n",
      "plt.ylabel(\"Gender Bool\")\n",
      "title(\"The Chance of Survival Probability by Gender (1 = Male)\")\n",
      "\n",
      "fig.add_subplot(223, axisbg=\"#DBDBDB\")\n",
      "plt.scatter(res.predict(),x['C(pclass)[T.3]'] , alpha=a)\n",
      "plt.xlabel(\"Predicted chance of survival\")\n",
      "plt.ylabel(\"Class Bool\")\n",
      "plt.grid(b=True, which='major', axis='x')\n",
      "title(\"The Chance of Survival Probability by Lower Class (1 = 3rd Class)\")\n",
      "\n",
      "fig.add_subplot(224, axisbg=\"#DBDBDB\")\n",
      "plt.scatter(res.predict(),x.age , alpha=a)\n",
      "plt.grid(True, linewidth=0.15)\n",
      "title(\"The Chance of Survival Probability by Age\")\n",
      "plt.xlabel(\"Predicted chance of survival\")\n",
      "plt.ylabel(\"Age\")"
     ],
     "language": "python",
     "metadata": {},
     "outputs": [
      {
       "metadata": {},
       "output_type": "pyout",
       "prompt_number": 22,
       "text": [
        "<matplotlib.text.Text at 0xa03d950>"
       ]
      },
      {
       "metadata": {},
       "output_type": "display_data",
       "png": "[encoded data removed]"
      }
     ],
     "prompt_number": 22
    },
    {
     "cell_type": "heading",
     "level": 3,
     "metadata": {},
     "source": [
      "Now Lest use our model to predict the test set values and then save the results \n",
      "\n",
      "Read the test data"
     ]
    },
    {
     "cell_type": "code",
     "collapsed": false,
     "input": [
      "test_data = pd.read_csv(\"../../../../data/kaggle/titantic/test.csv\")"
     ],
     "language": "python",
     "metadata": {},
     "outputs": [],
     "prompt_number": 24
    },
    {
     "cell_type": "code",
     "collapsed": false,
     "input": [
      "test_data"
     ],
     "language": "python",
     "metadata": {},
     "outputs": [
      {
       "html": [
        "<div style=\"max-height:1000px;max-width:1500px;overflow:auto;\">\n",
        "<table border=\"1\" class=\"dataframe\">\n",
        "  <thead>\n",
        "    <tr style=\"text-align: right;\">\n",
        "      <th></th>\n",
        "      <th>PassengerId</th>\n",
        "      <th>Pclass</th>\n",
        "      <th>Name</th>\n",
        "      <th>Sex</th>\n",
        "      <th>Age</th>\n",
        "      <th>SibSp</th>\n",
        "      <th>Parch</th>\n",
        "      <th>Ticket</th>\n",
        "      <th>Fare</th>\n",
        "      <th>Cabin</th>\n",
        "      <th>Embarked</th>\n",
        "    </tr>\n",
        "  </thead>\n",
        "  <tbody>\n",
        "    <tr>\n",
        "      <th>0  </th>\n",
        "      <td>  892</td>\n",
        "      <td> 3</td>\n",
        "      <td>                                  Kelly, Mr. James</td>\n",
        "      <td>   male</td>\n",
        "      <td> 34.5</td>\n",
        "      <td> 0</td>\n",
        "      <td> 0</td>\n",
        "      <td>             330911</td>\n",
        "      <td>   7.8292</td>\n",
        "      <td>             NaN</td>\n",
        "      <td> Q</td>\n",
        "    </tr>\n",
        "    <tr>\n",
        "      <th>1  </th>\n",
        "      <td>  893</td>\n",
        "      <td> 3</td>\n",
        "      <td>                  Wilkes, Mrs. James (Ellen Needs)</td>\n",
        "      <td> female</td>\n",
        "      <td> 47.0</td>\n",
        "      <td> 1</td>\n",
        "      <td> 0</td>\n",
        "      <td>             363272</td>\n",
        "      <td>   7.0000</td>\n",
        "      <td>             NaN</td>\n",
        "      <td> S</td>\n",
        "    </tr>\n",
        "    <tr>\n",
        "      <th>2  </th>\n",
        "      <td>  894</td>\n",
        "      <td> 2</td>\n",
        "      <td>                         Myles, Mr. Thomas Francis</td>\n",
        "      <td>   male</td>\n",
        "      <td> 62.0</td>\n",
        "      <td> 0</td>\n",
        "      <td> 0</td>\n",
        "      <td>             240276</td>\n",
        "      <td>   9.6875</td>\n",
        "      <td>             NaN</td>\n",
        "      <td> Q</td>\n",
        "    </tr>\n",
        "    <tr>\n",
        "      <th>3  </th>\n",
        "      <td>  895</td>\n",
        "      <td> 3</td>\n",
        "      <td>                                  Wirz, Mr. Albert</td>\n",
        "      <td>   male</td>\n",
        "      <td> 27.0</td>\n",
        "      <td> 0</td>\n",
        "      <td> 0</td>\n",
        "      <td>             315154</td>\n",
        "      <td>   8.6625</td>\n",
        "      <td>             NaN</td>\n",
        "      <td> S</td>\n",
        "    </tr>\n",
        "    <tr>\n",
        "      <th>4  </th>\n",
        "      <td>  896</td>\n",
        "      <td> 3</td>\n",
        "      <td>      Hirvonen, Mrs. Alexander (Helga E Lindqvist)</td>\n",
        "      <td> female</td>\n",
        "      <td> 22.0</td>\n",
        "      <td> 1</td>\n",
        "      <td> 1</td>\n",
        "      <td>            3101298</td>\n",
        "      <td>  12.2875</td>\n",
        "      <td>             NaN</td>\n",
        "      <td> S</td>\n",
        "    </tr>\n",
        "    <tr>\n",
        "      <th>5  </th>\n",
        "      <td>  897</td>\n",
        "      <td> 3</td>\n",
        "      <td>                        Svensson, Mr. Johan Cervin</td>\n",
        "      <td>   male</td>\n",
        "      <td> 14.0</td>\n",
        "      <td> 0</td>\n",
        "      <td> 0</td>\n",
        "      <td>               7538</td>\n",
        "      <td>   9.2250</td>\n",
        "      <td>             NaN</td>\n",
        "      <td> S</td>\n",
        "    </tr>\n",
        "    <tr>\n",
        "      <th>6  </th>\n",
        "      <td>  898</td>\n",
        "      <td> 3</td>\n",
        "      <td>                              Connolly, Miss. Kate</td>\n",
        "      <td> female</td>\n",
        "      <td> 30.0</td>\n",
        "      <td> 0</td>\n",
        "      <td> 0</td>\n",
        "      <td>             330972</td>\n",
        "      <td>   7.6292</td>\n",
        "      <td>             NaN</td>\n",
        "      <td> Q</td>\n",
        "    </tr>\n",
        "    <tr>\n",
        "      <th>7  </th>\n",
        "      <td>  899</td>\n",
        "      <td> 2</td>\n",
        "      <td>                      Caldwell, Mr. Albert Francis</td>\n",
        "      <td>   male</td>\n",
        "      <td> 26.0</td>\n",
        "      <td> 1</td>\n",
        "      <td> 1</td>\n",
        "      <td>             248738</td>\n",
        "      <td>  29.0000</td>\n",
        "      <td>             NaN</td>\n",
        "      <td> S</td>\n",
        "    </tr>\n",
        "    <tr>\n",
        "      <th>8  </th>\n",
        "      <td>  900</td>\n",
        "      <td> 3</td>\n",
        "      <td>         Abrahim, Mrs. Joseph (Sophie Halaut Easu)</td>\n",
        "      <td> female</td>\n",
        "      <td> 18.0</td>\n",
        "      <td> 0</td>\n",
        "      <td> 0</td>\n",
        "      <td>               2657</td>\n",
        "      <td>   7.2292</td>\n",
        "      <td>             NaN</td>\n",
        "      <td> C</td>\n",
        "    </tr>\n",
        "    <tr>\n",
        "      <th>9  </th>\n",
        "      <td>  901</td>\n",
        "      <td> 3</td>\n",
        "      <td>                           Davies, Mr. John Samuel</td>\n",
        "      <td>   male</td>\n",
        "      <td> 21.0</td>\n",
        "      <td> 2</td>\n",
        "      <td> 0</td>\n",
        "      <td>          A/4 48871</td>\n",
        "      <td>  24.1500</td>\n",
        "      <td>             NaN</td>\n",
        "      <td> S</td>\n",
        "    </tr>\n",
        "    <tr>\n",
        "      <th>10 </th>\n",
        "      <td>  902</td>\n",
        "      <td> 3</td>\n",
        "      <td>                                  Ilieff, Mr. Ylio</td>\n",
        "      <td>   male</td>\n",
        "      <td>  NaN</td>\n",
        "      <td> 0</td>\n",
        "      <td> 0</td>\n",
        "      <td>             349220</td>\n",
        "      <td>   7.8958</td>\n",
        "      <td>             NaN</td>\n",
        "      <td> S</td>\n",
        "    </tr>\n",
        "    <tr>\n",
        "      <th>11 </th>\n",
        "      <td>  903</td>\n",
        "      <td> 1</td>\n",
        "      <td>                        Jones, Mr. Charles Cresson</td>\n",
        "      <td>   male</td>\n",
        "      <td> 46.0</td>\n",
        "      <td> 0</td>\n",
        "      <td> 0</td>\n",
        "      <td>                694</td>\n",
        "      <td>  26.0000</td>\n",
        "      <td>             NaN</td>\n",
        "      <td> S</td>\n",
        "    </tr>\n",
        "    <tr>\n",
        "      <th>12 </th>\n",
        "      <td>  904</td>\n",
        "      <td> 1</td>\n",
        "      <td>     Snyder, Mrs. John Pillsbury (Nelle Stevenson)</td>\n",
        "      <td> female</td>\n",
        "      <td> 23.0</td>\n",
        "      <td> 1</td>\n",
        "      <td> 0</td>\n",
        "      <td>              21228</td>\n",
        "      <td>  82.2667</td>\n",
        "      <td>             B45</td>\n",
        "      <td> S</td>\n",
        "    </tr>\n",
        "    <tr>\n",
        "      <th>13 </th>\n",
        "      <td>  905</td>\n",
        "      <td> 2</td>\n",
        "      <td>                              Howard, Mr. Benjamin</td>\n",
        "      <td>   male</td>\n",
        "      <td> 63.0</td>\n",
        "      <td> 1</td>\n",
        "      <td> 0</td>\n",
        "      <td>              24065</td>\n",
        "      <td>  26.0000</td>\n",
        "      <td>             NaN</td>\n",
        "      <td> S</td>\n",
        "    </tr>\n",
        "    <tr>\n",
        "      <th>14 </th>\n",
        "      <td>  906</td>\n",
        "      <td> 1</td>\n",
        "      <td> Chaffee, Mrs. Herbert Fuller (Carrie Constance...</td>\n",
        "      <td> female</td>\n",
        "      <td> 47.0</td>\n",
        "      <td> 1</td>\n",
        "      <td> 0</td>\n",
        "      <td>        W.E.P. 5734</td>\n",
        "      <td>  61.1750</td>\n",
        "      <td>             E31</td>\n",
        "      <td> S</td>\n",
        "    </tr>\n",
        "    <tr>\n",
        "      <th>15 </th>\n",
        "      <td>  907</td>\n",
        "      <td> 2</td>\n",
        "      <td>     del Carlo, Mrs. Sebastiano (Argenia Genovesi)</td>\n",
        "      <td> female</td>\n",
        "      <td> 24.0</td>\n",
        "      <td> 1</td>\n",
        "      <td> 0</td>\n",
        "      <td>      SC/PARIS 2167</td>\n",
        "      <td>  27.7208</td>\n",
        "      <td>             NaN</td>\n",
        "      <td> C</td>\n",
        "    </tr>\n",
        "    <tr>\n",
        "      <th>16 </th>\n",
        "      <td>  908</td>\n",
        "      <td> 2</td>\n",
        "      <td>                                 Keane, Mr. Daniel</td>\n",
        "      <td>   male</td>\n",
        "      <td> 35.0</td>\n",
        "      <td> 0</td>\n",
        "      <td> 0</td>\n",
        "      <td>             233734</td>\n",
        "      <td>  12.3500</td>\n",
        "      <td>             NaN</td>\n",
        "      <td> Q</td>\n",
        "    </tr>\n",
        "    <tr>\n",
        "      <th>17 </th>\n",
        "      <td>  909</td>\n",
        "      <td> 3</td>\n",
        "      <td>                                 Assaf, Mr. Gerios</td>\n",
        "      <td>   male</td>\n",
        "      <td> 21.0</td>\n",
        "      <td> 0</td>\n",
        "      <td> 0</td>\n",
        "      <td>               2692</td>\n",
        "      <td>   7.2250</td>\n",
        "      <td>             NaN</td>\n",
        "      <td> C</td>\n",
        "    </tr>\n",
        "    <tr>\n",
        "      <th>18 </th>\n",
        "      <td>  910</td>\n",
        "      <td> 3</td>\n",
        "      <td>                      Ilmakangas, Miss. Ida Livija</td>\n",
        "      <td> female</td>\n",
        "      <td> 27.0</td>\n",
        "      <td> 1</td>\n",
        "      <td> 0</td>\n",
        "      <td>   STON/O2. 3101270</td>\n",
        "      <td>   7.9250</td>\n",
        "      <td>             NaN</td>\n",
        "      <td> S</td>\n",
        "    </tr>\n",
        "    <tr>\n",
        "      <th>19 </th>\n",
        "      <td>  911</td>\n",
        "      <td> 3</td>\n",
        "      <td>             Assaf Khalil, Mrs. Mariana (Miriam\")\"</td>\n",
        "      <td> female</td>\n",
        "      <td> 45.0</td>\n",
        "      <td> 0</td>\n",
        "      <td> 0</td>\n",
        "      <td>               2696</td>\n",
        "      <td>   7.2250</td>\n",
        "      <td>             NaN</td>\n",
        "      <td> C</td>\n",
        "    </tr>\n",
        "    <tr>\n",
        "      <th>20 </th>\n",
        "      <td>  912</td>\n",
        "      <td> 1</td>\n",
        "      <td>                            Rothschild, Mr. Martin</td>\n",
        "      <td>   male</td>\n",
        "      <td> 55.0</td>\n",
        "      <td> 1</td>\n",
        "      <td> 0</td>\n",
        "      <td>           PC 17603</td>\n",
        "      <td>  59.4000</td>\n",
        "      <td>             NaN</td>\n",
        "      <td> C</td>\n",
        "    </tr>\n",
        "    <tr>\n",
        "      <th>21 </th>\n",
        "      <td>  913</td>\n",
        "      <td> 3</td>\n",
        "      <td>                         Olsen, Master. Artur Karl</td>\n",
        "      <td>   male</td>\n",
        "      <td>  9.0</td>\n",
        "      <td> 0</td>\n",
        "      <td> 1</td>\n",
        "      <td>            C 17368</td>\n",
        "      <td>   3.1708</td>\n",
        "      <td>             NaN</td>\n",
        "      <td> S</td>\n",
        "    </tr>\n",
        "    <tr>\n",
        "      <th>22 </th>\n",
        "      <td>  914</td>\n",
        "      <td> 1</td>\n",
        "      <td>              Flegenheim, Mrs. Alfred (Antoinette)</td>\n",
        "      <td> female</td>\n",
        "      <td>  NaN</td>\n",
        "      <td> 0</td>\n",
        "      <td> 0</td>\n",
        "      <td>           PC 17598</td>\n",
        "      <td>  31.6833</td>\n",
        "      <td>             NaN</td>\n",
        "      <td> S</td>\n",
        "    </tr>\n",
        "    <tr>\n",
        "      <th>23 </th>\n",
        "      <td>  915</td>\n",
        "      <td> 1</td>\n",
        "      <td>                   Williams, Mr. Richard Norris II</td>\n",
        "      <td>   male</td>\n",
        "      <td> 21.0</td>\n",
        "      <td> 0</td>\n",
        "      <td> 1</td>\n",
        "      <td>           PC 17597</td>\n",
        "      <td>  61.3792</td>\n",
        "      <td>             NaN</td>\n",
        "      <td> C</td>\n",
        "    </tr>\n",
        "    <tr>\n",
        "      <th>24 </th>\n",
        "      <td>  916</td>\n",
        "      <td> 1</td>\n",
        "      <td>   Ryerson, Mrs. Arthur Larned (Emily Maria Borie)</td>\n",
        "      <td> female</td>\n",
        "      <td> 48.0</td>\n",
        "      <td> 1</td>\n",
        "      <td> 3</td>\n",
        "      <td>           PC 17608</td>\n",
        "      <td> 262.3750</td>\n",
        "      <td> B57 B59 B63 B66</td>\n",
        "      <td> C</td>\n",
        "    </tr>\n",
        "    <tr>\n",
        "      <th>25 </th>\n",
        "      <td>  917</td>\n",
        "      <td> 3</td>\n",
        "      <td>                           Robins, Mr. Alexander A</td>\n",
        "      <td>   male</td>\n",
        "      <td> 50.0</td>\n",
        "      <td> 1</td>\n",
        "      <td> 0</td>\n",
        "      <td>          A/5. 3337</td>\n",
        "      <td>  14.5000</td>\n",
        "      <td>             NaN</td>\n",
        "      <td> S</td>\n",
        "    </tr>\n",
        "    <tr>\n",
        "      <th>26 </th>\n",
        "      <td>  918</td>\n",
        "      <td> 1</td>\n",
        "      <td>                      Ostby, Miss. Helene Ragnhild</td>\n",
        "      <td> female</td>\n",
        "      <td> 22.0</td>\n",
        "      <td> 0</td>\n",
        "      <td> 1</td>\n",
        "      <td>             113509</td>\n",
        "      <td>  61.9792</td>\n",
        "      <td>             B36</td>\n",
        "      <td> C</td>\n",
        "    </tr>\n",
        "    <tr>\n",
        "      <th>27 </th>\n",
        "      <td>  919</td>\n",
        "      <td> 3</td>\n",
        "      <td>                                 Daher, Mr. Shedid</td>\n",
        "      <td>   male</td>\n",
        "      <td> 22.5</td>\n",
        "      <td> 0</td>\n",
        "      <td> 0</td>\n",
        "      <td>               2698</td>\n",
        "      <td>   7.2250</td>\n",
        "      <td>             NaN</td>\n",
        "      <td> C</td>\n",
        "    </tr>\n",
        "    <tr>\n",
        "      <th>28 </th>\n",
        "      <td>  920</td>\n",
        "      <td> 1</td>\n",
        "      <td>                           Brady, Mr. John Bertram</td>\n",
        "      <td>   male</td>\n",
        "      <td> 41.0</td>\n",
        "      <td> 0</td>\n",
        "      <td> 0</td>\n",
        "      <td>             113054</td>\n",
        "      <td>  30.5000</td>\n",
        "      <td>             A21</td>\n",
        "      <td> S</td>\n",
        "    </tr>\n",
        "    <tr>\n",
        "      <th>29 </th>\n",
        "      <td>  921</td>\n",
        "      <td> 3</td>\n",
        "      <td>                                 Samaan, Mr. Elias</td>\n",
        "      <td>   male</td>\n",
        "      <td>  NaN</td>\n",
        "      <td> 2</td>\n",
        "      <td> 0</td>\n",
        "      <td>               2662</td>\n",
        "      <td>  21.6792</td>\n",
        "      <td>             NaN</td>\n",
        "      <td> C</td>\n",
        "    </tr>\n",
        "    <tr>\n",
        "      <th>...</th>\n",
        "      <td>...</td>\n",
        "      <td>...</td>\n",
        "      <td>...</td>\n",
        "      <td>...</td>\n",
        "      <td>...</td>\n",
        "      <td>...</td>\n",
        "      <td>...</td>\n",
        "      <td>...</td>\n",
        "      <td>...</td>\n",
        "      <td>...</td>\n",
        "      <td>...</td>\n",
        "    </tr>\n",
        "    <tr>\n",
        "      <th>388</th>\n",
        "      <td> 1280</td>\n",
        "      <td> 3</td>\n",
        "      <td>                              Canavan, Mr. Patrick</td>\n",
        "      <td>   male</td>\n",
        "      <td> 21.0</td>\n",
        "      <td> 0</td>\n",
        "      <td> 0</td>\n",
        "      <td>             364858</td>\n",
        "      <td>   7.7500</td>\n",
        "      <td>             NaN</td>\n",
        "      <td> Q</td>\n",
        "    </tr>\n",
        "    <tr>\n",
        "      <th>389</th>\n",
        "      <td> 1281</td>\n",
        "      <td> 3</td>\n",
        "      <td>                       Palsson, Master. Paul Folke</td>\n",
        "      <td>   male</td>\n",
        "      <td>  6.0</td>\n",
        "      <td> 3</td>\n",
        "      <td> 1</td>\n",
        "      <td>             349909</td>\n",
        "      <td>  21.0750</td>\n",
        "      <td>             NaN</td>\n",
        "      <td> S</td>\n",
        "    </tr>\n",
        "    <tr>\n",
        "      <th>390</th>\n",
        "      <td> 1282</td>\n",
        "      <td> 1</td>\n",
        "      <td>                        Payne, Mr. Vivian Ponsonby</td>\n",
        "      <td>   male</td>\n",
        "      <td> 23.0</td>\n",
        "      <td> 0</td>\n",
        "      <td> 0</td>\n",
        "      <td>              12749</td>\n",
        "      <td>  93.5000</td>\n",
        "      <td>             B24</td>\n",
        "      <td> S</td>\n",
        "    </tr>\n",
        "    <tr>\n",
        "      <th>391</th>\n",
        "      <td> 1283</td>\n",
        "      <td> 1</td>\n",
        "      <td>    Lines, Mrs. Ernest H (Elizabeth Lindsey James)</td>\n",
        "      <td> female</td>\n",
        "      <td> 51.0</td>\n",
        "      <td> 0</td>\n",
        "      <td> 1</td>\n",
        "      <td>           PC 17592</td>\n",
        "      <td>  39.4000</td>\n",
        "      <td>             D28</td>\n",
        "      <td> S</td>\n",
        "    </tr>\n",
        "    <tr>\n",
        "      <th>392</th>\n",
        "      <td> 1284</td>\n",
        "      <td> 3</td>\n",
        "      <td>                     Abbott, Master. Eugene Joseph</td>\n",
        "      <td>   male</td>\n",
        "      <td> 13.0</td>\n",
        "      <td> 0</td>\n",
        "      <td> 2</td>\n",
        "      <td>          C.A. 2673</td>\n",
        "      <td>  20.2500</td>\n",
        "      <td>             NaN</td>\n",
        "      <td> S</td>\n",
        "    </tr>\n",
        "    <tr>\n",
        "      <th>393</th>\n",
        "      <td> 1285</td>\n",
        "      <td> 2</td>\n",
        "      <td>                              Gilbert, Mr. William</td>\n",
        "      <td>   male</td>\n",
        "      <td> 47.0</td>\n",
        "      <td> 0</td>\n",
        "      <td> 0</td>\n",
        "      <td>         C.A. 30769</td>\n",
        "      <td>  10.5000</td>\n",
        "      <td>             NaN</td>\n",
        "      <td> S</td>\n",
        "    </tr>\n",
        "    <tr>\n",
        "      <th>394</th>\n",
        "      <td> 1286</td>\n",
        "      <td> 3</td>\n",
        "      <td>                          Kink-Heilmann, Mr. Anton</td>\n",
        "      <td>   male</td>\n",
        "      <td> 29.0</td>\n",
        "      <td> 3</td>\n",
        "      <td> 1</td>\n",
        "      <td>             315153</td>\n",
        "      <td>  22.0250</td>\n",
        "      <td>             NaN</td>\n",
        "      <td> S</td>\n",
        "    </tr>\n",
        "    <tr>\n",
        "      <th>395</th>\n",
        "      <td> 1287</td>\n",
        "      <td> 1</td>\n",
        "      <td>    Smith, Mrs. Lucien Philip (Mary Eloise Hughes)</td>\n",
        "      <td> female</td>\n",
        "      <td> 18.0</td>\n",
        "      <td> 1</td>\n",
        "      <td> 0</td>\n",
        "      <td>              13695</td>\n",
        "      <td>  60.0000</td>\n",
        "      <td>             C31</td>\n",
        "      <td> S</td>\n",
        "    </tr>\n",
        "    <tr>\n",
        "      <th>396</th>\n",
        "      <td> 1288</td>\n",
        "      <td> 3</td>\n",
        "      <td>                              Colbert, Mr. Patrick</td>\n",
        "      <td>   male</td>\n",
        "      <td> 24.0</td>\n",
        "      <td> 0</td>\n",
        "      <td> 0</td>\n",
        "      <td>             371109</td>\n",
        "      <td>   7.2500</td>\n",
        "      <td>             NaN</td>\n",
        "      <td> Q</td>\n",
        "    </tr>\n",
        "    <tr>\n",
        "      <th>397</th>\n",
        "      <td> 1289</td>\n",
        "      <td> 1</td>\n",
        "      <td> Frolicher-Stehli, Mrs. Maxmillian (Margaretha ...</td>\n",
        "      <td> female</td>\n",
        "      <td> 48.0</td>\n",
        "      <td> 1</td>\n",
        "      <td> 1</td>\n",
        "      <td>              13567</td>\n",
        "      <td>  79.2000</td>\n",
        "      <td>             B41</td>\n",
        "      <td> C</td>\n",
        "    </tr>\n",
        "    <tr>\n",
        "      <th>398</th>\n",
        "      <td> 1290</td>\n",
        "      <td> 3</td>\n",
        "      <td>                    Larsson-Rondberg, Mr. Edvard A</td>\n",
        "      <td>   male</td>\n",
        "      <td> 22.0</td>\n",
        "      <td> 0</td>\n",
        "      <td> 0</td>\n",
        "      <td>             347065</td>\n",
        "      <td>   7.7750</td>\n",
        "      <td>             NaN</td>\n",
        "      <td> S</td>\n",
        "    </tr>\n",
        "    <tr>\n",
        "      <th>399</th>\n",
        "      <td> 1291</td>\n",
        "      <td> 3</td>\n",
        "      <td>                          Conlon, Mr. Thomas Henry</td>\n",
        "      <td>   male</td>\n",
        "      <td> 31.0</td>\n",
        "      <td> 0</td>\n",
        "      <td> 0</td>\n",
        "      <td>              21332</td>\n",
        "      <td>   7.7333</td>\n",
        "      <td>             NaN</td>\n",
        "      <td> Q</td>\n",
        "    </tr>\n",
        "    <tr>\n",
        "      <th>400</th>\n",
        "      <td> 1292</td>\n",
        "      <td> 1</td>\n",
        "      <td>                           Bonnell, Miss. Caroline</td>\n",
        "      <td> female</td>\n",
        "      <td> 30.0</td>\n",
        "      <td> 0</td>\n",
        "      <td> 0</td>\n",
        "      <td>              36928</td>\n",
        "      <td> 164.8667</td>\n",
        "      <td>              C7</td>\n",
        "      <td> S</td>\n",
        "    </tr>\n",
        "    <tr>\n",
        "      <th>401</th>\n",
        "      <td> 1293</td>\n",
        "      <td> 2</td>\n",
        "      <td>                                   Gale, Mr. Harry</td>\n",
        "      <td>   male</td>\n",
        "      <td> 38.0</td>\n",
        "      <td> 1</td>\n",
        "      <td> 0</td>\n",
        "      <td>              28664</td>\n",
        "      <td>  21.0000</td>\n",
        "      <td>             NaN</td>\n",
        "      <td> S</td>\n",
        "    </tr>\n",
        "    <tr>\n",
        "      <th>402</th>\n",
        "      <td> 1294</td>\n",
        "      <td> 1</td>\n",
        "      <td>                    Gibson, Miss. Dorothy Winifred</td>\n",
        "      <td> female</td>\n",
        "      <td> 22.0</td>\n",
        "      <td> 0</td>\n",
        "      <td> 1</td>\n",
        "      <td>             112378</td>\n",
        "      <td>  59.4000</td>\n",
        "      <td>             NaN</td>\n",
        "      <td> C</td>\n",
        "    </tr>\n",
        "    <tr>\n",
        "      <th>403</th>\n",
        "      <td> 1295</td>\n",
        "      <td> 1</td>\n",
        "      <td>                            Carrau, Mr. Jose Pedro</td>\n",
        "      <td>   male</td>\n",
        "      <td> 17.0</td>\n",
        "      <td> 0</td>\n",
        "      <td> 0</td>\n",
        "      <td>             113059</td>\n",
        "      <td>  47.1000</td>\n",
        "      <td>             NaN</td>\n",
        "      <td> S</td>\n",
        "    </tr>\n",
        "    <tr>\n",
        "      <th>404</th>\n",
        "      <td> 1296</td>\n",
        "      <td> 1</td>\n",
        "      <td>                      Frauenthal, Mr. Isaac Gerald</td>\n",
        "      <td>   male</td>\n",
        "      <td> 43.0</td>\n",
        "      <td> 1</td>\n",
        "      <td> 0</td>\n",
        "      <td>              17765</td>\n",
        "      <td>  27.7208</td>\n",
        "      <td>             D40</td>\n",
        "      <td> C</td>\n",
        "    </tr>\n",
        "    <tr>\n",
        "      <th>405</th>\n",
        "      <td> 1297</td>\n",
        "      <td> 2</td>\n",
        "      <td>      Nourney, Mr. Alfred (Baron von Drachstedt\")\"</td>\n",
        "      <td>   male</td>\n",
        "      <td> 20.0</td>\n",
        "      <td> 0</td>\n",
        "      <td> 0</td>\n",
        "      <td>      SC/PARIS 2166</td>\n",
        "      <td>  13.8625</td>\n",
        "      <td>             D38</td>\n",
        "      <td> C</td>\n",
        "    </tr>\n",
        "    <tr>\n",
        "      <th>406</th>\n",
        "      <td> 1298</td>\n",
        "      <td> 2</td>\n",
        "      <td>                         Ware, Mr. William Jeffery</td>\n",
        "      <td>   male</td>\n",
        "      <td> 23.0</td>\n",
        "      <td> 1</td>\n",
        "      <td> 0</td>\n",
        "      <td>              28666</td>\n",
        "      <td>  10.5000</td>\n",
        "      <td>             NaN</td>\n",
        "      <td> S</td>\n",
        "    </tr>\n",
        "    <tr>\n",
        "      <th>407</th>\n",
        "      <td> 1299</td>\n",
        "      <td> 1</td>\n",
        "      <td>                        Widener, Mr. George Dunton</td>\n",
        "      <td>   male</td>\n",
        "      <td> 50.0</td>\n",
        "      <td> 1</td>\n",
        "      <td> 1</td>\n",
        "      <td>             113503</td>\n",
        "      <td> 211.5000</td>\n",
        "      <td>             C80</td>\n",
        "      <td> C</td>\n",
        "    </tr>\n",
        "    <tr>\n",
        "      <th>408</th>\n",
        "      <td> 1300</td>\n",
        "      <td> 3</td>\n",
        "      <td>                   Riordan, Miss. Johanna Hannah\"\"</td>\n",
        "      <td> female</td>\n",
        "      <td>  NaN</td>\n",
        "      <td> 0</td>\n",
        "      <td> 0</td>\n",
        "      <td>             334915</td>\n",
        "      <td>   7.7208</td>\n",
        "      <td>             NaN</td>\n",
        "      <td> Q</td>\n",
        "    </tr>\n",
        "    <tr>\n",
        "      <th>409</th>\n",
        "      <td> 1301</td>\n",
        "      <td> 3</td>\n",
        "      <td>                         Peacock, Miss. Treasteall</td>\n",
        "      <td> female</td>\n",
        "      <td>  3.0</td>\n",
        "      <td> 1</td>\n",
        "      <td> 1</td>\n",
        "      <td> SOTON/O.Q. 3101315</td>\n",
        "      <td>  13.7750</td>\n",
        "      <td>             NaN</td>\n",
        "      <td> S</td>\n",
        "    </tr>\n",
        "    <tr>\n",
        "      <th>410</th>\n",
        "      <td> 1302</td>\n",
        "      <td> 3</td>\n",
        "      <td>                            Naughton, Miss. Hannah</td>\n",
        "      <td> female</td>\n",
        "      <td>  NaN</td>\n",
        "      <td> 0</td>\n",
        "      <td> 0</td>\n",
        "      <td>             365237</td>\n",
        "      <td>   7.7500</td>\n",
        "      <td>             NaN</td>\n",
        "      <td> Q</td>\n",
        "    </tr>\n",
        "    <tr>\n",
        "      <th>411</th>\n",
        "      <td> 1303</td>\n",
        "      <td> 1</td>\n",
        "      <td>   Minahan, Mrs. William Edward (Lillian E Thorpe)</td>\n",
        "      <td> female</td>\n",
        "      <td> 37.0</td>\n",
        "      <td> 1</td>\n",
        "      <td> 0</td>\n",
        "      <td>              19928</td>\n",
        "      <td>  90.0000</td>\n",
        "      <td>             C78</td>\n",
        "      <td> Q</td>\n",
        "    </tr>\n",
        "    <tr>\n",
        "      <th>412</th>\n",
        "      <td> 1304</td>\n",
        "      <td> 3</td>\n",
        "      <td>                    Henriksson, Miss. Jenny Lovisa</td>\n",
        "      <td> female</td>\n",
        "      <td> 28.0</td>\n",
        "      <td> 0</td>\n",
        "      <td> 0</td>\n",
        "      <td>             347086</td>\n",
        "      <td>   7.7750</td>\n",
        "      <td>             NaN</td>\n",
        "      <td> S</td>\n",
        "    </tr>\n",
        "    <tr>\n",
        "      <th>413</th>\n",
        "      <td> 1305</td>\n",
        "      <td> 3</td>\n",
        "      <td>                                Spector, Mr. Woolf</td>\n",
        "      <td>   male</td>\n",
        "      <td>  NaN</td>\n",
        "      <td> 0</td>\n",
        "      <td> 0</td>\n",
        "      <td>          A.5. 3236</td>\n",
        "      <td>   8.0500</td>\n",
        "      <td>             NaN</td>\n",
        "      <td> S</td>\n",
        "    </tr>\n",
        "    <tr>\n",
        "      <th>414</th>\n",
        "      <td> 1306</td>\n",
        "      <td> 1</td>\n",
        "      <td>                      Oliva y Ocana, Dona. Fermina</td>\n",
        "      <td> female</td>\n",
        "      <td> 39.0</td>\n",
        "      <td> 0</td>\n",
        "      <td> 0</td>\n",
        "      <td>           PC 17758</td>\n",
        "      <td> 108.9000</td>\n",
        "      <td>            C105</td>\n",
        "      <td> C</td>\n",
        "    </tr>\n",
        "    <tr>\n",
        "      <th>415</th>\n",
        "      <td> 1307</td>\n",
        "      <td> 3</td>\n",
        "      <td>                      Saether, Mr. Simon Sivertsen</td>\n",
        "      <td>   male</td>\n",
        "      <td> 38.5</td>\n",
        "      <td> 0</td>\n",
        "      <td> 0</td>\n",
        "      <td> SOTON/O.Q. 3101262</td>\n",
        "      <td>   7.2500</td>\n",
        "      <td>             NaN</td>\n",
        "      <td> S</td>\n",
        "    </tr>\n",
        "    <tr>\n",
        "      <th>416</th>\n",
        "      <td> 1308</td>\n",
        "      <td> 3</td>\n",
        "      <td>                               Ware, Mr. Frederick</td>\n",
        "      <td>   male</td>\n",
        "      <td>  NaN</td>\n",
        "      <td> 0</td>\n",
        "      <td> 0</td>\n",
        "      <td>             359309</td>\n",
        "      <td>   8.0500</td>\n",
        "      <td>             NaN</td>\n",
        "      <td> S</td>\n",
        "    </tr>\n",
        "    <tr>\n",
        "      <th>417</th>\n",
        "      <td> 1309</td>\n",
        "      <td> 3</td>\n",
        "      <td>                          Peter, Master. Michael J</td>\n",
        "      <td>   male</td>\n",
        "      <td>  NaN</td>\n",
        "      <td> 1</td>\n",
        "      <td> 1</td>\n",
        "      <td>               2668</td>\n",
        "      <td>  22.3583</td>\n",
        "      <td>             NaN</td>\n",
        "      <td> C</td>\n",
        "    </tr>\n",
        "  </tbody>\n",
        "</table>\n",
        "<p>418 rows \u00d7 11 columns</p>\n",
        "</div>"
       ],
       "metadata": {},
       "output_type": "pyout",
       "prompt_number": 25,
       "text": [
        "     PassengerId  Pclass                                               Name  \\\n",
        "0            892       3                                   Kelly, Mr. James   \n",
        "1            893       3                   Wilkes, Mrs. James (Ellen Needs)   \n",
        "2            894       2                          Myles, Mr. Thomas Francis   \n",
        "3            895       3                                   Wirz, Mr. Albert   \n",
        "4            896       3       Hirvonen, Mrs. Alexander (Helga E Lindqvist)   \n",
        "5            897       3                         Svensson, Mr. Johan Cervin   \n",
        "6            898       3                               Connolly, Miss. Kate   \n",
        "7            899       2                       Caldwell, Mr. Albert Francis   \n",
        "8            900       3          Abrahim, Mrs. Joseph (Sophie Halaut Easu)   \n",
        "9            901       3                            Davies, Mr. John Samuel   \n",
        "10           902       3                                   Ilieff, Mr. Ylio   \n",
        "11           903       1                         Jones, Mr. Charles Cresson   \n",
        "12           904       1      Snyder, Mrs. John Pillsbury (Nelle Stevenson)   \n",
        "13           905       2                               Howard, Mr. Benjamin   \n",
        "14           906       1  Chaffee, Mrs. Herbert Fuller (Carrie Constance...   \n",
        "15           907       2      del Carlo, Mrs. Sebastiano (Argenia Genovesi)   \n",
        "16           908       2                                  Keane, Mr. Daniel   \n",
        "17           909       3                                  Assaf, Mr. Gerios   \n",
        "18           910       3                       Ilmakangas, Miss. Ida Livija   \n",
        "19           911       3              Assaf Khalil, Mrs. Mariana (Miriam\")\"   \n",
        "20           912       1                             Rothschild, Mr. Martin   \n",
        "21           913       3                          Olsen, Master. Artur Karl   \n",
        "22           914       1               Flegenheim, Mrs. Alfred (Antoinette)   \n",
        "23           915       1                    Williams, Mr. Richard Norris II   \n",
        "24           916       1    Ryerson, Mrs. Arthur Larned (Emily Maria Borie)   \n",
        "25           917       3                            Robins, Mr. Alexander A   \n",
        "26           918       1                       Ostby, Miss. Helene Ragnhild   \n",
        "27           919       3                                  Daher, Mr. Shedid   \n",
        "28           920       1                            Brady, Mr. John Bertram   \n",
        "29           921       3                                  Samaan, Mr. Elias   \n",
        "..           ...     ...                                                ...   \n",
        "388         1280       3                               Canavan, Mr. Patrick   \n",
        "389         1281       3                        Palsson, Master. Paul Folke   \n",
        "390         1282       1                         Payne, Mr. Vivian Ponsonby   \n",
        "391         1283       1     Lines, Mrs. Ernest H (Elizabeth Lindsey James)   \n",
        "392         1284       3                      Abbott, Master. Eugene Joseph   \n",
        "393         1285       2                               Gilbert, Mr. William   \n",
        "394         1286       3                           Kink-Heilmann, Mr. Anton   \n",
        "395         1287       1     Smith, Mrs. Lucien Philip (Mary Eloise Hughes)   \n",
        "396         1288       3                               Colbert, Mr. Patrick   \n",
        "397         1289       1  Frolicher-Stehli, Mrs. Maxmillian (Margaretha ...   \n",
        "398         1290       3                     Larsson-Rondberg, Mr. Edvard A   \n",
        "399         1291       3                           Conlon, Mr. Thomas Henry   \n",
        "400         1292       1                            Bonnell, Miss. Caroline   \n",
        "401         1293       2                                    Gale, Mr. Harry   \n",
        "402         1294       1                     Gibson, Miss. Dorothy Winifred   \n",
        "403         1295       1                             Carrau, Mr. Jose Pedro   \n",
        "404         1296       1                       Frauenthal, Mr. Isaac Gerald   \n",
        "405         1297       2       Nourney, Mr. Alfred (Baron von Drachstedt\")\"   \n",
        "406         1298       2                          Ware, Mr. William Jeffery   \n",
        "407         1299       1                         Widener, Mr. George Dunton   \n",
        "408         1300       3                    Riordan, Miss. Johanna Hannah\"\"   \n",
        "409         1301       3                          Peacock, Miss. Treasteall   \n",
        "410         1302       3                             Naughton, Miss. Hannah   \n",
        "411         1303       1    Minahan, Mrs. William Edward (Lillian E Thorpe)   \n",
        "412         1304       3                     Henriksson, Miss. Jenny Lovisa   \n",
        "413         1305       3                                 Spector, Mr. Woolf   \n",
        "414         1306       1                       Oliva y Ocana, Dona. Fermina   \n",
        "415         1307       3                       Saether, Mr. Simon Sivertsen   \n",
        "416         1308       3                                Ware, Mr. Frederick   \n",
        "417         1309       3                           Peter, Master. Michael J   \n",
        "\n",
        "        Sex   Age  SibSp  Parch              Ticket      Fare  \\\n",
        "0      male  34.5      0      0              330911    7.8292   \n",
        "1    female  47.0      1      0              363272    7.0000   \n",
        "2      male  62.0      0      0              240276    9.6875   \n",
        "3      male  27.0      0      0              315154    8.6625   \n",
        "4    female  22.0      1      1             3101298   12.2875   \n",
        "5      male  14.0      0      0                7538    9.2250   \n",
        "6    female  30.0      0      0              330972    7.6292   \n",
        "7      male  26.0      1      1              248738   29.0000   \n",
        "8    female  18.0      0      0                2657    7.2292   \n",
        "9      male  21.0      2      0           A/4 48871   24.1500   \n",
        "10     male   NaN      0      0              349220    7.8958   \n",
        "11     male  46.0      0      0                 694   26.0000   \n",
        "12   female  23.0      1      0               21228   82.2667   \n",
        "13     male  63.0      1      0               24065   26.0000   \n",
        "14   female  47.0      1      0         W.E.P. 5734   61.1750   \n",
        "15   female  24.0      1      0       SC/PARIS 2167   27.7208   \n",
        "16     male  35.0      0      0              233734   12.3500   \n",
        "17     male  21.0      0      0                2692    7.2250   \n",
        "18   female  27.0      1      0    STON/O2. 3101270    7.9250   \n",
        "19   female  45.0      0      0                2696    7.2250   \n",
        "20     male  55.0      1      0            PC 17603   59.4000   \n",
        "21     male   9.0      0      1             C 17368    3.1708   \n",
        "22   female   NaN      0      0            PC 17598   31.6833   \n",
        "23     male  21.0      0      1            PC 17597   61.3792   \n",
        "24   female  48.0      1      3            PC 17608  262.3750   \n",
        "25     male  50.0      1      0           A/5. 3337   14.5000   \n",
        "26   female  22.0      0      1              113509   61.9792   \n",
        "27     male  22.5      0      0                2698    7.2250   \n",
        "28     male  41.0      0      0              113054   30.5000   \n",
        "29     male   NaN      2      0                2662   21.6792   \n",
        "..      ...   ...    ...    ...                 ...       ...   \n",
        "388    male  21.0      0      0              364858    7.7500   \n",
        "389    male   6.0      3      1              349909   21.0750   \n",
        "390    male  23.0      0      0               12749   93.5000   \n",
        "391  female  51.0      0      1            PC 17592   39.4000   \n",
        "392    male  13.0      0      2           C.A. 2673   20.2500   \n",
        "393    male  47.0      0      0          C.A. 30769   10.5000   \n",
        "394    male  29.0      3      1              315153   22.0250   \n",
        "395  female  18.0      1      0               13695   60.0000   \n",
        "396    male  24.0      0      0              371109    7.2500   \n",
        "397  female  48.0      1      1               13567   79.2000   \n",
        "398    male  22.0      0      0              347065    7.7750   \n",
        "399    male  31.0      0      0               21332    7.7333   \n",
        "400  female  30.0      0      0               36928  164.8667   \n",
        "401    male  38.0      1      0               28664   21.0000   \n",
        "402  female  22.0      0      1              112378   59.4000   \n",
        "403    male  17.0      0      0              113059   47.1000   \n",
        "404    male  43.0      1      0               17765   27.7208   \n",
        "405    male  20.0      0      0       SC/PARIS 2166   13.8625   \n",
        "406    male  23.0      1      0               28666   10.5000   \n",
        "407    male  50.0      1      1              113503  211.5000   \n",
        "408  female   NaN      0      0              334915    7.7208   \n",
        "409  female   3.0      1      1  SOTON/O.Q. 3101315   13.7750   \n",
        "410  female   NaN      0      0              365237    7.7500   \n",
        "411  female  37.0      1      0               19928   90.0000   \n",
        "412  female  28.0      0      0              347086    7.7750   \n",
        "413    male   NaN      0      0           A.5. 3236    8.0500   \n",
        "414  female  39.0      0      0            PC 17758  108.9000   \n",
        "415    male  38.5      0      0  SOTON/O.Q. 3101262    7.2500   \n",
        "416    male   NaN      0      0              359309    8.0500   \n",
        "417    male   NaN      1      1                2668   22.3583   \n",
        "\n",
        "               Cabin Embarked  \n",
        "0                NaN        Q  \n",
        "1                NaN        S  \n",
        "2                NaN        Q  \n",
        "3                NaN        S  \n",
        "4                NaN        S  \n",
        "5                NaN        S  \n",
        "6                NaN        Q  \n",
        "7                NaN        S  \n",
        "8                NaN        C  \n",
        "9                NaN        S  \n",
        "10               NaN        S  \n",
        "11               NaN        S  \n",
        "12               B45        S  \n",
        "13               NaN        S  \n",
        "14               E31        S  \n",
        "15               NaN        C  \n",
        "16               NaN        Q  \n",
        "17               NaN        C  \n",
        "18               NaN        S  \n",
        "19               NaN        C  \n",
        "20               NaN        C  \n",
        "21               NaN        S  \n",
        "22               NaN        S  \n",
        "23               NaN        C  \n",
        "24   B57 B59 B63 B66        C  \n",
        "25               NaN        S  \n",
        "26               B36        C  \n",
        "27               NaN        C  \n",
        "28               A21        S  \n",
        "29               NaN        C  \n",
        "..               ...      ...  \n",
        "388              NaN        Q  \n",
        "389              NaN        S  \n",
        "390              B24        S  \n",
        "391              D28        S  \n",
        "392              NaN        S  \n",
        "393              NaN        S  \n",
        "394              NaN        S  \n",
        "395              C31        S  \n",
        "396              NaN        Q  \n",
        "397              B41        C  \n",
        "398              NaN        S  \n",
        "399              NaN        Q  \n",
        "400               C7        S  \n",
        "401              NaN        S  \n",
        "402              NaN        C  \n",
        "403              NaN        S  \n",
        "404              D40        C  \n",
        "405              D38        C  \n",
        "406              NaN        S  \n",
        "407              C80        C  \n",
        "408              NaN        Q  \n",
        "409              NaN        S  \n",
        "410              NaN        Q  \n",
        "411              C78        Q  \n",
        "412              NaN        S  \n",
        "413              NaN        S  \n",
        "414             C105        C  \n",
        "415              NaN        S  \n",
        "416              NaN        S  \n",
        "417              NaN        C  \n",
        "\n",
        "[418 rows x 11 columns]"
       ]
      }
     ],
     "prompt_number": 25
    },
    {
     "cell_type": "code",
     "collapsed": false,
     "input": [
      "# drop the passengerId, Ticket and Cabin columns\n",
      "test_data = test_data.drop(['PassengerId','Ticket','Cabin'],axis=1)\n",
      "for c in test_data.columns:\n",
      "    print \"For column {0} , there are {1} missing items.\".format(c,sum(test_data[c].isnull()))"
     ],
     "language": "python",
     "metadata": {},
     "outputs": [
      {
       "output_type": "stream",
       "stream": "stdout",
       "text": [
        "For column Pclass , there are 0 missing items.\n",
        "For column Name , there are 0 missing items.\n",
        "For column Sex , there are 0 missing items.\n",
        "For column Age , there are 86 missing items.\n",
        "For column SibSp , there are 0 missing items.\n",
        "For column Parch , there are 0 missing items.\n",
        "For column Fare , there are 1 missing items.\n",
        "For column Embarked , there are 0 missing items.\n"
       ]
      }
     ],
     "prompt_number": 26
    },
    {
     "cell_type": "code",
     "collapsed": false,
     "input": [
      "test_data['survived'] = 1.23 # add the independent variable to the test data"
     ],
     "language": "python",
     "metadata": {},
     "outputs": [],
     "prompt_number": 25
    },
    {
     "cell_type": "code",
     "collapsed": false,
     "input": [
      "results #our binned results data"
     ],
     "language": "python",
     "metadata": {},
     "outputs": [
      {
       "metadata": {},
       "output_type": "pyout",
       "prompt_number": 26,
       "text": [
        "{'Logit': [<statsmodels.discrete.discrete_model.BinaryResultsWrapper at 0x830a2d0>,\n",
        "  'survived ~ C(pclass) + C(sex) + age + sibsp + C(embarked)']}"
       ]
      }
     ],
     "prompt_number": 26
    },
    {
     "cell_type": "code",
     "collapsed": false,
     "input": [
      "compared_results = ka.predict(test_data, results, 'Logit') # use your model to make predictions to the test set\n",
      "\n",
      "compared_results = Series(compared_results)  #convert to a pandas Series"
     ],
     "language": "python",
     "metadata": {},
     "outputs": [],
     "prompt_number": 28
    },
    {
     "cell_type": "code",
     "collapsed": false,
     "input": [
      "compared_results.to_csv(\"../../../data/kaggle/titantic/logitregres.csv\")"
     ],
     "language": "python",
     "metadata": {},
     "outputs": [],
     "prompt_number": 29
    },
    {
     "cell_type": "heading",
     "level": 1,
     "metadata": {},
     "source": [
      "Random Forest"
     ]
    },
    {
     "cell_type": "heading",
     "level": 2,
     "metadata": {},
     "source": [
      "RF by AGC (not very good)"
     ]
    },
    {
     "cell_type": "code",
     "collapsed": false,
     "input": [
      "# Create an acceptable formula for our machine learning algorithms\n",
      "formula_ml = 'survived ~ C(pclass) + C(sex) + age + sibsp + parch + C(embarked)'"
     ],
     "language": "python",
     "metadata": {},
     "outputs": [],
     "prompt_number": 31
    },
    {
     "cell_type": "code",
     "collapsed": false,
     "input": [
      "# import the machine learning library that holds the randomforest\n",
      "import sklearn.ensemble as ske\n",
      "\n",
      "# Create the random forest model and fit the model to our training data\n",
      "y, x = dmatrices(formula_ml, data=df, return_type='dataframe')\n",
      "\n",
      "#instantiate and fit our model\n",
      "results_rf = ske.RandomForestClassifier(n_estimators=100).fit(x,y)\n",
      "\n",
      "# Score the results\n",
      "z = results_rf.score(x,y)\n",
      "print \"Mean accuracy of Random Forest Predictions on the data was: \" + str(z)"
     ],
     "language": "python",
     "metadata": {},
     "outputs": [
      {
       "output_type": "stream",
       "stream": "stdout",
       "text": [
        "Mean accuracy of Random Forest Predictions on the data was: 0.521730210832\n"
       ]
      }
     ],
     "prompt_number": 32
    },
    {
     "cell_type": "heading",
     "level": 2,
     "metadata": {},
     "source": [
      "RF from kaggle site (much better)"
     ]
    },
    {
     "cell_type": "heading",
     "level": 4,
     "metadata": {},
     "source": [
      "considers all input data as floats --> drop df.name columns"
     ]
    },
    {
     "cell_type": "code",
     "collapsed": false,
     "input": [
      "df.dtypes"
     ],
     "language": "python",
     "metadata": {},
     "outputs": [
      {
       "metadata": {},
       "output_type": "pyout",
       "prompt_number": 5,
       "text": [
        "survived      int64\n",
        "pclass        int64\n",
        "name         object\n",
        "sex          object\n",
        "age         float64\n",
        "sibsp         int64\n",
        "parch         int64\n",
        "fare        float64\n",
        "embarked     object\n",
        "dtype: object"
       ]
      }
     ],
     "prompt_number": 5
    },
    {
     "cell_type": "code",
     "collapsed": false,
     "input": [
      "from sklearn.ensemble import RandomForestClassifier\n",
      "import scipy\n",
      "import csv_io"
     ],
     "language": "python",
     "metadata": {},
     "outputs": [],
     "prompt_number": 6
    },
    {
     "cell_type": "code",
     "collapsed": false,
     "input": [
      "train = pd.read_csv(\"../../../data/kaggle/titantic/titanic_train.csv\")\n",
      "#realtest=csv_io.read_csv(\"../../../data/kaggle/titantic/titantic_test.csv\")"
     ],
     "language": "python",
     "metadata": {},
     "outputs": [],
     "prompt_number": 7
    },
    {
     "cell_type": "code",
     "collapsed": false,
     "input": [
      "train.dtypes"
     ],
     "language": "python",
     "metadata": {},
     "outputs": [
      {
       "metadata": {},
       "output_type": "pyout",
       "prompt_number": 8,
       "text": [
        "survived      int64\n",
        "pclass        int64\n",
        "name         object\n",
        "sex          object\n",
        "age         float64\n",
        "sibsp         int64\n",
        "parch         int64\n",
        "ticket       object\n",
        "fare        float64\n",
        "cabin        object\n",
        "embarked     object\n",
        "dtype: object"
       ]
      }
     ],
     "prompt_number": 8
    },
    {
     "cell_type": "code",
     "collapsed": false,
     "input": [
      "train.sex.value_counts()"
     ],
     "language": "python",
     "metadata": {},
     "outputs": [
      {
       "metadata": {},
       "output_type": "pyout",
       "prompt_number": 9,
       "text": [
        "male      577\n",
        "female    314\n",
        "dtype: int64"
       ]
      }
     ],
     "prompt_number": 9
    },
    {
     "cell_type": "code",
     "collapsed": false,
     "input": [
      "t2 = train"
     ],
     "language": "python",
     "metadata": {},
     "outputs": [],
     "prompt_number": 9
    },
    {
     "cell_type": "code",
     "collapsed": false,
     "input": [
      "#change male to 1, female to 2\n",
      "tmp = train['sex'] == 'male'\n",
      "t2.sex[tmp] = 1.0\n",
      "tmp2 = train['sex'] == 'female'\n",
      "t2.sex[tmp2] = 2.0"
     ],
     "language": "python",
     "metadata": {},
     "outputs": [],
     "prompt_number": 10
    },
    {
     "cell_type": "code",
     "collapsed": false,
     "input": [
      "t2.sex.value_counts()"
     ],
     "language": "python",
     "metadata": {},
     "outputs": [
      {
       "metadata": {},
       "output_type": "pyout",
       "prompt_number": 11,
       "text": [
        "1    577\n",
        "2    314\n",
        "dtype: int64"
       ]
      }
     ],
     "prompt_number": 11
    },
    {
     "cell_type": "code",
     "collapsed": false,
     "input": [
      "# convert strings to integers\n",
      "embtmp = train.embarked == 'C'\n",
      "t2.embarked[embtmp] = 0.0\n",
      "embtmp = train.embarked == 'S'\n",
      "t2.embarked[embtmp] = 1.0\n",
      "embtmp = train.embarked == 'Q'\n",
      "t2.embarked[embtmp] = 3.0"
     ],
     "language": "python",
     "metadata": {},
     "outputs": [],
     "prompt_number": 12
    },
    {
     "cell_type": "code",
     "collapsed": false,
     "input": [
      "#replace missing embarked with most common value.\n",
      "tmp = t2.embarked.isnull().nonzero()[0]\n",
      "t2.embarked[tmp] = round(np.mean(t2.embarked))"
     ],
     "language": "python",
     "metadata": {},
     "outputs": [],
     "prompt_number": 13
    },
    {
     "cell_type": "code",
     "collapsed": false,
     "input": [
      "t2.embarked.value_counts()"
     ],
     "language": "python",
     "metadata": {},
     "outputs": [
      {
       "metadata": {},
       "output_type": "pyout",
       "prompt_number": 14,
       "text": [
        "1    646\n",
        "0    168\n",
        "3     77\n",
        "dtype: int64"
       ]
      }
     ],
     "prompt_number": 14
    },
    {
     "cell_type": "code",
     "collapsed": false,
     "input": [
      "t2"
     ],
     "language": "python",
     "metadata": {},
     "outputs": [
      {
       "html": [
        "<pre>\n",
        "&ltclass 'pandas.core.frame.DataFrame'&gt\n",
        "Int64Index: 891 entries, 0 to 890\n",
        "Data columns (total 11 columns):\n",
        "survived    891  non-null values\n",
        "pclass      891  non-null values\n",
        "name        891  non-null values\n",
        "sex         891  non-null values\n",
        "age         714  non-null values\n",
        "sibsp       891  non-null values\n",
        "parch       891  non-null values\n",
        "ticket      891  non-null values\n",
        "fare        891  non-null values\n",
        "cabin       204  non-null values\n",
        "embarked    891  non-null values\n",
        "dtypes: float64(2), int64(4), object(5)\n",
        "</pre>"
       ],
       "metadata": {},
       "output_type": "pyout",
       "prompt_number": 15,
       "text": [
        "<class 'pandas.core.frame.DataFrame'>\n",
        "Int64Index: 891 entries, 0 to 890\n",
        "Data columns (total 11 columns):\n",
        "survived    891  non-null values\n",
        "pclass      891  non-null values\n",
        "name        891  non-null values\n",
        "sex         891  non-null values\n",
        "age         714  non-null values\n",
        "sibsp       891  non-null values\n",
        "parch       891  non-null values\n",
        "ticket      891  non-null values\n",
        "fare        891  non-null values\n",
        "cabin       204  non-null values\n",
        "embarked    891  non-null values\n",
        "dtypes: float64(2), int64(4), object(5)"
       ]
      }
     ],
     "prompt_number": 15
    },
    {
     "cell_type": "code",
     "collapsed": false,
     "input": [
      "# replace missing ages with median of ages\n",
      "tmp = t2.age.isnull().nonzero()[0]\n",
      "t2.age[tmp] = np.median(t2.age)"
     ],
     "language": "python",
     "metadata": {},
     "outputs": [],
     "prompt_number": 16
    },
    {
     "cell_type": "code",
     "collapsed": false,
     "input": [
      "# delete the cabin, name, and ticket columns (omit)\n",
      "t2.drop(['cabin','name','ticket'],axis=1)"
     ],
     "language": "python",
     "metadata": {},
     "outputs": [
      {
       "html": [
        "<pre>\n",
        "&ltclass 'pandas.core.frame.DataFrame'&gt\n",
        "Int64Index: 891 entries, 0 to 890\n",
        "Data columns (total 8 columns):\n",
        "survived    891  non-null values\n",
        "pclass      891  non-null values\n",
        "sex         891  non-null values\n",
        "age         891  non-null values\n",
        "sibsp       891  non-null values\n",
        "parch       891  non-null values\n",
        "fare        891  non-null values\n",
        "embarked    891  non-null values\n",
        "dtypes: float64(2), int64(4), object(2)\n",
        "</pre>"
       ],
       "metadata": {},
       "output_type": "pyout",
       "prompt_number": 17,
       "text": [
        "<class 'pandas.core.frame.DataFrame'>\n",
        "Int64Index: 891 entries, 0 to 890\n",
        "Data columns (total 8 columns):\n",
        "survived    891  non-null values\n",
        "pclass      891  non-null values\n",
        "sex         891  non-null values\n",
        "age         891  non-null values\n",
        "sibsp       891  non-null values\n",
        "parch       891  non-null values\n",
        "fare        891  non-null values\n",
        "embarked    891  non-null values\n",
        "dtypes: float64(2), int64(4), object(2)"
       ]
      }
     ],
     "prompt_number": 17
    },
    {
     "cell_type": "code",
     "collapsed": false,
     "input": [
      "# replace missing prices with the median price for that class \n",
      "medianfares = t2['fare'].groupby(t2['pclass']).median()\n",
      "medianfares"
     ],
     "language": "python",
     "metadata": {},
     "outputs": [
      {
       "metadata": {},
       "output_type": "pyout",
       "prompt_number": 18,
       "text": [
        "pclass\n",
        "1         60.2875\n",
        "2         14.2500\n",
        "3          8.0500\n",
        "dtype: float64"
       ]
      }
     ],
     "prompt_number": 18
    },
    {
     "cell_type": "code",
     "collapsed": false,
     "input": [
      "figure(figsize=(10,8))\n",
      "#subplot2grid((2,3),(1,0), colspan=2)\n",
      "t2.fare[t2.pclass == 1].plot(kind='kde')   # plots a kernel density estimate of the subset of the 1st class passanges's age\n",
      "t2.fare[t2.pclass == 2].plot(kind='kde')\n",
      "t2.fare[t2.pclass == 3].plot(kind='kde')\n",
      "xlabel(\"Fare\")                         # plots an axis lable\n",
      "title(\"Fare Distribution within classes\"); legend(('1st Class', '2nd Class','3rd Class'),loc='best') # sets our legend for our graph.\n"
     ],
     "language": "python",
     "metadata": {},
     "outputs": [
      {
       "metadata": {},
       "output_type": "pyout",
       "prompt_number": 26,
       "text": [
        "<matplotlib.legend.Legend at 0x85cc8b0>"
       ]
      },
      {
       "metadata": {},
       "output_type": "display_data",
       "png": "[encoded data removed]"
      }
     ],
     "prompt_number": 26
    },
    {
     "cell_type": "code",
     "collapsed": false,
     "input": [
      "#if (len(t2.fare.isnull().nonzero()[0]) > 0):\n",
      " #   #t2['fare'].groupby(t2['pclass']).mean()\n",
      "  #  missingfares = t2.fare.isnull().nonzero()[0]\n",
      "   # t2.fare[missingfares] = medianfares[t2[missingfares]['pclass']]"
     ],
     "language": "python",
     "metadata": {},
     "outputs": []
    },
    {
     "cell_type": "heading",
     "level": 4,
     "metadata": {},
     "source": [
      "Load in the test data"
     ]
    },
    {
     "cell_type": "code",
     "collapsed": false,
     "input": [
      "test = pd.read_csv('../../../data/kaggle/titantic/titanic_test.csv')"
     ],
     "language": "python",
     "metadata": {},
     "outputs": [],
     "prompt_number": 19
    },
    {
     "cell_type": "code",
     "collapsed": false,
     "input": [
      "test"
     ],
     "language": "python",
     "metadata": {},
     "outputs": [
      {
       "html": [
        "<pre>\n",
        "&ltclass 'pandas.core.frame.DataFrame'&gt\n",
        "Int64Index: 418 entries, 0 to 417\n",
        "Data columns (total 10 columns):\n",
        "pclass      418  non-null values\n",
        "name        418  non-null values\n",
        "sex         418  non-null values\n",
        "age         332  non-null values\n",
        "sibsp       418  non-null values\n",
        "parch       418  non-null values\n",
        "ticket      418  non-null values\n",
        "fare        417  non-null values\n",
        "cabin       91  non-null values\n",
        "embarked    418  non-null values\n",
        "dtypes: float64(2), int64(3), object(5)\n",
        "</pre>"
       ],
       "metadata": {},
       "output_type": "pyout",
       "prompt_number": 20,
       "text": [
        "<class 'pandas.core.frame.DataFrame'>\n",
        "Int64Index: 418 entries, 0 to 417\n",
        "Data columns (total 10 columns):\n",
        "pclass      418  non-null values\n",
        "name        418  non-null values\n",
        "sex         418  non-null values\n",
        "age         332  non-null values\n",
        "sibsp       418  non-null values\n",
        "parch       418  non-null values\n",
        "ticket      418  non-null values\n",
        "fare        417  non-null values\n",
        "cabin       91  non-null values\n",
        "embarked    418  non-null values\n",
        "dtypes: float64(2), int64(3), object(5)"
       ]
      }
     ],
     "prompt_number": 20
    },
    {
     "cell_type": "code",
     "collapsed": false,
     "input": [
      "#change male to 1, female to 2\n",
      "tmp = test['sex'] == 'male'\n",
      "test.sex[tmp] = 1.0\n",
      "tmp2 = test['sex'] == 'female'\n",
      "test.sex[tmp2] = 2.0\n",
      "# convert strings to integers\n",
      "embtmp = test.embarked == 'C'\n",
      "test.embarked[embtmp] = 0.0\n",
      "embtmp = test.embarked == 'S'\n",
      "test.embarked[embtmp] = 1.0\n",
      "embtmp = test.embarked == 'Q'\n",
      "test.embarked[embtmp] = 3.0"
     ],
     "language": "python",
     "metadata": {},
     "outputs": [],
     "prompt_number": 21
    },
    {
     "cell_type": "code",
     "collapsed": false,
     "input": [
      "test.sex.value_counts()"
     ],
     "language": "python",
     "metadata": {},
     "outputs": [
      {
       "metadata": {},
       "output_type": "pyout",
       "prompt_number": 35,
       "text": [
        "1    266\n",
        "2    152\n",
        "dtype: int64"
       ]
      }
     ],
     "prompt_number": 35
    },
    {
     "cell_type": "code",
     "collapsed": false,
     "input": [
      "test.embarked.isnull().nonzero()[0]\n",
      "# none are missing so don't fill."
     ],
     "language": "python",
     "metadata": {},
     "outputs": [
      {
       "metadata": {},
       "output_type": "pyout",
       "prompt_number": 22,
       "text": [
        "array([], dtype=int32)"
       ]
      }
     ],
     "prompt_number": 22
    },
    {
     "cell_type": "code",
     "collapsed": false,
     "input": [
      "np.median(test.age), np.median(t2.age) # compare median age for both test and train groups\n",
      "# replace missing ages with median of ages\n",
      "tmp = test.age.isnull().nonzero()[0]\n",
      "test.age[tmp] = np.median(test.age)"
     ],
     "language": "python",
     "metadata": {},
     "outputs": [],
     "prompt_number": 23
    },
    {
     "cell_type": "code",
     "collapsed": false,
     "input": [
      "test.drop(['name','ticket','cabin'],axis=1)"
     ],
     "language": "python",
     "metadata": {},
     "outputs": [
      {
       "html": [
        "<pre>\n",
        "&ltclass 'pandas.core.frame.DataFrame'&gt\n",
        "Int64Index: 418 entries, 0 to 417\n",
        "Data columns (total 7 columns):\n",
        "pclass      418  non-null values\n",
        "sex         418  non-null values\n",
        "age         418  non-null values\n",
        "sibsp       418  non-null values\n",
        "parch       418  non-null values\n",
        "fare        417  non-null values\n",
        "embarked    418  non-null values\n",
        "dtypes: float64(2), int64(3), object(2)\n",
        "</pre>"
       ],
       "metadata": {},
       "output_type": "pyout",
       "prompt_number": 24,
       "text": [
        "<class 'pandas.core.frame.DataFrame'>\n",
        "Int64Index: 418 entries, 0 to 417\n",
        "Data columns (total 7 columns):\n",
        "pclass      418  non-null values\n",
        "sex         418  non-null values\n",
        "age         418  non-null values\n",
        "sibsp       418  non-null values\n",
        "parch       418  non-null values\n",
        "fare        417  non-null values\n",
        "embarked    418  non-null values\n",
        "dtypes: float64(2), int64(3), object(2)"
       ]
      }
     ],
     "prompt_number": 24
    },
    {
     "cell_type": "code",
     "collapsed": false,
     "input": [
      "# replace missing prices with the median price for that class \n",
      "medianfares = t2['fare'].groupby(t2['pclass']).median()\n",
      "medianfares"
     ],
     "language": "python",
     "metadata": {},
     "outputs": [
      {
       "metadata": {},
       "output_type": "pyout",
       "prompt_number": 25,
       "text": [
        "pclass\n",
        "1         60.2875\n",
        "2         14.2500\n",
        "3          8.0500\n",
        "dtype: float64"
       ]
      }
     ],
     "prompt_number": 25
    },
    {
     "cell_type": "code",
     "collapsed": false,
     "input": [
      "missingfare = test['fare'].isnull().nonzero()[0]\n",
      "test.ix[missingfare]"
     ],
     "language": "python",
     "metadata": {},
     "outputs": [
      {
       "html": [
        "<pre>\n",
        "&ltclass 'pandas.core.frame.DataFrame'&gt\n",
        "Int64Index: 1 entries, 152 to 152\n",
        "Data columns (total 10 columns):\n",
        "pclass      1  non-null values\n",
        "name        1  non-null values\n",
        "sex         1  non-null values\n",
        "age         1  non-null values\n",
        "sibsp       1  non-null values\n",
        "parch       1  non-null values\n",
        "ticket      1  non-null values\n",
        "fare        0  non-null values\n",
        "cabin       0  non-null values\n",
        "embarked    1  non-null values\n",
        "dtypes: float64(2), int64(3), object(5)\n",
        "</pre>"
       ],
       "metadata": {},
       "output_type": "pyout",
       "prompt_number": 26,
       "text": [
        "     pclass                name sex   age  sibsp  parch ticket  fare cabin  \\\n",
        "152       3  Storey, Mr. Thomas   1  60.5      0      0   3701   NaN   NaN   \n",
        "\n",
        "    embarked  \n",
        "152        1  "
       ]
      }
     ],
     "prompt_number": 26
    },
    {
     "cell_type": "code",
     "collapsed": false,
     "input": [],
     "language": "python",
     "metadata": {},
     "outputs": [
      {
       "metadata": {},
       "output_type": "pyout",
       "prompt_number": 62,
       "text": [
        "152   NaN\n",
        "Name: fare, dtype: float64"
       ]
      }
     ],
     "prompt_number": 62
    },
    {
     "cell_type": "code",
     "collapsed": false,
     "input": [
      "mp = test.ix[missingfare]['pclass']\n",
      "medianfares[mp]\n",
      "test.fare[missingfare] = medianfares[mp]"
     ],
     "language": "python",
     "metadata": {},
     "outputs": [],
     "prompt_number": 27
    },
    {
     "cell_type": "code",
     "collapsed": false,
     "input": [
      "test.ix[missingfare][['fare','pclass']]"
     ],
     "language": "python",
     "metadata": {},
     "outputs": [
      {
       "html": [
        "<div style=\"max-height:1000px;max-width:1500px;overflow:auto;\">\n",
        "<table border=\"1\" class=\"dataframe\">\n",
        "  <thead>\n",
        "    <tr style=\"text-align: right;\">\n",
        "      <th></th>\n",
        "      <th>fare</th>\n",
        "      <th>pclass</th>\n",
        "    </tr>\n",
        "  </thead>\n",
        "  <tbody>\n",
        "    <tr>\n",
        "      <th>152</th>\n",
        "      <td> 8.05</td>\n",
        "      <td> 3</td>\n",
        "    </tr>\n",
        "  </tbody>\n",
        "</table>\n",
        "</div>"
       ],
       "metadata": {},
       "output_type": "pyout",
       "prompt_number": 64,
       "text": [
        "     fare  pclass\n",
        "152  8.05       3"
       ]
      }
     ],
     "prompt_number": 64
    },
    {
     "cell_type": "code",
     "collapsed": false,
     "input": [
      "figure(figsize=(10,8))\n",
      "#subplot2grid((2,3),(1,0), colspan=2)\n",
      "test.fare[test.pclass == 1].plot(kind='kde')   # plots a kernel desnsity estimate of the subset of the 1st class passanges's age\n",
      "test.fare[test.pclass == 2].plot(kind='kde')\n",
      "test.fare[test.pclass == 3].plot(kind='kde')\n",
      "xlabel(\"Fare\")                         # plots an axis lable\n",
      "title(\"Fare Distribution within classes\"); legend(('1st Class', '2nd Class','3rd Class'),loc='best') # sets our legend for our graph.\n",
      "#plt.fill_between(kde_res.support,kde_res.density, alpha=a)"
     ],
     "language": "python",
     "metadata": {},
     "outputs": [
      {
       "metadata": {},
       "output_type": "pyout",
       "prompt_number": 65,
       "text": [
        "<matplotlib.legend.Legend at 0x8a94ad0>"
       ]
      },
      {
       "metadata": {},
       "output_type": "display_data",
       "png": "[encoded data removed]"
      }
     ],
     "prompt_number": 65
    },
    {
     "cell_type": "code",
     "collapsed": false,
     "input": [
      "target = t2.survived.values\n",
      "target"
     ],
     "language": "python",
     "metadata": {},
     "outputs": [
      {
       "metadata": {},
       "output_type": "pyout",
       "prompt_number": 28,
       "text": [
        "array([0, 1, 1, 1, 0, 0, 0, 0, 1, 1, 1, 1, 0, 0, 0, 1, 0, 1, 0, 1, 0, 1, 1,\n",
        "       1, 0, 1, 0, 0, 1, 0, 0, 1, 1, 0, 0, 0, 1, 0, 0, 1, 0, 0, 0, 1, 1, 0,\n",
        "       0, 1, 0, 0, 0, 0, 1, 1, 0, 1, 1, 0, 1, 0, 0, 1, 0, 0, 0, 1, 1, 0, 1,\n",
        "       0, 0, 0, 0, 0, 1, 0, 0, 0, 1, 1, 0, 1, 1, 0, 1, 1, 0, 0, 1, 0, 0, 0,\n",
        "       0, 0, 0, 0, 0, 1, 1, 0, 0, 0, 0, 0, 0, 0, 1, 1, 0, 1, 0, 0, 0, 0, 0,\n",
        "       0, 0, 0, 0, 0, 0, 0, 0, 1, 0, 1, 0, 1, 1, 0, 0, 0, 0, 1, 0, 0, 1, 0,\n",
        "       0, 0, 0, 1, 1, 0, 0, 0, 1, 0, 0, 0, 0, 1, 0, 0, 0, 0, 1, 0, 0, 0, 0,\n",
        "       1, 0, 0, 0, 1, 1, 0, 0, 0, 0, 0, 1, 0, 0, 0, 0, 0, 0, 0, 0, 0, 0, 1,\n",
        "       1, 0, 1, 1, 0, 0, 1, 0, 1, 1, 1, 1, 0, 0, 1, 0, 0, 0, 0, 0, 1, 0, 0,\n",
        "       1, 1, 1, 0, 1, 0, 0, 0, 1, 1, 0, 1, 0, 1, 0, 0, 0, 1, 0, 1, 0, 0, 0,\n",
        "       1, 0, 0, 1, 0, 0, 0, 1, 0, 0, 0, 1, 0, 0, 0, 0, 0, 1, 1, 0, 0, 0, 0,\n",
        "       0, 0, 1, 1, 1, 1, 1, 0, 1, 0, 0, 0, 0, 0, 1, 1, 1, 0, 1, 1, 0, 1, 1,\n",
        "       0, 0, 0, 1, 0, 0, 0, 1, 0, 0, 1, 0, 1, 1, 1, 1, 0, 0, 0, 0, 0, 0, 1,\n",
        "       1, 1, 1, 0, 1, 0, 1, 1, 1, 0, 1, 1, 1, 0, 0, 0, 1, 1, 0, 1, 1, 0, 0,\n",
        "       1, 1, 0, 1, 0, 1, 1, 1, 1, 0, 0, 0, 1, 0, 0, 1, 1, 0, 1, 1, 0, 0, 0,\n",
        "       1, 1, 1, 1, 0, 0, 0, 0, 0, 0, 0, 1, 0, 1, 1, 0, 0, 0, 0, 0, 0, 1, 1,\n",
        "       1, 1, 1, 0, 0, 0, 0, 1, 1, 0, 0, 0, 1, 1, 0, 1, 0, 0, 0, 1, 0, 1, 1,\n",
        "       1, 0, 1, 1, 0, 0, 0, 0, 1, 1, 0, 0, 0, 0, 0, 0, 1, 0, 0, 0, 0, 1, 0,\n",
        "       1, 0, 1, 1, 0, 0, 0, 0, 0, 0, 0, 0, 1, 1, 0, 1, 1, 1, 1, 0, 0, 1, 0,\n",
        "       1, 0, 0, 1, 0, 0, 1, 1, 1, 1, 1, 1, 1, 0, 0, 0, 1, 0, 1, 0, 1, 1, 0,\n",
        "       1, 0, 0, 0, 0, 0, 0, 0, 0, 1, 0, 0, 1, 1, 0, 0, 0, 0, 0, 1, 0, 0, 0,\n",
        "       1, 1, 0, 1, 0, 0, 1, 0, 0, 0, 0, 0, 0, 1, 0, 0, 0, 0, 0, 0, 0, 1, 0,\n",
        "       1, 1, 0, 1, 1, 0, 1, 1, 0, 0, 1, 0, 1, 0, 1, 0, 0, 1, 0, 0, 1, 0, 0,\n",
        "       0, 1, 0, 0, 1, 0, 1, 0, 1, 0, 1, 1, 0, 0, 1, 0, 0, 1, 1, 0, 1, 1, 0,\n",
        "       0, 1, 1, 0, 1, 0, 1, 1, 0, 0, 0, 0, 0, 0, 0, 0, 0, 1, 1, 1, 1, 1, 0,\n",
        "       0, 1, 1, 0, 1, 1, 1, 0, 0, 0, 1, 0, 1, 0, 0, 0, 1, 0, 0, 0, 0, 1, 0,\n",
        "       0, 1, 1, 0, 0, 0, 1, 0, 0, 1, 1, 1, 0, 0, 1, 0, 0, 1, 0, 0, 1, 0, 0,\n",
        "       1, 1, 0, 0, 0, 0, 1, 0, 0, 1, 0, 1, 0, 0, 1, 0, 0, 0, 0, 0, 1, 0, 1,\n",
        "       1, 1, 0, 1, 0, 1, 0, 1, 0, 1, 0, 0, 0, 0, 0, 0, 1, 0, 0, 0, 1, 0, 0,\n",
        "       0, 0, 1, 1, 0, 0, 1, 0, 0, 0, 1, 0, 1, 0, 1, 0, 0, 0, 0, 0, 0, 0, 1,\n",
        "       1, 1, 1, 0, 0, 0, 0, 1, 0, 0, 1, 1, 0, 0, 0, 0, 1, 1, 1, 1, 1, 0, 1,\n",
        "       0, 0, 0, 1, 1, 0, 0, 1, 0, 0, 0, 1, 0, 1, 1, 0, 0, 1, 0, 0, 0, 0, 0,\n",
        "       0, 1, 0, 0, 1, 0, 1, 0, 1, 0, 0, 1, 0, 0, 1, 1, 0, 0, 1, 1, 0, 0, 0,\n",
        "       1, 0, 0, 1, 1, 0, 1, 0, 0, 0, 0, 0, 0, 0, 0, 1, 0, 0, 1, 0, 1, 1, 1,\n",
        "       0, 0, 0, 0, 1, 0, 1, 0, 0, 0, 0, 0, 0, 0, 1, 1, 0, 0, 0, 1, 1, 1, 1,\n",
        "       0, 0, 0, 0, 1, 0, 0, 0, 0, 0, 0, 0, 0, 0, 0, 1, 1, 0, 1, 0, 0, 0, 1,\n",
        "       1, 1, 1, 1, 0, 0, 0, 1, 0, 0, 1, 1, 0, 0, 1, 0, 0, 0, 0, 0, 0, 1, 0,\n",
        "       0, 0, 1, 0, 1, 1, 1, 1, 0, 0, 0, 1, 0, 0, 1, 1, 0, 0, 1, 0, 1, 0, 0,\n",
        "       1, 1, 0, 0, 0, 1, 1, 0, 0, 0, 0, 0, 0, 1, 0, 1, 0], dtype=int64)"
       ]
      }
     ],
     "prompt_number": 28
    },
    {
     "cell_type": "code",
     "collapsed": false,
     "input": [
      "train = t2.drop(['survived','name','ticket','cabin'],axis=1).values\n",
      "print train.shape\n",
      "train"
     ],
     "language": "python",
     "metadata": {},
     "outputs": [
      {
       "output_type": "stream",
       "stream": "stdout",
       "text": [
        "(891, 7)\n"
       ]
      },
      {
       "metadata": {},
       "output_type": "pyout",
       "prompt_number": 37,
       "text": [
        "array([[3L, 1.0, 22.0, ..., 0L, 7.25, 1.0],\n",
        "       [1L, 2.0, 38.0, ..., 0L, 71.2833, 0.0],\n",
        "       [3L, 2.0, 26.0, ..., 0L, 7.925, 1.0],\n",
        "       ..., \n",
        "       [3L, 2.0, 32.0, ..., 2L, 23.45, 1.0],\n",
        "       [1L, 1.0, 26.0, ..., 0L, 30.0, 0.0],\n",
        "       [3L, 1.0, 32.0, ..., 0L, 7.75, 3.0]], dtype=object)"
       ]
      }
     ],
     "prompt_number": 37
    },
    {
     "cell_type": "code",
     "collapsed": false,
     "input": [
      "# training Random forest\n",
      "print 'Training'\n",
      "forest = RandomForestClassifier(n_estimators=100)\n",
      "forest = forest.fit(train,target)"
     ],
     "language": "python",
     "metadata": {},
     "outputs": [
      {
       "output_type": "stream",
       "stream": "stdout",
       "text": [
        "Training\n"
       ]
      }
     ],
     "prompt_number": 98
    },
    {
     "cell_type": "code",
     "collapsed": false,
     "input": [
      "testdata =test.drop(['name','ticket','cabin'],axis=1).values\n",
      "print 'Predicting'"
     ],
     "language": "python",
     "metadata": {},
     "outputs": [
      {
       "output_type": "stream",
       "stream": "stdout",
       "text": [
        "Predicting\n"
       ]
      }
     ],
     "prompt_number": 56
    },
    {
     "cell_type": "code",
     "collapsed": false,
     "input": [
      "output = forest.predict(testdata)"
     ],
     "language": "python",
     "metadata": {},
     "outputs": [],
     "prompt_number": 88
    },
    {
     "cell_type": "code",
     "collapsed": false,
     "input": [
      "output"
     ],
     "language": "python",
     "metadata": {},
     "outputs": [
      {
       "metadata": {},
       "output_type": "pyout",
       "prompt_number": 89,
       "text": [
        "array([0, 0, 0, 1, 0, 0, 0, 0, 1, 0, 0, 0, 1, 0, 1, 1, 0, 1, 1, 1, 1, 1, 1,\n",
        "       1, 1, 0, 1, 1, 1, 0, 0, 0, 1, 0, 1, 1, 0, 0, 0, 1, 0, 1, 0, 1, 1, 0,\n",
        "       0, 0, 1, 1, 1, 0, 1, 1, 0, 0, 0, 0, 0, 1, 0, 1, 0, 1, 1, 1, 1, 0, 0,\n",
        "       1, 1, 0, 0, 0, 1, 0, 0, 1, 0, 1, 1, 0, 0, 0, 0, 0, 1, 0, 1, 1, 0, 0,\n",
        "       1, 0, 1, 0, 1, 0, 0, 0, 1, 0, 0, 0, 1, 0, 0, 0, 0, 0, 0, 1, 1, 1, 1,\n",
        "       0, 0, 1, 0, 1, 1, 0, 1, 0, 0, 1, 0, 1, 0, 0, 0, 0, 0, 0, 0, 0, 0, 0,\n",
        "       0, 0, 0, 1, 0, 0, 1, 0, 0, 0, 1, 0, 1, 0, 0, 1, 0, 0, 1, 0, 1, 1, 1,\n",
        "       1, 1, 0, 0, 0, 0, 0, 1, 0, 0, 0, 0, 0, 0, 1, 1, 1, 1, 1, 0, 0, 1, 0,\n",
        "       1, 0, 1, 0, 0, 0, 0, 0, 1, 0, 1, 0, 1, 0, 0, 0, 1, 1, 0, 1, 0, 0, 1,\n",
        "       0, 1, 0, 0, 0, 0, 0, 0, 0, 1, 0, 1, 0, 1, 0, 1, 1, 1, 0, 0, 1, 0, 0,\n",
        "       0, 1, 0, 0, 1, 0, 1, 1, 1, 1, 1, 1, 0, 0, 0, 0, 1, 0, 1, 0, 1, 0, 1,\n",
        "       0, 0, 0, 0, 0, 1, 0, 0, 0, 1, 1, 0, 0, 0, 0, 0, 0, 0, 0, 1, 1, 0, 1,\n",
        "       0, 0, 0, 0, 0, 1, 1, 0, 1, 0, 0, 0, 0, 0, 0, 0, 0, 0, 0, 0, 1, 0, 0,\n",
        "       0, 0, 0, 0, 0, 1, 1, 1, 1, 0, 0, 0, 1, 0, 1, 1, 1, 0, 0, 0, 0, 0, 0,\n",
        "       0, 1, 1, 0, 1, 0, 0, 0, 1, 1, 0, 1, 0, 0, 1, 0, 0, 0, 0, 0, 0, 1, 0,\n",
        "       1, 0, 1, 0, 1, 1, 0, 0, 0, 1, 0, 1, 0, 0, 1, 0, 1, 1, 1, 1, 0, 0, 0,\n",
        "       1, 0, 0, 1, 0, 0, 1, 1, 0, 0, 0, 1, 0, 0, 0, 0, 1, 1, 0, 0, 0, 0, 0,\n",
        "       1, 0, 0, 0, 1, 0, 1, 0, 0, 1, 0, 1, 0, 0, 0, 0, 0, 1, 1, 1, 1, 0, 0,\n",
        "       1, 0, 0, 1], dtype=int64)"
       ]
      }
     ],
     "prompt_number": 89
    },
    {
     "cell_type": "code",
     "collapsed": false,
     "input": [
      "len(output)"
     ],
     "language": "python",
     "metadata": {},
     "outputs": [
      {
       "metadata": {},
       "output_type": "pyout",
       "prompt_number": 90,
       "text": [
        "418"
       ]
      }
     ],
     "prompt_number": 90
    },
    {
     "cell_type": "code",
     "collapsed": false,
     "input": [
      "outfileobj = open('../../../data/kaggle/titantic/rf1pred.csv','w')\n",
      "headerline = 'PassengerId,Survived\\n'\n",
      "outfileobj.write(headerline)\n",
      "i = 892 # initial offset value\n",
      "for a in output:\n",
      "    linestr = str(i)+','+str(a)+'\\n'\n",
      "    outfileobj.write(linestr)\n",
      "    i=i+1\n",
      "\n",
      "outfileobj.close()\n",
      "    "
     ],
     "language": "python",
     "metadata": {},
     "outputs": [],
     "prompt_number": 94
    },
    {
     "cell_type": "code",
     "collapsed": false,
     "input": [
      "forest = RandomForestClassifier(n_estimators=150)\n",
      "forest = forest.fit(train,target)"
     ],
     "language": "python",
     "metadata": {},
     "outputs": [],
     "prompt_number": 95
    },
    {
     "cell_type": "code",
     "collapsed": false,
     "input": [
      "output = forest.predict(testdata)\n",
      "output"
     ],
     "language": "python",
     "metadata": {},
     "outputs": [
      {
       "metadata": {},
       "output_type": "pyout",
       "prompt_number": 96,
       "text": [
        "array([0, 0, 0, 1, 0, 0, 0, 0, 1, 0, 0, 0, 1, 0, 1, 1, 0, 1, 1, 1, 1, 1, 1,\n",
        "       1, 1, 0, 1, 1, 1, 0, 0, 0, 1, 0, 1, 1, 0, 0, 0, 1, 0, 1, 0, 1, 1, 0,\n",
        "       1, 0, 1, 1, 1, 0, 1, 1, 0, 0, 0, 0, 0, 1, 0, 1, 0, 1, 1, 1, 1, 0, 0,\n",
        "       1, 1, 0, 0, 0, 1, 0, 0, 1, 0, 1, 1, 0, 0, 0, 0, 0, 1, 0, 1, 1, 0, 0,\n",
        "       1, 0, 0, 0, 1, 0, 0, 0, 1, 0, 0, 0, 1, 0, 0, 0, 0, 0, 0, 1, 1, 0, 1,\n",
        "       0, 0, 1, 0, 1, 1, 0, 1, 0, 0, 1, 0, 1, 0, 0, 0, 0, 0, 0, 0, 0, 0, 0,\n",
        "       0, 0, 0, 1, 0, 0, 1, 0, 0, 0, 1, 0, 1, 0, 0, 1, 0, 0, 1, 0, 1, 1, 1,\n",
        "       1, 1, 0, 0, 0, 0, 0, 1, 0, 0, 0, 0, 0, 0, 1, 1, 1, 1, 1, 0, 0, 1, 0,\n",
        "       1, 0, 1, 0, 0, 0, 0, 0, 1, 0, 1, 0, 1, 0, 0, 0, 1, 1, 0, 1, 0, 0, 1,\n",
        "       0, 1, 0, 0, 0, 0, 0, 0, 0, 1, 0, 1, 0, 1, 0, 1, 1, 1, 0, 0, 1, 0, 0,\n",
        "       0, 1, 0, 0, 1, 0, 1, 1, 1, 1, 1, 1, 0, 0, 0, 0, 1, 0, 1, 0, 1, 0, 0,\n",
        "       0, 0, 0, 0, 0, 1, 0, 0, 0, 1, 1, 0, 0, 0, 0, 0, 0, 0, 0, 1, 1, 0, 1,\n",
        "       0, 0, 0, 0, 0, 1, 1, 0, 1, 0, 0, 0, 0, 0, 0, 0, 0, 0, 0, 0, 1, 0, 0,\n",
        "       0, 0, 0, 0, 0, 1, 1, 1, 1, 0, 0, 0, 1, 0, 1, 1, 1, 0, 0, 0, 0, 0, 0,\n",
        "       0, 0, 1, 0, 1, 0, 0, 0, 1, 1, 0, 0, 0, 0, 1, 0, 0, 0, 0, 0, 0, 1, 0,\n",
        "       1, 0, 1, 0, 1, 1, 0, 0, 0, 1, 0, 1, 0, 0, 1, 0, 1, 1, 1, 1, 0, 0, 0,\n",
        "       1, 1, 0, 1, 0, 0, 1, 1, 0, 0, 0, 0, 0, 0, 0, 0, 1, 1, 0, 0, 0, 0, 0,\n",
        "       1, 0, 0, 0, 1, 0, 1, 0, 0, 1, 0, 1, 0, 0, 1, 0, 0, 1, 1, 1, 1, 0, 0,\n",
        "       1, 0, 0, 1], dtype=int64)"
       ]
      }
     ],
     "prompt_number": 96
    },
    {
     "cell_type": "code",
     "collapsed": false,
     "input": [
      "outfileobj = open('../../../data/kaggle/titantic/rf2pred.csv','w')\n",
      "headerline = 'PassengerId,Survived\\n'\n",
      "outfileobj.write(headerline)\n",
      "i = 892 # initial offset value\n",
      "for a in output:\n",
      "    linestr = str(i)+','+str(a)+'\\n'\n",
      "    outfileobj.write(linestr)\n",
      "    i=i+1\n",
      "\n",
      "outfileobj.close()"
     ],
     "language": "python",
     "metadata": {},
     "outputs": [],
     "prompt_number": 97
    },
    {
     "cell_type": "heading",
     "level": 1,
     "metadata": {},
     "source": [
      "COMPARE these results with others"
     ]
    },
    {
     "cell_type": "code",
     "collapsed": false,
     "input": [
      "o150 = np.genfromtxt('../../../data/kaggle/titantic/rf2pred.csv',delimiter=',',usecols=(1),skip_header=1)\n",
      "o100 = np.genfromtxt('../../../data/kaggle/titantic/rf1pred.csv',delimiter=',',usecols=(1),skip_header=1)\n",
      "mbrf = np.genfromtxt('../../../code/python/mikeB/randomForest/titanic/predict')"
     ],
     "language": "python",
     "metadata": {},
     "outputs": [],
     "prompt_number": 102
    },
    {
     "cell_type": "code",
     "collapsed": false,
     "input": [
      "o150-o100\n",
      "indx"
     ],
     "language": "python",
     "metadata": {},
     "outputs": [
      {
       "metadata": {},
       "output_type": "pyout",
       "prompt_number": 109,
       "text": [
        "array([  1,   2,   3,   4,   5,   6,   7,   8,   9,  10,  11,  12,  13,\n",
        "        14,  15,  16,  17,  18,  19,  20,  21,  22,  23,  24,  25,  26,\n",
        "        27,  28,  29,  30,  31,  32,  33,  34,  35,  36,  37,  38,  39,\n",
        "        40,  41,  42,  43,  44,  45,  46,  47,  48,  49,  50,  51,  52,\n",
        "        53,  54,  55,  56,  57,  58,  59,  60,  61,  62,  63,  64,  65,\n",
        "        66,  67,  68,  69,  70,  71,  72,  73,  74,  75,  76,  77,  78,\n",
        "        79,  80,  81,  82,  83,  84,  85,  86,  87,  88,  89,  90,  91,\n",
        "        92,  93,  94,  95,  96,  97,  98,  99, 100, 101, 102, 103, 104,\n",
        "       105, 106, 107, 108, 109, 110, 111, 112, 113, 114, 115, 116, 117,\n",
        "       118, 119, 120, 121, 122, 123, 124, 125, 126, 127, 128, 129, 130,\n",
        "       131, 132, 133, 134, 135, 136, 137, 138, 139, 140, 141, 142, 143,\n",
        "       144, 145, 146, 147, 148, 149, 150, 151, 152, 153, 154, 155, 156,\n",
        "       157, 158, 159, 160, 161, 162, 163, 164, 165, 166, 167, 168, 169,\n",
        "       170, 171, 172, 173, 174, 175, 176, 177, 178, 179, 180, 181, 182,\n",
        "       183, 184, 185, 186, 187, 188, 189, 190, 191, 192, 193, 194, 195,\n",
        "       196, 197, 198, 199, 200, 201, 202, 203, 204, 205, 206, 207, 208,\n",
        "       209, 210, 211, 212, 213, 214, 215, 216, 217, 218, 219, 220, 221,\n",
        "       222, 223, 224, 225, 226, 227, 228, 229, 230, 231, 232, 233, 234,\n",
        "       235, 236, 237, 238, 239, 240, 241, 242, 243, 244, 245, 246, 247,\n",
        "       248, 249, 250, 251, 252, 253, 254, 255, 256, 257, 258, 259, 260,\n",
        "       261, 262, 263, 264, 265, 266, 267, 268, 269, 270, 271, 272, 273,\n",
        "       274, 275, 276, 277, 278, 279, 280, 281, 282, 283, 284, 285, 286,\n",
        "       287, 288, 289, 290, 291, 292, 293, 294, 295, 296, 297, 298, 299,\n",
        "       300, 301, 302, 303, 304, 305, 306, 307, 308, 309, 310, 311, 312,\n",
        "       313, 314, 315, 316, 317, 318, 319, 320, 321, 322, 323, 324, 325,\n",
        "       326, 327, 328, 329, 330, 331, 332, 333, 334, 335, 336, 337, 338,\n",
        "       339, 340, 341, 342, 343, 344, 345, 346, 347, 348, 349, 350, 351,\n",
        "       352, 353, 354, 355, 356, 357, 358, 359, 360, 361, 362, 363, 364,\n",
        "       365, 366, 367, 368, 369, 370, 371, 372, 373, 374, 375, 376, 377,\n",
        "       378, 379, 380, 381, 382, 383, 384, 385, 386, 387, 388, 389, 390,\n",
        "       391, 392, 393, 394, 395, 396, 397, 398, 399, 400, 401, 402, 403,\n",
        "       404, 405, 406, 407, 408, 409, 410, 411, 412, 413, 414, 415, 416, 417])"
       ]
      }
     ],
     "prompt_number": 109
    },
    {
     "cell_type": "code",
     "collapsed": false,
     "input": [
      "fig = figure(figsize=(10,9))\n",
      "fig.add_subplot(121)\n",
      "indx = np.arange(1,419)\n",
      "plot(indx,o150-o100,'ro')\n",
      "fig.add_subplot(122, axisbg=\"#DBDBDB\")\n",
      "plot(indx,o150-mbrf,'ko')"
     ],
     "language": "python",
     "metadata": {},
     "outputs": [
      {
       "metadata": {},
       "output_type": "pyout",
       "prompt_number": 116,
       "text": [
        "[<matplotlib.lines.Line2D at 0x9b36810>]"
       ]
      },
      {
       "metadata": {},
       "output_type": "display_data",
       "png": "[encoded data removed]"
      }
     ],
     "prompt_number": 116
    },
    {
     "cell_type": "code",
     "collapsed": false,
     "input": [
      "numPredSurv = len((mbrf == 1).nonzero()[0]), len((o150 == 1).nonzero()[0]), len((o100 == 1).nonzero()[0])\n",
      "numPredSurv"
     ],
     "language": "python",
     "metadata": {},
     "outputs": [
      {
       "metadata": {},
       "output_type": "pyout",
       "prompt_number": 121,
       "text": [
        "(143, 157, 160)"
       ]
      }
     ],
     "prompt_number": 121
    },
    {
     "cell_type": "code",
     "collapsed": false,
     "input": [
      "[x/float(len(mbrf)) for x in numPredSurv]"
     ],
     "language": "python",
     "metadata": {},
     "outputs": [
      {
       "metadata": {},
       "output_type": "pyout",
       "prompt_number": 126,
       "text": [
        "[0.34210526315789475, 0.37559808612440193, 0.3827751196172249]"
       ]
      }
     ],
     "prompt_number": 126
    },
    {
     "cell_type": "code",
     "collapsed": false,
     "input": [
      "trSurvived = t2.survived.values"
     ],
     "language": "python",
     "metadata": {},
     "outputs": [],
     "prompt_number": 128
    },
    {
     "cell_type": "code",
     "collapsed": false,
     "input": [
      "len((trSurvived == 1).nonzero()[0])/float(len(trSurvived))"
     ],
     "language": "python",
     "metadata": {},
     "outputs": [
      {
       "metadata": {},
       "output_type": "pyout",
       "prompt_number": 129,
       "text": [
        "0.3838383838383838"
       ]
      }
     ],
     "prompt_number": 129
    },
    {
     "cell_type": "code",
     "collapsed": false,
     "input": [
      "karf = np.genfromtxt('../../../data/kaggle/titantic/myfirstforest.csv',delimiter=',',usecols=(1),skip_header=1)\n",
      "len((karf == 1).nonzero()[0])/float(len(karf))"
     ],
     "language": "python",
     "metadata": {},
     "outputs": [
      {
       "metadata": {},
       "output_type": "pyout",
       "prompt_number": 130,
       "text": [
        "0.38516746411483255"
       ]
      }
     ],
     "prompt_number": 130
    },
    {
     "cell_type": "code",
     "collapsed": false,
     "input": [
      "fig = figure(figsize=(6,9))\n",
      "fig.add_subplot(121)\n",
      "indx = np.arange(1,419)\n",
      "plot(indx,karf-o150,'ro')\n",
      "fig.add_subplot(122, axisbg=\"#DBDBDB\")\n",
      "plot(indx,karf-mbrf,'ko')"
     ],
     "language": "python",
     "metadata": {},
     "outputs": [
      {
       "metadata": {},
       "output_type": "pyout",
       "prompt_number": 131,
       "text": [
        "[<matplotlib.lines.Line2D at 0x9b5c2f0>]"
       ]
      },
      {
       "metadata": {},
       "output_type": "display_data",
       "png": "[encoded data removed]"
      }
     ],
     "prompt_number": 131
    },
    {
     "cell_type": "code",
     "collapsed": false,
     "input": [
      "# trying with far fewer predictors:\n",
      "forest = RandomForestClassifier(n_estimators=10)\n",
      "forest = forest.fit(train,target)\n",
      "output_n10 = forest.predict(testdata)\n"
     ],
     "language": "python",
     "metadata": {},
     "outputs": [],
     "prompt_number": 132
    },
    {
     "cell_type": "code",
     "collapsed": false,
     "input": [
      "len(output_n10[output_n10==1])/float(len(output_n10))"
     ],
     "language": "python",
     "metadata": {},
     "outputs": [
      {
       "metadata": {},
       "output_type": "pyout",
       "prompt_number": 133,
       "text": [
        "0.37320574162679426"
       ]
      }
     ],
     "prompt_number": 133
    },
    {
     "cell_type": "code",
     "collapsed": false,
     "input": [
      "outfileobj = open('../../../data/kaggle/titantic/rf3pred.csv','w')\n",
      "headerline = 'PassengerId,Survived\\n'\n",
      "outfileobj.write(headerline)\n",
      "i = 892 # initial offset value\n",
      "for a in output_n10:\n",
      "    linestr = str(i)+','+str(a)+'\\n'\n",
      "    outfileobj.write(linestr)\n",
      "    i=i+1\n",
      "\n",
      "outfileobj.close()"
     ],
     "language": "python",
     "metadata": {},
     "outputs": [],
     "prompt_number": 134
    },
    {
     "cell_type": "heading",
     "level": 1,
     "metadata": {},
     "source": [
      "Using one-hot encoder for the categorical fields: pclass, sex, sibsp, parch, embarked"
     ]
    },
    {
     "cell_type": "code",
     "collapsed": false,
     "input": [
      "print t2.keys()\n",
      "t2.pclass.unique()"
     ],
     "language": "python",
     "metadata": {},
     "outputs": [
      {
       "output_type": "stream",
       "stream": "stdout",
       "text": [
        "Index([survived, pclass, name, sex, age, sibsp, parch, ticket, fare, cabin, embarked], dtype=object)\n"
       ]
      },
      {
       "metadata": {},
       "output_type": "pyout",
       "prompt_number": 32,
       "text": [
        "array([3, 1, 2], dtype=int64)"
       ]
      }
     ],
     "prompt_number": 32
    },
    {
     "cell_type": "code",
     "collapsed": false,
     "input": [
      "print t2.sibsp.unique(), test.sibsp.unique()\n",
      "print t2.parch.unique(), test.parch.unique()"
     ],
     "language": "python",
     "metadata": {},
     "outputs": [
      {
       "output_type": "stream",
       "stream": "stdout",
       "text": [
        "[1 0 3 4 2 5 8] [0 1 2 3 4 5 8]\n",
        "[0 1 2 5 3 4 6] [0 1 3 2 4 6 5 9]\n"
       ]
      }
     ],
     "prompt_number": 100
    },
    {
     "cell_type": "heading",
     "level": 3,
     "metadata": {},
     "source": [
      "notice that test dataset has an extra parch classification '9'"
     ]
    },
    {
     "cell_type": "heading",
     "level": 3,
     "metadata": {},
     "source": [
      "this means we need to train the one-hot encoder on this larger space and then apply to both sets; after dropping the non-categorical fields"
     ]
    },
    {
     "cell_type": "code",
     "collapsed": false,
     "input": [
      "print len(target), len(testdata)"
     ],
     "language": "python",
     "metadata": {},
     "outputs": [
      {
       "output_type": "stream",
       "stream": "stdout",
       "text": [
        "891 418\n"
       ]
      }
     ],
     "prompt_number": 101
    },
    {
     "cell_type": "code",
     "collapsed": false,
     "input": [
      "# apply onehotencoding to just the categorical features.\n",
      "trCategorical = t2.drop(['survived','name','age','ticket','fare','cabin'],axis=1).values\n",
      "print trCategorical.shape\n",
      "teCategorical = test.drop(['name','age','ticket','fare','cabin'],axis=1).values\n",
      "print teCategorical.shape\n"
     ],
     "language": "python",
     "metadata": {},
     "outputs": [
      {
       "output_type": "stream",
       "stream": "stdout",
       "text": [
        "(891, 5)\n",
        "(418, 5)\n"
       ]
      }
     ],
     "prompt_number": 102
    },
    {
     "cell_type": "code",
     "collapsed": false,
     "input": [
      "for i in xrange(0,5):\n",
      "    print i, unique(trCategorical[:,i]), unique(teCategorical[:,i])"
     ],
     "language": "python",
     "metadata": {},
     "outputs": [
      {
       "output_type": "stream",
       "stream": "stdout",
       "text": [
        "0 [1L 2L 3L] [1L 2L 3L]\n",
        "1 [1.0 2.0] [1.0 2.0]\n",
        "2 [0L 1L 2L 3L 4L 5L 8L] [0L 1L 2L 3L 4L 5L 8L]\n",
        "3 [0L 1L 2L 3L 4L 5L 6L] [0L 1L 2L 3L 4L 5L 6L 9L]\n",
        "4 [0.0 1.0 3.0] [0.0 1.0 3.0]\n"
       ]
      }
     ],
     "prompt_number": 88
    },
    {
     "cell_type": "code",
     "collapsed": false,
     "input": [
      "from sklearn.preprocessing import OneHotEncoder\n",
      "ohenc = OneHotEncoder()\n",
      "ohenc.fit(teCategorical)\n",
      "OHtest = ohenc.transform(teCategorical).toarray()\n",
      "OHtrain = ohenc.transform(trCategorical).toarray()\n",
      "#OHtrain is the extended attribute space now\n",
      "print OHtest.shape, OHtrain.shape"
     ],
     "language": "python",
     "metadata": {},
     "outputs": [
      {
       "output_type": "stream",
       "stream": "stdout",
       "text": [
        "(418, 23) (891, 23)\n"
       ]
      }
     ],
     "prompt_number": 103
    },
    {
     "cell_type": "code",
     "collapsed": false,
     "input": [
      "ohenc.feature_indices_"
     ],
     "language": "python",
     "metadata": {},
     "outputs": [
      {
       "metadata": {},
       "output_type": "pyout",
       "prompt_number": 104,
       "text": [
        "array([ 0,  4,  7, 16, 26, 30])"
       ]
      }
     ],
     "prompt_number": 104
    },
    {
     "cell_type": "code",
     "collapsed": false,
     "input": [
      "ohenc.n_values_"
     ],
     "language": "python",
     "metadata": {},
     "outputs": [
      {
       "metadata": {},
       "output_type": "pyout",
       "prompt_number": 108,
       "text": [
        "array([ 4,  3,  9, 10,  4])"
       ]
      }
     ],
     "prompt_number": 108
    },
    {
     "cell_type": "code",
     "collapsed": false,
     "input": [
      "# now recombine with train & test; columns 2 (age) and 5 (fare)\n",
      "print shape(OHtrain), shape(train[:,2]), shape(train[:,5])\n",
      "print shape(column_stack([train[:,2],train[:,5]]))\n",
      "ntrain = hstack(( [OHtrain,column_stack([train[:,2],train[:,5]])]) )\n",
      "print \"\\n shape of training array is \\t\"\n",
      "print shape(ntrain)\n",
      "print \"\\n\\n\"\n",
      "#print shape(OHtest), shape(testdata[:,2]), shape(testdata[:,5])\n",
      "#print shape(column_stack([testdata[:,2],testdata[:,5]]))\n",
      "\n",
      "ntest = hstack(( [OHtest,column_stack([testdata[:,2],testdata[:,5]])]) )\n",
      "print \"\\nshape of test array is \\t\"\n",
      "print shape(ntest)"
     ],
     "language": "python",
     "metadata": {},
     "outputs": [
      {
       "output_type": "stream",
       "stream": "stdout",
       "text": [
        "(891, 23) (891,) (891,)\n",
        "(891, 2)\n",
        "\n",
        " shape of training array is \t\n",
        "(891, 25)\n",
        "\n",
        "\n",
        "\n",
        "\n",
        "shape of test array is \t\n",
        "(418, 25)\n"
       ]
      }
     ],
     "prompt_number": 141
    },
    {
     "cell_type": "heading",
     "level": 2,
     "metadata": {},
     "source": [
      "Run Random forest on this dataset"
     ]
    },
    {
     "cell_type": "code",
     "collapsed": false,
     "input": [
      "from sklearn.ensemble import RandomForestClassifier,ExtraTreesClassifier\n",
      "#build RF classifier\n",
      "forest = RandomForestClassifier(n_estimators=150,compute_importances=True)\n",
      "forest = forest.fit(ntrain,target)"
     ],
     "language": "python",
     "metadata": {},
     "outputs": [],
     "prompt_number": 142
    },
    {
     "cell_type": "code",
     "collapsed": false,
     "input": [
      "#make prediction\n",
      "oh150output = forest.predict(ntest)\n",
      "# save\n",
      "outfileobj = open('../../../data/kaggle/titantic/rf_oh_150_pred.csv','w')\n",
      "headerline = 'PassengerId,Survived\\n'\n",
      "outfileobj.write(headerline)\n",
      "i = 892 # initial offset value\n",
      "for a in oh150output:\n",
      "    linestr = str(i)+','+str(a)+'\\n'\n",
      "    outfileobj.write(linestr)\n",
      "    i=i+1\n",
      "\n",
      "outfileobj.close()"
     ],
     "language": "python",
     "metadata": {},
     "outputs": [],
     "prompt_number": 143
    },
    {
     "cell_type": "code",
     "collapsed": false,
     "input": [
      "#Visualize feature_importances\n",
      "bar(arange(forest.n_features_),forest.feature_importances_,color='r')"
     ],
     "language": "python",
     "metadata": {},
     "outputs": [
      {
       "metadata": {},
       "output_type": "pyout",
       "prompt_number": 145,
       "text": [
        "<Container object of 25 artists>"
       ]
      },
      {
       "metadata": {},
       "output_type": "display_data",
       "png": "[encoded data removed]"
      }
     ],
     "prompt_number": 145
    },
    {
     "cell_type": "code",
     "collapsed": false,
     "input": [
      "forest = RandomForestClassifier(n_estimators=1000,compute_importances=True)\n",
      "forest = forest.fit(ntrain,target)"
     ],
     "language": "python",
     "metadata": {},
     "outputs": [],
     "prompt_number": 146
    },
    {
     "cell_type": "code",
     "collapsed": false,
     "input": [
      "#make prediction\n",
      "oh1000output = forest.predict(ntest)\n",
      "# save\n",
      "outfileobj = open('../../../data/kaggle/titantic/rf_oh_1000_pred.csv','w')\n",
      "headerline = 'PassengerId,Survived\\n'\n",
      "outfileobj.write(headerline)\n",
      "i = 892 # initial offset value\n",
      "for a in oh1000output:\n",
      "    linestr = str(i)+','+str(a)+'\\n'\n",
      "    outfileobj.write(linestr)\n",
      "    i=i+1\n",
      "\n",
      "outfileobj.close()\n",
      "#Visualize feature_importances\n",
      "bar(arange(forest.n_features_),forest.feature_importances_,color='r')"
     ],
     "language": "python",
     "metadata": {},
     "outputs": [
      {
       "metadata": {},
       "output_type": "pyout",
       "prompt_number": 148,
       "text": [
        "<Container object of 25 artists>"
       ]
      },
      {
       "metadata": {},
       "output_type": "display_data",
       "png": "[encoded data removed]"
      }
     ],
     "prompt_number": 148
    },
    {
     "cell_type": "code",
     "collapsed": false,
     "input": [
      "figure\n",
      "plot(arange(len(oh1000output)),oh150output-oh1000output,'o')"
     ],
     "language": "python",
     "metadata": {},
     "outputs": [
      {
       "metadata": {},
       "output_type": "pyout",
       "prompt_number": 150,
       "text": [
        "[<matplotlib.lines.Line2D at 0xc2df890>]"
       ]
      },
      {
       "metadata": {},
       "output_type": "display_data",
       "png": "[encoded data removed]"
      }
     ],
     "prompt_number": 150
    },
    {
     "cell_type": "code",
     "collapsed": false,
     "input": [
      "o150 = np.genfromtxt('../../../data/kaggle/titantic/rf2pred.csv',delimiter=',',usecols=(1),skip_header=1)\n",
      "o100 = np.genfromtxt('../../../data/kaggle/titantic/rf1pred.csv',delimiter=',',usecols=(1),skip_header=1)\n",
      "mbrf = np.genfromtxt('../../../code/python/mikeB/randomForest/titanic/predict')"
     ],
     "language": "python",
     "metadata": {},
     "outputs": [],
     "prompt_number": 151
    },
    {
     "cell_type": "code",
     "collapsed": false,
     "input": [
      "plot(arange(len(oh1000output)),o150-oh1000output,'o')\n",
      "(o150-oh1000output != 0).nonzero()"
     ],
     "language": "python",
     "metadata": {},
     "outputs": [
      {
       "metadata": {},
       "output_type": "pyout",
       "prompt_number": 153,
       "text": [
        "(array([ 18,  46, 113, 323, 382, 405]),)"
       ]
      },
      {
       "metadata": {},
       "output_type": "display_data",
       "png": "[encoded data removed]"
      }
     ],
     "prompt_number": 153
    },
    {
     "cell_type": "code",
     "collapsed": false,
     "input": [
      "xtraTree = ExtraTreesClassifier(n_estimators=150,compute_importances=True)\n",
      "xtclf = xtraTree.fit(ntrain,target)\n",
      "#make prediction\n",
      "XToh150output = xtclf.predict(ntest)\n",
      "# save\n",
      "outfileobj = open('../../../data/kaggle/titantic/xt_oh_1500_pred.csv','w')\n",
      "headerline = 'PassengerId,Survived\\n'\n",
      "outfileobj.write(headerline)\n",
      "i = 892 # initial offset value\n",
      "for a in XToh150output:\n",
      "    linestr = str(i)+','+str(a)+'\\n'\n",
      "    outfileobj.write(linestr)\n",
      "    i=i+1\n",
      "\n",
      "outfileobj.close()\n",
      "#Visualize feature_importances\n",
      "bar(arange(xtclf.n_features_),xtclf.feature_importances_,color='m')"
     ],
     "language": "python",
     "metadata": {},
     "outputs": [
      {
       "metadata": {},
       "output_type": "pyout",
       "prompt_number": 154,
       "text": [
        "<Container object of 25 artists>"
       ]
      },
      {
       "metadata": {},
       "output_type": "display_data",
       "png": "[encoded data removed]"
      }
     ],
     "prompt_number": 154
    },
    {
     "cell_type": "code",
     "collapsed": false,
     "input": [
      "bar(arange(xtclf.n_features_),xtclf.feature_importances_,color='m')\n",
      "bar(arange(forest.n_features_),forest.feature_importances_,color='c',alpha=0.5)"
     ],
     "language": "python",
     "metadata": {},
     "outputs": [
      {
       "metadata": {},
       "output_type": "pyout",
       "prompt_number": 155,
       "text": [
        "<Container object of 25 artists>"
       ]
      },
      {
       "metadata": {},
       "output_type": "display_data",
       "png": "[encoded data removed]"
      }
     ],
     "prompt_number": 155
    },
    {
     "cell_type": "code",
     "collapsed": false,
     "input": [
      "plot(arange(len(XToh150output)),o150-XToh150output,'ok')\n",
      "(o150-XToh150output != 0).nonzero()"
     ],
     "language": "python",
     "metadata": {},
     "outputs": [
      {
       "metadata": {},
       "output_type": "pyout",
       "prompt_number": 156,
       "text": [
        "(array([ 18,  32,  40,  41,  46,  49,  50,  64,  82,  94, 115, 148, 181,\n",
        "       200, 214, 224, 240, 323, 345, 354, 355, 382, 392, 404]),)"
       ]
      },
      {
       "metadata": {},
       "output_type": "display_data",
       "png": "[encoded data removed]"
      }
     ],
     "prompt_number": 156
    },
    {
     "cell_type": "code",
     "collapsed": false,
     "input": [
      "len((mbrf-XToh150output !=0).nonzero()[0])"
     ],
     "language": "python",
     "metadata": {},
     "outputs": [
      {
       "metadata": {},
       "output_type": "pyout",
       "prompt_number": 158,
       "text": [
        "68"
       ]
      }
     ],
     "prompt_number": 158
    },
    {
     "cell_type": "heading",
     "level": 2,
     "metadata": {},
     "source": [
      "CORRECTING Categorical Data --> sibsp and parch are not categorical"
     ]
    },
    {
     "cell_type": "heading",
     "level": 5,
     "metadata": {},
     "source": [
      "add a new categorical field based upon 'title': find ', *.' in name"
     ]
    },
    {
     "cell_type": "code",
     "collapsed": false,
     "input": [
      "print t2['name'].ix[0].find(\",\"),t2['name'].ix[0].find(\".\")\n",
      "t2['name'].ix[0][t2['name'].ix[0].find(\",\")+2:t2['name'].ix[0].find(\".\")]"
     ],
     "language": "python",
     "metadata": {},
     "outputs": [
      {
       "output_type": "stream",
       "stream": "stdout",
       "text": [
        "6 10\n"
       ]
      },
      {
       "metadata": {},
       "output_type": "pyout",
       "prompt_number": 164,
       "text": [
        "'Mr'"
       ]
      }
     ],
     "prompt_number": 164
    },
    {
     "cell_type": "code",
     "collapsed": false,
     "input": [
      "t2['name'].apply(t2.name.find(\",\")+2:t2.name.find(\".\"))"
     ],
     "language": "python",
     "metadata": {},
     "outputs": [
      {
       "ename": "SyntaxError",
       "evalue": "invalid syntax (<ipython-input-165-79cd525654a8>, line 1)",
       "output_type": "pyerr",
       "traceback": [
        "\u001b[1;36m  File \u001b[1;32m\"<ipython-input-165-79cd525654a8>\"\u001b[1;36m, line \u001b[1;32m1\u001b[0m\n\u001b[1;33m    t2['name'].apply(t2.name.find(\",\")+2:t2.name.find(\".\"))\u001b[0m\n\u001b[1;37m                                        ^\u001b[0m\n\u001b[1;31mSyntaxError\u001b[0m\u001b[1;31m:\u001b[0m invalid syntax\n"
       ]
      }
     ],
     "prompt_number": 165
    },
    {
     "cell_type": "code",
     "collapsed": false,
     "input": [
      "# apply onehotencoding to just the categorical features.\n",
      "trCateg = t2[['pclass','sex','embarked']].values\n",
      "print trCateg.shape\n",
      "teCateg = test[['pclass','sex','embarked']].values\n",
      "print teCateg.shape"
     ],
     "language": "python",
     "metadata": {},
     "outputs": [
      {
       "output_type": "stream",
       "stream": "stdout",
       "text": [
        "(891, 3)\n",
        "(418, 3)\n"
       ]
      }
     ],
     "prompt_number": 170
    },
    {
     "cell_type": "code",
     "collapsed": false,
     "input": [
      "ohenc = OneHotEncoder()\n",
      "ohenc.fit(teCateg)\n",
      "OHtest = ohenc.transform(teCateg).toarray()\n",
      "OHtrain = ohenc.transform(trCateg).toarray()\n",
      "#OHtrain is the extended attribute space now\n",
      "print OHtest.shape, OHtrain.shape"
     ],
     "language": "python",
     "metadata": {},
     "outputs": [
      {
       "output_type": "stream",
       "stream": "stdout",
       "text": [
        "(418, 8) (891, 8)\n"
       ]
      }
     ],
     "prompt_number": 172
    },
    {
     "cell_type": "code",
     "collapsed": false,
     "input": [
      "trCateg[0,:], OHtrain[0,:]"
     ],
     "language": "python",
     "metadata": {},
     "outputs": [
      {
       "metadata": {},
       "output_type": "pyout",
       "prompt_number": 174,
       "text": [
        "(array([3L, 1.0, 1.0], dtype=object),\n",
        " array([ 0.,  0.,  1.,  1.,  0.,  0.,  1.,  0.]))"
       ]
      }
     ],
     "prompt_number": 174
    },
    {
     "cell_type": "code",
     "collapsed": false,
     "input": [
      "ohenc.n_values_, ohenc.feature_indices_"
     ],
     "language": "python",
     "metadata": {},
     "outputs": [
      {
       "metadata": {},
       "output_type": "pyout",
       "prompt_number": 176,
       "text": [
        "(array([4, 3, 4]), array([ 0,  4,  7, 11]))"
       ]
      }
     ],
     "prompt_number": 176
    },
    {
     "cell_type": "code",
     "collapsed": false,
     "input": [
      "# now recombine with train & test; columns 2 through 5 (age, sibsp,parch,fare)\n",
      "print shape(OHtrain), shape(train[:,2:6])\n",
      "#print shape(column_stack([train[:,2],train[:,5]]))\n",
      "nntrain = hstack(( [OHtrain,train[:,2:6]] ))\n",
      "print \"\\n shape of training array is \\t\"\n",
      "print shape(nntrain)\n",
      "print \"\\n\\n\"\n",
      "print shape(OHtest), shape(testdata[:,2:6])\n",
      "#print shape(column_stack([testdata[:,2],testdata[:,5]]))\n",
      "\n",
      "nntest = hstack(( [OHtest,testdata[:,2:6]]) )\n",
      "print \"\\nshape of test array is \\t\"\n",
      "print shape(nntest)"
     ],
     "language": "python",
     "metadata": {},
     "outputs": [
      {
       "output_type": "stream",
       "stream": "stdout",
       "text": [
        "(891, 8) (891, 4)\n",
        "\n",
        " shape of training array is \t\n",
        "(891, 12)\n",
        "\n",
        "\n",
        "\n",
        "(418, 8) (418, 4)\n",
        "\n",
        "shape of test array is \t\n",
        "(418, 12)\n"
       ]
      }
     ],
     "prompt_number": 180
    },
    {
     "cell_type": "code",
     "collapsed": false,
     "input": [
      "nntrain[0,:], train[0,2:6]"
     ],
     "language": "python",
     "metadata": {},
     "outputs": [
      {
       "metadata": {},
       "output_type": "pyout",
       "prompt_number": 179,
       "text": [
        "(array([0.0, 0.0, 1.0, 1.0, 0.0, 0.0, 1.0, 0.0, 22.0, 1L, 0L, 7.25], dtype=object),\n",
        " array([22.0, 1L, 0L, 7.25], dtype=object))"
       ]
      }
     ],
     "prompt_number": 179
    },
    {
     "cell_type": "code",
     "collapsed": false,
     "input": [
      "forest = RandomForestClassifier(n_estimators=150,compute_importances=True)\n",
      "forest = forest.fit(nntrain,target)"
     ],
     "language": "python",
     "metadata": {},
     "outputs": [],
     "prompt_number": 181
    },
    {
     "cell_type": "code",
     "collapsed": false,
     "input": [
      "#make prediction\n",
      "noh150output = forest.predict(nntest)\n",
      "# save\n",
      "outfileobj = open('../../../data/kaggle/titantic/rf_noh_150_pred.csv','w')\n",
      "headerline = 'PassengerId,Survived\\n'\n",
      "outfileobj.write(headerline)\n",
      "i = 892 # initial offset value\n",
      "for a in noh150output:\n",
      "    linestr = str(i)+','+str(a)+'\\n'\n",
      "    outfileobj.write(linestr)\n",
      "    i=i+1\n",
      "\n",
      "outfileobj.close()\n",
      "#Visualize feature_importances\n",
      "bar(arange(forest.n_features_),forest.feature_importances_,color='c')"
     ],
     "language": "python",
     "metadata": {},
     "outputs": [
      {
       "metadata": {},
       "output_type": "pyout",
       "prompt_number": 183,
       "text": [
        "<Container object of 12 artists>"
       ]
      },
      {
       "metadata": {},
       "output_type": "display_data",
       "png": "[encoded data removed]"
      }
     ],
     "prompt_number": 183
    },
    {
     "cell_type": "code",
     "collapsed": false,
     "input": [
      "len((o150-noh150output !=0).nonzero()[0]),len((o150-oh150output !=0).nonzero()[0])"
     ],
     "language": "python",
     "metadata": {},
     "outputs": [
      {
       "metadata": {},
       "output_type": "pyout",
       "prompt_number": 187,
       "text": [
        "(6, 6)"
       ]
      }
     ],
     "prompt_number": 187
    },
    {
     "cell_type": "code",
     "collapsed": false,
     "input": [
      "corrcoef(o150,mbrf)"
     ],
     "language": "python",
     "metadata": {},
     "outputs": [
      {
       "metadata": {},
       "output_type": "pyout",
       "prompt_number": 190,
       "text": [
        "array([[ 1.        ,  0.71109169],\n",
        "       [ 0.71109169,  1.        ]])"
       ]
      }
     ],
     "prompt_number": 190
    },
    {
     "cell_type": "heading",
     "level": 2,
     "metadata": {},
     "source": [
      "Let's look at Naive Bayes"
     ]
    },
    {
     "cell_type": "code",
     "collapsed": false,
     "input": [
      "from sklearn.naive_bayes import GaussianNB\n",
      "gnb = GaussianNB()\n",
      "gnb.fit(nntrain,target)\n",
      "gnb.score(nntrain,target)"
     ],
     "language": "python",
     "metadata": {},
     "outputs": [
      {
       "metadata": {},
       "output_type": "pyout",
       "prompt_number": 197,
       "text": [
        "0.78787878787878785"
       ]
      }
     ],
     "prompt_number": 197
    },
    {
     "cell_type": "code",
     "collapsed": false,
     "input": [
      "nntrain.shape"
     ],
     "language": "python",
     "metadata": {},
     "outputs": [
      {
       "metadata": {},
       "output_type": "pyout",
       "prompt_number": 203,
       "text": [
        "(891, 12)"
       ]
      }
     ],
     "prompt_number": 203
    },
    {
     "cell_type": "code",
     "collapsed": false,
     "input": [
      "gnb.sigma_[0,:]"
     ],
     "language": "python",
     "metadata": {},
     "outputs": [
      {
       "metadata": {},
       "output_type": "pyout",
       "prompt_number": 212,
       "text": [
        "array([  1.24485321e-01,   1.45467335e-01,   2.18459794e-01,\n",
        "         1.25772643e-01,   1.25772643e-01,   1.17949178e-01,\n",
        "         1.72839507e-01,   7.82810950e-02,   1.55084164e+02,\n",
        "         1.65694872e+00,   6.76368029e-01,   9.83424938e+02])"
       ]
      }
     ],
     "prompt_number": 212
    },
    {
     "cell_type": "code",
     "collapsed": false,
     "input": [
      "errorbar(arange(12),gnb.theta_[0,:],gnb.sigma_[0,:],c='m',marker='o')\n",
      "errorbar(arange(12),gnb.theta_[1,:],gnb.sigma_[1,:],c='k',marker='s')"
     ],
     "language": "python",
     "metadata": {},
     "outputs": [
      {
       "metadata": {},
       "output_type": "pyout",
       "prompt_number": 216,
       "text": [
        "<Container object of 3 artists>"
       ]
      },
      {
       "metadata": {},
       "output_type": "display_data",
       "png": "[encoded data removed]"
      }
     ],
     "prompt_number": 216
    },
    {
     "cell_type": "code",
     "collapsed": false,
     "input": [],
     "language": "python",
     "metadata": {},
     "outputs": []
    }
   ],
   "metadata": {}
  }
 ]
}