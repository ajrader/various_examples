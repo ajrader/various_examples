{
 "metadata": {
  "name": ""
 },
 "nbformat": 3,
 "nbformat_minor": 0,
 "worksheets": [
  {
   "cells": [
    {
     "cell_type": "markdown",
     "metadata": {},
     "source": [
      "<H1> Mahout clustering Example data</H1>\n",
      "<p> clustering of synthetic Control data</p>\n",
      "Data described at <href =http://archive.ics.uci.edu/ml/databases/synthetic_control/synthetic_control.data.html> http://archive.ics.uci.edu/ml/databases/synthetic_control/synthetic_control.data.html</href></p>"
     ]
    },
    {
     "cell_type": "code",
     "collapsed": false,
     "input": [
      "pwd"
     ],
     "language": "python",
     "metadata": {},
     "outputs": [
      {
       "metadata": {},
       "output_type": "pyout",
       "prompt_number": 1,
       "text": [
        "u'C:\\\\Users\\\\KESJ\\\\Documents\\\\IPython Notebooks'"
       ]
      }
     ],
     "prompt_number": 1
    },
    {
     "cell_type": "code",
     "collapsed": false,
     "input": [
      "indata = 'datasets/synthetic_control.data'"
     ],
     "language": "python",
     "metadata": {},
     "outputs": [],
     "prompt_number": 1
    },
    {
     "cell_type": "code",
     "collapsed": false,
     "input": [
      "import pandas as pd"
     ],
     "language": "python",
     "metadata": {},
     "outputs": [],
     "prompt_number": 2
    },
    {
     "cell_type": "code",
     "collapsed": false,
     "input": [
      "ctrl = pd.read_csv(indata,header=None,sep='\\t')"
     ],
     "language": "python",
     "metadata": {},
     "outputs": [],
     "prompt_number": 4
    },
    {
     "cell_type": "code",
     "collapsed": false,
     "input": [
      "ctrl"
     ],
     "language": "python",
     "metadata": {},
     "outputs": [
      {
       "html": [
        "<pre>\n",
        "&lt;class 'pandas.core.frame.DataFrame'&gt;\n",
        "Int64Index: 600 entries, 0 to 599\n",
        "Data columns (total 1 columns):\n",
        "0    600  non-null values\n",
        "dtypes: object(1)\n",
        "</pre>"
       ],
       "metadata": {},
       "output_type": "pyout",
       "prompt_number": 5,
       "text": [
        "<class 'pandas.core.frame.DataFrame'>\n",
        "Int64Index: 600 entries, 0 to 599\n",
        "Data columns (total 1 columns):\n",
        "0    600  non-null values\n",
        "dtypes: object(1)"
       ]
      }
     ],
     "prompt_number": 5
    },
    {
     "cell_type": "code",
     "collapsed": false,
     "input": [
      "import numpy as np\n",
      "cdata = np.genfromtxt(indata)"
     ],
     "language": "python",
     "metadata": {},
     "outputs": [],
     "prompt_number": 17
    },
    {
     "cell_type": "code",
     "collapsed": false,
     "input": [
      "%pylab"
     ],
     "language": "python",
     "metadata": {},
     "outputs": [
      {
       "output_type": "stream",
       "stream": "stdout",
       "text": [
        "Using matplotlib backend: Qt4Agg\n",
        "Populating the interactive namespace from numpy and matplotlib\n"
       ]
      }
     ],
     "prompt_number": 20
    },
    {
     "cell_type": "code",
     "collapsed": false,
     "input": [
      "plot(cdata[0],':*',color='cadetblue')"
     ],
     "language": "python",
     "metadata": {},
     "outputs": [
      {
       "metadata": {},
       "output_type": "pyout",
       "prompt_number": 22,
       "text": [
        "[<matplotlib.lines.Line2D at 0xce79bd0>]"
       ]
      }
     ],
     "prompt_number": 22
    },
    {
     "cell_type": "markdown",
     "metadata": {},
     "source": [
      "<h3> Import kmeans clustering from sklearn</h3>\n",
      "<p> http://scikit-learn.org/stable/modules/generated/sklearn.cluster.KMeans.html</p>"
     ]
    },
    {
     "cell_type": "markdown",
     "metadata": {},
     "source": [
      "<p> Use 6 clusters since that is how they are defined initially</p>"
     ]
    },
    {
     "cell_type": "code",
     "collapsed": false,
     "input": [
      "from sklearn.cluster import KMeans\n",
      "estimator =KMeans(init='k-means++', n_clusters=6, n_init=10)\n",
      "km6 = estimator.fit(cdata)"
     ],
     "language": "python",
     "metadata": {},
     "outputs": [],
     "prompt_number": 44
    },
    {
     "cell_type": "code",
     "collapsed": false,
     "input": [
      "from sklearn.metrics import silhouette_score\n",
      "silhouette_score(cdata,km6.labels_)"
     ],
     "language": "python",
     "metadata": {},
     "outputs": [
      {
       "metadata": {},
       "output_type": "pyout",
       "prompt_number": 45,
       "text": [
        "0.22707853212448251"
       ]
      }
     ],
     "prompt_number": 45
    },
    {
     "cell_type": "code",
     "collapsed": false,
     "input": [
      "print len(km6.labels_)\n",
      "np.unique(km6.labels_)"
     ],
     "language": "python",
     "metadata": {},
     "outputs": [
      {
       "output_type": "stream",
       "stream": "stdout",
       "text": [
        "600\n"
       ]
      },
      {
       "metadata": {},
       "output_type": "pyout",
       "prompt_number": 46,
       "text": [
        "array([0, 1, 2, 3, 4, 5])"
       ]
      }
     ],
     "prompt_number": 46
    },
    {
     "cell_type": "markdown",
     "metadata": {},
     "source": [
      "<H3> Setup the initial labels</H3>"
     ]
    },
    {
     "cell_type": "code",
     "collapsed": false,
     "input": [
      "A = np.zeros((100,), dtype=np.int)\n",
      "B = np.ones((100,), dtype=np.int)"
     ],
     "language": "python",
     "metadata": {},
     "outputs": [],
     "prompt_number": 50
    },
    {
     "cell_type": "code",
     "collapsed": false,
     "input": [
      "C =2*np.ones((100,),dtype=np.int)\n",
      "D = 3*np.ones((100,),dtype=np.int)\n",
      "E= 4*np.ones((100,),dtype=np.int)\n",
      "F= 5*np.ones((100,),dtype=np.int)"
     ],
     "language": "python",
     "metadata": {},
     "outputs": [],
     "prompt_number": 57
    },
    {
     "cell_type": "code",
     "collapsed": false,
     "input": [
      "len(C),len(D)"
     ],
     "language": "python",
     "metadata": {},
     "outputs": [
      {
       "metadata": {},
       "output_type": "pyout",
       "prompt_number": 58,
       "text": [
        "(100, 100)"
       ]
      }
     ],
     "prompt_number": 58
    },
    {
     "cell_type": "code",
     "collapsed": false,
     "input": [
      "OrigLabels = np.concatenate((A,B,C,D,E,F))\n",
      "#for i in xrange(len(km6.labels_)-2):\n",
      "#    j=i+2\n",
      "#    D = j*np.ones((100,),dtype=np.int)\n",
      "#    C = np.concatenate((C,D))\n",
      "#print len(C)\n",
      "print len(OrigLabels)"
     ],
     "language": "python",
     "metadata": {},
     "outputs": [
      {
       "output_type": "stream",
       "stream": "stdout",
       "text": [
        "600\n"
       ]
      }
     ],
     "prompt_number": 59
    },
    {
     "cell_type": "markdown",
     "metadata": {},
     "source": [
      "<h3> Calculate confusion matrix for this KMeans clustering</h3>"
     ]
    },
    {
     "cell_type": "code",
     "collapsed": false,
     "input": [
      "from sklearn.metrics import confusion_matrix"
     ],
     "language": "python",
     "metadata": {},
     "outputs": [],
     "prompt_number": 41
    },
    {
     "cell_type": "code",
     "collapsed": false,
     "input": [
      "cm = confusion_matrix(OrigLabels,km6.labels_)\n",
      "print(cm)"
     ],
     "language": "python",
     "metadata": {},
     "outputs": [
      {
       "output_type": "stream",
       "stream": "stdout",
       "text": [
        "[[  0 100   0   0   0   0]\n",
        " [  0  56   0   0  44   0]\n",
        " [  0   0  61   0   0  39]\n",
        " [ 63   0   0  37   0   0]\n",
        " [  0   0  22   0   0  78]\n",
        " [ 20   0   0  80   0   0]]\n"
       ]
      }
     ],
     "prompt_number": 62
    },
    {
     "cell_type": "code",
     "collapsed": false,
     "input": [
      "matshow(cm).set_cmap('hot')\n",
      "title('Confusion matrix')\n",
      "colorbar()\n",
      "ylabel('True label')\n",
      "xlabel('Predicted label')\n",
      "show()"
     ],
     "language": "python",
     "metadata": {},
     "outputs": [],
     "prompt_number": 65
    },
    {
     "cell_type": "code",
     "collapsed": false,
     "input": [
      "km6.labels_"
     ],
     "language": "python",
     "metadata": {},
     "outputs": [
      {
       "metadata": {},
       "output_type": "pyout",
       "prompt_number": 63,
       "text": [
        "array([1, 1, 1, 1, 1, 1, 1, 1, 1, 1, 1, 1, 1, 1, 1, 1, 1, 1, 1, 1, 1, 1, 1,\n",
        "       1, 1, 1, 1, 1, 1, 1, 1, 1, 1, 1, 1, 1, 1, 1, 1, 1, 1, 1, 1, 1, 1, 1,\n",
        "       1, 1, 1, 1, 1, 1, 1, 1, 1, 1, 1, 1, 1, 1, 1, 1, 1, 1, 1, 1, 1, 1, 1,\n",
        "       1, 1, 1, 1, 1, 1, 1, 1, 1, 1, 1, 1, 1, 1, 1, 1, 1, 1, 1, 1, 1, 1, 1,\n",
        "       1, 1, 1, 1, 1, 1, 1, 1, 4, 1, 4, 4, 1, 1, 1, 4, 1, 4, 4, 4, 4, 4, 4,\n",
        "       4, 4, 1, 4, 4, 4, 4, 4, 1, 4, 1, 4, 1, 1, 1, 1, 1, 4, 4, 1, 1, 1, 1,\n",
        "       4, 1, 1, 4, 1, 4, 1, 1, 4, 1, 1, 1, 1, 1, 1, 1, 4, 1, 4, 4, 1, 1, 4,\n",
        "       4, 1, 1, 4, 1, 1, 4, 1, 1, 1, 1, 1, 1, 1, 4, 1, 4, 4, 4, 1, 4, 1, 1,\n",
        "       4, 1, 1, 1, 4, 1, 1, 4, 1, 1, 4, 4, 1, 4, 4, 1, 5, 5, 2, 2, 5, 5, 2,\n",
        "       2, 2, 2, 5, 5, 2, 5, 2, 2, 5, 2, 5, 2, 2, 5, 2, 5, 2, 2, 5, 2, 2, 2,\n",
        "       2, 2, 2, 2, 5, 5, 2, 2, 2, 2, 2, 5, 2, 2, 2, 2, 2, 5, 2, 5, 2, 5, 2,\n",
        "       2, 5, 5, 2, 2, 2, 5, 2, 2, 5, 2, 2, 2, 2, 5, 5, 2, 5, 5, 5, 5, 2, 5,\n",
        "       2, 2, 2, 5, 2, 5, 2, 2, 2, 5, 2, 2, 5, 5, 2, 2, 2, 5, 2, 5, 5, 5, 5,\n",
        "       2, 0, 3, 3, 0, 3, 3, 0, 3, 3, 0, 0, 0, 0, 0, 0, 0, 3, 3, 0, 0, 0, 0,\n",
        "       0, 3, 0, 0, 3, 0, 3, 3, 3, 0, 3, 3, 0, 0, 0, 0, 3, 0, 0, 0, 0, 0, 3,\n",
        "       3, 0, 0, 3, 0, 0, 0, 0, 3, 3, 0, 3, 0, 0, 0, 3, 3, 0, 3, 0, 3, 0, 0,\n",
        "       0, 0, 0, 0, 3, 0, 3, 3, 3, 0, 3, 0, 0, 0, 3, 0, 0, 0, 3, 0, 0, 3, 0,\n",
        "       3, 0, 0, 3, 0, 3, 0, 0, 0, 5, 5, 2, 5, 5, 5, 5, 5, 2, 5, 5, 2, 5, 2,\n",
        "       5, 5, 5, 5, 5, 5, 5, 5, 5, 5, 5, 2, 5, 5, 5, 5, 5, 5, 5, 5, 5, 5, 5,\n",
        "       5, 5, 5, 2, 5, 2, 5, 2, 5, 5, 2, 2, 5, 5, 5, 2, 5, 2, 5, 2, 2, 5, 2,\n",
        "       5, 5, 5, 5, 5, 5, 5, 5, 5, 5, 2, 5, 5, 2, 5, 5, 2, 5, 5, 5, 2, 5, 5,\n",
        "       5, 5, 5, 2, 2, 5, 5, 5, 2, 5, 5, 5, 5, 5, 5, 5, 5, 3, 3, 3, 3, 3, 0,\n",
        "       3, 3, 3, 3, 3, 0, 3, 3, 3, 3, 3, 3, 3, 3, 0, 3, 3, 3, 0, 3, 0, 3, 3,\n",
        "       3, 3, 3, 3, 3, 3, 0, 3, 3, 0, 3, 3, 0, 0, 3, 3, 3, 3, 3, 0, 3, 3, 3,\n",
        "       0, 0, 3, 3, 3, 3, 3, 3, 3, 3, 3, 3, 3, 3, 3, 3, 3, 0, 0, 0, 0, 3, 3,\n",
        "       3, 3, 0, 3, 3, 3, 0, 3, 3, 3, 3, 3, 3, 3, 3, 3, 3, 3, 3, 3, 3, 3, 3,\n",
        "       0, 0])"
       ]
      }
     ],
     "prompt_number": 63
    },
    {
     "cell_type": "code",
     "collapsed": false,
     "input": [],
     "language": "python",
     "metadata": {},
     "outputs": []
    }
   ],
   "metadata": {}
  }
 ]
}