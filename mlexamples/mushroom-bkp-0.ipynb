{
 "metadata": {
  "name": "mushroom-bkp-0"
 },
 "nbformat": 3,
 "nbformat_minor": 0,
 "worksheets": [
  {
   "cells": [
    {
     "cell_type": "heading",
     "level": 1,
     "metadata": {},
     "source": [
      "Looking at Mushroom dataset from UCI repository : http://archive.ics.uci.edu/ml/datasets/Mushroom\n",
      "        \n",
      "        "
     ]
    },
    {
     "cell_type": "heading",
     "level": 2,
     "metadata": {},
     "source": [
      "simple way to load the categorical data:"
     ]
    },
    {
     "cell_type": "code",
     "collapsed": false,
     "input": [
      "import os\n",
      "os.chdir('../../../data/miscDataSets/mushroom/')\n",
      "infile = 'agaricus-lepiota.data'"
     ],
     "language": "python",
     "metadata": {},
     "outputs": [],
     "prompt_number": 1
    },
    {
     "cell_type": "code",
     "collapsed": false,
     "input": [
      "import csv\n",
      "data = []\n",
      "with open(infile,'r') as csvf:\n",
      "    reader = csv.reader(csvf)\n",
      "    for row in reader:\n",
      "        data.append(row)\n",
      "        \n",
      "close(infile)\n",
      "data = array(data) # transform to numpy array"
     ],
     "language": "python",
     "metadata": {},
     "outputs": [],
     "prompt_number": 2
    },
    {
     "cell_type": "code",
     "collapsed": false,
     "input": [
      "len(data)"
     ],
     "language": "python",
     "metadata": {},
     "outputs": [
      {
       "output_type": "pyout",
       "prompt_number": 3,
       "text": [
        "8124"
       ]
      }
     ],
     "prompt_number": 3
    },
    {
     "cell_type": "code",
     "collapsed": false,
     "input": [
      "data = array(data)\n",
      "shape(data)"
     ],
     "language": "python",
     "metadata": {},
     "outputs": [
      {
       "output_type": "pyout",
       "prompt_number": 5,
       "text": [
        "(8124, 23)"
       ]
      }
     ],
     "prompt_number": 5
    },
    {
     "cell_type": "code",
     "collapsed": false,
     "input": [
      "#column names are in .names file\n",
      "colNames = ['tgtclass', 'cap-shape','cap-surface','cap-color','bruises','odor',\\\n",
      "'gill-attachment','gill-spacing','gill-size','gill-color','stalk-shape','stalk-root',\\\n",
      "'stalk-surface-above-ring','stalk-surface-below-ring','stalk-color-above-ring',\\\n",
      "'stalk-color-below-ring','veil-type','veil-color','ring-number','ring-type','spore-print-color',\\\n",
      "'population','habitat']\n",
      "len(colNames)"
     ],
     "language": "python",
     "metadata": {},
     "outputs": [
      {
       "output_type": "pyout",
       "prompt_number": 2,
       "text": [
        "23"
       ]
      }
     ],
     "prompt_number": 2
    },
    {
     "cell_type": "code",
     "collapsed": false,
     "input": [
      "y = map(lambda x: 0 if x=='e' else 1, data[:,0])\n",
      "# map edible=e to '0', poisonous=p to 1 (only 2 classes here)"
     ],
     "language": "python",
     "metadata": {},
     "outputs": [],
     "prompt_number": 11
    },
    {
     "cell_type": "code",
     "collapsed": false,
     "input": [
      "len(filter(lambda x: x == 1, y)), len(filter(lambda x: x==0,y))"
     ],
     "language": "python",
     "metadata": {},
     "outputs": [
      {
       "output_type": "pyout",
       "prompt_number": 20,
       "text": [
        "(3916, 4208)"
       ]
      }
     ],
     "prompt_number": 20
    },
    {
     "cell_type": "heading",
     "level": 3,
     "metadata": {},
     "source": [
      "Find out how many values are present for each attribute in this dataset (columns 1 through shape(data)[1])"
     ]
    },
    {
     "cell_type": "code",
     "collapsed": false,
     "input": [
      "nattrib = shape(data)[1]-1\n",
      "print \"column colName \\t\\t numAttrib\"\n",
      "for icol in xrange(1,nattrib):\n",
      "    print icol,\"\\t\", colNames[icol],\"\\t\\t\", len(unique(data[:,icol]))\n"
     ],
     "language": "python",
     "metadata": {},
     "outputs": [
      {
       "output_type": "stream",
       "stream": "stdout",
       "text": [
        "column colName \t\t numAttrib\n",
        "1 \tcap-shape \t\t6\n",
        "2 \tcap-surface \t\t4\n",
        "3 \tcap-color \t\t10\n",
        "4 \tbruses \t\t2\n",
        "5 \todor \t\t9\n",
        "6 \tgill-attachment \t\t2\n",
        "7 \tgill-spacing \t\t2\n",
        "8 \tgill-size \t\t2\n",
        "9 \tgill-color \t\t12\n",
        "10 \tstalk-shape \t\t2\n",
        "11 \tstalk-root \t\t5\n",
        "12 \tstalk-surface-above-ring \t\t4\n",
        "13 \tstalk-surface-below-ring \t\t4\n",
        "14 \tstalk-color-above-ring \t\t9\n",
        "15 \tstalk-color-below-ring \t\t9\n",
        "16 \tveil-type \t\t1\n",
        "17 \tveil-color \t\t4\n",
        "18 \tring-number \t\t3\n",
        "19 \tring-type \t\t5\n",
        "20 \tspore-print-color \t\t9\n",
        "21 \tpopulation \t\t6\n"
       ]
      }
     ],
     "prompt_number": 31
    },
    {
     "cell_type": "heading",
     "level": 3,
     "metadata": {},
     "source": [
      "Cope with missing data. In this example only the 11th attribute 'stalk-root' has missing values, denoted by '?'"
     ]
    },
    {
     "cell_type": "code",
     "collapsed": false,
     "input": [
      "len(filter(lambda x: x=='?', data[:,11])), len(filter(lambda x: x=='?', data[:,11]))/float(len(data))"
     ],
     "language": "python",
     "metadata": {},
     "outputs": [
      {
       "output_type": "pyout",
       "prompt_number": 42,
       "text": [
        "(2480, 0.3052683407188577)"
       ]
      }
     ],
     "prompt_number": 42
    },
    {
     "cell_type": "heading",
     "level": 3,
     "metadata": {},
     "source": [
      "since this is approx 30% of the examples; probably best to omit this column for now."
     ]
    },
    {
     "cell_type": "code",
     "collapsed": false,
     "input": [],
     "language": "python",
     "metadata": {},
     "outputs": []
    },
    {
     "cell_type": "heading",
     "level": 3,
     "metadata": {},
     "source": [
      "try using scikitlearn proprocessing tools"
     ]
    },
    {
     "cell_type": "heading",
     "level": 3,
     "metadata": {},
     "source": [
      "Try using pandas"
     ]
    },
    {
     "cell_type": "code",
     "collapsed": false,
     "input": [
      "import pandas as pd\n",
      "mraw = pd.read_csv(infile,header=None,names=colNames,na_values='?')"
     ],
     "language": "python",
     "metadata": {},
     "outputs": [],
     "prompt_number": 3
    },
    {
     "cell_type": "code",
     "collapsed": false,
     "input": [
      "mraw"
     ],
     "language": "python",
     "metadata": {},
     "outputs": [
      {
       "html": [
        "<pre>\n",
        "&ltclass 'pandas.core.frame.DataFrame'&gt\n",
        "Int64Index: 8124 entries, 0 to 8123\n",
        "Data columns (total 23 columns):\n",
        "tgtclass                    8124  non-null values\n",
        "cap-shape                   8124  non-null values\n",
        "cap-surface                 8124  non-null values\n",
        "cap-color                   8124  non-null values\n",
        "bruises                     8124  non-null values\n",
        "odor                        8124  non-null values\n",
        "gill-attachment             8124  non-null values\n",
        "gill-spacing                8124  non-null values\n",
        "gill-size                   8124  non-null values\n",
        "gill-color                  8124  non-null values\n",
        "stalk-shape                 8124  non-null values\n",
        "stalk-root                  5644  non-null values\n",
        "stalk-surface-above-ring    8124  non-null values\n",
        "stalk-surface-below-ring    8124  non-null values\n",
        "stalk-color-above-ring      8124  non-null values\n",
        "stalk-color-below-ring      8124  non-null values\n",
        "veil-type                   8124  non-null values\n",
        "veil-color                  8124  non-null values\n",
        "ring-number                 8124  non-null values\n",
        "ring-type                   8124  non-null values\n",
        "spore-print-color           8124  non-null values\n",
        "population                  8124  non-null values\n",
        "habitat                     8124  non-null values\n",
        "dtypes: object(23)\n",
        "</pre>"
       ],
       "output_type": "pyout",
       "prompt_number": 4,
       "text": [
        "<class 'pandas.core.frame.DataFrame'>\n",
        "Int64Index: 8124 entries, 0 to 8123\n",
        "Data columns (total 23 columns):\n",
        "tgtclass                    8124  non-null values\n",
        "cap-shape                   8124  non-null values\n",
        "cap-surface                 8124  non-null values\n",
        "cap-color                   8124  non-null values\n",
        "bruises                     8124  non-null values\n",
        "odor                        8124  non-null values\n",
        "gill-attachment             8124  non-null values\n",
        "gill-spacing                8124  non-null values\n",
        "gill-size                   8124  non-null values\n",
        "gill-color                  8124  non-null values\n",
        "stalk-shape                 8124  non-null values\n",
        "stalk-root                  5644  non-null values\n",
        "stalk-surface-above-ring    8124  non-null values\n",
        "stalk-surface-below-ring    8124  non-null values\n",
        "stalk-color-above-ring      8124  non-null values\n",
        "stalk-color-below-ring      8124  non-null values\n",
        "veil-type                   8124  non-null values\n",
        "veil-color                  8124  non-null values\n",
        "ring-number                 8124  non-null values\n",
        "ring-type                   8124  non-null values\n",
        "spore-print-color           8124  non-null values\n",
        "population                  8124  non-null values\n",
        "habitat                     8124  non-null values\n",
        "dtypes: object(23)"
       ]
      }
     ],
     "prompt_number": 4
    },
    {
     "cell_type": "code",
     "collapsed": false,
     "input": [
      "mraw['cap-shape'].value_counts()"
     ],
     "language": "python",
     "metadata": {},
     "outputs": [
      {
       "output_type": "pyout",
       "prompt_number": 9,
       "text": [
        "x    3656\n",
        "f    3152\n",
        "k     828\n",
        "b     452\n",
        "s      32\n",
        "c       4\n",
        "dtype: int64"
       ]
      }
     ],
     "prompt_number": 9
    },
    {
     "cell_type": "code",
     "collapsed": false,
     "input": [
      "mraw['habitat'].value_counts()"
     ],
     "language": "python",
     "metadata": {},
     "outputs": [
      {
       "output_type": "pyout",
       "prompt_number": 10,
       "text": [
        "d    3148\n",
        "g    2148\n",
        "p    1144\n",
        "l     832\n",
        "u     368\n",
        "m     292\n",
        "w     192\n",
        "dtype: int64"
       ]
      }
     ],
     "prompt_number": 10
    },
    {
     "cell_type": "code",
     "collapsed": false,
     "input": [
      "pd.crosstab(mraw['habitat'],mraw['population'])"
     ],
     "language": "python",
     "metadata": {},
     "outputs": [
      {
       "html": [
        "<div style=\"max-height:1000px;max-width:1500px;overflow:auto;\">\n",
        "<table border=\"1\" class=\"dataframe\">\n",
        "  <thead>\n",
        "    <tr style=\"text-align: right;\">\n",
        "      <th>population</th>\n",
        "      <th>a</th>\n",
        "      <th>c</th>\n",
        "      <th>n</th>\n",
        "      <th>s</th>\n",
        "      <th>v</th>\n",
        "      <th>y</th>\n",
        "    </tr>\n",
        "    <tr>\n",
        "      <th>habitat</th>\n",
        "      <th></th>\n",
        "      <th></th>\n",
        "      <th></th>\n",
        "      <th></th>\n",
        "      <th></th>\n",
        "      <th></th>\n",
        "    </tr>\n",
        "  </thead>\n",
        "  <tbody>\n",
        "    <tr>\n",
        "      <th>d</th>\n",
        "      <td>   0</td>\n",
        "      <td>  36</td>\n",
        "      <td>   0</td>\n",
        "      <td>  96</td>\n",
        "      <td> 1904</td>\n",
        "      <td> 1112</td>\n",
        "    </tr>\n",
        "    <tr>\n",
        "      <th>g</th>\n",
        "      <td> 384</td>\n",
        "      <td>   0</td>\n",
        "      <td> 272</td>\n",
        "      <td> 840</td>\n",
        "      <td>  388</td>\n",
        "      <td>  264</td>\n",
        "    </tr>\n",
        "    <tr>\n",
        "      <th>l</th>\n",
        "      <td>   0</td>\n",
        "      <td> 112</td>\n",
        "      <td>   0</td>\n",
        "      <td>   0</td>\n",
        "      <td>  720</td>\n",
        "      <td>    0</td>\n",
        "    </tr>\n",
        "    <tr>\n",
        "      <th>m</th>\n",
        "      <td>   0</td>\n",
        "      <td>   0</td>\n",
        "      <td> 128</td>\n",
        "      <td> 128</td>\n",
        "      <td>   36</td>\n",
        "      <td>    0</td>\n",
        "    </tr>\n",
        "    <tr>\n",
        "      <th>p</th>\n",
        "      <td>   0</td>\n",
        "      <td>   0</td>\n",
        "      <td>   0</td>\n",
        "      <td>  48</td>\n",
        "      <td>  808</td>\n",
        "      <td>  288</td>\n",
        "    </tr>\n",
        "    <tr>\n",
        "      <th>u</th>\n",
        "      <td>   0</td>\n",
        "      <td>   0</td>\n",
        "      <td>   0</td>\n",
        "      <td> 136</td>\n",
        "      <td>  184</td>\n",
        "      <td>   48</td>\n",
        "    </tr>\n",
        "    <tr>\n",
        "      <th>w</th>\n",
        "      <td>   0</td>\n",
        "      <td> 192</td>\n",
        "      <td>   0</td>\n",
        "      <td>   0</td>\n",
        "      <td>    0</td>\n",
        "      <td>    0</td>\n",
        "    </tr>\n",
        "  </tbody>\n",
        "</table>\n",
        "</div>"
       ],
       "output_type": "pyout",
       "prompt_number": 11,
       "text": [
        "population    a    c    n    s     v     y\n",
        "habitat                                   \n",
        "d             0   36    0   96  1904  1112\n",
        "g           384    0  272  840   388   264\n",
        "l             0  112    0    0   720     0\n",
        "m             0    0  128  128    36     0\n",
        "p             0    0    0   48   808   288\n",
        "u             0    0    0  136   184    48\n",
        "w             0  192    0    0     0     0"
       ]
      }
     ],
     "prompt_number": 11
    },
    {
     "cell_type": "heading",
     "level": 5,
     "metadata": {},
     "source": [
      "Replace the '-' in column names with underscore '_'"
     ]
    },
    {
     "cell_type": "code",
     "collapsed": false,
     "input": [
      "mraw.columns = map(lambda x: x.lower().replace('-','_'), mraw.columns)"
     ],
     "language": "python",
     "metadata": {},
     "outputs": [],
     "prompt_number": 5
    },
    {
     "cell_type": "heading",
     "level": 3,
     "metadata": {},
     "source": [
      "DROP stalk-root column"
     ]
    },
    {
     "cell_type": "code",
     "collapsed": false,
     "input": [
      "mm = mraw.dropna(axis=1)\n",
      "shape(mm)"
     ],
     "language": "python",
     "metadata": {},
     "outputs": [
      {
       "output_type": "pyout",
       "prompt_number": 6,
       "text": [
        "(8124, 22)"
       ]
      }
     ],
     "prompt_number": 6
    },
    {
     "cell_type": "heading",
     "level": 4,
     "metadata": {},
     "source": [
      "I need to create a dictionary for each column  import the dictionary that is located in the .names file"
     ]
    },
    {
     "cell_type": "code",
     "collapsed": false,
     "input": [
      "from sklearn import preprocessing\n",
      "le = preprocessing.LabelEncoder()"
     ],
     "language": "python",
     "metadata": {},
     "outputs": [],
     "prompt_number": 7
    },
    {
     "cell_type": "code",
     "collapsed": false,
     "input": [
      "le.fit(mraw['habitat'])"
     ],
     "language": "python",
     "metadata": {},
     "outputs": [
      {
       "output_type": "pyout",
       "prompt_number": 21,
       "text": [
        "LabelEncoder()"
       ]
      }
     ],
     "prompt_number": 21
    },
    {
     "cell_type": "code",
     "collapsed": false,
     "input": [
      "list(le.classes_)"
     ],
     "language": "python",
     "metadata": {},
     "outputs": [
      {
       "output_type": "pyout",
       "prompt_number": 22,
       "text": [
        "['d', 'g', 'l', 'm', 'p', 'u', 'w']"
       ]
      }
     ],
     "prompt_number": 22
    },
    {
     "cell_type": "code",
     "collapsed": false,
     "input": [
      "A = le.transform(mraw['habitat'])"
     ],
     "language": "python",
     "metadata": {},
     "outputs": [],
     "prompt_number": 24
    },
    {
     "cell_type": "code",
     "collapsed": false,
     "input": [
      "le.fit(mraw['tgtclass'])\n",
      "le.transform(mraw['tgtclass'])"
     ],
     "language": "python",
     "metadata": {},
     "outputs": [
      {
       "output_type": "pyout",
       "prompt_number": 30,
       "text": [
        "0     1\n",
        "1     0\n",
        "2     0\n",
        "3     1\n",
        "4     0\n",
        "5     0\n",
        "6     0\n",
        "7     0\n",
        "8     1\n",
        "9     0\n",
        "10    0\n",
        "11    0\n",
        "12    0\n",
        "13    1\n",
        "14    0\n",
        "...\n",
        "8109    0\n",
        "8110    0\n",
        "8111    0\n",
        "8112    0\n",
        "8113    1\n",
        "8114    1\n",
        "8115    0\n",
        "8116    1\n",
        "8117    1\n",
        "8118    1\n",
        "8119    0\n",
        "8120    0\n",
        "8121    0\n",
        "8122    1\n",
        "8123    0\n",
        "Name: tgtclass, Length: 8124, dtype: int32"
       ]
      }
     ],
     "prompt_number": 30
    },
    {
     "cell_type": "code",
     "collapsed": false,
     "input": [
      "Ncol = len(mm.columns)\n",
      "cnames = mm.columns"
     ],
     "language": "python",
     "metadata": {},
     "outputs": [],
     "prompt_number": 8
    },
    {
     "cell_type": "code",
     "collapsed": false,
     "input": [
      "mshape = shape(mm)\n",
      "Nobserv = len(mm)\n",
      "\n",
      "mnew = pd.DataFrame(np.arange(mshape[0]*Ncol).reshape(mshape[0],mshape[1]),index=arange(mshape[0]),columns=mm.columns)\n",
      "# create a new data frame "
     ],
     "language": "python",
     "metadata": {},
     "outputs": [],
     "prompt_number": 9
    },
    {
     "cell_type": "code",
     "collapsed": false,
     "input": [
      "mnew"
     ],
     "language": "python",
     "metadata": {},
     "outputs": [
      {
       "html": [
        "<pre>\n",
        "&ltclass 'pandas.core.frame.DataFrame'&gt\n",
        "Int64Index: 8124 entries, 0 to 8123\n",
        "Data columns (total 22 columns):\n",
        "tgtclass                    8124  non-null values\n",
        "cap_shape                   8124  non-null values\n",
        "cap_surface                 8124  non-null values\n",
        "cap_color                   8124  non-null values\n",
        "bruises                     8124  non-null values\n",
        "odor                        8124  non-null values\n",
        "gill_attachment             8124  non-null values\n",
        "gill_spacing                8124  non-null values\n",
        "gill_size                   8124  non-null values\n",
        "gill_color                  8124  non-null values\n",
        "stalk_shape                 8124  non-null values\n",
        "stalk_surface_above_ring    8124  non-null values\n",
        "stalk_surface_below_ring    8124  non-null values\n",
        "stalk_color_above_ring      8124  non-null values\n",
        "stalk_color_below_ring      8124  non-null values\n",
        "veil_type                   8124  non-null values\n",
        "veil_color                  8124  non-null values\n",
        "ring_number                 8124  non-null values\n",
        "ring_type                   8124  non-null values\n",
        "spore_print_color           8124  non-null values\n",
        "population                  8124  non-null values\n",
        "habitat                     8124  non-null values\n",
        "dtypes: int32(22)\n",
        "</pre>"
       ],
       "output_type": "pyout",
       "prompt_number": 20,
       "text": [
        "<class 'pandas.core.frame.DataFrame'>\n",
        "Int64Index: 8124 entries, 0 to 8123\n",
        "Data columns (total 22 columns):\n",
        "tgtclass                    8124  non-null values\n",
        "cap_shape                   8124  non-null values\n",
        "cap_surface                 8124  non-null values\n",
        "cap_color                   8124  non-null values\n",
        "bruises                     8124  non-null values\n",
        "odor                        8124  non-null values\n",
        "gill_attachment             8124  non-null values\n",
        "gill_spacing                8124  non-null values\n",
        "gill_size                   8124  non-null values\n",
        "gill_color                  8124  non-null values\n",
        "stalk_shape                 8124  non-null values\n",
        "stalk_surface_above_ring    8124  non-null values\n",
        "stalk_surface_below_ring    8124  non-null values\n",
        "stalk_color_above_ring      8124  non-null values\n",
        "stalk_color_below_ring      8124  non-null values\n",
        "veil_type                   8124  non-null values\n",
        "veil_color                  8124  non-null values\n",
        "ring_number                 8124  non-null values\n",
        "ring_type                   8124  non-null values\n",
        "spore_print_color           8124  non-null values\n",
        "population                  8124  non-null values\n",
        "habitat                     8124  non-null values\n",
        "dtypes: int32(22)"
       ]
      }
     ],
     "prompt_number": 20
    },
    {
     "cell_type": "code",
     "collapsed": false,
     "input": [
      "# transform each column into categorical labels\n",
      "for i in xrange(0,len(mm.columns)):\n",
      "    colname = str(cnames[i])\n",
      "    print i, colname,mm[colname].ix[0]\n",
      "    le.fit(mm[colname])\n",
      "    b = le.transform(mm[colname])\n",
      "    mnew[colname] = b"
     ],
     "language": "python",
     "metadata": {},
     "outputs": [
      {
       "output_type": "stream",
       "stream": "stdout",
       "text": [
        "0 tgtclass p\n",
        "1 cap_shape x\n",
        "2 cap_surface s\n",
        "3 cap_color n\n",
        "4"
       ]
      },
      {
       "output_type": "stream",
       "stream": "stdout",
       "text": [
        " bruises t\n",
        "5 odor p\n",
        "6 gill_attachment f\n",
        "7 gill_spacing c\n",
        "8 gill_size n\n",
        "9 gill_color k\n",
        "10"
       ]
      },
      {
       "output_type": "stream",
       "stream": "stdout",
       "text": [
        " stalk_shape e\n",
        "11 stalk_surface_above_ring s\n",
        "12 stalk_surface_below_ring s\n",
        "13 stalk_color_above_ring w\n",
        "14 stalk_color_below_ring w\n",
        "15"
       ]
      },
      {
       "output_type": "stream",
       "stream": "stdout",
       "text": [
        " veil_type p\n",
        "16 veil_color w\n",
        "17 ring_number o\n",
        "18 ring_type p\n",
        "19 spore_print_color k\n",
        "20"
       ]
      },
      {
       "output_type": "stream",
       "stream": "stdout",
       "text": [
        " population s\n",
        "21 habitat u\n"
       ]
      }
     ],
     "prompt_number": 10
    },
    {
     "cell_type": "code",
     "collapsed": false,
     "input": [
      "mnew"
     ],
     "language": "python",
     "metadata": {},
     "outputs": [
      {
       "html": [
        "<pre>\n",
        "&ltclass 'pandas.core.frame.DataFrame'&gt\n",
        "Int64Index: 8124 entries, 0 to 8123\n",
        "Data columns (total 23 columns):\n",
        "tgtclass                    8124  non-null values\n",
        "cap_shape                   8124  non-null values\n",
        "cap_surface                 8124  non-null values\n",
        "cap_color                   8124  non-null values\n",
        "bruses                      8124  non-null values\n",
        "odor                        8124  non-null values\n",
        "gill_attachment             8124  non-null values\n",
        "gill_spacing                8124  non-null values\n",
        "gill_size                   8124  non-null values\n",
        "gill_color                  8124  non-null values\n",
        "stalk_shape                 8124  non-null values\n",
        "stalk_root                  8124  non-null values\n",
        "stalk_surface_above_ring    8124  non-null values\n",
        "stalk_surface_below_ring    8124  non-null values\n",
        "stalk_color_above_ring      8124  non-null values\n",
        "stalk_color_below_ring      8124  non-null values\n",
        "veil_type                   8124  non-null values\n",
        "veil_color                  8124  non-null values\n",
        "ring_number                 8124  non-null values\n",
        "ring_type                   8124  non-null values\n",
        "spore_print_color           8124  non-null values\n",
        "population                  8124  non-null values\n",
        "habitat                     8124  non-null values\n",
        "dtypes: int32(23)\n",
        "</pre>"
       ],
       "output_type": "pyout",
       "prompt_number": 54,
       "text": [
        "<class 'pandas.core.frame.DataFrame'>\n",
        "Int64Index: 8124 entries, 0 to 8123\n",
        "Data columns (total 23 columns):\n",
        "tgtclass                    8124  non-null values\n",
        "cap_shape                   8124  non-null values\n",
        "cap_surface                 8124  non-null values\n",
        "cap_color                   8124  non-null values\n",
        "bruses                      8124  non-null values\n",
        "odor                        8124  non-null values\n",
        "gill_attachment             8124  non-null values\n",
        "gill_spacing                8124  non-null values\n",
        "gill_size                   8124  non-null values\n",
        "gill_color                  8124  non-null values\n",
        "stalk_shape                 8124  non-null values\n",
        "stalk_root                  8124  non-null values\n",
        "stalk_surface_above_ring    8124  non-null values\n",
        "stalk_surface_below_ring    8124  non-null values\n",
        "stalk_color_above_ring      8124  non-null values\n",
        "stalk_color_below_ring      8124  non-null values\n",
        "veil_type                   8124  non-null values\n",
        "veil_color                  8124  non-null values\n",
        "ring_number                 8124  non-null values\n",
        "ring_type                   8124  non-null values\n",
        "spore_print_color           8124  non-null values\n",
        "population                  8124  non-null values\n",
        "habitat                     8124  non-null values\n",
        "dtypes: int32(23)"
       ]
      }
     ],
     "prompt_number": 54
    },
    {
     "cell_type": "code",
     "collapsed": false,
     "input": [
      "pd.crosstab(mnew['ring_type'],mnew['ring_number'])"
     ],
     "language": "python",
     "metadata": {},
     "outputs": [
      {
       "html": [
        "<div style=\"max-height:1000px;max-width:1500px;overflow:auto;\">\n",
        "<table border=\"1\" class=\"dataframe\">\n",
        "  <thead>\n",
        "    <tr style=\"text-align: right;\">\n",
        "      <th>ring_number</th>\n",
        "      <th>0</th>\n",
        "      <th>1</th>\n",
        "      <th>2</th>\n",
        "    </tr>\n",
        "    <tr>\n",
        "      <th>ring_type</th>\n",
        "      <th></th>\n",
        "      <th></th>\n",
        "      <th></th>\n",
        "    </tr>\n",
        "  </thead>\n",
        "  <tbody>\n",
        "    <tr>\n",
        "      <th>0</th>\n",
        "      <td>  0</td>\n",
        "      <td> 2584</td>\n",
        "      <td> 192</td>\n",
        "    </tr>\n",
        "    <tr>\n",
        "      <th>1</th>\n",
        "      <td>  0</td>\n",
        "      <td>   48</td>\n",
        "      <td>   0</td>\n",
        "    </tr>\n",
        "    <tr>\n",
        "      <th>2</th>\n",
        "      <td>  0</td>\n",
        "      <td> 1296</td>\n",
        "      <td>   0</td>\n",
        "    </tr>\n",
        "    <tr>\n",
        "      <th>3</th>\n",
        "      <td> 36</td>\n",
        "      <td>    0</td>\n",
        "      <td>   0</td>\n",
        "    </tr>\n",
        "    <tr>\n",
        "      <th>4</th>\n",
        "      <td>  0</td>\n",
        "      <td> 3560</td>\n",
        "      <td> 408</td>\n",
        "    </tr>\n",
        "  </tbody>\n",
        "</table>\n",
        "</div>"
       ],
       "output_type": "pyout",
       "prompt_number": 25,
       "text": [
        "ring_number   0     1    2\n",
        "ring_type                 \n",
        "0             0  2584  192\n",
        "1             0    48    0\n",
        "2             0  1296    0\n",
        "3            36     0    0\n",
        "4             0  3560  408"
       ]
      }
     ],
     "prompt_number": 25
    },
    {
     "cell_type": "code",
     "collapsed": false,
     "input": [
      "attributeCounts = []\n",
      "for i in xrange(0,len(mnew.columns)):\n",
      "    colname = str(cnames[i])\n",
      "    print i, colname\n",
      "    #le.fit(mraw[colname])\n",
      "    #b = le.transform(mraw[colname])\n",
      "    aa = mnew[colname].value_counts()\n",
      "    print aa\n",
      "    print \"------------------------------------\"\n",
      "    attributeCounts.append([colname, len(aa), aa.keys(), aa.values])"
     ],
     "language": "python",
     "metadata": {},
     "outputs": [
      {
       "output_type": "stream",
       "stream": "stdout",
       "text": [
        "0 tgtclass\n",
        "0    4208\n",
        "1    3916\n",
        "dtype: int64\n",
        "------------------------------------\n",
        "1 cap_shape\n",
        "5    3656\n",
        "2    3152\n",
        "3     828\n",
        "0     452\n",
        "4      32\n",
        "1       4\n",
        "dtype: int64\n",
        "------------------------------------\n",
        "2 cap_surface\n",
        "3    3244\n",
        "2    2556\n",
        "0    2320\n",
        "1       4\n",
        "dtype: int64\n",
        "------------------------------------\n",
        "3 cap_color\n",
        "4    2284\n",
        "3    1840\n",
        "2    1500\n",
        "9    1072\n",
        "8    1040\n",
        "0     168\n",
        "5     144\n",
        "1      44\n",
        "7      16\n",
        "6      16\n",
        "dtype: int64\n",
        "------------------------------------\n",
        "4 bruises\n",
        "0    4748\n",
        "1    3376\n",
        "dtype: int64\n",
        "------------------------------------\n",
        "5 odor\n",
        "5    3528\n",
        "2    2160\n",
        "7     576\n",
        "8     576\n",
        "3     400\n",
        "0     400\n",
        "6     256\n",
        "1     192\n",
        "4      36\n",
        "dtype: int64\n",
        "------------------------------------\n",
        "6 gill_attachment\n",
        "1    7914\n",
        "0     210\n",
        "dtype: int64\n",
        "------------------------------------\n",
        "7 gill_spacing\n",
        "0    6812\n",
        "1    1312\n",
        "dtype: int64\n",
        "------------------------------------\n",
        "8 gill_size\n",
        "0    5612\n",
        "1    2512\n",
        "dtype: int64\n",
        "------------------------------------\n",
        "9 gill_color\n",
        "0     1728\n",
        "7     1492\n",
        "10    1202\n",
        "5     1048\n",
        "2      752\n",
        "3      732\n",
        "9      492\n",
        "4      408\n",
        "1       96\n",
        "11      86\n",
        "6       64\n",
        "8       24\n",
        "dtype: int64\n",
        "------------------------------------\n",
        "10 stalk_shape\n",
        "1    4608\n",
        "0    3516\n",
        "dtype: int64\n",
        "------------------------------------\n",
        "11 stalk_surface_above_ring\n",
        "2    5176\n",
        "1    2372\n",
        "0     552\n",
        "3      24\n",
        "dtype: int64"
       ]
      },
      {
       "output_type": "stream",
       "stream": "stdout",
       "text": [
        "\n",
        "------------------------------------\n",
        "12 stalk_surface_below_ring\n",
        "2    4936\n",
        "1    2304\n",
        "0     600\n",
        "3     284\n",
        "dtype: int64\n",
        "------------------------------------\n",
        "13 stalk_color_above_ring\n",
        "7    4464\n",
        "6    1872\n",
        "3     576\n",
        "4     448\n",
        "0     432\n",
        "5     192\n",
        "2      96\n",
        "1      36\n",
        "8       8\n",
        "dtype: int64\n",
        "------------------------------------\n",
        "14 stalk_color_below_ring\n",
        "7    4384\n",
        "6    1872\n",
        "3     576\n",
        "4     512\n",
        "0     432\n",
        "5     192\n",
        "2      96\n",
        "1      36\n",
        "8      24\n",
        "dtype: int64\n",
        "------------------------------------\n",
        "15 veil_type\n",
        "0    8124\n",
        "dtype: int64\n",
        "------------------------------------\n",
        "16 veil_color\n",
        "2    7924\n",
        "1      96\n",
        "0      96\n",
        "3       8\n",
        "dtype: int64\n",
        "------------------------------------\n",
        "17 ring_number\n",
        "1    7488\n",
        "2     600\n",
        "0      36\n",
        "dtype: int64\n",
        "------------------------------------\n",
        "18 ring_type\n",
        "4    3968\n",
        "0    2776\n",
        "2    1296\n",
        "1      48\n",
        "3      36\n",
        "dtype: int64\n",
        "------------------------------------\n",
        "19 spore_print_color\n",
        "7    2388\n",
        "3    1968\n",
        "2    1872\n",
        "1    1632\n",
        "5      72\n",
        "6      48\n",
        "8      48\n",
        "4      48\n",
        "0      48\n",
        "dtype: int64\n",
        "------------------------------------\n",
        "20 population\n",
        "4    4040\n",
        "5    1712\n",
        "3    1248\n",
        "2     400\n",
        "0     384\n",
        "1     340\n",
        "dtype: int64\n",
        "------------------------------------\n",
        "21 habitat\n",
        "0    3148\n",
        "1    2148\n",
        "4    1144\n",
        "2     832\n",
        "5     368\n",
        "3     292\n",
        "6     192\n",
        "dtype: int64\n",
        "------------------------------------\n"
       ]
      }
     ],
     "prompt_number": 11
    },
    {
     "cell_type": "code",
     "collapsed": false,
     "input": [
      "len(attributeCounts)"
     ],
     "language": "python",
     "metadata": {},
     "outputs": [
      {
       "output_type": "pyout",
       "prompt_number": 12,
       "text": [
        "22"
       ]
      }
     ],
     "prompt_number": 12
    },
    {
     "cell_type": "code",
     "collapsed": false,
     "input": [
      "total_attribute_space = 0 # find out how large of an array is required if a one-hot encoder is used\n",
      "for i in xrange(0,Ncol):\n",
      "    print i, attributeCounts[i][0],attributeCounts[i][1]\n",
      "    if i > 0:\n",
      "        total_attribute_space +=attributeCounts[i][1]\n",
      "        \n",
      "print \"---------------------------------------------\"\n",
      "print total_attribute_space"
     ],
     "language": "python",
     "metadata": {},
     "outputs": [
      {
       "output_type": "stream",
       "stream": "stdout",
       "text": [
        "0 tgtclass 2\n",
        "1 cap_shape 6\n",
        "2 cap_surface 4\n",
        "3 cap_color 10\n",
        "4 bruises 2\n",
        "5 odor 9\n",
        "6 gill_attachment 2\n",
        "7 gill_spacing 2\n",
        "8 gill_size 2\n",
        "9 gill_color 12\n",
        "10 stalk_shape 2\n",
        "11 stalk_surface_above_ring 4\n",
        "12 stalk_surface_below_ring 4\n",
        "13 stalk_color_above_ring 9\n",
        "14 stalk_color_below_ring 9\n",
        "15 veil_type 1\n",
        "16 veil_color 4\n",
        "17 ring_number 3\n",
        "18 ring_type 5\n",
        "19 spore_print_color 9\n",
        "20 population 6\n",
        "21 habitat 7\n",
        "---------------------------------------------\n",
        "112\n"
       ]
      }
     ],
     "prompt_number": 13
    },
    {
     "cell_type": "code",
     "collapsed": false,
     "input": [
      "# relationships between predictors\n",
      "from pandas.tools.plotting import scatter_matrix\n",
      "\n",
      "scatter_matrix(mnew[['cap_shape', 'cap_surface', 'cap_color', 'bruises']], figsize=(12, 12), marker='o',alpha=0.3);"
     ],
     "language": "python",
     "metadata": {},
     "outputs": [
      {
       "output_type": "display_data",
       "png": "[encoded data removed]"
      }
     ],
     "prompt_number": 14
    },
    {
     "cell_type": "heading",
     "level": 1,
     "metadata": {},
     "source": [
      "Using a Decision Tree "
     ]
    },
    {
     "cell_type": "code",
     "collapsed": false,
     "input": [
      "import patsy as pt\n",
      "from sklearn import tree"
     ],
     "language": "python",
     "metadata": {},
     "outputs": [],
     "prompt_number": 15
    },
    {
     "cell_type": "code",
     "collapsed": false,
     "input": [
      "# define the function we suspect:\n",
      "modelA = \"tgtclass ~ C(cap_shape) + C(bruises) + C(habitat)\"\n",
      "y,X = pt.dmatrices(modelA,mnew)"
     ],
     "language": "python",
     "metadata": {},
     "outputs": [],
     "prompt_number": 16
    },
    {
     "cell_type": "code",
     "collapsed": false,
     "input": [
      "clf = tree.DecisionTreeClassifier()"
     ],
     "language": "python",
     "metadata": {},
     "outputs": [],
     "prompt_number": 17
    },
    {
     "cell_type": "code",
     "collapsed": false,
     "input": [
      "from sklearn.cross_validation import cross_val_score\n",
      "cross_val_score(clf, X, y , cv = 10)"
     ],
     "language": "python",
     "metadata": {},
     "outputs": [
      {
       "output_type": "pyout",
       "prompt_number": 18,
       "text": [
        "array([ 1.,  1.,  1.,  1.,  1.,  1.,  1.,  1.,  1.,  1.])"
       ]
      }
     ],
     "prompt_number": 18
    },
    {
     "cell_type": "code",
     "collapsed": false,
     "input": [
      "from StringIO import StringIO\n",
      "from IPython.core.display import HTML\n",
      "clf = tree.DecisionTreeClassifier().fit(X,y)\n",
      "dot_data = StringIO()\n",
      "dot_data = tree.export_graphviz(clf,out_file=dot_data)\n",
      "#print dot_data.getvalue()\n",
      "import pydot\n",
      "graph = pydot.graph_from_dot_data(dot_data.getvalue())\n",
      "graph.write_png('tree.png')\n",
      "HTML('<img src=\"tree.png\">')\n"
     ],
     "language": "python",
     "metadata": {},
     "outputs": [
      {
       "html": [
        "<img src=\"tree.png\">"
       ],
       "output_type": "pyout",
       "prompt_number": 19,
       "text": [
        "<IPython.core.display.HTML at 0x8257670>"
       ]
      }
     ],
     "prompt_number": 19
    },
    {
     "cell_type": "code",
     "collapsed": false,
     "input": [
      "shape(X)"
     ],
     "language": "python",
     "metadata": {},
     "outputs": [
      {
       "output_type": "pyout",
       "prompt_number": 20,
       "text": [
        "(8124, 13)"
       ]
      }
     ],
     "prompt_number": 20
    },
    {
     "cell_type": "code",
     "collapsed": false,
     "input": [
      "shape(y)"
     ],
     "language": "python",
     "metadata": {},
     "outputs": [
      {
       "output_type": "pyout",
       "prompt_number": 21,
       "text": [
        "(8124, 1)"
       ]
      }
     ],
     "prompt_number": 21
    },
    {
     "cell_type": "heading",
     "level": 1,
     "metadata": {},
     "source": [
      "CONVERT to arrays and try again (multi-class) for all attributes (mushX) versus (mushY)"
     ]
    },
    {
     "cell_type": "code",
     "collapsed": false,
     "input": [
      "nclf = tree.DecisionTreeClassifier()\n",
      "mushY = mnew['tgtclass'].values\n",
      "mushX = mnew.drop(['tgtclass'],axis=1).values"
     ],
     "language": "python",
     "metadata": {},
     "outputs": [],
     "prompt_number": 40
    },
    {
     "cell_type": "code",
     "collapsed": false,
     "input": [
      "newFulltreefit = nclf.fit(mushX,mushY)\n",
      "dot_data = StringIO()\n",
      "dot_data = tree.export_graphviz(newFulltreefit,out_file=dot_data)\n",
      "graph = pydot.graph_from_dot_data(dot_data.getvalue())\n",
      "graph.write_png('tree_22.png')\n",
      "HTML('<img src=\"tree_22.png\">')"
     ],
     "language": "python",
     "metadata": {},
     "outputs": [
      {
       "html": [
        "<img src=\"tree_22.png\">"
       ],
       "output_type": "pyout",
       "prompt_number": 50,
       "text": [
        "<IPython.core.display.HTML at 0x5cb2170>"
       ]
      }
     ],
     "prompt_number": 50
    },
    {
     "cell_type": "code",
     "collapsed": false,
     "input": [
      "mushX"
     ],
     "language": "python",
     "metadata": {},
     "outputs": [
      {
       "output_type": "pyout",
       "prompt_number": 48,
       "text": [
        "array([[5, 2, 4, ..., 2, 3, 5],\n",
        "       [5, 2, 9, ..., 3, 2, 1],\n",
        "       [0, 2, 8, ..., 3, 2, 3],\n",
        "       ..., \n",
        "       [2, 2, 4, ..., 0, 1, 2],\n",
        "       [3, 3, 4, ..., 7, 4, 2],\n",
        "       [5, 2, 4, ..., 4, 1, 2]])"
       ]
      }
     ],
     "prompt_number": 48
    },
    {
     "cell_type": "code",
     "collapsed": false,
     "input": [
      "predY = newFulltreefit.predict(mushX)"
     ],
     "language": "python",
     "metadata": {},
     "outputs": [],
     "prompt_number": 54
    },
    {
     "cell_type": "code",
     "collapsed": false,
     "input": [
      "from sklearn.metrics import confusion_matrix\n",
      "confusion_matrix(mushY,predY)"
     ],
     "language": "python",
     "metadata": {},
     "outputs": [
      {
       "output_type": "pyout",
       "prompt_number": 55,
       "text": [
        "array([[4208,    0],\n",
        "       [   0, 3916]])"
       ]
      }
     ],
     "prompt_number": 55
    },
    {
     "cell_type": "code",
     "collapsed": false,
     "input": [
      "print mm['tgtclass'].head(), mushY[:5]"
     ],
     "language": "python",
     "metadata": {},
     "outputs": [
      {
       "output_type": "stream",
       "stream": "stdout",
       "text": [
        "0    p\n",
        "1    e\n",
        "2    e\n",
        "3    p\n",
        "4    e\n",
        "Name: tgtclass, dtype: object [1 0 0 1 0]\n"
       ]
      }
     ],
     "prompt_number": 67
    },
    {
     "cell_type": "heading",
     "level": 3,
     "metadata": {},
     "source": [
      "now assess the predictive power using a training set"
     ]
    },
    {
     "cell_type": "code",
     "collapsed": false,
     "input": [
      "#simple cross_validation\n",
      "from sklearn import cross_validation\n",
      "# withhold 30% for testing; setting seed to a value so this set is reproducible\n",
      "X_train, X_test, y_train,y_test = cross_validation.train_test_split(mushX,mushY,test_size=0.3,random_state=42)\n",
      "print X_train.shape,y_train.shape\n",
      "print X_test.shape, y_test.shape\n",
      "\n",
      "dt_clf = tree.DecisionTreeClassifier().fit(X_train,y_train)\n",
      "dot_data = StringIO()\n",
      "dot_data = tree.export_graphviz(dt_clf,out_file=dot_data)\n",
      "graph = pydot.graph_from_dot_data(dot_data.getvalue())\n",
      "graph.write_png('dt_test30pct.png')"
     ],
     "language": "python",
     "metadata": {},
     "outputs": [
      {
       "output_type": "stream",
       "stream": "stdout",
       "text": [
        "(5686, 21) (5686,)\n",
        "(2438, 21) (2438,)\n"
       ]
      }
     ],
     "prompt_number": 58
    },
    {
     "cell_type": "code",
     "collapsed": false,
     "input": [
      "from sklearn import metrics\n",
      "predY = dt_clf.predict(X_test)\n",
      "score = dt_clf.score(X_test, y_test)\n",
      "print score\n",
      "print metrics.precision_score(y_test,predY)"
     ],
     "language": "python",
     "metadata": {},
     "outputs": [
      {
       "output_type": "stream",
       "stream": "stdout",
       "text": [
        "1.0\n",
        "1.0\n"
       ]
      }
     ],
     "prompt_number": 62
    },
    {
     "cell_type": "code",
     "collapsed": false,
     "input": [
      "metrics.confusion_matrix(y_test,predY)"
     ],
     "language": "python",
     "metadata": {},
     "outputs": [
      {
       "output_type": "pyout",
       "prompt_number": 63,
       "text": [
        "array([[1257,    0],\n",
        "       [   0, 1181]])"
       ]
      }
     ],
     "prompt_number": 63
    },
    {
     "cell_type": "code",
     "collapsed": false,
     "input": [
      "len(y_train[y_train == 1])"
     ],
     "language": "python",
     "metadata": {},
     "outputs": [
      {
       "output_type": "pyout",
       "prompt_number": 64,
       "text": [
        "2735"
       ]
      }
     ],
     "prompt_number": 64
    },
    {
     "cell_type": "heading",
     "level": 2,
     "metadata": {},
     "source": [
      "Explore the key Features"
     ]
    },
    {
     "cell_type": "heading",
     "level": 3,
     "metadata": {},
     "source": [
      "features used in the splits: X[8], X[18], X[19], X[20], X[7], X[4], X[12], X[16], X[9], X[11], X[1], X[3], X[2]"
     ]
    },
    {
     "cell_type": "code",
     "collapsed": false,
     "input": [
      "mnew[str(cnames[9])].value_counts()"
     ],
     "language": "python",
     "metadata": {},
     "outputs": [
      {
       "output_type": "pyout",
       "prompt_number": 71,
       "text": [
        "0     1728\n",
        "7     1492\n",
        "10    1202\n",
        "5     1048\n",
        "2      752\n",
        "3      732\n",
        "9      492\n",
        "4      408\n",
        "1       96\n",
        "11      86\n",
        "6       64\n",
        "8       24\n",
        "dtype: int64"
       ]
      }
     ],
     "prompt_number": 71
    },
    {
     "cell_type": "code",
     "collapsed": false,
     "input": [
      "mnew.groupby('tgtclass')[str(cnames[19])].value_counts()"
     ],
     "language": "python",
     "metadata": {},
     "outputs": [
      {
       "output_type": "pyout",
       "prompt_number": 75,
       "text": [
        "tgtclass   \n",
        "0         3    1744\n",
        "          2    1648\n",
        "          7     576\n",
        "          6      48\n",
        "          1      48\n",
        "          8      48\n",
        "          4      48\n",
        "          0      48\n",
        "1         7    1812\n",
        "          1    1584\n",
        "          3     224\n",
        "          2     224\n",
        "          5      72\n",
        "dtype: int64"
       ]
      }
     ],
     "prompt_number": 75
    },
    {
     "cell_type": "code",
     "collapsed": false,
     "input": [
      "gg = mnew[mnew[str(cnames[9])] <= 3.5].groupby('tgtclass')\n",
      "gg.gill_color.describe()"
     ],
     "language": "python",
     "metadata": {},
     "outputs": [
      {
       "output_type": "pyout",
       "prompt_number": 93,
       "text": [
        "tgtclass       \n",
        "0         count     548.000000\n",
        "          mean        2.197080\n",
        "          std         0.713817\n",
        "          min         1.000000\n",
        "          25%         2.000000\n",
        "          50%         2.000000\n",
        "          75%         3.000000\n",
        "          max         3.000000\n",
        "1         count    2760.000000\n",
        "          mean        0.939130\n",
        "          std         1.253306\n",
        "          min         0.000000\n",
        "          25%         0.000000\n",
        "          50%         0.000000\n",
        "          75%         2.000000\n",
        "          max         3.000000\n",
        "dtype: float64"
       ]
      }
     ],
     "prompt_number": 93
    },
    {
     "cell_type": "code",
     "collapsed": false,
     "input": [
      "mushX[:10,8]"
     ],
     "language": "python",
     "metadata": {},
     "outputs": [
      {
       "output_type": "pyout",
       "prompt_number": 95,
       "text": [
        "array([4, 4, 5, 5, 4, 5, 2, 5, 7, 2])"
       ]
      }
     ],
     "prompt_number": 95
    },
    {
     "cell_type": "code",
     "collapsed": false,
     "input": [
      "mnew[str(cnames[9])].head(10)"
     ],
     "language": "python",
     "metadata": {},
     "outputs": [
      {
       "output_type": "pyout",
       "prompt_number": 98,
       "text": [
        "0    4\n",
        "1    4\n",
        "2    5\n",
        "3    5\n",
        "4    4\n",
        "5    5\n",
        "6    2\n",
        "7    5\n",
        "8    7\n",
        "9    2\n",
        "Name: gill_color, dtype: int32"
       ]
      }
     ],
     "prompt_number": 98
    },
    {
     "cell_type": "code",
     "collapsed": false,
     "input": [
      "print cnames[18], cnames[19],cnames[7],cnames[20]"
     ],
     "language": "python",
     "metadata": {},
     "outputs": [
      {
       "output_type": "stream",
       "stream": "stdout",
       "text": [
        "ring_type spore_print_color gill_spacing population\n"
       ]
      }
     ],
     "prompt_number": 99
    },
    {
     "cell_type": "code",
     "collapsed": false,
     "input": [
      "X[:10,6]"
     ],
     "language": "python",
     "metadata": {},
     "outputs": [
      {
       "output_type": "pyout",
       "prompt_number": 100,
       "text": [
        "array([ 1.,  1.,  1.,  1.,  0.,  1.,  1.,  1.,  1.,  1.])"
       ]
      }
     ],
     "prompt_number": 100
    },
    {
     "cell_type": "code",
     "collapsed": false,
     "input": [
      "len((y[X[:,6] <= 0.5] == 1).nonzero()[0])"
     ],
     "language": "python",
     "metadata": {},
     "outputs": [
      {
       "output_type": "pyout",
       "prompt_number": 113,
       "text": [
        "3292"
       ]
      }
     ],
     "prompt_number": 113
    },
    {
     "cell_type": "code",
     "collapsed": false,
     "input": [
      "len((mushX[:,8] <= 3.5).nonzero()[0])"
     ],
     "language": "python",
     "metadata": {},
     "outputs": [
      {
       "output_type": "pyout",
       "prompt_number": 117,
       "text": [
        "3308"
       ]
      }
     ],
     "prompt_number": 117
    },
    {
     "cell_type": "code",
     "collapsed": false,
     "input": [
      "len((mushY[mushX[:,8] >3.5] == 1).nonzero()[0])"
     ],
     "language": "python",
     "metadata": {},
     "outputs": [
      {
       "output_type": "pyout",
       "prompt_number": 119,
       "text": [
        "1156"
       ]
      }
     ],
     "prompt_number": 119
    },
    {
     "cell_type": "code",
     "collapsed": false,
     "input": [
      "mm.gill_color.unique()"
     ],
     "language": "python",
     "metadata": {},
     "outputs": [
      {
       "output_type": "pyout",
       "prompt_number": 121,
       "text": [
        "array(['k', 'n', 'g', 'p', 'w', 'h', 'u', 'e', 'b', 'r', 'y', 'o'], dtype=object)"
       ]
      }
     ],
     "prompt_number": 121
    },
    {
     "cell_type": "code",
     "collapsed": false,
     "input": [
      "print mm.gill_color.head(13), mushX[:13,8]"
     ],
     "language": "python",
     "metadata": {},
     "outputs": [
      {
       "output_type": "stream",
       "stream": "stdout",
       "text": [
        "0     k\n",
        "1     k\n",
        "2     n\n",
        "3     n\n",
        "4     k\n",
        "5     n\n",
        "6     g\n",
        "7     n\n",
        "8     p\n",
        "9     g\n",
        "10    g\n",
        "11    n\n",
        "12    w\n",
        "Name: gill_color, dtype: object [ 4  4  5  5  4  5  2  5  7  2  2  5 10]\n"
       ]
      }
     ],
     "prompt_number": 130
    },
    {
     "cell_type": "code",
     "collapsed": false,
     "input": [
      "mushX[:13,8]"
     ],
     "language": "python",
     "metadata": {},
     "outputs": [
      {
       "output_type": "pyout",
       "prompt_number": 129,
       "text": [
        "array([ 4,  4,  5,  5,  4,  5,  2,  5,  7,  2,  2,  5, 10])"
       ]
      }
     ],
     "prompt_number": 129
    },
    {
     "cell_type": "code",
     "collapsed": false,
     "input": [
      "aindx = (mm.gill_color == 'h').nonzero()[0][0]\n",
      "print aindx\n",
      "print mushX[aindx,8]"
     ],
     "language": "python",
     "metadata": {},
     "outputs": [
      {
       "output_type": "stream",
       "stream": "stdout",
       "text": [
        "127\n",
        "3\n"
       ]
      }
     ],
     "prompt_number": 137
    },
    {
     "cell_type": "code",
     "collapsed": false,
     "input": [
      "aindx = (mm.gill_color == 'o').nonzero()[0][0]\n",
      "print aindx\n",
      "print mushX[aindx,8]"
     ],
     "language": "python",
     "metadata": {},
     "outputs": [
      {
       "output_type": "stream",
       "stream": "stdout",
       "text": [
        "6040\n",
        "6\n"
       ]
      }
     ],
     "prompt_number": 155
    },
    {
     "cell_type": "code",
     "collapsed": false,
     "input": [
      "# list the left hand side split values in decision tree\n",
      "mnew[mnew['gill_color'] <= 3.5].groupby('tgtclass')['tgtclass'].value_counts()"
     ],
     "language": "python",
     "metadata": {},
     "outputs": [
      {
       "output_type": "pyout",
       "prompt_number": 151,
       "text": [
        "tgtclass   \n",
        "0         0     548\n",
        "1         1    2760\n",
        "dtype: int64"
       ]
      }
     ],
     "prompt_number": 151
    },
    {
     "cell_type": "code",
     "collapsed": false,
     "input": [
      "mnew['gill_color'].value_counts()"
     ],
     "language": "python",
     "metadata": {},
     "outputs": [
      {
       "output_type": "pyout",
       "prompt_number": 152,
       "text": [
        "0     1728\n",
        "7     1492\n",
        "10    1202\n",
        "5     1048\n",
        "2      752\n",
        "3      732\n",
        "9      492\n",
        "4      408\n",
        "1       96\n",
        "11      86\n",
        "6       64\n",
        "8       24\n",
        "dtype: int64"
       ]
      }
     ],
     "prompt_number": 152
    },
    {
     "cell_type": "code",
     "collapsed": false,
     "input": [
      "mushX[:,11].max()"
     ],
     "language": "python",
     "metadata": {},
     "outputs": [
      {
       "output_type": "pyout",
       "prompt_number": 159,
       "text": [
        "3"
       ]
      }
     ],
     "prompt_number": 159
    },
    {
     "cell_type": "code",
     "collapsed": false,
     "input": [
      "print mm[str(cnames[12])].head(13), mushX[:13,11]\n",
      "print cnames[12]"
     ],
     "language": "python",
     "metadata": {},
     "outputs": [
      {
       "output_type": "stream",
       "stream": "stdout",
       "text": [
        "0     s\n",
        "1     s\n",
        "2     s\n",
        "3     s\n",
        "4     s\n",
        "5     s\n",
        "6     s\n",
        "7     s\n",
        "8     s\n",
        "9     s\n",
        "10    s\n",
        "11    s\n",
        "12    s\n",
        "Name: stalk_surface_below_ring, dtype: object [2 2 2 2 2 2 2 2 2 2 2 2 2]\n",
        "stalk_surface_below_ring\n"
       ]
      }
     ],
     "prompt_number": 174
    },
    {
     "cell_type": "code",
     "collapsed": false,
     "input": [
      "print cnames[2:5]"
     ],
     "language": "python",
     "metadata": {},
     "outputs": [
      {
       "output_type": "stream",
       "stream": "stdout",
       "text": [
        "Index([cap_surface, cap_color, bruises], dtype=object)\n"
       ]
      }
     ],
     "prompt_number": 176
    },
    {
     "cell_type": "code",
     "collapsed": false,
     "input": [
      "shape(mushX)"
     ],
     "language": "python",
     "metadata": {},
     "outputs": [
      {
       "output_type": "pyout",
       "prompt_number": 163,
       "text": [
        "(8124, 21)"
       ]
      }
     ],
     "prompt_number": 163
    },
    {
     "cell_type": "code",
     "collapsed": false,
     "input": [
      "#create a series of training sizes from 0 to 1\n",
      "trnsize = 0.05*arange(21)\n",
      "trnsize"
     ],
     "language": "python",
     "metadata": {},
     "outputs": [
      {
       "output_type": "pyout",
       "prompt_number": 57,
       "text": [
        "array([ 0.  ,  0.05,  0.1 ,  0.15,  0.2 ,  0.25,  0.3 ,  0.35,  0.4 ,\n",
        "        0.45,  0.5 ,  0.55,  0.6 ,  0.65,  0.7 ,  0.75,  0.8 ,  0.85,\n",
        "        0.9 ,  0.95,  1.  ])"
       ]
      }
     ],
     "prompt_number": 57
    },
    {
     "cell_type": "code",
     "collapsed": false,
     "input": [
      "\n",
      "\n",
      "i=0\n",
      "for t in trnsize:\n",
      "    X_train, X_test, y_train,y_test = cross_validation.train_test_split(mushX,mushY,test_size=1-t)\n",
      "    \n",
      "    i+=1\n",
      "    "
     ],
     "language": "python",
     "metadata": {},
     "outputs": []
    },
    {
     "cell_type": "heading",
     "level": 1,
     "metadata": {},
     "source": [
      "Define another rule from .names"
     ]
    },
    {
     "cell_type": "code",
     "collapsed": false,
     "input": [
      "#dfine groups using rule P4 habitat=leaves.and.cap_color=white\n",
      "ruleP4 = mm[(mm.habitat =='l') & (mm.cap_color == 'w')]\n",
      "notruleP4 = mm[(mm.habitat !='l') & (mm.cap_color != 'w')]\n",
      "#output resuls\n",
      "print ruleP4.groupby('tgtclass')['tgtclass'].count()\n",
      "print \"_______________________________\"\n",
      "notruleP4.groupby('tgtclass')['tgtclass'].count()"
     ],
     "language": "python",
     "metadata": {},
     "outputs": []
    },
    {
     "cell_type": "code",
     "collapsed": false,
     "input": [
      "#create a series of training sizes from 0 to 1\n",
      "trnsize = 0.05*arange(21)\n",
      "trnsize"
     ],
     "language": "python",
     "metadata": {},
     "outputs": []
    },
    {
     "cell_type": "code",
     "collapsed": false,
     "input": [
      "i=0\n",
      "for t in trnsize:\n",
      "    X_train, X_test, y_train,y_test = cross_validation.train_test_split(mushX,mushY,test_size=1-t)\n",
      "    \n",
      "    i+=1"
     ],
     "language": "python",
     "metadata": {},
     "outputs": []
    }
   ],
   "metadata": {}
  }
 ]
}