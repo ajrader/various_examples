{
 "metadata": {
  "name": "",
  "signature": "sha256:786a4924283ec76fca2f1a4eaff6695a8993359685fcc8cada2b66d35f40cff1"
 },
 "nbformat": 3,
 "nbformat_minor": 0,
 "worksheets": [
  {
   "cells": [
    {
     "cell_type": "markdown",
     "metadata": {},
     "source": [
      "# Ordinary Least Squares Using Statsmodels\n",
      "\n",
      "The statsmodels package provides several different classes that provide different options for linear regression. Getting started with linear regression is quite straightforward with the OLS module.\n",
      "To start with we load the Longley dataset of US macroeconomic data from the Rdatasets website.\n",
      "\n",
      "From this site: http://www.datarobot.com/blog/ordinary-least-squares-in-python/"
     ]
    },
    {
     "cell_type": "code",
     "collapsed": false,
     "input": [
      "# load numpy and pandas for data manipulation\n",
      "import numpy as np\n",
      "import pandas as pd\n",
      "\n",
      "# load statsmodels as alias ``sm``\n",
      "import statsmodels.api as sm\n",
      "\n",
      "# load the longley dataset into a pandas data frame - first column (year) used as row labels\n",
      "df = pd.read_csv('http://vincentarelbundock.github.io/Rdatasets/csv/datasets/longley.csv', index_col=0)\n",
      "df.head()"
     ],
     "language": "python",
     "metadata": {},
     "outputs": [
      {
       "html": [
        "<div style=\"max-height:1000px;max-width:1500px;overflow:auto;\">\n",
        "<table border=\"1\" class=\"dataframe\">\n",
        "  <thead>\n",
        "    <tr style=\"text-align: right;\">\n",
        "      <th></th>\n",
        "      <th>GNP.deflator</th>\n",
        "      <th>GNP</th>\n",
        "      <th>Unemployed</th>\n",
        "      <th>Armed.Forces</th>\n",
        "      <th>Population</th>\n",
        "      <th>Year</th>\n",
        "      <th>Employed</th>\n",
        "    </tr>\n",
        "  </thead>\n",
        "  <tbody>\n",
        "    <tr>\n",
        "      <th>1947</th>\n",
        "      <td> 83.0</td>\n",
        "      <td> 234.289</td>\n",
        "      <td> 235.6</td>\n",
        "      <td> 159.0</td>\n",
        "      <td> 107.608</td>\n",
        "      <td> 1947</td>\n",
        "      <td> 60.323</td>\n",
        "    </tr>\n",
        "    <tr>\n",
        "      <th>1948</th>\n",
        "      <td> 88.5</td>\n",
        "      <td> 259.426</td>\n",
        "      <td> 232.5</td>\n",
        "      <td> 145.6</td>\n",
        "      <td> 108.632</td>\n",
        "      <td> 1948</td>\n",
        "      <td> 61.122</td>\n",
        "    </tr>\n",
        "    <tr>\n",
        "      <th>1949</th>\n",
        "      <td> 88.2</td>\n",
        "      <td> 258.054</td>\n",
        "      <td> 368.2</td>\n",
        "      <td> 161.6</td>\n",
        "      <td> 109.773</td>\n",
        "      <td> 1949</td>\n",
        "      <td> 60.171</td>\n",
        "    </tr>\n",
        "    <tr>\n",
        "      <th>1950</th>\n",
        "      <td> 89.5</td>\n",
        "      <td> 284.599</td>\n",
        "      <td> 335.1</td>\n",
        "      <td> 165.0</td>\n",
        "      <td> 110.929</td>\n",
        "      <td> 1950</td>\n",
        "      <td> 61.187</td>\n",
        "    </tr>\n",
        "    <tr>\n",
        "      <th>1951</th>\n",
        "      <td> 96.2</td>\n",
        "      <td> 328.975</td>\n",
        "      <td> 209.9</td>\n",
        "      <td> 309.9</td>\n",
        "      <td> 112.075</td>\n",
        "      <td> 1951</td>\n",
        "      <td> 63.221</td>\n",
        "    </tr>\n",
        "  </tbody>\n",
        "</table>\n",
        "</div>"
       ],
       "metadata": {},
       "output_type": "pyout",
       "prompt_number": 1,
       "text": [
        "      GNP.deflator      GNP  Unemployed  Armed.Forces  Population  Year  \\\n",
        "1947          83.0  234.289       235.6         159.0     107.608  1947   \n",
        "1948          88.5  259.426       232.5         145.6     108.632  1948   \n",
        "1949          88.2  258.054       368.2         161.6     109.773  1949   \n",
        "1950          89.5  284.599       335.1         165.0     110.929  1950   \n",
        "1951          96.2  328.975       209.9         309.9     112.075  1951   \n",
        "\n",
        "      Employed  \n",
        "1947    60.323  \n",
        "1948    61.122  \n",
        "1949    60.171  \n",
        "1950    61.187  \n",
        "1951    63.221  "
       ]
      }
     ],
     "prompt_number": 1
    },
    {
     "cell_type": "code",
     "collapsed": false,
     "input": [
      "y = df.Employed  # response\n",
      "X = df.GNP  # predictor\n",
      "X = sm.add_constant(X)  # Adds a constant term to the predictor\n",
      "X.head()"
     ],
     "language": "python",
     "metadata": {},
     "outputs": [
      {
       "html": [
        "<div style=\"max-height:1000px;max-width:1500px;overflow:auto;\">\n",
        "<table border=\"1\" class=\"dataframe\">\n",
        "  <thead>\n",
        "    <tr style=\"text-align: right;\">\n",
        "      <th></th>\n",
        "      <th>const</th>\n",
        "      <th>GNP</th>\n",
        "    </tr>\n",
        "  </thead>\n",
        "  <tbody>\n",
        "    <tr>\n",
        "      <th>1947</th>\n",
        "      <td> 1</td>\n",
        "      <td> 234.289</td>\n",
        "    </tr>\n",
        "    <tr>\n",
        "      <th>1948</th>\n",
        "      <td> 1</td>\n",
        "      <td> 259.426</td>\n",
        "    </tr>\n",
        "    <tr>\n",
        "      <th>1949</th>\n",
        "      <td> 1</td>\n",
        "      <td> 258.054</td>\n",
        "    </tr>\n",
        "    <tr>\n",
        "      <th>1950</th>\n",
        "      <td> 1</td>\n",
        "      <td> 284.599</td>\n",
        "    </tr>\n",
        "    <tr>\n",
        "      <th>1951</th>\n",
        "      <td> 1</td>\n",
        "      <td> 328.975</td>\n",
        "    </tr>\n",
        "  </tbody>\n",
        "</table>\n",
        "</div>"
       ],
       "metadata": {},
       "output_type": "pyout",
       "prompt_number": 3,
       "text": [
        "      const      GNP\n",
        "1947      1  234.289\n",
        "1948      1  259.426\n",
        "1949      1  258.054\n",
        "1950      1  284.599\n",
        "1951      1  328.975"
       ]
      }
     ],
     "prompt_number": 3
    },
    {
     "cell_type": "code",
     "collapsed": false,
     "input": [
      "est = sm.OLS(y, X)"
     ],
     "language": "python",
     "metadata": {},
     "outputs": [],
     "prompt_number": 4
    },
    {
     "cell_type": "code",
     "collapsed": false,
     "input": [
      "est = est.fit()\n",
      "est.summary()"
     ],
     "language": "python",
     "metadata": {},
     "outputs": [
      {
       "output_type": "stream",
       "stream": "stderr",
       "text": [
        "C:\\Anaconda\\lib\\site-packages\\scipy\\stats\\stats.py:1205: UserWarning: kurtosistest only valid for n>=20 ... continuing anyway, n=16\n",
        "  int(n))\n"
       ]
      },
      {
       "html": [
        "<table class=\"simpletable\">\n",
        "<caption>OLS Regression Results</caption>\n",
        "<tr>\n",
        "  <th>Dep. Variable:</th>        <td>Employed</td>     <th>  R-squared:         </th> <td>   0.967</td>\n",
        "</tr>\n",
        "<tr>\n",
        "  <th>Model:</th>                   <td>OLS</td>       <th>  Adj. R-squared:    </th> <td>   0.965</td>\n",
        "</tr>\n",
        "<tr>\n",
        "  <th>Method:</th>             <td>Least Squares</td>  <th>  F-statistic:       </th> <td>   415.1</td>\n",
        "</tr>\n",
        "<tr>\n",
        "  <th>Date:</th>             <td>Fri, 18 Jul 2014</td> <th>  Prob (F-statistic):</th> <td>8.36e-12</td>\n",
        "</tr>\n",
        "<tr>\n",
        "  <th>Time:</th>                 <td>12:16:10</td>     <th>  Log-Likelihood:    </th> <td> -14.904</td>\n",
        "</tr>\n",
        "<tr>\n",
        "  <th>No. Observations:</th>      <td>    16</td>      <th>  AIC:               </th> <td>   33.81</td>\n",
        "</tr>\n",
        "<tr>\n",
        "  <th>Df Residuals:</th>          <td>    14</td>      <th>  BIC:               </th> <td>   35.35</td>\n",
        "</tr>\n",
        "<tr>\n",
        "  <th>Df Model:</th>              <td>     1</td>      <th>                     </th>     <td> </td>   \n",
        "</tr>\n",
        "</table>\n",
        "<table class=\"simpletable\">\n",
        "<tr>\n",
        "    <td></td>       <th>coef</th>     <th>std err</th>      <th>t</th>      <th>P>|t|</th> <th>[95.0% Conf. Int.]</th> \n",
        "</tr>\n",
        "<tr>\n",
        "  <th>const</th> <td>   51.8436</td> <td>    0.681</td> <td>   76.087</td> <td> 0.000</td> <td>   50.382    53.305</td>\n",
        "</tr>\n",
        "<tr>\n",
        "  <th>GNP</th>   <td>    0.0348</td> <td>    0.002</td> <td>   20.374</td> <td> 0.000</td> <td>    0.031     0.038</td>\n",
        "</tr>\n",
        "</table>\n",
        "<table class=\"simpletable\">\n",
        "<tr>\n",
        "  <th>Omnibus:</th>       <td> 1.925</td> <th>  Durbin-Watson:     </th> <td>   1.619</td>\n",
        "</tr>\n",
        "<tr>\n",
        "  <th>Prob(Omnibus):</th> <td> 0.382</td> <th>  Jarque-Bera (JB):  </th> <td>   1.215</td>\n",
        "</tr>\n",
        "<tr>\n",
        "  <th>Skew:</th>          <td> 0.664</td> <th>  Prob(JB):          </th> <td>   0.545</td>\n",
        "</tr>\n",
        "<tr>\n",
        "  <th>Kurtosis:</th>      <td> 2.759</td> <th>  Cond. No.          </th> <td>1.66e+03</td>\n",
        "</tr>\n",
        "</table>"
       ],
       "metadata": {},
       "output_type": "pyout",
       "prompt_number": 5,
       "text": [
        "<class 'statsmodels.iolib.summary.Summary'>\n",
        "\"\"\"\n",
        "                            OLS Regression Results                            \n",
        "==============================================================================\n",
        "Dep. Variable:               Employed   R-squared:                       0.967\n",
        "Model:                            OLS   Adj. R-squared:                  0.965\n",
        "Method:                 Least Squares   F-statistic:                     415.1\n",
        "Date:                Fri, 18 Jul 2014   Prob (F-statistic):           8.36e-12\n",
        "Time:                        12:16:10   Log-Likelihood:                -14.904\n",
        "No. Observations:                  16   AIC:                             33.81\n",
        "Df Residuals:                      14   BIC:                             35.35\n",
        "Df Model:                           1                                         \n",
        "==============================================================================\n",
        "                 coef    std err          t      P>|t|      [95.0% Conf. Int.]\n",
        "------------------------------------------------------------------------------\n",
        "const         51.8436      0.681     76.087      0.000        50.382    53.305\n",
        "GNP            0.0348      0.002     20.374      0.000         0.031     0.038\n",
        "==============================================================================\n",
        "Omnibus:                        1.925   Durbin-Watson:                   1.619\n",
        "Prob(Omnibus):                  0.382   Jarque-Bera (JB):                1.215\n",
        "Skew:                           0.664   Prob(JB):                        0.545\n",
        "Kurtosis:                       2.759   Cond. No.                     1.66e+03\n",
        "==============================================================================\n",
        "\n",
        "Warnings:\n",
        "[1] The condition number is large, 1.66e+03. This might indicate that there are\n",
        "strong multicollinearity or other numerical problems.\n",
        "\"\"\""
       ]
      }
     ],
     "prompt_number": 5
    },
    {
     "cell_type": "code",
     "collapsed": false,
     "input": [
      "est.params"
     ],
     "language": "python",
     "metadata": {},
     "outputs": [
      {
       "metadata": {},
       "output_type": "pyout",
       "prompt_number": 6,
       "text": [
        "const    51.843590\n",
        "GNP       0.034752\n",
        "dtype: float64"
       ]
      }
     ],
     "prompt_number": 6
    },
    {
     "cell_type": "code",
     "collapsed": false,
     "input": [
      "# Make sure that graphics appear inline in the iPython notebook\n",
      "%pylab inline\n",
      "\n",
      "# We pick 100 hundred points equally spaced from the min to the max\n",
      "X_prime = np.linspace(X.GNP.min(), X.GNP.max(), 100)[:, np.newaxis]\n",
      "X_prime = sm.add_constant(X_prime)  # add constant as we did before\n",
      "\n",
      "# Now we calculate the predicted values\n",
      "y_hat = est.predict(X_prime)\n",
      "\n",
      "plt.scatter(X.GNP, y, alpha=0.3)  # Plot the raw data\n",
      "plt.xlabel(\"Gross National Product\")\n",
      "plt.ylabel(\"Total Employment\")\n",
      "plt.plot(X_prime[:, 1], y_hat, 'r', alpha=0.9)  # Add the regression line, colored in red"
     ],
     "language": "python",
     "metadata": {},
     "outputs": [
      {
       "output_type": "stream",
       "stream": "stdout",
       "text": [
        "Populating the interactive namespace from numpy and matplotlib\n"
       ]
      },
      {
       "metadata": {},
       "output_type": "pyout",
       "prompt_number": 7,
       "text": [
        "[<matplotlib.lines.Line2D at 0x167d37f0>]"
       ]
      },
      {
       "metadata": {},
       "output_type": "display_data",
       "png": "[encoded data removed]",
       "text": [
        "<matplotlib.figure.Figure at 0x1672c1d0>"
       ]
      }
     ],
     "prompt_number": 7
    },
    {
     "cell_type": "code",
     "collapsed": false,
     "input": [
      "import seaborn as sns\n",
      "sns.regplot(X.GNP,y)"
     ],
     "language": "python",
     "metadata": {},
     "outputs": [
      {
       "metadata": {},
       "output_type": "pyout",
       "prompt_number": 14,
       "text": [
        "<matplotlib.axes.AxesSubplot at 0x172bb128>"
       ]
      },
      {
       "metadata": {},
       "output_type": "display_data",
       "png": "[encoded data removed]",
       "text": [
        "<matplotlib.figure.Figure at 0x172d9828>"
       ]
      }
     ],
     "prompt_number": 14
    },
    {
     "cell_type": "code",
     "collapsed": false,
     "input": [
      "170.5/22."
     ],
     "language": "python",
     "metadata": {},
     "outputs": [
      {
       "metadata": {},
       "output_type": "pyout",
       "prompt_number": 1,
       "text": [
        "7.75"
       ]
      }
     ],
     "prompt_number": 1
    },
    {
     "cell_type": "code",
     "collapsed": false,
     "input": [
      "7.75*5"
     ],
     "language": "python",
     "metadata": {},
     "outputs": [
      {
       "metadata": {},
       "output_type": "pyout",
       "prompt_number": 2,
       "text": [
        "38.75"
       ]
      }
     ],
     "prompt_number": 2
    },
    {
     "cell_type": "code",
     "collapsed": false,
     "input": [
      ".4*.24"
     ],
     "language": "python",
     "metadata": {},
     "outputs": [
      {
       "metadata": {},
       "output_type": "pyout",
       "prompt_number": 1,
       "text": [
        "0.096"
       ]
      }
     ],
     "prompt_number": 1
    },
    {
     "cell_type": "code",
     "collapsed": false,
     "input": [
      ".6*.7*.2"
     ],
     "language": "python",
     "metadata": {},
     "outputs": [
      {
       "metadata": {},
       "output_type": "pyout",
       "prompt_number": 2,
       "text": [
        "0.084"
       ]
      }
     ],
     "prompt_number": 2
    },
    {
     "cell_type": "code",
     "collapsed": false,
     "input": [],
     "language": "python",
     "metadata": {},
     "outputs": [
      {
       "metadata": {},
       "output_type": "pyout",
       "prompt_number": 3,
       "text": [
        "0.096"
       ]
      }
     ],
     "prompt_number": 3
    },
    {
     "cell_type": "code",
     "collapsed": false,
     "input": [
      "print p1*p2*(1-p3)\n",
      "print p1*p3*(1-p2)\n",
      "print p3*p2*(1-p1)\n",
      "print p1*p2*(1-p3)+ p1*p3*(1-p2)+ p3*p2*(1-p1)"
     ],
     "language": "python",
     "metadata": {},
     "outputs": [
      {
       "output_type": "stream",
       "stream": "stdout",
       "text": [
        "0.144\n",
        "0.024\n",
        "0.224\n",
        "0.392\n"
       ]
      }
     ],
     "prompt_number": 7
    },
    {
     "cell_type": "code",
     "collapsed": false,
     "input": [
      "print p1*(1-p2)*(1-p3)\n",
      "print p2*(1-p3)*(1-p1)\n",
      "print p3*(1-p2)*(1-p1)\n",
      "print p1*(1-p2)*(1-p3)+ p2*(1-p3)*(1-p1)+ p3*(1-p2)*(1-p1)"
     ],
     "language": "python",
     "metadata": {},
     "outputs": [
      {
       "output_type": "stream",
       "stream": "stdout",
       "text": [
        "0.036\n",
        "0.336\n",
        "0.056\n",
        "0.428\n"
       ]
      }
     ],
     "prompt_number": 10
    },
    {
     "cell_type": "code",
     "collapsed": false,
     "input": [],
     "language": "python",
     "metadata": {},
     "outputs": [
      {
       "metadata": {},
       "output_type": "pyout",
       "prompt_number": 12,
       "text": [
        "1.0"
       ]
      }
     ],
     "prompt_number": 12
    },
    {
     "cell_type": "code",
     "collapsed": false,
     "input": [],
     "language": "python",
     "metadata": {},
     "outputs": []
    }
   ],
   "metadata": {}
  }
 ]
}