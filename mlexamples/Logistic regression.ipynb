{
 "metadata": {
  "name": "",
  "signature": "sha256:e164e62c9a8fdb2dffbd85d1c49332c60a80f2c7abf8b6ef1751b88387fc96a5"
 },
 "nbformat": 3,
 "nbformat_minor": 0,
 "worksheets": [
  {
   "cells": [
    {
     "cell_type": "markdown",
     "metadata": {},
     "source": [
      "# Using some statistical modeling techniques on 'standard datasets'\n",
      "I'm following the yhathq blog post about logistic regression and python:\n",
      "http://blog.yhathq.com/posts/logistic-regression-and-python.html\n"
     ]
    },
    {
     "cell_type": "markdown",
     "metadata": {},
     "source": [
      "Input dataset is We'll be using the same dataset as UCLA's Logit Regression in R tutorial to explore logistic regression in Python. Our goal will be to identify the various factors that may influence admission into graduate school.\n",
      "\n",
      "The dataset contains several columns which we can use as predictor variables:\n",
      "\n",
      "* gpa\n",
      "* gre score\n",
      "8 rank or presitge of an applicant's undergraduate alma mater\n",
      "\n",
      "The fourth column, admit, is our binary target variable. It indicates whether or not a candidate was admitted our not."
     ]
    },
    {
     "cell_type": "markdown",
     "metadata": {},
     "source": [
      "## Load the data"
     ]
    },
    {
     "cell_type": "code",
     "collapsed": false,
     "input": [
      "import pandas as pd\n",
      "import statsmodels.api as sm\n",
      "%pylab inline"
     ],
     "language": "python",
     "metadata": {},
     "outputs": [
      {
       "output_type": "stream",
       "stream": "stdout",
       "text": [
        "Populating the interactive namespace from numpy and matplotlib\n"
       ]
      }
     ],
     "prompt_number": 2
    },
    {
     "cell_type": "heading",
     "level": 2,
     "metadata": {},
     "source": [
      "# read the data in\n",
      "df = pd.read_csv(\"http://www.ats.ucla.edu/stat/data/binary.csv\")\n",
      " \n"
     ]
    },
    {
     "cell_type": "code",
     "collapsed": false,
     "input": [
      "# take a look at the dataset\n",
      "print df.head()\n",
      "# take a look at the dataset\n",
      "print df.head()\n",
      "# rename the 'rank' column because there is also a DataFrame method called 'rank'\n",
      "df.columns = [\"admit\", \"gre\", \"gpa\", \"prestige\"]\n",
      "print df.columns\n"
     ],
     "language": "python",
     "metadata": {},
     "outputs": [
      {
       "output_type": "stream",
       "stream": "stdout",
       "text": [
        "   admit  gre   gpa  rank\n",
        "0      0  380  3.61     3\n",
        "1      1  660  3.67     3\n",
        "2      1  800  4.00     1\n",
        "3      1  640  3.19     4\n",
        "4      0  520  2.93     4\n",
        "\n",
        "[5 rows x 4 columns]\n",
        "   admit  gre   gpa  rank\n",
        "0      0  380  3.61     3\n",
        "1      1  660  3.67     3\n",
        "2      1  800  4.00     1\n",
        "3      1  640  3.19     4\n",
        "4      0  520  2.93     4\n",
        "\n",
        "[5 rows x 4 columns]\n",
        "Index([u'admit', u'gre', u'gpa', u'prestige'], dtype='object')\n"
       ]
      }
     ],
     "prompt_number": 4
    },
    {
     "cell_type": "markdown",
     "metadata": {},
     "source": [
      "## Summary statistics and looking at the data"
     ]
    },
    {
     "cell_type": "code",
     "collapsed": false,
     "input": [
      "print df.describe()"
     ],
     "language": "python",
     "metadata": {},
     "outputs": [
      {
       "output_type": "stream",
       "stream": "stdout",
       "text": [
        "            admit         gre         gpa   prestige\n",
        "count  400.000000  400.000000  400.000000  400.00000\n",
        "mean     0.317500  587.700000    3.389900    2.48500\n",
        "std      0.466087  115.516536    0.380567    0.94446\n",
        "min      0.000000  220.000000    2.260000    1.00000\n",
        "25%      0.000000  520.000000    3.130000    2.00000\n",
        "50%      0.000000  580.000000    3.395000    2.00000\n",
        "75%      1.000000  660.000000    3.670000    3.00000\n",
        "max      1.000000  800.000000    4.000000    4.00000\n",
        "\n",
        "[8 rows x 4 columns]\n"
       ]
      }
     ],
     "prompt_number": 7
    },
    {
     "cell_type": "code",
     "collapsed": false,
     "input": [
      "df.std()"
     ],
     "language": "python",
     "metadata": {},
     "outputs": [
      {
       "metadata": {},
       "output_type": "pyout",
       "prompt_number": 8,
       "text": [
        "admit         0.466087\n",
        "gre         115.516536\n",
        "gpa           0.380567\n",
        "prestige      0.944460\n",
        "dtype: float64"
       ]
      }
     ],
     "prompt_number": 8
    },
    {
     "cell_type": "code",
     "collapsed": false,
     "input": [
      "# frequency table cuttting prestige and whether or not someone ahs been admitted\n",
      "print pd.crosstab(df['admit'],df['prestige'],rownames=['admit'])"
     ],
     "language": "python",
     "metadata": {},
     "outputs": [
      {
       "output_type": "stream",
       "stream": "stdout",
       "text": [
        "prestige   1   2   3   4\n",
        "admit                   \n",
        "0         28  97  93  55\n",
        "1         33  54  28  12\n",
        "\n",
        "[2 rows x 4 columns]\n"
       ]
      }
     ],
     "prompt_number": 9
    },
    {
     "cell_type": "code",
     "collapsed": false,
     "input": [
      "df.hist()"
     ],
     "language": "python",
     "metadata": {},
     "outputs": [
      {
       "metadata": {},
       "output_type": "pyout",
       "prompt_number": 10,
       "text": [
        "array([[<matplotlib.axes.AxesSubplot object at 0x00000000163BA390>,\n",
        "        <matplotlib.axes.AxesSubplot object at 0x0000000016554CF8>],\n",
        "       [<matplotlib.axes.AxesSubplot object at 0x00000000165653C8>,\n",
        "        <matplotlib.axes.AxesSubplot object at 0x00000000166F2DA0>]], dtype=object)"
       ]
      },
      {
       "metadata": {},
       "output_type": "display_data",
       "png": "[encoded data removed]",
       "text": [
        "<matplotlib.figure.Figure at 0xaac6358>"
       ]
      }
     ],
     "prompt_number": 10
    },
    {
     "cell_type": "code",
     "collapsed": false,
     "input": [
      "dummy_ranks = pd.get_dummies(df['prestige'],prefix='prestige')\n",
      "print dummy_ranks.head()"
     ],
     "language": "python",
     "metadata": {},
     "outputs": [
      {
       "output_type": "stream",
       "stream": "stdout",
       "text": [
        "   prestige_1  prestige_2  prestige_3  prestige_4\n",
        "0           0           0           1           0\n",
        "1           0           0           1           0\n",
        "2           1           0           0           0\n",
        "3           0           0           0           1\n",
        "4           0           0           0           1\n",
        "\n",
        "[5 rows x 4 columns]\n"
       ]
      }
     ],
     "prompt_number": 11
    },
    {
     "cell_type": "code",
     "collapsed": false,
     "input": [
      "# create a new dataframe for the regression\n",
      "cols_to_keep=['admit','gre','gpa']\n",
      "data = df[cols_to_keep].join(dummy_ranks.ix[:, 'prestige_2':])\n",
      "print data.head()"
     ],
     "language": "python",
     "metadata": {},
     "outputs": [
      {
       "output_type": "stream",
       "stream": "stdout",
       "text": [
        "   admit  gre   gpa  prestige_2  prestige_3  prestige_4\n",
        "0      0  380  3.61           0           1           0\n",
        "1      1  660  3.67           0           1           0\n",
        "2      1  800  4.00           0           0           0\n",
        "3      1  640  3.19           0           0           1\n",
        "4      0  520  2.93           0           0           1\n",
        "\n",
        "[5 rows x 6 columns]\n"
       ]
      }
     ],
     "prompt_number": 12
    },
    {
     "cell_type": "code",
     "collapsed": false,
     "input": [
      "print len(data)\n",
      "print sum(data.admit == 1), sum(data.admit == 1)/400."
     ],
     "language": "python",
     "metadata": {},
     "outputs": [
      {
       "output_type": "stream",
       "stream": "stdout",
       "text": [
        "400\n",
        "127 0.3175\n"
       ]
      }
     ],
     "prompt_number": 23
    },
    {
     "cell_type": "code",
     "collapsed": false,
     "input": [
      "#manually add the intercept\n",
      "data['intercept'] = 1.0"
     ],
     "language": "python",
     "metadata": {},
     "outputs": [],
     "prompt_number": 13
    },
    {
     "cell_type": "markdown",
     "metadata": {},
     "source": [
      "## Logistic regression with no predictor variable.\n",
      "Model $logit(p) = \\beta_0$"
     ]
    },
    {
     "cell_type": "code",
     "collapsed": false,
     "input": [
      "logit0 = sm.Logit(data['admit'],data['intercept'])"
     ],
     "language": "python",
     "metadata": {},
     "outputs": [],
     "prompt_number": 24
    },
    {
     "cell_type": "code",
     "collapsed": false,
     "input": [
      "# null result:\n",
      "result0 = logit0.fit()\n",
      "result0.summary()"
     ],
     "language": "python",
     "metadata": {},
     "outputs": [
      {
       "output_type": "stream",
       "stream": "stdout",
       "text": [
        "Optimization terminated successfully.\n",
        "         Current function value: 0.624971\n",
        "         Iterations 4\n"
       ]
      },
      {
       "html": [
        "<table class=\"simpletable\">\n",
        "<caption>Logit Regression Results</caption>\n",
        "<tr>\n",
        "  <th>Dep. Variable:</th>       <td>admit</td>      <th>  No. Observations:  </th>  <td>   400</td> \n",
        "</tr>\n",
        "<tr>\n",
        "  <th>Model:</th>               <td>Logit</td>      <th>  Df Residuals:      </th>  <td>   399</td> \n",
        "</tr>\n",
        "<tr>\n",
        "  <th>Method:</th>               <td>MLE</td>       <th>  Df Model:          </th>  <td>     0</td> \n",
        "</tr>\n",
        "<tr>\n",
        "  <th>Date:</th>          <td>Thu, 10 Jul 2014</td> <th>  Pseudo R-squ.:     </th>  <td> 0.000</td> \n",
        "</tr>\n",
        "<tr>\n",
        "  <th>Time:</th>              <td>10:25:09</td>     <th>  Log-Likelihood:    </th> <td> -249.99</td>\n",
        "</tr>\n",
        "<tr>\n",
        "  <th>converged:</th>           <td>True</td>       <th>  LL-Null:           </th> <td> -249.99</td>\n",
        "</tr>\n",
        "<tr>\n",
        "  <th> </th>                      <td> </td>        <th>  LLR p-value:       </th>  <td>   nan</td> \n",
        "</tr>\n",
        "</table>\n",
        "<table class=\"simpletable\">\n",
        "<tr>\n",
        "      <td></td>         <th>coef</th>     <th>std err</th>      <th>z</th>      <th>P>|z|</th> <th>[95.0% Conf. Int.]</th> \n",
        "</tr>\n",
        "<tr>\n",
        "  <th>intercept</th> <td>   -0.7653</td> <td>    0.107</td> <td>   -7.125</td> <td> 0.000</td> <td>   -0.976    -0.555</td>\n",
        "</tr>\n",
        "</table>"
       ],
       "metadata": {},
       "output_type": "pyout",
       "prompt_number": 25,
       "text": [
        "<class 'statsmodels.iolib.summary.Summary'>\n",
        "\"\"\"\n",
        "                           Logit Regression Results                           \n",
        "==============================================================================\n",
        "Dep. Variable:                  admit   No. Observations:                  400\n",
        "Model:                          Logit   Df Residuals:                      399\n",
        "Method:                           MLE   Df Model:                            0\n",
        "Date:                Thu, 10 Jul 2014   Pseudo R-squ.:                   0.000\n",
        "Time:                        10:25:09   Log-Likelihood:                -249.99\n",
        "converged:                       True   LL-Null:                       -249.99\n",
        "                                        LLR p-value:                       nan\n",
        "==============================================================================\n",
        "                 coef    std err          z      P>|z|      [95.0% Conf. Int.]\n",
        "------------------------------------------------------------------------------\n",
        "intercept     -0.7653      0.107     -7.125      0.000        -0.976    -0.555\n",
        "==============================================================================\n",
        "\"\"\""
       ]
      }
     ],
     "prompt_number": 25
    },
    {
     "cell_type": "code",
     "collapsed": false,
     "input": [
      "log(.3175/(1-.3175))"
     ],
     "language": "python",
     "metadata": {},
     "outputs": [
      {
       "metadata": {},
       "output_type": "pyout",
       "prompt_number": 27,
       "text": [
        "-0.76528470872636845"
       ]
      }
     ],
     "prompt_number": 27
    },
    {
     "cell_type": "markdown",
     "metadata": {},
     "source": [
      "This means that $\\log(\\frac{p}{1-p}) = -0.7653$. Our probability is simply $p = 127/400 = 0.3175$\n",
      "which means the odds are $\\frac{p}{1-p} = .3175/(1-.3175) = 0.465$ and the log(odds) = -0.765"
     ]
    },
    {
     "cell_type": "markdown",
     "metadata": {},
     "source": [
      "##Performing the regression\n",
      "<b>Goal</b>: predict admit column using gre, gpa and the prestige dummy variables (2 through 4). \n",
      "We're going to treat prestige_1 variable as our baseline and exclude it from our fit. This is done to prevent multicollinearity, or the dummy variable trap caused by including a dummy variable for every single category."
     ]
    },
    {
     "cell_type": "code",
     "collapsed": false,
     "input": [
      "train_cols = data.columns[1:]"
     ],
     "language": "python",
     "metadata": {},
     "outputs": [],
     "prompt_number": 14
    },
    {
     "cell_type": "code",
     "collapsed": false,
     "input": [
      "logit=sm.Logit(data['admit'],data[train_cols])"
     ],
     "language": "python",
     "metadata": {},
     "outputs": [],
     "prompt_number": 15
    },
    {
     "cell_type": "code",
     "collapsed": false,
     "input": [
      "#fit the model\n",
      "result = logit.fit()"
     ],
     "language": "python",
     "metadata": {},
     "outputs": [
      {
       "output_type": "stream",
       "stream": "stdout",
       "text": [
        "Optimization terminated successfully.\n",
        "         Current function value: 0.573147\n",
        "         Iterations 6\n"
       ]
      }
     ],
     "prompt_number": 16
    },
    {
     "cell_type": "markdown",
     "metadata": {},
     "source": [
      "## Interpreting the results\n",
      "Use the summary  command to summarize the output from the fit model"
     ]
    },
    {
     "cell_type": "code",
     "collapsed": false,
     "input": [
      "result.summary()"
     ],
     "language": "python",
     "metadata": {},
     "outputs": [
      {
       "html": [
        "<table class=\"simpletable\">\n",
        "<caption>Logit Regression Results</caption>\n",
        "<tr>\n",
        "  <th>Dep. Variable:</th>       <td>admit</td>      <th>  No. Observations:  </th>  <td>   400</td>  \n",
        "</tr>\n",
        "<tr>\n",
        "  <th>Model:</th>               <td>Logit</td>      <th>  Df Residuals:      </th>  <td>   394</td>  \n",
        "</tr>\n",
        "<tr>\n",
        "  <th>Method:</th>               <td>MLE</td>       <th>  Df Model:          </th>  <td>     5</td>  \n",
        "</tr>\n",
        "<tr>\n",
        "  <th>Date:</th>          <td>Thu, 10 Jul 2014</td> <th>  Pseudo R-squ.:     </th>  <td>0.08292</td> \n",
        "</tr>\n",
        "<tr>\n",
        "  <th>Time:</th>              <td>10:04:15</td>     <th>  Log-Likelihood:    </th> <td> -229.26</td> \n",
        "</tr>\n",
        "<tr>\n",
        "  <th>converged:</th>           <td>True</td>       <th>  LL-Null:           </th> <td> -249.99</td> \n",
        "</tr>\n",
        "<tr>\n",
        "  <th> </th>                      <td> </td>        <th>  LLR p-value:       </th> <td>7.578e-08</td>\n",
        "</tr>\n",
        "</table>\n",
        "<table class=\"simpletable\">\n",
        "<tr>\n",
        "       <td></td>         <th>coef</th>     <th>std err</th>      <th>z</th>      <th>P>|z|</th> <th>[95.0% Conf. Int.]</th> \n",
        "</tr>\n",
        "<tr>\n",
        "  <th>gre</th>        <td>    0.0023</td> <td>    0.001</td> <td>    2.070</td> <td> 0.038</td> <td>    0.000     0.004</td>\n",
        "</tr>\n",
        "<tr>\n",
        "  <th>gpa</th>        <td>    0.8040</td> <td>    0.332</td> <td>    2.423</td> <td> 0.015</td> <td>    0.154     1.454</td>\n",
        "</tr>\n",
        "<tr>\n",
        "  <th>prestige_2</th> <td>   -0.6754</td> <td>    0.316</td> <td>   -2.134</td> <td> 0.033</td> <td>   -1.296    -0.055</td>\n",
        "</tr>\n",
        "<tr>\n",
        "  <th>prestige_3</th> <td>   -1.3402</td> <td>    0.345</td> <td>   -3.881</td> <td> 0.000</td> <td>   -2.017    -0.663</td>\n",
        "</tr>\n",
        "<tr>\n",
        "  <th>prestige_4</th> <td>   -1.5515</td> <td>    0.418</td> <td>   -3.713</td> <td> 0.000</td> <td>   -2.370    -0.733</td>\n",
        "</tr>\n",
        "<tr>\n",
        "  <th>intercept</th>  <td>   -3.9900</td> <td>    1.140</td> <td>   -3.500</td> <td> 0.000</td> <td>   -6.224    -1.756</td>\n",
        "</tr>\n",
        "</table>"
       ],
       "metadata": {},
       "output_type": "pyout",
       "prompt_number": 17,
       "text": [
        "<class 'statsmodels.iolib.summary.Summary'>\n",
        "\"\"\"\n",
        "                           Logit Regression Results                           \n",
        "==============================================================================\n",
        "Dep. Variable:                  admit   No. Observations:                  400\n",
        "Model:                          Logit   Df Residuals:                      394\n",
        "Method:                           MLE   Df Model:                            5\n",
        "Date:                Thu, 10 Jul 2014   Pseudo R-squ.:                 0.08292\n",
        "Time:                        10:04:15   Log-Likelihood:                -229.26\n",
        "converged:                       True   LL-Null:                       -249.99\n",
        "                                        LLR p-value:                 7.578e-08\n",
        "==============================================================================\n",
        "                 coef    std err          z      P>|z|      [95.0% Conf. Int.]\n",
        "------------------------------------------------------------------------------\n",
        "gre            0.0023      0.001      2.070      0.038         0.000     0.004\n",
        "gpa            0.8040      0.332      2.423      0.015         0.154     1.454\n",
        "prestige_2    -0.6754      0.316     -2.134      0.033        -1.296    -0.055\n",
        "prestige_3    -1.3402      0.345     -3.881      0.000        -2.017    -0.663\n",
        "prestige_4    -1.5515      0.418     -3.713      0.000        -2.370    -0.733\n",
        "intercept     -3.9900      1.140     -3.500      0.000        -6.224    -1.756\n",
        "==============================================================================\n",
        "\"\"\""
       ]
      }
     ],
     "prompt_number": 17
    },
    {
     "cell_type": "code",
     "collapsed": false,
     "input": [
      "# look at the confidence interval of each coefficient\n",
      "print result.conf_int()"
     ],
     "language": "python",
     "metadata": {},
     "outputs": [
      {
       "output_type": "stream",
       "stream": "stdout",
       "text": [
        "                   0         1\n",
        "gre         0.000120  0.004409\n",
        "gpa         0.153684  1.454391\n",
        "prestige_2 -1.295751 -0.055135\n",
        "prestige_3 -2.016992 -0.663416\n",
        "prestige_4 -2.370399 -0.732529\n",
        "intercept  -6.224242 -1.755716\n",
        "\n",
        "[6 rows x 2 columns]\n"
       ]
      }
     ],
     "prompt_number": 19
    },
    {
     "cell_type": "markdown",
     "metadata": {},
     "source": [
      "This yields the following function\n",
      "$$logit(p) = \\log(\\frac{p}{1-p}) = \\beta_0 + \n",
      "\\beta_1*gre + \\beta_2 * gpa + \\beta_3 * prestige_2 + \\beta_4 * prestige_3 +\n",
      "\\beta_5 * prestige_4$$"
     ]
    },
    {
     "cell_type": "markdown",
     "metadata": {},
     "source": [
      "## odds ratio\n",
      "Exponentiate each of these coefficents to generate the odds ratios.\n",
      "<b> This tells you how a unit increase or decrease in a variable affects the odds of being admited.</b>\n",
      "For example, we can expect the odss of being admited to decrease by about 50% if the prestige of the school is a 2 rather than a 1.\n",
      "See this [explanation](http://www.ats.ucla.edu/stat/mult_pkg/faq/general/odds_ratio.htm) for more detail"
     ]
    },
    {
     "cell_type": "code",
     "collapsed": false,
     "input": [
      "# odd ratios\n",
      "print exp(result.params)"
     ],
     "language": "python",
     "metadata": {},
     "outputs": [
      {
       "output_type": "stream",
       "stream": "stdout",
       "text": [
        "gre           1.002267\n",
        "gpa           2.234545\n",
        "prestige_2    0.508931\n",
        "prestige_3    0.261792\n",
        "prestige_4    0.211938\n",
        "intercept     0.018500\n",
        "dtype: float64\n"
       ]
      }
     ],
     "prompt_number": 20
    },
    {
     "cell_type": "code",
     "collapsed": false,
     "input": [
      "# odds ratios and 95% CI\n",
      "params = result.params\n",
      "conf = result.conf_int()\n",
      "conf['OR'] = params\n",
      "conf.columns =['2.5%','97.5%', 'OR']\n",
      "print exp(conf)"
     ],
     "language": "python",
     "metadata": {},
     "outputs": [
      {
       "output_type": "stream",
       "stream": "stdout",
       "text": [
        "                2.5%     97.5%        OR\n",
        "gre         1.000120  1.004418  1.002267\n",
        "gpa         1.166122  4.281877  2.234545\n",
        "prestige_2  0.273692  0.946358  0.508931\n",
        "prestige_3  0.133055  0.515089  0.261792\n",
        "prestige_4  0.093443  0.480692  0.211938\n",
        "intercept   0.001981  0.172783  0.018500\n",
        "\n",
        "[6 rows x 3 columns]\n"
       ]
      }
     ],
     "prompt_number": 21
    },
    {
     "cell_type": "markdown",
     "metadata": {},
     "source": [
      "## Digging deeper -- how good is our classifier?"
     ]
    },
    {
     "cell_type": "markdown",
     "metadata": {},
     "source": [
      "One way of evaluating our classifier is to recreate the dataset with every logical combination of input values. This will allow us to see how the predicted probability of admission increases/decreases across different variables. First we're going to generate the combinations using a helper function called `cartesian` which was originally found [here](http://stackoverflow.com/questions/1208118/using-numpy-to-build-an-array-of-all-combinations-of-two-arrays).\n",
      "\n",
      "We're going to use `np.linspace` to create a range of values for \"gre\" and \"gpa\". This creates a range of linearly spaced values from a specified min and maximum value--in our case just the min/max observed values."
     ]
    },
    {
     "cell_type": "code",
     "collapsed": false,
     "input": [
      "# instead of generating all possible values of GRE and GPA, we're going\n",
      "# to use an evenly spaced range of 10 values from the min to the max \n",
      "gres = np.linspace(data['gre'].min(), data['gre'].max(), 10)\n",
      "print gres\n",
      "# array([ 220.        ,  284.44444444,  348.88888889,  413.33333333,\n",
      "#         477.77777778,  542.22222222,  606.66666667,  671.11111111,\n",
      "#         735.55555556,  800.        ])\n",
      "gpas = np.linspace(data['gpa'].min(), data['gpa'].max(), 10)\n",
      "print gpas\n",
      "# array([ 2.26      ,  2.45333333,  2.64666667,  2.84      ,  3.03333333,\n",
      "#         3.22666667,  3.42      ,  3.61333333,  3.80666667,  4.        ])\n",
      " \n"
     ],
     "language": "python",
     "metadata": {},
     "outputs": [
      {
       "output_type": "stream",
       "stream": "stdout",
       "text": [
        "[ 220.          284.44444444  348.88888889  413.33333333  477.77777778\n",
        "  542.22222222  606.66666667  671.11111111  735.55555556  800.        ]\n",
        "[ 2.26        2.45333333  2.64666667  2.84        3.03333333  3.22666667\n",
        "  3.42        3.61333333  3.80666667  4.        ]\n"
       ]
      }
     ],
     "prompt_number": 29
    },
    {
     "cell_type": "code",
     "collapsed": false,
     "input": [
      "# load cartesian.py\n",
      "%load '../../repo/python/cartesian.py'\n"
     ],
     "language": "python",
     "metadata": {},
     "outputs": [],
     "prompt_number": 31
    },
    {
     "cell_type": "code",
     "collapsed": false,
     "input": [
      "import numpy as np\n",
      "\n",
      "def cartesian(arrays, out=None):\n",
      "    \"\"\"\n",
      "    Generate a cartesian product of input arrays.\n",
      "\n",
      "    Parameters\n",
      "    ----------\n",
      "    arrays : list of array-like\n",
      "        1-D arrays to form the cartesian product of.\n",
      "    out : ndarray\n",
      "        Array to place the cartesian product in.\n",
      "\n",
      "    Returns\n",
      "    -------\n",
      "    out : ndarray\n",
      "        2-D array of shape (M, len(arrays)) containing cartesian products\n",
      "        formed of input arrays.\n",
      "\n",
      "    Examples\n",
      "    --------\n",
      "    >>> cartesian(([1, 2, 3], [4, 5], [6, 7]))\n",
      "    array([[1, 4, 6],\n",
      "           [1, 4, 7],\n",
      "           [1, 5, 6],\n",
      "           [1, 5, 7],\n",
      "           [2, 4, 6],\n",
      "           [2, 4, 7],\n",
      "           [2, 5, 6],\n",
      "           [2, 5, 7],\n",
      "           [3, 4, 6],\n",
      "           [3, 4, 7],\n",
      "           [3, 5, 6],\n",
      "           [3, 5, 7]])\n",
      "\n",
      "    \"\"\"\n",
      "\n",
      "    arrays = [np.asarray(x) for x in arrays]\n",
      "    dtype = arrays[0].dtype\n",
      "\n",
      "    n = np.prod([x.size for x in arrays])\n",
      "    if out is None:\n",
      "        out = np.zeros([n, len(arrays)], dtype=dtype)\n",
      "\n",
      "    m = n / arrays[0].size\n",
      "    out[:,0] = np.repeat(arrays[0], m)\n",
      "    if arrays[1:]:\n",
      "        cartesian(arrays[1:], out=out[0:m,1:])\n",
      "        for j in xrange(1, arrays[0].size):\n",
      "            out[j*m:(j+1)*m,1:] = out[0:m,1:]\n",
      "    return out"
     ],
     "language": "python",
     "metadata": {},
     "outputs": [],
     "prompt_number": 32
    },
    {
     "cell_type": "code",
     "collapsed": false,
     "input": [
      "# enumerate all possibilities\n",
      "combos = pd.DataFrame(cartesian([gres, gpas, [1, 2, 3, 4], [1.]]))\n",
      "# recreate the dummy variables\n",
      "combos.columns = ['gre', 'gpa', 'prestige', 'intercept']\n",
      "dummy_ranks = pd.get_dummies(combos['prestige'], prefix='prestige')\n",
      "dummy_ranks.columns = ['prestige_1', 'prestige_2', 'prestige_3', 'prestige_4']\n",
      " \n",
      "# keep only what we need for making predictions\n",
      "cols_to_keep = ['gre', 'gpa', 'prestige', 'intercept']\n",
      "combos = combos[cols_to_keep].join(dummy_ranks.ix[:, 'prestige_2':])\n",
      " \n",
      "# make predictions on the enumerated dataset\n",
      "combos['admit_pred'] = result.predict(combos[train_cols])\n",
      " \n",
      "print combos.head()"
     ],
     "language": "python",
     "metadata": {},
     "outputs": [
      {
       "output_type": "stream",
       "stream": "stdout",
       "text": [
        "   gre       gpa  prestige  intercept  prestige_2  prestige_3  prestige_4  \\\n",
        "0  220  2.260000         1          1           0           0           0   \n",
        "1  220  2.260000         2          1           1           0           0   \n",
        "2  220  2.260000         3          1           0           1           0   \n",
        "3  220  2.260000         4          1           0           0           1   \n",
        "4  220  2.453333         1          1           0           0           0   \n",
        "\n",
        "   admit_pred  \n",
        "0    0.157801  \n",
        "1    0.087056  \n",
        "2    0.046758  \n",
        "3    0.038194  \n",
        "4    0.179574  \n",
        "\n",
        "[5 rows x 8 columns]\n"
       ]
      }
     ],
     "prompt_number": 33
    },
    {
     "cell_type": "markdown",
     "metadata": {},
     "source": [
      "Now that we've generated our predictions, let's make some plots to visualize the results. I created a small helper function called isolate_and_plot which allows you to compare a given variable with the different prestige levels and the mean probability for that combination. To isolate presitge and the other variable I used a pivot_table which allows you to easily aggregate the data."
     ]
    },
    {
     "cell_type": "code",
     "collapsed": false,
     "input": [
      "def isolate_and_plot(variable):\n",
      "    # isolate gre and class rank\n",
      "    grouped = pd.pivot_table(combos, values=['admit_pred'], rows=[variable, 'prestige'],\n",
      "                             aggfunc=np.mean)\n",
      "    \n",
      "    # in case you're curious as to what this looks like\n",
      "    # print grouped.head()\n",
      "    #                      admit_pred\n",
      "    # gre        prestige            \n",
      "    # 220.000000 1           0.282462\n",
      "    #            2           0.169987\n",
      "    #            3           0.096544\n",
      "    #            4           0.079859\n",
      "    # 284.444444 1           0.311718\n",
      "    \n",
      "    # make a plot\n",
      "    colors = ['darkred','steelblue','forestgreen', 'goldenrod', \\\n",
      "              'darkred','steelblue','forestgreen', 'goldenrod']\n",
      "              #'rbgyrbgy'\n",
      "    for col in combos.prestige.unique():\n",
      "        plt_data = grouped.ix[grouped.index.get_level_values(1)==col]\n",
      "        plot(plt_data.index.get_level_values(0), plt_data['admit_pred'],\n",
      "                color=colors[int(col)])\n",
      " \n",
      "    xlabel(variable)\n",
      "    ylabel(\"P(admit=1)\")\n",
      "    legend(['1', '2', '3', '4'], loc='upper left', title='Prestige')\n",
      "    title(\"Prob(admit=1) isolating \" + variable + \" and presitge\")\n",
      "    show()\n"
     ],
     "language": "python",
     "metadata": {},
     "outputs": [],
     "prompt_number": 35
    },
    {
     "cell_type": "code",
     "collapsed": false,
     "input": [
      "isolate_and_plot('gre')\n",
      "isolate_and_plot('gpa')"
     ],
     "language": "python",
     "metadata": {},
     "outputs": [
      {
       "metadata": {},
       "output_type": "display_data",
       "png": "[encoded data removed]",
       "text": [
        "<matplotlib.figure.Figure at 0x17304160>"
       ]
      },
      {
       "metadata": {},
       "output_type": "display_data",
       "png": "[encoded data removed]",
       "text": [
        "<matplotlib.figure.Figure at 0x17388ba8>"
       ]
      }
     ],
     "prompt_number": 36
    },
    {
     "cell_type": "markdown",
     "metadata": {},
     "source": [
      "# Now perform Multinomial Logit using statsmodels\n",
      "Follow the blog post: http://statcompute.wordpress.com/2013/08/23/multinomial-logit-with-python/"
     ]
    },
    {
     "cell_type": "code",
     "collapsed": false,
     "input": [
      "# get the Iris dataset\n",
      "iris = sm.datasets.get_rdataset('iris','datasets')"
     ],
     "language": "python",
     "metadata": {},
     "outputs": [],
     "prompt_number": 39
    },
    {
     "cell_type": "markdown",
     "metadata": {},
     "source": [
      "### Define the y (variable for the prediction)"
     ]
    },
    {
     "cell_type": "code",
     "collapsed": false,
     "input": [
      "y = iris.data.Species\n",
      "print y.head()"
     ],
     "language": "python",
     "metadata": {},
     "outputs": [
      {
       "output_type": "stream",
       "stream": "stdout",
       "text": [
        "0    setosa\n",
        "1    setosa\n",
        "2    setosa\n",
        "3    setosa\n",
        "4    setosa\n",
        "Name: Species, dtype: object\n"
       ]
      }
     ],
     "prompt_number": 40
    },
    {
     "cell_type": "markdown",
     "metadata": {},
     "source": [
      "### Define the x (exogenous variable as the Sepal Length)"
     ]
    },
    {
     "cell_type": "code",
     "collapsed": false,
     "input": [
      "x = iris.data.ix[:,0]\n",
      "# add a constant value\n",
      "x =sm.add_constant(x, prepend = False)"
     ],
     "language": "python",
     "metadata": {},
     "outputs": [],
     "prompt_number": 41
    },
    {
     "cell_type": "code",
     "collapsed": false,
     "input": [
      "print x.head()"
     ],
     "language": "python",
     "metadata": {},
     "outputs": [
      {
       "output_type": "stream",
       "stream": "stdout",
       "text": [
        "   Sepal.Length  const\n",
        "0           5.1      1\n",
        "1           4.9      1\n",
        "2           4.7      1\n",
        "3           4.6      1\n",
        "4           5.0      1\n",
        "\n",
        "[5 rows x 2 columns]\n"
       ]
      }
     ],
     "prompt_number": 42
    },
    {
     "cell_type": "code",
     "collapsed": false,
     "input": [
      "x['Sepal.Length'].hist()\n",
      "xlabel('Sepal Length')"
     ],
     "language": "python",
     "metadata": {},
     "outputs": [
      {
       "metadata": {},
       "output_type": "pyout",
       "prompt_number": 45,
       "text": [
        "<matplotlib.text.Text at 0x173632b0>"
       ]
      },
      {
       "metadata": {},
       "output_type": "display_data",
       "png": "[encoded data removed]",
       "text": [
        "<matplotlib.figure.Figure at 0x173a8b70>"
       ]
      }
     ],
     "prompt_number": 45
    },
    {
     "cell_type": "code",
     "collapsed": false,
     "input": [
      "## Define the model as a statsmodel MNlogit\n",
      "mdl = sm.MNLogit(y,x)\n",
      "mdl_fit = mdl.fit()\n",
      "mdl_fit.summary()"
     ],
     "language": "python",
     "metadata": {},
     "outputs": [
      {
       "output_type": "stream",
       "stream": "stdout",
       "text": [
        "Optimization terminated successfully.\n",
        "         Current function value: 0.606893\n",
        "         Iterations 8\n"
       ]
      },
      {
       "html": [
        "<table class=\"simpletable\">\n",
        "<caption>MNLogit Regression Results</caption>\n",
        "<tr>\n",
        "  <th>Dep. Variable:</th>      <td>Species</td>     <th>  No. Observations:  </th>  <td>   150</td>  \n",
        "</tr>\n",
        "<tr>\n",
        "  <th>Model:</th>              <td>MNLogit</td>     <th>  Df Residuals:      </th>  <td>   146</td>  \n",
        "</tr>\n",
        "<tr>\n",
        "  <th>Method:</th>               <td>MLE</td>       <th>  Df Model:          </th>  <td>     2</td>  \n",
        "</tr>\n",
        "<tr>\n",
        "  <th>Date:</th>          <td>Thu, 10 Jul 2014</td> <th>  Pseudo R-squ.:     </th>  <td>0.4476</td>  \n",
        "</tr>\n",
        "<tr>\n",
        "  <th>Time:</th>              <td>11:06:38</td>     <th>  Log-Likelihood:    </th> <td> -91.034</td> \n",
        "</tr>\n",
        "<tr>\n",
        "  <th>converged:</th>           <td>True</td>       <th>  LL-Null:           </th> <td> -164.79</td> \n",
        "</tr>\n",
        "<tr>\n",
        "  <th> </th>                      <td> </td>        <th>  LLR p-value:       </th> <td>9.276e-33</td>\n",
        "</tr>\n",
        "</table>\n",
        "<table class=\"simpletable\">\n",
        "<tr>\n",
        "  <th>Species=versicolor</th>    <th>coef</th>     <th>std err</th>      <th>z</th>      <th>P>|z|</th> <th>[95.0% Conf. Int.]</th> \n",
        "</tr>\n",
        "<tr>\n",
        "  <th>Sepal.Length</th>       <td>    4.8157</td> <td>    0.907</td> <td>    5.310</td> <td> 0.000</td> <td>    3.038     6.593</td>\n",
        "</tr>\n",
        "<tr>\n",
        "  <th>const</th>              <td>  -26.0819</td> <td>    4.889</td> <td>   -5.335</td> <td> 0.000</td> <td>  -35.665   -16.499</td>\n",
        "</tr>\n",
        "<tr>\n",
        "  <th>Species=virginica</th>    <th>coef</th>     <th>std err</th>      <th>z</th>      <th>P>|z|</th> <th>[95.0% Conf. Int.]</th> \n",
        "</tr>\n",
        "<tr>\n",
        "  <th>Sepal.Length</th>      <td>    6.8464</td> <td>    1.022</td> <td>    6.698</td> <td> 0.000</td> <td>    4.843     8.850</td>\n",
        "</tr>\n",
        "<tr>\n",
        "  <th>const</th>             <td>  -38.7590</td> <td>    5.691</td> <td>   -6.811</td> <td> 0.000</td> <td>  -49.913   -27.605</td>\n",
        "</tr>\n",
        "</table>"
       ],
       "metadata": {},
       "output_type": "pyout",
       "prompt_number": 46,
       "text": [
        "<class 'statsmodels.iolib.summary.Summary'>\n",
        "\"\"\"\n",
        "                          MNLogit Regression Results                          \n",
        "==============================================================================\n",
        "Dep. Variable:                Species   No. Observations:                  150\n",
        "Model:                        MNLogit   Df Residuals:                      146\n",
        "Method:                           MLE   Df Model:                            2\n",
        "Date:                Thu, 10 Jul 2014   Pseudo R-squ.:                  0.4476\n",
        "Time:                        11:06:38   Log-Likelihood:                -91.034\n",
        "converged:                       True   LL-Null:                       -164.79\n",
        "                                        LLR p-value:                 9.276e-33\n",
        "=====================================================================================\n",
        "Species=versicolor       coef    std err          z      P>|z|      [95.0% Conf. Int.]\n",
        "--------------------------------------------------------------------------------------\n",
        "Sepal.Length           4.8157      0.907      5.310      0.000         3.038     6.593\n",
        "const                -26.0819      4.889     -5.335      0.000       -35.665   -16.499\n",
        "--------------------------------------------------------------------------------------\n",
        "Species=virginica       coef    std err          z      P>|z|      [95.0% Conf. Int.]\n",
        "-------------------------------------------------------------------------------------\n",
        "Sepal.Length          6.8464      1.022      6.698      0.000         4.843     8.850\n",
        "const               -38.7590      5.691     -6.811      0.000       -49.913   -27.605\n",
        "=====================================================================================\n",
        "\"\"\""
       ]
      }
     ],
     "prompt_number": 46
    },
    {
     "cell_type": "code",
     "collapsed": false,
     "input": [
      "# odd ratios\n",
      "print exp(mdl_fit.params)"
     ],
     "language": "python",
     "metadata": {},
     "outputs": [
      {
       "output_type": "stream",
       "stream": "stdout",
       "text": [
        "                         0             1\n",
        "Sepal.Length  1.234321e+02  9.404877e+02\n",
        "const         4.707162e-12  1.469534e-17\n",
        "\n",
        "[2 rows x 2 columns]\n"
       ]
      }
     ],
     "prompt_number": 50
    },
    {
     "cell_type": "code",
     "collapsed": false,
     "input": [
      "mdl_fit.aic, mdl_fit.bic"
     ],
     "language": "python",
     "metadata": {},
     "outputs": [
      {
       "metadata": {},
       "output_type": "pyout",
       "prompt_number": 47,
       "text": [
        "(190.06793278965728, 202.11047396604229)"
       ]
      }
     ],
     "prompt_number": 47
    },
    {
     "cell_type": "code",
     "collapsed": false,
     "input": [
      "mdl_fit.get_margeff().summary()"
     ],
     "language": "python",
     "metadata": {},
     "outputs": [
      {
       "html": [
        "<table class=\"simpletable\">\n",
        "<caption>MNLogit Marginal Effects</caption>\n",
        "<tr>\n",
        "  <th>Dep. Variable:</th> <td>Species</td>\n",
        "</tr>\n",
        "<tr>\n",
        "  <th>Method:</th>         <td>dydx</td>  \n",
        "</tr>\n",
        "<tr>\n",
        "  <th>At:</th>            <td>overall</td>\n",
        "</tr>\n",
        "</table>\n",
        "<table class=\"simpletable\">\n",
        "<tr>\n",
        "    <th>Species=setosa</th>      <th>dy/dx</th>    <th>std err</th>      <th>z</th>      <th>P>|z|</th> <th>[95.0% Conf. Int.]</th> \n",
        "</tr>\n",
        "<tr>\n",
        "  <th>Sepal.Length</th>       <td>   -0.3785</td> <td>    0.003</td> <td> -116.793</td> <td> 0.000</td> <td>   -0.385    -0.372</td>\n",
        "</tr>\n",
        "<tr>\n",
        "  <th>Species=versicolor</th>    <th>dy/dx</th>    <th>std err</th>      <th>z</th>      <th>P>|z|</th> <th>[95.0% Conf. Int.]</th> \n",
        "</tr>\n",
        "<tr>\n",
        "  <th>Sepal.Length</th>       <td>    0.0611</td> <td>    0.022</td> <td>    2.778</td> <td> 0.005</td> <td>    0.018     0.104</td>\n",
        "</tr>\n",
        "<tr>\n",
        "  <th>Species=virginica</th>    <th>dy/dx</th>    <th>std err</th>      <th>z</th>      <th>P>|z|</th> <th>[95.0% Conf. Int.]</th> \n",
        "</tr>\n",
        "<tr>\n",
        "  <th>Sepal.Length</th>      <td>    0.3173</td> <td>    0.022</td> <td>   14.444</td> <td> 0.000</td> <td>    0.274     0.360</td>\n",
        "</tr>\n",
        "</table>"
       ],
       "metadata": {},
       "output_type": "pyout",
       "prompt_number": 48,
       "text": [
        "<class 'statsmodels.iolib.summary.Summary'>\n",
        "\"\"\"\n",
        "       MNLogit Marginal Effects      \n",
        "=====================================\n",
        "Dep. Variable:                Species\n",
        "Method:                          dydx\n",
        "At:                           overall\n",
        "=====================================================================================\n",
        "    Species=setosa      dy/dx    std err          z      P>|z|      [95.0% Conf. Int.]\n",
        "--------------------------------------------------------------------------------------\n",
        "Sepal.Length          -0.3785      0.003   -116.793      0.000        -0.385    -0.372\n",
        "--------------------------------------------------------------------------------------\n",
        "Species=versicolor      dy/dx    std err          z      P>|z|      [95.0% Conf. Int.]\n",
        "--------------------------------------------------------------------------------------\n",
        "Sepal.Length           0.0611      0.022      2.778      0.005         0.018     0.104\n",
        "--------------------------------------------------------------------------------------\n",
        "Species=virginica      dy/dx    std err          z      P>|z|      [95.0% Conf. Int.]\n",
        "-------------------------------------------------------------------------------------\n",
        "Sepal.Length          0.3173      0.022     14.444      0.000         0.274     0.360\n",
        "=====================================================================================\n",
        "\"\"\""
       ]
      }
     ],
     "prompt_number": 48
    },
    {
     "cell_type": "code",
     "collapsed": false,
     "input": [
      "x.min(), x.max(), x.mean()"
     ],
     "language": "python",
     "metadata": {},
     "outputs": [
      {
       "metadata": {},
       "output_type": "pyout",
       "prompt_number": 54,
       "text": [
        "(Sepal.Length    4.3\n",
        " const           1.0\n",
        " dtype: float64, Sepal.Length    7.9\n",
        " const           1.0\n",
        " dtype: float64, Sepal.Length    5.843333\n",
        " const           1.000000\n",
        " dtype: float64)"
       ]
      }
     ],
     "prompt_number": 54
    },
    {
     "cell_type": "code",
     "collapsed": false,
     "input": [
      "xtest = linspace(4.0,8.0,20)\n",
      "xtest"
     ],
     "language": "python",
     "metadata": {},
     "outputs": [
      {
       "metadata": {},
       "output_type": "pyout",
       "prompt_number": 56,
       "text": [
        "array([ 4.        ,  4.21052632,  4.42105263,  4.63157895,  4.84210526,\n",
        "        5.05263158,  5.26315789,  5.47368421,  5.68421053,  5.89473684,\n",
        "        6.10526316,  6.31578947,  6.52631579,  6.73684211,  6.94736842,\n",
        "        7.15789474,  7.36842105,  7.57894737,  7.78947368,  8.        ])"
       ]
      }
     ],
     "prompt_number": 56
    },
    {
     "cell_type": "code",
     "collapsed": false,
     "input": [
      "mdl_fit.predict(x.mean()[0])"
     ],
     "language": "python",
     "metadata": {},
     "outputs": [
      {
       "metadata": {},
       "output_type": "pyout",
       "prompt_number": 60,
       "text": [
        "array([[  4.22380139e-18,   7.02449059e-06,   9.99992976e-01],\n",
        "       [  1.00000000e+00,   6.47374644e-67,   4.36736715e-99]])"
       ]
      }
     ],
     "prompt_number": 60
    },
    {
     "cell_type": "markdown",
     "metadata": {},
     "source": [
      "# Attempt to use sklearn\n",
      "apply to the digits dataset"
     ]
    },
    {
     "cell_type": "code",
     "collapsed": false,
     "input": [
      "from sklearn import linear_model, datasets\n",
      "logistic = linear_model.LogisticRegression()\n",
      "digits = datasets.load_digits()"
     ],
     "language": "python",
     "metadata": {},
     "outputs": [],
     "prompt_number": 61
    },
    {
     "cell_type": "code",
     "collapsed": false,
     "input": [
      "shape(digits.data), shape(digits.target)"
     ],
     "language": "python",
     "metadata": {},
     "outputs": [
      {
       "metadata": {},
       "output_type": "pyout",
       "prompt_number": 65,
       "text": [
        "((1797L, 64L), (1797L,))"
       ]
      }
     ],
     "prompt_number": 65
    },
    {
     "cell_type": "code",
     "collapsed": false,
     "input": [
      "for index, (image, label) in enumerate(zip(digits.images, digits.target)[:4]):\n",
      "    subplot(2,4, index+1)\n",
      "    axis('off')\n",
      "    imshow(image, cmap=cm.gray_r,interpolation ='nearest')\n",
      "    title('Training: %i' % label)"
     ],
     "language": "python",
     "metadata": {},
     "outputs": [
      {
       "metadata": {},
       "output_type": "display_data",
       "png": "[encoded data removed]",
       "text": [
        "<matplotlib.figure.Figure at 0x190b6ba8>"
       ]
      }
     ],
     "prompt_number": 66
    },
    {
     "cell_type": "code",
     "collapsed": false,
     "input": [
      "digits.DESCR"
     ],
     "language": "python",
     "metadata": {},
     "outputs": [
      {
       "metadata": {},
       "output_type": "pyout",
       "prompt_number": 67,
       "text": [
        "\" Optical Recognition of Handwritten Digits Data Set\\n\\nNotes\\n-----\\nData Set Characteristics:\\n    :Number of Instances: 5620\\n    :Number of Attributes: 64\\n    :Attribute Information: 8x8 image of integer pixels in the range 0..16.\\n    :Missing Attribute Values: None\\n    :Creator: E. Alpaydin (alpaydin '@' boun.edu.tr)\\n    :Date: July; 1998\\n\\nThis is a copy of the test set of the UCI ML hand-written digits datasets\\nhttp://archive.ics.uci.edu/ml/datasets/Optical+Recognition+of+Handwritten+Digits\\n\\nThe data set contains images of hand-written digits: 10 classes where\\neach class refers to a digit.\\n\\nPreprocessing programs made available by NIST were used to extract\\nnormalized bitmaps of handwritten digits from a preprinted form. From a\\ntotal of 43 people, 30 contributed to the training set and different 13\\nto the test set. 32x32 bitmaps are divided into nonoverlapping blocks of\\n4x4 and the number of on pixels are counted in each block. This generates\\nan input matrix of 8x8 where each element is an integer in the range\\n0..16. This reduces dimensionality and gives invariance to small\\ndistortions.\\n\\nFor info on NIST preprocessing routines, see M. D. Garris, J. L. Blue, G.\\nT. Candela, D. L. Dimmick, J. Geist, P. J. Grother, S. A. Janet, and C.\\nL. Wilson, NIST Form-Based Handprint Recognition System, NISTIR 5469,\\n1994.\\n\\nReferences\\n----------\\n  - C. Kaynak (1995) Methods of Combining Multiple Classifiers and Their\\n    Applications to Handwritten Digit Recognition, MSc Thesis, Institute of\\n    Graduate Studies in Science and Engineering, Bogazici University.\\n  - E. Alpaydin, C. Kaynak (1998) Cascading Classifiers, Kybernetika.\\n  - Ken Tang and Ponnuthurai N. Suganthan and Xi Yao and A. Kai Qin.\\n    Linear dimensionalityreduction using relevance weighted LDA. School of\\n    Electrical and Electronic Engineering Nanyang Technological University.\\n    2005.\\n  - Claudio Gentile. A New Approximate Maximal Margin Classification\\n    Algorithm. NIPS. 2000.\\n\""
       ]
      }
     ],
     "prompt_number": 67
    },
    {
     "cell_type": "code",
     "collapsed": false,
     "input": [
      "len(digits.images)"
     ],
     "language": "python",
     "metadata": {},
     "outputs": [
      {
       "metadata": {},
       "output_type": "pyout",
       "prompt_number": 70,
       "text": [
        "1797"
       ]
      }
     ],
     "prompt_number": 70
    },
    {
     "cell_type": "code",
     "collapsed": false,
     "input": [
      "data = digits.images.reshape((1797, -1))"
     ],
     "language": "python",
     "metadata": {},
     "outputs": [],
     "prompt_number": 71
    },
    {
     "cell_type": "code",
     "collapsed": false,
     "input": [
      "data"
     ],
     "language": "python",
     "metadata": {},
     "outputs": [
      {
       "metadata": {},
       "output_type": "pyout",
       "prompt_number": 72,
       "text": [
        "array([[  0.,   0.,   5., ...,   0.,   0.,   0.],\n",
        "       [  0.,   0.,   0., ...,  10.,   0.,   0.],\n",
        "       [  0.,   0.,   0., ...,  16.,   9.,   0.],\n",
        "       ..., \n",
        "       [  0.,   0.,   1., ...,   6.,   0.,   0.],\n",
        "       [  0.,   0.,   2., ...,  12.,   0.,   0.],\n",
        "       [  0.,   0.,  10., ...,  12.,   1.,   0.]])"
       ]
      }
     ],
     "prompt_number": 72
    },
    {
     "cell_type": "code",
     "collapsed": false,
     "input": [
      "shape(data)"
     ],
     "language": "python",
     "metadata": {},
     "outputs": [
      {
       "metadata": {},
       "output_type": "pyout",
       "prompt_number": 73,
       "text": [
        "(1797L, 64L)"
       ]
      }
     ],
     "prompt_number": 73
    },
    {
     "cell_type": "code",
     "collapsed": false,
     "input": [
      "mnLogReg = linear_model.LogisticRegression()"
     ],
     "language": "python",
     "metadata": {},
     "outputs": [],
     "prompt_number": 78
    },
    {
     "cell_type": "code",
     "collapsed": false,
     "input": [
      "mnLogReg.fit(data,digits.target)"
     ],
     "language": "python",
     "metadata": {},
     "outputs": [
      {
       "metadata": {},
       "output_type": "pyout",
       "prompt_number": 79,
       "text": [
        "LogisticRegression(C=1.0, class_weight=None, dual=False, fit_intercept=True,\n",
        "          intercept_scaling=1, penalty='l2', random_state=None, tol=0.0001)"
       ]
      }
     ],
     "prompt_number": 79
    },
    {
     "cell_type": "code",
     "collapsed": false,
     "input": [
      "mnLogReg.classes_\n"
     ],
     "language": "python",
     "metadata": {},
     "outputs": [
      {
       "metadata": {},
       "output_type": "pyout",
       "prompt_number": 81,
       "text": [
        "array([0, 1, 2, 3, 4, 5, 6, 7, 8, 9])"
       ]
      }
     ],
     "prompt_number": 81
    },
    {
     "cell_type": "code",
     "collapsed": false,
     "input": [
      "shape(mnLogReg.coef_)"
     ],
     "language": "python",
     "metadata": {},
     "outputs": [
      {
       "metadata": {},
       "output_type": "pyout",
       "prompt_number": 83,
       "text": [
        "(10L, 64L)"
       ]
      }
     ],
     "prompt_number": 83
    },
    {
     "cell_type": "code",
     "collapsed": false,
     "input": [
      "n_samples = len(digits.images)\n",
      "# We learn the digits on the first half of the digits\n",
      "mnLogReg.fit(data[:n_samples / 2], digits.target[:n_samples / 2])\n",
      "\n",
      "# Now predict the value of the digit on the second half:\n",
      "expected = digits.target[n_samples / 2:]\n",
      "predicted = mnLogReg.predict(data[n_samples / 2:])\n"
     ],
     "language": "python",
     "metadata": {},
     "outputs": [],
     "prompt_number": 84
    },
    {
     "cell_type": "code",
     "collapsed": false,
     "input": [],
     "language": "python",
     "metadata": {},
     "outputs": [
      {
       "metadata": {},
       "output_type": "pyout",
       "prompt_number": 134,
       "text": [
        "(899L,)"
       ]
      }
     ],
     "prompt_number": 134
    },
    {
     "cell_type": "code",
     "collapsed": false,
     "input": [
      "shape(digits.target)"
     ],
     "language": "python",
     "metadata": {},
     "outputs": [
      {
       "metadata": {},
       "output_type": "pyout",
       "prompt_number": 133,
       "text": [
        "(1797L,)"
       ]
      }
     ],
     "prompt_number": 133
    },
    {
     "cell_type": "code",
     "collapsed": false,
     "input": [
      "from sklearn import metrics"
     ],
     "language": "python",
     "metadata": {},
     "outputs": [],
     "prompt_number": 86
    },
    {
     "cell_type": "code",
     "collapsed": false,
     "input": [
      "print(\"Classification report for classifier {0}:\\n{1}\\n\"\n",
      "      .format(mnLogReg, metrics.classification_report(expected, predicted)))\n",
      "print(\"Confusion matrix:\\n%s\" % metrics.confusion_matrix(expected, predicted))\n"
     ],
     "language": "python",
     "metadata": {},
     "outputs": [
      {
       "output_type": "stream",
       "stream": "stdout",
       "text": [
        "Classification report for classifier LogisticRegression(C=1.0, class_weight=None, dual=False, fit_intercept=True,\n",
        "          intercept_scaling=1, penalty=l2, random_state=None, tol=0.0001):\n",
        "             precision    recall  f1-score   support\n",
        "\n",
        "          0       0.94      0.97      0.96        88\n",
        "          1       0.86      0.89      0.88        91\n",
        "          2       0.98      0.98      0.98        86\n",
        "          3       0.99      0.82      0.90        91\n",
        "          4       0.99      0.93      0.96        92\n",
        "          5       0.83      0.90      0.86        91\n",
        "          6       0.94      0.99      0.96        91\n",
        "          7       0.98      0.89      0.93        89\n",
        "          8       0.89      0.88      0.88        88\n",
        "          9       0.83      0.92      0.87        92\n",
        "\n",
        "avg / total       0.92      0.92      0.92       899\n",
        "\n",
        "\n",
        "Confusion matrix:\n",
        "[[85  0  0  0  1  1  1  0  0  0]\n",
        " [ 0 81  0  1  0  0  1  0  2  6]\n",
        " [ 2  0 84  0  0  0  0  0  0  0]\n",
        " [ 0  1  0 75  0  6  0  2  5  2]\n",
        " [ 1  2  0  0 86  0  1  0  0  2]\n",
        " [ 0  3  0  0  0 82  2  0  0  4]\n",
        " [ 0  0  1  0  0  0 90  0  0  0]\n",
        " [ 0  1  0  0  0  5  0 79  1  3]\n",
        " [ 0  5  1  0  0  3  1  0 77  1]\n",
        " [ 2  1  0  0  0  2  0  0  2 85]]\n"
       ]
      }
     ],
     "prompt_number": 88
    },
    {
     "cell_type": "code",
     "collapsed": false,
     "input": [
      "for index, (image, prediction) in enumerate(\n",
      "        zip(digits.images[n_samples / 2:], predicted)[:4]):\n",
      "    subplot(2, 4, index + 5)\n",
      "    axis('off')\n",
      "    imshow(image, cmap=cm.gray_r, interpolation='nearest')\n",
      "    title('Prediction: %i' % prediction)\n",
      "\n"
     ],
     "language": "python",
     "metadata": {},
     "outputs": [
      {
       "metadata": {},
       "output_type": "display_data",
       "png": "[encoded data removed]",
       "text": [
        "<matplotlib.figure.Figure at 0x19a4e550>"
       ]
      }
     ],
     "prompt_number": 90
    },
    {
     "cell_type": "code",
     "collapsed": false,
     "input": [
      "pprob = mnLogReg.predict_proba(data)"
     ],
     "language": "python",
     "metadata": {},
     "outputs": [],
     "prompt_number": 92
    },
    {
     "cell_type": "code",
     "collapsed": false,
     "input": [
      "shape(pprob)"
     ],
     "language": "python",
     "metadata": {},
     "outputs": [
      {
       "metadata": {},
       "output_type": "pyout",
       "prompt_number": 94,
       "text": [
        "(1797L, 10L)"
       ]
      }
     ],
     "prompt_number": 94
    },
    {
     "cell_type": "code",
     "collapsed": false,
     "input": [],
     "language": "python",
     "metadata": {},
     "outputs": [],
     "prompt_number": 130
    },
    {
     "cell_type": "code",
     "collapsed": false,
     "input": [
      "digits.target[:30]"
     ],
     "language": "python",
     "metadata": {},
     "outputs": [
      {
       "metadata": {},
       "output_type": "pyout",
       "prompt_number": 100,
       "text": [
        "array([0, 1, 2, 3, 4, 5, 6, 7, 8, 9, 0, 1, 2, 3, 4, 5, 6, 7, 8, 9, 0, 1, 2,\n",
        "       3, 4, 5, 6, 7, 8, 9])"
       ]
      }
     ],
     "prompt_number": 100
    },
    {
     "cell_type": "code",
     "collapsed": false,
     "input": [
      "pprob[:30,0]"
     ],
     "language": "python",
     "metadata": {},
     "outputs": [
      {
       "metadata": {},
       "output_type": "pyout",
       "prompt_number": 103,
       "text": [
        "array([  9.99990651e-01,   5.99733692e-14,   3.29817403e-08,\n",
        "         1.26736333e-09,   1.58775839e-04,   8.06459430e-07,\n",
        "         3.92077392e-06,   2.34429391e-11,   6.95775299e-08,\n",
        "         3.98289149e-04,   9.91658829e-01,   2.05492518e-12,\n",
        "         4.92928877e-09,   4.46530102e-09,   1.37507617e-04,\n",
        "         8.71135160e-13,   1.75531339e-11,   3.94905726e-09,\n",
        "         2.83664004e-06,   7.69602228e-08,   9.99702134e-01,\n",
        "         7.86168441e-13,   1.46724361e-09,   3.76891036e-07,\n",
        "         1.22672820e-05,   9.67878395e-06,   1.04949406e-05,\n",
        "         1.84090805e-07,   1.32095668e-05,   9.15484053e-08])"
       ]
      }
     ],
     "prompt_number": 103
    },
    {
     "cell_type": "code",
     "collapsed": false,
     "input": [],
     "language": "python",
     "metadata": {},
     "outputs": [
      {
       "metadata": {},
       "output_type": "pyout",
       "prompt_number": 131,
       "text": [
        "178"
       ]
      }
     ],
     "prompt_number": 131
    },
    {
     "cell_type": "code",
     "collapsed": false,
     "input": [
      "fpr,tpr,thresholds = metrics.roc_curve(digits.target,pprob[:,0])"
     ],
     "language": "python",
     "metadata": {},
     "outputs": [
      {
       "ename": "ValueError",
       "evalue": "Data is not binary and pos_label is not specified",
       "output_type": "pyerr",
       "traceback": [
        "\u001b[1;31m---------------------------------------------------------------------------\u001b[0m\n\u001b[1;31mValueError\u001b[0m                                Traceback (most recent call last)",
        "\u001b[1;32m<ipython-input-104-5ca17c943db1>\u001b[0m in \u001b[0;36m<module>\u001b[1;34m()\u001b[0m\n\u001b[1;32m----> 1\u001b[1;33m \u001b[0mfpr\u001b[0m\u001b[1;33m,\u001b[0m\u001b[0mtpr\u001b[0m\u001b[1;33m,\u001b[0m\u001b[0mthresholds\u001b[0m \u001b[1;33m=\u001b[0m \u001b[0mmetrics\u001b[0m\u001b[1;33m.\u001b[0m\u001b[0mroc_curve\u001b[0m\u001b[1;33m(\u001b[0m\u001b[0mdigits\u001b[0m\u001b[1;33m.\u001b[0m\u001b[0mtarget\u001b[0m\u001b[1;33m,\u001b[0m\u001b[0mpprob\u001b[0m\u001b[1;33m[\u001b[0m\u001b[1;33m:\u001b[0m\u001b[1;33m,\u001b[0m\u001b[1;36m0\u001b[0m\u001b[1;33m]\u001b[0m\u001b[1;33m)\u001b[0m\u001b[1;33m\u001b[0m\u001b[0m\n\u001b[0m",
        "\u001b[1;32mC:\\Anaconda\\lib\\site-packages\\sklearn\\metrics\\metrics.pyc\u001b[0m in \u001b[0;36mroc_curve\u001b[1;34m(y_true, y_score, pos_label)\u001b[0m\n\u001b[0;32m    670\u001b[0m \u001b[1;33m\u001b[0m\u001b[0m\n\u001b[0;32m    671\u001b[0m     \"\"\"\n\u001b[1;32m--> 672\u001b[1;33m     \u001b[0mfps\u001b[0m\u001b[1;33m,\u001b[0m \u001b[0mtps\u001b[0m\u001b[1;33m,\u001b[0m \u001b[0mthresholds\u001b[0m \u001b[1;33m=\u001b[0m \u001b[0m_binary_clf_curve\u001b[0m\u001b[1;33m(\u001b[0m\u001b[0my_true\u001b[0m\u001b[1;33m,\u001b[0m \u001b[0my_score\u001b[0m\u001b[1;33m,\u001b[0m \u001b[0mpos_label\u001b[0m\u001b[1;33m)\u001b[0m\u001b[1;33m\u001b[0m\u001b[0m\n\u001b[0m\u001b[0;32m    673\u001b[0m \u001b[1;33m\u001b[0m\u001b[0m\n\u001b[0;32m    674\u001b[0m     \u001b[1;32mif\u001b[0m \u001b[0mtps\u001b[0m\u001b[1;33m.\u001b[0m\u001b[0msize\u001b[0m \u001b[1;33m==\u001b[0m \u001b[1;36m0\u001b[0m \u001b[1;32mor\u001b[0m \u001b[0mfps\u001b[0m\u001b[1;33m[\u001b[0m\u001b[1;36m0\u001b[0m\u001b[1;33m]\u001b[0m \u001b[1;33m!=\u001b[0m \u001b[1;36m0\u001b[0m\u001b[1;33m:\u001b[0m\u001b[1;33m\u001b[0m\u001b[0m\n",
        "\u001b[1;32mC:\\Anaconda\\lib\\site-packages\\sklearn\\metrics\\metrics.pyc\u001b[0m in \u001b[0;36m_binary_clf_curve\u001b[1;34m(y_true, y_score, pos_label)\u001b[0m\n\u001b[0;32m    514\u001b[0m              \u001b[0mnp\u001b[0m\u001b[1;33m.\u001b[0m\u001b[0mall\u001b[0m\u001b[1;33m(\u001b[0m\u001b[0mclasses\u001b[0m \u001b[1;33m==\u001b[0m \u001b[1;33m[\u001b[0m\u001b[1;33m-\u001b[0m\u001b[1;36m1\u001b[0m\u001b[1;33m]\u001b[0m\u001b[1;33m)\u001b[0m \u001b[1;32mor\u001b[0m\u001b[1;33m\u001b[0m\u001b[0m\n\u001b[0;32m    515\u001b[0m              np.all(classes == [1]))):\n\u001b[1;32m--> 516\u001b[1;33m         \u001b[1;32mraise\u001b[0m \u001b[0mValueError\u001b[0m\u001b[1;33m(\u001b[0m\u001b[1;34m\"Data is not binary and pos_label is not specified\"\u001b[0m\u001b[1;33m)\u001b[0m\u001b[1;33m\u001b[0m\u001b[0m\n\u001b[0m\u001b[0;32m    517\u001b[0m     \u001b[1;32melif\u001b[0m \u001b[0mpos_label\u001b[0m \u001b[1;32mis\u001b[0m \u001b[0mNone\u001b[0m\u001b[1;33m:\u001b[0m\u001b[1;33m\u001b[0m\u001b[0m\n\u001b[0;32m    518\u001b[0m         \u001b[0mpos_label\u001b[0m \u001b[1;33m=\u001b[0m \u001b[1;36m1.\u001b[0m\u001b[1;33m\u001b[0m\u001b[0m\n",
        "\u001b[1;31mValueError\u001b[0m: Data is not binary and pos_label is not specified"
       ]
      }
     ],
     "prompt_number": 104
    },
    {
     "cell_type": "code",
     "collapsed": false,
     "input": [
      "nl = 535*1000000\n",
      "tl = 662914767\n",
      "nl/float(tl)"
     ],
     "language": "python",
     "metadata": {},
     "outputs": [
      {
       "metadata": {},
       "output_type": "pyout",
       "prompt_number": 126,
       "text": [
        "0.8070419104119911"
       ]
      }
     ],
     "prompt_number": 126
    },
    {
     "cell_type": "code",
     "collapsed": false,
     "input": [
      "ng = 15.5\n",
      "ng/float(nl)*1000*1000\n",
      "ng*tl/float(nl)"
     ],
     "language": "python",
     "metadata": {},
     "outputs": [
      {
       "metadata": {},
       "output_type": "pyout",
       "prompt_number": 129,
       "text": [
        "19.205941847663553"
       ]
      }
     ],
     "prompt_number": 129
    },
    {
     "cell_type": "markdown",
     "metadata": {},
     "source": [
      "## returning to Statsmodels Multinomial logit regression\n",
      "load data from the american national election studies"
     ]
    },
    {
     "cell_type": "code",
     "collapsed": false,
     "input": [
      "anes_data = sm.datasets.anes96.load()\n",
      "anes_exog = anes_data.exog\n",
      "anes_exog = sm.add_constant(anes_exog, prepend=False)"
     ],
     "language": "python",
     "metadata": {},
     "outputs": [],
     "prompt_number": 105
    },
    {
     "cell_type": "code",
     "collapsed": false,
     "input": [
      "print shape(anes_exog)\n",
      "print anes_data.exog[:5,:]\n",
      "print anes_data.endog[:5]"
     ],
     "language": "python",
     "metadata": {},
     "outputs": [
      {
       "output_type": "stream",
       "stream": "stdout",
       "text": [
        "(944L, 6L)\n",
        "[[ -2.30258509   7.          36.           3.           1.        ]\n",
        " [  5.24755025   3.          20.           4.           1.        ]\n",
        " [  3.43720782   2.          24.           6.           1.        ]\n",
        " [  4.4200447    3.          28.           6.           1.        ]\n",
        " [  6.46162441   5.          68.           6.           1.        ]]\n",
        "[ 6.  1.  1.  1.  0.]\n"
       ]
      }
     ],
     "prompt_number": 108
    },
    {
     "cell_type": "code",
     "collapsed": false,
     "input": [
      "mlogit_mod = sm.MNLogit(anes_data.endog, anes_exog)"
     ],
     "language": "python",
     "metadata": {},
     "outputs": [],
     "prompt_number": 109
    },
    {
     "cell_type": "code",
     "collapsed": false,
     "input": [
      "mlogit_res = mlogit_mod.fit()\n",
      "mlogit_res.summary()"
     ],
     "language": "python",
     "metadata": {},
     "outputs": [
      {
       "output_type": "stream",
       "stream": "stdout",
       "text": [
        "Optimization terminated successfully.\n",
        "         Current function value: 1.548647\n",
        "         Iterations 7\n"
       ]
      },
      {
       "html": [
        "<table class=\"simpletable\">\n",
        "<caption>MNLogit Regression Results</caption>\n",
        "<tr>\n",
        "  <th>Dep. Variable:</th>         <td>y</td>        <th>  No. Observations:  </th>   <td>   944</td>  \n",
        "</tr>\n",
        "<tr>\n",
        "  <th>Model:</th>              <td>MNLogit</td>     <th>  Df Residuals:      </th>   <td>   908</td>  \n",
        "</tr>\n",
        "<tr>\n",
        "  <th>Method:</th>               <td>MLE</td>       <th>  Df Model:          </th>   <td>    30</td>  \n",
        "</tr>\n",
        "<tr>\n",
        "  <th>Date:</th>          <td>Thu, 10 Jul 2014</td> <th>  Pseudo R-squ.:     </th>   <td>0.1648</td>  \n",
        "</tr>\n",
        "<tr>\n",
        "  <th>Time:</th>              <td>12:50:09</td>     <th>  Log-Likelihood:    </th>  <td> -1461.9</td> \n",
        "</tr>\n",
        "<tr>\n",
        "  <th>converged:</th>           <td>True</td>       <th>  LL-Null:           </th>  <td> -1750.3</td> \n",
        "</tr>\n",
        "<tr>\n",
        "  <th> </th>                      <td> </td>        <th>  LLR p-value:       </th> <td>1.822e-102</td>\n",
        "</tr>\n",
        "</table>\n",
        "<table class=\"simpletable\">\n",
        "<tr>\n",
        "   <th>y=1</th>     <th>coef</th>     <th>std err</th>      <th>z</th>      <th>P>|z|</th> <th>[95.0% Conf. Int.]</th> \n",
        "</tr>\n",
        "<tr>\n",
        "  <th>x1</th>    <td>   -0.0115</td> <td>    0.034</td> <td>   -0.336</td> <td> 0.736</td> <td>   -0.079     0.056</td>\n",
        "</tr>\n",
        "<tr>\n",
        "  <th>x2</th>    <td>    0.2977</td> <td>    0.094</td> <td>    3.180</td> <td> 0.001</td> <td>    0.114     0.481</td>\n",
        "</tr>\n",
        "<tr>\n",
        "  <th>x3</th>    <td>   -0.0249</td> <td>    0.007</td> <td>   -3.823</td> <td> 0.000</td> <td>   -0.038    -0.012</td>\n",
        "</tr>\n",
        "<tr>\n",
        "  <th>x4</th>    <td>    0.0825</td> <td>    0.074</td> <td>    1.121</td> <td> 0.262</td> <td>   -0.062     0.227</td>\n",
        "</tr>\n",
        "<tr>\n",
        "  <th>x5</th>    <td>    0.0052</td> <td>    0.018</td> <td>    0.295</td> <td> 0.768</td> <td>   -0.029     0.040</td>\n",
        "</tr>\n",
        "<tr>\n",
        "  <th>const</th> <td>   -0.3734</td> <td>    0.630</td> <td>   -0.593</td> <td> 0.553</td> <td>   -1.608     0.861</td>\n",
        "</tr>\n",
        "<tr>\n",
        "   <th>y=2</th>     <th>coef</th>     <th>std err</th>      <th>z</th>      <th>P>|z|</th> <th>[95.0% Conf. Int.]</th> \n",
        "</tr>\n",
        "<tr>\n",
        "  <th>x1</th>    <td>   -0.0888</td> <td>    0.039</td> <td>   -2.266</td> <td> 0.023</td> <td>   -0.166    -0.012</td>\n",
        "</tr>\n",
        "<tr>\n",
        "  <th>x2</th>    <td>    0.3917</td> <td>    0.108</td> <td>    3.619</td> <td> 0.000</td> <td>    0.180     0.604</td>\n",
        "</tr>\n",
        "<tr>\n",
        "  <th>x3</th>    <td>   -0.0229</td> <td>    0.008</td> <td>   -2.893</td> <td> 0.004</td> <td>   -0.038    -0.007</td>\n",
        "</tr>\n",
        "<tr>\n",
        "  <th>x4</th>    <td>    0.1810</td> <td>    0.085</td> <td>    2.123</td> <td> 0.034</td> <td>    0.014     0.348</td>\n",
        "</tr>\n",
        "<tr>\n",
        "  <th>x5</th>    <td>    0.0479</td> <td>    0.022</td> <td>    2.149</td> <td> 0.032</td> <td>    0.004     0.092</td>\n",
        "</tr>\n",
        "<tr>\n",
        "  <th>const</th> <td>   -2.2509</td> <td>    0.763</td> <td>   -2.949</td> <td> 0.003</td> <td>   -3.747    -0.755</td>\n",
        "</tr>\n",
        "<tr>\n",
        "   <th>y=3</th>     <th>coef</th>     <th>std err</th>      <th>z</th>      <th>P>|z|</th> <th>[95.0% Conf. Int.]</th> \n",
        "</tr>\n",
        "<tr>\n",
        "  <th>x1</th>    <td>   -0.1060</td> <td>    0.057</td> <td>   -1.858</td> <td> 0.063</td> <td>   -0.218     0.006</td>\n",
        "</tr>\n",
        "<tr>\n",
        "  <th>x2</th>    <td>    0.5735</td> <td>    0.159</td> <td>    3.617</td> <td> 0.000</td> <td>    0.263     0.884</td>\n",
        "</tr>\n",
        "<tr>\n",
        "  <th>x3</th>    <td>   -0.0149</td> <td>    0.011</td> <td>   -1.311</td> <td> 0.190</td> <td>   -0.037     0.007</td>\n",
        "</tr>\n",
        "<tr>\n",
        "  <th>x4</th>    <td>   -0.0072</td> <td>    0.126</td> <td>   -0.057</td> <td> 0.955</td> <td>   -0.255     0.240</td>\n",
        "</tr>\n",
        "<tr>\n",
        "  <th>x5</th>    <td>    0.0576</td> <td>    0.034</td> <td>    1.713</td> <td> 0.087</td> <td>   -0.008     0.123</td>\n",
        "</tr>\n",
        "<tr>\n",
        "  <th>const</th> <td>   -3.6656</td> <td>    1.157</td> <td>   -3.169</td> <td> 0.002</td> <td>   -5.932    -1.399</td>\n",
        "</tr>\n",
        "<tr>\n",
        "   <th>y=4</th>     <th>coef</th>     <th>std err</th>      <th>z</th>      <th>P>|z|</th> <th>[95.0% Conf. Int.]</th> \n",
        "</tr>\n",
        "<tr>\n",
        "  <th>x1</th>    <td>   -0.0916</td> <td>    0.044</td> <td>   -2.091</td> <td> 0.037</td> <td>   -0.177    -0.006</td>\n",
        "</tr>\n",
        "<tr>\n",
        "  <th>x2</th>    <td>    1.2788</td> <td>    0.129</td> <td>    9.921</td> <td> 0.000</td> <td>    1.026     1.531</td>\n",
        "</tr>\n",
        "<tr>\n",
        "  <th>x3</th>    <td>   -0.0087</td> <td>    0.008</td> <td>   -1.031</td> <td> 0.302</td> <td>   -0.025     0.008</td>\n",
        "</tr>\n",
        "<tr>\n",
        "  <th>x4</th>    <td>    0.1998</td> <td>    0.094</td> <td>    2.123</td> <td> 0.034</td> <td>    0.015     0.384</td>\n",
        "</tr>\n",
        "<tr>\n",
        "  <th>x5</th>    <td>    0.0845</td> <td>    0.026</td> <td>    3.226</td> <td> 0.001</td> <td>    0.033     0.136</td>\n",
        "</tr>\n",
        "<tr>\n",
        "  <th>const</th> <td>   -7.6138</td> <td>    0.958</td> <td>   -7.951</td> <td> 0.000</td> <td>   -9.491    -5.737</td>\n",
        "</tr>\n",
        "<tr>\n",
        "   <th>y=5</th>     <th>coef</th>     <th>std err</th>      <th>z</th>      <th>P>|z|</th> <th>[95.0% Conf. Int.]</th> \n",
        "</tr>\n",
        "<tr>\n",
        "  <th>x1</th>    <td>   -0.0933</td> <td>    0.039</td> <td>   -2.371</td> <td> 0.018</td> <td>   -0.170    -0.016</td>\n",
        "</tr>\n",
        "<tr>\n",
        "  <th>x2</th>    <td>    1.3470</td> <td>    0.117</td> <td>   11.494</td> <td> 0.000</td> <td>    1.117     1.577</td>\n",
        "</tr>\n",
        "<tr>\n",
        "  <th>x3</th>    <td>   -0.0179</td> <td>    0.008</td> <td>   -2.352</td> <td> 0.019</td> <td>   -0.033    -0.003</td>\n",
        "</tr>\n",
        "<tr>\n",
        "  <th>x4</th>    <td>    0.2169</td> <td>    0.085</td> <td>    2.552</td> <td> 0.011</td> <td>    0.050     0.384</td>\n",
        "</tr>\n",
        "<tr>\n",
        "  <th>x5</th>    <td>    0.0810</td> <td>    0.023</td> <td>    3.524</td> <td> 0.000</td> <td>    0.036     0.126</td>\n",
        "</tr>\n",
        "<tr>\n",
        "  <th>const</th> <td>   -7.0605</td> <td>    0.844</td> <td>   -8.362</td> <td> 0.000</td> <td>   -8.715    -5.406</td>\n",
        "</tr>\n",
        "<tr>\n",
        "   <th>y=6</th>     <th>coef</th>     <th>std err</th>      <th>z</th>      <th>P>|z|</th> <th>[95.0% Conf. Int.]</th> \n",
        "</tr>\n",
        "<tr>\n",
        "  <th>x1</th>    <td>   -0.1409</td> <td>    0.042</td> <td>   -3.343</td> <td> 0.001</td> <td>   -0.223    -0.058</td>\n",
        "</tr>\n",
        "<tr>\n",
        "  <th>x2</th>    <td>    2.0701</td> <td>    0.143</td> <td>   14.435</td> <td> 0.000</td> <td>    1.789     2.351</td>\n",
        "</tr>\n",
        "<tr>\n",
        "  <th>x3</th>    <td>   -0.0094</td> <td>    0.008</td> <td>   -1.160</td> <td> 0.246</td> <td>   -0.025     0.007</td>\n",
        "</tr>\n",
        "<tr>\n",
        "  <th>x4</th>    <td>    0.3219</td> <td>    0.091</td> <td>    3.534</td> <td> 0.000</td> <td>    0.143     0.500</td>\n",
        "</tr>\n",
        "<tr>\n",
        "  <th>x5</th>    <td>    0.1089</td> <td>    0.025</td> <td>    4.304</td> <td> 0.000</td> <td>    0.059     0.158</td>\n",
        "</tr>\n",
        "<tr>\n",
        "  <th>const</th> <td>  -12.1058</td> <td>    1.060</td> <td>  -11.421</td> <td> 0.000</td> <td>  -14.183   -10.028</td>\n",
        "</tr>\n",
        "</table>"
       ],
       "metadata": {},
       "output_type": "pyout",
       "prompt_number": 110,
       "text": [
        "<class 'statsmodels.iolib.summary.Summary'>\n",
        "\"\"\"\n",
        "                          MNLogit Regression Results                          \n",
        "==============================================================================\n",
        "Dep. Variable:                      y   No. Observations:                  944\n",
        "Model:                        MNLogit   Df Residuals:                      908\n",
        "Method:                           MLE   Df Model:                           30\n",
        "Date:                Thu, 10 Jul 2014   Pseudo R-squ.:                  0.1648\n",
        "Time:                        12:50:09   Log-Likelihood:                -1461.9\n",
        "converged:                       True   LL-Null:                       -1750.3\n",
        "                                        LLR p-value:                1.822e-102\n",
        "==============================================================================\n",
        "       y=1       coef    std err          z      P>|z|      [95.0% Conf. Int.]\n",
        "------------------------------------------------------------------------------\n",
        "x1            -0.0115      0.034     -0.336      0.736        -0.079     0.056\n",
        "x2             0.2977      0.094      3.180      0.001         0.114     0.481\n",
        "x3            -0.0249      0.007     -3.823      0.000        -0.038    -0.012\n",
        "x4             0.0825      0.074      1.121      0.262        -0.062     0.227\n",
        "x5             0.0052      0.018      0.295      0.768        -0.029     0.040\n",
        "const         -0.3734      0.630     -0.593      0.553        -1.608     0.861\n",
        "------------------------------------------------------------------------------\n",
        "       y=2       coef    std err          z      P>|z|      [95.0% Conf. Int.]\n",
        "------------------------------------------------------------------------------\n",
        "x1            -0.0888      0.039     -2.266      0.023        -0.166    -0.012\n",
        "x2             0.3917      0.108      3.619      0.000         0.180     0.604\n",
        "x3            -0.0229      0.008     -2.893      0.004        -0.038    -0.007\n",
        "x4             0.1810      0.085      2.123      0.034         0.014     0.348\n",
        "x5             0.0479      0.022      2.149      0.032         0.004     0.092\n",
        "const         -2.2509      0.763     -2.949      0.003        -3.747    -0.755\n",
        "------------------------------------------------------------------------------\n",
        "       y=3       coef    std err          z      P>|z|      [95.0% Conf. Int.]\n",
        "------------------------------------------------------------------------------\n",
        "x1            -0.1060      0.057     -1.858      0.063        -0.218     0.006\n",
        "x2             0.5735      0.159      3.617      0.000         0.263     0.884\n",
        "x3            -0.0149      0.011     -1.311      0.190        -0.037     0.007\n",
        "x4            -0.0072      0.126     -0.057      0.955        -0.255     0.240\n",
        "x5             0.0576      0.034      1.713      0.087        -0.008     0.123\n",
        "const         -3.6656      1.157     -3.169      0.002        -5.932    -1.399\n",
        "------------------------------------------------------------------------------\n",
        "       y=4       coef    std err          z      P>|z|      [95.0% Conf. Int.]\n",
        "------------------------------------------------------------------------------\n",
        "x1            -0.0916      0.044     -2.091      0.037        -0.177    -0.006\n",
        "x2             1.2788      0.129      9.921      0.000         1.026     1.531\n",
        "x3            -0.0087      0.008     -1.031      0.302        -0.025     0.008\n",
        "x4             0.1998      0.094      2.123      0.034         0.015     0.384\n",
        "x5             0.0845      0.026      3.226      0.001         0.033     0.136\n",
        "const         -7.6138      0.958     -7.951      0.000        -9.491    -5.737\n",
        "------------------------------------------------------------------------------\n",
        "       y=5       coef    std err          z      P>|z|      [95.0% Conf. Int.]\n",
        "------------------------------------------------------------------------------\n",
        "x1            -0.0933      0.039     -2.371      0.018        -0.170    -0.016\n",
        "x2             1.3470      0.117     11.494      0.000         1.117     1.577\n",
        "x3            -0.0179      0.008     -2.352      0.019        -0.033    -0.003\n",
        "x4             0.2169      0.085      2.552      0.011         0.050     0.384\n",
        "x5             0.0810      0.023      3.524      0.000         0.036     0.126\n",
        "const         -7.0605      0.844     -8.362      0.000        -8.715    -5.406\n",
        "------------------------------------------------------------------------------\n",
        "       y=6       coef    std err          z      P>|z|      [95.0% Conf. Int.]\n",
        "------------------------------------------------------------------------------\n",
        "x1            -0.1409      0.042     -3.343      0.001        -0.223    -0.058\n",
        "x2             2.0701      0.143     14.435      0.000         1.789     2.351\n",
        "x3            -0.0094      0.008     -1.160      0.246        -0.025     0.007\n",
        "x4             0.3219      0.091      3.534      0.000         0.143     0.500\n",
        "x5             0.1089      0.025      4.304      0.000         0.059     0.158\n",
        "const        -12.1058      1.060    -11.421      0.000       -14.183   -10.028\n",
        "==============================================================================\n",
        "\"\"\""
       ]
      }
     ],
     "prompt_number": 110
    },
    {
     "cell_type": "code",
     "collapsed": false,
     "input": [
      "mlogit_res.params"
     ],
     "language": "python",
     "metadata": {},
     "outputs": [
      {
       "metadata": {},
       "output_type": "pyout",
       "prompt_number": 111,
       "text": [
        "array([[ -1.15359746e-02,  -8.87506530e-02,  -1.05966699e-01,\n",
        "         -9.15567017e-02,  -9.32846040e-02,  -1.40880692e-01],\n",
        "       [  2.97714352e-01,   3.91668642e-01,   5.73450508e-01,\n",
        "          1.27877179e+00,   1.34696165e+00,   2.07008014e+00],\n",
        "       [ -2.49449954e-02,  -2.28978371e-02,  -1.48512069e-02,\n",
        "         -8.68134503e-03,  -1.79040689e-02,  -9.43264870e-03],\n",
        "       [  8.24914421e-02,   1.81042758e-01,  -7.15241904e-03,\n",
        "          1.99827955e-01,   2.16938850e-01,   3.21925702e-01],\n",
        "       [  5.19655317e-03,   4.78739761e-02,   5.75751595e-02,\n",
        "          8.44983753e-02,   8.09584122e-02,   1.08894083e-01],\n",
        "       [ -3.73401677e-01,  -2.25091318e+00,  -3.66558353e+00,\n",
        "         -7.61384309e+00,  -7.06047825e+00,  -1.21057509e+01]])"
       ]
      }
     ],
     "prompt_number": 111
    },
    {
     "cell_type": "code",
     "collapsed": false,
     "input": [
      "figure(figsize=(9,5))\n",
      "plot(mlogit_res.params[:,0],'d',color='darkred',label='y=1')\n",
      "plot(mlogit_res.params[:,1],'s',color='midnightblue',label='y=2')\n",
      "plot(mlogit_res.params[:,2],'d',color='goldenrod',label='y=3')\n",
      "plot(mlogit_res.params[:,3],'d',color='deeppink',label='y=4')\n",
      "plot(mlogit_res.params[:,4],'o',color='forestgreen',label='y=5')\n",
      "plot(mlogit_res.params[:,5],'<',color='darkslategray',label='y=6')\n",
      "\n",
      "xlabel('exogenous variable')\n",
      "xticks( arange(6), (r'$x_1$', r'$x_2$', r'$x_3$', r'$x_4$', r'$x_5$', 'const') )\n",
      "grid(True)\n",
      "ylabel(r'$\\beta$ values')\n",
      "legend(loc=3)"
     ],
     "language": "python",
     "metadata": {},
     "outputs": [
      {
       "metadata": {},
       "output_type": "pyout",
       "prompt_number": 123,
       "text": [
        "<matplotlib.legend.Legend at 0x1a815da0>"
       ]
      },
      {
       "metadata": {},
       "output_type": "display_data",
       "png": "[encoded data removed]",
       "text": [
        "<matplotlib.figure.Figure at 0x1a2bd2b0>"
       ]
      }
     ],
     "prompt_number": 123
    },
    {
     "cell_type": "code",
     "collapsed": false,
     "input": [
      "xticks?"
     ],
     "language": "python",
     "metadata": {},
     "outputs": [],
     "prompt_number": 117
    },
    {
     "cell_type": "markdown",
     "metadata": {},
     "source": [
      "# Now looking at Kolmogorov-smirnov-test (Two-sample to check if two non-parametric samples are the same)"
     ]
    },
    {
     "cell_type": "code",
     "collapsed": false,
     "input": [
      "%pylab inline\n",
      "import pandas as pd"
     ],
     "language": "python",
     "metadata": {},
     "outputs": [
      {
       "output_type": "stream",
       "stream": "stdout",
       "text": [
        "Populating the interactive namespace from numpy and matplotlib\n"
       ]
      }
     ],
     "prompt_number": 2
    },
    {
     "cell_type": "code",
     "collapsed": false,
     "input": [
      "from scipy.stats import ks_2samp\n",
      "random.seed(12345678)\n",
      "# generate some normally distributed samples\n",
      "x = random.normal(0,1,1000)\n",
      "y = random.normal(0,1,1000)\n",
      "z = random.normal(1.1,0.9, 1000)"
     ],
     "language": "python",
     "metadata": {},
     "outputs": [],
     "prompt_number": 3
    },
    {
     "cell_type": "code",
     "collapsed": false,
     "input": [
      "max(x),max(y),max(z)"
     ],
     "language": "python",
     "metadata": {},
     "outputs": [
      {
       "metadata": {},
       "output_type": "pyout",
       "prompt_number": 9,
       "text": [
        "(3.0974285223390181, 2.6268608794214074, 4.0519858757125391)"
       ]
      }
     ],
     "prompt_number": 9
    },
    {
     "cell_type": "code",
     "collapsed": false,
     "input": [
      "from scipy.stats.kde import gaussian_kde\n",
      "X_pdf = gaussian_kde(x)\n",
      "Y_pdf = gaussian_kde(y)\n",
      "Z_pdf = gaussian_kde(z)\n"
     ],
     "language": "python",
     "metadata": {},
     "outputs": [],
     "prompt_number": 11
    },
    {
     "cell_type": "code",
     "collapsed": false,
     "input": [
      "X_cdf = "
     ],
     "language": "python",
     "metadata": {},
     "outputs": []
    },
    {
     "cell_type": "code",
     "collapsed": false,
     "input": [
      "# plotting the result\n",
      "xx = linspace(-5,5,100)\n",
      "plot(xx,X_pdf(xx),'r',label='distrib1') # distribution function\n",
      "plot(xx,Y_pdf(xx),color='darkgreen',label='distrib2') # distribution function\n",
      "plot(xx,Z_pdf(xx),color='midnightblue',label='distrib3') # distribution function\n",
      "hist(x,normed=1,alpha=.3,color='firebrick') # histogram\n",
      "hist(y,normed=1,alpha=.3,color='darkgreen') # histogram\n",
      "hist(z,normed=1,alpha=.3,color='steelblue') # histogram\n",
      "grid(True)\n",
      "legend()"
     ],
     "language": "python",
     "metadata": {},
     "outputs": [
      {
       "metadata": {},
       "output_type": "pyout",
       "prompt_number": 13,
       "text": [
        "<matplotlib.legend.Legend at 0x14a5bf98>"
       ]
      },
      {
       "metadata": {},
       "output_type": "display_data",
       "png": "[encoded data removed]",
       "text": [
        "<matplotlib.figure.Figure at 0x14a74f98>"
       ]
      }
     ],
     "prompt_number": 13
    },
    {
     "cell_type": "code",
     "collapsed": false,
     "input": [
      "ks_2samp(x,y), ks_2samp(x,z)"
     ],
     "language": "python",
     "metadata": {},
     "outputs": [
      {
       "metadata": {},
       "output_type": "pyout",
       "prompt_number": 14,
       "text": [
        "((0.022999999999999909, 0.95189016804849647),\n",
        " (0.41800000000000004, 3.7081494119242173e-77))"
       ]
      }
     ],
     "prompt_number": 14
    },
    {
     "cell_type": "code",
     "collapsed": false,
     "input": [
      "print \"mean value of x is: {0:.4f}({1:.2f})\".format(x.mean(),x.std())\n",
      "print \"mean value of y is: {0:.4f}({1:.2f})\".format(y.mean(),y.std())\n",
      "print \"mean value of z is: {0:.4f}({1:.2f})\".format(z.mean(),z.std())"
     ],
     "language": "python",
     "metadata": {},
     "outputs": [
      {
       "output_type": "stream",
       "stream": "stdout",
       "text": [
        "mean value of x is: 0.0027(1.01)\n",
        "mean value of y is: -0.0096(0.99)\n",
        "mean value of z is: 1.1138(0.92)\n"
       ]
      }
     ],
     "prompt_number": 20
    },
    {
     "cell_type": "code",
     "collapsed": false,
     "input": [
      "myval = sqrt((1000+1000)/float(1000*1000))\n",
      "print myval, myval*1.36"
     ],
     "language": "python",
     "metadata": {},
     "outputs": [
      {
       "output_type": "stream",
       "stream": "stdout",
       "text": [
        "0.04472135955 0.060821048988\n"
       ]
      }
     ],
     "prompt_number": 22
    },
    {
     "cell_type": "code",
     "collapsed": false,
     "input": [
      "ks_2samp(x, y)\n",
      "(0.022999999999999909, 0.95189016804849658)\n",
      ">>> ks_2samp(x, z)\n",
      "(0.41800000000000004, 3.7081494119242173e-77)\n"
     ],
     "language": "python",
     "metadata": {},
     "outputs": []
    },
    {
     "cell_type": "markdown",
     "metadata": {},
     "source": [
      "### Now try some other distributions"
     ]
    },
    {
     "cell_type": "code",
     "collapsed": false,
     "input": [
      "import scipy.stats as stats\n",
      "xNorm = stats.norm.rvs(0,1,size=10000)"
     ],
     "language": "python",
     "metadata": {},
     "outputs": [],
     "prompt_number": 26
    },
    {
     "cell_type": "code",
     "collapsed": false,
     "input": [
      "numbins=50\n",
      "cdf = stats.cumfreq(xNorm,numbins)\n",
      "plot(cdf[0])"
     ],
     "language": "python",
     "metadata": {},
     "outputs": [
      {
       "metadata": {},
       "output_type": "pyout",
       "prompt_number": 56,
       "text": [
        "[<matplotlib.lines.Line2D at 0x1768ca58>]"
       ]
      },
      {
       "metadata": {},
       "output_type": "display_data",
       "png": "[encoded data removed]",
       "text": [
        "<matplotlib.figure.Figure at 0x16b76048>"
       ]
      }
     ],
     "prompt_number": 56
    },
    {
     "cell_type": "code",
     "collapsed": false,
     "input": [
      "xPois = stats.poisson.rvs?"
     ],
     "language": "python",
     "metadata": {},
     "outputs": [],
     "prompt_number": 32
    },
    {
     "cell_type": "code",
     "collapsed": false,
     "input": [
      "#xPois = stats.poisson.rvs\n",
      "#xGamma1 =  stats.gamma(1, scale=2.).stats(moments=\"mv\")\n",
      "stats.gamma(1, scale=2.).stats(moments=\"mv\")"
     ],
     "language": "python",
     "metadata": {},
     "outputs": [
      {
       "metadata": {},
       "output_type": "pyout",
       "prompt_number": 33,
       "text": [
        "(array(2.0), array(4.0))"
       ]
      }
     ],
     "prompt_number": 33
    },
    {
     "cell_type": "code",
     "collapsed": false,
     "input": [
      "XnormPDF = gaussian_kde(xNorm)\n",
      "plot(xx,XnormPDF(xx),'darkred',label='distrib1') # distribution function\n",
      "hist(xNorm,alpha=0.3, color='cadetblue',normed=True,bins=30)"
     ],
     "language": "python",
     "metadata": {},
     "outputs": [
      {
       "metadata": {},
       "output_type": "pyout",
       "prompt_number": 31,
       "text": [
        "(array([ 0.00164057,  0.002871  ,  0.00451157,  0.00902314,  0.02009699,\n",
        "         0.03117085,  0.05413884,  0.07423583,  0.13698766,  0.15790494,\n",
        "         0.23378134,  0.28135789,  0.31909102,  0.365027  ,  0.39373699,\n",
        "         0.39332685,  0.36584729,  0.33180544,  0.26905361,  0.20999306,\n",
        "         0.16569765,  0.11730081,  0.0730054 ,  0.03978384,  0.02665928,\n",
        "         0.01025357,  0.00820285,  0.002871  ,  0.00123043,  0.00082029]),\n",
        " array([-3.62550414, -3.38168656, -3.13786898, -2.8940514 , -2.65023383,\n",
        "        -2.40641625, -2.16259867, -1.91878109, -1.67496351, -1.43114593,\n",
        "        -1.18732835, -0.94351077, -0.69969319, -0.45587561, -0.21205803,\n",
        "         0.03175955,  0.27557712,  0.5193947 ,  0.76321228,  1.00702986,\n",
        "         1.25084744,  1.49466502,  1.7384826 ,  1.98230018,  2.22611776,\n",
        "         2.46993534,  2.71375292,  2.9575705 ,  3.20138807,  3.44520565,\n",
        "         3.68902323]),\n",
        " <a list of 30 Patch objects>)"
       ]
      },
      {
       "metadata": {},
       "output_type": "display_data",
       "png": "[encoded data removed]",
       "text": [
        "<matplotlib.figure.Figure at 0x14d42e48>"
       ]
      }
     ],
     "prompt_number": 31
    },
    {
     "cell_type": "code",
     "collapsed": false,
     "input": [
      "a = 2.2\n",
      "x2 = linspace(stats.gamma.ppf(0.01, a),stats.gamma.ppf(0.99, a), 100)\n",
      "plot(x2, stats.gamma.pdf(x2, a),'r-', lw=5, alpha=0.6, label=r'$\\Gamma(a)$ pdf')\n",
      "plot(x2, stats.gamma.pdf(x2, a**2),color='steelblue', lw=5, alpha=0.7, label=r'$\\Gamma(a^2)$ pdf')\n",
      "grid(True)\n",
      "hist(xGamma1,bins=30,normed=True,alpha=0.3,color='firebrick')\n",
      "hist(xGamma2,bins=30,normed=True,alpha=0.3,color='cadetblue')\n",
      "legend()"
     ],
     "language": "python",
     "metadata": {},
     "outputs": [
      {
       "metadata": {},
       "output_type": "pyout",
       "prompt_number": 41,
       "text": [
        "<matplotlib.legend.Legend at 0x170cbd68>"
       ]
      },
      {
       "metadata": {},
       "output_type": "display_data",
       "png": "[encoded data removed]",
       "text": [
        "<matplotlib.figure.Figure at 0x16e88a20>"
       ]
      }
     ],
     "prompt_number": 41
    },
    {
     "cell_type": "code",
     "collapsed": false,
     "input": [
      "#generate random values from these distributions:\n",
      "xGamma1 = stats.gamma.rvs(a, size=4000)\n",
      "yGamma1 = stats.gamma.rvs(a-0.1,size=3000)\n",
      "xGamma2 = stats.gamma.rvs(a**2,size=1000)"
     ],
     "language": "python",
     "metadata": {},
     "outputs": [],
     "prompt_number": 52
    },
    {
     "cell_type": "code",
     "collapsed": false,
     "input": [
      "# calculate the KS 2-sample test\n",
      "ks_2samp(xGamma1,xGamma2), ks_2samp(xGamma1,yGamma1),ks_2samp(xGamma1,xGamma1)"
     ],
     "language": "python",
     "metadata": {},
     "outputs": [
      {
       "metadata": {},
       "output_type": "pyout",
       "prompt_number": 46,
       "text": [
        "((0.56824999999999992, 0.0),\n",
        " (0.041750000000000009, 0.0048999614360839038),\n",
        " (0.0, 1.0))"
       ]
      }
     ],
     "prompt_number": 46
    },
    {
     "cell_type": "code",
     "collapsed": false,
     "input": [
      "myval = sqrt((1000+4000)/float(4000*1000))"
     ],
     "language": "python",
     "metadata": {},
     "outputs": [],
     "prompt_number": 50
    },
    {
     "cell_type": "code",
     "collapsed": false,
     "input": [
      "myval*1.36\n",
      "ks_2samp(xGamma1,xGamma2), ks_2samp(xGamma1,yGamma1),ks_2samp(xGamma1,xGamma1)"
     ],
     "language": "python",
     "metadata": {},
     "outputs": [
      {
       "metadata": {},
       "output_type": "pyout",
       "prompt_number": 53,
       "text": [
        "((0.55649999999999999, 1.6425004321964142e-217),\n",
        " (0.035583333333333356, 0.02538033703674545),\n",
        " (0.0, 1.0))"
       ]
      }
     ],
     "prompt_number": 53
    },
    {
     "cell_type": "code",
     "collapsed": false,
     "input": [
      "numbins=50\n",
      "plot(stats.cumfreq(xNorm,numbins)[0]/float(len(xNorm)),color='cadetblue')\n",
      "plot(stats.cumfreq(xGamma1,numbins)[0]/float(len(xGamma1)),color='darkred')\n",
      "plot(stats.cumfreq(xGamma2,numbins)[0]/float(len(xGamma2)),color='deeppink')\n",
      "plot(stats.cumfreq(yGamma1,numbins)[0]/float(len(yGamma1)),color='darkgreen')"
     ],
     "language": "python",
     "metadata": {},
     "outputs": [
      {
       "metadata": {},
       "output_type": "pyout",
       "prompt_number": 70,
       "text": [
        "[<matplotlib.lines.Line2D at 0x18680a20>]"
       ]
      },
      {
       "metadata": {},
       "output_type": "display_data",
       "png": "[encoded data removed]",
       "text": [
        "<matplotlib.figure.Figure at 0x17eb67b8>"
       ]
      }
     ],
     "prompt_number": 70
    },
    {
     "cell_type": "code",
     "collapsed": false,
     "input": [],
     "language": "python",
     "metadata": {},
     "outputs": []
    },
    {
     "cell_type": "code",
     "collapsed": false,
     "input": [
      "stats.cumfreq(xGamma1,numbins)"
     ],
     "language": "python",
     "metadata": {},
     "outputs": [
      {
       "metadata": {},
       "output_type": "pyout",
       "prompt_number": 59,
       "text": [
        "(array([   24.,   182.,   425.,   732.,  1057.,  1374.,  1709.,  2043.,\n",
        "         2311.,  2581.,  2803.,  2993.,  3159.,  3289.,  3414.,  3518.,\n",
        "         3608.,  3672.,  3737.,  3779.,  3814.,  3849.,  3879.,  3896.,\n",
        "         3916.,  3931.,  3946.,  3956.,  3964.,  3972.,  3978.,  3982.,\n",
        "         3985.,  3988.,  3991.,  3992.,  3992.,  3993.,  3994.,  3995.,\n",
        "         3996.,  3997.,  3997.,  3998.,  3998.,  3998.,  3999.,  3999.,\n",
        "         3999.,  4000.]), -0.090512346710102956, 0.25114599288577127, 0)"
       ]
      }
     ],
     "prompt_number": 59
    },
    {
     "cell_type": "code",
     "collapsed": false,
     "input": [
      "stats.cumfreq(xGamma1,numbins)[0]/float(len(xGamma1))"
     ],
     "language": "python",
     "metadata": {},
     "outputs": [
      {
       "metadata": {},
       "output_type": "pyout",
       "prompt_number": 63,
       "text": [
        "array([ 0.006  ,  0.0455 ,  0.10625,  0.183  ,  0.26425,  0.3435 ,\n",
        "        0.42725,  0.51075,  0.57775,  0.64525,  0.70075,  0.74825,\n",
        "        0.78975,  0.82225,  0.8535 ,  0.8795 ,  0.902  ,  0.918  ,\n",
        "        0.93425,  0.94475,  0.9535 ,  0.96225,  0.96975,  0.974  ,\n",
        "        0.979  ,  0.98275,  0.9865 ,  0.989  ,  0.991  ,  0.993  ,\n",
        "        0.9945 ,  0.9955 ,  0.99625,  0.997  ,  0.99775,  0.998  ,\n",
        "        0.998  ,  0.99825,  0.9985 ,  0.99875,  0.999  ,  0.99925,\n",
        "        0.99925,  0.9995 ,  0.9995 ,  0.9995 ,  0.99975,  0.99975,\n",
        "        0.99975,  1.     ])"
       ]
      }
     ],
     "prompt_number": 63
    },
    {
     "cell_type": "code",
     "collapsed": false,
     "input": [],
     "language": "python",
     "metadata": {},
     "outputs": []
    }
   ],
   "metadata": {}
  }
 ]
}