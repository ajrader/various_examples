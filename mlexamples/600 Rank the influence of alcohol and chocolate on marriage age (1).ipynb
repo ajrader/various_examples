{
 "metadata": {
  "name": ""
 },
 "nbformat": 3,
 "nbformat_minor": 0,
 "worksheets": [
  {
   "cells": [
    {
     "cell_type": "markdown",
     "metadata": {},
     "source": [
      "- [UN Alcohol Trade Dataset](http://data.un.org/Data.aspx?d=ComTrade&f=_l1Code%3a23)\n",
      "- [UN Chocolate Trade Dataset](http://data.un.org/Data.aspx?d=ComTrade&f=_l1Code%3a19)\n",
      "- [UN Marriage Age Dataset](http://data.un.org/Data.aspx?d=GenderStat&f=inID%3a20)"
     ]
    },
    {
     "cell_type": "code",
     "collapsed": false,
     "input": [
      "from pandas import read_csv\n",
      "alcohol = read_csv('datasets/UN-Alcohol.csv')\n",
      "chocolate = read_csv('datasets/UN-Chocolate.csv')\n",
      "marriage = read_csv('datasets/UN-Marriage.csv').drop('Value Footnotes', axis=1).dropna()"
     ],
     "language": "python",
     "metadata": {},
     "outputs": [],
     "prompt_number": 2
    },
    {
     "cell_type": "code",
     "collapsed": false,
     "input": [
      "for table in alcohol, chocolate, marriage:\n",
      "    table.rename(columns={\n",
      "        'Country or Area': 'Country',\n",
      "        'Comm. Code': 'CommodityCode',\n",
      "    }, inplace=True)"
     ],
     "language": "python",
     "metadata": {},
     "outputs": [],
     "prompt_number": 3
    },
    {
     "cell_type": "code",
     "collapsed": false,
     "input": [
      "alcohol = alcohol[alcohol['CommodityCode'] >= 220300][['Country', 'CommodityCode', 'Commodity', 'Flow', 'Quantity']]\n",
      "chocolate = chocolate[chocolate['CommodityCode'] >= 180620][['Country', 'CommodityCode', 'Commodity', 'Flow', 'Quantity']]\n",
      "marriage = marriage[['Country', 'Subgroup', 'Value']]"
     ],
     "language": "python",
     "metadata": {},
     "outputs": [],
     "prompt_number": 4
    },
    {
     "cell_type": "code",
     "collapsed": false,
     "input": [
      "alcohol.ix[alcohol.index[0]]"
     ],
     "language": "python",
     "metadata": {},
     "outputs": [
      {
       "metadata": {},
       "output_type": "pyout",
       "prompt_number": 5,
       "text": [
        "Country                      Albania\n",
        "CommodityCode                 220300\n",
        "Commodity        Beer made from malt\n",
        "Flow                          Export\n",
        "Quantity                      376823\n",
        "Name: 11, dtype: object"
       ]
      }
     ],
     "prompt_number": 5
    },
    {
     "cell_type": "code",
     "collapsed": false,
     "input": [
      "alcohol[['CommodityCode', 'Commodity']].drop_duplicates('CommodityCode').sort('CommodityCode')"
     ],
     "language": "python",
     "metadata": {},
     "outputs": [
      {
       "html": [
        "<div style=\"max-height:1000px;max-width:1500px;overflow:auto;\">\n",
        "<table border=\"1\" class=\"dataframe\">\n",
        "  <thead>\n",
        "    <tr style=\"text-align: right;\">\n",
        "      <th></th>\n",
        "      <th>CommodityCode</th>\n",
        "      <th>Commodity</th>\n",
        "    </tr>\n",
        "  </thead>\n",
        "  <tbody>\n",
        "    <tr>\n",
        "      <th>11 </th>\n",
        "      <td> 220300</td>\n",
        "      <td>                               Beer made from malt</td>\n",
        "    </tr>\n",
        "    <tr>\n",
        "      <th>13 </th>\n",
        "      <td> 220410</td>\n",
        "      <td>                            Grape wines, sparkling</td>\n",
        "    </tr>\n",
        "    <tr>\n",
        "      <th>15 </th>\n",
        "      <td> 220421</td>\n",
        "      <td> Grape wines nes, fortified wine or must, pack ...</td>\n",
        "    </tr>\n",
        "    <tr>\n",
        "      <th>17 </th>\n",
        "      <td> 220429</td>\n",
        "      <td>             Grape wines, alcoholic grape must nes</td>\n",
        "    </tr>\n",
        "    <tr>\n",
        "      <th>48 </th>\n",
        "      <td> 220430</td>\n",
        "      <td>    Grape must, unfermented, except as fruit juice</td>\n",
        "    </tr>\n",
        "    <tr>\n",
        "      <th>19 </th>\n",
        "      <td> 220510</td>\n",
        "      <td> Vermouth and other flavoured grape wines - pac...</td>\n",
        "    </tr>\n",
        "    <tr>\n",
        "      <th>20 </th>\n",
        "      <td> 220590</td>\n",
        "      <td> Vermouth and other flavoured grape wines - pac...</td>\n",
        "    </tr>\n",
        "    <tr>\n",
        "      <th>21 </th>\n",
        "      <td> 220600</td>\n",
        "      <td> Fermented beverages nes (eg cider, perry, mead...</td>\n",
        "    </tr>\n",
        "    <tr>\n",
        "      <th>22 </th>\n",
        "      <td> 220710</td>\n",
        "      <td>         Undenatured ethyl alcohol &gt; 80% by volume</td>\n",
        "    </tr>\n",
        "    <tr>\n",
        "      <th>23 </th>\n",
        "      <td> 220720</td>\n",
        "      <td>        Ethyl alcohol and other spirits, denatured</td>\n",
        "    </tr>\n",
        "    <tr>\n",
        "      <th>900</th>\n",
        "      <td> 220810</td>\n",
        "      <td> Compound alcoholic preps for beverage manufacture</td>\n",
        "    </tr>\n",
        "    <tr>\n",
        "      <th>24 </th>\n",
        "      <td> 220820</td>\n",
        "      <td> Spirits obtained by distilling grape wine, gra...</td>\n",
        "    </tr>\n",
        "    <tr>\n",
        "      <th>26 </th>\n",
        "      <td> 220830</td>\n",
        "      <td>                                          Whiskies</td>\n",
        "    </tr>\n",
        "    <tr>\n",
        "      <th>28 </th>\n",
        "      <td> 220840</td>\n",
        "      <td>                                     Rum and tafia</td>\n",
        "    </tr>\n",
        "    <tr>\n",
        "      <th>29 </th>\n",
        "      <td> 220850</td>\n",
        "      <td>                                    Gin and Geneva</td>\n",
        "    </tr>\n",
        "    <tr>\n",
        "      <th>31 </th>\n",
        "      <td> 220890</td>\n",
        "      <td>                            Alcoholic liqueurs nes</td>\n",
        "    </tr>\n",
        "    <tr>\n",
        "      <th>33 </th>\n",
        "      <td> 220900</td>\n",
        "      <td> Vinegar and substitutes for vinegar from aceti...</td>\n",
        "    </tr>\n",
        "  </tbody>\n",
        "</table>\n",
        "</div>"
       ],
       "metadata": {},
       "output_type": "pyout",
       "prompt_number": 6,
       "text": [
        "     CommodityCode                                          Commodity\n",
        "11          220300                                Beer made from malt\n",
        "13          220410                             Grape wines, sparkling\n",
        "15          220421  Grape wines nes, fortified wine or must, pack ...\n",
        "17          220429              Grape wines, alcoholic grape must nes\n",
        "48          220430     Grape must, unfermented, except as fruit juice\n",
        "19          220510  Vermouth and other flavoured grape wines - pac...\n",
        "20          220590  Vermouth and other flavoured grape wines - pac...\n",
        "21          220600  Fermented beverages nes (eg cider, perry, mead...\n",
        "22          220710          Undenatured ethyl alcohol > 80% by volume\n",
        "23          220720         Ethyl alcohol and other spirits, denatured\n",
        "900         220810  Compound alcoholic preps for beverage manufacture\n",
        "24          220820  Spirits obtained by distilling grape wine, gra...\n",
        "26          220830                                           Whiskies\n",
        "28          220840                                      Rum and tafia\n",
        "29          220850                                     Gin and Geneva\n",
        "31          220890                             Alcoholic liqueurs nes\n",
        "33          220900  Vinegar and substitutes for vinegar from aceti..."
       ]
      }
     ],
     "prompt_number": 6
    },
    {
     "cell_type": "code",
     "collapsed": false,
     "input": [
      "chocolate.ix[chocolate.index[0]]"
     ],
     "language": "python",
     "metadata": {},
     "outputs": [
      {
       "metadata": {},
       "output_type": "pyout",
       "prompt_number": 7,
       "text": [
        "Country                                    Afghanistan\n",
        "CommodityCode                                   180690\n",
        "Commodity        Chocolate/cocoa food preparations nes\n",
        "Flow                                            Import\n",
        "Quantity                                  1.851393e+07\n",
        "Name: 0, dtype: object"
       ]
      }
     ],
     "prompt_number": 7
    },
    {
     "cell_type": "code",
     "collapsed": false,
     "input": [
      "chocolate[['CommodityCode', 'Commodity']].drop_duplicates('CommodityCode').sort('CommodityCode')"
     ],
     "language": "python",
     "metadata": {},
     "outputs": [
      {
       "html": [
        "<div style=\"max-height:1000px;max-width:1500px;overflow:auto;\">\n",
        "<table border=\"1\" class=\"dataframe\">\n",
        "  <thead>\n",
        "    <tr style=\"text-align: right;\">\n",
        "      <th></th>\n",
        "      <th>CommodityCode</th>\n",
        "      <th>Commodity</th>\n",
        "    </tr>\n",
        "  </thead>\n",
        "  <tbody>\n",
        "    <tr>\n",
        "      <th>9 </th>\n",
        "      <td> 180620</td>\n",
        "      <td> Chocolate and other food preps containing coco...</td>\n",
        "    </tr>\n",
        "    <tr>\n",
        "      <th>11</th>\n",
        "      <td> 180631</td>\n",
        "      <td> Chocolate, cocoa preps, block, slab, bar, fill...</td>\n",
        "    </tr>\n",
        "    <tr>\n",
        "      <th>12</th>\n",
        "      <td> 180632</td>\n",
        "      <td> Chocolate, cocoa prep, block/slab/bar, not fil...</td>\n",
        "    </tr>\n",
        "    <tr>\n",
        "      <th>0 </th>\n",
        "      <td> 180690</td>\n",
        "      <td>             Chocolate/cocoa food preparations nes</td>\n",
        "    </tr>\n",
        "  </tbody>\n",
        "</table>\n",
        "</div>"
       ],
       "metadata": {},
       "output_type": "pyout",
       "prompt_number": 8,
       "text": [
        "    CommodityCode                                          Commodity\n",
        "9          180620  Chocolate and other food preps containing coco...\n",
        "11         180631  Chocolate, cocoa preps, block, slab, bar, fill...\n",
        "12         180632  Chocolate, cocoa prep, block/slab/bar, not fil...\n",
        "0          180690              Chocolate/cocoa food preparations nes"
       ]
      }
     ],
     "prompt_number": 8
    },
    {
     "cell_type": "code",
     "collapsed": false,
     "input": [
      "marriage.ix[marriage.index[0]]"
     ],
     "language": "python",
     "metadata": {},
     "outputs": [
      {
       "metadata": {},
       "output_type": "pyout",
       "prompt_number": 9,
       "text": [
        "Country     Albania\n",
        "Subgroup     Female\n",
        "Value          22.9\n",
        "Name: 0, dtype: object"
       ]
      }
     ],
     "prompt_number": 9
    },
    {
     "cell_type": "code",
     "collapsed": false,
     "input": [
      "marriage.groupby('Subgroup').mean()"
     ],
     "language": "python",
     "metadata": {},
     "outputs": [
      {
       "html": [
        "<div style=\"max-height:1000px;max-width:1500px;overflow:auto;\">\n",
        "<table border=\"1\" class=\"dataframe\">\n",
        "  <thead>\n",
        "    <tr style=\"text-align: right;\">\n",
        "      <th></th>\n",
        "      <th>Value</th>\n",
        "    </tr>\n",
        "    <tr>\n",
        "      <th>Subgroup</th>\n",
        "      <th></th>\n",
        "    </tr>\n",
        "  </thead>\n",
        "  <tbody>\n",
        "    <tr>\n",
        "      <th>Female</th>\n",
        "      <td> 24.055814</td>\n",
        "    </tr>\n",
        "    <tr>\n",
        "      <th>Male</th>\n",
        "      <td> 27.794631</td>\n",
        "    </tr>\n",
        "  </tbody>\n",
        "</table>\n",
        "</div>"
       ],
       "metadata": {},
       "output_type": "pyout",
       "prompt_number": 10,
       "text": [
        "              Value\n",
        "Subgroup           \n",
        "Female    24.055814\n",
        "Male      27.794631"
       ]
      }
     ],
     "prompt_number": 10
    },
    {
     "cell_type": "code",
     "collapsed": false,
     "input": [
      "marriagePivot = marriage.pivot('Country', 'Subgroup', 'Value')\n",
      "marriagePivot"
     ],
     "language": "python",
     "metadata": {},
     "outputs": [
      {
       "html": [
        "<pre>\n",
        "&lt;class 'pandas.core.frame.DataFrame'&gt;\n",
        "Index: 172 entries, Albania to Zimbabwe\n",
        "Data columns (total 2 columns):\n",
        "Female    172  non-null values\n",
        "Male      149  non-null values\n",
        "dtypes: float64(2)\n",
        "</pre>"
       ],
       "metadata": {},
       "output_type": "pyout",
       "prompt_number": 11,
       "text": [
        "<class 'pandas.core.frame.DataFrame'>\n",
        "Index: 172 entries, Albania to Zimbabwe\n",
        "Data columns (total 2 columns):\n",
        "Female    172  non-null values\n",
        "Male      149  non-null values\n",
        "dtypes: float64(2)"
       ]
      }
     ],
     "prompt_number": 11
    },
    {
     "cell_type": "code",
     "collapsed": false,
     "input": [
      "from pandas import Series\n",
      "\n",
      "def compute_datasetRow(row):\n",
      "    country = row.name\n",
      "    sum_by_flow = lambda trades: trades[trades.Country == country].groupby('Flow').sum()['Quantity']\n",
      "    alcoholFlow = sum_by_flow(alcohol)\n",
      "    chocolateFlow = sum_by_flow(chocolate)\n",
      "    return Series(dict(\n",
      "        AlcoholImported=alcoholFlow.get('Import', 0),\n",
      "        AlcoholExported=alcoholFlow.get('Export', 0),\n",
      "        ChocolateImported=chocolateFlow.get('Import', 0),\n",
      "        ChocolateExported=chocolateFlow.get('Export', 0),\n",
      "        MarriageAgeFemale=row['Female'],\n",
      "        MarriageAgeMale=row['Male']), name=country)\n",
      "\n",
      "dataset = marriagePivot.apply(compute_datasetRow, axis=1)"
     ],
     "language": "python",
     "metadata": {},
     "outputs": [],
     "prompt_number": 12
    },
    {
     "cell_type": "code",
     "collapsed": false,
     "input": [
      "dataset.AlcoholImported.idxmax()"
     ],
     "language": "python",
     "metadata": {},
     "outputs": [
      {
       "metadata": {},
       "output_type": "pyout",
       "prompt_number": 13,
       "text": [
        "'France'"
       ]
      }
     ],
     "prompt_number": 13
    },
    {
     "cell_type": "code",
     "collapsed": false,
     "input": [
      "dataset.AlcoholImported.order(ascending=False)[:5]"
     ],
     "language": "python",
     "metadata": {},
     "outputs": [
      {
       "metadata": {},
       "output_type": "pyout",
       "prompt_number": 14,
       "text": [
        "Country\n",
        "France     25514864642\n",
        "Japan      21084325457\n",
        "Canada     14764141046\n",
        "Italy      14398700399\n",
        "Belgium     8847361151\n",
        "Name: AlcoholImported, dtype: float64"
       ]
      }
     ],
     "prompt_number": 14
    },
    {
     "cell_type": "code",
     "collapsed": false,
     "input": [
      "%pylab inline"
     ],
     "language": "python",
     "metadata": {},
     "outputs": [
      {
       "output_type": "stream",
       "stream": "stdout",
       "text": [
        "Populating the interactive namespace from numpy and matplotlib\n"
       ]
      },
      {
       "output_type": "stream",
       "stream": "stderr",
       "text": [
        "WARNING: pylab import has clobbered these variables: ['table']\n",
        "`%pylab --no-import-all` prevents importing * from pylab and numpy\n"
       ]
      }
     ],
     "prompt_number": 18
    },
    {
     "cell_type": "code",
     "collapsed": false,
     "input": [
      "loglog(dataset.AlcoholImported,dataset.ChocolateImported,'o',alpha=0.4)\n",
      "ylabel('ChocolateImported')\n",
      "xlabel('AlcoholImported')\n",
      "loglog(dataset.AlcoholImported,dataset.ChocolateExported,'ro',alpha=0.4)"
     ],
     "language": "python",
     "metadata": {},
     "outputs": [
      {
       "metadata": {},
       "output_type": "pyout",
       "prompt_number": 26,
       "text": [
        "[<matplotlib.lines.Line2D at 0xd820c30>]"
       ]
      },
      {
       "metadata": {},
       "output_type": "display_data",
       "png": "[encoded data removed]",
       "text": [
        "<matplotlib.figure.Figure at 0xda9eeb0>"
       ]
      }
     ],
     "prompt_number": 26
    },
    {
     "cell_type": "code",
     "collapsed": false,
     "input": [
      "import numpy as np\n",
      "from pandas import DataFrame\n",
      "from sklearn.svm import SVR\n",
      "from sklearn.pipeline import Pipeline\n",
      "from sklearn.preprocessing import StandardScaler\n",
      "from sklearn.linear_model import LinearRegression\n",
      "from sklearn.cross_validation import cross_val_score\n",
      "\n",
      "featureColumns = [_ for _ in dataset.columns if not _.startswith('Marriage')]\n",
      "\n",
      "def score_model(model, targetColumn):\n",
      "    pruned = dataset[featureColumns + [targetColumn]].dropna()\n",
      "    return np.mean(cross_val_score(model, pruned[featureColumns], pruned[targetColumn]))\n",
      "\n",
      "def score_models(models):\n",
      "    modelNames = [model.__class__.__name__ for model in models]\n",
      "    results = []\n",
      "    for model in models:\n",
      "        results.append([\n",
      "            score_model(model, 'MarriageAgeFemale'),\n",
      "            score_model(model, 'MarriageAgeMale'),\n",
      "        ])\n",
      "    return DataFrame(results, index=modelNames, columns=['Female', 'Male'])"
     ],
     "language": "python",
     "metadata": {},
     "outputs": [],
     "prompt_number": 15
    },
    {
     "cell_type": "code",
     "collapsed": false,
     "input": [
      "score_models([\n",
      "    LinearRegression(),\n",
      "    SVR(),\n",
      "    Pipeline([\n",
      "        ('StandardScaler', StandardScaler()),\n",
      "        ('Model', SVR()),\n",
      "    ]),\n",
      "])"
     ],
     "language": "python",
     "metadata": {},
     "outputs": [
      {
       "html": [
        "<div style=\"max-height:1000px;max-width:1500px;overflow:auto;\">\n",
        "<table border=\"1\" class=\"dataframe\">\n",
        "  <thead>\n",
        "    <tr style=\"text-align: right;\">\n",
        "      <th></th>\n",
        "      <th>Female</th>\n",
        "      <th>Male</th>\n",
        "    </tr>\n",
        "  </thead>\n",
        "  <tbody>\n",
        "    <tr>\n",
        "      <th>LinearRegression</th>\n",
        "      <td> 0.030819</td>\n",
        "      <td>-0.065668</td>\n",
        "    </tr>\n",
        "    <tr>\n",
        "      <th>SVR</th>\n",
        "      <td>-0.057382</td>\n",
        "      <td>-0.052938</td>\n",
        "    </tr>\n",
        "    <tr>\n",
        "      <th>Pipeline</th>\n",
        "      <td> 0.052203</td>\n",
        "      <td> 0.002590</td>\n",
        "    </tr>\n",
        "  </tbody>\n",
        "</table>\n",
        "</div>"
       ],
       "metadata": {},
       "output_type": "pyout",
       "prompt_number": 16,
       "text": [
        "                    Female      Male\n",
        "LinearRegression  0.030819 -0.065668\n",
        "SVR              -0.057382 -0.052938\n",
        "Pipeline          0.052203  0.002590"
       ]
      }
     ],
     "prompt_number": 16
    },
    {
     "cell_type": "code",
     "collapsed": false,
     "input": [
      "from sklearn.feature_selection import RFECV\n",
      "                    \n",
      "def rank_features(model, targetColumn):\n",
      "    pruned = dataset[featureColumns + [targetColumn]].dropna()\n",
      "    featureSelector = RFECV(model)\n",
      "    featureSelector.fit(pruned[featureColumns], pruned[targetColumn])\n",
      "    return sorted(zip(featureSelector.ranking_, featureColumns))"
     ],
     "language": "python",
     "metadata": {},
     "outputs": [],
     "prompt_number": 23
    },
    {
     "cell_type": "code",
     "collapsed": false,
     "input": [
      "rank_features(LinearRegression(), 'MarriageAgeFemale')"
     ],
     "language": "python",
     "metadata": {},
     "outputs": [
      {
       "metadata": {},
       "output_type": "pyout",
       "prompt_number": 24,
       "text": [
        "[(1, 'ChocolateImported'),\n",
        " (2, 'ChocolateExported'),\n",
        " (3, 'AlcoholImported'),\n",
        " (4, 'AlcoholExported')]"
       ]
      }
     ],
     "prompt_number": 24
    },
    {
     "cell_type": "code",
     "collapsed": false,
     "input": [
      "rank_features(LinearRegression(), 'MarriageAgeMale')"
     ],
     "language": "python",
     "metadata": {},
     "outputs": [
      {
       "metadata": {},
       "output_type": "pyout",
       "prompt_number": 25,
       "text": [
        "[(1, 'AlcoholImported'),\n",
        " (1, 'ChocolateExported'),\n",
        " (2, 'AlcoholExported'),\n",
        " (3, 'ChocolateImported')]"
       ]
      }
     ],
     "prompt_number": 25
    },
    {
     "cell_type": "code",
     "collapsed": false,
     "input": [],
     "language": "python",
     "metadata": {},
     "outputs": []
    }
   ],
   "metadata": {}
  }
 ]
}