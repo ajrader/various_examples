{
 "metadata": {
  "name": "regression_with_factor_vars"
 },
 "nbformat": 3,
 "nbformat_minor": 0,
 "worksheets": [
  {
   "cells": [
    {
     "cell_type": "heading",
     "level": 2,
     "metadata": {},
     "source": [
      "Regression with factor variables"
     ]
    },
    {
     "cell_type": "markdown",
     "metadata": {},
     "source": [
      "Key ideas:\n",
      "\n",
      "* Outcome is still quantitative\n",
      "* Covariate(s) are factor variables (`Categorical` in pandas)\n",
      "* Fitting lines = fitting means\n",
      "* Want to evaluate contribution of all factor levels at once"
     ]
    },
    {
     "cell_type": "code",
     "collapsed": false,
     "input": [
      "# Example: movie ratings\n",
      "\n",
      "import pandas as pd\n",
      "\n",
      "movies = pd.read_csv('http://www.rossmanchance.com/iscam2/data/movies03RT.txt', sep='\\t', \n",
      "                      names=['X', 'score', 'rating', 'genre', 'box_office', 'running_time'], skiprows=1)"
     ],
     "language": "python",
     "metadata": {},
     "outputs": [],
     "prompt_number": 1
    },
    {
     "cell_type": "code",
     "collapsed": false,
     "input": [
      "movies.head()"
     ],
     "language": "python",
     "metadata": {},
     "outputs": [
      {
       "html": [
        "<div style=\"max-height:1000px;max-width:1500px;overflow:auto;\">\n",
        "<table border=\"1\" class=\"dataframe\">\n",
        "  <thead>\n",
        "    <tr style=\"text-align: right;\">\n",
        "      <th></th>\n",
        "      <th>X</th>\n",
        "      <th>score</th>\n",
        "      <th>rating</th>\n",
        "      <th>genre</th>\n",
        "      <th>box_office</th>\n",
        "      <th>running_time</th>\n",
        "    </tr>\n",
        "  </thead>\n",
        "  <tbody>\n",
        "    <tr>\n",
        "      <th>0</th>\n",
        "      <td> 2 Fast 2 Furious</td>\n",
        "      <td> 48.9</td>\n",
        "      <td> PG-13</td>\n",
        "      <td> action/adventure</td>\n",
        "      <td> 127.146</td>\n",
        "      <td> 107</td>\n",
        "    </tr>\n",
        "    <tr>\n",
        "      <th>1</th>\n",
        "      <td>    28 Days Later</td>\n",
        "      <td> 78.2</td>\n",
        "      <td>     R</td>\n",
        "      <td>           horror</td>\n",
        "      <td>  45.065</td>\n",
        "      <td> 113</td>\n",
        "    </tr>\n",
        "    <tr>\n",
        "      <th>2</th>\n",
        "      <td>      A Guy Thing</td>\n",
        "      <td> 39.5</td>\n",
        "      <td> PG-13</td>\n",
        "      <td>       rom comedy</td>\n",
        "      <td>  15.545</td>\n",
        "      <td> 101</td>\n",
        "    </tr>\n",
        "    <tr>\n",
        "      <th>3</th>\n",
        "      <td>      A Man Apart</td>\n",
        "      <td> 42.9</td>\n",
        "      <td>     R</td>\n",
        "      <td> action/adventure</td>\n",
        "      <td>  26.248</td>\n",
        "      <td> 110</td>\n",
        "    </tr>\n",
        "    <tr>\n",
        "      <th>4</th>\n",
        "      <td>    A Mighty Wind</td>\n",
        "      <td> 79.9</td>\n",
        "      <td> PG-13</td>\n",
        "      <td>           comedy</td>\n",
        "      <td>  17.781</td>\n",
        "      <td>  91</td>\n",
        "    </tr>\n",
        "  </tbody>\n",
        "</table>\n",
        "</div>"
       ],
       "output_type": "pyout",
       "prompt_number": 2,
       "text": [
        "                  X  score rating             genre  box_office  running_time\n",
        "0  2 Fast 2 Furious   48.9  PG-13  action/adventure     127.146           107\n",
        "1     28 Days Later   78.2      R            horror      45.065           113\n",
        "2       A Guy Thing   39.5  PG-13        rom comedy      15.545           101\n",
        "3       A Man Apart   42.9      R  action/adventure      26.248           110\n",
        "4     A Mighty Wind   79.9  PG-13            comedy      17.781            91"
       ]
      }
     ],
     "prompt_number": 2
    },
    {
     "cell_type": "code",
     "collapsed": false,
     "input": [
      "def jitter(series, factor):\n",
      "    z = float(series.max()) - float(series.min())\n",
      "    a = float(factor) * z / 50.\n",
      "    return map(lambda x: x + np.random.uniform(-a, a), series)"
     ],
     "language": "python",
     "metadata": {},
     "outputs": [],
     "prompt_number": 3
    },
    {
     "cell_type": "markdown",
     "metadata": {},
     "source": [
      "Rotten tomatoes score vs rating (average scores per rating are marked with red squares):"
     ]
    },
    {
     "cell_type": "code",
     "collapsed": false,
     "input": [
      "r = pd.Categorical.from_array(movies['rating'])\n",
      "\n",
      "plot(jitter(r.labels, 2.), movies['score'], 'ob')\n",
      "xticks(np.unique(r.labels), r.levels)\n",
      "xlabel('rating')\n",
      "ylabel('score')\n",
      "\n",
      "meanRatings = movies.groupby('rating')['score'].mean()\n",
      "\n",
      "plot(range(4), meanRatings, 'sr', markersize=10);"
     ],
     "language": "python",
     "metadata": {},
     "outputs": [
      {
       "output_type": "display_data",
       "png": "[encoded data removed]"
      }
     ],
     "prompt_number": 4
    },
    {
     "cell_type": "markdown",
     "metadata": {},
     "source": [
      "This is written:\n",
      "\n",
      "$$S_i = b_0 + b_1 1(Ra_i = \"PG\") + b_2 1(Ra_i = \"PG - 13\") + b_3 1(Ra_i = \"R\") + e_i$$\n",
      "\n",
      "$1(Ra_i = \"PG\")$ is a logical value that is one if the movie rating is \"PG\" and zero otherwise.\n",
      "\n",
      "<b>Average values</b>\n",
      "\n",
      "$b_0$ = average of G movies\n",
      "\n",
      "$b_0 + b_1$ = average of PG movies\n",
      "\n",
      "$b_0 + b_2$ = average of PG-13 movies\n",
      "\n",
      "$b_0 + b_3$ = average of R movies"
     ]
    },
    {
     "cell_type": "markdown",
     "metadata": {},
     "source": [
      "To do regression with factor variables in Python we use `statsmodels`:"
     ]
    },
    {
     "cell_type": "code",
     "collapsed": false,
     "input": [
      "from statsmodels.formula.api import ols\n",
      "\n",
      "lm1 = ols('score ~ rating', movies).fit()\n",
      "\n",
      "lm1.summary()"
     ],
     "language": "python",
     "metadata": {},
     "outputs": [
      {
       "html": [
        "<table class=\"simpletable\">\n",
        "<caption>OLS Regression Results</caption>\n",
        "<tr>\n",
        "  <th>Dep. Variable:</th>          <td>score</td>      <th>  R-squared:         </th> <td>   0.020</td>\n",
        "</tr>\n",
        "<tr>\n",
        "  <th>Model:</th>                   <td>OLS</td>       <th>  Adj. R-squared:    </th> <td>  -0.002</td>\n",
        "</tr>\n",
        "<tr>\n",
        "  <th>Method:</th>             <td>Least Squares</td>  <th>  F-statistic:       </th> <td>  0.9182</td>\n",
        "</tr>\n",
        "<tr>\n",
        "  <th>Date:</th>             <td>Sat, 06 Apr 2013</td> <th>  Prob (F-statistic):</th>  <td> 0.434</td> \n",
        "</tr>\n",
        "<tr>\n",
        "  <th>Time:</th>                 <td>17:57:22</td>     <th>  Log-Likelihood:    </th> <td> -569.90</td>\n",
        "</tr>\n",
        "<tr>\n",
        "  <th>No. Observations:</th>      <td>   140</td>      <th>  AIC:               </th> <td>   1148.</td>\n",
        "</tr>\n",
        "<tr>\n",
        "  <th>Df Residuals:</th>          <td>   136</td>      <th>  BIC:               </th> <td>   1160.</td>\n",
        "</tr>\n",
        "<tr>\n",
        "  <th>Df Model:</th>              <td>     3</td>      <th>                     </th>     <td> </td>   \n",
        "</tr>\n",
        "</table>\n",
        "<table class=\"simpletable\">\n",
        "<tr>\n",
        "         <td></td>            <th>coef</th>     <th>std err</th>      <th>t</th>      <th>P>|t|</th> <th>[95.0% Conf. Int.]</th> \n",
        "</tr>\n",
        "<tr>\n",
        "  <th>Intercept</th>       <td>   67.6500</td> <td>    7.193</td> <td>    9.405</td> <td> 0.000</td> <td>   53.425    81.875</td>\n",
        "</tr>\n",
        "<tr>\n",
        "  <th>rating[T.PG]</th>    <td>  -12.5929</td> <td>    7.849</td> <td>   -1.604</td> <td> 0.111</td> <td>  -28.114     2.928</td>\n",
        "</tr>\n",
        "<tr>\n",
        "  <th>rating[T.PG-13]</th> <td>  -11.8146</td> <td>    7.411</td> <td>   -1.594</td> <td> 0.113</td> <td>  -26.471     2.842</td>\n",
        "</tr>\n",
        "<tr>\n",
        "  <th>rating[T.R]</th>     <td>  -12.0200</td> <td>    7.476</td> <td>   -1.608</td> <td> 0.110</td> <td>  -26.803     2.763</td>\n",
        "</tr>\n",
        "</table>\n",
        "<table class=\"simpletable\">\n",
        "<tr>\n",
        "  <th>Omnibus:</th>       <td> 3.313</td> <th>  Durbin-Watson:     </th> <td>   2.100</td>\n",
        "</tr>\n",
        "<tr>\n",
        "  <th>Prob(Omnibus):</th> <td> 0.191</td> <th>  Jarque-Bera (JB):  </th> <td>   3.327</td>\n",
        "</tr>\n",
        "<tr>\n",
        "  <th>Skew:</th>          <td> 0.367</td> <th>  Prob(JB):          </th> <td>   0.189</td>\n",
        "</tr>\n",
        "<tr>\n",
        "  <th>Kurtosis:</th>      <td> 2.821</td> <th>  Cond. No.          </th> <td>    14.0</td>\n",
        "</tr>\n",
        "</table>"
       ],
       "output_type": "pyout",
       "prompt_number": 5,
       "text": [
        "<class 'statsmodels.iolib.summary.Summary'>\n",
        "\"\"\"\n",
        "                            OLS Regression Results                            \n",
        "==============================================================================\n",
        "Dep. Variable:                  score   R-squared:                       0.020\n",
        "Model:                            OLS   Adj. R-squared:                 -0.002\n",
        "Method:                 Least Squares   F-statistic:                    0.9182\n",
        "Date:                Sat, 06 Apr 2013   Prob (F-statistic):              0.434\n",
        "Time:                        17:57:22   Log-Likelihood:                -569.90\n",
        "No. Observations:                 140   AIC:                             1148.\n",
        "Df Residuals:                     136   BIC:                             1160.\n",
        "Df Model:                           3                                         \n",
        "===================================================================================\n",
        "                      coef    std err          t      P>|t|      [95.0% Conf. Int.]\n",
        "-----------------------------------------------------------------------------------\n",
        "Intercept          67.6500      7.193      9.405      0.000        53.425    81.875\n",
        "rating[T.PG]      -12.5929      7.849     -1.604      0.111       -28.114     2.928\n",
        "rating[T.PG-13]   -11.8146      7.411     -1.594      0.113       -26.471     2.842\n",
        "rating[T.R]       -12.0200      7.476     -1.608      0.110       -26.803     2.763\n",
        "==============================================================================\n",
        "Omnibus:                        3.313   Durbin-Watson:                   2.100\n",
        "Prob(Omnibus):                  0.191   Jarque-Bera (JB):                3.327\n",
        "Skew:                           0.367   Prob(JB):                        0.189\n",
        "Kurtosis:                       2.821   Cond. No.                         14.0\n",
        "==============================================================================\n",
        "\"\"\""
       ]
      }
     ],
     "prompt_number": 5
    },
    {
     "cell_type": "markdown",
     "metadata": {},
     "source": [
      "If we plot the fitted values:"
     ]
    },
    {
     "cell_type": "code",
     "collapsed": false,
     "input": [
      "plot(jitter(r.labels, 2.), movies['score'], 'ob')\n",
      "xticks(np.unique(r.labels), r.levels)\n",
      "xlabel('rating')\n",
      "ylabel('score')\n",
      "\n",
      "plot(range(4), lm1.params[0] + np.append(0, lm1.params[1:]), 'sr', markersize=10);"
     ],
     "language": "python",
     "metadata": {},
     "outputs": [
      {
       "output_type": "display_data",
       "png": "[encoded data removed]"
      }
     ],
     "prompt_number": 9
    },
    {
     "cell_type": "markdown",
     "metadata": {},
     "source": [
      "<b>Question 1:</b> What is the difference in average rating between G and R movies?\n",
      "\n",
      "Answer: $b_0 + b_3 - b_0 = b3$"
     ]
    },
    {
     "cell_type": "code",
     "collapsed": false,
     "input": [
      "lm1.summary()"
     ],
     "language": "python",
     "metadata": {},
     "outputs": [
      {
       "html": [
        "<table class=\"simpletable\">\n",
        "<caption>OLS Regression Results</caption>\n",
        "<tr>\n",
        "  <th>Dep. Variable:</th>          <td>score</td>      <th>  R-squared:         </th> <td>   0.020</td>\n",
        "</tr>\n",
        "<tr>\n",
        "  <th>Model:</th>                   <td>OLS</td>       <th>  Adj. R-squared:    </th> <td>  -0.002</td>\n",
        "</tr>\n",
        "<tr>\n",
        "  <th>Method:</th>             <td>Least Squares</td>  <th>  F-statistic:       </th> <td>  0.9182</td>\n",
        "</tr>\n",
        "<tr>\n",
        "  <th>Date:</th>             <td>Sat, 06 Apr 2013</td> <th>  Prob (F-statistic):</th>  <td> 0.434</td> \n",
        "</tr>\n",
        "<tr>\n",
        "  <th>Time:</th>                 <td>18:06:24</td>     <th>  Log-Likelihood:    </th> <td> -569.90</td>\n",
        "</tr>\n",
        "<tr>\n",
        "  <th>No. Observations:</th>      <td>   140</td>      <th>  AIC:               </th> <td>   1148.</td>\n",
        "</tr>\n",
        "<tr>\n",
        "  <th>Df Residuals:</th>          <td>   136</td>      <th>  BIC:               </th> <td>   1160.</td>\n",
        "</tr>\n",
        "<tr>\n",
        "  <th>Df Model:</th>              <td>     3</td>      <th>                     </th>     <td> </td>   \n",
        "</tr>\n",
        "</table>\n",
        "<table class=\"simpletable\">\n",
        "<tr>\n",
        "         <td></td>            <th>coef</th>     <th>std err</th>      <th>t</th>      <th>P>|t|</th> <th>[95.0% Conf. Int.]</th> \n",
        "</tr>\n",
        "<tr>\n",
        "  <th>Intercept</th>       <td>   67.6500</td> <td>    7.193</td> <td>    9.405</td> <td> 0.000</td> <td>   53.425    81.875</td>\n",
        "</tr>\n",
        "<tr>\n",
        "  <th>rating[T.PG]</th>    <td>  -12.5929</td> <td>    7.849</td> <td>   -1.604</td> <td> 0.111</td> <td>  -28.114     2.928</td>\n",
        "</tr>\n",
        "<tr>\n",
        "  <th>rating[T.PG-13]</th> <td>  -11.8146</td> <td>    7.411</td> <td>   -1.594</td> <td> 0.113</td> <td>  -26.471     2.842</td>\n",
        "</tr>\n",
        "<tr>\n",
        "  <th>rating[T.R]</th>     <td>  -12.0200</td> <td>    7.476</td> <td>   -1.608</td> <td> 0.110</td> <td>  -26.803     2.763</td>\n",
        "</tr>\n",
        "</table>\n",
        "<table class=\"simpletable\">\n",
        "<tr>\n",
        "  <th>Omnibus:</th>       <td> 3.313</td> <th>  Durbin-Watson:     </th> <td>   2.100</td>\n",
        "</tr>\n",
        "<tr>\n",
        "  <th>Prob(Omnibus):</th> <td> 0.191</td> <th>  Jarque-Bera (JB):  </th> <td>   3.327</td>\n",
        "</tr>\n",
        "<tr>\n",
        "  <th>Skew:</th>          <td> 0.367</td> <th>  Prob(JB):          </th> <td>   0.189</td>\n",
        "</tr>\n",
        "<tr>\n",
        "  <th>Kurtosis:</th>      <td> 2.821</td> <th>  Cond. No.          </th> <td>    14.0</td>\n",
        "</tr>\n",
        "</table>"
       ],
       "output_type": "pyout",
       "prompt_number": 10,
       "text": [
        "<class 'statsmodels.iolib.summary.Summary'>\n",
        "\"\"\"\n",
        "                            OLS Regression Results                            \n",
        "==============================================================================\n",
        "Dep. Variable:                  score   R-squared:                       0.020\n",
        "Model:                            OLS   Adj. R-squared:                 -0.002\n",
        "Method:                 Least Squares   F-statistic:                    0.9182\n",
        "Date:                Sat, 06 Apr 2013   Prob (F-statistic):              0.434\n",
        "Time:                        18:06:24   Log-Likelihood:                -569.90\n",
        "No. Observations:                 140   AIC:                             1148.\n",
        "Df Residuals:                     136   BIC:                             1160.\n",
        "Df Model:                           3                                         \n",
        "===================================================================================\n",
        "                      coef    std err          t      P>|t|      [95.0% Conf. Int.]\n",
        "-----------------------------------------------------------------------------------\n",
        "Intercept          67.6500      7.193      9.405      0.000        53.425    81.875\n",
        "rating[T.PG]      -12.5929      7.849     -1.604      0.111       -28.114     2.928\n",
        "rating[T.PG-13]   -11.8146      7.411     -1.594      0.113       -26.471     2.842\n",
        "rating[T.R]       -12.0200      7.476     -1.608      0.110       -26.803     2.763\n",
        "==============================================================================\n",
        "Omnibus:                        3.313   Durbin-Watson:                   2.100\n",
        "Prob(Omnibus):                  0.191   Jarque-Bera (JB):                3.327\n",
        "Skew:                           0.367   Prob(JB):                        0.189\n",
        "Kurtosis:                       2.821   Cond. No.                         14.0\n",
        "==============================================================================\n",
        "\"\"\""
       ]
      }
     ],
     "prompt_number": 10
    },
    {
     "cell_type": "code",
     "collapsed": false,
     "input": [
      "lm1.conf_int()"
     ],
     "language": "python",
     "metadata": {},
     "outputs": [
      {
       "html": [
        "<div style=\"max-height:1000px;max-width:1500px;overflow:auto;\">\n",
        "<table border=\"1\" class=\"dataframe\">\n",
        "  <thead>\n",
        "    <tr style=\"text-align: right;\">\n",
        "      <th></th>\n",
        "      <th>0</th>\n",
        "      <th>1</th>\n",
        "    </tr>\n",
        "  </thead>\n",
        "  <tbody>\n",
        "    <tr>\n",
        "      <th>Intercept</th>\n",
        "      <td> 53.424778</td>\n",
        "      <td> 81.875222</td>\n",
        "    </tr>\n",
        "    <tr>\n",
        "      <th>rating[T.PG]</th>\n",
        "      <td>-28.113847</td>\n",
        "      <td>  2.928133</td>\n",
        "    </tr>\n",
        "    <tr>\n",
        "      <th>rating[T.PG-13]</th>\n",
        "      <td>-26.471002</td>\n",
        "      <td>  2.841772</td>\n",
        "    </tr>\n",
        "    <tr>\n",
        "      <th>rating[T.R]</th>\n",
        "      <td>-26.803285</td>\n",
        "      <td>  2.763285</td>\n",
        "    </tr>\n",
        "  </tbody>\n",
        "</table>\n",
        "</div>"
       ],
       "output_type": "pyout",
       "prompt_number": 11,
       "text": [
        "                         0          1\n",
        "Intercept        53.424778  81.875222\n",
        "rating[T.PG]    -28.113847   2.928133\n",
        "rating[T.PG-13] -26.471002   2.841772\n",
        "rating[T.R]     -26.803285   2.763285"
       ]
      }
     ],
     "prompt_number": 11
    },
    {
     "cell_type": "markdown",
     "metadata": {},
     "source": [
      "<b>Question 2:</b> What is the difference in average rating between PG-13 and R movies?\n",
      "\n",
      "Answer: $b_0 + b_2 - (b_0 + b_3) = b_2 - b_3$"
     ]
    },
    {
     "cell_type": "markdown",
     "metadata": {},
     "source": [
      "We could rewrite our model\n",
      "\n",
      "$$S_i = b_0 + b_1 1(Ra_i = \"G\") + b_2 1(Ra_i = \"PG\") + b_3 1(Ra_i = \"PG - 13\") + e_i$$\n",
      "\n",
      "<b>Average values</b>\n",
      "\n",
      "$b_0$ = average of R movies\n",
      "\n",
      "$b_0 + b_1$ = average of G movies\n",
      "\n",
      "$b_0 + b_2$ = average of PG movies\n",
      "\n",
      "$b_0 + b_3$ = average of PG-13 movies\n",
      "\n",
      "<b>What is the difference in average rating between PG-13 and R movies?</b>\n",
      "\n",
      "$b_0 + b_3 - b_0 = b3$"
     ]
    },
    {
     "cell_type": "code",
     "collapsed": false,
     "input": [
      "from patsy.contrasts import Treatment\n",
      "\n",
      "lm2 = ols('score ~ C(rating, Treatment(reference=\"R\"))', movies).fit()\n",
      "lm2.summary()"
     ],
     "language": "python",
     "metadata": {},
     "outputs": [
      {
       "html": [
        "<table class=\"simpletable\">\n",
        "<caption>OLS Regression Results</caption>\n",
        "<tr>\n",
        "  <th>Dep. Variable:</th>          <td>score</td>      <th>  R-squared:         </th> <td>   0.020</td>\n",
        "</tr>\n",
        "<tr>\n",
        "  <th>Model:</th>                   <td>OLS</td>       <th>  Adj. R-squared:    </th> <td>  -0.002</td>\n",
        "</tr>\n",
        "<tr>\n",
        "  <th>Method:</th>             <td>Least Squares</td>  <th>  F-statistic:       </th> <td>  0.9182</td>\n",
        "</tr>\n",
        "<tr>\n",
        "  <th>Date:</th>             <td>Sat, 06 Apr 2013</td> <th>  Prob (F-statistic):</th>  <td> 0.434</td> \n",
        "</tr>\n",
        "<tr>\n",
        "  <th>Time:</th>                 <td>19:23:37</td>     <th>  Log-Likelihood:    </th> <td> -569.90</td>\n",
        "</tr>\n",
        "<tr>\n",
        "  <th>No. Observations:</th>      <td>   140</td>      <th>  AIC:               </th> <td>   1148.</td>\n",
        "</tr>\n",
        "<tr>\n",
        "  <th>Df Residuals:</th>          <td>   136</td>      <th>  BIC:               </th> <td>   1160.</td>\n",
        "</tr>\n",
        "<tr>\n",
        "  <th>Df Model:</th>              <td>     3</td>      <th>                     </th>     <td> </td>   \n",
        "</tr>\n",
        "</table>\n",
        "<table class=\"simpletable\">\n",
        "<tr>\n",
        "                        <td></td>                          <th>coef</th>     <th>std err</th>      <th>t</th>      <th>P>|t|</th> <th>[95.0% Conf. Int.]</th> \n",
        "</tr>\n",
        "<tr>\n",
        "  <th>Intercept</th>                                    <td>   55.6300</td> <td>    2.035</td> <td>   27.342</td> <td> 0.000</td> <td>   51.606    59.654</td>\n",
        "</tr>\n",
        "<tr>\n",
        "  <th>C(rating, Treatment(reference=\"R\"))[T.G]</th>     <td>   12.0200</td> <td>    7.476</td> <td>    1.608</td> <td> 0.110</td> <td>   -2.763    26.803</td>\n",
        "</tr>\n",
        "<tr>\n",
        "  <th>C(rating, Treatment(reference=\"R\"))[T.PG]</th>    <td>   -0.5729</td> <td>    3.741</td> <td>   -0.153</td> <td> 0.879</td> <td>   -7.971     6.825</td>\n",
        "</tr>\n",
        "<tr>\n",
        "  <th>C(rating, Treatment(reference=\"R\"))[T.PG-13]</th> <td>    0.2054</td> <td>    2.706</td> <td>    0.076</td> <td> 0.940</td> <td>   -5.146     5.557</td>\n",
        "</tr>\n",
        "</table>\n",
        "<table class=\"simpletable\">\n",
        "<tr>\n",
        "  <th>Omnibus:</th>       <td> 3.313</td> <th>  Durbin-Watson:     </th> <td>   2.100</td>\n",
        "</tr>\n",
        "<tr>\n",
        "  <th>Prob(Omnibus):</th> <td> 0.191</td> <th>  Jarque-Bera (JB):  </th> <td>   3.327</td>\n",
        "</tr>\n",
        "<tr>\n",
        "  <th>Skew:</th>          <td> 0.367</td> <th>  Prob(JB):          </th> <td>   0.189</td>\n",
        "</tr>\n",
        "<tr>\n",
        "  <th>Kurtosis:</th>      <td> 2.821</td> <th>  Cond. No.          </th> <td>    7.05</td>\n",
        "</tr>\n",
        "</table>"
       ],
       "output_type": "pyout",
       "prompt_number": 18,
       "text": [
        "<class 'statsmodels.iolib.summary.Summary'>\n",
        "\"\"\"\n",
        "                            OLS Regression Results                            \n",
        "==============================================================================\n",
        "Dep. Variable:                  score   R-squared:                       0.020\n",
        "Model:                            OLS   Adj. R-squared:                 -0.002\n",
        "Method:                 Least Squares   F-statistic:                    0.9182\n",
        "Date:                Sat, 06 Apr 2013   Prob (F-statistic):              0.434\n",
        "Time:                        19:23:37   Log-Likelihood:                -569.90\n",
        "No. Observations:                 140   AIC:                             1148.\n",
        "Df Residuals:                     136   BIC:                             1160.\n",
        "Df Model:                           3                                         \n",
        "================================================================================================================\n",
        "                                                   coef    std err          t      P>|t|      [95.0% Conf. Int.]\n",
        "----------------------------------------------------------------------------------------------------------------\n",
        "Intercept                                       55.6300      2.035     27.342      0.000        51.606    59.654\n",
        "C(rating, Treatment(reference=\"R\"))[T.G]        12.0200      7.476      1.608      0.110        -2.763    26.803\n",
        "C(rating, Treatment(reference=\"R\"))[T.PG]       -0.5729      3.741     -0.153      0.879        -7.971     6.825\n",
        "C(rating, Treatment(reference=\"R\"))[T.PG-13]     0.2054      2.706      0.076      0.940        -5.146     5.557\n",
        "==============================================================================\n",
        "Omnibus:                        3.313   Durbin-Watson:                   2.100\n",
        "Prob(Omnibus):                  0.191   Jarque-Bera (JB):                3.327\n",
        "Skew:                           0.367   Prob(JB):                        0.189\n",
        "Kurtosis:                       2.821   Cond. No.                         7.05\n",
        "==============================================================================\n",
        "\"\"\""
       ]
      }
     ],
     "prompt_number": 18
    },
    {
     "cell_type": "code",
     "collapsed": false,
     "input": [
      "lm2.conf_int()"
     ],
     "language": "python",
     "metadata": {},
     "outputs": [
      {
       "html": [
        "<div style=\"max-height:1000px;max-width:1500px;overflow:auto;\">\n",
        "<table border=\"1\" class=\"dataframe\">\n",
        "  <thead>\n",
        "    <tr style=\"text-align: right;\">\n",
        "      <th></th>\n",
        "      <th>0</th>\n",
        "      <th>1</th>\n",
        "    </tr>\n",
        "  </thead>\n",
        "  <tbody>\n",
        "    <tr>\n",
        "      <th>Intercept</th>\n",
        "      <td> 51.606500</td>\n",
        "      <td> 59.653500</td>\n",
        "    </tr>\n",
        "    <tr>\n",
        "      <th>C(rating, Treatment(reference=\"R\"))[T.G]</th>\n",
        "      <td> -2.763285</td>\n",
        "      <td> 26.803285</td>\n",
        "    </tr>\n",
        "    <tr>\n",
        "      <th>C(rating, Treatment(reference=\"R\"))[T.PG]</th>\n",
        "      <td> -7.971015</td>\n",
        "      <td>  6.825300</td>\n",
        "    </tr>\n",
        "    <tr>\n",
        "      <th>C(rating, Treatment(reference=\"R\"))[T.PG-13]</th>\n",
        "      <td> -5.146371</td>\n",
        "      <td>  5.557140</td>\n",
        "    </tr>\n",
        "  </tbody>\n",
        "</table>\n",
        "</div>"
       ],
       "output_type": "pyout",
       "prompt_number": 20,
       "text": [
        "                                                      0          1\n",
        "Intercept                                     51.606500  59.653500\n",
        "C(rating, Treatment(reference=\"R\"))[T.G]      -2.763285  26.803285\n",
        "C(rating, Treatment(reference=\"R\"))[T.PG]     -7.971015   6.825300\n",
        "C(rating, Treatment(reference=\"R\"))[T.PG-13]  -5.146371   5.557140"
       ]
      }
     ],
     "prompt_number": 20
    },
    {
     "cell_type": "markdown",
     "metadata": {},
     "source": [
      "For the model:\n",
      "\n",
      "$$S_i = b_0 + b_1 1(Ra_i = \"PG\") + b_2 1(Ra_i = \"PG - 13\") + b_3 1(Ra_i = \"R\") + e_i$$\n",
      "\n",
      "<b>Question 3:</b> Is there any difference in score between any of the movie ratings?\n",
      "\n",
      "To answer this we'll use ANOVA:"
     ]
    },
    {
     "cell_type": "code",
     "collapsed": false,
     "input": [
      "from statsmodels.stats.anova import anova_lm\n",
      "\n",
      "anova_lm(lm1)"
     ],
     "language": "python",
     "metadata": {},
     "outputs": [
      {
       "html": [
        "<div style=\"max-height:1000px;max-width:1500px;overflow:auto;\">\n",
        "<table border=\"1\" class=\"dataframe\">\n",
        "  <thead>\n",
        "    <tr style=\"text-align: right;\">\n",
        "      <th></th>\n",
        "      <th>df</th>\n",
        "      <th>sum_sq</th>\n",
        "      <th>mean_sq</th>\n",
        "      <th>F</th>\n",
        "      <th>PR(&gt;F)</th>\n",
        "    </tr>\n",
        "  </thead>\n",
        "  <tbody>\n",
        "    <tr>\n",
        "      <th>rating</th>\n",
        "      <td>   3</td>\n",
        "      <td>   570.123813</td>\n",
        "      <td> 190.041271</td>\n",
        "      <td> 0.918184</td>\n",
        "      <td> 0.433975</td>\n",
        "    </tr>\n",
        "    <tr>\n",
        "      <th>Residual</th>\n",
        "      <td> 136</td>\n",
        "      <td> 28148.635044</td>\n",
        "      <td> 206.975258</td>\n",
        "      <td>      NaN</td>\n",
        "      <td>      NaN</td>\n",
        "    </tr>\n",
        "  </tbody>\n",
        "</table>\n",
        "</div>"
       ],
       "output_type": "pyout",
       "prompt_number": 21,
       "text": [
        "           df        sum_sq     mean_sq         F    PR(>F)\n",
        "rating      3    570.123813  190.041271  0.918184  0.433975\n",
        "Residual  136  28148.635044  206.975258       NaN       NaN"
       ]
      }
     ],
     "prompt_number": 21
    },
    {
     "cell_type": "markdown",
     "metadata": {},
     "source": [
      "Our p-value is the probability $PR(>F)$. As before, in hypothesis-testing parlance, we'll take our null hypothesis, $H_0$, to be that there is no difference in score between any of the movie ratings, and the alternate hypothesis, $H_a$, to be the opposite. Here our p-value is greater than some threshold, e.g. 0.05, thus we can't reject the null hypothesis (i.e. we do not have significant evidence against the null hypothesis at the significance level of 0.05)."
     ]
    },
    {
     "cell_type": "markdown",
     "metadata": {},
     "source": [
      "Another way is to use Tukey's HSD test:"
     ]
    },
    {
     "cell_type": "code",
     "collapsed": false,
     "input": [
      "from statsmodels.stats.multicomp import tukeyhsd\n",
      "import statsmodels.sandbox.stats.multicomp as multi\n",
      "\n",
      "mc = multi.MultiComparison(movies['score'], r.labels)\n",
      "res = mc.tukeyhsd() \n",
      "\n",
      "print res[0]\n",
      "print zip(list(r.levels), range(4))"
     ],
     "language": "python",
     "metadata": {},
     "outputs": [
      {
       "output_type": "stream",
       "stream": "stdout",
       "text": [
        "Multiple Comparison of Means - Tukey HSD, FWER=0.05\n",
        "==============================================\n",
        "group1 group2 meandiff  lower    upper  reject\n",
        "----------------------------------------------\n",
        "  0      1    -12.5929 -33.0089  7.8232 False \n",
        "  0      2    -11.8146 -31.0934  7.4642 False \n",
        "  0      3     -12.02  -31.4657  7.4257 False \n",
        "  1      2     0.7782  -8.6152  10.1717 False \n",
        "  1      3     0.5729  -9.1586  10.3043 False \n",
        "  2      3    -0.2054   -7.245   6.8342 False \n",
        "----------------------------------------------\n",
        "[('G', 0), ('PG', 1), ('PG-13', 2), ('R', 3)]\n"
       ]
      }
     ],
     "prompt_number": 22
    },
    {
     "cell_type": "code",
     "collapsed": false,
     "input": [],
     "language": "python",
     "metadata": {},
     "outputs": []
    }
   ],
   "metadata": {}
  }
 ]
}