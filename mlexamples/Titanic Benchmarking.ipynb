{
 "metadata": {
  "name": "",
  "signature": "sha256:66f703714fa86957c924354d9431e16894bea2173162c20eb125b3e1edf6f4c0"
 },
 "nbformat": 3,
 "nbformat_minor": 0,
 "worksheets": [
  {
   "cells": [
    {
     "cell_type": "markdown",
     "metadata": {},
     "source": [
      "# Revisting the Titanic Dataset\n",
      "Going to import the data from the Kaggle site: 'C:\\Users\\kesj\\data\\kaggle\\titanic\\' and join it with the \n",
      "passenger listing from Wikipedia. To create a 'gold standard' for model comparison and evalutation."
     ]
    },
    {
     "cell_type": "code",
     "collapsed": false,
     "input": [
      "# import useful libraries\n",
      "import pandas as pd\n",
      "import statsmodels.api as sm\n",
      "from patsy import dmatrices\n",
      "import os"
     ],
     "language": "python",
     "metadata": {},
     "outputs": [],
     "prompt_number": 1
    },
    {
     "cell_type": "code",
     "collapsed": false,
     "input": [
      "pwd"
     ],
     "language": "python",
     "metadata": {},
     "outputs": [
      {
       "metadata": {},
       "output_type": "pyout",
       "prompt_number": 2,
       "text": [
        "u'C:\\\\Users\\\\kesj\\\\Documents\\\\IPython Notebooks\\\\GeneralDataAnalysis\\\\ipythonNotebooks'"
       ]
      }
     ],
     "prompt_number": 2
    },
    {
     "cell_type": "code",
     "collapsed": false,
     "input": [
      "os.chdir('../../../../data/kaggle/titanic/')"
     ],
     "language": "python",
     "metadata": {},
     "outputs": [],
     "prompt_number": 3
    },
    {
     "cell_type": "code",
     "collapsed": false,
     "input": [
      "%pylab inline"
     ],
     "language": "python",
     "metadata": {},
     "outputs": [
      {
       "output_type": "stream",
       "stream": "stdout",
       "text": [
        "Populating the interactive namespace from numpy and matplotlib\n"
       ]
      }
     ],
     "prompt_number": 17
    },
    {
     "cell_type": "markdown",
     "metadata": {},
     "source": [
      "### Titanic.csv file taken from: \n",
      "http://www.columbia.edu/~cjd11/charles_dimaggio/DIRE/resources/R/titanic.csv"
     ]
    },
    {
     "cell_type": "code",
     "collapsed": false,
     "input": [
      "\n",
      "testfile = 'test.csv'\n",
      "trainfile = 'train.csv'\n",
      "wikifile = 'wikipedia/titanic.csv'#passengerList.csv'\n"
     ],
     "language": "python",
     "metadata": {},
     "outputs": []
    },
    {
     "cell_type": "code",
     "collapsed": false,
     "input": [
      "testdf = pd.read_csv(testfile)\n",
      "print \"There are {0} passengers in the testfile\".format(len(testdf))\n",
      "traindf = pd.read_csv(trainfile)\n",
      "print \"There are {0} passengers in the train file\".format(len(traindf))\n",
      "wikidf = pd.read_csv(wikifile)\n",
      "print \"There are {0} passengers in the Wikipedia passenger List file\".format(len(wikidf))"
     ],
     "language": "python",
     "metadata": {},
     "outputs": []
    },
    {
     "cell_type": "code",
     "collapsed": false,
     "input": [
      "len(traindf)+len(testdf)"
     ],
     "language": "python",
     "metadata": {},
     "outputs": []
    },
    {
     "cell_type": "code",
     "collapsed": false,
     "input": [
      "testdf.head()"
     ],
     "language": "python",
     "metadata": {},
     "outputs": []
    },
    {
     "cell_type": "code",
     "collapsed": false,
     "input": [
      "traindf.head()"
     ],
     "language": "python",
     "metadata": {},
     "outputs": []
    },
    {
     "cell_type": "code",
     "collapsed": false,
     "input": [
      "testdf['Survived']= 2\n",
      "testdf.head()"
     ],
     "language": "python",
     "metadata": {},
     "outputs": []
    },
    {
     "cell_type": "code",
     "collapsed": false,
     "input": [
      "kaggledf = pd.concat([traindf,testdf],axis =0)\n"
     ],
     "language": "python",
     "metadata": {},
     "outputs": []
    },
    {
     "cell_type": "code",
     "collapsed": false,
     "input": [
      "kaggledf['testset'] = map(int,kaggledf['Survived']/2)\n",
      "kaggledf['testset'].sum()"
     ],
     "language": "python",
     "metadata": {},
     "outputs": []
    },
    {
     "cell_type": "code",
     "collapsed": false,
     "input": [
      "#len(kaggledf.index.unique())\n",
      "kaggledf.iloc[-418:]"
     ],
     "language": "python",
     "metadata": {},
     "outputs": []
    },
    {
     "cell_type": "code",
     "collapsed": false,
     "input": [
      "# just go through the test set and replace 'Survived' value with the value from the source truth value:\n",
      "yetTofix =[]\n",
      "jdf = kaggledf.copy()\n",
      "for idx in xrange(-418,0):\n",
      "    #print idx\n",
      "    nameC = (kaggledf.iloc[idx].Name)[:31]\n",
      "#for name in kaggledf[kaggledf['testset']==1].Name:\n",
      "#    nameC = name[:31]\n",
      "    \n",
      "    \n",
      "    sval = wikidf[wikidf.name==nameC].survived.values\n",
      "    if len(sval) == 1:\n",
      "        jdf.iloc[idx,10]=sval\n",
      "    else:\n",
      "        print len(sval),nameC,sval,idx\n",
      "        yetTofix.append([nameC,idx])\n",
      "    "
     ],
     "language": "python",
     "metadata": {},
     "outputs": []
    },
    {
     "cell_type": "code",
     "collapsed": false,
     "input": [
      "mm = [a[:31] for a in wikidf.name if a.startswith('Khalil')]#, yetTofix\n",
      "yetTofix[14][0]==mm[1]"
     ],
     "language": "python",
     "metadata": {},
     "outputs": []
    },
    {
     "cell_type": "code",
     "collapsed": false,
     "input": [
      "for a in yetTofix:\n",
      "    ncheck = a[0]\n",
      "    lname=ncheck.split(',')\n",
      "    currentSval = kaggledf.iloc[a[1],10]\n",
      "    #print lname[0], a[1]\n",
      "    tdf = wikidf[wikidf.name.str.contains(ncheck[:15])]#[['name','survived']]\n",
      "    if len(tdf) == 1: #case where there is just one match\n",
      "        \n",
      "        sval = tdf['survived'].values\n",
      "        print \"one match for \", lname[0],a[1],currentSval,sval\n",
      "        jdf.iloc[a[1],10]=sval[0] # asign new value from 'truth'\n",
      "        #print tdf[['name','survived']]\n",
      "        #svals = tdf['survived'].values\n",
      "        #if sum(svals)== 0: # case where both are zero\n",
      "        #    kaggledf.iloc[a[1],10]=0\n",
      "        \n",
      "    else:\n",
      "        print \"{0} matches for\".format(len(tdf))\n",
      "        print lname[0],a[1],currentSval\n",
      "        svals = tdf['survived'].values\n",
      "        if len(tdf) == 2:\n",
      "            if sum(svals)== 0: # case where both are zero\n",
      "                jdf.iloc[a[1],10]=0\n",
      "            elif sum(svals) ==2: #case wehre both are 1\n",
      "                jdf.iloc[a[1],10]=1\n",
      "            else:\n",
      "                ageJ = jdf.iloc[a[1],0]\n",
      "                for b in xrange(0,len(tdf)):\n",
      "                    \n",
      "                    if ageJ == tdf.iloc[b]['age']:\n",
      "                        jdf.iloc[a[1],10] = tdf.iloc[b]['survived']\n",
      "    #print kaggledf.iloc[a[1],10]\n",
      "    #print a"
     ],
     "language": "python",
     "metadata": {},
     "outputs": []
    },
    {
     "cell_type": "code",
     "collapsed": false,
     "input": [
      "jdf.Survived.value_counts(), wikidf.survived.value_counts()"
     ],
     "language": "python",
     "metadata": {},
     "outputs": []
    },
    {
     "cell_type": "markdown",
     "metadata": {},
     "source": [
      "# Okay Cleaned up the dataset\n",
      "There are 500 who survived and 809 who perished"
     ]
    },
    {
     "cell_type": "code",
     "collapsed": false,
     "input": [
      "# copy back over to the kaggledf\n",
      "kaggledf = jdf.copy()"
     ],
     "language": "python",
     "metadata": {},
     "outputs": []
    },
    {
     "cell_type": "code",
     "collapsed": false,
     "input": [
      "kaggledf.columns"
     ],
     "language": "python",
     "metadata": {},
     "outputs": []
    },
    {
     "cell_type": "code",
     "collapsed": false,
     "input": [
      "saveFile = False\n",
      "if saveFile == True:\n",
      "    kaggledf.to_csv('titanicGS0.csv')#gold standard"
     ],
     "language": "python",
     "metadata": {},
     "outputs": []
    },
    {
     "cell_type": "code",
     "collapsed": false,
     "input": [
      "kaggledf = pd.read_csv('titanicGS0.csv') # start from here from now on."
     ],
     "language": "python",
     "metadata": {},
     "outputs": [],
     "prompt_number": 167
    },
    {
     "cell_type": "markdown",
     "metadata": {},
     "source": [
      "## Now work on cleaning up the values in these"
     ]
    },
    {
     "cell_type": "code",
     "collapsed": false,
     "input": [
      "for c in kaggledf.columns:\n",
      "    print \"for column {0} there are {1} missing values\".format(c,sum(kaggledf[c].isnull()))"
     ],
     "language": "python",
     "metadata": {},
     "outputs": [
      {
       "output_type": "stream",
       "stream": "stdout",
       "text": [
        "for column Unnamed: 0 there are 0 missing values\n",
        "for column Age there are 263 missing values\n",
        "for column Cabin there are 1014 missing values\n",
        "for column Embarked there are 2 missing values\n",
        "for column Fare there are 1 missing values\n",
        "for column Name there are 0 missing values\n",
        "for column Parch there are 0 missing values\n",
        "for column PassengerId there are 0 missing values\n",
        "for column Pclass there are 0 missing values\n",
        "for column Sex there are 0 missing values\n",
        "for column SibSp there are 0 missing values\n",
        "for column Survived there are 0 missing values\n",
        "for column Ticket there are 0 missing values\n",
        "for column testset there are 0 missing values\n"
       ]
      }
     ],
     "prompt_number": 111
    },
    {
     "cell_type": "code",
     "collapsed": false,
     "input": [
      "# rename the 'Unnamed' column:\n",
      "kaggledf=kaggledf.rename(columns = {'Unnamed: 0':'oldIndex'})"
     ],
     "language": "python",
     "metadata": {},
     "outputs": [],
     "prompt_number": 187
    },
    {
     "cell_type": "markdown",
     "metadata": {},
     "source": [
      "### summarize the type of data contained and a plan to deal with the missing values:\n",
      "* Age --> numeric; need a plan. \n",
      "    * Step 1 is to create another columns missingAge = 1,0 if missing\n",
      "    * step 2 is to begin by replacing with median\n",
      "    * setp 3 is to investigate more complex ways to replace the misssing values\n",
      "* Cabin --> drop this column; too many missing\n",
      "* Embarked --> 2 missing values: note these and replace randomly based upon distribution?\n",
      "    * categorical C (914),S(270),Q(123)\n",
      "    * These two people: Amelie Icard and Mrs. George Nelson Stone were noted by Wikipedia as boarding in Southhampton; assign as 'S'\n",
      "    * dummy this out\n",
      "* Fare --> only one missing; distribution skewed & depends upon the Pclass\n",
      "    * replace with median of Pclass for this missing case. Note the case\n",
      "* Name --> future work to split and parse for more info regarding 'Age'\n",
      "* Parch --> number of parents/children aboard (numeric)\n",
      "* PassengerId --> integer of id number\n",
      "* Pclass --> Categorical: 1, 2 or 3.\n",
      "    * dummy this out\n",
      "* Sex --> boolean female or male\n",
      "    * replace as 0=female, 1=male\n",
      "* SibSp --> number of siblings/spouses aboard (numeric)\n",
      "* Survived --> boolean of survived == 1 or not == 0\n",
      "* Ticket --> string corresponding to ticket #\n",
      "* testset --> boolean: 1 if part of original test-set (Kaggle) or 0 if not"
     ]
    },
    {
     "cell_type": "code",
     "collapsed": false,
     "input": [
      "kaggledf[kaggledf.Embarked.isnull()]"
     ],
     "language": "python",
     "metadata": {},
     "outputs": [
      {
       "html": [
        "<div style=\"max-height:1000px;max-width:1500px;overflow:auto;\">\n",
        "<table border=\"1\" class=\"dataframe\">\n",
        "  <thead>\n",
        "    <tr style=\"text-align: right;\">\n",
        "      <th></th>\n",
        "      <th>Unnamed: 0</th>\n",
        "      <th>Age</th>\n",
        "      <th>Cabin</th>\n",
        "      <th>Embarked</th>\n",
        "      <th>Fare</th>\n",
        "      <th>Name</th>\n",
        "      <th>Parch</th>\n",
        "      <th>PassengerId</th>\n",
        "      <th>Pclass</th>\n",
        "      <th>Sex</th>\n",
        "      <th>SibSp</th>\n",
        "      <th>Survived</th>\n",
        "      <th>Ticket</th>\n",
        "      <th>testset</th>\n",
        "    </tr>\n",
        "  </thead>\n",
        "  <tbody>\n",
        "    <tr>\n",
        "      <th>61 </th>\n",
        "      <td>  61</td>\n",
        "      <td> 38</td>\n",
        "      <td> B28</td>\n",
        "      <td> NaN</td>\n",
        "      <td> 80</td>\n",
        "      <td>                       Icard, Miss. Amelie</td>\n",
        "      <td> 0</td>\n",
        "      <td>  62</td>\n",
        "      <td> 1</td>\n",
        "      <td> female</td>\n",
        "      <td> 0</td>\n",
        "      <td> 1</td>\n",
        "      <td> 113572</td>\n",
        "      <td> 0</td>\n",
        "    </tr>\n",
        "    <tr>\n",
        "      <th>829</th>\n",
        "      <td> 829</td>\n",
        "      <td> 62</td>\n",
        "      <td> B28</td>\n",
        "      <td> NaN</td>\n",
        "      <td> 80</td>\n",
        "      <td> Stone, Mrs. George Nelson (Martha Evelyn)</td>\n",
        "      <td> 0</td>\n",
        "      <td> 830</td>\n",
        "      <td> 1</td>\n",
        "      <td> female</td>\n",
        "      <td> 0</td>\n",
        "      <td> 1</td>\n",
        "      <td> 113572</td>\n",
        "      <td> 0</td>\n",
        "    </tr>\n",
        "  </tbody>\n",
        "</table>\n",
        "</div>"
       ],
       "metadata": {},
       "output_type": "pyout",
       "prompt_number": 168,
       "text": [
        "     Unnamed: 0  Age Cabin Embarked  Fare  \\\n",
        "61           61   38   B28      NaN    80   \n",
        "829         829   62   B28      NaN    80   \n",
        "\n",
        "                                          Name  Parch  PassengerId  Pclass  \\\n",
        "61                         Icard, Miss. Amelie      0           62       1   \n",
        "829  Stone, Mrs. George Nelson (Martha Evelyn)      0          830       1   \n",
        "\n",
        "        Sex  SibSp  Survived  Ticket  testset  \n",
        "61   female      0         1  113572        0  \n",
        "829  female      0         1  113572        0  "
       ]
      }
     ],
     "prompt_number": 168
    },
    {
     "cell_type": "code",
     "collapsed": false,
     "input": [
      "# assign 'S' to these values based upon Wikipedia information: http://en.wikipedia.org/wiki/Passengers_of_the_RMS_Titanic\n",
      "idx = [61,829]\n",
      "kaggledf.iloc[idx,2]= 'S'\n",
      "kaggledf.iloc[idx,:]"
     ],
     "language": "python",
     "metadata": {},
     "outputs": [
      {
       "html": [
        "<div style=\"max-height:1000px;max-width:1500px;overflow:auto;\">\n",
        "<table border=\"1\" class=\"dataframe\">\n",
        "  <thead>\n",
        "    <tr style=\"text-align: right;\">\n",
        "      <th></th>\n",
        "      <th>Unnamed: 0</th>\n",
        "      <th>Age</th>\n",
        "      <th>Cabin</th>\n",
        "      <th>Embarked</th>\n",
        "      <th>Fare</th>\n",
        "      <th>Name</th>\n",
        "      <th>Parch</th>\n",
        "      <th>PassengerId</th>\n",
        "      <th>Pclass</th>\n",
        "      <th>Sex</th>\n",
        "      <th>SibSp</th>\n",
        "      <th>Survived</th>\n",
        "      <th>Ticket</th>\n",
        "      <th>testset</th>\n",
        "    </tr>\n",
        "  </thead>\n",
        "  <tbody>\n",
        "    <tr>\n",
        "      <th>61 </th>\n",
        "      <td>  61</td>\n",
        "      <td> 38</td>\n",
        "      <td> S</td>\n",
        "      <td> NaN</td>\n",
        "      <td> 80</td>\n",
        "      <td>                       Icard, Miss. Amelie</td>\n",
        "      <td> 0</td>\n",
        "      <td>  62</td>\n",
        "      <td> 1</td>\n",
        "      <td> female</td>\n",
        "      <td> 0</td>\n",
        "      <td> 1</td>\n",
        "      <td> 113572</td>\n",
        "      <td> 0</td>\n",
        "    </tr>\n",
        "    <tr>\n",
        "      <th>829</th>\n",
        "      <td> 829</td>\n",
        "      <td> 62</td>\n",
        "      <td> S</td>\n",
        "      <td> NaN</td>\n",
        "      <td> 80</td>\n",
        "      <td> Stone, Mrs. George Nelson (Martha Evelyn)</td>\n",
        "      <td> 0</td>\n",
        "      <td> 830</td>\n",
        "      <td> 1</td>\n",
        "      <td> female</td>\n",
        "      <td> 0</td>\n",
        "      <td> 1</td>\n",
        "      <td> 113572</td>\n",
        "      <td> 0</td>\n",
        "    </tr>\n",
        "  </tbody>\n",
        "</table>\n",
        "</div>"
       ],
       "metadata": {},
       "output_type": "pyout",
       "prompt_number": 169,
       "text": [
        "     Unnamed: 0  Age Cabin Embarked  Fare  \\\n",
        "61           61   38     S      NaN    80   \n",
        "829         829   62     S      NaN    80   \n",
        "\n",
        "                                          Name  Parch  PassengerId  Pclass  \\\n",
        "61                         Icard, Miss. Amelie      0           62       1   \n",
        "829  Stone, Mrs. George Nelson (Martha Evelyn)      0          830       1   \n",
        "\n",
        "        Sex  SibSp  Survived  Ticket  testset  \n",
        "61   female      0         1  113572        0  \n",
        "829  female      0         1  113572        0  "
       ]
      }
     ],
     "prompt_number": 169
    },
    {
     "cell_type": "code",
     "collapsed": false,
     "input": [
      "# create boolean with Sex\n",
      "kaggledf.replace({'Sex':{'male':1,'female':0}},inplace=True)"
     ],
     "language": "python",
     "metadata": {},
     "outputs": [],
     "prompt_number": 170
    },
    {
     "cell_type": "code",
     "collapsed": false,
     "input": [
      "# find missing values for Embarked and Fare\n",
      "kaggledf[kaggledf.Fare.isnull()]"
     ],
     "language": "python",
     "metadata": {},
     "outputs": [
      {
       "html": [
        "<div style=\"max-height:1000px;max-width:1500px;overflow:auto;\">\n",
        "<table border=\"1\" class=\"dataframe\">\n",
        "  <thead>\n",
        "    <tr style=\"text-align: right;\">\n",
        "      <th></th>\n",
        "      <th>Unnamed: 0</th>\n",
        "      <th>Age</th>\n",
        "      <th>Cabin</th>\n",
        "      <th>Embarked</th>\n",
        "      <th>Fare</th>\n",
        "      <th>Name</th>\n",
        "      <th>Parch</th>\n",
        "      <th>PassengerId</th>\n",
        "      <th>Pclass</th>\n",
        "      <th>Sex</th>\n",
        "      <th>SibSp</th>\n",
        "      <th>Survived</th>\n",
        "      <th>Ticket</th>\n",
        "      <th>testset</th>\n",
        "    </tr>\n",
        "  </thead>\n",
        "  <tbody>\n",
        "    <tr>\n",
        "      <th>1043</th>\n",
        "      <td> 152</td>\n",
        "      <td> 60.5</td>\n",
        "      <td> NaN</td>\n",
        "      <td> S</td>\n",
        "      <td>NaN</td>\n",
        "      <td> Storey, Mr. Thomas</td>\n",
        "      <td> 0</td>\n",
        "      <td> 1044</td>\n",
        "      <td> 3</td>\n",
        "      <td> 1</td>\n",
        "      <td> 0</td>\n",
        "      <td> 0</td>\n",
        "      <td> 3701</td>\n",
        "      <td> 1</td>\n",
        "    </tr>\n",
        "  </tbody>\n",
        "</table>\n",
        "</div>"
       ],
       "metadata": {},
       "output_type": "pyout",
       "prompt_number": 171,
       "text": [
        "      Unnamed: 0   Age Cabin Embarked  Fare                Name  Parch  \\\n",
        "1043         152  60.5   NaN        S   NaN  Storey, Mr. Thomas      0   \n",
        "\n",
        "      PassengerId  Pclass  Sex  SibSp  Survived Ticket  testset  \n",
        "1043         1044       3    1      0         0   3701        1  "
       ]
      }
     ],
     "prompt_number": 171
    },
    {
     "cell_type": "code",
     "collapsed": false,
     "input": [
      "kaggledf['Fare'].hist(color='steelblue',bins=30)"
     ],
     "language": "python",
     "metadata": {},
     "outputs": [
      {
       "metadata": {},
       "output_type": "pyout",
       "prompt_number": 116,
       "text": [
        "<matplotlib.axes._subplots.AxesSubplot at 0x19e121d0>"
       ]
      },
      {
       "metadata": {},
       "output_type": "display_data",
       "png": "[encoded data removed]",
       "text": [
        "<matplotlib.figure.Figure at 0x19e12e10>"
       ]
      }
     ],
     "prompt_number": 116
    },
    {
     "cell_type": "code",
     "collapsed": false,
     "input": [
      "kaggledf.groupby('Pclass')['Fare'].hist(normed=True,bins=30,range=[0,500],alpha=.3)#.hist(color='steelblue',bins=30)\n"
     ],
     "language": "python",
     "metadata": {},
     "outputs": [
      {
       "metadata": {},
       "output_type": "pyout",
       "prompt_number": 117,
       "text": [
        "Pclass\n",
        "1         Axes(0.125,0.125;0.775x0.775)\n",
        "2         Axes(0.125,0.125;0.775x0.775)\n",
        "3         Axes(0.125,0.125;0.775x0.775)\n",
        "Name: Fare, dtype: object"
       ]
      },
      {
       "metadata": {},
       "output_type": "display_data",
       "png": "[encoded data removed]",
       "text": [
        "<matplotlib.figure.Figure at 0x19df6be0>"
       ]
      }
     ],
     "prompt_number": 117
    },
    {
     "cell_type": "code",
     "collapsed": false,
     "input": [
      "thirdClass = kaggledf[kaggledf['Pclass']==3]\n",
      "print thirdClass['Fare'].describe()\n",
      "thirdClass['Fare'].hist(color='indianred',bins=30)\n",
      "axvline(x=thirdClass['Fare'].median(),color='k')"
     ],
     "language": "python",
     "metadata": {},
     "outputs": [
      {
       "output_type": "stream",
       "stream": "stdout",
       "text": [
        "count    708.000000\n",
        "mean      13.302889\n",
        "std       11.494358\n",
        "min        0.000000\n",
        "25%        7.750000\n",
        "50%        8.050000\n",
        "75%       15.245800\n",
        "max       69.550000\n",
        "dtype: float64\n"
       ]
      },
      {
       "metadata": {},
       "output_type": "pyout",
       "prompt_number": 118,
       "text": [
        "<matplotlib.lines.Line2D at 0x19c64f28>"
       ]
      },
      {
       "metadata": {},
       "output_type": "display_data",
       "png": "[encoded data removed]",
       "text": [
        "<matplotlib.figure.Figure at 0x19dcd278>"
       ]
      }
     ],
     "prompt_number": 118
    },
    {
     "cell_type": "code",
     "collapsed": false,
     "input": [
      "# assign missing Fare as median value of 3rd class passengers\n",
      "fareMedian = thirdClass.Fare.median()\n",
      "print fareMedian\n",
      "kaggledf['Fare'].fillna(fareMedian, inplace=True)\n",
      "sum(kaggledf['Fare'].isnull())\n",
      "#kaggledf.iloc[152,2]= fareMedian\n",
      "#kaggledf.iloc[152,:]"
     ],
     "language": "python",
     "metadata": {},
     "outputs": [
      {
       "output_type": "stream",
       "stream": "stdout",
       "text": [
        "8.05\n"
       ]
      },
      {
       "metadata": {},
       "output_type": "pyout",
       "prompt_number": 172,
       "text": [
        "0"
       ]
      }
     ],
     "prompt_number": 172
    },
    {
     "cell_type": "code",
     "collapsed": false,
     "input": [
      "kaggledf.SibSp.value_counts()"
     ],
     "language": "python",
     "metadata": {},
     "outputs": [
      {
       "metadata": {},
       "output_type": "pyout",
       "prompt_number": 119,
       "text": [
        "0    891\n",
        "1    319\n",
        "2     42\n",
        "4     22\n",
        "3     20\n",
        "8      9\n",
        "5      6\n",
        "dtype: int64"
       ]
      }
     ],
     "prompt_number": 119
    },
    {
     "cell_type": "code",
     "collapsed": false,
     "input": [
      "kaggledf.Parch.value_counts()"
     ],
     "language": "python",
     "metadata": {},
     "outputs": [
      {
       "metadata": {},
       "output_type": "pyout",
       "prompt_number": 120,
       "text": [
        "0    1002\n",
        "1     170\n",
        "2     113\n",
        "3       8\n",
        "5       6\n",
        "4       6\n",
        "9       2\n",
        "6       2\n",
        "dtype: int64"
       ]
      }
     ],
     "prompt_number": 120
    },
    {
     "cell_type": "code",
     "collapsed": false,
     "input": [
      "print \"there are {0} unique ticket ids for {1} passengers.\".format(len(kaggledf.Ticket.unique()),len(kaggledf))"
     ],
     "language": "python",
     "metadata": {},
     "outputs": [
      {
       "output_type": "stream",
       "stream": "stdout",
       "text": [
        "there are 929 unique ticket ids for 1309 passengers.\n"
       ]
      }
     ],
     "prompt_number": 60
    },
    {
     "cell_type": "code",
     "collapsed": false,
     "input": [
      "# create dummy variable for missing 'Age'; conditionally fill based upon absence or presence of 'Age' variable\n",
      "#df['Normalized'] = np.where(df['Currency'] == '$', df['Budget'] * 0.78125, df['Budget'])\n",
      "missingAge = kaggledf[kaggledf['Age'].isnull()].index\n",
      "kaggledf['missingAge']= 0\n",
      "kaggledf['missingAge'].loc[missingAge]=1\n",
      "print sum(kaggledf['missingAge'])\n",
      "#kaggledf.loc[missingAge] = "
     ],
     "language": "python",
     "metadata": {},
     "outputs": [
      {
       "output_type": "stream",
       "stream": "stdout",
       "text": [
        "263\n"
       ]
      }
     ],
     "prompt_number": 173
    },
    {
     "cell_type": "heading",
     "level": 1,
     "metadata": {},
     "source": [
      "Look at the data graphically:"
     ]
    },
    {
     "cell_type": "code",
     "collapsed": false,
     "input": [
      "fig = figure(figsize(18,6),dpi=1600) \n",
      "a = 0.2\n",
      "a_bar= 0.55\n",
      "subplot2grid((2,3),(0,0))\n",
      "kaggledf.Survived.value_counts().plot(kind='bar',alpha=a_bar)\n",
      "title(\"Distribution of Survival, (1=Survived)\")\n",
      "\n",
      "subplot2grid((2,3),(0,1))\n",
      "scatter(kaggledf.Survived, kaggledf.Age, alpha=a)\n",
      "ylabel(\"Age\")                         # sets the y axis lable\n",
      "grid(b=True, which='major', axis='y') # formats the grid line style of our graphs\n",
      "title(\"Survial by Age,  (1 = Survived)\")\n",
      "\n",
      "subplot2grid((2,3),(0,2))\n",
      "kaggledf.Pclass.value_counts().plot(kind=\"barh\", alpha=a_bar)\n",
      "title(\"Class Distribution\")\n",
      "\n",
      "subplot2grid((2,3),(1,0), colspan=2)\n",
      "missingAge = kaggledf.Age.isnull()\n",
      "kaggledf[~missingAge].Age[kaggledf.Pclass == 1].plot(kind='kde')\n",
      "kaggledf[~missingAge].Age[kaggledf.Pclass == 2].plot(kind='kde')\n",
      "kaggledf[~missingAge].Age[kaggledf.Pclass == 3].plot(kind='kde')\n",
      "#df.Age[df.Pclass == 1].plot(kind='kde')   # plots a kernel desnsity estimate of the subset of the 1st class passanges's age\n",
      "#df.Age[df.Pclass == 2].plot(kind='kde')\n",
      "#df.Age[df.Pclass == 3].plot(kind='kde')\n",
      "xlabel(\"Age\")                         # plots an axis lable\n",
      "title(\"Age Distribution within classes\"); legend(('1st Class', '2nd Class','3rd Class'),loc='best') # sets our legend for our graph.\n",
      "\n",
      "subplot2grid((2,3),(1,2))\n",
      "kaggledf.Embarked.value_counts().plot(kind='bar', alpha=a_bar)\n",
      "title(\"Passengers per boarding location\");\n"
     ],
     "language": "python",
     "metadata": {},
     "outputs": [
      {
       "metadata": {},
       "output_type": "display_data",
       "png": "[encoded data removed]",
       "text": [
        "<matplotlib.figure.Figure at 0x1a206b70>"
       ]
      }
     ],
     "prompt_number": 174
    },
    {
     "cell_type": "code",
     "collapsed": false,
     "input": [
      "#Attempt 1\n",
      "# Replace missing ages with median of the classes?\n",
      "medAgesByPclass = kaggledf[~missingAge].groupby('Pclass')['Age'].median().to_dict()\n",
      "medAgesByPclass"
     ],
     "language": "python",
     "metadata": {},
     "outputs": [
      {
       "metadata": {},
       "output_type": "pyout",
       "prompt_number": 175,
       "text": [
        "{1: 39.0, 2: 29.0, 3: 24.0}"
       ]
      }
     ],
     "prompt_number": 175
    },
    {
     "cell_type": "code",
     "collapsed": true,
     "input": [
      "kaggledf.loc[(kaggledf[\"Pclass\"] ==1) & (kaggledf[\"Age\"].isnull()), :]\n"
     ],
     "language": "python",
     "metadata": {},
     "outputs": [
      {
       "html": [
        "<div style=\"max-height:1000px;max-width:1500px;overflow:auto;\">\n",
        "<table border=\"1\" class=\"dataframe\">\n",
        "  <thead>\n",
        "    <tr style=\"text-align: right;\">\n",
        "      <th></th>\n",
        "      <th>oldIndex</th>\n",
        "      <th>Age</th>\n",
        "      <th>Cabin</th>\n",
        "      <th>Embarked</th>\n",
        "      <th>Fare</th>\n",
        "      <th>Name</th>\n",
        "      <th>Parch</th>\n",
        "      <th>PassengerId</th>\n",
        "      <th>Pclass</th>\n",
        "      <th>Sex</th>\n",
        "      <th>SibSp</th>\n",
        "      <th>Survived</th>\n",
        "      <th>Ticket</th>\n",
        "      <th>testset</th>\n",
        "      <th>missingAge</th>\n",
        "    </tr>\n",
        "  </thead>\n",
        "  <tbody>\n",
        "    <tr>\n",
        "      <th>31  </th>\n",
        "      <td>  31</td>\n",
        "      <td>NaN</td>\n",
        "      <td>  B78</td>\n",
        "      <td> C</td>\n",
        "      <td> 146.5208</td>\n",
        "      <td>    Spencer, Mrs. William Augustus (Marie Eugenie)</td>\n",
        "      <td> 0</td>\n",
        "      <td>   32</td>\n",
        "      <td> 1</td>\n",
        "      <td> 0</td>\n",
        "      <td> 1</td>\n",
        "      <td> 1</td>\n",
        "      <td>   PC 17569</td>\n",
        "      <td> 0</td>\n",
        "      <td> 1</td>\n",
        "    </tr>\n",
        "    <tr>\n",
        "      <th>55  </th>\n",
        "      <td>  55</td>\n",
        "      <td>NaN</td>\n",
        "      <td>  C52</td>\n",
        "      <td> S</td>\n",
        "      <td>  35.5000</td>\n",
        "      <td>                                 Woolner, Mr. Hugh</td>\n",
        "      <td> 0</td>\n",
        "      <td>   56</td>\n",
        "      <td> 1</td>\n",
        "      <td> 1</td>\n",
        "      <td> 0</td>\n",
        "      <td> 1</td>\n",
        "      <td>      19947</td>\n",
        "      <td> 0</td>\n",
        "      <td> 1</td>\n",
        "    </tr>\n",
        "    <tr>\n",
        "      <th>64  </th>\n",
        "      <td>  64</td>\n",
        "      <td>NaN</td>\n",
        "      <td>  NaN</td>\n",
        "      <td> C</td>\n",
        "      <td>  27.7208</td>\n",
        "      <td>                             Stewart, Mr. Albert A</td>\n",
        "      <td> 0</td>\n",
        "      <td>   65</td>\n",
        "      <td> 1</td>\n",
        "      <td> 1</td>\n",
        "      <td> 0</td>\n",
        "      <td> 0</td>\n",
        "      <td>   PC 17605</td>\n",
        "      <td> 0</td>\n",
        "      <td> 1</td>\n",
        "    </tr>\n",
        "    <tr>\n",
        "      <th>166 </th>\n",
        "      <td> 166</td>\n",
        "      <td>NaN</td>\n",
        "      <td>  E33</td>\n",
        "      <td> S</td>\n",
        "      <td>  55.0000</td>\n",
        "      <td>            Chibnall, Mrs. (Edith Martha Bowerman)</td>\n",
        "      <td> 1</td>\n",
        "      <td>  167</td>\n",
        "      <td> 1</td>\n",
        "      <td> 0</td>\n",
        "      <td> 0</td>\n",
        "      <td> 1</td>\n",
        "      <td>     113505</td>\n",
        "      <td> 0</td>\n",
        "      <td> 1</td>\n",
        "    </tr>\n",
        "    <tr>\n",
        "      <th>168 </th>\n",
        "      <td> 168</td>\n",
        "      <td>NaN</td>\n",
        "      <td>  NaN</td>\n",
        "      <td> S</td>\n",
        "      <td>  25.9250</td>\n",
        "      <td>                               Baumann, Mr. John D</td>\n",
        "      <td> 0</td>\n",
        "      <td>  169</td>\n",
        "      <td> 1</td>\n",
        "      <td> 1</td>\n",
        "      <td> 0</td>\n",
        "      <td> 0</td>\n",
        "      <td>   PC 17318</td>\n",
        "      <td> 0</td>\n",
        "      <td> 1</td>\n",
        "    </tr>\n",
        "    <tr>\n",
        "      <th>185 </th>\n",
        "      <td> 185</td>\n",
        "      <td>NaN</td>\n",
        "      <td>  A32</td>\n",
        "      <td> S</td>\n",
        "      <td>  50.0000</td>\n",
        "      <td>                             Rood, Mr. Hugh Roscoe</td>\n",
        "      <td> 0</td>\n",
        "      <td>  186</td>\n",
        "      <td> 1</td>\n",
        "      <td> 1</td>\n",
        "      <td> 0</td>\n",
        "      <td> 0</td>\n",
        "      <td>     113767</td>\n",
        "      <td> 0</td>\n",
        "      <td> 1</td>\n",
        "    </tr>\n",
        "    <tr>\n",
        "      <th>256 </th>\n",
        "      <td> 256</td>\n",
        "      <td>NaN</td>\n",
        "      <td>  NaN</td>\n",
        "      <td> C</td>\n",
        "      <td>  79.2000</td>\n",
        "      <td>                    Thorne, Mrs. Gertrude Maybelle</td>\n",
        "      <td> 0</td>\n",
        "      <td>  257</td>\n",
        "      <td> 1</td>\n",
        "      <td> 0</td>\n",
        "      <td> 0</td>\n",
        "      <td> 1</td>\n",
        "      <td>   PC 17585</td>\n",
        "      <td> 0</td>\n",
        "      <td> 1</td>\n",
        "    </tr>\n",
        "    <tr>\n",
        "      <th>270 </th>\n",
        "      <td> 270</td>\n",
        "      <td>NaN</td>\n",
        "      <td>  NaN</td>\n",
        "      <td> S</td>\n",
        "      <td>  31.0000</td>\n",
        "      <td>                             Cairns, Mr. Alexander</td>\n",
        "      <td> 0</td>\n",
        "      <td>  271</td>\n",
        "      <td> 1</td>\n",
        "      <td> 1</td>\n",
        "      <td> 0</td>\n",
        "      <td> 0</td>\n",
        "      <td>     113798</td>\n",
        "      <td> 0</td>\n",
        "      <td> 1</td>\n",
        "    </tr>\n",
        "    <tr>\n",
        "      <th>284 </th>\n",
        "      <td> 284</td>\n",
        "      <td>NaN</td>\n",
        "      <td>  A19</td>\n",
        "      <td> S</td>\n",
        "      <td>  26.0000</td>\n",
        "      <td>                        Smith, Mr. Richard William</td>\n",
        "      <td> 0</td>\n",
        "      <td>  285</td>\n",
        "      <td> 1</td>\n",
        "      <td> 1</td>\n",
        "      <td> 0</td>\n",
        "      <td> 0</td>\n",
        "      <td>     113056</td>\n",
        "      <td> 0</td>\n",
        "      <td> 1</td>\n",
        "    </tr>\n",
        "    <tr>\n",
        "      <th>295 </th>\n",
        "      <td> 295</td>\n",
        "      <td>NaN</td>\n",
        "      <td>  NaN</td>\n",
        "      <td> C</td>\n",
        "      <td>  27.7208</td>\n",
        "      <td>                                 Lewy, Mr. Ervin G</td>\n",
        "      <td> 0</td>\n",
        "      <td>  296</td>\n",
        "      <td> 1</td>\n",
        "      <td> 1</td>\n",
        "      <td> 0</td>\n",
        "      <td> 0</td>\n",
        "      <td>   PC 17612</td>\n",
        "      <td> 0</td>\n",
        "      <td> 1</td>\n",
        "    </tr>\n",
        "    <tr>\n",
        "      <th>298 </th>\n",
        "      <td> 298</td>\n",
        "      <td>NaN</td>\n",
        "      <td> C106</td>\n",
        "      <td> S</td>\n",
        "      <td>  30.5000</td>\n",
        "      <td>                             Saalfeld, Mr. Adolphe</td>\n",
        "      <td> 0</td>\n",
        "      <td>  299</td>\n",
        "      <td> 1</td>\n",
        "      <td> 1</td>\n",
        "      <td> 0</td>\n",
        "      <td> 1</td>\n",
        "      <td>      19988</td>\n",
        "      <td> 0</td>\n",
        "      <td> 1</td>\n",
        "    </tr>\n",
        "    <tr>\n",
        "      <th>306 </th>\n",
        "      <td> 306</td>\n",
        "      <td>NaN</td>\n",
        "      <td>  NaN</td>\n",
        "      <td> C</td>\n",
        "      <td> 110.8833</td>\n",
        "      <td>                           Fleming, Miss. Margaret</td>\n",
        "      <td> 0</td>\n",
        "      <td>  307</td>\n",
        "      <td> 1</td>\n",
        "      <td> 0</td>\n",
        "      <td> 0</td>\n",
        "      <td> 1</td>\n",
        "      <td>      17421</td>\n",
        "      <td> 0</td>\n",
        "      <td> 1</td>\n",
        "    </tr>\n",
        "    <tr>\n",
        "      <th>334 </th>\n",
        "      <td> 334</td>\n",
        "      <td>NaN</td>\n",
        "      <td>  NaN</td>\n",
        "      <td> S</td>\n",
        "      <td> 133.6500</td>\n",
        "      <td> Frauenthal, Mrs. Henry William (Clara Heinshei...</td>\n",
        "      <td> 0</td>\n",
        "      <td>  335</td>\n",
        "      <td> 1</td>\n",
        "      <td> 0</td>\n",
        "      <td> 1</td>\n",
        "      <td> 1</td>\n",
        "      <td>   PC 17611</td>\n",
        "      <td> 0</td>\n",
        "      <td> 1</td>\n",
        "    </tr>\n",
        "    <tr>\n",
        "      <th>351 </th>\n",
        "      <td> 351</td>\n",
        "      <td>NaN</td>\n",
        "      <td> C128</td>\n",
        "      <td> S</td>\n",
        "      <td>  35.0000</td>\n",
        "      <td>            Williams-Lambert, Mr. Fletcher Fellows</td>\n",
        "      <td> 0</td>\n",
        "      <td>  352</td>\n",
        "      <td> 1</td>\n",
        "      <td> 1</td>\n",
        "      <td> 0</td>\n",
        "      <td> 0</td>\n",
        "      <td>     113510</td>\n",
        "      <td> 0</td>\n",
        "      <td> 1</td>\n",
        "    </tr>\n",
        "    <tr>\n",
        "      <th>375 </th>\n",
        "      <td> 375</td>\n",
        "      <td>NaN</td>\n",
        "      <td>  NaN</td>\n",
        "      <td> C</td>\n",
        "      <td>  82.1708</td>\n",
        "      <td>             Meyer, Mrs. Edgar Joseph (Leila Saks)</td>\n",
        "      <td> 0</td>\n",
        "      <td>  376</td>\n",
        "      <td> 1</td>\n",
        "      <td> 0</td>\n",
        "      <td> 1</td>\n",
        "      <td> 1</td>\n",
        "      <td>   PC 17604</td>\n",
        "      <td> 0</td>\n",
        "      <td> 1</td>\n",
        "    </tr>\n",
        "    <tr>\n",
        "      <th>457 </th>\n",
        "      <td> 457</td>\n",
        "      <td>NaN</td>\n",
        "      <td>  D21</td>\n",
        "      <td> S</td>\n",
        "      <td>  51.8625</td>\n",
        "      <td>                 Kenyon, Mrs. Frederick R (Marion)</td>\n",
        "      <td> 0</td>\n",
        "      <td>  458</td>\n",
        "      <td> 1</td>\n",
        "      <td> 0</td>\n",
        "      <td> 1</td>\n",
        "      <td> 1</td>\n",
        "      <td>      17464</td>\n",
        "      <td> 0</td>\n",
        "      <td> 1</td>\n",
        "    </tr>\n",
        "    <tr>\n",
        "      <th>475 </th>\n",
        "      <td> 475</td>\n",
        "      <td>NaN</td>\n",
        "      <td>  A14</td>\n",
        "      <td> S</td>\n",
        "      <td>  52.0000</td>\n",
        "      <td>                       Clifford, Mr. George Quincy</td>\n",
        "      <td> 0</td>\n",
        "      <td>  476</td>\n",
        "      <td> 1</td>\n",
        "      <td> 1</td>\n",
        "      <td> 0</td>\n",
        "      <td> 0</td>\n",
        "      <td>     110465</td>\n",
        "      <td> 0</td>\n",
        "      <td> 1</td>\n",
        "    </tr>\n",
        "    <tr>\n",
        "      <th>507 </th>\n",
        "      <td> 507</td>\n",
        "      <td>NaN</td>\n",
        "      <td>  NaN</td>\n",
        "      <td> S</td>\n",
        "      <td>  26.5500</td>\n",
        "      <td>     Bradley, Mr. George (\"George Arthur Brayton\")</td>\n",
        "      <td> 0</td>\n",
        "      <td>  508</td>\n",
        "      <td> 1</td>\n",
        "      <td> 1</td>\n",
        "      <td> 0</td>\n",
        "      <td> 1</td>\n",
        "      <td>     111427</td>\n",
        "      <td> 0</td>\n",
        "      <td> 1</td>\n",
        "    </tr>\n",
        "    <tr>\n",
        "      <th>527 </th>\n",
        "      <td> 527</td>\n",
        "      <td>NaN</td>\n",
        "      <td>  C95</td>\n",
        "      <td> S</td>\n",
        "      <td> 221.7792</td>\n",
        "      <td>                                Farthing, Mr. John</td>\n",
        "      <td> 0</td>\n",
        "      <td>  528</td>\n",
        "      <td> 1</td>\n",
        "      <td> 1</td>\n",
        "      <td> 0</td>\n",
        "      <td> 0</td>\n",
        "      <td>   PC 17483</td>\n",
        "      <td> 0</td>\n",
        "      <td> 1</td>\n",
        "    </tr>\n",
        "    <tr>\n",
        "      <th>557 </th>\n",
        "      <td> 557</td>\n",
        "      <td>NaN</td>\n",
        "      <td>  NaN</td>\n",
        "      <td> C</td>\n",
        "      <td> 227.5250</td>\n",
        "      <td>                               Robbins, Mr. Victor</td>\n",
        "      <td> 0</td>\n",
        "      <td>  558</td>\n",
        "      <td> 1</td>\n",
        "      <td> 1</td>\n",
        "      <td> 0</td>\n",
        "      <td> 0</td>\n",
        "      <td>   PC 17757</td>\n",
        "      <td> 0</td>\n",
        "      <td> 1</td>\n",
        "    </tr>\n",
        "    <tr>\n",
        "      <th>602 </th>\n",
        "      <td> 602</td>\n",
        "      <td>NaN</td>\n",
        "      <td>  NaN</td>\n",
        "      <td> S</td>\n",
        "      <td>  42.4000</td>\n",
        "      <td>                         Harrington, Mr. Charles H</td>\n",
        "      <td> 0</td>\n",
        "      <td>  603</td>\n",
        "      <td> 1</td>\n",
        "      <td> 1</td>\n",
        "      <td> 0</td>\n",
        "      <td> 0</td>\n",
        "      <td>     113796</td>\n",
        "      <td> 0</td>\n",
        "      <td> 1</td>\n",
        "    </tr>\n",
        "    <tr>\n",
        "      <th>633 </th>\n",
        "      <td> 633</td>\n",
        "      <td>NaN</td>\n",
        "      <td>  NaN</td>\n",
        "      <td> S</td>\n",
        "      <td>   0.0000</td>\n",
        "      <td>                     Parr, Mr. William Henry Marsh</td>\n",
        "      <td> 0</td>\n",
        "      <td>  634</td>\n",
        "      <td> 1</td>\n",
        "      <td> 1</td>\n",
        "      <td> 0</td>\n",
        "      <td> 0</td>\n",
        "      <td>     112052</td>\n",
        "      <td> 0</td>\n",
        "      <td> 1</td>\n",
        "    </tr>\n",
        "    <tr>\n",
        "      <th>669 </th>\n",
        "      <td> 669</td>\n",
        "      <td>NaN</td>\n",
        "      <td> C126</td>\n",
        "      <td> S</td>\n",
        "      <td>  52.0000</td>\n",
        "      <td> Taylor, Mrs. Elmer Zebley (Juliet Cummins Wright)</td>\n",
        "      <td> 0</td>\n",
        "      <td>  670</td>\n",
        "      <td> 1</td>\n",
        "      <td> 0</td>\n",
        "      <td> 1</td>\n",
        "      <td> 1</td>\n",
        "      <td>      19996</td>\n",
        "      <td> 0</td>\n",
        "      <td> 1</td>\n",
        "    </tr>\n",
        "    <tr>\n",
        "      <th>711 </th>\n",
        "      <td> 711</td>\n",
        "      <td>NaN</td>\n",
        "      <td> C124</td>\n",
        "      <td> S</td>\n",
        "      <td>  26.5500</td>\n",
        "      <td>                                Klaber, Mr. Herman</td>\n",
        "      <td> 0</td>\n",
        "      <td>  712</td>\n",
        "      <td> 1</td>\n",
        "      <td> 1</td>\n",
        "      <td> 0</td>\n",
        "      <td> 0</td>\n",
        "      <td>     113028</td>\n",
        "      <td> 0</td>\n",
        "      <td> 1</td>\n",
        "    </tr>\n",
        "    <tr>\n",
        "      <th>740 </th>\n",
        "      <td> 740</td>\n",
        "      <td>NaN</td>\n",
        "      <td>  D45</td>\n",
        "      <td> S</td>\n",
        "      <td>  30.0000</td>\n",
        "      <td>                       Hawksford, Mr. Walter James</td>\n",
        "      <td> 0</td>\n",
        "      <td>  741</td>\n",
        "      <td> 1</td>\n",
        "      <td> 1</td>\n",
        "      <td> 0</td>\n",
        "      <td> 1</td>\n",
        "      <td>      16988</td>\n",
        "      <td> 0</td>\n",
        "      <td> 1</td>\n",
        "    </tr>\n",
        "    <tr>\n",
        "      <th>766 </th>\n",
        "      <td> 766</td>\n",
        "      <td>NaN</td>\n",
        "      <td>  NaN</td>\n",
        "      <td> C</td>\n",
        "      <td>  39.6000</td>\n",
        "      <td>                         Brewe, Dr. Arthur Jackson</td>\n",
        "      <td> 0</td>\n",
        "      <td>  767</td>\n",
        "      <td> 1</td>\n",
        "      <td> 1</td>\n",
        "      <td> 0</td>\n",
        "      <td> 0</td>\n",
        "      <td>     112379</td>\n",
        "      <td> 0</td>\n",
        "      <td> 1</td>\n",
        "    </tr>\n",
        "    <tr>\n",
        "      <th>793 </th>\n",
        "      <td> 793</td>\n",
        "      <td>NaN</td>\n",
        "      <td>  NaN</td>\n",
        "      <td> C</td>\n",
        "      <td>  30.6958</td>\n",
        "      <td>                          Hoyt, Mr. William Fisher</td>\n",
        "      <td> 0</td>\n",
        "      <td>  794</td>\n",
        "      <td> 1</td>\n",
        "      <td> 1</td>\n",
        "      <td> 0</td>\n",
        "      <td> 0</td>\n",
        "      <td>   PC 17600</td>\n",
        "      <td> 0</td>\n",
        "      <td> 1</td>\n",
        "    </tr>\n",
        "    <tr>\n",
        "      <th>815 </th>\n",
        "      <td> 815</td>\n",
        "      <td>NaN</td>\n",
        "      <td> B102</td>\n",
        "      <td> S</td>\n",
        "      <td>   0.0000</td>\n",
        "      <td>                                  Fry, Mr. Richard</td>\n",
        "      <td> 0</td>\n",
        "      <td>  816</td>\n",
        "      <td> 1</td>\n",
        "      <td> 1</td>\n",
        "      <td> 0</td>\n",
        "      <td> 0</td>\n",
        "      <td>     112058</td>\n",
        "      <td> 0</td>\n",
        "      <td> 1</td>\n",
        "    </tr>\n",
        "    <tr>\n",
        "      <th>839 </th>\n",
        "      <td> 839</td>\n",
        "      <td>NaN</td>\n",
        "      <td>  C47</td>\n",
        "      <td> C</td>\n",
        "      <td>  29.7000</td>\n",
        "      <td>                              Marechal, Mr. Pierre</td>\n",
        "      <td> 0</td>\n",
        "      <td>  840</td>\n",
        "      <td> 1</td>\n",
        "      <td> 1</td>\n",
        "      <td> 0</td>\n",
        "      <td> 1</td>\n",
        "      <td>      11774</td>\n",
        "      <td> 0</td>\n",
        "      <td> 1</td>\n",
        "    </tr>\n",
        "    <tr>\n",
        "      <th>849 </th>\n",
        "      <td> 849</td>\n",
        "      <td>NaN</td>\n",
        "      <td>  C92</td>\n",
        "      <td> C</td>\n",
        "      <td>  89.1042</td>\n",
        "      <td>      Goldenberg, Mrs. Samuel L (Edwiga Grabowska)</td>\n",
        "      <td> 0</td>\n",
        "      <td>  850</td>\n",
        "      <td> 1</td>\n",
        "      <td> 0</td>\n",
        "      <td> 1</td>\n",
        "      <td> 1</td>\n",
        "      <td>      17453</td>\n",
        "      <td> 0</td>\n",
        "      <td> 1</td>\n",
        "    </tr>\n",
        "    <tr>\n",
        "      <th>913 </th>\n",
        "      <td>  22</td>\n",
        "      <td>NaN</td>\n",
        "      <td>  NaN</td>\n",
        "      <td> S</td>\n",
        "      <td>  31.6833</td>\n",
        "      <td>              Flegenheim, Mrs. Alfred (Antoinette)</td>\n",
        "      <td> 0</td>\n",
        "      <td>  914</td>\n",
        "      <td> 1</td>\n",
        "      <td> 0</td>\n",
        "      <td> 0</td>\n",
        "      <td> 1</td>\n",
        "      <td>   PC 17598</td>\n",
        "      <td> 1</td>\n",
        "      <td> 1</td>\n",
        "    </tr>\n",
        "    <tr>\n",
        "      <th>932 </th>\n",
        "      <td>  41</td>\n",
        "      <td>NaN</td>\n",
        "      <td>  D34</td>\n",
        "      <td> S</td>\n",
        "      <td>  26.5500</td>\n",
        "      <td>                       Franklin, Mr. Thomas Parham</td>\n",
        "      <td> 0</td>\n",
        "      <td>  933</td>\n",
        "      <td> 1</td>\n",
        "      <td> 1</td>\n",
        "      <td> 0</td>\n",
        "      <td> 0</td>\n",
        "      <td>     113778</td>\n",
        "      <td> 1</td>\n",
        "      <td> 1</td>\n",
        "    </tr>\n",
        "    <tr>\n",
        "      <th>1037</th>\n",
        "      <td> 146</td>\n",
        "      <td>NaN</td>\n",
        "      <td>  E46</td>\n",
        "      <td> S</td>\n",
        "      <td>  51.8625</td>\n",
        "      <td>                       Hilliard, Mr. Herbert Henry</td>\n",
        "      <td> 0</td>\n",
        "      <td> 1038</td>\n",
        "      <td> 1</td>\n",
        "      <td> 1</td>\n",
        "      <td> 0</td>\n",
        "      <td> 0</td>\n",
        "      <td>      17463</td>\n",
        "      <td> 1</td>\n",
        "      <td> 1</td>\n",
        "    </tr>\n",
        "    <tr>\n",
        "      <th>1039</th>\n",
        "      <td> 148</td>\n",
        "      <td>NaN</td>\n",
        "      <td>  NaN</td>\n",
        "      <td> S</td>\n",
        "      <td>  26.5500</td>\n",
        "      <td>                         Crafton, Mr. John Bertram</td>\n",
        "      <td> 0</td>\n",
        "      <td> 1040</td>\n",
        "      <td> 1</td>\n",
        "      <td> 1</td>\n",
        "      <td> 0</td>\n",
        "      <td> 0</td>\n",
        "      <td>     113791</td>\n",
        "      <td> 1</td>\n",
        "      <td> 1</td>\n",
        "    </tr>\n",
        "    <tr>\n",
        "      <th>1059</th>\n",
        "      <td> 168</td>\n",
        "      <td>NaN</td>\n",
        "      <td>  NaN</td>\n",
        "      <td> C</td>\n",
        "      <td>  27.7208</td>\n",
        "      <td> Cassebeer, Mrs. Henry Arthur Jr (Eleanor Genev...</td>\n",
        "      <td> 0</td>\n",
        "      <td> 1060</td>\n",
        "      <td> 1</td>\n",
        "      <td> 0</td>\n",
        "      <td> 0</td>\n",
        "      <td> 1</td>\n",
        "      <td>      17770</td>\n",
        "      <td> 1</td>\n",
        "      <td> 1</td>\n",
        "    </tr>\n",
        "    <tr>\n",
        "      <th>1082</th>\n",
        "      <td> 191</td>\n",
        "      <td>NaN</td>\n",
        "      <td>  NaN</td>\n",
        "      <td> S</td>\n",
        "      <td>  26.0000</td>\n",
        "      <td>                            Salomon, Mr. Abraham L</td>\n",
        "      <td> 0</td>\n",
        "      <td> 1083</td>\n",
        "      <td> 1</td>\n",
        "      <td> 1</td>\n",
        "      <td> 0</td>\n",
        "      <td> 1</td>\n",
        "      <td>     111163</td>\n",
        "      <td> 1</td>\n",
        "      <td> 1</td>\n",
        "    </tr>\n",
        "    <tr>\n",
        "      <th>1096</th>\n",
        "      <td> 205</td>\n",
        "      <td>NaN</td>\n",
        "      <td>  NaN</td>\n",
        "      <td> C</td>\n",
        "      <td>  25.7417</td>\n",
        "      <td>                         Omont, Mr. Alfred Fernand</td>\n",
        "      <td> 0</td>\n",
        "      <td> 1097</td>\n",
        "      <td> 1</td>\n",
        "      <td> 1</td>\n",
        "      <td> 0</td>\n",
        "      <td> 1</td>\n",
        "      <td> F.C. 12998</td>\n",
        "      <td> 1</td>\n",
        "      <td> 1</td>\n",
        "    </tr>\n",
        "    <tr>\n",
        "      <th>1157</th>\n",
        "      <td> 266</td>\n",
        "      <td>NaN</td>\n",
        "      <td>  NaN</td>\n",
        "      <td> S</td>\n",
        "      <td>   0.0000</td>\n",
        "      <td>             Chisholm, Mr. Roderick Robert Crispin</td>\n",
        "      <td> 0</td>\n",
        "      <td> 1158</td>\n",
        "      <td> 1</td>\n",
        "      <td> 1</td>\n",
        "      <td> 0</td>\n",
        "      <td> 0</td>\n",
        "      <td>     112051</td>\n",
        "      <td> 1</td>\n",
        "      <td> 1</td>\n",
        "    </tr>\n",
        "    <tr>\n",
        "      <th>1181</th>\n",
        "      <td> 290</td>\n",
        "      <td>NaN</td>\n",
        "      <td>  NaN</td>\n",
        "      <td> S</td>\n",
        "      <td>  39.6000</td>\n",
        "      <td>               Rheims, Mr. George Alexander Lucien</td>\n",
        "      <td> 0</td>\n",
        "      <td> 1182</td>\n",
        "      <td> 1</td>\n",
        "      <td> 1</td>\n",
        "      <td> 0</td>\n",
        "      <td> 1</td>\n",
        "      <td>   PC 17607</td>\n",
        "      <td> 1</td>\n",
        "      <td> 1</td>\n",
        "    </tr>\n",
        "  </tbody>\n",
        "</table>\n",
        "</div>"
       ],
       "metadata": {},
       "output_type": "pyout",
       "prompt_number": 161,
       "text": [
        "      oldIndex  Age Cabin Embarked      Fare  \\\n",
        "31          31  NaN   B78        C  146.5208   \n",
        "55          55  NaN   C52        S   35.5000   \n",
        "64          64  NaN   NaN        C   27.7208   \n",
        "166        166  NaN   E33        S   55.0000   \n",
        "168        168  NaN   NaN        S   25.9250   \n",
        "185        185  NaN   A32        S   50.0000   \n",
        "256        256  NaN   NaN        C   79.2000   \n",
        "270        270  NaN   NaN        S   31.0000   \n",
        "284        284  NaN   A19        S   26.0000   \n",
        "295        295  NaN   NaN        C   27.7208   \n",
        "298        298  NaN  C106        S   30.5000   \n",
        "306        306  NaN   NaN        C  110.8833   \n",
        "334        334  NaN   NaN        S  133.6500   \n",
        "351        351  NaN  C128        S   35.0000   \n",
        "375        375  NaN   NaN        C   82.1708   \n",
        "457        457  NaN   D21        S   51.8625   \n",
        "475        475  NaN   A14        S   52.0000   \n",
        "507        507  NaN   NaN        S   26.5500   \n",
        "527        527  NaN   C95        S  221.7792   \n",
        "557        557  NaN   NaN        C  227.5250   \n",
        "602        602  NaN   NaN        S   42.4000   \n",
        "633        633  NaN   NaN        S    0.0000   \n",
        "669        669  NaN  C126        S   52.0000   \n",
        "711        711  NaN  C124        S   26.5500   \n",
        "740        740  NaN   D45        S   30.0000   \n",
        "766        766  NaN   NaN        C   39.6000   \n",
        "793        793  NaN   NaN        C   30.6958   \n",
        "815        815  NaN  B102        S    0.0000   \n",
        "839        839  NaN   C47        C   29.7000   \n",
        "849        849  NaN   C92        C   89.1042   \n",
        "913         22  NaN   NaN        S   31.6833   \n",
        "932         41  NaN   D34        S   26.5500   \n",
        "1037       146  NaN   E46        S   51.8625   \n",
        "1039       148  NaN   NaN        S   26.5500   \n",
        "1059       168  NaN   NaN        C   27.7208   \n",
        "1082       191  NaN   NaN        S   26.0000   \n",
        "1096       205  NaN   NaN        C   25.7417   \n",
        "1157       266  NaN   NaN        S    0.0000   \n",
        "1181       290  NaN   NaN        S   39.6000   \n",
        "\n",
        "                                                   Name  Parch  PassengerId  \\\n",
        "31       Spencer, Mrs. William Augustus (Marie Eugenie)      0           32   \n",
        "55                                    Woolner, Mr. Hugh      0           56   \n",
        "64                                Stewart, Mr. Albert A      0           65   \n",
        "166              Chibnall, Mrs. (Edith Martha Bowerman)      1          167   \n",
        "168                                 Baumann, Mr. John D      0          169   \n",
        "185                               Rood, Mr. Hugh Roscoe      0          186   \n",
        "256                      Thorne, Mrs. Gertrude Maybelle      0          257   \n",
        "270                               Cairns, Mr. Alexander      0          271   \n",
        "284                          Smith, Mr. Richard William      0          285   \n",
        "295                                   Lewy, Mr. Ervin G      0          296   \n",
        "298                               Saalfeld, Mr. Adolphe      0          299   \n",
        "306                             Fleming, Miss. Margaret      0          307   \n",
        "334   Frauenthal, Mrs. Henry William (Clara Heinshei...      0          335   \n",
        "351              Williams-Lambert, Mr. Fletcher Fellows      0          352   \n",
        "375               Meyer, Mrs. Edgar Joseph (Leila Saks)      0          376   \n",
        "457                   Kenyon, Mrs. Frederick R (Marion)      0          458   \n",
        "475                         Clifford, Mr. George Quincy      0          476   \n",
        "507       Bradley, Mr. George (\"George Arthur Brayton\")      0          508   \n",
        "527                                  Farthing, Mr. John      0          528   \n",
        "557                                 Robbins, Mr. Victor      0          558   \n",
        "602                           Harrington, Mr. Charles H      0          603   \n",
        "633                       Parr, Mr. William Henry Marsh      0          634   \n",
        "669   Taylor, Mrs. Elmer Zebley (Juliet Cummins Wright)      0          670   \n",
        "711                                  Klaber, Mr. Herman      0          712   \n",
        "740                         Hawksford, Mr. Walter James      0          741   \n",
        "766                           Brewe, Dr. Arthur Jackson      0          767   \n",
        "793                            Hoyt, Mr. William Fisher      0          794   \n",
        "815                                    Fry, Mr. Richard      0          816   \n",
        "839                                Marechal, Mr. Pierre      0          840   \n",
        "849        Goldenberg, Mrs. Samuel L (Edwiga Grabowska)      0          850   \n",
        "913                Flegenheim, Mrs. Alfred (Antoinette)      0          914   \n",
        "932                         Franklin, Mr. Thomas Parham      0          933   \n",
        "1037                        Hilliard, Mr. Herbert Henry      0         1038   \n",
        "1039                          Crafton, Mr. John Bertram      0         1040   \n",
        "1059  Cassebeer, Mrs. Henry Arthur Jr (Eleanor Genev...      0         1060   \n",
        "1082                             Salomon, Mr. Abraham L      0         1083   \n",
        "1096                          Omont, Mr. Alfred Fernand      0         1097   \n",
        "1157              Chisholm, Mr. Roderick Robert Crispin      0         1158   \n",
        "1181                Rheims, Mr. George Alexander Lucien      0         1182   \n",
        "\n",
        "      Pclass  Sex  SibSp  Survived      Ticket  testset  missingAge  \n",
        "31         1    0      1         1    PC 17569        0           1  \n",
        "55         1    1      0         1       19947        0           1  \n",
        "64         1    1      0         0    PC 17605        0           1  \n",
        "166        1    0      0         1      113505        0           1  \n",
        "168        1    1      0         0    PC 17318        0           1  \n",
        "185        1    1      0         0      113767        0           1  \n",
        "256        1    0      0         1    PC 17585        0           1  \n",
        "270        1    1      0         0      113798        0           1  \n",
        "284        1    1      0         0      113056        0           1  \n",
        "295        1    1      0         0    PC 17612        0           1  \n",
        "298        1    1      0         1       19988        0           1  \n",
        "306        1    0      0         1       17421        0           1  \n",
        "334        1    0      1         1    PC 17611        0           1  \n",
        "351        1    1      0         0      113510        0           1  \n",
        "375        1    0      1         1    PC 17604        0           1  \n",
        "457        1    0      1         1       17464        0           1  \n",
        "475        1    1      0         0      110465        0           1  \n",
        "507        1    1      0         1      111427        0           1  \n",
        "527        1    1      0         0    PC 17483        0           1  \n",
        "557        1    1      0         0    PC 17757        0           1  \n",
        "602        1    1      0         0      113796        0           1  \n",
        "633        1    1      0         0      112052        0           1  \n",
        "669        1    0      1         1       19996        0           1  \n",
        "711        1    1      0         0      113028        0           1  \n",
        "740        1    1      0         1       16988        0           1  \n",
        "766        1    1      0         0      112379        0           1  \n",
        "793        1    1      0         0    PC 17600        0           1  \n",
        "815        1    1      0         0      112058        0           1  \n",
        "839        1    1      0         1       11774        0           1  \n",
        "849        1    0      1         1       17453        0           1  \n",
        "913        1    0      0         1    PC 17598        1           1  \n",
        "932        1    1      0         0      113778        1           1  \n",
        "1037       1    1      0         0       17463        1           1  \n",
        "1039       1    1      0         0      113791        1           1  \n",
        "1059       1    0      0         1       17770        1           1  \n",
        "1082       1    1      0         1      111163        1           1  \n",
        "1096       1    1      0         1  F.C. 12998        1           1  \n",
        "1157       1    1      0         0      112051        1           1  \n",
        "1181       1    1      0         1    PC 17607        1           1  "
       ]
      }
     ],
     "prompt_number": 161
    },
    {
     "cell_type": "code",
     "collapsed": false,
     "input": [
      "# replace missing ages with median of ages\n",
      "for myClass in medAgesByPclass.keys():\n",
      "    medianVal = medAgesByPclass[myClass]\n",
      "    print myClass, medianVal, sum(kaggledf[missingAge]['Pclass']==myClass)\n",
      "    kaggledf.loc[(kaggledf[\"Pclass\"] ==myClass) & (kaggledf[\"Age\"].isnull()), 'Age']= medianVal\n",
      "    #kaggledf.loc[missingAge,'Age']\n",
      "    #kaggledf[kaggledf['Pclass']==1].Age.fillna(medAgesByPclass[1])\n",
      "    #kaggledf[kaggledf[missingAge]['Pclass']==myClass]['Age']=medianVal\n",
      "    #kaggledf[kaggledf['Pclass']==myClass]['Age'].fillna(medianVal,inplace=True)"
     ],
     "language": "python",
     "metadata": {},
     "outputs": [
      {
       "output_type": "stream",
       "stream": "stdout",
       "text": [
        "1 39.0 39\n",
        "2 29.0 16\n",
        "3 24.0 208\n"
       ]
      }
     ],
     "prompt_number": 176
    },
    {
     "cell_type": "code",
     "collapsed": false,
     "input": [
      "sum(kaggledf['Age'].isnull())"
     ],
     "language": "python",
     "metadata": {},
     "outputs": [
      {
       "metadata": {},
       "output_type": "pyout",
       "prompt_number": 177,
       "text": [
        "0"
       ]
      }
     ],
     "prompt_number": 177
    },
    {
     "cell_type": "code",
     "collapsed": false,
     "input": [
      "kaggledf.head(10)"
     ],
     "language": "python",
     "metadata": {},
     "outputs": [
      {
       "html": [
        "<div style=\"max-height:1000px;max-width:1500px;overflow:auto;\">\n",
        "<table border=\"1\" class=\"dataframe\">\n",
        "  <thead>\n",
        "    <tr style=\"text-align: right;\">\n",
        "      <th></th>\n",
        "      <th>Unnamed: 0</th>\n",
        "      <th>Age</th>\n",
        "      <th>Cabin</th>\n",
        "      <th>Embarked</th>\n",
        "      <th>Fare</th>\n",
        "      <th>Name</th>\n",
        "      <th>Parch</th>\n",
        "      <th>PassengerId</th>\n",
        "      <th>Pclass</th>\n",
        "      <th>Sex</th>\n",
        "      <th>SibSp</th>\n",
        "      <th>Survived</th>\n",
        "      <th>Ticket</th>\n",
        "      <th>testset</th>\n",
        "      <th>missingAge</th>\n",
        "    </tr>\n",
        "  </thead>\n",
        "  <tbody>\n",
        "    <tr>\n",
        "      <th>0</th>\n",
        "      <td> 0</td>\n",
        "      <td> 22</td>\n",
        "      <td>  NaN</td>\n",
        "      <td> S</td>\n",
        "      <td>  7.2500</td>\n",
        "      <td>                           Braund, Mr. Owen Harris</td>\n",
        "      <td> 0</td>\n",
        "      <td>  1</td>\n",
        "      <td> 3</td>\n",
        "      <td> 1</td>\n",
        "      <td> 1</td>\n",
        "      <td> 0</td>\n",
        "      <td>        A/5 21171</td>\n",
        "      <td> 0</td>\n",
        "      <td> 0</td>\n",
        "    </tr>\n",
        "    <tr>\n",
        "      <th>1</th>\n",
        "      <td> 1</td>\n",
        "      <td> 38</td>\n",
        "      <td>  C85</td>\n",
        "      <td> C</td>\n",
        "      <td> 71.2833</td>\n",
        "      <td> Cumings, Mrs. John Bradley (Florence Briggs Th...</td>\n",
        "      <td> 0</td>\n",
        "      <td>  2</td>\n",
        "      <td> 1</td>\n",
        "      <td> 0</td>\n",
        "      <td> 1</td>\n",
        "      <td> 1</td>\n",
        "      <td>         PC 17599</td>\n",
        "      <td> 0</td>\n",
        "      <td> 0</td>\n",
        "    </tr>\n",
        "    <tr>\n",
        "      <th>2</th>\n",
        "      <td> 2</td>\n",
        "      <td> 26</td>\n",
        "      <td>  NaN</td>\n",
        "      <td> S</td>\n",
        "      <td>  7.9250</td>\n",
        "      <td>                            Heikkinen, Miss. Laina</td>\n",
        "      <td> 0</td>\n",
        "      <td>  3</td>\n",
        "      <td> 3</td>\n",
        "      <td> 0</td>\n",
        "      <td> 0</td>\n",
        "      <td> 1</td>\n",
        "      <td> STON/O2. 3101282</td>\n",
        "      <td> 0</td>\n",
        "      <td> 0</td>\n",
        "    </tr>\n",
        "    <tr>\n",
        "      <th>3</th>\n",
        "      <td> 3</td>\n",
        "      <td> 35</td>\n",
        "      <td> C123</td>\n",
        "      <td> S</td>\n",
        "      <td> 53.1000</td>\n",
        "      <td>      Futrelle, Mrs. Jacques Heath (Lily May Peel)</td>\n",
        "      <td> 0</td>\n",
        "      <td>  4</td>\n",
        "      <td> 1</td>\n",
        "      <td> 0</td>\n",
        "      <td> 1</td>\n",
        "      <td> 1</td>\n",
        "      <td>           113803</td>\n",
        "      <td> 0</td>\n",
        "      <td> 0</td>\n",
        "    </tr>\n",
        "    <tr>\n",
        "      <th>4</th>\n",
        "      <td> 4</td>\n",
        "      <td> 35</td>\n",
        "      <td>  NaN</td>\n",
        "      <td> S</td>\n",
        "      <td>  8.0500</td>\n",
        "      <td>                          Allen, Mr. William Henry</td>\n",
        "      <td> 0</td>\n",
        "      <td>  5</td>\n",
        "      <td> 3</td>\n",
        "      <td> 1</td>\n",
        "      <td> 0</td>\n",
        "      <td> 0</td>\n",
        "      <td>           373450</td>\n",
        "      <td> 0</td>\n",
        "      <td> 0</td>\n",
        "    </tr>\n",
        "    <tr>\n",
        "      <th>5</th>\n",
        "      <td> 5</td>\n",
        "      <td> 24</td>\n",
        "      <td>  NaN</td>\n",
        "      <td> Q</td>\n",
        "      <td>  8.4583</td>\n",
        "      <td>                                  Moran, Mr. James</td>\n",
        "      <td> 0</td>\n",
        "      <td>  6</td>\n",
        "      <td> 3</td>\n",
        "      <td> 1</td>\n",
        "      <td> 0</td>\n",
        "      <td> 0</td>\n",
        "      <td>           330877</td>\n",
        "      <td> 0</td>\n",
        "      <td> 1</td>\n",
        "    </tr>\n",
        "    <tr>\n",
        "      <th>6</th>\n",
        "      <td> 6</td>\n",
        "      <td> 54</td>\n",
        "      <td>  E46</td>\n",
        "      <td> S</td>\n",
        "      <td> 51.8625</td>\n",
        "      <td>                           McCarthy, Mr. Timothy J</td>\n",
        "      <td> 0</td>\n",
        "      <td>  7</td>\n",
        "      <td> 1</td>\n",
        "      <td> 1</td>\n",
        "      <td> 0</td>\n",
        "      <td> 0</td>\n",
        "      <td>            17463</td>\n",
        "      <td> 0</td>\n",
        "      <td> 0</td>\n",
        "    </tr>\n",
        "    <tr>\n",
        "      <th>7</th>\n",
        "      <td> 7</td>\n",
        "      <td>  2</td>\n",
        "      <td>  NaN</td>\n",
        "      <td> S</td>\n",
        "      <td> 21.0750</td>\n",
        "      <td>                    Palsson, Master. Gosta Leonard</td>\n",
        "      <td> 1</td>\n",
        "      <td>  8</td>\n",
        "      <td> 3</td>\n",
        "      <td> 1</td>\n",
        "      <td> 3</td>\n",
        "      <td> 0</td>\n",
        "      <td>           349909</td>\n",
        "      <td> 0</td>\n",
        "      <td> 0</td>\n",
        "    </tr>\n",
        "    <tr>\n",
        "      <th>8</th>\n",
        "      <td> 8</td>\n",
        "      <td> 27</td>\n",
        "      <td>  NaN</td>\n",
        "      <td> S</td>\n",
        "      <td> 11.1333</td>\n",
        "      <td> Johnson, Mrs. Oscar W (Elisabeth Vilhelmina Berg)</td>\n",
        "      <td> 2</td>\n",
        "      <td>  9</td>\n",
        "      <td> 3</td>\n",
        "      <td> 0</td>\n",
        "      <td> 0</td>\n",
        "      <td> 1</td>\n",
        "      <td>           347742</td>\n",
        "      <td> 0</td>\n",
        "      <td> 0</td>\n",
        "    </tr>\n",
        "    <tr>\n",
        "      <th>9</th>\n",
        "      <td> 9</td>\n",
        "      <td> 14</td>\n",
        "      <td>  NaN</td>\n",
        "      <td> C</td>\n",
        "      <td> 30.0708</td>\n",
        "      <td>               Nasser, Mrs. Nicholas (Adele Achem)</td>\n",
        "      <td> 0</td>\n",
        "      <td> 10</td>\n",
        "      <td> 2</td>\n",
        "      <td> 0</td>\n",
        "      <td> 1</td>\n",
        "      <td> 1</td>\n",
        "      <td>           237736</td>\n",
        "      <td> 0</td>\n",
        "      <td> 0</td>\n",
        "    </tr>\n",
        "  </tbody>\n",
        "</table>\n",
        "</div>"
       ],
       "metadata": {},
       "output_type": "pyout",
       "prompt_number": 178,
       "text": [
        "   Unnamed: 0  Age Cabin Embarked     Fare  \\\n",
        "0           0   22   NaN        S   7.2500   \n",
        "1           1   38   C85        C  71.2833   \n",
        "2           2   26   NaN        S   7.9250   \n",
        "3           3   35  C123        S  53.1000   \n",
        "4           4   35   NaN        S   8.0500   \n",
        "5           5   24   NaN        Q   8.4583   \n",
        "6           6   54   E46        S  51.8625   \n",
        "7           7    2   NaN        S  21.0750   \n",
        "8           8   27   NaN        S  11.1333   \n",
        "9           9   14   NaN        C  30.0708   \n",
        "\n",
        "                                                Name  Parch  PassengerId  \\\n",
        "0                            Braund, Mr. Owen Harris      0            1   \n",
        "1  Cumings, Mrs. John Bradley (Florence Briggs Th...      0            2   \n",
        "2                             Heikkinen, Miss. Laina      0            3   \n",
        "3       Futrelle, Mrs. Jacques Heath (Lily May Peel)      0            4   \n",
        "4                           Allen, Mr. William Henry      0            5   \n",
        "5                                   Moran, Mr. James      0            6   \n",
        "6                            McCarthy, Mr. Timothy J      0            7   \n",
        "7                     Palsson, Master. Gosta Leonard      1            8   \n",
        "8  Johnson, Mrs. Oscar W (Elisabeth Vilhelmina Berg)      2            9   \n",
        "9                Nasser, Mrs. Nicholas (Adele Achem)      0           10   \n",
        "\n",
        "   Pclass  Sex  SibSp  Survived            Ticket  testset  missingAge  \n",
        "0       3    1      1         0         A/5 21171        0           0  \n",
        "1       1    0      1         1          PC 17599        0           0  \n",
        "2       3    0      0         1  STON/O2. 3101282        0           0  \n",
        "3       1    0      1         1            113803        0           0  \n",
        "4       3    1      0         0            373450        0           0  \n",
        "5       3    1      0         0            330877        0           1  \n",
        "6       1    1      0         0             17463        0           0  \n",
        "7       3    1      3         0            349909        0           0  \n",
        "8       3    0      0         1            347742        0           0  \n",
        "9       2    0      1         1            237736        0           0  "
       ]
      }
     ],
     "prompt_number": 178
    },
    {
     "cell_type": "code",
     "collapsed": false,
     "input": [
      "# create dummy variables for Pclass\n",
      "pclassDummies = pd.get_dummies(kaggledf['Pclass'],prefix='Pclass')\n",
      "pclassDummies.head()"
     ],
     "language": "python",
     "metadata": {},
     "outputs": [
      {
       "html": [
        "<div style=\"max-height:1000px;max-width:1500px;overflow:auto;\">\n",
        "<table border=\"1\" class=\"dataframe\">\n",
        "  <thead>\n",
        "    <tr style=\"text-align: right;\">\n",
        "      <th></th>\n",
        "      <th>Pclass_1</th>\n",
        "      <th>Pclass_2</th>\n",
        "      <th>Pclass_3</th>\n",
        "    </tr>\n",
        "  </thead>\n",
        "  <tbody>\n",
        "    <tr>\n",
        "      <th>0</th>\n",
        "      <td> 0</td>\n",
        "      <td> 0</td>\n",
        "      <td> 1</td>\n",
        "    </tr>\n",
        "    <tr>\n",
        "      <th>1</th>\n",
        "      <td> 1</td>\n",
        "      <td> 0</td>\n",
        "      <td> 0</td>\n",
        "    </tr>\n",
        "    <tr>\n",
        "      <th>2</th>\n",
        "      <td> 0</td>\n",
        "      <td> 0</td>\n",
        "      <td> 1</td>\n",
        "    </tr>\n",
        "    <tr>\n",
        "      <th>3</th>\n",
        "      <td> 1</td>\n",
        "      <td> 0</td>\n",
        "      <td> 0</td>\n",
        "    </tr>\n",
        "    <tr>\n",
        "      <th>4</th>\n",
        "      <td> 0</td>\n",
        "      <td> 0</td>\n",
        "      <td> 1</td>\n",
        "    </tr>\n",
        "  </tbody>\n",
        "</table>\n",
        "</div>"
       ],
       "metadata": {},
       "output_type": "pyout",
       "prompt_number": 179,
       "text": [
        "   Pclass_1  Pclass_2  Pclass_3\n",
        "0         0         0         1\n",
        "1         1         0         0\n",
        "2         0         0         1\n",
        "3         1         0         0\n",
        "4         0         0         1"
       ]
      }
     ],
     "prompt_number": 179
    },
    {
     "cell_type": "code",
     "collapsed": false,
     "input": [
      "# create dummy variables for Embarked\n",
      "embDummy = pd.get_dummies(kaggledf.Embarked,prefix='Emb')\n",
      "embDummy.head()"
     ],
     "language": "python",
     "metadata": {},
     "outputs": [
      {
       "html": [
        "<div style=\"max-height:1000px;max-width:1500px;overflow:auto;\">\n",
        "<table border=\"1\" class=\"dataframe\">\n",
        "  <thead>\n",
        "    <tr style=\"text-align: right;\">\n",
        "      <th></th>\n",
        "      <th>Emb_C</th>\n",
        "      <th>Emb_Q</th>\n",
        "      <th>Emb_S</th>\n",
        "    </tr>\n",
        "  </thead>\n",
        "  <tbody>\n",
        "    <tr>\n",
        "      <th>0</th>\n",
        "      <td> 0</td>\n",
        "      <td> 0</td>\n",
        "      <td> 1</td>\n",
        "    </tr>\n",
        "    <tr>\n",
        "      <th>1</th>\n",
        "      <td> 1</td>\n",
        "      <td> 0</td>\n",
        "      <td> 0</td>\n",
        "    </tr>\n",
        "    <tr>\n",
        "      <th>2</th>\n",
        "      <td> 0</td>\n",
        "      <td> 0</td>\n",
        "      <td> 1</td>\n",
        "    </tr>\n",
        "    <tr>\n",
        "      <th>3</th>\n",
        "      <td> 0</td>\n",
        "      <td> 0</td>\n",
        "      <td> 1</td>\n",
        "    </tr>\n",
        "    <tr>\n",
        "      <th>4</th>\n",
        "      <td> 0</td>\n",
        "      <td> 0</td>\n",
        "      <td> 1</td>\n",
        "    </tr>\n",
        "  </tbody>\n",
        "</table>\n",
        "</div>"
       ],
       "metadata": {},
       "output_type": "pyout",
       "prompt_number": 180,
       "text": [
        "   Emb_C  Emb_Q  Emb_S\n",
        "0      0      0      1\n",
        "1      1      0      0\n",
        "2      0      0      1\n",
        "3      0      0      1\n",
        "4      0      0      1"
       ]
      }
     ],
     "prompt_number": 180
    },
    {
     "cell_type": "code",
     "collapsed": false,
     "input": [
      "fulldf = pd.concat([kaggledf,pclassDummies,embDummy],axis=1)\n",
      "print shape(fulldf)"
     ],
     "language": "python",
     "metadata": {},
     "outputs": [
      {
       "output_type": "stream",
       "stream": "stdout",
       "text": [
        "(1309, 21)\n"
       ]
      }
     ],
     "prompt_number": 181
    },
    {
     "cell_type": "code",
     "collapsed": false,
     "input": [
      "fulldf=fulldf.rename(columns = {'Unnamed: 0':'oldIndex'})"
     ],
     "language": "python",
     "metadata": {},
     "outputs": [],
     "prompt_number": 188
    },
    {
     "cell_type": "code",
     "collapsed": false,
     "input": [
      "fulldf.columns"
     ],
     "language": "python",
     "metadata": {},
     "outputs": [
      {
       "metadata": {},
       "output_type": "pyout",
       "prompt_number": 189,
       "text": [
        "Index([u'oldIndex', u'Age', u'Cabin', u'Embarked', u'Fare', u'Name', u'Parch', u'PassengerId', u'Pclass', u'Sex', u'SibSp', u'Survived', u'Ticket', u'testset', u'missingAge', u'Pclass_1', u'Pclass_2', u'Pclass_3', u'Emb_C', u'Emb_Q', u'Emb_S'], dtype='object')"
       ]
      }
     ],
     "prompt_number": 189
    },
    {
     "cell_type": "code",
     "collapsed": false,
     "input": [
      "print fulldf.Embarked.value_counts()\n",
      "print fulldf.Pclass.value_counts()\n",
      "# desire to drop the largest class?"
     ],
     "language": "python",
     "metadata": {},
     "outputs": [
      {
       "output_type": "stream",
       "stream": "stdout",
       "text": [
        "S    914\n",
        "C    270\n",
        "Q    123\n",
        "dtype: int64\n",
        "3    709\n",
        "1    323\n",
        "2    277\n",
        "dtype: int64\n"
       ]
      }
     ],
     "prompt_number": 183
    },
    {
     "cell_type": "code",
     "collapsed": false,
     "input": [
      "cols2drop = ['Cabin','Ticket','oldIndex','PassengerId','Pclass','Pclass_3','Emb_S']\n"
     ],
     "language": "python",
     "metadata": {},
     "outputs": []
    },
    {
     "cell_type": "markdown",
     "metadata": {},
     "source": [
      "## Setting up the numpy array for analysis using sklearn\n",
      "keep only the numeric columns: Age, Fare, Parch, Sex, SibSp, Pclass_1,Pclass_2, Pclass_3, Emb_C, Emb_Q, Emb_S\n",
      "Survived is the target column"
     ]
    },
    {
     "cell_type": "code",
     "collapsed": false,
     "input": [
      "#Survived are the target values\n",
      "target = fulldf.Survived.values \n",
      "# numerical features as values\n",
      "numericalCols = ['Age','Fare','Parch','SibSp','Sex','Pclass_1','Pclass_2','Pclass_3','Emb_C','Emb_Q','Emb_S']\n",
      "numerical_features = fulldf.get(numericalCols)\n",
      "numerical_features.head()"
     ],
     "language": "python",
     "metadata": {},
     "outputs": [
      {
       "html": [
        "<div style=\"max-height:1000px;max-width:1500px;overflow:auto;\">\n",
        "<table border=\"1\" class=\"dataframe\">\n",
        "  <thead>\n",
        "    <tr style=\"text-align: right;\">\n",
        "      <th></th>\n",
        "      <th>Age</th>\n",
        "      <th>Fare</th>\n",
        "      <th>Parch</th>\n",
        "      <th>SibSp</th>\n",
        "      <th>Sex</th>\n",
        "      <th>Pclass_1</th>\n",
        "      <th>Pclass_2</th>\n",
        "      <th>Pclass_3</th>\n",
        "      <th>Emb_C</th>\n",
        "      <th>Emb_Q</th>\n",
        "      <th>Emb_S</th>\n",
        "    </tr>\n",
        "  </thead>\n",
        "  <tbody>\n",
        "    <tr>\n",
        "      <th>0</th>\n",
        "      <td> 22</td>\n",
        "      <td>  7.2500</td>\n",
        "      <td> 0</td>\n",
        "      <td> 1</td>\n",
        "      <td> 1</td>\n",
        "      <td> 0</td>\n",
        "      <td> 0</td>\n",
        "      <td> 1</td>\n",
        "      <td> 0</td>\n",
        "      <td> 0</td>\n",
        "      <td> 1</td>\n",
        "    </tr>\n",
        "    <tr>\n",
        "      <th>1</th>\n",
        "      <td> 38</td>\n",
        "      <td> 71.2833</td>\n",
        "      <td> 0</td>\n",
        "      <td> 1</td>\n",
        "      <td> 0</td>\n",
        "      <td> 1</td>\n",
        "      <td> 0</td>\n",
        "      <td> 0</td>\n",
        "      <td> 1</td>\n",
        "      <td> 0</td>\n",
        "      <td> 0</td>\n",
        "    </tr>\n",
        "    <tr>\n",
        "      <th>2</th>\n",
        "      <td> 26</td>\n",
        "      <td>  7.9250</td>\n",
        "      <td> 0</td>\n",
        "      <td> 0</td>\n",
        "      <td> 0</td>\n",
        "      <td> 0</td>\n",
        "      <td> 0</td>\n",
        "      <td> 1</td>\n",
        "      <td> 0</td>\n",
        "      <td> 0</td>\n",
        "      <td> 1</td>\n",
        "    </tr>\n",
        "    <tr>\n",
        "      <th>3</th>\n",
        "      <td> 35</td>\n",
        "      <td> 53.1000</td>\n",
        "      <td> 0</td>\n",
        "      <td> 1</td>\n",
        "      <td> 0</td>\n",
        "      <td> 1</td>\n",
        "      <td> 0</td>\n",
        "      <td> 0</td>\n",
        "      <td> 0</td>\n",
        "      <td> 0</td>\n",
        "      <td> 1</td>\n",
        "    </tr>\n",
        "    <tr>\n",
        "      <th>4</th>\n",
        "      <td> 35</td>\n",
        "      <td>  8.0500</td>\n",
        "      <td> 0</td>\n",
        "      <td> 0</td>\n",
        "      <td> 1</td>\n",
        "      <td> 0</td>\n",
        "      <td> 0</td>\n",
        "      <td> 1</td>\n",
        "      <td> 0</td>\n",
        "      <td> 0</td>\n",
        "      <td> 1</td>\n",
        "    </tr>\n",
        "  </tbody>\n",
        "</table>\n",
        "</div>"
       ],
       "metadata": {},
       "output_type": "pyout",
       "prompt_number": 190,
       "text": [
        "   Age     Fare  Parch  SibSp  Sex  Pclass_1  Pclass_2  Pclass_3  Emb_C  \\\n",
        "0   22   7.2500      0      1    1         0         0         1      0   \n",
        "1   38  71.2833      0      1    0         1         0         0      1   \n",
        "2   26   7.9250      0      0    0         0         0         1      0   \n",
        "3   35  53.1000      0      1    0         1         0         0      0   \n",
        "4   35   8.0500      0      0    1         0         0         1      0   \n",
        "\n",
        "   Emb_Q  Emb_S  \n",
        "0      0      1  \n",
        "1      0      0  \n",
        "2      0      1  \n",
        "3      0      1  \n",
        "4      0      1  "
       ]
      }
     ],
     "prompt_number": 190
    },
    {
     "cell_type": "code",
     "collapsed": false,
     "input": [
      "#numerical_features.count()\n",
      "features_array = numerical_features.values\n",
      "print shape(features_array)\n",
      "features_array.dtype"
     ],
     "language": "python",
     "metadata": {},
     "outputs": [
      {
       "output_type": "stream",
       "stream": "stdout",
       "text": [
        "(1309L, 11L)\n"
       ]
      },
      {
       "metadata": {},
       "output_type": "pyout",
       "prompt_number": 192,
       "text": [
        "dtype('float64')"
       ]
      }
     ],
     "prompt_number": 192
    },
    {
     "cell_type": "code",
     "collapsed": false,
     "input": [
      "from sklearn.cross_validation import train_test_split\n",
      "\n",
      "features_train, features_test, target_train, target_test = train_test_split(\n",
      "    features_array, target, test_size=0.20, random_state=0)\n",
      "#"
     ],
     "language": "python",
     "metadata": {},
     "outputs": [],
     "prompt_number": 193
    },
    {
     "cell_type": "code",
     "collapsed": false,
     "input": [
      "trainShape = features_train.shape\n",
      "testShape = features_test.shape\n",
      "\n",
      "print \"Training set has {0} elements and {1} features\".format(trainShape[0],trainShape[1])\n",
      "print \"Testing set has {0} elements and {1} features\".format(testShape[0],testShape[1])\n",
      "print target_train.shape"
     ],
     "language": "python",
     "metadata": {},
     "outputs": [
      {
       "output_type": "stream",
       "stream": "stdout",
       "text": [
        "Training set has 1047 elements and 11 features\n",
        "Testing set has 262 elements and 11 features\n",
        "(1047L,)\n"
       ]
      }
     ],
     "prompt_number": 195
    },
    {
     "cell_type": "markdown",
     "metadata": {},
     "source": [
      "###Begin with a simple LogRegression example"
     ]
    },
    {
     "cell_type": "code",
     "collapsed": false,
     "input": [
      "from sklearn.linear_model import LogisticRegression\n",
      "\n",
      "logreg = LogisticRegression(C=1)\n",
      "logreg.fit(features_train, target_train)"
     ],
     "language": "python",
     "metadata": {},
     "outputs": [
      {
       "metadata": {},
       "output_type": "pyout",
       "prompt_number": 196,
       "text": [
        "LogisticRegression(C=1, class_weight=None, dual=False, fit_intercept=True,\n",
        "          intercept_scaling=1, penalty='l2', random_state=None, tol=0.0001)"
       ]
      }
     ],
     "prompt_number": 196
    },
    {
     "cell_type": "code",
     "collapsed": false,
     "input": [
      "target_predicted = logreg.predict(features_test)"
     ],
     "language": "python",
     "metadata": {},
     "outputs": [],
     "prompt_number": 197
    },
    {
     "cell_type": "code",
     "collapsed": false,
     "input": [
      "from sklearn.metrics import accuracy_score\n",
      "\n",
      "accuracy_score(target_test, target_predicted)"
     ],
     "language": "python",
     "metadata": {},
     "outputs": [
      {
       "metadata": {},
       "output_type": "pyout",
       "prompt_number": 198,
       "text": [
        "0.78244274809160308"
       ]
      }
     ],
     "prompt_number": 198
    },
    {
     "cell_type": "code",
     "collapsed": false,
     "input": [
      "print \"Using these {0} features, our prediction using Log Regression is {1}\".format(trainShape[1],logreg.score(features_test, target_test))"
     ],
     "language": "python",
     "metadata": {},
     "outputs": [
      {
       "output_type": "stream",
       "stream": "stdout",
       "text": [
        "Using these 11 features, our prediction using Log Regression is 0.782442748092\n"
       ]
      }
     ],
     "prompt_number": 200
    },
    {
     "cell_type": "markdown",
     "metadata": {},
     "source": [
      "## Model evaluation and interpretation\n",
      "### Interpreting linear model weights\n",
      "The coef_ attribute of a fitted linear model such as LogisticRegression holds the weights of each features:"
     ]
    },
    {
     "cell_type": "code",
     "collapsed": false,
     "input": [
      "logreg.coef_"
     ],
     "language": "python",
     "metadata": {},
     "outputs": [
      {
       "metadata": {},
       "output_type": "pyout",
       "prompt_number": 201,
       "text": [
        "array([[-0.02972457,  0.00297198,  0.0907958 , -0.30610777, -2.37894928,\n",
        "         1.25675966,  0.47008282, -0.44969218,  0.78616046, -0.00695735,\n",
        "         0.216039  ]])"
       ]
      }
     ],
     "prompt_number": 201
    },
    {
     "cell_type": "code",
     "collapsed": false,
     "input": [
      "feature_names = numerical_features.columns\n",
      "x = np.arange(len(feature_names))\n",
      "bar(x, logreg.coef_.ravel(),color='steelblue')\n",
      "_ = xticks(x + 0.5, feature_names, rotation=30)\n",
      "grid(True)"
     ],
     "language": "python",
     "metadata": {},
     "outputs": [
      {
       "metadata": {},
       "output_type": "display_data",
       "png": "[encoded data removed]",
       "text": [
        "<matplotlib.figure.Figure at 0x1f5585c0>"
       ]
      }
     ],
     "prompt_number": 205
    },
    {
     "cell_type": "markdown",
     "metadata": {},
     "source": [
      "### Now compare this when the data has been rescalled to [0,1]"
     ]
    },
    {
     "cell_type": "code",
     "collapsed": false,
     "input": [
      "maxValues = numerical_features[['Age','Fare','Parch','SibSp']].max()\n",
      "#mxFare = numerical_features.Fare.max()\n",
      "#mx\n",
      "#numerical_features['Age']/\n"
     ],
     "language": "python",
     "metadata": {},
     "outputs": [
      {
       "metadata": {},
       "output_type": "pyout",
       "prompt_number": 207,
       "text": [
        "Age       80.0000\n",
        "Fare     512.3292\n",
        "Parch      9.0000\n",
        "SibSp      8.0000\n",
        "dtype: float64"
       ]
      }
     ],
     "prompt_number": 207
    },
    {
     "cell_type": "code",
     "collapsed": false,
     "input": [
      "normed_features = numerical_features[['Age','Fare','Parch','SibSp']]/maxValues\n",
      "normed_features = pd.concat([normed_features,numerical_features[['Sex','Pclass_1','Pclass_2','Pclass_3','Emb_C','Emb_Q','Emb_S']]],axis=1)\n",
      "print normed_features.shape\n",
      "normed_features.describe()"
     ],
     "language": "python",
     "metadata": {},
     "outputs": [
      {
       "output_type": "stream",
       "stream": "stdout",
       "text": [
        "(1309, 11)\n"
       ]
      },
      {
       "html": [
        "<div style=\"max-height:1000px;max-width:1500px;overflow:auto;\">\n",
        "<table border=\"1\" class=\"dataframe\">\n",
        "  <thead>\n",
        "    <tr style=\"text-align: right;\">\n",
        "      <th></th>\n",
        "      <th>Age</th>\n",
        "      <th>Fare</th>\n",
        "      <th>Parch</th>\n",
        "      <th>SibSp</th>\n",
        "      <th>Sex</th>\n",
        "      <th>Pclass_1</th>\n",
        "      <th>Pclass_2</th>\n",
        "      <th>Pclass_3</th>\n",
        "      <th>Emb_C</th>\n",
        "      <th>Emb_Q</th>\n",
        "      <th>Emb_S</th>\n",
        "    </tr>\n",
        "  </thead>\n",
        "  <tbody>\n",
        "    <tr>\n",
        "      <th>count</th>\n",
        "      <td> 1309.000000</td>\n",
        "      <td> 1309.000000</td>\n",
        "      <td> 1309.000000</td>\n",
        "      <td> 1309.000000</td>\n",
        "      <td> 1309.000000</td>\n",
        "      <td> 1309.000000</td>\n",
        "      <td> 1309.000000</td>\n",
        "      <td> 1309.000000</td>\n",
        "      <td> 1309.000000</td>\n",
        "      <td> 1309.000000</td>\n",
        "      <td> 1309.000000</td>\n",
        "    </tr>\n",
        "    <tr>\n",
        "      <th>mean</th>\n",
        "      <td>    0.365094</td>\n",
        "      <td>    0.064951</td>\n",
        "      <td>    0.042781</td>\n",
        "      <td>    0.062357</td>\n",
        "      <td>    0.644003</td>\n",
        "      <td>    0.246753</td>\n",
        "      <td>    0.211612</td>\n",
        "      <td>    0.541635</td>\n",
        "      <td>    0.206264</td>\n",
        "      <td>    0.093965</td>\n",
        "      <td>    0.698243</td>\n",
        "    </tr>\n",
        "    <tr>\n",
        "      <th>std</th>\n",
        "      <td>    0.164655</td>\n",
        "      <td>    0.100997</td>\n",
        "      <td>    0.096173</td>\n",
        "      <td>    0.130207</td>\n",
        "      <td>    0.478997</td>\n",
        "      <td>    0.431287</td>\n",
        "      <td>    0.408607</td>\n",
        "      <td>    0.498454</td>\n",
        "      <td>    0.404777</td>\n",
        "      <td>    0.291891</td>\n",
        "      <td>    0.459196</td>\n",
        "    </tr>\n",
        "    <tr>\n",
        "      <th>min</th>\n",
        "      <td>    0.002125</td>\n",
        "      <td>    0.000000</td>\n",
        "      <td>    0.000000</td>\n",
        "      <td>    0.000000</td>\n",
        "      <td>    0.000000</td>\n",
        "      <td>    0.000000</td>\n",
        "      <td>    0.000000</td>\n",
        "      <td>    0.000000</td>\n",
        "      <td>    0.000000</td>\n",
        "      <td>    0.000000</td>\n",
        "      <td>    0.000000</td>\n",
        "    </tr>\n",
        "    <tr>\n",
        "      <th>25%</th>\n",
        "      <td>    0.275000</td>\n",
        "      <td>    0.015412</td>\n",
        "      <td>    0.000000</td>\n",
        "      <td>    0.000000</td>\n",
        "      <td>    0.000000</td>\n",
        "      <td>    0.000000</td>\n",
        "      <td>    0.000000</td>\n",
        "      <td>    0.000000</td>\n",
        "      <td>    0.000000</td>\n",
        "      <td>    0.000000</td>\n",
        "      <td>    0.000000</td>\n",
        "    </tr>\n",
        "    <tr>\n",
        "      <th>50%</th>\n",
        "      <td>    0.325000</td>\n",
        "      <td>    0.028213</td>\n",
        "      <td>    0.000000</td>\n",
        "      <td>    0.000000</td>\n",
        "      <td>    1.000000</td>\n",
        "      <td>    0.000000</td>\n",
        "      <td>    0.000000</td>\n",
        "      <td>    1.000000</td>\n",
        "      <td>    0.000000</td>\n",
        "      <td>    0.000000</td>\n",
        "      <td>    1.000000</td>\n",
        "    </tr>\n",
        "    <tr>\n",
        "      <th>75%</th>\n",
        "      <td>    0.462500</td>\n",
        "      <td>    0.061045</td>\n",
        "      <td>    0.000000</td>\n",
        "      <td>    0.125000</td>\n",
        "      <td>    1.000000</td>\n",
        "      <td>    0.000000</td>\n",
        "      <td>    0.000000</td>\n",
        "      <td>    1.000000</td>\n",
        "      <td>    0.000000</td>\n",
        "      <td>    0.000000</td>\n",
        "      <td>    1.000000</td>\n",
        "    </tr>\n",
        "    <tr>\n",
        "      <th>max</th>\n",
        "      <td>    1.000000</td>\n",
        "      <td>    1.000000</td>\n",
        "      <td>    1.000000</td>\n",
        "      <td>    1.000000</td>\n",
        "      <td>    1.000000</td>\n",
        "      <td>    1.000000</td>\n",
        "      <td>    1.000000</td>\n",
        "      <td>    1.000000</td>\n",
        "      <td>    1.000000</td>\n",
        "      <td>    1.000000</td>\n",
        "      <td>    1.000000</td>\n",
        "    </tr>\n",
        "  </tbody>\n",
        "</table>\n",
        "</div>"
       ],
       "metadata": {},
       "output_type": "pyout",
       "prompt_number": 213,
       "text": [
        "               Age         Fare        Parch        SibSp          Sex  \\\n",
        "count  1309.000000  1309.000000  1309.000000  1309.000000  1309.000000   \n",
        "mean      0.365094     0.064951     0.042781     0.062357     0.644003   \n",
        "std       0.164655     0.100997     0.096173     0.130207     0.478997   \n",
        "min       0.002125     0.000000     0.000000     0.000000     0.000000   \n",
        "25%       0.275000     0.015412     0.000000     0.000000     0.000000   \n",
        "50%       0.325000     0.028213     0.000000     0.000000     1.000000   \n",
        "75%       0.462500     0.061045     0.000000     0.125000     1.000000   \n",
        "max       1.000000     1.000000     1.000000     1.000000     1.000000   \n",
        "\n",
        "          Pclass_1     Pclass_2     Pclass_3        Emb_C        Emb_Q  \\\n",
        "count  1309.000000  1309.000000  1309.000000  1309.000000  1309.000000   \n",
        "mean      0.246753     0.211612     0.541635     0.206264     0.093965   \n",
        "std       0.431287     0.408607     0.498454     0.404777     0.291891   \n",
        "min       0.000000     0.000000     0.000000     0.000000     0.000000   \n",
        "25%       0.000000     0.000000     0.000000     0.000000     0.000000   \n",
        "50%       0.000000     0.000000     1.000000     0.000000     0.000000   \n",
        "75%       0.000000     0.000000     1.000000     0.000000     0.000000   \n",
        "max       1.000000     1.000000     1.000000     1.000000     1.000000   \n",
        "\n",
        "             Emb_S  \n",
        "count  1309.000000  \n",
        "mean      0.698243  \n",
        "std       0.459196  \n",
        "min       0.000000  \n",
        "25%       0.000000  \n",
        "50%       1.000000  \n",
        "75%       1.000000  \n",
        "max       1.000000  "
       ]
      }
     ],
     "prompt_number": 213
    },
    {
     "cell_type": "code",
     "collapsed": false,
     "input": [
      "features_array = normed_features.values\n",
      "features_train, features_test, target_train, target_test = train_test_split(\n",
      "    features_array, target, test_size=0.20, random_state=0)"
     ],
     "language": "python",
     "metadata": {},
     "outputs": [],
     "prompt_number": 214
    },
    {
     "cell_type": "code",
     "collapsed": false,
     "input": [
      "logregN = LogisticRegression(C=1)\n",
      "logregN.fit(features_train, target_train)\n",
      "target_predicted_normed = logregN.predict(features_test)\n",
      "\n",
      "print \"Using these {0} (normed) features, our prediction using Log Regression is {1}\".format(trainShape[1],logregN.score(features_test, target_test))"
     ],
     "language": "python",
     "metadata": {},
     "outputs": [
      {
       "output_type": "stream",
       "stream": "stdout",
       "text": [
        "Using these 11 (normed) features, our prediction using Log Regression is 0.774809160305\n"
       ]
      }
     ],
     "prompt_number": 215
    },
    {
     "cell_type": "code",
     "collapsed": false,
     "input": [
      "#feature_names = numerical_features.columns\n",
      "#x = np.arange(len(feature_names))\n",
      "bar(x, logregN.coef_.ravel(),color='chartreuse')\n",
      "_ = xticks(x + 0.5, feature_names, rotation=30)\n",
      "grid(True)"
     ],
     "language": "python",
     "metadata": {},
     "outputs": [
      {
       "metadata": {},
       "output_type": "display_data",
       "png": "[encoded data removed]",
       "text": [
        "<matplotlib.figure.Figure at 0x1736a710>"
       ]
      }
     ],
     "prompt_number": 216
    },
    {
     "cell_type": "markdown",
     "metadata": {},
     "source": [
      "### Alternative evaluation metrics\n",
      "It is possible to see the details of the false positive and false negative errors by computing the confusion matrix:"
     ]
    },
    {
     "cell_type": "code",
     "collapsed": false,
     "input": [
      "from sklearn.metrics import confusion_matrix\n",
      "\n",
      "cmN = confusion_matrix(target_test, target_predicted_normed)\n",
      "print(cmN)"
     ],
     "language": "python",
     "metadata": {},
     "outputs": [
      {
       "output_type": "stream",
       "stream": "stdout",
       "text": [
        "[[113  28]\n",
        " [ 31  90]]\n"
       ]
      }
     ],
     "prompt_number": 218
    },
    {
     "cell_type": "code",
     "collapsed": false,
     "input": [
      "cm = confusion_matrix(target_test, target_predicted)\n",
      "print (cm)"
     ],
     "language": "python",
     "metadata": {},
     "outputs": [
      {
       "output_type": "stream",
       "stream": "stdout",
       "text": [
        "[[117  24]\n",
        " [ 33  88]]\n"
       ]
      }
     ],
     "prompt_number": 219
    },
    {
     "cell_type": "code",
     "collapsed": false,
     "input": [
      "def plot_confusion(cm):\n",
      "    plt.imshow(cm, interpolation='nearest', cmap=plt.cm.binary)\n",
      "    plt.title('Confusion matrix')\n",
      "    plt.set_cmap('Blues')\n",
      "    plt.colorbar()\n",
      "\n",
      "    target_names = ['not survived', 'survived']\n",
      "\n",
      "    tick_marks = np.arange(len(target_names))\n",
      "    plt.xticks(tick_marks, target_names, rotation=60)\n",
      "    plt.yticks(tick_marks, target_names)\n",
      "    plt.ylabel('True label')\n",
      "    plt.xlabel('Predicted label')\n",
      "    # Convenience function to adjust plot parameters for a clear layout.\n",
      "    plt.tight_layout()\n",
      "    \n",
      "plot_confusion(cm)"
     ],
     "language": "python",
     "metadata": {},
     "outputs": [
      {
       "metadata": {},
       "output_type": "display_data",
       "png": "[encoded data removed]",
       "text": [
        "<matplotlib.figure.Figure at 0x1f40a0f0>"
       ]
      }
     ],
     "prompt_number": 220
    },
    {
     "cell_type": "code",
     "collapsed": false,
     "input": [
      "plot_confusion(cmN)"
     ],
     "language": "python",
     "metadata": {},
     "outputs": [
      {
       "metadata": {},
       "output_type": "display_data",
       "png": "[encoded data removed]",
       "text": [
        "<matplotlib.figure.Figure at 0x1af07b00>"
       ]
      }
     ],
     "prompt_number": 221
    },
    {
     "cell_type": "code",
     "collapsed": false,
     "input": [
      "print(cm.astype(np.float64) / cm.sum(axis=1))\n",
      "print(cmN.astype(np.float64) / cmN.sum(axis=1))"
     ],
     "language": "python",
     "metadata": {},
     "outputs": [
      {
       "output_type": "stream",
       "stream": "stdout",
       "text": [
        "[[ 0.82978723  0.19834711]\n",
        " [ 0.23404255  0.72727273]]\n",
        "[[ 0.80141844  0.23140496]\n",
        " [ 0.21985816  0.74380165]]\n"
       ]
      }
     ],
     "prompt_number": 222
    },
    {
     "cell_type": "markdown",
     "metadata": {},
     "source": [
      "\n",
      "We can therefore observe that the fact that the target classes are not balanced in the dataset makes the accuracy score not very informative.\n",
      "\n",
      "scikit-learn provides alternative classification metrics to evaluate models performance on imbalanced data such as precision, recall and f1 score:"
     ]
    },
    {
     "cell_type": "code",
     "collapsed": false,
     "input": [
      "from sklearn.metrics import classification_report\n",
      "\n",
      "print(classification_report(target_test, target_predicted,\n",
      "                            target_names=['not survived', 'survived']))"
     ],
     "language": "python",
     "metadata": {},
     "outputs": [
      {
       "output_type": "stream",
       "stream": "stdout",
       "text": [
        "              precision    recall  f1-score   support\n",
        "\n",
        "not survived       0.78      0.83      0.80       141\n",
        "    survived       0.79      0.73      0.76       121\n",
        "\n",
        " avg / total       0.78      0.78      0.78       262\n",
        "\n"
       ]
      }
     ],
     "prompt_number": 223
    },
    {
     "cell_type": "code",
     "collapsed": false,
     "input": [
      "print(classification_report(target_test, target_predicted_normed, \n",
      "                            target_names=['not survived', 'survived']))"
     ],
     "language": "python",
     "metadata": {},
     "outputs": [
      {
       "output_type": "stream",
       "stream": "stdout",
       "text": [
        "              precision    recall  f1-score   support\n",
        "\n",
        "not survived       0.78      0.80      0.79       141\n",
        "    survived       0.76      0.74      0.75       121\n",
        "\n",
        " avg / total       0.77      0.77      0.77       262\n",
        "\n"
       ]
      }
     ],
     "prompt_number": 224
    },
    {
     "cell_type": "markdown",
     "metadata": {},
     "source": [
      "## Now utilize the fact that logistic regression is not a binary predictor"
     ]
    },
    {
     "cell_type": "code",
     "collapsed": false,
     "input": [
      "target_predicted_proba = logreg.predict_proba(features_test)\n",
      "target_predicted_proba_Norm = logregN.predict_proba(features_test)"
     ],
     "language": "python",
     "metadata": {},
     "outputs": [],
     "prompt_number": 225
    },
    {
     "cell_type": "markdown",
     "metadata": {},
     "source": [
      "##Plot results in a ROC curve"
     ]
    },
    {
     "cell_type": "code",
     "collapsed": false,
     "input": [
      "from sklearn.metrics import roc_curve\n",
      "from sklearn.metrics import auc\n",
      "\n",
      "def plot_roc_curve(target_test, target_predicted_proba):\n",
      "    fpr, tpr, thresholds = roc_curve(target_test, target_predicted_proba[:, 1])\n",
      "    \n",
      "    roc_auc = auc(fpr, tpr)\n",
      "    # Plot ROC curve\n",
      "    plt.plot(fpr, tpr, label='ROC curve (area = %0.3f)' % roc_auc)\n",
      "    plt.plot([0, 1], [0, 1], 'k--')  # random predictions curve\n",
      "    plt.xlim([0.0, 1.0])\n",
      "    plt.ylim([0.0, 1.0])\n",
      "    plt.xlabel('False Positive Rate or (1 - Specifity)')\n",
      "    plt.ylabel('True Positive Rate or (Sensitivity)')\n",
      "    plt.title('Receiver Operating Characteristic')\n",
      "    plt.legend(loc=\"lower right\")"
     ],
     "language": "python",
     "metadata": {},
     "outputs": [],
     "prompt_number": 226
    },
    {
     "cell_type": "code",
     "collapsed": false,
     "input": [
      "plot_roc_curve(target_test, target_predicted_proba)"
     ],
     "language": "python",
     "metadata": {},
     "outputs": [
      {
       "metadata": {},
       "output_type": "display_data",
       "png": "[encoded data removed]",
       "text": [
        "<matplotlib.figure.Figure at 0x1b19d668>"
       ]
      }
     ],
     "prompt_number": 227
    },
    {
     "cell_type": "code",
     "collapsed": false,
     "input": [
      "plot_roc_curve(target_test, target_predicted_proba_Norm)"
     ],
     "language": "python",
     "metadata": {},
     "outputs": [
      {
       "metadata": {},
       "output_type": "display_data",
       "png": "[encoded data removed]",
       "text": [
        "<matplotlib.figure.Figure at 0x1ac69940>"
       ]
      }
     ],
     "prompt_number": 228
    },
    {
     "cell_type": "code",
     "collapsed": false,
     "input": [
      "%%time\n",
      "\n",
      "from sklearn.cross_validation import cross_val_score\n",
      "\n",
      "logregV = LogisticRegression(C=1)\n",
      "scores = cross_val_score(logregV, features_array , target, cv=5, scoring='accuracy')\n",
      "print(\"Logistic Regression CV scores:\")\n",
      "print(\"min: {:.3f}, mean: {:.3f}, max: {:.3f}\".format(\n",
      "    scores.min(), scores.mean(), scores.max()))"
     ],
     "language": "python",
     "metadata": {},
     "outputs": [
      {
       "output_type": "stream",
       "stream": "stdout",
       "text": [
        "Logistic Regression CV scores:\n",
        "min: 0.771, mean: 0.785, max: 0.802\n",
        "Wall time: 24 ms\n"
       ]
      }
     ],
     "prompt_number": 230
    },
    {
     "cell_type": "markdown",
     "metadata": {},
     "source": [
      "### Training Non-linear models: ensembles of randomized trees\n",
      "sklearn also implement non linear models that are known to perform very well for data-science projects where datasets have not too many features (e.g. less than 5000).\n",
      "\n",
      "In particular let us have a look at Random Forests and Gradient Boosted Trees:"
     ]
    },
    {
     "cell_type": "code",
     "collapsed": false,
     "input": [
      "%%time\n",
      "from sklearn.ensemble import RandomForestClassifier\n",
      "\n",
      "rf = RandomForestClassifier(n_estimators=100)\n",
      "scores = cross_val_score(rf, features_array, target, cv=5, n_jobs=4,\n",
      "                         scoring='accuracy')\n",
      "print(\"Random Forest CV scores:\")\n",
      "print(\"min: {:.3f}, mean: {:.3f}, max: {:.3f}\".format(\n",
      "    scores.min(), scores.mean(), scores.max()))"
     ],
     "language": "python",
     "metadata": {},
     "outputs": [
      {
       "output_type": "stream",
       "stream": "stdout",
       "text": [
        "Random Forest CV scores:\n",
        "min: 0.737, mean: 0.782, max: 0.828\n",
        "Wall time: 1.8 s\n"
       ]
      }
     ],
     "prompt_number": 231
    },
    {
     "cell_type": "code",
     "collapsed": false,
     "input": [
      "%%time\n",
      "from sklearn.ensemble import GradientBoostingClassifier\n",
      "\n",
      "gb = GradientBoostingClassifier(n_estimators=1000, learning_rate=0.1,\n",
      "                                subsample=.8, max_features=.5)\n",
      "scores = cross_val_score(gb, features_array, target, cv=5, n_jobs=4,\n",
      "                         scoring='accuracy')\n",
      "print(\"Gradient Boosted Trees CV scores:\")\n",
      "print(\"min: {:.3f}, mean: {:.3f}, max: {:.3f}\".format(\n",
      "    scores.min(), scores.mean(), scores.max()))"
     ],
     "language": "python",
     "metadata": {},
     "outputs": [
      {
       "output_type": "stream",
       "stream": "stdout",
       "text": [
        "Gradient Boosted Trees CV scores:\n",
        "min: 0.767, mean: 0.791, max: 0.840\n",
        "Wall time: 3.78 s\n"
       ]
      }
     ],
     "prompt_number": 235
    },
    {
     "cell_type": "code",
     "collapsed": false,
     "input": [
      "scores"
     ],
     "language": "python",
     "metadata": {},
     "outputs": [
      {
       "metadata": {},
       "output_type": "pyout",
       "prompt_number": 236,
       "text": [
        "array([ 0.77480916,  0.80152672,  0.83969466,  0.76717557,  0.77394636])"
       ]
      }
     ],
     "prompt_number": 236
    },
    {
     "cell_type": "code",
     "collapsed": false,
     "input": [
      "gb.fit(features_train,target_train)\n",
      "bar(x,gb.feature_importances_.ravel())\n",
      "xticks(x + 0.5, feature_names, rotation=30)"
     ],
     "language": "python",
     "metadata": {},
     "outputs": [
      {
       "metadata": {},
       "output_type": "pyout",
       "prompt_number": 241,
       "text": [
        "([<matplotlib.axis.XTick at 0x19c927b8>,\n",
        "  <matplotlib.axis.XTick at 0x1b11f1d0>,\n",
        "  <matplotlib.axis.XTick at 0x1b291940>,\n",
        "  <matplotlib.axis.XTick at 0x1abb5780>,\n",
        "  <matplotlib.axis.XTick at 0x1ab475f8>,\n",
        "  <matplotlib.axis.XTick at 0x1ab47080>,\n",
        "  <matplotlib.axis.XTick at 0x1b2a2710>,\n",
        "  <matplotlib.axis.XTick at 0x1b2a2e80>,\n",
        "  <matplotlib.axis.XTick at 0x1a0fe080>,\n",
        "  <matplotlib.axis.XTick at 0x1a0fe320>,\n",
        "  <matplotlib.axis.XTick at 0x1a0fe048>],\n",
        " <a list of 11 Text xticklabel objects>)"
       ]
      },
      {
       "metadata": {},
       "output_type": "display_data",
       "png": "[encoded data removed]",
       "text": [
        "<matplotlib.figure.Figure at 0x1b88c1d0>"
       ]
      }
     ],
     "prompt_number": 241
    },
    {
     "cell_type": "code",
     "collapsed": false,
     "input": [
      "from sklearn.ensemble import RandomForestRegressor\n",
      "rfr = RandomForestRegressor(n_estimators=1000)\n",
      "#target_predicted_proba_Norm = logregN.predict_proba(features_test)\n",
      "scores = "
     ],
     "language": "python",
     "metadata": {},
     "outputs": []
    },
    {
     "cell_type": "code",
     "collapsed": false,
     "input": [],
     "language": "python",
     "metadata": {},
     "outputs": []
    },
    {
     "cell_type": "code",
     "collapsed": false,
     "input": [
      "#drop Cabin & Ticket from table\n",
      "kaggledf.drop(['Cabin','Ticket'],axis=1,inplace=True)"
     ],
     "language": "python",
     "metadata": {},
     "outputs": []
    },
    {
     "cell_type": "code",
     "collapsed": false,
     "input": [
      "import pandas as pd\n",
      "import numpy as np\n",
      "import statsmodels.api as sm\n",
      "\n",
      "#from statsmodels.nonparametric import KDE, smoothers_lowess\n",
      "#from pandas import Series, DataFrame\n",
      "from patsy import dmatrices\n",
      "from sklearn import datasets, svm"
     ],
     "language": "python",
     "metadata": {},
     "outputs": []
    },
    {
     "cell_type": "code",
     "collapsed": false,
     "input": [],
     "language": "python",
     "metadata": {},
     "outputs": []
    },
    {
     "cell_type": "code",
     "collapsed": false,
     "input": [],
     "language": "python",
     "metadata": {},
     "outputs": []
    },
    {
     "cell_type": "code",
     "collapsed": false,
     "input": [],
     "language": "python",
     "metadata": {},
     "outputs": []
    },
    {
     "cell_type": "code",
     "collapsed": false,
     "input": [
      "# deal with missing values (omitting ticket & cabin from consideration)\n",
      "df = df.drop(['Ticket','Cabin'],axis=1)\n",
      "#df = df.dropna() #remove NaN values\n",
      "# also drop the passengerID\n",
      "df = df.drop(['PassengerId'],axis=1)"
     ],
     "language": "python",
     "metadata": {},
     "outputs": []
    },
    {
     "cell_type": "code",
     "collapsed": false,
     "input": [
      "from sklearn import datasets, svm"
     ],
     "language": "python",
     "metadata": {},
     "outputs": []
    },
    {
     "cell_type": "code",
     "collapsed": false,
     "input": [
      "df = kaggledf[kaggledf.testset==0].copy()\n",
      "df.drop(['PassengerId','testset'],axis=1,inplace=True)"
     ],
     "language": "python",
     "metadata": {},
     "outputs": []
    },
    {
     "cell_type": "code",
     "collapsed": false,
     "input": [
      "# Examine how many are missing in each column\n",
      "for c in df.columns:\n",
      "    print \"For column {0}, there are {1} missing items.\".format(c, sum(df[c].isnull()))"
     ],
     "language": "python",
     "metadata": {},
     "outputs": []
    },
    {
     "cell_type": "code",
     "collapsed": false,
     "input": [
      "# repeat using the full dataset\n",
      "df = kaggledf.copy()\n",
      "df.drop(['PassengerId','testset'],axis=1,inplace=True)\n",
      "# Examine how many are missing in each column\n",
      "for c in df.columns:\n",
      "    print \"For column {0}, there are {1} missing items.\".format(c, sum(df[c].isnull()))"
     ],
     "language": "python",
     "metadata": {},
     "outputs": []
    },
    {
     "cell_type": "heading",
     "level": 2,
     "metadata": {},
     "source": [
      "Exploratory Visualization:"
     ]
    },
    {
     "cell_type": "raw",
     "metadata": {},
     "source": [
      "The point of this competition is to predict if an individual will survive based on the features in the data like:\n",
      "* Traveling Class (pclass)\n",
      "* Sex\n",
      "* Age\n",
      "* Fare Price\n",
      "\n",
      "Look more closely at who survived and who died.\n",
      "\n",
      "First plot of those who survived vs those who did not."
     ]
    },
    {
     "cell_type": "code",
     "collapsed": false,
     "input": [
      "figure(figsize(6,4))\n",
      "df.Survived.value_counts().plot(kind='barh', color=\"cadetblue\", alpha=.65)\n",
      "title(\"Survival Breakdown (1= survived, 0 = Died)\")"
     ],
     "language": "python",
     "metadata": {},
     "outputs": []
    },
    {
     "cell_type": "heading",
     "level": 2,
     "metadata": {},
     "source": [
      "TEASE more structure out of the data:\n",
      "1. Breakdown by gender"
     ]
    },
    {
     "cell_type": "code",
     "collapsed": false,
     "input": [
      "fig = figure(figsize=(18,6))\n",
      "\n",
      "#create a plot of two subsets, male and female, of the survived variable.\n",
      "#After we do that we call value_counts() so it can be easily plotted as a bar graph. \n",
      "#'barh' is just a horizontal bar graph\n",
      "fig.add_subplot(121)\n",
      "df.Survived[df.Sex == 1].value_counts().plot(kind='barh',label='Male')\n",
      "df.Survived[df.Sex == 0].value_counts().plot(kind='barh', color='#FA2379',label='Female')\n",
      "title(\"Who Survied? with respect to Gender, (raw value counts) \"); legend(loc='best')\n",
      "\n",
      "#adjust graph to display the proportions of survival by gender\n",
      "fig.add_subplot(122)\n",
      "(df.Survived[df.Sex == 1].value_counts()/float(df.Sex[df.Sex == 1].size)).plot(kind='barh',label='Male')  \n",
      "(df.Survived[df.Sex == 0].value_counts()/float(df.Sex[df.Sex == 0].size)).plot(kind='barh', color='#FA2379',label='Female')\n",
      "title(\"Who Survied proportionally? with respect to Gender\"); legend(loc='best')"
     ],
     "language": "python",
     "metadata": {},
     "outputs": []
    },
    {
     "cell_type": "markdown",
     "metadata": {},
     "source": [
      "##Great! But let\u2019s go down even further:\n",
      "\n",
      "Can we capture more of the structure by using plass? Here we will bucket classes as lowest class or any of the high classes (classes 1 - 2). 3 is lowest class. Let\u2019s break it down by Gender and what Class they were traveling in."
     ]
    },
    {
     "cell_type": "code",
     "collapsed": false,
     "input": [
      "fig=plt.figure(figsize=(18,4), dpi=1600)\n",
      "a=.65 # our alpha or opacity level.\n",
      "\n",
      "\n",
      "# building on the previous code, here we create an additional subset with in the gender subset we created for the survived variable. \n",
      "# I know, thats a lot of subsets. After we do that we call value_counts() so it it can be easily plotted as a bar graph. \n",
      "# this is repeated for each gender class pair.\n",
      "ax1=fig.add_subplot(141)\n",
      "df.survived[df.sex == 'female'][df.pclass != 3].value_counts().plot(kind='bar', label='female highclass', color='#FA2479', alpha=a)\n",
      "ax1.set_xticklabels([\"Survived\", \"Died\"], rotation=0)\n",
      "title(\"Who Survied? with respect to Gender and Class\"); legend(loc='best')\n",
      "\n",
      "ax2=fig.add_subplot(142, sharey=ax1)\n",
      "df.survived[df.sex == 'female'][df.pclass == 3].value_counts().plot(kind='bar', label='female, low class', color='pink', alpha=a)\n",
      "ax2.set_xticklabels([\"Died\",\"Survived\"], rotation=0)\n",
      "legend(loc='best')\n",
      "\n",
      "ax3=fig.add_subplot(143, sharey=ax1)\n",
      "df.survived[df.sex == 'male'][df.pclass == 3].value_counts().plot(kind='bar', label='male, low class',color='lightblue', alpha=a)\n",
      "ax3.set_xticklabels([\"Died\",\"Survived\"], rotation=0)\n",
      "legend(loc='best')\n",
      "\n",
      "ax4=fig.add_subplot(144, sharey=ax1)\n",
      "df.survived[df.sex == 'male'][df.pclass != 3].value_counts().plot(kind='bar', label='male highclass', alpha=a, color='steelblue')\n",
      "ax4.set_xticklabels([\"Died\",\"Survived\"], rotation=0)\n",
      "legend(loc='best')"
     ],
     "language": "python",
     "metadata": {},
     "outputs": []
    },
    {
     "cell_type": "raw",
     "metadata": {},
     "source": [
      "Awesome! Now we have a lot more information on who survived and died in the tragedy. With this deeper understanding, we are better equipped to create better more insightful models. This is a typical process in interactive data analysis. First you start small and understand the most basic relationships and slowly increment the complexity of your analysis as you discover more and more about the data you\u2019re working with. Below is the progression of process laid out together:"
     ]
    },
    {
     "cell_type": "code",
     "collapsed": false,
     "input": [
      "fig=plt.figure(figsize(18,12), dpi=1600)\n",
      "a=0.65\n",
      "# Step 1\n",
      "fig.add_subplot(341)\n",
      "df.survived.value_counts().plot(kind='bar', color=\"blue\", alpha=a)\n",
      "title(\"Step. 1\")\n",
      "\n",
      "# Step 2\n",
      "fig.add_subplot(345)\n",
      "df.survived[df.sex == 'male'].value_counts().plot(kind='bar',label='Male')\n",
      "df.survived[df.sex == 'female'].value_counts().plot(kind='bar', color='#FA2379',label='Female')\n",
      "title(\"Step. 2 \\nWho Survied? with respect to Gender.\"); legend(loc='best')\n",
      "\n",
      "fig.add_subplot(346)\n",
      "(df.survived[df.sex == 'male'].value_counts()/float(df.sex[df.sex == 'male'].size)).plot(kind='bar',label='Male')\n",
      "(df.survived[df.sex == 'female'].value_counts()/float(df.sex[df.sex == 'female'].size)).plot(kind='bar', color='#FA2379',label='Female')\n",
      "title(\"Who Survied proportionally?\"); legend(loc='best')\n",
      "\n",
      "\n",
      "#Step 3\n",
      "ax1=fig.add_subplot(349)\n",
      "df.survived[df.sex == 'female'][df.pclass != 3].value_counts().plot(kind='bar', label='female highclass', color='#FA2479', alpha=a)\n",
      "ax1.set_xticklabels([\"Survived\", \"Died\"], rotation=0)\n",
      "title(\"Step. 3\"); legend(loc='best')\n",
      "\n",
      "\n",
      "ax2=fig.add_subplot(3,4,10, sharey=ax1)\n",
      "df.survived[df.sex=='female'][df.pclass==3].value_counts().plot(kind='bar', label='female, low class', color='pink', alpha=a)\n",
      "ax2.set_xticklabels([\"Died\",\"Survived\"], rotation=0)\n",
      "legend(loc='best')\n",
      "\n",
      "ax3=fig.add_subplot(3,4,11, sharey=ax1)\n",
      "df.survived[df.sex == 'male'][df.pclass == 3].value_counts().plot(kind='bar', label='male, low class',color='lightblue', alpha=a)\n",
      "ax3.set_xticklabels([\"Died\",\"Survived\"], rotation=0)\n",
      "legend(loc='best')\n",
      "\n",
      "ax4=fig.add_subplot(3,4,12, sharey=ax1)\n",
      "df.survived[df.sex == 'male'][df.pclass != 3].value_counts().plot(kind='bar', label='male highclass', alpha=a, color='steelblue')\n",
      "ax4.set_xticklabels([\"Died\",\"Survived\"], rotation=0)\n",
      "legend(loc='best')"
     ],
     "language": "python",
     "metadata": {},
     "outputs": []
    },
    {
     "cell_type": "raw",
     "metadata": {},
     "source": [
      "Now that we have a basic understanding of what we are trying to predict, let\u2019s predict it."
     ]
    },
    {
     "cell_type": "heading",
     "level": 1,
     "metadata": {},
     "source": [
      "Supervised Machine Learning"
     ]
    },
    {
     "cell_type": "heading",
     "level": 2,
     "metadata": {},
     "source": [
      "Logistic Regression:"
     ]
    },
    {
     "cell_type": "raw",
     "metadata": {},
     "source": [
      "A logistic regression follows the all steps we took above but mathematically calculates the cutoff, or decision boundary (as stats nerds call it), for you. This way it can figure out the best cut off to choose, perhaps 50% or 51.84%, that most accurately represents the training data.\n",
      "\n",
      "The three cells below show the process of creating our Logitist regression model, training it on the data, and examining its performance.\n",
      "\n",
      "First, we define our formula for our Logit regression. In the next cell we create a regression friendly dataframe that sets up boolean values for the categorical variables in our formula and lets our regression model know the types of inputs we're giving it. The model is then instantiated and fitted before a summary of the model's performance is printed. In the last cell we graphically compare the predictions of our model to the actual values we are trying to predict, as well as the residual errors from our model to check for any structure we may have missed."
     ]
    },
    {
     "cell_type": "code",
     "collapsed": false,
     "input": [
      "# model formula\n",
      "formula = 'survived ~ C(pclass) + C(sex) + age + sibsp + C(embarked)' # here the ~ sign is an = sign, and the features of our dataset\n",
      "                                                                      # are written as a formula to predict survived. The C() lets our \n",
      "                                                                      # regression know that those variables are categorical.\n",
      "results = {} # create a results dictionary to hold our regression results for easy analysis later\n"
     ],
     "language": "python",
     "metadata": {},
     "outputs": []
    },
    {
     "cell_type": "code",
     "collapsed": false,
     "input": [
      "# create a regression freindly dataframe using patsy's dmatrices function\n",
      "y,x = dmatrices(formula, data=df, return_type='dataframe')\n",
      "\n",
      "# instantiate our model\n",
      "model = sm.Logit(y,x)\n",
      "\n",
      "# fit our model to the training data\n",
      "res = model.fit()\n",
      "\n",
      "# save the result for outputing predictions later\n",
      "results['Logit'] = [res, formula]\n",
      "res.summary()"
     ],
     "language": "python",
     "metadata": {},
     "outputs": []
    },
    {
     "cell_type": "code",
     "collapsed": false,
     "input": [
      "# Plot Predictions Vs Actual\n",
      "plt.figure(figsize(18,4));\n",
      "plt.subplot(121, axisbg=\"#DBDBDB\")\n",
      "# generate predictions from our fitted model\n",
      "ypred = res.predict(x)\n",
      "plt.plot(x.index, ypred, 'bo', x.index, y, 'mo', alpha=.25);\n",
      "plt.grid(color='white', linestyle='dashed')\n",
      "plt.title('Logit predictions, Blue: \\nFitted/predicted values: Red');\n",
      "\n",
      "# Residuals\n",
      "plt.subplot(122, axisbg=\"#DBDBDB\")\n",
      "plt.plot(res.resid, 'r-')\n",
      "plt.grid(color='white', linestyle='dashed')\n",
      "plt.title('Logit Residuals');"
     ],
     "language": "python",
     "metadata": {},
     "outputs": []
    },
    {
     "cell_type": "heading",
     "level": 2,
     "metadata": {},
     "source": [
      "So how well did this work? "
     ]
    },
    {
     "cell_type": "heading",
     "level": 3,
     "metadata": {},
     "source": [
      "Lets look at the predictions we generated graphically:"
     ]
    },
    {
     "cell_type": "code",
     "collapsed": false,
     "input": [
      "fig = plt.figure(figsize(18,9), dpi=1600)\n",
      "a = .2\n",
      "\n",
      "# Below are examples of more advanced plotting. \n",
      "# It it looks strange check out the tutorial above.\n",
      "fig.add_subplot(221, axisbg=\"#DBDBDB\")\n",
      "kde_res = KDE(res.predict())\n",
      "kde_res.fit()\n",
      "plt.plot(kde_res.support,kde_res.density)\n",
      "plt.fill_between(kde_res.support,kde_res.density, alpha=a)\n",
      "title(\"Distribution of our Predictions\")\n",
      "\n",
      "fig.add_subplot(222, axisbg=\"#DBDBDB\")\n",
      "plt.scatter(res.predict(),x['C(sex)[T.male]'] , alpha=a)\n",
      "plt.grid(b=True, which='major', axis='x')\n",
      "plt.xlabel(\"Predicted chance of survival\")\n",
      "plt.ylabel(\"Gender Bool\")\n",
      "title(\"The Chance of Survival Probability by Gender (1 = Male)\")\n",
      "\n",
      "fig.add_subplot(223, axisbg=\"#DBDBDB\")\n",
      "plt.scatter(res.predict(),x['C(pclass)[T.3]'] , alpha=a)\n",
      "plt.xlabel(\"Predicted chance of survival\")\n",
      "plt.ylabel(\"Class Bool\")\n",
      "plt.grid(b=True, which='major', axis='x')\n",
      "title(\"The Chance of Survival Probability by Lower Class (1 = 3rd Class)\")\n",
      "\n",
      "fig.add_subplot(224, axisbg=\"#DBDBDB\")\n",
      "plt.scatter(res.predict(),x.age , alpha=a)\n",
      "plt.grid(True, linewidth=0.15)\n",
      "title(\"The Chance of Survival Probability by Age\")\n",
      "plt.xlabel(\"Predicted chance of survival\")\n",
      "plt.ylabel(\"Age\")"
     ],
     "language": "python",
     "metadata": {},
     "outputs": []
    },
    {
     "cell_type": "heading",
     "level": 3,
     "metadata": {},
     "source": [
      "Now Lest use our model to predict the test set values and then save the results \n",
      "\n",
      "Read the test data"
     ]
    },
    {
     "cell_type": "code",
     "collapsed": false,
     "input": [
      "test_data = pd.read_csv(\"../../../../data/kaggle/titantic/test.csv\")"
     ],
     "language": "python",
     "metadata": {},
     "outputs": []
    },
    {
     "cell_type": "code",
     "collapsed": false,
     "input": [
      "test_data"
     ],
     "language": "python",
     "metadata": {},
     "outputs": []
    },
    {
     "cell_type": "code",
     "collapsed": false,
     "input": [
      "# drop the passengerId, Ticket and Cabin columns\n",
      "test_data = test_data.drop(['PassengerId','Ticket','Cabin'],axis=1)\n",
      "for c in test_data.columns:\n",
      "    print \"For column {0} , there are {1} missing items.\".format(c,sum(test_data[c].isnull()))"
     ],
     "language": "python",
     "metadata": {},
     "outputs": []
    },
    {
     "cell_type": "code",
     "collapsed": false,
     "input": [
      "test_data['survived'] = 1.23 # add the independent variable to the test data"
     ],
     "language": "python",
     "metadata": {},
     "outputs": []
    },
    {
     "cell_type": "code",
     "collapsed": false,
     "input": [
      "results #our binned results data"
     ],
     "language": "python",
     "metadata": {},
     "outputs": []
    },
    {
     "cell_type": "code",
     "collapsed": false,
     "input": [
      "compared_results = ka.predict(test_data, results, 'Logit') # use your model to make predictions to the test set\n",
      "\n",
      "compared_results = Series(compared_results)  #convert to a pandas Series"
     ],
     "language": "python",
     "metadata": {},
     "outputs": []
    },
    {
     "cell_type": "code",
     "collapsed": false,
     "input": [
      "compared_results.to_csv(\"../../../data/kaggle/titantic/logitregres.csv\")"
     ],
     "language": "python",
     "metadata": {},
     "outputs": []
    },
    {
     "cell_type": "heading",
     "level": 1,
     "metadata": {},
     "source": [
      "Random Forest"
     ]
    },
    {
     "cell_type": "heading",
     "level": 2,
     "metadata": {},
     "source": [
      "RF by AGC (not very good)"
     ]
    },
    {
     "cell_type": "code",
     "collapsed": false,
     "input": [
      "# Create an acceptable formula for our machine learning algorithms\n",
      "formula_ml = 'survived ~ C(pclass) + C(sex) + age + sibsp + parch + C(embarked)'"
     ],
     "language": "python",
     "metadata": {},
     "outputs": []
    },
    {
     "cell_type": "code",
     "collapsed": false,
     "input": [
      "# import the machine learning library that holds the randomforest\n",
      "import sklearn.ensemble as ske\n",
      "\n",
      "# Create the random forest model and fit the model to our training data\n",
      "y, x = dmatrices(formula_ml, data=df, return_type='dataframe')\n",
      "\n",
      "#instantiate and fit our model\n",
      "results_rf = ske.RandomForestClassifier(n_estimators=100).fit(x,y)\n",
      "\n",
      "# Score the results\n",
      "z = results_rf.score(x,y)\n",
      "print \"Mean accuracy of Random Forest Predictions on the data was: \" + str(z)"
     ],
     "language": "python",
     "metadata": {},
     "outputs": []
    },
    {
     "cell_type": "heading",
     "level": 2,
     "metadata": {},
     "source": [
      "RF from kaggle site (much better)"
     ]
    },
    {
     "cell_type": "heading",
     "level": 4,
     "metadata": {},
     "source": [
      "considers all input data as floats --> drop df.name columns"
     ]
    },
    {
     "cell_type": "code",
     "collapsed": false,
     "input": [
      "df.dtypes"
     ],
     "language": "python",
     "metadata": {},
     "outputs": []
    },
    {
     "cell_type": "code",
     "collapsed": false,
     "input": [
      "from sklearn.ensemble import RandomForestClassifier\n",
      "import scipy\n",
      "import csv_io"
     ],
     "language": "python",
     "metadata": {},
     "outputs": []
    },
    {
     "cell_type": "code",
     "collapsed": false,
     "input": [
      "train = pd.read_csv(\"../../../data/kaggle/titantic/titanic_train.csv\")\n",
      "#realtest=csv_io.read_csv(\"../../../data/kaggle/titantic/titantic_test.csv\")"
     ],
     "language": "python",
     "metadata": {},
     "outputs": []
    },
    {
     "cell_type": "code",
     "collapsed": false,
     "input": [
      "train.dtypes"
     ],
     "language": "python",
     "metadata": {},
     "outputs": []
    },
    {
     "cell_type": "code",
     "collapsed": false,
     "input": [
      "train.sex.value_counts()"
     ],
     "language": "python",
     "metadata": {},
     "outputs": []
    },
    {
     "cell_type": "code",
     "collapsed": false,
     "input": [
      "t2 = train"
     ],
     "language": "python",
     "metadata": {},
     "outputs": []
    },
    {
     "cell_type": "code",
     "collapsed": false,
     "input": [
      "#change male to 1, female to 2\n",
      "tmp = train['sex'] == 'male'\n",
      "t2.sex[tmp] = 1.0\n",
      "tmp2 = train['sex'] == 'female'\n",
      "t2.sex[tmp2] = 2.0"
     ],
     "language": "python",
     "metadata": {},
     "outputs": []
    },
    {
     "cell_type": "code",
     "collapsed": false,
     "input": [
      "t2.sex.value_counts()"
     ],
     "language": "python",
     "metadata": {},
     "outputs": []
    },
    {
     "cell_type": "code",
     "collapsed": false,
     "input": [
      "# convert strings to integers\n",
      "embtmp = train.embarked == 'C'\n",
      "t2.embarked[embtmp] = 0.0\n",
      "embtmp = train.embarked == 'S'\n",
      "t2.embarked[embtmp] = 1.0\n",
      "embtmp = train.embarked == 'Q'\n",
      "t2.embarked[embtmp] = 3.0"
     ],
     "language": "python",
     "metadata": {},
     "outputs": []
    },
    {
     "cell_type": "code",
     "collapsed": false,
     "input": [
      "#replace missing embarked with most common value.\n",
      "tmp = t2.embarked.isnull().nonzero()[0]\n",
      "t2.embarked[tmp] = round(np.mean(t2.embarked))"
     ],
     "language": "python",
     "metadata": {},
     "outputs": []
    },
    {
     "cell_type": "code",
     "collapsed": false,
     "input": [
      "t2.embarked.value_counts()"
     ],
     "language": "python",
     "metadata": {},
     "outputs": []
    },
    {
     "cell_type": "code",
     "collapsed": false,
     "input": [
      "t2"
     ],
     "language": "python",
     "metadata": {},
     "outputs": []
    },
    {
     "cell_type": "code",
     "collapsed": false,
     "input": [
      "# replace missing ages with median of ages\n",
      "tmp = t2.age.isnull().nonzero()[0]\n",
      "t2.age[tmp] = np.median(t2.age)"
     ],
     "language": "python",
     "metadata": {},
     "outputs": []
    },
    {
     "cell_type": "code",
     "collapsed": false,
     "input": [
      "# delete the cabin, name, and ticket columns (omit)\n",
      "t2.drop(['cabin','name','ticket'],axis=1)"
     ],
     "language": "python",
     "metadata": {},
     "outputs": []
    },
    {
     "cell_type": "code",
     "collapsed": false,
     "input": [
      "# replace missing prices with the median price for that class \n",
      "medianfares = t2['fare'].groupby(t2['pclass']).median()\n",
      "medianfares"
     ],
     "language": "python",
     "metadata": {},
     "outputs": []
    },
    {
     "cell_type": "code",
     "collapsed": false,
     "input": [
      "figure(figsize=(10,8))\n",
      "#subplot2grid((2,3),(1,0), colspan=2)\n",
      "t2.fare[t2.pclass == 1].plot(kind='kde')   # plots a kernel density estimate of the subset of the 1st class passanges's age\n",
      "t2.fare[t2.pclass == 2].plot(kind='kde')\n",
      "t2.fare[t2.pclass == 3].plot(kind='kde')\n",
      "xlabel(\"Fare\")                         # plots an axis lable\n",
      "title(\"Fare Distribution within classes\"); legend(('1st Class', '2nd Class','3rd Class'),loc='best') # sets our legend for our graph.\n"
     ],
     "language": "python",
     "metadata": {},
     "outputs": []
    },
    {
     "cell_type": "code",
     "collapsed": false,
     "input": [
      "#if (len(t2.fare.isnull().nonzero()[0]) > 0):\n",
      " #   #t2['fare'].groupby(t2['pclass']).mean()\n",
      "  #  missingfares = t2.fare.isnull().nonzero()[0]\n",
      "   # t2.fare[missingfares] = medianfares[t2[missingfares]['pclass']]"
     ],
     "language": "python",
     "metadata": {},
     "outputs": []
    },
    {
     "cell_type": "heading",
     "level": 4,
     "metadata": {},
     "source": [
      "Load in the test data"
     ]
    },
    {
     "cell_type": "code",
     "collapsed": false,
     "input": [
      "test = pd.read_csv('../../../data/kaggle/titantic/titanic_test.csv')"
     ],
     "language": "python",
     "metadata": {},
     "outputs": []
    },
    {
     "cell_type": "code",
     "collapsed": false,
     "input": [
      "test"
     ],
     "language": "python",
     "metadata": {},
     "outputs": []
    },
    {
     "cell_type": "code",
     "collapsed": false,
     "input": [
      "#change male to 1, female to 2\n",
      "tmp = test['sex'] == 'male'\n",
      "test.sex[tmp] = 1.0\n",
      "tmp2 = test['sex'] == 'female'\n",
      "test.sex[tmp2] = 2.0\n",
      "# convert strings to integers\n",
      "embtmp = test.embarked == 'C'\n",
      "test.embarked[embtmp] = 0.0\n",
      "embtmp = test.embarked == 'S'\n",
      "test.embarked[embtmp] = 1.0\n",
      "embtmp = test.embarked == 'Q'\n",
      "test.embarked[embtmp] = 3.0"
     ],
     "language": "python",
     "metadata": {},
     "outputs": []
    },
    {
     "cell_type": "code",
     "collapsed": false,
     "input": [
      "test.sex.value_counts()"
     ],
     "language": "python",
     "metadata": {},
     "outputs": []
    },
    {
     "cell_type": "code",
     "collapsed": false,
     "input": [
      "test.embarked.isnull().nonzero()[0]\n",
      "# none are missing so don't fill."
     ],
     "language": "python",
     "metadata": {},
     "outputs": []
    },
    {
     "cell_type": "code",
     "collapsed": false,
     "input": [
      "np.median(test.age), np.median(t2.age) # compare median age for both test and train groups\n",
      "# replace missing ages with median of ages\n",
      "tmp = test.age.isnull().nonzero()[0]\n",
      "test.age[tmp] = np.median(test.age)"
     ],
     "language": "python",
     "metadata": {},
     "outputs": []
    },
    {
     "cell_type": "code",
     "collapsed": false,
     "input": [
      "test.drop(['name','ticket','cabin'],axis=1)"
     ],
     "language": "python",
     "metadata": {},
     "outputs": []
    },
    {
     "cell_type": "code",
     "collapsed": false,
     "input": [
      "# replace missing prices with the median price for that class \n",
      "medianfares = t2['fare'].groupby(t2['pclass']).median()\n",
      "medianfares"
     ],
     "language": "python",
     "metadata": {},
     "outputs": []
    },
    {
     "cell_type": "code",
     "collapsed": false,
     "input": [
      "missingfare = test['fare'].isnull().nonzero()[0]\n",
      "test.ix[missingfare]"
     ],
     "language": "python",
     "metadata": {},
     "outputs": []
    },
    {
     "cell_type": "code",
     "collapsed": false,
     "input": [],
     "language": "python",
     "metadata": {},
     "outputs": []
    },
    {
     "cell_type": "code",
     "collapsed": false,
     "input": [
      "mp = test.ix[missingfare]['pclass']\n",
      "medianfares[mp]\n",
      "test.fare[missingfare] = medianfares[mp]"
     ],
     "language": "python",
     "metadata": {},
     "outputs": []
    },
    {
     "cell_type": "code",
     "collapsed": false,
     "input": [
      "test.ix[missingfare][['fare','pclass']]"
     ],
     "language": "python",
     "metadata": {},
     "outputs": []
    },
    {
     "cell_type": "code",
     "collapsed": false,
     "input": [
      "figure(figsize=(10,8))\n",
      "#subplot2grid((2,3),(1,0), colspan=2)\n",
      "test.fare[test.pclass == 1].plot(kind='kde')   # plots a kernel desnsity estimate of the subset of the 1st class passanges's age\n",
      "test.fare[test.pclass == 2].plot(kind='kde')\n",
      "test.fare[test.pclass == 3].plot(kind='kde')\n",
      "xlabel(\"Fare\")                         # plots an axis lable\n",
      "title(\"Fare Distribution within classes\"); legend(('1st Class', '2nd Class','3rd Class'),loc='best') # sets our legend for our graph.\n",
      "#plt.fill_between(kde_res.support,kde_res.density, alpha=a)"
     ],
     "language": "python",
     "metadata": {},
     "outputs": []
    },
    {
     "cell_type": "code",
     "collapsed": false,
     "input": [
      "target = t2.survived.values\n",
      "target"
     ],
     "language": "python",
     "metadata": {},
     "outputs": []
    },
    {
     "cell_type": "code",
     "collapsed": false,
     "input": [
      "train = t2.drop(['survived','name','ticket','cabin'],axis=1).values\n",
      "print train.shape\n",
      "train"
     ],
     "language": "python",
     "metadata": {},
     "outputs": []
    },
    {
     "cell_type": "code",
     "collapsed": false,
     "input": [
      "# training Random forest\n",
      "print 'Training'\n",
      "forest = RandomForestClassifier(n_estimators=100)\n",
      "forest = forest.fit(train,target)"
     ],
     "language": "python",
     "metadata": {},
     "outputs": []
    },
    {
     "cell_type": "code",
     "collapsed": false,
     "input": [
      "testdata =test.drop(['name','ticket','cabin'],axis=1).values\n",
      "print 'Predicting'"
     ],
     "language": "python",
     "metadata": {},
     "outputs": []
    },
    {
     "cell_type": "code",
     "collapsed": false,
     "input": [
      "output = forest.predict(testdata)"
     ],
     "language": "python",
     "metadata": {},
     "outputs": []
    },
    {
     "cell_type": "code",
     "collapsed": false,
     "input": [
      "output"
     ],
     "language": "python",
     "metadata": {},
     "outputs": []
    },
    {
     "cell_type": "code",
     "collapsed": false,
     "input": [
      "len(output)"
     ],
     "language": "python",
     "metadata": {},
     "outputs": []
    },
    {
     "cell_type": "code",
     "collapsed": false,
     "input": [
      "outfileobj = open('../../../data/kaggle/titantic/rf1pred.csv','w')\n",
      "headerline = 'PassengerId,Survived\\n'\n",
      "outfileobj.write(headerline)\n",
      "i = 892 # initial offset value\n",
      "for a in output:\n",
      "    linestr = str(i)+','+str(a)+'\\n'\n",
      "    outfileobj.write(linestr)\n",
      "    i=i+1\n",
      "\n",
      "outfileobj.close()\n",
      "    "
     ],
     "language": "python",
     "metadata": {},
     "outputs": []
    },
    {
     "cell_type": "code",
     "collapsed": false,
     "input": [
      "forest = RandomForestClassifier(n_estimators=150)\n",
      "forest = forest.fit(train,target)"
     ],
     "language": "python",
     "metadata": {},
     "outputs": []
    },
    {
     "cell_type": "code",
     "collapsed": false,
     "input": [
      "output = forest.predict(testdata)\n",
      "output"
     ],
     "language": "python",
     "metadata": {},
     "outputs": []
    },
    {
     "cell_type": "code",
     "collapsed": false,
     "input": [
      "outfileobj = open('../../../data/kaggle/titantic/rf2pred.csv','w')\n",
      "headerline = 'PassengerId,Survived\\n'\n",
      "outfileobj.write(headerline)\n",
      "i = 892 # initial offset value\n",
      "for a in output:\n",
      "    linestr = str(i)+','+str(a)+'\\n'\n",
      "    outfileobj.write(linestr)\n",
      "    i=i+1\n",
      "\n",
      "outfileobj.close()"
     ],
     "language": "python",
     "metadata": {},
     "outputs": []
    },
    {
     "cell_type": "heading",
     "level": 1,
     "metadata": {},
     "source": [
      "COMPARE these results with others"
     ]
    },
    {
     "cell_type": "code",
     "collapsed": false,
     "input": [
      "o150 = np.genfromtxt('../../../data/kaggle/titantic/rf2pred.csv',delimiter=',',usecols=(1),skip_header=1)\n",
      "o100 = np.genfromtxt('../../../data/kaggle/titantic/rf1pred.csv',delimiter=',',usecols=(1),skip_header=1)\n",
      "mbrf = np.genfromtxt('../../../code/python/mikeB/randomForest/titanic/predict')"
     ],
     "language": "python",
     "metadata": {},
     "outputs": []
    },
    {
     "cell_type": "code",
     "collapsed": false,
     "input": [
      "o150-o100\n",
      "indx"
     ],
     "language": "python",
     "metadata": {},
     "outputs": []
    },
    {
     "cell_type": "code",
     "collapsed": false,
     "input": [
      "fig = figure(figsize=(10,9))\n",
      "fig.add_subplot(121)\n",
      "indx = np.arange(1,419)\n",
      "plot(indx,o150-o100,'ro')\n",
      "fig.add_subplot(122, axisbg=\"#DBDBDB\")\n",
      "plot(indx,o150-mbrf,'ko')"
     ],
     "language": "python",
     "metadata": {},
     "outputs": []
    },
    {
     "cell_type": "code",
     "collapsed": false,
     "input": [
      "numPredSurv = len((mbrf == 1).nonzero()[0]), len((o150 == 1).nonzero()[0]), len((o100 == 1).nonzero()[0])\n",
      "numPredSurv"
     ],
     "language": "python",
     "metadata": {},
     "outputs": []
    },
    {
     "cell_type": "code",
     "collapsed": false,
     "input": [
      "[x/float(len(mbrf)) for x in numPredSurv]"
     ],
     "language": "python",
     "metadata": {},
     "outputs": []
    },
    {
     "cell_type": "code",
     "collapsed": false,
     "input": [
      "trSurvived = t2.survived.values"
     ],
     "language": "python",
     "metadata": {},
     "outputs": []
    },
    {
     "cell_type": "code",
     "collapsed": false,
     "input": [
      "len((trSurvived == 1).nonzero()[0])/float(len(trSurvived))"
     ],
     "language": "python",
     "metadata": {},
     "outputs": []
    },
    {
     "cell_type": "code",
     "collapsed": false,
     "input": [
      "karf = np.genfromtxt('../../../data/kaggle/titantic/myfirstforest.csv',delimiter=',',usecols=(1),skip_header=1)\n",
      "len((karf == 1).nonzero()[0])/float(len(karf))"
     ],
     "language": "python",
     "metadata": {},
     "outputs": []
    },
    {
     "cell_type": "code",
     "collapsed": false,
     "input": [
      "fig = figure(figsize=(6,9))\n",
      "fig.add_subplot(121)\n",
      "indx = np.arange(1,419)\n",
      "plot(indx,karf-o150,'ro')\n",
      "fig.add_subplot(122, axisbg=\"#DBDBDB\")\n",
      "plot(indx,karf-mbrf,'ko')"
     ],
     "language": "python",
     "metadata": {},
     "outputs": []
    },
    {
     "cell_type": "code",
     "collapsed": false,
     "input": [
      "# trying with far fewer predictors:\n",
      "forest = RandomForestClassifier(n_estimators=10)\n",
      "forest = forest.fit(train,target)\n",
      "output_n10 = forest.predict(testdata)\n"
     ],
     "language": "python",
     "metadata": {},
     "outputs": []
    },
    {
     "cell_type": "code",
     "collapsed": false,
     "input": [
      "len(output_n10[output_n10==1])/float(len(output_n10))"
     ],
     "language": "python",
     "metadata": {},
     "outputs": []
    },
    {
     "cell_type": "code",
     "collapsed": false,
     "input": [
      "outfileobj = open('../../../data/kaggle/titantic/rf3pred.csv','w')\n",
      "headerline = 'PassengerId,Survived\\n'\n",
      "outfileobj.write(headerline)\n",
      "i = 892 # initial offset value\n",
      "for a in output_n10:\n",
      "    linestr = str(i)+','+str(a)+'\\n'\n",
      "    outfileobj.write(linestr)\n",
      "    i=i+1\n",
      "\n",
      "outfileobj.close()"
     ],
     "language": "python",
     "metadata": {},
     "outputs": []
    },
    {
     "cell_type": "heading",
     "level": 1,
     "metadata": {},
     "source": [
      "Using one-hot encoder for the categorical fields: pclass, sex, sibsp, parch, embarked"
     ]
    },
    {
     "cell_type": "code",
     "collapsed": false,
     "input": [
      "print t2.keys()\n",
      "t2.pclass.unique()"
     ],
     "language": "python",
     "metadata": {},
     "outputs": []
    },
    {
     "cell_type": "code",
     "collapsed": false,
     "input": [
      "print t2.sibsp.unique(), test.sibsp.unique()\n",
      "print t2.parch.unique(), test.parch.unique()"
     ],
     "language": "python",
     "metadata": {},
     "outputs": []
    },
    {
     "cell_type": "heading",
     "level": 3,
     "metadata": {},
     "source": [
      "notice that test dataset has an extra parch classification '9'"
     ]
    },
    {
     "cell_type": "heading",
     "level": 3,
     "metadata": {},
     "source": [
      "this means we need to train the one-hot encoder on this larger space and then apply to both sets; after dropping the non-categorical fields"
     ]
    },
    {
     "cell_type": "code",
     "collapsed": false,
     "input": [
      "print len(target), len(testdata)"
     ],
     "language": "python",
     "metadata": {},
     "outputs": []
    },
    {
     "cell_type": "code",
     "collapsed": false,
     "input": [
      "# apply onehotencoding to just the categorical features.\n",
      "trCategorical = t2.drop(['survived','name','age','ticket','fare','cabin'],axis=1).values\n",
      "print trCategorical.shape\n",
      "teCategorical = test.drop(['name','age','ticket','fare','cabin'],axis=1).values\n",
      "print teCategorical.shape\n"
     ],
     "language": "python",
     "metadata": {},
     "outputs": []
    },
    {
     "cell_type": "code",
     "collapsed": false,
     "input": [
      "for i in xrange(0,5):\n",
      "    print i, unique(trCategorical[:,i]), unique(teCategorical[:,i])"
     ],
     "language": "python",
     "metadata": {},
     "outputs": []
    },
    {
     "cell_type": "code",
     "collapsed": false,
     "input": [
      "from sklearn.preprocessing import OneHotEncoder\n",
      "ohenc = OneHotEncoder()\n",
      "ohenc.fit(teCategorical)\n",
      "OHtest = ohenc.transform(teCategorical).toarray()\n",
      "OHtrain = ohenc.transform(trCategorical).toarray()\n",
      "#OHtrain is the extended attribute space now\n",
      "print OHtest.shape, OHtrain.shape"
     ],
     "language": "python",
     "metadata": {},
     "outputs": []
    },
    {
     "cell_type": "code",
     "collapsed": false,
     "input": [
      "ohenc.feature_indices_"
     ],
     "language": "python",
     "metadata": {},
     "outputs": []
    },
    {
     "cell_type": "code",
     "collapsed": false,
     "input": [
      "ohenc.n_values_"
     ],
     "language": "python",
     "metadata": {},
     "outputs": []
    },
    {
     "cell_type": "code",
     "collapsed": false,
     "input": [
      "# now recombine with train & test; columns 2 (age) and 5 (fare)\n",
      "print shape(OHtrain), shape(train[:,2]), shape(train[:,5])\n",
      "print shape(column_stack([train[:,2],train[:,5]]))\n",
      "ntrain = hstack(( [OHtrain,column_stack([train[:,2],train[:,5]])]) )\n",
      "print \"\\n shape of training array is \\t\"\n",
      "print shape(ntrain)\n",
      "print \"\\n\\n\"\n",
      "#print shape(OHtest), shape(testdata[:,2]), shape(testdata[:,5])\n",
      "#print shape(column_stack([testdata[:,2],testdata[:,5]]))\n",
      "\n",
      "ntest = hstack(( [OHtest,column_stack([testdata[:,2],testdata[:,5]])]) )\n",
      "print \"\\nshape of test array is \\t\"\n",
      "print shape(ntest)"
     ],
     "language": "python",
     "metadata": {},
     "outputs": []
    },
    {
     "cell_type": "heading",
     "level": 2,
     "metadata": {},
     "source": [
      "Run Random forest on this dataset"
     ]
    },
    {
     "cell_type": "code",
     "collapsed": false,
     "input": [
      "from sklearn.ensemble import RandomForestClassifier,ExtraTreesClassifier\n",
      "#build RF classifier\n",
      "forest = RandomForestClassifier(n_estimators=150,compute_importances=True)\n",
      "forest = forest.fit(ntrain,target)"
     ],
     "language": "python",
     "metadata": {},
     "outputs": []
    },
    {
     "cell_type": "code",
     "collapsed": false,
     "input": [
      "#make prediction\n",
      "oh150output = forest.predict(ntest)\n",
      "# save\n",
      "outfileobj = open('../../../data/kaggle/titantic/rf_oh_150_pred.csv','w')\n",
      "headerline = 'PassengerId,Survived\\n'\n",
      "outfileobj.write(headerline)\n",
      "i = 892 # initial offset value\n",
      "for a in oh150output:\n",
      "    linestr = str(i)+','+str(a)+'\\n'\n",
      "    outfileobj.write(linestr)\n",
      "    i=i+1\n",
      "\n",
      "outfileobj.close()"
     ],
     "language": "python",
     "metadata": {},
     "outputs": []
    },
    {
     "cell_type": "code",
     "collapsed": false,
     "input": [
      "#Visualize feature_importances\n",
      "bar(arange(forest.n_features_),forest.feature_importances_,color='r')"
     ],
     "language": "python",
     "metadata": {},
     "outputs": []
    },
    {
     "cell_type": "code",
     "collapsed": false,
     "input": [
      "forest = RandomForestClassifier(n_estimators=1000,compute_importances=True)\n",
      "forest = forest.fit(ntrain,target)"
     ],
     "language": "python",
     "metadata": {},
     "outputs": []
    },
    {
     "cell_type": "code",
     "collapsed": false,
     "input": [
      "#make prediction\n",
      "oh1000output = forest.predict(ntest)\n",
      "# save\n",
      "outfileobj = open('../../../data/kaggle/titantic/rf_oh_1000_pred.csv','w')\n",
      "headerline = 'PassengerId,Survived\\n'\n",
      "outfileobj.write(headerline)\n",
      "i = 892 # initial offset value\n",
      "for a in oh1000output:\n",
      "    linestr = str(i)+','+str(a)+'\\n'\n",
      "    outfileobj.write(linestr)\n",
      "    i=i+1\n",
      "\n",
      "outfileobj.close()\n",
      "#Visualize feature_importances\n",
      "bar(arange(forest.n_features_),forest.feature_importances_,color='r')"
     ],
     "language": "python",
     "metadata": {},
     "outputs": []
    },
    {
     "cell_type": "code",
     "collapsed": false,
     "input": [
      "figure\n",
      "plot(arange(len(oh1000output)),oh150output-oh1000output,'o')"
     ],
     "language": "python",
     "metadata": {},
     "outputs": []
    },
    {
     "cell_type": "code",
     "collapsed": false,
     "input": [
      "o150 = np.genfromtxt('../../../data/kaggle/titantic/rf2pred.csv',delimiter=',',usecols=(1),skip_header=1)\n",
      "o100 = np.genfromtxt('../../../data/kaggle/titantic/rf1pred.csv',delimiter=',',usecols=(1),skip_header=1)\n",
      "mbrf = np.genfromtxt('../../../code/python/mikeB/randomForest/titanic/predict')"
     ],
     "language": "python",
     "metadata": {},
     "outputs": []
    },
    {
     "cell_type": "code",
     "collapsed": false,
     "input": [
      "plot(arange(len(oh1000output)),o150-oh1000output,'o')\n",
      "(o150-oh1000output != 0).nonzero()"
     ],
     "language": "python",
     "metadata": {},
     "outputs": []
    },
    {
     "cell_type": "code",
     "collapsed": false,
     "input": [
      "xtraTree = ExtraTreesClassifier(n_estimators=150,compute_importances=True)\n",
      "xtclf = xtraTree.fit(ntrain,target)\n",
      "#make prediction\n",
      "XToh150output = xtclf.predict(ntest)\n",
      "# save\n",
      "outfileobj = open('../../../data/kaggle/titantic/xt_oh_1500_pred.csv','w')\n",
      "headerline = 'PassengerId,Survived\\n'\n",
      "outfileobj.write(headerline)\n",
      "i = 892 # initial offset value\n",
      "for a in XToh150output:\n",
      "    linestr = str(i)+','+str(a)+'\\n'\n",
      "    outfileobj.write(linestr)\n",
      "    i=i+1\n",
      "\n",
      "outfileobj.close()\n",
      "#Visualize feature_importances\n",
      "bar(arange(xtclf.n_features_),xtclf.feature_importances_,color='m')"
     ],
     "language": "python",
     "metadata": {},
     "outputs": []
    },
    {
     "cell_type": "code",
     "collapsed": false,
     "input": [
      "bar(arange(xtclf.n_features_),xtclf.feature_importances_,color='m')\n",
      "bar(arange(forest.n_features_),forest.feature_importances_,color='c',alpha=0.5)"
     ],
     "language": "python",
     "metadata": {},
     "outputs": []
    },
    {
     "cell_type": "code",
     "collapsed": false,
     "input": [
      "plot(arange(len(XToh150output)),o150-XToh150output,'ok')\n",
      "(o150-XToh150output != 0).nonzero()"
     ],
     "language": "python",
     "metadata": {},
     "outputs": []
    },
    {
     "cell_type": "code",
     "collapsed": false,
     "input": [
      "len((mbrf-XToh150output !=0).nonzero()[0])"
     ],
     "language": "python",
     "metadata": {},
     "outputs": []
    },
    {
     "cell_type": "heading",
     "level": 2,
     "metadata": {},
     "source": [
      "CORRECTING Categorical Data --> sibsp and parch are not categorical"
     ]
    },
    {
     "cell_type": "heading",
     "level": 5,
     "metadata": {},
     "source": [
      "add a new categorical field based upon 'title': find ', *.' in name"
     ]
    },
    {
     "cell_type": "code",
     "collapsed": false,
     "input": [
      "print t2['name'].ix[0].find(\",\"),t2['name'].ix[0].find(\".\")\n",
      "t2['name'].ix[0][t2['name'].ix[0].find(\",\")+2:t2['name'].ix[0].find(\".\")]"
     ],
     "language": "python",
     "metadata": {},
     "outputs": []
    },
    {
     "cell_type": "code",
     "collapsed": false,
     "input": [
      "t2['name'].apply(t2.name.find(\",\")+2:t2.name.find(\".\"))"
     ],
     "language": "python",
     "metadata": {},
     "outputs": []
    },
    {
     "cell_type": "code",
     "collapsed": false,
     "input": [
      "# apply onehotencoding to just the categorical features.\n",
      "trCateg = t2[['pclass','sex','embarked']].values\n",
      "print trCateg.shape\n",
      "teCateg = test[['pclass','sex','embarked']].values\n",
      "print teCateg.shape"
     ],
     "language": "python",
     "metadata": {},
     "outputs": []
    },
    {
     "cell_type": "code",
     "collapsed": false,
     "input": [
      "ohenc = OneHotEncoder()\n",
      "ohenc.fit(teCateg)\n",
      "OHtest = ohenc.transform(teCateg).toarray()\n",
      "OHtrain = ohenc.transform(trCateg).toarray()\n",
      "#OHtrain is the extended attribute space now\n",
      "print OHtest.shape, OHtrain.shape"
     ],
     "language": "python",
     "metadata": {},
     "outputs": []
    },
    {
     "cell_type": "code",
     "collapsed": false,
     "input": [
      "trCateg[0,:], OHtrain[0,:]"
     ],
     "language": "python",
     "metadata": {},
     "outputs": []
    },
    {
     "cell_type": "code",
     "collapsed": false,
     "input": [
      "ohenc.n_values_, ohenc.feature_indices_"
     ],
     "language": "python",
     "metadata": {},
     "outputs": []
    },
    {
     "cell_type": "code",
     "collapsed": false,
     "input": [
      "# now recombine with train & test; columns 2 through 5 (age, sibsp,parch,fare)\n",
      "print shape(OHtrain), shape(train[:,2:6])\n",
      "#print shape(column_stack([train[:,2],train[:,5]]))\n",
      "nntrain = hstack(( [OHtrain,train[:,2:6]] ))\n",
      "print \"\\n shape of training array is \\t\"\n",
      "print shape(nntrain)\n",
      "print \"\\n\\n\"\n",
      "print shape(OHtest), shape(testdata[:,2:6])\n",
      "#print shape(column_stack([testdata[:,2],testdata[:,5]]))\n",
      "\n",
      "nntest = hstack(( [OHtest,testdata[:,2:6]]) )\n",
      "print \"\\nshape of test array is \\t\"\n",
      "print shape(nntest)"
     ],
     "language": "python",
     "metadata": {},
     "outputs": []
    },
    {
     "cell_type": "code",
     "collapsed": false,
     "input": [
      "nntrain[0,:], train[0,2:6]"
     ],
     "language": "python",
     "metadata": {},
     "outputs": []
    },
    {
     "cell_type": "code",
     "collapsed": false,
     "input": [
      "forest = RandomForestClassifier(n_estimators=150,compute_importances=True)\n",
      "forest = forest.fit(nntrain,target)"
     ],
     "language": "python",
     "metadata": {},
     "outputs": []
    },
    {
     "cell_type": "code",
     "collapsed": false,
     "input": [
      "#make prediction\n",
      "noh150output = forest.predict(nntest)\n",
      "# save\n",
      "outfileobj = open('../../../data/kaggle/titantic/rf_noh_150_pred.csv','w')\n",
      "headerline = 'PassengerId,Survived\\n'\n",
      "outfileobj.write(headerline)\n",
      "i = 892 # initial offset value\n",
      "for a in noh150output:\n",
      "    linestr = str(i)+','+str(a)+'\\n'\n",
      "    outfileobj.write(linestr)\n",
      "    i=i+1\n",
      "\n",
      "outfileobj.close()\n",
      "#Visualize feature_importances\n",
      "bar(arange(forest.n_features_),forest.feature_importances_,color='c')"
     ],
     "language": "python",
     "metadata": {},
     "outputs": []
    },
    {
     "cell_type": "code",
     "collapsed": false,
     "input": [
      "len((o150-noh150output !=0).nonzero()[0]),len((o150-oh150output !=0).nonzero()[0])"
     ],
     "language": "python",
     "metadata": {},
     "outputs": []
    },
    {
     "cell_type": "code",
     "collapsed": false,
     "input": [
      "corrcoef(o150,mbrf)"
     ],
     "language": "python",
     "metadata": {},
     "outputs": []
    },
    {
     "cell_type": "heading",
     "level": 2,
     "metadata": {},
     "source": [
      "Let's look at Naive Bayes"
     ]
    },
    {
     "cell_type": "code",
     "collapsed": false,
     "input": [
      "from sklearn.naive_bayes import GaussianNB\n",
      "gnb = GaussianNB()\n",
      "gnb.fit(nntrain,target)\n",
      "gnb.score(nntrain,target)"
     ],
     "language": "python",
     "metadata": {},
     "outputs": []
    },
    {
     "cell_type": "code",
     "collapsed": false,
     "input": [
      "nntrain.shape"
     ],
     "language": "python",
     "metadata": {},
     "outputs": []
    },
    {
     "cell_type": "code",
     "collapsed": false,
     "input": [
      "gnb.sigma_[0,:]"
     ],
     "language": "python",
     "metadata": {},
     "outputs": []
    },
    {
     "cell_type": "code",
     "collapsed": false,
     "input": [
      "errorbar(arange(12),gnb.theta_[0,:],gnb.sigma_[0,:],c='m',marker='o')\n",
      "errorbar(arange(12),gnb.theta_[1,:],gnb.sigma_[1,:],c='k',marker='s')"
     ],
     "language": "python",
     "metadata": {},
     "outputs": []
    },
    {
     "cell_type": "code",
     "collapsed": false,
     "input": [
      "15+90+40+4+8+1+5+14+13"
     ],
     "language": "python",
     "metadata": {},
     "outputs": []
    },
    {
     "cell_type": "code",
     "collapsed": false,
     "input": [
      "231+133+80+16+3"
     ],
     "language": "python",
     "metadata": {},
     "outputs": []
    },
    {
     "cell_type": "code",
     "collapsed": false,
     "input": [],
     "language": "python",
     "metadata": {},
     "outputs": []
    }
   ],
   "metadata": {}
  }
 ]
}