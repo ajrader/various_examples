{
 "metadata": {
  "name": ""
 },
 "nbformat": 3,
 "nbformat_minor": 0,
 "worksheets": [
  {
   "cells": [
    {
     "cell_type": "heading",
     "level": 4,
     "metadata": {},
     "source": [
      "Recodes CSV market baskets into space delimited numerical baskets"
     ]
    },
    {
     "cell_type": "code",
     "collapsed": false,
     "input": [
      "cd C:\\Users\\kes1\\Documents\\Vehicle Repair Patterns\\workspace\\data"
     ],
     "language": "python",
     "metadata": {},
     "outputs": []
    },
    {
     "cell_type": "heading",
     "level": 2,
     "metadata": {},
     "source": [
      "Convert CSV text baskets into sorted integer baskets"
     ]
    },
    {
     "cell_type": "code",
     "collapsed": false,
     "input": [
      "inFile = open('dr2jn00_baskets_merged.csv','r')\n",
      "outFile = open('dr2jn00_baskets_coded.txt','w')\n",
      "outCodes = open('dr2jn00_basket_ids.txt','w')\n",
      "\n",
      "codeCount = 0\n",
      "codes = {}\n",
      "\n",
      "dIndex=1\n",
      "dTransactions = {} # Size and count of transactions bigger than dIndex\n",
      "\n",
      "lineCount=0\n",
      "\n",
      "\n",
      "for line in inFile:\n",
      "    lineCount+=1\n",
      "    newLine = ''\n",
      "    nums = set()\n",
      "    for item in line.strip().split(','):\n",
      "        \n",
      "        if not codes.has_key(item):\n",
      "            codes[item] = codeCount\n",
      "            outCodes.write(str(codeCount) + ' ' + item + '\\n')\n",
      "            codeCount+=1\n",
      "        \n",
      "        nums.add(codes[item])\n",
      "        \n",
      "    newNums = sorted(list(nums))\n",
      "    newLine = ''\n",
      "    for n in newNums:\n",
      "        if len(newLine)>0: newLine += ' '\n",
      "        newLine += str(n)\n",
      "        \n",
      "    outFile.write(newLine + '\\n')\n",
      "    \n",
      "    # Update dIndex\n",
      "    s = len(newNums)\n",
      "    if s>dIndex: \n",
      "        if not dTransactions.has_key(s): dTransactions[s]=0\n",
      "        dTransactions[s]=dTransactions[s]+1\n",
      "    else: continue\n",
      "    \n",
      "    valList = dTransactions.values()\n",
      "    keyList = dTransactions.keys()\n",
      "    \n",
      "#    print \"There are\",sum(valList),\"transactions of size at least\",min(keyList)\n",
      "    \n",
      "    while sum(valList) >= min(keyList):\n",
      "        \n",
      "        dIndex = min(keyList)\n",
      "        \n",
      "#        print \"Updated d to\", dIndex\n",
      "\n",
      "        valList.remove(dTransactions[dIndex])\n",
      "        keyList.remove(dIndex)\n",
      "        dTransactions.pop(dIndex)\n",
      "        valList = dTransactions.values()\n",
      "        keyList = dTransactions.keys()\n",
      "\n",
      "    \n",
      "    #if dIndex>5:break\n",
      "    \n",
      "\n",
      "inFile.close()\n",
      "outFile.close()\n",
      "outCodes.close()\n",
      "print \"d-Index is\", dIndex"
     ],
     "language": "python",
     "metadata": {},
     "outputs": []
    },
    {
     "cell_type": "code",
     "collapsed": false,
     "input": [
      "print dTransactions, lineCount"
     ],
     "language": "python",
     "metadata": {},
     "outputs": []
    },
    {
     "cell_type": "code",
     "collapsed": false,
     "input": [
      "inFile = open('dr2jn00_baskets_merged.csv','r')\n",
      "\n",
      "dCount=0\n",
      "\n",
      "for line in inFile:\n",
      "    nums = set()\n",
      "    for item in line.strip().split(','):\n",
      "        nums.add(codes[item])\n",
      "        \n",
      "    newNums = sorted(list(nums))\n",
      "\n",
      "    if len(newNums)>=76: dCount+=1\n",
      "\n",
      "print dCount"
     ],
     "language": "python",
     "metadata": {},
     "outputs": []
    },
    {
     "cell_type": "heading",
     "level": 2,
     "metadata": {},
     "source": [
      "Convert FPApp ARM coded rules into original readable rules"
     ]
    },
    {
     "cell_type": "code",
     "collapsed": false,
     "input": [
      "# Func to load lookup table\n",
      "import re\n",
      "\n",
      "def loadLookups(fileName):\n",
      "    codeFile =  open(fileName,'r')\n",
      "    codes = {}\n",
      "    p = re.compile('^(\\\\S+)\\\\s+(.+)$')\n",
      "    for line in codeFile:\n",
      "        m = p.match(line)\n",
      "        if m is None: continue\n",
      "        codes[m.group(1)] = m.group(2)\n",
      "    \n",
      "    codeFile.close()\n",
      "    return codes\n",
      "    \n"
     ],
     "language": "python",
     "metadata": {},
     "outputs": []
    },
    {
     "cell_type": "code",
     "collapsed": false,
     "input": [
      "# Read codes and make dict\n",
      "codes = loadLookups('coded_ids_dr2jn00.txt')"
     ],
     "language": "python",
     "metadata": {},
     "outputs": []
    },
    {
     "cell_type": "code",
     "collapsed": false,
     "input": [
      "#  Translate part codes to parts\n",
      "cccGroup = loadLookups('ccc_group.txt')\n",
      "cccSubgroup = loadLookups('ccc_subgroup.txt')\n",
      "cccComponent = loadLookups('ccc_component.txt')\n",
      "cccAttachment = loadLookups('ccc_attatchment.txt')\n",
      "cccSide = loadLookups('ccc_side.txt')\n",
      "    \n",
      "    "
     ],
     "language": "python",
     "metadata": {},
     "outputs": []
    },
    {
     "cell_type": "code",
     "collapsed": false,
     "input": [
      "def translatePart(s):\n",
      "    p = re.compile('^PRTCLASCD_(\\\\d\\\\d\\\\d\\\\d)(\\\\d\\\\d\\\\d\\\\d)?(\\\\d\\\\d\\\\d\\\\d)?(\\\\d\\\\d\\\\d\\\\d)?(.)?$')\n",
      "    m = p.match(s)\n",
      "    if m is None: return s\n",
      "\n",
      "    r = []\n",
      "    g = m.groups()\n",
      "    if len(g)>0 and cccGroup.has_key(g[0]): r.append(cccGroup[g[0]]) \n",
      "    if len(g)>1 and cccSubgroup.has_key(g[1]): r.append(cccSubgroup[g[1]]) \n",
      "    if len(g)>2 and cccComponent.has_key(g[2]): r.append(cccComponent[g[2]])\n",
      "    if len(g)>3 and cccAttachment.has_key(g[3]): r.append(cccAttachment[g[3]]) \n",
      "    if len(g)>4 and cccSide.has_key(g[4]): r.append(cccSide[g[4]]) \n",
      "    \n",
      "    return '(' + ', '.join(r) + ')'"
     ],
     "language": "python",
     "metadata": {},
     "outputs": []
    },
    {
     "cell_type": "code",
     "collapsed": false,
     "input": [
      "print translatePart('sarsaer')\n",
      "print translatePart('PRTCLASCD_1046181112810000')"
     ],
     "language": "python",
     "metadata": {},
     "outputs": []
    },
    {
     "cell_type": "code",
     "collapsed": false,
     "input": [
      "import re\n",
      "\n",
      "ruleFile =  open('rules_fp_c75s05.txt','r')\n",
      "textFile = open('txtrules_fp_c75s05.txt','w')\n",
      "\n",
      "rulePattern = re.compile('^\\\\(\\\\d+\\\\)\\\\s+{((?:\\\\d+\\\\s*)+)}\\\\s+->\\\\s+{((?:\\\\d+\\\\s*)+)}\\\\s+([0-9.]+)%$')\n",
      "\n",
      "for line in ruleFile:\n",
      "    m = rulePattern.match(line)\n",
      "    if m is None: \n",
      "        print \"Error with line:\",line\n",
      "        break\n",
      "\n",
      "    antecedent = m.group(1)\n",
      "    consequent = m.group(2)\n",
      "    conf = m.group(3)\n",
      "    \n",
      "    \n",
      "    a = '; '.join(translatePart(codes[n]) for n in antecedent.split(' '))\n",
      "    c = '; '.join(translatePart(codes[n]) for n in consequent.split(' '))\n",
      "\n",
      "    textFile.writelines(['{',a,'} -> {',c,'}\\t',conf,'%\\r\\n'])\n",
      "\n",
      "\n",
      "ruleFile.close()\n",
      "textFile.close()"
     ],
     "language": "python",
     "metadata": {},
     "outputs": []
    }
   ],
   "metadata": {}
  }
 ]
}