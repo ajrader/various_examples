{
 "metadata": {
  "name": "iris-sklearn-svm"
 },
 "nbformat": 3,
 "nbformat_minor": 0,
 "worksheets": [
  {
   "cells": [
    {
     "cell_type": "heading",
     "level": 1,
     "metadata": {},
     "source": [
      "Exploring Iris dataset using sklearn SVM classifiers"
     ]
    },
    {
     "cell_type": "code",
     "collapsed": false,
     "input": [
      "from sklearn import svm,datasets"
     ],
     "language": "python",
     "metadata": {},
     "outputs": [],
     "prompt_number": 1
    },
    {
     "cell_type": "code",
     "collapsed": false,
     "input": [
      "iris = datasets.load_iris()\n"
     ],
     "language": "python",
     "metadata": {},
     "outputs": [],
     "prompt_number": 2
    },
    {
     "cell_type": "code",
     "collapsed": false,
     "input": [
      "X = iris.data\n",
      "Y = iris.target\n",
      "h = 0.02 # stepsize in the mesh"
     ],
     "language": "python",
     "metadata": {},
     "outputs": [],
     "prompt_number": 3
    },
    {
     "cell_type": "code",
     "collapsed": false,
     "input": [
      "from sklearn import cross_validation\n",
      "X_train, X_test, y_train,y_test = cross_validation.train_test_split(iris.data,iris.target,test_size=0.3)"
     ],
     "language": "python",
     "metadata": {},
     "outputs": [],
     "prompt_number": 7
    },
    {
     "cell_type": "code",
     "collapsed": false,
     "input": [
      "svc = svm.SVC(kernel='linear',C=1).fit(X_train,y_train)\n",
      "rbf_svc = svm.SVC(kernel='rbf',gamma=0.7,C=1).fit(X_train,y_train)\n",
      "poly_svc = svm.SVC(kernel='poly',degree=3,C=1).fit(X_train,y_train)\n",
      "lin_svc = svm.LinearSVC(C=1).fit(X_train,y_train)\n",
      "sigm_svc = svm.SVC(kernel='sigmoid',C=1).fit(X_train,y_train)"
     ],
     "language": "python",
     "metadata": {},
     "outputs": [],
     "prompt_number": 8
    },
    {
     "cell_type": "code",
     "collapsed": false,
     "input": [
      "svc.score(X_test,y_test)"
     ],
     "language": "python",
     "metadata": {},
     "outputs": [
      {
       "output_type": "pyout",
       "prompt_number": 9,
       "text": [
        "1.0"
       ]
      }
     ],
     "prompt_number": 9
    },
    {
     "cell_type": "code",
     "collapsed": false,
     "input": [
      "rbf_svc.score(X_test,y_test)"
     ],
     "language": "python",
     "metadata": {},
     "outputs": [
      {
       "output_type": "pyout",
       "prompt_number": 10,
       "text": [
        "0.97777777777777775"
       ]
      }
     ],
     "prompt_number": 10
    },
    {
     "cell_type": "code",
     "collapsed": false,
     "input": [
      "iris.data.mean(axis=0)"
     ],
     "language": "python",
     "metadata": {},
     "outputs": [
      {
       "output_type": "pyout",
       "prompt_number": 14,
       "text": [
        "array([ 5.84333333,  3.054     ,  3.75866667,  1.19866667])"
       ]
      }
     ],
     "prompt_number": 14
    },
    {
     "cell_type": "heading",
     "level": 4,
     "metadata": {},
     "source": [
      "KNN (k nearest neighbors) classification example"
     ]
    },
    {
     "cell_type": "code",
     "collapsed": false,
     "input": [
      "# split the iris data into a train and test data sets \n",
      "# use a random permutation to split the data randomly\n",
      "random.seed(300)\n",
      "indices = random.permutation(len(X))"
     ],
     "language": "python",
     "metadata": {},
     "outputs": [],
     "prompt_number": 5
    },
    {
     "cell_type": "code",
     "collapsed": false,
     "input": [
      "X_train = X[indices[:-10]"
     ],
     "language": "python",
     "metadata": {},
     "outputs": [
      {
       "output_type": "pyout",
       "prompt_number": 6,
       "text": [
        "array([148, 124,  65,  90,  75,  49, 143,  14,  63,  81,  20,  15, 117,\n",
        "         6,  39,  87,  45,  27, 106,  73,  22,  12, 112,  19, 135,  30,\n",
        "        72, 120,   7, 134, 127, 102,  31,  78,  69,  84, 136,  29, 146,\n",
        "        80,  82,  62, 122,  54, 133, 130, 138,  56,  17,  92,  83, 125,\n",
        "        21,  34,  52, 128,  11, 119,  51, 123,  18,  53, 116,  67,   3,\n",
        "       126,  38,  35, 145,   4,   8,  50,  46,  86,  32,  96,  48,  66,\n",
        "       144,  58,  47,  68,   1, 121,  42,  61, 109, 104, 111, 100,  97,\n",
        "        40,   0, 129, 139, 110,   5,  25,  99,  85,  88,  37,  26, 115,\n",
        "        33,  10,   2, 132,  70, 137,  95,  43, 142,  23,  55,  13, 147,\n",
        "       113,  79,  28,  89,  93,  24, 141,  36,  44,  77,  59,  16, 107,\n",
        "        74, 140,  57,  71, 105, 108, 101,  98,  64,  94, 131,  60, 114,\n",
        "       118,  76,  41, 103,  91,   9, 149])"
       ]
      }
     ],
     "prompt_number": 6
    },
    {
     "cell_type": "code",
     "collapsed": false,
     "input": [],
     "language": "python",
     "metadata": {},
     "outputs": []
    }
   ],
   "metadata": {}
  }
 ]
}