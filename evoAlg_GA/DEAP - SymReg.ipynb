{
 "cells": [
  {
   "cell_type": "markdown",
   "metadata": {},
   "source": [
    "#Goal - function regression\n",
    "Evolve a representation of a function from data\n",
    "\n",
    "Function: $$f(x)=x^4 + x^3 + x^2 + x$$"
   ]
  },
  {
   "cell_type": "code",
   "execution_count": 1,
   "metadata": {
    "collapsed": true
   },
   "outputs": [],
   "source": [
    "%matplotlib inline\n",
    "\n",
    "import matplotlib.pyplot as plt\n",
    "import random\n",
    "import numpy as np\n",
    "\n",
    "from deap import base\n",
    "from deap import creator\n",
    "from deap import gp\n",
    "\n",
    "from deap import tools\n",
    "from deap import algorithms\n",
    "\n",
    "from deap import gp\n",
    "import operator\n",
    "import math\n",
    "\n"
   ]
  },
  {
   "cell_type": "code",
   "execution_count": 2,
   "metadata": {
    "collapsed": false
   },
   "outputs": [],
   "source": [
    "def safeDiv(left, right):\n",
    "    try:\n",
    "        return left / right\n",
    "    except ZeroDivisionError:\n",
    "        return 0\n",
    "\n",
    "pset = gp.PrimitiveSet(\"MAIN\", 1)\n",
    "pset.addPrimitive(operator.add, 2)\n",
    "pset.addPrimitive(operator.sub, 2)\n",
    "pset.addPrimitive(operator.mul, 2)\n",
    "pset.addPrimitive(safeDiv, 2)\n",
    "pset.addPrimitive(operator.neg, 1)\n",
    "pset.addPrimitive(math.cos, 1)\n",
    "pset.addPrimitive(math.sin, 1)\n",
    "pset.addEphemeralConstant(\"rand101\", lambda: random.randint(-1,1))"
   ]
  },
  {
   "cell_type": "code",
   "execution_count": 3,
   "metadata": {
    "collapsed": true
   },
   "outputs": [],
   "source": [
    "pset.renameArguments(ARG0='x')\n"
   ]
  },
  {
   "cell_type": "code",
   "execution_count": 4,
   "metadata": {
    "collapsed": true
   },
   "outputs": [],
   "source": [
    "creator.create(\"FitnessMin\", base.Fitness, weights=(-1.0,))\n",
    "creator.create(\"Individual\", gp.PrimitiveTree, fitness=creator.FitnessMin)"
   ]
  },
  {
   "cell_type": "code",
   "execution_count": 5,
   "metadata": {
    "collapsed": true
   },
   "outputs": [],
   "source": [
    "toolbox = base.Toolbox()\n",
    "toolbox.register(\"expr\", gp.genHalfAndHalf, pset=pset, min_=1, max_=2)\n",
    "toolbox.register(\"individual\", tools.initIterate, creator.Individual, toolbox.expr)\n",
    "toolbox.register(\"population\", tools.initRepeat, list, toolbox.individual)\n",
    "toolbox.register(\"compile\", gp.compile, pset=pset)\n",
    "\n",
    "def evalSymbReg(individual, points):\n",
    "    # Transform the tree expression in a callable function\n",
    "    func = toolbox.compile(expr=individual)\n",
    "    # Evaluate the mean squared error between the expression\n",
    "    # and the real function : x**4 + x**3 + x**2 + x\n",
    "    sqerrors = ((func(x) - x**4 - x**3 - x**2 - x)**2 for x in points)\n",
    "    return math.fsum(sqerrors) / len(points),\n",
    "\n",
    "toolbox.register(\"evaluate\", evalSymbReg, points=[x/10. for x in range(-10,10)])\n",
    "toolbox.register(\"select\", tools.selTournament, tournsize=3)\n",
    "toolbox.register(\"mate\", gp.cxOnePoint)\n",
    "toolbox.register(\"expr_mut\", gp.genFull, min_=0, max_=2)\n",
    "toolbox.register(\"mutate\", gp.mutUniform, expr=toolbox.expr_mut, pset=pset)"
   ]
  },
  {
   "cell_type": "code",
   "execution_count": 6,
   "metadata": {
    "collapsed": false
   },
   "outputs": [],
   "source": [
    "stats_fit = tools.Statistics(lambda ind: ind.fitness.values)\n",
    "stats_size = tools.Statistics(len)\n",
    "mstats = tools.MultiStatistics(fitness=stats_fit, size=stats_size)\n",
    "mstats.register(\"avg\", np.mean)\n",
    "mstats.register(\"std\", np.std)\n",
    "mstats.register(\"min\", np.min)\n",
    "mstats.register(\"max\", np.max)"
   ]
  },
  {
   "cell_type": "code",
   "execution_count": 7,
   "metadata": {
    "collapsed": false
   },
   "outputs": [
    {
     "name": "stdout",
     "output_type": "stream",
     "text": [
      "   \t      \t                fitness                \t             size             \n",
      "   \t      \t---------------------------------------\t------------------------------\n",
      "gen\tnevals\tavg    \tmax    \tmin     \tstd    \tavg    \tmax\tmin\tstd   \n",
      "0  \t300   \t1.85978\t18.9239\t0.450825\t2.11032\t3.70333\t7  \t2  \t1.6027\n",
      "1  \t172   \t1.14284\t14.1839\t0.356827\t1.31213\t3.57667\t10 \t1  \t1.54622\n",
      "2  \t183   \t0.987048\t14.1839\t0.183711\t1.24932\t3.73333\t12 \t1  \t1.68391\n",
      "3  \t186   \t0.883343\t14.1573\t0.165572\t1.21826\t3.96   \t10 \t1  \t1.82713\n",
      "4  \t172   \t0.774399\t15.5423\t0.165572\t0.955211\t4.26   \t12 \t1  \t2.05566\n",
      "5  \t168   \t0.705869\t14.2181\t0.165572\t0.886744\t4.16667\t11 \t1  \t1.91282\n",
      "6  \t187   \t0.729145\t13.6089\t0.165572\t1.05674 \t4.66667\t10 \t1  \t1.84632\n",
      "7  \t175   \t0.676455\t7.25482\t0.13008 \t0.698917\t5.13333\t12 \t1  \t1.76509\n",
      "8  \t151   \t0.560943\t4.24016\t0.13008 \t0.568443\t5.64333\t12 \t1  \t1.92599\n",
      "9  \t149   \t0.442069\t2.37244\t0.104588\t0.385957\t6.12   \t14 \t1  \t2.00971\n",
      "10 \t177   \t0.413042\t3.35292\t0.104588\t0.429922\t6.32333\t14 \t1  \t2.20578\n",
      "11 \t168   \t0.41199 \t6.5179 \t0.0682328\t0.567526\t6.40333\t16 \t2  \t2.14957\n",
      "12 \t184   \t3.97983 \t1085.46\t0.0817452\t62.5447 \t6.47   \t24 \t1  \t2.71829\n",
      "13 \t164   \t0.386817\t2.9829 \t0.0817452\t0.434051\t6.59   \t20 \t1  \t2.81459\n",
      "14 \t175   \t0.322313\t2.11889\t0.078524 \t0.335996\t7.39667\t23 \t1  \t3.25156\n",
      "15 \t162   \t0.394032\t18.7249\t0.0757247\t1.38224 \t8.32333\t22 \t1  \t3.78578\n",
      "16 \t167   \t0.405049\t19.6355\t0.02737  \t1.19563 \t9.68333\t28 \t1  \t4.51254\n",
      "17 \t168   \t0.285473\t2.9829 \t0.02737  \t0.350524\t11.06  \t34 \t1  \t4.99497\n",
      "18 \t157   \t0.298501\t9.68251\t0.02737  \t0.628351\t13.1333\t31 \t1  \t5.59663\n",
      "19 \t180   \t0.263002\t5.10238\t5.12297e-33\t0.408451\t14.9867\t39 \t3  \t6.11281\n",
      "20 \t165   \t0.268178\t3.25294\t5.12297e-33\t0.360075\t16.2167\t39 \t1  \t6.35109\n",
      "21 \t186   \t0.317977\t2.74945\t5.12297e-33\t0.415093\t16.66  \t38 \t2  \t6.95397\n",
      "22 \t157   \t0.192032\t1.4085 \t5.12297e-33\t0.24619 \t17.1467\t38 \t1  \t6.27363\n",
      "23 \t181   \t0.313005\t18.9239\t5.12297e-33\t1.16653 \t17.16  \t42 \t3  \t5.98284\n",
      "24 \t161   \t0.213781\t5.1311 \t5.12297e-33\t0.416485\t16.79  \t40 \t3  \t5.94636\n",
      "25 \t164   \t0.231604\t15.6587\t5.12297e-33\t0.944598\t16.53  \t37 \t3  \t5.42302\n",
      "26 \t167   \t0.237561\t18.6252\t5.12297e-33\t1.10943 \t17.0533\t42 \t3  \t5.9226 \n",
      "27 \t172   \t0.188373\t2.42191\t5.12297e-33\t0.274628\t16.9967\t35 \t3  \t5.61159\n",
      "28 \t194   \t0.208721\t1.76233\t5.12297e-33\t0.280927\t17.5533\t36 \t1  \t6.26422\n",
      "29 \t187   \t0.247961\t6.6452 \t5.12297e-33\t0.520552\t18.06  \t42 \t1  \t6.7801 \n",
      "30 \t169   \t0.189243\t4.89235\t5.12297e-33\t0.401054\t18.5767\t42 \t2  \t6.80814\n",
      "31 \t169   \t0.215818\t13.7464\t5.12297e-33\t0.876573\t19.1333\t42 \t3  \t7.01965\n",
      "32 \t170   \t0.14685 \t2.9829 \t5.12297e-33\t0.307134\t17.9767\t42 \t1  \t7.05238\n",
      "33 \t152   \t0.15589 \t4.96053\t5.12297e-33\t0.432786\t16.2967\t38 \t1  \t7.11491\n",
      "34 \t183   \t0.285173\t35.3242\t5.12297e-33\t2.05423 \t14.82  \t36 \t3  \t6.10581\n",
      "35 \t179   \t0.158329\t2.9329 \t5.12297e-33\t0.329496\t14.2833\t40 \t3  \t6.31108\n",
      "36 \t165   \t0.15926 \t4.30857\t5.12297e-33\t0.412429\t13.7367\t46 \t3  \t5.22436\n",
      "37 \t170   \t0.150595\t2.54124\t5.12297e-33\t0.340844\t13.28  \t37 \t2  \t4.50055\n",
      "38 \t152   \t0.134077\t2.9829 \t5.12297e-33\t0.334868\t13.0867\t34 \t1  \t4.25979\n",
      "39 \t176   \t0.186727\t20.6506\t5.12297e-33\t1.20403 \t13.0533\t33 \t3  \t4.00381\n",
      "40 \t171   \t0.150639\t3.04711\t5.12297e-33\t0.312877\t13.1033\t27 \t1  \t4.33274\n"
     ]
    }
   ],
   "source": [
    "pop = toolbox.population(n=300)\n",
    "hof = tools.HallOfFame(1)\n",
    "pop, log = algorithms.eaSimple(pop, toolbox, 0.5, 0.1, 40, stats=mstats,\n",
    "                               halloffame=hof, verbose=True)"
   ]
  },
  {
   "cell_type": "code",
   "execution_count": 8,
   "metadata": {
    "collapsed": false
   },
   "outputs": [
    {
     "name": "stdout",
     "output_type": "stream",
     "text": [
      "add(x, mul(x, add(mul(x, add(x, mul(x, x))), x)))\n"
     ]
    }
   ],
   "source": [
    "tree = hof[0]\n",
    "print tree"
   ]
  },
  {
   "cell_type": "code",
   "execution_count": null,
   "metadata": {
    "collapsed": true
   },
   "outputs": [],
   "source": []
  }
 ],
 "metadata": {
  "kernelspec": {
   "display_name": "Python 2",
   "language": "python",
   "name": "python2"
  },
  "language_info": {
   "codemirror_mode": {
    "name": "ipython",
    "version": 2
   },
   "file_extension": ".py",
   "mimetype": "text/x-python",
   "name": "python",
   "nbconvert_exporter": "python",
   "pygments_lexer": "ipython2",
   "version": "2.7.10"
  }
 },
 "nbformat": 4,
 "nbformat_minor": 0
}
