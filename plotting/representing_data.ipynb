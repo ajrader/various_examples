{
 "metadata": {
  "name": "representing_data"
 },
 "nbformat": 3,
 "nbformat_minor": 0,
 "worksheets": [
  {
   "cells": [
    {
     "cell_type": "heading",
     "level": 2,
     "metadata": {},
     "source": [
      "Representing data in python/pandas"
     ]
    },
    {
     "cell_type": "code",
     "collapsed": false,
     "input": [
      "import pandas as pd\n",
      "import numpy as np"
     ],
     "language": "python",
     "metadata": {},
     "outputs": [],
     "prompt_number": 1
    },
    {
     "cell_type": "code",
     "collapsed": false,
     "input": [
      "# 'characters' in R is equivalent to string in python\n",
      "firstName = 'alexander'\n",
      "print type(firstName), firstName"
     ],
     "language": "python",
     "metadata": {},
     "outputs": [
      {
       "output_type": "stream",
       "stream": "stdout",
       "text": [
        "<type 'str'> jeff\n"
       ]
      }
     ],
     "prompt_number": 2
    },
    {
     "cell_type": "code",
     "collapsed": false,
     "input": [
      "# 'numeric' in R is equivalent to float in python\n",
      "heightCM = 177.8\n",
      "print type(heightCM), heightCM"
     ],
     "language": "python",
     "metadata": {},
     "outputs": [
      {
       "output_type": "stream",
       "stream": "stdout",
       "text": [
        "<type 'float'> 188.2\n"
       ]
      }
     ],
     "prompt_number": 3
    },
    {
     "cell_type": "code",
     "collapsed": false,
     "input": [
      "# integer is equivalent to integer in both\n",
      "numberSons = 2\n",
      "print type(numberSons), numberSons"
     ],
     "language": "python",
     "metadata": {},
     "outputs": [
      {
       "output_type": "stream",
       "stream": "stdout",
       "text": [
        "<type 'int'> 1\n"
       ]
      }
     ],
     "prompt_number": 4
    },
    {
     "cell_type": "code",
     "collapsed": false,
     "input": [
      "# 'logical' in R is equivalent to Boolean in python\n",
      "learningPython = True\n",
      "print type(learningPython), learningPython"
     ],
     "language": "python",
     "metadata": {},
     "outputs": [
      {
       "output_type": "stream",
       "stream": "stdout",
       "text": [
        "<type 'bool'> True\n"
       ]
      }
     ],
     "prompt_number": 5
    },
    {
     "cell_type": "code",
     "collapsed": false,
     "input": [
      "# 'vectors' in R is equivalent to numpy array or Python list (focus on array everywhere for consistency)\n",
      "heights = np.array([177.8, 188.2, 181.3, 193.4])\n",
      "print heights\n",
      "\n",
      "firstNames = np.array(['alexander','walter', 'henry', 'roger', 'nigel'])\n",
      "print firstNames\n"
     ],
     "language": "python",
     "metadata": {},
     "outputs": [
      {
       "output_type": "stream",
       "stream": "stdout",
       "text": [
        "[ 177.8  188.2  181.3  193.4]\n",
        "['alexander' 'jeff' 'roger' 'andrew' 'brian']\n"
       ]
      }
     ],
     "prompt_number": 6
    },
    {
     "cell_type": "code",
     "collapsed": false,
     "input": [
      "# 'list' in R is equivalent to dictionary in Python\n",
      "vector1 = np.array([177.8, 188.2, 181.3, 193.4,162.5])\n",
      "vector2 = np.array(['alexander', 'walter', 'henry','roger', 'nigel'])\n",
      "myList = dict(heights = vector1, firstNames = vector2)\n",
      "print myList\n",
      "\n",
      "print myList['heights']\n",
      "print myList['firstNames']"
     ],
     "language": "python",
     "metadata": {},
     "outputs": [
      {
       "output_type": "stream",
       "stream": "stdout",
       "text": [
        "{'firstNames': array(['alexander', 'walter', 'henry', 'roger', 'nigel'], \n",
        "      dtype='|S9'), 'heights': array([ 177.8,  188.2,  181.3,  193.4,  162.5])}\n",
        "[ 177.8  188.2  181.3  193.4  162.5]\n",
        "['alexander' 'walter' 'henry' 'roger' 'nigel']\n"
       ]
      }
     ],
     "prompt_number": 11
    },
    {
     "cell_type": "code",
     "collapsed": false,
     "input": [
      "# 'matrices' in R is equivalent to two-dimensional numpy array in python\n",
      "myMatrix = np.array([[1, 2], [3, 4]])\n",
      "print myMatrix"
     ],
     "language": "python",
     "metadata": {},
     "outputs": [
      {
       "output_type": "stream",
       "stream": "stdout",
       "text": [
        "[[1 2]\n",
        " [3 4]]\n"
       ]
      }
     ],
     "prompt_number": 9
    },
    {
     "cell_type": "code",
     "collapsed": false,
     "input": [
      "# data frame in R is equivalent to Pandas DataFrame in python\n",
      "# to join two arrays in this fashion the input array lengths must match. \n",
      "myDataFrame = pd.DataFrame(dict(heights = vector1, firstNames = vector2))\n",
      "myDataFrame"
     ],
     "language": "python",
     "metadata": {},
     "outputs": [
      {
       "html": [
        "<div style=\"max-height:1000px;max-width:1500px;overflow:auto;\">\n",
        "<table border=\"1\" class=\"dataframe\">\n",
        "  <thead>\n",
        "    <tr style=\"text-align: right;\">\n",
        "      <th></th>\n",
        "      <th>firstNames</th>\n",
        "      <th>heights</th>\n",
        "    </tr>\n",
        "  </thead>\n",
        "  <tbody>\n",
        "    <tr>\n",
        "      <th>0</th>\n",
        "      <td> alexander</td>\n",
        "      <td> 177.8</td>\n",
        "    </tr>\n",
        "    <tr>\n",
        "      <th>1</th>\n",
        "      <td>    walter</td>\n",
        "      <td> 188.2</td>\n",
        "    </tr>\n",
        "    <tr>\n",
        "      <th>2</th>\n",
        "      <td>     henry</td>\n",
        "      <td> 181.3</td>\n",
        "    </tr>\n",
        "    <tr>\n",
        "      <th>3</th>\n",
        "      <td>     roger</td>\n",
        "      <td> 193.4</td>\n",
        "    </tr>\n",
        "    <tr>\n",
        "      <th>4</th>\n",
        "      <td>     nigel</td>\n",
        "      <td> 162.5</td>\n",
        "    </tr>\n",
        "  </tbody>\n",
        "</table>\n",
        "</div>"
       ],
       "output_type": "pyout",
       "prompt_number": 13,
       "text": [
        "  firstNames  heights\n",
        "0  alexander    177.8\n",
        "1     walter    188.2\n",
        "2      henry    181.3\n",
        "3      roger    193.4\n",
        "4      nigel    162.5"
       ]
      }
     ],
     "prompt_number": 13
    },
    {
     "cell_type": "code",
     "collapsed": false,
     "input": [
      "# factors in R is equivalent to pandas Categorical\n",
      "smoker = np.array(['yes', 'no', 'yes', 'yes'])\n",
      "smokerFactor = pd.Categorical.from_array(smoker)\n",
      "smokerFactor"
     ],
     "language": "python",
     "metadata": {},
     "outputs": [
      {
       "output_type": "pyout",
       "prompt_number": 14,
       "text": [
        "Categorical: \n",
        "array(['yes', 'no', 'yes', 'yes'], dtype=object)\n",
        "Levels (2): Index(['no', 'yes'], dtype=object)"
       ]
      }
     ],
     "prompt_number": 14
    },
    {
     "cell_type": "code",
     "collapsed": false,
     "input": [
      "# R's NA missing values is equivalent to NaN in python (numpy & pandas)\n",
      "vector1 = np.array([188.2, 181.3, 193.4, NaN])\n",
      "print vector1\n",
      "print isnan(vector1)"
     ],
     "language": "python",
     "metadata": {},
     "outputs": [
      {
       "output_type": "stream",
       "stream": "stdout",
       "text": [
        "[ 188.2  181.3  193.4    nan]\n",
        "[False False False  True]"
       ]
      },
      {
       "output_type": "stream",
       "stream": "stdout",
       "text": [
        "\n"
       ]
      }
     ],
     "prompt_number": 15
    },
    {
     "cell_type": "code",
     "collapsed": false,
     "input": [
      "# subsetting\n",
      "vector1 = np.array([188.2, 181.3, 193.4, 192.3])\n",
      "vector2 = np.array(['nigel', 'roger', 'walter', 'henry'])\n",
      "\n",
      "myDataFrame = pd.DataFrame(dict(heights = vector1, firstNames = vector2))\n",
      "\n",
      "print '------------------'\n",
      "print vector1[0]\n",
      "print '------------------'\n",
      "print vector1[[0, 1, 3]]\n",
      "print '------------------'\n",
      "print myDataFrame.ix[0, 0:2] # appears transposed as compared to R\n",
      "print '------------------'\n",
      "print myDataFrame['firstNames'] # there's no 'Levels' as in R\n",
      "print '------------------'\n",
      "print myDataFrame[myDataFrame['firstNames'] == 'jeff']\n",
      "print '------------------'\n",
      "print myDataFrame[myDataFrame['heights'] < 190]"
     ],
     "language": "python",
     "metadata": {},
     "outputs": [
      {
       "output_type": "stream",
       "stream": "stdout",
       "text": [
        "------------------\n",
        "188.2\n",
        "------------------\n",
        "[ 188.2  181.3  192.3]\n",
        "------------------\n",
        "firstNames    nigel\n",
        "heights       188.2\n",
        "Name: 0, dtype: object"
       ]
      },
      {
       "output_type": "stream",
       "stream": "stdout",
       "text": [
        "\n",
        "------------------\n",
        "0     nigel\n",
        "1     roger\n",
        "2    walter\n",
        "3     henry\n",
        "Name: firstNames, dtype: object\n",
        "------------------\n",
        "Empty DataFrame\n",
        "Columns: [firstNames, heights]\n",
        "Index: []"
       ]
      },
      {
       "output_type": "stream",
       "stream": "stdout",
       "text": [
        "\n",
        "------------------\n",
        "  firstNames  heights\n",
        "0      nigel    188.2\n",
        "1      roger    181.3"
       ]
      },
      {
       "output_type": "stream",
       "stream": "stdout",
       "text": [
        "\n"
       ]
      }
     ],
     "prompt_number": 16
    },
    {
     "cell_type": "heading",
     "level": 1,
     "metadata": {},
     "source": [
      "Simulation Basics -- equivalent in Python "
     ]
    },
    {
     "cell_type": "code",
     "collapsed": false,
     "input": [
      "import numpy as np\n",
      "import scipy.stats as s"
     ],
     "language": "python",
     "metadata": {},
     "outputs": [],
     "prompt_number": 1
    },
    {
     "cell_type": "code",
     "collapsed": false,
     "input": [
      "# normal distribution\n",
      "# normal(mean, stdev, size)\n",
      "heights = np.random.normal(178, 3, 10)\n",
      "print heights\n"
     ],
     "language": "python",
     "metadata": {},
     "outputs": [
      {
       "output_type": "stream",
       "stream": "stdout",
       "text": [
        "[ 174.16872404  171.61665042  180.01623142  182.49930412  180.28156226\n",
        "  178.48930656  181.17850771  180.14162369  184.70340867  179.75090529]\n"
       ]
      }
     ],
     "prompt_number": 2
    },
    {
     "cell_type": "code",
     "collapsed": false,
     "input": [
      "# normal density\n",
      "x = np.linspace(-5, 5, num=10)\n",
      "normalDensity = s.norm.pdf(x, 0, 1)\n",
      "print np.around(normalDensity, decimals=2)"
     ],
     "language": "python",
     "metadata": {},
     "outputs": [
      {
       "output_type": "stream",
       "stream": "stdout",
       "text": [
        "[ 0.    0.    0.01  0.1   0.34  0.34  0.1   0.01  0.    0.  ]\n"
       ]
      }
     ],
     "prompt_number": 3
    },
    {
     "cell_type": "code",
     "collapsed": false,
     "input": [
      "# 'sample' draws a random sample with and without replacement --> numpy.random.choice in numpy 1.7\n",
      "heights = np.random.normal(178, 3, 10)\n",
      "\n",
      "# with replacement\n",
      "print 'random sampling with replacement:'\n",
      "print np.random.choice(heights, size=10, replace=True, p=None)\n",
      "\n",
      "# without replacement\n",
      "print '\\nrandom sampling without replacement'\n",
      "print np.random.choice(heights, size=10, replace=False, p=None)\n",
      "\n",
      "# sample according to a set of probability\n",
      "probs = [0.4, 0.3, 0.2, 0.1, 0, 0, 0, 0, 0, 0]\n",
      "print '\\nrandom sampling with replacement according to a set of probability:'\n",
      "print probs\n",
      "print '\\nsum of probabilities:'\n",
      "print sum(probs)\n",
      "print '\\nsampled:'\n",
      "print np.random.choice(heights, size=10, replace=True, p=probs)"
     ],
     "language": "python",
     "metadata": {},
     "outputs": [
      {
       "output_type": "stream",
       "stream": "stdout",
       "text": [
        "random sampling with replacement:\n",
        "[ 176.0912553   179.59199792  176.5144503   168.12508769  181.83605004\n",
        "  176.0912553   181.83605004  179.78561294  179.78561294  176.0912553 ]\n",
        "\n",
        "random sampling without replacement\n",
        "[ 180.15914211  185.18656912  176.0912553   180.1988261   176.5144503\n",
        "  179.59199792  179.35977193  168.12508769  179.78561294  181.83605004]\n",
        "\n",
        "random sampling with replacement according to a set of probability:\n",
        "[0.4, 0.3, 0.2, 0.1, 0, 0, 0, 0, 0, 0]\n",
        "\n",
        "sum of probabilities:\n",
        "1.0\n",
        "\n",
        "sampled:\n",
        "[ 180.15914211  179.78561294  180.15914211  181.83605004  181.83605004\n",
        "  180.15914211  181.83605004  180.15914211  179.59199792  181.83605004]\n"
       ]
      }
     ],
     "prompt_number": 5
    },
    {
     "cell_type": "code",
     "collapsed": false,
     "input": [
      "# setting a seed\n",
      "np.random.seed(12345)\n",
      "print np.random.normal(0, 1, 5)\n",
      "print '-------------------------------------------------------------'\n",
      "\n",
      "np.random.seed(12345)\n",
      "print np.random.normal(0, 1, 5)\n",
      "\n",
      "print '--------------------------------------------------------------'\n",
      "np.random.seed()\n",
      "print np.random.normal(0, 1, 5)"
     ],
     "language": "python",
     "metadata": {},
     "outputs": [
      {
       "output_type": "stream",
       "stream": "stdout",
       "text": [
        "[-0.20470766  0.47894334 -0.51943872 -0.5557303   1.96578057]\n",
        "-------------------------------------------------------------\n",
        "[-0.20470766  0.47894334 -0.51943872 -0.5557303   1.96578057]\n",
        "--------------------------------------------------------------\n",
        "[ 0.47360897 -1.78235277 -1.38068621 -0.033668   -0.64945773]\n"
       ]
      }
     ],
     "prompt_number": 7
    },
    {
     "cell_type": "code",
     "collapsed": false,
     "input": [],
     "language": "python",
     "metadata": {},
     "outputs": []
    }
   ],
   "metadata": {}
  }
 ]
}