{
 "metadata": {
  "name": ""
 },
 "nbformat": 3,
 "nbformat_minor": 0,
 "worksheets": [
  {
   "cells": [
    {
     "cell_type": "markdown",
     "metadata": {},
     "source": [
      "Citation Network Analysis\n",
      "===============================\n",
      "\n",
      "This notebook is designed to give you all the information you need to get started analyzing citation networks--and networks of just about anything else--using [Python](http://python.org), [NetworkX](http://networkx.github.io/), [NumPy](http://www.numpy.org/), and [Matplotlib](http://matplotlib.org/). \n",
      "\n",
      "What I hope you take away from this presentation:\n",
      "--------------------------------------------------\n",
      "\n",
      "* An elementary understanding of network analysis vocab.\n",
      "* An appreciation for NetworkX as a simple, mature, and powerful library for modelling and analyzing networks.\n",
      "* A straightfoward technological stack for contructing networks, analyzing them, and plotting information about them.\n",
      "* A lack of inhibition in turning to networkx and network analysis techniques in general problem solving.    \n",
      "\n",
      "What We'll Cover\n",
      "-------------------------\n",
      "\n",
      "We'll discuss the following points to help you get up and running quickly with the examples.\n",
      "\n",
      "* How NetworkX works, including how to create a network and load one from a json file.\n",
      "* How to make basic observations about a network, including plotting its degree distribution.\n",
      "* How to use link-analysis algorithms like PageRank to rank the sources in your network.\n",
      "* How to perform a linear regression analysis against an external data source to make sure nothing is horribly wrong with your graph and ranking calculations.\n",
      "* How to repeatedly run PageRank to get time-series data about the rankings of sources in your network.\n",
      "* How to fit each source's time series ranking with a regression line to determine whether it's trending positively or negatively. \n",
      "\n",
      "[About Me](http://twneale.github.io/)\n",
      "--------------\n",
      "\n",
      "I'm Thom Neale a Boston-based software developer for the nonprofit, nonpartisan [Sunlight Foundation](http://sunlightfoundation.com) in Washington DC. Most of the work I do is web development, scraper code, and some back-end work. I'm a recovering attorney, so I experiment with legal information in Python whenever possible. This talk is an outgrowth of research I did for the [Canadian Legal Information Institute](http://www.canlii.org/) to help them decide how to expand the coverage of their databases of Canadian court decisions.\n",
      "\n",
      "Where to find materials for this Presentation\n",
      "------------------------------------------------------\n",
      "\n",
      "This notebook and the sample data it requires live on my github page at https://github.com/twneale/citation-network-analysis. To install locally, do the following:\n",
      "\n",
      "    $ virtualenv pydata2013\n",
      "    $ source ./pydata2013/bin/activate\n",
      "    $ git clone git@github.com:twneale/citation-network-analysis.git\n",
      "    $ cd citation-network-analysis\n",
      "    # Note: if the follwing step fails, you're missing dependencies. If resolving them is not you're cup of tea,\n",
      "    # I recommend installing the free anaconda distribution of python from Continuum Analytics: https://store.continuum.io/\n",
      "    $ pip install -r requirements.txt\n"
     ]
    },
    {
     "cell_type": "markdown",
     "metadata": {},
     "source": [
      "Network Analysis Vocab\n",
      "-------------------------\n",
      "\n",
      "<p>Know this jargon, or keep this list handy to refer to, and you're ready to dive into network analysis:</p>\n",
      "</hr>\n",
      "\n",
      "<dl>\n",
      "<dt><strong>graph</strong></strong></dt>\n",
      "  <dd>&nbsp;&nbsp;&nbsp;&nbsp;&nbsp;&nbsp;Another word for \"network.\"</dd>\n",
      "</br>\n",
      "<dt><strong>nodes</strong></strong></dt>\n",
      "  <dd>&nbsp;&nbsp;&nbsp;&nbsp;&nbsp;&nbsp;A node is an element in a graph that can connected to other nodes.</dd>\n",
      "</br>\n",
      "<dt><strong>vertices</strong></dt>\n",
      "  <dd>&nbsp;&nbsp;&nbsp;&nbsp;&nbsp;&nbsp;Another word for \"nodes.\"</dd>\n",
      "</br>\n",
      "<dt><strong>edges</strong></strong></dt>\n",
      "  <dd>&nbsp;&nbsp;&nbsp;&nbsp;&nbsp;&nbsp;An edge is a set of two nodes and represents a connection between them.</dd>\n",
      "</br>\n",
      "<dt><strong>arcs</strong></dt>\n",
      "  <dd>&nbsp;&nbsp;&nbsp;&nbsp;&nbsp;&nbsp;Another word for \"edges.\"</dd>\n",
      "</br>\n",
      "<dt><strong>adjacent</strong></strong></dt>\n",
      "  <dd>&nbsp;&nbsp;&nbsp;&nbsp;&nbsp;&nbsp;Two nodes constituting an edge are \"adjacent\" in the network.</dd>\n",
      "</br>\n",
      "<dt><strong>context-free grammar</strong></strong></dt>\n",
      "  <dd>&nbsp;&nbsp;&nbsp;&nbsp;&nbsp;&nbsp;A recursive set of rules for tokenizing input and assembling the tokens into a parse tree.</dd>\n",
      "</br>\n",
      "<dt><strong>degree</strong></strong></dt>\n",
      "  <dd>&nbsp;&nbsp;&nbsp;&nbsp;&nbsp;&nbsp;The degree of a node in a network is the number of connections it has to other nodes.</dd>\n",
      "</br>\n",
      "<dt><strong>degree distribution</strong></strong></dt>\n",
      "  <dd>&nbsp;&nbsp;&nbsp;&nbsp;&nbsp;&nbsp;The degree distribution of a network is the probability distribution of the degree of all nodes in the network.</dd>\n",
      "</br>\n",
      "<dt><strong>scale-free network</strong></strong></dt>\n",
      "  <dd>&nbsp;&nbsp;&nbsp;&nbsp;&nbsp;&nbsp;A network is scale-free if its degree distribution follows a power law.</dd>\n",
      "</br>\n",
      "<dt><strong>random network</strong></strong></dt>\n",
      "  <dd>&nbsp;&nbsp;&nbsp;&nbsp;&nbsp;&nbsp;A network is random if its degree distribution is normal, or shaped like a bell curve.</dd>\n",
      "</br>\n",
      "<dt><strong>degree centrality</strong></strong></dt>\n",
      "  <dd>&nbsp;&nbsp;&nbsp;&nbsp;&nbsp;&nbsp;The number of edges for a given node.</dd>\n",
      "</br>\n",
      "<dt><strong>in-degree centrality</strong></strong></dt>\n",
      "  <dd>&nbsp;&nbsp;&nbsp;&nbsp;&nbsp;&nbsp;The number in-bound edges for a given node.</dd>\n",
      "</br>\n",
      "<dt><strong>out-degree centrality</strong></strong></dt>\n",
      "  <dd>&nbsp;&nbsp;&nbsp;&nbsp;&nbsp;&nbsp;The number of out-bound edges for a given node</dd>\n",
      "</br>\n",
      "<dt><strong>eigenvector centrality</strong></strong></dt>\n",
      "  <dd>&nbsp;&nbsp;&nbsp;&nbsp;&nbsp;&nbsp;A centrality measure that assigns relative centrality scores to all nodes in a network in a way to accords greater weight to connections to high scoring nodes.</dd>\n",
      "</br>\n",
      "<dt><strong>betweenness centrality</strong></strong></dt>\n",
      "  <dd>&nbsp;&nbsp;&nbsp;&nbsp;&nbsp;&nbsp;A centrality measure equal to the number of shortest paths from all nodes to all others that pass through that node.</dd>\n",
      "</br>\n",
      "<dt><strong>HITS authority score</strong></strong></dt>\n",
      "  <dd>&nbsp;&nbsp;&nbsp;&nbsp;&nbsp;&nbsp;A measure of the extent to which a case is cited by other cases that tend to cite authoritative cases.</dd>\n",
      "</br>\n",
      "<dt><strong>HITS hub score</strong></strong></dt>\n",
      "  <dd>&nbsp;&nbsp;&nbsp;&nbsp;&nbsp;&nbsp;A measure of the extent to which a case tends to cite authoritative cases.</dd>\n",
      "</br>\n",
      "<dt><strong>multiplicity</strong></strong></dt>\n",
      "  <dd>&nbsp;&nbsp;&nbsp;&nbsp;&nbsp;&nbsp;Occurs when one case cites another multiple times.</dd>\n",
      "</br>\n",
      "<dt><strong>outliers</strong></strong></dt>\n",
      "  <dd>&nbsp;&nbsp;&nbsp;&nbsp;&nbsp;&nbsp;Cases cited many times within a corpus, potentially skewing calculations that fail to account for multiplicity.</dd>\n",
      "</dl>\n"
     ]
    },
    {
     "cell_type": "markdown",
     "metadata": {},
     "source": [
      "Let's Write Some Code\n",
      "----------------------------------------------------------------\n",
      "\n",
      "![Get the bloody code!!](http://24.media.tumblr.com/7816b8641f612cd10534f07b7f513cee/tumblr_moxmxqmoYH1qhbdz7o1_500.gif)"
     ]
    },
    {
     "cell_type": "markdown",
     "metadata": {},
     "source": [
      "Constructing a Network and Inspecting It\n",
      "--------------------------------------------"
     ]
    },
    {
     "cell_type": "code",
     "collapsed": false,
     "input": [
      "import networkx as nx\n",
      "\n",
      "# Here's how you create a simple directed graph in NetworkX.\n",
      "G = nx.DiGraph()\n",
      "\n",
      "# A node can be any hashable object.\n",
      "G.add_node('twneale')\n",
      "G.add_node('daveneale')\n",
      "\n",
      "# Edges are simply tuples of nodes. You associate abitrary data with an edge.\n",
      "G.add_edge('twneale', 'daveneale', relationship=\"family\")\n",
      "\n",
      "# NetworkX has a plethora of useful methods for building networks.\n",
      "G.add_edges_from([\n",
      "    ('twneale', 'jamesturk'),                  \n",
      "    ('twneale', 'paultag'),\n",
      "    ('paultag', 'jamesturk')\n",
      "    ])\n",
      "\n",
      "# Networkx includes a \"draw\" function that plots the graph with matplotlib.\n",
      "nx.draw(G)\n"
     ],
     "language": "python",
     "metadata": {},
     "outputs": [
      {
       "metadata": {},
       "output_type": "display_data",
       "png": "[encoded data removed]",
       "text": [
        "<matplotlib.figure.Figure at 0x577a170>"
       ]
      }
     ],
     "prompt_number": 1
    },
    {
     "cell_type": "markdown",
     "metadata": {},
     "source": [
      "Identifying Cliques\n",
      "-------------------------\n",
      "\n",
      "We can also use NetworkX to identify cliques in the graph. But note that the [clique problem is NP-complete](http://en.wikipedia.org/wiki/Clique_problem#NP-completeness), so if the clique detection algorithm in NetworkX isn't suitable for your use case, you'll find yourself in a dilly of a pickle. "
     ]
    },
    {
     "cell_type": "code",
     "collapsed": false,
     "input": [
      "undirected = G.to_undirected()\n",
      "for clique in nx.find_cliques(undirected):\n",
      "    print clique\n",
      "    \n",
      "# Note that it does a pretty good job on our small sample graph, though.\n",
      "# Note that identifying cliques is np-complete."
     ],
     "language": "python",
     "metadata": {},
     "outputs": [
      {
       "output_type": "stream",
       "stream": "stdout",
       "text": [
        "['twneale', 'paultag', 'jamesturk']\n",
        "['twneale', 'daveneale']\n"
       ]
      }
     ],
     "prompt_number": 2
    },
    {
     "cell_type": "markdown",
     "metadata": {},
     "source": [
      "Serializing and Deserializing from JSON\n",
      "------------------------------------------\n",
      "\n",
      "Networkx has functions to serialize and desrialize graphs toa number of formats, including JSON. Let's load a graph containing about 6000 citations between Supreme Court of Canada cases from the years 2000 through 2013."
     ]
    },
    {
     "cell_type": "code",
     "collapsed": false,
     "input": [
      "# Networks can be serialized to, and loaded from, JSON and a number of other formats.\n",
      "# Here we're loading a graph\n",
      "from networkx.readwrite import json_graph \n",
      "with open('scc.json') as f:\n",
      "    G = json_graph.load(f)\n",
      "\n",
      "from itertools import islice\n",
      "\n",
      "# Now we can look at some basic characteristics of the network.\n",
      "print 'Number of nodes:', G.number_of_nodes()\n",
      "print 'Number of edges:', G.number_of_edges()\n",
      " \n",
      "# Let's view some of the nodes.\n",
      "print 'Here are a few nodes'\n",
      "for node in islice(G.nodes_iter(), 5):\n",
      "    print ' -', node\n",
      "    \n",
      "# Let's view some of the edges. Note that they're just 2-tuples of nodes.\n",
      "print 'Here are a few edges'\n",
      "for edge in islice(G.edges_iter(), 5):\n",
      "    print ' -', edge"
     ],
     "language": "python",
     "metadata": {},
     "outputs": [
      {
       "output_type": "stream",
       "stream": "stdout",
       "text": [
        "Number of nodes: 4789\n",
        "Number of edges: 6461\n",
        "Here are a few nodes\n",
        " - 2012-scc-39\n",
        " - 1995-sccano-135\n",
        " - 2004-sccano-540\n",
        " - 2005-sccano-480\n",
        " - 2004-sccano-542\n",
        "Here are a few edges\n",
        " - (u'2011scc65', u'2011-scc-65')\n",
        " - (u'2011scc65', u'2000scc2')\n",
        " - (u'2011scc65', u'2011-scc-64')\n",
        " - (u'2011scc65', u'2011scc64')\n",
        " - (u'2011scc65', u'2000-scc-2')\n"
       ]
      }
     ],
     "prompt_number": 3
    },
    {
     "cell_type": "markdown",
     "metadata": {},
     "source": [
      "Sniff Around\n",
      "------------------\n",
      "\n",
      "Now we have a larger network to explore. Good science is good observation, so let's make whatever observations we can about this example graph of case citations. And as you saw above, simply printing a few nodes and edges is profoundly useless and tells us nothing about the data. Network data is challenging in that, even for small networks, there's really no easy way to understand your data without plotting it's characteristics and looking at some charts. Someday when you're having a panic attack trying to figure out how to make sense of gigbytes of graph data, remember: charts.\n",
      "\n",
      "![Ace](http://25.media.tumblr.com/01dca42327019687dc56b582d3284403/tumblr_mgvv5500811s0mc6no1_500.gif)"
     ]
    },
    {
     "cell_type": "markdown",
     "metadata": {},
     "source": [
      "Plot Histograms that Might be Helpful for Your Data\n",
      "-----------------------------------------------------------\n",
      "\n",
      "What vizualizations your produce will depend on the data, but for purposes of basic exploration, you'll probably want to look at some histograms, and luckily numpy and matplotlib make doing so sinfully easy. "
     ]
    },
    {
     "cell_type": "code",
     "collapsed": false,
     "input": [
      "# Creating a histogram is a one-liner with matplotlib.\n",
      "from matplotlib import pyplot as plt\n",
      "\n",
      "values = [1, 2, 3, 2, 1, 2, 3, 4, 4, 3, 5, 3]\n",
      "plt.hist(values, max(values))\n",
      "plt.show()"
     ],
     "language": "python",
     "metadata": {},
     "outputs": [
      {
       "metadata": {},
       "output_type": "display_data",
       "png": "[encoded data removed]",
       "text": [
        "<matplotlib.figure.Figure at 0x580f390>"
       ]
      }
     ],
     "prompt_number": 4
    },
    {
     "cell_type": "code",
     "collapsed": false,
     "input": [
      "# This histogram below shows the distribution of publication years of citing cases. \n",
      "# So we retrieved the publication year of the citing case for each network edge, \n",
      "# then plotted the distribution of those values.\n",
      "\n",
      "from matplotlib import pyplot as plt\n",
      "import numpy\n",
      "\n",
      "years = tuple(G.get_edge_data(*edge)['year'] for edge in G.edges_iter())\n",
      "plt.hist(years, 14)\n",
      "plt.xlabel('Years')\n",
      "plt.ylabel('Number of Cases')\n",
      "plt.show()"
     ],
     "language": "python",
     "metadata": {},
     "outputs": [
      {
       "metadata": {},
       "output_type": "display_data",
       "png": "[encoded data removed]",
       "text": [
        "<matplotlib.figure.Figure at 0x5c1d9d0>"
       ]
      }
     ],
     "prompt_number": 5
    },
    {
     "cell_type": "markdown",
     "metadata": {},
     "source": [
      "How to Plot the Degree Distribution of a Network\n",
      "---------------------------------------------------\n",
      "\n",
      "Viewing a plot the degree distribution of a network is an important step in getting familiar with your data. If the degree distribution conforms to a power law distribution, the network is \"scale-free\", meaning a large number of edges are distributed among a small number nodes, and a small number of edges are distributed among a large number of nodes. In short, a few nodes are hogging all the connections. \n",
      "\n",
      "Why bother with this? If the network is scale-free, we may be able to apply network analysis techniques that are known to work well on other scale-free networks, like the Internet. \n"
     ]
    },
    {
     "cell_type": "code",
     "collapsed": false,
     "input": [
      "\n",
      "degrees = G.degree().values()\n",
      "h, bins= numpy.histogram(degrees, bins=100)\n",
      "x_series = bins.compress(h)\n",
      "y_series = h.compress(h)\n",
      "plt.plot(x_series, y_series)\n",
      "plt.xlabel('Number of cases with y inbound citations')\n",
      "plt.ylabel('Number of inbound citations')\n",
      "plt.show() "
     ],
     "language": "python",
     "metadata": {},
     "outputs": [
      {
       "metadata": {},
       "output_type": "display_data",
       "png": "[encoded data removed]",
       "text": [
        "<matplotlib.figure.Figure at 0x5801e70>"
       ]
      }
     ],
     "prompt_number": 6
    },
    {
     "cell_type": "markdown",
     "metadata": {},
     "source": [
      "Here's how to find the highest ranked source and print the sources that cite it:"
     ]
    },
    {
     "cell_type": "code",
     "collapsed": false,
     "input": [
      "from operator import itemgetter\n",
      " \n",
      "# As you can see, calculating PageRank values for our graph isn't too tricky.    \n",
      "ranks = nx.pagerank(G)\n",
      "\n",
      "# Let's retrieve the highest ranked case.\n",
      "highest = sorted(ranks, key=ranks.get).pop()\n",
      "first = itemgetter(0)\n",
      "print 'The highest ranked case was %s (%r)' % (highest, ranks[highest])\n",
      "print 'It was cited by these cases:'\n",
      "print sorted(map(first, G.in_edges(highest)))\n"
     ],
     "language": "python",
     "metadata": {},
     "outputs": [
      {
       "output_type": "stream",
       "stream": "stdout",
       "text": [
        "The highest ranked case was 2001-scc-2 (0.0013238817665870868)\n",
        "It was cited by these cases:\n",
        "[u'2001scc2', u'2001scc31', u'2001scc70', u'2001scc94', u'2002scc14', u'2002scc3', u'2002scc42', u'2002scc61', u'2002scc62', u'2002scc68', u'2002scc71', u'2002scc8', u'2002scc85', u'2003scc29', u'2003scc37', u'2003scc74', u'2004scc28', u'2004scc33', u'2004scc4', u'2004scc42', u'2004scc45', u'2004scc6', u'2005scc14', u'2005scc30', u'2005scc40', u'2005scc47', u'2005scc6', u'2005scc71', u'2007scc2', u'2007scc30', u'2008scc6', u'2009scc30', u'2010scc61', u'2011scc2', u'2011scc20', u'2011scc48', u'2011scc6', u'2012scc46', u'2012scc47', u'2013scc11']\n"
       ]
      }
     ],
     "prompt_number": 7
    },
    {
     "cell_type": "markdown",
     "metadata": {},
     "source": [
      "Verifying Your Network Rankings Against an External Data Source\n",
      "-------------------------------------------------------------------\n",
      "\n",
      "Another important step in verifying that your graph has the characteristics you expect is to test your data \n",
      "for a correlation with an external data source. Below we do a basic linear regression betweeh the number of \n",
      "pageviews each case recieved on CanLII's website and the number of inbound citations to each case (obtained \n",
      "via the G.in_degree() call):"
     ]
    },
    {
     "cell_type": "code",
     "collapsed": false,
     "input": [
      "import json\n",
      "from scipy import stats\n",
      "from sklearn.linear_model import LinearRegression\n",
      "from matplotlib.lines import Line2D\n",
      "\n",
      "# Now we load the top 1000 or so page view for Supreme Court of Canada Cases.\n",
      "with open('pageviews.json') as f:\n",
      "    pageviews = json.load(f)\n",
      "\n",
      "ranks = G.in_degree()\n",
      "ids = set(pageviews) & set(ranks)\n",
      "x = map(pageviews.get, ids)\n",
      "y = map(ranks.get, ids)\n",
      "\n",
      "res = stats.linregress(x, y)\n",
      "slope, intercept, r_value, p_value, std_err = res\n",
      "\n",
      "print '  -', 'r_value', r_value\n",
      "print '  -', 'p_value', p_value\n",
      "print '  -', 'standard deviation', std_err\n"
     ],
     "language": "python",
     "metadata": {},
     "outputs": [
      {
       "output_type": "stream",
       "stream": "stdout",
       "text": [
        "  - r_value 0.170498864748\n",
        "  - p_value 0.000142396935727\n",
        "  - standard deviation 0.000320759029387\n"
       ]
      }
     ],
     "prompt_number": 8
    },
    {
     "cell_type": "markdown",
     "metadata": {},
     "source": [
      "We can see a weak correlation, which results from using a small subset of the full network as an example. When I ran this same regression using the indegree centrality scores of the full network of 1.2 million citation edges versus the top 1000 most popular cases from each jurisdiction, the correlation was veryu strong (over 0.40), as we might expect it to be. Another sign that nothing is horribly wrong with our graph! Keep those coming.\n"
     ]
    },
    {
     "cell_type": "code",
     "collapsed": false,
     "input": [
      "from collections import defaultdict \n",
      "\n",
      "def prune(G, year):\n",
      "    get_edge_data = G.get_edge_data\n",
      "    for edge in G.edges():\n",
      "        _year = (get_edge_data(*edge) or {}).get('year')\n",
      "        if _year and _year != year:\n",
      "            G.remove_edge(*edge)\n",
      "            \n",
      "ranks = defaultdict(list)\n",
      "\n",
      "for year in range(2000, 2014):\n",
      "    H = G.copy()\n",
      "    prune(H, year)\n",
      "    for _id, rank in H.in_degree().items():\n",
      "        ranks[_id].append(rank)\n"
     ],
     "language": "python",
     "metadata": {},
     "outputs": [],
     "prompt_number": 9
    },
    {
     "cell_type": "code",
     "collapsed": false,
     "input": [
      "# Now we have indegree rankings for each case for each year:\n",
      "import pprint\n",
      "\n",
      "years = range(2000, 2014)\n",
      "pprint.pprint(zip(years, ranks[highest]))"
     ],
     "language": "python",
     "metadata": {},
     "outputs": [
      {
       "output_type": "stream",
       "stream": "stdout",
       "text": [
        "[(2000, 0),\n",
        " (2001, 4),\n",
        " (2002, 9),\n",
        " (2003, 3),\n",
        " (2004, 6),\n",
        " (2005, 6),\n",
        " (2006, 0),\n",
        " (2007, 2),\n",
        " (2008, 1),\n",
        " (2009, 1),\n",
        " (2010, 1),\n",
        " (2011, 4),\n",
        " (2012, 2),\n",
        " (2013, 1)]\n"
       ]
      }
     ],
     "prompt_number": 10
    },
    {
     "cell_type": "markdown",
     "metadata": {},
     "source": [
      "Plotting Changes in the Network Ranking of a Case over Time\n",
      "---------------------------------------------------------------\n",
      "\n",
      "Now that we have time series data for the each case's network ranking over time, we can plot them and \n",
      "get an idea of whether each case is trending positively or negatively."
     ]
    },
    {
     "cell_type": "code",
     "collapsed": false,
     "input": [
      "from itertools import dropwhile\n",
      "\n",
      "def polyfit(x, y, degree):\n",
      "    results = {}\n",
      "    coeffs = numpy.polyfit(x, y, degree)\n",
      "\n",
      "     # Polynomial Coefficients\n",
      "    results['polynomial'] = coeffs.tolist()\n",
      "\n",
      "    # r-squared\n",
      "    p = numpy.poly1d(coeffs)\n",
      "    # fit values, and mean\n",
      "    yhat = p(x)                         # or [p(z) for z in x]\n",
      "    ybar = numpy.sum(y)/len(y)          # or sum(y)/len(y)\n",
      "    ssreg = numpy.sum((yhat-ybar)**2)   # or sum([ (yihat - ybar)**2 for yihat in yhat])\n",
      "    sstot = numpy.sum((y - ybar)**2)    # or sum([ (yi - ybar)**2 for yi in y])\n",
      "    results['determination'] = ssreg / sstot\n",
      "    results['fit_fn'] = p\n",
      "\n",
      "    return results\n",
      "\n",
      "def plot(case, degree=1):\n",
      "    vals = ranks[case]\n",
      "    vals = zip(range(2000, 2014), vals)\n",
      "    vals = list(dropwhile(lambda (year, deg): not deg, vals))\n",
      "\n",
      "    x_series, y_series = zip(*vals)\n",
      "\n",
      "    fig = plt.figure()\n",
      "\n",
      "    # Plot the scatter.\n",
      "    ax = fig.add_subplot(111)\n",
      "    ax.plot(x_series, y_series, 'o')\n",
      "\n",
      "    # Plot the regression line.\n",
      "    result = polyfit(x_series, y_series, degree)\n",
      "    ax = fig.add_subplot(111)\n",
      "    ax.plot(x_series, result['fit_fn'](x_series), label='Degree %d, r2=%r' % (degree, result['determination']))\n",
      "    #ax.fill_between(x_series, result['fit_fn'](x_series), facecolor='y', alpha=0.3)\n",
      "\n",
      "    plt.title('Citation: %s' % case)\n",
      "    ymax = max(y_series)\n",
      "    plt.legend()\n",
      "    plt.ylim(ymin=0, ymax=ymax + ymax * 0.1)\n",
      "    plt.xlim(xmin=min(x_series), xmax=max(x_series))\n",
      "    plt.show()\n",
      "\n",
      "    \n",
      "plot(highest, degree=1)"
     ],
     "language": "python",
     "metadata": {},
     "outputs": [
      {
       "metadata": {},
       "output_type": "display_data",
       "png": "[encoded data removed]",
       "text": [
        "<matplotlib.figure.Figure at 0x7604450>"
       ]
      }
     ],
     "prompt_number": 11
    },
    {
     "cell_type": "code",
     "collapsed": false,
     "input": [],
     "language": "python",
     "metadata": {},
     "outputs": []
    }
   ],
   "metadata": {}
  }
 ]
}