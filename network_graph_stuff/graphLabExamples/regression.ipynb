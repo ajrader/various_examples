{
 "cells": [
  {
   "cell_type": "markdown",
   "metadata": {},
   "source": [
    "# Regression with GraphLab\n",
    "\n",
    "Creating regression models is easy with GraphLab Create! The regression toolkit implements the following models:\n",
    "\n",
    "* Linear regression\n",
    "* Boosted Decision Trees\n",
    "\n",
    "These algorithms differ in how they make predictions, but conform to the same API. With all models, call create() to create a model, predict() to make predictions on the returned model, and evaluate() to measure performance of the predictions. All models can incorporate:\n",
    "\n",
    "* Numeric features\n",
    "* Categorical variables\n",
    "* Sparse features (i.e feature sets that have a large set of features, of which only a small subset of values are non-zero)\n",
    "* Dense features (i.e feature sets with a large number of numeric features)\n",
    "* Text data\n",
    "* Images\n",
    "\n",
    "### Model Selector\n",
    "\n",
    "It isn't always clear that we know exactly which model is suitable for a given task. GraphLab Create's model selector automatically picks the right model for you based on statistics collected from the data set."
   ]
  },
  {
   "cell_type": "code",
   "execution_count": 1,
   "metadata": {
    "collapsed": false
   },
   "outputs": [
    {
     "name": "stderr",
     "output_type": "stream",
     "text": [
      "[INFO] \u001b[1;32m1451496617 : INFO:     (initialize_globals_from_environment:282): Setting configuration variable GRAPHLAB_FILEIO_ALTERNATIVE_SSL_CERT_FILE to C:\\Anaconda\\envs\\dato-env\\lib\\site-packages\\certifi\\cacert.pem\n",
      "\u001b[0m\u001b[1;32m1451496617 : INFO:     (initialize_globals_from_environment:282): Setting configuration variable GRAPHLAB_FILEIO_ALTERNATIVE_SSL_CERT_DIR to \n",
      "\u001b[0mThis trial license of GraphLab Create is assigned to aj.rader.kesj@statefarm.com and will expire on February 05, 2016. Please contact trial@dato.com for licensing options or to request a free non-commercial license for personal or academic use.\n",
      "\n",
      "[INFO] Start server at: ipc:///tmp/graphlab_server-26908 - Server binary: C:\\Anaconda\\envs\\dato-env\\lib\\site-packages\\graphlab\\unity_server.exe - Server log: C:\\Users\\kesj\\AppData\\Local\\Temp\\graphlab_server_1451496617.log.0\n",
      "[INFO] GraphLab Server Version: 1.7.1\n"
     ]
    },
    {
     "name": "stdout",
     "output_type": "stream",
     "text": [
      "PROGRESS: Downloading http://s3.amazonaws.com/dato-datasets/regression/yelp-data.csv to C:/Users/kesj/AppData/Local/Temp/graphlab-KESJ/26908/e3fd6c55-4c83-4f2a-8917-6b4903d6a9d3.csv\n",
      "PROGRESS: Finished parsing file http://s3.amazonaws.com/dato-datasets/regression/yelp-data.csv\n",
      "PROGRESS: Parsing completed. Parsed 100 lines in 1.20212 secs.\n",
      "------------------------------------------------------\n",
      "Inferred types from first line of file as \n",
      "column_type_hints=[str,str,str,long,str,str,str,dict,long,long,long,list,str,str,float,float,str,long,long,float,str,str,float,str,long,str,long,long,long,dict]\n",
      "If parsing fails due to incorrect types, you can correct\n",
      "the inferred type list above and pass it to read_csv in\n",
      "the column_type_hints argument\n",
      "------------------------------------------------------\n",
      "PROGRESS: Read 47948 lines. Lines per second: 28829.4\n",
      "PROGRESS: Finished parsing file http://s3.amazonaws.com/dato-datasets/regression/yelp-data.csv\n",
      "PROGRESS: Parsing completed. Parsed 215879 lines in 4.54445 secs.\n",
      "PROGRESS: Boosted trees regression:\n",
      "PROGRESS: --------------------------------------------------------\n",
      "PROGRESS: Number of examples          : 172810\n",
      "PROGRESS: Number of features          : 4\n",
      "PROGRESS: Number of unpacked features : 4\n",
      "PROGRESS: Starting Boosted Trees\n",
      "PROGRESS: --------------------------------------------------------\n",
      "PROGRESS:   Iter        RMSE Elapsed time\n",
      "PROGRESS:      0  2.541e+000        0.16s\n",
      "PROGRESS:      1  1.906e+000        0.30s\n",
      "PROGRESS:      2  1.500e+000        0.46s\n",
      "PROGRESS:      3  1.254e+000        0.66s\n",
      "PROGRESS:      4  1.113e+000        0.81s\n",
      "PROGRESS:      5  1.036e+000        0.98s\n",
      "PROGRESS:      6  9.964e-001        1.14s\n",
      "PROGRESS:      7  9.759e-001        1.29s\n",
      "PROGRESS:      8  9.655e-001        1.45s\n",
      "PROGRESS:      9  9.601e-001        1.61s\n"
     ]
    }
   ],
   "source": [
    "import graphlab as gl\n",
    "\n",
    "# Load the data\n",
    "data =  gl.SFrame('http://s3.amazonaws.com/dato-datasets/regression/yelp-data.csv')\n",
    "\n",
    "# Make a train-test split\n",
    "train_data, test_data = data.random_split(0.8)\n",
    "\n",
    "# Automatically picks the right model based on your data.\n",
    "model = gl.regression.create(train_data, target='stars',\n",
    "                                    features = ['user_avg_stars',\n",
    "                                                'business_avg_stars',\n",
    "                                                'user_review_count',\n",
    "                                                'business_review_count'])\n",
    "\n",
    "# Save predictions to an SArray\n",
    "predictions = model.predict(test_data)\n",
    "\n",
    "# Evaluate the model and save the results into a dictionary\n",
    "results = model.evaluate(test_data)"
   ]
  },
  {
   "cell_type": "markdown",
   "metadata": {},
   "source": [
    "GraphLab create implementations are built to work with up to billions of examples and up to millions of features. GraphLab Create also provides a wrapper to Vowpal Wabbit, an open source out- of-core learning system that is also known to be fast and scalable."
   ]
  },
  {
   "cell_type": "markdown",
   "metadata": {},
   "source": [
    "## Linear Regression\n",
    "\n",
    "GraphLab's linear regression module is used to predict a continuous target as a linear function of features. This is a two-stage process, analogous to many other GraphLab toolkits. First a model is created (or trained), using training data. Once the model is created, it can then be used to make predictions on new examples that were not seen in training (the test data). Model creation, prediction, and evaluation work will data that is contained in an SFrame. The following figure illustrates how linear regression works. Notice that the functional form learned here is a linear function (unlike the previous figure where the predicted function was non-linear).\n",
    "\n"
   ]
  },
  {
   "cell_type": "code",
   "execution_count": null,
   "metadata": {
    "collapsed": true
   },
   "outputs": [],
   "source": []
  }
 ],
 "metadata": {
  "kernelspec": {
   "display_name": "Python 2",
   "language": "python",
   "name": "python2"
  },
  "language_info": {
   "codemirror_mode": {
    "name": "ipython",
    "version": 2
   },
   "file_extension": ".py",
   "mimetype": "text/x-python",
   "name": "python",
   "nbconvert_exporter": "python",
   "pygments_lexer": "ipython2",
   "version": "2.7.10"
  }
 },
 "nbformat": 4,
 "nbformat_minor": 0
}
