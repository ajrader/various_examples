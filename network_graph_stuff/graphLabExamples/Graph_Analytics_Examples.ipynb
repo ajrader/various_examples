{
 "cells": [
  {
   "cell_type": "markdown",
   "metadata": {},
   "source": [
    "# GraphLab Modeling Examples\n",
    "from https://dato.com/learn/userguide/graph_analytics/graph_analytics.html\n",
    "December 30, 2015"
   ]
  },
  {
   "cell_type": "markdown",
   "metadata": {},
   "source": [
    "To illustrate some of these methods, we'll use a previously created SGraph where vertices represent Wikipedia articles about US businesses and edges represent hyperlinks between articles. This data is available under the Creative Commons Attribution-ShareAlike 3.0 Unported License (more details here: http://en.wikipedia.org/wiki/Wikipedia:Copyrights). It can be downloaded from Dato's public datasets bucket on Amazon S3. The remaining methods are left for the reader to explore in the exercises at the end of the chapter."
   ]
  },
  {
   "cell_type": "code",
   "execution_count": 1,
   "metadata": {
    "collapsed": true
   },
   "outputs": [],
   "source": [
    "import os\n",
    "data_file = 'US_business_links'"
   ]
  },
  {
   "cell_type": "code",
   "execution_count": 2,
   "metadata": {
    "collapsed": true
   },
   "outputs": [],
   "source": [
    "import graphlab as gl"
   ]
  },
  {
   "cell_type": "code",
   "execution_count": 8,
   "metadata": {
    "collapsed": false
   },
   "outputs": [
    {
     "data": {
      "text/plain": [
       "'C:\\\\Users\\\\kesj\\\\Documents\\\\IPython Notebooks\\\\GeneralDataAnalysis\\\\graphLabExamples'"
      ]
     },
     "execution_count": 8,
     "metadata": {},
     "output_type": "execute_result"
    }
   ],
   "source": [
    "os.getcwd()"
   ]
  },
  {
   "cell_type": "code",
   "execution_count": 9,
   "metadata": {
    "collapsed": true
   },
   "outputs": [],
   "source": [
    "os.chdir('../../../../data/graphlabData/')"
   ]
  },
  {
   "cell_type": "code",
   "execution_count": 10,
   "metadata": {
    "collapsed": false
   },
   "outputs": [
    {
     "name": "stderr",
     "output_type": "stream",
     "text": [
      "[INFO] \u001b[1;32m1451494970 : INFO:     (initialize_globals_from_environment:282): Setting configuration variable GRAPHLAB_FILEIO_ALTERNATIVE_SSL_CERT_FILE to C:\\Anaconda\\envs\\dato-env\\lib\\site-packages\\certifi\\cacert.pem\n",
      "\u001b[0m\u001b[1;32m1451494970 : INFO:     (initialize_globals_from_environment:282): Setting configuration variable GRAPHLAB_FILEIO_ALTERNATIVE_SSL_CERT_DIR to \n",
      "\u001b[0mThis trial license of GraphLab Create is assigned to aj.rader.kesj@statefarm.com and will expire on February 05, 2016. Please contact trial@dato.com for licensing options or to request a free non-commercial license for personal or academic use.\n",
      "\n",
      "[INFO] Start server at: ipc:///tmp/graphlab_server-26016 - Server binary: C:\\Anaconda\\envs\\dato-env\\lib\\site-packages\\graphlab\\unity_server.exe - Server log: C:\\Users\\kesj\\AppData\\Local\\Temp\\graphlab_server_1451494970.log.0\n",
      "[INFO] GraphLab Server Version: 1.7.1\n"
     ]
    },
    {
     "name": "stdout",
     "output_type": "stream",
     "text": [
      "PROGRESS: Downloading http://s3.amazonaws.com/dato-datasets/US_business_links/dir_archive.ini to C:/Users/kesj/AppData/Local/Temp/graphlab-KESJ/26016/eea28cbd-613a-490d-b2a1-b7f4bcb3bf3b.ini\n",
      "PROGRESS: Downloading http://s3.amazonaws.com/dato-datasets/US_business_links/objects.bin to C:/Users/kesj/AppData/Local/Temp/graphlab-KESJ/26016/33be2280-3ed8-4cec-b6e6-38e2c2aec6b7.bin\n",
      "PROGRESS: Downloading http://s3.amazonaws.com/dato-datasets/US_business_links/m_74b0dc51.frame_idx to C:/Users/kesj/AppData/Local/Temp/graphlab-KESJ/26016/c5a8e872-a199-40ce-aac0-55fff7fd8ae1.frame_idx\n",
      "PROGRESS: Downloading http://s3.amazonaws.com/dato-datasets/US_business_links/m_74b0dc51.sidx to C:/Users/kesj/AppData/Local/Temp/graphlab-KESJ/26016/56df59d6-d2c5-4e46-bdac-6b4f7c897e5b.sidx\n",
      "PROGRESS: Downloading http://s3.amazonaws.com/dato-datasets/US_business_links/m_19495cff.frame_idx to C:/Users/kesj/AppData/Local/Temp/graphlab-KESJ/26016/4db1cc34-1ea4-4c69-a532-2e82b242caf7.frame_idx\n",
      "PROGRESS: Downloading http://s3.amazonaws.com/dato-datasets/US_business_links/m_19495cff.sidx to C:/Users/kesj/AppData/Local/Temp/graphlab-KESJ/26016/00880957-66f3-4c7e-9d7b-429208339a61.sidx\n",
      "PROGRESS: Downloading http://s3.amazonaws.com/dato-datasets/US_business_links/m_2ae8944a.frame_idx to C:/Users/kesj/AppData/Local/Temp/graphlab-KESJ/26016/9a5558dd-3436-4caa-a162-1ef3df20f489.frame_idx\n",
      "PROGRESS: Downloading http://s3.amazonaws.com/dato-datasets/US_business_links/m_2ae8944a.sidx to C:/Users/kesj/AppData/Local/Temp/graphlab-KESJ/26016/070e8e7e-c752-4a63-b157-3abcbb4d012b.sidx\n",
      "PROGRESS: Downloading http://s3.amazonaws.com/dato-datasets/US_business_links/m_625558ec.frame_idx to C:/Users/kesj/AppData/Local/Temp/graphlab-KESJ/26016/3acb66ed-fe83-4ce6-b5cf-b9b1881b6fd8.frame_idx\n",
      "PROGRESS: Downloading http://s3.amazonaws.com/dato-datasets/US_business_links/m_625558ec.sidx to C:/Users/kesj/AppData/Local/Temp/graphlab-KESJ/26016/d48b7ef3-afa2-4185-a772-68f64ad3a70a.sidx\n",
      "PROGRESS: Downloading http://s3.amazonaws.com/dato-datasets/US_business_links/m_238e1f29.frame_idx to C:/Users/kesj/AppData/Local/Temp/graphlab-KESJ/26016/27b11dbe-7751-447d-94c2-aaef8e73f41f.frame_idx\n",
      "PROGRESS: Downloading http://s3.amazonaws.com/dato-datasets/US_business_links/m_238e1f29.sidx to C:/Users/kesj/AppData/Local/Temp/graphlab-KESJ/26016/b3a666dd-1a27-44a2-bd82-205621a3a1a8.sidx\n",
      "PROGRESS: Downloading http://s3.amazonaws.com/dato-datasets/US_business_links/m_46e87ccd.frame_idx to C:/Users/kesj/AppData/Local/Temp/graphlab-KESJ/26016/de284ac1-d4d6-450d-b585-c928eb34a8a6.frame_idx\n",
      "PROGRESS: Downloading http://s3.amazonaws.com/dato-datasets/US_business_links/m_46e87ccd.sidx to C:/Users/kesj/AppData/Local/Temp/graphlab-KESJ/26016/69f1746c-8f5a-4e93-8101-f192fa92ed35.sidx\n",
      "PROGRESS: Downloading http://s3.amazonaws.com/dato-datasets/US_business_links/m_3d1b58ba.frame_idx to C:/Users/kesj/AppData/Local/Temp/graphlab-KESJ/26016/0c4fa9bb-0938-4b10-8e41-764fbb8fd8ea.frame_idx\n",
      "PROGRESS: Downloading http://s3.amazonaws.com/dato-datasets/US_business_links/m_3d1b58ba.sidx to C:/Users/kesj/AppData/Local/Temp/graphlab-KESJ/26016/9b24817b-1242-44c9-93da-255442f50f42.sidx\n",
      "PROGRESS: Downloading http://s3.amazonaws.com/dato-datasets/US_business_links/m_507ed7ab.frame_idx to C:/Users/kesj/AppData/Local/Temp/graphlab-KESJ/26016/ae1c461b-0d76-4c71-9f26-29509b6a26d2.frame_idx\n",
      "PROGRESS: Downloading http://s3.amazonaws.com/dato-datasets/US_business_links/m_507ed7ab.sidx to C:/Users/kesj/AppData/Local/Temp/graphlab-KESJ/26016/eac5140b-7740-4884-ae25-794a9badac24.sidx\n",
      "PROGRESS: Downloading http://s3.amazonaws.com/dato-datasets/US_business_links/m_2eb141f2.frame_idx to C:/Users/kesj/AppData/Local/Temp/graphlab-KESJ/26016/9c5c46b0-b158-4bd5-b1b9-b2104412a8f7.frame_idx\n",
      "PROGRESS: Downloading http://s3.amazonaws.com/dato-datasets/US_business_links/m_2eb141f2.sidx to C:/Users/kesj/AppData/Local/Temp/graphlab-KESJ/26016/8bf6ccfa-0300-4fa4-91ae-452282fc9a11.sidx\n",
      "PROGRESS: Downloading http://s3.amazonaws.com/dato-datasets/US_business_links/m_41b71efb.frame_idx to C:/Users/kesj/AppData/Local/Temp/graphlab-KESJ/26016/af67ebef-df3f-4b83-a2e8-3a9397daa1b1.frame_idx\n",
      "PROGRESS: Downloading http://s3.amazonaws.com/dato-datasets/US_business_links/m_41b71efb.sidx to C:/Users/kesj/AppData/Local/Temp/graphlab-KESJ/26016/0bc23a2a-b583-4a20-b170-d92bdeb88825.sidx\n",
      "PROGRESS: Downloading http://s3.amazonaws.com/dato-datasets/US_business_links/m_79e2a9e3.frame_idx to C:/Users/kesj/AppData/Local/Temp/graphlab-KESJ/26016/fe385bb1-d7a5-4859-85ea-0a66b9a49956.frame_idx\n",
      "PROGRESS: Downloading http://s3.amazonaws.com/dato-datasets/US_business_links/m_79e2a9e3.sidx to C:/Users/kesj/AppData/Local/Temp/graphlab-KESJ/26016/6a82516c-a125-465c-ad7a-e1d1e805ce56.sidx\n",
      "PROGRESS: Downloading http://s3.amazonaws.com/dato-datasets/US_business_links/m_7545e146.frame_idx to C:/Users/kesj/AppData/Local/Temp/graphlab-KESJ/26016/374d90c4-89dc-4967-b17f-d623ba03bc98.frame_idx\n",
      "PROGRESS: Downloading http://s3.amazonaws.com/dato-datasets/US_business_links/m_7545e146.sidx to C:/Users/kesj/AppData/Local/Temp/graphlab-KESJ/26016/171159df-fa70-41df-aaa7-7fe895dafacd.sidx\n",
      "PROGRESS: Downloading http://s3.amazonaws.com/dato-datasets/US_business_links/m_515f007c.frame_idx to C:/Users/kesj/AppData/Local/Temp/graphlab-KESJ/26016/1d931772-eac4-4d47-ab1c-38c8058984a0.frame_idx\n",
      "PROGRESS: Downloading http://s3.amazonaws.com/dato-datasets/US_business_links/m_515f007c.sidx to C:/Users/kesj/AppData/Local/Temp/graphlab-KESJ/26016/18cf3221-2bca-4275-9420-4e7ea6a62914.sidx\n",
      "PROGRESS: Downloading http://s3.amazonaws.com/dato-datasets/US_business_links/m_5bd062c2.frame_idx to C:/Users/kesj/AppData/Local/Temp/graphlab-KESJ/26016/3d24726f-df07-4489-a580-81b7d8fc92ae.frame_idx\n",
      "PROGRESS: Downloading http://s3.amazonaws.com/dato-datasets/US_business_links/m_5bd062c2.sidx to C:/Users/kesj/AppData/Local/Temp/graphlab-KESJ/26016/d69b72c5-7e55-4258-8bd7-5ebbb9046724.sidx\n",
      "PROGRESS: Downloading http://s3.amazonaws.com/dato-datasets/US_business_links/m_12200854.frame_idx to C:/Users/kesj/AppData/Local/Temp/graphlab-KESJ/26016/969b30ef-aacc-4dd8-a369-276db97cffb6.frame_idx\n",
      "PROGRESS: Downloading http://s3.amazonaws.com/dato-datasets/US_business_links/m_12200854.sidx to C:/Users/kesj/AppData/Local/Temp/graphlab-KESJ/26016/80c425e2-169a-41a9-be96-91a35afd07e1.sidx\n",
      "PROGRESS: Downloading http://s3.amazonaws.com/dato-datasets/US_business_links/m_4db127f8.frame_idx to C:/Users/kesj/AppData/Local/Temp/graphlab-KESJ/26016/307a2471-5ac1-4fec-8c35-194604c60b87.frame_idx\n",
      "PROGRESS: Downloading http://s3.amazonaws.com/dato-datasets/US_business_links/m_4db127f8.sidx to C:/Users/kesj/AppData/Local/Temp/graphlab-KESJ/26016/e68ee97d-fbcb-4892-9622-d5e57e34f541.sidx\n",
      "PROGRESS: Downloading http://s3.amazonaws.com/dato-datasets/US_business_links/m_216231b.frame_idx to C:/Users/kesj/AppData/Local/Temp/graphlab-KESJ/26016/2d0a2481-46a7-4bf9-a3bf-66a16904b9d8.frame_idx\n",
      "PROGRESS: Downloading http://s3.amazonaws.com/dato-datasets/US_business_links/m_216231b.sidx to C:/Users/kesj/AppData/Local/Temp/graphlab-KESJ/26016/90acd7e7-8338-4fd5-a23e-a7afa551ce48.sidx\n",
      "PROGRESS: Downloading http://s3.amazonaws.com/dato-datasets/US_business_links/m_1f16e9e8.frame_idx to C:/Users/kesj/AppData/Local/Temp/graphlab-KESJ/26016/b1e943a6-40ff-48ca-9b99-0ffd3f6572c6.frame_idx\n",
      "PROGRESS: Downloading http://s3.amazonaws.com/dato-datasets/US_business_links/m_1f16e9e8.sidx to C:/Users/kesj/AppData/Local/Temp/graphlab-KESJ/26016/bc8b76d4-2685-47b3-986e-9e2f0ce46bbb.sidx\n",
      "PROGRESS: Downloading http://s3.amazonaws.com/dato-datasets/US_business_links/m_1190cde7.frame_idx to C:/Users/kesj/AppData/Local/Temp/graphlab-KESJ/26016/2733b346-3165-4ac5-92a3-2b8b197246f3.frame_idx\n",
      "PROGRESS: Downloading http://s3.amazonaws.com/dato-datasets/US_business_links/m_1190cde7.sidx to C:/Users/kesj/AppData/Local/Temp/graphlab-KESJ/26016/02b51c0a-c7b3-4aeb-af97-a31a264a43de.sidx\n",
      "PROGRESS: Downloading http://s3.amazonaws.com/dato-datasets/US_business_links/m_66ef438d.frame_idx to C:/Users/kesj/AppData/Local/Temp/graphlab-KESJ/26016/f06b29f1-a947-4de5-b1a7-9011115e59ca.frame_idx\n",
      "PROGRESS: Downloading http://s3.amazonaws.com/dato-datasets/US_business_links/m_66ef438d.sidx to C:/Users/kesj/AppData/Local/Temp/graphlab-KESJ/26016/3f1dd204-0d83-494c-a6ca-4f985cf5e512.sidx\n",
      "PROGRESS: Downloading http://s3.amazonaws.com/dato-datasets/US_business_links/m_140e0f76.frame_idx to C:/Users/kesj/AppData/Local/Temp/graphlab-KESJ/26016/d6250d83-8cc7-4a59-82e8-f03a06ff6a54.frame_idx\n",
      "PROGRESS: Downloading http://s3.amazonaws.com/dato-datasets/US_business_links/m_140e0f76.sidx to C:/Users/kesj/AppData/Local/Temp/graphlab-KESJ/26016/b841073d-8f10-4676-9e9f-6d12fba9dbb6.sidx\n",
      "PROGRESS: Downloading http://s3.amazonaws.com/dato-datasets/US_business_links/m_3352255a.frame_idx to C:/Users/kesj/AppData/Local/Temp/graphlab-KESJ/26016/4e79d983-bd46-40cf-99fd-20ae814edd92.frame_idx\n",
      "PROGRESS: Downloading http://s3.amazonaws.com/dato-datasets/US_business_links/m_3352255a.sidx to C:/Users/kesj/AppData/Local/Temp/graphlab-KESJ/26016/ef2c7d91-110f-4a98-b954-c4736889be52.sidx\n",
      "PROGRESS: Downloading http://s3.amazonaws.com/dato-datasets/US_business_links/m_109cf92e.frame_idx to C:/Users/kesj/AppData/Local/Temp/graphlab-KESJ/26016/19bf83fa-8b68-47be-8d91-b7d3a2c14f25.frame_idx\n",
      "PROGRESS: Downloading http://s3.amazonaws.com/dato-datasets/US_business_links/m_109cf92e.sidx to C:/Users/kesj/AppData/Local/Temp/graphlab-KESJ/26016/9acd77f7-0638-49bd-a683-aeab392d7343.sidx\n",
      "PROGRESS: Downloading http://s3.amazonaws.com/dato-datasets/US_business_links/m_ded7263.frame_idx to C:/Users/kesj/AppData/Local/Temp/graphlab-KESJ/26016/47aa1524-dd37-4d59-a65e-f73bf479cca1.frame_idx\n",
      "PROGRESS: Downloading http://s3.amazonaws.com/dato-datasets/US_business_links/m_ded7263.sidx to C:/Users/kesj/AppData/Local/Temp/graphlab-KESJ/26016/b4c99979-2859-479a-bc72-f4fcb9fe1094.sidx\n",
      "PROGRESS: Downloading http://s3.amazonaws.com/dato-datasets/US_business_links/m_7fdcc233.frame_idx to C:/Users/kesj/AppData/Local/Temp/graphlab-KESJ/26016/81af8954-fec1-4943-aa25-0af14f08f294.frame_idx\n",
      "PROGRESS: Downloading http://s3.amazonaws.com/dato-datasets/US_business_links/m_7fdcc233.sidx to C:/Users/kesj/AppData/Local/Temp/graphlab-KESJ/26016/0e817b7b-ca8a-4ae6-9947-c1549894da75.sidx\n",
      "PROGRESS: Downloading http://s3.amazonaws.com/dato-datasets/US_business_links/m_1befd79f.frame_idx to C:/Users/kesj/AppData/Local/Temp/graphlab-KESJ/26016/1f230ca7-037c-4ad0-8934-4281024cfc72.frame_idx\n",
      "PROGRESS: Downloading http://s3.amazonaws.com/dato-datasets/US_business_links/m_1befd79f.sidx to C:/Users/kesj/AppData/Local/Temp/graphlab-KESJ/26016/a4ebcb50-ad7a-4a70-b06f-abbd62aea74a.sidx\n",
      "PROGRESS: Downloading http://s3.amazonaws.com/dato-datasets/US_business_links/m_41a7c4c9.frame_idx to C:/Users/kesj/AppData/Local/Temp/graphlab-KESJ/26016/abbb5834-8ac3-4cb2-8373-bee1fb4835e5.frame_idx\n",
      "PROGRESS: Downloading http://s3.amazonaws.com/dato-datasets/US_business_links/m_41a7c4c9.sidx to C:/Users/kesj/AppData/Local/Temp/graphlab-KESJ/26016/66f00d56-5cab-48d8-abd2-71f55c3a1c8f.sidx\n",
      "PROGRESS: Downloading http://s3.amazonaws.com/dato-datasets/US_business_links/m_6b68079a.frame_idx to C:/Users/kesj/AppData/Local/Temp/graphlab-KESJ/26016/fb99a27f-b1f5-486f-8dec-a15044b6e312.frame_idx\n",
      "PROGRESS: Downloading http://s3.amazonaws.com/dato-datasets/US_business_links/m_6b68079a.sidx to C:/Users/kesj/AppData/Local/Temp/graphlab-KESJ/26016/d0eeb8c1-3d25-4075-9f26-5fd0d1ac9dcc.sidx\n",
      "PROGRESS: Downloading http://s3.amazonaws.com/dato-datasets/US_business_links/m_4e6afb66.frame_idx to C:/Users/kesj/AppData/Local/Temp/graphlab-KESJ/26016/15e79bf8-1bce-4fa8-9712-9c36c22f4674.frame_idx\n",
      "PROGRESS: Downloading http://s3.amazonaws.com/dato-datasets/US_business_links/m_4e6afb66.sidx to C:/Users/kesj/AppData/Local/Temp/graphlab-KESJ/26016/1e3cc707-4b57-4027-866a-f5a5cf809a97.sidx\n",
      "PROGRESS: Downloading http://s3.amazonaws.com/dato-datasets/US_business_links/m_25e45d32.frame_idx to C:/Users/kesj/AppData/Local/Temp/graphlab-KESJ/26016/f4f60c3f-42f1-496c-9605-4ef994b200e0.frame_idx\n",
      "PROGRESS: Downloading http://s3.amazonaws.com/dato-datasets/US_business_links/m_25e45d32.sidx to C:/Users/kesj/AppData/Local/Temp/graphlab-KESJ/26016/69698979-7a9c-43c8-a160-29305fc69d76.sidx\n",
      "PROGRESS: Downloading http://s3.amazonaws.com/dato-datasets/US_business_links/m_519b500d.frame_idx to C:/Users/kesj/AppData/Local/Temp/graphlab-KESJ/26016/755dfd19-b804-4790-996a-16ac2518c45b.frame_idx\n",
      "PROGRESS: Downloading http://s3.amazonaws.com/dato-datasets/US_business_links/m_519b500d.sidx to C:/Users/kesj/AppData/Local/Temp/graphlab-KESJ/26016/9bba20af-fe1b-4953-9b1c-22aa4e8109de.sidx\n",
      "PROGRESS: Downloading http://s3.amazonaws.com/dato-datasets/US_business_links/m_431bd7b7.frame_idx to C:/Users/kesj/AppData/Local/Temp/graphlab-KESJ/26016/3d19a370-201c-4750-ad20-280e0634483d.frame_idx\n",
      "PROGRESS: Downloading http://s3.amazonaws.com/dato-datasets/US_business_links/m_431bd7b7.sidx to C:/Users/kesj/AppData/Local/Temp/graphlab-KESJ/26016/9eae9055-45f9-4702-af81-cba7d3708936.sidx\n",
      "PROGRESS: Downloading http://s3.amazonaws.com/dato-datasets/US_business_links/m_3f2dba31.frame_idx to C:/Users/kesj/AppData/Local/Temp/graphlab-KESJ/26016/547c2912-64fe-4e70-a8ae-621e1a1030fa.frame_idx\n",
      "PROGRESS: Downloading http://s3.amazonaws.com/dato-datasets/US_business_links/m_3f2dba31.sidx to C:/Users/kesj/AppData/Local/Temp/graphlab-KESJ/26016/4bed319d-e480-4cf5-a4d7-0b5c3db2c9b5.sidx\n",
      "PROGRESS: Downloading http://s3.amazonaws.com/dato-datasets/US_business_links/m_7c83e458.frame_idx to C:/Users/kesj/AppData/Local/Temp/graphlab-KESJ/26016/b2cd6171-4c46-46f4-a994-35aa3851ffbf.frame_idx\n",
      "PROGRESS: Downloading http://s3.amazonaws.com/dato-datasets/US_business_links/m_7c83e458.sidx to C:/Users/kesj/AppData/Local/Temp/graphlab-KESJ/26016/d000e0ad-de12-46d6-8f00-646830301b59.sidx\n",
      "PROGRESS: Downloading http://s3.amazonaws.com/dato-datasets/US_business_links/m_257130a3.frame_idx to C:/Users/kesj/AppData/Local/Temp/graphlab-KESJ/26016/21caff10-ae38-4644-b31f-88d610a83da2.frame_idx\n",
      "PROGRESS: Downloading http://s3.amazonaws.com/dato-datasets/US_business_links/m_257130a3.sidx to C:/Users/kesj/AppData/Local/Temp/graphlab-KESJ/26016/298bb6ce-5148-4af9-86ba-a10fda48989c.sidx\n",
      "PROGRESS: Downloading http://s3.amazonaws.com/dato-datasets/US_business_links/m_62bbd95a.frame_idx to C:/Users/kesj/AppData/Local/Temp/graphlab-KESJ/26016/001c3978-6f38-4019-b3ef-4694f3c94be0.frame_idx\n",
      "PROGRESS: Downloading http://s3.amazonaws.com/dato-datasets/US_business_links/m_62bbd95a.sidx to C:/Users/kesj/AppData/Local/Temp/graphlab-KESJ/26016/75a15a03-139f-47e6-90ae-fa0c5b3801bb.sidx\n",
      "PROGRESS: Downloading http://s3.amazonaws.com/dato-datasets/US_business_links/m_436c6125.frame_idx to C:/Users/kesj/AppData/Local/Temp/graphlab-KESJ/26016/8e3d06e0-4287-4fb6-b7d5-0d6294db5964.frame_idx\n",
      "PROGRESS: Downloading http://s3.amazonaws.com/dato-datasets/US_business_links/m_436c6125.sidx to C:/Users/kesj/AppData/Local/Temp/graphlab-KESJ/26016/43d956de-6f73-4c51-93a9-7f27ec7a0501.sidx\n",
      "PROGRESS: Downloading http://s3.amazonaws.com/dato-datasets/US_business_links/m_628c895d.frame_idx to C:/Users/kesj/AppData/Local/Temp/graphlab-KESJ/26016/cbc6d353-cbdb-4b14-9694-d070498da7b9.frame_idx\n",
      "PROGRESS: Downloading http://s3.amazonaws.com/dato-datasets/US_business_links/m_628c895d.sidx to C:/Users/kesj/AppData/Local/Temp/graphlab-KESJ/26016/56dcca94-e6da-4a96-8aed-77712b2a67ee.sidx\n",
      "PROGRESS: Downloading http://s3.amazonaws.com/dato-datasets/US_business_links/m_333ab105.frame_idx to C:/Users/kesj/AppData/Local/Temp/graphlab-KESJ/26016/255c8ea5-bbe0-4283-baa3-d36a8a1e44af.frame_idx\n",
      "PROGRESS: Downloading http://s3.amazonaws.com/dato-datasets/US_business_links/m_333ab105.sidx to C:/Users/kesj/AppData/Local/Temp/graphlab-KESJ/26016/632515d1-b8f7-42e0-863d-d5d66f576c0b.sidx\n",
      "PROGRESS: Downloading http://s3.amazonaws.com/dato-datasets/US_business_links/m_721da317.frame_idx to C:/Users/kesj/AppData/Local/Temp/graphlab-KESJ/26016/2f661374-2847-4fcf-b9e9-cf3a3f61387c.frame_idx\n",
      "PROGRESS: Downloading http://s3.amazonaws.com/dato-datasets/US_business_links/m_721da317.sidx to C:/Users/kesj/AppData/Local/Temp/graphlab-KESJ/26016/3585ea0a-00fa-47bc-80ee-73dbc9426895.sidx\n",
      "PROGRESS: Downloading http://s3.amazonaws.com/dato-datasets/US_business_links/m_2443a858.frame_idx to C:/Users/kesj/AppData/Local/Temp/graphlab-KESJ/26016/25fe50d5-688f-438e-b7f4-91d42c769810.frame_idx\n",
      "PROGRESS: Downloading http://s3.amazonaws.com/dato-datasets/US_business_links/m_2443a858.sidx to C:/Users/kesj/AppData/Local/Temp/graphlab-KESJ/26016/48e75e61-2994-42a6-92cc-2db719f9f9f8.sidx\n",
      "PROGRESS: Downloading http://s3.amazonaws.com/dato-datasets/US_business_links/m_2d1d5ae9.frame_idx to C:/Users/kesj/AppData/Local/Temp/graphlab-KESJ/26016/f55cad37-1837-492f-9d3b-d3fdb43ee779.frame_idx\n",
      "PROGRESS: Downloading http://s3.amazonaws.com/dato-datasets/US_business_links/m_2d1d5ae9.sidx to C:/Users/kesj/AppData/Local/Temp/graphlab-KESJ/26016/9e9402b5-6f01-4820-81f4-01324888c8ff.sidx\n",
      "PROGRESS: Downloading http://s3.amazonaws.com/dato-datasets/US_business_links/m_6763845e.frame_idx to C:/Users/kesj/AppData/Local/Temp/graphlab-KESJ/26016/138e97eb-54c2-4a94-b146-8e00580f04de.frame_idx\n",
      "PROGRESS: Downloading http://s3.amazonaws.com/dato-datasets/US_business_links/m_6763845e.sidx to C:/Users/kesj/AppData/Local/Temp/graphlab-KESJ/26016/0a9611e6-e95a-4ba1-a672-a0de6221be3f.sidx\n",
      "PROGRESS: Downloading http://s3.amazonaws.com/dato-datasets/US_business_links/m_75a2a8d4.frame_idx to C:/Users/kesj/AppData/Local/Temp/graphlab-KESJ/26016/b8b60ecd-4ce4-4214-8cca-b66540e9616c.frame_idx\n",
      "PROGRESS: Downloading http://s3.amazonaws.com/dato-datasets/US_business_links/m_75a2a8d4.sidx to C:/Users/kesj/AppData/Local/Temp/graphlab-KESJ/26016/c917a809-3eba-4a82-ab2d-610929c47e24.sidx\n",
      "PROGRESS: Downloading http://s3.amazonaws.com/dato-datasets/US_business_links/m_8edbdab.frame_idx to C:/Users/kesj/AppData/Local/Temp/graphlab-KESJ/26016/22ba8710-6c4d-4152-92fc-8f8cf4219e2a.frame_idx\n",
      "PROGRESS: Downloading http://s3.amazonaws.com/dato-datasets/US_business_links/m_8edbdab.sidx to C:/Users/kesj/AppData/Local/Temp/graphlab-KESJ/26016/36192b23-bad7-471b-a899-71eaa0482e5f.sidx\n",
      "PROGRESS: Downloading http://s3.amazonaws.com/dato-datasets/US_business_links/m_79838cb2.frame_idx to C:/Users/kesj/AppData/Local/Temp/graphlab-KESJ/26016/9288d45a-74c5-4d97-baf9-463f51a3dba1.frame_idx\n",
      "PROGRESS: Downloading http://s3.amazonaws.com/dato-datasets/US_business_links/m_79838cb2.sidx to C:/Users/kesj/AppData/Local/Temp/graphlab-KESJ/26016/ad09e8ea-be0b-4a81-84e3-3b002024bf25.sidx\n",
      "PROGRESS: Downloading http://s3.amazonaws.com/dato-datasets/US_business_links/m_4353d0cd.frame_idx to C:/Users/kesj/AppData/Local/Temp/graphlab-KESJ/26016/eb06c3e3-2b78-456d-8df3-9314aa921879.frame_idx\n",
      "PROGRESS: Downloading http://s3.amazonaws.com/dato-datasets/US_business_links/m_4353d0cd.sidx to C:/Users/kesj/AppData/Local/Temp/graphlab-KESJ/26016/674e64ea-2eee-4070-9967-ebb63d45b956.sidx\n",
      "PROGRESS: Downloading http://s3.amazonaws.com/dato-datasets/US_business_links/m_b03e0c6.frame_idx to C:/Users/kesj/AppData/Local/Temp/graphlab-KESJ/26016/e8c1dbc5-a9c0-4a65-9d60-e873bfd463db.frame_idx\n",
      "PROGRESS: Downloading http://s3.amazonaws.com/dato-datasets/US_business_links/m_b03e0c6.sidx to C:/Users/kesj/AppData/Local/Temp/graphlab-KESJ/26016/bf8b85e6-5817-457e-9b3b-fcfb8cfc1490.sidx\n",
      "PROGRESS: Downloading http://s3.amazonaws.com/dato-datasets/US_business_links/m_189a769b.frame_idx to C:/Users/kesj/AppData/Local/Temp/graphlab-KESJ/26016/314bd3f6-7302-4855-bde8-7e1fcf2c3dd2.frame_idx\n",
      "PROGRESS: Downloading http://s3.amazonaws.com/dato-datasets/US_business_links/m_189a769b.sidx to C:/Users/kesj/AppData/Local/Temp/graphlab-KESJ/26016/c9021ea5-690a-4cd3-9509-1d6434cec441.sidx\n",
      "PROGRESS: Downloading http://s3.amazonaws.com/dato-datasets/US_business_links/m_54e49eb4.frame_idx to C:/Users/kesj/AppData/Local/Temp/graphlab-KESJ/26016/b06fefc9-aaa0-4c54-8468-64e7cd6c888c.frame_idx\n",
      "PROGRESS: Downloading http://s3.amazonaws.com/dato-datasets/US_business_links/m_54e49eb4.sidx to C:/Users/kesj/AppData/Local/Temp/graphlab-KESJ/26016/819581f5-b96a-48e9-a747-d69123ae5d4c.sidx\n",
      "PROGRESS: Downloading http://s3.amazonaws.com/dato-datasets/US_business_links/m_71f32454.frame_idx to C:/Users/kesj/AppData/Local/Temp/graphlab-KESJ/26016/c14448e3-2ee3-490f-8ba2-e9ba1f29a095.frame_idx\n",
      "PROGRESS: Downloading http://s3.amazonaws.com/dato-datasets/US_business_links/m_71f32454.sidx to C:/Users/kesj/AppData/Local/Temp/graphlab-KESJ/26016/74fad691-3ebb-4d6c-8630-4f97b16e0de3.sidx\n",
      "PROGRESS: Downloading http://s3.amazonaws.com/dato-datasets/US_business_links/m_2ca88611.frame_idx to C:/Users/kesj/AppData/Local/Temp/graphlab-KESJ/26016/14598c11-937a-4728-95c5-a50a23dc1170.frame_idx\n",
      "PROGRESS: Downloading http://s3.amazonaws.com/dato-datasets/US_business_links/m_2ca88611.sidx to C:/Users/kesj/AppData/Local/Temp/graphlab-KESJ/26016/800c4a9f-1f78-4ad5-8f25-0ad316077ba4.sidx\n",
      "PROGRESS: Downloading http://s3.amazonaws.com/dato-datasets/US_business_links/m_836c40e.frame_idx to C:/Users/kesj/AppData/Local/Temp/graphlab-KESJ/26016/3fc6ab2b-9bce-4d2e-82eb-af52934d5460.frame_idx\n",
      "PROGRESS: Downloading http://s3.amazonaws.com/dato-datasets/US_business_links/m_836c40e.sidx to C:/Users/kesj/AppData/Local/Temp/graphlab-KESJ/26016/bbf5f2c5-6226-481c-9b26-0b1cf00152cd.sidx\n",
      "PROGRESS: Downloading http://s3.amazonaws.com/dato-datasets/US_business_links/m_2901d82.frame_idx to C:/Users/kesj/AppData/Local/Temp/graphlab-KESJ/26016/33e3ad02-955b-43e7-9790-1b727c4d7654.frame_idx\n",
      "PROGRESS: Downloading http://s3.amazonaws.com/dato-datasets/US_business_links/m_2901d82.sidx to C:/Users/kesj/AppData/Local/Temp/graphlab-KESJ/26016/c89938a5-8d3f-4abb-8df4-a32bebdb6a14.sidx\n",
      "PROGRESS: Downloading http://s3.amazonaws.com/dato-datasets/US_business_links/m_3a95f874.frame_idx to C:/Users/kesj/AppData/Local/Temp/graphlab-KESJ/26016/45726d1c-7e27-4655-9c78-0bf4fd7f371c.frame_idx\n",
      "PROGRESS: Downloading http://s3.amazonaws.com/dato-datasets/US_business_links/m_3a95f874.sidx to C:/Users/kesj/AppData/Local/Temp/graphlab-KESJ/26016/c77484e1-15b2-4f2a-8862-a6afd363d262.sidx\n",
      "PROGRESS: Downloading http://s3.amazonaws.com/dato-datasets/US_business_links/m_8138641.frame_idx to C:/Users/kesj/AppData/Local/Temp/graphlab-KESJ/26016/9ab46e8b-f93c-4944-913c-dc6a2891cd59.frame_idx\n",
      "PROGRESS: Downloading http://s3.amazonaws.com/dato-datasets/US_business_links/m_8138641.sidx to C:/Users/kesj/AppData/Local/Temp/graphlab-KESJ/26016/a1884a3e-83ac-4f0d-97b9-233763511b14.sidx\n",
      "PROGRESS: Downloading http://s3.amazonaws.com/dato-datasets/US_business_links/m_1e7ff521.frame_idx to C:/Users/kesj/AppData/Local/Temp/graphlab-KESJ/26016/d6136197-c2b8-4a9d-9cb7-ec42451dfa3a.frame_idx\n",
      "PROGRESS: Downloading http://s3.amazonaws.com/dato-datasets/US_business_links/m_1e7ff521.sidx to C:/Users/kesj/AppData/Local/Temp/graphlab-KESJ/26016/90527080-ca08-4328-96b8-c6112ba69bc9.sidx\n",
      "PROGRESS: Downloading http://s3.amazonaws.com/dato-datasets/US_business_links/m_7c3dbd3d.frame_idx to C:/Users/kesj/AppData/Local/Temp/graphlab-KESJ/26016/6ba52a6a-9e50-4e79-940f-26c52607fdbd.frame_idx\n",
      "PROGRESS: Downloading http://s3.amazonaws.com/dato-datasets/US_business_links/m_7c3dbd3d.sidx to C:/Users/kesj/AppData/Local/Temp/graphlab-KESJ/26016/4ce1654a-3436-47d5-a536-41b6b536b2a1.sidx\n",
      "PROGRESS: Downloading http://s3.amazonaws.com/dato-datasets/US_business_links/m_737b8ddc.frame_idx to C:/Users/kesj/AppData/Local/Temp/graphlab-KESJ/26016/b96d6b7e-0410-4248-84f0-cf89bd8c2431.frame_idx\n",
      "PROGRESS: Downloading http://s3.amazonaws.com/dato-datasets/US_business_links/m_737b8ddc.sidx to C:/Users/kesj/AppData/Local/Temp/graphlab-KESJ/26016/e0ab5f4f-4fe3-4988-8c55-19afc10ae32f.sidx\n",
      "PROGRESS: Downloading http://s3.amazonaws.com/dato-datasets/US_business_links/m_6ceaf087.frame_idx to C:/Users/kesj/AppData/Local/Temp/graphlab-KESJ/26016/ccb4bef2-01d8-4a5e-a42a-b56714285824.frame_idx\n",
      "PROGRESS: Downloading http://s3.amazonaws.com/dato-datasets/US_business_links/m_6ceaf087.sidx to C:/Users/kesj/AppData/Local/Temp/graphlab-KESJ/26016/db93b457-b046-4abb-9bdd-06edf66d2dae.sidx\n",
      "PROGRESS: Downloading http://s3.amazonaws.com/dato-datasets/US_business_links/m_22221a70.frame_idx to C:/Users/kesj/AppData/Local/Temp/graphlab-KESJ/26016/4f28fd91-c773-494e-8c21-10aafa787fb6.frame_idx\n",
      "PROGRESS: Downloading http://s3.amazonaws.com/dato-datasets/US_business_links/m_22221a70.sidx to C:/Users/kesj/AppData/Local/Temp/graphlab-KESJ/26016/aafc38a7-7732-43b6-9d5a-5ba6459a439c.sidx\n",
      "PROGRESS: Downloading http://s3.amazonaws.com/dato-datasets/US_business_links/m_4516dde9.frame_idx to C:/Users/kesj/AppData/Local/Temp/graphlab-KESJ/26016/007b6411-32c5-44a3-a8f8-87b2e2915203.frame_idx\n",
      "PROGRESS: Downloading http://s3.amazonaws.com/dato-datasets/US_business_links/m_4516dde9.sidx to C:/Users/kesj/AppData/Local/Temp/graphlab-KESJ/26016/0faf1a49-b4cb-455a-8fb7-25c01cfb9eaa.sidx\n",
      "PROGRESS: Downloading http://s3.amazonaws.com/dato-datasets/US_business_links/m_3006c83e.frame_idx to C:/Users/kesj/AppData/Local/Temp/graphlab-KESJ/26016/6d5224d7-0368-43d8-ad2c-892898f18b92.frame_idx\n",
      "PROGRESS: Downloading http://s3.amazonaws.com/dato-datasets/US_business_links/m_3006c83e.sidx to C:/Users/kesj/AppData/Local/Temp/graphlab-KESJ/26016/c7fb0789-1aaf-4f8c-b0a9-21b3d623a453.sidx\n",
      "PROGRESS: Downloading http://s3.amazonaws.com/dato-datasets/US_business_links/m_614fd4a1.frame_idx to C:/Users/kesj/AppData/Local/Temp/graphlab-KESJ/26016/a1de124e-4e25-4648-9d88-7752778f1f38.frame_idx\n",
      "PROGRESS: Downloading http://s3.amazonaws.com/dato-datasets/US_business_links/m_614fd4a1.sidx to C:/Users/kesj/AppData/Local/Temp/graphlab-KESJ/26016/96c8d1a8-8a30-4724-98e9-9c9684e669ad.sidx\n",
      "PROGRESS: Downloading http://s3.amazonaws.com/dato-datasets/US_business_links/m_419ac241.frame_idx to C:/Users/kesj/AppData/Local/Temp/graphlab-KESJ/26016/bc61ba8e-60be-4f19-879a-1d5d0d579e63.frame_idx\n",
      "PROGRESS: Downloading http://s3.amazonaws.com/dato-datasets/US_business_links/m_419ac241.sidx to C:/Users/kesj/AppData/Local/Temp/graphlab-KESJ/26016/e11a04bf-ed09-4911-b68c-3de6f873ea80.sidx\n",
      "PROGRESS: Downloading http://s3.amazonaws.com/dato-datasets/US_business_links/m_5577f8e1.frame_idx to C:/Users/kesj/AppData/Local/Temp/graphlab-KESJ/26016/9bc8bcba-2c4c-4572-930b-bb8cae318cbd.frame_idx\n",
      "PROGRESS: Downloading http://s3.amazonaws.com/dato-datasets/US_business_links/m_5577f8e1.sidx to C:/Users/kesj/AppData/Local/Temp/graphlab-KESJ/26016/ff175de9-9e7f-4946-8299-7e5b3c17c8a1.sidx\n",
      "PROGRESS: Downloading http://s3.amazonaws.com/dato-datasets/US_business_links/m_440badfc.frame_idx to C:/Users/kesj/AppData/Local/Temp/graphlab-KESJ/26016/dd8267e3-14dc-4a88-8555-8da3677a47d5.frame_idx\n",
      "PROGRESS: Downloading http://s3.amazonaws.com/dato-datasets/US_business_links/m_440badfc.sidx to C:/Users/kesj/AppData/Local/Temp/graphlab-KESJ/26016/936e7fdf-8c46-46b2-b879-247a2a9f6849.sidx\n",
      "PROGRESS: Downloading http://s3.amazonaws.com/dato-datasets/US_business_links/m_5072367.frame_idx to C:/Users/kesj/AppData/Local/Temp/graphlab-KESJ/26016/6d90027f-411d-43ef-9410-2faae52c639c.frame_idx\n",
      "PROGRESS: Downloading http://s3.amazonaws.com/dato-datasets/US_business_links/m_5072367.sidx to C:/Users/kesj/AppData/Local/Temp/graphlab-KESJ/26016/52e2e3cb-5bf8-4b2f-bd4c-872896de7149.sidx\n",
      "PROGRESS: Downloading http://s3.amazonaws.com/dato-datasets/US_business_links/m_3804823e.frame_idx to C:/Users/kesj/AppData/Local/Temp/graphlab-KESJ/26016/a475db39-24e2-4eee-a6fd-22a84837f437.frame_idx\n",
      "PROGRESS: Downloading http://s3.amazonaws.com/dato-datasets/US_business_links/m_3804823e.sidx to C:/Users/kesj/AppData/Local/Temp/graphlab-KESJ/26016/291056ac-6cba-4290-bca3-5593b2383f01.sidx\n",
      "PROGRESS: Downloading http://s3.amazonaws.com/dato-datasets/US_business_links/m_77465f01.frame_idx to C:/Users/kesj/AppData/Local/Temp/graphlab-KESJ/26016/3a669fb0-fce2-457d-83be-603c5a08a3f9.frame_idx\n",
      "PROGRESS: Downloading http://s3.amazonaws.com/dato-datasets/US_business_links/m_77465f01.sidx to C:/Users/kesj/AppData/Local/Temp/graphlab-KESJ/26016/36c65d3f-d464-475d-b2f1-ad246fdebc61.sidx\n",
      "PROGRESS: Downloading http://s3.amazonaws.com/dato-datasets/US_business_links/m_7724c67e.frame_idx to C:/Users/kesj/AppData/Local/Temp/graphlab-KESJ/26016/ecc1b582-f895-4184-a062-f25422f54d53.frame_idx\n",
      "PROGRESS: Downloading http://s3.amazonaws.com/dato-datasets/US_business_links/m_7724c67e.sidx to C:/Users/kesj/AppData/Local/Temp/graphlab-KESJ/26016/66bbd39d-fb99-4cd9-a652-69408ea6da52.sidx\n",
      "PROGRESS: Downloading http://s3.amazonaws.com/dato-datasets/US_business_links/m_5c482a97.frame_idx to C:/Users/kesj/AppData/Local/Temp/graphlab-KESJ/26016/d1b39608-48ed-4769-9194-2f231f171a4a.frame_idx\n",
      "PROGRESS: Downloading http://s3.amazonaws.com/dato-datasets/US_business_links/m_5c482a97.sidx to C:/Users/kesj/AppData/Local/Temp/graphlab-KESJ/26016/d12a8592-4b0e-457b-b3a2-42ec27401358.sidx\n",
      "PROGRESS: Downloading http://s3.amazonaws.com/dato-datasets/US_business_links/m_74b0dc51.0000 to C:/Users/kesj/AppData/Local/Temp/graphlab-KESJ/26016/508f3c3e-2666-468f-8266-0b8076a3e156.0000\n",
      "PROGRESS: Downloading http://s3.amazonaws.com/dato-datasets/US_business_links/m_2ae8944a.0000 to C:/Users/kesj/AppData/Local/Temp/graphlab-KESJ/26016/dc276f40-b33c-4ffd-8014-c3c9e00d4e95.0000\n",
      "PROGRESS: Downloading http://s3.amazonaws.com/dato-datasets/US_business_links/m_3d1b58ba.0000 to C:/Users/kesj/AppData/Local/Temp/graphlab-KESJ/26016/b95e2ef8-4fe4-437e-a3ba-490753194ec9.0000\n",
      "PROGRESS: Downloading http://s3.amazonaws.com/dato-datasets/US_business_links/m_238e1f29.0000 to C:/Users/kesj/AppData/Local/Temp/graphlab-KESJ/26016/2c8c3988-7dba-4521-ae67-dd4e070b7769.0000\n",
      "PROGRESS: Downloading http://s3.amazonaws.com/dato-datasets/US_business_links/m_74b0dc51.0001 to C:/Users/kesj/AppData/Local/Temp/graphlab-KESJ/26016/ddfa6153-a911-4c51-a345-4e7aef4eb044.0001\n",
      "PROGRESS: Downloading http://s3.amazonaws.com/dato-datasets/US_business_links/m_238e1f29.0001 to C:/Users/kesj/AppData/Local/Temp/graphlab-KESJ/26016/2de60a5a-46b5-45f2-87dd-6051a890fd09.0001\n",
      "PROGRESS: Downloading http://s3.amazonaws.com/dato-datasets/US_business_links/m_74b0dc51.0002 to C:/Users/kesj/AppData/Local/Temp/graphlab-KESJ/26016/5f613627-630c-472a-a7be-6b4acc30d46f.0002\n",
      "PROGRESS: Downloading http://s3.amazonaws.com/dato-datasets/US_business_links/m_3d1b58ba.0001 to C:/Users/kesj/AppData/Local/Temp/graphlab-KESJ/26016/af0d4658-0a0b-4014-a4c4-e2c2efa5cb53.0001\n",
      "PROGRESS: Downloading http://s3.amazonaws.com/dato-datasets/US_business_links/m_2ae8944a.0001 to C:/Users/kesj/AppData/Local/Temp/graphlab-KESJ/26016/8b98fdab-a7e4-4bdf-a8ef-44bab3cd33bd.0001\n",
      "PROGRESS: Downloading http://s3.amazonaws.com/dato-datasets/US_business_links/m_238e1f29.0002 to C:/Users/kesj/AppData/Local/Temp/graphlab-KESJ/26016/e74d8946-17ae-4f7d-9cf4-1708d2f44c36.0002\n",
      "PROGRESS: Downloading http://s3.amazonaws.com/dato-datasets/US_business_links/m_3d1b58ba.0002 to C:/Users/kesj/AppData/Local/Temp/graphlab-KESJ/26016/8dfc1af9-91ce-4197-975a-edbad41d088f.0002\n",
      "PROGRESS: Downloading http://s3.amazonaws.com/dato-datasets/US_business_links/m_2ae8944a.0002 to C:/Users/kesj/AppData/Local/Temp/graphlab-KESJ/26016/504da1e1-1e26-4ed2-914a-9fa27ed8805d.0002\n",
      "PROGRESS: Downloading http://s3.amazonaws.com/dato-datasets/US_business_links/m_19495cff.0000 to C:/Users/kesj/AppData/Local/Temp/graphlab-KESJ/26016/cae6c86c-4509-44f7-bfbc-05984654f1e1.0000\n",
      "PROGRESS: Downloading http://s3.amazonaws.com/dato-datasets/US_business_links/m_19495cff.0001 to C:/Users/kesj/AppData/Local/Temp/graphlab-KESJ/26016/4260ed0e-0736-47b2-911c-dd5e09aadfde.0001\n",
      "PROGRESS: Downloading http://s3.amazonaws.com/dato-datasets/US_business_links/m_507ed7ab.0000 to C:/Users/kesj/AppData/Local/Temp/graphlab-KESJ/26016/fecca41a-06ce-46ba-8e27-7279c0f35a43.0000\n",
      "PROGRESS: Downloading http://s3.amazonaws.com/dato-datasets/US_business_links/m_46e87ccd.0000 to C:/Users/kesj/AppData/Local/Temp/graphlab-KESJ/26016/0af944eb-b779-40d7-b97f-809a8723cf22.0000\n",
      "PROGRESS: Downloading http://s3.amazonaws.com/dato-datasets/US_business_links/m_46e87ccd.0001 to C:/Users/kesj/AppData/Local/Temp/graphlab-KESJ/26016/f0b8acad-05f1-490e-a53e-f1e73e7ec219.0001\n",
      "PROGRESS: Downloading http://s3.amazonaws.com/dato-datasets/US_business_links/m_625558ec.0000 to C:/Users/kesj/AppData/Local/Temp/graphlab-KESJ/26016/772859e5-a9ea-4d10-b372-07b69c89a936.0000\n",
      "PROGRESS: Downloading http://s3.amazonaws.com/dato-datasets/US_business_links/m_19495cff.0002 to C:/Users/kesj/AppData/Local/Temp/graphlab-KESJ/26016/bd917303-1641-4c83-8dc3-838d25e9e2c7.0002\n",
      "PROGRESS: Downloading http://s3.amazonaws.com/dato-datasets/US_business_links/m_507ed7ab.0001 to C:/Users/kesj/AppData/Local/Temp/graphlab-KESJ/26016/7d1e49f5-c915-4f59-aff6-fd78dd6d2ce8.0001\n",
      "PROGRESS: Downloading http://s3.amazonaws.com/dato-datasets/US_business_links/m_625558ec.0001 to C:/Users/kesj/AppData/Local/Temp/graphlab-KESJ/26016/cfec3829-b6c0-41fc-bdde-d418a8720ede.0001\n",
      "PROGRESS: Downloading http://s3.amazonaws.com/dato-datasets/US_business_links/m_46e87ccd.0002 to C:/Users/kesj/AppData/Local/Temp/graphlab-KESJ/26016/2b5d1fa4-0194-41cb-a1c6-556868bb053f.0002\n",
      "PROGRESS: Downloading http://s3.amazonaws.com/dato-datasets/US_business_links/m_507ed7ab.0002 to C:/Users/kesj/AppData/Local/Temp/graphlab-KESJ/26016/15efa3a5-2227-4676-a203-941823e1637d.0002\n",
      "PROGRESS: Downloading http://s3.amazonaws.com/dato-datasets/US_business_links/m_625558ec.0002 to C:/Users/kesj/AppData/Local/Temp/graphlab-KESJ/26016/5935a8ce-d4ff-419a-9530-39e353a468fd.0002\n",
      "PROGRESS: Downloading http://s3.amazonaws.com/dato-datasets/US_business_links/m_2eb141f2.0000 to C:/Users/kesj/AppData/Local/Temp/graphlab-KESJ/26016/3322c1c8-a163-4bbf-b258-46dcce8df768.0000\n",
      "PROGRESS: Downloading http://s3.amazonaws.com/dato-datasets/US_business_links/m_7fdcc233.0000 to C:/Users/kesj/AppData/Local/Temp/graphlab-KESJ/26016/d988b97a-46cb-4729-828f-65f81eac93ec.0000\n",
      "PROGRESS: Downloading http://s3.amazonaws.com/dato-datasets/US_business_links/m_2443a858.0000 to C:/Users/kesj/AppData/Local/Temp/graphlab-KESJ/26016/19070295-52d4-4845-bf59-c9ce2a795667.0000\n",
      "PROGRESS: Downloading http://s3.amazonaws.com/dato-datasets/US_business_links/m_2443a858.0001 to C:/Users/kesj/AppData/Local/Temp/graphlab-KESJ/26016/27086a18-6e35-4926-80b0-20ce023360b2.0001\n",
      "PROGRESS: Downloading http://s3.amazonaws.com/dato-datasets/US_business_links/m_1e7ff521.0000 to C:/Users/kesj/AppData/Local/Temp/graphlab-KESJ/26016/d2fe214a-10e8-48b4-8969-1d26332a33c0.0000\n",
      "PROGRESS: Downloading http://s3.amazonaws.com/dato-datasets/US_business_links/m_1e7ff521.0001 to C:/Users/kesj/AppData/Local/Temp/graphlab-KESJ/26016/66ea4be3-e8ca-4a7b-9ccb-6a3a7ad5ba8d.0001\n",
      "PROGRESS: Downloading http://s3.amazonaws.com/dato-datasets/US_business_links/m_1e7ff521.0002 to C:/Users/kesj/AppData/Local/Temp/graphlab-KESJ/26016/0520722a-5f08-4fe6-9ffa-6674830fafde.0002\n",
      "PROGRESS: Downloading http://s3.amazonaws.com/dato-datasets/US_business_links/m_2eb141f2.0001 to C:/Users/kesj/AppData/Local/Temp/graphlab-KESJ/26016/6bf8d5eb-6297-4223-90dc-16754826a908.0001\n",
      "PROGRESS: Downloading http://s3.amazonaws.com/dato-datasets/US_business_links/m_7fdcc233.0001 to C:/Users/kesj/AppData/Local/Temp/graphlab-KESJ/26016/b5b47940-2dc2-4272-9b3b-8354638bb259.0001\n",
      "PROGRESS: Downloading http://s3.amazonaws.com/dato-datasets/US_business_links/m_2443a858.0002 to C:/Users/kesj/AppData/Local/Temp/graphlab-KESJ/26016/fa4e476b-7751-4077-bb58-ccc7a2d83e5c.0002\n",
      "PROGRESS: Downloading http://s3.amazonaws.com/dato-datasets/US_business_links/m_2eb141f2.0002 to C:/Users/kesj/AppData/Local/Temp/graphlab-KESJ/26016/45407842-4f0a-498c-93c0-30a9ad097782.0002\n",
      "PROGRESS: Downloading http://s3.amazonaws.com/dato-datasets/US_business_links/m_7fdcc233.0002 to C:/Users/kesj/AppData/Local/Temp/graphlab-KESJ/26016/75ff8297-9e82-40c0-9c98-7d95642e87c3.0002\n",
      "PROGRESS: Downloading http://s3.amazonaws.com/dato-datasets/US_business_links/m_1befd79f.0000 to C:/Users/kesj/AppData/Local/Temp/graphlab-KESJ/26016/67aedcb3-de5e-4d0b-96dc-fd514c4e087d.0000\n",
      "PROGRESS: Downloading http://s3.amazonaws.com/dato-datasets/US_business_links/m_7c3dbd3d.0000 to C:/Users/kesj/AppData/Local/Temp/graphlab-KESJ/26016/c2b8fca7-dfaa-4add-a18e-11dbf388145b.0000\n",
      "PROGRESS: Downloading http://s3.amazonaws.com/dato-datasets/US_business_links/m_7c3dbd3d.0001 to C:/Users/kesj/AppData/Local/Temp/graphlab-KESJ/26016/8624070a-6e21-420d-971f-587b106be61a.0001\n",
      "PROGRESS: Downloading http://s3.amazonaws.com/dato-datasets/US_business_links/m_41b71efb.0000 to C:/Users/kesj/AppData/Local/Temp/graphlab-KESJ/26016/abbf69b6-158d-4fa0-ab96-09b206a1251c.0000\n",
      "PROGRESS: Downloading http://s3.amazonaws.com/dato-datasets/US_business_links/m_1befd79f.0001 to C:/Users/kesj/AppData/Local/Temp/graphlab-KESJ/26016/373f84bb-dd73-4f38-80db-50a976a582e4.0001\n",
      "PROGRESS: Downloading http://s3.amazonaws.com/dato-datasets/US_business_links/m_2d1d5ae9.0000 to C:/Users/kesj/AppData/Local/Temp/graphlab-KESJ/26016/704f02cb-cfbd-4cfa-b52b-6edf56d40ded.0000\n",
      "PROGRESS: Downloading http://s3.amazonaws.com/dato-datasets/US_business_links/m_1befd79f.0002 to C:/Users/kesj/AppData/Local/Temp/graphlab-KESJ/26016/69d0f176-02da-4e20-a612-395b2f535563.0002\n",
      "PROGRESS: Downloading http://s3.amazonaws.com/dato-datasets/US_business_links/m_2d1d5ae9.0001 to C:/Users/kesj/AppData/Local/Temp/graphlab-KESJ/26016/1a79b68d-8204-4c70-87bd-2e4487d05391.0001\n",
      "PROGRESS: Downloading http://s3.amazonaws.com/dato-datasets/US_business_links/m_2d1d5ae9.0002 to C:/Users/kesj/AppData/Local/Temp/graphlab-KESJ/26016/16ede30a-646c-46c7-b26e-5ab3bb2335a9.0002\n",
      "PROGRESS: Downloading http://s3.amazonaws.com/dato-datasets/US_business_links/m_41a7c4c9.0000 to C:/Users/kesj/AppData/Local/Temp/graphlab-KESJ/26016/d6c59471-8c7a-49a0-8e3a-cdc4a3a3feca.0000\n",
      "PROGRESS: Downloading http://s3.amazonaws.com/dato-datasets/US_business_links/m_41a7c4c9.0001 to C:/Users/kesj/AppData/Local/Temp/graphlab-KESJ/26016/9380d292-5c7c-40e6-a76b-3e44d3cfbb5d.0001\n",
      "PROGRESS: Downloading http://s3.amazonaws.com/dato-datasets/US_business_links/m_41a7c4c9.0002 to C:/Users/kesj/AppData/Local/Temp/graphlab-KESJ/26016/a1b2cf54-67bf-4a3d-bc36-8ee2796c5ab5.0002\n",
      "PROGRESS: Downloading http://s3.amazonaws.com/dato-datasets/US_business_links/m_41b71efb.0001 to C:/Users/kesj/AppData/Local/Temp/graphlab-KESJ/26016/71d8afc0-5d1f-41a2-9e0b-e7172740dc85.0001\n",
      "PROGRESS: Downloading http://s3.amazonaws.com/dato-datasets/US_business_links/m_41b71efb.0002 to C:/Users/kesj/AppData/Local/Temp/graphlab-KESJ/26016/29c2b9fd-8187-45f1-8e0b-a5dde40a318f.0002\n",
      "PROGRESS: Downloading http://s3.amazonaws.com/dato-datasets/US_business_links/m_6b68079a.0000 to C:/Users/kesj/AppData/Local/Temp/graphlab-KESJ/26016/cfea0d88-a588-482d-a4a0-68bf3db6b31e.0000\n",
      "PROGRESS: Downloading http://s3.amazonaws.com/dato-datasets/US_business_links/m_7c3dbd3d.0002 to C:/Users/kesj/AppData/Local/Temp/graphlab-KESJ/26016/4ae91ea5-5572-40a2-9e5c-5f7b34f35921.0002\n",
      "PROGRESS: Downloading http://s3.amazonaws.com/dato-datasets/US_business_links/m_6763845e.0000 to C:/Users/kesj/AppData/Local/Temp/graphlab-KESJ/26016/cc9ebca5-028c-40e8-81a7-3e47f3951f6b.0000\n",
      "PROGRESS: Downloading http://s3.amazonaws.com/dato-datasets/US_business_links/m_6763845e.0001 to C:/Users/kesj/AppData/Local/Temp/graphlab-KESJ/26016/a11ed7e4-efe4-477d-b107-995726ad8692.0001\n",
      "PROGRESS: Downloading http://s3.amazonaws.com/dato-datasets/US_business_links/m_6b68079a.0001 to C:/Users/kesj/AppData/Local/Temp/graphlab-KESJ/26016/a5ca049f-0f2a-4d5f-990f-eb15c5e381bc.0001\n",
      "PROGRESS: Downloading http://s3.amazonaws.com/dato-datasets/US_business_links/m_6763845e.0002 to C:/Users/kesj/AppData/Local/Temp/graphlab-KESJ/26016/9a66a6e6-499c-4fd3-b5f7-19e17eb548de.0002\n",
      "PROGRESS: Downloading http://s3.amazonaws.com/dato-datasets/US_business_links/m_6b68079a.0002 to C:/Users/kesj/AppData/Local/Temp/graphlab-KESJ/26016/17044cbf-bd18-496e-918a-2a90a7686e86.0002\n",
      "PROGRESS: Downloading http://s3.amazonaws.com/dato-datasets/US_business_links/m_75a2a8d4.0000 to C:/Users/kesj/AppData/Local/Temp/graphlab-KESJ/26016/6791223c-1fa0-40d8-8075-f31225ba0d33.0000\n",
      "PROGRESS: Downloading http://s3.amazonaws.com/dato-datasets/US_business_links/m_79e2a9e3.0000 to C:/Users/kesj/AppData/Local/Temp/graphlab-KESJ/26016/41fd183f-e251-4b3a-aab6-4e8a9e0e3190.0000\n",
      "PROGRESS: Downloading http://s3.amazonaws.com/dato-datasets/US_business_links/m_737b8ddc.0000 to C:/Users/kesj/AppData/Local/Temp/graphlab-KESJ/26016/b413174b-7133-462f-a6e8-c6db10bfa847.0000\n",
      "PROGRESS: Downloading http://s3.amazonaws.com/dato-datasets/US_business_links/m_737b8ddc.0001 to C:/Users/kesj/AppData/Local/Temp/graphlab-KESJ/26016/cd0b7c71-77ec-4d66-b995-4fec539edd7b.0001\n",
      "PROGRESS: Downloading http://s3.amazonaws.com/dato-datasets/US_business_links/m_737b8ddc.0002 to C:/Users/kesj/AppData/Local/Temp/graphlab-KESJ/26016/cbd76b2f-4f11-49fb-b99d-11a8edc5b314.0002\n",
      "PROGRESS: Downloading http://s3.amazonaws.com/dato-datasets/US_business_links/m_79e2a9e3.0001 to C:/Users/kesj/AppData/Local/Temp/graphlab-KESJ/26016/0a7cd1a3-c4f6-4d44-8844-219a1034034e.0001\n",
      "PROGRESS: Downloading http://s3.amazonaws.com/dato-datasets/US_business_links/m_79e2a9e3.0002 to C:/Users/kesj/AppData/Local/Temp/graphlab-KESJ/26016/8b3a021f-4ae7-4d6b-a329-da6795b4f0b1.0002\n",
      "PROGRESS: Downloading http://s3.amazonaws.com/dato-datasets/US_business_links/m_6ceaf087.0000 to C:/Users/kesj/AppData/Local/Temp/graphlab-KESJ/26016/47346db2-cd53-4979-a7bc-a334be00e265.0000\n",
      "PROGRESS: Downloading http://s3.amazonaws.com/dato-datasets/US_business_links/m_75a2a8d4.0001 to C:/Users/kesj/AppData/Local/Temp/graphlab-KESJ/26016/51f79ccc-a88b-4c17-aa53-44b389ee3301.0001\n",
      "PROGRESS: Downloading http://s3.amazonaws.com/dato-datasets/US_business_links/m_75a2a8d4.0002 to C:/Users/kesj/AppData/Local/Temp/graphlab-KESJ/26016/fb167ef4-b0d2-4b13-9723-a0f874b781dd.0002\n",
      "PROGRESS: Downloading http://s3.amazonaws.com/dato-datasets/US_business_links/m_6ceaf087.0001 to C:/Users/kesj/AppData/Local/Temp/graphlab-KESJ/26016/c8c02e2b-d4db-425a-a9b9-11d561fe022c.0001\n",
      "PROGRESS: Downloading http://s3.amazonaws.com/dato-datasets/US_business_links/m_6ceaf087.0002 to C:/Users/kesj/AppData/Local/Temp/graphlab-KESJ/26016/131967b7-3531-4f81-8a00-d05c7f38c00a.0002\n",
      "PROGRESS: Downloading http://s3.amazonaws.com/dato-datasets/US_business_links/m_7545e146.0000 to C:/Users/kesj/AppData/Local/Temp/graphlab-KESJ/26016/7f024371-cfa1-444c-a1ac-1bbde1680c69.0000\n",
      "PROGRESS: Downloading http://s3.amazonaws.com/dato-datasets/US_business_links/m_4e6afb66.0000 to C:/Users/kesj/AppData/Local/Temp/graphlab-KESJ/26016/e9ca8dc5-d298-4ea8-86f2-c83d34dcbf61.0000\n",
      "PROGRESS: Downloading http://s3.amazonaws.com/dato-datasets/US_business_links/m_8edbdab.0000 to C:/Users/kesj/AppData/Local/Temp/graphlab-KESJ/26016/8305b58a-ce55-435f-ac46-1ad1660ee082.0000\n",
      "PROGRESS: Downloading http://s3.amazonaws.com/dato-datasets/US_business_links/m_8edbdab.0001 to C:/Users/kesj/AppData/Local/Temp/graphlab-KESJ/26016/82e03ec7-5212-46ba-b4c2-8d3b8e50d7a8.0001\n",
      "PROGRESS: Downloading http://s3.amazonaws.com/dato-datasets/US_business_links/m_8edbdab.0002 to C:/Users/kesj/AppData/Local/Temp/graphlab-KESJ/26016/f8286f57-73dc-4bc4-b150-405de21202c5.0002\n",
      "PROGRESS: Downloading http://s3.amazonaws.com/dato-datasets/US_business_links/m_4e6afb66.0001 to C:/Users/kesj/AppData/Local/Temp/graphlab-KESJ/26016/30a656d2-dd27-42c1-9eeb-0a9fe7a6ed5b.0001\n",
      "PROGRESS: Downloading http://s3.amazonaws.com/dato-datasets/US_business_links/m_22221a70.0000 to C:/Users/kesj/AppData/Local/Temp/graphlab-KESJ/26016/fb365e0a-3b37-415a-8f20-a8e94e943afa.0000\n",
      "PROGRESS: Downloading http://s3.amazonaws.com/dato-datasets/US_business_links/m_22221a70.0001 to C:/Users/kesj/AppData/Local/Temp/graphlab-KESJ/26016/025e2d65-f03c-45e4-8f66-4b0ef20fc3b6.0001\n",
      "PROGRESS: Downloading http://s3.amazonaws.com/dato-datasets/US_business_links/m_7545e146.0001 to C:/Users/kesj/AppData/Local/Temp/graphlab-KESJ/26016/17c658aa-1339-4022-862e-0e0220cde7a5.0001\n",
      "PROGRESS: Downloading http://s3.amazonaws.com/dato-datasets/US_business_links/m_4e6afb66.0002 to C:/Users/kesj/AppData/Local/Temp/graphlab-KESJ/26016/85da39c2-3302-44a1-8a06-01701d77f667.0002\n",
      "PROGRESS: Downloading http://s3.amazonaws.com/dato-datasets/US_business_links/m_25e45d32.0000 to C:/Users/kesj/AppData/Local/Temp/graphlab-KESJ/26016/16913646-1621-49f0-8a54-2b93b6f42843.0000\n",
      "PROGRESS: Downloading http://s3.amazonaws.com/dato-datasets/US_business_links/m_22221a70.0002 to C:/Users/kesj/AppData/Local/Temp/graphlab-KESJ/26016/fa8c2c16-69f6-4ceb-8870-3bb801600135.0002\n",
      "PROGRESS: Downloading http://s3.amazonaws.com/dato-datasets/US_business_links/m_7545e146.0002 to C:/Users/kesj/AppData/Local/Temp/graphlab-KESJ/26016/94876d25-852e-4245-a8dd-94008927e4c5.0002\n",
      "PROGRESS: Downloading http://s3.amazonaws.com/dato-datasets/US_business_links/m_25e45d32.0001 to C:/Users/kesj/AppData/Local/Temp/graphlab-KESJ/26016/67e49c6e-471f-43da-adc7-b994bfeff802.0001\n",
      "PROGRESS: Downloading http://s3.amazonaws.com/dato-datasets/US_business_links/m_25e45d32.0002 to C:/Users/kesj/AppData/Local/Temp/graphlab-KESJ/26016/c0fa5055-0db4-4892-9ee5-b22b1a6a809c.0002\n",
      "PROGRESS: Downloading http://s3.amazonaws.com/dato-datasets/US_business_links/m_4516dde9.0000 to C:/Users/kesj/AppData/Local/Temp/graphlab-KESJ/26016/c1399a51-f80d-4955-98ea-0cd2ac595289.0000\n",
      "PROGRESS: Downloading http://s3.amazonaws.com/dato-datasets/US_business_links/m_515f007c.0000 to C:/Users/kesj/AppData/Local/Temp/graphlab-KESJ/26016/21bfde26-a660-4c11-a747-1df338144f09.0000\n",
      "PROGRESS: Downloading http://s3.amazonaws.com/dato-datasets/US_business_links/m_515f007c.0001 to C:/Users/kesj/AppData/Local/Temp/graphlab-KESJ/26016/683ca96d-ed53-4fbf-b671-c97ac01eac47.0001\n",
      "PROGRESS: Downloading http://s3.amazonaws.com/dato-datasets/US_business_links/m_79838cb2.0000 to C:/Users/kesj/AppData/Local/Temp/graphlab-KESJ/26016/c319dc0e-23ac-4f8f-a9fe-608a8daac30c.0000\n",
      "PROGRESS: Downloading http://s3.amazonaws.com/dato-datasets/US_business_links/m_79838cb2.0001 to C:/Users/kesj/AppData/Local/Temp/graphlab-KESJ/26016/45cd7b28-97ac-4314-9850-5f6bd446b28d.0001\n",
      "PROGRESS: Downloading http://s3.amazonaws.com/dato-datasets/US_business_links/m_515f007c.0002 to C:/Users/kesj/AppData/Local/Temp/graphlab-KESJ/26016/3f2eae88-8345-4019-9de0-21e91dab8ca9.0002\n",
      "PROGRESS: Downloading http://s3.amazonaws.com/dato-datasets/US_business_links/m_519b500d.0000 to C:/Users/kesj/AppData/Local/Temp/graphlab-KESJ/26016/5df35651-d5e2-4360-bef3-2cbf03b15bda.0000\n",
      "PROGRESS: Downloading http://s3.amazonaws.com/dato-datasets/US_business_links/m_519b500d.0001 to C:/Users/kesj/AppData/Local/Temp/graphlab-KESJ/26016/64ab9f37-dc13-4640-baa8-288e821d9b2e.0001\n",
      "PROGRESS: Downloading http://s3.amazonaws.com/dato-datasets/US_business_links/m_4516dde9.0001 to C:/Users/kesj/AppData/Local/Temp/graphlab-KESJ/26016/0e614ad3-f2e0-4633-a612-9bd616690392.0001\n",
      "PROGRESS: Downloading http://s3.amazonaws.com/dato-datasets/US_business_links/m_4516dde9.0002 to C:/Users/kesj/AppData/Local/Temp/graphlab-KESJ/26016/6b433333-988a-400c-9ac3-1d61af4e77ca.0002\n",
      "PROGRESS: Downloading http://s3.amazonaws.com/dato-datasets/US_business_links/m_519b500d.0002 to C:/Users/kesj/AppData/Local/Temp/graphlab-KESJ/26016/4c201958-c9e1-4718-affc-d9d97e075920.0002\n",
      "PROGRESS: Downloading http://s3.amazonaws.com/dato-datasets/US_business_links/m_79838cb2.0002 to C:/Users/kesj/AppData/Local/Temp/graphlab-KESJ/26016/b2986e58-9de3-42f9-a348-5e4839bae86a.0002\n",
      "PROGRESS: Downloading http://s3.amazonaws.com/dato-datasets/US_business_links/m_3006c83e.0000 to C:/Users/kesj/AppData/Local/Temp/graphlab-KESJ/26016/2f777cb5-0669-4d45-8f6d-9658a6aadf34.0000\n",
      "PROGRESS: Downloading http://s3.amazonaws.com/dato-datasets/US_business_links/m_3006c83e.0001 to C:/Users/kesj/AppData/Local/Temp/graphlab-KESJ/26016/3a37488c-c743-46d1-8158-611e5f5649d7.0001\n",
      "PROGRESS: Downloading http://s3.amazonaws.com/dato-datasets/US_business_links/m_5bd062c2.0000 to C:/Users/kesj/AppData/Local/Temp/graphlab-KESJ/26016/ea492eed-f7e3-42ee-97df-9e20d7bf4dc0.0000\n",
      "PROGRESS: Downloading http://s3.amazonaws.com/dato-datasets/US_business_links/m_5bd062c2.0001 to C:/Users/kesj/AppData/Local/Temp/graphlab-KESJ/26016/3a8e44f1-ea3c-4858-8444-9593779707cb.0001\n",
      "PROGRESS: Downloading http://s3.amazonaws.com/dato-datasets/US_business_links/m_431bd7b7.0000 to C:/Users/kesj/AppData/Local/Temp/graphlab-KESJ/26016/bed8f777-4730-4f3e-8abc-c2a40cc95418.0000\n",
      "PROGRESS: Downloading http://s3.amazonaws.com/dato-datasets/US_business_links/m_3006c83e.0002 to C:/Users/kesj/AppData/Local/Temp/graphlab-KESJ/26016/2e0f4e4e-a3d5-47ae-9951-683dad761272.0002\n",
      "PROGRESS: Downloading http://s3.amazonaws.com/dato-datasets/US_business_links/m_431bd7b7.0001 to C:/Users/kesj/AppData/Local/Temp/graphlab-KESJ/26016/4c7c7108-4b4c-4e53-99ed-7f1510fef399.0001\n",
      "PROGRESS: Downloading http://s3.amazonaws.com/dato-datasets/US_business_links/m_431bd7b7.0002 to C:/Users/kesj/AppData/Local/Temp/graphlab-KESJ/26016/03c338f9-f92b-4455-b705-b7e8cdd86f47.0002\n",
      "PROGRESS: Downloading http://s3.amazonaws.com/dato-datasets/US_business_links/m_5bd062c2.0002 to C:/Users/kesj/AppData/Local/Temp/graphlab-KESJ/26016/c9b583d6-bc0a-480b-aa0a-cdd159f7f063.0002\n",
      "PROGRESS: Downloading http://s3.amazonaws.com/dato-datasets/US_business_links/m_12200854.0000 to C:/Users/kesj/AppData/Local/Temp/graphlab-KESJ/26016/144f2801-ae69-47bf-a6d7-fc68ae1199c4.0000\n",
      "PROGRESS: Downloading http://s3.amazonaws.com/dato-datasets/US_business_links/m_4353d0cd.0000 to C:/Users/kesj/AppData/Local/Temp/graphlab-KESJ/26016/20a56fbf-fc04-423f-81f8-69648b2822f3.0000\n",
      "PROGRESS: Downloading http://s3.amazonaws.com/dato-datasets/US_business_links/m_12200854.0001 to C:/Users/kesj/AppData/Local/Temp/graphlab-KESJ/26016/eec36335-45fd-4767-9322-3cabd0b1597a.0001\n",
      "PROGRESS: Downloading http://s3.amazonaws.com/dato-datasets/US_business_links/m_4353d0cd.0001 to C:/Users/kesj/AppData/Local/Temp/graphlab-KESJ/26016/aa276c7a-7c84-4532-bdac-da7ad4e1c088.0001\n",
      "PROGRESS: Downloading http://s3.amazonaws.com/dato-datasets/US_business_links/m_4353d0cd.0002 to C:/Users/kesj/AppData/Local/Temp/graphlab-KESJ/26016/ea8f2d1c-b8f8-4bdc-8d3b-49ffc7e6dafd.0002\n",
      "PROGRESS: Downloading http://s3.amazonaws.com/dato-datasets/US_business_links/m_12200854.0002 to C:/Users/kesj/AppData/Local/Temp/graphlab-KESJ/26016/15397a05-d093-41a6-b023-26060be7594c.0002\n",
      "PROGRESS: Downloading http://s3.amazonaws.com/dato-datasets/US_business_links/m_614fd4a1.0000 to C:/Users/kesj/AppData/Local/Temp/graphlab-KESJ/26016/a3cb274a-5367-44e2-9f66-80e60598db22.0000\n",
      "PROGRESS: Downloading http://s3.amazonaws.com/dato-datasets/US_business_links/m_b03e0c6.0000 to C:/Users/kesj/AppData/Local/Temp/graphlab-KESJ/26016/f2a78d6d-333a-43ff-a68e-c7dd2bb29a0f.0000\n",
      "PROGRESS: Downloading http://s3.amazonaws.com/dato-datasets/US_business_links/m_3f2dba31.0000 to C:/Users/kesj/AppData/Local/Temp/graphlab-KESJ/26016/01319568-d57a-40ec-a8d5-b4ae3ccfa308.0000\n",
      "PROGRESS: Downloading http://s3.amazonaws.com/dato-datasets/US_business_links/m_3f2dba31.0001 to C:/Users/kesj/AppData/Local/Temp/graphlab-KESJ/26016/c1e8f8fd-853a-4b01-82b3-fb67f2b37301.0001\n",
      "PROGRESS: Downloading http://s3.amazonaws.com/dato-datasets/US_business_links/m_3f2dba31.0002 to C:/Users/kesj/AppData/Local/Temp/graphlab-KESJ/26016/8c2659a8-6505-4df4-b78b-86d8621dc2e9.0002\n",
      "PROGRESS: Downloading http://s3.amazonaws.com/dato-datasets/US_business_links/m_614fd4a1.0001 to C:/Users/kesj/AppData/Local/Temp/graphlab-KESJ/26016/9c4e7e23-6f59-4301-81e4-e3040aadcb71.0001\n",
      "PROGRESS: Downloading http://s3.amazonaws.com/dato-datasets/US_business_links/m_4db127f8.0000 to C:/Users/kesj/AppData/Local/Temp/graphlab-KESJ/26016/e94da2a7-3f6e-4613-87a5-c555bf83ae7c.0000\n",
      "PROGRESS: Downloading http://s3.amazonaws.com/dato-datasets/US_business_links/m_b03e0c6.0001 to C:/Users/kesj/AppData/Local/Temp/graphlab-KESJ/26016/a7adb109-9f41-4a50-9d13-954894dd8397.0001\n",
      "PROGRESS: Downloading http://s3.amazonaws.com/dato-datasets/US_business_links/m_614fd4a1.0002 to C:/Users/kesj/AppData/Local/Temp/graphlab-KESJ/26016/1a7987cf-c44c-4c74-8253-a81d5224fe8d.0002\n",
      "PROGRESS: Downloading http://s3.amazonaws.com/dato-datasets/US_business_links/m_7c83e458.0000 to C:/Users/kesj/AppData/Local/Temp/graphlab-KESJ/26016/03dab75d-f8ee-4aa4-8006-45793e37c480.0000\n",
      "PROGRESS: Downloading http://s3.amazonaws.com/dato-datasets/US_business_links/m_7c83e458.0001 to C:/Users/kesj/AppData/Local/Temp/graphlab-KESJ/26016/7080a1f0-0326-45bb-899b-d74f32ba9314.0001\n",
      "PROGRESS: Downloading http://s3.amazonaws.com/dato-datasets/US_business_links/m_7c83e458.0002 to C:/Users/kesj/AppData/Local/Temp/graphlab-KESJ/26016/e3b6b8bb-bc47-430b-826d-a9d1d402a719.0002\n",
      "PROGRESS: Downloading http://s3.amazonaws.com/dato-datasets/US_business_links/m_257130a3.0000 to C:/Users/kesj/AppData/Local/Temp/graphlab-KESJ/26016/5768d667-0fec-4cba-8bfa-92f39d944045.0000\n",
      "PROGRESS: Downloading http://s3.amazonaws.com/dato-datasets/US_business_links/m_257130a3.0001 to C:/Users/kesj/AppData/Local/Temp/graphlab-KESJ/26016/bc20df49-5ba7-4605-964d-0ce293267e28.0001\n",
      "PROGRESS: Downloading http://s3.amazonaws.com/dato-datasets/US_business_links/m_257130a3.0002 to C:/Users/kesj/AppData/Local/Temp/graphlab-KESJ/26016/ef8a6b9d-f1b9-4732-aa02-2b5986de4349.0002\n",
      "PROGRESS: Downloading http://s3.amazonaws.com/dato-datasets/US_business_links/m_4db127f8.0001 to C:/Users/kesj/AppData/Local/Temp/graphlab-KESJ/26016/4374b283-6cac-4756-9921-7b98a489352f.0001\n",
      "PROGRESS: Downloading http://s3.amazonaws.com/dato-datasets/US_business_links/m_b03e0c6.0002 to C:/Users/kesj/AppData/Local/Temp/graphlab-KESJ/26016/2c44553c-3f2e-470d-ab2f-57972f8940ff.0002\n",
      "PROGRESS: Downloading http://s3.amazonaws.com/dato-datasets/US_business_links/m_62bbd95a.0000 to C:/Users/kesj/AppData/Local/Temp/graphlab-KESJ/26016/438fe154-1780-4898-91b8-f0f961c5f9c2.0000\n",
      "PROGRESS: Downloading http://s3.amazonaws.com/dato-datasets/US_business_links/m_62bbd95a.0001 to C:/Users/kesj/AppData/Local/Temp/graphlab-KESJ/26016/bc9d0ed6-c84a-4b64-89a5-bace6048ca26.0001\n",
      "PROGRESS: Downloading http://s3.amazonaws.com/dato-datasets/US_business_links/m_62bbd95a.0002 to C:/Users/kesj/AppData/Local/Temp/graphlab-KESJ/26016/e912fa33-6965-453a-94b3-f95706c2e178.0002\n",
      "PROGRESS: Downloading http://s3.amazonaws.com/dato-datasets/US_business_links/m_4db127f8.0002 to C:/Users/kesj/AppData/Local/Temp/graphlab-KESJ/26016/713d0c1d-6c59-425d-b1e0-696c5f8aaed0.0002\n",
      "PROGRESS: Downloading http://s3.amazonaws.com/dato-datasets/US_business_links/m_436c6125.0000 to C:/Users/kesj/AppData/Local/Temp/graphlab-KESJ/26016/1b9381fb-c77d-4a08-935a-848ed94788cc.0000\n",
      "PROGRESS: Downloading http://s3.amazonaws.com/dato-datasets/US_business_links/m_419ac241.0000 to C:/Users/kesj/AppData/Local/Temp/graphlab-KESJ/26016/73e707d2-d17e-41de-9371-cab7784d73fd.0000\n",
      "PROGRESS: Downloading http://s3.amazonaws.com/dato-datasets/US_business_links/m_419ac241.0001 to C:/Users/kesj/AppData/Local/Temp/graphlab-KESJ/26016/71fd3bee-d43d-4233-841f-3cac6ee40682.0001\n",
      "PROGRESS: Downloading http://s3.amazonaws.com/dato-datasets/US_business_links/m_419ac241.0002 to C:/Users/kesj/AppData/Local/Temp/graphlab-KESJ/26016/e0be217d-7586-4239-a65f-6d5606001a3c.0002\n",
      "PROGRESS: Downloading http://s3.amazonaws.com/dato-datasets/US_business_links/m_436c6125.0001 to C:/Users/kesj/AppData/Local/Temp/graphlab-KESJ/26016/4a5b9963-44d4-4ed8-877d-99ff29086c30.0001\n",
      "PROGRESS: Downloading http://s3.amazonaws.com/dato-datasets/US_business_links/m_436c6125.0002 to C:/Users/kesj/AppData/Local/Temp/graphlab-KESJ/26016/89156ded-b92d-4862-91cd-190c6e9dcf71.0002\n",
      "PROGRESS: Downloading http://s3.amazonaws.com/dato-datasets/US_business_links/m_189a769b.0000 to C:/Users/kesj/AppData/Local/Temp/graphlab-KESJ/26016/d5449551-6ee3-4a15-9b87-4f363c2eb420.0000\n",
      "PROGRESS: Downloading http://s3.amazonaws.com/dato-datasets/US_business_links/m_189a769b.0001 to C:/Users/kesj/AppData/Local/Temp/graphlab-KESJ/26016/bbe8d665-18b9-4000-808d-9c92a9dbd146.0001\n",
      "PROGRESS: Downloading http://s3.amazonaws.com/dato-datasets/US_business_links/m_189a769b.0002 to C:/Users/kesj/AppData/Local/Temp/graphlab-KESJ/26016/8369d517-7b65-46b3-a613-a504f1761827.0002\n",
      "PROGRESS: Downloading http://s3.amazonaws.com/dato-datasets/US_business_links/m_5577f8e1.0000 to C:/Users/kesj/AppData/Local/Temp/graphlab-KESJ/26016/3a165057-806f-4e9d-aa2f-cf35a3f1bde4.0000\n",
      "PROGRESS: Downloading http://s3.amazonaws.com/dato-datasets/US_business_links/m_54e49eb4.0000 to C:/Users/kesj/AppData/Local/Temp/graphlab-KESJ/26016/7ce6e6aa-6b33-4011-8be1-3df0371fa24e.0000\n",
      "PROGRESS: Downloading http://s3.amazonaws.com/dato-datasets/US_business_links/m_54e49eb4.0001 to C:/Users/kesj/AppData/Local/Temp/graphlab-KESJ/26016/0b0c1279-9662-417e-8c58-036707ffc4e5.0001\n",
      "PROGRESS: Downloading http://s3.amazonaws.com/dato-datasets/US_business_links/m_216231b.0000 to C:/Users/kesj/AppData/Local/Temp/graphlab-KESJ/26016/ba1bf2ee-5116-4d75-8b73-b7c26a005fea.0000\n",
      "PROGRESS: Downloading http://s3.amazonaws.com/dato-datasets/US_business_links/m_628c895d.0000 to C:/Users/kesj/AppData/Local/Temp/graphlab-KESJ/26016/dc63103d-6938-4977-886a-205607d9333b.0000\n",
      "PROGRESS: Downloading http://s3.amazonaws.com/dato-datasets/US_business_links/m_628c895d.0001 to C:/Users/kesj/AppData/Local/Temp/graphlab-KESJ/26016/e60fe219-e07f-4977-867b-1a8b863e6f65.0001\n",
      "PROGRESS: Downloading http://s3.amazonaws.com/dato-datasets/US_business_links/m_628c895d.0002 to C:/Users/kesj/AppData/Local/Temp/graphlab-KESJ/26016/dd693b9e-a767-4235-b4b2-36d821b30b26.0002\n",
      "PROGRESS: Downloading http://s3.amazonaws.com/dato-datasets/US_business_links/m_5577f8e1.0001 to C:/Users/kesj/AppData/Local/Temp/graphlab-KESJ/26016/d6d03ca9-157e-4fc9-af09-463ffb2ae6be.0001\n",
      "PROGRESS: Downloading http://s3.amazonaws.com/dato-datasets/US_business_links/m_54e49eb4.0002 to C:/Users/kesj/AppData/Local/Temp/graphlab-KESJ/26016/6d9740a5-b4b4-41a1-8817-a43955d0f37e.0002\n",
      "PROGRESS: Downloading http://s3.amazonaws.com/dato-datasets/US_business_links/m_5577f8e1.0002 to C:/Users/kesj/AppData/Local/Temp/graphlab-KESJ/26016/20343908-063b-4ee4-b3c4-62bc11b5adff.0002\n",
      "PROGRESS: Downloading http://s3.amazonaws.com/dato-datasets/US_business_links/m_216231b.0001 to C:/Users/kesj/AppData/Local/Temp/graphlab-KESJ/26016/cc2de0de-bfeb-4e72-875d-bfc7a2ce8b56.0001\n",
      "PROGRESS: Downloading http://s3.amazonaws.com/dato-datasets/US_business_links/m_216231b.0002 to C:/Users/kesj/AppData/Local/Temp/graphlab-KESJ/26016/cad3b9d4-7afd-4531-81da-cd0e65aa73ea.0002\n",
      "PROGRESS: Downloading http://s3.amazonaws.com/dato-datasets/US_business_links/m_71f32454.0000 to C:/Users/kesj/AppData/Local/Temp/graphlab-KESJ/26016/fe7efdd5-f5de-47e7-a409-81bad9f40941.0000\n",
      "PROGRESS: Downloading http://s3.amazonaws.com/dato-datasets/US_business_links/m_440badfc.0000 to C:/Users/kesj/AppData/Local/Temp/graphlab-KESJ/26016/e5280a67-de83-48d8-b925-e0036f39fd16.0000\n",
      "PROGRESS: Downloading http://s3.amazonaws.com/dato-datasets/US_business_links/m_333ab105.0000 to C:/Users/kesj/AppData/Local/Temp/graphlab-KESJ/26016/0f414dd2-bcee-45f7-9ac9-1b4243ca1fb6.0000\n",
      "PROGRESS: Downloading http://s3.amazonaws.com/dato-datasets/US_business_links/m_1f16e9e8.0000 to C:/Users/kesj/AppData/Local/Temp/graphlab-KESJ/26016/057563b7-233e-4f63-9846-262704d9b60c.0000\n",
      "PROGRESS: Downloading http://s3.amazonaws.com/dato-datasets/US_business_links/m_333ab105.0001 to C:/Users/kesj/AppData/Local/Temp/graphlab-KESJ/26016/f0f590ef-c509-4f8c-87e0-1ddce7c42a47.0001\n",
      "PROGRESS: Downloading http://s3.amazonaws.com/dato-datasets/US_business_links/m_333ab105.0002 to C:/Users/kesj/AppData/Local/Temp/graphlab-KESJ/26016/f167c8e3-4b25-457d-a415-37a86e7a983b.0002\n",
      "PROGRESS: Downloading http://s3.amazonaws.com/dato-datasets/US_business_links/m_721da317.0000 to C:/Users/kesj/AppData/Local/Temp/graphlab-KESJ/26016/115dda23-4f69-457c-8eeb-1beb89d63ca3.0000\n",
      "PROGRESS: Downloading http://s3.amazonaws.com/dato-datasets/US_business_links/m_721da317.0001 to C:/Users/kesj/AppData/Local/Temp/graphlab-KESJ/26016/7055bf52-83be-4117-886e-da34ebfd5730.0001\n",
      "PROGRESS: Downloading http://s3.amazonaws.com/dato-datasets/US_business_links/m_71f32454.0001 to C:/Users/kesj/AppData/Local/Temp/graphlab-KESJ/26016/e16d76b7-9e1c-420f-b0f2-dc5280595d18.0001\n",
      "PROGRESS: Downloading http://s3.amazonaws.com/dato-datasets/US_business_links/m_721da317.0002 to C:/Users/kesj/AppData/Local/Temp/graphlab-KESJ/26016/a2c849e0-b4d9-49e9-a1b1-f2f4642c244e.0002\n",
      "PROGRESS: Downloading http://s3.amazonaws.com/dato-datasets/US_business_links/m_1f16e9e8.0001 to C:/Users/kesj/AppData/Local/Temp/graphlab-KESJ/26016/683144e7-3065-42fa-91b0-72650efc2f8f.0001\n",
      "PROGRESS: Downloading http://s3.amazonaws.com/dato-datasets/US_business_links/m_1f16e9e8.0002 to C:/Users/kesj/AppData/Local/Temp/graphlab-KESJ/26016/90ab5c0a-ac13-421e-bc5a-156559862b80.0002\n",
      "PROGRESS: Downloading http://s3.amazonaws.com/dato-datasets/US_business_links/m_440badfc.0001 to C:/Users/kesj/AppData/Local/Temp/graphlab-KESJ/26016/de3e8eea-349e-4a98-9938-538998d370ab.0001\n",
      "PROGRESS: Downloading http://s3.amazonaws.com/dato-datasets/US_business_links/m_440badfc.0002 to C:/Users/kesj/AppData/Local/Temp/graphlab-KESJ/26016/b96e24a7-ec46-4192-9024-8ecb78fdbece.0002\n",
      "PROGRESS: Downloading http://s3.amazonaws.com/dato-datasets/US_business_links/m_71f32454.0002 to C:/Users/kesj/AppData/Local/Temp/graphlab-KESJ/26016/1b6a8930-ef72-4366-8538-79ee2b12d272.0002\n",
      "PROGRESS: Downloading http://s3.amazonaws.com/dato-datasets/US_business_links/m_2ca88611.0000 to C:/Users/kesj/AppData/Local/Temp/graphlab-KESJ/26016/519680be-d7a1-4d79-b31c-75daf28d5826.0000\n",
      "PROGRESS: Downloading http://s3.amazonaws.com/dato-datasets/US_business_links/m_2ca88611.0001 to C:/Users/kesj/AppData/Local/Temp/graphlab-KESJ/26016/8c8cdab2-9c47-428a-b4f8-bdff2764a07f.0001\n",
      "PROGRESS: Downloading http://s3.amazonaws.com/dato-datasets/US_business_links/m_5072367.0000 to C:/Users/kesj/AppData/Local/Temp/graphlab-KESJ/26016/200fd3f9-fc70-44cd-8f33-647fff159188.0000\n",
      "PROGRESS: Downloading http://s3.amazonaws.com/dato-datasets/US_business_links/m_5072367.0001 to C:/Users/kesj/AppData/Local/Temp/graphlab-KESJ/26016/4d35bd75-3dc7-45d6-9041-93aaa723c388.0001\n",
      "PROGRESS: Downloading http://s3.amazonaws.com/dato-datasets/US_business_links/m_5072367.0002 to C:/Users/kesj/AppData/Local/Temp/graphlab-KESJ/26016/dc1d6311-c2b1-453a-8932-f0e363afc227.0002\n",
      "PROGRESS: Downloading http://s3.amazonaws.com/dato-datasets/US_business_links/m_1190cde7.0000 to C:/Users/kesj/AppData/Local/Temp/graphlab-KESJ/26016/c46cd5e9-a309-4ebd-9d55-faac59e3a3de.0000\n",
      "PROGRESS: Downloading http://s3.amazonaws.com/dato-datasets/US_business_links/m_3804823e.0000 to C:/Users/kesj/AppData/Local/Temp/graphlab-KESJ/26016/fb134d72-c75e-4d5c-8ac5-c0830d6544ca.0000\n",
      "PROGRESS: Downloading http://s3.amazonaws.com/dato-datasets/US_business_links/m_2ca88611.0002 to C:/Users/kesj/AppData/Local/Temp/graphlab-KESJ/26016/6b4513b7-e5fc-4574-8f7e-6736b93c0b15.0002\n",
      "PROGRESS: Downloading http://s3.amazonaws.com/dato-datasets/US_business_links/m_1190cde7.0001 to C:/Users/kesj/AppData/Local/Temp/graphlab-KESJ/26016/0ee3e2a6-122d-4856-9aa2-aee8305a2191.0001\n",
      "PROGRESS: Downloading http://s3.amazonaws.com/dato-datasets/US_business_links/m_1190cde7.0002 to C:/Users/kesj/AppData/Local/Temp/graphlab-KESJ/26016/7819d352-5fe8-404f-88f5-4ec33f8742c1.0002\n",
      "PROGRESS: Downloading http://s3.amazonaws.com/dato-datasets/US_business_links/m_3804823e.0001 to C:/Users/kesj/AppData/Local/Temp/graphlab-KESJ/26016/c4d03b63-42d6-4476-b69c-53d616a78882.0001\n",
      "PROGRESS: Downloading http://s3.amazonaws.com/dato-datasets/US_business_links/m_3804823e.0002 to C:/Users/kesj/AppData/Local/Temp/graphlab-KESJ/26016/3721aa06-ff2c-4cc2-9dd6-b6a918ccee55.0002\n",
      "PROGRESS: Downloading http://s3.amazonaws.com/dato-datasets/US_business_links/m_66ef438d.0000 to C:/Users/kesj/AppData/Local/Temp/graphlab-KESJ/26016/c0815917-ec91-4ba3-a7ef-68a0e1106106.0000\n",
      "PROGRESS: Downloading http://s3.amazonaws.com/dato-datasets/US_business_links/m_77465f01.0000 to C:/Users/kesj/AppData/Local/Temp/graphlab-KESJ/26016/ace4ea5e-eae3-4aea-a5b5-d3792867e1ea.0000\n",
      "PROGRESS: Downloading http://s3.amazonaws.com/dato-datasets/US_business_links/m_77465f01.0001 to C:/Users/kesj/AppData/Local/Temp/graphlab-KESJ/26016/b8705dcc-fba9-4424-8231-8a14598287a7.0001\n",
      "PROGRESS: Downloading http://s3.amazonaws.com/dato-datasets/US_business_links/m_77465f01.0002 to C:/Users/kesj/AppData/Local/Temp/graphlab-KESJ/26016/d72260d1-b113-4b16-9406-e4e8b450a4b1.0002\n",
      "PROGRESS: Downloading http://s3.amazonaws.com/dato-datasets/US_business_links/m_836c40e.0000 to C:/Users/kesj/AppData/Local/Temp/graphlab-KESJ/26016/aa32b7e7-9b53-4f74-8131-869d5363c9f5.0000\n",
      "PROGRESS: Downloading http://s3.amazonaws.com/dato-datasets/US_business_links/m_836c40e.0001 to C:/Users/kesj/AppData/Local/Temp/graphlab-KESJ/26016/7002df5a-2da1-4c92-b19d-915a579a918d.0001\n",
      "PROGRESS: Downloading http://s3.amazonaws.com/dato-datasets/US_business_links/m_66ef438d.0001 to C:/Users/kesj/AppData/Local/Temp/graphlab-KESJ/26016/a47d465b-7696-4849-af3e-80f8cddf5514.0001\n",
      "PROGRESS: Downloading http://s3.amazonaws.com/dato-datasets/US_business_links/m_66ef438d.0002 to C:/Users/kesj/AppData/Local/Temp/graphlab-KESJ/26016/6c7b56df-d980-470e-b068-fdf85526ef4e.0002\n",
      "PROGRESS: Downloading http://s3.amazonaws.com/dato-datasets/US_business_links/m_836c40e.0002 to C:/Users/kesj/AppData/Local/Temp/graphlab-KESJ/26016/1d0925b0-6951-4e06-9296-841e963de24a.0002\n",
      "PROGRESS: Downloading http://s3.amazonaws.com/dato-datasets/US_business_links/m_140e0f76.0000 to C:/Users/kesj/AppData/Local/Temp/graphlab-KESJ/26016/20485065-8ad3-47ac-82a0-9bbda20ed0d2.0000\n",
      "PROGRESS: Downloading http://s3.amazonaws.com/dato-datasets/US_business_links/m_140e0f76.0001 to C:/Users/kesj/AppData/Local/Temp/graphlab-KESJ/26016/308317ba-e1de-4adf-8f8b-ce84024dfada.0001\n",
      "PROGRESS: Downloading http://s3.amazonaws.com/dato-datasets/US_business_links/m_140e0f76.0002 to C:/Users/kesj/AppData/Local/Temp/graphlab-KESJ/26016/22bcf9b6-1a76-47a4-9a8d-f94b94fcd3e1.0002\n",
      "PROGRESS: Downloading http://s3.amazonaws.com/dato-datasets/US_business_links/m_7724c67e.0000 to C:/Users/kesj/AppData/Local/Temp/graphlab-KESJ/26016/1b21b3a9-ab73-4e81-b44a-cfb364765a40.0000\n",
      "PROGRESS: Downloading http://s3.amazonaws.com/dato-datasets/US_business_links/m_7724c67e.0001 to C:/Users/kesj/AppData/Local/Temp/graphlab-KESJ/26016/89e07015-595e-4d71-a78b-1e61924f281b.0001\n",
      "PROGRESS: Downloading http://s3.amazonaws.com/dato-datasets/US_business_links/m_7724c67e.0002 to C:/Users/kesj/AppData/Local/Temp/graphlab-KESJ/26016/93f49205-de50-422d-88df-06834d8295de.0002\n",
      "PROGRESS: Downloading http://s3.amazonaws.com/dato-datasets/US_business_links/m_5c482a97.0000 to C:/Users/kesj/AppData/Local/Temp/graphlab-KESJ/26016/30b1eb45-c29a-4e03-8d37-48d81166f6ff.0000\n",
      "PROGRESS: Downloading http://s3.amazonaws.com/dato-datasets/US_business_links/m_3352255a.0000 to C:/Users/kesj/AppData/Local/Temp/graphlab-KESJ/26016/629e8ad1-61ba-413a-8754-e043d009fadd.0000\n",
      "PROGRESS: Downloading http://s3.amazonaws.com/dato-datasets/US_business_links/m_2901d82.0000 to C:/Users/kesj/AppData/Local/Temp/graphlab-KESJ/26016/546011e5-6ed7-4e9e-93f6-b96d898437d3.0000\n",
      "PROGRESS: Downloading http://s3.amazonaws.com/dato-datasets/US_business_links/m_2901d82.0001 to C:/Users/kesj/AppData/Local/Temp/graphlab-KESJ/26016/aa2fdc8c-5b72-4cff-83f0-eed280e0faf2.0001\n",
      "PROGRESS: Downloading http://s3.amazonaws.com/dato-datasets/US_business_links/m_3352255a.0001 to C:/Users/kesj/AppData/Local/Temp/graphlab-KESJ/26016/0ee78a01-8c67-4ee3-af0d-40e85e663ffc.0001\n",
      "PROGRESS: Downloading http://s3.amazonaws.com/dato-datasets/US_business_links/m_2901d82.0002 to C:/Users/kesj/AppData/Local/Temp/graphlab-KESJ/26016/e6c70704-fd71-4fa2-852d-2149ead7f10a.0002\n",
      "PROGRESS: Downloading http://s3.amazonaws.com/dato-datasets/US_business_links/m_3352255a.0002 to C:/Users/kesj/AppData/Local/Temp/graphlab-KESJ/26016/2371369a-4747-49a5-bcc3-1a87eb0d806a.0002\n",
      "PROGRESS: Downloading http://s3.amazonaws.com/dato-datasets/US_business_links/m_5c482a97.0001 to C:/Users/kesj/AppData/Local/Temp/graphlab-KESJ/26016/a0bb9352-b154-45fb-a7c8-eeaf43a9515e.0001\n",
      "PROGRESS: Downloading http://s3.amazonaws.com/dato-datasets/US_business_links/m_3a95f874.0000 to C:/Users/kesj/AppData/Local/Temp/graphlab-KESJ/26016/93d9135a-cd47-4ab3-8a78-035af45e0d95.0000\n",
      "PROGRESS: Downloading http://s3.amazonaws.com/dato-datasets/US_business_links/m_109cf92e.0000 to C:/Users/kesj/AppData/Local/Temp/graphlab-KESJ/26016/02a0d615-c32d-46dd-9b24-66bf584c8be6.0000\n",
      "PROGRESS: Downloading http://s3.amazonaws.com/dato-datasets/US_business_links/m_109cf92e.0001 to C:/Users/kesj/AppData/Local/Temp/graphlab-KESJ/26016/51e1f607-3c79-40f7-a527-ebadca61452a.0001\n",
      "PROGRESS: Downloading http://s3.amazonaws.com/dato-datasets/US_business_links/m_109cf92e.0002 to C:/Users/kesj/AppData/Local/Temp/graphlab-KESJ/26016/b4bf85c9-c325-4798-a851-2609819f80f6.0002\n",
      "PROGRESS: Downloading http://s3.amazonaws.com/dato-datasets/US_business_links/m_5c482a97.0002 to C:/Users/kesj/AppData/Local/Temp/graphlab-KESJ/26016/202da468-bc86-4a25-970c-738cb8057633.0002\n",
      "PROGRESS: Downloading http://s3.amazonaws.com/dato-datasets/US_business_links/m_3a95f874.0001 to C:/Users/kesj/AppData/Local/Temp/graphlab-KESJ/26016/24a72f0a-df1c-41a8-9cbb-3cff75036f4d.0001\n",
      "PROGRESS: Downloading http://s3.amazonaws.com/dato-datasets/US_business_links/m_3a95f874.0002 to C:/Users/kesj/AppData/Local/Temp/graphlab-KESJ/26016/128e9ec8-2259-4c33-a86a-6ca9ce85d3d2.0002\n",
      "PROGRESS: Downloading http://s3.amazonaws.com/dato-datasets/US_business_links/m_ded7263.0000 to C:/Users/kesj/AppData/Local/Temp/graphlab-KESJ/26016/91fc9994-32a6-4e31-91f4-c5ead95a9fa2.0000\n",
      "PROGRESS: Downloading http://s3.amazonaws.com/dato-datasets/US_business_links/m_ded7263.0001 to C:/Users/kesj/AppData/Local/Temp/graphlab-KESJ/26016/61b98f80-d852-4566-9648-c03064d14f55.0001\n",
      "PROGRESS: Downloading http://s3.amazonaws.com/dato-datasets/US_business_links/m_8138641.0000 to C:/Users/kesj/AppData/Local/Temp/graphlab-KESJ/26016/5bddaad8-2fbb-4846-b59a-bf524a378165.0000\n",
      "PROGRESS: Downloading http://s3.amazonaws.com/dato-datasets/US_business_links/m_8138641.0001 to C:/Users/kesj/AppData/Local/Temp/graphlab-KESJ/26016/b042be1a-7362-4577-aef3-f67884894dfc.0001\n",
      "PROGRESS: Downloading http://s3.amazonaws.com/dato-datasets/US_business_links/m_ded7263.0002 to C:/Users/kesj/AppData/Local/Temp/graphlab-KESJ/26016/53f62db8-3f7e-49ab-b560-4410e2734015.0002\n",
      "PROGRESS: Downloading http://s3.amazonaws.com/dato-datasets/US_business_links/m_8138641.0002 to C:/Users/kesj/AppData/Local/Temp/graphlab-KESJ/26016/9e0f0037-4063-4b99-b30d-1a4aaa1410b8.0002\n"
     ]
    }
   ],
   "source": [
    "if os.path.exists(data_file):\n",
    "    sg = gl.load_sgraph(data_file)\n",
    "else:\n",
    "    url = 'http://s3.amazonaws.com/dato-datasets/' + data_file\n",
    "    sg = gl.load_sgraph(url)\n",
    "    sg.save(data_file)"
   ]
  },
  {
   "cell_type": "code",
   "execution_count": 22,
   "metadata": {
    "collapsed": false
   },
   "outputs": [],
   "source": [
    "print sg.summary?"
   ]
  },
  {
   "cell_type": "code",
   "execution_count": null,
   "metadata": {
    "collapsed": true
   },
   "outputs": [],
   "source": [
    "print sg.summary"
   ]
  },
  {
   "cell_type": "code",
   "execution_count": 26,
   "metadata": {
    "collapsed": false
   },
   "outputs": [
    {
     "name": "stdout",
     "output_type": "stream",
     "text": [
      "Canvas is updated and available in a tab in the default browser.\n"
     ]
    }
   ],
   "source": [
    "sg.get_neighborhood(ids=['State Farm','Allstate','Progressive','USAA']).show()"
   ]
  },
  {
   "cell_type": "markdown",
   "metadata": {},
   "source": [
    "## Page Rank\n",
    "PageRank is an iterative algorithm to compute the most influential nodes in a network. In each iteration, a vertex's influence is measured as the sum of influence of the nodes that point at the vertex. Each node's score is updated until the scores converge, or until the user-specified maximum number of iterations is reached.\n",
    "\n",
    "As with other GraphLab Create methods, the model object is constructed with the create function. The summary() method provides a snapshot of the result, and the list_fields() method gives the attributes of the model that can be queried."
   ]
  },
  {
   "cell_type": "code",
   "execution_count": 12,
   "metadata": {
    "collapsed": false
   },
   "outputs": [
    {
     "name": "stdout",
     "output_type": "stream",
     "text": [
      "PROGRESS: Counting out degree\n",
      "PROGRESS: Done counting out degree\n",
      "PROGRESS: +-----------+-----------------------+\n",
      "PROGRESS: | Iteration | L1 change in pagerank |\n",
      "PROGRESS: +-----------+-----------------------+\n",
      "PROGRESS: | 1         | 371040                |\n",
      "PROGRESS: | 2         | 273072                |\n",
      "PROGRESS: | 3         | 161198                |\n",
      "PROGRESS: | 4         | 87525                 |\n",
      "PROGRESS: | 5         | 53120.5               |\n",
      "PROGRESS: | 6         | 29993.1               |\n",
      "PROGRESS: | 7         | 18550.2               |\n",
      "PROGRESS: | 8         | 10595.4               |\n",
      "PROGRESS: | 9         | 6661.93               |\n",
      "PROGRESS: | 10        | 3824.08               |\n",
      "PROGRESS: +-----------+-----------------------+\n",
      "Class                                   : PagerankModel\n",
      "\n",
      "Graph\n",
      "-----\n",
      "num_edges                               : 517127\n",
      "num_vertices                            : 233121\n",
      "\n",
      "Results\n",
      "-------\n",
      "graph                                   : SGraph. See m['graph']\n",
      "change in last iteration (L1 norm)      : 3824.0835\n",
      "vertex pagerank                         : SFrame. See m['pagerank']\n",
      "\n",
      "Settings\n",
      "--------\n",
      "maximun number of iterations            : 10\n",
      "convergence threshold (L1 norm)         : 0.01\n",
      "probablity of random jumps to any node in the graph: 0.15\n",
      "\n",
      "Metrics\n",
      "-------\n",
      "training time (secs)                    : 2.201\n",
      "number of iterations                    : 10\n",
      "\n",
      "Queryable Fields\n",
      "----------------\n",
      "training_time                           : Total training time of the model\n",
      "graph                                   : A new SGraph with the pagerank as a vertex property\n",
      "delta                                   : Change in pagerank for the last iteration in L1 norm\n",
      "reset_probability                       : The probablity of randomly jumps to any node in the graph\n",
      "pagerank                                : An SFrame with each vertex's pagerank\n",
      "num_iterations                          : Number of iterations\n",
      "threshold                               : The convergence threshold in L1 norm\n",
      "max_iterations                          : The maximun number of iterations to run\n",
      "\n",
      "None\n"
     ]
    }
   ],
   "source": [
    "pr = gl.pagerankrankerank.create(sg,max_iterations=10)\n",
    "print pr.summary()"
   ]
  },
  {
   "cell_type": "code",
   "execution_count": 13,
   "metadata": {
    "collapsed": false
   },
   "outputs": [
    {
     "name": "stdout",
     "output_type": "stream",
     "text": [
      "2.201\n"
     ]
    }
   ],
   "source": [
    "print pr['training_time']"
   ]
  },
  {
   "cell_type": "code",
   "execution_count": 14,
   "metadata": {
    "collapsed": false
   },
   "outputs": [
    {
     "name": "stdout",
     "output_type": "stream",
     "text": [
      "+-------------------------------+---------------+---------------+\n",
      "|              __id             |    pagerank   |     delta     |\n",
      "+-------------------------------+---------------+---------------+\n",
      "| American Broadcasting Company | 3050.12285481 | 171.095519607 |\n",
      "|           Microsoft           | 1640.93294801 | 79.4193105615 |\n",
      "|           DC Comics           | 1623.76580168 |  231.05676926 |\n",
      "|       Paramount Pictures      | 1341.29716993 | 74.7486642804 |\n",
      "|            Facebook           | 1218.69295972 | 23.8510621222 |\n",
      "|             Google            | 1180.48509934 |  41.271924661 |\n",
      "|       Ford Motor Company      | 1156.31695182 | 84.5552251247 |\n",
      "|            Twitter            | 1074.30512161 | 16.3932159159 |\n",
      "|       Columbia Pictures       | 921.042912728 | 55.2951992749 |\n",
      "|    The Walt Disney Company    | 878.301063411 | 74.9881435439 |\n",
      "+-------------------------------+---------------+---------------+\n",
      "[10 rows x 3 columns]\n",
      "\n"
     ]
    }
   ],
   "source": [
    "pr_out = pr['pagerank']\n",
    "print pr_out.topk('pagerank',k=10)"
   ]
  },
  {
   "cell_type": "code",
   "execution_count": 39,
   "metadata": {
    "collapsed": false
   },
   "outputs": [
    {
     "data": {
      "text/html": [
       "<div style=\"max-height:1000px;max-width:1500px;overflow:auto;\"><table frame=\"box\" rules=\"cols\">\n",
       "    <tr>\n",
       "        <th style=\"padding-left: 1em; padding-right: 1em; text-align: center\">__id</th>\n",
       "        <th style=\"padding-left: 1em; padding-right: 1em; text-align: center\">pagerank</th>\n",
       "        <th style=\"padding-left: 1em; padding-right: 1em; text-align: center\">delta</th>\n",
       "    </tr>\n",
       "    <tr>\n",
       "        <td style=\"padding-left: 1em; padding-right: 1em; text-align: center; vertical-align: top\">State Farm</td>\n",
       "        <td style=\"padding-left: 1em; padding-right: 1em; text-align: center; vertical-align: top\">1.56287782312</td>\n",
       "        <td style=\"padding-left: 1em; padding-right: 1em; text-align: center; vertical-align: top\">0.126397550662</td>\n",
       "    </tr>\n",
       "</table>\n",
       "[? rows x 3 columns]<br/>Note: Only the head of the SFrame is printed. This SFrame is lazily evaluated.<br/>You can use len(sf) to force materialization.\n",
       "</div>"
      ],
      "text/plain": [
       "Columns:\n",
       "\t__id\tstr\n",
       "\tpagerank\tfloat\n",
       "\tdelta\tfloat\n",
       "\n",
       "Rows: Unknown\n",
       "\n",
       "Data:\n",
       "+------------+---------------+----------------+\n",
       "|    __id    |    pagerank   |     delta      |\n",
       "+------------+---------------+----------------+\n",
       "| State Farm | 1.56287782312 | 0.126397550662 |\n",
       "+------------+---------------+----------------+\n",
       "[? rows x 3 columns]\n",
       "Note: Only the head of the SFrame is printed. This SFrame is lazily evaluated.\n",
       "You can use len(sf) to force materialization."
      ]
     },
     "execution_count": 39,
     "metadata": {},
     "output_type": "execute_result"
    }
   ],
   "source": [
    "pr_out[pr_out[pr_out.column_names()[0]]=='State Farm']"
   ]
  },
  {
   "cell_type": "markdown",
   "metadata": {},
   "source": [
    "### Triangle counting\n",
    "\n",
    "The number of triangles in a vertex's immediate neighborhood is a measure of the \"density\" of the vertex's neighborhood. In both of the figures below, vertex A has three immediate neighbors, ignoring edge directions. In the top figure, none of node A's neighbors is connected to any other neighbor, indicating a very loosely connected network. In contrast, all of the three neighbors are connected to each other in the bottom figure, indicating a tightly connected network."
   ]
  },
  {
   "cell_type": "code",
   "execution_count": 15,
   "metadata": {
    "collapsed": false
   },
   "outputs": [
    {
     "name": "stdout",
     "output_type": "stream",
     "text": [
      "PROGRESS: Initializing vertex ids.\n",
      "PROGRESS: Removing duplicate (bidirectional) edges.\n",
      "PROGRESS: Counting triangles...\n",
      "PROGRESS: Finished in 7.028 secs.\n",
      "PROGRESS: Total triangles in the graph : 171968\n",
      "Class                                   : TriangleCountingModel\n",
      "\n",
      "Graph\n",
      "-----\n",
      "num_edges                               : 517127\n",
      "num_vertices                            : 233121\n",
      "\n",
      "Results\n",
      "-------\n",
      "graph                                   : SGraph. See m['graph']\n",
      "total number of triangles               : 171968\n",
      "vertex triangle count                   : SFrame. See m['triangle_count']\n",
      "\n",
      "Metrics\n",
      "-------\n",
      "training time (secs)                    : 7.073\n",
      "\n",
      "Queryable Fields\n",
      "----------------\n",
      "graph                                   : A new SGraph with the triangle count as a vertex property.\n",
      "num_triangles                           : Total number of triangles in the graph.\n",
      "triangle_count                          : An SFrame with the triangle count for each vertex.\n",
      "training_time                           : Total training time of the model\n",
      "\n",
      "None\n"
     ]
    }
   ],
   "source": [
    "tri = gl.triangle_counting.create(sg)\n",
    "print tri.summary()"
   ]
  },
  {
   "cell_type": "markdown",
   "metadata": {},
   "source": [
    "In this dataset, there is a lot of overlap between the companies with large influence in the Wikipedia article network (as measured by PageRank) and the companies with the largest and most dense neighborhoods, as measured by the triangle count method, but there are notable differences. ABC has only the sixth most triangles despite having the highest pagerank, while Microsoft ranks very high by both statistics, suggesting the Microsoft article is slightly more central in the network."
   ]
  },
  {
   "cell_type": "code",
   "execution_count": 16,
   "metadata": {
    "collapsed": false
   },
   "outputs": [
    {
     "name": "stdout",
     "output_type": "stream",
     "text": [
      "+-------------------------------+----------------+\n",
      "|              __id             | triangle_count |\n",
      "+-------------------------------+----------------+\n",
      "|           Microsoft           |     21447      |\n",
      "|             Google            |     15491      |\n",
      "|            Facebook           |     14200      |\n",
      "|              IBM              |     11716      |\n",
      "|       Paramount Pictures      |     10547      |\n",
      "| American Broadcasting Company |     10514      |\n",
      "|            Twitter            |      9219      |\n",
      "|       Target Corporation      |      8474      |\n",
      "|        Delta Air Lines        |      8195      |\n",
      "|             Intel             |      7952      |\n",
      "+-------------------------------+----------------+\n",
      "[10 rows x 2 columns]\n",
      "\n"
     ]
    }
   ],
   "source": [
    "tri_out = tri['triangle_count']\n",
    "print tri_out.topk('triangle_count',k=10)"
   ]
  },
  {
   "cell_type": "markdown",
   "metadata": {},
   "source": [
    "### Single-source shortest path\n",
    "\n",
    "Paths in a graph are a sequence of vertices, where each consecutive pair is connected by an edge in the graph. The single-source shortest path problem is to find the shortest path from all vertices in the graph to a user-specified target node. The source vertex with the smallest distribution of shortest paths can be considered the most central node in the graph.\n",
    "\n",
    "Because GraphLab Create SGraphs use directed edges, the shortest path toolkit also finds the shortest directed paths to a source vertex. In this example we find all shortest paths to the node for the Microsoft article, then visualize the shortest path from the Microsoft article to the Weyerhauser article. Interestingly, the quickest way to get from Microsoft to Weyerhauser is via the articles on Google and tax avoidance."
   ]
  },
  {
   "cell_type": "code",
   "execution_count": 18,
   "metadata": {
    "collapsed": false
   },
   "outputs": [
    {
     "name": "stdout",
     "output_type": "stream",
     "text": [
      "PROGRESS: +----------------------------+\n",
      "PROGRESS: | Number of vertices updated |\n",
      "PROGRESS: +----------------------------+\n",
      "PROGRESS: | 14129                      |\n",
      "PROGRESS: | 24513                      |\n",
      "PROGRESS: | 3939                       |\n",
      "PROGRESS: | 566                        |\n",
      "PROGRESS: | 0                          |\n",
      "PROGRESS: +----------------------------+\n",
      "Canvas is accessible via web browser at the URL: http://localhost:55384/index.html\n",
      "Opening Canvas in default web browser.\n"
     ]
    },
    {
     "data": {
      "text/plain": [
       "None"
      ]
     },
     "metadata": {},
     "output_type": "display_data"
    },
    {
     "data": {
      "text/plain": [
       "[('Microsoft', 0.0),\n",
       " ('Google', 1.0),\n",
       " ('Tax avoidance', 2.0),\n",
       " ('Weyerhaeuser', 3.0)]"
      ]
     },
     "execution_count": 18,
     "metadata": {},
     "output_type": "execute_result"
    }
   ],
   "source": [
    "sssp = gl.shortest_path.create(sg, source_vid='Microsoft')\n",
    "sssp.get_path(vid='Weyerhaeuser', show=True,\n",
    "              highlight=['Microsoft', 'Weyerhaeuser'], arrows=True, ewidth=1.5)"
   ]
  },
  {
   "cell_type": "code",
   "execution_count": 19,
   "metadata": {
    "collapsed": false
   },
   "outputs": [
    {
     "ename": "AttributeError",
     "evalue": "'SGraph' object has no attribute 'head'",
     "output_type": "error",
     "traceback": [
      "\u001b[1;31m---------------------------------------------------------------------------\u001b[0m",
      "\u001b[1;31mAttributeError\u001b[0m                            Traceback (most recent call last)",
      "\u001b[1;32m<ipython-input-19-034dc5a9550f>\u001b[0m in \u001b[0;36m<module>\u001b[1;34m()\u001b[0m\n\u001b[1;32m----> 1\u001b[1;33m \u001b[0msg\u001b[0m\u001b[1;33m.\u001b[0m\u001b[0mhead\u001b[0m\u001b[1;33m(\u001b[0m\u001b[1;33m)\u001b[0m\u001b[1;33m\u001b[0m\u001b[0m\n\u001b[0m",
      "\u001b[1;31mAttributeError\u001b[0m: 'SGraph' object has no attribute 'head'"
     ]
    }
   ],
   "source": []
  },
  {
   "cell_type": "code",
   "execution_count": null,
   "metadata": {
    "collapsed": true
   },
   "outputs": [],
   "source": []
  }
 ],
 "metadata": {
  "kernelspec": {
   "display_name": "Python 2",
   "language": "python",
   "name": "python2"
  },
  "language_info": {
   "codemirror_mode": {
    "name": "ipython",
    "version": 2
   },
   "file_extension": ".py",
   "mimetype": "text/x-python",
   "name": "python",
   "nbconvert_exporter": "python",
   "pygments_lexer": "ipython2",
   "version": "2.7.10"
  }
 },
 "nbformat": 4,
 "nbformat_minor": 0
}
