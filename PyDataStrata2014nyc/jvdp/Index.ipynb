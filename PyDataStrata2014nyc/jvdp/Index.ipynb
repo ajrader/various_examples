{
 "metadata": {
  "name": "",
  "signature": "sha256:7bed103209f0c76b981706cb81aec81bd122e6f97dd941db4380dac81376f2bc"
 },
 "nbformat": 3,
 "nbformat_minor": 0,
 "worksheets": [
  {
   "cells": [
    {
     "cell_type": "markdown",
     "metadata": {},
     "source": [
      "# Introduction to NumPy and Matplotlib\n",
      "\n",
      "- *Jake VanderPlas*\n",
      "- *Presented at PyData @ Strata, New York City*\n",
      "- *October 15, 2014*"
     ]
    },
    {
     "cell_type": "markdown",
     "metadata": {},
     "source": [
      "## Outline\n",
      "\n",
      "### NumPy\n",
      "1. [Introduction to NumPy](00_NumPy_Intro.ipynb)\n",
      "\n",
      "### Matplotlib\n",
      "1. [Basic Plotting](01_mpl_BasicPlotting.ipynb)\n",
      "2. [Object-Oriented Plotting](02_mpl_ObjectOriented.ipynb)\n",
      "3. [Various Useful Plot Types](03_mpl_TypesOfPlots.ipynb)\n",
      "4. [Text, Labels & Annotation](04_mpl_TextAnnotation.ipynb)\n",
      "5. [3D Plotting](05_mpl_3D_Plotting.ipynb)\n",
      "6. [Stylesheets](06_mpl_Stylesheets.ipynb)"
     ]
    },
    {
     "cell_type": "markdown",
     "metadata": {},
     "source": [
      "## More Information\n",
      "\n",
      "This tutorial is a 1.5 hour tutorial introducing [NumPy](http://numpy.org) and [Matplotlib](http://matplotlib.org), two of the fundamental libraries for doing numerical scientific computing in Python.\n",
      "\n",
      "The tutorial will use **Python 3.x**, though I've made an effort to make it compatible with Python 2.x as well. This tutorial requires the following packages to be intstalled:\n",
      "\n",
      "- IPython & IPython notebook\n",
      "- numpy\n",
      "- scipy\n",
      "- matplotlib\n",
      "\n",
      "If you do not yet have these packages installed, I highly recommend the [Anaconda](http://continuum.io/downloads) installer, which works on OSX, Linux, or PC."
     ]
    }
   ],
   "metadata": {}
  }
 ]
}