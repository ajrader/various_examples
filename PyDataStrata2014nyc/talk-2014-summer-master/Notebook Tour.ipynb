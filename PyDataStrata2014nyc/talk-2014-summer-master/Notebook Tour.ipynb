{
 "metadata": {
  "kernelspec": {
   "codemirror_mode": {
    "name": "python",
    "version": 2
   },
   "display_name": "Python 2",
   "language": "python",
   "name": "python2"
  },
  "name": "",
  "signature": "sha256:27772358265e0430521b14ac826e552dabdf5e528e160abcb317ce93adb95f82"
 },
 "nbformat": 3,
 "nbformat_minor": 0,
 "worksheets": [
  {
   "cells": [
    {
     "cell_type": "heading",
     "level": 1,
     "metadata": {
      "slideshow": {
       "slide_type": "slide"
      }
     },
     "source": [
      "Notebook Tour"
     ]
    },
    {
     "cell_type": "code",
     "collapsed": false,
     "input": [
      "from IPython.display import display, Image, HTML\n",
      "from talktools import website, nbviewer"
     ],
     "language": "python",
     "metadata": {},
     "outputs": [],
     "prompt_number": 1
    },
    {
     "cell_type": "markdown",
     "metadata": {},
     "source": [
      "The Jupyter Notebook is a web-based application that enables users to create documents that combine live code wth narrative next, equations, images, visualizations and HTML/JavaScript widgets.\n",
      "\n",
      "This notebook gives an overview of the Jupyter Notebook and the standard IPython Kernel for running Python code."
     ]
    },
    {
     "cell_type": "heading",
     "level": 2,
     "metadata": {
      "slideshow": {
       "slide_type": "slide"
      }
     },
     "source": [
      "Interactive exploration"
     ]
    },
    {
     "cell_type": "markdown",
     "metadata": {},
     "source": [
      "First and foremost, Jupyter is an interactive environment for writing and running code. We provide features to make this as pleasant as possible."
     ]
    },
    {
     "cell_type": "markdown",
     "metadata": {},
     "source": [
      "Tab completion:"
     ]
    },
    {
     "cell_type": "code",
     "collapsed": false,
     "input": [
      "import math"
     ],
     "language": "python",
     "metadata": {},
     "outputs": [],
     "prompt_number": 2
    },
    {
     "cell_type": "code",
     "collapsed": false,
     "input": [
      "math."
     ],
     "language": "python",
     "metadata": {},
     "outputs": [
      {
       "ename": "SyntaxError",
       "evalue": "invalid syntax (<ipython-input-3-186ff497df9b>, line 1)",
       "output_type": "pyerr",
       "traceback": [
        "\u001b[1;36m  File \u001b[1;32m\"<ipython-input-3-186ff497df9b>\"\u001b[1;36m, line \u001b[1;32m1\u001b[0m\n\u001b[1;33m    math.\u001b[0m\n\u001b[1;37m         ^\u001b[0m\n\u001b[1;31mSyntaxError\u001b[0m\u001b[1;31m:\u001b[0m invalid syntax\n"
       ]
      }
     ],
     "prompt_number": 3
    },
    {
     "cell_type": "markdown",
     "metadata": {},
     "source": [
      "Interactive help:"
     ]
    },
    {
     "cell_type": "code",
     "collapsed": false,
     "input": [
      "math.cos?"
     ],
     "language": "python",
     "metadata": {},
     "outputs": [],
     "prompt_number": 4
    },
    {
     "cell_type": "markdown",
     "metadata": {},
     "source": [
      "Inline plotting:"
     ]
    },
    {
     "cell_type": "code",
     "collapsed": false,
     "input": [
      "%pylab inline"
     ],
     "language": "python",
     "metadata": {},
     "outputs": [
      {
       "output_type": "stream",
       "stream": "stdout",
       "text": [
        "Populating the interactive namespace from numpy and matplotlib\n"
       ]
      }
     ],
     "prompt_number": 5
    },
    {
     "cell_type": "code",
     "collapsed": false,
     "input": [
      "plot(rand(50))"
     ],
     "language": "python",
     "metadata": {},
     "outputs": [
      {
       "metadata": {},
       "output_type": "pyout",
       "prompt_number": 6,
       "text": [
        "[<matplotlib.lines.Line2D at 0xa6775f8>]"
       ]
      },
      {
       "metadata": {},
       "output_type": "display_data",
       "png": "[encoded data removed]",
       "text": [
        "<matplotlib.figure.Figure at 0xa505be0>"
       ]
      }
     ],
     "prompt_number": 6
    },
    {
     "cell_type": "markdown",
     "metadata": {},
     "source": [
      "Seamless access to the system shell:"
     ]
    },
    {
     "cell_type": "code",
     "collapsed": false,
     "input": [
      "%ls -al"
     ],
     "language": "python",
     "metadata": {},
     "outputs": [
      {
       "output_type": "stream",
       "stream": "stdout",
       "text": [
        " Volume in drive C is OS\n",
        " Volume Serial Number is E02E-C1BA\n",
        "\n",
        " Directory of C:\\Users\\kesj\\Documents\\IPython Notebooks\\PyDataStrata2014nyc\\talk-2014-summer-master\n",
        "\n"
       ]
      },
      {
       "output_type": "stream",
       "stream": "stderr",
       "text": [
        "File Not Found\n"
       ]
      }
     ],
     "prompt_number": 8
    },
    {
     "cell_type": "code",
     "collapsed": false,
     "input": [
      "test = %ls -al"
     ],
     "language": "python",
     "metadata": {},
     "outputs": [
      {
       "output_type": "stream",
       "stream": "stdout",
       "text": [
        " Volume in drive C is OS\n",
        " Volume Serial Number is E02E-C1BA\n",
        "\n",
        " Directory of C:\\Users\\kesj\\Documents\\IPython Notebooks\\PyDataStrata2014nyc\\talk-2014-summer-master\n",
        "\n"
       ]
      },
      {
       "output_type": "stream",
       "stream": "stderr",
       "text": [
        "File Not Found\n"
       ]
      }
     ],
     "prompt_number": 9
    },
    {
     "cell_type": "code",
     "collapsed": false,
     "input": [
      "!dir"
     ],
     "language": "python",
     "metadata": {},
     "outputs": [
      {
       "output_type": "stream",
       "stream": "stdout",
       "text": [
        " Volume in drive C is OS\n",
        " Volume Serial Number is E02E-C1BA\n",
        "\n",
        " Directory of C:\\Users\\kesj\\Documents\\IPython Notebooks\\PyDataStrata2014nyc\\talk-2014-summer-master\n",
        "\n",
        "10/16/2014  04:23 PM    <DIR>          .\n",
        "10/16/2014  04:23 PM    <DIR>          ..\n",
        "10/16/2014  12:08 PM               564 .gitignore\n",
        "10/16/2014  04:25 PM    <DIR>          .ipynb_checkpoints\n",
        "10/16/2014  12:08 PM           378,726 Components.ipynb\n",
        "10/16/2014  12:08 PM               705 courses.csv\n",
        "10/16/2014  04:21 PM    <DIR>          data\n",
        "10/16/2014  12:08 PM            12,478 Ferguson.ipynb\n",
        "10/16/2014  12:08 PM             1,676 frontmatter.py\n",
        "10/16/2014  04:21 PM    <DIR>          images\n",
        "10/16/2014  12:08 PM             6,815 Index.ipynb\n",
        "10/16/2014  12:08 PM            10,576 Interaction.ipynb\n",
        "10/16/2014  12:08 PM             1,152 ipythonproject.py\n",
        "10/16/2014  04:21 PM    <DIR>          ipythonteam\n",
        "10/16/2014  12:08 PM             6,772 Jupyter and IPython.ipynb\n",
        "10/16/2014  12:08 PM             1,082 LICENSE\n",
        "10/16/2014  12:08 PM               606 load_style.py\n",
        "10/16/2014  12:08 PM             1,327 lorenz.py\n",
        "10/16/2014  12:08 PM           126,633 Multilanguage.ipynb\n",
        "10/16/2014  04:25 PM            36,837 Notebook Tour.ipynb\n",
        "10/16/2014  12:08 PM           114,694 Notebook Usage.ipynb\n",
        "10/16/2014  12:08 PM               778 README.md\n",
        "10/16/2014  12:08 PM               972 talk.css\n",
        "10/16/2014  12:08 PM             1,090 talktools.py\n",
        "10/16/2014  04:23 PM             1,554 talktools.pyc\n",
        "10/16/2014  12:08 PM                13 testing.md\n",
        "10/16/2014  12:08 PM             5,744 Tools for Open Science.ipynb\n",
        "10/16/2014  12:08 PM           401,459 Visualization.ipynb\n",
        "              22 File(s)      1,112,253 bytes\n",
        "               6 Dir(s)  32,910,254,080 bytes free\n"
       ]
      }
     ],
     "prompt_number": 11
    },
    {
     "cell_type": "heading",
     "level": 2,
     "metadata": {
      "slideshow": {
       "slide_type": "slide"
      }
     },
     "source": [
      "Narrative text and equations"
     ]
    },
    {
     "cell_type": "code",
     "collapsed": false,
     "input": [
      "test = !dir\n",
      "print test"
     ],
     "language": "python",
     "metadata": {},
     "outputs": [
      {
       "output_type": "stream",
       "stream": "stdout",
       "text": [
        "[' Volume in drive C is OS', ' Volume Serial Number is E02E-C1BA', '', ' Directory of C:\\\\Users\\\\kesj\\\\Documents\\\\IPython Notebooks\\\\PyDataStrata2014nyc\\\\talk-2014-summer-master', '', '10/16/2014  04:23 PM    <DIR>          .', '10/16/2014  04:23 PM    <DIR>          ..', '10/16/2014  12:08 PM               564 .gitignore', '10/16/2014  04:25 PM    <DIR>          .ipynb_checkpoints', '10/16/2014  12:08 PM           378,726 Components.ipynb', '10/16/2014  12:08 PM               705 courses.csv', '10/16/2014  04:21 PM    <DIR>          data', '10/16/2014  12:08 PM            12,478 Ferguson.ipynb', '10/16/2014  12:08 PM             1,676 frontmatter.py', '10/16/2014  04:21 PM    <DIR>          images', '10/16/2014  12:08 PM             6,815 Index.ipynb', '10/16/2014  12:08 PM            10,576 Interaction.ipynb', '10/16/2014  12:08 PM             1,152 ipythonproject.py', '10/16/2014  04:21 PM    <DIR>          ipythonteam', '10/16/2014  12:08 PM             6,772 Jupyter and IPython.ipynb', '10/16/2014  12:08 PM             1,082 LICENSE', '10/16/2014  12:08 PM               606 load_style.py', '10/16/2014  12:08 PM             1,327 lorenz.py', '10/16/2014  12:08 PM           126,633 Multilanguage.ipynb', '10/16/2014  04:25 PM            36,837 Notebook Tour.ipynb', '10/16/2014  12:08 PM           114,694 Notebook Usage.ipynb', '10/16/2014  12:08 PM               778 README.md', '10/16/2014  12:08 PM               972 talk.css', '10/16/2014  12:08 PM             1,090 talktools.py', '10/16/2014  04:23 PM             1,554 talktools.pyc', '10/16/2014  12:08 PM                13 testing.md', '10/16/2014  12:08 PM             5,744 Tools for Open Science.ipynb', '10/16/2014  12:08 PM           401,459 Visualization.ipynb', '              22 File(s)      1,112,253 bytes', '               6 Dir(s)  32,910,245,888 bytes free']\n"
       ]
      }
     ],
     "prompt_number": 13
    },
    {
     "cell_type": "code",
     "collapsed": false,
     "input": [
      "v = '*.ipynb'\n",
      "!dir {v}"
     ],
     "language": "python",
     "metadata": {},
     "outputs": [
      {
       "output_type": "stream",
       "stream": "stdout",
       "text": [
        " Volume in drive C is OS\n",
        " Volume Serial Number is E02E-C1BA\n",
        "\n",
        " Directory of C:\\Users\\kesj\\Documents\\IPython Notebooks\\PyDataStrata2014nyc\\talk-2014-summer-master\n",
        "\n",
        "10/16/2014  12:08 PM           378,726 Components.ipynb\n",
        "10/16/2014  12:08 PM            12,478 Ferguson.ipynb\n",
        "10/16/2014  12:08 PM             6,815 Index.ipynb\n",
        "10/16/2014  12:08 PM            10,576 Interaction.ipynb\n",
        "10/16/2014  12:08 PM             6,772 Jupyter and IPython.ipynb\n",
        "10/16/2014  12:08 PM           126,633 Multilanguage.ipynb\n",
        "10/16/2014  04:25 PM            36,837 Notebook Tour.ipynb\n",
        "10/16/2014  12:08 PM           114,694 Notebook Usage.ipynb\n",
        "10/16/2014  12:08 PM             5,744 Tools for Open Science.ipynb\n",
        "10/16/2014  12:08 PM           401,459 Visualization.ipynb\n",
        "              10 File(s)      1,100,734 bytes\n",
        "               0 Dir(s)  32,910,188,544 bytes free\n"
       ]
      }
     ],
     "prompt_number": 14
    },
    {
     "cell_type": "code",
     "collapsed": false,
     "input": [],
     "language": "python",
     "metadata": {},
     "outputs": []
    },
    {
     "cell_type": "code",
     "collapsed": false,
     "input": [],
     "language": "python",
     "metadata": {},
     "outputs": []
    },
    {
     "cell_type": "code",
     "collapsed": false,
     "input": [],
     "language": "python",
     "metadata": {},
     "outputs": []
    },
    {
     "cell_type": "code",
     "collapsed": false,
     "input": [],
     "language": "python",
     "metadata": {},
     "outputs": []
    },
    {
     "cell_type": "code",
     "collapsed": false,
     "input": [],
     "language": "python",
     "metadata": {},
     "outputs": []
    },
    {
     "cell_type": "code",
     "collapsed": false,
     "input": [],
     "language": "python",
     "metadata": {},
     "outputs": []
    },
    {
     "cell_type": "markdown",
     "metadata": {},
     "source": [
      "In addition to code cells, the Notebook offers Markdown cells, which enable the user to create narrative text with embedded LaTeX equations. Here is a cell that includes Maxwell's equations:\n",
      "\n",
      "\\begin{aligned}\n",
      "\\nabla \\times \\vec{\\mathbf{B}} -\\, \\frac1c\\, \\frac{\\partial\\vec{\\mathbf{E}}}{\\partial t} & = \\frac{4\\pi}{c}\\vec{\\mathbf{j}} \\\\   \\nabla \\cdot \\vec{\\mathbf{E}} & = 4 \\pi \\rho \\\\\n",
      "\\nabla \\times \\vec{\\mathbf{E}}\\, +\\, \\frac1c\\, \\frac{\\partial\\vec{\\mathbf{B}}}{\\partial t} & = \\vec{\\mathbf{0}} \\\\\n",
      "\\nabla \\cdot \\vec{\\mathbf{B}} & = 0 \\end{aligned}"
     ]
    },
    {
     "cell_type": "markdown",
     "metadata": {},
     "source": [
      "Markdown cells enable users to create complex narratives that tell stories using code and data.\n",
      "\n",
      "We are calling this **literate computing** as it is similar to Knuth's [literate programming](http://en.wikipedia.org/wiki/Literate_programming), but involves *live* code and data."
     ]
    },
    {
     "cell_type": "heading",
     "level": 2,
     "metadata": {
      "slideshow": {
       "slide_type": "slide"
      }
     },
     "source": [
      "Rich output"
     ]
    },
    {
     "cell_type": "markdown",
     "metadata": {},
     "source": [
      "Programming langauges, including Python, allow the writing of textual output to `stdout` and `stderr`. Python extends this idea slightly by allowing any Python object to declare its textual representation using special `__str__` and `__repr__` methods. When you `print` a Python object, these methods are automatically called:"
     ]
    },
    {
     "cell_type": "code",
     "collapsed": false,
     "input": [
      "import numpy as np"
     ],
     "language": "python",
     "metadata": {},
     "outputs": []
    },
    {
     "cell_type": "code",
     "collapsed": false,
     "input": [
      "a = np.random.rand(10)\n",
      "print a"
     ],
     "language": "python",
     "metadata": {},
     "outputs": []
    },
    {
     "cell_type": "markdown",
     "metadata": {},
     "source": [
      "Jupyter and IPython extend this idea and allows objects to declare **rich output representations**:\n",
      "\n",
      "* JavaScript\n",
      "* HTML\n",
      "* LaTeX\n",
      "* PDF\n",
      "* PNG/JPEG\n",
      "* SVG\n",
      "\n",
      "In IPython, the `display` function is like `print` for these rich representations:"
     ]
    },
    {
     "cell_type": "code",
     "collapsed": false,
     "input": [
      "from IPython.display import display"
     ],
     "language": "python",
     "metadata": {},
     "outputs": []
    },
    {
     "cell_type": "heading",
     "level": 3,
     "metadata": {
      "slideshow": {
       "slide_type": "slide"
      }
     },
     "source": [
      "Images"
     ]
    },
    {
     "cell_type": "markdown",
     "metadata": {},
     "source": [
      "The `Image` object has a JPEG/PNG representation that is rendered by the Notebook:"
     ]
    },
    {
     "cell_type": "code",
     "collapsed": false,
     "input": [
      "from IPython.display import Image"
     ],
     "language": "python",
     "metadata": {},
     "outputs": []
    },
    {
     "cell_type": "code",
     "collapsed": false,
     "input": [
      "i = Image(\"images/jupyter_logo.png\")"
     ],
     "language": "python",
     "metadata": {},
     "outputs": []
    },
    {
     "cell_type": "markdown",
     "metadata": {},
     "source": [
      "This representation is displayed if the object is returned from an expression:"
     ]
    },
    {
     "cell_type": "code",
     "collapsed": false,
     "input": [
      "i"
     ],
     "language": "python",
     "metadata": {},
     "outputs": []
    },
    {
     "cell_type": "markdown",
     "metadata": {},
     "source": [
      "Or you can manually display the object using `display`:"
     ]
    },
    {
     "cell_type": "code",
     "collapsed": false,
     "input": [
      "display(i)"
     ],
     "language": "python",
     "metadata": {},
     "outputs": []
    },
    {
     "cell_type": "heading",
     "level": 3,
     "metadata": {
      "slideshow": {
       "slide_type": "slide"
      }
     },
     "source": [
      "HTML"
     ]
    },
    {
     "cell_type": "markdown",
     "metadata": {},
     "source": [
      "The `HTML` object has an HTML representation:"
     ]
    },
    {
     "cell_type": "code",
     "collapsed": false,
     "input": [
      "from IPython.display import HTML"
     ],
     "language": "python",
     "metadata": {},
     "outputs": []
    },
    {
     "cell_type": "code",
     "collapsed": false,
     "input": [
      "s = \"\"\"<table>\n",
      "<tr>\n",
      "<th>Header 1</th>\n",
      "<th>Header 2</th>\n",
      "</tr>\n",
      "<tr>\n",
      "<td>row 1, cell 1</td>\n",
      "<td>row 1, cell 2</td>\n",
      "</tr>\n",
      "<tr>\n",
      "<td>row 2, cell 1</td>\n",
      "<td>row 2, cell 2</td>\n",
      "</tr>\n",
      "</table>\"\"\""
     ],
     "language": "python",
     "metadata": {},
     "outputs": []
    },
    {
     "cell_type": "code",
     "collapsed": false,
     "input": [
      "h = HTML(s)"
     ],
     "language": "python",
     "metadata": {},
     "outputs": []
    },
    {
     "cell_type": "code",
     "collapsed": false,
     "input": [
      "display(h)"
     ],
     "language": "python",
     "metadata": {},
     "outputs": []
    },
    {
     "cell_type": "heading",
     "level": 3,
     "metadata": {
      "slideshow": {
       "slide_type": "slide"
      }
     },
     "source": [
      "JavaScript"
     ]
    },
    {
     "cell_type": "markdown",
     "metadata": {},
     "source": [
      "The `Javascript` object has a \"representation\" that runs JavaScript code in the context of the Notebook."
     ]
    },
    {
     "cell_type": "code",
     "collapsed": false,
     "input": [
      "from IPython.display import Javascript"
     ],
     "language": "python",
     "metadata": {},
     "outputs": []
    },
    {
     "cell_type": "code",
     "collapsed": false,
     "input": [
      "display(Javascript(\"alert('hi');\"))"
     ],
     "language": "python",
     "metadata": {},
     "outputs": []
    },
    {
     "cell_type": "heading",
     "level": 3,
     "metadata": {
      "slideshow": {
       "slide_type": "slide"
      }
     },
     "source": [
      "LaTeX"
     ]
    },
    {
     "cell_type": "markdown",
     "metadata": {},
     "source": [
      "This display architecture also understands objects that have a LaTeX representation. This is best illustrated by [SymPy](http://sympy.org/en/index.html), which is a symbolic mathematics package for Python."
     ]
    },
    {
     "cell_type": "code",
     "collapsed": false,
     "input": [
      "from __future__ import division\n",
      "from sympy import *\n",
      "x, y, z = symbols(\"x y z\")\n",
      "init_printing(use_latex='mathjax')"
     ],
     "language": "python",
     "metadata": {},
     "outputs": []
    },
    {
     "cell_type": "markdown",
     "metadata": {},
     "source": [
      "When a symbolic expression is passed to `display` or returned from an expression, the LaTeX representation is computed and displayed in the Notebook:"
     ]
    },
    {
     "cell_type": "code",
     "collapsed": false,
     "input": [
      "Rational(3,2)*pi + exp(I*x) / (x**2 + y)"
     ],
     "language": "python",
     "metadata": {},
     "outputs": []
    },
    {
     "cell_type": "code",
     "collapsed": false,
     "input": [
      "(1/cos(x)).series(x, 0, 6)"
     ],
     "language": "python",
     "metadata": {},
     "outputs": []
    },
    {
     "cell_type": "heading",
     "level": 2,
     "metadata": {},
     "source": [
      "nbconvert"
     ]
    },
    {
     "cell_type": "markdown",
     "metadata": {},
     "source": [
      "`nbconvert` is a command line tool and Python package that can convert notebook documents to and from a wide range of formats:\n",
      "\n",
      "* PDF\n",
      "* Static HTML\n",
      "* Markdown\n",
      "* [reveal.js](http://lab.hakim.se/reveal-js/#/) slide shows\n",
      "\n",
      "Convert this very notebook to static HTML:"
     ]
    },
    {
     "cell_type": "code",
     "collapsed": false,
     "input": [
      "!ipython nbconvert --to html \"Notebook Tour.ipynb\""
     ],
     "language": "python",
     "metadata": {},
     "outputs": []
    },
    {
     "cell_type": "heading",
     "level": 2,
     "metadata": {},
     "source": [
      "nbviewer"
     ]
    },
    {
     "cell_type": "markdown",
     "metadata": {},
     "source": [
      "**nbviewer** is a website for sharing Jupyter Notebooks on the web. It uses `nbconvert` to create a static HTML rendering of any notebook on the internet. This makes it easy to share notebooks with anyone in the world, without their having to install, or even know anything about, Jupyter or IPython."
     ]
    },
    {
     "cell_type": "code",
     "collapsed": false,
     "input": [
      "website('https://nbviewer.jupyter.org')"
     ],
     "language": "python",
     "metadata": {},
     "outputs": []
    },
    {
     "cell_type": "code",
     "collapsed": false,
     "input": [],
     "language": "python",
     "metadata": {},
     "outputs": []
    }
   ],
   "metadata": {}
  }
 ]
}