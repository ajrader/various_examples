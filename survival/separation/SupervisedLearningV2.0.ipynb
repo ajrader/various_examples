{
 "cells": [
  {
   "cell_type": "markdown",
   "metadata": {},
   "source": [
    "## Supervised Learning for HR Separations\n",
    "Februrary 5, 2016\n",
    "1. Load the dataset processed in initialEDA v0.8 (after2001_v8.csv)\n",
    "    * use bear\n",
    "    * define the source repo: '/home/kesj/lib/repo/'\n",
    "2. Define the correct working directories\n",
    "'/data/discovery/hrsepara/core/' for HDFS\n",
    "'/data/discovery/hrsepara/staging/eda' and '/home/kesj/working/hrsepara/eda/' for HDFS and LFS on phd"
   ]
  },
  {
   "cell_type": "code",
   "execution_count": 2,
   "metadata": {
    "collapsed": true
   },
   "outputs": [],
   "source": [
    "coredir = '/data/discovery/hrsepara/core/'\n",
    "stgdir1 = '/data/discovery/hrsepara/staging/eda'\n",
    "stgdir1local = '/home/kesj/work/hrsepara/eda'\n",
    "repodir = '/home/kesj/lib/repo/'"
   ]
  },
  {
   "cell_type": "code",
   "execution_count": 3,
   "metadata": {
    "collapsed": false
   },
   "outputs": [
    {
     "name": "stderr",
     "output_type": "stream",
     "text": [
      "/opt/anaconda/2.3.0/lib/python2.7/site-packages/matplotlib/font_manager.py:273: UserWarning: Matplotlib is building the font cache using fc-list. This may take a moment.\n",
      "  warnings.warn('Matplotlib is building the font cache using fc-list. This may take a moment.')\n",
      "/opt/anaconda/2.3.0/lib/python2.7/site-packages/matplotlib/__init__.py:872: UserWarning: axes.color_cycle is deprecated and replaced with axes.prop_cycle; please use the latter.\n",
      "  warnings.warn(self.msg_depr % (key, alt_key))\n"
     ]
    }
   ],
   "source": [
    "### load the basic files\n",
    "import os,subprocess,sys\n",
    "import pandas as pd\n",
    "import numpy as np\n",
    "%matplotlib inline\n",
    "from datetime import datetime\n",
    "import matplotlib.pyplot as plt\n",
    "from itertools import chain\n",
    "import random\n",
    "import seaborn as sns\n",
    "from glob import glob\n"
   ]
  },
  {
   "cell_type": "code",
   "execution_count": 4,
   "metadata": {
    "collapsed": false
   },
   "outputs": [
    {
     "name": "stderr",
     "output_type": "stream",
     "text": [
      "/opt/anaconda/2.3.0/lib/python2.7/site-packages/sklearn/lda.py:4: DeprecationWarning: lda.LDA has been moved to discriminant_analysis.LinearDiscriminantAnalysis in 0.17 and will be removed in 0.19\n",
      "  \"in 0.17 and will be removed in 0.19\", DeprecationWarning)\n",
      "/opt/anaconda/2.3.0/lib/python2.7/site-packages/sklearn/qda.py:4: DeprecationWarning: qda.QDA has been moved to discriminant_analysis.QuadraticDiscriminantAnalysis in 0.17 and will be removed in 0.19.\n",
      "  \"in 0.17 and will be removed in 0.19.\", DeprecationWarning)\n"
     ]
    }
   ],
   "source": [
    "os.chdir(repodir)\n",
    "import bear.bear as br\n",
    "os.chdir(stgdir1local)"
   ]
  },
  {
   "cell_type": "code",
   "execution_count": 5,
   "metadata": {
    "collapsed": false
   },
   "outputs": [
    {
     "name": "stdout",
     "output_type": "stream",
     "text": [
      "(134189, 126)\n"
     ]
    }
   ],
   "source": [
    "datafile = 'after2001_v8.csv'\n",
    "empl1 = pd.read_csv(datafile,dtype={'KEY':np.str,'EEO1CODE':np.str})\n",
    "\n",
    "\n",
    "print empl1.shape"
   ]
  },
  {
   "cell_type": "code",
   "execution_count": 6,
   "metadata": {
    "collapsed": false
   },
   "outputs": [
    {
     "data": {
      "text/plain": [
       "0   1949-09-27\n",
       "1   1993-09-05\n",
       "2   1988-02-24\n",
       "3   1950-02-14\n",
       "4   1991-04-12\n",
       "Name: birth_tstmp, dtype: datetime64[ns]"
      ]
     },
     "execution_count": 6,
     "metadata": {},
     "output_type": "execute_result"
    }
   ],
   "source": [
    "## create timestamps for columns that are timestamps\n",
    "empl1[['hire_tstmp','term_tstmp','birth_tstmp']] = empl1[['HIRE_DT','TERMINATION_DT','BIRTHDATE']].apply(lambda x:pd.to_datetime(x))\n",
    "empl1.birth_tstmp.head()\n"
   ]
  },
  {
   "cell_type": "code",
   "execution_count": 7,
   "metadata": {
    "collapsed": false
   },
   "outputs": [
    {
     "data": {
      "text/plain": [
       "35"
      ]
     },
     "execution_count": 7,
     "metadata": {},
     "output_type": "execute_result"
    }
   ],
   "source": [
    "cat_cols = br.get_categorical(empl1)\n",
    "len(cat_cols)"
   ]
  },
  {
   "cell_type": "markdown",
   "metadata": {},
   "source": [
    "## Process the categorical columns\n",
    "1. binary <--> use scikitlearn to label encode binary features: \n",
    "    * N--> 0, Y --> 1\n",
    "    * M--> 1, F --> 0\n",
    "    * A-->0, H--> 1\n",
    "2. special case for FLSA_STATUS which has arity=3\n",
    "3. .."
   ]
  },
  {
   "cell_type": "code",
   "execution_count": 8,
   "metadata": {
    "collapsed": false
   },
   "outputs": [
    {
     "data": {
      "text/html": [
       "<div>\n",
       "<table border=\"1\" class=\"dataframe\">\n",
       "  <thead>\n",
       "    <tr style=\"text-align: right;\">\n",
       "      <th></th>\n",
       "      <th>feature</th>\n",
       "      <th>datatype</th>\n",
       "      <th>nmissing</th>\n",
       "      <th>arity</th>\n",
       "      <th>accepted values</th>\n",
       "      <th>x_missing</th>\n",
       "    </tr>\n",
       "  </thead>\n",
       "  <tbody>\n",
       "    <tr>\n",
       "      <th>15</th>\n",
       "      <td>INTERN</td>\n",
       "      <td>object</td>\n",
       "      <td>0</td>\n",
       "      <td>2</td>\n",
       "      <td>[N, Y]</td>\n",
       "      <td>0</td>\n",
       "    </tr>\n",
       "    <tr>\n",
       "      <th>28</th>\n",
       "      <td>REMOTE_SUPV</td>\n",
       "      <td>object</td>\n",
       "      <td>0</td>\n",
       "      <td>2</td>\n",
       "      <td>[N, Y]</td>\n",
       "      <td>0</td>\n",
       "    </tr>\n",
       "    <tr>\n",
       "      <th>27</th>\n",
       "      <td>REMOTE</td>\n",
       "      <td>object</td>\n",
       "      <td>0</td>\n",
       "      <td>2</td>\n",
       "      <td>[N, Y]</td>\n",
       "      <td>0</td>\n",
       "    </tr>\n",
       "    <tr>\n",
       "      <th>26</th>\n",
       "      <td>RELOCATE_ALL_SFI</td>\n",
       "      <td>object</td>\n",
       "      <td>0</td>\n",
       "      <td>2</td>\n",
       "      <td>[N, Y]</td>\n",
       "      <td>0</td>\n",
       "    </tr>\n",
       "    <tr>\n",
       "      <th>25</th>\n",
       "      <td>PARTFULL5</td>\n",
       "      <td>object</td>\n",
       "      <td>0</td>\n",
       "      <td>2</td>\n",
       "      <td>[N, Y]</td>\n",
       "      <td>0</td>\n",
       "    </tr>\n",
       "    <tr>\n",
       "      <th>24</th>\n",
       "      <td>PARTFULL3</td>\n",
       "      <td>object</td>\n",
       "      <td>0</td>\n",
       "      <td>2</td>\n",
       "      <td>[N, Y]</td>\n",
       "      <td>0</td>\n",
       "    </tr>\n",
       "    <tr>\n",
       "      <th>23</th>\n",
       "      <td>PARTFULL10</td>\n",
       "      <td>object</td>\n",
       "      <td>0</td>\n",
       "      <td>2</td>\n",
       "      <td>[N, Y]</td>\n",
       "      <td>0</td>\n",
       "    </tr>\n",
       "    <tr>\n",
       "      <th>22</th>\n",
       "      <td>PARTFULL1</td>\n",
       "      <td>object</td>\n",
       "      <td>0</td>\n",
       "      <td>2</td>\n",
       "      <td>[N, Y]</td>\n",
       "      <td>0</td>\n",
       "    </tr>\n",
       "    <tr>\n",
       "      <th>14</th>\n",
       "      <td>HUBIND</td>\n",
       "      <td>object</td>\n",
       "      <td>0</td>\n",
       "      <td>2</td>\n",
       "      <td>[N, Y]</td>\n",
       "      <td>0</td>\n",
       "    </tr>\n",
       "    <tr>\n",
       "      <th>10</th>\n",
       "      <td>FULLPART5</td>\n",
       "      <td>object</td>\n",
       "      <td>0</td>\n",
       "      <td>2</td>\n",
       "      <td>[N, Y]</td>\n",
       "      <td>0</td>\n",
       "    </tr>\n",
       "    <tr>\n",
       "      <th>30</th>\n",
       "      <td>SEX</td>\n",
       "      <td>object</td>\n",
       "      <td>0</td>\n",
       "      <td>2</td>\n",
       "      <td>[F, M]</td>\n",
       "      <td>0</td>\n",
       "    </tr>\n",
       "    <tr>\n",
       "      <th>32</th>\n",
       "      <td>SUPV_DIFF_LOC</td>\n",
       "      <td>object</td>\n",
       "      <td>0</td>\n",
       "      <td>2</td>\n",
       "      <td>[Y, N]</td>\n",
       "      <td>0</td>\n",
       "    </tr>\n",
       "    <tr>\n",
       "      <th>2</th>\n",
       "      <td>COMP_FREQUENCY</td>\n",
       "      <td>object</td>\n",
       "      <td>0</td>\n",
       "      <td>2</td>\n",
       "      <td>[A, H]</td>\n",
       "      <td>0</td>\n",
       "    </tr>\n",
       "    <tr>\n",
       "      <th>8</th>\n",
       "      <td>FULLPART10</td>\n",
       "      <td>object</td>\n",
       "      <td>0</td>\n",
       "      <td>2</td>\n",
       "      <td>[N, Y]</td>\n",
       "      <td>0</td>\n",
       "    </tr>\n",
       "    <tr>\n",
       "      <th>9</th>\n",
       "      <td>FULLPART3</td>\n",
       "      <td>object</td>\n",
       "      <td>0</td>\n",
       "      <td>2</td>\n",
       "      <td>[N, Y]</td>\n",
       "      <td>0</td>\n",
       "    </tr>\n",
       "    <tr>\n",
       "      <th>7</th>\n",
       "      <td>FULLPART1</td>\n",
       "      <td>object</td>\n",
       "      <td>0</td>\n",
       "      <td>2</td>\n",
       "      <td>[N, Y]</td>\n",
       "      <td>0</td>\n",
       "    </tr>\n",
       "    <tr>\n",
       "      <th>6</th>\n",
       "      <td>FLSA_STATUS</td>\n",
       "      <td>object</td>\n",
       "      <td>0</td>\n",
       "      <td>3</td>\n",
       "      <td>[Z, N, X]</td>\n",
       "      <td>0</td>\n",
       "    </tr>\n",
       "    <tr>\n",
       "      <th>11</th>\n",
       "      <td>FULL_PART_TIME</td>\n",
       "      <td>object</td>\n",
       "      <td>0</td>\n",
       "      <td>4</td>\n",
       "      <td>[F, P, X, N]</td>\n",
       "      <td>0</td>\n",
       "    </tr>\n",
       "    <tr>\n",
       "      <th>5</th>\n",
       "      <td>EMPL_TYPE</td>\n",
       "      <td>object</td>\n",
       "      <td>0</td>\n",
       "      <td>4</td>\n",
       "      <td>[S, H, E, N]</td>\n",
       "      <td>0</td>\n",
       "    </tr>\n",
       "    <tr>\n",
       "      <th>31</th>\n",
       "      <td>SHIFT</td>\n",
       "      <td>object</td>\n",
       "      <td>0</td>\n",
       "      <td>4</td>\n",
       "      <td>[1, 3, N, 2]</td>\n",
       "      <td>0</td>\n",
       "    </tr>\n",
       "    <tr>\n",
       "      <th>4</th>\n",
       "      <td>EMPL_CLASS</td>\n",
       "      <td>object</td>\n",
       "      <td>0</td>\n",
       "      <td>5</td>\n",
       "      <td>[1, D, 3, G, 5]</td>\n",
       "      <td>0</td>\n",
       "    </tr>\n",
       "    <tr>\n",
       "      <th>3</th>\n",
       "      <td>EEO1CODE</td>\n",
       "      <td>object</td>\n",
       "      <td>0</td>\n",
       "      <td>10</td>\n",
       "      <td>[2, 5, 1, 4, 3, 7, 6, N, L, 8]</td>\n",
       "      <td>0</td>\n",
       "    </tr>\n",
       "    <tr>\n",
       "      <th>17</th>\n",
       "      <td>JOB_FUNCTION</td>\n",
       "      <td>object</td>\n",
       "      <td>0</td>\n",
       "      <td>19</td>\n",
       "      <td>[PTE, PSA, PTB, MGT, PSC, PTD, PSB, PTC, PTA, ...</td>\n",
       "      <td>0</td>\n",
       "    </tr>\n",
       "    <tr>\n",
       "      <th>21</th>\n",
       "      <td>LOC_TYPE_DESCR_SFI</td>\n",
       "      <td>object</td>\n",
       "      <td>0</td>\n",
       "      <td>31</td>\n",
       "      <td>Too many to show</td>\n",
       "      <td>0</td>\n",
       "    </tr>\n",
       "    <tr>\n",
       "      <th>20</th>\n",
       "      <td>LOC_STATE</td>\n",
       "      <td>object</td>\n",
       "      <td>0</td>\n",
       "      <td>52</td>\n",
       "      <td>Too many to show</td>\n",
       "      <td>0</td>\n",
       "    </tr>\n",
       "    <tr>\n",
       "      <th>12</th>\n",
       "      <td>GRADE</td>\n",
       "      <td>object</td>\n",
       "      <td>0</td>\n",
       "      <td>123</td>\n",
       "      <td>Too many to show</td>\n",
       "      <td>0</td>\n",
       "    </tr>\n",
       "    <tr>\n",
       "      <th>16</th>\n",
       "      <td>JOB_FAMILY</td>\n",
       "      <td>object</td>\n",
       "      <td>0</td>\n",
       "      <td>1448</td>\n",
       "      <td>Too many to show</td>\n",
       "      <td>0</td>\n",
       "    </tr>\n",
       "    <tr>\n",
       "      <th>33</th>\n",
       "      <td>TERMINATION_DT</td>\n",
       "      <td>object</td>\n",
       "      <td>0</td>\n",
       "      <td>4353</td>\n",
       "      <td>Too many to show</td>\n",
       "      <td>0</td>\n",
       "    </tr>\n",
       "    <tr>\n",
       "      <th>19</th>\n",
       "      <td>LAST_HIRE_DT</td>\n",
       "      <td>object</td>\n",
       "      <td>0</td>\n",
       "      <td>8396</td>\n",
       "      <td>Too many to show</td>\n",
       "      <td>0</td>\n",
       "    </tr>\n",
       "    <tr>\n",
       "      <th>13</th>\n",
       "      <td>HIRE_DT</td>\n",
       "      <td>object</td>\n",
       "      <td>0</td>\n",
       "      <td>8858</td>\n",
       "      <td>Too many to show</td>\n",
       "      <td>0</td>\n",
       "    </tr>\n",
       "    <tr>\n",
       "      <th>29</th>\n",
       "      <td>SERVICE_DT</td>\n",
       "      <td>object</td>\n",
       "      <td>0</td>\n",
       "      <td>13628</td>\n",
       "      <td>Too many to show</td>\n",
       "      <td>0</td>\n",
       "    </tr>\n",
       "    <tr>\n",
       "      <th>34</th>\n",
       "      <td>Tenure_tdelta</td>\n",
       "      <td>object</td>\n",
       "      <td>0</td>\n",
       "      <td>14664</td>\n",
       "      <td>Too many to show</td>\n",
       "      <td>0</td>\n",
       "    </tr>\n",
       "    <tr>\n",
       "      <th>0</th>\n",
       "      <td>Age_tdelta</td>\n",
       "      <td>object</td>\n",
       "      <td>0</td>\n",
       "      <td>18185</td>\n",
       "      <td>Too many to show</td>\n",
       "      <td>0</td>\n",
       "    </tr>\n",
       "    <tr>\n",
       "      <th>1</th>\n",
       "      <td>BIRTHDATE</td>\n",
       "      <td>object</td>\n",
       "      <td>0</td>\n",
       "      <td>20133</td>\n",
       "      <td>Too many to show</td>\n",
       "      <td>0</td>\n",
       "    </tr>\n",
       "    <tr>\n",
       "      <th>18</th>\n",
       "      <td>KEY</td>\n",
       "      <td>object</td>\n",
       "      <td>0</td>\n",
       "      <td>134189</td>\n",
       "      <td>Too many to show</td>\n",
       "      <td>0</td>\n",
       "    </tr>\n",
       "  </tbody>\n",
       "</table>\n",
       "</div>"
      ],
      "text/plain": [
       "               feature datatype  nmissing   arity  \\\n",
       "15              INTERN   object         0       2   \n",
       "28         REMOTE_SUPV   object         0       2   \n",
       "27              REMOTE   object         0       2   \n",
       "26    RELOCATE_ALL_SFI   object         0       2   \n",
       "25           PARTFULL5   object         0       2   \n",
       "24           PARTFULL3   object         0       2   \n",
       "23          PARTFULL10   object         0       2   \n",
       "22           PARTFULL1   object         0       2   \n",
       "14              HUBIND   object         0       2   \n",
       "10           FULLPART5   object         0       2   \n",
       "30                 SEX   object         0       2   \n",
       "32       SUPV_DIFF_LOC   object         0       2   \n",
       "2       COMP_FREQUENCY   object         0       2   \n",
       "8           FULLPART10   object         0       2   \n",
       "9            FULLPART3   object         0       2   \n",
       "7            FULLPART1   object         0       2   \n",
       "6          FLSA_STATUS   object         0       3   \n",
       "11      FULL_PART_TIME   object         0       4   \n",
       "5            EMPL_TYPE   object         0       4   \n",
       "31               SHIFT   object         0       4   \n",
       "4           EMPL_CLASS   object         0       5   \n",
       "3             EEO1CODE   object         0      10   \n",
       "17        JOB_FUNCTION   object         0      19   \n",
       "21  LOC_TYPE_DESCR_SFI   object         0      31   \n",
       "20           LOC_STATE   object         0      52   \n",
       "12               GRADE   object         0     123   \n",
       "16          JOB_FAMILY   object         0    1448   \n",
       "33      TERMINATION_DT   object         0    4353   \n",
       "19        LAST_HIRE_DT   object         0    8396   \n",
       "13             HIRE_DT   object         0    8858   \n",
       "29          SERVICE_DT   object         0   13628   \n",
       "34       Tenure_tdelta   object         0   14664   \n",
       "0           Age_tdelta   object         0   18185   \n",
       "1            BIRTHDATE   object         0   20133   \n",
       "18                 KEY   object         0  134189   \n",
       "\n",
       "                                      accepted values  x_missing  \n",
       "15                                             [N, Y]          0  \n",
       "28                                             [N, Y]          0  \n",
       "27                                             [N, Y]          0  \n",
       "26                                             [N, Y]          0  \n",
       "25                                             [N, Y]          0  \n",
       "24                                             [N, Y]          0  \n",
       "23                                             [N, Y]          0  \n",
       "22                                             [N, Y]          0  \n",
       "14                                             [N, Y]          0  \n",
       "10                                             [N, Y]          0  \n",
       "30                                             [F, M]          0  \n",
       "32                                             [Y, N]          0  \n",
       "2                                              [A, H]          0  \n",
       "8                                              [N, Y]          0  \n",
       "9                                              [N, Y]          0  \n",
       "7                                              [N, Y]          0  \n",
       "6                                           [Z, N, X]          0  \n",
       "11                                       [F, P, X, N]          0  \n",
       "5                                        [S, H, E, N]          0  \n",
       "31                                       [1, 3, N, 2]          0  \n",
       "4                                     [1, D, 3, G, 5]          0  \n",
       "3                      [2, 5, 1, 4, 3, 7, 6, N, L, 8]          0  \n",
       "17  [PTE, PSA, PTB, MGT, PSC, PTD, PSB, PTC, PTA, ...          0  \n",
       "21                                   Too many to show          0  \n",
       "20                                   Too many to show          0  \n",
       "12                                   Too many to show          0  \n",
       "16                                   Too many to show          0  \n",
       "33                                   Too many to show          0  \n",
       "19                                   Too many to show          0  \n",
       "13                                   Too many to show          0  \n",
       "29                                   Too many to show          0  \n",
       "34                                   Too many to show          0  \n",
       "0                                    Too many to show          0  \n",
       "1                                    Too many to show          0  \n",
       "18                                   Too many to show          0  "
      ]
     },
     "execution_count": 8,
     "metadata": {},
     "output_type": "execute_result"
    }
   ],
   "source": [
    "sdf_cat = br.summarize_dataframe(empl1[cat_cols])\n",
    "sdf_cat.sort_values(by='arity')"
   ]
  },
  {
   "cell_type": "code",
   "execution_count": 9,
   "metadata": {
    "collapsed": false
   },
   "outputs": [
    {
     "name": "stdout",
     "output_type": "stream",
     "text": [
      "16\n",
      "COMP_FREQUENCY 2 ['A' 'H']\n",
      "FULLPART1 2 ['N' 'Y']\n",
      "FULLPART10 2 ['N' 'Y']\n",
      "FULLPART3 2 ['N' 'Y']\n",
      "FULLPART5 2 ['N' 'Y']\n",
      "HUBIND 2 ['N' 'Y']\n",
      "INTERN 2 ['N' 'Y']\n",
      "PARTFULL1 2 ['N' 'Y']\n",
      "PARTFULL10 2 ['N' 'Y']\n",
      "PARTFULL3 2 ['N' 'Y']\n",
      "PARTFULL5 2 ['N' 'Y']\n",
      "RELOCATE_ALL_SFI 2 ['N' 'Y']\n",
      "REMOTE 2 ['N' 'Y']\n",
      "REMOTE_SUPV 2 ['N' 'Y']\n",
      "SEX 2 ['F' 'M']\n",
      "SUPV_DIFF_LOC 2 ['Y' 'N']\n"
     ]
    }
   ],
   "source": [
    "from sklearn.preprocessing import LabelEncoder\n",
    "binary_cols = sdf_cat[sdf_cat.arity == 2].feature.values.tolist()\n",
    "print len(binary_cols)\n",
    "label_encoder = LabelEncoder()\n",
    "for col in binary_cols:\n",
    "    print col, len(empl1[col].unique()), empl1[col].unique()\n",
    "    empl1[col] = label_encoder.fit_transform(empl1[col]) # use sklearn.preprocesing.LabelEncoder()\n",
    "    "
   ]
  },
  {
   "cell_type": "markdown",
   "metadata": {},
   "source": [
    "###2. Use this mapping for FLSA N --> 0 , X -->-1 , Z -->1"
   ]
  },
  {
   "cell_type": "code",
   "execution_count": 10,
   "metadata": {
    "collapsed": false
   },
   "outputs": [
    {
     "data": {
      "text/plain": [
       " 0    99460\n",
       " 1    32789\n",
       "-1     1940\n",
       "Name: FLSA_STATUS, dtype: int64"
      ]
     },
     "execution_count": 10,
     "metadata": {},
     "output_type": "execute_result"
    }
   ],
   "source": [
    "empl1['FLSA_STATUS'] = empl1['FLSA_STATUS'].replace({'N':0,'Z':1,'X':-1}).copy()\n",
    "empl1['FLSA_STATUS'].value_counts()"
   ]
  },
  {
   "cell_type": "markdown",
   "metadata": {},
   "source": [
    "#### Fix EEO1code: fixed on load now"
   ]
  },
  {
   "cell_type": "code",
   "execution_count": 11,
   "metadata": {
    "collapsed": false
   },
   "outputs": [
    {
     "data": {
      "text/plain": [
       "array(['2', '5', '1', '4', '3', '7', '6', 'N', 'L', '8'], dtype=object)"
      ]
     },
     "execution_count": 11,
     "metadata": {},
     "output_type": "execute_result"
    }
   ],
   "source": [
    "empl1.EEO1CODE.unique()"
   ]
  },
  {
   "cell_type": "code",
   "execution_count": 12,
   "metadata": {
    "collapsed": false
   },
   "outputs": [],
   "source": [
    "#empl1.EEO1CODE = empl1.EEO1CODE.apply(lambda x: np.str(x))"
   ]
  },
  {
   "cell_type": "code",
   "execution_count": 13,
   "metadata": {
    "collapsed": false
   },
   "outputs": [
    {
     "data": {
      "text/plain": [
       "18"
      ]
     },
     "execution_count": 13,
     "metadata": {},
     "output_type": "execute_result"
    }
   ],
   "source": [
    "cat_cols2 = br.get_categorical(empl1)\n",
    "len(cat_cols2)"
   ]
  },
  {
   "cell_type": "code",
   "execution_count": 14,
   "metadata": {
    "collapsed": false
   },
   "outputs": [
    {
     "data": {
      "text/html": [
       "<div>\n",
       "<table border=\"1\" class=\"dataframe\">\n",
       "  <thead>\n",
       "    <tr style=\"text-align: right;\">\n",
       "      <th></th>\n",
       "      <th>feature</th>\n",
       "      <th>datatype</th>\n",
       "      <th>nmissing</th>\n",
       "      <th>arity</th>\n",
       "      <th>accepted values</th>\n",
       "      <th>x_missing</th>\n",
       "    </tr>\n",
       "  </thead>\n",
       "  <tbody>\n",
       "    <tr>\n",
       "      <th>15</th>\n",
       "      <td>SHIFT</td>\n",
       "      <td>object</td>\n",
       "      <td>0</td>\n",
       "      <td>4</td>\n",
       "      <td>[1, 3, N, 2]</td>\n",
       "      <td>0</td>\n",
       "    </tr>\n",
       "    <tr>\n",
       "      <th>4</th>\n",
       "      <td>EMPL_TYPE</td>\n",
       "      <td>object</td>\n",
       "      <td>0</td>\n",
       "      <td>4</td>\n",
       "      <td>[S, H, E, N]</td>\n",
       "      <td>0</td>\n",
       "    </tr>\n",
       "    <tr>\n",
       "      <th>5</th>\n",
       "      <td>FULL_PART_TIME</td>\n",
       "      <td>object</td>\n",
       "      <td>0</td>\n",
       "      <td>4</td>\n",
       "      <td>[F, P, X, N]</td>\n",
       "      <td>0</td>\n",
       "    </tr>\n",
       "    <tr>\n",
       "      <th>3</th>\n",
       "      <td>EMPL_CLASS</td>\n",
       "      <td>object</td>\n",
       "      <td>0</td>\n",
       "      <td>5</td>\n",
       "      <td>[1, D, 3, G, 5]</td>\n",
       "      <td>0</td>\n",
       "    </tr>\n",
       "    <tr>\n",
       "      <th>2</th>\n",
       "      <td>EEO1CODE</td>\n",
       "      <td>object</td>\n",
       "      <td>0</td>\n",
       "      <td>10</td>\n",
       "      <td>[2, 5, 1, 4, 3, 7, 6, N, L, 8]</td>\n",
       "      <td>0</td>\n",
       "    </tr>\n",
       "    <tr>\n",
       "      <th>9</th>\n",
       "      <td>JOB_FUNCTION</td>\n",
       "      <td>object</td>\n",
       "      <td>0</td>\n",
       "      <td>19</td>\n",
       "      <td>[PTE, PSA, PTB, MGT, PSC, PTD, PSB, PTC, PTA, ...</td>\n",
       "      <td>0</td>\n",
       "    </tr>\n",
       "    <tr>\n",
       "      <th>13</th>\n",
       "      <td>LOC_TYPE_DESCR_SFI</td>\n",
       "      <td>object</td>\n",
       "      <td>0</td>\n",
       "      <td>31</td>\n",
       "      <td>Too many to show</td>\n",
       "      <td>0</td>\n",
       "    </tr>\n",
       "    <tr>\n",
       "      <th>12</th>\n",
       "      <td>LOC_STATE</td>\n",
       "      <td>object</td>\n",
       "      <td>0</td>\n",
       "      <td>52</td>\n",
       "      <td>Too many to show</td>\n",
       "      <td>0</td>\n",
       "    </tr>\n",
       "    <tr>\n",
       "      <th>6</th>\n",
       "      <td>GRADE</td>\n",
       "      <td>object</td>\n",
       "      <td>0</td>\n",
       "      <td>123</td>\n",
       "      <td>Too many to show</td>\n",
       "      <td>0</td>\n",
       "    </tr>\n",
       "    <tr>\n",
       "      <th>8</th>\n",
       "      <td>JOB_FAMILY</td>\n",
       "      <td>object</td>\n",
       "      <td>0</td>\n",
       "      <td>1448</td>\n",
       "      <td>Too many to show</td>\n",
       "      <td>0</td>\n",
       "    </tr>\n",
       "    <tr>\n",
       "      <th>16</th>\n",
       "      <td>TERMINATION_DT</td>\n",
       "      <td>object</td>\n",
       "      <td>0</td>\n",
       "      <td>4353</td>\n",
       "      <td>Too many to show</td>\n",
       "      <td>0</td>\n",
       "    </tr>\n",
       "    <tr>\n",
       "      <th>11</th>\n",
       "      <td>LAST_HIRE_DT</td>\n",
       "      <td>object</td>\n",
       "      <td>0</td>\n",
       "      <td>8396</td>\n",
       "      <td>Too many to show</td>\n",
       "      <td>0</td>\n",
       "    </tr>\n",
       "    <tr>\n",
       "      <th>7</th>\n",
       "      <td>HIRE_DT</td>\n",
       "      <td>object</td>\n",
       "      <td>0</td>\n",
       "      <td>8858</td>\n",
       "      <td>Too many to show</td>\n",
       "      <td>0</td>\n",
       "    </tr>\n",
       "    <tr>\n",
       "      <th>14</th>\n",
       "      <td>SERVICE_DT</td>\n",
       "      <td>object</td>\n",
       "      <td>0</td>\n",
       "      <td>13628</td>\n",
       "      <td>Too many to show</td>\n",
       "      <td>0</td>\n",
       "    </tr>\n",
       "    <tr>\n",
       "      <th>17</th>\n",
       "      <td>Tenure_tdelta</td>\n",
       "      <td>object</td>\n",
       "      <td>0</td>\n",
       "      <td>14664</td>\n",
       "      <td>Too many to show</td>\n",
       "      <td>0</td>\n",
       "    </tr>\n",
       "    <tr>\n",
       "      <th>0</th>\n",
       "      <td>Age_tdelta</td>\n",
       "      <td>object</td>\n",
       "      <td>0</td>\n",
       "      <td>18185</td>\n",
       "      <td>Too many to show</td>\n",
       "      <td>0</td>\n",
       "    </tr>\n",
       "    <tr>\n",
       "      <th>1</th>\n",
       "      <td>BIRTHDATE</td>\n",
       "      <td>object</td>\n",
       "      <td>0</td>\n",
       "      <td>20133</td>\n",
       "      <td>Too many to show</td>\n",
       "      <td>0</td>\n",
       "    </tr>\n",
       "    <tr>\n",
       "      <th>10</th>\n",
       "      <td>KEY</td>\n",
       "      <td>object</td>\n",
       "      <td>0</td>\n",
       "      <td>134189</td>\n",
       "      <td>Too many to show</td>\n",
       "      <td>0</td>\n",
       "    </tr>\n",
       "  </tbody>\n",
       "</table>\n",
       "</div>"
      ],
      "text/plain": [
       "               feature datatype  nmissing   arity  \\\n",
       "15               SHIFT   object         0       4   \n",
       "4            EMPL_TYPE   object         0       4   \n",
       "5       FULL_PART_TIME   object         0       4   \n",
       "3           EMPL_CLASS   object         0       5   \n",
       "2             EEO1CODE   object         0      10   \n",
       "9         JOB_FUNCTION   object         0      19   \n",
       "13  LOC_TYPE_DESCR_SFI   object         0      31   \n",
       "12           LOC_STATE   object         0      52   \n",
       "6                GRADE   object         0     123   \n",
       "8           JOB_FAMILY   object         0    1448   \n",
       "16      TERMINATION_DT   object         0    4353   \n",
       "11        LAST_HIRE_DT   object         0    8396   \n",
       "7              HIRE_DT   object         0    8858   \n",
       "14          SERVICE_DT   object         0   13628   \n",
       "17       Tenure_tdelta   object         0   14664   \n",
       "0           Age_tdelta   object         0   18185   \n",
       "1            BIRTHDATE   object         0   20133   \n",
       "10                 KEY   object         0  134189   \n",
       "\n",
       "                                      accepted values  x_missing  \n",
       "15                                       [1, 3, N, 2]          0  \n",
       "4                                        [S, H, E, N]          0  \n",
       "5                                        [F, P, X, N]          0  \n",
       "3                                     [1, D, 3, G, 5]          0  \n",
       "2                      [2, 5, 1, 4, 3, 7, 6, N, L, 8]          0  \n",
       "9   [PTE, PSA, PTB, MGT, PSC, PTD, PSB, PTC, PTA, ...          0  \n",
       "13                                   Too many to show          0  \n",
       "12                                   Too many to show          0  \n",
       "6                                    Too many to show          0  \n",
       "8                                    Too many to show          0  \n",
       "16                                   Too many to show          0  \n",
       "11                                   Too many to show          0  \n",
       "7                                    Too many to show          0  \n",
       "14                                   Too many to show          0  \n",
       "17                                   Too many to show          0  \n",
       "0                                    Too many to show          0  \n",
       "1                                    Too many to show          0  \n",
       "10                                   Too many to show          0  "
      ]
     },
     "execution_count": 14,
     "metadata": {},
     "output_type": "execute_result"
    }
   ],
   "source": [
    "sdf_cat = br.summarize_dataframe(empl1[cat_cols2])\n",
    "sdf_cat.sort_values(by='arity')"
   ]
  },
  {
   "cell_type": "markdown",
   "metadata": {},
   "source": [
    "#### explore the distribution for arity between 19 and 55"
   ]
  },
  {
   "cell_type": "code",
   "execution_count": 15,
   "metadata": {
    "collapsed": false
   },
   "outputs": [
    {
     "data": {
      "text/plain": [
       "PSA    52239\n",
       "PTB    24745\n",
       "PTA    15322\n",
       "MGT    11109\n",
       "NSA     5741\n",
       "PTC     5268\n",
       "PTE     5237\n",
       "XXX     4515\n",
       "PSB     4169\n",
       "PSC     3114\n",
       "PTD      965\n",
       "PTI      955\n",
       "PTF      280\n",
       "PTG      188\n",
       "PTL      167\n",
       "PTH      124\n",
       "PTK       28\n",
       "PTJ       21\n",
       "PTM        2\n",
       "Name: JOB_FUNCTION, dtype: int64"
      ]
     },
     "execution_count": 15,
     "metadata": {},
     "output_type": "execute_result"
    }
   ],
   "source": [
    "empl1.JOB_FUNCTION.value_counts()"
   ]
  },
  {
   "cell_type": "code",
   "execution_count": 16,
   "metadata": {
    "collapsed": false
   },
   "outputs": [
    {
     "data": {
      "text/plain": [
       "OPERATIONS CENTER                 86292\n",
       "CORPORATE HEADQUARTERS            18816\n",
       "TELEWORKER - MOBILE               10412\n",
       "CLAIM SERVICE CENTER(CSC)          5652\n",
       "AGENCY FIELD OFFICE(AFO)           3436\n",
       "CLAIM LITIGATION COUNSEL(CLC)      3055\n",
       "MULT-USE FACILITY                  1887\n",
       "INSURANCE SUPPORT CENTER(ISC)      1340\n",
       "ADMINISTRATIVE BUILDING             902\n",
       "REGIONAL OFFICE                     662\n",
       "TELECOMMUTER (HOME RESIDENCE)       481\n",
       "MULT-REGIONAL SERVICE FACILITY      326\n",
       "TELECOMMUTER - EMP INITATED         282\n",
       "TELECOMMUTERS(HOME RESIDENCE)       218\n",
       "VACANT FACILITY                     176\n",
       "WAREHOUSE                            52\n",
       "MARKET AFO                           37\n",
       "ESTIMATING STATION                   33\n",
       "MARKETING CENTER                     26\n",
       "REGIONAL AUDIT CONSULTANT(RAC)       20\n",
       "CUSTOMER SRVC DIV/MKT CENTER         20\n",
       "SPECIAL INVESTIGATIVE UNIT-SIU       15\n",
       "CATASTROPHE OFFICE                    9\n",
       "AGENT OFFICE                          9\n",
       "TELEWORKER-REMOTE                     8\n",
       "EMERGENCY SERVICE PROGRAM(ESP)        8\n",
       "TELECOMMUTER - COMP INITATED          7\n",
       "NON-STATE FARM TENANT                 3\n",
       "TELECOMMUTER-SPACE CONSTRAINTS        2\n",
       "UNKNOWN LOCATION TYPE                 2\n",
       "MISSING                               1\n",
       "Name: LOC_TYPE_DESCR_SFI, dtype: int64"
      ]
     },
     "execution_count": 16,
     "metadata": {},
     "output_type": "execute_result"
    }
   ],
   "source": [
    "empl1.LOC_TYPE_DESCR_SFI.value_counts()"
   ]
  },
  {
   "cell_type": "markdown",
   "metadata": {},
   "source": [
    "### let me create a dictionary for this (LOC_TYPE_DESCR_SFI)"
   ]
  },
  {
   "cell_type": "code",
   "execution_count": 17,
   "metadata": {
    "collapsed": false
   },
   "outputs": [
    {
     "name": "stdout",
     "output_type": "stream",
     "text": [
      "31 21\n"
     ]
    }
   ],
   "source": [
    "loc_descriptions = empl1.LOC_TYPE_DESCR_SFI.unique().tolist()\n",
    "short_loc_descript = {}\n",
    "for loc_name in loc_descriptions:\n",
    "    if loc_name.endswith(')'):\n",
    "        short_name = loc_name[-4:-1]\n",
    "        if short_name == 'NCE':\n",
    "            short_loc_descript[loc_name]='TELE'\n",
    "        else:\n",
    "            short_loc_descript[loc_name]=short_name\n",
    "    elif loc_name.startswith('TELE'):\n",
    "        short_loc_descript[loc_name]='TELE'\n",
    "    elif loc_name.endswith('SIU'):\n",
    "        short_loc_descript[loc_name]='SIU'\n",
    "    elif loc_name.startswith('OPERATIONS'):\n",
    "        short_loc_descript[loc_name]='OC'\n",
    "    elif loc_name.startswith('CORP'):\n",
    "        short_loc_descript[loc_name]='CORP'\n",
    "    elif loc_name.endswith('CENTER'):\n",
    "        short_loc_descript[loc_name]='MC' # marketing center\n",
    "    elif loc_name.endswith('AFO'):\n",
    "        short_loc_descript[loc_name]='AFO'\n",
    "    elif loc_name.endswith('OFFICE'):\n",
    "        if loc_name.startswith('AGENT'):\n",
    "            short_loc_descript[loc_name]='AO' # agent office\n",
    "        elif loc_name.startswith('REGION'):\n",
    "            short_loc_descript[loc_name]='RO' # regional office\n",
    "        elif loc_name.startswith('CATA'):\n",
    "            short_loc_descript[loc_name]='CAT' # catastrophe office\n",
    "    elif loc_name.startswith('EST'):\n",
    "        short_loc_descript[loc_name]='EST' # estimating station\n",
    "    elif loc_name.startswith('ADM'):\n",
    "        short_loc_descript[loc_name]='ADM' # estimating station\n",
    "    elif loc_name.startswith('WARE'):\n",
    "        short_loc_descript[loc_name]='WARE' # estimating station\n",
    "    elif loc_name.startswith('VAC'):\n",
    "        short_loc_descript[loc_name]='VAC' # estimating station\n",
    "    elif loc_name.startswith('MULT-USE'):\n",
    "        short_loc_descript[loc_name]='MF' # estimating station\n",
    "    elif loc_name.startswith('MULT-REG'):\n",
    "        short_loc_descript[loc_name]='MRSF' # estimating station\n",
    "    else: \n",
    "        short_loc_descript[loc_name]='UNK'\n",
    "\n",
    "print len(short_loc_descript.keys()), len(set(short_loc_descript.values()))"
   ]
  },
  {
   "cell_type": "code",
   "execution_count": 18,
   "metadata": {
    "collapsed": true
   },
   "outputs": [],
   "source": [
    "empl1['loc_desc']=empl1['LOC_TYPE_DESCR_SFI'].apply(lambda x: short_loc_descript[x])"
   ]
  },
  {
   "cell_type": "code",
   "execution_count": 19,
   "metadata": {
    "collapsed": false
   },
   "outputs": [
    {
     "data": {
      "text/plain": [
       "['EMPL_TYPE',\n",
       " 'FULL_PART_TIME',\n",
       " 'SHIFT',\n",
       " 'EMPL_CLASS',\n",
       " 'EEO1CODE',\n",
       " 'JOB_FUNCTION',\n",
       " 'loc_desc']"
      ]
     },
     "execution_count": 19,
     "metadata": {},
     "output_type": "execute_result"
    }
   ],
   "source": [
    "max_arity = 33\n",
    "cat_cols_to_dummy = sdf_cat[sdf_cat.arity < max_arity].sort_values(by='arity').feature.tolist()\n",
    "cat_cols_to_dummy.remove('LOC_TYPE_DESCR_SFI')\n",
    "cat_cols_to_dummy.append('loc_desc')\n",
    "cat_cols_to_dummy"
   ]
  },
  {
   "cell_type": "code",
   "execution_count": 20,
   "metadata": {
    "collapsed": true
   },
   "outputs": [],
   "source": [
    "#cat_cols_to_dummy.remove('loc_desc')"
   ]
  },
  {
   "cell_type": "code",
   "execution_count": 21,
   "metadata": {
    "collapsed": false
   },
   "outputs": [
    {
     "data": {
      "text/plain": [
       "10"
      ]
     },
     "execution_count": 21,
     "metadata": {},
     "output_type": "execute_result"
    }
   ],
   "source": [
    "cat_cols_to_ignore = ['KEY','BIRTHDATE','SERVICE_DT','HIRE_DT','TERMINATION_DT','LAST_HIRE_DT']\n",
    "cat_cols_to_drop = ['Tenure_tdelta','Age_tdelta', 'LOC_TYPE_DESCR_SFI']\n",
    "cat_cols3 = list(set(cat_cols2) - set(cat_cols_to_drop)-set(cat_cols_to_ignore))\n",
    "cat_cols3.append('loc_desc')\n",
    "len(cat_cols3)"
   ]
  },
  {
   "cell_type": "code",
   "execution_count": 22,
   "metadata": {
    "collapsed": false
   },
   "outputs": [
    {
     "data": {
      "text/plain": [
       "['EEO1CODE',\n",
       " 'EMPL_TYPE',\n",
       " 'FULL_PART_TIME',\n",
       " 'EMPL_CLASS',\n",
       " 'GRADE',\n",
       " 'SHIFT',\n",
       " 'LOC_STATE',\n",
       " 'JOB_FUNCTION',\n",
       " 'JOB_FAMILY',\n",
       " 'loc_desc']"
      ]
     },
     "execution_count": 22,
     "metadata": {},
     "output_type": "execute_result"
    }
   ],
   "source": [
    "cat_cols3"
   ]
  },
  {
   "cell_type": "code",
   "execution_count": 23,
   "metadata": {
    "collapsed": false
   },
   "outputs": [
    {
     "data": {
      "text/plain": [
       "Index([u'ADM', u'AFO', u'AO', u'CAT', u'CLC', u'CORP', u'CSC', u'ESP', u'EST',\n",
       "       u'ISC', u'MC', u'MF', u'MRSF', u'OC', u'RAC', u'RO', u'SIU', u'TELE',\n",
       "       u'UNK', u'VAC', u'WARE'],\n",
       "      dtype='object')"
      ]
     },
     "execution_count": 23,
     "metadata": {},
     "output_type": "execute_result"
    }
   ],
   "source": [
    "#cat_cols3.remove('loc_desc')\n",
    "pd.get_dummies(empl1['loc_desc']).columns"
   ]
  },
  {
   "cell_type": "code",
   "execution_count": 24,
   "metadata": {
    "collapsed": false
   },
   "outputs": [
    {
     "data": {
      "text/plain": [
       "(134189, 127)"
      ]
     },
     "execution_count": 24,
     "metadata": {},
     "output_type": "execute_result"
    }
   ],
   "source": [
    "empl1.shape"
   ]
  },
  {
   "cell_type": "markdown",
   "metadata": {},
   "source": [
    "# Utilize Pipelines\n",
    "* restrict the columns that I want to consider\n",
    "* apply logic to:\n",
    "    1. parse the categorical cols\n",
    "    2. fill in missing values (MERIT1, PERF1)\n",
    "    3. deal with numeric outliers\n",
    "    "
   ]
  },
  {
   "cell_type": "code",
   "execution_count": 25,
   "metadata": {
    "collapsed": true
   },
   "outputs": [],
   "source": [
    "from sklearn.pipeline import Pipeline,FeatureUnion\n",
    "from sklearn import ensemble,metrics,cross_validation"
   ]
  },
  {
   "cell_type": "code",
   "execution_count": 26,
   "metadata": {
    "collapsed": true
   },
   "outputs": [],
   "source": [
    "potential_target_cols = ['status','sep_status','retired','terminated']"
   ]
  },
  {
   "cell_type": "code",
   "execution_count": 27,
   "metadata": {
    "collapsed": false
   },
   "outputs": [
    {
     "data": {
      "text/plain": [
       "['MERIT1', 'PERF1']"
      ]
     },
     "execution_count": 27,
     "metadata": {},
     "output_type": "execute_result"
    }
   ],
   "source": [
    "missing_cols = br.get_columns_with_nulls(empl1)\n",
    "missing_cols"
   ]
  },
  {
   "cell_type": "markdown",
   "metadata": {},
   "source": [
    "### 3.  Look at these numerical ones\n",
    "* replace missing with mode?\n",
    "* fix outliers in the pipe"
   ]
  },
  {
   "cell_type": "code",
   "execution_count": 28,
   "metadata": {
    "collapsed": false
   },
   "outputs": [
    {
     "data": {
      "text/plain": [
       "<matplotlib.axes._subplots.AxesSubplot at 0x7fb80fd1d510>"
      ]
     },
     "execution_count": 28,
     "metadata": {},
     "output_type": "execute_result"
    },
    {
     "data": {
      "image/png": "[encoded data removed]",
      "text/plain": [
       "<matplotlib.figure.Figure at 0x7fb81f936710>"
      ]
     },
     "metadata": {},
     "output_type": "display_data"
    }
   ],
   "source": [
    "sns.distplot(empl1[empl1.MERIT1.notnull()].MERIT1)"
   ]
  },
  {
   "cell_type": "code",
   "execution_count": 29,
   "metadata": {
    "collapsed": false
   },
   "outputs": [
    {
     "data": {
      "text/plain": [
       "<matplotlib.axes._subplots.AxesSubplot at 0x7fb81a7446d0>"
      ]
     },
     "execution_count": 29,
     "metadata": {},
     "output_type": "execute_result"
    },
    {
     "data": {
      "image/png": "[encoded data removed]",
      "text/plain": [
       "<matplotlib.figure.Figure at 0x7fb80fefe250>"
      ]
     },
     "metadata": {},
     "output_type": "display_data"
    }
   ],
   "source": [
    "sns.distplot(empl1[empl1.PERF1.notnull()].PERF1)"
   ]
  },
  {
   "cell_type": "code",
   "execution_count": 30,
   "metadata": {
    "collapsed": false
   },
   "outputs": [
    {
     "data": {
      "text/html": [
       "<div>\n",
       "<table border=\"1\" class=\"dataframe\">\n",
       "  <thead>\n",
       "    <tr style=\"text-align: right;\">\n",
       "      <th></th>\n",
       "      <th>MERIT1</th>\n",
       "      <th>PERF1</th>\n",
       "    </tr>\n",
       "  </thead>\n",
       "  <tbody>\n",
       "    <tr>\n",
       "      <th>count</th>\n",
       "      <td>119146.000000</td>\n",
       "      <td>119146.000000</td>\n",
       "    </tr>\n",
       "    <tr>\n",
       "      <th>mean</th>\n",
       "      <td>1484.156075</td>\n",
       "      <td>1852.501799</td>\n",
       "    </tr>\n",
       "    <tr>\n",
       "      <th>std</th>\n",
       "      <td>1981.576853</td>\n",
       "      <td>1811.616211</td>\n",
       "    </tr>\n",
       "    <tr>\n",
       "      <th>min</th>\n",
       "      <td>-45000.000000</td>\n",
       "      <td>0.000000</td>\n",
       "    </tr>\n",
       "    <tr>\n",
       "      <th>25%</th>\n",
       "      <td>482.752500</td>\n",
       "      <td>471.302500</td>\n",
       "    </tr>\n",
       "    <tr>\n",
       "      <th>50%</th>\n",
       "      <td>1283.330000</td>\n",
       "      <td>1444.500000</td>\n",
       "    </tr>\n",
       "    <tr>\n",
       "      <th>75%</th>\n",
       "      <td>2132.705000</td>\n",
       "      <td>2784.275000</td>\n",
       "    </tr>\n",
       "    <tr>\n",
       "      <th>max</th>\n",
       "      <td>35000.000000</td>\n",
       "      <td>56751.140000</td>\n",
       "    </tr>\n",
       "  </tbody>\n",
       "</table>\n",
       "</div>"
      ],
      "text/plain": [
       "              MERIT1          PERF1\n",
       "count  119146.000000  119146.000000\n",
       "mean     1484.156075    1852.501799\n",
       "std      1981.576853    1811.616211\n",
       "min    -45000.000000       0.000000\n",
       "25%       482.752500     471.302500\n",
       "50%      1283.330000    1444.500000\n",
       "75%      2132.705000    2784.275000\n",
       "max     35000.000000   56751.140000"
      ]
     },
     "execution_count": 30,
     "metadata": {},
     "output_type": "execute_result"
    }
   ],
   "source": [
    "empl1[['MERIT1','PERF1']].describe()"
   ]
  },
  {
   "cell_type": "code",
   "execution_count": 31,
   "metadata": {
    "collapsed": false
   },
   "outputs": [
    {
     "data": {
      "text/plain": [
       "MERIT1    1283.33\n",
       "PERF1     1444.50\n",
       "dtype: float64"
      ]
     },
     "execution_count": 31,
     "metadata": {},
     "output_type": "execute_result"
    }
   ],
   "source": [
    "empl1[['MERIT1','PERF1']].median()"
   ]
  },
  {
   "cell_type": "markdown",
   "metadata": {},
   "source": [
    "### 4. Now deal with the categorical ones\n",
    "* dummy_encode 7;\n",
    "* label_encode 3: GRADE, JOB_FAMILY, LOC_STATE\n"
   ]
  },
  {
   "cell_type": "code",
   "execution_count": 32,
   "metadata": {
    "collapsed": false
   },
   "outputs": [
    {
     "data": {
      "text/plain": [
       "['EMPL_TYPE',\n",
       " 'FULL_PART_TIME',\n",
       " 'SHIFT',\n",
       " 'EMPL_CLASS',\n",
       " 'EEO1CODE',\n",
       " 'JOB_FUNCTION',\n",
       " 'loc_desc']"
      ]
     },
     "execution_count": 32,
     "metadata": {},
     "output_type": "execute_result"
    }
   ],
   "source": [
    "cat_cols_to_dummy"
   ]
  },
  {
   "cell_type": "markdown",
   "metadata": {},
   "source": [
    "### Add a few categorical columns that already have Integer values:\n",
    "* COMPANY\n",
    "* DIVISION_CODE_SFI"
   ]
  },
  {
   "cell_type": "code",
   "execution_count": 33,
   "metadata": {
    "collapsed": false
   },
   "outputs": [
    {
     "data": {
      "text/plain": [
       "[('DIVISION_CODE_SFI', 9),\n",
       " ('EXT_FUNC_ID_SFI', 336),\n",
       " ('FLOR_SFI', 108),\n",
       " ('FUNC_ID_SFI', 53),\n",
       " ('LOC_TYPE_DESCR_SFI', 31),\n",
       " ('RELOCATE_ALL_SFI', 2),\n",
       " ('RELO_STATE_CNT_SFI', 55)]"
      ]
     },
     "execution_count": 33,
     "metadata": {},
     "output_type": "execute_result"
    }
   ],
   "source": [
    "[(a,empl1[a].nunique()) for a in empl1.columns.tolist() if a.endswith('SFI')] # these are technically more categorical"
   ]
  },
  {
   "cell_type": "code",
   "execution_count": 34,
   "metadata": {
    "collapsed": false
   },
   "outputs": [],
   "source": [
    "cat_cols_to_dummy.append('COMPANY')\n",
    "cat_cols_to_dummy.append('DIVISION_CODE_SFI')"
   ]
  },
  {
   "cell_type": "code",
   "execution_count": 35,
   "metadata": {
    "collapsed": true
   },
   "outputs": [],
   "source": [
    "my_label_encode_cols = ['GRADE','JOB_FAMILY','LOC_STATE']"
   ]
  },
  {
   "cell_type": "markdown",
   "metadata": {},
   "source": [
    "### 5. Drop some columns"
   ]
  },
  {
   "cell_type": "code",
   "execution_count": 36,
   "metadata": {
    "collapsed": false
   },
   "outputs": [
    {
     "data": {
      "text/plain": [
       "(118, 127)"
      ]
     },
     "execution_count": 36,
     "metadata": {},
     "output_type": "execute_result"
    }
   ],
   "source": [
    "all_cols = empl1.columns.tolist()\n",
    "model_cols = [c for c in all_cols if not c in cat_cols_to_ignore]\n",
    "model_cols = [c for c in model_cols if not c in cat_cols_to_drop]\n",
    "len(model_cols), len(all_cols)"
   ]
  },
  {
   "cell_type": "code",
   "execution_count": null,
   "metadata": {
    "collapsed": true
   },
   "outputs": [],
   "source": [
    "\n",
    "#cate_list = br.get_categorical(X)\n",
    "# need to break the categorical into types\n",
    "pipe = Pipeline([(\"null\", br.RemoveAllNull()),  \n",
    "                 (\"label_encode\",br.LabelEncodeColumn(my_label_encode_cols)),\n",
    "                 (\"dummy_encode\", br.DummyEncodeColumn(cat_cols_to_dummy)),\n",
    "                 #(\"survival_encode\",SurvivalEncodeColumn(my_label_encode_cols[:5],method='median')),\n",
    "                 #(\"cat\", br.ConvertCategorical(cate_list, rows_to_scan=0.3)),\n",
    "                 (\"fixout_min\",br.FixNumericOutlier(columns_to_fix=['SAL1','MIN_RT_ANNUAL','MERIT1','PERF1'],\n",
    "                                                    criteria_coef=('percentile',2),\n",
    "                                                   method='lower',fill_with='nearest_value')),\n",
    "                  (\"fixout_max\",br.FixNumericOutlier(columns_to_fix=['MAX_RT_ANNUAL'],criteria_coef=('percentile',2),\n",
    "                                                   method='both',fill_with='nearest_value')),\n",
    "                 #(\"fill_missingzero\",FillMissingValue(columns_to_fix=['BOX1','FUNC_CNT','EXTFUNC_CNT','TOTAL_RPT_CNT','DIRECT_RPT_CNT'],fill_value=0)),\n",
    "                 (\"imp_mode\",br.ImputeData(columns_to_impute=missing_cols,rows_to_scan=0.8))])\n",
    "                 #(\"imp_mean\", br.ImputeData(columns_to_impute='auto', rows_to_scan=0.8))])\n",
    "                 #(\"redu\", br.DimensionReduction(rows_to_scan=0.3, n_components=10))])\n",
    "#pipe.fit(X, y).transform(testX)[0:30]\n",
    "#\n",
    "#Xft = pipe.fit_transform(X)"
   ]
  },
  {
   "cell_type": "code",
   "execution_count": null,
   "metadata": {
    "collapsed": true
   },
   "outputs": [],
   "source": [
    "em1 = pipe.fit_transform(empl1[model_cols])"
   ]
  },
  {
   "cell_type": "code",
   "execution_count": null,
   "metadata": {
    "collapsed": false
   },
   "outputs": [],
   "source": [
    "print len(em1.columns)"
   ]
  },
  {
   "cell_type": "code",
   "execution_count": null,
   "metadata": {
    "collapsed": false
   },
   "outputs": [],
   "source": [
    "br.get_columns_with_nulls(em1)"
   ]
  },
  {
   "cell_type": "code",
   "execution_count": null,
   "metadata": {
    "collapsed": false
   },
   "outputs": [],
   "source": [
    "sns.distplot(em1.MERIT1)"
   ]
  },
  {
   "cell_type": "code",
   "execution_count": null,
   "metadata": {
    "collapsed": false
   },
   "outputs": [],
   "source": [
    "for col in em1.columns:\n",
    "    if em1[col].dtype != 'float64' and em1[col].dtype != 'int64':\n",
    "        print col, em1[col].nunique()"
   ]
  },
  {
   "cell_type": "code",
   "execution_count": null,
   "metadata": {
    "collapsed": false
   },
   "outputs": [],
   "source": [
    "mod_cols = [col for col in em1.columns if not col.endswith('tstmp')]\n"
   ]
  },
  {
   "cell_type": "code",
   "execution_count": null,
   "metadata": {
    "collapsed": false
   },
   "outputs": [],
   "source": [
    "em1[['loc_desc_TELE','REMOTE']].corr()"
   ]
  },
  {
   "cell_type": "code",
   "execution_count": null,
   "metadata": {
    "collapsed": false
   },
   "outputs": [],
   "source": [
    "redundant_cols = ['ANNUAL_RT','hire_age','loc_desc_TELE','status','sep_status','PERF1_d']"
   ]
  },
  {
   "cell_type": "code",
   "execution_count": null,
   "metadata": {
    "collapsed": false
   },
   "outputs": [],
   "source": [
    "mod_cols2 = [c for c in mod_cols if not c in redundant_cols]\n",
    "len(mod_cols2)"
   ]
  },
  {
   "cell_type": "code",
   "execution_count": null,
   "metadata": {
    "collapsed": false
   },
   "outputs": [],
   "source": [
    "br.perfect_collinearity_test(em1[mod_cols2])"
   ]
  },
  {
   "cell_type": "markdown",
   "metadata": {},
   "source": [
    "## Explore the difference between RETIRE & SEPARATION"
   ]
  },
  {
   "cell_type": "code",
   "execution_count": null,
   "metadata": {
    "collapsed": false
   },
   "outputs": [],
   "source": [
    "em1[['retired','terminated']].corr()"
   ]
  },
  {
   "cell_type": "code",
   "execution_count": null,
   "metadata": {
    "collapsed": false
   },
   "outputs": [],
   "source": [
    "pd.crosstab(em1['retired'],em1['terminated'])"
   ]
  },
  {
   "cell_type": "code",
   "execution_count": null,
   "metadata": {
    "collapsed": false
   },
   "outputs": [],
   "source": [
    "pd.crosstab(em1['status'],em1['terminated'])"
   ]
  },
  {
   "cell_type": "code",
   "execution_count": null,
   "metadata": {
    "collapsed": false
   },
   "outputs": [],
   "source": [
    "sum(em1['Age_years']>=50.0)"
   ]
  },
  {
   "cell_type": "code",
   "execution_count": null,
   "metadata": {
    "collapsed": true
   },
   "outputs": [],
   "source": [
    "over50 = em1[em1['Age_years']>=50.].copy()"
   ]
  },
  {
   "cell_type": "code",
   "execution_count": null,
   "metadata": {
    "collapsed": false
   },
   "outputs": [],
   "source": [
    "sns.distplot(em1[em1.Age_years<50.]['Tenure_years'],label='under50')\n",
    "sns.distplot(em1[em1.Age_years>=50.]['Tenure_years'],label='over50')\n",
    "plt.legend()"
   ]
  },
  {
   "cell_type": "code",
   "execution_count": null,
   "metadata": {
    "collapsed": false
   },
   "outputs": [],
   "source": [
    "over50.retired.value_counts()"
   ]
  },
  {
   "cell_type": "code",
   "execution_count": null,
   "metadata": {
    "collapsed": false
   },
   "outputs": [],
   "source": [
    "over50.status.value_counts()"
   ]
  },
  {
   "cell_type": "code",
   "execution_count": null,
   "metadata": {
    "collapsed": false
   },
   "outputs": [],
   "source": [
    "over50.terminated.value_counts()"
   ]
  },
  {
   "cell_type": "markdown",
   "metadata": {},
   "source": [
    "## what about removing retired from list of training/test set for my model?"
   ]
  },
  {
   "cell_type": "code",
   "execution_count": null,
   "metadata": {
    "collapsed": false
   },
   "outputs": [],
   "source": [
    "nr_em.status.value_counts(), nr_em.terminated.value_counts()"
   ]
  },
  {
   "cell_type": "code",
   "execution_count": null,
   "metadata": {
    "collapsed": false
   },
   "outputs": [],
   "source": [
    "pd.crosstab(nr_em.status,nr_em.terminated)"
   ]
  },
  {
   "cell_type": "markdown",
   "metadata": {},
   "source": [
    "### create a hold out set"
   ]
  },
  {
   "cell_type": "code",
   "execution_count": null,
   "metadata": {
    "collapsed": false
   },
   "outputs": [],
   "source": [
    "# break into evaluation and build sets\n",
    "print \"Starting with subset of {0} employees.\".format(len(nr_em))\n",
    "eval_fraction = 0.20\n",
    "ne2build, ne2eval = cross_validation.train_test_split(nr_em,test_size=eval_fraction,random_state = 77843)\n",
    "print \"Evaluation set has {0} employees; training set has {1} employees.\".format(len(ne2eval),len(ne2build))"
   ]
  },
  {
   "cell_type": "code",
   "execution_count": null,
   "metadata": {
    "collapsed": false
   },
   "outputs": [],
   "source": [
    "ne2build.status.value_counts()"
   ]
  },
  {
   "cell_type": "code",
   "execution_count": null,
   "metadata": {
    "collapsed": false
   },
   "outputs": [],
   "source": [
    "ne2eval.status.value_counts()"
   ]
  },
  {
   "cell_type": "code",
   "execution_count": null,
   "metadata": {
    "collapsed": false
   },
   "outputs": [],
   "source": [
    "len(mod_cols2)"
   ]
  },
  {
   "cell_type": "code",
   "execution_count": null,
   "metadata": {
    "collapsed": false
   },
   "outputs": [],
   "source": [
    "simple_drop_cols =['retired','terminated']\n",
    "sep_mod_cols = [col for col in mod_cols2 if not col in simple_drop_cols]\n"
   ]
  },
  {
   "cell_type": "code",
   "execution_count": null,
   "metadata": {
    "collapsed": false
   },
   "outputs": [],
   "source": [
    "sep_mod_cols.append('status')\n",
    "len(sep_mod_cols)"
   ]
  },
  {
   "cell_type": "markdown",
   "metadata": {
    "collapsed": true
   },
   "source": [
    "## Look at Tenure distribution (again)"
   ]
  },
  {
   "cell_type": "code",
   "execution_count": null,
   "metadata": {
    "collapsed": false
   },
   "outputs": [],
   "source": [
    "sns.distplot(ne2build.Tenure_years,label='build set')\n",
    "sns.distplot(ne2eval.Tenure_years,label='eval set')\n",
    "plt.legend()"
   ]
  },
  {
   "cell_type": "markdown",
   "metadata": {},
   "source": [
    "### Check that they are statistically similar"
   ]
  },
  {
   "cell_type": "code",
   "execution_count": null,
   "metadata": {
    "collapsed": false
   },
   "outputs": [],
   "source": [
    "from scipy import stats  \n",
    "  \n",
    "z_stat, p_val = stats.ranksums(ne2build.Tenure_years, ne2eval.Tenure_years)  \n",
    "  \n",
    "print \"MWW RankSum P for ne2 build and eval sets Tenure years=\", p_val  \n",
    "print \"MWW RankSum Z-state for ne2 build and eval sets Tenure years=\", z_stat  "
   ]
  },
  {
   "cell_type": "markdown",
   "metadata": {},
   "source": [
    "## Do an overall regressor of Tenure_years \n",
    "* this establishes a benchmark on accuracy\n",
    "* methods:\n",
    "    - RF\n",
    "    - GBM\n",
    "    - linear"
   ]
  },
  {
   "cell_type": "code",
   "execution_count": null,
   "metadata": {
    "collapsed": true
   },
   "outputs": [],
   "source": [
    "\n",
    "\n"
   ]
  },
  {
   "cell_type": "code",
   "execution_count": null,
   "metadata": {
    "collapsed": false
   },
   "outputs": [],
   "source": [
    "### define the columns to use\n",
    "'status' in sep_mod_cols[:-1]\n",
    "regress_cols = [cols for cols in sep_mod_cols if cols != 'Tenure_years']\n",
    "regress_cols.remove('status')\n"
   ]
  },
  {
   "cell_type": "code",
   "execution_count": null,
   "metadata": {
    "collapsed": false
   },
   "outputs": [],
   "source": [
    "%%time\n",
    "# Fit regression model\n",
    "params = {'n_estimators': 300, 'n_jobs': -1, 'oob_score': True}\n",
    "          #'max_depth': 4, 'min_samples_split': 1,\n",
    "          #'learning_rate': 0.01, 'loss': 'ls','n_jobs': -1}\n",
    "fullRFR = ensemble.RandomForestRegressor(**params)\n",
    "\n",
    "fullRFR.fit(ne2build[regress_cols], ne2build.Tenure_years)"
   ]
  },
  {
   "cell_type": "code",
   "execution_count": null,
   "metadata": {
    "collapsed": false
   },
   "outputs": [],
   "source": [
    "## apply to the eval set for MSE\n",
    "\n",
    "rfr_tenure_pred = fullRFR.predict(ne2eval[regress_cols])\n",
    "mse = metrics.mean_squared_error(ne2eval.Tenure_years,rfr_tenure_pred )\n",
    "print(\"MSE: %.4f\" % mse)"
   ]
  },
  {
   "cell_type": "code",
   "execution_count": null,
   "metadata": {
    "collapsed": false
   },
   "outputs": [],
   "source": [
    "plt.scatter(ne2eval.Tenure_years,rfr_tenure_pred,alpha=0.3)\n",
    "plt.xlabel('True Tenure')\n",
    "plt.ylabel('Predicted Tenure')"
   ]
  },
  {
   "cell_type": "code",
   "execution_count": null,
   "metadata": {
    "collapsed": false
   },
   "outputs": [],
   "source": [
    "plt.scatter(ne2eval[ne2eval.status==1].Tenure_years, fullRFR.predict(ne2eval[ne2eval.status==1][regress_cols]),alpha=0.3,color='indianred')\n",
    "plt.xlabel('True Tenure Years')\n",
    "plt.ylabel('Predicted Tenure years')\n",
    "plt.title('For those who separated (evaluation set)')\n",
    "mse = metrics.mean_squared_error(ne2eval[ne2eval.status==1].Tenure_years, fullRFR.predict(ne2eval[ne2eval.status==1][regress_cols] ))\n",
    "print(\"MSE: %.4f\" % mse)"
   ]
  },
  {
   "cell_type": "code",
   "execution_count": null,
   "metadata": {
    "collapsed": true
   },
   "outputs": [],
   "source": [
    "# function to push feature_importances for a set of RF models into a dataframe\n",
    "def create_fi_df(mdl_list,feature_names):\n",
    "    list_feature_importances = []\n",
    "    col_list = []\n",
    "    for i,mdl in enumerate(mdl_list):\n",
    "        list_feature_importances.append(plotFI(mdl,feature_names,show_plot=False))\n",
    "        col_list.append('fold'+str(i)+'_value')\n",
    "        col_list.append('fold'+str(i)+'_std')\n",
    "\n",
    "    fi_df = pd.concat(list_feature_importances,axis=1)\n",
    "    # create column headings\n",
    "    fi_df.columns = col_list\n",
    "    # create the average of the values\n",
    "    value_cols = [x for x in col_list if x.endswith('value')]\n",
    "    \n",
    "    fi_df['avg_val']=fi_df[value_cols].mean(axis=1)\n",
    "    fi_df['avg_variance']=fi_df[value_cols].std(axis=1)\n",
    "#t2_eval_fi_df[['avg_val','avg_std']].sort('avg_val',ascending=False)\n",
    "    return fi_df\n",
    "\n",
    "def plotFI(forest,featureNames=[],show_plot=True):#,autoscale=True,headroom=0.05):\n",
    "    \"\"\"\n",
    "    forest is the model to be graphed.\n",
    "    featureNames is the list of features to be displayed\n",
    "    \n",
    "    \"\"\"\n",
    "    #if autoscale:\n",
    "    #    x_scale = forest.feature_importances_.max()+ headroom\n",
    "    #else:\n",
    "    #    x_scale = 1\n",
    "    \n",
    "    featureImportances=forest.feature_importances_\n",
    "    # sort the importances from biggest to least\n",
    "    indices = np.argsort(featureImportances)[::-1]\n",
    "    estimators = forest.estimators_\n",
    "    # calculate the variance over the forest \n",
    "    \n",
    "    std = np.std([tree.feature_importances_ for tree in estimators],axis=0)\n",
    "    # print summary statement\n",
    "    nfeatures = len(featureImportances)\n",
    "    print(\"Number of Features: %d\" % (nfeatures))\n",
    "    print(\"Number of Trees: %d\" %(len(estimators)))\n",
    "    \n",
    "    #print featureNames\n",
    "    if len(featureNames)==0:\n",
    "        featureNames = map(str,indices)\n",
    "    \n",
    "    fN2 = [featureNames[a] for a in indices]\n",
    "    print(\"Feature ranking:\")\n",
    "\n",
    "    for f in range(len(indices)):\n",
    "        print(\"%d. feature %d=%s (%f)\" % (f + 1, indices[f], featureNames[indices[f]],featureImportances[indices[f]]))\n",
    "\n",
    "    # Plot the feature importances of the forest\n",
    "    # define a cutoff in terms of feature_importance\n",
    "    if nfeatures <= 30:\n",
    "        kfeatures = nfeatures # keep all if smaller than 30\n",
    "    else:\n",
    "        kfeatures = 30\n",
    "        \n",
    "    kindices = indices[:kfeatures]\n",
    "    if show_plot:\n",
    "        plt.title(\"Feature importances\")\n",
    "        plt.barh(range(len(kindices)), featureImportances[kindices],\n",
    "           color=\"steelblue\", xerr=std[kindices], align=\"center\",ecolor='k')#,lw=2)\n",
    "    \n",
    "        plt.yticks(range(len(kindices)),fN2)\n",
    "        #grid(True)\n",
    "    \n",
    "    c1 = 'value'\n",
    "    c2 = 'std'\n",
    "    tdata = np.vstack([featureImportances[indices],std[indices]])\n",
    "    df = pd.DataFrame(data = tdata.T,index=fN2,columns=[c1,c2])\n",
    "    return df"
   ]
  },
  {
   "cell_type": "code",
   "execution_count": null,
   "metadata": {
    "collapsed": false
   },
   "outputs": [],
   "source": [
    "rf_full_regresssion_tenure = plotFI(fullRFR,ne2build[regress_cols].columns.tolist())"
   ]
  },
  {
   "cell_type": "markdown",
   "metadata": {},
   "source": [
    "#### It looks like the time-sensitive fields (i.e. those ending in '10' or MOS are the dominating ones here)"
   ]
  },
  {
   "cell_type": "code",
   "execution_count": null,
   "metadata": {
    "collapsed": false
   },
   "outputs": [],
   "source": [
    "sns.distplot(ne2build['CUR_FUNC_MOS'],label='current_func_mos')\n",
    "sns.distplot(ne2build['CUR_LOC_MOS'],label='current_loc_mos')\n",
    "sns.distplot(ne2build['CUR_GRADE_MOS'],label='current_grade_mos')\n",
    "plt.legend()\n",
    "plt.xlabel('months of service value')"
   ]
  },
  {
   "cell_type": "code",
   "execution_count": null,
   "metadata": {
    "collapsed": false
   },
   "outputs": [],
   "source": [
    "sns.distplot(ne2build['ADDRCNT10'],label='addresscount10')\n",
    "sns.distplot(ne2build['JOBCNT10'],label='jobcount10')\n",
    "sns.distplot(ne2build['ADDRCNT1'],label='addresscount1')\n",
    "sns.distplot(ne2build['JOBCNT1'],label='jobcount1')\n",
    "plt.legend()\n"
   ]
  },
  {
   "cell_type": "code",
   "execution_count": null,
   "metadata": {
    "collapsed": false
   },
   "outputs": [],
   "source": [
    "historical_cols10 = [col for col in all_cols if col.endswith('10')]\n",
    "mos_cols = [col for col in all_cols if col.endswith('MOS')]\n",
    "print historical_cols10\n",
    "\n",
    "print mos_cols"
   ]
  },
  {
   "cell_type": "code",
   "execution_count": null,
   "metadata": {
    "collapsed": false
   },
   "outputs": [],
   "source": [
    "historical_cols5 = [col for col in all_cols if col.endswith('5')]#[:-3]\n",
    "historical_cols3 =[col for col in all_cols if col.endswith('3')]#[:-4]\n",
    "len(historical_cols3), len(historical_cols5),len(historical_cols10), len(mos_cols)"
   ]
  },
  {
   "cell_type": "code",
   "execution_count": null,
   "metadata": {
    "collapsed": false
   },
   "outputs": [],
   "source": [
    "historical_cols = []\n",
    "historical_cols+=historical_cols3\n",
    "historical_cols+=historical_cols5\n",
    "historical_cols+=historical_cols10\n",
    "print len(historical_cols)"
   ]
  },
  {
   "cell_type": "code",
   "execution_count": null,
   "metadata": {
    "collapsed": true
   },
   "outputs": [],
   "source": [
    "regress_cols2 = [col for col in regress_cols if not col in historical_cols]"
   ]
  },
  {
   "cell_type": "code",
   "execution_count": null,
   "metadata": {
    "collapsed": false
   },
   "outputs": [],
   "source": [
    "%%time\n",
    "# Fit regression model\n",
    "params = {'n_estimators': 300, 'n_jobs': -1, 'oob_score': True}\n",
    "          #'max_depth': 4, 'min_samples_split': 1,\n",
    "          #'learning_rate': 0.01, 'loss': 'ls','n_jobs': -1}\n",
    "fullRFR2 = ensemble.RandomForestRegressor(**params)\n",
    "\n",
    "fullRFR2.fit(ne2build[regress_cols2], ne2build.Tenure_years)"
   ]
  },
  {
   "cell_type": "code",
   "execution_count": null,
   "metadata": {
    "collapsed": false
   },
   "outputs": [],
   "source": [
    "## apply to the eval set for MSE\n",
    "\n",
    "rfr2_tenure_pred = fullRFR2.predict(ne2eval[regress_cols2])\n",
    "mse = metrics.mean_squared_error(ne2eval.Tenure_years,rfr2_tenure_pred )\n",
    "print(\"MSE: %.4f\" % mse)\n",
    "\n",
    "plt.scatter(ne2eval.Tenure_years,rfr2_tenure_pred,alpha=0.3)\n",
    "plt.xlabel('True Tenure (years)')\n",
    "plt.ylabel('Predicted Tenure (years)')\n",
    "\n",
    "plt.title('Evaluation set RFR2')"
   ]
  },
  {
   "cell_type": "code",
   "execution_count": null,
   "metadata": {
    "collapsed": false
   },
   "outputs": [],
   "source": [
    "rf2_full_regresssion_tenure = plotFI(fullRFR2,regress_cols2)"
   ]
  },
  {
   "cell_type": "code",
   "execution_count": null,
   "metadata": {
    "collapsed": false
   },
   "outputs": [],
   "source": [
    "for mcol in mos_cols[:-1]:\n",
    "    sns.distplot(ne2build[mcol],label=mcol)\n",
    "plt.legend()"
   ]
  },
  {
   "cell_type": "markdown",
   "metadata": {
    "collapsed": false
   },
   "source": [
    "# Construct the time k-folds\n",
    "### use the novel temporal kfolds\n",
    "1. for the training set split into time-windows \n",
    "2. for the evaluation set reset the index and apply time-windows"
   ]
  },
  {
   "cell_type": "code",
   "execution_count": null,
   "metadata": {
    "collapsed": false
   },
   "outputs": [],
   "source": [
    "# define the date range\n",
    "full_date_range = [str(a)+'-01-01' for a in np.arange(2002,2016)]\n",
    "print len(full_date_range)"
   ]
  },
  {
   "cell_type": "code",
   "execution_count": null,
   "metadata": {
    "collapsed": true
   },
   "outputs": [],
   "source": [
    "tstmp_cols = [col for col in ne2build.columns.tolist() if col.endswith('tstmp')]"
   ]
  },
  {
   "cell_type": "code",
   "execution_count": null,
   "metadata": {
    "collapsed": true
   },
   "outputs": [],
   "source": [
    "import itertools\n",
    "def create_temporal_kfolds(dates_df,date_range,time_delta):\n",
    "    \"\"\"\n",
    "    inputs: date_range\n",
    "            time_delta (in years)\n",
    "            dataframe_dates --> assumes 'hire_tstmp' and 'term_tstmp'\n",
    "    outputs:\n",
    "            kf is a list of list of list: \n",
    "            [indices from original df that are 'in' a fold, indices from original df that are 'out' of a fold]\n",
    "            each row in this corresponds to the temporal-kfold\n",
    "            filtered_pairs is a list of start and end times\n",
    "    \"\"\"\n",
    "    min_date = pd.to_datetime(date_range[0])\n",
    "    max_date = pd.to_datetime(date_range[-1])\n",
    "    my_index = dates_df[(dates_df.term_tstmp>=min_date)].index\n",
    "    # calculate number of kfolds\n",
    "    date_span_years = np.int(np.round((max_date-min_date).days/365.24,0))\n",
    "    nfolds = date_span_years - time_delta\n",
    "    print date_span_years, time_delta, nfolds, len(my_index)\n",
    "    all_pairs = list(itertools.combinations(date_range,2))\n",
    "    # now filter if difference in time  == time_delta\n",
    "    filtered_pairs = []\n",
    "    for i0,i1 in all_pairs:\n",
    "        if int(i1[:4])-int(i0[:4]) == time_delta:\n",
    "            filtered_pairs.append([i0,i1])\n",
    "            #print i0,i1\n",
    "    print len(filtered_pairs)\n",
    "    # now process each of these filtered pairs\n",
    "    kf = []\n",
    "    for j0,j1 in filtered_pairs: # omit the last one because it has no corresponding partner/endtime\n",
    "        start_date = pd.to_datetime(j0)\n",
    "        end_date = pd.to_datetime(j1)\n",
    "        #print j0,j1#,len(k)\n",
    "        \n",
    "        \n",
    "        kfold_idx = dates_df[(dates_df.term_tstmp >= start_date) & (dates_df.hire_tstmp<start_date)].index.tolist()\n",
    "        after_idx = dates_df[(dates_df.hire_tstmp>=end_date)].index.tolist()\n",
    "        before_idx = list(set(my_index)-set(kfold_idx)-set(after_idx))\n",
    "        #temporal_kfold(dates_df[dates_df.term_tstmp>=min_date],start_date,end_date)\n",
    "        #print \"\\t\",len(kfold_idx), len(after_idx),len(before_idx)\n",
    "        \n",
    "        # combined out of fold\n",
    "        not_kfold_idx = list(set(after_idx).union(set(before_idx)))\n",
    "        \n",
    "        print j0,j1,len(kfold_idx),len(not_kfold_idx)\n",
    "        kf.append([kfold_idx,not_kfold_idx])\n",
    "    \n",
    "    return kf,filtered_pairs"
   ]
  },
  {
   "cell_type": "code",
   "execution_count": null,
   "metadata": {
    "collapsed": true
   },
   "outputs": [],
   "source": [
    "def reset_years2(paired_times,indices,dates_df,cols_to_alter = ['Age_years','Tenure_years']):\n",
    "    # calc the Age at beginnning of time period\n",
    "    ## now calculate age at hire\n",
    "    reset_age_tdelta = pd.to_datetime(paired_times[0])-dates_df['birth_tstmp']#)/np.timedelta64(1,'D')\n",
    "    reset_tenure_tdelta = pd.to_datetime(paired_times[0])-dates_df['hire_tstmp']#)/np.timedelta64(1,'D')\n",
    "    # convert to days, months or years\n",
    "    reset_age = reset_age_tdelta/np.timedelta64(1,'Y')\n",
    "    reset_tenure = reset_tenure_tdelta/np.timedelta64(1,'Y')\n",
    "    # look at terminated or not\n",
    "    #empl_df['terminated']= 0\n",
    "    # push these as a data frame so I can merge\n",
    "    adj_times = pd.DataFrame()\n",
    "    adj_times['adj_age']=reset_age\n",
    "    adj_times['adj_tenure']=reset_tenure      \n",
    "    return adj_times\n"
   ]
  },
  {
   "cell_type": "code",
   "execution_count": null,
   "metadata": {
    "collapsed": true
   },
   "outputs": [],
   "source": [
    "def define_target_within_x_years(df,paired_dates,tfold,n_years,target_col):\n",
    "    \"\"\"\n",
    "    inputs:\n",
    "        df -- data frame\n",
    "        paired_dates (2nd output from create_temporal_kfolds)\n",
    "        tfold (1st output from create_temporal_kfolds)\n",
    "        targe_col --> desired target\n",
    "        \n",
    "    plan is to adjust the target, Age and tenure to match time frame of temporal kfold\n",
    "    outputs:\n",
    "    \"\"\"\n",
    "    print len(tfold)#, paired_dates\n",
    "\n",
    "    df_dict = {}\n",
    "    for i,tf in enumerate(tfold):\n",
    "        start_date = paired_dates[i][0]\n",
    "        end_date = paired_dates[i][1]\n",
    "        #print start_date,end_date,n_years\n",
    "        #altered_fold_df = pd.DataFrame(columns=['fold_mbr','adj_age','adj_tenure','adj_term'])\n",
    "        # if in the fold reset the age to start of fold; define new window of termination\n",
    "        in_fold_idx = tfold[i][0] # the index of the in_fold_observations \n",
    "        # note that \"sex\" is just used to create a value that then gets dummied out\n",
    "        cols_to_copy = ['SEX','Age_years','Tenure_years']\n",
    "        cols_to_copy.append(target_col)\n",
    "        \n",
    "        altered_fold_df = df[cols_to_copy].copy()\n",
    "        # adjust these\n",
    "        altered_fold_df.columns=['fold_mbr','adj_age','adj_tenure','adj_tgt']\n",
    "        altered_fold_df.fold_mbr = 0\n",
    "        \n",
    "        #ra,rt = reset_years(paired_dates[i],in_fold_idx,dates_df)\n",
    "        adj_df =reset_years2(paired_dates[i],in_fold_idx,df)\n",
    "        #altered_fold_df.ix[in_fold_idx]['adj_age']=ra\n",
    "        #altered_fold_df.ix[in_fold_idx]['adj_tenure']=rt\n",
    "        altered_fold_df.loc[in_fold_idx,['adj_age','adj_tenure']]=adj_df.ix[in_fold_idx] # assign to the altered values\n",
    "        new_tgt = (df.ix[in_fold_idx]['term_tstmp']<= end_date).as_matrix().astype(np.int)\n",
    "        #(em2mod.ix[kf[0][0]]['term_tstmp']<= fp[0][1]).as_matrix().astype(np.int)\n",
    "        # deal with last time-fold specially\n",
    "        if i == len(tfold)-1:\n",
    "            new_tgt = (df.ix[in_fold_idx]['term_tstmp']< end_date).as_matrix().astype(np.int)\n",
    "        #print \"\\t\", len(new_term),sum(new_term)\n",
    "        altered_fold_df.loc[in_fold_idx,'adj_tgt']=new_tgt\n",
    "        altered_fold_df.loc[in_fold_idx,'fold_mbr']=1\n",
    "        df_dict[i]=altered_fold_df\n",
    "    # now append this to a larger panel\n",
    "    tfold_panel = pd.Panel.from_dict(data =df_dict)\n",
    "    return tfold_panel"
   ]
  },
  {
   "cell_type": "code",
   "execution_count": null,
   "metadata": {
    "collapsed": false
   },
   "outputs": [],
   "source": [
    "def setup_tfolds(df, n_years, cols_to_model, tgt_value='status',\n",
    "                 time_cols=['Age_years','Tenure_years'], tstmp_cols = tstmp_cols, date_range=full_date_range):\n",
    "    \"\"\" Function to create the temporal kfolds\n",
    "    parameters:\n",
    "        df       - a pandas data frame (that has been preprocessed)\n",
    "        n_years  - size of the temporal window (in years)\n",
    "        cols_to_model - list of columns to use in the modeling procedure \n",
    "        tgt_value  - column name to use as the target variable\n",
    "        time_cols  - list of columns that are time senitive and must be adjusted\n",
    "        tstmp_cols - list of columns that contain timestamps for things like hiring, termination and birth\n",
    "        date_range - list comprising the inclusive annual starting dates from beginning to end of range.\n",
    "    output:\n",
    "        tfolds  - a list containing the indices of in and out of fold members for each of the tfolds created\n",
    "        tfold_panel - a pandas Panel (3D data frame) containing the membership in different folds, the adjusted targets,\n",
    "            the adjusted timesenitive data, and the columns to use for modeling.\n",
    "    \"\"\"    \n",
    "    # step 1 create the temporal_folds\n",
    "    if not [a for a in tstmp_cols if a in df.columns] == tstmp_cols:\n",
    "        print \"The list of required timestamp columns do not exist in the input dataframe.\"\n",
    "        print tstmp_cols\n",
    "        exit\n",
    "    tfolds, paired_dates = create_temporal_kfolds(df[tstmp_cols],date_range, n_years) \n",
    "    #defines the time-windows and assigns observations to folds\n",
    "    \n",
    "    # create the time-shifted tfolds and push into a pandas Panel (3D data frame)\n",
    "    tfold_panel=transform_df_to_tfold(df,tfolds,paired_dates,n_years,cols_to_model, tgt_value,tstmp_cols,time_cols)\n",
    "    return tfold_panel, tfolds"
   ]
  },
  {
   "cell_type": "code",
   "execution_count": null,
   "metadata": {
    "collapsed": true
   },
   "outputs": [],
   "source": [
    "def transform_df_to_tfold(df,tfold,paired_dates,n_years,cols_to_keep,target_col,tstmp_cols,time_cols):\n",
    "    \"\"\"\n",
    "    Function to adjust the input data frame so that time_sensitive columns and target column\n",
    "    conform to the bounds of that temporal kfold (tfold). Specifically adjust the target, Age and tenure \n",
    "    to match time frame of temporal kfold\n",
    "    \n",
    "    Parameters:\n",
    "        df -- a pandas data frame\n",
    "        paired_dates (2nd output from create_temporal_kfolds)\n",
    "        tfolds (1st output from create_temporal_kfolds)\n",
    "        target_col --> desired target\n",
    "        cols_to_keep --> the list of columns within df that get expressed in df.\n",
    "        time_cols\n",
    "        \n",
    "    plan is to \n",
    "    outputs:\n",
    "        tfold_panel\n",
    "    \"\"\"\n",
    "    #print len(tfold)#, paired_dates\n",
    "    #print df.columns ,len(df.columns), len(cols_to_keep)\n",
    "    #return\n",
    "    # do some sanity checks\n",
    "    # 1. make sure cols_to_keep, target and tstmp_cols columns are in df.columns\n",
    "    input_column_list = df.columns.tolist()\n",
    "    n_total_columns = len(input_column_list)\n",
    "    #if (n_total_columns != len(cols_to_keep)+len(target_col)+len(tstmp_cols)):\n",
    "        # now look at each piece\n",
    "    targetlist = []\n",
    "    targetlist.append(target_col)\n",
    "    if not check_if_subset(targetlist,input_column_list):\n",
    "            #target_col in df.columns:\n",
    "            #print \"{0} target column not present in input set\".format(target_col)\n",
    "        return\n",
    "    if not check_if_subset(tstmp_cols,input_column_list):\n",
    "        return\n",
    "            #[a for a in tstmp_cols if a in input_column_list] == tstmp_cols: # requires\n",
    "            #print \"There are missing timestamp columns. Recheck the list {0}\".format(tstmp_cols)\n",
    "    #        return\n",
    "    if not check_if_subset(time_cols,input_column_list):\n",
    "            #[a for a in time_cols if a in input_column_list] == time_cols: # requires\n",
    "            #print \"There are missing timestamp columns. Recheck the list {0}\".format(tstmp_cols)\n",
    "        return    \n",
    "    if not check_if_subset(cols_to_keep,input_column_list):\n",
    "        return\n",
    "    \n",
    "    ## now set up the columns for manipulation\n",
    "    cols_to_copy = cols_to_keep\n",
    "    if not check_if_subset(time_cols,cols_to_keep):\n",
    "        cols_to_copy+=time_cols\n",
    "        print len(cols_to_copy)\n",
    "    \n",
    "    \n",
    "    df_dict = {}\n",
    "    \n",
    "    # identify which element of tstmp_cols corresponds to term_tstmp\n",
    "    term_id = tstmp_cols.index('term_tstmp')\n",
    "    birth_id = tstmp_cols.index('birth_tstmp')\n",
    "    hire_id = tstmp_cols.index('hire_tstmp')\n",
    "    #print term_id, tstmp_cols[term_id]\n",
    "    \n",
    "    for i,tf in enumerate(tfold):\n",
    "        start_date = paired_dates[i][0]\n",
    "        end_date = paired_dates[i][1]\n",
    "        \n",
    "        in_fold_idx = tfold[i][0] # the index of the in_fold_observations \n",
    "       \n",
    "        altered_fold_df = df[cols_to_copy].copy()\n",
    "        altered_fold_df['fold_mbr']=0 # create a new column to identify membership in that fold.\n",
    "        altered_fold_df.loc[in_fold_idx,'fold_mbr']=1 # assign the in_fold_indices to that fold membership\n",
    "        ####\n",
    "        # adjust the age and tenure for those in the fold\n",
    "        reset_age_tdelta = pd.to_datetime(start_date)-df.ix[in_fold_idx][tstmp_cols[birth_id]]\n",
    "        reset_age = reset_age_tdelta/np.timedelta64(1,'Y')\n",
    "        reset_tenure_tdelta = pd.to_datetime(start_date)-df.ix[in_fold_idx][tstmp_cols[hire_id]]\n",
    "        reset_tenure = reset_tenure_tdelta/np.timedelta64(1,'Y')\n",
    "        altered_fold_df.loc[in_fold_idx,'Age_years']=reset_age\n",
    "        altered_fold_df.loc[in_fold_idx,'Tenure_years']=reset_tenure\n",
    "        old_tgt = df.ix[tfold[i][1]][target_col]\n",
    "        new_tgt = (df.ix[in_fold_idx][tstmp_cols[term_id]]<= end_date).as_matrix().astype(np.int)\n",
    "        # deal with last time-fold specially\n",
    "        if i == len(tfold)-1:\n",
    "            new_tgt = (df.ix[in_fold_idx][tstmp_cols[term_id]]< end_date).as_matrix().astype(np.int)\n",
    "            \n",
    "        altered_fold_df.loc[in_fold_idx,target_col]=new_tgt\n",
    "        old_tgt = df.ix[tfold[i][1]][target_col]\n",
    "        altered_fold_df.loc[tfold[i][1],target_col] = old_tgt\n",
    "        #ra,rt = reset_years(paired_dates[i],in_fold_idx,dates_df)\n",
    "        \"\"\"adj_df =reset_years2(paired_dates[i],in_fold_idx,df)\n",
    "        #altered_fold_df.ix[in_fold_idx]['adj_age']=ra\n",
    "        #altered_fold_df.ix[in_fold_idx]['adj_tenure']=rt\n",
    "        altered_fold_df.loc[in_fold_idx,time_cols]=adj_df.ix[in_fold_idx] # assign to the altered values\n",
    "        \n",
    "        #(em2mod.ix[kf[0][0]]['term_tstmp']<= fp[0][1]).as_matrix().astype(np.int)\n",
    "        \n",
    "        #print \"\\t\", len(new_term),sum(new_term)\n",
    "        \n",
    "        \"\"\"\n",
    "        \n",
    "        df_dict[i]=altered_fold_df\n",
    "    # now append this to a larger panel\n",
    "    tfold_panel = pd.Panel.from_dict(data =df_dict)\n",
    "    return tfold_panel\n",
    "    \n",
    "\n",
    "def check_if_subset(list1,list2): #compare_column_lists(list1,list2):\n",
    "    if set(list1).issubset(set(list2)):\n",
    "        return 1\n",
    "    else:\n",
    "        print \"{0} is not contained in {1}. Recheck your lists.\".format(list1,list2)\n",
    "        return 0\n",
    "    "
   ]
  },
  {
   "cell_type": "code",
   "execution_count": null,
   "metadata": {
    "collapsed": false
   },
   "outputs": [],
   "source": [
    "from sklearn import tree\n",
    "def apply_tKfold_CV2(modeltype, in_panel, tkfolds, cols_to_use, tgt_column = 'status', ntrees=100,njobs=-1):\n",
    "    \"\"\" Calculate the rmse for each cross-validated temporalFold\n",
    "    \n",
    "    Parameters:\n",
    "        model - a scikit learn model name\n",
    "        in_panel  - a pandas Panel with the observed input data adjusted \n",
    "        tgt_column -- the target variable\n",
    "        cols_to_use -- the input variables to be used in modeling\n",
    "        tkfolds -- the temporal timefolds (list of dimension 2)\n",
    "    outputs:\n",
    "        models --> the list of fit models\n",
    "        RMSE --> the rmse error\n",
    "        \n",
    "    \"\"\"\n",
    "    RMSE = []\n",
    "    roc_auc = []\n",
    "    models = []\n",
    "    \n",
    "    \n",
    "    \n",
    "    for fold_id, indices in enumerate(tkfolds):\n",
    "        training = indices[0]\n",
    "        testing = indices[1]\n",
    "        print \"Running on fold number {0} containing {1} training and {2} test elements\".format(fold_id, len(training),len(testing))\n",
    "        X_train, X_test = in_panel[fold_id][cols_to_use].ix[training].as_matrix(), in_panel[fold_id][cols_to_use].ix[testing].as_matrix()\n",
    "        y_train, y_test = in_panel[fold_id][tgt_column].ix[training].as_matrix(), in_panel[fold_id][tgt_column].ix[testing].as_matrix()\n",
    "        print len(X_train),len(y_train)\n",
    "                                                                                                \n",
    "                                                                                                \n",
    "        if modeltype == 'rfc':\n",
    "            model = ensemble.RandomForestClassifier(n_estimators=ntrees, max_features='auto', oob_score=True,n_jobs=njobs)\n",
    "        elif modeltype=='bgc':\n",
    "            model=ensemble.GradientBoostingClassifier(n_estimators=ntrees,max_features='auto',learning_rate=0.01)\n",
    "        else:\n",
    "            model=tree.DecisionTreeClassifier()\n",
    "            \n",
    "        # Train the model\n",
    "        model.fit(X_train,y_train)\n",
    "        # use the model to predict output\n",
    "        y_fitted = model.predict(X_test)\n",
    "        RMSE.append(np.sqrt(metrics.mean_squared_error(y_test,y_fitted)))\n",
    "        roc_auc.append(metrics.roc_auc_score(y_test,y_fitted))\n",
    "        models.append(model)\n",
    "    # leave the model fit to the entire dataset\n",
    "    #model.fit(in_x,in_y)\n",
    "    \n",
    "    return RMSE,roc_auc,models\n",
    "        "
   ]
  },
  {
   "cell_type": "markdown",
   "metadata": {},
   "source": [
    "## Steps to apply the above protocol\n",
    "1. reintroduced tstmp cols (already there)\n",
    "2. generate the assignment to the Temporal Fold and collapse into a panel\n",
    "    * setup_tfolds\n",
    "3. build the model and calculate RMSE +  roc_auc\n",
    "    * apply_tkfold_CV2\n",
    "4. evaluate on the hold-out data.\n",
    "    * evaluate_models\n",
    "5. evaluate Separation rates for current employees"
   ]
  },
  {
   "cell_type": "code",
   "execution_count": null,
   "metadata": {
    "collapsed": true
   },
   "outputs": [],
   "source": [
    "window_size = [1,2,3,4,5]"
   ]
  },
  {
   "cell_type": "code",
   "execution_count": null,
   "metadata": {
    "collapsed": false
   },
   "outputs": [],
   "source": [
    "used_features = [c for c in regress_cols2 if not c.endswith('MOS')] # remove MOS because of issue with back-dating\n",
    "# remove a few other ones:\n",
    "used_features.remove('MERIT1_d')\n",
    "used_features.append('Tenure_years')\n",
    "#for col in tstmp_cols:\n",
    "#    used_features.append(col)\n",
    "    \n",
    "used_features.append('status')\n",
    "\n",
    "print len(used_features)"
   ]
  },
  {
   "cell_type": "markdown",
   "metadata": {},
   "source": [
    "### 5 year"
   ]
  },
  {
   "cell_type": "code",
   "execution_count": null,
   "metadata": {
    "collapsed": false
   },
   "outputs": [],
   "source": [
    "panel5,tfold5 = setup_tfolds(ne2build, 5, used_features,tgt_value='status',\n",
    "                            time_cols=['Age_years','Tenure_years'])"
   ]
  },
  {
   "cell_type": "code",
   "execution_count": null,
   "metadata": {
    "collapsed": true
   },
   "outputs": [],
   "source": [
    "tf_model_cols = [c for c in used_features if not c.endswith('tstmp')]\n",
    "tf_model_cols.remove('status')\n"
   ]
  },
  {
   "cell_type": "code",
   "execution_count": null,
   "metadata": {
    "collapsed": false
   },
   "outputs": [],
   "source": [
    "panel5"
   ]
  },
  {
   "cell_type": "code",
   "execution_count": null,
   "metadata": {
    "collapsed": false
   },
   "outputs": [],
   "source": [
    "%%time\n",
    "rmse5, roc_auc5, rfmdl5 = apply_tKfold_CV2('rfc',panel5, tfold5, cols_to_use=tf_model_cols,ntrees=300)"
   ]
  },
  {
   "cell_type": "code",
   "execution_count": null,
   "metadata": {
    "collapsed": false
   },
   "outputs": [],
   "source": [
    "np.mean(rmse5), np.mean(roc_auc5)"
   ]
  },
  {
   "cell_type": "code",
   "execution_count": null,
   "metadata": {
    "collapsed": false
   },
   "outputs": [],
   "source": [
    "\n",
    "def plot_conf_matrix(y_true,y_pred,normed=True,**kwargs):\n",
    "    my_c = metrics.confusion_matrix(y_true,y_pred)\n",
    "    \n",
    "    print metrics.matthews_corrcoef(y_true,y_pred)\n",
    "    if normed:\n",
    "        cm_normalized = my_c.astype('float') / my_c.sum(axis=1)[:, np.newaxis]\n",
    "        my_c = cm_normalized\n",
    "        plt.title('Normalized RF Classifier Confusion Matrix')\n",
    "    else:\n",
    "        plt.title('Random Forest Classifier Confusion Matrix')\n",
    "        \n",
    "    sns.heatmap(my_c, annot=True,  fmt='',cmap='Blues')\n",
    "    plt.ylabel('True')\n",
    "    #plt.yticks\n",
    "    plt.xlabel('Assigned')\n",
    "    plt.show()\n",
    "    \n",
    "    return\n",
    "\n",
    "def plot_roc_curve(target_test, target_predicted_proba, **kwargs):\n",
    "    fpr, tpr, thresholds = metrics.roc_curve(target_test, target_predicted_proba[:, 1])\n",
    "    \n",
    "    roc_auc = metrics.auc(fpr, tpr)\n",
    "    # Plot ROC curve\n",
    "    label_txt = 'ROC curve (area = %0.3f)' % roc_auc\n",
    "    plt.plot(fpr, tpr, label=label_txt,**kwargs)\n",
    "    plt.plot([0, 1], [0, 1], 'k--')  # random predictions curve\n",
    "    plt.xlim([0.0, 1.0])\n",
    "    plt.ylim([0.0, 1.0])\n",
    "    plt.xlabel('False Positive Rate or (1 - Specifity)')\n",
    "    plt.ylabel('True Positive Rate or (Sensitivity)')\n",
    "    plt.title('Receiver Operating Characteristic')\n",
    "    plt.legend(loc=\"lower right\")\n",
    "    return roc_auc"
   ]
  },
  {
   "cell_type": "code",
   "execution_count": null,
   "metadata": {
    "collapsed": true
   },
   "outputs": [],
   "source": [
    "def evaluate_models(model_list,Xeval):\n",
    "    eval_pred_class = np.zeros((len(Xeval),len(model_list)))\n",
    "    eval_pred_proba = np.zeros((len(Xeval),2,len(model_list)))\n",
    "\n",
    "    for i,mdl in enumerate(model_list):\n",
    "        eval_proba = mdl.predict_proba(Xeval)\n",
    "        eval_pred_class[:,i]=mdl.predict(Xeval)\n",
    "        eval_pred_proba[:,:,i]=eval_proba\n",
    "    #print np.shape(eval_prediction_proba3)\n",
    "    return eval_pred_class, eval_pred_proba"
   ]
  },
  {
   "cell_type": "code",
   "execution_count": null,
   "metadata": {
    "collapsed": true
   },
   "outputs": [],
   "source": [
    "def adjust_eval_by_x_years(df,year_val,modeling_columns,tstmp_cols=tstmp_cols,target_col='status'):\n",
    "    # construct\n",
    "  \n",
    "    ## set up method to assess the eval set\n",
    "    print \"There are {0} elements in the evaluation set\".format(len(df))\n",
    "   \n",
    "    print \"original target variable value counts:\", df[target_col].value_counts()\n",
    "    # restructure to deal with time_frame retirement (target variable)\n",
    "    yr_cut_val = year_val+0.5\n",
    "    # index of those that actually accomplish target within timeframe (allow 0.5 additional years)\n",
    "    eval_within_time_target_index = df[(df[target_col]==1) & (df.Tenure_years <= yr_cut_val)].index\n",
    "    # exclude indices that are active and have tenure less than this time\n",
    "    eval_excluded_index = df[(df[target_col]==0) & (df.Tenure_years  <= yr_cut_val)].index\n",
    "    \n",
    "    # the rest become my not-terminated set\n",
    "    eval_active_index = set(df.index) - set(eval_within_time_target_index) - set(eval_excluded_index)\n",
    "    print len(eval_excluded_index),len(eval_within_time_target_index), len(eval_active_index)\n",
    "    eval_idx_to_use =df.ix[set(df.index)-set(eval_excluded_index)].index\n",
    "    #len(eval_idx_to_use)\n",
    "    # reset the target to 0 for active\n",
    "    eval_new_target = df[target_col].copy()\n",
    "    eval_new_target.ix[eval_active_index] = 0\n",
    "    print \"new target variable value counts: \"\n",
    "    print eval_new_target.ix[eval_idx_to_use].value_counts()\n",
    "    print \"_____\"\n",
    "    y_eval = eval_new_target.ix[eval_idx_to_use].as_matrix().astype(np.int) # true values\n",
    "    eval_adj_tenure = df.ix[eval_idx_to_use].Tenure_years.apply(lambda x: x-year_val if (x>float(year_val)) else 0).values\n",
    "    print len(eval_adj_tenure), len(y_eval)\n",
    "    # now adjust age by length of time; use hire_age if not in set to use.\n",
    "    eval_adj_age = df.ix[eval_idx_to_use].Age_years.apply(lambda x: x-year_val)\n",
    "    hire_age = (df.ix[eval_within_time_target_index]['birth_tstmp']-df.ix[eval_within_time_target_index]['hire_tstmp'])/np.timedelta64(1,'Y')#.days/days_in_year\n",
    "    eval_adj_age.ix[eval_within_time_target_index] = hire_age #df.ix[eval_within_time_target_index]['birth_tstmp'#df_dates['hire_age']\n",
    "    \n",
    "    # construct the evaluation X matrix\n",
    "    print \"input matrix has {0} features\".format(len(modeling_columns))\n",
    "    Xeval = np.zeros((len(eval_idx_to_use),len(modeling_columns)))\n",
    "    # drop 'Age_years' and Tenure_years from the list\n",
    "    cols_to_use = []\n",
    "    cols_to_use+=modeling_columns\n",
    "    cols_to_use.remove('Age_years')\n",
    "    cols_to_use.remove('Tenure_years')#.copy()\n",
    "    \"\"\"\n",
    "    Xeval[:,:-2] = df.ix[eval_idx_to_use][cols_to_use].as_matrix().astype(np.float)\n",
    "    # now put the adjusted tenure and ages into this matrix\n",
    "    Xeval[:,-2] = eval_adj_age.values\n",
    "    Xeval[:,-1]=eval_adj_tenure\n",
    "    #print len(modeling_columns),np.shape(Xeval)\n",
    "    \"\"\"\n",
    "    # this version matches the changed ording of columns\n",
    "    Xeval[:,0]=eval_adj_age.values\n",
    "    Xeval[:,1]=eval_adj_tenure\n",
    "    Xeval[:,2:] = df.ix[eval_idx_to_use][cols_to_use].as_matrix().astype(np.float)\n",
    "    return Xeval, y_eval"
   ]
  },
  {
   "cell_type": "code",
   "execution_count": null,
   "metadata": {
    "collapsed": false
   },
   "outputs": [],
   "source": [
    "X5eval, y5eval = adjust_eval_by_x_years(ne2eval,5,tf_model_cols)"
   ]
  },
  {
   "cell_type": "code",
   "execution_count": null,
   "metadata": {
    "collapsed": true
   },
   "outputs": [],
   "source": [
    "#gb_mdl5_pred_class, gb_mdl5_pred_proba = evaluate_models(gb_mdl5,X5eval)\n",
    "pred_rf5_class, pred_rf5_proba = evaluate_models(rfmdl5,X5eval)"
   ]
  },
  {
   "cell_type": "code",
   "execution_count": null,
   "metadata": {
    "collapsed": false
   },
   "outputs": [],
   "source": [
    "plot_conf_matrix(y5eval,map(np.int,pred_rf5_class.mean(axis=1)))#gb_mdl5_pred_class.mean(axis=1)))"
   ]
  },
  {
   "cell_type": "code",
   "execution_count": null,
   "metadata": {
    "collapsed": false
   },
   "outputs": [],
   "source": [
    "#plot_conf_matrix(y5eval,map(np.int,gb_mdl5_pred_class.mean(axis=1)))\n",
    "plot_roc_curve(y5eval,pred_rf5_proba[:,:,:].mean(axis=2))#gb_mdl5_pred_proba[:,:,:].mean(axis=2))"
   ]
  },
  {
   "cell_type": "code",
   "execution_count": null,
   "metadata": {
    "collapsed": false
   },
   "outputs": [],
   "source": [
    "### plot individual ROC curves\n",
    "for a in xrange(0,len(rfmdl5)):\n",
    "    plot_roc_curve(y5eval,pred_rf5_proba[:,:,a])"
   ]
  },
  {
   "cell_type": "code",
   "execution_count": null,
   "metadata": {
    "collapsed": false
   },
   "outputs": [],
   "source": [
    "np.shape(pred_rf5_class)"
   ]
  },
  {
   "cell_type": "code",
   "execution_count": null,
   "metadata": {
    "collapsed": false
   },
   "outputs": [],
   "source": [
    "plot_conf_matrix(y5eval,pred_rf5_class[:,8])#gb_mdl5_pred_class.mean(axis=1)))"
   ]
  },
  {
   "cell_type": "code",
   "execution_count": null,
   "metadata": {
    "collapsed": false
   },
   "outputs": [],
   "source": [
    "fi_5df = create_fi_df(rfmdl5,tf_model_cols)\n",
    "val_cols = [a for a in fi_5df.columns if 'value' in a]\n",
    "fi_5df[val_cols].T.boxplot()\n",
    "plt.title('Feature Importances for 5year former')\n",
    "plt.ylabel('Feature Importances in Tfolds')"
   ]
  },
  {
   "cell_type": "code",
   "execution_count": null,
   "metadata": {
    "collapsed": false
   },
   "outputs": [],
   "source": [
    "fi_5df.sort_values(by='avg_val',ascending=False)[val_cols].head(20).T.boxplot(rot=90)"
   ]
  },
  {
   "cell_type": "markdown",
   "metadata": {},
   "source": [
    "## This model is not great\n",
    "* perhaps overfit?"
   ]
  },
  {
   "cell_type": "code",
   "execution_count": null,
   "metadata": {
    "collapsed": false
   },
   "outputs": [],
   "source": [
    "len(tf_model_cols)"
   ]
  },
  {
   "cell_type": "code",
   "execution_count": null,
   "metadata": {
    "collapsed": false
   },
   "outputs": [],
   "source": [
    "[col for col in tf_model_cols if col.startswith('JOB_FUNCTION')]"
   ]
  },
  {
   "cell_type": "code",
   "execution_count": null,
   "metadata": {
    "collapsed": false
   },
   "outputs": [],
   "source": [
    "empl1.JOB_FUNCTION.value_counts()"
   ]
  },
  {
   "cell_type": "markdown",
   "metadata": {},
   "source": [
    "## Try a different PIPE:\n",
    "* include the survival encoding"
   ]
  },
  {
   "cell_type": "code",
   "execution_count": null,
   "metadata": {
    "collapsed": false
   },
   "outputs": [],
   "source": [
    "empl1.Tenure_years.min(), empl1.Tenure_years.max()"
   ]
  },
  {
   "cell_type": "code",
   "execution_count": null,
   "metadata": {
    "collapsed": true
   },
   "outputs": [],
   "source": [
    "ann_tenure_range = np.linspace(0,63)\n",
    "#mthl_tenure_range = np.linspace(0,65,781)\n",
    "def calculate_survival_functions_b(df,y, time_col, col_name,num_cutoff = 40,timerange =ann_tenure_range):\n",
    "    \n",
    "    \"\"\" Function to generically return a dataframe of survival function, grouped by some categorical column\n",
    "    inputs:\n",
    "        df --> database to derive survival functions from\n",
    "        time_col --> the temporal column to use for SF modeling (Kaplan Meier fitter applied)\n",
    "        event_col --> the truncated column to use for SF modeling\n",
    "        col_name --> the column to group up and determine KMF sf for\n",
    "        num_cutoff --> number of groups to consider\n",
    "        timerange --> min and max range\n",
    "    outputs:\n",
    "        survivalfunc_df --> a data frame that contains survival function.\n",
    "\n",
    "    other options:\n",
    "        *frac_cutoff --> the fraction of unique elements that will be kept as separate groups\n",
    "        *min_size_cutoff --> min size to use for the cutoff.\n",
    "        * these last two are not implemented\n",
    "    \"\"\"\n",
    "    from lifelines import KaplanMeierFitter\n",
    "    kmf=KaplanMeierFitter()\n",
    "    # create example for all cases -- serves as background\n",
    "    # create a time range\n",
    "    \n",
    "    kmf.fit(df[time_col],timeline=timerange,event_observed=y,label='all')\n",
    "    survivalfunc_df = pd.DataFrame(kmf.survival_function_)\n",
    "    # groupify the dataframe\n",
    "    grp_value_counts = df[col_name].value_counts()\n",
    "    #if frac_cutoff == None:\n",
    "    #    #by default take 15 %\n",
    "    #    frac_cutoff = .15 \n",
    "    #top_n_groups = int(frac_cutoff *len(grp_value_counts))\n",
    "    #if min_size_cutoff == None:\n",
    "        # by default \n",
    "    # Take the top num_cutoff groups\n",
    "    #my_grps = grp_value_counts.ix[:num_cutoff].index.tolist() \n",
    "    my_grps = grp_value_counts.iloc[:num_cutoff].index.tolist() \n",
    "    \n",
    "    # make a list of elements in each of these groups\n",
    "    grp_dict = {}\n",
    "    for grp in my_grps: \n",
    "        grp_dict[grp] = df[df[col_name] == grp].index.tolist()\n",
    "    # loop through grps and create kmf survival function\n",
    "    for i,jgrp in enumerate(my_grps):\n",
    "        j_idx = grp_dict[jgrp]\n",
    "        #print i, jgrp, len(j_idx)\n",
    "        kmf.fit(df[time_col].ix[j_idx],timeline=timerange,event_observed=y.ix[j_idx],label=str(jgrp))\n",
    "        survivalfunc_df = pd.concat([survivalfunc_df,kmf.survival_function_],axis=1)\n",
    "    \n",
    "    \n",
    "    return survivalfunc_df\n",
    "\n",
    "def return_first_time_survival(sfdf,thresh=0.5):\n",
    "    from collections import defaultdict\n",
    "    \n",
    "    # assign all value to the default\n",
    "    default_value = sfdf[sfdf['all']<=thresh].index[0]\n",
    "    median_survival_dict = defaultdict(lambda: default_value)\n",
    "    for c in sfdf.columns[1:]:\n",
    "        #print c\n",
    "        try:\n",
    "            my_sf_date = sfdf[sfdf[c]<=thresh].index[0]\n",
    "        except IndexError: # because never reached that threshold value\n",
    "            my_sf_date = sfdf.index[-1]\n",
    "        except KeyError: # because of type of the key\n",
    "            my_sf_date = sfdf[sfdf[int(c)]<=thresh].index[0]\n",
    "\n",
    "        median_survival_dict[c]=my_sf_date\n",
    "        \n",
    "    return median_survival_dict"
   ]
  },
  {
   "cell_type": "code",
   "execution_count": null,
   "metadata": {
    "collapsed": false
   },
   "outputs": [],
   "source": [
    "from sklearn.base import BaseEstimator,TransformerMixin\n",
    "class SurvivalEncodeColumn(BaseEstimator, TransformerMixin):\n",
    "    def __init__(self, columns_to_fix=[],rows_to_scan='all',method='median',max_number_groups=40, my_thresh=0.5):\n",
    "        self.method = method\n",
    "        self.columns_to_fix = columns_to_fix\n",
    "        self.rows_to_scan = rows_to_scan\n",
    "        self.max_num_groups = max_number_groups\n",
    "        self.thresh = my_thresh\n",
    "        \n",
    "    def fit(self,X,y):\n",
    "        self.survive_columns = {} # dictionary to map old columns to new\n",
    "        self.survive_values = {}\n",
    "        self.column_cutoff = {}\n",
    "        \n",
    "        \n",
    "        for col in self.columns_to_fix:\n",
    "            #(assumes these have previously been label encoded so the values should be ints)\"\n",
    "            ncol=str(col)+\"_le\"\n",
    "            num_cutoff = self.max_num_groups\n",
    "            survive_col = 'surv_'+ncol.lower()\n",
    "            nuniq = len(X[ncol].unique())\n",
    "            if nuniq < num_cutoff:\n",
    "                num_cutoff = nuniq\n",
    "                \n",
    "            self.column_cutoff[col]=num_cutoff\n",
    "            \n",
    "            #frac_accounted_for = X[col].value_counts().iloc[:num_cutoff].sum()/float(len(X))\n",
    "            #print i,col,newcol, nuniq, num_cutoff,num_cutoff/float(nuniq),frac_accounted_for\n",
    "            # I want to make this fraction close to 80%?\n",
    "            sf_df = calculate_survival_functions_b(X,y,'Tenure_years', ncol,num_cutoff)\n",
    "            self.survive_columns[col]=survive_col\n",
    "            ## create the dictionary\n",
    "            self.survive_values[col]=return_first_time_survival(sf_df,thresh=self.thresh)\n",
    "    \n",
    "        return self\n",
    "    def transform(self,X,y=None):\n",
    "        X_temp = X.copy()\n",
    "        original_cols = list(X_temp.columns)\n",
    "        for col in self.columns_to_fix:\n",
    "            ncol=str(col)+\"_le\" # assumes labelencoded\n",
    "            new_col = self.survive_columns[col]\n",
    "            col_dict = self.survive_values[col]\n",
    "            X_temp[new_col] = X_temp[ncol].apply(lambda x: col_dict[str(x)])\n",
    "            original_cols.remove(ncol)\n",
    "            original_cols.append(new_col)\n",
    "        \n",
    "        X_temp = X_temp[original_cols]\n",
    "        return X_temp"
   ]
  },
  {
   "cell_type": "code",
   "execution_count": null,
   "metadata": {
    "collapsed": false
   },
   "outputs": [],
   "source": [
    "my_label_encode_cols"
   ]
  },
  {
   "cell_type": "code",
   "execution_count": null,
   "metadata": {
    "collapsed": false
   },
   "outputs": [],
   "source": [
    "pipe2 = Pipeline([(\"null\",br.RemoveAllNull()),\n",
    "                 #(\"drop\",br.DropColumns(columns_to_drop =my_cols_to_omit)),\n",
    "                 (\"label_encode\",br.LabelEncodeColumn(my_label_encode_cols)),\n",
    "                 (\"survival_encode\",SurvivalEncodeColumn(my_label_encode_cols,method='median')),\n",
    "                 (\"dummy_encode\", br.DummyEncodeColumn(cat_cols_to_dummy)), \n",
    "                 #(\"fixout_min\",br.FixNumericOutlier(columns_to_fix=my_minfix_cols,criteria_coef=('percentile',2),\n",
    "                 #                                  method='lower',fill_with='nearest_value')),\n",
    "                 #(\"fixout_max\",br.FixNumericOutlier(columns_to_fix=['MAX_ANNUAL_RT'],criteria_coef=('percentile',2),\n",
    "                 #                                  method='both',fill_with='nearest_value')),\n",
    "                (\"fixout_min\",br.FixNumericOutlier(columns_to_fix=['SAL1','MIN_RT_ANNUAL','MERIT1','PERF1'],criteria_coef=('percentile',5),\n",
    "                                                   method='lower',fill_with='nearest_value')),\n",
    "                  (\"fixout_max\",br.FixNumericOutlier(columns_to_fix=['MAX_RT_ANNUAL'],criteria_coef=('percentile',5),\n",
    "                                                   method='both',fill_with='nearest_value')),\n",
    "                 #(\"fill_missingzero\",FillMissingValue(columns_to_fix=['BOX1','FUNC_CNT','EXTFUNC_CNT','TOTAL_RPT_CNT','DIRECT_RPT_CNT'],fill_value=0)),\n",
    "                 (\"imp_mode\",br.ImputeData(columns_to_impute=missing_cols,rows_to_scan=0.8))])\n",
    "                 "
   ]
  },
  {
   "cell_type": "code",
   "execution_count": null,
   "metadata": {
    "collapsed": false
   },
   "outputs": [],
   "source": [
    "nr_em = empl1[empl1.retired==0].copy() \n",
    "len(nr_em)"
   ]
  },
  {
   "cell_type": "code",
   "execution_count": null,
   "metadata": {
    "collapsed": false
   },
   "outputs": [],
   "source": [
    "sns.lmplot(x='Age_years',y='hire_age',data=nr_em)"
   ]
  },
  {
   "cell_type": "code",
   "execution_count": null,
   "metadata": {
    "collapsed": false
   },
   "outputs": [],
   "source": [
    "## break this into a test/train \n",
    "# break into evaluation and build sets\n",
    "print \"Starting with subset of {0} employees.\".format(len(nr_em))\n",
    "eval_fraction = 0.20\n",
    "ne2build, ne2eval = cross_validation.train_test_split(nr_em,test_size=eval_fraction,random_state = 90333)\n",
    "print \"Evaluation set has {0} employees; training set has {1} employees.\".format(len(ne2eval),len(ne2build))"
   ]
  },
  {
   "cell_type": "code",
   "execution_count": null,
   "metadata": {
    "collapsed": false
   },
   "outputs": [],
   "source": [
    "## for each set count the instances:\n",
    "ne2build.status.value_counts()/float(len(ne2build))"
   ]
  },
  {
   "cell_type": "code",
   "execution_count": null,
   "metadata": {
    "collapsed": false
   },
   "outputs": [],
   "source": [
    "ne2eval.status.value_counts()/float(len(ne2eval))"
   ]
  },
  {
   "cell_type": "markdown",
   "metadata": {},
   "source": [
    "## apply the pipe to ne2build and ne2eval"
   ]
  },
  {
   "cell_type": "code",
   "execution_count": null,
   "metadata": {
    "collapsed": false
   },
   "outputs": [],
   "source": [
    "n2b = pipe2.fit_transform(ne2build,ne2build.status)\n",
    "n2b.shape"
   ]
  },
  {
   "cell_type": "code",
   "execution_count": null,
   "metadata": {
    "collapsed": false
   },
   "outputs": [],
   "source": [
    "n2e = pipe2.fit(ne2build,ne2build.status).transform(ne2eval)\n",
    "y_eval = ne2eval.status\n",
    "n2e.shape"
   ]
  },
  {
   "cell_type": "code",
   "execution_count": null,
   "metadata": {
    "collapsed": false
   },
   "outputs": [],
   "source": [
    "n2cols = n2b.columns.tolist()\n",
    "'status' in n2cols"
   ]
  },
  {
   "cell_type": "code",
   "execution_count": null,
   "metadata": {
    "collapsed": false
   },
   "outputs": [],
   "source": [
    "historical_cols10 = [col for col in n2cols if col.endswith('10')]\n",
    "mos_cols = [col for col in n2cols if col.endswith('MOS')]\n",
    "print historical_cols10\n",
    "\n",
    "print mos_cols\n",
    "historical_cols5 = [col for col in n2cols if col.endswith('5')][:-4]\n",
    "historical_cols3 =[col for col in n2cols if col.endswith('3')][:-4]\n",
    "len(historical_cols3), len(historical_cols5),len(historical_cols10), len(mos_cols)"
   ]
  },
  {
   "cell_type": "code",
   "execution_count": null,
   "metadata": {
    "collapsed": false
   },
   "outputs": [],
   "source": [
    "historical_cols = []\n",
    "historical_cols+=historical_cols3\n",
    "historical_cols+=historical_cols5\n",
    "historical_cols+=historical_cols10\n",
    "historical_cols+=mos_cols\n",
    "print len(historical_cols)"
   ]
  },
  {
   "cell_type": "code",
   "execution_count": null,
   "metadata": {
    "collapsed": false
   },
   "outputs": [],
   "source": [
    "cat_cols_to_ignore, cat_cols_to_drop\n",
    "tstmp_cols = [col for col in n2cols if col.endswith('tstmp')]"
   ]
  },
  {
   "cell_type": "code",
   "execution_count": null,
   "metadata": {
    "collapsed": false
   },
   "outputs": [],
   "source": [
    "model_cols = [c for c in n2cols if not c in cat_cols_to_ignore]\n",
    "model_cols = [c for c in model_cols if not c in cat_cols_to_drop]\n",
    "model_cols = [c for c in model_cols if not c in historical_cols]\n",
    "model_cols =[c for c in model_cols if not c  in tstmp_cols]\n",
    "len(model_cols), len(n2cols)"
   ]
  },
  {
   "cell_type": "code",
   "execution_count": null,
   "metadata": {
    "collapsed": false
   },
   "outputs": [],
   "source": [
    "model_cols.remove('terminated')\n",
    "model_cols.remove('hire_age')\n",
    "model_cols.remove('sep_status')\n",
    "model_cols.remove('retired')\n",
    "model_cols.remove('status')\n",
    "print len(model_cols)"
   ]
  },
  {
   "cell_type": "code",
   "execution_count": null,
   "metadata": {
    "collapsed": false
   },
   "outputs": [],
   "source": [
    "colin_pipe2 = br.perfect_collinearity_test(n2b[model_cols])"
   ]
  },
  {
   "cell_type": "code",
   "execution_count": null,
   "metadata": {
    "collapsed": false
   },
   "outputs": [],
   "source": [
    "colin_pipe2.hist(bins=30,color='tomato')"
   ]
  },
  {
   "cell_type": "code",
   "execution_count": null,
   "metadata": {
    "collapsed": true
   },
   "outputs": [],
   "source": [
    "redundant_cols = ['FTE','loc_desc_TELE','MERIT1_d',\n",
    "                 'STD_HOURS','ANNUAL_RT','EEO1CODE_5',\n",
    "                 'FTPTCNT1','PTFTCNT1',\n",
    "                 'EMPL_CLASS_1','JOB_FUNCTION_PSA',\n",
    "                 'loc_desc_OC']"
   ]
  },
  {
   "cell_type": "code",
   "execution_count": null,
   "metadata": {
    "collapsed": false
   },
   "outputs": [],
   "source": [
    "model_cols2 = [col for col in model_cols if not col in redundant_cols]\n",
    "#p2_colin_test_df = br.perfect_collinearity_test(ne2[p2_col_model])"
   ]
  },
  {
   "cell_type": "code",
   "execution_count": null,
   "metadata": {
    "collapsed": false
   },
   "outputs": [],
   "source": [
    "colin_pipe2a = br.perfect_collinearity_test(n2b[model_cols2])"
   ]
  },
  {
   "cell_type": "code",
   "execution_count": null,
   "metadata": {
    "collapsed": false
   },
   "outputs": [],
   "source": [
    "colin_pipe2a.sort_values(ascending=False).head(10)"
   ]
  },
  {
   "cell_type": "code",
   "execution_count": null,
   "metadata": {
    "collapsed": false
   },
   "outputs": [],
   "source": [
    "redundant_cols2 = ['COMPANY_1','EMPL_TYPE_E','FLSA_STATUS', 'DIVISION_CODE_SFI_9','EMPL_TYPE_S','EMPL_CLASS_D','MAX_RT_ANNUAL']\n",
    "model_cols2 = [col for col in model_cols2 if not col in redundant_cols2]\n",
    "colin_pipe2b = br.perfect_collinearity_test(n2b[model_cols2])"
   ]
  },
  {
   "cell_type": "code",
   "execution_count": null,
   "metadata": {
    "collapsed": false
   },
   "outputs": [],
   "source": [
    "colin_pipe2b.sort_values(ascending=False).head(10)"
   ]
  },
  {
   "cell_type": "code",
   "execution_count": null,
   "metadata": {
    "collapsed": false
   },
   "outputs": [],
   "source": [
    "colin_pipe2b.hist(bins=30,color='tomato')"
   ]
  },
  {
   "cell_type": "code",
   "execution_count": null,
   "metadata": {
    "collapsed": false
   },
   "outputs": [],
   "source": [
    "sns.distplot(n2b.surv_grade_le,label='medSF_grade')\n",
    "sns.distplot(n2b.surv_loc_state_le,label='medSF_location')\n",
    "sns.distplot(n2b.surv_job_family_le,label='medSF_jobfam')\n",
    "\n",
    "plt.xlabel('Survival Function Grades')"
   ]
  },
  {
   "cell_type": "code",
   "execution_count": null,
   "metadata": {
    "collapsed": false
   },
   "outputs": [],
   "source": [
    "#### drop some of these collinear columns\n",
    "#colin_thresh = 0.99\n",
    "# print sum(p2_colin_test_df<colin_thresh)\n",
    "#p2_col_model2 = p2_colin_test_df[p2_colin_test_df<colin_thresh].index.tolist()\n",
    "#len(p2_col_model2)"
   ]
  },
  {
   "cell_type": "code",
   "execution_count": null,
   "metadata": {
    "collapsed": false
   },
   "outputs": [],
   "source": []
  },
  {
   "cell_type": "code",
   "execution_count": null,
   "metadata": {
    "collapsed": false
   },
   "outputs": [],
   "source": [
    "p2_colin_test_df.loc[p2_col_model2].hist(bins=30,color='tomato')"
   ]
  },
  {
   "cell_type": "code",
   "execution_count": null,
   "metadata": {
    "collapsed": true
   },
   "outputs": [],
   "source": [
    "#p2_col_model2.remove('status')"
   ]
  },
  {
   "cell_type": "markdown",
   "metadata": {},
   "source": [
    "## 5 year t-fold models "
   ]
  },
  {
   "cell_type": "code",
   "execution_count": null,
   "metadata": {
    "collapsed": false
   },
   "outputs": [],
   "source": [
    "panel5,tfold5 = setup_tfolds(n2b, 5, model_cols2,tgt_value='status',\n",
    "                            time_cols=['Age_years','Tenure_years'])"
   ]
  },
  {
   "cell_type": "code",
   "execution_count": null,
   "metadata": {
    "collapsed": false
   },
   "outputs": [],
   "source": [
    "%%time\n",
    "rmse5, roc_auc5, rfmdl5 = apply_tKfold_CV2('rfc',panel5, tfold5, cols_to_use=model_cols2,ntrees=300)"
   ]
  },
  {
   "cell_type": "code",
   "execution_count": null,
   "metadata": {
    "collapsed": false
   },
   "outputs": [],
   "source": [
    "fig = plt.figure(figsize=(20,10))\n",
    "ax1 = fig.add_subplot(121)\n",
    "ax1.boxplot(rmse5)\n",
    "ax2 = fig.add_subplot(122)\n",
    "ax2.boxplot(roc_auc5)\n",
    "np.mean(rmse5), np.mean(roc_auc5)"
   ]
  },
  {
   "cell_type": "code",
   "execution_count": null,
   "metadata": {
    "collapsed": false
   },
   "outputs": [],
   "source": [
    "X5eval, y5eval = adjust_eval_by_x_years(n2e,5,model_cols2)\n"
   ]
  },
  {
   "cell_type": "code",
   "execution_count": null,
   "metadata": {
    "collapsed": true
   },
   "outputs": [],
   "source": [
    "pred_rf5_class, pred_rf5_proba = evaluate_models(rfmdl5,X5eval)"
   ]
  },
  {
   "cell_type": "code",
   "execution_count": null,
   "metadata": {
    "collapsed": false
   },
   "outputs": [],
   "source": [
    "plot_conf_matrix(y5eval,map(np.int,pred_rf5_class.mean(axis=1)))#gb_mdl5_pred_class.mean(axis=1)))"
   ]
  },
  {
   "cell_type": "code",
   "execution_count": null,
   "metadata": {
    "collapsed": false
   },
   "outputs": [],
   "source": [
    "plot_roc_curve(y5eval,pred_rf5_proba[:,:,:].mean(axis=2))#gb_mdl5_pred_proba[:,:,:].mean(axis=2))"
   ]
  },
  {
   "cell_type": "code",
   "execution_count": null,
   "metadata": {
    "collapsed": false
   },
   "outputs": [],
   "source": [
    "\n",
    "for a in xrange(0,len(rfmdl5)):\n",
    "    plot_roc_curve(y5eval,pred_rf5_proba[:,:,a])"
   ]
  },
  {
   "cell_type": "code",
   "execution_count": null,
   "metadata": {
    "collapsed": false
   },
   "outputs": [],
   "source": [
    "### plot individual ROC curves\n",
    "for a in xrange(0,len(rfmdl5)):\n",
    "    plot_roc_curve(y5eval,pred_rf5_proba[:,:,a],ls='--')\n",
    "\n",
    "plot_roc_curve(y5eval,pred_rf5_proba[:,:,:].mean(axis=2),lw='3')#gb_mdl5_pred_proba[:,:,:].mean(axis=2))    "
   ]
  },
  {
   "cell_type": "code",
   "execution_count": null,
   "metadata": {
    "collapsed": false
   },
   "outputs": [],
   "source": [
    "fi_5df = create_fi_df(rfmdl5,model_cols2)\n",
    "val_cols = [a for a in fi_5df.columns if 'value' in a]\n",
    "fi_5df[val_cols].T.boxplot()\n",
    "plt.title('Feature Importances for 5year former')\n",
    "plt.ylabel('Feature Importances in Tfolds')"
   ]
  },
  {
   "cell_type": "code",
   "execution_count": null,
   "metadata": {
    "collapsed": false
   },
   "outputs": [],
   "source": [
    "fi_5df[val_cols].head()"
   ]
  },
  {
   "cell_type": "markdown",
   "metadata": {},
   "source": [
    "### still huge variability in the feature importances"
   ]
  },
  {
   "cell_type": "code",
   "execution_count": null,
   "metadata": {
    "collapsed": false
   },
   "outputs": [],
   "source": [
    "plotFI(rfmdl5[-1],model_cols)"
   ]
  },
  {
   "cell_type": "markdown",
   "metadata": {},
   "source": [
    "## try a gbm?"
   ]
  },
  {
   "cell_type": "code",
   "execution_count": null,
   "metadata": {
    "collapsed": false
   },
   "outputs": [],
   "source": [
    "%%time\n",
    "grmse5, groc_auc5, gbmdl5 = apply_tKfold_CV2('gbc',panel5, tfold5, cols_to_use=p2_col_model2,tgt_column='status',ntrees=500)"
   ]
  },
  {
   "cell_type": "code",
   "execution_count": null,
   "metadata": {
    "collapsed": false
   },
   "outputs": [],
   "source": [
    "fig = plt.figure(figsize=(20,10))\n",
    "ax1 = fig.add_subplot(121)\n",
    "ax1.boxplot(grmse5)\n",
    "ax2 = fig.add_subplot(122)\n",
    "ax2.boxplot(groc_auc5)\n",
    "np.mean(grmse5), np.mean(groc_auc5)"
   ]
  },
  {
   "cell_type": "code",
   "execution_count": null,
   "metadata": {
    "collapsed": true
   },
   "outputs": [],
   "source": [
    "pred_gb5_class, pred_gb5_proba = evaluate_models(gbmdl5,X5eval)"
   ]
  },
  {
   "cell_type": "code",
   "execution_count": null,
   "metadata": {
    "collapsed": false
   },
   "outputs": [],
   "source": [
    "plot_conf_matrix(y5eval,map(np.int,pred_gb5_class.mean(axis=1)))#gb_mdl5_pred_class.mean(axis=1)))"
   ]
  },
  {
   "cell_type": "code",
   "execution_count": null,
   "metadata": {
    "collapsed": true
   },
   "outputs": [],
   "source": [
    "def create_gb_fi_df(mdl_list,feature_names):\n",
    "    list_feature_importances = []\n",
    "    col_list = []\n",
    "    for i,mdl in enumerate(mdl_list):\n",
    "        list_feature_importances.append(get_gb_FI(mdl,feature_names,show_plot=False))\n",
    "        col_list.append('fold'+str(i)+'_value')\n",
    "        #col_list.append('fold'+str(i)+'_std')\n",
    "\n",
    "    fi_df = pd.concat(list_feature_importances,axis=1)\n",
    "    # create column headings\n",
    "    fi_df.columns = col_list\n",
    "    # create the average of the values\n",
    "    value_cols = [x for x in col_list if x.endswith('value')]\n",
    "    \n",
    "    fi_df['avg_val']=fi_df[value_cols].mean(axis=1)\n",
    "    fi_df['avg_variance']=fi_df[value_cols].std(axis=1)\n",
    "#t2_eval_fi_df[['avg_val','avg_std']].sort('avg_val',ascending=False)\n",
    "    return fi_df\n",
    "\n",
    "def get_gb_FI(mdl,featureNames=[],show_plot=False):\n",
    "    \"\"\"\n",
    "    forest is the model to be graphed.\n",
    "    featureNames is the list of features to be displayed\n",
    "    \n",
    "    \"\"\"\n",
    "    \n",
    "    featureImportances=mdl.feature_importances_\n",
    "    # sort the importances from biggest to least\n",
    "    indices = np.argsort(featureImportances)[::-1]\n",
    "    nfeatures = len(featureImportances)\n",
    "    print(\"Number of Features: %d\" % (nfeatures))\n",
    "    \n",
    "    \n",
    "    #print featureNames\n",
    "    if len(featureNames)==0:\n",
    "        featureNames = map(str,indices)\n",
    "    \n",
    "    fN2 = [featureNames[a] for a in indices]\n",
    "    print(\"Feature ranking:\")\n",
    "\n",
    "    for f in range(len(indices)):\n",
    "        print(\"%d. feature %d=%s (%f)\" % (f + 1, indices[f], featureNames[indices[f]],featureImportances[indices[f]]))\n",
    "\n",
    "    # Plot the feature importances of the forest\n",
    "    # define a cutoff in terms of feature_importance\n",
    "    if nfeatures <= 30:\n",
    "        kfeatures = nfeatures # keep all if smaller than 30\n",
    "    else:\n",
    "        kfeatures = 30\n",
    "        \n",
    "    kindices = indices[:kfeatures]\n",
    "    if show_plot:\n",
    "        plt.title(\"Feature importances\")\n",
    "        plt.barh(range(len(kindices)), featureImportances[kindices],\n",
    "           color=\"steelblue\",  align=\"center\")\n",
    "    \n",
    "        plt.yticks(range(len(kindices)),fN2)\n",
    "        #grid(True)\n",
    "    \n",
    "    c1 = 'value'\n",
    "    #tdata = np.vstack([featureImportances[indices],std[indices]])\n",
    "    df = pd.DataFrame(data = featureImportances,index=fN2,columns=[c1])\n",
    "    return df\n",
    "#plt.barh(range(len(model_cols)),gbmdl5[0].feature_importances_)\n",
    "#plotFI(gbmdl5[0],model_cols)\n",
    "#get_gb_FI(gbmdl5[0],model_cols)"
   ]
  },
  {
   "cell_type": "code",
   "execution_count": null,
   "metadata": {
    "collapsed": false
   },
   "outputs": [],
   "source": [
    "gb5_fi_df = create_gb_fi_df(gbmdl5,p2_col_model2)"
   ]
  },
  {
   "cell_type": "code",
   "execution_count": null,
   "metadata": {
    "collapsed": false
   },
   "outputs": [],
   "source": [
    "gb5_fi_df.sort_values(by='avg_val',ascending=False)['avg_val'].ix[:30].plot(kind='barh')"
   ]
  },
  {
   "cell_type": "code",
   "execution_count": null,
   "metadata": {
    "collapsed": false
   },
   "outputs": [],
   "source": [
    "\n",
    "for a in xrange(0,len(rfmdl5)):\n",
    "    plot_roc_curve(y5eval,pred_gb5_proba[:,:,a],ls='--')\n",
    "\n",
    "plot_roc_curve(y5eval,pred_gb5_proba[:,:,:].mean(axis=2),lw='3')#gb_mdl5_pred_proba[:,:,:].mean(axis=2))    "
   ]
  },
  {
   "cell_type": "code",
   "execution_count": null,
   "metadata": {
    "collapsed": false
   },
   "outputs": [],
   "source": [
    "np.shape(pred_gb5_proba), np.shape(pred_rf5_proba)"
   ]
  },
  {
   "cell_type": "markdown",
   "metadata": {},
   "source": [
    "## retry a regressor just to identify the biggest factors"
   ]
  },
  {
   "cell_type": "code",
   "execution_count": null,
   "metadata": {
    "collapsed": false
   },
   "outputs": [],
   "source": [
    "regress_col3 = [col for col in p2_col_model2 if col != 'Tenure_years']\n",
    "len(regress_col3)"
   ]
  },
  {
   "cell_type": "code",
   "execution_count": null,
   "metadata": {
    "collapsed": false
   },
   "outputs": [],
   "source": [
    "%%time\n",
    "# Fit regression model\n",
    "params = {'n_estimators': 300, 'n_jobs': -1, 'oob_score': True}\n",
    "          #'max_depth': 4, 'min_samples_split': 1,\n",
    "          #'learning_rate': 0.01, 'loss': 'ls','n_jobs': -1}\n",
    "fullRFR3 = ensemble.RandomForestRegressor(**params)\n",
    "\n",
    "fullRFR3.fit(ne2build[regress_col3], ne2build.Tenure_years)\n",
    "rfr_tenure_pred = fullRFR3.predict(ne2eval[regress_col3])\n",
    "mse = metrics.mean_squared_error(ne2eval.Tenure_years,rfr_tenure_pred )\n",
    "print(\"MSE: %.4f\" % mse)"
   ]
  },
  {
   "cell_type": "code",
   "execution_count": null,
   "metadata": {
    "collapsed": false
   },
   "outputs": [],
   "source": [
    "plt.scatter(ne2eval.Tenure_years,rfr_tenure_pred,alpha=0.3)\n",
    "plt.xlabel('True Tenure')\n",
    "plt.ylabel('Predicted Tenure')"
   ]
  },
  {
   "cell_type": "code",
   "execution_count": null,
   "metadata": {
    "collapsed": false
   },
   "outputs": [],
   "source": [
    "plotFI(fullRFR3,ne2build[regress_col3].columns.tolist())"
   ]
  },
  {
   "cell_type": "code",
   "execution_count": null,
   "metadata": {
    "collapsed": false
   },
   "outputs": [],
   "source": [
    "[col for col in p2_col_model2 if col.startswith('SAL')]"
   ]
  },
  {
   "cell_type": "markdown",
   "metadata": {},
   "source": [
    "## okay so p2_col_model2 was too aggressive.\n",
    "* For example I threw out both SAL1 and ANNUAL_RT"
   ]
  },
  {
   "cell_type": "code",
   "execution_count": null,
   "metadata": {
    "collapsed": false
   },
   "outputs": [],
   "source": [
    "p2_colin_test_df.sort_values(ascending=False)\n",
    "#p2_col_model2 = p2_colin_test_df[p2_colin_test_df<colin_thresh].index.tolist()\n",
    "#len(p2_col_model2)"
   ]
  },
  {
   "cell_type": "markdown",
   "metadata": {},
   "source": [
    "#### Do this more stepwise:\n",
    "1. remove those that have $R^2 = 1.0$\n",
    "2. repeat the perfect_colin_test"
   ]
  },
  {
   "cell_type": "code",
   "execution_count": null,
   "metadata": {
    "collapsed": true
   },
   "outputs": [],
   "source": [
    "p2_col_model3 = [col for col in p2_col_model]\n",
    "p2_col_model3.remove('loc_desc_TELE')\n",
    "p2_col_model3.remove('PERF1_d')\n",
    "p2_col_model3.remove('MERIT1_d')\n"
   ]
  },
  {
   "cell_type": "code",
   "execution_count": null,
   "metadata": {
    "collapsed": false,
    "scrolled": true
   },
   "outputs": [],
   "source": [
    "#p2_colin_test_df3 = br.perfect_collinearity_test(ne2[p2_col_model3])"
   ]
  },
  {
   "cell_type": "code",
   "execution_count": null,
   "metadata": {
    "collapsed": false
   },
   "outputs": [],
   "source": [
    "top_vif_cols_1 = ['ANNUAL_RT','FTPTCNT1','PTFTCNT1','EMPL_TYPE_E',\n",
    "                  'EMPL_CLASS_D','EEO1CODE_5','JOB_FUNCTION_PSA','loc_desc_OC']\n",
    "p2_col_model4 = [col for col in p2_col_model3 if not col in top_vif_cols_1]\n",
    "print len(p2_col_model4)\n",
    "p2_col_model4.remove('status')\n",
    "                  \n",
    "#'FULL_PART_TIME_X']"
   ]
  },
  {
   "cell_type": "code",
   "execution_count": null,
   "metadata": {
    "collapsed": false
   },
   "outputs": [],
   "source": [
    "#p2_colin_test_df4 = br.perfect_collinearity_test(ne2[p2_col_model4])"
   ]
  },
  {
   "cell_type": "code",
   "execution_count": null,
   "metadata": {
    "collapsed": false
   },
   "outputs": [],
   "source": [
    "p2_colin_test_df3.hist(bins=30,color='tomato')"
   ]
  },
  {
   "cell_type": "code",
   "execution_count": null,
   "metadata": {
    "collapsed": false
   },
   "outputs": [],
   "source": [
    "p2_colin_test_df4.sort_values(ascending=False)"
   ]
  },
  {
   "cell_type": "code",
   "execution_count": null,
   "metadata": {
    "collapsed": false
   },
   "outputs": [],
   "source": [
    "['Tenure_years' in p2_col_model4]\n",
    "regress_col3 = [col for col in p2_col_model4 if col!='Tenure_years']"
   ]
  },
  {
   "cell_type": "code",
   "execution_count": null,
   "metadata": {
    "collapsed": false
   },
   "outputs": [],
   "source": [
    "%%time\n",
    "# Fit regression model\n",
    "params = {'n_estimators': 300, 'n_jobs': -1, 'oob_score': True}\n",
    "          #'max_depth': 4, 'min_samples_split': 1,\n",
    "          #'learning_rate': 0.01, 'loss': 'ls','n_jobs': -1}\n",
    "fullRFR3 = ensemble.RandomForestRegressor(**params)\n",
    "\n",
    "fullRFR3.fit(ne2build[regress_col3], ne2build.Tenure_years)\n",
    "rfr_tenure_pred = fullRFR3.predict(ne2eval[regress_col3])\n",
    "mse = metrics.mean_squared_error(ne2eval.Tenure_years,rfr_tenure_pred )\n",
    "print(\"MSE: %.4f\" % mse)"
   ]
  },
  {
   "cell_type": "code",
   "execution_count": null,
   "metadata": {
    "collapsed": false
   },
   "outputs": [],
   "source": [
    "plt.scatter(ne2eval.Tenure_years,rfr_tenure_pred,alpha=0.3)\n",
    "plt.xlabel('True Tenure')\n",
    "plt.ylabel('Predicted Tenure')"
   ]
  },
  {
   "cell_type": "code",
   "execution_count": null,
   "metadata": {
    "collapsed": false
   },
   "outputs": [],
   "source": [
    "plotFI(fullRFR3,regress_col3)"
   ]
  },
  {
   "cell_type": "markdown",
   "metadata": {},
   "source": [
    "## now using this info, does a survival model make sense?"
   ]
  },
  {
   "cell_type": "code",
   "execution_count": null,
   "metadata": {
    "collapsed": true
   },
   "outputs": [],
   "source": [
    "sf_model_cols = ['Age_years','SAL1','PERF1','MERIT1','REH_CNT','MIN_RT_ANNUAL','surv_grade_le',\n",
    "                 'MAX_RT_ANNUAL','JOBCODE','EXTFUNC_CNT']#,\n",
    "                 #'FUNC_CNT','TOTAL_RPT_CNT','surv_loc_state_le','DIRECT_RPT_CNT','RELO_STATE_CNT_SFI','SEX','BOX1',#'mar_status',\n",
    "                 #'loc_desc_CLC','FUNC_ID_SFI',#'ETHNIC_GROUP',\n",
    "                 #'DEP_COUNT','SUPVCNT1','surv_job_family_le','DEPTCNT1','HAVE_INS','HUBIND','FTE']"
   ]
  },
  {
   "cell_type": "code",
   "execution_count": null,
   "metadata": {
    "collapsed": true
   },
   "outputs": [],
   "source": [
    "from lifelines import CoxPHFitter\n",
    "cf = CoxPHFitter()"
   ]
  },
  {
   "cell_type": "code",
   "execution_count": null,
   "metadata": {
    "collapsed": false
   },
   "outputs": [],
   "source": [
    "%%time\n",
    "sf_model_cols.append('Tenure_years')\n",
    "b2 = ne2build[sf_model_cols]\n",
    "b2['former']=ne2build['status']\n",
    "cf.fit(b2,'Tenure_years','former')"
   ]
  },
  {
   "cell_type": "code",
   "execution_count": null,
   "metadata": {
    "collapsed": false
   },
   "outputs": [],
   "source": [
    "cf.print_summary()"
   ]
  },
  {
   "cell_type": "code",
   "execution_count": null,
   "metadata": {
    "collapsed": false
   },
   "outputs": [],
   "source": [
    "b2[['Tenure_years','former']].head()"
   ]
  },
  {
   "cell_type": "code",
   "execution_count": null,
   "metadata": {
    "collapsed": false
   },
   "outputs": [],
   "source": [
    "len(b2[(b2['Tenure_years']>6)&(b2['former']==1)])"
   ]
  },
  {
   "cell_type": "code",
   "execution_count": null,
   "metadata": {
    "collapsed": false
   },
   "outputs": [],
   "source": [
    "b2['fiveyr']=0\n",
    "b2.loc[(b2['Tenure_years']<6)&(b2['former']==1),'fiveyr']=1\n"
   ]
  },
  {
   "cell_type": "code",
   "execution_count": null,
   "metadata": {
    "collapsed": false
   },
   "outputs": [],
   "source": [
    "b2.fiveyr.value_counts()"
   ]
  },
  {
   "cell_type": "code",
   "execution_count": null,
   "metadata": {
    "collapsed": false
   },
   "outputs": [],
   "source": [
    "#b2.drop('former',axis=1,inplace=True)\n",
    "b2.head()"
   ]
  },
  {
   "cell_type": "code",
   "execution_count": null,
   "metadata": {
    "collapsed": false
   },
   "outputs": [],
   "source": [
    "cf5 = CoxPHFitter()\n",
    "cf5.fit(b2,'Tenure_years','fiveyr')\n",
    "cf5.print_summary()"
   ]
  },
  {
   "cell_type": "markdown",
   "metadata": {},
   "source": [
    "## work on evaluation"
   ]
  },
  {
   "cell_type": "markdown",
   "metadata": {},
   "source": [
    "### From this I can predict the expcted Separation Age for the hold out Set\n",
    "* e2eval"
   ]
  },
  {
   "cell_type": "code",
   "execution_count": null,
   "metadata": {
    "collapsed": false
   },
   "outputs": [],
   "source": [
    "eval_SepTenure = cf.predict_expectation(ne2eval[sf_model_cols])\n",
    "eval_SepTenure.rename(columns= {0: 'predTenure'},inplace=True)\n",
    "eval_SepTenure['Tenure']=ne2eval['Tenure_years']\n",
    "eval_SepTenure['separated']=ne2eval['status']\n",
    "eval_SepTenure.head()"
   ]
  },
  {
   "cell_type": "code",
   "execution_count": null,
   "metadata": {
    "collapsed": false
   },
   "outputs": [],
   "source": [
    "eval_SepTenure5 = cf5.predict_expectation(ne2eval[sf_model_cols])\n",
    "eval_SepTenure5.rename(columns= {0: 'predTenure'},inplace=True)\n",
    "eval_SepTenure5['Tenure']=ne2eval['Tenure_years']\n",
    "eval_SepTenure5['separated']=ne2eval['status']\n",
    "eval_SepTenure5.head()"
   ]
  },
  {
   "cell_type": "code",
   "execution_count": null,
   "metadata": {
    "collapsed": false
   },
   "outputs": [],
   "source": [
    "eval_SepTenure5[(eval_SepTenure5['Tenure']<6)&(eval_SepTenure5.separated==1)]"
   ]
  },
  {
   "cell_type": "code",
   "execution_count": null,
   "metadata": {
    "collapsed": false
   },
   "outputs": [],
   "source": [
    "eval_SepTenure5[(eval_SepTenure5['Tenure']<6)&(eval_SepTenure5.separated==0)]"
   ]
  },
  {
   "cell_type": "code",
   "execution_count": null,
   "metadata": {
    "collapsed": true
   },
   "outputs": [],
   "source": [
    "%ls"
   ]
  },
  {
   "cell_type": "code",
   "execution_count": null,
   "metadata": {
    "collapsed": false
   },
   "outputs": [],
   "source": [
    "sf_model_cols = ['Age_years','SAL1','PERF1','MERIT1','REH_CNT','MIN_RT_ANNUAL','surv_grade_le',\n",
    "                 'MAX_RT_ANNUAL','JOBCODE','EXTFUNC_CNT',\n",
    "                 'FUNC_CNT','TOTAL_RPT_CNT','surv_loc_state_le','DIRECT_RPT_CNT','RELO_STATE_CNT_SFI','SEX','BOX1',#'mar_status',\n",
    "                 'loc_desc_CLC','FUNC_ID_SFI',#'ETHNIC_GROUP',\n",
    "                 'DEP_COUNT','SUPVCNT1','surv_job_family_le','DEPTCNT1','HAVE_INS','HUBIND','FTE']"
   ]
  },
  {
   "cell_type": "code",
   "execution_count": null,
   "metadata": {
    "collapsed": true
   },
   "outputs": [],
   "source": [
    "%%time\n",
    "cf30 = CoxPHFitter()\n",
    "sf_model_cols.append('Tenure_years')\n",
    "b2 = ne2build[sf_model_cols]\n",
    "b2['former']=ne2build['status']\n",
    "cf30.fit(b2,'Tenure_years','former')"
   ]
  },
  {
   "cell_type": "code",
   "execution_count": null,
   "metadata": {
    "collapsed": true
   },
   "outputs": [],
   "source": [
    "cf30.print_summary()"
   ]
  },
  {
   "cell_type": "markdown",
   "metadata": {
    "collapsed": true
   },
   "source": [
    "# Feb. 10, 2016\n",
    "### look at retirement"
   ]
  },
  {
   "cell_type": "code",
   "execution_count": null,
   "metadata": {
    "collapsed": false
   },
   "outputs": [],
   "source": [
    "print empl1.shape\n",
    "over50 = empl1[empl1.Age_years >= 50].copy()\n",
    "print over50.shape"
   ]
  },
  {
   "cell_type": "markdown",
   "metadata": {},
   "source": [
    "## identify those who have actually retired\n",
    "### What were their 'features' 1,2,3,4,& 5 years prior to retirement?"
   ]
  },
  {
   "cell_type": "code",
   "execution_count": null,
   "metadata": {
    "collapsed": false
   },
   "outputs": [],
   "source": [
    "actual_retirees = empl1[empl1.retired==1].copy()\n",
    "print len(actual_retirees)"
   ]
  },
  {
   "cell_type": "code",
   "execution_count": null,
   "metadata": {
    "collapsed": false
   },
   "outputs": [],
   "source": [
    "len(full_date_range)"
   ]
  },
  {
   "cell_type": "code",
   "execution_count": null,
   "metadata": {
    "collapsed": false
   },
   "outputs": [],
   "source": [
    "ret_surv_cols1"
   ]
  },
  {
   "cell_type": "code",
   "execution_count": null,
   "metadata": {
    "collapsed": false
   },
   "outputs": [],
   "source": [
    "actual_retirees.term_tstmp.dt.year.hist(bins=13)\n",
    "actual_retirees['tyear']= actual_retirees.term_tstmp.dt.year\n",
    "plt.xlabel('year')\n",
    "plt.ylabel('Number of retirees each year')\n",
    "plt.title('Actual Retirees')"
   ]
  },
  {
   "cell_type": "code",
   "execution_count": null,
   "metadata": {
    "collapsed": true
   },
   "outputs": [],
   "source": []
  },
  {
   "cell_type": "code",
   "execution_count": null,
   "metadata": {
    "collapsed": false
   },
   "outputs": [],
   "source": [
    "sns.boxplot(x='tyear',y='Age_years',data=actual_retirees)"
   ]
  },
  {
   "cell_type": "code",
   "execution_count": null,
   "metadata": {
    "collapsed": false
   },
   "outputs": [],
   "source": [
    "sns.boxplot(x='tyear',y='Tenure_years',data=actual_retirees)"
   ]
  },
  {
   "cell_type": "code",
   "execution_count": null,
   "metadata": {
    "collapsed": false
   },
   "outputs": [],
   "source": [
    "sum(over50['SERVICE_DT']!=over50['HIRE_DT'])"
   ]
  },
  {
   "cell_type": "code",
   "execution_count": null,
   "metadata": {
    "collapsed": false
   },
   "outputs": [],
   "source": [
    "#over50[['SERVICE_DT','HIRE_DT']].head()\n",
    "set(actual_retirees.index.tolist())-set(over50.index.tolist()) # good all actual retirees are in the over50 set."
   ]
  },
  {
   "cell_type": "code",
   "execution_count": null,
   "metadata": {
    "collapsed": true
   },
   "outputs": [],
   "source": [
    "ret_surv_cols1 = ['retired','Age_years','Tenure_years','SAL1','MERIT1','PERF1','BOX1','SEX','HAVE_INS','HAVE_DEP']"
   ]
  },
  {
   "cell_type": "code",
   "execution_count": null,
   "metadata": {
    "collapsed": false
   },
   "outputs": [],
   "source": [
    "len(over50[over50.Tenure_years < 5])"
   ]
  },
  {
   "cell_type": "code",
   "execution_count": null,
   "metadata": {
    "collapsed": false
   },
   "outputs": [],
   "source": [
    "over50[(over50.Tenure_years < 5)& (over50.retired==1)][['Age_years','Tenure_years','SERVICE_DT','HIRE_DT','retired']]\n",
    "# these are the cases where they are over 65 and over 1 year of eligibility (2nd rule)"
   ]
  },
  {
   "cell_type": "code",
   "execution_count": null,
   "metadata": {
    "collapsed": false
   },
   "outputs": [],
   "source": [
    "over50[ret_surv_cols1].isnull().any()"
   ]
  },
  {
   "cell_type": "code",
   "execution_count": null,
   "metadata": {
    "collapsed": false
   },
   "outputs": [],
   "source": [
    "# break into evaluation and build sets\n",
    "from sklearn.cross_validation import train_test_split\n",
    "print \"Starting with subset of {0} employees.\".format(len(over50))\n",
    "eval_fraction = 0.20\n",
    "o50build, o50eval = train_test_split(over50,test_size=eval_fraction,random_state = 33843)\n",
    "print \"Evaluation set has {0} employees; training set has {1} employees.\".format(len(o50eval),len(o50build))\n",
    "print \" for training set: \"\n"
   ]
  },
  {
   "cell_type": "code",
   "execution_count": null,
   "metadata": {
    "collapsed": false
   },
   "outputs": [],
   "source": [
    "o50eval.retired.value_counts()"
   ]
  },
  {
   "cell_type": "code",
   "execution_count": null,
   "metadata": {
    "collapsed": false
   },
   "outputs": [],
   "source": [
    "o50build.retired.value_counts()"
   ]
  },
  {
   "cell_type": "code",
   "execution_count": null,
   "metadata": {
    "collapsed": false
   },
   "outputs": [],
   "source": [
    "o50build[ret_surv_cols1].isnull().any()"
   ]
  },
  {
   "cell_type": "markdown",
   "metadata": {},
   "source": [
    "##fix outliers in MERIT1 and PERF1"
   ]
  },
  {
   "cell_type": "code",
   "execution_count": null,
   "metadata": {
    "collapsed": false
   },
   "outputs": [],
   "source": [
    "ret_pipe = Pipeline([('fixout_min', br.FixNumericOutlier(columns_to_fix=['MERIT1','PERF1'],\n",
    "                                                   criteria_coef=('percentile',2),method='lower',fill_with='nearest_value')),\n",
    "                ('impute_mode',br.ImputeData(columns_to_impute=['MERIT1','PERF1']))]\n",
    "               )"
   ]
  },
  {
   "cell_type": "code",
   "execution_count": null,
   "metadata": {
    "collapsed": true
   },
   "outputs": [],
   "source": [
    "o50b = ret_pipe.fit_transform(o50build[ret_surv_cols1],o50build.retired)"
   ]
  },
  {
   "cell_type": "code",
   "execution_count": null,
   "metadata": {
    "collapsed": false
   },
   "outputs": [],
   "source": [
    "o50b[ret_surv_cols1].isnull().any()"
   ]
  },
  {
   "cell_type": "code",
   "execution_count": null,
   "metadata": {
    "collapsed": false
   },
   "outputs": [],
   "source": [
    "sns.distplot(o50b.MERIT1)"
   ]
  },
  {
   "cell_type": "code",
   "execution_count": null,
   "metadata": {
    "collapsed": false
   },
   "outputs": [],
   "source": [
    "o50b[ret_surv_cols1].describe()"
   ]
  },
  {
   "cell_type": "code",
   "execution_count": null,
   "metadata": {
    "collapsed": true
   },
   "outputs": [],
   "source": [
    "from lifelines import AalenAdditiveFitter\n",
    "from lifelines import CoxPHFitter"
   ]
  },
  {
   "cell_type": "code",
   "execution_count": null,
   "metadata": {
    "collapsed": false
   },
   "outputs": [],
   "source": [
    "aaf1 = AalenAdditiveFitter(coef_penalizer=1.0,fit_intercept=True)\n",
    "cf1 = CoxPHFitter(penalizer=1.0)"
   ]
  },
  {
   "cell_type": "code",
   "execution_count": null,
   "metadata": {
    "collapsed": false
   },
   "outputs": [],
   "source": [
    "%%time\n",
    "aaf1.fit(o50b[ret_surv_cols1],'Tenure_years',event_col='retired')"
   ]
  },
  {
   "cell_type": "code",
   "execution_count": null,
   "metadata": {
    "collapsed": false
   },
   "outputs": [],
   "source": [
    "%%time\n",
    "cf1.fit(o50b[ret_surv_cols1],'Tenure_years',event_col='retired')"
   ]
  },
  {
   "cell_type": "markdown",
   "metadata": {},
   "source": [
    "## compare cox and aalen"
   ]
  },
  {
   "cell_type": "code",
   "execution_count": null,
   "metadata": {
    "collapsed": false
   },
   "outputs": [],
   "source": [
    "cf1.print_summary()"
   ]
  },
  {
   "cell_type": "code",
   "execution_count": null,
   "metadata": {
    "collapsed": false
   },
   "outputs": [],
   "source": [
    "from lifelines.utils import concordance_index\n",
    "concordance_index(o50b['Tenure_years'].values,cf1.predict_expectation(o50b[ret_surv_cols1]).values.ravel(),\n",
    "                  o50b['retired'].values.astype(int))"
   ]
  },
  {
   "cell_type": "code",
   "execution_count": null,
   "metadata": {
    "collapsed": false
   },
   "outputs": [],
   "source": [
    "concordance_index(o50b.Tenure_years.values,aaf1.predict_expectation(o50b[ret_surv_cols1]).values.ravel(),\n",
    "                 o50b.retired.values.astype(int))"
   ]
  },
  {
   "cell_type": "code",
   "execution_count": null,
   "metadata": {
    "collapsed": true
   },
   "outputs": [],
   "source": [
    "def return_concordance(df,model,time_col,event_col):\n",
    "    c_index = concordance_index(df[time_col].values,\n",
    "                               model.predict_expectation(df).values.ravel(),\n",
    "                               df[event_col].values.astype(int))\n",
    "    return c_index"
   ]
  },
  {
   "cell_type": "code",
   "execution_count": null,
   "metadata": {
    "collapsed": false
   },
   "outputs": [],
   "source": [
    "test_concordance={}\n",
    "for mdl in [cf1,aaf1]:\n",
    "    my_cvalue=return_concordance(o50e[ret_surv_cols1],mdl,'Tenure_years','retired')\n",
    "    test_concordance[mdl]=my_cvalue\n",
    "print test_concordance"
   ]
  },
  {
   "cell_type": "code",
   "execution_count": null,
   "metadata": {
    "collapsed": false
   },
   "outputs": [],
   "source": [
    "aaf1.plot (columns=['Age_years','SAL1','SEX'], ix=slice(1,15))"
   ]
  },
  {
   "cell_type": "code",
   "execution_count": null,
   "metadata": {
    "collapsed": false
   },
   "outputs": [],
   "source": [
    "## apply pipe to evalset\n",
    "o50e = ret_pipe.fit(o50build[ret_surv_cols1],o50build.retired).transform(o50eval[ret_surv_cols1])"
   ]
  },
  {
   "cell_type": "code",
   "execution_count": null,
   "metadata": {
    "collapsed": false
   },
   "outputs": [],
   "source": [
    "e50_aaf1_psf = aaf1.predict_survival_function(o50e[ret_surv_cols1])\n",
    "e50_cf1_psf = cf1.predict_survival_function(o50e[ret_surv_cols1])"
   ]
  },
  {
   "cell_type": "code",
   "execution_count": null,
   "metadata": {
    "collapsed": false
   },
   "outputs": [],
   "source": [
    "e50_aaf1_psf[e50_aaf1_psf.columns[:5]].plot()"
   ]
  },
  {
   "cell_type": "code",
   "execution_count": null,
   "metadata": {
    "collapsed": false
   },
   "outputs": [],
   "source": [
    "eval_retired_idx = o50e[o50e.retired==1].index.tolist()\n",
    "eval_nret_idx = o50e[o50e.retired==0].index.tolist()"
   ]
  },
  {
   "cell_type": "code",
   "execution_count": null,
   "metadata": {
    "collapsed": false
   },
   "outputs": [],
   "source": [
    "len(eval_retired_idx), len(eval_nret_idx)"
   ]
  },
  {
   "cell_type": "code",
   "execution_count": null,
   "metadata": {
    "collapsed": false
   },
   "outputs": [],
   "source": [
    "e50_aaf1_psf[eval_retired_idx[:5]].plot()\n",
    "plt.scatter(o50e.ix[eval_retired_idx[:5]].Tenure_years,[.5,.5,.5,.5,.5])"
   ]
  },
  {
   "cell_type": "code",
   "execution_count": null,
   "metadata": {
    "collapsed": false
   },
   "outputs": [],
   "source": [
    "e50_cf1_psf[eval_retired_idx[:5]].plot()\n",
    "plt.scatter(o50e.ix[eval_retired_idx[:5]].Tenure_years,[.5,.5,.5,.5,.5])"
   ]
  },
  {
   "cell_type": "code",
   "execution_count": null,
   "metadata": {
    "collapsed": true
   },
   "outputs": [],
   "source": [
    "e50_aaf_expect = aaf1.predict_expectation(o50e[ret_surv_cols1])\n",
    "e50_aaf_med = aaf1.predict_median(o50e[ret_surv_cols1])"
   ]
  },
  {
   "cell_type": "code",
   "execution_count": null,
   "metadata": {
    "collapsed": true
   },
   "outputs": [],
   "source": [
    "e50_cf1_expect = cf1.predict_expectation(o50e[ret_surv_cols1])\n",
    "e50_cf1_median = cf1.predict_median(o50e[ret_surv_cols1])"
   ]
  },
  {
   "cell_type": "code",
   "execution_count": null,
   "metadata": {
    "collapsed": false
   },
   "outputs": [],
   "source": [
    "e50_aaf_expect.rename(columns={0:'aaf1expect'},inplace=True)\n",
    "e50_aaf_med.rename(columns={0.5:'aaf1median'},inplace=True)\n",
    "e50_cf1_expect.rename(columns={0:'cf1expect'},inplace=True)\n",
    "e50_cf1_median.rename(columns={0.5:'cf1median'},inplace=True)\n"
   ]
  },
  {
   "cell_type": "code",
   "execution_count": null,
   "metadata": {
    "collapsed": false
   },
   "outputs": [],
   "source": [
    "e50assess = pd.concat([o50e[['Tenure_years','retired']],e50_aaf_expect,e50_aaf_med,e50_cf1_expect,e50_cf1_median],axis=1)\n",
    "e50assess.shape"
   ]
  },
  {
   "cell_type": "code",
   "execution_count": null,
   "metadata": {
    "collapsed": false
   },
   "outputs": [],
   "source": [
    "concordance_index(e50assess.Tenure_years.values,e50assess.aaf1expect.values.ravel(),e50assess.retired.values.astype(int))"
   ]
  },
  {
   "cell_type": "code",
   "execution_count": null,
   "metadata": {
    "collapsed": false
   },
   "outputs": [],
   "source": [
    "concordance_index(e50assess.Tenure_years.values,e50assess.cf1expect.values.ravel(),e50assess.retired.values.astype(int))"
   ]
  },
  {
   "cell_type": "code",
   "execution_count": null,
   "metadata": {
    "collapsed": false
   },
   "outputs": [],
   "source": [
    "return_concordance(o50e[ret_surv_cols1],cf1,'Tenure_years','retired')"
   ]
  },
  {
   "cell_type": "markdown",
   "metadata": {},
   "source": [
    "### Assess the current set for retirement"
   ]
  },
  {
   "cell_type": "code",
   "execution_count": null,
   "metadata": {
    "collapsed": false
   },
   "outputs": [],
   "source": [
    "current = empl1[empl1.status == 0].copy()\n",
    "len(current)"
   ]
  },
  {
   "cell_type": "code",
   "execution_count": null,
   "metadata": {
    "collapsed": false
   },
   "outputs": [],
   "source": [
    "cover50 = over50[over50.status==0].copy()\n",
    "len(cover50)"
   ]
  },
  {
   "cell_type": "code",
   "execution_count": null,
   "metadata": {
    "collapsed": false
   },
   "outputs": [],
   "source": []
  },
  {
   "cell_type": "code",
   "execution_count": null,
   "metadata": {
    "collapsed": false
   },
   "outputs": [],
   "source": [
    "c50 = ret_pipe.fit(o50build[ret_surv_cols1],o50build.retired).transform(cover50[ret_surv_cols1])"
   ]
  },
  {
   "cell_type": "code",
   "execution_count": null,
   "metadata": {
    "collapsed": false
   },
   "outputs": [],
   "source": [
    "c50psf = cf1.predict_survival_function(c50[ret_surv_cols1])"
   ]
  },
  {
   "cell_type": "code",
   "execution_count": null,
   "metadata": {
    "collapsed": false
   },
   "outputs": [],
   "source": [
    "curr = ret_pipe.fit(o50build[ret_surv_cols1],o50build.retired).transform(current[ret_surv_cols1])\n",
    "curr_psf = cf1.predict_survival_function(curr[ret_surv_cols1])"
   ]
  },
  {
   "cell_type": "code",
   "execution_count": null,
   "metadata": {
    "collapsed": false
   },
   "outputs": [],
   "source": [
    "c50.ix[7]"
   ]
  },
  {
   "cell_type": "code",
   "execution_count": null,
   "metadata": {
    "collapsed": false
   },
   "outputs": [],
   "source": [
    "c50psf.shape"
   ]
  },
  {
   "cell_type": "code",
   "execution_count": null,
   "metadata": {
    "collapsed": false
   },
   "outputs": [],
   "source": [
    "len(c50.Tenure_years.values)"
   ]
  },
  {
   "cell_type": "code",
   "execution_count": null,
   "metadata": {
    "collapsed": false
   },
   "outputs": [],
   "source": [
    "c50psf.T.head()"
   ]
  },
  {
   "cell_type": "code",
   "execution_count": null,
   "metadata": {
    "collapsed": false
   },
   "outputs": [],
   "source": [
    "c50psf.tail()"
   ]
  },
  {
   "cell_type": "code",
   "execution_count": null,
   "metadata": {
    "collapsed": false
   },
   "outputs": [],
   "source": [
    "c50psf[7].ix[40.33:]"
   ]
  },
  {
   "cell_type": "code",
   "execution_count": null,
   "metadata": {
    "collapsed": false
   },
   "outputs": [],
   "source": [
    "c50psf.index.name = 'years'\n",
    "c50psf.reset_index(inplace=True)\n",
    "c50psf.head()"
   ]
  },
  {
   "cell_type": "code",
   "execution_count": null,
   "metadata": {
    "collapsed": false
   },
   "outputs": [],
   "source": [
    "np.where(c50psf.years <= nt)[0][-1], np.where(c50psf.years > nt)[0][0]"
   ]
  },
  {
   "cell_type": "code",
   "execution_count": null,
   "metadata": {
    "collapsed": true
   },
   "outputs": [],
   "source": []
  },
  {
   "cell_type": "code",
   "execution_count": null,
   "metadata": {
    "collapsed": false
   },
   "outputs": [],
   "source": [
    "sf_pred = pd.DataFrame()\n",
    "my_cols = c50psf.columns.tolist()\n",
    "for idx, thistenure in enumerate(c50.Tenure_years.values[:10]):\n",
    "    print c50psf.loc[thistenure,my_cols[idx]], thistenure, idx\n",
    "    for yr in np.arange(1,6):\n",
    "        nt = thistenure+yr\n",
    "        print \"\\t\",yr, nt\n",
    "        print \"\\t\" ,c50psf.iloc[nt:,my_cols[idx]][0]"
   ]
  },
  {
   "cell_type": "code",
   "execution_count": null,
   "metadata": {
    "collapsed": false
   },
   "outputs": [],
   "source": [
    "print c50.ix[7].Tenure_years\n",
    "ten_now = c50.ix[7].Tenure_years\n",
    "1-c50psf[7].ix[ten_now:ten_now+6]#.plot()"
   ]
  },
  {
   "cell_type": "code",
   "execution_count": null,
   "metadata": {
    "collapsed": false
   },
   "outputs": [],
   "source": [
    "def get_survival_prediction(edf,psf, time_col='Age_years', yr_vals=[1,2,3,4,5]):\n",
    "    from scipy import interpolate\n",
    "    import pandas as pd\n",
    "    import numpy as np\n",
    "\n",
    "    pred_col_names = ['proba_'+str(y) for y in yr_vals]\n",
    "    df = pd.DataFrame(index=edf.index, columns=pred_col_names, dtype=float)\n",
    "    print pred_col_names\n",
    "    employees = edf.index.tolist()\n",
    "    #print df.shape, df.index\n",
    "    for employee_id,time_point in enumerate(edf[time_col]):\n",
    "        if employee_id % 5000 ==0 :\n",
    "            print employee_id, employees[employee_id], time_point\n",
    "        age = edf['Age_years']\n",
    "        prob_vals =np.ones((len(yr_vals),))\n",
    "        if age >= 50.0: # only deal with over 50\n",
    "            for idx, year in enumerate(yr_vals):\n",
    "                ck_yr = age+year\n",
    "                #print idx, year, ck_yr\n",
    "                try:\n",
    "                    prior_idx = np.where(psf.years < ck_yr)[0][-1]\n",
    "                    posterior_idx = np.where(psf.years > ck_yr)[0][0]\n",
    "\n",
    "                    x = [psf.ix[prior_idx]['years'], psf.ix[posterior_idx]['years']]\n",
    "                    y = [psf.ix[prior_idx][employee_id+1], psf.ix[posterior_idx][employee_id+1]]\n",
    "                    # there is an extra column in my processing\n",
    "                    # now interpolate these\n",
    "                    y_interp = interpolate.interp1d(x,y)\n",
    "                    proba = y_interp(ck_yr)\n",
    "                    print \"\\t\", proba, idx,employees[employee_id]\n",
    "                except IndexError:\n",
    "                    print \"\\t IE\", proba, idx,employees[employee_id]\n",
    "                    proba = psf.ix[np.where(psf.years == ck_yr)[0]][employees[employee_id+1]]\n",
    "\n",
    "                prob_vals[idx] = proba\n",
    "                print proba\n",
    "\n",
    "        df.loc[edf.index[employee_id]]=prob_vals\n",
    "    df.fillna(1.0,inplace=True)  # fill in missing values with ones\n",
    "    df[df<0] = 0.0  # replace negative probabilities with zero\n",
    "\n",
    "    return 1-df  # convert to probability of retirement"
   ]
  },
  {
   "cell_type": "code",
   "execution_count": null,
   "metadata": {
    "collapsed": false
   },
   "outputs": [],
   "source": [
    "c50psf.head()"
   ]
  },
  {
   "cell_type": "code",
   "execution_count": null,
   "metadata": {
    "collapsed": false
   },
   "outputs": [],
   "source": [
    "curr_psf.index.name='years'\n",
    "curr_psf.reset_index(inplace=True)"
   ]
  },
  {
   "cell_type": "code",
   "execution_count": null,
   "metadata": {
    "collapsed": false
   },
   "outputs": [],
   "source": [
    "curr_psf.shape, curr.shape\n",
    "curr_psf.head()"
   ]
  },
  {
   "cell_type": "code",
   "execution_count": null,
   "metadata": {
    "collapsed": false
   },
   "outputs": [],
   "source": [
    "curr[ret_surv_cols1].ix[78385]"
   ]
  },
  {
   "cell_type": "code",
   "execution_count": null,
   "metadata": {
    "collapsed": true
   },
   "outputs": [],
   "source": []
  },
  {
   "cell_type": "code",
   "execution_count": null,
   "metadata": {
    "collapsed": false
   },
   "outputs": [],
   "source": [
    "test1 = curr[ret_surv_cols1].head(10).copy()\n",
    "\n",
    "tmp_cols = test1.index.tolist()\n",
    "tmp_cols.append('years')\n",
    "test1psf = curr_psf[tmp_cols].copy()\n",
    "test1.shape, test1psf.shape"
   ]
  },
  {
   "cell_type": "code",
   "execution_count": null,
   "metadata": {
    "collapsed": false,
    "scrolled": true
   },
   "outputs": [],
   "source": [
    "get_survival_prediction(test1,test1psf,'Tenure_years')"
   ]
  },
  {
   "cell_type": "code",
   "execution_count": null,
   "metadata": {
    "collapsed": false
   },
   "outputs": [],
   "source": [
    "row[1]"
   ]
  },
  {
   "cell_type": "code",
   "execution_count": null,
   "metadata": {
    "collapsed": false
   },
   "outputs": [],
   "source": [
    "test1.columns.tolist().index('Tenure_years')"
   ]
  },
  {
   "cell_type": "code",
   "execution_count": null,
   "metadata": {
    "collapsed": false
   },
   "outputs": [],
   "source": [
    "test1.head()"
   ]
  },
  {
   "cell_type": "code",
   "execution_count": null,
   "metadata": {
    "collapsed": false
   },
   "outputs": [],
   "source": [
    "curr_psf.years.max()"
   ]
  },
  {
   "cell_type": "code",
   "execution_count": null,
   "metadata": {
    "collapsed": false
   },
   "outputs": [],
   "source": [
    "def get_survival_prediction2(edf,psf, time_col='Age_years', yr_vals=[1,2,3,4,5]):\n",
    "    from scipy import interpolate\n",
    "    import pandas as pd\n",
    "    import numpy as np\n",
    "\n",
    "    pred_col_names = ['proba_'+str(y) for y in yr_vals]\n",
    "    df = pd.DataFrame(index=edf.index, columns=pred_col_names, dtype=float)\n",
    "    print pred_col_names\n",
    "    employee_idx = edf.index.tolist()\n",
    "    emp_cols = edf.columns.tolist()\n",
    "    tcol_idx = emp_cols.index(time_col)+1\n",
    "    age_idx = emp_cols.index('Age_years')+1\n",
    "    #define the maximum survival_time_range\n",
    "    mx_surv_time = psf.years.max()\n",
    "    for employee in edf.itertuples():\n",
    "        my_index = employee[0]\n",
    "        my_age = employee[age_idx]\n",
    "        my_time = employee[tcol_idx]\n",
    "        #print my_index,my_age, my_time\n",
    "        prob_vals = np.ones(len(yr_vals))\n",
    "        if my_index % 5000 ==0 :\n",
    "            print my_index, my_age, my_time\n",
    "        if my_age >= 50.0: # only deal with over 50\n",
    "            for idx, year in enumerate(yr_vals):\n",
    "                ck_yr = my_time+year\n",
    "                if ck_yr>=mx_surv_time:\n",
    "                    proba = psf.iloc[-1].loc[my_index]\n",
    "                else:\n",
    "                    try:\n",
    "                        prior_idx = np.where(psf.years < ck_yr)[0][-1]\n",
    "                        posterior_idx = np.where(psf.years > ck_yr)[0][0]\n",
    "\n",
    "                        x = [psf.loc[prior_idx]['years'], psf.loc[posterior_idx]['years']]\n",
    "                        y = [psf.loc[prior_idx][my_index], psf.loc[posterior_idx][my_index]]\n",
    "                        # there is an extra column in my processing\n",
    "                        # now interpolate these\n",
    "                        y_interp = interpolate.interp1d(x,y)\n",
    "                        proba = y_interp(ck_yr)\n",
    "                        #print \"\\t\", proba, idx,my_index\n",
    "                    except IndexError:\n",
    "                        print \"\\t IE\", proba, idx,my_index\n",
    "                        proba = psf.loc[np.where(psf.years == ck_yr)[0]][my_index]\n",
    "\n",
    "                prob_vals[idx] = proba\n",
    "                \n",
    "\n",
    "        df.loc[my_index]=prob_vals\n",
    "    \n",
    "    df.fillna(1.0,inplace=True)  # fill in missing values with ones\n",
    "    df[df<0] = 0.0  # replace negative probabilities with zero\n",
    "\n",
    "    return 1-df  # convert to probability of retirement"
   ]
  },
  {
   "cell_type": "code",
   "execution_count": null,
   "metadata": {
    "collapsed": false
   },
   "outputs": [],
   "source": [
    "get_survival_prediction2(test1,test1psf,time_col='Tenure_years')"
   ]
  },
  {
   "cell_type": "code",
   "execution_count": null,
   "metadata": {
    "collapsed": false
   },
   "outputs": [],
   "source": [
    "plt.plot(curr_psf.years,curr_psf.loc[:,134185])\n",
    "plt.scatter(curr.loc[134185,'Tenure_years'],0.5)"
   ]
  },
  {
   "cell_type": "code",
   "execution_count": null,
   "metadata": {
    "collapsed": false
   },
   "outputs": [],
   "source": [
    "curr.index[-5:]"
   ]
  },
  {
   "cell_type": "code",
   "execution_count": null,
   "metadata": {
    "collapsed": false
   },
   "outputs": [],
   "source": [
    "curr.loc[78385]"
   ]
  },
  {
   "cell_type": "code",
   "execution_count": null,
   "metadata": {
    "collapsed": true
   },
   "outputs": [],
   "source": [
    "from scipy import interpolate"
   ]
  },
  {
   "cell_type": "code",
   "execution_count": null,
   "metadata": {
    "collapsed": true
   },
   "outputs": [],
   "source": [
    "  \"\"\"\n",
    "        \n",
    "                    #print \"\\t\", proba, idx,my_index\n",
    "        #except IndexError:\n",
    "        \"\"\"\n",
    "        #   proba = curr_psf.loc[np.where(curr_psf.years == ck_yr)[0]][my_index]\n",
    "        #print \"\\t IE\", proba, idx,my_index, ck_yr"
   ]
  },
  {
   "cell_type": "code",
   "execution_count": null,
   "metadata": {
    "collapsed": false
   },
   "outputs": [],
   "source": [
    "yr_vals = [1,2,3,4,5]\n",
    "my_time = 58.040891\n",
    "my_index = 78385\n",
    "for idx, year in enumerate(yr_vals):\n",
    "    ck_yr = my_time+year\n",
    "    try:\n",
    "        prior_idx = np.where(curr_psf.years < ck_yr)[0][-1]\n",
    "        posterior_idx = np.where(curr_psf.years > ck_yr)[0][0]\n",
    "\n",
    "        x = [curr_psf.loc[prior_idx]['years'], curr_psf.loc[posterior_idx]['years']]\n",
    "        y = [curr_psf.loc[prior_idx][my_index], curr_psf.loc[posterior_idx][my_index]]\n",
    "                    # there is an extra column in my processing\n",
    "                    # now interpolate these\n",
    "        y_interp = interpolate.interp1d(x,y)\n",
    "        proba = y_interp(ck_yr)\n",
    "        print proba, idx, my_index\n",
    "    except IndexError:    \n",
    "        #proba = curr_psf.loc[np.where(curr_psf.years == ck_yr)[0]][my_index]\n",
    "    print proba,ck_yr,idx"
   ]
  },
  {
   "cell_type": "code",
   "execution_count": null,
   "metadata": {
    "collapsed": false
   },
   "outputs": [],
   "source": [
    "curr_psf.iloc[-1].loc[788]"
   ]
  },
  {
   "cell_type": "code",
   "execution_count": null,
   "metadata": {
    "collapsed": false
   },
   "outputs": [],
   "source": [
    "curr_psf.years.max()"
   ]
  },
  {
   "cell_type": "code",
   "execution_count": null,
   "metadata": {
    "collapsed": false
   },
   "outputs": [],
   "source": [
    "curr_psf[curr_psf.years >=62.04]#.loc[:,['years',78385]]"
   ]
  },
  {
   "cell_type": "code",
   "execution_count": null,
   "metadata": {
    "collapsed": false,
    "scrolled": true
   },
   "outputs": [],
   "source": [
    "%%time\n",
    "surv_prob_cf1 = get_survival_prediction2(curr[ret_surv_cols1],curr_psf,time_col='Tenure_years')"
   ]
  },
  {
   "cell_type": "code",
   "execution_count": null,
   "metadata": {
    "collapsed": false
   },
   "outputs": [],
   "source": [
    "surv_prob_cf1.head()"
   ]
  },
  {
   "cell_type": "code",
   "execution_count": null,
   "metadata": {
    "collapsed": false
   },
   "outputs": [],
   "source": [
    "surv_prob_cf1.sum(axis=0)"
   ]
  },
  {
   "cell_type": "code",
   "execution_count": null,
   "metadata": {
    "collapsed": false
   },
   "outputs": [],
   "source": [
    "surv_prob_cf1.head()"
   ]
  },
  {
   "cell_type": "code",
   "execution_count": null,
   "metadata": {
    "collapsed": false
   },
   "outputs": [],
   "source": [
    "(surv_prob_cf1>=0.5).values.astype(int).sum(axis=0)"
   ]
  },
  {
   "cell_type": "code",
   "execution_count": null,
   "metadata": {
    "collapsed": false
   },
   "outputs": [],
   "source": [
    "sns.distplot(surv_prob_cf1.proba_1)"
   ]
  },
  {
   "cell_type": "code",
   "execution_count": null,
   "metadata": {
    "collapsed": false
   },
   "outputs": [],
   "source": [
    "sns.distplot(surv_prob_cf1.ix[cover50.index].proba_1)"
   ]
  },
  {
   "cell_type": "code",
   "execution_count": null,
   "metadata": {
    "collapsed": false
   },
   "outputs": [],
   "source": [
    "sns.distplot(surv_prob_cf1.ix[cover50.index].proba_5)"
   ]
  },
  {
   "cell_type": "code",
   "execution_count": null,
   "metadata": {
    "collapsed": false
   },
   "outputs": [],
   "source": [
    "e50_cf1_psf.reset_index(inplace=True)\n",
    "e50_cf1_psf.head()"
   ]
  },
  {
   "cell_type": "code",
   "execution_count": null,
   "metadata": {
    "collapsed": false
   },
   "outputs": [],
   "source": [
    "eval_surv_prob_cf1 = get_survival_prediction2(o50e[ret_surv_cols1],e50_cf1_psf,time_col='Tenure_years')"
   ]
  },
  {
   "cell_type": "code",
   "execution_count": null,
   "metadata": {
    "collapsed": false
   },
   "outputs": [],
   "source": [
    "eval_surv_prob_cf1[['Tenure_years','retired']]=o50e[['Tenure_years','retired']]\n",
    "eval_surv_prob_cf1.head()"
   ]
  },
  {
   "cell_type": "code",
   "execution_count": null,
   "metadata": {
    "collapsed": false
   },
   "outputs": [],
   "source": [
    "sns.distplot(eval_surv_prob_cf1[eval_surv_prob_cf1.retired==1].proba_1,label='retired')\n",
    "sns.distplot(eval_surv_prob_cf1[eval_surv_prob_cf1.retired==0].proba_1,label='not_retired')\n",
    "plt.legend()"
   ]
  },
  {
   "cell_type": "code",
   "execution_count": null,
   "metadata": {
    "collapsed": false
   },
   "outputs": [],
   "source": [
    "sns.distplot(eval_surv_prob_cf1[eval_surv_prob_cf1.retired==1].proba_5,label='retired')\n",
    "sns.distplot(eval_surv_prob_cf1[eval_surv_prob_cf1.retired==0].proba_5,label='not_retired')\n",
    "plt.legend()"
   ]
  },
  {
   "cell_type": "code",
   "execution_count": null,
   "metadata": {
    "collapsed": false
   },
   "outputs": [],
   "source": [
    "eval_surv_prob_cf1.sum(axis=0)"
   ]
  },
  {
   "cell_type": "code",
   "execution_count": null,
   "metadata": {
    "collapsed": false
   },
   "outputs": [],
   "source": [
    "for ycol in ['proba_1','proba_2','proba_3','proba_4','proba_5']:\n",
    "    \n",
    "    sns.boxplot(x='retired',y=ycol,data=eval_surv_prob_cf1)"
   ]
  },
  {
   "cell_type": "code",
   "execution_count": null,
   "metadata": {
    "collapsed": false
   },
   "outputs": [],
   "source": [
    "eval_surv_prob_cf1.head()"
   ]
  },
  {
   "cell_type": "code",
   "execution_count": null,
   "metadata": {
    "collapsed": false
   },
   "outputs": [],
   "source": [
    "(eval_surv_prob_cf1[['proba_1','proba_2','proba_3','proba_4','proba_5']]+[0.5,0.5,0.5,0.5,0.5]).values.astype(int).sum(axis=0)"
   ]
  },
  {
   "cell_type": "code",
   "execution_count": null,
   "metadata": {
    "collapsed": false
   },
   "outputs": [],
   "source": [
    "(eval_surv_prob_cf1[['proba_1','proba_2','proba_3','proba_4','proba_5']]+[0.5,0.5,0.5,0.5,0.5]).values.astype(int)==1"
   ]
  },
  {
   "cell_type": "code",
   "execution_count": null,
   "metadata": {
    "collapsed": false
   },
   "outputs": [],
   "source": [
    "eval_surv_prob_cf1[eval_surv_prob_cf1.proba_5>=0.5]['retired'].value_counts()"
   ]
  },
  {
   "cell_type": "code",
   "execution_count": null,
   "metadata": {
    "collapsed": false
   },
   "outputs": [],
   "source": [
    "eval_surv_prob_cf1[eval_surv_prob_cf1.proba_5<0.5]['retired'].value_counts()"
   ]
  },
  {
   "cell_type": "code",
   "execution_count": null,
   "metadata": {
    "collapsed": false
   },
   "outputs": [],
   "source": [
    "(eval_surv_prob_cf1[['proba_1','proba_2','proba_3','proba_4','proba_5']]>=0.5).values.astype(int).sum(axis=0)"
   ]
  },
  {
   "cell_type": "markdown",
   "metadata": {},
   "source": [
    "### save this model"
   ]
  },
  {
   "cell_type": "code",
   "execution_count": null,
   "metadata": {
    "collapsed": false,
    "scrolled": true
   },
   "outputs": [],
   "source": [
    "%pwd"
   ]
  },
  {
   "cell_type": "code",
   "execution_count": null,
   "metadata": {
    "collapsed": false
   },
   "outputs": [],
   "source": [
    "os.chdir('../proc')\n"
   ]
  },
  {
   "cell_type": "code",
   "execution_count": null,
   "metadata": {
    "collapsed": false
   },
   "outputs": [],
   "source": [
    "%ls"
   ]
  },
  {
   "cell_type": "code",
   "execution_count": null,
   "metadata": {
    "collapsed": true
   },
   "outputs": [],
   "source": []
  },
  {
   "cell_type": "markdown",
   "metadata": {},
   "source": [
    "## assess the model above to find best offsets"
   ]
  },
  {
   "cell_type": "code",
   "execution_count": null,
   "metadata": {
    "collapsed": true
   },
   "outputs": [],
   "source": [
    "def find_max_f1_value(ytrue,ypred):\n",
    "    scores = []\n",
    "    offsets = []\n",
    "    # stage 1:\n",
    "    for offset in np.arange(0,10)/float(10):\n",
    "        score = metrics.f1_score(ytrue,map(np.int,ypred+offset))\n",
    "        scores.append(score)\n",
    "        offsets.append(offset)\n",
    "    # find the max\n",
    "    mxscore = max(scores)\n",
    "    mx_idx = scores.index(mxscore)\n",
    "    #now offset below and above\n",
    "    if mx_idx == 0:\n",
    "        for offset in np.arange(0,16)/float(100):\n",
    "            offset+=0.0\n",
    "            score = metrics.f1_score(ytrue,map(np.int,ypred+offset))\n",
    "            scores.append(score)\n",
    "            offsets.append(offset)\n",
    "    elif mx_idx == 9:\n",
    "        for offset in np.arange(0,21)/float(100):\n",
    "            offset+=0.8\n",
    "            score = metrics.f1_score(ytrue,map(np.int,ypred+offset))\n",
    "            scores.append(score)\n",
    "            offsets.append(offset)\n",
    "    else:\n",
    "        base_offset = offsets[mx_idx-1]\n",
    "        for offset in np.arange(0,21)/float(100):\n",
    "            offset+=base_offset\n",
    "            score = metrics.f1_score(ytrue,map(np.int,ypred+offset))\n",
    "            scores.append(score)\n",
    "            offsets.append(offset)\n",
    "            \n",
    "    #if m\n",
    "    #for offset in np.arange(0,20)/float(100):\n",
    "    #    offset+=0.6\n",
    "    #\n",
    "    #print offset,\":: \", score\n",
    "    #\n",
    "    #mcc_5_offsets.append(offset)\n",
    "    plt.scatter(offsets,scores,color='midnightblue')\n",
    "    plt.xlabel('offset value')\n",
    "    plt.ylabel('F1 score')\n",
    "    \n",
    "    mxmxscore = max(scores)\n",
    "    mxmx_idx = scores.index(mxmxscore)\n",
    "    print mxmxscore, offsets[mxmx_idx]\n",
    "    #return mcc_scores, mcc_offsets\n",
    "    return offsets[mxmx_idx]\n"
   ]
  },
  {
   "cell_type": "code",
   "execution_count": null,
   "metadata": {
    "collapsed": false
   },
   "outputs": [],
   "source": [
    "eval_surv_prob_cf1.head()"
   ]
  },
  {
   "cell_type": "code",
   "execution_count": null,
   "metadata": {
    "collapsed": false
   },
   "outputs": [],
   "source": [
    "\n",
    "ret_off1f = find_max_f1_value(eval_surv_prob_cf1.retired,eval_surv_prob_cf1.proba_1)"
   ]
  },
  {
   "cell_type": "code",
   "execution_count": null,
   "metadata": {
    "collapsed": false
   },
   "outputs": [],
   "source": [
    "ret_off5f = find_max_f1_value(eval_surv_prob_cf1.retired,eval_surv_prob_cf1.proba_5)"
   ]
  },
  {
   "cell_type": "code",
   "execution_count": null,
   "metadata": {
    "collapsed": false
   },
   "outputs": [],
   "source": [
    "ret_offsets = [ret_off1f,ret_off2f,ret_off3f,ret_off4f,ret_off5f]\n",
    "(eval_surv_prob_cf1[['proba_1','proba_2','proba_3','proba_4','proba_5']]+ret_offsets).values.astype(int).sum(axis=0)"
   ]
  },
  {
   "cell_type": "code",
   "execution_count": null,
   "metadata": {
    "collapsed": false
   },
   "outputs": [],
   "source": [
    "ret_offsets = [0.1,ret_off2f,ret_off3f,ret_off4f,ret_off5f]\n",
    "(eval_surv_prob_cf1[['proba_1','proba_2','proba_3','proba_4','proba_5']]+ret_offsets).values.astype(int).sum(axis=0)"
   ]
  },
  {
   "cell_type": "code",
   "execution_count": null,
   "metadata": {
    "collapsed": false
   },
   "outputs": [],
   "source": [
    "e50assess.head()"
   ]
  },
  {
   "cell_type": "code",
   "execution_count": null,
   "metadata": {
    "collapsed": false
   },
   "outputs": [],
   "source": [
    "plot_conf_matrix(eval_surv_prob_cf1.retired,map(np.int,eval_surv_prob_cf1.proba_5+0.81),normed=False)"
   ]
  },
  {
   "cell_type": "code",
   "execution_count": null,
   "metadata": {
    "collapsed": false
   },
   "outputs": [],
   "source": [
    "plot_conf_matrix(eval_surv_prob_cf1.retired,map(np.int,eval_surv_prob_cf1.proba_5+0.5),normed=False)"
   ]
  },
  {
   "cell_type": "code",
   "execution_count": null,
   "metadata": {
    "collapsed": false
   },
   "outputs": [],
   "source": [
    "eval_surv_prob_cf1.retired.value_counts()"
   ]
  },
  {
   "cell_type": "code",
   "execution_count": null,
   "metadata": {
    "collapsed": false
   },
   "outputs": [],
   "source": [
    "plot_conf_matrix(eval_surv_prob_cf1.retired,map(np.int,eval_surv_prob_cf1.proba_5+0.78),normed=False)"
   ]
  },
  {
   "cell_type": "code",
   "execution_count": null,
   "metadata": {
    "collapsed": false
   },
   "outputs": [],
   "source": [
    "def find_max_mcc_value(ytrue,ypred):\n",
    "    mcc_scores = []\n",
    "    mcc_offsets = []\n",
    "    # stage 1:\n",
    "    for offset in np.arange(0,10)/float(10):\n",
    "        score = metrics.matthews_corrcoef(ytrue,map(np.int,ypred+offset))\n",
    "        mcc_scores.append(score)\n",
    "        mcc_offsets.append(offset)\n",
    "    # find the max\n",
    "    mxscore = max(mcc_scores)\n",
    "    mx_idx = mcc_scores.index(mxscore)\n",
    "    #now offset below and above\n",
    "    if mx_idx == 0:\n",
    "        for offset in np.arange(0,11)/float(100):\n",
    "            offset+=0.0\n",
    "            score = metrics.matthews_corrcoef(ytrue,map(np.int,ypred+offset))\n",
    "            mcc_scores.append(score)\n",
    "            mcc_offsets.append(offset)\n",
    "    elif mx_idx == 9:\n",
    "        for offset in np.arange(0,11)/float(100):\n",
    "            offset+=0.9\n",
    "            score = metrics.matthews_corrcoef(ytrue,map(np.int,ypred+offset))\n",
    "            mcc_scores.append(score)\n",
    "            mcc_offsets.append(offset)\n",
    "    else:\n",
    "        base_offset = mcc_offsets[mx_idx-1]\n",
    "        for offset in np.arange(0,21)/float(100):\n",
    "            offset+=base_offset\n",
    "            score = metrics.matthews_corrcoef(ytrue,map(np.int,ypred+offset))\n",
    "            mcc_scores.append(score)\n",
    "            mcc_offsets.append(offset)\n",
    "            \n",
    "    #if m\n",
    "    #for offset in np.arange(0,20)/float(100):\n",
    "    #    offset+=0.6\n",
    "    #\n",
    "    #print offset,\":: \", score\n",
    "    #\n",
    "    #mcc_5_offsets.append(offset)\n",
    "    plt.scatter(mcc_offsets,mcc_scores)\n",
    "    plt.xlabel('offset value')\n",
    "    plt.ylabel('mcc score')\n",
    "    \n",
    "    mxmxscore = max(mcc_scores)\n",
    "    mxmx_idx = mcc_scores.index(mxmxscore)\n",
    "    print mxmxscore, mcc_offsets[mxmx_idx]\n",
    "    #return mcc_scores, mcc_offsets\n",
    "    return mcc_offsets[mxmx_idx]"
   ]
  },
  {
   "cell_type": "code",
   "execution_count": null,
   "metadata": {
    "collapsed": false
   },
   "outputs": [],
   "source": [
    "ret_off5mcc = find_max_mcc_value(eval_surv_prob_cf1.retired,eval_surv_prob_cf1.proba_5)"
   ]
  },
  {
   "cell_type": "code",
   "execution_count": null,
   "metadata": {
    "collapsed": true
   },
   "outputs": [],
   "source": []
  },
  {
   "cell_type": "markdown",
   "metadata": {},
   "source": [
    "## Reconsider a model for separation\n",
    "Feb. 11, 2016"
   ]
  },
  {
   "cell_type": "code",
   "execution_count": null,
   "metadata": {
    "collapsed": false
   },
   "outputs": [],
   "source": [
    "len(ne2build),len(ne2eval)"
   ]
  },
  {
   "cell_type": "code",
   "execution_count": null,
   "metadata": {
    "collapsed": false
   },
   "outputs": [],
   "source": [
    "sns.distplot(ne2build.EXTFUNC_CNT)\n",
    "sns.distplot(ne2build.FUNC_CNT)"
   ]
  },
  {
   "cell_type": "markdown",
   "metadata": {
    "collapsed": false
   },
   "source": [
    "# Feb. 15, 2016"
   ]
  },
  {
   "cell_type": "code",
   "execution_count": 50,
   "metadata": {
    "collapsed": false
   },
   "outputs": [],
   "source": [
    "sep_surv_cols1 = ['status','Age_years','Tenure_years','SAL1','MERIT1','PERF1','BOX1','SEX','HAVE_INS','HAVE_DEP',\n",
    "                  'DEPTCNT1','EXTFUNC_CNT','FUNC_CNT','REMOTE']"
   ]
  },
  {
   "cell_type": "code",
   "execution_count": 37,
   "metadata": {
    "collapsed": false
   },
   "outputs": [
    {
     "data": {
      "text/plain": [
       "119326"
      ]
     },
     "execution_count": 37,
     "metadata": {},
     "output_type": "execute_result"
    }
   ],
   "source": [
    "nr_em = empl1[empl1.retired==0].copy() \n",
    "len(nr_em)"
   ]
  },
  {
   "cell_type": "code",
   "execution_count": 38,
   "metadata": {
    "collapsed": false
   },
   "outputs": [
    {
     "name": "stdout",
     "output_type": "stream",
     "text": [
      "Starting with subset of 119326 employees.\n",
      "Evaluation set has 23866 employees; training set has 95460 employees.\n"
     ]
    }
   ],
   "source": [
    "## break this into a test/train \n",
    "# break into evaluation and build sets\n",
    "print \"Starting with subset of {0} employees.\".format(len(nr_em))\n",
    "eval_fraction = 0.20\n",
    "ne2build, ne2eval = cross_validation.train_test_split(nr_em,test_size=eval_fraction,random_state = 60333)\n",
    "print \"Evaluation set has {0} employees; training set has {1} employees.\".format(len(ne2eval),len(ne2build))"
   ]
  },
  {
   "cell_type": "code",
   "execution_count": 39,
   "metadata": {
    "collapsed": false
   },
   "outputs": [
    {
     "name": "stdout",
     "output_type": "stream",
     "text": [
      "118\n"
     ]
    }
   ],
   "source": [
    "print len(model_cols)"
   ]
  },
  {
   "cell_type": "markdown",
   "metadata": {},
   "source": [
    "###  cope with with historical cols"
   ]
  },
  {
   "cell_type": "code",
   "execution_count": 40,
   "metadata": {
    "collapsed": false
   },
   "outputs": [
    {
     "name": "stdout",
     "output_type": "stream",
     "text": [
      "['ADDRCNT10', 'DEPTCNT10', 'EFUNCCNT10', 'FLOORCNT10', 'FTPTCNT10', 'FULLPART10', 'FUNCCNT10', 'GRADECNT10', 'JOBCNT10', 'LOCCNT10', 'LOCSTCNT10', 'PARTFULL10', 'PTFTCNT10', 'SUPVCNT10']\n",
      "['CUR_DEPT_MOS', 'CUR_EFUNC_MOS', 'CUR_FUNC_MOS', 'CUR_GRADE_MOS', 'CUR_JOB_MOS', 'CUR_LOC_MOS', 'TELE_MOS']\n"
     ]
    },
    {
     "data": {
      "text/plain": [
       "(14, 14, 14, 7)"
      ]
     },
     "execution_count": 40,
     "metadata": {},
     "output_type": "execute_result"
    }
   ],
   "source": [
    "historical_cols10 = [col for col in model_cols if col.endswith('10')]\n",
    "mos_cols = [col for col in model_cols if col.endswith('MOS')]\n",
    "print historical_cols10\n",
    "historical_cols5 = [col for col in model_cols if col.endswith('5')]#[:-4]\n",
    "historical_cols3 =[col for col in model_cols if col.endswith('3')]#[:-4]\n",
    "\n",
    "print mos_cols\n",
    "len(historical_cols3), len(historical_cols5),len(historical_cols10), len(mos_cols)"
   ]
  },
  {
   "cell_type": "code",
   "execution_count": 41,
   "metadata": {
    "collapsed": false
   },
   "outputs": [
    {
     "name": "stdout",
     "output_type": "stream",
     "text": [
      "42\n"
     ]
    }
   ],
   "source": [
    "historical_cols = []\n",
    "historical_cols+=historical_cols3\n",
    "historical_cols+=historical_cols5\n",
    "historical_cols+=historical_cols10\n",
    "#historical_cols+=mos_cols\n",
    "print len(historical_cols)"
   ]
  },
  {
   "cell_type": "code",
   "execution_count": 42,
   "metadata": {
    "collapsed": false
   },
   "outputs": [
    {
     "name": "stdout",
     "output_type": "stream",
     "text": [
      "76\n"
     ]
    }
   ],
   "source": [
    "model_cols2 = [col for col in model_cols if col not in historical_cols]\n",
    "print len(model_cols2)"
   ]
  },
  {
   "cell_type": "markdown",
   "metadata": {},
   "source": [
    "### remove the timestamps"
   ]
  },
  {
   "cell_type": "code",
   "execution_count": 43,
   "metadata": {
    "collapsed": false
   },
   "outputs": [
    {
     "name": "stdout",
     "output_type": "stream",
     "text": [
      "72\n"
     ]
    }
   ],
   "source": [
    "model_cols2 = [col for col in  model_cols2 if not col.endswith('tstmp')]\n",
    "model_cols2.remove('hire_age')\n",
    "print len(model_cols2)"
   ]
  },
  {
   "cell_type": "code",
   "execution_count": 44,
   "metadata": {
    "collapsed": false
   },
   "outputs": [
    {
     "data": {
      "text/plain": [
       "(['GRADE', 'JOB_FAMILY', 'LOC_STATE'],\n",
       " ['EMPL_TYPE',\n",
       "  'FULL_PART_TIME',\n",
       "  'SHIFT',\n",
       "  'EMPL_CLASS',\n",
       "  'EEO1CODE',\n",
       "  'JOB_FUNCTION',\n",
       "  'loc_desc',\n",
       "  'COMPANY',\n",
       "  'DIVISION_CODE_SFI'],\n",
       " ['MERIT1', 'PERF1'])"
      ]
     },
     "execution_count": 44,
     "metadata": {},
     "output_type": "execute_result"
    }
   ],
   "source": [
    "my_label_encode_cols, cat_cols_to_dummy, missing_cols"
   ]
  },
  {
   "cell_type": "code",
   "execution_count": 45,
   "metadata": {
    "collapsed": true
   },
   "outputs": [],
   "source": [
    "#cate_list = br.get_categorical(X)\n",
    "# need to break the categorical into types\n",
    "pipe = Pipeline([(\"null\", br.RemoveAllNull()),  \n",
    "                 (\"label_encode\",br.LabelEncodeColumn(my_label_encode_cols)),\n",
    "                 (\"dummy_encode\", br.DummyEncodeColumn(cat_cols_to_dummy)),\n",
    "                 #(\"survival_encode\",SurvivalEncodeColumn(my_label_encode_cols[:5],method='median')),\n",
    "                 #(\"cat\", br.ConvertCategorical(cate_list, rows_to_scan=0.3)),\n",
    "                 (\"fixout_min\",br.FixNumericOutlier(columns_to_fix=['SAL1','MIN_RT_ANNUAL','MERIT1','PERF1'],\n",
    "                                                    criteria_coef=('percentile',2),\n",
    "                                                   method='lower',fill_with='nearest_value')),\n",
    "                  (\"fixout_max\",br.FixNumericOutlier(columns_to_fix=['MAX_RT_ANNUAL'],criteria_coef=('percentile',2),\n",
    "                                                   method='both',fill_with='nearest_value')),\n",
    "                 #(\"fill_missingzero\",FillMissingValue(columns_to_fix=['BOX1','FUNC_CNT','EXTFUNC_CNT','TOTAL_RPT_CNT','DIRECT_RPT_CNT'],fill_value=0)),\n",
    "                 (\"imp_mode\",br.ImputeData(columns_to_impute=missing_cols,rows_to_scan=0.8))])\n",
    "                 "
   ]
  },
  {
   "cell_type": "code",
   "execution_count": 46,
   "metadata": {
    "collapsed": true
   },
   "outputs": [],
   "source": [
    "ne2b = pipe.fit_transform(ne2build[model_cols2],ne2build.status)\n",
    "ne2e = pipe.fit(ne2build[model_cols2],ne2build.status).transform(ne2eval[model_cols2])"
   ]
  },
  {
   "cell_type": "code",
   "execution_count": 47,
   "metadata": {
    "collapsed": false
   },
   "outputs": [
    {
     "data": {
      "text/plain": [
       "0"
      ]
     },
     "execution_count": 47,
     "metadata": {},
     "output_type": "execute_result"
    }
   ],
   "source": [
    "#ne2b[sep_surv_cols1].isnull().any()\n",
    "ne2b.isnull().any().sum()"
   ]
  },
  {
   "cell_type": "code",
   "execution_count": 48,
   "metadata": {
    "collapsed": false
   },
   "outputs": [
    {
     "data": {
      "text/plain": [
       "135"
      ]
     },
     "execution_count": 48,
     "metadata": {},
     "output_type": "execute_result"
    }
   ],
   "source": [
    "transformed_cols2 = ne2b.columns.tolist()\n",
    "len(transformed_cols2)"
   ]
  },
  {
   "cell_type": "code",
   "execution_count": 51,
   "metadata": {
    "collapsed": false
   },
   "outputs": [
    {
     "name": "stdout",
     "output_type": "stream",
     "text": [
      "14\n",
      "17\n"
     ]
    }
   ],
   "source": [
    "sep_surv_cols2 = [scol for scol in sep_surv_cols1]\n",
    "print len(sep_surv_cols2)\n",
    "sep_surv_cols2.append('DIRECT_RPT_CNT')\n",
    "sep_surv_cols2.append('HUBIND')\n",
    "sep_surv_cols2.append('REH_CNT')\n",
    "#sep_surv_cols2.append('FULL_PART_TIME_X')\n",
    "print len(sep_surv_cols2)"
   ]
  },
  {
   "cell_type": "code",
   "execution_count": 77,
   "metadata": {
    "collapsed": false
   },
   "outputs": [
    {
     "name": "stderr",
     "output_type": "stream",
     "text": [
      "/opt/anaconda/2.3.0/lib/python2.7/site-packages/lifelines/utils/__init__.py:468: FutureWarning: sort(columns=....) is deprecated, use sort_values(by=.....)\n",
      "  df = df.reindex(np.random.permutation(df.index)).sort(event_col)\n",
      "/opt/anaconda/2.3.0/lib/python2.7/site-packages/lifelines/utils/__init__.py:473: FutureWarning: using '-' to provide set differences with Indexes is deprecated, use .difference()\n",
      "  testing_columns = df.columns - [duration_col, event_col]\n",
      "/opt/anaconda/2.3.0/lib/python2.7/site-packages/lifelines/fitters/coxph_fitter.py:285: FutureWarning: sort(columns=....) is deprecated, use sort_values(by=.....)\n",
      "  df.sort(duration_col, inplace=True)\n"
     ]
    },
    {
     "name": "stdout",
     "output_type": "stream",
     "text": [
      "CPU times: user 4min 10s, sys: 3min 15s, total: 7min 25s\n",
      "Wall time: 4min 6s\n"
     ]
    }
   ],
   "source": [
    "%%time\n",
    "#sep_surv_pipe = Pipeline([('fixout_min', br.FixNumericOutlier(columns_to_fix=['MERIT1','PERF1'],\n",
    "#                                                   criteria_coef=('percentile',2),method='lower',fill_with='nearest_value')),\n",
    "#                ('impute_mode',br.ImputeData(columns_to_impute=['MERIT1','PERF1']))]\n",
    "#               )\n",
    "from lifelines import CoxPHFitter\n",
    "from lifelines.utils import k_fold_cross_validation\n",
    "s_cf2 = CoxPHFitter(penalizer=1.0)\n",
    "xfold5_scores2 =  k_fold_cross_validation(s_cf2, ne2b[sep_surv_cols2], 'Tenure_years', event_col='status', k=5)#,show_progress=True)"
   ]
  },
  {
   "cell_type": "code",
   "execution_count": 78,
   "metadata": {
    "collapsed": false
   },
   "outputs": [
    {
     "data": {
      "text/plain": [
       "[0.88631524918798466,\n",
       " 0.88607897909802191,\n",
       " 0.88828609304563055,\n",
       " 0.88576858008372161,\n",
       " 0.88647404294591814]"
      ]
     },
     "execution_count": 78,
     "metadata": {},
     "output_type": "execute_result"
    }
   ],
   "source": [
    "xfold5_scores2"
   ]
  },
  {
   "cell_type": "code",
   "execution_count": 79,
   "metadata": {
    "collapsed": false
   },
   "outputs": [
    {
     "name": "stdout",
     "output_type": "stream",
     "text": [
      "n=76368, number of events=31927\n",
      "\n",
      "                     coef  exp(coef)  se(coef)          z          p  lower 0.95  upper 0.95     \n",
      "Age_years      -9.544e-01  3.850e-01 1.020e-02 -9.356e+01  0.000e+00  -9.744e-01  -9.344e-01  ***\n",
      "SAL1           -1.043e+00  3.525e-01 1.296e-02 -8.045e+01  0.000e+00  -1.068e+00  -1.017e+00  ***\n",
      "MERIT1          2.496e-01  1.283e+00 5.614e-03  4.445e+01  0.000e+00   2.386e-01   2.606e-01  ***\n",
      "PERF1          -8.442e-02  9.190e-01 1.225e-02 -6.891e+00  5.542e-12  -1.084e-01  -6.041e-02  ***\n",
      "BOX1           -4.946e-01  6.098e-01 6.736e-03 -7.343e+01  0.000e+00  -5.078e-01  -4.814e-01  ***\n",
      "SEX             1.630e-01  1.177e+00 6.075e-03  2.682e+01 1.693e-158   1.510e-01   1.749e-01  ***\n",
      "HAVE_INS       -3.252e-01  7.224e-01 9.066e-03 -3.587e+01 8.654e-282  -3.430e-01  -3.074e-01  ***\n",
      "HAVE_DEP       -2.263e-01  7.975e-01 1.151e-02 -1.965e+01  5.890e-86  -2.488e-01  -2.037e-01  ***\n",
      "DEPTCNT1       -3.458e-01  7.077e-01 9.569e-03 -3.613e+01 6.996e-286  -3.645e-01  -3.270e-01  ***\n",
      "EXTFUNC_CNT     9.716e-02  1.102e+00 5.599e-03  1.735e+01  1.852e-67   8.618e-02   1.081e-01  ***\n",
      "FUNC_CNT       -1.560e-01  8.556e-01 8.108e-03 -1.924e+01  1.776e-82  -1.719e-01  -1.401e-01  ***\n",
      "REMOTE         -1.377e-01  8.714e-01 1.110e-02 -1.240e+01  2.475e-35  -1.594e-01  -1.159e-01  ***\n",
      "DIRECT_RPT_CNT  1.443e-01  1.155e+00 4.058e-03  3.557e+01 3.637e-277   1.364e-01   1.523e-01  ***\n",
      "HUBIND         -7.420e-02  9.285e-01 6.756e-03 -1.098e+01  4.579e-28  -8.745e-02  -6.096e-02  ***\n",
      "REH_CNT        -2.271e-01  7.968e-01 6.455e-03 -3.519e+01 3.360e-271  -2.398e-01  -2.145e-01  ***\n",
      "---\n",
      "Signif. codes:  0 '***' 0.001 '**' 0.01 '*' 0.05 '.' 0.1 ' ' 1 \n",
      "\n",
      "Concordance = 0.887\n"
     ]
    }
   ],
   "source": [
    "s_cf2.print_summary()"
   ]
  },
  {
   "cell_type": "code",
   "execution_count": 52,
   "metadata": {
    "collapsed": false
   },
   "outputs": [
    {
     "name": "stdout",
     "output_type": "stream",
     "text": [
      "after2001_keyed.csv    \u001b[0m\u001b[01;34mh2o\u001b[0m/                separation_sf1.pkl\r\n",
      "after2001_v1.csv       over50.csv          \u001b[01;34mtmp\u001b[0m/\r\n",
      "after2001_v2.csv       \u001b[01;34mR\u001b[0m/                  trans_eval.csv\r\n",
      "after2001_v3.csv       retirement_sf2.pkl  trans_train.csv\r\n",
      "current_employees.csv  retirement_sfA.pkl\r\n",
      "current.ssv            separation_cf2.pkl\r\n",
      "\u001b[m"
     ]
    }
   ],
   "source": [
    "## save this model\n",
    "os.chdir('../proc')\n",
    "%ls"
   ]
  },
  {
   "cell_type": "code",
   "execution_count": 84,
   "metadata": {
    "collapsed": true
   },
   "outputs": [],
   "source": [
    "import pickle\n",
    "pickle.dump(s_cf2, open(\"separation_cf2.pkl\",\"wb\"))"
   ]
  },
  {
   "cell_type": "code",
   "execution_count": 53,
   "metadata": {
    "collapsed": false
   },
   "outputs": [
    {
     "name": "stdout",
     "output_type": "stream",
     "text": [
      "35\n",
      "18\n"
     ]
    }
   ],
   "source": [
    "jfunc_cols = [c for c in ne2b.columns if c.startswith('JOB_FU')]\n",
    "sep_surv_cols3 = [c for c in sep_surv_cols2]\n",
    "sep_surv_cols3+=jfunc_cols\n",
    "print len(sep_surv_cols3)\n",
    "print len(jfunc_cols)\n",
    "    "
   ]
  },
  {
   "cell_type": "code",
   "execution_count": 54,
   "metadata": {
    "collapsed": false
   },
   "outputs": [
    {
     "name": "stdout",
     "output_type": "stream",
     "text": [
      "JOB_FUNCTION_PTB VIF = 701.2 R^2 = 0.9986    \n",
      "JOB_FUNCTION_PSA VIF = 1108.2R^2 = 0.9991    \n",
      "JOB_FUNCTION_MGT VIF = 322.2 R^2 = 0.9969    \n",
      "JOB_FUNCTION_PSB VIF = 119.7 R^2 = 0.9916    \n",
      "JOB_FUNCTION_PTA VIF = 459.1 R^2 = 0.9978    \n",
      "JOB_FUNCTION_XXX VIF = 156.8 R^2 = 0.9936    \n",
      "JOB_FUNCTION_NSA VIF = 187.7 R^2 = 0.9947    \n",
      "JOB_FUNCTION_PTE VIF = 179.9 R^2 = 0.9944    \n",
      "JOB_FUNCTION_PTL VIF = 7.5   R^2 = 0.8665    \n",
      "JOB_FUNCTION_PTC VIF = 171.6 R^2 = 0.9942    \n",
      "JOB_FUNCTION_PSC VIF = 95.5  R^2 = 0.9895    \n",
      "JOB_FUNCTION_PTD VIF = 33.3  R^2 = 0.9699    \n",
      "JOB_FUNCTION_PTI VIF = 38.7  R^2 = 0.9741    \n",
      "JOB_FUNCTION_PTF VIF = 4.5   R^2 = 0.7776    \n",
      "JOB_FUNCTION_PTG VIF = 8.0   R^2 = 0.8748    \n",
      "JOB_FUNCTION_PTH VIF = 4.0   R^2 = 0.7498    \n",
      "JOB_FUNCTION_PTM VIF = 1.5   R^2 = 0.3333    \n",
      "JOB_FUNCTION_PTJ VIF = 1.5   R^2 = 0.3333    \n"
     ]
    },
    {
     "data": {
      "text/plain": [
       "JOB_FUNCTION_PTB    0.998574\n",
       "JOB_FUNCTION_PSA    0.999098\n",
       "JOB_FUNCTION_MGT    0.996897\n",
       "JOB_FUNCTION_PSB    0.991649\n",
       "JOB_FUNCTION_PTA    0.997822\n",
       "JOB_FUNCTION_XXX    0.993623\n",
       "JOB_FUNCTION_NSA    0.994673\n",
       "JOB_FUNCTION_PTE    0.994442\n",
       "JOB_FUNCTION_PTL    0.866478\n",
       "JOB_FUNCTION_PTC    0.994173\n",
       "JOB_FUNCTION_PSC    0.989524\n",
       "JOB_FUNCTION_PTD    0.969937\n",
       "JOB_FUNCTION_PTI    0.974146\n",
       "JOB_FUNCTION_PTF    0.777609\n",
       "JOB_FUNCTION_PTG    0.874810\n",
       "JOB_FUNCTION_PTH    0.749837\n",
       "JOB_FUNCTION_PTM    0.333261\n",
       "JOB_FUNCTION_PTJ    0.333261\n",
       "dtype: float64"
      ]
     },
     "execution_count": 54,
     "metadata": {},
     "output_type": "execute_result"
    }
   ],
   "source": [
    "br.perfect_collinearity_test(ne2b[jfunc_cols])"
   ]
  },
  {
   "cell_type": "code",
   "execution_count": 56,
   "metadata": {
    "collapsed": false
   },
   "outputs": [],
   "source": [
    "#jfunc_cols.remove('JOB_FUNCTION_PSA')\n",
    "#br.perfect_collinearity_test(ne2b[jfunc_cols])"
   ]
  },
  {
   "cell_type": "code",
   "execution_count": 57,
   "metadata": {
    "collapsed": false
   },
   "outputs": [
    {
     "data": {
      "text/plain": [
       "38015"
      ]
     },
     "execution_count": 57,
     "metadata": {},
     "output_type": "execute_result"
    }
   ],
   "source": [
    "ne2b.JOB_FUNCTION_PSA.sum()"
   ]
  },
  {
   "cell_type": "code",
   "execution_count": 59,
   "metadata": {
    "collapsed": false
   },
   "outputs": [
    {
     "data": {
      "text/plain": [
       "['status',\n",
       " 'Age_years',\n",
       " 'Tenure_years',\n",
       " 'SAL1',\n",
       " 'MERIT1',\n",
       " 'PERF1',\n",
       " 'BOX1',\n",
       " 'SEX',\n",
       " 'HAVE_INS',\n",
       " 'HAVE_DEP',\n",
       " 'DEPTCNT1',\n",
       " 'EXTFUNC_CNT',\n",
       " 'FUNC_CNT',\n",
       " 'REMOTE',\n",
       " 'DIRECT_RPT_CNT',\n",
       " 'HUBIND',\n",
       " 'REH_CNT',\n",
       " 'JOB_FUNCTION_PTB']"
      ]
     },
     "execution_count": 59,
     "metadata": {},
     "output_type": "execute_result"
    }
   ],
   "source": [
    "sep_surv_cols3[:18]"
   ]
  },
  {
   "cell_type": "code",
   "execution_count": 60,
   "metadata": {
    "collapsed": false
   },
   "outputs": [
    {
     "name": "stdout",
     "output_type": "stream",
     "text": [
      "CPU times: user 4min 25s, sys: 4min 17s, total: 8min 43s\n",
      "Wall time: 4min 39s\n"
     ]
    },
    {
     "name": "stderr",
     "output_type": "stream",
     "text": [
      "/opt/anaconda/2.3.0/lib/python2.7/site-packages/lifelines/utils/__init__.py:468: FutureWarning: sort(columns=....) is deprecated, use sort_values(by=.....)\n",
      "  df = df.reindex(np.random.permutation(df.index)).sort(event_col)\n",
      "/opt/anaconda/2.3.0/lib/python2.7/site-packages/lifelines/utils/__init__.py:473: FutureWarning: using '-' to provide set differences with Indexes is deprecated, use .difference()\n",
      "  testing_columns = df.columns - [duration_col, event_col]\n",
      "/opt/anaconda/2.3.0/lib/python2.7/site-packages/lifelines/fitters/coxph_fitter.py:285: FutureWarning: sort(columns=....) is deprecated, use sort_values(by=.....)\n",
      "  df.sort(duration_col, inplace=True)\n"
     ]
    }
   ],
   "source": [
    "%%time\n",
    "#sep_surv_pipe = Pipeline([('fixout_min', br.FixNumericOutlier(columns_to_fix=['MERIT1','PERF1'],\n",
    "#                                                   criteria_coef=('percentile',2),method='lower',fill_with='nearest_value')),\n",
    "#                ('impute_mode',br.ImputeData(columns_to_impute=['MERIT1','PERF1']))]\n",
    "#               )\n",
    "from lifelines import CoxPHFitter\n",
    "from lifelines.utils import k_fold_cross_validation\n",
    "s_cf3 = CoxPHFitter(penalizer=1.0)\n",
    "xfold5_scores3 =  k_fold_cross_validation(s_cf3, ne2b[sep_surv_cols3[:18]], 'Tenure_years', event_col='status', k=5)#,show_progress=True)"
   ]
  },
  {
   "cell_type": "code",
   "execution_count": 61,
   "metadata": {
    "collapsed": false
   },
   "outputs": [
    {
     "data": {
      "text/plain": [
       "[0.88632914628817727,\n",
       " 0.88541552021954528,\n",
       " 0.88499569950001122,\n",
       " 0.88889974014166728,\n",
       " 0.88699881254101265]"
      ]
     },
     "execution_count": 61,
     "metadata": {},
     "output_type": "execute_result"
    }
   ],
   "source": [
    "xfold5_scores3"
   ]
  },
  {
   "cell_type": "code",
   "execution_count": 62,
   "metadata": {
    "collapsed": false
   },
   "outputs": [
    {
     "name": "stdout",
     "output_type": "stream",
     "text": [
      "n=76368, number of events=31927\n",
      "\n",
      "                       coef  exp(coef)  se(coef)          z          p  lower 0.95  upper 0.95     \n",
      "Age_years        -9.631e-01  3.817e-01 1.025e-02 -9.392e+01  0.000e+00  -9.832e-01  -9.430e-01  ***\n",
      "SAL1             -1.032e+00  3.562e-01 1.329e-02 -7.766e+01  0.000e+00  -1.058e+00  -1.006e+00  ***\n",
      "MERIT1            2.512e-01  1.286e+00 5.530e-03  4.543e+01  0.000e+00   2.404e-01   2.621e-01  ***\n",
      "PERF1            -1.014e-01  9.036e-01 1.221e-02 -8.303e+00  1.015e-16  -1.253e-01  -7.745e-02  ***\n",
      "BOX1             -4.816e-01  6.178e-01 6.746e-03 -7.139e+01  0.000e+00  -4.949e-01  -4.684e-01  ***\n",
      "SEX               1.660e-01  1.181e+00 6.095e-03  2.723e+01 2.884e-163   1.540e-01   1.779e-01  ***\n",
      "HAVE_INS         -3.256e-01  7.221e-01 9.027e-03 -3.607e+01 6.285e-285  -3.433e-01  -3.079e-01  ***\n",
      "HAVE_DEP         -2.222e-01  8.008e-01 1.149e-02 -1.934e+01  2.462e-83  -2.447e-01  -1.997e-01  ***\n",
      "DEPTCNT1         -3.369e-01  7.140e-01 9.503e-03 -3.545e+01 2.570e-275  -3.555e-01  -3.183e-01  ***\n",
      "EXTFUNC_CNT       9.979e-02  1.105e+00 5.639e-03  1.769e+01  4.594e-70   8.873e-02   1.108e-01  ***\n",
      "FUNC_CNT         -1.673e-01  8.459e-01 8.904e-03 -1.879e+01  8.882e-79  -1.848e-01  -1.499e-01  ***\n",
      "REMOTE           -1.472e-01  8.631e-01 1.112e-02 -1.324e+01  5.409e-40  -1.690e-01  -1.254e-01  ***\n",
      "DIRECT_RPT_CNT    1.481e-01  1.160e+00 4.043e-03  3.664e+01 5.658e-294   1.402e-01   1.561e-01  ***\n",
      "HUBIND           -7.522e-02  9.275e-01 6.771e-03 -1.111e+01  1.120e-28  -8.850e-02  -6.195e-02  ***\n",
      "REH_CNT          -2.232e-01  7.999e-01 6.412e-03 -3.481e+01 1.520e-265  -2.358e-01  -2.106e-01  ***\n",
      "JOB_FUNCTION_PTB  2.913e-02  1.030e+00 7.287e-03  3.998e+00  6.397e-05   1.484e-02   4.341e-02  ***\n",
      "---\n",
      "Signif. codes:  0 '***' 0.001 '**' 0.01 '*' 0.05 '.' 0.1 ' ' 1 \n",
      "\n",
      "Concordance = 0.886\n"
     ]
    }
   ],
   "source": [
    "s_cf3.print_summary()"
   ]
  },
  {
   "cell_type": "code",
   "execution_count": 67,
   "metadata": {
    "collapsed": false
   },
   "outputs": [
    {
     "data": {
      "text/plain": [
       "['status',\n",
       " 'Age_years',\n",
       " 'Tenure_years',\n",
       " 'SAL1',\n",
       " 'MERIT1',\n",
       " 'PERF1',\n",
       " 'BOX1',\n",
       " 'SEX',\n",
       " 'HAVE_INS',\n",
       " 'HAVE_DEP',\n",
       " 'DEPTCNT1',\n",
       " 'EXTFUNC_CNT',\n",
       " 'FUNC_CNT',\n",
       " 'REMOTE',\n",
       " 'DIRECT_RPT_CNT',\n",
       " 'HUBIND',\n",
       " 'REH_CNT',\n",
       " 'JOB_FUNCTION_PSA']"
      ]
     },
     "execution_count": 67,
     "metadata": {},
     "output_type": "execute_result"
    }
   ],
   "source": [
    "tmp_cols = [col for col in sep_surv_cols3[:20]]\n",
    "tmp_cols.remove('JOB_FUNCTION_PTB')\n",
    "tmp_cols.remove('JOB_FUNCTION_MGT')\n",
    "tmp_cols"
   ]
  },
  {
   "cell_type": "code",
   "execution_count": 70,
   "metadata": {
    "collapsed": false
   },
   "outputs": [
    {
     "data": {
      "text/plain": [
       "(38015, 17838)"
      ]
     },
     "execution_count": 70,
     "metadata": {},
     "output_type": "execute_result"
    }
   ],
   "source": [
    "ne2b.JOB_FUNCTION_PSA.sum(), ne2b.JOB_FUNCTION_PTB.sum()"
   ]
  },
  {
   "cell_type": "code",
   "execution_count": 71,
   "metadata": {
    "collapsed": false
   },
   "outputs": [
    {
     "data": {
      "text/plain": [
       "7447"
      ]
     },
     "execution_count": 71,
     "metadata": {},
     "output_type": "execute_result"
    }
   ],
   "source": [
    "ne2b.INTERN.sum()"
   ]
  },
  {
   "cell_type": "code",
   "execution_count": 68,
   "metadata": {
    "collapsed": false
   },
   "outputs": [
    {
     "name": "stdout",
     "output_type": "stream",
     "text": [
      "status           VIF = 4.4   R^2 = 0.7745    \n",
      "Age_years        VIF = 6.9   R^2 = 0.8541    \n",
      "Tenure_years     VIF = 8.5   R^2 = 0.8828    \n",
      "SAL1             VIF = 10.1  R^2 = 0.9014    \n",
      "MERIT1           VIF = 2.5   R^2 = 0.6062    \n",
      "PERF1            VIF = 3.2   R^2 = 0.6846    \n",
      "BOX1             VIF = 2.1   R^2 = 0.5139    \n",
      "SEX              VIF = 2.9   R^2 = 0.6499    \n",
      "HAVE_INS         VIF = 3.9   R^2 = 0.7447    \n",
      "HAVE_DEP         VIF = 2.6   R^2 = 0.6222    \n",
      "DEPTCNT1         VIF = 1.8   R^2 = 0.439     \n",
      "EXTFUNC_CNT      VIF = 2.1   R^2 = 0.532     \n",
      "FUNC_CNT         VIF = 2.1   R^2 = 0.5203    \n",
      "REMOTE           VIF = 1.9   R^2 = 0.4659    \n",
      "DIRECT_RPT_CNT   VIF = 2.7   R^2 = 0.633     \n",
      "HUBIND           VIF = 1.8   R^2 = 0.4489    \n",
      "REH_CNT          VIF = 1.4   R^2 = 0.2729    \n",
      "JOB_FUNCTION_PSA VIF = 5.3   R^2 = 0.8129    \n"
     ]
    },
    {
     "data": {
      "text/plain": [
       "status              0.774486\n",
       "Age_years           0.854106\n",
       "Tenure_years        0.882850\n",
       "SAL1                0.901412\n",
       "MERIT1              0.606238\n",
       "PERF1               0.684592\n",
       "BOX1                0.513939\n",
       "SEX                 0.649854\n",
       "HAVE_INS            0.744668\n",
       "HAVE_DEP            0.622175\n",
       "DEPTCNT1            0.439008\n",
       "EXTFUNC_CNT         0.532002\n",
       "FUNC_CNT            0.520253\n",
       "REMOTE              0.465946\n",
       "DIRECT_RPT_CNT      0.633041\n",
       "HUBIND              0.448928\n",
       "REH_CNT             0.272858\n",
       "JOB_FUNCTION_PSA    0.812942\n",
       "dtype: float64"
      ]
     },
     "execution_count": 68,
     "metadata": {},
     "output_type": "execute_result"
    }
   ],
   "source": [
    "br.perfect_collinearity_test(ne2b[tmp_cols])"
   ]
  },
  {
   "cell_type": "code",
   "execution_count": 72,
   "metadata": {
    "collapsed": false
   },
   "outputs": [
    {
     "name": "stdout",
     "output_type": "stream",
     "text": [
      "n=76368, number of events=31927\n",
      "\n",
      "                       coef  exp(coef)  se(coef)          z          p  lower 0.95  upper 0.95     \n",
      "Age_years        -9.386e-01  3.912e-01 1.023e-02 -9.175e+01  0.000e+00  -9.587e-01  -9.185e-01  ***\n",
      "SAL1             -1.115e+00  3.278e-01 1.479e-02 -7.539e+01  0.000e+00  -1.144e+00  -1.086e+00  ***\n",
      "MERIT1            2.742e-01  1.315e+00 6.343e-03  4.323e+01  0.000e+00   2.618e-01   2.866e-01  ***\n",
      "PERF1            -1.016e-01  9.034e-01 1.240e-02 -8.195e+00  2.514e-16  -1.259e-01  -7.730e-02  ***\n",
      "BOX1             -4.839e-01  6.164e-01 6.824e-03 -7.090e+01  0.000e+00  -4.972e-01  -4.705e-01  ***\n",
      "SEX               1.643e-01  1.179e+00 6.098e-03  2.695e+01 5.826e-160   1.524e-01   1.763e-01  ***\n",
      "HAVE_INS         -3.066e-01  7.359e-01 9.072e-03 -3.380e+01 1.975e-250  -3.244e-01  -2.888e-01  ***\n",
      "HAVE_DEP         -2.326e-01  7.925e-01 1.147e-02 -2.027e+01  2.258e-91  -2.550e-01  -2.101e-01  ***\n",
      "DEPTCNT1         -3.471e-01  7.068e-01 9.569e-03 -3.627e+01 4.495e-288  -3.658e-01  -3.283e-01  ***\n",
      "EXTFUNC_CNT       9.591e-02  1.101e+00 5.597e-03  1.713e+01  8.204e-66   8.494e-02   1.069e-01  ***\n",
      "FUNC_CNT         -1.504e-01  8.603e-01 8.158e-03 -1.844e+01  6.098e-76  -1.664e-01  -1.344e-01  ***\n",
      "REMOTE           -1.546e-01  8.567e-01 1.116e-02 -1.386e+01  1.179e-43  -1.765e-01  -1.328e-01  ***\n",
      "DIRECT_RPT_CNT    1.569e-01  1.170e+00 3.968e-03  3.955e+01  0.000e+00   1.491e-01   1.647e-01  ***\n",
      "HUBIND           -8.338e-02  9.200e-01 6.762e-03 -1.233e+01  6.280e-35  -9.663e-02  -7.012e-02  ***\n",
      "REH_CNT          -2.330e-01  7.921e-01 6.523e-03 -3.572e+01 1.758e-279  -2.458e-01  -2.202e-01  ***\n",
      "JOB_FUNCTION_PSA -7.550e-02  9.273e-01 6.798e-03 -1.111e+01  1.179e-28  -8.883e-02  -6.217e-02  ***\n",
      "---\n",
      "Signif. codes:  0 '***' 0.001 '**' 0.01 '*' 0.05 '.' 0.1 ' ' 1 \n",
      "\n",
      "Concordance = 0.887\n",
      "CPU times: user 4min 36s, sys: 3min 49s, total: 8min 25s\n",
      "Wall time: 4min 31s\n"
     ]
    }
   ],
   "source": [
    "%%time\n",
    "#sep_surv_pipe = Pipeline([('fixout_min', br.FixNumericOutlier(columns_to_fix=['MERIT1','PERF1'],\n",
    "#                                                   criteria_coef=('percentile',2),method='lower',fill_with='nearest_value')),\n",
    "#                ('impute_mode',br.ImputeData(columns_to_impute=['MERIT1','PERF1']))]\n",
    "#               )\n",
    "from lifelines import CoxPHFitter\n",
    "from lifelines.utils import k_fold_cross_validation\n",
    "s_cf4 = CoxPHFitter(penalizer=1.0)\n",
    "xfold5_scores4 =  k_fold_cross_validation(s_cf4, ne2b[tmp_cols], 'Tenure_years', event_col='status', k=5)#,show_progress=True)\n",
    "s_cf4.print_summary()"
   ]
  },
  {
   "cell_type": "code",
   "execution_count": 73,
   "metadata": {
    "collapsed": false
   },
   "outputs": [
    {
     "data": {
      "text/plain": [
       "[0.88515367279400514,\n",
       " 0.88646943435176351,\n",
       " 0.88760075404661021,\n",
       " 0.88675402578765583,\n",
       " 0.88732234559067324]"
      ]
     },
     "execution_count": 73,
     "metadata": {},
     "output_type": "execute_result"
    }
   ],
   "source": [
    "xfold5_scores4"
   ]
  },
  {
   "cell_type": "code",
   "execution_count": 74,
   "metadata": {
    "collapsed": false
   },
   "outputs": [
    {
     "data": {
      "text/plain": [
       "u'/home/kesj/work/hrsepara/proc'"
      ]
     },
     "execution_count": 74,
     "metadata": {},
     "output_type": "execute_result"
    }
   ],
   "source": [
    "%pwd"
   ]
  },
  {
   "cell_type": "code",
   "execution_count": 75,
   "metadata": {
    "collapsed": false
   },
   "outputs": [],
   "source": [
    "import pickle\n",
    "pickle.dump(s_cf4, open(\"separation_cf4.pkl\",\"wb\"))"
   ]
  },
  {
   "cell_type": "code",
   "execution_count": null,
   "metadata": {
    "collapsed": true
   },
   "outputs": [],
   "source": []
  },
  {
   "cell_type": "code",
   "execution_count": null,
   "metadata": {
    "collapsed": true
   },
   "outputs": [],
   "source": [
    "ne2e_psf = s_cf1.predict_survival_function(ne2e[sep_surv_cols1])\n",
    "ne2e_psf.index.name = 'years'\n",
    "ne2e_psf.reset_index(inplace=True)"
   ]
  },
  {
   "cell_type": "code",
   "execution_count": null,
   "metadata": {
    "collapsed": false
   },
   "outputs": [],
   "source": [
    "neval_expect= s_cf1.predict_expectation(ne2e[sep_surv_cols1])"
   ]
  },
  {
   "cell_type": "code",
   "execution_count": null,
   "metadata": {
    "collapsed": false
   },
   "outputs": [],
   "source": [
    "neval_expect.head()"
   ]
  },
  {
   "cell_type": "code",
   "execution_count": null,
   "metadata": {
    "collapsed": false
   },
   "outputs": [],
   "source": [
    "ne2e[['Tenure_years','status']].head()"
   ]
  },
  {
   "cell_type": "code",
   "execution_count": null,
   "metadata": {
    "collapsed": false
   },
   "outputs": [],
   "source": [
    "plt.scatter(ne2e[ne2e.status==1].Tenure_years,neval_expect[ne2e.status==1])"
   ]
  },
  {
   "cell_type": "code",
   "execution_count": null,
   "metadata": {
    "collapsed": false
   },
   "outputs": [],
   "source": [
    "print ne2e_psf.years.max()\n",
    "ne2e_psf.shape"
   ]
  },
  {
   "cell_type": "code",
   "execution_count": null,
   "metadata": {
    "collapsed": false
   },
   "outputs": [],
   "source": [
    "def get_survival_prediction(edf,psf, time_col='Age_years', yr_vals=[1,2,3,4,5],restrict_time=None):\n",
    "    from scipy import interpolate\n",
    "    import pandas as pd\n",
    "    import numpy as np\n",
    "\n",
    "    pred_col_names = ['proba_'+str(y) for y in yr_vals]\n",
    "    df = pd.DataFrame(index=edf.index, columns=pred_col_names, dtype=float)\n",
    "    print pred_col_names\n",
    "    employee_idx = edf.index.tolist()\n",
    "    emp_cols = edf.columns.tolist()\n",
    "    tcol_idx = emp_cols.index(time_col)+1\n",
    "    age_idx = emp_cols.index('Age_years')+1\n",
    "    #define the maximum survival_time_range\n",
    "    mx_surv_time = psf.years.max()\n",
    "    if restrict_time is None:\n",
    "            restrict_time = 0.0\n",
    "            \n",
    "    for employee in edf.itertuples():\n",
    "        my_index = employee[0]\n",
    "        my_age = employee[age_idx]\n",
    "        my_time = employee[tcol_idx]\n",
    "        #print my_index,my_age, my_time\n",
    "        prob_vals = np.ones(len(yr_vals))\n",
    "        if my_index % 5000 ==0 :\n",
    "            print my_index, my_age, my_time\n",
    "        \n",
    "        \n",
    "        if my_age >= restrict_time: # only deal with over 50 (restrict_time = 50.0)\n",
    "            for idx, year in enumerate(yr_vals):\n",
    "                ck_yr = my_time+year\n",
    "                if ck_yr>=mx_surv_time:\n",
    "                    proba = psf.iloc[-1].loc[my_index]\n",
    "                else:\n",
    "                    try:\n",
    "                        prior_idx = np.where(psf.years < ck_yr)[0][-1]\n",
    "                        posterior_idx = np.where(psf.years > ck_yr)[0][0]\n",
    "\n",
    "                        x = [psf.loc[prior_idx]['years'], psf.loc[posterior_idx]['years']]\n",
    "                        y = [psf.loc[prior_idx][my_index], psf.loc[posterior_idx][my_index]]\n",
    "                            \n",
    "                        # now interpolate these\n",
    "                        y_interp = interpolate.interp1d(x,y)\n",
    "                        proba = y_interp(ck_yr)\n",
    "                    \n",
    "                    except IndexError:\n",
    "                        #print \"\\t IE\", proba, idx,my_index\n",
    "                        proba = psf.loc[np.where(psf.years == ck_yr)[0]][my_index]\n",
    "\n",
    "                prob_vals[idx] = proba\n",
    "        \n",
    "        df.loc[my_index]=prob_vals\n",
    "    \n",
    "    df.fillna(1.0,inplace=True)  # fill in missing values with ones\n",
    "    df[df<0] = 0.0  # replace negative probabilities with zero\n",
    "\n",
    "    return 1-df  # convert to probability of retirement"
   ]
  },
  {
   "cell_type": "code",
   "execution_count": null,
   "metadata": {
    "collapsed": true
   },
   "outputs": [],
   "source": []
  },
  {
   "cell_type": "code",
   "execution_count": null,
   "metadata": {
    "collapsed": false
   },
   "outputs": [],
   "source": [
    "ne_surv_prob_scf1 = get_survival_prediction(ne2e[sep_surv_cols1],ne2e_psf,time_col='Tenure_years')"
   ]
  },
  {
   "cell_type": "code",
   "execution_count": null,
   "metadata": {
    "collapsed": false
   },
   "outputs": [],
   "source": [
    "ne_surv_prob_scf1.head()"
   ]
  },
  {
   "cell_type": "code",
   "execution_count": null,
   "metadata": {
    "collapsed": false
   },
   "outputs": [],
   "source": [
    "sns.distplot(ne_surv_prob_scf1[ne2e.status==1].proba_1,label='sep')\n",
    "sns.distplot(ne_surv_prob_scf1[ne2e.status==0].proba_1,label='notsep')\n",
    "plt.legend()"
   ]
  },
  {
   "cell_type": "code",
   "execution_count": null,
   "metadata": {
    "collapsed": false
   },
   "outputs": [],
   "source": [
    "sns.distplot(ne_surv_prob_scf1[ne2e.status==1].proba_2,label='sep')\n",
    "sns.distplot(ne_surv_prob_scf1[ne2e.status==0].proba_2,label='notsep')\n",
    "plt.legend()"
   ]
  },
  {
   "cell_type": "code",
   "execution_count": null,
   "metadata": {
    "collapsed": false
   },
   "outputs": [],
   "source": [
    "sns.distplot(ne_surv_prob_scf1[ne2e.status==1].proba_3,label='sep')\n",
    "sns.distplot(ne_surv_prob_scf1[ne2e.status==0].proba_3,label='notsep')\n",
    "plt.legend()"
   ]
  },
  {
   "cell_type": "code",
   "execution_count": null,
   "metadata": {
    "collapsed": false
   },
   "outputs": [],
   "source": [
    "sns.distplot(ne_surv_prob_scf1[ne2e.status==1].proba_4,label='sep')\n",
    "sns.distplot(ne_surv_prob_scf1[ne2e.status==0].proba_4,label='notsep')\n",
    "plt.legend()"
   ]
  },
  {
   "cell_type": "code",
   "execution_count": null,
   "metadata": {
    "collapsed": false
   },
   "outputs": [],
   "source": [
    "ne2e.status.value_counts()"
   ]
  },
  {
   "cell_type": "code",
   "execution_count": null,
   "metadata": {
    "collapsed": false
   },
   "outputs": [],
   "source": [
    "sns.distplot(ne_surv_prob_scf1[ne2e.status==1].proba_5,label='sep')\n",
    "sns.distplot(ne_surv_prob_scf1[ne2e.status==0].proba_5,label='notsep')\n",
    "plt.legend()"
   ]
  },
  {
   "cell_type": "code",
   "execution_count": null,
   "metadata": {
    "collapsed": true
   },
   "outputs": [],
   "source": []
  },
  {
   "cell_type": "code",
   "execution_count": null,
   "metadata": {
    "collapsed": false
   },
   "outputs": [],
   "source": [
    "sep_surv_cols1"
   ]
  },
  {
   "cell_type": "code",
   "execution_count": null,
   "metadata": {
    "collapsed": false
   },
   "outputs": [],
   "source": [
    "current = empl1[empl1.status==0].copy()\n",
    "curr = pipe.fit(ne2build[model_cols],ne2build.status).transform(current[model_cols])"
   ]
  },
  {
   "cell_type": "code",
   "execution_count": null,
   "metadata": {
    "collapsed": true
   },
   "outputs": [],
   "source": [
    "curr_psf = s_cf1.predict_survival_function(curr[sep_surv_cols1])\n",
    "\n",
    "curr_psf.index.name = 'years'\n",
    "curr_psf.reset_index(inplace=True)"
   ]
  },
  {
   "cell_type": "code",
   "execution_count": null,
   "metadata": {
    "collapsed": false
   },
   "outputs": [],
   "source": [
    "curr_surv_prob_scf1 = get_survival_prediction(curr[sep_surv_cols1],curr_psf,time_col='Tenure_years')"
   ]
  },
  {
   "cell_type": "code",
   "execution_count": null,
   "metadata": {
    "collapsed": false
   },
   "outputs": [],
   "source": [
    "curr_surv_prob_scf1.sum(axis=0)"
   ]
  },
  {
   "cell_type": "code",
   "execution_count": null,
   "metadata": {
    "collapsed": true
   },
   "outputs": [],
   "source": [
    "(curr_surv_prob_scf1)"
   ]
  },
  {
   "cell_type": "code",
   "execution_count": null,
   "metadata": {
    "collapsed": true
   },
   "outputs": [],
   "source": [
    "curr_psf"
   ]
  },
  {
   "cell_type": "code",
   "execution_count": null,
   "metadata": {
    "collapsed": false
   },
   "outputs": [],
   "source": [
    "%pwd"
   ]
  },
  {
   "cell_type": "code",
   "execution_count": null,
   "metadata": {
    "collapsed": true
   },
   "outputs": [],
   "source": [
    "os.chdir('../proc')"
   ]
  },
  {
   "cell_type": "code",
   "execution_count": null,
   "metadata": {
    "collapsed": false
   },
   "outputs": [],
   "source": [
    "import pickle\n",
    "pickle.dump(s_cf1, open(\"separation_sf1.pkl\",\"wb\"))"
   ]
  },
  {
   "cell_type": "code",
   "execution_count": null,
   "metadata": {
    "collapsed": false
   },
   "outputs": [],
   "source": [
    "[c for c in ne2b.columns if c.startswith('FULL')]"
   ]
  },
  {
   "cell_type": "code",
   "execution_count": null,
   "metadata": {
    "collapsed": false
   },
   "outputs": [],
   "source": [
    "nr_em.FULL_PART_TIME.value_counts()"
   ]
  },
  {
   "cell_type": "code",
   "execution_count": null,
   "metadata": {
    "collapsed": false
   },
   "outputs": [],
   "source": [
    "sep_surv_cols2 = [c for c in sep_surv_cols1]\n",
    "sep_surv_cols2.append('DIRECT_RPT_CNT')\n",
    "#sep_surv_cols2.append('FULL_PART_TIME_X')\n",
    "#sep_surv_cols2.append('DEPTCNT1')\n",
    "#sep_surv_cols2.append('JOB_FUNCTION_PTB')\n",
    "sep_surv_cols2.append('GRADECNT1')\n",
    "print len(sep_surv_cols2)\n",
    "ne2b[sep_surv_cols2].isnull().any()"
   ]
  },
  {
   "cell_type": "code",
   "execution_count": null,
   "metadata": {
    "collapsed": false
   },
   "outputs": [],
   "source": [
    "%%time\n",
    "#sep_surv_pipe = Pipeline([('fixout_min', br.FixNumericOutlier(columns_to_fix=['MERIT1','PERF1'],\n",
    "#                                                   criteria_coef=('percentile',2),method='lower',fill_with='nearest_value')),\n",
    "#                ('impute_mode',br.ImputeData(columns_to_impute=['MERIT1','PERF1']))]\n",
    "#               )\n",
    "\n",
    "s_cf2 = CoxPHFitter(penalizer=1.0)\n",
    "xfold5_scores2 =  k_fold_cross_validation(s_cf2, ne2b[sep_surv_cols2[:5]], 'Tenure_years', event_col='status', k=5)"
   ]
  },
  {
   "cell_type": "code",
   "execution_count": null,
   "metadata": {
    "collapsed": false
   },
   "outputs": [],
   "source": [
    "s_cf2.print_summary()"
   ]
  },
  {
   "cell_type": "code",
   "execution_count": null,
   "metadata": {
    "collapsed": false
   },
   "outputs": [],
   "source": [
    "xfold5_scores2, xfold5_scores"
   ]
  },
  {
   "cell_type": "code",
   "execution_count": null,
   "metadata": {
    "collapsed": false
   },
   "outputs": [],
   "source": [
    "sep_surv_cols2"
   ]
  },
  {
   "cell_type": "code",
   "execution_count": null,
   "metadata": {
    "collapsed": false
   },
   "outputs": [],
   "source": [
    "%%time\n",
    "#sep_surv_pipe = Pipeline([('fixout_min', br.FixNumericOutlier(columns_to_fix=['MERIT1','PERF1'],\n",
    "#                                                   criteria_coef=('percentile',2),method='lower',fill_with='nearest_value')),\n",
    "#                ('impute_mode',br.ImputeData(columns_to_impute=['MERIT1','PERF1']))]\n",
    "#               )\n",
    "\n",
    "s_cf3 = CoxPHFitter(penalizer=1.0)\n",
    "xfold5_scores3 =  k_fold_cross_validation(s_cf3, ne2b[sep_surv_cols2[:-2]], 'Tenure_years', event_col='status', k=5)"
   ]
  },
  {
   "cell_type": "code",
   "execution_count": null,
   "metadata": {
    "collapsed": false
   },
   "outputs": [],
   "source": [
    "xfold5_scores3, xfold5_scores"
   ]
  },
  {
   "cell_type": "code",
   "execution_count": null,
   "metadata": {
    "collapsed": false
   },
   "outputs": [],
   "source": [
    "s_cf3.print_summary()"
   ]
  },
  {
   "cell_type": "code",
   "execution_count": null,
   "metadata": {
    "collapsed": false
   },
   "outputs": [],
   "source": [
    "ne2b[sep_surv_cols2[-2]].value_counts()"
   ]
  },
  {
   "cell_type": "code",
   "execution_count": null,
   "metadata": {
    "collapsed": false
   },
   "outputs": [],
   "source": [
    "%%time\n",
    "\n",
    "s_cf4 = CoxPHFitter(penalizer=1.0)\n",
    "xfold5_scores4 =  k_fold_cross_validation(s_cf4, ne2b[sep_surv_cols2], 'Tenure_years', event_col='status', k=5)"
   ]
  },
  {
   "cell_type": "code",
   "execution_count": null,
   "metadata": {
    "collapsed": false
   },
   "outputs": [],
   "source": [
    "s_cf4.print_summary()"
   ]
  },
  {
   "cell_type": "code",
   "execution_count": null,
   "metadata": {
    "collapsed": false,
    "scrolled": true
   },
   "outputs": [],
   "source": [
    "xfold5_scores4, np.mean(xfold5_scores4)"
   ]
  },
  {
   "cell_type": "code",
   "execution_count": null,
   "metadata": {
    "collapsed": false
   },
   "outputs": [],
   "source": [
    "len(model_cols), len(sep_surv_cols2)"
   ]
  },
  {
   "cell_type": "code",
   "execution_count": null,
   "metadata": {
    "collapsed": false
   },
   "outputs": [],
   "source": [
    "[col for col in model_cols if col.startswith('JOB_FUNCTION')]"
   ]
  },
  {
   "cell_type": "code",
   "execution_count": null,
   "metadata": {
    "collapsed": false
   },
   "outputs": [],
   "source": [
    "%%time\n",
    "\n",
    "s_cf5 = CoxPHFitter(penalizer=1.0)\n",
    "xfold5_scores5 =  k_fold_cross_validation(s_cf5, ne2b[sep_surv_cols3], 'Tenure_years', event_col='status', k=5)"
   ]
  },
  {
   "cell_type": "code",
   "execution_count": null,
   "metadata": {
    "collapsed": true
   },
   "outputs": [],
   "source": [
    "%ls"
   ]
  },
  {
   "cell_type": "code",
   "execution_count": null,
   "metadata": {
    "collapsed": true
   },
   "outputs": [],
   "source": []
  }
 ],
 "metadata": {
  "kernelspec": {
   "display_name": "Python 2",
   "language": "python",
   "name": "python2"
  },
  "language_info": {
   "codemirror_mode": {
    "name": "ipython",
    "version": 2
   },
   "file_extension": ".py",
   "mimetype": "text/x-python",
   "name": "python",
   "nbconvert_exporter": "python",
   "pygments_lexer": "ipython2",
   "version": "2.7.11"
  }
 },
 "nbformat": 4,
 "nbformat_minor": 0
}
