{
 "cells": [
  {
   "cell_type": "markdown",
   "metadata": {},
   "source": [
    "# Initial Exploratory Data Analysis for the HR Separation (hrsepara) project\n",
    "## Identify the correct working directory for source data\n",
    "* '/data/discovery/hrsepara/core/'\n",
    "## Identify the correct working directory for the analysis (both HDFS and LFS)\n",
    "* '/data/discovery/hrsepara/staging/eda' and  '/home/kesj/working/hrsepara/eda/'\n",
    "## begin to summarize data \n"
   ]
  },
  {
   "cell_type": "code",
   "execution_count": 1,
   "metadata": {
    "collapsed": true
   },
   "outputs": [],
   "source": [
    "coredir = '/data/discovery/hrsepara/core/'\n",
    "stgdir1 = '/data/discovery/hrsepara/staging/eda'\n",
    "stgdir1local = '/home/kesj/work/hrsepara/eda'\n"
   ]
  },
  {
   "cell_type": "code",
   "execution_count": 49,
   "metadata": {
    "collapsed": false
   },
   "outputs": [
    {
     "name": "stdout",
     "output_type": "stream",
     "text": [
      "Populating the interactive namespace from numpy and matplotlib\n"
     ]
    },
    {
     "name": "stderr",
     "output_type": "stream",
     "text": [
      "WARNING: pylab import has clobbered these variables: ['f']\n",
      "`%matplotlib` prevents importing * from pylab and numpy\n"
     ]
    }
   ],
   "source": [
    "import os,subprocess\n",
    "import pandas as pd\n",
    "import numpy as np\n",
    "%pylab inline"
   ]
  },
  {
   "cell_type": "code",
   "execution_count": 3,
   "metadata": {
    "collapsed": false
   },
   "outputs": [
    {
     "data": {
      "text/plain": [
       "True"
      ]
     },
     "execution_count": 3,
     "metadata": {},
     "output_type": "execute_result"
    }
   ],
   "source": [
    "# check if the path exists\n",
    "os.path.exists(stgdir1local)"
   ]
  },
  {
   "cell_type": "code",
   "execution_count": 4,
   "metadata": {
    "collapsed": true
   },
   "outputs": [],
   "source": [
    "def hdfs_path_exists(path):\n",
    "    return subprocess.call(['hdfs','dfs','-ls',path])\n",
    "    "
   ]
  },
  {
   "cell_type": "code",
   "execution_count": 5,
   "metadata": {
    "collapsed": false
   },
   "outputs": [
    {
     "data": {
      "text/plain": [
       "0"
      ]
     },
     "execution_count": 5,
     "metadata": {},
     "output_type": "execute_result"
    }
   ],
   "source": [
    "hdfs_path_exists(coredir)"
   ]
  },
  {
   "cell_type": "code",
   "execution_count": 7,
   "metadata": {
    "collapsed": false
   },
   "outputs": [
    {
     "name": "stdout",
     "output_type": "stream",
     "text": [
      "mkdir: `/data/discovery/hrsepara/staging/eda': File exists\r\n"
     ]
    }
   ],
   "source": [
    "# make the remote directory\n",
    "if not hdfs_path_exists(stgdir1):\n",
    "    !hdfs dfs -mkdir {stgdir1}"
   ]
  },
  {
   "cell_type": "code",
   "execution_count": 8,
   "metadata": {
    "collapsed": false
   },
   "outputs": [
    {
     "data": {
      "text/plain": [
       "u'/home/kesj/ipynb/HRsepara'"
      ]
     },
     "execution_count": 8,
     "metadata": {},
     "output_type": "execute_result"
    }
   ],
   "source": [
    "# check if the path exists\n",
    "if not os.path.exists(stgdir1local):\n",
    "    # make the local directory\n",
    "    !mkdir {stgdir1local}\n",
    "    #'/home/kesj/work/hrsepara/eda'\n",
    "\n",
    "\n",
    "%pwd"
   ]
  },
  {
   "cell_type": "code",
   "execution_count": 9,
   "metadata": {
    "collapsed": false
   },
   "outputs": [
    {
     "name": "stdout",
     "output_type": "stream",
     "text": [
      "/home/kesj/work/hrsepara/eda\n"
     ]
    }
   ],
   "source": [
    "%cd {stgdir1local}"
   ]
  },
  {
   "cell_type": "code",
   "execution_count": 13,
   "metadata": {
    "collapsed": false
   },
   "outputs": [
    {
     "name": "stdout",
     "output_type": "stream",
     "text": [
      "/home/kesj/work/hrsepara/eda\n"
     ]
    }
   ],
   "source": [
    "#define the currentworking directory:\n",
    "cwd = os.path.abspath(os.curdir)\n",
    "print cwd"
   ]
  },
  {
   "cell_type": "markdown",
   "metadata": {},
   "source": [
    "## Look at the files in {coredir}"
   ]
  },
  {
   "cell_type": "code",
   "execution_count": 10,
   "metadata": {
    "collapsed": false
   },
   "outputs": [],
   "source": [
    "fnames = !hdfs dfs -ls {coredir}"
   ]
  },
  {
   "cell_type": "code",
   "execution_count": 11,
   "metadata": {
    "collapsed": true
   },
   "outputs": [],
   "source": [
    "infilenames = [f.split()[-1] for f in fnames[1:]]"
   ]
  },
  {
   "cell_type": "code",
   "execution_count": 12,
   "metadata": {
    "collapsed": false
   },
   "outputs": [
    {
     "data": {
      "text/plain": [
       "['/data/discovery/hrsepara/core/EMPL',\n",
       " '/data/discovery/hrsepara/core/HISTCURR',\n",
       " '/data/discovery/hrsepara/core/HISTRET',\n",
       " '/data/discovery/hrsepara/core/HISTRETold',\n",
       " '/data/discovery/hrsepara/core/SBR',\n",
       " '/data/discovery/hrsepara/core/SR_BENEFIT.txt',\n",
       " '/data/discovery/hrsepara/core/SR_CKE.txt',\n",
       " '/data/discovery/hrsepara/core/SR_COMP.txt',\n",
       " '/data/discovery/hrsepara/core/SR_CPR.txt',\n",
       " '/data/discovery/hrsepara/core/SR_EAS.txt',\n",
       " '/data/discovery/hrsepara/core/SR_EDU.txt',\n",
       " '/data/discovery/hrsepara/core/SR_INS.txt',\n",
       " '/data/discovery/hrsepara/core/SR_LANG.txt',\n",
       " '/data/discovery/hrsepara/core/SR_LIC.txt',\n",
       " '/data/discovery/hrsepara/core/SR_RELO.txt']"
      ]
     },
     "execution_count": 12,
     "metadata": {},
     "output_type": "execute_result"
    }
   ],
   "source": [
    "infilenames"
   ]
  },
  {
   "cell_type": "markdown",
   "metadata": {},
   "source": [
    "# Now I need to get this data into a format so that I can read it from pandas"
   ]
  },
  {
   "cell_type": "code",
   "execution_count": 14,
   "metadata": {
    "collapsed": true
   },
   "outputs": [],
   "source": [
    "## function to load into pandas from hdfs (by copying to local filespace)\n",
    "def pandas_read_hdfs(infile,sep = ';',dtype_dict = None):\n",
    "    # copy the infile to the cwd\n",
    "    !hdfs dfs -get {infile} .\n",
    "    # identify the local file name\n",
    "    inname = infile[infile.rfind('/')+1:]\n",
    "    # read into a data frame\n",
    "    if dtype_dict != None:\n",
    "        df = pd.read_csv(inname,sep=sep,dtype =dtype_dict)\n",
    "    else:\n",
    "        df = pd.read_csv(inname,sep=sep)\n",
    "    # clean up local filespace\n",
    "    !rm {inname}\n",
    "    return df"
   ]
  },
  {
   "cell_type": "markdown",
   "metadata": {},
   "source": [
    "## Load the base empl table"
   ]
  },
  {
   "cell_type": "code",
   "execution_count": 15,
   "metadata": {
    "collapsed": false
   },
   "outputs": [
    {
     "data": {
      "text/plain": [
       "(334162, 20)"
      ]
     },
     "execution_count": 15,
     "metadata": {},
     "output_type": "execute_result"
    }
   ],
   "source": [
    "empl_df = pandas_read_hdfs(infilenames[0],dtype_dict={'KEY':np.str})\n",
    "empl_df.shape"
   ]
  },
  {
   "cell_type": "markdown",
   "metadata": {},
   "source": [
    "## Define types for specific columns"
   ]
  },
  {
   "cell_type": "code",
   "execution_count": 30,
   "metadata": {
    "collapsed": false
   },
   "outputs": [],
   "source": [
    "hist_record_dtype_dict = {'KEY':np.str,'LOCATION':np.str,'EEO1CODE':np.str,'SKEY':np.str,'JOBCODE':np.str,'EMPL_CLASS':np.str, \n",
    "                          'SHIFT':np.str,'COMPANY':np.str,'EXT_FUNC_ID_SFI':np.str,'FUNC_ID_SFI':np.str,\n",
    "                          'DIVISION_CODE_SFI':np.str,'JOB_FAMILY':np.str,'JOB_FUNCTION':np.str}\n",
    "#,'COUNT':np.float,'FUNC_CNT':np.float}\n",
    "#dictionary to load the histcurr and histret columns the same way"
   ]
  },
  {
   "cell_type": "markdown",
   "metadata": {},
   "source": [
    "## rename the last 2 columns of HISTCURR to match HISTRET"
   ]
  },
  {
   "cell_type": "code",
   "execution_count": 31,
   "metadata": {
    "collapsed": false
   },
   "outputs": [
    {
     "name": "stdout",
     "output_type": "stream",
     "text": [
      "(70609, 159)\n"
     ]
    }
   ],
   "source": [
    "histcurr_df = pandas_read_hdfs(infilenames[1],dtype_dict=hist_record_dtype_dict)\n",
    "print histcurr_df.shape#, histcurr_df.columns\n",
    "# rename the last two columns to match histret\n",
    "histcurr_df.rename(columns = {'COUNT':'FUNC_CNT','COUNT.1':'EXTFUNC_CNT'},inplace=True)"
   ]
  },
  {
   "cell_type": "markdown",
   "metadata": {},
   "source": [
    "## 04.01.2015 \n",
    "\n",
    "* load the updated HISTRET file from HDFS"
   ]
  },
  {
   "cell_type": "code",
   "execution_count": 32,
   "metadata": {
    "collapsed": false
   },
   "outputs": [
    {
     "name": "stderr",
     "output_type": "stream",
     "text": [
      "/opt/anaconda/2.1.0/lib/python2.7/site-packages/pandas/io/parsers.py:1164: DtypeWarning: Columns (96,97,98,99,100,101,102,103,104,106,107,108,109,110,111,112,113,114,116,117,118,119,120,121,122,123,124) have mixed types. Specify dtype option on import or set low_memory=False.\n",
      "  data = self._reader.read(nrows)\n"
     ]
    },
    {
     "data": {
      "text/plain": [
       "(172554, 160)"
      ]
     },
     "execution_count": 32,
     "metadata": {},
     "output_type": "execute_result"
    }
   ],
   "source": [
    "histret_df = pandas_read_hdfs(infilenames[2],dtype_dict=hist_record_dtype_dict)\n",
    "histret_df.shape#,histret_df.columns"
   ]
  },
  {
   "cell_type": "code",
   "execution_count": 33,
   "metadata": {
    "collapsed": false
   },
   "outputs": [
    {
     "data": {
      "text/plain": [
       "Index([u'ACTRES1', u'ACTRES2', u'ACTRES3', u'ACTRES4', u'ACTRES5', u'ACTRES6', u'ACTRES7', u'ACTRES8', u'ACTRES9', u'ACTRES10'], dtype='object')"
      ]
     },
     "execution_count": 33,
     "metadata": {},
     "output_type": "execute_result"
    }
   ],
   "source": [
    "histret_df.columns[95:105]"
   ]
  },
  {
   "cell_type": "code",
   "execution_count": 28,
   "metadata": {
    "collapsed": false
   },
   "outputs": [
    {
     "data": {
      "text/plain": [
       "array([nan, 'NSA', 'PTB', 'PSA', 'MGT', 'PTA', 'PSB', 'PTC', 'PSC', 'PTI',\n",
       "       'PTF', 'PTE', 'PTH', 'PTG', 'PTD', 'PTJ', 'PTM', 'PTL', 'H08', 'PTK'], dtype=object)"
      ]
     },
     "execution_count": 28,
     "metadata": {},
     "output_type": "execute_result"
    }
   ],
   "source": [
    "histret_df['JOB_FUNCTION'].unique()"
   ]
  },
  {
   "cell_type": "code",
   "execution_count": 35,
   "metadata": {
    "collapsed": false
   },
   "outputs": [
    {
     "data": {
      "text/plain": [
       "VOLUNTARY      110899\n",
       "INVOLUNTARY     60663\n",
       "UNKNOWN           501\n",
       "OTHER             491\n",
       "dtype: int64"
      ]
     },
     "execution_count": 35,
     "metadata": {},
     "output_type": "execute_result"
    }
   ],
   "source": [
    "histret_df.VOLINVOL.value_counts()"
   ]
  },
  {
   "cell_type": "markdown",
   "metadata": {},
   "source": [
    "#### add a column to histcurr_df corresponding to the new  VOLINVOL column:\n",
    "* value is 'NOT'"
   ]
  },
  {
   "cell_type": "code",
   "execution_count": 36,
   "metadata": {
    "collapsed": true
   },
   "outputs": [],
   "source": [
    "histcurr_df['VOLINVOL'] = 'NOT'"
   ]
  },
  {
   "cell_type": "markdown",
   "metadata": {},
   "source": [
    "## load the 'modified HISTRET file' from local filespace -- corrects the overfilled files"
   ]
  },
  {
   "cell_type": "code",
   "execution_count": null,
   "metadata": {
    "collapsed": false
   },
   "outputs": [],
   "source": [
    "##histret_df = pandas_read_hdfs(infilenames[2],dtype_dict=hist_record_dtype_dict)\n",
    "##histret_df.shape#,histret_df.columns\n",
    "#histret_df = pd.read_csv('histret_mod',sep=';',dtype=hist_record_dtype_dict)\n",
    "#histret_df.shape"
   ]
  },
  {
   "cell_type": "markdown",
   "metadata": {},
   "source": [
    "## Try to join EMPL, HISTCURR & HISTRET"
   ]
  },
  {
   "cell_type": "code",
   "execution_count": 37,
   "metadata": {
    "collapsed": false
   },
   "outputs": [
    {
     "name": "stdout",
     "output_type": "stream",
     "text": [
      "number of current, retired, total, total_of_interest: 70609 172554 334162 243163\n"
     ]
    }
   ],
   "source": [
    "ncurr = len(histcurr_df)\n",
    "nret = len(histret_df)\n",
    "print \"number of current, retired, total, total_of_interest:\",ncurr,nret,len(empl_df),ncurr + nret"
   ]
  },
  {
   "cell_type": "markdown",
   "metadata": {},
   "source": [
    "### some helper functions"
   ]
  },
  {
   "cell_type": "code",
   "execution_count": 96,
   "metadata": {
    "collapsed": true
   },
   "outputs": [],
   "source": [
    "# function to truncate POSTAL_ZIP to zip5\n",
    "def truncate_postal_zip(in_zip):\n",
    "    try:\n",
    "        out_zip = in_zip[:5]\n",
    "        #print out_zip\n",
    "    except:\n",
    "        #out_zip = str(in_zip)[:5]\n",
    "        out_zip = np.nan\n",
    "    return out_zip"
   ]
  },
  {
   "cell_type": "code",
   "execution_count": 39,
   "metadata": {
    "collapsed": false
   },
   "outputs": [],
   "source": [
    "def summarize_dataframe(df,show_example=False):\n",
    "    nrow = len(df)\n",
    "    for col in df.columns:\n",
    "        nmiss = nrow - df[col].value_counts().sum()\n",
    "        if show_example:\n",
    "            print col, df[col].dtype,nmiss, \"\\t\", len(df[col].unique()),\":\\t\", df[col].ix[8320]\n",
    "        else:\n",
    "            print col, df[col].dtype,nmiss, \"\\t\", len(df[col].unique())"
   ]
  },
  {
   "cell_type": "code",
   "execution_count": 40,
   "metadata": {
    "collapsed": true
   },
   "outputs": [],
   "source": [
    "def summarize_dataframe2(df,show_example=False):\n",
    "    nrow = len(df)\n",
    "    summary_df = pd.DataFrame(columns = ['Column','datatype','nmissing','arity','accepted values'])\n",
    "    len_df = len(summary_df)\n",
    "    for col in df.columns:\n",
    "        nmiss = nrow - df[col].value_counts().sum()\n",
    "        narity = len(df[col].unique())\n",
    "        if show_example:\n",
    "            print col, df[col].dtype,nmiss, \"\\t\", narity,\":\\t\", df[col].ix[8320]\n",
    "        else:\n",
    "            print col, df[col].dtype,nmiss, \"\\t\", narity\n",
    "        accept_val = None\n",
    "        if narity < 20:\n",
    "            accept_val = df[col].unique()\n",
    "        summary_df.loc[len_df] = [col,df[col].dtype,nmiss,narity,accept_val]\n",
    "        len_df+=1\n",
    "    return summary_df"
   ]
  },
  {
   "cell_type": "markdown",
   "metadata": {},
   "source": [
    "### merge the files \n",
    "* cur_empl\n",
    "* ret_empl"
   ]
  },
  {
   "cell_type": "code",
   "execution_count": 41,
   "metadata": {
    "collapsed": false
   },
   "outputs": [
    {
     "name": "stdout",
     "output_type": "stream",
     "text": [
      "172554 70609\n"
     ]
    }
   ],
   "source": [
    "ret_empl = pd.merge(histret_df,empl_df,left_on='KEY',right_on='KEY',how='inner')\n",
    "cur_empl = pd.merge(histcurr_df,empl_df,left_on='KEY',right_on='KEY',how='inner')\n",
    "print len(ret_empl),len(cur_empl)"
   ]
  },
  {
   "cell_type": "code",
   "execution_count": 42,
   "metadata": {
    "collapsed": false
   },
   "outputs": [
    {
     "data": {
      "text/plain": [
       "160"
      ]
     },
     "execution_count": 42,
     "metadata": {},
     "output_type": "execute_result"
    }
   ],
   "source": [
    "column_list = histret_df.columns\n",
    "len(column_list)"
   ]
  },
  {
   "cell_type": "markdown",
   "metadata": {},
   "source": [
    "## CLEAN UP THE DATA"
   ]
  },
  {
   "cell_type": "markdown",
   "metadata": {},
   "source": [
    "### Remove the cases of ON(tario)"
   ]
  },
  {
   "cell_type": "code",
   "execution_count": 44,
   "metadata": {
    "collapsed": false
   },
   "outputs": [
    {
     "data": {
      "text/plain": [
       "(0, 7)"
      ]
     },
     "execution_count": 44,
     "metadata": {},
     "output_type": "execute_result"
    }
   ],
   "source": [
    "sum(cur_empl.LOC_STATE=='ON'), sum(ret_empl.LOC_STATE == 'ON')"
   ]
  },
  {
   "cell_type": "code",
   "execution_count": 46,
   "metadata": {
    "collapsed": true
   },
   "outputs": [],
   "source": [
    "ret_empl = ret_empl[ret_empl.LOC_STATE != 'ON']"
   ]
  },
  {
   "cell_type": "markdown",
   "metadata": {},
   "source": [
    "## why are there missing termination dates from histret_df?\n"
   ]
  },
  {
   "cell_type": "code",
   "execution_count": 50,
   "metadata": {
    "collapsed": false
   },
   "outputs": [
    {
     "data": {
      "text/plain": [
       "73"
      ]
     },
     "execution_count": 50,
     "metadata": {},
     "output_type": "execute_result"
    }
   ],
   "source": [
    "sum(histret_df.TERMINATION_DT.isnull())"
   ]
  },
  {
   "cell_type": "code",
   "execution_count": null,
   "metadata": {
    "collapsed": true
   },
   "outputs": [],
   "source": [
    "histret_df[histret_df.TERMINATION_DT.isnull()]"
   ]
  },
  {
   "cell_type": "markdown",
   "metadata": {},
   "source": [
    "### convert the date columns\n",
    "* import datetime library\n",
    "* identify the correct columns\n",
    "* replace nan TERMINATION DATE with Jan, 1, 2015 for cur_empl\n",
    "* calculate tenure\n",
    "* calculate age at TERM DATE\n"
   ]
  },
  {
   "cell_type": "code",
   "execution_count": 51,
   "metadata": {
    "collapsed": true
   },
   "outputs": [],
   "source": [
    "from datetime import datetime"
   ]
  },
  {
   "cell_type": "code",
   "execution_count": 52,
   "metadata": {
    "collapsed": true
   },
   "outputs": [],
   "source": [
    "# create list of date columns\n",
    "date_columns = ['TERMINATION_DT','HIRE_DT','SERVICE_DT','LAST_HIRE_DT','BIRTHDATE']"
   ]
  },
  {
   "cell_type": "code",
   "execution_count": 53,
   "metadata": {
    "collapsed": false
   },
   "outputs": [
    {
     "name": "stdout",
     "output_type": "stream",
     "text": [
      "Column\t     Current\t Retired\n",
      "++++++++++++++++++++++++++++++++++++\n",
      "TERMINATION_DT \t70609 \t73\n",
      "HIRE_DT \t0 \t2\n",
      "SERVICE_DT \t0 \t0\n",
      "LAST_HIRE_DT \t0 \t1\n",
      "BIRTHDATE \t0 \t0\n"
     ]
    }
   ],
   "source": [
    "##count how many of these are missing\n",
    "print \"Column\\t     Current\\t Retired\"\n",
    "print \"++++++++++++++++++++++++++++++++++++\"\n",
    "for c in date_columns:\n",
    "    print c, \"\\t\",sum(cur_empl[c].isnull()), \"\\t\",sum(ret_empl[c].isnull())"
   ]
  },
  {
   "cell_type": "markdown",
   "metadata": {},
   "source": [
    "* replace the missing TERMINATION_DT with '01JAN2015'\n",
    "* replace the missing HIRE_DT & LAST_HIRE_DT with SERVICE_DT for the Retired employees"
   ]
  },
  {
   "cell_type": "code",
   "execution_count": 54,
   "metadata": {
    "collapsed": false
   },
   "outputs": [],
   "source": [
    "termination_replace_dt = '01JAN2015'\n",
    "ret_empl['TERMINATION_DT'].fillna(termination_replace_dt,inplace=True)\n",
    "cur_empl['TERMINATION_DT'].fillna(termination_replace_dt,inplace=True)\n",
    "#sum(ret_empl['TERMINATION_DT'].isnull())"
   ]
  },
  {
   "cell_type": "code",
   "execution_count": 55,
   "metadata": {
    "collapsed": false
   },
   "outputs": [],
   "source": [
    "#ret_empl[ret_empl['HIRE_DT'].isnull()].HIRE_DT = \n",
    "#ret_empl[\n",
    "missing_idx =ret_empl[ret_empl['HIRE_DT'].isnull()].index\n",
    "ret_empl.loc[missing_idx,'HIRE_DT'] = ret_empl.loc[missing_idx,'SERVICE_DT']\n",
    "missing_idx =ret_empl[ret_empl['LAST_HIRE_DT'].isnull()].index\n",
    "ret_empl.loc[missing_idx,'LAST_HIRE_DT'] = ret_empl.loc[missing_idx,'SERVICE_DT']"
   ]
  },
  {
   "cell_type": "code",
   "execution_count": 56,
   "metadata": {
    "collapsed": false
   },
   "outputs": [],
   "source": [
    "#now convert to datetimes\n",
    "for c in date_columns:\n",
    "    ret_empl[c]=ret_empl[c].apply(lambda x:datetime.strptime(x,'%d%b%Y')) \n",
    "    cur_empl[c]=cur_empl[c].apply(lambda x:datetime.strptime(x,'%d%b%Y')) \n",
    "#ret_empl[date_columns].apply(lambda x: datetime.strptime(x,'%d%b%Y'),axis=0)"
   ]
  },
  {
   "cell_type": "code",
   "execution_count": 57,
   "metadata": {
    "collapsed": false
   },
   "outputs": [],
   "source": [
    "## now calculate age at termination date\n",
    "cur_empl['Age_tdelta'] = cur_empl['TERMINATION_DT']-cur_empl['BIRTHDATE']#)/np.timedelta64(1,'D')\n",
    "ret_empl['Age_tdelta'] = ret_empl['TERMINATION_DT']-ret_empl['BIRTHDATE']#)/np.timedelta64(1,'D')## calculate tenure at termination date (use service_date)\n",
    "# Use HIRE_DATE (SERVICE DATE Can be later than termination date if they have been rehired)\n",
    "cur_empl['Tenure_tdelta'] = cur_empl['TERMINATION_DT']-cur_empl['HIRE_DT']\n",
    "ret_empl['Tenure_tdelta'] = ret_empl['TERMINATION_DT']-ret_empl['HIRE_DT']\n",
    "# convert to days, months or years\n",
    "cur_empl['Age_years'] = cur_empl['Age_tdelta']/np.timedelta64(1,'Y')\n",
    "ret_empl['Age_years'] = ret_empl['Age_tdelta']/np.timedelta64(1,'Y')\n",
    "# convert to months of tenure\n",
    "cur_empl['Tenure_months'] = cur_empl['Tenure_tdelta']/np.timedelta64(1,'M')\n",
    "ret_empl['Tenure_months'] = ret_empl['Tenure_tdelta']/np.timedelta64(1,'M')\n",
    "#cur_empl['Tenure_months'] = cur_empl['Tenure_tdelta']/np.timedelta64(1,'D')\n",
    "\n"
   ]
  },
  {
   "cell_type": "code",
   "execution_count": 58,
   "metadata": {
    "collapsed": false
   },
   "outputs": [
    {
     "data": {
      "text/plain": [
       "<matplotlib.text.Text at 0x7fdc7929c650>"
      ]
     },
     "execution_count": 58,
     "metadata": {},
     "output_type": "execute_result"
    },
    {
     "data": {
      "image/png": "[encoded data removed]",
      "text/plain": [
       "<matplotlib.figure.Figure at 0x7fdc78f5a3d0>"
      ]
     },
     "metadata": {},
     "output_type": "display_data"
    }
   ],
   "source": [
    "# look at these distributions\n",
    "plt.figure(figsize=(12,8))\n",
    "cur_empl.Age_years.hist(bins=80,color='indianred',label='current',alpha=0.8,normed=True)\n",
    "ret_empl.Age_years.hist(bins=80,color='steelblue',label='retired',alpha=0.5,normed=True)\n",
    "plt.legend()\n",
    "plt.xlabel('Age')\n",
    "plt.ylabel('Normed Counts')\n",
    "plt.title('Distribution of Worforce Ages')"
   ]
  },
  {
   "cell_type": "code",
   "execution_count": 59,
   "metadata": {
    "collapsed": false
   },
   "outputs": [
    {
     "data": {
      "text/plain": [
       "(count    172547.000000\n",
       " mean         37.290639\n",
       " std          13.720188\n",
       " min          14.609472\n",
       " 25%          26.103205\n",
       " 50%          33.687208\n",
       " 75%          46.853803\n",
       " max          98.197773\n",
       " Name: Age_years, dtype: float64, count    70609.000000\n",
       " mean        43.646929\n",
       " std         11.307643\n",
       " min         16.424704\n",
       " 25%         34.193721\n",
       " 50%         44.830489\n",
       " 75%         52.652690\n",
       " max         84.311108\n",
       " Name: Age_years, dtype: float64)"
      ]
     },
     "execution_count": 59,
     "metadata": {},
     "output_type": "execute_result"
    }
   ],
   "source": [
    "ret_empl.Age_years.describe(), cur_empl.Age_years.describe()"
   ]
  },
  {
   "cell_type": "code",
   "execution_count": 60,
   "metadata": {
    "collapsed": false
   },
   "outputs": [
    {
     "data": {
      "text/plain": [
       "(count    172547.000000\n",
       " mean         90.312257\n",
       " std         126.589908\n",
       " min          -0.032855\n",
       " 25%           6.340993\n",
       " 50%          29.799380\n",
       " 75%         120.511715\n",
       " max         781.519128\n",
       " Name: Tenure_months, dtype: float64, count    70609.000000\n",
       " mean       176.848788\n",
       " std        135.307106\n",
       " min          0.098565\n",
       " 25%         35.516130\n",
       " 50%        176.562147\n",
       " 75%        285.278959\n",
       " max        738.972053\n",
       " Name: Tenure_months, dtype: float64)"
      ]
     },
     "execution_count": 60,
     "metadata": {},
     "output_type": "execute_result"
    }
   ],
   "source": [
    "ret_empl.Tenure_months.describe(), cur_empl.Tenure_months.describe()"
   ]
  },
  {
   "cell_type": "code",
   "execution_count": 61,
   "metadata": {
    "collapsed": false
   },
   "outputs": [
    {
     "data": {
      "text/plain": [
       "(146, 289)"
      ]
     },
     "execution_count": 61,
     "metadata": {},
     "output_type": "execute_result"
    }
   ],
   "source": [
    "sum(ret_empl.Tenure_months < 0), sum(ret_empl.TOT_MO_SERVICE_SFI < 0)"
   ]
  },
  {
   "cell_type": "code",
   "execution_count": 62,
   "metadata": {
    "collapsed": false
   },
   "outputs": [
    {
     "data": {
      "text/html": [
       "<div style=\"max-height:1000px;max-width:1500px;overflow:auto;\">\n",
       "<table border=\"1\" class=\"dataframe\">\n",
       "  <thead>\n",
       "    <tr style=\"text-align: right;\">\n",
       "      <th></th>\n",
       "      <th>TOT_MO_SERVICE_SFI</th>\n",
       "      <th>Tenure_months</th>\n",
       "      <th>TERMINATION_DT</th>\n",
       "      <th>HIRE_DT</th>\n",
       "      <th>LAST_HIRE_DT</th>\n",
       "    </tr>\n",
       "  </thead>\n",
       "  <tbody>\n",
       "    <tr>\n",
       "      <th>158084</th>\n",
       "      <td>-1</td>\n",
       "      <td>-0.032855</td>\n",
       "      <td>2001-09-09</td>\n",
       "      <td>2001-09-10</td>\n",
       "      <td>2001-09-10</td>\n",
       "    </tr>\n",
       "    <tr>\n",
       "      <th>158085</th>\n",
       "      <td>-1</td>\n",
       "      <td>-0.032855</td>\n",
       "      <td>2001-09-09</td>\n",
       "      <td>2001-09-10</td>\n",
       "      <td>2001-09-10</td>\n",
       "    </tr>\n",
       "    <tr>\n",
       "      <th>158088</th>\n",
       "      <td>-1</td>\n",
       "      <td>-0.032855</td>\n",
       "      <td>2001-10-14</td>\n",
       "      <td>2001-10-15</td>\n",
       "      <td>2001-10-15</td>\n",
       "    </tr>\n",
       "    <tr>\n",
       "      <th>161230</th>\n",
       "      <td>-1</td>\n",
       "      <td>-0.032855</td>\n",
       "      <td>2006-11-12</td>\n",
       "      <td>2006-11-13</td>\n",
       "      <td>2006-11-13</td>\n",
       "    </tr>\n",
       "    <tr>\n",
       "      <th>165174</th>\n",
       "      <td>-1</td>\n",
       "      <td>-0.032855</td>\n",
       "      <td>2007-02-22</td>\n",
       "      <td>2007-02-23</td>\n",
       "      <td>2007-02-23</td>\n",
       "    </tr>\n",
       "  </tbody>\n",
       "</table>\n",
       "</div>"
      ],
      "text/plain": [
       "        TOT_MO_SERVICE_SFI  Tenure_months TERMINATION_DT    HIRE_DT  \\\n",
       "158084                  -1      -0.032855     2001-09-09 2001-09-10   \n",
       "158085                  -1      -0.032855     2001-09-09 2001-09-10   \n",
       "158088                  -1      -0.032855     2001-10-14 2001-10-15   \n",
       "161230                  -1      -0.032855     2006-11-12 2006-11-13   \n",
       "165174                  -1      -0.032855     2007-02-22 2007-02-23   \n",
       "\n",
       "       LAST_HIRE_DT  \n",
       "158084   2001-09-10  \n",
       "158085   2001-09-10  \n",
       "158088   2001-10-15  \n",
       "161230   2006-11-13  \n",
       "165174   2007-02-23  "
      ]
     },
     "execution_count": 62,
     "metadata": {},
     "output_type": "execute_result"
    }
   ],
   "source": [
    "neg_tenure_idx = ret_empl[ret_empl.Tenure_months < 0].index\n",
    "ret_empl.ix[neg_tenure_idx][['TOT_MO_SERVICE_SFI','Tenure_months','TERMINATION_DT','HIRE_DT','LAST_HIRE_DT']].tail()"
   ]
  },
  {
   "cell_type": "code",
   "execution_count": 433,
   "metadata": {
    "collapsed": false
   },
   "outputs": [
    {
     "data": {
      "text/plain": [
       "array(['849342842050522', '677436375840305', '123550771793141',\n",
       "       '851255668723609', '874169302580026'], dtype=object)"
      ]
     },
     "execution_count": 433,
     "metadata": {},
     "output_type": "execute_result"
    }
   ],
   "source": [
    "ret_empl.ix[neg_tenure_idx]['KEY'].tail().values"
   ]
  },
  {
   "cell_type": "code",
   "execution_count": null,
   "metadata": {
    "collapsed": false
   },
   "outputs": [],
   "source": [
    "# how many are younger than 16?\n",
    "sum(ret_empl.Age_years < 16.01), sum(cur_empl.Age_years < 16.01)"
   ]
  },
  {
   "cell_type": "code",
   "execution_count": 63,
   "metadata": {
    "collapsed": true
   },
   "outputs": [],
   "source": [
    "#\n",
    "time_checking_cols = [a for a in date_columns]\n",
    "time_checking_cols.append('Tenure_months')\n",
    "time_checking_cols.append('Age_years')\n",
    "time_checking_cols.append('CUR_LOC_MOS')"
   ]
  },
  {
   "cell_type": "code",
   "execution_count": null,
   "metadata": {
    "collapsed": false
   },
   "outputs": [],
   "source": [
    "ret_empl[ret_empl.Age_years<16.01][time_checking_cols]"
   ]
  },
  {
   "cell_type": "code",
   "execution_count": 64,
   "metadata": {
    "collapsed": false
   },
   "outputs": [
    {
     "data": {
      "text/plain": [
       "(146, 0)"
      ]
     },
     "execution_count": 64,
     "metadata": {},
     "output_type": "execute_result"
    }
   ],
   "source": [
    "sum(ret_empl.Tenure_months < 0), sum(cur_empl.Tenure_months < 0)"
   ]
  },
  {
   "cell_type": "markdown",
   "metadata": {},
   "source": [
    "# Cleaning up these dates\n",
    "### remove the negative tenure cases"
   ]
  },
  {
   "cell_type": "code",
   "execution_count": 65,
   "metadata": {
    "collapsed": false
   },
   "outputs": [
    {
     "data": {
      "text/plain": [
       "172401"
      ]
     },
     "execution_count": 65,
     "metadata": {},
     "output_type": "execute_result"
    }
   ],
   "source": [
    "ret_empl2 = ret_empl[ret_empl.Tenure_months>=0].copy()\n",
    "len(ret_empl2)"
   ]
  },
  {
   "cell_type": "code",
   "execution_count": 66,
   "metadata": {
    "collapsed": false
   },
   "outputs": [
    {
     "data": {
      "text/plain": [
       "<matplotlib.text.Text at 0x7fdc78db9650>"
      ]
     },
     "execution_count": 66,
     "metadata": {},
     "output_type": "execute_result"
    },
    {
     "data": {
      "image/png": "[encoded data removed]",
      "text/plain": [
       "<matplotlib.figure.Figure at 0x7fdc792bf090>"
      ]
     },
     "metadata": {},
     "output_type": "display_data"
    }
   ],
   "source": [
    "# look at these distributions\n",
    "plt.figure(figsize=(12,8))\n",
    "cur_empl.Tenure_months.hist(bins=80,color='indianred',label='current',alpha=0.8,normed=True)\n",
    "ret_empl2.Tenure_months.hist(bins=80,color='steelblue',label='retired',alpha=0.5,normed=True)\n",
    "plt.legend()\n",
    "plt.xlabel('Months of Tenure')\n",
    "plt.ylabel('Normed Counts')\n",
    "plt.title('Distribution of Worforce Tenures')"
   ]
  },
  {
   "cell_type": "markdown",
   "metadata": {},
   "source": [
    "## Begin Survival Analysis\n",
    "* create a new column 'status' = 1 if retired; 0 otherwise\n",
    "* join the two *_empl data frame"
   ]
  },
  {
   "cell_type": "code",
   "execution_count": 67,
   "metadata": {
    "collapsed": false
   },
   "outputs": [
    {
     "name": "stdout",
     "output_type": "stream",
     "text": [
      "172401 70609\n",
      "243010\n"
     ]
    }
   ],
   "source": [
    "ret_empl2['status'] = 1\n",
    "cur_empl['status'] = 0\n",
    "# now join\n",
    "print len(ret_empl2),len(cur_empl)\n",
    "empltbl = pd.concat([ret_empl2,cur_empl],axis=0)\n",
    "print len(empltbl)"
   ]
  },
  {
   "cell_type": "markdown",
   "metadata": {},
   "source": [
    "## look for duplicated KEYS (and remove)"
   ]
  },
  {
   "cell_type": "code",
   "execution_count": 68,
   "metadata": {
    "collapsed": false
   },
   "outputs": [
    {
     "data": {
      "text/plain": [
       "[]"
      ]
     },
     "execution_count": 68,
     "metadata": {},
     "output_type": "execute_result"
    }
   ],
   "source": [
    "duplicated_keys_list = list(empltbl.KEY.value_counts()[empltbl.KEY.value_counts() >1].index)\n",
    "duplicated_keys_list"
   ]
  },
  {
   "cell_type": "code",
   "execution_count": 69,
   "metadata": {
    "collapsed": false
   },
   "outputs": [
    {
     "data": {
      "text/plain": [
       "243010"
      ]
     },
     "execution_count": 69,
     "metadata": {},
     "output_type": "execute_result"
    }
   ],
   "source": [
    "empltbl.KEY.nunique()"
   ]
  },
  {
   "cell_type": "code",
   "execution_count": null,
   "metadata": {
    "collapsed": false
   },
   "outputs": [],
   "source": [
    "# duplicated employee keys:\n",
    "dup_empl_keys = []\n",
    "for a in empltbl.KEY.value_counts().index[:4]:\n",
    "    print a\n",
    "    dup_empl_keys.append(a)\n",
    "\n",
    "for empkey in dup_empl_keys:\n",
    "    print empltbl[empltbl.KEY == empkey]"
   ]
  },
  {
   "cell_type": "markdown",
   "metadata": {},
   "source": [
    "## Keep the first instance for these 4 duplicated employee keys.\n",
    "* the first 2 cases have longer tenure but same address, sex, birthdate and hire_dt\n",
    "* the third case have same address,sex, birthdate, hire_dt and termination_dt; the first instance is Fulltime versus Partime "
   ]
  },
  {
   "cell_type": "code",
   "execution_count": null,
   "metadata": {
    "collapsed": false
   },
   "outputs": [],
   "source": [
    "empltbl.drop_duplicates(subset='KEY',inplace=True)\n",
    "len(empltbl)"
   ]
  },
  {
   "cell_type": "code",
   "execution_count": null,
   "metadata": {
    "collapsed": false
   },
   "outputs": [],
   "source": [
    "# look at these distributions\n",
    "plt.figure(figsize=(12,8))\n",
    "cur_empl.Age_years.hist(bins=80,color='indianred',label='current',alpha=0.8,normed=True)\n",
    "ret_empl2.Age_years.hist(bins=80,color='steelblue',label='retired',alpha=0.5,normed=True)\n",
    "plt.legend()\n",
    "plt.xlabel('Age')\n",
    "plt.ylabel('Normed Counts')\n",
    "plt.title('Distribution of Worforce Ages')"
   ]
  },
  {
   "cell_type": "markdown",
   "metadata": {},
   "source": [
    "## Continue to Refine the input data"
   ]
  },
  {
   "cell_type": "code",
   "execution_count": 100,
   "metadata": {
    "collapsed": false
   },
   "outputs": [
    {
     "data": {
      "text/plain": [
       "171"
      ]
     },
     "execution_count": 100,
     "metadata": {},
     "output_type": "execute_result"
    }
   ],
   "source": [
    "sum(empltbl.zip5.isnull())"
   ]
  },
  {
   "cell_type": "code",
   "execution_count": 97,
   "metadata": {
    "collapsed": false
   },
   "outputs": [],
   "source": [
    "# add column for zip5\n",
    "empltbl['zip5'] = empltbl['POSTAL_SFI'].apply(lambda x: truncate_postal_zip(x))"
   ]
  },
  {
   "cell_type": "code",
   "execution_count": 98,
   "metadata": {
    "collapsed": false
   },
   "outputs": [
    {
     "data": {
      "text/plain": [
       "array([[ 'COMPANY WIDE CONVERSION;REGIONAL CONVERSION;TRANSFER W/ JOB NUMBER CHANGE;MERIT;PROMOTION WITH MERIT INCREASE;COST OF LIVING ADJUSTMENT;ANOTHER OPPORTUNITY',\n",
       "        nan,\n",
       "        'EMPLOYEE NEW HIRE;TRANSFER W/O JOB NUMBER CHANGE;COST OF LIVING ADJUSTMENT;MISCELLANEOUS DATA CHANGE;MISCELLANEOUS DATA CHANGE',\n",
       "        nan, nan, nan, nan, nan, nan, nan, 0.0, 0.0, 0.0, 0.0,\n",
       "        '18 BRATHWAY ROAD', nan, 33011.58,\n",
       "        Timedelta('12935 days 00:00:00'), 35.414827135396344,\n",
       "        Timestamp('1965-04-17 00:00:00'), 'S', nan, nan, nan, nan, nan,\n",
       "        nan, nan, nan, nan, '005', 'A', 5.93548387, 5.93548387,\n",
       "        15.064516099999999, 3.19354839, 3.19354839, 5.93548387, 1, 2, 2, 2,\n",
       "        9.0, '1', '2', 1, 1, 1, 1, '1', 'S', 1.0, 1542.0, '00063', 0, 0, 0,\n",
       "        0, 999, 'Z', 1.0, 0, 0, 0, 0, 'N', 'N', 'N', 'N', 'F', 0, 0, 0, 0,\n",
       "        36256.0, '00014', 'MA1', 1, 1, 1, 1,\n",
       "        Timestamp('1999-06-14 00:00:00'), 'N', 'N', 2, 2, 2, 2, '0153',\n",
       "        nan, nan, '722822206897113', Timestamp('1999-06-14 00:00:00'),\n",
       "        '50715013710', '07137', 1, 1, 1, 1, 1, 1, 1, 1, 'MATTHEWS', 'NC',\n",
       "        'CLAIM SERVICE CENTER(CSC)', nan, 'MARRIED', 56192.422999999995,\n",
       "        2135.58, 0.0, 558.0, 0.0, 0.0, 0.0, 0.0, 0.0, 0.0, 0.0,\n",
       "        25800.011000000002, 'N', 'N', 'N', 'N', 0.0, 0.0, 0.0, 0.0, 0.0,\n",
       "        0.0, 0.0, 0.0, 0.0, 0.0, 'EMP', 'SW18 4BB', 0, 0, 0, 0, 'AOBJ',\n",
       "        nan, nan, nan, nan, nan, nan, nan, nan, nan, 0, 'N', 0, 'N', 'N',\n",
       "        33011.58, 0.0, 30876.0, 0.0, 0.0, 0.0, 0.0, 0.0, 0.0, 0.0,\n",
       "        Timestamp('1999-06-14 00:00:00'), 'F', '1', '891425129441277',\n",
       "        'GT LON', 38.75, 0, 0, 0, 0, 'Y', 0.0,\n",
       "        Timestamp('2000-09-15 00:00:00'), 9.0, 15, 15.0803917944927,\n",
       "        Timedelta('459 days 00:00:00'), 'VOLUNTARY', 1, 'SW18 ']], dtype=object)"
      ]
     },
     "execution_count": 98,
     "metadata": {},
     "output_type": "execute_result"
    }
   ],
   "source": [
    "empltbl[empltbl.zip5=='SW18 '].values"
   ]
  },
  {
   "cell_type": "code",
   "execution_count": 104,
   "metadata": {
    "collapsed": false
   },
   "outputs": [
    {
     "data": {
      "text/html": [
       "<div style=\"max-height:1000px;max-width:1500px;overflow:auto;\">\n",
       "<table border=\"1\" class=\"dataframe\">\n",
       "  <thead>\n",
       "    <tr style=\"text-align: right;\">\n",
       "      <th></th>\n",
       "      <th>POSTAL_SFI</th>\n",
       "      <th>LOC_STATE</th>\n",
       "      <th>ADDRESS1</th>\n",
       "    </tr>\n",
       "  </thead>\n",
       "  <tbody>\n",
       "    <tr>\n",
       "      <th>124</th>\n",
       "      <td>NaN</td>\n",
       "      <td>NaN</td>\n",
       "      <td>NaN</td>\n",
       "    </tr>\n",
       "    <tr>\n",
       "      <th>541</th>\n",
       "      <td>NaN</td>\n",
       "      <td>NaN</td>\n",
       "      <td>NaN</td>\n",
       "    </tr>\n",
       "    <tr>\n",
       "      <th>834</th>\n",
       "      <td>NaN</td>\n",
       "      <td>NaN</td>\n",
       "      <td>NaN</td>\n",
       "    </tr>\n",
       "    <tr>\n",
       "      <th>835</th>\n",
       "      <td>NaN</td>\n",
       "      <td>NaN</td>\n",
       "      <td>NaN</td>\n",
       "    </tr>\n",
       "    <tr>\n",
       "      <th>909</th>\n",
       "      <td>NaN</td>\n",
       "      <td>NaN</td>\n",
       "      <td>NaN</td>\n",
       "    </tr>\n",
       "    <tr>\n",
       "      <th>1435</th>\n",
       "      <td>NaN</td>\n",
       "      <td>NaN</td>\n",
       "      <td>NaN</td>\n",
       "    </tr>\n",
       "    <tr>\n",
       "      <th>1953</th>\n",
       "      <td>NaN</td>\n",
       "      <td>NaN</td>\n",
       "      <td>NaN</td>\n",
       "    </tr>\n",
       "    <tr>\n",
       "      <th>2195</th>\n",
       "      <td>NaN</td>\n",
       "      <td>AZ</td>\n",
       "      <td>NaN</td>\n",
       "    </tr>\n",
       "    <tr>\n",
       "      <th>2521</th>\n",
       "      <td>NaN</td>\n",
       "      <td>NaN</td>\n",
       "      <td>NaN</td>\n",
       "    </tr>\n",
       "    <tr>\n",
       "      <th>2890</th>\n",
       "      <td>NaN</td>\n",
       "      <td>NC</td>\n",
       "      <td>C/O ELBOW CAY BEACH INN</td>\n",
       "    </tr>\n",
       "    <tr>\n",
       "      <th>2923</th>\n",
       "      <td>NaN</td>\n",
       "      <td>CA</td>\n",
       "      <td>NaN</td>\n",
       "    </tr>\n",
       "    <tr>\n",
       "      <th>2979</th>\n",
       "      <td>NaN</td>\n",
       "      <td>IL</td>\n",
       "      <td>NaN</td>\n",
       "    </tr>\n",
       "    <tr>\n",
       "      <th>3073</th>\n",
       "      <td>NaN</td>\n",
       "      <td>NaN</td>\n",
       "      <td>NaN</td>\n",
       "    </tr>\n",
       "    <tr>\n",
       "      <th>3510</th>\n",
       "      <td>NaN</td>\n",
       "      <td>IL</td>\n",
       "      <td>53 MIDWAY ROAD SOUTHGATE</td>\n",
       "    </tr>\n",
       "    <tr>\n",
       "      <th>4595</th>\n",
       "      <td>NaN</td>\n",
       "      <td>NaN</td>\n",
       "      <td>NaN</td>\n",
       "    </tr>\n",
       "    <tr>\n",
       "      <th>4657</th>\n",
       "      <td>NaN</td>\n",
       "      <td>NaN</td>\n",
       "      <td>NaN</td>\n",
       "    </tr>\n",
       "    <tr>\n",
       "      <th>4856</th>\n",
       "      <td>NaN</td>\n",
       "      <td>NaN</td>\n",
       "      <td>NaN</td>\n",
       "    </tr>\n",
       "    <tr>\n",
       "      <th>4858</th>\n",
       "      <td>NaN</td>\n",
       "      <td>NaN</td>\n",
       "      <td>NaN</td>\n",
       "    </tr>\n",
       "    <tr>\n",
       "      <th>4918</th>\n",
       "      <td>NaN</td>\n",
       "      <td>NaN</td>\n",
       "      <td>NaN</td>\n",
       "    </tr>\n",
       "    <tr>\n",
       "      <th>5261</th>\n",
       "      <td>NaN</td>\n",
       "      <td>NaN</td>\n",
       "      <td>NaN</td>\n",
       "    </tr>\n",
       "    <tr>\n",
       "      <th>5584</th>\n",
       "      <td>NaN</td>\n",
       "      <td>NaN</td>\n",
       "      <td>NaN</td>\n",
       "    </tr>\n",
       "    <tr>\n",
       "      <th>5751</th>\n",
       "      <td>NaN</td>\n",
       "      <td>NaN</td>\n",
       "      <td>NaN</td>\n",
       "    </tr>\n",
       "    <tr>\n",
       "      <th>5853</th>\n",
       "      <td>30419</td>\n",
       "      <td>NaN</td>\n",
       "      <td>282 SCHULNDERGER LANDSTR</td>\n",
       "    </tr>\n",
       "    <tr>\n",
       "      <th>6111</th>\n",
       "      <td>NaN</td>\n",
       "      <td>NaN</td>\n",
       "      <td>NaN</td>\n",
       "    </tr>\n",
       "    <tr>\n",
       "      <th>6235</th>\n",
       "      <td>NaN</td>\n",
       "      <td>NaN</td>\n",
       "      <td>NaN</td>\n",
       "    </tr>\n",
       "    <tr>\n",
       "      <th>6334</th>\n",
       "      <td>00657</td>\n",
       "      <td>FL</td>\n",
       "      <td>LA GAVIOTA B-2 URBANIZAC</td>\n",
       "    </tr>\n",
       "    <tr>\n",
       "      <th>7529</th>\n",
       "      <td>NaN</td>\n",
       "      <td>LA</td>\n",
       "      <td>NaN</td>\n",
       "    </tr>\n",
       "    <tr>\n",
       "      <th>9646</th>\n",
       "      <td>NaN</td>\n",
       "      <td>NaN</td>\n",
       "      <td>NaN</td>\n",
       "    </tr>\n",
       "    <tr>\n",
       "      <th>9648</th>\n",
       "      <td>NaN</td>\n",
       "      <td>NaN</td>\n",
       "      <td>NaN</td>\n",
       "    </tr>\n",
       "    <tr>\n",
       "      <th>9651</th>\n",
       "      <td>NaN</td>\n",
       "      <td>NaN</td>\n",
       "      <td>NaN</td>\n",
       "    </tr>\n",
       "    <tr>\n",
       "      <th>...</th>\n",
       "      <td>...</td>\n",
       "      <td>...</td>\n",
       "      <td>...</td>\n",
       "    </tr>\n",
       "    <tr>\n",
       "      <th>109803</th>\n",
       "      <td>NaN</td>\n",
       "      <td>AR</td>\n",
       "      <td>NaN</td>\n",
       "    </tr>\n",
       "    <tr>\n",
       "      <th>110163</th>\n",
       "      <td>28007</td>\n",
       "      <td>AR</td>\n",
       "      <td>C/ MARQUES DE LOZOYA 40 9D</td>\n",
       "    </tr>\n",
       "    <tr>\n",
       "      <th>111909</th>\n",
       "      <td>NaN</td>\n",
       "      <td>LA</td>\n",
       "      <td>NaN</td>\n",
       "    </tr>\n",
       "    <tr>\n",
       "      <th>112416</th>\n",
       "      <td>1611 BP</td>\n",
       "      <td>LA</td>\n",
       "      <td>NaN</td>\n",
       "    </tr>\n",
       "    <tr>\n",
       "      <th>115325</th>\n",
       "      <td>48012</td>\n",
       "      <td>FL</td>\n",
       "      <td>PABLO DE ALZOLA #15 1-D</td>\n",
       "    </tr>\n",
       "    <tr>\n",
       "      <th>115841</th>\n",
       "      <td>6065</td>\n",
       "      <td>TX</td>\n",
       "      <td>84/30 MANGANO PLACE</td>\n",
       "    </tr>\n",
       "    <tr>\n",
       "      <th>117130</th>\n",
       "      <td>KY11110</td>\n",
       "      <td>FL</td>\n",
       "      <td>PO BOX 1542</td>\n",
       "    </tr>\n",
       "    <tr>\n",
       "      <th>126617</th>\n",
       "      <td>NaN</td>\n",
       "      <td>NE</td>\n",
       "      <td>NaN</td>\n",
       "    </tr>\n",
       "    <tr>\n",
       "      <th>127174</th>\n",
       "      <td>NaN</td>\n",
       "      <td>OH</td>\n",
       "      <td>NaN</td>\n",
       "    </tr>\n",
       "    <tr>\n",
       "      <th>127779</th>\n",
       "      <td>09267</td>\n",
       "      <td>WA</td>\n",
       "      <td>CMR 437 BOX 212</td>\n",
       "    </tr>\n",
       "    <tr>\n",
       "      <th>130046</th>\n",
       "      <td>NaN</td>\n",
       "      <td>AZ</td>\n",
       "      <td>NaN</td>\n",
       "    </tr>\n",
       "    <tr>\n",
       "      <th>130776</th>\n",
       "      <td>38070</td>\n",
       "      <td>WA</td>\n",
       "      <td>MORTELEK</td>\n",
       "    </tr>\n",
       "    <tr>\n",
       "      <th>131723</th>\n",
       "      <td>60500</td>\n",
       "      <td>WA</td>\n",
       "      <td>HAY ALLAL BEN ABDELLAH</td>\n",
       "    </tr>\n",
       "    <tr>\n",
       "      <th>133000</th>\n",
       "      <td>NaN</td>\n",
       "      <td>CA</td>\n",
       "      <td>NaN</td>\n",
       "    </tr>\n",
       "    <tr>\n",
       "      <th>133034</th>\n",
       "      <td>NaN</td>\n",
       "      <td>CA</td>\n",
       "      <td>NaN</td>\n",
       "    </tr>\n",
       "    <tr>\n",
       "      <th>135600</th>\n",
       "      <td>27568</td>\n",
       "      <td>CA</td>\n",
       "      <td>C/O K. ERBINER</td>\n",
       "    </tr>\n",
       "    <tr>\n",
       "      <th>135811</th>\n",
       "      <td>NaN</td>\n",
       "      <td>CA</td>\n",
       "      <td>G F FLAT D RICHVIEW CT 20</td>\n",
       "    </tr>\n",
       "    <tr>\n",
       "      <th>137597</th>\n",
       "      <td>SW1V 2HN</td>\n",
       "      <td>CA</td>\n",
       "      <td>14 DEVONSHIRE HOUSE</td>\n",
       "    </tr>\n",
       "    <tr>\n",
       "      <th>139264</th>\n",
       "      <td>5000</td>\n",
       "      <td>CA</td>\n",
       "      <td>258 R MAPA ST</td>\n",
       "    </tr>\n",
       "    <tr>\n",
       "      <th>139788</th>\n",
       "      <td>NaN</td>\n",
       "      <td>CA</td>\n",
       "      <td>NaN</td>\n",
       "    </tr>\n",
       "    <tr>\n",
       "      <th>141996</th>\n",
       "      <td>NaN</td>\n",
       "      <td>TX</td>\n",
       "      <td>NaN</td>\n",
       "    </tr>\n",
       "    <tr>\n",
       "      <th>143849</th>\n",
       "      <td>NaN</td>\n",
       "      <td>TX</td>\n",
       "      <td>NaN</td>\n",
       "    </tr>\n",
       "    <tr>\n",
       "      <th>146260</th>\n",
       "      <td>NaN</td>\n",
       "      <td>IL</td>\n",
       "      <td>NaN</td>\n",
       "    </tr>\n",
       "    <tr>\n",
       "      <th>149110</th>\n",
       "      <td>NaN</td>\n",
       "      <td>TX</td>\n",
       "      <td>NaN</td>\n",
       "    </tr>\n",
       "    <tr>\n",
       "      <th>149916</th>\n",
       "      <td>NaN</td>\n",
       "      <td>IL</td>\n",
       "      <td>NaN</td>\n",
       "    </tr>\n",
       "    <tr>\n",
       "      <th>152067</th>\n",
       "      <td>8000</td>\n",
       "      <td>MI</td>\n",
       "      <td>PO BOX 80410</td>\n",
       "    </tr>\n",
       "    <tr>\n",
       "      <th>155979</th>\n",
       "      <td>6045</td>\n",
       "      <td>MD</td>\n",
       "      <td>ALPHA EXECUTIVE HOME</td>\n",
       "    </tr>\n",
       "    <tr>\n",
       "      <th>157195</th>\n",
       "      <td>NaN</td>\n",
       "      <td>TX</td>\n",
       "      <td>NaN</td>\n",
       "    </tr>\n",
       "    <tr>\n",
       "      <th>158846</th>\n",
       "      <td>CAJ</td>\n",
       "      <td>TX</td>\n",
       "      <td>SERPOST CAJAMARCA</td>\n",
       "    </tr>\n",
       "    <tr>\n",
       "      <th>162083</th>\n",
       "      <td>NaN</td>\n",
       "      <td>NM</td>\n",
       "      <td>CLL-66 #50-122</td>\n",
       "    </tr>\n",
       "  </tbody>\n",
       "</table>\n",
       "<p>167 rows × 3 columns</p>\n",
       "</div>"
      ],
      "text/plain": [
       "       POSTAL_SFI LOC_STATE                    ADDRESS1\n",
       "124           NaN       NaN                         NaN\n",
       "541           NaN       NaN                         NaN\n",
       "834           NaN       NaN                         NaN\n",
       "835           NaN       NaN                         NaN\n",
       "909           NaN       NaN                         NaN\n",
       "1435          NaN       NaN                         NaN\n",
       "1953          NaN       NaN                         NaN\n",
       "2195          NaN        AZ                         NaN\n",
       "2521          NaN       NaN                         NaN\n",
       "2890          NaN        NC     C/O ELBOW CAY BEACH INN\n",
       "2923          NaN        CA                         NaN\n",
       "2979          NaN        IL                         NaN\n",
       "3073          NaN       NaN                         NaN\n",
       "3510          NaN        IL    53 MIDWAY ROAD SOUTHGATE\n",
       "4595          NaN       NaN                         NaN\n",
       "4657          NaN       NaN                         NaN\n",
       "4856          NaN       NaN                         NaN\n",
       "4858          NaN       NaN                         NaN\n",
       "4918          NaN       NaN                         NaN\n",
       "5261          NaN       NaN                         NaN\n",
       "5584          NaN       NaN                         NaN\n",
       "5751          NaN       NaN                         NaN\n",
       "5853        30419       NaN    282 SCHULNDERGER LANDSTR\n",
       "6111          NaN       NaN                         NaN\n",
       "6235          NaN       NaN                         NaN\n",
       "6334        00657        FL    LA GAVIOTA B-2 URBANIZAC\n",
       "7529          NaN        LA                         NaN\n",
       "9646          NaN       NaN                         NaN\n",
       "9648          NaN       NaN                         NaN\n",
       "9651          NaN       NaN                         NaN\n",
       "...           ...       ...                         ...\n",
       "109803        NaN        AR                         NaN\n",
       "110163      28007        AR  C/ MARQUES DE LOZOYA 40 9D\n",
       "111909        NaN        LA                         NaN\n",
       "112416    1611 BP        LA                         NaN\n",
       "115325      48012        FL     PABLO DE ALZOLA #15 1-D\n",
       "115841       6065        TX         84/30 MANGANO PLACE\n",
       "117130    KY11110        FL                 PO BOX 1542\n",
       "126617        NaN        NE                         NaN\n",
       "127174        NaN        OH                         NaN\n",
       "127779      09267        WA             CMR 437 BOX 212\n",
       "130046        NaN        AZ                         NaN\n",
       "130776      38070        WA                    MORTELEK\n",
       "131723      60500        WA      HAY ALLAL BEN ABDELLAH\n",
       "133000        NaN        CA                         NaN\n",
       "133034        NaN        CA                         NaN\n",
       "135600      27568        CA              C/O K. ERBINER\n",
       "135811        NaN        CA   G F FLAT D RICHVIEW CT 20\n",
       "137597   SW1V 2HN        CA         14 DEVONSHIRE HOUSE\n",
       "139264       5000        CA               258 R MAPA ST\n",
       "139788        NaN        CA                         NaN\n",
       "141996        NaN        TX                         NaN\n",
       "143849        NaN        TX                         NaN\n",
       "146260        NaN        IL                         NaN\n",
       "149110        NaN        TX                         NaN\n",
       "149916        NaN        IL                         NaN\n",
       "152067       8000        MI                PO BOX 80410\n",
       "155979       6045        MD        ALPHA EXECUTIVE HOME\n",
       "157195        NaN        TX                         NaN\n",
       "158846        CAJ        TX           SERPOST CAJAMARCA\n",
       "162083        NaN        NM              CLL-66 #50-122\n",
       "\n",
       "[167 rows x 3 columns]"
      ]
     },
     "execution_count": 104,
     "metadata": {},
     "output_type": "execute_result"
    }
   ],
   "source": [
    "empltbl[empltbl['STATE'].isnull()][['POSTAL_SFI','LOC_STATE','ADDRESS1']]"
   ]
  },
  {
   "cell_type": "code",
   "execution_count": 105,
   "metadata": {
    "collapsed": false
   },
   "outputs": [
    {
     "name": "stdout",
     "output_type": "stream",
     "text": [
      "ACTRES1 object 71 \t27931\n",
      "ACTRES10 object 162653 \t12402\n",
      "ACTRES2 object 55228 \t24122\n",
      "ACTRES3 object 94462 \t20617\n",
      "ACTRES4 object 114253 \t18666\n",
      "ACTRES5 object 126127 \t15019\n",
      "ACTRES6 object 134126 \t12415\n",
      "ACTRES7 object 141312 \t13382\n",
      "ACTRES8 object 149309 \t11453\n",
      "ACTRES9 object 155885 \t11772\n",
      "ADDRCNT1 float64 125 \t6\n",
      "ADDRCNT10 float64 125 \t15\n",
      "ADDRCNT3 float64 125 \t10\n",
      "ADDRCNT5 float64 125 \t12\n",
      "ADDRESS1 object 127 \t231398\n",
      "ADDRESS2 object 226967 \t8807\n",
      "ANNUAL_RT float64 0 \t132927\n",
      "Age_tdelta timedelta64[ns] 0 \t19737\n",
      "Age_years float64 0 \t19737\n",
      "BIRTHDATE datetime64[ns] 0 \t24857\n",
      "BOX1 object 111794 \t4\n",
      "BOX10 object 170699 \t4\n",
      "BOX2 object 102708 \t4\n",
      "BOX3 object 119528 \t4\n",
      "BOX4 object 130752 \t4\n",
      "BOX5 object 138540 \t4\n",
      "BOX6 object 145113 \t4\n",
      "BOX7 object 152804 \t4\n",
      "BOX8 object 158869 \t4\n",
      "BOX9 object 165079 \t4\n",
      "COMPANY object 0 \t7\n",
      "COMP_FREQUENCY object 0 \t4\n",
      "CUR_DEPT_MOS float64 0 \t5388\n",
      "CUR_EFUNC_MOS float64 0 \t7917\n",
      "CUR_FUNC_MOS float64 0 \t9048\n",
      "CUR_GRADE_MOS float64 0 \t4876\n",
      "CUR_JOB_MOS float64 0 \t6476\n",
      "CUR_LOC_MOS float64 0 \t7883\n",
      "DEPTCNT1 int64 0 \t8\n",
      "DEPTCNT10 int64 0 \t23\n",
      "DEPTCNT3 int64 0 \t12\n",
      "DEPTCNT5 int64 0 \t16\n",
      "DIRECT_RPT_CNT float64 65190 \t193\n",
      "DIVISION_CODE_SFI object 19 \t10\n",
      "EEO1CODE object 0 \t11\n",
      "EFUNCCNT1 int64 0 \t6\n",
      "EFUNCCNT10 int64 0 \t14\n",
      "EFUNCCNT3 int64 0 \t9\n",
      "EFUNCCNT5 int64 0 \t11\n",
      "EMPL_CLASS object 0 \t12\n",
      "EMPL_TYPE object 0 \t5\n",
      "ETHNIC_GROUP float64 0 \t8\n",
      "EXTFUNC_CNT float64 122 \t10402\n",
      "EXT_FUNC_ID_SFI object 19 \t424\n",
      "FLOORCNT1 int64 0 \t6\n",
      "FLOORCNT10 int64 0 \t17\n",
      "FLOORCNT3 int64 0 \t9\n",
      "FLOORCNT5 int64 0 \t11\n",
      "FLOR_SFI int64 0 \t115\n",
      "FLSA_STATUS object 0 \t3\n",
      "FTE float64 0 \t99\n",
      "FTPTCNT1 int64 0 \t3\n",
      "FTPTCNT10 int64 0 \t6\n",
      "FTPTCNT3 int64 0 \t3\n",
      "FTPTCNT5 int64 0 \t4\n",
      "FULLPART1 object 0 \t2\n",
      "FULLPART10 object 0 \t2\n",
      "FULLPART3 object 0 \t2\n",
      "FULLPART5 object 0 \t2\n",
      "FULL_PART_TIME object 0 \t4\n",
      "FUNCCNT1 int64 0 \t4\n",
      "FUNCCNT10 int64 0 \t11\n",
      "FUNCCNT3 int64 0 \t6\n",
      "FUNCCNT5 int64 0 \t9\n",
      "FUNC_CNT float64 28 \t12302\n",
      "FUNC_ID_SFI object 19 \t64\n",
      "GRADE object 526 \t165\n",
      "GRADECNT1 int64 0 \t5\n",
      "GRADECNT10 int64 0 \t14\n",
      "GRADECNT3 int64 0 \t7\n",
      "GRADECNT5 int64 0 \t9\n",
      "HIRE_DT datetime64[ns] 0 \t13539\n",
      "HUBIND object 0 \t2\n",
      "INTERN object 0 \t2\n",
      "JOBCNT1 int64 0 \t7\n",
      "JOBCNT10 int64 0 \t14\n",
      "JOBCNT3 int64 0 \t9\n",
      "JOBCNT5 int64 0 \t11\n",
      "JOBCODE object 0 \t3835\n",
      "JOB_FAMILY object 84592 \t1496\n",
      "JOB_FUNCTION object 84623 \t20\n",
      "KEY object 0 \t243010\n",
      "LAST_HIRE_DT datetime64[ns] 0 \t12768\n",
      "LEGACY_DEPT_SFI object 0 \t56712\n",
      "LOCATION object 0 \t21957\n",
      "LOCCNT1 int64 0 \t7\n",
      "LOCCNT10 int64 0 \t13\n",
      "LOCCNT3 int64 0 \t8\n",
      "LOCCNT5 int64 0 \t9\n",
      "LOCSTCNT1 int64 0 \t5\n",
      "LOCSTCNT10 int64 0 \t8\n",
      "LOCSTCNT3 int64 0 \t6\n",
      "LOCSTCNT5 int64 0 \t7\n",
      "LOC_CITY object 12682 \t5125\n",
      "LOC_STATE object 12682 \t52\n",
      "LOC_TYPE_DESCR_SFI object 45 \t36\n",
      "MAR_STATUS_DT object 155142 \t5133\n",
      "MAR_STA_SNAME_SFI object 0 \t3\n",
      "MAX_RT_ANNUAL float64 0 \t1210\n",
      "MERIT1 float64 67665 \t79103\n",
      "MERIT10 float64 67665 \t45821\n",
      "MERIT2 float64 67665 \t83335\n",
      "MERIT3 float64 67665 \t76720\n",
      "MERIT4 float64 67665 \t70082\n",
      "MERIT5 float64 67665 \t65384\n",
      "MERIT6 float64 67665 \t62130\n",
      "MERIT7 float64 67665 \t59005\n",
      "MERIT8 float64 67665 \t53858\n",
      "MERIT9 float64 67665 \t49953\n",
      "MIN_RT_ANNUAL float64 0 \t1441\n",
      "PARTFULL1 object 0 \t2\n",
      "PARTFULL10 object 0 \t2\n",
      "PARTFULL3 object 0 \t2\n",
      "PARTFULL5 object 0 \t2\n",
      "PERF1 float64 67665 \t79165\n",
      "PERF10 float64 67665 \t42318\n",
      "PERF2 float64 67665 \t76287\n",
      "PERF3 float64 67665 \t69741\n",
      "PERF4 float64 67665 \t63905\n",
      "PERF5 float64 67665 \t58697\n",
      "PERF6 float64 67665 \t54250\n",
      "PERF7 float64 67665 \t50892\n",
      "PERF8 float64 67665 \t47174\n",
      "PERF9 float64 67665 \t44817\n",
      "PER_ORG object 0 \t1\n",
      "POSTAL_SFI object 171 \t33399\n",
      "PTFTCNT1 int64 0 \t3\n",
      "PTFTCNT10 int64 0 \t6\n",
      "PTFTCNT3 int64 0 \t4\n",
      "PTFTCNT5 int64 0 \t4\n",
      "RATE1 object 111379 \t65\n",
      "RATE10 object 170689 \t56\n",
      "RATE2 object 102366 \t53\n",
      "RATE3 object 119495 \t54\n",
      "RATE4 object 130725 \t56\n",
      "RATE5 object 138525 \t53\n",
      "RATE6 object 145100 \t56\n",
      "RATE7 object 152798 \t50\n",
      "RATE8 object 158859 \t53\n",
      "RATE9 object 165071 \t49\n",
      "REH_CNT int64 0 \t21\n",
      "RELOCATE_ALL_SFI object 0 \t2\n",
      "RELO_STATE_CNT_SFI int64 0 \t55\n",
      "REMOTE object 0 \t2\n",
      "REMOTE_SUPV object 0 \t2\n",
      "SAL1 float64 0 \t132927\n",
      "SAL10 float64 67665 \t52820\n",
      "SAL2 float64 67665 \t102333\n",
      "SAL3 float64 67665 \t93467\n",
      "SAL4 float64 67665 \t85961\n",
      "SAL5 float64 67665 \t79526\n",
      "SAL6 float64 67665 \t73399\n",
      "SAL7 float64 67665 \t67201\n",
      "SAL8 float64 67665 \t61906\n",
      "SAL9 float64 67665 \t57445\n",
      "SERVICE_DT datetime64[ns] 0 \t18008\n",
      "SEX object 0 \t2\n",
      "SHIFT object 0 \t4\n",
      "SKEY object 65146 \t15783\n",
      "STATE object 167 \t74\n",
      "STD_HOURS float64 0 \t178\n",
      "SUPVCNT1 int64 0 \t12\n",
      "SUPVCNT10 int64 0 \t31\n",
      "SUPVCNT3 int64 0 \t19\n",
      "SUPVCNT5 int64 0 \t22\n",
      "SUPV_DIFF_LOC object 0 \t2\n",
      "TELE_MOS float64 0 \t498\n",
      "TERMINATION_DT datetime64[ns] 0 \t8770\n",
      "TOTAL_RPT_CNT float64 65190 \t1043\n",
      "TOT_MO_SERVICE_SFI int64 0 \t683\n",
      "Tenure_months float64 0 \t15772\n",
      "Tenure_tdelta timedelta64[ns] 0 \t15772\n",
      "VOLINVOL object 0 \t5\n",
      "status int64 0 \t2\n",
      "zip5 object 171 \t18917\n"
     ]
    }
   ],
   "source": [
    "sdf = summarize_dataframe2(empltbl)"
   ]
  },
  {
   "cell_type": "code",
   "execution_count": 72,
   "metadata": {
    "collapsed": false
   },
   "outputs": [],
   "source": [
    "sdf.to_csv('employee_table_summary.csv')\n",
    "# save to file"
   ]
  },
  {
   "cell_type": "code",
   "execution_count": 73,
   "metadata": {
    "collapsed": false
   },
   "outputs": [
    {
     "data": {
      "text/plain": [
       "1    172401\n",
       "0     70609\n",
       "dtype: int64"
      ]
     },
     "execution_count": 73,
     "metadata": {},
     "output_type": "execute_result"
    }
   ],
   "source": [
    "empltbl.status.value_counts()"
   ]
  },
  {
   "cell_type": "markdown",
   "metadata": {},
   "source": [
    "### restrict the dataframe to do linear-regression on.\n",
    "* first attempt is _ad hoc_ reduction of 185 columns\n",
    "    * keep age_years, tenure_months, status, sex for sure\n",
    "* look at cases where there is 'significant' correlation between columns:\n",
    "    * for example JOBCNTx, LOCCNTx, DEPTCNTx, ..."
   ]
  },
  {
   "cell_type": "code",
   "execution_count": 106,
   "metadata": {
    "collapsed": false
   },
   "outputs": [
    {
     "data": {
      "text/plain": [
       "(83, 185)"
      ]
     },
     "execution_count": 106,
     "metadata": {},
     "output_type": "execute_result"
    }
   ],
   "source": [
    "# define the set of columns that have missing values smaller than some threshold \n",
    "sdf['x_missing'] = sdf['nmissing']/len(empltbl)\n",
    "len(sdf[sdf['x_missing'] > 0]), len(sdf)"
   ]
  },
  {
   "cell_type": "code",
   "execution_count": 107,
   "metadata": {
    "collapsed": false
   },
   "outputs": [],
   "source": [
    "# now apply some logic to these columns for keeping and not\n",
    "columns_to_fix_missing = []\n",
    "columns_to_fix_NY = []\n",
    "columns_to_omit = []"
   ]
  },
  {
   "cell_type": "code",
   "execution_count": 76,
   "metadata": {
    "collapsed": false
   },
   "outputs": [
    {
     "name": "stdout",
     "output_type": "stream",
     "text": [
      "53\n"
     ]
    }
   ],
   "source": [
    "#\n",
    "missing_threshold = 0.40\n",
    "print len(sdf[(sdf['x_missing']>0) & (sdf['x_missing'] <= missing_threshold)])\n",
    "columns_to_fix_missing = sdf[(sdf['x_missing']>0) & (sdf['x_missing'] <= missing_threshold)].Column\n"
   ]
  },
  {
   "cell_type": "code",
   "execution_count": 77,
   "metadata": {
    "collapsed": false
   },
   "outputs": [
    {
     "data": {
      "text/plain": [
       "float64    37\n",
       "object     16\n",
       "dtype: int64"
      ]
     },
     "execution_count": 77,
     "metadata": {},
     "output_type": "execute_result"
    }
   ],
   "source": [
    "sdf.ix[columns_to_fix_missing.index].datatype.value_counts()"
   ]
  },
  {
   "cell_type": "code",
   "execution_count": 79,
   "metadata": {
    "collapsed": false
   },
   "outputs": [
    {
     "data": {
      "text/plain": [
       "0       ACTRES1\n",
       "2       ACTRES2\n",
       "3       ACTRES3\n",
       "10     ADDRCNT1\n",
       "11    ADDRCNT10\n",
       "Name: Column, dtype: object"
      ]
     },
     "execution_count": 79,
     "metadata": {},
     "output_type": "execute_result"
    }
   ],
   "source": [
    "columns_to_fix_missing.head()"
   ]
  },
  {
   "cell_type": "code",
   "execution_count": 111,
   "metadata": {
    "collapsed": false
   },
   "outputs": [
    {
     "data": {
      "text/plain": [
       "<matplotlib.axes._subplots.AxesSubplot at 0x7fdc4aa6b210>"
      ]
     },
     "execution_count": 111,
     "metadata": {},
     "output_type": "execute_result"
    },
    {
     "data": {
      "image/png": "[encoded data removed]",
      "text/plain": [
       "<matplotlib.figure.Figure at 0x7fdc79585610>"
      ]
     },
     "metadata": {},
     "output_type": "display_data"
    }
   ],
   "source": [
    "sdf['y_arity'] = sdf['arity']/len(empltbl)\n",
    "sdf['y_arity'].hist(bins=30)"
   ]
  },
  {
   "cell_type": "code",
   "execution_count": 115,
   "metadata": {
    "collapsed": false
   },
   "outputs": [
    {
     "data": {
      "text/plain": [
       "<matplotlib.axes._subplots.AxesSubplot at 0x7fdc81e72a10>"
      ]
     },
     "execution_count": 115,
     "metadata": {},
     "output_type": "execute_result"
    },
    {
     "data": {
      "image/png": "[encoded data removed]",
      "text/plain": [
       "<matplotlib.figure.Figure at 0x7fdc78cacb90>"
      ]
     },
     "metadata": {},
     "output_type": "display_data"
    }
   ],
   "source": [
    "sdf[sdf['datatype']=='object'].y_arity.hist(bins=50)"
   ]
  },
  {
   "cell_type": "code",
   "execution_count": 116,
   "metadata": {
    "collapsed": false
   },
   "outputs": [
    {
     "data": {
      "text/plain": [
       "76"
      ]
     },
     "execution_count": 116,
     "metadata": {},
     "output_type": "execute_result"
    }
   ],
   "source": [
    "len(sdf[sdf['datatype']=='object'])"
   ]
  },
  {
   "cell_type": "code",
   "execution_count": 120,
   "metadata": {
    "collapsed": false
   },
   "outputs": [
    {
     "data": {
      "text/html": [
       "<div style=\"max-height:1000px;max-width:1500px;overflow:auto;\">\n",
       "<table border=\"1\" class=\"dataframe\">\n",
       "  <thead>\n",
       "    <tr style=\"text-align: right;\">\n",
       "      <th></th>\n",
       "      <th>Column</th>\n",
       "      <th>datatype</th>\n",
       "      <th>nmissing</th>\n",
       "      <th>arity</th>\n",
       "      <th>accepted values</th>\n",
       "      <th>x_missing</th>\n",
       "      <th>y_arity</th>\n",
       "    </tr>\n",
       "  </thead>\n",
       "  <tbody>\n",
       "    <tr>\n",
       "      <th>0</th>\n",
       "      <td>ACTRES1</td>\n",
       "      <td>object</td>\n",
       "      <td>71</td>\n",
       "      <td>27931</td>\n",
       "      <td>None</td>\n",
       "      <td>0.000292</td>\n",
       "      <td>0.114938</td>\n",
       "    </tr>\n",
       "    <tr>\n",
       "      <th>2</th>\n",
       "      <td>ACTRES2</td>\n",
       "      <td>object</td>\n",
       "      <td>55228</td>\n",
       "      <td>24122</td>\n",
       "      <td>None</td>\n",
       "      <td>0.227266</td>\n",
       "      <td>0.099263</td>\n",
       "    </tr>\n",
       "    <tr>\n",
       "      <th>3</th>\n",
       "      <td>ACTRES3</td>\n",
       "      <td>object</td>\n",
       "      <td>94462</td>\n",
       "      <td>20617</td>\n",
       "      <td>None</td>\n",
       "      <td>0.388717</td>\n",
       "      <td>0.084840</td>\n",
       "    </tr>\n",
       "    <tr>\n",
       "      <th>14</th>\n",
       "      <td>ADDRESS1</td>\n",
       "      <td>object</td>\n",
       "      <td>127</td>\n",
       "      <td>231398</td>\n",
       "      <td>None</td>\n",
       "      <td>0.000523</td>\n",
       "      <td>0.952216</td>\n",
       "    </tr>\n",
       "    <tr>\n",
       "      <th>43</th>\n",
       "      <td>DIVISION_CODE_SFI</td>\n",
       "      <td>object</td>\n",
       "      <td>19</td>\n",
       "      <td>10</td>\n",
       "      <td>[9, 6, 1, 2, 4, 3, 5, 7, 0, nan]</td>\n",
       "      <td>0.000078</td>\n",
       "      <td>0.000041</td>\n",
       "    </tr>\n",
       "    <tr>\n",
       "      <th>53</th>\n",
       "      <td>EXT_FUNC_ID_SFI</td>\n",
       "      <td>object</td>\n",
       "      <td>19</td>\n",
       "      <td>424</td>\n",
       "      <td>None</td>\n",
       "      <td>0.000078</td>\n",
       "      <td>0.001745</td>\n",
       "    </tr>\n",
       "    <tr>\n",
       "      <th>75</th>\n",
       "      <td>FUNC_ID_SFI</td>\n",
       "      <td>object</td>\n",
       "      <td>19</td>\n",
       "      <td>64</td>\n",
       "      <td>None</td>\n",
       "      <td>0.000078</td>\n",
       "      <td>0.000263</td>\n",
       "    </tr>\n",
       "    <tr>\n",
       "      <th>76</th>\n",
       "      <td>GRADE</td>\n",
       "      <td>object</td>\n",
       "      <td>526</td>\n",
       "      <td>165</td>\n",
       "      <td>None</td>\n",
       "      <td>0.002165</td>\n",
       "      <td>0.000679</td>\n",
       "    </tr>\n",
       "    <tr>\n",
       "      <th>89</th>\n",
       "      <td>JOB_FAMILY</td>\n",
       "      <td>object</td>\n",
       "      <td>84592</td>\n",
       "      <td>1496</td>\n",
       "      <td>None</td>\n",
       "      <td>0.348101</td>\n",
       "      <td>0.006156</td>\n",
       "    </tr>\n",
       "    <tr>\n",
       "      <th>90</th>\n",
       "      <td>JOB_FUNCTION</td>\n",
       "      <td>object</td>\n",
       "      <td>84623</td>\n",
       "      <td>20</td>\n",
       "      <td>None</td>\n",
       "      <td>0.348228</td>\n",
       "      <td>0.000082</td>\n",
       "    </tr>\n",
       "    <tr>\n",
       "      <th>103</th>\n",
       "      <td>LOC_CITY</td>\n",
       "      <td>object</td>\n",
       "      <td>12682</td>\n",
       "      <td>5125</td>\n",
       "      <td>None</td>\n",
       "      <td>0.052187</td>\n",
       "      <td>0.021090</td>\n",
       "    </tr>\n",
       "    <tr>\n",
       "      <th>104</th>\n",
       "      <td>LOC_STATE</td>\n",
       "      <td>object</td>\n",
       "      <td>12682</td>\n",
       "      <td>52</td>\n",
       "      <td>None</td>\n",
       "      <td>0.052187</td>\n",
       "      <td>0.000214</td>\n",
       "    </tr>\n",
       "    <tr>\n",
       "      <th>105</th>\n",
       "      <td>LOC_TYPE_DESCR_SFI</td>\n",
       "      <td>object</td>\n",
       "      <td>45</td>\n",
       "      <td>36</td>\n",
       "      <td>None</td>\n",
       "      <td>0.000185</td>\n",
       "      <td>0.000148</td>\n",
       "    </tr>\n",
       "    <tr>\n",
       "      <th>135</th>\n",
       "      <td>POSTAL_SFI</td>\n",
       "      <td>object</td>\n",
       "      <td>171</td>\n",
       "      <td>33399</td>\n",
       "      <td>None</td>\n",
       "      <td>0.000704</td>\n",
       "      <td>0.137439</td>\n",
       "    </tr>\n",
       "    <tr>\n",
       "      <th>168</th>\n",
       "      <td>SKEY</td>\n",
       "      <td>object</td>\n",
       "      <td>65146</td>\n",
       "      <td>15783</td>\n",
       "      <td>None</td>\n",
       "      <td>0.268080</td>\n",
       "      <td>0.064948</td>\n",
       "    </tr>\n",
       "    <tr>\n",
       "      <th>169</th>\n",
       "      <td>STATE</td>\n",
       "      <td>object</td>\n",
       "      <td>167</td>\n",
       "      <td>74</td>\n",
       "      <td>None</td>\n",
       "      <td>0.000687</td>\n",
       "      <td>0.000305</td>\n",
       "    </tr>\n",
       "    <tr>\n",
       "      <th>184</th>\n",
       "      <td>zip5</td>\n",
       "      <td>object</td>\n",
       "      <td>171</td>\n",
       "      <td>18917</td>\n",
       "      <td>None</td>\n",
       "      <td>0.000704</td>\n",
       "      <td>0.077845</td>\n",
       "    </tr>\n",
       "  </tbody>\n",
       "</table>\n",
       "</div>"
      ],
      "text/plain": [
       "                 Column datatype  nmissing   arity  \\\n",
       "0               ACTRES1   object        71   27931   \n",
       "2               ACTRES2   object     55228   24122   \n",
       "3               ACTRES3   object     94462   20617   \n",
       "14             ADDRESS1   object       127  231398   \n",
       "43    DIVISION_CODE_SFI   object        19      10   \n",
       "53      EXT_FUNC_ID_SFI   object        19     424   \n",
       "75          FUNC_ID_SFI   object        19      64   \n",
       "76                GRADE   object       526     165   \n",
       "89           JOB_FAMILY   object     84592    1496   \n",
       "90         JOB_FUNCTION   object     84623      20   \n",
       "103            LOC_CITY   object     12682    5125   \n",
       "104           LOC_STATE   object     12682      52   \n",
       "105  LOC_TYPE_DESCR_SFI   object        45      36   \n",
       "135          POSTAL_SFI   object       171   33399   \n",
       "168                SKEY   object     65146   15783   \n",
       "169               STATE   object       167      74   \n",
       "184                zip5   object       171   18917   \n",
       "\n",
       "                      accepted values  x_missing   y_arity  \n",
       "0                                None   0.000292  0.114938  \n",
       "2                                None   0.227266  0.099263  \n",
       "3                                None   0.388717  0.084840  \n",
       "14                               None   0.000523  0.952216  \n",
       "43   [9, 6, 1, 2, 4, 3, 5, 7, 0, nan]   0.000078  0.000041  \n",
       "53                               None   0.000078  0.001745  \n",
       "75                               None   0.000078  0.000263  \n",
       "76                               None   0.002165  0.000679  \n",
       "89                               None   0.348101  0.006156  \n",
       "90                               None   0.348228  0.000082  \n",
       "103                              None   0.052187  0.021090  \n",
       "104                              None   0.052187  0.000214  \n",
       "105                              None   0.000185  0.000148  \n",
       "135                              None   0.000704  0.137439  \n",
       "168                              None   0.268080  0.064948  \n",
       "169                              None   0.000687  0.000305  \n",
       "184                              None   0.000704  0.077845  "
      ]
     },
     "execution_count": 120,
     "metadata": {},
     "output_type": "execute_result"
    }
   ],
   "source": [
    "sdf[(sdf['datatype']=='object') & (sdf['x_missing']<=missing_threshold) & (sdf['x_missing'] > 0)]"
   ]
  },
  {
   "cell_type": "code",
   "execution_count": 124,
   "metadata": {
    "collapsed": false
   },
   "outputs": [
    {
     "data": {
      "text/html": [
       "<div style=\"max-height:1000px;max-width:1500px;overflow:auto;\">\n",
       "<table border=\"1\" class=\"dataframe\">\n",
       "  <thead>\n",
       "    <tr style=\"text-align: right;\">\n",
       "      <th></th>\n",
       "      <th>status</th>\n",
       "      <th>LOC_STATE</th>\n",
       "      <th>LOC_CITY</th>\n",
       "      <th>JOB_FUNCTION</th>\n",
       "      <th>zip5</th>\n",
       "    </tr>\n",
       "  </thead>\n",
       "  <tbody>\n",
       "    <tr>\n",
       "      <th>1730</th>\n",
       "      <td>1</td>\n",
       "      <td>CA</td>\n",
       "      <td>ROHNERT PARK</td>\n",
       "      <td>NaN</td>\n",
       "      <td>NaN</td>\n",
       "    </tr>\n",
       "    <tr>\n",
       "      <th>4383</th>\n",
       "      <td>1</td>\n",
       "      <td>MO</td>\n",
       "      <td>COLUMBIA</td>\n",
       "      <td>NaN</td>\n",
       "      <td>NaN</td>\n",
       "    </tr>\n",
       "    <tr>\n",
       "      <th>38300</th>\n",
       "      <td>1</td>\n",
       "      <td>MO</td>\n",
       "      <td>COLUMBIA</td>\n",
       "      <td>NaN</td>\n",
       "      <td>NaN</td>\n",
       "    </tr>\n",
       "  </tbody>\n",
       "</table>\n",
       "</div>"
      ],
      "text/plain": [
       "       status LOC_STATE      LOC_CITY JOB_FUNCTION zip5\n",
       "1730        1        CA  ROHNERT PARK          NaN  NaN\n",
       "4383        1        MO      COLUMBIA          NaN  NaN\n",
       "38300       1        MO      COLUMBIA          NaN  NaN"
      ]
     },
     "execution_count": 124,
     "metadata": {},
     "output_type": "execute_result"
    }
   ],
   "source": [
    "empltbl[empltbl.STATE == 'NB'][['status','LOC_STATE','LOC_CITY','JOB_FUNCTION','zip5',']]"
   ]
  },
  {
   "cell_type": "code",
   "execution_count": 113,
   "metadata": {
    "collapsed": false
   },
   "outputs": [
    {
     "data": {
      "text/html": [
       "<div style=\"max-height:1000px;max-width:1500px;overflow:auto;\">\n",
       "<table border=\"1\" class=\"dataframe\">\n",
       "  <thead>\n",
       "    <tr style=\"text-align: right;\">\n",
       "      <th></th>\n",
       "      <th>Column</th>\n",
       "      <th>datatype</th>\n",
       "      <th>nmissing</th>\n",
       "      <th>arity</th>\n",
       "      <th>accepted values</th>\n",
       "      <th>x_missing</th>\n",
       "      <th>y_arity</th>\n",
       "    </tr>\n",
       "  </thead>\n",
       "  <tbody>\n",
       "    <tr>\n",
       "      <th>0</th>\n",
       "      <td>ACTRES1</td>\n",
       "      <td>object</td>\n",
       "      <td>71</td>\n",
       "      <td>27931</td>\n",
       "      <td>None</td>\n",
       "      <td>0.000292</td>\n",
       "      <td>0.114938</td>\n",
       "    </tr>\n",
       "    <tr>\n",
       "      <th>1</th>\n",
       "      <td>ACTRES10</td>\n",
       "      <td>object</td>\n",
       "      <td>162653</td>\n",
       "      <td>12402</td>\n",
       "      <td>None</td>\n",
       "      <td>0.669326</td>\n",
       "      <td>0.051035</td>\n",
       "    </tr>\n",
       "    <tr>\n",
       "      <th>2</th>\n",
       "      <td>ACTRES2</td>\n",
       "      <td>object</td>\n",
       "      <td>55228</td>\n",
       "      <td>24122</td>\n",
       "      <td>None</td>\n",
       "      <td>0.227266</td>\n",
       "      <td>0.099263</td>\n",
       "    </tr>\n",
       "    <tr>\n",
       "      <th>3</th>\n",
       "      <td>ACTRES3</td>\n",
       "      <td>object</td>\n",
       "      <td>94462</td>\n",
       "      <td>20617</td>\n",
       "      <td>None</td>\n",
       "      <td>0.388717</td>\n",
       "      <td>0.084840</td>\n",
       "    </tr>\n",
       "    <tr>\n",
       "      <th>4</th>\n",
       "      <td>ACTRES4</td>\n",
       "      <td>object</td>\n",
       "      <td>114253</td>\n",
       "      <td>18666</td>\n",
       "      <td>None</td>\n",
       "      <td>0.470158</td>\n",
       "      <td>0.076812</td>\n",
       "    </tr>\n",
       "  </tbody>\n",
       "</table>\n",
       "</div>"
      ],
      "text/plain": [
       "     Column datatype  nmissing  arity accepted values  x_missing   y_arity\n",
       "0   ACTRES1   object        71  27931            None   0.000292  0.114938\n",
       "1  ACTRES10   object    162653  12402            None   0.669326  0.051035\n",
       "2   ACTRES2   object     55228  24122            None   0.227266  0.099263\n",
       "3   ACTRES3   object     94462  20617            None   0.388717  0.084840\n",
       "4   ACTRES4   object    114253  18666            None   0.470158  0.076812"
      ]
     },
     "execution_count": 113,
     "metadata": {},
     "output_type": "execute_result"
    }
   ],
   "source": [
    "sdf.head()"
   ]
  },
  {
   "cell_type": "code",
   "execution_count": 126,
   "metadata": {
    "collapsed": false
   },
   "outputs": [
    {
     "data": {
      "text/plain": [
       "0.00       72806\n",
       "3748.50      295\n",
       "3213.00      260\n",
       "212.63       177\n",
       "2677.50      160\n",
       "196.88       151\n",
       "1600.47      136\n",
       "472.50       129\n",
       "360.00       122\n",
       "4284.00      118\n",
       "1244.81      117\n",
       "4123.35      114\n",
       "4819.50      109\n",
       "1422.64      105\n",
       "294.00       101\n",
       "417.00        98\n",
       "3534.30       92\n",
       "209.08        87\n",
       "1956.13       72\n",
       "271.67        70\n",
       "195.35        69\n",
       "163.00        68\n",
       "291.90        67\n",
       "168.75        67\n",
       "630.00        64\n",
       "5301.45       61\n",
       "1066.98       61\n",
       "375.00        59\n",
       "531.56        57\n",
       "1778.30       56\n",
       "           ...  \n",
       "63.89          1\n",
       "8209.63        1\n",
       "228.74         1\n",
       "3926.35        1\n",
       "7770.53        1\n",
       "1091.86        1\n",
       "2323.94        1\n",
       "1286.77        1\n",
       "1242.74        1\n",
       "993.48         1\n",
       "959.65         1\n",
       "2425.58        1\n",
       "1087.76        1\n",
       "875.95         1\n",
       "542.59         1\n",
       "5806.04        1\n",
       "2485.58        1\n",
       "2631.44        1\n",
       "1665.86        1\n",
       "1188.14        1\n",
       "1910.95        1\n",
       "81.64          1\n",
       "4149.27        1\n",
       "869.10         1\n",
       "5757.09        1\n",
       "2435.08        1\n",
       "1521.03        1\n",
       "742.57         1\n",
       "1039.99        1\n",
       "2896.26        1\n",
       "dtype: int64"
      ]
     },
     "execution_count": 126,
     "metadata": {},
     "output_type": "execute_result"
    }
   ],
   "source": [
    "empltbl['PERF1'].value_counts()"
   ]
  },
  {
   "cell_type": "code",
   "execution_count": null,
   "metadata": {
    "collapsed": false
   },
   "outputs": [],
   "source": [
    "#for c in columns_to_fix_missing.values:\n",
    "sdf.ix[columns_to_fix_missing.index][sdf['datatype'].ix[columns_to_fix_missing.index]=='object']\n",
    "        "
   ]
  },
  {
   "cell_type": "code",
   "execution_count": 92,
   "metadata": {
    "collapsed": false
   },
   "outputs": [
    {
     "data": {
      "text/plain": [
       "27        nan\n",
       "124       nan\n",
       "541       nan\n",
       "834       nan\n",
       "835       nan\n",
       "909       nan\n",
       "993       nan\n",
       "1118      nan\n",
       "1435      nan\n",
       "1595      nan\n",
       "1730      nan\n",
       "1953      nan\n",
       "2152      nan\n",
       "2195      nan\n",
       "2473      nan\n",
       "2521      nan\n",
       "2796      nan\n",
       "2890      nan\n",
       "2923      nan\n",
       "2979      nan\n",
       "3073      nan\n",
       "3510      nan\n",
       "4383      nan\n",
       "4471      nan\n",
       "4595      nan\n",
       "4657      nan\n",
       "4856      nan\n",
       "4858      nan\n",
       "4918      nan\n",
       "5116      nan\n",
       "         ... \n",
       "89018     nan\n",
       "91303     nan\n",
       "94506     nan\n",
       "96172     nan\n",
       "99276     nan\n",
       "99664     nan\n",
       "102169    nan\n",
       "102905    nan\n",
       "105348    nan\n",
       "105835    nan\n",
       "107427    nan\n",
       "107572    nan\n",
       "108035    nan\n",
       "109803    nan\n",
       "111909    nan\n",
       "126617    nan\n",
       "127174    nan\n",
       "130046    nan\n",
       "133000    nan\n",
       "133034    nan\n",
       "135811    nan\n",
       "139788    nan\n",
       "141996    nan\n",
       "143849    nan\n",
       "146260    nan\n",
       "147144    nan\n",
       "149110    nan\n",
       "149916    nan\n",
       "157195    nan\n",
       "162083    nan\n",
       "Name: zip5, dtype: object"
      ]
     },
     "execution_count": 92,
     "metadata": {},
     "output_type": "execute_result"
    }
   ],
   "source": [
    "empltbl[empltbl.POSTAL_SFI.isnull()].zip5"
   ]
  },
  {
   "cell_type": "code",
   "execution_count": 110,
   "metadata": {
    "collapsed": false
   },
   "outputs": [
    {
     "data": {
      "text/plain": [
       "70604    MISCELLANEOUS DATA CHANGE;MISCELLANEOUS DATA C...\n",
       "70605    MISCELLANEOUS DATA CHANGE;MISCELLANEOUS DATA C...\n",
       "70606    MISCELLANEOUS DATA CHANGE;MISCELLANEOUS DATA C...\n",
       "70607    MISCELLANEOUS DATA CHANGE;MISCELLANEOUS DATA C...\n",
       "70608    MISCELLANEOUS DATA CHANGE;MISCELLANEOUS DATA C...\n",
       "Name: ACTRES1, dtype: object"
      ]
     },
     "execution_count": 110,
     "metadata": {},
     "output_type": "execute_result"
    }
   ],
   "source": [
    "empltbl.ACTRES1.tail()"
   ]
  },
  {
   "cell_type": "code",
   "execution_count": 108,
   "metadata": {
    "collapsed": false
   },
   "outputs": [
    {
     "data": {
      "text/plain": [
       "29"
      ]
     },
     "execution_count": 108,
     "metadata": {},
     "output_type": "execute_result"
    }
   ],
   "source": [
    "# omit those that have more than 40% missing:\n",
    "columns_to_omit = sdf[sdf['x_missing'] > missing_threshold].Column.values\n",
    "print len(columns_to_omit)\n",
    "columns_to_omit"
   ]
  },
  {
   "cell_type": "code",
   "execution_count": 173,
   "metadata": {
    "collapsed": false
   },
   "outputs": [
    {
     "name": "stdout",
     "output_type": "stream",
     "text": [
      "61\n"
     ]
    }
   ],
   "source": [
    "# omit those that have more than 40% missing:\n",
    "missing_threshold = 0.27\n",
    "columns_to_omit = list(sdf[sdf['x_missing'] > missing_threshold].Column.values)\n",
    "print len(columns_to_omit)\n",
    "#columns_to_omit"
   ]
  },
  {
   "cell_type": "code",
   "execution_count": 174,
   "metadata": {
    "collapsed": false
   },
   "outputs": [
    {
     "name": "stdout",
     "output_type": "stream",
     "text": [
      "119 21\n"
     ]
    }
   ],
   "source": [
    "# add the ACTRES2/3 and ADDRESS1/2 lines\n",
    "# add *_tdelta, BIRTHDATE, PER_ORG\n",
    "# add POSTAL_SFI, zip5, MAR_STA_SNAME_SFI, LOC_TYPE_DESC_SFI\n",
    "others_to_omit = ['ADDRESS1','Age_tdelta','BIRTHDATE','LAST_HIRE_DT',\n",
    "                  'LOC_CITY','LOC_TYPE_DESCR_SFI','MAR_STATUS_DT','MAR_STA_SNAME_SFI',\n",
    "                  'PER_ORG','POSTAL_SFI','SKEY','SERVICE_DT','TERMINATION_DT',\n",
    "                  'Tenure_tdelta','zip5']\n",
    "                 #'MERIT1','MERIT2','MERIT3','MERIT4','MERIT5','MERIT6','MERIT7','MERIT8','MERIT9','MERIT10',\n",
    "                 #'PERF1','PERF2','PERF3','PERF4','PERF5','PERF6','PERF7','PERF8','PERF9','PERF10']\n",
    "history_to_omit = ['ADDRCNT10','ADDRCNT3','ADDRCNT5','DEPTCNT10','DEPTCNT3','DEPTCNT5',\n",
    "                   'EFUNCCNT10','EFUNCCNT3','EFUNCCNT5','FLOORCNT10','FLOORCNT3','FLOORCNT5',\n",
    "                  'FTPTCNT10','FTPTCNT3','FTPTCNT5','FULLPART10','FULLPART3','FULLPART5',\n",
    "                  'FUNCCNT10','FUNCCNT3','FUNCCNT5','GRADECNT10','GRADECNT3','GRADECNT5',\n",
    "                  'JOBCNT10','JOBCNT3','JOBCNT5','LOCCNT10','LOCCNT3','LOCCNT5','LOCSTCNT10','LOCSTCNT3','LOCSTCNT5',\n",
    "                  'PARTFULL10','PARTFULL3','PARTFULL5','PTFTCNT10','PTFTCNT3','PTFTCNT5',\n",
    "                   'SUPVCNT10','SUPVCNT3','SUPVCNT5','ACTRES2']\n",
    "cols_to_categorical = ['COMPANY','COMP_FREQUENCY','DIVISION_CODE_SFI','EEO1CODE','EMPL_CLASS','EMPL_TYPE','ETHNIC_GROUP',\n",
    "                       'FLSA_STATUS','FULLPART1','FULL_PART_TIME','HUBIND','INTERN','JOB_FUNCTION','RELOCATE_ALL_SFI',\n",
    "                       'REMOTE','REMOTE_SUPV','SEX','SHIFT','SUPV_DIFF_LOC','VOLINVOL','status']\n",
    "for col in others_to_omit:\n",
    "    columns_to_omit.append(col)\n",
    "\n",
    "for col in history_to_omit:\n",
    "    columns_to_omit.append(col)\n",
    "    \n",
    "print len(columns_to_omit),len(cols_to_categorical)"
   ]
  },
  {
   "cell_type": "code",
   "execution_count": 175,
   "metadata": {
    "collapsed": false
   },
   "outputs": [
    {
     "data": {
      "text/plain": [
       "117"
      ]
     },
     "execution_count": 175,
     "metadata": {},
     "output_type": "execute_result"
    }
   ],
   "source": [
    "# add JOB_FAMILY and JOB_FUNCTION back into those to keep\n",
    "columns_to_omit.remove('JOB_FAMILY')\n",
    "columns_to_omit.remove('JOB_FUNCTION')\n",
    "\n",
    "len(columns_to_omit)"
   ]
  },
  {
   "cell_type": "code",
   "execution_count": 176,
   "metadata": {
    "collapsed": false
   },
   "outputs": [
    {
     "data": {
      "text/plain": [
       "69"
      ]
     },
     "execution_count": 176,
     "metadata": {},
     "output_type": "execute_result"
    }
   ],
   "source": [
    "# define columns to keep\n",
    "columns_to_keep = list(set(empltbl.columns)-set(columns_to_omit))\n",
    "len(columns_to_keep)"
   ]
  },
  {
   "cell_type": "code",
   "execution_count": 177,
   "metadata": {
    "collapsed": false
   },
   "outputs": [
    {
     "data": {
      "text/plain": [
       "array(['ACTRES1', 'ADDRCNT1', 'ANNUAL_RT', 'Age_years', 'COMPANY',\n",
       "       'COMP_FREQUENCY', 'CUR_DEPT_MOS', 'CUR_EFUNC_MOS', 'CUR_FUNC_MOS',\n",
       "       'CUR_GRADE_MOS', 'CUR_JOB_MOS', 'CUR_LOC_MOS', 'DEPTCNT1',\n",
       "       'DIRECT_RPT_CNT', 'DIVISION_CODE_SFI', 'EEO1CODE', 'EFUNCCNT1',\n",
       "       'EMPL_CLASS', 'EMPL_TYPE', 'ETHNIC_GROUP', 'EXTFUNC_CNT',\n",
       "       'EXT_FUNC_ID_SFI', 'FLOORCNT1', 'FLOR_SFI', 'FLSA_STATUS', 'FTE',\n",
       "       'FTPTCNT1', 'FULLPART1', 'FULL_PART_TIME', 'FUNCCNT1', 'FUNC_CNT',\n",
       "       'FUNC_ID_SFI', 'GRADE', 'GRADECNT1', 'HIRE_DT', 'HUBIND', 'INTERN',\n",
       "       'JOBCNT1', 'JOBCODE', 'JOB_FAMILY', 'JOB_FUNCTION', 'KEY',\n",
       "       'LEGACY_DEPT_SFI', 'LOCATION', 'LOCCNT1', 'LOCSTCNT1', 'LOC_STATE',\n",
       "       'MAX_RT_ANNUAL', 'MIN_RT_ANNUAL', 'PARTFULL1', 'PTFTCNT1',\n",
       "       'REH_CNT', 'RELOCATE_ALL_SFI', 'RELO_STATE_CNT_SFI', 'REMOTE',\n",
       "       'REMOTE_SUPV', 'SAL1', 'SEX', 'SHIFT', 'STATE', 'STD_HOURS',\n",
       "       'SUPVCNT1', 'SUPV_DIFF_LOC', 'TELE_MOS', 'TOTAL_RPT_CNT',\n",
       "       'TOT_MO_SERVICE_SFI', 'Tenure_months', 'VOLINVOL', 'status'], \n",
       "      dtype='|S18')"
      ]
     },
     "execution_count": 177,
     "metadata": {},
     "output_type": "execute_result"
    }
   ],
   "source": [
    "sort(columns_to_keep)"
   ]
  },
  {
   "cell_type": "code",
   "execution_count": 178,
   "metadata": {
    "collapsed": false
   },
   "outputs": [
    {
     "data": {
      "text/plain": [
       "(243010, 69)"
      ]
     },
     "execution_count": 178,
     "metadata": {},
     "output_type": "execute_result"
    }
   ],
   "source": [
    "reduced_tbl = empltbl[columns_to_keep].copy()\n",
    "reduced_tbl.shape"
   ]
  },
  {
   "cell_type": "code",
   "execution_count": 180,
   "metadata": {
    "collapsed": false
   },
   "outputs": [],
   "source": [
    "for cat_col in cols_to_categorical:\n",
    "    reduced_tbl[cat_col] = reduced_tbl[cat_col].astype('category')\n"
   ]
  },
  {
   "cell_type": "code",
   "execution_count": null,
   "metadata": {
    "collapsed": false
   },
   "outputs": [],
   "source": [
    "reduced_summary_df = summarize_dataframe2(red_tbl)"
   ]
  },
  {
   "cell_type": "code",
   "execution_count": 181,
   "metadata": {
    "collapsed": false
   },
   "outputs": [
    {
     "data": {
      "text/html": [
       "<div style=\"max-height:1000px;max-width:1500px;overflow:auto;\">\n",
       "<table border=\"1\" class=\"dataframe\">\n",
       "  <thead>\n",
       "    <tr style=\"text-align: right;\">\n",
       "      <th></th>\n",
       "      <th>EXT_FUNC_ID_SFI</th>\n",
       "      <th>EMPL_CLASS</th>\n",
       "      <th>REH_CNT</th>\n",
       "      <th>FLOR_SFI</th>\n",
       "      <th>FULL_PART_TIME</th>\n",
       "      <th>ACTRES1</th>\n",
       "      <th>EEO1CODE</th>\n",
       "      <th>SHIFT</th>\n",
       "      <th>FUNCCNT1</th>\n",
       "      <th>LOC_STATE</th>\n",
       "      <th>...</th>\n",
       "      <th>DIRECT_RPT_CNT</th>\n",
       "      <th>LOCCNT1</th>\n",
       "      <th>PARTFULL1</th>\n",
       "      <th>KEY</th>\n",
       "      <th>DEPTCNT1</th>\n",
       "      <th>FUNC_ID_SFI</th>\n",
       "      <th>EMPL_TYPE</th>\n",
       "      <th>CUR_FUNC_MOS</th>\n",
       "      <th>CUR_DEPT_MOS</th>\n",
       "      <th>COMP_FREQUENCY</th>\n",
       "    </tr>\n",
       "  </thead>\n",
       "  <tbody>\n",
       "    <tr>\n",
       "      <th>0</th>\n",
       "      <td>99999</td>\n",
       "      <td>1</td>\n",
       "      <td>0</td>\n",
       "      <td>999</td>\n",
       "      <td>X</td>\n",
       "      <td>NORMAL RETIREMENT</td>\n",
       "      <td>N</td>\n",
       "      <td>N</td>\n",
       "      <td>0</td>\n",
       "      <td>NaN</td>\n",
       "      <td>...</td>\n",
       "      <td>NaN</td>\n",
       "      <td>0</td>\n",
       "      <td>N</td>\n",
       "      <td>880033485535548</td>\n",
       "      <td>0</td>\n",
       "      <td>99999</td>\n",
       "      <td>N</td>\n",
       "      <td>0</td>\n",
       "      <td>0</td>\n",
       "      <td>A</td>\n",
       "    </tr>\n",
       "    <tr>\n",
       "      <th>1</th>\n",
       "      <td>00077</td>\n",
       "      <td>1</td>\n",
       "      <td>0</td>\n",
       "      <td>999</td>\n",
       "      <td>F</td>\n",
       "      <td>ANOTHER OPPORTUNITY;COMPANY WIDE CONVERSION;RE...</td>\n",
       "      <td>2</td>\n",
       "      <td>N</td>\n",
       "      <td>0</td>\n",
       "      <td>MI</td>\n",
       "      <td>...</td>\n",
       "      <td>NaN</td>\n",
       "      <td>0</td>\n",
       "      <td>N</td>\n",
       "      <td>136991961922958</td>\n",
       "      <td>0</td>\n",
       "      <td>00001</td>\n",
       "      <td>E</td>\n",
       "      <td>0</td>\n",
       "      <td>0</td>\n",
       "      <td>A</td>\n",
       "    </tr>\n",
       "    <tr>\n",
       "      <th>2</th>\n",
       "      <td>00321</td>\n",
       "      <td>1</td>\n",
       "      <td>0</td>\n",
       "      <td>999</td>\n",
       "      <td>F</td>\n",
       "      <td>ANOTHER OPPORTUNITY;COMPANY WIDE CONVERSION;RE...</td>\n",
       "      <td>2</td>\n",
       "      <td>N</td>\n",
       "      <td>0</td>\n",
       "      <td>MD</td>\n",
       "      <td>...</td>\n",
       "      <td>NaN</td>\n",
       "      <td>0</td>\n",
       "      <td>N</td>\n",
       "      <td>12306951923439</td>\n",
       "      <td>0</td>\n",
       "      <td>00004</td>\n",
       "      <td>E</td>\n",
       "      <td>0</td>\n",
       "      <td>0</td>\n",
       "      <td>A</td>\n",
       "    </tr>\n",
       "    <tr>\n",
       "      <th>3</th>\n",
       "      <td>00321</td>\n",
       "      <td>1</td>\n",
       "      <td>0</td>\n",
       "      <td>999</td>\n",
       "      <td>F</td>\n",
       "      <td>ANOTHER OPPORTUNITY;COMPANY WIDE CONVERSION;RE...</td>\n",
       "      <td>2</td>\n",
       "      <td>N</td>\n",
       "      <td>0</td>\n",
       "      <td>AZ</td>\n",
       "      <td>...</td>\n",
       "      <td>NaN</td>\n",
       "      <td>0</td>\n",
       "      <td>N</td>\n",
       "      <td>281250500251190</td>\n",
       "      <td>0</td>\n",
       "      <td>00004</td>\n",
       "      <td>E</td>\n",
       "      <td>0</td>\n",
       "      <td>0</td>\n",
       "      <td>A</td>\n",
       "    </tr>\n",
       "    <tr>\n",
       "      <th>4</th>\n",
       "      <td>00094</td>\n",
       "      <td>1</td>\n",
       "      <td>0</td>\n",
       "      <td>999</td>\n",
       "      <td>F</td>\n",
       "      <td>ANOTHER OPPORTUNITY;COMPANY WIDE CONVERSION;RE...</td>\n",
       "      <td>6</td>\n",
       "      <td>N</td>\n",
       "      <td>0</td>\n",
       "      <td>TX</td>\n",
       "      <td>...</td>\n",
       "      <td>NaN</td>\n",
       "      <td>0</td>\n",
       "      <td>N</td>\n",
       "      <td>942534502103242</td>\n",
       "      <td>0</td>\n",
       "      <td>00006</td>\n",
       "      <td>E</td>\n",
       "      <td>0</td>\n",
       "      <td>0</td>\n",
       "      <td>A</td>\n",
       "    </tr>\n",
       "  </tbody>\n",
       "</table>\n",
       "<p>5 rows × 69 columns</p>\n",
       "</div>"
      ],
      "text/plain": [
       "  EXT_FUNC_ID_SFI EMPL_CLASS  REH_CNT  FLOR_SFI FULL_PART_TIME  \\\n",
       "0           99999          1        0       999              X   \n",
       "1           00077          1        0       999              F   \n",
       "2           00321          1        0       999              F   \n",
       "3           00321          1        0       999              F   \n",
       "4           00094          1        0       999              F   \n",
       "\n",
       "                                             ACTRES1 EEO1CODE SHIFT  FUNCCNT1  \\\n",
       "0                                  NORMAL RETIREMENT        N     N         0   \n",
       "1  ANOTHER OPPORTUNITY;COMPANY WIDE CONVERSION;RE...        2     N         0   \n",
       "2  ANOTHER OPPORTUNITY;COMPANY WIDE CONVERSION;RE...        2     N         0   \n",
       "3  ANOTHER OPPORTUNITY;COMPANY WIDE CONVERSION;RE...        2     N         0   \n",
       "4  ANOTHER OPPORTUNITY;COMPANY WIDE CONVERSION;RE...        6     N         0   \n",
       "\n",
       "  LOC_STATE       ...       DIRECT_RPT_CNT LOCCNT1 PARTFULL1              KEY  \\\n",
       "0       NaN       ...                  NaN       0         N  880033485535548   \n",
       "1        MI       ...                  NaN       0         N  136991961922958   \n",
       "2        MD       ...                  NaN       0         N   12306951923439   \n",
       "3        AZ       ...                  NaN       0         N  281250500251190   \n",
       "4        TX       ...                  NaN       0         N  942534502103242   \n",
       "\n",
       "   DEPTCNT1  FUNC_ID_SFI EMPL_TYPE  CUR_FUNC_MOS CUR_DEPT_MOS  COMP_FREQUENCY  \n",
       "0         0        99999         N             0            0               A  \n",
       "1         0        00001         E             0            0               A  \n",
       "2         0        00004         E             0            0               A  \n",
       "3         0        00004         E             0            0               A  \n",
       "4         0        00006         E             0            0               A  \n",
       "\n",
       "[5 rows x 69 columns]"
      ]
     },
     "execution_count": 181,
     "metadata": {},
     "output_type": "execute_result"
    }
   ],
   "source": [
    "reduced_tbl.head()"
   ]
  },
  {
   "cell_type": "code",
   "execution_count": 184,
   "metadata": {
    "collapsed": false
   },
   "outputs": [
    {
     "data": {
      "text/plain": [
       "Index([u'EXT_FUNC_ID_SFI', u'EMPL_CLASS', u'REH_CNT', u'FLOR_SFI', u'FULL_PART_TIME', u'ACTRES1', u'EEO1CODE', u'SHIFT', u'FUNCCNT1', u'LOC_STATE', u'JOB_FUNCTION', u'INTERN', u'GRADE', u'TELE_MOS', u'SUPVCNT1', u'ANNUAL_RT', u'LEGACY_DEPT_SFI', u'CUR_LOC_MOS', u'JOB_FAMILY', u'TOT_MO_SERVICE_SFI', u'Age_years', u'COMPANY', u'CUR_JOB_MOS', u'MAX_RT_ANNUAL', u'FUNC_CNT', u'SEX', u'FULLPART1', u'ETHNIC_GROUP', u'RELOCATE_ALL_SFI', u'LOCATION', u'HUBIND', u'Tenure_months', u'STD_HOURS', u'JOBCNT1', u'FLOORCNT1', u'MIN_RT_ANNUAL', u'PTFTCNT1', u'FLSA_STATUS', u'FTPTCNT1', u'CUR_GRADE_MOS', u'GRADECNT1', u'EFUNCCNT1', u'STATE', u'CUR_EFUNC_MOS', u'FTE', u'TOTAL_RPT_CNT', u'SAL1', u'HIRE_DT', u'LOCSTCNT1', u'VOLINVOL', u'status', u'REMOTE', u'REMOTE_SUPV', u'JOBCODE', u'SUPV_DIFF_LOC', u'DIVISION_CODE_SFI', u'ADDRCNT1', u'RELO_STATE_CNT_SFI', u'EXTFUNC_CNT', u'DIRECT_RPT_CNT', u'LOCCNT1', u'PARTFULL1', u'KEY', u'DEPTCNT1', u'FUNC_ID_SFI', u'EMPL_TYPE', u'CUR_FUNC_MOS', u'CUR_DEPT_MOS', u'COMP_FREQUENCY'], dtype='object')"
      ]
     },
     "execution_count": 184,
     "metadata": {},
     "output_type": "execute_result"
    }
   ],
   "source": [
    "reduced_tbl.columns"
   ]
  },
  {
   "cell_type": "code",
   "execution_count": 191,
   "metadata": {
    "collapsed": false
   },
   "outputs": [
    {
     "data": {
      "text/html": [
       "<div style=\"max-height:1000px;max-width:1500px;overflow:auto;\">\n",
       "<table border=\"1\" class=\"dataframe\">\n",
       "  <thead>\n",
       "    <tr style=\"text-align: right;\">\n",
       "      <th>HUBIND</th>\n",
       "      <th>N</th>\n",
       "      <th>Y</th>\n",
       "    </tr>\n",
       "    <tr>\n",
       "      <th>REMOTE</th>\n",
       "      <th></th>\n",
       "      <th></th>\n",
       "    </tr>\n",
       "  </thead>\n",
       "  <tbody>\n",
       "    <tr>\n",
       "      <th>N</th>\n",
       "      <td>161832</td>\n",
       "      <td>63150</td>\n",
       "    </tr>\n",
       "    <tr>\n",
       "      <th>Y</th>\n",
       "      <td>18028</td>\n",
       "      <td>0</td>\n",
       "    </tr>\n",
       "  </tbody>\n",
       "</table>\n",
       "</div>"
      ],
      "text/plain": [
       "HUBIND       N      Y\n",
       "REMOTE               \n",
       "N       161832  63150\n",
       "Y        18028      0"
      ]
     },
     "execution_count": 191,
     "metadata": {},
     "output_type": "execute_result"
    }
   ],
   "source": [
    "pd.crosstab(reduced_tbl['REMOTE'],reduced_tbl['HUBIND'])"
   ]
  },
  {
   "cell_type": "code",
   "execution_count": 196,
   "metadata": {
    "collapsed": false
   },
   "outputs": [
    {
     "data": {
      "text/html": [
       "<div style=\"max-height:1000px;max-width:1500px;overflow:auto;\">\n",
       "<table border=\"1\" class=\"dataframe\">\n",
       "  <thead>\n",
       "    <tr style=\"text-align: right;\">\n",
       "      <th>PTFTCNT1</th>\n",
       "      <th>0</th>\n",
       "      <th>1</th>\n",
       "      <th>2</th>\n",
       "    </tr>\n",
       "    <tr>\n",
       "      <th>FTPTCNT1</th>\n",
       "      <th></th>\n",
       "      <th></th>\n",
       "      <th></th>\n",
       "    </tr>\n",
       "  </thead>\n",
       "  <tbody>\n",
       "    <tr>\n",
       "      <th>0</th>\n",
       "      <td>239321</td>\n",
       "      <td>1949</td>\n",
       "      <td>0</td>\n",
       "    </tr>\n",
       "    <tr>\n",
       "      <th>1</th>\n",
       "      <td>1630</td>\n",
       "      <td>104</td>\n",
       "      <td>2</td>\n",
       "    </tr>\n",
       "    <tr>\n",
       "      <th>2</th>\n",
       "      <td>0</td>\n",
       "      <td>4</td>\n",
       "      <td>0</td>\n",
       "    </tr>\n",
       "  </tbody>\n",
       "</table>\n",
       "</div>"
      ],
      "text/plain": [
       "PTFTCNT1       0     1  2\n",
       "FTPTCNT1                 \n",
       "0         239321  1949  0\n",
       "1           1630   104  2\n",
       "2              0     4  0"
      ]
     },
     "execution_count": 196,
     "metadata": {},
     "output_type": "execute_result"
    }
   ],
   "source": [
    "pd.crosstab(reduced_tbl['FTPTCNT1'],reduced_tbl['PTFTCNT1'])"
   ]
  },
  {
   "cell_type": "code",
   "execution_count": 208,
   "metadata": {
    "collapsed": false
   },
   "outputs": [
    {
     "data": {
      "text/plain": [
       "F    182869\n",
       "P     29328\n",
       "N     26093\n",
       "X      4720\n",
       "dtype: int64"
      ]
     },
     "execution_count": 208,
     "metadata": {},
     "output_type": "execute_result"
    }
   ],
   "source": [
    "reduced_tbl.FULL_PART_TIME.value_counts()"
   ]
  },
  {
   "cell_type": "code",
   "execution_count": null,
   "metadata": {
    "collapsed": false
   },
   "outputs": [],
   "source": [
    "## further reduce by removing\n",
    "FULL_PART_TIME, ACTRES1, KEY, "
   ]
  },
  {
   "cell_type": "code",
   "execution_count": null,
   "metadata": {
    "collapsed": true
   },
   "outputs": [],
   "source": []
  },
  {
   "cell_type": "code",
   "execution_count": 205,
   "metadata": {
    "collapsed": false
   },
   "outputs": [
    {
     "data": {
      "text/plain": [
       "(1496, 20, 165, 3835)"
      ]
     },
     "execution_count": 205,
     "metadata": {},
     "output_type": "execute_result"
    }
   ],
   "source": [
    "len(reduced_tbl.JOB_FAMILY.unique()), len(reduced_tbl.JOB_FUNCTION.unique()), len(reduced_tbl.GRADE.unique()),len(reduced_tbl.JOBCODE.unique())"
   ]
  },
  {
   "cell_type": "code",
   "execution_count": 202,
   "metadata": {
    "collapsed": false
   },
   "outputs": [
    {
     "data": {
      "text/plain": [
       "<matplotlib.axes._subplots.AxesSubplot at 0x7fdc804fd8d0>"
      ]
     },
     "execution_count": 202,
     "metadata": {},
     "output_type": "execute_result"
    },
    {
     "data": {
      "image/png": "[encoded data removed]",
      "text/plain": [
       "<matplotlib.figure.Figure at 0x7fdc804f7210>"
      ]
     },
     "metadata": {},
     "output_type": "display_data"
    }
   ],
   "source": [
    "reduced_tbl.JOB_FUNCTION.value_counts().plot(kind='bar',color='burlywood')"
   ]
  },
  {
   "cell_type": "code",
   "execution_count": null,
   "metadata": {
    "collapsed": false
   },
   "outputs": [],
   "source": [
    "reduced_tbl.GRADE.value_counts().plot(kind='bar',color='burlywood')"
   ]
  },
  {
   "cell_type": "code",
   "execution_count": 221,
   "metadata": {
    "collapsed": false
   },
   "outputs": [
    {
     "data": {
      "text/plain": [
       "<matplotlib.axes._subplots.AxesSubplot at 0x7fdc80fee110>"
      ]
     },
     "execution_count": 221,
     "metadata": {},
     "output_type": "execute_result"
    },
    {
     "data": {
      "image/png": "[encoded data removed]",
      "text/plain": [
       "<matplotlib.figure.Figure at 0x7fdc7633cc10>"
      ]
     },
     "metadata": {},
     "output_type": "display_data"
    }
   ],
   "source": [
    "#sum(reduced_tbl.MAX_RT_ANNUAL==0)\n",
    "reduced_tbl[reduced_tbl.ANNUAL_RT!=0].ANNUAL_RT.hist(bins=40,color='darkorchid')"
   ]
  },
  {
   "cell_type": "code",
   "execution_count": 217,
   "metadata": {
    "collapsed": false
   },
   "outputs": [
    {
     "data": {
      "text/plain": [
       "23280"
      ]
     },
     "execution_count": 217,
     "metadata": {},
     "output_type": "execute_result"
    }
   ],
   "source": [
    "sum(reduced_tbl.ANNUAL_RT==0)"
   ]
  },
  {
   "cell_type": "code",
   "execution_count": 223,
   "metadata": {
    "collapsed": false
   },
   "outputs": [
    {
     "data": {
      "text/plain": [
       "array([nan, 'NSA', 'PTB', 'PSA', 'MGT', 'PTA', 'PSB', 'PTC', 'PSC', 'PTI',\n",
       "       'PTF', 'PTE', 'PTH', 'PTG', 'PTD', 'PTJ', 'PTM', 'PTL', 'H08', 'PTK'], dtype=object)"
      ]
     },
     "execution_count": 223,
     "metadata": {},
     "output_type": "execute_result"
    }
   ],
   "source": [
    "reduced_tbl['JOB_FUNCTION'].unique()"
   ]
  },
  {
   "cell_type": "code",
   "execution_count": 285,
   "metadata": {
    "collapsed": false
   },
   "outputs": [
    {
     "data": {
      "text/plain": [
       "SEX               0\n",
       "INTERN            0\n",
       "FULL_PART_TIME    0\n",
       "dtype: int64"
      ]
     },
     "execution_count": 285,
     "metadata": {},
     "output_type": "execute_result"
    }
   ],
   "source": [
    "initial_columns_list = ['SEX','INTERN','FULL_PART_TIME']#,'COMPANY','VOLINVOL']#'JOB_FUNCTION','COMPANY','HUBIND','VOLINVOL']\n",
    "sum(reduced_tbl[initial_columns_list].isnull())"
   ]
  },
  {
   "cell_type": "code",
   "execution_count": 235,
   "metadata": {
    "collapsed": false
   },
   "outputs": [],
   "source": [
    "jf_hold = reduced_tbl.JOB_FUNCTION.astype('object')\n",
    "jf_hold.fillna('XXX',inplace=True)\n",
    "reduced_tbl['JOB_FUNCTION'] = jf_hold\n",
    "reduced_tbl['JOB_FUNCTION'] = reduced_tbl['JOB_FUNCTION'].astype('category')"
   ]
  },
  {
   "cell_type": "code",
   "execution_count": 314,
   "metadata": {
    "collapsed": false
   },
   "outputs": [
    {
     "data": {
      "text/plain": [
       "SEX               0\n",
       "Age_years         0\n",
       "INTERN            0\n",
       "FULL_PART_TIME    0\n",
       "JOB_FUNCTION      0\n",
       "COMPANY           0\n",
       "HUBIND            0\n",
       "VOLINVOL          0\n",
       "dtype: int64"
      ]
     },
     "execution_count": 314,
     "metadata": {},
     "output_type": "execute_result"
    }
   ],
   "source": [
    "initial_columns_list = ['SEX','Age_years','INTERN','FULL_PART_TIME','JOB_FUNCTION','COMPANY','HUBIND','VOLINVOL']\n",
    "sum(reduced_tbl[initial_columns_list].isnull())"
   ]
  },
  {
   "cell_type": "code",
   "execution_count": null,
   "metadata": {
    "collapsed": false
   },
   "outputs": [],
   "source": [
    "#pull out the reduced columns\n",
    "fill_flag = True\n",
    "reduced2 = reduced_tbl[initial_columns_list].copy()\n",
    "for c in reduced2.columns:\n",
    "    nmissing = sum(reduced2[c].isnull())\n",
    "    datatype = reduced2[c].dtype\n",
    "    if nmissing > 0 and fill_flag:\n",
    "        if datatype=='category':\n",
    "            reduced2[c].fillna('XNA',inplace=True)\n",
    "    \n",
    "        \n",
    "    print c, reduced2[c].dtype"
   ]
  },
  {
   "cell_type": "code",
   "execution_count": 315,
   "metadata": {
    "collapsed": false
   },
   "outputs": [
    {
     "data": {
      "text/plain": [
       "(243010, 8)"
      ]
     },
     "execution_count": 315,
     "metadata": {},
     "output_type": "execute_result"
    }
   ],
   "source": [
    "reduced2 = reduced_tbl[initial_columns_list].copy()\n",
    "reduced2.shape"
   ]
  },
  {
   "cell_type": "code",
   "execution_count": 316,
   "metadata": {
    "collapsed": false
   },
   "outputs": [],
   "source": [
    "dummy_columns_list1 = list(reduced2.columns) #['SEX','INTERN','FULL_PART_TIME','JOB_FUNCTION','COMPANY','HUBIND','VOLINVOL']"
   ]
  },
  {
   "cell_type": "code",
   "execution_count": 317,
   "metadata": {
    "collapsed": false
   },
   "outputs": [
    {
     "name": "stdout",
     "output_type": "stream",
     "text": [
      "(243010, 43)\n"
     ]
    }
   ],
   "source": [
    "# create a dummified dataframe.\n",
    "reduced_dummies = pd.get_dummies(reduced2[dummy_columns_list1])\n",
    "print reduced_dummies.shape    "
   ]
  },
  {
   "cell_type": "code",
   "execution_count": 318,
   "metadata": {
    "collapsed": false
   },
   "outputs": [],
   "source": [
    "dummy_column_list2 = list(reduced_dummies.columns)"
   ]
  },
  {
   "cell_type": "code",
   "execution_count": 319,
   "metadata": {
    "collapsed": false
   },
   "outputs": [
    {
     "name": "stdout",
     "output_type": "stream",
     "text": [
      "['SEX_F', 'SEX_M']\n",
      "['Age_years']\n",
      "['INTERN_N', 'INTERN_Y']\n",
      "['FULL_PART_TIME_F', 'FULL_PART_TIME_N', 'FULL_PART_TIME_P', 'FULL_PART_TIME_X']\n",
      "['JOB_FUNCTION_H08', 'JOB_FUNCTION_MGT', 'JOB_FUNCTION_NSA', 'JOB_FUNCTION_PSA', 'JOB_FUNCTION_PSB', 'JOB_FUNCTION_PSC', 'JOB_FUNCTION_PTA', 'JOB_FUNCTION_PTB', 'JOB_FUNCTION_PTC', 'JOB_FUNCTION_PTD', 'JOB_FUNCTION_PTE', 'JOB_FUNCTION_PTF', 'JOB_FUNCTION_PTG', 'JOB_FUNCTION_PTH', 'JOB_FUNCTION_PTI', 'JOB_FUNCTION_PTJ', 'JOB_FUNCTION_PTK', 'JOB_FUNCTION_PTL', 'JOB_FUNCTION_PTM', 'JOB_FUNCTION_XXX']\n",
      "['COMPANY_001', 'COMPANY_002', 'COMPANY_003', 'COMPANY_004', 'COMPANY_005', 'COMPANY_007', 'COMPANY_049']\n",
      "['HUBIND_N', 'HUBIND_Y']\n",
      "['VOLINVOL_INVOLUNTARY', 'VOLINVOL_NOT', 'VOLINVOL_OTHER', 'VOLINVOL_UNKNOWN', 'VOLINVOL_VOLUNTARY']\n"
     ]
    },
    {
     "data": {
      "text/plain": [
       "(243010, 35)"
      ]
     },
     "execution_count": 319,
     "metadata": {},
     "output_type": "execute_result"
    }
   ],
   "source": [
    "dummy_col_to_drop = []\n",
    "for col in dummy_columns_list1:\n",
    "    dclist = [x for x in dummy_column_list2 if x.startswith(col)]\n",
    "    print dclist\n",
    "    dummy_col_to_drop.append(dclist[0])\n",
    "\n",
    "dummy_col_to_keep = list(set(dummy_column_list2) - set(dummy_col_to_drop))\n",
    "\n",
    "reduced3 = reduced_dummies[dummy_col_to_keep].copy()\n",
    "#add the non-categorical back in\n",
    "#reduced3[initial_columns_list[1]] = reduced2[initial_columns_list[1]]\n",
    "reduced3.shape"
   ]
  },
  {
   "cell_type": "code",
   "execution_count": 320,
   "metadata": {
    "collapsed": true
   },
   "outputs": [],
   "source": [
    "## add in status and time\n",
    "reduced3['Age'] = empltbl['Age_years']\n",
    "reduced3['status'] = empltbl['status']\n",
    "reduced3['Tenure'] = empltbl['Tenure_months']"
   ]
  },
  {
   "cell_type": "markdown",
   "metadata": {},
   "source": [
    "## Aalen's Additive model"
   ]
  },
  {
   "cell_type": "code",
   "execution_count": 292,
   "metadata": {
    "collapsed": false
   },
   "outputs": [
    {
     "data": {
      "text/html": [
       "<div style=\"max-height:1000px;max-width:1500px;overflow:auto;\">\n",
       "<table border=\"1\" class=\"dataframe\">\n",
       "  <thead>\n",
       "    <tr style=\"text-align: right;\">\n",
       "      <th></th>\n",
       "      <th>INTERN_Y</th>\n",
       "      <th>SEX_M</th>\n",
       "      <th>FULL_PART_TIME_X</th>\n",
       "      <th>FULL_PART_TIME_N</th>\n",
       "      <th>FULL_PART_TIME_P</th>\n",
       "      <th>Age</th>\n",
       "      <th>status</th>\n",
       "      <th>Tenure</th>\n",
       "    </tr>\n",
       "  </thead>\n",
       "  <tbody>\n",
       "    <tr>\n",
       "      <th>0</th>\n",
       "      <td>0</td>\n",
       "      <td>1</td>\n",
       "      <td>1</td>\n",
       "      <td>0</td>\n",
       "      <td>0</td>\n",
       "      <td>65.055408</td>\n",
       "      <td>1</td>\n",
       "      <td>266.978788</td>\n",
       "    </tr>\n",
       "    <tr>\n",
       "      <th>1</th>\n",
       "      <td>0</td>\n",
       "      <td>0</td>\n",
       "      <td>0</td>\n",
       "      <td>0</td>\n",
       "      <td>0</td>\n",
       "      <td>23.116149</td>\n",
       "      <td>1</td>\n",
       "      <td>7.030945</td>\n",
       "    </tr>\n",
       "    <tr>\n",
       "      <th>2</th>\n",
       "      <td>0</td>\n",
       "      <td>1</td>\n",
       "      <td>0</td>\n",
       "      <td>0</td>\n",
       "      <td>0</td>\n",
       "      <td>25.889649</td>\n",
       "      <td>1</td>\n",
       "      <td>4.501119</td>\n",
       "    </tr>\n",
       "    <tr>\n",
       "      <th>3</th>\n",
       "      <td>0</td>\n",
       "      <td>0</td>\n",
       "      <td>0</td>\n",
       "      <td>0</td>\n",
       "      <td>0</td>\n",
       "      <td>26.973860</td>\n",
       "      <td>1</td>\n",
       "      <td>4.501119</td>\n",
       "    </tr>\n",
       "    <tr>\n",
       "      <th>4</th>\n",
       "      <td>0</td>\n",
       "      <td>1</td>\n",
       "      <td>0</td>\n",
       "      <td>0</td>\n",
       "      <td>0</td>\n",
       "      <td>24.419393</td>\n",
       "      <td>1</td>\n",
       "      <td>22.209902</td>\n",
       "    </tr>\n",
       "  </tbody>\n",
       "</table>\n",
       "</div>"
      ],
      "text/plain": [
       "   INTERN_Y  SEX_M  FULL_PART_TIME_X  FULL_PART_TIME_N  FULL_PART_TIME_P  \\\n",
       "0         0      1                 1                 0                 0   \n",
       "1         0      0                 0                 0                 0   \n",
       "2         0      1                 0                 0                 0   \n",
       "3         0      0                 0                 0                 0   \n",
       "4         0      1                 0                 0                 0   \n",
       "\n",
       "         Age  status      Tenure  \n",
       "0  65.055408       1  266.978788  \n",
       "1  23.116149       1    7.030945  \n",
       "2  25.889649       1    4.501119  \n",
       "3  26.973860       1    4.501119  \n",
       "4  24.419393       1   22.209902  "
      ]
     },
     "execution_count": 292,
     "metadata": {},
     "output_type": "execute_result"
    }
   ],
   "source": [
    "from lifelines import AalenAdditiveFitter\n",
    "reduced3.head()"
   ]
  },
  {
   "cell_type": "code",
   "execution_count": 293,
   "metadata": {
    "collapsed": false
   },
   "outputs": [
    {
     "data": {
      "text/plain": [
       "Index([u'INTERN_Y', u'SEX_M', u'FULL_PART_TIME_X', u'FULL_PART_TIME_N', u'FULL_PART_TIME_P', u'Age', u'status', u'Tenure'], dtype='object')"
      ]
     },
     "execution_count": 293,
     "metadata": {},
     "output_type": "execute_result"
    }
   ],
   "source": [
    "reduced3.columns"
   ]
  },
  {
   "cell_type": "code",
   "execution_count": 311,
   "metadata": {
    "collapsed": false
   },
   "outputs": [],
   "source": [
    "aaf_tenure = AalenAdditiveFitter(penalizer=1.0,fit_intercept=True)"
   ]
  },
  {
   "cell_type": "code",
   "execution_count": 312,
   "metadata": {
    "collapsed": false
   },
   "outputs": [
    {
     "name": "stdout",
     "output_type": "stream",
     "text": [
      " [-----------------100%-----------------] 172401 of 172401 complete in 5632.8 sec\n"
     ]
    },
    {
     "data": {
      "text/plain": [
       "<lifelines.AalenAdditiveFitter: fitted with 243010 observations, 70609 censored>"
      ]
     },
     "execution_count": 312,
     "metadata": {},
     "output_type": "execute_result"
    }
   ],
   "source": [
    "aaf_tenure.fit(reduced3,'Tenure',event_col='status')"
   ]
  },
  {
   "cell_type": "code",
   "execution_count": 313,
   "metadata": {
    "collapsed": false
   },
   "outputs": [
    {
     "data": {
      "text/plain": [
       "<matplotlib.axes._subplots.AxesSubplot at 0x7fdc816f56d0>"
      ]
     },
     "execution_count": 313,
     "metadata": {},
     "output_type": "execute_result"
    },
    {
     "data": {
      "image/png": "[encoded data removed]",
      "text/plain": [
       "<matplotlib.figure.Figure at 0x7fdc32527450>"
      ]
     },
     "metadata": {},
     "output_type": "display_data"
    }
   ],
   "source": [
    "aaf_tenure.plot(columns=['FULL_PART_TIME_P','Age','SEX_M','baseline'])"
   ]
  },
  {
   "cell_type": "code",
   "execution_count": 321,
   "metadata": {
    "collapsed": false
   },
   "outputs": [],
   "source": [
    "aaf_tenure_b = AalenAdditiveFitter(penalizer=1.0,fit_intercept=True)"
   ]
  },
  {
   "cell_type": "code",
   "execution_count": 330,
   "metadata": {
    "collapsed": false
   },
   "outputs": [
    {
     "data": {
      "text/plain": [
       "(243010, 38)"
      ]
     },
     "execution_count": 330,
     "metadata": {},
     "output_type": "execute_result"
    }
   ],
   "source": [
    "reduced3.shape"
   ]
  },
  {
   "cell_type": "code",
   "execution_count": null,
   "metadata": {
    "collapsed": false
   },
   "outputs": [
    {
     "name": "stdout",
     "output_type": "stream",
     "text": [
      " [                  0%                  ] 181 of 172401 complete in 71.4 sec"
     ]
    }
   ],
   "source": [
    "aaf_tenure_b.fit(reduced3,'Tenure',event_col='status')"
   ]
  },
  {
   "cell_type": "code",
   "execution_count": null,
   "metadata": {
    "collapsed": true
   },
   "outputs": [],
   "source": []
  },
  {
   "cell_type": "markdown",
   "metadata": {},
   "source": [
    "## CoxPH"
   ]
  },
  {
   "cell_type": "code",
   "execution_count": 297,
   "metadata": {
    "collapsed": true
   },
   "outputs": [],
   "source": [
    "from lifelines import CoxPHFitter"
   ]
  },
  {
   "cell_type": "code",
   "execution_count": 299,
   "metadata": {
    "collapsed": false
   },
   "outputs": [
    {
     "data": {
      "text/plain": [
       "<lifelines.CoxPHFitter: fitted with 243010 observations, 70609 censored>"
      ]
     },
     "execution_count": 299,
     "metadata": {},
     "output_type": "execute_result"
    }
   ],
   "source": [
    "cf_tenure = CoxPHFitter()\n",
    "cf_tenure.fit(reduced3,'Tenure',event_col='status')\n"
   ]
  },
  {
   "cell_type": "code",
   "execution_count": 301,
   "metadata": {
    "collapsed": false
   },
   "outputs": [
    {
     "name": "stdout",
     "output_type": "stream",
     "text": [
      "n=243010, number of events=172401\n",
      "\n",
      "                       coef  exp(coef)  se(coef)          z         p  lower 0.95  upper 0.95     \n",
      "INTERN_Y          2.200e-01  1.246e+00 2.577e-03  8.535e+01 0.000e+00   2.149e-01   2.250e-01  ***\n",
      "SEX_M            -1.423e-02  9.859e-01 2.485e-03 -5.728e+00 1.017e-08  -1.910e-02  -9.360e-03  ***\n",
      "FULL_PART_TIME_X  2.625e-02  1.027e+00 2.126e-03  1.235e+01 4.928e-35   2.208e-02   3.042e-02  ***\n",
      "FULL_PART_TIME_N  3.448e-01  1.412e+00 2.580e-03  1.336e+02 0.000e+00   3.397e-01   3.498e-01  ***\n",
      "FULL_PART_TIME_P  3.697e-01  1.447e+00 2.485e-03  1.488e+02 0.000e+00   3.649e-01   3.746e-01  ***\n",
      "Age              -9.982e-01  3.686e-01 3.967e-03 -2.516e+02 0.000e+00  -1.006e+00  -9.904e-01  ***\n",
      "---\n",
      "Signif. codes:  0 '***' 0.001 '**' 0.01 '*' 0.05 '.' 0.1 ' ' 1 \n",
      "\n",
      "Concordance = 0.792\n"
     ]
    }
   ],
   "source": [
    "cf_tenure.summary()"
   ]
  },
  {
   "cell_type": "code",
   "execution_count": 302,
   "metadata": {
    "collapsed": false
   },
   "outputs": [
    {
     "ename": "AttributeError",
     "evalue": "'CoxPHFitter' object has no attribute 'plot'",
     "output_type": "error",
     "traceback": [
      "\u001b[1;31m---------------------------------------------------------------------------\u001b[0m",
      "\u001b[1;31mAttributeError\u001b[0m                            Traceback (most recent call last)",
      "\u001b[1;32m<ipython-input-302-a6b788e85249>\u001b[0m in \u001b[0;36m<module>\u001b[1;34m()\u001b[0m\n\u001b[1;32m----> 1\u001b[1;33m \u001b[0mcf_tenure\u001b[0m\u001b[1;33m.\u001b[0m\u001b[0mplot\u001b[0m\u001b[1;33m(\u001b[0m\u001b[0mcolumns\u001b[0m\u001b[1;33m=\u001b[0m\u001b[1;33m[\u001b[0m\u001b[1;34m'FULL_PART_TIME_P'\u001b[0m\u001b[1;33m,\u001b[0m\u001b[1;34m'Age'\u001b[0m\u001b[1;33m,\u001b[0m\u001b[1;34m'SEX_M'\u001b[0m\u001b[1;33m,\u001b[0m\u001b[1;34m'baseline'\u001b[0m\u001b[1;33m]\u001b[0m\u001b[1;33m)\u001b[0m\u001b[1;33m\u001b[0m\u001b[0m\n\u001b[0m",
      "\u001b[1;31mAttributeError\u001b[0m: 'CoxPHFitter' object has no attribute 'plot'"
     ]
    }
   ],
   "source": [
    "cf_tenure.plot(columns=['FULL_PART_TIME_P','Age','SEX_M','baseline'])"
   ]
  },
  {
   "cell_type": "code",
   "execution_count": 307,
   "metadata": {
    "collapsed": false
   },
   "outputs": [
    {
     "data": {
      "text/html": [
       "<div style=\"max-height:1000px;max-width:1500px;overflow:auto;\">\n",
       "<table border=\"1\" class=\"dataframe\">\n",
       "  <thead>\n",
       "    <tr style=\"text-align: right;\">\n",
       "      <th></th>\n",
       "      <th>INTERN_Y</th>\n",
       "      <th>SEX_M</th>\n",
       "      <th>FULL_PART_TIME_X</th>\n",
       "      <th>FULL_PART_TIME_N</th>\n",
       "      <th>FULL_PART_TIME_P</th>\n",
       "      <th>Age</th>\n",
       "    </tr>\n",
       "  </thead>\n",
       "  <tbody>\n",
       "    <tr>\n",
       "      <th>coef</th>\n",
       "      <td>0.219968</td>\n",
       "      <td>-0.014231</td>\n",
       "      <td>0.026252</td>\n",
       "      <td>0.344751</td>\n",
       "      <td>0.369729</td>\n",
       "      <td>-0.998159</td>\n",
       "    </tr>\n",
       "  </tbody>\n",
       "</table>\n",
       "</div>"
      ],
      "text/plain": [
       "      INTERN_Y     SEX_M  FULL_PART_TIME_X  FULL_PART_TIME_N  \\\n",
       "coef  0.219968 -0.014231          0.026252          0.344751   \n",
       "\n",
       "      FULL_PART_TIME_P       Age  \n",
       "coef          0.369729 -0.998159  "
      ]
     },
     "execution_count": 307,
     "metadata": {},
     "output_type": "execute_result"
    }
   ],
   "source": [
    "cf_tenure.hazards_"
   ]
  },
  {
   "cell_type": "code",
   "execution_count": 305,
   "metadata": {
    "collapsed": false
   },
   "outputs": [
    {
     "data": {
      "text/plain": [
       "<matplotlib.axes._subplots.AxesSubplot at 0x7fdc7850e690>"
      ]
     },
     "execution_count": 305,
     "metadata": {},
     "output_type": "execute_result"
    },
    {
     "data": {
      "image/png": "[encoded data removed]",
      "text/plain": [
       "<matplotlib.figure.Figure at 0x7fdc332fccd0>"
      ]
     },
     "metadata": {},
     "output_type": "display_data"
    }
   ],
   "source": [
    "cf_tenure.baseline_cumulative_hazard_.plot()"
   ]
  },
  {
   "cell_type": "code",
   "execution_count": 329,
   "metadata": {
    "collapsed": false
   },
   "outputs": [
    {
     "data": {
      "text/plain": [
       "1.4177666329501168e-24"
      ]
     },
     "execution_count": 329,
     "metadata": {},
     "output_type": "execute_result"
    }
   ],
   "source": [
    "sample1 = np.array([0,1,0,0,0,55])\n",
    "s1value = np.dot(cf_tenure.hazards_.values[0],sample1)\n",
    "np.exp(s1value)"
   ]
  },
  {
   "cell_type": "code",
   "execution_count": 323,
   "metadata": {
    "collapsed": false
   },
   "outputs": [
    {
     "data": {
      "text/html": [
       "<div style=\"max-height:1000px;max-width:1500px;overflow:auto;\">\n",
       "<table border=\"1\" class=\"dataframe\">\n",
       "  <thead>\n",
       "    <tr style=\"text-align: right;\">\n",
       "      <th></th>\n",
       "      <th>baseline hazard</th>\n",
       "    </tr>\n",
       "    <tr>\n",
       "      <th>event_at</th>\n",
       "      <th></th>\n",
       "    </tr>\n",
       "  </thead>\n",
       "  <tbody>\n",
       "    <tr>\n",
       "      <th>0.000000</th>\n",
       "      <td>0.000452</td>\n",
       "    </tr>\n",
       "    <tr>\n",
       "      <th>0.032855</th>\n",
       "      <td>0.000772</td>\n",
       "    </tr>\n",
       "    <tr>\n",
       "      <th>0.065710</th>\n",
       "      <td>0.001075</td>\n",
       "    </tr>\n",
       "    <tr>\n",
       "      <th>0.098565</th>\n",
       "      <td>0.001370</td>\n",
       "    </tr>\n",
       "    <tr>\n",
       "      <th>0.131420</th>\n",
       "      <td>0.001862</td>\n",
       "    </tr>\n",
       "  </tbody>\n",
       "</table>\n",
       "</div>"
      ],
      "text/plain": [
       "          baseline hazard\n",
       "event_at                 \n",
       "0.000000         0.000452\n",
       "0.032855         0.000772\n",
       "0.065710         0.001075\n",
       "0.098565         0.001370\n",
       "0.131420         0.001862"
      ]
     },
     "execution_count": 323,
     "metadata": {},
     "output_type": "execute_result"
    }
   ],
   "source": [
    "cf_tenure.baseline_cumulative_hazard_.head()"
   ]
  },
  {
   "cell_type": "code",
   "execution_count": null,
   "metadata": {
    "collapsed": true
   },
   "outputs": [],
   "source": []
  },
  {
   "cell_type": "code",
   "execution_count": null,
   "metadata": {
    "collapsed": true
   },
   "outputs": [],
   "source": []
  },
  {
   "cell_type": "code",
   "execution_count": 309,
   "metadata": {
    "collapsed": true
   },
   "outputs": [],
   "source": [
    "reduced3.index = np.arange(0,len(reduced3))"
   ]
  },
  {
   "cell_type": "code",
   "execution_count": 310,
   "metadata": {
    "collapsed": false
   },
   "outputs": [
    {
     "name": "stdout",
     "output_type": "stream",
     "text": [
      "[ 0.5  0.5  0.5  0.5  0.5]\n",
      "0.5\n",
      "0.0\n"
     ]
    }
   ],
   "source": [
    "# k-fold\n",
    "\n",
    "from lifelines.utils import k_fold_cross_validation\n",
    "\n",
    "#regression_dataset = load_regression_dataset()\n",
    "cf = CoxPHFitter()\n",
    "scores = k_fold_cross_validation(cf, reduced3, 'Tenure', event_col='status', k=5)\n",
    "print scores\n",
    "print scores.mean()\n",
    "print scores.std()"
   ]
  },
  {
   "cell_type": "code",
   "execution_count": null,
   "metadata": {
    "collapsed": true
   },
   "outputs": [],
   "source": []
  },
  {
   "cell_type": "code",
   "execution_count": null,
   "metadata": {
    "collapsed": true
   },
   "outputs": [],
   "source": []
  },
  {
   "cell_type": "code",
   "execution_count": 239,
   "metadata": {
    "collapsed": true
   },
   "outputs": [],
   "source": [
    "import patsy"
   ]
  },
  {
   "cell_type": "code",
   "execution_count": 240,
   "metadata": {
    "collapsed": false
   },
   "outputs": [
    {
     "ename": "TypeError",
     "evalue": "data type not understood",
     "output_type": "error",
     "traceback": [
      "\u001b[1;31m---------------------------------------------------------------------------\u001b[0m",
      "\u001b[1;31mTypeError\u001b[0m                                 Traceback (most recent call last)",
      "\u001b[1;32m<ipython-input-240-53f01c6c3281>\u001b[0m in \u001b[0;36m<module>\u001b[1;34m()\u001b[0m\n\u001b[1;32m----> 1\u001b[1;33m \u001b[0mX\u001b[0m \u001b[1;33m=\u001b[0m \u001b[0mpatsy\u001b[0m\u001b[1;33m.\u001b[0m\u001b[0mdmatrix\u001b[0m\u001b[1;33m(\u001b[0m\u001b[1;34m'SEX + JOB_FUNCTION + Age_years + INTERN + COMPANY + VOLINVOL + HUBIND - 1'\u001b[0m\u001b[1;33m,\u001b[0m \u001b[0mreduced2\u001b[0m\u001b[1;33m,\u001b[0m \u001b[0mreturn_type\u001b[0m\u001b[1;33m=\u001b[0m\u001b[1;34m'dataframe'\u001b[0m\u001b[1;33m)\u001b[0m\u001b[1;33m\u001b[0m\u001b[0m\n\u001b[0m",
      "\u001b[1;32m/opt/anaconda/2.1.0/lib/python2.7/site-packages/patsy/highlevel.pyc\u001b[0m in \u001b[0;36mdmatrix\u001b[1;34m(formula_like, data, eval_env, NA_action, return_type)\u001b[0m\n\u001b[0;32m    276\u001b[0m     \u001b[0meval_env\u001b[0m \u001b[1;33m=\u001b[0m \u001b[0mEvalEnvironment\u001b[0m\u001b[1;33m.\u001b[0m\u001b[0mcapture\u001b[0m\u001b[1;33m(\u001b[0m\u001b[0meval_env\u001b[0m\u001b[1;33m,\u001b[0m \u001b[0mreference\u001b[0m\u001b[1;33m=\u001b[0m\u001b[1;36m1\u001b[0m\u001b[1;33m)\u001b[0m\u001b[1;33m\u001b[0m\u001b[0m\n\u001b[0;32m    277\u001b[0m     (lhs, rhs) = _do_highlevel_design(formula_like, data, eval_env,\n\u001b[1;32m--> 278\u001b[1;33m                                       NA_action, return_type)\n\u001b[0m\u001b[0;32m    279\u001b[0m     \u001b[1;32mif\u001b[0m \u001b[0mlhs\u001b[0m\u001b[1;33m.\u001b[0m\u001b[0mshape\u001b[0m\u001b[1;33m[\u001b[0m\u001b[1;36m1\u001b[0m\u001b[1;33m]\u001b[0m \u001b[1;33m!=\u001b[0m \u001b[1;36m0\u001b[0m\u001b[1;33m:\u001b[0m\u001b[1;33m\u001b[0m\u001b[0m\n\u001b[0;32m    280\u001b[0m         raise PatsyError(\"encountered outcome variables for a model \"\n",
      "\u001b[1;32m/opt/anaconda/2.1.0/lib/python2.7/site-packages/patsy/highlevel.pyc\u001b[0m in \u001b[0;36m_do_highlevel_design\u001b[1;34m(formula_like, data, eval_env, NA_action, return_type)\u001b[0m\n\u001b[0;32m    150\u001b[0m         \u001b[1;32mreturn\u001b[0m \u001b[0miter\u001b[0m\u001b[1;33m(\u001b[0m\u001b[1;33m[\u001b[0m\u001b[0mdata\u001b[0m\u001b[1;33m]\u001b[0m\u001b[1;33m)\u001b[0m\u001b[1;33m\u001b[0m\u001b[0m\n\u001b[0;32m    151\u001b[0m     builders = _try_incr_builders(formula_like, data_iter_maker, eval_env,\n\u001b[1;32m--> 152\u001b[1;33m                                   NA_action)\n\u001b[0m\u001b[0;32m    153\u001b[0m     \u001b[1;32mif\u001b[0m \u001b[0mbuilders\u001b[0m \u001b[1;32mis\u001b[0m \u001b[1;32mnot\u001b[0m \u001b[0mNone\u001b[0m\u001b[1;33m:\u001b[0m\u001b[1;33m\u001b[0m\u001b[0m\n\u001b[0;32m    154\u001b[0m         return build_design_matrices(builders, data,\n",
      "\u001b[1;32m/opt/anaconda/2.1.0/lib/python2.7/site-packages/patsy/highlevel.pyc\u001b[0m in \u001b[0;36m_try_incr_builders\u001b[1;34m(formula_like, data_iter_maker, eval_env, NA_action)\u001b[0m\n\u001b[0;32m     55\u001b[0m                                        formula_like.rhs_termlist],\n\u001b[0;32m     56\u001b[0m                                       \u001b[0mdata_iter_maker\u001b[0m\u001b[1;33m,\u001b[0m\u001b[1;33m\u001b[0m\u001b[0m\n\u001b[1;32m---> 57\u001b[1;33m                                       NA_action)\n\u001b[0m\u001b[0;32m     58\u001b[0m     \u001b[1;32melse\u001b[0m\u001b[1;33m:\u001b[0m\u001b[1;33m\u001b[0m\u001b[0m\n\u001b[0;32m     59\u001b[0m         \u001b[1;32mreturn\u001b[0m \u001b[0mNone\u001b[0m\u001b[1;33m\u001b[0m\u001b[0m\n",
      "\u001b[1;32m/opt/anaconda/2.1.0/lib/python2.7/site-packages/patsy/build.pyc\u001b[0m in \u001b[0;36mdesign_matrix_builders\u001b[1;34m(termlists, data_iter_maker, NA_action)\u001b[0m\n\u001b[0;32m    658\u001b[0m                                                    \u001b[0mfactor_states\u001b[0m\u001b[1;33m,\u001b[0m\u001b[1;33m\u001b[0m\u001b[0m\n\u001b[0;32m    659\u001b[0m                                                    \u001b[0mdata_iter_maker\u001b[0m\u001b[1;33m,\u001b[0m\u001b[1;33m\u001b[0m\u001b[0m\n\u001b[1;32m--> 660\u001b[1;33m                                                    NA_action)\n\u001b[0m\u001b[0;32m    661\u001b[0m     \u001b[1;31m# Now we need the factor evaluators, which encapsulate the knowledge of\u001b[0m\u001b[1;33m\u001b[0m\u001b[1;33m\u001b[0m\u001b[0m\n\u001b[0;32m    662\u001b[0m     \u001b[1;31m# how to turn any given factor into a chunk of data:\u001b[0m\u001b[1;33m\u001b[0m\u001b[1;33m\u001b[0m\u001b[0m\n",
      "\u001b[1;32m/opt/anaconda/2.1.0/lib/python2.7/site-packages/patsy/build.pyc\u001b[0m in \u001b[0;36m_examine_factor_types\u001b[1;34m(factors, factor_states, data_iter_maker, NA_action)\u001b[0m\n\u001b[0;32m    427\u001b[0m                     cat_sniffers[factor] = CategoricalSniffer(NA_action,\n\u001b[0;32m    428\u001b[0m                                                               factor.origin)\n\u001b[1;32m--> 429\u001b[1;33m                 \u001b[0mdone\u001b[0m \u001b[1;33m=\u001b[0m \u001b[0mcat_sniffers\u001b[0m\u001b[1;33m[\u001b[0m\u001b[0mfactor\u001b[0m\u001b[1;33m]\u001b[0m\u001b[1;33m.\u001b[0m\u001b[0msniff\u001b[0m\u001b[1;33m(\u001b[0m\u001b[0mvalue\u001b[0m\u001b[1;33m)\u001b[0m\u001b[1;33m\u001b[0m\u001b[0m\n\u001b[0m\u001b[0;32m    430\u001b[0m                 \u001b[1;32mif\u001b[0m \u001b[0mdone\u001b[0m\u001b[1;33m:\u001b[0m\u001b[1;33m\u001b[0m\u001b[0m\n\u001b[0;32m    431\u001b[0m                     \u001b[0mexamine_needed\u001b[0m\u001b[1;33m.\u001b[0m\u001b[0mremove\u001b[0m\u001b[1;33m(\u001b[0m\u001b[0mfactor\u001b[0m\u001b[1;33m)\u001b[0m\u001b[1;33m\u001b[0m\u001b[0m\n",
      "\u001b[1;32m/opt/anaconda/2.1.0/lib/python2.7/site-packages/patsy/categorical.pyc\u001b[0m in \u001b[0;36msniff\u001b[1;34m(self, data)\u001b[0m\n\u001b[0;32m    169\u001b[0m         \u001b[1;31m# fastpath to avoid doing an item-by-item iteration over boolean\u001b[0m\u001b[1;33m\u001b[0m\u001b[1;33m\u001b[0m\u001b[0m\n\u001b[0;32m    170\u001b[0m         \u001b[1;31m# arrays, as requested by #44\u001b[0m\u001b[1;33m\u001b[0m\u001b[1;33m\u001b[0m\u001b[0m\n\u001b[1;32m--> 171\u001b[1;33m         \u001b[1;32mif\u001b[0m \u001b[0mhasattr\u001b[0m\u001b[1;33m(\u001b[0m\u001b[0mdata\u001b[0m\u001b[1;33m,\u001b[0m \u001b[1;34m\"dtype\"\u001b[0m\u001b[1;33m)\u001b[0m \u001b[1;32mand\u001b[0m \u001b[0mnp\u001b[0m\u001b[1;33m.\u001b[0m\u001b[0missubdtype\u001b[0m\u001b[1;33m(\u001b[0m\u001b[0mdata\u001b[0m\u001b[1;33m.\u001b[0m\u001b[0mdtype\u001b[0m\u001b[1;33m,\u001b[0m \u001b[0mnp\u001b[0m\u001b[1;33m.\u001b[0m\u001b[0mbool_\u001b[0m\u001b[1;33m)\u001b[0m\u001b[1;33m:\u001b[0m\u001b[1;33m\u001b[0m\u001b[0m\n\u001b[0m\u001b[0;32m    172\u001b[0m             \u001b[0mself\u001b[0m\u001b[1;33m.\u001b[0m\u001b[0m_level_set\u001b[0m \u001b[1;33m=\u001b[0m \u001b[0mset\u001b[0m\u001b[1;33m(\u001b[0m\u001b[1;33m[\u001b[0m\u001b[0mTrue\u001b[0m\u001b[1;33m,\u001b[0m \u001b[0mFalse\u001b[0m\u001b[1;33m]\u001b[0m\u001b[1;33m)\u001b[0m\u001b[1;33m\u001b[0m\u001b[0m\n\u001b[0;32m    173\u001b[0m             \u001b[1;32mreturn\u001b[0m \u001b[0mTrue\u001b[0m\u001b[1;33m\u001b[0m\u001b[0m\n",
      "\u001b[1;32m/opt/anaconda/2.1.0/lib/python2.7/site-packages/numpy/core/numerictypes.pyc\u001b[0m in \u001b[0;36missubdtype\u001b[1;34m(arg1, arg2)\u001b[0m\n\u001b[0;32m    761\u001b[0m     \"\"\"\n\u001b[0;32m    762\u001b[0m     \u001b[1;32mif\u001b[0m \u001b[0missubclass_\u001b[0m\u001b[1;33m(\u001b[0m\u001b[0marg2\u001b[0m\u001b[1;33m,\u001b[0m \u001b[0mgeneric\u001b[0m\u001b[1;33m)\u001b[0m\u001b[1;33m:\u001b[0m\u001b[1;33m\u001b[0m\u001b[0m\n\u001b[1;32m--> 763\u001b[1;33m         \u001b[1;32mreturn\u001b[0m \u001b[0missubclass\u001b[0m\u001b[1;33m(\u001b[0m\u001b[0mdtype\u001b[0m\u001b[1;33m(\u001b[0m\u001b[0marg1\u001b[0m\u001b[1;33m)\u001b[0m\u001b[1;33m.\u001b[0m\u001b[0mtype\u001b[0m\u001b[1;33m,\u001b[0m \u001b[0marg2\u001b[0m\u001b[1;33m)\u001b[0m\u001b[1;33m\u001b[0m\u001b[0m\n\u001b[0m\u001b[0;32m    764\u001b[0m     \u001b[0mmro\u001b[0m \u001b[1;33m=\u001b[0m \u001b[0mdtype\u001b[0m\u001b[1;33m(\u001b[0m\u001b[0marg2\u001b[0m\u001b[1;33m)\u001b[0m\u001b[1;33m.\u001b[0m\u001b[0mtype\u001b[0m\u001b[1;33m.\u001b[0m\u001b[0mmro\u001b[0m\u001b[1;33m(\u001b[0m\u001b[1;33m)\u001b[0m\u001b[1;33m\u001b[0m\u001b[0m\n\u001b[0;32m    765\u001b[0m     \u001b[1;32mif\u001b[0m \u001b[0mlen\u001b[0m\u001b[1;33m(\u001b[0m\u001b[0mmro\u001b[0m\u001b[1;33m)\u001b[0m \u001b[1;33m>\u001b[0m \u001b[1;36m1\u001b[0m\u001b[1;33m:\u001b[0m\u001b[1;33m\u001b[0m\u001b[0m\n",
      "\u001b[1;31mTypeError\u001b[0m: data type not understood"
     ]
    }
   ],
   "source": [
    "X = patsy.dmatrix('SEX + JOB_FUNCTION + Age_years + INTERN + COMPANY + VOLINVOL + HUBIND - 1', reduced2, return_type='dataframe')"
   ]
  },
  {
   "cell_type": "code",
   "execution_count": 210,
   "metadata": {
    "collapsed": false
   },
   "outputs": [
    {
     "data": {
      "text/plain": [
       "'0.3.0'"
      ]
     },
     "execution_count": 210,
     "metadata": {},
     "output_type": "execute_result"
    }
   ],
   "source": [
    "patsy.__version__"
   ]
  },
  {
   "cell_type": "code",
   "execution_count": 332,
   "metadata": {
    "collapsed": true
   },
   "outputs": [],
   "source": [
    "# now use lifelines\n",
    "from lifelines import KaplanMeierFitter"
   ]
  },
  {
   "cell_type": "code",
   "execution_count": 333,
   "metadata": {
    "collapsed": false
   },
   "outputs": [
    {
     "data": {
      "text/plain": [
       "<matplotlib.text.Text at 0x7fdc31c9da50>"
      ]
     },
     "execution_count": 333,
     "metadata": {},
     "output_type": "execute_result"
    },
    {
     "data": {
      "image/png": "[encoded data removed]",
      "text/plain": [
       "<matplotlib.figure.Figure at 0x7fdc08c6ced0>"
      ]
     },
     "metadata": {},
     "output_type": "display_data"
    }
   ],
   "source": [
    "figsize(14,6)\n",
    "kmf = KaplanMeierFitter()\n",
    "kmf.fit(empltbl.Tenure_months, event_observed=empltbl.status)\n",
    "kmf.plot()\n",
    "plt.ylabel('Survival Distribution Function')\n",
    "plt.xlabel('Tenure months')\n",
    "plt.title('KaplanMeier Survival: ALL employees')"
   ]
  },
  {
   "cell_type": "code",
   "execution_count": 344,
   "metadata": {
    "collapsed": false
   },
   "outputs": [
    {
     "data": {
      "text/plain": [
       "9    148161\n",
       "0     31899\n",
       "2     13456\n",
       "1     12917\n",
       "4      9413\n",
       "3      9213\n",
       "5      8906\n",
       "6      7630\n",
       "7      1396\n",
       "dtype: int64"
      ]
     },
     "execution_count": 344,
     "metadata": {},
     "output_type": "execute_result"
    }
   ],
   "source": [
    "empltbl.DIVISION_CODE_SFI.value_counts()"
   ]
  },
  {
   "cell_type": "code",
   "execution_count": 351,
   "metadata": {
    "collapsed": false
   },
   "outputs": [
    {
     "data": {
      "text/plain": [
       "RB2    11152\n",
       "PA2     9672\n",
       "PA3     7694\n",
       "PA1     4580\n",
       "RA3     4519\n",
       "RA2     4436\n",
       "MG3     3986\n",
       "PA4     2686\n",
       "RB1     2039\n",
       "RE3     1783\n",
       "RA4     1763\n",
       "RE4     1748\n",
       "RC2     1742\n",
       "MG2     1613\n",
       "MG4     1562\n",
       "RA1     1218\n",
       "RB3     1033\n",
       "PC3      910\n",
       "RC1      821\n",
       "UNS      803\n",
       "MG5      519\n",
       "FA6      506\n",
       "RE2      481\n",
       "UES      377\n",
       "PC4      347\n",
       "RC3      288\n",
       "RD3      265\n",
       "RD2      252\n",
       "RD4      244\n",
       "MG1      154\n",
       "       ...  \n",
       "RL4        6\n",
       "RJ2        6\n",
       "IF3        6\n",
       "IJA        5\n",
       "IM1        5\n",
       "IF4        4\n",
       "IM3        4\n",
       "BC4        4\n",
       "L4         4\n",
       "AT3        3\n",
       "IE2        3\n",
       "RJ4        2\n",
       "MG7        2\n",
       "IS3        2\n",
       "AT7        2\n",
       "RH4        1\n",
       "IE3        1\n",
       "RG1        1\n",
       "AT8        1\n",
       "AT1        1\n",
       "AT4        1\n",
       "L3         1\n",
       "L1         1\n",
       "IOO        1\n",
       "AT6        1\n",
       "IS1        1\n",
       "IM4        1\n",
       "RJ3        1\n",
       "ISM        1\n",
       "AT2        1\n",
       "dtype: int64"
      ]
     },
     "execution_count": 351,
     "metadata": {},
     "output_type": "execute_result"
    }
   ],
   "source": [
    "cur_empl.GRADE.value_counts()"
   ]
  },
  {
   "cell_type": "code",
   "execution_count": 334,
   "metadata": {
    "collapsed": false
   },
   "outputs": [
    {
     "data": {
      "text/plain": [
       "array([nan, 'NSA', 'PTB', 'PSA', 'MGT', 'PTA', 'PSB', 'PTC', 'PSC', 'PTI',\n",
       "       'PTF', 'PTE', 'PTH', 'PTG', 'PTD', 'PTJ', 'PTM', 'PTL', 'H08', 'PTK'], dtype=object)"
      ]
     },
     "execution_count": 334,
     "metadata": {},
     "output_type": "execute_result"
    }
   ],
   "source": [
    "empltbl.JOB_FUNCTION.unique()"
   ]
  },
  {
   "cell_type": "code",
   "execution_count": 335,
   "metadata": {
    "collapsed": false
   },
   "outputs": [
    {
     "data": {
      "text/plain": [
       "PSA    52291\n",
       "NSA    34337\n",
       "PTB    24755\n",
       "PTA    15322\n",
       "MGT    11111\n",
       "PTC     5268\n",
       "PTE     5239\n",
       "PSB     4212\n",
       "PSC     3115\n",
       "PTD      965\n",
       "PTI      955\n",
       "PTF      280\n",
       "PTG      188\n",
       "PTL      167\n",
       "PTH      124\n",
       "PTK       28\n",
       "PTJ       21\n",
       "H08        7\n",
       "PTM        2\n",
       "dtype: int64"
      ]
     },
     "execution_count": 335,
     "metadata": {},
     "output_type": "execute_result"
    }
   ],
   "source": [
    "empltbl.JOB_FUNCTION.value_counts()"
   ]
  },
  {
   "cell_type": "code",
   "execution_count": null,
   "metadata": {
    "collapsed": true
   },
   "outputs": [],
   "source": []
  },
  {
   "cell_type": "code",
   "execution_count": 343,
   "metadata": {
    "collapsed": false
   },
   "outputs": [
    {
     "data": {
      "text/plain": [
       "<matplotlib.axes._subplots.AxesSubplot at 0x7fdc08c66690>"
      ]
     },
     "execution_count": 343,
     "metadata": {},
     "output_type": "execute_result"
    },
    {
     "data": {
      "image/png": "[encoded data removed]",
      "text/plain": [
       "<matplotlib.figure.Figure at 0x7fdc08c34fd0>"
      ]
     },
     "metadata": {},
     "output_type": "display_data"
    }
   ],
   "source": [
    "empltbl.Tenure_months.hist(bins=65,color='darkslateblue')"
   ]
  },
  {
   "cell_type": "code",
   "execution_count": 341,
   "metadata": {
    "collapsed": false
   },
   "outputs": [
    {
     "data": {
      "text/plain": [
       "(52291, 11111, 34337)"
      ]
     },
     "execution_count": 341,
     "metadata": {},
     "output_type": "execute_result"
    }
   ],
   "source": [
    "mgt = empltbl[empltbl['JOB_FUNCTION'] == 'MGT']\n",
    "psa = empltbl[empltbl['JOB_FUNCTION'] == 'PSA']\n",
    "nsa = empltbl[empltbl['JOB_FUNCTION'] == 'NSA']\n",
    "len(psa), len(mgt), len(nsa)"
   ]
  },
  {
   "cell_type": "code",
   "execution_count": 342,
   "metadata": {
    "collapsed": false
   },
   "outputs": [
    {
     "data": {
      "text/plain": [
       "<matplotlib.text.Text at 0x7fdc334ad910>"
      ]
     },
     "execution_count": 342,
     "metadata": {},
     "output_type": "execute_result"
    },
    {
     "data": {
      "image/png": "[encoded data removed]",
      "text/plain": [
       "<matplotlib.figure.Figure at 0x7fdc80cf9910>"
      ]
     },
     "metadata": {},
     "output_type": "display_data"
    }
   ],
   "source": [
    "kmf_jf1 = KaplanMeierFitter()\n",
    "#plt.figure(figsize=(20,10))\n",
    "kmf_jf1.fit(mgt.Tenure_months, timeline=tenure_month_range,event_observed=mgt.status)\n",
    "ax = kmf_jf1.plot(c='dodgerblue',label='MGT')\n",
    "kmf_jf1.fit(psa.Tenure_months,  timeline=tenure_month_range,event_observed=psa.status)\n",
    "kmf_jf1.plot(ax=ax, c='brown',label='PSA')\n",
    "kmf_jf1.fit(nsa.Tenure_months,  timeline=tenure_month_range,event_observed=nsa.status)\n",
    "kmf_jf1.plot(ax=ax, c='forestgreen',label='NSA')\n",
    "\n",
    "ylim(0,1.05)\n",
    "plt.ylabel('Survival Distribution Function')\n",
    "plt.xlabel('Tenure Months')"
   ]
  },
  {
   "cell_type": "code",
   "execution_count": 354,
   "metadata": {
    "collapsed": false
   },
   "outputs": [
    {
     "data": {
      "text/plain": [
       "MG3    5615\n",
       "MG2    2198\n",
       "MG4    2045\n",
       "MG5     762\n",
       "MG1     193\n",
       "MG6     150\n",
       "UES     129\n",
       "AM4      12\n",
       "MG7       3\n",
       "ZFL       1\n",
       "RA1       1\n",
       "MA6       1\n",
       "MA4       1\n",
       "dtype: int64"
      ]
     },
     "execution_count": 354,
     "metadata": {},
     "output_type": "execute_result"
    }
   ],
   "source": [
    "mgt.GRADE.value_counts()"
   ]
  },
  {
   "cell_type": "code",
   "execution_count": 357,
   "metadata": {
    "collapsed": false
   },
   "outputs": [
    {
     "data": {
      "text/plain": [
       "<matplotlib.axes._subplots.AxesSubplot at 0x7fdc80489190>"
      ]
     },
     "execution_count": 357,
     "metadata": {},
     "output_type": "execute_result"
    },
    {
     "data": {
      "image/png": "[encoded data removed]",
      "text/plain": [
       "<matplotlib.figure.Figure at 0x7fdc6a9c2cd0>"
      ]
     },
     "metadata": {},
     "output_type": "display_data"
    }
   ],
   "source": [
    "mgt = empltbl[empltbl['JOB_FUNCTION'] == 'MGT'].copy()\n",
    "mg1 = mgt[mgt.GRADE == 'MG1']\n",
    "mg2 = mgt[mgt.GRADE == 'MG2']\n",
    "mg3 = mgt[mgt.GRADE == 'MG3']\n",
    "mg4 = mgt[mgt.GRADE == 'MG4']\n",
    "kmf_mg = KaplanMeierFitter()\n",
    "#plt.figure(figsize=(20,10))\n",
    "kmf_mg.fit(mgt.Tenure_months, timeline=tenure_month_range,event_observed=mgt.status)\n",
    "ax = kmf_mg.plot(c='dodgerblue',label='MGT')\n",
    "#kmf_mg.fit(mg1.Tenure_months, timeline=tenure_month_range,event_observed=mg1.status)\n",
    "#kmf_mg.plot(c='darkslategray',label='MG1')\n",
    "kmf_mg.fit(mg2.Tenure_months, timeline=tenure_month_range,event_observed=mg2.status)\n",
    "kmf_mg.plot(ax=ax, c='darkorchid',label='MG2')\n",
    "\n",
    "kmf_mg.fit(mg3.Tenure_months, timeline=tenure_month_range,event_observed=mg3.status)\n",
    "kmf_mg.plot(ax=ax, c='red',label='MG3')\n",
    "kmf_mg.fit(mg4.Tenure_months, timeline=tenure_month_range,event_observed=mg4.status)\n",
    "kmf_mg.plot(ax=ax, c='forestgreen',label='MG4')\n",
    "\n"
   ]
  },
  {
   "cell_type": "code",
   "execution_count": 269,
   "metadata": {
    "collapsed": true
   },
   "outputs": [
    {
     "data": {
      "text/html": [
       "<div style=\"max-height:1000px;max-width:1500px;overflow:auto;\">\n",
       "<table border=\"1\" class=\"dataframe\">\n",
       "  <thead>\n",
       "    <tr style=\"text-align: right;\">\n",
       "      <th></th>\n",
       "      <th>KM-estimate</th>\n",
       "    </tr>\n",
       "    <tr>\n",
       "      <th>timeline</th>\n",
       "      <th></th>\n",
       "    </tr>\n",
       "  </thead>\n",
       "  <tbody>\n",
       "    <tr>\n",
       "      <th>0.000000  </th>\n",
       "      <td> 0.999092</td>\n",
       "    </tr>\n",
       "    <tr>\n",
       "      <th>0.032855  </th>\n",
       "      <td> 0.998454</td>\n",
       "    </tr>\n",
       "    <tr>\n",
       "      <th>0.065710  </th>\n",
       "      <td> 0.997826</td>\n",
       "    </tr>\n",
       "    <tr>\n",
       "      <th>0.098565  </th>\n",
       "      <td> 0.997292</td>\n",
       "    </tr>\n",
       "    <tr>\n",
       "      <th>0.131420  </th>\n",
       "      <td> 0.996472</td>\n",
       "    </tr>\n",
       "    <tr>\n",
       "      <th>0.164274  </th>\n",
       "      <td> 0.996415</td>\n",
       "    </tr>\n",
       "    <tr>\n",
       "      <th>0.197129  </th>\n",
       "      <td> 0.996244</td>\n",
       "    </tr>\n",
       "    <tr>\n",
       "      <th>0.229984  </th>\n",
       "      <td> 0.995673</td>\n",
       "    </tr>\n",
       "    <tr>\n",
       "      <th>0.262839  </th>\n",
       "      <td> 0.995195</td>\n",
       "    </tr>\n",
       "    <tr>\n",
       "      <th>0.295694  </th>\n",
       "      <td> 0.994713</td>\n",
       "    </tr>\n",
       "    <tr>\n",
       "      <th>0.328549  </th>\n",
       "      <td> 0.994261</td>\n",
       "    </tr>\n",
       "    <tr>\n",
       "      <th>0.361404  </th>\n",
       "      <td> 0.993545</td>\n",
       "    </tr>\n",
       "    <tr>\n",
       "      <th>0.394259  </th>\n",
       "      <td> 0.993457</td>\n",
       "    </tr>\n",
       "    <tr>\n",
       "      <th>0.427113  </th>\n",
       "      <td> 0.993338</td>\n",
       "    </tr>\n",
       "    <tr>\n",
       "      <th>0.459968  </th>\n",
       "      <td> 0.992933</td>\n",
       "    </tr>\n",
       "    <tr>\n",
       "      <th>0.492823  </th>\n",
       "      <td> 0.992539</td>\n",
       "    </tr>\n",
       "    <tr>\n",
       "      <th>0.525678  </th>\n",
       "      <td> 0.992134</td>\n",
       "    </tr>\n",
       "    <tr>\n",
       "      <th>0.558533  </th>\n",
       "      <td> 0.991750</td>\n",
       "    </tr>\n",
       "    <tr>\n",
       "      <th>0.591388  </th>\n",
       "      <td> 0.991143</td>\n",
       "    </tr>\n",
       "    <tr>\n",
       "      <th>0.624243  </th>\n",
       "      <td> 0.991070</td>\n",
       "    </tr>\n",
       "    <tr>\n",
       "      <th>0.657098  </th>\n",
       "      <td> 0.990935</td>\n",
       "    </tr>\n",
       "    <tr>\n",
       "      <th>0.689953  </th>\n",
       "      <td> 0.990598</td>\n",
       "    </tr>\n",
       "    <tr>\n",
       "      <th>0.722807  </th>\n",
       "      <td> 0.990198</td>\n",
       "    </tr>\n",
       "    <tr>\n",
       "      <th>0.755662  </th>\n",
       "      <td> 0.989799</td>\n",
       "    </tr>\n",
       "    <tr>\n",
       "      <th>0.788517  </th>\n",
       "      <td> 0.989295</td>\n",
       "    </tr>\n",
       "    <tr>\n",
       "      <th>0.821372  </th>\n",
       "      <td> 0.988401</td>\n",
       "    </tr>\n",
       "    <tr>\n",
       "      <th>0.854227  </th>\n",
       "      <td> 0.988328</td>\n",
       "    </tr>\n",
       "    <tr>\n",
       "      <th>0.887082  </th>\n",
       "      <td> 0.988135</td>\n",
       "    </tr>\n",
       "    <tr>\n",
       "      <th>0.919937  </th>\n",
       "      <td> 0.987704</td>\n",
       "    </tr>\n",
       "    <tr>\n",
       "      <th>0.952792  </th>\n",
       "      <td> 0.987152</td>\n",
       "    </tr>\n",
       "    <tr>\n",
       "      <th>...</th>\n",
       "      <td>...</td>\n",
       "    </tr>\n",
       "    <tr>\n",
       "      <th>612.875008</th>\n",
       "      <td> 0.003072</td>\n",
       "    </tr>\n",
       "    <tr>\n",
       "      <th>614.846301</th>\n",
       "      <td> 0.002969</td>\n",
       "    </tr>\n",
       "    <tr>\n",
       "      <th>615.963367</th>\n",
       "      <td> 0.002867</td>\n",
       "    </tr>\n",
       "    <tr>\n",
       "      <th>617.606111</th>\n",
       "      <td> 0.002867</td>\n",
       "    </tr>\n",
       "    <tr>\n",
       "      <th>618.526048</th>\n",
       "      <td> 0.002867</td>\n",
       "    </tr>\n",
       "    <tr>\n",
       "      <th>625.162734</th>\n",
       "      <td> 0.002757</td>\n",
       "    </tr>\n",
       "    <tr>\n",
       "      <th>626.181236</th>\n",
       "      <td> 0.002647</td>\n",
       "    </tr>\n",
       "    <tr>\n",
       "      <th>627.889690</th>\n",
       "      <td> 0.002426</td>\n",
       "    </tr>\n",
       "    <tr>\n",
       "      <th>633.705004</th>\n",
       "      <td> 0.002316</td>\n",
       "    </tr>\n",
       "    <tr>\n",
       "      <th>633.737859</th>\n",
       "      <td> 0.002205</td>\n",
       "    </tr>\n",
       "    <tr>\n",
       "      <th>636.333395</th>\n",
       "      <td> 0.002095</td>\n",
       "    </tr>\n",
       "    <tr>\n",
       "      <th>640.998788</th>\n",
       "      <td> 0.001985</td>\n",
       "    </tr>\n",
       "    <tr>\n",
       "      <th>642.181564</th>\n",
       "      <td> 0.001875</td>\n",
       "    </tr>\n",
       "    <tr>\n",
       "      <th>642.871517</th>\n",
       "      <td> 0.001764</td>\n",
       "    </tr>\n",
       "    <tr>\n",
       "      <th>644.021438</th>\n",
       "      <td> 0.001654</td>\n",
       "    </tr>\n",
       "    <tr>\n",
       "      <th>646.551264</th>\n",
       "      <td> 0.001544</td>\n",
       "    </tr>\n",
       "    <tr>\n",
       "      <th>653.187950</th>\n",
       "      <td> 0.001434</td>\n",
       "    </tr>\n",
       "    <tr>\n",
       "      <th>654.699275</th>\n",
       "      <td> 0.001323</td>\n",
       "    </tr>\n",
       "    <tr>\n",
       "      <th>657.393376</th>\n",
       "      <td> 0.001213</td>\n",
       "    </tr>\n",
       "    <tr>\n",
       "      <th>660.350315</th>\n",
       "      <td> 0.001103</td>\n",
       "    </tr>\n",
       "    <tr>\n",
       "      <th>666.888437</th>\n",
       "      <td> 0.000992</td>\n",
       "    </tr>\n",
       "    <tr>\n",
       "      <th>680.424649</th>\n",
       "      <td> 0.000882</td>\n",
       "    </tr>\n",
       "    <tr>\n",
       "      <th>686.798497</th>\n",
       "      <td> 0.000772</td>\n",
       "    </tr>\n",
       "    <tr>\n",
       "      <th>688.408386</th>\n",
       "      <td> 0.000662</td>\n",
       "    </tr>\n",
       "    <tr>\n",
       "      <th>696.490688</th>\n",
       "      <td> 0.000662</td>\n",
       "    </tr>\n",
       "    <tr>\n",
       "      <th>702.437422</th>\n",
       "      <td> 0.000529</td>\n",
       "    </tr>\n",
       "    <tr>\n",
       "      <th>715.809360</th>\n",
       "      <td> 0.000397</td>\n",
       "    </tr>\n",
       "    <tr>\n",
       "      <th>738.972053</th>\n",
       "      <td> 0.000397</td>\n",
       "    </tr>\n",
       "    <tr>\n",
       "      <th>775.473829</th>\n",
       "      <td> 0.000198</td>\n",
       "    </tr>\n",
       "    <tr>\n",
       "      <th>781.519128</th>\n",
       "      <td> 0.000000</td>\n",
       "    </tr>\n",
       "  </tbody>\n",
       "</table>\n",
       "<p>15674 rows × 1 columns</p>\n",
       "</div>"
      ],
      "text/plain": [
       "            KM-estimate\n",
       "timeline               \n",
       "0.000000       0.999092\n",
       "0.032855       0.998454\n",
       "0.065710       0.997826\n",
       "0.098565       0.997292\n",
       "0.131420       0.996472\n",
       "0.164274       0.996415\n",
       "0.197129       0.996244\n",
       "0.229984       0.995673\n",
       "0.262839       0.995195\n",
       "0.295694       0.994713\n",
       "0.328549       0.994261\n",
       "0.361404       0.993545\n",
       "0.394259       0.993457\n",
       "0.427113       0.993338\n",
       "0.459968       0.992933\n",
       "0.492823       0.992539\n",
       "0.525678       0.992134\n",
       "0.558533       0.991750\n",
       "0.591388       0.991143\n",
       "0.624243       0.991070\n",
       "0.657098       0.990935\n",
       "0.689953       0.990598\n",
       "0.722807       0.990198\n",
       "0.755662       0.989799\n",
       "0.788517       0.989295\n",
       "0.821372       0.988401\n",
       "0.854227       0.988328\n",
       "0.887082       0.988135\n",
       "0.919937       0.987704\n",
       "0.952792       0.987152\n",
       "...                 ...\n",
       "612.875008     0.003072\n",
       "614.846301     0.002969\n",
       "615.963367     0.002867\n",
       "617.606111     0.002867\n",
       "618.526048     0.002867\n",
       "625.162734     0.002757\n",
       "626.181236     0.002647\n",
       "627.889690     0.002426\n",
       "633.705004     0.002316\n",
       "633.737859     0.002205\n",
       "636.333395     0.002095\n",
       "640.998788     0.001985\n",
       "642.181564     0.001875\n",
       "642.871517     0.001764\n",
       "644.021438     0.001654\n",
       "646.551264     0.001544\n",
       "653.187950     0.001434\n",
       "654.699275     0.001323\n",
       "657.393376     0.001213\n",
       "660.350315     0.001103\n",
       "666.888437     0.000992\n",
       "680.424649     0.000882\n",
       "686.798497     0.000772\n",
       "688.408386     0.000662\n",
       "696.490688     0.000662\n",
       "702.437422     0.000529\n",
       "715.809360     0.000397\n",
       "738.972053     0.000397\n",
       "775.473829     0.000198\n",
       "781.519128     0.000000\n",
       "\n",
       "[15674 rows x 1 columns]"
      ]
     },
     "execution_count": 269,
     "metadata": {},
     "output_type": "execute_result"
    }
   ],
   "source": [
    "kmf.survival_function_"
   ]
  },
  {
   "cell_type": "markdown",
   "metadata": {
    "collapsed": true
   },
   "source": [
    "### look at difference between M & F"
   ]
  },
  {
   "cell_type": "code",
   "execution_count": 530,
   "metadata": {
    "collapsed": false
   },
   "outputs": [
    {
     "data": {
      "text/plain": [
       "(90620, 152382)"
      ]
     },
     "execution_count": 530,
     "metadata": {},
     "output_type": "execute_result"
    }
   ],
   "source": [
    "male = empltbl[empltbl['SEX'] =='M']\n",
    "female = empltbl[empltbl['SEX'] =='F']\n",
    "len(male),len(female)"
   ]
  },
  {
   "cell_type": "code",
   "execution_count": 531,
   "metadata": {
    "collapsed": false
   },
   "outputs": [
    {
     "data": {
      "text/plain": [
       "(count    90620.000000\n",
       " mean       125.097521\n",
       " std        139.808186\n",
       " min          0.000000\n",
       " 25%         11.400645\n",
       " 50%         60.732253\n",
       " 75%        209.614160\n",
       " max        781.519128\n",
       " dtype: float64, count    152382.000000\n",
       " mean        109.818388\n",
       " std         131.786893\n",
       " min           0.000000\n",
       " 25%           8.870819\n",
       " 50%          45.438305\n",
       " 75%         181.556089\n",
       " max         738.972053\n",
       " dtype: float64)"
      ]
     },
     "execution_count": 531,
     "metadata": {},
     "output_type": "execute_result"
    }
   ],
   "source": [
    "male.Tenure_months.describe(), female.Tenure_months.describe()"
   ]
  },
  {
   "cell_type": "code",
   "execution_count": 338,
   "metadata": {
    "collapsed": false
   },
   "outputs": [
    {
     "name": "stdout",
     "output_type": "stream",
     "text": [
      "0.0 781.519127703\n"
     ]
    },
    {
     "data": {
      "text/plain": [
       "65"
      ]
     },
     "execution_count": 338,
     "metadata": {},
     "output_type": "execute_result"
    }
   ],
   "source": [
    "min_tenure_months= empltbl.Tenure_months.min()\n",
    "max_tenure_months = empltbl.Tenure_months.max()\n",
    "print min_tenure_months, max_tenure_months\n",
    "tenure_month_range = np.linspace(min_tenure_months,max_tenure_months,65)\n",
    "len(tenure_month_range)"
   ]
  },
  {
   "cell_type": "code",
   "execution_count": 533,
   "metadata": {
    "collapsed": false
   },
   "outputs": [
    {
     "data": {
      "text/plain": [
       "<matplotlib.legend.Legend at 0x7fb1be76c090>"
      ]
     },
     "execution_count": 533,
     "metadata": {},
     "output_type": "execute_result"
    },
    {
     "data": {
      "image/png": "[encoded data removed]",
      "text/plain": [
       "<matplotlib.figure.Figure at 0x7fb1bfcef5d0>"
      ]
     },
     "metadata": {},
     "output_type": "display_data"
    }
   ],
   "source": [
    "male.Tenure_months.hist(normed=True,color='dodgerblue',bins=65,label='M')\n",
    "female.Tenure_months.hist(normed=True,color='deeppink',alpha=0.5,bins=65,label='F')\n",
    "plt.xlabel('Tenure_months')\n",
    "plt.ylabel('Normed Distribution')\n",
    "plt.legend()"
   ]
  },
  {
   "cell_type": "code",
   "execution_count": 534,
   "metadata": {
    "collapsed": false
   },
   "outputs": [
    {
     "data": {
      "text/plain": [
       "<matplotlib.text.Text at 0x7fb1af1746d0>"
      ]
     },
     "execution_count": 534,
     "metadata": {},
     "output_type": "execute_result"
    },
    {
     "data": {
      "image/png": "[encoded data removed]",
      "text/plain": [
       "<matplotlib.figure.Figure at 0x7fb1afe68ad0>"
      ]
     },
     "metadata": {},
     "output_type": "display_data"
    }
   ],
   "source": [
    "kmf_gender = KaplanMeierFitter()\n",
    "#plt.figure(figsize=(20,10))\n",
    "kmf_gender.fit(male.Tenure_months, timeline=tenure_month_range,event_observed=male.status)\n",
    "ax = kmf_gender.plot(c='dodgerblue',label='Male')\n",
    "kmf_gender.fit(female.Tenure_months,  timeline=tenure_month_range,event_observed=female.status)\n",
    "kmf_gender.plot(ax=ax, c='deeppink',label='Female')\n",
    "ylim(0,1.05)\n",
    "plt.ylabel('Survival Distribution Function')\n",
    "plt.xlabel('Tenure Months')"
   ]
  },
  {
   "cell_type": "markdown",
   "metadata": {
    "collapsed": true
   },
   "source": [
    "## Hazard Function"
   ]
  },
  {
   "cell_type": "code",
   "execution_count": 535,
   "metadata": {
    "collapsed": false
   },
   "outputs": [
    {
     "data": {
      "text/plain": [
       "<matplotlib.text.Text at 0x7fb1bc4dbf90>"
      ]
     },
     "execution_count": 535,
     "metadata": {},
     "output_type": "execute_result"
    },
    {
     "data": {
      "text/plain": [
       "<matplotlib.figure.Figure at 0x7fb1bcfdd3d0>"
      ]
     },
     "metadata": {},
     "output_type": "display_data"
    },
    {
     "data": {
      "image/png": "[encoded data removed]",
      "text/plain": [
       "<matplotlib.figure.Figure at 0x7fb1bcfdd410>"
      ]
     },
     "metadata": {},
     "output_type": "display_data"
    }
   ],
   "source": [
    "from lifelines import NelsonAalenFitter\n",
    "#plt.figure(figsize=(12.5,8))\n",
    "naf = NelsonAalenFitter()\n",
    "naf.fit(male.Tenure_months,timeline=tenure_month_range, event_observed=male.status)\n",
    "ax = naf.plot(c='dodgerblue',label='Male')\n",
    "naf.fit(female.Tenure_months,  timeline=tenure_month_range,event_observed=female.status)\n",
    "naf.plot(ax=ax, c='deeppink',label='Female')\n",
    "#ylim(0,1.05)\n",
    "plt.ylabel('Hazard Function')\n",
    "plt.xlabel('Tenure Months')\n",
    "#fit(male.Tenure_months,timeline=tenure_month_range, event_observed=male.status)"
   ]
  },
  {
   "cell_type": "markdown",
   "metadata": {
    "collapsed": true
   },
   "source": [
    "### Repeat using age in years as timeline"
   ]
  },
  {
   "cell_type": "code",
   "execution_count": 536,
   "metadata": {
    "collapsed": false
   },
   "outputs": [
    {
     "data": {
      "text/plain": [
       "count    243002.000000\n",
       "mean         39.142082\n",
       "std          13.380317\n",
       "min          14.609472\n",
       "25%          27.729522\n",
       "50%          36.863180\n",
       "75%          49.958589\n",
       "max          98.197773\n",
       "dtype: float64"
      ]
     },
     "execution_count": 536,
     "metadata": {},
     "output_type": "execute_result"
    }
   ],
   "source": [
    "empltbl.Age_years.describe()"
   ]
  },
  {
   "cell_type": "code",
   "execution_count": 537,
   "metadata": {
    "collapsed": false
   },
   "outputs": [
    {
     "data": {
      "text/plain": [
       "37"
      ]
     },
     "execution_count": 537,
     "metadata": {},
     "output_type": "execute_result"
    }
   ],
   "source": [
    "sum(empltbl.Age_years > 80)"
   ]
  },
  {
   "cell_type": "code",
   "execution_count": 353,
   "metadata": {
    "collapsed": false
   },
   "outputs": [
    {
     "name": "stdout",
     "output_type": "stream",
     "text": [
      "15.263831564 98.1977727126 82.9339411487\n"
     ]
    },
    {
     "data": {
      "text/plain": [
       "82"
      ]
     },
     "execution_count": 353,
     "metadata": {},
     "output_type": "execute_result"
    }
   ],
   "source": [
    "min_age = empltbl.Age_years.min()\n",
    "max_age = empltbl.Age_years.max()\n",
    "print min_age, max_age, max_age - min_age\n",
    "delta_age= int(max_age - min_age)\n",
    "age_range = np.linspace(min_age,max_age,delta_age)\n",
    "len(age_range)"
   ]
  },
  {
   "cell_type": "code",
   "execution_count": 538,
   "metadata": {
    "collapsed": false
   },
   "outputs": [
    {
     "data": {
      "text/plain": [
       "<matplotlib.text.Text at 0x7fb1bf0e1810>"
      ]
     },
     "execution_count": 538,
     "metadata": {},
     "output_type": "execute_result"
    },
    {
     "data": {
      "image/png": "[encoded data removed]",
      "text/plain": [
       "<matplotlib.figure.Figure at 0x7fb1afe460d0>"
      ]
     },
     "metadata": {},
     "output_type": "display_data"
    }
   ],
   "source": [
    "kmf_age = KaplanMeierFitter()\n",
    "kmf_age.fit(empltbl.Age_years, timeline=age_range,event_observed=empltbl.status)\n",
    "kmf_age.plot(color='darkgoldenrod')\n",
    "plt.ylabel('Survival Distribution Function')"
   ]
  },
  {
   "cell_type": "code",
   "execution_count": 539,
   "metadata": {
    "collapsed": false
   },
   "outputs": [
    {
     "data": {
      "text/plain": [
       "<matplotlib.legend.Legend at 0x7fb1fc451750>"
      ]
     },
     "execution_count": 539,
     "metadata": {},
     "output_type": "execute_result"
    },
    {
     "data": {
      "image/png": "[encoded data removed]",
      "text/plain": [
       "<matplotlib.figure.Figure at 0x7fb1af58e110>"
      ]
     },
     "metadata": {},
     "output_type": "display_data"
    }
   ],
   "source": [
    "male.Age_years.hist(normed=True,color='dodgerblue',bins=82,alpha=0.7,label='M')\n",
    "female.Age_years.hist(normed=True,color='deeppink',alpha=0.3,bins=82,label='F')\n",
    "plt.xlabel('Age_years')\n",
    "plt.ylabel('Normed Distribution')\n",
    "plt.legend()"
   ]
  },
  {
   "cell_type": "code",
   "execution_count": 540,
   "metadata": {
    "collapsed": false
   },
   "outputs": [
    {
     "data": {
      "text/plain": [
       "<matplotlib.text.Text at 0x7fb1fb98e650>"
      ]
     },
     "execution_count": 540,
     "metadata": {},
     "output_type": "execute_result"
    },
    {
     "data": {
      "image/png": "[encoded data removed]",
      "text/plain": [
       "<matplotlib.figure.Figure at 0x7fb1fb598d10>"
      ]
     },
     "metadata": {},
     "output_type": "display_data"
    }
   ],
   "source": [
    "kmf_gender_age = KaplanMeierFitter()\n",
    "#plt.figure(figsize=(20,10))\n",
    "kmf_gender_age.fit(male.Age_years, timeline=age_range,event_observed=male.status)\n",
    "ax = kmf_gender_age.plot(c='dodgerblue',label='Male')\n",
    "kmf_gender_age.fit(female.Age_years,  timeline=age_range,event_observed=female.status)\n",
    "kmf_gender_age.plot(ax=ax, c='deeppink',label='Female')\n",
    "ylim(0,1.05)\n",
    "plt.ylabel('Survival Distribution Function')\n",
    "plt.xlabel('Age (years)')\n",
    "plt.title('Gender-split KM')"
   ]
  },
  {
   "cell_type": "markdown",
   "metadata": {},
   "source": [
    "## Cox Proportional Hazard Regression\n"
   ]
  },
  {
   "cell_type": "code",
   "execution_count": 541,
   "metadata": {
    "collapsed": true
   },
   "outputs": [],
   "source": [
    "from lifelines import CoxPHFitter"
   ]
  },
  {
   "cell_type": "markdown",
   "metadata": {},
   "source": [
    "### restrict the dataframe to do linear-regression on.\n",
    "* first attempt is _ad hoc_ reduction of 185 columns\n",
    "    * keep age_years, tenure_months, status, sex for sure\n",
    "* look at cases where there is 'significant' correlation between columns:\n",
    "    * for example JOBCNTx, LOCCNTx, DEPTCNTx, ..."
   ]
  },
  {
   "cell_type": "code",
   "execution_count": 542,
   "metadata": {
    "collapsed": false
   },
   "outputs": [
    {
     "data": {
      "text/plain": [
       "(243002, 183)"
      ]
     },
     "execution_count": 542,
     "metadata": {},
     "output_type": "execute_result"
    }
   ],
   "source": [
    "empltbl.shape"
   ]
  },
  {
   "cell_type": "code",
   "execution_count": null,
   "metadata": {
    "collapsed": true
   },
   "outputs": [],
   "source": []
  },
  {
   "cell_type": "code",
   "execution_count": null,
   "metadata": {
    "collapsed": false
   },
   "outputs": [],
   "source": [
    "plt.scatter(empltbl.FLOORCNT1,empltbl.DEPTCNT1,color='burlywood',alpha=0.3)"
   ]
  },
  {
   "cell_type": "code",
   "execution_count": 371,
   "metadata": {
    "collapsed": false
   },
   "outputs": [
    {
     "data": {
      "text/html": [
       "<div style=\"max-height:1000px;max-width:1500px;overflow:auto;\">\n",
       "<table border=\"1\" class=\"dataframe\">\n",
       "  <thead>\n",
       "    <tr style=\"text-align: right;\">\n",
       "      <th></th>\n",
       "      <th>JOBCNT1</th>\n",
       "      <th>LOCCNT1</th>\n",
       "      <th>DEPTCNT1</th>\n",
       "      <th>GRADECNT1</th>\n",
       "      <th>FLOORCNT1</th>\n",
       "      <th>SUPVCNT1</th>\n",
       "    </tr>\n",
       "  </thead>\n",
       "  <tbody>\n",
       "    <tr>\n",
       "      <th>JOBCNT1</th>\n",
       "      <td> 1.000000</td>\n",
       "      <td> 0.329361</td>\n",
       "      <td> 0.438596</td>\n",
       "      <td> 0.721679</td>\n",
       "      <td> 0.168862</td>\n",
       "      <td> 0.288238</td>\n",
       "    </tr>\n",
       "    <tr>\n",
       "      <th>LOCCNT1</th>\n",
       "      <td> 0.329361</td>\n",
       "      <td> 1.000000</td>\n",
       "      <td> 0.614073</td>\n",
       "      <td> 0.228802</td>\n",
       "      <td> 0.188673</td>\n",
       "      <td> 0.326542</td>\n",
       "    </tr>\n",
       "    <tr>\n",
       "      <th>DEPTCNT1</th>\n",
       "      <td> 0.438596</td>\n",
       "      <td> 0.614073</td>\n",
       "      <td> 1.000000</td>\n",
       "      <td> 0.251160</td>\n",
       "      <td> 0.283301</td>\n",
       "      <td> 0.441145</td>\n",
       "    </tr>\n",
       "    <tr>\n",
       "      <th>GRADECNT1</th>\n",
       "      <td> 0.721679</td>\n",
       "      <td> 0.228802</td>\n",
       "      <td> 0.251160</td>\n",
       "      <td> 1.000000</td>\n",
       "      <td> 0.106899</td>\n",
       "      <td> 0.190856</td>\n",
       "    </tr>\n",
       "    <tr>\n",
       "      <th>FLOORCNT1</th>\n",
       "      <td> 0.168862</td>\n",
       "      <td> 0.188673</td>\n",
       "      <td> 0.283301</td>\n",
       "      <td> 0.106899</td>\n",
       "      <td> 1.000000</td>\n",
       "      <td> 0.114109</td>\n",
       "    </tr>\n",
       "    <tr>\n",
       "      <th>SUPVCNT1</th>\n",
       "      <td> 0.288238</td>\n",
       "      <td> 0.326542</td>\n",
       "      <td> 0.441145</td>\n",
       "      <td> 0.190856</td>\n",
       "      <td> 0.114109</td>\n",
       "      <td> 1.000000</td>\n",
       "    </tr>\n",
       "  </tbody>\n",
       "</table>\n",
       "</div>"
      ],
      "text/plain": [
       "            JOBCNT1   LOCCNT1  DEPTCNT1  GRADECNT1  FLOORCNT1  SUPVCNT1\n",
       "JOBCNT1    1.000000  0.329361  0.438596   0.721679   0.168862  0.288238\n",
       "LOCCNT1    0.329361  1.000000  0.614073   0.228802   0.188673  0.326542\n",
       "DEPTCNT1   0.438596  0.614073  1.000000   0.251160   0.283301  0.441145\n",
       "GRADECNT1  0.721679  0.228802  0.251160   1.000000   0.106899  0.190856\n",
       "FLOORCNT1  0.168862  0.188673  0.283301   0.106899   1.000000  0.114109\n",
       "SUPVCNT1   0.288238  0.326542  0.441145   0.190856   0.114109  1.000000"
      ]
     },
     "execution_count": 371,
     "metadata": {},
     "output_type": "execute_result"
    }
   ],
   "source": [
    "#pd.crosstab(empltbl, index = 'JOBCNT1',columns =\n",
    "#(empltbl, \n",
    "empltbl[['JOBCNT1','LOCCNT1','DEPTCNT1','GRADECNT1','FLOORCNT1','SUPVCNT1']].corr()"
   ]
  },
  {
   "cell_type": "code",
   "execution_count": 444,
   "metadata": {
    "collapsed": false
   },
   "outputs": [
    {
     "data": {
      "text/plain": [
       "1    237717\n",
       "D      2985\n",
       "3      1348\n",
       "T       490\n",
       "O       339\n",
       "4        60\n",
       "X        30\n",
       "P        13\n",
       "5         9\n",
       "2         9\n",
       "G         1\n",
       "F         1\n",
       "dtype: int64"
      ]
     },
     "execution_count": 444,
     "metadata": {},
     "output_type": "execute_result"
    }
   ],
   "source": [
    "c='EMPL_CLASS'\n",
    "empltbl[c].value_counts()"
   ]
  },
  {
   "cell_type": "code",
   "execution_count": 445,
   "metadata": {
    "collapsed": false
   },
   "outputs": [
    {
     "data": {
      "text/plain": [
       "12"
      ]
     },
     "execution_count": 445,
     "metadata": {},
     "output_type": "execute_result"
    }
   ],
   "source": [
    "\n",
    "len(empltbl[c].unique())"
   ]
  },
  {
   "cell_type": "code",
   "execution_count": 544,
   "metadata": {
    "collapsed": false
   },
   "outputs": [
    {
     "data": {
      "text/html": [
       "<div style=\"max-height:1000px;max-width:1500px;overflow:auto;\">\n",
       "<table border=\"1\" class=\"dataframe\">\n",
       "  <thead>\n",
       "    <tr style=\"text-align: right;\">\n",
       "      <th></th>\n",
       "      <th>ANNUAL_RT</th>\n",
       "      <th>SAL1</th>\n",
       "    </tr>\n",
       "  </thead>\n",
       "  <tbody>\n",
       "    <tr>\n",
       "      <th>ANNUAL_RT</th>\n",
       "      <td> 1</td>\n",
       "      <td> 1</td>\n",
       "    </tr>\n",
       "    <tr>\n",
       "      <th>SAL1</th>\n",
       "      <td> 1</td>\n",
       "      <td> 1</td>\n",
       "    </tr>\n",
       "  </tbody>\n",
       "</table>\n",
       "</div>"
      ],
      "text/plain": [
       "           ANNUAL_RT  SAL1\n",
       "ANNUAL_RT          1     1\n",
       "SAL1               1     1"
      ]
     },
     "execution_count": 544,
     "metadata": {},
     "output_type": "execute_result"
    },
    {
     "data": {
      "image/png": "[encoded data removed]",
      "text/plain": [
       "<matplotlib.figure.Figure at 0x7fb1fc614bd0>"
      ]
     },
     "metadata": {},
     "output_type": "display_data"
    }
   ],
   "source": [
    "plt.scatter(empltbl.ANNUAL_RT,empltbl.SAL1,color='burlywood',alpha=0.3)\n",
    "empltbl[['ANNUAL_RT','SAL1']].corr()"
   ]
  },
  {
   "cell_type": "code",
   "execution_count": 456,
   "metadata": {
    "collapsed": false
   },
   "outputs": [
    {
     "data": {
      "text/plain": [
       "219722"
      ]
     },
     "execution_count": 456,
     "metadata": {},
     "output_type": "execute_result"
    }
   ],
   "source": [
    "len(empltbl[empltbl.ANNUAL_RT>0])"
   ]
  },
  {
   "cell_type": "code",
   "execution_count": 545,
   "metadata": {
    "collapsed": false
   },
   "outputs": [
    {
     "data": {
      "text/plain": [
       "<matplotlib.axes._subplots.AxesSubplot at 0x7fb1fb033090>"
      ]
     },
     "execution_count": 545,
     "metadata": {},
     "output_type": "execute_result"
    },
    {
     "data": {
      "image/png": "[encoded data removed]",
      "text/plain": [
       "<matplotlib.figure.Figure at 0x7fb1fb23e1d0>"
      ]
     },
     "metadata": {},
     "output_type": "display_data"
    }
   ],
   "source": [
    "np.log(empltbl.ANNUAL_RT+1).hist(bins=30)"
   ]
  },
  {
   "cell_type": "code",
   "execution_count": 376,
   "metadata": {
    "collapsed": false
   },
   "outputs": [
    {
     "data": {
      "text/plain": [
       "count     192736.000000\n",
       "mean       46438.526873\n",
       "std        36610.289517\n",
       "min            0.000000\n",
       "25%        25000.000000\n",
       "50%        37768.265000\n",
       "75%        63171.840000\n",
       "max      1750000.000000\n",
       "dtype: float64"
      ]
     },
     "execution_count": 376,
     "metadata": {},
     "output_type": "execute_result"
    },
    {
     "data": {
      "image/png": "[encoded data removed]",
      "text/plain": [
       "<matplotlib.figure.Figure at 0x7fb1d442d690>"
      ]
     },
     "metadata": {},
     "output_type": "display_data"
    }
   ],
   "source": [
    "empltbl.SAL1.hist(bins=80)\n",
    "empltbl.SAL1.describe()"
   ]
  },
  {
   "cell_type": "code",
   "execution_count": 377,
   "metadata": {
    "collapsed": false
   },
   "outputs": [
    {
     "data": {
      "text/plain": [
       "18566"
      ]
     },
     "execution_count": 377,
     "metadata": {},
     "output_type": "execute_result"
    }
   ],
   "source": [
    "sum(empltbl.SAL1 == 0.0)"
   ]
  },
  {
   "cell_type": "code",
   "execution_count": 384,
   "metadata": {
    "collapsed": false
   },
   "outputs": [
    {
     "data": {
      "text/html": [
       "<div style=\"max-height:1000px;max-width:1500px;overflow:auto;\">\n",
       "<table border=\"1\" class=\"dataframe\">\n",
       "  <thead>\n",
       "    <tr style=\"text-align: right;\">\n",
       "      <th></th>\n",
       "      <th>TOT_MO_SERVICE_SFI</th>\n",
       "      <th>Tenure_months</th>\n",
       "    </tr>\n",
       "  </thead>\n",
       "  <tbody>\n",
       "    <tr>\n",
       "      <th>145871</th>\n",
       "      <td> 34</td>\n",
       "      <td> 34.497628</td>\n",
       "    </tr>\n",
       "    <tr>\n",
       "      <th>145872</th>\n",
       "      <td> 34</td>\n",
       "      <td> 34.497628</td>\n",
       "    </tr>\n",
       "  </tbody>\n",
       "</table>\n",
       "</div>"
      ],
      "text/plain": [
       "        TOT_MO_SERVICE_SFI  Tenure_months\n",
       "145871                  34      34.497628\n",
       "145872                  34      34.497628"
      ]
     },
     "execution_count": 384,
     "metadata": {},
     "output_type": "execute_result"
    }
   ],
   "source": [
    "ret_empl[ret_empl.KEY==dup_empl_keys[2]][['TOT_MO_SERVICE_SFI','Tenure_months']]#.head()"
   ]
  },
  {
   "cell_type": "code",
   "execution_count": 385,
   "metadata": {
    "collapsed": false
   },
   "outputs": [
    {
     "data": {
      "text/plain": [
       "N    171218\n",
       "Y     21518\n",
       "dtype: int64"
      ]
     },
     "execution_count": 385,
     "metadata": {},
     "output_type": "execute_result"
    }
   ],
   "source": [
    "empltbl.RELOCATE_ALL_SFI.value_counts()"
   ]
  },
  {
   "cell_type": "code",
   "execution_count": null,
   "metadata": {
    "collapsed": false
   },
   "outputs": [],
   "source": [
    "empltbl.LOCATION.value_counts().hist(bins=50)"
   ]
  },
  {
   "cell_type": "code",
   "execution_count": 588,
   "metadata": {
    "collapsed": false
   },
   "outputs": [
    {
     "data": {
      "text/plain": [
       "array([nan, 'MI', 'MD', 'AZ', 'TX', 'LA', 'AL', 'PA', 'FL', 'CA', 'IL',\n",
       "       'OH', 'VA', 'OR', 'MN', 'MO', 'WI', 'IN', 'NY', 'NC', 'NJ', 'CO',\n",
       "       'NM', 'KY', 'UT', 'TN', 'NE', 'WV', 'WA', 'NV', 'MT', 'DE', 'AR',\n",
       "       'ID', 'IA', 'SD', 'WY', 'OK', 'KS', 'ND', 'AK', 'GA', 'ME', 'CT',\n",
       "       'SC', 'MS', 'HI', 'NH', 'VT', 'MA', 'DC', 'RI', 'ON'], dtype=object)"
      ]
     },
     "execution_count": 588,
     "metadata": {},
     "output_type": "execute_result"
    }
   ],
   "source": [
    "empltbl.LOC_STATE.unique()"
   ]
  },
  {
   "cell_type": "markdown",
   "metadata": {},
   "source": [
    "## drop those from ONtario"
   ]
  },
  {
   "cell_type": "code",
   "execution_count": 585,
   "metadata": {
    "collapsed": false
   },
   "outputs": [
    {
     "data": {
      "text/html": [
       "<div style=\"max-height:1000px;max-width:1500px;overflow:auto;\">\n",
       "<table border=\"1\" class=\"dataframe\">\n",
       "  <thead>\n",
       "    <tr style=\"text-align: right;\">\n",
       "      <th></th>\n",
       "      <th>zip5</th>\n",
       "      <th>ADDRESS1</th>\n",
       "      <th>LOC_STATE</th>\n",
       "      <th>POSTAL_SFI</th>\n",
       "      <th>TERMINATION_DT</th>\n",
       "      <th>LOC_TYPE_DESCR_SFI</th>\n",
       "      <th>LOCATION</th>\n",
       "    </tr>\n",
       "  </thead>\n",
       "  <tbody>\n",
       "    <tr>\n",
       "      <th>77033 </th>\n",
       "      <td> L0K 1</td>\n",
       "      <td>    20 PENINSULA TR</td>\n",
       "      <td> ON</td>\n",
       "      <td> L0K 1S0</td>\n",
       "      <td>2009-05-31</td>\n",
       "      <td>        OPERATIONS CENTER</td>\n",
       "      <td> 03921</td>\n",
       "    </tr>\n",
       "    <tr>\n",
       "      <th>84605 </th>\n",
       "      <td> N3R 5</td>\n",
       "      <td>   7 MCINTOSH COURT</td>\n",
       "      <td> ON</td>\n",
       "      <td> N3R 5Y1</td>\n",
       "      <td>2013-04-30</td>\n",
       "      <td> AGENCY FIELD OFFICE(AFO)</td>\n",
       "      <td> 03359</td>\n",
       "    </tr>\n",
       "    <tr>\n",
       "      <th>113316</th>\n",
       "      <td> L1A 0</td>\n",
       "      <td>     14 FENTON LANE</td>\n",
       "      <td> ON</td>\n",
       "      <td> L1A 0A3</td>\n",
       "      <td>2002-06-30</td>\n",
       "      <td>        OPERATIONS CENTER</td>\n",
       "      <td> 03921</td>\n",
       "    </tr>\n",
       "    <tr>\n",
       "      <th>113317</th>\n",
       "      <td> L4A 1</td>\n",
       "      <td>    47 WHITEWOOD DR</td>\n",
       "      <td> ON</td>\n",
       "      <td> L4A 1R9</td>\n",
       "      <td>2003-06-30</td>\n",
       "      <td>        OPERATIONS CENTER</td>\n",
       "      <td> 03921</td>\n",
       "    </tr>\n",
       "    <tr>\n",
       "      <th>119293</th>\n",
       "      <td> L1X 2</td>\n",
       "      <td>     2294 BEARE CRT</td>\n",
       "      <td> ON</td>\n",
       "      <td> L1X 2L2</td>\n",
       "      <td>2011-06-30</td>\n",
       "      <td>        OPERATIONS CENTER</td>\n",
       "      <td> 03921</td>\n",
       "    </tr>\n",
       "    <tr>\n",
       "      <th>119582</th>\n",
       "      <td> L1S 4</td>\n",
       "      <td> 40 FARROW CRESCENT</td>\n",
       "      <td> ON</td>\n",
       "      <td> L1S 4W6</td>\n",
       "      <td>2014-12-31</td>\n",
       "      <td>        OPERATIONS CENTER</td>\n",
       "      <td> 03921</td>\n",
       "    </tr>\n",
       "    <tr>\n",
       "      <th>126865</th>\n",
       "      <td> L4L 8</td>\n",
       "      <td>    17 RADLEY DRIVE</td>\n",
       "      <td> ON</td>\n",
       "      <td> L4L 8J7</td>\n",
       "      <td>2014-12-31</td>\n",
       "      <td>        OPERATIONS CENTER</td>\n",
       "      <td> 03921</td>\n",
       "    </tr>\n",
       "  </tbody>\n",
       "</table>\n",
       "</div>"
      ],
      "text/plain": [
       "         zip5            ADDRESS1 LOC_STATE POSTAL_SFI TERMINATION_DT  \\\n",
       "77033   L0K 1     20 PENINSULA TR        ON    L0K 1S0     2009-05-31   \n",
       "84605   N3R 5    7 MCINTOSH COURT        ON    N3R 5Y1     2013-04-30   \n",
       "113316  L1A 0      14 FENTON LANE        ON    L1A 0A3     2002-06-30   \n",
       "113317  L4A 1     47 WHITEWOOD DR        ON    L4A 1R9     2003-06-30   \n",
       "119293  L1X 2      2294 BEARE CRT        ON    L1X 2L2     2011-06-30   \n",
       "119582  L1S 4  40 FARROW CRESCENT        ON    L1S 4W6     2014-12-31   \n",
       "126865  L4L 8     17 RADLEY DRIVE        ON    L4L 8J7     2014-12-31   \n",
       "\n",
       "              LOC_TYPE_DESCR_SFI LOCATION  \n",
       "77033          OPERATIONS CENTER    03921  \n",
       "84605   AGENCY FIELD OFFICE(AFO)    03359  \n",
       "113316         OPERATIONS CENTER    03921  \n",
       "113317         OPERATIONS CENTER    03921  \n",
       "119293         OPERATIONS CENTER    03921  \n",
       "119582         OPERATIONS CENTER    03921  \n",
       "126865         OPERATIONS CENTER    03921  "
      ]
     },
     "execution_count": 585,
     "metadata": {},
     "output_type": "execute_result"
    }
   ],
   "source": [
    "empltbl[empltbl.LOC_STATE=='ON'][['zip5','ADDRESS1','LOC_STATE','POSTAL_SFI','TERMINATION_DT','LOC_TYPE_DESCR_SFI','LOCATION']]"
   ]
  },
  {
   "cell_type": "code",
   "execution_count": 589,
   "metadata": {
    "collapsed": false
   },
   "outputs": [
    {
     "data": {
      "text/html": [
       "<div style=\"max-height:1000px;max-width:1500px;overflow:auto;\">\n",
       "<table border=\"1\" class=\"dataframe\">\n",
       "  <thead>\n",
       "    <tr style=\"text-align: right;\">\n",
       "      <th></th>\n",
       "      <th>KEY</th>\n",
       "      <th>PER_ORG</th>\n",
       "      <th>LOCATION</th>\n",
       "      <th>LOC_TYPE_DESCR_SFI</th>\n",
       "      <th>JOBCODE</th>\n",
       "      <th>LEGACY_DEPT_SFI</th>\n",
       "      <th>FULL_PART_TIME</th>\n",
       "      <th>EMPL_TYPE</th>\n",
       "      <th>SHIFT</th>\n",
       "      <th>COMPANY</th>\n",
       "      <th>...</th>\n",
       "      <th>ADDRCNT1</th>\n",
       "      <th>ADDRCNT3</th>\n",
       "      <th>ADDRCNT5</th>\n",
       "      <th>ADDRCNT10</th>\n",
       "      <th>Age_tdelta</th>\n",
       "      <th>Tenure_tdelta</th>\n",
       "      <th>Age_years</th>\n",
       "      <th>Tenure_months</th>\n",
       "      <th>status</th>\n",
       "      <th>zip5</th>\n",
       "    </tr>\n",
       "  </thead>\n",
       "  <tbody>\n",
       "    <tr>\n",
       "      <th>84605</th>\n",
       "      <td> 922380983327693</td>\n",
       "      <td> EMP</td>\n",
       "      <td> 03359</td>\n",
       "      <td> AGENCY FIELD OFFICE(AFO)</td>\n",
       "      <td> 1764</td>\n",
       "      <td> 10303135936</td>\n",
       "      <td> F</td>\n",
       "      <td> N</td>\n",
       "      <td> 1</td>\n",
       "      <td> A01</td>\n",
       "      <td>...</td>\n",
       "      <td> 0</td>\n",
       "      <td> 0</td>\n",
       "      <td> 0</td>\n",
       "      <td> 0</td>\n",
       "      <td>21498 days</td>\n",
       "      <td>8854 days</td>\n",
       "      <td> 58.859525</td>\n",
       "      <td> 290.897144</td>\n",
       "      <td> 1</td>\n",
       "      <td> N3R 5</td>\n",
       "    </tr>\n",
       "  </tbody>\n",
       "</table>\n",
       "<p>1 rows × 184 columns</p>\n",
       "</div>"
      ],
      "text/plain": [
       "                   KEY PER_ORG LOCATION        LOC_TYPE_DESCR_SFI JOBCODE  \\\n",
       "84605  922380983327693     EMP    03359  AGENCY FIELD OFFICE(AFO)    1764   \n",
       "\n",
       "      LEGACY_DEPT_SFI FULL_PART_TIME EMPL_TYPE SHIFT COMPANY   ...    \\\n",
       "84605     10303135936              F         N     1     A01   ...     \n",
       "\n",
       "       ADDRCNT1 ADDRCNT3 ADDRCNT5 ADDRCNT10  Age_tdelta Tenure_tdelta  \\\n",
       "84605         0        0        0         0  21498 days     8854 days   \n",
       "\n",
       "       Age_years  Tenure_months status   zip5  \n",
       "84605  58.859525     290.897144      1  N3R 5  \n",
       "\n",
       "[1 rows x 184 columns]"
      ]
     },
     "execution_count": 589,
     "metadata": {},
     "output_type": "execute_result"
    }
   ],
   "source": [
    "empltbl[empltbl.LOCATION == '03359']#'03921']"
   ]
  },
  {
   "cell_type": "code",
   "execution_count": 590,
   "metadata": {
    "collapsed": false
   },
   "outputs": [
    {
     "data": {
      "text/plain": [
       "242995"
      ]
     },
     "execution_count": 590,
     "metadata": {},
     "output_type": "execute_result"
    }
   ],
   "source": [
    "empltbl=empltbl[empltbl.LOC_STATE!='ON'].copy()\n",
    "len(empltbl)"
   ]
  },
  {
   "cell_type": "code",
   "execution_count": 569,
   "metadata": {
    "collapsed": false
   },
   "outputs": [
    {
     "data": {
      "text/plain": [
       "['60938', '48911', '21236', '85268', '78756']"
      ]
     },
     "execution_count": 569,
     "metadata": {},
     "output_type": "execute_result"
    }
   ],
   "source": [
    "[z[:5] for z in empltbl.POSTAL_SFI.head()]"
   ]
  },
  {
   "cell_type": "code",
   "execution_count": 570,
   "metadata": {
    "collapsed": true
   },
   "outputs": [],
   "source": []
  },
  {
   "cell_type": "code",
   "execution_count": 573,
   "metadata": {
    "collapsed": false
   },
   "outputs": [
    {
     "data": {
      "text/plain": [
       "(18924, 0)"
      ]
     },
     "execution_count": 573,
     "metadata": {},
     "output_type": "execute_result"
    }
   ],
   "source": [
    "len(empltbl.zip5.unique()), sum(empltbl.zip5.isnull())"
   ]
  },
  {
   "cell_type": "code",
   "execution_count": 550,
   "metadata": {
    "collapsed": false
   },
   "outputs": [
    {
     "data": {
      "text/plain": [
       "56717"
      ]
     },
     "execution_count": 550,
     "metadata": {},
     "output_type": "execute_result"
    }
   ],
   "source": [
    "len(empltbl.LEGACY_DEPT_SFI.unique())"
   ]
  },
  {
   "cell_type": "code",
   "execution_count": 602,
   "metadata": {
    "collapsed": false
   },
   "outputs": [
    {
     "data": {
      "text/plain": [
       "242995"
      ]
     },
     "execution_count": 602,
     "metadata": {},
     "output_type": "execute_result"
    }
   ],
   "source": [
    "n_employees = sdf.ix[0]['arity']\n",
    "n_employees"
   ]
  },
  {
   "cell_type": "code",
   "execution_count": 59,
   "metadata": {
    "collapsed": false
   },
   "outputs": [
    {
     "data": {
      "text/plain": [
       "00062    35242\n",
       "00105    18308\n",
       "00101    13115\n",
       "00125    11978\n",
       "00315    10053\n",
       "00071     8714\n",
       "00066     8268\n",
       "00610     7535\n",
       "00068     6724\n",
       "00070     4651\n",
       "00892     3379\n",
       "00910     3287\n",
       "00909     3201\n",
       "00517     3074\n",
       "00328     3043\n",
       "...\n",
       "00784    1\n",
       "00785    1\n",
       "00758    1\n",
       "00756    1\n",
       "00769    1\n",
       "00789    1\n",
       "00737    1\n",
       "00216    1\n",
       "00218    1\n",
       "00219    1\n",
       "00740    1\n",
       "00149    1\n",
       "00280    1\n",
       "00613    1\n",
       "00708    1\n",
       "Length: 423, dtype: int64"
      ]
     },
     "execution_count": 59,
     "metadata": {},
     "output_type": "execute_result"
    }
   ],
   "source": [
    "empltbl.EXT_FUNC_ID_SFI.value_counts()"
   ]
  },
  {
   "cell_type": "code",
   "execution_count": null,
   "metadata": {
    "collapsed": true
   },
   "outputs": [],
   "source": [
    "columns_to_fix_missing = ['GRADE']"
   ]
  },
  {
   "cell_type": "code",
   "execution_count": 132,
   "metadata": {
    "collapsed": false
   },
   "outputs": [
    {
     "data": {
      "text/plain": [
       "0        0\n",
       "1        0\n",
       "2        0\n",
       "3        0\n",
       "4        0\n",
       "5        0\n",
       "6        0\n",
       "7        0\n",
       "8        0\n",
       "9        0\n",
       "10       0\n",
       "11       0\n",
       "12       0\n",
       "13       0\n",
       "14       0\n",
       "15       0\n",
       "16       0\n",
       "17       0\n",
       "18       0\n",
       "19       0\n",
       "20       0\n",
       "21       0\n",
       "22       0\n",
       "23       0\n",
       "24       0\n",
       "25       0\n",
       "26       0\n",
       "27       0\n",
       "28       0\n",
       "29       0\n",
       "        ..\n",
       "70579    0\n",
       "70580    0\n",
       "70581    0\n",
       "70582    0\n",
       "70583    0\n",
       "70584    0\n",
       "70585    0\n",
       "70586    0\n",
       "70587    0\n",
       "70588    0\n",
       "70589    0\n",
       "70590    0\n",
       "70591    0\n",
       "70592    0\n",
       "70593    0\n",
       "70594    0\n",
       "70595    0\n",
       "70596    0\n",
       "70597    0\n",
       "70598    0\n",
       "70599    0\n",
       "70600    0\n",
       "70601    0\n",
       "70602    0\n",
       "70603    0\n",
       "70604    0\n",
       "70605    0\n",
       "70606    0\n",
       "70607    0\n",
       "70608    0\n",
       "Name: ADDRCNT1, dtype: category\n",
       "Categories (5, float64): [0, 1, 2, 3, 4]"
      ]
     },
     "execution_count": 132,
     "metadata": {},
     "output_type": "execute_result"
    }
   ],
   "source": [
    "empltbl.ADDRCNT1.astype('category')"
   ]
  },
  {
   "cell_type": "code",
   "execution_count": 133,
   "metadata": {
    "collapsed": false
   },
   "outputs": [
    {
     "data": {
      "text/plain": [
       "Int64Index([124, 541, 834, 835, 909, 1435, 1953, 2195, 2521, 2923, 2979, 3073, 4595, 4657, 4856, 4858, 4918, 5261, 5584, 5751, 6111, 6235, 7529, 9646, 9648, 9651, 9652, 9654, 9655, 9720, 10449, 10912, 11285, 12787, 12788, 12789, 12794, 13170, 13325, 13706, 13882, 14133, 14420, 14487, 14652, 15435, 16493, 16595, 16646, 16843, 17695, 20025, 20699, 21090, 21181, 22671, 22759, 22760, 22785, 22907, 23040, 23048, 23086, 23910, 24915, 25058, 25217, 25270, 29546, 30330, 30711, 30798, 31334, 31335, 31458, 31610, 32454, 33070, 33071, 34234, 34970, 36002, 36617, 37258, 38198, 38202, 38212, 38697, 42257, 44892, 53467, 62562, 66902, 67124, 67729, 67991, 72391, 72923, 73476, 74887, ...], dtype='int64')"
      ]
     },
     "execution_count": 133,
     "metadata": {},
     "output_type": "execute_result"
    }
   ],
   "source": [
    "empltbl[empltbl.ADDRCNT1.isnull()].index"
   ]
  },
  {
   "cell_type": "code",
   "execution_count": 135,
   "metadata": {
    "collapsed": false
   },
   "outputs": [
    {
     "data": {
      "text/plain": [
       "123    A\n",
       "124    A\n",
       "Name: COMP_FREQUENCY, dtype: category\n",
       "Categories (4, object): [A, B, H, M]"
      ]
     },
     "execution_count": 135,
     "metadata": {},
     "output_type": "execute_result"
    }
   ],
   "source": [
    "empltbl.COMP_FREQUENCY.astype('category')[123:125]"
   ]
  },
  {
   "cell_type": "code",
   "execution_count": 137,
   "metadata": {
    "collapsed": false
   },
   "outputs": [
    {
     "data": {
      "text/plain": [
       "12986"
      ]
     },
     "execution_count": 137,
     "metadata": {},
     "output_type": "execute_result"
    }
   ],
   "source": []
  },
  {
   "cell_type": "code",
   "execution_count": null,
   "metadata": {
    "collapsed": true
   },
   "outputs": [],
   "source": []
  },
  {
   "cell_type": "code",
   "execution_count": null,
   "metadata": {
    "collapsed": true
   },
   "outputs": [],
   "source": []
  },
  {
   "cell_type": "code",
   "execution_count": null,
   "metadata": {
    "collapsed": true
   },
   "outputs": [],
   "source": []
  },
  {
   "cell_type": "code",
   "execution_count": null,
   "metadata": {
    "collapsed": true
   },
   "outputs": [],
   "source": []
  },
  {
   "cell_type": "code",
   "execution_count": null,
   "metadata": {
    "collapsed": true
   },
   "outputs": [],
   "source": []
  },
  {
   "cell_type": "code",
   "execution_count": null,
   "metadata": {
    "collapsed": true
   },
   "outputs": [],
   "source": []
  },
  {
   "cell_type": "code",
   "execution_count": null,
   "metadata": {
    "collapsed": true
   },
   "outputs": [],
   "source": []
  }
 ],
 "metadata": {
  "kernelspec": {
   "display_name": "Python 2",
   "language": "python",
   "name": "python2"
  },
  "language_info": {
   "codemirror_mode": {
    "name": "ipython",
    "version": 2
   },
   "file_extension": ".py",
   "mimetype": "text/x-python",
   "name": "python",
   "nbconvert_exporter": "python",
   "pygments_lexer": "ipython2",
   "version": "2.7.8"
  }
 },
 "nbformat": 4,
 "nbformat_minor": 0
}
