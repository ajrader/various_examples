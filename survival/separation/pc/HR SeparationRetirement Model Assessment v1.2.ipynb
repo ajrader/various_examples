{
 "cells": [
  {
   "cell_type": "markdown",
   "metadata": {},
   "source": [
    "# HR Separation \n",
    "## Assessment of the survival models (and my modifications to lifelines)\n"
   ]
  },
  {
   "cell_type": "code",
   "execution_count": 1,
   "metadata": {
    "collapsed": true
   },
   "outputs": [],
   "source": [
    "stgdir1local = u'C:/Users/kesj/Documents/projects/HRattrition/survival'\n",
    "repodir = u'C:/Users/kesj/code/'"
   ]
  },
  {
   "cell_type": "code",
   "execution_count": 2,
   "metadata": {
    "collapsed": true
   },
   "outputs": [],
   "source": [
    "import os,sys\n",
    "import pandas as pd\n",
    "import numpy as np\n",
    "import matplotlib.pyplot as plt\n",
    "%matplotlib inline\n",
    "import seaborn as sns"
   ]
  },
  {
   "cell_type": "code",
   "execution_count": 3,
   "metadata": {
    "collapsed": true
   },
   "outputs": [],
   "source": [
    "os.chdir(stgdir1local)"
   ]
  },
  {
   "cell_type": "markdown",
   "metadata": {},
   "source": [
    "## load the model"
   ]
  },
  {
   "cell_type": "code",
   "execution_count": 4,
   "metadata": {
    "collapsed": true
   },
   "outputs": [],
   "source": [
    "import pickle"
   ]
  },
  {
   "cell_type": "code",
   "execution_count": 5,
   "metadata": {
    "collapsed": true
   },
   "outputs": [],
   "source": [
    "mdl_filename='separation_cf4.pkl'\n",
    "s_cf4 = pickle.load(open(mdl_filename,'rb'))"
   ]
  },
  {
   "cell_type": "code",
   "execution_count": 6,
   "metadata": {
    "collapsed": true
   },
   "outputs": [],
   "source": [
    "import lifelines"
   ]
  },
  {
   "cell_type": "markdown",
   "metadata": {},
   "source": [
    "### Load the dataset"
   ]
  },
  {
   "cell_type": "code",
   "execution_count": 7,
   "metadata": {
    "collapsed": false
   },
   "outputs": [],
   "source": [
    "empl1 = pd.read_csv('after2001_v8.csv',dtype={'KEY':np.str,'EEO1CODE':np.str},parse_dates=['birth_tstmp','term_tstmp','hire_tstmp'])"
   ]
  },
  {
   "cell_type": "code",
   "execution_count": 8,
   "metadata": {
    "collapsed": false
   },
   "outputs": [
    {
     "data": {
      "text/plain": [
       "array(['2', '5', '1', '4', '3', '7', '6', 'N', 'L', '8'], dtype=object)"
      ]
     },
     "execution_count": 8,
     "metadata": {},
     "output_type": "execute_result"
    }
   ],
   "source": [
    "empl1.EEO1CODE.unique()"
   ]
  },
  {
   "cell_type": "code",
   "execution_count": 9,
   "metadata": {
    "collapsed": false
   },
   "outputs": [],
   "source": [
    "from sklearn.pipeline import Pipeline, FeatureUnion\n",
    "from sklearn import ensemble, metrics, cross_validation"
   ]
  },
  {
   "cell_type": "code",
   "execution_count": 13,
   "metadata": {
    "collapsed": false
   },
   "outputs": [],
   "source": [
    "#import sklearn.discriminant_analysis.LinearDiscriminantAnalysis as LDA\n",
    "from sklearn.discriminant_analysis import LinearDiscriminantAnalysis, QuadraticDiscriminantAnalysis"
   ]
  },
  {
   "cell_type": "code",
   "execution_count": 10,
   "metadata": {
    "collapsed": false
   },
   "outputs": [
    {
     "name": "stderr",
     "output_type": "stream",
     "text": [
      "C:\\Anaconda\\lib\\site-packages\\sklearn\\lda.py:4: DeprecationWarning: lda.LDA has been moved to discriminant_analysis.LinearDiscriminantAnalysis in 0.17 and will be removed in 0.19\n",
      "  \"in 0.17 and will be removed in 0.19\", DeprecationWarning)\n",
      "C:\\Anaconda\\lib\\site-packages\\sklearn\\qda.py:4: DeprecationWarning: qda.QDA has been moved to discriminant_analysis.QuadraticDiscriminantAnalysis in 0.17 and will be removed in 0.19.\n",
      "  \"in 0.17 and will be removed in 0.19.\", DeprecationWarning)\n"
     ]
    },
    {
     "data": {
      "text/plain": [
       "<module 'bear.bear' from 'bear\\bear.pyc'>"
      ]
     },
     "execution_count": 10,
     "metadata": {},
     "output_type": "execute_result"
    }
   ],
   "source": [
    "os.chdir(repodir)\n",
    "import bear.bear as br\n",
    "#os.chdir(stgdir1local)\n",
    "reload(br)"
   ]
  },
  {
   "cell_type": "code",
   "execution_count": 28,
   "metadata": {
    "collapsed": false
   },
   "outputs": [],
   "source": [
    "os.chdir(stgdir1local)\n",
    "empl1[empl1.status==0].to_csv('current_v8.ssv',sep=';',index=False)"
   ]
  },
  {
   "cell_type": "code",
   "execution_count": 18,
   "metadata": {
    "collapsed": true
   },
   "outputs": [],
   "source": [
    "os.chdir('../reduced/')"
   ]
  },
  {
   "cell_type": "code",
   "execution_count": 20,
   "metadata": {
    "collapsed": false
   },
   "outputs": [
    {
     "name": "stdout",
     "output_type": "stream",
     "text": [
      "(134266, 69)\n"
     ]
    }
   ],
   "source": [
    "empl2 = pd.read_csv('after2001_v3.csv',dtype={'KEY':np.str})\n",
    "print(empl2.shape)"
   ]
  },
  {
   "cell_type": "code",
   "execution_count": 24,
   "metadata": {
    "collapsed": false
   },
   "outputs": [
    {
     "data": {
      "text/plain": [
       "['HIRE_DT', 'LAST_HIRE_DT', 'SERVICE_DT', 'TERMINATION_DT']"
      ]
     },
     "execution_count": 24,
     "metadata": {},
     "output_type": "execute_result"
    }
   ],
   "source": [
    "[col for col in empl1.columns if col.endswith('DT')]"
   ]
  },
  {
   "cell_type": "code",
   "execution_count": 25,
   "metadata": {
    "collapsed": false
   },
   "outputs": [
    {
     "data": {
      "text/html": [
       "<div>\n",
       "<table border=\"1\" class=\"dataframe\">\n",
       "  <thead>\n",
       "    <tr style=\"text-align: right;\">\n",
       "      <th></th>\n",
       "      <th>HIRE_DT</th>\n",
       "      <th>BIRTHDATE</th>\n",
       "    </tr>\n",
       "  </thead>\n",
       "  <tbody>\n",
       "    <tr>\n",
       "      <th>0</th>\n",
       "      <td>1969-01-22</td>\n",
       "      <td>1949-09-27</td>\n",
       "    </tr>\n",
       "    <tr>\n",
       "      <th>1</th>\n",
       "      <td>2014-06-09</td>\n",
       "      <td>1993-09-05</td>\n",
       "    </tr>\n",
       "    <tr>\n",
       "      <th>2</th>\n",
       "      <td>2012-12-10</td>\n",
       "      <td>1988-02-24</td>\n",
       "    </tr>\n",
       "    <tr>\n",
       "      <th>3</th>\n",
       "      <td>1985-10-14</td>\n",
       "      <td>1950-02-14</td>\n",
       "    </tr>\n",
       "    <tr>\n",
       "      <th>4</th>\n",
       "      <td>2012-06-04</td>\n",
       "      <td>1991-04-12</td>\n",
       "    </tr>\n",
       "  </tbody>\n",
       "</table>\n",
       "</div>"
      ],
      "text/plain": [
       "      HIRE_DT   BIRTHDATE\n",
       "0  1969-01-22  1949-09-27\n",
       "1  2014-06-09  1993-09-05\n",
       "2  2012-12-10  1988-02-24\n",
       "3  1985-10-14  1950-02-14\n",
       "4  2012-06-04  1991-04-12"
      ]
     },
     "execution_count": 25,
     "metadata": {},
     "output_type": "execute_result"
    }
   ],
   "source": [
    "empl1[['HIRE_DT','BIRTHDATE']].head()"
   ]
  },
  {
   "cell_type": "code",
   "execution_count": 21,
   "metadata": {
    "collapsed": false
   },
   "outputs": [
    {
     "data": {
      "text/plain": [
       "Index([u'EXT_FUNC_ID_SFI', u'EEO1CODE', u'REH_CNT', u'birth_tstmp', u'retired',\n",
       "       u'FULL_PART_TIME', u'EMPL_CLASS', u'SHIFT', u'FLSA_STATUS',\n",
       "       u'LOC_STATE', u'TOTAL_RPT_CNT', u'INTERN', u'GRADE', u'FUNCCNT1',\n",
       "       u'PERF1', u'DEPENDENT_CNT', u'SUPVCNT1', u'Tenure_years', u'JOB_FAMILY',\n",
       "       u'ANNUAL_RT', u'hire_tstmp', u'REMOTE', u'DIVISION_CODE_SFI',\n",
       "       u'COMPANY', u'FLOORCNT1', u'FUNC_CNT', u'SEX', u'ETHNIC_GROUP',\n",
       "       u'RELOCATE_ALL_SFI', u'LOCATION', u'HUBIND', u'PARTFULL1', u'STD_HOURS',\n",
       "       u'JOBCNT1', u'term_tstmp', u'MIN_RT_ANNUAL', u'FLOR_SFI', u'PTFTCNT1',\n",
       "       u'KEY', u'FULLPART1', u'FTPTCNT1', u'GRADECNT1', u'EFUNCCNT1',\n",
       "       u'hire_age', u'HAVE_INS', u'FTE', u'JOB_FUNCTION', u'SAL1',\n",
       "       u'LOCSTCNT1', u'former', u'EMPL_TYPE', u'EXTFUNC_CNT', u'JOBCODE',\n",
       "       u'SUPV_DIFF_LOC', u'Age_years', u'ADDRCNT1', u'RELO_STATE_CNT_SFI',\n",
       "       u'HAVE_DEP', u'REMOTE_SUPV', u'MAX_RT_ANNUAL', u'LOCCNT1', u'status',\n",
       "       u'DIRECT_RPT_CNT', u'MERIT1', u'DEPTCNT1', u'FUNC_ID_SFI',\n",
       "       u'LOC_TYPE_DESCR_SFI', u'BOX1', u'COMP_FREQUENCY'],\n",
       "      dtype='object')"
      ]
     },
     "execution_count": 21,
     "metadata": {},
     "output_type": "execute_result"
    }
   ],
   "source": [
    "empl2[empl2.status==0].columns"
   ]
  },
  {
   "cell_type": "markdown",
   "metadata": {},
   "source": [
    "## Preprocess this file\n",
    "1. use the dictonary fro LOC_TYPE_DESCR_SFI "
   ]
  },
  {
   "cell_type": "code",
   "execution_count": 11,
   "metadata": {
    "collapsed": false
   },
   "outputs": [
    {
     "name": "stdout",
     "output_type": "stream",
     "text": [
      "31 21\n"
     ]
    }
   ],
   "source": [
    "loc_descriptions = empl1.LOC_TYPE_DESCR_SFI.unique().tolist()\n",
    "short_loc_descript = {}\n",
    "for loc_name in loc_descriptions:\n",
    "    if loc_name.endswith(')'):\n",
    "        short_name = loc_name[-4:-1]\n",
    "        if short_name == 'NCE':\n",
    "            short_loc_descript[loc_name]='TELE'\n",
    "        else:\n",
    "            short_loc_descript[loc_name]=short_name\n",
    "    elif loc_name.startswith('TELE'):\n",
    "        short_loc_descript[loc_name]='TELE'\n",
    "    elif loc_name.endswith('SIU'):\n",
    "        short_loc_descript[loc_name]='SIU'\n",
    "    elif loc_name.startswith('OPERATIONS'):\n",
    "        short_loc_descript[loc_name]='OC'\n",
    "    elif loc_name.startswith('CORP'):\n",
    "        short_loc_descript[loc_name]='CORP'\n",
    "    elif loc_name.endswith('CENTER'):\n",
    "        short_loc_descript[loc_name]='MC' # marketing center\n",
    "    elif loc_name.endswith('AFO'):\n",
    "        short_loc_descript[loc_name]='AFO'\n",
    "    elif loc_name.endswith('OFFICE'):\n",
    "        if loc_name.startswith('AGENT'):\n",
    "            short_loc_descript[loc_name]='AO' # agent office\n",
    "        elif loc_name.startswith('REGION'):\n",
    "            short_loc_descript[loc_name]='RO' # regional office\n",
    "        elif loc_name.startswith('CATA'):\n",
    "            short_loc_descript[loc_name]='CAT' # catastrophe office\n",
    "    elif loc_name.startswith('EST'):\n",
    "        short_loc_descript[loc_name]='EST' # estimating station\n",
    "    elif loc_name.startswith('ADM'):\n",
    "        short_loc_descript[loc_name]='ADM' # estimating station\n",
    "    elif loc_name.startswith('WARE'):\n",
    "        short_loc_descript[loc_name]='WARE' # estimating station\n",
    "    elif loc_name.startswith('VAC'):\n",
    "        short_loc_descript[loc_name]='VAC' # estimating station\n",
    "    elif loc_name.startswith('MULT-USE'):\n",
    "        short_loc_descript[loc_name]='MF' # estimating station\n",
    "    elif loc_name.startswith('MULT-REG'):\n",
    "        short_loc_descript[loc_name]='MRSF' # estimating station\n",
    "    else: \n",
    "        short_loc_descript[loc_name]='UNK'\n",
    "\n",
    "print len(short_loc_descript.keys()), len(set(short_loc_descript.values()))"
   ]
  },
  {
   "cell_type": "code",
   "execution_count": 12,
   "metadata": {
    "collapsed": true
   },
   "outputs": [],
   "source": [
    "empl1['loc_desc']=empl1['LOC_TYPE_DESCR_SFI'].apply(lambda x: short_loc_descript[x])\n"
   ]
  },
  {
   "cell_type": "code",
   "execution_count": 13,
   "metadata": {
    "collapsed": false
   },
   "outputs": [
    {
     "name": "stdout",
     "output_type": "stream",
     "text": [
      "36\n"
     ]
    }
   ],
   "source": [
    "### Define the categorical columns\n",
    "cat_cols = br.get_categorical(empl1)\n",
    "print len(cat_cols)\n",
    "cat_cols.remove('LOC_TYPE_DESCR_SFI')"
   ]
  },
  {
   "cell_type": "code",
   "execution_count": 27,
   "metadata": {
    "collapsed": false
   },
   "outputs": [],
   "source": [
    "cols_to_drop = ['Age_tdelta','Tenure_tdelta','BIRTHDATE','HIRE_DT','LAST_HIRE_DT','SERVICE_DT','TERMINATION_DT','KEY']"
   ]
  },
  {
   "cell_type": "code",
   "execution_count": 28,
   "metadata": {
    "collapsed": true
   },
   "outputs": [],
   "source": [
    "for col in cols_to_drop:\n",
    "    cat_cols.remove(col)"
   ]
  },
  {
   "cell_type": "code",
   "execution_count": 29,
   "metadata": {
    "collapsed": false
   },
   "outputs": [
    {
     "name": "stdout",
     "output_type": "stream",
     "text": [
      "27 3 8 16\n"
     ]
    }
   ],
   "source": [
    "sdf_cat = br.summarize_dataframe(empl1[cat_cols])\n",
    "max_arity = 33\n",
    "binary_cat_cols = sdf_cat[sdf_cat.arity==2].feature.tolist()\n",
    "cat_cols_to_dummy = sdf_cat[(sdf_cat.arity < max_arity) & (sdf_cat.arity > 2)].sort_values(by='arity').feature.tolist()\n",
    "cat_cols_to_label_encode = sdf_cat[sdf_cat.arity >= max_arity].feature.tolist()\n",
    "print len(sdf_cat), len(cat_cols_to_label_encode),len(cat_cols_to_dummy), len(binary_cat_cols)\n",
    "\n"
   ]
  },
  {
   "cell_type": "code",
   "execution_count": 30,
   "metadata": {
    "collapsed": false
   },
   "outputs": [
    {
     "data": {
      "text/plain": [
       "['COMP_FREQUENCY',\n",
       " 'FULLPART1',\n",
       " 'FULLPART10',\n",
       " 'FULLPART3',\n",
       " 'FULLPART5',\n",
       " 'HUBIND',\n",
       " 'INTERN',\n",
       " 'PARTFULL1',\n",
       " 'PARTFULL10',\n",
       " 'PARTFULL3',\n",
       " 'PARTFULL5',\n",
       " 'RELOCATE_ALL_SFI',\n",
       " 'REMOTE',\n",
       " 'REMOTE_SUPV',\n",
       " 'SEX',\n",
       " 'SUPV_DIFF_LOC']"
      ]
     },
     "execution_count": 30,
     "metadata": {},
     "output_type": "execute_result"
    }
   ],
   "source": [
    "binary_cat_cols\n"
   ]
  },
  {
   "cell_type": "code",
   "execution_count": 31,
   "metadata": {
    "collapsed": false
   },
   "outputs": [
    {
     "data": {
      "text/plain": [
       "['FLSA_STATUS',\n",
       " 'EMPL_TYPE',\n",
       " 'FULL_PART_TIME',\n",
       " 'SHIFT',\n",
       " 'EMPL_CLASS',\n",
       " 'EEO1CODE',\n",
       " 'JOB_FUNCTION',\n",
       " 'loc_desc']"
      ]
     },
     "execution_count": 31,
     "metadata": {},
     "output_type": "execute_result"
    }
   ],
   "source": [
    "cat_cols_to_dummy"
   ]
  },
  {
   "cell_type": "code",
   "execution_count": 32,
   "metadata": {
    "collapsed": false
   },
   "outputs": [
    {
     "data": {
      "text/plain": [
       "['GRADE', 'JOB_FAMILY', 'LOC_STATE']"
      ]
     },
     "execution_count": 32,
     "metadata": {},
     "output_type": "execute_result"
    }
   ],
   "source": [
    "cat_cols_to_label_encode"
   ]
  },
  {
   "cell_type": "code",
   "execution_count": 33,
   "metadata": {
    "collapsed": true
   },
   "outputs": [],
   "source": [
    "binary_cat_cols.remove('FULLPART10')\n",
    "binary_cat_cols.remove('FULLPART3')\n",
    "binary_cat_cols.remove('FULLPART5')\n",
    "binary_cat_cols.remove('PARTFULL10')\n",
    "binary_cat_cols.remove('PARTFULL5')\n",
    "binary_cat_cols.remove('PARTFULL3')\n"
   ]
  },
  {
   "cell_type": "code",
   "execution_count": 34,
   "metadata": {
    "collapsed": false
   },
   "outputs": [
    {
     "data": {
      "text/html": [
       "<div>\n",
       "<table border=\"1\" class=\"dataframe\">\n",
       "  <thead>\n",
       "    <tr style=\"text-align: right;\">\n",
       "      <th></th>\n",
       "      <th>feature</th>\n",
       "      <th>datatype</th>\n",
       "      <th>nmissing</th>\n",
       "      <th>arity</th>\n",
       "      <th>accepted values</th>\n",
       "      <th>x_missing</th>\n",
       "    </tr>\n",
       "  </thead>\n",
       "  <tbody>\n",
       "    <tr>\n",
       "      <th>10</th>\n",
       "      <td>GRADE</td>\n",
       "      <td>int64</td>\n",
       "      <td>0</td>\n",
       "      <td>123</td>\n",
       "      <td>Too many to show</td>\n",
       "      <td>0</td>\n",
       "    </tr>\n",
       "    <tr>\n",
       "      <th>13</th>\n",
       "      <td>JOB_FAMILY</td>\n",
       "      <td>int64</td>\n",
       "      <td>0</td>\n",
       "      <td>1448</td>\n",
       "      <td>Too many to show</td>\n",
       "      <td>0</td>\n",
       "    </tr>\n",
       "    <tr>\n",
       "      <th>15</th>\n",
       "      <td>LOC_STATE</td>\n",
       "      <td>int64</td>\n",
       "      <td>0</td>\n",
       "      <td>52</td>\n",
       "      <td>Too many to show</td>\n",
       "      <td>0</td>\n",
       "    </tr>\n",
       "  </tbody>\n",
       "</table>\n",
       "</div>"
      ],
      "text/plain": [
       "       feature datatype  nmissing  arity   accepted values  x_missing\n",
       "10       GRADE    int64         0    123  Too many to show          0\n",
       "13  JOB_FAMILY    int64         0   1448  Too many to show          0\n",
       "15   LOC_STATE    int64         0     52  Too many to show          0"
      ]
     },
     "execution_count": 34,
     "metadata": {},
     "output_type": "execute_result"
    }
   ],
   "source": [
    "sdf_cat[sdf_cat.arity>=max_arity]"
   ]
  },
  {
   "cell_type": "code",
   "execution_count": 35,
   "metadata": {
    "collapsed": false
   },
   "outputs": [],
   "source": [
    "missing_cols = br.get_columns_with_nulls(empl1)"
   ]
  },
  {
   "cell_type": "code",
   "execution_count": 36,
   "metadata": {
    "collapsed": true
   },
   "outputs": [],
   "source": [
    "all_cols = empl1.columns.tolist()"
   ]
  },
  {
   "cell_type": "code",
   "execution_count": 37,
   "metadata": {
    "collapsed": false
   },
   "outputs": [
    {
     "data": {
      "text/plain": [
       "['MERIT1', 'PERF1']"
      ]
     },
     "execution_count": 37,
     "metadata": {},
     "output_type": "execute_result"
    }
   ],
   "source": [
    "missing_cols"
   ]
  },
  {
   "cell_type": "code",
   "execution_count": 38,
   "metadata": {
    "collapsed": false
   },
   "outputs": [
    {
     "name": "stdout",
     "output_type": "stream",
     "text": [
      "10\n",
      "COMP_FREQUENCY 2 ['A' 'H']\n",
      "FULLPART1 2 ['N' 'Y']\n",
      "HUBIND 2 ['N' 'Y']\n",
      "INTERN 2 ['N' 'Y']\n",
      "PARTFULL1 2 ['N' 'Y']\n",
      "RELOCATE_ALL_SFI 2 ['N' 'Y']\n",
      "REMOTE 2 ['N' 'Y']\n",
      "REMOTE_SUPV 2 ['N' 'Y']\n",
      "SEX 2 ['F' 'M']\n",
      "SUPV_DIFF_LOC 2 ['Y' 'N']\n"
     ]
    }
   ],
   "source": [
    "from sklearn.preprocessing import LabelEncoder\n",
    "#binary_cols = #sdf_cat[sdf_cat.arity == 2].feature.values.tolist()\n",
    "#binary_cat_cols = cat_cols_to_label_encode[:-3]\n",
    "print len(binary_cat_cols)\n",
    "label_encoder = LabelEncoder()\n",
    "for col in binary_cat_cols:\n",
    "    print col, len(empl1[col].unique()), empl1[col].unique()\n",
    "    empl1[col] = label_encoder.fit_transform(empl1[col]) # use sklearn.preprocesing.LabelEncoder()\n",
    "    "
   ]
  },
  {
   "cell_type": "code",
   "execution_count": null,
   "metadata": {
    "collapsed": false
   },
   "outputs": [],
   "source": []
  },
  {
   "cell_type": "code",
   "execution_count": 39,
   "metadata": {
    "collapsed": false
   },
   "outputs": [
    {
     "name": "stdout",
     "output_type": "stream",
     "text": [
      "['ADDRCNT10', 'DEPTCNT10', 'EFUNCCNT10', 'FLOORCNT10', 'FTPTCNT10', 'FULLPART10', 'FUNCCNT10', 'GRADECNT10', 'JOBCNT10', 'LOCCNT10', 'LOCSTCNT10', 'PARTFULL10', 'PTFTCNT10', 'SUPVCNT10']\n",
      "['CUR_DEPT_MOS', 'CUR_EFUNC_MOS', 'CUR_FUNC_MOS', 'CUR_GRADE_MOS', 'CUR_JOB_MOS', 'CUR_LOC_MOS', 'TELE_MOS']\n"
     ]
    },
    {
     "data": {
      "text/plain": [
       "(14, 14, 14, 7)"
      ]
     },
     "execution_count": 39,
     "metadata": {},
     "output_type": "execute_result"
    }
   ],
   "source": [
    "historical_cols10 = [col for col in all_cols if col.endswith('10')]\n",
    "mos_cols = [col for col in all_cols if col.endswith('MOS')]\n",
    "print historical_cols10\n",
    "\n",
    "print mos_cols\n",
    "historical_cols5 = [col for col in all_cols if col.endswith('5')]#[:-3]\n",
    "historical_cols3 =[col for col in all_cols if col.endswith('3')]#[:-4]\n",
    "\n",
    "len(historical_cols3), len(historical_cols5),len(historical_cols10), len(mos_cols)"
   ]
  },
  {
   "cell_type": "code",
   "execution_count": 40,
   "metadata": {
    "collapsed": false
   },
   "outputs": [
    {
     "name": "stdout",
     "output_type": "stream",
     "text": [
      "42\n"
     ]
    }
   ],
   "source": [
    "historical_cols = []\n",
    "historical_cols+=historical_cols3\n",
    "historical_cols+=historical_cols5\n",
    "historical_cols+=historical_cols10\n",
    "print len(historical_cols)"
   ]
  },
  {
   "cell_type": "code",
   "execution_count": 41,
   "metadata": {
    "collapsed": false
   },
   "outputs": [
    {
     "data": {
      "text/plain": [
       "69"
      ]
     },
     "execution_count": 41,
     "metadata": {},
     "output_type": "execute_result"
    }
   ],
   "source": [
    "modeling_cols = [col for col in all_cols if col not in historical_cols]\n",
    "for col in cols_to_drop:\n",
    "    modeling_cols.remove(col)\n",
    "\n",
    "for col in all_cols:\n",
    "    if col.endswith('tstmp'):\n",
    "        modeling_cols.remove(col)\n",
    "        \n",
    "modeling_cols.remove('hire_age')\n",
    "modeling_cols.remove('status')\n",
    "modeling_cols.remove('sep_status')\n",
    "modeling_cols.remove('retired')\n",
    "modeling_cols.remove('ANNUAL_RT') # use SAL1 instead\n",
    "\n",
    "len(modeling_cols)"
   ]
  },
  {
   "cell_type": "markdown",
   "metadata": {},
   "source": [
    "## Restrict to non-retired\n",
    "## create a train/test split"
   ]
  },
  {
   "cell_type": "code",
   "execution_count": 42,
   "metadata": {
    "collapsed": false
   },
   "outputs": [
    {
     "data": {
      "text/plain": [
       "(119326, 127)"
      ]
     },
     "execution_count": 42,
     "metadata": {},
     "output_type": "execute_result"
    }
   ],
   "source": [
    "nr_em = empl1[empl1.retired==0].copy()\n",
    "nr_em.shape"
   ]
  },
  {
   "cell_type": "code",
   "execution_count": 43,
   "metadata": {
    "collapsed": false
   },
   "outputs": [
    {
     "name": "stdout",
     "output_type": "stream",
     "text": [
      "Starting with subset of 119326 employees.\n",
      "Evaluation set has 23866 employees; training set has 95460 employees.\n"
     ]
    }
   ],
   "source": [
    "## break this into a test/train \n",
    "# break into evaluation and build sets\n",
    "print \"Starting with subset of {0} employees.\".format(len(nr_em))\n",
    "eval_fraction = 0.20\n",
    "ne2build, ne2eval = cross_validation.train_test_split(nr_em,test_size=eval_fraction,random_state = 60333)\n",
    "print \"Evaluation set has {0} employees; training set has {1} employees.\".format(len(ne2eval),len(ne2build))"
   ]
  },
  {
   "cell_type": "code",
   "execution_count": 47,
   "metadata": {
    "collapsed": true
   },
   "outputs": [],
   "source": [
    "#from sklearn import preprocessing\n",
    "pipe = Pipeline([(\"null\", br.RemoveAllNull()),  \n",
    "                 (\"label_encode\",br.LabelEncodeColumn(cat_cols_to_label_encode)),\n",
    "                 (\"dummy_encode\", br.DummyEncodeColumn(cat_cols_to_dummy)),\n",
    "                 #(\"survival_encode\",SurvivalEncodeColumn(my_label_encode_cols[:5],method='median')),\n",
    "                 #(\"cat\", br.ConvertCategorical(cate_list, rows_to_scan=0.3)),\n",
    "                 (\"fixout_min\",br.FixNumericOutlier(columns_to_fix=['SAL1','MIN_RT_ANNUAL','MERIT1','PERF1'],\n",
    "                                                    criteria_coef=('percentile',2),\n",
    "                                                   method='lower',fill_with='nearest_value')),\n",
    "                  (\"fixout_max\",br.FixNumericOutlier(columns_to_fix=['MAX_RT_ANNUAL'],criteria_coef=('percentile',2),\n",
    "                                                   method='both',fill_with='nearest_value')),\n",
    "                 #(\"fill_missingzero\",FillMissingValue(columns_to_fix=['BOX1','FUNC_CNT','EXTFUNC_CNT','TOTAL_RPT_CNT','DIRECT_RPT_CNT'],fill_value=0)),\n",
    "                 (\"imp_mode\",br.ImputeData(columns_to_impute=missing_cols,rows_to_scan=0.8))])\n",
    "                 "
   ]
  },
  {
   "cell_type": "code",
   "execution_count": 48,
   "metadata": {
    "collapsed": true
   },
   "outputs": [],
   "source": [
    "p_pipe = Pipeline([\n",
    "                  (\"label_encode\",br.LabelEncodeColumn(cat_cols_to_label_encode))])"
   ]
  },
  {
   "cell_type": "code",
   "execution_count": 52,
   "metadata": {
    "collapsed": false
   },
   "outputs": [],
   "source": [
    "#%pdb \n",
    "ne2b = pipe.fit_transform(ne2build[modeling_cols],ne2build.terminated)\n",
    "ne2e = pipe.fit(ne2build[modeling_cols],ne2build.terminated).transform(ne2eval[modeling_cols])"
   ]
  },
  {
   "cell_type": "code",
   "execution_count": 53,
   "metadata": {
    "collapsed": false
   },
   "outputs": [
    {
     "data": {
      "text/plain": [
       "((95460, 123), (23866, 123))"
      ]
     },
     "execution_count": 53,
     "metadata": {},
     "output_type": "execute_result"
    }
   ],
   "source": [
    "ne2b.shape, ne2e.shape"
   ]
  },
  {
   "cell_type": "code",
   "execution_count": 54,
   "metadata": {
    "collapsed": false
   },
   "outputs": [
    {
     "name": "stdout",
     "output_type": "stream",
     "text": [
      "123\n"
     ]
    }
   ],
   "source": [
    "transformed_cols2 = ne2b.columns.tolist()\n",
    "print len(transformed_cols2)"
   ]
  },
  {
   "cell_type": "code",
   "execution_count": 58,
   "metadata": {
    "collapsed": false
   },
   "outputs": [
    {
     "name": "stdout",
     "output_type": "stream",
     "text": [
      "16\n"
     ]
    }
   ],
   "source": [
    "sep_features= s_cf4.data.columns.tolist()\n",
    "print len(sep_features)"
   ]
  },
  {
   "cell_type": "code",
   "execution_count": 59,
   "metadata": {
    "collapsed": false
   },
   "outputs": [
    {
     "name": "stdout",
     "output_type": "stream",
     "text": [
      "n=76368, number of events=31927\n",
      "\n",
      "                       coef  exp(coef)  se(coef)          z          p  lower 0.95  upper 0.95     \n",
      "Age_years        -9.386e-01  3.912e-01 1.023e-02 -9.175e+01  0.000e+00  -9.587e-01  -9.185e-01  ***\n",
      "SAL1             -1.115e+00  3.278e-01 1.479e-02 -7.539e+01  0.000e+00  -1.144e+00  -1.086e+00  ***\n",
      "MERIT1            2.742e-01  1.315e+00 6.343e-03  4.323e+01  0.000e+00   2.618e-01   2.866e-01  ***\n",
      "PERF1            -1.016e-01  9.034e-01 1.240e-02 -8.195e+00  2.514e-16  -1.259e-01  -7.730e-02  ***\n",
      "BOX1             -4.839e-01  6.164e-01 6.824e-03 -7.090e+01  0.000e+00  -4.972e-01  -4.705e-01  ***\n",
      "SEX               1.643e-01  1.179e+00 6.098e-03  2.695e+01 5.826e-160   1.524e-01   1.763e-01  ***\n",
      "HAVE_INS         -3.066e-01  7.359e-01 9.072e-03 -3.380e+01 1.975e-250  -3.244e-01  -2.888e-01  ***\n",
      "HAVE_DEP         -2.326e-01  7.925e-01 1.147e-02 -2.027e+01  2.258e-91  -2.550e-01  -2.101e-01  ***\n",
      "DEPTCNT1         -3.471e-01  7.068e-01 9.569e-03 -3.627e+01 4.495e-288  -3.658e-01  -3.283e-01  ***\n",
      "EXTFUNC_CNT       9.591e-02  1.101e+00 5.597e-03  1.713e+01  8.204e-66   8.494e-02   1.069e-01  ***\n",
      "FUNC_CNT         -1.504e-01  8.603e-01 8.158e-03 -1.844e+01  6.098e-76  -1.664e-01  -1.344e-01  ***\n",
      "REMOTE           -1.546e-01  8.567e-01 1.116e-02 -1.386e+01  1.179e-43  -1.765e-01  -1.328e-01  ***\n",
      "DIRECT_RPT_CNT    1.569e-01  1.170e+00 3.968e-03  3.955e+01  0.000e+00   1.491e-01   1.647e-01  ***\n",
      "HUBIND           -8.338e-02  9.200e-01 6.762e-03 -1.233e+01  6.280e-35  -9.663e-02  -7.012e-02  ***\n",
      "REH_CNT          -2.330e-01  7.921e-01 6.523e-03 -3.572e+01 1.758e-279  -2.458e-01  -2.202e-01  ***\n",
      "JOB_FUNCTION_PSA -7.550e-02  9.273e-01 6.798e-03 -1.111e+01  1.179e-28  -8.883e-02  -6.217e-02  ***\n",
      "---\n",
      "Signif. codes:  0 '***' 0.001 '**' 0.01 '*' 0.05 '.' 0.1 ' ' 1 \n",
      "\n",
      "Concordance = 0.887\n"
     ]
    }
   ],
   "source": [
    "s_cf4.print_summary()"
   ]
  },
  {
   "cell_type": "markdown",
   "metadata": {},
   "source": [
    "## now apply this model to the evaluation set\n",
    "1. calculate concordance for hold-out set"
   ]
  },
  {
   "cell_type": "code",
   "execution_count": 60,
   "metadata": {
    "collapsed": true
   },
   "outputs": [],
   "source": [
    "from lifelines.utils import concordance_index\n",
    "def return_concordance(df,model,time_col,event_col):\n",
    "    c_index = concordance_index(df[time_col].values,\n",
    "                               model.predict_expectation(df).values.ravel(),\n",
    "                               df[event_col].values.astype(int))\n",
    "    return c_index"
   ]
  },
  {
   "cell_type": "code",
   "execution_count": 62,
   "metadata": {
    "collapsed": true
   },
   "outputs": [],
   "source": [
    "sep_cols = [col for col in sep_features]\n",
    "sep_cols.append('Tenure_years')\n",
    "sep_cols.append('terminated')"
   ]
  },
  {
   "cell_type": "code",
   "execution_count": 63,
   "metadata": {
    "collapsed": false
   },
   "outputs": [
    {
     "data": {
      "text/plain": [
       "0.88715965871132707"
      ]
     },
     "execution_count": 63,
     "metadata": {},
     "output_type": "execute_result"
    }
   ],
   "source": [
    "return_concordance(ne2e[sep_cols],s_cf4,'Tenure_years','terminated')"
   ]
  },
  {
   "cell_type": "code",
   "execution_count": 64,
   "metadata": {
    "collapsed": true
   },
   "outputs": [],
   "source": [
    "## do this for a small set 1st\n",
    "take20 = ne2e.head(20).copy()"
   ]
  },
  {
   "cell_type": "code",
   "execution_count": 65,
   "metadata": {
    "collapsed": false
   },
   "outputs": [
    {
     "data": {
      "text/plain": [
       "0.93518518518518523"
      ]
     },
     "execution_count": 65,
     "metadata": {},
     "output_type": "execute_result"
    }
   ],
   "source": [
    "return_concordance(take20[sep_cols],s_cf4,'Tenure_years','terminated')"
   ]
  },
  {
   "cell_type": "markdown",
   "metadata": {},
   "source": [
    "## Forecast forward in 1 year intervals\n",
    "1. identify time points for each row\n",
    "2. predict SF and CI for these"
   ]
  },
  {
   "cell_type": "code",
   "execution_count": 266,
   "metadata": {
    "collapsed": true
   },
   "outputs": [],
   "source": [
    "def identify_time_points(mdl, df, yr_range=[0,1,2,3,4,5],base_time_col = 'Tenure_years'):\n",
    "    column_names = ['time_point_'+np.str(year) for year in yr_range]\n",
    "    \n",
    "    my_index = df.index.tolist()\n",
    "    relevant_time_points = pd.DataFrame(columns=column_names, index=my_index)\n",
    "    for idx in my_index:\n",
    "        my_times = np.array([df.loc[idx,base_time_col]+year for year in yr_range])\n",
    "        #print idx, my_times\n",
    "        #relevant_time_points.append(pd.DataFrame(data = my_times.T, columns=column_names))\n",
    "        relevant_time_points.ix[idx] = my_times\n",
    "        # now for each of these\n",
    "    return relevant_time_points"
   ]
  },
  {
   "cell_type": "code",
   "execution_count": 91,
   "metadata": {
    "collapsed": false
   },
   "outputs": [
    {
     "name": "stdout",
     "output_type": "stream",
     "text": [
      "25915 [ 0.6625735  1.6625735  2.6625735  3.6625735  4.6625735  5.6625735]\n",
      "129486 [ 2.57637049  3.57637049  4.57637049  5.57637049  6.57637049  7.57637049]\n",
      "14289 [ 11.55122966  12.55122966  13.55122966  14.55122966  15.55122966\n",
      "  16.55122966]\n",
      "29041 [ 17.12287042  18.12287042  19.12287042  20.12287042  21.12287042\n",
      "  22.12287042]\n",
      "48029 [ 25.555624  26.555624  27.555624  28.555624  29.555624  30.555624]\n",
      "59412 [ 24.30987632  25.30987632  26.30987632  27.30987632  28.30987632\n",
      "  29.30987632]\n",
      "65674 [ 3.54558957  4.54558957  5.54558957  6.54558957  7.54558957  8.54558957]\n",
      "65872 [ 12.68198526  13.68198526  14.68198526  15.68198526  16.68198526\n",
      "  17.68198526]\n",
      "70843 [ 13.28980061  14.28980061  15.28980061  16.28980061  17.28980061\n",
      "  18.28980061]\n",
      "46577 [ 15.6279732  16.6279732  17.6279732  18.6279732  19.6279732  20.6279732]\n",
      "86579 [ 11.70181455  12.70181455  13.70181455  14.70181455  15.70181455\n",
      "  16.70181455]\n",
      "93871 [ 21.4898321  22.4898321  23.4898321  24.4898321  25.4898321  26.4898321]\n",
      "33172 [ 15.85248157  16.85248157  17.85248157  18.85248157  19.85248157\n",
      "  20.85248157]\n",
      "16453 [ 2.55994305  3.55994305  4.55994305  5.55994305  6.55994305  7.55994305]\n",
      "61976 [ 37.55313251  38.55313251  39.55313251  40.55313251  41.55313251\n",
      "  42.55313251]\n",
      "15198 [ 11.50742315  12.50742315  13.50742315  14.50742315  15.50742315\n",
      "  16.50742315]\n",
      "86363 [ 0.25188744  1.25188744  2.25188744  3.25188744  4.25188744  5.25188744]\n",
      "2107 [ 1.34431234  2.34431234  3.34431234  4.34431234  5.34431234  6.34431234]\n",
      "74693 [ 0.88434396  1.88434396  2.88434396  3.88434396  4.88434396  5.88434396]\n",
      "85838 [ 21.5281628  22.5281628  23.5281628  24.5281628  25.5281628  26.5281628]\n"
     ]
    }
   ],
   "source": [
    "#get_relevant_baseline_sf(s_cf4, take20[sep_cols])\n",
    "rtp_df = identify_time_points(s_cf4, take20[sep_cols])"
   ]
  },
  {
   "cell_type": "code",
   "execution_count": 92,
   "metadata": {
    "collapsed": false
   },
   "outputs": [
    {
     "data": {
      "text/html": [
       "<div>\n",
       "<table border=\"1\" class=\"dataframe\">\n",
       "  <thead>\n",
       "    <tr style=\"text-align: right;\">\n",
       "      <th></th>\n",
       "      <th>time_point_0</th>\n",
       "      <th>time_point_1</th>\n",
       "      <th>time_point_2</th>\n",
       "      <th>time_point_3</th>\n",
       "      <th>time_point_4</th>\n",
       "      <th>time_point_5</th>\n",
       "    </tr>\n",
       "  </thead>\n",
       "  <tbody>\n",
       "    <tr>\n",
       "      <th>25915</th>\n",
       "      <td>0.662573</td>\n",
       "      <td>1.66257</td>\n",
       "      <td>2.66257</td>\n",
       "      <td>3.66257</td>\n",
       "      <td>4.66257</td>\n",
       "      <td>5.66257</td>\n",
       "    </tr>\n",
       "    <tr>\n",
       "      <th>129486</th>\n",
       "      <td>2.57637</td>\n",
       "      <td>3.57637</td>\n",
       "      <td>4.57637</td>\n",
       "      <td>5.57637</td>\n",
       "      <td>6.57637</td>\n",
       "      <td>7.57637</td>\n",
       "    </tr>\n",
       "    <tr>\n",
       "      <th>14289</th>\n",
       "      <td>11.5512</td>\n",
       "      <td>12.5512</td>\n",
       "      <td>13.5512</td>\n",
       "      <td>14.5512</td>\n",
       "      <td>15.5512</td>\n",
       "      <td>16.5512</td>\n",
       "    </tr>\n",
       "    <tr>\n",
       "      <th>29041</th>\n",
       "      <td>17.1229</td>\n",
       "      <td>18.1229</td>\n",
       "      <td>19.1229</td>\n",
       "      <td>20.1229</td>\n",
       "      <td>21.1229</td>\n",
       "      <td>22.1229</td>\n",
       "    </tr>\n",
       "    <tr>\n",
       "      <th>48029</th>\n",
       "      <td>25.5556</td>\n",
       "      <td>26.5556</td>\n",
       "      <td>27.5556</td>\n",
       "      <td>28.5556</td>\n",
       "      <td>29.5556</td>\n",
       "      <td>30.5556</td>\n",
       "    </tr>\n",
       "  </tbody>\n",
       "</table>\n",
       "</div>"
      ],
      "text/plain": [
       "       time_point_0 time_point_1 time_point_2 time_point_3 time_point_4  \\\n",
       "25915      0.662573      1.66257      2.66257      3.66257      4.66257   \n",
       "129486      2.57637      3.57637      4.57637      5.57637      6.57637   \n",
       "14289       11.5512      12.5512      13.5512      14.5512      15.5512   \n",
       "29041       17.1229      18.1229      19.1229      20.1229      21.1229   \n",
       "48029       25.5556      26.5556      27.5556      28.5556      29.5556   \n",
       "\n",
       "       time_point_5  \n",
       "25915       5.66257  \n",
       "129486      7.57637  \n",
       "14289       16.5512  \n",
       "29041       22.1229  \n",
       "48029       30.5556  "
      ]
     },
     "execution_count": 92,
     "metadata": {},
     "output_type": "execute_result"
    }
   ],
   "source": [
    "rtp_df.head()"
   ]
  },
  {
   "cell_type": "markdown",
   "metadata": {},
   "source": [
    "## compare against predict_survival_function"
   ]
  },
  {
   "cell_type": "code",
   "execution_count": 93,
   "metadata": {
    "collapsed": false
   },
   "outputs": [
    {
     "data": {
      "text/plain": [
       "(9867, 20)"
      ]
     },
     "execution_count": 93,
     "metadata": {},
     "output_type": "execute_result"
    }
   ],
   "source": [
    "pred_sf = s_cf4.predict_survival_function(take20[sep_cols])\n",
    "pred_sf.shape"
   ]
  },
  {
   "cell_type": "code",
   "execution_count": 94,
   "metadata": {
    "collapsed": false
   },
   "outputs": [
    {
     "data": {
      "text/plain": [
       "<matplotlib.axes._subplots.AxesSubplot at 0x13de8e48>"
      ]
     },
     "execution_count": 94,
     "metadata": {},
     "output_type": "execute_result"
    },
    {
     "data": {
      "image/png": "[encoded data removed]",
      "text/plain": [
       "<matplotlib.figure.Figure at 0x19b81898>"
      ]
     },
     "metadata": {},
     "output_type": "display_data"
    }
   ],
   "source": []
  },
  {
   "cell_type": "code",
   "execution_count": 95,
   "metadata": {
    "collapsed": false
   },
   "outputs": [
    {
     "data": {
      "text/plain": [
       "(9867, 20)"
      ]
     },
     "execution_count": 95,
     "metadata": {},
     "output_type": "execute_result"
    }
   ],
   "source": [
    "pred_cumhaz = s_cf4.predict_cumulative_hazard(take20[sep_cols])\n",
    "pred_cumhaz.shape"
   ]
  },
  {
   "cell_type": "code",
   "execution_count": 96,
   "metadata": {
    "collapsed": false
   },
   "outputs": [
    {
     "data": {
      "text/plain": [
       "<matplotlib.axes._subplots.AxesSubplot at 0x19b76208>"
      ]
     },
     "execution_count": 96,
     "metadata": {},
     "output_type": "execute_result"
    },
    {
     "data": {
      "image/png": "[encoded data removed]",
      "text/plain": [
       "<matplotlib.figure.Figure at 0x11ed2d68>"
      ]
     },
     "metadata": {},
     "output_type": "display_data"
    }
   ],
   "source": [
    "pred_cumhaz[25915].plot()"
   ]
  },
  {
   "cell_type": "code",
   "execution_count": 98,
   "metadata": {
    "collapsed": false
   },
   "outputs": [
    {
     "data": {
      "text/plain": [
       "[<matplotlib.lines.Line2D at 0x13f602e8>]"
      ]
     },
     "execution_count": 98,
     "metadata": {},
     "output_type": "execute_result"
    },
    {
     "data": {
      "image/png": "[encoded data removed]",
      "text/plain": [
       "<matplotlib.figure.Figure at 0x13f606a0>"
      ]
     },
     "metadata": {},
     "output_type": "display_data"
    }
   ],
   "source": [
    "s_0 = s_cf4.baseline_survival_\n",
    "h_0 = s_cf4.baseline_hazard_\n",
    "plt.plot(s_0)\n",
    "plt.plot(h_0)"
   ]
  },
  {
   "cell_type": "code",
   "execution_count": 99,
   "metadata": {
    "collapsed": false
   },
   "outputs": [
    {
     "data": {
      "text/plain": [
       "[<matplotlib.lines.Line2D at 0x19172b00>]"
      ]
     },
     "execution_count": 99,
     "metadata": {},
     "output_type": "execute_result"
    },
    {
     "data": {
      "image/png": "[encoded data removed]",
      "text/plain": [
       "<matplotlib.figure.Figure at 0x1812f208>"
      ]
     },
     "metadata": {},
     "output_type": "display_data"
    }
   ],
   "source": [
    "plt.plot(s_cf4.baseline_cumulative_hazard_)"
   ]
  },
  {
   "cell_type": "code",
   "execution_count": 100,
   "metadata": {
    "collapsed": false
   },
   "outputs": [
    {
     "data": {
      "text/html": [
       "<div>\n",
       "<table border=\"1\" class=\"dataframe\">\n",
       "  <thead>\n",
       "    <tr style=\"text-align: right;\">\n",
       "      <th></th>\n",
       "      <th>baseline hazard</th>\n",
       "    </tr>\n",
       "    <tr>\n",
       "      <th>event_at</th>\n",
       "      <th></th>\n",
       "    </tr>\n",
       "  </thead>\n",
       "  <tbody>\n",
       "    <tr>\n",
       "      <th>0.000000</th>\n",
       "      <td>0.000048</td>\n",
       "    </tr>\n",
       "    <tr>\n",
       "      <th>0.002738</th>\n",
       "      <td>0.000085</td>\n",
       "    </tr>\n",
       "    <tr>\n",
       "      <th>0.005476</th>\n",
       "      <td>0.000128</td>\n",
       "    </tr>\n",
       "    <tr>\n",
       "      <th>0.008214</th>\n",
       "      <td>0.000174</td>\n",
       "    </tr>\n",
       "    <tr>\n",
       "      <th>0.010952</th>\n",
       "      <td>0.000212</td>\n",
       "    </tr>\n",
       "  </tbody>\n",
       "</table>\n",
       "</div>"
      ],
      "text/plain": [
       "          baseline hazard\n",
       "event_at                 \n",
       "0.000000         0.000048\n",
       "0.002738         0.000085\n",
       "0.005476         0.000128\n",
       "0.008214         0.000174\n",
       "0.010952         0.000212"
      ]
     },
     "execution_count": 100,
     "metadata": {},
     "output_type": "execute_result"
    }
   ],
   "source": [
    "s_cf4.baseline_cumulative_hazard_.head()"
   ]
  },
  {
   "cell_type": "code",
   "execution_count": 101,
   "metadata": {
    "collapsed": false
   },
   "outputs": [
    {
     "data": {
      "text/html": [
       "<div>\n",
       "<table border=\"1\" class=\"dataframe\">\n",
       "  <thead>\n",
       "    <tr style=\"text-align: right;\">\n",
       "      <th></th>\n",
       "      <th>Age_years</th>\n",
       "      <th>SAL1</th>\n",
       "      <th>MERIT1</th>\n",
       "      <th>PERF1</th>\n",
       "      <th>BOX1</th>\n",
       "      <th>SEX</th>\n",
       "      <th>HAVE_INS</th>\n",
       "      <th>HAVE_DEP</th>\n",
       "      <th>DEPTCNT1</th>\n",
       "      <th>EXTFUNC_CNT</th>\n",
       "      <th>FUNC_CNT</th>\n",
       "      <th>REMOTE</th>\n",
       "      <th>DIRECT_RPT_CNT</th>\n",
       "      <th>HUBIND</th>\n",
       "      <th>REH_CNT</th>\n",
       "      <th>JOB_FUNCTION_PSA</th>\n",
       "    </tr>\n",
       "  </thead>\n",
       "  <tbody>\n",
       "    <tr>\n",
       "      <th>coef</th>\n",
       "      <td>-0.938603</td>\n",
       "      <td>-1.115258</td>\n",
       "      <td>0.274205</td>\n",
       "      <td>-0.101613</td>\n",
       "      <td>-0.483857</td>\n",
       "      <td>0.164341</td>\n",
       "      <td>-0.306632</td>\n",
       "      <td>-0.232554</td>\n",
       "      <td>-0.347074</td>\n",
       "      <td>0.095909</td>\n",
       "      <td>-0.150437</td>\n",
       "      <td>-0.154638</td>\n",
       "      <td>0.156904</td>\n",
       "      <td>-0.083375</td>\n",
       "      <td>-0.23303</td>\n",
       "      <td>-0.0755</td>\n",
       "    </tr>\n",
       "  </tbody>\n",
       "</table>\n",
       "</div>"
      ],
      "text/plain": [
       "      Age_years      SAL1    MERIT1     PERF1      BOX1       SEX  HAVE_INS  \\\n",
       "coef  -0.938603 -1.115258  0.274205 -0.101613 -0.483857  0.164341 -0.306632   \n",
       "\n",
       "      HAVE_DEP  DEPTCNT1  EXTFUNC_CNT  FUNC_CNT    REMOTE  DIRECT_RPT_CNT  \\\n",
       "coef -0.232554 -0.347074     0.095909 -0.150437 -0.154638        0.156904   \n",
       "\n",
       "        HUBIND  REH_CNT  JOB_FUNCTION_PSA  \n",
       "coef -0.083375 -0.23303           -0.0755  "
      ]
     },
     "execution_count": 101,
     "metadata": {},
     "output_type": "execute_result"
    }
   ],
   "source": [
    "s_cf4.hazards_"
   ]
  },
  {
   "cell_type": "code",
   "execution_count": 102,
   "metadata": {
    "collapsed": false
   },
   "outputs": [
    {
     "data": {
      "text/html": [
       "<div>\n",
       "<table border=\"1\" class=\"dataframe\">\n",
       "  <thead>\n",
       "    <tr style=\"text-align: right;\">\n",
       "      <th></th>\n",
       "      <th>Age_years</th>\n",
       "      <th>SAL1</th>\n",
       "      <th>MERIT1</th>\n",
       "      <th>PERF1</th>\n",
       "      <th>BOX1</th>\n",
       "      <th>SEX</th>\n",
       "      <th>HAVE_INS</th>\n",
       "      <th>HAVE_DEP</th>\n",
       "      <th>DEPTCNT1</th>\n",
       "      <th>EXTFUNC_CNT</th>\n",
       "      <th>FUNC_CNT</th>\n",
       "      <th>REMOTE</th>\n",
       "      <th>DIRECT_RPT_CNT</th>\n",
       "      <th>HUBIND</th>\n",
       "      <th>REH_CNT</th>\n",
       "      <th>JOB_FUNCTION_PSA</th>\n",
       "    </tr>\n",
       "  </thead>\n",
       "  <tbody>\n",
       "    <tr>\n",
       "      <th>lower-bound</th>\n",
       "      <td>-0.958658</td>\n",
       "      <td>-1.144260</td>\n",
       "      <td>0.261769</td>\n",
       "      <td>-0.125921</td>\n",
       "      <td>-0.497236</td>\n",
       "      <td>0.152386</td>\n",
       "      <td>-0.324417</td>\n",
       "      <td>-0.255043</td>\n",
       "      <td>-0.365832</td>\n",
       "      <td>0.084936</td>\n",
       "      <td>-0.166429</td>\n",
       "      <td>-0.176518</td>\n",
       "      <td>0.149126</td>\n",
       "      <td>-0.096632</td>\n",
       "      <td>-0.245819</td>\n",
       "      <td>-0.088828</td>\n",
       "    </tr>\n",
       "    <tr>\n",
       "      <th>upper-bound</th>\n",
       "      <td>-0.918548</td>\n",
       "      <td>-1.086256</td>\n",
       "      <td>0.286641</td>\n",
       "      <td>-0.077304</td>\n",
       "      <td>-0.470479</td>\n",
       "      <td>0.176296</td>\n",
       "      <td>-0.288848</td>\n",
       "      <td>-0.210065</td>\n",
       "      <td>-0.328316</td>\n",
       "      <td>0.106882</td>\n",
       "      <td>-0.134445</td>\n",
       "      <td>-0.132758</td>\n",
       "      <td>0.164682</td>\n",
       "      <td>-0.070119</td>\n",
       "      <td>-0.220242</td>\n",
       "      <td>-0.062172</td>\n",
       "    </tr>\n",
       "  </tbody>\n",
       "</table>\n",
       "</div>"
      ],
      "text/plain": [
       "             Age_years      SAL1    MERIT1     PERF1      BOX1       SEX  \\\n",
       "lower-bound  -0.958658 -1.144260  0.261769 -0.125921 -0.497236  0.152386   \n",
       "upper-bound  -0.918548 -1.086256  0.286641 -0.077304 -0.470479  0.176296   \n",
       "\n",
       "             HAVE_INS  HAVE_DEP  DEPTCNT1  EXTFUNC_CNT  FUNC_CNT    REMOTE  \\\n",
       "lower-bound -0.324417 -0.255043 -0.365832     0.084936 -0.166429 -0.176518   \n",
       "upper-bound -0.288848 -0.210065 -0.328316     0.106882 -0.134445 -0.132758   \n",
       "\n",
       "             DIRECT_RPT_CNT    HUBIND   REH_CNT  JOB_FUNCTION_PSA  \n",
       "lower-bound        0.149126 -0.096632 -0.245819         -0.088828  \n",
       "upper-bound        0.164682 -0.070119 -0.220242         -0.062172  "
      ]
     },
     "execution_count": 102,
     "metadata": {},
     "output_type": "execute_result"
    }
   ],
   "source": [
    "s_cf4.confidence_intervals_"
   ]
  },
  {
   "cell_type": "code",
   "execution_count": 103,
   "metadata": {
    "collapsed": false
   },
   "outputs": [
    {
     "data": {
      "text/html": [
       "<div>\n",
       "<table border=\"1\" class=\"dataframe\">\n",
       "  <thead>\n",
       "    <tr style=\"text-align: right;\">\n",
       "      <th></th>\n",
       "      <th>baseline hazard</th>\n",
       "    </tr>\n",
       "    <tr>\n",
       "      <th>event_at</th>\n",
       "      <th></th>\n",
       "    </tr>\n",
       "  </thead>\n",
       "  <tbody>\n",
       "    <tr>\n",
       "      <th>0.000000</th>\n",
       "      <td>0.000048</td>\n",
       "    </tr>\n",
       "    <tr>\n",
       "      <th>0.002738</th>\n",
       "      <td>0.000037</td>\n",
       "    </tr>\n",
       "    <tr>\n",
       "      <th>0.005476</th>\n",
       "      <td>0.000043</td>\n",
       "    </tr>\n",
       "    <tr>\n",
       "      <th>0.008214</th>\n",
       "      <td>0.000047</td>\n",
       "    </tr>\n",
       "    <tr>\n",
       "      <th>0.010952</th>\n",
       "      <td>0.000037</td>\n",
       "    </tr>\n",
       "  </tbody>\n",
       "</table>\n",
       "</div>"
      ],
      "text/plain": [
       "          baseline hazard\n",
       "event_at                 \n",
       "0.000000         0.000048\n",
       "0.002738         0.000037\n",
       "0.005476         0.000043\n",
       "0.008214         0.000047\n",
       "0.010952         0.000037"
      ]
     },
     "execution_count": 103,
     "metadata": {},
     "output_type": "execute_result"
    }
   ],
   "source": [
    "s_cf4.baseline_hazard_.head()"
   ]
  },
  {
   "cell_type": "code",
   "execution_count": 104,
   "metadata": {
    "collapsed": false
   },
   "outputs": [
    {
     "data": {
      "text/html": [
       "<div>\n",
       "<table border=\"1\" class=\"dataframe\">\n",
       "  <thead>\n",
       "    <tr style=\"text-align: right;\">\n",
       "      <th></th>\n",
       "      <th>time_point_0</th>\n",
       "      <th>time_point_1</th>\n",
       "      <th>time_point_2</th>\n",
       "      <th>time_point_3</th>\n",
       "      <th>time_point_4</th>\n",
       "      <th>time_point_5</th>\n",
       "    </tr>\n",
       "  </thead>\n",
       "  <tbody>\n",
       "    <tr>\n",
       "      <th>25915</th>\n",
       "      <td>0.662573</td>\n",
       "      <td>1.66257</td>\n",
       "      <td>2.66257</td>\n",
       "      <td>3.66257</td>\n",
       "      <td>4.66257</td>\n",
       "      <td>5.66257</td>\n",
       "    </tr>\n",
       "    <tr>\n",
       "      <th>129486</th>\n",
       "      <td>2.57637</td>\n",
       "      <td>3.57637</td>\n",
       "      <td>4.57637</td>\n",
       "      <td>5.57637</td>\n",
       "      <td>6.57637</td>\n",
       "      <td>7.57637</td>\n",
       "    </tr>\n",
       "    <tr>\n",
       "      <th>14289</th>\n",
       "      <td>11.5512</td>\n",
       "      <td>12.5512</td>\n",
       "      <td>13.5512</td>\n",
       "      <td>14.5512</td>\n",
       "      <td>15.5512</td>\n",
       "      <td>16.5512</td>\n",
       "    </tr>\n",
       "    <tr>\n",
       "      <th>29041</th>\n",
       "      <td>17.1229</td>\n",
       "      <td>18.1229</td>\n",
       "      <td>19.1229</td>\n",
       "      <td>20.1229</td>\n",
       "      <td>21.1229</td>\n",
       "      <td>22.1229</td>\n",
       "    </tr>\n",
       "    <tr>\n",
       "      <th>48029</th>\n",
       "      <td>25.5556</td>\n",
       "      <td>26.5556</td>\n",
       "      <td>27.5556</td>\n",
       "      <td>28.5556</td>\n",
       "      <td>29.5556</td>\n",
       "      <td>30.5556</td>\n",
       "    </tr>\n",
       "  </tbody>\n",
       "</table>\n",
       "</div>"
      ],
      "text/plain": [
       "       time_point_0 time_point_1 time_point_2 time_point_3 time_point_4  \\\n",
       "25915      0.662573      1.66257      2.66257      3.66257      4.66257   \n",
       "129486      2.57637      3.57637      4.57637      5.57637      6.57637   \n",
       "14289       11.5512      12.5512      13.5512      14.5512      15.5512   \n",
       "29041       17.1229      18.1229      19.1229      20.1229      21.1229   \n",
       "48029       25.5556      26.5556      27.5556      28.5556      29.5556   \n",
       "\n",
       "       time_point_5  \n",
       "25915       5.66257  \n",
       "129486      7.57637  \n",
       "14289       16.5512  \n",
       "29041       22.1229  \n",
       "48029       30.5556  "
      ]
     },
     "execution_count": 104,
     "metadata": {},
     "output_type": "execute_result"
    }
   ],
   "source": [
    "rtp_df.head()"
   ]
  },
  {
   "cell_type": "code",
   "execution_count": 114,
   "metadata": {
    "collapsed": false
   },
   "outputs": [
    {
     "data": {
      "text/html": [
       "<div>\n",
       "<table border=\"1\" class=\"dataframe\">\n",
       "  <thead>\n",
       "    <tr style=\"text-align: right;\">\n",
       "      <th></th>\n",
       "      <th>baseline hazard</th>\n",
       "    </tr>\n",
       "    <tr>\n",
       "      <th>event_at</th>\n",
       "      <th></th>\n",
       "    </tr>\n",
       "  </thead>\n",
       "  <tbody>\n",
       "    <tr>\n",
       "      <th>0.000000</th>\n",
       "      <td>0.000048</td>\n",
       "    </tr>\n",
       "    <tr>\n",
       "      <th>0.002738</th>\n",
       "      <td>0.000037</td>\n",
       "    </tr>\n",
       "    <tr>\n",
       "      <th>0.005476</th>\n",
       "      <td>0.000043</td>\n",
       "    </tr>\n",
       "    <tr>\n",
       "      <th>0.008214</th>\n",
       "      <td>0.000047</td>\n",
       "    </tr>\n",
       "    <tr>\n",
       "      <th>0.010952</th>\n",
       "      <td>0.000037</td>\n",
       "    </tr>\n",
       "    <tr>\n",
       "      <th>0.013690</th>\n",
       "      <td>0.000006</td>\n",
       "    </tr>\n",
       "    <tr>\n",
       "      <th>0.016427</th>\n",
       "      <td>0.000021</td>\n",
       "    </tr>\n",
       "    <tr>\n",
       "      <th>0.019165</th>\n",
       "      <td>0.000037</td>\n",
       "    </tr>\n",
       "    <tr>\n",
       "      <th>0.021903</th>\n",
       "      <td>0.000042</td>\n",
       "    </tr>\n",
       "    <tr>\n",
       "      <th>0.024641</th>\n",
       "      <td>0.000049</td>\n",
       "    </tr>\n",
       "    <tr>\n",
       "      <th>0.027379</th>\n",
       "      <td>0.000052</td>\n",
       "    </tr>\n",
       "    <tr>\n",
       "      <th>0.030117</th>\n",
       "      <td>0.000046</td>\n",
       "    </tr>\n",
       "    <tr>\n",
       "      <th>0.032855</th>\n",
       "      <td>0.000003</td>\n",
       "    </tr>\n",
       "    <tr>\n",
       "      <th>0.035593</th>\n",
       "      <td>0.000016</td>\n",
       "    </tr>\n",
       "    <tr>\n",
       "      <th>0.038331</th>\n",
       "      <td>0.000061</td>\n",
       "    </tr>\n",
       "    <tr>\n",
       "      <th>0.041069</th>\n",
       "      <td>0.000050</td>\n",
       "    </tr>\n",
       "    <tr>\n",
       "      <th>0.043807</th>\n",
       "      <td>0.000025</td>\n",
       "    </tr>\n",
       "    <tr>\n",
       "      <th>0.046544</th>\n",
       "      <td>0.000040</td>\n",
       "    </tr>\n",
       "    <tr>\n",
       "      <th>0.049282</th>\n",
       "      <td>0.000062</td>\n",
       "    </tr>\n",
       "    <tr>\n",
       "      <th>0.052020</th>\n",
       "      <td>0.000007</td>\n",
       "    </tr>\n",
       "    <tr>\n",
       "      <th>0.054758</th>\n",
       "      <td>0.000023</td>\n",
       "    </tr>\n",
       "    <tr>\n",
       "      <th>0.057496</th>\n",
       "      <td>0.000044</td>\n",
       "    </tr>\n",
       "    <tr>\n",
       "      <th>0.060234</th>\n",
       "      <td>0.000044</td>\n",
       "    </tr>\n",
       "    <tr>\n",
       "      <th>0.062972</th>\n",
       "      <td>0.000032</td>\n",
       "    </tr>\n",
       "    <tr>\n",
       "      <th>0.065710</th>\n",
       "      <td>0.000049</td>\n",
       "    </tr>\n",
       "    <tr>\n",
       "      <th>0.068448</th>\n",
       "      <td>0.000061</td>\n",
       "    </tr>\n",
       "    <tr>\n",
       "      <th>0.071186</th>\n",
       "      <td>0.000007</td>\n",
       "    </tr>\n",
       "    <tr>\n",
       "      <th>0.073923</th>\n",
       "      <td>0.000028</td>\n",
       "    </tr>\n",
       "    <tr>\n",
       "      <th>0.076661</th>\n",
       "      <td>0.000034</td>\n",
       "    </tr>\n",
       "    <tr>\n",
       "      <th>0.079399</th>\n",
       "      <td>0.000048</td>\n",
       "    </tr>\n",
       "    <tr>\n",
       "      <th>...</th>\n",
       "      <td>...</td>\n",
       "    </tr>\n",
       "    <tr>\n",
       "      <th>0.583174</th>\n",
       "      <td>0.000053</td>\n",
       "    </tr>\n",
       "    <tr>\n",
       "      <th>0.585912</th>\n",
       "      <td>0.000106</td>\n",
       "    </tr>\n",
       "    <tr>\n",
       "      <th>0.588650</th>\n",
       "      <td>0.000018</td>\n",
       "    </tr>\n",
       "    <tr>\n",
       "      <th>0.591388</th>\n",
       "      <td>0.000021</td>\n",
       "    </tr>\n",
       "    <tr>\n",
       "      <th>0.594126</th>\n",
       "      <td>0.000042</td>\n",
       "    </tr>\n",
       "    <tr>\n",
       "      <th>0.596864</th>\n",
       "      <td>0.000024</td>\n",
       "    </tr>\n",
       "    <tr>\n",
       "      <th>0.599602</th>\n",
       "      <td>0.000051</td>\n",
       "    </tr>\n",
       "    <tr>\n",
       "      <th>0.602340</th>\n",
       "      <td>0.000039</td>\n",
       "    </tr>\n",
       "    <tr>\n",
       "      <th>0.605077</th>\n",
       "      <td>0.000129</td>\n",
       "    </tr>\n",
       "    <tr>\n",
       "      <th>0.607815</th>\n",
       "      <td>0.000012</td>\n",
       "    </tr>\n",
       "    <tr>\n",
       "      <th>0.610553</th>\n",
       "      <td>0.000018</td>\n",
       "    </tr>\n",
       "    <tr>\n",
       "      <th>0.613291</th>\n",
       "      <td>0.000054</td>\n",
       "    </tr>\n",
       "    <tr>\n",
       "      <th>0.616029</th>\n",
       "      <td>0.000021</td>\n",
       "    </tr>\n",
       "    <tr>\n",
       "      <th>0.618767</th>\n",
       "      <td>0.000060</td>\n",
       "    </tr>\n",
       "    <tr>\n",
       "      <th>0.621505</th>\n",
       "      <td>0.000072</td>\n",
       "    </tr>\n",
       "    <tr>\n",
       "      <th>0.624243</th>\n",
       "      <td>0.000157</td>\n",
       "    </tr>\n",
       "    <tr>\n",
       "      <th>0.626981</th>\n",
       "      <td>0.000021</td>\n",
       "    </tr>\n",
       "    <tr>\n",
       "      <th>0.629719</th>\n",
       "      <td>0.000024</td>\n",
       "    </tr>\n",
       "    <tr>\n",
       "      <th>0.632457</th>\n",
       "      <td>0.000027</td>\n",
       "    </tr>\n",
       "    <tr>\n",
       "      <th>0.635194</th>\n",
       "      <td>0.000058</td>\n",
       "    </tr>\n",
       "    <tr>\n",
       "      <th>0.637932</th>\n",
       "      <td>0.000058</td>\n",
       "    </tr>\n",
       "    <tr>\n",
       "      <th>0.640670</th>\n",
       "      <td>0.000064</td>\n",
       "    </tr>\n",
       "    <tr>\n",
       "      <th>0.643408</th>\n",
       "      <td>0.000126</td>\n",
       "    </tr>\n",
       "    <tr>\n",
       "      <th>0.646146</th>\n",
       "      <td>0.000028</td>\n",
       "    </tr>\n",
       "    <tr>\n",
       "      <th>0.648884</th>\n",
       "      <td>0.000009</td>\n",
       "    </tr>\n",
       "    <tr>\n",
       "      <th>0.651622</th>\n",
       "      <td>0.000043</td>\n",
       "    </tr>\n",
       "    <tr>\n",
       "      <th>0.654360</th>\n",
       "      <td>0.000037</td>\n",
       "    </tr>\n",
       "    <tr>\n",
       "      <th>0.657098</th>\n",
       "      <td>0.000056</td>\n",
       "    </tr>\n",
       "    <tr>\n",
       "      <th>0.659836</th>\n",
       "      <td>0.000068</td>\n",
       "    </tr>\n",
       "    <tr>\n",
       "      <th>0.662573</th>\n",
       "      <td>0.000140</td>\n",
       "    </tr>\n",
       "  </tbody>\n",
       "</table>\n",
       "<p>243 rows × 1 columns</p>\n",
       "</div>"
      ],
      "text/plain": [
       "          baseline hazard\n",
       "event_at                 \n",
       "0.000000         0.000048\n",
       "0.002738         0.000037\n",
       "0.005476         0.000043\n",
       "0.008214         0.000047\n",
       "0.010952         0.000037\n",
       "0.013690         0.000006\n",
       "0.016427         0.000021\n",
       "0.019165         0.000037\n",
       "0.021903         0.000042\n",
       "0.024641         0.000049\n",
       "0.027379         0.000052\n",
       "0.030117         0.000046\n",
       "0.032855         0.000003\n",
       "0.035593         0.000016\n",
       "0.038331         0.000061\n",
       "0.041069         0.000050\n",
       "0.043807         0.000025\n",
       "0.046544         0.000040\n",
       "0.049282         0.000062\n",
       "0.052020         0.000007\n",
       "0.054758         0.000023\n",
       "0.057496         0.000044\n",
       "0.060234         0.000044\n",
       "0.062972         0.000032\n",
       "0.065710         0.000049\n",
       "0.068448         0.000061\n",
       "0.071186         0.000007\n",
       "0.073923         0.000028\n",
       "0.076661         0.000034\n",
       "0.079399         0.000048\n",
       "...                   ...\n",
       "0.583174         0.000053\n",
       "0.585912         0.000106\n",
       "0.588650         0.000018\n",
       "0.591388         0.000021\n",
       "0.594126         0.000042\n",
       "0.596864         0.000024\n",
       "0.599602         0.000051\n",
       "0.602340         0.000039\n",
       "0.605077         0.000129\n",
       "0.607815         0.000012\n",
       "0.610553         0.000018\n",
       "0.613291         0.000054\n",
       "0.616029         0.000021\n",
       "0.618767         0.000060\n",
       "0.621505         0.000072\n",
       "0.624243         0.000157\n",
       "0.626981         0.000021\n",
       "0.629719         0.000024\n",
       "0.632457         0.000027\n",
       "0.635194         0.000058\n",
       "0.637932         0.000058\n",
       "0.640670         0.000064\n",
       "0.643408         0.000126\n",
       "0.646146         0.000028\n",
       "0.648884         0.000009\n",
       "0.651622         0.000043\n",
       "0.654360         0.000037\n",
       "0.657098         0.000056\n",
       "0.659836         0.000068\n",
       "0.662573         0.000140\n",
       "\n",
       "[243 rows x 1 columns]"
      ]
     },
     "execution_count": 114,
     "metadata": {},
     "output_type": "execute_result"
    }
   ],
   "source": [
    "s_cf4.baseline_hazard_.ix[:rtp_df.iloc[0]['time_point_0']]#.values[-10:]"
   ]
  },
  {
   "cell_type": "code",
   "execution_count": 120,
   "metadata": {
    "collapsed": false
   },
   "outputs": [
    {
     "data": {
      "text/plain": [
       "baseline hazard    0.00014\n",
       "Name: 0.662573495691, dtype: float64"
      ]
     },
     "execution_count": 120,
     "metadata": {},
     "output_type": "execute_result"
    }
   ],
   "source": [
    "s_cf4.baseline_hazard_.ix[rtp_df.iloc[0]['time_point_0']]#.values[-10:]"
   ]
  },
  {
   "cell_type": "code",
   "execution_count": 132,
   "metadata": {
    "collapsed": false
   },
   "outputs": [
    {
     "name": "stdout",
     "output_type": "stream",
     "text": [
      "time_point_0 0.662573495691\n",
      "[ 0.00013963] [ 0.01184655]\n",
      "time_point_1 1.66257349569\n",
      " _______\n",
      " keyError \n",
      "baseline hazard    0.000026\n",
      "Name: 1.66464746025, dtype: float64 baseline hazard    0.000016\n",
      "Name: 1.66190955324, dtype: float64\n",
      "time_point_2 2.66257349569\n",
      " _______\n",
      " keyError \n",
      "baseline hazard    0.000053\n",
      "Name: 2.6639835178, dtype: float64 baseline hazard    0.000008\n",
      "Name: 2.66124561079, dtype: float64\n",
      "time_point_3 3.66257349569\n",
      " _______\n",
      " keyError \n",
      "baseline hazard    0.000031\n",
      "Name: 3.66331957535, dtype: float64 baseline hazard    0.000061\n",
      "Name: 3.66058166834, dtype: float64\n",
      "time_point_4 4.66257349569\n",
      " _______\n",
      " keyError \n",
      "baseline hazard    0.000041\n",
      "Name: 4.6626556329, dtype: float64 baseline hazard    0.000041\n",
      "Name: 4.65991772589, dtype: float64\n",
      "time_point_5 5.66257349569\n",
      " _______\n",
      " keyError \n",
      "baseline hazard    0.000277\n",
      "Name: 5.66472959746, dtype: float64 baseline hazard    0.000104\n",
      "Name: 5.66199169045, dtype: float64\n"
     ]
    }
   ],
   "source": [
    "for tp in rtp_df.columns:\n",
    "    \n",
    "    tp_idx = rtp_df.iloc[0][tp]\n",
    "    print tp, tp_idx\n",
    "    try: \n",
    "        spec_hazard = s_cf4.baseline_hazard_.ix[tp_idx].values\n",
    "        c_haz = s_cf4.baseline_cumulative_hazard_.ix[tp_idx].values\n",
    "        print spec_hazard, c_haz\n",
    "    except KeyError:\n",
    "        print \" _______\\n keyError \" #,tp_idx\n",
    "        t_post = s_cf4.baseline_hazard_.ix[tp_idx:].index[0] # get the first after this point\n",
    "        t_prior = s_cf4.baseline_hazard_.ix[:tp_idx].index[-1] # get the last before this point\n",
    "        print s_cf4.baseline_hazard_.ix[t_post], s_cf4.baseline_hazard_.ix[t_prior]\n",
    "        \n",
    "#s_cf4.baseline_hazard_.ix[rtp_df.iloc[0]['time_point_1']]"
   ]
  },
  {
   "cell_type": "code",
   "execution_count": 156,
   "metadata": {
    "collapsed": false
   },
   "outputs": [
    {
     "data": {
      "text/plain": [
       "array([  8.45533318e-05])"
      ]
     },
     "execution_count": 156,
     "metadata": {},
     "output_type": "execute_result"
    }
   ],
   "source": [
    "s_cf4.baseline_cumulative_hazard_.ix[s_cf4.baseline_cumulative_hazard_.ix[:0.002738].index[-1]].values"
   ]
  },
  {
   "cell_type": "code",
   "execution_count": 159,
   "metadata": {
    "collapsed": true
   },
   "outputs": [],
   "source": [
    "from scipy import interpolate\n",
    "def return_desired_cumulative_hazards(t):\n",
    "    mdl = s_cf4\n",
    "    \n",
    "    try: \n",
    "        spec_hazard = mdl.baseline_hazard_.ix[t].values\n",
    "        c_haz = mdl.baseline_cumulative_hazard_.ix[t].values[0]\n",
    "        #print spec_hazard, c_haz\n",
    "    except KeyError:\n",
    "        #t_1 = s_cf4.baseline_cumulative_hazard_\n",
    "        t_post = mdl.baseline_hazard_.ix[t:].index[0] # get the first after this point\n",
    "        t_prior = mdl.baseline_hazard_.ix[:t].index[-1] # get the last before this point\n",
    "        x = [t_prior, t_post]\n",
    "        y = [mdl.baseline_cumulative_hazard_.ix[t_prior].values[0],mdl.baseline_cumulative_hazard_.ix[t_post].values[0]]\n",
    "        #print x, y\n",
    "        chaz_interp = interpolate.interp1d([t_prior,t_post],y)\n",
    "        c_haz = chaz_interp(t)\n",
    "    return c_haz"
   ]
  },
  {
   "cell_type": "code",
   "execution_count": 167,
   "metadata": {
    "collapsed": false
   },
   "outputs": [
    {
     "data": {
      "text/plain": [
       "baseline hazard    0.011847\n",
       "Name: 0.662573495691, dtype: float64"
      ]
     },
     "execution_count": 167,
     "metadata": {},
     "output_type": "execute_result"
    }
   ],
   "source": [
    "s_cf4.baseline_cumulative_hazard_.ix[rtp_df.iloc[0]['time_point_0']]"
   ]
  },
  {
   "cell_type": "code",
   "execution_count": 173,
   "metadata": {
    "collapsed": false
   },
   "outputs": [],
   "source": [
    "#rtp_df[['time_point_1','time_point_2']].applymap(lambda x: return_desired_cumulative_hazards(x))\n",
    "c_0 = rtp_df.applymap(lambda x: return_desired_cumulative_hazards(x))"
   ]
  },
  {
   "cell_type": "code",
   "execution_count": 180,
   "metadata": {
    "collapsed": false
   },
   "outputs": [
    {
     "data": {
      "text/plain": [
       "((20, 1), (20, 6))"
      ]
     },
     "execution_count": 180,
     "metadata": {},
     "output_type": "execute_result"
    }
   ],
   "source": [
    "#np.dot(\n",
    "s_cf4.predict_partial_hazard(take20).shape, c_0.shape#.T,c_0)"
   ]
  },
  {
   "cell_type": "code",
   "execution_count": 203,
   "metadata": {
    "collapsed": false
   },
   "outputs": [],
   "source": [
    "#pd.DataFrame(np.exp(-np.outer(s_cf4.predict_partial_hazard(take20),c_0.T)))\n",
    "phaz_20 = s_cf4.predict_partial_hazard(take20)\n"
   ]
  },
  {
   "cell_type": "code",
   "execution_count": 214,
   "metadata": {
    "collapsed": false
   },
   "outputs": [
    {
     "data": {
      "text/html": [
       "<div>\n",
       "<table border=\"1\" class=\"dataframe\">\n",
       "  <thead>\n",
       "    <tr style=\"text-align: right;\">\n",
       "      <th></th>\n",
       "      <th>0</th>\n",
       "    </tr>\n",
       "  </thead>\n",
       "  <tbody>\n",
       "    <tr>\n",
       "      <th>25915</th>\n",
       "      <td>19.813223</td>\n",
       "    </tr>\n",
       "    <tr>\n",
       "      <th>129486</th>\n",
       "      <td>4.643493</td>\n",
       "    </tr>\n",
       "    <tr>\n",
       "      <th>14289</th>\n",
       "      <td>0.655513</td>\n",
       "    </tr>\n",
       "    <tr>\n",
       "      <th>29041</th>\n",
       "      <td>0.289817</td>\n",
       "    </tr>\n",
       "    <tr>\n",
       "      <th>48029</th>\n",
       "      <td>2.067335</td>\n",
       "    </tr>\n",
       "  </tbody>\n",
       "</table>\n",
       "</div>"
      ],
      "text/plain": [
       "                0\n",
       "25915   19.813223\n",
       "129486   4.643493\n",
       "14289    0.655513\n",
       "29041    0.289817\n",
       "48029    2.067335"
      ]
     },
     "execution_count": 214,
     "metadata": {},
     "output_type": "execute_result"
    }
   ],
   "source": [
    "phaz_20.head()"
   ]
  },
  {
   "cell_type": "code",
   "execution_count": 231,
   "metadata": {
    "collapsed": false
   },
   "outputs": [
    {
     "data": {
      "text/html": [
       "<div>\n",
       "<table border=\"1\" class=\"dataframe\">\n",
       "  <thead>\n",
       "    <tr style=\"text-align: right;\">\n",
       "      <th></th>\n",
       "      <th>time_point_0</th>\n",
       "      <th>time_point_1</th>\n",
       "      <th>time_point_2</th>\n",
       "      <th>time_point_3</th>\n",
       "      <th>time_point_4</th>\n",
       "      <th>time_point_5</th>\n",
       "    </tr>\n",
       "  </thead>\n",
       "  <tbody>\n",
       "    <tr>\n",
       "      <th>25915</th>\n",
       "      <td>0.011847</td>\n",
       "      <td>0.031493</td>\n",
       "      <td>0.051023</td>\n",
       "      <td>0.071595</td>\n",
       "      <td>0.095443</td>\n",
       "      <td>0.121651</td>\n",
       "    </tr>\n",
       "    <tr>\n",
       "      <th>129486</th>\n",
       "      <td>0.049147</td>\n",
       "      <td>0.069708</td>\n",
       "      <td>0.093319</td>\n",
       "      <td>0.119291</td>\n",
       "      <td>0.147752</td>\n",
       "      <td>0.178041</td>\n",
       "    </tr>\n",
       "    <tr>\n",
       "      <th>14289</th>\n",
       "      <td>0.314926</td>\n",
       "      <td>0.358931</td>\n",
       "      <td>0.411901</td>\n",
       "      <td>0.466326</td>\n",
       "      <td>0.525911</td>\n",
       "      <td>0.592715</td>\n",
       "    </tr>\n",
       "    <tr>\n",
       "      <th>29041</th>\n",
       "      <td>0.635700</td>\n",
       "      <td>0.711051</td>\n",
       "      <td>0.793926</td>\n",
       "      <td>0.864012</td>\n",
       "      <td>0.938826</td>\n",
       "      <td>1.018110</td>\n",
       "    </tr>\n",
       "    <tr>\n",
       "      <th>48029</th>\n",
       "      <td>1.351215</td>\n",
       "      <td>1.481335</td>\n",
       "      <td>1.621135</td>\n",
       "      <td>1.754134</td>\n",
       "      <td>1.881869</td>\n",
       "      <td>2.000820</td>\n",
       "    </tr>\n",
       "  </tbody>\n",
       "</table>\n",
       "</div>"
      ],
      "text/plain": [
       "        time_point_0  time_point_1  time_point_2  time_point_3  time_point_4  \\\n",
       "25915       0.011847      0.031493      0.051023      0.071595      0.095443   \n",
       "129486      0.049147      0.069708      0.093319      0.119291      0.147752   \n",
       "14289       0.314926      0.358931      0.411901      0.466326      0.525911   \n",
       "29041       0.635700      0.711051      0.793926      0.864012      0.938826   \n",
       "48029       1.351215      1.481335      1.621135      1.754134      1.881869   \n",
       "\n",
       "        time_point_5  \n",
       "25915       0.121651  \n",
       "129486      0.178041  \n",
       "14289       0.592715  \n",
       "29041       1.018110  \n",
       "48029       2.000820  "
      ]
     },
     "execution_count": 231,
     "metadata": {},
     "output_type": "execute_result"
    }
   ],
   "source": [
    "c_0.head()#.dot(phaz_20.T)"
   ]
  },
  {
   "cell_type": "code",
   "execution_count": 253,
   "metadata": {
    "collapsed": false
   },
   "outputs": [
    {
     "data": {
      "text/plain": [
       "array([[ 19.81322253],\n",
       "       [  4.64349277]])"
      ]
     },
     "execution_count": 253,
     "metadata": {},
     "output_type": "execute_result"
    }
   ],
   "source": [
    "phaz_20.iloc[:2].values\n",
    "#.T),c_0.iloc[:2,:].values)"
   ]
  },
  {
   "cell_type": "code",
   "execution_count": 256,
   "metadata": {
    "collapsed": false
   },
   "outputs": [
    {
     "data": {
      "text/plain": [
       "((2L, 6L), (2L, 1L))"
      ]
     },
     "execution_count": 256,
     "metadata": {},
     "output_type": "execute_result"
    }
   ],
   "source": [
    "np.shape(c_0.iloc[:2,:].values), np.shape(phaz_20.iloc[:2].values)"
   ]
  },
  {
   "cell_type": "code",
   "execution_count": 346,
   "metadata": {
    "collapsed": true
   },
   "outputs": [],
   "source": [
    "def calculate_specific_survival_function(mdl, df):\n",
    "    # calculate the predicted hazard\n",
    "    my_partial_hazard = mdl.predict_partial_hazard(df)\n",
    "    # asign the specific timepoints and calculate the cumulative hazards at these points\n",
    "    rtp_df = identify_time_points(mdl, df)\n",
    "    specific_cumulative_hazards =  rtp_df.applymap(lambda x: return_desired_cumulative_hazards(x))\n",
    "    \n",
    "    return pd.DataFrame(np.exp(-np.multiply(specific_cumulative_hazards.values,my_partial_hazard.values)),index=df.index)"
   ]
  },
  {
   "cell_type": "code",
   "execution_count": 347,
   "metadata": {
    "collapsed": false
   },
   "outputs": [],
   "source": [
    "pred_survfcn = calculate_specific_survival_function(s_cf4, take20)"
   ]
  },
  {
   "cell_type": "code",
   "execution_count": 348,
   "metadata": {
    "collapsed": false
   },
   "outputs": [
    {
     "data": {
      "text/html": [
       "<div>\n",
       "<table border=\"1\" class=\"dataframe\">\n",
       "  <thead>\n",
       "    <tr style=\"text-align: right;\">\n",
       "      <th></th>\n",
       "      <th>0</th>\n",
       "      <th>1</th>\n",
       "      <th>2</th>\n",
       "      <th>3</th>\n",
       "      <th>4</th>\n",
       "      <th>5</th>\n",
       "    </tr>\n",
       "  </thead>\n",
       "  <tbody>\n",
       "    <tr>\n",
       "      <th>25915</th>\n",
       "      <td>0.790794</td>\n",
       "      <td>0.535808</td>\n",
       "      <td>0.363877</td>\n",
       "      <td>0.242069</td>\n",
       "      <td>0.150915</td>\n",
       "      <td>0.089789</td>\n",
       "    </tr>\n",
       "    <tr>\n",
       "      <th>129486</th>\n",
       "      <td>0.795955</td>\n",
       "      <td>0.723477</td>\n",
       "      <td>0.648348</td>\n",
       "      <td>0.574688</td>\n",
       "      <td>0.503543</td>\n",
       "      <td>0.437477</td>\n",
       "    </tr>\n",
       "    <tr>\n",
       "      <th>14289</th>\n",
       "      <td>0.813476</td>\n",
       "      <td>0.790346</td>\n",
       "      <td>0.763374</td>\n",
       "      <td>0.736620</td>\n",
       "      <td>0.708404</td>\n",
       "      <td>0.678051</td>\n",
       "    </tr>\n",
       "    <tr>\n",
       "      <th>29041</th>\n",
       "      <td>0.831739</td>\n",
       "      <td>0.813772</td>\n",
       "      <td>0.794459</td>\n",
       "      <td>0.778485</td>\n",
       "      <td>0.761787</td>\n",
       "      <td>0.744483</td>\n",
       "    </tr>\n",
       "    <tr>\n",
       "      <th>48029</th>\n",
       "      <td>0.061212</td>\n",
       "      <td>0.046775</td>\n",
       "      <td>0.035034</td>\n",
       "      <td>0.026612</td>\n",
       "      <td>0.020436</td>\n",
       "      <td>0.015981</td>\n",
       "    </tr>\n",
       "    <tr>\n",
       "      <th>59412</th>\n",
       "      <td>0.882495</td>\n",
       "      <td>0.872300</td>\n",
       "      <td>0.861519</td>\n",
       "      <td>0.848677</td>\n",
       "      <td>0.836874</td>\n",
       "      <td>0.826807</td>\n",
       "    </tr>\n",
       "    <tr>\n",
       "      <th>65674</th>\n",
       "      <td>0.610379</td>\n",
       "      <td>0.514896</td>\n",
       "      <td>0.427497</td>\n",
       "      <td>0.349028</td>\n",
       "      <td>0.280602</td>\n",
       "      <td>0.224940</td>\n",
       "    </tr>\n",
       "    <tr>\n",
       "      <th>65872</th>\n",
       "      <td>0.705065</td>\n",
       "      <td>0.669563</td>\n",
       "      <td>0.635362</td>\n",
       "      <td>0.600799</td>\n",
       "      <td>0.562687</td>\n",
       "      <td>0.522470</td>\n",
       "    </tr>\n",
       "    <tr>\n",
       "      <th>70843</th>\n",
       "      <td>0.967109</td>\n",
       "      <td>0.962696</td>\n",
       "      <td>0.957856</td>\n",
       "      <td>0.952743</td>\n",
       "      <td>0.946943</td>\n",
       "      <td>0.940751</td>\n",
       "    </tr>\n",
       "    <tr>\n",
       "      <th>46577</th>\n",
       "      <td>0.895390</td>\n",
       "      <td>0.882684</td>\n",
       "      <td>0.868503</td>\n",
       "      <td>0.854008</td>\n",
       "      <td>0.841344</td>\n",
       "      <td>0.828639</td>\n",
       "    </tr>\n",
       "    <tr>\n",
       "      <th>86579</th>\n",
       "      <td>0.724474</td>\n",
       "      <td>0.692316</td>\n",
       "      <td>0.655203</td>\n",
       "      <td>0.619932</td>\n",
       "      <td>0.584410</td>\n",
       "      <td>0.545057</td>\n",
       "    </tr>\n",
       "    <tr>\n",
       "      <th>93871</th>\n",
       "      <td>0.784401</td>\n",
       "      <td>0.768615</td>\n",
       "      <td>0.753380</td>\n",
       "      <td>0.734928</td>\n",
       "      <td>0.714231</td>\n",
       "      <td>0.691720</td>\n",
       "    </tr>\n",
       "    <tr>\n",
       "      <th>33172</th>\n",
       "      <td>0.795648</td>\n",
       "      <td>0.772208</td>\n",
       "      <td>0.748059</td>\n",
       "      <td>0.721778</td>\n",
       "      <td>0.701095</td>\n",
       "      <td>0.679975</td>\n",
       "    </tr>\n",
       "    <tr>\n",
       "      <th>16453</th>\n",
       "      <td>0.716932</td>\n",
       "      <td>0.624066</td>\n",
       "      <td>0.530835</td>\n",
       "      <td>0.445061</td>\n",
       "      <td>0.367137</td>\n",
       "      <td>0.298071</td>\n",
       "    </tr>\n",
       "    <tr>\n",
       "      <th>61976</th>\n",
       "      <td>0.695020</td>\n",
       "      <td>0.678809</td>\n",
       "      <td>0.663635</td>\n",
       "      <td>0.647651</td>\n",
       "      <td>0.631471</td>\n",
       "      <td>0.613773</td>\n",
       "    </tr>\n",
       "    <tr>\n",
       "      <th>15198</th>\n",
       "      <td>0.982632</td>\n",
       "      <td>0.980228</td>\n",
       "      <td>0.977405</td>\n",
       "      <td>0.974371</td>\n",
       "      <td>0.971183</td>\n",
       "      <td>0.967573</td>\n",
       "    </tr>\n",
       "    <tr>\n",
       "      <th>86363</th>\n",
       "      <td>0.719228</td>\n",
       "      <td>0.163670</td>\n",
       "      <td>0.039920</td>\n",
       "      <td>0.008032</td>\n",
       "      <td>0.001433</td>\n",
       "      <td>0.000225</td>\n",
       "    </tr>\n",
       "    <tr>\n",
       "      <th>2107</th>\n",
       "      <td>0.554041</td>\n",
       "      <td>0.362124</td>\n",
       "      <td>0.223175</td>\n",
       "      <td>0.131451</td>\n",
       "      <td>0.073698</td>\n",
       "      <td>0.038155</td>\n",
       "    </tr>\n",
       "    <tr>\n",
       "      <th>74693</th>\n",
       "      <td>0.962819</td>\n",
       "      <td>0.921027</td>\n",
       "      <td>0.878863</td>\n",
       "      <td>0.836422</td>\n",
       "      <td>0.790648</td>\n",
       "      <td>0.742324</td>\n",
       "    </tr>\n",
       "    <tr>\n",
       "      <th>85838</th>\n",
       "      <td>0.951044</td>\n",
       "      <td>0.947116</td>\n",
       "      <td>0.943194</td>\n",
       "      <td>0.938348</td>\n",
       "      <td>0.932775</td>\n",
       "      <td>0.926661</td>\n",
       "    </tr>\n",
       "  </tbody>\n",
       "</table>\n",
       "</div>"
      ],
      "text/plain": [
       "               0         1         2         3         4         5\n",
       "25915   0.790794  0.535808  0.363877  0.242069  0.150915  0.089789\n",
       "129486  0.795955  0.723477  0.648348  0.574688  0.503543  0.437477\n",
       "14289   0.813476  0.790346  0.763374  0.736620  0.708404  0.678051\n",
       "29041   0.831739  0.813772  0.794459  0.778485  0.761787  0.744483\n",
       "48029   0.061212  0.046775  0.035034  0.026612  0.020436  0.015981\n",
       "59412   0.882495  0.872300  0.861519  0.848677  0.836874  0.826807\n",
       "65674   0.610379  0.514896  0.427497  0.349028  0.280602  0.224940\n",
       "65872   0.705065  0.669563  0.635362  0.600799  0.562687  0.522470\n",
       "70843   0.967109  0.962696  0.957856  0.952743  0.946943  0.940751\n",
       "46577   0.895390  0.882684  0.868503  0.854008  0.841344  0.828639\n",
       "86579   0.724474  0.692316  0.655203  0.619932  0.584410  0.545057\n",
       "93871   0.784401  0.768615  0.753380  0.734928  0.714231  0.691720\n",
       "33172   0.795648  0.772208  0.748059  0.721778  0.701095  0.679975\n",
       "16453   0.716932  0.624066  0.530835  0.445061  0.367137  0.298071\n",
       "61976   0.695020  0.678809  0.663635  0.647651  0.631471  0.613773\n",
       "15198   0.982632  0.980228  0.977405  0.974371  0.971183  0.967573\n",
       "86363   0.719228  0.163670  0.039920  0.008032  0.001433  0.000225\n",
       "2107    0.554041  0.362124  0.223175  0.131451  0.073698  0.038155\n",
       "74693   0.962819  0.921027  0.878863  0.836422  0.790648  0.742324\n",
       "85838   0.951044  0.947116  0.943194  0.938348  0.932775  0.926661"
      ]
     },
     "execution_count": 348,
     "metadata": {},
     "output_type": "execute_result"
    }
   ],
   "source": [
    "pred_survfcn"
   ]
  },
  {
   "cell_type": "code",
   "execution_count": 265,
   "metadata": {
    "collapsed": false
   },
   "outputs": [
    {
     "data": {
      "text/html": [
       "<div>\n",
       "<table border=\"1\" class=\"dataframe\">\n",
       "  <thead>\n",
       "    <tr style=\"text-align: right;\">\n",
       "      <th></th>\n",
       "      <th>0</th>\n",
       "      <th>1</th>\n",
       "      <th>2</th>\n",
       "      <th>3</th>\n",
       "      <th>4</th>\n",
       "      <th>5</th>\n",
       "    </tr>\n",
       "  </thead>\n",
       "  <tbody>\n",
       "    <tr>\n",
       "      <th>0</th>\n",
       "      <td>0.790794</td>\n",
       "      <td>0.535808</td>\n",
       "      <td>0.363877</td>\n",
       "      <td>0.242069</td>\n",
       "      <td>0.150915</td>\n",
       "      <td>0.089789</td>\n",
       "    </tr>\n",
       "    <tr>\n",
       "      <th>1</th>\n",
       "      <td>0.795955</td>\n",
       "      <td>0.723477</td>\n",
       "      <td>0.648348</td>\n",
       "      <td>0.574688</td>\n",
       "      <td>0.503543</td>\n",
       "      <td>0.437477</td>\n",
       "    </tr>\n",
       "    <tr>\n",
       "      <th>2</th>\n",
       "      <td>0.813476</td>\n",
       "      <td>0.790346</td>\n",
       "      <td>0.763374</td>\n",
       "      <td>0.736620</td>\n",
       "      <td>0.708404</td>\n",
       "      <td>0.678051</td>\n",
       "    </tr>\n",
       "    <tr>\n",
       "      <th>3</th>\n",
       "      <td>0.831739</td>\n",
       "      <td>0.813772</td>\n",
       "      <td>0.794459</td>\n",
       "      <td>0.778485</td>\n",
       "      <td>0.761787</td>\n",
       "      <td>0.744483</td>\n",
       "    </tr>\n",
       "    <tr>\n",
       "      <th>4</th>\n",
       "      <td>0.061212</td>\n",
       "      <td>0.046775</td>\n",
       "      <td>0.035034</td>\n",
       "      <td>0.026612</td>\n",
       "      <td>0.020436</td>\n",
       "      <td>0.015981</td>\n",
       "    </tr>\n",
       "    <tr>\n",
       "      <th>5</th>\n",
       "      <td>0.882495</td>\n",
       "      <td>0.872300</td>\n",
       "      <td>0.861519</td>\n",
       "      <td>0.848677</td>\n",
       "      <td>0.836874</td>\n",
       "      <td>0.826807</td>\n",
       "    </tr>\n",
       "    <tr>\n",
       "      <th>6</th>\n",
       "      <td>0.610379</td>\n",
       "      <td>0.514896</td>\n",
       "      <td>0.427497</td>\n",
       "      <td>0.349028</td>\n",
       "      <td>0.280602</td>\n",
       "      <td>0.224940</td>\n",
       "    </tr>\n",
       "    <tr>\n",
       "      <th>7</th>\n",
       "      <td>0.705065</td>\n",
       "      <td>0.669563</td>\n",
       "      <td>0.635362</td>\n",
       "      <td>0.600799</td>\n",
       "      <td>0.562687</td>\n",
       "      <td>0.522470</td>\n",
       "    </tr>\n",
       "    <tr>\n",
       "      <th>8</th>\n",
       "      <td>0.967109</td>\n",
       "      <td>0.962696</td>\n",
       "      <td>0.957856</td>\n",
       "      <td>0.952743</td>\n",
       "      <td>0.946943</td>\n",
       "      <td>0.940751</td>\n",
       "    </tr>\n",
       "    <tr>\n",
       "      <th>9</th>\n",
       "      <td>0.895390</td>\n",
       "      <td>0.882684</td>\n",
       "      <td>0.868503</td>\n",
       "      <td>0.854008</td>\n",
       "      <td>0.841344</td>\n",
       "      <td>0.828639</td>\n",
       "    </tr>\n",
       "    <tr>\n",
       "      <th>10</th>\n",
       "      <td>0.724474</td>\n",
       "      <td>0.692316</td>\n",
       "      <td>0.655203</td>\n",
       "      <td>0.619932</td>\n",
       "      <td>0.584410</td>\n",
       "      <td>0.545057</td>\n",
       "    </tr>\n",
       "    <tr>\n",
       "      <th>11</th>\n",
       "      <td>0.784401</td>\n",
       "      <td>0.768615</td>\n",
       "      <td>0.753380</td>\n",
       "      <td>0.734928</td>\n",
       "      <td>0.714231</td>\n",
       "      <td>0.691720</td>\n",
       "    </tr>\n",
       "    <tr>\n",
       "      <th>12</th>\n",
       "      <td>0.795648</td>\n",
       "      <td>0.772208</td>\n",
       "      <td>0.748059</td>\n",
       "      <td>0.721778</td>\n",
       "      <td>0.701095</td>\n",
       "      <td>0.679975</td>\n",
       "    </tr>\n",
       "    <tr>\n",
       "      <th>13</th>\n",
       "      <td>0.716932</td>\n",
       "      <td>0.624066</td>\n",
       "      <td>0.530835</td>\n",
       "      <td>0.445061</td>\n",
       "      <td>0.367137</td>\n",
       "      <td>0.298071</td>\n",
       "    </tr>\n",
       "    <tr>\n",
       "      <th>14</th>\n",
       "      <td>0.695020</td>\n",
       "      <td>0.678809</td>\n",
       "      <td>0.663635</td>\n",
       "      <td>0.647651</td>\n",
       "      <td>0.631471</td>\n",
       "      <td>0.613773</td>\n",
       "    </tr>\n",
       "    <tr>\n",
       "      <th>15</th>\n",
       "      <td>0.982632</td>\n",
       "      <td>0.980228</td>\n",
       "      <td>0.977405</td>\n",
       "      <td>0.974371</td>\n",
       "      <td>0.971183</td>\n",
       "      <td>0.967573</td>\n",
       "    </tr>\n",
       "    <tr>\n",
       "      <th>16</th>\n",
       "      <td>0.719228</td>\n",
       "      <td>0.163670</td>\n",
       "      <td>0.039920</td>\n",
       "      <td>0.008032</td>\n",
       "      <td>0.001433</td>\n",
       "      <td>0.000225</td>\n",
       "    </tr>\n",
       "    <tr>\n",
       "      <th>17</th>\n",
       "      <td>0.554041</td>\n",
       "      <td>0.362124</td>\n",
       "      <td>0.223175</td>\n",
       "      <td>0.131451</td>\n",
       "      <td>0.073698</td>\n",
       "      <td>0.038155</td>\n",
       "    </tr>\n",
       "    <tr>\n",
       "      <th>18</th>\n",
       "      <td>0.962819</td>\n",
       "      <td>0.921027</td>\n",
       "      <td>0.878863</td>\n",
       "      <td>0.836422</td>\n",
       "      <td>0.790648</td>\n",
       "      <td>0.742324</td>\n",
       "    </tr>\n",
       "    <tr>\n",
       "      <th>19</th>\n",
       "      <td>0.951044</td>\n",
       "      <td>0.947116</td>\n",
       "      <td>0.943194</td>\n",
       "      <td>0.938348</td>\n",
       "      <td>0.932775</td>\n",
       "      <td>0.926661</td>\n",
       "    </tr>\n",
       "  </tbody>\n",
       "</table>\n",
       "</div>"
      ],
      "text/plain": [
       "           0         1         2         3         4         5\n",
       "0   0.790794  0.535808  0.363877  0.242069  0.150915  0.089789\n",
       "1   0.795955  0.723477  0.648348  0.574688  0.503543  0.437477\n",
       "2   0.813476  0.790346  0.763374  0.736620  0.708404  0.678051\n",
       "3   0.831739  0.813772  0.794459  0.778485  0.761787  0.744483\n",
       "4   0.061212  0.046775  0.035034  0.026612  0.020436  0.015981\n",
       "5   0.882495  0.872300  0.861519  0.848677  0.836874  0.826807\n",
       "6   0.610379  0.514896  0.427497  0.349028  0.280602  0.224940\n",
       "7   0.705065  0.669563  0.635362  0.600799  0.562687  0.522470\n",
       "8   0.967109  0.962696  0.957856  0.952743  0.946943  0.940751\n",
       "9   0.895390  0.882684  0.868503  0.854008  0.841344  0.828639\n",
       "10  0.724474  0.692316  0.655203  0.619932  0.584410  0.545057\n",
       "11  0.784401  0.768615  0.753380  0.734928  0.714231  0.691720\n",
       "12  0.795648  0.772208  0.748059  0.721778  0.701095  0.679975\n",
       "13  0.716932  0.624066  0.530835  0.445061  0.367137  0.298071\n",
       "14  0.695020  0.678809  0.663635  0.647651  0.631471  0.613773\n",
       "15  0.982632  0.980228  0.977405  0.974371  0.971183  0.967573\n",
       "16  0.719228  0.163670  0.039920  0.008032  0.001433  0.000225\n",
       "17  0.554041  0.362124  0.223175  0.131451  0.073698  0.038155\n",
       "18  0.962819  0.921027  0.878863  0.836422  0.790648  0.742324\n",
       "19  0.951044  0.947116  0.943194  0.938348  0.932775  0.926661"
      ]
     },
     "execution_count": 265,
     "metadata": {},
     "output_type": "execute_result"
    }
   ],
   "source": [
    "pred_survfcn = pd.DataFrame(np.exp(-np.multiply(c_0.values,phaz_20.values)))"
   ]
  },
  {
   "cell_type": "markdown",
   "metadata": {},
   "source": [
    "# now look at Confidence intervals"
   ]
  },
  {
   "cell_type": "code",
   "execution_count": null,
   "metadata": {
    "collapsed": true
   },
   "outputs": [],
   "source": [
    "s_cf4.confidence_intervals_"
   ]
  },
  {
   "cell_type": "code",
   "execution_count": 280,
   "metadata": {
    "collapsed": false
   },
   "outputs": [],
   "source": [
    "ci_tmp = predict_partial_hazard_ci(s_cf4,take20[sep_features])"
   ]
  },
  {
   "cell_type": "code",
   "execution_count": 328,
   "metadata": {
    "collapsed": true
   },
   "outputs": [
    {
     "data": {
      "text/html": [
       "<div>\n",
       "<table border=\"1\" class=\"dataframe\">\n",
       "  <thead>\n",
       "    <tr style=\"text-align: right;\">\n",
       "      <th></th>\n",
       "      <th>upperbound</th>\n",
       "      <th>lowerbound</th>\n",
       "    </tr>\n",
       "  </thead>\n",
       "  <tbody>\n",
       "    <tr>\n",
       "      <th>25915</th>\n",
       "      <td>20.550737</td>\n",
       "      <td>19.102176</td>\n",
       "    </tr>\n",
       "    <tr>\n",
       "      <th>129486</th>\n",
       "      <td>4.896158</td>\n",
       "      <td>4.403866</td>\n",
       "    </tr>\n",
       "    <tr>\n",
       "      <th>14289</th>\n",
       "      <td>0.644551</td>\n",
       "      <td>0.666662</td>\n",
       "    </tr>\n",
       "    <tr>\n",
       "      <th>29041</th>\n",
       "      <td>0.283798</td>\n",
       "      <td>0.295963</td>\n",
       "    </tr>\n",
       "    <tr>\n",
       "      <th>48029</th>\n",
       "      <td>2.263011</td>\n",
       "      <td>1.888578</td>\n",
       "    </tr>\n",
       "    <tr>\n",
       "      <th>59412</th>\n",
       "      <td>0.093954</td>\n",
       "      <td>0.113100</td>\n",
       "    </tr>\n",
       "    <tr>\n",
       "      <th>65674</th>\n",
       "      <td>7.620644</td>\n",
       "      <td>6.747797</td>\n",
       "    </tr>\n",
       "    <tr>\n",
       "      <th>65872</th>\n",
       "      <td>0.982166</td>\n",
       "      <td>0.931625</td>\n",
       "    </tr>\n",
       "    <tr>\n",
       "      <th>70843</th>\n",
       "      <td>0.079997</td>\n",
       "      <td>0.088426</td>\n",
       "    </tr>\n",
       "    <tr>\n",
       "      <th>46577</th>\n",
       "      <td>0.193766</td>\n",
       "      <td>0.224393</td>\n",
       "    </tr>\n",
       "    <tr>\n",
       "      <th>86579</th>\n",
       "      <td>1.018213</td>\n",
       "      <td>0.992858</td>\n",
       "    </tr>\n",
       "    <tr>\n",
       "      <th>93871</th>\n",
       "      <td>0.251727</td>\n",
       "      <td>0.248880</td>\n",
       "    </tr>\n",
       "    <tr>\n",
       "      <th>33172</th>\n",
       "      <td>0.405379</td>\n",
       "      <td>0.435304</td>\n",
       "    </tr>\n",
       "    <tr>\n",
       "      <th>16453</th>\n",
       "      <td>7.685024</td>\n",
       "      <td>6.040811</td>\n",
       "    </tr>\n",
       "    <tr>\n",
       "      <th>61976</th>\n",
       "      <td>0.110006</td>\n",
       "      <td>0.117695</td>\n",
       "    </tr>\n",
       "    <tr>\n",
       "      <th>15198</th>\n",
       "      <td>0.048464</td>\n",
       "      <td>0.064410</td>\n",
       "    </tr>\n",
       "    <tr>\n",
       "      <th>86363</th>\n",
       "      <td>89.589648</td>\n",
       "      <td>65.057637</td>\n",
       "    </tr>\n",
       "    <tr>\n",
       "      <th>2107</th>\n",
       "      <td>27.557297</td>\n",
       "      <td>19.388011</td>\n",
       "    </tr>\n",
       "    <tr>\n",
       "      <th>74693</th>\n",
       "      <td>2.421179</td>\n",
       "      <td>2.235241</td>\n",
       "    </tr>\n",
       "    <tr>\n",
       "      <th>85838</th>\n",
       "      <td>0.043228</td>\n",
       "      <td>0.061524</td>\n",
       "    </tr>\n",
       "  </tbody>\n",
       "</table>\n",
       "</div>"
      ],
      "text/plain": [
       "        upperbound  lowerbound\n",
       "25915    20.550737   19.102176\n",
       "129486    4.896158    4.403866\n",
       "14289     0.644551    0.666662\n",
       "29041     0.283798    0.295963\n",
       "48029     2.263011    1.888578\n",
       "59412     0.093954    0.113100\n",
       "65674     7.620644    6.747797\n",
       "65872     0.982166    0.931625\n",
       "70843     0.079997    0.088426\n",
       "46577     0.193766    0.224393\n",
       "86579     1.018213    0.992858\n",
       "93871     0.251727    0.248880\n",
       "33172     0.405379    0.435304\n",
       "16453     7.685024    6.040811\n",
       "61976     0.110006    0.117695\n",
       "15198     0.048464    0.064410\n",
       "86363    89.589648   65.057637\n",
       "2107     27.557297   19.388011\n",
       "74693     2.421179    2.235241\n",
       "85838     0.043228    0.061524"
      ]
     },
     "execution_count": 328,
     "metadata": {},
     "output_type": "execute_result"
    }
   ],
   "source": [
    "ci_tmp"
   ]
  },
  {
   "cell_type": "code",
   "execution_count": 307,
   "metadata": {
    "collapsed": false
   },
   "outputs": [
    {
     "data": {
      "text/html": [
       "<div>\n",
       "<table border=\"1\" class=\"dataframe\">\n",
       "  <thead>\n",
       "    <tr style=\"text-align: right;\">\n",
       "      <th></th>\n",
       "      <th>upperbound</th>\n",
       "      <th>lowerbound</th>\n",
       "    </tr>\n",
       "  </thead>\n",
       "  <tbody>\n",
       "    <tr>\n",
       "      <th>25915</th>\n",
       "      <td>20.550737</td>\n",
       "      <td>19.102176</td>\n",
       "    </tr>\n",
       "    <tr>\n",
       "      <th>129486</th>\n",
       "      <td>4.896158</td>\n",
       "      <td>4.403866</td>\n",
       "    </tr>\n",
       "    <tr>\n",
       "      <th>14289</th>\n",
       "      <td>0.644551</td>\n",
       "      <td>0.666662</td>\n",
       "    </tr>\n",
       "    <tr>\n",
       "      <th>29041</th>\n",
       "      <td>0.283798</td>\n",
       "      <td>0.295963</td>\n",
       "    </tr>\n",
       "    <tr>\n",
       "      <th>48029</th>\n",
       "      <td>2.263011</td>\n",
       "      <td>1.888578</td>\n",
       "    </tr>\n",
       "  </tbody>\n",
       "</table>\n",
       "</div>"
      ],
      "text/plain": [
       "        upperbound  lowerbound\n",
       "25915    20.550737   19.102176\n",
       "129486    4.896158    4.403866\n",
       "14289     0.644551    0.666662\n",
       "29041     0.283798    0.295963\n",
       "48029     2.263011    1.888578"
      ]
     },
     "execution_count": 307,
     "metadata": {},
     "output_type": "execute_result"
    }
   ],
   "source": [
    "ci_tmp.head()"
   ]
  },
  {
   "cell_type": "raw",
   "metadata": {},
   "source": [
    "phaz_20.head()"
   ]
  },
  {
   "cell_type": "code",
   "execution_count": 309,
   "metadata": {
    "collapsed": false
   },
   "outputs": [
    {
     "data": {
      "text/html": [
       "<div>\n",
       "<table border=\"1\" class=\"dataframe\">\n",
       "  <thead>\n",
       "    <tr style=\"text-align: right;\">\n",
       "      <th></th>\n",
       "      <th>time_point_0</th>\n",
       "      <th>time_point_1</th>\n",
       "      <th>time_point_2</th>\n",
       "      <th>time_point_3</th>\n",
       "      <th>time_point_4</th>\n",
       "      <th>time_point_5</th>\n",
       "    </tr>\n",
       "  </thead>\n",
       "  <tbody>\n",
       "    <tr>\n",
       "      <th>25915</th>\n",
       "      <td>0.011847</td>\n",
       "      <td>0.031493</td>\n",
       "      <td>0.051023</td>\n",
       "      <td>0.071595</td>\n",
       "      <td>0.095443</td>\n",
       "      <td>0.121651</td>\n",
       "    </tr>\n",
       "    <tr>\n",
       "      <th>129486</th>\n",
       "      <td>0.049147</td>\n",
       "      <td>0.069708</td>\n",
       "      <td>0.093319</td>\n",
       "      <td>0.119291</td>\n",
       "      <td>0.147752</td>\n",
       "      <td>0.178041</td>\n",
       "    </tr>\n",
       "    <tr>\n",
       "      <th>14289</th>\n",
       "      <td>0.314926</td>\n",
       "      <td>0.358931</td>\n",
       "      <td>0.411901</td>\n",
       "      <td>0.466326</td>\n",
       "      <td>0.525911</td>\n",
       "      <td>0.592715</td>\n",
       "    </tr>\n",
       "    <tr>\n",
       "      <th>29041</th>\n",
       "      <td>0.635700</td>\n",
       "      <td>0.711051</td>\n",
       "      <td>0.793926</td>\n",
       "      <td>0.864012</td>\n",
       "      <td>0.938826</td>\n",
       "      <td>1.018110</td>\n",
       "    </tr>\n",
       "    <tr>\n",
       "      <th>48029</th>\n",
       "      <td>1.351215</td>\n",
       "      <td>1.481335</td>\n",
       "      <td>1.621135</td>\n",
       "      <td>1.754134</td>\n",
       "      <td>1.881869</td>\n",
       "      <td>2.000820</td>\n",
       "    </tr>\n",
       "  </tbody>\n",
       "</table>\n",
       "</div>"
      ],
      "text/plain": [
       "        time_point_0  time_point_1  time_point_2  time_point_3  time_point_4  \\\n",
       "25915       0.011847      0.031493      0.051023      0.071595      0.095443   \n",
       "129486      0.049147      0.069708      0.093319      0.119291      0.147752   \n",
       "14289       0.314926      0.358931      0.411901      0.466326      0.525911   \n",
       "29041       0.635700      0.711051      0.793926      0.864012      0.938826   \n",
       "48029       1.351215      1.481335      1.621135      1.754134      1.881869   \n",
       "\n",
       "        time_point_5  \n",
       "25915       0.121651  \n",
       "129486      0.178041  \n",
       "14289       0.592715  \n",
       "29041       1.018110  \n",
       "48029       2.000820  "
      ]
     },
     "execution_count": 309,
     "metadata": {},
     "output_type": "execute_result"
    }
   ],
   "source": [
    "c_0.head()"
   ]
  },
  {
   "cell_type": "code",
   "execution_count": 322,
   "metadata": {
    "collapsed": false
   },
   "outputs": [],
   "source": [
    "#np.multiply(ci_tmp.values.T,c_0.values)\n",
    "t20_ubci = pd.DataFrame(np.exp(-np.multiply(c_0.values.T,ci_tmp.values[:,0])),columns=c_0.index).T"
   ]
  },
  {
   "cell_type": "code",
   "execution_count": 321,
   "metadata": {
    "collapsed": false
   },
   "outputs": [],
   "source": [
    "t20_lbci =pd.DataFrame(np.exp(-np.multiply(c_0.values.T,ci_tmp.values[:,1])),columns=c_0.index).T"
   ]
  },
  {
   "cell_type": "code",
   "execution_count": 329,
   "metadata": {
    "collapsed": false
   },
   "outputs": [],
   "source": [
    "def calculate_specific_survival_function_ci(mdl, df):\n",
    "    # calculate the predicted hazard\n",
    "    partial_hazard_ci = predict_partial_hazard_ci(mdl,df)\n",
    "    # asign the specific timepoints and calculate the cumulative hazards at these points\n",
    "    rtp_df = identify_time_points(mdl, df)\n",
    "    specific_cumulative_hazards_ci =  rtp_df.applymap(lambda x: return_desired_cumulative_hazards(x))\n",
    "    my_index = specific_cumulative_hazards_ci.index\n",
    "    surv_lbci = pd.DataFrame(np.exp(-np.multiply(specific_cumulative_hazards_ci.values,\n",
    "                                                 specific_hazards_ci.values[:,1])),columns=my_index).T\n",
    "    surv_ubci = pd.DataFrame(np.exp(-np.multiply(specific_cumulative_hazards.values,\n",
    "                                                 specific_hazards_ci.values[:,0])),columns=my_index).T\n",
    "    return surv_lbci,surv_ubci\n",
    "\n",
    "\n"
   ]
  },
  {
   "cell_type": "code",
   "execution_count": 339,
   "metadata": {
    "collapsed": false
   },
   "outputs": [
    {
     "data": {
      "text/html": [
       "<div>\n",
       "<table border=\"1\" class=\"dataframe\">\n",
       "  <thead>\n",
       "    <tr style=\"text-align: right;\">\n",
       "      <th></th>\n",
       "      <th>0</th>\n",
       "      <th>1</th>\n",
       "      <th>2</th>\n",
       "      <th>3</th>\n",
       "      <th>4</th>\n",
       "      <th>5</th>\n",
       "    </tr>\n",
       "  </thead>\n",
       "  <tbody>\n",
       "    <tr>\n",
       "      <th>25915</th>\n",
       "      <td>0.797483</td>\n",
       "      <td>0.547942</td>\n",
       "      <td>0.377321</td>\n",
       "      <td>0.254712</td>\n",
       "      <td>0.161512</td>\n",
       "      <td>0.097901</td>\n",
       "    </tr>\n",
       "    <tr>\n",
       "      <th>129486</th>\n",
       "      <td>0.805384</td>\n",
       "      <td>0.735663</td>\n",
       "      <td>0.663009</td>\n",
       "      <td>0.591353</td>\n",
       "      <td>0.521691</td>\n",
       "      <td>0.456545</td>\n",
       "    </tr>\n",
       "    <tr>\n",
       "      <th>14289</th>\n",
       "      <td>0.810625</td>\n",
       "      <td>0.787190</td>\n",
       "      <td>0.759877</td>\n",
       "      <td>0.732801</td>\n",
       "      <td>0.704262</td>\n",
       "      <td>0.673586</td>\n",
       "    </tr>\n",
       "    <tr>\n",
       "      <th>29041</th>\n",
       "      <td>0.828495</td>\n",
       "      <td>0.810224</td>\n",
       "      <td>0.790592</td>\n",
       "      <td>0.774362</td>\n",
       "      <td>0.757404</td>\n",
       "      <td>0.739839</td>\n",
       "    </tr>\n",
       "    <tr>\n",
       "      <th>48029</th>\n",
       "      <td>0.077935</td>\n",
       "      <td>0.060955</td>\n",
       "      <td>0.046811</td>\n",
       "      <td>0.036413</td>\n",
       "      <td>0.028608</td>\n",
       "      <td>0.022852</td>\n",
       "    </tr>\n",
       "    <tr>\n",
       "      <th>59412</th>\n",
       "      <td>0.871841</td>\n",
       "      <td>0.860797</td>\n",
       "      <td>0.849131</td>\n",
       "      <td>0.835254</td>\n",
       "      <td>0.822517</td>\n",
       "      <td>0.811668</td>\n",
       "    </tr>\n",
       "    <tr>\n",
       "      <th>65674</th>\n",
       "      <td>0.628422</td>\n",
       "      <td>0.535464</td>\n",
       "      <td>0.449481</td>\n",
       "      <td>0.371394</td>\n",
       "      <td>0.302454</td>\n",
       "      <td>0.245641</td>\n",
       "    </tr>\n",
       "    <tr>\n",
       "      <th>65872</th>\n",
       "      <td>0.711518</td>\n",
       "      <td>0.676602</td>\n",
       "      <td>0.642919</td>\n",
       "      <td>0.608832</td>\n",
       "      <td>0.571185</td>\n",
       "      <td>0.531388</td>\n",
       "    </tr>\n",
       "    <tr>\n",
       "      <th>70843</th>\n",
       "      <td>0.965449</td>\n",
       "      <td>0.960818</td>\n",
       "      <td>0.955740</td>\n",
       "      <td>0.950377</td>\n",
       "      <td>0.944295</td>\n",
       "      <td>0.937804</td>\n",
       "    </tr>\n",
       "    <tr>\n",
       "      <th>46577</th>\n",
       "      <td>0.887890</td>\n",
       "      <td>0.874338</td>\n",
       "      <td>0.859231</td>\n",
       "      <td>0.843809</td>\n",
       "      <td>0.830351</td>\n",
       "      <td>0.816865</td>\n",
       "    </tr>\n",
       "    <tr>\n",
       "      <th>86579</th>\n",
       "      <td>0.727405</td>\n",
       "      <td>0.695513</td>\n",
       "      <td>0.658683</td>\n",
       "      <td>0.623657</td>\n",
       "      <td>0.588356</td>\n",
       "      <td>0.549217</td>\n",
       "    </tr>\n",
       "    <tr>\n",
       "      <th>93871</th>\n",
       "      <td>0.785482</td>\n",
       "      <td>0.769763</td>\n",
       "      <td>0.754591</td>\n",
       "      <td>0.736213</td>\n",
       "      <td>0.715596</td>\n",
       "      <td>0.693167</td>\n",
       "    </tr>\n",
       "    <tr>\n",
       "      <th>33172</th>\n",
       "      <td>0.789081</td>\n",
       "      <td>0.765005</td>\n",
       "      <td>0.740229</td>\n",
       "      <td>0.713297</td>\n",
       "      <td>0.692127</td>\n",
       "      <td>0.670534</td>\n",
       "    </tr>\n",
       "    <tr>\n",
       "      <th>16453</th>\n",
       "      <td>0.744505</td>\n",
       "      <td>0.658344</td>\n",
       "      <td>0.570362</td>\n",
       "      <td>0.487855</td>\n",
       "      <td>0.411319</td>\n",
       "      <td>0.341928</td>\n",
       "    </tr>\n",
       "    <tr>\n",
       "      <th>61976</th>\n",
       "      <td>0.686386</td>\n",
       "      <td>0.669833</td>\n",
       "      <td>0.654351</td>\n",
       "      <td>0.638056</td>\n",
       "      <td>0.621575</td>\n",
       "      <td>0.603565</td>\n",
       "    </tr>\n",
       "    <tr>\n",
       "      <th>15198</th>\n",
       "      <td>0.980004</td>\n",
       "      <td>0.977240</td>\n",
       "      <td>0.973997</td>\n",
       "      <td>0.970512</td>\n",
       "      <td>0.966853</td>\n",
       "      <td>0.962711</td>\n",
       "    </tr>\n",
       "    <tr>\n",
       "      <th>86363</th>\n",
       "      <td>0.755140</td>\n",
       "      <td>0.213884</td>\n",
       "      <td>0.064268</td>\n",
       "      <td>0.016391</td>\n",
       "      <td>0.003772</td>\n",
       "      <td>0.000779</td>\n",
       "    </tr>\n",
       "    <tr>\n",
       "      <th>2107</th>\n",
       "      <td>0.609380</td>\n",
       "      <td>0.426558</td>\n",
       "      <td>0.284221</td>\n",
       "      <td>0.182321</td>\n",
       "      <td>0.112213</td>\n",
       "      <td>0.064600</td>\n",
       "    </tr>\n",
       "    <tr>\n",
       "      <th>74693</th>\n",
       "      <td>0.964249</td>\n",
       "      <td>0.924000</td>\n",
       "      <td>0.883319</td>\n",
       "      <td>0.842294</td>\n",
       "      <td>0.797956</td>\n",
       "      <td>0.751038</td>\n",
       "    </tr>\n",
       "    <tr>\n",
       "      <th>85838</th>\n",
       "      <td>0.941876</td>\n",
       "      <td>0.937237</td>\n",
       "      <td>0.932608</td>\n",
       "      <td>0.926894</td>\n",
       "      <td>0.920330</td>\n",
       "      <td>0.913138</td>\n",
       "    </tr>\n",
       "  </tbody>\n",
       "</table>\n",
       "</div>"
      ],
      "text/plain": [
       "               0         1         2         3         4         5\n",
       "25915   0.797483  0.547942  0.377321  0.254712  0.161512  0.097901\n",
       "129486  0.805384  0.735663  0.663009  0.591353  0.521691  0.456545\n",
       "14289   0.810625  0.787190  0.759877  0.732801  0.704262  0.673586\n",
       "29041   0.828495  0.810224  0.790592  0.774362  0.757404  0.739839\n",
       "48029   0.077935  0.060955  0.046811  0.036413  0.028608  0.022852\n",
       "59412   0.871841  0.860797  0.849131  0.835254  0.822517  0.811668\n",
       "65674   0.628422  0.535464  0.449481  0.371394  0.302454  0.245641\n",
       "65872   0.711518  0.676602  0.642919  0.608832  0.571185  0.531388\n",
       "70843   0.965449  0.960818  0.955740  0.950377  0.944295  0.937804\n",
       "46577   0.887890  0.874338  0.859231  0.843809  0.830351  0.816865\n",
       "86579   0.727405  0.695513  0.658683  0.623657  0.588356  0.549217\n",
       "93871   0.785482  0.769763  0.754591  0.736213  0.715596  0.693167\n",
       "33172   0.789081  0.765005  0.740229  0.713297  0.692127  0.670534\n",
       "16453   0.744505  0.658344  0.570362  0.487855  0.411319  0.341928\n",
       "61976   0.686386  0.669833  0.654351  0.638056  0.621575  0.603565\n",
       "15198   0.980004  0.977240  0.973997  0.970512  0.966853  0.962711\n",
       "86363   0.755140  0.213884  0.064268  0.016391  0.003772  0.000779\n",
       "2107    0.609380  0.426558  0.284221  0.182321  0.112213  0.064600\n",
       "74693   0.964249  0.924000  0.883319  0.842294  0.797956  0.751038\n",
       "85838   0.941876  0.937237  0.932608  0.926894  0.920330  0.913138"
      ]
     },
     "execution_count": 339,
     "metadata": {},
     "output_type": "execute_result"
    }
   ],
   "source": [
    "t20_lbci"
   ]
  },
  {
   "cell_type": "code",
   "execution_count": 327,
   "metadata": {
    "collapsed": false
   },
   "outputs": [
    {
     "name": "stderr",
     "output_type": "stream",
     "text": [
      "C:\\Anaconda\\lib\\site-packages\\ipykernel\\__main__.py:1: FutureWarning: \n",
      "The default value for 'return_type' will change to 'axes' in a future release.\n",
      " To use the future behavior now, set return_type='axes'.\n",
      " To keep the previous behavior and silence this warning, set return_type='dict'.\n",
      "  if __name__ == '__main__':\n"
     ]
    },
    {
     "data": {
      "text/plain": [
       "{'boxes': [<matplotlib.lines.Line2D at 0x17760160>,\n",
       "  <matplotlib.lines.Line2D at 0x1777ba20>,\n",
       "  <matplotlib.lines.Line2D at 0x177a5630>,\n",
       "  <matplotlib.lines.Line2D at 0x122ed240>,\n",
       "  <matplotlib.lines.Line2D at 0x1230ae10>,\n",
       "  <matplotlib.lines.Line2D at 0x10a9fc88>],\n",
       " 'caps': [<matplotlib.lines.Line2D at 0x17760e80>,\n",
       "  <matplotlib.lines.Line2D at 0x1776e438>,\n",
       "  <matplotlib.lines.Line2D at 0x1778ca90>,\n",
       "  <matplotlib.lines.Line2D at 0x17797048>,\n",
       "  <matplotlib.lines.Line2D at 0x122d46a0>,\n",
       "  <matplotlib.lines.Line2D at 0x122d4c18>,\n",
       "  <matplotlib.lines.Line2D at 0x122fc2b0>,\n",
       "  <matplotlib.lines.Line2D at 0x122fc828>,\n",
       "  <matplotlib.lines.Line2D at 0x12316e80>,\n",
       "  <matplotlib.lines.Line2D at 0x12324438>,\n",
       "  <matplotlib.lines.Line2D at 0x19bb7eb8>,\n",
       "  <matplotlib.lines.Line2D at 0x12342198>],\n",
       " 'fliers': [<matplotlib.lines.Line2D at 0x1777b4e0>,\n",
       "  <matplotlib.lines.Line2D at 0x17797f28>,\n",
       "  <matplotlib.lines.Line2D at 0x122e1cc0>,\n",
       "  <matplotlib.lines.Line2D at 0x1230a8d0>,\n",
       "  <matplotlib.lines.Line2D at 0x123314e0>,\n",
       "  <matplotlib.lines.Line2D at 0x1234f240>],\n",
       " 'means': [<matplotlib.lines.Line2D at 0x1776ef28>,\n",
       "  <matplotlib.lines.Line2D at 0x17797b38>,\n",
       "  <matplotlib.lines.Line2D at 0x122e1748>,\n",
       "  <matplotlib.lines.Line2D at 0x1230a358>,\n",
       "  <matplotlib.lines.Line2D at 0x12324f28>,\n",
       "  <matplotlib.lines.Line2D at 0x12342c88>],\n",
       " 'medians': [<matplotlib.lines.Line2D at 0x1776e9b0>,\n",
       "  <matplotlib.lines.Line2D at 0x177975c0>,\n",
       "  <matplotlib.lines.Line2D at 0x122e11d0>,\n",
       "  <matplotlib.lines.Line2D at 0x122fcda0>,\n",
       "  <matplotlib.lines.Line2D at 0x123249b0>,\n",
       "  <matplotlib.lines.Line2D at 0x12342710>],\n",
       " 'whiskers': [<matplotlib.lines.Line2D at 0x17760320>,\n",
       "  <matplotlib.lines.Line2D at 0x17760908>,\n",
       "  <matplotlib.lines.Line2D at 0x1777bf98>,\n",
       "  <matplotlib.lines.Line2D at 0x1778c518>,\n",
       "  <matplotlib.lines.Line2D at 0x177a5ba8>,\n",
       "  <matplotlib.lines.Line2D at 0x122d4128>,\n",
       "  <matplotlib.lines.Line2D at 0x122ed7b8>,\n",
       "  <matplotlib.lines.Line2D at 0x122edcf8>,\n",
       "  <matplotlib.lines.Line2D at 0x123163c8>,\n",
       "  <matplotlib.lines.Line2D at 0x12316908>,\n",
       "  <matplotlib.lines.Line2D at 0x10a9fb70>,\n",
       "  <matplotlib.lines.Line2D at 0x10a930f0>]}"
      ]
     },
     "execution_count": 327,
     "metadata": {},
     "output_type": "execute_result"
    },
    {
     "data": {
      "image/png": "[encoded data removed]",
      "text/plain": [
       "<matplotlib.figure.Figure at 0x19bca0f0>"
      ]
     },
     "metadata": {},
     "output_type": "display_data"
    }
   ],
   "source": [
    "np.abs(t20_lbci-t20_ubci).boxplot(showmeans=True)"
   ]
  },
  {
   "cell_type": "code",
   "execution_count": 317,
   "metadata": {
    "collapsed": true
   },
   "outputs": [],
   "source": [
    "lb0 = [0.797483,0.547942,0.377321,0.254712,0.161512,0.097901]\n",
    "ub0 = [0.783915,0.523506,0.350439,0.229619,0.140657,0.082084]\n",
    "ub1=[0.805384,0.735663,0.663009,0.591353,0.521691,0.456545]\n",
    "lb1 =[0.786132,0.710846,0.633239,0.557625,0.485092,0.418233]"
   ]
  },
  {
   "cell_type": "code",
   "execution_count": 344,
   "metadata": {
    "collapsed": false
   },
   "outputs": [
    {
     "data": {
      "text/html": [
       "<div>\n",
       "<table border=\"1\" class=\"dataframe\">\n",
       "  <thead>\n",
       "    <tr style=\"text-align: right;\">\n",
       "      <th></th>\n",
       "      <th>0</th>\n",
       "      <th>1</th>\n",
       "      <th>2</th>\n",
       "      <th>3</th>\n",
       "      <th>4</th>\n",
       "      <th>5</th>\n",
       "    </tr>\n",
       "  </thead>\n",
       "  <tbody>\n",
       "    <tr>\n",
       "      <th>0</th>\n",
       "      <td>0.790794</td>\n",
       "      <td>0.535808</td>\n",
       "      <td>0.363877</td>\n",
       "      <td>0.242069</td>\n",
       "      <td>0.150915</td>\n",
       "      <td>0.089789</td>\n",
       "    </tr>\n",
       "    <tr>\n",
       "      <th>1</th>\n",
       "      <td>0.795955</td>\n",
       "      <td>0.723477</td>\n",
       "      <td>0.648348</td>\n",
       "      <td>0.574688</td>\n",
       "      <td>0.503543</td>\n",
       "      <td>0.437477</td>\n",
       "    </tr>\n",
       "    <tr>\n",
       "      <th>2</th>\n",
       "      <td>0.813476</td>\n",
       "      <td>0.790346</td>\n",
       "      <td>0.763374</td>\n",
       "      <td>0.736620</td>\n",
       "      <td>0.708404</td>\n",
       "      <td>0.678051</td>\n",
       "    </tr>\n",
       "    <tr>\n",
       "      <th>3</th>\n",
       "      <td>0.831739</td>\n",
       "      <td>0.813772</td>\n",
       "      <td>0.794459</td>\n",
       "      <td>0.778485</td>\n",
       "      <td>0.761787</td>\n",
       "      <td>0.744483</td>\n",
       "    </tr>\n",
       "    <tr>\n",
       "      <th>4</th>\n",
       "      <td>0.061212</td>\n",
       "      <td>0.046775</td>\n",
       "      <td>0.035034</td>\n",
       "      <td>0.026612</td>\n",
       "      <td>0.020436</td>\n",
       "      <td>0.015981</td>\n",
       "    </tr>\n",
       "  </tbody>\n",
       "</table>\n",
       "</div>"
      ],
      "text/plain": [
       "          0         1         2         3         4         5\n",
       "0  0.790794  0.535808  0.363877  0.242069  0.150915  0.089789\n",
       "1  0.795955  0.723477  0.648348  0.574688  0.503543  0.437477\n",
       "2  0.813476  0.790346  0.763374  0.736620  0.708404  0.678051\n",
       "3  0.831739  0.813772  0.794459  0.778485  0.761787  0.744483\n",
       "4  0.061212  0.046775  0.035034  0.026612  0.020436  0.015981"
      ]
     },
     "execution_count": 344,
     "metadata": {},
     "output_type": "execute_result"
    }
   ],
   "source": [
    "pred_survfcn.head()"
   ]
  },
  {
   "cell_type": "code",
   "execution_count": 318,
   "metadata": {
    "collapsed": false
   },
   "outputs": [
    {
     "data": {
      "text/plain": [
       "<matplotlib.text.Text at 0x19a019e8>"
      ]
     },
     "execution_count": 318,
     "metadata": {},
     "output_type": "execute_result"
    },
    {
     "data": {
      "image/png": "[encoded data removed]",
      "text/plain": [
       "<matplotlib.figure.Figure at 0x199e8240>"
      ]
     },
     "metadata": {},
     "output_type": "display_data"
    }
   ],
   "source": [
    "pred_survfcn.T.ix[:,:1].plot()\n",
    "plt.plot(np.arange(0,6),lb0,ls=':',color='steelblue')\n",
    "plt.plot(np.arange(0,6),ub0,ls=':',color='midnightblue')\n",
    "plt.plot(np.arange(0,6),lb1,ls=':',color='forestgreen')\n",
    "plt.plot(np.arange(0,6),ub1,ls=':',color='chartreuse')\n",
    "\n",
    "plt.xlabel('years in the future')\n",
    "plt.ylabel('Survival Function')"
   ]
  },
  {
   "cell_type": "code",
   "execution_count": 319,
   "metadata": {
    "collapsed": false
   },
   "outputs": [
    {
     "name": "stdout",
     "output_type": "stream",
     "text": [
      "n=76368, number of events=31927\n",
      "\n",
      "                       coef  exp(coef)  se(coef)          z          p  lower 0.95  upper 0.95     \n",
      "Age_years        -9.386e-01  3.912e-01 1.023e-02 -9.175e+01  0.000e+00  -9.587e-01  -9.185e-01  ***\n",
      "SAL1             -1.115e+00  3.278e-01 1.479e-02 -7.539e+01  0.000e+00  -1.144e+00  -1.086e+00  ***\n",
      "MERIT1            2.742e-01  1.315e+00 6.343e-03  4.323e+01  0.000e+00   2.618e-01   2.866e-01  ***\n",
      "PERF1            -1.016e-01  9.034e-01 1.240e-02 -8.195e+00  2.514e-16  -1.259e-01  -7.730e-02  ***\n",
      "BOX1             -4.839e-01  6.164e-01 6.824e-03 -7.090e+01  0.000e+00  -4.972e-01  -4.705e-01  ***\n",
      "SEX               1.643e-01  1.179e+00 6.098e-03  2.695e+01 5.826e-160   1.524e-01   1.763e-01  ***\n",
      "HAVE_INS         -3.066e-01  7.359e-01 9.072e-03 -3.380e+01 1.975e-250  -3.244e-01  -2.888e-01  ***\n",
      "HAVE_DEP         -2.326e-01  7.925e-01 1.147e-02 -2.027e+01  2.258e-91  -2.550e-01  -2.101e-01  ***\n",
      "DEPTCNT1         -3.471e-01  7.068e-01 9.569e-03 -3.627e+01 4.495e-288  -3.658e-01  -3.283e-01  ***\n",
      "EXTFUNC_CNT       9.591e-02  1.101e+00 5.597e-03  1.713e+01  8.204e-66   8.494e-02   1.069e-01  ***\n",
      "FUNC_CNT         -1.504e-01  8.603e-01 8.158e-03 -1.844e+01  6.098e-76  -1.664e-01  -1.344e-01  ***\n",
      "REMOTE           -1.546e-01  8.567e-01 1.116e-02 -1.386e+01  1.179e-43  -1.765e-01  -1.328e-01  ***\n",
      "DIRECT_RPT_CNT    1.569e-01  1.170e+00 3.968e-03  3.955e+01  0.000e+00   1.491e-01   1.647e-01  ***\n",
      "HUBIND           -8.338e-02  9.200e-01 6.762e-03 -1.233e+01  6.280e-35  -9.663e-02  -7.012e-02  ***\n",
      "REH_CNT          -2.330e-01  7.921e-01 6.523e-03 -3.572e+01 1.758e-279  -2.458e-01  -2.202e-01  ***\n",
      "JOB_FUNCTION_PSA -7.550e-02  9.273e-01 6.798e-03 -1.111e+01  1.179e-28  -8.883e-02  -6.217e-02  ***\n",
      "---\n",
      "Signif. codes:  0 '***' 0.001 '**' 0.01 '*' 0.05 '.' 0.1 ' ' 1 \n",
      "\n",
      "Concordance = 0.887\n"
     ]
    }
   ],
   "source": [
    "s_cf4.print_summary()"
   ]
  },
  {
   "cell_type": "code",
   "execution_count": 349,
   "metadata": {
    "collapsed": false
   },
   "outputs": [],
   "source": [
    "mySF = pd.Panel(data={'sf': pred_survfcn,'lb': t20_lbci,'ub':t20_ubci})"
   ]
  },
  {
   "cell_type": "code",
   "execution_count": 351,
   "metadata": {
    "collapsed": false
   },
   "outputs": [
    {
     "data": {
      "text/plain": [
       "<class 'pandas.core.panel.Panel'>\n",
       "Dimensions: 3 (items) x 20 (major_axis) x 6 (minor_axis)\n",
       "Items axis: lb to ub\n",
       "Major_axis axis: 25915 to 85838\n",
       "Minor_axis axis: 0 to 5"
      ]
     },
     "execution_count": 351,
     "metadata": {},
     "output_type": "execute_result"
    }
   ],
   "source": [
    "mySF"
   ]
  },
  {
   "cell_type": "code",
   "execution_count": 354,
   "metadata": {
    "collapsed": false
   },
   "outputs": [
    {
     "data": {
      "text/html": [
       "<div>\n",
       "<table border=\"1\" class=\"dataframe\">\n",
       "  <thead>\n",
       "    <tr style=\"text-align: right;\">\n",
       "      <th></th>\n",
       "      <th>0</th>\n",
       "      <th>1</th>\n",
       "      <th>2</th>\n",
       "      <th>3</th>\n",
       "      <th>4</th>\n",
       "      <th>5</th>\n",
       "    </tr>\n",
       "  </thead>\n",
       "  <tbody>\n",
       "    <tr>\n",
       "      <th>25915</th>\n",
       "      <td>0.783915</td>\n",
       "      <td>0.523506</td>\n",
       "      <td>0.350439</td>\n",
       "      <td>0.229619</td>\n",
       "      <td>0.140657</td>\n",
       "      <td>0.082084</td>\n",
       "    </tr>\n",
       "    <tr>\n",
       "      <th>129486</th>\n",
       "      <td>0.786132</td>\n",
       "      <td>0.710846</td>\n",
       "      <td>0.633239</td>\n",
       "      <td>0.557625</td>\n",
       "      <td>0.485092</td>\n",
       "      <td>0.418233</td>\n",
       "    </tr>\n",
       "    <tr>\n",
       "      <th>14289</th>\n",
       "      <td>0.816290</td>\n",
       "      <td>0.793462</td>\n",
       "      <td>0.766829</td>\n",
       "      <td>0.740396</td>\n",
       "      <td>0.712499</td>\n",
       "      <td>0.682471</td>\n",
       "    </tr>\n",
       "    <tr>\n",
       "      <th>29041</th>\n",
       "      <td>0.834927</td>\n",
       "      <td>0.817262</td>\n",
       "      <td>0.798265</td>\n",
       "      <td>0.782544</td>\n",
       "      <td>0.766104</td>\n",
       "      <td>0.749059</td>\n",
       "    </tr>\n",
       "    <tr>\n",
       "      <th>48029</th>\n",
       "      <td>0.046990</td>\n",
       "      <td>0.035005</td>\n",
       "      <td>0.025511</td>\n",
       "      <td>0.018881</td>\n",
       "      <td>0.014141</td>\n",
       "      <td>0.010804</td>\n",
       "    </tr>\n",
       "    <tr>\n",
       "      <th>59412</th>\n",
       "      <td>0.892319</td>\n",
       "      <td>0.882919</td>\n",
       "      <td>0.872968</td>\n",
       "      <td>0.861099</td>\n",
       "      <td>0.850177</td>\n",
       "      <td>0.840851</td>\n",
       "    </tr>\n",
       "    <tr>\n",
       "      <th>65674</th>\n",
       "      <td>0.591772</td>\n",
       "      <td>0.493902</td>\n",
       "      <td>0.405311</td>\n",
       "      <td>0.326732</td>\n",
       "      <td>0.259108</td>\n",
       "      <td>0.204850</td>\n",
       "    </tr>\n",
       "    <tr>\n",
       "      <th>65872</th>\n",
       "      <td>0.698501</td>\n",
       "      <td>0.662413</td>\n",
       "      <td>0.627695</td>\n",
       "      <td>0.592661</td>\n",
       "      <td>0.554092</td>\n",
       "      <td>0.513470</td>\n",
       "    </tr>\n",
       "    <tr>\n",
       "      <th>70843</th>\n",
       "      <td>0.968690</td>\n",
       "      <td>0.964486</td>\n",
       "      <td>0.959873</td>\n",
       "      <td>0.954999</td>\n",
       "      <td>0.949468</td>\n",
       "      <td>0.943562</td>\n",
       "    </tr>\n",
       "    <tr>\n",
       "      <th>46577</th>\n",
       "      <td>0.902417</td>\n",
       "      <td>0.890511</td>\n",
       "      <td>0.877209</td>\n",
       "      <td>0.863596</td>\n",
       "      <td>0.851689</td>\n",
       "      <td>0.839731</td>\n",
       "    </tr>\n",
       "    <tr>\n",
       "      <th>86579</th>\n",
       "      <td>0.721517</td>\n",
       "      <td>0.689093</td>\n",
       "      <td>0.651698</td>\n",
       "      <td>0.616183</td>\n",
       "      <td>0.580440</td>\n",
       "      <td>0.540876</td>\n",
       "    </tr>\n",
       "    <tr>\n",
       "      <th>93871</th>\n",
       "      <td>0.783315</td>\n",
       "      <td>0.767462</td>\n",
       "      <td>0.752164</td>\n",
       "      <td>0.733639</td>\n",
       "      <td>0.712861</td>\n",
       "      <td>0.690267</td>\n",
       "    </tr>\n",
       "    <tr>\n",
       "      <th>33172</th>\n",
       "      <td>0.802036</td>\n",
       "      <td>0.779223</td>\n",
       "      <td>0.755694</td>\n",
       "      <td>0.730058</td>\n",
       "      <td>0.709859</td>\n",
       "      <td>0.689212</td>\n",
       "    </tr>\n",
       "    <tr>\n",
       "      <th>16453</th>\n",
       "      <td>0.687055</td>\n",
       "      <td>0.587541</td>\n",
       "      <td>0.489529</td>\n",
       "      <td>0.401281</td>\n",
       "      <td>0.322972</td>\n",
       "      <td>0.255317</td>\n",
       "    </tr>\n",
       "    <tr>\n",
       "      <th>61976</th>\n",
       "      <td>0.703470</td>\n",
       "      <td>0.687601</td>\n",
       "      <td>0.672736</td>\n",
       "      <td>0.657065</td>\n",
       "      <td>0.641188</td>\n",
       "      <td>0.623806</td>\n",
       "    </tr>\n",
       "    <tr>\n",
       "      <th>15198</th>\n",
       "      <td>0.984917</td>\n",
       "      <td>0.982826</td>\n",
       "      <td>0.980371</td>\n",
       "      <td>0.977731</td>\n",
       "      <td>0.974955</td>\n",
       "      <td>0.971811</td>\n",
       "    </tr>\n",
       "    <tr>\n",
       "      <th>86363</th>\n",
       "      <td>0.679257</td>\n",
       "      <td>0.119564</td>\n",
       "      <td>0.022830</td>\n",
       "      <td>0.003478</td>\n",
       "      <td>0.000460</td>\n",
       "      <td>0.000052</td>\n",
       "    </tr>\n",
       "    <tr>\n",
       "      <th>2107</th>\n",
       "      <td>0.494594</td>\n",
       "      <td>0.297897</td>\n",
       "      <td>0.167282</td>\n",
       "      <td>0.088999</td>\n",
       "      <td>0.044645</td>\n",
       "      <td>0.020367</td>\n",
       "    </tr>\n",
       "    <tr>\n",
       "      <th>74693</th>\n",
       "      <td>0.961333</td>\n",
       "      <td>0.917944</td>\n",
       "      <td>0.874250</td>\n",
       "      <td>0.830354</td>\n",
       "      <td>0.783114</td>\n",
       "      <td>0.733362</td>\n",
       "    </tr>\n",
       "    <tr>\n",
       "      <th>85838</th>\n",
       "      <td>0.958798</td>\n",
       "      <td>0.955478</td>\n",
       "      <td>0.952160</td>\n",
       "      <td>0.948058</td>\n",
       "      <td>0.943335</td>\n",
       "      <td>0.938150</td>\n",
       "    </tr>\n",
       "  </tbody>\n",
       "</table>\n",
       "</div>"
      ],
      "text/plain": [
       "               0         1         2         3         4         5\n",
       "25915   0.783915  0.523506  0.350439  0.229619  0.140657  0.082084\n",
       "129486  0.786132  0.710846  0.633239  0.557625  0.485092  0.418233\n",
       "14289   0.816290  0.793462  0.766829  0.740396  0.712499  0.682471\n",
       "29041   0.834927  0.817262  0.798265  0.782544  0.766104  0.749059\n",
       "48029   0.046990  0.035005  0.025511  0.018881  0.014141  0.010804\n",
       "59412   0.892319  0.882919  0.872968  0.861099  0.850177  0.840851\n",
       "65674   0.591772  0.493902  0.405311  0.326732  0.259108  0.204850\n",
       "65872   0.698501  0.662413  0.627695  0.592661  0.554092  0.513470\n",
       "70843   0.968690  0.964486  0.959873  0.954999  0.949468  0.943562\n",
       "46577   0.902417  0.890511  0.877209  0.863596  0.851689  0.839731\n",
       "86579   0.721517  0.689093  0.651698  0.616183  0.580440  0.540876\n",
       "93871   0.783315  0.767462  0.752164  0.733639  0.712861  0.690267\n",
       "33172   0.802036  0.779223  0.755694  0.730058  0.709859  0.689212\n",
       "16453   0.687055  0.587541  0.489529  0.401281  0.322972  0.255317\n",
       "61976   0.703470  0.687601  0.672736  0.657065  0.641188  0.623806\n",
       "15198   0.984917  0.982826  0.980371  0.977731  0.974955  0.971811\n",
       "86363   0.679257  0.119564  0.022830  0.003478  0.000460  0.000052\n",
       "2107    0.494594  0.297897  0.167282  0.088999  0.044645  0.020367\n",
       "74693   0.961333  0.917944  0.874250  0.830354  0.783114  0.733362\n",
       "85838   0.958798  0.955478  0.952160  0.948058  0.943335  0.938150"
      ]
     },
     "execution_count": 354,
     "metadata": {},
     "output_type": "execute_result"
    }
   ],
   "source": [
    "mySF['ub']"
   ]
  },
  {
   "cell_type": "code",
   "execution_count": 362,
   "metadata": {
    "collapsed": false
   },
   "outputs": [
    {
     "data": {
      "text/plain": [
       "(0    4.760148\n",
       " 1    6.277503\n",
       " 2    7.230499\n",
       " 3    7.978295\n",
       " 4    8.618387\n",
       " 5    9.187079\n",
       " dtype: float64, 0    4.631450\n",
       " 1    6.112631\n",
       " 2    7.089257\n",
       " 3    7.863202\n",
       " 4    8.525624\n",
       " 5    9.115235\n",
       " dtype: float64, 0    4.901753\n",
       " 1    6.441058\n",
       " 2    7.363946\n",
       " 3    8.085004\n",
       " 4    8.703144\n",
       " 5    9.251665\n",
       " dtype: float64)"
      ]
     },
     "execution_count": 362,
     "metadata": {},
     "output_type": "execute_result"
    }
   ],
   "source": [
    "(1-mySF['sf']).sum(axis=0), (1-mySF['lb']).sum(axis=0), (1-mySF['ub']).sum(axis=0)"
   ]
  },
  {
   "cell_type": "markdown",
   "metadata": {},
   "source": [
    "## evaluate for hold out set"
   ]
  },
  {
   "cell_type": "code",
   "execution_count": 363,
   "metadata": {
    "collapsed": true
   },
   "outputs": [],
   "source": [
    "ne2e_sf = calculate_specific_survival_function(s_cf4, ne2e)"
   ]
  },
  {
   "cell_type": "code",
   "execution_count": 394,
   "metadata": {
    "collapsed": false
   },
   "outputs": [],
   "source": [
    "def predict_partial_hazard_ci(mdl,X):\n",
    "    \"\"\"\n",
    "        X: a (n,d) covariate numpy array or DataFrame. If a DataFrame, columns\n",
    "            can be in any order. If a numpy array, columns must be in the\n",
    "            same order as the training data.        \n",
    "        If covariates were normalized during fitting, they are normalized\n",
    "        in the same way here.\n",
    "        If X is a dataframe, the order of the columns do not matter. But\n",
    "        if X is an array, then the column ordering is assumed to be the\n",
    "        same as the training dataset.\n",
    "        Returns the partial hazard for the individuals, partial since the\n",
    "        baseline hazard is not included. Equal to \\exp{\\beta X}\n",
    "    \"\"\"\n",
    "    #index = _get_index(X)\n",
    "\n",
    "    if isinstance(X, pd.DataFrame):\n",
    "        order = mdl.hazards_.columns\n",
    "        X = X[order]\n",
    "    \n",
    "    index = X.index\n",
    "    \n",
    "    if mdl.normalize:\n",
    "        X = lifelines.utils.normalize(X,mdl._norm_mean.values, mdl._norm_std.values)\n",
    "    \n",
    "    df = pd.DataFrame(np.exp(np.dot(X,mdl.confidence_intervals_.T)),index=index)\n",
    "    df.rename(columns = {0: 'lowerbound',1: 'upperbound'}, inplace=True)#columns.names = ['upperbound','lowerbound']\n",
    "    \n",
    "    return df"
   ]
  },
  {
   "cell_type": "code",
   "execution_count": 547,
   "metadata": {
    "collapsed": true
   },
   "outputs": [],
   "source": [
    "from scipy import interpolate\n",
    "\n",
    "def identify_forecast_timepoints(mdl, df, time_col, time_range ):\n",
    "    column_names = ['time_point_'+np.str(tp) for tp in time_range]\n",
    "    \n",
    "    my_index = df.index.tolist()\n",
    "    relevant_time_points = pd.DataFrame(columns=column_names, index=my_index)\n",
    "    for idx in my_index:\n",
    "        my_times = np.array([df.loc[idx,time_col]+tp for tp in time_range])\n",
    "        relevant_time_points.ix[idx] = my_times\n",
    "        \n",
    "    return relevant_time_points\n",
    "\n",
    "def return_desired_cumulative_hazards(mdl,t):\n",
    "    \"\"\"\n",
    "    t: an event time that is used as the base line to forecast forward in time\n",
    "    \"\"\"\n",
    "    #mdl = s_cf4\n",
    "    maxtimepoint = mdl.baseline_hazard_.index.max()\n",
    "    #except IndexError:\n",
    "    if t > maxtimepoint:\n",
    "        t = maxtimepoint # just set to the max value.\n",
    "    try: \n",
    "        spec_hazard = mdl.baseline_hazard_.ix[t].values\n",
    "        c_haz = mdl.baseline_cumulative_hazard_.ix[t].values[0]\n",
    "        #print spec_hazard, c_haz\n",
    "    except KeyError:\n",
    "        #t_1 = s_cf4.baseline_cumulative_hazard_\n",
    "        t_post = mdl.baseline_hazard_.ix[t:].index[0] # get the first after this point\n",
    "        t_prior = mdl.baseline_hazard_.ix[:t].index[-1] # get the last before this point\n",
    "        x = [t_prior, t_post]\n",
    "        y = [mdl.baseline_cumulative_hazard_.ix[t_prior].values[0],mdl.baseline_cumulative_hazard_.ix[t_post].values[0]]\n",
    "        #print x, y\n",
    "        chaz_interp = interpolate.interp1d([t_prior,t_post],y)\n",
    "        c_haz = chaz_interp(t)\n",
    "    \n",
    "    return c_haz\n",
    "\n",
    "\n",
    "\n",
    "def forecast_survival_function(mdl,df,time_col,time_range=[0,1,2,3,4,5],show_ci=True):\n",
    "    \n",
    "    #def calculate_specific_survival_function(mdl, df):\n",
    "    # calculate the predicted hazard\n",
    "    my_partial_hazard = mdl.predict_partial_hazard(df)\n",
    "    # asign the specific timepoints and calculate the cumulative hazards at these points\n",
    "    forecast_times = identify_forecast_timepoints(mdl, df, time_col, time_range)\n",
    "    specific_cumulative_hazards =  forecast_times.applymap(lambda x: return_desired_cumulative_hazards(mdl,x))\n",
    "    # predict the survival function at these forecasted times\n",
    "    \n",
    "    pred_survival_fcn = pd.DataFrame(np.exp(-np.multiply(specific_cumulative_hazards.values,\n",
    "                                                         my_partial_hazard.values)),index=df.index)\n",
    "    \n",
    "    if show_ci:\n",
    "        #def calculate_specific_survival_function_ci(mdl, df):\n",
    "        # calculate the predicted hazard\n",
    "        partial_hazard_ci = predict_partial_hazard_ci(mdl,df)\n",
    "        pred_lower_survival_ci = pd.DataFrame(np.exp(-np.multiply(specific_cumulative_hazards.values.T,\n",
    "                                                                  partial_hazard_ci.values[:,0])),columns=df.index).T\n",
    "        pred_upper_survival_ci = pd.DataFrame(np.exp(-np.multiply(specific_cumulative_hazards.values.T,\n",
    "                                                                  partial_hazard_ci.values[:,1])),columns=df.index).T\n",
    "        surv_prediction = pd.Panel(data={'surv':pred_survival_fcn, 'lbci':pred_lower_survival_ci,\n",
    "                                         'ubci':pred_upper_survival_ci})\n",
    "    else:\n",
    "        surv_prediction = pd.Panel(data={'surv':pred_survival_fcn, 'lbci':pred_survival_fcn,\n",
    "                                         'ubci':pred_survival_fcn})\n",
    "        \n",
    "    return surv_prediction\n",
    "    "
   ]
  },
  {
   "cell_type": "code",
   "execution_count": null,
   "metadata": {
    "collapsed": true
   },
   "outputs": [],
   "source": []
  },
  {
   "cell_type": "code",
   "execution_count": null,
   "metadata": {
    "collapsed": true
   },
   "outputs": [],
   "source": []
  },
  {
   "cell_type": "code",
   "execution_count": null,
   "metadata": {
    "collapsed": true
   },
   "outputs": [],
   "source": []
  },
  {
   "cell_type": "code",
   "execution_count": 380,
   "metadata": {
    "collapsed": false
   },
   "outputs": [],
   "source": [
    "pred_20 = forecast_survival_function(s_cf4,take20,'Tenure_years')"
   ]
  },
  {
   "cell_type": "code",
   "execution_count": 381,
   "metadata": {
    "collapsed": false
   },
   "outputs": [
    {
     "data": {
      "text/plain": [
       "<class 'pandas.core.panel.Panel'>\n",
       "Dimensions: 3 (items) x 20 (major_axis) x 6 (minor_axis)\n",
       "Items axis: lbci to ubci\n",
       "Major_axis axis: 25915 to 85838\n",
       "Minor_axis axis: 0 to 5"
      ]
     },
     "execution_count": 381,
     "metadata": {},
     "output_type": "execute_result"
    }
   ],
   "source": [
    "pred_20"
   ]
  },
  {
   "cell_type": "code",
   "execution_count": 397,
   "metadata": {
    "collapsed": false
   },
   "outputs": [
    {
     "data": {
      "text/plain": [
       "<matplotlib.axes._subplots.AxesSubplot at 0x16739128>"
      ]
     },
     "execution_count": 397,
     "metadata": {},
     "output_type": "execute_result"
    },
    {
     "data": {
      "image/png": "[encoded data removed]",
      "text/plain": [
       "<matplotlib.figure.Figure at 0x13324da0>"
      ]
     },
     "metadata": {},
     "output_type": "display_data"
    }
   ],
   "source": [
    "pred_20['surv'].ix[65872].plot()\n",
    "pred_20['lbci'].ix[65872].plot()\n",
    "pred_20['ubci'].ix[65872].plot()"
   ]
  },
  {
   "cell_type": "code",
   "execution_count": 391,
   "metadata": {
    "collapsed": false
   },
   "outputs": [
    {
     "data": {
      "text/plain": [
       "<matplotlib.axes._subplots.AxesSubplot at 0x16739518>"
      ]
     },
     "execution_count": 391,
     "metadata": {},
     "output_type": "execute_result"
    },
    {
     "data": {
      "image/png": "[encoded data removed]",
      "text/plain": [
       "<matplotlib.figure.Figure at 0x12fce7f0>"
      ]
     },
     "metadata": {},
     "output_type": "display_data"
    }
   ],
   "source": [
    "pred_20['surv'].ix[86363].plot()\n",
    "pred_20['lbci'].ix[86363].plot()\n",
    "pred_20['ubci'].ix[86363].plot()"
   ]
  },
  {
   "cell_type": "code",
   "execution_count": 399,
   "metadata": {
    "collapsed": false
   },
   "outputs": [
    {
     "data": {
      "text/plain": [
       "0    4.760148\n",
       "1    6.277503\n",
       "2    7.230499\n",
       "3    7.978295\n",
       "4    8.618387\n",
       "5    9.187079\n",
       "dtype: float64"
      ]
     },
     "execution_count": 399,
     "metadata": {},
     "output_type": "execute_result"
    }
   ],
   "source": [
    "(1-pred_20['surv']).sum(axis=0)"
   ]
  },
  {
   "cell_type": "code",
   "execution_count": 400,
   "metadata": {
    "collapsed": true
   },
   "outputs": [],
   "source": [
    "ne2e_pred = forecast_survival_function(s_cf4,ne2e,'Tenure_years')"
   ]
  },
  {
   "cell_type": "code",
   "execution_count": 401,
   "metadata": {
    "collapsed": false
   },
   "outputs": [
    {
     "data": {
      "text/plain": [
       "<class 'pandas.core.panel.Panel'>\n",
       "Dimensions: 3 (items) x 23866 (major_axis) x 6 (minor_axis)\n",
       "Items axis: lbci to ubci\n",
       "Major_axis axis: 25915 to 90507\n",
       "Minor_axis axis: 0 to 5"
      ]
     },
     "execution_count": 401,
     "metadata": {},
     "output_type": "execute_result"
    }
   ],
   "source": [
    "ne2e_pred"
   ]
  },
  {
   "cell_type": "code",
   "execution_count": 402,
   "metadata": {
    "collapsed": false
   },
   "outputs": [
    {
     "data": {
      "text/plain": [
       "0     6015.204421\n",
       "1     7703.050789\n",
       "2     8792.231214\n",
       "3     9670.360110\n",
       "4    10423.701529\n",
       "5    11087.701520\n",
       "dtype: float64"
      ]
     },
     "execution_count": 402,
     "metadata": {},
     "output_type": "execute_result"
    }
   ],
   "source": [
    "(1-ne2e_pred['surv']).sum(axis=0)"
   ]
  },
  {
   "cell_type": "code",
   "execution_count": 404,
   "metadata": {
    "collapsed": false
   },
   "outputs": [
    {
     "name": "stdout",
     "output_type": "stream",
     "text": [
      "lbci 0     6199.227522\n",
      "1     7902.991716\n",
      "2     8966.678506\n",
      "3     9815.634023\n",
      "4    10540.151091\n",
      "5    11176.887459\n",
      "dtype: float64\n",
      "surv 0     6015.204421\n",
      "1     7703.050789\n",
      "2     8792.231214\n",
      "3     9670.360110\n",
      "4    10423.701529\n",
      "5    11087.701520\n",
      "dtype: float64\n",
      "ubci 0     5839.181113\n",
      "1     7502.170237\n",
      "2     8612.200555\n",
      "3     9517.758816\n",
      "4    10299.588007\n",
      "5    10991.316645\n",
      "dtype: float64\n"
     ]
    }
   ],
   "source": [
    "for frame in ne2e_pred.items:\n",
    "    print frame, (1-ne2e_pred[frame]).sum(axis=0)"
   ]
  },
  {
   "cell_type": "code",
   "execution_count": 636,
   "metadata": {
    "collapsed": false
   },
   "outputs": [
    {
     "data": {
      "text/html": [
       "<div>\n",
       "<table border=\"1\" class=\"dataframe\">\n",
       "  <thead>\n",
       "    <tr style=\"text-align: right;\">\n",
       "      <th></th>\n",
       "      <th>0</th>\n",
       "      <th>1</th>\n",
       "      <th>2</th>\n",
       "      <th>3</th>\n",
       "      <th>4</th>\n",
       "      <th>5</th>\n",
       "    </tr>\n",
       "  </thead>\n",
       "  <tbody>\n",
       "    <tr>\n",
       "      <th>25915</th>\n",
       "      <td>0.790794</td>\n",
       "      <td>0.535808</td>\n",
       "      <td>0.363877</td>\n",
       "      <td>0.242069</td>\n",
       "      <td>0.150915</td>\n",
       "      <td>0.089789</td>\n",
       "    </tr>\n",
       "    <tr>\n",
       "      <th>129486</th>\n",
       "      <td>0.795955</td>\n",
       "      <td>0.723477</td>\n",
       "      <td>0.648348</td>\n",
       "      <td>0.574688</td>\n",
       "      <td>0.503543</td>\n",
       "      <td>0.437477</td>\n",
       "    </tr>\n",
       "    <tr>\n",
       "      <th>14289</th>\n",
       "      <td>0.813476</td>\n",
       "      <td>0.790346</td>\n",
       "      <td>0.763374</td>\n",
       "      <td>0.736620</td>\n",
       "      <td>0.708404</td>\n",
       "      <td>0.678051</td>\n",
       "    </tr>\n",
       "    <tr>\n",
       "      <th>29041</th>\n",
       "      <td>0.831739</td>\n",
       "      <td>0.813772</td>\n",
       "      <td>0.794459</td>\n",
       "      <td>0.778485</td>\n",
       "      <td>0.761787</td>\n",
       "      <td>0.744483</td>\n",
       "    </tr>\n",
       "    <tr>\n",
       "      <th>48029</th>\n",
       "      <td>0.061212</td>\n",
       "      <td>0.046775</td>\n",
       "      <td>0.035034</td>\n",
       "      <td>0.026612</td>\n",
       "      <td>0.020436</td>\n",
       "      <td>0.015981</td>\n",
       "    </tr>\n",
       "  </tbody>\n",
       "</table>\n",
       "</div>"
      ],
      "text/plain": [
       "               0         1         2         3         4         5\n",
       "25915   0.790794  0.535808  0.363877  0.242069  0.150915  0.089789\n",
       "129486  0.795955  0.723477  0.648348  0.574688  0.503543  0.437477\n",
       "14289   0.813476  0.790346  0.763374  0.736620  0.708404  0.678051\n",
       "29041   0.831739  0.813772  0.794459  0.778485  0.761787  0.744483\n",
       "48029   0.061212  0.046775  0.035034  0.026612  0.020436  0.015981"
      ]
     },
     "execution_count": 636,
     "metadata": {},
     "output_type": "execute_result"
    }
   ],
   "source": [
    "ne2e_pred['surv'].head()"
   ]
  },
  {
   "cell_type": "code",
   "execution_count": 641,
   "metadata": {
    "collapsed": false
   },
   "outputs": [
    {
     "data": {
      "text/html": [
       "<div>\n",
       "<table border=\"1\" class=\"dataframe\">\n",
       "  <thead>\n",
       "    <tr style=\"text-align: right;\">\n",
       "      <th></th>\n",
       "      <th>Tenure_years</th>\n",
       "      <th>Age_years</th>\n",
       "      <th>terminated</th>\n",
       "      <th>within5yr_sep</th>\n",
       "      <th>p5_0</th>\n",
       "      <th>p5_1</th>\n",
       "      <th>p5_2</th>\n",
       "      <th>p5_3</th>\n",
       "      <th>p5_4</th>\n",
       "      <th>p5_5</th>\n",
       "    </tr>\n",
       "  </thead>\n",
       "  <tbody>\n",
       "    <tr>\n",
       "      <th>25915</th>\n",
       "      <td>0.662573</td>\n",
       "      <td>25.859532</td>\n",
       "      <td>1</td>\n",
       "      <td>1</td>\n",
       "      <td>0</td>\n",
       "      <td>0</td>\n",
       "      <td>1</td>\n",
       "      <td>1</td>\n",
       "      <td>1</td>\n",
       "      <td>1</td>\n",
       "    </tr>\n",
       "    <tr>\n",
       "      <th>129486</th>\n",
       "      <td>2.576370</td>\n",
       "      <td>29.364053</td>\n",
       "      <td>0</td>\n",
       "      <td>0</td>\n",
       "      <td>0</td>\n",
       "      <td>0</td>\n",
       "      <td>0</td>\n",
       "      <td>0</td>\n",
       "      <td>0</td>\n",
       "      <td>1</td>\n",
       "    </tr>\n",
       "    <tr>\n",
       "      <th>14289</th>\n",
       "      <td>11.551230</td>\n",
       "      <td>55.486423</td>\n",
       "      <td>0</td>\n",
       "      <td>0</td>\n",
       "      <td>0</td>\n",
       "      <td>0</td>\n",
       "      <td>0</td>\n",
       "      <td>0</td>\n",
       "      <td>0</td>\n",
       "      <td>0</td>\n",
       "    </tr>\n",
       "    <tr>\n",
       "      <th>29041</th>\n",
       "      <td>17.122870</td>\n",
       "      <td>59.831482</td>\n",
       "      <td>0</td>\n",
       "      <td>0</td>\n",
       "      <td>0</td>\n",
       "      <td>0</td>\n",
       "      <td>0</td>\n",
       "      <td>0</td>\n",
       "      <td>0</td>\n",
       "      <td>0</td>\n",
       "    </tr>\n",
       "    <tr>\n",
       "      <th>48029</th>\n",
       "      <td>25.555624</td>\n",
       "      <td>44.469086</td>\n",
       "      <td>0</td>\n",
       "      <td>0</td>\n",
       "      <td>1</td>\n",
       "      <td>1</td>\n",
       "      <td>1</td>\n",
       "      <td>1</td>\n",
       "      <td>1</td>\n",
       "      <td>1</td>\n",
       "    </tr>\n",
       "  </tbody>\n",
       "</table>\n",
       "</div>"
      ],
      "text/plain": [
       "        Tenure_years  Age_years  terminated  within5yr_sep  p5_0  p5_1  p5_2  \\\n",
       "25915       0.662573  25.859532           1              1     0     0     1   \n",
       "129486      2.576370  29.364053           0              0     0     0     0   \n",
       "14289      11.551230  55.486423           0              0     0     0     0   \n",
       "29041      17.122870  59.831482           0              0     0     0     0   \n",
       "48029      25.555624  44.469086           0              0     1     1     1   \n",
       "\n",
       "        p5_3  p5_4  p5_5  \n",
       "25915      1     1     1  \n",
       "129486     0     0     1  \n",
       "14289      0     0     0  \n",
       "29041      0     0     0  \n",
       "48029      1     1     1  "
      ]
     },
     "execution_count": 641,
     "metadata": {},
     "output_type": "execute_result"
    }
   ],
   "source": [
    "ne2e_tmp.head()"
   ]
  },
  {
   "cell_type": "code",
   "execution_count": 640,
   "metadata": {
    "collapsed": false
   },
   "outputs": [
    {
     "data": {
      "text/plain": [
       "<matplotlib.axes._subplots.AxesSubplot at 0x1ae6b8d0>"
      ]
     },
     "execution_count": 640,
     "metadata": {},
     "output_type": "execute_result"
    },
    {
     "data": {
      "image/png": "[encoded data removed]",
      "text/plain": [
       "<matplotlib.figure.Figure at 0x1ae5d780>"
      ]
     },
     "metadata": {},
     "output_type": "display_data"
    }
   ],
   "source": [
    "(1-ne2e_pred['surv']).ix[25915].plot()"
   ]
  },
  {
   "cell_type": "markdown",
   "metadata": {},
   "source": [
    "## Now work on evaluation\n",
    "* inspired by correspondence to the evaluation set"
   ]
  },
  {
   "cell_type": "code",
   "execution_count": 445,
   "metadata": {
    "collapsed": false
   },
   "outputs": [
    {
     "data": {
      "text/html": [
       "<div>\n",
       "<table border=\"1\" class=\"dataframe\">\n",
       "  <thead>\n",
       "    <tr style=\"text-align: right;\">\n",
       "      <th></th>\n",
       "      <th>surv_sum</th>\n",
       "    </tr>\n",
       "  </thead>\n",
       "  <tbody>\n",
       "    <tr>\n",
       "      <th>0</th>\n",
       "      <td>NaN</td>\n",
       "    </tr>\n",
       "    <tr>\n",
       "      <th>1</th>\n",
       "      <td>0.070722</td>\n",
       "    </tr>\n",
       "    <tr>\n",
       "      <th>2</th>\n",
       "      <td>0.045637</td>\n",
       "    </tr>\n",
       "    <tr>\n",
       "      <th>3</th>\n",
       "      <td>0.036794</td>\n",
       "    </tr>\n",
       "    <tr>\n",
       "      <th>4</th>\n",
       "      <td>0.031565</td>\n",
       "    </tr>\n",
       "    <tr>\n",
       "      <th>5</th>\n",
       "      <td>0.027822</td>\n",
       "    </tr>\n",
       "  </tbody>\n",
       "</table>\n",
       "</div>"
      ],
      "text/plain": [
       "   surv_sum\n",
       "0       NaN\n",
       "1  0.070722\n",
       "2  0.045637\n",
       "3  0.036794\n",
       "4  0.031565\n",
       "5  0.027822"
      ]
     },
     "execution_count": 445,
     "metadata": {},
     "output_type": "execute_result"
    }
   ],
   "source": [
    "ne2e_totals = pd.DataFrame((1-ne2e_pred['surv']).sum(axis=0),columns=['surv_sum'])\n",
    "ne2e_totals.diff()/len(ne2e)"
   ]
  },
  {
   "cell_type": "code",
   "execution_count": 406,
   "metadata": {
    "collapsed": false
   },
   "outputs": [
    {
     "data": {
      "text/plain": [
       "9942L"
      ]
     },
     "execution_count": 406,
     "metadata": {},
     "output_type": "execute_result"
    }
   ],
   "source": [
    "ne2e.terminated.sum() # total number terminated"
   ]
  },
  {
   "cell_type": "code",
   "execution_count": 413,
   "metadata": {
    "collapsed": false
   },
   "outputs": [
    {
     "data": {
      "text/plain": [
       "(3484, 23866)"
      ]
     },
     "execution_count": 413,
     "metadata": {},
     "output_type": "execute_result"
    }
   ],
   "source": [
    "len(ne2eval[(ne2eval['term_tstmp']>'2009-12-31')&(ne2eval.terminated==1)]), len(ne2eval)"
   ]
  },
  {
   "cell_type": "code",
   "execution_count": 411,
   "metadata": {
    "collapsed": false
   },
   "outputs": [
    {
     "data": {
      "text/plain": [
       "0.88715965871132707"
      ]
     },
     "execution_count": 411,
     "metadata": {},
     "output_type": "execute_result"
    }
   ],
   "source": [
    "return_concordance(ne2e[sep_cols],s_cf4,'Tenure_years','terminated')"
   ]
  },
  {
   "cell_type": "code",
   "execution_count": 414,
   "metadata": {
    "collapsed": false
   },
   "outputs": [
    {
     "data": {
      "text/plain": [
       "0    1013.607526\n",
       "1    1434.155897\n",
       "2    1685.065815\n",
       "3    1878.560045\n",
       "4    2038.363249\n",
       "5    2173.513065\n",
       "dtype: float64"
      ]
     },
     "execution_count": 414,
     "metadata": {},
     "output_type": "execute_result"
    }
   ],
   "source": [
    "recent_term_idx = ne2eval[(ne2eval['term_tstmp']>'2009-12-31')&(ne2eval.terminated==1)].index\n",
    "(1-ne2e_pred['surv'].ix[recent_term_idx]).sum(axis=0)"
   ]
  },
  {
   "cell_type": "code",
   "execution_count": 416,
   "metadata": {
    "collapsed": false
   },
   "outputs": [
    {
     "data": {
      "text/plain": [
       "0    4026.786163\n",
       "1    5159.128987\n",
       "2    5835.769443\n",
       "3    6346.909699\n",
       "4    6759.967553\n",
       "5    7103.472448\n",
       "dtype: float64"
      ]
     },
     "execution_count": 416,
     "metadata": {},
     "output_type": "execute_result"
    }
   ],
   "source": [
    "true_term_idx = ne2e[ne2e.terminated==1].index\n",
    "(1-ne2e_pred['surv'].ix[true_term_idx]).sum(axis=0)"
   ]
  },
  {
   "cell_type": "code",
   "execution_count": 433,
   "metadata": {
    "collapsed": false
   },
   "outputs": [
    {
     "data": {
      "text/plain": [
       "0    1988.418259\n",
       "1    2543.921802\n",
       "2    2956.461772\n",
       "3    3323.450411\n",
       "4    3663.733977\n",
       "5    3984.229073\n",
       "dtype: float64"
      ]
     },
     "execution_count": 433,
     "metadata": {},
     "output_type": "execute_result"
    }
   ],
   "source": [
    "#ne2e_pred['surv'].mask(ne2e_pred['surv'].ix[true_term_idx])\n",
    "#ne2e_pred['surv'].loc[list(set(true_term_idx),5]\n",
    "true_notterm_idx = list(set(ne2e.index)-set(true_term_idx))\n",
    "(1-ne2e_pred['surv'].loc[true_notterm_idx]).sum(axis=0)"
   ]
  },
  {
   "cell_type": "code",
   "execution_count": 657,
   "metadata": {
    "collapsed": false
   },
   "outputs": [
    {
     "name": "stdout",
     "output_type": "stream",
     "text": [
      "n=76368, number of events=31927\n",
      "\n",
      "                       coef  exp(coef)  se(coef)          z          p  lower 0.95  upper 0.95     \n",
      "Age_years        -9.386e-01  3.912e-01 1.023e-02 -9.175e+01  0.000e+00  -9.587e-01  -9.185e-01  ***\n",
      "SAL1             -1.115e+00  3.278e-01 1.479e-02 -7.539e+01  0.000e+00  -1.144e+00  -1.086e+00  ***\n",
      "MERIT1            2.742e-01  1.315e+00 6.343e-03  4.323e+01  0.000e+00   2.618e-01   2.866e-01  ***\n",
      "PERF1            -1.016e-01  9.034e-01 1.240e-02 -8.195e+00  2.514e-16  -1.259e-01  -7.730e-02  ***\n",
      "BOX1             -4.839e-01  6.164e-01 6.824e-03 -7.090e+01  0.000e+00  -4.972e-01  -4.705e-01  ***\n",
      "SEX               1.643e-01  1.179e+00 6.098e-03  2.695e+01 5.826e-160   1.524e-01   1.763e-01  ***\n",
      "HAVE_INS         -3.066e-01  7.359e-01 9.072e-03 -3.380e+01 1.975e-250  -3.244e-01  -2.888e-01  ***\n",
      "HAVE_DEP         -2.326e-01  7.925e-01 1.147e-02 -2.027e+01  2.258e-91  -2.550e-01  -2.101e-01  ***\n",
      "DEPTCNT1         -3.471e-01  7.068e-01 9.569e-03 -3.627e+01 4.495e-288  -3.658e-01  -3.283e-01  ***\n",
      "EXTFUNC_CNT       9.591e-02  1.101e+00 5.597e-03  1.713e+01  8.204e-66   8.494e-02   1.069e-01  ***\n",
      "FUNC_CNT         -1.504e-01  8.603e-01 8.158e-03 -1.844e+01  6.098e-76  -1.664e-01  -1.344e-01  ***\n",
      "REMOTE           -1.546e-01  8.567e-01 1.116e-02 -1.386e+01  1.179e-43  -1.765e-01  -1.328e-01  ***\n",
      "DIRECT_RPT_CNT    1.569e-01  1.170e+00 3.968e-03  3.955e+01  0.000e+00   1.491e-01   1.647e-01  ***\n",
      "HUBIND           -8.338e-02  9.200e-01 6.762e-03 -1.233e+01  6.280e-35  -9.663e-02  -7.012e-02  ***\n",
      "REH_CNT          -2.330e-01  7.921e-01 6.523e-03 -3.572e+01 1.758e-279  -2.458e-01  -2.202e-01  ***\n",
      "JOB_FUNCTION_PSA -7.550e-02  9.273e-01 6.798e-03 -1.111e+01  1.179e-28  -8.883e-02  -6.217e-02  ***\n",
      "---\n",
      "Signif. codes:  0 '***' 0.001 '**' 0.01 '*' 0.05 '.' 0.1 ' ' 1 \n",
      "\n",
      "Concordance = 0.887\n"
     ]
    }
   ],
   "source": [
    "s_cf4.print_summary()"
   ]
  },
  {
   "cell_type": "code",
   "execution_count": 440,
   "metadata": {
    "collapsed": false
   },
   "outputs": [
    {
     "data": {
      "text/plain": [
       "<matplotlib.text.Text at 0xa881be0>"
      ]
     },
     "execution_count": 440,
     "metadata": {},
     "output_type": "execute_result"
    },
    {
     "data": {
      "image/png": "[encoded data removed]",
      "text/plain": [
       "<matplotlib.figure.Figure at 0x11bd1550>"
      ]
     },
     "metadata": {},
     "output_type": "display_data"
    }
   ],
   "source": [
    "sns.distplot(1-ne2e_pred['surv'].loc[true_term_idx,5],label='terminated')\n",
    "#sns.distplot(1-ne2e_pred['surv'].loc[recent_term_idx,5],label='recent_term')\n",
    "sns.distplot(1-ne2e_pred['surv'].loc[true_notterm_idx,5],label='current')\n",
    "plt.legend()\n",
    "plt.title('5 year forecast')"
   ]
  },
  {
   "cell_type": "code",
   "execution_count": 449,
   "metadata": {
    "collapsed": false
   },
   "outputs": [
    {
     "data": {
      "text/plain": [
       "<matplotlib.text.Text at 0x12b81588>"
      ]
     },
     "execution_count": 449,
     "metadata": {},
     "output_type": "execute_result"
    },
    {
     "data": {
      "image/png": "[encoded data removed]",
      "text/plain": [
       "<matplotlib.figure.Figure at 0x1404bba8>"
      ]
     },
     "metadata": {},
     "output_type": "display_data"
    }
   ],
   "source": [
    "\n",
    "sns.distplot(1-ne2e_pred['surv'].loc[true_term_idx,5],label='terminated')\n",
    "#sns.distplot(1-ne2e_pred['surv'].loc[recent_term_idx,4],label='recent_term')\n",
    "sns.distplot(1-ne2e_pred['surv'].loc[true_notterm_idx,4],label='current')\n",
    "plt.legend()\n",
    "plt.title('4 year forecast')"
   ]
  },
  {
   "cell_type": "code",
   "execution_count": 643,
   "metadata": {
    "collapsed": false
   },
   "outputs": [
    {
     "data": {
      "text/plain": [
       "<matplotlib.text.Text at 0x33511e80>"
      ]
     },
     "execution_count": 643,
     "metadata": {},
     "output_type": "execute_result"
    },
    {
     "data": {
      "image/png": "[encoded data removed]",
      "text/plain": [
       "<matplotlib.figure.Figure at 0x1ae6ba20>"
      ]
     },
     "metadata": {},
     "output_type": "display_data"
    }
   ],
   "source": [
    "sns.distplot(1-ne2e_pred['surv'].loc[true_term_idx,1],label='terminated')\n",
    "sns.distplot(1-ne2e_pred['surv'].loc[true_notterm_idx,1],label='current')\n",
    "plt.legend()\n",
    "plt.title('1 year forecast')"
   ]
  },
  {
   "cell_type": "code",
   "execution_count": 435,
   "metadata": {
    "collapsed": false
   },
   "outputs": [
    {
     "data": {
      "text/plain": [
       "<matplotlib.text.Text at 0x15cb05f8>"
      ]
     },
     "execution_count": 435,
     "metadata": {},
     "output_type": "execute_result"
    },
    {
     "data": {
      "image/png": "[encoded data removed]",
      "text/plain": [
       "<matplotlib.figure.Figure at 0x1115a4a8>"
      ]
     },
     "metadata": {},
     "output_type": "display_data"
    }
   ],
   "source": [
    "sns.distplot(1-ne2e_pred['surv'].loc[true_term_idx,0],label='terminated')\n",
    "sns.distplot(1-ne2e_pred['surv'].loc[true_notterm_idx,0],label='current')\n",
    "plt.legend()\n",
    "plt.title('0 year forecast')"
   ]
  },
  {
   "cell_type": "code",
   "execution_count": 436,
   "metadata": {
    "collapsed": false
   },
   "outputs": [
    {
     "data": {
      "text/plain": [
       "<matplotlib.text.Text at 0x19ae4668>"
      ]
     },
     "execution_count": 436,
     "metadata": {},
     "output_type": "execute_result"
    },
    {
     "data": {
      "image/png": "[encoded data removed]",
      "text/plain": [
       "<matplotlib.figure.Figure at 0x11c310b8>"
      ]
     },
     "metadata": {},
     "output_type": "display_data"
    }
   ],
   "source": [
    "sns.distplot(1-ne2e_pred['lbci'].loc[true_term_idx,0],label='terminated',color='midnightblue')\n",
    "sns.distplot(1-ne2e_pred['lbci'].loc[true_notterm_idx,0],label='current',color='indianred')\n",
    "plt.legend()\n",
    "plt.title('0 year forecast')"
   ]
  },
  {
   "cell_type": "code",
   "execution_count": 447,
   "metadata": {
    "collapsed": false
   },
   "outputs": [
    {
     "data": {
      "text/plain": [
       "<matplotlib.text.Text at 0x15f61390>"
      ]
     },
     "execution_count": 447,
     "metadata": {},
     "output_type": "execute_result"
    },
    {
     "data": {
      "image/png": "[encoded data removed]",
      "text/plain": [
       "<matplotlib.figure.Figure at 0x1333e3c8>"
      ]
     },
     "metadata": {},
     "output_type": "display_data"
    }
   ],
   "source": [
    "sns.distplot(1-ne2e_pred['ubci'].loc[true_term_idx,0],label='terminated',color='navy')\n",
    "sns.distplot(1-ne2e_pred['ubci'].loc[true_notterm_idx,0],label='current',color='firebrick')\n",
    "plt.legend()\n",
    "plt.title('0 year forecast')"
   ]
  },
  {
   "cell_type": "code",
   "execution_count": null,
   "metadata": {
    "collapsed": true
   },
   "outputs": [],
   "source": [
    "## if I do the sums based upon a threshold cutoff\n",
    "* looking at the above"
   ]
  },
  {
   "cell_type": "code",
   "execution_count": 482,
   "metadata": {
    "collapsed": false
   },
   "outputs": [],
   "source": [
    "def find_max_score_value(y_true, y_pred, metric_name, showplot=True,  **kwargs):\n",
    "    \"\"\"\n",
    "    y_true\n",
    "    y_pred\n",
    "    metric_name -->> a sklearn metric name\n",
    "    \n",
    "    A poor-man's grid search over the evaluation metrics to identify \n",
    "    the best offset values (i.e. point where desired metric score is \n",
    "    highest)\n",
    "    \"\"\"\n",
    "    scores = []\n",
    "    offsets = []\n",
    "    # stage 1: Note if the metric is outside of [0,1] this will not work.\n",
    "    for offset in np.arange(0,10)/float(10):\n",
    "        score = metric_name(y_true,map(np.int,y_pred+offset))\n",
    "        scores.append(score)\n",
    "        offsets.append(offset)\n",
    "    # find the max\n",
    "    mxscore = max(scores)\n",
    "    mx_idx = scores.index(mxscore)\n",
    "    #now offset below and above\n",
    "    if mx_idx == 0:\n",
    "        for offset in np.arange(0,16)/float(100):\n",
    "            offset+=0.0\n",
    "            score = metric_name(y_true,map(np.int,y_pred+offset))\n",
    "            scores.append(score)\n",
    "            offsets.append(offset)\n",
    "    elif mx_idx == 9:\n",
    "        for offset in np.arange(0,21)/float(100):\n",
    "            offset+=0.8\n",
    "            score = metric_name(y_true,map(np.int,y_pred+offset))\n",
    "            scores.append(score)\n",
    "            offsets.append(offset)\n",
    "    else:\n",
    "        base_offset = offsets[mx_idx-1]\n",
    "        for offset in np.arange(0,21)/float(100):\n",
    "            offset+=base_offset\n",
    "            score = metric_name(y_true,map(np.int,y_pred+offset))\n",
    "            scores.append(score)\n",
    "            offsets.append(offset)\n",
    "    \n",
    "    if showplot:             \n",
    "        plt.plot(offsets,scores,'d',color='indigo')\n",
    "        plt.xlabel('offset value')\n",
    "        plt.ylabel(metric_name)\n",
    "    \n",
    "    mxmxscore = max(scores)\n",
    "    mxmx_idx = scores.index(mxmxscore)\n",
    "    print mxmxscore, offsets[mxmx_idx]\n",
    "    #if verbose:\n",
    "    #    print \"__________\"\n",
    "    #    print scores\n",
    "    #return mcc_scores, mcc_offsets\n",
    "    return offsets[mxmx_idx]"
   ]
  },
  {
   "cell_type": "code",
   "execution_count": null,
   "metadata": {
    "collapsed": true
   },
   "outputs": [],
   "source": []
  },
  {
   "cell_type": "code",
   "execution_count": 474,
   "metadata": {
    "collapsed": false
   },
   "outputs": [
    {
     "data": {
      "text/plain": [
       "0.69306592216967688"
      ]
     },
     "execution_count": 474,
     "metadata": {},
     "output_type": "execute_result"
    }
   ],
   "source": [
    "metrics.f1_score(ne2e.terminated.values,map(np.int,1-ne2e_pred['surv'].loc[:,2].values+0.5))"
   ]
  },
  {
   "cell_type": "code",
   "execution_count": 492,
   "metadata": {
    "collapsed": false
   },
   "outputs": [
    {
     "name": "stdout",
     "output_type": "stream",
     "text": [
      "0.683107038334 0.82\n",
      "0.72497355515 0.74\n",
      "0.735572697979 0.67\n",
      "0.741016693389 0.66\n",
      "0.746689368142 0.61\n",
      "0.749205125735 0.54\n"
     ]
    }
   ],
   "source": [
    "f1_off = []\n",
    "for i in np.arange(0,6):\n",
    "    f1_off.append(find_max_score_value(ne2e.terminated.values,1-ne2e_pred['surv'].loc[:,i],metrics.f1_score,showplot=False))"
   ]
  },
  {
   "cell_type": "code",
   "execution_count": 605,
   "metadata": {
    "collapsed": false
   },
   "outputs": [
    {
     "name": "stdout",
     "output_type": "stream",
     "text": [
      "0.270035905426 0.83\n",
      "0.304710867398 0.8\n",
      "0.314269985932 0.77\n",
      "0.320269200317 0.68\n",
      "0.324203223242 0.56\n",
      "0.328138404347 0.52\n"
     ]
    }
   ],
   "source": [
    "f1_off_in5 = []\n",
    "for i in np.arange(0,6):\n",
    "    f1_off_in5.append(find_max_score_value(ne2e_tmp.within5yr_sep.values,1-ne2e_pred['surv'].loc[:,i],metrics.f1_score,showplot=False))"
   ]
  },
  {
   "cell_type": "code",
   "execution_count": 606,
   "metadata": {
    "collapsed": false
   },
   "outputs": [
    {
     "data": {
      "text/plain": [
       "array([[12745,  1179],\n",
       "       [ 4571,  5371]])"
      ]
     },
     "execution_count": 606,
     "metadata": {},
     "output_type": "execute_result"
    }
   ],
   "source": [
    "metrics.confusion_matrix(ne2e_tmp.terminated.values,map(np.int,1-ne2e_pred['surv'].loc[:,1]+0.52))"
   ]
  },
  {
   "cell_type": "code",
   "execution_count": 498,
   "metadata": {
    "collapsed": false
   },
   "outputs": [
    {
     "data": {
      "text/plain": [
       "1988"
      ]
     },
     "execution_count": 498,
     "metadata": {},
     "output_type": "execute_result"
    }
   ],
   "source": [
    "#### what if I annualize the overall departures?\n",
    "nterm = 9942\n",
    "nterm/5"
   ]
  },
  {
   "cell_type": "code",
   "execution_count": 644,
   "metadata": {
    "collapsed": false
   },
   "outputs": [
    {
     "data": {
      "text/plain": [
       "23866"
      ]
     },
     "execution_count": 644,
     "metadata": {},
     "output_type": "execute_result"
    }
   ],
   "source": [
    "len(ne2e)"
   ]
  },
  {
   "cell_type": "code",
   "execution_count": 502,
   "metadata": {
    "collapsed": false
   },
   "outputs": [
    {
     "data": {
      "text/html": [
       "<div>\n",
       "<table border=\"1\" class=\"dataframe\">\n",
       "  <thead>\n",
       "    <tr style=\"text-align: right;\">\n",
       "      <th></th>\n",
       "      <th>0</th>\n",
       "      <th>1</th>\n",
       "      <th>2</th>\n",
       "      <th>3</th>\n",
       "      <th>4</th>\n",
       "      <th>5</th>\n",
       "    </tr>\n",
       "  </thead>\n",
       "  <tbody>\n",
       "    <tr>\n",
       "      <th>25915</th>\n",
       "      <td>1.029206</td>\n",
       "      <td>1.204192</td>\n",
       "      <td>1.306123</td>\n",
       "      <td>1.417931</td>\n",
       "      <td>1.459085</td>\n",
       "      <td>1.450211</td>\n",
       "    </tr>\n",
       "    <tr>\n",
       "      <th>129486</th>\n",
       "      <td>1.024045</td>\n",
       "      <td>1.016523</td>\n",
       "      <td>1.021652</td>\n",
       "      <td>1.085312</td>\n",
       "      <td>1.106457</td>\n",
       "      <td>1.102523</td>\n",
       "    </tr>\n",
       "    <tr>\n",
       "      <th>14289</th>\n",
       "      <td>1.006524</td>\n",
       "      <td>0.949654</td>\n",
       "      <td>0.906626</td>\n",
       "      <td>0.923380</td>\n",
       "      <td>0.901596</td>\n",
       "      <td>0.861949</td>\n",
       "    </tr>\n",
       "    <tr>\n",
       "      <th>29041</th>\n",
       "      <td>0.988261</td>\n",
       "      <td>0.926228</td>\n",
       "      <td>0.875541</td>\n",
       "      <td>0.881515</td>\n",
       "      <td>0.848213</td>\n",
       "      <td>0.795517</td>\n",
       "    </tr>\n",
       "    <tr>\n",
       "      <th>48029</th>\n",
       "      <td>1.758788</td>\n",
       "      <td>1.693225</td>\n",
       "      <td>1.634966</td>\n",
       "      <td>1.633388</td>\n",
       "      <td>1.589564</td>\n",
       "      <td>1.524019</td>\n",
       "    </tr>\n",
       "  </tbody>\n",
       "</table>\n",
       "</div>"
      ],
      "text/plain": [
       "               0         1         2         3         4         5\n",
       "25915   1.029206  1.204192  1.306123  1.417931  1.459085  1.450211\n",
       "129486  1.024045  1.016523  1.021652  1.085312  1.106457  1.102523\n",
       "14289   1.006524  0.949654  0.906626  0.923380  0.901596  0.861949\n",
       "29041   0.988261  0.926228  0.875541  0.881515  0.848213  0.795517\n",
       "48029   1.758788  1.693225  1.634966  1.633388  1.589564  1.524019"
      ]
     },
     "execution_count": 502,
     "metadata": {},
     "output_type": "execute_result"
    }
   ],
   "source": [
    "((1-ne2e_pred['surv'])+f1_off).head()"
   ]
  },
  {
   "cell_type": "code",
   "execution_count": 506,
   "metadata": {
    "collapsed": false
   },
   "outputs": [
    {
     "data": {
      "text/plain": [
       "0     4195\n",
       "1     6262\n",
       "2     7609\n",
       "3     8616\n",
       "4     9473\n",
       "5    10201\n",
       "dtype: int64"
      ]
     },
     "execution_count": 506,
     "metadata": {},
     "output_type": "execute_result"
    }
   ],
   "source": [
    "((1-ne2e_pred['surv'])>=0.5).astype(int).sum(axis=0)"
   ]
  },
  {
   "cell_type": "code",
   "execution_count": 579,
   "metadata": {
    "collapsed": false
   },
   "outputs": [
    {
     "data": {
      "text/plain": [
       "3484L"
      ]
     },
     "execution_count": 579,
     "metadata": {},
     "output_type": "execute_result"
    }
   ],
   "source": [
    "## find the examples where there was a recent separation\n",
    "ne2e_tmp = ne2e[['Tenure_years','Age_years','terminated']].copy()\n",
    "ne2e_tmp['within5yr_sep']=0\n",
    "ne2e_tmp['within5yr_sep'].ix[recent_term_idx]=1\n",
    "ne2e_tmp.within5yr_sep.sum()"
   ]
  },
  {
   "cell_type": "code",
   "execution_count": 580,
   "metadata": {
    "collapsed": false
   },
   "outputs": [
    {
     "data": {
      "text/html": [
       "<div>\n",
       "<table border=\"1\" class=\"dataframe\">\n",
       "  <thead>\n",
       "    <tr style=\"text-align: right;\">\n",
       "      <th></th>\n",
       "      <th>p5_0</th>\n",
       "      <th>p5_1</th>\n",
       "      <th>p5_2</th>\n",
       "      <th>p5_3</th>\n",
       "      <th>p5_4</th>\n",
       "      <th>p5_5</th>\n",
       "    </tr>\n",
       "  </thead>\n",
       "  <tbody>\n",
       "    <tr>\n",
       "      <th>25915</th>\n",
       "      <td>0</td>\n",
       "      <td>0</td>\n",
       "      <td>1</td>\n",
       "      <td>1</td>\n",
       "      <td>1</td>\n",
       "      <td>1</td>\n",
       "    </tr>\n",
       "    <tr>\n",
       "      <th>129486</th>\n",
       "      <td>0</td>\n",
       "      <td>0</td>\n",
       "      <td>0</td>\n",
       "      <td>0</td>\n",
       "      <td>0</td>\n",
       "      <td>1</td>\n",
       "    </tr>\n",
       "    <tr>\n",
       "      <th>14289</th>\n",
       "      <td>0</td>\n",
       "      <td>0</td>\n",
       "      <td>0</td>\n",
       "      <td>0</td>\n",
       "      <td>0</td>\n",
       "      <td>0</td>\n",
       "    </tr>\n",
       "    <tr>\n",
       "      <th>29041</th>\n",
       "      <td>0</td>\n",
       "      <td>0</td>\n",
       "      <td>0</td>\n",
       "      <td>0</td>\n",
       "      <td>0</td>\n",
       "      <td>0</td>\n",
       "    </tr>\n",
       "    <tr>\n",
       "      <th>48029</th>\n",
       "      <td>1</td>\n",
       "      <td>1</td>\n",
       "      <td>1</td>\n",
       "      <td>1</td>\n",
       "      <td>1</td>\n",
       "      <td>1</td>\n",
       "    </tr>\n",
       "  </tbody>\n",
       "</table>\n",
       "</div>"
      ],
      "text/plain": [
       "        p5_0  p5_1  p5_2  p5_3  p5_4  p5_5\n",
       "25915      0     0     1     1     1     1\n",
       "129486     0     0     0     0     0     1\n",
       "14289      0     0     0     0     0     0\n",
       "29041      0     0     0     0     0     0\n",
       "48029      1     1     1     1     1     1"
      ]
     },
     "execution_count": 580,
     "metadata": {},
     "output_type": "execute_result"
    }
   ],
   "source": [
    "tmp_cols = ['p5_'+np.str(year) for year in [0,1,2,3,4,5]]\n",
    "#column_names = ['time_point_'+np.str(year) for year in yr_range]\n",
    "tdf = ((1-ne2e_pred['surv'])>=0.5).astype(int)\n",
    "tdf.columns=tmp_cols\n",
    "tdf.head()"
   ]
  },
  {
   "cell_type": "code",
   "execution_count": 581,
   "metadata": {
    "collapsed": true
   },
   "outputs": [
    {
     "data": {
      "text/html": [
       "<div>\n",
       "<table border=\"1\" class=\"dataframe\">\n",
       "  <thead>\n",
       "    <tr style=\"text-align: right;\">\n",
       "      <th></th>\n",
       "      <th>Tenure_years</th>\n",
       "      <th>Age_years</th>\n",
       "      <th>terminated</th>\n",
       "      <th>within5yr_sep</th>\n",
       "      <th>p5_0</th>\n",
       "      <th>p5_1</th>\n",
       "      <th>p5_2</th>\n",
       "      <th>p5_3</th>\n",
       "      <th>p5_4</th>\n",
       "      <th>p5_5</th>\n",
       "    </tr>\n",
       "  </thead>\n",
       "  <tbody>\n",
       "    <tr>\n",
       "      <th>25915</th>\n",
       "      <td>0.662573</td>\n",
       "      <td>25.859532</td>\n",
       "      <td>1</td>\n",
       "      <td>1</td>\n",
       "      <td>0</td>\n",
       "      <td>0</td>\n",
       "      <td>1</td>\n",
       "      <td>1</td>\n",
       "      <td>1</td>\n",
       "      <td>1</td>\n",
       "    </tr>\n",
       "    <tr>\n",
       "      <th>129486</th>\n",
       "      <td>2.576370</td>\n",
       "      <td>29.364053</td>\n",
       "      <td>0</td>\n",
       "      <td>0</td>\n",
       "      <td>0</td>\n",
       "      <td>0</td>\n",
       "      <td>0</td>\n",
       "      <td>0</td>\n",
       "      <td>0</td>\n",
       "      <td>1</td>\n",
       "    </tr>\n",
       "    <tr>\n",
       "      <th>14289</th>\n",
       "      <td>11.551230</td>\n",
       "      <td>55.486423</td>\n",
       "      <td>0</td>\n",
       "      <td>0</td>\n",
       "      <td>0</td>\n",
       "      <td>0</td>\n",
       "      <td>0</td>\n",
       "      <td>0</td>\n",
       "      <td>0</td>\n",
       "      <td>0</td>\n",
       "    </tr>\n",
       "    <tr>\n",
       "      <th>29041</th>\n",
       "      <td>17.122870</td>\n",
       "      <td>59.831482</td>\n",
       "      <td>0</td>\n",
       "      <td>0</td>\n",
       "      <td>0</td>\n",
       "      <td>0</td>\n",
       "      <td>0</td>\n",
       "      <td>0</td>\n",
       "      <td>0</td>\n",
       "      <td>0</td>\n",
       "    </tr>\n",
       "    <tr>\n",
       "      <th>48029</th>\n",
       "      <td>25.555624</td>\n",
       "      <td>44.469086</td>\n",
       "      <td>0</td>\n",
       "      <td>0</td>\n",
       "      <td>1</td>\n",
       "      <td>1</td>\n",
       "      <td>1</td>\n",
       "      <td>1</td>\n",
       "      <td>1</td>\n",
       "      <td>1</td>\n",
       "    </tr>\n",
       "    <tr>\n",
       "      <th>59412</th>\n",
       "      <td>24.309876</td>\n",
       "      <td>45.312361</td>\n",
       "      <td>0</td>\n",
       "      <td>0</td>\n",
       "      <td>0</td>\n",
       "      <td>0</td>\n",
       "      <td>0</td>\n",
       "      <td>0</td>\n",
       "      <td>0</td>\n",
       "      <td>0</td>\n",
       "    </tr>\n",
       "    <tr>\n",
       "      <th>65674</th>\n",
       "      <td>3.545590</td>\n",
       "      <td>27.452994</td>\n",
       "      <td>1</td>\n",
       "      <td>0</td>\n",
       "      <td>0</td>\n",
       "      <td>0</td>\n",
       "      <td>1</td>\n",
       "      <td>1</td>\n",
       "      <td>1</td>\n",
       "      <td>1</td>\n",
       "    </tr>\n",
       "    <tr>\n",
       "      <th>65872</th>\n",
       "      <td>12.681985</td>\n",
       "      <td>42.823603</td>\n",
       "      <td>0</td>\n",
       "      <td>0</td>\n",
       "      <td>0</td>\n",
       "      <td>0</td>\n",
       "      <td>0</td>\n",
       "      <td>0</td>\n",
       "      <td>0</td>\n",
       "      <td>0</td>\n",
       "    </tr>\n",
       "    <tr>\n",
       "      <th>70843</th>\n",
       "      <td>13.289801</td>\n",
       "      <td>56.310533</td>\n",
       "      <td>0</td>\n",
       "      <td>0</td>\n",
       "      <td>0</td>\n",
       "      <td>0</td>\n",
       "      <td>0</td>\n",
       "      <td>0</td>\n",
       "      <td>0</td>\n",
       "      <td>0</td>\n",
       "    </tr>\n",
       "    <tr>\n",
       "      <th>46577</th>\n",
       "      <td>15.627973</td>\n",
       "      <td>36.310123</td>\n",
       "      <td>0</td>\n",
       "      <td>0</td>\n",
       "      <td>0</td>\n",
       "      <td>0</td>\n",
       "      <td>0</td>\n",
       "      <td>0</td>\n",
       "      <td>0</td>\n",
       "      <td>0</td>\n",
       "    </tr>\n",
       "    <tr>\n",
       "      <th>86579</th>\n",
       "      <td>11.701815</td>\n",
       "      <td>38.141783</td>\n",
       "      <td>1</td>\n",
       "      <td>0</td>\n",
       "      <td>0</td>\n",
       "      <td>0</td>\n",
       "      <td>0</td>\n",
       "      <td>0</td>\n",
       "      <td>0</td>\n",
       "      <td>0</td>\n",
       "    </tr>\n",
       "    <tr>\n",
       "      <th>93871</th>\n",
       "      <td>21.489832</td>\n",
       "      <td>54.443281</td>\n",
       "      <td>0</td>\n",
       "      <td>0</td>\n",
       "      <td>0</td>\n",
       "      <td>0</td>\n",
       "      <td>0</td>\n",
       "      <td>0</td>\n",
       "      <td>0</td>\n",
       "      <td>0</td>\n",
       "    </tr>\n",
       "    <tr>\n",
       "      <th>33172</th>\n",
       "      <td>15.852482</td>\n",
       "      <td>43.680568</td>\n",
       "      <td>0</td>\n",
       "      <td>0</td>\n",
       "      <td>0</td>\n",
       "      <td>0</td>\n",
       "      <td>0</td>\n",
       "      <td>0</td>\n",
       "      <td>0</td>\n",
       "      <td>0</td>\n",
       "    </tr>\n",
       "    <tr>\n",
       "      <th>16453</th>\n",
       "      <td>2.559943</td>\n",
       "      <td>29.197040</td>\n",
       "      <td>1</td>\n",
       "      <td>0</td>\n",
       "      <td>0</td>\n",
       "      <td>0</td>\n",
       "      <td>0</td>\n",
       "      <td>1</td>\n",
       "      <td>1</td>\n",
       "      <td>1</td>\n",
       "    </tr>\n",
       "    <tr>\n",
       "      <th>61976</th>\n",
       "      <td>37.553133</td>\n",
       "      <td>55.163350</td>\n",
       "      <td>0</td>\n",
       "      <td>0</td>\n",
       "      <td>0</td>\n",
       "      <td>0</td>\n",
       "      <td>0</td>\n",
       "      <td>0</td>\n",
       "      <td>0</td>\n",
       "      <td>0</td>\n",
       "    </tr>\n",
       "    <tr>\n",
       "      <th>15198</th>\n",
       "      <td>11.507423</td>\n",
       "      <td>45.430091</td>\n",
       "      <td>0</td>\n",
       "      <td>0</td>\n",
       "      <td>0</td>\n",
       "      <td>0</td>\n",
       "      <td>0</td>\n",
       "      <td>0</td>\n",
       "      <td>0</td>\n",
       "      <td>0</td>\n",
       "    </tr>\n",
       "    <tr>\n",
       "      <th>86363</th>\n",
       "      <td>0.251887</td>\n",
       "      <td>26.157964</td>\n",
       "      <td>1</td>\n",
       "      <td>0</td>\n",
       "      <td>0</td>\n",
       "      <td>1</td>\n",
       "      <td>1</td>\n",
       "      <td>1</td>\n",
       "      <td>1</td>\n",
       "      <td>1</td>\n",
       "    </tr>\n",
       "    <tr>\n",
       "      <th>2107</th>\n",
       "      <td>1.344312</td>\n",
       "      <td>26.376996</td>\n",
       "      <td>1</td>\n",
       "      <td>0</td>\n",
       "      <td>0</td>\n",
       "      <td>1</td>\n",
       "      <td>1</td>\n",
       "      <td>1</td>\n",
       "      <td>1</td>\n",
       "      <td>1</td>\n",
       "    </tr>\n",
       "    <tr>\n",
       "      <th>74693</th>\n",
       "      <td>0.884344</td>\n",
       "      <td>32.359323</td>\n",
       "      <td>1</td>\n",
       "      <td>1</td>\n",
       "      <td>0</td>\n",
       "      <td>0</td>\n",
       "      <td>0</td>\n",
       "      <td>0</td>\n",
       "      <td>0</td>\n",
       "      <td>0</td>\n",
       "    </tr>\n",
       "    <tr>\n",
       "      <th>85838</th>\n",
       "      <td>21.528163</td>\n",
       "      <td>42.820866</td>\n",
       "      <td>0</td>\n",
       "      <td>0</td>\n",
       "      <td>0</td>\n",
       "      <td>0</td>\n",
       "      <td>0</td>\n",
       "      <td>0</td>\n",
       "      <td>0</td>\n",
       "      <td>0</td>\n",
       "    </tr>\n",
       "    <tr>\n",
       "      <th>119603</th>\n",
       "      <td>9.878368</td>\n",
       "      <td>34.245741</td>\n",
       "      <td>0</td>\n",
       "      <td>0</td>\n",
       "      <td>0</td>\n",
       "      <td>0</td>\n",
       "      <td>0</td>\n",
       "      <td>0</td>\n",
       "      <td>0</td>\n",
       "      <td>0</td>\n",
       "    </tr>\n",
       "    <tr>\n",
       "      <th>132929</th>\n",
       "      <td>2.135567</td>\n",
       "      <td>53.934030</td>\n",
       "      <td>0</td>\n",
       "      <td>0</td>\n",
       "      <td>0</td>\n",
       "      <td>0</td>\n",
       "      <td>0</td>\n",
       "      <td>0</td>\n",
       "      <td>0</td>\n",
       "      <td>0</td>\n",
       "    </tr>\n",
       "    <tr>\n",
       "      <th>110288</th>\n",
       "      <td>9.725046</td>\n",
       "      <td>34.089680</td>\n",
       "      <td>0</td>\n",
       "      <td>0</td>\n",
       "      <td>0</td>\n",
       "      <td>0</td>\n",
       "      <td>0</td>\n",
       "      <td>0</td>\n",
       "      <td>1</td>\n",
       "      <td>1</td>\n",
       "    </tr>\n",
       "    <tr>\n",
       "      <th>34796</th>\n",
       "      <td>23.633613</td>\n",
       "      <td>44.934530</td>\n",
       "      <td>0</td>\n",
       "      <td>0</td>\n",
       "      <td>0</td>\n",
       "      <td>0</td>\n",
       "      <td>0</td>\n",
       "      <td>0</td>\n",
       "      <td>0</td>\n",
       "      <td>0</td>\n",
       "    </tr>\n",
       "    <tr>\n",
       "      <th>36678</th>\n",
       "      <td>16.586241</td>\n",
       "      <td>38.481283</td>\n",
       "      <td>0</td>\n",
       "      <td>0</td>\n",
       "      <td>0</td>\n",
       "      <td>0</td>\n",
       "      <td>1</td>\n",
       "      <td>1</td>\n",
       "      <td>1</td>\n",
       "      <td>1</td>\n",
       "    </tr>\n",
       "    <tr>\n",
       "      <th>12632</th>\n",
       "      <td>28.956105</td>\n",
       "      <td>54.547321</td>\n",
       "      <td>1</td>\n",
       "      <td>0</td>\n",
       "      <td>0</td>\n",
       "      <td>0</td>\n",
       "      <td>0</td>\n",
       "      <td>0</td>\n",
       "      <td>0</td>\n",
       "      <td>0</td>\n",
       "    </tr>\n",
       "    <tr>\n",
       "      <th>54591</th>\n",
       "      <td>25.763705</td>\n",
       "      <td>58.643230</td>\n",
       "      <td>0</td>\n",
       "      <td>0</td>\n",
       "      <td>0</td>\n",
       "      <td>0</td>\n",
       "      <td>0</td>\n",
       "      <td>0</td>\n",
       "      <td>0</td>\n",
       "      <td>0</td>\n",
       "    </tr>\n",
       "    <tr>\n",
       "      <th>113476</th>\n",
       "      <td>19.652696</td>\n",
       "      <td>44.406114</td>\n",
       "      <td>0</td>\n",
       "      <td>0</td>\n",
       "      <td>0</td>\n",
       "      <td>0</td>\n",
       "      <td>0</td>\n",
       "      <td>0</td>\n",
       "      <td>0</td>\n",
       "      <td>0</td>\n",
       "    </tr>\n",
       "    <tr>\n",
       "      <th>85016</th>\n",
       "      <td>9.840038</td>\n",
       "      <td>29.030028</td>\n",
       "      <td>0</td>\n",
       "      <td>0</td>\n",
       "      <td>0</td>\n",
       "      <td>0</td>\n",
       "      <td>1</td>\n",
       "      <td>1</td>\n",
       "      <td>1</td>\n",
       "      <td>1</td>\n",
       "    </tr>\n",
       "    <tr>\n",
       "      <th>96787</th>\n",
       "      <td>21.593873</td>\n",
       "      <td>44.288384</td>\n",
       "      <td>1</td>\n",
       "      <td>0</td>\n",
       "      <td>0</td>\n",
       "      <td>0</td>\n",
       "      <td>0</td>\n",
       "      <td>0</td>\n",
       "      <td>0</td>\n",
       "      <td>0</td>\n",
       "    </tr>\n",
       "    <tr>\n",
       "      <th>...</th>\n",
       "      <td>...</td>\n",
       "      <td>...</td>\n",
       "      <td>...</td>\n",
       "      <td>...</td>\n",
       "      <td>...</td>\n",
       "      <td>...</td>\n",
       "      <td>...</td>\n",
       "      <td>...</td>\n",
       "      <td>...</td>\n",
       "      <td>...</td>\n",
       "    </tr>\n",
       "    <tr>\n",
       "      <th>107589</th>\n",
       "      <td>13.289801</td>\n",
       "      <td>40.449838</td>\n",
       "      <td>0</td>\n",
       "      <td>0</td>\n",
       "      <td>0</td>\n",
       "      <td>0</td>\n",
       "      <td>0</td>\n",
       "      <td>0</td>\n",
       "      <td>0</td>\n",
       "      <td>0</td>\n",
       "    </tr>\n",
       "    <tr>\n",
       "      <th>77356</th>\n",
       "      <td>2.943250</td>\n",
       "      <td>29.613202</td>\n",
       "      <td>1</td>\n",
       "      <td>0</td>\n",
       "      <td>0</td>\n",
       "      <td>1</td>\n",
       "      <td>1</td>\n",
       "      <td>1</td>\n",
       "      <td>1</td>\n",
       "      <td>1</td>\n",
       "    </tr>\n",
       "    <tr>\n",
       "      <th>1556</th>\n",
       "      <td>0.487347</td>\n",
       "      <td>42.741466</td>\n",
       "      <td>0</td>\n",
       "      <td>0</td>\n",
       "      <td>0</td>\n",
       "      <td>0</td>\n",
       "      <td>0</td>\n",
       "      <td>0</td>\n",
       "      <td>0</td>\n",
       "      <td>0</td>\n",
       "    </tr>\n",
       "    <tr>\n",
       "      <th>10328</th>\n",
       "      <td>22.182523</td>\n",
       "      <td>46.240511</td>\n",
       "      <td>0</td>\n",
       "      <td>0</td>\n",
       "      <td>0</td>\n",
       "      <td>0</td>\n",
       "      <td>0</td>\n",
       "      <td>0</td>\n",
       "      <td>0</td>\n",
       "      <td>0</td>\n",
       "    </tr>\n",
       "    <tr>\n",
       "      <th>133517</th>\n",
       "      <td>11.781214</td>\n",
       "      <td>38.322484</td>\n",
       "      <td>1</td>\n",
       "      <td>0</td>\n",
       "      <td>1</td>\n",
       "      <td>1</td>\n",
       "      <td>1</td>\n",
       "      <td>1</td>\n",
       "      <td>1</td>\n",
       "      <td>1</td>\n",
       "    </tr>\n",
       "    <tr>\n",
       "      <th>1752</th>\n",
       "      <td>15.222763</td>\n",
       "      <td>39.239683</td>\n",
       "      <td>1</td>\n",
       "      <td>0</td>\n",
       "      <td>1</td>\n",
       "      <td>1</td>\n",
       "      <td>1</td>\n",
       "      <td>1</td>\n",
       "      <td>1</td>\n",
       "      <td>1</td>\n",
       "    </tr>\n",
       "    <tr>\n",
       "      <th>57028</th>\n",
       "      <td>1.809757</td>\n",
       "      <td>32.058153</td>\n",
       "      <td>0</td>\n",
       "      <td>0</td>\n",
       "      <td>0</td>\n",
       "      <td>0</td>\n",
       "      <td>0</td>\n",
       "      <td>0</td>\n",
       "      <td>0</td>\n",
       "      <td>0</td>\n",
       "    </tr>\n",
       "    <tr>\n",
       "      <th>23485</th>\n",
       "      <td>2.863851</td>\n",
       "      <td>35.236863</td>\n",
       "      <td>0</td>\n",
       "      <td>0</td>\n",
       "      <td>0</td>\n",
       "      <td>0</td>\n",
       "      <td>0</td>\n",
       "      <td>0</td>\n",
       "      <td>0</td>\n",
       "      <td>0</td>\n",
       "    </tr>\n",
       "    <tr>\n",
       "      <th>12859</th>\n",
       "      <td>0.829586</td>\n",
       "      <td>23.272210</td>\n",
       "      <td>1</td>\n",
       "      <td>1</td>\n",
       "      <td>0</td>\n",
       "      <td>0</td>\n",
       "      <td>0</td>\n",
       "      <td>1</td>\n",
       "      <td>1</td>\n",
       "      <td>1</td>\n",
       "    </tr>\n",
       "    <tr>\n",
       "      <th>32892</th>\n",
       "      <td>21.243420</td>\n",
       "      <td>44.975598</td>\n",
       "      <td>0</td>\n",
       "      <td>0</td>\n",
       "      <td>0</td>\n",
       "      <td>0</td>\n",
       "      <td>0</td>\n",
       "      <td>0</td>\n",
       "      <td>0</td>\n",
       "      <td>0</td>\n",
       "    </tr>\n",
       "    <tr>\n",
       "      <th>69113</th>\n",
       "      <td>10.885918</td>\n",
       "      <td>37.881681</td>\n",
       "      <td>1</td>\n",
       "      <td>0</td>\n",
       "      <td>0</td>\n",
       "      <td>0</td>\n",
       "      <td>0</td>\n",
       "      <td>0</td>\n",
       "      <td>0</td>\n",
       "      <td>0</td>\n",
       "    </tr>\n",
       "    <tr>\n",
       "      <th>24727</th>\n",
       "      <td>14.702561</td>\n",
       "      <td>50.886740</td>\n",
       "      <td>1</td>\n",
       "      <td>1</td>\n",
       "      <td>0</td>\n",
       "      <td>0</td>\n",
       "      <td>0</td>\n",
       "      <td>0</td>\n",
       "      <td>0</td>\n",
       "      <td>0</td>\n",
       "    </tr>\n",
       "    <tr>\n",
       "      <th>20824</th>\n",
       "      <td>2.442213</td>\n",
       "      <td>50.352848</td>\n",
       "      <td>1</td>\n",
       "      <td>0</td>\n",
       "      <td>0</td>\n",
       "      <td>0</td>\n",
       "      <td>0</td>\n",
       "      <td>0</td>\n",
       "      <td>0</td>\n",
       "      <td>0</td>\n",
       "    </tr>\n",
       "    <tr>\n",
       "      <th>116936</th>\n",
       "      <td>20.014100</td>\n",
       "      <td>46.911299</td>\n",
       "      <td>0</td>\n",
       "      <td>0</td>\n",
       "      <td>0</td>\n",
       "      <td>0</td>\n",
       "      <td>0</td>\n",
       "      <td>0</td>\n",
       "      <td>0</td>\n",
       "      <td>0</td>\n",
       "    </tr>\n",
       "    <tr>\n",
       "      <th>96996</th>\n",
       "      <td>0.443541</td>\n",
       "      <td>21.897780</td>\n",
       "      <td>1</td>\n",
       "      <td>0</td>\n",
       "      <td>1</td>\n",
       "      <td>1</td>\n",
       "      <td>1</td>\n",
       "      <td>1</td>\n",
       "      <td>1</td>\n",
       "      <td>1</td>\n",
       "    </tr>\n",
       "    <tr>\n",
       "      <th>132247</th>\n",
       "      <td>0.941840</td>\n",
       "      <td>39.105526</td>\n",
       "      <td>1</td>\n",
       "      <td>0</td>\n",
       "      <td>0</td>\n",
       "      <td>0</td>\n",
       "      <td>0</td>\n",
       "      <td>1</td>\n",
       "      <td>1</td>\n",
       "      <td>1</td>\n",
       "    </tr>\n",
       "    <tr>\n",
       "      <th>38720</th>\n",
       "      <td>5.051438</td>\n",
       "      <td>43.119297</td>\n",
       "      <td>1</td>\n",
       "      <td>0</td>\n",
       "      <td>0</td>\n",
       "      <td>0</td>\n",
       "      <td>0</td>\n",
       "      <td>0</td>\n",
       "      <td>0</td>\n",
       "      <td>0</td>\n",
       "    </tr>\n",
       "    <tr>\n",
       "      <th>45966</th>\n",
       "      <td>10.168587</td>\n",
       "      <td>35.023306</td>\n",
       "      <td>1</td>\n",
       "      <td>0</td>\n",
       "      <td>1</td>\n",
       "      <td>1</td>\n",
       "      <td>1</td>\n",
       "      <td>1</td>\n",
       "      <td>1</td>\n",
       "      <td>1</td>\n",
       "    </tr>\n",
       "    <tr>\n",
       "      <th>26591</th>\n",
       "      <td>0.873392</td>\n",
       "      <td>23.504932</td>\n",
       "      <td>1</td>\n",
       "      <td>0</td>\n",
       "      <td>0</td>\n",
       "      <td>0</td>\n",
       "      <td>0</td>\n",
       "      <td>1</td>\n",
       "      <td>1</td>\n",
       "      <td>1</td>\n",
       "    </tr>\n",
       "    <tr>\n",
       "      <th>124531</th>\n",
       "      <td>13.005058</td>\n",
       "      <td>52.493891</td>\n",
       "      <td>1</td>\n",
       "      <td>1</td>\n",
       "      <td>0</td>\n",
       "      <td>0</td>\n",
       "      <td>0</td>\n",
       "      <td>0</td>\n",
       "      <td>1</td>\n",
       "      <td>1</td>\n",
       "    </tr>\n",
       "    <tr>\n",
       "      <th>235</th>\n",
       "      <td>7.126772</td>\n",
       "      <td>28.372930</td>\n",
       "      <td>1</td>\n",
       "      <td>1</td>\n",
       "      <td>0</td>\n",
       "      <td>0</td>\n",
       "      <td>0</td>\n",
       "      <td>1</td>\n",
       "      <td>1</td>\n",
       "      <td>1</td>\n",
       "    </tr>\n",
       "    <tr>\n",
       "      <th>77328</th>\n",
       "      <td>7.293784</td>\n",
       "      <td>40.274612</td>\n",
       "      <td>1</td>\n",
       "      <td>1</td>\n",
       "      <td>0</td>\n",
       "      <td>0</td>\n",
       "      <td>0</td>\n",
       "      <td>0</td>\n",
       "      <td>0</td>\n",
       "      <td>0</td>\n",
       "    </tr>\n",
       "    <tr>\n",
       "      <th>23994</th>\n",
       "      <td>9.686715</td>\n",
       "      <td>37.323148</td>\n",
       "      <td>1</td>\n",
       "      <td>0</td>\n",
       "      <td>1</td>\n",
       "      <td>1</td>\n",
       "      <td>1</td>\n",
       "      <td>1</td>\n",
       "      <td>1</td>\n",
       "      <td>1</td>\n",
       "    </tr>\n",
       "    <tr>\n",
       "      <th>30335</th>\n",
       "      <td>1.158135</td>\n",
       "      <td>36.485349</td>\n",
       "      <td>0</td>\n",
       "      <td>0</td>\n",
       "      <td>0</td>\n",
       "      <td>0</td>\n",
       "      <td>0</td>\n",
       "      <td>0</td>\n",
       "      <td>0</td>\n",
       "      <td>0</td>\n",
       "    </tr>\n",
       "    <tr>\n",
       "      <th>1074</th>\n",
       "      <td>16.509579</td>\n",
       "      <td>58.248972</td>\n",
       "      <td>0</td>\n",
       "      <td>0</td>\n",
       "      <td>0</td>\n",
       "      <td>0</td>\n",
       "      <td>0</td>\n",
       "      <td>0</td>\n",
       "      <td>0</td>\n",
       "      <td>0</td>\n",
       "    </tr>\n",
       "    <tr>\n",
       "      <th>107432</th>\n",
       "      <td>21.415909</td>\n",
       "      <td>42.809914</td>\n",
       "      <td>0</td>\n",
       "      <td>0</td>\n",
       "      <td>0</td>\n",
       "      <td>0</td>\n",
       "      <td>0</td>\n",
       "      <td>0</td>\n",
       "      <td>0</td>\n",
       "      <td>0</td>\n",
       "    </tr>\n",
       "    <tr>\n",
       "      <th>105949</th>\n",
       "      <td>0.449017</td>\n",
       "      <td>35.475061</td>\n",
       "      <td>0</td>\n",
       "      <td>0</td>\n",
       "      <td>0</td>\n",
       "      <td>0</td>\n",
       "      <td>0</td>\n",
       "      <td>0</td>\n",
       "      <td>1</td>\n",
       "      <td>1</td>\n",
       "    </tr>\n",
       "    <tr>\n",
       "      <th>41530</th>\n",
       "      <td>8.651786</td>\n",
       "      <td>48.129667</td>\n",
       "      <td>0</td>\n",
       "      <td>0</td>\n",
       "      <td>0</td>\n",
       "      <td>0</td>\n",
       "      <td>0</td>\n",
       "      <td>0</td>\n",
       "      <td>0</td>\n",
       "      <td>0</td>\n",
       "    </tr>\n",
       "    <tr>\n",
       "      <th>12177</th>\n",
       "      <td>8.887246</td>\n",
       "      <td>28.164849</td>\n",
       "      <td>0</td>\n",
       "      <td>0</td>\n",
       "      <td>0</td>\n",
       "      <td>0</td>\n",
       "      <td>0</td>\n",
       "      <td>0</td>\n",
       "      <td>0</td>\n",
       "      <td>0</td>\n",
       "    </tr>\n",
       "    <tr>\n",
       "      <th>90507</th>\n",
       "      <td>3.726291</td>\n",
       "      <td>59.188074</td>\n",
       "      <td>0</td>\n",
       "      <td>0</td>\n",
       "      <td>0</td>\n",
       "      <td>0</td>\n",
       "      <td>0</td>\n",
       "      <td>0</td>\n",
       "      <td>0</td>\n",
       "      <td>0</td>\n",
       "    </tr>\n",
       "  </tbody>\n",
       "</table>\n",
       "<p>23866 rows × 10 columns</p>\n",
       "</div>"
      ],
      "text/plain": [
       "        Tenure_years  Age_years  terminated  within5yr_sep  p5_0  p5_1  p5_2  \\\n",
       "25915       0.662573  25.859532           1              1     0     0     1   \n",
       "129486      2.576370  29.364053           0              0     0     0     0   \n",
       "14289      11.551230  55.486423           0              0     0     0     0   \n",
       "29041      17.122870  59.831482           0              0     0     0     0   \n",
       "48029      25.555624  44.469086           0              0     1     1     1   \n",
       "59412      24.309876  45.312361           0              0     0     0     0   \n",
       "65674       3.545590  27.452994           1              0     0     0     1   \n",
       "65872      12.681985  42.823603           0              0     0     0     0   \n",
       "70843      13.289801  56.310533           0              0     0     0     0   \n",
       "46577      15.627973  36.310123           0              0     0     0     0   \n",
       "86579      11.701815  38.141783           1              0     0     0     0   \n",
       "93871      21.489832  54.443281           0              0     0     0     0   \n",
       "33172      15.852482  43.680568           0              0     0     0     0   \n",
       "16453       2.559943  29.197040           1              0     0     0     0   \n",
       "61976      37.553133  55.163350           0              0     0     0     0   \n",
       "15198      11.507423  45.430091           0              0     0     0     0   \n",
       "86363       0.251887  26.157964           1              0     0     1     1   \n",
       "2107        1.344312  26.376996           1              0     0     1     1   \n",
       "74693       0.884344  32.359323           1              1     0     0     0   \n",
       "85838      21.528163  42.820866           0              0     0     0     0   \n",
       "119603      9.878368  34.245741           0              0     0     0     0   \n",
       "132929      2.135567  53.934030           0              0     0     0     0   \n",
       "110288      9.725046  34.089680           0              0     0     0     0   \n",
       "34796      23.633613  44.934530           0              0     0     0     0   \n",
       "36678      16.586241  38.481283           0              0     0     0     1   \n",
       "12632      28.956105  54.547321           1              0     0     0     0   \n",
       "54591      25.763705  58.643230           0              0     0     0     0   \n",
       "113476     19.652696  44.406114           0              0     0     0     0   \n",
       "85016       9.840038  29.030028           0              0     0     0     1   \n",
       "96787      21.593873  44.288384           1              0     0     0     0   \n",
       "...              ...        ...         ...            ...   ...   ...   ...   \n",
       "107589     13.289801  40.449838           0              0     0     0     0   \n",
       "77356       2.943250  29.613202           1              0     0     1     1   \n",
       "1556        0.487347  42.741466           0              0     0     0     0   \n",
       "10328      22.182523  46.240511           0              0     0     0     0   \n",
       "133517     11.781214  38.322484           1              0     1     1     1   \n",
       "1752       15.222763  39.239683           1              0     1     1     1   \n",
       "57028       1.809757  32.058153           0              0     0     0     0   \n",
       "23485       2.863851  35.236863           0              0     0     0     0   \n",
       "12859       0.829586  23.272210           1              1     0     0     0   \n",
       "32892      21.243420  44.975598           0              0     0     0     0   \n",
       "69113      10.885918  37.881681           1              0     0     0     0   \n",
       "24727      14.702561  50.886740           1              1     0     0     0   \n",
       "20824       2.442213  50.352848           1              0     0     0     0   \n",
       "116936     20.014100  46.911299           0              0     0     0     0   \n",
       "96996       0.443541  21.897780           1              0     1     1     1   \n",
       "132247      0.941840  39.105526           1              0     0     0     0   \n",
       "38720       5.051438  43.119297           1              0     0     0     0   \n",
       "45966      10.168587  35.023306           1              0     1     1     1   \n",
       "26591       0.873392  23.504932           1              0     0     0     0   \n",
       "124531     13.005058  52.493891           1              1     0     0     0   \n",
       "235         7.126772  28.372930           1              1     0     0     0   \n",
       "77328       7.293784  40.274612           1              1     0     0     0   \n",
       "23994       9.686715  37.323148           1              0     1     1     1   \n",
       "30335       1.158135  36.485349           0              0     0     0     0   \n",
       "1074       16.509579  58.248972           0              0     0     0     0   \n",
       "107432     21.415909  42.809914           0              0     0     0     0   \n",
       "105949      0.449017  35.475061           0              0     0     0     0   \n",
       "41530       8.651786  48.129667           0              0     0     0     0   \n",
       "12177       8.887246  28.164849           0              0     0     0     0   \n",
       "90507       3.726291  59.188074           0              0     0     0     0   \n",
       "\n",
       "        p5_3  p5_4  p5_5  \n",
       "25915      1     1     1  \n",
       "129486     0     0     1  \n",
       "14289      0     0     0  \n",
       "29041      0     0     0  \n",
       "48029      1     1     1  \n",
       "59412      0     0     0  \n",
       "65674      1     1     1  \n",
       "65872      0     0     0  \n",
       "70843      0     0     0  \n",
       "46577      0     0     0  \n",
       "86579      0     0     0  \n",
       "93871      0     0     0  \n",
       "33172      0     0     0  \n",
       "16453      1     1     1  \n",
       "61976      0     0     0  \n",
       "15198      0     0     0  \n",
       "86363      1     1     1  \n",
       "2107       1     1     1  \n",
       "74693      0     0     0  \n",
       "85838      0     0     0  \n",
       "119603     0     0     0  \n",
       "132929     0     0     0  \n",
       "110288     0     1     1  \n",
       "34796      0     0     0  \n",
       "36678      1     1     1  \n",
       "12632      0     0     0  \n",
       "54591      0     0     0  \n",
       "113476     0     0     0  \n",
       "85016      1     1     1  \n",
       "96787      0     0     0  \n",
       "...      ...   ...   ...  \n",
       "107589     0     0     0  \n",
       "77356      1     1     1  \n",
       "1556       0     0     0  \n",
       "10328      0     0     0  \n",
       "133517     1     1     1  \n",
       "1752       1     1     1  \n",
       "57028      0     0     0  \n",
       "23485      0     0     0  \n",
       "12859      1     1     1  \n",
       "32892      0     0     0  \n",
       "69113      0     0     0  \n",
       "24727      0     0     0  \n",
       "20824      0     0     0  \n",
       "116936     0     0     0  \n",
       "96996      1     1     1  \n",
       "132247     1     1     1  \n",
       "38720      0     0     0  \n",
       "45966      1     1     1  \n",
       "26591      1     1     1  \n",
       "124531     0     1     1  \n",
       "235        1     1     1  \n",
       "77328      0     0     0  \n",
       "23994      1     1     1  \n",
       "30335      0     0     0  \n",
       "1074       0     0     0  \n",
       "107432     0     0     0  \n",
       "105949     0     1     1  \n",
       "41530      0     0     0  \n",
       "12177      0     0     0  \n",
       "90507      0     0     0  \n",
       "\n",
       "[23866 rows x 10 columns]"
      ]
     },
     "execution_count": 581,
     "metadata": {},
     "output_type": "execute_result"
    }
   ],
   "source": [
    "ne2e_tmp=pd.concat([ne2e_tmp,tdf],axis=1)\n",
    "ne2e_tmp"
   ]
  },
  {
   "cell_type": "code",
   "execution_count": 582,
   "metadata": {
    "collapsed": false
   },
   "outputs": [
    {
     "name": "stdout",
     "output_type": "stream",
     "text": [
      "0.041966662949\n"
     ]
    },
    {
     "data": {
      "image/png": "[encoded data removed]",
      "text/plain": [
       "<matplotlib.figure.Figure at 0x11704128>"
      ]
     },
     "metadata": {},
     "output_type": "display_data"
    }
   ],
   "source": [
    "plot_conf_matrix(ne2e_tmp.within5yr_sep,ne2e_tmp.p5_0,normed=False)"
   ]
  },
  {
   "cell_type": "code",
   "execution_count": 645,
   "metadata": {
    "collapsed": false
   },
   "outputs": [
    {
     "name": "stdout",
     "output_type": "stream",
     "text": [
      "0.496785013607\n"
     ]
    },
    {
     "data": {
      "image/png": "[encoded data removed]",
      "text/plain": [
       "<matplotlib.figure.Figure at 0x18baaac8>"
      ]
     },
     "metadata": {},
     "output_type": "display_data"
    }
   ],
   "source": [
    "plot_conf_matrix(ne2e_tmp.terminated,ne2e_tmp.p5_1,normed=False)"
   ]
  },
  {
   "cell_type": "code",
   "execution_count": 590,
   "metadata": {
    "collapsed": true
   },
   "outputs": [
    {
     "data": {
      "text/html": [
       "<div>\n",
       "<table border=\"1\" class=\"dataframe\">\n",
       "  <thead>\n",
       "    <tr style=\"text-align: right;\">\n",
       "      <th></th>\n",
       "      <th>p5_0</th>\n",
       "      <th>p5_1</th>\n",
       "      <th>p5_2</th>\n",
       "      <th>p5_3</th>\n",
       "      <th>p5_4</th>\n",
       "      <th>p5_5</th>\n",
       "    </tr>\n",
       "  </thead>\n",
       "  <tbody>\n",
       "    <tr>\n",
       "      <th>25915</th>\n",
       "      <td>0</td>\n",
       "      <td>0</td>\n",
       "      <td>1</td>\n",
       "      <td>1</td>\n",
       "      <td>1</td>\n",
       "      <td>1</td>\n",
       "    </tr>\n",
       "    <tr>\n",
       "      <th>129486</th>\n",
       "      <td>0</td>\n",
       "      <td>0</td>\n",
       "      <td>0</td>\n",
       "      <td>0</td>\n",
       "      <td>0</td>\n",
       "      <td>1</td>\n",
       "    </tr>\n",
       "    <tr>\n",
       "      <th>14289</th>\n",
       "      <td>0</td>\n",
       "      <td>0</td>\n",
       "      <td>0</td>\n",
       "      <td>0</td>\n",
       "      <td>0</td>\n",
       "      <td>0</td>\n",
       "    </tr>\n",
       "    <tr>\n",
       "      <th>29041</th>\n",
       "      <td>0</td>\n",
       "      <td>0</td>\n",
       "      <td>0</td>\n",
       "      <td>0</td>\n",
       "      <td>0</td>\n",
       "      <td>0</td>\n",
       "    </tr>\n",
       "    <tr>\n",
       "      <th>48029</th>\n",
       "      <td>1</td>\n",
       "      <td>1</td>\n",
       "      <td>1</td>\n",
       "      <td>1</td>\n",
       "      <td>1</td>\n",
       "      <td>1</td>\n",
       "    </tr>\n",
       "    <tr>\n",
       "      <th>59412</th>\n",
       "      <td>0</td>\n",
       "      <td>0</td>\n",
       "      <td>0</td>\n",
       "      <td>0</td>\n",
       "      <td>0</td>\n",
       "      <td>0</td>\n",
       "    </tr>\n",
       "    <tr>\n",
       "      <th>65674</th>\n",
       "      <td>0</td>\n",
       "      <td>0</td>\n",
       "      <td>1</td>\n",
       "      <td>1</td>\n",
       "      <td>1</td>\n",
       "      <td>1</td>\n",
       "    </tr>\n",
       "    <tr>\n",
       "      <th>65872</th>\n",
       "      <td>0</td>\n",
       "      <td>0</td>\n",
       "      <td>0</td>\n",
       "      <td>0</td>\n",
       "      <td>0</td>\n",
       "      <td>0</td>\n",
       "    </tr>\n",
       "    <tr>\n",
       "      <th>70843</th>\n",
       "      <td>0</td>\n",
       "      <td>0</td>\n",
       "      <td>0</td>\n",
       "      <td>0</td>\n",
       "      <td>0</td>\n",
       "      <td>0</td>\n",
       "    </tr>\n",
       "    <tr>\n",
       "      <th>46577</th>\n",
       "      <td>0</td>\n",
       "      <td>0</td>\n",
       "      <td>0</td>\n",
       "      <td>0</td>\n",
       "      <td>0</td>\n",
       "      <td>0</td>\n",
       "    </tr>\n",
       "    <tr>\n",
       "      <th>86579</th>\n",
       "      <td>0</td>\n",
       "      <td>0</td>\n",
       "      <td>0</td>\n",
       "      <td>0</td>\n",
       "      <td>0</td>\n",
       "      <td>0</td>\n",
       "    </tr>\n",
       "    <tr>\n",
       "      <th>93871</th>\n",
       "      <td>0</td>\n",
       "      <td>0</td>\n",
       "      <td>0</td>\n",
       "      <td>0</td>\n",
       "      <td>0</td>\n",
       "      <td>0</td>\n",
       "    </tr>\n",
       "    <tr>\n",
       "      <th>33172</th>\n",
       "      <td>0</td>\n",
       "      <td>0</td>\n",
       "      <td>0</td>\n",
       "      <td>0</td>\n",
       "      <td>0</td>\n",
       "      <td>0</td>\n",
       "    </tr>\n",
       "    <tr>\n",
       "      <th>16453</th>\n",
       "      <td>0</td>\n",
       "      <td>0</td>\n",
       "      <td>0</td>\n",
       "      <td>1</td>\n",
       "      <td>1</td>\n",
       "      <td>1</td>\n",
       "    </tr>\n",
       "    <tr>\n",
       "      <th>61976</th>\n",
       "      <td>0</td>\n",
       "      <td>0</td>\n",
       "      <td>0</td>\n",
       "      <td>0</td>\n",
       "      <td>0</td>\n",
       "      <td>0</td>\n",
       "    </tr>\n",
       "    <tr>\n",
       "      <th>15198</th>\n",
       "      <td>0</td>\n",
       "      <td>0</td>\n",
       "      <td>0</td>\n",
       "      <td>0</td>\n",
       "      <td>0</td>\n",
       "      <td>0</td>\n",
       "    </tr>\n",
       "    <tr>\n",
       "      <th>86363</th>\n",
       "      <td>0</td>\n",
       "      <td>1</td>\n",
       "      <td>1</td>\n",
       "      <td>1</td>\n",
       "      <td>1</td>\n",
       "      <td>1</td>\n",
       "    </tr>\n",
       "    <tr>\n",
       "      <th>2107</th>\n",
       "      <td>0</td>\n",
       "      <td>1</td>\n",
       "      <td>1</td>\n",
       "      <td>1</td>\n",
       "      <td>1</td>\n",
       "      <td>1</td>\n",
       "    </tr>\n",
       "    <tr>\n",
       "      <th>74693</th>\n",
       "      <td>0</td>\n",
       "      <td>0</td>\n",
       "      <td>0</td>\n",
       "      <td>0</td>\n",
       "      <td>0</td>\n",
       "      <td>0</td>\n",
       "    </tr>\n",
       "    <tr>\n",
       "      <th>85838</th>\n",
       "      <td>0</td>\n",
       "      <td>0</td>\n",
       "      <td>0</td>\n",
       "      <td>0</td>\n",
       "      <td>0</td>\n",
       "      <td>0</td>\n",
       "    </tr>\n",
       "    <tr>\n",
       "      <th>119603</th>\n",
       "      <td>0</td>\n",
       "      <td>0</td>\n",
       "      <td>0</td>\n",
       "      <td>0</td>\n",
       "      <td>0</td>\n",
       "      <td>0</td>\n",
       "    </tr>\n",
       "    <tr>\n",
       "      <th>132929</th>\n",
       "      <td>0</td>\n",
       "      <td>0</td>\n",
       "      <td>0</td>\n",
       "      <td>0</td>\n",
       "      <td>0</td>\n",
       "      <td>0</td>\n",
       "    </tr>\n",
       "    <tr>\n",
       "      <th>110288</th>\n",
       "      <td>0</td>\n",
       "      <td>0</td>\n",
       "      <td>0</td>\n",
       "      <td>0</td>\n",
       "      <td>1</td>\n",
       "      <td>1</td>\n",
       "    </tr>\n",
       "    <tr>\n",
       "      <th>34796</th>\n",
       "      <td>0</td>\n",
       "      <td>0</td>\n",
       "      <td>0</td>\n",
       "      <td>0</td>\n",
       "      <td>0</td>\n",
       "      <td>0</td>\n",
       "    </tr>\n",
       "    <tr>\n",
       "      <th>36678</th>\n",
       "      <td>0</td>\n",
       "      <td>0</td>\n",
       "      <td>1</td>\n",
       "      <td>1</td>\n",
       "      <td>1</td>\n",
       "      <td>1</td>\n",
       "    </tr>\n",
       "    <tr>\n",
       "      <th>12632</th>\n",
       "      <td>0</td>\n",
       "      <td>0</td>\n",
       "      <td>0</td>\n",
       "      <td>0</td>\n",
       "      <td>0</td>\n",
       "      <td>0</td>\n",
       "    </tr>\n",
       "    <tr>\n",
       "      <th>54591</th>\n",
       "      <td>0</td>\n",
       "      <td>0</td>\n",
       "      <td>0</td>\n",
       "      <td>0</td>\n",
       "      <td>0</td>\n",
       "      <td>0</td>\n",
       "    </tr>\n",
       "    <tr>\n",
       "      <th>113476</th>\n",
       "      <td>0</td>\n",
       "      <td>0</td>\n",
       "      <td>0</td>\n",
       "      <td>0</td>\n",
       "      <td>0</td>\n",
       "      <td>0</td>\n",
       "    </tr>\n",
       "    <tr>\n",
       "      <th>85016</th>\n",
       "      <td>0</td>\n",
       "      <td>0</td>\n",
       "      <td>1</td>\n",
       "      <td>1</td>\n",
       "      <td>1</td>\n",
       "      <td>1</td>\n",
       "    </tr>\n",
       "    <tr>\n",
       "      <th>96787</th>\n",
       "      <td>0</td>\n",
       "      <td>0</td>\n",
       "      <td>0</td>\n",
       "      <td>0</td>\n",
       "      <td>0</td>\n",
       "      <td>0</td>\n",
       "    </tr>\n",
       "    <tr>\n",
       "      <th>...</th>\n",
       "      <td>...</td>\n",
       "      <td>...</td>\n",
       "      <td>...</td>\n",
       "      <td>...</td>\n",
       "      <td>...</td>\n",
       "      <td>...</td>\n",
       "    </tr>\n",
       "    <tr>\n",
       "      <th>107589</th>\n",
       "      <td>0</td>\n",
       "      <td>0</td>\n",
       "      <td>0</td>\n",
       "      <td>0</td>\n",
       "      <td>0</td>\n",
       "      <td>0</td>\n",
       "    </tr>\n",
       "    <tr>\n",
       "      <th>77356</th>\n",
       "      <td>0</td>\n",
       "      <td>1</td>\n",
       "      <td>1</td>\n",
       "      <td>1</td>\n",
       "      <td>1</td>\n",
       "      <td>1</td>\n",
       "    </tr>\n",
       "    <tr>\n",
       "      <th>1556</th>\n",
       "      <td>0</td>\n",
       "      <td>0</td>\n",
       "      <td>0</td>\n",
       "      <td>0</td>\n",
       "      <td>0</td>\n",
       "      <td>0</td>\n",
       "    </tr>\n",
       "    <tr>\n",
       "      <th>10328</th>\n",
       "      <td>0</td>\n",
       "      <td>0</td>\n",
       "      <td>0</td>\n",
       "      <td>0</td>\n",
       "      <td>0</td>\n",
       "      <td>0</td>\n",
       "    </tr>\n",
       "    <tr>\n",
       "      <th>133517</th>\n",
       "      <td>1</td>\n",
       "      <td>1</td>\n",
       "      <td>1</td>\n",
       "      <td>1</td>\n",
       "      <td>1</td>\n",
       "      <td>1</td>\n",
       "    </tr>\n",
       "    <tr>\n",
       "      <th>1752</th>\n",
       "      <td>1</td>\n",
       "      <td>1</td>\n",
       "      <td>1</td>\n",
       "      <td>1</td>\n",
       "      <td>1</td>\n",
       "      <td>1</td>\n",
       "    </tr>\n",
       "    <tr>\n",
       "      <th>57028</th>\n",
       "      <td>0</td>\n",
       "      <td>0</td>\n",
       "      <td>0</td>\n",
       "      <td>0</td>\n",
       "      <td>0</td>\n",
       "      <td>0</td>\n",
       "    </tr>\n",
       "    <tr>\n",
       "      <th>23485</th>\n",
       "      <td>0</td>\n",
       "      <td>0</td>\n",
       "      <td>0</td>\n",
       "      <td>0</td>\n",
       "      <td>0</td>\n",
       "      <td>0</td>\n",
       "    </tr>\n",
       "    <tr>\n",
       "      <th>12859</th>\n",
       "      <td>0</td>\n",
       "      <td>0</td>\n",
       "      <td>0</td>\n",
       "      <td>1</td>\n",
       "      <td>1</td>\n",
       "      <td>1</td>\n",
       "    </tr>\n",
       "    <tr>\n",
       "      <th>32892</th>\n",
       "      <td>0</td>\n",
       "      <td>0</td>\n",
       "      <td>0</td>\n",
       "      <td>0</td>\n",
       "      <td>0</td>\n",
       "      <td>0</td>\n",
       "    </tr>\n",
       "    <tr>\n",
       "      <th>69113</th>\n",
       "      <td>0</td>\n",
       "      <td>0</td>\n",
       "      <td>0</td>\n",
       "      <td>0</td>\n",
       "      <td>0</td>\n",
       "      <td>0</td>\n",
       "    </tr>\n",
       "    <tr>\n",
       "      <th>24727</th>\n",
       "      <td>0</td>\n",
       "      <td>0</td>\n",
       "      <td>0</td>\n",
       "      <td>0</td>\n",
       "      <td>0</td>\n",
       "      <td>0</td>\n",
       "    </tr>\n",
       "    <tr>\n",
       "      <th>20824</th>\n",
       "      <td>0</td>\n",
       "      <td>0</td>\n",
       "      <td>0</td>\n",
       "      <td>0</td>\n",
       "      <td>0</td>\n",
       "      <td>0</td>\n",
       "    </tr>\n",
       "    <tr>\n",
       "      <th>116936</th>\n",
       "      <td>0</td>\n",
       "      <td>0</td>\n",
       "      <td>0</td>\n",
       "      <td>0</td>\n",
       "      <td>0</td>\n",
       "      <td>0</td>\n",
       "    </tr>\n",
       "    <tr>\n",
       "      <th>96996</th>\n",
       "      <td>1</td>\n",
       "      <td>1</td>\n",
       "      <td>1</td>\n",
       "      <td>1</td>\n",
       "      <td>1</td>\n",
       "      <td>1</td>\n",
       "    </tr>\n",
       "    <tr>\n",
       "      <th>132247</th>\n",
       "      <td>0</td>\n",
       "      <td>0</td>\n",
       "      <td>0</td>\n",
       "      <td>1</td>\n",
       "      <td>1</td>\n",
       "      <td>1</td>\n",
       "    </tr>\n",
       "    <tr>\n",
       "      <th>38720</th>\n",
       "      <td>0</td>\n",
       "      <td>0</td>\n",
       "      <td>0</td>\n",
       "      <td>0</td>\n",
       "      <td>0</td>\n",
       "      <td>0</td>\n",
       "    </tr>\n",
       "    <tr>\n",
       "      <th>45966</th>\n",
       "      <td>1</td>\n",
       "      <td>1</td>\n",
       "      <td>1</td>\n",
       "      <td>1</td>\n",
       "      <td>1</td>\n",
       "      <td>1</td>\n",
       "    </tr>\n",
       "    <tr>\n",
       "      <th>26591</th>\n",
       "      <td>0</td>\n",
       "      <td>0</td>\n",
       "      <td>0</td>\n",
       "      <td>1</td>\n",
       "      <td>1</td>\n",
       "      <td>1</td>\n",
       "    </tr>\n",
       "    <tr>\n",
       "      <th>124531</th>\n",
       "      <td>0</td>\n",
       "      <td>0</td>\n",
       "      <td>0</td>\n",
       "      <td>0</td>\n",
       "      <td>1</td>\n",
       "      <td>1</td>\n",
       "    </tr>\n",
       "    <tr>\n",
       "      <th>235</th>\n",
       "      <td>0</td>\n",
       "      <td>0</td>\n",
       "      <td>0</td>\n",
       "      <td>1</td>\n",
       "      <td>1</td>\n",
       "      <td>1</td>\n",
       "    </tr>\n",
       "    <tr>\n",
       "      <th>77328</th>\n",
       "      <td>0</td>\n",
       "      <td>0</td>\n",
       "      <td>0</td>\n",
       "      <td>0</td>\n",
       "      <td>0</td>\n",
       "      <td>0</td>\n",
       "    </tr>\n",
       "    <tr>\n",
       "      <th>23994</th>\n",
       "      <td>1</td>\n",
       "      <td>1</td>\n",
       "      <td>1</td>\n",
       "      <td>1</td>\n",
       "      <td>1</td>\n",
       "      <td>1</td>\n",
       "    </tr>\n",
       "    <tr>\n",
       "      <th>30335</th>\n",
       "      <td>0</td>\n",
       "      <td>0</td>\n",
       "      <td>0</td>\n",
       "      <td>0</td>\n",
       "      <td>0</td>\n",
       "      <td>0</td>\n",
       "    </tr>\n",
       "    <tr>\n",
       "      <th>1074</th>\n",
       "      <td>0</td>\n",
       "      <td>0</td>\n",
       "      <td>0</td>\n",
       "      <td>0</td>\n",
       "      <td>0</td>\n",
       "      <td>0</td>\n",
       "    </tr>\n",
       "    <tr>\n",
       "      <th>107432</th>\n",
       "      <td>0</td>\n",
       "      <td>0</td>\n",
       "      <td>0</td>\n",
       "      <td>0</td>\n",
       "      <td>0</td>\n",
       "      <td>0</td>\n",
       "    </tr>\n",
       "    <tr>\n",
       "      <th>105949</th>\n",
       "      <td>0</td>\n",
       "      <td>0</td>\n",
       "      <td>0</td>\n",
       "      <td>0</td>\n",
       "      <td>1</td>\n",
       "      <td>1</td>\n",
       "    </tr>\n",
       "    <tr>\n",
       "      <th>41530</th>\n",
       "      <td>0</td>\n",
       "      <td>0</td>\n",
       "      <td>0</td>\n",
       "      <td>0</td>\n",
       "      <td>0</td>\n",
       "      <td>0</td>\n",
       "    </tr>\n",
       "    <tr>\n",
       "      <th>12177</th>\n",
       "      <td>0</td>\n",
       "      <td>0</td>\n",
       "      <td>0</td>\n",
       "      <td>0</td>\n",
       "      <td>0</td>\n",
       "      <td>0</td>\n",
       "    </tr>\n",
       "    <tr>\n",
       "      <th>90507</th>\n",
       "      <td>0</td>\n",
       "      <td>0</td>\n",
       "      <td>0</td>\n",
       "      <td>0</td>\n",
       "      <td>0</td>\n",
       "      <td>0</td>\n",
       "    </tr>\n",
       "  </tbody>\n",
       "</table>\n",
       "<p>23866 rows × 6 columns</p>\n",
       "</div>"
      ],
      "text/plain": [
       "        p5_0  p5_1  p5_2  p5_3  p5_4  p5_5\n",
       "25915      0     0     1     1     1     1\n",
       "129486     0     0     0     0     0     1\n",
       "14289      0     0     0     0     0     0\n",
       "29041      0     0     0     0     0     0\n",
       "48029      1     1     1     1     1     1\n",
       "59412      0     0     0     0     0     0\n",
       "65674      0     0     1     1     1     1\n",
       "65872      0     0     0     0     0     0\n",
       "70843      0     0     0     0     0     0\n",
       "46577      0     0     0     0     0     0\n",
       "86579      0     0     0     0     0     0\n",
       "93871      0     0     0     0     0     0\n",
       "33172      0     0     0     0     0     0\n",
       "16453      0     0     0     1     1     1\n",
       "61976      0     0     0     0     0     0\n",
       "15198      0     0     0     0     0     0\n",
       "86363      0     1     1     1     1     1\n",
       "2107       0     1     1     1     1     1\n",
       "74693      0     0     0     0     0     0\n",
       "85838      0     0     0     0     0     0\n",
       "119603     0     0     0     0     0     0\n",
       "132929     0     0     0     0     0     0\n",
       "110288     0     0     0     0     1     1\n",
       "34796      0     0     0     0     0     0\n",
       "36678      0     0     1     1     1     1\n",
       "12632      0     0     0     0     0     0\n",
       "54591      0     0     0     0     0     0\n",
       "113476     0     0     0     0     0     0\n",
       "85016      0     0     1     1     1     1\n",
       "96787      0     0     0     0     0     0\n",
       "...      ...   ...   ...   ...   ...   ...\n",
       "107589     0     0     0     0     0     0\n",
       "77356      0     1     1     1     1     1\n",
       "1556       0     0     0     0     0     0\n",
       "10328      0     0     0     0     0     0\n",
       "133517     1     1     1     1     1     1\n",
       "1752       1     1     1     1     1     1\n",
       "57028      0     0     0     0     0     0\n",
       "23485      0     0     0     0     0     0\n",
       "12859      0     0     0     1     1     1\n",
       "32892      0     0     0     0     0     0\n",
       "69113      0     0     0     0     0     0\n",
       "24727      0     0     0     0     0     0\n",
       "20824      0     0     0     0     0     0\n",
       "116936     0     0     0     0     0     0\n",
       "96996      1     1     1     1     1     1\n",
       "132247     0     0     0     1     1     1\n",
       "38720      0     0     0     0     0     0\n",
       "45966      1     1     1     1     1     1\n",
       "26591      0     0     0     1     1     1\n",
       "124531     0     0     0     0     1     1\n",
       "235        0     0     0     1     1     1\n",
       "77328      0     0     0     0     0     0\n",
       "23994      1     1     1     1     1     1\n",
       "30335      0     0     0     0     0     0\n",
       "1074       0     0     0     0     0     0\n",
       "107432     0     0     0     0     0     0\n",
       "105949     0     0     0     0     1     1\n",
       "41530      0     0     0     0     0     0\n",
       "12177      0     0     0     0     0     0\n",
       "90507      0     0     0     0     0     0\n",
       "\n",
       "[23866 rows x 6 columns]"
      ]
     },
     "execution_count": 590,
     "metadata": {},
     "output_type": "execute_result"
    },
    {
     "name": "stdout",
     "output_type": "stream",
     "text": [
      "\n"
     ]
    }
   ],
   "source": [
    "ne2e_tmp[cola]"
   ]
  },
  {
   "cell_type": "code",
   "execution_count": 593,
   "metadata": {
    "collapsed": false
   },
   "outputs": [
    {
     "data": {
      "text/html": [
       "<div>\n",
       "<table border=\"1\" class=\"dataframe\">\n",
       "  <thead>\n",
       "    <tr style=\"text-align: right;\">\n",
       "      <th></th>\n",
       "      <th>0</th>\n",
       "      <th>1</th>\n",
       "      <th>2</th>\n",
       "      <th>3</th>\n",
       "      <th>4</th>\n",
       "      <th>5</th>\n",
       "    </tr>\n",
       "  </thead>\n",
       "  <tbody>\n",
       "    <tr>\n",
       "      <th>25915</th>\n",
       "      <td>0.790794</td>\n",
       "      <td>0.535808</td>\n",
       "      <td>0.363877</td>\n",
       "      <td>0.242069</td>\n",
       "      <td>0.150915</td>\n",
       "      <td>0.089789</td>\n",
       "    </tr>\n",
       "    <tr>\n",
       "      <th>129486</th>\n",
       "      <td>0.795955</td>\n",
       "      <td>0.723477</td>\n",
       "      <td>0.648348</td>\n",
       "      <td>0.574688</td>\n",
       "      <td>0.503543</td>\n",
       "      <td>0.437477</td>\n",
       "    </tr>\n",
       "    <tr>\n",
       "      <th>14289</th>\n",
       "      <td>0.813476</td>\n",
       "      <td>0.790346</td>\n",
       "      <td>0.763374</td>\n",
       "      <td>0.736620</td>\n",
       "      <td>0.708404</td>\n",
       "      <td>0.678051</td>\n",
       "    </tr>\n",
       "    <tr>\n",
       "      <th>29041</th>\n",
       "      <td>0.831739</td>\n",
       "      <td>0.813772</td>\n",
       "      <td>0.794459</td>\n",
       "      <td>0.778485</td>\n",
       "      <td>0.761787</td>\n",
       "      <td>0.744483</td>\n",
       "    </tr>\n",
       "    <tr>\n",
       "      <th>48029</th>\n",
       "      <td>0.061212</td>\n",
       "      <td>0.046775</td>\n",
       "      <td>0.035034</td>\n",
       "      <td>0.026612</td>\n",
       "      <td>0.020436</td>\n",
       "      <td>0.015981</td>\n",
       "    </tr>\n",
       "  </tbody>\n",
       "</table>\n",
       "</div>"
      ],
      "text/plain": [
       "               0         1         2         3         4         5\n",
       "25915   0.790794  0.535808  0.363877  0.242069  0.150915  0.089789\n",
       "129486  0.795955  0.723477  0.648348  0.574688  0.503543  0.437477\n",
       "14289   0.813476  0.790346  0.763374  0.736620  0.708404  0.678051\n",
       "29041   0.831739  0.813772  0.794459  0.778485  0.761787  0.744483\n",
       "48029   0.061212  0.046775  0.035034  0.026612  0.020436  0.015981"
      ]
     },
     "execution_count": 593,
     "metadata": {},
     "output_type": "execute_result"
    }
   ],
   "source": [
    "ne2e_pred['surv'].head()"
   ]
  },
  {
   "cell_type": "code",
   "execution_count": 595,
   "metadata": {
    "collapsed": false
   },
   "outputs": [
    {
     "name": "stdout",
     "output_type": "stream",
     "text": [
      " p5_0  :  0.514536323124 \t0.194556582888\n",
      "p5_1  :  0.639348309059 \t0.258567617484\n",
      "p5_2  :  0.69306592217 \t0.290453439106\n",
      "p5_3  :  0.719150770557 \t0.308760330579\n",
      "p5_4  :  0.734895699202 \t0.319209693602\n",
      "p5_5  :  0.744576279601 \t0.327073438071\n"
     ]
    }
   ],
   "source": [
    "for cola in  tmp_cols:\n",
    "    print cola,\" : \", metrics.f1_score(ne2e_tmp.terminated, ne2e_tmp[cola]), \"\\t\", metrics.f1_score(ne2e_tmp.within5yr_sep, ne2e_tmp[cola])\n",
    "        "
   ]
  },
  {
   "cell_type": "code",
   "execution_count": 609,
   "metadata": {
    "collapsed": false
   },
   "outputs": [
    {
     "name": "stdout",
     "output_type": "stream",
     "text": [
      "p5_0  :  0.67605183896 \t0.662873537532\n",
      "p5_1  :  0.734168251989 \t0.721657185939\n",
      "p5_2  :  0.759119598642 \t0.751040688391\n",
      "p5_3  :  0.772517487379 \t0.765824842114\n",
      "p5_4  :  0.778486024746 \t0.77478926033\n",
      "p5_5  :  0.78190416221 \t0.780110680441\n"
     ]
    }
   ],
   "source": [
    "for cola in  tmp_cols:\n",
    "    colb = np.int(cola[-1])\n",
    "    #print cola,\" : \", metrics.hamming_loss(ne2e_tmp.terminated, ne2e_tmp[cola]), \"\\t\", metrics.roc_auc_score(ne2e_tmp.terminated, ne2e_tmp[cola])\n",
    "    print cola,\" : \", metrics.roc_auc_score(ne2e_tmp.terminated,((1-ne2e_pred['surv'][colb])+.54).astype(int)), \"\\t\", metrics.roc_auc_score(ne2e_tmp.terminated, ne2e_tmp[cola])    "
   ]
  },
  {
   "cell_type": "code",
   "execution_count": 607,
   "metadata": {
    "collapsed": false
   },
   "outputs": [
    {
     "name": "stdout",
     "output_type": "stream",
     "text": [
      "p5_0  :  0.20646697386 \t0.421910379554\n",
      "p5_1  :  0.171523623039 \t0.496785013607\n",
      "p5_2  :  0.160642482697 \t0.531139994323\n",
      "p5_3  :  0.156251663142 \t0.54570342554\n",
      "p5_4  :  0.155385738471 \t0.55376972146\n",
      "p5_5  :  0.156782539719 \t0.558280371839\n"
     ]
    }
   ],
   "source": [
    "for cola in  tmp_cols:\n",
    "    colb = np.int(cola[-1])\n",
    "    #print cola,\" : \", metrics.hamming_loss(ne2e_tmp.terminated, ne2e_tmp[cola]), \"\\t\", metrics.roc_auc_score(ne2e_tmp.terminated, ne2e_tmp[cola])\n",
    "    print cola,\" : \", metrics.brier_score_loss(ne2e_tmp.terminated, (1-ne2e_pred['surv'][colb])), \"\\t\", metrics.matthews_corrcoef(ne2e_tmp.terminated, ne2e_tmp[cola])    "
   ]
  },
  {
   "cell_type": "code",
   "execution_count": 510,
   "metadata": {
    "collapsed": false
   },
   "outputs": [
    {
     "data": {
      "text/plain": [
       "0     4528\n",
       "1     6585\n",
       "2     7881\n",
       "3     8835\n",
       "4     9631\n",
       "5    10314\n",
       "dtype: int64"
      ]
     },
     "execution_count": 510,
     "metadata": {},
     "output_type": "execute_result"
    }
   ],
   "source": [
    "((1-ne2e_pred['lbci'])>=0.5).astype(int).sum(axis=0)"
   ]
  },
  {
   "cell_type": "code",
   "execution_count": 511,
   "metadata": {
    "collapsed": false
   },
   "outputs": [
    {
     "data": {
      "text/plain": [
       "0     3868\n",
       "1     5906\n",
       "2     7306\n",
       "3     8384\n",
       "4     9299\n",
       "5    10072\n",
       "dtype: int64"
      ]
     },
     "execution_count": 511,
     "metadata": {},
     "output_type": "execute_result"
    }
   ],
   "source": [
    "((1-ne2e_pred['ubci'])>=0.5).astype(int).sum(axis=0)"
   ]
  },
  {
   "cell_type": "code",
   "execution_count": 509,
   "metadata": {
    "collapsed": false
   },
   "outputs": [
    {
     "name": "stdout",
     "output_type": "stream",
     "text": [
      "0 0.514536323124 0.421910379554\n",
      "1 0.639348309059 0.496785013607\n",
      "2 0.69306592217 0.531139994323\n",
      "3 0.719150770557 0.54570342554\n",
      "4 0.734895699202 0.55376972146\n",
      "5 0.744576279601 0.558280371839\n"
     ]
    }
   ],
   "source": [
    "for i in np.arange(0,6):\n",
    "    y_true = ne2e.terminated.values\n",
    "    y_50pred = ((1-ne2e_pred['surv'].loc[:,i])>=0.5).astype(int)\n",
    "    print i, metrics.f1_score(y_true,y_50pred), metrics.matthews_corrcoef(y_true,y_50pred) #print metrics.confusion_matrix(,)"
   ]
  },
  {
   "cell_type": "code",
   "execution_count": 655,
   "metadata": {
    "collapsed": false
   },
   "outputs": [
    {
     "name": "stdout",
     "output_type": "stream",
     "text": [
      "[[11222  2702]\n",
      " [ 2443  7499]]\n",
      "0.558280371839\n"
     ]
    },
    {
     "data": {
      "image/png": "[encoded data removed]",
      "text/plain": [
       "<matplotlib.figure.Figure at 0x337bb7f0>"
      ]
     },
     "metadata": {},
     "output_type": "display_data"
    }
   ],
   "source": [
    "print metrics.confusion_matrix(y_true,((1-ne2e_pred['surv'].loc[:,5])>=0.5).astype(int))\n",
    "plot_conf_matrix(y_true,((1-ne2e_pred['surv'].loc[:,5])>=0.5).astype(int),normed=False)"
   ]
  },
  {
   "cell_type": "code",
   "execution_count": 616,
   "metadata": {
    "collapsed": false
   },
   "outputs": [
    {
     "data": {
      "text/plain": [
       "<matplotlib.axes._subplots.AxesSubplot at 0x3fad1860>"
      ]
     },
     "execution_count": 616,
     "metadata": {},
     "output_type": "execute_result"
    },
    {
     "data": {
      "image/png": "[encoded data removed]",
      "text/plain": [
       "<matplotlib.figure.Figure at 0x192f4438>"
      ]
     },
     "metadata": {},
     "output_type": "display_data"
    }
   ],
   "source": [
    "#sns.distplot((1-ne2e_pred['surv'].loc[recent_term_idx,0]))\n",
    "#sns.distplot((1-ne2e_pred['surv'].loc[recent_term_idx,0]))\n",
    "sns.distplot(1-ne2e_pred['surv'].loc[recent_term_idx,5],label='terminated')\n",
    "#sns.distplot(1-ne2e_pred['surv'].loc[true_notterm_idx,0],label='not_terminated')"
   ]
  },
  {
   "cell_type": "markdown",
   "metadata": {},
   "source": [
    "## So let me try this on the 'current' employees"
   ]
  },
  {
   "cell_type": "code",
   "execution_count": 517,
   "metadata": {
    "collapsed": false
   },
   "outputs": [
    {
     "data": {
      "text/plain": [
       "69475"
      ]
     },
     "execution_count": 517,
     "metadata": {},
     "output_type": "execute_result"
    }
   ],
   "source": [
    "current = empl1[empl1.status == 0].copy()\n",
    "len(current)"
   ]
  },
  {
   "cell_type": "code",
   "execution_count": 524,
   "metadata": {
    "collapsed": true
   },
   "outputs": [],
   "source": [
    "curr = pipe.fit(ne2build[modeling_cols],ne2build.terminated).transform(current[modeling_cols])"
   ]
  },
  {
   "cell_type": "code",
   "execution_count": 526,
   "metadata": {
    "collapsed": false
   },
   "outputs": [
    {
     "data": {
      "text/plain": [
       "(69475, 123)"
      ]
     },
     "execution_count": 526,
     "metadata": {},
     "output_type": "execute_result"
    }
   ],
   "source": [
    "curr.shape"
   ]
  },
  {
   "cell_type": "code",
   "execution_count": 527,
   "metadata": {
    "collapsed": false
   },
   "outputs": [
    {
     "data": {
      "text/html": [
       "<div>\n",
       "<table border=\"1\" class=\"dataframe\">\n",
       "  <thead>\n",
       "    <tr style=\"text-align: right;\">\n",
       "      <th></th>\n",
       "      <th>ADDRCNT1</th>\n",
       "      <th>Age_years</th>\n",
       "      <th>BOX1</th>\n",
       "      <th>COMPANY</th>\n",
       "      <th>COMP_FREQUENCY</th>\n",
       "      <th>CUR_DEPT_MOS</th>\n",
       "      <th>CUR_EFUNC_MOS</th>\n",
       "      <th>CUR_FUNC_MOS</th>\n",
       "      <th>CUR_GRADE_MOS</th>\n",
       "      <th>CUR_JOB_MOS</th>\n",
       "      <th>...</th>\n",
       "      <th>loc_desc_MRSF</th>\n",
       "      <th>loc_desc_VAC</th>\n",
       "      <th>loc_desc_MC</th>\n",
       "      <th>loc_desc_EST</th>\n",
       "      <th>loc_desc_CAT</th>\n",
       "      <th>loc_desc_ESP</th>\n",
       "      <th>loc_desc_AO</th>\n",
       "      <th>loc_desc_SIU</th>\n",
       "      <th>MERIT1_d</th>\n",
       "      <th>PERF1_d</th>\n",
       "    </tr>\n",
       "  </thead>\n",
       "  <tbody>\n",
       "    <tr>\n",
       "      <th>1</th>\n",
       "      <td>1</td>\n",
       "      <td>21.322820</td>\n",
       "      <td>0</td>\n",
       "      <td>1</td>\n",
       "      <td>1</td>\n",
       "      <td>6.709677</td>\n",
       "      <td>6.709677</td>\n",
       "      <td>6.709677</td>\n",
       "      <td>6.709677</td>\n",
       "      <td>6.709677</td>\n",
       "      <td>...</td>\n",
       "      <td>0</td>\n",
       "      <td>0</td>\n",
       "      <td>0</td>\n",
       "      <td>0</td>\n",
       "      <td>0</td>\n",
       "      <td>0</td>\n",
       "      <td>0</td>\n",
       "      <td>0</td>\n",
       "      <td>1</td>\n",
       "      <td>1</td>\n",
       "    </tr>\n",
       "    <tr>\n",
       "      <th>2</th>\n",
       "      <td>0</td>\n",
       "      <td>26.853392</td>\n",
       "      <td>2</td>\n",
       "      <td>1</td>\n",
       "      <td>0</td>\n",
       "      <td>10.967742</td>\n",
       "      <td>10.967742</td>\n",
       "      <td>10.967742</td>\n",
       "      <td>10.967742</td>\n",
       "      <td>10.967742</td>\n",
       "      <td>...</td>\n",
       "      <td>0</td>\n",
       "      <td>0</td>\n",
       "      <td>0</td>\n",
       "      <td>0</td>\n",
       "      <td>0</td>\n",
       "      <td>0</td>\n",
       "      <td>0</td>\n",
       "      <td>0</td>\n",
       "      <td>0</td>\n",
       "      <td>0</td>\n",
       "    </tr>\n",
       "    <tr>\n",
       "      <th>4</th>\n",
       "      <td>0</td>\n",
       "      <td>23.723964</td>\n",
       "      <td>2</td>\n",
       "      <td>1</td>\n",
       "      <td>0</td>\n",
       "      <td>18.225807</td>\n",
       "      <td>18.225807</td>\n",
       "      <td>18.225807</td>\n",
       "      <td>18.225807</td>\n",
       "      <td>18.225807</td>\n",
       "      <td>...</td>\n",
       "      <td>0</td>\n",
       "      <td>0</td>\n",
       "      <td>0</td>\n",
       "      <td>0</td>\n",
       "      <td>0</td>\n",
       "      <td>0</td>\n",
       "      <td>0</td>\n",
       "      <td>0</td>\n",
       "      <td>0</td>\n",
       "      <td>0</td>\n",
       "    </tr>\n",
       "    <tr>\n",
       "      <th>7</th>\n",
       "      <td>0</td>\n",
       "      <td>57.638418</td>\n",
       "      <td>2</td>\n",
       "      <td>5</td>\n",
       "      <td>0</td>\n",
       "      <td>3.709677</td>\n",
       "      <td>3.709677</td>\n",
       "      <td>3.709677</td>\n",
       "      <td>106.645161</td>\n",
       "      <td>106.645161</td>\n",
       "      <td>...</td>\n",
       "      <td>0</td>\n",
       "      <td>0</td>\n",
       "      <td>0</td>\n",
       "      <td>0</td>\n",
       "      <td>0</td>\n",
       "      <td>0</td>\n",
       "      <td>0</td>\n",
       "      <td>0</td>\n",
       "      <td>0</td>\n",
       "      <td>0</td>\n",
       "    </tr>\n",
       "    <tr>\n",
       "      <th>8</th>\n",
       "      <td>0</td>\n",
       "      <td>46.993436</td>\n",
       "      <td>2</td>\n",
       "      <td>5</td>\n",
       "      <td>0</td>\n",
       "      <td>3.064516</td>\n",
       "      <td>3.064516</td>\n",
       "      <td>173.290323</td>\n",
       "      <td>139.225806</td>\n",
       "      <td>3.064516</td>\n",
       "      <td>...</td>\n",
       "      <td>0</td>\n",
       "      <td>0</td>\n",
       "      <td>0</td>\n",
       "      <td>0</td>\n",
       "      <td>0</td>\n",
       "      <td>0</td>\n",
       "      <td>0</td>\n",
       "      <td>0</td>\n",
       "      <td>0</td>\n",
       "      <td>0</td>\n",
       "    </tr>\n",
       "  </tbody>\n",
       "</table>\n",
       "<p>5 rows × 123 columns</p>\n",
       "</div>"
      ],
      "text/plain": [
       "   ADDRCNT1  Age_years  BOX1  COMPANY  COMP_FREQUENCY  CUR_DEPT_MOS  \\\n",
       "1         1  21.322820     0        1               1      6.709677   \n",
       "2         0  26.853392     2        1               0     10.967742   \n",
       "4         0  23.723964     2        1               0     18.225807   \n",
       "7         0  57.638418     2        5               0      3.709677   \n",
       "8         0  46.993436     2        5               0      3.064516   \n",
       "\n",
       "   CUR_EFUNC_MOS  CUR_FUNC_MOS  CUR_GRADE_MOS  CUR_JOB_MOS   ...     \\\n",
       "1       6.709677      6.709677       6.709677     6.709677   ...      \n",
       "2      10.967742     10.967742      10.967742    10.967742   ...      \n",
       "4      18.225807     18.225807      18.225807    18.225807   ...      \n",
       "7       3.709677      3.709677     106.645161   106.645161   ...      \n",
       "8       3.064516    173.290323     139.225806     3.064516   ...      \n",
       "\n",
       "   loc_desc_MRSF  loc_desc_VAC  loc_desc_MC  loc_desc_EST  loc_desc_CAT  \\\n",
       "1              0             0            0             0             0   \n",
       "2              0             0            0             0             0   \n",
       "4              0             0            0             0             0   \n",
       "7              0             0            0             0             0   \n",
       "8              0             0            0             0             0   \n",
       "\n",
       "   loc_desc_ESP  loc_desc_AO  loc_desc_SIU  MERIT1_d  PERF1_d  \n",
       "1             0            0             0         1        1  \n",
       "2             0            0             0         0        0  \n",
       "4             0            0             0         0        0  \n",
       "7             0            0             0         0        0  \n",
       "8             0            0             0         0        0  \n",
       "\n",
       "[5 rows x 123 columns]"
      ]
     },
     "execution_count": 527,
     "metadata": {},
     "output_type": "execute_result"
    }
   ],
   "source": [
    "curr.head()"
   ]
  },
  {
   "cell_type": "code",
   "execution_count": 551,
   "metadata": {
    "collapsed": false
   },
   "outputs": [],
   "source": [
    "curr_surv_pred = forecast_survival_function(s_cf4,curr,'Tenure_years')"
   ]
  },
  {
   "cell_type": "code",
   "execution_count": 556,
   "metadata": {
    "collapsed": false
   },
   "outputs": [],
   "source": [
    "#return_concordance(curr[sep_cols],s_cf4,'Tenure_years','terminated')\n",
    "#np.shape(curr[sep_cols])"
   ]
  },
  {
   "cell_type": "code",
   "execution_count": 560,
   "metadata": {
    "collapsed": false
   },
   "outputs": [
    {
     "data": {
      "text/html": [
       "<div>\n",
       "<table border=\"1\" class=\"dataframe\">\n",
       "  <thead>\n",
       "    <tr style=\"text-align: right;\">\n",
       "      <th></th>\n",
       "      <th>surv</th>\n",
       "    </tr>\n",
       "  </thead>\n",
       "  <tbody>\n",
       "    <tr>\n",
       "      <th>0</th>\n",
       "      <td>2651</td>\n",
       "    </tr>\n",
       "    <tr>\n",
       "      <th>1</th>\n",
       "      <td>5273</td>\n",
       "    </tr>\n",
       "    <tr>\n",
       "      <th>2</th>\n",
       "      <td>7431</td>\n",
       "    </tr>\n",
       "    <tr>\n",
       "      <th>3</th>\n",
       "      <td>9415</td>\n",
       "    </tr>\n",
       "    <tr>\n",
       "      <th>4</th>\n",
       "      <td>11363</td>\n",
       "    </tr>\n",
       "    <tr>\n",
       "      <th>5</th>\n",
       "      <td>13228</td>\n",
       "    </tr>\n",
       "  </tbody>\n",
       "</table>\n",
       "</div>"
      ],
      "text/plain": [
       "    surv\n",
       "0   2651\n",
       "1   5273\n",
       "2   7431\n",
       "3   9415\n",
       "4  11363\n",
       "5  13228"
      ]
     },
     "execution_count": 560,
     "metadata": {},
     "output_type": "execute_result"
    }
   ],
   "source": [
    "curr_p5 = pd.DataFrame(((1-curr_surv_pred['surv'])>=0.5).astype(int).sum(axis=0),columns=['surv'])\n",
    "curr_p5"
   ]
  },
  {
   "cell_type": "code",
   "execution_count": 652,
   "metadata": {
    "collapsed": false
   },
   "outputs": [
    {
     "data": {
      "text/plain": [
       "69475"
      ]
     },
     "execution_count": 652,
     "metadata": {},
     "output_type": "execute_result"
    }
   ],
   "source": [
    "len(curr)"
   ]
  },
  {
   "cell_type": "code",
   "execution_count": 561,
   "metadata": {
    "collapsed": false
   },
   "outputs": [
    {
     "data": {
      "text/html": [
       "<div>\n",
       "<table border=\"1\" class=\"dataframe\">\n",
       "  <thead>\n",
       "    <tr style=\"text-align: right;\">\n",
       "      <th></th>\n",
       "      <th>surv</th>\n",
       "      <th>lower</th>\n",
       "      <th>upper</th>\n",
       "    </tr>\n",
       "  </thead>\n",
       "  <tbody>\n",
       "    <tr>\n",
       "      <th>0</th>\n",
       "      <td>2651</td>\n",
       "      <td>2496</td>\n",
       "      <td>2843</td>\n",
       "    </tr>\n",
       "    <tr>\n",
       "      <th>1</th>\n",
       "      <td>5273</td>\n",
       "      <td>4953</td>\n",
       "      <td>5562</td>\n",
       "    </tr>\n",
       "    <tr>\n",
       "      <th>2</th>\n",
       "      <td>7431</td>\n",
       "      <td>7185</td>\n",
       "      <td>7686</td>\n",
       "    </tr>\n",
       "    <tr>\n",
       "      <th>3</th>\n",
       "      <td>9415</td>\n",
       "      <td>9201</td>\n",
       "      <td>9630</td>\n",
       "    </tr>\n",
       "    <tr>\n",
       "      <th>4</th>\n",
       "      <td>11363</td>\n",
       "      <td>11200</td>\n",
       "      <td>11578</td>\n",
       "    </tr>\n",
       "    <tr>\n",
       "      <th>5</th>\n",
       "      <td>13228</td>\n",
       "      <td>13160</td>\n",
       "      <td>13354</td>\n",
       "    </tr>\n",
       "  </tbody>\n",
       "</table>\n",
       "</div>"
      ],
      "text/plain": [
       "    surv  lower  upper\n",
       "0   2651   2496   2843\n",
       "1   5273   4953   5562\n",
       "2   7431   7185   7686\n",
       "3   9415   9201   9630\n",
       "4  11363  11200  11578\n",
       "5  13228  13160  13354"
      ]
     },
     "execution_count": 561,
     "metadata": {},
     "output_type": "execute_result"
    }
   ],
   "source": [
    "curr_p5['lower'] = ((1-curr_surv_pred['ubci'])>=0.5).astype(int).sum(axis=0)\n",
    "curr_p5['upper']= ((1-curr_surv_pred['lbci'])>=0.5).astype(int).sum(axis=0)\n",
    "curr_p5"
   ]
  },
  {
   "cell_type": "code",
   "execution_count": 564,
   "metadata": {
    "collapsed": false
   },
   "outputs": [
    {
     "data": {
      "text/plain": [
       "[<matplotlib.lines.Line2D at 0x19311198>]"
      ]
     },
     "execution_count": 564,
     "metadata": {},
     "output_type": "execute_result"
    },
    {
     "data": {
      "image/png": "[encoded data removed]",
      "text/plain": [
       "<matplotlib.figure.Figure at 0x1abc1198>"
      ]
     },
     "metadata": {},
     "output_type": "display_data"
    }
   ],
   "source": [
    "plt.plot(curr_p5.surv,'o')\n",
    "plt.plot(curr_p5.lower,'*')\n",
    "plt.plot(curr_p5.upper,'*')"
   ]
  },
  {
   "cell_type": "code",
   "execution_count": 566,
   "metadata": {
    "collapsed": false
   },
   "outputs": [],
   "source": [
    "def plot_conf_matrix(y_true, y_pred, normed=True, heatmap_color ='Blues', **kwargs):\n",
    "    ## check to make sure that y_pred is an array of integers if y_true is a bunch of integers\n",
    "    true_int_check = all(isinstance(a,int) for a in y_true)\n",
    "    pred_int_check = all(isinstance(a,int) for a in y_pred)\n",
    "    if true_int_check and not pred_int_check: # convert the y_pred values to integers\n",
    "        if isinstance(y_pred, pd.Series):\n",
    "            y_pred = y_pred.astype(int)\n",
    "\n",
    "    my_c = metrics.confusion_matrix(y_true, y_pred)\n",
    "\n",
    "    print metrics.matthews_corrcoef(y_true, y_pred)\n",
    "    if normed:\n",
    "        cm_normalized = my_c.astype('float') / my_c.sum(axis=1)[:, np.newaxis]\n",
    "        my_c = cm_normalized\n",
    "        plt.title('Normalized RF Classifier Confusion Matrix')\n",
    "    else:\n",
    "        plt.title('Random Forest Classifier Confusion Matrix')\n",
    "\n",
    "    sns.heatmap(my_c, annot=True,  fmt='',cmap=heatmap_color, **kwargs)\n",
    "    plt.ylabel('True')\n",
    "    plt.xlabel('Assigned')\n",
    "    plt.show()\n",
    "\n",
    "    return\n"
   ]
  },
  {
   "cell_type": "markdown",
   "metadata": {},
   "source": [
    "### Set up a dictionary for some of these 'interesting' jobs\n",
    "#### December 31, 2015\n",
    "\n",
    "* The extended Functions (EXT_FUNC_ID_SFI) Jeff Briks is interested in are:\n",
    "    * CCC Sales (00892)\n",
    "    * CCC Service (00071)\n",
    "    * Life Health Response Center (00816)\n",
    "    * Enterprise Auto Express (00909)\n",
    "    * Enterprise ILR (00910)\n",
    "    * State Farm Bank (00517)\n",
    "    * SFPP (00835)\n",
    "* The jobs (JOBCODES) he is interested in are these:\n",
    "    * CCC Service Rep (6200)\n",
    "    * CCC Sales Rep (1876)\n",
    "    * Life Customer Service Asst (2638, 2639, & 2641)\n",
    "    * Claim Associate-Express (0983 & 0984)\n",
    "    * Claim Associate-ILR (1009)\n",
    "    * Claim Team Manager – ILR (0986)\n",
    "    * Bank Customer Service Rep (0851, 852, & 0853)\n",
    "    * SFPP Account Rep (4105)"
   ]
  },
  {
   "cell_type": "code",
   "execution_count": 617,
   "metadata": {
    "collapsed": false
   },
   "outputs": [
    {
     "name": "stdout",
     "output_type": "stream",
     "text": [
      "extended Functions: {835: 'SFPP', 517: 'State Farm Bank', 71: 'CCC Service', 909: 'Enterprise Auto Express', 910: 'Enterprise ILR', 816: 'Life Health Response Center', 892: 'CCC Sales'}\n"
     ]
    },
    {
     "data": {
      "text/plain": [
       "{851: 'Bank Customer Service Rep',\n",
       " 852: 'Bank Customer Service Rep',\n",
       " 853: 'Bank Customer Service Rep',\n",
       " 983: 'Claim Associate-Express',\n",
       " 984: 'Claim Associate-Express',\n",
       " 986: 'CLaim Team Manager-ILR',\n",
       " 1009: 'CLaim Associate-ILR',\n",
       " 1876: 'CCC Sales Rep',\n",
       " 2638: 'Life Customer Service Asst',\n",
       " 2639: 'Life Customer Service Asst',\n",
       " 2641: 'Life Customer Service Asst',\n",
       " 4105: 'SFPP Account Rep',\n",
       " 6200: 'CCC Service Rep'}"
      ]
     },
     "execution_count": 617,
     "metadata": {},
     "output_type": "execute_result"
    }
   ],
   "source": [
    "#interesting_extended_functions = [892,71, 816, 909,910,517,835]\n",
    "extFuncDict ={}\n",
    "extFuncDict[892]='CCC Sales'\n",
    "extFuncDict[71]='CCC Service'\n",
    "extFuncDict[816]='Life Health Response Center'\n",
    "#(00816)\n",
    "extFuncDict[909]='Enterprise Auto Express'\n",
    "extFuncDict[910]='Enterprise ILR' \n",
    "extFuncDict[517]='State Farm Bank'\n",
    "extFuncDict[835]='SFPP'\n",
    "interesting_extended_functions = extFuncDict.keys()\n",
    "print \"extended Functions:\", extFuncDict\n",
    "\n",
    "jobCodeDict = {}\n",
    "jobCodeDict[6200]= 'CCC Service Rep'\n",
    "jobCodeDict[1876]= 'CCC Sales Rep'\n",
    "jobCodeDict[1009]='CLaim Associate-ILR'\n",
    "jobCodeDict[986]='CLaim Team Manager-ILR'\n",
    "jobCodeDict[983]='Claim Associate-Express'\n",
    "jobCodeDict[984]='Claim Associate-Express'\n",
    "jobCodeDict[2638]='Life Customer Service Asst'\n",
    "jobCodeDict[2639]='Life Customer Service Asst'\n",
    "jobCodeDict[2641]='Life Customer Service Asst'\n",
    "jobCodeDict[4105]= 'SFPP Account Rep'\n",
    "jobCodeDict[851]= 'Bank Customer Service Rep'\n",
    "jobCodeDict[852]= 'Bank Customer Service Rep'\n",
    "jobCodeDict[853]= 'Bank Customer Service Rep'\n",
    "interesting_jobcodes =  jobCodeDict.keys()\n",
    "jobCodeDict"
   ]
  },
  {
   "cell_type": "code",
   "execution_count": 620,
   "metadata": {
    "collapsed": false
   },
   "outputs": [
    {
     "data": {
      "text/plain": [
       "0     2651\n",
       "1     5273\n",
       "2     7431\n",
       "3     9415\n",
       "4    11363\n",
       "5    13228\n",
       "dtype: int64"
      ]
     },
     "execution_count": 620,
     "metadata": {},
     "output_type": "execute_result"
    }
   ],
   "source": [
    "thresh = 0.5\n",
    "curr_surv_pred['surv'].applymap(lambda x: 0 if x>thresh else 1).sum() # return the sum of people likely to leave (below threshold)"
   ]
  },
  {
   "cell_type": "markdown",
   "metadata": {},
   "source": [
    "### Now check for the specific jobcodes & extended functions"
   ]
  },
  {
   "cell_type": "code",
   "execution_count": 622,
   "metadata": {
    "collapsed": false
   },
   "outputs": [
    {
     "data": {
      "text/plain": [
       "[('SFPP', 783),\n",
       " ('State Farm Bank', 1507),\n",
       " ('CCC Service', 1823),\n",
       " ('Enterprise Auto Express', 2587),\n",
       " ('Enterprise ILR', 2462),\n",
       " ('Life Health Response Center', 376),\n",
       " ('CCC Sales', 1636)]"
      ]
     },
     "execution_count": 622,
     "metadata": {},
     "output_type": "execute_result"
    }
   ],
   "source": [
    "## count how many examples in the current dataframe\n",
    "[(v,len(curr[curr.EXT_FUNC_ID_SFI==k])) for k,v in extFuncDict.iteritems()]"
   ]
  },
  {
   "cell_type": "code",
   "execution_count": 626,
   "metadata": {
    "collapsed": false
   },
   "outputs": [],
   "source": [
    "invJobCodeDict = {}\n",
    "invJobCodeDict['CCC Service Rep'] = [6200]\n",
    "invJobCodeDict['CCC Sales Rep'] = [1876]\n",
    "invJobCodeDict['Life Customer Service Asst'] = [2638,2639,2641]\n",
    "invJobCodeDict['Claim Associate-Express'] = [983,984]\n",
    "invJobCodeDict['Claim Associate-ILR'] = [1009]\n",
    "invJobCodeDict['Claim Team Manager-ILR'] = [986]\n",
    "invJobCodeDict['Bank Customer Service Rep'] = [851,852,853]\n",
    "invJobCodeDict['SFPP Account Rep'] = [4105]#2638,2639,2641]\n",
    "interest_job_names_list = invJobCodeDict.keys()"
   ]
  },
  {
   "cell_type": "code",
   "execution_count": 630,
   "metadata": {
    "collapsed": false
   },
   "outputs": [
    {
     "name": "stdout",
     "output_type": "stream",
     "text": [
      "------------\n",
      "[6200] CCC Service Rep\n",
      "total current employees is 1472\n",
      "predicted separation count in 0 years = 248\n",
      "predicted separation count in 1 years = 710\n",
      "predicted separation count in 2 years = 886\n",
      "predicted separation count in 3 years = 1004\n",
      "predicted separation count in 4 years = 1081\n",
      "predicted separation count in 5 years = 1126\n",
      "------------\n",
      "[1009] Claim Associate-ILR\n",
      "total current employees is 2012\n",
      "predicted separation count in 0 years = 36\n",
      "predicted separation count in 1 years = 569\n",
      "predicted separation count in 2 years = 929\n",
      "predicted separation count in 3 years = 1147\n",
      "predicted separation count in 4 years = 1287\n",
      "predicted separation count in 5 years = 1382\n",
      "------------\n",
      "[986] Claim Team Manager-ILR\n",
      "total current employees is 209\n",
      "predicted separation count in 0 years = 5\n",
      "predicted separation count in 1 years = 5\n",
      "predicted separation count in 2 years = 6\n",
      "predicted separation count in 3 years = 10\n",
      "predicted separation count in 4 years = 14\n",
      "predicted separation count in 5 years = 16\n",
      "------------\n",
      "[1876] CCC Sales Rep\n",
      "total current employees is 1474\n",
      "predicted separation count in 0 years = 154\n",
      "predicted separation count in 1 years = 564\n",
      "predicted separation count in 2 years = 749\n",
      "predicted separation count in 3 years = 844\n",
      "predicted separation count in 4 years = 943\n",
      "predicted separation count in 5 years = 1019\n",
      "------------\n",
      "[983, 984] Claim Associate-Express\n",
      "total current employees is 2039\n",
      "predicted separation count in 0 years = 9\n",
      "predicted separation count in 1 years = 71\n",
      "predicted separation count in 2 years = 214\n",
      "predicted separation count in 3 years = 365\n",
      "predicted separation count in 4 years = 505\n",
      "predicted separation count in 5 years = 655\n",
      "------------\n",
      "[4105] SFPP Account Rep\n",
      "total current employees is 234\n",
      "predicted separation count in 0 years = 16\n",
      "predicted separation count in 1 years = 110\n",
      "predicted separation count in 2 years = 150\n",
      "predicted separation count in 3 years = 174\n",
      "predicted separation count in 4 years = 186\n",
      "predicted separation count in 5 years = 193\n",
      "------------\n",
      "[2638, 2639, 2641] Life Customer Service Asst\n",
      "total current employees is 636\n",
      "predicted separation count in 0 years = 75\n",
      "predicted separation count in 1 years = 139\n",
      "predicted separation count in 2 years = 207\n",
      "predicted separation count in 3 years = 249\n",
      "predicted separation count in 4 years = 286\n",
      "predicted separation count in 5 years = 325\n",
      "------------\n",
      "[851, 852, 853] Bank Customer Service Rep\n",
      "total current employees is 188\n",
      "predicted separation count in 0 years = 12\n",
      "predicted separation count in 1 years = 37\n",
      "predicted separation count in 2 years = 64\n",
      "predicted separation count in 3 years = 86\n",
      "predicted separation count in 4 years = 108\n",
      "predicted separation count in 5 years = 113\n"
     ]
    }
   ],
   "source": [
    "thresh = 0.5\n",
    "for jc_val in invJobCodeDict.keys():\n",
    "    print \"------------\"\n",
    "    print invJobCodeDict[jc_val], jc_val\n",
    "    print \"total current employees is {0}\".format(len(curr[curr.JOBCODE.isin(invJobCodeDict[jc_val])]))\n",
    "    pred_vals = curr_surv_pred['surv'][curr.JOBCODE.isin(invJobCodeDict[jc_val])].applymap(lambda x: 0 if x> thresh else 1).sum()\n",
    "    for i,v in enumerate(pred_vals):\n",
    "        print \"predicted separation count in {0} years = {1}\".format(i,v)"
   ]
  },
  {
   "cell_type": "code",
   "execution_count": 634,
   "metadata": {
    "collapsed": false
   },
   "outputs": [
    {
     "data": {
      "text/plain": [
       "783"
      ]
     },
     "execution_count": 634,
     "metadata": {},
     "output_type": "execute_result"
    }
   ],
   "source": [
    "sum(curr.EXT_FUNC_ID_SFI==835)"
   ]
  },
  {
   "cell_type": "code",
   "execution_count": null,
   "metadata": {
    "collapsed": true
   },
   "outputs": [],
   "source": []
  },
  {
   "cell_type": "code",
   "execution_count": 635,
   "metadata": {
    "collapsed": false,
    "scrolled": true
   },
   "outputs": [
    {
     "name": "stdout",
     "output_type": "stream",
     "text": [
      "------------\n",
      "SFPP 835\n",
      "total current employees is 783\n",
      "predicted separation count in 0 years = 92\n",
      "predicted separation count in 1 years = 227\n",
      "predicted separation count in 2 years = 299\n",
      "predicted separation count in 3 years = 362\n",
      "predicted separation count in 4 years = 414\n",
      "predicted separation count in 5 years = 457\n",
      "------------\n",
      "State Farm Bank 517\n",
      "total current employees is 1507\n",
      "predicted separation count in 0 years = 76\n",
      "predicted separation count in 1 years = 145\n",
      "predicted separation count in 2 years = 224\n",
      "predicted separation count in 3 years = 299\n",
      "predicted separation count in 4 years = 379\n",
      "predicted separation count in 5 years = 439\n",
      "------------\n",
      "CCC Service 71\n",
      "total current employees is 1823\n",
      "predicted separation count in 0 years = 288\n",
      "predicted separation count in 1 years = 778\n",
      "predicted separation count in 2 years = 974\n",
      "predicted separation count in 3 years = 1116\n",
      "predicted separation count in 4 years = 1207\n",
      "predicted separation count in 5 years = 1271\n",
      "------------\n",
      "Enterprise Auto Express 909\n",
      "total current employees is 2587\n",
      "predicted separation count in 0 years = 13\n",
      "predicted separation count in 1 years = 78\n",
      "predicted separation count in 2 years = 228\n",
      "predicted separation count in 3 years = 389\n",
      "predicted separation count in 4 years = 543\n",
      "predicted separation count in 5 years = 705\n",
      "------------\n",
      "Enterprise ILR 910\n",
      "total current employees is 2462\n",
      "predicted separation count in 0 years = 46\n",
      "predicted separation count in 1 years = 581\n",
      "predicted separation count in 2 years = 951\n",
      "predicted separation count in 3 years = 1184\n",
      "predicted separation count in 4 years = 1332\n",
      "predicted separation count in 5 years = 1435\n",
      "------------\n",
      "Life Health Response Center 816\n",
      "total current employees is 376\n",
      "predicted separation count in 0 years = 31\n",
      "predicted separation count in 1 years = 80\n",
      "predicted separation count in 2 years = 132\n",
      "predicted separation count in 3 years = 155\n",
      "predicted separation count in 4 years = 183\n",
      "predicted separation count in 5 years = 201\n",
      "------------\n",
      "CCC Sales 892\n",
      "total current employees is 1636\n",
      "predicted separation count in 0 years = 162\n",
      "predicted separation count in 1 years = 575\n",
      "predicted separation count in 2 years = 762\n",
      "predicted separation count in 3 years = 861\n",
      "predicted separation count in 4 years = 964\n",
      "predicted separation count in 5 years = 1046\n"
     ]
    }
   ],
   "source": [
    "thresh = 0.5\n",
    "for jc_val in extFuncDict.keys():\n",
    "    \n",
    "    print \"------------\"\n",
    "    print extFuncDict[jc_val], jc_val\n",
    "    print \"total current employees is {0}\".format(len(curr[curr.EXT_FUNC_ID_SFI==jc_val]))\n",
    "    pred_vals = curr_surv_pred['surv'][curr.EXT_FUNC_ID_SFI==jc_val].applymap(lambda x: 0 if x> thresh else 1).sum()\n",
    "    for i,v in enumerate(pred_vals):\n",
    "        print \"predicted separation count in {0} years = {1}\".format(i,v)"
   ]
  },
  {
   "cell_type": "code",
   "execution_count": 658,
   "metadata": {
    "collapsed": false,
    "scrolled": true
   },
   "outputs": [
    {
     "name": "stdout",
     "output_type": "stream",
     "text": [
      "------------\n",
      "SFPP 835\n",
      "total current employees is 783\n",
      "predicted separation count in 0 years = 84\n",
      "predicted separation count in 1 years = 198\n",
      "predicted separation count in 2 years = 280\n",
      "predicted separation count in 3 years = 341\n",
      "predicted separation count in 4 years = 401\n",
      "predicted separation count in 5 years = 447\n",
      "------------\n",
      "State Farm Bank 517\n",
      "total current employees is 1507\n",
      "predicted separation count in 0 years = 72\n",
      "predicted separation count in 1 years = 128\n",
      "predicted separation count in 2 years = 211\n",
      "predicted separation count in 3 years = 285\n",
      "predicted separation count in 4 years = 361\n",
      "predicted separation count in 5 years = 428\n",
      "------------\n",
      "CCC Service 71\n",
      "total current employees is 1823\n",
      "predicted separation count in 0 years = 237\n",
      "predicted separation count in 1 years = 726\n",
      "predicted separation count in 2 years = 941\n",
      "predicted separation count in 3 years = 1081\n",
      "predicted separation count in 4 years = 1181\n",
      "predicted separation count in 5 years = 1252\n",
      "------------\n",
      "Enterprise Auto Express 909\n",
      "total current employees is 2587\n",
      "predicted separation count in 0 years = 13\n",
      "predicted separation count in 1 years = 71\n",
      "predicted separation count in 2 years = 223\n",
      "predicted separation count in 3 years = 367\n",
      "predicted separation count in 4 years = 533\n",
      "predicted separation count in 5 years = 694\n",
      "------------\n",
      "Enterprise ILR 910\n",
      "total current employees is 2462\n",
      "predicted separation count in 0 years = 41\n",
      "predicted separation count in 1 years = 537\n",
      "predicted separation count in 2 years = 904\n",
      "predicted separation count in 3 years = 1164\n",
      "predicted separation count in 4 years = 1318\n",
      "predicted separation count in 5 years = 1426\n",
      "------------\n",
      "Life Health Response Center 816\n",
      "total current employees is 376\n",
      "predicted separation count in 0 years = 24\n",
      "predicted separation count in 1 years = 71\n",
      "predicted separation count in 2 years = 126\n",
      "predicted separation count in 3 years = 149\n",
      "predicted separation count in 4 years = 177\n",
      "predicted separation count in 5 years = 198\n",
      "------------\n",
      "CCC Sales 892\n",
      "total current employees is 1636\n",
      "predicted separation count in 0 years = 140\n",
      "predicted separation count in 1 years = 541\n",
      "predicted separation count in 2 years = 732\n",
      "predicted separation count in 3 years = 841\n",
      "predicted separation count in 4 years = 943\n",
      "predicted separation count in 5 years = 1026\n"
     ]
    }
   ],
   "source": [
    "thresh = 0.5\n",
    "for jc_val in extFuncDict.keys():\n",
    "    \n",
    "    print \"------------\"\n",
    "    print extFuncDict[jc_val], jc_val\n",
    "    print \"total current employees is {0}\".format(len(curr[curr.EXT_FUNC_ID_SFI==jc_val]))\n",
    "    pred_vals = curr_surv_pred['ubci'][curr.EXT_FUNC_ID_SFI==jc_val].applymap(lambda x: 0 if x> thresh else 1).sum()\n",
    "    for i,v in enumerate(pred_vals):\n",
    "        print \"predicted separation count in {0} years = {1}\".format(i,v)"
   ]
  },
  {
   "cell_type": "code",
   "execution_count": 650,
   "metadata": {
    "collapsed": false
   },
   "outputs": [
    {
     "data": {
      "text/html": [
       "<div>\n",
       "<table border=\"1\" class=\"dataframe\">\n",
       "  <thead>\n",
       "    <tr style=\"text-align: right;\">\n",
       "      <th></th>\n",
       "      <th>coef</th>\n",
       "      <th>exp(coef)</th>\n",
       "      <th>se(coef)</th>\n",
       "      <th>z</th>\n",
       "      <th>p</th>\n",
       "      <th>lower 0.95</th>\n",
       "      <th>upper 0.95</th>\n",
       "    </tr>\n",
       "  </thead>\n",
       "  <tbody>\n",
       "    <tr>\n",
       "      <th>Age_years</th>\n",
       "      <td>-0.938603</td>\n",
       "      <td>0.391174</td>\n",
       "      <td>0.010230</td>\n",
       "      <td>-91.750321</td>\n",
       "      <td>0.000000e+00</td>\n",
       "      <td>-0.958658</td>\n",
       "      <td>-0.918548</td>\n",
       "    </tr>\n",
       "    <tr>\n",
       "      <th>SAL1</th>\n",
       "      <td>-1.115258</td>\n",
       "      <td>0.327831</td>\n",
       "      <td>0.014794</td>\n",
       "      <td>-75.385669</td>\n",
       "      <td>0.000000e+00</td>\n",
       "      <td>-1.144260</td>\n",
       "      <td>-1.086256</td>\n",
       "    </tr>\n",
       "    <tr>\n",
       "      <th>MERIT1</th>\n",
       "      <td>0.274205</td>\n",
       "      <td>1.315485</td>\n",
       "      <td>0.006343</td>\n",
       "      <td>43.226403</td>\n",
       "      <td>0.000000e+00</td>\n",
       "      <td>0.261769</td>\n",
       "      <td>0.286641</td>\n",
       "    </tr>\n",
       "    <tr>\n",
       "      <th>PERF1</th>\n",
       "      <td>-0.101613</td>\n",
       "      <td>0.903379</td>\n",
       "      <td>0.012400</td>\n",
       "      <td>-8.194637</td>\n",
       "      <td>2.513509e-16</td>\n",
       "      <td>-0.125921</td>\n",
       "      <td>-0.077304</td>\n",
       "    </tr>\n",
       "    <tr>\n",
       "      <th>BOX1</th>\n",
       "      <td>-0.483857</td>\n",
       "      <td>0.616401</td>\n",
       "      <td>0.006824</td>\n",
       "      <td>-70.901449</td>\n",
       "      <td>0.000000e+00</td>\n",
       "      <td>-0.497236</td>\n",
       "      <td>-0.470479</td>\n",
       "    </tr>\n",
       "    <tr>\n",
       "      <th>SEX</th>\n",
       "      <td>0.164341</td>\n",
       "      <td>1.178616</td>\n",
       "      <td>0.006098</td>\n",
       "      <td>26.949219</td>\n",
       "      <td>5.825757e-160</td>\n",
       "      <td>0.152386</td>\n",
       "      <td>0.176296</td>\n",
       "    </tr>\n",
       "    <tr>\n",
       "      <th>HAVE_INS</th>\n",
       "      <td>-0.306632</td>\n",
       "      <td>0.735921</td>\n",
       "      <td>0.009072</td>\n",
       "      <td>-33.799965</td>\n",
       "      <td>1.974517e-250</td>\n",
       "      <td>-0.324417</td>\n",
       "      <td>-0.288848</td>\n",
       "    </tr>\n",
       "    <tr>\n",
       "      <th>HAVE_DEP</th>\n",
       "      <td>-0.232554</td>\n",
       "      <td>0.792507</td>\n",
       "      <td>0.011472</td>\n",
       "      <td>-20.272302</td>\n",
       "      <td>2.258414e-91</td>\n",
       "      <td>-0.255043</td>\n",
       "      <td>-0.210065</td>\n",
       "    </tr>\n",
       "    <tr>\n",
       "      <th>DEPTCNT1</th>\n",
       "      <td>-0.347074</td>\n",
       "      <td>0.706753</td>\n",
       "      <td>0.009569</td>\n",
       "      <td>-36.271862</td>\n",
       "      <td>4.494797e-288</td>\n",
       "      <td>-0.365832</td>\n",
       "      <td>-0.328316</td>\n",
       "    </tr>\n",
       "    <tr>\n",
       "      <th>EXTFUNC_CNT</th>\n",
       "      <td>0.095909</td>\n",
       "      <td>1.100659</td>\n",
       "      <td>0.005597</td>\n",
       "      <td>17.134509</td>\n",
       "      <td>8.204327e-66</td>\n",
       "      <td>0.084936</td>\n",
       "      <td>0.106882</td>\n",
       "    </tr>\n",
       "    <tr>\n",
       "      <th>FUNC_CNT</th>\n",
       "      <td>-0.150437</td>\n",
       "      <td>0.860332</td>\n",
       "      <td>0.008158</td>\n",
       "      <td>-18.441541</td>\n",
       "      <td>6.097805e-76</td>\n",
       "      <td>-0.166429</td>\n",
       "      <td>-0.134445</td>\n",
       "    </tr>\n",
       "    <tr>\n",
       "      <th>REMOTE</th>\n",
       "      <td>-0.154638</td>\n",
       "      <td>0.856725</td>\n",
       "      <td>0.011161</td>\n",
       "      <td>-13.855447</td>\n",
       "      <td>1.179212e-43</td>\n",
       "      <td>-0.176518</td>\n",
       "      <td>-0.132758</td>\n",
       "    </tr>\n",
       "    <tr>\n",
       "      <th>DIRECT_RPT_CNT</th>\n",
       "      <td>0.156904</td>\n",
       "      <td>1.169883</td>\n",
       "      <td>0.003968</td>\n",
       "      <td>39.546572</td>\n",
       "      <td>0.000000e+00</td>\n",
       "      <td>0.149126</td>\n",
       "      <td>0.164682</td>\n",
       "    </tr>\n",
       "    <tr>\n",
       "      <th>HUBIND</th>\n",
       "      <td>-0.083375</td>\n",
       "      <td>0.920006</td>\n",
       "      <td>0.006762</td>\n",
       "      <td>-12.329543</td>\n",
       "      <td>6.280222e-35</td>\n",
       "      <td>-0.096632</td>\n",
       "      <td>-0.070119</td>\n",
       "    </tr>\n",
       "    <tr>\n",
       "      <th>REH_CNT</th>\n",
       "      <td>-0.233030</td>\n",
       "      <td>0.792130</td>\n",
       "      <td>0.006523</td>\n",
       "      <td>-35.722669</td>\n",
       "      <td>1.758300e-279</td>\n",
       "      <td>-0.245819</td>\n",
       "      <td>-0.220242</td>\n",
       "    </tr>\n",
       "    <tr>\n",
       "      <th>JOB_FUNCTION_PSA</th>\n",
       "      <td>-0.075500</td>\n",
       "      <td>0.927280</td>\n",
       "      <td>0.006798</td>\n",
       "      <td>-11.105544</td>\n",
       "      <td>1.178977e-28</td>\n",
       "      <td>-0.088828</td>\n",
       "      <td>-0.062172</td>\n",
       "    </tr>\n",
       "  </tbody>\n",
       "</table>\n",
       "</div>"
      ],
      "text/plain": [
       "                      coef  exp(coef)  se(coef)          z              p  \\\n",
       "Age_years        -0.938603   0.391174  0.010230 -91.750321   0.000000e+00   \n",
       "SAL1             -1.115258   0.327831  0.014794 -75.385669   0.000000e+00   \n",
       "MERIT1            0.274205   1.315485  0.006343  43.226403   0.000000e+00   \n",
       "PERF1            -0.101613   0.903379  0.012400  -8.194637   2.513509e-16   \n",
       "BOX1             -0.483857   0.616401  0.006824 -70.901449   0.000000e+00   \n",
       "SEX               0.164341   1.178616  0.006098  26.949219  5.825757e-160   \n",
       "HAVE_INS         -0.306632   0.735921  0.009072 -33.799965  1.974517e-250   \n",
       "HAVE_DEP         -0.232554   0.792507  0.011472 -20.272302   2.258414e-91   \n",
       "DEPTCNT1         -0.347074   0.706753  0.009569 -36.271862  4.494797e-288   \n",
       "EXTFUNC_CNT       0.095909   1.100659  0.005597  17.134509   8.204327e-66   \n",
       "FUNC_CNT         -0.150437   0.860332  0.008158 -18.441541   6.097805e-76   \n",
       "REMOTE           -0.154638   0.856725  0.011161 -13.855447   1.179212e-43   \n",
       "DIRECT_RPT_CNT    0.156904   1.169883  0.003968  39.546572   0.000000e+00   \n",
       "HUBIND           -0.083375   0.920006  0.006762 -12.329543   6.280222e-35   \n",
       "REH_CNT          -0.233030   0.792130  0.006523 -35.722669  1.758300e-279   \n",
       "JOB_FUNCTION_PSA -0.075500   0.927280  0.006798 -11.105544   1.178977e-28   \n",
       "\n",
       "                  lower 0.95  upper 0.95  \n",
       "Age_years          -0.958658   -0.918548  \n",
       "SAL1               -1.144260   -1.086256  \n",
       "MERIT1              0.261769    0.286641  \n",
       "PERF1              -0.125921   -0.077304  \n",
       "BOX1               -0.497236   -0.470479  \n",
       "SEX                 0.152386    0.176296  \n",
       "HAVE_INS           -0.324417   -0.288848  \n",
       "HAVE_DEP           -0.255043   -0.210065  \n",
       "DEPTCNT1           -0.365832   -0.328316  \n",
       "EXTFUNC_CNT         0.084936    0.106882  \n",
       "FUNC_CNT           -0.166429   -0.134445  \n",
       "REMOTE             -0.176518   -0.132758  \n",
       "DIRECT_RPT_CNT      0.149126    0.164682  \n",
       "HUBIND             -0.096632   -0.070119  \n",
       "REH_CNT            -0.245819   -0.220242  \n",
       "JOB_FUNCTION_PSA   -0.088828   -0.062172  "
      ]
     },
     "execution_count": 650,
     "metadata": {},
     "output_type": "execute_result"
    }
   ],
   "source": [
    "s_cf4.summary"
   ]
  },
  {
   "cell_type": "code",
   "execution_count": 647,
   "metadata": {
    "collapsed": false,
    "scrolled": true
   },
   "outputs": [
    {
     "name": "stdout",
     "output_type": "stream",
     "text": [
      "------------\n",
      "SFPP 835\n",
      "total current employees is 783\n",
      "predicted separation count in 0 years = 84\n",
      "predicted separation count in 1 years = 198\n",
      "predicted separation count in 2 years = 280\n",
      "predicted separation count in 3 years = 341\n",
      "predicted separation count in 4 years = 401\n",
      "predicted separation count in 5 years = 447\n",
      "------------\n",
      "State Farm Bank 517\n",
      "total current employees is 1507\n",
      "predicted separation count in 0 years = 72\n",
      "predicted separation count in 1 years = 128\n",
      "predicted separation count in 2 years = 211\n",
      "predicted separation count in 3 years = 285\n",
      "predicted separation count in 4 years = 361\n",
      "predicted separation count in 5 years = 428\n",
      "------------\n",
      "CCC Service 71\n",
      "total current employees is 1823\n",
      "predicted separation count in 0 years = 237\n",
      "predicted separation count in 1 years = 726\n",
      "predicted separation count in 2 years = 941\n",
      "predicted separation count in 3 years = 1081\n",
      "predicted separation count in 4 years = 1181\n",
      "predicted separation count in 5 years = 1252\n",
      "------------\n",
      "Enterprise Auto Express 909\n",
      "total current employees is 2587\n",
      "predicted separation count in 0 years = 13\n",
      "predicted separation count in 1 years = 71\n",
      "predicted separation count in 2 years = 223\n",
      "predicted separation count in 3 years = 367\n",
      "predicted separation count in 4 years = 533\n",
      "predicted separation count in 5 years = 694\n",
      "------------\n",
      "Enterprise ILR 910\n",
      "total current employees is 2462\n",
      "predicted separation count in 0 years = 41\n",
      "predicted separation count in 1 years = 537\n",
      "predicted separation count in 2 years = 904\n",
      "predicted separation count in 3 years = 1164\n",
      "predicted separation count in 4 years = 1318\n",
      "predicted separation count in 5 years = 1426\n",
      "------------\n",
      "Life Health Response Center 816\n",
      "total current employees is 376\n",
      "predicted separation count in 0 years = 24\n",
      "predicted separation count in 1 years = 71\n",
      "predicted separation count in 2 years = 126\n",
      "predicted separation count in 3 years = 149\n",
      "predicted separation count in 4 years = 177\n",
      "predicted separation count in 5 years = 198\n",
      "------------\n",
      "CCC Sales 892\n",
      "total current employees is 1636\n",
      "predicted separation count in 0 years = 140\n",
      "predicted separation count in 1 years = 541\n",
      "predicted separation count in 2 years = 732\n",
      "predicted separation count in 3 years = 841\n",
      "predicted separation count in 4 years = 943\n",
      "predicted separation count in 5 years = 1026\n"
     ]
    }
   ],
   "source": [
    "thresh = 0.5\n",
    "for jc_val in extFuncDict.keys():\n",
    "    \n",
    "    print \"------------\"\n",
    "    print extFuncDict[jc_val], jc_val\n",
    "    print \"total current employees is {0}\".format(len(curr[curr.EXT_FUNC_ID_SFI==jc_val]))\n",
    "    pred_vals = curr_surv_pred['ubci'][curr.EXT_FUNC_ID_SFI==jc_val].applymap(lambda x: 0 if x> thresh else 1).sum()\n",
    "    for i,v in enumerate(pred_vals):\n",
    "        print \"predicted separation count in {0} years = {1}\".format(i,v)"
   ]
  },
  {
   "cell_type": "markdown",
   "metadata": {
    "collapsed": true
   },
   "source": [
    "# March 4, 2016\n",
    "working on retirement predictions for the current employees"
   ]
  },
  {
   "cell_type": "code",
   "execution_count": 2,
   "metadata": {
    "collapsed": false
   },
   "outputs": [],
   "source": [
    "import os"
   ]
  },
  {
   "cell_type": "code",
   "execution_count": 3,
   "metadata": {
    "collapsed": true
   },
   "outputs": [],
   "source": [
    "os.chdir('../../../projects/HRattrition/webserverTest/models/')"
   ]
  },
  {
   "cell_type": "code",
   "execution_count": 4,
   "metadata": {
    "collapsed": true
   },
   "outputs": [],
   "source": [
    "import pandas as pd"
   ]
  },
  {
   "cell_type": "code",
   "execution_count": 5,
   "metadata": {
    "collapsed": true
   },
   "outputs": [],
   "source": [
    "import pickle\n"
   ]
  },
  {
   "cell_type": "code",
   "execution_count": 6,
   "metadata": {
    "collapsed": false
   },
   "outputs": [
    {
     "name": "stdout",
     "output_type": "stream",
     "text": [
      "n=34767, number of events=11905\n",
      "\n",
      "                coef  exp(coef)  se(coef)          z          p  lower 0.95  upper 0.95     \n",
      "Age_years  3.388e-01  1.403e+00 1.010e-02  3.354e+01 1.192e-246   3.190e-01   3.586e-01  ***\n",
      "SAL1      -2.439e-01  7.836e-01 1.313e-02 -1.858e+01  4.794e-77  -2.697e-01  -2.182e-01  ***\n",
      "MERIT1    -2.373e-01  7.888e-01 1.416e-02 -1.675e+01  5.614e-63  -2.650e-01  -2.095e-01  ***\n",
      "PERF1     -1.240e-01  8.834e-01 1.373e-02 -9.032e+00  1.686e-19  -1.509e-01  -9.708e-02  ***\n",
      "BOX1      -1.031e-02  9.897e-01 1.254e-02 -8.222e-01  4.110e-01  -3.488e-02   1.427e-02     \n",
      "SEX        1.697e-01  1.185e+00 1.129e-02  1.503e+01  4.522e-51   1.475e-01   1.918e-01  ***\n",
      "HAVE_INS  -1.610e-01  8.513e-01 1.126e-02 -1.430e+01  2.206e-46  -1.830e-01  -1.389e-01  ***\n",
      "HAVE_DEP   4.226e-03  1.004e+00 1.099e-02  3.844e-01  7.007e-01  -1.732e-02   2.578e-02     \n",
      "---\n",
      "Signif. codes:  0 '***' 0.001 '**' 0.01 '*' 0.05 '.' 0.1 ' ' 1 \n",
      "\n",
      "Concordance = 0.723\n"
     ]
    }
   ],
   "source": [
    "ret_mdl = pickle.load(open('retirement_sf2.pkl'))\n",
    "ret_mdl.print_summary()"
   ]
  },
  {
   "cell_type": "code",
   "execution_count": 7,
   "metadata": {
    "collapsed": false
   },
   "outputs": [
    {
     "data": {
      "text/plain": [
       "'Tenure_years'"
      ]
     },
     "execution_count": 7,
     "metadata": {},
     "output_type": "execute_result"
    }
   ],
   "source": [
    "ret_mdl.durations.name"
   ]
  },
  {
   "cell_type": "markdown",
   "metadata": {},
   "source": [
    "## read in the set of current employees"
   ]
  },
  {
   "cell_type": "code",
   "execution_count": 8,
   "metadata": {
    "collapsed": true
   },
   "outputs": [],
   "source": [
    "os.chdir('../../reduced/')"
   ]
  },
  {
   "cell_type": "code",
   "execution_count": 10,
   "metadata": {
    "collapsed": false
   },
   "outputs": [],
   "source": [
    "import numpy as np\n",
    "import matplotlib.pyplot as plt\n",
    "%matplotlib inline"
   ]
  },
  {
   "cell_type": "code",
   "execution_count": 11,
   "metadata": {
    "collapsed": false
   },
   "outputs": [
    {
     "data": {
      "text/plain": [
       "(134266, 69)"
      ]
     },
     "execution_count": 11,
     "metadata": {},
     "output_type": "execute_result"
    }
   ],
   "source": [
    "em2002 = pd.read_csv('after2001_v3.csv',dtype={'KEY':np.str,'EMPL_CLASS':np.str,'EEO1CODE':np.str})\n",
    "em2002.shape"
   ]
  },
  {
   "cell_type": "code",
   "execution_count": 12,
   "metadata": {
    "collapsed": false
   },
   "outputs": [
    {
     "data": {
      "text/html": [
       "<div>\n",
       "<table border=\"1\" class=\"dataframe\">\n",
       "  <thead>\n",
       "    <tr style=\"text-align: right;\">\n",
       "      <th>retired</th>\n",
       "      <th>0</th>\n",
       "      <th>1</th>\n",
       "    </tr>\n",
       "    <tr>\n",
       "      <th>status</th>\n",
       "      <th></th>\n",
       "      <th></th>\n",
       "    </tr>\n",
       "  </thead>\n",
       "  <tbody>\n",
       "    <tr>\n",
       "      <th>0</th>\n",
       "      <td>69475</td>\n",
       "      <td>0</td>\n",
       "    </tr>\n",
       "    <tr>\n",
       "      <th>1</th>\n",
       "      <td>49674</td>\n",
       "      <td>15117</td>\n",
       "    </tr>\n",
       "  </tbody>\n",
       "</table>\n",
       "</div>"
      ],
      "text/plain": [
       "retired      0      1\n",
       "status               \n",
       "0        69475      0\n",
       "1        49674  15117"
      ]
     },
     "execution_count": 12,
     "metadata": {},
     "output_type": "execute_result"
    }
   ],
   "source": [
    "pd.crosstab(em2002.status, em2002.retired)"
   ]
  },
  {
   "cell_type": "code",
   "execution_count": 21,
   "metadata": {
    "collapsed": true
   },
   "outputs": [],
   "source": [
    "current = em2002[em2002.status==0].copy()"
   ]
  },
  {
   "cell_type": "code",
   "execution_count": 22,
   "metadata": {
    "collapsed": true
   },
   "outputs": [],
   "source": [
    "def get_surv_model_columns(surv_mdl):\n",
    "    event_col = surv_mdl.event_observed.name\n",
    "    time_col = surv_mdl.durations.name\n",
    "    model_cols = surv_mdl.hazards_.columns.tolist()\n",
    "    cols_to_keep = [a for a in model_cols]\n",
    "    cols_to_keep.append(event_col)\n",
    "    cols_to_keep.append(time_col)\n",
    "    return cols_to_keep\n",
    "\n",
    "ret_cols_to_keep = get_surv_model_columns(ret_mdl)"
   ]
  },
  {
   "cell_type": "code",
   "execution_count": 23,
   "metadata": {
    "collapsed": true
   },
   "outputs": [],
   "source": [
    "ret_empl = current[ret_cols_to_keep].copy()"
   ]
  },
  {
   "cell_type": "code",
   "execution_count": 24,
   "metadata": {
    "collapsed": false
   },
   "outputs": [
    {
     "data": {
      "text/plain": [
       "23502"
      ]
     },
     "execution_count": 24,
     "metadata": {},
     "output_type": "execute_result"
    }
   ],
   "source": [
    "over50 = ret_empl[ret_empl['Age_years']>=50].copy()\n",
    "len(over50)"
   ]
  },
  {
   "cell_type": "code",
   "execution_count": 17,
   "metadata": {
    "collapsed": true
   },
   "outputs": [],
   "source": [
    "## Forecast forward in 1 year intervals\n",
    "def identify_forecast_timepoints(mdl, X, time_range):\n",
    "    \"\"\"\n",
    "        :param X: a (n,d) covariate numpy array or DataFrame. If a numpy array, it is coerced into a DataFrame\n",
    "        :param time_range: a list of times to calculate the survival for.\n",
    "        :return: time_point_df a DataFrame of selected future times to create survival forecasts for.\n",
    "\n",
    "        Construct a data frame that has the current time_col for each observation incremented by the values in the\n",
    "        desired list (time_range)\n",
    "    \"\"\"\n",
    "    time_col = mdl.durations.name\n",
    "    column_names = ['time_point_'+np.str(tp) for tp in time_range]\n",
    "    if isinstance(X, pd.DataFrame):\n",
    "        my_index = X.index.tolist()\n",
    "    else:\n",
    "        my_index = np.arange(0, len(X))\n",
    "        X = pd.DataFrame(X, columns=mdl.hazards_.columns)\n",
    "\n",
    "    time_point_df = pd.DataFrame(columns=column_names, index=my_index)\n",
    "    for idx in my_index:\n",
    "        my_times = np.array([X.loc[idx, time_col]+tp for tp in time_range])\n",
    "        time_point_df.ix[idx] = my_times\n",
    "\n",
    "    return time_point_df"
   ]
  },
  {
   "cell_type": "code",
   "execution_count": 25,
   "metadata": {
    "collapsed": true
   },
   "outputs": [],
   "source": [
    "o50_tdp = identify_forecast_timepoints(ret_mdl,over50,[0,1,2,3,4,5])"
   ]
  },
  {
   "cell_type": "code",
   "execution_count": null,
   "metadata": {
    "collapsed": true
   },
   "outputs": [],
   "source": []
  },
  {
   "cell_type": "code",
   "execution_count": 26,
   "metadata": {
    "collapsed": false
   },
   "outputs": [
    {
     "data": {
      "text/html": [
       "<div>\n",
       "<table border=\"1\" class=\"dataframe\">\n",
       "  <thead>\n",
       "    <tr style=\"text-align: right;\">\n",
       "      <th></th>\n",
       "      <th>Age_years</th>\n",
       "      <th>SAL1</th>\n",
       "      <th>MERIT1</th>\n",
       "      <th>PERF1</th>\n",
       "      <th>BOX1</th>\n",
       "      <th>SEX</th>\n",
       "      <th>HAVE_INS</th>\n",
       "      <th>HAVE_DEP</th>\n",
       "      <th>retired</th>\n",
       "      <th>Tenure_years</th>\n",
       "    </tr>\n",
       "  </thead>\n",
       "  <tbody>\n",
       "    <tr>\n",
       "      <th>64791</th>\n",
       "      <td>58.428474</td>\n",
       "      <td>52324.29</td>\n",
       "      <td>1186.40</td>\n",
       "      <td>2904.63</td>\n",
       "      <td>2</td>\n",
       "      <td>1</td>\n",
       "      <td>1</td>\n",
       "      <td>0</td>\n",
       "      <td>0</td>\n",
       "      <td>37.341547</td>\n",
       "    </tr>\n",
       "    <tr>\n",
       "      <th>64792</th>\n",
       "      <td>59.214237</td>\n",
       "      <td>55165.93</td>\n",
       "      <td>943.47</td>\n",
       "      <td>2309.88</td>\n",
       "      <td>2</td>\n",
       "      <td>0</td>\n",
       "      <td>0</td>\n",
       "      <td>0</td>\n",
       "      <td>0</td>\n",
       "      <td>35.271732</td>\n",
       "    </tr>\n",
       "    <tr>\n",
       "      <th>64793</th>\n",
       "      <td>54.499658</td>\n",
       "      <td>57474.00</td>\n",
       "      <td>0.00</td>\n",
       "      <td>4080.65</td>\n",
       "      <td>3</td>\n",
       "      <td>0</td>\n",
       "      <td>1</td>\n",
       "      <td>1</td>\n",
       "      <td>0</td>\n",
       "      <td>36.591376</td>\n",
       "    </tr>\n",
       "    <tr>\n",
       "      <th>64794</th>\n",
       "      <td>57.270363</td>\n",
       "      <td>51589.96</td>\n",
       "      <td>1575.46</td>\n",
       "      <td>1925.56</td>\n",
       "      <td>2</td>\n",
       "      <td>0</td>\n",
       "      <td>1</td>\n",
       "      <td>1</td>\n",
       "      <td>0</td>\n",
       "      <td>22.699521</td>\n",
       "    </tr>\n",
       "    <tr>\n",
       "      <th>64795</th>\n",
       "      <td>57.954825</td>\n",
       "      <td>45254.33</td>\n",
       "      <td>518.93</td>\n",
       "      <td>1270.49</td>\n",
       "      <td>2</td>\n",
       "      <td>0</td>\n",
       "      <td>1</td>\n",
       "      <td>1</td>\n",
       "      <td>0</td>\n",
       "      <td>26.398357</td>\n",
       "    </tr>\n",
       "  </tbody>\n",
       "</table>\n",
       "</div>"
      ],
      "text/plain": [
       "       Age_years      SAL1   MERIT1    PERF1  BOX1  SEX  HAVE_INS  HAVE_DEP  \\\n",
       "64791  58.428474  52324.29  1186.40  2904.63     2    1         1         0   \n",
       "64792  59.214237  55165.93   943.47  2309.88     2    0         0         0   \n",
       "64793  54.499658  57474.00     0.00  4080.65     3    0         1         1   \n",
       "64794  57.270363  51589.96  1575.46  1925.56     2    0         1         1   \n",
       "64795  57.954825  45254.33   518.93  1270.49     2    0         1         1   \n",
       "\n",
       "       retired  Tenure_years  \n",
       "64791        0     37.341547  \n",
       "64792        0     35.271732  \n",
       "64793        0     36.591376  \n",
       "64794        0     22.699521  \n",
       "64795        0     26.398357  "
      ]
     },
     "execution_count": 26,
     "metadata": {},
     "output_type": "execute_result"
    }
   ],
   "source": [
    "over50.head()"
   ]
  },
  {
   "cell_type": "code",
   "execution_count": 31,
   "metadata": {
    "collapsed": false
   },
   "outputs": [
    {
     "data": {
      "text/html": [
       "<div>\n",
       "<table border=\"1\" class=\"dataframe\">\n",
       "  <thead>\n",
       "    <tr style=\"text-align: right;\">\n",
       "      <th></th>\n",
       "      <th>KEY</th>\n",
       "      <th>ret_prob</th>\n",
       "    </tr>\n",
       "  </thead>\n",
       "  <tbody>\n",
       "    <tr>\n",
       "      <th>64791</th>\n",
       "      <td>929965184037557</td>\n",
       "      <td>0</td>\n",
       "    </tr>\n",
       "    <tr>\n",
       "      <th>64792</th>\n",
       "      <td>2396741883083</td>\n",
       "      <td>0</td>\n",
       "    </tr>\n",
       "    <tr>\n",
       "      <th>64793</th>\n",
       "      <td>872454415016088</td>\n",
       "      <td>0</td>\n",
       "    </tr>\n",
       "    <tr>\n",
       "      <th>64794</th>\n",
       "      <td>247046588569436</td>\n",
       "      <td>0</td>\n",
       "    </tr>\n",
       "    <tr>\n",
       "      <th>64795</th>\n",
       "      <td>797202090638318</td>\n",
       "      <td>0</td>\n",
       "    </tr>\n",
       "  </tbody>\n",
       "</table>\n",
       "</div>"
      ],
      "text/plain": [
       "                   KEY  ret_prob\n",
       "64791  929965184037557         0\n",
       "64792    2396741883083         0\n",
       "64793  872454415016088         0\n",
       "64794  247046588569436         0\n",
       "64795  797202090638318         0"
      ]
     },
     "execution_count": 31,
     "metadata": {},
     "output_type": "execute_result"
    }
   ],
   "source": [
    "ret_probability.head()"
   ]
  },
  {
   "cell_type": "code",
   "execution_count": 32,
   "metadata": {
    "collapsed": true
   },
   "outputs": [],
   "source": [
    "my_partial_hazard = ret_mdl.predict_partial_hazard(over50)"
   ]
  },
  {
   "cell_type": "code",
   "execution_count": 33,
   "metadata": {
    "collapsed": false
   },
   "outputs": [
    {
     "name": "stdout",
     "output_type": "stream",
     "text": [
      "61.5810044012\n"
     ]
    }
   ],
   "source": [
    "max_time = ret_mdl.baseline_hazard_.index.max()\n",
    "print(max_time)"
   ]
  },
  {
   "cell_type": "code",
   "execution_count": 34,
   "metadata": {
    "collapsed": true
   },
   "outputs": [],
   "source": [
    "o50_tdp[o50_tdp>max_time]= max_time # just set as flat"
   ]
  },
  {
   "cell_type": "code",
   "execution_count": 35,
   "metadata": {
    "collapsed": true
   },
   "outputs": [],
   "source": [
    "from scipy import interpolate\n",
    "def return_desired_cumulative_hazards(t,mdl):\n",
    "    \"\"\"\n",
    "    t: an event time that is used as the base line to forecast forward in time\n",
    "    \"\"\"\n",
    "    maxtimepoint = mdl.baseline_hazard_.index.max() #Now taken care of in the forecast\n",
    "    if t > maxtimepoint:\n",
    "        t = maxtimepoint # just set to the max value.\n",
    "    try:\n",
    "        # spec_hazard = self.baseline_hazard_.ix[t].values\n",
    "        c_haz = mdl.baseline_cumulative_hazard_.ix[t].values[0]\n",
    "\n",
    "    except KeyError:\n",
    "        # get the first after this point\n",
    "        t_post = mdl.baseline_hazard_.ix[t:].index[0]\n",
    "        # get the last before this point\n",
    "        t_prior = mdl.baseline_hazard_.ix[:t].index[-1]\n",
    "        # x = [t_prior, t_post]\n",
    "        y = [mdl.baseline_cumulative_hazard_.ix[t_prior].values[0],\n",
    "             mdl.baseline_cumulative_hazard_.ix[t_post].values[0]]\n",
    "        # print(x, y)\n",
    "        chaz_interp = interpolate.interp1d([t_prior, t_post], y)\n",
    "        c_haz = chaz_interp(t)\n",
    "\n",
    "    return c_haz"
   ]
  },
  {
   "cell_type": "code",
   "execution_count": 36,
   "metadata": {
    "collapsed": true
   },
   "outputs": [],
   "source": [
    "spec_cum_haz = o50_tdp.applymap(lambda x: return_desired_cumulative_hazards(x,ret_mdl))"
   ]
  },
  {
   "cell_type": "code",
   "execution_count": 38,
   "metadata": {
    "collapsed": false
   },
   "outputs": [],
   "source": [
    "ret_pred_survival_fcn = pd.DataFrame(np.exp(-np.multiply(spec_cum_haz.values,\n",
    "                                                             my_partial_hazard.values)), index=over50.index)"
   ]
  },
  {
   "cell_type": "code",
   "execution_count": 39,
   "metadata": {
    "collapsed": false
   },
   "outputs": [
    {
     "data": {
      "text/html": [
       "<div>\n",
       "<table border=\"1\" class=\"dataframe\">\n",
       "  <thead>\n",
       "    <tr style=\"text-align: right;\">\n",
       "      <th></th>\n",
       "      <th>0</th>\n",
       "      <th>1</th>\n",
       "      <th>2</th>\n",
       "      <th>3</th>\n",
       "      <th>4</th>\n",
       "      <th>5</th>\n",
       "    </tr>\n",
       "  </thead>\n",
       "  <tbody>\n",
       "    <tr>\n",
       "      <th>64791</th>\n",
       "      <td>0.414855</td>\n",
       "      <td>0.364765</td>\n",
       "      <td>0.317045</td>\n",
       "      <td>0.271148</td>\n",
       "      <td>0.228016</td>\n",
       "      <td>0.189635</td>\n",
       "    </tr>\n",
       "    <tr>\n",
       "      <th>64792</th>\n",
       "      <td>0.467321</td>\n",
       "      <td>0.414998</td>\n",
       "      <td>0.358889</td>\n",
       "      <td>0.308323</td>\n",
       "      <td>0.261765</td>\n",
       "      <td>0.218454</td>\n",
       "    </tr>\n",
       "    <tr>\n",
       "      <th>64793</th>\n",
       "      <td>0.626530</td>\n",
       "      <td>0.579077</td>\n",
       "      <td>0.536557</td>\n",
       "      <td>0.494133</td>\n",
       "      <td>0.448830</td>\n",
       "      <td>0.403498</td>\n",
       "    </tr>\n",
       "    <tr>\n",
       "      <th>64794</th>\n",
       "      <td>0.870819</td>\n",
       "      <td>0.861584</td>\n",
       "      <td>0.850948</td>\n",
       "      <td>0.837757</td>\n",
       "      <td>0.824930</td>\n",
       "      <td>0.812180</td>\n",
       "    </tr>\n",
       "    <tr>\n",
       "      <th>64795</th>\n",
       "      <td>0.767969</td>\n",
       "      <td>0.751786</td>\n",
       "      <td>0.736104</td>\n",
       "      <td>0.719688</td>\n",
       "      <td>0.705685</td>\n",
       "      <td>0.688598</td>\n",
       "    </tr>\n",
       "  </tbody>\n",
       "</table>\n",
       "</div>"
      ],
      "text/plain": [
       "              0         1         2         3         4         5\n",
       "64791  0.414855  0.364765  0.317045  0.271148  0.228016  0.189635\n",
       "64792  0.467321  0.414998  0.358889  0.308323  0.261765  0.218454\n",
       "64793  0.626530  0.579077  0.536557  0.494133  0.448830  0.403498\n",
       "64794  0.870819  0.861584  0.850948  0.837757  0.824930  0.812180\n",
       "64795  0.767969  0.751786  0.736104  0.719688  0.705685  0.688598"
      ]
     },
     "execution_count": 39,
     "metadata": {},
     "output_type": "execute_result"
    }
   ],
   "source": [
    "ret_pred_survival_fcn.head()"
   ]
  },
  {
   "cell_type": "code",
   "execution_count": 41,
   "metadata": {
    "collapsed": false
   },
   "outputs": [
    {
     "data": {
      "text/plain": [
       "(23502, 6)"
      ]
     },
     "execution_count": 41,
     "metadata": {},
     "output_type": "execute_result"
    }
   ],
   "source": [
    "ret_pred_survival_fcn.shape"
   ]
  },
  {
   "cell_type": "code",
   "execution_count": 44,
   "metadata": {
    "collapsed": false
   },
   "outputs": [],
   "source": [
    "ret_surv_pred_df = pd.concat([ret_probability,ret_pred_survival_fcn],axis=1)\n"
   ]
  },
  {
   "cell_type": "code",
   "execution_count": 47,
   "metadata": {
    "collapsed": false
   },
   "outputs": [],
   "source": [
    "ret_surv_pred_df.drop('ret_prob',axis=1,inplace=True)"
   ]
  },
  {
   "cell_type": "code",
   "execution_count": 49,
   "metadata": {
    "collapsed": false
   },
   "outputs": [
    {
     "data": {
      "text/html": [
       "<div>\n",
       "<table border=\"1\" class=\"dataframe\">\n",
       "  <thead>\n",
       "    <tr style=\"text-align: right;\">\n",
       "      <th></th>\n",
       "      <th>KEY</th>\n",
       "      <th>0</th>\n",
       "      <th>1</th>\n",
       "      <th>2</th>\n",
       "      <th>3</th>\n",
       "      <th>4</th>\n",
       "      <th>5</th>\n",
       "    </tr>\n",
       "  </thead>\n",
       "  <tbody>\n",
       "    <tr>\n",
       "      <th>64791</th>\n",
       "      <td>929965184037557</td>\n",
       "      <td>0.414855</td>\n",
       "      <td>0.364765</td>\n",
       "      <td>0.317045</td>\n",
       "      <td>0.271148</td>\n",
       "      <td>0.228016</td>\n",
       "      <td>0.189635</td>\n",
       "    </tr>\n",
       "    <tr>\n",
       "      <th>64792</th>\n",
       "      <td>2396741883083</td>\n",
       "      <td>0.467321</td>\n",
       "      <td>0.414998</td>\n",
       "      <td>0.358889</td>\n",
       "      <td>0.308323</td>\n",
       "      <td>0.261765</td>\n",
       "      <td>0.218454</td>\n",
       "    </tr>\n",
       "    <tr>\n",
       "      <th>64793</th>\n",
       "      <td>872454415016088</td>\n",
       "      <td>0.626530</td>\n",
       "      <td>0.579077</td>\n",
       "      <td>0.536557</td>\n",
       "      <td>0.494133</td>\n",
       "      <td>0.448830</td>\n",
       "      <td>0.403498</td>\n",
       "    </tr>\n",
       "    <tr>\n",
       "      <th>64794</th>\n",
       "      <td>247046588569436</td>\n",
       "      <td>0.870819</td>\n",
       "      <td>0.861584</td>\n",
       "      <td>0.850948</td>\n",
       "      <td>0.837757</td>\n",
       "      <td>0.824930</td>\n",
       "      <td>0.812180</td>\n",
       "    </tr>\n",
       "    <tr>\n",
       "      <th>64795</th>\n",
       "      <td>797202090638318</td>\n",
       "      <td>0.767969</td>\n",
       "      <td>0.751786</td>\n",
       "      <td>0.736104</td>\n",
       "      <td>0.719688</td>\n",
       "      <td>0.705685</td>\n",
       "      <td>0.688598</td>\n",
       "    </tr>\n",
       "    <tr>\n",
       "      <th>64796</th>\n",
       "      <td>221160341157187</td>\n",
       "      <td>0.816890</td>\n",
       "      <td>0.804456</td>\n",
       "      <td>0.793098</td>\n",
       "      <td>0.781921</td>\n",
       "      <td>0.767092</td>\n",
       "      <td>0.748167</td>\n",
       "    </tr>\n",
       "    <tr>\n",
       "      <th>64797</th>\n",
       "      <td>870814079358622</td>\n",
       "      <td>0.907932</td>\n",
       "      <td>0.896360</td>\n",
       "      <td>0.884853</td>\n",
       "      <td>0.874460</td>\n",
       "      <td>0.864649</td>\n",
       "      <td>0.853584</td>\n",
       "    </tr>\n",
       "    <tr>\n",
       "      <th>64798</th>\n",
       "      <td>113093749207022</td>\n",
       "      <td>0.892069</td>\n",
       "      <td>0.877157</td>\n",
       "      <td>0.862144</td>\n",
       "      <td>0.849210</td>\n",
       "      <td>0.836716</td>\n",
       "      <td>0.823562</td>\n",
       "    </tr>\n",
       "    <tr>\n",
       "      <th>64799</th>\n",
       "      <td>831785438969631</td>\n",
       "      <td>1.000000</td>\n",
       "      <td>1.000000</td>\n",
       "      <td>1.000000</td>\n",
       "      <td>1.000000</td>\n",
       "      <td>1.000000</td>\n",
       "      <td>1.000000</td>\n",
       "    </tr>\n",
       "    <tr>\n",
       "      <th>64800</th>\n",
       "      <td>79484315626083</td>\n",
       "      <td>1.000000</td>\n",
       "      <td>1.000000</td>\n",
       "      <td>1.000000</td>\n",
       "      <td>1.000000</td>\n",
       "      <td>1.000000</td>\n",
       "      <td>1.000000</td>\n",
       "    </tr>\n",
       "  </tbody>\n",
       "</table>\n",
       "</div>"
      ],
      "text/plain": [
       "                   KEY         0         1         2         3         4  \\\n",
       "64791  929965184037557  0.414855  0.364765  0.317045  0.271148  0.228016   \n",
       "64792    2396741883083  0.467321  0.414998  0.358889  0.308323  0.261765   \n",
       "64793  872454415016088  0.626530  0.579077  0.536557  0.494133  0.448830   \n",
       "64794  247046588569436  0.870819  0.861584  0.850948  0.837757  0.824930   \n",
       "64795  797202090638318  0.767969  0.751786  0.736104  0.719688  0.705685   \n",
       "64796  221160341157187  0.816890  0.804456  0.793098  0.781921  0.767092   \n",
       "64797  870814079358622  0.907932  0.896360  0.884853  0.874460  0.864649   \n",
       "64798  113093749207022  0.892069  0.877157  0.862144  0.849210  0.836716   \n",
       "64799  831785438969631  1.000000  1.000000  1.000000  1.000000  1.000000   \n",
       "64800   79484315626083  1.000000  1.000000  1.000000  1.000000  1.000000   \n",
       "\n",
       "              5  \n",
       "64791  0.189635  \n",
       "64792  0.218454  \n",
       "64793  0.403498  \n",
       "64794  0.812180  \n",
       "64795  0.688598  \n",
       "64796  0.748167  \n",
       "64797  0.853584  \n",
       "64798  0.823562  \n",
       "64799  1.000000  \n",
       "64800  1.000000  "
      ]
     },
     "execution_count": 49,
     "metadata": {},
     "output_type": "execute_result"
    }
   ],
   "source": [
    "ret_surv_pred_df.fillna(1,inplace=True)\n",
    "ret_surv_pred_df.head(10)"
   ]
  },
  {
   "cell_type": "code",
   "execution_count": 51,
   "metadata": {
    "collapsed": false
   },
   "outputs": [
    {
     "data": {
      "text/html": [
       "<div>\n",
       "<table border=\"1\" class=\"dataframe\">\n",
       "  <thead>\n",
       "    <tr style=\"text-align: right;\">\n",
       "      <th></th>\n",
       "      <th>KEY</th>\n",
       "      <th>0</th>\n",
       "      <th>1</th>\n",
       "      <th>2</th>\n",
       "      <th>3</th>\n",
       "      <th>4</th>\n",
       "      <th>5</th>\n",
       "    </tr>\n",
       "  </thead>\n",
       "  <tbody>\n",
       "    <tr>\n",
       "      <th>64791</th>\n",
       "      <td>929965184037557</td>\n",
       "      <td>0.585145</td>\n",
       "      <td>0.635235</td>\n",
       "      <td>0.682955</td>\n",
       "      <td>0.728852</td>\n",
       "      <td>0.771984</td>\n",
       "      <td>0.810365</td>\n",
       "    </tr>\n",
       "    <tr>\n",
       "      <th>64792</th>\n",
       "      <td>2396741883083</td>\n",
       "      <td>0.532679</td>\n",
       "      <td>0.585002</td>\n",
       "      <td>0.641111</td>\n",
       "      <td>0.691677</td>\n",
       "      <td>0.738235</td>\n",
       "      <td>0.781546</td>\n",
       "    </tr>\n",
       "    <tr>\n",
       "      <th>64793</th>\n",
       "      <td>872454415016088</td>\n",
       "      <td>0.373470</td>\n",
       "      <td>0.420923</td>\n",
       "      <td>0.463443</td>\n",
       "      <td>0.505867</td>\n",
       "      <td>0.551170</td>\n",
       "      <td>0.596502</td>\n",
       "    </tr>\n",
       "    <tr>\n",
       "      <th>64794</th>\n",
       "      <td>247046588569436</td>\n",
       "      <td>0.129181</td>\n",
       "      <td>0.138416</td>\n",
       "      <td>0.149052</td>\n",
       "      <td>0.162243</td>\n",
       "      <td>0.175070</td>\n",
       "      <td>0.187820</td>\n",
       "    </tr>\n",
       "    <tr>\n",
       "      <th>64795</th>\n",
       "      <td>797202090638318</td>\n",
       "      <td>0.232031</td>\n",
       "      <td>0.248214</td>\n",
       "      <td>0.263896</td>\n",
       "      <td>0.280312</td>\n",
       "      <td>0.294315</td>\n",
       "      <td>0.311402</td>\n",
       "    </tr>\n",
       "  </tbody>\n",
       "</table>\n",
       "</div>"
      ],
      "text/plain": [
       "                   KEY         0         1         2         3         4  \\\n",
       "64791  929965184037557  0.585145  0.635235  0.682955  0.728852  0.771984   \n",
       "64792    2396741883083  0.532679  0.585002  0.641111  0.691677  0.738235   \n",
       "64793  872454415016088  0.373470  0.420923  0.463443  0.505867  0.551170   \n",
       "64794  247046588569436  0.129181  0.138416  0.149052  0.162243  0.175070   \n",
       "64795  797202090638318  0.232031  0.248214  0.263896  0.280312  0.294315   \n",
       "\n",
       "              5  \n",
       "64791  0.810365  \n",
       "64792  0.781546  \n",
       "64793  0.596502  \n",
       "64794  0.187820  \n",
       "64795  0.311402  "
      ]
     },
     "execution_count": 51,
     "metadata": {},
     "output_type": "execute_result"
    }
   ],
   "source": [
    "ret_proba = ret_surv_pred_df.copy()\n",
    "ret_proba[ret_proba.columns[1:]]=ret_proba[ret_proba.columns[1:]].applymap(lambda x: 1-x)\n",
    "ret_proba.head()"
   ]
  },
  {
   "cell_type": "code",
   "execution_count": 54,
   "metadata": {
    "collapsed": false
   },
   "outputs": [
    {
     "data": {
      "text/html": [
       "<div>\n",
       "<table border=\"1\" class=\"dataframe\">\n",
       "  <thead>\n",
       "    <tr style=\"text-align: right;\">\n",
       "      <th></th>\n",
       "      <th>KEY</th>\n",
       "      <th>ret_prob0</th>\n",
       "      <th>ret_prob1</th>\n",
       "      <th>ret_prob2</th>\n",
       "      <th>ret_prob3</th>\n",
       "      <th>ret_prob4</th>\n",
       "      <th>ret_prob5</th>\n",
       "    </tr>\n",
       "  </thead>\n",
       "  <tbody>\n",
       "    <tr>\n",
       "      <th>64791</th>\n",
       "      <td>929965184037557</td>\n",
       "      <td>0.585145</td>\n",
       "      <td>0.635235</td>\n",
       "      <td>0.682955</td>\n",
       "      <td>0.728852</td>\n",
       "      <td>0.771984</td>\n",
       "      <td>0.810365</td>\n",
       "    </tr>\n",
       "    <tr>\n",
       "      <th>64792</th>\n",
       "      <td>2396741883083</td>\n",
       "      <td>0.532679</td>\n",
       "      <td>0.585002</td>\n",
       "      <td>0.641111</td>\n",
       "      <td>0.691677</td>\n",
       "      <td>0.738235</td>\n",
       "      <td>0.781546</td>\n",
       "    </tr>\n",
       "    <tr>\n",
       "      <th>64793</th>\n",
       "      <td>872454415016088</td>\n",
       "      <td>0.373470</td>\n",
       "      <td>0.420923</td>\n",
       "      <td>0.463443</td>\n",
       "      <td>0.505867</td>\n",
       "      <td>0.551170</td>\n",
       "      <td>0.596502</td>\n",
       "    </tr>\n",
       "    <tr>\n",
       "      <th>64794</th>\n",
       "      <td>247046588569436</td>\n",
       "      <td>0.129181</td>\n",
       "      <td>0.138416</td>\n",
       "      <td>0.149052</td>\n",
       "      <td>0.162243</td>\n",
       "      <td>0.175070</td>\n",
       "      <td>0.187820</td>\n",
       "    </tr>\n",
       "    <tr>\n",
       "      <th>64795</th>\n",
       "      <td>797202090638318</td>\n",
       "      <td>0.232031</td>\n",
       "      <td>0.248214</td>\n",
       "      <td>0.263896</td>\n",
       "      <td>0.280312</td>\n",
       "      <td>0.294315</td>\n",
       "      <td>0.311402</td>\n",
       "    </tr>\n",
       "  </tbody>\n",
       "</table>\n",
       "</div>"
      ],
      "text/plain": [
       "                   KEY  ret_prob0  ret_prob1  ret_prob2  ret_prob3  ret_prob4  \\\n",
       "64791  929965184037557   0.585145   0.635235   0.682955   0.728852   0.771984   \n",
       "64792    2396741883083   0.532679   0.585002   0.641111   0.691677   0.738235   \n",
       "64793  872454415016088   0.373470   0.420923   0.463443   0.505867   0.551170   \n",
       "64794  247046588569436   0.129181   0.138416   0.149052   0.162243   0.175070   \n",
       "64795  797202090638318   0.232031   0.248214   0.263896   0.280312   0.294315   \n",
       "\n",
       "       ret_prob5  \n",
       "64791   0.810365  \n",
       "64792   0.781546  \n",
       "64793   0.596502  \n",
       "64794   0.187820  \n",
       "64795   0.311402  "
      ]
     },
     "execution_count": 54,
     "metadata": {},
     "output_type": "execute_result"
    }
   ],
   "source": [
    "#ret_proba = 1-ret_surv_pred_df\n",
    "ret_proba.columns = ['KEY','ret_prob0','ret_prob1','ret_prob2','ret_prob3','ret_prob4','ret_prob5']\n",
    "ret_proba.head()"
   ]
  },
  {
   "cell_type": "code",
   "execution_count": 55,
   "metadata": {
    "collapsed": true
   },
   "outputs": [],
   "source": [
    "ret_proba.to_csv('current_retire_prob.csv',index=False)"
   ]
  },
  {
   "cell_type": "code",
   "execution_count": 57,
   "metadata": {
    "collapsed": false
   },
   "outputs": [],
   "source": [
    "\n",
    "%matplotlib inline \n",
    "import matplotlib.pyplot as plt\n",
    "import seaborn as sns"
   ]
  },
  {
   "cell_type": "code",
   "execution_count": 58,
   "metadata": {
    "collapsed": false
   },
   "outputs": [
    {
     "data": {
      "text/plain": [
       "<matplotlib.axes._subplots.AxesSubplot at 0x10e49710>"
      ]
     },
     "execution_count": 58,
     "metadata": {},
     "output_type": "execute_result"
    },
    {
     "data": {
      "image/png": "[encoded data removed]",
      "text/plain": [
       "<matplotlib.figure.Figure at 0x10e49860>"
      ]
     },
     "metadata": {},
     "output_type": "display_data"
    }
   ],
   "source": [
    "sns.distplot(ret_proba.ret_prob5)"
   ]
  },
  {
   "cell_type": "code",
   "execution_count": 60,
   "metadata": {
    "collapsed": false
   },
   "outputs": [
    {
     "data": {
      "text/html": [
       "<div>\n",
       "<table border=\"1\" class=\"dataframe\">\n",
       "  <thead>\n",
       "    <tr style=\"text-align: right;\">\n",
       "      <th></th>\n",
       "      <th>SAL1</th>\n",
       "      <th>MERIT1</th>\n",
       "      <th>PERF1</th>\n",
       "    </tr>\n",
       "  </thead>\n",
       "  <tbody>\n",
       "    <tr>\n",
       "      <th>count</th>\n",
       "      <td>134266.000000</td>\n",
       "      <td>134266.000000</td>\n",
       "      <td>134266.000000</td>\n",
       "    </tr>\n",
       "    <tr>\n",
       "      <th>mean</th>\n",
       "      <td>54953.641146</td>\n",
       "      <td>1317.234767</td>\n",
       "      <td>1644.164758</td>\n",
       "    </tr>\n",
       "    <tr>\n",
       "      <th>std</th>\n",
       "      <td>31881.929036</td>\n",
       "      <td>1924.660917</td>\n",
       "      <td>1804.179432</td>\n",
       "    </tr>\n",
       "    <tr>\n",
       "      <th>min</th>\n",
       "      <td>0.000000</td>\n",
       "      <td>-45000.000000</td>\n",
       "      <td>0.000000</td>\n",
       "    </tr>\n",
       "    <tr>\n",
       "      <th>25%</th>\n",
       "      <td>31045.350000</td>\n",
       "      <td>0.160000</td>\n",
       "      <td>103.470000</td>\n",
       "    </tr>\n",
       "    <tr>\n",
       "      <th>50%</th>\n",
       "      <td>46552.930000</td>\n",
       "      <td>1105.620000</td>\n",
       "      <td>1183.435000</td>\n",
       "    </tr>\n",
       "    <tr>\n",
       "      <th>75%</th>\n",
       "      <td>73224.405000</td>\n",
       "      <td>1989.060000</td>\n",
       "      <td>2584.737500</td>\n",
       "    </tr>\n",
       "    <tr>\n",
       "      <th>max</th>\n",
       "      <td>725000.000000</td>\n",
       "      <td>35000.000000</td>\n",
       "      <td>56751.140000</td>\n",
       "    </tr>\n",
       "  </tbody>\n",
       "</table>\n",
       "</div>"
      ],
      "text/plain": [
       "                SAL1         MERIT1          PERF1\n",
       "count  134266.000000  134266.000000  134266.000000\n",
       "mean    54953.641146    1317.234767    1644.164758\n",
       "std     31881.929036    1924.660917    1804.179432\n",
       "min         0.000000  -45000.000000       0.000000\n",
       "25%     31045.350000       0.160000     103.470000\n",
       "50%     46552.930000    1105.620000    1183.435000\n",
       "75%     73224.405000    1989.060000    2584.737500\n",
       "max    725000.000000   35000.000000   56751.140000"
      ]
     },
     "execution_count": 60,
     "metadata": {},
     "output_type": "execute_result"
    }
   ],
   "source": [
    "em2002[['SAL1','MERIT1','PERF1']].describe()"
   ]
  },
  {
   "cell_type": "code",
   "execution_count": 61,
   "metadata": {
    "collapsed": false
   },
   "outputs": [
    {
     "data": {
      "text/plain": [
       "SAL1      12906.4\n",
       "MERIT1        0.0\n",
       "PERF1         0.0\n",
       "dtype: float64"
      ]
     },
     "execution_count": 61,
     "metadata": {},
     "output_type": "execute_result"
    }
   ],
   "source": [
    "em2002[['SAL1','MERIT1','PERF1']].quantile(0.02)"
   ]
  },
  {
   "cell_type": "code",
   "execution_count": null,
   "metadata": {
    "collapsed": true
   },
   "outputs": [],
   "source": []
  }
 ],
 "metadata": {
  "kernelspec": {
   "display_name": "Python 2",
   "language": "python",
   "name": "python2"
  },
  "language_info": {
   "codemirror_mode": {
    "name": "ipython",
    "version": 2
   },
   "file_extension": ".py",
   "mimetype": "text/x-python",
   "name": "python",
   "nbconvert_exporter": "python",
   "pygments_lexer": "ipython2",
   "version": "2.7.11"
  }
 },
 "nbformat": 4,
 "nbformat_minor": 0
}
