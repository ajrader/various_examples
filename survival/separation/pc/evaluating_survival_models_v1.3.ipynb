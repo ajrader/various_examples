{
 "cells": [
  {
   "cell_type": "markdown",
   "metadata": {},
   "source": [
    "# Evaluating HR Separation/Retirement Predictions\n",
    "# March 11,2016\n",
    "### Based upon webserver predictions\n",
    "### input models are:\n",
    "* retirement_sf2.pkl\n",
    "* separation_cf4.pkl\n"
   ]
  },
  {
   "cell_type": "code",
   "execution_count": 1,
   "metadata": {
    "collapsed": true
   },
   "outputs": [],
   "source": [
    "import os\n",
    "import pandas as pd\n",
    "import matplotlib.pyplot as plt\n",
    "%matplotlib inline\n",
    "import numpy as np\n",
    "import seaborn as sns\n"
   ]
  },
  {
   "cell_type": "code",
   "execution_count": 2,
   "metadata": {
    "collapsed": true
   },
   "outputs": [],
   "source": [
    "cwd = os.getcwd()"
   ]
  },
  {
   "cell_type": "code",
   "execution_count": 3,
   "metadata": {
    "collapsed": false
   },
   "outputs": [
    {
     "data": {
      "text/plain": [
       "'C:\\\\Users\\\\kesj\\\\Documents\\\\IPython Notebooks\\\\otherSFprojects\\\\HRsepara'"
      ]
     },
     "execution_count": 3,
     "metadata": {},
     "output_type": "execute_result"
    }
   ],
   "source": [
    "cwd"
   ]
  },
  {
   "cell_type": "code",
   "execution_count": 4,
   "metadata": {
    "collapsed": false
   },
   "outputs": [],
   "source": [
    "os.chdir('../../../projects/HRattrition/survival/')"
   ]
  },
  {
   "cell_type": "code",
   "execution_count": 5,
   "metadata": {
    "collapsed": false
   },
   "outputs": [
    {
     "name": "stdout",
     "output_type": "stream",
     "text": [
      "There are 69475 current employees\n"
     ]
    }
   ],
   "source": [
    "current = pd.read_csv('current_v8.ssv',sep=';',dtype={'KEY':np.str,'EEO1CODE':np.str})\n",
    "print(\"There are {0} current employees\".format(len(current)))"
   ]
  },
  {
   "cell_type": "markdown",
   "metadata": {},
   "source": [
    "### read in the predictions"
   ]
  },
  {
   "cell_type": "code",
   "execution_count": 6,
   "metadata": {
    "collapsed": true
   },
   "outputs": [],
   "source": [
    "sep_pred = pd.read_csv('separation_prediction.csv',\n",
    "                       usecols=['KEY','sep_prob_0','sep_prob_1','sep_prob_2','sep_prob_3','sep_prob_4','sep_prob_5'])\n",
    "ret_pred = pd.read_csv('retirement_prediction.csv',\n",
    "                      usecols=['KEY','ret_prob_0','ret_prob_1','ret_prob_2','ret_prob_3','ret_prob_4','ret_prob_5'])"
   ]
  },
  {
   "cell_type": "code",
   "execution_count": 7,
   "metadata": {
    "collapsed": false
   },
   "outputs": [
    {
     "data": {
      "text/html": [
       "<div>\n",
       "<table border=\"1\" class=\"dataframe\">\n",
       "  <thead>\n",
       "    <tr style=\"text-align: right;\">\n",
       "      <th></th>\n",
       "      <th>KEY</th>\n",
       "      <th>sep_prob_0</th>\n",
       "      <th>sep_prob_1</th>\n",
       "      <th>sep_prob_2</th>\n",
       "      <th>sep_prob_3</th>\n",
       "      <th>sep_prob_4</th>\n",
       "      <th>sep_prob_5</th>\n",
       "    </tr>\n",
       "  </thead>\n",
       "  <tbody>\n",
       "    <tr>\n",
       "      <th>0</th>\n",
       "      <td>490903510940682</td>\n",
       "      <td>0.000000</td>\n",
       "      <td>0.000000</td>\n",
       "      <td>0.000000</td>\n",
       "      <td>0.000000</td>\n",
       "      <td>0.000000</td>\n",
       "      <td>0.000000</td>\n",
       "    </tr>\n",
       "    <tr>\n",
       "      <th>1</th>\n",
       "      <td>850716555421574</td>\n",
       "      <td>0.000021</td>\n",
       "      <td>0.000031</td>\n",
       "      <td>0.000069</td>\n",
       "      <td>0.000175</td>\n",
       "      <td>0.000748</td>\n",
       "      <td>0.001301</td>\n",
       "    </tr>\n",
       "    <tr>\n",
       "      <th>2</th>\n",
       "      <td>213029456889736</td>\n",
       "      <td>0.000035</td>\n",
       "      <td>0.000064</td>\n",
       "      <td>0.000106</td>\n",
       "      <td>0.000711</td>\n",
       "      <td>0.001448</td>\n",
       "      <td>0.002075</td>\n",
       "    </tr>\n",
       "    <tr>\n",
       "      <th>3</th>\n",
       "      <td>765210492427093</td>\n",
       "      <td>0.627177</td>\n",
       "      <td>0.674326</td>\n",
       "      <td>0.719338</td>\n",
       "      <td>0.760545</td>\n",
       "      <td>0.801030</td>\n",
       "      <td>0.850097</td>\n",
       "    </tr>\n",
       "    <tr>\n",
       "      <th>4</th>\n",
       "      <td>297986222569824</td>\n",
       "      <td>0.035676</td>\n",
       "      <td>0.038690</td>\n",
       "      <td>0.041843</td>\n",
       "      <td>0.045026</td>\n",
       "      <td>0.048793</td>\n",
       "      <td>0.052697</td>\n",
       "    </tr>\n",
       "  </tbody>\n",
       "</table>\n",
       "</div>"
      ],
      "text/plain": [
       "               KEY  sep_prob_0  sep_prob_1  sep_prob_2  sep_prob_3  \\\n",
       "0  490903510940682    0.000000    0.000000    0.000000    0.000000   \n",
       "1  850716555421574    0.000021    0.000031    0.000069    0.000175   \n",
       "2  213029456889736    0.000035    0.000064    0.000106    0.000711   \n",
       "3  765210492427093    0.627177    0.674326    0.719338    0.760545   \n",
       "4  297986222569824    0.035676    0.038690    0.041843    0.045026   \n",
       "\n",
       "   sep_prob_4  sep_prob_5  \n",
       "0    0.000000    0.000000  \n",
       "1    0.000748    0.001301  \n",
       "2    0.001448    0.002075  \n",
       "3    0.801030    0.850097  \n",
       "4    0.048793    0.052697  "
      ]
     },
     "execution_count": 7,
     "metadata": {},
     "output_type": "execute_result"
    }
   ],
   "source": [
    "sep_pred.head()"
   ]
  },
  {
   "cell_type": "code",
   "execution_count": 8,
   "metadata": {
    "collapsed": true
   },
   "outputs": [],
   "source": [
    "def reduce_to_sums(prob, thresh=0.5):\n",
    "    if str(type(prob)).split(\".\")[-1].startswith('DataFrame'):\n",
    "        prob_cols = prob.columns.tolist()[1:]\n",
    "        my_counts = (prob[prob_cols] >= thresh).astype(int).sum(axis=0)\n",
    "        df_counts = pd.DataFrame(my_counts)\n",
    "        df_counts.columns=['surv_pred']\n",
    "        \n",
    "    else: \n",
    "        my_counts = {}\n",
    "        prob_cols = prob['surv'].columns.tolist()[1:]\n",
    "        for item in prob.items:\n",
    "            my_counts[item] = (prob[item][prob_cols] >= thresh).astype(int).sum(axis=0)\n",
    "\n",
    "        df_counts = pd.DataFrame.from_dict(my_counts)\n",
    "    \n",
    "    return df_counts"
   ]
  },
  {
   "cell_type": "code",
   "execution_count": 9,
   "metadata": {
    "collapsed": false
   },
   "outputs": [],
   "source": [
    "sep_sums = reduce_to_sums(sep_pred)"
   ]
  },
  {
   "cell_type": "code",
   "execution_count": 10,
   "metadata": {
    "collapsed": false
   },
   "outputs": [
    {
     "data": {
      "text/html": [
       "<div>\n",
       "<table border=\"1\" class=\"dataframe\">\n",
       "  <thead>\n",
       "    <tr style=\"text-align: right;\">\n",
       "      <th></th>\n",
       "      <th>surv_pred</th>\n",
       "    </tr>\n",
       "  </thead>\n",
       "  <tbody>\n",
       "    <tr>\n",
       "      <th>sep_prob_0</th>\n",
       "      <td>1613</td>\n",
       "    </tr>\n",
       "    <tr>\n",
       "      <th>sep_prob_1</th>\n",
       "      <td>1940</td>\n",
       "    </tr>\n",
       "    <tr>\n",
       "      <th>sep_prob_2</th>\n",
       "      <td>2307</td>\n",
       "    </tr>\n",
       "    <tr>\n",
       "      <th>sep_prob_3</th>\n",
       "      <td>2680</td>\n",
       "    </tr>\n",
       "    <tr>\n",
       "      <th>sep_prob_4</th>\n",
       "      <td>3051</td>\n",
       "    </tr>\n",
       "    <tr>\n",
       "      <th>sep_prob_5</th>\n",
       "      <td>3454</td>\n",
       "    </tr>\n",
       "  </tbody>\n",
       "</table>\n",
       "</div>"
      ],
      "text/plain": [
       "            surv_pred\n",
       "sep_prob_0       1613\n",
       "sep_prob_1       1940\n",
       "sep_prob_2       2307\n",
       "sep_prob_3       2680\n",
       "sep_prob_4       3051\n",
       "sep_prob_5       3454"
      ]
     },
     "execution_count": 10,
     "metadata": {},
     "output_type": "execute_result"
    }
   ],
   "source": [
    "sep_sums"
   ]
  },
  {
   "cell_type": "code",
   "execution_count": 11,
   "metadata": {
    "collapsed": false
   },
   "outputs": [
    {
     "data": {
      "text/html": [
       "<div>\n",
       "<table border=\"1\" class=\"dataframe\">\n",
       "  <thead>\n",
       "    <tr style=\"text-align: right;\">\n",
       "      <th></th>\n",
       "      <th>surv_pred</th>\n",
       "    </tr>\n",
       "  </thead>\n",
       "  <tbody>\n",
       "    <tr>\n",
       "      <th>ret_prob_0</th>\n",
       "      <td>1613</td>\n",
       "    </tr>\n",
       "    <tr>\n",
       "      <th>ret_prob_1</th>\n",
       "      <td>1940</td>\n",
       "    </tr>\n",
       "    <tr>\n",
       "      <th>ret_prob_2</th>\n",
       "      <td>2307</td>\n",
       "    </tr>\n",
       "    <tr>\n",
       "      <th>ret_prob_3</th>\n",
       "      <td>2680</td>\n",
       "    </tr>\n",
       "    <tr>\n",
       "      <th>ret_prob_4</th>\n",
       "      <td>3051</td>\n",
       "    </tr>\n",
       "    <tr>\n",
       "      <th>ret_prob_5</th>\n",
       "      <td>3454</td>\n",
       "    </tr>\n",
       "  </tbody>\n",
       "</table>\n",
       "</div>"
      ],
      "text/plain": [
       "            surv_pred\n",
       "ret_prob_0       1613\n",
       "ret_prob_1       1940\n",
       "ret_prob_2       2307\n",
       "ret_prob_3       2680\n",
       "ret_prob_4       3051\n",
       "ret_prob_5       3454"
      ]
     },
     "execution_count": 11,
     "metadata": {},
     "output_type": "execute_result"
    }
   ],
   "source": [
    "ret_sums = reduce_to_sums(ret_pred)\n",
    "ret_sums"
   ]
  },
  {
   "cell_type": "code",
   "execution_count": 12,
   "metadata": {
    "collapsed": false
   },
   "outputs": [
    {
     "data": {
      "text/plain": [
       "<matplotlib.axes._subplots.AxesSubplot at 0x1339d320>"
      ]
     },
     "execution_count": 12,
     "metadata": {},
     "output_type": "execute_result"
    },
    {
     "data": {
      "image/png": "[encoded data removed]",
      "text/plain": [
       "<matplotlib.figure.Figure at 0x1339d6d8>"
      ]
     },
     "metadata": {},
     "output_type": "display_data"
    }
   ],
   "source": [
    "sns.distplot(sep_pred.sep_prob_0)\n",
    "sns.distplot(ret_pred.ret_prob_0)"
   ]
  },
  {
   "cell_type": "code",
   "execution_count": 13,
   "metadata": {
    "collapsed": true
   },
   "outputs": [],
   "source": [
    "c_ret_prob = pd.read_csv('../reduced/current_retire_prob.csv')\n",
    "c_sep_prob = pd.read_csv('../reduced/current_sep_prob.csv')"
   ]
  },
  {
   "cell_type": "code",
   "execution_count": 14,
   "metadata": {
    "collapsed": false
   },
   "outputs": [
    {
     "data": {
      "text/plain": [
       "<matplotlib.axes._subplots.AxesSubplot at 0x12eb4080>"
      ]
     },
     "execution_count": 14,
     "metadata": {},
     "output_type": "execute_result"
    },
    {
     "data": {
      "image/png": "[encoded data removed]",
      "text/plain": [
       "<matplotlib.figure.Figure at 0x12ed9710>"
      ]
     },
     "metadata": {},
     "output_type": "display_data"
    }
   ],
   "source": [
    "sns.distplot(c_sep_prob.sep_prob0)"
   ]
  },
  {
   "cell_type": "code",
   "execution_count": 15,
   "metadata": {
    "collapsed": false
   },
   "outputs": [
    {
     "data": {
      "text/html": [
       "<div>\n",
       "<table border=\"1\" class=\"dataframe\">\n",
       "  <thead>\n",
       "    <tr style=\"text-align: right;\">\n",
       "      <th></th>\n",
       "      <th>surv_pred</th>\n",
       "    </tr>\n",
       "  </thead>\n",
       "  <tbody>\n",
       "    <tr>\n",
       "      <th>sep_prob0</th>\n",
       "      <td>2534</td>\n",
       "    </tr>\n",
       "    <tr>\n",
       "      <th>sep_prob1</th>\n",
       "      <td>4901</td>\n",
       "    </tr>\n",
       "    <tr>\n",
       "      <th>sep_prob2</th>\n",
       "      <td>7038</td>\n",
       "    </tr>\n",
       "    <tr>\n",
       "      <th>sep_prob3</th>\n",
       "      <td>9073</td>\n",
       "    </tr>\n",
       "    <tr>\n",
       "      <th>sep_prob4</th>\n",
       "      <td>11086</td>\n",
       "    </tr>\n",
       "    <tr>\n",
       "      <th>sep_prob5</th>\n",
       "      <td>12981</td>\n",
       "    </tr>\n",
       "  </tbody>\n",
       "</table>\n",
       "</div>"
      ],
      "text/plain": [
       "           surv_pred\n",
       "sep_prob0       2534\n",
       "sep_prob1       4901\n",
       "sep_prob2       7038\n",
       "sep_prob3       9073\n",
       "sep_prob4      11086\n",
       "sep_prob5      12981"
      ]
     },
     "execution_count": 15,
     "metadata": {},
     "output_type": "execute_result"
    }
   ],
   "source": [
    "reduce_to_sums(c_sep_prob)"
   ]
  },
  {
   "cell_type": "code",
   "execution_count": 16,
   "metadata": {
    "collapsed": false
   },
   "outputs": [
    {
     "data": {
      "text/plain": [
       "<seaborn.axisgrid.JointGrid at 0x126af710>"
      ]
     },
     "execution_count": 16,
     "metadata": {},
     "output_type": "execute_result"
    },
    {
     "data": {
      "image/png": "[encoded data removed]",
      "text/plain": [
       "<matplotlib.figure.Figure at 0x126afc50>"
      ]
     },
     "metadata": {},
     "output_type": "display_data"
    }
   ],
   "source": [
    "sns.jointplot(c_sep_prob.sep_prob0,sep_pred.sep_prob_0)"
   ]
  },
  {
   "cell_type": "code",
   "execution_count": 17,
   "metadata": {
    "collapsed": false
   },
   "outputs": [
    {
     "data": {
      "text/plain": [
       "<seaborn.axisgrid.JointGrid at 0x11a29240>"
      ]
     },
     "execution_count": 17,
     "metadata": {},
     "output_type": "execute_result"
    },
    {
     "data": {
      "image/png": "[encoded data removed]",
      "text/plain": [
       "<matplotlib.figure.Figure at 0x11a297f0>"
      ]
     },
     "metadata": {},
     "output_type": "display_data"
    }
   ],
   "source": [
    "sns.jointplot(sep_pred.sep_prob_0,sep_pred.sep_prob_1)"
   ]
  },
  {
   "cell_type": "code",
   "execution_count": 18,
   "metadata": {
    "collapsed": false
   },
   "outputs": [
    {
     "data": {
      "text/plain": [
       "<seaborn.axisgrid.JointGrid at 0xa7f87b8>"
      ]
     },
     "execution_count": 18,
     "metadata": {},
     "output_type": "execute_result"
    },
    {
     "data": {
      "image/png": "[encoded data removed]",
      "text/plain": [
       "<matplotlib.figure.Figure at 0x121f6d68>"
      ]
     },
     "metadata": {},
     "output_type": "display_data"
    }
   ],
   "source": [
    "sns.jointplot(sep_pred.sep_prob_4,ret_pred.ret_prob_4)"
   ]
  },
  {
   "cell_type": "code",
   "execution_count": 19,
   "metadata": {
    "collapsed": false
   },
   "outputs": [
    {
     "data": {
      "text/plain": [
       "sep_prob0     9686.144652\n",
       "sep_prob1    12307.202178\n",
       "sep_prob2    14324.847331\n",
       "sep_prob3    16137.224547\n",
       "sep_prob4    17830.190960\n",
       "sep_prob5    19427.332452\n",
       "dtype: float64"
      ]
     },
     "execution_count": 19,
     "metadata": {},
     "output_type": "execute_result"
    }
   ],
   "source": [
    "c_sep_prob[c_sep_prob.columns[1:]].sum(axis=0)"
   ]
  },
  {
   "cell_type": "code",
   "execution_count": 20,
   "metadata": {
    "collapsed": false
   },
   "outputs": [
    {
     "data": {
      "text/html": [
       "<div>\n",
       "<table border=\"1\" class=\"dataframe\">\n",
       "  <thead>\n",
       "    <tr style=\"text-align: right;\">\n",
       "      <th></th>\n",
       "      <th>KEY</th>\n",
       "      <th>sep_prob0</th>\n",
       "      <th>sep_prob1</th>\n",
       "      <th>sep_prob2</th>\n",
       "      <th>sep_prob3</th>\n",
       "      <th>sep_prob4</th>\n",
       "      <th>sep_prob5</th>\n",
       "    </tr>\n",
       "  </thead>\n",
       "  <tbody>\n",
       "    <tr>\n",
       "      <th>0</th>\n",
       "      <td>929965184037557</td>\n",
       "      <td>0.416907</td>\n",
       "      <td>0.433157</td>\n",
       "      <td>0.456523</td>\n",
       "      <td>0.469564</td>\n",
       "      <td>0.495995</td>\n",
       "      <td>0.516903</td>\n",
       "    </tr>\n",
       "    <tr>\n",
       "      <th>1</th>\n",
       "      <td>2396741883083</td>\n",
       "      <td>0.411617</td>\n",
       "      <td>0.430857</td>\n",
       "      <td>0.450175</td>\n",
       "      <td>0.466659</td>\n",
       "      <td>0.492508</td>\n",
       "      <td>0.505002</td>\n",
       "    </tr>\n",
       "    <tr>\n",
       "      <th>2</th>\n",
       "      <td>872454415016088</td>\n",
       "      <td>0.092980</td>\n",
       "      <td>0.098332</td>\n",
       "      <td>0.104625</td>\n",
       "      <td>0.109815</td>\n",
       "      <td>0.115951</td>\n",
       "      <td>0.122274</td>\n",
       "    </tr>\n",
       "    <tr>\n",
       "      <th>3</th>\n",
       "      <td>247046588569436</td>\n",
       "      <td>0.126733</td>\n",
       "      <td>0.136192</td>\n",
       "      <td>0.147030</td>\n",
       "      <td>0.159128</td>\n",
       "      <td>0.173263</td>\n",
       "      <td>0.188095</td>\n",
       "    </tr>\n",
       "    <tr>\n",
       "      <th>4</th>\n",
       "      <td>797202090638318</td>\n",
       "      <td>0.130791</td>\n",
       "      <td>0.142563</td>\n",
       "      <td>0.153719</td>\n",
       "      <td>0.163980</td>\n",
       "      <td>0.173378</td>\n",
       "      <td>0.181629</td>\n",
       "    </tr>\n",
       "  </tbody>\n",
       "</table>\n",
       "</div>"
      ],
      "text/plain": [
       "               KEY  sep_prob0  sep_prob1  sep_prob2  sep_prob3  sep_prob4  \\\n",
       "0  929965184037557   0.416907   0.433157   0.456523   0.469564   0.495995   \n",
       "1    2396741883083   0.411617   0.430857   0.450175   0.466659   0.492508   \n",
       "2  872454415016088   0.092980   0.098332   0.104625   0.109815   0.115951   \n",
       "3  247046588569436   0.126733   0.136192   0.147030   0.159128   0.173263   \n",
       "4  797202090638318   0.130791   0.142563   0.153719   0.163980   0.173378   \n",
       "\n",
       "   sep_prob5  \n",
       "0   0.516903  \n",
       "1   0.505002  \n",
       "2   0.122274  \n",
       "3   0.188095  \n",
       "4   0.181629  "
      ]
     },
     "execution_count": 20,
     "metadata": {},
     "output_type": "execute_result"
    }
   ],
   "source": [
    "c_sep_prob.head()"
   ]
  },
  {
   "cell_type": "markdown",
   "metadata": {},
   "source": [
    "## Looking into how this got so bad\n",
    "* issue 2: why they don't match the February 19,2016 document\n",
    "* maybe it is the pipeline?"
   ]
  },
  {
   "cell_type": "code",
   "execution_count": 21,
   "metadata": {
    "collapsed": false
   },
   "outputs": [
    {
     "data": {
      "text/html": [
       "<div>\n",
       "<table border=\"1\" class=\"dataframe\">\n",
       "  <thead>\n",
       "    <tr style=\"text-align: right;\">\n",
       "      <th></th>\n",
       "      <th>ADDRCNT1</th>\n",
       "      <th>ADDRCNT10</th>\n",
       "      <th>ADDRCNT3</th>\n",
       "      <th>ADDRCNT5</th>\n",
       "      <th>ANNUAL_RT</th>\n",
       "      <th>Age_tdelta</th>\n",
       "      <th>Age_years</th>\n",
       "      <th>BIRTHDATE</th>\n",
       "      <th>BOX1</th>\n",
       "      <th>COMPANY</th>\n",
       "      <th>...</th>\n",
       "      <th>HAVE_DEP</th>\n",
       "      <th>DEP_COUNT</th>\n",
       "      <th>sep_status</th>\n",
       "      <th>mar_status</th>\n",
       "      <th>retired</th>\n",
       "      <th>terminated</th>\n",
       "      <th>hire_tstmp</th>\n",
       "      <th>term_tstmp</th>\n",
       "      <th>birth_tstmp</th>\n",
       "      <th>hire_age</th>\n",
       "    </tr>\n",
       "  </thead>\n",
       "  <tbody>\n",
       "    <tr>\n",
       "      <th>0</th>\n",
       "      <td>1</td>\n",
       "      <td>1</td>\n",
       "      <td>1</td>\n",
       "      <td>1</td>\n",
       "      <td>16099.20</td>\n",
       "      <td>7788 days 00:00:00.000000000</td>\n",
       "      <td>21.322820</td>\n",
       "      <td>1993-09-05</td>\n",
       "      <td>0</td>\n",
       "      <td>1</td>\n",
       "      <td>...</td>\n",
       "      <td>0</td>\n",
       "      <td>0</td>\n",
       "      <td>0</td>\n",
       "      <td>1</td>\n",
       "      <td>0</td>\n",
       "      <td>0</td>\n",
       "      <td>2014-06-09</td>\n",
       "      <td>2015-01-01</td>\n",
       "      <td>1993-09-05</td>\n",
       "      <td>20.758811</td>\n",
       "    </tr>\n",
       "    <tr>\n",
       "      <th>1</th>\n",
       "      <td>0</td>\n",
       "      <td>1</td>\n",
       "      <td>1</td>\n",
       "      <td>1</td>\n",
       "      <td>31045.35</td>\n",
       "      <td>9808 days 00:00:00.000000000</td>\n",
       "      <td>26.853392</td>\n",
       "      <td>1988-02-24</td>\n",
       "      <td>2</td>\n",
       "      <td>1</td>\n",
       "      <td>...</td>\n",
       "      <td>0</td>\n",
       "      <td>0</td>\n",
       "      <td>0</td>\n",
       "      <td>1</td>\n",
       "      <td>0</td>\n",
       "      <td>0</td>\n",
       "      <td>2012-12-10</td>\n",
       "      <td>2015-01-01</td>\n",
       "      <td>1988-02-24</td>\n",
       "      <td>24.794486</td>\n",
       "    </tr>\n",
       "    <tr>\n",
       "      <th>2</th>\n",
       "      <td>0</td>\n",
       "      <td>1</td>\n",
       "      <td>1</td>\n",
       "      <td>1</td>\n",
       "      <td>39882.98</td>\n",
       "      <td>8665 days 00:00:00.000000000</td>\n",
       "      <td>23.723964</td>\n",
       "      <td>1991-04-12</td>\n",
       "      <td>2</td>\n",
       "      <td>1</td>\n",
       "      <td>...</td>\n",
       "      <td>0</td>\n",
       "      <td>0</td>\n",
       "      <td>0</td>\n",
       "      <td>1</td>\n",
       "      <td>0</td>\n",
       "      <td>0</td>\n",
       "      <td>2012-06-04</td>\n",
       "      <td>2015-01-01</td>\n",
       "      <td>1991-04-12</td>\n",
       "      <td>21.147594</td>\n",
       "    </tr>\n",
       "    <tr>\n",
       "      <th>3</th>\n",
       "      <td>0</td>\n",
       "      <td>0</td>\n",
       "      <td>0</td>\n",
       "      <td>0</td>\n",
       "      <td>44694.03</td>\n",
       "      <td>21052 days 00:00:00.000000000</td>\n",
       "      <td>57.638418</td>\n",
       "      <td>1957-05-13</td>\n",
       "      <td>2</td>\n",
       "      <td>5</td>\n",
       "      <td>...</td>\n",
       "      <td>1</td>\n",
       "      <td>1</td>\n",
       "      <td>0</td>\n",
       "      <td>0</td>\n",
       "      <td>0</td>\n",
       "      <td>0</td>\n",
       "      <td>1975-09-02</td>\n",
       "      <td>2015-01-01</td>\n",
       "      <td>1957-05-13</td>\n",
       "      <td>18.305646</td>\n",
       "    </tr>\n",
       "    <tr>\n",
       "      <th>4</th>\n",
       "      <td>0</td>\n",
       "      <td>0</td>\n",
       "      <td>0</td>\n",
       "      <td>0</td>\n",
       "      <td>78093.34</td>\n",
       "      <td>17164 days 00:00:00.000000000</td>\n",
       "      <td>46.993436</td>\n",
       "      <td>1968-01-04</td>\n",
       "      <td>2</td>\n",
       "      <td>5</td>\n",
       "      <td>...</td>\n",
       "      <td>1</td>\n",
       "      <td>3</td>\n",
       "      <td>0</td>\n",
       "      <td>0</td>\n",
       "      <td>0</td>\n",
       "      <td>0</td>\n",
       "      <td>1994-12-05</td>\n",
       "      <td>2015-01-01</td>\n",
       "      <td>1968-01-04</td>\n",
       "      <td>26.919102</td>\n",
       "    </tr>\n",
       "  </tbody>\n",
       "</table>\n",
       "<p>5 rows × 126 columns</p>\n",
       "</div>"
      ],
      "text/plain": [
       "   ADDRCNT1  ADDRCNT10  ADDRCNT3  ADDRCNT5  ANNUAL_RT  \\\n",
       "0         1          1         1         1   16099.20   \n",
       "1         0          1         1         1   31045.35   \n",
       "2         0          1         1         1   39882.98   \n",
       "3         0          0         0         0   44694.03   \n",
       "4         0          0         0         0   78093.34   \n",
       "\n",
       "                      Age_tdelta  Age_years   BIRTHDATE  BOX1  COMPANY  \\\n",
       "0   7788 days 00:00:00.000000000  21.322820  1993-09-05     0        1   \n",
       "1   9808 days 00:00:00.000000000  26.853392  1988-02-24     2        1   \n",
       "2   8665 days 00:00:00.000000000  23.723964  1991-04-12     2        1   \n",
       "3  21052 days 00:00:00.000000000  57.638418  1957-05-13     2        5   \n",
       "4  17164 days 00:00:00.000000000  46.993436  1968-01-04     2        5   \n",
       "\n",
       "     ...     HAVE_DEP  DEP_COUNT  sep_status  mar_status  retired  terminated  \\\n",
       "0    ...            0          0           0           1        0           0   \n",
       "1    ...            0          0           0           1        0           0   \n",
       "2    ...            0          0           0           1        0           0   \n",
       "3    ...            1          1           0           0        0           0   \n",
       "4    ...            1          3           0           0        0           0   \n",
       "\n",
       "   hire_tstmp  term_tstmp  birth_tstmp   hire_age  \n",
       "0  2014-06-09  2015-01-01   1993-09-05  20.758811  \n",
       "1  2012-12-10  2015-01-01   1988-02-24  24.794486  \n",
       "2  2012-06-04  2015-01-01   1991-04-12  21.147594  \n",
       "3  1975-09-02  2015-01-01   1957-05-13  18.305646  \n",
       "4  1994-12-05  2015-01-01   1968-01-04  26.919102  \n",
       "\n",
       "[5 rows x 126 columns]"
      ]
     },
     "execution_count": 21,
     "metadata": {},
     "output_type": "execute_result"
    }
   ],
   "source": [
    "## current exists\n",
    "current.head()"
   ]
  },
  {
   "cell_type": "code",
   "execution_count": 22,
   "metadata": {
    "collapsed": false
   },
   "outputs": [],
   "source": [
    "import datetime as dt\n",
    "my_date = dt.datetime(2015, 1, 1)  #allows the adjustment of these to a particular date\n",
    "\n",
    "#MODEL_BASE_PATH = '/home/hrsepara/work/model/'\n",
    "MODEL_BASE_PATH = 'C:\\\\Users\\\\kesj\\\\Documents\\\\projects\\\\HRattrition\\\\webserverTest\\\\models\\\\'\n",
    "# ingest the uploaded data\n",
    "cwd = os.getcwd()\n",
    "#my_path = os.path.join(os.path.join(cwd, 'uploads'), '*.*')\n",
    "#employee_df = parse_input_file(my_path)\n",
    "\n",
    "\n",
    "\n",
    "# get the current date\n",
    "\n",
    "if my_date is None:\n",
    "    today_timestamp = pd.to_datetime(dt.datetime.today())\n",
    "else:\n",
    "    today_timestamp = pd.to_datetime(my_date)"
   ]
  },
  {
   "cell_type": "code",
   "execution_count": 23,
   "metadata": {
    "collapsed": false
   },
   "outputs": [
    {
     "data": {
      "text/plain": [
       "Timestamp('2015-01-01 00:00:00')"
      ]
     },
     "execution_count": 23,
     "metadata": {},
     "output_type": "execute_result"
    }
   ],
   "source": [
    "today_timestamp"
   ]
  },
  {
   "cell_type": "code",
   "execution_count": 24,
   "metadata": {
    "collapsed": true
   },
   "outputs": [],
   "source": [
    "from glob import glob\n",
    "import pickle\n",
    "\n",
    "def get_surv_columns(surv_mdl):\n",
    "    \"\"\"\n",
    "    Function to parse the given model and identify list of columns needed for input.\n",
    "    input: surv_mdl = a survival model\n",
    "    output: a list of columns required by this model.\n",
    "    \"\"\"\n",
    "    event_col = surv_mdl.event_observed.name\n",
    "    time_col = surv_mdl.durations.name\n",
    "    model_cols = surv_mdl.hazards_.columns.tolist()\n",
    "    cols_to_keep = [a for a in model_cols]\n",
    "    #cols_to_keep.append(event_col)\n",
    "    cols_to_keep.append(time_col)\n",
    "    return cols_to_keep\n",
    "\n",
    "def find_survival_models(MDL_BASE_PATH):  #,pkl_name,pred_years):\n",
    "    surv_pkl_files = glob(MDL_BASE_PATH + '*.pkl')\n",
    "    # n_files =len(surv_pkl_files)\n",
    "    # if n_files <2:\n",
    "    #     print(\"Sorry but less than 2 models were found. Recheck the path %s and try again\" % MDL_BASE_PATH)\n",
    "    # elif n_files > 2:\n",
    "    #     print(\"the last model of each type will be used\")\n",
    "    prediction_cases = ['sep', 'ret']\n",
    "\n",
    "    mdl_files = []\n",
    "    mdl_files.append([a for a in surv_pkl_files if prediction_cases[0] in a][-1])\n",
    "    mdl_files.append([a for a in surv_pkl_files if prediction_cases[1] in a][-1])\n",
    "    \"\"\"\n",
    "    # load the models\n",
    "    try:\n",
    "        sep_mdl = pickle.load(open(mdl_file[0],'rb'))\n",
    "    ret_mdl = pickle.load(open(mdl_file[1],'rb'))\n",
    "\n",
    "    try:\n",
    "        stored_mdl = pickle.load(open(mdl_name,'rb'))\n",
    "        #stored_mdl = jl.load(mdl_name)\n",
    "\n",
    "        sf_pred = stored_mdl.predict_survival_function(df)\n",
    "        sf_pred.index.name='years'\n",
    "        sf_pred.reset_index(inplace=True)\n",
    "        pred_proba = get_survival_prediction(df,sf_pred,yr_vals=pred_years)\n",
    "\n",
    "    except IOError:\n",
    "        print \"requested pickle file not found {0}, using default parameters.\".format(mdl_name)\n",
    "        # TODO create default predictions from simple Survival model for retirement.\n",
    "        pred_proba = pd.DataFrame()\n",
    "\n",
    "    return pred_proba\n",
    "    \"\"\"\n",
    "    return mdl_files"
   ]
  },
  {
   "cell_type": "markdown",
   "metadata": {},
   "source": [
    "# load the models"
   ]
  },
  {
   "cell_type": "code",
   "execution_count": 25,
   "metadata": {
    "collapsed": false
   },
   "outputs": [
    {
     "name": "stdout",
     "output_type": "stream",
     "text": [
      "(['Age_years', 'SAL1', 'MERIT1', 'PERF1', 'BOX1', 'SEX', 'HAVE_INS', 'HAVE_DEP', 'DEPTCNT1', 'EXTFUNC_CNT', 'FUNC_CNT', 'REMOTE', 'DIRECT_RPT_CNT', 'HUBIND', 'REH_CNT', 'JOB_FUNCTION_PSA', 'Tenure_years'], ['Age_years', 'SAL1', 'MERIT1', 'PERF1', 'BOX1', 'SEX', 'HAVE_INS', 'HAVE_DEP', 'Tenure_years'])\n"
     ]
    }
   ],
   "source": [
    "# check that there are models in that directory\n",
    "mdl_files = find_survival_models(MODEL_BASE_PATH)\n",
    "# load both models\n",
    "sep_mdl = pickle.load(open(mdl_files[0], 'rb'))\n",
    "ret_mdl = pickle.load(open(mdl_files[1], 'rb'))\n",
    "\n",
    "# start with separation model\n",
    "sep_cols = get_surv_columns(sep_mdl)\n",
    "ret_cols = get_surv_columns(ret_mdl)\n",
    "print(sep_cols,ret_cols)"
   ]
  },
  {
   "cell_type": "code",
   "execution_count": 26,
   "metadata": {
    "collapsed": false
   },
   "outputs": [],
   "source": [
    "def prep_data(df, sep_cols, ret_cols, today_timestamp):\n",
    "    \"\"\"\n",
    "\n",
    "    :param df:\n",
    "    :param cols_to_keep:\n",
    "    :param today_timestamp:\n",
    "    :return: tmp_df, sep_cols, ret_cols\n",
    "    \"\"\"\n",
    "    # identify columns that need processing\n",
    "    input_cols = df.columns.tolist()\n",
    "\n",
    "    cols_to_model = list(set(sep_cols).union(set(ret_cols)))\n",
    "    cols_to_construct = list(set(cols_to_model) - set(input_cols))\n",
    "    cols_to_keep = list(set(cols_to_model).union(set(input_cols)))\n",
    "\n",
    "    # assume the time column(s) are in years\n",
    "    time_cols = [col for col in cols_to_construct if col.endswith('years')]\n",
    "    if len(time_cols):  # if length is zero this is skipped\n",
    "        # 1. calculate Age and tenure from dates provided:\n",
    "        #    * convert  HIRE_DT, BIRTHDATE and current_time to timestamps\n",
    "        # 2. use these as years\n",
    "        df[['hire_tstmp', 'birth_tstmp']] = df[['HIRE_DT', 'BIRTHDATE']] \\\n",
    "            .applymap(lambda x: pd.to_datetime(dt.datetime.strptime(x, '%d%b%Y')))\n",
    "        df[['Age_years', 'Tenure_years']] = df[['birth_tstmp', 'hire_tstmp']] \\\n",
    "            .applymap(lambda x: calculate_years(x, today_timestamp))\n",
    "        #hire_age_tdelta = employee_df['hire_tstmp']-employee_df['birth_tstmp']\n",
    "        # convert to days, months, or years\n",
    "        #employee_df['hire_age'] = hire_age_tdelta/np.timedelta64(1,'Y')\n",
    "        for tcol in time_cols:\n",
    "            cols_to_construct.remove(tcol)\n",
    "            cols_to_keep.append(tcol)\n",
    "\n",
    "    #tmp_df = df[cols_to_keep].copy() # just copy over the ones we know we want\n",
    "    col_to_omit = []\n",
    "\n",
    "\n",
    "    for col in cols_to_construct:\n",
    "        # break into pieces to find the existing col in the dataframe\n",
    "        pieces = col.split('_')\n",
    "        dummy_cat = pieces[-1]\n",
    "        main_cat = \"_\".join(piece for piece in pieces[:-1])\n",
    "        #print(main_cat, dummy_cat)\n",
    "        try:\n",
    "            df[col] = df[main_cat].apply(lambda x: 1 if x == dummy_cat else 0)\n",
    "        except KeyError:\n",
    "            print(\"Desired column {0} not found; omitting it\".format(col))\n",
    "            col_to_omit.append(col)\n",
    "\n",
    "    ## now I need to get my subset of columns for the particular model -- start with separation\n",
    "    #if len(col_to_omit):\n",
    "    sep_cols = list(set(sep_cols) - set(col_to_omit))\n",
    "    ret_cols = list(set(ret_cols) - set(col_to_omit))\n",
    "\n",
    "    new_cols_to_model = list(set(sep_cols).union(set(ret_cols)))\n",
    "\n",
    "    tmp_df = df[new_cols_to_model].copy()  # create a subset of these columns\n",
    "    #print(tmp_df.shape)\n",
    "    ## now ensure that all are preprocessed correctly\n",
    "    # Step 1 -- convert non numeric to numbers\n",
    "    cols_to_convert = tmp_df.columns[tmp_df[new_cols_to_model].dtypes == \"object\"].tolist()\n",
    "\n",
    "    #print(sep_cols, ret_cols,cols_to_convert)\n",
    "    ## find non-numeric columns with missing values\n",
    "    nn_mask = np.array(tmp_df[cols_to_convert].count() < len(tmp_df))\n",
    "    nn_missing_cols = list(np.array(cols_to_convert)[nn_mask])\n",
    "\n",
    "    #print(nn_missing_cols)\n",
    "    for col in nn_missing_cols:\n",
    "        if col == 'BOX1':\n",
    "            tmp_df[col].fillna(0, inplace=True)  # currently being applied to BOX1\n",
    "        else:\n",
    "            tmp_df[col].fillna(-1, inplace=True)  # need to check how I did it in the model build stage\n",
    "\n",
    "    ## convert these to ints\n",
    "    # use simple logic:\n",
    "    # a) N:0,Y:1\n",
    "    # b) M:1, F:0\n",
    "    # c) BOX1: BOX1':{'H':3,'S':2,'L':1},\n",
    "    # d) COMP_FREQUENCY: 'A':1,'H':0\n",
    "    specific_indicators = {'BOX1': {'H': 3, 'S': 2, 'L': 1}, 'COMP_FREQUENCY': {'A': 1, 'H': 0},\n",
    "                           'SEX': {'M': 1, 'F': 0}}\n",
    "    for key, value in specific_indicators.iteritems():\n",
    "        if key in cols_to_convert:\n",
    "            print(\"processing column {0} with {1}\".format(key,value))\n",
    "            #tmp_df[key] = tmp_df[key].replace(value).copy() #, inplace=True)  #.copy()\n",
    "            tmp_df[key].replace(value,inplace=True)  #.copy()\n",
    "            \n",
    "    # generically convert N to 0 and Y to 1\n",
    "    try:\n",
    "        tmp_df[cols_to_convert] = tmp_df[cols_to_convert].replace({'N': 0, 'Y': 1}).copy()\n",
    "    except TypeError:\n",
    "        pass\n",
    "\n",
    "    converted_types = tmp_df.dtypes[\n",
    "        tmp_df.dtypes.apply(lambda x: str(x).startswith(('float', 'int', 'bool')))].index.tolist()\n",
    "    ## check that all are now numeric\n",
    "    if set(converted_types) != set(new_cols_to_model):\n",
    "        print(\"ERROR you have not converted everthing\")\n",
    "        #exit(-1)\n",
    "\n",
    "    ## look for missing/outliers\n",
    "    n_mask = np.array(tmp_df.count() < len(tmp_df))\n",
    "    n_missing_cols = list(np.array(new_cols_to_model)[n_mask])\n",
    "    tmp_df[n_missing_cols] = tmp_df[n_missing_cols].fillna(0).copy()\n",
    "    # apply specific transformations to match 2 percentile cutoff from training set\n",
    "    # fix the dollar amounts\n",
    "    # min_sal1 = 17621.76 #(based upon training set I have: 5 %tile cut off)\n",
    "    min_sal1 = 12906.40  # based upon 2 percentile\n",
    "    min_perf1 = 0.0\n",
    "    min_merit1 = 0.0\n",
    "    fix_min_outlier_col_dict = {'SAL1': min_sal1, 'MERIT1': min_merit1, 'PERF1': min_perf1}\n",
    "\n",
    "    # replace these values\n",
    "    for key, value in fix_min_outlier_col_dict.iteritems():\n",
    "        if key in new_cols_to_model:\n",
    "            idx_to_replace = tmp_df[tmp_df[key] < value].index\n",
    "            tmp_df.loc[idx_to_replace, key] = value\n",
    "\n",
    "    return tmp_df, sep_cols, ret_cols"
   ]
  },
  {
   "cell_type": "code",
   "execution_count": 27,
   "metadata": {
    "collapsed": false
   },
   "outputs": [
    {
     "name": "stdout",
     "output_type": "stream",
     "text": [
      "processing column SEX with {'M': 1, 'F': 0}\n"
     ]
    }
   ],
   "source": [
    "df, sep_cols2, ret_cols2 = prep_data(current, sep_cols, ret_cols, today_timestamp)"
   ]
  },
  {
   "cell_type": "code",
   "execution_count": 28,
   "metadata": {
    "collapsed": false
   },
   "outputs": [
    {
     "data": {
      "text/html": [
       "<div>\n",
       "<table border=\"1\" class=\"dataframe\">\n",
       "  <thead>\n",
       "    <tr style=\"text-align: right;\">\n",
       "      <th></th>\n",
       "      <th>REH_CNT</th>\n",
       "      <th>MERIT1</th>\n",
       "      <th>HAVE_INS</th>\n",
       "      <th>PERF1</th>\n",
       "      <th>SAL1</th>\n",
       "      <th>Tenure_years</th>\n",
       "      <th>REMOTE</th>\n",
       "      <th>Age_years</th>\n",
       "      <th>EXTFUNC_CNT</th>\n",
       "      <th>FUNC_CNT</th>\n",
       "      <th>SEX</th>\n",
       "      <th>HAVE_DEP</th>\n",
       "      <th>DIRECT_RPT_CNT</th>\n",
       "      <th>HUBIND</th>\n",
       "      <th>DEPTCNT1</th>\n",
       "      <th>JOB_FUNCTION_PSA</th>\n",
       "      <th>BOX1</th>\n",
       "    </tr>\n",
       "  </thead>\n",
       "  <tbody>\n",
       "    <tr>\n",
       "      <th>0</th>\n",
       "      <td>0</td>\n",
       "      <td>0.00</td>\n",
       "      <td>0</td>\n",
       "      <td>0.00</td>\n",
       "      <td>16099.20</td>\n",
       "      <td>0.564009</td>\n",
       "      <td>0</td>\n",
       "      <td>21.322820</td>\n",
       "      <td>1827</td>\n",
       "      <td>3846</td>\n",
       "      <td>0</td>\n",
       "      <td>0</td>\n",
       "      <td>17</td>\n",
       "      <td>1</td>\n",
       "      <td>0</td>\n",
       "      <td>1</td>\n",
       "      <td>0</td>\n",
       "    </tr>\n",
       "    <tr>\n",
       "      <th>1</th>\n",
       "      <td>0</td>\n",
       "      <td>4208.72</td>\n",
       "      <td>1</td>\n",
       "      <td>1012.50</td>\n",
       "      <td>31045.35</td>\n",
       "      <td>2.058906</td>\n",
       "      <td>0</td>\n",
       "      <td>26.853392</td>\n",
       "      <td>156</td>\n",
       "      <td>725</td>\n",
       "      <td>1</td>\n",
       "      <td>0</td>\n",
       "      <td>14</td>\n",
       "      <td>1</td>\n",
       "      <td>1</td>\n",
       "      <td>1</td>\n",
       "      <td>2</td>\n",
       "    </tr>\n",
       "    <tr>\n",
       "      <th>2</th>\n",
       "      <td>1</td>\n",
       "      <td>1274.09</td>\n",
       "      <td>1</td>\n",
       "      <td>849.40</td>\n",
       "      <td>39882.98</td>\n",
       "      <td>2.576370</td>\n",
       "      <td>0</td>\n",
       "      <td>23.723964</td>\n",
       "      <td>4887</td>\n",
       "      <td>34937</td>\n",
       "      <td>1</td>\n",
       "      <td>0</td>\n",
       "      <td>8</td>\n",
       "      <td>0</td>\n",
       "      <td>0</td>\n",
       "      <td>0</td>\n",
       "      <td>2</td>\n",
       "    </tr>\n",
       "    <tr>\n",
       "      <th>3</th>\n",
       "      <td>0</td>\n",
       "      <td>790.27</td>\n",
       "      <td>1</td>\n",
       "      <td>965.88</td>\n",
       "      <td>44694.03</td>\n",
       "      <td>39.332772</td>\n",
       "      <td>0</td>\n",
       "      <td>57.638418</td>\n",
       "      <td>878</td>\n",
       "      <td>7769</td>\n",
       "      <td>0</td>\n",
       "      <td>1</td>\n",
       "      <td>19</td>\n",
       "      <td>0</td>\n",
       "      <td>1</td>\n",
       "      <td>1</td>\n",
       "      <td>2</td>\n",
       "    </tr>\n",
       "    <tr>\n",
       "      <th>4</th>\n",
       "      <td>0</td>\n",
       "      <td>1830.31</td>\n",
       "      <td>1</td>\n",
       "      <td>4270.73</td>\n",
       "      <td>78093.34</td>\n",
       "      <td>20.074334</td>\n",
       "      <td>0</td>\n",
       "      <td>46.993436</td>\n",
       "      <td>1074</td>\n",
       "      <td>34937</td>\n",
       "      <td>0</td>\n",
       "      <td>1</td>\n",
       "      <td>15</td>\n",
       "      <td>0</td>\n",
       "      <td>2</td>\n",
       "      <td>0</td>\n",
       "      <td>2</td>\n",
       "    </tr>\n",
       "  </tbody>\n",
       "</table>\n",
       "</div>"
      ],
      "text/plain": [
       "   REH_CNT   MERIT1  HAVE_INS    PERF1      SAL1  Tenure_years  REMOTE  \\\n",
       "0        0     0.00         0     0.00  16099.20      0.564009       0   \n",
       "1        0  4208.72         1  1012.50  31045.35      2.058906       0   \n",
       "2        1  1274.09         1   849.40  39882.98      2.576370       0   \n",
       "3        0   790.27         1   965.88  44694.03     39.332772       0   \n",
       "4        0  1830.31         1  4270.73  78093.34     20.074334       0   \n",
       "\n",
       "   Age_years  EXTFUNC_CNT  FUNC_CNT  SEX  HAVE_DEP  DIRECT_RPT_CNT  HUBIND  \\\n",
       "0  21.322820         1827      3846    0         0              17       1   \n",
       "1  26.853392          156       725    1         0              14       1   \n",
       "2  23.723964         4887     34937    1         0               8       0   \n",
       "3  57.638418          878      7769    0         1              19       0   \n",
       "4  46.993436         1074     34937    0         1              15       0   \n",
       "\n",
       "   DEPTCNT1  JOB_FUNCTION_PSA  BOX1  \n",
       "0         0                 1     0  \n",
       "1         1                 1     2  \n",
       "2         0                 0     2  \n",
       "3         1                 1     2  \n",
       "4         2                 0     2  "
      ]
     },
     "execution_count": 28,
     "metadata": {},
     "output_type": "execute_result"
    }
   ],
   "source": [
    "df.head()"
   ]
  },
  {
   "cell_type": "code",
   "execution_count": 29,
   "metadata": {
    "collapsed": false
   },
   "outputs": [
    {
     "name": "stdout",
     "output_type": "stream",
     "text": [
      "processing column SEX with {'M': 1, 'F': 0}\n"
     ]
    }
   ],
   "source": [
    "df, sep_cols2, ret_cols2 = prep_data(current, sep_cols, ret_cols, today_timestamp)"
   ]
  },
  {
   "cell_type": "code",
   "execution_count": 30,
   "metadata": {
    "collapsed": false
   },
   "outputs": [
    {
     "data": {
      "text/html": [
       "<div>\n",
       "<table border=\"1\" class=\"dataframe\">\n",
       "  <thead>\n",
       "    <tr style=\"text-align: right;\">\n",
       "      <th></th>\n",
       "      <th>REH_CNT</th>\n",
       "      <th>MERIT1</th>\n",
       "      <th>HAVE_INS</th>\n",
       "      <th>PERF1</th>\n",
       "      <th>SAL1</th>\n",
       "      <th>Tenure_years</th>\n",
       "      <th>REMOTE</th>\n",
       "      <th>Age_years</th>\n",
       "      <th>EXTFUNC_CNT</th>\n",
       "      <th>FUNC_CNT</th>\n",
       "      <th>SEX</th>\n",
       "      <th>HAVE_DEP</th>\n",
       "      <th>DIRECT_RPT_CNT</th>\n",
       "      <th>HUBIND</th>\n",
       "      <th>DEPTCNT1</th>\n",
       "      <th>JOB_FUNCTION_PSA</th>\n",
       "      <th>BOX1</th>\n",
       "    </tr>\n",
       "  </thead>\n",
       "  <tbody>\n",
       "    <tr>\n",
       "      <th>0</th>\n",
       "      <td>0</td>\n",
       "      <td>0.00</td>\n",
       "      <td>0</td>\n",
       "      <td>0.00</td>\n",
       "      <td>16099.20</td>\n",
       "      <td>0.564009</td>\n",
       "      <td>0</td>\n",
       "      <td>21.322820</td>\n",
       "      <td>1827</td>\n",
       "      <td>3846</td>\n",
       "      <td>0</td>\n",
       "      <td>0</td>\n",
       "      <td>17</td>\n",
       "      <td>1</td>\n",
       "      <td>0</td>\n",
       "      <td>1</td>\n",
       "      <td>0</td>\n",
       "    </tr>\n",
       "    <tr>\n",
       "      <th>1</th>\n",
       "      <td>0</td>\n",
       "      <td>4208.72</td>\n",
       "      <td>1</td>\n",
       "      <td>1012.50</td>\n",
       "      <td>31045.35</td>\n",
       "      <td>2.058906</td>\n",
       "      <td>0</td>\n",
       "      <td>26.853392</td>\n",
       "      <td>156</td>\n",
       "      <td>725</td>\n",
       "      <td>1</td>\n",
       "      <td>0</td>\n",
       "      <td>14</td>\n",
       "      <td>1</td>\n",
       "      <td>1</td>\n",
       "      <td>1</td>\n",
       "      <td>2</td>\n",
       "    </tr>\n",
       "    <tr>\n",
       "      <th>2</th>\n",
       "      <td>1</td>\n",
       "      <td>1274.09</td>\n",
       "      <td>1</td>\n",
       "      <td>849.40</td>\n",
       "      <td>39882.98</td>\n",
       "      <td>2.576370</td>\n",
       "      <td>0</td>\n",
       "      <td>23.723964</td>\n",
       "      <td>4887</td>\n",
       "      <td>34937</td>\n",
       "      <td>1</td>\n",
       "      <td>0</td>\n",
       "      <td>8</td>\n",
       "      <td>0</td>\n",
       "      <td>0</td>\n",
       "      <td>0</td>\n",
       "      <td>2</td>\n",
       "    </tr>\n",
       "    <tr>\n",
       "      <th>3</th>\n",
       "      <td>0</td>\n",
       "      <td>790.27</td>\n",
       "      <td>1</td>\n",
       "      <td>965.88</td>\n",
       "      <td>44694.03</td>\n",
       "      <td>39.332772</td>\n",
       "      <td>0</td>\n",
       "      <td>57.638418</td>\n",
       "      <td>878</td>\n",
       "      <td>7769</td>\n",
       "      <td>0</td>\n",
       "      <td>1</td>\n",
       "      <td>19</td>\n",
       "      <td>0</td>\n",
       "      <td>1</td>\n",
       "      <td>1</td>\n",
       "      <td>2</td>\n",
       "    </tr>\n",
       "    <tr>\n",
       "      <th>4</th>\n",
       "      <td>0</td>\n",
       "      <td>1830.31</td>\n",
       "      <td>1</td>\n",
       "      <td>4270.73</td>\n",
       "      <td>78093.34</td>\n",
       "      <td>20.074334</td>\n",
       "      <td>0</td>\n",
       "      <td>46.993436</td>\n",
       "      <td>1074</td>\n",
       "      <td>34937</td>\n",
       "      <td>0</td>\n",
       "      <td>1</td>\n",
       "      <td>15</td>\n",
       "      <td>0</td>\n",
       "      <td>2</td>\n",
       "      <td>0</td>\n",
       "      <td>2</td>\n",
       "    </tr>\n",
       "  </tbody>\n",
       "</table>\n",
       "</div>"
      ],
      "text/plain": [
       "   REH_CNT   MERIT1  HAVE_INS    PERF1      SAL1  Tenure_years  REMOTE  \\\n",
       "0        0     0.00         0     0.00  16099.20      0.564009       0   \n",
       "1        0  4208.72         1  1012.50  31045.35      2.058906       0   \n",
       "2        1  1274.09         1   849.40  39882.98      2.576370       0   \n",
       "3        0   790.27         1   965.88  44694.03     39.332772       0   \n",
       "4        0  1830.31         1  4270.73  78093.34     20.074334       0   \n",
       "\n",
       "   Age_years  EXTFUNC_CNT  FUNC_CNT  SEX  HAVE_DEP  DIRECT_RPT_CNT  HUBIND  \\\n",
       "0  21.322820         1827      3846    0         0              17       1   \n",
       "1  26.853392          156       725    1         0              14       1   \n",
       "2  23.723964         4887     34937    1         0               8       0   \n",
       "3  57.638418          878      7769    0         1              19       0   \n",
       "4  46.993436         1074     34937    0         1              15       0   \n",
       "\n",
       "   DEPTCNT1  JOB_FUNCTION_PSA  BOX1  \n",
       "0         0                 1     0  \n",
       "1         1                 1     2  \n",
       "2         0                 0     2  \n",
       "3         1                 1     2  \n",
       "4         2                 0     2  "
      ]
     },
     "execution_count": 30,
     "metadata": {},
     "output_type": "execute_result"
    }
   ],
   "source": [
    "df.head()"
   ]
  },
  {
   "cell_type": "markdown",
   "metadata": {},
   "source": [
    "### Looks like the prep_data function is bogus.\n",
    "* try to fix this"
   ]
  },
  {
   "cell_type": "code",
   "execution_count": 31,
   "metadata": {
    "collapsed": false
   },
   "outputs": [
    {
     "name": "stdout",
     "output_type": "stream",
     "text": [
      "['FLSA_STATUS', 'BIRTHDATE', 'GRADE', 'CUR_LOC_MOS', 'JOB_FAMILY', 'RELOCATE_ALL_SFI', 'FULLPART10', 'FLOORCNT5', 'STD_HOURS', 'FLOORCNT1', 'FLOORCNT3', 'FULLPART5', 'JOBCNT10', 'FULLPART1', 'FTPTCNT3', 'EFUNCCNT1', 'EFUNCCNT3', 'sep_status', 'EFUNCCNT5', 'TOTAL_RPT_CNT', 'REMOTE', 'LOC_TYPE_DESCR_SFI', 'JOBCODE', 'SUPV_DIFF_LOC', 'SERVICE_DT', 'FUNC_ID_SFI', 'Age_tdelta', 'EMPL_CLASS', 'FLOR_SFI', 'LOCSTCNT10', 'SUPVCNT3', 'PERF1', 'SUPVCNT10', 'PARTFULL5', 'hire_tstmp', 'Age_years', 'COMPANY', 'FUNC_CNT', 'HUBIND', 'JOB_FUNCTION_PSA', 'RELO_STATE_CNT_SFI', 'PTFTCNT5', 'PTFTCNT1', 'KEY', 'PTFTCNT3', 'COMP_FREQUENCY', 'hire_age', 'HAVE_INS', 'FTE', 'HIRE_DT', 'TERMINATION_DT', 'LOCCNT3', 'DIRECT_RPT_CNT', 'LOCCNT1', 'REMOTE_SUPV', 'LOCCNT5', 'BOX1', 'EEO1CODE', 'birth_tstmp', 'retired', 'CUR_JOB_MOS', 'FUNCCNT5', 'EXT_FUNC_ID_SFI', 'FUNCCNT1', 'LOC_STATE', 'FUNCCNT3', 'JOB_FUNCTION', 'SUPVCNT1', 'terminated', 'SEX', 'ETHNIC_GROUP', 'DEP_COUNT', 'JOBCNT5', 'JOBCNT1', 'JOBCNT3', 'FUNCCNT10', 'GRADECNT5', 'GRADECNT3', 'CUR_GRADE_MOS', 'GRADECNT1', 'Tenure_tdelta', 'ANNUAL_RT', 'LAST_HIRE_DT', 'SAL1', 'PTFTCNT10', 'EMPL_TYPE', 'HAVE_DEP', 'EFUNCCNT10', 'PARTFULL1', 'MERIT1', 'mar_status', 'REH_CNT', 'DEPTCNT10', 'FULL_PART_TIME', 'SHIFT', 'PARTFULL10', 'INTERN', 'PARTFULL3', 'TELE_MOS', 'Tenure_years', 'ADDRCNT3', 'ADDRCNT1', 'FLOORCNT10', 'DIVISION_CODE_SFI', 'CUR_DEPT_MOS', 'MAX_RT_ANNUAL', 'GRADECNT10', 'FTPTCNT5', 'DEPTCNT5', 'FTPTCNT10', 'MIN_RT_ANNUAL', 'FTPTCNT1', 'term_tstmp', 'FULLPART3', 'LOCSTCNT5', 'LOCSTCNT1', 'LOCSTCNT3', 'LOCCNT10', 'EXTFUNC_CNT', 'ADDRCNT5', 'SUPVCNT5', 'CUR_EFUNC_MOS', 'status', 'DEPTCNT3', 'DEPTCNT1', 'ADDRCNT10', 'CUR_FUNC_MOS']\n",
      "[]\n"
     ]
    }
   ],
   "source": [
    "# identify columns that need processing\n",
    "input_cols = current.columns.tolist()\n",
    "\n",
    "cols_to_model = list(set(sep_cols).union(set(ret_cols)))\n",
    "cols_to_construct = list(set(cols_to_model) - set(input_cols))\n",
    "cols_to_keep = list(set(cols_to_model).union(set(input_cols)))\n",
    "\n",
    "# assume the time column(s) are in years\n",
    "time_cols = [col for col in cols_to_construct if col.endswith('years')]\n",
    "print(cols_to_keep)\n",
    "print(cols_to_construct)"
   ]
  },
  {
   "cell_type": "code",
   "execution_count": 32,
   "metadata": {
    "collapsed": false
   },
   "outputs": [
    {
     "data": {
      "text/plain": [
       "['REH_CNT',\n",
       " 'MERIT1',\n",
       " 'HAVE_INS',\n",
       " 'PERF1',\n",
       " 'SAL1',\n",
       " 'Tenure_years',\n",
       " 'REMOTE',\n",
       " 'Age_years',\n",
       " 'EXTFUNC_CNT',\n",
       " 'FUNC_CNT',\n",
       " 'SEX',\n",
       " 'HAVE_DEP',\n",
       " 'DIRECT_RPT_CNT',\n",
       " 'HUBIND',\n",
       " 'DEPTCNT1',\n",
       " 'JOB_FUNCTION_PSA',\n",
       " 'BOX1']"
      ]
     },
     "execution_count": 32,
     "metadata": {},
     "output_type": "execute_result"
    }
   ],
   "source": [
    "cols_to_model"
   ]
  },
  {
   "cell_type": "code",
   "execution_count": 33,
   "metadata": {
    "collapsed": true
   },
   "outputs": [],
   "source": [
    "new_cols_to_model = list(set(sep_cols).union(set(ret_cols)))\n",
    "\n",
    "tmp_df = current[new_cols_to_model].copy()  # create a subset of these columns\n",
    "#print(tmp_df.shape)\n",
    "## now ensure that all are preprocessed correctly\n",
    "# Step 1 -- convert non numeric to numbers\n",
    "cols_to_convert = tmp_df.columns[tmp_df[new_cols_to_model].dtypes == \"object\"].tolist()\n",
    "\n",
    "#print(sep_cols, ret_cols,cols_to_convert)\n",
    "## find non-numeric columns with missing values\n",
    "nn_mask = np.array(tmp_df[cols_to_convert].count() < len(tmp_df))\n",
    "nn_missing_cols = list(np.array(cols_to_convert)[nn_mask])"
   ]
  },
  {
   "cell_type": "code",
   "execution_count": 34,
   "metadata": {
    "collapsed": false
   },
   "outputs": [
    {
     "data": {
      "text/plain": [
       "REH_CNT             False\n",
       "MERIT1               True\n",
       "HAVE_INS            False\n",
       "PERF1                True\n",
       "SAL1                False\n",
       "Tenure_years        False\n",
       "REMOTE              False\n",
       "Age_years           False\n",
       "EXTFUNC_CNT         False\n",
       "FUNC_CNT            False\n",
       "SEX                 False\n",
       "HAVE_DEP            False\n",
       "DIRECT_RPT_CNT      False\n",
       "HUBIND              False\n",
       "DEPTCNT1            False\n",
       "JOB_FUNCTION_PSA    False\n",
       "BOX1                False\n",
       "dtype: bool"
      ]
     },
     "execution_count": 34,
     "metadata": {},
     "output_type": "execute_result"
    }
   ],
   "source": [
    "tmp_df.isnull().any()"
   ]
  },
  {
   "cell_type": "code",
   "execution_count": 35,
   "metadata": {
    "collapsed": false
   },
   "outputs": [
    {
     "data": {
      "text/plain": [
       "['MERIT1', 'PERF1']"
      ]
     },
     "execution_count": 35,
     "metadata": {},
     "output_type": "execute_result"
    }
   ],
   "source": [
    "## look for missing/outliers\n",
    "n_mask = np.array(tmp_df.count() < len(tmp_df))\n",
    "n_missing_cols = list(np.array(new_cols_to_model)[n_mask])\n",
    "n_missing_cols"
   ]
  },
  {
   "cell_type": "code",
   "execution_count": 36,
   "metadata": {
    "collapsed": true
   },
   "outputs": [],
   "source": [
    "tmp_df[n_missing_cols] = tmp_df[n_missing_cols].fillna(0)"
   ]
  },
  {
   "cell_type": "code",
   "execution_count": 37,
   "metadata": {
    "collapsed": true
   },
   "outputs": [],
   "source": [
    "def forecast_survival_function(mdl, df, time_range=[0, 1, 2, 3, 4, 5], calc_ci=True, extrapolate=False):\n",
    "    \"\"\"\n",
    "        :param self:\n",
    "        :param df:\n",
    "\n",
    "        :param time_range:\n",
    "        :param calc_ci: flag to return the confidence intervals\n",
    "        :return:\n",
    "    \"\"\"\n",
    "\n",
    "    # time_col = self.durations.name\n",
    "\n",
    "    col_names = ['t_' + np.str(tp) for tp in time_range]\n",
    "    # calculate the predicted hazard\n",
    "    #order = mdl.confidence_intervals_.columns.tolist()\n",
    "    #duration_col = mdl.durations.name\n",
    "    #order.append(duration_col)\n",
    "    #df = df[order]\n",
    "    my_partial_hazard = mdl.predict_partial_hazard(df)\n",
    "    print(df.shape)\n",
    "    # assign the specific timepoints and calculate the cumulative hazards at these points\n",
    "    forecast_times = identify_forecast_timepoints(mdl, df, time_range)\n",
    "    max_time = mdl.baseline_hazard_.index.max()\n",
    "    print(max_time)\n",
    "    if extrapolate:\n",
    "        # do a linear extrapolation of the cumulative hazards and use this to get values beyond the known range\n",
    "        p_haz, p_haz_cov = curve_fit(line, mdl.baseline_cumulative_hazard_.index,\n",
    "                                     mdl.baseline_cumulative_hazard_.values.ravel())\n",
    "        # force the points to match\n",
    "        offset = mdl.baseline_cumulative_hazard_.values[-1][0] - line(mdl.baseline_cumulative_hazard_.index[-1],\n",
    "                                                                      p_haz[0], p_haz[1])\n",
    "        # apply to timepoints\n",
    "        specific_cumulative_hazards = forecast_times.applymap(lambda x: return_desired_cumulative_hazards(mdl, x)\n",
    "        if x <= max_time else offset + line(x, p_haz[0], p_haz[1]))\n",
    "    else:  # this is the default case\n",
    "        # replace those that exceed the max-time observed with the max observed time\n",
    "        forecast_times[forecast_times > max_time] = max_time\n",
    "        specific_cumulative_hazards = forecast_times.applymap(lambda x: return_desired_cumulative_hazards(x, mdl))\n",
    "\n",
    "        # predict the survival function at these forecasted times\n",
    "        pred_survival_fcn = pd.DataFrame(np.exp(-np.multiply(specific_cumulative_hazards.values,\n",
    "                                                             my_partial_hazard.values)), index=df.index)\n",
    "\n",
    "    if calc_ci:\n",
    "        # calculate the predicted hazard\n",
    "        try:\n",
    "            partial_hazard_ci = mdl.predict_partial_hazard_ci(df)\n",
    "        except AttributeError:\n",
    "            #df_index = mdl._get_index(df)\n",
    "            if isinstance(df, pd.DataFrame):\n",
    "                order = mdl.hazards_.columns\n",
    "                df = df[order]\n",
    "            if mdl.normalize:\n",
    "                df2 = ll.utils.normalize(df, mdl._norm_mean.values, mdl._norm_std.values)\n",
    "            partial_hazard_ci = pd.DataFrame(np.exp(np.dot(df2, mdl.confidence_intervals_.T)), index=df.index.tolist())\n",
    "            partial_hazard_ci['lowerbound'] = partial_hazard_ci.min(axis=1)\n",
    "            partial_hazard_ci['upperbound'] = partial_hazard_ci.max(axis=1)\n",
    "            partial_hazard_ci = partial_hazard_ci[['lowerbound', 'upperbound']]\n",
    "\n",
    "        pred_lower_survival_ci = pd.DataFrame(np.exp(-np.multiply(specific_cumulative_hazards.values.T,\n",
    "                                                                  partial_hazard_ci.values[:, 1])),\n",
    "                                              columns=df.index).T\n",
    "        pred_upper_survival_ci = pd.DataFrame(np.exp(-np.multiply(specific_cumulative_hazards.values.T,\n",
    "                                                                  partial_hazard_ci.values[:, 0])),\n",
    "                                              columns=df.index).T\n",
    "\n",
    "        surv_prediction = pd.Panel(data={'surv': pred_survival_fcn, 'lbci': pred_lower_survival_ci,\n",
    "                                         'ubci': pred_upper_survival_ci})\n",
    "    else:\n",
    "        surv_prediction = pd.Panel(data={'surv': pred_survival_fcn})\n",
    "\n",
    "    surv_prediction.minor_axis = col_names\n",
    "\n",
    "    return surv_prediction"
   ]
  },
  {
   "cell_type": "code",
   "execution_count": 38,
   "metadata": {
    "collapsed": false
   },
   "outputs": [],
   "source": [
    "## Forecast forward in 1 year intervals\n",
    "def identify_forecast_timepoints(mdl, X, time_range):\n",
    "    \"\"\"\n",
    "        :param X: a (n,d) covariate numpy array or DataFrame. If a numpy array, it is coerced into a DataFrame\n",
    "        :param time_range: a list of times to calculate the survival for.\n",
    "        :return: time_point_df a DataFrame of selected future times to create survival forecasts for.\n",
    "\n",
    "        Construct a data frame that has the current time_col for each observation incremented by the values in the\n",
    "        desired list (time_range)\n",
    "    \"\"\"\n",
    "    time_col = mdl.durations.name\n",
    "    column_names = ['time_point_' + np.str(tp) for tp in time_range]\n",
    "    if isinstance(X, pd.DataFrame):\n",
    "        my_index = X.index.tolist()\n",
    "    else:\n",
    "        my_index = np.arange(0, len(X))\n",
    "        X = pd.DataFrame(X, columns=mdl.hazards_.columns)\n",
    "\n",
    "    time_point_df = pd.DataFrame(columns=column_names, index=my_index)\n",
    "    for idx in my_index:\n",
    "        my_times = np.array([X.loc[idx, time_col] + tp for tp in time_range])\n",
    "        time_point_df.ix[idx] = my_times\n",
    "\n",
    "    return time_point_df\n",
    "\n",
    "\n",
    "def line(x, a, b):\n",
    "    return a * x + b"
   ]
  },
  {
   "cell_type": "code",
   "execution_count": 39,
   "metadata": {
    "collapsed": true
   },
   "outputs": [],
   "source": [
    "def return_desired_cumulative_hazards(t, mdl):\n",
    "    \"\"\"\n",
    "    t: an event time that is used as the base line to forecast forward in time\n",
    "    \"\"\"\n",
    "    maxtimepoint = mdl.baseline_hazard_.index.max()  # Now taken care of in the forecast\n",
    "    if t > maxtimepoint:\n",
    "        t = maxtimepoint  # just set to the max value.\n",
    "    try:\n",
    "        # spec_hazard = self.baseline_hazard_.ix[t].values\n",
    "        c_haz = mdl.baseline_cumulative_hazard_.ix[t].values[0]\n",
    "\n",
    "    except KeyError:\n",
    "        # get the first after this point\n",
    "        t_post = mdl.baseline_hazard_.ix[t:].index[0]\n",
    "        # get the last before this point\n",
    "        t_prior = mdl.baseline_hazard_.ix[:t].index[-1]\n",
    "        # x = [t_prior, t_post]\n",
    "        y = [mdl.baseline_cumulative_hazard_.ix[t_prior].values[0],\n",
    "             mdl.baseline_cumulative_hazard_.ix[t_post].values[0]]\n",
    "        # print(x, y)\n",
    "        chaz_interp = interpolate.interp1d([t_prior, t_post], y)\n",
    "        c_haz = chaz_interp(t)\n",
    "\n",
    "    return c_haz"
   ]
  },
  {
   "cell_type": "code",
   "execution_count": 40,
   "metadata": {
    "collapsed": true
   },
   "outputs": [],
   "source": [
    "from scipy import interpolate\n",
    "from scipy.optimize import curve_fit\n",
    "import lifelines as ll"
   ]
  },
  {
   "cell_type": "code",
   "execution_count": 41,
   "metadata": {
    "collapsed": false
   },
   "outputs": [
    {
     "name": "stdout",
     "output_type": "stream",
     "text": [
      "(69475, 17)\n",
      "58.0408906411\n",
      "Wall time: 27min 53s\n"
     ]
    }
   ],
   "source": [
    "%%time\n",
    "yr_range = np.arange(0, 6)\n",
    "# pred_years = map(np.str,yr_range)\n",
    "# apply the separation model\n",
    "sep_surv_pred = forecast_survival_function(sep_mdl, df[sep_cols2], time_range=yr_range)"
   ]
  },
  {
   "cell_type": "code",
   "execution_count": 42,
   "metadata": {
    "collapsed": false
   },
   "outputs": [
    {
     "data": {
      "text/plain": [
       "<class 'pandas.core.panel.Panel'>\n",
       "Dimensions: 3 (items) x 69475 (major_axis) x 6 (minor_axis)\n",
       "Items axis: lbci to ubci\n",
       "Major_axis axis: 0 to 69474\n",
       "Minor_axis axis: t_0 to t_5"
      ]
     },
     "execution_count": 42,
     "metadata": {},
     "output_type": "execute_result"
    }
   ],
   "source": [
    "sep_surv_pred"
   ]
  },
  {
   "cell_type": "code",
   "execution_count": 46,
   "metadata": {
    "collapsed": false
   },
   "outputs": [
    {
     "data": {
      "text/html": [
       "<div>\n",
       "<table border=\"1\" class=\"dataframe\">\n",
       "  <thead>\n",
       "    <tr style=\"text-align: right;\">\n",
       "      <th></th>\n",
       "      <th>t_0</th>\n",
       "      <th>t_1</th>\n",
       "      <th>t_2</th>\n",
       "      <th>t_3</th>\n",
       "      <th>t_4</th>\n",
       "      <th>t_5</th>\n",
       "    </tr>\n",
       "  </thead>\n",
       "  <tbody>\n",
       "    <tr>\n",
       "      <th>0</th>\n",
       "      <td>0.490665</td>\n",
       "      <td>0.118927</td>\n",
       "      <td>0.029149</td>\n",
       "      <td>0.006714</td>\n",
       "      <td>0.001207</td>\n",
       "      <td>0.000185</td>\n",
       "    </tr>\n",
       "    <tr>\n",
       "      <th>1</th>\n",
       "      <td>0.719346</td>\n",
       "      <td>0.604101</td>\n",
       "      <td>0.499816</td>\n",
       "      <td>0.408155</td>\n",
       "      <td>0.320292</td>\n",
       "      <td>0.252039</td>\n",
       "    </tr>\n",
       "    <tr>\n",
       "      <th>2</th>\n",
       "      <td>0.768694</td>\n",
       "      <td>0.688586</td>\n",
       "      <td>0.606835</td>\n",
       "      <td>0.528077</td>\n",
       "      <td>0.453458</td>\n",
       "      <td>0.385592</td>\n",
       "    </tr>\n",
       "    <tr>\n",
       "      <th>3</th>\n",
       "      <td>0.645614</td>\n",
       "      <td>0.633918</td>\n",
       "      <td>0.611046</td>\n",
       "      <td>0.592715</td>\n",
       "      <td>0.577776</td>\n",
       "      <td>0.534007</td>\n",
       "    </tr>\n",
       "    <tr>\n",
       "      <th>4</th>\n",
       "      <td>0.962339</td>\n",
       "      <td>0.959068</td>\n",
       "      <td>0.955707</td>\n",
       "      <td>0.952158</td>\n",
       "      <td>0.948308</td>\n",
       "      <td>0.943829</td>\n",
       "    </tr>\n",
       "  </tbody>\n",
       "</table>\n",
       "</div>"
      ],
      "text/plain": [
       "        t_0       t_1       t_2       t_3       t_4       t_5\n",
       "0  0.490665  0.118927  0.029149  0.006714  0.001207  0.000185\n",
       "1  0.719346  0.604101  0.499816  0.408155  0.320292  0.252039\n",
       "2  0.768694  0.688586  0.606835  0.528077  0.453458  0.385592\n",
       "3  0.645614  0.633918  0.611046  0.592715  0.577776  0.534007\n",
       "4  0.962339  0.959068  0.955707  0.952158  0.948308  0.943829"
      ]
     },
     "execution_count": 46,
     "metadata": {},
     "output_type": "execute_result"
    }
   ],
   "source": [
    "sep_surv_pred['surv'].head()"
   ]
  },
  {
   "cell_type": "code",
   "execution_count": 48,
   "metadata": {
    "collapsed": true
   },
   "outputs": [],
   "source": [
    "\n",
    "def convert_surv_to_prob(surv_pred, pred_type, keyed_df):\n",
    "    prob = {}\n",
    "\n",
    "    for item in surv_pred.items:\n",
    "        if item == 'lbci':\n",
    "            prob['ubcip'] = pd.concat([keyed_df, 1 - surv_pred[item]], axis=1)\n",
    "            prob['ubcip'].fillna(0, inplace=True)\n",
    "        elif item == 'ubci':\n",
    "            prob['lbcip'] = pd.concat([keyed_df, 1 - surv_pred[item]], axis=1)\n",
    "            prob['lbcip'].fillna(0, inplace=True)\n",
    "        else:\n",
    "            prob['surv'] = pd.concat([keyed_df, 1 - surv_pred[item]], axis=1)\n",
    "            prob['surv'].fillna(0, inplace=True)\n",
    "            \n",
    "            \n",
    "\n",
    "    # now check that lengths match\n",
    "    # if len(surv_pred['surv'])!=len(keyed_df):\n",
    "    #    for item in surv_pred.items:\n",
    "    #        prob[item]\n",
    "    #timepoint_cols = surv_pred.minor_axis.tolist()\n",
    "    if pred_type == 'ret':\n",
    "        rep_string = 'ret_prob'\n",
    "    elif pred_type == 'sep':\n",
    "        rep_string = 'sep_prob'\n",
    "\n",
    "    probabilities = pd.Panel.from_dict(prob)\n",
    "    probabilities.minor_axis = [a.replace('t', rep_string) for a in probabilities.minor_axis.tolist()]\n",
    "\n",
    "    return probabilities\n"
   ]
  },
  {
   "cell_type": "code",
   "execution_count": 50,
   "metadata": {
    "collapsed": true
   },
   "outputs": [],
   "source": [
    "keyed_df = pd.DataFrame(current['KEY'])\n",
    "sep_prob = convert_surv_to_prob(sep_surv_pred,'sep',keyed_df)"
   ]
  },
  {
   "cell_type": "code",
   "execution_count": 51,
   "metadata": {
    "collapsed": false
   },
   "outputs": [
    {
     "data": {
      "text/html": [
       "<div>\n",
       "<table border=\"1\" class=\"dataframe\">\n",
       "  <thead>\n",
       "    <tr style=\"text-align: right;\">\n",
       "      <th></th>\n",
       "      <th>KEY</th>\n",
       "      <th>sep_prob_0</th>\n",
       "      <th>sep_prob_1</th>\n",
       "      <th>sep_prob_2</th>\n",
       "      <th>sep_prob_3</th>\n",
       "      <th>sep_prob_4</th>\n",
       "      <th>sep_prob_5</th>\n",
       "    </tr>\n",
       "  </thead>\n",
       "  <tbody>\n",
       "    <tr>\n",
       "      <th>0</th>\n",
       "      <td>490903510940682</td>\n",
       "      <td>0.509335</td>\n",
       "      <td>0.881073</td>\n",
       "      <td>0.970851</td>\n",
       "      <td>0.993286</td>\n",
       "      <td>0.998793</td>\n",
       "      <td>0.999815</td>\n",
       "    </tr>\n",
       "    <tr>\n",
       "      <th>1</th>\n",
       "      <td>850716555421574</td>\n",
       "      <td>0.280654</td>\n",
       "      <td>0.395899</td>\n",
       "      <td>0.500184</td>\n",
       "      <td>0.591845</td>\n",
       "      <td>0.679708</td>\n",
       "      <td>0.747961</td>\n",
       "    </tr>\n",
       "    <tr>\n",
       "      <th>2</th>\n",
       "      <td>213029456889736</td>\n",
       "      <td>0.231306</td>\n",
       "      <td>0.311414</td>\n",
       "      <td>0.393165</td>\n",
       "      <td>0.471923</td>\n",
       "      <td>0.546542</td>\n",
       "      <td>0.614408</td>\n",
       "    </tr>\n",
       "    <tr>\n",
       "      <th>3</th>\n",
       "      <td>765210492427093</td>\n",
       "      <td>0.354386</td>\n",
       "      <td>0.366082</td>\n",
       "      <td>0.388954</td>\n",
       "      <td>0.407285</td>\n",
       "      <td>0.422224</td>\n",
       "      <td>0.465993</td>\n",
       "    </tr>\n",
       "    <tr>\n",
       "      <th>4</th>\n",
       "      <td>297986222569824</td>\n",
       "      <td>0.0376609</td>\n",
       "      <td>0.0409322</td>\n",
       "      <td>0.0442935</td>\n",
       "      <td>0.0478425</td>\n",
       "      <td>0.0516923</td>\n",
       "      <td>0.056171</td>\n",
       "    </tr>\n",
       "  </tbody>\n",
       "</table>\n",
       "</div>"
      ],
      "text/plain": [
       "               KEY sep_prob_0 sep_prob_1 sep_prob_2 sep_prob_3 sep_prob_4  \\\n",
       "0  490903510940682   0.509335   0.881073   0.970851   0.993286   0.998793   \n",
       "1  850716555421574   0.280654   0.395899   0.500184   0.591845   0.679708   \n",
       "2  213029456889736   0.231306   0.311414   0.393165   0.471923   0.546542   \n",
       "3  765210492427093   0.354386   0.366082   0.388954   0.407285   0.422224   \n",
       "4  297986222569824  0.0376609  0.0409322  0.0442935  0.0478425  0.0516923   \n",
       "\n",
       "  sep_prob_5  \n",
       "0   0.999815  \n",
       "1   0.747961  \n",
       "2   0.614408  \n",
       "3   0.465993  \n",
       "4   0.056171  "
      ]
     },
     "execution_count": 51,
     "metadata": {},
     "output_type": "execute_result"
    }
   ],
   "source": [
    "sep_prob['surv'].head()"
   ]
  },
  {
   "cell_type": "code",
   "execution_count": 99,
   "metadata": {
    "collapsed": true
   },
   "outputs": [],
   "source": [
    "sep_counts = reduce_to_sums(sep_prob)"
   ]
  },
  {
   "cell_type": "code",
   "execution_count": 100,
   "metadata": {
    "collapsed": false
   },
   "outputs": [
    {
     "data": {
      "text/html": [
       "<div>\n",
       "<table border=\"1\" class=\"dataframe\">\n",
       "  <thead>\n",
       "    <tr style=\"text-align: right;\">\n",
       "      <th></th>\n",
       "      <th>lbcip</th>\n",
       "      <th>surv</th>\n",
       "      <th>ubcip</th>\n",
       "    </tr>\n",
       "  </thead>\n",
       "  <tbody>\n",
       "    <tr>\n",
       "      <th>sep_prob_0</th>\n",
       "      <td>2303</td>\n",
       "      <td>2549</td>\n",
       "      <td>2857</td>\n",
       "    </tr>\n",
       "    <tr>\n",
       "      <th>sep_prob_1</th>\n",
       "      <td>4438</td>\n",
       "      <td>4940</td>\n",
       "      <td>5424</td>\n",
       "    </tr>\n",
       "    <tr>\n",
       "      <th>sep_prob_2</th>\n",
       "      <td>6535</td>\n",
       "      <td>7068</td>\n",
       "      <td>7630</td>\n",
       "    </tr>\n",
       "    <tr>\n",
       "      <th>sep_prob_3</th>\n",
       "      <td>8503</td>\n",
       "      <td>9097</td>\n",
       "      <td>9676</td>\n",
       "    </tr>\n",
       "    <tr>\n",
       "      <th>sep_prob_4</th>\n",
       "      <td>10514</td>\n",
       "      <td>11103</td>\n",
       "      <td>11696</td>\n",
       "    </tr>\n",
       "    <tr>\n",
       "      <th>sep_prob_5</th>\n",
       "      <td>12445</td>\n",
       "      <td>13007</td>\n",
       "      <td>13617</td>\n",
       "    </tr>\n",
       "  </tbody>\n",
       "</table>\n",
       "</div>"
      ],
      "text/plain": [
       "            lbcip   surv  ubcip\n",
       "sep_prob_0   2303   2549   2857\n",
       "sep_prob_1   4438   4940   5424\n",
       "sep_prob_2   6535   7068   7630\n",
       "sep_prob_3   8503   9097   9676\n",
       "sep_prob_4  10514  11103  11696\n",
       "sep_prob_5  12445  13007  13617"
      ]
     },
     "execution_count": 100,
     "metadata": {},
     "output_type": "execute_result"
    }
   ],
   "source": [
    "sep_counts"
   ]
  },
  {
   "cell_type": "markdown",
   "metadata": {},
   "source": [
    "## now for retirement"
   ]
  },
  {
   "cell_type": "code",
   "execution_count": 57,
   "metadata": {
    "collapsed": false
   },
   "outputs": [
    {
     "name": "stdout",
     "output_type": "stream",
     "text": [
      "(23502, 9)\n",
      "61.5810044012\n",
      "Wall time: 4min 4s\n"
     ]
    }
   ],
   "source": [
    "%%time\n",
    "# first omit those who are under min_age\n",
    "min_age = 50.0\n",
    "ret_pred_df = df[df['Age_years'] >= min_age].copy()\n",
    "ret_surv_pred = forecast_survival_function(ret_mdl, ret_pred_df[ret_cols], time_range=yr_range)\n",
    "#, calc_ci=True,  extrapolate=False)"
   ]
  },
  {
   "cell_type": "code",
   "execution_count": 58,
   "metadata": {
    "collapsed": true
   },
   "outputs": [],
   "source": [
    "ret_prob = convert_surv_to_prob(ret_surv_pred, 'ret', keyed_df)"
   ]
  },
  {
   "cell_type": "code",
   "execution_count": 61,
   "metadata": {
    "collapsed": false
   },
   "outputs": [
    {
     "name": "stdout",
     "output_type": "stream",
     "text": [
      "            lbcip  surv  ubcip\n",
      "ret_prob_0   1509  1618   1760\n",
      "ret_prob_1   1794  1945   2104\n",
      "ret_prob_2   2144  2313   2495\n",
      "ret_prob_3   2499  2687   2868\n",
      "ret_prob_4   2882  3058   3247\n",
      "ret_prob_5   3256  3461   3668\n"
     ]
    }
   ],
   "source": [
    "ret_counts = reduce_to_sums(ret_prob, 0.5)\n",
    "print(ret_counts)"
   ]
  },
  {
   "cell_type": "code",
   "execution_count": 62,
   "metadata": {
    "collapsed": false
   },
   "outputs": [
    {
     "data": {
      "text/plain": [
       "u'C:\\\\Users\\\\kesj\\\\Documents\\\\projects\\\\HRattrition\\\\survival'"
      ]
     },
     "execution_count": 62,
     "metadata": {},
     "output_type": "execute_result"
    }
   ],
   "source": [
    "%pwd"
   ]
  },
  {
   "cell_type": "code",
   "execution_count": 101,
   "metadata": {
    "collapsed": false
   },
   "outputs": [
    {
     "name": "stdout",
     "output_type": "stream",
     "text": [
      "n=34767, number of events=11905\n",
      "\n",
      "                coef  exp(coef)  se(coef)          z          p  lower 0.95  upper 0.95     \n",
      "Age_years  3.388e-01  1.403e+00 1.010e-02  3.354e+01 1.192e-246   3.190e-01   3.586e-01  ***\n",
      "SAL1      -2.439e-01  7.836e-01 1.313e-02 -1.858e+01  4.794e-77  -2.697e-01  -2.182e-01  ***\n",
      "MERIT1    -2.373e-01  7.888e-01 1.416e-02 -1.675e+01  5.614e-63  -2.650e-01  -2.095e-01  ***\n",
      "PERF1     -1.240e-01  8.834e-01 1.373e-02 -9.032e+00  1.686e-19  -1.509e-01  -9.708e-02  ***\n",
      "BOX1      -1.031e-02  9.897e-01 1.254e-02 -8.222e-01  4.110e-01  -3.488e-02   1.427e-02     \n",
      "SEX        1.697e-01  1.185e+00 1.129e-02  1.503e+01  4.522e-51   1.475e-01   1.918e-01  ***\n",
      "HAVE_INS  -1.610e-01  8.513e-01 1.126e-02 -1.430e+01  2.206e-46  -1.830e-01  -1.389e-01  ***\n",
      "HAVE_DEP   4.226e-03  1.004e+00 1.099e-02  3.844e-01  7.007e-01  -1.732e-02   2.578e-02     \n",
      "---\n",
      "Signif. codes:  0 '***' 0.001 '**' 0.01 '*' 0.05 '.' 0.1 ' ' 1 \n",
      "\n",
      "Concordance = 0.723\n"
     ]
    }
   ],
   "source": [
    "ret_mdl.print_summary()"
   ]
  },
  {
   "cell_type": "code",
   "execution_count": 102,
   "metadata": {
    "collapsed": false
   },
   "outputs": [
    {
     "data": {
      "text/html": [
       "<div>\n",
       "<table border=\"1\" class=\"dataframe\">\n",
       "  <thead>\n",
       "    <tr style=\"text-align: right;\">\n",
       "      <th></th>\n",
       "      <th>Age_years</th>\n",
       "      <th>SAL1</th>\n",
       "      <th>MERIT1</th>\n",
       "      <th>PERF1</th>\n",
       "      <th>BOX1</th>\n",
       "      <th>SEX</th>\n",
       "      <th>HAVE_INS</th>\n",
       "      <th>HAVE_DEP</th>\n",
       "    </tr>\n",
       "  </thead>\n",
       "  <tbody>\n",
       "    <tr>\n",
       "      <th>coef</th>\n",
       "      <td>0.338839</td>\n",
       "      <td>-0.243914</td>\n",
       "      <td>-0.237271</td>\n",
       "      <td>-0.123995</td>\n",
       "      <td>-0.010308</td>\n",
       "      <td>0.169653</td>\n",
       "      <td>-0.160961</td>\n",
       "      <td>0.004226</td>\n",
       "    </tr>\n",
       "  </tbody>\n",
       "</table>\n",
       "</div>"
      ],
      "text/plain": [
       "      Age_years      SAL1    MERIT1     PERF1      BOX1       SEX  HAVE_INS  \\\n",
       "coef   0.338839 -0.243914 -0.237271 -0.123995 -0.010308  0.169653 -0.160961   \n",
       "\n",
       "      HAVE_DEP  \n",
       "coef  0.004226  "
      ]
     },
     "execution_count": 102,
     "metadata": {},
     "output_type": "execute_result"
    }
   ],
   "source": [
    "ret_mdl.hazards_"
   ]
  },
  {
   "cell_type": "code",
   "execution_count": 98,
   "metadata": {
    "collapsed": false
   },
   "outputs": [
    {
     "data": {
      "text/html": [
       "<div>\n",
       "<table border=\"1\" class=\"dataframe\">\n",
       "  <thead>\n",
       "    <tr style=\"text-align: right;\">\n",
       "      <th></th>\n",
       "      <th>surv_pred</th>\n",
       "    </tr>\n",
       "  </thead>\n",
       "  <tbody>\n",
       "    <tr>\n",
       "      <th>sep_prob_1</th>\n",
       "      <td>NaN</td>\n",
       "    </tr>\n",
       "    <tr>\n",
       "      <th>sep_prob_2</th>\n",
       "      <td>2128</td>\n",
       "    </tr>\n",
       "    <tr>\n",
       "      <th>sep_prob_3</th>\n",
       "      <td>2029</td>\n",
       "    </tr>\n",
       "    <tr>\n",
       "      <th>sep_prob_4</th>\n",
       "      <td>2006</td>\n",
       "    </tr>\n",
       "    <tr>\n",
       "      <th>sep_prob_5</th>\n",
       "      <td>1904</td>\n",
       "    </tr>\n",
       "  </tbody>\n",
       "</table>\n",
       "</div>"
      ],
      "text/plain": [
       "            surv_pred\n",
       "sep_prob_1        NaN\n",
       "sep_prob_2       2128\n",
       "sep_prob_3       2029\n",
       "sep_prob_4       2006\n",
       "sep_prob_5       1904"
      ]
     },
     "execution_count": 98,
     "metadata": {},
     "output_type": "execute_result"
    }
   ],
   "source": [
    "reduce_to_sums(sep_prob['surv']).iloc[1:].diff()"
   ]
  },
  {
   "cell_type": "code",
   "execution_count": 67,
   "metadata": {
    "collapsed": false
   },
   "outputs": [],
   "source": [
    "sep_excel_file ='sep_prediction.xlsx'\n",
    "writer = pd.ExcelWriter(sep_excel_file, engine='xlsxwriter')\n",
    "sep_prob['surv'].to_excel(writer,'prediction',index=False)\n",
    "sep_prob['lbcip'].to_excel(writer,'lbci',index=False)\n",
    "sep_prob['ubcip'].to_excel(writer,'ubci',index=False)\n",
    "\n",
    "writer.save()\n"
   ]
  },
  {
   "cell_type": "code",
   "execution_count": 70,
   "metadata": {
    "collapsed": false
   },
   "outputs": [],
   "source": [
    "ret_excel_file ='ret_prediction.xlsx'\n",
    "writer = pd.ExcelWriter(ret_excel_file,engine='xlsxwriter')\n",
    "ret_prob['surv'].to_excel(writer,'prediction',index=False)\n",
    "ret_prob['lbcip'].to_excel(writer,'lbci',index=False)\n",
    "ret_prob['ubcip'].to_excel(writer,sheet_name='ubci',index=False)\n",
    "writer.save()\n"
   ]
  },
  {
   "cell_type": "code",
   "execution_count": 71,
   "metadata": {
    "collapsed": false
   },
   "outputs": [
    {
     "data": {
      "text/plain": [
       "['CUR_JOB_MOS',\n",
       " 'JOBCNT1',\n",
       " 'JOBCNT10',\n",
       " 'JOBCNT3',\n",
       " 'JOBCNT5',\n",
       " 'JOBCODE',\n",
       " 'JOB_FAMILY',\n",
       " 'JOB_FUNCTION',\n",
       " 'JOB_FUNCTION_PSA']"
      ]
     },
     "execution_count": 71,
     "metadata": {},
     "output_type": "execute_result"
    }
   ],
   "source": [
    "[c for c in current.columns.tolist() if 'JOB' in c]"
   ]
  },
  {
   "cell_type": "code",
   "execution_count": 73,
   "metadata": {
    "collapsed": false
   },
   "outputs": [],
   "source": [
    "current[['KEY','Age_years','Tenure_years','JOBCODE','EXT_FUNC_ID_SFI']].to_csv('current_empl_features.csv',index=False)"
   ]
  },
  {
   "cell_type": "code",
   "execution_count": 77,
   "metadata": {
    "collapsed": false
   },
   "outputs": [
    {
     "data": {
      "text/plain": [
       "[('SFPP', 783),\n",
       " ('State Farm Bank', 1507),\n",
       " ('CCC Service', 1823),\n",
       " ('Enterprise Auto Express', 2587),\n",
       " ('Enterprise ILR', 2462),\n",
       " ('Life Health Response Center', 376),\n",
       " ('CCC Sales', 1636)]"
      ]
     },
     "execution_count": 77,
     "metadata": {},
     "output_type": "execute_result"
    }
   ],
   "source": [
    "## count how many examples in the current dataframe\n",
    "[(v,len(current[current.EXT_FUNC_ID_SFI==k])) for k,v in extFuncDict.iteritems()]"
   ]
  },
  {
   "cell_type": "code",
   "execution_count": 74,
   "metadata": {
    "collapsed": false
   },
   "outputs": [
    {
     "data": {
      "text/plain": [
       "{71: 'CCC Service',\n",
       " 517: 'State Farm Bank',\n",
       " 816: 'Life Health Response Center',\n",
       " 835: 'SFPP',\n",
       " 892: 'CCC Sales',\n",
       " 909: 'Enterprise Auto Express',\n",
       " 910: 'Enterprise ILR'}"
      ]
     },
     "execution_count": 74,
     "metadata": {},
     "output_type": "execute_result"
    }
   ],
   "source": [
    "#interesting_extended_functions = [892,71, 816, 909,910,517,835]\n",
    "extFuncDict ={}\n",
    "extFuncDict[892]='CCC Sales'\n",
    "extFuncDict[71]='CCC Service'\n",
    "extFuncDict[816]='Life Health Response Center'\n",
    "#(00816)\n",
    "extFuncDict[909]='Enterprise Auto Express'\n",
    "extFuncDict[910]='Enterprise ILR' \n",
    "extFuncDict[517]='State Farm Bank'\n",
    "extFuncDict[835]='SFPP'\n",
    "interesting_extended_functions = extFuncDict.keys()\n",
    "extFuncDict"
   ]
  },
  {
   "cell_type": "code",
   "execution_count": 108,
   "metadata": {
    "collapsed": false
   },
   "outputs": [
    {
     "name": "stdout",
     "output_type": "stream",
     "text": [
      "SFPP\n",
      "783\n"
     ]
    }
   ],
   "source": [
    "ext_val = 835\n",
    "print (extFuncDict[ext_val])\n",
    "print (len(sep_prob['surv'][current.EXT_FUNC_ID_SFI==ext_val]))\n",
    "#(sep_df[sep_df.EXT_FUNC_ID_SFI==ext_val][sep_pred_cols]+f1_offsets).values.astype(int).sum(axis=0)"
   ]
  },
  {
   "cell_type": "code",
   "execution_count": 137,
   "metadata": {
    "collapsed": true
   },
   "outputs": [],
   "source": [
    "ext_val = 909"
   ]
  },
  {
   "cell_type": "code",
   "execution_count": 138,
   "metadata": {
    "collapsed": false
   },
   "outputs": [
    {
     "name": "stdout",
     "output_type": "stream",
     "text": [
      "The current group for Enterprise Auto Express has 2587 members\n",
      "_______ \n",
      " surv\n",
      "            surv_pred\n",
      "sep_prob_0         12\n",
      "sep_prob_1         63\n",
      "sep_prob_2        185\n",
      "sep_prob_3        337\n",
      "sep_prob_4        508\n",
      "sep_prob_5        675\n",
      "_______ \n",
      " lbcip\n",
      "            surv_pred\n",
      "sep_prob_0         11\n",
      "sep_prob_1         51\n",
      "sep_prob_2        154\n",
      "sep_prob_3        295\n",
      "sep_prob_4        463\n",
      "sep_prob_5        645\n",
      "_______ \n",
      " ubcip\n",
      "            surv_pred\n",
      "sep_prob_0         13\n",
      "sep_prob_1         73\n",
      "sep_prob_2        219\n",
      "sep_prob_3        367\n",
      "sep_prob_4        539\n",
      "sep_prob_5        697\n"
     ]
    }
   ],
   "source": [
    "panel_frames = ['surv','lbcip','ubcip']\n",
    "print (\"The current group for {0} has {1} members\".format(extFuncDict[ext_val],len(sep_prob['surv'][current.EXT_FUNC_ID_SFI==ext_val])))\n",
    "\n",
    "for panel in panel_frames:\n",
    "    print(\"_______ \\n {0}\".format(panel))\n",
    "    print (reduce_to_sums(sep_prob[panel][current.EXT_FUNC_ID_SFI==ext_val]))"
   ]
  },
  {
   "cell_type": "code",
   "execution_count": 144,
   "metadata": {
    "collapsed": false
   },
   "outputs": [],
   "source": [
    "sp_cols = sep_prob[panel].columns.tolist()[1:]"
   ]
  },
  {
   "cell_type": "code",
   "execution_count": 152,
   "metadata": {
    "collapsed": false
   },
   "outputs": [
    {
     "data": {
      "text/plain": [
       "<matplotlib.text.Text at 0x479a6ac8>"
      ]
     },
     "execution_count": 152,
     "metadata": {},
     "output_type": "execute_result"
    },
    {
     "data": {
      "image/png": "[encoded data removed]",
      "text/plain": [
       "<matplotlib.figure.Figure at 0x476d1128>"
      ]
     },
     "metadata": {},
     "output_type": "display_data"
    }
   ],
   "source": [
    "#g = sns.FacetGrid(sep_prob[panel][current.EXT_FUNC_ID_SFI==ext_val],col=)\n",
    "#g = sns.pairplot(sep_prob[panel][current.EXT_FUNC_ID_SFI==ext_val],vars=sp_cols,diag_kind = \"kde\")\n",
    "                 #distplot(sep_prob[panel]['sep_prob_1'][current.EXT_FUNC_ID_SFI==ext_val])\n",
    "ext_val = 909\n",
    "for col in sp_cols[1:]:\n",
    "    sns.distplot(sep_prob[panel_frames[1]][current.EXT_FUNC_ID_SFI==ext_val][col],hist=False,label=col)\n",
    "plt.axvline(0.5,c='k')\n",
    "plt.legend()\n",
    "plt.title('Express EXT_FUNC = 909')"
   ]
  },
  {
   "cell_type": "code",
   "execution_count": 153,
   "metadata": {
    "collapsed": false
   },
   "outputs": [
    {
     "data": {
      "text/plain": [
       "<matplotlib.text.Text at 0x47cd14e0>"
      ]
     },
     "execution_count": 153,
     "metadata": {},
     "output_type": "execute_result"
    },
    {
     "data": {
      "image/png": "[encoded data removed]",
      "text/plain": [
       "<matplotlib.figure.Figure at 0x40f77ba8>"
      ]
     },
     "metadata": {},
     "output_type": "display_data"
    }
   ],
   "source": [
    "ext_val = 910\n",
    "for col in sp_cols[1:]:\n",
    "    sns.distplot(sep_prob[panel_frames[1]][current.EXT_FUNC_ID_SFI==ext_val][col],hist=False,label=col)\n",
    "plt.axvline(0.5,c='k')\n",
    "plt.legend()\n",
    "plt.title('ILR EXT_FUNC = 910')"
   ]
  },
  {
   "cell_type": "code",
   "execution_count": 154,
   "metadata": {
    "collapsed": false
   },
   "outputs": [
    {
     "data": {
      "text/plain": [
       "['surv', 'lbcip', 'ubcip']"
      ]
     },
     "execution_count": 154,
     "metadata": {},
     "output_type": "execute_result"
    }
   ],
   "source": [
    "panel_frames"
   ]
  },
  {
   "cell_type": "code",
   "execution_count": 159,
   "metadata": {
    "collapsed": false
   },
   "outputs": [
    {
     "data": {
      "text/plain": [
       "<matplotlib.text.Text at 0x48901f60>"
      ]
     },
     "execution_count": 159,
     "metadata": {},
     "output_type": "execute_result"
    },
    {
     "data": {
      "image/png": "[encoded data removed]",
      "text/plain": [
       "<matplotlib.figure.Figure at 0x48412400>"
      ]
     },
     "metadata": {},
     "output_type": "display_data"
    }
   ],
   "source": [
    "for panel in panel_frames:\n",
    "    my_lw = 1\n",
    "    if panel == 'surv':\n",
    "        my_lw = 3\n",
    "    sns.distplot(sep_prob[panel][current.EXT_FUNC_ID_SFI==ext_val][sp_cols[1]],hist=False,color='dodgerblue',\n",
    "                 kde_kws={\"lw\": my_lw})\n",
    "plt.axvline(0.5,color='k',lw=2)\n",
    "plt.title('Express ext_func = 909 year 1 separation')"
   ]
  },
  {
   "cell_type": "code",
   "execution_count": 141,
   "metadata": {
    "collapsed": false
   },
   "outputs": [
    {
     "name": "stdout",
     "output_type": "stream",
     "text": [
      "_______ full sum \n",
      " surv\n",
      "sep_prob_0    230.166715\n",
      "sep_prob_1    381.306152\n",
      "sep_prob_2    516.120238\n",
      "sep_prob_3    642.197163\n",
      "sep_prob_4    760.723786\n",
      "sep_prob_5    875.421992\n",
      "dtype: float64\n",
      "_______ full sum \n",
      " lbcip\n",
      "sep_prob_0    219.533928\n",
      "sep_prob_1    364.693991\n",
      "sep_prob_2    495.677142\n",
      "sep_prob_3    619.237555\n",
      "sep_prob_4    736.211626\n",
      "sep_prob_5    850.056960\n",
      "dtype: float64\n",
      "_______ full sum \n",
      " ubcip\n",
      "sep_prob_0    241.504548\n",
      "sep_prob_1    398.763781\n",
      "sep_prob_2    537.316206\n",
      "sep_prob_3    665.740374\n",
      "sep_prob_4    785.641465\n",
      "sep_prob_5    901.036180\n",
      "dtype: float64\n"
     ]
    }
   ],
   "source": [
    "for panel in panel_frames:\n",
    "    print(\"_______ full sum \\n {0}\".format(panel))\n",
    "    print (sep_prob[panel][sep_prob[panel].columns.tolist()[1:]][current.EXT_FUNC_ID_SFI==ext_val].sum())"
   ]
  },
  {
   "cell_type": "markdown",
   "metadata": {},
   "source": [
    "## repeat for jobcode"
   ]
  },
  {
   "cell_type": "code",
   "execution_count": 121,
   "metadata": {
    "collapsed": false
   },
   "outputs": [
    {
     "name": "stdout",
     "output_type": "stream",
     "text": [
      "['CCC Service Rep']\n",
      "1472\n"
     ]
    }
   ],
   "source": [
    "jc_val = [6200]\n",
    "print ([jobCodeDict[jv] for jv in jc_val])\n",
    "print (len(sep_prob['surv'][current.JOBCODE.isin(jc_val)]))\n"
   ]
  },
  {
   "cell_type": "code",
   "execution_count": 75,
   "metadata": {
    "collapsed": false
   },
   "outputs": [
    {
     "data": {
      "text/plain": [
       "{851: 'Bank Customer Service Rep',\n",
       " 852: 'Bank Customer Service Rep',\n",
       " 853: 'Bank Customer Service Rep',\n",
       " 983: 'Claim Associate-Express',\n",
       " 984: 'Claim Associate-Express',\n",
       " 986: 'CLaim Team Manager-ILR',\n",
       " 1009: 'CLaim Associate-ILR',\n",
       " 1876: 'CCC Sales Rep',\n",
       " 2638: 'Life Customer Service Asst',\n",
       " 2639: 'Life Customer Service Asst',\n",
       " 2641: 'Life Customer Service Asst',\n",
       " 4105: 'SFPP Account Rep',\n",
       " 6200: 'CCC Service Rep'}"
      ]
     },
     "execution_count": 75,
     "metadata": {},
     "output_type": "execute_result"
    }
   ],
   "source": [
    "jobCodeDict = {}\n",
    "jobCodeDict[6200]= 'CCC Service Rep'\n",
    "jobCodeDict[1876]= 'CCC Sales Rep'\n",
    "jobCodeDict[1009]='CLaim Associate-ILR'\n",
    "jobCodeDict[986]='CLaim Team Manager-ILR'\n",
    "jobCodeDict[983]='Claim Associate-Express'\n",
    "jobCodeDict[984]='Claim Associate-Express'\n",
    "jobCodeDict[2638]='Life Customer Service Asst'\n",
    "jobCodeDict[2639]='Life Customer Service Asst'\n",
    "jobCodeDict[2641]='Life Customer Service Asst'\n",
    "jobCodeDict[4105]= 'SFPP Account Rep'\n",
    "jobCodeDict[851]= 'Bank Customer Service Rep'\n",
    "jobCodeDict[852]= 'Bank Customer Service Rep'\n",
    "jobCodeDict[853]= 'Bank Customer Service Rep'\n",
    "interesting_jobcodes =  jobCodeDict.keys()\n",
    "jobCodeDict"
   ]
  },
  {
   "cell_type": "code",
   "execution_count": 135,
   "metadata": {
    "collapsed": true
   },
   "outputs": [],
   "source": [
    "#jc_val=[2638, 2639, 2641]#983,984]\n",
    "jc_val = [851,852,853]"
   ]
  },
  {
   "cell_type": "code",
   "execution_count": 136,
   "metadata": {
    "collapsed": false
   },
   "outputs": [
    {
     "name": "stdout",
     "output_type": "stream",
     "text": [
      "The current group for Bank Customer Service Rep has 188 members\n",
      "_______ \n",
      " surv\n",
      "            surv_pred\n",
      "sep_prob_0         10\n",
      "sep_prob_1         32\n",
      "sep_prob_2         62\n",
      "sep_prob_3         84\n",
      "sep_prob_4        108\n",
      "sep_prob_5        112\n",
      "_______ \n",
      " lbcip\n",
      "            surv_pred\n",
      "sep_prob_0         10\n",
      "sep_prob_1         27\n",
      "sep_prob_2         54\n",
      "sep_prob_3         77\n",
      "sep_prob_4        103\n",
      "sep_prob_5        112\n",
      "_______ \n",
      " ubcip\n",
      "            surv_pred\n",
      "sep_prob_0         14\n",
      "sep_prob_1         36\n",
      "sep_prob_2         69\n",
      "sep_prob_3         99\n",
      "sep_prob_4        110\n",
      "sep_prob_5        117\n"
     ]
    }
   ],
   "source": [
    "#panel_frames = ['surv','lbcip','ubcip']\n",
    "print (\"The current group for {0} has {1} members\".format(jobCodeDict[jc_val[0]],len(sep_prob['surv'][current.JOBCODE.isin(jc_val)])))\n",
    "\n",
    "for panel in panel_frames:\n",
    "    print(\"_______ \\n {0}\".format(panel))\n",
    "    print (reduce_to_sums(sep_prob[panel][current.JOBCODE.isin(jc_val)]))"
   ]
  },
  {
   "cell_type": "code",
   "execution_count": 87,
   "metadata": {
    "collapsed": false
   },
   "outputs": [
    {
     "data": {
      "text/plain": [
       "['CUR_LOC_MOS',\n",
       " 'LOCCNT1',\n",
       " 'LOCCNT10',\n",
       " 'LOCCNT3',\n",
       " 'LOCCNT5',\n",
       " 'LOCSTCNT1',\n",
       " 'LOCSTCNT10',\n",
       " 'LOCSTCNT3',\n",
       " 'LOCSTCNT5',\n",
       " 'LOC_STATE',\n",
       " 'LOC_TYPE_DESCR_SFI',\n",
       " 'RELOCATE_ALL_SFI',\n",
       " 'SUPV_DIFF_LOC']"
      ]
     },
     "execution_count": 87,
     "metadata": {},
     "output_type": "execute_result"
    }
   ],
   "source": [
    "[col for col in current.columns.tolist() if 'LOC' in col]"
   ]
  },
  {
   "cell_type": "code",
   "execution_count": 88,
   "metadata": {
    "collapsed": false
   },
   "outputs": [
    {
     "data": {
      "text/plain": [
       "N    36844\n",
       "Y    32631\n",
       "Name: HUBIND, dtype: int64"
      ]
     },
     "execution_count": 88,
     "metadata": {},
     "output_type": "execute_result"
    }
   ],
   "source": [
    "current.HUBIND.value_counts()"
   ]
  },
  {
   "cell_type": "code",
   "execution_count": 89,
   "metadata": {
    "collapsed": false
   },
   "outputs": [
    {
     "data": {
      "text/html": [
       "<div>\n",
       "<table border=\"1\" class=\"dataframe\">\n",
       "  <thead>\n",
       "    <tr style=\"text-align: right;\">\n",
       "      <th>LOC_STATE</th>\n",
       "      <th>AK</th>\n",
       "      <th>AL</th>\n",
       "      <th>AR</th>\n",
       "      <th>AZ</th>\n",
       "      <th>CA</th>\n",
       "      <th>CO</th>\n",
       "      <th>CT</th>\n",
       "      <th>DC</th>\n",
       "      <th>DE</th>\n",
       "      <th>FL</th>\n",
       "      <th>...</th>\n",
       "      <th>TN</th>\n",
       "      <th>TX</th>\n",
       "      <th>UT</th>\n",
       "      <th>VA</th>\n",
       "      <th>VT</th>\n",
       "      <th>WA</th>\n",
       "      <th>WI</th>\n",
       "      <th>WV</th>\n",
       "      <th>WY</th>\n",
       "      <th>XX</th>\n",
       "    </tr>\n",
       "    <tr>\n",
       "      <th>HUBIND</th>\n",
       "      <th></th>\n",
       "      <th></th>\n",
       "      <th></th>\n",
       "      <th></th>\n",
       "      <th></th>\n",
       "      <th></th>\n",
       "      <th></th>\n",
       "      <th></th>\n",
       "      <th></th>\n",
       "      <th></th>\n",
       "      <th></th>\n",
       "      <th></th>\n",
       "      <th></th>\n",
       "      <th></th>\n",
       "      <th></th>\n",
       "      <th></th>\n",
       "      <th></th>\n",
       "      <th></th>\n",
       "      <th></th>\n",
       "      <th></th>\n",
       "      <th></th>\n",
       "    </tr>\n",
       "  </thead>\n",
       "  <tbody>\n",
       "    <tr>\n",
       "      <th>N</th>\n",
       "      <td>37</td>\n",
       "      <td>1238</td>\n",
       "      <td>166</td>\n",
       "      <td>235</td>\n",
       "      <td>3459</td>\n",
       "      <td>1669</td>\n",
       "      <td>40</td>\n",
       "      <td>10</td>\n",
       "      <td>67</td>\n",
       "      <td>3574</td>\n",
       "      <td>...</td>\n",
       "      <td>1850</td>\n",
       "      <td>2929</td>\n",
       "      <td>106</td>\n",
       "      <td>1828</td>\n",
       "      <td>6</td>\n",
       "      <td>287</td>\n",
       "      <td>192</td>\n",
       "      <td>125</td>\n",
       "      <td>18</td>\n",
       "      <td>1</td>\n",
       "    </tr>\n",
       "    <tr>\n",
       "      <th>Y</th>\n",
       "      <td>0</td>\n",
       "      <td>0</td>\n",
       "      <td>0</td>\n",
       "      <td>4467</td>\n",
       "      <td>0</td>\n",
       "      <td>0</td>\n",
       "      <td>0</td>\n",
       "      <td>0</td>\n",
       "      <td>0</td>\n",
       "      <td>0</td>\n",
       "      <td>...</td>\n",
       "      <td>0</td>\n",
       "      <td>6130</td>\n",
       "      <td>0</td>\n",
       "      <td>0</td>\n",
       "      <td>0</td>\n",
       "      <td>2176</td>\n",
       "      <td>0</td>\n",
       "      <td>0</td>\n",
       "      <td>0</td>\n",
       "      <td>0</td>\n",
       "    </tr>\n",
       "  </tbody>\n",
       "</table>\n",
       "<p>2 rows × 51 columns</p>\n",
       "</div>"
      ],
      "text/plain": [
       "LOC_STATE  AK    AL   AR    AZ    CA    CO  CT  DC  DE    FL ...    TN    TX  \\\n",
       "HUBIND                                                       ...               \n",
       "N          37  1238  166   235  3459  1669  40  10  67  3574 ...  1850  2929   \n",
       "Y           0     0    0  4467     0     0   0   0   0     0 ...     0  6130   \n",
       "\n",
       "LOC_STATE   UT    VA  VT    WA   WI   WV  WY  XX  \n",
       "HUBIND                                            \n",
       "N          106  1828   6   287  192  125  18   1  \n",
       "Y            0     0   0  2176    0    0   0   0  \n",
       "\n",
       "[2 rows x 51 columns]"
      ]
     },
     "execution_count": 89,
     "metadata": {},
     "output_type": "execute_result"
    }
   ],
   "source": [
    "pd.crosstab(current.HUBIND, current.LOC_STATE)"
   ]
  },
  {
   "cell_type": "code",
   "execution_count": 90,
   "metadata": {
    "collapsed": false
   },
   "outputs": [
    {
     "data": {
      "text/plain": [
       "IL    14040\n",
       "TX     6130\n",
       "GA     5818\n",
       "AZ     4467\n",
       "WA     2176\n",
       "Name: LOC_STATE, dtype: int64"
      ]
     },
     "execution_count": 90,
     "metadata": {},
     "output_type": "execute_result"
    }
   ],
   "source": [
    "current[current.HUBIND=='Y'].LOC_STATE.value_counts()"
   ]
  },
  {
   "cell_type": "code",
   "execution_count": 91,
   "metadata": {
    "collapsed": false
   },
   "outputs": [
    {
     "name": "stdout",
     "output_type": "stream",
     "text": [
      "n=76368, number of events=31927\n",
      "\n",
      "                       coef  exp(coef)  se(coef)          z          p  lower 0.95  upper 0.95     \n",
      "Age_years        -9.386e-01  3.912e-01 1.023e-02 -9.175e+01  0.000e+00  -9.587e-01  -9.185e-01  ***\n",
      "SAL1             -1.115e+00  3.278e-01 1.479e-02 -7.539e+01  0.000e+00  -1.144e+00  -1.086e+00  ***\n",
      "MERIT1            2.742e-01  1.315e+00 6.343e-03  4.323e+01  0.000e+00   2.618e-01   2.866e-01  ***\n",
      "PERF1            -1.016e-01  9.034e-01 1.240e-02 -8.195e+00  2.514e-16  -1.259e-01  -7.730e-02  ***\n",
      "BOX1             -4.839e-01  6.164e-01 6.824e-03 -7.090e+01  0.000e+00  -4.972e-01  -4.705e-01  ***\n",
      "SEX               1.643e-01  1.179e+00 6.098e-03  2.695e+01 5.826e-160   1.524e-01   1.763e-01  ***\n",
      "HAVE_INS         -3.066e-01  7.359e-01 9.072e-03 -3.380e+01 1.975e-250  -3.244e-01  -2.888e-01  ***\n",
      "HAVE_DEP         -2.326e-01  7.925e-01 1.147e-02 -2.027e+01  2.258e-91  -2.550e-01  -2.101e-01  ***\n",
      "DEPTCNT1         -3.471e-01  7.068e-01 9.569e-03 -3.627e+01 4.495e-288  -3.658e-01  -3.283e-01  ***\n",
      "EXTFUNC_CNT       9.591e-02  1.101e+00 5.597e-03  1.713e+01  8.204e-66   8.494e-02   1.069e-01  ***\n",
      "FUNC_CNT         -1.504e-01  8.603e-01 8.158e-03 -1.844e+01  6.098e-76  -1.664e-01  -1.344e-01  ***\n",
      "REMOTE           -1.546e-01  8.567e-01 1.116e-02 -1.386e+01  1.179e-43  -1.765e-01  -1.328e-01  ***\n",
      "DIRECT_RPT_CNT    1.569e-01  1.170e+00 3.968e-03  3.955e+01  0.000e+00   1.491e-01   1.647e-01  ***\n",
      "HUBIND           -8.338e-02  9.200e-01 6.762e-03 -1.233e+01  6.280e-35  -9.663e-02  -7.012e-02  ***\n",
      "REH_CNT          -2.330e-01  7.921e-01 6.523e-03 -3.572e+01 1.758e-279  -2.458e-01  -2.202e-01  ***\n",
      "JOB_FUNCTION_PSA -7.550e-02  9.273e-01 6.798e-03 -1.111e+01  1.179e-28  -8.883e-02  -6.217e-02  ***\n",
      "---\n",
      "Signif. codes:  0 '***' 0.001 '**' 0.01 '*' 0.05 '.' 0.1 ' ' 1 \n",
      "\n",
      "Concordance = 0.887\n"
     ]
    }
   ],
   "source": [
    "sep_mdl.print_summary()"
   ]
  },
  {
   "cell_type": "code",
   "execution_count": 94,
   "metadata": {
    "collapsed": false
   },
   "outputs": [
    {
     "data": {
      "text/plain": [
       "1.0"
      ]
     },
     "execution_count": 94,
     "metadata": {},
     "output_type": "execute_result"
    }
   ],
   "source": [
    "np.exp(0)"
   ]
  },
  {
   "cell_type": "code",
   "execution_count": 95,
   "metadata": {
    "collapsed": false
   },
   "outputs": [
    {
     "data": {
      "text/plain": [
       "6133    6088\n",
       "4887    4858\n",
       "2592    2587\n",
       "2470    2462\n",
       "2235    2221\n",
       "1827    1823\n",
       "1756    1729\n",
       "1637    1636\n",
       "1524    1507\n",
       "1372    1352\n",
       "1340    1332\n",
       "1269    1268\n",
       "1200    1198\n",
       "1154    1144\n",
       "1134    1127\n",
       "1107    1094\n",
       "1074    1070\n",
       "952      946\n",
       "458      915\n",
       "878      876\n",
       "867      865\n",
       "855      836\n",
       "839      832\n",
       "789      783\n",
       "781      780\n",
       "763      761\n",
       "368      732\n",
       "709      703\n",
       "679      661\n",
       "644      639\n",
       "        ... \n",
       "15        59\n",
       "58        58\n",
       "27        57\n",
       "57        57\n",
       "55        55\n",
       "18        53\n",
       "53        53\n",
       "50        50\n",
       "24        47\n",
       "45        45\n",
       "65        45\n",
       "47        45\n",
       "36        36\n",
       "34        34\n",
       "46        27\n",
       "13        26\n",
       "8         24\n",
       "23        23\n",
       "6         21\n",
       "22        18\n",
       "28        18\n",
       "17        17\n",
       "35        16\n",
       "14        14\n",
       "11        11\n",
       "2          8\n",
       "7          6\n",
       "4          6\n",
       "3          4\n",
       "1          4\n",
       "Name: EXTFUNC_CNT, dtype: int64"
      ]
     },
     "execution_count": 95,
     "metadata": {},
     "output_type": "execute_result"
    }
   ],
   "source": [
    "current.EXTFUNC_CNT.value_counts()"
   ]
  },
  {
   "cell_type": "code",
   "execution_count": null,
   "metadata": {
    "collapsed": true
   },
   "outputs": [],
   "source": []
  }
 ],
 "metadata": {
  "kernelspec": {
   "display_name": "Python 3",
   "language": "python",
   "name": "python3"
  },
  "language_info": {
   "codemirror_mode": {
    "name": "ipython",
    "version": 3
   },
   "file_extension": ".py",
   "mimetype": "text/x-python",
   "name": "python",
   "nbconvert_exporter": "python",
   "pygments_lexer": "ipython3",
   "version": "3.5.1"
  }
 },
 "nbformat": 4,
 "nbformat_minor": 0
}
