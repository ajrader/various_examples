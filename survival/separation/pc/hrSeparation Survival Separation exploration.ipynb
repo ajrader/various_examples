{
 "cells": [
  {
   "cell_type": "markdown",
   "metadata": {},
   "source": [
    "## looking at different ways to deal with survival analysis\n",
    "# HR SEPARATION\n",
    "DECEMBER 31, 2015"
   ]
  },
  {
   "cell_type": "code",
   "execution_count": 4,
   "metadata": {
    "collapsed": false
   },
   "outputs": [],
   "source": [
    "### load the basic files\n",
    "import os,subprocess,sys\n",
    "import pandas as pd\n",
    "import numpy as np\n",
    "%matplotlib inline\n",
    "from datetime import datetime\n",
    "import matplotlib.pyplot as plt\n",
    "from itertools import chain\n",
    "import random\n",
    "import seaborn as sns\n",
    "from glob import glob\n",
    "plt.style.use('ggplot')\n",
    "from sklearn import cross_validation"
   ]
  },
  {
   "cell_type": "code",
   "execution_count": 5,
   "metadata": {
    "collapsed": true
   },
   "outputs": [],
   "source": [
    "os.chdir('../../../projects/HRattrition/reduced')"
   ]
  },
  {
   "cell_type": "code",
   "execution_count": 6,
   "metadata": {
    "collapsed": false
   },
   "outputs": [
    {
     "name": "stdout",
     "output_type": "stream",
     "text": [
      "(134266, 69)\n"
     ]
    }
   ],
   "source": [
    "em2002 = pd.read_csv('after2001_v3.csv',dtype={'EEO1CODE':np.str,'EMPL_CLASS':np.str})\n",
    "print em2002.shape\n",
    "all_cols = em2002.columns.tolist()"
   ]
  },
  {
   "cell_type": "code",
   "execution_count": 7,
   "metadata": {
    "collapsed": true
   },
   "outputs": [],
   "source": [
    "os.chdir('../../../../code/')\n",
    "import bear.bear as br\n",
    "os.chdir('../Documents/projects/HRattrition/reduced')\n"
   ]
  },
  {
   "cell_type": "code",
   "execution_count": 8,
   "metadata": {
    "collapsed": false
   },
   "outputs": [],
   "source": [
    "col_categorical = br.get_categorical(em2002)"
   ]
  },
  {
   "cell_type": "code",
   "execution_count": 9,
   "metadata": {
    "collapsed": false
   },
   "outputs": [
    {
     "name": "stdout",
     "output_type": "stream",
     "text": [
      "14 55\n"
     ]
    }
   ],
   "source": [
    "col_numeric = br.get_numeric(em2002)\n",
    "print len(col_categorical),len(col_numeric)"
   ]
  },
  {
   "cell_type": "code",
   "execution_count": 10,
   "metadata": {
    "collapsed": false
   },
   "outputs": [
    {
     "name": "stdout",
     "output_type": "stream",
     "text": [
      "EEO1CODE 10\n",
      "birth_tstmp 20171\n",
      "FULL_PART_TIME 4\n",
      "EMPL_CLASS 6\n",
      "FLSA_STATUS 3\n",
      "LOC_STATE 52\n",
      "GRADE 125\n",
      "JOB_FAMILY 1448\n",
      "hire_tstmp 8881\n",
      "LOCATION 13030\n",
      "term_tstmp 4353\n",
      "JOB_FUNCTION 19\n",
      "EMPL_TYPE 5\n",
      "LOC_TYPE_DESCR_SFI 31\n",
      "============\n",
      "COMPANY 6\n",
      "DIVISION_CODE_SFI 9\n",
      "ETHNIC_GROUP 8\n",
      "EXT_FUNC_ID_SFI 338\n",
      "FUNC_ID_SFI 53\n",
      "JOBCODE 2589\n"
     ]
    }
   ],
   "source": [
    "for c in col_categorical: #cat_cols:\n",
    "    nobs = len(em2002[c].unique())\n",
    "    #if nobs == 2:\n",
    "        #indicator_cols.append(c)\n",
    "    #else:\n",
    "    print c, nobs\n",
    "    #    cat_cols2.append(c)\n",
    "print \"============\"\n",
    "numeric_to_categorical = ['COMPANY','DIVISION_CODE_SFI','ETHNIC_GROUP','EXT_FUNC_ID_SFI','FUNC_ID_SFI','JOBCODE']\n",
    "for c in numeric_to_categorical:\n",
    "    print c, len(em2002[c].unique())"
   ]
  },
  {
   "cell_type": "code",
   "execution_count": 11,
   "metadata": {
    "collapsed": false
   },
   "outputs": [
    {
     "data": {
      "text/plain": [
       "<matplotlib.text.Text at 0x23866c50>"
      ]
     },
     "execution_count": 11,
     "metadata": {},
     "output_type": "execute_result"
    },
    {
     "name": "stderr",
     "output_type": "stream",
     "text": [
      "C:\\Anaconda\\lib\\site-packages\\matplotlib\\collections.py:590: FutureWarning: elementwise comparison failed; returning scalar instead, but in the future will perform elementwise comparison\n",
      "  if self._edgecolors == str('face'):\n"
     ]
    },
    {
     "data": {
      "image/png": "[encoded data removed]",
      "text/plain": [
       "<matplotlib.figure.Figure at 0x238464e0>"
      ]
     },
     "metadata": {},
     "output_type": "display_data"
    }
   ],
   "source": [
    "#xvals = em2002.EXT_FUNC_ID_SFI.values.unique()\n",
    "\n",
    "plt.scatter(em2002.EXT_FUNC_ID_SFI.values,em2002.FUNC_ID_SFI.values,alpha=0.3,color='darkgoldenrod')\n",
    "plt.xlim(0,1010)\n",
    "plt.ylim(0,1810)\n",
    "plt.xlabel('EXT_FUNC_ID_SFI')\n",
    "plt.ylabel('FUNC_ID_SFI')\n"
   ]
  },
  {
   "cell_type": "code",
   "execution_count": 12,
   "metadata": {
    "collapsed": false
   },
   "outputs": [
    {
     "data": {
      "text/plain": [
       "(338, 53)"
      ]
     },
     "execution_count": 12,
     "metadata": {},
     "output_type": "execute_result"
    }
   ],
   "source": [
    "em2002.EXT_FUNC_ID_SFI.nunique(), em2002.FUNC_ID_SFI.nunique()"
   ]
  },
  {
   "cell_type": "code",
   "execution_count": 13,
   "metadata": {
    "collapsed": false
   },
   "outputs": [
    {
     "data": {
      "text/plain": [
       "(2589, 9999)"
      ]
     },
     "execution_count": 13,
     "metadata": {},
     "output_type": "execute_result"
    }
   ],
   "source": [
    "em2002.JOBCODE.nunique(), em2002.JOBCODE.max()"
   ]
  },
  {
   "cell_type": "code",
   "execution_count": 14,
   "metadata": {
    "collapsed": false
   },
   "outputs": [
    {
     "data": {
      "text/plain": [
       "[9944L, 9945L, 9949L, 9964L, 9965L, 9968L, 9972L, 9973L, 9974L, 9999L]"
      ]
     },
     "execution_count": 14,
     "metadata": {},
     "output_type": "execute_result"
    }
   ],
   "source": [
    "unique_jobcodes = em2002.JOBCODE.unique().tolist()\n",
    "unique_jobcodes.sort()\n",
    "unique_jobcodes[-10:]"
   ]
  },
  {
   "cell_type": "markdown",
   "metadata": {},
   "source": [
    "## December 31, 2015\n",
    "\n",
    "* The extended Functions (EXT_FUNC_ID_SFI) Jeff Briks is interested in are:\n",
    "    * CCC Sales (00892)\n",
    "    * CCC Service (00071)\n",
    "    * Life Health Response Center (00816)\n",
    "    * Enterprise Auto Express (00909)\n",
    "    * Enterprise ILR (00910)\n",
    "    * State Farm Bank (00517)\n",
    "    * SFPP (00835)\n",
    "* The jobs (JOBCODES) he is interested in are these:\n",
    "    * CCC Service Rep (6200)\n",
    "    * CCC Sales Rep (1876)\n",
    "    * Life Customer Service Asst (2638, 2639, & 2641)\n",
    "    * Claim Associate-Express (0983 & 0984)\n",
    "    * Claim Associate-ILR (1009)\n",
    "    * Claim Team Manager – ILR (0986)\n",
    "    * Bank Customer Service Rep (0851, 852, & 0853)\n",
    "    * SFPP Account Rep (4105)\n",
    "\n",
    "I need to make sure that I keep these columns around\n",
    "\n"
   ]
  },
  {
   "cell_type": "code",
   "execution_count": 15,
   "metadata": {
    "collapsed": false
   },
   "outputs": [
    {
     "data": {
      "text/plain": [
       "{71: 'CCC Service',\n",
       " 517: 'State Farm Bank',\n",
       " 816: 'Life Health Response Center',\n",
       " 835: 'SFPP',\n",
       " 892: 'CCC Sales',\n",
       " 909: 'Enterprise Auto Express',\n",
       " 910: 'Enterprise ILR'}"
      ]
     },
     "execution_count": 15,
     "metadata": {},
     "output_type": "execute_result"
    }
   ],
   "source": [
    "#interesting_extended_functions = [892,71, 816, 909,910,517,835]\n",
    "extFuncDict ={}\n",
    "extFuncDict[892]='CCC Sales'\n",
    "extFuncDict[71]='CCC Service'\n",
    "extFuncDict[816]='Life Health Response Center'\n",
    "#(00816)\n",
    "extFuncDict[909]='Enterprise Auto Express'\n",
    "extFuncDict[910]='Enterprise ILR' \n",
    "extFuncDict[517]='State Farm Bank'\n",
    "extFuncDict[835]='SFPP'\n",
    "interesting_extended_functions = extFuncDict.keys()\n",
    "extFuncDict"
   ]
  },
  {
   "cell_type": "code",
   "execution_count": null,
   "metadata": {
    "collapsed": true
   },
   "outputs": [],
   "source": []
  },
  {
   "cell_type": "code",
   "execution_count": 71,
   "metadata": {
    "collapsed": false
   },
   "outputs": [
    {
     "data": {
      "text/plain": [
       "<lifelines.KaplanMeierFitter: fitted with 134266 observations, 84592 censored>"
      ]
     },
     "execution_count": 71,
     "metadata": {},
     "output_type": "execute_result"
    }
   ],
   "source": [
    "from lifelines import KaplanMeierFitter\n",
    "kmf=KaplanMeierFitter()\n",
    "\n",
    "\n",
    "kmf.fit(em2002['Tenure_years'],event_observed=em2002['former'],label='all')\n",
    "    #survivalfunc_df = pd.DataFrame(kmf.survival_function_)"
   ]
  },
  {
   "cell_type": "code",
   "execution_count": 17,
   "metadata": {
    "collapsed": false
   },
   "outputs": [
    {
     "data": {
      "image/png": "[encoded data removed]",
      "text/plain": [
       "<matplotlib.figure.Figure at 0x238348d0>"
      ]
     },
     "metadata": {},
     "output_type": "display_data"
    }
   ],
   "source": [
    "kmf.survival_function_.plot()\n",
    "plt.title('Survival function of employees since 2002');"
   ]
  },
  {
   "cell_type": "code",
   "execution_count": 72,
   "metadata": {
    "collapsed": false
   },
   "outputs": [
    {
     "data": {
      "image/png": "[encoded data removed]",
      "text/plain": [
       "<matplotlib.figure.Figure at 0x238f34a8>"
      ]
     },
     "metadata": {},
     "output_type": "display_data"
    }
   ],
   "source": [
    "kmf.plot()\n",
    "plt.title('Survival function of employees since 2002')\n",
    "plt.xlabel('Tenure (years)')\n",
    "plt.ylabel('Survival Function');"
   ]
  },
  {
   "cell_type": "code",
   "execution_count": 73,
   "metadata": {
    "collapsed": false
   },
   "outputs": [
    {
     "data": {
      "text/plain": [
       "34.532511978099997"
      ]
     },
     "execution_count": 73,
     "metadata": {},
     "output_type": "execute_result"
    }
   ],
   "source": [
    "kmf.median_"
   ]
  },
  {
   "cell_type": "code",
   "execution_count": 76,
   "metadata": {
    "collapsed": false
   },
   "outputs": [
    {
     "data": {
      "text/html": [
       "<div>\n",
       "<table border=\"1\" class=\"dataframe\">\n",
       "  <thead>\n",
       "    <tr style=\"text-align: right;\">\n",
       "      <th></th>\n",
       "      <th>all</th>\n",
       "    </tr>\n",
       "    <tr>\n",
       "      <th>timeline</th>\n",
       "      <th></th>\n",
       "    </tr>\n",
       "  </thead>\n",
       "  <tbody>\n",
       "    <tr>\n",
       "      <th>34.532512</th>\n",
       "      <td>0.499986</td>\n",
       "    </tr>\n",
       "    <tr>\n",
       "      <th>34.535250</th>\n",
       "      <td>0.499986</td>\n",
       "    </tr>\n",
       "    <tr>\n",
       "      <th>34.537988</th>\n",
       "      <td>0.499986</td>\n",
       "    </tr>\n",
       "    <tr>\n",
       "      <th>34.540726</th>\n",
       "      <td>0.499986</td>\n",
       "    </tr>\n",
       "    <tr>\n",
       "      <th>34.543463</th>\n",
       "      <td>0.499986</td>\n",
       "    </tr>\n",
       "    <tr>\n",
       "      <th>34.546201</th>\n",
       "      <td>0.499877</td>\n",
       "    </tr>\n",
       "    <tr>\n",
       "      <th>34.548939</th>\n",
       "      <td>0.499877</td>\n",
       "    </tr>\n",
       "    <tr>\n",
       "      <th>34.554415</th>\n",
       "      <td>0.499877</td>\n",
       "    </tr>\n",
       "    <tr>\n",
       "      <th>34.557153</th>\n",
       "      <td>0.499877</td>\n",
       "    </tr>\n",
       "    <tr>\n",
       "      <th>34.559890</th>\n",
       "      <td>0.499823</td>\n",
       "    </tr>\n",
       "    <tr>\n",
       "      <th>34.562628</th>\n",
       "      <td>0.499823</td>\n",
       "    </tr>\n",
       "    <tr>\n",
       "      <th>34.565366</th>\n",
       "      <td>0.499768</td>\n",
       "    </tr>\n",
       "    <tr>\n",
       "      <th>34.568104</th>\n",
       "      <td>0.499768</td>\n",
       "    </tr>\n",
       "    <tr>\n",
       "      <th>34.570842</th>\n",
       "      <td>0.499768</td>\n",
       "    </tr>\n",
       "    <tr>\n",
       "      <th>34.573580</th>\n",
       "      <td>0.499713</td>\n",
       "    </tr>\n",
       "    <tr>\n",
       "      <th>34.576318</th>\n",
       "      <td>0.499713</td>\n",
       "    </tr>\n",
       "    <tr>\n",
       "      <th>34.579055</th>\n",
       "      <td>0.499713</td>\n",
       "    </tr>\n",
       "    <tr>\n",
       "      <th>34.581793</th>\n",
       "      <td>0.499658</td>\n",
       "    </tr>\n",
       "    <tr>\n",
       "      <th>34.584531</th>\n",
       "      <td>0.499658</td>\n",
       "    </tr>\n",
       "    <tr>\n",
       "      <th>34.587269</th>\n",
       "      <td>0.499658</td>\n",
       "    </tr>\n",
       "    <tr>\n",
       "      <th>34.590007</th>\n",
       "      <td>0.499658</td>\n",
       "    </tr>\n",
       "    <tr>\n",
       "      <th>34.592745</th>\n",
       "      <td>0.499658</td>\n",
       "    </tr>\n",
       "    <tr>\n",
       "      <th>34.595483</th>\n",
       "      <td>0.499658</td>\n",
       "    </tr>\n",
       "    <tr>\n",
       "      <th>34.598220</th>\n",
       "      <td>0.499658</td>\n",
       "    </tr>\n",
       "    <tr>\n",
       "      <th>34.600958</th>\n",
       "      <td>0.499658</td>\n",
       "    </tr>\n",
       "    <tr>\n",
       "      <th>34.603696</th>\n",
       "      <td>0.499603</td>\n",
       "    </tr>\n",
       "    <tr>\n",
       "      <th>34.606434</th>\n",
       "      <td>0.499603</td>\n",
       "    </tr>\n",
       "    <tr>\n",
       "      <th>34.611910</th>\n",
       "      <td>0.499603</td>\n",
       "    </tr>\n",
       "    <tr>\n",
       "      <th>34.614648</th>\n",
       "      <td>0.499603</td>\n",
       "    </tr>\n",
       "    <tr>\n",
       "      <th>34.617385</th>\n",
       "      <td>0.499603</td>\n",
       "    </tr>\n",
       "    <tr>\n",
       "      <th>...</th>\n",
       "      <td>...</td>\n",
       "    </tr>\n",
       "    <tr>\n",
       "      <th>50.663929</th>\n",
       "      <td>0.443203</td>\n",
       "    </tr>\n",
       "    <tr>\n",
       "      <th>50.891170</th>\n",
       "      <td>0.443203</td>\n",
       "    </tr>\n",
       "    <tr>\n",
       "      <th>50.992471</th>\n",
       "      <td>0.443203</td>\n",
       "    </tr>\n",
       "    <tr>\n",
       "      <th>51.063655</th>\n",
       "      <td>0.443203</td>\n",
       "    </tr>\n",
       "    <tr>\n",
       "      <th>51.071869</th>\n",
       "      <td>0.426789</td>\n",
       "    </tr>\n",
       "    <tr>\n",
       "      <th>51.236140</th>\n",
       "      <td>0.426789</td>\n",
       "    </tr>\n",
       "    <tr>\n",
       "      <th>51.329227</th>\n",
       "      <td>0.426789</td>\n",
       "    </tr>\n",
       "    <tr>\n",
       "      <th>51.466119</th>\n",
       "      <td>0.426789</td>\n",
       "    </tr>\n",
       "    <tr>\n",
       "      <th>51.542779</th>\n",
       "      <td>0.426789</td>\n",
       "    </tr>\n",
       "    <tr>\n",
       "      <th>52.095825</th>\n",
       "      <td>0.426789</td>\n",
       "    </tr>\n",
       "    <tr>\n",
       "      <th>52.180698</th>\n",
       "      <td>0.426789</td>\n",
       "    </tr>\n",
       "    <tr>\n",
       "      <th>52.323066</th>\n",
       "      <td>0.426789</td>\n",
       "    </tr>\n",
       "    <tr>\n",
       "      <th>52.807666</th>\n",
       "      <td>0.426789</td>\n",
       "    </tr>\n",
       "    <tr>\n",
       "      <th>53.415469</th>\n",
       "      <td>0.426789</td>\n",
       "    </tr>\n",
       "    <tr>\n",
       "      <th>53.514031</th>\n",
       "      <td>0.426789</td>\n",
       "    </tr>\n",
       "    <tr>\n",
       "      <th>53.571526</th>\n",
       "      <td>0.426789</td>\n",
       "    </tr>\n",
       "    <tr>\n",
       "      <th>53.667351</th>\n",
       "      <td>0.426789</td>\n",
       "    </tr>\n",
       "    <tr>\n",
       "      <th>53.878166</th>\n",
       "      <td>0.426789</td>\n",
       "    </tr>\n",
       "    <tr>\n",
       "      <th>54.431211</th>\n",
       "      <td>0.426789</td>\n",
       "    </tr>\n",
       "    <tr>\n",
       "      <th>54.557153</th>\n",
       "      <td>0.426789</td>\n",
       "    </tr>\n",
       "    <tr>\n",
       "      <th>54.781656</th>\n",
       "      <td>0.426789</td>\n",
       "    </tr>\n",
       "    <tr>\n",
       "      <th>55.028063</th>\n",
       "      <td>0.426789</td>\n",
       "    </tr>\n",
       "    <tr>\n",
       "      <th>56.700890</th>\n",
       "      <td>0.426789</td>\n",
       "    </tr>\n",
       "    <tr>\n",
       "      <th>57.232033</th>\n",
       "      <td>0.426789</td>\n",
       "    </tr>\n",
       "    <tr>\n",
       "      <th>57.366188</th>\n",
       "      <td>0.426789</td>\n",
       "    </tr>\n",
       "    <tr>\n",
       "      <th>58.039699</th>\n",
       "      <td>0.426789</td>\n",
       "    </tr>\n",
       "    <tr>\n",
       "      <th>58.535250</th>\n",
       "      <td>0.426789</td>\n",
       "    </tr>\n",
       "    <tr>\n",
       "      <th>59.649555</th>\n",
       "      <td>0.426789</td>\n",
       "    </tr>\n",
       "    <tr>\n",
       "      <th>61.579740</th>\n",
       "      <td>0.426789</td>\n",
       "    </tr>\n",
       "    <tr>\n",
       "      <th>65.125257</th>\n",
       "      <td>0.426789</td>\n",
       "    </tr>\n",
       "  </tbody>\n",
       "</table>\n",
       "<p>3209 rows × 1 columns</p>\n",
       "</div>"
      ],
      "text/plain": [
       "                all\n",
       "timeline           \n",
       "34.532512  0.499986\n",
       "34.535250  0.499986\n",
       "34.537988  0.499986\n",
       "34.540726  0.499986\n",
       "34.543463  0.499986\n",
       "34.546201  0.499877\n",
       "34.548939  0.499877\n",
       "34.554415  0.499877\n",
       "34.557153  0.499877\n",
       "34.559890  0.499823\n",
       "34.562628  0.499823\n",
       "34.565366  0.499768\n",
       "34.568104  0.499768\n",
       "34.570842  0.499768\n",
       "34.573580  0.499713\n",
       "34.576318  0.499713\n",
       "34.579055  0.499713\n",
       "34.581793  0.499658\n",
       "34.584531  0.499658\n",
       "34.587269  0.499658\n",
       "34.590007  0.499658\n",
       "34.592745  0.499658\n",
       "34.595483  0.499658\n",
       "34.598220  0.499658\n",
       "34.600958  0.499658\n",
       "34.603696  0.499603\n",
       "34.606434  0.499603\n",
       "34.611910  0.499603\n",
       "34.614648  0.499603\n",
       "34.617385  0.499603\n",
       "...             ...\n",
       "50.663929  0.443203\n",
       "50.891170  0.443203\n",
       "50.992471  0.443203\n",
       "51.063655  0.443203\n",
       "51.071869  0.426789\n",
       "51.236140  0.426789\n",
       "51.329227  0.426789\n",
       "51.466119  0.426789\n",
       "51.542779  0.426789\n",
       "52.095825  0.426789\n",
       "52.180698  0.426789\n",
       "52.323066  0.426789\n",
       "52.807666  0.426789\n",
       "53.415469  0.426789\n",
       "53.514031  0.426789\n",
       "53.571526  0.426789\n",
       "53.667351  0.426789\n",
       "53.878166  0.426789\n",
       "54.431211  0.426789\n",
       "54.557153  0.426789\n",
       "54.781656  0.426789\n",
       "55.028063  0.426789\n",
       "56.700890  0.426789\n",
       "57.232033  0.426789\n",
       "57.366188  0.426789\n",
       "58.039699  0.426789\n",
       "58.535250  0.426789\n",
       "59.649555  0.426789\n",
       "61.579740  0.426789\n",
       "65.125257  0.426789\n",
       "\n",
       "[3209 rows x 1 columns]"
      ]
     },
     "execution_count": 76,
     "metadata": {},
     "output_type": "execute_result"
    }
   ],
   "source": [
    "kmf.survival_function_[(kmf.survival_function_<0.5).values]"
   ]
  },
  {
   "cell_type": "markdown",
   "metadata": {},
   "source": [
    "## now explore the differences between these EXT_FUNC_ID_SFI values"
   ]
  },
  {
   "cell_type": "code",
   "execution_count": 20,
   "metadata": {
    "collapsed": true
   },
   "outputs": [],
   "source": [
    "T = em2002['Tenure_years'] #duration\n",
    "C = em2002['former'] # observation"
   ]
  },
  {
   "cell_type": "code",
   "execution_count": 21,
   "metadata": {
    "collapsed": false
   },
   "outputs": [
    {
     "data": {
      "text/plain": [
       "[(835, 'SFPP'),\n",
       " (517, 'State Farm Bank'),\n",
       " (71, 'CCC Service'),\n",
       " (909, 'Enterprise Auto Express'),\n",
       " (910, 'Enterprise ILR'),\n",
       " (816, 'Life Health Response Center'),\n",
       " (892, 'CCC Sales')]"
      ]
     },
     "execution_count": 21,
     "metadata": {},
     "output_type": "execute_result"
    }
   ],
   "source": [
    "extFuncDict.items()"
   ]
  },
  {
   "cell_type": "code",
   "execution_count": 22,
   "metadata": {
    "collapsed": false
   },
   "outputs": [
    {
     "data": {
      "image/png": "[encoded data removed]",
      "text/plain": [
       "<matplotlib.figure.Figure at 0x241a2080>"
      ]
     },
     "metadata": {},
     "output_type": "display_data"
    }
   ],
   "source": [
    "ax=plt.subplot(111)\n",
    "#gp = []\n",
    "#gpName=[]\n",
    "#[gpName.append(v) for v in extFuncDict.itervalues()]\n",
    "for k,v in extFuncDict.items():\n",
    "    gp=(em2002['EXT_FUNC_ID_SFI']==k)\n",
    "    #gpName.append(v)\n",
    "    kmf.fit(T[gp],event_observed=C[gp],label=v)\n",
    "    kmf.plot(ax=ax,ci_force_lines=True)"
   ]
  },
  {
   "cell_type": "code",
   "execution_count": 77,
   "metadata": {
    "collapsed": false
   },
   "outputs": [
    {
     "name": "stdout",
     "output_type": "stream",
     "text": [
      "Median survival tenure of SFPP is : 8.14784394251\n",
      "Median survival tenure of State Farm Bank is : 7.77275838467\n",
      "Median survival tenure of CCC Service is : 1.45927446954\n",
      "Median survival tenure of Enterprise Auto Express is : inf\n",
      "Median survival tenure of Enterprise ILR is : inf\n",
      "Median survival tenure of Life Health Response Center is : 4.79397672827\n",
      "Median survival tenure of CCC Sales is : 2.09993155373\n"
     ]
    },
    {
     "data": {
      "image/png": "[encoded data removed]",
      "text/plain": [
       "<matplotlib.figure.Figure at 0x238cbe10>"
      ]
     },
     "metadata": {},
     "output_type": "display_data"
    }
   ],
   "source": [
    "ax = plt.subplot(111)\n",
    "\n",
    "t = np.linspace(0,50,51)\n",
    "for k,v in extFuncDict.items():\n",
    "    gp=(em2002['EXT_FUNC_ID_SFI']==k)\n",
    "    #gpName.append(v)\n",
    "    kmf.fit(T[gp],event_observed=C[gp],label=v)\n",
    "    kmf.plot(ax=ax)\n",
    "    \n",
    "    print \"Median survival tenure of {0} is : {1}\".format(v,kmf.median_)\n",
    "\n",
    "\n",
    "plt.ylim(0,1)\n",
    "plt.xlabel('Tenure (years)')\n",
    "plt.ylabel('Survival Function')\n",
    "#plt.title(\"Lifespans of different global regimes\");"
   ]
  },
  {
   "cell_type": "code",
   "execution_count": 24,
   "metadata": {
    "collapsed": false
   },
   "outputs": [
    {
     "data": {
      "image/png": "[encoded data removed]",
      "text/plain": [
       "<matplotlib.figure.Figure at 0x25465898>"
      ]
     },
     "metadata": {},
     "output_type": "display_data"
    }
   ],
   "source": [
    "#regime_types = data['regime'].unique()\n",
    "i=0\n",
    "for k,v in extFuncDict.items():\n",
    "    ax = plt.subplot(3,3,i+1)\n",
    "    ix = em2002['EXT_FUNC_ID_SFI'] == k\n",
    "    kmf.fit( T[ix], C[ix], label=v )\n",
    "    kmf.plot(ax=ax, legend=False)\n",
    "    plt.title(v)\n",
    "    plt.xlim(0,50)\n",
    "    plt.ylim(0,1.0)\n",
    "    if i==3:\n",
    "        plt.ylabel('Frac. employeed after $n$ years')\n",
    "    i+=1\n",
    "plt.tight_layout()"
   ]
  },
  {
   "cell_type": "code",
   "execution_count": 79,
   "metadata": {
    "collapsed": false
   },
   "outputs": [
    {
     "data": {
      "text/plain": [
       "[(835, 'SFPP'),\n",
       " (517, 'State Farm Bank'),\n",
       " (71, 'CCC Service'),\n",
       " (909, 'Enterprise Auto Express'),\n",
       " (910, 'Enterprise ILR'),\n",
       " (816, 'Life Health Response Center'),\n",
       " (892, 'CCC Sales')]"
      ]
     },
     "execution_count": 79,
     "metadata": {},
     "output_type": "execute_result"
    }
   ],
   "source": [
    "extFuncDict.items()"
   ]
  },
  {
   "cell_type": "code",
   "execution_count": 26,
   "metadata": {
    "collapsed": false
   },
   "outputs": [
    {
     "data": {
      "text/plain": [
       "835    1991\n",
       "517    2936\n",
       "71     6536\n",
       "909    3193\n",
       "910    3278\n",
       "816    1045\n",
       "892    3364\n",
       "Name: EXT_FUNC_ID_SFI, dtype: int64"
      ]
     },
     "execution_count": 26,
     "metadata": {},
     "output_type": "execute_result"
    }
   ],
   "source": [
    "em2002.EXT_FUNC_ID_SFI.value_counts()[extFuncDict.keys()]"
   ]
  },
  {
   "cell_type": "markdown",
   "metadata": {},
   "source": [
    "### similarly explore the JOBCODES of interest"
   ]
  },
  {
   "cell_type": "code",
   "execution_count": 82,
   "metadata": {
    "collapsed": true
   },
   "outputs": [],
   "source": [
    "interesting_jobs_name_list = ['CCC Service Rep', 'CCC Sales Rep', 'Life Customer Service Asst', \n",
    "                             'Claim Associate-Express','Claim Associate-ILR','Claim Team Manager-ILR',\n",
    "                             'Bank Customer Service Rep','SFPP Account Rep']\n",
    "invJobCodeDict = {}\n",
    "invJobCodeDict['CCC Service Rep'] = [6200]\n",
    "invJobCodeDict['CCC Sales Rep'] = [1876]\n",
    "invJobCodeDict['Life Customer Service Asst'] = [2638,2639,2641]\n",
    "invJobCodeDict['Claim Associate-Express'] = [983,984]\n",
    "invJobCodeDict['Claim Associate-ILR'] = [1009]\n",
    "invJobCodeDict['Claim Team Manager-ILR'] = [986]\n",
    "invJobCodeDict['Bank Customer Service Rep'] = [851,852,853]\n",
    "invJobCodeDict['SFPP Account Rep'] = [4105]#2638,2639,2641]\n",
    "\n"
   ]
  },
  {
   "cell_type": "code",
   "execution_count": 85,
   "metadata": {
    "collapsed": false
   },
   "outputs": [
    {
     "name": "stdout",
     "output_type": "stream",
     "text": [
      "Median survival tenure of CCC Service Rep is : 1.17453798768\n",
      "Median survival tenure of Claim Associate-ILR is : 1.61259411362\n",
      "Median survival tenure of Claim Team Manager-ILR is : inf\n",
      "Median survival tenure of CCC Sales Rep is : 1.73032169747\n",
      "Median survival tenure of Claim Associate-Express is : 23.9260780287\n",
      "Median survival tenure of SFPP Account Rep is : 0.881587953457\n",
      "Median survival tenure of Life Customer Service Asst is : 7.1485284052\n",
      "Median survival tenure of Bank Customer Service Rep is : 3.24161533196\n"
     ]
    },
    {
     "data": {
      "text/plain": [
       "<matplotlib.text.Text at 0x22cf7470>"
      ]
     },
     "execution_count": 85,
     "metadata": {},
     "output_type": "execute_result"
    },
    {
     "data": {
      "image/png": "[encoded data removed]",
      "text/plain": [
       "<matplotlib.figure.Figure at 0x22ce2518>"
      ]
     },
     "metadata": {},
     "output_type": "display_data"
    }
   ],
   "source": [
    "ax=plt.subplot(111)\n",
    "#gp = []\n",
    "#gpName=[]\n",
    "#[gpName.append(v) for v in extFuncDict.itervalues()]\n",
    "for k,v in invJobCodeDict.items():\n",
    "    gp=(em2002['JOBCODE'].isin(v))\n",
    "    #gpName.append(v)\n",
    "    kmf.fit(T[gp],event_observed=C[gp],label=k)\n",
    "    kmf.plot(ax=ax)\n",
    "    print \"Median survival tenure of {0} is : {1}\".format(k,kmf.median_)\n",
    "    \n",
    "plt.ylim([0,1])\n",
    "plt.xlabel('Tenure (years)')\n",
    "plt.ylabel('Survival Function')"
   ]
  },
  {
   "cell_type": "code",
   "execution_count": 86,
   "metadata": {
    "collapsed": false
   },
   "outputs": [
    {
     "name": "stdout",
     "output_type": "stream",
     "text": [
      "CCC Service Rep 5857\n",
      "Claim Associate-ILR 2818\n",
      "Claim Team Manager-ILR 211\n",
      "CCC Sales Rep 3161\n",
      "Claim Associate-Express 2618\n",
      "SFPP Account Rep 845\n",
      "Life Customer Service Asst 1895\n",
      "Bank Customer Service Rep 576\n"
     ]
    }
   ],
   "source": [
    "for k,v in invJobCodeDict.items():\n",
    "    gp=(em2002['JOBCODE'].isin(v))\n",
    "    print k, sum(gp)"
   ]
  },
  {
   "cell_type": "markdown",
   "metadata": {},
   "source": [
    "## return to my idea of reducing this based upon some threshhold value"
   ]
  },
  {
   "cell_type": "code",
   "execution_count": 27,
   "metadata": {
    "collapsed": false
   },
   "outputs": [
    {
     "data": {
      "text/plain": [
       "835    0.014829\n",
       "517    0.021867\n",
       "71     0.048679\n",
       "909    0.023781\n",
       "910    0.024414\n",
       "816    0.007783\n",
       "892    0.025055\n",
       "Name: EXT_FUNC_ID_SFI, dtype: float64"
      ]
     },
     "execution_count": 27,
     "metadata": {},
     "output_type": "execute_result"
    }
   ],
   "source": [
    "em2002.EXT_FUNC_ID_SFI.value_counts()[extFuncDict.keys()]/len(em2002)"
   ]
  },
  {
   "cell_type": "code",
   "execution_count": 28,
   "metadata": {
    "collapsed": false
   },
   "outputs": [
    {
     "data": {
      "text/plain": [
       "28"
      ]
     },
     "execution_count": 28,
     "metadata": {},
     "output_type": "execute_result"
    }
   ],
   "source": [
    "sum(em2002.EXT_FUNC_ID_SFI.value_counts()>=1000)#/len(em2002)>0.005)"
   ]
  },
  {
   "cell_type": "code",
   "execution_count": 29,
   "metadata": {
    "collapsed": false
   },
   "outputs": [
    {
     "data": {
      "text/plain": [
       "939.862"
      ]
     },
     "execution_count": 29,
     "metadata": {},
     "output_type": "execute_result"
    }
   ],
   "source": [
    "0.007*len(em2002)"
   ]
  },
  {
   "cell_type": "code",
   "execution_count": 30,
   "metadata": {
    "collapsed": false
   },
   "outputs": [
    {
     "data": {
      "text/plain": [
       "0.3465359808142046"
      ]
     },
     "execution_count": 30,
     "metadata": {},
     "output_type": "execute_result"
    }
   ],
   "source": [
    "em2002.EXT_FUNC_ID_SFI.value_counts()[em2002.EXT_FUNC_ID_SFI.value_counts()<1000].sum()/float(len(em2002))"
   ]
  },
  {
   "cell_type": "markdown",
   "metadata": {},
   "source": [
    "## split em2002 into test-train split"
   ]
  },
  {
   "cell_type": "code",
   "execution_count": 31,
   "metadata": {
    "collapsed": false
   },
   "outputs": [
    {
     "name": "stdout",
     "output_type": "stream",
     "text": [
      "Starting with subset of 134266 employees.\n",
      "Evaluation set has 26854 employees; training set has 107412 employees.\n"
     ]
    }
   ],
   "source": [
    "# repeat the split\n",
    "\n",
    "# break into evaluation and build sets\n",
    "print \"Starting with subset of {0} employees.\".format(len(em2002))\n",
    "eval_fraction = 0.20\n",
    "e2build, e2eval = cross_validation.train_test_split(em2002,test_size=eval_fraction,random_state = 57843)\n",
    "print \"Evaluation set has {0} employees; training set has {1} employees.\".format(len(e2eval),len(e2build))"
   ]
  },
  {
   "cell_type": "code",
   "execution_count": 32,
   "metadata": {
    "collapsed": true
   },
   "outputs": [],
   "source": [
    "import patsy"
   ]
  },
  {
   "cell_type": "code",
   "execution_count": 33,
   "metadata": {
    "collapsed": false
   },
   "outputs": [
    {
     "data": {
      "text/html": [
       "<div>\n",
       "<table border=\"1\" class=\"dataframe\">\n",
       "  <thead>\n",
       "    <tr style=\"text-align: right;\">\n",
       "      <th>HAVE_INS</th>\n",
       "      <th>0</th>\n",
       "      <th>1</th>\n",
       "    </tr>\n",
       "    <tr>\n",
       "      <th>HAVE_DEP</th>\n",
       "      <th></th>\n",
       "      <th></th>\n",
       "    </tr>\n",
       "  </thead>\n",
       "  <tbody>\n",
       "    <tr>\n",
       "      <th>0</th>\n",
       "      <td>42598</td>\n",
       "      <td>26783</td>\n",
       "    </tr>\n",
       "    <tr>\n",
       "      <th>1</th>\n",
       "      <td>0</td>\n",
       "      <td>38031</td>\n",
       "    </tr>\n",
       "  </tbody>\n",
       "</table>\n",
       "</div>"
      ],
      "text/plain": [
       "HAVE_INS      0      1\n",
       "HAVE_DEP              \n",
       "0         42598  26783\n",
       "1             0  38031"
      ]
     },
     "execution_count": 33,
     "metadata": {},
     "output_type": "execute_result"
    }
   ],
   "source": [
    "pd.crosstab(e2build.HAVE_DEP,e2build.HAVE_INS)"
   ]
  },
  {
   "cell_type": "code",
   "execution_count": 34,
   "metadata": {
    "collapsed": true
   },
   "outputs": [],
   "source": [
    "reduced_cols = ['SAL1','HAVE_INS','MERIT1','PERF1','MIN_RT_ANNUAL','INTERN','BOX1','HAVE_DEP','Age_years','DEPENDENT_CNT','DIRECT_RPT_CNT','Tenure_years','former']"
   ]
  },
  {
   "cell_type": "code",
   "execution_count": 35,
   "metadata": {
    "collapsed": false
   },
   "outputs": [],
   "source": [
    "from lifelines import CoxPHFitter\n",
    "from lifelines.utils import k_fold_cross_validation\n"
   ]
  },
  {
   "cell_type": "code",
   "execution_count": 36,
   "metadata": {
    "collapsed": false
   },
   "outputs": [
    {
     "name": "stdout",
     "output_type": "stream",
     "text": [
      "Wall time: 4min 33s\n"
     ]
    },
    {
     "name": "stderr",
     "output_type": "stream",
     "text": [
      "C:\\Anaconda\\lib\\site-packages\\lifelines\\utils\\__init__.py:466: FutureWarning: sort(columns=....) is deprecated, use sort_values(by=.....)\n",
      "  df = df.reindex(np.random.permutation(df.index)).sort(event_col)\n",
      "C:\\Anaconda\\lib\\site-packages\\lifelines\\utils\\__init__.py:471: FutureWarning: using '-' to provide set differences with Indexes is deprecated, use .difference()\n",
      "  testing_columns = df.columns - [duration_col, event_col]\n",
      "C:\\Anaconda\\lib\\site-packages\\lifelines\\fitters\\coxph_fitter.py:283: FutureWarning: sort(columns=....) is deprecated, use sort_values(by=.....)\n",
      "  df.sort(duration_col, inplace=True)\n"
     ]
    }
   ],
   "source": [
    "%%time \n",
    "cf = CoxPHFitter()\n",
    "scores = k_fold_cross_validation(cf,e2build[reduced_cols],'Tenure_years','former')"
   ]
  },
  {
   "cell_type": "code",
   "execution_count": 37,
   "metadata": {
    "collapsed": false
   },
   "outputs": [
    {
     "name": "stdout",
     "output_type": "stream",
     "text": [
      "[0.89587947426628556, 0.89456223092686316, 0.89678350044289568, 0.89612998756073248, 0.89470622264841526]\n",
      "0.895612283169\n",
      "0.00085260942999\n"
     ]
    }
   ],
   "source": [
    "print scores\n",
    "print np.mean(scores)\n",
    "print np.std(scores)"
   ]
  },
  {
   "cell_type": "code",
   "execution_count": 38,
   "metadata": {
    "collapsed": false
   },
   "outputs": [
    {
     "name": "stdout",
     "output_type": "stream",
     "text": [
      "n=85930, number of events=31798\n",
      "\n",
      "                     coef  exp(coef)  se(coef)          z          p  lower 0.95  upper 0.95     \n",
      "SAL1           -4.640e-01  6.287e-01 1.447e-02 -3.208e+01 8.895e-226  -4.924e-01  -4.357e-01  ***\n",
      "HAVE_INS       -3.306e-01  7.185e-01 8.728e-03 -3.789e+01  0.000e+00  -3.478e-01  -3.135e-01  ***\n",
      "MERIT1          1.322e-01  1.141e+00 1.076e-02  1.229e+01  1.067e-34   1.111e-01   1.533e-01  ***\n",
      "PERF1          -1.118e+00  3.269e-01 1.915e-02 -5.839e+01  0.000e+00  -1.156e+00  -1.081e+00  ***\n",
      "MIN_RT_ANNUAL  -2.773e-01  7.579e-01 1.242e-02 -2.233e+01 1.885e-110  -3.016e-01  -2.529e-01  ***\n",
      "INTERN         -1.176e-01  8.891e-01 5.327e-03 -2.207e+01 6.508e-108  -1.280e-01  -1.071e-01  ***\n",
      "BOX1           -1.589e-01  8.531e-01 7.907e-03 -2.009e+01  8.481e-90  -1.744e-01  -1.434e-01  ***\n",
      "HAVE_DEP       -2.650e-01  7.672e-01 1.608e-02 -1.648e+01  5.171e-61  -2.965e-01  -2.334e-01  ***\n",
      "Age_years      -1.208e+00  2.987e-01 1.093e-02 -1.106e+02  0.000e+00  -1.230e+00  -1.187e+00  ***\n",
      "DEPENDENT_CNT   7.927e-02  1.082e+00 1.381e-02  5.738e+00  9.578e-09   5.219e-02   1.064e-01  ***\n",
      "DIRECT_RPT_CNT  1.601e-01  1.174e+00 3.619e-03  4.424e+01  0.000e+00   1.530e-01   1.672e-01  ***\n",
      "---\n",
      "Signif. codes:  0 '***' 0.001 '**' 0.01 '*' 0.05 '.' 0.1 ' ' 1 \n",
      "\n",
      "Concordance = 0.899\n"
     ]
    }
   ],
   "source": [
    "cf.print_summary()"
   ]
  },
  {
   "cell_type": "code",
   "execution_count": 39,
   "metadata": {
    "collapsed": false
   },
   "outputs": [
    {
     "data": {
      "text/plain": [
       "(107412, 0    67665\n",
       " 1    39747\n",
       " Name: former, dtype: int64)"
      ]
     },
     "execution_count": 39,
     "metadata": {},
     "output_type": "execute_result"
    }
   ],
   "source": [
    "len(e2build), e2build.former.value_counts()"
   ]
  },
  {
   "cell_type": "code",
   "execution_count": 40,
   "metadata": {
    "collapsed": false
   },
   "outputs": [
    {
     "data": {
      "text/html": [
       "<div>\n",
       "<table border=\"1\" class=\"dataframe\">\n",
       "  <thead>\n",
       "    <tr style=\"text-align: right;\">\n",
       "      <th></th>\n",
       "      <th>SAL1</th>\n",
       "      <th>HAVE_INS</th>\n",
       "      <th>MERIT1</th>\n",
       "      <th>PERF1</th>\n",
       "      <th>MIN_RT_ANNUAL</th>\n",
       "      <th>INTERN</th>\n",
       "      <th>BOX1</th>\n",
       "      <th>HAVE_DEP</th>\n",
       "      <th>Age_years</th>\n",
       "      <th>DEPENDENT_CNT</th>\n",
       "      <th>DIRECT_RPT_CNT</th>\n",
       "    </tr>\n",
       "  </thead>\n",
       "  <tbody>\n",
       "    <tr>\n",
       "      <th>coef</th>\n",
       "      <td>-0.46404</td>\n",
       "      <td>-0.330646</td>\n",
       "      <td>0.132229</td>\n",
       "      <td>-1.118077</td>\n",
       "      <td>-0.277265</td>\n",
       "      <td>-0.117554</td>\n",
       "      <td>-0.158875</td>\n",
       "      <td>-0.264951</td>\n",
       "      <td>-1.208313</td>\n",
       "      <td>0.079268</td>\n",
       "      <td>0.160129</td>\n",
       "    </tr>\n",
       "  </tbody>\n",
       "</table>\n",
       "</div>"
      ],
      "text/plain": [
       "         SAL1  HAVE_INS    MERIT1     PERF1  MIN_RT_ANNUAL    INTERN  \\\n",
       "coef -0.46404 -0.330646  0.132229 -1.118077      -0.277265 -0.117554   \n",
       "\n",
       "          BOX1  HAVE_DEP  Age_years  DEPENDENT_CNT  DIRECT_RPT_CNT  \n",
       "coef -0.158875 -0.264951  -1.208313       0.079268        0.160129  "
      ]
     },
     "execution_count": 40,
     "metadata": {},
     "output_type": "execute_result"
    }
   ],
   "source": [
    "cf.hazards_"
   ]
  },
  {
   "cell_type": "markdown",
   "metadata": {},
   "source": [
    "## try assessing this \n",
    "* generate a probability of separation (for an individual) at t+1yr"
   ]
  },
  {
   "cell_type": "code",
   "execution_count": null,
   "metadata": {
    "collapsed": false
   },
   "outputs": [],
   "source": [
    "all_sf_pred = cf.predict_survival_function(e2build[reduced_cols[:-2]])"
   ]
  },
  {
   "cell_type": "code",
   "execution_count": 57,
   "metadata": {
    "collapsed": false
   },
   "outputs": [
    {
     "data": {
      "text/plain": [
       "array([[  7.36807800e+04,   0.00000000e+00,   2.14604000e+03,\n",
       "          0.00000000e+00,   4.09240000e+04,   0.00000000e+00,\n",
       "          2.00000000e+00,   0.00000000e+00,   3.47843943e+01,\n",
       "          0.00000000e+00,   1.00000000e+01],\n",
       "       [  6.81026800e+04,   1.00000000e+00,   1.94503000e+03,\n",
       "          2.68600000e+03,   4.57913300e+04,   0.00000000e+00,\n",
       "          2.00000000e+00,   1.00000000e+00,   5.59534565e+01,\n",
       "          1.00000000e+00,   1.10000000e+01]])"
      ]
     },
     "execution_count": 57,
     "metadata": {},
     "output_type": "execute_result"
    }
   ],
   "source": [
    "surv_tpoints = [1.0,2.0,3.0,4.0,5.0]\n",
    "\n",
    "#cf.predict_survival_function(\n",
    "import scipy.interpolate\n",
    "def get_survival_prob(edf,psf):\n",
    "    for yr,yr_val in enumerate(surv_tpoints):\n",
    "        prior_idx = np.where(psf.years<age+1.0)\n",
    "        posterior_idx = np.where(psf.years>age+1.0)\n",
    "        x= [psf.ix[prior_idx]['years'], psf.ix[posterior_idx]['years']]\n",
    "        y= [psf.ix[prior_idx][employee_id],psf.ix[posterior_idx][employee_id]]\n",
    "        print x,y, employee_id, age\n",
    "    ## now interpolate these\n",
    "        y_interp = scipy.interpolateinterp1d(x,y)\n",
    "        print y_interp\n",
    "    return y_interp"
   ]
  },
  {
   "cell_type": "code",
   "execution_count": 67,
   "metadata": {
    "collapsed": false
   },
   "outputs": [
    {
     "data": {
      "text/plain": [
       "<matplotlib.axes._subplots.AxesSubplot at 0x24680898>"
      ]
     },
     "execution_count": 67,
     "metadata": {},
     "output_type": "execute_result"
    },
    {
     "data": {
      "image/png": "[encoded data removed]",
      "text/plain": [
       "<matplotlib.figure.Figure at 0x24680550>"
      ]
     },
     "metadata": {},
     "output_type": "display_data"
    }
   ],
   "source": [
    "pred = cf.predict_survival_function(e2build[reduced_cols[:-2]].iloc[:1])\n",
    "pred.plot()"
   ]
  },
  {
   "cell_type": "code",
   "execution_count": null,
   "metadata": {
    "collapsed": true
   },
   "outputs": [],
   "source": []
  },
  {
   "cell_type": "code",
   "execution_count": null,
   "metadata": {
    "collapsed": true
   },
   "outputs": [],
   "source": []
  },
  {
   "cell_type": "markdown",
   "metadata": {},
   "source": [
    "## create some groupings of the categorical factors"
   ]
  },
  {
   "cell_type": "code",
   "execution_count": 44,
   "metadata": {
    "collapsed": false
   },
   "outputs": [
    {
     "data": {
      "text/plain": [
       "0    17166\n",
       "1    11719\n",
       "Name: former, dtype: int64"
      ]
     },
     "execution_count": 44,
     "metadata": {},
     "output_type": "execute_result"
    }
   ],
   "source": [
    "e2build[e2build.EXT_FUNC_ID_SFI.isin(e2build.EXT_FUNC_ID_SFI.unique().tolist()[:10])].former.value_counts()"
   ]
  },
  {
   "cell_type": "code",
   "execution_count": 52,
   "metadata": {
    "collapsed": true
   },
   "outputs": [],
   "source": [
    "def restrict_values(df,col,max_number_groups=40):\n",
    "    my_unique_values = df[col].unique().tolist()\n",
    "    vc= df[col].value_counts()\n",
    "    topk_values =vc.iloc[:(max_number_groups-1)].index.tolist()\n",
    "    #map the others into a single group\n",
    "    other_groups = list(set(my_unique_values)-set(topk_values))\n",
    "    new_group_dict = {}\n",
    "    for v in topk_values:\n",
    "        new_group_dict[v]=str(v)\n",
    "    for v in other_groups:\n",
    "        new_group_dict[v]='base'\n",
    "    return new_group_dict\n",
    "    "
   ]
  },
  {
   "cell_type": "code",
   "execution_count": 54,
   "metadata": {
    "collapsed": false
   },
   "outputs": [
    {
     "data": {
      "text/plain": [
       "['base',\n",
       " 'base',\n",
       " 'base',\n",
       " 'base',\n",
       " '517',\n",
       " 'base',\n",
       " 'base',\n",
       " 'base',\n",
       " 'base',\n",
       " 'base',\n",
       " 'base',\n",
       " '534',\n",
       " 'base',\n",
       " 'base',\n",
       " 'base',\n",
       " 'base',\n",
       " 'base',\n",
       " 'base',\n",
       " 'base',\n",
       " 'base',\n",
       " 'base',\n",
       " 'base',\n",
       " 'base',\n",
       " '62',\n",
       " '63',\n",
       " 'base',\n",
       " 'base',\n",
       " '66',\n",
       " '67',\n",
       " 'base',\n",
       " 'base',\n",
       " '70',\n",
       " '71',\n",
       " 'base',\n",
       " 'base',\n",
       " 'base',\n",
       " 'base',\n",
       " 'base',\n",
       " 'base',\n",
       " 'base',\n",
       " 'base',\n",
       " 'base',\n",
       " '90',\n",
       " 'base',\n",
       " 'base',\n",
       " 'base',\n",
       " 'base',\n",
       " 'base',\n",
       " 'base',\n",
       " 'base',\n",
       " 'base',\n",
       " '101',\n",
       " 'base',\n",
       " 'base',\n",
       " 'base',\n",
       " 'base',\n",
       " 'base',\n",
       " 'base',\n",
       " 'base',\n",
       " 'base',\n",
       " 'base',\n",
       " 'base',\n",
       " '116',\n",
       " 'base',\n",
       " '118',\n",
       " '119',\n",
       " 'base',\n",
       " '121',\n",
       " 'base',\n",
       " '123',\n",
       " '124',\n",
       " '125',\n",
       " 'base',\n",
       " 'base',\n",
       " 'base',\n",
       " 'base',\n",
       " 'base',\n",
       " 'base',\n",
       " 'base',\n",
       " 'base',\n",
       " 'base',\n",
       " 'base',\n",
       " 'base',\n",
       " 'base',\n",
       " 'base',\n",
       " 'base',\n",
       " 'base',\n",
       " 'base',\n",
       " 'base',\n",
       " 'base',\n",
       " 'base',\n",
       " 'base',\n",
       " 'base',\n",
       " 'base',\n",
       " 'base',\n",
       " 'base',\n",
       " 'base',\n",
       " 'base',\n",
       " 'base',\n",
       " 'base',\n",
       " 'base',\n",
       " 'base',\n",
       " 'base',\n",
       " 'base',\n",
       " 'base',\n",
       " 'base',\n",
       " 'base',\n",
       " 'base',\n",
       " 'base',\n",
       " 'base',\n",
       " 'base',\n",
       " 'base',\n",
       " 'base',\n",
       " 'base',\n",
       " 'base',\n",
       " 'base',\n",
       " 'base',\n",
       " 'base',\n",
       " 'base',\n",
       " 'base',\n",
       " 'base',\n",
       " 'base',\n",
       " 'base',\n",
       " 'base',\n",
       " 'base',\n",
       " 'base',\n",
       " 'base',\n",
       " 'base',\n",
       " 'base',\n",
       " '213',\n",
       " 'base',\n",
       " 'base',\n",
       " 'base',\n",
       " 'base',\n",
       " 'base',\n",
       " 'base',\n",
       " 'base',\n",
       " 'base',\n",
       " '224',\n",
       " 'base',\n",
       " 'base',\n",
       " 'base',\n",
       " 'base',\n",
       " 'base',\n",
       " 'base',\n",
       " 'base',\n",
       " 'base',\n",
       " 'base',\n",
       " 'base',\n",
       " 'base',\n",
       " 'base',\n",
       " 'base',\n",
       " 'base',\n",
       " 'base',\n",
       " 'base',\n",
       " 'base',\n",
       " 'base',\n",
       " 'base',\n",
       " 'base',\n",
       " 'base',\n",
       " 'base',\n",
       " 'base',\n",
       " 'base',\n",
       " 'base',\n",
       " 'base',\n",
       " 'base',\n",
       " 'base',\n",
       " 'base',\n",
       " 'base',\n",
       " 'base',\n",
       " 'base',\n",
       " '262',\n",
       " '264',\n",
       " 'base',\n",
       " 'base',\n",
       " 'base',\n",
       " '269',\n",
       " 'base',\n",
       " 'base',\n",
       " 'base',\n",
       " 'base',\n",
       " 'base',\n",
       " 'base',\n",
       " 'base',\n",
       " 'base',\n",
       " 'base',\n",
       " 'base',\n",
       " 'base',\n",
       " 'base',\n",
       " 'base',\n",
       " 'base',\n",
       " 'base',\n",
       " 'base',\n",
       " 'base',\n",
       " 'base',\n",
       " '816',\n",
       " 'base',\n",
       " 'base',\n",
       " 'base',\n",
       " '822',\n",
       " 'base',\n",
       " 'base',\n",
       " 'base',\n",
       " 'base',\n",
       " '315',\n",
       " 'base',\n",
       " 'base',\n",
       " 'base',\n",
       " 'base',\n",
       " 'base',\n",
       " 'base',\n",
       " 'base',\n",
       " '835',\n",
       " 'base',\n",
       " 'base',\n",
       " 'base',\n",
       " 'base',\n",
       " '328',\n",
       " 'base',\n",
       " 'base',\n",
       " '332',\n",
       " 'base',\n",
       " 'base',\n",
       " 'base',\n",
       " 'base',\n",
       " 'base',\n",
       " 'base',\n",
       " 'base',\n",
       " 'base',\n",
       " 'base',\n",
       " 'base',\n",
       " '892',\n",
       " 'base',\n",
       " 'base',\n",
       " 'base',\n",
       " 'base',\n",
       " 'base',\n",
       " 'base',\n",
       " 'base',\n",
       " 'base',\n",
       " 'base',\n",
       " 'base',\n",
       " 'base',\n",
       " 'base',\n",
       " '909',\n",
       " '910',\n",
       " 'base',\n",
       " 'base',\n",
       " 'base',\n",
       " 'base',\n",
       " 'base',\n",
       " 'base',\n",
       " '917',\n",
       " '918',\n",
       " '920',\n",
       " 'base',\n",
       " 'base',\n",
       " 'base',\n",
       " 'base',\n",
       " 'base',\n",
       " 'base',\n",
       " 'base',\n",
       " 'base',\n",
       " 'base',\n",
       " 'base',\n",
       " 'base',\n",
       " 'base',\n",
       " 'base',\n",
       " 'base',\n",
       " 'base',\n",
       " 'base',\n",
       " 'base',\n",
       " 'base',\n",
       " 'base',\n",
       " 'base',\n",
       " 'base',\n",
       " 'base',\n",
       " 'base',\n",
       " 'base',\n",
       " 'base',\n",
       " 'base',\n",
       " 'base',\n",
       " 'base',\n",
       " 'base',\n",
       " 'base',\n",
       " 'base',\n",
       " 'base',\n",
       " 'base',\n",
       " 'base',\n",
       " 'base',\n",
       " 'base',\n",
       " 'base',\n",
       " 'base',\n",
       " 'base',\n",
       " 'base',\n",
       " 'base',\n",
       " 'base',\n",
       " 'base',\n",
       " 'base',\n",
       " 'base',\n",
       " 'base',\n",
       " 'base',\n",
       " 'base',\n",
       " 'base',\n",
       " 'base',\n",
       " 'base',\n",
       " '980',\n",
       " 'base',\n",
       " 'base',\n",
       " 'base',\n",
       " 'base',\n",
       " '986',\n",
       " '987',\n",
       " '988',\n",
       " 'base',\n",
       " 'base',\n",
       " 'base',\n",
       " 'base',\n",
       " 'base',\n",
       " 'base',\n",
       " 'base',\n",
       " '999',\n",
       " 'base',\n",
       " 'base',\n",
       " 'base',\n",
       " 'base',\n",
       " 'base',\n",
       " 'base',\n",
       " 'base',\n",
       " 'base',\n",
       " 'base']"
      ]
     },
     "execution_count": 54,
     "metadata": {},
     "output_type": "execute_result"
    }
   ],
   "source": [
    "reduced_EFIS_dict = restrict_values(e2build,'EXT_FUNC_ID_SFI')\n"
   ]
  },
  {
   "cell_type": "code",
   "execution_count": 56,
   "metadata": {
    "collapsed": false
   },
   "outputs": [
    {
     "name": "stderr",
     "output_type": "stream",
     "text": [
      "C:\\Anaconda\\lib\\site-packages\\IPython\\kernel\\__main__.py:1: SettingWithCopyWarning: \n",
      "A value is trying to be set on a copy of a slice from a DataFrame.\n",
      "Try using .loc[row_indexer,col_indexer] = value instead\n",
      "\n",
      "See the caveats in the documentation: http://pandas.pydata.org/pandas-docs/stable/indexing.html#indexing-view-versus-copy\n",
      "  if __name__ == '__main__':\n"
     ]
    }
   ],
   "source": [
    "e2build['EXT_FUNC_ID_SFI_mod'] = e2build.EXT_FUNC_ID_SFI.apply(lambda x: reduced_EFIS_dict[x] )"
   ]
  },
  {
   "cell_type": "code",
   "execution_count": 59,
   "metadata": {
    "collapsed": false
   },
   "outputs": [],
   "source": [
    "reduced_cols.append('EXT_FUNC_ID_SFI_mod')"
   ]
  },
  {
   "cell_type": "code",
   "execution_count": 60,
   "metadata": {
    "collapsed": false
   },
   "outputs": [
    {
     "name": "stdout",
     "output_type": "stream",
     "text": [
      "n=107412, number of events=39747\n",
      "\n",
      "                     coef  exp(coef)  se(coef)          z          p  lower 0.95  upper 0.95     \n",
      "SAL1           -4.947e-01  6.098e-01 1.458e-02 -3.393e+01 2.244e-252  -5.233e-01  -4.661e-01  ***\n",
      "HAVE_INS       -3.438e-01  7.091e-01 8.041e-03 -4.275e+01  0.000e+00  -3.595e-01  -3.280e-01  ***\n",
      "MERIT1          1.695e-01  1.185e+00 9.024e-03  1.879e+01  9.620e-79   1.518e-01   1.872e-01  ***\n",
      "PERF1          -1.081e+00  3.392e-01 1.711e-02 -6.320e+01  0.000e+00  -1.115e+00  -1.048e+00  ***\n",
      "MIN_RT_ANNUAL  -2.318e-01  7.931e-01 1.270e-02 -1.825e+01  2.139e-74  -2.567e-01  -2.069e-01  ***\n",
      "INTERN         -1.486e-01  8.619e-01 5.250e-03 -2.831e+01 2.804e-176  -1.589e-01  -1.383e-01  ***\n",
      "BOX1           -1.555e-01  8.560e-01 7.063e-03 -2.201e+01 2.321e-107  -1.693e-01  -1.416e-01  ***\n",
      "HAVE_DEP       -2.119e-01  8.090e-01 1.426e-02 -1.486e+01  5.765e-50  -2.399e-01  -1.840e-01  ***\n",
      "Age_years      -1.144e+00  3.184e-01 9.823e-03 -1.165e+02  0.000e+00  -1.164e+00  -1.125e+00  ***\n",
      "DEPENDENT_CNT   7.718e-02  1.080e+00 1.203e-02  6.418e+00  1.383e-10   5.360e-02   1.008e-01  ***\n",
      "DIRECT_RPT_CNT  1.426e-01  1.153e+00 3.949e-03  3.610e+01 2.640e-285   1.348e-01   1.503e-01  ***\n",
      "---\n",
      "Signif. codes:  0 '***' 0.001 '**' 0.01 '*' 0.05 '.' 0.1 ' ' 1 \n",
      "\n",
      "Concordance = -0.628\n",
      "Wall time: 40.6 s\n"
     ]
    }
   ],
   "source": [
    "%%time \n",
    "cf2 = CoxPHFitter()\n",
    "#X = patsy.dmatrix(\"EXT_FUNC_ID_SFI_mod + \")\n",
    "cf2.fit(e2build[reduced_cols],'Tenure_years',event_col='former',strata=['EXT_FUNC_ID_SFI_mod'])\n",
    "cf2.print_summary()"
   ]
  },
  {
   "cell_type": "code",
   "execution_count": 62,
   "metadata": {
    "collapsed": false
   },
   "outputs": [
    {
     "data": {
      "text/plain": [
       "Index([u'EXT_FUNC_ID_SFI_mod[101]', u'EXT_FUNC_ID_SFI_mod[116]',\n",
       "       u'EXT_FUNC_ID_SFI_mod[118]', u'EXT_FUNC_ID_SFI_mod[119]',\n",
       "       u'EXT_FUNC_ID_SFI_mod[121]', u'EXT_FUNC_ID_SFI_mod[123]',\n",
       "       u'EXT_FUNC_ID_SFI_mod[124]', u'EXT_FUNC_ID_SFI_mod[125]',\n",
       "       u'EXT_FUNC_ID_SFI_mod[213]', u'EXT_FUNC_ID_SFI_mod[224]',\n",
       "       u'EXT_FUNC_ID_SFI_mod[262]', u'EXT_FUNC_ID_SFI_mod[264]',\n",
       "       u'EXT_FUNC_ID_SFI_mod[269]', u'EXT_FUNC_ID_SFI_mod[315]',\n",
       "       u'EXT_FUNC_ID_SFI_mod[328]', u'EXT_FUNC_ID_SFI_mod[332]',\n",
       "       u'EXT_FUNC_ID_SFI_mod[517]', u'EXT_FUNC_ID_SFI_mod[534]',\n",
       "       u'EXT_FUNC_ID_SFI_mod[62]', u'EXT_FUNC_ID_SFI_mod[63]',\n",
       "       u'EXT_FUNC_ID_SFI_mod[66]', u'EXT_FUNC_ID_SFI_mod[67]',\n",
       "       u'EXT_FUNC_ID_SFI_mod[70]', u'EXT_FUNC_ID_SFI_mod[71]',\n",
       "       u'EXT_FUNC_ID_SFI_mod[816]', u'EXT_FUNC_ID_SFI_mod[822]',\n",
       "       u'EXT_FUNC_ID_SFI_mod[835]', u'EXT_FUNC_ID_SFI_mod[892]',\n",
       "       u'EXT_FUNC_ID_SFI_mod[90]', u'EXT_FUNC_ID_SFI_mod[909]',\n",
       "       u'EXT_FUNC_ID_SFI_mod[910]', u'EXT_FUNC_ID_SFI_mod[917]',\n",
       "       u'EXT_FUNC_ID_SFI_mod[918]', u'EXT_FUNC_ID_SFI_mod[920]',\n",
       "       u'EXT_FUNC_ID_SFI_mod[980]', u'EXT_FUNC_ID_SFI_mod[986]',\n",
       "       u'EXT_FUNC_ID_SFI_mod[987]', u'EXT_FUNC_ID_SFI_mod[988]',\n",
       "       u'EXT_FUNC_ID_SFI_mod[999]', u'EXT_FUNC_ID_SFI_mod[base]', u'SAL1',\n",
       "       u'HAVE_INS'],\n",
       "      dtype='object')"
      ]
     },
     "execution_count": 62,
     "metadata": {},
     "output_type": "execute_result"
    }
   ],
   "source": [
    "X = patsy.dmatrix(\"EXT_FUNC_ID_SFI_mod+SAL1+HAVE_INS-1\",e2build,return_type='dataframe')\n",
    "X.columns"
   ]
  },
  {
   "cell_type": "code",
   "execution_count": 63,
   "metadata": {
    "collapsed": false
   },
   "outputs": [
    {
     "name": "stdout",
     "output_type": "stream",
     "text": [
      "n=107412, number of events=39747\n",
      "\n",
      "                                coef  exp(coef)  se(coef)          z         p  lower 0.95  upper 0.95     \n",
      "EXT_FUNC_ID_SFI_mod[101]   2.687e-01  1.308e+00       nan        nan       nan         nan         nan     \n",
      "EXT_FUNC_ID_SFI_mod[116]   2.573e-02  1.026e+00       nan        nan       nan         nan         nan     \n",
      "EXT_FUNC_ID_SFI_mod[118]   6.840e-02  1.071e+00       nan        nan       nan         nan         nan     \n",
      "EXT_FUNC_ID_SFI_mod[119]   2.695e-02  1.027e+00       nan        nan       nan         nan         nan     \n",
      "EXT_FUNC_ID_SFI_mod[121]   4.166e-02  1.043e+00       nan        nan       nan         nan         nan     \n",
      "EXT_FUNC_ID_SFI_mod[123]   1.543e-02  1.016e+00       nan        nan       nan         nan         nan     \n",
      "EXT_FUNC_ID_SFI_mod[124]   4.945e-02  1.051e+00       nan        nan       nan         nan         nan     \n",
      "EXT_FUNC_ID_SFI_mod[125]   2.409e-01  1.272e+00       nan        nan       nan         nan         nan     \n",
      "EXT_FUNC_ID_SFI_mod[213]  -8.059e-03  9.920e-01       nan        nan       nan         nan         nan     \n",
      "EXT_FUNC_ID_SFI_mod[224]   5.766e-02  1.059e+00       nan        nan       nan         nan         nan     \n",
      "EXT_FUNC_ID_SFI_mod[262]   7.819e-02  1.081e+00       nan        nan       nan         nan         nan     \n",
      "EXT_FUNC_ID_SFI_mod[264]   5.824e-02  1.060e+00       nan        nan       nan         nan         nan     \n",
      "EXT_FUNC_ID_SFI_mod[269]   3.002e-02  1.030e+00       nan        nan       nan         nan         nan     \n",
      "EXT_FUNC_ID_SFI_mod[315]   1.121e-01  1.119e+00       nan        nan       nan         nan         nan     \n",
      "EXT_FUNC_ID_SFI_mod[328]   1.071e-01  1.113e+00       nan        nan       nan         nan         nan     \n",
      "EXT_FUNC_ID_SFI_mod[332]   1.350e-01  1.145e+00       nan        nan       nan         nan         nan     \n",
      "EXT_FUNC_ID_SFI_mod[517]   1.507e-01  1.163e+00       nan        nan       nan         nan         nan     \n",
      "EXT_FUNC_ID_SFI_mod[534]   4.368e-02  1.045e+00       nan        nan       nan         nan         nan     \n",
      "EXT_FUNC_ID_SFI_mod[62]    1.416e-01  1.152e+00       nan        nan       nan         nan         nan     \n",
      "EXT_FUNC_ID_SFI_mod[63]    3.267e-02  1.033e+00       nan        nan       nan         nan         nan     \n",
      "EXT_FUNC_ID_SFI_mod[66]    8.528e-02  1.089e+00       nan        nan       nan         nan         nan     \n",
      "EXT_FUNC_ID_SFI_mod[67]    4.589e-02  1.047e+00       nan        nan       nan         nan         nan     \n",
      "EXT_FUNC_ID_SFI_mod[70]    2.050e-01  1.227e+00       nan        nan       nan         nan         nan     \n",
      "EXT_FUNC_ID_SFI_mod[71]    2.509e-01  1.285e+00       nan        nan       nan         nan         nan     \n",
      "EXT_FUNC_ID_SFI_mod[816]   8.934e-02  1.093e+00       nan        nan       nan         nan         nan     \n",
      "EXT_FUNC_ID_SFI_mod[822]   4.383e-02  1.045e+00       nan        nan       nan         nan         nan     \n",
      "EXT_FUNC_ID_SFI_mod[835]   8.493e-02  1.089e+00       nan        nan       nan         nan         nan     \n",
      "EXT_FUNC_ID_SFI_mod[892]   2.214e-01  1.248e+00       nan        nan       nan         nan         nan     \n",
      "EXT_FUNC_ID_SFI_mod[90]    4.039e-02  1.041e+00       nan        nan       nan         nan         nan     \n",
      "EXT_FUNC_ID_SFI_mod[909]   1.816e-01  1.199e+00       nan        nan       nan         nan         nan     \n",
      "EXT_FUNC_ID_SFI_mod[910]   2.496e-01  1.284e+00       nan        nan       nan         nan         nan     \n",
      "EXT_FUNC_ID_SFI_mod[917]  -1.533e-01  8.579e-01       nan        nan       nan         nan         nan     \n",
      "EXT_FUNC_ID_SFI_mod[918]  -8.327e-03  9.917e-01       nan        nan       nan         nan         nan     \n",
      "EXT_FUNC_ID_SFI_mod[920]  -9.822e-02  9.064e-01       nan        nan       nan         nan         nan     \n",
      "EXT_FUNC_ID_SFI_mod[980]  -2.310e+00  9.929e-02 1.125e+04 -2.053e-04 9.998e-01  -2.206e+04   2.205e+04     \n",
      "EXT_FUNC_ID_SFI_mod[986]  -6.416e-01  5.264e-01       nan        nan       nan         nan         nan     \n",
      "EXT_FUNC_ID_SFI_mod[987]  -3.901e-01  6.770e-01       nan        nan       nan         nan         nan     \n",
      "EXT_FUNC_ID_SFI_mod[988]  -3.439e-01  7.090e-01       nan        nan       nan         nan         nan     \n",
      "EXT_FUNC_ID_SFI_mod[999]  -2.550e-01  7.749e-01       nan        nan       nan         nan         nan     \n",
      "EXT_FUNC_ID_SFI_mod[base]  1.725e-01  1.188e+00       nan        nan       nan         nan         nan     \n",
      "SAL1                      -1.329e+00  2.646e-01 1.099e-02 -1.210e+02 0.000e+00  -1.351e+00  -1.308e+00  ***\n",
      "HAVE_INS                  -7.545e-01  4.702e-01 6.294e-03 -1.199e+02 0.000e+00  -7.669e-01  -7.422e-01  ***\n",
      "---\n",
      "Signif. codes:  0 '***' 0.001 '**' 0.01 '*' 0.05 '.' 0.1 ' ' 1 \n",
      "\n",
      "Concordance = -0.664\n",
      "Wall time: 3min 9s\n"
     ]
    }
   ],
   "source": [
    "%%time \n",
    "X['T']=e2build['Tenure_years']\n",
    "X['E']=e2build['former']\n",
    "cf3 = CoxPHFitter()\n",
    "#X = patsy.dmatrix(\"EXT_FUNC_ID_SFI_mod + \")\n",
    "cf3.fit(X,'T',event_col='E')\n",
    "cf3.print_summary()"
   ]
  },
  {
   "cell_type": "code",
   "execution_count": 64,
   "metadata": {
    "collapsed": true
   },
   "outputs": [],
   "source": [
    "from lifelines import AalenAdditiveFitter\n",
    "aaf3 = AalenAdditiveFitter(coef_penalizer=1.0)"
   ]
  },
  {
   "cell_type": "code",
   "execution_count": null,
   "metadata": {
    "collapsed": false
   },
   "outputs": [
    {
     "name": "stdout",
     "output_type": "stream",
     "text": [
      " [-                 3%                  ] 1449 of 39747 complete in 103.4 sec"
     ]
    }
   ],
   "source": [
    "aaf3.fit(X,'T','E')"
   ]
  },
  {
   "cell_type": "code",
   "execution_count": null,
   "metadata": {
    "collapsed": true
   },
   "outputs": [],
   "source": []
  }
 ],
 "metadata": {
  "kernelspec": {
   "display_name": "Python 3",
   "language": "python",
   "name": "python3"
  },
  "language_info": {
   "codemirror_mode": {
    "name": "ipython",
    "version": 3
   },
   "file_extension": ".py",
   "mimetype": "text/x-python",
   "name": "python",
   "nbconvert_exporter": "python",
   "pygments_lexer": "ipython3",
   "version": "3.5.1"
  }
 },
 "nbformat": 4,
 "nbformat_minor": 0
}
