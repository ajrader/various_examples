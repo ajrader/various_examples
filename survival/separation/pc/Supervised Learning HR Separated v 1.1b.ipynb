{
 "cells": [
  {
   "cell_type": "markdown",
   "metadata": {},
   "source": [
    "# Supervised Learning for HR Separations\n",
    "# July 13, 2015\n",
    "1. Return to the ETL to correct the dataset\n",
    "    * no longer do I need to labelEncode GRADE\n",
    "    * try to use bear\n",
    "#### Define the source repo (for bear)\n",
    "    * 'C:/Users/kesj/code/'\n",
    "2. Define the correct working directories\n",
    "    * stgdirlocal = 'C:/Users/kesj/Documents/projects/HRattrition/EDA'"
   ]
  },
  {
   "cell_type": "code",
   "execution_count": 1,
   "metadata": {
    "collapsed": false
   },
   "outputs": [],
   "source": [
    "### load the basic files\n",
    "import os,subprocess,sys\n",
    "import pandas as pd\n",
    "import numpy as np\n",
    "%matplotlib inline\n",
    "from datetime import datetime\n",
    "import matplotlib.pyplot as plt\n",
    "from itertools import chain\n",
    "import random\n",
    "import seaborn as sns\n",
    "from glob import glob\n",
    "plt.style.use('ggplot')"
   ]
  },
  {
   "cell_type": "code",
   "execution_count": 2,
   "metadata": {
    "collapsed": true
   },
   "outputs": [],
   "source": [
    "repodir = 'C:\\\\Users\\kesj\\\\code\\\\'\n",
    "stgdirlocal = 'C:\\\\Users\\\\kesj\\\\Documents\\\\projects\\\\HRattrition\\\\EDA'"
   ]
  },
  {
   "cell_type": "code",
   "execution_count": 3,
   "metadata": {
    "collapsed": true
   },
   "outputs": [],
   "source": [
    "os.chdir(repodir)"
   ]
  },
  {
   "cell_type": "code",
   "execution_count": 4,
   "metadata": {
    "collapsed": true
   },
   "outputs": [],
   "source": [
    "import bear.bear as br"
   ]
  },
  {
   "cell_type": "code",
   "execution_count": 5,
   "metadata": {
    "collapsed": true
   },
   "outputs": [],
   "source": [
    "os.chdir(stgdirlocal)"
   ]
  },
  {
   "cell_type": "markdown",
   "metadata": {},
   "source": [
    "#First load the US unemployment measures"
   ]
  },
  {
   "cell_type": "code",
   "execution_count": 6,
   "metadata": {
    "collapsed": false
   },
   "outputs": [
    {
     "data": {
      "text/html": [
       "<div>\n",
       "<table border=\"1\" class=\"dataframe\">\n",
       "  <thead>\n",
       "    <tr style=\"text-align: right;\">\n",
       "      <th></th>\n",
       "      <th>Year</th>\n",
       "      <th>variable</th>\n",
       "      <th>value</th>\n",
       "      <th>date</th>\n",
       "    </tr>\n",
       "  </thead>\n",
       "  <tbody>\n",
       "    <tr>\n",
       "      <th>0</th>\n",
       "      <td>1987</td>\n",
       "      <td>Jan</td>\n",
       "      <td>6.6</td>\n",
       "      <td>1987-01-01</td>\n",
       "    </tr>\n",
       "    <tr>\n",
       "      <th>29</th>\n",
       "      <td>1987</td>\n",
       "      <td>Feb</td>\n",
       "      <td>6.6</td>\n",
       "      <td>1987-02-01</td>\n",
       "    </tr>\n",
       "    <tr>\n",
       "      <th>58</th>\n",
       "      <td>1987</td>\n",
       "      <td>Mar</td>\n",
       "      <td>6.6</td>\n",
       "      <td>1987-03-01</td>\n",
       "    </tr>\n",
       "    <tr>\n",
       "      <th>87</th>\n",
       "      <td>1987</td>\n",
       "      <td>Apr</td>\n",
       "      <td>6.3</td>\n",
       "      <td>1987-04-01</td>\n",
       "    </tr>\n",
       "    <tr>\n",
       "      <th>116</th>\n",
       "      <td>1987</td>\n",
       "      <td>May</td>\n",
       "      <td>6.3</td>\n",
       "      <td>1987-05-01</td>\n",
       "    </tr>\n",
       "  </tbody>\n",
       "</table>\n",
       "</div>"
      ],
      "text/plain": [
       "     Year variable  value       date\n",
       "0    1987      Jan    6.6 1987-01-01\n",
       "29   1987      Feb    6.6 1987-02-01\n",
       "58   1987      Mar    6.6 1987-03-01\n",
       "87   1987      Apr    6.3 1987-04-01\n",
       "116  1987      May    6.3 1987-05-01"
      ]
     },
     "execution_count": 6,
     "metadata": {},
     "output_type": "execute_result"
    }
   ],
   "source": [
    "unempl_raw = pd.read_csv('../other_data/us_unemployment_monthly_seas.csv')\n",
    "unempl=pd.melt(unempl_raw,id_vars='Year')\n",
    "unempl.sort('Year', inplace=True)\n",
    "unempl['date'] = unempl[['Year','variable']].apply(lambda x: pd.to_datetime(x[1]+str(x[0]),format='%b%Y'),axis=1)\n",
    "unempl.sort('date',inplace=True)\n",
    "unempl.head()"
   ]
  },
  {
   "cell_type": "code",
   "execution_count": 7,
   "metadata": {
    "collapsed": false
   },
   "outputs": [
    {
     "data": {
      "text/plain": [
       "<matplotlib.axes._subplots.AxesSubplot at 0x1f2ae6a0>"
      ]
     },
     "execution_count": 7,
     "metadata": {},
     "output_type": "execute_result"
    },
    {
     "data": {
      "image/png": "[encoded data removed]",
      "text/plain": [
       "<matplotlib.figure.Figure at 0x1f2ae358>"
      ]
     },
     "metadata": {},
     "output_type": "display_data"
    }
   ],
   "source": [
    "unempl.set_index('date',inplace=True)\n",
    "unempl['value'].plot()"
   ]
  },
  {
   "cell_type": "markdown",
   "metadata": {},
   "source": [
    "### Some helper functions"
   ]
  },
  {
   "cell_type": "code",
   "execution_count": 6,
   "metadata": {
    "collapsed": true
   },
   "outputs": [],
   "source": [
    "def assign_unempl_rate(my_date,unempl):\n",
    "    try :\n",
    "        un_rate = unempl[unempl.index <= my_date]['value'].values[-1]\n",
    "    except IndexError:\n",
    "        un_rate = unempl['value'].ix[0]\n",
    "        \n",
    "    return un_rate\n",
    "\n",
    "# function to truncate POSTAL_ZIP to zip5\n",
    "def truncate_postal_zip(in_zip):\n",
    "    try:\n",
    "        out_zip = in_zip[:5]\n",
    "        #print out_zip\n",
    "    except:\n",
    "        #out_zip = str(in_zip)[:5]\n",
    "        out_zip = np.nan\n",
    "    return out_zip"
   ]
  },
  {
   "cell_type": "code",
   "execution_count": 7,
   "metadata": {
    "collapsed": true
   },
   "outputs": [],
   "source": [
    "def summarize_dataframe2(df,show_example=False):\n",
    "    nrow = len(df)\n",
    "    summary_df = pd.DataFrame(columns = ['Column','datatype','nmissing','arity','accepted values'])\n",
    "    len_df = len(summary_df)\n",
    "    for col in df.columns:\n",
    "        nmiss = nrow - df[col].value_counts().sum()\n",
    "        narity = len(df[col].unique())\n",
    "        if show_example:\n",
    "            print col, df[col].dtype,nmiss, \"\\t\", narity,\":\\t\", df[col].ix[8320]\n",
    "        else:\n",
    "            print col, df[col].dtype,nmiss, \"\\t\", narity\n",
    "        accept_val = None\n",
    "        if narity < 20:\n",
    "            accept_val = df[col].unique()\n",
    "        summary_df.loc[len_df] = [col,df[col].dtype,nmiss,narity,accept_val]\n",
    "        len_df+=1\n",
    "    # assing fraction of missing\n",
    "    summary_df['x_missing'] = summary_df['nmissing']/float(nrow)\n",
    "    \n",
    "    return summary_df"
   ]
  },
  {
   "cell_type": "markdown",
   "metadata": {},
   "source": [
    "## Load the un-filled file and combine with EAS data"
   ]
  },
  {
   "cell_type": "code",
   "execution_count": 9,
   "metadata": {
    "collapsed": false
   },
   "outputs": [
    {
     "name": "stdout",
     "output_type": "stream",
     "text": [
      "(243010, 185)\n"
     ]
    }
   ],
   "source": [
    "datafile = 'employee_dataframe.ssv'\n",
    "emplraw = pd.read_csv(datafile,sep=';',dtype={'KEY':np.str})\n",
    "print emplraw.shape\n",
    "emplraw.drop('Unnamed: 0',axis=1,inplace=True)\n",
    "\n",
    "emplraw.drop('PER_ORG',axis=1,inplace=True) #remove PER_ORG"
   ]
  },
  {
   "cell_type": "markdown",
   "metadata": {
    "collapsed": true
   },
   "source": [
    "## Clean up some of the columns\n",
    "* remove grade of UNS\n",
    "* remove negative tenures"
   ]
  },
  {
   "cell_type": "code",
   "execution_count": 10,
   "metadata": {
    "collapsed": false
   },
   "outputs": [
    {
     "data": {
      "text/plain": [
       "143"
      ]
     },
     "execution_count": 10,
     "metadata": {},
     "output_type": "execute_result"
    }
   ],
   "source": [
    "len(emplraw[emplraw.TOT_MO_SERVICE_SFI< 0]) # check that all have positive mos"
   ]
  },
  {
   "cell_type": "code",
   "execution_count": 11,
   "metadata": {
    "collapsed": false
   },
   "outputs": [
    {
     "name": "stdout",
     "output_type": "stream",
     "text": [
      "(242867, 183)\n",
      "43521 employees with the GRADE UNS will be dropped.\n",
      "199346\n"
     ]
    }
   ],
   "source": [
    "emplpos = emplraw[emplraw.TOT_MO_SERVICE_SFI>=0].copy()\n",
    "print np.shape(emplpos)\n",
    "\n",
    "## remove seasonal/interns\n",
    "print \"{0} employees with the GRADE UNS will be dropped.\".format((emplpos.GRADE=='UNS').sum())\n",
    "empl1=emplpos[emplpos.GRADE!='UNS'].copy()\n",
    "print len(empl1)"
   ]
  },
  {
   "cell_type": "code",
   "execution_count": 8,
   "metadata": {
    "collapsed": false
   },
   "outputs": [
    {
     "data": {
      "text/plain": [
       "Index([u'ACTRES1', u'ACTRES10', u'ACTRES2', u'ACTRES3', u'ACTRES4', u'ACTRES5',\n",
       "       u'ACTRES6', u'ACTRES7', u'ACTRES8', u'ACTRES9', \n",
       "       ...\n",
       "       u'Tenure_tdelta', u'status', u'Tenure_years', u'HAVE_INS', u'HAVE_DEP',\n",
       "       u'DEP_COUNT', u'sep_status', u'mar_status', u'zip5', u'retired'],\n",
       "      dtype='object', length=184)"
      ]
     },
     "execution_count": 8,
     "metadata": {},
     "output_type": "execute_result"
    }
   ],
   "source": [
    "### load the later data to get benefit info\n",
    "empl8 = pd.read_csv('employee_dataframe8.tsv',sep='\\t',dtype={'KEY':np.str, 'zip5':np.str})\n",
    "empl8.columns"
   ]
  },
  {
   "cell_type": "code",
   "execution_count": 13,
   "metadata": {
    "collapsed": false
   },
   "outputs": [
    {
     "name": "stdout",
     "output_type": "stream",
     "text": [
      "(199346, 366)\n"
     ]
    }
   ],
   "source": [
    "empl_bene=pd.merge(empl1,empl8,on='KEY',how='left')\n",
    "print empl_bene.shape"
   ]
  },
  {
   "cell_type": "code",
   "execution_count": 14,
   "metadata": {
    "collapsed": false
   },
   "outputs": [
    {
     "data": {
      "text/plain": [
       "Index([u'ACTRES1_x', u'ACTRES10_x', u'ACTRES2_x', u'ACTRES3_x', u'ACTRES4_x',\n",
       "       u'ACTRES5_x', u'ACTRES6_x', u'ACTRES7_x', u'ACTRES8_x', u'ACTRES9_x', \n",
       "       ...\n",
       "       u'Tenure_tdelta_y', u'status_y', u'Tenure_years', u'HAVE_INS',\n",
       "       u'HAVE_DEP', u'DEP_COUNT', u'sep_status', u'mar_status', u'zip5',\n",
       "       u'retired'],\n",
       "      dtype='object', length=366)"
      ]
     },
     "execution_count": 14,
     "metadata": {},
     "output_type": "execute_result"
    }
   ],
   "source": [
    "empl_bene.columns"
   ]
  },
  {
   "cell_type": "code",
   "execution_count": 31,
   "metadata": {
    "collapsed": false
   },
   "outputs": [
    {
     "name": "stdout",
     "output_type": "stream",
     "text": [
      "175 175\n"
     ]
    }
   ],
   "source": [
    "ycolumns = [c for c in empl_bene.columns if c.endswith('_y')]\n",
    "xcolumns = [c for c in empl_bene.columns if c.endswith('_x')]\n",
    "print len(ycolumns), len(xcolumns)"
   ]
  },
  {
   "cell_type": "markdown",
   "metadata": {},
   "source": [
    "###remove grades starting with 'L' and 'AT'\n",
    "As we discussed, you’re already excluding seasonal employees, interns, and agency interns. Let’s also exclude the L-Level executive employees are in the LDSH job group with job grades L1 to L10 (i.e., all job grades starting with “L”). Let’s also exclude Air Transportation as we don’t foresee applying the model to them either. Their job group is AIRT with job grades AT1 to AT8 (i.e., all job grades starting with “AT”)."
   ]
  },
  {
   "cell_type": "code",
   "execution_count": 15,
   "metadata": {
    "collapsed": false
   },
   "outputs": [
    {
     "name": "stdout",
     "output_type": "stream",
     "text": [
      "164\n",
      "24 ['LS2', 'LP1', 'L5', 'LS1', 'L7', 'L6', 'L9', 'LS3', 'L10', 'LM1', 'AT5', 'LM2', 'L8', 'L4', 'AT7', 'AT2', 'L2', 'L3', 'AT3', 'L1', 'AT1', 'AT6', 'AT4', 'AT8']\n"
     ]
    }
   ],
   "source": [
    "list_of_grades = empl_bene.GRADE_x.unique()\n",
    "print len(list_of_grades)\n",
    "grades_to_drop = [x for x in map(str,list_of_grades) if (x.startswith('L') or x.startswith('AT'))]\n",
    "print len(grades_to_drop), grades_to_drop"
   ]
  },
  {
   "cell_type": "code",
   "execution_count": 17,
   "metadata": {
    "collapsed": false
   },
   "outputs": [
    {
     "name": "stdout",
     "output_type": "stream",
     "text": [
      "['LS2', 'LP1', 'L5', 'LS1', 'L7', 'L6', 'L9', 'LS3', 'L10', 'LM1', 'AT5', 'LM2', 'L8', 'L4', 'AT7', 'AT2', 'L2', 'L3', 'AT3', 'L1', 'AT1', 'AT6', 'AT4', 'AT8'] 24\n",
      "18 ['L5', 'L7', 'L6', 'L9', 'L10', 'AT5', 'L8', 'L4', 'AT7', 'AT2', 'L2', 'L3', 'AT3', 'L1', 'AT1', 'AT6', 'AT4', 'AT8']\n"
     ]
    }
   ],
   "source": [
    "print grades_to_drop,len(grades_to_drop)\n",
    "grades_to_drop.remove('LS2')\n",
    "grades_to_drop.remove('LS1')\n",
    "grades_to_drop.remove('LS3')\n",
    "grades_to_drop.remove('LM1')\n",
    "grades_to_drop.remove('LM2')\n",
    "grades_to_drop.remove('LP1')\n",
    "print len(grades_to_drop),grades_to_drop"
   ]
  },
  {
   "cell_type": "code",
   "execution_count": 18,
   "metadata": {
    "collapsed": false
   },
   "outputs": [
    {
     "name": "stdout",
     "output_type": "stream",
     "text": [
      "removing these 18 grades removes 581 employees\n",
      "(198765, 366)\n"
     ]
    }
   ],
   "source": [
    "print \"removing these {0} grades removes {1} employees\".format(len(grades_to_drop),len(empl_bene[empl_bene.GRADE_x.isin(grades_to_drop)]))\n",
    "empl=empl_bene[~empl_bene.GRADE_x.isin(grades_to_drop)].copy()\n",
    "print np.shape(empl)"
   ]
  },
  {
   "cell_type": "markdown",
   "metadata": {},
   "source": [
    "## remove those with unknown/other sep_status"
   ]
  },
  {
   "cell_type": "code",
   "execution_count": 20,
   "metadata": {
    "collapsed": false
   },
   "outputs": [
    {
     "name": "stdout",
     "output_type": "stream",
     "text": [
      "(197950, 367)\n"
     ]
    }
   ],
   "source": [
    "empl = empl[empl.sep_status <=2]\n",
    "print np.shape(empl)"
   ]
  },
  {
   "cell_type": "code",
   "execution_count": 21,
   "metadata": {
    "collapsed": false
   },
   "outputs": [
    {
     "name": "stdout",
     "output_type": "stream",
     "text": [
      "Out of 197950 rows, 105693 are separated and not retired.\n",
      "105693\n"
     ]
    }
   ],
   "source": [
    "## create a column for terminated (i.e. separated but NOT retired)\n",
    "empl['terminated']= 0\n",
    "my_rows = empl[(empl.status_y==1) & (empl.retired==0)].index\n",
    "print \"Out of {0} rows, {1} are separated and not retired.\".format(len(empl),len(my_rows))\n",
    "#sum(empl_df['terminated']))#, len(my_rows)\n",
    "empl.loc[my_rows,'terminated']=1\n",
    "print sum(empl.terminated)"
   ]
  },
  {
   "cell_type": "markdown",
   "metadata": {},
   "source": [
    "###Take a Time Slice to consider\n",
    "only after 2002-01-01"
   ]
  },
  {
   "cell_type": "code",
   "execution_count": 22,
   "metadata": {
    "collapsed": false
   },
   "outputs": [
    {
     "name": "stdout",
     "output_type": "stream",
     "text": [
      "2002-01-01 134237\n",
      "--------- STATUS \n",
      "0    69476\n",
      "1    64761\n",
      "dtype: int64\n",
      "--------- TERMINATED\n",
      "0    84413\n",
      "1    49824\n",
      "dtype: int64\n",
      "--------- RETIRED\n",
      "0    119299\n",
      "1     14938\n",
      "dtype: int64\n"
     ]
    }
   ],
   "source": [
    "date0 = '2002-01-01'\n",
    "em2002 = empl.ix[empl.TERMINATION_DT_x>=date0].copy()\n",
    "print date0, len(em2002)\n",
    "print \"--------- STATUS \"\n",
    "print em2002.status_y.value_counts()\n",
    "print \"--------- TERMINATED\"\n",
    "print em2002.terminated.value_counts()\n",
    "print \"--------- RETIRED\"\n",
    "print em2002.retired.value_counts()"
   ]
  },
  {
   "cell_type": "code",
   "execution_count": 23,
   "metadata": {
    "collapsed": false
   },
   "outputs": [],
   "source": [
    "## create timestamps for columns that are timestamps\n",
    "em2002[['hire_tstmp','term_tstmp','birth_tstmp']] = em2002[['HIRE_DT_x','TERMINATION_DT_x','BIRTHDATE_x']].apply(lambda x:pd.to_datetime(x))\n",
    "## add a column for age at hire date\n",
    "hire_age_tdelta = em2002['hire_tstmp']-em2002['birth_tstmp']\n",
    "# convert to days, months, or years\n",
    "em2002['hire_age'] = hire_age_tdelta/np.timedelta64(1,'Y')"
   ]
  },
  {
   "cell_type": "code",
   "execution_count": 24,
   "metadata": {
    "collapsed": false
   },
   "outputs": [
    {
     "data": {
      "text/plain": [
       "1    130622\n",
       "N      1909\n",
       "2      1303\n",
       "3       403\n",
       "dtype: int64"
      ]
     },
     "execution_count": 24,
     "metadata": {},
     "output_type": "execute_result"
    }
   ],
   "source": [
    "em2002.SHIFT_x.value_counts()"
   ]
  },
  {
   "cell_type": "code",
   "execution_count": 25,
   "metadata": {
    "collapsed": false
   },
   "outputs": [
    {
     "data": {
      "text/plain": [
       "371"
      ]
     },
     "execution_count": 25,
     "metadata": {},
     "output_type": "execute_result"
    }
   ],
   "source": [
    "all_columns_0 = em2002.columns.tolist()\n",
    "len(all_columns_0)"
   ]
  },
  {
   "cell_type": "code",
   "execution_count": 26,
   "metadata": {
    "collapsed": true
   },
   "outputs": [],
   "source": [
    "cols_to_survival = ['GRADE_y','JOB_FAMILY_y','JOB_FUNCTION_y','LOCATION_y','JOBCODE_y']\n",
    "cols_to_cat_encode = ['EMPL_CLASS_y','EEO1CODE_y','EMPL_TYPE_y','FULL_PART_TIME_y']\n",
    "cols_to_label_encode = ['LOC_TYPE_DESCR_SFI_y','LOC_STATE_y','EXT_FUNC_ID_SFI_y','FUNC_ID_SFI_y','FLOR_SFI_y','COMPANY_y','DIVISION_CODE_SFI_y']"
   ]
  },
  {
   "cell_type": "code",
   "execution_count": 32,
   "metadata": {
    "collapsed": false
   },
   "outputs": [
    {
     "name": "stdout",
     "output_type": "stream",
     "text": [
      "19\n"
     ]
    }
   ],
   "source": [
    "keep_categorical_cols = []\n",
    "keep_categorical_cols+=cols_to_survival\n",
    "keep_categorical_cols+=cols_to_cat_encode\n",
    "keep_categorical_cols+=cols_to_label_encode\n",
    "keep_categorical_cols.append('FLSA_STATUS_y')\n",
    "keep_categorical_cols.append('SHIFT_y')\n",
    "keep_categorical_cols.append('ETHNIC_GROUP_y')\n",
    "print len(keep_categorical_cols)"
   ]
  },
  {
   "cell_type": "markdown",
   "metadata": {},
   "source": [
    "## Commentary\n",
    "1. Make a decision about duplicated columns:\n",
    "    * keep RATE*_y and BOX*_y; drop the *_x versions which have not yet been processed (20)\n",
    "    * keep potential target variables (4)\n",
    "    * keep useful_time_cols (3)\n",
    "    * keep timestamp columns (3)\n",
    "    * keep months_of_service (7)\n",
    "    * keep those that are counts, from x (54)\n",
    "    * keep those that are salaries,perf and merit from x (30)\n",
    "    * keep other numeric that are not redundant from x (4)\n",
    "    * keep those already processed as indicators (from *_y):   SEX_y, COMP_FREQUENCY_y (16)\n",
    "    * keep some categorical (from *_y) + FLSA_STATUS_y+ SHIFT_y + ETHNIC_GROUP_y because they have missing filled in (19)\n",
    "    *"
   ]
  },
  {
   "cell_type": "code",
   "execution_count": 28,
   "metadata": {
    "collapsed": false
   },
   "outputs": [
    {
     "name": "stdout",
     "output_type": "stream",
     "text": [
      "10 10\n"
     ]
    }
   ],
   "source": [
    "box_cols = [a for a in all_columns_0 if a.startswith('BOX') and a.endswith('_y')]\n",
    "rate_cols = [a for a in all_columns_0 if a.startswith('RATE') and a.endswith('_y')]\n",
    "#potential_target_cols = []\n",
    "print len(box_cols), len(rate_cols)\n",
    "potential_target_cols = ['status_x','sep_status','retired','terminated']\n",
    "useful_time_cols = ['Tenure_years','Age_years_x','hire_age']\n",
    "tstmp_cols = [x for x in em2002.columns if x.endswith('tstmp')]"
   ]
  },
  {
   "cell_type": "code",
   "execution_count": 29,
   "metadata": {
    "collapsed": false
   },
   "outputs": [
    {
     "name": "stdout",
     "output_type": "stream",
     "text": [
      " mos_cols:  7 ['CUR_DEPT_MOS_x', 'CUR_EFUNC_MOS_x', 'CUR_FUNC_MOS_x', 'CUR_GRADE_MOS_x', 'CUR_JOB_MOS_x', 'CUR_LOC_MOS_x', 'TELE_MOS_x']\n"
     ]
    }
   ],
   "source": [
    "mos_cols = [x for x in em2002.columns if x.endswith('MOS_x')]\n",
    "print \" mos_cols: \",len(mos_cols), mos_cols"
   ]
  },
  {
   "cell_type": "code",
   "execution_count": 33,
   "metadata": {
    "collapsed": false
   },
   "outputs": [
    {
     "name": "stdout",
     "output_type": "stream",
     "text": [
      "54\n"
     ]
    }
   ],
   "source": [
    "x_count_cols = [x for x in xcolumns if 'CNT' in x]\n",
    "salary_cols = [x for x in xcolumns if 'SAL' in x]\n",
    "perf_cols = [x for x in xcolumns if 'PERF' in x]\n",
    "merit_cols = [x for x in xcolumns if 'MERIT' in x]\n",
    "print len(x_count_cols)"
   ]
  },
  {
   "cell_type": "code",
   "execution_count": 34,
   "metadata": {
    "collapsed": false
   },
   "outputs": [
    {
     "name": "stdout",
     "output_type": "stream",
     "text": [
      "88\n"
     ]
    }
   ],
   "source": [
    "numeric_to_keep=[]\n",
    "numeric_to_keep+=x_count_cols\n",
    "numeric_to_keep+=salary_cols\n",
    "numeric_to_keep+=merit_cols\n",
    "numeric_to_keep+=perf_cols\n",
    "numeric_to_keep.append('MIN_RT_ANNUAL_x')\n",
    "numeric_to_keep.append('MAX_RT_ANNUAL_x')\n",
    "numeric_to_keep.append('FTE_x')\n",
    "numeric_to_keep.append('STD_HOURS_x')\n",
    "print len(numeric_to_keep)"
   ]
  },
  {
   "cell_type": "code",
   "execution_count": 35,
   "metadata": {
    "collapsed": false
   },
   "outputs": [
    {
     "name": "stdout",
     "output_type": "stream",
     "text": [
      "4 ['FULLPART1_y', 'FULLPART10_y', 'FULLPART3_y', 'FULLPART5_y']\n",
      "4 ['PARTFULL1_y', 'PARTFULL10_y', 'PARTFULL3_y', 'PARTFULL5_y']\n"
     ]
    }
   ],
   "source": [
    "fp_cols = [x for x in ycolumns if x.startswith('FULLPART')]\n",
    "pf_cols = [x for x in ycolumns if x.startswith('PARTFULL')]\n",
    "print len(fp_cols),fp_cols\n",
    "print len(pf_cols),pf_cols"
   ]
  },
  {
   "cell_type": "code",
   "execution_count": 36,
   "metadata": {
    "collapsed": false
   },
   "outputs": [
    {
     "name": "stdout",
     "output_type": "stream",
     "text": [
      "16\n"
     ]
    }
   ],
   "source": [
    "keep_indicator_cols = ['SEX_y','COMP_FREQUENCY_y','HUBIND_y','INTERN_y','RELOCATE_ALL_SFI_y','REMOTE_y','REMOTE_SUPV_y','SUPV_DIFF_LOC_y']\n",
    "keep_indicator_cols+=fp_cols\n",
    "keep_indicator_cols+=pf_cols\n",
    "print len(keep_indicator_cols)"
   ]
  },
  {
   "cell_type": "code",
   "execution_count": 37,
   "metadata": {
    "collapsed": false
   },
   "outputs": [
    {
     "name": "stdout",
     "output_type": "stream",
     "text": [
      "55\n"
     ]
    }
   ],
   "source": [
    "ycols_to_keep = []\n",
    "ycols_to_keep += keep_categorical_cols\n",
    "ycols_to_keep += box_cols\n",
    "ycols_to_keep += rate_cols\n",
    "ycols_to_keep += keep_indicator_cols\n",
    "print len(ycols_to_keep)\n",
    "xcols_to_drop = [y.replace('_y','_x') for y in ycols_to_keep ]"
   ]
  },
  {
   "cell_type": "code",
   "execution_count": 38,
   "metadata": {
    "collapsed": false
   },
   "outputs": [
    {
     "data": {
      "text/plain": [
       "{'ACTRES10_x',\n",
       " 'ACTRES1_x',\n",
       " 'ACTRES2_x',\n",
       " 'ACTRES3_x',\n",
       " 'ACTRES4_x',\n",
       " 'ACTRES5_x',\n",
       " 'ACTRES6_x',\n",
       " 'ACTRES7_x',\n",
       " 'ACTRES8_x',\n",
       " 'ACTRES9_x',\n",
       " 'ADDRESS1_x',\n",
       " 'ANNUAL_RT_x',\n",
       " 'Age_tdelta_x',\n",
       " 'BIRTHDATE_x',\n",
       " 'HIRE_DT_x',\n",
       " 'LAST_HIRE_DT_x',\n",
       " 'LEGACY_DEPT_SFI_x',\n",
       " 'LOC_CITY_x',\n",
       " 'SERVICE_DT_x',\n",
       " 'SKEY_x',\n",
       " 'TERMINATION_DT_x',\n",
       " 'Tenure_months_x',\n",
       " 'Tenure_tdelta_x'}"
      ]
     },
     "execution_count": 38,
     "metadata": {},
     "output_type": "execute_result"
    }
   ],
   "source": [
    "set(xcolumns)-set(numeric_to_keep)-set(mos_cols)-set(useful_time_cols)-set(potential_target_cols)-set(xcols_to_drop)"
   ]
  },
  {
   "cell_type": "code",
   "execution_count": 39,
   "metadata": {
    "collapsed": false
   },
   "outputs": [
    {
     "data": {
      "text/plain": [
       "153"
      ]
     },
     "execution_count": 39,
     "metadata": {},
     "output_type": "execute_result"
    }
   ],
   "source": [
    "cols_of_interest_1 =[]\n",
    "cols_of_interest_1 += ycols_to_keep\n",
    "cols_of_interest_1 += numeric_to_keep\n",
    "cols_of_interest_1 += useful_time_cols\n",
    "cols_of_interest_1 += tstmp_cols\n",
    "cols_of_interest_1 += potential_target_cols\n",
    "len(cols_of_interest_1)"
   ]
  },
  {
   "cell_type": "code",
   "execution_count": 41,
   "metadata": {
    "collapsed": false
   },
   "outputs": [
    {
     "name": "stdout",
     "output_type": "stream",
     "text": [
      "GRADE_y GRADE\n",
      "JOB_FAMILY_y JOB_FAMILY\n",
      "JOB_FUNCTION_y JOB_FUNCTION\n",
      "LOCATION_y LOCATION\n",
      "JOBCODE_y JOBCODE\n",
      "EMPL_CLASS_y EMPL_CLASS\n",
      "EEO1CODE_y EEO1CODE\n",
      "EMPL_TYPE_y EMPL_TYPE\n",
      "FULL_PART_TIME_y FULL_PART_TIME\n",
      "LOC_TYPE_DESCR_SFI_y LOC_TYPE_DESCR_SFI\n",
      "LOC_STATE_y LOC_STATE\n",
      "EXT_FUNC_ID_SFI_y EXT_FUNC_ID_SFI\n",
      "FUNC_ID_SFI_y FUNC_ID_SFI\n",
      "FLOR_SFI_y FLOR_SFI\n",
      "COMPANY_y COMPANY\n",
      "DIVISION_CODE_SFI_y DIVISION_CODE_SFI\n",
      "FLSA_STATUS_y FLSA_STATUS\n",
      "SHIFT_y SHIFT\n",
      "ETHNIC_GROUP_y ETHNIC_GROUP\n",
      "BOX1_y BOX1\n",
      "BOX10_y BOX10\n",
      "BOX2_y BOX2\n",
      "BOX3_y BOX3\n",
      "BOX4_y BOX4\n",
      "BOX5_y BOX5\n",
      "BOX6_y BOX6\n",
      "BOX7_y BOX7\n",
      "BOX8_y BOX8\n",
      "BOX9_y BOX9\n",
      "RATE1_y RATE1\n",
      "RATE10_y RATE10\n",
      "RATE2_y RATE2\n",
      "RATE3_y RATE3\n",
      "RATE4_y RATE4\n",
      "RATE5_y RATE5\n",
      "RATE6_y RATE6\n",
      "RATE7_y RATE7\n",
      "RATE8_y RATE8\n",
      "RATE9_y RATE9\n",
      "SEX_y Male\n",
      "COMP_FREQUENCY_y hourly_comp\n",
      "HUBIND_y HUBIND\n",
      "INTERN_y INTERN\n",
      "RELOCATE_ALL_SFI_y RELOCATE_ALL_SFI\n",
      "REMOTE_y REMOTE\n",
      "REMOTE_SUPV_y REMOTE_SUPV\n",
      "SUPV_DIFF_LOC_y SUPV_DIFF_LOC\n",
      "FULLPART1_y FULLPART1\n",
      "FULLPART10_y FULLPART10\n",
      "FULLPART3_y FULLPART3\n",
      "FULLPART5_y FULLPART5\n",
      "PARTFULL1_y PARTFULL1\n",
      "PARTFULL10_y PARTFULL10\n",
      "PARTFULL3_y PARTFULL3\n",
      "PARTFULL5_y PARTFULL5\n",
      "ADDRCNT1_x ADDRCNT1\n",
      "ADDRCNT10_x ADDRCNT10\n",
      "ADDRCNT3_x ADDRCNT3\n",
      "ADDRCNT5_x ADDRCNT5\n",
      "DEPTCNT1_x DEPTCNT1\n",
      "DEPTCNT10_x DEPTCNT10\n",
      "DEPTCNT3_x DEPTCNT3\n",
      "DEPTCNT5_x DEPTCNT5\n",
      "DIRECT_RPT_CNT_x DIRECT_RPT_CNT\n",
      "EFUNCCNT1_x EFUNCCNT1\n",
      "EFUNCCNT10_x EFUNCCNT10\n",
      "EFUNCCNT3_x EFUNCCNT3\n",
      "EFUNCCNT5_x EFUNCCNT5\n",
      "EXTFUNC_CNT_x EXTFUNC_CNT\n",
      "FLOORCNT1_x FLOORCNT1\n",
      "FLOORCNT10_x FLOORCNT10\n",
      "FLOORCNT3_x FLOORCNT3\n",
      "FLOORCNT5_x FLOORCNT5\n",
      "FTPTCNT1_x FTPTCNT1\n",
      "FTPTCNT10_x FTPTCNT10\n",
      "FTPTCNT3_x FTPTCNT3\n",
      "FTPTCNT5_x FTPTCNT5\n",
      "FUNCCNT1_x FUNCCNT1\n",
      "FUNCCNT10_x FUNCCNT10\n",
      "FUNCCNT3_x FUNCCNT3\n",
      "FUNCCNT5_x FUNCCNT5\n",
      "FUNC_CNT_x FUNC_CNT\n",
      "GRADECNT1_x GRADECNT1\n",
      "GRADECNT10_x GRADECNT10\n",
      "GRADECNT3_x GRADECNT3\n",
      "GRADECNT5_x GRADECNT5\n",
      "JOBCNT1_x JOBCNT1\n",
      "JOBCNT10_x JOBCNT10\n",
      "JOBCNT3_x JOBCNT3\n",
      "JOBCNT5_x JOBCNT5\n",
      "LOCCNT1_x LOCCNT1\n",
      "LOCCNT10_x LOCCNT10\n",
      "LOCCNT3_x LOCCNT3\n",
      "LOCCNT5_x LOCCNT5\n",
      "LOCSTCNT1_x LOCSTCNT1\n",
      "LOCSTCNT10_x LOCSTCNT10\n",
      "LOCSTCNT3_x LOCSTCNT3\n",
      "LOCSTCNT5_x LOCSTCNT5\n",
      "PTFTCNT1_x PTFTCNT1\n",
      "PTFTCNT10_x PTFTCNT10\n",
      "PTFTCNT3_x PTFTCNT3\n",
      "PTFTCNT5_x PTFTCNT5\n",
      "REH_CNT_x REH_CNT\n",
      "RELO_STATE_CNT_SFI_x RELO_STATE_CNT_SFI\n",
      "SUPVCNT1_x SUPVCNT1\n",
      "SUPVCNT10_x SUPVCNT10\n",
      "SUPVCNT3_x SUPVCNT3\n",
      "SUPVCNT5_x SUPVCNT5\n",
      "TOTAL_RPT_CNT_x TOTAL_RPT_CNT\n",
      "SAL1_x SAL1\n",
      "SAL10_x SAL10\n",
      "SAL2_x SAL2\n",
      "SAL3_x SAL3\n",
      "SAL4_x SAL4\n",
      "SAL5_x SAL5\n",
      "SAL6_x SAL6\n",
      "SAL7_x SAL7\n",
      "SAL8_x SAL8\n",
      "SAL9_x SAL9\n",
      "MERIT1_x MERIT1\n",
      "MERIT10_x MERIT10\n",
      "MERIT2_x MERIT2\n",
      "MERIT3_x MERIT3\n",
      "MERIT4_x MERIT4\n",
      "MERIT5_x MERIT5\n",
      "MERIT6_x MERIT6\n",
      "MERIT7_x MERIT7\n",
      "MERIT8_x MERIT8\n",
      "MERIT9_x MERIT9\n",
      "PERF1_x PERF1\n",
      "PERF10_x PERF10\n",
      "PERF2_x PERF2\n",
      "PERF3_x PERF3\n",
      "PERF4_x PERF4\n",
      "PERF5_x PERF5\n",
      "PERF6_x PERF6\n",
      "PERF7_x PERF7\n",
      "PERF8_x PERF8\n",
      "PERF9_x PERF9\n",
      "MIN_RT_ANNUAL_x MIN_RT_ANNUAL\n",
      "MAX_RT_ANNUAL_x MAX_RT_ANNUAL\n",
      "FTE_x FTE\n",
      "STD_HOURS_x STD_HOURS\n",
      "Age_years_x Age_years\n",
      "status_x status\n",
      "153\n"
     ]
    }
   ],
   "source": [
    "## create a dictionary to clean up the columns\n",
    "col_dict_1 ={}\n",
    "for col in cols_of_interest_1:\n",
    "    if col.endswith('_x') or col.endswith('_y'):\n",
    "        ncol = col[:-2]\n",
    "        if ncol== 'SEX':\n",
    "            ncol = 'Male'\n",
    "        elif ncol == 'COMP_FREQUENCY':\n",
    "            ncol = 'hourly_comp'\n",
    "        print col, ncol\n",
    "    else:\n",
    "        ncol = col\n",
    "    \n",
    "    col_dict_1[col] = ncol\n",
    "print len(col_dict_1)"
   ]
  },
  {
   "cell_type": "code",
   "execution_count": 42,
   "metadata": {
    "collapsed": false
   },
   "outputs": [
    {
     "data": {
      "text/plain": [
       "(134237, 153)"
      ]
     },
     "execution_count": 42,
     "metadata": {},
     "output_type": "execute_result"
    }
   ],
   "source": [
    "my2002 = em2002[cols_of_interest_1].copy()\n",
    "my2002.rename(columns=col_dict_1,inplace=True)\n",
    "my2002.shape"
   ]
  },
  {
   "cell_type": "code",
   "execution_count": 43,
   "metadata": {
    "collapsed": false
   },
   "outputs": [
    {
     "data": {
      "text/plain": [
       "1    94660\n",
       "2    21728\n",
       "3    11232\n",
       "4     3217\n",
       "8     2432\n",
       "5      689\n",
       "7      239\n",
       "6       40\n",
       "dtype: int64"
      ]
     },
     "execution_count": 43,
     "metadata": {},
     "output_type": "execute_result"
    }
   ],
   "source": [
    "my2002.ETHNIC_GROUP.value_counts()"
   ]
  },
  {
   "cell_type": "markdown",
   "metadata": {},
   "source": [
    "## SPLIT into train and eval group\n"
   ]
  },
  {
   "cell_type": "code",
   "execution_count": 44,
   "metadata": {
    "collapsed": false
   },
   "outputs": [
    {
     "name": "stdout",
     "output_type": "stream",
     "text": [
      "Starting with subest of 134237 employees.\n",
      "Evaluation set has 26848 employees; training set has 107389 employees.\n"
     ]
    }
   ],
   "source": [
    "from sklearn import cross_validation\n",
    "print \"Starting with subest of {0} employees.\".format(len(my2002))\n",
    "eval_fraction = 0.2\n",
    "em2build, em2eval = cross_validation.train_test_split(my2002,test_size=eval_fraction)\n",
    "print \"Evaluation set has {0} employees; training set has {1} employees.\".format(len(em2eval),len(em2build))"
   ]
  },
  {
   "cell_type": "code",
   "execution_count": 47,
   "metadata": {
    "collapsed": true
   },
   "outputs": [],
   "source": [
    "### stop here and save\n",
    "em2build.to_csv('em2002_build.tsv',sep='\\t',index=False)\n",
    "em2eval.to_csv('em2002_eval.tsv',sep='\\t',index=False)"
   ]
  },
  {
   "cell_type": "code",
   "execution_count": 45,
   "metadata": {
    "collapsed": false
   },
   "outputs": [],
   "source": [
    "# define the target variables\n",
    "y = em2build.terminated\n",
    "yEval = em2eval.terminated"
   ]
  },
  {
   "cell_type": "code",
   "execution_count": 48,
   "metadata": {
    "collapsed": false
   },
   "outputs": [
    {
     "data": {
      "text/html": [
       "<div>\n",
       "<table border=\"1\" class=\"dataframe\">\n",
       "  <thead>\n",
       "    <tr style=\"text-align: right;\">\n",
       "      <th></th>\n",
       "      <th></th>\n",
       "      <th>counts</th>\n",
       "    </tr>\n",
       "    <tr>\n",
       "      <th>column</th>\n",
       "      <th>category</th>\n",
       "      <th></th>\n",
       "    </tr>\n",
       "  </thead>\n",
       "  <tbody>\n",
       "    <tr>\n",
       "      <th rowspan=\"11\" valign=\"top\">EEO1CODE</th>\n",
       "      <th>NaN</th>\n",
       "      <td>0</td>\n",
       "    </tr>\n",
       "    <tr>\n",
       "      <th>L</th>\n",
       "      <td>3</td>\n",
       "    </tr>\n",
       "    <tr>\n",
       "      <th>N</th>\n",
       "      <td>3</td>\n",
       "    </tr>\n",
       "    <tr>\n",
       "      <th>1</th>\n",
       "      <td>11639</td>\n",
       "    </tr>\n",
       "    <tr>\n",
       "      <th>3</th>\n",
       "      <td>2450</td>\n",
       "    </tr>\n",
       "    <tr>\n",
       "      <th>2</th>\n",
       "      <td>55175</td>\n",
       "    </tr>\n",
       "    <tr>\n",
       "      <th>5</th>\n",
       "      <td>59014</td>\n",
       "    </tr>\n",
       "    <tr>\n",
       "      <th>4</th>\n",
       "      <td>5084</td>\n",
       "    </tr>\n",
       "    <tr>\n",
       "      <th>7</th>\n",
       "      <td>484</td>\n",
       "    </tr>\n",
       "    <tr>\n",
       "      <th>6</th>\n",
       "      <td>384</td>\n",
       "    </tr>\n",
       "    <tr>\n",
       "      <th>8</th>\n",
       "      <td>1</td>\n",
       "    </tr>\n",
       "    <tr>\n",
       "      <th rowspan=\"6\" valign=\"top\">EMPL_TYPE</th>\n",
       "      <th>E</th>\n",
       "      <td>85372</td>\n",
       "    </tr>\n",
       "    <tr>\n",
       "      <th>H</th>\n",
       "      <td>14134</td>\n",
       "    </tr>\n",
       "    <tr>\n",
       "      <th>NaN</th>\n",
       "      <td>0</td>\n",
       "    </tr>\n",
       "    <tr>\n",
       "      <th>N</th>\n",
       "      <td>1949</td>\n",
       "    </tr>\n",
       "    <tr>\n",
       "      <th>S</th>\n",
       "      <td>32771</td>\n",
       "    </tr>\n",
       "    <tr>\n",
       "      <th>X</th>\n",
       "      <td>11</td>\n",
       "    </tr>\n",
       "    <tr>\n",
       "      <th rowspan=\"5\" valign=\"top\">FULL_PART_TIME</th>\n",
       "      <th>P</th>\n",
       "      <td>9409</td>\n",
       "    </tr>\n",
       "    <tr>\n",
       "      <th>N</th>\n",
       "      <td>1079</td>\n",
       "    </tr>\n",
       "    <tr>\n",
       "      <th>NaN</th>\n",
       "      <td>0</td>\n",
       "    </tr>\n",
       "    <tr>\n",
       "      <th>X</th>\n",
       "      <td>2045</td>\n",
       "    </tr>\n",
       "    <tr>\n",
       "      <th>F</th>\n",
       "      <td>121704</td>\n",
       "    </tr>\n",
       "    <tr>\n",
       "      <th rowspan=\"7\" valign=\"top\">EMPL_CLASS</th>\n",
       "      <th>D</th>\n",
       "      <td>1938</td>\n",
       "    </tr>\n",
       "    <tr>\n",
       "      <th>G</th>\n",
       "      <td>1</td>\n",
       "    </tr>\n",
       "    <tr>\n",
       "      <th>NaN</th>\n",
       "      <td>0</td>\n",
       "    </tr>\n",
       "    <tr>\n",
       "      <th>1</th>\n",
       "      <td>131686</td>\n",
       "    </tr>\n",
       "    <tr>\n",
       "      <th>3</th>\n",
       "      <td>560</td>\n",
       "    </tr>\n",
       "    <tr>\n",
       "      <th>5</th>\n",
       "      <td>1</td>\n",
       "    </tr>\n",
       "    <tr>\n",
       "      <th>4</th>\n",
       "      <td>51</td>\n",
       "    </tr>\n",
       "    <tr>\n",
       "      <th>GRADE</th>\n",
       "      <th>GRADE</th>\n",
       "      <td>Too many categories</td>\n",
       "    </tr>\n",
       "    <tr>\n",
       "      <th>LOC_STATE</th>\n",
       "      <th>LOC_STATE</th>\n",
       "      <td>Too many categories</td>\n",
       "    </tr>\n",
       "    <tr>\n",
       "      <th>LOC_TYPE_DESCR_SFI</th>\n",
       "      <th>LOC_TYPE_DESCR_SFI</th>\n",
       "      <td>Too many categories</td>\n",
       "    </tr>\n",
       "    <tr>\n",
       "      <th>LOCATION</th>\n",
       "      <th>LOCATION</th>\n",
       "      <td>Too many categories</td>\n",
       "    </tr>\n",
       "    <tr>\n",
       "      <th rowspan=\"20\" valign=\"top\">JOB_FUNCTION</th>\n",
       "      <th>PTJ</th>\n",
       "      <td>21</td>\n",
       "    </tr>\n",
       "    <tr>\n",
       "      <th>XXX</th>\n",
       "      <td>4568</td>\n",
       "    </tr>\n",
       "    <tr>\n",
       "      <th>PTK</th>\n",
       "      <td>28</td>\n",
       "    </tr>\n",
       "    <tr>\n",
       "      <th>PTD</th>\n",
       "      <td>965</td>\n",
       "    </tr>\n",
       "    <tr>\n",
       "      <th>PTI</th>\n",
       "      <td>955</td>\n",
       "    </tr>\n",
       "    <tr>\n",
       "      <th>PTH</th>\n",
       "      <td>124</td>\n",
       "    </tr>\n",
       "    <tr>\n",
       "      <th>PSB</th>\n",
       "      <td>4172</td>\n",
       "    </tr>\n",
       "    <tr>\n",
       "      <th>NSA</th>\n",
       "      <td>5745</td>\n",
       "    </tr>\n",
       "    <tr>\n",
       "      <th>PTE</th>\n",
       "      <td>5237</td>\n",
       "    </tr>\n",
       "    <tr>\n",
       "      <th>PSA</th>\n",
       "      <td>52227</td>\n",
       "    </tr>\n",
       "    <tr>\n",
       "      <th>PTC</th>\n",
       "      <td>5268</td>\n",
       "    </tr>\n",
       "    <tr>\n",
       "      <th>PTB</th>\n",
       "      <td>24744</td>\n",
       "    </tr>\n",
       "    <tr>\n",
       "      <th>PTA</th>\n",
       "      <td>15321</td>\n",
       "    </tr>\n",
       "    <tr>\n",
       "      <th>PTM</th>\n",
       "      <td>2</td>\n",
       "    </tr>\n",
       "    <tr>\n",
       "      <th>PTG</th>\n",
       "      <td>188</td>\n",
       "    </tr>\n",
       "    <tr>\n",
       "      <th>PTL</th>\n",
       "      <td>167</td>\n",
       "    </tr>\n",
       "    <tr>\n",
       "      <th>MGT</th>\n",
       "      <td>11111</td>\n",
       "    </tr>\n",
       "    <tr>\n",
       "      <th>NaN</th>\n",
       "      <td>0</td>\n",
       "    </tr>\n",
       "    <tr>\n",
       "      <th>PSC</th>\n",
       "      <td>3114</td>\n",
       "    </tr>\n",
       "    <tr>\n",
       "      <th>PTF</th>\n",
       "      <td>280</td>\n",
       "    </tr>\n",
       "    <tr>\n",
       "      <th>JOB_FAMILY</th>\n",
       "      <th>JOB_FAMILY</th>\n",
       "      <td>Too many categories</td>\n",
       "    </tr>\n",
       "  </tbody>\n",
       "</table>\n",
       "</div>"
      ],
      "text/plain": [
       "                                                    counts\n",
       "column             category                               \n",
       "EEO1CODE           NaN                                   0\n",
       "                   L                                     3\n",
       "                   N                                     3\n",
       "                   1                                 11639\n",
       "                   3                                  2450\n",
       "                   2                                 55175\n",
       "                   5                                 59014\n",
       "                   4                                  5084\n",
       "                   7                                   484\n",
       "                   6                                   384\n",
       "                   8                                     1\n",
       "EMPL_TYPE          E                                 85372\n",
       "                   H                                 14134\n",
       "                   NaN                                   0\n",
       "                   N                                  1949\n",
       "                   S                                 32771\n",
       "                   X                                    11\n",
       "FULL_PART_TIME     P                                  9409\n",
       "                   N                                  1079\n",
       "                   NaN                                   0\n",
       "                   X                                  2045\n",
       "                   F                                121704\n",
       "EMPL_CLASS         D                                  1938\n",
       "                   G                                     1\n",
       "                   NaN                                   0\n",
       "                   1                                131686\n",
       "                   3                                   560\n",
       "                   5                                     1\n",
       "                   4                                    51\n",
       "GRADE              GRADE               Too many categories\n",
       "LOC_STATE          LOC_STATE           Too many categories\n",
       "LOC_TYPE_DESCR_SFI LOC_TYPE_DESCR_SFI  Too many categories\n",
       "LOCATION           LOCATION            Too many categories\n",
       "JOB_FUNCTION       PTJ                                  21\n",
       "                   XXX                                4568\n",
       "                   PTK                                  28\n",
       "                   PTD                                 965\n",
       "                   PTI                                 955\n",
       "                   PTH                                 124\n",
       "                   PSB                                4172\n",
       "                   NSA                                5745\n",
       "                   PTE                                5237\n",
       "                   PSA                               52227\n",
       "                   PTC                                5268\n",
       "                   PTB                               24744\n",
       "                   PTA                               15321\n",
       "                   PTM                                   2\n",
       "                   PTG                                 188\n",
       "                   PTL                                 167\n",
       "                   MGT                               11111\n",
       "                   NaN                                   0\n",
       "                   PSC                                3114\n",
       "                   PTF                                 280\n",
       "JOB_FAMILY         JOB_FAMILY          Too many categories"
      ]
     },
     "execution_count": 48,
     "metadata": {},
     "output_type": "execute_result"
    }
   ],
   "source": [
    "#br.describe_categorical(my2002)\n",
    "br.get_value_counts_pd(my2002,br.get_categorical(my2002))"
   ]
  },
  {
   "cell_type": "code",
   "execution_count": 49,
   "metadata": {
    "collapsed": false
   },
   "outputs": [],
   "source": [
    "cols_encoded_categorical = ['ETHNIC_GROUP','EXT_FUNC_ID_SFI','FLOR_SFI','FLSA_STATUS','FUNC_ID_SFI']"
   ]
  },
  {
   "cell_type": "code",
   "execution_count": 50,
   "metadata": {
    "collapsed": true
   },
   "outputs": [],
   "source": [
    "cols_to_label_encode = ['LOC_STATE','LOC_TYPE_DESCR_SFI']\n",
    "cols_to_fix_outliers = ['MIN_ANNUAL_RT','SAL1','MAX_ANNUAL_RT']\n",
    "cols_with_missing = br.get_columns_with_nulls(my2002) # these are the ones to impute\n",
    "cols_categorical = br.get_categorical(my2002)\n",
    "cols_to_survival = ['GRADE','JOB_FAMILY','JOB_FUNCTION','LOCATION']"
   ]
  },
  {
   "cell_type": "code",
   "execution_count": 51,
   "metadata": {
    "collapsed": false
   },
   "outputs": [],
   "source": [
    "cols_to_dummy = list(set(cols_categorical)-set(cols_to_survival)-set(cols_to_label_encode))"
   ]
  },
  {
   "cell_type": "code",
   "execution_count": 52,
   "metadata": {
    "collapsed": false
   },
   "outputs": [
    {
     "data": {
      "text/html": [
       "<div>\n",
       "<table border=\"1\" class=\"dataframe\">\n",
       "  <thead>\n",
       "    <tr style=\"text-align: right;\">\n",
       "      <th></th>\n",
       "      <th>JOBCODE</th>\n",
       "      <th>EXT_FUNC_ID_SFI</th>\n",
       "      <th>FUNC_ID_SFI</th>\n",
       "      <th>FLOR_SFI</th>\n",
       "      <th>COMPANY</th>\n",
       "      <th>DIVISION_CODE_SFI</th>\n",
       "      <th>FLSA_STATUS</th>\n",
       "      <th>SHIFT</th>\n",
       "      <th>ETHNIC_GROUP</th>\n",
       "      <th>BOX1</th>\n",
       "      <th>...</th>\n",
       "      <th>FULL_PART_TIME_F</th>\n",
       "      <th>FULL_PART_TIME_P</th>\n",
       "      <th>FULL_PART_TIME_X</th>\n",
       "      <th>FULL_PART_TIME_N</th>\n",
       "      <th>EMPL_CLASS_1</th>\n",
       "      <th>EMPL_CLASS_D</th>\n",
       "      <th>EMPL_CLASS_3</th>\n",
       "      <th>EMPL_CLASS_4</th>\n",
       "      <th>EMPL_CLASS_G</th>\n",
       "      <th>EMPL_CLASS_5</th>\n",
       "    </tr>\n",
       "  </thead>\n",
       "  <tbody>\n",
       "    <tr>\n",
       "      <th>171603</th>\n",
       "      <td>3473</td>\n",
       "      <td>615</td>\n",
       "      <td>614</td>\n",
       "      <td>853</td>\n",
       "      <td>1</td>\n",
       "      <td>9</td>\n",
       "      <td>0</td>\n",
       "      <td>1</td>\n",
       "      <td>1</td>\n",
       "      <td>2</td>\n",
       "      <td>...</td>\n",
       "      <td>1</td>\n",
       "      <td>0</td>\n",
       "      <td>0</td>\n",
       "      <td>0</td>\n",
       "      <td>1</td>\n",
       "      <td>0</td>\n",
       "      <td>0</td>\n",
       "      <td>0</td>\n",
       "      <td>0</td>\n",
       "      <td>0</td>\n",
       "    </tr>\n",
       "    <tr>\n",
       "      <th>165689</th>\n",
       "      <td>90</td>\n",
       "      <td>62</td>\n",
       "      <td>14</td>\n",
       "      <td>999</td>\n",
       "      <td>1</td>\n",
       "      <td>2</td>\n",
       "      <td>0</td>\n",
       "      <td>1</td>\n",
       "      <td>1</td>\n",
       "      <td>3</td>\n",
       "      <td>...</td>\n",
       "      <td>1</td>\n",
       "      <td>0</td>\n",
       "      <td>0</td>\n",
       "      <td>0</td>\n",
       "      <td>1</td>\n",
       "      <td>0</td>\n",
       "      <td>0</td>\n",
       "      <td>0</td>\n",
       "      <td>0</td>\n",
       "      <td>0</td>\n",
       "    </tr>\n",
       "    <tr>\n",
       "      <th>30687</th>\n",
       "      <td>4159</td>\n",
       "      <td>165</td>\n",
       "      <td>42</td>\n",
       "      <td>999</td>\n",
       "      <td>1</td>\n",
       "      <td>9</td>\n",
       "      <td>0</td>\n",
       "      <td>1</td>\n",
       "      <td>1</td>\n",
       "      <td>2</td>\n",
       "      <td>...</td>\n",
       "      <td>1</td>\n",
       "      <td>0</td>\n",
       "      <td>0</td>\n",
       "      <td>0</td>\n",
       "      <td>1</td>\n",
       "      <td>0</td>\n",
       "      <td>0</td>\n",
       "      <td>0</td>\n",
       "      <td>0</td>\n",
       "      <td>0</td>\n",
       "    </tr>\n",
       "    <tr>\n",
       "      <th>61298</th>\n",
       "      <td>500</td>\n",
       "      <td>909</td>\n",
       "      <td>14</td>\n",
       "      <td>999</td>\n",
       "      <td>1</td>\n",
       "      <td>9</td>\n",
       "      <td>0</td>\n",
       "      <td>1</td>\n",
       "      <td>2</td>\n",
       "      <td>0</td>\n",
       "      <td>...</td>\n",
       "      <td>1</td>\n",
       "      <td>0</td>\n",
       "      <td>0</td>\n",
       "      <td>0</td>\n",
       "      <td>1</td>\n",
       "      <td>0</td>\n",
       "      <td>0</td>\n",
       "      <td>0</td>\n",
       "      <td>0</td>\n",
       "      <td>0</td>\n",
       "    </tr>\n",
       "    <tr>\n",
       "      <th>80144</th>\n",
       "      <td>103</td>\n",
       "      <td>62</td>\n",
       "      <td>14</td>\n",
       "      <td>999</td>\n",
       "      <td>1</td>\n",
       "      <td>3</td>\n",
       "      <td>0</td>\n",
       "      <td>1</td>\n",
       "      <td>1</td>\n",
       "      <td>0</td>\n",
       "      <td>...</td>\n",
       "      <td>1</td>\n",
       "      <td>0</td>\n",
       "      <td>0</td>\n",
       "      <td>0</td>\n",
       "      <td>1</td>\n",
       "      <td>0</td>\n",
       "      <td>0</td>\n",
       "      <td>0</td>\n",
       "      <td>0</td>\n",
       "      <td>0</td>\n",
       "    </tr>\n",
       "    <tr>\n",
       "      <th>118260</th>\n",
       "      <td>36</td>\n",
       "      <td>63</td>\n",
       "      <td>14</td>\n",
       "      <td>999</td>\n",
       "      <td>1</td>\n",
       "      <td>5</td>\n",
       "      <td>0</td>\n",
       "      <td>1</td>\n",
       "      <td>2</td>\n",
       "      <td>2</td>\n",
       "      <td>...</td>\n",
       "      <td>1</td>\n",
       "      <td>0</td>\n",
       "      <td>0</td>\n",
       "      <td>0</td>\n",
       "      <td>1</td>\n",
       "      <td>0</td>\n",
       "      <td>0</td>\n",
       "      <td>0</td>\n",
       "      <td>0</td>\n",
       "      <td>0</td>\n",
       "    </tr>\n",
       "    <tr>\n",
       "      <th>60749</th>\n",
       "      <td>13</td>\n",
       "      <td>986</td>\n",
       "      <td>39</td>\n",
       "      <td>999</td>\n",
       "      <td>1</td>\n",
       "      <td>9</td>\n",
       "      <td>0</td>\n",
       "      <td>1</td>\n",
       "      <td>2</td>\n",
       "      <td>2</td>\n",
       "      <td>...</td>\n",
       "      <td>1</td>\n",
       "      <td>0</td>\n",
       "      <td>0</td>\n",
       "      <td>0</td>\n",
       "      <td>1</td>\n",
       "      <td>0</td>\n",
       "      <td>0</td>\n",
       "      <td>0</td>\n",
       "      <td>0</td>\n",
       "      <td>0</td>\n",
       "    </tr>\n",
       "    <tr>\n",
       "      <th>73954</th>\n",
       "      <td>214</td>\n",
       "      <td>118</td>\n",
       "      <td>14</td>\n",
       "      <td>999</td>\n",
       "      <td>1</td>\n",
       "      <td>0</td>\n",
       "      <td>0</td>\n",
       "      <td>1</td>\n",
       "      <td>1</td>\n",
       "      <td>2</td>\n",
       "      <td>...</td>\n",
       "      <td>1</td>\n",
       "      <td>0</td>\n",
       "      <td>0</td>\n",
       "      <td>0</td>\n",
       "      <td>1</td>\n",
       "      <td>0</td>\n",
       "      <td>0</td>\n",
       "      <td>0</td>\n",
       "      <td>0</td>\n",
       "      <td>0</td>\n",
       "    </tr>\n",
       "    <tr>\n",
       "      <th>153901</th>\n",
       "      <td>214</td>\n",
       "      <td>125</td>\n",
       "      <td>14</td>\n",
       "      <td>999</td>\n",
       "      <td>1</td>\n",
       "      <td>0</td>\n",
       "      <td>0</td>\n",
       "      <td>1</td>\n",
       "      <td>1</td>\n",
       "      <td>2</td>\n",
       "      <td>...</td>\n",
       "      <td>1</td>\n",
       "      <td>0</td>\n",
       "      <td>0</td>\n",
       "      <td>0</td>\n",
       "      <td>1</td>\n",
       "      <td>0</td>\n",
       "      <td>0</td>\n",
       "      <td>0</td>\n",
       "      <td>0</td>\n",
       "      <td>0</td>\n",
       "    </tr>\n",
       "    <tr>\n",
       "      <th>47945</th>\n",
       "      <td>10</td>\n",
       "      <td>66</td>\n",
       "      <td>29</td>\n",
       "      <td>999</td>\n",
       "      <td>1</td>\n",
       "      <td>4</td>\n",
       "      <td>0</td>\n",
       "      <td>1</td>\n",
       "      <td>1</td>\n",
       "      <td>2</td>\n",
       "      <td>...</td>\n",
       "      <td>1</td>\n",
       "      <td>0</td>\n",
       "      <td>0</td>\n",
       "      <td>0</td>\n",
       "      <td>1</td>\n",
       "      <td>0</td>\n",
       "      <td>0</td>\n",
       "      <td>0</td>\n",
       "      <td>0</td>\n",
       "      <td>0</td>\n",
       "    </tr>\n",
       "  </tbody>\n",
       "</table>\n",
       "<p>10 rows × 165 columns</p>\n",
       "</div>"
      ],
      "text/plain": [
       "        JOBCODE  EXT_FUNC_ID_SFI  FUNC_ID_SFI  FLOR_SFI  COMPANY  \\\n",
       "171603     3473              615          614       853        1   \n",
       "165689       90               62           14       999        1   \n",
       "30687      4159              165           42       999        1   \n",
       "61298       500              909           14       999        1   \n",
       "80144       103               62           14       999        1   \n",
       "118260       36               63           14       999        1   \n",
       "60749        13              986           39       999        1   \n",
       "73954       214              118           14       999        1   \n",
       "153901      214              125           14       999        1   \n",
       "47945        10               66           29       999        1   \n",
       "\n",
       "        DIVISION_CODE_SFI  FLSA_STATUS  SHIFT  ETHNIC_GROUP  BOX1  \\\n",
       "171603                  9            0      1             1     2   \n",
       "165689                  2            0      1             1     3   \n",
       "30687                   9            0      1             1     2   \n",
       "61298                   9            0      1             2     0   \n",
       "80144                   3            0      1             1     0   \n",
       "118260                  5            0      1             2     2   \n",
       "60749                   9            0      1             2     2   \n",
       "73954                   0            0      1             1     2   \n",
       "153901                  0            0      1             1     2   \n",
       "47945                   4            0      1             1     2   \n",
       "\n",
       "            ...       FULL_PART_TIME_F  FULL_PART_TIME_P  FULL_PART_TIME_X  \\\n",
       "171603      ...                      1                 0                 0   \n",
       "165689      ...                      1                 0                 0   \n",
       "30687       ...                      1                 0                 0   \n",
       "61298       ...                      1                 0                 0   \n",
       "80144       ...                      1                 0                 0   \n",
       "118260      ...                      1                 0                 0   \n",
       "60749       ...                      1                 0                 0   \n",
       "73954       ...                      1                 0                 0   \n",
       "153901      ...                      1                 0                 0   \n",
       "47945       ...                      1                 0                 0   \n",
       "\n",
       "        FULL_PART_TIME_N  EMPL_CLASS_1  EMPL_CLASS_D  EMPL_CLASS_3  \\\n",
       "171603                 0             1             0             0   \n",
       "165689                 0             1             0             0   \n",
       "30687                  0             1             0             0   \n",
       "61298                  0             1             0             0   \n",
       "80144                  0             1             0             0   \n",
       "118260                 0             1             0             0   \n",
       "60749                  0             1             0             0   \n",
       "73954                  0             1             0             0   \n",
       "153901                 0             1             0             0   \n",
       "47945                  0             1             0             0   \n",
       "\n",
       "        EMPL_CLASS_4  EMPL_CLASS_G  EMPL_CLASS_5  \n",
       "171603             0             0             0  \n",
       "165689             0             0             0  \n",
       "30687              0             0             0  \n",
       "61298              0             0             0  \n",
       "80144              0             0             0  \n",
       "118260             0             0             0  \n",
       "60749              0             0             0  \n",
       "73954              0             0             0  \n",
       "153901             0             0             0  \n",
       "47945              0             0             0  \n",
       "\n",
       "[10 rows x 165 columns]"
      ]
     },
     "execution_count": 52,
     "metadata": {},
     "output_type": "execute_result"
    }
   ],
   "source": [
    "catdummy = br.ConvertCategorical(categorical_columns=cols_to_dummy, method='dummy', rows_to_scan='all')\n",
    "#catdummy.fit(X, y).transform(testX)[0:10]\n",
    "catdummy.fit(em2build,y).transform(em2eval)[:10]"
   ]
  },
  {
   "cell_type": "code",
   "execution_count": 49,
   "metadata": {
    "collapsed": false
   },
   "outputs": [
    {
     "data": {
      "text/html": [
       "<div>\n",
       "<table border=\"1\" class=\"dataframe\">\n",
       "  <thead>\n",
       "    <tr style=\"text-align: right;\">\n",
       "      <th></th>\n",
       "      <th>LOC_STATE</th>\n",
       "      <th>LOC_TYPE_DESCR_SFI</th>\n",
       "    </tr>\n",
       "  </thead>\n",
       "  <tbody>\n",
       "    <tr>\n",
       "      <th>63362</th>\n",
       "      <td>CA</td>\n",
       "      <td>MULT-USE FACILITY</td>\n",
       "    </tr>\n",
       "    <tr>\n",
       "      <th>58284</th>\n",
       "      <td>OH</td>\n",
       "      <td>REGIONAL OFFICE</td>\n",
       "    </tr>\n",
       "    <tr>\n",
       "      <th>163344</th>\n",
       "      <td>GA</td>\n",
       "      <td>OPERATIONS CENTER</td>\n",
       "    </tr>\n",
       "    <tr>\n",
       "      <th>127628</th>\n",
       "      <td>IL</td>\n",
       "      <td>CORPORATE HEADQUARTERS</td>\n",
       "    </tr>\n",
       "    <tr>\n",
       "      <th>181074</th>\n",
       "      <td>NJ</td>\n",
       "      <td>OPERATIONS CENTER</td>\n",
       "    </tr>\n",
       "    <tr>\n",
       "      <th>159051</th>\n",
       "      <td>TN</td>\n",
       "      <td>TELEWORKER - MOBILE</td>\n",
       "    </tr>\n",
       "    <tr>\n",
       "      <th>72449</th>\n",
       "      <td>GA</td>\n",
       "      <td>OPERATIONS CENTER</td>\n",
       "    </tr>\n",
       "    <tr>\n",
       "      <th>132254</th>\n",
       "      <td>MN</td>\n",
       "      <td>OPERATIONS CENTER</td>\n",
       "    </tr>\n",
       "    <tr>\n",
       "      <th>149203</th>\n",
       "      <td>IL</td>\n",
       "      <td>CORPORATE HEADQUARTERS</td>\n",
       "    </tr>\n",
       "    <tr>\n",
       "      <th>80609</th>\n",
       "      <td>WA</td>\n",
       "      <td>OPERATIONS CENTER</td>\n",
       "    </tr>\n",
       "  </tbody>\n",
       "</table>\n",
       "</div>"
      ],
      "text/plain": [
       "       LOC_STATE      LOC_TYPE_DESCR_SFI\n",
       "63362         CA       MULT-USE FACILITY\n",
       "58284         OH         REGIONAL OFFICE\n",
       "163344        GA       OPERATIONS CENTER\n",
       "127628        IL  CORPORATE HEADQUARTERS\n",
       "181074        NJ       OPERATIONS CENTER\n",
       "159051        TN     TELEWORKER - MOBILE\n",
       "72449         GA       OPERATIONS CENTER\n",
       "132254        MN       OPERATIONS CENTER\n",
       "149203        IL  CORPORATE HEADQUARTERS\n",
       "80609         WA       OPERATIONS CENTER"
      ]
     },
     "execution_count": 49,
     "metadata": {},
     "output_type": "execute_result"
    }
   ],
   "source": [
    "em2build[cols_to_label_encode][0:10]"
   ]
  },
  {
   "cell_type": "code",
   "execution_count": 47,
   "metadata": {
    "collapsed": false
   },
   "outputs": [
    {
     "data": {
      "text/html": [
       "<div>\n",
       "<table border=\"1\" class=\"dataframe\">\n",
       "  <thead>\n",
       "    <tr style=\"text-align: right;\">\n",
       "      <th></th>\n",
       "      <th>JOBCODE</th>\n",
       "      <th>EXT_FUNC_ID_SFI</th>\n",
       "      <th>FUNC_ID_SFI</th>\n",
       "      <th>FLOR_SFI</th>\n",
       "      <th>COMPANY</th>\n",
       "      <th>DIVISION_CODE_SFI</th>\n",
       "      <th>FLSA_STATUS</th>\n",
       "      <th>SHIFT</th>\n",
       "      <th>ETHNIC_GROUP</th>\n",
       "      <th>BOX1</th>\n",
       "      <th>...</th>\n",
       "      <th>STD_HOURS</th>\n",
       "      <th>Tenure_years</th>\n",
       "      <th>Age_years</th>\n",
       "      <th>hire_age</th>\n",
       "      <th>status</th>\n",
       "      <th>sep_status</th>\n",
       "      <th>retired</th>\n",
       "      <th>terminated</th>\n",
       "      <th>LOC_STATE_f</th>\n",
       "      <th>LOC_TYPE_DESCR_SFI_f</th>\n",
       "    </tr>\n",
       "  </thead>\n",
       "  <tbody>\n",
       "    <tr>\n",
       "      <th>193788</th>\n",
       "      <td>90</td>\n",
       "      <td>62</td>\n",
       "      <td>14</td>\n",
       "      <td>999</td>\n",
       "      <td>1</td>\n",
       "      <td>3</td>\n",
       "      <td>0</td>\n",
       "      <td>1</td>\n",
       "      <td>1</td>\n",
       "      <td>2</td>\n",
       "      <td>...</td>\n",
       "      <td>38.75</td>\n",
       "      <td>31.004059</td>\n",
       "      <td>58.478956</td>\n",
       "      <td>27.474897</td>\n",
       "      <td>0</td>\n",
       "      <td>0</td>\n",
       "      <td>0</td>\n",
       "      <td>0</td>\n",
       "      <td>5</td>\n",
       "      <td>2</td>\n",
       "    </tr>\n",
       "    <tr>\n",
       "      <th>152502</th>\n",
       "      <td>6200</td>\n",
       "      <td>71</td>\n",
       "      <td>41</td>\n",
       "      <td>999</td>\n",
       "      <td>1</td>\n",
       "      <td>9</td>\n",
       "      <td>0</td>\n",
       "      <td>1</td>\n",
       "      <td>2</td>\n",
       "      <td>2</td>\n",
       "      <td>...</td>\n",
       "      <td>18.00</td>\n",
       "      <td>0.887082</td>\n",
       "      <td>29.090262</td>\n",
       "      <td>28.203180</td>\n",
       "      <td>1</td>\n",
       "      <td>1</td>\n",
       "      <td>0</td>\n",
       "      <td>1</td>\n",
       "      <td>12</td>\n",
       "      <td>2</td>\n",
       "    </tr>\n",
       "    <tr>\n",
       "      <th>46181</th>\n",
       "      <td>9252</td>\n",
       "      <td>182</td>\n",
       "      <td>1</td>\n",
       "      <td>852</td>\n",
       "      <td>1</td>\n",
       "      <td>9</td>\n",
       "      <td>1</td>\n",
       "      <td>1</td>\n",
       "      <td>3</td>\n",
       "      <td>2</td>\n",
       "      <td>...</td>\n",
       "      <td>38.75</td>\n",
       "      <td>16.260430</td>\n",
       "      <td>44.411590</td>\n",
       "      <td>28.151160</td>\n",
       "      <td>0</td>\n",
       "      <td>0</td>\n",
       "      <td>0</td>\n",
       "      <td>0</td>\n",
       "      <td>3</td>\n",
       "      <td>3</td>\n",
       "    </tr>\n",
       "    <tr>\n",
       "      <th>182030</th>\n",
       "      <td>90</td>\n",
       "      <td>63</td>\n",
       "      <td>14</td>\n",
       "      <td>999</td>\n",
       "      <td>1</td>\n",
       "      <td>5</td>\n",
       "      <td>0</td>\n",
       "      <td>1</td>\n",
       "      <td>1</td>\n",
       "      <td>2</td>\n",
       "      <td>...</td>\n",
       "      <td>38.75</td>\n",
       "      <td>21.665058</td>\n",
       "      <td>53.443945</td>\n",
       "      <td>31.778887</td>\n",
       "      <td>0</td>\n",
       "      <td>0</td>\n",
       "      <td>0</td>\n",
       "      <td>0</td>\n",
       "      <td>13</td>\n",
       "      <td>2</td>\n",
       "    </tr>\n",
       "    <tr>\n",
       "      <th>10341</th>\n",
       "      <td>89</td>\n",
       "      <td>62</td>\n",
       "      <td>14</td>\n",
       "      <td>999</td>\n",
       "      <td>1</td>\n",
       "      <td>2</td>\n",
       "      <td>0</td>\n",
       "      <td>1</td>\n",
       "      <td>1</td>\n",
       "      <td>2</td>\n",
       "      <td>...</td>\n",
       "      <td>38.75</td>\n",
       "      <td>5.070604</td>\n",
       "      <td>65.526328</td>\n",
       "      <td>60.455725</td>\n",
       "      <td>1</td>\n",
       "      <td>1</td>\n",
       "      <td>1</td>\n",
       "      <td>0</td>\n",
       "      <td>48</td>\n",
       "      <td>4</td>\n",
       "    </tr>\n",
       "    <tr>\n",
       "      <th>196567</th>\n",
       "      <td>3141</td>\n",
       "      <td>918</td>\n",
       "      <td>9</td>\n",
       "      <td>999</td>\n",
       "      <td>1</td>\n",
       "      <td>9</td>\n",
       "      <td>1</td>\n",
       "      <td>1</td>\n",
       "      <td>1</td>\n",
       "      <td>3</td>\n",
       "      <td>...</td>\n",
       "      <td>38.75</td>\n",
       "      <td>19.346051</td>\n",
       "      <td>51.376825</td>\n",
       "      <td>32.030774</td>\n",
       "      <td>0</td>\n",
       "      <td>0</td>\n",
       "      <td>0</td>\n",
       "      <td>0</td>\n",
       "      <td>0</td>\n",
       "      <td>4</td>\n",
       "    </tr>\n",
       "    <tr>\n",
       "      <th>125433</th>\n",
       "      <td>214</td>\n",
       "      <td>119</td>\n",
       "      <td>14</td>\n",
       "      <td>999</td>\n",
       "      <td>1</td>\n",
       "      <td>0</td>\n",
       "      <td>0</td>\n",
       "      <td>1</td>\n",
       "      <td>1</td>\n",
       "      <td>2</td>\n",
       "      <td>...</td>\n",
       "      <td>38.75</td>\n",
       "      <td>23.869073</td>\n",
       "      <td>57.830072</td>\n",
       "      <td>33.960999</td>\n",
       "      <td>0</td>\n",
       "      <td>0</td>\n",
       "      <td>0</td>\n",
       "      <td>0</td>\n",
       "      <td>2</td>\n",
       "      <td>2</td>\n",
       "    </tr>\n",
       "    <tr>\n",
       "      <th>29763</th>\n",
       "      <td>167</td>\n",
       "      <td>315</td>\n",
       "      <td>14</td>\n",
       "      <td>999</td>\n",
       "      <td>5</td>\n",
       "      <td>0</td>\n",
       "      <td>0</td>\n",
       "      <td>1</td>\n",
       "      <td>1</td>\n",
       "      <td>2</td>\n",
       "      <td>...</td>\n",
       "      <td>38.75</td>\n",
       "      <td>23.926569</td>\n",
       "      <td>49.624565</td>\n",
       "      <td>25.697995</td>\n",
       "      <td>0</td>\n",
       "      <td>0</td>\n",
       "      <td>0</td>\n",
       "      <td>0</td>\n",
       "      <td>17</td>\n",
       "      <td>4</td>\n",
       "    </tr>\n",
       "    <tr>\n",
       "      <th>155053</th>\n",
       "      <td>4670</td>\n",
       "      <td>896</td>\n",
       "      <td>38</td>\n",
       "      <td>782</td>\n",
       "      <td>1</td>\n",
       "      <td>9</td>\n",
       "      <td>1</td>\n",
       "      <td>1</td>\n",
       "      <td>1</td>\n",
       "      <td>3</td>\n",
       "      <td>...</td>\n",
       "      <td>38.75</td>\n",
       "      <td>36.575700</td>\n",
       "      <td>58.142193</td>\n",
       "      <td>21.566493</td>\n",
       "      <td>0</td>\n",
       "      <td>0</td>\n",
       "      <td>0</td>\n",
       "      <td>0</td>\n",
       "      <td>3</td>\n",
       "      <td>3</td>\n",
       "    </tr>\n",
       "    <tr>\n",
       "      <th>159080</th>\n",
       "      <td>3487</td>\n",
       "      <td>106</td>\n",
       "      <td>9</td>\n",
       "      <td>999</td>\n",
       "      <td>1</td>\n",
       "      <td>9</td>\n",
       "      <td>0</td>\n",
       "      <td>1</td>\n",
       "      <td>2</td>\n",
       "      <td>2</td>\n",
       "      <td>...</td>\n",
       "      <td>38.75</td>\n",
       "      <td>5.588068</td>\n",
       "      <td>30.015675</td>\n",
       "      <td>24.427606</td>\n",
       "      <td>1</td>\n",
       "      <td>1</td>\n",
       "      <td>0</td>\n",
       "      <td>1</td>\n",
       "      <td>8</td>\n",
       "      <td>2</td>\n",
       "    </tr>\n",
       "  </tbody>\n",
       "</table>\n",
       "<p>10 rows × 142 columns</p>\n",
       "</div>"
      ],
      "text/plain": [
       "        JOBCODE  EXT_FUNC_ID_SFI  FUNC_ID_SFI  FLOR_SFI  COMPANY  \\\n",
       "193788       90               62           14       999        1   \n",
       "152502     6200               71           41       999        1   \n",
       "46181      9252              182            1       852        1   \n",
       "182030       90               63           14       999        1   \n",
       "10341        89               62           14       999        1   \n",
       "196567     3141              918            9       999        1   \n",
       "125433      214              119           14       999        1   \n",
       "29763       167              315           14       999        5   \n",
       "155053     4670              896           38       782        1   \n",
       "159080     3487              106            9       999        1   \n",
       "\n",
       "        DIVISION_CODE_SFI  FLSA_STATUS  SHIFT  ETHNIC_GROUP  BOX1  \\\n",
       "193788                  3            0      1             1     2   \n",
       "152502                  9            0      1             2     2   \n",
       "46181                   9            1      1             3     2   \n",
       "182030                  5            0      1             1     2   \n",
       "10341                   2            0      1             1     2   \n",
       "196567                  9            1      1             1     3   \n",
       "125433                  0            0      1             1     2   \n",
       "29763                   0            0      1             1     2   \n",
       "155053                  9            1      1             1     3   \n",
       "159080                  9            0      1             2     2   \n",
       "\n",
       "                ...           STD_HOURS  Tenure_years  Age_years   hire_age  \\\n",
       "193788          ...               38.75     31.004059  58.478956  27.474897   \n",
       "152502          ...               18.00      0.887082  29.090262  28.203180   \n",
       "46181           ...               38.75     16.260430  44.411590  28.151160   \n",
       "182030          ...               38.75     21.665058  53.443945  31.778887   \n",
       "10341           ...               38.75      5.070604  65.526328  60.455725   \n",
       "196567          ...               38.75     19.346051  51.376825  32.030774   \n",
       "125433          ...               38.75     23.869073  57.830072  33.960999   \n",
       "29763           ...               38.75     23.926569  49.624565  25.697995   \n",
       "155053          ...               38.75     36.575700  58.142193  21.566493   \n",
       "159080          ...               38.75      5.588068  30.015675  24.427606   \n",
       "\n",
       "        status  sep_status  retired  terminated  LOC_STATE_f  \\\n",
       "193788       0           0        0           0            5   \n",
       "152502       1           1        0           1           12   \n",
       "46181        0           0        0           0            3   \n",
       "182030       0           0        0           0           13   \n",
       "10341        1           1        1           0           48   \n",
       "196567       0           0        0           0            0   \n",
       "125433       0           0        0           0            2   \n",
       "29763        0           0        0           0           17   \n",
       "155053       0           0        0           0            3   \n",
       "159080       1           1        0           1            8   \n",
       "\n",
       "        LOC_TYPE_DESCR_SFI_f  \n",
       "193788                     2  \n",
       "152502                     2  \n",
       "46181                      3  \n",
       "182030                     2  \n",
       "10341                      4  \n",
       "196567                     4  \n",
       "125433                     2  \n",
       "29763                      4  \n",
       "155053                     3  \n",
       "159080                     2  \n",
       "\n",
       "[10 rows x 142 columns]"
      ]
     },
     "execution_count": 47,
     "metadata": {},
     "output_type": "execute_result"
    }
   ],
   "source": [
    "catdummy2 = br.ConvertCategorical(cols_to_label_encode, method='factorize', rows_to_scan=0.9)\n",
    "catdummy2.fit(em2build, y).transform(em2eval)[0:10]"
   ]
  },
  {
   "cell_type": "code",
   "execution_count": 54,
   "metadata": {
    "collapsed": false
   },
   "outputs": [
    {
     "data": {
      "text/html": [
       "<div>\n",
       "<table border=\"1\" class=\"dataframe\">\n",
       "  <thead>\n",
       "    <tr style=\"text-align: right;\">\n",
       "      <th></th>\n",
       "      <th>SAL1</th>\n",
       "      <th>MIN_RT_ANNUAL</th>\n",
       "    </tr>\n",
       "  </thead>\n",
       "  <tbody>\n",
       "    <tr>\n",
       "      <th>117320</th>\n",
       "      <td>89822.48</td>\n",
       "      <td>52660.02</td>\n",
       "    </tr>\n",
       "    <tr>\n",
       "      <th>83635</th>\n",
       "      <td>37484.36</td>\n",
       "      <td>36151.96</td>\n",
       "    </tr>\n",
       "    <tr>\n",
       "      <th>63173</th>\n",
       "      <td>30000.00</td>\n",
       "      <td>26708.32</td>\n",
       "    </tr>\n",
       "    <tr>\n",
       "      <th>86415</th>\n",
       "      <td>78870.20</td>\n",
       "      <td>50370.46</td>\n",
       "    </tr>\n",
       "    <tr>\n",
       "      <th>100608</th>\n",
       "      <td>61038.24</td>\n",
       "      <td>45791.33</td>\n",
       "    </tr>\n",
       "    <tr>\n",
       "      <th>195323</th>\n",
       "      <td>81642.03</td>\n",
       "      <td>0.00</td>\n",
       "    </tr>\n",
       "    <tr>\n",
       "      <th>199275</th>\n",
       "      <td>46206.57</td>\n",
       "      <td>45791.33</td>\n",
       "    </tr>\n",
       "    <tr>\n",
       "      <th>199154</th>\n",
       "      <td>36186.33</td>\n",
       "      <td>31185.00</td>\n",
       "    </tr>\n",
       "    <tr>\n",
       "      <th>95349</th>\n",
       "      <td>10913.76</td>\n",
       "      <td>21997.71</td>\n",
       "    </tr>\n",
       "    <tr>\n",
       "      <th>10546</th>\n",
       "      <td>52835.70</td>\n",
       "      <td>45791.33</td>\n",
       "    </tr>\n",
       "  </tbody>\n",
       "</table>\n",
       "</div>"
      ],
      "text/plain": [
       "            SAL1  MIN_RT_ANNUAL\n",
       "117320  89822.48       52660.02\n",
       "83635   37484.36       36151.96\n",
       "63173   30000.00       26708.32\n",
       "86415   78870.20       50370.46\n",
       "100608  61038.24       45791.33\n",
       "195323  81642.03           0.00\n",
       "199275  46206.57       45791.33\n",
       "199154  36186.33       31185.00\n",
       "95349   10913.76       21997.71\n",
       "10546   52835.70       45791.33"
      ]
     },
     "execution_count": 54,
     "metadata": {},
     "output_type": "execute_result"
    }
   ],
   "source": [
    "em2eval[['SAL1','MIN_RT_ANNUAL']][20:30]"
   ]
  },
  {
   "cell_type": "code",
   "execution_count": 58,
   "metadata": {
    "collapsed": false
   },
   "outputs": [
    {
     "data": {
      "text/html": [
       "<div>\n",
       "<table border=\"1\" class=\"dataframe\">\n",
       "  <thead>\n",
       "    <tr style=\"text-align: right;\">\n",
       "      <th></th>\n",
       "      <th>SAL1</th>\n",
       "      <th>MIN_RT_ANNUAL</th>\n",
       "    </tr>\n",
       "  </thead>\n",
       "  <tbody>\n",
       "    <tr>\n",
       "      <th>142335</th>\n",
       "      <td>61220.63</td>\n",
       "      <td>44916.07</td>\n",
       "    </tr>\n",
       "    <tr>\n",
       "      <th>130109</th>\n",
       "      <td>119308.26</td>\n",
       "      <td>70964.96</td>\n",
       "    </tr>\n",
       "    <tr>\n",
       "      <th>197537</th>\n",
       "      <td>108515.19</td>\n",
       "      <td>80171.36</td>\n",
       "    </tr>\n",
       "    <tr>\n",
       "      <th>136907</th>\n",
       "      <td>30000.00</td>\n",
       "      <td>17800.00</td>\n",
       "    </tr>\n",
       "    <tr>\n",
       "      <th>131879</th>\n",
       "      <td>36672.79</td>\n",
       "      <td>20500.00</td>\n",
       "    </tr>\n",
       "    <tr>\n",
       "      <th>151304</th>\n",
       "      <td>125000.00</td>\n",
       "      <td>17800.00</td>\n",
       "    </tr>\n",
       "    <tr>\n",
       "      <th>135671</th>\n",
       "      <td>36153.91</td>\n",
       "      <td>36153.91</td>\n",
       "    </tr>\n",
       "    <tr>\n",
       "      <th>119582</th>\n",
       "      <td>44339.86</td>\n",
       "      <td>39500.00</td>\n",
       "    </tr>\n",
       "    <tr>\n",
       "      <th>169023</th>\n",
       "      <td>48553.81</td>\n",
       "      <td>31045.35</td>\n",
       "    </tr>\n",
       "    <tr>\n",
       "      <th>147541</th>\n",
       "      <td>34015.09</td>\n",
       "      <td>31045.35</td>\n",
       "    </tr>\n",
       "  </tbody>\n",
       "</table>\n",
       "</div>"
      ],
      "text/plain": [
       "             SAL1  MIN_RT_ANNUAL\n",
       "142335   61220.63       44916.07\n",
       "130109  119308.26       70964.96\n",
       "197537  108515.19       80171.36\n",
       "136907   30000.00       17800.00\n",
       "131879   36672.79       20500.00\n",
       "151304  125000.00       17800.00\n",
       "135671   36153.91       36153.91\n",
       "119582   44339.86       39500.00\n",
       "169023   48553.81       31045.35\n",
       "147541   34015.09       31045.35"
      ]
     },
     "execution_count": 58,
     "metadata": {},
     "output_type": "execute_result"
    }
   ],
   "source": [
    "fixout_min=br.FixNumericOutlier(columns_to_fix=['SAL1','MIN_RT_ANNUAL'], criteria_coef=('percentile', 5), \n",
    "                            method = 'lower', fill_with='nearest_value')#,                            rows_to_scan = 0.6)\n",
    "fixout_max=br.FixNumericOutlier(columns_to_fix=['MAX_RT_ANNUAL'], criteria_coef=('percentile', 5), \n",
    "                            method = 'both', fill_with='nearest_value')#,                            rows_to_scan = 0.6)\n",
    "\n",
    "#fixout_max.fit(X, y).transform(testX)[0:10]\n",
    "fixout_min.fit(em2build[['SAL1','MIN_RT_ANNUAL']]).transform(em2eval[['SAL1','MIN_RT_ANNUAL']])[20:30]"
   ]
  },
  {
   "cell_type": "code",
   "execution_count": 225,
   "metadata": {
    "collapsed": false
   },
   "outputs": [
    {
     "data": {
      "text/html": [
       "<div>\n",
       "<table border=\"1\" class=\"dataframe\">\n",
       "  <thead>\n",
       "    <tr style=\"text-align: right;\">\n",
       "      <th></th>\n",
       "      <th>SAL1</th>\n",
       "      <th>SAL2</th>\n",
       "      <th>SAL3</th>\n",
       "      <th>SAL1_d</th>\n",
       "      <th>SAL2_d</th>\n",
       "      <th>SAL3_d</th>\n",
       "    </tr>\n",
       "  </thead>\n",
       "  <tbody>\n",
       "    <tr>\n",
       "      <th>24353</th>\n",
       "      <td>26385.39</td>\n",
       "      <td>25868.03</td>\n",
       "      <td>24403.80</td>\n",
       "      <td>0</td>\n",
       "      <td>0</td>\n",
       "      <td>0</td>\n",
       "    </tr>\n",
       "    <tr>\n",
       "      <th>123760</th>\n",
       "      <td>42164.98</td>\n",
       "      <td>41036.48</td>\n",
       "      <td>40074.69</td>\n",
       "      <td>0</td>\n",
       "      <td>0</td>\n",
       "      <td>0</td>\n",
       "    </tr>\n",
       "    <tr>\n",
       "      <th>54488</th>\n",
       "      <td>76274.46</td>\n",
       "      <td>70231.08</td>\n",
       "      <td>69193.18</td>\n",
       "      <td>0</td>\n",
       "      <td>0</td>\n",
       "      <td>0</td>\n",
       "    </tr>\n",
       "    <tr>\n",
       "      <th>18636</th>\n",
       "      <td>39320.73</td>\n",
       "      <td>38242.30</td>\n",
       "      <td>38242.30</td>\n",
       "      <td>0</td>\n",
       "      <td>0</td>\n",
       "      <td>0</td>\n",
       "    </tr>\n",
       "    <tr>\n",
       "      <th>37333</th>\n",
       "      <td>48284.50</td>\n",
       "      <td>47552.20</td>\n",
       "      <td>46478.55</td>\n",
       "      <td>0</td>\n",
       "      <td>0</td>\n",
       "      <td>0</td>\n",
       "    </tr>\n",
       "    <tr>\n",
       "      <th>125406</th>\n",
       "      <td>65628.79</td>\n",
       "      <td>64812.16</td>\n",
       "      <td>63145.13</td>\n",
       "      <td>0</td>\n",
       "      <td>0</td>\n",
       "      <td>0</td>\n",
       "    </tr>\n",
       "    <tr>\n",
       "      <th>191876</th>\n",
       "      <td>58723.08</td>\n",
       "      <td>56929.79</td>\n",
       "      <td>55116.46</td>\n",
       "      <td>0</td>\n",
       "      <td>0</td>\n",
       "      <td>0</td>\n",
       "    </tr>\n",
       "    <tr>\n",
       "      <th>147433</th>\n",
       "      <td>21528.00</td>\n",
       "      <td>46755.98</td>\n",
       "      <td>44368.65</td>\n",
       "      <td>0</td>\n",
       "      <td>1</td>\n",
       "      <td>1</td>\n",
       "    </tr>\n",
       "    <tr>\n",
       "      <th>152323</th>\n",
       "      <td>12916.80</td>\n",
       "      <td>12327.12</td>\n",
       "      <td>16049.28</td>\n",
       "      <td>0</td>\n",
       "      <td>0</td>\n",
       "      <td>0</td>\n",
       "    </tr>\n",
       "    <tr>\n",
       "      <th>29073</th>\n",
       "      <td>25223.70</td>\n",
       "      <td>25223.70</td>\n",
       "      <td>0.00</td>\n",
       "      <td>0</td>\n",
       "      <td>0</td>\n",
       "      <td>0</td>\n",
       "    </tr>\n",
       "  </tbody>\n",
       "</table>\n",
       "</div>"
      ],
      "text/plain": [
       "            SAL1      SAL2      SAL3  SAL1_d  SAL2_d  SAL3_d\n",
       "24353   26385.39  25868.03  24403.80       0       0       0\n",
       "123760  42164.98  41036.48  40074.69       0       0       0\n",
       "54488   76274.46  70231.08  69193.18       0       0       0\n",
       "18636   39320.73  38242.30  38242.30       0       0       0\n",
       "37333   48284.50  47552.20  46478.55       0       0       0\n",
       "125406  65628.79  64812.16  63145.13       0       0       0\n",
       "191876  58723.08  56929.79  55116.46       0       0       0\n",
       "147433  21528.00  46755.98  44368.65       0       1       1\n",
       "152323  12916.80  12327.12  16049.28       0       0       0\n",
       "29073   25223.70  25223.70      0.00       0       0       0"
      ]
     },
     "execution_count": 225,
     "metadata": {},
     "output_type": "execute_result"
    }
   ],
   "source": [
    "col_subset = ['SAL1','SAL2','SAL3']\n",
    "imp = br.ImputeData(method='median', columns_to_impute=col_subset, impute_inf=False, )\n",
    "imp.fit(em2build[col_subset], y).transform(em2eval[col_subset])[0:10]"
   ]
  },
  {
   "cell_type": "code",
   "execution_count": 234,
   "metadata": {
    "collapsed": false
   },
   "outputs": [
    {
     "data": {
      "text/plain": [
       "SAL1             46537.65\n",
       "MIN_RT_ANNUAL    35830.25\n",
       "dtype: float64"
      ]
     },
     "execution_count": 234,
     "metadata": {},
     "output_type": "execute_result"
    }
   ],
   "source": [
    "em2build[['SAL1','MIN_RT_ANNUAL']].median()"
   ]
  },
  {
   "cell_type": "code",
   "execution_count": 242,
   "metadata": {
    "collapsed": false
   },
   "outputs": [
    {
     "data": {
      "text/plain": [
       "Int64Index([176931,   3597,  29090,  66672,  43172, 174893, 170538, 143204,\n",
       "            115956,  27459, \n",
       "            ...\n",
       "            156655, 118733,    148,  95828, 165977,  45106,  60009,   3407,\n",
       "            131593,  86519],\n",
       "           dtype='int64', length=2631)"
      ]
     },
     "execution_count": 242,
     "metadata": {},
     "output_type": "execute_result"
    }
   ],
   "source": [
    "em2build[em2build['MIN_RT_ANNUAL']<1].index"
   ]
  },
  {
   "cell_type": "code",
   "execution_count": 56,
   "metadata": {
    "collapsed": false
   },
   "outputs": [],
   "source": [
    "model_cols = em2build.columns.tolist()\n",
    "model_cols.remove('status')\n",
    "model_cols.remove('sep_status')\n",
    "model_cols.remove('term_tstmp')\n",
    "model_cols.remove('hire_tstmp')\n",
    "model_cols.remove('birth_tstmp')"
   ]
  },
  {
   "cell_type": "code",
   "execution_count": 63,
   "metadata": {
    "collapsed": false
   },
   "outputs": [],
   "source": [
    "from sklearn.pipeline import Pipeline\n",
    "#cate_list = br.get_categorical_list(X)\n",
    "pipe = Pipeline([#(\"null\", br.RemoveAllNull()),                   \n",
    "                 (\"cat\", br.ConvertCategorical(cols_to_dummy, rows_to_scan=0.3)),\n",
    "                 (\"imp\", br.ImputeData(columns_to_impute='auto', rows_to_scan=0.3)),\n",
    "                 (\"redu\", br.DimensionReduction(rows_to_scan=0.3, n_components=10))])\n",
    "X = pipe.fit_transform(em2build[model_cols], y)#.transform(testX)[0:10]"
   ]
  },
  {
   "cell_type": "code",
   "execution_count": 64,
   "metadata": {
    "collapsed": false
   },
   "outputs": [],
   "source": [
    "from sklearn import ensemble"
   ]
  },
  {
   "cell_type": "code",
   "execution_count": 66,
   "metadata": {
    "collapsed": true
   },
   "outputs": [],
   "source": [
    "tenure_reg = ensemble.GradientBoostingRegressor(n_estimators=100)"
   ]
  },
  {
   "cell_type": "code",
   "execution_count": 67,
   "metadata": {
    "collapsed": false
   },
   "outputs": [
    {
     "data": {
      "text/plain": [
       "GradientBoostingRegressor(alpha=0.9, init=None, learning_rate=0.1, loss='ls',\n",
       "             max_depth=3, max_features=None, max_leaf_nodes=None,\n",
       "             min_samples_leaf=1, min_samples_split=2,\n",
       "             min_weight_fraction_leaf=0.0, n_estimators=100,\n",
       "             random_state=None, subsample=1.0, verbose=0, warm_start=False)"
      ]
     },
     "execution_count": 67,
     "metadata": {},
     "output_type": "execute_result"
    }
   ],
   "source": [
    "tenure_reg.fit(X,y)"
   ]
  },
  {
   "cell_type": "code",
   "execution_count": 68,
   "metadata": {
    "collapsed": true
   },
   "outputs": [],
   "source": [
    "Xeval = pipe.transform(em2eval[model_cols])"
   ]
  },
  {
   "cell_type": "code",
   "execution_count": 75,
   "metadata": {
    "collapsed": false
   },
   "outputs": [],
   "source": [
    "t_status_pred = tenure_reg.predict(Xeval)"
   ]
  },
  {
   "cell_type": "code",
   "execution_count": 76,
   "metadata": {
    "collapsed": false
   },
   "outputs": [
    {
     "data": {
      "text/plain": [
       "<matplotlib.collections.PathCollection at 0x44277160>"
      ]
     },
     "execution_count": 76,
     "metadata": {},
     "output_type": "execute_result"
    },
    {
     "data": {
      "image/png": "[encoded data removed]",
      "text/plain": [
       "<matplotlib.figure.Figure at 0x4abdecf8>"
      ]
     },
     "metadata": {},
     "output_type": "display_data"
    }
   ],
   "source": [
    "plt.scatter(yEval,t_status_pred)"
   ]
  },
  {
   "cell_type": "code",
   "execution_count": null,
   "metadata": {
    "collapsed": true
   },
   "outputs": [],
   "source": []
  }
 ],
 "metadata": {
  "kernelspec": {
   "display_name": "Python 2",
   "language": "python",
   "name": "python2"
  },
  "language_info": {
   "codemirror_mode": {
    "name": "ipython",
    "version": 2
   },
   "file_extension": ".py",
   "mimetype": "text/x-python",
   "name": "python",
   "nbconvert_exporter": "python",
   "pygments_lexer": "ipython2",
   "version": "2.7.9"
  }
 },
 "nbformat": 4,
 "nbformat_minor": 0
}
