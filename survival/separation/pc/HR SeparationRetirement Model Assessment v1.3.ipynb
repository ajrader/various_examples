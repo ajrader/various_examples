{
 "cells": [
  {
   "cell_type": "markdown",
   "metadata": {},
   "source": [
    "# HR Separation \n",
    "## Assessment of the survival models (and my modifications to lifelines)\n",
    "\n",
    "## March 16, 2016\n",
    "\n",
    "The issue is that my predictions, don't necessarily match those of the actual separation in 2015.\n",
    "\n",
    "Let's investigate this."
   ]
  },
  {
   "cell_type": "code",
   "execution_count": 1,
   "metadata": {
    "collapsed": true
   },
   "outputs": [],
   "source": [
    "stgdir1local = u'C:/Users/kesj/Documents/projects/HRattrition/survival'\n",
    "repodir = u'C:/Users/kesj/code/'"
   ]
  },
  {
   "cell_type": "code",
   "execution_count": 2,
   "metadata": {
    "collapsed": true
   },
   "outputs": [],
   "source": [
    "import os,sys\n",
    "import pandas as pd\n",
    "import numpy as np\n",
    "import matplotlib.pyplot as plt\n",
    "%matplotlib inline\n",
    "import seaborn as sns"
   ]
  },
  {
   "cell_type": "code",
   "execution_count": 3,
   "metadata": {
    "collapsed": true
   },
   "outputs": [],
   "source": [
    "os.chdir(stgdir1local)"
   ]
  },
  {
   "cell_type": "markdown",
   "metadata": {},
   "source": [
    "## load the model"
   ]
  },
  {
   "cell_type": "code",
   "execution_count": 4,
   "metadata": {
    "collapsed": true
   },
   "outputs": [],
   "source": [
    "import pickle"
   ]
  },
  {
   "cell_type": "code",
   "execution_count": 5,
   "metadata": {
    "collapsed": true
   },
   "outputs": [],
   "source": [
    "mdl_filename='separation_cf4.pkl'\n",
    "sep_mdl = pickle.load(open(mdl_filename,'rb'))"
   ]
  },
  {
   "cell_type": "code",
   "execution_count": 6,
   "metadata": {
    "collapsed": true
   },
   "outputs": [],
   "source": [
    "import lifelines as ll"
   ]
  },
  {
   "cell_type": "markdown",
   "metadata": {},
   "source": [
    "### Load the dataset"
   ]
  },
  {
   "cell_type": "code",
   "execution_count": 7,
   "metadata": {
    "collapsed": false
   },
   "outputs": [],
   "source": [
    "empl1 = pd.read_csv('after2001_v8.csv',dtype={'KEY':np.str,'EEO1CODE':np.str},parse_dates=['birth_tstmp','term_tstmp','hire_tstmp'])"
   ]
  },
  {
   "cell_type": "code",
   "execution_count": 8,
   "metadata": {
    "collapsed": false
   },
   "outputs": [
    {
     "data": {
      "text/plain": [
       "array(['2', '5', '1', '4', '3', '7', '6', 'N', 'L', '8'], dtype=object)"
      ]
     },
     "execution_count": 8,
     "metadata": {},
     "output_type": "execute_result"
    }
   ],
   "source": [
    "empl1.EEO1CODE.unique()"
   ]
  },
  {
   "cell_type": "code",
   "execution_count": 9,
   "metadata": {
    "collapsed": false
   },
   "outputs": [],
   "source": [
    "from sklearn.pipeline import Pipeline, FeatureUnion\n",
    "from sklearn import ensemble, metrics, cross_validation"
   ]
  },
  {
   "cell_type": "code",
   "execution_count": 10,
   "metadata": {
    "collapsed": false
   },
   "outputs": [],
   "source": [
    "os.chdir(repodir)\n",
    "import bear.bear as br\n",
    "#os.chdir(stgdir1local)\n",
    "reload(br)\n",
    "os.chdir(stgdir1local)"
   ]
  },
  {
   "cell_type": "code",
   "execution_count": 11,
   "metadata": {
    "collapsed": false
   },
   "outputs": [
    {
     "name": "stdout",
     "output_type": "stream",
     "text": [
      "(134189, 69475)\n"
     ]
    }
   ],
   "source": [
    "current = empl1[empl1.status==0].copy()\n",
    "print(len(empl1),len(current))\n",
    "#empl1[empl1.status==0].to_csv('current_v8.ssv',sep=';',index=False)"
   ]
  },
  {
   "cell_type": "code",
   "execution_count": null,
   "metadata": {
    "collapsed": true
   },
   "outputs": [],
   "source": []
  },
  {
   "cell_type": "code",
   "execution_count": 12,
   "metadata": {
    "collapsed": false
   },
   "outputs": [],
   "source": [
    "#os.chdir('../reduced/')\n",
    "#empl2 = pd.read_csv('after2001_v3.csv',dtype={'KEY':np.str})\n",
    "#print(empl2.shape)"
   ]
  },
  {
   "cell_type": "code",
   "execution_count": 13,
   "metadata": {
    "collapsed": false
   },
   "outputs": [
    {
     "data": {
      "text/plain": [
       "['HIRE_DT', 'LAST_HIRE_DT', 'SERVICE_DT', 'TERMINATION_DT']"
      ]
     },
     "execution_count": 13,
     "metadata": {},
     "output_type": "execute_result"
    }
   ],
   "source": [
    "[col for col in empl1.columns if col.endswith('DT')]"
   ]
  },
  {
   "cell_type": "code",
   "execution_count": 14,
   "metadata": {
    "collapsed": false
   },
   "outputs": [
    {
     "data": {
      "text/plain": [
       "(134189, 126)"
      ]
     },
     "execution_count": 14,
     "metadata": {},
     "output_type": "execute_result"
    }
   ],
   "source": [
    "empl1.shape"
   ]
  },
  {
   "cell_type": "markdown",
   "metadata": {},
   "source": [
    "## Define the Interesting Extended Functions and JOBCODES"
   ]
  },
  {
   "cell_type": "code",
   "execution_count": 15,
   "metadata": {
    "collapsed": false
   },
   "outputs": [
    {
     "data": {
      "text/plain": [
       "{71: 'CCC Service',\n",
       " 517: 'State Farm Bank',\n",
       " 816: 'Life Health Response Center',\n",
       " 835: 'SFPP',\n",
       " 892: 'CCC Sales',\n",
       " 909: 'Enterprise Auto Express',\n",
       " 910: 'Enterprise ILR'}"
      ]
     },
     "execution_count": 15,
     "metadata": {},
     "output_type": "execute_result"
    }
   ],
   "source": [
    "#interesting_extended_functions = [892,71, 816, 909,910,517,835]\n",
    "extFuncDict ={}\n",
    "extFuncDict[892]='CCC Sales'\n",
    "extFuncDict[71]='CCC Service'\n",
    "extFuncDict[816]='Life Health Response Center'\n",
    "#(00816)\n",
    "extFuncDict[909]='Enterprise Auto Express'\n",
    "extFuncDict[910]='Enterprise ILR' \n",
    "extFuncDict[517]='State Farm Bank'\n",
    "extFuncDict[835]='SFPP'\n",
    "interesting_extended_functions = extFuncDict.keys()\n",
    "extFuncDict"
   ]
  },
  {
   "cell_type": "code",
   "execution_count": 20,
   "metadata": {
    "collapsed": false
   },
   "outputs": [
    {
     "data": {
      "text/plain": [
       "{851: 'Bank Customer Service Rep',\n",
       " 852: 'Bank Customer Service Rep',\n",
       " 853: 'Bank Customer Service Rep',\n",
       " 983: 'Claim Associate-Express',\n",
       " 984: 'Claim Associate-Express',\n",
       " 986: 'CLaim Team Manager-ILR',\n",
       " 1009: 'CLaim Associate-ILR',\n",
       " 1876: 'CCC Sales Rep',\n",
       " 2638: 'Life Customer Service Asst',\n",
       " 2639: 'Life Customer Service Asst',\n",
       " 2641: 'Life Customer Service Asst',\n",
       " 4105: 'SFPP Account Rep',\n",
       " 6200: 'CCC Service Rep'}"
      ]
     },
     "execution_count": 20,
     "metadata": {},
     "output_type": "execute_result"
    }
   ],
   "source": [
    "jobCodeDict = {}\n",
    "jobCodeDict[6200]= 'CCC Service Rep'\n",
    "jobCodeDict[1876]= 'CCC Sales Rep'\n",
    "jobCodeDict[1009]='CLaim Associate-ILR'\n",
    "jobCodeDict[986]='CLaim Team Manager-ILR'\n",
    "jobCodeDict[983]='Claim Associate-Express'\n",
    "jobCodeDict[984]='Claim Associate-Express'\n",
    "jobCodeDict[2638]='Life Customer Service Asst'\n",
    "jobCodeDict[2639]='Life Customer Service Asst'\n",
    "jobCodeDict[2641]='Life Customer Service Asst'\n",
    "jobCodeDict[4105]= 'SFPP Account Rep'\n",
    "jobCodeDict[851]= 'Bank Customer Service Rep'\n",
    "jobCodeDict[852]= 'Bank Customer Service Rep'\n",
    "jobCodeDict[853]= 'Bank Customer Service Rep'\n",
    "interesting_jobcodes =  jobCodeDict.keys()\n",
    "jobCodeDict"
   ]
  },
  {
   "cell_type": "markdown",
   "metadata": {},
   "source": [
    "## Create an overall KMF for separation"
   ]
  },
  {
   "cell_type": "code",
   "execution_count": 21,
   "metadata": {
    "collapsed": false
   },
   "outputs": [
    {
     "data": {
      "text/plain": [
       "0    84338\n",
       "1    49851\n",
       "Name: terminated, dtype: int64"
      ]
     },
     "execution_count": 21,
     "metadata": {},
     "output_type": "execute_result"
    }
   ],
   "source": [
    "empl1.terminated.value_counts()"
   ]
  },
  {
   "cell_type": "code",
   "execution_count": 17,
   "metadata": {
    "collapsed": false
   },
   "outputs": [
    {
     "data": {
      "text/plain": [
       "0    119326\n",
       "1     14863\n",
       "Name: retired, dtype: int64"
      ]
     },
     "execution_count": 17,
     "metadata": {},
     "output_type": "execute_result"
    }
   ],
   "source": [
    "empl1.retired.value_counts()"
   ]
  },
  {
   "cell_type": "code",
   "execution_count": 16,
   "metadata": {
    "collapsed": false
   },
   "outputs": [
    {
     "data": {
      "text/plain": [
       "0    69475\n",
       "1    43198\n",
       "2    21516\n",
       "Name: sep_status, dtype: int64"
      ]
     },
     "execution_count": 16,
     "metadata": {},
     "output_type": "execute_result"
    }
   ],
   "source": [
    "empl1.sep_status.value_counts()"
   ]
  },
  {
   "cell_type": "code",
   "execution_count": 19,
   "metadata": {
    "collapsed": false
   },
   "outputs": [
    {
     "data": {
      "text/html": [
       "<div>\n",
       "<table border=\"1\" class=\"dataframe\">\n",
       "  <thead>\n",
       "    <tr style=\"text-align: right;\">\n",
       "      <th>status</th>\n",
       "      <th>0</th>\n",
       "      <th>1</th>\n",
       "    </tr>\n",
       "    <tr>\n",
       "      <th>retired</th>\n",
       "      <th></th>\n",
       "      <th></th>\n",
       "    </tr>\n",
       "  </thead>\n",
       "  <tbody>\n",
       "    <tr>\n",
       "      <th>0</th>\n",
       "      <td>69475</td>\n",
       "      <td>49851</td>\n",
       "    </tr>\n",
       "    <tr>\n",
       "      <th>1</th>\n",
       "      <td>0</td>\n",
       "      <td>14863</td>\n",
       "    </tr>\n",
       "  </tbody>\n",
       "</table>\n",
       "</div>"
      ],
      "text/plain": [
       "status       0      1\n",
       "retired              \n",
       "0        69475  49851\n",
       "1            0  14863"
      ]
     },
     "execution_count": 19,
     "metadata": {},
     "output_type": "execute_result"
    }
   ],
   "source": [
    "pd.crosstab(empl1.retired,empl1.status)"
   ]
  },
  {
   "cell_type": "code",
   "execution_count": null,
   "metadata": {
    "collapsed": true
   },
   "outputs": [],
   "source": []
  },
  {
   "cell_type": "code",
   "execution_count": 35,
   "metadata": {
    "collapsed": false
   },
   "outputs": [
    {
     "data": {
      "text/plain": [
       "<lifelines.KaplanMeierFitter: fitted with 134189 observations, 84338 censored>"
      ]
     },
     "execution_count": 35,
     "metadata": {},
     "output_type": "execute_result"
    }
   ],
   "source": [
    "kmf_all = ll.KaplanMeierFitter()\n",
    "kmf_all.fit(empl1.Tenure_years,empl1.terminated,label='All post2001 employees')"
   ]
  },
  {
   "cell_type": "code",
   "execution_count": 36,
   "metadata": {
    "collapsed": false
   },
   "outputs": [
    {
     "data": {
      "text/plain": [
       "<matplotlib.axes._subplots.AxesSubplot at 0x18e22d30>"
      ]
     },
     "execution_count": 36,
     "metadata": {},
     "output_type": "execute_result"
    },
    {
     "data": {
      "image/png": "[encoded data removed]",
      "text/plain": [
       "<matplotlib.figure.Figure at 0x16d85518>"
      ]
     },
     "metadata": {},
     "output_type": "display_data"
    }
   ],
   "source": [
    "kmf_all.plot()"
   ]
  },
  {
   "cell_type": "markdown",
   "metadata": {
    "collapsed": false
   },
   "source": [
    "## Look at the KMF for the particular extended function I'm interested in"
   ]
  },
  {
   "cell_type": "code",
   "execution_count": 24,
   "metadata": {
    "collapsed": true
   },
   "outputs": [],
   "source": [
    "kmf_cat = ll.KaplanMeierFitter()"
   ]
  },
  {
   "cell_type": "code",
   "execution_count": 37,
   "metadata": {
    "collapsed": false
   },
   "outputs": [
    {
     "data": {
      "text/plain": [
       "<lifelines.KaplanMeierFitter: fitted with 3193 observations, 2591 censored>"
      ]
     },
     "execution_count": 37,
     "metadata": {},
     "output_type": "execute_result"
    }
   ],
   "source": [
    "cat_909 = empl1[empl1.EXT_FUNC_ID_SFI==909].copy()\n",
    "kmf_cat.fit(cat_909.Tenure_years,cat_909.terminated,label='Express')"
   ]
  },
  {
   "cell_type": "code",
   "execution_count": 38,
   "metadata": {
    "collapsed": false
   },
   "outputs": [
    {
     "data": {
      "text/plain": [
       "<lifelines.KaplanMeierFitter: fitted with 3278 observations, 2464 censored>"
      ]
     },
     "execution_count": 38,
     "metadata": {},
     "output_type": "execute_result"
    }
   ],
   "source": [
    "cat_910 = empl1[empl1.EXT_FUNC_ID_SFI==910].copy()\n",
    "kmf_cat910 = ll.KaplanMeierFitter()\n",
    "kmf_cat910.fit(cat_910.Tenure_years,cat_910.terminated,label='ILR')"
   ]
  },
  {
   "cell_type": "code",
   "execution_count": 26,
   "metadata": {
    "collapsed": false
   },
   "outputs": [
    {
     "data": {
      "text/plain": [
       "<matplotlib.axes._subplots.AxesSubplot at 0xaaf8f60>"
      ]
     },
     "execution_count": 26,
     "metadata": {},
     "output_type": "execute_result"
    },
    {
     "data": {
      "image/png": "[encoded data removed]",
      "text/plain": [
       "<matplotlib.figure.Figure at 0xaae94a8>"
      ]
     },
     "metadata": {},
     "output_type": "display_data"
    }
   ],
   "source": [
    "kmf_cat.plot()"
   ]
  },
  {
   "cell_type": "code",
   "execution_count": null,
   "metadata": {
    "collapsed": true
   },
   "outputs": [],
   "source": []
  },
  {
   "cell_type": "code",
   "execution_count": 39,
   "metadata": {
    "collapsed": false
   },
   "outputs": [
    {
     "data": {
      "text/plain": [
       "<matplotlib.text.Text at 0x11929828>"
      ]
     },
     "execution_count": 39,
     "metadata": {},
     "output_type": "execute_result"
    },
    {
     "data": {
      "image/png": "[encoded data removed]",
      "text/plain": [
       "<matplotlib.figure.Figure at 0x199940b8>"
      ]
     },
     "metadata": {},
     "output_type": "display_data"
    }
   ],
   "source": [
    "ax = plt.subplot(111)\n",
    "kmf_cat.plot(ax=ax,label='Express')\n",
    "kmf_cat910.plot(ax=ax)\n",
    "\n",
    "kmf_all.plot(ax=ax,label='All post 2001 employees ')\n",
    "plt.xlabel('Tenure (years)')\n",
    "plt.ylabel('Survival function')\n"
   ]
  },
  {
   "cell_type": "code",
   "execution_count": 43,
   "metadata": {
    "collapsed": false
   },
   "outputs": [
    {
     "data": {
      "text/plain": [
       "<matplotlib.text.Text at 0x19afb1d0>"
      ]
     },
     "execution_count": 43,
     "metadata": {},
     "output_type": "execute_result"
    },
    {
     "data": {
      "image/png": "[encoded data removed]",
      "text/plain": [
       "<matplotlib.figure.Figure at 0x15017b70>"
      ]
     },
     "metadata": {},
     "output_type": "display_data"
    }
   ],
   "source": [
    "ax = plt.subplot(111)\n",
    "kmf_cat.plot(ix=slice(0,20),ax=ax)\n",
    "kmf_cat910.plot(ix=slice(0,20),ax=ax)\n",
    "\n",
    "kmf_all.plot(ax=ax,ix=slice(0,20))\n",
    "plt.xlabel('Tenure (years)')\n",
    "plt.ylabel('Survival function')\n"
   ]
  },
  {
   "cell_type": "code",
   "execution_count": 41,
   "metadata": {
    "collapsed": false
   },
   "outputs": [
    {
     "data": {
      "text/plain": [
       "<matplotlib.text.Text at 0x10915860>"
      ]
     },
     "execution_count": 41,
     "metadata": {},
     "output_type": "execute_result"
    },
    {
     "data": {
      "image/png": "[encoded data removed]",
      "text/plain": [
       "<matplotlib.figure.Figure at 0x1a6bcc18>"
      ]
     },
     "metadata": {},
     "output_type": "display_data"
    }
   ],
   "source": [
    "sns.distplot(cat_909.Tenure_years,label='Express',hist=False)\n",
    "sns.distplot(cat_910.Tenure_years,label='ILR',hist=False)\n",
    "sns.distplot(empl1.Tenure_years,label='all_post2001',hist=False)\n",
    "plt.legend()\n",
    "plt.title('Tenure distributions')"
   ]
  },
  {
   "cell_type": "markdown",
   "metadata": {},
   "source": [
    "## look at the JOBCODES for this job"
   ]
  },
  {
   "cell_type": "code",
   "execution_count": 66,
   "metadata": {
    "collapsed": false
   },
   "outputs": [
    {
     "data": {
      "text/plain": [
       "(2618, 3193)"
      ]
     },
     "execution_count": 66,
     "metadata": {},
     "output_type": "execute_result"
    }
   ],
   "source": [
    "cat909_jc = [983,984]\n",
    "len(empl1[empl1.JOBCODE.isin(cat909_jc)]), len(cat_909)"
   ]
  },
  {
   "cell_type": "code",
   "execution_count": 69,
   "metadata": {
    "collapsed": false
   },
   "outputs": [
    {
     "name": "stdout",
     "output_type": "stream",
     "text": [
      "JOBCODE\t counts\n"
     ]
    },
    {
     "data": {
      "text/plain": [
       "984     2471\n",
       "985      216\n",
       "1072     201\n",
       "983      147\n",
       "500       51\n",
       "2688      28\n",
       "1026      23\n",
       "501       19\n",
       "2555       8\n",
       "57         7\n",
       "902        5\n",
       "6702       4\n",
       "2689       3\n",
       "1028       3\n",
       "785        3\n",
       "516        2\n",
       "6703       1\n",
       "1009       1\n",
       "Name: JOBCODE, dtype: int64"
      ]
     },
     "execution_count": 69,
     "metadata": {},
     "output_type": "execute_result"
    }
   ],
   "source": [
    "print(\"JOBCODE\\t counts\")\n",
    "cat_909.JOBCODE.value_counts()"
   ]
  },
  {
   "cell_type": "code",
   "execution_count": 70,
   "metadata": {
    "collapsed": false
   },
   "outputs": [
    {
     "name": "stdout",
     "output_type": "stream",
     "text": [
      "JOBCODE\t counts\n"
     ]
    },
    {
     "data": {
      "text/plain": [
       "984     1896\n",
       "985      214\n",
       "1072     197\n",
       "983      143\n",
       "500       42\n",
       "2688      27\n",
       "1026      23\n",
       "501       17\n",
       "2555       8\n",
       "902        5\n",
       "6702       4\n",
       "785        3\n",
       "1028       3\n",
       "2689       3\n",
       "57         1\n",
       "6703       1\n",
       "Name: JOBCODE, dtype: int64"
      ]
     },
     "execution_count": 70,
     "metadata": {},
     "output_type": "execute_result"
    }
   ],
   "source": [
    "print(\"JOBCODE\\t counts\")\n",
    "cat_909[cat_909['status']==0].JOBCODE.value_counts()"
   ]
  },
  {
   "cell_type": "code",
   "execution_count": null,
   "metadata": {
    "collapsed": true
   },
   "outputs": [],
   "source": []
  },
  {
   "cell_type": "code",
   "execution_count": 72,
   "metadata": {
    "collapsed": false
   },
   "outputs": [
    {
     "data": {
      "text/plain": [
       "2587L"
      ]
     },
     "execution_count": 72,
     "metadata": {},
     "output_type": "execute_result"
    }
   ],
   "source": [
    "current[current.EXT_FUNC_ID_SFI==909].JOBCODE.value_counts().sum()"
   ]
  },
  {
   "cell_type": "code",
   "execution_count": 73,
   "metadata": {
    "collapsed": false
   },
   "outputs": [
    {
     "data": {
      "text/plain": [
       "2039"
      ]
     },
     "execution_count": 73,
     "metadata": {},
     "output_type": "execute_result"
    }
   ],
   "source": [
    "current.JOBCODE.isin(cat909_jc).sum()"
   ]
  },
  {
   "cell_type": "code",
   "execution_count": 75,
   "metadata": {
    "collapsed": false
   },
   "outputs": [
    {
     "data": {
      "text/plain": [
       "(143, 1896)"
      ]
     },
     "execution_count": 75,
     "metadata": {},
     "output_type": "execute_result"
    }
   ],
   "source": [
    "sum(current.JOBCODE==983), sum(current.JOBCODE==984)"
   ]
  },
  {
   "cell_type": "code",
   "execution_count": 76,
   "metadata": {
    "collapsed": false
   },
   "outputs": [
    {
     "data": {
      "text/plain": [
       "PA2    1896\n",
       "MG2     220\n",
       "RA1     197\n",
       "PA3     143\n",
       "PC2      42\n",
       "RA3      27\n",
       "MG4      23\n",
       "PC3      17\n",
       "UES       8\n",
       "RA2       8\n",
       "MG5       5\n",
       "PA1       1\n",
       "Name: GRADE, dtype: int64"
      ]
     },
     "execution_count": 76,
     "metadata": {},
     "output_type": "execute_result"
    }
   ],
   "source": [
    "current[current.EXT_FUNC_ID_SFI==909].GRADE.value_counts()"
   ]
  },
  {
   "cell_type": "markdown",
   "metadata": {},
   "source": [
    "## Aside\n",
    "### Look into the accuracy of my models and that of the existing models in relation to the out of time known values from 2015"
   ]
  },
  {
   "cell_type": "code",
   "execution_count": 48,
   "metadata": {
    "collapsed": false
   },
   "outputs": [],
   "source": [
    "summary_data = pd.DataFrame(columns = ['GROUP','grp_id','GROUP_TYPE','GroupCount','sep2015','HR1yrsep','SR1yrsep','1yrLB','1yrUB'],\n",
    "                            data = [['CCC_Service',71,'EXT FUNC',1823,466,210,710,646,770],\n",
    "['BANK',517,'EXT FUNC',1507,100,94,135,114,157],\n",
    "['L/H RC',816,'EXT FUNC',376,88,32,71,56,85],\n",
    "['CCC SALES',892,'EXT FUNC',1636,391,198,524,463,573],\n",
    "['EXPRESS',909,'EXT FUNC',2587,506,252,63,51,73],\n",
    "['ILR',910,'EXT FUNC',2462,855,326,472,420,520],\n",
    "['BANK SERVICE REP',[851,852,853],'JOBCODE',188,27,18,32,7,6],\n",
    "['CLM ASSOC EXPRESS',[983,984],'JOBCODE',2039,483,229,6,5,6],\n",
    "['CLM TEAM MGR ILR',[986],'JOBCODE',209,4,7,5,5,5],\n",
    "['CLM ASSOC ILR',[1009],'JOBCODE',2012,834,306,460,409,506],\n",
    "['CCC SALES REP',[1876],'JOBCODE',1474,379,190,513,53,561],\n",
    "['LIFE SERVICE REP',[2638,2639,2641],'JOBCODE',636,106,42,125,107,147],\n",
    "['SFPP A/C REP',[4105],'JOBCODE',234,51,36,110,96,124],\n",
    "['CCC SERVICE REP',[6200],'JOBCODE',1472,433,189,648,590,703],\n",
    "['ALL',0,'ALL', 69476, 5234, 3048, 4579,4093,5042]]\n",
    ")"
   ]
  },
  {
   "cell_type": "code",
   "execution_count": 49,
   "metadata": {
    "collapsed": false
   },
   "outputs": [
    {
     "data": {
      "text/html": [
       "<div>\n",
       "<table border=\"1\" class=\"dataframe\">\n",
       "  <thead>\n",
       "    <tr style=\"text-align: right;\">\n",
       "      <th></th>\n",
       "      <th>GROUP</th>\n",
       "      <th>grp_id</th>\n",
       "      <th>GROUP_TYPE</th>\n",
       "      <th>GroupCount</th>\n",
       "      <th>sep2015</th>\n",
       "      <th>HR1yrsep</th>\n",
       "      <th>SR1yrsep</th>\n",
       "      <th>1yrLB</th>\n",
       "      <th>1yrUB</th>\n",
       "    </tr>\n",
       "  </thead>\n",
       "  <tbody>\n",
       "    <tr>\n",
       "      <th>0</th>\n",
       "      <td>CCC_Service</td>\n",
       "      <td>71</td>\n",
       "      <td>EXT FUNC</td>\n",
       "      <td>1823</td>\n",
       "      <td>466</td>\n",
       "      <td>210</td>\n",
       "      <td>710</td>\n",
       "      <td>646</td>\n",
       "      <td>770</td>\n",
       "    </tr>\n",
       "    <tr>\n",
       "      <th>1</th>\n",
       "      <td>BANK</td>\n",
       "      <td>517</td>\n",
       "      <td>EXT FUNC</td>\n",
       "      <td>1507</td>\n",
       "      <td>100</td>\n",
       "      <td>94</td>\n",
       "      <td>135</td>\n",
       "      <td>114</td>\n",
       "      <td>157</td>\n",
       "    </tr>\n",
       "    <tr>\n",
       "      <th>2</th>\n",
       "      <td>L/H RC</td>\n",
       "      <td>816</td>\n",
       "      <td>EXT FUNC</td>\n",
       "      <td>376</td>\n",
       "      <td>88</td>\n",
       "      <td>32</td>\n",
       "      <td>71</td>\n",
       "      <td>56</td>\n",
       "      <td>85</td>\n",
       "    </tr>\n",
       "    <tr>\n",
       "      <th>3</th>\n",
       "      <td>CCC SALES</td>\n",
       "      <td>892</td>\n",
       "      <td>EXT FUNC</td>\n",
       "      <td>1636</td>\n",
       "      <td>391</td>\n",
       "      <td>198</td>\n",
       "      <td>524</td>\n",
       "      <td>463</td>\n",
       "      <td>573</td>\n",
       "    </tr>\n",
       "    <tr>\n",
       "      <th>4</th>\n",
       "      <td>EXPRESS</td>\n",
       "      <td>909</td>\n",
       "      <td>EXT FUNC</td>\n",
       "      <td>2587</td>\n",
       "      <td>506</td>\n",
       "      <td>252</td>\n",
       "      <td>63</td>\n",
       "      <td>51</td>\n",
       "      <td>73</td>\n",
       "    </tr>\n",
       "    <tr>\n",
       "      <th>5</th>\n",
       "      <td>ILR</td>\n",
       "      <td>910</td>\n",
       "      <td>EXT FUNC</td>\n",
       "      <td>2462</td>\n",
       "      <td>855</td>\n",
       "      <td>326</td>\n",
       "      <td>472</td>\n",
       "      <td>420</td>\n",
       "      <td>520</td>\n",
       "    </tr>\n",
       "    <tr>\n",
       "      <th>6</th>\n",
       "      <td>BANK SERVICE REP</td>\n",
       "      <td>[851, 852, 853]</td>\n",
       "      <td>JOBCODE</td>\n",
       "      <td>188</td>\n",
       "      <td>27</td>\n",
       "      <td>18</td>\n",
       "      <td>32</td>\n",
       "      <td>7</td>\n",
       "      <td>6</td>\n",
       "    </tr>\n",
       "    <tr>\n",
       "      <th>7</th>\n",
       "      <td>CLM ASSOC EXPRESS</td>\n",
       "      <td>[983, 984]</td>\n",
       "      <td>JOBCODE</td>\n",
       "      <td>2039</td>\n",
       "      <td>483</td>\n",
       "      <td>229</td>\n",
       "      <td>6</td>\n",
       "      <td>5</td>\n",
       "      <td>6</td>\n",
       "    </tr>\n",
       "    <tr>\n",
       "      <th>8</th>\n",
       "      <td>CLM TEAM MGR ILR</td>\n",
       "      <td>[986]</td>\n",
       "      <td>JOBCODE</td>\n",
       "      <td>209</td>\n",
       "      <td>4</td>\n",
       "      <td>7</td>\n",
       "      <td>5</td>\n",
       "      <td>5</td>\n",
       "      <td>5</td>\n",
       "    </tr>\n",
       "    <tr>\n",
       "      <th>9</th>\n",
       "      <td>CLM ASSOC ILR</td>\n",
       "      <td>[1009]</td>\n",
       "      <td>JOBCODE</td>\n",
       "      <td>2012</td>\n",
       "      <td>834</td>\n",
       "      <td>306</td>\n",
       "      <td>460</td>\n",
       "      <td>409</td>\n",
       "      <td>506</td>\n",
       "    </tr>\n",
       "    <tr>\n",
       "      <th>10</th>\n",
       "      <td>CCC SALES REP</td>\n",
       "      <td>[1876]</td>\n",
       "      <td>JOBCODE</td>\n",
       "      <td>1474</td>\n",
       "      <td>379</td>\n",
       "      <td>190</td>\n",
       "      <td>513</td>\n",
       "      <td>53</td>\n",
       "      <td>561</td>\n",
       "    </tr>\n",
       "    <tr>\n",
       "      <th>11</th>\n",
       "      <td>LIFE SERVICE REP</td>\n",
       "      <td>[2638, 2639, 2641]</td>\n",
       "      <td>JOBCODE</td>\n",
       "      <td>636</td>\n",
       "      <td>106</td>\n",
       "      <td>42</td>\n",
       "      <td>125</td>\n",
       "      <td>107</td>\n",
       "      <td>147</td>\n",
       "    </tr>\n",
       "    <tr>\n",
       "      <th>12</th>\n",
       "      <td>SFPP A/C REP</td>\n",
       "      <td>[4105]</td>\n",
       "      <td>JOBCODE</td>\n",
       "      <td>234</td>\n",
       "      <td>51</td>\n",
       "      <td>36</td>\n",
       "      <td>110</td>\n",
       "      <td>96</td>\n",
       "      <td>124</td>\n",
       "    </tr>\n",
       "    <tr>\n",
       "      <th>13</th>\n",
       "      <td>CCC SERVICE REP</td>\n",
       "      <td>[6200]</td>\n",
       "      <td>JOBCODE</td>\n",
       "      <td>1472</td>\n",
       "      <td>433</td>\n",
       "      <td>189</td>\n",
       "      <td>648</td>\n",
       "      <td>590</td>\n",
       "      <td>703</td>\n",
       "    </tr>\n",
       "    <tr>\n",
       "      <th>14</th>\n",
       "      <td>ALL</td>\n",
       "      <td>0</td>\n",
       "      <td>ALL</td>\n",
       "      <td>69476</td>\n",
       "      <td>5234</td>\n",
       "      <td>3048</td>\n",
       "      <td>4579</td>\n",
       "      <td>4093</td>\n",
       "      <td>5042</td>\n",
       "    </tr>\n",
       "  </tbody>\n",
       "</table>\n",
       "</div>"
      ],
      "text/plain": [
       "                GROUP              grp_id GROUP_TYPE  GroupCount  sep2015  \\\n",
       "0         CCC_Service                  71   EXT FUNC        1823      466   \n",
       "1                BANK                 517   EXT FUNC        1507      100   \n",
       "2              L/H RC                 816   EXT FUNC         376       88   \n",
       "3           CCC SALES                 892   EXT FUNC        1636      391   \n",
       "4             EXPRESS                 909   EXT FUNC        2587      506   \n",
       "5                 ILR                 910   EXT FUNC        2462      855   \n",
       "6    BANK SERVICE REP     [851, 852, 853]    JOBCODE         188       27   \n",
       "7   CLM ASSOC EXPRESS          [983, 984]    JOBCODE        2039      483   \n",
       "8    CLM TEAM MGR ILR               [986]    JOBCODE         209        4   \n",
       "9       CLM ASSOC ILR              [1009]    JOBCODE        2012      834   \n",
       "10      CCC SALES REP              [1876]    JOBCODE        1474      379   \n",
       "11   LIFE SERVICE REP  [2638, 2639, 2641]    JOBCODE         636      106   \n",
       "12       SFPP A/C REP              [4105]    JOBCODE         234       51   \n",
       "13    CCC SERVICE REP              [6200]    JOBCODE        1472      433   \n",
       "14                ALL                   0        ALL       69476     5234   \n",
       "\n",
       "    HR1yrsep  SR1yrsep  1yrLB  1yrUB  \n",
       "0        210       710    646    770  \n",
       "1         94       135    114    157  \n",
       "2         32        71     56     85  \n",
       "3        198       524    463    573  \n",
       "4        252        63     51     73  \n",
       "5        326       472    420    520  \n",
       "6         18        32      7      6  \n",
       "7        229         6      5      6  \n",
       "8          7         5      5      5  \n",
       "9        306       460    409    506  \n",
       "10       190       513     53    561  \n",
       "11        42       125    107    147  \n",
       "12        36       110     96    124  \n",
       "13       189       648    590    703  \n",
       "14      3048      4579   4093   5042  "
      ]
     },
     "execution_count": 49,
     "metadata": {},
     "output_type": "execute_result"
    }
   ],
   "source": [
    "summary_data"
   ]
  },
  {
   "cell_type": "code",
   "execution_count": 53,
   "metadata": {
    "collapsed": false
   },
   "outputs": [
    {
     "data": {
      "text/plain": [
       "0     25.562260\n",
       "1      6.635700\n",
       "2     23.404255\n",
       "3     23.899756\n",
       "4     19.559335\n",
       "5     34.727864\n",
       "6     14.361702\n",
       "7     23.688082\n",
       "8      1.913876\n",
       "9     41.451292\n",
       "10    25.712347\n",
       "11    16.666667\n",
       "12    21.794872\n",
       "13    29.415761\n",
       "14     7.533537\n",
       "Name: True_AR, dtype: float64"
      ]
     },
     "execution_count": 53,
     "metadata": {},
     "output_type": "execute_result"
    }
   ],
   "source": [
    "summary_data['True_AR']=summary_data['sep2015']/summary_data['GroupCount']*100\n",
    "summary_data.True_AR"
   ]
  },
  {
   "cell_type": "code",
   "execution_count": 50,
   "metadata": {
    "collapsed": true
   },
   "outputs": [],
   "source": [
    "summary_data['HR_AR']=summary_data['HR1yrsep']/summary_data['GroupCount']*100\n",
    "summary_data['SR_AR']=summary_data['SR1yrsep']/summary_data['GroupCount']*100"
   ]
  },
  {
   "cell_type": "code",
   "execution_count": 54,
   "metadata": {
    "collapsed": false
   },
   "outputs": [
    {
     "data": {
      "text/html": [
       "<div>\n",
       "<table border=\"1\" class=\"dataframe\">\n",
       "  <thead>\n",
       "    <tr style=\"text-align: right;\">\n",
       "      <th></th>\n",
       "      <th>True_AR</th>\n",
       "      <th>HR_AR</th>\n",
       "      <th>SR_AR</th>\n",
       "    </tr>\n",
       "  </thead>\n",
       "  <tbody>\n",
       "    <tr>\n",
       "      <th>0</th>\n",
       "      <td>25.562260</td>\n",
       "      <td>11.519473</td>\n",
       "      <td>38.946791</td>\n",
       "    </tr>\n",
       "    <tr>\n",
       "      <th>1</th>\n",
       "      <td>6.635700</td>\n",
       "      <td>6.237558</td>\n",
       "      <td>8.958195</td>\n",
       "    </tr>\n",
       "    <tr>\n",
       "      <th>2</th>\n",
       "      <td>23.404255</td>\n",
       "      <td>8.510638</td>\n",
       "      <td>18.882979</td>\n",
       "    </tr>\n",
       "    <tr>\n",
       "      <th>3</th>\n",
       "      <td>23.899756</td>\n",
       "      <td>12.102689</td>\n",
       "      <td>32.029340</td>\n",
       "    </tr>\n",
       "    <tr>\n",
       "      <th>4</th>\n",
       "      <td>19.559335</td>\n",
       "      <td>9.741013</td>\n",
       "      <td>2.435253</td>\n",
       "    </tr>\n",
       "    <tr>\n",
       "      <th>5</th>\n",
       "      <td>34.727864</td>\n",
       "      <td>13.241267</td>\n",
       "      <td>19.171405</td>\n",
       "    </tr>\n",
       "    <tr>\n",
       "      <th>6</th>\n",
       "      <td>14.361702</td>\n",
       "      <td>9.574468</td>\n",
       "      <td>17.021277</td>\n",
       "    </tr>\n",
       "    <tr>\n",
       "      <th>7</th>\n",
       "      <td>23.688082</td>\n",
       "      <td>11.230996</td>\n",
       "      <td>0.294262</td>\n",
       "    </tr>\n",
       "    <tr>\n",
       "      <th>8</th>\n",
       "      <td>1.913876</td>\n",
       "      <td>3.349282</td>\n",
       "      <td>2.392344</td>\n",
       "    </tr>\n",
       "    <tr>\n",
       "      <th>9</th>\n",
       "      <td>41.451292</td>\n",
       "      <td>15.208748</td>\n",
       "      <td>22.862823</td>\n",
       "    </tr>\n",
       "    <tr>\n",
       "      <th>10</th>\n",
       "      <td>25.712347</td>\n",
       "      <td>12.890095</td>\n",
       "      <td>34.803256</td>\n",
       "    </tr>\n",
       "    <tr>\n",
       "      <th>11</th>\n",
       "      <td>16.666667</td>\n",
       "      <td>6.603774</td>\n",
       "      <td>19.654088</td>\n",
       "    </tr>\n",
       "    <tr>\n",
       "      <th>12</th>\n",
       "      <td>21.794872</td>\n",
       "      <td>15.384615</td>\n",
       "      <td>47.008547</td>\n",
       "    </tr>\n",
       "    <tr>\n",
       "      <th>13</th>\n",
       "      <td>29.415761</td>\n",
       "      <td>12.839674</td>\n",
       "      <td>44.021739</td>\n",
       "    </tr>\n",
       "    <tr>\n",
       "      <th>14</th>\n",
       "      <td>7.533537</td>\n",
       "      <td>4.387126</td>\n",
       "      <td>6.590765</td>\n",
       "    </tr>\n",
       "  </tbody>\n",
       "</table>\n",
       "</div>"
      ],
      "text/plain": [
       "      True_AR      HR_AR      SR_AR\n",
       "0   25.562260  11.519473  38.946791\n",
       "1    6.635700   6.237558   8.958195\n",
       "2   23.404255   8.510638  18.882979\n",
       "3   23.899756  12.102689  32.029340\n",
       "4   19.559335   9.741013   2.435253\n",
       "5   34.727864  13.241267  19.171405\n",
       "6   14.361702   9.574468  17.021277\n",
       "7   23.688082  11.230996   0.294262\n",
       "8    1.913876   3.349282   2.392344\n",
       "9   41.451292  15.208748  22.862823\n",
       "10  25.712347  12.890095  34.803256\n",
       "11  16.666667   6.603774  19.654088\n",
       "12  21.794872  15.384615  47.008547\n",
       "13  29.415761  12.839674  44.021739\n",
       "14   7.533537   4.387126   6.590765"
      ]
     },
     "execution_count": 54,
     "metadata": {},
     "output_type": "execute_result"
    }
   ],
   "source": [
    "summary_data[['True_AR','HR_AR','SR_AR']]"
   ]
  },
  {
   "cell_type": "code",
   "execution_count": 56,
   "metadata": {
    "collapsed": false
   },
   "outputs": [
    {
     "data": {
      "text/plain": [
       "<seaborn.axisgrid.JointGrid at 0x19b1d550>"
      ]
     },
     "execution_count": 56,
     "metadata": {},
     "output_type": "execute_result"
    },
    {
     "data": {
      "image/png": "[encoded data removed]",
      "text/plain": [
       "<matplotlib.figure.Figure at 0x1527a978>"
      ]
     },
     "metadata": {},
     "output_type": "display_data"
    },
    {
     "data": {
      "image/png": "[encoded data removed]",
      "text/plain": [
       "<matplotlib.figure.Figure at 0x15a70898>"
      ]
     },
     "metadata": {},
     "output_type": "display_data"
    }
   ],
   "source": [
    "sns.jointplot(x='True_AR',y='HR_AR',data=summary_data)\n",
    "sns.jointplot(x='True_AR',y='SR_AR',data=summary_data)"
   ]
  },
  {
   "cell_type": "code",
   "execution_count": 65,
   "metadata": {
    "collapsed": false
   },
   "outputs": [
    {
     "data": {
      "text/plain": [
       "<matplotlib.axes._subplots.AxesSubplot at 0x10410a58>"
      ]
     },
     "execution_count": 65,
     "metadata": {},
     "output_type": "execute_result"
    },
    {
     "data": {
      "image/png": "[encoded data removed]",
      "text/plain": [
       "<matplotlib.figure.Figure at 0x19e81da0>"
      ]
     },
     "metadata": {},
     "output_type": "display_data"
    }
   ],
   "source": [
    "x = np.arange(0,950,1)\n",
    "#plt.plot(x,x,c='k')\n",
    "sns.regplot(x='sep2015',y='HR1yrsep',data=summary_data.iloc[:-1])\n",
    "\n",
    "sns.regplot(x='sep2015',y='SR1yrsep',data=summary_data.iloc[:-1])\n"
   ]
  },
  {
   "cell_type": "code",
   "execution_count": null,
   "metadata": {
    "collapsed": true
   },
   "outputs": [],
   "source": []
  },
  {
   "cell_type": "markdown",
   "metadata": {},
   "source": [
    "## Preprocess this file\n",
    "1. use the dictonary fro LOC_TYPE_DESCR_SFI "
   ]
  },
  {
   "cell_type": "code",
   "execution_count": null,
   "metadata": {
    "collapsed": false
   },
   "outputs": [],
   "source": [
    "loc_descriptions = empl1.LOC_TYPE_DESCR_SFI.unique().tolist()\n",
    "short_loc_descript = {}\n",
    "for loc_name in loc_descriptions:\n",
    "    if loc_name.endswith(')'):\n",
    "        short_name = loc_name[-4:-1]\n",
    "        if short_name == 'NCE':\n",
    "            short_loc_descript[loc_name]='TELE'\n",
    "        else:\n",
    "            short_loc_descript[loc_name]=short_name\n",
    "    elif loc_name.startswith('TELE'):\n",
    "        short_loc_descript[loc_name]='TELE'\n",
    "    elif loc_name.endswith('SIU'):\n",
    "        short_loc_descript[loc_name]='SIU'\n",
    "    elif loc_name.startswith('OPERATIONS'):\n",
    "        short_loc_descript[loc_name]='OC'\n",
    "    elif loc_name.startswith('CORP'):\n",
    "        short_loc_descript[loc_name]='CORP'\n",
    "    elif loc_name.endswith('CENTER'):\n",
    "        short_loc_descript[loc_name]='MC' # marketing center\n",
    "    elif loc_name.endswith('AFO'):\n",
    "        short_loc_descript[loc_name]='AFO'\n",
    "    elif loc_name.endswith('OFFICE'):\n",
    "        if loc_name.startswith('AGENT'):\n",
    "            short_loc_descript[loc_name]='AO' # agent office\n",
    "        elif loc_name.startswith('REGION'):\n",
    "            short_loc_descript[loc_name]='RO' # regional office\n",
    "        elif loc_name.startswith('CATA'):\n",
    "            short_loc_descript[loc_name]='CAT' # catastrophe office\n",
    "    elif loc_name.startswith('EST'):\n",
    "        short_loc_descript[loc_name]='EST' # estimating station\n",
    "    elif loc_name.startswith('ADM'):\n",
    "        short_loc_descript[loc_name]='ADM' # estimating station\n",
    "    elif loc_name.startswith('WARE'):\n",
    "        short_loc_descript[loc_name]='WARE' # estimating station\n",
    "    elif loc_name.startswith('VAC'):\n",
    "        short_loc_descript[loc_name]='VAC' # estimating station\n",
    "    elif loc_name.startswith('MULT-USE'):\n",
    "        short_loc_descript[loc_name]='MF' # estimating station\n",
    "    elif loc_name.startswith('MULT-REG'):\n",
    "        short_loc_descript[loc_name]='MRSF' # estimating station\n",
    "    else: \n",
    "        short_loc_descript[loc_name]='UNK'\n",
    "\n",
    "print len(short_loc_descript.keys()), len(set(short_loc_descript.values()))"
   ]
  },
  {
   "cell_type": "code",
   "execution_count": null,
   "metadata": {
    "collapsed": true
   },
   "outputs": [],
   "source": [
    "empl1['loc_desc']=empl1['LOC_TYPE_DESCR_SFI'].apply(lambda x: short_loc_descript[x])\n"
   ]
  },
  {
   "cell_type": "code",
   "execution_count": null,
   "metadata": {
    "collapsed": false
   },
   "outputs": [],
   "source": [
    "### Define the categorical columns\n",
    "cat_cols = br.get_categorical(empl1)\n",
    "print len(cat_cols)\n",
    "cat_cols.remove('LOC_TYPE_DESCR_SFI')"
   ]
  },
  {
   "cell_type": "code",
   "execution_count": null,
   "metadata": {
    "collapsed": false
   },
   "outputs": [],
   "source": [
    "cols_to_drop = ['Age_tdelta','Tenure_tdelta','BIRTHDATE','HIRE_DT','LAST_HIRE_DT','SERVICE_DT','TERMINATION_DT','KEY']"
   ]
  },
  {
   "cell_type": "code",
   "execution_count": null,
   "metadata": {
    "collapsed": true
   },
   "outputs": [],
   "source": [
    "for col in cols_to_drop:\n",
    "    cat_cols.remove(col)"
   ]
  },
  {
   "cell_type": "code",
   "execution_count": null,
   "metadata": {
    "collapsed": false
   },
   "outputs": [],
   "source": [
    "sdf_cat = br.summarize_dataframe(empl1[cat_cols])\n",
    "max_arity = 33\n",
    "binary_cat_cols = sdf_cat[sdf_cat.arity==2].feature.tolist()\n",
    "cat_cols_to_dummy = sdf_cat[(sdf_cat.arity < max_arity) & (sdf_cat.arity > 2)].sort_values(by='arity').feature.tolist()\n",
    "cat_cols_to_label_encode = sdf_cat[sdf_cat.arity >= max_arity].feature.tolist()\n",
    "print len(sdf_cat), len(cat_cols_to_label_encode),len(cat_cols_to_dummy), len(binary_cat_cols)\n",
    "\n"
   ]
  },
  {
   "cell_type": "code",
   "execution_count": null,
   "metadata": {
    "collapsed": false
   },
   "outputs": [],
   "source": [
    "binary_cat_cols\n"
   ]
  },
  {
   "cell_type": "code",
   "execution_count": null,
   "metadata": {
    "collapsed": false
   },
   "outputs": [],
   "source": [
    "cat_cols_to_dummy"
   ]
  },
  {
   "cell_type": "code",
   "execution_count": null,
   "metadata": {
    "collapsed": false
   },
   "outputs": [],
   "source": [
    "cat_cols_to_label_encode"
   ]
  },
  {
   "cell_type": "code",
   "execution_count": null,
   "metadata": {
    "collapsed": true
   },
   "outputs": [],
   "source": [
    "binary_cat_cols.remove('FULLPART10')\n",
    "binary_cat_cols.remove('FULLPART3')\n",
    "binary_cat_cols.remove('FULLPART5')\n",
    "binary_cat_cols.remove('PARTFULL10')\n",
    "binary_cat_cols.remove('PARTFULL5')\n",
    "binary_cat_cols.remove('PARTFULL3')\n"
   ]
  },
  {
   "cell_type": "code",
   "execution_count": null,
   "metadata": {
    "collapsed": false
   },
   "outputs": [],
   "source": [
    "sdf_cat[sdf_cat.arity>=max_arity]"
   ]
  },
  {
   "cell_type": "code",
   "execution_count": null,
   "metadata": {
    "collapsed": false
   },
   "outputs": [],
   "source": [
    "missing_cols = br.get_columns_with_nulls(empl1)"
   ]
  },
  {
   "cell_type": "code",
   "execution_count": null,
   "metadata": {
    "collapsed": true
   },
   "outputs": [],
   "source": [
    "all_cols = empl1.columns.tolist()"
   ]
  },
  {
   "cell_type": "code",
   "execution_count": null,
   "metadata": {
    "collapsed": false
   },
   "outputs": [],
   "source": [
    "missing_cols"
   ]
  },
  {
   "cell_type": "code",
   "execution_count": null,
   "metadata": {
    "collapsed": false
   },
   "outputs": [],
   "source": [
    "from sklearn.preprocessing import LabelEncoder\n",
    "#binary_cols = #sdf_cat[sdf_cat.arity == 2].feature.values.tolist()\n",
    "#binary_cat_cols = cat_cols_to_label_encode[:-3]\n",
    "print len(binary_cat_cols)\n",
    "label_encoder = LabelEncoder()\n",
    "for col in binary_cat_cols:\n",
    "    print col, len(empl1[col].unique()), empl1[col].unique()\n",
    "    empl1[col] = label_encoder.fit_transform(empl1[col]) # use sklearn.preprocesing.LabelEncoder()\n",
    "    "
   ]
  },
  {
   "cell_type": "code",
   "execution_count": null,
   "metadata": {
    "collapsed": false
   },
   "outputs": [],
   "source": []
  },
  {
   "cell_type": "code",
   "execution_count": null,
   "metadata": {
    "collapsed": false
   },
   "outputs": [],
   "source": [
    "historical_cols10 = [col for col in all_cols if col.endswith('10')]\n",
    "mos_cols = [col for col in all_cols if col.endswith('MOS')]\n",
    "print historical_cols10\n",
    "\n",
    "print mos_cols\n",
    "historical_cols5 = [col for col in all_cols if col.endswith('5')]#[:-3]\n",
    "historical_cols3 =[col for col in all_cols if col.endswith('3')]#[:-4]\n",
    "\n",
    "len(historical_cols3), len(historical_cols5),len(historical_cols10), len(mos_cols)"
   ]
  },
  {
   "cell_type": "code",
   "execution_count": null,
   "metadata": {
    "collapsed": false
   },
   "outputs": [],
   "source": [
    "historical_cols = []\n",
    "historical_cols+=historical_cols3\n",
    "historical_cols+=historical_cols5\n",
    "historical_cols+=historical_cols10\n",
    "print len(historical_cols)"
   ]
  },
  {
   "cell_type": "code",
   "execution_count": null,
   "metadata": {
    "collapsed": false
   },
   "outputs": [],
   "source": [
    "modeling_cols = [col for col in all_cols if col not in historical_cols]\n",
    "for col in cols_to_drop:\n",
    "    modeling_cols.remove(col)\n",
    "\n",
    "for col in all_cols:\n",
    "    if col.endswith('tstmp'):\n",
    "        modeling_cols.remove(col)\n",
    "        \n",
    "modeling_cols.remove('hire_age')\n",
    "modeling_cols.remove('status')\n",
    "modeling_cols.remove('sep_status')\n",
    "modeling_cols.remove('retired')\n",
    "modeling_cols.remove('ANNUAL_RT') # use SAL1 instead\n",
    "\n",
    "len(modeling_cols)"
   ]
  },
  {
   "cell_type": "markdown",
   "metadata": {},
   "source": [
    "## Restrict to non-retired\n",
    "## create a train/test split"
   ]
  },
  {
   "cell_type": "code",
   "execution_count": null,
   "metadata": {
    "collapsed": false
   },
   "outputs": [],
   "source": [
    "nr_em = empl1[empl1.retired==0].copy()\n",
    "nr_em.shape"
   ]
  },
  {
   "cell_type": "code",
   "execution_count": null,
   "metadata": {
    "collapsed": false
   },
   "outputs": [],
   "source": [
    "## break this into a test/train \n",
    "# break into evaluation and build sets\n",
    "print \"Starting with subset of {0} employees.\".format(len(nr_em))\n",
    "eval_fraction = 0.20\n",
    "ne2build, ne2eval = cross_validation.train_test_split(nr_em,test_size=eval_fraction,random_state = 60333)\n",
    "print \"Evaluation set has {0} employees; training set has {1} employees.\".format(len(ne2eval),len(ne2build))"
   ]
  },
  {
   "cell_type": "code",
   "execution_count": null,
   "metadata": {
    "collapsed": true
   },
   "outputs": [],
   "source": [
    "#from sklearn import preprocessing\n",
    "pipe = Pipeline([(\"null\", br.RemoveAllNull()),  \n",
    "                 (\"label_encode\",br.LabelEncodeColumn(cat_cols_to_label_encode)),\n",
    "                 (\"dummy_encode\", br.DummyEncodeColumn(cat_cols_to_dummy)),\n",
    "                 #(\"survival_encode\",SurvivalEncodeColumn(my_label_encode_cols[:5],method='median')),\n",
    "                 #(\"cat\", br.ConvertCategorical(cate_list, rows_to_scan=0.3)),\n",
    "                 (\"fixout_min\",br.FixNumericOutlier(columns_to_fix=['SAL1','MIN_RT_ANNUAL','MERIT1','PERF1'],\n",
    "                                                    criteria_coef=('percentile',2),\n",
    "                                                   method='lower',fill_with='nearest_value')),\n",
    "                  (\"fixout_max\",br.FixNumericOutlier(columns_to_fix=['MAX_RT_ANNUAL'],criteria_coef=('percentile',2),\n",
    "                                                   method='both',fill_with='nearest_value')),\n",
    "                 #(\"fill_missingzero\",FillMissingValue(columns_to_fix=['BOX1','FUNC_CNT','EXTFUNC_CNT','TOTAL_RPT_CNT','DIRECT_RPT_CNT'],fill_value=0)),\n",
    "                 (\"imp_mode\",br.ImputeData(columns_to_impute=missing_cols,rows_to_scan=0.8))])\n",
    "                 "
   ]
  },
  {
   "cell_type": "code",
   "execution_count": null,
   "metadata": {
    "collapsed": true
   },
   "outputs": [],
   "source": [
    "p_pipe = Pipeline([\n",
    "                  (\"label_encode\",br.LabelEncodeColumn(cat_cols_to_label_encode))])"
   ]
  },
  {
   "cell_type": "code",
   "execution_count": null,
   "metadata": {
    "collapsed": false
   },
   "outputs": [],
   "source": [
    "#%pdb \n",
    "ne2b = pipe.fit_transform(ne2build[modeling_cols],ne2build.terminated)\n",
    "ne2e = pipe.fit(ne2build[modeling_cols],ne2build.terminated).transform(ne2eval[modeling_cols])"
   ]
  },
  {
   "cell_type": "code",
   "execution_count": null,
   "metadata": {
    "collapsed": false
   },
   "outputs": [],
   "source": [
    "ne2b.shape, ne2e.shape"
   ]
  },
  {
   "cell_type": "code",
   "execution_count": null,
   "metadata": {
    "collapsed": false
   },
   "outputs": [],
   "source": [
    "transformed_cols2 = ne2b.columns.tolist()\n",
    "print len(transformed_cols2)"
   ]
  },
  {
   "cell_type": "code",
   "execution_count": null,
   "metadata": {
    "collapsed": false
   },
   "outputs": [],
   "source": [
    "sep_features= s_cf4.data.columns.tolist()\n",
    "print len(sep_features)"
   ]
  },
  {
   "cell_type": "code",
   "execution_count": null,
   "metadata": {
    "collapsed": false
   },
   "outputs": [],
   "source": [
    "s_cf4.print_summary()"
   ]
  },
  {
   "cell_type": "markdown",
   "metadata": {},
   "source": [
    "## now apply this model to the evaluation set\n",
    "1. calculate concordance for hold-out set"
   ]
  },
  {
   "cell_type": "code",
   "execution_count": null,
   "metadata": {
    "collapsed": true
   },
   "outputs": [],
   "source": [
    "from lifelines.utils import concordance_index\n",
    "def return_concordance(df,model,time_col,event_col):\n",
    "    c_index = concordance_index(df[time_col].values,\n",
    "                               model.predict_expectation(df).values.ravel(),\n",
    "                               df[event_col].values.astype(int))\n",
    "    return c_index"
   ]
  },
  {
   "cell_type": "code",
   "execution_count": null,
   "metadata": {
    "collapsed": true
   },
   "outputs": [],
   "source": [
    "sep_cols = [col for col in sep_features]\n",
    "sep_cols.append('Tenure_years')\n",
    "sep_cols.append('terminated')"
   ]
  },
  {
   "cell_type": "code",
   "execution_count": null,
   "metadata": {
    "collapsed": false
   },
   "outputs": [],
   "source": [
    "return_concordance(ne2e[sep_cols],s_cf4,'Tenure_years','terminated')"
   ]
  },
  {
   "cell_type": "code",
   "execution_count": null,
   "metadata": {
    "collapsed": true
   },
   "outputs": [],
   "source": [
    "## do this for a small set 1st\n",
    "take20 = ne2e.head(20).copy()"
   ]
  },
  {
   "cell_type": "code",
   "execution_count": null,
   "metadata": {
    "collapsed": false
   },
   "outputs": [],
   "source": [
    "return_concordance(take20[sep_cols],s_cf4,'Tenure_years','terminated')"
   ]
  },
  {
   "cell_type": "markdown",
   "metadata": {},
   "source": [
    "## Forecast forward in 1 year intervals\n",
    "1. identify time points for each row\n",
    "2. predict SF and CI for these"
   ]
  },
  {
   "cell_type": "code",
   "execution_count": null,
   "metadata": {
    "collapsed": true
   },
   "outputs": [],
   "source": [
    "def identify_time_points(mdl, df, yr_range=[0,1,2,3,4,5],base_time_col = 'Tenure_years'):\n",
    "    column_names = ['time_point_'+np.str(year) for year in yr_range]\n",
    "    \n",
    "    my_index = df.index.tolist()\n",
    "    relevant_time_points = pd.DataFrame(columns=column_names, index=my_index)\n",
    "    for idx in my_index:\n",
    "        my_times = np.array([df.loc[idx,base_time_col]+year for year in yr_range])\n",
    "        #print idx, my_times\n",
    "        #relevant_time_points.append(pd.DataFrame(data = my_times.T, columns=column_names))\n",
    "        relevant_time_points.ix[idx] = my_times\n",
    "        # now for each of these\n",
    "    return relevant_time_points"
   ]
  },
  {
   "cell_type": "code",
   "execution_count": null,
   "metadata": {
    "collapsed": false
   },
   "outputs": [],
   "source": [
    "#get_relevant_baseline_sf(s_cf4, take20[sep_cols])\n",
    "rtp_df = identify_time_points(s_cf4, take20[sep_cols])"
   ]
  },
  {
   "cell_type": "code",
   "execution_count": null,
   "metadata": {
    "collapsed": false
   },
   "outputs": [],
   "source": [
    "rtp_df.head()"
   ]
  },
  {
   "cell_type": "markdown",
   "metadata": {},
   "source": [
    "## compare against predict_survival_function"
   ]
  },
  {
   "cell_type": "code",
   "execution_count": null,
   "metadata": {
    "collapsed": false
   },
   "outputs": [],
   "source": [
    "pred_sf = s_cf4.predict_survival_function(take20[sep_cols])\n",
    "pred_sf.shape"
   ]
  },
  {
   "cell_type": "code",
   "execution_count": null,
   "metadata": {
    "collapsed": false
   },
   "outputs": [],
   "source": []
  },
  {
   "cell_type": "code",
   "execution_count": null,
   "metadata": {
    "collapsed": false
   },
   "outputs": [],
   "source": [
    "pred_cumhaz = s_cf4.predict_cumulative_hazard(take20[sep_cols])\n",
    "pred_cumhaz.shape"
   ]
  },
  {
   "cell_type": "code",
   "execution_count": null,
   "metadata": {
    "collapsed": false
   },
   "outputs": [],
   "source": [
    "pred_cumhaz[25915].plot()"
   ]
  },
  {
   "cell_type": "code",
   "execution_count": null,
   "metadata": {
    "collapsed": false
   },
   "outputs": [],
   "source": [
    "s_0 = s_cf4.baseline_survival_\n",
    "h_0 = s_cf4.baseline_hazard_\n",
    "plt.plot(s_0)\n",
    "plt.plot(h_0)"
   ]
  },
  {
   "cell_type": "code",
   "execution_count": null,
   "metadata": {
    "collapsed": false
   },
   "outputs": [],
   "source": [
    "plt.plot(s_cf4.baseline_cumulative_hazard_)"
   ]
  },
  {
   "cell_type": "code",
   "execution_count": null,
   "metadata": {
    "collapsed": false
   },
   "outputs": [],
   "source": [
    "s_cf4.baseline_cumulative_hazard_.head()"
   ]
  },
  {
   "cell_type": "code",
   "execution_count": null,
   "metadata": {
    "collapsed": false
   },
   "outputs": [],
   "source": [
    "s_cf4.hazards_"
   ]
  },
  {
   "cell_type": "code",
   "execution_count": null,
   "metadata": {
    "collapsed": false
   },
   "outputs": [],
   "source": [
    "s_cf4.confidence_intervals_"
   ]
  },
  {
   "cell_type": "code",
   "execution_count": null,
   "metadata": {
    "collapsed": false
   },
   "outputs": [],
   "source": [
    "s_cf4.baseline_hazard_.head()"
   ]
  },
  {
   "cell_type": "code",
   "execution_count": null,
   "metadata": {
    "collapsed": false
   },
   "outputs": [],
   "source": [
    "rtp_df.head()"
   ]
  },
  {
   "cell_type": "code",
   "execution_count": null,
   "metadata": {
    "collapsed": false
   },
   "outputs": [],
   "source": [
    "s_cf4.baseline_hazard_.ix[:rtp_df.iloc[0]['time_point_0']]#.values[-10:]"
   ]
  },
  {
   "cell_type": "code",
   "execution_count": null,
   "metadata": {
    "collapsed": false
   },
   "outputs": [],
   "source": [
    "s_cf4.baseline_hazard_.ix[rtp_df.iloc[0]['time_point_0']]#.values[-10:]"
   ]
  },
  {
   "cell_type": "code",
   "execution_count": null,
   "metadata": {
    "collapsed": false
   },
   "outputs": [],
   "source": [
    "for tp in rtp_df.columns:\n",
    "    \n",
    "    tp_idx = rtp_df.iloc[0][tp]\n",
    "    print tp, tp_idx\n",
    "    try: \n",
    "        spec_hazard = s_cf4.baseline_hazard_.ix[tp_idx].values\n",
    "        c_haz = s_cf4.baseline_cumulative_hazard_.ix[tp_idx].values\n",
    "        print spec_hazard, c_haz\n",
    "    except KeyError:\n",
    "        print \" _______\\n keyError \" #,tp_idx\n",
    "        t_post = s_cf4.baseline_hazard_.ix[tp_idx:].index[0] # get the first after this point\n",
    "        t_prior = s_cf4.baseline_hazard_.ix[:tp_idx].index[-1] # get the last before this point\n",
    "        print s_cf4.baseline_hazard_.ix[t_post], s_cf4.baseline_hazard_.ix[t_prior]\n",
    "        \n",
    "#s_cf4.baseline_hazard_.ix[rtp_df.iloc[0]['time_point_1']]"
   ]
  },
  {
   "cell_type": "code",
   "execution_count": null,
   "metadata": {
    "collapsed": false
   },
   "outputs": [],
   "source": [
    "s_cf4.baseline_cumulative_hazard_.ix[s_cf4.baseline_cumulative_hazard_.ix[:0.002738].index[-1]].values"
   ]
  },
  {
   "cell_type": "code",
   "execution_count": null,
   "metadata": {
    "collapsed": true
   },
   "outputs": [],
   "source": [
    "from scipy import interpolate\n",
    "def return_desired_cumulative_hazards(t):\n",
    "    mdl = s_cf4\n",
    "    \n",
    "    try: \n",
    "        spec_hazard = mdl.baseline_hazard_.ix[t].values\n",
    "        c_haz = mdl.baseline_cumulative_hazard_.ix[t].values[0]\n",
    "        #print spec_hazard, c_haz\n",
    "    except KeyError:\n",
    "        #t_1 = s_cf4.baseline_cumulative_hazard_\n",
    "        t_post = mdl.baseline_hazard_.ix[t:].index[0] # get the first after this point\n",
    "        t_prior = mdl.baseline_hazard_.ix[:t].index[-1] # get the last before this point\n",
    "        x = [t_prior, t_post]\n",
    "        y = [mdl.baseline_cumulative_hazard_.ix[t_prior].values[0],mdl.baseline_cumulative_hazard_.ix[t_post].values[0]]\n",
    "        #print x, y\n",
    "        chaz_interp = interpolate.interp1d([t_prior,t_post],y)\n",
    "        c_haz = chaz_interp(t)\n",
    "    return c_haz"
   ]
  },
  {
   "cell_type": "code",
   "execution_count": null,
   "metadata": {
    "collapsed": false
   },
   "outputs": [],
   "source": [
    "s_cf4.baseline_cumulative_hazard_.ix[rtp_df.iloc[0]['time_point_0']]"
   ]
  },
  {
   "cell_type": "code",
   "execution_count": null,
   "metadata": {
    "collapsed": false
   },
   "outputs": [],
   "source": [
    "#rtp_df[['time_point_1','time_point_2']].applymap(lambda x: return_desired_cumulative_hazards(x))\n",
    "c_0 = rtp_df.applymap(lambda x: return_desired_cumulative_hazards(x))"
   ]
  },
  {
   "cell_type": "code",
   "execution_count": null,
   "metadata": {
    "collapsed": false
   },
   "outputs": [],
   "source": [
    "#np.dot(\n",
    "s_cf4.predict_partial_hazard(take20).shape, c_0.shape#.T,c_0)"
   ]
  },
  {
   "cell_type": "code",
   "execution_count": null,
   "metadata": {
    "collapsed": false
   },
   "outputs": [],
   "source": [
    "#pd.DataFrame(np.exp(-np.outer(s_cf4.predict_partial_hazard(take20),c_0.T)))\n",
    "phaz_20 = s_cf4.predict_partial_hazard(take20)\n"
   ]
  },
  {
   "cell_type": "code",
   "execution_count": null,
   "metadata": {
    "collapsed": false
   },
   "outputs": [],
   "source": [
    "phaz_20.head()"
   ]
  },
  {
   "cell_type": "code",
   "execution_count": null,
   "metadata": {
    "collapsed": false
   },
   "outputs": [],
   "source": [
    "c_0.head()#.dot(phaz_20.T)"
   ]
  },
  {
   "cell_type": "code",
   "execution_count": null,
   "metadata": {
    "collapsed": false
   },
   "outputs": [],
   "source": [
    "phaz_20.iloc[:2].values\n",
    "#.T),c_0.iloc[:2,:].values)"
   ]
  },
  {
   "cell_type": "code",
   "execution_count": null,
   "metadata": {
    "collapsed": false
   },
   "outputs": [],
   "source": [
    "np.shape(c_0.iloc[:2,:].values), np.shape(phaz_20.iloc[:2].values)"
   ]
  },
  {
   "cell_type": "code",
   "execution_count": null,
   "metadata": {
    "collapsed": true
   },
   "outputs": [],
   "source": [
    "def calculate_specific_survival_function(mdl, df):\n",
    "    # calculate the predicted hazard\n",
    "    my_partial_hazard = mdl.predict_partial_hazard(df)\n",
    "    # asign the specific timepoints and calculate the cumulative hazards at these points\n",
    "    rtp_df = identify_time_points(mdl, df)\n",
    "    specific_cumulative_hazards =  rtp_df.applymap(lambda x: return_desired_cumulative_hazards(x))\n",
    "    \n",
    "    return pd.DataFrame(np.exp(-np.multiply(specific_cumulative_hazards.values,my_partial_hazard.values)),index=df.index)"
   ]
  },
  {
   "cell_type": "code",
   "execution_count": null,
   "metadata": {
    "collapsed": false
   },
   "outputs": [],
   "source": [
    "pred_survfcn = calculate_specific_survival_function(s_cf4, take20)"
   ]
  },
  {
   "cell_type": "code",
   "execution_count": null,
   "metadata": {
    "collapsed": false
   },
   "outputs": [],
   "source": [
    "pred_survfcn"
   ]
  },
  {
   "cell_type": "code",
   "execution_count": null,
   "metadata": {
    "collapsed": false
   },
   "outputs": [],
   "source": [
    "pred_survfcn = pd.DataFrame(np.exp(-np.multiply(c_0.values,phaz_20.values)))"
   ]
  },
  {
   "cell_type": "markdown",
   "metadata": {},
   "source": [
    "# now look at Confidence intervals"
   ]
  },
  {
   "cell_type": "code",
   "execution_count": null,
   "metadata": {
    "collapsed": true
   },
   "outputs": [],
   "source": [
    "s_cf4.confidence_intervals_"
   ]
  },
  {
   "cell_type": "code",
   "execution_count": null,
   "metadata": {
    "collapsed": false
   },
   "outputs": [],
   "source": [
    "ci_tmp = predict_partial_hazard_ci(s_cf4,take20[sep_features])"
   ]
  },
  {
   "cell_type": "code",
   "execution_count": null,
   "metadata": {
    "collapsed": true
   },
   "outputs": [],
   "source": [
    "ci_tmp"
   ]
  },
  {
   "cell_type": "code",
   "execution_count": null,
   "metadata": {
    "collapsed": false
   },
   "outputs": [],
   "source": [
    "ci_tmp.head()"
   ]
  },
  {
   "cell_type": "raw",
   "metadata": {},
   "source": [
    "phaz_20.head()"
   ]
  },
  {
   "cell_type": "code",
   "execution_count": null,
   "metadata": {
    "collapsed": false
   },
   "outputs": [],
   "source": [
    "c_0.head()"
   ]
  },
  {
   "cell_type": "code",
   "execution_count": null,
   "metadata": {
    "collapsed": false
   },
   "outputs": [],
   "source": [
    "#np.multiply(ci_tmp.values.T,c_0.values)\n",
    "t20_ubci = pd.DataFrame(np.exp(-np.multiply(c_0.values.T,ci_tmp.values[:,0])),columns=c_0.index).T"
   ]
  },
  {
   "cell_type": "code",
   "execution_count": null,
   "metadata": {
    "collapsed": false
   },
   "outputs": [],
   "source": [
    "t20_lbci =pd.DataFrame(np.exp(-np.multiply(c_0.values.T,ci_tmp.values[:,1])),columns=c_0.index).T"
   ]
  },
  {
   "cell_type": "code",
   "execution_count": null,
   "metadata": {
    "collapsed": false
   },
   "outputs": [],
   "source": [
    "def calculate_specific_survival_function_ci(mdl, df):\n",
    "    # calculate the predicted hazard\n",
    "    partial_hazard_ci = predict_partial_hazard_ci(mdl,df)\n",
    "    # asign the specific timepoints and calculate the cumulative hazards at these points\n",
    "    rtp_df = identify_time_points(mdl, df)\n",
    "    specific_cumulative_hazards_ci =  rtp_df.applymap(lambda x: return_desired_cumulative_hazards(x))\n",
    "    my_index = specific_cumulative_hazards_ci.index\n",
    "    surv_lbci = pd.DataFrame(np.exp(-np.multiply(specific_cumulative_hazards_ci.values,\n",
    "                                                 specific_hazards_ci.values[:,1])),columns=my_index).T\n",
    "    surv_ubci = pd.DataFrame(np.exp(-np.multiply(specific_cumulative_hazards.values,\n",
    "                                                 specific_hazards_ci.values[:,0])),columns=my_index).T\n",
    "    return surv_lbci,surv_ubci\n",
    "\n",
    "\n"
   ]
  },
  {
   "cell_type": "code",
   "execution_count": null,
   "metadata": {
    "collapsed": false
   },
   "outputs": [],
   "source": [
    "t20_lbci"
   ]
  },
  {
   "cell_type": "code",
   "execution_count": null,
   "metadata": {
    "collapsed": false
   },
   "outputs": [],
   "source": [
    "np.abs(t20_lbci-t20_ubci).boxplot(showmeans=True)"
   ]
  },
  {
   "cell_type": "code",
   "execution_count": null,
   "metadata": {
    "collapsed": true
   },
   "outputs": [],
   "source": [
    "lb0 = [0.797483,0.547942,0.377321,0.254712,0.161512,0.097901]\n",
    "ub0 = [0.783915,0.523506,0.350439,0.229619,0.140657,0.082084]\n",
    "ub1=[0.805384,0.735663,0.663009,0.591353,0.521691,0.456545]\n",
    "lb1 =[0.786132,0.710846,0.633239,0.557625,0.485092,0.418233]"
   ]
  },
  {
   "cell_type": "code",
   "execution_count": null,
   "metadata": {
    "collapsed": false
   },
   "outputs": [],
   "source": [
    "pred_survfcn.head()"
   ]
  },
  {
   "cell_type": "code",
   "execution_count": null,
   "metadata": {
    "collapsed": false
   },
   "outputs": [],
   "source": [
    "pred_survfcn.T.ix[:,:1].plot()\n",
    "plt.plot(np.arange(0,6),lb0,ls=':',color='steelblue')\n",
    "plt.plot(np.arange(0,6),ub0,ls=':',color='midnightblue')\n",
    "plt.plot(np.arange(0,6),lb1,ls=':',color='forestgreen')\n",
    "plt.plot(np.arange(0,6),ub1,ls=':',color='chartreuse')\n",
    "\n",
    "plt.xlabel('years in the future')\n",
    "plt.ylabel('Survival Function')"
   ]
  },
  {
   "cell_type": "code",
   "execution_count": null,
   "metadata": {
    "collapsed": false
   },
   "outputs": [],
   "source": [
    "s_cf4.print_summary()"
   ]
  },
  {
   "cell_type": "code",
   "execution_count": null,
   "metadata": {
    "collapsed": false
   },
   "outputs": [],
   "source": [
    "mySF = pd.Panel(data={'sf': pred_survfcn,'lb': t20_lbci,'ub':t20_ubci})"
   ]
  },
  {
   "cell_type": "code",
   "execution_count": null,
   "metadata": {
    "collapsed": false
   },
   "outputs": [],
   "source": [
    "mySF"
   ]
  },
  {
   "cell_type": "code",
   "execution_count": null,
   "metadata": {
    "collapsed": false
   },
   "outputs": [],
   "source": [
    "mySF['ub']"
   ]
  },
  {
   "cell_type": "code",
   "execution_count": null,
   "metadata": {
    "collapsed": false
   },
   "outputs": [],
   "source": [
    "(1-mySF['sf']).sum(axis=0), (1-mySF['lb']).sum(axis=0), (1-mySF['ub']).sum(axis=0)"
   ]
  },
  {
   "cell_type": "markdown",
   "metadata": {},
   "source": [
    "## evaluate for hold out set"
   ]
  },
  {
   "cell_type": "code",
   "execution_count": null,
   "metadata": {
    "collapsed": true
   },
   "outputs": [],
   "source": [
    "ne2e_sf = calculate_specific_survival_function(s_cf4, ne2e)"
   ]
  },
  {
   "cell_type": "code",
   "execution_count": null,
   "metadata": {
    "collapsed": false
   },
   "outputs": [],
   "source": [
    "def predict_partial_hazard_ci(mdl,X):\n",
    "    \"\"\"\n",
    "        X: a (n,d) covariate numpy array or DataFrame. If a DataFrame, columns\n",
    "            can be in any order. If a numpy array, columns must be in the\n",
    "            same order as the training data.        \n",
    "        If covariates were normalized during fitting, they are normalized\n",
    "        in the same way here.\n",
    "        If X is a dataframe, the order of the columns do not matter. But\n",
    "        if X is an array, then the column ordering is assumed to be the\n",
    "        same as the training dataset.\n",
    "        Returns the partial hazard for the individuals, partial since the\n",
    "        baseline hazard is not included. Equal to \\exp{\\beta X}\n",
    "    \"\"\"\n",
    "    #index = _get_index(X)\n",
    "\n",
    "    if isinstance(X, pd.DataFrame):\n",
    "        order = mdl.hazards_.columns\n",
    "        X = X[order]\n",
    "    \n",
    "    index = X.index\n",
    "    \n",
    "    if mdl.normalize:\n",
    "        X = lifelines.utils.normalize(X,mdl._norm_mean.values, mdl._norm_std.values)\n",
    "    \n",
    "    df = pd.DataFrame(np.exp(np.dot(X,mdl.confidence_intervals_.T)),index=index)\n",
    "    df.rename(columns = {0: 'lowerbound',1: 'upperbound'}, inplace=True)#columns.names = ['upperbound','lowerbound']\n",
    "    \n",
    "    return df"
   ]
  },
  {
   "cell_type": "code",
   "execution_count": null,
   "metadata": {
    "collapsed": true
   },
   "outputs": [],
   "source": [
    "from scipy import interpolate\n",
    "\n",
    "def identify_forecast_timepoints(mdl, df, time_col, time_range ):\n",
    "    column_names = ['time_point_'+np.str(tp) for tp in time_range]\n",
    "    \n",
    "    my_index = df.index.tolist()\n",
    "    relevant_time_points = pd.DataFrame(columns=column_names, index=my_index)\n",
    "    for idx in my_index:\n",
    "        my_times = np.array([df.loc[idx,time_col]+tp for tp in time_range])\n",
    "        relevant_time_points.ix[idx] = my_times\n",
    "        \n",
    "    return relevant_time_points\n",
    "\n",
    "def return_desired_cumulative_hazards(mdl,t):\n",
    "    \"\"\"\n",
    "    t: an event time that is used as the base line to forecast forward in time\n",
    "    \"\"\"\n",
    "    #mdl = s_cf4\n",
    "    maxtimepoint = mdl.baseline_hazard_.index.max()\n",
    "    #except IndexError:\n",
    "    if t > maxtimepoint:\n",
    "        t = maxtimepoint # just set to the max value.\n",
    "    try: \n",
    "        spec_hazard = mdl.baseline_hazard_.ix[t].values\n",
    "        c_haz = mdl.baseline_cumulative_hazard_.ix[t].values[0]\n",
    "        #print spec_hazard, c_haz\n",
    "    except KeyError:\n",
    "        #t_1 = s_cf4.baseline_cumulative_hazard_\n",
    "        t_post = mdl.baseline_hazard_.ix[t:].index[0] # get the first after this point\n",
    "        t_prior = mdl.baseline_hazard_.ix[:t].index[-1] # get the last before this point\n",
    "        x = [t_prior, t_post]\n",
    "        y = [mdl.baseline_cumulative_hazard_.ix[t_prior].values[0],mdl.baseline_cumulative_hazard_.ix[t_post].values[0]]\n",
    "        #print x, y\n",
    "        chaz_interp = interpolate.interp1d([t_prior,t_post],y)\n",
    "        c_haz = chaz_interp(t)\n",
    "    \n",
    "    return c_haz\n",
    "\n",
    "\n",
    "\n",
    "def forecast_survival_function(mdl,df,time_col,time_range=[0,1,2,3,4,5],show_ci=True):\n",
    "    \n",
    "    #def calculate_specific_survival_function(mdl, df):\n",
    "    # calculate the predicted hazard\n",
    "    my_partial_hazard = mdl.predict_partial_hazard(df)\n",
    "    # asign the specific timepoints and calculate the cumulative hazards at these points\n",
    "    forecast_times = identify_forecast_timepoints(mdl, df, time_col, time_range)\n",
    "    specific_cumulative_hazards =  forecast_times.applymap(lambda x: return_desired_cumulative_hazards(mdl,x))\n",
    "    # predict the survival function at these forecasted times\n",
    "    \n",
    "    pred_survival_fcn = pd.DataFrame(np.exp(-np.multiply(specific_cumulative_hazards.values,\n",
    "                                                         my_partial_hazard.values)),index=df.index)\n",
    "    \n",
    "    if show_ci:\n",
    "        #def calculate_specific_survival_function_ci(mdl, df):\n",
    "        # calculate the predicted hazard\n",
    "        partial_hazard_ci = predict_partial_hazard_ci(mdl,df)\n",
    "        pred_lower_survival_ci = pd.DataFrame(np.exp(-np.multiply(specific_cumulative_hazards.values.T,\n",
    "                                                                  partial_hazard_ci.values[:,0])),columns=df.index).T\n",
    "        pred_upper_survival_ci = pd.DataFrame(np.exp(-np.multiply(specific_cumulative_hazards.values.T,\n",
    "                                                                  partial_hazard_ci.values[:,1])),columns=df.index).T\n",
    "        surv_prediction = pd.Panel(data={'surv':pred_survival_fcn, 'lbci':pred_lower_survival_ci,\n",
    "                                         'ubci':pred_upper_survival_ci})\n",
    "    else:\n",
    "        surv_prediction = pd.Panel(data={'surv':pred_survival_fcn, 'lbci':pred_survival_fcn,\n",
    "                                         'ubci':pred_survival_fcn})\n",
    "        \n",
    "    return surv_prediction\n",
    "    "
   ]
  },
  {
   "cell_type": "code",
   "execution_count": null,
   "metadata": {
    "collapsed": true
   },
   "outputs": [],
   "source": []
  },
  {
   "cell_type": "code",
   "execution_count": null,
   "metadata": {
    "collapsed": true
   },
   "outputs": [],
   "source": []
  },
  {
   "cell_type": "code",
   "execution_count": null,
   "metadata": {
    "collapsed": true
   },
   "outputs": [],
   "source": []
  },
  {
   "cell_type": "code",
   "execution_count": null,
   "metadata": {
    "collapsed": false
   },
   "outputs": [],
   "source": [
    "pred_20 = forecast_survival_function(s_cf4,take20,'Tenure_years')"
   ]
  },
  {
   "cell_type": "code",
   "execution_count": null,
   "metadata": {
    "collapsed": false
   },
   "outputs": [],
   "source": [
    "pred_20"
   ]
  },
  {
   "cell_type": "code",
   "execution_count": null,
   "metadata": {
    "collapsed": false
   },
   "outputs": [],
   "source": [
    "pred_20['surv'].ix[65872].plot()\n",
    "pred_20['lbci'].ix[65872].plot()\n",
    "pred_20['ubci'].ix[65872].plot()"
   ]
  },
  {
   "cell_type": "code",
   "execution_count": null,
   "metadata": {
    "collapsed": false
   },
   "outputs": [],
   "source": [
    "pred_20['surv'].ix[86363].plot()\n",
    "pred_20['lbci'].ix[86363].plot()\n",
    "pred_20['ubci'].ix[86363].plot()"
   ]
  },
  {
   "cell_type": "code",
   "execution_count": null,
   "metadata": {
    "collapsed": false
   },
   "outputs": [],
   "source": [
    "(1-pred_20['surv']).sum(axis=0)"
   ]
  },
  {
   "cell_type": "code",
   "execution_count": null,
   "metadata": {
    "collapsed": true
   },
   "outputs": [],
   "source": [
    "ne2e_pred = forecast_survival_function(s_cf4,ne2e,'Tenure_years')"
   ]
  },
  {
   "cell_type": "code",
   "execution_count": null,
   "metadata": {
    "collapsed": false
   },
   "outputs": [],
   "source": [
    "ne2e_pred"
   ]
  },
  {
   "cell_type": "code",
   "execution_count": null,
   "metadata": {
    "collapsed": false
   },
   "outputs": [],
   "source": [
    "(1-ne2e_pred['surv']).sum(axis=0)"
   ]
  },
  {
   "cell_type": "code",
   "execution_count": null,
   "metadata": {
    "collapsed": false
   },
   "outputs": [],
   "source": [
    "for frame in ne2e_pred.items:\n",
    "    print frame, (1-ne2e_pred[frame]).sum(axis=0)"
   ]
  },
  {
   "cell_type": "code",
   "execution_count": null,
   "metadata": {
    "collapsed": false
   },
   "outputs": [],
   "source": [
    "ne2e_pred['surv'].head()"
   ]
  },
  {
   "cell_type": "code",
   "execution_count": null,
   "metadata": {
    "collapsed": false
   },
   "outputs": [],
   "source": [
    "ne2e_tmp.head()"
   ]
  },
  {
   "cell_type": "code",
   "execution_count": null,
   "metadata": {
    "collapsed": false
   },
   "outputs": [],
   "source": [
    "(1-ne2e_pred['surv']).ix[25915].plot()"
   ]
  },
  {
   "cell_type": "markdown",
   "metadata": {},
   "source": [
    "## Now work on evaluation\n",
    "* inspired by correspondence to the evaluation set"
   ]
  },
  {
   "cell_type": "code",
   "execution_count": null,
   "metadata": {
    "collapsed": false
   },
   "outputs": [],
   "source": [
    "ne2e_totals = pd.DataFrame((1-ne2e_pred['surv']).sum(axis=0),columns=['surv_sum'])\n",
    "ne2e_totals.diff()/len(ne2e)"
   ]
  },
  {
   "cell_type": "code",
   "execution_count": null,
   "metadata": {
    "collapsed": false
   },
   "outputs": [],
   "source": [
    "ne2e.terminated.sum() # total number terminated"
   ]
  },
  {
   "cell_type": "code",
   "execution_count": null,
   "metadata": {
    "collapsed": false
   },
   "outputs": [],
   "source": [
    "len(ne2eval[(ne2eval['term_tstmp']>'2009-12-31')&(ne2eval.terminated==1)]), len(ne2eval)"
   ]
  },
  {
   "cell_type": "code",
   "execution_count": null,
   "metadata": {
    "collapsed": false
   },
   "outputs": [],
   "source": [
    "return_concordance(ne2e[sep_cols],s_cf4,'Tenure_years','terminated')"
   ]
  },
  {
   "cell_type": "code",
   "execution_count": null,
   "metadata": {
    "collapsed": false
   },
   "outputs": [],
   "source": [
    "recent_term_idx = ne2eval[(ne2eval['term_tstmp']>'2009-12-31')&(ne2eval.terminated==1)].index\n",
    "(1-ne2e_pred['surv'].ix[recent_term_idx]).sum(axis=0)"
   ]
  },
  {
   "cell_type": "code",
   "execution_count": null,
   "metadata": {
    "collapsed": false
   },
   "outputs": [],
   "source": [
    "true_term_idx = ne2e[ne2e.terminated==1].index\n",
    "(1-ne2e_pred['surv'].ix[true_term_idx]).sum(axis=0)"
   ]
  },
  {
   "cell_type": "code",
   "execution_count": null,
   "metadata": {
    "collapsed": false
   },
   "outputs": [],
   "source": [
    "#ne2e_pred['surv'].mask(ne2e_pred['surv'].ix[true_term_idx])\n",
    "#ne2e_pred['surv'].loc[list(set(true_term_idx),5]\n",
    "true_notterm_idx = list(set(ne2e.index)-set(true_term_idx))\n",
    "(1-ne2e_pred['surv'].loc[true_notterm_idx]).sum(axis=0)"
   ]
  },
  {
   "cell_type": "code",
   "execution_count": null,
   "metadata": {
    "collapsed": false
   },
   "outputs": [],
   "source": [
    "s_cf4.print_summary()"
   ]
  },
  {
   "cell_type": "code",
   "execution_count": null,
   "metadata": {
    "collapsed": false
   },
   "outputs": [],
   "source": [
    "sns.distplot(1-ne2e_pred['surv'].loc[true_term_idx,5],label='terminated')\n",
    "#sns.distplot(1-ne2e_pred['surv'].loc[recent_term_idx,5],label='recent_term')\n",
    "sns.distplot(1-ne2e_pred['surv'].loc[true_notterm_idx,5],label='current')\n",
    "plt.legend()\n",
    "plt.title('5 year forecast')"
   ]
  },
  {
   "cell_type": "code",
   "execution_count": null,
   "metadata": {
    "collapsed": false
   },
   "outputs": [],
   "source": [
    "\n",
    "sns.distplot(1-ne2e_pred['surv'].loc[true_term_idx,5],label='terminated')\n",
    "#sns.distplot(1-ne2e_pred['surv'].loc[recent_term_idx,4],label='recent_term')\n",
    "sns.distplot(1-ne2e_pred['surv'].loc[true_notterm_idx,4],label='current')\n",
    "plt.legend()\n",
    "plt.title('4 year forecast')"
   ]
  },
  {
   "cell_type": "code",
   "execution_count": null,
   "metadata": {
    "collapsed": false
   },
   "outputs": [],
   "source": [
    "sns.distplot(1-ne2e_pred['surv'].loc[true_term_idx,1],label='terminated')\n",
    "sns.distplot(1-ne2e_pred['surv'].loc[true_notterm_idx,1],label='current')\n",
    "plt.legend()\n",
    "plt.title('1 year forecast')"
   ]
  },
  {
   "cell_type": "code",
   "execution_count": null,
   "metadata": {
    "collapsed": false
   },
   "outputs": [],
   "source": [
    "sns.distplot(1-ne2e_pred['surv'].loc[true_term_idx,0],label='terminated')\n",
    "sns.distplot(1-ne2e_pred['surv'].loc[true_notterm_idx,0],label='current')\n",
    "plt.legend()\n",
    "plt.title('0 year forecast')"
   ]
  },
  {
   "cell_type": "code",
   "execution_count": null,
   "metadata": {
    "collapsed": false
   },
   "outputs": [],
   "source": [
    "sns.distplot(1-ne2e_pred['lbci'].loc[true_term_idx,0],label='terminated',color='midnightblue')\n",
    "sns.distplot(1-ne2e_pred['lbci'].loc[true_notterm_idx,0],label='current',color='indianred')\n",
    "plt.legend()\n",
    "plt.title('0 year forecast')"
   ]
  },
  {
   "cell_type": "code",
   "execution_count": null,
   "metadata": {
    "collapsed": false
   },
   "outputs": [],
   "source": [
    "sns.distplot(1-ne2e_pred['ubci'].loc[true_term_idx,0],label='terminated',color='navy')\n",
    "sns.distplot(1-ne2e_pred['ubci'].loc[true_notterm_idx,0],label='current',color='firebrick')\n",
    "plt.legend()\n",
    "plt.title('0 year forecast')"
   ]
  },
  {
   "cell_type": "code",
   "execution_count": null,
   "metadata": {
    "collapsed": true
   },
   "outputs": [],
   "source": [
    "## if I do the sums based upon a threshold cutoff\n",
    "* looking at the above"
   ]
  },
  {
   "cell_type": "code",
   "execution_count": null,
   "metadata": {
    "collapsed": false
   },
   "outputs": [],
   "source": [
    "def find_max_score_value(y_true, y_pred, metric_name, showplot=True,  **kwargs):\n",
    "    \"\"\"\n",
    "    y_true\n",
    "    y_pred\n",
    "    metric_name -->> a sklearn metric name\n",
    "    \n",
    "    A poor-man's grid search over the evaluation metrics to identify \n",
    "    the best offset values (i.e. point where desired metric score is \n",
    "    highest)\n",
    "    \"\"\"\n",
    "    scores = []\n",
    "    offsets = []\n",
    "    # stage 1: Note if the metric is outside of [0,1] this will not work.\n",
    "    for offset in np.arange(0,10)/float(10):\n",
    "        score = metric_name(y_true,map(np.int,y_pred+offset))\n",
    "        scores.append(score)\n",
    "        offsets.append(offset)\n",
    "    # find the max\n",
    "    mxscore = max(scores)\n",
    "    mx_idx = scores.index(mxscore)\n",
    "    #now offset below and above\n",
    "    if mx_idx == 0:\n",
    "        for offset in np.arange(0,16)/float(100):\n",
    "            offset+=0.0\n",
    "            score = metric_name(y_true,map(np.int,y_pred+offset))\n",
    "            scores.append(score)\n",
    "            offsets.append(offset)\n",
    "    elif mx_idx == 9:\n",
    "        for offset in np.arange(0,21)/float(100):\n",
    "            offset+=0.8\n",
    "            score = metric_name(y_true,map(np.int,y_pred+offset))\n",
    "            scores.append(score)\n",
    "            offsets.append(offset)\n",
    "    else:\n",
    "        base_offset = offsets[mx_idx-1]\n",
    "        for offset in np.arange(0,21)/float(100):\n",
    "            offset+=base_offset\n",
    "            score = metric_name(y_true,map(np.int,y_pred+offset))\n",
    "            scores.append(score)\n",
    "            offsets.append(offset)\n",
    "    \n",
    "    if showplot:             \n",
    "        plt.plot(offsets,scores,'d',color='indigo')\n",
    "        plt.xlabel('offset value')\n",
    "        plt.ylabel(metric_name)\n",
    "    \n",
    "    mxmxscore = max(scores)\n",
    "    mxmx_idx = scores.index(mxmxscore)\n",
    "    print mxmxscore, offsets[mxmx_idx]\n",
    "    #if verbose:\n",
    "    #    print \"__________\"\n",
    "    #    print scores\n",
    "    #return mcc_scores, mcc_offsets\n",
    "    return offsets[mxmx_idx]"
   ]
  },
  {
   "cell_type": "code",
   "execution_count": null,
   "metadata": {
    "collapsed": true
   },
   "outputs": [],
   "source": []
  },
  {
   "cell_type": "code",
   "execution_count": null,
   "metadata": {
    "collapsed": false
   },
   "outputs": [],
   "source": [
    "metrics.f1_score(ne2e.terminated.values,map(np.int,1-ne2e_pred['surv'].loc[:,2].values+0.5))"
   ]
  },
  {
   "cell_type": "code",
   "execution_count": null,
   "metadata": {
    "collapsed": false
   },
   "outputs": [],
   "source": [
    "f1_off = []\n",
    "for i in np.arange(0,6):\n",
    "    f1_off.append(find_max_score_value(ne2e.terminated.values,1-ne2e_pred['surv'].loc[:,i],metrics.f1_score,showplot=False))"
   ]
  },
  {
   "cell_type": "code",
   "execution_count": null,
   "metadata": {
    "collapsed": false
   },
   "outputs": [],
   "source": [
    "f1_off_in5 = []\n",
    "for i in np.arange(0,6):\n",
    "    f1_off_in5.append(find_max_score_value(ne2e_tmp.within5yr_sep.values,1-ne2e_pred['surv'].loc[:,i],metrics.f1_score,showplot=False))"
   ]
  },
  {
   "cell_type": "code",
   "execution_count": null,
   "metadata": {
    "collapsed": false
   },
   "outputs": [],
   "source": [
    "metrics.confusion_matrix(ne2e_tmp.terminated.values,map(np.int,1-ne2e_pred['surv'].loc[:,1]+0.52))"
   ]
  },
  {
   "cell_type": "code",
   "execution_count": null,
   "metadata": {
    "collapsed": false
   },
   "outputs": [],
   "source": [
    "#### what if I annualize the overall departures?\n",
    "nterm = 9942\n",
    "nterm/5"
   ]
  },
  {
   "cell_type": "code",
   "execution_count": null,
   "metadata": {
    "collapsed": false
   },
   "outputs": [],
   "source": [
    "len(ne2e)"
   ]
  },
  {
   "cell_type": "code",
   "execution_count": null,
   "metadata": {
    "collapsed": false
   },
   "outputs": [],
   "source": [
    "((1-ne2e_pred['surv'])+f1_off).head()"
   ]
  },
  {
   "cell_type": "code",
   "execution_count": null,
   "metadata": {
    "collapsed": false
   },
   "outputs": [],
   "source": [
    "((1-ne2e_pred['surv'])>=0.5).astype(int).sum(axis=0)"
   ]
  },
  {
   "cell_type": "code",
   "execution_count": null,
   "metadata": {
    "collapsed": false
   },
   "outputs": [],
   "source": [
    "## find the examples where there was a recent separation\n",
    "ne2e_tmp = ne2e[['Tenure_years','Age_years','terminated']].copy()\n",
    "ne2e_tmp['within5yr_sep']=0\n",
    "ne2e_tmp['within5yr_sep'].ix[recent_term_idx]=1\n",
    "ne2e_tmp.within5yr_sep.sum()"
   ]
  },
  {
   "cell_type": "code",
   "execution_count": null,
   "metadata": {
    "collapsed": false
   },
   "outputs": [],
   "source": [
    "tmp_cols = ['p5_'+np.str(year) for year in [0,1,2,3,4,5]]\n",
    "#column_names = ['time_point_'+np.str(year) for year in yr_range]\n",
    "tdf = ((1-ne2e_pred['surv'])>=0.5).astype(int)\n",
    "tdf.columns=tmp_cols\n",
    "tdf.head()"
   ]
  },
  {
   "cell_type": "code",
   "execution_count": null,
   "metadata": {
    "collapsed": true
   },
   "outputs": [],
   "source": [
    "ne2e_tmp=pd.concat([ne2e_tmp,tdf],axis=1)\n",
    "ne2e_tmp"
   ]
  },
  {
   "cell_type": "code",
   "execution_count": null,
   "metadata": {
    "collapsed": false
   },
   "outputs": [],
   "source": [
    "plot_conf_matrix(ne2e_tmp.within5yr_sep,ne2e_tmp.p5_0,normed=False)"
   ]
  },
  {
   "cell_type": "code",
   "execution_count": null,
   "metadata": {
    "collapsed": false
   },
   "outputs": [],
   "source": [
    "plot_conf_matrix(ne2e_tmp.terminated,ne2e_tmp.p5_1,normed=False)"
   ]
  },
  {
   "cell_type": "code",
   "execution_count": null,
   "metadata": {
    "collapsed": true
   },
   "outputs": [],
   "source": [
    "ne2e_tmp[cola]"
   ]
  },
  {
   "cell_type": "code",
   "execution_count": null,
   "metadata": {
    "collapsed": false
   },
   "outputs": [],
   "source": [
    "ne2e_pred['surv'].head()"
   ]
  },
  {
   "cell_type": "code",
   "execution_count": null,
   "metadata": {
    "collapsed": false
   },
   "outputs": [],
   "source": [
    "for cola in  tmp_cols:\n",
    "    print cola,\" : \", metrics.f1_score(ne2e_tmp.terminated, ne2e_tmp[cola]), \"\\t\", metrics.f1_score(ne2e_tmp.within5yr_sep, ne2e_tmp[cola])\n",
    "        "
   ]
  },
  {
   "cell_type": "code",
   "execution_count": null,
   "metadata": {
    "collapsed": false
   },
   "outputs": [],
   "source": [
    "for cola in  tmp_cols:\n",
    "    colb = np.int(cola[-1])\n",
    "    #print cola,\" : \", metrics.hamming_loss(ne2e_tmp.terminated, ne2e_tmp[cola]), \"\\t\", metrics.roc_auc_score(ne2e_tmp.terminated, ne2e_tmp[cola])\n",
    "    print cola,\" : \", metrics.roc_auc_score(ne2e_tmp.terminated,((1-ne2e_pred['surv'][colb])+.54).astype(int)), \"\\t\", metrics.roc_auc_score(ne2e_tmp.terminated, ne2e_tmp[cola])    "
   ]
  },
  {
   "cell_type": "code",
   "execution_count": null,
   "metadata": {
    "collapsed": false
   },
   "outputs": [],
   "source": [
    "for cola in  tmp_cols:\n",
    "    colb = np.int(cola[-1])\n",
    "    #print cola,\" : \", metrics.hamming_loss(ne2e_tmp.terminated, ne2e_tmp[cola]), \"\\t\", metrics.roc_auc_score(ne2e_tmp.terminated, ne2e_tmp[cola])\n",
    "    print cola,\" : \", metrics.brier_score_loss(ne2e_tmp.terminated, (1-ne2e_pred['surv'][colb])), \"\\t\", metrics.matthews_corrcoef(ne2e_tmp.terminated, ne2e_tmp[cola])    "
   ]
  },
  {
   "cell_type": "code",
   "execution_count": null,
   "metadata": {
    "collapsed": false
   },
   "outputs": [],
   "source": [
    "((1-ne2e_pred['lbci'])>=0.5).astype(int).sum(axis=0)"
   ]
  },
  {
   "cell_type": "code",
   "execution_count": null,
   "metadata": {
    "collapsed": false
   },
   "outputs": [],
   "source": [
    "((1-ne2e_pred['ubci'])>=0.5).astype(int).sum(axis=0)"
   ]
  },
  {
   "cell_type": "code",
   "execution_count": null,
   "metadata": {
    "collapsed": false
   },
   "outputs": [],
   "source": [
    "for i in np.arange(0,6):\n",
    "    y_true = ne2e.terminated.values\n",
    "    y_50pred = ((1-ne2e_pred['surv'].loc[:,i])>=0.5).astype(int)\n",
    "    print i, metrics.f1_score(y_true,y_50pred), metrics.matthews_corrcoef(y_true,y_50pred) #print metrics.confusion_matrix(,)"
   ]
  },
  {
   "cell_type": "code",
   "execution_count": null,
   "metadata": {
    "collapsed": false
   },
   "outputs": [],
   "source": [
    "print metrics.confusion_matrix(y_true,((1-ne2e_pred['surv'].loc[:,5])>=0.5).astype(int))\n",
    "plot_conf_matrix(y_true,((1-ne2e_pred['surv'].loc[:,5])>=0.5).astype(int),normed=False)"
   ]
  },
  {
   "cell_type": "code",
   "execution_count": null,
   "metadata": {
    "collapsed": false
   },
   "outputs": [],
   "source": [
    "#sns.distplot((1-ne2e_pred['surv'].loc[recent_term_idx,0]))\n",
    "#sns.distplot((1-ne2e_pred['surv'].loc[recent_term_idx,0]))\n",
    "sns.distplot(1-ne2e_pred['surv'].loc[recent_term_idx,5],label='terminated')\n",
    "#sns.distplot(1-ne2e_pred['surv'].loc[true_notterm_idx,0],label='not_terminated')"
   ]
  },
  {
   "cell_type": "markdown",
   "metadata": {},
   "source": [
    "## So let me try this on the 'current' employees"
   ]
  },
  {
   "cell_type": "code",
   "execution_count": null,
   "metadata": {
    "collapsed": false
   },
   "outputs": [],
   "source": [
    "current = empl1[empl1.status == 0].copy()\n",
    "len(current)"
   ]
  },
  {
   "cell_type": "code",
   "execution_count": null,
   "metadata": {
    "collapsed": true
   },
   "outputs": [],
   "source": [
    "curr = pipe.fit(ne2build[modeling_cols],ne2build.terminated).transform(current[modeling_cols])"
   ]
  },
  {
   "cell_type": "code",
   "execution_count": null,
   "metadata": {
    "collapsed": false
   },
   "outputs": [],
   "source": [
    "curr.shape"
   ]
  },
  {
   "cell_type": "code",
   "execution_count": null,
   "metadata": {
    "collapsed": false
   },
   "outputs": [],
   "source": [
    "curr.head()"
   ]
  },
  {
   "cell_type": "code",
   "execution_count": null,
   "metadata": {
    "collapsed": false
   },
   "outputs": [],
   "source": [
    "curr_surv_pred = forecast_survival_function(s_cf4,curr,'Tenure_years')"
   ]
  },
  {
   "cell_type": "code",
   "execution_count": null,
   "metadata": {
    "collapsed": false
   },
   "outputs": [],
   "source": [
    "#return_concordance(curr[sep_cols],s_cf4,'Tenure_years','terminated')\n",
    "#np.shape(curr[sep_cols])"
   ]
  },
  {
   "cell_type": "code",
   "execution_count": null,
   "metadata": {
    "collapsed": false
   },
   "outputs": [],
   "source": [
    "curr_p5 = pd.DataFrame(((1-curr_surv_pred['surv'])>=0.5).astype(int).sum(axis=0),columns=['surv'])\n",
    "curr_p5"
   ]
  },
  {
   "cell_type": "code",
   "execution_count": null,
   "metadata": {
    "collapsed": false
   },
   "outputs": [],
   "source": [
    "len(curr)"
   ]
  },
  {
   "cell_type": "code",
   "execution_count": null,
   "metadata": {
    "collapsed": false
   },
   "outputs": [],
   "source": [
    "curr_p5['lower'] = ((1-curr_surv_pred['ubci'])>=0.5).astype(int).sum(axis=0)\n",
    "curr_p5['upper']= ((1-curr_surv_pred['lbci'])>=0.5).astype(int).sum(axis=0)\n",
    "curr_p5"
   ]
  },
  {
   "cell_type": "code",
   "execution_count": null,
   "metadata": {
    "collapsed": false
   },
   "outputs": [],
   "source": [
    "plt.plot(curr_p5.surv,'o')\n",
    "plt.plot(curr_p5.lower,'*')\n",
    "plt.plot(curr_p5.upper,'*')"
   ]
  },
  {
   "cell_type": "code",
   "execution_count": null,
   "metadata": {
    "collapsed": false
   },
   "outputs": [],
   "source": [
    "def plot_conf_matrix(y_true, y_pred, normed=True, heatmap_color ='Blues', **kwargs):\n",
    "    ## check to make sure that y_pred is an array of integers if y_true is a bunch of integers\n",
    "    true_int_check = all(isinstance(a,int) for a in y_true)\n",
    "    pred_int_check = all(isinstance(a,int) for a in y_pred)\n",
    "    if true_int_check and not pred_int_check: # convert the y_pred values to integers\n",
    "        if isinstance(y_pred, pd.Series):\n",
    "            y_pred = y_pred.astype(int)\n",
    "\n",
    "    my_c = metrics.confusion_matrix(y_true, y_pred)\n",
    "\n",
    "    print metrics.matthews_corrcoef(y_true, y_pred)\n",
    "    if normed:\n",
    "        cm_normalized = my_c.astype('float') / my_c.sum(axis=1)[:, np.newaxis]\n",
    "        my_c = cm_normalized\n",
    "        plt.title('Normalized RF Classifier Confusion Matrix')\n",
    "    else:\n",
    "        plt.title('Random Forest Classifier Confusion Matrix')\n",
    "\n",
    "    sns.heatmap(my_c, annot=True,  fmt='',cmap=heatmap_color, **kwargs)\n",
    "    plt.ylabel('True')\n",
    "    plt.xlabel('Assigned')\n",
    "    plt.show()\n",
    "\n",
    "    return\n"
   ]
  },
  {
   "cell_type": "markdown",
   "metadata": {},
   "source": [
    "### Set up a dictionary for some of these 'interesting' jobs\n",
    "#### December 31, 2015\n",
    "\n",
    "* The extended Functions (EXT_FUNC_ID_SFI) Jeff Briks is interested in are:\n",
    "    * CCC Sales (00892)\n",
    "    * CCC Service (00071)\n",
    "    * Life Health Response Center (00816)\n",
    "    * Enterprise Auto Express (00909)\n",
    "    * Enterprise ILR (00910)\n",
    "    * State Farm Bank (00517)\n",
    "    * SFPP (00835)\n",
    "* The jobs (JOBCODES) he is interested in are these:\n",
    "    * CCC Service Rep (6200)\n",
    "    * CCC Sales Rep (1876)\n",
    "    * Life Customer Service Asst (2638, 2639, & 2641)\n",
    "    * Claim Associate-Express (0983 & 0984)\n",
    "    * Claim Associate-ILR (1009)\n",
    "    * Claim Team Manager – ILR (0986)\n",
    "    * Bank Customer Service Rep (0851, 852, & 0853)\n",
    "    * SFPP Account Rep (4105)"
   ]
  },
  {
   "cell_type": "code",
   "execution_count": null,
   "metadata": {
    "collapsed": false
   },
   "outputs": [],
   "source": [
    "#interesting_extended_functions = [892,71, 816, 909,910,517,835]\n",
    "extFuncDict ={}\n",
    "extFuncDict[892]='CCC Sales'\n",
    "extFuncDict[71]='CCC Service'\n",
    "extFuncDict[816]='Life Health Response Center'\n",
    "#(00816)\n",
    "extFuncDict[909]='Enterprise Auto Express'\n",
    "extFuncDict[910]='Enterprise ILR' \n",
    "extFuncDict[517]='State Farm Bank'\n",
    "extFuncDict[835]='SFPP'\n",
    "interesting_extended_functions = extFuncDict.keys()\n",
    "print \"extended Functions:\", extFuncDict\n",
    "\n",
    "jobCodeDict = {}\n",
    "jobCodeDict[6200]= 'CCC Service Rep'\n",
    "jobCodeDict[1876]= 'CCC Sales Rep'\n",
    "jobCodeDict[1009]='CLaim Associate-ILR'\n",
    "jobCodeDict[986]='CLaim Team Manager-ILR'\n",
    "jobCodeDict[983]='Claim Associate-Express'\n",
    "jobCodeDict[984]='Claim Associate-Express'\n",
    "jobCodeDict[2638]='Life Customer Service Asst'\n",
    "jobCodeDict[2639]='Life Customer Service Asst'\n",
    "jobCodeDict[2641]='Life Customer Service Asst'\n",
    "jobCodeDict[4105]= 'SFPP Account Rep'\n",
    "jobCodeDict[851]= 'Bank Customer Service Rep'\n",
    "jobCodeDict[852]= 'Bank Customer Service Rep'\n",
    "jobCodeDict[853]= 'Bank Customer Service Rep'\n",
    "interesting_jobcodes =  jobCodeDict.keys()\n",
    "jobCodeDict"
   ]
  },
  {
   "cell_type": "code",
   "execution_count": null,
   "metadata": {
    "collapsed": false
   },
   "outputs": [],
   "source": [
    "thresh = 0.5\n",
    "curr_surv_pred['surv'].applymap(lambda x: 0 if x>thresh else 1).sum() # return the sum of people likely to leave (below threshold)"
   ]
  },
  {
   "cell_type": "markdown",
   "metadata": {},
   "source": [
    "### Now check for the specific jobcodes & extended functions"
   ]
  },
  {
   "cell_type": "code",
   "execution_count": null,
   "metadata": {
    "collapsed": false
   },
   "outputs": [],
   "source": [
    "## count how many examples in the current dataframe\n",
    "[(v,len(curr[curr.EXT_FUNC_ID_SFI==k])) for k,v in extFuncDict.iteritems()]"
   ]
  },
  {
   "cell_type": "code",
   "execution_count": null,
   "metadata": {
    "collapsed": false
   },
   "outputs": [],
   "source": [
    "invJobCodeDict = {}\n",
    "invJobCodeDict['CCC Service Rep'] = [6200]\n",
    "invJobCodeDict['CCC Sales Rep'] = [1876]\n",
    "invJobCodeDict['Life Customer Service Asst'] = [2638,2639,2641]\n",
    "invJobCodeDict['Claim Associate-Express'] = [983,984]\n",
    "invJobCodeDict['Claim Associate-ILR'] = [1009]\n",
    "invJobCodeDict['Claim Team Manager-ILR'] = [986]\n",
    "invJobCodeDict['Bank Customer Service Rep'] = [851,852,853]\n",
    "invJobCodeDict['SFPP Account Rep'] = [4105]#2638,2639,2641]\n",
    "interest_job_names_list = invJobCodeDict.keys()"
   ]
  },
  {
   "cell_type": "code",
   "execution_count": null,
   "metadata": {
    "collapsed": false
   },
   "outputs": [],
   "source": [
    "thresh = 0.5\n",
    "for jc_val in invJobCodeDict.keys():\n",
    "    print \"------------\"\n",
    "    print invJobCodeDict[jc_val], jc_val\n",
    "    print \"total current employees is {0}\".format(len(curr[curr.JOBCODE.isin(invJobCodeDict[jc_val])]))\n",
    "    pred_vals = curr_surv_pred['surv'][curr.JOBCODE.isin(invJobCodeDict[jc_val])].applymap(lambda x: 0 if x> thresh else 1).sum()\n",
    "    for i,v in enumerate(pred_vals):\n",
    "        print \"predicted separation count in {0} years = {1}\".format(i,v)"
   ]
  },
  {
   "cell_type": "code",
   "execution_count": null,
   "metadata": {
    "collapsed": false
   },
   "outputs": [],
   "source": [
    "sum(curr.EXT_FUNC_ID_SFI==835)"
   ]
  },
  {
   "cell_type": "code",
   "execution_count": null,
   "metadata": {
    "collapsed": true
   },
   "outputs": [],
   "source": []
  },
  {
   "cell_type": "code",
   "execution_count": null,
   "metadata": {
    "collapsed": false,
    "scrolled": true
   },
   "outputs": [],
   "source": [
    "thresh = 0.5\n",
    "for jc_val in extFuncDict.keys():\n",
    "    \n",
    "    print \"------------\"\n",
    "    print extFuncDict[jc_val], jc_val\n",
    "    print \"total current employees is {0}\".format(len(curr[curr.EXT_FUNC_ID_SFI==jc_val]))\n",
    "    pred_vals = curr_surv_pred['surv'][curr.EXT_FUNC_ID_SFI==jc_val].applymap(lambda x: 0 if x> thresh else 1).sum()\n",
    "    for i,v in enumerate(pred_vals):\n",
    "        print \"predicted separation count in {0} years = {1}\".format(i,v)"
   ]
  },
  {
   "cell_type": "code",
   "execution_count": null,
   "metadata": {
    "collapsed": false,
    "scrolled": true
   },
   "outputs": [],
   "source": [
    "thresh = 0.5\n",
    "for jc_val in extFuncDict.keys():\n",
    "    \n",
    "    print \"------------\"\n",
    "    print extFuncDict[jc_val], jc_val\n",
    "    print \"total current employees is {0}\".format(len(curr[curr.EXT_FUNC_ID_SFI==jc_val]))\n",
    "    pred_vals = curr_surv_pred['ubci'][curr.EXT_FUNC_ID_SFI==jc_val].applymap(lambda x: 0 if x> thresh else 1).sum()\n",
    "    for i,v in enumerate(pred_vals):\n",
    "        print \"predicted separation count in {0} years = {1}\".format(i,v)"
   ]
  },
  {
   "cell_type": "code",
   "execution_count": null,
   "metadata": {
    "collapsed": false
   },
   "outputs": [],
   "source": [
    "s_cf4.summary"
   ]
  },
  {
   "cell_type": "code",
   "execution_count": null,
   "metadata": {
    "collapsed": false,
    "scrolled": true
   },
   "outputs": [],
   "source": [
    "thresh = 0.5\n",
    "for jc_val in extFuncDict.keys():\n",
    "    \n",
    "    print \"------------\"\n",
    "    print extFuncDict[jc_val], jc_val\n",
    "    print \"total current employees is {0}\".format(len(curr[curr.EXT_FUNC_ID_SFI==jc_val]))\n",
    "    pred_vals = curr_surv_pred['ubci'][curr.EXT_FUNC_ID_SFI==jc_val].applymap(lambda x: 0 if x> thresh else 1).sum()\n",
    "    for i,v in enumerate(pred_vals):\n",
    "        print \"predicted separation count in {0} years = {1}\".format(i,v)"
   ]
  },
  {
   "cell_type": "markdown",
   "metadata": {
    "collapsed": true
   },
   "source": [
    "# March 4, 2016\n",
    "working on retirement predictions for the current employees"
   ]
  },
  {
   "cell_type": "code",
   "execution_count": null,
   "metadata": {
    "collapsed": false
   },
   "outputs": [],
   "source": [
    "import os"
   ]
  },
  {
   "cell_type": "code",
   "execution_count": null,
   "metadata": {
    "collapsed": true
   },
   "outputs": [],
   "source": [
    "os.chdir('../../../projects/HRattrition/webserverTest/models/')"
   ]
  },
  {
   "cell_type": "code",
   "execution_count": null,
   "metadata": {
    "collapsed": true
   },
   "outputs": [],
   "source": [
    "import pandas as pd"
   ]
  },
  {
   "cell_type": "code",
   "execution_count": null,
   "metadata": {
    "collapsed": true
   },
   "outputs": [],
   "source": [
    "import pickle\n"
   ]
  },
  {
   "cell_type": "code",
   "execution_count": null,
   "metadata": {
    "collapsed": false
   },
   "outputs": [],
   "source": [
    "ret_mdl = pickle.load(open('retirement_sf2.pkl'))\n",
    "ret_mdl.print_summary()"
   ]
  },
  {
   "cell_type": "code",
   "execution_count": null,
   "metadata": {
    "collapsed": false
   },
   "outputs": [],
   "source": [
    "ret_mdl.durations.name"
   ]
  },
  {
   "cell_type": "markdown",
   "metadata": {},
   "source": [
    "## read in the set of current employees"
   ]
  },
  {
   "cell_type": "code",
   "execution_count": null,
   "metadata": {
    "collapsed": true
   },
   "outputs": [],
   "source": [
    "os.chdir('../../reduced/')"
   ]
  },
  {
   "cell_type": "code",
   "execution_count": null,
   "metadata": {
    "collapsed": false
   },
   "outputs": [],
   "source": [
    "import numpy as np\n",
    "import matplotlib.pyplot as plt\n",
    "%matplotlib inline"
   ]
  },
  {
   "cell_type": "code",
   "execution_count": null,
   "metadata": {
    "collapsed": false
   },
   "outputs": [],
   "source": [
    "em2002 = pd.read_csv('after2001_v3.csv',dtype={'KEY':np.str,'EMPL_CLASS':np.str,'EEO1CODE':np.str})\n",
    "em2002.shape"
   ]
  },
  {
   "cell_type": "code",
   "execution_count": null,
   "metadata": {
    "collapsed": false
   },
   "outputs": [],
   "source": [
    "pd.crosstab(em2002.status, em2002.retired)"
   ]
  },
  {
   "cell_type": "code",
   "execution_count": null,
   "metadata": {
    "collapsed": true
   },
   "outputs": [],
   "source": [
    "current = em2002[em2002.status==0].copy()"
   ]
  },
  {
   "cell_type": "code",
   "execution_count": null,
   "metadata": {
    "collapsed": true
   },
   "outputs": [],
   "source": [
    "def get_surv_model_columns(surv_mdl):\n",
    "    event_col = surv_mdl.event_observed.name\n",
    "    time_col = surv_mdl.durations.name\n",
    "    model_cols = surv_mdl.hazards_.columns.tolist()\n",
    "    cols_to_keep = [a for a in model_cols]\n",
    "    cols_to_keep.append(event_col)\n",
    "    cols_to_keep.append(time_col)\n",
    "    return cols_to_keep\n",
    "\n",
    "ret_cols_to_keep = get_surv_model_columns(ret_mdl)"
   ]
  },
  {
   "cell_type": "code",
   "execution_count": null,
   "metadata": {
    "collapsed": true
   },
   "outputs": [],
   "source": [
    "ret_empl = current[ret_cols_to_keep].copy()"
   ]
  },
  {
   "cell_type": "code",
   "execution_count": null,
   "metadata": {
    "collapsed": false
   },
   "outputs": [],
   "source": [
    "over50 = ret_empl[ret_empl['Age_years']>=50].copy()\n",
    "len(over50)"
   ]
  },
  {
   "cell_type": "code",
   "execution_count": null,
   "metadata": {
    "collapsed": true
   },
   "outputs": [],
   "source": [
    "## Forecast forward in 1 year intervals\n",
    "def identify_forecast_timepoints(mdl, X, time_range):\n",
    "    \"\"\"\n",
    "        :param X: a (n,d) covariate numpy array or DataFrame. If a numpy array, it is coerced into a DataFrame\n",
    "        :param time_range: a list of times to calculate the survival for.\n",
    "        :return: time_point_df a DataFrame of selected future times to create survival forecasts for.\n",
    "\n",
    "        Construct a data frame that has the current time_col for each observation incremented by the values in the\n",
    "        desired list (time_range)\n",
    "    \"\"\"\n",
    "    time_col = mdl.durations.name\n",
    "    column_names = ['time_point_'+np.str(tp) for tp in time_range]\n",
    "    if isinstance(X, pd.DataFrame):\n",
    "        my_index = X.index.tolist()\n",
    "    else:\n",
    "        my_index = np.arange(0, len(X))\n",
    "        X = pd.DataFrame(X, columns=mdl.hazards_.columns)\n",
    "\n",
    "    time_point_df = pd.DataFrame(columns=column_names, index=my_index)\n",
    "    for idx in my_index:\n",
    "        my_times = np.array([X.loc[idx, time_col]+tp for tp in time_range])\n",
    "        time_point_df.ix[idx] = my_times\n",
    "\n",
    "    return time_point_df"
   ]
  },
  {
   "cell_type": "code",
   "execution_count": null,
   "metadata": {
    "collapsed": true
   },
   "outputs": [],
   "source": [
    "o50_tdp = identify_forecast_timepoints(ret_mdl,over50,[0,1,2,3,4,5])"
   ]
  },
  {
   "cell_type": "code",
   "execution_count": null,
   "metadata": {
    "collapsed": true
   },
   "outputs": [],
   "source": []
  },
  {
   "cell_type": "code",
   "execution_count": null,
   "metadata": {
    "collapsed": false
   },
   "outputs": [],
   "source": [
    "over50.head()"
   ]
  },
  {
   "cell_type": "code",
   "execution_count": null,
   "metadata": {
    "collapsed": false
   },
   "outputs": [],
   "source": [
    "ret_probability.head()"
   ]
  },
  {
   "cell_type": "code",
   "execution_count": null,
   "metadata": {
    "collapsed": true
   },
   "outputs": [],
   "source": [
    "my_partial_hazard = ret_mdl.predict_partial_hazard(over50)"
   ]
  },
  {
   "cell_type": "code",
   "execution_count": null,
   "metadata": {
    "collapsed": false
   },
   "outputs": [],
   "source": [
    "max_time = ret_mdl.baseline_hazard_.index.max()\n",
    "print(max_time)"
   ]
  },
  {
   "cell_type": "code",
   "execution_count": null,
   "metadata": {
    "collapsed": true
   },
   "outputs": [],
   "source": [
    "o50_tdp[o50_tdp>max_time]= max_time # just set as flat"
   ]
  },
  {
   "cell_type": "code",
   "execution_count": null,
   "metadata": {
    "collapsed": true
   },
   "outputs": [],
   "source": [
    "from scipy import interpolate\n",
    "def return_desired_cumulative_hazards(t,mdl):\n",
    "    \"\"\"\n",
    "    t: an event time that is used as the base line to forecast forward in time\n",
    "    \"\"\"\n",
    "    maxtimepoint = mdl.baseline_hazard_.index.max() #Now taken care of in the forecast\n",
    "    if t > maxtimepoint:\n",
    "        t = maxtimepoint # just set to the max value.\n",
    "    try:\n",
    "        # spec_hazard = self.baseline_hazard_.ix[t].values\n",
    "        c_haz = mdl.baseline_cumulative_hazard_.ix[t].values[0]\n",
    "\n",
    "    except KeyError:\n",
    "        # get the first after this point\n",
    "        t_post = mdl.baseline_hazard_.ix[t:].index[0]\n",
    "        # get the last before this point\n",
    "        t_prior = mdl.baseline_hazard_.ix[:t].index[-1]\n",
    "        # x = [t_prior, t_post]\n",
    "        y = [mdl.baseline_cumulative_hazard_.ix[t_prior].values[0],\n",
    "             mdl.baseline_cumulative_hazard_.ix[t_post].values[0]]\n",
    "        # print(x, y)\n",
    "        chaz_interp = interpolate.interp1d([t_prior, t_post], y)\n",
    "        c_haz = chaz_interp(t)\n",
    "\n",
    "    return c_haz"
   ]
  },
  {
   "cell_type": "code",
   "execution_count": null,
   "metadata": {
    "collapsed": true
   },
   "outputs": [],
   "source": [
    "spec_cum_haz = o50_tdp.applymap(lambda x: return_desired_cumulative_hazards(x,ret_mdl))"
   ]
  },
  {
   "cell_type": "code",
   "execution_count": null,
   "metadata": {
    "collapsed": false
   },
   "outputs": [],
   "source": [
    "ret_pred_survival_fcn = pd.DataFrame(np.exp(-np.multiply(spec_cum_haz.values,\n",
    "                                                             my_partial_hazard.values)), index=over50.index)"
   ]
  },
  {
   "cell_type": "code",
   "execution_count": null,
   "metadata": {
    "collapsed": false
   },
   "outputs": [],
   "source": [
    "ret_pred_survival_fcn.head()"
   ]
  },
  {
   "cell_type": "code",
   "execution_count": null,
   "metadata": {
    "collapsed": false
   },
   "outputs": [],
   "source": [
    "ret_pred_survival_fcn.shape"
   ]
  },
  {
   "cell_type": "code",
   "execution_count": null,
   "metadata": {
    "collapsed": false
   },
   "outputs": [],
   "source": [
    "ret_surv_pred_df = pd.concat([ret_probability,ret_pred_survival_fcn],axis=1)\n"
   ]
  },
  {
   "cell_type": "code",
   "execution_count": null,
   "metadata": {
    "collapsed": false
   },
   "outputs": [],
   "source": [
    "ret_surv_pred_df.drop('ret_prob',axis=1,inplace=True)"
   ]
  },
  {
   "cell_type": "code",
   "execution_count": null,
   "metadata": {
    "collapsed": false
   },
   "outputs": [],
   "source": [
    "ret_surv_pred_df.fillna(1,inplace=True)\n",
    "ret_surv_pred_df.head(10)"
   ]
  },
  {
   "cell_type": "code",
   "execution_count": null,
   "metadata": {
    "collapsed": false
   },
   "outputs": [],
   "source": [
    "ret_proba = ret_surv_pred_df.copy()\n",
    "ret_proba[ret_proba.columns[1:]]=ret_proba[ret_proba.columns[1:]].applymap(lambda x: 1-x)\n",
    "ret_proba.head()"
   ]
  },
  {
   "cell_type": "code",
   "execution_count": null,
   "metadata": {
    "collapsed": false
   },
   "outputs": [],
   "source": [
    "#ret_proba = 1-ret_surv_pred_df\n",
    "ret_proba.columns = ['KEY','ret_prob0','ret_prob1','ret_prob2','ret_prob3','ret_prob4','ret_prob5']\n",
    "ret_proba.head()"
   ]
  },
  {
   "cell_type": "code",
   "execution_count": null,
   "metadata": {
    "collapsed": true
   },
   "outputs": [],
   "source": [
    "ret_proba.to_csv('current_retire_prob.csv',index=False)"
   ]
  },
  {
   "cell_type": "code",
   "execution_count": null,
   "metadata": {
    "collapsed": false
   },
   "outputs": [],
   "source": [
    "\n",
    "%matplotlib inline \n",
    "import matplotlib.pyplot as plt\n",
    "import seaborn as sns"
   ]
  },
  {
   "cell_type": "code",
   "execution_count": null,
   "metadata": {
    "collapsed": false
   },
   "outputs": [],
   "source": [
    "sns.distplot(ret_proba.ret_prob5)"
   ]
  },
  {
   "cell_type": "code",
   "execution_count": null,
   "metadata": {
    "collapsed": false
   },
   "outputs": [],
   "source": [
    "em2002[['SAL1','MERIT1','PERF1']].describe()"
   ]
  },
  {
   "cell_type": "code",
   "execution_count": null,
   "metadata": {
    "collapsed": false
   },
   "outputs": [],
   "source": [
    "em2002[['SAL1','MERIT1','PERF1']].quantile(0.02)"
   ]
  },
  {
   "cell_type": "code",
   "execution_count": null,
   "metadata": {
    "collapsed": true
   },
   "outputs": [],
   "source": []
  }
 ],
 "metadata": {
  "kernelspec": {
   "display_name": "Python 3",
   "language": "python",
   "name": "python3"
  },
  "language_info": {
   "codemirror_mode": {
    "name": "ipython",
    "version": 3
   },
   "file_extension": ".py",
   "mimetype": "text/x-python",
   "name": "python",
   "nbconvert_exporter": "python",
   "pygments_lexer": "ipython3",
   "version": "3.5.1"
  }
 },
 "nbformat": 4,
 "nbformat_minor": 0
}
