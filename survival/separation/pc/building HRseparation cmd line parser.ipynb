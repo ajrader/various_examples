{
 "cells": [
  {
   "cell_type": "code",
   "execution_count": 1,
   "metadata": {
    "collapsed": false
   },
   "outputs": [],
   "source": [
    "from __future__ import print_function\n",
    "import os,sys\n",
    "import pandas as pd\n",
    "import numpy as np\n",
    "import datetime as dt\n",
    "import pickle\n",
    "from glob import glob\n"
   ]
  },
  {
   "cell_type": "code",
   "execution_count": 2,
   "metadata": {
    "collapsed": false
   },
   "outputs": [
    {
     "data": {
      "text/plain": [
       "'C:\\\\Users\\\\kesj\\\\Documents\\\\IPython Notebooks\\\\otherSFprojects\\\\HRsepara'"
      ]
     },
     "execution_count": 2,
     "metadata": {},
     "output_type": "execute_result"
    }
   ],
   "source": [
    "os.getcwd()"
   ]
  },
  {
   "cell_type": "code",
   "execution_count": 3,
   "metadata": {
    "collapsed": true
   },
   "outputs": [],
   "source": [
    "os.chdir('../../../projects/HRattrition/reduced/')"
   ]
  },
  {
   "cell_type": "code",
   "execution_count": 5,
   "metadata": {
    "collapsed": false
   },
   "outputs": [
    {
     "name": "stdout",
     "output_type": "stream",
     "text": [
      " Volume in drive C is OS\n",
      " Volume Serial Number is 222B-1C6E\n",
      "\n",
      " Directory of C:\\Users\\kesj\\Documents\\projects\\HRattrition\\survival\n",
      "\n",
      "03/11/2016  09:30 AM    <DIR>          .\n",
      "03/11/2016  09:30 AM    <DIR>          ..\n",
      "02/15/2016  02:17 PM        80,315,848 after2001_v8.csv\n",
      "03/11/2016  09:48 AM        41,364,624 current_v8.ssv\n",
      "02/16/2016  04:39 PM            38,162 forecasted_survival_withCI.png\n",
      "02/18/2016  04:32 PM            21,556 ne2e_surv_probabilitydistrib_five_year.png\n",
      "02/18/2016  04:28 PM            12,327 p5_surv_ne2e_confusion.png\n",
      "02/15/2016  01:54 PM        44,424,785 separation_cf4.pkl\n",
      "               6 File(s)    166,177,302 bytes\n",
      "               2 Dir(s)  84,293,062,656 bytes free\n"
     ]
    }
   ],
   "source": [
    "os.chdir('../survival/')\n",
    "%ls"
   ]
  },
  {
   "cell_type": "code",
   "execution_count": 9,
   "metadata": {
    "collapsed": false
   },
   "outputs": [
    {
     "name": "stderr",
     "output_type": "stream",
     "text": [
      "C:\\Anaconda\\lib\\site-packages\\IPython\\core\\interactiveshell.py:2902: DtypeWarning: Columns (23) have mixed types. Specify dtype option on import or set low_memory=False.\n",
      "  interactivity=interactivity, compiler=compiler, result=result)\n"
     ]
    },
    {
     "data": {
      "text/plain": [
       "(69475, 126)"
      ]
     },
     "execution_count": 9,
     "metadata": {},
     "output_type": "execute_result"
    }
   ],
   "source": [
    "empl = pd.read_csv('current_v8.ssv',sep=';',dtype={'KEY':np.str})\n",
    "empl.shape"
   ]
  },
  {
   "cell_type": "code",
   "execution_count": 10,
   "metadata": {
    "collapsed": false
   },
   "outputs": [
    {
     "data": {
      "text/html": [
       "<div>\n",
       "<table border=\"1\" class=\"dataframe\">\n",
       "  <thead>\n",
       "    <tr style=\"text-align: right;\">\n",
       "      <th></th>\n",
       "      <th>ADDRCNT1</th>\n",
       "      <th>ADDRCNT10</th>\n",
       "      <th>ADDRCNT3</th>\n",
       "      <th>ADDRCNT5</th>\n",
       "      <th>ANNUAL_RT</th>\n",
       "      <th>Age_tdelta</th>\n",
       "      <th>Age_years</th>\n",
       "      <th>BIRTHDATE</th>\n",
       "      <th>BOX1</th>\n",
       "      <th>COMPANY</th>\n",
       "      <th>...</th>\n",
       "      <th>HAVE_DEP</th>\n",
       "      <th>DEP_COUNT</th>\n",
       "      <th>sep_status</th>\n",
       "      <th>mar_status</th>\n",
       "      <th>retired</th>\n",
       "      <th>terminated</th>\n",
       "      <th>hire_tstmp</th>\n",
       "      <th>term_tstmp</th>\n",
       "      <th>birth_tstmp</th>\n",
       "      <th>hire_age</th>\n",
       "    </tr>\n",
       "  </thead>\n",
       "  <tbody>\n",
       "    <tr>\n",
       "      <th>0</th>\n",
       "      <td>1</td>\n",
       "      <td>1</td>\n",
       "      <td>1</td>\n",
       "      <td>1</td>\n",
       "      <td>16099.20</td>\n",
       "      <td>7788 days 00:00:00.000000000</td>\n",
       "      <td>21.322820</td>\n",
       "      <td>1993-09-05</td>\n",
       "      <td>0</td>\n",
       "      <td>1</td>\n",
       "      <td>...</td>\n",
       "      <td>0</td>\n",
       "      <td>0</td>\n",
       "      <td>0</td>\n",
       "      <td>1</td>\n",
       "      <td>0</td>\n",
       "      <td>0</td>\n",
       "      <td>2014-06-09</td>\n",
       "      <td>2015-01-01</td>\n",
       "      <td>1993-09-05</td>\n",
       "      <td>20.758811</td>\n",
       "    </tr>\n",
       "    <tr>\n",
       "      <th>1</th>\n",
       "      <td>0</td>\n",
       "      <td>1</td>\n",
       "      <td>1</td>\n",
       "      <td>1</td>\n",
       "      <td>31045.35</td>\n",
       "      <td>9808 days 00:00:00.000000000</td>\n",
       "      <td>26.853392</td>\n",
       "      <td>1988-02-24</td>\n",
       "      <td>2</td>\n",
       "      <td>1</td>\n",
       "      <td>...</td>\n",
       "      <td>0</td>\n",
       "      <td>0</td>\n",
       "      <td>0</td>\n",
       "      <td>1</td>\n",
       "      <td>0</td>\n",
       "      <td>0</td>\n",
       "      <td>2012-12-10</td>\n",
       "      <td>2015-01-01</td>\n",
       "      <td>1988-02-24</td>\n",
       "      <td>24.794486</td>\n",
       "    </tr>\n",
       "    <tr>\n",
       "      <th>2</th>\n",
       "      <td>0</td>\n",
       "      <td>1</td>\n",
       "      <td>1</td>\n",
       "      <td>1</td>\n",
       "      <td>39882.98</td>\n",
       "      <td>8665 days 00:00:00.000000000</td>\n",
       "      <td>23.723964</td>\n",
       "      <td>1991-04-12</td>\n",
       "      <td>2</td>\n",
       "      <td>1</td>\n",
       "      <td>...</td>\n",
       "      <td>0</td>\n",
       "      <td>0</td>\n",
       "      <td>0</td>\n",
       "      <td>1</td>\n",
       "      <td>0</td>\n",
       "      <td>0</td>\n",
       "      <td>2012-06-04</td>\n",
       "      <td>2015-01-01</td>\n",
       "      <td>1991-04-12</td>\n",
       "      <td>21.147594</td>\n",
       "    </tr>\n",
       "    <tr>\n",
       "      <th>3</th>\n",
       "      <td>0</td>\n",
       "      <td>0</td>\n",
       "      <td>0</td>\n",
       "      <td>0</td>\n",
       "      <td>44694.03</td>\n",
       "      <td>21052 days 00:00:00.000000000</td>\n",
       "      <td>57.638418</td>\n",
       "      <td>1957-05-13</td>\n",
       "      <td>2</td>\n",
       "      <td>5</td>\n",
       "      <td>...</td>\n",
       "      <td>1</td>\n",
       "      <td>1</td>\n",
       "      <td>0</td>\n",
       "      <td>0</td>\n",
       "      <td>0</td>\n",
       "      <td>0</td>\n",
       "      <td>1975-09-02</td>\n",
       "      <td>2015-01-01</td>\n",
       "      <td>1957-05-13</td>\n",
       "      <td>18.305646</td>\n",
       "    </tr>\n",
       "    <tr>\n",
       "      <th>4</th>\n",
       "      <td>0</td>\n",
       "      <td>0</td>\n",
       "      <td>0</td>\n",
       "      <td>0</td>\n",
       "      <td>78093.34</td>\n",
       "      <td>17164 days 00:00:00.000000000</td>\n",
       "      <td>46.993436</td>\n",
       "      <td>1968-01-04</td>\n",
       "      <td>2</td>\n",
       "      <td>5</td>\n",
       "      <td>...</td>\n",
       "      <td>1</td>\n",
       "      <td>3</td>\n",
       "      <td>0</td>\n",
       "      <td>0</td>\n",
       "      <td>0</td>\n",
       "      <td>0</td>\n",
       "      <td>1994-12-05</td>\n",
       "      <td>2015-01-01</td>\n",
       "      <td>1968-01-04</td>\n",
       "      <td>26.919102</td>\n",
       "    </tr>\n",
       "  </tbody>\n",
       "</table>\n",
       "<p>5 rows × 126 columns</p>\n",
       "</div>"
      ],
      "text/plain": [
       "   ADDRCNT1  ADDRCNT10  ADDRCNT3  ADDRCNT5  ANNUAL_RT  \\\n",
       "0         1          1         1         1   16099.20   \n",
       "1         0          1         1         1   31045.35   \n",
       "2         0          1         1         1   39882.98   \n",
       "3         0          0         0         0   44694.03   \n",
       "4         0          0         0         0   78093.34   \n",
       "\n",
       "                      Age_tdelta  Age_years   BIRTHDATE  BOX1  COMPANY  \\\n",
       "0   7788 days 00:00:00.000000000  21.322820  1993-09-05     0        1   \n",
       "1   9808 days 00:00:00.000000000  26.853392  1988-02-24     2        1   \n",
       "2   8665 days 00:00:00.000000000  23.723964  1991-04-12     2        1   \n",
       "3  21052 days 00:00:00.000000000  57.638418  1957-05-13     2        5   \n",
       "4  17164 days 00:00:00.000000000  46.993436  1968-01-04     2        5   \n",
       "\n",
       "     ...     HAVE_DEP  DEP_COUNT  sep_status  mar_status  retired  terminated  \\\n",
       "0    ...            0          0           0           1        0           0   \n",
       "1    ...            0          0           0           1        0           0   \n",
       "2    ...            0          0           0           1        0           0   \n",
       "3    ...            1          1           0           0        0           0   \n",
       "4    ...            1          3           0           0        0           0   \n",
       "\n",
       "   hire_tstmp  term_tstmp  birth_tstmp   hire_age  \n",
       "0  2014-06-09  2015-01-01   1993-09-05  20.758811  \n",
       "1  2012-12-10  2015-01-01   1988-02-24  24.794486  \n",
       "2  2012-06-04  2015-01-01   1991-04-12  21.147594  \n",
       "3  1975-09-02  2015-01-01   1957-05-13  18.305646  \n",
       "4  1994-12-05  2015-01-01   1968-01-04  26.919102  \n",
       "\n",
       "[5 rows x 126 columns]"
      ]
     },
     "execution_count": 10,
     "metadata": {},
     "output_type": "execute_result"
    }
   ],
   "source": [
    "empl.head()"
   ]
  },
  {
   "cell_type": "markdown",
   "metadata": {},
   "source": [
    "## load the employee file (converted)"
   ]
  },
  {
   "cell_type": "code",
   "execution_count": 4,
   "metadata": {
    "collapsed": false
   },
   "outputs": [
    {
     "data": {
      "text/plain": [
       "(134266, 69)"
      ]
     },
     "execution_count": 4,
     "metadata": {},
     "output_type": "execute_result"
    }
   ],
   "source": [
    "empl = pd.read_csv('after2001_v3.csv',dtype={'EMPL_CLASS':np.str,'EEO1CODE':np.str,'KEY':np.str})\n",
    "empl.shape"
   ]
  },
  {
   "cell_type": "markdown",
   "metadata": {},
   "source": [
    "## load the 'sample text file'"
   ]
  },
  {
   "cell_type": "code",
   "execution_count": 5,
   "metadata": {
    "collapsed": false
   },
   "outputs": [],
   "source": [
    "#os.chdir('../webserverTest/testdata/')\n"
   ]
  },
  {
   "cell_type": "code",
   "execution_count": 8,
   "metadata": {
    "collapsed": true
   },
   "outputs": [],
   "source": [
    "os.chdir('../')"
   ]
  },
  {
   "cell_type": "code",
   "execution_count": 18,
   "metadata": {
    "collapsed": false
   },
   "outputs": [],
   "source": [
    "def parse_input_file(my_path,delimiter_char=\";\",cols=None):\n",
    "    if my_path[-1] != '/':\n",
    "        my_path+='/'\n",
    "\n",
    "    \n",
    "    infile = glob(my_path+'*.*')[0]\n",
    "    #try:\n",
    "    print (infile)\n",
    "    if cols != None:\n",
    "        employee_df = pd.read_csv(infile, sep=delimiter_char,dtype={'KEY':np.str},usecols=cols)\n",
    "    else:\n",
    "        employee_df = pd.read_csv(infile, sep=delimiter_char,dtype={'KEY':np.str})\n",
    "    \n",
    "    return employee_df"
   ]
  },
  {
   "cell_type": "code",
   "execution_count": 17,
   "metadata": {
    "collapsed": false
   },
   "outputs": [
    {
     "name": "stdout",
     "output_type": "stream",
     "text": [
      "uploads\\tset3.ssv\n"
     ]
    }
   ],
   "source": [
    "edf = parse_input_file('uploads')"
   ]
  },
  {
   "cell_type": "code",
   "execution_count": 21,
   "metadata": {
    "collapsed": false
   },
   "outputs": [
    {
     "data": {
      "text/plain": [
       "(10, 118)"
      ]
     },
     "execution_count": 21,
     "metadata": {},
     "output_type": "execute_result"
    }
   ],
   "source": [
    "edf.shape"
   ]
  },
  {
   "cell_type": "code",
   "execution_count": 25,
   "metadata": {
    "collapsed": false
   },
   "outputs": [
    {
     "data": {
      "text/plain": [
       "[]"
      ]
     },
     "execution_count": 25,
     "metadata": {},
     "output_type": "execute_result"
    }
   ],
   "source": [
    "[c for c in edf.columns.tolist() if c.endswith('years')]"
   ]
  },
  {
   "cell_type": "markdown",
   "metadata": {},
   "source": [
    "## get the model parsing working"
   ]
  },
  {
   "cell_type": "code",
   "execution_count": 26,
   "metadata": {
    "collapsed": true
   },
   "outputs": [],
   "source": [
    "MODEL_BASE_PATH = u'C:/Users/kesj/Documents/projects/HRattrition/webserverTest/models/'\n"
   ]
  },
  {
   "cell_type": "code",
   "execution_count": 37,
   "metadata": {
    "collapsed": true
   },
   "outputs": [],
   "source": [
    "def find_survival_models(MDL_BASE_PATH):#,pkl_name,pred_years):\n",
    "    surv_pkl_files = glob(MDL_BASE_PATH+'*.pkl')\n",
    "    # n_files =len(surv_pkl_files)\n",
    "    # if n_files <2:\n",
    "    #     print(\"Sorry but less than 2 models were found. Recheck the path %s and try again\" % MDL_BASE_PATH)\n",
    "    # elif n_files > 2:\n",
    "    #     print(\"the last model of each type will be used\")\n",
    "    prediction_cases = ['sep', 'ret']\n",
    "\n",
    "    mdl_files = []\n",
    "    mdl_files.append([a for a in surv_pkl_files if prediction_cases[0] in a][-1])\n",
    "    mdl_files.append([a for a in surv_pkl_files if prediction_cases[1] in a][-1])\n",
    "    \n",
    "    return mdl_files\n",
    "\n",
    "def get_surv_columns(surv_mdl):\n",
    "    \"\"\"\n",
    "    Function to parse the given model and identify list of columns needed for input.\n",
    "    input: surv_mdl = a survival model\n",
    "    output: a list of columns required by this model.\n",
    "    \"\"\"\n",
    "    #event_col = surv_mdl.event_observed.name\n",
    "    time_col = surv_mdl.durations.name\n",
    "    model_cols = surv_mdl.hazards_.columns.tolist()\n",
    "    cols_to_keep = [a for a in model_cols]\n",
    "    #cols_to_keep.append(event_col)\n",
    "    cols_to_keep.append(time_col)\n",
    "    return cols_to_keep\n"
   ]
  },
  {
   "cell_type": "code",
   "execution_count": 28,
   "metadata": {
    "collapsed": false
   },
   "outputs": [
    {
     "data": {
      "text/plain": [
       "[u'C:/Users/kesj/Documents/projects/HRattrition/webserverTest/models\\\\separation_cf4.pkl',\n",
       " u'C:/Users/kesj/Documents/projects/HRattrition/webserverTest/models\\\\retirement_sf2.pkl']"
      ]
     },
     "execution_count": 28,
     "metadata": {},
     "output_type": "execute_result"
    }
   ],
   "source": [
    "mdl_files = find_survival_models(MODEL_BASE_PATH)\n",
    "mdl_files"
   ]
  },
  {
   "cell_type": "code",
   "execution_count": 38,
   "metadata": {
    "collapsed": false
   },
   "outputs": [
    {
     "name": "stdout",
     "output_type": "stream",
     "text": [
      "['Age_years', 'SAL1', 'MERIT1', 'PERF1', 'BOX1', 'SEX', 'HAVE_INS', 'HAVE_DEP', 'DEPTCNT1', 'EXTFUNC_CNT', 'FUNC_CNT', 'REMOTE', 'DIRECT_RPT_CNT', 'HUBIND', 'REH_CNT', 'JOB_FUNCTION_PSA', 'Tenure_years']\n"
     ]
    }
   ],
   "source": [
    "sep_mdl = pickle.load(open(mdl_files[0],'rb'))\n",
    "sep_cols = get_surv_columns(sep_mdl)\n",
    "print(sep_cols)"
   ]
  },
  {
   "cell_type": "code",
   "execution_count": 39,
   "metadata": {
    "collapsed": false
   },
   "outputs": [
    {
     "name": "stdout",
     "output_type": "stream",
     "text": [
      "['Age_years', 'SAL1', 'MERIT1', 'PERF1', 'BOX1', 'SEX', 'HAVE_INS', 'HAVE_DEP', 'Tenure_years']\n"
     ]
    }
   ],
   "source": [
    "ret_mdl = pickle.load(open(mdl_files[1],'rb'))\n",
    "ret_cols = get_surv_columns(ret_mdl)\n",
    "print(ret_cols)"
   ]
  },
  {
   "cell_type": "code",
   "execution_count": 33,
   "metadata": {
    "collapsed": true
   },
   "outputs": [],
   "source": [
    "df_cols = edf.columns.tolist()\n"
   ]
  },
  {
   "cell_type": "markdown",
   "metadata": {},
   "source": [
    "## identify columns that need to be constructed"
   ]
  },
  {
   "cell_type": "code",
   "execution_count": 40,
   "metadata": {
    "collapsed": false
   },
   "outputs": [
    {
     "name": "stdout",
     "output_type": "stream",
     "text": [
      "['JOB_FUNCTION_PSA', 'Tenure_years', 'Age_years']\n"
     ]
    }
   ],
   "source": [
    "cols_to_construct = list(set(sep_cols)-set(df_cols))\n",
    "print(cols_to_construct)"
   ]
  },
  {
   "cell_type": "code",
   "execution_count": 41,
   "metadata": {
    "collapsed": false
   },
   "outputs": [
    {
     "data": {
      "text/plain": [
       "['Tenure_years', 'Age_years']"
      ]
     },
     "execution_count": 41,
     "metadata": {},
     "output_type": "execute_result"
    }
   ],
   "source": [
    "list(set(ret_cols)-set(df_cols))"
   ]
  },
  {
   "cell_type": "code",
   "execution_count": 56,
   "metadata": {
    "collapsed": true
   },
   "outputs": [],
   "source": [
    "def calculate_years(timestamp1,timestamp2,days_in_year =365.25):\n",
    "    number_of_years = (timestamp2 - timestamp1).days/days_in_year\n",
    "    return number_of_years"
   ]
  },
  {
   "cell_type": "code",
   "execution_count": 57,
   "metadata": {
    "collapsed": false
   },
   "outputs": [],
   "source": [
    "sep_cols_to_construct = list(set(sep_cols)-set(df_cols))\n",
    "ret_cols_to_construct = list(set(ret_cols)-set(df_cols))\n",
    "## assume the time column(s) are in years\n",
    "time_cols = [col for col in sep_cols_to_construct if col.endswith('years')]\n",
    "if time_cols != []:\n",
    "    # 1. calculate Age and tenure from dates provided:\n",
    "    #    * convert  HIRE_DT, BIRTHDATE and current_time to timestamps\n",
    "    # 2. use these as years\n",
    "    edf[['hire_tstmp','birth_tstmp']] = edf[['HIRE_DT','BIRTHDATE']]\\\n",
    "        .applymap(lambda x: pd.to_datetime(dt.datetime.strptime(x,'%d%b%Y')))\n",
    "    edf[['Age_years','Tenure_years']] = edf[['birth_tstmp','hire_tstmp']]\\\n",
    "        .applymap(lambda x: calculate_years(x, today_timestamp))\n",
    "    #hire_age_tdelta = employee_df['hire_tstmp']-employee_df['birth_tstmp']\n",
    "    # convert to days, months, or years\n",
    "    #employee_df['hire_age'] = hire_age_tdelta/np.timedelta64(1,'Y')\n",
    "\n",
    "for tcol in time_cols:\n",
    "    sep_cols_to_construct.remove(tcol)\n",
    "    ret_cols_to_construct.remove(tcol)"
   ]
  },
  {
   "cell_type": "code",
   "execution_count": 59,
   "metadata": {
    "collapsed": false
   },
   "outputs": [
    {
     "data": {
      "text/plain": [
       "(['JOB_FUNCTION_PSA'], [])"
      ]
     },
     "execution_count": 59,
     "metadata": {},
     "output_type": "execute_result"
    }
   ],
   "source": [
    "sep_cols_to_construct, ret_cols_to_construct"
   ]
  },
  {
   "cell_type": "markdown",
   "metadata": {},
   "source": [
    "## deal with missing cols"
   ]
  },
  {
   "cell_type": "code",
   "execution_count": 61,
   "metadata": {
    "collapsed": false
   },
   "outputs": [],
   "source": [
    "for col in ret_cols_to_construct:\n",
    "    print (col)"
   ]
  },
  {
   "cell_type": "code",
   "execution_count": 70,
   "metadata": {
    "collapsed": false
   },
   "outputs": [],
   "source": [
    "edf['JOBB_NFW']=edf['JOB_FUNCTION'].apply(lambda x: 1 if x=='NFW' else 0)"
   ]
  },
  {
   "cell_type": "code",
   "execution_count": 66,
   "metadata": {
    "collapsed": false
   },
   "outputs": [
    {
     "name": "stdout",
     "output_type": "stream",
     "text": [
      "3\n",
      "JOB_FUNCTION PSA\n"
     ]
    }
   ],
   "source": [
    "for col in sep_cols_to_construct:\n",
    "    pieces = col.split('_')\n",
    "    print(len(pieces))\n",
    "    dummy_cat = pieces[-1]\n",
    "    main_cat = \"_\".join(piece for piece in pieces[:-1])\n",
    "    print(main_cat,dummy_cat)\n",
    "    edf[col]=edf[main_cat].apply(lambda x: 1 if x==dummy_cat else 0)"
   ]
  },
  {
   "cell_type": "code",
   "execution_count": 68,
   "metadata": {
    "collapsed": false
   },
   "outputs": [
    {
     "data": {
      "text/plain": [
       "5L"
      ]
     },
     "execution_count": 68,
     "metadata": {},
     "output_type": "execute_result"
    }
   ],
   "source": [
    "edf.JOB_FUNCTION_PSA.sum()"
   ]
  },
  {
   "cell_type": "code",
   "execution_count": 49,
   "metadata": {
    "collapsed": false
   },
   "outputs": [
    {
     "data": {
      "text/plain": [
       "Timestamp('2015-01-01 00:00:00')"
      ]
     },
     "execution_count": 49,
     "metadata": {},
     "output_type": "execute_result"
    }
   ],
   "source": [
    "pd.to_datetime(dt.datetime(2015,1,1))"
   ]
  },
  {
   "cell_type": "code",
   "execution_count": 46,
   "metadata": {
    "collapsed": false
   },
   "outputs": [
    {
     "name": "stdout",
     "output_type": "stream",
     "text": [
      "2016-03-07 13:10:50.323000\n"
     ]
    }
   ],
   "source": [
    "today_timestamp = pd.to_datetime(dt.datetime.today())\n",
    "print(today_timestamp)"
   ]
  },
  {
   "cell_type": "code",
   "execution_count": 90,
   "metadata": {
    "collapsed": true
   },
   "outputs": [],
   "source": [
    "col_to_omit = ['JOBB']"
   ]
  },
  {
   "cell_type": "code",
   "execution_count": 92,
   "metadata": {
    "collapsed": false
   },
   "outputs": [
    {
     "data": {
      "text/plain": [
       "['REH_CNT',\n",
       " 'REMOTE',\n",
       " 'MERIT1',\n",
       " 'Age_years',\n",
       " 'EXTFUNC_CNT',\n",
       " 'PERF1',\n",
       " 'FUNC_CNT',\n",
       " 'SEX',\n",
       " 'HAVE_DEP',\n",
       " 'DIRECT_RPT_CNT',\n",
       " 'HAVE_INS',\n",
       " 'HUBIND',\n",
       " 'DEPTCNT1',\n",
       " 'JOB_FUNCTION_PSA',\n",
       " 'Tenure_years',\n",
       " 'BOX1',\n",
       " 'SAL1']"
      ]
     },
     "execution_count": 92,
     "metadata": {},
     "output_type": "execute_result"
    }
   ],
   "source": [
    "sep_cols = list(set(sep_cols)-set(col_to_omit))\n",
    "sep_cols"
   ]
  },
  {
   "cell_type": "code",
   "execution_count": 87,
   "metadata": {
    "collapsed": false
   },
   "outputs": [
    {
     "ename": "SyntaxError",
     "evalue": "invalid syntax (<ipython-input-87-a864721378f6>, line 5)",
     "output_type": "error",
     "traceback": [
      "\u001b[1;36m  File \u001b[1;32m\"<ipython-input-87-a864721378f6>\"\u001b[1;36m, line \u001b[1;32m5\u001b[0m\n\u001b[1;33m    \u001b[0m\n\u001b[1;37m    ^\u001b[0m\n\u001b[1;31mSyntaxError\u001b[0m\u001b[1;31m:\u001b[0m invalid syntax\n"
     ]
    }
   ],
   "source": [
    "try: \n",
    "    sep_cols.remove(m_col)\n",
    "#except ValueError:\n",
    "#    pass\n",
    "\n"
   ]
  },
  {
   "cell_type": "code",
   "execution_count": 85,
   "metadata": {
    "collapsed": false
   },
   "outputs": [
    {
     "ename": "IndentationError",
     "evalue": "unexpected unindent (<ipython-input-85-cfe69ffab4b9>, line 4)",
     "output_type": "error",
     "traceback": [
      "\u001b[1;36m  File \u001b[1;32m\"<ipython-input-85-cfe69ffab4b9>\"\u001b[1;36m, line \u001b[1;32m4\u001b[0m\n\u001b[1;33m    sep_cols.remove(m_col)\u001b[0m\n\u001b[1;37m                                  ^\u001b[0m\n\u001b[1;31mIndentationError\u001b[0m\u001b[1;31m:\u001b[0m unexpected unindent\n"
     ]
    }
   ],
   "source": [
    "if len(m_col):\n",
    "    sep_cols.remove(m_col)\n",
    "    try:\n",
    "        sep_cols.remove(m_col)        "
   ]
  },
  {
   "cell_type": "code",
   "execution_count": 86,
   "metadata": {
    "collapsed": false
   },
   "outputs": [
    {
     "ename": "IndentationError",
     "evalue": "unexpected unindent (<ipython-input-86-335051e0d745>, line 4)",
     "output_type": "error",
     "traceback": [
      "\u001b[1;36m  File \u001b[1;32m\"<ipython-input-86-335051e0d745>\"\u001b[1;36m, line \u001b[1;32m4\u001b[0m\n\u001b[1;33m    sep_cols.remove(m_col)\u001b[0m\n\u001b[1;37m                          ^\u001b[0m\n\u001b[1;31mIndentationError\u001b[0m\u001b[1;31m:\u001b[0m unexpected unindent\n"
     ]
    }
   ],
   "source": [
    "if len(m_col):\n",
    "    sep_cols.remove(m_col)\n",
    "    try:\n",
    "        sep_cols.remove(m_col)"
   ]
  },
  {
   "cell_type": "code",
   "execution_count": 93,
   "metadata": {
    "collapsed": false
   },
   "outputs": [
    {
     "data": {
      "text/plain": [
       "REH_CNT             False\n",
       "REMOTE              False\n",
       "MERIT1              False\n",
       "Age_years           False\n",
       "EXTFUNC_CNT         False\n",
       "PERF1               False\n",
       "FUNC_CNT            False\n",
       "SEX                 False\n",
       "HAVE_DEP            False\n",
       "DIRECT_RPT_CNT      False\n",
       "HAVE_INS            False\n",
       "HUBIND              False\n",
       "DEPTCNT1            False\n",
       "JOB_FUNCTION_PSA    False\n",
       "Tenure_years        False\n",
       "BOX1                 True\n",
       "SAL1                False\n",
       "dtype: bool"
      ]
     },
     "execution_count": 93,
     "metadata": {},
     "output_type": "execute_result"
    }
   ],
   "source": [
    "sdf = edf[sep_cols].copy()\n",
    "sdf.isnull().any()"
   ]
  },
  {
   "cell_type": "code",
   "execution_count": 119,
   "metadata": {
    "collapsed": false,
    "scrolled": true
   },
   "outputs": [
    {
     "name": "stdout",
     "output_type": "stream",
     "text": [
      "REH_CNT 0 i\n",
      "REMOTE 0 O\n",
      "MERIT1 0 f\n",
      "Age_years 0 f\n",
      "EXTFUNC_CNT 0 i\n",
      "PERF1 0 f\n",
      "FUNC_CNT 0 i\n",
      "SEX 0 O\n",
      "HAVE_DEP 0 O\n",
      "DIRECT_RPT_CNT 0 i\n",
      "HAVE_INS 0 O\n",
      "HUBIND 0 O\n",
      "DEPTCNT1 0 i\n",
      "JOB_FUNCTION_PSA 0 i\n",
      "Tenure_years 0 f\n",
      "BOX1 1 O\n",
      "SAL1 0 f\n",
      "['REMOTE', 'SEX', 'HAVE_DEP', 'HAVE_INS', 'HUBIND', 'BOX1']\n"
     ]
    }
   ],
   "source": [
    "column_type = {}\n",
    "cols_to_convert =[]\n",
    "for c in sdf.columns.tolist():\n",
    "    my_dtype = sdf[c].dtype.kind\n",
    "    print(c,sum(sdf[c].isnull()),my_dtype)\n",
    "    column_type[c]=my_dtype\n",
    "    if my_dtype not in 'biufc':\n",
    "        cols_to_convert.append(c)\n",
    "print(cols_to_convert)"
   ]
  },
  {
   "cell_type": "code",
   "execution_count": 126,
   "metadata": {
    "collapsed": false
   },
   "outputs": [
    {
     "data": {
      "text/plain": [
       "Index([u'REMOTE', u'SEX', u'HAVE_DEP', u'HAVE_INS', u'HUBIND', u'BOX1'], dtype='object')"
      ]
     },
     "execution_count": 126,
     "metadata": {},
     "output_type": "execute_result"
    }
   ],
   "source": [
    "\n",
    "sdf[cols_to_convert].isnull().any().index"
   ]
  },
  {
   "cell_type": "code",
   "execution_count": 120,
   "metadata": {
    "collapsed": false
   },
   "outputs": [
    {
     "data": {
      "text/html": [
       "<div>\n",
       "<table border=\"1\" class=\"dataframe\">\n",
       "  <thead>\n",
       "    <tr style=\"text-align: right;\">\n",
       "      <th></th>\n",
       "      <th>REMOTE</th>\n",
       "      <th>SEX</th>\n",
       "      <th>HAVE_DEP</th>\n",
       "      <th>HAVE_INS</th>\n",
       "      <th>HUBIND</th>\n",
       "      <th>BOX1</th>\n",
       "    </tr>\n",
       "  </thead>\n",
       "  <tbody>\n",
       "    <tr>\n",
       "      <th>0</th>\n",
       "      <td>N</td>\n",
       "      <td>M</td>\n",
       "      <td>N</td>\n",
       "      <td>Y</td>\n",
       "      <td>N</td>\n",
       "      <td>S</td>\n",
       "    </tr>\n",
       "    <tr>\n",
       "      <th>1</th>\n",
       "      <td>Y</td>\n",
       "      <td>F</td>\n",
       "      <td>Y</td>\n",
       "      <td>Y</td>\n",
       "      <td>Y</td>\n",
       "      <td>H</td>\n",
       "    </tr>\n",
       "    <tr>\n",
       "      <th>2</th>\n",
       "      <td>N</td>\n",
       "      <td>F</td>\n",
       "      <td>Y</td>\n",
       "      <td>Y</td>\n",
       "      <td>N</td>\n",
       "      <td>S</td>\n",
       "    </tr>\n",
       "    <tr>\n",
       "      <th>3</th>\n",
       "      <td>N</td>\n",
       "      <td>F</td>\n",
       "      <td>Y</td>\n",
       "      <td>Y</td>\n",
       "      <td>Y</td>\n",
       "      <td>H</td>\n",
       "    </tr>\n",
       "    <tr>\n",
       "      <th>4</th>\n",
       "      <td>N</td>\n",
       "      <td>M</td>\n",
       "      <td>N</td>\n",
       "      <td>Y</td>\n",
       "      <td>Y</td>\n",
       "      <td>S</td>\n",
       "    </tr>\n",
       "  </tbody>\n",
       "</table>\n",
       "</div>"
      ],
      "text/plain": [
       "  REMOTE SEX HAVE_DEP HAVE_INS HUBIND BOX1\n",
       "0      N   M        N        Y      N    S\n",
       "1      Y   F        Y        Y      Y    H\n",
       "2      N   F        Y        Y      N    S\n",
       "3      N   F        Y        Y      Y    H\n",
       "4      N   M        N        Y      Y    S"
      ]
     },
     "execution_count": 120,
     "metadata": {},
     "output_type": "execute_result"
    }
   ],
   "source": [
    "edf[cols_to_convert].head()"
   ]
  },
  {
   "cell_type": "code",
   "execution_count": 127,
   "metadata": {
    "collapsed": false
   },
   "outputs": [
    {
     "data": {
      "text/plain": [
       "['REMOTE', 'SEX', 'HAVE_DEP', 'HAVE_INS', 'HUBIND', 'BOX1']"
      ]
     },
     "execution_count": 127,
     "metadata": {},
     "output_type": "execute_result"
    }
   ],
   "source": [
    "sdf.columns[sdf[sep_cols].dtypes==\"object\"].tolist()"
   ]
  },
  {
   "cell_type": "code",
   "execution_count": 128,
   "metadata": {
    "collapsed": false
   },
   "outputs": [
    {
     "data": {
      "text/plain": [
       "['BOX1']"
      ]
     },
     "execution_count": 128,
     "metadata": {},
     "output_type": "execute_result"
    }
   ],
   "source": [
    "mask = np.array(sdf[cols_to_convert].count()<len(sdf))\n",
    "list(np.array(cols_to_convert)[mask])"
   ]
  },
  {
   "cell_type": "code",
   "execution_count": 129,
   "metadata": {
    "collapsed": false
   },
   "outputs": [
    {
     "data": {
      "text/plain": [
       "REH_CNT             False\n",
       "REMOTE              False\n",
       "MERIT1              False\n",
       "Age_years           False\n",
       "EXTFUNC_CNT         False\n",
       "PERF1               False\n",
       "FUNC_CNT            False\n",
       "SEX                 False\n",
       "HAVE_DEP            False\n",
       "DIRECT_RPT_CNT      False\n",
       "HAVE_INS            False\n",
       "HUBIND              False\n",
       "DEPTCNT1            False\n",
       "JOB_FUNCTION_PSA    False\n",
       "Tenure_years        False\n",
       "BOX1                False\n",
       "SAL1                False\n",
       "dtype: bool"
      ]
     },
     "execution_count": 129,
     "metadata": {},
     "output_type": "execute_result"
    }
   ],
   "source": [
    "nn_missing_cols = list(np.array(cols_to_convert)[mask])\n",
    "for col in nn_missing_cols:\n",
    "    sdf[col].fillna(-1,inplace=True)\n",
    "    \n",
    "sdf.isnull().any()"
   ]
  },
  {
   "cell_type": "code",
   "execution_count": 144,
   "metadata": {
    "collapsed": false
   },
   "outputs": [
    {
     "data": {
      "text/html": [
       "<div>\n",
       "<table border=\"1\" class=\"dataframe\">\n",
       "  <thead>\n",
       "    <tr style=\"text-align: right;\">\n",
       "      <th></th>\n",
       "      <th>mine</th>\n",
       "      <th>yours</th>\n",
       "      <th>ours</th>\n",
       "      <th>theirs</th>\n",
       "    </tr>\n",
       "  </thead>\n",
       "  <tbody>\n",
       "    <tr>\n",
       "      <th>0</th>\n",
       "      <td>-1</td>\n",
       "      <td>NaN</td>\n",
       "      <td>3</td>\n",
       "      <td>11</td>\n",
       "    </tr>\n",
       "    <tr>\n",
       "      <th>1</th>\n",
       "      <td>11</td>\n",
       "      <td>2.0</td>\n",
       "      <td>5</td>\n",
       "      <td>13</td>\n",
       "    </tr>\n",
       "    <tr>\n",
       "      <th>2</th>\n",
       "      <td>4</td>\n",
       "      <td>3.5</td>\n",
       "      <td>NaN</td>\n",
       "      <td>4</td>\n",
       "    </tr>\n",
       "  </tbody>\n",
       "</table>\n",
       "</div>"
      ],
      "text/plain": [
       "   mine  yours  ours  theirs\n",
       "0    -1    NaN     3      11\n",
       "1    11    2.0     5      13\n",
       "2     4    3.5   NaN       4"
      ]
     },
     "execution_count": 144,
     "metadata": {},
     "output_type": "execute_result"
    }
   ],
   "source": [
    "tdata = pd.DataFrame(data = [[-1,np.nan, 3, 11],[11,2, 5, 13],[4,3.5,np.nan,4]],columns=['mine','yours','ours','theirs'])\n",
    "tdata"
   ]
  },
  {
   "cell_type": "code",
   "execution_count": 145,
   "metadata": {
    "collapsed": false
   },
   "outputs": [
    {
     "data": {
      "text/plain": [
       "['yours', 'ours']"
      ]
     },
     "execution_count": 145,
     "metadata": {},
     "output_type": "execute_result"
    }
   ],
   "source": [
    "n_mask = np.array(tdata.count() < len(tdata))\n",
    "n_missing_cols = list(np.array(tdata.columns.tolist())[n_mask])\n",
    "n_missing_cols"
   ]
  },
  {
   "cell_type": "code",
   "execution_count": 146,
   "metadata": {
    "collapsed": false
   },
   "outputs": [
    {
     "name": "stdout",
     "output_type": "stream",
     "text": [
      "yours 2.0\n",
      "ours 3.0\n"
     ]
    }
   ],
   "source": [
    "for c in n_missing_cols:\n",
    "    min_val = tdata[c].min()\n",
    "    print(c,min_val)"
   ]
  },
  {
   "cell_type": "code",
   "execution_count": 136,
   "metadata": {
    "collapsed": false
   },
   "outputs": [
    {
     "data": {
      "text/plain": [
       "-1"
      ]
     },
     "execution_count": 136,
     "metadata": {},
     "output_type": "execute_result"
    }
   ],
   "source": [
    "sdf.BOX1.min()"
   ]
  },
  {
   "cell_type": "code",
   "execution_count": 130,
   "metadata": {
    "collapsed": false
   },
   "outputs": [
    {
     "data": {
      "text/plain": [
       "['REMOTE', 'SEX', 'HAVE_DEP', 'HAVE_INS', 'HUBIND', 'BOX1']"
      ]
     },
     "execution_count": 130,
     "metadata": {},
     "output_type": "execute_result"
    }
   ],
   "source": [
    "cols_to_convert"
   ]
  },
  {
   "cell_type": "code",
   "execution_count": 132,
   "metadata": {
    "collapsed": false
   },
   "outputs": [
    {
     "data": {
      "text/plain": [
       "[('REMOTE', 2),\n",
       " ('SEX', 2),\n",
       " ('HAVE_DEP', 2),\n",
       " ('HAVE_INS', 1),\n",
       " ('HUBIND', 2),\n",
       " ('BOX1', 3)]"
      ]
     },
     "execution_count": 132,
     "metadata": {},
     "output_type": "execute_result"
    }
   ],
   "source": [
    "[(col,sdf[col].nunique()) for col in cols_to_convert]"
   ]
  },
  {
   "cell_type": "code",
   "execution_count": 138,
   "metadata": {
    "collapsed": false
   },
   "outputs": [],
   "source": [
    "indicator_dict = {'INTERN': {'N':0,'Y':1},\n",
    "                  'REMOTE': {'N':0,'Y':1}, 'FULLPART1': {'N':0,'Y':1},\n",
    "                 'RELOCATE_ALL_SFI' : {'N':0,'Y':1},\n",
    "                'HUBIND':{'N':0,'Y':1},'SUPV_DIFF_LOC':{'N':0,'Y':1},\n",
    "     'HAVE_DEP': {'N':0,'Y':1},'HAVE_INS':{'N':0,'Y':1},'PARTFULL1':{'N':0,'Y':1},\n",
    "    'REMOTE_SUPV':{'N':0,'Y':1}, 'COMP_FREQUENCY': {'A':1,'H':0}, \n",
    "                  'SEX': {'M':1,'F':0},'BOX1':{'H':3,'S':2,'L':1},'SHIFT':{'N':0,'1':1,'2':2,'3':3}}\n",
    "for key,value in indicator_dict.iteritems():\n",
    "    if key in cols_to_convert:\n",
    "        sdf[key].replace(value,inplace=True)"
   ]
  },
  {
   "cell_type": "code",
   "execution_count": null,
   "metadata": {
    "collapsed": true
   },
   "outputs": [],
   "source": []
  },
  {
   "cell_type": "code",
   "execution_count": 139,
   "metadata": {
    "collapsed": false
   },
   "outputs": [],
   "source": [
    "sdf[cols_to_convert].replace({'N':0},{'Y':1}, inplace=True)"
   ]
  },
  {
   "cell_type": "code",
   "execution_count": 140,
   "metadata": {
    "collapsed": false
   },
   "outputs": [
    {
     "data": {
      "text/plain": [
       "1    10\n",
       "Name: HAVE_INS, dtype: int64"
      ]
     },
     "execution_count": 140,
     "metadata": {},
     "output_type": "execute_result"
    }
   ],
   "source": [
    "sdf.HAVE_INS.value_counts()"
   ]
  },
  {
   "cell_type": "markdown",
   "metadata": {},
   "source": [
    "## check that all are now numeric"
   ]
  },
  {
   "cell_type": "code",
   "execution_count": 143,
   "metadata": {
    "collapsed": false
   },
   "outputs": [],
   "source": [
    "if (sdf.dtypes[sdf.dtypes.apply(lambda x: str(x).startswith((\"float\", \"int\", \"bool\")))].index.tolist() != sep_cols):\n",
    "    print(\"ERROR\")\n"
   ]
  },
  {
   "cell_type": "code",
   "execution_count": 190,
   "metadata": {
    "collapsed": false
   },
   "outputs": [],
   "source": [
    "def prep_data(df, sep_cols, ret_cols, today_timestamp):\n",
    "    \"\"\"\n",
    "\n",
    "    :param df:\n",
    "    :param cols_to_keep:\n",
    "    :param today_timestamp:\n",
    "    :return: tmp_df, sep_cols, ret_cols\n",
    "    \"\"\"\n",
    "    # identify columns that need processing\n",
    "    input_cols = df.columns.tolist()\n",
    "\n",
    "    cols_to_model = list(set(sep_cols).union(set(ret_cols)))\n",
    "    cols_to_construct = list(set(cols_to_model)-set(input_cols))\n",
    "    cols_to_keep = list(set(cols_to_model).union(set(input_cols)))\n",
    "\n",
    "\n",
    "\n",
    "    # assume the time column(s) are in years\n",
    "    time_cols = [col for col in cols_to_construct if col.endswith('years')]\n",
    "    if len(time_cols): # if length is zero this is skipped\n",
    "        # 1. calculate Age and tenure from dates provided:\n",
    "        #    * convert  HIRE_DT, BIRTHDATE and current_time to timestamps\n",
    "        # 2. use these as years\n",
    "        df[['hire_tstmp','birth_tstmp']] = df[['HIRE_DT','BIRTHDATE']]\\\n",
    "            .applymap(lambda x: pd.to_datetime(dt.datetime.strptime(x,'%d%b%Y')))\n",
    "        df[['Age_years','Tenure_years']] = df[['birth_tstmp','hire_tstmp']]\\\n",
    "            .applymap(lambda x: calculate_years(x, today_timestamp))\n",
    "        #hire_age_tdelta = employee_df['hire_tstmp']-employee_df['birth_tstmp']\n",
    "        # convert to days, months, or years\n",
    "        #employee_df['hire_age'] = hire_age_tdelta/np.timedelta64(1,'Y')\n",
    "        for tcol in time_cols:\n",
    "            cols_to_construct.remove(tcol)\n",
    "            cols_to_keep.append(tcol)\n",
    "\n",
    "    #tmp_df = df[cols_to_keep].copy() # just copy over the ones we know we want\n",
    "\n",
    "    col_to_omit = []\n",
    "\n",
    "    for col in cols_to_construct:\n",
    "        # break into pieces to find the existing col in the dataframe\n",
    "        pieces = col.split('_')\n",
    "        dummy_cat = pieces[-1]\n",
    "        main_cat = \"_\".join(piece for piece in pieces[:-1])\n",
    "        #print(main_cat, dummy_cat)\n",
    "        try:\n",
    "            tmp_df[col] = tmp_df[main_cat].apply(lambda x: 1 if x == dummy_cat else 0)\n",
    "        except KeyError:\n",
    "            print(\"Desired column {0} not found; omitting it\".format(col))\n",
    "            col_to_omit.append(col)\n",
    "\n",
    "    ## now I need to get my subset of columns for the particular model -- start with separation\n",
    "    #if len(col_to_omit):\n",
    "    sep_cols = list(set(sep_cols)-set(col_to_omit))\n",
    "    ret_cols = list(set(ret_cols)-set(col_to_omit))\n",
    "\n",
    "    new_cols_to_model = list(set(sep_cols).union(set(ret_cols)))\n",
    "\n",
    "    tmp_df = df[new_cols_to_model].copy() # create a subset of these columns\n",
    "    #print(tmp_df.shape)\n",
    "    ## now ensure that all are preprocessed correctly\n",
    "    # Step 1 -- convert non numeric to numbers\n",
    "    cols_to_convert = tmp_df.columns[tmp_df[new_cols_to_model].dtypes == \"object\"].tolist()\n",
    "\n",
    "    #print(sep_cols, ret_cols,cols_to_convert)\n",
    "    ## find non-numeric columns with missing values\n",
    "    nn_mask = np.array(tmp_df[cols_to_convert].count() < len(tmp_df))\n",
    "    nn_missing_cols = list(np.array(cols_to_convert)[nn_mask])\n",
    "\n",
    "    #print(nn_missing_cols)\n",
    "    \n",
    "    for col in nn_missing_cols:\n",
    "        if col == 'BOX1':\n",
    "            tmp_df[col].fillna(0, inplace=True) # currently being applied to BOX1\n",
    "        else:\n",
    "            tmp_df[col].fillna(-1, inplace=True) # need to check how I did it in the model build stage\n",
    "    \n",
    "    ## convert these to ints\n",
    "    # use simple logic:\n",
    "    # a) N:0,Y:1\n",
    "    # b) M:1, F:0\n",
    "    # c) BOX1: BOX1':{'H':3,'S':2,'L':1},\n",
    "    # d) COMP_FREQUENCY: 'A':1,'H':0\n",
    "    specific_indicators = {'BOX1': {'H': 3, 'S': 2, 'L': 1}, 'COMP_FREQUENCY': {'A': 1, 'H': 0},\n",
    "                           'SEX': {'M': 1, 'F': 0}}\n",
    "    for key, value in specific_indicators.iteritems():\n",
    "        if key in cols_to_convert:\n",
    "            #print(\"processing column {0} with {1}\".format(key,value))\n",
    "            tmp_df[key].replace(value,inplace=True)#.copy()\n",
    "    # generically convert N to 0 and Y to 1\n",
    "    tmp_df[cols_to_convert]=tmp_df[cols_to_convert].replace({'N': 0, 'Y': 1}).copy()\n",
    "\n",
    "    converted_types = tmp_df.dtypes[tmp_df.dtypes.apply(lambda x: str(x).startswith(('float','int','bool')))].index.tolist()\n",
    "    ## check that all are now numeric\n",
    "    if set(converted_types)!=set(new_cols_to_model):\n",
    "        print(\"ERROR you have not converted everthing\")\n",
    "        #exit(-1)\n",
    "\n",
    "    ## look for missing/outliers\n",
    "    n_mask = np.array(tmp_df.count() < len(tmp_df))\n",
    "    n_missing_cols = list(np.array(new_cols_to_model)[n_mask])\n",
    "    tmp_df[n_missing_cols].fillna(0,inplace=True)\n",
    "    ## apply specific transformations to match 2 percentile cutoff from training set\n",
    "    # fix the dollar amounts\n",
    "    #min_sal1 = 17621.76 #(based upon training set I have: 5 %tile cut off)\n",
    "    min_sal1 = 12906.40 # based upon 2 percentile\n",
    "    min_perf1 = 0.0\n",
    "    min_merit1 = 0.0\n",
    "    fix_min_outlier_col_dict = {'SAL1': min_sal1, 'MERIT1': min_merit1, 'PERF1': min_perf1}\n",
    "\n",
    "    # replace these values\n",
    "    for key, value in fix_min_outlier_col_dict.iteritems():\n",
    "        if key in new_cols_to_model:\n",
    "            idx_to_replace = tmp_df[tmp_df[key] < value].index\n",
    "            tmp_df.loc[idx_to_replace, key] = value\n",
    "\n",
    "    return tmp_df, sep_cols, ret_cols"
   ]
  },
  {
   "cell_type": "code",
   "execution_count": 182,
   "metadata": {
    "collapsed": false
   },
   "outputs": [],
   "source": [
    "cols_to_model = list(set(sep_cols).union(set(ret_cols)))\n",
    "#tdf, scols, rcols = prep_data(edf, sep_cols, ret_cols, today_timestamp)"
   ]
  },
  {
   "cell_type": "code",
   "execution_count": 192,
   "metadata": {
    "collapsed": false
   },
   "outputs": [],
   "source": [
    "tdf, scols, rcols = prep_data(edf, sep_cols, ret_cols, today_timestamp)"
   ]
  },
  {
   "cell_type": "code",
   "execution_count": 193,
   "metadata": {
    "collapsed": false
   },
   "outputs": [
    {
     "data": {
      "text/html": [
       "<div>\n",
       "<table border=\"1\" class=\"dataframe\">\n",
       "  <thead>\n",
       "    <tr style=\"text-align: right;\">\n",
       "      <th></th>\n",
       "      <th>REH_CNT</th>\n",
       "      <th>MERIT1</th>\n",
       "      <th>HAVE_INS</th>\n",
       "      <th>PERF1</th>\n",
       "      <th>SAL1</th>\n",
       "      <th>Tenure_years</th>\n",
       "      <th>REMOTE</th>\n",
       "      <th>Age_years</th>\n",
       "      <th>EXTFUNC_CNT</th>\n",
       "      <th>FUNC_CNT</th>\n",
       "      <th>SEX</th>\n",
       "      <th>HAVE_DEP</th>\n",
       "      <th>DIRECT_RPT_CNT</th>\n",
       "      <th>HUBIND</th>\n",
       "      <th>DEPTCNT1</th>\n",
       "      <th>JOB_FUNCTION_PSA</th>\n",
       "      <th>BOX1</th>\n",
       "    </tr>\n",
       "  </thead>\n",
       "  <tbody>\n",
       "    <tr>\n",
       "      <th>0</th>\n",
       "      <td>0</td>\n",
       "      <td>1186.40</td>\n",
       "      <td>1</td>\n",
       "      <td>2904.63</td>\n",
       "      <td>51324.29</td>\n",
       "      <td>37.623546</td>\n",
       "      <td>0</td>\n",
       "      <td>62.614648</td>\n",
       "      <td>116</td>\n",
       "      <td>1100</td>\n",
       "      <td>1</td>\n",
       "      <td>0</td>\n",
       "      <td>9</td>\n",
       "      <td>0</td>\n",
       "      <td>1</td>\n",
       "      <td>1</td>\n",
       "      <td>2</td>\n",
       "    </tr>\n",
       "    <tr>\n",
       "      <th>1</th>\n",
       "      <td>0</td>\n",
       "      <td>0.00</td>\n",
       "      <td>1</td>\n",
       "      <td>4080.65</td>\n",
       "      <td>57974.00</td>\n",
       "      <td>39.791923</td>\n",
       "      <td>1</td>\n",
       "      <td>53.596167</td>\n",
       "      <td>116</td>\n",
       "      <td>1100</td>\n",
       "      <td>0</td>\n",
       "      <td>1</td>\n",
       "      <td>9</td>\n",
       "      <td>1</td>\n",
       "      <td>1</td>\n",
       "      <td>1</td>\n",
       "      <td>3</td>\n",
       "    </tr>\n",
       "    <tr>\n",
       "      <th>2</th>\n",
       "      <td>0</td>\n",
       "      <td>1575.46</td>\n",
       "      <td>1</td>\n",
       "      <td>1925.56</td>\n",
       "      <td>51489.96</td>\n",
       "      <td>22.710472</td>\n",
       "      <td>0</td>\n",
       "      <td>61.284052</td>\n",
       "      <td>116</td>\n",
       "      <td>1100</td>\n",
       "      <td>0</td>\n",
       "      <td>1</td>\n",
       "      <td>9</td>\n",
       "      <td>0</td>\n",
       "      <td>0</td>\n",
       "      <td>1</td>\n",
       "      <td>2</td>\n",
       "    </tr>\n",
       "    <tr>\n",
       "      <th>3</th>\n",
       "      <td>0</td>\n",
       "      <td>1325.57</td>\n",
       "      <td>1</td>\n",
       "      <td>3245.35</td>\n",
       "      <td>47534.76</td>\n",
       "      <td>28.980151</td>\n",
       "      <td>0</td>\n",
       "      <td>49.798768</td>\n",
       "      <td>272</td>\n",
       "      <td>2670</td>\n",
       "      <td>0</td>\n",
       "      <td>1</td>\n",
       "      <td>7</td>\n",
       "      <td>1</td>\n",
       "      <td>0</td>\n",
       "      <td>1</td>\n",
       "      <td>3</td>\n",
       "    </tr>\n",
       "    <tr>\n",
       "      <th>4</th>\n",
       "      <td>1</td>\n",
       "      <td>3240.00</td>\n",
       "      <td>1</td>\n",
       "      <td>2160.00</td>\n",
       "      <td>84240.00</td>\n",
       "      <td>17.325120</td>\n",
       "      <td>0</td>\n",
       "      <td>43.887748</td>\n",
       "      <td>337</td>\n",
       "      <td>337</td>\n",
       "      <td>1</td>\n",
       "      <td>0</td>\n",
       "      <td>8</td>\n",
       "      <td>1</td>\n",
       "      <td>1</td>\n",
       "      <td>0</td>\n",
       "      <td>2</td>\n",
       "    </tr>\n",
       "  </tbody>\n",
       "</table>\n",
       "</div>"
      ],
      "text/plain": [
       "   REH_CNT   MERIT1  HAVE_INS    PERF1      SAL1  Tenure_years  REMOTE  \\\n",
       "0        0  1186.40         1  2904.63  51324.29     37.623546       0   \n",
       "1        0     0.00         1  4080.65  57974.00     39.791923       1   \n",
       "2        0  1575.46         1  1925.56  51489.96     22.710472       0   \n",
       "3        0  1325.57         1  3245.35  47534.76     28.980151       0   \n",
       "4        1  3240.00         1  2160.00  84240.00     17.325120       0   \n",
       "\n",
       "   Age_years  EXTFUNC_CNT  FUNC_CNT  SEX  HAVE_DEP  DIRECT_RPT_CNT  HUBIND  \\\n",
       "0  62.614648          116      1100    1         0               9       0   \n",
       "1  53.596167          116      1100    0         1               9       1   \n",
       "2  61.284052          116      1100    0         1               9       0   \n",
       "3  49.798768          272      2670    0         1               7       1   \n",
       "4  43.887748          337       337    1         0               8       1   \n",
       "\n",
       "   DEPTCNT1  JOB_FUNCTION_PSA  BOX1  \n",
       "0         1                 1     2  \n",
       "1         1                 1     3  \n",
       "2         0                 1     2  \n",
       "3         0                 1     3  \n",
       "4         1                 0     2  "
      ]
     },
     "execution_count": 193,
     "metadata": {},
     "output_type": "execute_result"
    }
   ],
   "source": [
    "tdf.head()"
   ]
  },
  {
   "cell_type": "code",
   "execution_count": 194,
   "metadata": {
    "collapsed": true
   },
   "outputs": [],
   "source": [
    "## Forecast forward in 1 year intervals\n",
    "def identify_forecast_timepoints(mdl, X, time_range):\n",
    "    \"\"\"\n",
    "        :param X: a (n,d) covariate numpy array or DataFrame. If a numpy array, it is coerced into a DataFrame\n",
    "        :param time_range: a list of times to calculate the survival for.\n",
    "        :return: time_point_df a DataFrame of selected future times to create survival forecasts for.\n",
    "\n",
    "        Construct a data frame that has the current time_col for each observation incremented by the values in the\n",
    "        desired list (time_range)\n",
    "    \"\"\"\n",
    "    time_col = mdl.durations.name\n",
    "    column_names = ['time_point_'+np.str(tp) for tp in time_range]\n",
    "    if isinstance(X, pd.DataFrame):\n",
    "        my_index = X.index.tolist()\n",
    "    else:\n",
    "        my_index = np.arange(0, len(X))\n",
    "        X = pd.DataFrame(X, columns=mdl.hazards_.columns)\n",
    "\n",
    "    time_point_df = pd.DataFrame(columns=column_names, index=my_index)\n",
    "    for idx in my_index:\n",
    "        my_times = np.array([X.loc[idx, time_col]+tp for tp in time_range])\n",
    "        time_point_df.ix[idx] = my_times\n",
    "\n",
    "    return time_point_df"
   ]
  },
  {
   "cell_type": "code",
   "execution_count": 195,
   "metadata": {
    "collapsed": true
   },
   "outputs": [],
   "source": [
    "from scipy import interpolate\n",
    "def return_desired_cumulative_hazards(t,mdl):\n",
    "    \"\"\"\n",
    "    t: an event time that is used as the base line to forecast forward in time\n",
    "    \"\"\"\n",
    "    maxtimepoint = mdl.baseline_hazard_.index.max() #Now taken care of in the forecast\n",
    "    if t > maxtimepoint:\n",
    "        t = maxtimepoint # just set to the max value.\n",
    "    try:\n",
    "        # spec_hazard = self.baseline_hazard_.ix[t].values\n",
    "        c_haz = mdl.baseline_cumulative_hazard_.ix[t].values[0]\n",
    "\n",
    "    except KeyError:\n",
    "        # get the first after this point\n",
    "        t_post = mdl.baseline_hazard_.ix[t:].index[0]\n",
    "        # get the last before this point\n",
    "        t_prior = mdl.baseline_hazard_.ix[:t].index[-1]\n",
    "        # x = [t_prior, t_post]\n",
    "        y = [mdl.baseline_cumulative_hazard_.ix[t_prior].values[0],\n",
    "             mdl.baseline_cumulative_hazard_.ix[t_post].values[0]]\n",
    "        # print(x, y)\n",
    "        chaz_interp = interpolate.interp1d([t_prior, t_post], y)\n",
    "        c_haz = chaz_interp(t)\n",
    "\n",
    "    return c_haz"
   ]
  },
  {
   "cell_type": "code",
   "execution_count": 196,
   "metadata": {
    "collapsed": true
   },
   "outputs": [],
   "source": [
    "from scipy.optimize import curve_fit\n",
    "\n",
    "def line(x, a, b):\n",
    "    return a*x+b\n"
   ]
  },
  {
   "cell_type": "code",
   "execution_count": null,
   "metadata": {
    "collapsed": true
   },
   "outputs": [],
   "source": [
    "sep_mdl._ha"
   ]
  },
  {
   "cell_type": "code",
   "execution_count": 201,
   "metadata": {
    "collapsed": false
   },
   "outputs": [
    {
     "data": {
      "text/plain": [
       "Int64Index([0, 1, 2, 3, 4, 5, 6, 7, 8, 9], dtype='int64')"
      ]
     },
     "execution_count": 201,
     "metadata": {},
     "output_type": "execute_result"
    }
   ],
   "source": [
    "tdf.index"
   ]
  },
  {
   "cell_type": "code",
   "execution_count": 208,
   "metadata": {
    "collapsed": true
   },
   "outputs": [],
   "source": [
    "import lifelines as ll\n"
   ]
  },
  {
   "cell_type": "code",
   "execution_count": 442,
   "metadata": {
    "collapsed": false
   },
   "outputs": [
    {
     "data": {
      "text/plain": [
       "['Age_years',\n",
       " 'SAL1',\n",
       " 'MERIT1',\n",
       " 'PERF1',\n",
       " 'BOX1',\n",
       " 'SEX',\n",
       " 'HAVE_INS',\n",
       " 'HAVE_DEP',\n",
       " 'DEPTCNT1',\n",
       " 'EXTFUNC_CNT',\n",
       " 'FUNC_CNT',\n",
       " 'REMOTE',\n",
       " 'DIRECT_RPT_CNT',\n",
       " 'HUBIND',\n",
       " 'REH_CNT',\n",
       " 'JOB_FUNCTION_PSA',\n",
       " 'Tenure_years']"
      ]
     },
     "execution_count": 442,
     "metadata": {},
     "output_type": "execute_result"
    }
   ],
   "source": [
    "get_surv_columns(sep_mdl)"
   ]
  },
  {
   "cell_type": "code",
   "execution_count": 445,
   "metadata": {
    "collapsed": false
   },
   "outputs": [
    {
     "data": {
      "text/plain": [
       "Index([u'Age_years', u'SAL1', u'MERIT1', u'PERF1', u'BOX1', u'SEX',\n",
       "       u'HAVE_INS', u'HAVE_DEP', u'DEPTCNT1', u'EXTFUNC_CNT', u'FUNC_CNT',\n",
       "       u'REMOTE', u'DIRECT_RPT_CNT', u'HUBIND', u'REH_CNT',\n",
       "       u'JOB_FUNCTION_PSA'],\n",
       "      dtype='object')"
      ]
     },
     "execution_count": 445,
     "metadata": {},
     "output_type": "execute_result"
    }
   ],
   "source": [
    "sep_mdl.hazards_.columns"
   ]
  },
  {
   "cell_type": "code",
   "execution_count": 444,
   "metadata": {
    "collapsed": false
   },
   "outputs": [
    {
     "data": {
      "text/html": [
       "<div>\n",
       "<table border=\"1\" class=\"dataframe\">\n",
       "  <thead>\n",
       "    <tr style=\"text-align: right;\">\n",
       "      <th></th>\n",
       "      <th>Age_years</th>\n",
       "      <th>SAL1</th>\n",
       "      <th>MERIT1</th>\n",
       "      <th>PERF1</th>\n",
       "      <th>BOX1</th>\n",
       "      <th>SEX</th>\n",
       "      <th>HAVE_INS</th>\n",
       "      <th>HAVE_DEP</th>\n",
       "      <th>DEPTCNT1</th>\n",
       "      <th>EXTFUNC_CNT</th>\n",
       "      <th>FUNC_CNT</th>\n",
       "      <th>REMOTE</th>\n",
       "      <th>DIRECT_RPT_CNT</th>\n",
       "      <th>HUBIND</th>\n",
       "      <th>REH_CNT</th>\n",
       "      <th>JOB_FUNCTION_PSA</th>\n",
       "    </tr>\n",
       "  </thead>\n",
       "  <tbody>\n",
       "    <tr>\n",
       "      <th>0</th>\n",
       "      <td>62.614648</td>\n",
       "      <td>51324.29</td>\n",
       "      <td>1186.40</td>\n",
       "      <td>2904.63</td>\n",
       "      <td>2</td>\n",
       "      <td>1</td>\n",
       "      <td>1</td>\n",
       "      <td>0</td>\n",
       "      <td>1</td>\n",
       "      <td>116</td>\n",
       "      <td>1100</td>\n",
       "      <td>0</td>\n",
       "      <td>9</td>\n",
       "      <td>0</td>\n",
       "      <td>0</td>\n",
       "      <td>1</td>\n",
       "    </tr>\n",
       "    <tr>\n",
       "      <th>1</th>\n",
       "      <td>53.596167</td>\n",
       "      <td>57974.00</td>\n",
       "      <td>0.00</td>\n",
       "      <td>4080.65</td>\n",
       "      <td>3</td>\n",
       "      <td>0</td>\n",
       "      <td>1</td>\n",
       "      <td>1</td>\n",
       "      <td>1</td>\n",
       "      <td>116</td>\n",
       "      <td>1100</td>\n",
       "      <td>1</td>\n",
       "      <td>9</td>\n",
       "      <td>1</td>\n",
       "      <td>0</td>\n",
       "      <td>1</td>\n",
       "    </tr>\n",
       "    <tr>\n",
       "      <th>2</th>\n",
       "      <td>61.284052</td>\n",
       "      <td>51489.96</td>\n",
       "      <td>1575.46</td>\n",
       "      <td>1925.56</td>\n",
       "      <td>2</td>\n",
       "      <td>0</td>\n",
       "      <td>1</td>\n",
       "      <td>1</td>\n",
       "      <td>0</td>\n",
       "      <td>116</td>\n",
       "      <td>1100</td>\n",
       "      <td>0</td>\n",
       "      <td>9</td>\n",
       "      <td>0</td>\n",
       "      <td>0</td>\n",
       "      <td>1</td>\n",
       "    </tr>\n",
       "    <tr>\n",
       "      <th>3</th>\n",
       "      <td>49.798768</td>\n",
       "      <td>47534.76</td>\n",
       "      <td>1325.57</td>\n",
       "      <td>3245.35</td>\n",
       "      <td>3</td>\n",
       "      <td>0</td>\n",
       "      <td>1</td>\n",
       "      <td>1</td>\n",
       "      <td>0</td>\n",
       "      <td>272</td>\n",
       "      <td>2670</td>\n",
       "      <td>0</td>\n",
       "      <td>7</td>\n",
       "      <td>1</td>\n",
       "      <td>0</td>\n",
       "      <td>1</td>\n",
       "    </tr>\n",
       "    <tr>\n",
       "      <th>4</th>\n",
       "      <td>43.887748</td>\n",
       "      <td>84240.00</td>\n",
       "      <td>3240.00</td>\n",
       "      <td>2160.00</td>\n",
       "      <td>2</td>\n",
       "      <td>1</td>\n",
       "      <td>1</td>\n",
       "      <td>0</td>\n",
       "      <td>1</td>\n",
       "      <td>337</td>\n",
       "      <td>337</td>\n",
       "      <td>0</td>\n",
       "      <td>8</td>\n",
       "      <td>1</td>\n",
       "      <td>1</td>\n",
       "      <td>0</td>\n",
       "    </tr>\n",
       "    <tr>\n",
       "      <th>5</th>\n",
       "      <td>55.920602</td>\n",
       "      <td>57409.50</td>\n",
       "      <td>1015.10</td>\n",
       "      <td>2368.56</td>\n",
       "      <td>2</td>\n",
       "      <td>0</td>\n",
       "      <td>1</td>\n",
       "      <td>1</td>\n",
       "      <td>0</td>\n",
       "      <td>272</td>\n",
       "      <td>2670</td>\n",
       "      <td>0</td>\n",
       "      <td>16</td>\n",
       "      <td>0</td>\n",
       "      <td>0</td>\n",
       "      <td>0</td>\n",
       "    </tr>\n",
       "    <tr>\n",
       "      <th>6</th>\n",
       "      <td>54.373717</td>\n",
       "      <td>52224.79</td>\n",
       "      <td>893.17</td>\n",
       "      <td>2186.73</td>\n",
       "      <td>2</td>\n",
       "      <td>0</td>\n",
       "      <td>1</td>\n",
       "      <td>0</td>\n",
       "      <td>0</td>\n",
       "      <td>74</td>\n",
       "      <td>2670</td>\n",
       "      <td>0</td>\n",
       "      <td>8</td>\n",
       "      <td>1</td>\n",
       "      <td>0</td>\n",
       "      <td>1</td>\n",
       "    </tr>\n",
       "    <tr>\n",
       "      <th>7</th>\n",
       "      <td>60.492813</td>\n",
       "      <td>171000.00</td>\n",
       "      <td>0.00</td>\n",
       "      <td>0.00</td>\n",
       "      <td>3</td>\n",
       "      <td>0</td>\n",
       "      <td>1</td>\n",
       "      <td>1</td>\n",
       "      <td>0</td>\n",
       "      <td>508</td>\n",
       "      <td>3746</td>\n",
       "      <td>1</td>\n",
       "      <td>12</td>\n",
       "      <td>0</td>\n",
       "      <td>1</td>\n",
       "      <td>0</td>\n",
       "    </tr>\n",
       "    <tr>\n",
       "      <th>8</th>\n",
       "      <td>53.741273</td>\n",
       "      <td>141386.11</td>\n",
       "      <td>2791.88</td>\n",
       "      <td>0.00</td>\n",
       "      <td>2</td>\n",
       "      <td>1</td>\n",
       "      <td>1</td>\n",
       "      <td>1</td>\n",
       "      <td>0</td>\n",
       "      <td>68</td>\n",
       "      <td>3746</td>\n",
       "      <td>0</td>\n",
       "      <td>3</td>\n",
       "      <td>1</td>\n",
       "      <td>0</td>\n",
       "      <td>0</td>\n",
       "    </tr>\n",
       "    <tr>\n",
       "      <th>9</th>\n",
       "      <td>52.843258</td>\n",
       "      <td>60845.07</td>\n",
       "      <td>1961.68</td>\n",
       "      <td>2708.99</td>\n",
       "      <td>0</td>\n",
       "      <td>0</td>\n",
       "      <td>1</td>\n",
       "      <td>0</td>\n",
       "      <td>1</td>\n",
       "      <td>1340</td>\n",
       "      <td>34937</td>\n",
       "      <td>0</td>\n",
       "      <td>5</td>\n",
       "      <td>0</td>\n",
       "      <td>0</td>\n",
       "      <td>0</td>\n",
       "    </tr>\n",
       "  </tbody>\n",
       "</table>\n",
       "</div>"
      ],
      "text/plain": [
       "   Age_years       SAL1   MERIT1    PERF1  BOX1  SEX  HAVE_INS  HAVE_DEP  \\\n",
       "0  62.614648   51324.29  1186.40  2904.63     2    1         1         0   \n",
       "1  53.596167   57974.00     0.00  4080.65     3    0         1         1   \n",
       "2  61.284052   51489.96  1575.46  1925.56     2    0         1         1   \n",
       "3  49.798768   47534.76  1325.57  3245.35     3    0         1         1   \n",
       "4  43.887748   84240.00  3240.00  2160.00     2    1         1         0   \n",
       "5  55.920602   57409.50  1015.10  2368.56     2    0         1         1   \n",
       "6  54.373717   52224.79   893.17  2186.73     2    0         1         0   \n",
       "7  60.492813  171000.00     0.00     0.00     3    0         1         1   \n",
       "8  53.741273  141386.11  2791.88     0.00     2    1         1         1   \n",
       "9  52.843258   60845.07  1961.68  2708.99     0    0         1         0   \n",
       "\n",
       "   DEPTCNT1  EXTFUNC_CNT  FUNC_CNT  REMOTE  DIRECT_RPT_CNT  HUBIND  REH_CNT  \\\n",
       "0         1          116      1100       0               9       0        0   \n",
       "1         1          116      1100       1               9       1        0   \n",
       "2         0          116      1100       0               9       0        0   \n",
       "3         0          272      2670       0               7       1        0   \n",
       "4         1          337       337       0               8       1        1   \n",
       "5         0          272      2670       0              16       0        0   \n",
       "6         0           74      2670       0               8       1        0   \n",
       "7         0          508      3746       1              12       0        1   \n",
       "8         0           68      3746       0               3       1        0   \n",
       "9         1         1340     34937       0               5       0        0   \n",
       "\n",
       "   JOB_FUNCTION_PSA  \n",
       "0                 1  \n",
       "1                 1  \n",
       "2                 1  \n",
       "3                 1  \n",
       "4                 0  \n",
       "5                 0  \n",
       "6                 1  \n",
       "7                 0  \n",
       "8                 0  \n",
       "9                 0  "
      ]
     },
     "execution_count": 444,
     "metadata": {},
     "output_type": "execute_result"
    }
   ],
   "source": [
    "tdf[sep_mdl.hazards_.columns]"
   ]
  },
  {
   "cell_type": "code",
   "execution_count": 327,
   "metadata": {
    "collapsed": true
   },
   "outputs": [],
   "source": [
    "def forecast_survival_function(mdl, df, time_range=[0,1,2,3,4,5], calc_ci=True, extrapolate=False):\n",
    "    \"\"\"\n",
    "        :param self:\n",
    "        :param df:\n",
    "\n",
    "        :param time_range:\n",
    "        :param calc_ci: flag to return the confidence intervals\n",
    "        :return:\n",
    "    \"\"\"\n",
    "\n",
    "    #time_col = self.durations.name\n",
    "    col_names = ['t_'+np.str(tp) for tp in time_range]\n",
    "    # calculate the predicted hazard\n",
    "    order = mdl.confidence_intervals_.columns.tolist()\n",
    "    duration_col = mdl.durations.name\n",
    "    order.append(duration_col)\n",
    "    df = df[order]\n",
    "    my_partial_hazard = mdl.predict_partial_hazard(df)\n",
    "    # assign the specific timepoints and calculate the cumulative hazards at these points\n",
    "    forecast_times = identify_forecast_timepoints(mdl,df, time_range)\n",
    "    max_time = mdl.baseline_hazard_.index.max()\n",
    "    if extrapolate:\n",
    "        # do a linear extrapolation of the cumulative hazards and use this to get values beyond the known range\n",
    "        p_haz, p_haz_cov = curve_fit(line, mdl.baseline_cumulative_hazard_.index,\n",
    "                                 mdl.baseline_cumulative_hazard_.values.ravel())\n",
    "            # force the points to match\n",
    "        offset = mdl.baseline_cumulative_hazard_.values[-1][0] - line(mdl.baseline_cumulative_hazard_.index[-1],\n",
    "                                                                           p_haz[0] ,p_haz[1])\n",
    "            # apply to timepoints\n",
    "        specific_cumulative_hazards = forecast_times.applymap(lambda x: return_desired_cumulative_hazards(mdl,x)\n",
    "            if x <= max_time else offset+line(x,popt[0],popt[1]))\n",
    "    else:  # this is the default case\n",
    "            # replace those that exceed the max-time observed with the max observed time\n",
    "        forecast_times[forecast_times > max_time] = max_time\n",
    "        specific_cumulative_hazards = forecast_times.applymap(lambda x: return_desired_cumulative_hazards(x,mdl))\n",
    "\n",
    "        # predict the survival function at these forecasted times\n",
    "        pred_survival_fcn = pd.DataFrame(np.exp(-np.multiply(specific_cumulative_hazards.values,\n",
    "                                                             my_partial_hazard.values)), index=df.index)\n",
    "\n",
    "    if calc_ci:\n",
    "        # calculate the predicted hazard\n",
    "        try:\n",
    "            partial_hazard_ci = mdl.predict_partial_hazard_ci(df)\n",
    "        except AttributeError:\n",
    "            #df_index = mdl._get_index(df)\n",
    "            if isinstance(df,pd.DataFrame):\n",
    "                order = mdl.hazards_.columns\n",
    "                df = df[order]\n",
    "            if mdl.normalize:\n",
    "                df2 = ll.utils.normalize(df, mdl._norm_mean.values, mdl._norm_std.values)\n",
    "            partial_hazard_ci = pd.DataFrame(np.exp(np.dot(df2,mdl.confidence_intervals_.T)),index=df.index.tolist())\n",
    "            partial_hazard_ci['lowerbound']=partial_hazard_ci.min(axis=1)\n",
    "            partial_hazard_ci['upperbound']=partial_hazard_ci.max(axis=1)\n",
    "            partial_hazard_ci = partial_hazard_ci[['lowerbound','upperbound']]\n",
    "            \n",
    "        pred_lower_survival_ci = pd.DataFrame(np.exp(-np.multiply(specific_cumulative_hazards.values.T,\n",
    "                                                                  partial_hazard_ci.values[:, 1])),\n",
    "                                              columns=df.index).T\n",
    "        pred_upper_survival_ci = pd.DataFrame(np.exp(-np.multiply(specific_cumulative_hazards.values.T,\n",
    "                                                                  partial_hazard_ci.values[:, 0])),\n",
    "                                              columns=df.index).T\n",
    "\n",
    "        surv_prediction = pd.Panel(data={'surv': pred_survival_fcn, 'lbci': pred_lower_survival_ci,\n",
    "                                         'ubci': pred_upper_survival_ci})\n",
    "    else:\n",
    "        surv_prediction = pd.Panel(data={'surv': pred_survival_fcn})\n",
    "                                   #, 'lbci': pred_survival_fcn,\n",
    "                                   #      'ubci': pred_survival_fcn})\n",
    "    surv_prediction.minor_axis = col_names\n",
    "\n",
    "    return surv_prediction#,partial_hazard_ci"
   ]
  },
  {
   "cell_type": "code",
   "execution_count": 303,
   "metadata": {
    "collapsed": false
   },
   "outputs": [
    {
     "data": {
      "text/plain": [
       "'Tenure_years'"
      ]
     },
     "execution_count": 303,
     "metadata": {},
     "output_type": "execute_result"
    }
   ],
   "source": [
    "sep_mdl.durations.name"
   ]
  },
  {
   "cell_type": "code",
   "execution_count": 328,
   "metadata": {
    "collapsed": false
   },
   "outputs": [],
   "source": [
    "sep_surv_pred = forecast_survival_function(sep_mdl, tdf, time_range=[0,1,2,3,4,5], calc_ci=True, extrapolate=False)"
   ]
  },
  {
   "cell_type": "code",
   "execution_count": 310,
   "metadata": {
    "collapsed": false
   },
   "outputs": [
    {
     "data": {
      "text/html": [
       "<div>\n",
       "<table border=\"1\" class=\"dataframe\">\n",
       "  <thead>\n",
       "    <tr style=\"text-align: right;\">\n",
       "      <th></th>\n",
       "      <th>REH_CNT</th>\n",
       "      <th>MERIT1</th>\n",
       "      <th>HAVE_INS</th>\n",
       "      <th>PERF1</th>\n",
       "      <th>SAL1</th>\n",
       "      <th>Tenure_years</th>\n",
       "      <th>REMOTE</th>\n",
       "      <th>Age_years</th>\n",
       "      <th>EXTFUNC_CNT</th>\n",
       "      <th>FUNC_CNT</th>\n",
       "      <th>SEX</th>\n",
       "      <th>HAVE_DEP</th>\n",
       "      <th>DIRECT_RPT_CNT</th>\n",
       "      <th>HUBIND</th>\n",
       "      <th>DEPTCNT1</th>\n",
       "      <th>JOB_FUNCTION_PSA</th>\n",
       "      <th>BOX1</th>\n",
       "    </tr>\n",
       "  </thead>\n",
       "  <tbody>\n",
       "    <tr>\n",
       "      <th>0</th>\n",
       "      <td>0</td>\n",
       "      <td>1186.40</td>\n",
       "      <td>1</td>\n",
       "      <td>2904.63</td>\n",
       "      <td>51324.29</td>\n",
       "      <td>37.623546</td>\n",
       "      <td>0</td>\n",
       "      <td>62.614648</td>\n",
       "      <td>116</td>\n",
       "      <td>1100</td>\n",
       "      <td>1</td>\n",
       "      <td>0</td>\n",
       "      <td>9</td>\n",
       "      <td>0</td>\n",
       "      <td>1</td>\n",
       "      <td>1</td>\n",
       "      <td>2</td>\n",
       "    </tr>\n",
       "    <tr>\n",
       "      <th>1</th>\n",
       "      <td>0</td>\n",
       "      <td>0.00</td>\n",
       "      <td>1</td>\n",
       "      <td>4080.65</td>\n",
       "      <td>57974.00</td>\n",
       "      <td>39.791923</td>\n",
       "      <td>1</td>\n",
       "      <td>53.596167</td>\n",
       "      <td>116</td>\n",
       "      <td>1100</td>\n",
       "      <td>0</td>\n",
       "      <td>1</td>\n",
       "      <td>9</td>\n",
       "      <td>1</td>\n",
       "      <td>1</td>\n",
       "      <td>1</td>\n",
       "      <td>3</td>\n",
       "    </tr>\n",
       "    <tr>\n",
       "      <th>2</th>\n",
       "      <td>0</td>\n",
       "      <td>1575.46</td>\n",
       "      <td>1</td>\n",
       "      <td>1925.56</td>\n",
       "      <td>51489.96</td>\n",
       "      <td>22.710472</td>\n",
       "      <td>0</td>\n",
       "      <td>61.284052</td>\n",
       "      <td>116</td>\n",
       "      <td>1100</td>\n",
       "      <td>0</td>\n",
       "      <td>1</td>\n",
       "      <td>9</td>\n",
       "      <td>0</td>\n",
       "      <td>0</td>\n",
       "      <td>1</td>\n",
       "      <td>2</td>\n",
       "    </tr>\n",
       "    <tr>\n",
       "      <th>3</th>\n",
       "      <td>0</td>\n",
       "      <td>1325.57</td>\n",
       "      <td>1</td>\n",
       "      <td>3245.35</td>\n",
       "      <td>47534.76</td>\n",
       "      <td>28.980151</td>\n",
       "      <td>0</td>\n",
       "      <td>49.798768</td>\n",
       "      <td>272</td>\n",
       "      <td>2670</td>\n",
       "      <td>0</td>\n",
       "      <td>1</td>\n",
       "      <td>7</td>\n",
       "      <td>1</td>\n",
       "      <td>0</td>\n",
       "      <td>1</td>\n",
       "      <td>3</td>\n",
       "    </tr>\n",
       "    <tr>\n",
       "      <th>4</th>\n",
       "      <td>1</td>\n",
       "      <td>3240.00</td>\n",
       "      <td>1</td>\n",
       "      <td>2160.00</td>\n",
       "      <td>84240.00</td>\n",
       "      <td>17.325120</td>\n",
       "      <td>0</td>\n",
       "      <td>43.887748</td>\n",
       "      <td>337</td>\n",
       "      <td>337</td>\n",
       "      <td>1</td>\n",
       "      <td>0</td>\n",
       "      <td>8</td>\n",
       "      <td>1</td>\n",
       "      <td>1</td>\n",
       "      <td>0</td>\n",
       "      <td>2</td>\n",
       "    </tr>\n",
       "  </tbody>\n",
       "</table>\n",
       "</div>"
      ],
      "text/plain": [
       "   REH_CNT   MERIT1  HAVE_INS    PERF1      SAL1  Tenure_years  REMOTE  \\\n",
       "0        0  1186.40         1  2904.63  51324.29     37.623546       0   \n",
       "1        0     0.00         1  4080.65  57974.00     39.791923       1   \n",
       "2        0  1575.46         1  1925.56  51489.96     22.710472       0   \n",
       "3        0  1325.57         1  3245.35  47534.76     28.980151       0   \n",
       "4        1  3240.00         1  2160.00  84240.00     17.325120       0   \n",
       "\n",
       "   Age_years  EXTFUNC_CNT  FUNC_CNT  SEX  HAVE_DEP  DIRECT_RPT_CNT  HUBIND  \\\n",
       "0  62.614648          116      1100    1         0               9       0   \n",
       "1  53.596167          116      1100    0         1               9       1   \n",
       "2  61.284052          116      1100    0         1               9       0   \n",
       "3  49.798768          272      2670    0         1               7       1   \n",
       "4  43.887748          337       337    1         0               8       1   \n",
       "\n",
       "   DEPTCNT1  JOB_FUNCTION_PSA  BOX1  \n",
       "0         1                 1     2  \n",
       "1         1                 1     3  \n",
       "2         0                 1     2  \n",
       "3         0                 1     3  \n",
       "4         1                 0     2  "
      ]
     },
     "execution_count": 310,
     "metadata": {},
     "output_type": "execute_result"
    }
   ],
   "source": [
    "tdf.head()"
   ]
  },
  {
   "cell_type": "code",
   "execution_count": 243,
   "metadata": {
    "collapsed": false
   },
   "outputs": [
    {
     "data": {
      "text/html": [
       "<div>\n",
       "<table border=\"1\" class=\"dataframe\">\n",
       "  <thead>\n",
       "    <tr style=\"text-align: right;\">\n",
       "      <th></th>\n",
       "      <th>0</th>\n",
       "    </tr>\n",
       "  </thead>\n",
       "  <tbody>\n",
       "    <tr>\n",
       "      <th>0</th>\n",
       "      <td>0.124986</td>\n",
       "    </tr>\n",
       "    <tr>\n",
       "      <th>1</th>\n",
       "      <td>0.019815</td>\n",
       "    </tr>\n",
       "    <tr>\n",
       "      <th>2</th>\n",
       "      <td>0.109003</td>\n",
       "    </tr>\n",
       "    <tr>\n",
       "      <th>3</th>\n",
       "      <td>0.138506</td>\n",
       "    </tr>\n",
       "    <tr>\n",
       "      <th>4</th>\n",
       "      <td>0.171310</td>\n",
       "    </tr>\n",
       "  </tbody>\n",
       "</table>\n",
       "</div>"
      ],
      "text/plain": [
       "          0\n",
       "0  0.124986\n",
       "1  0.019815\n",
       "2  0.109003\n",
       "3  0.138506\n",
       "4  0.171310"
      ]
     },
     "execution_count": 243,
     "metadata": {},
     "output_type": "execute_result"
    }
   ],
   "source": [
    "ph = sep_mdl.predict_partial_hazard(tdf)\n",
    "ph.head()"
   ]
  },
  {
   "cell_type": "code",
   "execution_count": 291,
   "metadata": {
    "collapsed": false
   },
   "outputs": [
    {
     "data": {
      "text/html": [
       "<div>\n",
       "<table border=\"1\" class=\"dataframe\">\n",
       "  <thead>\n",
       "    <tr style=\"text-align: right;\">\n",
       "      <th></th>\n",
       "      <th>0</th>\n",
       "    </tr>\n",
       "  </thead>\n",
       "  <tbody>\n",
       "    <tr>\n",
       "      <th>0</th>\n",
       "      <td>0.124986</td>\n",
       "    </tr>\n",
       "    <tr>\n",
       "      <th>1</th>\n",
       "      <td>0.019815</td>\n",
       "    </tr>\n",
       "    <tr>\n",
       "      <th>2</th>\n",
       "      <td>0.109003</td>\n",
       "    </tr>\n",
       "    <tr>\n",
       "      <th>3</th>\n",
       "      <td>0.138506</td>\n",
       "    </tr>\n",
       "    <tr>\n",
       "      <th>4</th>\n",
       "      <td>0.171310</td>\n",
       "    </tr>\n",
       "    <tr>\n",
       "      <th>5</th>\n",
       "      <td>0.153282</td>\n",
       "    </tr>\n",
       "    <tr>\n",
       "      <th>6</th>\n",
       "      <td>0.217057</td>\n",
       "    </tr>\n",
       "    <tr>\n",
       "      <th>7</th>\n",
       "      <td>0.000351</td>\n",
       "    </tr>\n",
       "    <tr>\n",
       "      <th>8</th>\n",
       "      <td>0.012854</td>\n",
       "    </tr>\n",
       "    <tr>\n",
       "      <th>9</th>\n",
       "      <td>0.363959</td>\n",
       "    </tr>\n",
       "  </tbody>\n",
       "</table>\n",
       "</div>"
      ],
      "text/plain": [
       "          0\n",
       "0  0.124986\n",
       "1  0.019815\n",
       "2  0.109003\n",
       "3  0.138506\n",
       "4  0.171310\n",
       "5  0.153282\n",
       "6  0.217057\n",
       "7  0.000351\n",
       "8  0.012854\n",
       "9  0.363959"
      ]
     },
     "execution_count": 291,
     "metadata": {},
     "output_type": "execute_result"
    }
   ],
   "source": [
    "ph"
   ]
  },
  {
   "cell_type": "code",
   "execution_count": 297,
   "metadata": {
    "collapsed": false
   },
   "outputs": [
    {
     "data": {
      "text/plain": [
       "['Age_years',\n",
       " 'SAL1',\n",
       " 'MERIT1',\n",
       " 'PERF1',\n",
       " 'BOX1',\n",
       " 'SEX',\n",
       " 'HAVE_INS',\n",
       " 'HAVE_DEP',\n",
       " 'DEPTCNT1',\n",
       " 'EXTFUNC_CNT',\n",
       " 'FUNC_CNT',\n",
       " 'REMOTE',\n",
       " 'DIRECT_RPT_CNT',\n",
       " 'HUBIND',\n",
       " 'REH_CNT',\n",
       " 'JOB_FUNCTION_PSA']"
      ]
     },
     "execution_count": 297,
     "metadata": {},
     "output_type": "execute_result"
    }
   ],
   "source": [
    "order = sep_mdl.confidence_intervals_.columns.tolist()\n",
    "order"
   ]
  },
  {
   "cell_type": "code",
   "execution_count": 313,
   "metadata": {
    "collapsed": false
   },
   "outputs": [
    {
     "data": {
      "text/html": [
       "<div>\n",
       "<table border=\"1\" class=\"dataframe\">\n",
       "  <thead>\n",
       "    <tr style=\"text-align: right;\">\n",
       "      <th></th>\n",
       "      <th>0</th>\n",
       "      <th>1</th>\n",
       "    </tr>\n",
       "  </thead>\n",
       "  <tbody>\n",
       "    <tr>\n",
       "      <th>0</th>\n",
       "      <td>0</td>\n",
       "      <td>0</td>\n",
       "    </tr>\n",
       "    <tr>\n",
       "      <th>1</th>\n",
       "      <td>0</td>\n",
       "      <td>0</td>\n",
       "    </tr>\n",
       "    <tr>\n",
       "      <th>2</th>\n",
       "      <td>0</td>\n",
       "      <td>0</td>\n",
       "    </tr>\n",
       "    <tr>\n",
       "      <th>3</th>\n",
       "      <td>0</td>\n",
       "      <td>0</td>\n",
       "    </tr>\n",
       "    <tr>\n",
       "      <th>4</th>\n",
       "      <td>0</td>\n",
       "      <td>0</td>\n",
       "    </tr>\n",
       "    <tr>\n",
       "      <th>5</th>\n",
       "      <td>0</td>\n",
       "      <td>0</td>\n",
       "    </tr>\n",
       "    <tr>\n",
       "      <th>6</th>\n",
       "      <td>0</td>\n",
       "      <td>0</td>\n",
       "    </tr>\n",
       "    <tr>\n",
       "      <th>7</th>\n",
       "      <td>0</td>\n",
       "      <td>0</td>\n",
       "    </tr>\n",
       "    <tr>\n",
       "      <th>8</th>\n",
       "      <td>0</td>\n",
       "      <td>0</td>\n",
       "    </tr>\n",
       "    <tr>\n",
       "      <th>9</th>\n",
       "      <td>0</td>\n",
       "      <td>0</td>\n",
       "    </tr>\n",
       "  </tbody>\n",
       "</table>\n",
       "</div>"
      ],
      "text/plain": [
       "   0  1\n",
       "0  0  0\n",
       "1  0  0\n",
       "2  0  0\n",
       "3  0  0\n",
       "4  0  0\n",
       "5  0  0\n",
       "6  0  0\n",
       "7  0  0\n",
       "8  0  0\n",
       "9  0  0"
      ]
     },
     "execution_count": 313,
     "metadata": {},
     "output_type": "execute_result"
    }
   ],
   "source": [
    "A = np.dot(tdf[order],sep_mdl.confidence_intervals_.T)\n",
    "pd.DataFrame(np.exp(A),index=tdf.index.tolist())"
   ]
  },
  {
   "cell_type": "code",
   "execution_count": 315,
   "metadata": {
    "collapsed": false
   },
   "outputs": [
    {
     "data": {
      "text/html": [
       "<div>\n",
       "<table border=\"1\" class=\"dataframe\">\n",
       "  <thead>\n",
       "    <tr style=\"text-align: right;\">\n",
       "      <th></th>\n",
       "      <th>Age_years</th>\n",
       "      <th>SAL1</th>\n",
       "      <th>MERIT1</th>\n",
       "      <th>PERF1</th>\n",
       "      <th>BOX1</th>\n",
       "      <th>SEX</th>\n",
       "      <th>HAVE_INS</th>\n",
       "      <th>HAVE_DEP</th>\n",
       "      <th>DEPTCNT1</th>\n",
       "      <th>EXTFUNC_CNT</th>\n",
       "      <th>FUNC_CNT</th>\n",
       "      <th>REMOTE</th>\n",
       "      <th>DIRECT_RPT_CNT</th>\n",
       "      <th>HUBIND</th>\n",
       "      <th>REH_CNT</th>\n",
       "      <th>JOB_FUNCTION_PSA</th>\n",
       "    </tr>\n",
       "  </thead>\n",
       "  <tbody>\n",
       "    <tr>\n",
       "      <th>0</th>\n",
       "      <td>1.940695</td>\n",
       "      <td>-0.062815</td>\n",
       "      <td>-0.290712</td>\n",
       "      <td>0.708660</td>\n",
       "      <td>0.343561</td>\n",
       "      <td>1.272999</td>\n",
       "      <td>0.854357</td>\n",
       "      <td>-0.711127</td>\n",
       "      <td>0.718777</td>\n",
       "      <td>-0.747893</td>\n",
       "      <td>-1.092902</td>\n",
       "      <td>-0.312238</td>\n",
       "      <td>-0.345495</td>\n",
       "      <td>-0.777537</td>\n",
       "      <td>-0.291799</td>\n",
       "      <td>1.229568</td>\n",
       "    </tr>\n",
       "    <tr>\n",
       "      <th>1</th>\n",
       "      <td>1.156076</td>\n",
       "      <td>0.155657</td>\n",
       "      <td>-1.057880</td>\n",
       "      <td>1.431312</td>\n",
       "      <td>1.386203</td>\n",
       "      <td>-0.785536</td>\n",
       "      <td>0.854357</td>\n",
       "      <td>1.406201</td>\n",
       "      <td>0.718777</td>\n",
       "      <td>-0.747893</td>\n",
       "      <td>-1.092902</td>\n",
       "      <td>3.202646</td>\n",
       "      <td>-0.345495</td>\n",
       "      <td>1.286095</td>\n",
       "      <td>-0.291799</td>\n",
       "      <td>1.229568</td>\n",
       "    </tr>\n",
       "    <tr>\n",
       "      <th>2</th>\n",
       "      <td>1.824931</td>\n",
       "      <td>-0.057372</td>\n",
       "      <td>-0.039132</td>\n",
       "      <td>0.107032</td>\n",
       "      <td>0.343561</td>\n",
       "      <td>-0.785536</td>\n",
       "      <td>0.854357</td>\n",
       "      <td>1.406201</td>\n",
       "      <td>-0.609963</td>\n",
       "      <td>-0.747893</td>\n",
       "      <td>-1.092902</td>\n",
       "      <td>-0.312238</td>\n",
       "      <td>-0.345495</td>\n",
       "      <td>-0.777537</td>\n",
       "      <td>-0.291799</td>\n",
       "      <td>1.229568</td>\n",
       "    </tr>\n",
       "    <tr>\n",
       "      <th>3</th>\n",
       "      <td>0.825698</td>\n",
       "      <td>-0.187317</td>\n",
       "      <td>-0.200720</td>\n",
       "      <td>0.918029</td>\n",
       "      <td>1.386203</td>\n",
       "      <td>-0.785536</td>\n",
       "      <td>0.854357</td>\n",
       "      <td>1.406201</td>\n",
       "      <td>-0.609963</td>\n",
       "      <td>-0.695580</td>\n",
       "      <td>-0.989500</td>\n",
       "      <td>-0.312238</td>\n",
       "      <td>-0.533313</td>\n",
       "      <td>1.286095</td>\n",
       "      <td>-0.291799</td>\n",
       "      <td>1.229568</td>\n",
       "    </tr>\n",
       "    <tr>\n",
       "      <th>4</th>\n",
       "      <td>0.311432</td>\n",
       "      <td>1.018609</td>\n",
       "      <td>1.037217</td>\n",
       "      <td>0.251093</td>\n",
       "      <td>0.343561</td>\n",
       "      <td>1.272999</td>\n",
       "      <td>0.854357</td>\n",
       "      <td>-0.711127</td>\n",
       "      <td>0.718777</td>\n",
       "      <td>-0.673784</td>\n",
       "      <td>-1.143154</td>\n",
       "      <td>-0.312238</td>\n",
       "      <td>-0.439404</td>\n",
       "      <td>1.286095</td>\n",
       "      <td>1.427390</td>\n",
       "      <td>-0.813283</td>\n",
       "    </tr>\n",
       "  </tbody>\n",
       "</table>\n",
       "</div>"
      ],
      "text/plain": [
       "   Age_years      SAL1    MERIT1     PERF1      BOX1       SEX  HAVE_INS  \\\n",
       "0   1.940695 -0.062815 -0.290712  0.708660  0.343561  1.272999  0.854357   \n",
       "1   1.156076  0.155657 -1.057880  1.431312  1.386203 -0.785536  0.854357   \n",
       "2   1.824931 -0.057372 -0.039132  0.107032  0.343561 -0.785536  0.854357   \n",
       "3   0.825698 -0.187317 -0.200720  0.918029  1.386203 -0.785536  0.854357   \n",
       "4   0.311432  1.018609  1.037217  0.251093  0.343561  1.272999  0.854357   \n",
       "\n",
       "   HAVE_DEP  DEPTCNT1  EXTFUNC_CNT  FUNC_CNT    REMOTE  DIRECT_RPT_CNT  \\\n",
       "0 -0.711127  0.718777    -0.747893 -1.092902 -0.312238       -0.345495   \n",
       "1  1.406201  0.718777    -0.747893 -1.092902  3.202646       -0.345495   \n",
       "2  1.406201 -0.609963    -0.747893 -1.092902 -0.312238       -0.345495   \n",
       "3  1.406201 -0.609963    -0.695580 -0.989500 -0.312238       -0.533313   \n",
       "4 -0.711127  0.718777    -0.673784 -1.143154 -0.312238       -0.439404   \n",
       "\n",
       "     HUBIND   REH_CNT  JOB_FUNCTION_PSA  \n",
       "0 -0.777537 -0.291799          1.229568  \n",
       "1  1.286095 -0.291799          1.229568  \n",
       "2 -0.777537 -0.291799          1.229568  \n",
       "3  1.286095 -0.291799          1.229568  \n",
       "4  1.286095  1.427390         -0.813283  "
      ]
     },
     "execution_count": 315,
     "metadata": {},
     "output_type": "execute_result"
    }
   ],
   "source": [
    "df2 = ll.utils.normalize(tdf[order], sep_mdl._norm_mean.values, sep_mdl._norm_std.values)\n",
    "df2.head()"
   ]
  },
  {
   "cell_type": "code",
   "execution_count": 319,
   "metadata": {
    "collapsed": false
   },
   "outputs": [
    {
     "data": {
      "text/html": [
       "<div>\n",
       "<table border=\"1\" class=\"dataframe\">\n",
       "  <thead>\n",
       "    <tr style=\"text-align: right;\">\n",
       "      <th></th>\n",
       "      <th>0</th>\n",
       "      <th>1</th>\n",
       "    </tr>\n",
       "  </thead>\n",
       "  <tbody>\n",
       "    <tr>\n",
       "      <th>0</th>\n",
       "      <td>0.118848</td>\n",
       "      <td>0.131441</td>\n",
       "    </tr>\n",
       "    <tr>\n",
       "      <th>1</th>\n",
       "      <td>0.016383</td>\n",
       "      <td>0.023966</td>\n",
       "    </tr>\n",
       "    <tr>\n",
       "      <th>2</th>\n",
       "      <td>0.105278</td>\n",
       "      <td>0.112861</td>\n",
       "    </tr>\n",
       "    <tr>\n",
       "      <th>3</th>\n",
       "      <td>0.129046</td>\n",
       "      <td>0.148660</td>\n",
       "    </tr>\n",
       "    <tr>\n",
       "      <th>4</th>\n",
       "      <td>0.158800</td>\n",
       "      <td>0.184806</td>\n",
       "    </tr>\n",
       "    <tr>\n",
       "      <th>5</th>\n",
       "      <td>0.151259</td>\n",
       "      <td>0.155332</td>\n",
       "    </tr>\n",
       "    <tr>\n",
       "      <th>6</th>\n",
       "      <td>0.216549</td>\n",
       "      <td>0.217566</td>\n",
       "    </tr>\n",
       "    <tr>\n",
       "      <th>7</th>\n",
       "      <td>0.000288</td>\n",
       "      <td>0.000428</td>\n",
       "    </tr>\n",
       "    <tr>\n",
       "      <th>8</th>\n",
       "      <td>0.011501</td>\n",
       "      <td>0.014367</td>\n",
       "    </tr>\n",
       "    <tr>\n",
       "      <th>9</th>\n",
       "      <td>0.362805</td>\n",
       "      <td>0.365117</td>\n",
       "    </tr>\n",
       "  </tbody>\n",
       "</table>\n",
       "</div>"
      ],
      "text/plain": [
       "          0         1\n",
       "0  0.118848  0.131441\n",
       "1  0.016383  0.023966\n",
       "2  0.105278  0.112861\n",
       "3  0.129046  0.148660\n",
       "4  0.158800  0.184806\n",
       "5  0.151259  0.155332\n",
       "6  0.216549  0.217566\n",
       "7  0.000288  0.000428\n",
       "8  0.011501  0.014367\n",
       "9  0.362805  0.365117"
      ]
     },
     "execution_count": 319,
     "metadata": {},
     "output_type": "execute_result"
    }
   ],
   "source": [
    "#pd.DataFrame(np.exp(np.dot(tdf,sep_mdl.confidence_intervals_.T)),index=tdf.index.tolist())\n",
    "pd.DataFrame(np.exp(np.dot(df2,sep_mdl.confidence_intervals_.T)))"
   ]
  },
  {
   "cell_type": "code",
   "execution_count": 321,
   "metadata": {
    "collapsed": false
   },
   "outputs": [
    {
     "data": {
      "text/html": [
       "<div>\n",
       "<table border=\"1\" class=\"dataframe\">\n",
       "  <thead>\n",
       "    <tr style=\"text-align: right;\">\n",
       "      <th></th>\n",
       "      <th>0</th>\n",
       "    </tr>\n",
       "  </thead>\n",
       "  <tbody>\n",
       "    <tr>\n",
       "      <th>0</th>\n",
       "      <td>0.124986</td>\n",
       "    </tr>\n",
       "    <tr>\n",
       "      <th>1</th>\n",
       "      <td>0.019815</td>\n",
       "    </tr>\n",
       "    <tr>\n",
       "      <th>2</th>\n",
       "      <td>0.109003</td>\n",
       "    </tr>\n",
       "    <tr>\n",
       "      <th>3</th>\n",
       "      <td>0.138506</td>\n",
       "    </tr>\n",
       "    <tr>\n",
       "      <th>4</th>\n",
       "      <td>0.171310</td>\n",
       "    </tr>\n",
       "    <tr>\n",
       "      <th>5</th>\n",
       "      <td>0.153282</td>\n",
       "    </tr>\n",
       "    <tr>\n",
       "      <th>6</th>\n",
       "      <td>0.217057</td>\n",
       "    </tr>\n",
       "    <tr>\n",
       "      <th>7</th>\n",
       "      <td>0.000351</td>\n",
       "    </tr>\n",
       "    <tr>\n",
       "      <th>8</th>\n",
       "      <td>0.012854</td>\n",
       "    </tr>\n",
       "    <tr>\n",
       "      <th>9</th>\n",
       "      <td>0.363959</td>\n",
       "    </tr>\n",
       "  </tbody>\n",
       "</table>\n",
       "</div>"
      ],
      "text/plain": [
       "          0\n",
       "0  0.124986\n",
       "1  0.019815\n",
       "2  0.109003\n",
       "3  0.138506\n",
       "4  0.171310\n",
       "5  0.153282\n",
       "6  0.217057\n",
       "7  0.000351\n",
       "8  0.012854\n",
       "9  0.363959"
      ]
     },
     "execution_count": 321,
     "metadata": {},
     "output_type": "execute_result"
    }
   ],
   "source": [
    "sep_mdl.predict_partial_hazard(tdf[order])"
   ]
  },
  {
   "cell_type": "code",
   "execution_count": 322,
   "metadata": {
    "collapsed": false
   },
   "outputs": [
    {
     "data": {
      "text/html": [
       "<div>\n",
       "<table border=\"1\" class=\"dataframe\">\n",
       "  <thead>\n",
       "    <tr style=\"text-align: right;\">\n",
       "      <th></th>\n",
       "      <th>0</th>\n",
       "      <th>1</th>\n",
       "    </tr>\n",
       "  </thead>\n",
       "  <tbody>\n",
       "    <tr>\n",
       "      <th>0</th>\n",
       "      <td>0.118848</td>\n",
       "      <td>0.131441</td>\n",
       "    </tr>\n",
       "    <tr>\n",
       "      <th>1</th>\n",
       "      <td>0.016383</td>\n",
       "      <td>0.023966</td>\n",
       "    </tr>\n",
       "    <tr>\n",
       "      <th>2</th>\n",
       "      <td>0.105278</td>\n",
       "      <td>0.112861</td>\n",
       "    </tr>\n",
       "    <tr>\n",
       "      <th>3</th>\n",
       "      <td>0.129046</td>\n",
       "      <td>0.148660</td>\n",
       "    </tr>\n",
       "    <tr>\n",
       "      <th>4</th>\n",
       "      <td>0.158800</td>\n",
       "      <td>0.184806</td>\n",
       "    </tr>\n",
       "    <tr>\n",
       "      <th>5</th>\n",
       "      <td>0.151259</td>\n",
       "      <td>0.155332</td>\n",
       "    </tr>\n",
       "    <tr>\n",
       "      <th>6</th>\n",
       "      <td>0.216549</td>\n",
       "      <td>0.217566</td>\n",
       "    </tr>\n",
       "    <tr>\n",
       "      <th>7</th>\n",
       "      <td>0.000288</td>\n",
       "      <td>0.000428</td>\n",
       "    </tr>\n",
       "    <tr>\n",
       "      <th>8</th>\n",
       "      <td>0.011501</td>\n",
       "      <td>0.014367</td>\n",
       "    </tr>\n",
       "    <tr>\n",
       "      <th>9</th>\n",
       "      <td>0.362805</td>\n",
       "      <td>0.365117</td>\n",
       "    </tr>\n",
       "  </tbody>\n",
       "</table>\n",
       "</div>"
      ],
      "text/plain": [
       "          0         1\n",
       "0  0.118848  0.131441\n",
       "1  0.016383  0.023966\n",
       "2  0.105278  0.112861\n",
       "3  0.129046  0.148660\n",
       "4  0.158800  0.184806\n",
       "5  0.151259  0.155332\n",
       "6  0.216549  0.217566\n",
       "7  0.000288  0.000428\n",
       "8  0.011501  0.014367\n",
       "9  0.362805  0.365117"
      ]
     },
     "execution_count": 322,
     "metadata": {},
     "output_type": "execute_result"
    }
   ],
   "source": [
    "partial_hazard_ci = pd.DataFrame(np.exp(np.dot(df2,sep_mdl.confidence_intervals_.T)),index=df2.index.tolist())\n",
    "#pd.DataFrame(np.exp(np.dot(df2,mdl.confidence_intervals_.T)),index=df.index.tolist())\n",
    "#            partial_hazard_ci['lowerbound']=df2.min(axis=1)\n",
    "#            partial_hazard_ci['upperbound']=df2.max(axis=1)\n",
    "#            partial_hazard_ci = partial_hazard_ci[['lowerbound','upperbound']]\n",
    "partial_hazard_ci"
   ]
  },
  {
   "cell_type": "code",
   "execution_count": 326,
   "metadata": {
    "collapsed": false
   },
   "outputs": [
    {
     "data": {
      "text/plain": [
       "<matplotlib.axes._subplots.AxesSubplot at 0xc9cfba8>"
      ]
     },
     "execution_count": 326,
     "metadata": {},
     "output_type": "execute_result"
    },
    {
     "data": {
      "image/png": "[encoded data removed]",
      "text/plain": [
       "<matplotlib.figure.Figure at 0xc9d6c50>"
      ]
     },
     "metadata": {},
     "output_type": "display_data"
    }
   ],
   "source": [
    "partial_hazard_ci.plot()\n",
    "#sep_mdl.predict_partial_hazard(tdf[order]).plot(marker='*')\n"
   ]
  },
  {
   "cell_type": "code",
   "execution_count": null,
   "metadata": {
    "collapsed": true
   },
   "outputs": [],
   "source": []
  },
  {
   "cell_type": "code",
   "execution_count": 246,
   "metadata": {
    "collapsed": false
   },
   "outputs": [
    {
     "data": {
      "text/html": [
       "<div>\n",
       "<table border=\"1\" class=\"dataframe\">\n",
       "  <thead>\n",
       "    <tr style=\"text-align: right;\">\n",
       "      <th></th>\n",
       "      <th>time_point_0</th>\n",
       "      <th>time_point_1</th>\n",
       "      <th>time_point_2</th>\n",
       "      <th>time_point_3</th>\n",
       "      <th>time_point_4</th>\n",
       "      <th>time_point_5</th>\n",
       "    </tr>\n",
       "  </thead>\n",
       "  <tbody>\n",
       "    <tr>\n",
       "      <th>0</th>\n",
       "      <td>37.6235</td>\n",
       "      <td>38.6235</td>\n",
       "      <td>39.6235</td>\n",
       "      <td>40.6235</td>\n",
       "      <td>41.6235</td>\n",
       "      <td>42.6235</td>\n",
       "    </tr>\n",
       "    <tr>\n",
       "      <th>1</th>\n",
       "      <td>39.7919</td>\n",
       "      <td>40.7919</td>\n",
       "      <td>41.7919</td>\n",
       "      <td>42.7919</td>\n",
       "      <td>43.7919</td>\n",
       "      <td>44.7919</td>\n",
       "    </tr>\n",
       "    <tr>\n",
       "      <th>2</th>\n",
       "      <td>22.7105</td>\n",
       "      <td>23.7105</td>\n",
       "      <td>24.7105</td>\n",
       "      <td>25.7105</td>\n",
       "      <td>26.7105</td>\n",
       "      <td>27.7105</td>\n",
       "    </tr>\n",
       "    <tr>\n",
       "      <th>3</th>\n",
       "      <td>28.9802</td>\n",
       "      <td>29.9802</td>\n",
       "      <td>30.9802</td>\n",
       "      <td>31.9802</td>\n",
       "      <td>32.9802</td>\n",
       "      <td>33.9802</td>\n",
       "    </tr>\n",
       "    <tr>\n",
       "      <th>4</th>\n",
       "      <td>17.3251</td>\n",
       "      <td>18.3251</td>\n",
       "      <td>19.3251</td>\n",
       "      <td>20.3251</td>\n",
       "      <td>21.3251</td>\n",
       "      <td>22.3251</td>\n",
       "    </tr>\n",
       "    <tr>\n",
       "      <th>5</th>\n",
       "      <td>30.2368</td>\n",
       "      <td>31.2368</td>\n",
       "      <td>32.2368</td>\n",
       "      <td>33.2368</td>\n",
       "      <td>34.2368</td>\n",
       "      <td>35.2368</td>\n",
       "    </tr>\n",
       "    <tr>\n",
       "      <th>6</th>\n",
       "      <td>25.8864</td>\n",
       "      <td>26.8864</td>\n",
       "      <td>27.8864</td>\n",
       "      <td>28.8864</td>\n",
       "      <td>29.8864</td>\n",
       "      <td>30.8864</td>\n",
       "    </tr>\n",
       "    <tr>\n",
       "      <th>7</th>\n",
       "      <td>32.512</td>\n",
       "      <td>33.512</td>\n",
       "      <td>34.512</td>\n",
       "      <td>35.512</td>\n",
       "      <td>36.512</td>\n",
       "      <td>37.512</td>\n",
       "    </tr>\n",
       "    <tr>\n",
       "      <th>8</th>\n",
       "      <td>30.7488</td>\n",
       "      <td>31.7488</td>\n",
       "      <td>32.7488</td>\n",
       "      <td>33.7488</td>\n",
       "      <td>34.7488</td>\n",
       "      <td>35.7488</td>\n",
       "    </tr>\n",
       "    <tr>\n",
       "      <th>9</th>\n",
       "      <td>19.258</td>\n",
       "      <td>20.258</td>\n",
       "      <td>21.258</td>\n",
       "      <td>22.258</td>\n",
       "      <td>23.258</td>\n",
       "      <td>24.258</td>\n",
       "    </tr>\n",
       "  </tbody>\n",
       "</table>\n",
       "</div>"
      ],
      "text/plain": [
       "  time_point_0 time_point_1 time_point_2 time_point_3 time_point_4  \\\n",
       "0      37.6235      38.6235      39.6235      40.6235      41.6235   \n",
       "1      39.7919      40.7919      41.7919      42.7919      43.7919   \n",
       "2      22.7105      23.7105      24.7105      25.7105      26.7105   \n",
       "3      28.9802      29.9802      30.9802      31.9802      32.9802   \n",
       "4      17.3251      18.3251      19.3251      20.3251      21.3251   \n",
       "5      30.2368      31.2368      32.2368      33.2368      34.2368   \n",
       "6      25.8864      26.8864      27.8864      28.8864      29.8864   \n",
       "7       32.512       33.512       34.512       35.512       36.512   \n",
       "8      30.7488      31.7488      32.7488      33.7488      34.7488   \n",
       "9       19.258       20.258       21.258       22.258       23.258   \n",
       "\n",
       "  time_point_5  \n",
       "0      42.6235  \n",
       "1      44.7919  \n",
       "2      27.7105  \n",
       "3      33.9802  \n",
       "4      22.3251  \n",
       "5      35.2368  \n",
       "6      30.8864  \n",
       "7       37.512  \n",
       "8      35.7488  \n",
       "9       24.258  "
      ]
     },
     "execution_count": 246,
     "metadata": {},
     "output_type": "execute_result"
    }
   ],
   "source": [
    "ftimes = identify_forecast_timepoints(sep_mdl,tdf, [0,1,2,3,4,5])\n",
    "ftimes"
   ]
  },
  {
   "cell_type": "code",
   "execution_count": 248,
   "metadata": {
    "collapsed": false
   },
   "outputs": [
    {
     "data": {
      "text/plain": [
       "58.040890641099999"
      ]
     },
     "execution_count": 248,
     "metadata": {},
     "output_type": "execute_result"
    }
   ],
   "source": [
    "max_time = sep_mdl.baseline_hazard_.index.max()\n",
    "max_time"
   ]
  },
  {
   "cell_type": "code",
   "execution_count": 251,
   "metadata": {
    "collapsed": false
   },
   "outputs": [],
   "source": [
    "ftimes[ftimes>max_time]= max_time"
   ]
  },
  {
   "cell_type": "code",
   "execution_count": 260,
   "metadata": {
    "collapsed": false
   },
   "outputs": [
    {
     "data": {
      "text/html": [
       "<div>\n",
       "<table border=\"1\" class=\"dataframe\">\n",
       "  <thead>\n",
       "    <tr style=\"text-align: right;\">\n",
       "      <th></th>\n",
       "      <th>time_point_0</th>\n",
       "      <th>time_point_1</th>\n",
       "      <th>time_point_2</th>\n",
       "      <th>time_point_3</th>\n",
       "      <th>time_point_4</th>\n",
       "      <th>time_point_5</th>\n",
       "    </tr>\n",
       "  </thead>\n",
       "  <tbody>\n",
       "    <tr>\n",
       "      <th>0</th>\n",
       "      <td>37.6235</td>\n",
       "      <td>38.6235</td>\n",
       "      <td>39.6235</td>\n",
       "      <td>40.6235</td>\n",
       "      <td>41.6235</td>\n",
       "      <td>42.6235</td>\n",
       "    </tr>\n",
       "    <tr>\n",
       "      <th>1</th>\n",
       "      <td>39.7919</td>\n",
       "      <td>40.7919</td>\n",
       "      <td>41.7919</td>\n",
       "      <td>42.7919</td>\n",
       "      <td>43.7919</td>\n",
       "      <td>44.7919</td>\n",
       "    </tr>\n",
       "    <tr>\n",
       "      <th>2</th>\n",
       "      <td>22.7105</td>\n",
       "      <td>23.7105</td>\n",
       "      <td>24.7105</td>\n",
       "      <td>25.7105</td>\n",
       "      <td>26.7105</td>\n",
       "      <td>27.7105</td>\n",
       "    </tr>\n",
       "    <tr>\n",
       "      <th>3</th>\n",
       "      <td>28.9802</td>\n",
       "      <td>29.9802</td>\n",
       "      <td>30.9802</td>\n",
       "      <td>31.9802</td>\n",
       "      <td>32.9802</td>\n",
       "      <td>33.9802</td>\n",
       "    </tr>\n",
       "    <tr>\n",
       "      <th>4</th>\n",
       "      <td>17.3251</td>\n",
       "      <td>18.3251</td>\n",
       "      <td>19.3251</td>\n",
       "      <td>20.3251</td>\n",
       "      <td>21.3251</td>\n",
       "      <td>22.3251</td>\n",
       "    </tr>\n",
       "    <tr>\n",
       "      <th>5</th>\n",
       "      <td>30.2368</td>\n",
       "      <td>31.2368</td>\n",
       "      <td>32.2368</td>\n",
       "      <td>33.2368</td>\n",
       "      <td>34.2368</td>\n",
       "      <td>35.2368</td>\n",
       "    </tr>\n",
       "    <tr>\n",
       "      <th>6</th>\n",
       "      <td>25.8864</td>\n",
       "      <td>26.8864</td>\n",
       "      <td>27.8864</td>\n",
       "      <td>28.8864</td>\n",
       "      <td>29.8864</td>\n",
       "      <td>30.8864</td>\n",
       "    </tr>\n",
       "    <tr>\n",
       "      <th>7</th>\n",
       "      <td>32.512</td>\n",
       "      <td>33.512</td>\n",
       "      <td>34.512</td>\n",
       "      <td>35.512</td>\n",
       "      <td>36.512</td>\n",
       "      <td>37.512</td>\n",
       "    </tr>\n",
       "    <tr>\n",
       "      <th>8</th>\n",
       "      <td>30.7488</td>\n",
       "      <td>31.7488</td>\n",
       "      <td>32.7488</td>\n",
       "      <td>33.7488</td>\n",
       "      <td>34.7488</td>\n",
       "      <td>35.7488</td>\n",
       "    </tr>\n",
       "    <tr>\n",
       "      <th>9</th>\n",
       "      <td>19.258</td>\n",
       "      <td>20.258</td>\n",
       "      <td>21.258</td>\n",
       "      <td>22.258</td>\n",
       "      <td>23.258</td>\n",
       "      <td>24.258</td>\n",
       "    </tr>\n",
       "  </tbody>\n",
       "</table>\n",
       "</div>"
      ],
      "text/plain": [
       "  time_point_0 time_point_1 time_point_2 time_point_3 time_point_4  \\\n",
       "0      37.6235      38.6235      39.6235      40.6235      41.6235   \n",
       "1      39.7919      40.7919      41.7919      42.7919      43.7919   \n",
       "2      22.7105      23.7105      24.7105      25.7105      26.7105   \n",
       "3      28.9802      29.9802      30.9802      31.9802      32.9802   \n",
       "4      17.3251      18.3251      19.3251      20.3251      21.3251   \n",
       "5      30.2368      31.2368      32.2368      33.2368      34.2368   \n",
       "6      25.8864      26.8864      27.8864      28.8864      29.8864   \n",
       "7       32.512       33.512       34.512       35.512       36.512   \n",
       "8      30.7488      31.7488      32.7488      33.7488      34.7488   \n",
       "9       19.258       20.258       21.258       22.258       23.258   \n",
       "\n",
       "  time_point_5  \n",
       "0      42.6235  \n",
       "1      44.7919  \n",
       "2      27.7105  \n",
       "3      33.9802  \n",
       "4      22.3251  \n",
       "5      35.2368  \n",
       "6      30.8864  \n",
       "7       37.512  \n",
       "8      35.7488  \n",
       "9       24.258  "
      ]
     },
     "execution_count": 260,
     "metadata": {},
     "output_type": "execute_result"
    }
   ],
   "source": [
    "ftimes"
   ]
  },
  {
   "cell_type": "code",
   "execution_count": 253,
   "metadata": {
    "collapsed": false
   },
   "outputs": [
    {
     "data": {
      "text/html": [
       "<div>\n",
       "<table border=\"1\" class=\"dataframe\">\n",
       "  <thead>\n",
       "    <tr style=\"text-align: right;\">\n",
       "      <th></th>\n",
       "      <th>time_point_0</th>\n",
       "      <th>time_point_1</th>\n",
       "      <th>time_point_2</th>\n",
       "      <th>time_point_3</th>\n",
       "      <th>time_point_4</th>\n",
       "      <th>time_point_5</th>\n",
       "    </tr>\n",
       "  </thead>\n",
       "  <tbody>\n",
       "    <tr>\n",
       "      <th>0</th>\n",
       "      <td>3.206414</td>\n",
       "      <td>3.428802</td>\n",
       "      <td>3.603461</td>\n",
       "      <td>3.817723</td>\n",
       "      <td>4.056768</td>\n",
       "      <td>4.289903</td>\n",
       "    </tr>\n",
       "    <tr>\n",
       "      <th>1</th>\n",
       "      <td>3.635412</td>\n",
       "      <td>3.862306</td>\n",
       "      <td>4.115348</td>\n",
       "      <td>4.351108</td>\n",
       "      <td>4.826578</td>\n",
       "      <td>5.145398</td>\n",
       "    </tr>\n",
       "    <tr>\n",
       "      <th>2</th>\n",
       "      <td>1.068519</td>\n",
       "      <td>1.154241</td>\n",
       "      <td>1.253175</td>\n",
       "      <td>1.367308</td>\n",
       "      <td>1.500185</td>\n",
       "      <td>1.642238</td>\n",
       "    </tr>\n",
       "    <tr>\n",
       "      <th>3</th>\n",
       "      <td>1.807270</td>\n",
       "      <td>1.927553</td>\n",
       "      <td>2.045714</td>\n",
       "      <td>2.166316</td>\n",
       "      <td>2.343220</td>\n",
       "      <td>2.545376</td>\n",
       "    </tr>\n",
       "    <tr>\n",
       "      <th>4</th>\n",
       "      <td>0.651486</td>\n",
       "      <td>0.728181</td>\n",
       "      <td>0.810056</td>\n",
       "      <td>0.877749</td>\n",
       "      <td>0.957998</td>\n",
       "      <td>1.037331</td>\n",
       "    </tr>\n",
       "    <tr>\n",
       "      <th>5</th>\n",
       "      <td>1.965300</td>\n",
       "      <td>2.063630</td>\n",
       "      <td>2.213150</td>\n",
       "      <td>2.392120</td>\n",
       "      <td>2.602101</td>\n",
       "      <td>2.798073</td>\n",
       "    </tr>\n",
       "    <tr>\n",
       "      <th>6</th>\n",
       "      <td>1.385733</td>\n",
       "      <td>1.532630</td>\n",
       "      <td>1.672744</td>\n",
       "      <td>1.792102</td>\n",
       "      <td>1.918740</td>\n",
       "      <td>2.029859</td>\n",
       "    </tr>\n",
       "    <tr>\n",
       "      <th>7</th>\n",
       "      <td>2.271017</td>\n",
       "      <td>2.456926</td>\n",
       "      <td>2.661904</td>\n",
       "      <td>2.848879</td>\n",
       "      <td>3.010824</td>\n",
       "      <td>3.197364</td>\n",
       "    </tr>\n",
       "    <tr>\n",
       "      <th>8</th>\n",
       "      <td>2.010903</td>\n",
       "      <td>2.127801</td>\n",
       "      <td>2.313439</td>\n",
       "      <td>2.502925</td>\n",
       "      <td>2.711260</td>\n",
       "      <td>2.914867</td>\n",
       "    </tr>\n",
       "    <tr>\n",
       "      <th>9</th>\n",
       "      <td>0.804465</td>\n",
       "      <td>0.872153</td>\n",
       "      <td>0.949713</td>\n",
       "      <td>1.030887</td>\n",
       "      <td>1.113316</td>\n",
       "      <td>1.205945</td>\n",
       "    </tr>\n",
       "  </tbody>\n",
       "</table>\n",
       "</div>"
      ],
      "text/plain": [
       "   time_point_0  time_point_1  time_point_2  time_point_3  time_point_4  \\\n",
       "0      3.206414      3.428802      3.603461      3.817723      4.056768   \n",
       "1      3.635412      3.862306      4.115348      4.351108      4.826578   \n",
       "2      1.068519      1.154241      1.253175      1.367308      1.500185   \n",
       "3      1.807270      1.927553      2.045714      2.166316      2.343220   \n",
       "4      0.651486      0.728181      0.810056      0.877749      0.957998   \n",
       "5      1.965300      2.063630      2.213150      2.392120      2.602101   \n",
       "6      1.385733      1.532630      1.672744      1.792102      1.918740   \n",
       "7      2.271017      2.456926      2.661904      2.848879      3.010824   \n",
       "8      2.010903      2.127801      2.313439      2.502925      2.711260   \n",
       "9      0.804465      0.872153      0.949713      1.030887      1.113316   \n",
       "\n",
       "   time_point_5  \n",
       "0      4.289903  \n",
       "1      5.145398  \n",
       "2      1.642238  \n",
       "3      2.545376  \n",
       "4      1.037331  \n",
       "5      2.798073  \n",
       "6      2.029859  \n",
       "7      3.197364  \n",
       "8      2.914867  \n",
       "9      1.205945  "
      ]
     },
     "execution_count": 253,
     "metadata": {},
     "output_type": "execute_result"
    }
   ],
   "source": [
    "specific_cumulative_hazards = ftimes.applymap(lambda x: return_desired_cumulative_hazards(x,sep_mdl))\n",
    "specific_cumulative_hazards"
   ]
  },
  {
   "cell_type": "code",
   "execution_count": 289,
   "metadata": {
    "collapsed": false
   },
   "outputs": [
    {
     "data": {
      "text/html": [
       "<div>\n",
       "<table border=\"1\" class=\"dataframe\">\n",
       "  <thead>\n",
       "    <tr style=\"text-align: right;\">\n",
       "      <th></th>\n",
       "      <th>0</th>\n",
       "      <th>1</th>\n",
       "      <th>2</th>\n",
       "      <th>3</th>\n",
       "      <th>4</th>\n",
       "      <th>5</th>\n",
       "    </tr>\n",
       "  </thead>\n",
       "  <tbody>\n",
       "    <tr>\n",
       "      <th>0</th>\n",
       "      <td>0.030068</td>\n",
       "      <td>0.023580</td>\n",
       "      <td>0.019483</td>\n",
       "      <td>0.015415</td>\n",
       "      <td>0.011871</td>\n",
       "      <td>0.009201</td>\n",
       "    </tr>\n",
       "    <tr>\n",
       "      <th>1</th>\n",
       "      <td>0.018814</td>\n",
       "      <td>0.014682</td>\n",
       "      <td>0.011135</td>\n",
       "      <td>0.008606</td>\n",
       "      <td>0.005118</td>\n",
       "      <td>0.003612</td>\n",
       "    </tr>\n",
       "    <tr>\n",
       "      <th>2</th>\n",
       "      <td>0.311055</td>\n",
       "      <td>0.283237</td>\n",
       "      <td>0.254209</td>\n",
       "      <td>0.224398</td>\n",
       "      <td>0.194067</td>\n",
       "      <td>0.166160</td>\n",
       "    </tr>\n",
       "    <tr>\n",
       "      <th>3</th>\n",
       "      <td>0.167245</td>\n",
       "      <td>0.148479</td>\n",
       "      <td>0.132095</td>\n",
       "      <td>0.117236</td>\n",
       "      <td>0.098410</td>\n",
       "      <td>0.080568</td>\n",
       "    </tr>\n",
       "    <tr>\n",
       "      <th>4</th>\n",
       "      <td>0.474854</td>\n",
       "      <td>0.434994</td>\n",
       "      <td>0.396128</td>\n",
       "      <td>0.366630</td>\n",
       "      <td>0.334493</td>\n",
       "      <td>0.305493</td>\n",
       "    </tr>\n",
       "    <tr>\n",
       "      <th>5</th>\n",
       "      <td>0.143035</td>\n",
       "      <td>0.129774</td>\n",
       "      <td>0.111927</td>\n",
       "      <td>0.093761</td>\n",
       "      <td>0.076171</td>\n",
       "      <td>0.062744</td>\n",
       "    </tr>\n",
       "    <tr>\n",
       "      <th>6</th>\n",
       "      <td>0.253807</td>\n",
       "      <td>0.219471</td>\n",
       "      <td>0.191058</td>\n",
       "      <td>0.169775</td>\n",
       "      <td>0.149779</td>\n",
       "      <td>0.134184</td>\n",
       "    </tr>\n",
       "    <tr>\n",
       "      <th>7</th>\n",
       "      <td>0.086806</td>\n",
       "      <td>0.071065</td>\n",
       "      <td>0.056997</td>\n",
       "      <td>0.046608</td>\n",
       "      <td>0.039154</td>\n",
       "      <td>0.032032</td>\n",
       "    </tr>\n",
       "    <tr>\n",
       "      <th>8</th>\n",
       "      <td>0.114848</td>\n",
       "      <td>0.101272</td>\n",
       "      <td>0.082932</td>\n",
       "      <td>0.067633</td>\n",
       "      <td>0.054049</td>\n",
       "      <td>0.043413</td>\n",
       "    </tr>\n",
       "    <tr>\n",
       "      <th>9</th>\n",
       "      <td>0.246312</td>\n",
       "      <td>0.218920</td>\n",
       "      <td>0.191257</td>\n",
       "      <td>0.166041</td>\n",
       "      <td>0.143835</td>\n",
       "      <td>0.122405</td>\n",
       "    </tr>\n",
       "  </tbody>\n",
       "</table>\n",
       "</div>"
      ],
      "text/plain": [
       "          0         1         2         3         4         5\n",
       "0  0.030068  0.023580  0.019483  0.015415  0.011871  0.009201\n",
       "1  0.018814  0.014682  0.011135  0.008606  0.005118  0.003612\n",
       "2  0.311055  0.283237  0.254209  0.224398  0.194067  0.166160\n",
       "3  0.167245  0.148479  0.132095  0.117236  0.098410  0.080568\n",
       "4  0.474854  0.434994  0.396128  0.366630  0.334493  0.305493\n",
       "5  0.143035  0.129774  0.111927  0.093761  0.076171  0.062744\n",
       "6  0.253807  0.219471  0.191058  0.169775  0.149779  0.134184\n",
       "7  0.086806  0.071065  0.056997  0.046608  0.039154  0.032032\n",
       "8  0.114848  0.101272  0.082932  0.067633  0.054049  0.043413\n",
       "9  0.246312  0.218920  0.191257  0.166041  0.143835  0.122405"
      ]
     },
     "execution_count": 289,
     "metadata": {},
     "output_type": "execute_result"
    }
   ],
   "source": [
    "pd.DataFrame(np.exp(np.multiply(specific_cumulative_hazards.values.T,phi.values[:,0])),columns=tdf.index).T"
   ]
  },
  {
   "cell_type": "code",
   "execution_count": 290,
   "metadata": {
    "collapsed": false
   },
   "outputs": [
    {
     "data": {
      "text/html": [
       "<div>\n",
       "<table border=\"1\" class=\"dataframe\">\n",
       "  <thead>\n",
       "    <tr style=\"text-align: right;\">\n",
       "      <th></th>\n",
       "      <th>t_0</th>\n",
       "      <th>t_1</th>\n",
       "      <th>t_2</th>\n",
       "      <th>t_3</th>\n",
       "      <th>t_4</th>\n",
       "      <th>t_5</th>\n",
       "    </tr>\n",
       "  </thead>\n",
       "  <tbody>\n",
       "    <tr>\n",
       "      <th>0</th>\n",
       "      <td>0.669813</td>\n",
       "      <td>0.651452</td>\n",
       "      <td>0.637385</td>\n",
       "      <td>0.620542</td>\n",
       "      <td>0.602276</td>\n",
       "      <td>0.584980</td>\n",
       "    </tr>\n",
       "    <tr>\n",
       "      <th>1</th>\n",
       "      <td>0.930499</td>\n",
       "      <td>0.926325</td>\n",
       "      <td>0.921692</td>\n",
       "      <td>0.917396</td>\n",
       "      <td>0.908794</td>\n",
       "      <td>0.903070</td>\n",
       "    </tr>\n",
       "    <tr>\n",
       "      <th>2</th>\n",
       "      <td>0.890055</td>\n",
       "      <td>0.881777</td>\n",
       "      <td>0.872319</td>\n",
       "      <td>0.861534</td>\n",
       "      <td>0.849145</td>\n",
       "      <td>0.836098</td>\n",
       "    </tr>\n",
       "    <tr>\n",
       "      <th>3</th>\n",
       "      <td>0.778553</td>\n",
       "      <td>0.765690</td>\n",
       "      <td>0.753260</td>\n",
       "      <td>0.740782</td>\n",
       "      <td>0.722852</td>\n",
       "      <td>0.702893</td>\n",
       "    </tr>\n",
       "    <tr>\n",
       "      <th>4</th>\n",
       "      <td>0.894397</td>\n",
       "      <td>0.882722</td>\n",
       "      <td>0.870428</td>\n",
       "      <td>0.860392</td>\n",
       "      <td>0.848645</td>\n",
       "      <td>0.837189</td>\n",
       "    </tr>\n",
       "    <tr>\n",
       "      <th>5</th>\n",
       "      <td>0.739896</td>\n",
       "      <td>0.728828</td>\n",
       "      <td>0.712314</td>\n",
       "      <td>0.693039</td>\n",
       "      <td>0.671088</td>\n",
       "      <td>0.651229</td>\n",
       "    </tr>\n",
       "    <tr>\n",
       "      <th>6</th>\n",
       "      <td>0.740238</td>\n",
       "      <td>0.717008</td>\n",
       "      <td>0.695530</td>\n",
       "      <td>0.677742</td>\n",
       "      <td>0.659366</td>\n",
       "      <td>0.643653</td>\n",
       "    </tr>\n",
       "    <tr>\n",
       "      <th>7</th>\n",
       "      <td>0.999202</td>\n",
       "      <td>0.999137</td>\n",
       "      <td>0.999065</td>\n",
       "      <td>0.998999</td>\n",
       "      <td>0.998943</td>\n",
       "      <td>0.998877</td>\n",
       "    </tr>\n",
       "    <tr>\n",
       "      <th>8</th>\n",
       "      <td>0.974483</td>\n",
       "      <td>0.973020</td>\n",
       "      <td>0.970701</td>\n",
       "      <td>0.968339</td>\n",
       "      <td>0.965750</td>\n",
       "      <td>0.963225</td>\n",
       "    </tr>\n",
       "    <tr>\n",
       "      <th>9</th>\n",
       "      <td>0.746177</td>\n",
       "      <td>0.728019</td>\n",
       "      <td>0.707755</td>\n",
       "      <td>0.687151</td>\n",
       "      <td>0.666842</td>\n",
       "      <td>0.644736</td>\n",
       "    </tr>\n",
       "  </tbody>\n",
       "</table>\n",
       "</div>"
      ],
      "text/plain": [
       "        t_0       t_1       t_2       t_3       t_4       t_5\n",
       "0  0.669813  0.651452  0.637385  0.620542  0.602276  0.584980\n",
       "1  0.930499  0.926325  0.921692  0.917396  0.908794  0.903070\n",
       "2  0.890055  0.881777  0.872319  0.861534  0.849145  0.836098\n",
       "3  0.778553  0.765690  0.753260  0.740782  0.722852  0.702893\n",
       "4  0.894397  0.882722  0.870428  0.860392  0.848645  0.837189\n",
       "5  0.739896  0.728828  0.712314  0.693039  0.671088  0.651229\n",
       "6  0.740238  0.717008  0.695530  0.677742  0.659366  0.643653\n",
       "7  0.999202  0.999137  0.999065  0.998999  0.998943  0.998877\n",
       "8  0.974483  0.973020  0.970701  0.968339  0.965750  0.963225\n",
       "9  0.746177  0.728019  0.707755  0.687151  0.666842  0.644736"
      ]
     },
     "execution_count": 290,
     "metadata": {},
     "output_type": "execute_result"
    }
   ],
   "source": [
    "sep_surv_pred['surv']"
   ]
  },
  {
   "cell_type": "code",
   "execution_count": 264,
   "metadata": {
    "collapsed": false
   },
   "outputs": [
    {
     "data": {
      "text/plain": [
       "<matplotlib.axes._subplots.AxesSubplot at 0x8879908>"
      ]
     },
     "execution_count": 264,
     "metadata": {},
     "output_type": "execute_result"
    },
    {
     "data": {
      "image/png": "[encoded data removed]",
      "text/plain": [
       "<matplotlib.figure.Figure at 0x8868518>"
      ]
     },
     "metadata": {},
     "output_type": "display_data"
    }
   ],
   "source": [
    "%matplotlib inline\n",
    "sep_mdl.predict_survival_function(tdf).plot()\n"
   ]
  },
  {
   "cell_type": "code",
   "execution_count": 254,
   "metadata": {
    "collapsed": false
   },
   "outputs": [
    {
     "data": {
      "text/html": [
       "<div>\n",
       "<table border=\"1\" class=\"dataframe\">\n",
       "  <thead>\n",
       "    <tr style=\"text-align: right;\">\n",
       "      <th></th>\n",
       "      <th>0</th>\n",
       "      <th>1</th>\n",
       "      <th>2</th>\n",
       "      <th>3</th>\n",
       "      <th>4</th>\n",
       "      <th>5</th>\n",
       "    </tr>\n",
       "  </thead>\n",
       "  <tbody>\n",
       "    <tr>\n",
       "      <th>0</th>\n",
       "      <td>0.669813</td>\n",
       "      <td>0.651452</td>\n",
       "      <td>0.637385</td>\n",
       "      <td>0.620542</td>\n",
       "      <td>0.602276</td>\n",
       "      <td>0.584980</td>\n",
       "    </tr>\n",
       "    <tr>\n",
       "      <th>1</th>\n",
       "      <td>0.930499</td>\n",
       "      <td>0.926325</td>\n",
       "      <td>0.921692</td>\n",
       "      <td>0.917396</td>\n",
       "      <td>0.908794</td>\n",
       "      <td>0.903070</td>\n",
       "    </tr>\n",
       "    <tr>\n",
       "      <th>2</th>\n",
       "      <td>0.890055</td>\n",
       "      <td>0.881777</td>\n",
       "      <td>0.872319</td>\n",
       "      <td>0.861534</td>\n",
       "      <td>0.849145</td>\n",
       "      <td>0.836098</td>\n",
       "    </tr>\n",
       "    <tr>\n",
       "      <th>3</th>\n",
       "      <td>0.778553</td>\n",
       "      <td>0.765690</td>\n",
       "      <td>0.753260</td>\n",
       "      <td>0.740782</td>\n",
       "      <td>0.722852</td>\n",
       "      <td>0.702893</td>\n",
       "    </tr>\n",
       "    <tr>\n",
       "      <th>4</th>\n",
       "      <td>0.894397</td>\n",
       "      <td>0.882722</td>\n",
       "      <td>0.870428</td>\n",
       "      <td>0.860392</td>\n",
       "      <td>0.848645</td>\n",
       "      <td>0.837189</td>\n",
       "    </tr>\n",
       "    <tr>\n",
       "      <th>5</th>\n",
       "      <td>0.739896</td>\n",
       "      <td>0.728828</td>\n",
       "      <td>0.712314</td>\n",
       "      <td>0.693039</td>\n",
       "      <td>0.671088</td>\n",
       "      <td>0.651229</td>\n",
       "    </tr>\n",
       "    <tr>\n",
       "      <th>6</th>\n",
       "      <td>0.740238</td>\n",
       "      <td>0.717008</td>\n",
       "      <td>0.695530</td>\n",
       "      <td>0.677742</td>\n",
       "      <td>0.659366</td>\n",
       "      <td>0.643653</td>\n",
       "    </tr>\n",
       "    <tr>\n",
       "      <th>7</th>\n",
       "      <td>0.999202</td>\n",
       "      <td>0.999137</td>\n",
       "      <td>0.999065</td>\n",
       "      <td>0.998999</td>\n",
       "      <td>0.998943</td>\n",
       "      <td>0.998877</td>\n",
       "    </tr>\n",
       "    <tr>\n",
       "      <th>8</th>\n",
       "      <td>0.974483</td>\n",
       "      <td>0.973020</td>\n",
       "      <td>0.970701</td>\n",
       "      <td>0.968339</td>\n",
       "      <td>0.965750</td>\n",
       "      <td>0.963225</td>\n",
       "    </tr>\n",
       "    <tr>\n",
       "      <th>9</th>\n",
       "      <td>0.746177</td>\n",
       "      <td>0.728019</td>\n",
       "      <td>0.707755</td>\n",
       "      <td>0.687151</td>\n",
       "      <td>0.666842</td>\n",
       "      <td>0.644736</td>\n",
       "    </tr>\n",
       "  </tbody>\n",
       "</table>\n",
       "</div>"
      ],
      "text/plain": [
       "          0         1         2         3         4         5\n",
       "0  0.669813  0.651452  0.637385  0.620542  0.602276  0.584980\n",
       "1  0.930499  0.926325  0.921692  0.917396  0.908794  0.903070\n",
       "2  0.890055  0.881777  0.872319  0.861534  0.849145  0.836098\n",
       "3  0.778553  0.765690  0.753260  0.740782  0.722852  0.702893\n",
       "4  0.894397  0.882722  0.870428  0.860392  0.848645  0.837189\n",
       "5  0.739896  0.728828  0.712314  0.693039  0.671088  0.651229\n",
       "6  0.740238  0.717008  0.695530  0.677742  0.659366  0.643653\n",
       "7  0.999202  0.999137  0.999065  0.998999  0.998943  0.998877\n",
       "8  0.974483  0.973020  0.970701  0.968339  0.965750  0.963225\n",
       "9  0.746177  0.728019  0.707755  0.687151  0.666842  0.644736"
      ]
     },
     "execution_count": 254,
     "metadata": {},
     "output_type": "execute_result"
    }
   ],
   "source": [
    "pd.DataFrame(np.exp(-np.multiply(specific_cumulative_hazards.values,\n",
    "                                                             ph.values)), index=tdf.index)\n"
   ]
  },
  {
   "cell_type": "code",
   "execution_count": 329,
   "metadata": {
    "collapsed": false
   },
   "outputs": [
    {
     "data": {
      "text/html": [
       "<div>\n",
       "<table border=\"1\" class=\"dataframe\">\n",
       "  <thead>\n",
       "    <tr style=\"text-align: right;\">\n",
       "      <th></th>\n",
       "      <th>t_0</th>\n",
       "      <th>t_1</th>\n",
       "      <th>t_2</th>\n",
       "      <th>t_3</th>\n",
       "      <th>t_4</th>\n",
       "      <th>t_5</th>\n",
       "    </tr>\n",
       "  </thead>\n",
       "  <tbody>\n",
       "    <tr>\n",
       "      <th>0</th>\n",
       "      <td>0.656093</td>\n",
       "      <td>0.637192</td>\n",
       "      <td>0.622731</td>\n",
       "      <td>0.605437</td>\n",
       "      <td>0.586710</td>\n",
       "      <td>0.569004</td>\n",
       "    </tr>\n",
       "    <tr>\n",
       "      <th>1</th>\n",
       "      <td>0.916562</td>\n",
       "      <td>0.911592</td>\n",
       "      <td>0.906080</td>\n",
       "      <td>0.900975</td>\n",
       "      <td>0.890767</td>\n",
       "      <td>0.883987</td>\n",
       "    </tr>\n",
       "    <tr>\n",
       "      <th>2</th>\n",
       "      <td>0.886394</td>\n",
       "      <td>0.877860</td>\n",
       "      <td>0.868112</td>\n",
       "      <td>0.857002</td>\n",
       "      <td>0.844245</td>\n",
       "      <td>0.830818</td>\n",
       "    </tr>\n",
       "    <tr>\n",
       "      <th>3</th>\n",
       "      <td>0.764396</td>\n",
       "      <td>0.750850</td>\n",
       "      <td>0.737775</td>\n",
       "      <td>0.724666</td>\n",
       "      <td>0.705857</td>\n",
       "      <td>0.684960</td>\n",
       "    </tr>\n",
       "    <tr>\n",
       "      <th>4</th>\n",
       "      <td>0.886567</td>\n",
       "      <td>0.874090</td>\n",
       "      <td>0.860964</td>\n",
       "      <td>0.850260</td>\n",
       "      <td>0.837743</td>\n",
       "      <td>0.825551</td>\n",
       "    </tr>\n",
       "    <tr>\n",
       "      <th>5</th>\n",
       "      <td>0.736922</td>\n",
       "      <td>0.725751</td>\n",
       "      <td>0.709090</td>\n",
       "      <td>0.689649</td>\n",
       "      <td>0.667518</td>\n",
       "      <td>0.647504</td>\n",
       "    </tr>\n",
       "    <tr>\n",
       "      <th>6</th>\n",
       "      <td>0.739716</td>\n",
       "      <td>0.716449</td>\n",
       "      <td>0.694938</td>\n",
       "      <td>0.677124</td>\n",
       "      <td>0.658722</td>\n",
       "      <td>0.642988</td>\n",
       "    </tr>\n",
       "    <tr>\n",
       "      <th>7</th>\n",
       "      <td>0.999028</td>\n",
       "      <td>0.998948</td>\n",
       "      <td>0.998861</td>\n",
       "      <td>0.998781</td>\n",
       "      <td>0.998711</td>\n",
       "      <td>0.998632</td>\n",
       "    </tr>\n",
       "    <tr>\n",
       "      <th>8</th>\n",
       "      <td>0.971523</td>\n",
       "      <td>0.969893</td>\n",
       "      <td>0.967310</td>\n",
       "      <td>0.964680</td>\n",
       "      <td>0.961797</td>\n",
       "      <td>0.958987</td>\n",
       "    </tr>\n",
       "    <tr>\n",
       "      <th>9</th>\n",
       "      <td>0.745482</td>\n",
       "      <td>0.727284</td>\n",
       "      <td>0.706977</td>\n",
       "      <td>0.686331</td>\n",
       "      <td>0.665983</td>\n",
       "      <td>0.643836</td>\n",
       "    </tr>\n",
       "  </tbody>\n",
       "</table>\n",
       "</div>"
      ],
      "text/plain": [
       "        t_0       t_1       t_2       t_3       t_4       t_5\n",
       "0  0.656093  0.637192  0.622731  0.605437  0.586710  0.569004\n",
       "1  0.916562  0.911592  0.906080  0.900975  0.890767  0.883987\n",
       "2  0.886394  0.877860  0.868112  0.857002  0.844245  0.830818\n",
       "3  0.764396  0.750850  0.737775  0.724666  0.705857  0.684960\n",
       "4  0.886567  0.874090  0.860964  0.850260  0.837743  0.825551\n",
       "5  0.736922  0.725751  0.709090  0.689649  0.667518  0.647504\n",
       "6  0.739716  0.716449  0.694938  0.677124  0.658722  0.642988\n",
       "7  0.999028  0.998948  0.998861  0.998781  0.998711  0.998632\n",
       "8  0.971523  0.969893  0.967310  0.964680  0.961797  0.958987\n",
       "9  0.745482  0.727284  0.706977  0.686331  0.665983  0.643836"
      ]
     },
     "execution_count": 329,
     "metadata": {},
     "output_type": "execute_result"
    }
   ],
   "source": [
    "sep_surv_pred['lbci']"
   ]
  },
  {
   "cell_type": "code",
   "execution_count": 330,
   "metadata": {
    "collapsed": false
   },
   "outputs": [
    {
     "data": {
      "text/html": [
       "<div>\n",
       "<table border=\"1\" class=\"dataframe\">\n",
       "  <thead>\n",
       "    <tr style=\"text-align: right;\">\n",
       "      <th></th>\n",
       "      <th>t_0</th>\n",
       "      <th>t_1</th>\n",
       "      <th>t_2</th>\n",
       "      <th>t_3</th>\n",
       "      <th>t_4</th>\n",
       "      <th>t_5</th>\n",
       "    </tr>\n",
       "  </thead>\n",
       "  <tbody>\n",
       "    <tr>\n",
       "      <th>0</th>\n",
       "      <td>0.683126</td>\n",
       "      <td>0.665307</td>\n",
       "      <td>0.651639</td>\n",
       "      <td>0.635255</td>\n",
       "      <td>0.617461</td>\n",
       "      <td>0.600588</td>\n",
       "    </tr>\n",
       "    <tr>\n",
       "      <th>1</th>\n",
       "      <td>0.942181</td>\n",
       "      <td>0.938685</td>\n",
       "      <td>0.934802</td>\n",
       "      <td>0.931198</td>\n",
       "      <td>0.923973</td>\n",
       "      <td>0.919159</td>\n",
       "    </tr>\n",
       "    <tr>\n",
       "      <th>2</th>\n",
       "      <td>0.893605</td>\n",
       "      <td>0.885577</td>\n",
       "      <td>0.876401</td>\n",
       "      <td>0.865933</td>\n",
       "      <td>0.853904</td>\n",
       "      <td>0.841229</td>\n",
       "    </tr>\n",
       "    <tr>\n",
       "      <th>3</th>\n",
       "      <td>0.791978</td>\n",
       "      <td>0.779780</td>\n",
       "      <td>0.767980</td>\n",
       "      <td>0.756120</td>\n",
       "      <td>0.739054</td>\n",
       "      <td>0.720024</td>\n",
       "    </tr>\n",
       "    <tr>\n",
       "      <th>4</th>\n",
       "      <td>0.901716</td>\n",
       "      <td>0.890800</td>\n",
       "      <td>0.879293</td>\n",
       "      <td>0.869892</td>\n",
       "      <td>0.858877</td>\n",
       "      <td>0.848124</td>\n",
       "    </tr>\n",
       "    <tr>\n",
       "      <th>5</th>\n",
       "      <td>0.742843</td>\n",
       "      <td>0.731877</td>\n",
       "      <td>0.715510</td>\n",
       "      <td>0.696400</td>\n",
       "      <td>0.674629</td>\n",
       "      <td>0.654925</td>\n",
       "    </tr>\n",
       "    <tr>\n",
       "      <th>6</th>\n",
       "      <td>0.740760</td>\n",
       "      <td>0.717566</td>\n",
       "      <td>0.696121</td>\n",
       "      <td>0.678359</td>\n",
       "      <td>0.660009</td>\n",
       "      <td>0.644317</td>\n",
       "    </tr>\n",
       "    <tr>\n",
       "      <th>7</th>\n",
       "      <td>0.999345</td>\n",
       "      <td>0.999292</td>\n",
       "      <td>0.999233</td>\n",
       "      <td>0.999179</td>\n",
       "      <td>0.999132</td>\n",
       "      <td>0.999079</td>\n",
       "    </tr>\n",
       "    <tr>\n",
       "      <th>8</th>\n",
       "      <td>0.977139</td>\n",
       "      <td>0.975826</td>\n",
       "      <td>0.973745</td>\n",
       "      <td>0.971625</td>\n",
       "      <td>0.969300</td>\n",
       "      <td>0.967033</td>\n",
       "    </tr>\n",
       "    <tr>\n",
       "      <th>9</th>\n",
       "      <td>0.746870</td>\n",
       "      <td>0.728752</td>\n",
       "      <td>0.708532</td>\n",
       "      <td>0.687969</td>\n",
       "      <td>0.667700</td>\n",
       "      <td>0.645634</td>\n",
       "    </tr>\n",
       "  </tbody>\n",
       "</table>\n",
       "</div>"
      ],
      "text/plain": [
       "        t_0       t_1       t_2       t_3       t_4       t_5\n",
       "0  0.683126  0.665307  0.651639  0.635255  0.617461  0.600588\n",
       "1  0.942181  0.938685  0.934802  0.931198  0.923973  0.919159\n",
       "2  0.893605  0.885577  0.876401  0.865933  0.853904  0.841229\n",
       "3  0.791978  0.779780  0.767980  0.756120  0.739054  0.720024\n",
       "4  0.901716  0.890800  0.879293  0.869892  0.858877  0.848124\n",
       "5  0.742843  0.731877  0.715510  0.696400  0.674629  0.654925\n",
       "6  0.740760  0.717566  0.696121  0.678359  0.660009  0.644317\n",
       "7  0.999345  0.999292  0.999233  0.999179  0.999132  0.999079\n",
       "8  0.977139  0.975826  0.973745  0.971625  0.969300  0.967033\n",
       "9  0.746870  0.728752  0.708532  0.687969  0.667700  0.645634"
      ]
     },
     "execution_count": 330,
     "metadata": {},
     "output_type": "execute_result"
    }
   ],
   "source": [
    "sep_surv_pred['ubci']"
   ]
  },
  {
   "cell_type": "code",
   "execution_count": 331,
   "metadata": {
    "collapsed": false
   },
   "outputs": [
    {
     "data": {
      "text/html": [
       "<div>\n",
       "<table border=\"1\" class=\"dataframe\">\n",
       "  <thead>\n",
       "    <tr style=\"text-align: right;\">\n",
       "      <th></th>\n",
       "      <th>t_0</th>\n",
       "      <th>t_1</th>\n",
       "      <th>t_2</th>\n",
       "      <th>t_3</th>\n",
       "      <th>t_4</th>\n",
       "      <th>t_5</th>\n",
       "    </tr>\n",
       "  </thead>\n",
       "  <tbody>\n",
       "    <tr>\n",
       "      <th>0</th>\n",
       "      <td>0.669813</td>\n",
       "      <td>0.651452</td>\n",
       "      <td>0.637385</td>\n",
       "      <td>0.620542</td>\n",
       "      <td>0.602276</td>\n",
       "      <td>0.584980</td>\n",
       "    </tr>\n",
       "    <tr>\n",
       "      <th>1</th>\n",
       "      <td>0.930499</td>\n",
       "      <td>0.926325</td>\n",
       "      <td>0.921692</td>\n",
       "      <td>0.917396</td>\n",
       "      <td>0.908794</td>\n",
       "      <td>0.903070</td>\n",
       "    </tr>\n",
       "    <tr>\n",
       "      <th>2</th>\n",
       "      <td>0.890055</td>\n",
       "      <td>0.881777</td>\n",
       "      <td>0.872319</td>\n",
       "      <td>0.861534</td>\n",
       "      <td>0.849145</td>\n",
       "      <td>0.836098</td>\n",
       "    </tr>\n",
       "    <tr>\n",
       "      <th>3</th>\n",
       "      <td>0.778553</td>\n",
       "      <td>0.765690</td>\n",
       "      <td>0.753260</td>\n",
       "      <td>0.740782</td>\n",
       "      <td>0.722852</td>\n",
       "      <td>0.702893</td>\n",
       "    </tr>\n",
       "    <tr>\n",
       "      <th>4</th>\n",
       "      <td>0.894397</td>\n",
       "      <td>0.882722</td>\n",
       "      <td>0.870428</td>\n",
       "      <td>0.860392</td>\n",
       "      <td>0.848645</td>\n",
       "      <td>0.837189</td>\n",
       "    </tr>\n",
       "    <tr>\n",
       "      <th>5</th>\n",
       "      <td>0.739896</td>\n",
       "      <td>0.728828</td>\n",
       "      <td>0.712314</td>\n",
       "      <td>0.693039</td>\n",
       "      <td>0.671088</td>\n",
       "      <td>0.651229</td>\n",
       "    </tr>\n",
       "    <tr>\n",
       "      <th>6</th>\n",
       "      <td>0.740238</td>\n",
       "      <td>0.717008</td>\n",
       "      <td>0.695530</td>\n",
       "      <td>0.677742</td>\n",
       "      <td>0.659366</td>\n",
       "      <td>0.643653</td>\n",
       "    </tr>\n",
       "    <tr>\n",
       "      <th>7</th>\n",
       "      <td>0.999202</td>\n",
       "      <td>0.999137</td>\n",
       "      <td>0.999065</td>\n",
       "      <td>0.998999</td>\n",
       "      <td>0.998943</td>\n",
       "      <td>0.998877</td>\n",
       "    </tr>\n",
       "    <tr>\n",
       "      <th>8</th>\n",
       "      <td>0.974483</td>\n",
       "      <td>0.973020</td>\n",
       "      <td>0.970701</td>\n",
       "      <td>0.968339</td>\n",
       "      <td>0.965750</td>\n",
       "      <td>0.963225</td>\n",
       "    </tr>\n",
       "    <tr>\n",
       "      <th>9</th>\n",
       "      <td>0.746177</td>\n",
       "      <td>0.728019</td>\n",
       "      <td>0.707755</td>\n",
       "      <td>0.687151</td>\n",
       "      <td>0.666842</td>\n",
       "      <td>0.644736</td>\n",
       "    </tr>\n",
       "  </tbody>\n",
       "</table>\n",
       "</div>"
      ],
      "text/plain": [
       "        t_0       t_1       t_2       t_3       t_4       t_5\n",
       "0  0.669813  0.651452  0.637385  0.620542  0.602276  0.584980\n",
       "1  0.930499  0.926325  0.921692  0.917396  0.908794  0.903070\n",
       "2  0.890055  0.881777  0.872319  0.861534  0.849145  0.836098\n",
       "3  0.778553  0.765690  0.753260  0.740782  0.722852  0.702893\n",
       "4  0.894397  0.882722  0.870428  0.860392  0.848645  0.837189\n",
       "5  0.739896  0.728828  0.712314  0.693039  0.671088  0.651229\n",
       "6  0.740238  0.717008  0.695530  0.677742  0.659366  0.643653\n",
       "7  0.999202  0.999137  0.999065  0.998999  0.998943  0.998877\n",
       "8  0.974483  0.973020  0.970701  0.968339  0.965750  0.963225\n",
       "9  0.746177  0.728019  0.707755  0.687151  0.666842  0.644736"
      ]
     },
     "execution_count": 331,
     "metadata": {},
     "output_type": "execute_result"
    }
   ],
   "source": [
    "sep_surv_pred['surv']"
   ]
  },
  {
   "cell_type": "code",
   "execution_count": 212,
   "metadata": {
    "collapsed": false
   },
   "outputs": [
    {
     "data": {
      "text/html": [
       "<div>\n",
       "<table border=\"1\" class=\"dataframe\">\n",
       "  <thead>\n",
       "    <tr style=\"text-align: right;\">\n",
       "      <th></th>\n",
       "      <th>t_0</th>\n",
       "      <th>t_1</th>\n",
       "      <th>t_2</th>\n",
       "      <th>t_3</th>\n",
       "      <th>t_4</th>\n",
       "      <th>t_5</th>\n",
       "    </tr>\n",
       "  </thead>\n",
       "  <tbody>\n",
       "    <tr>\n",
       "      <th>0</th>\n",
       "      <td>0.669813</td>\n",
       "      <td>0.651452</td>\n",
       "      <td>0.637385</td>\n",
       "      <td>0.620542</td>\n",
       "      <td>0.602276</td>\n",
       "      <td>0.584980</td>\n",
       "    </tr>\n",
       "    <tr>\n",
       "      <th>1</th>\n",
       "      <td>0.930499</td>\n",
       "      <td>0.926325</td>\n",
       "      <td>0.921692</td>\n",
       "      <td>0.917396</td>\n",
       "      <td>0.908794</td>\n",
       "      <td>0.903070</td>\n",
       "    </tr>\n",
       "    <tr>\n",
       "      <th>2</th>\n",
       "      <td>0.890055</td>\n",
       "      <td>0.881777</td>\n",
       "      <td>0.872319</td>\n",
       "      <td>0.861534</td>\n",
       "      <td>0.849145</td>\n",
       "      <td>0.836098</td>\n",
       "    </tr>\n",
       "    <tr>\n",
       "      <th>3</th>\n",
       "      <td>0.778553</td>\n",
       "      <td>0.765690</td>\n",
       "      <td>0.753260</td>\n",
       "      <td>0.740782</td>\n",
       "      <td>0.722852</td>\n",
       "      <td>0.702893</td>\n",
       "    </tr>\n",
       "    <tr>\n",
       "      <th>4</th>\n",
       "      <td>0.894397</td>\n",
       "      <td>0.882722</td>\n",
       "      <td>0.870428</td>\n",
       "      <td>0.860392</td>\n",
       "      <td>0.848645</td>\n",
       "      <td>0.837189</td>\n",
       "    </tr>\n",
       "    <tr>\n",
       "      <th>5</th>\n",
       "      <td>0.739896</td>\n",
       "      <td>0.728828</td>\n",
       "      <td>0.712314</td>\n",
       "      <td>0.693039</td>\n",
       "      <td>0.671088</td>\n",
       "      <td>0.651229</td>\n",
       "    </tr>\n",
       "    <tr>\n",
       "      <th>6</th>\n",
       "      <td>0.740238</td>\n",
       "      <td>0.717008</td>\n",
       "      <td>0.695530</td>\n",
       "      <td>0.677742</td>\n",
       "      <td>0.659366</td>\n",
       "      <td>0.643653</td>\n",
       "    </tr>\n",
       "    <tr>\n",
       "      <th>7</th>\n",
       "      <td>0.999202</td>\n",
       "      <td>0.999137</td>\n",
       "      <td>0.999065</td>\n",
       "      <td>0.998999</td>\n",
       "      <td>0.998943</td>\n",
       "      <td>0.998877</td>\n",
       "    </tr>\n",
       "    <tr>\n",
       "      <th>8</th>\n",
       "      <td>0.974483</td>\n",
       "      <td>0.973020</td>\n",
       "      <td>0.970701</td>\n",
       "      <td>0.968339</td>\n",
       "      <td>0.965750</td>\n",
       "      <td>0.963225</td>\n",
       "    </tr>\n",
       "    <tr>\n",
       "      <th>9</th>\n",
       "      <td>0.746177</td>\n",
       "      <td>0.728019</td>\n",
       "      <td>0.707755</td>\n",
       "      <td>0.687151</td>\n",
       "      <td>0.666842</td>\n",
       "      <td>0.644736</td>\n",
       "    </tr>\n",
       "  </tbody>\n",
       "</table>\n",
       "</div>"
      ],
      "text/plain": [
       "        t_0       t_1       t_2       t_3       t_4       t_5\n",
       "0  0.669813  0.651452  0.637385  0.620542  0.602276  0.584980\n",
       "1  0.930499  0.926325  0.921692  0.917396  0.908794  0.903070\n",
       "2  0.890055  0.881777  0.872319  0.861534  0.849145  0.836098\n",
       "3  0.778553  0.765690  0.753260  0.740782  0.722852  0.702893\n",
       "4  0.894397  0.882722  0.870428  0.860392  0.848645  0.837189\n",
       "5  0.739896  0.728828  0.712314  0.693039  0.671088  0.651229\n",
       "6  0.740238  0.717008  0.695530  0.677742  0.659366  0.643653\n",
       "7  0.999202  0.999137  0.999065  0.998999  0.998943  0.998877\n",
       "8  0.974483  0.973020  0.970701  0.968339  0.965750  0.963225\n",
       "9  0.746177  0.728019  0.707755  0.687151  0.666842  0.644736"
      ]
     },
     "execution_count": 212,
     "metadata": {},
     "output_type": "execute_result"
    }
   ],
   "source": [
    "sep_surv_pred['surv']"
   ]
  },
  {
   "cell_type": "code",
   "execution_count": 332,
   "metadata": {
    "collapsed": false
   },
   "outputs": [
    {
     "data": {
      "text/plain": [
       "<class 'pandas.core.panel.Panel'>\n",
       "Dimensions: 3 (items) x 10 (major_axis) x 6 (minor_axis)\n",
       "Items axis: lbci to ubci\n",
       "Major_axis axis: 0 to 9\n",
       "Minor_axis axis: t_0 to t_5"
      ]
     },
     "execution_count": 332,
     "metadata": {},
     "output_type": "execute_result"
    }
   ],
   "source": [
    "#input_type = str(type(sep_surv_pred))\n",
    "#if 'Panel' in input_type:\n",
    "sep_prob = sep_surv_pred.copy()\n",
    "for item in sep_surv_pred.items:\n",
    "    sep_prob[item]=1-sep_surv_pred[item]\n",
    "\n",
    "sep_prob\n",
    "#print(sep_surv_pred[item].shape)"
   ]
  },
  {
   "cell_type": "code",
   "execution_count": 333,
   "metadata": {
    "collapsed": false
   },
   "outputs": [
    {
     "data": {
      "text/html": [
       "<div>\n",
       "<table border=\"1\" class=\"dataframe\">\n",
       "  <thead>\n",
       "    <tr style=\"text-align: right;\">\n",
       "      <th></th>\n",
       "      <th>t_0</th>\n",
       "      <th>t_1</th>\n",
       "      <th>t_2</th>\n",
       "      <th>t_3</th>\n",
       "      <th>t_4</th>\n",
       "      <th>t_5</th>\n",
       "    </tr>\n",
       "  </thead>\n",
       "  <tbody>\n",
       "    <tr>\n",
       "      <th>0</th>\n",
       "      <td>0.330187</td>\n",
       "      <td>0.348548</td>\n",
       "      <td>0.362615</td>\n",
       "      <td>0.379458</td>\n",
       "      <td>0.397724</td>\n",
       "      <td>0.415020</td>\n",
       "    </tr>\n",
       "    <tr>\n",
       "      <th>1</th>\n",
       "      <td>0.069501</td>\n",
       "      <td>0.073675</td>\n",
       "      <td>0.078308</td>\n",
       "      <td>0.082604</td>\n",
       "      <td>0.091206</td>\n",
       "      <td>0.096930</td>\n",
       "    </tr>\n",
       "    <tr>\n",
       "      <th>2</th>\n",
       "      <td>0.109945</td>\n",
       "      <td>0.118223</td>\n",
       "      <td>0.127681</td>\n",
       "      <td>0.138466</td>\n",
       "      <td>0.150855</td>\n",
       "      <td>0.163902</td>\n",
       "    </tr>\n",
       "    <tr>\n",
       "      <th>3</th>\n",
       "      <td>0.221447</td>\n",
       "      <td>0.234310</td>\n",
       "      <td>0.246740</td>\n",
       "      <td>0.259218</td>\n",
       "      <td>0.277148</td>\n",
       "      <td>0.297107</td>\n",
       "    </tr>\n",
       "    <tr>\n",
       "      <th>4</th>\n",
       "      <td>0.105603</td>\n",
       "      <td>0.117278</td>\n",
       "      <td>0.129572</td>\n",
       "      <td>0.139608</td>\n",
       "      <td>0.151355</td>\n",
       "      <td>0.162811</td>\n",
       "    </tr>\n",
       "    <tr>\n",
       "      <th>5</th>\n",
       "      <td>0.260104</td>\n",
       "      <td>0.271172</td>\n",
       "      <td>0.287686</td>\n",
       "      <td>0.306961</td>\n",
       "      <td>0.328912</td>\n",
       "      <td>0.348771</td>\n",
       "    </tr>\n",
       "    <tr>\n",
       "      <th>6</th>\n",
       "      <td>0.259762</td>\n",
       "      <td>0.282992</td>\n",
       "      <td>0.304470</td>\n",
       "      <td>0.322258</td>\n",
       "      <td>0.340634</td>\n",
       "      <td>0.356347</td>\n",
       "    </tr>\n",
       "    <tr>\n",
       "      <th>7</th>\n",
       "      <td>0.000798</td>\n",
       "      <td>0.000863</td>\n",
       "      <td>0.000935</td>\n",
       "      <td>0.001001</td>\n",
       "      <td>0.001057</td>\n",
       "      <td>0.001123</td>\n",
       "    </tr>\n",
       "    <tr>\n",
       "      <th>8</th>\n",
       "      <td>0.025517</td>\n",
       "      <td>0.026980</td>\n",
       "      <td>0.029299</td>\n",
       "      <td>0.031661</td>\n",
       "      <td>0.034250</td>\n",
       "      <td>0.036775</td>\n",
       "    </tr>\n",
       "    <tr>\n",
       "      <th>9</th>\n",
       "      <td>0.253823</td>\n",
       "      <td>0.271981</td>\n",
       "      <td>0.292245</td>\n",
       "      <td>0.312849</td>\n",
       "      <td>0.333158</td>\n",
       "      <td>0.355264</td>\n",
       "    </tr>\n",
       "  </tbody>\n",
       "</table>\n",
       "</div>"
      ],
      "text/plain": [
       "        t_0       t_1       t_2       t_3       t_4       t_5\n",
       "0  0.330187  0.348548  0.362615  0.379458  0.397724  0.415020\n",
       "1  0.069501  0.073675  0.078308  0.082604  0.091206  0.096930\n",
       "2  0.109945  0.118223  0.127681  0.138466  0.150855  0.163902\n",
       "3  0.221447  0.234310  0.246740  0.259218  0.277148  0.297107\n",
       "4  0.105603  0.117278  0.129572  0.139608  0.151355  0.162811\n",
       "5  0.260104  0.271172  0.287686  0.306961  0.328912  0.348771\n",
       "6  0.259762  0.282992  0.304470  0.322258  0.340634  0.356347\n",
       "7  0.000798  0.000863  0.000935  0.001001  0.001057  0.001123\n",
       "8  0.025517  0.026980  0.029299  0.031661  0.034250  0.036775\n",
       "9  0.253823  0.271981  0.292245  0.312849  0.333158  0.355264"
      ]
     },
     "execution_count": 333,
     "metadata": {},
     "output_type": "execute_result"
    }
   ],
   "source": [
    "sep_prob['surv']"
   ]
  },
  {
   "cell_type": "code",
   "execution_count": 335,
   "metadata": {
    "collapsed": false
   },
   "outputs": [
    {
     "data": {
      "text/html": [
       "<div>\n",
       "<table border=\"1\" class=\"dataframe\">\n",
       "  <thead>\n",
       "    <tr style=\"text-align: right;\">\n",
       "      <th></th>\n",
       "      <th>t_0</th>\n",
       "      <th>t_1</th>\n",
       "      <th>t_2</th>\n",
       "      <th>t_3</th>\n",
       "      <th>t_4</th>\n",
       "      <th>t_5</th>\n",
       "    </tr>\n",
       "  </thead>\n",
       "  <tbody>\n",
       "    <tr>\n",
       "      <th>0</th>\n",
       "      <td>0.343907</td>\n",
       "      <td>0.362808</td>\n",
       "      <td>0.377269</td>\n",
       "      <td>0.394563</td>\n",
       "      <td>0.413290</td>\n",
       "      <td>0.430996</td>\n",
       "    </tr>\n",
       "    <tr>\n",
       "      <th>1</th>\n",
       "      <td>0.083438</td>\n",
       "      <td>0.088408</td>\n",
       "      <td>0.093920</td>\n",
       "      <td>0.099025</td>\n",
       "      <td>0.109233</td>\n",
       "      <td>0.116013</td>\n",
       "    </tr>\n",
       "    <tr>\n",
       "      <th>2</th>\n",
       "      <td>0.113606</td>\n",
       "      <td>0.122140</td>\n",
       "      <td>0.131888</td>\n",
       "      <td>0.142998</td>\n",
       "      <td>0.155755</td>\n",
       "      <td>0.169182</td>\n",
       "    </tr>\n",
       "    <tr>\n",
       "      <th>3</th>\n",
       "      <td>0.235604</td>\n",
       "      <td>0.249150</td>\n",
       "      <td>0.262225</td>\n",
       "      <td>0.275334</td>\n",
       "      <td>0.294143</td>\n",
       "      <td>0.315040</td>\n",
       "    </tr>\n",
       "    <tr>\n",
       "      <th>4</th>\n",
       "      <td>0.113433</td>\n",
       "      <td>0.125910</td>\n",
       "      <td>0.139036</td>\n",
       "      <td>0.149740</td>\n",
       "      <td>0.162257</td>\n",
       "      <td>0.174449</td>\n",
       "    </tr>\n",
       "    <tr>\n",
       "      <th>5</th>\n",
       "      <td>0.263078</td>\n",
       "      <td>0.274249</td>\n",
       "      <td>0.290910</td>\n",
       "      <td>0.310351</td>\n",
       "      <td>0.332482</td>\n",
       "      <td>0.352496</td>\n",
       "    </tr>\n",
       "    <tr>\n",
       "      <th>6</th>\n",
       "      <td>0.260284</td>\n",
       "      <td>0.283551</td>\n",
       "      <td>0.305062</td>\n",
       "      <td>0.322876</td>\n",
       "      <td>0.341278</td>\n",
       "      <td>0.357012</td>\n",
       "    </tr>\n",
       "    <tr>\n",
       "      <th>7</th>\n",
       "      <td>0.000972</td>\n",
       "      <td>0.001052</td>\n",
       "      <td>0.001139</td>\n",
       "      <td>0.001219</td>\n",
       "      <td>0.001289</td>\n",
       "      <td>0.001368</td>\n",
       "    </tr>\n",
       "    <tr>\n",
       "      <th>8</th>\n",
       "      <td>0.028477</td>\n",
       "      <td>0.030107</td>\n",
       "      <td>0.032690</td>\n",
       "      <td>0.035320</td>\n",
       "      <td>0.038203</td>\n",
       "      <td>0.041013</td>\n",
       "    </tr>\n",
       "    <tr>\n",
       "      <th>9</th>\n",
       "      <td>0.254518</td>\n",
       "      <td>0.272716</td>\n",
       "      <td>0.293023</td>\n",
       "      <td>0.313669</td>\n",
       "      <td>0.334017</td>\n",
       "      <td>0.356164</td>\n",
       "    </tr>\n",
       "  </tbody>\n",
       "</table>\n",
       "</div>"
      ],
      "text/plain": [
       "        t_0       t_1       t_2       t_3       t_4       t_5\n",
       "0  0.343907  0.362808  0.377269  0.394563  0.413290  0.430996\n",
       "1  0.083438  0.088408  0.093920  0.099025  0.109233  0.116013\n",
       "2  0.113606  0.122140  0.131888  0.142998  0.155755  0.169182\n",
       "3  0.235604  0.249150  0.262225  0.275334  0.294143  0.315040\n",
       "4  0.113433  0.125910  0.139036  0.149740  0.162257  0.174449\n",
       "5  0.263078  0.274249  0.290910  0.310351  0.332482  0.352496\n",
       "6  0.260284  0.283551  0.305062  0.322876  0.341278  0.357012\n",
       "7  0.000972  0.001052  0.001139  0.001219  0.001289  0.001368\n",
       "8  0.028477  0.030107  0.032690  0.035320  0.038203  0.041013\n",
       "9  0.254518  0.272716  0.293023  0.313669  0.334017  0.356164"
      ]
     },
     "execution_count": 335,
     "metadata": {},
     "output_type": "execute_result"
    }
   ],
   "source": [
    "sep_prob['ubci']#, sep_prob['ubci']\n",
    "sep_prob['lbci']"
   ]
  },
  {
   "cell_type": "code",
   "execution_count": 339,
   "metadata": {
    "collapsed": false
   },
   "outputs": [
    {
     "data": {
      "text/plain": [
       "0    929965184037557\n",
       "1    872454415016088\n",
       "2    247046588569436\n",
       "3    980835578861104\n",
       "4    831802700567899\n",
       "5    612245620047788\n",
       "6    673774298594228\n",
       "7     53680010164939\n",
       "8    361010560468310\n",
       "9    688423451822448\n",
       "Name: KEY, dtype: object"
      ]
     },
     "execution_count": 339,
     "metadata": {},
     "output_type": "execute_result"
    }
   ],
   "source": []
  },
  {
   "cell_type": "code",
   "execution_count": 341,
   "metadata": {
    "collapsed": false
   },
   "outputs": [
    {
     "data": {
      "text/html": [
       "<div>\n",
       "<table border=\"1\" class=\"dataframe\">\n",
       "  <thead>\n",
       "    <tr style=\"text-align: right;\">\n",
       "      <th></th>\n",
       "      <th>KEY</th>\n",
       "    </tr>\n",
       "  </thead>\n",
       "  <tbody>\n",
       "    <tr>\n",
       "      <th>0</th>\n",
       "      <td>929965184037557</td>\n",
       "    </tr>\n",
       "    <tr>\n",
       "      <th>1</th>\n",
       "      <td>872454415016088</td>\n",
       "    </tr>\n",
       "    <tr>\n",
       "      <th>2</th>\n",
       "      <td>247046588569436</td>\n",
       "    </tr>\n",
       "    <tr>\n",
       "      <th>3</th>\n",
       "      <td>980835578861104</td>\n",
       "    </tr>\n",
       "    <tr>\n",
       "      <th>4</th>\n",
       "      <td>831802700567899</td>\n",
       "    </tr>\n",
       "    <tr>\n",
       "      <th>5</th>\n",
       "      <td>612245620047788</td>\n",
       "    </tr>\n",
       "    <tr>\n",
       "      <th>6</th>\n",
       "      <td>673774298594228</td>\n",
       "    </tr>\n",
       "    <tr>\n",
       "      <th>7</th>\n",
       "      <td>53680010164939</td>\n",
       "    </tr>\n",
       "    <tr>\n",
       "      <th>8</th>\n",
       "      <td>361010560468310</td>\n",
       "    </tr>\n",
       "    <tr>\n",
       "      <th>9</th>\n",
       "      <td>688423451822448</td>\n",
       "    </tr>\n",
       "  </tbody>\n",
       "</table>\n",
       "</div>"
      ],
      "text/plain": [
       "               KEY\n",
       "0  929965184037557\n",
       "1  872454415016088\n",
       "2  247046588569436\n",
       "3  980835578861104\n",
       "4  831802700567899\n",
       "5  612245620047788\n",
       "6  673774298594228\n",
       "7   53680010164939\n",
       "8  361010560468310\n",
       "9  688423451822448"
      ]
     },
     "execution_count": 341,
     "metadata": {},
     "output_type": "execute_result"
    }
   ],
   "source": [
    "pd.DataFrame(edf['KEY'])"
   ]
  },
  {
   "cell_type": "code",
   "execution_count": 346,
   "metadata": {
    "collapsed": false
   },
   "outputs": [
    {
     "data": {
      "text/plain": [
       "['ret_pred_0',\n",
       " 'ret_pred_1',\n",
       " 'ret_pred_2',\n",
       " 'ret_pred_3',\n",
       " 'ret_pred_4',\n",
       " 'ret_pred_5']"
      ]
     },
     "execution_count": 346,
     "metadata": {},
     "output_type": "execute_result"
    }
   ],
   "source": [
    "[a.replace('t','ret_pred') for a in sep_surv_pred.minor_axis.tolist()]"
   ]
  },
  {
   "cell_type": "code",
   "execution_count": 357,
   "metadata": {
    "collapsed": false
   },
   "outputs": [
    {
     "data": {
      "text/plain": [
       "(8, 10)"
      ]
     },
     "execution_count": 357,
     "metadata": {},
     "output_type": "execute_result"
    }
   ],
   "source": [
    "len(ret_surv_pred['surv']), len(pd.DataFrame(edf['KEY']))"
   ]
  },
  {
   "cell_type": "code",
   "execution_count": 396,
   "metadata": {
    "collapsed": false
   },
   "outputs": [],
   "source": [
    "\"\"\"\"def convert_surv_to_prob(surv_pred,pred_type,keyed_df):\n",
    "    prob = surv_pred.copy()\n",
    "    \n",
    "    for item in surv_pred.items:\n",
    "        prob[item] = pd.concat([keyed_df,1-surv_pred[item]],axis=1)\n",
    "        \n",
    "        #prob[item]=pd.concat([keyed_df,1-surv_pred[item]],axis=1)\n",
    "                             \n",
    "    # now check that lengths match\n",
    "    #if len(surv_pred['surv'])!=len(keyed_df):\n",
    "    #    for item in surv_pred.items:\n",
    "    #        prob[item]\n",
    "    #timepoint_cols = surv_pred.minor_axis.tolist()    \n",
    "    if pred_type =='ret':\n",
    "        rep_string = 'ret_prob'\n",
    "    elif pred_type == 'sep':\n",
    "        rep_string = 'sep_prob'\n",
    "    \n",
    "    prob.minor_axis = [a.replace('t',rep_string) for a in prob.minor_axis.tolist()]\n",
    "\n",
    "    return prob\n",
    "    \"\"\""
   ]
  },
  {
   "cell_type": "code",
   "execution_count": 400,
   "metadata": {
    "collapsed": false
   },
   "outputs": [
    {
     "data": {
      "text/plain": [
       "<class 'pandas.core.panel.Panel'>\n",
       "Dimensions: 3 (items) x 8 (major_axis) x 6 (minor_axis)\n",
       "Items axis: lbci to ubci\n",
       "Major_axis axis: 0 to 9\n",
       "Minor_axis axis: ret_prob_0 to ret_prob_5"
      ]
     },
     "execution_count": 400,
     "metadata": {},
     "output_type": "execute_result"
    }
   ],
   "source": [
    "r2 = convert_surv_to_prob(ret_surv_pred,'ret',kdf)\n",
    "r2"
   ]
  },
  {
   "cell_type": "code",
   "execution_count": 401,
   "metadata": {
    "collapsed": false
   },
   "outputs": [
    {
     "data": {
      "text/html": [
       "<div>\n",
       "<table border=\"1\" class=\"dataframe\">\n",
       "  <thead>\n",
       "    <tr style=\"text-align: right;\">\n",
       "      <th></th>\n",
       "      <th>ret_prob_0</th>\n",
       "      <th>ret_prob_1</th>\n",
       "      <th>ret_prob_2</th>\n",
       "      <th>ret_prob_3</th>\n",
       "      <th>ret_prob_4</th>\n",
       "      <th>ret_prob_5</th>\n",
       "    </tr>\n",
       "  </thead>\n",
       "  <tbody>\n",
       "    <tr>\n",
       "      <th>0</th>\n",
       "      <td>0.714605</td>\n",
       "      <td>0.760385</td>\n",
       "      <td>0.801521</td>\n",
       "      <td>0.840423</td>\n",
       "      <td>0.875270</td>\n",
       "      <td>0.902407</td>\n",
       "    </tr>\n",
       "    <tr>\n",
       "      <th>1</th>\n",
       "      <td>0.490477</td>\n",
       "      <td>0.533840</td>\n",
       "      <td>0.578892</td>\n",
       "      <td>0.621604</td>\n",
       "      <td>0.673162</td>\n",
       "      <td>0.729349</td>\n",
       "    </tr>\n",
       "    <tr>\n",
       "      <th>2</th>\n",
       "      <td>0.169326</td>\n",
       "      <td>0.181262</td>\n",
       "      <td>0.194641</td>\n",
       "      <td>0.211339</td>\n",
       "      <td>0.227534</td>\n",
       "      <td>0.243582</td>\n",
       "    </tr>\n",
       "    <tr>\n",
       "      <th>5</th>\n",
       "      <td>0.206971</td>\n",
       "      <td>0.220267</td>\n",
       "      <td>0.237096</td>\n",
       "      <td>0.260972</td>\n",
       "      <td>0.290522</td>\n",
       "      <td>0.324579</td>\n",
       "    </tr>\n",
       "    <tr>\n",
       "      <th>6</th>\n",
       "      <td>0.148933</td>\n",
       "      <td>0.160962</td>\n",
       "      <td>0.172393</td>\n",
       "      <td>0.183705</td>\n",
       "      <td>0.193276</td>\n",
       "      <td>0.205493</td>\n",
       "    </tr>\n",
       "    <tr>\n",
       "      <th>7</th>\n",
       "      <td>0.216655</td>\n",
       "      <td>0.240781</td>\n",
       "      <td>0.269129</td>\n",
       "      <td>0.302119</td>\n",
       "      <td>0.340576</td>\n",
       "      <td>0.385182</td>\n",
       "    </tr>\n",
       "    <tr>\n",
       "      <th>8</th>\n",
       "      <td>0.123643</td>\n",
       "      <td>0.132615</td>\n",
       "      <td>0.145108</td>\n",
       "      <td>0.162531</td>\n",
       "      <td>0.182712</td>\n",
       "      <td>0.207977</td>\n",
       "    </tr>\n",
       "    <tr>\n",
       "      <th>9</th>\n",
       "      <td>0.061930</td>\n",
       "      <td>0.067385</td>\n",
       "      <td>0.072838</td>\n",
       "      <td>0.078567</td>\n",
       "      <td>0.084532</td>\n",
       "      <td>0.091365</td>\n",
       "    </tr>\n",
       "  </tbody>\n",
       "</table>\n",
       "</div>"
      ],
      "text/plain": [
       "   ret_prob_0  ret_prob_1  ret_prob_2  ret_prob_3  ret_prob_4  ret_prob_5\n",
       "0    0.714605    0.760385    0.801521    0.840423    0.875270    0.902407\n",
       "1    0.490477    0.533840    0.578892    0.621604    0.673162    0.729349\n",
       "2    0.169326    0.181262    0.194641    0.211339    0.227534    0.243582\n",
       "5    0.206971    0.220267    0.237096    0.260972    0.290522    0.324579\n",
       "6    0.148933    0.160962    0.172393    0.183705    0.193276    0.205493\n",
       "7    0.216655    0.240781    0.269129    0.302119    0.340576    0.385182\n",
       "8    0.123643    0.132615    0.145108    0.162531    0.182712    0.207977\n",
       "9    0.061930    0.067385    0.072838    0.078567    0.084532    0.091365"
      ]
     },
     "execution_count": 401,
     "metadata": {},
     "output_type": "execute_result"
    }
   ],
   "source": [
    "r2['surv']"
   ]
  },
  {
   "cell_type": "code",
   "execution_count": 407,
   "metadata": {
    "collapsed": false
   },
   "outputs": [],
   "source": [
    "def convert_surv_to_prob(surv_pred,pred_type,keyed_df):\n",
    "    prob= {}\n",
    "    \n",
    "    for item in surv_pred.items:\n",
    "        if item == 'lbci':\n",
    "            prob['ubcip']= pd.concat([keyed_df,1-surv_pred[item]],axis=1)\n",
    "            prob['ubcip'].fillna(0,inplace=True)\n",
    "        elif item == 'ubci':\n",
    "            prob['lbcip']= pd.concat([keyed_df,1-surv_pred[item]],axis=1)\n",
    "            prob['lbcip'].fillna(0,inplace=True)\n",
    "        else:\n",
    "            prob['surv']=pd.concat([keyed_df,1-surv_pred[item]],axis=1)\n",
    "            prob['surv'].fillna(0,inplace=True)\n",
    "        \n",
    "        \n",
    "                             \n",
    "    # now check that lengths match\n",
    "    #if len(surv_pred['surv'])!=len(keyed_df):\n",
    "    #    for item in surv_pred.items:\n",
    "    #        prob[item]\n",
    "    #timepoint_cols = surv_pred.minor_axis.tolist()    \n",
    "    if pred_type =='ret':\n",
    "        rep_string = 'ret_prob'\n",
    "    elif pred_type == 'sep':\n",
    "        rep_string = 'sep_prob'\n",
    "        \n",
    "    probabilities = pd.Panel.from_dict(prob)\n",
    "    probabilities.minor_axis = [a.replace('t',rep_string) for a in probabilities.minor_axis.tolist()]\n",
    "\n",
    "    return probabilities"
   ]
  },
  {
   "cell_type": "code",
   "execution_count": 408,
   "metadata": {
    "collapsed": false
   },
   "outputs": [
    {
     "data": {
      "text/plain": [
       "<class 'pandas.core.panel.Panel'>\n",
       "Dimensions: 3 (items) x 10 (major_axis) x 7 (minor_axis)\n",
       "Items axis: lbcip to ubcip\n",
       "Major_axis axis: 0 to 9\n",
       "Minor_axis axis: KEY to sep_prob_5"
      ]
     },
     "execution_count": 408,
     "metadata": {},
     "output_type": "execute_result"
    }
   ],
   "source": [
    "ss = convert_surv_to_prob(sep_surv_pred,'sep',kdf)\n",
    "ss"
   ]
  },
  {
   "cell_type": "code",
   "execution_count": 416,
   "metadata": {
    "collapsed": false
   },
   "outputs": [
    {
     "data": {
      "text/html": [
       "<div>\n",
       "<table border=\"1\" class=\"dataframe\">\n",
       "  <thead>\n",
       "    <tr style=\"text-align: right;\">\n",
       "      <th></th>\n",
       "      <th>KEY</th>\n",
       "      <th>ret_prob_0</th>\n",
       "      <th>ret_prob_1</th>\n",
       "      <th>ret_prob_2</th>\n",
       "      <th>ret_prob_3</th>\n",
       "      <th>ret_prob_4</th>\n",
       "      <th>ret_prob_5</th>\n",
       "    </tr>\n",
       "  </thead>\n",
       "  <tbody>\n",
       "    <tr>\n",
       "      <th>0</th>\n",
       "      <td>929965184037557</td>\n",
       "      <td>0.714605</td>\n",
       "      <td>0.760385</td>\n",
       "      <td>0.801521</td>\n",
       "      <td>0.840423</td>\n",
       "      <td>0.87527</td>\n",
       "      <td>0.902407</td>\n",
       "    </tr>\n",
       "    <tr>\n",
       "      <th>1</th>\n",
       "      <td>872454415016088</td>\n",
       "      <td>0.490477</td>\n",
       "      <td>0.53384</td>\n",
       "      <td>0.578892</td>\n",
       "      <td>0.621604</td>\n",
       "      <td>0.673162</td>\n",
       "      <td>0.729349</td>\n",
       "    </tr>\n",
       "    <tr>\n",
       "      <th>2</th>\n",
       "      <td>247046588569436</td>\n",
       "      <td>0.169326</td>\n",
       "      <td>0.181262</td>\n",
       "      <td>0.194641</td>\n",
       "      <td>0.211339</td>\n",
       "      <td>0.227534</td>\n",
       "      <td>0.243582</td>\n",
       "    </tr>\n",
       "    <tr>\n",
       "      <th>3</th>\n",
       "      <td>980835578861104</td>\n",
       "      <td>0</td>\n",
       "      <td>0</td>\n",
       "      <td>0</td>\n",
       "      <td>0</td>\n",
       "      <td>0</td>\n",
       "      <td>0</td>\n",
       "    </tr>\n",
       "    <tr>\n",
       "      <th>4</th>\n",
       "      <td>831802700567899</td>\n",
       "      <td>0</td>\n",
       "      <td>0</td>\n",
       "      <td>0</td>\n",
       "      <td>0</td>\n",
       "      <td>0</td>\n",
       "      <td>0</td>\n",
       "    </tr>\n",
       "    <tr>\n",
       "      <th>5</th>\n",
       "      <td>612245620047788</td>\n",
       "      <td>0.206971</td>\n",
       "      <td>0.220267</td>\n",
       "      <td>0.237096</td>\n",
       "      <td>0.260972</td>\n",
       "      <td>0.290522</td>\n",
       "      <td>0.324579</td>\n",
       "    </tr>\n",
       "    <tr>\n",
       "      <th>6</th>\n",
       "      <td>673774298594228</td>\n",
       "      <td>0.148933</td>\n",
       "      <td>0.160962</td>\n",
       "      <td>0.172393</td>\n",
       "      <td>0.183705</td>\n",
       "      <td>0.193276</td>\n",
       "      <td>0.205493</td>\n",
       "    </tr>\n",
       "    <tr>\n",
       "      <th>7</th>\n",
       "      <td>53680010164939</td>\n",
       "      <td>0.216655</td>\n",
       "      <td>0.240781</td>\n",
       "      <td>0.269129</td>\n",
       "      <td>0.302119</td>\n",
       "      <td>0.340576</td>\n",
       "      <td>0.385182</td>\n",
       "    </tr>\n",
       "    <tr>\n",
       "      <th>8</th>\n",
       "      <td>361010560468310</td>\n",
       "      <td>0.123643</td>\n",
       "      <td>0.132615</td>\n",
       "      <td>0.145108</td>\n",
       "      <td>0.162531</td>\n",
       "      <td>0.182712</td>\n",
       "      <td>0.207977</td>\n",
       "    </tr>\n",
       "    <tr>\n",
       "      <th>9</th>\n",
       "      <td>688423451822448</td>\n",
       "      <td>0.0619303</td>\n",
       "      <td>0.0673854</td>\n",
       "      <td>0.0728379</td>\n",
       "      <td>0.0785674</td>\n",
       "      <td>0.0845317</td>\n",
       "      <td>0.0913649</td>\n",
       "    </tr>\n",
       "  </tbody>\n",
       "</table>\n",
       "</div>"
      ],
      "text/plain": [
       "               KEY ret_prob_0 ret_prob_1 ret_prob_2 ret_prob_3 ret_prob_4  \\\n",
       "0  929965184037557   0.714605   0.760385   0.801521   0.840423    0.87527   \n",
       "1  872454415016088   0.490477    0.53384   0.578892   0.621604   0.673162   \n",
       "2  247046588569436   0.169326   0.181262   0.194641   0.211339   0.227534   \n",
       "3  980835578861104          0          0          0          0          0   \n",
       "4  831802700567899          0          0          0          0          0   \n",
       "5  612245620047788   0.206971   0.220267   0.237096   0.260972   0.290522   \n",
       "6  673774298594228   0.148933   0.160962   0.172393   0.183705   0.193276   \n",
       "7   53680010164939   0.216655   0.240781   0.269129   0.302119   0.340576   \n",
       "8  361010560468310   0.123643   0.132615   0.145108   0.162531   0.182712   \n",
       "9  688423451822448  0.0619303  0.0673854  0.0728379  0.0785674  0.0845317   \n",
       "\n",
       "  ret_prob_5  \n",
       "0   0.902407  \n",
       "1   0.729349  \n",
       "2   0.243582  \n",
       "3          0  \n",
       "4          0  \n",
       "5   0.324579  \n",
       "6   0.205493  \n",
       "7   0.385182  \n",
       "8   0.207977  \n",
       "9  0.0913649  "
      ]
     },
     "execution_count": 416,
     "metadata": {},
     "output_type": "execute_result"
    }
   ],
   "source": [
    "rr['surv']"
   ]
  },
  {
   "cell_type": "code",
   "execution_count": 424,
   "metadata": {
    "collapsed": false
   },
   "outputs": [
    {
     "data": {
      "text/plain": [
       "ret_prob_0    1\n",
       "ret_prob_1    2\n",
       "ret_prob_2    2\n",
       "ret_prob_3    2\n",
       "ret_prob_4    2\n",
       "ret_prob_5    2\n",
       "dtype: int64"
      ]
     },
     "execution_count": 424,
     "metadata": {},
     "output_type": "execute_result"
    }
   ],
   "source": [
    "#ss['surv'][]\n",
    "#rr['surv'][\n",
    "prob_cols = rr['surv'].columns.tolist()[1:]\n",
    "(rr['surv'][prob_cols]>=0.5).astype(int).sum(axis=0)"
   ]
  },
  {
   "cell_type": "code",
   "execution_count": 438,
   "metadata": {
    "collapsed": true
   },
   "outputs": [],
   "source": [
    "def reduce_to_sums(prob,thresh,pcols):\n",
    "    my_counts ={}\n",
    "    for item in prob.items:\n",
    "        my_counts[item] = (prob[item][pcols]>=thresh).astype(int).sum(axis=0)\n",
    "        \n",
    "    df_counts = pd.DataFrame.from_dict(my_counts)\n",
    "    \n",
    "    return df_counts"
   ]
  },
  {
   "cell_type": "code",
   "execution_count": 439,
   "metadata": {
    "collapsed": false
   },
   "outputs": [],
   "source": [
    "rcounts = reduce_to_sums(rr,0.5,prob_cols)\n",
    "scounts = reduce_to_sums(ss,0.5,ss['surv'].columns.tolist()[1:])"
   ]
  },
  {
   "cell_type": "code",
   "execution_count": 440,
   "metadata": {
    "collapsed": false
   },
   "outputs": [
    {
     "data": {
      "text/html": [
       "<div>\n",
       "<table border=\"1\" class=\"dataframe\">\n",
       "  <thead>\n",
       "    <tr style=\"text-align: right;\">\n",
       "      <th></th>\n",
       "      <th>lbcip</th>\n",
       "      <th>surv</th>\n",
       "      <th>ubcip</th>\n",
       "    </tr>\n",
       "  </thead>\n",
       "  <tbody>\n",
       "    <tr>\n",
       "      <th>sep_prob_0</th>\n",
       "      <td>0</td>\n",
       "      <td>0</td>\n",
       "      <td>0</td>\n",
       "    </tr>\n",
       "    <tr>\n",
       "      <th>sep_prob_1</th>\n",
       "      <td>0</td>\n",
       "      <td>0</td>\n",
       "      <td>0</td>\n",
       "    </tr>\n",
       "    <tr>\n",
       "      <th>sep_prob_2</th>\n",
       "      <td>0</td>\n",
       "      <td>0</td>\n",
       "      <td>0</td>\n",
       "    </tr>\n",
       "    <tr>\n",
       "      <th>sep_prob_3</th>\n",
       "      <td>0</td>\n",
       "      <td>0</td>\n",
       "      <td>0</td>\n",
       "    </tr>\n",
       "    <tr>\n",
       "      <th>sep_prob_4</th>\n",
       "      <td>0</td>\n",
       "      <td>0</td>\n",
       "      <td>0</td>\n",
       "    </tr>\n",
       "    <tr>\n",
       "      <th>sep_prob_5</th>\n",
       "      <td>0</td>\n",
       "      <td>0</td>\n",
       "      <td>0</td>\n",
       "    </tr>\n",
       "  </tbody>\n",
       "</table>\n",
       "</div>"
      ],
      "text/plain": [
       "            lbcip  surv  ubcip\n",
       "sep_prob_0      0     0      0\n",
       "sep_prob_1      0     0      0\n",
       "sep_prob_2      0     0      0\n",
       "sep_prob_3      0     0      0\n",
       "sep_prob_4      0     0      0\n",
       "sep_prob_5      0     0      0"
      ]
     },
     "execution_count": 440,
     "metadata": {},
     "output_type": "execute_result"
    }
   ],
   "source": [
    "scounts"
   ]
  },
  {
   "cell_type": "code",
   "execution_count": 441,
   "metadata": {
    "collapsed": false
   },
   "outputs": [
    {
     "data": {
      "text/html": [
       "<div>\n",
       "<table border=\"1\" class=\"dataframe\">\n",
       "  <thead>\n",
       "    <tr style=\"text-align: right;\">\n",
       "      <th></th>\n",
       "      <th>lbcip</th>\n",
       "      <th>surv</th>\n",
       "      <th>ubcip</th>\n",
       "    </tr>\n",
       "  </thead>\n",
       "  <tbody>\n",
       "    <tr>\n",
       "      <th>ret_prob_0</th>\n",
       "      <td>1</td>\n",
       "      <td>1</td>\n",
       "      <td>1</td>\n",
       "    </tr>\n",
       "    <tr>\n",
       "      <th>ret_prob_1</th>\n",
       "      <td>2</td>\n",
       "      <td>2</td>\n",
       "      <td>2</td>\n",
       "    </tr>\n",
       "    <tr>\n",
       "      <th>ret_prob_2</th>\n",
       "      <td>2</td>\n",
       "      <td>2</td>\n",
       "      <td>2</td>\n",
       "    </tr>\n",
       "    <tr>\n",
       "      <th>ret_prob_3</th>\n",
       "      <td>2</td>\n",
       "      <td>2</td>\n",
       "      <td>2</td>\n",
       "    </tr>\n",
       "    <tr>\n",
       "      <th>ret_prob_4</th>\n",
       "      <td>2</td>\n",
       "      <td>2</td>\n",
       "      <td>2</td>\n",
       "    </tr>\n",
       "    <tr>\n",
       "      <th>ret_prob_5</th>\n",
       "      <td>2</td>\n",
       "      <td>2</td>\n",
       "      <td>2</td>\n",
       "    </tr>\n",
       "  </tbody>\n",
       "</table>\n",
       "</div>"
      ],
      "text/plain": [
       "            lbcip  surv  ubcip\n",
       "ret_prob_0      1     1      1\n",
       "ret_prob_1      2     2      2\n",
       "ret_prob_2      2     2      2\n",
       "ret_prob_3      2     2      2\n",
       "ret_prob_4      2     2      2\n",
       "ret_prob_5      2     2      2"
      ]
     },
     "execution_count": 441,
     "metadata": {},
     "output_type": "execute_result"
    }
   ],
   "source": [
    "rcounts"
   ]
  },
  {
   "cell_type": "code",
   "execution_count": 432,
   "metadata": {
    "collapsed": false
   },
   "outputs": [
    {
     "ename": "ValueError",
     "evalue": "The truth value of a Series is ambiguous. Use a.empty, a.bool(), a.item(), a.any() or a.all().",
     "output_type": "error",
     "traceback": [
      "\u001b[1;31m---------------------------------------------------------------------------\u001b[0m",
      "\u001b[1;31mValueError\u001b[0m                                Traceback (most recent call last)",
      "\u001b[1;32m<ipython-input-432-ae1d521daef5>\u001b[0m in \u001b[0;36m<module>\u001b[1;34m()\u001b[0m\n\u001b[1;32m----> 1\u001b[1;33m \u001b[0mrr\u001b[0m\u001b[1;33m.\u001b[0m\u001b[0mapply\u001b[0m\u001b[1;33m(\u001b[0m\u001b[1;32mlambda\u001b[0m \u001b[0mx\u001b[0m\u001b[1;33m:\u001b[0m \u001b[1;36m1\u001b[0m \u001b[1;32mif\u001b[0m \u001b[0mx\u001b[0m\u001b[1;33m>=\u001b[0m\u001b[1;36m0.5\u001b[0m \u001b[1;32melse\u001b[0m \u001b[1;36m0\u001b[0m\u001b[1;33m,\u001b[0m \u001b[0maxis\u001b[0m\u001b[1;33m=\u001b[0m\u001b[1;36m0\u001b[0m\u001b[1;33m)\u001b[0m\u001b[1;31m#[prob_cols]#.apply(lambda x: x.sum(), axis =0)\u001b[0m\u001b[1;33m\u001b[0m\u001b[0m\n\u001b[0m",
      "\u001b[1;32mC:\\Anaconda\\lib\\site-packages\\pandas\\core\\panel.pyc\u001b[0m in \u001b[0;36mapply\u001b[1;34m(self, func, axis, **kwargs)\u001b[0m\n\u001b[0;32m   1001\u001b[0m \u001b[1;33m\u001b[0m\u001b[0m\n\u001b[0;32m   1002\u001b[0m         \u001b[1;31m# 1d\u001b[0m\u001b[1;33m\u001b[0m\u001b[1;33m\u001b[0m\u001b[0m\n\u001b[1;32m-> 1003\u001b[1;33m         \u001b[1;32mreturn\u001b[0m \u001b[0mself\u001b[0m\u001b[1;33m.\u001b[0m\u001b[0m_apply_1d\u001b[0m\u001b[1;33m(\u001b[0m\u001b[0mf\u001b[0m\u001b[1;33m,\u001b[0m \u001b[0maxis\u001b[0m\u001b[1;33m=\u001b[0m\u001b[0maxis\u001b[0m\u001b[1;33m)\u001b[0m\u001b[1;33m\u001b[0m\u001b[0m\n\u001b[0m\u001b[0;32m   1004\u001b[0m \u001b[1;33m\u001b[0m\u001b[0m\n\u001b[0;32m   1005\u001b[0m     \u001b[1;32mdef\u001b[0m \u001b[0m_apply_1d\u001b[0m\u001b[1;33m(\u001b[0m\u001b[0mself\u001b[0m\u001b[1;33m,\u001b[0m \u001b[0mfunc\u001b[0m\u001b[1;33m,\u001b[0m \u001b[0maxis\u001b[0m\u001b[1;33m)\u001b[0m\u001b[1;33m:\u001b[0m\u001b[1;33m\u001b[0m\u001b[0m\n",
      "\u001b[1;32mC:\\Anaconda\\lib\\site-packages\\pandas\\core\\panel.pyc\u001b[0m in \u001b[0;36m_apply_1d\u001b[1;34m(self, func, axis)\u001b[0m\n\u001b[0;32m   1032\u001b[0m \u001b[1;33m\u001b[0m\u001b[0m\n\u001b[0;32m   1033\u001b[0m             \u001b[0mobj\u001b[0m \u001b[1;33m=\u001b[0m \u001b[0mSeries\u001b[0m\u001b[1;33m(\u001b[0m\u001b[0mvalues\u001b[0m\u001b[1;33m[\u001b[0m\u001b[0mtuple\u001b[0m\u001b[1;33m(\u001b[0m\u001b[0mindexer\u001b[0m\u001b[1;33m)\u001b[0m\u001b[1;33m]\u001b[0m\u001b[1;33m,\u001b[0m \u001b[0mindex\u001b[0m\u001b[1;33m=\u001b[0m\u001b[0mslice_axis\u001b[0m\u001b[1;33m,\u001b[0m \u001b[0mname\u001b[0m\u001b[1;33m=\u001b[0m\u001b[0mpts\u001b[0m\u001b[1;33m)\u001b[0m\u001b[1;33m\u001b[0m\u001b[0m\n\u001b[1;32m-> 1034\u001b[1;33m             \u001b[0mresult\u001b[0m \u001b[1;33m=\u001b[0m \u001b[0mfunc\u001b[0m\u001b[1;33m(\u001b[0m\u001b[0mobj\u001b[0m\u001b[1;33m)\u001b[0m\u001b[1;33m\u001b[0m\u001b[0m\n\u001b[0m\u001b[0;32m   1035\u001b[0m \u001b[1;33m\u001b[0m\u001b[0m\n\u001b[0;32m   1036\u001b[0m             \u001b[0mresults\u001b[0m\u001b[1;33m.\u001b[0m\u001b[0mappend\u001b[0m\u001b[1;33m(\u001b[0m\u001b[0mresult\u001b[0m\u001b[1;33m)\u001b[0m\u001b[1;33m\u001b[0m\u001b[0m\n",
      "\u001b[1;32m<ipython-input-432-ae1d521daef5>\u001b[0m in \u001b[0;36m<lambda>\u001b[1;34m(x)\u001b[0m\n\u001b[1;32m----> 1\u001b[1;33m \u001b[0mrr\u001b[0m\u001b[1;33m.\u001b[0m\u001b[0mapply\u001b[0m\u001b[1;33m(\u001b[0m\u001b[1;32mlambda\u001b[0m \u001b[0mx\u001b[0m\u001b[1;33m:\u001b[0m \u001b[1;36m1\u001b[0m \u001b[1;32mif\u001b[0m \u001b[0mx\u001b[0m\u001b[1;33m>=\u001b[0m\u001b[1;36m0.5\u001b[0m \u001b[1;32melse\u001b[0m \u001b[1;36m0\u001b[0m\u001b[1;33m,\u001b[0m \u001b[0maxis\u001b[0m\u001b[1;33m=\u001b[0m\u001b[1;36m0\u001b[0m\u001b[1;33m)\u001b[0m\u001b[1;31m#[prob_cols]#.apply(lambda x: x.sum(), axis =0)\u001b[0m\u001b[1;33m\u001b[0m\u001b[0m\n\u001b[0m",
      "\u001b[1;32mC:\\Anaconda\\lib\\site-packages\\pandas\\core\\generic.pyc\u001b[0m in \u001b[0;36m__nonzero__\u001b[1;34m(self)\u001b[0m\n\u001b[0;32m    729\u001b[0m         raise ValueError(\"The truth value of a {0} is ambiguous. \"\n\u001b[0;32m    730\u001b[0m                          \u001b[1;34m\"Use a.empty, a.bool(), a.item(), a.any() or a.all().\"\u001b[0m\u001b[1;33m\u001b[0m\u001b[0m\n\u001b[1;32m--> 731\u001b[1;33m                          .format(self.__class__.__name__))\n\u001b[0m\u001b[0;32m    732\u001b[0m \u001b[1;33m\u001b[0m\u001b[0m\n\u001b[0;32m    733\u001b[0m     \u001b[0m__bool__\u001b[0m \u001b[1;33m=\u001b[0m \u001b[0m__nonzero__\u001b[0m\u001b[1;33m\u001b[0m\u001b[0m\n",
      "\u001b[1;31mValueError\u001b[0m: The truth value of a Series is ambiguous. Use a.empty, a.bool(), a.item(), a.any() or a.all()."
     ]
    }
   ],
   "source": [
    "rr.apply(lambda x: 1 if x>=0.5 else 0, axis=0)#[prob_cols]#.apply(lambda x: x.sum(), axis =0)"
   ]
  },
  {
   "cell_type": "code",
   "execution_count": 409,
   "metadata": {
    "collapsed": false
   },
   "outputs": [
    {
     "data": {
      "text/plain": [
       "<class 'pandas.core.panel.Panel'>\n",
       "Dimensions: 3 (items) x 10 (major_axis) x 7 (minor_axis)\n",
       "Items axis: lbcip to ubcip\n",
       "Major_axis axis: 0 to 9\n",
       "Minor_axis axis: KEY to ret_prob_5"
      ]
     },
     "execution_count": 409,
     "metadata": {},
     "output_type": "execute_result"
    }
   ],
   "source": [
    "rr= convert_surv_to_prob(ret_surv_pred,'ret',kdf)\n",
    "rr"
   ]
  },
  {
   "cell_type": "code",
   "execution_count": 411,
   "metadata": {
    "collapsed": false
   },
   "outputs": [
    {
     "data": {
      "text/html": [
       "<div>\n",
       "<table border=\"1\" class=\"dataframe\">\n",
       "  <thead>\n",
       "    <tr style=\"text-align: right;\">\n",
       "      <th></th>\n",
       "      <th>KEY</th>\n",
       "      <th>ret_prob_0</th>\n",
       "      <th>ret_prob_1</th>\n",
       "      <th>ret_prob_2</th>\n",
       "      <th>ret_prob_3</th>\n",
       "      <th>ret_prob_4</th>\n",
       "      <th>ret_prob_5</th>\n",
       "    </tr>\n",
       "  </thead>\n",
       "  <tbody>\n",
       "    <tr>\n",
       "      <th>0</th>\n",
       "      <td>929965184037557</td>\n",
       "      <td>0.714605</td>\n",
       "      <td>0.760385</td>\n",
       "      <td>0.801521</td>\n",
       "      <td>0.840423</td>\n",
       "      <td>0.87527</td>\n",
       "      <td>0.902407</td>\n",
       "    </tr>\n",
       "    <tr>\n",
       "      <th>1</th>\n",
       "      <td>872454415016088</td>\n",
       "      <td>0.490477</td>\n",
       "      <td>0.53384</td>\n",
       "      <td>0.578892</td>\n",
       "      <td>0.621604</td>\n",
       "      <td>0.673162</td>\n",
       "      <td>0.729349</td>\n",
       "    </tr>\n",
       "    <tr>\n",
       "      <th>2</th>\n",
       "      <td>247046588569436</td>\n",
       "      <td>0.169326</td>\n",
       "      <td>0.181262</td>\n",
       "      <td>0.194641</td>\n",
       "      <td>0.211339</td>\n",
       "      <td>0.227534</td>\n",
       "      <td>0.243582</td>\n",
       "    </tr>\n",
       "    <tr>\n",
       "      <th>3</th>\n",
       "      <td>980835578861104</td>\n",
       "      <td>0</td>\n",
       "      <td>0</td>\n",
       "      <td>0</td>\n",
       "      <td>0</td>\n",
       "      <td>0</td>\n",
       "      <td>0</td>\n",
       "    </tr>\n",
       "    <tr>\n",
       "      <th>4</th>\n",
       "      <td>831802700567899</td>\n",
       "      <td>0</td>\n",
       "      <td>0</td>\n",
       "      <td>0</td>\n",
       "      <td>0</td>\n",
       "      <td>0</td>\n",
       "      <td>0</td>\n",
       "    </tr>\n",
       "    <tr>\n",
       "      <th>5</th>\n",
       "      <td>612245620047788</td>\n",
       "      <td>0.206971</td>\n",
       "      <td>0.220267</td>\n",
       "      <td>0.237096</td>\n",
       "      <td>0.260972</td>\n",
       "      <td>0.290522</td>\n",
       "      <td>0.324579</td>\n",
       "    </tr>\n",
       "    <tr>\n",
       "      <th>6</th>\n",
       "      <td>673774298594228</td>\n",
       "      <td>0.148933</td>\n",
       "      <td>0.160962</td>\n",
       "      <td>0.172393</td>\n",
       "      <td>0.183705</td>\n",
       "      <td>0.193276</td>\n",
       "      <td>0.205493</td>\n",
       "    </tr>\n",
       "    <tr>\n",
       "      <th>7</th>\n",
       "      <td>53680010164939</td>\n",
       "      <td>0.216655</td>\n",
       "      <td>0.240781</td>\n",
       "      <td>0.269129</td>\n",
       "      <td>0.302119</td>\n",
       "      <td>0.340576</td>\n",
       "      <td>0.385182</td>\n",
       "    </tr>\n",
       "    <tr>\n",
       "      <th>8</th>\n",
       "      <td>361010560468310</td>\n",
       "      <td>0.123643</td>\n",
       "      <td>0.132615</td>\n",
       "      <td>0.145108</td>\n",
       "      <td>0.162531</td>\n",
       "      <td>0.182712</td>\n",
       "      <td>0.207977</td>\n",
       "    </tr>\n",
       "    <tr>\n",
       "      <th>9</th>\n",
       "      <td>688423451822448</td>\n",
       "      <td>0.0619303</td>\n",
       "      <td>0.0673854</td>\n",
       "      <td>0.0728379</td>\n",
       "      <td>0.0785674</td>\n",
       "      <td>0.0845317</td>\n",
       "      <td>0.0913649</td>\n",
       "    </tr>\n",
       "  </tbody>\n",
       "</table>\n",
       "</div>"
      ],
      "text/plain": [
       "               KEY ret_prob_0 ret_prob_1 ret_prob_2 ret_prob_3 ret_prob_4  \\\n",
       "0  929965184037557   0.714605   0.760385   0.801521   0.840423    0.87527   \n",
       "1  872454415016088   0.490477    0.53384   0.578892   0.621604   0.673162   \n",
       "2  247046588569436   0.169326   0.181262   0.194641   0.211339   0.227534   \n",
       "3  980835578861104          0          0          0          0          0   \n",
       "4  831802700567899          0          0          0          0          0   \n",
       "5  612245620047788   0.206971   0.220267   0.237096   0.260972   0.290522   \n",
       "6  673774298594228   0.148933   0.160962   0.172393   0.183705   0.193276   \n",
       "7   53680010164939   0.216655   0.240781   0.269129   0.302119   0.340576   \n",
       "8  361010560468310   0.123643   0.132615   0.145108   0.162531   0.182712   \n",
       "9  688423451822448  0.0619303  0.0673854  0.0728379  0.0785674  0.0845317   \n",
       "\n",
       "  ret_prob_5  \n",
       "0   0.902407  \n",
       "1   0.729349  \n",
       "2   0.243582  \n",
       "3          0  \n",
       "4          0  \n",
       "5   0.324579  \n",
       "6   0.205493  \n",
       "7   0.385182  \n",
       "8   0.207977  \n",
       "9  0.0913649  "
      ]
     },
     "execution_count": 411,
     "metadata": {},
     "output_type": "execute_result"
    }
   ],
   "source": [
    "rr['surv']"
   ]
  },
  {
   "cell_type": "code",
   "execution_count": 412,
   "metadata": {
    "collapsed": false
   },
   "outputs": [
    {
     "data": {
      "text/plain": [
       "0    62.614648\n",
       "1    53.596167\n",
       "2    61.284052\n",
       "3    49.798768\n",
       "4    43.887748\n",
       "5    55.920602\n",
       "6    54.373717\n",
       "7    60.492813\n",
       "8    53.741273\n",
       "9    52.843258\n",
       "Name: Age_years, dtype: float64"
      ]
     },
     "execution_count": 412,
     "metadata": {},
     "output_type": "execute_result"
    }
   ],
   "source": [
    "edf['Age_years']"
   ]
  },
  {
   "cell_type": "code",
   "execution_count": 368,
   "metadata": {
    "collapsed": false
   },
   "outputs": [
    {
     "data": {
      "text/html": [
       "<div>\n",
       "<table border=\"1\" class=\"dataframe\">\n",
       "  <thead>\n",
       "    <tr style=\"text-align: right;\">\n",
       "      <th></th>\n",
       "      <th>KEY</th>\n",
       "      <th>t_0</th>\n",
       "      <th>t_1</th>\n",
       "      <th>t_2</th>\n",
       "      <th>t_3</th>\n",
       "      <th>t_4</th>\n",
       "      <th>t_5</th>\n",
       "    </tr>\n",
       "  </thead>\n",
       "  <tbody>\n",
       "    <tr>\n",
       "      <th>0</th>\n",
       "      <td>929965184037557</td>\n",
       "      <td>0.669813</td>\n",
       "      <td>0.651452</td>\n",
       "      <td>0.637385</td>\n",
       "      <td>0.620542</td>\n",
       "      <td>0.602276</td>\n",
       "      <td>0.584980</td>\n",
       "    </tr>\n",
       "    <tr>\n",
       "      <th>1</th>\n",
       "      <td>872454415016088</td>\n",
       "      <td>0.930499</td>\n",
       "      <td>0.926325</td>\n",
       "      <td>0.921692</td>\n",
       "      <td>0.917396</td>\n",
       "      <td>0.908794</td>\n",
       "      <td>0.903070</td>\n",
       "    </tr>\n",
       "    <tr>\n",
       "      <th>2</th>\n",
       "      <td>247046588569436</td>\n",
       "      <td>0.890055</td>\n",
       "      <td>0.881777</td>\n",
       "      <td>0.872319</td>\n",
       "      <td>0.861534</td>\n",
       "      <td>0.849145</td>\n",
       "      <td>0.836098</td>\n",
       "    </tr>\n",
       "    <tr>\n",
       "      <th>3</th>\n",
       "      <td>980835578861104</td>\n",
       "      <td>0.778553</td>\n",
       "      <td>0.765690</td>\n",
       "      <td>0.753260</td>\n",
       "      <td>0.740782</td>\n",
       "      <td>0.722852</td>\n",
       "      <td>0.702893</td>\n",
       "    </tr>\n",
       "    <tr>\n",
       "      <th>4</th>\n",
       "      <td>831802700567899</td>\n",
       "      <td>0.894397</td>\n",
       "      <td>0.882722</td>\n",
       "      <td>0.870428</td>\n",
       "      <td>0.860392</td>\n",
       "      <td>0.848645</td>\n",
       "      <td>0.837189</td>\n",
       "    </tr>\n",
       "    <tr>\n",
       "      <th>5</th>\n",
       "      <td>612245620047788</td>\n",
       "      <td>0.739896</td>\n",
       "      <td>0.728828</td>\n",
       "      <td>0.712314</td>\n",
       "      <td>0.693039</td>\n",
       "      <td>0.671088</td>\n",
       "      <td>0.651229</td>\n",
       "    </tr>\n",
       "    <tr>\n",
       "      <th>6</th>\n",
       "      <td>673774298594228</td>\n",
       "      <td>0.740238</td>\n",
       "      <td>0.717008</td>\n",
       "      <td>0.695530</td>\n",
       "      <td>0.677742</td>\n",
       "      <td>0.659366</td>\n",
       "      <td>0.643653</td>\n",
       "    </tr>\n",
       "    <tr>\n",
       "      <th>7</th>\n",
       "      <td>53680010164939</td>\n",
       "      <td>0.999202</td>\n",
       "      <td>0.999137</td>\n",
       "      <td>0.999065</td>\n",
       "      <td>0.998999</td>\n",
       "      <td>0.998943</td>\n",
       "      <td>0.998877</td>\n",
       "    </tr>\n",
       "    <tr>\n",
       "      <th>8</th>\n",
       "      <td>361010560468310</td>\n",
       "      <td>0.974483</td>\n",
       "      <td>0.973020</td>\n",
       "      <td>0.970701</td>\n",
       "      <td>0.968339</td>\n",
       "      <td>0.965750</td>\n",
       "      <td>0.963225</td>\n",
       "    </tr>\n",
       "    <tr>\n",
       "      <th>9</th>\n",
       "      <td>688423451822448</td>\n",
       "      <td>0.746177</td>\n",
       "      <td>0.728019</td>\n",
       "      <td>0.707755</td>\n",
       "      <td>0.687151</td>\n",
       "      <td>0.666842</td>\n",
       "      <td>0.644736</td>\n",
       "    </tr>\n",
       "  </tbody>\n",
       "</table>\n",
       "</div>"
      ],
      "text/plain": [
       "               KEY       t_0       t_1       t_2       t_3       t_4       t_5\n",
       "0  929965184037557  0.669813  0.651452  0.637385  0.620542  0.602276  0.584980\n",
       "1  872454415016088  0.930499  0.926325  0.921692  0.917396  0.908794  0.903070\n",
       "2  247046588569436  0.890055  0.881777  0.872319  0.861534  0.849145  0.836098\n",
       "3  980835578861104  0.778553  0.765690  0.753260  0.740782  0.722852  0.702893\n",
       "4  831802700567899  0.894397  0.882722  0.870428  0.860392  0.848645  0.837189\n",
       "5  612245620047788  0.739896  0.728828  0.712314  0.693039  0.671088  0.651229\n",
       "6  673774298594228  0.740238  0.717008  0.695530  0.677742  0.659366  0.643653\n",
       "7   53680010164939  0.999202  0.999137  0.999065  0.998999  0.998943  0.998877\n",
       "8  361010560468310  0.974483  0.973020  0.970701  0.968339  0.965750  0.963225\n",
       "9  688423451822448  0.746177  0.728019  0.707755  0.687151  0.666842  0.644736"
      ]
     },
     "execution_count": 368,
     "metadata": {},
     "output_type": "execute_result"
    }
   ],
   "source": [
    "kdf = pd.DataFrame(edf['KEY'])\n",
    "pd.concat([kdf,sep_surv_pred['surv']],axis=1)"
   ]
  },
  {
   "cell_type": "code",
   "execution_count": 381,
   "metadata": {
    "collapsed": false
   },
   "outputs": [],
   "source": [
    "prob=sep_surv_pred.copy()\n",
    "for item in sep_surv_pred.items:\n",
    "    prob[item]=1-sep_surv_pred[item]\n",
    "    "
   ]
  },
  {
   "cell_type": "code",
   "execution_count": 380,
   "metadata": {
    "collapsed": false
   },
   "outputs": [
    {
     "name": "stdout",
     "output_type": "stream",
     "text": [
      "lbci\n",
      "surv\n",
      "ubci\n"
     ]
    }
   ],
   "source": [
    "for item in sep_surv_pred.items:\n",
    "    print(item)\n",
    "    prob[item]"
   ]
  },
  {
   "cell_type": "code",
   "execution_count": 392,
   "metadata": {
    "collapsed": false
   },
   "outputs": [
    {
     "data": {
      "text/html": [
       "<div>\n",
       "<table border=\"1\" class=\"dataframe\">\n",
       "  <thead>\n",
       "    <tr style=\"text-align: right;\">\n",
       "      <th></th>\n",
       "      <th>t_0</th>\n",
       "      <th>t_1</th>\n",
       "      <th>t_2</th>\n",
       "      <th>t_3</th>\n",
       "      <th>t_4</th>\n",
       "      <th>t_5</th>\n",
       "    </tr>\n",
       "  </thead>\n",
       "  <tbody>\n",
       "    <tr>\n",
       "      <th>0</th>\n",
       "      <td>0.285395</td>\n",
       "      <td>0.239615</td>\n",
       "      <td>0.198479</td>\n",
       "      <td>0.159577</td>\n",
       "      <td>0.124730</td>\n",
       "      <td>0.097593</td>\n",
       "    </tr>\n",
       "    <tr>\n",
       "      <th>1</th>\n",
       "      <td>0.509523</td>\n",
       "      <td>0.466160</td>\n",
       "      <td>0.421108</td>\n",
       "      <td>0.378396</td>\n",
       "      <td>0.326838</td>\n",
       "      <td>0.270651</td>\n",
       "    </tr>\n",
       "    <tr>\n",
       "      <th>2</th>\n",
       "      <td>0.830674</td>\n",
       "      <td>0.818738</td>\n",
       "      <td>0.805359</td>\n",
       "      <td>0.788661</td>\n",
       "      <td>0.772466</td>\n",
       "      <td>0.756418</td>\n",
       "    </tr>\n",
       "    <tr>\n",
       "      <th>5</th>\n",
       "      <td>0.793029</td>\n",
       "      <td>0.779733</td>\n",
       "      <td>0.762904</td>\n",
       "      <td>0.739028</td>\n",
       "      <td>0.709478</td>\n",
       "      <td>0.675421</td>\n",
       "    </tr>\n",
       "    <tr>\n",
       "      <th>6</th>\n",
       "      <td>0.851067</td>\n",
       "      <td>0.839038</td>\n",
       "      <td>0.827607</td>\n",
       "      <td>0.816295</td>\n",
       "      <td>0.806724</td>\n",
       "      <td>0.794507</td>\n",
       "    </tr>\n",
       "    <tr>\n",
       "      <th>7</th>\n",
       "      <td>0.783345</td>\n",
       "      <td>0.759219</td>\n",
       "      <td>0.730871</td>\n",
       "      <td>0.697881</td>\n",
       "      <td>0.659424</td>\n",
       "      <td>0.614818</td>\n",
       "    </tr>\n",
       "    <tr>\n",
       "      <th>8</th>\n",
       "      <td>0.876357</td>\n",
       "      <td>0.867385</td>\n",
       "      <td>0.854892</td>\n",
       "      <td>0.837469</td>\n",
       "      <td>0.817288</td>\n",
       "      <td>0.792023</td>\n",
       "    </tr>\n",
       "    <tr>\n",
       "      <th>9</th>\n",
       "      <td>0.938070</td>\n",
       "      <td>0.932615</td>\n",
       "      <td>0.927162</td>\n",
       "      <td>0.921433</td>\n",
       "      <td>0.915468</td>\n",
       "      <td>0.908635</td>\n",
       "    </tr>\n",
       "  </tbody>\n",
       "</table>\n",
       "</div>"
      ],
      "text/plain": [
       "        t_0       t_1       t_2       t_3       t_4       t_5\n",
       "0  0.285395  0.239615  0.198479  0.159577  0.124730  0.097593\n",
       "1  0.509523  0.466160  0.421108  0.378396  0.326838  0.270651\n",
       "2  0.830674  0.818738  0.805359  0.788661  0.772466  0.756418\n",
       "5  0.793029  0.779733  0.762904  0.739028  0.709478  0.675421\n",
       "6  0.851067  0.839038  0.827607  0.816295  0.806724  0.794507\n",
       "7  0.783345  0.759219  0.730871  0.697881  0.659424  0.614818\n",
       "8  0.876357  0.867385  0.854892  0.837469  0.817288  0.792023\n",
       "9  0.938070  0.932615  0.927162  0.921433  0.915468  0.908635"
      ]
     },
     "execution_count": 392,
     "metadata": {},
     "output_type": "execute_result"
    }
   ],
   "source": [
    "ret_surv_pred['surv']"
   ]
  },
  {
   "cell_type": "code",
   "execution_count": 404,
   "metadata": {
    "collapsed": false
   },
   "outputs": [
    {
     "data": {
      "text/html": [
       "<div>\n",
       "<table border=\"1\" class=\"dataframe\">\n",
       "  <thead>\n",
       "    <tr style=\"text-align: right;\">\n",
       "      <th></th>\n",
       "      <th>KEY</th>\n",
       "      <th>t_0</th>\n",
       "      <th>t_1</th>\n",
       "      <th>t_2</th>\n",
       "      <th>t_3</th>\n",
       "      <th>t_4</th>\n",
       "      <th>t_5</th>\n",
       "    </tr>\n",
       "  </thead>\n",
       "  <tbody>\n",
       "    <tr>\n",
       "      <th>0</th>\n",
       "      <td>929965184037557</td>\n",
       "      <td>0.316874</td>\n",
       "      <td>0.334693</td>\n",
       "      <td>0.348361</td>\n",
       "      <td>0.364745</td>\n",
       "      <td>0.382539</td>\n",
       "      <td>0.399412</td>\n",
       "    </tr>\n",
       "    <tr>\n",
       "      <th>1</th>\n",
       "      <td>872454415016088</td>\n",
       "      <td>0.057819</td>\n",
       "      <td>0.061315</td>\n",
       "      <td>0.065198</td>\n",
       "      <td>0.068802</td>\n",
       "      <td>0.076027</td>\n",
       "      <td>0.080841</td>\n",
       "    </tr>\n",
       "    <tr>\n",
       "      <th>2</th>\n",
       "      <td>247046588569436</td>\n",
       "      <td>0.106395</td>\n",
       "      <td>0.114423</td>\n",
       "      <td>0.123599</td>\n",
       "      <td>0.134067</td>\n",
       "      <td>0.146096</td>\n",
       "      <td>0.158771</td>\n",
       "    </tr>\n",
       "    <tr>\n",
       "      <th>3</th>\n",
       "      <td>980835578861104</td>\n",
       "      <td>0.208022</td>\n",
       "      <td>0.220220</td>\n",
       "      <td>0.232020</td>\n",
       "      <td>0.243880</td>\n",
       "      <td>0.260946</td>\n",
       "      <td>0.279976</td>\n",
       "    </tr>\n",
       "    <tr>\n",
       "      <th>4</th>\n",
       "      <td>831802700567899</td>\n",
       "      <td>0.098284</td>\n",
       "      <td>0.109200</td>\n",
       "      <td>0.120707</td>\n",
       "      <td>0.130108</td>\n",
       "      <td>0.141123</td>\n",
       "      <td>0.151876</td>\n",
       "    </tr>\n",
       "    <tr>\n",
       "      <th>5</th>\n",
       "      <td>612245620047788</td>\n",
       "      <td>0.257157</td>\n",
       "      <td>0.268123</td>\n",
       "      <td>0.284490</td>\n",
       "      <td>0.303600</td>\n",
       "      <td>0.325371</td>\n",
       "      <td>0.345075</td>\n",
       "    </tr>\n",
       "    <tr>\n",
       "      <th>6</th>\n",
       "      <td>673774298594228</td>\n",
       "      <td>0.259240</td>\n",
       "      <td>0.282434</td>\n",
       "      <td>0.303879</td>\n",
       "      <td>0.321641</td>\n",
       "      <td>0.339991</td>\n",
       "      <td>0.355683</td>\n",
       "    </tr>\n",
       "    <tr>\n",
       "      <th>7</th>\n",
       "      <td>53680010164939</td>\n",
       "      <td>0.000655</td>\n",
       "      <td>0.000708</td>\n",
       "      <td>0.000767</td>\n",
       "      <td>0.000821</td>\n",
       "      <td>0.000868</td>\n",
       "      <td>0.000921</td>\n",
       "    </tr>\n",
       "    <tr>\n",
       "      <th>8</th>\n",
       "      <td>361010560468310</td>\n",
       "      <td>0.022861</td>\n",
       "      <td>0.024174</td>\n",
       "      <td>0.026255</td>\n",
       "      <td>0.028375</td>\n",
       "      <td>0.030700</td>\n",
       "      <td>0.032967</td>\n",
       "    </tr>\n",
       "    <tr>\n",
       "      <th>9</th>\n",
       "      <td>688423451822448</td>\n",
       "      <td>0.253130</td>\n",
       "      <td>0.271248</td>\n",
       "      <td>0.291468</td>\n",
       "      <td>0.312031</td>\n",
       "      <td>0.332300</td>\n",
       "      <td>0.354366</td>\n",
       "    </tr>\n",
       "  </tbody>\n",
       "</table>\n",
       "</div>"
      ],
      "text/plain": [
       "               KEY       t_0       t_1       t_2       t_3       t_4       t_5\n",
       "0  929965184037557  0.316874  0.334693  0.348361  0.364745  0.382539  0.399412\n",
       "1  872454415016088  0.057819  0.061315  0.065198  0.068802  0.076027  0.080841\n",
       "2  247046588569436  0.106395  0.114423  0.123599  0.134067  0.146096  0.158771\n",
       "3  980835578861104  0.208022  0.220220  0.232020  0.243880  0.260946  0.279976\n",
       "4  831802700567899  0.098284  0.109200  0.120707  0.130108  0.141123  0.151876\n",
       "5  612245620047788  0.257157  0.268123  0.284490  0.303600  0.325371  0.345075\n",
       "6  673774298594228  0.259240  0.282434  0.303879  0.321641  0.339991  0.355683\n",
       "7   53680010164939  0.000655  0.000708  0.000767  0.000821  0.000868  0.000921\n",
       "8  361010560468310  0.022861  0.024174  0.026255  0.028375  0.030700  0.032967\n",
       "9  688423451822448  0.253130  0.271248  0.291468  0.312031  0.332300  0.354366"
      ]
     },
     "execution_count": 404,
     "metadata": {},
     "output_type": "execute_result"
    }
   ],
   "source": [
    "ss = convert_surv_to_prob(sep_surv_pred,'sep',kdf)\n",
    "ss['lbcip']"
   ]
  },
  {
   "cell_type": "code",
   "execution_count": 405,
   "metadata": {
    "collapsed": false
   },
   "outputs": [
    {
     "data": {
      "text/plain": [
       "{'lbcip':                KEY       t_0       t_1       t_2       t_3       t_4       t_5\n",
       " 0  929965184037557  0.316874  0.334693  0.348361  0.364745  0.382539  0.399412\n",
       " 1  872454415016088  0.057819  0.061315  0.065198  0.068802  0.076027  0.080841\n",
       " 2  247046588569436  0.106395  0.114423  0.123599  0.134067  0.146096  0.158771\n",
       " 3  980835578861104  0.208022  0.220220  0.232020  0.243880  0.260946  0.279976\n",
       " 4  831802700567899  0.098284  0.109200  0.120707  0.130108  0.141123  0.151876\n",
       " 5  612245620047788  0.257157  0.268123  0.284490  0.303600  0.325371  0.345075\n",
       " 6  673774298594228  0.259240  0.282434  0.303879  0.321641  0.339991  0.355683\n",
       " 7   53680010164939  0.000655  0.000708  0.000767  0.000821  0.000868  0.000921\n",
       " 8  361010560468310  0.022861  0.024174  0.026255  0.028375  0.030700  0.032967\n",
       " 9  688423451822448  0.253130  0.271248  0.291468  0.312031  0.332300  0.354366,\n",
       " 'surv':                KEY       t_0       t_1       t_2       t_3       t_4       t_5\n",
       " 0  929965184037557  0.330187  0.348548  0.362615  0.379458  0.397724  0.415020\n",
       " 1  872454415016088  0.069501  0.073675  0.078308  0.082604  0.091206  0.096930\n",
       " 2  247046588569436  0.109945  0.118223  0.127681  0.138466  0.150855  0.163902\n",
       " 3  980835578861104  0.221447  0.234310  0.246740  0.259218  0.277148  0.297107\n",
       " 4  831802700567899  0.105603  0.117278  0.129572  0.139608  0.151355  0.162811\n",
       " 5  612245620047788  0.260104  0.271172  0.287686  0.306961  0.328912  0.348771\n",
       " 6  673774298594228  0.259762  0.282992  0.304470  0.322258  0.340634  0.356347\n",
       " 7   53680010164939  0.000798  0.000863  0.000935  0.001001  0.001057  0.001123\n",
       " 8  361010560468310  0.025517  0.026980  0.029299  0.031661  0.034250  0.036775\n",
       " 9  688423451822448  0.253823  0.271981  0.292245  0.312849  0.333158  0.355264,\n",
       " 'ubcip':                KEY       t_0       t_1       t_2       t_3       t_4       t_5\n",
       " 0  929965184037557  0.343907  0.362808  0.377269  0.394563  0.413290  0.430996\n",
       " 1  872454415016088  0.083438  0.088408  0.093920  0.099025  0.109233  0.116013\n",
       " 2  247046588569436  0.113606  0.122140  0.131888  0.142998  0.155755  0.169182\n",
       " 3  980835578861104  0.235604  0.249150  0.262225  0.275334  0.294143  0.315040\n",
       " 4  831802700567899  0.113433  0.125910  0.139036  0.149740  0.162257  0.174449\n",
       " 5  612245620047788  0.263078  0.274249  0.290910  0.310351  0.332482  0.352496\n",
       " 6  673774298594228  0.260284  0.283551  0.305062  0.322876  0.341278  0.357012\n",
       " 7   53680010164939  0.000972  0.001052  0.001139  0.001219  0.001289  0.001368\n",
       " 8  361010560468310  0.028477  0.030107  0.032690  0.035320  0.038203  0.041013\n",
       " 9  688423451822448  0.254518  0.272716  0.293023  0.313669  0.334017  0.356164}"
      ]
     },
     "execution_count": 405,
     "metadata": {},
     "output_type": "execute_result"
    }
   ],
   "source": [
    "ss"
   ]
  },
  {
   "cell_type": "code",
   "execution_count": 376,
   "metadata": {
    "collapsed": false
   },
   "outputs": [
    {
     "data": {
      "text/html": [
       "<div>\n",
       "<table border=\"1\" class=\"dataframe\">\n",
       "  <thead>\n",
       "    <tr style=\"text-align: right;\">\n",
       "      <th></th>\n",
       "      <th>sep_prob_0</th>\n",
       "      <th>sep_prob_1</th>\n",
       "      <th>sep_prob_2</th>\n",
       "      <th>sep_prob_3</th>\n",
       "      <th>sep_prob_4</th>\n",
       "      <th>sep_prob_5</th>\n",
       "    </tr>\n",
       "  </thead>\n",
       "  <tbody>\n",
       "    <tr>\n",
       "      <th>0</th>\n",
       "      <td>0.330187</td>\n",
       "      <td>0.348548</td>\n",
       "      <td>0.362615</td>\n",
       "      <td>0.379458</td>\n",
       "      <td>0.397724</td>\n",
       "      <td>0.415020</td>\n",
       "    </tr>\n",
       "    <tr>\n",
       "      <th>1</th>\n",
       "      <td>0.069501</td>\n",
       "      <td>0.073675</td>\n",
       "      <td>0.078308</td>\n",
       "      <td>0.082604</td>\n",
       "      <td>0.091206</td>\n",
       "      <td>0.096930</td>\n",
       "    </tr>\n",
       "    <tr>\n",
       "      <th>2</th>\n",
       "      <td>0.109945</td>\n",
       "      <td>0.118223</td>\n",
       "      <td>0.127681</td>\n",
       "      <td>0.138466</td>\n",
       "      <td>0.150855</td>\n",
       "      <td>0.163902</td>\n",
       "    </tr>\n",
       "    <tr>\n",
       "      <th>3</th>\n",
       "      <td>0.221447</td>\n",
       "      <td>0.234310</td>\n",
       "      <td>0.246740</td>\n",
       "      <td>0.259218</td>\n",
       "      <td>0.277148</td>\n",
       "      <td>0.297107</td>\n",
       "    </tr>\n",
       "    <tr>\n",
       "      <th>4</th>\n",
       "      <td>0.105603</td>\n",
       "      <td>0.117278</td>\n",
       "      <td>0.129572</td>\n",
       "      <td>0.139608</td>\n",
       "      <td>0.151355</td>\n",
       "      <td>0.162811</td>\n",
       "    </tr>\n",
       "    <tr>\n",
       "      <th>5</th>\n",
       "      <td>0.260104</td>\n",
       "      <td>0.271172</td>\n",
       "      <td>0.287686</td>\n",
       "      <td>0.306961</td>\n",
       "      <td>0.328912</td>\n",
       "      <td>0.348771</td>\n",
       "    </tr>\n",
       "    <tr>\n",
       "      <th>6</th>\n",
       "      <td>0.259762</td>\n",
       "      <td>0.282992</td>\n",
       "      <td>0.304470</td>\n",
       "      <td>0.322258</td>\n",
       "      <td>0.340634</td>\n",
       "      <td>0.356347</td>\n",
       "    </tr>\n",
       "    <tr>\n",
       "      <th>7</th>\n",
       "      <td>0.000798</td>\n",
       "      <td>0.000863</td>\n",
       "      <td>0.000935</td>\n",
       "      <td>0.001001</td>\n",
       "      <td>0.001057</td>\n",
       "      <td>0.001123</td>\n",
       "    </tr>\n",
       "    <tr>\n",
       "      <th>8</th>\n",
       "      <td>0.025517</td>\n",
       "      <td>0.026980</td>\n",
       "      <td>0.029299</td>\n",
       "      <td>0.031661</td>\n",
       "      <td>0.034250</td>\n",
       "      <td>0.036775</td>\n",
       "    </tr>\n",
       "    <tr>\n",
       "      <th>9</th>\n",
       "      <td>0.253823</td>\n",
       "      <td>0.271981</td>\n",
       "      <td>0.292245</td>\n",
       "      <td>0.312849</td>\n",
       "      <td>0.333158</td>\n",
       "      <td>0.355264</td>\n",
       "    </tr>\n",
       "  </tbody>\n",
       "</table>\n",
       "</div>"
      ],
      "text/plain": [
       "   sep_prob_0  sep_prob_1  sep_prob_2  sep_prob_3  sep_prob_4  sep_prob_5\n",
       "0    0.330187    0.348548    0.362615    0.379458    0.397724    0.415020\n",
       "1    0.069501    0.073675    0.078308    0.082604    0.091206    0.096930\n",
       "2    0.109945    0.118223    0.127681    0.138466    0.150855    0.163902\n",
       "3    0.221447    0.234310    0.246740    0.259218    0.277148    0.297107\n",
       "4    0.105603    0.117278    0.129572    0.139608    0.151355    0.162811\n",
       "5    0.260104    0.271172    0.287686    0.306961    0.328912    0.348771\n",
       "6    0.259762    0.282992    0.304470    0.322258    0.340634    0.356347\n",
       "7    0.000798    0.000863    0.000935    0.001001    0.001057    0.001123\n",
       "8    0.025517    0.026980    0.029299    0.031661    0.034250    0.036775\n",
       "9    0.253823    0.271981    0.292245    0.312849    0.333158    0.355264"
      ]
     },
     "execution_count": 376,
     "metadata": {},
     "output_type": "execute_result"
    }
   ],
   "source": [
    "ss['surv']"
   ]
  },
  {
   "cell_type": "code",
   "execution_count": null,
   "metadata": {
    "collapsed": true
   },
   "outputs": [],
   "source": [
    "sep_proba = 1-sep_surv_pred['surv']\n",
    "sep_proba['KEY']=current.KEY\n",
    "sep_proba.columns = ['sep_prob0','sep_prob1','sep_prob2','sep_prob3','sep_prob4','sep_prob5']"
   ]
  },
  {
   "cell_type": "code",
   "execution_count": 353,
   "metadata": {
    "collapsed": true
   },
   "outputs": [],
   "source": [
    "## for retirement\n",
    "ret_df = tdf[tdf['Age_years']>=50.0].copy()\n",
    "\n",
    "ret_surv_pred = forecast_survival_function(ret_mdl, ret_df[rcols], time_range=[0,1,2,3,4,5], calc_ci=True, extrapolate=False)"
   ]
  },
  {
   "cell_type": "code",
   "execution_count": 371,
   "metadata": {
    "collapsed": true
   },
   "outputs": [],
   "source": [
    "rr = convert_surv_to_prob(ret_surv_pred,'ret',kdf)"
   ]
  },
  {
   "cell_type": "code",
   "execution_count": 373,
   "metadata": {
    "collapsed": false
   },
   "outputs": [
    {
     "data": {
      "text/html": [
       "<div>\n",
       "<table border=\"1\" class=\"dataframe\">\n",
       "  <thead>\n",
       "    <tr style=\"text-align: right;\">\n",
       "      <th></th>\n",
       "      <th>ret_prob_0</th>\n",
       "      <th>ret_prob_1</th>\n",
       "      <th>ret_prob_2</th>\n",
       "      <th>ret_prob_3</th>\n",
       "      <th>ret_prob_4</th>\n",
       "      <th>ret_prob_5</th>\n",
       "    </tr>\n",
       "  </thead>\n",
       "  <tbody>\n",
       "    <tr>\n",
       "      <th>0</th>\n",
       "      <td>0.714605</td>\n",
       "      <td>0.760385</td>\n",
       "      <td>0.801521</td>\n",
       "      <td>0.840423</td>\n",
       "      <td>0.875270</td>\n",
       "      <td>0.902407</td>\n",
       "    </tr>\n",
       "    <tr>\n",
       "      <th>1</th>\n",
       "      <td>0.490477</td>\n",
       "      <td>0.533840</td>\n",
       "      <td>0.578892</td>\n",
       "      <td>0.621604</td>\n",
       "      <td>0.673162</td>\n",
       "      <td>0.729349</td>\n",
       "    </tr>\n",
       "    <tr>\n",
       "      <th>2</th>\n",
       "      <td>0.169326</td>\n",
       "      <td>0.181262</td>\n",
       "      <td>0.194641</td>\n",
       "      <td>0.211339</td>\n",
       "      <td>0.227534</td>\n",
       "      <td>0.243582</td>\n",
       "    </tr>\n",
       "    <tr>\n",
       "      <th>5</th>\n",
       "      <td>0.206971</td>\n",
       "      <td>0.220267</td>\n",
       "      <td>0.237096</td>\n",
       "      <td>0.260972</td>\n",
       "      <td>0.290522</td>\n",
       "      <td>0.324579</td>\n",
       "    </tr>\n",
       "    <tr>\n",
       "      <th>6</th>\n",
       "      <td>0.148933</td>\n",
       "      <td>0.160962</td>\n",
       "      <td>0.172393</td>\n",
       "      <td>0.183705</td>\n",
       "      <td>0.193276</td>\n",
       "      <td>0.205493</td>\n",
       "    </tr>\n",
       "    <tr>\n",
       "      <th>7</th>\n",
       "      <td>0.216655</td>\n",
       "      <td>0.240781</td>\n",
       "      <td>0.269129</td>\n",
       "      <td>0.302119</td>\n",
       "      <td>0.340576</td>\n",
       "      <td>0.385182</td>\n",
       "    </tr>\n",
       "    <tr>\n",
       "      <th>8</th>\n",
       "      <td>0.123643</td>\n",
       "      <td>0.132615</td>\n",
       "      <td>0.145108</td>\n",
       "      <td>0.162531</td>\n",
       "      <td>0.182712</td>\n",
       "      <td>0.207977</td>\n",
       "    </tr>\n",
       "    <tr>\n",
       "      <th>9</th>\n",
       "      <td>0.061930</td>\n",
       "      <td>0.067385</td>\n",
       "      <td>0.072838</td>\n",
       "      <td>0.078567</td>\n",
       "      <td>0.084532</td>\n",
       "      <td>0.091365</td>\n",
       "    </tr>\n",
       "  </tbody>\n",
       "</table>\n",
       "</div>"
      ],
      "text/plain": [
       "   ret_prob_0  ret_prob_1  ret_prob_2  ret_prob_3  ret_prob_4  ret_prob_5\n",
       "0    0.714605    0.760385    0.801521    0.840423    0.875270    0.902407\n",
       "1    0.490477    0.533840    0.578892    0.621604    0.673162    0.729349\n",
       "2    0.169326    0.181262    0.194641    0.211339    0.227534    0.243582\n",
       "5    0.206971    0.220267    0.237096    0.260972    0.290522    0.324579\n",
       "6    0.148933    0.160962    0.172393    0.183705    0.193276    0.205493\n",
       "7    0.216655    0.240781    0.269129    0.302119    0.340576    0.385182\n",
       "8    0.123643    0.132615    0.145108    0.162531    0.182712    0.207977\n",
       "9    0.061930    0.067385    0.072838    0.078567    0.084532    0.091365"
      ]
     },
     "execution_count": 373,
     "metadata": {},
     "output_type": "execute_result"
    }
   ],
   "source": [
    "rr['surv']"
   ]
  },
  {
   "cell_type": "code",
   "execution_count": 354,
   "metadata": {
    "collapsed": false
   },
   "outputs": [
    {
     "data": {
      "text/plain": [
       "<class 'pandas.core.panel.Panel'>\n",
       "Dimensions: 3 (items) x 8 (major_axis) x 6 (minor_axis)\n",
       "Items axis: lbci to ubci\n",
       "Major_axis axis: 0 to 9\n",
       "Minor_axis axis: t_0 to t_5"
      ]
     },
     "execution_count": 354,
     "metadata": {},
     "output_type": "execute_result"
    }
   ],
   "source": [
    "ret_surv_pred"
   ]
  },
  {
   "cell_type": "code",
   "execution_count": 355,
   "metadata": {
    "collapsed": false
   },
   "outputs": [
    {
     "data": {
      "text/html": [
       "<div>\n",
       "<table border=\"1\" class=\"dataframe\">\n",
       "  <thead>\n",
       "    <tr style=\"text-align: right;\">\n",
       "      <th></th>\n",
       "      <th>t_0</th>\n",
       "      <th>t_1</th>\n",
       "      <th>t_2</th>\n",
       "      <th>t_3</th>\n",
       "      <th>t_4</th>\n",
       "      <th>t_5</th>\n",
       "    </tr>\n",
       "  </thead>\n",
       "  <tbody>\n",
       "    <tr>\n",
       "      <th>0</th>\n",
       "      <td>0.285395</td>\n",
       "      <td>0.239615</td>\n",
       "      <td>0.198479</td>\n",
       "      <td>0.159577</td>\n",
       "      <td>0.124730</td>\n",
       "      <td>0.097593</td>\n",
       "    </tr>\n",
       "    <tr>\n",
       "      <th>1</th>\n",
       "      <td>0.509523</td>\n",
       "      <td>0.466160</td>\n",
       "      <td>0.421108</td>\n",
       "      <td>0.378396</td>\n",
       "      <td>0.326838</td>\n",
       "      <td>0.270651</td>\n",
       "    </tr>\n",
       "    <tr>\n",
       "      <th>2</th>\n",
       "      <td>0.830674</td>\n",
       "      <td>0.818738</td>\n",
       "      <td>0.805359</td>\n",
       "      <td>0.788661</td>\n",
       "      <td>0.772466</td>\n",
       "      <td>0.756418</td>\n",
       "    </tr>\n",
       "    <tr>\n",
       "      <th>5</th>\n",
       "      <td>0.793029</td>\n",
       "      <td>0.779733</td>\n",
       "      <td>0.762904</td>\n",
       "      <td>0.739028</td>\n",
       "      <td>0.709478</td>\n",
       "      <td>0.675421</td>\n",
       "    </tr>\n",
       "    <tr>\n",
       "      <th>6</th>\n",
       "      <td>0.851067</td>\n",
       "      <td>0.839038</td>\n",
       "      <td>0.827607</td>\n",
       "      <td>0.816295</td>\n",
       "      <td>0.806724</td>\n",
       "      <td>0.794507</td>\n",
       "    </tr>\n",
       "    <tr>\n",
       "      <th>7</th>\n",
       "      <td>0.783345</td>\n",
       "      <td>0.759219</td>\n",
       "      <td>0.730871</td>\n",
       "      <td>0.697881</td>\n",
       "      <td>0.659424</td>\n",
       "      <td>0.614818</td>\n",
       "    </tr>\n",
       "    <tr>\n",
       "      <th>8</th>\n",
       "      <td>0.876357</td>\n",
       "      <td>0.867385</td>\n",
       "      <td>0.854892</td>\n",
       "      <td>0.837469</td>\n",
       "      <td>0.817288</td>\n",
       "      <td>0.792023</td>\n",
       "    </tr>\n",
       "    <tr>\n",
       "      <th>9</th>\n",
       "      <td>0.938070</td>\n",
       "      <td>0.932615</td>\n",
       "      <td>0.927162</td>\n",
       "      <td>0.921433</td>\n",
       "      <td>0.915468</td>\n",
       "      <td>0.908635</td>\n",
       "    </tr>\n",
       "  </tbody>\n",
       "</table>\n",
       "</div>"
      ],
      "text/plain": [
       "        t_0       t_1       t_2       t_3       t_4       t_5\n",
       "0  0.285395  0.239615  0.198479  0.159577  0.124730  0.097593\n",
       "1  0.509523  0.466160  0.421108  0.378396  0.326838  0.270651\n",
       "2  0.830674  0.818738  0.805359  0.788661  0.772466  0.756418\n",
       "5  0.793029  0.779733  0.762904  0.739028  0.709478  0.675421\n",
       "6  0.851067  0.839038  0.827607  0.816295  0.806724  0.794507\n",
       "7  0.783345  0.759219  0.730871  0.697881  0.659424  0.614818\n",
       "8  0.876357  0.867385  0.854892  0.837469  0.817288  0.792023\n",
       "9  0.938070  0.932615  0.927162  0.921433  0.915468  0.908635"
      ]
     },
     "execution_count": 355,
     "metadata": {},
     "output_type": "execute_result"
    }
   ],
   "source": [
    "ret_surv_pred['surv']"
   ]
  },
  {
   "cell_type": "markdown",
   "metadata": {},
   "source": [
    "## Define the current employees"
   ]
  },
  {
   "cell_type": "code",
   "execution_count": null,
   "metadata": {
    "collapsed": false
   },
   "outputs": [],
   "source": [
    "current = empl[empl.status == 0].copy()"
   ]
  },
  {
   "cell_type": "markdown",
   "metadata": {},
   "source": [
    "## Look at importing the relative version of the module of interest"
   ]
  },
  {
   "cell_type": "code",
   "execution_count": null,
   "metadata": {
    "collapsed": true
   },
   "outputs": [],
   "source": [
    "working_dir = u'C:/Users/kesj/Documents/projects/HRattrition/reduced/'\n",
    "ll_repo = u'C:/Users/kesj/code/lifelines'\n"
   ]
  },
  {
   "cell_type": "code",
   "execution_count": null,
   "metadata": {
    "collapsed": true
   },
   "outputs": [],
   "source": [
    "import os,subprocess,sys\n",
    "import pandas as pd\n",
    "import numpy as np\n",
    "%matplotlib inline\n",
    "from datetime import datetime\n",
    "import matplotlib.pyplot as plt\n",
    "from itertools import chain\n",
    "import random\n",
    "import seaborn as sns\n",
    "from glob import glob\n",
    "plt.style.use('ggplot')"
   ]
  },
  {
   "cell_type": "code",
   "execution_count": null,
   "metadata": {
    "collapsed": true
   },
   "outputs": [],
   "source": [
    "os.chdir(ll_repo)"
   ]
  },
  {
   "cell_type": "code",
   "execution_count": null,
   "metadata": {
    "collapsed": false
   },
   "outputs": [],
   "source": [
    "sm_cols = ['Age_years','Tenure_years','former','HAVE_DEP','ANNUAL_RT','SEX','HAVE_INS','PERF1','BOX1','REH_CNT','DIRECT_RPT_CNT','DEPTCNT1','LOCCNT1','EXTFUNC_CNT','LOCSTCNT1','HUBIND','REMOTE','INTERN']"
   ]
  },
  {
   "cell_type": "code",
   "execution_count": null,
   "metadata": {
    "collapsed": false
   },
   "outputs": [],
   "source": [
    "current[sm_cols].isnull().any()"
   ]
  },
  {
   "cell_type": "markdown",
   "metadata": {},
   "source": [
    "## build a model from these features"
   ]
  },
  {
   "cell_type": "code",
   "execution_count": null,
   "metadata": {
    "collapsed": false
   },
   "outputs": [],
   "source": [
    "import lifelines as ll"
   ]
  },
  {
   "cell_type": "code",
   "execution_count": null,
   "metadata": {
    "collapsed": false
   },
   "outputs": [],
   "source": [
    "# repeat the split\n",
    "from sklearn import cross_validation\n",
    "# break into evaluation and build sets\n",
    "print(\"Starting with subset of {0} employees.\".format(len(empl)))\n",
    "eval_fraction = 0.20\n",
    "e2build, e2eval = cross_validation.train_test_split(empl,test_size=eval_fraction,random_state = 57843)\n",
    "print(\"Evaluation set has {0} employees; training set has {1} employees.\".format(len(e2eval),len(e2build)))"
   ]
  },
  {
   "cell_type": "code",
   "execution_count": null,
   "metadata": {
    "collapsed": false
   },
   "outputs": [],
   "source": [
    "%%time \n",
    "cf = ll.CoxPHFitter()\n",
    "scores = ll.utils.k_fold_cross_validation(cf,e2build[sm_cols],'Tenure_years','former')"
   ]
  },
  {
   "cell_type": "code",
   "execution_count": null,
   "metadata": {
    "collapsed": false,
    "scrolled": true
   },
   "outputs": [],
   "source": [
    "cf.print_summary()"
   ]
  },
  {
   "cell_type": "code",
   "execution_count": null,
   "metadata": {
    "collapsed": false
   },
   "outputs": [],
   "source": [
    "scores"
   ]
  },
  {
   "cell_type": "code",
   "execution_count": null,
   "metadata": {
    "collapsed": true
   },
   "outputs": [],
   "source": [
    "import lifelines as ll"
   ]
  },
  {
   "cell_type": "code",
   "execution_count": null,
   "metadata": {
    "collapsed": false
   },
   "outputs": [],
   "source": [
    "reload(ll)"
   ]
  },
  {
   "cell_type": "code",
   "execution_count": null,
   "metadata": {
    "collapsed": false
   },
   "outputs": [],
   "source": [
    "%%time \n",
    "cf2 = ll.CoxPHFitter()\n",
    "scores2 = ll.utils.k_fold_cross_validation(cf2,e2build[sm_cols[:-1]],'Tenure_years','former')"
   ]
  },
  {
   "cell_type": "code",
   "execution_count": null,
   "metadata": {
    "collapsed": false
   },
   "outputs": [],
   "source": [
    "cf3 = ll.CoxPHFitter()\n"
   ]
  },
  {
   "cell_type": "code",
   "execution_count": null,
   "metadata": {
    "collapsed": true
   },
   "outputs": [],
   "source": [
    "cf3."
   ]
  },
  {
   "cell_type": "code",
   "execution_count": null,
   "metadata": {
    "collapsed": false,
    "scrolled": false
   },
   "outputs": [],
   "source": [
    "print(scores2)\n",
    "cf2.print_summary()"
   ]
  },
  {
   "cell_type": "code",
   "execution_count": null,
   "metadata": {
    "collapsed": false
   },
   "outputs": [],
   "source": [
    "cf2.print_summary()"
   ]
  },
  {
   "cell_type": "code",
   "execution_count": null,
   "metadata": {
    "collapsed": false
   },
   "outputs": [],
   "source": [
    "import pickle"
   ]
  },
  {
   "cell_type": "code",
   "execution_count": null,
   "metadata": {
    "collapsed": false
   },
   "outputs": [],
   "source": [
    "os.chdir(working_dir)"
   ]
  },
  {
   "cell_type": "code",
   "execution_count": null,
   "metadata": {
    "collapsed": false
   },
   "outputs": [],
   "source": [
    "pickle.dump(cf2, open( 'coxph_sep_survM1.pkl','wb'))"
   ]
  },
  {
   "cell_type": "markdown",
   "metadata": {},
   "source": [
    "# Start with the model"
   ]
  },
  {
   "cell_type": "code",
   "execution_count": null,
   "metadata": {
    "collapsed": true
   },
   "outputs": [],
   "source": [
    "from glob import glob\n",
    "from __future__ import print_function"
   ]
  },
  {
   "cell_type": "code",
   "execution_count": null,
   "metadata": {
    "collapsed": false
   },
   "outputs": [],
   "source": [
    "MDL_BASE_PATH  = u'C:/Users/kesj/code/hrsep1/smodel/'\n",
    "pkl_files =glob(MDL_BASE_PATH+'*.pkl')\n",
    "print(pkl_files)"
   ]
  },
  {
   "cell_type": "code",
   "execution_count": null,
   "metadata": {
    "collapsed": true
   },
   "outputs": [],
   "source": [
    "p2 = []\n",
    "p2+=pkl_files\n",
    "p2.append('retirement_cf0.pkl')"
   ]
  },
  {
   "cell_type": "code",
   "execution_count": null,
   "metadata": {
    "collapsed": true
   },
   "outputs": [],
   "source": [
    "p2.append('')"
   ]
  },
  {
   "cell_type": "code",
   "execution_count": null,
   "metadata": {
    "collapsed": false
   },
   "outputs": [],
   "source": [
    "[a for a in p2 if 'retirement' in a]"
   ]
  },
  {
   "cell_type": "code",
   "execution_count": null,
   "metadata": {
    "collapsed": true
   },
   "outputs": [],
   "source": [
    "mdl = pickle.load(open(pkl_files[0],'rb'))"
   ]
  },
  {
   "cell_type": "code",
   "execution_count": null,
   "metadata": {
    "collapsed": false
   },
   "outputs": [],
   "source": [
    "mdl.print_summary()"
   ]
  },
  {
   "cell_type": "code",
   "execution_count": null,
   "metadata": {
    "collapsed": true
   },
   "outputs": [],
   "source": [
    "m2 = pickle.load(open(pkl_files[1],'rb'))"
   ]
  },
  {
   "cell_type": "code",
   "execution_count": null,
   "metadata": {
    "collapsed": false
   },
   "outputs": [],
   "source": [
    "m2.print_summary()"
   ]
  },
  {
   "cell_type": "code",
   "execution_count": null,
   "metadata": {
    "collapsed": false
   },
   "outputs": [],
   "source": [
    "#m2.event_observed.name, m2.durations.name, m2.hazards_.columns.tolist()\n",
    "os.chdir(\"../../../projects/HRattrition/webserverTest/\")\n",
    "%ls"
   ]
  },
  {
   "cell_type": "code",
   "execution_count": null,
   "metadata": {
    "collapsed": false
   },
   "outputs": [],
   "source": [
    "os.path.abspath('model_1')"
   ]
  },
  {
   "cell_type": "code",
   "execution_count": null,
   "metadata": {
    "collapsed": true
   },
   "outputs": [],
   "source": [
    "td1 = pd.read_csv(tdata1,delimiter=';')"
   ]
  },
  {
   "cell_type": "code",
   "execution_count": null,
   "metadata": {
    "collapsed": false
   },
   "outputs": [],
   "source": [
    "my_cols = ['KEY','HIRE_DT','BIRTHDATE','HAVE_INS','HAVE_DEP','EMPL_TYPE','SAL1']\n",
    "td1[my_cols]"
   ]
  },
  {
   "cell_type": "code",
   "execution_count": null,
   "metadata": {
    "collapsed": false
   },
   "outputs": [],
   "source": [
    "td1.KEY"
   ]
  },
  {
   "cell_type": "code",
   "execution_count": null,
   "metadata": {
    "collapsed": false
   },
   "outputs": [],
   "source": [
    "td1.TERMINATION_DT"
   ]
  },
  {
   "cell_type": "code",
   "execution_count": null,
   "metadata": {
    "collapsed": false
   },
   "outputs": [],
   "source": [
    "histcurr_header_line = '\"KEY\";\"PER_ORG\";\"LOCATION\";\"LOC_TYPE_DESCR_SFI\";\"JOBCODE\";\"LEGACY_DEPT_SFI\";\"FULL_PART_TIME\";\"EMPL_TYPE\";\"SHIFT\";\"COMPANY\";\"STD_HOURS\";\"EMPL_CLASS\";\"GRADE\";\"COMP_FREQUENCY\";\"ANNUAL_RT\";\"FLSA_STATUS\";\"FTE\";\"FLOR_SFI\";\"EEO1CODE\";\"EXT_FUNC_ID_SFI\";\"FUNC_ID_SFI\";\"DIVISION_CODE_SFI\";\"JOB_FAMILY\";\"JOB_FUNCTION\";\"LOC_STATE\";\"LOC_CITY\";\"MAX_RT_ANNUAL\";\"MIN_RT_ANNUAL\";\"TERMINATION_DT\";\"HUBIND\";\"REMOTE\";\"SUPV_DIFF_LOC\";\"REMOTE_SUPV\";\"LOCCNT1\";\"LOCCNT3\";\"LOCCNT5\";\"LOCCNT10\";\"JOBCNT1\";\"JOBCNT3\";\"JOBCNT5\";\"JOBCNT10\";\"DEPTCNT1\";\"DEPTCNT3\";\"DEPTCNT5\";\"DEPTCNT10\";\"GRADECNT1\";\"GRADECNT3\";\"GRADECNT5\";\"GRADECNT10\";\"FLOORCNT1\";\"FLOORCNT3\";\"FLOORCNT5\";\"FLOORCNT10\";\"SUPVCNT1\";\"SUPVCNT3\";\"SUPVCNT5\";\"SUPVCNT10\";\"FUNCCNT1\";\"FUNCCNT3\";\"FUNCCNT5\";\"FUNCCNT10\";\"EFUNCCNT1\";\"EFUNCCNT3\";\"EFUNCCNT5\";\"EFUNCCNT10\";\"LOCSTCNT1\";\"LOCSTCNT3\";\"LOCSTCNT5\";\"LOCSTCNT10\";\"FTPTCNT1\";\"FTPTCNT3\";\"FTPTCNT5\";\"FTPTCNT10\";\"PTFTCNT1\";\"PTFTCNT3\";\"PTFTCNT5\";\"PTFTCNT10\";\"FULLPART1\";\"FULLPART3\";\"FULLPART5\";\"FULLPART10\";\"PARTFULL1\";\"PARTFULL3\";\"PARTFULL5\";\"PARTFULL10\";\"REH_CNT\";\"INTERN\";\"CUR_LOC_MOS\";\"CUR_JOB_MOS\";\"CUR_GRADE_MOS\";\"CUR_DEPT_MOS\";\"CUR_FUNC_MOS\";\"CUR_EFUNC_MOS\";\"TELE_MOS\";\"ACTRES1\";\"ACTRES2\";\"ACTRES3\";\"ACTRES4\";\"ACTRES5\";\"ACTRES6\";\"ACTRES7\";\"ACTRES8\";\"ACTRES9\";\"ACTRES10\";\"BOX1\";\"BOX2\";\"BOX3\";\"BOX4\";\"BOX5\";\"BOX6\";\"BOX7\";\"BOX8\";\"BOX9\";\"BOX10\";\"RATE1\";\"RATE2\";\"RATE3\";\"RATE4\";\"RATE5\";\"RATE6\";\"RATE7\";\"RATE8\";\"RATE9\";\"RATE10\";\"SAL1\";\"SAL2\";\"SAL3\";\"SAL4\";\"SAL5\";\"SAL6\";\"SAL7\";\"SAL8\";\"SAL9\";\"SAL10\";\"MERIT1\";\"MERIT2\";\"MERIT3\";\"MERIT4\";\"MERIT5\";\"MERIT6\";\"MERIT7\";\"MERIT8\";\"MERIT9\";\"MERIT10\";\"PERF1\";\"PERF2\";\"PERF3\";\"PERF4\";\"PERF5\";\"PERF6\";\"PERF7\";\"PERF8\";\"PERF9\";\"PERF10\";\"SKEY\";\"DIRECT_RPT_CNT\";\"TOTAL_RPT_CNT\";\"COUNT\";\"COUNT\"'"
   ]
  },
  {
   "cell_type": "markdown",
   "metadata": {},
   "source": [
    "## Clean up the histcurr_header_line\n",
    "1. replace last two elements in histcurr_header_line\n",
    "    * 'COUNT':'FUNC_CNT','COUNT':'EXTFUNC_CNT'\n",
    "2. append HAVE_INS & HAVE_DEP\n"
   ]
  },
  {
   "cell_type": "code",
   "execution_count": null,
   "metadata": {
    "collapsed": false
   },
   "outputs": [],
   "source": [
    "header_line = ';'.join(histcurr_header_line.split(';')[:-2])\n",
    "header_line+=';\"FUNC_CNT\";\"EXTFUNC_CNT\";\"HAVE_INS\";\"HAVE_DEP\"'\n",
    "header_line"
   ]
  },
  {
   "cell_type": "code",
   "execution_count": null,
   "metadata": {
    "collapsed": false
   },
   "outputs": [],
   "source": [
    "ex1"
   ]
  },
  {
   "cell_type": "code",
   "execution_count": null,
   "metadata": {
    "collapsed": false
   },
   "outputs": [],
   "source": [
    "ex1 = '\"929965184037557\";\"EMP\";\"19921\";\"OPERATIONS CENTER\";\"8017\";\"119804921\";\"F\";\"E\";\"1\";\"001\";\"38.75\";\"1\";\"PA4\";\"A\";\"52324.290000\";\"N\";\"1.00\";\"999\";\"5\";\"00182\";\"00001\";\"9\";\"FINAST\";\"PSA\";\"FL\";\"WINTER HAVEN\";\"53163.450\";\"33153.340\";\"\";\"N\";\"N\";\"Y\";\"N\";\"0\";\"0\";\"0\";\"0\";\"1\";\"2\";\"2\";\"2\";\"1\";\"2\";\"2\";\"2\";\"0\";\"0\";\"1\";\"1\";\"0\";\"0\";\"0\";\"0\";\"2\";\"3\";\"5\";\"10\";\"0\";\"0\";\"0\";\"0\";\"1\";\"2\";\"2\";\"2\";\"0\";\"0\";\"0\";\"0\";\"0\";\"0\";\"0\";\"0\";\"0\";\"0\";\"0\";\"0\";\"N\";\"N\";\"N\";\"N\";\"N\";\"N\";\"N\";\"N\";\"0\";\"N\";\"197.193548\";\"10.9677419\";\"46.8387097\";\"10.9677419\";\"316.806452\";\"10.9677419\";\"0\";\"RRTR W/JOB NUMBER CHANGE;INCENTIVE;MERIT;MISCELLANEOUS DATA CHANGE\";\"MISCELLANEOUS DATA CHANGE;INCENTIVE;MERIT\";\"TRANSFER W/ JOB NUMBER CHANGE;INCENTIVE;MERIT\";\"MISCELLANEOUS DATA CHANGE;JOB RECLASSIFICATION;INCENTIVE;MERIT\";\"MISCELLANEOUS DATA CHANGE;INCENTIVE;MERIT\";\"MISCELLANEOUS DATA CHANGE;MERIT\";\"MISCELLANEOUS DATA CHANGE;MISCELLANEOUS DATA CHANGE;MERIT\";\"MISCELLANEOUS DATA CHANGE;MERIT\";\"MISCELLANEOUS DATA CHANGE;MERIT\";\"MISCELLANEOUS DATA CHANGE;MERIT\";\"S\";\"S\";\"S\";\"H\";\"H\";\"H\";\"S\";\"S\";\"S\";\"S\";\"R2C2\";\"R2C2\";\"R2C2\";\"R3C3\";\"R3C3\";\"R3C2\";\"R2C2\";\"R2C3\";\"R2C2\";\"R2C2\";\"52324.29\";\"51137.89\";\"50174.54\";\"49190.73\";\"48131.83\";\"47141.85\";\"46104.5\";\"45129.7\";\"44353.51\";\"43698.04\";\"1186.4\";\"963.35\";\"983.81\";\"1058.9\";\"989.98\";\"1037.35\";\"974.8\";\"776.19\";\"655.47\";\"722\";\"2904.63\";\"3050.61\";\"2951.44\";\"3754.28\";\"3724.21\";\"3112.05\";\"2635.57\";\"2328.56\";\"1529.43\";\"1856.56\";\"224608515493855\";\"9\";\"9\";\"1100\";\"116\"'"
   ]
  },
  {
   "cell_type": "code",
   "execution_count": null,
   "metadata": {
    "collapsed": true
   },
   "outputs": [],
   "source": [
    "ex2 = '\"872454415016088\";\"EMP\";\"00915\";\"CORPORATE HEADQUARTERS\";\"8017\";\"100804852\";\"F\";\"E\";\"1\";\"001\";\"38.75\";\"1\";\"PA4\";\"A\";\"57474.000000\";\"N\";\"1.00\";\"852\";\"5\";\"00182\";\"00001\";\"9\";\"FINAST\";\"PSA\";\"IL\";\"BLOOMINGTON\";\"57474.000\";\"35841.450\";\"\";\"Y\";\"N\";\"N\";\"N\";\"1\";\"2\";\"3\";\"3\";\"1\";\"2\";\"3\";\"3\";\"1\";\"2\";\"4\";\"4\";\"0\";\"0\";\"1\";\"1\";\"1\";\"1\";\"1\";\"1\";\"1\";\"2\";\"6\";\"10\";\"0\";\"0\";\"2\";\"2\";\"1\";\"2\";\"4\";\"4\";\"0\";\"0\";\"1\";\"1\";\"0\";\"0\";\"0\";\"0\";\"0\";\"0\";\"0\";\"0\";\"N\";\"N\";\"N\";\"N\";\"N\";\"N\";\"N\";\"N\";\"0\";\"N\";\"10.9677419\";\"10.9677419\";\"46.8387097\";\"10.9677419\";\"40.5806452\";\"10.9677419\";\"0\";\"TRANSFER W/ JOB NUMBER CHANGE;INCENTIVE;MERIT\";\"MISCELLANEOUS DATA CHANGE;INCENTIVE;MERIT;LOCATION/FLOOR CHANGE\";\"JOB CODE CHANGE;INCENTIVE;MERIT\";\"TRANSFER W/O JOB NUMBER CHANGE;MISCELLANEOUS DATA CHANGE;SALARY ADJUSTMENT;RRTR W/JOB NUMBER CHANGE;JOB RECLASSIFICATION;INCENTIVE;MERIT\";\"MISCELLANEOUS DATA CHANGE;INCENTIVE;MERIT;MISCELLANEOUS DATA CHANGE\";\"MERIT\";\"MISCELLANEOUS DATA CHANGE;DIVORCE/LEGAL SEP/ANNULMENT;MERIT\";\"MISCELLANEOUS DATA CHANGE;MERIT\";\"MISCELLANEOUS DATA CHANGE;MERIT\";\"MISCELLANEOUS DATA CHANGE;MERIT;MISCELLANEOUS DATA CHANGE\";\"H\";\"H\";\"H\";\"H\";\"H\";\"H\";\"S\";\"S\";\"S\";\"S\";\"R3C3\";\"R3C3\";\"R3C2\";\"R3C2\";\"R3C2\";\"R3C2\";\"R2C2\";\"R2C2\";\"R2C2\";\"R2C2\";\"57474\";\"57474\";\"56208.87\";\"54972\";\"50070.42\";\"49345.05\";\"48377.5\";\"48377.5\";\"48377.5\";\"48003.99\";\"0\";\"1265.13\";\"1236.87\";\"4901.58\";\"725.37\";\"967.55\";\"0\";\"0\";\"373.51\";\"793.14\";\"4080.65\";\"4271.87\";\"3710.61\";\"2733.84\";\"2728.78\";\"2902.65\";\"2472.09\";\"2176.99\";\"1680.14\";\"2039.51\";\"224608515493855\";\"9\";\"9\";\"1100\";\"116\"'\n",
    "ex3 = '\"247046588569436\";\"EMP\";\"00915\";\"CORPORATE HEADQUARTERS\";\"8017\";\"100804852\";\"F\";\"E\";\"1\";\"001\";\"38.75\";\"1\";\"PA4\";\"A\";\"51589.960000\";\"N\";\"1.00\";\"852\";\"5\";\"00182\";\"00001\";\"9\";\"FINAST\";\"PSA\";\"IL\";\"BLOOMINGTON\";\"57474.000\";\"35841.450\";\"\";\"Y\";\"N\";\"N\";\"N\";\"0\";\"0\";\"0\";\"0\";\"0\";\"0\";\"0\";\"0\";\"0\";\"0\";\"0\";\"0\";\"0\";\"0\";\"1\";\"2\";\"0\";\"0\";\"0\";\"0\";\"0\";\"2\";\"5\";\"9\";\"0\";\"1\";\"1\";\"1\";\"0\";\"0\";\"0\";\"0\";\"0\";\"0\";\"0\";\"0\";\"0\";\"0\";\"0\";\"0\";\"0\";\"0\";\"0\";\"0\";\"N\";\"N\";\"N\";\"N\";\"N\";\"N\";\"N\";\"N\";\"0\";\"N\";\"272.354839\";\"154.483871\";\"46.8387097\";\"154.935484\";\"45.8387097\";\"154.935484\";\"0\";\"INCENTIVE;MERIT\";\"INCENTIVE;MERIT\";\"MISCELLANEOUS DATA CHANGE;MISCELLANEOUS DATA CHANGE;INCENTIVE;MERIT\";\"MISCELLANEOUS DATA CHANGE;JOB RECLASSIFICATION;INCENTIVE;MERIT\";\"MISCELLANEOUS DATA CHANGE;MISCELLANEOUS DATA CHANGE;INCENTIVE;MERIT\";\"JOB RECLASSIFICATION;MERIT\";\"MISCELLANEOUS DATA CHANGE;MISCELLANEOUS DATA CHANGE;MERIT\";\"MERIT\";\"MISCELLANEOUS DATA CHANGE;MISCELLANEOUS DATA CHANGE;MERIT\";\"BENEFITS TRANSACTION;MISCELLANEOUS DATA CHANGE;MERIT\";\"S\";\"H\";\"H\";\"H\";\"H\";\"S\";\"H\";\"H\";\"H\";\"S\";\"R2C2\";\"R3C2\";\"R3C2\";\"R3C2\";\"R3C2\";\"R2C3\";\"R3C2\";\"R3C3\";\"R3C2\";\"R2C2\";\"51589.96\";\"50014.5\";\"47860.77\";\"45997.86\";\"44571.57\";\"43189.51\";\"42136.11\";\"41136.49\";\"39252.38\";\"37724.54\";\"1575.46\";\"2153.73\";\"1862.91\";\"1426.29\";\"1382.06\";\"1053.4\";\"999.62\";\"1884.11\";\"1527.84\";\"1034.65\";\"1925.56\";\"2153.73\";\"2276.89\";\"2139.44\";\"2073.1\";\"3160.21\";\"2702.67\";\"2041.12\";\"1867.36\";\"1166.74\";\"224608515493855\";\"9\";\"9\";\"1100\";\"116\"'"
   ]
  },
  {
   "cell_type": "code",
   "execution_count": null,
   "metadata": {
    "collapsed": true
   },
   "outputs": [],
   "source": [
    "ex4 = '\"980835578861104\";\"EMP\";\"24921\";\"OPERATIONS CENTER\";\"5405\";\"124021921\";\"F\";\"E\";\"1\";\"001\";\"38.75\";\"1\";\"PA3\";\"A\";\"47034.760000\";\"N\";\"1.00\";\"999\";\"5\";\"00086\";\"00006\";\"9\";\"SRVTCH\";\"PSA\";\"AZ\";\"TEMPE\";\"51294.000\";\"31045.350\";\"\";\"Y\";\"N\";\"Y\";\"N\";\"0\";\"1\";\"2\";\"3\";\"1\";\"2\";\"3\";\"3\";\"0\";\"1\";\"2\";\"5\";\"0\";\"1\";\"3\";\"3\";\"0\";\"0\";\"0\";\"0\";\"0\";\"3\";\"7\";\"12\";\"0\";\"0\";\"0\";\"0\";\"0\";\"1\";\"2\";\"3\";\"0\";\"0\";\"1\";\"1\";\"0\";\"0\";\"0\";\"0\";\"0\";\"0\";\"0\";\"0\";\"N\";\"N\";\"N\";\"N\";\"N\";\"N\";\"N\";\"N\";\"0\";\"N\";\"29.7741935\";\"10.516129\";\"29.7741935\";\"29.7741935\";\"159.967742\";\"29.7741935\";\"0\";\"JOB CODE CHANGE;TRANSFER W/O JOB NUMBER CHANGE;INCENTIVE;MERIT\";\"MISCELLANEOUS DATA CHANGE;INCENTIVE;MERIT\";\"TRANSFER WITH PROMOTION;ORGANIZATIONAL CHANGES;INCENTIVE;MERIT;MISCELLANEOUS DATA CHANGE\";\"RRTR W/JOB NUMBER CHANGE;MISCELLANEOUS DATA CHANGE;JOB RECLASSIFICATION;INCENTIVE;MERIT\";\"MISCELLANEOUS DATA CHANGE;INCENTIVE;MERIT;MISCELLANEOUS DATA CHANGE\";\"MISCELLANEOUS DATA CHANGE;MISCELLANEOUS DATA CHANGE;MERIT\";\"TRANSFER W/O JOB NUMBER CHANGE;TRANSFER W/O JOB NUMBER CHANGE;SALARY PLAN CHANGE;MERIT;MISCELLANEOUS DATA CHANGE\";\"MERIT\";\"MERIT\";\"LOCATION/FLOOR CHANGE;MISCELLANEOUS DATA CHANGE;MISCELLANEOUS DATA CHANGE;MISCELLANEOUS DATA CHANGE;MERIT\";\"H\";\"S\";\"S\";\"H\";\"H\";\"S\";\"H\";\"H\";\"H\";\"H\";\"R3C2\";\"R2C2\";\"R2C2\";\"R3C2\";\"R3C2\";\"R2C3\";\"R3C2\";\"R3C2\";\"R3C2\";\"R3C2\";\"47034.76\";\"45709.19\";\"42152.54\";\"55659.03\";\"54696.37\";\"53792.65\";\"52737.89\";\"51216.75\";\"51216.75\";\"51093.43\";\"1325.57\";\"1758.05\";\"622.94\";\"962.66\";\"903.72\";\"1054.76\";\"1521.14\";\"0\";\"123.32\";\"1391.65\";\"3245.35\";\"1758.05\";\"1868.83\";\"3413.05\";\"3399.7\";\"3164.27\";\"4112.71\";\"3457.13\";\"3576.54\";\"3578.53\";\"891514454452095\";\"7\";\"7\";\"2670\";\"272\"'"
   ]
  },
  {
   "cell_type": "code",
   "execution_count": null,
   "metadata": {
    "collapsed": true
   },
   "outputs": [],
   "source": [
    "ex5 = '\"831802700567899\";\"EMP\";\"00915\";\"CORPORATE HEADQUARTERS\";\"0896\";\"10096583289\";\"F\";\"S\";\"1\";\"001\";\"38.75\";\"1\";\"RA4\";\"A\";\"83240.000000\";\"Z\";\"1.00\";\"832\";\"2\";\"01001\";\"01000\";\"9\";\"ACTREP\";\"PTA\";\"IL\";\"BLOOMINGTON\";\"117249.610\";\"70877.630\";\"\";\"Y\";\"N\";\"N\";\"N\";\"0\";\"1\";\"1\";\"1\";\"0\";\"1\";\"1\";\"1\";\"1\";\"2\";\"2\";\"2\";\"0\";\"1\";\"1\";\"1\";\"0\";\"1\";\"1\";\"1\";\"2\";\"3\";\"3\";\"3\";\"0\";\"1\";\"1\";\"1\";\"0\";\"1\";\"1\";\"1\";\"0\";\"0\";\"0\";\"0\";\"0\";\"0\";\"0\";\"0\";\"0\";\"0\";\"0\";\"0\";\"N\";\"N\";\"N\";\"N\";\"N\";\"N\";\"N\";\"N\";\"1\";\"N\";\"16.6129032\";\"16.6129032\";\"16.6129032\";\"16.6129032\";\"16.6129032\";\"16.6129032\";\"0\";\"MISCELLANEOUS DATA CHANGE;MISCELLANEOUS DATA CHANGE;INCENTIVE;MERIT;TRANSFER W/O JOB NUMBER CHANGE\";\"REHIRE\";\"\";\"\";\"\";\"\";\"\";\"\";\"\";\"\";\"S\";\"\";\"\";\"\";\"\";\"\";\"\";\"\";\"\";\"\";\"R2C2\";\"\";\"\";\"\";\"\";\"\";\"\";\"\";\"\";\"\";\"83240\";\"0\";\"0\";\"0\";\"0\";\"0\";\"0\";\"0\";\"0\";\"0\";\"3240\";\"0\";\"0\";\"0\";\"0\";\"0\";\"0\";\"0\";\"0\";\"0\";\"2160\";\"0\";\"0\";\"0\";\"0\";\"0\";\"0\";\"0\";\"0\";\"0\";\"193562264644337\";\"8\";\"8\";\"337\";\"337\"'"
   ]
  },
  {
   "cell_type": "code",
   "execution_count": null,
   "metadata": {
    "collapsed": true
   },
   "outputs": [],
   "source": [
    "ex6 = '\"612245620047788\";\"EMP\";\"16928\";\"OPERATIONS CENTER\";\"5403\";\"116021928\";\"F\";\"E\";\"1\";\"001\";\"38.75\";\"1\";\"RA1\";\"A\";\"57409.500000\";\"N\";\"1.00\";\"999\";\"2\";\"00086\";\"00006\";\"9\";\"OPRSPC\";\"PTA\";\"OH\";\"COLUMBUS\";\"63700.350\";\"35830.250\";\"\";\"N\";\"N\";\"Y\";\"N\";\"0\";\"0\";\"0\";\"0\";\"1\";\"1\";\"1\";\"1\";\"0\";\"0\";\"0\";\"1\";\"0\";\"0\";\"1\";\"1\";\"0\";\"0\";\"0\";\"0\";\"1\";\"1\";\"1\";\"2\";\"0\";\"0\";\"0\";\"0\";\"0\";\"0\";\"0\";\"0\";\"0\";\"0\";\"0\";\"0\";\"0\";\"0\";\"0\";\"0\";\"0\";\"0\";\"0\";\"0\";\"N\";\"N\";\"N\";\"N\";\"N\";\"N\";\"N\";\"N\";\"0\";\"N\";\"139.677419\";\"7.67741935\";\"43.5483871\";\"103.806452\";\"159.967742\";\"159.967742\";\"0\";\"JOB CODE CHANGE;INCENTIVE;MERIT;MISCELLANEOUS DATA CHANGE;TRANSFER W/O JOB NUMBER CHANGE\";\"INCENTIVE;MERIT\";\"TRANSFER W/O JOB NUMBER CHANGE;INCENTIVE;MERIT\";\"JOB RECLASSIFICATION;INCENTIVE;MERIT;ORGANIZATIONAL CHANGES\";\"INCENTIVE;MERIT\";\"MARRIAGE;MERIT\";\"MERIT\";\"MERIT\";\"TRANSFER W/O JOB NUMBER CHANGE;MERIT\";\"MISCELLANEOUS DATA CHANGE;MISCELLANEOUS DATA CHANGE;MERIT\";\"S\";\"S\";\"S\";\"S\";\"S\";\"S\";\"S\";\"S\";\"S\";\"S\";\"R2C2\";\"R2C2\";\"R2C2\";\"R2C2\";\"R2C2\";\"R2C2\";\"R2C2\";\"R2C2\";\"R2C2\";\"R2C2\";\"57409.5\";\"56394.4\";\"55560.99\";\"54875.05\";\"54417.94\";\"53921.86\";\"53124.99\";\"52083.32\";\"51364.22\";\"50456.01\";\"1015.1\";\"833.41\";\"685.94\";\"457.11\";\"496.08\";\"796.87\";\"1041.67\";\"719.1\";\"908.21\";\"833.66\";\"2368.56\";\"1944.63\";\"2057.81\";\"1719.61\";\"1660.79\";\"2390.62\";\"3125\";\"1849.11\";\"2119.15\";\"2143.69\";\"40634222813246\";\"16\";\"16\";\"2670\";\"272\"'"
   ]
  },
  {
   "cell_type": "code",
   "execution_count": null,
   "metadata": {
    "collapsed": true
   },
   "outputs": [],
   "source": [
    "ex7 ='\"673774298594228\";\"EMP\";\"00915\";\"CORPORATE HEADQUARTERS\";\"5408\";\"10082080400\";\"F\";\"E\";\"1\";\"001\";\"38.75\";\"1\";\"PA4\";\"A\";\"52224.790000\";\"N\";\"1.00\";\"804\";\"5\";\"00196\";\"00006\";\"9\";\"ADMTCH\";\"PSA\";\"IL\";\"BLOOMINGTON\";\"57474.000\";\"35841.450\";\"\";\"Y\";\"N\";\"N\";\"N\";\"0\";\"0\";\"0\";\"1\";\"1\";\"1\";\"2\";\"3\";\"0\";\"0\";\"0\";\"1\";\"0\";\"0\";\"2\";\"3\";\"0\";\"0\";\"0\";\"1\";\"0\";\"2\";\"4\";\"7\";\"0\";\"0\";\"0\";\"0\";\"0\";\"0\";\"0\";\"1\";\"0\";\"0\";\"0\";\"0\";\"0\";\"0\";\"0\";\"0\";\"0\";\"0\";\"0\";\"0\";\"N\";\"N\";\"N\";\"N\";\"N\";\"N\";\"N\";\"N\";\"0\";\"N\";\"94.6774194\";\"10.9677419\";\"46.3870968\";\"94.6774194\";\"213.741935\";\"94.6774194\";\"0\";\"JOB CODE CHANGE;INCENTIVE;MERIT\";\"MISCELLANEOUS DATA CHANGE;INCENTIVE;MERIT\";\"MISCELLANEOUS DATA CHANGE;INCENTIVE;MERIT\";\"MISCELLANEOUS DATA CHANGE;MISCELLANEOUS DATA CHANGE;ORGANIZATIONAL CHANGES;PROMOTION;JOB RECLASSIFICATION;INCENTIVE;MERIT\";\"INCENTIVE;MERIT\";\"MISCELLANEOUS DATA CHANGE;MISCELLANEOUS DATA CHANGE;MERIT\";\"MERIT\";\"TRANSFER W/ JOB NUMBER CHANGE;MERIT\";\"MERIT\";\"MISCELLANEOUS DATA CHANGE;MERIT\";\"S\";\"H\";\"H\";\"H\";\"H\";\"S\";\"H\";\"H\";\"H\";\"S\";\"R2C2\";\"R3C2\";\"R3C2\";\"R3C2\";\"R3C2\";\"R2C2\";\"R3C3\";\"R3C3\";\"R3C3\";\"R2C3\";\"52224.79\";\"51331.62\";\"50011.32\";\"44920.28\";\"44048.13\";\"43320.35\";\"42575.28\";\"40165.36\";\"38502.07\";\"36844.09\";\"893.17\";\"1320.3\";\"1946.62\";\"872.15\";\"727.78\";\"745.07\";\"2409.92\";\"1663.29\";\"1657.98\";\"1495.25\";\"2186.73\";\"4180.95\";\"2379.2\";\"3092.18\";\"2737.85\";\"2235.2\";\"2409.92\";\"1801.9\";\"2026.42\";\"1686.14\";\"316711196823377\";\"8\";\"8\";\"2670\";\"74\"'"
   ]
  },
  {
   "cell_type": "code",
   "execution_count": null,
   "metadata": {
    "collapsed": true
   },
   "outputs": [],
   "source": [
    "ex8 = '\"53680010164939\";\"EMP\";\"11P1D\";\"TELEWORKER - MOBILE\";\"3848\";\"111031P1DZ0\";\"F\";\"S\";\"1\";\"001\";\"38.75\";\"1\";\"FA6\";\"A\";\"170000.000000\";\"Z\";\"1.00\";\"999\";\"2\";\"00101\";\"00009\";\"9\";\"AGYSLR\";\"NSA\";\"KY\";\"LEXINGTON\";\"0.000\";\"0.000\";\"\";\"N\";\"Y\";\"Y\";\"N\";\"0\";\"1\";\"1\";\"1\";\"0\";\"1\";\"1\";\"1\";\"0\";\"1\";\"1\";\"1\";\"0\";\"1\";\"1\";\"1\";\"0\";\"0\";\"0\";\"0\";\"0\";\"0\";\"1\";\"4\";\"0\";\"0\";\"0\";\"0\";\"0\";\"0\";\"0\";\"0\";\"0\";\"0\";\"0\";\"0\";\"0\";\"0\";\"0\";\"0\";\"0\";\"0\";\"0\";\"0\";\"N\";\"N\";\"N\";\"N\";\"N\";\"N\";\"N\";\"N\";\"1\";\"N\";\"21.0322581\";\"21.0322581\";\"21.0322581\";\"21.0322581\";\"287.967742\";\"287.967742\";\"8.61290323\";\"SALARY ADJUSTMENT;SALARY ADJUSTMENT\";\"TRANSFER W/ JOB NUMBER CHANGE;MERIT\";\"MERIT\";\"MERIT\";\"MISCELLANEOUS DATA CHANGE;MERIT\";\"MISCELLANEOUS DATA CHANGE;MISCELLANEOUS DATA CHANGE;MERIT\";\"MISCELLANEOUS DATA CHANGE;SALARY PLAN CHANGE;MERIT\";\"MERIT\";\"MERIT;SALARY PLAN CHANGE\";\"MISCELLANEOUS DATA CHANGE;MERIT\";\"H\";\"H\";\"S\";\"H\";\"H\";\"S\";\"H\";\"H\";\"H\";\"H\";\"R3C2\";\"R3C2\";\"R2C2\";\"R3C2\";\"R3C2\";\"R2C3\";\"R3C3\";\"R3C2\";\"R3C2\";\"R3C2\";\"170000\";\"215000\";\"215000\";\"215000\";\"215000\";\"215000\";\"215000\";\"215000\";\"214848.12\";\"206584.73\";\"-45000\";\"0\";\"0\";\"0\";\"0\";\"0\";\"0\";\"151.88\";\"8263.39\";\"11693.48\";\"0\";\"0\";\"0\";\"0\";\"0\";\"0\";\"0\";\"0\";\"0\";\"0\";\"28185155255806\";\"12\";\"12\";\"3746\";\"508\"'"
   ]
  },
  {
   "cell_type": "code",
   "execution_count": null,
   "metadata": {
    "collapsed": true
   },
   "outputs": [],
   "source": [
    "ex9 ='\"361010560468310\";\"EMP\";\"00915\";\"CORPORATE HEADQUARTERS\";\"3528\";\"10003284300\";\"F\";\"S\";\"1\";\"001\";\"38.75\";\"1\";\"MG4\";\"A\";\"142386.110000\";\"Z\";\"1.00\";\"843\";\"1\";\"00702\";\"00009\";\"9\";\"MANGER\";\"MGT\";\"IL\";\"BLOOMINGTON\";\"152885.060\";\"86782.970\";\"\";\"Y\";\"N\";\"N\";\"N\";\"0\";\"0\";\"1\";\"2\";\"0\";\"1\";\"1\";\"2\";\"0\";\"0\";\"4\";\"5\";\"0\";\"0\";\"0\";\"0\";\"0\";\"0\";\"1\";\"2\";\"0\";\"0\";\"2\";\"7\";\"0\";\"0\";\"0\";\"0\";\"0\";\"0\";\"1\";\"2\";\"0\";\"0\";\"0\";\"0\";\"0\";\"0\";\"0\";\"0\";\"0\";\"0\";\"0\";\"0\";\"N\";\"N\";\"N\";\"N\";\"N\";\"N\";\"N\";\"N\";\"0\";\"N\";\"47.7419355\";\"36.2258065\";\"152.580645\";\"36.7096774\";\"276.774194\";\"54.6129032\";\"0\";\"MERIT\";\"MERIT\";\"MERIT;JOB CODE CHANGE\";\"TRANSFER W/O JOB NUMBER CHANGE;MISCELLANEOUS DATA CHANGE;MERIT;TRANSFER W/O JOB NUMBER CHANGE;TRANSFER W/O JOB NUMBER CHANGE\";\"TRANSFER W/O JOB NUMBER CHANGE;MERIT\";\"MERIT\";\"MISCELLANEOUS DATA CHANGE;MERIT\";\"TRANSFER W/O JOB NUMBER CHANGE;MERIT\";\"MERIT\";\"MISCELLANEOUS DATA CHANGE;TRANSFER W/ JOB NUMBER CHANGE;MISCELLANEOUS DATA CHANGE;MERIT;MISCELLANEOUS DATA CHANGE\";\"S\";\"H\";\"S\";\"S\";\"S\";\"H\";\"H\";\"S\";\"S\";\"S\";\"R2C2\";\"R3C2\";\"R2C3\";\"R2C2\";\"R2C2\";\"R3C3\";\"R3C2\";\"R2C2\";\"R2C2\";\"R2C2\";\"142386.11\";\"139594.23\";\"135528.38\";\"130315.75\";\"128389.9\";\"126492.51\";\"121627.41\";\"116949.43\";\"114097\";\"112410.84\";\"2791.88\";\"4065.85\";\"5212.63\";\"1925.85\";\"1897.39\";\"4865.1\";\"4677.98\";\"2852.43\";\"1686.16\";\"3580.52\";\"0\";\"0\";\"0\";\"0\";\"0\";\"0\";\"0\";\"0\";\"0\";\"4037.6\";\"121877706666420\";\"3\";\"68\";\"3746\";\"68\"'"
   ]
  },
  {
   "cell_type": "code",
   "execution_count": null,
   "metadata": {
    "collapsed": false
   },
   "outputs": [],
   "source": [
    "ex10 = '\"688423451822448\";\"EMP\";\"26921\";\"OPERATIONS CENTER\";\"0090\";\"126051921HJ\";\"F\";\"E\";\"1\";\"001\";\"38.75\";\"1\";\"RB2\";\"A\";\"60345.070000\";\"N\";\"1.00\";\"999\";\"2\";\"00118\";\"00014\";\"0\";\"CLMREP\";\"PTB\";\"OK\";\"TULSA\";\"78795.000\";\"45791.330\";\"\";\"N\";\"N\";\"N\";\"N\";\"0\";\"0\";\"0\";\"0\";\"1\";\"1\";\"1\";\"4\";\"1\";\"2\";\"2\";\"8\";\"0\";\"0\";\"0\";\"3\";\"0\";\"0\";\"0\";\"0\";\"1\";\"2\";\"2\";\"9\";\"0\";\"0\";\"0\";\"2\";\"1\";\"1\";\"1\";\"4\";\"0\";\"0\";\"0\";\"0\";\"0\";\"0\";\"0\";\"0\";\"0\";\"0\";\"0\";\"0\";\"N\";\"N\";\"N\";\"N\";\"N\";\"N\";\"N\";\"N\";\"0\";\"N\";\"203.612903\";\"7.67741935\";\"79.9032258\";\"7.67741935\";\"79.9032258\";\"7.67741935\";\"0\";\"TRANSFER W/ JOB NUMBER CHANGE;INCENTIVE;MERIT\";\"INCENTIVE;MERIT;TRANSFER W/O JOB NUMBER CHANGE;TRANSFER W/O JOB NUMBER CHANGE;MISCELLANEOUS DATA CHANGE\";\"INCENTIVE;MERIT\";\"INCENTIVE;MERIT\";\"INCENTIVE;MERIT\";\"BENEFITS TRANSACTION;TRANSFER W/O JOB NUMBER CHANGE;TRANSFER W/O JOB NUMBER CHANGE;MERIT\";\"TRANSFER W/ JOB NUMBER CHANGE;MERIT\";\"TRANSFER W/ JOB NUMBER CHANGE;MERIT\";\"MERIT;MISCELLANEOUS DATA CHANGE\";\"MISCELLANEOUS DATA CHANGE;MISCELLANEOUS DATA CHANGE;PROMOTION;MISCELLANEOUS DATA CHANGE;MERIT;TRANSFER W/O JOB NUMBER CHANGE;TRANSFER W/O JOB NUMBER CHANGE\";\"S\";\"S\";\"S\";\"S\";\"S\";\"S\";\"L\";\"S\";\"S\";\"S\";\"R2C2\";\"R2C2\";\"R2C2\";\"R2C2\";\"R2C2\";\"R2C2\";\"R1C1\";\"R2C2\";\"R2C2\";\"R2C2\";\"60345.07\";\"58383.39\";\"56398.17\";\"55157.13\";\"53996.21\";\"52937.46\";\"50633.63\";\"49718.8\";\"47082.2\";\"41394.22\";\"1961.68\";\"1985.22\";\"1241.04\";\"1160.92\";\"1058.75\";\"2303.83\";\"914.83\";\"2636.6\";\"2790.38\";\"1500.02\";\"2708.99\";\"2526.64\";\"1516.82\";\"1538.89\";\"1588.12\";\"1240.52\";\"1073.93\";\"1129.97\";\"1195.88\";\"1691.51\";\"379059649714762\";\"5\";\"5\";\"34937\";\"1340\"'"
   ]
  },
  {
   "cell_type": "code",
   "execution_count": null,
   "metadata": {
    "collapsed": true
   },
   "outputs": [],
   "source": [
    "examples = [ex1,ex2,ex3,ex4,ex5,ex6,ex7,ex8,ex9,ex10]"
   ]
  },
  {
   "cell_type": "code",
   "execution_count": null,
   "metadata": {
    "collapsed": false
   },
   "outputs": [],
   "source": [
    "[e.split(';')[0] for e in examples]\n",
    "    "
   ]
  },
  {
   "cell_type": "code",
   "execution_count": null,
   "metadata": {
    "collapsed": false
   },
   "outputs": [],
   "source": [
    "e+=';\"Y\";\"N\"'\n",
    "e"
   ]
  },
  {
   "cell_type": "code",
   "execution_count": null,
   "metadata": {
    "collapsed": false
   },
   "outputs": [],
   "source": [
    "header_line"
   ]
  },
  {
   "cell_type": "code",
   "execution_count": null,
   "metadata": {
    "collapsed": false,
    "scrolled": true
   },
   "outputs": [],
   "source": [
    "for idx,e in enumerate(examples):\n",
    "    tail = ';\"Y\";\"Y\"'\n",
    "    if idx == 0 or idx ==4 or idx ==6 or idx==9:\n",
    "        tail = ';\"Y\";\"N\"'\n",
    "    f = e+tail\n",
    "    print f"
   ]
  },
  {
   "cell_type": "code",
   "execution_count": null,
   "metadata": {
    "collapsed": true
   },
   "outputs": [],
   "source": []
  },
  {
   "cell_type": "markdown",
   "metadata": {},
   "source": [
    "### I saved all of this as test_set1.ssv"
   ]
  },
  {
   "cell_type": "markdown",
   "metadata": {},
   "source": [
    "## I only care about the following set of columns (for minimal version)\n"
   ]
  },
  {
   "cell_type": "code",
   "execution_count": null,
   "metadata": {
    "collapsed": false
   },
   "outputs": [],
   "source": [
    "min_col_list = ['KEY','HIRE_DT','BIRTHDATE',\n",
    "                'SAL1','PERF1','MERIT1','BOX1','MAX_RT_ANNUAL','MIN_RT_ANNUAL',\n",
    "            'HAVE_INS','HAVE_DEP','EMPL_TYPE','SEX',\n",
    "                          'INTERN','HUBIND']\n",
    "new_df = pd.read_csv('test_set1.ssv',delimiter=';',usecols=min_col_list)\n",
    "new_df.shape"
   ]
  },
  {
   "cell_type": "code",
   "execution_count": null,
   "metadata": {
    "collapsed": false
   },
   "outputs": [],
   "source": [
    "for c in new_df.columns:\n",
    "    print c, new_df[c].dtype"
   ]
  },
  {
   "cell_type": "markdown",
   "metadata": {},
   "source": [
    "## Work on reconstructing a good preprocessing pipeline\n",
    "### Assume the above list of features\n",
    "1. need to convert BIRTHDATE & HIRE_DT to timestamps and calculate the Tenure_years and Age_years for each\n",
    "2. convert bool_string features to [0,1]\n",
    "    * [HUBIND, INTERN, HAVE_INS,HAVE_DEP,SEX]\n",
    "3. convert categorical to dummy \n",
    "    * EMPL_TYPE\n",
    "4. apply this preprocess input data"
   ]
  },
  {
   "cell_type": "code",
   "execution_count": null,
   "metadata": {
    "collapsed": true
   },
   "outputs": [],
   "source": [
    "# 1. "
   ]
  },
  {
   "cell_type": "code",
   "execution_count": null,
   "metadata": {
    "collapsed": false
   },
   "outputs": [],
   "source": [
    "empl_dates[['hire_tstmp','term_tstmp','birth_tstmp']] = emplfull[['HIRE_DT','TERMINATION_DT','BIRTHDATE']].apply(lambda x: pd.to_datetime(x))"
   ]
  },
  {
   "cell_type": "code",
   "execution_count": null,
   "metadata": {
    "collapsed": true
   },
   "outputs": [],
   "source": [
    "from sklearn.base import BaseEstimator, TransformerMixin"
   ]
  },
  {
   "cell_type": "code",
   "execution_count": null,
   "metadata": {
    "collapsed": false
   },
   "outputs": [],
   "source": [
    "## class for conversion to dictionary (for indicator function)\n",
    "class ConvertToDict(BaseEstimator, TransformerMixin):\n",
    "#class to convert a dollar amount to a float\n",
    "    def __init__(self,columns_to_fix=[],convert_dict={'Y':1,'N':0}):\n",
    "        \"\"\"\n",
    "        A class that can be inserted into a pipeline\n",
    "    \n",
    "        This will convert the list of columns that are input to this class\n",
    "        \n",
    "        Parameters\n",
    "        ----------\n",
    "        X: Pandas dataframe\n",
    "        \n",
    "        columns_to_fix: a list of columns to convert in the input DF.\n",
    "        convert_dict: a dictionary of how to convert the input DF; default is Y==1,N==0\n",
    "        \n",
    "        returns a pandas dataframe\n",
    "        \"\"\"\n",
    "        self.columns_to_fix = columns_to_fix\n",
    "        self.convert_dict = convert_dict\n",
    "        \n",
    "    def fit(self, X, y=None):\n",
    "        #my_convert_dict = {'Y':1,'N': 0}\n",
    "        if type(self.columns_to_fix) == 'str':\n",
    "            self.columns_to_fix = [self.columns_to_fix]\n",
    "        else:\n",
    "            self.columns_to_fix = self.columns_to_fix    \n",
    "        self.convert_dict = self.convert_dict\n",
    "        return self\n",
    "        \n",
    "    \n",
    "    def transform(self, X, y=None):\n",
    "        X_temp = X.copy()\n",
    "        X_temp[self.columns_to_fix] = X[self.columns_to_fix].replace(self.convert_dict)\n",
    "        \n",
    "        return X_temp"
   ]
  },
  {
   "cell_type": "code",
   "execution_count": null,
   "metadata": {
    "collapsed": true
   },
   "outputs": [],
   "source": [
    "### convert BIRTHDATE & HIRE_DT to timestamps and calculate "
   ]
  },
  {
   "cell_type": "code",
   "execution_count": null,
   "metadata": {
    "collapsed": false
   },
   "outputs": [],
   "source": [
    "import time as time\n",
    "ts = time.time()\n",
    "ts"
   ]
  },
  {
   "cell_type": "code",
   "execution_count": null,
   "metadata": {
    "collapsed": false
   },
   "outputs": [],
   "source": [
    "import datetime\n",
    "datetime.datetime.today()"
   ]
  },
  {
   "cell_type": "code",
   "execution_count": null,
   "metadata": {
    "collapsed": false
   },
   "outputs": [],
   "source": [
    "whos"
   ]
  },
  {
   "cell_type": "code",
   "execution_count": null,
   "metadata": {
    "collapsed": false
   },
   "outputs": [],
   "source": [
    "%ls"
   ]
  },
  {
   "cell_type": "code",
   "execution_count": null,
   "metadata": {
    "collapsed": true
   },
   "outputs": [],
   "source": [
    "os.chdir('../../../../code/hrseparation/testdata/')"
   ]
  },
  {
   "cell_type": "code",
   "execution_count": null,
   "metadata": {
    "collapsed": false
   },
   "outputs": [],
   "source": [
    "%ls"
   ]
  },
  {
   "cell_type": "code",
   "execution_count": null,
   "metadata": {
    "collapsed": true
   },
   "outputs": [],
   "source": [
    "cols_to_keep = ['KEY','HIRE_DT','BIRTHDATE','SAL1','MERIT1','PERF1','BOX1','SEX','HAVE_INS','HAVE_DEP']"
   ]
  },
  {
   "cell_type": "code",
   "execution_count": null,
   "metadata": {
    "collapsed": false
   },
   "outputs": [],
   "source": [
    "infile1 = 'test_set1.ssv'\n",
    "em = pd.read_csv(infile1,sep=';',usecols=cols_to_keep)\n"
   ]
  },
  {
   "cell_type": "code",
   "execution_count": null,
   "metadata": {
    "collapsed": false
   },
   "outputs": [],
   "source": [
    "em.head()"
   ]
  },
  {
   "cell_type": "code",
   "execution_count": null,
   "metadata": {
    "collapsed": true
   },
   "outputs": [],
   "source": [
    "def calculate_years(timestamp1,timestamp2,days_in_year =365.25):\n",
    "    number_of_years = (timestamp2 - timestamp1).days/days_in_year\n",
    "    return number_of_years"
   ]
  },
  {
   "cell_type": "code",
   "execution_count": null,
   "metadata": {
    "collapsed": true
   },
   "outputs": [],
   "source": [
    "today_timestamp = pd.to_datetime(datetime.datetime.today())"
   ]
  },
  {
   "cell_type": "code",
   "execution_count": null,
   "metadata": {
    "collapsed": false
   },
   "outputs": [],
   "source": [
    "em[['hire_tstmp','birth_tstmp']] = em[['HIRE_DT','BIRTHDATE']].applymap(lambda x:pd.to_datetime(datetime.datetime.strptime(x,'%d%b%Y')) )\n",
    "    \n",
    "\n"
   ]
  },
  {
   "cell_type": "code",
   "execution_count": null,
   "metadata": {
    "collapsed": false
   },
   "outputs": [],
   "source": [
    "em[['Age_years','Tenure_years']] = em[['birth_tstmp','hire_tstmp']].applymap(lambda x: calculate_years(x,today_timestamp))"
   ]
  },
  {
   "cell_type": "code",
   "execution_count": null,
   "metadata": {
    "collapsed": false
   },
   "outputs": [],
   "source": [
    "em[['birth_tstmp','Age_years']]"
   ]
  },
  {
   "cell_type": "code",
   "execution_count": null,
   "metadata": {
    "collapsed": false
   },
   "outputs": [],
   "source": [
    "em"
   ]
  },
  {
   "cell_type": "code",
   "execution_count": null,
   "metadata": {
    "collapsed": false
   },
   "outputs": [],
   "source": [
    "em.BOX1"
   ]
  },
  {
   "cell_type": "code",
   "execution_count": null,
   "metadata": {
    "collapsed": false
   },
   "outputs": [],
   "source": [
    "infile1 = 'tset2.ssv'\n",
    "em2 = pd.read_csv(infile1,sep=';',usecols=cols_to_keep)\n",
    "em2.BOX1"
   ]
  },
  {
   "cell_type": "code",
   "execution_count": null,
   "metadata": {
    "collapsed": false
   },
   "outputs": [],
   "source": [
    "em2['BOX1'].replace({'H':3,'S':2,'L':1}).fillna(0)"
   ]
  },
  {
   "cell_type": "code",
   "execution_count": null,
   "metadata": {
    "collapsed": false
   },
   "outputs": [],
   "source": [
    "em2['BOX1'].ix[9]"
   ]
  },
  {
   "cell_type": "code",
   "execution_count": null,
   "metadata": {
    "collapsed": false
   },
   "outputs": [],
   "source": [
    "em2"
   ]
  },
  {
   "cell_type": "code",
   "execution_count": null,
   "metadata": {
    "collapsed": true
   },
   "outputs": [],
   "source": [
    "min_sal1 = 17621.76 #(based upon training set I have: 5 %tile cut off)\n",
    "min_min_rt_ann = 17900. # same as above\n",
    "min_max_rt_ann = 33155.70\n",
    "\n",
    "max_max_rt_ann = 133068.91\n",
    "min_merit1 = 0.0\n",
    "min_perf1 = 0.0\n",
    "fix_min_outlier_col_dict = {'SAL1': min_sal1, 'MERIT1': min_merit1, 'PERF1': min_perf1}\n",
    "fix_max_outlier_col_dict = {'MAX_RT_ANNUAL': max_max_rt_ann}\n",
    "    \n",
    "    "
   ]
  },
  {
   "cell_type": "code",
   "execution_count": null,
   "metadata": {
    "collapsed": false
   },
   "outputs": [],
   "source": [
    "print today_timestamp"
   ]
  },
  {
   "cell_type": "code",
   "execution_count": null,
   "metadata": {
    "collapsed": false
   },
   "outputs": [],
   "source": [
    "em2[['hire_tstmp','birth_tstmp']] = em2[['HIRE_DT','BIRTHDATE']].applymap(lambda x: pd.to_datetime(datetime.datetime.strptime(x,'%d%b%Y')))\n",
    "em2[['Age_years','Tenure_years']] = em2[['birth_tstmp','hire_tstmp']].applymap(lambda x: calculate_years(x,today_timestamp))\n",
    "\n",
    "# now deal with the the rest of the columns (map using the above  )\n",
    "#columns_for_modeling = ['Age_years','Tenure_years','SAL1','MERIT1','PERF1','BOX1','SEX','HAVE_INS','HAVE_DEP']\n",
    "columns_for_modeling = ['Age_years','Tenure_years','SAL1','MERIT1','PERF1','BOX1','SEX','HAVE_INS','HAVE_DEP']\n",
    "em2[columns_for_modeling]"
   ]
  },
  {
   "cell_type": "code",
   "execution_count": null,
   "metadata": {
    "collapsed": false
   },
   "outputs": [],
   "source": [
    "empl = em2[columns_for_modeling].copy()\n",
    "empl[['HAVE_INS','HAVE_DEP']]=empl[['HAVE_INS','HAVE_DEP']].replace({'Y':1,'N':0}).copy()\n",
    "empl['SEX'].replace({'M':1,'F':0},inplace=True)\n",
    "empl['BOX1']=empl['BOX1'].replace({'H':3,'S':2,'L':1}).fillna(0).copy()\n",
    "empl"
   ]
  },
  {
   "cell_type": "code",
   "execution_count": null,
   "metadata": {
    "collapsed": false
   },
   "outputs": [],
   "source": [
    "for key,value in fix_min_outlier_col_dict.iteritems():\n",
    "    \n",
    "    print key,value\n",
    "    idx_to_replace = empl[empl[key]<value].index#.tolist()\n",
    "    #if len(idx_to_replace)>0:\n",
    "    empl.loc[idx_to_replace,key]=value\n",
    "    print len(idx_to_replace)"
   ]
  },
  {
   "cell_type": "code",
   "execution_count": null,
   "metadata": {
    "collapsed": false
   },
   "outputs": [],
   "source": [
    "empl[empl['MERIT1']<min_merit1]"
   ]
  },
  {
   "cell_type": "code",
   "execution_count": null,
   "metadata": {
    "collapsed": false
   },
   "outputs": [],
   "source": [
    "empl.loc[idx_to_replace,'MERIT1']"
   ]
  },
  {
   "cell_type": "code",
   "execution_count": null,
   "metadata": {
    "collapsed": false
   },
   "outputs": [],
   "source": [
    "empl"
   ]
  },
  {
   "cell_type": "code",
   "execution_count": null,
   "metadata": {
    "collapsed": true
   },
   "outputs": [],
   "source": [
    "## evaluate based upon a given model"
   ]
  },
  {
   "cell_type": "code",
   "execution_count": null,
   "metadata": {
    "collapsed": false
   },
   "outputs": [],
   "source": [
    "empl_type_dummy = pd.get_dummies(empl['EMPL_TYPE'],prefix='EMPL_TYPE',dummy_na=True,columns=['EMPL_TYPE'])"
   ]
  },
  {
   "cell_type": "code",
   "execution_count": null,
   "metadata": {
    "collapsed": true
   },
   "outputs": [],
   "source": [
    "def evaluate_models(model_list,Xeval):\n",
    "    eval_pred_class = np.zeros((len(Xeval),len(model_list)))\n",
    "    eval_pred_proba = np.zeros((len(Xeval),2,len(model_list)))\n",
    "\n",
    "    for i,mdl in enumerate(model_list):\n",
    "        eval_proba = mdl.predict_proba(Xeval)\n",
    "        eval_pred_class[:,i]=mdl.predict(Xeval)\n",
    "        eval_pred_proba[:,:,i]=eval_proba\n",
    "    #print np.shape(eval_prediction_proba3)\n",
    "    return eval_pred_class, eval_pred_proba"
   ]
  },
  {
   "cell_type": "code",
   "execution_count": null,
   "metadata": {
    "collapsed": true
   },
   "outputs": [],
   "source": [
    "X5eval, y5eval = adjust_eval_by_x_years(Xeval,emEval_dates,5,model_columns,target_col='terminated')"
   ]
  },
  {
   "cell_type": "code",
   "execution_count": null,
   "metadata": {
    "collapsed": true
   },
   "outputs": [],
   "source": []
  },
  {
   "cell_type": "markdown",
   "metadata": {},
   "source": [
    "# March 10, 2016"
   ]
  },
  {
   "cell_type": "code",
   "execution_count": 480,
   "metadata": {
    "collapsed": true
   },
   "outputs": [],
   "source": [
    "def makePredictions():\n",
    "    \"\"\"\n",
    "    Function to predict overall counts for the separations and retirements from a specific survival model\n",
    "\n",
    "    \"\"\"\n",
    "    my_date = dt.datetime(2015, 1, 1)  #allows the adjustment of these to a particular date\n",
    "\n",
    "    #MODEL_BASE_PATH = '/home/hrsepara/work/model/'\n",
    "    MODEL_BASE_PATH = 'C:\\\\Users\\\\kesj\\\\Documents\\\\projects\\\\HRattrition\\\\webserverTest\\\\models\\\\'\n",
    "    #MODEL_BASE_PATH = u'C:/Users/kesj/code/hrsep1/smodel/'\n",
    "    #MODEL_BASE_PATH='/home/kesj/projects/hrsepara/model/'\n",
    "    #MODEL_BASE_PATH = 'C:\\\\Users\\\\kesj\\\\code\\\\hrsep1\\\\model_1\\\\'\n",
    "    # ingest the uploaded data\n",
    "    cwd = os.getcwd()\n",
    "    my_path = os.path.join(os.path.join(cwd, 'uploads'), '*.*')\n",
    "    employee_df = parse_input_file(my_path)\n",
    "\n",
    "\n",
    "    #for col in employee_df.columns:\n",
    "    #    print col\n",
    "    # initially define the columns I want to keep\n",
    "    #cols_to_keep = ['KEY', 'HIRE_DT', 'BIRTHDATE', 'SAL1', 'MERIT1', 'PERF1', 'BOX1', 'SEX', 'HAVE_INS', 'HAVE_DEP']\n",
    "    #employee_df = pd.read_csv(infile,sep=delimiter_char,usecols=cols_to_keep,dtype={'KEY':np.str})\n",
    "    #print employee_df.shape\n",
    "\n",
    "    # get the current date\n",
    "\n",
    "    if my_date is None:\n",
    "        today_timestamp = pd.to_datetime(dt.datetime.today())\n",
    "    else:\n",
    "        today_timestamp = pd.to_datetime(my_date)\n",
    "\n",
    "\n",
    "    # load the models\n",
    "    # check that there are models in that directory\n",
    "    mdl_files = find_survival_models(MODEL_BASE_PATH)\n",
    "    # load both models\n",
    "    sep_mdl = pickle.load(open(mdl_files[0], 'rb'))\n",
    "    ret_mdl = pickle.load(open(mdl_files[1], 'rb'))\n",
    "\n",
    "    # start with separation model\n",
    "    sep_cols = get_surv_columns(sep_mdl)\n",
    "    ret_cols = get_surv_columns(ret_mdl)\n",
    "\n",
    "    #preprocess the data to match what was done in the model build stage\n",
    "    df, sep_cols2, ret_cols2 = prep_data(employee_df, sep_cols, ret_cols, today_timestamp)\n",
    "\n",
    "    yr_range = np.arange(0, 6)\n",
    "    #pred_years = map(np.str,yr_range)\n",
    "    # apply the separation model\n",
    "    sep_surv_pred = forecast_survival_function(sep_mdl, df[sep_cols], time_range=yr_range)\n",
    "    #, calc_ci=True, extrapolate=False)\n",
    "    # apply the retirement model\n",
    "    # first omit those who are under min_age\n",
    "    min_age = 50.0\n",
    "    ret_pred_df = df[df['Age_years'] >= min_age].copy()\n",
    "    ret_surv_pred = forecast_survival_function(ret_mdl, ret_pred_df[ret_cols], time_range=yr_range)\n",
    "        #, calc_ci=True,  extrapolate=False)\n",
    "\n",
    "    # convert these survival predictions to separation/retirement probabilities and link to KEY value\n",
    "    keyed_df = pd.DataFrame(employee_df['KEY'])\n",
    "\n",
    "    sep_prob = convert_surv_to_prob(sep_surv_pred, 'sep', keyed_df)\n",
    "    ret_prob = convert_surv_to_prob(ret_surv_pred, 'ret', keyed_df)\n",
    "\n",
    "    # output the predictions to a file\n",
    "    sep_prob['surv'].to_csv('separation_prediction.csv')\n",
    "    ret_prob['surv'].to_csv('retirement_prediction.csv')\n",
    "\n",
    "    # now calculate the totals\n",
    "    my_thresh = 0.5\n",
    "    #prob_cols = sep_prob['surv'].columns.tolist()[1:]\n",
    "    sep_counts = reduce_to_sums(sep_prob, my_thresh)\n",
    "    #prob_cols = ret_prob['surv'].columns.tolist()[1:]\n",
    "    ret_counts = reduce_to_sums(ret_prob, my_thresh)\n",
    "    print(sep_counts)\n",
    "    print(ret_counts)\n",
    "\n",
    "    return \"processing complete\""
   ]
  },
  {
   "cell_type": "code",
   "execution_count": 481,
   "metadata": {
    "collapsed": false
   },
   "outputs": [
    {
     "name": "stdout",
     "output_type": "stream",
     "text": [
      "C:\\Users\\kesj\\Documents\\projects\\HRattrition\\webserverTest\\uploads\\tset3.ssv will be processed through this system\n",
      "            lbcip  surv  ubcip\n",
      "sep_prob_0      0     0      0\n",
      "sep_prob_1      0     0      0\n",
      "sep_prob_2      0     0      0\n",
      "sep_prob_3      0     0      0\n",
      "sep_prob_4      0     0      0\n",
      "sep_prob_5      0     0      0\n",
      "            lbcip  surv  ubcip\n",
      "ret_prob_0      1     1      1\n",
      "ret_prob_1      1     1      1\n",
      "ret_prob_2      1     1      2\n",
      "ret_prob_3      2     2      2\n",
      "ret_prob_4      2     2      2\n",
      "ret_prob_5      2     2      2\n"
     ]
    },
    {
     "data": {
      "text/plain": [
       "'processing complete'"
      ]
     },
     "execution_count": 481,
     "metadata": {},
     "output_type": "execute_result"
    }
   ],
   "source": [
    "makePredictions()"
   ]
  },
  {
   "cell_type": "code",
   "execution_count": 465,
   "metadata": {
    "collapsed": true
   },
   "outputs": [],
   "source": [
    "def parse_input_file(my_path, delimiter_char=\";\"):\n",
    "    infile = glob(my_path)[0]\n",
    "    print(\"{0} will be processed through this system\".format(infile))\n",
    "\n",
    "    #try:\n",
    "    employee_df = pd.read_csv(infile, sep=delimiter_char, dtype={'KEY': np.str})\n",
    "\n",
    "    return employee_df"
   ]
  },
  {
   "cell_type": "code",
   "execution_count": 467,
   "metadata": {
    "collapsed": false
   },
   "outputs": [],
   "source": [
    "def get_surv_columns(surv_mdl):\n",
    "    \"\"\"\n",
    "    Function to parse the given model and identify list of columns needed for input.\n",
    "    input: surv_mdl = a survival model\n",
    "    output: a list of columns required by this model.\n",
    "    \"\"\"\n",
    "    event_col = surv_mdl.event_observed.name\n",
    "    time_col = surv_mdl.durations.name\n",
    "    model_cols = surv_mdl.hazards_.columns.tolist()\n",
    "    cols_to_keep = [a for a in model_cols]\n",
    "    #cols_to_keep.append(event_col)\n",
    "    cols_to_keep.append(time_col)\n",
    "    return cols_to_keep\n",
    "\n",
    "\n",
    "def find_survival_models(MDL_BASE_PATH):  #,pkl_name,pred_years):\n",
    "    surv_pkl_files = glob(MDL_BASE_PATH + '*.pkl')\n",
    "    # n_files =len(surv_pkl_files)\n",
    "    # if n_files <2:\n",
    "    #     print(\"Sorry but less than 2 models were found. Recheck the path %s and try again\" % MDL_BASE_PATH)\n",
    "    # elif n_files > 2:\n",
    "    #     print(\"the last model of each type will be used\")\n",
    "    prediction_cases = ['sep', 'ret']\n",
    "\n",
    "    mdl_files = []\n",
    "    mdl_files.append([a for a in surv_pkl_files if prediction_cases[0] in a][-1])\n",
    "    mdl_files.append([a for a in surv_pkl_files if prediction_cases[1] in a][-1])\n",
    "    \"\"\"\n",
    "    # load the models\n",
    "    try:\n",
    "        sep_mdl = pickle.load(open(mdl_file[0],'rb'))\n",
    "    ret_mdl = pickle.load(open(mdl_file[1],'rb'))\n",
    "\n",
    "    try:\n",
    "        stored_mdl = pickle.load(open(mdl_name,'rb'))\n",
    "        #stored_mdl = jl.load(mdl_name)\n",
    "\n",
    "        sf_pred = stored_mdl.predict_survival_function(df)\n",
    "        sf_pred.index.name='years'\n",
    "        sf_pred.reset_index(inplace=True)\n",
    "        pred_proba = get_survival_prediction(df,sf_pred,yr_vals=pred_years)\n",
    "\n",
    "    except IOError:\n",
    "        print \"requested pickle file not found {0}, using default parameters.\".format(mdl_name)\n",
    "        # TODO create default predictions from simple Survival model for retirement.\n",
    "        pred_proba = pd.DataFrame()\n",
    "\n",
    "    return pred_proba\n",
    "    \"\"\"\n",
    "    return mdl_files\n"
   ]
  },
  {
   "cell_type": "code",
   "execution_count": 469,
   "metadata": {
    "collapsed": false
   },
   "outputs": [
    {
     "name": "stdout",
     "output_type": "stream",
     "text": [
      "C:\\Users\\kesj\\Documents\\projects\\HRattrition\\webserverTest\\uploads\\tset3.ssv will be processed through this system\n"
     ]
    }
   ],
   "source": [
    "my_date = dt.datetime(2015, 1, 1)  #allows the adjustment of these to a particular date\n",
    "MODEL_BASE_PATH = 'C:\\\\Users\\\\kesj\\\\Documents\\\\projects\\\\HRattrition\\\\webserverTest\\\\models\\\\'\n",
    "# ingest the uploaded data\n",
    "cwd = os.getcwd()\n",
    "my_path = os.path.join(os.path.join(cwd, 'uploads'), '*.*')\n",
    "employee_df = parse_input_file(my_path)\n",
    "\n",
    "\n",
    "    \n",
    "# get the current date\n",
    "if my_date is None:\n",
    "    today_timestamp = pd.to_datetime(dt.datetime.today())\n",
    "else:\n",
    "    today_timestamp = pd.to_datetime(my_date)\n",
    "\n",
    "\n",
    "    "
   ]
  },
  {
   "cell_type": "code",
   "execution_count": 470,
   "metadata": {
    "collapsed": false
   },
   "outputs": [
    {
     "name": "stdout",
     "output_type": "stream",
     "text": [
      "['Age_years', 'SAL1', 'MERIT1', 'PERF1', 'BOX1', 'SEX', 'HAVE_INS', 'HAVE_DEP', 'DEPTCNT1', 'EXTFUNC_CNT', 'FUNC_CNT', 'REMOTE', 'DIRECT_RPT_CNT', 'HUBIND', 'REH_CNT', 'JOB_FUNCTION_PSA', 'Tenure_years'] ['Age_years', 'SAL1', 'MERIT1', 'PERF1', 'BOX1', 'SEX', 'HAVE_INS', 'HAVE_DEP', 'Tenure_years']\n"
     ]
    }
   ],
   "source": [
    "# load the models\n",
    "# check that there are models in that directory\n",
    "mdl_files = find_survival_models(MODEL_BASE_PATH)\n",
    "# load both models\n",
    "sep_mdl = pickle.load(open(mdl_files[0], 'rb'))\n",
    "ret_mdl = pickle.load(open(mdl_files[1], 'rb'))\n",
    "\n",
    "# start with separation model\n",
    "sep_cols = get_surv_columns(sep_mdl)\n",
    "ret_cols = get_surv_columns(ret_mdl)\n",
    "\n",
    "print(sep_cols,ret_cols)"
   ]
  },
  {
   "cell_type": "code",
   "execution_count": 473,
   "metadata": {
    "collapsed": false
   },
   "outputs": [],
   "source": [
    "df, sep_cols2, ret_cols2 = prep_data(employee_df, sep_cols, ret_cols, today_timestamp)\n",
    "yr_range = np.arange(0, 6)\n",
    "# apply the separation model\n",
    "sep_surv_pred = forecast_survival_function(sep_mdl, df[sep_cols], time_range=yr_range)\n",
    "#, calc_ci=True, extrapolate=False)\n",
    "# apply the retirement model\n",
    "# first omit those who are under min_age\n",
    "min_age = 50.0\n",
    "ret_pred_df = df[df['Age_years'] >= min_age].copy()\n",
    "ret_surv_pred = forecast_survival_function(ret_mdl, ret_pred_df[ret_cols], time_range=yr_range)        #, calc_ci=True,  extrapolate=False)\n",
    "\n",
    "# convert these survival predictions to separation/retirement probabilities and link to KEY value\n",
    "keyed_df = pd.DataFrame(employee_df['KEY'])\n",
    "sep_prob = convert_surv_to_prob(sep_surv_pred, 'sep', keyed_df)\n",
    "ret_prob = convert_surv_to_prob(ret_surv_pred, 'ret', keyed_df)\n"
   ]
  },
  {
   "cell_type": "code",
   "execution_count": 474,
   "metadata": {
    "collapsed": false
   },
   "outputs": [
    {
     "data": {
      "text/plain": [
       "<class 'pandas.core.panel.Panel'>\n",
       "Dimensions: 3 (items) x 10 (major_axis) x 7 (minor_axis)\n",
       "Items axis: lbcip to ubcip\n",
       "Major_axis axis: 0 to 9\n",
       "Minor_axis axis: KEY to ret_prob_5"
      ]
     },
     "execution_count": 474,
     "metadata": {},
     "output_type": "execute_result"
    }
   ],
   "source": [
    "ret_prob"
   ]
  },
  {
   "cell_type": "code",
   "execution_count": 475,
   "metadata": {
    "collapsed": false
   },
   "outputs": [
    {
     "data": {
      "text/plain": [
       "['sep_prob_0',\n",
       " 'sep_prob_1',\n",
       " 'sep_prob_2',\n",
       " 'sep_prob_3',\n",
       " 'sep_prob_4',\n",
       " 'sep_prob_5']"
      ]
     },
     "execution_count": 475,
     "metadata": {},
     "output_type": "execute_result"
    }
   ],
   "source": [
    "prob_cols = sep_prob['surv'].columns.tolist()[1:]\n",
    "prob_cols"
   ]
  },
  {
   "cell_type": "code",
   "execution_count": 486,
   "metadata": {
    "collapsed": true
   },
   "outputs": [],
   "source": [
    "def reduce_to_sums(prob, thresh=0.5):\n",
    "    my_counts = {}\n",
    "    prob_cols = prob['surv'].columns.tolist()[1:]\n",
    "    for item in prob.items:\n",
    "        my_counts[item] = (prob[item][prob_cols] >= thresh).astype(int).sum(axis=0)\n",
    "\n",
    "    df_counts = pd.DataFrame.from_dict(my_counts)\n",
    "    renamed_cols = ['lower_bound_counts','predicted_counts','upper_bound_counts']\n",
    "    df_counts.columns = renamed_cols\n",
    "    return df_counts\n"
   ]
  },
  {
   "cell_type": "code",
   "execution_count": 490,
   "metadata": {
    "collapsed": false
   },
   "outputs": [
    {
     "name": "stdout",
     "output_type": "stream",
     "text": [
      "n=76368, number of events=31927\n",
      "\n",
      "                       coef  exp(coef)  se(coef)          z          p  lower 0.95  upper 0.95     \n",
      "Age_years        -9.386e-01  3.912e-01 1.023e-02 -9.175e+01  0.000e+00  -9.587e-01  -9.185e-01  ***\n",
      "SAL1             -1.115e+00  3.278e-01 1.479e-02 -7.539e+01  0.000e+00  -1.144e+00  -1.086e+00  ***\n",
      "MERIT1            2.742e-01  1.315e+00 6.343e-03  4.323e+01  0.000e+00   2.618e-01   2.866e-01  ***\n",
      "PERF1            -1.016e-01  9.034e-01 1.240e-02 -8.195e+00  2.514e-16  -1.259e-01  -7.730e-02  ***\n",
      "BOX1             -4.839e-01  6.164e-01 6.824e-03 -7.090e+01  0.000e+00  -4.972e-01  -4.705e-01  ***\n",
      "SEX               1.643e-01  1.179e+00 6.098e-03  2.695e+01 5.826e-160   1.524e-01   1.763e-01  ***\n",
      "HAVE_INS         -3.066e-01  7.359e-01 9.072e-03 -3.380e+01 1.975e-250  -3.244e-01  -2.888e-01  ***\n",
      "HAVE_DEP         -2.326e-01  7.925e-01 1.147e-02 -2.027e+01  2.258e-91  -2.550e-01  -2.101e-01  ***\n",
      "DEPTCNT1         -3.471e-01  7.068e-01 9.569e-03 -3.627e+01 4.495e-288  -3.658e-01  -3.283e-01  ***\n",
      "EXTFUNC_CNT       9.591e-02  1.101e+00 5.597e-03  1.713e+01  8.204e-66   8.494e-02   1.069e-01  ***\n",
      "FUNC_CNT         -1.504e-01  8.603e-01 8.158e-03 -1.844e+01  6.098e-76  -1.664e-01  -1.344e-01  ***\n",
      "REMOTE           -1.546e-01  8.567e-01 1.116e-02 -1.386e+01  1.179e-43  -1.765e-01  -1.328e-01  ***\n",
      "DIRECT_RPT_CNT    1.569e-01  1.170e+00 3.968e-03  3.955e+01  0.000e+00   1.491e-01   1.647e-01  ***\n",
      "HUBIND           -8.338e-02  9.200e-01 6.762e-03 -1.233e+01  6.280e-35  -9.663e-02  -7.012e-02  ***\n",
      "REH_CNT          -2.330e-01  7.921e-01 6.523e-03 -3.572e+01 1.758e-279  -2.458e-01  -2.202e-01  ***\n",
      "JOB_FUNCTION_PSA -7.550e-02  9.273e-01 6.798e-03 -1.111e+01  1.179e-28  -8.883e-02  -6.217e-02  ***\n",
      "---\n",
      "Signif. codes:  0 '***' 0.001 '**' 0.01 '*' 0.05 '.' 0.1 ' ' 1 \n",
      "\n",
      "Concordance = 0.887\n"
     ]
    }
   ],
   "source": [
    "sep_mdl.print_summary()"
   ]
  },
  {
   "cell_type": "code",
   "execution_count": null,
   "metadata": {
    "collapsed": true
   },
   "outputs": [],
   "source": [
    "def create_summary_response()"
   ]
  },
  {
   "cell_type": "code",
   "execution_count": 487,
   "metadata": {
    "collapsed": false
   },
   "outputs": [
    {
     "data": {
      "text/plain": [
       "(            lower_bound_counts  predicted_counts  upper_bound_counts\n",
       " sep_prob_0                   6                 7                   7\n",
       " sep_prob_1                   7                 7                   7\n",
       " sep_prob_2                   7                 7                   7\n",
       " sep_prob_3                   7                 7                   8\n",
       " sep_prob_4                   7                 7                   8\n",
       " sep_prob_5                   7                 7                   8,\n",
       "             lower_bound_counts  predicted_counts  upper_bound_counts\n",
       " ret_prob_0                   1                 1                   1\n",
       " ret_prob_1                   1                 1                   1\n",
       " ret_prob_2                   1                 1                   2\n",
       " ret_prob_3                   2                 2                   2\n",
       " ret_prob_4                   2                 2                   2\n",
       " ret_prob_5                   2                 2                   2)"
      ]
     },
     "execution_count": 487,
     "metadata": {},
     "output_type": "execute_result"
    }
   ],
   "source": [
    "reduce_to_sums(sep_prob, 0.1), reduce_to_sums(ret_prob)"
   ]
  },
  {
   "cell_type": "code",
   "execution_count": 485,
   "metadata": {
    "collapsed": false
   },
   "outputs": [
    {
     "name": "stdout",
     "output_type": "stream",
     "text": [
      "            lbcip  surv  ubcip\n",
      "sep_prob_0      0     0      0\n",
      "sep_prob_1      0     0      0\n",
      "sep_prob_2      0     0      0\n",
      "sep_prob_3      0     0      0\n",
      "sep_prob_4      0     0      0\n",
      "sep_prob_5      0     0      0\n"
     ]
    },
    {
     "data": {
      "text/plain": [
       "NoneType"
      ]
     },
     "execution_count": 485,
     "metadata": {},
     "output_type": "execute_result"
    }
   ],
   "source": [
    "import pprint\n",
    "type(pprint.pprint(reduce_to_sums(sep_prob,0.5)))"
   ]
  },
  {
   "cell_type": "code",
   "execution_count": 448,
   "metadata": {
    "collapsed": true
   },
   "outputs": [],
   "source": [
    "\n",
    "def prep_data(df, sep_cols, ret_cols, today_timestamp):\n",
    "    \"\"\"\n",
    "\n",
    "    :param df:\n",
    "    :param cols_to_keep:\n",
    "    :param today_timestamp:\n",
    "    :return: tmp_df, sep_cols, ret_cols\n",
    "    \"\"\"\n",
    "    # identify columns that need processing\n",
    "    input_cols = df.columns.tolist()\n",
    "\n",
    "    cols_to_model = list(set(sep_cols).union(set(ret_cols)))\n",
    "    cols_to_construct = list(set(cols_to_model) - set(input_cols))\n",
    "    cols_to_keep = list(set(cols_to_model).union(set(input_cols)))\n",
    "\n",
    "    # assume the time column(s) are in years\n",
    "    time_cols = [col for col in cols_to_construct if col.endswith('years')]\n",
    "    if len(time_cols):  # if length is zero this is skipped\n",
    "        # 1. calculate Age and tenure from dates provided:\n",
    "        #    * convert  HIRE_DT, BIRTHDATE and current_time to timestamps\n",
    "        # 2. use these as years\n",
    "        df[['hire_tstmp', 'birth_tstmp']] = df[['HIRE_DT', 'BIRTHDATE']] \\\n",
    "            .applymap(lambda x: pd.to_datetime(dt.datetime.strptime(x, '%d%b%Y')))\n",
    "        df[['Age_years', 'Tenure_years']] = df[['birth_tstmp', 'hire_tstmp']] \\\n",
    "            .applymap(lambda x: calculate_years(x, today_timestamp))\n",
    "        #hire_age_tdelta = employee_df['hire_tstmp']-employee_df['birth_tstmp']\n",
    "        # convert to days, months, or years\n",
    "        #employee_df['hire_age'] = hire_age_tdelta/np.timedelta64(1,'Y')\n",
    "        for tcol in time_cols:\n",
    "            cols_to_construct.remove(tcol)\n",
    "            cols_to_keep.append(tcol)\n",
    "\n",
    "    #tmp_df = df[cols_to_keep].copy() # just copy over the ones we know we want\n",
    "    col_to_omit = []\n",
    "\n",
    "\n",
    "    for col in cols_to_construct:\n",
    "        # break into pieces to find the existing col in the dataframe\n",
    "        pieces = col.split('_')\n",
    "        dummy_cat = pieces[-1]\n",
    "        main_cat = \"_\".join(piece for piece in pieces[:-1])\n",
    "        #print(main_cat, dummy_cat)\n",
    "        try:\n",
    "            df[col] = df[main_cat].apply(lambda x: 1 if x == dummy_cat else 0)\n",
    "        except KeyError:\n",
    "            print(\"Desired column {0} not found; omitting it\".format(col))\n",
    "            col_to_omit.append(col)\n",
    "\n",
    "    ## now I need to get my subset of columns for the particular model -- start with separation\n",
    "    #if len(col_to_omit):\n",
    "    sep_cols = list(set(sep_cols) - set(col_to_omit))\n",
    "    ret_cols = list(set(ret_cols) - set(col_to_omit))\n",
    "\n",
    "    new_cols_to_model = list(set(sep_cols).union(set(ret_cols)))\n",
    "\n",
    "    tmp_df = df[new_cols_to_model].copy()  # create a subset of these columns\n",
    "    #print(tmp_df.shape)\n",
    "    ## now ensure that all are preprocessed correctly\n",
    "    # Step 1 -- convert non numeric to numbers\n",
    "    cols_to_convert = tmp_df.columns[tmp_df[new_cols_to_model].dtypes == \"object\"].tolist()\n",
    "\n",
    "    #print(sep_cols, ret_cols,cols_to_convert)\n",
    "    ## find non-numeric columns with missing values\n",
    "    nn_mask = np.array(tmp_df[cols_to_convert].count() < len(tmp_df))\n",
    "    nn_missing_cols = list(np.array(cols_to_convert)[nn_mask])\n",
    "\n",
    "    #print(nn_missing_cols)\n",
    "    for col in nn_missing_cols:\n",
    "        if col == 'BOX1':\n",
    "            tmp_df[col].fillna(0, inplace=True)  # currently being applied to BOX1\n",
    "        else:\n",
    "            tmp_df[col].fillna(-1, inplace=True)  # need to check how I did it in the model build stage\n",
    "\n",
    "    ## convert these to ints\n",
    "    # use simple logic:\n",
    "    # a) N:0,Y:1\n",
    "    # b) M:1, F:0\n",
    "    # c) BOX1: BOX1':{'H':3,'S':2,'L':1},\n",
    "    # d) COMP_FREQUENCY: 'A':1,'H':0\n",
    "    specific_indicators = {'BOX1': {'H': 3, 'S': 2, 'L': 1}, 'COMP_FREQUENCY': {'A': 1, 'H': 0},\n",
    "                           'SEX': {'M': 1, 'F': 0}}\n",
    "    for key, value in specific_indicators.iteritems():\n",
    "        if key in cols_to_convert:\n",
    "            #print(\"processing column {0} with {1}\".format(key,value))\n",
    "            tmp_df[key].replace(value, inplace=True)  #.copy()\n",
    "    # generically convert N to 0 and Y to 1\n",
    "    tmp_df[cols_to_convert] = tmp_df[cols_to_convert].replace({'N': 0, 'Y': 1}).copy()\n",
    "\n",
    "    converted_types = tmp_df.dtypes[\n",
    "        tmp_df.dtypes.apply(lambda x: str(x).startswith(('float', 'int', 'bool')))].index.tolist()\n",
    "    ## check that all are now numeric\n",
    "    if set(converted_types) != set(new_cols_to_model):\n",
    "        print(\"ERROR you have not converted everthing\")\n",
    "        #exit(-1)\n",
    "\n",
    "    ## look for missing/outliers\n",
    "    n_mask = np.array(tmp_df.count() < len(tmp_df))\n",
    "    n_missing_cols = list(np.array(new_cols_to_model)[n_mask])\n",
    "    tmp_df[n_missing_cols].fillna(0, inplace=True)\n",
    "    ## apply specific transformations to match 2 percentile cutoff from training set\n",
    "    # fix the dollar amounts\n",
    "    #min_sal1 = 17621.76 #(based upon training set I have: 5 %tile cut off)\n",
    "    min_sal1 = 12906.40  # based upon 2 percentile\n",
    "    min_perf1 = 0.0\n",
    "    min_merit1 = 0.0\n",
    "    fix_min_outlier_col_dict = {'SAL1': min_sal1, 'MERIT1': min_merit1, 'PERF1': min_perf1}\n",
    "\n",
    "    # replace these values\n",
    "    for key, value in fix_min_outlier_col_dict.iteritems():\n",
    "        if key in new_cols_to_model:\n",
    "            idx_to_replace = tmp_df[tmp_df[key] < value].index\n",
    "            tmp_df.loc[idx_to_replace, key] = value\n",
    "\n",
    "    return tmp_df, sep_cols, ret_cols\n"
   ]
  },
  {
   "cell_type": "code",
   "execution_count": 450,
   "metadata": {
    "collapsed": false
   },
   "outputs": [
    {
     "data": {
      "text/plain": [
       "u'C:\\\\Users\\\\kesj\\\\Documents\\\\projects\\\\HRattrition\\\\webserverTest'"
      ]
     },
     "execution_count": 450,
     "metadata": {},
     "output_type": "execute_result"
    }
   ],
   "source": [
    "%pwd"
   ]
  },
  {
   "cell_type": "code",
   "execution_count": 454,
   "metadata": {
    "collapsed": false
   },
   "outputs": [
    {
     "name": "stdout",
     "output_type": "stream",
     "text": [
      " Volume in drive C is OS\n",
      " Volume Serial Number is 222B-1C6E\n",
      "\n",
      " Directory of C:\\Users\\kesj\\Documents\\projects\\HRattrition\\webserverTest\n",
      "\n"
     ]
    },
    {
     "name": "stderr",
     "output_type": "stream",
     "text": [
      "File Not Found\n"
     ]
    }
   ],
   "source": [
    "%ls 'uploads'"
   ]
  },
  {
   "cell_type": "code",
   "execution_count": null,
   "metadata": {
    "collapsed": true
   },
   "outputs": [],
   "source": []
  }
 ],
 "metadata": {
  "kernelspec": {
   "display_name": "Python 2",
   "language": "python",
   "name": "python2"
  },
  "language_info": {
   "codemirror_mode": {
    "name": "ipython",
    "version": 2
   },
   "file_extension": ".py",
   "mimetype": "text/x-python",
   "name": "python",
   "nbconvert_exporter": "python",
   "pygments_lexer": "ipython2",
   "version": "2.7.11"
  }
 },
 "nbformat": 4,
 "nbformat_minor": 0
}
