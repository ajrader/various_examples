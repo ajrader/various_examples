{
 "cells": [
  {
   "cell_type": "markdown",
   "metadata": {},
   "source": [
    "# Lifelines testing"
   ]
  },
  {
   "cell_type": "code",
   "execution_count": 1,
   "metadata": {
    "collapsed": true
   },
   "outputs": [],
   "source": [
    "import pandas as pd\n",
    "import matplotlib.pyplot as plt\n",
    "import numpy as np\n",
    "%matplotlib inline\n",
    "plt.style.use('ggplot')"
   ]
  },
  {
   "cell_type": "code",
   "execution_count": 2,
   "metadata": {
    "collapsed": true
   },
   "outputs": [],
   "source": [
    "import os"
   ]
  },
  {
   "cell_type": "code",
   "execution_count": 3,
   "metadata": {
    "collapsed": true
   },
   "outputs": [],
   "source": [
    "os.chdir(u'C:/Users/kesj/code/lifelines/')"
   ]
  },
  {
   "cell_type": "code",
   "execution_count": 4,
   "metadata": {
    "collapsed": false
   },
   "outputs": [],
   "source": [
    "import lifelines as ll"
   ]
  },
  {
   "cell_type": "markdown",
   "metadata": {},
   "source": [
    "## import some intrinsic data"
   ]
  },
  {
   "cell_type": "code",
   "execution_count": 5,
   "metadata": {
    "collapsed": false
   },
   "outputs": [
    {
     "data": {
      "text/html": [
       "<div>\n",
       "<table border=\"1\" class=\"dataframe\">\n",
       "  <thead>\n",
       "    <tr style=\"text-align: right;\">\n",
       "      <th></th>\n",
       "      <th>ctryname</th>\n",
       "      <th>cowcode2</th>\n",
       "      <th>politycode</th>\n",
       "      <th>un_region_name</th>\n",
       "      <th>un_continent_name</th>\n",
       "      <th>ehead</th>\n",
       "      <th>leaderspellreg</th>\n",
       "      <th>democracy</th>\n",
       "      <th>regime</th>\n",
       "      <th>start_year</th>\n",
       "      <th>duration</th>\n",
       "      <th>observed</th>\n",
       "    </tr>\n",
       "  </thead>\n",
       "  <tbody>\n",
       "    <tr>\n",
       "      <th>0</th>\n",
       "      <td>Afghanistan</td>\n",
       "      <td>700</td>\n",
       "      <td>700</td>\n",
       "      <td>Southern Asia</td>\n",
       "      <td>Asia</td>\n",
       "      <td>Mohammad Zahir Shah</td>\n",
       "      <td>Mohammad Zahir Shah.Afghanistan.1946.1952.Mona...</td>\n",
       "      <td>Non-democracy</td>\n",
       "      <td>Monarchy</td>\n",
       "      <td>1946</td>\n",
       "      <td>7</td>\n",
       "      <td>1</td>\n",
       "    </tr>\n",
       "    <tr>\n",
       "      <th>1</th>\n",
       "      <td>Afghanistan</td>\n",
       "      <td>700</td>\n",
       "      <td>700</td>\n",
       "      <td>Southern Asia</td>\n",
       "      <td>Asia</td>\n",
       "      <td>Sardar Mohammad Daoud</td>\n",
       "      <td>Sardar Mohammad Daoud.Afghanistan.1953.1962.Ci...</td>\n",
       "      <td>Non-democracy</td>\n",
       "      <td>Civilian Dict</td>\n",
       "      <td>1953</td>\n",
       "      <td>10</td>\n",
       "      <td>1</td>\n",
       "    </tr>\n",
       "    <tr>\n",
       "      <th>2</th>\n",
       "      <td>Afghanistan</td>\n",
       "      <td>700</td>\n",
       "      <td>700</td>\n",
       "      <td>Southern Asia</td>\n",
       "      <td>Asia</td>\n",
       "      <td>Mohammad Zahir Shah</td>\n",
       "      <td>Mohammad Zahir Shah.Afghanistan.1963.1972.Mona...</td>\n",
       "      <td>Non-democracy</td>\n",
       "      <td>Monarchy</td>\n",
       "      <td>1963</td>\n",
       "      <td>10</td>\n",
       "      <td>1</td>\n",
       "    </tr>\n",
       "    <tr>\n",
       "      <th>3</th>\n",
       "      <td>Afghanistan</td>\n",
       "      <td>700</td>\n",
       "      <td>700</td>\n",
       "      <td>Southern Asia</td>\n",
       "      <td>Asia</td>\n",
       "      <td>Sardar Mohammad Daoud</td>\n",
       "      <td>Sardar Mohammad Daoud.Afghanistan.1973.1977.Ci...</td>\n",
       "      <td>Non-democracy</td>\n",
       "      <td>Civilian Dict</td>\n",
       "      <td>1973</td>\n",
       "      <td>5</td>\n",
       "      <td>0</td>\n",
       "    </tr>\n",
       "    <tr>\n",
       "      <th>4</th>\n",
       "      <td>Afghanistan</td>\n",
       "      <td>700</td>\n",
       "      <td>700</td>\n",
       "      <td>Southern Asia</td>\n",
       "      <td>Asia</td>\n",
       "      <td>Nur Mohammad Taraki</td>\n",
       "      <td>Nur Mohammad Taraki.Afghanistan.1978.1978.Civi...</td>\n",
       "      <td>Non-democracy</td>\n",
       "      <td>Civilian Dict</td>\n",
       "      <td>1978</td>\n",
       "      <td>1</td>\n",
       "      <td>0</td>\n",
       "    </tr>\n",
       "  </tbody>\n",
       "</table>\n",
       "</div>"
      ],
      "text/plain": [
       "      ctryname  cowcode2  politycode un_region_name un_continent_name  \\\n",
       "0  Afghanistan       700         700  Southern Asia              Asia   \n",
       "1  Afghanistan       700         700  Southern Asia              Asia   \n",
       "2  Afghanistan       700         700  Southern Asia              Asia   \n",
       "3  Afghanistan       700         700  Southern Asia              Asia   \n",
       "4  Afghanistan       700         700  Southern Asia              Asia   \n",
       "\n",
       "                   ehead                                     leaderspellreg  \\\n",
       "0    Mohammad Zahir Shah  Mohammad Zahir Shah.Afghanistan.1946.1952.Mona...   \n",
       "1  Sardar Mohammad Daoud  Sardar Mohammad Daoud.Afghanistan.1953.1962.Ci...   \n",
       "2    Mohammad Zahir Shah  Mohammad Zahir Shah.Afghanistan.1963.1972.Mona...   \n",
       "3  Sardar Mohammad Daoud  Sardar Mohammad Daoud.Afghanistan.1973.1977.Ci...   \n",
       "4    Nur Mohammad Taraki  Nur Mohammad Taraki.Afghanistan.1978.1978.Civi...   \n",
       "\n",
       "       democracy         regime  start_year  duration  observed  \n",
       "0  Non-democracy       Monarchy        1946         7         1  \n",
       "1  Non-democracy  Civilian Dict        1953        10         1  \n",
       "2  Non-democracy       Monarchy        1963        10         1  \n",
       "3  Non-democracy  Civilian Dict        1973         5         0  \n",
       "4  Non-democracy  Civilian Dict        1978         1         0  "
      ]
     },
     "execution_count": 5,
     "metadata": {},
     "output_type": "execute_result"
    }
   ],
   "source": [
    "data = ll.datasets.load_dd()\n",
    "data.head()"
   ]
  },
  {
   "cell_type": "code",
   "execution_count": 6,
   "metadata": {
    "collapsed": true
   },
   "outputs": [],
   "source": [
    "#kmf = ll.KaplanMeierFitter()"
   ]
  },
  {
   "cell_type": "code",
   "execution_count": 7,
   "metadata": {
    "collapsed": true
   },
   "outputs": [],
   "source": [
    "#T = data['duration']\n",
    "#C = data['observed']"
   ]
  },
  {
   "cell_type": "code",
   "execution_count": 8,
   "metadata": {
    "collapsed": false
   },
   "outputs": [],
   "source": [
    "#kmf.fit(T,event_observed=C)"
   ]
  },
  {
   "cell_type": "code",
   "execution_count": 9,
   "metadata": {
    "collapsed": false
   },
   "outputs": [],
   "source": [
    "#kmf.survival_function_.plot()\n",
    "#plt.title('Survival function of political regimes');"
   ]
  },
  {
   "cell_type": "code",
   "execution_count": 10,
   "metadata": {
    "collapsed": false
   },
   "outputs": [],
   "source": [
    "#kmf.plot()"
   ]
  },
  {
   "cell_type": "markdown",
   "metadata": {},
   "source": [
    "## Cox PH model"
   ]
  },
  {
   "cell_type": "code",
   "execution_count": 11,
   "metadata": {
    "collapsed": false
   },
   "outputs": [],
   "source": [
    "rossi_dataset = ll.datasets.load_rossi()\n",
    "cf = ll.CoxPHFitter()"
   ]
  },
  {
   "cell_type": "code",
   "execution_count": 12,
   "metadata": {
    "collapsed": false
   },
   "outputs": [
    {
     "name": "stderr",
     "output_type": "stream",
     "text": [
      "lifelines\\fitters\\coxph_fitter.py:286: FutureWarning: sort(columns=....) is deprecated, use sort_values(by=.....)\n",
      "  df.sort(duration_col, inplace=True)\n"
     ]
    },
    {
     "data": {
      "text/plain": [
       "<lifelines.CoxPHFitter: fitted with 432 observations, 318 censored>"
      ]
     },
     "execution_count": 12,
     "metadata": {},
     "output_type": "execute_result"
    }
   ],
   "source": [
    "cf.fit(rossi_dataset,'week',event_col='arrest')"
   ]
  },
  {
   "cell_type": "code",
   "execution_count": 13,
   "metadata": {
    "collapsed": false
   },
   "outputs": [
    {
     "name": "stdout",
     "output_type": "stream",
     "text": [
      "n=432, number of events=114\n",
      "\n",
      "           coef  exp(coef)  se(coef)          z         p  lower 0.95  upper 0.95    \n",
      "fin  -1.897e-01  8.272e-01 9.579e-02 -1.981e+00 4.763e-02  -3.775e-01  -1.938e-03   *\n",
      "age  -3.500e-01  7.047e-01 1.344e-01 -2.604e+00 9.210e-03  -6.134e-01  -8.651e-02  **\n",
      "race  1.032e-01  1.109e+00 1.012e-01  1.020e+00 3.078e-01  -9.516e-02   3.015e-01    \n",
      "wexp -7.486e-02  9.279e-01 1.051e-01 -7.124e-01 4.762e-01  -2.809e-01   1.311e-01    \n",
      "mar  -1.421e-01  8.675e-01 1.254e-01 -1.134e+00 2.570e-01  -3.880e-01   1.037e-01    \n",
      "paro -4.134e-02  9.595e-01 9.522e-02 -4.341e-01 6.642e-01  -2.280e-01   1.453e-01    \n",
      "prio  2.639e-01  1.302e+00 8.291e-02  3.182e+00 1.460e-03   1.013e-01   4.264e-01  **\n",
      "---\n",
      "Signif. codes:  0 '***' 0.001 '**' 0.01 '*' 0.05 '.' 0.1 ' ' 1 \n",
      "\n",
      "Concordance = 0.640\n"
     ]
    }
   ],
   "source": [
    "cf.print_summary()"
   ]
  },
  {
   "cell_type": "code",
   "execution_count": 14,
   "metadata": {
    "collapsed": false
   },
   "outputs": [
    {
     "data": {
      "text/html": [
       "<div>\n",
       "<table border=\"1\" class=\"dataframe\">\n",
       "  <thead>\n",
       "    <tr style=\"text-align: right;\">\n",
       "      <th></th>\n",
       "      <th>week</th>\n",
       "      <th>arrest</th>\n",
       "      <th>fin</th>\n",
       "      <th>age</th>\n",
       "      <th>race</th>\n",
       "      <th>wexp</th>\n",
       "      <th>mar</th>\n",
       "      <th>paro</th>\n",
       "      <th>prio</th>\n",
       "    </tr>\n",
       "  </thead>\n",
       "  <tbody>\n",
       "    <tr>\n",
       "      <th>0</th>\n",
       "      <td>20</td>\n",
       "      <td>1</td>\n",
       "      <td>0</td>\n",
       "      <td>27</td>\n",
       "      <td>1</td>\n",
       "      <td>0</td>\n",
       "      <td>0</td>\n",
       "      <td>1</td>\n",
       "      <td>3</td>\n",
       "    </tr>\n",
       "    <tr>\n",
       "      <th>1</th>\n",
       "      <td>17</td>\n",
       "      <td>1</td>\n",
       "      <td>0</td>\n",
       "      <td>18</td>\n",
       "      <td>1</td>\n",
       "      <td>0</td>\n",
       "      <td>0</td>\n",
       "      <td>1</td>\n",
       "      <td>8</td>\n",
       "    </tr>\n",
       "    <tr>\n",
       "      <th>2</th>\n",
       "      <td>25</td>\n",
       "      <td>1</td>\n",
       "      <td>0</td>\n",
       "      <td>19</td>\n",
       "      <td>0</td>\n",
       "      <td>1</td>\n",
       "      <td>0</td>\n",
       "      <td>1</td>\n",
       "      <td>13</td>\n",
       "    </tr>\n",
       "    <tr>\n",
       "      <th>3</th>\n",
       "      <td>52</td>\n",
       "      <td>0</td>\n",
       "      <td>1</td>\n",
       "      <td>23</td>\n",
       "      <td>1</td>\n",
       "      <td>1</td>\n",
       "      <td>1</td>\n",
       "      <td>1</td>\n",
       "      <td>1</td>\n",
       "    </tr>\n",
       "    <tr>\n",
       "      <th>4</th>\n",
       "      <td>52</td>\n",
       "      <td>0</td>\n",
       "      <td>0</td>\n",
       "      <td>19</td>\n",
       "      <td>0</td>\n",
       "      <td>1</td>\n",
       "      <td>0</td>\n",
       "      <td>1</td>\n",
       "      <td>3</td>\n",
       "    </tr>\n",
       "  </tbody>\n",
       "</table>\n",
       "</div>"
      ],
      "text/plain": [
       "   week  arrest  fin  age  race  wexp  mar  paro  prio\n",
       "0    20       1    0   27     1     0    0     1     3\n",
       "1    17       1    0   18     1     0    0     1     8\n",
       "2    25       1    0   19     0     1    0     1    13\n",
       "3    52       0    1   23     1     1    1     1     1\n",
       "4    52       0    0   19     0     1    0     1     3"
      ]
     },
     "execution_count": 14,
     "metadata": {},
     "output_type": "execute_result"
    }
   ],
   "source": [
    "rossi_dataset.head()"
   ]
  },
  {
   "cell_type": "code",
   "execution_count": 15,
   "metadata": {
    "collapsed": false
   },
   "outputs": [
    {
     "data": {
      "text/plain": [
       "(432, 9)"
      ]
     },
     "execution_count": 15,
     "metadata": {},
     "output_type": "execute_result"
    }
   ],
   "source": [
    "rossi_dataset.shape"
   ]
  },
  {
   "cell_type": "code",
   "execution_count": 16,
   "metadata": {
    "collapsed": false
   },
   "outputs": [
    {
     "data": {
      "text/plain": [
       "<matplotlib.axes._subplots.AxesSubplot at 0x9f98be0>"
      ]
     },
     "execution_count": 16,
     "metadata": {},
     "output_type": "execute_result"
    },
    {
     "data": {
      "image/png": "[encoded data removed]",
      "text/plain": [
       "<matplotlib.figure.Figure at 0xa018b70>"
      ]
     },
     "metadata": {},
     "output_type": "display_data"
    }
   ],
   "source": [
    "rossi_dataset.week.hist(bins=30)"
   ]
  },
  {
   "cell_type": "code",
   "execution_count": 17,
   "metadata": {
    "collapsed": false
   },
   "outputs": [],
   "source": [
    "pred = cf.predict_survival_function(rossi_dataset)\n",
    "#pred.plot()"
   ]
  },
  {
   "cell_type": "code",
   "execution_count": 18,
   "metadata": {
    "collapsed": false
   },
   "outputs": [
    {
     "data": {
      "text/plain": [
       "(50, 432)"
      ]
     },
     "execution_count": 18,
     "metadata": {},
     "output_type": "execute_result"
    }
   ],
   "source": [
    "pred.shape"
   ]
  },
  {
   "cell_type": "code",
   "execution_count": 19,
   "metadata": {
    "collapsed": false
   },
   "outputs": [
    {
     "data": {
      "text/plain": [
       "<matplotlib.axes._subplots.AxesSubplot at 0xa3ac0f0>"
      ]
     },
     "execution_count": 19,
     "metadata": {},
     "output_type": "execute_result"
    },
    {
     "data": {
      "image/png": "[encoded data removed]",
      "text/plain": [
       "<matplotlib.figure.Figure at 0x9f98d30>"
      ]
     },
     "metadata": {},
     "output_type": "display_data"
    }
   ],
   "source": [
    "pred.iloc[:,[80,90,100]].plot()\n"
   ]
  },
  {
   "cell_type": "code",
   "execution_count": 20,
   "metadata": {
    "collapsed": false
   },
   "outputs": [
    {
     "data": {
      "text/plain": [
       "(432, 1)"
      ]
     },
     "execution_count": 20,
     "metadata": {},
     "output_type": "execute_result"
    }
   ],
   "source": [
    "partial_hazard = cf.predict_partial_hazard(rossi_dataset)\n",
    "partial_hazard.shape"
   ]
  },
  {
   "cell_type": "code",
   "execution_count": 21,
   "metadata": {
    "collapsed": false
   },
   "outputs": [
    {
     "data": {
      "text/plain": [
       "(432, 2)"
      ]
     },
     "execution_count": 21,
     "metadata": {},
     "output_type": "execute_result"
    }
   ],
   "source": [
    "partial_hazard_ci = cf.predict_partial_hazard_ci(rossi_dataset)\n",
    "partial_hazard_ci.shape"
   ]
  },
  {
   "cell_type": "code",
   "execution_count": 22,
   "metadata": {
    "collapsed": false
   },
   "outputs": [
    {
     "data": {
      "text/plain": [
       "<matplotlib.axes._subplots.AxesSubplot at 0xa5f5cf8>"
      ]
     },
     "execution_count": 22,
     "metadata": {},
     "output_type": "execute_result"
    },
    {
     "data": {
      "image/png": "[encoded data removed]",
      "text/plain": [
       "<matplotlib.figure.Figure at 0xa4a6cf8>"
      ]
     },
     "metadata": {},
     "output_type": "display_data"
    }
   ],
   "source": [
    "partial_hazard.ix[100:110].plot()\n",
    "partial_hazard_ci.lowerbound.ix[100:110].plot()\n",
    "partial_hazard_ci.upperbound.ix[100:110].plot()\n"
   ]
  },
  {
   "cell_type": "code",
   "execution_count": 23,
   "metadata": {
    "collapsed": false
   },
   "outputs": [],
   "source": [
    "\n",
    "#plt.scatter(partial_hazard_ci.min(axis=1),partial_hazard_ci.lowerbound)"
   ]
  },
  {
   "cell_type": "code",
   "execution_count": 24,
   "metadata": {
    "collapsed": false
   },
   "outputs": [
    {
     "data": {
      "text/html": [
       "<div>\n",
       "<table border=\"1\" class=\"dataframe\">\n",
       "  <thead>\n",
       "    <tr style=\"text-align: right;\">\n",
       "      <th></th>\n",
       "      <th>time_point_0</th>\n",
       "      <th>time_point_4</th>\n",
       "      <th>time_point_8</th>\n",
       "      <th>time_point_12</th>\n",
       "    </tr>\n",
       "  </thead>\n",
       "  <tbody>\n",
       "    <tr>\n",
       "      <th>0</th>\n",
       "      <td>20</td>\n",
       "      <td>24</td>\n",
       "      <td>28</td>\n",
       "      <td>32</td>\n",
       "    </tr>\n",
       "    <tr>\n",
       "      <th>1</th>\n",
       "      <td>17</td>\n",
       "      <td>21</td>\n",
       "      <td>25</td>\n",
       "      <td>29</td>\n",
       "    </tr>\n",
       "    <tr>\n",
       "      <th>2</th>\n",
       "      <td>25</td>\n",
       "      <td>29</td>\n",
       "      <td>33</td>\n",
       "      <td>37</td>\n",
       "    </tr>\n",
       "    <tr>\n",
       "      <th>3</th>\n",
       "      <td>52</td>\n",
       "      <td>56</td>\n",
       "      <td>60</td>\n",
       "      <td>64</td>\n",
       "    </tr>\n",
       "    <tr>\n",
       "      <th>4</th>\n",
       "      <td>52</td>\n",
       "      <td>56</td>\n",
       "      <td>60</td>\n",
       "      <td>64</td>\n",
       "    </tr>\n",
       "    <tr>\n",
       "      <th>5</th>\n",
       "      <td>52</td>\n",
       "      <td>56</td>\n",
       "      <td>60</td>\n",
       "      <td>64</td>\n",
       "    </tr>\n",
       "    <tr>\n",
       "      <th>6</th>\n",
       "      <td>23</td>\n",
       "      <td>27</td>\n",
       "      <td>31</td>\n",
       "      <td>35</td>\n",
       "    </tr>\n",
       "    <tr>\n",
       "      <th>7</th>\n",
       "      <td>52</td>\n",
       "      <td>56</td>\n",
       "      <td>60</td>\n",
       "      <td>64</td>\n",
       "    </tr>\n",
       "    <tr>\n",
       "      <th>8</th>\n",
       "      <td>52</td>\n",
       "      <td>56</td>\n",
       "      <td>60</td>\n",
       "      <td>64</td>\n",
       "    </tr>\n",
       "    <tr>\n",
       "      <th>9</th>\n",
       "      <td>52</td>\n",
       "      <td>56</td>\n",
       "      <td>60</td>\n",
       "      <td>64</td>\n",
       "    </tr>\n",
       "    <tr>\n",
       "      <th>10</th>\n",
       "      <td>52</td>\n",
       "      <td>56</td>\n",
       "      <td>60</td>\n",
       "      <td>64</td>\n",
       "    </tr>\n",
       "    <tr>\n",
       "      <th>11</th>\n",
       "      <td>52</td>\n",
       "      <td>56</td>\n",
       "      <td>60</td>\n",
       "      <td>64</td>\n",
       "    </tr>\n",
       "    <tr>\n",
       "      <th>12</th>\n",
       "      <td>37</td>\n",
       "      <td>41</td>\n",
       "      <td>45</td>\n",
       "      <td>49</td>\n",
       "    </tr>\n",
       "    <tr>\n",
       "      <th>13</th>\n",
       "      <td>52</td>\n",
       "      <td>56</td>\n",
       "      <td>60</td>\n",
       "      <td>64</td>\n",
       "    </tr>\n",
       "    <tr>\n",
       "      <th>14</th>\n",
       "      <td>25</td>\n",
       "      <td>29</td>\n",
       "      <td>33</td>\n",
       "      <td>37</td>\n",
       "    </tr>\n",
       "    <tr>\n",
       "      <th>15</th>\n",
       "      <td>46</td>\n",
       "      <td>50</td>\n",
       "      <td>54</td>\n",
       "      <td>58</td>\n",
       "    </tr>\n",
       "    <tr>\n",
       "      <th>16</th>\n",
       "      <td>28</td>\n",
       "      <td>32</td>\n",
       "      <td>36</td>\n",
       "      <td>40</td>\n",
       "    </tr>\n",
       "    <tr>\n",
       "      <th>17</th>\n",
       "      <td>52</td>\n",
       "      <td>56</td>\n",
       "      <td>60</td>\n",
       "      <td>64</td>\n",
       "    </tr>\n",
       "    <tr>\n",
       "      <th>18</th>\n",
       "      <td>52</td>\n",
       "      <td>56</td>\n",
       "      <td>60</td>\n",
       "      <td>64</td>\n",
       "    </tr>\n",
       "    <tr>\n",
       "      <th>19</th>\n",
       "      <td>52</td>\n",
       "      <td>56</td>\n",
       "      <td>60</td>\n",
       "      <td>64</td>\n",
       "    </tr>\n",
       "    <tr>\n",
       "      <th>20</th>\n",
       "      <td>52</td>\n",
       "      <td>56</td>\n",
       "      <td>60</td>\n",
       "      <td>64</td>\n",
       "    </tr>\n",
       "    <tr>\n",
       "      <th>21</th>\n",
       "      <td>52</td>\n",
       "      <td>56</td>\n",
       "      <td>60</td>\n",
       "      <td>64</td>\n",
       "    </tr>\n",
       "    <tr>\n",
       "      <th>22</th>\n",
       "      <td>24</td>\n",
       "      <td>28</td>\n",
       "      <td>32</td>\n",
       "      <td>36</td>\n",
       "    </tr>\n",
       "    <tr>\n",
       "      <th>23</th>\n",
       "      <td>52</td>\n",
       "      <td>56</td>\n",
       "      <td>60</td>\n",
       "      <td>64</td>\n",
       "    </tr>\n",
       "    <tr>\n",
       "      <th>24</th>\n",
       "      <td>52</td>\n",
       "      <td>56</td>\n",
       "      <td>60</td>\n",
       "      <td>64</td>\n",
       "    </tr>\n",
       "    <tr>\n",
       "      <th>25</th>\n",
       "      <td>52</td>\n",
       "      <td>56</td>\n",
       "      <td>60</td>\n",
       "      <td>64</td>\n",
       "    </tr>\n",
       "    <tr>\n",
       "      <th>26</th>\n",
       "      <td>52</td>\n",
       "      <td>56</td>\n",
       "      <td>60</td>\n",
       "      <td>64</td>\n",
       "    </tr>\n",
       "    <tr>\n",
       "      <th>27</th>\n",
       "      <td>52</td>\n",
       "      <td>56</td>\n",
       "      <td>60</td>\n",
       "      <td>64</td>\n",
       "    </tr>\n",
       "    <tr>\n",
       "      <th>28</th>\n",
       "      <td>52</td>\n",
       "      <td>56</td>\n",
       "      <td>60</td>\n",
       "      <td>64</td>\n",
       "    </tr>\n",
       "    <tr>\n",
       "      <th>29</th>\n",
       "      <td>52</td>\n",
       "      <td>56</td>\n",
       "      <td>60</td>\n",
       "      <td>64</td>\n",
       "    </tr>\n",
       "    <tr>\n",
       "      <th>...</th>\n",
       "      <td>...</td>\n",
       "      <td>...</td>\n",
       "      <td>...</td>\n",
       "      <td>...</td>\n",
       "    </tr>\n",
       "    <tr>\n",
       "      <th>402</th>\n",
       "      <td>52</td>\n",
       "      <td>56</td>\n",
       "      <td>60</td>\n",
       "      <td>64</td>\n",
       "    </tr>\n",
       "    <tr>\n",
       "      <th>403</th>\n",
       "      <td>52</td>\n",
       "      <td>56</td>\n",
       "      <td>60</td>\n",
       "      <td>64</td>\n",
       "    </tr>\n",
       "    <tr>\n",
       "      <th>404</th>\n",
       "      <td>52</td>\n",
       "      <td>56</td>\n",
       "      <td>60</td>\n",
       "      <td>64</td>\n",
       "    </tr>\n",
       "    <tr>\n",
       "      <th>405</th>\n",
       "      <td>35</td>\n",
       "      <td>39</td>\n",
       "      <td>43</td>\n",
       "      <td>47</td>\n",
       "    </tr>\n",
       "    <tr>\n",
       "      <th>406</th>\n",
       "      <td>52</td>\n",
       "      <td>56</td>\n",
       "      <td>60</td>\n",
       "      <td>64</td>\n",
       "    </tr>\n",
       "    <tr>\n",
       "      <th>407</th>\n",
       "      <td>52</td>\n",
       "      <td>56</td>\n",
       "      <td>60</td>\n",
       "      <td>64</td>\n",
       "    </tr>\n",
       "    <tr>\n",
       "      <th>408</th>\n",
       "      <td>52</td>\n",
       "      <td>56</td>\n",
       "      <td>60</td>\n",
       "      <td>64</td>\n",
       "    </tr>\n",
       "    <tr>\n",
       "      <th>409</th>\n",
       "      <td>52</td>\n",
       "      <td>56</td>\n",
       "      <td>60</td>\n",
       "      <td>64</td>\n",
       "    </tr>\n",
       "    <tr>\n",
       "      <th>410</th>\n",
       "      <td>27</td>\n",
       "      <td>31</td>\n",
       "      <td>35</td>\n",
       "      <td>39</td>\n",
       "    </tr>\n",
       "    <tr>\n",
       "      <th>411</th>\n",
       "      <td>52</td>\n",
       "      <td>56</td>\n",
       "      <td>60</td>\n",
       "      <td>64</td>\n",
       "    </tr>\n",
       "    <tr>\n",
       "      <th>412</th>\n",
       "      <td>52</td>\n",
       "      <td>56</td>\n",
       "      <td>60</td>\n",
       "      <td>64</td>\n",
       "    </tr>\n",
       "    <tr>\n",
       "      <th>413</th>\n",
       "      <td>52</td>\n",
       "      <td>56</td>\n",
       "      <td>60</td>\n",
       "      <td>64</td>\n",
       "    </tr>\n",
       "    <tr>\n",
       "      <th>414</th>\n",
       "      <td>52</td>\n",
       "      <td>56</td>\n",
       "      <td>60</td>\n",
       "      <td>64</td>\n",
       "    </tr>\n",
       "    <tr>\n",
       "      <th>415</th>\n",
       "      <td>45</td>\n",
       "      <td>49</td>\n",
       "      <td>53</td>\n",
       "      <td>57</td>\n",
       "    </tr>\n",
       "    <tr>\n",
       "      <th>416</th>\n",
       "      <td>4</td>\n",
       "      <td>8</td>\n",
       "      <td>12</td>\n",
       "      <td>16</td>\n",
       "    </tr>\n",
       "    <tr>\n",
       "      <th>417</th>\n",
       "      <td>52</td>\n",
       "      <td>56</td>\n",
       "      <td>60</td>\n",
       "      <td>64</td>\n",
       "    </tr>\n",
       "    <tr>\n",
       "      <th>418</th>\n",
       "      <td>36</td>\n",
       "      <td>40</td>\n",
       "      <td>44</td>\n",
       "      <td>48</td>\n",
       "    </tr>\n",
       "    <tr>\n",
       "      <th>419</th>\n",
       "      <td>52</td>\n",
       "      <td>56</td>\n",
       "      <td>60</td>\n",
       "      <td>64</td>\n",
       "    </tr>\n",
       "    <tr>\n",
       "      <th>420</th>\n",
       "      <td>52</td>\n",
       "      <td>56</td>\n",
       "      <td>60</td>\n",
       "      <td>64</td>\n",
       "    </tr>\n",
       "    <tr>\n",
       "      <th>421</th>\n",
       "      <td>8</td>\n",
       "      <td>12</td>\n",
       "      <td>16</td>\n",
       "      <td>20</td>\n",
       "    </tr>\n",
       "    <tr>\n",
       "      <th>422</th>\n",
       "      <td>15</td>\n",
       "      <td>19</td>\n",
       "      <td>23</td>\n",
       "      <td>27</td>\n",
       "    </tr>\n",
       "    <tr>\n",
       "      <th>423</th>\n",
       "      <td>52</td>\n",
       "      <td>56</td>\n",
       "      <td>60</td>\n",
       "      <td>64</td>\n",
       "    </tr>\n",
       "    <tr>\n",
       "      <th>424</th>\n",
       "      <td>19</td>\n",
       "      <td>23</td>\n",
       "      <td>27</td>\n",
       "      <td>31</td>\n",
       "    </tr>\n",
       "    <tr>\n",
       "      <th>425</th>\n",
       "      <td>52</td>\n",
       "      <td>56</td>\n",
       "      <td>60</td>\n",
       "      <td>64</td>\n",
       "    </tr>\n",
       "    <tr>\n",
       "      <th>426</th>\n",
       "      <td>12</td>\n",
       "      <td>16</td>\n",
       "      <td>20</td>\n",
       "      <td>24</td>\n",
       "    </tr>\n",
       "    <tr>\n",
       "      <th>427</th>\n",
       "      <td>52</td>\n",
       "      <td>56</td>\n",
       "      <td>60</td>\n",
       "      <td>64</td>\n",
       "    </tr>\n",
       "    <tr>\n",
       "      <th>428</th>\n",
       "      <td>52</td>\n",
       "      <td>56</td>\n",
       "      <td>60</td>\n",
       "      <td>64</td>\n",
       "    </tr>\n",
       "    <tr>\n",
       "      <th>429</th>\n",
       "      <td>52</td>\n",
       "      <td>56</td>\n",
       "      <td>60</td>\n",
       "      <td>64</td>\n",
       "    </tr>\n",
       "    <tr>\n",
       "      <th>430</th>\n",
       "      <td>52</td>\n",
       "      <td>56</td>\n",
       "      <td>60</td>\n",
       "      <td>64</td>\n",
       "    </tr>\n",
       "    <tr>\n",
       "      <th>431</th>\n",
       "      <td>52</td>\n",
       "      <td>56</td>\n",
       "      <td>60</td>\n",
       "      <td>64</td>\n",
       "    </tr>\n",
       "  </tbody>\n",
       "</table>\n",
       "<p>432 rows × 4 columns</p>\n",
       "</div>"
      ],
      "text/plain": [
       "    time_point_0 time_point_4 time_point_8 time_point_12\n",
       "0             20           24           28            32\n",
       "1             17           21           25            29\n",
       "2             25           29           33            37\n",
       "3             52           56           60            64\n",
       "4             52           56           60            64\n",
       "5             52           56           60            64\n",
       "6             23           27           31            35\n",
       "7             52           56           60            64\n",
       "8             52           56           60            64\n",
       "9             52           56           60            64\n",
       "10            52           56           60            64\n",
       "11            52           56           60            64\n",
       "12            37           41           45            49\n",
       "13            52           56           60            64\n",
       "14            25           29           33            37\n",
       "15            46           50           54            58\n",
       "16            28           32           36            40\n",
       "17            52           56           60            64\n",
       "18            52           56           60            64\n",
       "19            52           56           60            64\n",
       "20            52           56           60            64\n",
       "21            52           56           60            64\n",
       "22            24           28           32            36\n",
       "23            52           56           60            64\n",
       "24            52           56           60            64\n",
       "25            52           56           60            64\n",
       "26            52           56           60            64\n",
       "27            52           56           60            64\n",
       "28            52           56           60            64\n",
       "29            52           56           60            64\n",
       "..           ...          ...          ...           ...\n",
       "402           52           56           60            64\n",
       "403           52           56           60            64\n",
       "404           52           56           60            64\n",
       "405           35           39           43            47\n",
       "406           52           56           60            64\n",
       "407           52           56           60            64\n",
       "408           52           56           60            64\n",
       "409           52           56           60            64\n",
       "410           27           31           35            39\n",
       "411           52           56           60            64\n",
       "412           52           56           60            64\n",
       "413           52           56           60            64\n",
       "414           52           56           60            64\n",
       "415           45           49           53            57\n",
       "416            4            8           12            16\n",
       "417           52           56           60            64\n",
       "418           36           40           44            48\n",
       "419           52           56           60            64\n",
       "420           52           56           60            64\n",
       "421            8           12           16            20\n",
       "422           15           19           23            27\n",
       "423           52           56           60            64\n",
       "424           19           23           27            31\n",
       "425           52           56           60            64\n",
       "426           12           16           20            24\n",
       "427           52           56           60            64\n",
       "428           52           56           60            64\n",
       "429           52           56           60            64\n",
       "430           52           56           60            64\n",
       "431           52           56           60            64\n",
       "\n",
       "[432 rows x 4 columns]"
      ]
     },
     "execution_count": 24,
     "metadata": {},
     "output_type": "execute_result"
    }
   ],
   "source": [
    "cf.identify_forecast_timepoints(rossi_dataset,[0,4,8,12])"
   ]
  },
  {
   "cell_type": "code",
   "execution_count": 25,
   "metadata": {
    "collapsed": false
   },
   "outputs": [
    {
     "data": {
      "text/html": [
       "<div>\n",
       "<table border=\"1\" class=\"dataframe\">\n",
       "  <thead>\n",
       "    <tr style=\"text-align: right;\">\n",
       "      <th></th>\n",
       "      <th>week</th>\n",
       "      <th>arrest</th>\n",
       "      <th>fin</th>\n",
       "      <th>age</th>\n",
       "      <th>race</th>\n",
       "      <th>wexp</th>\n",
       "      <th>mar</th>\n",
       "      <th>paro</th>\n",
       "      <th>prio</th>\n",
       "    </tr>\n",
       "  </thead>\n",
       "  <tbody>\n",
       "    <tr>\n",
       "      <th>427</th>\n",
       "      <td>52</td>\n",
       "      <td>0</td>\n",
       "      <td>1</td>\n",
       "      <td>31</td>\n",
       "      <td>0</td>\n",
       "      <td>1</td>\n",
       "      <td>0</td>\n",
       "      <td>1</td>\n",
       "      <td>3</td>\n",
       "    </tr>\n",
       "    <tr>\n",
       "      <th>428</th>\n",
       "      <td>52</td>\n",
       "      <td>0</td>\n",
       "      <td>0</td>\n",
       "      <td>20</td>\n",
       "      <td>1</td>\n",
       "      <td>0</td>\n",
       "      <td>0</td>\n",
       "      <td>1</td>\n",
       "      <td>1</td>\n",
       "    </tr>\n",
       "    <tr>\n",
       "      <th>429</th>\n",
       "      <td>52</td>\n",
       "      <td>0</td>\n",
       "      <td>1</td>\n",
       "      <td>20</td>\n",
       "      <td>1</td>\n",
       "      <td>1</td>\n",
       "      <td>1</td>\n",
       "      <td>1</td>\n",
       "      <td>1</td>\n",
       "    </tr>\n",
       "    <tr>\n",
       "      <th>430</th>\n",
       "      <td>52</td>\n",
       "      <td>0</td>\n",
       "      <td>0</td>\n",
       "      <td>29</td>\n",
       "      <td>1</td>\n",
       "      <td>1</td>\n",
       "      <td>0</td>\n",
       "      <td>1</td>\n",
       "      <td>3</td>\n",
       "    </tr>\n",
       "    <tr>\n",
       "      <th>431</th>\n",
       "      <td>52</td>\n",
       "      <td>0</td>\n",
       "      <td>1</td>\n",
       "      <td>24</td>\n",
       "      <td>1</td>\n",
       "      <td>1</td>\n",
       "      <td>0</td>\n",
       "      <td>1</td>\n",
       "      <td>1</td>\n",
       "    </tr>\n",
       "  </tbody>\n",
       "</table>\n",
       "</div>"
      ],
      "text/plain": [
       "     week  arrest  fin  age  race  wexp  mar  paro  prio\n",
       "427    52       0    1   31     0     1    0     1     3\n",
       "428    52       0    0   20     1     0    0     1     1\n",
       "429    52       0    1   20     1     1    1     1     1\n",
       "430    52       0    0   29     1     1    0     1     3\n",
       "431    52       0    1   24     1     1    0     1     1"
      ]
     },
     "execution_count": 25,
     "metadata": {},
     "output_type": "execute_result"
    }
   ],
   "source": [
    "rossi_dataset.tail()"
   ]
  },
  {
   "cell_type": "code",
   "execution_count": 26,
   "metadata": {
    "collapsed": false
   },
   "outputs": [
    {
     "data": {
      "text/plain": [
       "<matplotlib.axes._subplots.AxesSubplot at 0xa7cdc18>"
      ]
     },
     "execution_count": 26,
     "metadata": {},
     "output_type": "execute_result"
    },
    {
     "data": {
      "image/png": "[encoded data removed]",
      "text/plain": [
       "<matplotlib.figure.Figure at 0xa4b2c50>"
      ]
     },
     "metadata": {},
     "output_type": "display_data"
    }
   ],
   "source": [
    "pred.iloc[:,429:].plot()"
   ]
  },
  {
   "cell_type": "code",
   "execution_count": 27,
   "metadata": {
    "collapsed": false,
    "scrolled": true
   },
   "outputs": [
    {
     "data": {
      "text/html": [
       "<div>\n",
       "<table border=\"1\" class=\"dataframe\">\n",
       "  <thead>\n",
       "    <tr style=\"text-align: right;\">\n",
       "      <th></th>\n",
       "      <th>baseline hazard</th>\n",
       "    </tr>\n",
       "    <tr>\n",
       "      <th>event_at</th>\n",
       "      <th></th>\n",
       "    </tr>\n",
       "  </thead>\n",
       "  <tbody>\n",
       "    <tr>\n",
       "      <th>0</th>\n",
       "      <td>0.000000</td>\n",
       "    </tr>\n",
       "    <tr>\n",
       "      <th>1</th>\n",
       "      <td>0.001960</td>\n",
       "    </tr>\n",
       "    <tr>\n",
       "      <th>2</th>\n",
       "      <td>0.001965</td>\n",
       "    </tr>\n",
       "    <tr>\n",
       "      <th>3</th>\n",
       "      <td>0.001967</td>\n",
       "    </tr>\n",
       "    <tr>\n",
       "      <th>4</th>\n",
       "      <td>0.001971</td>\n",
       "    </tr>\n",
       "    <tr>\n",
       "      <th>5</th>\n",
       "      <td>0.001977</td>\n",
       "    </tr>\n",
       "    <tr>\n",
       "      <th>6</th>\n",
       "      <td>0.001985</td>\n",
       "    </tr>\n",
       "    <tr>\n",
       "      <th>7</th>\n",
       "      <td>0.001996</td>\n",
       "    </tr>\n",
       "    <tr>\n",
       "      <th>8</th>\n",
       "      <td>0.009998</td>\n",
       "    </tr>\n",
       "    <tr>\n",
       "      <th>9</th>\n",
       "      <td>0.004056</td>\n",
       "    </tr>\n",
       "    <tr>\n",
       "      <th>10</th>\n",
       "      <td>0.002034</td>\n",
       "    </tr>\n",
       "    <tr>\n",
       "      <th>11</th>\n",
       "      <td>0.004106</td>\n",
       "    </tr>\n",
       "    <tr>\n",
       "      <th>12</th>\n",
       "      <td>0.004188</td>\n",
       "    </tr>\n",
       "    <tr>\n",
       "      <th>13</th>\n",
       "      <td>0.002099</td>\n",
       "    </tr>\n",
       "    <tr>\n",
       "      <th>14</th>\n",
       "      <td>0.006323</td>\n",
       "    </tr>\n",
       "    <tr>\n",
       "      <th>15</th>\n",
       "      <td>0.004270</td>\n",
       "    </tr>\n",
       "    <tr>\n",
       "      <th>16</th>\n",
       "      <td>0.004295</td>\n",
       "    </tr>\n",
       "    <tr>\n",
       "      <th>17</th>\n",
       "      <td>0.006464</td>\n",
       "    </tr>\n",
       "    <tr>\n",
       "      <th>18</th>\n",
       "      <td>0.006578</td>\n",
       "    </tr>\n",
       "    <tr>\n",
       "      <th>19</th>\n",
       "      <td>0.004435</td>\n",
       "    </tr>\n",
       "    <tr>\n",
       "      <th>20</th>\n",
       "      <td>0.011168</td>\n",
       "    </tr>\n",
       "    <tr>\n",
       "      <th>21</th>\n",
       "      <td>0.004516</td>\n",
       "    </tr>\n",
       "    <tr>\n",
       "      <th>22</th>\n",
       "      <td>0.002268</td>\n",
       "    </tr>\n",
       "    <tr>\n",
       "      <th>23</th>\n",
       "      <td>0.002281</td>\n",
       "    </tr>\n",
       "    <tr>\n",
       "      <th>24</th>\n",
       "      <td>0.009135</td>\n",
       "    </tr>\n",
       "    <tr>\n",
       "      <th>25</th>\n",
       "      <td>0.006906</td>\n",
       "    </tr>\n",
       "    <tr>\n",
       "      <th>26</th>\n",
       "      <td>0.007058</td>\n",
       "    </tr>\n",
       "    <tr>\n",
       "      <th>27</th>\n",
       "      <td>0.004734</td>\n",
       "    </tr>\n",
       "    <tr>\n",
       "      <th>28</th>\n",
       "      <td>0.004761</td>\n",
       "    </tr>\n",
       "    <tr>\n",
       "      <th>30</th>\n",
       "      <td>0.004808</td>\n",
       "    </tr>\n",
       "    <tr>\n",
       "      <th>31</th>\n",
       "      <td>0.002421</td>\n",
       "    </tr>\n",
       "    <tr>\n",
       "      <th>32</th>\n",
       "      <td>0.004865</td>\n",
       "    </tr>\n",
       "    <tr>\n",
       "      <th>33</th>\n",
       "      <td>0.004900</td>\n",
       "    </tr>\n",
       "    <tr>\n",
       "      <th>34</th>\n",
       "      <td>0.004969</td>\n",
       "    </tr>\n",
       "    <tr>\n",
       "      <th>35</th>\n",
       "      <td>0.010023</td>\n",
       "    </tr>\n",
       "    <tr>\n",
       "      <th>36</th>\n",
       "      <td>0.007612</td>\n",
       "    </tr>\n",
       "    <tr>\n",
       "      <th>37</th>\n",
       "      <td>0.010249</td>\n",
       "    </tr>\n",
       "    <tr>\n",
       "      <th>38</th>\n",
       "      <td>0.002597</td>\n",
       "    </tr>\n",
       "    <tr>\n",
       "      <th>39</th>\n",
       "      <td>0.005215</td>\n",
       "    </tr>\n",
       "    <tr>\n",
       "      <th>40</th>\n",
       "      <td>0.010479</td>\n",
       "    </tr>\n",
       "    <tr>\n",
       "      <th>42</th>\n",
       "      <td>0.005332</td>\n",
       "    </tr>\n",
       "    <tr>\n",
       "      <th>43</th>\n",
       "      <td>0.010701</td>\n",
       "    </tr>\n",
       "    <tr>\n",
       "      <th>44</th>\n",
       "      <td>0.005429</td>\n",
       "    </tr>\n",
       "    <tr>\n",
       "      <th>45</th>\n",
       "      <td>0.005470</td>\n",
       "    </tr>\n",
       "    <tr>\n",
       "      <th>46</th>\n",
       "      <td>0.011060</td>\n",
       "    </tr>\n",
       "    <tr>\n",
       "      <th>47</th>\n",
       "      <td>0.002795</td>\n",
       "    </tr>\n",
       "    <tr>\n",
       "      <th>48</th>\n",
       "      <td>0.005616</td>\n",
       "    </tr>\n",
       "    <tr>\n",
       "      <th>49</th>\n",
       "      <td>0.014179</td>\n",
       "    </tr>\n",
       "    <tr>\n",
       "      <th>50</th>\n",
       "      <td>0.008627</td>\n",
       "    </tr>\n",
       "    <tr>\n",
       "      <th>52</th>\n",
       "      <td>0.011691</td>\n",
       "    </tr>\n",
       "  </tbody>\n",
       "</table>\n",
       "</div>"
      ],
      "text/plain": [
       "          baseline hazard\n",
       "event_at                 \n",
       "0                0.000000\n",
       "1                0.001960\n",
       "2                0.001965\n",
       "3                0.001967\n",
       "4                0.001971\n",
       "5                0.001977\n",
       "6                0.001985\n",
       "7                0.001996\n",
       "8                0.009998\n",
       "9                0.004056\n",
       "10               0.002034\n",
       "11               0.004106\n",
       "12               0.004188\n",
       "13               0.002099\n",
       "14               0.006323\n",
       "15               0.004270\n",
       "16               0.004295\n",
       "17               0.006464\n",
       "18               0.006578\n",
       "19               0.004435\n",
       "20               0.011168\n",
       "21               0.004516\n",
       "22               0.002268\n",
       "23               0.002281\n",
       "24               0.009135\n",
       "25               0.006906\n",
       "26               0.007058\n",
       "27               0.004734\n",
       "28               0.004761\n",
       "30               0.004808\n",
       "31               0.002421\n",
       "32               0.004865\n",
       "33               0.004900\n",
       "34               0.004969\n",
       "35               0.010023\n",
       "36               0.007612\n",
       "37               0.010249\n",
       "38               0.002597\n",
       "39               0.005215\n",
       "40               0.010479\n",
       "42               0.005332\n",
       "43               0.010701\n",
       "44               0.005429\n",
       "45               0.005470\n",
       "46               0.011060\n",
       "47               0.002795\n",
       "48               0.005616\n",
       "49               0.014179\n",
       "50               0.008627\n",
       "52               0.011691"
      ]
     },
     "execution_count": 27,
     "metadata": {},
     "output_type": "execute_result"
    }
   ],
   "source": [
    "cf.baseline_hazard_"
   ]
  },
  {
   "cell_type": "code",
   "execution_count": 28,
   "metadata": {
    "collapsed": false
   },
   "outputs": [
    {
     "data": {
      "text/plain": [
       "52.0"
      ]
     },
     "execution_count": 28,
     "metadata": {},
     "output_type": "execute_result"
    }
   ],
   "source": [
    "cf.baseline_hazard_.index.max()"
   ]
  },
  {
   "cell_type": "code",
   "execution_count": 29,
   "metadata": {
    "collapsed": false
   },
   "outputs": [
    {
     "data": {
      "text/plain": [
       "432"
      ]
     },
     "execution_count": 29,
     "metadata": {},
     "output_type": "execute_result"
    }
   ],
   "source": [
    "obs_index = rossi_dataset.index.tolist()\n",
    "len(obs_index)"
   ]
  },
  {
   "cell_type": "code",
   "execution_count": 30,
   "metadata": {
    "collapsed": false
   },
   "outputs": [
    {
     "data": {
      "text/plain": [
       "(432L, 9L)"
      ]
     },
     "execution_count": 30,
     "metadata": {},
     "output_type": "execute_result"
    }
   ],
   "source": [
    "Xt = rossi_dataset.values\n",
    "np.shape(Xt)"
   ]
  },
  {
   "cell_type": "code",
   "execution_count": 31,
   "metadata": {
    "collapsed": false
   },
   "outputs": [
    {
     "data": {
      "text/plain": [
       "Index([u'week', u'arrest', u'fin', u'age', u'race', u'wexp', u'mar', u'paro',\n",
       "       u'prio'],\n",
       "      dtype='object')"
      ]
     },
     "execution_count": 31,
     "metadata": {},
     "output_type": "execute_result"
    }
   ],
   "source": [
    "rossi_dataset.columns"
   ]
  },
  {
   "cell_type": "code",
   "execution_count": 32,
   "metadata": {
    "collapsed": false
   },
   "outputs": [
    {
     "data": {
      "text/plain": [
       "Index([u'fin', u'age', u'race', u'wexp', u'mar', u'paro', u'prio'], dtype='object')"
      ]
     },
     "execution_count": 32,
     "metadata": {},
     "output_type": "execute_result"
    }
   ],
   "source": [
    "cf.data.columns"
   ]
  },
  {
   "cell_type": "code",
   "execution_count": 33,
   "metadata": {
    "collapsed": false
   },
   "outputs": [
    {
     "data": {
      "text/plain": [
       "432"
      ]
     },
     "execution_count": 33,
     "metadata": {},
     "output_type": "execute_result"
    }
   ],
   "source": [
    "my_index = rossi_dataset.index.tolist()\n",
    "len(my_index)"
   ]
  },
  {
   "cell_type": "code",
   "execution_count": 34,
   "metadata": {
    "collapsed": false
   },
   "outputs": [],
   "source": [
    "#cf.predict_partial_hazard(rossi_dataset)"
   ]
  },
  {
   "cell_type": "code",
   "execution_count": 35,
   "metadata": {
    "collapsed": false
   },
   "outputs": [],
   "source": [
    "#ind_hazards = cf.predict_partial_hazard(cf.data).values\n",
    "#ind_hazards"
   ]
  },
  {
   "cell_type": "code",
   "execution_count": 36,
   "metadata": {
    "collapsed": false
   },
   "outputs": [],
   "source": [
    "#event_table = ll.utils.survival_table_from_events(cf.durations.values,cf.event_observed.values)\n",
    "#event_table"
   ]
  },
  {
   "cell_type": "code",
   "execution_count": 37,
   "metadata": {
    "collapsed": false
   },
   "outputs": [
    {
     "data": {
      "text/html": [
       "<div>\n",
       "<table border=\"1\" class=\"dataframe\">\n",
       "  <thead>\n",
       "    <tr style=\"text-align: right;\">\n",
       "      <th></th>\n",
       "      <th>coef</th>\n",
       "      <th>exp(coef)</th>\n",
       "      <th>se(coef)</th>\n",
       "      <th>z</th>\n",
       "      <th>p</th>\n",
       "      <th>lower 0.95</th>\n",
       "      <th>upper 0.95</th>\n",
       "    </tr>\n",
       "  </thead>\n",
       "  <tbody>\n",
       "    <tr>\n",
       "      <th>fin</th>\n",
       "      <td>-0.189731</td>\n",
       "      <td>0.827182</td>\n",
       "      <td>0.095793</td>\n",
       "      <td>-1.980629</td>\n",
       "      <td>0.047633</td>\n",
       "      <td>-0.377523</td>\n",
       "      <td>-0.001938</td>\n",
       "    </tr>\n",
       "    <tr>\n",
       "      <th>age</th>\n",
       "      <td>-0.349966</td>\n",
       "      <td>0.704712</td>\n",
       "      <td>0.134387</td>\n",
       "      <td>-2.604155</td>\n",
       "      <td>0.009210</td>\n",
       "      <td>-0.613418</td>\n",
       "      <td>-0.086513</td>\n",
       "    </tr>\n",
       "    <tr>\n",
       "      <th>race</th>\n",
       "      <td>0.103178</td>\n",
       "      <td>1.108688</td>\n",
       "      <td>0.101171</td>\n",
       "      <td>1.019839</td>\n",
       "      <td>0.307805</td>\n",
       "      <td>-0.095157</td>\n",
       "      <td>0.301512</td>\n",
       "    </tr>\n",
       "    <tr>\n",
       "      <th>wexp</th>\n",
       "      <td>-0.074862</td>\n",
       "      <td>0.927872</td>\n",
       "      <td>0.105086</td>\n",
       "      <td>-0.712386</td>\n",
       "      <td>0.476226</td>\n",
       "      <td>-0.280872</td>\n",
       "      <td>0.131148</td>\n",
       "    </tr>\n",
       "    <tr>\n",
       "      <th>mar</th>\n",
       "      <td>-0.142150</td>\n",
       "      <td>0.867491</td>\n",
       "      <td>0.125403</td>\n",
       "      <td>-1.133541</td>\n",
       "      <td>0.256987</td>\n",
       "      <td>-0.387990</td>\n",
       "      <td>0.103690</td>\n",
       "    </tr>\n",
       "    <tr>\n",
       "      <th>paro</th>\n",
       "      <td>-0.041338</td>\n",
       "      <td>0.959505</td>\n",
       "      <td>0.095217</td>\n",
       "      <td>-0.434144</td>\n",
       "      <td>0.664184</td>\n",
       "      <td>-0.228001</td>\n",
       "      <td>0.145325</td>\n",
       "    </tr>\n",
       "    <tr>\n",
       "      <th>prio</th>\n",
       "      <td>0.263865</td>\n",
       "      <td>1.301953</td>\n",
       "      <td>0.082913</td>\n",
       "      <td>3.182426</td>\n",
       "      <td>0.001460</td>\n",
       "      <td>0.101323</td>\n",
       "      <td>0.426408</td>\n",
       "    </tr>\n",
       "  </tbody>\n",
       "</table>\n",
       "</div>"
      ],
      "text/plain": [
       "          coef  exp(coef)  se(coef)         z         p  lower 0.95  \\\n",
       "fin  -0.189731   0.827182  0.095793 -1.980629  0.047633   -0.377523   \n",
       "age  -0.349966   0.704712  0.134387 -2.604155  0.009210   -0.613418   \n",
       "race  0.103178   1.108688  0.101171  1.019839  0.307805   -0.095157   \n",
       "wexp -0.074862   0.927872  0.105086 -0.712386  0.476226   -0.280872   \n",
       "mar  -0.142150   0.867491  0.125403 -1.133541  0.256987   -0.387990   \n",
       "paro -0.041338   0.959505  0.095217 -0.434144  0.664184   -0.228001   \n",
       "prio  0.263865   1.301953  0.082913  3.182426  0.001460    0.101323   \n",
       "\n",
       "      upper 0.95  \n",
       "fin    -0.001938  \n",
       "age    -0.086513  \n",
       "race    0.301512  \n",
       "wexp    0.131148  \n",
       "mar     0.103690  \n",
       "paro    0.145325  \n",
       "prio    0.426408  "
      ]
     },
     "execution_count": 37,
     "metadata": {},
     "output_type": "execute_result"
    }
   ],
   "source": [
    "cf.summary"
   ]
  },
  {
   "cell_type": "code",
   "execution_count": 38,
   "metadata": {
    "collapsed": false
   },
   "outputs": [
    {
     "data": {
      "text/plain": [
       "[<matplotlib.lines.Line2D at 0xb5fa8d0>]"
      ]
     },
     "execution_count": 38,
     "metadata": {},
     "output_type": "execute_result"
    },
    {
     "data": {
      "image/png": "[encoded data removed]",
      "text/plain": [
       "<matplotlib.figure.Figure at 0xb2f2b38>"
      ]
     },
     "metadata": {},
     "output_type": "display_data"
    }
   ],
   "source": [
    "plt.plot(cf.baseline_hazard_)"
   ]
  },
  {
   "cell_type": "code",
   "execution_count": 39,
   "metadata": {
    "collapsed": false
   },
   "outputs": [
    {
     "name": "stdout",
     "output_type": "stream",
     "text": [
      "week\n"
     ]
    }
   ],
   "source": [
    "tcol = cf.durations.name\n",
    "print(tcol)\n",
    "for idx in my_index:\n",
    "    my_times = np.array([rossi_dataset.loc[idx, tcol]+tp for tp in [0,4,8,12]])"
   ]
  },
  {
   "cell_type": "code",
   "execution_count": 40,
   "metadata": {
    "collapsed": false
   },
   "outputs": [],
   "source": [
    "#my_index"
   ]
  },
  {
   "cell_type": "code",
   "execution_count": 41,
   "metadata": {
    "collapsed": false
   },
   "outputs": [],
   "source": [
    "#cf.return_desired_cumulative_hazards(4)"
   ]
  },
  {
   "cell_type": "code",
   "execution_count": 42,
   "metadata": {
    "collapsed": false
   },
   "outputs": [
    {
     "data": {
      "text/plain": [
       "'week'"
      ]
     },
     "execution_count": 42,
     "metadata": {},
     "output_type": "execute_result"
    }
   ],
   "source": [
    "cf.durations.name"
   ]
  },
  {
   "cell_type": "code",
   "execution_count": 43,
   "metadata": {
    "collapsed": false
   },
   "outputs": [
    {
     "data": {
      "text/plain": [
       "Int64Index([  0,   1,   2,   3,   4,   5,   6,   7,   8,   9,\n",
       "            ...\n",
       "            422, 423, 424, 425, 426, 427, 428, 429, 430, 431],\n",
       "           dtype='int64', length=432)"
      ]
     },
     "execution_count": 43,
     "metadata": {},
     "output_type": "execute_result"
    }
   ],
   "source": [
    "rossi_dataset.index.T"
   ]
  },
  {
   "cell_type": "code",
   "execution_count": 44,
   "metadata": {
    "collapsed": false
   },
   "outputs": [],
   "source": [
    "#partial_hazard.ix[:10].plot()\n",
    "#pp2.lowerbound.ix[:10].plot(color='forestgreen')\n",
    "#pp2.upperbound.ix[:10].plot()"
   ]
  },
  {
   "cell_type": "code",
   "execution_count": 49,
   "metadata": {
    "collapsed": false
   },
   "outputs": [],
   "source": [
    "surv_pred = cf.forecast_survival_function(rossi_dataset,[0,4,8,12])"
   ]
  },
  {
   "cell_type": "code",
   "execution_count": 53,
   "metadata": {
    "collapsed": false
   },
   "outputs": [
    {
     "data": {
      "text/plain": [
       "t_0     0.777892\n",
       "t_4     0.771285\n",
       "t_8     0.765317\n",
       "t_12    0.759676\n",
       "dtype: float64"
      ]
     },
     "execution_count": 53,
     "metadata": {},
     "output_type": "execute_result"
    }
   ],
   "source": [
    "surv_pred['surv'].sum()/float(len(rossi_dataset))"
   ]
  },
  {
   "cell_type": "code",
   "execution_count": null,
   "metadata": {
    "collapsed": true
   },
   "outputs": [],
   "source": []
  },
  {
   "cell_type": "code",
   "execution_count": 46,
   "metadata": {
    "collapsed": false
   },
   "outputs": [
    {
     "data": {
      "text/plain": [
       "<class 'pandas.core.panel.Panel'>\n",
       "Dimensions: 1 (items) x 432 (major_axis) x 4 (minor_axis)\n",
       "Items axis: surv to surv\n",
       "Major_axis axis: 0 to 431\n",
       "Minor_axis axis: t_0 to t_12"
      ]
     },
     "execution_count": 46,
     "metadata": {},
     "output_type": "execute_result"
    }
   ],
   "source": [
    "surv_pred2"
   ]
  },
  {
   "cell_type": "code",
   "execution_count": 47,
   "metadata": {
    "collapsed": false
   },
   "outputs": [
    {
     "data": {
      "text/html": [
       "<div>\n",
       "<table border=\"1\" class=\"dataframe\">\n",
       "  <thead>\n",
       "    <tr style=\"text-align: right;\">\n",
       "      <th></th>\n",
       "      <th>a1</th>\n",
       "      <th>a2</th>\n",
       "      <th>a3</th>\n",
       "      <th>a4</th>\n",
       "    </tr>\n",
       "  </thead>\n",
       "  <tbody>\n",
       "    <tr>\n",
       "      <th>0</th>\n",
       "      <td>0.902765</td>\n",
       "      <td>0.882939</td>\n",
       "      <td>0.858023</td>\n",
       "      <td>0.845455</td>\n",
       "    </tr>\n",
       "    <tr>\n",
       "      <th>1</th>\n",
       "      <td>0.819877</td>\n",
       "      <td>0.752315</td>\n",
       "      <td>0.704038</td>\n",
       "      <td>0.662332</td>\n",
       "    </tr>\n",
       "    <tr>\n",
       "      <th>2</th>\n",
       "      <td>0.720217</td>\n",
       "      <td>0.680236</td>\n",
       "      <td>0.650985</td>\n",
       "      <td>0.589636</td>\n",
       "    </tr>\n",
       "    <tr>\n",
       "      <th>3</th>\n",
       "      <td>0.874582</td>\n",
       "      <td>0.874582</td>\n",
       "      <td>0.874582</td>\n",
       "      <td>0.874582</td>\n",
       "    </tr>\n",
       "    <tr>\n",
       "      <th>4</th>\n",
       "      <td>0.717092</td>\n",
       "      <td>0.717092</td>\n",
       "      <td>0.717092</td>\n",
       "      <td>0.717092</td>\n",
       "    </tr>\n",
       "    <tr>\n",
       "      <th>5</th>\n",
       "      <td>0.711863</td>\n",
       "      <td>0.711863</td>\n",
       "      <td>0.711863</td>\n",
       "      <td>0.711863</td>\n",
       "    </tr>\n",
       "    <tr>\n",
       "      <th>6</th>\n",
       "      <td>0.947494</td>\n",
       "      <td>0.932306</td>\n",
       "      <td>0.925839</td>\n",
       "      <td>0.912627</td>\n",
       "    </tr>\n",
       "    <tr>\n",
       "      <th>7</th>\n",
       "      <td>0.737526</td>\n",
       "      <td>0.737526</td>\n",
       "      <td>0.737526</td>\n",
       "      <td>0.737526</td>\n",
       "    </tr>\n",
       "    <tr>\n",
       "      <th>8</th>\n",
       "      <td>0.528254</td>\n",
       "      <td>0.528254</td>\n",
       "      <td>0.528254</td>\n",
       "      <td>0.528254</td>\n",
       "    </tr>\n",
       "    <tr>\n",
       "      <th>9</th>\n",
       "      <td>0.700375</td>\n",
       "      <td>0.700375</td>\n",
       "      <td>0.700375</td>\n",
       "      <td>0.700375</td>\n",
       "    </tr>\n",
       "    <tr>\n",
       "      <th>10</th>\n",
       "      <td>0.784418</td>\n",
       "      <td>0.784418</td>\n",
       "      <td>0.784418</td>\n",
       "      <td>0.784418</td>\n",
       "    </tr>\n",
       "    <tr>\n",
       "      <th>11</th>\n",
       "      <td>0.872846</td>\n",
       "      <td>0.872846</td>\n",
       "      <td>0.872846</td>\n",
       "      <td>0.872846</td>\n",
       "    </tr>\n",
       "    <tr>\n",
       "      <th>12</th>\n",
       "      <td>0.676224</td>\n",
       "      <td>0.645331</td>\n",
       "      <td>0.611319</td>\n",
       "      <td>0.567101</td>\n",
       "    </tr>\n",
       "    <tr>\n",
       "      <th>13</th>\n",
       "      <td>0.850886</td>\n",
       "      <td>0.850886</td>\n",
       "      <td>0.850886</td>\n",
       "      <td>0.850886</td>\n",
       "    </tr>\n",
       "    <tr>\n",
       "      <th>14</th>\n",
       "      <td>0.820004</td>\n",
       "      <td>0.792171</td>\n",
       "      <td>0.771395</td>\n",
       "      <td>0.726583</td>\n",
       "    </tr>\n",
       "    <tr>\n",
       "      <th>15</th>\n",
       "      <td>0.816958</td>\n",
       "      <td>0.794999</td>\n",
       "      <td>0.786928</td>\n",
       "      <td>0.786928</td>\n",
       "    </tr>\n",
       "    <tr>\n",
       "      <th>16</th>\n",
       "      <td>0.684258</td>\n",
       "      <td>0.659690</td>\n",
       "      <td>0.607050</td>\n",
       "      <td>0.556863</td>\n",
       "    </tr>\n",
       "    <tr>\n",
       "      <th>17</th>\n",
       "      <td>0.608331</td>\n",
       "      <td>0.608331</td>\n",
       "      <td>0.608331</td>\n",
       "      <td>0.608331</td>\n",
       "    </tr>\n",
       "    <tr>\n",
       "      <th>18</th>\n",
       "      <td>0.426205</td>\n",
       "      <td>0.426205</td>\n",
       "      <td>0.426205</td>\n",
       "      <td>0.426205</td>\n",
       "    </tr>\n",
       "    <tr>\n",
       "      <th>19</th>\n",
       "      <td>0.812072</td>\n",
       "      <td>0.812072</td>\n",
       "      <td>0.812072</td>\n",
       "      <td>0.812072</td>\n",
       "    </tr>\n",
       "    <tr>\n",
       "      <th>20</th>\n",
       "      <td>0.630430</td>\n",
       "      <td>0.630430</td>\n",
       "      <td>0.630430</td>\n",
       "      <td>0.630430</td>\n",
       "    </tr>\n",
       "    <tr>\n",
       "      <th>21</th>\n",
       "      <td>0.963899</td>\n",
       "      <td>0.963899</td>\n",
       "      <td>0.963899</td>\n",
       "      <td>0.963899</td>\n",
       "    </tr>\n",
       "    <tr>\n",
       "      <th>22</th>\n",
       "      <td>0.942090</td>\n",
       "      <td>0.929257</td>\n",
       "      <td>0.922710</td>\n",
       "      <td>0.907991</td>\n",
       "    </tr>\n",
       "    <tr>\n",
       "      <th>23</th>\n",
       "      <td>0.892853</td>\n",
       "      <td>0.892853</td>\n",
       "      <td>0.892853</td>\n",
       "      <td>0.892853</td>\n",
       "    </tr>\n",
       "    <tr>\n",
       "      <th>24</th>\n",
       "      <td>0.794355</td>\n",
       "      <td>0.794355</td>\n",
       "      <td>0.794355</td>\n",
       "      <td>0.794355</td>\n",
       "    </tr>\n",
       "    <tr>\n",
       "      <th>25</th>\n",
       "      <td>0.752379</td>\n",
       "      <td>0.752379</td>\n",
       "      <td>0.752379</td>\n",
       "      <td>0.752379</td>\n",
       "    </tr>\n",
       "    <tr>\n",
       "      <th>26</th>\n",
       "      <td>0.843456</td>\n",
       "      <td>0.843456</td>\n",
       "      <td>0.843456</td>\n",
       "      <td>0.843456</td>\n",
       "    </tr>\n",
       "    <tr>\n",
       "      <th>27</th>\n",
       "      <td>0.590776</td>\n",
       "      <td>0.590776</td>\n",
       "      <td>0.590776</td>\n",
       "      <td>0.590776</td>\n",
       "    </tr>\n",
       "    <tr>\n",
       "      <th>28</th>\n",
       "      <td>0.695937</td>\n",
       "      <td>0.695937</td>\n",
       "      <td>0.695937</td>\n",
       "      <td>0.695937</td>\n",
       "    </tr>\n",
       "    <tr>\n",
       "      <th>29</th>\n",
       "      <td>0.757469</td>\n",
       "      <td>0.757469</td>\n",
       "      <td>0.757469</td>\n",
       "      <td>0.757469</td>\n",
       "    </tr>\n",
       "    <tr>\n",
       "      <th>...</th>\n",
       "      <td>...</td>\n",
       "      <td>...</td>\n",
       "      <td>...</td>\n",
       "      <td>...</td>\n",
       "    </tr>\n",
       "    <tr>\n",
       "      <th>402</th>\n",
       "      <td>0.576842</td>\n",
       "      <td>0.576842</td>\n",
       "      <td>0.576842</td>\n",
       "      <td>0.576842</td>\n",
       "    </tr>\n",
       "    <tr>\n",
       "      <th>403</th>\n",
       "      <td>0.739497</td>\n",
       "      <td>0.739497</td>\n",
       "      <td>0.739497</td>\n",
       "      <td>0.739497</td>\n",
       "    </tr>\n",
       "    <tr>\n",
       "      <th>404</th>\n",
       "      <td>0.806991</td>\n",
       "      <td>0.806991</td>\n",
       "      <td>0.806991</td>\n",
       "      <td>0.806991</td>\n",
       "    </tr>\n",
       "    <tr>\n",
       "      <th>405</th>\n",
       "      <td>0.763258</td>\n",
       "      <td>0.730371</td>\n",
       "      <td>0.697896</td>\n",
       "      <td>0.668879</td>\n",
       "    </tr>\n",
       "    <tr>\n",
       "      <th>406</th>\n",
       "      <td>0.850869</td>\n",
       "      <td>0.850869</td>\n",
       "      <td>0.850869</td>\n",
       "      <td>0.850869</td>\n",
       "    </tr>\n",
       "    <tr>\n",
       "      <th>407</th>\n",
       "      <td>0.839268</td>\n",
       "      <td>0.839268</td>\n",
       "      <td>0.839268</td>\n",
       "      <td>0.839268</td>\n",
       "    </tr>\n",
       "    <tr>\n",
       "      <th>408</th>\n",
       "      <td>0.902502</td>\n",
       "      <td>0.902502</td>\n",
       "      <td>0.902502</td>\n",
       "      <td>0.902502</td>\n",
       "    </tr>\n",
       "    <tr>\n",
       "      <th>409</th>\n",
       "      <td>0.910215</td>\n",
       "      <td>0.910215</td>\n",
       "      <td>0.910215</td>\n",
       "      <td>0.910215</td>\n",
       "    </tr>\n",
       "    <tr>\n",
       "      <th>410</th>\n",
       "      <td>0.882221</td>\n",
       "      <td>0.871310</td>\n",
       "      <td>0.849206</td>\n",
       "      <td>0.826875</td>\n",
       "    </tr>\n",
       "    <tr>\n",
       "      <th>411</th>\n",
       "      <td>0.822763</td>\n",
       "      <td>0.822763</td>\n",
       "      <td>0.822763</td>\n",
       "      <td>0.822763</td>\n",
       "    </tr>\n",
       "    <tr>\n",
       "      <th>412</th>\n",
       "      <td>0.706162</td>\n",
       "      <td>0.706162</td>\n",
       "      <td>0.706162</td>\n",
       "      <td>0.706162</td>\n",
       "    </tr>\n",
       "    <tr>\n",
       "      <th>413</th>\n",
       "      <td>0.817511</td>\n",
       "      <td>0.817511</td>\n",
       "      <td>0.817511</td>\n",
       "      <td>0.817511</td>\n",
       "    </tr>\n",
       "    <tr>\n",
       "      <th>414</th>\n",
       "      <td>0.676252</td>\n",
       "      <td>0.676252</td>\n",
       "      <td>0.676252</td>\n",
       "      <td>0.676252</td>\n",
       "    </tr>\n",
       "    <tr>\n",
       "      <th>415</th>\n",
       "      <td>0.668407</td>\n",
       "      <td>0.628563</td>\n",
       "      <td>0.605663</td>\n",
       "      <td>0.605663</td>\n",
       "    </tr>\n",
       "    <tr>\n",
       "      <th>416</th>\n",
       "      <td>0.987550</td>\n",
       "      <td>0.962758</td>\n",
       "      <td>0.940944</td>\n",
       "      <td>0.915818</td>\n",
       "    </tr>\n",
       "    <tr>\n",
       "      <th>417</th>\n",
       "      <td>0.829868</td>\n",
       "      <td>0.829868</td>\n",
       "      <td>0.829868</td>\n",
       "      <td>0.829868</td>\n",
       "    </tr>\n",
       "    <tr>\n",
       "      <th>418</th>\n",
       "      <td>0.819545</td>\n",
       "      <td>0.791829</td>\n",
       "      <td>0.771607</td>\n",
       "      <td>0.748754</td>\n",
       "    </tr>\n",
       "    <tr>\n",
       "      <th>419</th>\n",
       "      <td>0.844344</td>\n",
       "      <td>0.844344</td>\n",
       "      <td>0.844344</td>\n",
       "      <td>0.844344</td>\n",
       "    </tr>\n",
       "    <tr>\n",
       "      <th>420</th>\n",
       "      <td>0.763817</td>\n",
       "      <td>0.763817</td>\n",
       "      <td>0.763817</td>\n",
       "      <td>0.763817</td>\n",
       "    </tr>\n",
       "    <tr>\n",
       "      <th>421</th>\n",
       "      <td>0.973931</td>\n",
       "      <td>0.958518</td>\n",
       "      <td>0.940631</td>\n",
       "      <td>0.911219</td>\n",
       "    </tr>\n",
       "    <tr>\n",
       "      <th>422</th>\n",
       "      <td>0.944975</td>\n",
       "      <td>0.922370</td>\n",
       "      <td>0.901849</td>\n",
       "      <td>0.874362</td>\n",
       "    </tr>\n",
       "    <tr>\n",
       "      <th>423</th>\n",
       "      <td>0.570779</td>\n",
       "      <td>0.570779</td>\n",
       "      <td>0.570779</td>\n",
       "      <td>0.570779</td>\n",
       "    </tr>\n",
       "    <tr>\n",
       "      <th>424</th>\n",
       "      <td>0.862845</td>\n",
       "      <td>0.828123</td>\n",
       "      <td>0.782628</td>\n",
       "      <td>0.763808</td>\n",
       "    </tr>\n",
       "    <tr>\n",
       "      <th>425</th>\n",
       "      <td>0.731850</td>\n",
       "      <td>0.731850</td>\n",
       "      <td>0.731850</td>\n",
       "      <td>0.731850</td>\n",
       "    </tr>\n",
       "    <tr>\n",
       "      <th>426</th>\n",
       "      <td>0.978602</td>\n",
       "      <td>0.969235</td>\n",
       "      <td>0.953642</td>\n",
       "      <td>0.943865</td>\n",
       "    </tr>\n",
       "    <tr>\n",
       "      <th>427</th>\n",
       "      <td>0.891787</td>\n",
       "      <td>0.891787</td>\n",
       "      <td>0.891787</td>\n",
       "      <td>0.891787</td>\n",
       "    </tr>\n",
       "    <tr>\n",
       "      <th>428</th>\n",
       "      <td>0.659163</td>\n",
       "      <td>0.659163</td>\n",
       "      <td>0.659163</td>\n",
       "      <td>0.659163</td>\n",
       "    </tr>\n",
       "    <tr>\n",
       "      <th>429</th>\n",
       "      <td>0.852895</td>\n",
       "      <td>0.852895</td>\n",
       "      <td>0.852895</td>\n",
       "      <td>0.852895</td>\n",
       "    </tr>\n",
       "    <tr>\n",
       "      <th>430</th>\n",
       "      <td>0.773490</td>\n",
       "      <td>0.773490</td>\n",
       "      <td>0.773490</td>\n",
       "      <td>0.773490</td>\n",
       "    </tr>\n",
       "    <tr>\n",
       "      <th>431</th>\n",
       "      <td>0.822763</td>\n",
       "      <td>0.822763</td>\n",
       "      <td>0.822763</td>\n",
       "      <td>0.822763</td>\n",
       "    </tr>\n",
       "  </tbody>\n",
       "</table>\n",
       "<p>432 rows × 4 columns</p>\n",
       "</div>"
      ],
      "text/plain": [
       "           a1        a2        a3        a4\n",
       "0    0.902765  0.882939  0.858023  0.845455\n",
       "1    0.819877  0.752315  0.704038  0.662332\n",
       "2    0.720217  0.680236  0.650985  0.589636\n",
       "3    0.874582  0.874582  0.874582  0.874582\n",
       "4    0.717092  0.717092  0.717092  0.717092\n",
       "5    0.711863  0.711863  0.711863  0.711863\n",
       "6    0.947494  0.932306  0.925839  0.912627\n",
       "7    0.737526  0.737526  0.737526  0.737526\n",
       "8    0.528254  0.528254  0.528254  0.528254\n",
       "9    0.700375  0.700375  0.700375  0.700375\n",
       "10   0.784418  0.784418  0.784418  0.784418\n",
       "11   0.872846  0.872846  0.872846  0.872846\n",
       "12   0.676224  0.645331  0.611319  0.567101\n",
       "13   0.850886  0.850886  0.850886  0.850886\n",
       "14   0.820004  0.792171  0.771395  0.726583\n",
       "15   0.816958  0.794999  0.786928  0.786928\n",
       "16   0.684258  0.659690  0.607050  0.556863\n",
       "17   0.608331  0.608331  0.608331  0.608331\n",
       "18   0.426205  0.426205  0.426205  0.426205\n",
       "19   0.812072  0.812072  0.812072  0.812072\n",
       "20   0.630430  0.630430  0.630430  0.630430\n",
       "21   0.963899  0.963899  0.963899  0.963899\n",
       "22   0.942090  0.929257  0.922710  0.907991\n",
       "23   0.892853  0.892853  0.892853  0.892853\n",
       "24   0.794355  0.794355  0.794355  0.794355\n",
       "25   0.752379  0.752379  0.752379  0.752379\n",
       "26   0.843456  0.843456  0.843456  0.843456\n",
       "27   0.590776  0.590776  0.590776  0.590776\n",
       "28   0.695937  0.695937  0.695937  0.695937\n",
       "29   0.757469  0.757469  0.757469  0.757469\n",
       "..        ...       ...       ...       ...\n",
       "402  0.576842  0.576842  0.576842  0.576842\n",
       "403  0.739497  0.739497  0.739497  0.739497\n",
       "404  0.806991  0.806991  0.806991  0.806991\n",
       "405  0.763258  0.730371  0.697896  0.668879\n",
       "406  0.850869  0.850869  0.850869  0.850869\n",
       "407  0.839268  0.839268  0.839268  0.839268\n",
       "408  0.902502  0.902502  0.902502  0.902502\n",
       "409  0.910215  0.910215  0.910215  0.910215\n",
       "410  0.882221  0.871310  0.849206  0.826875\n",
       "411  0.822763  0.822763  0.822763  0.822763\n",
       "412  0.706162  0.706162  0.706162  0.706162\n",
       "413  0.817511  0.817511  0.817511  0.817511\n",
       "414  0.676252  0.676252  0.676252  0.676252\n",
       "415  0.668407  0.628563  0.605663  0.605663\n",
       "416  0.987550  0.962758  0.940944  0.915818\n",
       "417  0.829868  0.829868  0.829868  0.829868\n",
       "418  0.819545  0.791829  0.771607  0.748754\n",
       "419  0.844344  0.844344  0.844344  0.844344\n",
       "420  0.763817  0.763817  0.763817  0.763817\n",
       "421  0.973931  0.958518  0.940631  0.911219\n",
       "422  0.944975  0.922370  0.901849  0.874362\n",
       "423  0.570779  0.570779  0.570779  0.570779\n",
       "424  0.862845  0.828123  0.782628  0.763808\n",
       "425  0.731850  0.731850  0.731850  0.731850\n",
       "426  0.978602  0.969235  0.953642  0.943865\n",
       "427  0.891787  0.891787  0.891787  0.891787\n",
       "428  0.659163  0.659163  0.659163  0.659163\n",
       "429  0.852895  0.852895  0.852895  0.852895\n",
       "430  0.773490  0.773490  0.773490  0.773490\n",
       "431  0.822763  0.822763  0.822763  0.822763\n",
       "\n",
       "[432 rows x 4 columns]"
      ]
     },
     "execution_count": 47,
     "metadata": {},
     "output_type": "execute_result"
    }
   ],
   "source": [
    "surv_pred2.minor_axis = ['a1','a2','a3','a4']\n",
    "surv_pred2['surv']"
   ]
  },
  {
   "cell_type": "code",
   "execution_count": 48,
   "metadata": {
    "collapsed": false
   },
   "outputs": [
    {
     "ename": "NameError",
     "evalue": "name 'surv_pred' is not defined",
     "output_type": "error",
     "traceback": [
      "\u001b[1;31m---------------------------------------------------------------------------\u001b[0m",
      "\u001b[1;31mNameError\u001b[0m                                 Traceback (most recent call last)",
      "\u001b[1;32m<ipython-input-48-2b02971f60ee>\u001b[0m in \u001b[0;36m<module>\u001b[1;34m()\u001b[0m\n\u001b[1;32m----> 1\u001b[1;33m \u001b[0msurv_pred\u001b[0m\u001b[1;33m[\u001b[0m\u001b[1;34m'lbci'\u001b[0m\u001b[1;33m]\u001b[0m\u001b[1;33m.\u001b[0m\u001b[0mcolumns\u001b[0m \u001b[1;33m=\u001b[0m \u001b[1;33m[\u001b[0m\u001b[1;34m'a1'\u001b[0m\u001b[1;33m,\u001b[0m\u001b[1;34m'a2'\u001b[0m\u001b[1;33m,\u001b[0m\u001b[1;34m'a3'\u001b[0m\u001b[1;33m,\u001b[0m\u001b[1;34m'a4'\u001b[0m\u001b[1;33m,\u001b[0m\u001b[1;34m't_0'\u001b[0m\u001b[1;33m,\u001b[0m\u001b[1;34m't_1'\u001b[0m\u001b[1;33m,\u001b[0m\u001b[1;34m't_2'\u001b[0m\u001b[1;33m,\u001b[0m\u001b[1;34m't_3'\u001b[0m\u001b[1;33m]\u001b[0m\u001b[1;33m\u001b[0m\u001b[0m\n\u001b[0m\u001b[0;32m      2\u001b[0m \u001b[0msurv_pred\u001b[0m\u001b[1;33m[\u001b[0m\u001b[1;34m'lbci'\u001b[0m\u001b[1;33m]\u001b[0m\u001b[1;33m.\u001b[0m\u001b[0mhead\u001b[0m\u001b[1;33m(\u001b[0m\u001b[1;33m)\u001b[0m\u001b[1;33m\u001b[0m\u001b[0m\n",
      "\u001b[1;31mNameError\u001b[0m: name 'surv_pred' is not defined"
     ]
    }
   ],
   "source": [
    "surv_pred['lbci'].columns = ['a1','a2','a3','a4','t_0','t_1','t_2','t_3']\n",
    "surv_pred['lbci'].head()"
   ]
  },
  {
   "cell_type": "code",
   "execution_count": null,
   "metadata": {
    "collapsed": false
   },
   "outputs": [],
   "source": [
    "tdp = cf.identify_forecast_timepoints(rossi_dataset,[0,4,8,12])"
   ]
  },
  {
   "cell_type": "code",
   "execution_count": null,
   "metadata": {
    "collapsed": false
   },
   "outputs": [],
   "source": [
    "maxTime = cf.baseline_hazard_.index.max()\n",
    "maxTime"
   ]
  },
  {
   "cell_type": "code",
   "execution_count": null,
   "metadata": {
    "collapsed": false
   },
   "outputs": [],
   "source": [
    "tdp[tdp>maxTime] = maxTime"
   ]
  },
  {
   "cell_type": "code",
   "execution_count": null,
   "metadata": {
    "collapsed": false
   },
   "outputs": [],
   "source": [
    "tdp"
   ]
  },
  {
   "cell_type": "code",
   "execution_count": null,
   "metadata": {
    "collapsed": true
   },
   "outputs": [],
   "source": [
    "spec_cum_haz = tdp.applymap(lambda x: cf._return_desired_cumulative_hazards(x))"
   ]
  },
  {
   "cell_type": "code",
   "execution_count": null,
   "metadata": {
    "collapsed": false
   },
   "outputs": [],
   "source": [
    "spec_cum_haz"
   ]
  },
  {
   "cell_type": "code",
   "execution_count": null,
   "metadata": {
    "collapsed": false
   },
   "outputs": [],
   "source": [
    "tdp"
   ]
  },
  {
   "cell_type": "code",
   "execution_count": null,
   "metadata": {
    "collapsed": false
   },
   "outputs": [],
   "source": [
    "surv_pred['surv'].ix[0].plot()\n",
    "surv_pred['lbci'].ix[0].plot()"
   ]
  },
  {
   "cell_type": "code",
   "execution_count": 56,
   "metadata": {
    "collapsed": false
   },
   "outputs": [
    {
     "data": {
      "text/plain": [
       "<matplotlib.axes._subplots.AxesSubplot at 0xb8efbe0>"
      ]
     },
     "execution_count": 56,
     "metadata": {},
     "output_type": "execute_result"
    },
    {
     "data": {
      "image/png": "[encoded data removed]",
      "text/plain": [
       "<matplotlib.figure.Figure at 0xb8efba8>"
      ]
     },
     "metadata": {},
     "output_type": "display_data"
    }
   ],
   "source": [
    "cf.baseline_cumulative_hazard_.plot()"
   ]
  },
  {
   "cell_type": "markdown",
   "metadata": {},
   "source": [
    "### Look at fitting/extrapolating from baseline hazard"
   ]
  },
  {
   "cell_type": "code",
   "execution_count": 57,
   "metadata": {
    "collapsed": true
   },
   "outputs": [],
   "source": [
    "def line(x,a,b):\n",
    "    return a*x + b\n",
    "\n",
    "from scipy.optimize import curve_fit"
   ]
  },
  {
   "cell_type": "code",
   "execution_count": 61,
   "metadata": {
    "collapsed": false
   },
   "outputs": [],
   "source": [
    "popt,pcov = curve_fit(line, cf.baseline_cumulative_hazard_.index, cf.baseline_cumulative_hazard_.values.ravel())"
   ]
  },
  {
   "cell_type": "code",
   "execution_count": 109,
   "metadata": {
    "collapsed": false
   },
   "outputs": [
    {
     "data": {
      "text/plain": [
       "array([ 0.00551296, -0.02804417])"
      ]
     },
     "execution_count": 109,
     "metadata": {},
     "output_type": "execute_result"
    }
   ],
   "source": [
    "popt2,pcov2 = curve_fit(line, cf.baseline_cumulative_hazard_.index[4:], cf.baseline_cumulative_hazard_.values.ravel()[4:])\n",
    "popt2"
   ]
  },
  {
   "cell_type": "code",
   "execution_count": 62,
   "metadata": {
    "collapsed": false
   },
   "outputs": [
    {
     "data": {
      "text/plain": [
       "array([ 0.00532471, -0.02149399])"
      ]
     },
     "execution_count": 62,
     "metadata": {},
     "output_type": "execute_result"
    }
   ],
   "source": [
    "popt"
   ]
  },
  {
   "cell_type": "code",
   "execution_count": 63,
   "metadata": {
    "collapsed": false
   },
   "outputs": [
    {
     "data": {
      "text/plain": [
       "array([[  6.40108860e-09,  -1.60923369e-07],\n",
       "       [ -1.60923369e-07,   5.51863461e-06]])"
      ]
     },
     "execution_count": 63,
     "metadata": {},
     "output_type": "execute_result"
    }
   ],
   "source": [
    "pcov"
   ]
  },
  {
   "cell_type": "markdown",
   "metadata": {},
   "source": [
    "### `pcov` will contain the true variance and covariance of the parameters, so the best-fit parameters are "
   ]
  },
  {
   "cell_type": "code",
   "execution_count": 67,
   "metadata": {
    "collapsed": false
   },
   "outputs": [
    {
     "name": "stdout",
     "output_type": "stream",
     "text": [
      "a = 0.00532470618549 +/- 8.00068034593e-05\n",
      "b = -0.0214939882775 +/- 0.00234917743191\n"
     ]
    }
   ],
   "source": [
    "print \"a =\", popt[0], \"+/-\", pcov[0,0]**0.5\n",
    "print \"b =\", popt[1], \"+/-\", pcov[1,1]**0.5"
   ]
  },
  {
   "cell_type": "code",
   "execution_count": 78,
   "metadata": {
    "collapsed": false,
    "scrolled": true
   },
   "outputs": [
    {
     "data": {
      "text/plain": [
       "[<matplotlib.lines.Line2D at 0xc524a20>]"
      ]
     },
     "execution_count": 78,
     "metadata": {},
     "output_type": "execute_result"
    },
    {
     "data": {
      "image/png": "[encoded data removed]",
      "text/plain": [
       "<matplotlib.figure.Figure at 0xc524ac8>"
      ]
     },
     "metadata": {},
     "output_type": "display_data"
    }
   ],
   "source": [
    "cf.baseline_cumulative_hazard_.plot()\n",
    "x = np.arange(0,53)\n",
    "plt.plot(x,line(x,popt[0],popt[1]))#,lw='2',color='midnightblue')"
   ]
  },
  {
   "cell_type": "code",
   "execution_count": 92,
   "metadata": {
    "collapsed": true
   },
   "outputs": [],
   "source": [
    "import seaborn as sns"
   ]
  },
  {
   "cell_type": "code",
   "execution_count": 90,
   "metadata": {
    "collapsed": false,
    "scrolled": true
   },
   "outputs": [
    {
     "data": {
      "text/plain": [
       "array([ -2.14939883e-02,  -1.61692821e-02,  -1.08445759e-02,\n",
       "        -5.51986972e-03,  -1.95163536e-04,   5.12954265e-03,\n",
       "         1.04542488e-02,   1.57789550e-02,   2.11036612e-02,\n",
       "         2.64283674e-02,   3.17530736e-02,   3.70777798e-02,\n",
       "         4.24024859e-02,   4.77271921e-02,   5.30518983e-02,\n",
       "         5.83766045e-02,   6.37013107e-02,   6.90260169e-02,\n",
       "         7.43507231e-02,   7.96754292e-02,   8.50001354e-02,\n",
       "         9.03248416e-02,   9.56495478e-02,   1.00974254e-01,\n",
       "         1.06298960e-01,   1.11623666e-01,   1.16948373e-01,\n",
       "         1.22273079e-01,   1.27597785e-01,   1.38247197e-01,\n",
       "         1.43571903e-01,   1.48896610e-01,   1.54221316e-01,\n",
       "         1.59546022e-01,   1.64870728e-01,   1.70195434e-01,\n",
       "         1.75520141e-01,   1.80844847e-01,   1.86169553e-01,\n",
       "         1.91494259e-01,   2.02143672e-01,   2.07468378e-01,\n",
       "         2.12793084e-01,   2.18117790e-01,   2.23442496e-01,\n",
       "         2.28767202e-01,   2.34091909e-01,   2.39416615e-01,\n",
       "         2.44741321e-01,   2.55390733e-01])"
      ]
     },
     "execution_count": 90,
     "metadata": {},
     "output_type": "execute_result"
    }
   ],
   "source": [
    "xvals = np.array(cf.baseline_cumulative_hazard_.index.tolist())\n"
   ]
  },
  {
   "cell_type": "code",
   "execution_count": 96,
   "metadata": {
    "collapsed": false
   },
   "outputs": [
    {
     "data": {
      "text/plain": [
       "<matplotlib.axes._subplots.AxesSubplot at 0xcd042b0>"
      ]
     },
     "execution_count": 96,
     "metadata": {},
     "output_type": "execute_result"
    },
    {
     "data": {
      "image/png": "[encoded data removed]",
      "text/plain": [
       "<matplotlib.figure.Figure at 0xd2f9358>"
      ]
     },
     "metadata": {},
     "output_type": "display_data"
    }
   ],
   "source": [
    "sns.regplot(cf.baseline_cumulative_hazard_.values.ravel(),line(xvals,popt[0],popt[1]))\n",
    "\n",
    "#(xvals,line(xvals,popt[0],popt[1]))"
   ]
  },
  {
   "cell_type": "code",
   "execution_count": 97,
   "metadata": {
    "collapsed": false
   },
   "outputs": [
    {
     "data": {
      "text/plain": [
       "<matplotlib.axes._subplots.AxesSubplot at 0xd2e1f98>"
      ]
     },
     "execution_count": 97,
     "metadata": {},
     "output_type": "execute_result"
    },
    {
     "data": {
      "image/png": "[encoded data removed]",
      "text/plain": [
       "<matplotlib.figure.Figure at 0xcb3c128>"
      ]
     },
     "metadata": {},
     "output_type": "display_data"
    }
   ],
   "source": [
    "sns.residplot(cf.baseline_cumulative_hazard_.values.ravel(),line(xvals,popt[0],popt[1]))"
   ]
  },
  {
   "cell_type": "code",
   "execution_count": 99,
   "metadata": {
    "collapsed": false
   },
   "outputs": [
    {
     "data": {
      "text/plain": [
       "<seaborn.axisgrid.JointGrid at 0xdc974a8>"
      ]
     },
     "execution_count": 99,
     "metadata": {},
     "output_type": "execute_result"
    },
    {
     "data": {
      "image/png": "[encoded data removed]",
      "text/plain": [
       "<matplotlib.figure.Figure at 0xdc97358>"
      ]
     },
     "metadata": {},
     "output_type": "display_data"
    }
   ],
   "source": [
    "#sns.jointplot(x1, x2, kind=\"kde\", size=7, space=0)\n",
    "sns.jointplot(cf.baseline_cumulative_hazard_.values.ravel(),line(xvals,popt[0],popt[1]),kind='reg')"
   ]
  },
  {
   "cell_type": "code",
   "execution_count": null,
   "metadata": {
    "collapsed": true
   },
   "outputs": [],
   "source": []
  },
  {
   "cell_type": "code",
   "execution_count": 110,
   "metadata": {
    "collapsed": false
   },
   "outputs": [
    {
     "data": {
      "text/plain": [
       "<seaborn.axisgrid.JointGrid at 0xf70c828>"
      ]
     },
     "execution_count": 110,
     "metadata": {},
     "output_type": "execute_result"
    },
    {
     "data": {
      "image/png": "[encoded data removed]",
      "text/plain": [
       "<matplotlib.figure.Figure at 0x106de518>"
      ]
     },
     "metadata": {},
     "output_type": "display_data"
    }
   ],
   "source": [
    "#sns.jointplot(x1, x2, kind=\"kde\", size=7, space=0)\n",
    "sns.jointplot(cf.baseline_cumulative_hazard_.values.ravel()[4:],line(xvals[4:],popt2[0],popt2[1]),kind='reg')"
   ]
  },
  {
   "cell_type": "code",
   "execution_count": 107,
   "metadata": {
    "collapsed": false
   },
   "outputs": [
    {
     "data": {
      "text/plain": [
       "<matplotlib.axes._subplots.AxesSubplot at 0xf0720f0>"
      ]
     },
     "execution_count": 107,
     "metadata": {},
     "output_type": "execute_result"
    },
    {
     "data": {
      "image/png": "[encoded data removed]",
      "text/plain": [
       "<matplotlib.figure.Figure at 0xf6776d8>"
      ]
     },
     "metadata": {},
     "output_type": "display_data"
    }
   ],
   "source": [
    "sns.regplot(cf.baseline_cumulative_hazard_.values.ravel(),line(xvals,popt[0],popt[1]),robust=True)\n",
    "#sns.regplot(cf.baseline_cumulative_hazard_.values.ravel()[4:],line(xvals,popt[0],popt[1])[4:])"
   ]
  },
  {
   "cell_type": "code",
   "execution_count": null,
   "metadata": {
    "collapsed": true
   },
   "outputs": [],
   "source": []
  },
  {
   "cell_type": "code",
   "execution_count": 102,
   "metadata": {
    "collapsed": false
   },
   "outputs": [
    {
     "data": {
      "text/plain": [
       "array([52, 56, 60, 64])"
      ]
     },
     "execution_count": 102,
     "metadata": {},
     "output_type": "execute_result"
    }
   ],
   "source": [
    "extra_x = np.array([52 + a for a in [0,4,8,12]])\n",
    "extra_x"
   ]
  },
  {
   "cell_type": "code",
   "execution_count": 103,
   "metadata": {
    "collapsed": false
   },
   "outputs": [
    {
     "data": {
      "text/plain": [
       "array([ 0.25539073,  0.27668956,  0.29798838,  0.31928721])"
      ]
     },
     "execution_count": 103,
     "metadata": {},
     "output_type": "execute_result"
    }
   ],
   "source": [
    "line(extra_x,popt[0],popt[1])"
   ]
  },
  {
   "cell_type": "code",
   "execution_count": 111,
   "metadata": {
    "collapsed": false
   },
   "outputs": [
    {
     "data": {
      "text/plain": [
       "(0, 64)"
      ]
     },
     "execution_count": 111,
     "metadata": {},
     "output_type": "execute_result"
    },
    {
     "data": {
      "image/png": "[encoded data removed]",
      "text/plain": [
       "<matplotlib.figure.Figure at 0x10936668>"
      ]
     },
     "metadata": {},
     "output_type": "display_data"
    }
   ],
   "source": [
    "cf.baseline_cumulative_hazard_.plot()\n",
    "plt.plot(extra_x,line(extra_x,popt[0],popt[1]),'H')\n",
    "plt.plot(extra_x,line(extra_x,popt2[0],popt2[1]),'d')\n",
    "\n",
    "plt.xlim([0,64])"
   ]
  },
  {
   "cell_type": "code",
   "execution_count": null,
   "metadata": {
    "collapsed": true
   },
   "outputs": [],
   "source": []
  },
  {
   "cell_type": "code",
   "execution_count": 91,
   "metadata": {
    "collapsed": false
   },
   "outputs": [
    {
     "name": "stdout",
     "output_type": "stream",
     "text": [
      "0.00353525058585\n"
     ]
    }
   ],
   "source": [
    "\n",
    "residuals = cf.baseline_cumulative_hazard_.values.ravel() - line(xvals,popt[0],popt[1])\n",
    "fres = sum(residuals**2)\n",
    "print(fres)"
   ]
  },
  {
   "cell_type": "code",
   "execution_count": 71,
   "metadata": {
    "collapsed": false
   },
   "outputs": [
    {
     "data": {
      "text/plain": [
       "[<matplotlib.lines.Line2D at 0xc7db5c0>]"
      ]
     },
     "execution_count": 71,
     "metadata": {},
     "output_type": "execute_result"
    },
    {
     "data": {
      "image/png": "[encoded data removed]",
      "text/plain": [
       "<matplotlib.figure.Figure at 0xc3eb7f0>"
      ]
     },
     "metadata": {},
     "output_type": "display_data"
    }
   ],
   "source": [
    "plt.plot(x,4*np.exp(3.*x))"
   ]
  },
  {
   "cell_type": "code",
   "execution_count": 76,
   "metadata": {
    "collapsed": false
   },
   "outputs": [
    {
     "data": {
      "text/plain": [
       "[<matplotlib.lines.Line2D at 0xc8b7d68>]"
      ]
     },
     "execution_count": 76,
     "metadata": {},
     "output_type": "execute_result"
    },
    {
     "data": {
      "image/png": "[encoded data removed]",
      "text/plain": [
       "<matplotlib.figure.Figure at 0xc8150f0>"
      ]
     },
     "metadata": {},
     "output_type": "display_data"
    }
   ],
   "source": [
    "plt.plot(np.exp(x/3.)/800.)"
   ]
  },
  {
   "cell_type": "code",
   "execution_count": 77,
   "metadata": {
    "collapsed": true
   },
   "outputs": [],
   "source": [
    "def exponetial(x,p1,p2,p3):\n",
    "    return(p1+p2*np.exp(p3*x))"
   ]
  },
  {
   "cell_type": "code",
   "execution_count": 79,
   "metadata": {
    "collapsed": true
   },
   "outputs": [],
   "source": [
    "epopt,epcov = curve_fit(exponetial, cf.baseline_cumulative_hazard_.index, cf.baseline_cumulative_hazard_.values.ravel())"
   ]
  },
  {
   "cell_type": "code",
   "execution_count": 80,
   "metadata": {
    "collapsed": false
   },
   "outputs": [
    {
     "data": {
      "text/plain": [
       "array([  3.37573617e-02,   2.82261469e-15,   1.00000000e+00])"
      ]
     },
     "execution_count": 80,
     "metadata": {},
     "output_type": "execute_result"
    }
   ],
   "source": [
    "epopt"
   ]
  },
  {
   "cell_type": "code",
   "execution_count": 82,
   "metadata": {
    "collapsed": false
   },
   "outputs": [
    {
     "data": {
      "text/plain": [
       "[<matplotlib.lines.Line2D at 0xccca550>]"
      ]
     },
     "execution_count": 82,
     "metadata": {},
     "output_type": "execute_result"
    },
    {
     "data": {
      "image/png": "[encoded data removed]",
      "text/plain": [
       "<matplotlib.figure.Figure at 0xcce1d68>"
      ]
     },
     "metadata": {},
     "output_type": "display_data"
    }
   ],
   "source": [
    "cf.baseline_cumulative_hazard_.plot()\n",
    "plt.plot(x,exponetial(x,epopt[0],epopt[1],1.))\n"
   ]
  },
  {
   "cell_type": "code",
   "execution_count": 112,
   "metadata": {
    "collapsed": true
   },
   "outputs": [],
   "source": [
    "from scipy.interpolate import interp1d"
   ]
  },
  {
   "cell_type": "code",
   "execution_count": 114,
   "metadata": {
    "collapsed": false
   },
   "outputs": [
    {
     "data": {
      "text/plain": [
       "'week'"
      ]
     },
     "execution_count": 114,
     "metadata": {},
     "output_type": "execute_result"
    }
   ],
   "source": [
    "cf.durations.name"
   ]
  },
  {
   "cell_type": "code",
   "execution_count": 115,
   "metadata": {
    "collapsed": false
   },
   "outputs": [],
   "source": [
    "def identify_forecast_timepoints(X, time_range):\n",
    "    \"\"\"\n",
    "        :param X: a (n,d) covariate numpy array or DataFrame. If a numpy array, it is coerced into a DataFrame\n",
    "        :param time_range: a list of times to calculate the survival for.\n",
    "        :return: time_point_df a DataFrame of selected future times to create survival forecasts for.\n",
    "\n",
    "        Construct a data frame that has the current time_col for each observation incremented by the values in the\n",
    "        desired list (time_range)\n",
    "    \"\"\"\n",
    "    time_col = 'week'\n",
    "    column_names = ['time_point_'+np.str(tp) for tp in time_range]\n",
    "    \n",
    "    if isinstance(X, pd.DataFrame):\n",
    "        my_index = X.index.tolist()\n",
    "    else:\n",
    "        my_index = np.arange(0, len(X))\n",
    "        X = pd.DataFrame(X, columns=self.hazards_.columns)\n",
    "\n",
    "    time_point_df = pd.DataFrame(columns=column_names, index=my_index)\n",
    "    for idx in my_index:\n",
    "        my_times = np.array([X.loc[idx, time_col]+tp for tp in time_range])\n",
    "        time_point_df.ix[idx] = my_times\n",
    "\n",
    "    return time_point_df"
   ]
  },
  {
   "cell_type": "code",
   "execution_count": 116,
   "metadata": {
    "collapsed": true
   },
   "outputs": [],
   "source": [
    "tdp = identify_forecast_timepoints(rossi_dataset,[0,4,8,12])"
   ]
  },
  {
   "cell_type": "code",
   "execution_count": 125,
   "metadata": {
    "collapsed": false
   },
   "outputs": [
    {
     "data": {
      "text/html": [
       "<div>\n",
       "<table border=\"1\" class=\"dataframe\">\n",
       "  <thead>\n",
       "    <tr style=\"text-align: right;\">\n",
       "      <th></th>\n",
       "      <th>time_point_0</th>\n",
       "      <th>time_point_4</th>\n",
       "      <th>time_point_8</th>\n",
       "      <th>time_point_12</th>\n",
       "    </tr>\n",
       "  </thead>\n",
       "  <tbody>\n",
       "    <tr>\n",
       "      <th>0</th>\n",
       "      <td>20</td>\n",
       "      <td>24</td>\n",
       "      <td>28</td>\n",
       "      <td>32</td>\n",
       "    </tr>\n",
       "    <tr>\n",
       "      <th>1</th>\n",
       "      <td>17</td>\n",
       "      <td>21</td>\n",
       "      <td>25</td>\n",
       "      <td>29</td>\n",
       "    </tr>\n",
       "    <tr>\n",
       "      <th>2</th>\n",
       "      <td>25</td>\n",
       "      <td>29</td>\n",
       "      <td>33</td>\n",
       "      <td>37</td>\n",
       "    </tr>\n",
       "    <tr>\n",
       "      <th>3</th>\n",
       "      <td>52</td>\n",
       "      <td>56</td>\n",
       "      <td>60</td>\n",
       "      <td>64</td>\n",
       "    </tr>\n",
       "    <tr>\n",
       "      <th>4</th>\n",
       "      <td>52</td>\n",
       "      <td>56</td>\n",
       "      <td>60</td>\n",
       "      <td>64</td>\n",
       "    </tr>\n",
       "  </tbody>\n",
       "</table>\n",
       "</div>"
      ],
      "text/plain": [
       "  time_point_0 time_point_4 time_point_8 time_point_12\n",
       "0           20           24           28            32\n",
       "1           17           21           25            29\n",
       "2           25           29           33            37\n",
       "3           52           56           60            64\n",
       "4           52           56           60            64"
      ]
     },
     "execution_count": 125,
     "metadata": {},
     "output_type": "execute_result"
    }
   ],
   "source": [
    "tdp.head()"
   ]
  },
  {
   "cell_type": "code",
   "execution_count": 136,
   "metadata": {
    "collapsed": false
   },
   "outputs": [
    {
     "data": {
      "text/plain": [
       "(array([ 0.25539073,  0.27668956,  0.29798838,  0.31928721]),\n",
       " 0.27452802672099785)"
      ]
     },
     "execution_count": 136,
     "metadata": {},
     "output_type": "execute_result"
    }
   ],
   "source": [
    "line(extra_x,popt[0],popt[1]), cf.baseline_cumulative_hazard_.ix[52].values[0]"
   ]
  },
  {
   "cell_type": "code",
   "execution_count": 144,
   "metadata": {
    "collapsed": false
   },
   "outputs": [
    {
     "data": {
      "text/plain": [
       "52.0"
      ]
     },
     "execution_count": 144,
     "metadata": {},
     "output_type": "execute_result"
    }
   ],
   "source": [
    "cf.baseline_cumulative_hazard_.index[-1]"
   ]
  },
  {
   "cell_type": "code",
   "execution_count": 145,
   "metadata": {
    "collapsed": false
   },
   "outputs": [],
   "source": [
    "offset =  cf.baseline_cumulative_hazard_.ix[52].values[0] -line(cf.baseline_cumulative_hazard_.index[-1],popt[0],popt[1])"
   ]
  },
  {
   "cell_type": "code",
   "execution_count": 147,
   "metadata": {
    "collapsed": false
   },
   "outputs": [
    {
     "data": {
      "text/plain": [
       "(array([ 0.27452803,  0.29582685,  0.31712568,  0.3384245 ]),\n",
       " 0.27452802672099785)"
      ]
     },
     "execution_count": 147,
     "metadata": {},
     "output_type": "execute_result"
    }
   ],
   "source": [
    "offset+line(extra_x,popt[0],popt[1]), cf.baseline_cumulative_hazard_.ix[52].values[0] "
   ]
  },
  {
   "cell_type": "code",
   "execution_count": 148,
   "metadata": {
    "collapsed": false
   },
   "outputs": [
    {
     "data": {
      "text/plain": [
       "0.27985273290648938"
      ]
     },
     "execution_count": 148,
     "metadata": {},
     "output_type": "execute_result"
    }
   ],
   "source": [
    "offset+line(53,popt[0],popt[1])"
   ]
  },
  {
   "cell_type": "code",
   "execution_count": 166,
   "metadata": {
    "collapsed": false
   },
   "outputs": [
    {
     "data": {
      "text/plain": [
       "array([ 0.27452803])"
      ]
     },
     "execution_count": 166,
     "metadata": {},
     "output_type": "execute_result"
    }
   ],
   "source": [
    "cf.baseline_cumulative_hazard_.values[-1]"
   ]
  },
  {
   "cell_type": "code",
   "execution_count": 167,
   "metadata": {
    "collapsed": false
   },
   "outputs": [],
   "source": [
    "from scipy import interpolate\n",
    "from scipy.optimize import curve_fit\n",
    "\n",
    "def line(x,a,b):\n",
    "    return a*x + b\n",
    "\n",
    "def linear_baseline_fit(mdl,line):\n",
    "    phaz,phazcov = curve_fit(line, mdl.baseline_cumulative_hazard_.index, mdl.baseline_cumulative_hazard_.values.ravel())\n",
    "    return phaz,phazcov\n",
    "\n",
    "phaz, phazcov = linear_baseline_fit(cf,line)\n",
    "\n",
    "\n",
    "offset = cf.baseline_cumulative_hazard_.values[-1][0] - line(cf.baseline_cumulative_hazard_.index[-1],phaz[0],phaz[1])\n",
    "\n",
    "def return_desired_cumulative_hazards(mdl,t):\n",
    "    \"\"\"\n",
    "        t: an event time that is used as the base line to forecast forward in time\n",
    "    \"\"\"\n",
    "    \n",
    "    maxtimepoint = mdl.baseline_hazard_.index.max() #Now taken care of in the forecast\n",
    "    if t > maxtimepoint:\n",
    "        #if extrapolate is None:\n",
    "        t = maxtimepoint # just set to the max value.\n",
    " \n",
    "        \n",
    "    try:\n",
    "            # spec_hazard = self.baseline_hazard_.ix[t].values\n",
    "        c_haz = mdl.baseline_cumulative_hazard_.ix[t].values[0]\n",
    "\n",
    "    except KeyError:\n",
    "        # get the first after this point\n",
    "        t_post = mdl.baseline_hazard_.ix[t:].index[0]\n",
    "        # get the last before this point\n",
    "        t_prior = mdl.baseline_hazard_.ix[:t].index[-1]            # x = [t_prior, t_post]\n",
    "        #\n",
    "        y = [mdl.baseline_cumulative_hazard_.ix[t_prior].values[0],\n",
    "                 mdl.baseline_cumulative_hazard_.ix[t_post].values[0]]\n",
    "        print(t,y)\n",
    "        chaz_interp = interpolate.interp1d([t_prior, t_post], y)\n",
    "        c_haz = chaz_interp(t)\n",
    "    #except IndexError:\n",
    "        \n",
    "\n",
    "    return c_haz"
   ]
  },
  {
   "cell_type": "code",
   "execution_count": 168,
   "metadata": {
    "collapsed": false
   },
   "outputs": [
    {
     "data": {
      "text/plain": [
       "0.27452802672099785"
      ]
     },
     "execution_count": 168,
     "metadata": {},
     "output_type": "execute_result"
    }
   ],
   "source": [
    "line(52,popt[0],popt[1])+offset"
   ]
  },
  {
   "cell_type": "code",
   "execution_count": 169,
   "metadata": {
    "collapsed": false
   },
   "outputs": [
    {
     "name": "stdout",
     "output_type": "stream",
     "text": [
      "(29L, [0.12549086652342845, 0.13029912823891177])\n",
      "(41L, [0.19362895495950963, 0.19896088704932005])\n",
      "(29L, [0.12549086652342845, 0.13029912823891177])\n",
      "(41L, [0.19362895495950963, 0.19896088704932005])\n",
      "(29L, [0.12549086652342845, 0.13029912823891177])\n",
      "(41L, [0.19362895495950963, 0.19896088704932005])\n",
      "(51L, [0.26283728329113454, 0.27452802672099785])\n",
      "(41L, [0.19362895495950963, 0.19896088704932005])\n",
      "(51L, [0.26283728329113454, 0.27452802672099785])\n",
      "(29L, [0.12549086652342845, 0.13029912823891177])\n",
      "(41L, [0.19362895495950963, 0.19896088704932005])\n",
      "(51L, [0.26283728329113454, 0.27452802672099785])\n",
      "(29L, [0.12549086652342845, 0.13029912823891177])\n",
      "(51L, [0.26283728329113454, 0.27452802672099785])\n",
      "(41L, [0.19362895495950963, 0.19896088704932005])\n",
      "(51L, [0.26283728329113454, 0.27452802672099785])\n",
      "(29L, [0.12549086652342845, 0.13029912823891177])\n",
      "(29L, [0.12549086652342845, 0.13029912823891177])\n",
      "(29L, [0.12549086652342845, 0.13029912823891177])\n",
      "(51L, [0.26283728329113454, 0.27452802672099785])\n",
      "(51L, [0.26283728329113454, 0.27452802672099785])\n"
     ]
    },
    {
     "data": {
      "text/html": [
       "<div>\n",
       "<table border=\"1\" class=\"dataframe\">\n",
       "  <thead>\n",
       "    <tr style=\"text-align: right;\">\n",
       "      <th></th>\n",
       "      <th>time_point_0</th>\n",
       "      <th>time_point_4</th>\n",
       "      <th>time_point_8</th>\n",
       "      <th>time_point_12</th>\n",
       "    </tr>\n",
       "  </thead>\n",
       "  <tbody>\n",
       "    <tr>\n",
       "      <th>0</th>\n",
       "      <td>0.083833</td>\n",
       "      <td>0.102032</td>\n",
       "      <td>0.125491</td>\n",
       "      <td>0.137584</td>\n",
       "    </tr>\n",
       "    <tr>\n",
       "      <th>1</th>\n",
       "      <td>0.061652</td>\n",
       "      <td>0.088349</td>\n",
       "      <td>0.108938</td>\n",
       "      <td>0.127895</td>\n",
       "    </tr>\n",
       "    <tr>\n",
       "      <th>2</th>\n",
       "      <td>0.108938</td>\n",
       "      <td>0.127895</td>\n",
       "      <td>0.142484</td>\n",
       "      <td>0.175338</td>\n",
       "    </tr>\n",
       "    <tr>\n",
       "      <th>3</th>\n",
       "      <td>0.274528</td>\n",
       "      <td>0.295827</td>\n",
       "      <td>0.317126</td>\n",
       "      <td>0.338425</td>\n",
       "    </tr>\n",
       "    <tr>\n",
       "      <th>4</th>\n",
       "      <td>0.274528</td>\n",
       "      <td>0.295827</td>\n",
       "      <td>0.317126</td>\n",
       "      <td>0.338425</td>\n",
       "    </tr>\n",
       "    <tr>\n",
       "      <th>5</th>\n",
       "      <td>0.274528</td>\n",
       "      <td>0.295827</td>\n",
       "      <td>0.317126</td>\n",
       "      <td>0.338425</td>\n",
       "    </tr>\n",
       "    <tr>\n",
       "      <th>6</th>\n",
       "      <td>0.092898</td>\n",
       "      <td>0.120730</td>\n",
       "      <td>0.132720</td>\n",
       "      <td>0.157477</td>\n",
       "    </tr>\n",
       "    <tr>\n",
       "      <th>7</th>\n",
       "      <td>0.274528</td>\n",
       "      <td>0.295827</td>\n",
       "      <td>0.317126</td>\n",
       "      <td>0.338425</td>\n",
       "    </tr>\n",
       "    <tr>\n",
       "      <th>8</th>\n",
       "      <td>0.274528</td>\n",
       "      <td>0.295827</td>\n",
       "      <td>0.317126</td>\n",
       "      <td>0.338425</td>\n",
       "    </tr>\n",
       "    <tr>\n",
       "      <th>9</th>\n",
       "      <td>0.274528</td>\n",
       "      <td>0.295827</td>\n",
       "      <td>0.317126</td>\n",
       "      <td>0.338425</td>\n",
       "    </tr>\n",
       "    <tr>\n",
       "      <th>10</th>\n",
       "      <td>0.274528</td>\n",
       "      <td>0.295827</td>\n",
       "      <td>0.317126</td>\n",
       "      <td>0.338425</td>\n",
       "    </tr>\n",
       "    <tr>\n",
       "      <th>11</th>\n",
       "      <td>0.274528</td>\n",
       "      <td>0.295827</td>\n",
       "      <td>0.317126</td>\n",
       "      <td>0.338425</td>\n",
       "    </tr>\n",
       "    <tr>\n",
       "      <th>12</th>\n",
       "      <td>0.175338</td>\n",
       "      <td>0.196295</td>\n",
       "      <td>0.220560</td>\n",
       "      <td>0.254210</td>\n",
       "    </tr>\n",
       "    <tr>\n",
       "      <th>13</th>\n",
       "      <td>0.274528</td>\n",
       "      <td>0.295827</td>\n",
       "      <td>0.317126</td>\n",
       "      <td>0.338425</td>\n",
       "    </tr>\n",
       "    <tr>\n",
       "      <th>14</th>\n",
       "      <td>0.108938</td>\n",
       "      <td>0.127895</td>\n",
       "      <td>0.142484</td>\n",
       "      <td>0.175338</td>\n",
       "    </tr>\n",
       "    <tr>\n",
       "      <th>15</th>\n",
       "      <td>0.231621</td>\n",
       "      <td>0.262837</td>\n",
       "      <td>0.285177</td>\n",
       "      <td>0.306476</td>\n",
       "    </tr>\n",
       "    <tr>\n",
       "      <th>16</th>\n",
       "      <td>0.125491</td>\n",
       "      <td>0.137584</td>\n",
       "      <td>0.165089</td>\n",
       "      <td>0.193629</td>\n",
       "    </tr>\n",
       "    <tr>\n",
       "      <th>17</th>\n",
       "      <td>0.274528</td>\n",
       "      <td>0.295827</td>\n",
       "      <td>0.317126</td>\n",
       "      <td>0.338425</td>\n",
       "    </tr>\n",
       "    <tr>\n",
       "      <th>18</th>\n",
       "      <td>0.274528</td>\n",
       "      <td>0.295827</td>\n",
       "      <td>0.317126</td>\n",
       "      <td>0.338425</td>\n",
       "    </tr>\n",
       "    <tr>\n",
       "      <th>19</th>\n",
       "      <td>0.274528</td>\n",
       "      <td>0.295827</td>\n",
       "      <td>0.317126</td>\n",
       "      <td>0.338425</td>\n",
       "    </tr>\n",
       "    <tr>\n",
       "      <th>20</th>\n",
       "      <td>0.274528</td>\n",
       "      <td>0.295827</td>\n",
       "      <td>0.317126</td>\n",
       "      <td>0.338425</td>\n",
       "    </tr>\n",
       "    <tr>\n",
       "      <th>21</th>\n",
       "      <td>0.274528</td>\n",
       "      <td>0.295827</td>\n",
       "      <td>0.317126</td>\n",
       "      <td>0.338425</td>\n",
       "    </tr>\n",
       "    <tr>\n",
       "      <th>22</th>\n",
       "      <td>0.102032</td>\n",
       "      <td>0.125491</td>\n",
       "      <td>0.137584</td>\n",
       "      <td>0.165089</td>\n",
       "    </tr>\n",
       "    <tr>\n",
       "      <th>23</th>\n",
       "      <td>0.274528</td>\n",
       "      <td>0.295827</td>\n",
       "      <td>0.317126</td>\n",
       "      <td>0.338425</td>\n",
       "    </tr>\n",
       "    <tr>\n",
       "      <th>24</th>\n",
       "      <td>0.274528</td>\n",
       "      <td>0.295827</td>\n",
       "      <td>0.317126</td>\n",
       "      <td>0.338425</td>\n",
       "    </tr>\n",
       "    <tr>\n",
       "      <th>25</th>\n",
       "      <td>0.274528</td>\n",
       "      <td>0.295827</td>\n",
       "      <td>0.317126</td>\n",
       "      <td>0.338425</td>\n",
       "    </tr>\n",
       "    <tr>\n",
       "      <th>26</th>\n",
       "      <td>0.274528</td>\n",
       "      <td>0.295827</td>\n",
       "      <td>0.317126</td>\n",
       "      <td>0.338425</td>\n",
       "    </tr>\n",
       "    <tr>\n",
       "      <th>27</th>\n",
       "      <td>0.274528</td>\n",
       "      <td>0.295827</td>\n",
       "      <td>0.317126</td>\n",
       "      <td>0.338425</td>\n",
       "    </tr>\n",
       "    <tr>\n",
       "      <th>28</th>\n",
       "      <td>0.274528</td>\n",
       "      <td>0.295827</td>\n",
       "      <td>0.317126</td>\n",
       "      <td>0.338425</td>\n",
       "    </tr>\n",
       "    <tr>\n",
       "      <th>29</th>\n",
       "      <td>0.274528</td>\n",
       "      <td>0.295827</td>\n",
       "      <td>0.317126</td>\n",
       "      <td>0.338425</td>\n",
       "    </tr>\n",
       "    <tr>\n",
       "      <th>...</th>\n",
       "      <td>...</td>\n",
       "      <td>...</td>\n",
       "      <td>...</td>\n",
       "      <td>...</td>\n",
       "    </tr>\n",
       "    <tr>\n",
       "      <th>402</th>\n",
       "      <td>0.274528</td>\n",
       "      <td>0.295827</td>\n",
       "      <td>0.317126</td>\n",
       "      <td>0.338425</td>\n",
       "    </tr>\n",
       "    <tr>\n",
       "      <th>403</th>\n",
       "      <td>0.274528</td>\n",
       "      <td>0.295827</td>\n",
       "      <td>0.317126</td>\n",
       "      <td>0.338425</td>\n",
       "    </tr>\n",
       "    <tr>\n",
       "      <th>404</th>\n",
       "      <td>0.274528</td>\n",
       "      <td>0.295827</td>\n",
       "      <td>0.317126</td>\n",
       "      <td>0.338425</td>\n",
       "    </tr>\n",
       "    <tr>\n",
       "      <th>405</th>\n",
       "      <td>0.157477</td>\n",
       "      <td>0.183150</td>\n",
       "      <td>0.209662</td>\n",
       "      <td>0.234416</td>\n",
       "    </tr>\n",
       "    <tr>\n",
       "      <th>406</th>\n",
       "      <td>0.274528</td>\n",
       "      <td>0.295827</td>\n",
       "      <td>0.317126</td>\n",
       "      <td>0.338425</td>\n",
       "    </tr>\n",
       "    <tr>\n",
       "      <th>407</th>\n",
       "      <td>0.274528</td>\n",
       "      <td>0.295827</td>\n",
       "      <td>0.317126</td>\n",
       "      <td>0.338425</td>\n",
       "    </tr>\n",
       "    <tr>\n",
       "      <th>408</th>\n",
       "      <td>0.274528</td>\n",
       "      <td>0.295827</td>\n",
       "      <td>0.317126</td>\n",
       "      <td>0.338425</td>\n",
       "    </tr>\n",
       "    <tr>\n",
       "      <th>409</th>\n",
       "      <td>0.274528</td>\n",
       "      <td>0.295827</td>\n",
       "      <td>0.317126</td>\n",
       "      <td>0.338425</td>\n",
       "    </tr>\n",
       "    <tr>\n",
       "      <th>410</th>\n",
       "      <td>0.120730</td>\n",
       "      <td>0.132720</td>\n",
       "      <td>0.157477</td>\n",
       "      <td>0.183150</td>\n",
       "    </tr>\n",
       "    <tr>\n",
       "      <th>411</th>\n",
       "      <td>0.274528</td>\n",
       "      <td>0.295827</td>\n",
       "      <td>0.317126</td>\n",
       "      <td>0.338425</td>\n",
       "    </tr>\n",
       "    <tr>\n",
       "      <th>412</th>\n",
       "      <td>0.274528</td>\n",
       "      <td>0.295827</td>\n",
       "      <td>0.317126</td>\n",
       "      <td>0.338425</td>\n",
       "    </tr>\n",
       "    <tr>\n",
       "      <th>413</th>\n",
       "      <td>0.274528</td>\n",
       "      <td>0.295827</td>\n",
       "      <td>0.317126</td>\n",
       "      <td>0.338425</td>\n",
       "    </tr>\n",
       "    <tr>\n",
       "      <th>414</th>\n",
       "      <td>0.274528</td>\n",
       "      <td>0.295827</td>\n",
       "      <td>0.317126</td>\n",
       "      <td>0.338425</td>\n",
       "    </tr>\n",
       "    <tr>\n",
       "      <th>415</th>\n",
       "      <td>0.220560</td>\n",
       "      <td>0.254210</td>\n",
       "      <td>0.279853</td>\n",
       "      <td>0.301152</td>\n",
       "    </tr>\n",
       "    <tr>\n",
       "      <th>416</th>\n",
       "      <td>0.007863</td>\n",
       "      <td>0.023819</td>\n",
       "      <td>0.038202</td>\n",
       "      <td>0.055188</td>\n",
       "    </tr>\n",
       "    <tr>\n",
       "      <th>417</th>\n",
       "      <td>0.274528</td>\n",
       "      <td>0.295827</td>\n",
       "      <td>0.317126</td>\n",
       "      <td>0.338425</td>\n",
       "    </tr>\n",
       "    <tr>\n",
       "      <th>418</th>\n",
       "      <td>0.165089</td>\n",
       "      <td>0.193629</td>\n",
       "      <td>0.215091</td>\n",
       "      <td>0.240031</td>\n",
       "    </tr>\n",
       "    <tr>\n",
       "      <th>419</th>\n",
       "      <td>0.274528</td>\n",
       "      <td>0.295827</td>\n",
       "      <td>0.317126</td>\n",
       "      <td>0.338425</td>\n",
       "    </tr>\n",
       "    <tr>\n",
       "      <th>420</th>\n",
       "      <td>0.274528</td>\n",
       "      <td>0.295827</td>\n",
       "      <td>0.317126</td>\n",
       "      <td>0.338425</td>\n",
       "    </tr>\n",
       "    <tr>\n",
       "      <th>421</th>\n",
       "      <td>0.023819</td>\n",
       "      <td>0.038202</td>\n",
       "      <td>0.055188</td>\n",
       "      <td>0.083833</td>\n",
       "    </tr>\n",
       "    <tr>\n",
       "      <th>422</th>\n",
       "      <td>0.050894</td>\n",
       "      <td>0.072665</td>\n",
       "      <td>0.092898</td>\n",
       "      <td>0.120730</td>\n",
       "    </tr>\n",
       "    <tr>\n",
       "      <th>423</th>\n",
       "      <td>0.274528</td>\n",
       "      <td>0.295827</td>\n",
       "      <td>0.317126</td>\n",
       "      <td>0.338425</td>\n",
       "    </tr>\n",
       "    <tr>\n",
       "      <th>424</th>\n",
       "      <td>0.072665</td>\n",
       "      <td>0.092898</td>\n",
       "      <td>0.120730</td>\n",
       "      <td>0.132720</td>\n",
       "    </tr>\n",
       "    <tr>\n",
       "      <th>425</th>\n",
       "      <td>0.274528</td>\n",
       "      <td>0.295827</td>\n",
       "      <td>0.317126</td>\n",
       "      <td>0.338425</td>\n",
       "    </tr>\n",
       "    <tr>\n",
       "      <th>426</th>\n",
       "      <td>0.038202</td>\n",
       "      <td>0.055188</td>\n",
       "      <td>0.083833</td>\n",
       "      <td>0.102032</td>\n",
       "    </tr>\n",
       "    <tr>\n",
       "      <th>427</th>\n",
       "      <td>0.274528</td>\n",
       "      <td>0.295827</td>\n",
       "      <td>0.317126</td>\n",
       "      <td>0.338425</td>\n",
       "    </tr>\n",
       "    <tr>\n",
       "      <th>428</th>\n",
       "      <td>0.274528</td>\n",
       "      <td>0.295827</td>\n",
       "      <td>0.317126</td>\n",
       "      <td>0.338425</td>\n",
       "    </tr>\n",
       "    <tr>\n",
       "      <th>429</th>\n",
       "      <td>0.274528</td>\n",
       "      <td>0.295827</td>\n",
       "      <td>0.317126</td>\n",
       "      <td>0.338425</td>\n",
       "    </tr>\n",
       "    <tr>\n",
       "      <th>430</th>\n",
       "      <td>0.274528</td>\n",
       "      <td>0.295827</td>\n",
       "      <td>0.317126</td>\n",
       "      <td>0.338425</td>\n",
       "    </tr>\n",
       "    <tr>\n",
       "      <th>431</th>\n",
       "      <td>0.274528</td>\n",
       "      <td>0.295827</td>\n",
       "      <td>0.317126</td>\n",
       "      <td>0.338425</td>\n",
       "    </tr>\n",
       "  </tbody>\n",
       "</table>\n",
       "<p>432 rows × 4 columns</p>\n",
       "</div>"
      ],
      "text/plain": [
       "     time_point_0  time_point_4  time_point_8  time_point_12\n",
       "0        0.083833      0.102032      0.125491       0.137584\n",
       "1        0.061652      0.088349      0.108938       0.127895\n",
       "2        0.108938      0.127895      0.142484       0.175338\n",
       "3        0.274528      0.295827      0.317126       0.338425\n",
       "4        0.274528      0.295827      0.317126       0.338425\n",
       "5        0.274528      0.295827      0.317126       0.338425\n",
       "6        0.092898      0.120730      0.132720       0.157477\n",
       "7        0.274528      0.295827      0.317126       0.338425\n",
       "8        0.274528      0.295827      0.317126       0.338425\n",
       "9        0.274528      0.295827      0.317126       0.338425\n",
       "10       0.274528      0.295827      0.317126       0.338425\n",
       "11       0.274528      0.295827      0.317126       0.338425\n",
       "12       0.175338      0.196295      0.220560       0.254210\n",
       "13       0.274528      0.295827      0.317126       0.338425\n",
       "14       0.108938      0.127895      0.142484       0.175338\n",
       "15       0.231621      0.262837      0.285177       0.306476\n",
       "16       0.125491      0.137584      0.165089       0.193629\n",
       "17       0.274528      0.295827      0.317126       0.338425\n",
       "18       0.274528      0.295827      0.317126       0.338425\n",
       "19       0.274528      0.295827      0.317126       0.338425\n",
       "20       0.274528      0.295827      0.317126       0.338425\n",
       "21       0.274528      0.295827      0.317126       0.338425\n",
       "22       0.102032      0.125491      0.137584       0.165089\n",
       "23       0.274528      0.295827      0.317126       0.338425\n",
       "24       0.274528      0.295827      0.317126       0.338425\n",
       "25       0.274528      0.295827      0.317126       0.338425\n",
       "26       0.274528      0.295827      0.317126       0.338425\n",
       "27       0.274528      0.295827      0.317126       0.338425\n",
       "28       0.274528      0.295827      0.317126       0.338425\n",
       "29       0.274528      0.295827      0.317126       0.338425\n",
       "..            ...           ...           ...            ...\n",
       "402      0.274528      0.295827      0.317126       0.338425\n",
       "403      0.274528      0.295827      0.317126       0.338425\n",
       "404      0.274528      0.295827      0.317126       0.338425\n",
       "405      0.157477      0.183150      0.209662       0.234416\n",
       "406      0.274528      0.295827      0.317126       0.338425\n",
       "407      0.274528      0.295827      0.317126       0.338425\n",
       "408      0.274528      0.295827      0.317126       0.338425\n",
       "409      0.274528      0.295827      0.317126       0.338425\n",
       "410      0.120730      0.132720      0.157477       0.183150\n",
       "411      0.274528      0.295827      0.317126       0.338425\n",
       "412      0.274528      0.295827      0.317126       0.338425\n",
       "413      0.274528      0.295827      0.317126       0.338425\n",
       "414      0.274528      0.295827      0.317126       0.338425\n",
       "415      0.220560      0.254210      0.279853       0.301152\n",
       "416      0.007863      0.023819      0.038202       0.055188\n",
       "417      0.274528      0.295827      0.317126       0.338425\n",
       "418      0.165089      0.193629      0.215091       0.240031\n",
       "419      0.274528      0.295827      0.317126       0.338425\n",
       "420      0.274528      0.295827      0.317126       0.338425\n",
       "421      0.023819      0.038202      0.055188       0.083833\n",
       "422      0.050894      0.072665      0.092898       0.120730\n",
       "423      0.274528      0.295827      0.317126       0.338425\n",
       "424      0.072665      0.092898      0.120730       0.132720\n",
       "425      0.274528      0.295827      0.317126       0.338425\n",
       "426      0.038202      0.055188      0.083833       0.102032\n",
       "427      0.274528      0.295827      0.317126       0.338425\n",
       "428      0.274528      0.295827      0.317126       0.338425\n",
       "429      0.274528      0.295827      0.317126       0.338425\n",
       "430      0.274528      0.295827      0.317126       0.338425\n",
       "431      0.274528      0.295827      0.317126       0.338425\n",
       "\n",
       "[432 rows x 4 columns]"
      ]
     },
     "execution_count": 169,
     "metadata": {},
     "output_type": "execute_result"
    }
   ],
   "source": [
    "tdp.applymap(lambda x: return_desired_cumulative_hazards(cf,x) if x < cf.baseline_hazard_.index.max() else offset+line(x,popt[0],popt[1]))"
   ]
  },
  {
   "cell_type": "code",
   "execution_count": 170,
   "metadata": {
    "collapsed": false
   },
   "outputs": [
    {
     "name": "stdout",
     "output_type": "stream",
     "text": [
      "(29L, [0.12549086652342845, 0.13029912823891177])\n",
      "(41L, [0.19362895495950963, 0.19896088704932005])\n",
      "(29L, [0.12549086652342845, 0.13029912823891177])\n",
      "(41L, [0.19362895495950963, 0.19896088704932005])\n",
      "(29L, [0.12549086652342845, 0.13029912823891177])\n",
      "(41L, [0.19362895495950963, 0.19896088704932005])\n",
      "(51L, [0.26283728329113454, 0.27452802672099785])\n",
      "(41L, [0.19362895495950963, 0.19896088704932005])\n",
      "(51L, [0.26283728329113454, 0.27452802672099785])\n",
      "(29L, [0.12549086652342845, 0.13029912823891177])\n",
      "(41L, [0.19362895495950963, 0.19896088704932005])\n",
      "(51L, [0.26283728329113454, 0.27452802672099785])\n",
      "(29L, [0.12549086652342845, 0.13029912823891177])\n",
      "(51L, [0.26283728329113454, 0.27452802672099785])\n",
      "(41L, [0.19362895495950963, 0.19896088704932005])\n",
      "(51L, [0.26283728329113454, 0.27452802672099785])\n",
      "(29L, [0.12549086652342845, 0.13029912823891177])\n",
      "(29L, [0.12549086652342845, 0.13029912823891177])\n",
      "(29L, [0.12549086652342845, 0.13029912823891177])\n",
      "(51L, [0.26283728329113454, 0.27452802672099785])\n",
      "(51L, [0.26283728329113454, 0.27452802672099785])\n"
     ]
    }
   ],
   "source": [
    "t2 = tdp.applymap(lambda x: return_desired_cumulative_hazards(cf,x) ) if x <= cf.baseline_hazard_.index.max() else offset+line(x,popt[0],popt[1]))"
   ]
  },
  {
   "cell_type": "code",
   "execution_count": 171,
   "metadata": {
    "collapsed": false
   },
   "outputs": [
    {
     "data": {
      "text/html": [
       "<div>\n",
       "<table border=\"1\" class=\"dataframe\">\n",
       "  <thead>\n",
       "    <tr style=\"text-align: right;\">\n",
       "      <th></th>\n",
       "      <th>time_point_0</th>\n",
       "      <th>time_point_4</th>\n",
       "      <th>time_point_8</th>\n",
       "      <th>time_point_12</th>\n",
       "    </tr>\n",
       "  </thead>\n",
       "  <tbody>\n",
       "    <tr>\n",
       "      <th>0</th>\n",
       "      <td>0.083833</td>\n",
       "      <td>0.102032</td>\n",
       "      <td>0.125491</td>\n",
       "      <td>0.137584</td>\n",
       "    </tr>\n",
       "    <tr>\n",
       "      <th>1</th>\n",
       "      <td>0.061652</td>\n",
       "      <td>0.088349</td>\n",
       "      <td>0.108938</td>\n",
       "      <td>0.127895</td>\n",
       "    </tr>\n",
       "    <tr>\n",
       "      <th>2</th>\n",
       "      <td>0.108938</td>\n",
       "      <td>0.127895</td>\n",
       "      <td>0.142484</td>\n",
       "      <td>0.175338</td>\n",
       "    </tr>\n",
       "    <tr>\n",
       "      <th>3</th>\n",
       "      <td>0.274528</td>\n",
       "      <td>0.274528</td>\n",
       "      <td>0.274528</td>\n",
       "      <td>0.274528</td>\n",
       "    </tr>\n",
       "    <tr>\n",
       "      <th>4</th>\n",
       "      <td>0.274528</td>\n",
       "      <td>0.274528</td>\n",
       "      <td>0.274528</td>\n",
       "      <td>0.274528</td>\n",
       "    </tr>\n",
       "    <tr>\n",
       "      <th>5</th>\n",
       "      <td>0.274528</td>\n",
       "      <td>0.274528</td>\n",
       "      <td>0.274528</td>\n",
       "      <td>0.274528</td>\n",
       "    </tr>\n",
       "    <tr>\n",
       "      <th>6</th>\n",
       "      <td>0.092898</td>\n",
       "      <td>0.120730</td>\n",
       "      <td>0.132720</td>\n",
       "      <td>0.157477</td>\n",
       "    </tr>\n",
       "    <tr>\n",
       "      <th>7</th>\n",
       "      <td>0.274528</td>\n",
       "      <td>0.274528</td>\n",
       "      <td>0.274528</td>\n",
       "      <td>0.274528</td>\n",
       "    </tr>\n",
       "    <tr>\n",
       "      <th>8</th>\n",
       "      <td>0.274528</td>\n",
       "      <td>0.274528</td>\n",
       "      <td>0.274528</td>\n",
       "      <td>0.274528</td>\n",
       "    </tr>\n",
       "    <tr>\n",
       "      <th>9</th>\n",
       "      <td>0.274528</td>\n",
       "      <td>0.274528</td>\n",
       "      <td>0.274528</td>\n",
       "      <td>0.274528</td>\n",
       "    </tr>\n",
       "    <tr>\n",
       "      <th>10</th>\n",
       "      <td>0.274528</td>\n",
       "      <td>0.274528</td>\n",
       "      <td>0.274528</td>\n",
       "      <td>0.274528</td>\n",
       "    </tr>\n",
       "    <tr>\n",
       "      <th>11</th>\n",
       "      <td>0.274528</td>\n",
       "      <td>0.274528</td>\n",
       "      <td>0.274528</td>\n",
       "      <td>0.274528</td>\n",
       "    </tr>\n",
       "    <tr>\n",
       "      <th>12</th>\n",
       "      <td>0.175338</td>\n",
       "      <td>0.196295</td>\n",
       "      <td>0.220560</td>\n",
       "      <td>0.254210</td>\n",
       "    </tr>\n",
       "    <tr>\n",
       "      <th>13</th>\n",
       "      <td>0.274528</td>\n",
       "      <td>0.274528</td>\n",
       "      <td>0.274528</td>\n",
       "      <td>0.274528</td>\n",
       "    </tr>\n",
       "    <tr>\n",
       "      <th>14</th>\n",
       "      <td>0.108938</td>\n",
       "      <td>0.127895</td>\n",
       "      <td>0.142484</td>\n",
       "      <td>0.175338</td>\n",
       "    </tr>\n",
       "    <tr>\n",
       "      <th>15</th>\n",
       "      <td>0.231621</td>\n",
       "      <td>0.262837</td>\n",
       "      <td>0.274528</td>\n",
       "      <td>0.274528</td>\n",
       "    </tr>\n",
       "    <tr>\n",
       "      <th>16</th>\n",
       "      <td>0.125491</td>\n",
       "      <td>0.137584</td>\n",
       "      <td>0.165089</td>\n",
       "      <td>0.193629</td>\n",
       "    </tr>\n",
       "    <tr>\n",
       "      <th>17</th>\n",
       "      <td>0.274528</td>\n",
       "      <td>0.274528</td>\n",
       "      <td>0.274528</td>\n",
       "      <td>0.274528</td>\n",
       "    </tr>\n",
       "    <tr>\n",
       "      <th>18</th>\n",
       "      <td>0.274528</td>\n",
       "      <td>0.274528</td>\n",
       "      <td>0.274528</td>\n",
       "      <td>0.274528</td>\n",
       "    </tr>\n",
       "    <tr>\n",
       "      <th>19</th>\n",
       "      <td>0.274528</td>\n",
       "      <td>0.274528</td>\n",
       "      <td>0.274528</td>\n",
       "      <td>0.274528</td>\n",
       "    </tr>\n",
       "    <tr>\n",
       "      <th>20</th>\n",
       "      <td>0.274528</td>\n",
       "      <td>0.274528</td>\n",
       "      <td>0.274528</td>\n",
       "      <td>0.274528</td>\n",
       "    </tr>\n",
       "    <tr>\n",
       "      <th>21</th>\n",
       "      <td>0.274528</td>\n",
       "      <td>0.274528</td>\n",
       "      <td>0.274528</td>\n",
       "      <td>0.274528</td>\n",
       "    </tr>\n",
       "    <tr>\n",
       "      <th>22</th>\n",
       "      <td>0.102032</td>\n",
       "      <td>0.125491</td>\n",
       "      <td>0.137584</td>\n",
       "      <td>0.165089</td>\n",
       "    </tr>\n",
       "    <tr>\n",
       "      <th>23</th>\n",
       "      <td>0.274528</td>\n",
       "      <td>0.274528</td>\n",
       "      <td>0.274528</td>\n",
       "      <td>0.274528</td>\n",
       "    </tr>\n",
       "    <tr>\n",
       "      <th>24</th>\n",
       "      <td>0.274528</td>\n",
       "      <td>0.274528</td>\n",
       "      <td>0.274528</td>\n",
       "      <td>0.274528</td>\n",
       "    </tr>\n",
       "    <tr>\n",
       "      <th>25</th>\n",
       "      <td>0.274528</td>\n",
       "      <td>0.274528</td>\n",
       "      <td>0.274528</td>\n",
       "      <td>0.274528</td>\n",
       "    </tr>\n",
       "    <tr>\n",
       "      <th>26</th>\n",
       "      <td>0.274528</td>\n",
       "      <td>0.274528</td>\n",
       "      <td>0.274528</td>\n",
       "      <td>0.274528</td>\n",
       "    </tr>\n",
       "    <tr>\n",
       "      <th>27</th>\n",
       "      <td>0.274528</td>\n",
       "      <td>0.274528</td>\n",
       "      <td>0.274528</td>\n",
       "      <td>0.274528</td>\n",
       "    </tr>\n",
       "    <tr>\n",
       "      <th>28</th>\n",
       "      <td>0.274528</td>\n",
       "      <td>0.274528</td>\n",
       "      <td>0.274528</td>\n",
       "      <td>0.274528</td>\n",
       "    </tr>\n",
       "    <tr>\n",
       "      <th>29</th>\n",
       "      <td>0.274528</td>\n",
       "      <td>0.274528</td>\n",
       "      <td>0.274528</td>\n",
       "      <td>0.274528</td>\n",
       "    </tr>\n",
       "    <tr>\n",
       "      <th>...</th>\n",
       "      <td>...</td>\n",
       "      <td>...</td>\n",
       "      <td>...</td>\n",
       "      <td>...</td>\n",
       "    </tr>\n",
       "    <tr>\n",
       "      <th>402</th>\n",
       "      <td>0.274528</td>\n",
       "      <td>0.274528</td>\n",
       "      <td>0.274528</td>\n",
       "      <td>0.274528</td>\n",
       "    </tr>\n",
       "    <tr>\n",
       "      <th>403</th>\n",
       "      <td>0.274528</td>\n",
       "      <td>0.274528</td>\n",
       "      <td>0.274528</td>\n",
       "      <td>0.274528</td>\n",
       "    </tr>\n",
       "    <tr>\n",
       "      <th>404</th>\n",
       "      <td>0.274528</td>\n",
       "      <td>0.274528</td>\n",
       "      <td>0.274528</td>\n",
       "      <td>0.274528</td>\n",
       "    </tr>\n",
       "    <tr>\n",
       "      <th>405</th>\n",
       "      <td>0.157477</td>\n",
       "      <td>0.183150</td>\n",
       "      <td>0.209662</td>\n",
       "      <td>0.234416</td>\n",
       "    </tr>\n",
       "    <tr>\n",
       "      <th>406</th>\n",
       "      <td>0.274528</td>\n",
       "      <td>0.274528</td>\n",
       "      <td>0.274528</td>\n",
       "      <td>0.274528</td>\n",
       "    </tr>\n",
       "    <tr>\n",
       "      <th>407</th>\n",
       "      <td>0.274528</td>\n",
       "      <td>0.274528</td>\n",
       "      <td>0.274528</td>\n",
       "      <td>0.274528</td>\n",
       "    </tr>\n",
       "    <tr>\n",
       "      <th>408</th>\n",
       "      <td>0.274528</td>\n",
       "      <td>0.274528</td>\n",
       "      <td>0.274528</td>\n",
       "      <td>0.274528</td>\n",
       "    </tr>\n",
       "    <tr>\n",
       "      <th>409</th>\n",
       "      <td>0.274528</td>\n",
       "      <td>0.274528</td>\n",
       "      <td>0.274528</td>\n",
       "      <td>0.274528</td>\n",
       "    </tr>\n",
       "    <tr>\n",
       "      <th>410</th>\n",
       "      <td>0.120730</td>\n",
       "      <td>0.132720</td>\n",
       "      <td>0.157477</td>\n",
       "      <td>0.183150</td>\n",
       "    </tr>\n",
       "    <tr>\n",
       "      <th>411</th>\n",
       "      <td>0.274528</td>\n",
       "      <td>0.274528</td>\n",
       "      <td>0.274528</td>\n",
       "      <td>0.274528</td>\n",
       "    </tr>\n",
       "    <tr>\n",
       "      <th>412</th>\n",
       "      <td>0.274528</td>\n",
       "      <td>0.274528</td>\n",
       "      <td>0.274528</td>\n",
       "      <td>0.274528</td>\n",
       "    </tr>\n",
       "    <tr>\n",
       "      <th>413</th>\n",
       "      <td>0.274528</td>\n",
       "      <td>0.274528</td>\n",
       "      <td>0.274528</td>\n",
       "      <td>0.274528</td>\n",
       "    </tr>\n",
       "    <tr>\n",
       "      <th>414</th>\n",
       "      <td>0.274528</td>\n",
       "      <td>0.274528</td>\n",
       "      <td>0.274528</td>\n",
       "      <td>0.274528</td>\n",
       "    </tr>\n",
       "    <tr>\n",
       "      <th>415</th>\n",
       "      <td>0.220560</td>\n",
       "      <td>0.254210</td>\n",
       "      <td>0.274528</td>\n",
       "      <td>0.274528</td>\n",
       "    </tr>\n",
       "    <tr>\n",
       "      <th>416</th>\n",
       "      <td>0.007863</td>\n",
       "      <td>0.023819</td>\n",
       "      <td>0.038202</td>\n",
       "      <td>0.055188</td>\n",
       "    </tr>\n",
       "    <tr>\n",
       "      <th>417</th>\n",
       "      <td>0.274528</td>\n",
       "      <td>0.274528</td>\n",
       "      <td>0.274528</td>\n",
       "      <td>0.274528</td>\n",
       "    </tr>\n",
       "    <tr>\n",
       "      <th>418</th>\n",
       "      <td>0.165089</td>\n",
       "      <td>0.193629</td>\n",
       "      <td>0.215091</td>\n",
       "      <td>0.240031</td>\n",
       "    </tr>\n",
       "    <tr>\n",
       "      <th>419</th>\n",
       "      <td>0.274528</td>\n",
       "      <td>0.274528</td>\n",
       "      <td>0.274528</td>\n",
       "      <td>0.274528</td>\n",
       "    </tr>\n",
       "    <tr>\n",
       "      <th>420</th>\n",
       "      <td>0.274528</td>\n",
       "      <td>0.274528</td>\n",
       "      <td>0.274528</td>\n",
       "      <td>0.274528</td>\n",
       "    </tr>\n",
       "    <tr>\n",
       "      <th>421</th>\n",
       "      <td>0.023819</td>\n",
       "      <td>0.038202</td>\n",
       "      <td>0.055188</td>\n",
       "      <td>0.083833</td>\n",
       "    </tr>\n",
       "    <tr>\n",
       "      <th>422</th>\n",
       "      <td>0.050894</td>\n",
       "      <td>0.072665</td>\n",
       "      <td>0.092898</td>\n",
       "      <td>0.120730</td>\n",
       "    </tr>\n",
       "    <tr>\n",
       "      <th>423</th>\n",
       "      <td>0.274528</td>\n",
       "      <td>0.274528</td>\n",
       "      <td>0.274528</td>\n",
       "      <td>0.274528</td>\n",
       "    </tr>\n",
       "    <tr>\n",
       "      <th>424</th>\n",
       "      <td>0.072665</td>\n",
       "      <td>0.092898</td>\n",
       "      <td>0.120730</td>\n",
       "      <td>0.132720</td>\n",
       "    </tr>\n",
       "    <tr>\n",
       "      <th>425</th>\n",
       "      <td>0.274528</td>\n",
       "      <td>0.274528</td>\n",
       "      <td>0.274528</td>\n",
       "      <td>0.274528</td>\n",
       "    </tr>\n",
       "    <tr>\n",
       "      <th>426</th>\n",
       "      <td>0.038202</td>\n",
       "      <td>0.055188</td>\n",
       "      <td>0.083833</td>\n",
       "      <td>0.102032</td>\n",
       "    </tr>\n",
       "    <tr>\n",
       "      <th>427</th>\n",
       "      <td>0.274528</td>\n",
       "      <td>0.274528</td>\n",
       "      <td>0.274528</td>\n",
       "      <td>0.274528</td>\n",
       "    </tr>\n",
       "    <tr>\n",
       "      <th>428</th>\n",
       "      <td>0.274528</td>\n",
       "      <td>0.274528</td>\n",
       "      <td>0.274528</td>\n",
       "      <td>0.274528</td>\n",
       "    </tr>\n",
       "    <tr>\n",
       "      <th>429</th>\n",
       "      <td>0.274528</td>\n",
       "      <td>0.274528</td>\n",
       "      <td>0.274528</td>\n",
       "      <td>0.274528</td>\n",
       "    </tr>\n",
       "    <tr>\n",
       "      <th>430</th>\n",
       "      <td>0.274528</td>\n",
       "      <td>0.274528</td>\n",
       "      <td>0.274528</td>\n",
       "      <td>0.274528</td>\n",
       "    </tr>\n",
       "    <tr>\n",
       "      <th>431</th>\n",
       "      <td>0.274528</td>\n",
       "      <td>0.274528</td>\n",
       "      <td>0.274528</td>\n",
       "      <td>0.274528</td>\n",
       "    </tr>\n",
       "  </tbody>\n",
       "</table>\n",
       "<p>432 rows × 4 columns</p>\n",
       "</div>"
      ],
      "text/plain": [
       "     time_point_0  time_point_4  time_point_8  time_point_12\n",
       "0        0.083833      0.102032      0.125491       0.137584\n",
       "1        0.061652      0.088349      0.108938       0.127895\n",
       "2        0.108938      0.127895      0.142484       0.175338\n",
       "3        0.274528      0.274528      0.274528       0.274528\n",
       "4        0.274528      0.274528      0.274528       0.274528\n",
       "5        0.274528      0.274528      0.274528       0.274528\n",
       "6        0.092898      0.120730      0.132720       0.157477\n",
       "7        0.274528      0.274528      0.274528       0.274528\n",
       "8        0.274528      0.274528      0.274528       0.274528\n",
       "9        0.274528      0.274528      0.274528       0.274528\n",
       "10       0.274528      0.274528      0.274528       0.274528\n",
       "11       0.274528      0.274528      0.274528       0.274528\n",
       "12       0.175338      0.196295      0.220560       0.254210\n",
       "13       0.274528      0.274528      0.274528       0.274528\n",
       "14       0.108938      0.127895      0.142484       0.175338\n",
       "15       0.231621      0.262837      0.274528       0.274528\n",
       "16       0.125491      0.137584      0.165089       0.193629\n",
       "17       0.274528      0.274528      0.274528       0.274528\n",
       "18       0.274528      0.274528      0.274528       0.274528\n",
       "19       0.274528      0.274528      0.274528       0.274528\n",
       "20       0.274528      0.274528      0.274528       0.274528\n",
       "21       0.274528      0.274528      0.274528       0.274528\n",
       "22       0.102032      0.125491      0.137584       0.165089\n",
       "23       0.274528      0.274528      0.274528       0.274528\n",
       "24       0.274528      0.274528      0.274528       0.274528\n",
       "25       0.274528      0.274528      0.274528       0.274528\n",
       "26       0.274528      0.274528      0.274528       0.274528\n",
       "27       0.274528      0.274528      0.274528       0.274528\n",
       "28       0.274528      0.274528      0.274528       0.274528\n",
       "29       0.274528      0.274528      0.274528       0.274528\n",
       "..            ...           ...           ...            ...\n",
       "402      0.274528      0.274528      0.274528       0.274528\n",
       "403      0.274528      0.274528      0.274528       0.274528\n",
       "404      0.274528      0.274528      0.274528       0.274528\n",
       "405      0.157477      0.183150      0.209662       0.234416\n",
       "406      0.274528      0.274528      0.274528       0.274528\n",
       "407      0.274528      0.274528      0.274528       0.274528\n",
       "408      0.274528      0.274528      0.274528       0.274528\n",
       "409      0.274528      0.274528      0.274528       0.274528\n",
       "410      0.120730      0.132720      0.157477       0.183150\n",
       "411      0.274528      0.274528      0.274528       0.274528\n",
       "412      0.274528      0.274528      0.274528       0.274528\n",
       "413      0.274528      0.274528      0.274528       0.274528\n",
       "414      0.274528      0.274528      0.274528       0.274528\n",
       "415      0.220560      0.254210      0.274528       0.274528\n",
       "416      0.007863      0.023819      0.038202       0.055188\n",
       "417      0.274528      0.274528      0.274528       0.274528\n",
       "418      0.165089      0.193629      0.215091       0.240031\n",
       "419      0.274528      0.274528      0.274528       0.274528\n",
       "420      0.274528      0.274528      0.274528       0.274528\n",
       "421      0.023819      0.038202      0.055188       0.083833\n",
       "422      0.050894      0.072665      0.092898       0.120730\n",
       "423      0.274528      0.274528      0.274528       0.274528\n",
       "424      0.072665      0.092898      0.120730       0.132720\n",
       "425      0.274528      0.274528      0.274528       0.274528\n",
       "426      0.038202      0.055188      0.083833       0.102032\n",
       "427      0.274528      0.274528      0.274528       0.274528\n",
       "428      0.274528      0.274528      0.274528       0.274528\n",
       "429      0.274528      0.274528      0.274528       0.274528\n",
       "430      0.274528      0.274528      0.274528       0.274528\n",
       "431      0.274528      0.274528      0.274528       0.274528\n",
       "\n",
       "[432 rows x 4 columns]"
      ]
     },
     "execution_count": 171,
     "metadata": {},
     "output_type": "execute_result"
    }
   ],
   "source": [
    "t2"
   ]
  },
  {
   "cell_type": "code",
   "execution_count": null,
   "metadata": {
    "collapsed": true
   },
   "outputs": [],
   "source": []
  }
 ],
 "metadata": {
  "kernelspec": {
   "display_name": "Python 2",
   "language": "python",
   "name": "python2"
  },
  "language_info": {
   "codemirror_mode": {
    "name": "ipython",
    "version": 2
   },
   "file_extension": ".py",
   "mimetype": "text/x-python",
   "name": "python",
   "nbconvert_exporter": "python",
   "pygments_lexer": "ipython2",
   "version": "2.7.11"
  }
 },
 "nbformat": 4,
 "nbformat_minor": 0
}
