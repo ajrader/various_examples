{
 "cells": [
  {
   "cell_type": "markdown",
   "metadata": {},
   "source": [
    "# processing the EAS file that has th wrong length/broken fields"
   ]
  },
  {
   "cell_type": "code",
   "execution_count": 1,
   "metadata": {
    "collapsed": false
   },
   "outputs": [
    {
     "name": "stdout",
     "output_type": "stream",
     "text": [
      "C:\\Users\\kesj\\Documents\\projects\\HRattrition\\EDA\n"
     ]
    }
   ],
   "source": [
    "%cd ../../../projects/HRattrition/EDA/\n",
    "import pandas as pd"
   ]
  },
  {
   "cell_type": "code",
   "execution_count": 2,
   "metadata": {
    "collapsed": false
   },
   "outputs": [
    {
     "name": "stdout",
     "output_type": "stream",
     "text": [
      " Volume in drive C is OS\n",
      " Volume Serial Number is E02E-C1BA\n",
      "\n",
      " Directory of C:\\Users\\kesj\\Documents\\projects\\HRattrition\\EDA\n",
      "\n",
      "05/22/2015  09:53 AM    <DIR>          .\n",
      "05/22/2015  09:53 AM    <DIR>          ..\n",
      "05/22/2015  09:56 AM        71,159,654 cp_SR_EAS.txt\n",
      "04/27/2015  11:18 AM            34,562 employ_table_summary.xlsx\n",
      "04/07/2015  09:11 AM       263,820,687 employee_dataframe.ssv\n",
      "04/20/2015  10:22 AM       229,680,996 employee_dataframe.tsv\n",
      "04/07/2015  11:41 AM       239,278,714 employee_dataframe2.ssv\n",
      "04/28/2015  11:51 AM       268,711,500 employee_dataframe6.tsv\n",
      "05/01/2015  10:05 AM       223,911,918 employee_dataframe7long.tsv\n",
      "04/02/2015  12:59 PM             7,880 employee_table_summary.csv\n",
      "04/03/2015  02:37 PM            24,357 employee_table_summary_2.xlsx\n",
      "04/20/2015  10:15 AM            13,324 employee_table_summary_3.csv\n",
      "04/30/2015  10:00 AM    <DIR>          figures\n",
      "              10 File(s)  1,296,643,592 bytes\n",
      "               3 Dir(s)  21,749,727,232 bytes free\n"
     ]
    }
   ],
   "source": [
    "%ls"
   ]
  },
  {
   "cell_type": "code",
   "execution_count": 6,
   "metadata": {
    "collapsed": true
   },
   "outputs": [],
   "source": [
    "list_lines = []\n",
    "with open('cp_SR_EAS.txt','r') as f:\n",
    "    for line in f:\n",
    "        line_vals = line.split(';')\n",
    "        list_lines.append(line_vals)\n",
    "    "
   ]
  },
  {
   "cell_type": "code",
   "execution_count": 17,
   "metadata": {
    "collapsed": false
   },
   "outputs": [
    {
     "name": "stdout",
     "output_type": "stream",
     "text": [
      "235628\n"
     ]
    }
   ],
   "source": [
    "list_lines_as_str = []\n",
    "with open('cp_SR_EAS.txt','r') as f:\n",
    "    for line in f:\n",
    "        #line_vals = line.split(';')\n",
    "        list_lines_as_str.append(line)\n",
    "\n",
    "print len(list_lines_as_str)"
   ]
  },
  {
   "cell_type": "code",
   "execution_count": 23,
   "metadata": {
    "collapsed": false
   },
   "outputs": [
    {
     "data": {
      "text/plain": [
       "[['\"KEY\"',\n",
       "  '\"PDUSED1\"',\n",
       "  '\"PDUSED2\"',\n",
       "  '\"PDUSED3\"',\n",
       "  '\"PDUSED4\"',\n",
       "  '\"PDUSED5\"',\n",
       "  '\"PDUSED6\"',\n",
       "  '\"PDUSED7\"',\n",
       "  '\"PDUSED8\"',\n",
       "  '\"PDUSED9\"',\n",
       "  '\"PDUSED10\"',\n",
       "  '\"PTUSED1\"',\n",
       "  '\"PTUSED2\"',\n",
       "  '\"PTUSED3\"',\n",
       "  '\"PTUSED4\"',\n",
       "  '\"PTUSED5\"',\n",
       "  '\"PTUSED6\"',\n",
       "  '\"PTUSED7\"',\n",
       "  '\"PTUSED8\"',\n",
       "  '\"PTUSED9\"',\n",
       "  '\"PTUSED10\"',\n",
       "  '\"PSLUSED1\"',\n",
       "  '\"PSLUSED2\"',\n",
       "  '\"PSLUSED3\"',\n",
       "  '\"PSLUSED4\"',\n",
       "  '\"PSLUSED5\"',\n",
       "  '\"PSLUSED6\"',\n",
       "  '\"PSLUSED7\"',\n",
       "  '\"PSLUSED8\"',\n",
       "  '\"PSL\\n'],\n",
       " ['USED9\"',\n",
       "  '\"PSLUSED10\"',\n",
       "  '\"PV_PRE_USED1\"',\n",
       "  '\"PV_PRE_USED2\"',\n",
       "  '\"PV_PRE_USED3\"',\n",
       "  '\"PV_PRE_USED4\"',\n",
       "  '\"PV_PRE_USED5\"',\n",
       "  '\"PV_PRE_USED6\"',\n",
       "  '\"PV_PRE_USED7\"',\n",
       "  '\"PV_PRE_USED8\"',\n",
       "  '\"PV_PRE_USED9\"',\n",
       "  '\"PV_PRE_USED10\"',\n",
       "  '\"PV_POST_USED1\"',\n",
       "  '\"PV_POST_USED2\"',\n",
       "  '\"PV_POST_USED3\"',\n",
       "  '\"PV_POST_USED4\"',\n",
       "  '\"PV_POST_USED5\"',\n",
       "  '\"PV_POST_USED6\"',\n",
       "  '\"PV_POST_USED7\"',\n",
       "  '\"PV_POST_USED8\"',\n",
       "  '\"P\\n'],\n",
       " ['V_POST_USED9\"',\n",
       "  '\"PV_POST_USED10\"',\n",
       "  '\"PSLBAL1\"',\n",
       "  '\"PSLBAL2\"',\n",
       "  '\"PSLBAL3\"',\n",
       "  '\"PSLBAL4\"',\n",
       "  '\"PSLBAL5\"',\n",
       "  '\"PSLBAL6\"',\n",
       "  '\"PSLBAL7\"',\n",
       "  '\"PSLBAL8\"',\n",
       "  '\"PSLBAL9\"',\n",
       "  '\"PSLBAL10\"',\n",
       "  '\"PTBAL1\"',\n",
       "  '\"PTBAL2\"',\n",
       "  '\"PTBAL3\"',\n",
       "  '\"PTBAL4\"',\n",
       "  '\"PTBAL5\"',\n",
       "  '\"PTBAL6\"',\n",
       "  '\"PTBAL7\"',\n",
       "  '\"PTBAL8\"',\n",
       "  '\"PTBAL9\"',\n",
       "  '\"PTBAL10\"',\n",
       "  '\"PVBAL1\"',\n",
       "  '\"PVBAL2\"',\n",
       "  '\"PVBAL3\"',\n",
       "  '\"PVBAL4\"',\n",
       "  '\"PVBAL5\"',\n",
       "  '\"PVBAL6\"',\n",
       "  '\"PVBAL7\"',\n",
       "  '\"PVBAL8\"',\n",
       "  '\"PVBA\\n'],\n",
       " ['L9\"',\n",
       "  '\"PVBAL10\"                                                                                                                                                                                                                                                                                               \\n']]"
      ]
     },
     "execution_count": 23,
     "metadata": {},
     "output_type": "execute_result"
    }
   ],
   "source": [
    "[a.split(';') for a in list_lines_as_str[:4]]"
   ]
  },
  {
   "cell_type": "code",
   "execution_count": 45,
   "metadata": {
    "collapsed": false
   },
   "outputs": [
    {
     "name": "stdout",
     "output_type": "stream",
     "text": [
      "30\n",
      "30 30 30\n",
      "21\n",
      "51 21 51\n",
      "31\n",
      "82 31 82\n",
      "2\n",
      "84 2 84\n"
     ]
    }
   ],
   "source": [
    "ideal_ncols= 83\n",
    "col_count = 0\n",
    "new_list = []\n",
    "mod_list = []\n",
    "a_index = 0\n",
    "while col_count < ideal_ncols :\n",
    "    a = list_lines_as_str[a_index] #for a in list_lines_as_str[:20]:\n",
    "    line_split = a.split(';')\n",
    "    print len(line_split)\n",
    "    new_list+=line_split\n",
    "    col_count+=len(line_split)\n",
    "    a_index+=1\n",
    "    print len(new_list),len(line_split), col_count\n",
    "    #mod_list.append(new_list)\n",
    "    #new_list = []\n",
    "    #col_count = 0"
   ]
  },
  {
   "cell_type": "code",
   "execution_count": null,
   "metadata": {
    "collapsed": true
   },
   "outputs": [],
   "source": []
  },
  {
   "cell_type": "code",
   "execution_count": 50,
   "metadata": {
    "collapsed": false
   },
   "outputs": [
    {
     "name": "stdout",
     "output_type": "stream",
     "text": [
      " \"PSL\n",
      "29 USED9\"\n",
      "\"P\n",
      "50 V_POST_USED9\"\n",
      "\"PVBA\n",
      "81 L9\"\n",
      "\"PVBAL10\"\n",
      "84 84\n"
     ]
    }
   ],
   "source": [
    "k_list = new_list\n",
    "for idx, a in enumerate(new_list):\n",
    "    if '\\n' in a:\n",
    "        a = a.strip()\n",
    "        if idx < len(new_list)-1:\n",
    "            print a+k_list[idx+1] , idx,k_list[idx+1]\n",
    "        else:\n",
    "            a = a.strip()\n",
    "            print a\n",
    "        #k_list+=a\n",
    "    #else:\n",
    "    #    newval = a[:-1]+new_list[idx+1]\n",
    "    #    k_list+=newval\n",
    "print len(new_list),len(k_list)"
   ]
  },
  {
   "cell_type": "code",
   "execution_count": 44,
   "metadata": {
    "collapsed": false
   },
   "outputs": [
    {
     "data": {
      "text/plain": [
       "['\"PSL\\n', '\"P\\n', '\"PVBA\\n']"
      ]
     },
     "execution_count": 44,
     "metadata": {},
     "output_type": "execute_result"
    }
   ],
   "source": [
    "[a for a in new_list if '\\n' in a]"
   ]
  },
  {
   "cell_type": "code",
   "execution_count": 21,
   "metadata": {
    "collapsed": false
   },
   "outputs": [
    {
     "data": {
      "text/plain": [
       "[(301, 30),\n",
       " (301, 21),\n",
       " (301, 31),\n",
       " (301, 2),\n",
       " (301, 46),\n",
       " (301, 36),\n",
       " (301, 53),\n",
       " (301, 29),\n",
       " (301, 45),\n",
       " (301, 37),\n",
       " (301, 47),\n",
       " (301, 35),\n",
       " (301, 46),\n",
       " (301, 36),\n",
       " (301, 51),\n",
       " (301, 31),\n",
       " (301, 52),\n",
       " (301, 30),\n",
       " (301, 69),\n",
       " (301, 13)]"
      ]
     },
     "execution_count": 21,
     "metadata": {},
     "output_type": "execute_result"
    }
   ],
   "source": [
    "[(len(a),len(a.split(';'))) for a in list_lines_as_str[:20]]"
   ]
  },
  {
   "cell_type": "code",
   "execution_count": 16,
   "metadata": {
    "collapsed": false
   },
   "outputs": [
    {
     "data": {
      "text/plain": [
       "{'a', 'd'}"
      ]
     },
     "execution_count": 16,
     "metadata": {},
     "output_type": "execute_result"
    }
   ],
   "source": [
    "set1 = set(['a','b','c','d'])\n",
    "set2 = set(['a','d','e','f'])\n",
    "set1.intersection(set2)"
   ]
  },
  {
   "cell_type": "code",
   "execution_count": 12,
   "metadata": {
    "collapsed": false
   },
   "outputs": [
    {
     "data": {
      "text/plain": [
       "[30, 21, 31, 2, 46, 36, 53, 29, 45, 37]"
      ]
     },
     "execution_count": 12,
     "metadata": {},
     "output_type": "execute_result"
    }
   ],
   "source": [
    "[len(ll) for ll in list_lines[:10]]"
   ]
  },
  {
   "cell_type": "code",
   "execution_count": 13,
   "metadata": {
    "collapsed": false
   },
   "outputs": [
    {
     "data": {
      "text/plain": [
       "[['\"KEY\"',\n",
       "  '\"PDUSED1\"',\n",
       "  '\"PDUSED2\"',\n",
       "  '\"PDUSED3\"',\n",
       "  '\"PDUSED4\"',\n",
       "  '\"PDUSED5\"',\n",
       "  '\"PDUSED6\"',\n",
       "  '\"PDUSED7\"',\n",
       "  '\"PDUSED8\"',\n",
       "  '\"PDUSED9\"',\n",
       "  '\"PDUSED10\"',\n",
       "  '\"PTUSED1\"',\n",
       "  '\"PTUSED2\"',\n",
       "  '\"PTUSED3\"',\n",
       "  '\"PTUSED4\"',\n",
       "  '\"PTUSED5\"',\n",
       "  '\"PTUSED6\"',\n",
       "  '\"PTUSED7\"',\n",
       "  '\"PTUSED8\"',\n",
       "  '\"PTUSED9\"',\n",
       "  '\"PTUSED10\"',\n",
       "  '\"PSLUSED1\"',\n",
       "  '\"PSLUSED2\"',\n",
       "  '\"PSLUSED3\"',\n",
       "  '\"PSLUSED4\"',\n",
       "  '\"PSLUSED5\"',\n",
       "  '\"PSLUSED6\"',\n",
       "  '\"PSLUSED7\"',\n",
       "  '\"PSLUSED8\"',\n",
       "  '\"PSL\\n'],\n",
       " ['USED9\"',\n",
       "  '\"PSLUSED10\"',\n",
       "  '\"PV_PRE_USED1\"',\n",
       "  '\"PV_PRE_USED2\"',\n",
       "  '\"PV_PRE_USED3\"',\n",
       "  '\"PV_PRE_USED4\"',\n",
       "  '\"PV_PRE_USED5\"',\n",
       "  '\"PV_PRE_USED6\"',\n",
       "  '\"PV_PRE_USED7\"',\n",
       "  '\"PV_PRE_USED8\"',\n",
       "  '\"PV_PRE_USED9\"',\n",
       "  '\"PV_PRE_USED10\"',\n",
       "  '\"PV_POST_USED1\"',\n",
       "  '\"PV_POST_USED2\"',\n",
       "  '\"PV_POST_USED3\"',\n",
       "  '\"PV_POST_USED4\"',\n",
       "  '\"PV_POST_USED5\"',\n",
       "  '\"PV_POST_USED6\"',\n",
       "  '\"PV_POST_USED7\"',\n",
       "  '\"PV_POST_USED8\"',\n",
       "  '\"P\\n'],\n",
       " ['V_POST_USED9\"',\n",
       "  '\"PV_POST_USED10\"',\n",
       "  '\"PSLBAL1\"',\n",
       "  '\"PSLBAL2\"',\n",
       "  '\"PSLBAL3\"',\n",
       "  '\"PSLBAL4\"',\n",
       "  '\"PSLBAL5\"',\n",
       "  '\"PSLBAL6\"',\n",
       "  '\"PSLBAL7\"',\n",
       "  '\"PSLBAL8\"',\n",
       "  '\"PSLBAL9\"',\n",
       "  '\"PSLBAL10\"',\n",
       "  '\"PTBAL1\"',\n",
       "  '\"PTBAL2\"',\n",
       "  '\"PTBAL3\"',\n",
       "  '\"PTBAL4\"',\n",
       "  '\"PTBAL5\"',\n",
       "  '\"PTBAL6\"',\n",
       "  '\"PTBAL7\"',\n",
       "  '\"PTBAL8\"',\n",
       "  '\"PTBAL9\"',\n",
       "  '\"PTBAL10\"',\n",
       "  '\"PVBAL1\"',\n",
       "  '\"PVBAL2\"',\n",
       "  '\"PVBAL3\"',\n",
       "  '\"PVBAL4\"',\n",
       "  '\"PVBAL5\"',\n",
       "  '\"PVBAL6\"',\n",
       "  '\"PVBAL7\"',\n",
       "  '\"PVBAL8\"',\n",
       "  '\"PVBA\\n'],\n",
       " ['L9\"',\n",
       "  '\"PVBAL10\"                                                                                                                                                                                                                                                                                               \\n']]"
      ]
     },
     "execution_count": 13,
     "metadata": {},
     "output_type": "execute_result"
    }
   ],
   "source": [
    "[ll for ll in list_lines[:4]]"
   ]
  },
  {
   "cell_type": "code",
   "execution_count": 11,
   "metadata": {
    "collapsed": false
   },
   "outputs": [
    {
     "data": {
      "text/plain": [
       "['\"892115452742258\"',\n",
       " '\"3.5\"',\n",
       " '\"4.25\"',\n",
       " '\"7.25\"',\n",
       " '\"1.25\"',\n",
       " '\"11.5\"',\n",
       " '\"2.5\"',\n",
       " '\"6\"',\n",
       " '\"6.5\"',\n",
       " '\"2\"',\n",
       " '\"0\"',\n",
       " '\"11.75\"',\n",
       " '\"23.25\"',\n",
       " '\"23.25\"',\n",
       " '\"31\"',\n",
       " '\"23.25\"',\n",
       " '\"31\"',\n",
       " '\"31\"',\n",
       " '\"35\"',\n",
       " '\"3.75\"',\n",
       " '\"0\"',\n",
       " '\"122.75\"',\n",
       " '\"32\"',\n",
       " '\"77.5\"',\n",
       " '\"54.25\"',\n",
       " '\"31\"',\n",
       " '\"286.75\"',\n",
       " '\"93\"',\n",
       " '\"4\"',\n",
       " '\"3.75\"',\n",
       " '\"0\"',\n",
       " '\"0\"',\n",
       " '\"46.5\"',\n",
       " '\"62\"',\n",
       " '\"69.75\"',\n",
       " '\"96.75\"',\n",
       " '\"46.5\"',\n",
       " '\"42.5\"',\n",
       " '\"31.25\"',\n",
       " '\"3.75\"',\n",
       " '\"0\"',\n",
       " '\"31\"',\n",
       " '\"116.25\"',\n",
       " '\"77.5\"',\n",
       " '\"58.25\"',\n",
       " '\"62\"\\n']"
      ]
     },
     "execution_count": 11,
     "metadata": {},
     "output_type": "execute_result"
    }
   ],
   "source": [
    "list_lines[4]"
   ]
  },
  {
   "cell_type": "code",
   "execution_count": 5,
   "metadata": {
    "collapsed": false
   },
   "outputs": [
    {
     "data": {
      "text/plain": [
       "[['\"KEY\"',\n",
       "  '\"PDUSED1\"',\n",
       "  '\"PDUSED2\"',\n",
       "  '\"PDUSED3\"',\n",
       "  '\"PDUSED4\"',\n",
       "  '\"PDUSED5\"',\n",
       "  '\"PDUSED6\"',\n",
       "  '\"PDUSED7\"',\n",
       "  '\"PDUSED8\"',\n",
       "  '\"PDUSED9\"',\n",
       "  '\"PDUSED10\"',\n",
       "  '\"PTUSED1\"',\n",
       "  '\"PTUSED2\"',\n",
       "  '\"PTUSED3\"',\n",
       "  '\"PTUSED4\"',\n",
       "  '\"PTUSED5\"',\n",
       "  '\"PTUSED6\"',\n",
       "  '\"PTUSED7\"',\n",
       "  '\"PTUSED8\"',\n",
       "  '\"PTUSED9\"',\n",
       "  '\"PTUSED10\"',\n",
       "  '\"PSLUSED1\"',\n",
       "  '\"PSLUSED2\"',\n",
       "  '\"PSLUSED3\"',\n",
       "  '\"PSLUSED4\"',\n",
       "  '\"PSLUSED5\"',\n",
       "  '\"PSLUSED6\"',\n",
       "  '\"PSLUSED7\"',\n",
       "  '\"PSLUSED8\"',\n",
       "  '\"PSL\\n']]"
      ]
     },
     "execution_count": 5,
     "metadata": {},
     "output_type": "execute_result"
    }
   ],
   "source": [
    "list_lines"
   ]
  },
  {
   "cell_type": "code",
   "execution_count": null,
   "metadata": {
    "collapsed": true
   },
   "outputs": [],
   "source": []
  }
 ],
 "metadata": {
  "kernelspec": {
   "display_name": "Python 2",
   "language": "python",
   "name": "python2"
  },
  "language_info": {
   "codemirror_mode": {
    "name": "ipython",
    "version": 2
   },
   "file_extension": ".py",
   "mimetype": "text/x-python",
   "name": "python",
   "nbconvert_exporter": "python",
   "pygments_lexer": "ipython2",
   "version": "2.7.8"
  }
 },
 "nbformat": 4,
 "nbformat_minor": 0
}
