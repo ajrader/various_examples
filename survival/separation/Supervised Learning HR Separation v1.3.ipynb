{
 "cells": [
  {
   "cell_type": "markdown",
   "metadata": {},
   "source": [
    "# Supervised Learning for HR Separations\n",
    "## August 24, 2015\n",
    "<hr>\n",
    "\n",
    "### 1. Go back to the 'raw' data so I can do the transformation in a pipe-oriented way from the start\n",
    "* start with histret, histcurr, empl and bene\n",
    "#### define the source repo\n",
    "* '/home/kesj/lib/repo/'\n",
    "\n",
    "### 2. Define the correct working directories\n",
    "* '/data/discovery/hrsepara/core/' for HDFS\n",
    "* '/data/discovery/hrsepara/staging/eda' and '/home/kesj/working/hrsepara/eda/' for HDFS and LFS on phd\n"
   ]
  },
  {
   "cell_type": "code",
   "execution_count": 1,
   "metadata": {
    "collapsed": true
   },
   "outputs": [],
   "source": [
    "coredir = '/data/discovery/hrsepara/core/'\n",
    "stgdir1 = '/data/discovery/hrsepara/staging/eda'\n",
    "stgdir1local = '/home/kesj/work/hrsepara/eda'\n",
    "repodir = '/home/kesj/lib/repo/'"
   ]
  },
  {
   "cell_type": "code",
   "execution_count": 2,
   "metadata": {
    "collapsed": true
   },
   "outputs": [],
   "source": [
    "### load the basic files\n",
    "import os,subprocess,sys\n",
    "import pandas as pd\n",
    "import numpy as np\n",
    "%matplotlib inline\n",
    "from datetime import datetime\n",
    "import matplotlib.pyplot as plt\n",
    "from itertools import chain\n",
    "import random\n",
    "import seaborn as sns\n",
    "from glob import glob\n",
    "plt.style.use('ggplot')\n"
   ]
  },
  {
   "cell_type": "code",
   "execution_count": 3,
   "metadata": {
    "collapsed": true
   },
   "outputs": [],
   "source": [
    "os.chdir(repodir)\n",
    "import bear.bear as br"
   ]
  },
  {
   "cell_type": "code",
   "execution_count": 4,
   "metadata": {
    "collapsed": true
   },
   "outputs": [],
   "source": [
    "os.chdir(stgdir1local)"
   ]
  },
  {
   "cell_type": "markdown",
   "metadata": {},
   "source": [
    "## Get the file listing"
   ]
  },
  {
   "cell_type": "code",
   "execution_count": 5,
   "metadata": {
    "collapsed": false
   },
   "outputs": [
    {
     "name": "stdout",
     "output_type": "stream",
     "text": [
      " there are 16 files in this directory\n"
     ]
    },
    {
     "data": {
      "text/plain": [
       "['/data/discovery/hrsepara/core/EAS',\n",
       " '/data/discovery/hrsepara/core/EMPL',\n",
       " '/data/discovery/hrsepara/core/HISTCURR',\n",
       " '/data/discovery/hrsepara/core/HISTRET',\n",
       " '/data/discovery/hrsepara/core/HISTRETold',\n",
       " '/data/discovery/hrsepara/core/SBR',\n",
       " '/data/discovery/hrsepara/core/SR_BENEFIT.txt',\n",
       " '/data/discovery/hrsepara/core/SR_CKE.txt',\n",
       " '/data/discovery/hrsepara/core/SR_COMP.txt',\n",
       " '/data/discovery/hrsepara/core/SR_CPR.txt',\n",
       " '/data/discovery/hrsepara/core/SR_EAS.txt',\n",
       " '/data/discovery/hrsepara/core/SR_EDU.txt',\n",
       " '/data/discovery/hrsepara/core/SR_INS.txt',\n",
       " '/data/discovery/hrsepara/core/SR_LANG.txt',\n",
       " '/data/discovery/hrsepara/core/SR_LIC.txt',\n",
       " '/data/discovery/hrsepara/core/SR_RELO.txt']"
      ]
     },
     "execution_count": 5,
     "metadata": {},
     "output_type": "execute_result"
    }
   ],
   "source": [
    "fnames = !hdfs dfs -ls {coredir}\n",
    "infilenames = [f.split()[-1] for f in fnames[1:]]\n",
    "print \" there are {0} files in this directory\".format(len(infilenames))\n",
    "infilenames"
   ]
  },
  {
   "cell_type": "code",
   "execution_count": 6,
   "metadata": {
    "collapsed": true
   },
   "outputs": [],
   "source": [
    "## function to load into pandas from hdfs (by copying to local filespace)\n",
    "def pandas_read_hdfs(infile,sep = ';',dtype_dict = None):\n",
    "    # copy the infile to the cwd\n",
    "    !hdfs dfs -get {infile} .\n",
    "    # identify the local file name\n",
    "    inname = infile[infile.rfind('/')+1:]\n",
    "    # read into a data frame\n",
    "    if dtype_dict != None:\n",
    "        df = pd.read_csv(inname,sep=sep,dtype =dtype_dict)\n",
    "    else:\n",
    "        df = pd.read_csv(inname,sep=sep)\n",
    "    # clean up local filespace\n",
    "    !rm {inname}\n",
    "    return df"
   ]
  },
  {
   "cell_type": "markdown",
   "metadata": {},
   "source": [
    "## Load the base empl table"
   ]
  },
  {
   "cell_type": "code",
   "execution_count": 7,
   "metadata": {
    "collapsed": false
   },
   "outputs": [
    {
     "data": {
      "text/plain": [
       "(334162, 20)"
      ]
     },
     "execution_count": 7,
     "metadata": {},
     "output_type": "execute_result"
    }
   ],
   "source": [
    "empl_df = pandas_read_hdfs(infilenames[1],dtype_dict={'KEY':np.str})\n",
    "empl_df.shape"
   ]
  },
  {
   "cell_type": "markdown",
   "metadata": {},
   "source": [
    "## load the HISTCURR an HISTRET tables"
   ]
  },
  {
   "cell_type": "code",
   "execution_count": 8,
   "metadata": {
    "collapsed": true
   },
   "outputs": [],
   "source": [
    "hist_record_dtype_dict = {'KEY':np.str,'LOCATION':np.str,'EEO1CODE':np.str,'SKEY':np.str,'JOBCODE':np.str,'EMPL_CLASS':np.str, \n",
    "                          'SHIFT':np.str,'COMPANY':np.str,'EXT_FUNC_ID_SFI':np.str,'FUNC_ID_SFI':np.str,\n",
    "                          'DIVISION_CODE_SFI':np.str,'JOB_FAMILY':np.str,'JOB_FUNCTION':np.str,'ACTRES1':np.str,\n",
    "                          'ACTRES2':np.str,'ACTRES3':np.str,'ACTRES4':np.str,'ACTRES5':np.str,'ACTRES6':np.str,\n",
    "                          'ACTRES7':np.str,'ACTRES8':np.str,'ACTRES9':np.str,'ACTRES10':np.str,'BOX1':np.str,\n",
    "                          'BOX2':np.str,'BOX3':np.str,'BOX4':np.str,'BOX5':np.str,'BOX6':np.str,'BOX7':np.str,\n",
    "                          'BOX8':np.str,'BOX9':np.str,'BOX10':np.str,'RATE1':np.str,'RATE2':np.str,'RATE3':np.str,\n",
    "                          'RATE4':np.str,'RATE5':np.str,'RATE6':np.str,'RATE7':np.str,'RATE8':np.str,'RATE9':np.str,\n",
    "                          'RATE10':np.str}"
   ]
  },
  {
   "cell_type": "code",
   "execution_count": 9,
   "metadata": {
    "collapsed": false
   },
   "outputs": [
    {
     "name": "stdout",
     "output_type": "stream",
     "text": [
      "(70609, 159)\n",
      "(172554, 160)\n"
     ]
    }
   ],
   "source": [
    "histcurr_df = pandas_read_hdfs(infilenames[2],dtype_dict=hist_record_dtype_dict)\n",
    "print histcurr_df.shape#, histcurr_df.columns\n",
    "# rename the last two columns to match histret\n",
    "histcurr_df.rename(columns = {'COUNT':'FUNC_CNT','COUNT.1':'EXTFUNC_CNT'},inplace=True)\n",
    "\n",
    "histret_df = pandas_read_hdfs(infilenames[3],dtype_dict=hist_record_dtype_dict)\n",
    "print histret_df.shape#,histret_df.columns"
   ]
  },
  {
   "cell_type": "markdown",
   "metadata": {},
   "source": [
    "# load the benefits file"
   ]
  },
  {
   "cell_type": "code",
   "execution_count": 10,
   "metadata": {
    "collapsed": false
   },
   "outputs": [
    {
     "name": "stdout",
     "output_type": "stream",
     "text": [
      "(86954, 4)\n"
     ]
    }
   ],
   "source": [
    "bene_df = pandas_read_hdfs(infilenames[6],dtype_dict={'KEY':np.str})\n",
    "print bene_df.shape\n",
    "bene_df.rename(columns = {'COUNT               ':'DEPENDENT_CNT'},inplace=True)"
   ]
  },
  {
   "cell_type": "code",
   "execution_count": 11,
   "metadata": {
    "collapsed": false
   },
   "outputs": [
    {
     "data": {
      "text/plain": [
       "Index([u'KEY', u'HAVE_INS', u'HAVE_DEP', u'DEPENDENT_CNT'], dtype='object')"
      ]
     },
     "execution_count": 11,
     "metadata": {},
     "output_type": "execute_result"
    }
   ],
   "source": [
    "bene_df.columns"
   ]
  },
  {
   "cell_type": "markdown",
   "metadata": {},
   "source": [
    "## now join these 4 columns\n",
    "* first onto empl_df"
   ]
  },
  {
   "cell_type": "code",
   "execution_count": 12,
   "metadata": {
    "collapsed": false
   },
   "outputs": [
    {
     "name": "stdout",
     "output_type": "stream",
     "text": [
      "172554 70609\n"
     ]
    }
   ],
   "source": [
    "ret_empl = pd.merge(histret_df,empl_df,left_on='KEY',right_on='KEY',how='inner')\n",
    "cur_empl = pd.merge(histcurr_df,empl_df,left_on='KEY',right_on='KEY',how='inner')\n",
    "print len(ret_empl),len(cur_empl)"
   ]
  },
  {
   "cell_type": "markdown",
   "metadata": {},
   "source": [
    "## clean up this data some (not too much)\n",
    "1. remove ON(tario) cases\n",
    "2. add column reflecting status: 1== separated; 0 == current"
   ]
  },
  {
   "cell_type": "code",
   "execution_count": null,
   "metadata": {
    "collapsed": false
   },
   "outputs": [],
   "source": [
    "print sum(cur_empl.LOC_STATE=='ON'), sum(ret_empl.LOC_STATE == 'ON')\n",
    "ret_empl = ret_empl[ret_empl.LOC_STATE != 'ON'] #drop them"
   ]
  },
  {
   "cell_type": "code",
   "execution_count": null,
   "metadata": {
    "collapsed": false
   },
   "outputs": [],
   "source": [
    "date_columns = ['TERMINATION_DT','HIRE_DT','SERVICE_DT','LAST_HIRE_DT','BIRTHDATE']\n",
    "##count how many of these are missing\n",
    "print \"Column\\t     Current\\t Retired\"\n",
    "print \"++++++++++++++++++++++++++++++++++++\"\n",
    "for c in date_columns:\n",
    "    print c, \"\\t\",sum(cur_empl[c].isnull()), \"\\t\",sum(ret_empl[c].isnull())"
   ]
  },
  {
   "cell_type": "markdown",
   "metadata": {},
   "source": [
    "## concatenate former and current"
   ]
  },
  {
   "cell_type": "code",
   "execution_count": null,
   "metadata": {
    "collapsed": false
   },
   "outputs": [],
   "source": [
    "ret_empl['status'] = 1\n",
    "cur_empl['status'] = 0\n",
    "# now join\n",
    "print len(ret_empl),len(cur_empl)\n",
    "empltbl = pd.concat([ret_empl,cur_empl],axis=0)\n",
    "print len(empltbl)"
   ]
  },
  {
   "cell_type": "markdown",
   "metadata": {},
   "source": [
    "## append benefits info"
   ]
  },
  {
   "cell_type": "code",
   "execution_count": null,
   "metadata": {
    "collapsed": false
   },
   "outputs": [],
   "source": [
    "empl_bene = pd.merge(empltbl,bene_df,on ='KEY',how='left')\n",
    "print empl_bene.shape"
   ]
  },
  {
   "cell_type": "markdown",
   "metadata": {},
   "source": [
    "# because I also want to build a test/train set from this I need to further clean it up:\n",
    "1. remove undesireable GRADES\n",
    "    * UNS --> interns, seasonal employees and agency interns\n",
    "    * Let’s also exclude the L-Level executive employees are in the LDSH job group with job grades L1 to L10 (i.e., all job grades starting with “L”).\n",
    "    * Let’s also exclude Air Transportation as we don’t foresee applying the model to them either. Their job group is AIRT with job grades AT1 to AT8 (i.e., all job grades starting with “AT”).\n",
    "    \n",
    "2. remove VOLINVOL == 'UNKNOWN' or \"OTHER'"
   ]
  },
  {
   "cell_type": "code",
   "execution_count": null,
   "metadata": {
    "collapsed": false
   },
   "outputs": [],
   "source": [
    "# remove AT* and L* grades\n",
    "list_of_grades = empl_bene.GRADE.unique()\n",
    "print len(list_of_grades)\n",
    "grades_to_drop = [x for x in map(str,list_of_grades) if (x.startswith('L') or x.startswith('AT'))]\n",
    "print len(grades_to_drop)\n",
    "\n",
    "grades_to_drop.remove('LS2')\n",
    "grades_to_drop.remove('LS1')\n",
    "grades_to_drop.remove('LS3')\n",
    "grades_to_drop.remove('LM1')\n",
    "grades_to_drop.remove('LM2')\n",
    "grades_to_drop.remove('LP1')\n",
    "#\n",
    "grades_to_drop.append('UNS') #interns\n",
    "print len(grades_to_drop),grades_to_drop"
   ]
  },
  {
   "cell_type": "code",
   "execution_count": null,
   "metadata": {
    "collapsed": false
   },
   "outputs": [],
   "source": [
    "empl=empl_bene[~empl_bene.GRADE.isin(grades_to_drop)].copy()\n",
    "print np.shape(empl)"
   ]
  },
  {
   "cell_type": "code",
   "execution_count": null,
   "metadata": {
    "collapsed": false
   },
   "outputs": [],
   "source": [
    "empl.VOLINVOL.value_counts(), sum(empl.VOLINVOL.isnull())"
   ]
  },
  {
   "cell_type": "code",
   "execution_count": null,
   "metadata": {
    "collapsed": false
   },
   "outputs": [],
   "source": [
    "# remove VOLINVOL = 'UNKNOWN' or OTHER\n",
    "volinvol_to_drop = ['UNKNOWN','OTHER']\n",
    "empl = empl[~empl.VOLINVOL.isin(volinvol_to_drop)]\n",
    "print np.shape(empl)"
   ]
  },
  {
   "cell_type": "code",
   "execution_count": null,
   "metadata": {
    "collapsed": false
   },
   "outputs": [],
   "source": [
    "print \"Column\\t     Current\\t Retired\"\n",
    "print \"++++++++++++++++++++++++++++++++++++\"\n",
    "for c in date_columns:\n",
    "    print c, \"\\t\",sum(empl[c].isnull())#, \"\\t\",sum(ret_empl[c].isnull())"
   ]
  },
  {
   "cell_type": "code",
   "execution_count": null,
   "metadata": {
    "collapsed": false
   },
   "outputs": [],
   "source": [
    "empl[empl.HIRE_DT.isnull()][date_columns]"
   ]
  },
  {
   "cell_type": "code",
   "execution_count": null,
   "metadata": {
    "collapsed": false
   },
   "outputs": [],
   "source": [
    "# drop the missing HIRE+LAST_HIRE_DT example\n",
    "empl=empl[empl.HIRE_DT.notnull()]\n",
    "print empl.shape"
   ]
  },
  {
   "cell_type": "markdown",
   "metadata": {},
   "source": [
    "### for reducing my set I need to calculate tenure and remove negative ones\n",
    "1. replace termination date with 01JAN2015\n",
    "2. convert to datetimes\n",
    "3. calculate tenure in years"
   ]
  },
  {
   "cell_type": "code",
   "execution_count": null,
   "metadata": {
    "collapsed": false
   },
   "outputs": [],
   "source": [
    "termination_replace_dt = '01JAN2015'\n",
    "empl.TERMINATION_DT.fillna(termination_replace_dt,inplace=True)\n",
    "# convert to datetimes\n",
    "empl['hire_date']= empl.HIRE_DT.apply(lambda x:datetime.strptime(x,'%d%b%Y'))\n",
    "empl['term_date']= empl.TERMINATION_DT.apply(lambda x:datetime.strptime(x,'%d%b%Y'))\n",
    "# calculate tenure\n",
    "empl['Tenure_months'] = (empl['term_date']-empl['hire_date'])/np.timedelta64(1,'M') "
   ]
  },
  {
   "cell_type": "code",
   "execution_count": null,
   "metadata": {
    "collapsed": false
   },
   "outputs": [],
   "source": [
    "sum(empl.Tenure_months < 0), sum(empl.TOT_MO_SERVICE_SFI < 0)"
   ]
  },
  {
   "cell_type": "code",
   "execution_count": null,
   "metadata": {
    "collapsed": false
   },
   "outputs": [],
   "source": [
    "len(empl)"
   ]
  },
  {
   "cell_type": "code",
   "execution_count": null,
   "metadata": {
    "collapsed": false
   },
   "outputs": [],
   "source": [
    "date0 = '2002-01-01'\n",
    "em2002 = empl.ix[empl.term_date>=date0].copy()\n",
    "print date0, len(em2002)\n",
    "print \"--------- STATUS \"\n",
    "print em2002.status.value_counts()\n",
    "#print \"--------- TERMINATED\"\n",
    "#print em2002.terminated.value_counts()\n",
    "#print \"--------- RETIRED\"\n",
    "#print em2002.retired.value_counts()\n",
    "print np.shape(em2002),len(empl)"
   ]
  },
  {
   "cell_type": "code",
   "execution_count": null,
   "metadata": {
    "collapsed": false
   },
   "outputs": [],
   "source": [
    "base_columns_to_save = em2002.columns[:-3].tolist()\n",
    "# swap 'status' to end of list\n",
    "i = base_columns_to_save.index('status')\n",
    "j = -1\n",
    "base_columns_to_save[i]=base_columns_to_save[j]\n",
    "base_columns_to_save[j] = 'status'\n",
    "base_columns_to_save"
   ]
  },
  {
   "cell_type": "code",
   "execution_count": null,
   "metadata": {
    "collapsed": true
   },
   "outputs": [],
   "source": [
    "## save this file (omitting the modified fields)\n",
    "em2002.to_csv('employees_after2001_raw.csv',columns=base_columns_to_save,index=False)"
   ]
  },
  {
   "cell_type": "code",
   "execution_count": null,
   "metadata": {
    "collapsed": false
   },
   "outputs": [],
   "source": [
    "# August 28, 2015\n",
    "# Begin here by reading in the file\n",
    "em2002 = pd.read_csv('employees_after2001_raw.csv')\n",
    "em2002.shape"
   ]
  },
  {
   "cell_type": "code",
   "execution_count": null,
   "metadata": {
    "collapsed": false
   },
   "outputs": [],
   "source": [
    "em2002.iloc[:10,[42,47,92,165,178]]"
   ]
  },
  {
   "cell_type": "markdown",
   "metadata": {},
   "source": [
    "# create a few additional target columns\n",
    "* retired\n",
    "* separated\n",
    "* invol_sep\n"
   ]
  },
  {
   "cell_type": "code",
   "execution_count": null,
   "metadata": {
    "collapsed": false
   },
   "outputs": [],
   "source": [
    "# look at the list of ACTRES1 for  ReTIREMENT\n",
    "uniq_action_reasons_1 = em2002.ACTRES1.unique()\n",
    "print len(uniq_action_reasons_1)\n",
    "temp_list = [str(x).split(';') for x in uniq_action_reasons_1]\n",
    "from itertools import chain\n",
    "act_reason_1_list = list(chain.from_iterable(temp_list))\n",
    "print len(act_reason_1_list)\n",
    "act_reason_1_set = set(act_reason_1_list)\n",
    "print len(act_reason_1_set)"
   ]
  },
  {
   "cell_type": "code",
   "execution_count": null,
   "metadata": {
    "collapsed": false
   },
   "outputs": [],
   "source": [
    "possible_retire_codes = [x for x in act_reason_1_set if ('RET' in x and  'RETURN' not in x) ]\n",
    "possible_retire_codes.append('DISABILITY')\n",
    "len(possible_retire_codes)\n",
    "possible_retire_codes.sort()"
   ]
  },
  {
   "cell_type": "code",
   "execution_count": null,
   "metadata": {
    "collapsed": true
   },
   "outputs": [],
   "source": [
    "def identify_retired(x,ret_codes =possible_retire_codes):\n",
    "    try:\n",
    "        matched = [a for a in x.split(';') if a in ret_codes]\n",
    "        if len(matched):\n",
    "            return 1\n",
    "        else:\n",
    "            return 0\n",
    "    except AttributeError:\n",
    "        return 0"
   ]
  },
  {
   "cell_type": "code",
   "execution_count": null,
   "metadata": {
    "collapsed": false
   },
   "outputs": [],
   "source": [
    "em2002['retired'] = em2002.ACTRES1.apply(lambda x: identify_retired(x))"
   ]
  },
  {
   "cell_type": "code",
   "execution_count": null,
   "metadata": {
    "collapsed": false
   },
   "outputs": [],
   "source": [
    "em2002.retired.value_counts()"
   ]
  },
  {
   "cell_type": "code",
   "execution_count": null,
   "metadata": {
    "collapsed": false
   },
   "outputs": [],
   "source": [
    "## create a column for former (i.e. separated but NOT retired)\n",
    "em2002['former']= 0\n",
    "my_rows = em2002[(em2002.status==1) & (em2002.retired==0)].index\n",
    "print \"Out of {0} rows, {1} are separated and not retired.\".format(len(em2002),len(my_rows))\n",
    "#sum(empl_df['terminated']))#, len(my_rows)\n",
    "#em2002.iloc[my_rows,'former']=1\n",
    "em2002.loc[my_rows,'former']=1#.ix[my_rows]=1\n",
    "print sum(em2002.former)"
   ]
  },
  {
   "cell_type": "code",
   "execution_count": null,
   "metadata": {
    "collapsed": false
   },
   "outputs": [],
   "source": [
    "em2002.columns"
   ]
  },
  {
   "cell_type": "code",
   "execution_count": null,
   "metadata": {
    "collapsed": false
   },
   "outputs": [],
   "source": [
    "pd.crosstab(em2002.status, em2002.retired)"
   ]
  },
  {
   "cell_type": "code",
   "execution_count": null,
   "metadata": {
    "collapsed": false
   },
   "outputs": [],
   "source": [
    "len(em2002)"
   ]
  },
  {
   "cell_type": "markdown",
   "metadata": {},
   "source": [
    "####  There is one case where the person is 'retired' but has status of 0 is wrong -- I'm removing this row."
   ]
  },
  {
   "cell_type": "code",
   "execution_count": null,
   "metadata": {
    "collapsed": false
   },
   "outputs": [],
   "source": [
    "print len(em2002[~((em2002.status == 0)& (em2002.retired == 1))])\n",
    "em2002 = em2002[~((em2002.status == 0)& (em2002.retired == 1))]\n",
    "print len(em2002)"
   ]
  },
  {
   "cell_type": "markdown",
   "metadata": {},
   "source": [
    "## CREATE a Test-train split from this dataset\n"
   ]
  },
  {
   "cell_type": "code",
   "execution_count": null,
   "metadata": {
    "collapsed": false
   },
   "outputs": [],
   "source": [
    "list_of_indices = list(range(em2002.KEY.nunique()))\n",
    "print len(list_of_indices )\n",
    "random.seed(823321)\n",
    "#new_indices = [x for x in random.shuffle(list_of_indices)\n",
    "random.shuffle(list_of_indices)#, len(list_of_indices))\n",
    "em2002.index = list_of_indices # note that random.shuffle does this shuffling inplace\n",
    "em2002.sort_index(inplace=True)\n",
    "em2002.head()"
   ]
  },
  {
   "cell_type": "code",
   "execution_count": null,
   "metadata": {
    "collapsed": true
   },
   "outputs": [],
   "source": [
    "from sklearn import cross_validation"
   ]
  },
  {
   "cell_type": "code",
   "execution_count": null,
   "metadata": {
    "collapsed": false
   },
   "outputs": [],
   "source": [
    "# break into evaluation and build sets\n",
    "print \"Starting with subest of {0} employees.\".format(len(em2002))\n",
    "eval_fraction = 0.20\n",
    "em2, em2eval = cross_validation.train_test_split(em2002,test_size=eval_fraction)\n",
    "print \"Evaluation set has {0} employees; training set has {1} employees.\".format(len(em2eval),len(em2))"
   ]
  },
  {
   "cell_type": "code",
   "execution_count": null,
   "metadata": {
    "collapsed": false
   },
   "outputs": [],
   "source": [
    "print \"For retirement:\"\n",
    "print \"training set:\\t\",\n",
    "print em2.retired.value_counts()/len(em2)\n",
    "print \"evaluation set:\\t\",\n",
    "print em2eval.retired.value_counts()/len(em2eval)\n",
    "print \"For Separation\"\n",
    "print \"training set:\\t\",\n",
    "print em2.former.value_counts()/len(em2)\n",
    "print \"evaluation set:\\t\",\n",
    "print em2eval.former.value_counts()/len(em2eval)\n"
   ]
  },
  {
   "cell_type": "code",
   "execution_count": null,
   "metadata": {
    "collapsed": true
   },
   "outputs": [],
   "source": [
    "# dump these evaluation and training sets\n",
    "em2.to_csv('raw_after2001_training.ssv',sep=';',index=False)\n",
    "em2eval.to_csv('raw_after2001_eval.ssv',sep=';',index=False)"
   ]
  },
  {
   "cell_type": "code",
   "execution_count": 9,
   "metadata": {
    "collapsed": false
   },
   "outputs": [
    {
     "name": "stderr",
     "output_type": "stream",
     "text": [
      "/san-data/personal/kesj/envs/cutting/lib/python2.7/site-packages/pandas/io/parsers.py:1170: DtypeWarning: Columns (42) have mixed types. Specify dtype option on import or set low_memory=False.\n",
      "  data = self._reader.read(nrows)\n"
     ]
    }
   ],
   "source": [
    "em2eval= pd.read_csv('raw_after2001_eval.ssv',sep=';')\n",
    "em2= pd.read_csv('raw_after2001_training.ssv',sep=';')"
   ]
  },
  {
   "cell_type": "code",
   "execution_count": 12,
   "metadata": {
    "collapsed": false
   },
   "outputs": [
    {
     "data": {
      "text/plain": [
       "(26854, 107412)"
      ]
     },
     "execution_count": 12,
     "metadata": {},
     "output_type": "execute_result"
    }
   ],
   "source": [
    "## combine these into em2002\n",
    "len(em2eval),len(em2)"
   ]
  },
  {
   "cell_type": "code",
   "execution_count": 14,
   "metadata": {
    "collapsed": false
   },
   "outputs": [
    {
     "data": {
      "text/plain": [
       "(134266, 185)"
      ]
     },
     "execution_count": 14,
     "metadata": {},
     "output_type": "execute_result"
    }
   ],
   "source": [
    "em2002 = pd.concat([em2,em2eval],axis=0)\n",
    "em2002.shape"
   ]
  },
  {
   "cell_type": "code",
   "execution_count": 102,
   "metadata": {
    "collapsed": false
   },
   "outputs": [
    {
     "data": {
      "text/html": [
       "<div>\n",
       "<table border=\"1\" class=\"dataframe\">\n",
       "  <thead>\n",
       "    <tr style=\"text-align: right;\">\n",
       "      <th></th>\n",
       "      <th>ACTRES1</th>\n",
       "      <th>ACTRES10</th>\n",
       "      <th>ACTRES2</th>\n",
       "      <th>ACTRES3</th>\n",
       "      <th>ACTRES4</th>\n",
       "      <th>ACTRES5</th>\n",
       "      <th>ACTRES6</th>\n",
       "      <th>ACTRES7</th>\n",
       "      <th>ACTRES8</th>\n",
       "      <th>ACTRES9</th>\n",
       "      <th>...</th>\n",
       "      <th>HAVE_INS</th>\n",
       "      <th>HAVE_DEP</th>\n",
       "      <th>status</th>\n",
       "      <th>retired</th>\n",
       "      <th>former</th>\n",
       "      <th>hire_tstmp</th>\n",
       "      <th>birth_tstmp</th>\n",
       "      <th>term_tstmp</th>\n",
       "      <th>Age_years</th>\n",
       "      <th>Tenure_years</th>\n",
       "    </tr>\n",
       "  </thead>\n",
       "  <tbody>\n",
       "    <tr>\n",
       "      <th>0</th>\n",
       "      <td>TRANSFER W/O JOB NUMBER CHANGE;MISCELLANEOUS D...</td>\n",
       "      <td>NaN</td>\n",
       "      <td>EMPLOYEE NEW HIRE</td>\n",
       "      <td>NaN</td>\n",
       "      <td>NaN</td>\n",
       "      <td>NaN</td>\n",
       "      <td>NaN</td>\n",
       "      <td>NaN</td>\n",
       "      <td>NaN</td>\n",
       "      <td>NaN</td>\n",
       "      <td>...</td>\n",
       "      <td>Y</td>\n",
       "      <td>N</td>\n",
       "      <td>0</td>\n",
       "      <td>0</td>\n",
       "      <td>0</td>\n",
       "      <td>2013-07-22</td>\n",
       "      <td>1988-01-03</td>\n",
       "      <td>2015-01-01</td>\n",
       "      <td>26.995209</td>\n",
       "      <td>1.445585</td>\n",
       "    </tr>\n",
       "    <tr>\n",
       "      <th>1</th>\n",
       "      <td>MERIT;INCENTIVE;MOVED</td>\n",
       "      <td>NaN</td>\n",
       "      <td>MERIT;INCENTIVE;MISCELLANEOUS DATA CHANGE;JOB ...</td>\n",
       "      <td>BENEFITS TRANSACTION;MERIT</td>\n",
       "      <td>MISCELLANEOUS DATA CHANGE;MERIT;JOB CODE CHANG...</td>\n",
       "      <td>REHIRE;SALARY ADJUSTMENT</td>\n",
       "      <td>EMPLOYEE NEW HIRE;RETURN TO SCHOOL</td>\n",
       "      <td>NaN</td>\n",
       "      <td>NaN</td>\n",
       "      <td>NaN</td>\n",
       "      <td>...</td>\n",
       "      <td>NaN</td>\n",
       "      <td>NaN</td>\n",
       "      <td>1</td>\n",
       "      <td>0</td>\n",
       "      <td>1</td>\n",
       "      <td>2006-05-22</td>\n",
       "      <td>1971-10-07</td>\n",
       "      <td>2011-09-16</td>\n",
       "      <td>39.942505</td>\n",
       "      <td>5.319644</td>\n",
       "    </tr>\n",
       "    <tr>\n",
       "      <th>2</th>\n",
       "      <td>EMPLOYEE NEW HIRE;MISCELLANEOUS DATA CHANGE;MI...</td>\n",
       "      <td>NaN</td>\n",
       "      <td>NaN</td>\n",
       "      <td>NaN</td>\n",
       "      <td>NaN</td>\n",
       "      <td>NaN</td>\n",
       "      <td>NaN</td>\n",
       "      <td>NaN</td>\n",
       "      <td>NaN</td>\n",
       "      <td>NaN</td>\n",
       "      <td>...</td>\n",
       "      <td>NaN</td>\n",
       "      <td>NaN</td>\n",
       "      <td>1</td>\n",
       "      <td>0</td>\n",
       "      <td>1</td>\n",
       "      <td>2014-06-09</td>\n",
       "      <td>1989-08-31</td>\n",
       "      <td>2014-11-21</td>\n",
       "      <td>25.223819</td>\n",
       "      <td>0.451745</td>\n",
       "    </tr>\n",
       "    <tr>\n",
       "      <th>3</th>\n",
       "      <td>TRANSFER W/O JOB NUMBER CHANGE;TRANSFER W/O JO...</td>\n",
       "      <td>MISCELLANEOUS DATA CHANGE;TRANSFER W/O JOB NUM...</td>\n",
       "      <td>TRANSFER W/O JOB NUMBER CHANGE;TRANSFER W/O JO...</td>\n",
       "      <td>SALARY PLAN CHANGE;TRANSFER W/O JOB NUMBER CHA...</td>\n",
       "      <td>ORGANIZATIONAL CHANGES;INCENTIVE;MERIT</td>\n",
       "      <td>INCENTIVE;MERIT</td>\n",
       "      <td>MERIT</td>\n",
       "      <td>MERIT</td>\n",
       "      <td>TRANSFER W/O JOB NUMBER CHANGE;MERIT;SP/DEP GA...</td>\n",
       "      <td>PROMOTION;MERIT;MISCELLANEOUS DATA CHANGE</td>\n",
       "      <td>...</td>\n",
       "      <td>Y</td>\n",
       "      <td>N</td>\n",
       "      <td>0</td>\n",
       "      <td>0</td>\n",
       "      <td>0</td>\n",
       "      <td>1984-08-06</td>\n",
       "      <td>1962-10-15</td>\n",
       "      <td>2015-01-01</td>\n",
       "      <td>52.213552</td>\n",
       "      <td>30.403833</td>\n",
       "    </tr>\n",
       "    <tr>\n",
       "      <th>4</th>\n",
       "      <td>TRANSFER W/ JOB NUMBER CHANGE;MERIT;INCENTIVE;...</td>\n",
       "      <td>MERIT;TRANSFER W/ JOB NUMBER CHANGE;MISCELLANE...</td>\n",
       "      <td>MERIT;INCENTIVE</td>\n",
       "      <td>MERIT;INCENTIVE</td>\n",
       "      <td>MERIT;INCENTIVE</td>\n",
       "      <td>MISCELLANEOUS DATA CHANGE;MERIT;TRANSFER W/O J...</td>\n",
       "      <td>MERIT</td>\n",
       "      <td>MERIT;MISCELLANEOUS DATA CHANGE</td>\n",
       "      <td>MERIT</td>\n",
       "      <td>TRANSFER W/O JOB NUMBER CHANGE;MERIT;MISCELLAN...</td>\n",
       "      <td>...</td>\n",
       "      <td>Y</td>\n",
       "      <td>Y</td>\n",
       "      <td>1</td>\n",
       "      <td>0</td>\n",
       "      <td>1</td>\n",
       "      <td>1998-08-03</td>\n",
       "      <td>1971-05-05</td>\n",
       "      <td>2013-06-26</td>\n",
       "      <td>42.143737</td>\n",
       "      <td>14.896646</td>\n",
       "    </tr>\n",
       "  </tbody>\n",
       "</table>\n",
       "<p>5 rows × 190 columns</p>\n",
       "</div>"
      ],
      "text/plain": [
       "                                             ACTRES1  \\\n",
       "0  TRANSFER W/O JOB NUMBER CHANGE;MISCELLANEOUS D...   \n",
       "1                              MERIT;INCENTIVE;MOVED   \n",
       "2  EMPLOYEE NEW HIRE;MISCELLANEOUS DATA CHANGE;MI...   \n",
       "3  TRANSFER W/O JOB NUMBER CHANGE;TRANSFER W/O JO...   \n",
       "4  TRANSFER W/ JOB NUMBER CHANGE;MERIT;INCENTIVE;...   \n",
       "\n",
       "                                            ACTRES10  \\\n",
       "0                                                NaN   \n",
       "1                                                NaN   \n",
       "2                                                NaN   \n",
       "3  MISCELLANEOUS DATA CHANGE;TRANSFER W/O JOB NUM...   \n",
       "4  MERIT;TRANSFER W/ JOB NUMBER CHANGE;MISCELLANE...   \n",
       "\n",
       "                                             ACTRES2  \\\n",
       "0                                  EMPLOYEE NEW HIRE   \n",
       "1  MERIT;INCENTIVE;MISCELLANEOUS DATA CHANGE;JOB ...   \n",
       "2                                                NaN   \n",
       "3  TRANSFER W/O JOB NUMBER CHANGE;TRANSFER W/O JO...   \n",
       "4                                    MERIT;INCENTIVE   \n",
       "\n",
       "                                             ACTRES3  \\\n",
       "0                                                NaN   \n",
       "1                         BENEFITS TRANSACTION;MERIT   \n",
       "2                                                NaN   \n",
       "3  SALARY PLAN CHANGE;TRANSFER W/O JOB NUMBER CHA...   \n",
       "4                                    MERIT;INCENTIVE   \n",
       "\n",
       "                                             ACTRES4  \\\n",
       "0                                                NaN   \n",
       "1  MISCELLANEOUS DATA CHANGE;MERIT;JOB CODE CHANG...   \n",
       "2                                                NaN   \n",
       "3             ORGANIZATIONAL CHANGES;INCENTIVE;MERIT   \n",
       "4                                    MERIT;INCENTIVE   \n",
       "\n",
       "                                             ACTRES5  \\\n",
       "0                                                NaN   \n",
       "1                           REHIRE;SALARY ADJUSTMENT   \n",
       "2                                                NaN   \n",
       "3                                    INCENTIVE;MERIT   \n",
       "4  MISCELLANEOUS DATA CHANGE;MERIT;TRANSFER W/O J...   \n",
       "\n",
       "                              ACTRES6                          ACTRES7  \\\n",
       "0                                 NaN                              NaN   \n",
       "1  EMPLOYEE NEW HIRE;RETURN TO SCHOOL                              NaN   \n",
       "2                                 NaN                              NaN   \n",
       "3                               MERIT                            MERIT   \n",
       "4                               MERIT  MERIT;MISCELLANEOUS DATA CHANGE   \n",
       "\n",
       "                                             ACTRES8  \\\n",
       "0                                                NaN   \n",
       "1                                                NaN   \n",
       "2                                                NaN   \n",
       "3  TRANSFER W/O JOB NUMBER CHANGE;MERIT;SP/DEP GA...   \n",
       "4                                              MERIT   \n",
       "\n",
       "                                             ACTRES9     ...       HAVE_INS  \\\n",
       "0                                                NaN     ...              Y   \n",
       "1                                                NaN     ...            NaN   \n",
       "2                                                NaN     ...            NaN   \n",
       "3          PROMOTION;MERIT;MISCELLANEOUS DATA CHANGE     ...              Y   \n",
       "4  TRANSFER W/O JOB NUMBER CHANGE;MERIT;MISCELLAN...     ...              Y   \n",
       "\n",
       "   HAVE_DEP  status  retired former hire_tstmp  birth_tstmp term_tstmp  \\\n",
       "0         N       0        0      0 2013-07-22   1988-01-03 2015-01-01   \n",
       "1       NaN       1        0      1 2006-05-22   1971-10-07 2011-09-16   \n",
       "2       NaN       1        0      1 2014-06-09   1989-08-31 2014-11-21   \n",
       "3         N       0        0      0 1984-08-06   1962-10-15 2015-01-01   \n",
       "4         Y       1        0      1 1998-08-03   1971-05-05 2013-06-26   \n",
       "\n",
       "   Age_years Tenure_years  \n",
       "0  26.995209     1.445585  \n",
       "1  39.942505     5.319644  \n",
       "2  25.223819     0.451745  \n",
       "3  52.213552    30.403833  \n",
       "4  42.143737    14.896646  \n",
       "\n",
       "[5 rows x 190 columns]"
      ]
     },
     "execution_count": 102,
     "metadata": {},
     "output_type": "execute_result"
    }
   ],
   "source": [
    "em2002.head()"
   ]
  },
  {
   "cell_type": "code",
   "execution_count": 103,
   "metadata": {
    "collapsed": false
   },
   "outputs": [
    {
     "data": {
      "text/plain": [
       "True"
      ]
     },
     "execution_count": 103,
     "metadata": {},
     "output_type": "execute_result"
    }
   ],
   "source": [
    "# Reset the index to be unique\n",
    "em2002.index = np.arange(0,len(em2002))\n",
    "em2002.index.is_unique"
   ]
  },
  {
   "cell_type": "markdown",
   "metadata": {},
   "source": [
    "# GENERATE a sample dataset based upon the\n",
    "'employees_after2001_raw.csv' file\n",
    "\n",
    ",sep=';',columns=base_columns_to_save,index=False)NOW use this as my generic input file\n"
   ]
  },
  {
   "cell_type": "code",
   "execution_count": null,
   "metadata": {
    "collapsed": false
   },
   "outputs": [],
   "source": [
    "sample = pd.read_csv('employees_after2001_raw.csv',nrows=300)\n",
    "sample.head()"
   ]
  },
  {
   "cell_type": "markdown",
   "metadata": {},
   "source": [
    "## Now build my preprocessing_pipeline from here\n",
    "1. start with a minimal set of columns:\n",
    "    *  minimal_input_col_list = ['KEY','HIRE_DT','BIRTHDATE','SAL1','HAVE_INS','HAVE_DEP','EMPL_TYPE','SEX',                 'MAX_RT_ANNUAL','MIN_RT_ANNUAL','PERF1','MERIT1','BOX1','INTERN','HUBIND']\n",
    "2. calculate Age_years & Tenure_years for each --> FeatureUnion\n",
    "3. "
   ]
  },
  {
   "cell_type": "code",
   "execution_count": 10,
   "metadata": {
    "collapsed": true
   },
   "outputs": [],
   "source": [
    "minimal_cols_to_keep = ['KEY','HIRE_DT','BIRTHDATE','TERMINATION_DT','SAL1','MERIT1','PERF1','BOX1','SEX','HAVE_INS','HAVE_DEP','former','retired']"
   ]
  },
  {
   "cell_type": "code",
   "execution_count": 11,
   "metadata": {
    "collapsed": false
   },
   "outputs": [
    {
     "data": {
      "text/html": [
       "<h1>Initial Analysis</h1>"
      ],
      "text/plain": [
       "<IPython.core.display.HTML object>"
      ]
     },
     "metadata": {},
     "output_type": "display_data"
    },
    {
     "data": {
      "text/html": [
       "<h2>Training data</h2>"
      ],
      "text/plain": [
       "<IPython.core.display.HTML object>"
      ]
     },
     "metadata": {},
     "output_type": "display_data"
    },
    {
     "data": {
      "text/html": [
       "<br>Shape of the data: 107412 rows 13 columns</br>"
      ],
      "text/plain": [
       "<IPython.core.display.HTML object>"
      ]
     },
     "metadata": {},
     "output_type": "display_data"
    },
    {
     "data": {
      "text/html": [
       "<br>Rows to scan: 10000</br>"
      ],
      "text/plain": [
       "<IPython.core.display.HTML object>"
      ]
     },
     "metadata": {},
     "output_type": "display_data"
    },
    {
     "data": {
      "text/html": [
       "<h3>Percentage of missing values</h3>"
      ],
      "text/plain": [
       "<IPython.core.display.HTML object>"
      ]
     },
     "metadata": {},
     "output_type": "display_data"
    },
    {
     "data": {
      "text/html": [
       "<table border=\"1\" class=\"dataframe\">\n",
       "  <thead>\n",
       "    <tr style=\"text-align: right;\">\n",
       "      <th></th>\n",
       "      <th>Percentage</th>\n",
       "    </tr>\n",
       "  </thead>\n",
       "  <tbody>\n",
       "    <tr>\n",
       "      <th>HAVE_DEP</th>\n",
       "      <td>0.390</td>\n",
       "    </tr>\n",
       "    <tr>\n",
       "      <th>HAVE_INS</th>\n",
       "      <td>0.390</td>\n",
       "    </tr>\n",
       "    <tr>\n",
       "      <th>BOX1</th>\n",
       "      <td>0.186</td>\n",
       "    </tr>\n",
       "    <tr>\n",
       "      <th>MERIT1</th>\n",
       "      <td>0.111</td>\n",
       "    </tr>\n",
       "    <tr>\n",
       "      <th>PERF1</th>\n",
       "      <td>0.111</td>\n",
       "    </tr>\n",
       "  </tbody>\n",
       "</table>"
      ],
      "text/plain": [
       "<IPython.core.display.HTML object>"
      ]
     },
     "metadata": {},
     "output_type": "display_data"
    },
    {
     "data": {
      "text/html": [
       "<h3>Description of numeric columns (6 columns in all)</h3>"
      ],
      "text/plain": [
       "<IPython.core.display.HTML object>"
      ]
     },
     "metadata": {},
     "output_type": "display_data"
    },
    {
     "data": {
      "text/html": [
       "<table border=\"1\" class=\"dataframe\">\n",
       "  <thead>\n",
       "    <tr style=\"text-align: right;\">\n",
       "      <th></th>\n",
       "      <th>KEY</th>\n",
       "      <th>SAL1</th>\n",
       "      <th>MERIT1</th>\n",
       "      <th>PERF1</th>\n",
       "      <th>former</th>\n",
       "      <th>retired</th>\n",
       "    </tr>\n",
       "  </thead>\n",
       "  <tbody>\n",
       "    <tr>\n",
       "      <th>count</th>\n",
       "      <td>1.000000e+04</td>\n",
       "      <td>10000.000000</td>\n",
       "      <td>8890.000000</td>\n",
       "      <td>8890.000000</td>\n",
       "      <td>10000.000000</td>\n",
       "      <td>10000.00000</td>\n",
       "    </tr>\n",
       "    <tr>\n",
       "      <th>mean</th>\n",
       "      <td>4.972573e+14</td>\n",
       "      <td>54931.234595</td>\n",
       "      <td>1476.591013</td>\n",
       "      <td>1881.181842</td>\n",
       "      <td>0.363700</td>\n",
       "      <td>0.11760</td>\n",
       "    </tr>\n",
       "    <tr>\n",
       "      <th>std</th>\n",
       "      <td>2.875187e+14</td>\n",
       "      <td>32436.706971</td>\n",
       "      <td>1993.899272</td>\n",
       "      <td>1876.898622</td>\n",
       "      <td>0.481088</td>\n",
       "      <td>0.32215</td>\n",
       "    </tr>\n",
       "    <tr>\n",
       "      <th>min</th>\n",
       "      <td>1.362851e+10</td>\n",
       "      <td>0.000000</td>\n",
       "      <td>-45000.000000</td>\n",
       "      <td>0.000000</td>\n",
       "      <td>0.000000</td>\n",
       "      <td>0.00000</td>\n",
       "    </tr>\n",
       "    <tr>\n",
       "      <th>25%</th>\n",
       "      <td>2.489202e+14</td>\n",
       "      <td>31191.752500</td>\n",
       "      <td>458.330000</td>\n",
       "      <td>462.727500</td>\n",
       "      <td>0.000000</td>\n",
       "      <td>0.00000</td>\n",
       "    </tr>\n",
       "    <tr>\n",
       "      <th>50%</th>\n",
       "      <td>4.964760e+14</td>\n",
       "      <td>46657.645000</td>\n",
       "      <td>1254.965000</td>\n",
       "      <td>1491.250000</td>\n",
       "      <td>0.000000</td>\n",
       "      <td>0.00000</td>\n",
       "    </tr>\n",
       "    <tr>\n",
       "      <th>75%</th>\n",
       "      <td>7.469445e+14</td>\n",
       "      <td>72957.942500</td>\n",
       "      <td>2126.122500</td>\n",
       "      <td>2824.972500</td>\n",
       "      <td>1.000000</td>\n",
       "      <td>0.00000</td>\n",
       "    </tr>\n",
       "    <tr>\n",
       "      <th>max</th>\n",
       "      <td>9.999103e+14</td>\n",
       "      <td>725000.000000</td>\n",
       "      <td>29400.000000</td>\n",
       "      <td>50631.720000</td>\n",
       "      <td>1.000000</td>\n",
       "      <td>1.00000</td>\n",
       "    </tr>\n",
       "  </tbody>\n",
       "</table>"
      ],
      "text/plain": [
       "<IPython.core.display.HTML object>"
      ]
     },
     "metadata": {},
     "output_type": "display_data"
    },
    {
     "name": "stdout",
     "output_type": "stream",
     "text": [
      "\n"
     ]
    },
    {
     "data": {
      "text/html": [
       "<h3>Description of categorical columns</h3>"
      ],
      "text/plain": [
       "<IPython.core.display.HTML object>"
      ]
     },
     "metadata": {},
     "output_type": "display_data"
    },
    {
     "data": {
      "text/html": [
       "<table border=\"1\" class=\"dataframe\">\n",
       "  <thead>\n",
       "    <tr style=\"text-align: right;\">\n",
       "      <th></th>\n",
       "      <th></th>\n",
       "      <th>counts</th>\n",
       "    </tr>\n",
       "    <tr>\n",
       "      <th>column</th>\n",
       "      <th>category</th>\n",
       "      <th></th>\n",
       "    </tr>\n",
       "  </thead>\n",
       "  <tbody>\n",
       "    <tr>\n",
       "      <th>BIRTHDATE</th>\n",
       "      <th>BIRTHDATE</th>\n",
       "      <td>Too many categories</td>\n",
       "    </tr>\n",
       "    <tr>\n",
       "      <th rowspan=\"4\" valign=\"top\">BOX1</th>\n",
       "      <th>S</th>\n",
       "      <td>6118</td>\n",
       "    </tr>\n",
       "    <tr>\n",
       "      <th>NaN</th>\n",
       "      <td>1864</td>\n",
       "    </tr>\n",
       "    <tr>\n",
       "      <th>H</th>\n",
       "      <td>1400</td>\n",
       "    </tr>\n",
       "    <tr>\n",
       "      <th>L</th>\n",
       "      <td>618</td>\n",
       "    </tr>\n",
       "    <tr>\n",
       "      <th rowspan=\"3\" valign=\"top\">HAVE_DEP</th>\n",
       "      <th>NaN</th>\n",
       "      <td>3897</td>\n",
       "    </tr>\n",
       "    <tr>\n",
       "      <th>Y</th>\n",
       "      <td>3596</td>\n",
       "    </tr>\n",
       "    <tr>\n",
       "      <th>N</th>\n",
       "      <td>2507</td>\n",
       "    </tr>\n",
       "    <tr>\n",
       "      <th rowspan=\"2\" valign=\"top\">HAVE_INS</th>\n",
       "      <th>Y</th>\n",
       "      <td>6103</td>\n",
       "    </tr>\n",
       "    <tr>\n",
       "      <th>NaN</th>\n",
       "      <td>3897</td>\n",
       "    </tr>\n",
       "    <tr>\n",
       "      <th>HIRE_DT</th>\n",
       "      <th>HIRE_DT</th>\n",
       "      <td>Too many categories</td>\n",
       "    </tr>\n",
       "    <tr>\n",
       "      <th rowspan=\"3\" valign=\"top\">SEX</th>\n",
       "      <th>F</th>\n",
       "      <td>6188</td>\n",
       "    </tr>\n",
       "    <tr>\n",
       "      <th>M</th>\n",
       "      <td>3812</td>\n",
       "    </tr>\n",
       "    <tr>\n",
       "      <th>NaN</th>\n",
       "      <td>0</td>\n",
       "    </tr>\n",
       "    <tr>\n",
       "      <th>TERMINATION_DT</th>\n",
       "      <th>TERMINATION_DT</th>\n",
       "      <td>Too many categories</td>\n",
       "    </tr>\n",
       "  </tbody>\n",
       "</table>"
      ],
      "text/plain": [
       "<IPython.core.display.HTML object>"
      ]
     },
     "metadata": {},
     "output_type": "display_data"
    },
    {
     "data": {
      "text/html": [
       "<h2>Potential issues</h2>"
      ],
      "text/plain": [
       "<IPython.core.display.HTML object>"
      ]
     },
     "metadata": {},
     "output_type": "display_data"
    },
    {
     "data": {
      "text/html": [
       "<br>Columns with all missing values:</br>"
      ],
      "text/plain": [
       "<IPython.core.display.HTML object>"
      ]
     },
     "metadata": {},
     "output_type": "display_data"
    },
    {
     "name": "stdout",
     "output_type": "stream",
     "text": [
      "[]\n"
     ]
    },
    {
     "data": {
      "text/html": [
       "<br>Columns with only one value:</br>"
      ],
      "text/plain": [
       "<IPython.core.display.HTML object>"
      ]
     },
     "metadata": {},
     "output_type": "display_data"
    },
    {
     "name": "stdout",
     "output_type": "stream",
     "text": [
      "['HAVE_INS']\n"
     ]
    },
    {
     "data": {
      "text/html": [
       "<br>Columns with perfect collinearity problem</br>"
      ],
      "text/plain": [
       "<IPython.core.display.HTML object>"
      ]
     },
     "metadata": {},
     "output_type": "display_data"
    },
    {
     "name": "stdout",
     "output_type": "stream",
     "text": [
      "['MERIT1_d', 'PERF1_d']\n"
     ]
    }
   ],
   "source": [
    "#minimal_input_col_list = ['KEY','HIRE_DT','BIRTHDATE','SAL1','HAVE_INS','HAVE_DEP','EMPL_TYPE','SEX',\n",
    "                          #'MAX_RT_ANNUAL','MIN_RT_ANNUAL','PERF1','MERIT1','BOX1','INTERN','HUBIND']\n",
    "br.get_initial_analysis(em2[minimal_cols_to_keep])"
   ]
  },
  {
   "cell_type": "code",
   "execution_count": null,
   "metadata": {
    "collapsed": true
   },
   "outputs": [],
   "source": [
    "class ConvertToDict(BaseEstimator, TransformerMixin):\n",
    "#class to convert a dollar amount to a float\n",
    "    def __init__(self,columns_to_fix=[],convert_dict={'Y':1,'N':0}):\n",
    "        \"\"\"\n",
    "        A class that can be inserted into a pipeline\n",
    "    \n",
    "        This will convert the list of columns that are input to this class\n",
    "        \n",
    "        Parameters\n",
    "        ----------\n",
    "        X: Pandas dataframe\n",
    "        \n",
    "        columns_to_fix: a list of columns to convert in the input DF.\n",
    "        convert_dict: a dictionary of how to convert the input DF; default is Y==1,N==0\n",
    "        \n",
    "        returns a pandas dataframe\n",
    "        \"\"\"\n",
    "        self.columns_to_fix = columns_to_fix\n",
    "        self.convert_dict = convert_dict\n",
    "        \n",
    "    def fit(self, X, y=None):\n",
    "        #my_convert_dict = {'Y':1,'N': 0}\n",
    "        if type(self.columns_to_fix) == 'str':\n",
    "            self.columns_to_fix = [self.columns_to_fix]\n",
    "        #if len(self.columns)==1: # deal with case where there is only one element\n",
    "        #    #self.columns_to_fix = self.columns_to_fix[0]\n",
    "        #    # push the dict to a dict of a dict\n",
    "        #    my_convert_dict[self.columns_to_fix[0]]=self.convert_dict\n",
    "        #else:\n",
    "        #    my_convert_dict = self.convert_dict\n",
    "        else:\n",
    "            self.columns_to_fix = self.columns_to_fix    \n",
    "        self.convert_dict = self.convert_dict\n",
    "        return self\n",
    "        \n",
    "    \n",
    "    def transform(self, X, y=None):\n",
    "        X_temp = X.copy()\n",
    "\n",
    "        X_temp[self.columns_to_fix] = X[self.columns_to_fix].replace(self.convert_dict)\n",
    "        \n",
    "        return X_temp"
   ]
  },
  {
   "cell_type": "code",
   "execution_count": 104,
   "metadata": {
    "collapsed": false,
    "scrolled": true
   },
   "outputs": [],
   "source": [
    "##  calculate Age_years and Tenure_years\n",
    "em2002[['hire_tstmp','birth_tstmp','term_tstmp']] = em2002[['HIRE_DT','BIRTHDATE','TERMINATION_DT']].applymap(lambda x: pd.to_datetime(datetime.strptime(x,'%d%b%Y')))"
   ]
  },
  {
   "cell_type": "code",
   "execution_count": 16,
   "metadata": {
    "collapsed": true
   },
   "outputs": [],
   "source": [
    "def calculate_years(timestamp1,timestamp2,days_in_year =365.25):\n",
    "    number_of_years = (timestamp2 - timestamp1).days/days_in_year\n",
    "    return number_of_years\n"
   ]
  },
  {
   "cell_type": "code",
   "execution_count": 105,
   "metadata": {
    "collapsed": false
   },
   "outputs": [],
   "source": [
    "em2002['Age_years']=em2002[['birth_tstmp','term_tstmp']].apply(lambda x: calculate_years(x[0],x[1]),axis=1)\n",
    "em2002['Tenure_years']=em2002[['hire_tstmp','term_tstmp']].apply(lambda x: calculate_years(x[0],x[1]),axis=1)"
   ]
  },
  {
   "cell_type": "markdown",
   "metadata": {},
   "source": [
    "### now deal with the columns used for modeling here\n"
   ]
  },
  {
   "cell_type": "code",
   "execution_count": 18,
   "metadata": {
    "collapsed": true
   },
   "outputs": [],
   "source": [
    "columns_for_modeling = ['Age_years','Tenure_years','SAL1','MERIT1','PERF1','BOX1','SEX','HAVE_INS','HAVE_DEP']\n"
   ]
  },
  {
   "cell_type": "code",
   "execution_count": 20,
   "metadata": {
    "collapsed": true
   },
   "outputs": [],
   "source": [
    "from sklearn import cross_validation"
   ]
  },
  {
   "cell_type": "code",
   "execution_count": 106,
   "metadata": {
    "collapsed": false
   },
   "outputs": [
    {
     "name": "stdout",
     "output_type": "stream",
     "text": [
      "Starting with subest of 134266 employees.\n",
      "Evaluation set has 26854 employees; training set has 107412 employees.\n"
     ]
    }
   ],
   "source": [
    "# repeat the split\n",
    "# break into evaluation and build sets\n",
    "print \"Starting with subest of {0} employees.\".format(len(em2002))\n",
    "eval_fraction = 0.20\n",
    "em2, em2eval = cross_validation.train_test_split(em2002,test_size=eval_fraction)\n",
    "print \"Evaluation set has {0} employees; training set has {1} employees.\".format(len(em2eval),len(em2))"
   ]
  },
  {
   "cell_type": "code",
   "execution_count": 107,
   "metadata": {
    "collapsed": true
   },
   "outputs": [],
   "source": [
    "em2_tgt_retired = em2.retired\n",
    "em2_tgt_former = em2.former\n",
    "eval_tgt_retired = em2eval.retired\n",
    "eval_tgt_former = em2eval.former"
   ]
  },
  {
   "cell_type": "markdown",
   "metadata": {},
   "source": [
    "### in an __ad hoc__ way convert these columns based upon our previous 'rules'"
   ]
  },
  {
   "cell_type": "code",
   "execution_count": 23,
   "metadata": {
    "collapsed": true
   },
   "outputs": [],
   "source": [
    "other_required_cols = ['hire_tstmp','term_tstmp','birth_tstmp','former','retired']\n",
    "cols_for_model_prep = []\n",
    "cols_for_model_prep+=other_required_cols\n",
    "cols_for_model_prep+=columns_for_modeling\n"
   ]
  },
  {
   "cell_type": "code",
   "execution_count": 24,
   "metadata": {
    "collapsed": false
   },
   "outputs": [],
   "source": [
    "# replace the Y with 1 and N with 0, M with 1 and F with 0\n",
    "def apply_preprocess_small(df,cols_to_use =[]):\n",
    "    empl=df[cols_to_use].copy()\n",
    "    #all_cols = empl.columns.tolist()\n",
    "    empl['SEX'].replace({'M':1,'F':0},inplace=True)\n",
    "    empl[['HAVE_INS','HAVE_DEP']]=empl[['HAVE_INS','HAVE_DEP']].replace({'Y':1,'N':0}).copy()\n",
    "    empl['BOX1']=empl['BOX1'].replace({'H':3,'S':2,'L':1}).copy()\n",
    "    \n",
    "    # now deal with ints\n",
    "    \n",
    "    # fix the dollar amounts\n",
    "    min_sal1 = 17621.76 #(based upon training set I have: 5 %tile cut off)\n",
    "    min_min_rt_ann = 17900. # same as above\n",
    "    min_max_rt_ann = 33155.70\n",
    "\n",
    "    max_max_rt_ann = 133068.91\n",
    "    min_merit1 = 0.0\n",
    "    min_perf1 = 0.0\n",
    "    fix_min_outlier_col_dict = {'SAL1': min_sal1, 'MERIT1': min_merit1, 'PERF1': min_perf1}\n",
    "    fix_max_outlier_col_dict = {'MAX_RT_ANNUAL': max_max_rt_ann}\n",
    "\n",
    "    # replae these values\n",
    "    for key,value in fix_min_outlier_col_dict.iteritems():\n",
    "        idx_to_replace = empl[empl[key]<value].index\n",
    "        empl.loc[idx_to_replace,key]=value\n",
    "    \n",
    "    # now fill in missing with zero\n",
    "    empl.fillna(0,inplace=True)\n",
    "        \n",
    "        \n",
    "    return empl"
   ]
  },
  {
   "cell_type": "code",
   "execution_count": 108,
   "metadata": {
    "collapsed": false
   },
   "outputs": [
    {
     "data": {
      "text/html": [
       "<div>\n",
       "<table border=\"1\" class=\"dataframe\">\n",
       "  <thead>\n",
       "    <tr style=\"text-align: right;\">\n",
       "      <th></th>\n",
       "      <th>hire_tstmp</th>\n",
       "      <th>term_tstmp</th>\n",
       "      <th>birth_tstmp</th>\n",
       "      <th>former</th>\n",
       "      <th>retired</th>\n",
       "      <th>Age_years</th>\n",
       "      <th>Tenure_years</th>\n",
       "      <th>SAL1</th>\n",
       "      <th>MERIT1</th>\n",
       "      <th>PERF1</th>\n",
       "      <th>BOX1</th>\n",
       "      <th>SEX</th>\n",
       "      <th>HAVE_INS</th>\n",
       "      <th>HAVE_DEP</th>\n",
       "    </tr>\n",
       "  </thead>\n",
       "  <tbody>\n",
       "    <tr>\n",
       "      <th>94575</th>\n",
       "      <td>2014-10-13</td>\n",
       "      <td>2015-01-01</td>\n",
       "      <td>1971-06-09</td>\n",
       "      <td>0</td>\n",
       "      <td>0</td>\n",
       "      <td>43.564682</td>\n",
       "      <td>0.219028</td>\n",
       "      <td>75000.00</td>\n",
       "      <td>NaN</td>\n",
       "      <td>NaN</td>\n",
       "      <td>NaN</td>\n",
       "      <td>F</td>\n",
       "      <td>Y</td>\n",
       "      <td>N</td>\n",
       "    </tr>\n",
       "    <tr>\n",
       "      <th>52543</th>\n",
       "      <td>2010-12-06</td>\n",
       "      <td>2015-01-01</td>\n",
       "      <td>1991-10-05</td>\n",
       "      <td>0</td>\n",
       "      <td>0</td>\n",
       "      <td>23.241615</td>\n",
       "      <td>4.071184</td>\n",
       "      <td>27681.98</td>\n",
       "      <td>1305.63</td>\n",
       "      <td>1068.24</td>\n",
       "      <td>S</td>\n",
       "      <td>M</td>\n",
       "      <td>NaN</td>\n",
       "      <td>NaN</td>\n",
       "    </tr>\n",
       "    <tr>\n",
       "      <th>23213</th>\n",
       "      <td>2004-05-10</td>\n",
       "      <td>2015-01-01</td>\n",
       "      <td>1955-03-04</td>\n",
       "      <td>0</td>\n",
       "      <td>0</td>\n",
       "      <td>59.830253</td>\n",
       "      <td>10.644764</td>\n",
       "      <td>41361.64</td>\n",
       "      <td>1263.10</td>\n",
       "      <td>1543.79</td>\n",
       "      <td>S</td>\n",
       "      <td>F</td>\n",
       "      <td>Y</td>\n",
       "      <td>N</td>\n",
       "    </tr>\n",
       "    <tr>\n",
       "      <th>114331</th>\n",
       "      <td>1999-08-23</td>\n",
       "      <td>2003-10-31</td>\n",
       "      <td>1975-05-16</td>\n",
       "      <td>1</td>\n",
       "      <td>0</td>\n",
       "      <td>28.459959</td>\n",
       "      <td>4.188912</td>\n",
       "      <td>51682.64</td>\n",
       "      <td>0.00</td>\n",
       "      <td>0.00</td>\n",
       "      <td>NaN</td>\n",
       "      <td>M</td>\n",
       "      <td>NaN</td>\n",
       "      <td>NaN</td>\n",
       "    </tr>\n",
       "    <tr>\n",
       "      <th>51813</th>\n",
       "      <td>2012-01-23</td>\n",
       "      <td>2014-01-31</td>\n",
       "      <td>1988-09-24</td>\n",
       "      <td>1</td>\n",
       "      <td>0</td>\n",
       "      <td>25.352498</td>\n",
       "      <td>2.023272</td>\n",
       "      <td>28523.45</td>\n",
       "      <td>0.00</td>\n",
       "      <td>0.00</td>\n",
       "      <td>NaN</td>\n",
       "      <td>F</td>\n",
       "      <td>NaN</td>\n",
       "      <td>NaN</td>\n",
       "    </tr>\n",
       "  </tbody>\n",
       "</table>\n",
       "</div>"
      ],
      "text/plain": [
       "       hire_tstmp term_tstmp birth_tstmp  former  retired  Age_years  \\\n",
       "94575  2014-10-13 2015-01-01  1971-06-09       0        0  43.564682   \n",
       "52543  2010-12-06 2015-01-01  1991-10-05       0        0  23.241615   \n",
       "23213  2004-05-10 2015-01-01  1955-03-04       0        0  59.830253   \n",
       "114331 1999-08-23 2003-10-31  1975-05-16       1        0  28.459959   \n",
       "51813  2012-01-23 2014-01-31  1988-09-24       1        0  25.352498   \n",
       "\n",
       "        Tenure_years      SAL1   MERIT1    PERF1 BOX1 SEX HAVE_INS HAVE_DEP  \n",
       "94575       0.219028  75000.00      NaN      NaN  NaN   F        Y        N  \n",
       "52543       4.071184  27681.98  1305.63  1068.24    S   M      NaN      NaN  \n",
       "23213      10.644764  41361.64  1263.10  1543.79    S   F        Y        N  \n",
       "114331      4.188912  51682.64     0.00     0.00  NaN   M      NaN      NaN  \n",
       "51813       2.023272  28523.45     0.00     0.00  NaN   F      NaN      NaN  "
      ]
     },
     "execution_count": 108,
     "metadata": {},
     "output_type": "execute_result"
    }
   ],
   "source": [
    "em2[cols_for_model_prep].head()"
   ]
  },
  {
   "cell_type": "code",
   "execution_count": 109,
   "metadata": {
    "collapsed": true
   },
   "outputs": [],
   "source": [
    "em2mod = apply_preprocess_small(em2,cols_for_model_prep)"
   ]
  },
  {
   "cell_type": "code",
   "execution_count": 110,
   "metadata": {
    "collapsed": false
   },
   "outputs": [
    {
     "data": {
      "text/plain": [
       "(['MERIT1', 'PERF1', 'BOX1', 'HAVE_INS', 'HAVE_DEP'], [])"
      ]
     },
     "execution_count": 110,
     "metadata": {},
     "output_type": "execute_result"
    }
   ],
   "source": [
    "br.get_columns_with_nulls(em2[cols_for_model_prep]),br.get_columns_with_nulls(em2mod)"
   ]
  },
  {
   "cell_type": "markdown",
   "metadata": {},
   "source": [
    "# now build the time-kfolds"
   ]
  },
  {
   "cell_type": "code",
   "execution_count": 111,
   "metadata": {
    "collapsed": false
   },
   "outputs": [
    {
     "name": "stdout",
     "output_type": "stream",
     "text": [
      "14\n"
     ]
    },
    {
     "data": {
      "text/plain": [
       "['2002-01-01',\n",
       " '2003-01-01',\n",
       " '2004-01-01',\n",
       " '2005-01-01',\n",
       " '2006-01-01',\n",
       " '2007-01-01',\n",
       " '2008-01-01',\n",
       " '2009-01-01',\n",
       " '2010-01-01',\n",
       " '2011-01-01',\n",
       " '2012-01-01',\n",
       " '2013-01-01',\n",
       " '2014-01-01',\n",
       " '2015-01-01']"
      ]
     },
     "execution_count": 111,
     "metadata": {},
     "output_type": "execute_result"
    }
   ],
   "source": [
    "# define the date range\n",
    "full_date_range = [str(a)+'-01-01' for a in np.arange(2002,2016)]\n",
    "print len(full_date_range)\n",
    "full_date_range"
   ]
  },
  {
   "cell_type": "code",
   "execution_count": 53,
   "metadata": {
    "collapsed": true
   },
   "outputs": [],
   "source": [
    "import itertools\n",
    "def create_temporal_kfolds(dates_df,date_range,time_delta):\n",
    "    min_date = pd.to_datetime(date_range[0])\n",
    "    max_date = pd.to_datetime(date_range[-1])\n",
    "    my_index = dates_df[(dates_df.term_tstmp>=min_date)].index\n",
    "    # calculate number of kfolds\n",
    "    date_span_years = np.int(np.round((max_date-min_date).days/365.24,0))\n",
    "    nfolds = date_span_years - time_delta\n",
    "    print date_span_years, time_delta, nfolds, len(my_index)\n",
    "    all_pairs = list(itertools.combinations(date_range,2))\n",
    "    # now filter if difference in time  == time_delta\n",
    "    filtered_pairs = []\n",
    "    for i0,i1 in all_pairs:\n",
    "        if int(i1[:4])-int(i0[:4]) == time_delta:\n",
    "            filtered_pairs.append([i0,i1])\n",
    "            #print i0,i1\n",
    "    print len(filtered_pairs)\n",
    "    # now process each of these filtered pairs\n",
    "    kf = []\n",
    "    for j0,j1 in filtered_pairs: # omit the last one because it has no corresponding partner/endtime\n",
    "        start_date = pd.to_datetime(j0)\n",
    "        end_date = pd.to_datetime(j1)\n",
    "        #print j0,j1#,len(k)\n",
    "        \n",
    "        \n",
    "        kfold_idx = dates_df[(dates_df.term_tstmp >= start_date) & (dates_df.hire_tstmp<start_date)].index.tolist()\n",
    "        after_idx = dates_df[(dates_df.hire_tstmp>=end_date)].index.tolist()\n",
    "        before_idx = list(set(my_index)-set(kfold_idx)-set(after_idx))\n",
    "        #temporal_kfold(dates_df[dates_df.term_tstmp>=min_date],start_date,end_date)\n",
    "        #print \"\\t\",len(kfold_idx), len(after_idx),len(before_idx)\n",
    "        \n",
    "        # combined out of fold\n",
    "        not_kfold_idx = list(set(after_idx).union(set(before_idx)))\n",
    "        \n",
    "        print j0,j1,len(kfold_idx),len(not_kfold_idx)\n",
    "        kf.append([kfold_idx,not_kfold_idx])\n",
    "    \n",
    "    return kf,filtered_pairs"
   ]
  },
  {
   "cell_type": "code",
   "execution_count": 56,
   "metadata": {
    "collapsed": true
   },
   "outputs": [],
   "source": [
    "def define_target_within_x_years(dates_df,df,paired_dates,tfold,n_years,target_col):\n",
    "    print len(tfold)#, paired_dates\n",
    "\n",
    "    df_dict = {}\n",
    "    for i,tf in enumerate(tfold):\n",
    "        start_date = paired_dates[i][0]\n",
    "        end_date = paired_dates[i][1]\n",
    "        #print start_date,end_date,n_years\n",
    "        #altered_fold_df = pd.DataFrame(columns=['fold_mbr','adj_age','adj_tenure','adj_term'])\n",
    "        # if in the fold reset the age to start of fold; define new window of termination\n",
    "        in_fold_idx = tfold[i][0]\n",
    "        # note that \"sex\" is just used to create a value that then gets dummied out\n",
    "        cols_to_copy = ['SEX','Age_years','Tenure_years']\n",
    "        cols_to_copy.append(target_col)\n",
    "        #altered_fold_df= df[['SEX','Age_years','Tenure_years','terminated']].copy()\n",
    "        altered_fold_df = df[cols_to_copy].copy()\n",
    "        # adjust these\n",
    "        altered_fold_df.columns=['fold_mbr','adj_age','adj_tenure','adj_tgt']\n",
    "        altered_fold_df.fold_mbr = 0\n",
    "\n",
    "        ra,rt = reset_years(paired_dates[i],in_fold_idx,dates_df)\n",
    "        altered_fold_df.ix[in_fold_idx]['adj_age']=ra\n",
    "        altered_fold_df.ix[in_fold_idx]['adj_tenure']=rt\n",
    "        new_tgt = (dates_df.ix[in_fold_idx]['term_tstmp']<= end_date).as_matrix().astype(np.int)\n",
    "        # deal with last time-fold specially\n",
    "        if i == len(tfold)-1:\n",
    "            new_tgt = (dates_df.ix[in_fold_idx]['term_tstmp']< end_date).as_matrix().astype(np.int)\n",
    "        #print \"\\t\", len(new_term),sum(new_term)\n",
    "        altered_fold_df.loc[in_fold_idx,'adj_tgt']=new_tgt\n",
    "        altered_fold_df.loc[in_fold_idx,'fold_mbr']=1\n",
    "        df_dict[i]=altered_fold_df\n",
    "    # now append this to a larger panel\n",
    "    tfold_panel = pd.Panel.from_dict(data =df_dict)\n",
    "    return tfold_panel"
   ]
  },
  {
   "cell_type": "code",
   "execution_count": 31,
   "metadata": {
    "collapsed": true
   },
   "outputs": [],
   "source": [
    "def reset_years(paired_times,indices,dates_df,cols_to_alter = ['Age_years','Tenure_years']):\n",
    "    # calc the Age at beginnning of time period\n",
    "    ## now calculate age at hire\n",
    "    reset_age_tdelta = pd.to_datetime(paired_times[0])-dates_df['birth_tstmp']#)/np.timedelta64(1,'D')\n",
    "    reset_tenure_tdelta = pd.to_datetime(paired_times[0])-dates_df['hire_tstmp']#)/np.timedelta64(1,'D')\n",
    "    # convert to days, months or years\n",
    "    reset_age = reset_age_tdelta/np.timedelta64(1,'Y')\n",
    "    reset_tenure = reset_tenure_tdelta/np.timedelta64(1,'Y')\n",
    "    # look at terminated or not\n",
    "    #empl_df['terminated']= 0\n",
    "    \n",
    "    \n",
    "    return reset_age,reset_tenure\n"
   ]
  },
  {
   "cell_type": "code",
   "execution_count": 89,
   "metadata": {
    "collapsed": true
   },
   "outputs": [],
   "source": [
    "def reset_years2(paired_times,indices,dates_df,cols_to_alter = ['Age_years','Tenure_years']):\n",
    "    # calc the Age at beginnning of time period\n",
    "    ## now calculate age at hire\n",
    "    reset_age_tdelta = pd.to_datetime(paired_times[0])-dates_df['birth_tstmp']#)/np.timedelta64(1,'D')\n",
    "    reset_tenure_tdelta = pd.to_datetime(paired_times[0])-dates_df['hire_tstmp']#)/np.timedelta64(1,'D')\n",
    "    # convert to days, months or years\n",
    "    reset_age = reset_age_tdelta/np.timedelta64(1,'Y')\n",
    "    reset_tenure = reset_tenure_tdelta/np.timedelta64(1,'Y')\n",
    "    # look at terminated or not\n",
    "    #empl_df['terminated']= 0\n",
    "    # push these as a data frame so I can merge\n",
    "    adj_times = pd.DataFrame()\n",
    "    adj_times['adj_age']=reset_age\n",
    "    adj_times['adj_tenure']=reset_tenure\n",
    "    \n",
    "    \n",
    "    \n",
    "    return adj_times\n"
   ]
  },
  {
   "cell_type": "code",
   "execution_count": null,
   "metadata": {
    "collapsed": true
   },
   "outputs": [],
   "source": []
  },
  {
   "cell_type": "code",
   "execution_count": 51,
   "metadata": {
    "collapsed": false
   },
   "outputs": [
    {
     "name": "stdout",
     "output_type": "stream",
     "text": [
      "0 [62578, 39104]\n",
      "1 [60607, 39981]\n",
      "2 [57337, 41891]\n",
      "3 [54424, 43883]\n",
      "4 [53157, 44707]\n",
      "5 [52931, 44509]\n",
      "6 [52417, 43954]\n",
      "7 [53019, 42365]\n",
      "8 [52426, 41945]\n"
     ]
    }
   ],
   "source": [
    "for i in xrange(0,len(yr_tfolds)):\n",
    "    print i, [len(a) for a in yr_tfolds[i]]#len(yr_tfolds[0])"
   ]
  },
  {
   "cell_type": "code",
   "execution_count": 35,
   "metadata": {
    "collapsed": false
   },
   "outputs": [
    {
     "name": "stdout",
     "output_type": "stream",
     "text": [
      "13 5 8 107412\n",
      "9\n",
      "2002-01-01 2007-01-01 62578 39104\n",
      "2003-01-01 2008-01-01 60607 39981\n",
      "2004-01-01 2009-01-01 57337 41891\n",
      "2005-01-01 2010-01-01 54424 43883\n",
      "2006-01-01 2011-01-01 53157 44707\n",
      "2007-01-01 2012-01-01 52931 44509\n",
      "2008-01-01 2013-01-01 52417 43954\n",
      "2009-01-01 2014-01-01 53019 42365\n",
      "2010-01-01 2015-01-01 52426 41945\n"
     ]
    }
   ],
   "source": [
    "yr_tfolds,yr_times = create_temporal_kfolds(em2mod[default_tstmps],full_date_range,5)"
   ]
  },
  {
   "cell_type": "code",
   "execution_count": 54,
   "metadata": {
    "collapsed": false
   },
   "outputs": [
    {
     "name": "stdout",
     "output_type": "stream",
     "text": [
      "13 5 8 107412\n",
      "9\n",
      "2002-01-01 2007-01-01 62578 39104\n",
      "2003-01-01 2008-01-01 60607 39981\n",
      "2004-01-01 2009-01-01 57337 41891\n",
      "2005-01-01 2010-01-01 54424 43883\n",
      "2006-01-01 2011-01-01 53157 44707\n",
      "2007-01-01 2012-01-01 52931 44509\n",
      "2008-01-01 2013-01-01 52417 43954\n",
      "2009-01-01 2014-01-01 53019 42365\n",
      "2010-01-01 2015-01-01 52426 41945\n"
     ]
    }
   ],
   "source": [
    "yr_tfolds2,yr_times2 = create_temporal_kfolds(em2mod[default_tstmps],full_date_range,5)"
   ]
  },
  {
   "cell_type": "code",
   "execution_count": 59,
   "metadata": {
    "collapsed": true
   },
   "outputs": [],
   "source": [
    "ra,rt = reset_years(yr_times[0],yr_tfolds[0][0],em2mod[default_tstmps])"
   ]
  },
  {
   "cell_type": "code",
   "execution_count": 90,
   "metadata": {
    "collapsed": false
   },
   "outputs": [
    {
     "data": {
      "text/html": [
       "<div>\n",
       "<table border=\"1\" class=\"dataframe\">\n",
       "  <thead>\n",
       "    <tr style=\"text-align: right;\">\n",
       "      <th></th>\n",
       "      <th>adj_age</th>\n",
       "      <th>adj_tenure</th>\n",
       "    </tr>\n",
       "  </thead>\n",
       "  <tbody>\n",
       "    <tr>\n",
       "      <th>75822</th>\n",
       "      <td>36.091090</td>\n",
       "      <td>13.916781</td>\n",
       "    </tr>\n",
       "    <tr>\n",
       "      <th>67529</th>\n",
       "      <td>44.285646</td>\n",
       "      <td>-7.088441</td>\n",
       "    </tr>\n",
       "    <tr>\n",
       "      <th>62168</th>\n",
       "      <td>55.910799</td>\n",
       "      <td>32.622162</td>\n",
       "    </tr>\n",
       "    <tr>\n",
       "      <th>14953</th>\n",
       "      <td>37.109592</td>\n",
       "      <td>12.230231</td>\n",
       "    </tr>\n",
       "    <tr>\n",
       "      <th>78730</th>\n",
       "      <td>33.553050</td>\n",
       "      <td>6.324565</td>\n",
       "    </tr>\n",
       "  </tbody>\n",
       "</table>\n",
       "</div>"
      ],
      "text/plain": [
       "         adj_age  adj_tenure\n",
       "75822  36.091090   13.916781\n",
       "67529  44.285646   -7.088441\n",
       "62168  55.910799   32.622162\n",
       "14953  37.109592   12.230231\n",
       "78730  33.553050    6.324565"
      ]
     },
     "execution_count": 90,
     "metadata": {},
     "output_type": "execute_result"
    }
   ],
   "source": [
    "adj_df = reset_years2(yr_times[0],yr_tfolds[0][0],em2mod[default_tstmps])\n",
    "adj_df.head()"
   ]
  },
  {
   "cell_type": "code",
   "execution_count": 95,
   "metadata": {
    "collapsed": false
   },
   "outputs": [
    {
     "data": {
      "text/plain": [
       "[0,\n",
       " 1,\n",
       " 2,\n",
       " 4,\n",
       " 5,\n",
       " 6,\n",
       " 7,\n",
       " 8,\n",
       " 65545,\n",
       " 10,\n",
       " 11,\n",
       " 13,\n",
       " 65550,\n",
       " 65551,\n",
       " 16,\n",
       " 65553,\n",
       " 19,\n",
       " 65556,\n",
       " 22,\n",
       " 23,\n",
       " 65560,\n",
       " 65540,\n",
       " 69833,\n",
       " 27,\n",
       " 28,\n",
       " 30,\n",
       " 65541,\n",
       " 65568,\n",
       " 65569,\n",
       " 65571,\n",
       " 65574,\n",
       " 40,\n",
       " 65577,\n",
       " 42,\n",
       " 44,\n",
       " 45,\n",
       " 46,\n",
       " 65583,\n",
       " 49,\n",
       " 50,\n",
       " 51,\n",
       " 65588,\n",
       " 65589,\n",
       " 55,\n",
       " 65594,\n",
       " 87391,\n",
       " 61,\n",
       " 62,\n",
       " 63,\n",
       " 64,\n",
       " 65,\n",
       " 67,\n",
       " 91657,\n",
       " 65606,\n",
       " 71,\n",
       " 74,\n",
       " 75,\n",
       " 77,\n",
       " 65615,\n",
       " 81,\n",
       " 82,\n",
       " 84,\n",
       " 65621,\n",
       " 65622,\n",
       " 87,\n",
       " 88,\n",
       " 89,\n",
       " 65626,\n",
       " 76382,\n",
       " 65629,\n",
       " 94,\n",
       " 96,\n",
       " 98,\n",
       " 99,\n",
       " 65636,\n",
       " 65637,\n",
       " 17,\n",
       " 105,\n",
       " 110,\n",
       " 111,\n",
       " 112,\n",
       " 65650,\n",
       " 115,\n",
       " 116,\n",
       " 65654,\n",
       " 119,\n",
       " 98324,\n",
       " 76479,\n",
       " 65660,\n",
       " 125,\n",
       " 126,\n",
       " 65663,\n",
       " 128,\n",
       " 65665,\n",
       " 130,\n",
       " 65667,\n",
       " 65668,\n",
       " 133,\n",
       " 135,\n",
       " 136,\n",
       " 138,\n",
       " 139,\n",
       " 65676,\n",
       " 141,\n",
       " 142,\n",
       " 65679,\n",
       " 144,\n",
       " 65681,\n",
       " 65682,\n",
       " 65684,\n",
       " 21870,\n",
       " 150,\n",
       " 65688,\n",
       " 65692,\n",
       " 158,\n",
       " 65696,\n",
       " 161,\n",
       " 162,\n",
       " 163,\n",
       " 164,\n",
       " 165,\n",
       " 166,\n",
       " 167,\n",
       " 169,\n",
       " 65706,\n",
       " 76487,\n",
       " 173,\n",
       " 174,\n",
       " 176,\n",
       " 179,\n",
       " 65717,\n",
       " 183,\n",
       " 184,\n",
       " 186,\n",
       " 187,\n",
       " 65724,\n",
       " 65725,\n",
       " 65726,\n",
       " 65727,\n",
       " 192,\n",
       " 194,\n",
       " 198,\n",
       " 76492,\n",
       " 202,\n",
       " 203,\n",
       " 87416,\n",
       " 100858,\n",
       " 89123,\n",
       " 213,\n",
       " 65750,\n",
       " 216,\n",
       " 98340,\n",
       " 218,\n",
       " 219,\n",
       " 220,\n",
       " 221,\n",
       " 223,\n",
       " 224,\n",
       " 225,\n",
       " 226,\n",
       " 101694,\n",
       " 228,\n",
       " 229,\n",
       " 233,\n",
       " 234,\n",
       " 98343,\n",
       " 236,\n",
       " 237,\n",
       " 65774,\n",
       " 87421,\n",
       " 65777,\n",
       " 242,\n",
       " 65779,\n",
       " 65781,\n",
       " 246,\n",
       " 65783,\n",
       " 65786,\n",
       " 251,\n",
       " 254,\n",
       " 89481,\n",
       " 257,\n",
       " 261,\n",
       " 262,\n",
       " 263,\n",
       " 65800,\n",
       " 65580,\n",
       " 76503,\n",
       " 268,\n",
       " 269,\n",
       " 270,\n",
       " 272,\n",
       " 275,\n",
       " 65812,\n",
       " 65813,\n",
       " 278,\n",
       " 279,\n",
       " 282,\n",
       " 284,\n",
       " 285,\n",
       " 65822,\n",
       " 287,\n",
       " 65826,\n",
       " 292,\n",
       " 293,\n",
       " 294,\n",
       " 65831,\n",
       " 65832,\n",
       " 298,\n",
       " 299,\n",
       " 65586,\n",
       " 65838,\n",
       " 303,\n",
       " 304,\n",
       " 305,\n",
       " 306,\n",
       " 65844,\n",
       " 309,\n",
       " 65846,\n",
       " 87433,\n",
       " 312,\n",
       " 65849,\n",
       " 65850,\n",
       " 315,\n",
       " 98203,\n",
       " 317,\n",
       " 65855,\n",
       " 320,\n",
       " 321,\n",
       " 65858,\n",
       " 323,\n",
       " 324,\n",
       " 65861,\n",
       " 326,\n",
       " 327,\n",
       " 328,\n",
       " 330,\n",
       " 65868,\n",
       " 333,\n",
       " 334,\n",
       " 54669,\n",
       " 336,\n",
       " 65874,\n",
       " 65875,\n",
       " 65876,\n",
       " 65877,\n",
       " 344,\n",
       " 346,\n",
       " 350,\n",
       " 353,\n",
       " 65890,\n",
       " 356,\n",
       " 358,\n",
       " 359,\n",
       " 65896,\n",
       " 361,\n",
       " 362,\n",
       " 10983,\n",
       " 364,\n",
       " 366,\n",
       " 367,\n",
       " 368,\n",
       " 369,\n",
       " 65906,\n",
       " 371,\n",
       " 373,\n",
       " 376,\n",
       " 379,\n",
       " 380,\n",
       " 10986,\n",
       " 87303,\n",
       " 385,\n",
       " 386,\n",
       " 102579,\n",
       " 390,\n",
       " 65928,\n",
       " 393,\n",
       " 394,\n",
       " 65932,\n",
       " 89911,\n",
       " 398,\n",
       " 65935,\n",
       " 400,\n",
       " 403,\n",
       " 65940,\n",
       " 405,\n",
       " 406,\n",
       " 407,\n",
       " 65945,\n",
       " 65946,\n",
       " 411,\n",
       " 65948,\n",
       " 414,\n",
       " 78575,\n",
       " 417,\n",
       " 419,\n",
       " 420,\n",
       " 422,\n",
       " 423,\n",
       " 67664,\n",
       " 425,\n",
       " 427,\n",
       " 65964,\n",
       " 65966,\n",
       " 431,\n",
       " 432,\n",
       " 433,\n",
       " 65970,\n",
       " 65974,\n",
       " 439,\n",
       " 65977,\n",
       " 442,\n",
       " 65979,\n",
       " 65610,\n",
       " 65982,\n",
       " 65983,\n",
       " 448,\n",
       " 65985,\n",
       " 450,\n",
       " 452,\n",
       " 453,\n",
       " 455,\n",
       " 65992,\n",
       " 457,\n",
       " 458,\n",
       " 65995,\n",
       " 460,\n",
       " 461,\n",
       " 462,\n",
       " 463,\n",
       " 66000,\n",
       " 76536,\n",
       " 66002,\n",
       " 66003,\n",
       " 468,\n",
       " 470,\n",
       " 471,\n",
       " 474,\n",
       " 19656,\n",
       " 76538,\n",
       " 478,\n",
       " 479,\n",
       " 480,\n",
       " 66017,\n",
       " 484,\n",
       " 485,\n",
       " 487,\n",
       " 488,\n",
       " 490,\n",
       " 491,\n",
       " 492,\n",
       " 493,\n",
       " 494,\n",
       " 495,\n",
       " 496,\n",
       " 497,\n",
       " 498,\n",
       " 499,\n",
       " 500,\n",
       " 66038,\n",
       " 68523,\n",
       " 504,\n",
       " 66042,\n",
       " 508,\n",
       " 509,\n",
       " 510,\n",
       " 511,\n",
       " 92615,\n",
       " 66049,\n",
       " 66050,\n",
       " 87467,\n",
       " 66052,\n",
       " 517,\n",
       " 518,\n",
       " 66055,\n",
       " 520,\n",
       " 524,\n",
       " 526,\n",
       " 527,\n",
       " 66064,\n",
       " 66065,\n",
       " 530,\n",
       " 531,\n",
       " 532,\n",
       " 534,\n",
       " 66071,\n",
       " 536,\n",
       " 66073,\n",
       " 538,\n",
       " 539,\n",
       " 66077,\n",
       " 543,\n",
       " 66082,\n",
       " 547,\n",
       " 548,\n",
       " 66087,\n",
       " 552,\n",
       " 553,\n",
       " 66090,\n",
       " 555,\n",
       " 66092,\n",
       " 66093,\n",
       " 560,\n",
       " 66097,\n",
       " 562,\n",
       " 563,\n",
       " 66100,\n",
       " 65630,\n",
       " 66102,\n",
       " 567,\n",
       " 66104,\n",
       " 569,\n",
       " 66106,\n",
       " 571,\n",
       " 572,\n",
       " 575,\n",
       " 65632,\n",
       " 579,\n",
       " 66116,\n",
       " 582,\n",
       " 583,\n",
       " 584,\n",
       " 586,\n",
       " 66123,\n",
       " 588,\n",
       " 66125,\n",
       " 66126,\n",
       " 66127,\n",
       " 69047,\n",
       " 594,\n",
       " 595,\n",
       " 596,\n",
       " 597,\n",
       " 598,\n",
       " 66135,\n",
       " 600,\n",
       " 601,\n",
       " 602,\n",
       " 603,\n",
       " 605,\n",
       " 606,\n",
       " 607,\n",
       " 608,\n",
       " 66145,\n",
       " 610,\n",
       " 66148,\n",
       " 66149,\n",
       " 616,\n",
       " 617,\n",
       " 619,\n",
       " 620,\n",
       " 85548,\n",
       " 66160,\n",
       " 78582,\n",
       " 66163,\n",
       " 628,\n",
       " 66165,\n",
       " 66166,\n",
       " 66167,\n",
       " 632,\n",
       " 633,\n",
       " 634,\n",
       " 637,\n",
       " 97019,\n",
       " 639,\n",
       " 66176,\n",
       " 641,\n",
       " 642,\n",
       " 643,\n",
       " 66180,\n",
       " 645,\n",
       " 646,\n",
       " 647,\n",
       " 66184,\n",
       " 649,\n",
       " 66186,\n",
       " 66190,\n",
       " 66191,\n",
       " 66192,\n",
       " 66193,\n",
       " 66194,\n",
       " 659,\n",
       " 66197,\n",
       " 662,\n",
       " 66199,\n",
       " 66200,\n",
       " 66201,\n",
       " 66202,\n",
       " 668,\n",
       " 87493,\n",
       " 65648,\n",
       " 87727,\n",
       " 679,\n",
       " 66216,\n",
       " 681,\n",
       " 682,\n",
       " 683,\n",
       " 684,\n",
       " 686,\n",
       " 687,\n",
       " 689,\n",
       " 691,\n",
       " 66228,\n",
       " 99162,\n",
       " 66231,\n",
       " 696,\n",
       " 101134,\n",
       " 66235,\n",
       " 66237,\n",
       " 703,\n",
       " 704,\n",
       " 66241,\n",
       " 66242,\n",
       " 87499,\n",
       " 709,\n",
       " 712,\n",
       " 713,\n",
       " 66250,\n",
       " 65655,\n",
       " 716,\n",
       " 717,\n",
       " 718,\n",
       " 719,\n",
       " 66259,\n",
       " 725,\n",
       " 726,\n",
       " 98425,\n",
       " 729,\n",
       " 730,\n",
       " 731,\n",
       " 66268,\n",
       " 733,\n",
       " 734,\n",
       " 735,\n",
       " 736,\n",
       " 737,\n",
       " 66274,\n",
       " 66275,\n",
       " 66276,\n",
       " 743,\n",
       " 744,\n",
       " 745,\n",
       " 746,\n",
       " 748,\n",
       " 752,\n",
       " 753,\n",
       " 756,\n",
       " 757,\n",
       " 758,\n",
       " 66295,\n",
       " 66296,\n",
       " 66297,\n",
       " 762,\n",
       " 763,\n",
       " 765,\n",
       " 766,\n",
       " 767,\n",
       " 768,\n",
       " 770,\n",
       " 771,\n",
       " 772,\n",
       " 774,\n",
       " 775,\n",
       " 778,\n",
       " 779,\n",
       " 781,\n",
       " 782,\n",
       " 783,\n",
       " 784,\n",
       " 786,\n",
       " 787,\n",
       " 788,\n",
       " 66325,\n",
       " 66326,\n",
       " 31508,\n",
       " 793,\n",
       " 794,\n",
       " 796,\n",
       " 97027,\n",
       " 798,\n",
       " 799,\n",
       " 800,\n",
       " 801,\n",
       " 802,\n",
       " 803,\n",
       " 804,\n",
       " 805,\n",
       " 807,\n",
       " 808,\n",
       " 811,\n",
       " 813,\n",
       " 814,\n",
       " 815,\n",
       " 816,\n",
       " 817,\n",
       " 818,\n",
       " 819,\n",
       " 820,\n",
       " 66360,\n",
       " 66361,\n",
       " 89500,\n",
       " 827,\n",
       " 828,\n",
       " 66365,\n",
       " 831,\n",
       " 834,\n",
       " 66371,\n",
       " 836,\n",
       " 66373,\n",
       " 24883,\n",
       " 841,\n",
       " 842,\n",
       " 843,\n",
       " 844,\n",
       " 845,\n",
       " 847,\n",
       " 848,\n",
       " 76600,\n",
       " 66387,\n",
       " 66388,\n",
       " 65678,\n",
       " 854,\n",
       " 855,\n",
       " 66395,\n",
       " 66396,\n",
       " 862,\n",
       " 864,\n",
       " 865,\n",
       " 866,\n",
       " 868,\n",
       " 869,\n",
       " 870,\n",
       " 871,\n",
       " 66408,\n",
       " 66409,\n",
       " 875,\n",
       " 876,\n",
       " 877,\n",
       " 66416,\n",
       " 881,\n",
       " 882,\n",
       " 883,\n",
       " 885,\n",
       " 886,\n",
       " 887,\n",
       " 66424,\n",
       " 889,\n",
       " 891,\n",
       " 893,\n",
       " 894,\n",
       " 66431,\n",
       " 45479,\n",
       " 898,\n",
       " 899,\n",
       " 66436,\n",
       " 65686,\n",
       " 904,\n",
       " 66441,\n",
       " 906,\n",
       " 907,\n",
       " 908,\n",
       " 911,\n",
       " 912,\n",
       " 913,\n",
       " 914,\n",
       " 66451,\n",
       " 916,\n",
       " 917,\n",
       " 66454,\n",
       " 919,\n",
       " 66457,\n",
       " 922,\n",
       " 923,\n",
       " 924,\n",
       " 925,\n",
       " 926,\n",
       " 928,\n",
       " 929,\n",
       " 930,\n",
       " 931,\n",
       " 933,\n",
       " 935,\n",
       " 936,\n",
       " 66474,\n",
       " 940,\n",
       " 66478,\n",
       " 32925,\n",
       " 66482,\n",
       " 947,\n",
       " 948,\n",
       " 949,\n",
       " 950,\n",
       " 43849,\n",
       " 952,\n",
       " 66489,\n",
       " 956,\n",
       " 11082,\n",
       " 958,\n",
       " 959,\n",
       " 960,\n",
       " 961,\n",
       " 962,\n",
       " 963,\n",
       " 66501,\n",
       " 66502,\n",
       " 968,\n",
       " 969,\n",
       " 972,\n",
       " 973,\n",
       " 66510,\n",
       " 76621,\n",
       " 66512,\n",
       " 66513,\n",
       " 978,\n",
       " 979,\n",
       " 981,\n",
       " 982,\n",
       " 983,\n",
       " 984,\n",
       " 985,\n",
       " 986,\n",
       " 987,\n",
       " 66524,\n",
       " 66527,\n",
       " 66529,\n",
       " 66531,\n",
       " 66532,\n",
       " 65702,\n",
       " 66534,\n",
       " 999,\n",
       " 1000,\n",
       " 1001,\n",
       " 65703,\n",
       " 1004,\n",
       " 94727,\n",
       " 1009,\n",
       " 1010,\n",
       " 1011,\n",
       " 1013,\n",
       " 1015,\n",
       " 90788,\n",
       " 66555,\n",
       " 1020,\n",
       " 85142,\n",
       " 1023,\n",
       " 1024,\n",
       " 1025,\n",
       " 66563,\n",
       " 66564,\n",
       " 1029,\n",
       " 1031,\n",
       " 66568,\n",
       " 66570,\n",
       " 1035,\n",
       " 1037,\n",
       " 66574,\n",
       " 1040,\n",
       " 1042,\n",
       " 1043,\n",
       " 66580,\n",
       " 32942,\n",
       " 1046,\n",
       " 1047,\n",
       " 1049,\n",
       " 66586,\n",
       " 66587,\n",
       " 1052,\n",
       " 1053,\n",
       " 1055,\n",
       " 66592,\n",
       " 1057,\n",
       " 1059,\n",
       " 66596,\n",
       " 66597,\n",
       " 1063,\n",
       " 66601,\n",
       " 66603,\n",
       " 1068,\n",
       " 1069,\n",
       " 1072,\n",
       " 1073,\n",
       " 1076,\n",
       " 1079,\n",
       " 1080,\n",
       " 1082,\n",
       " 1084,\n",
       " 66621,\n",
       " 1087,\n",
       " 11104,\n",
       " 1090,\n",
       " 1091,\n",
       " 27323,\n",
       " 66630,\n",
       " 1095,\n",
       " 89509,\n",
       " 1099,\n",
       " 1100,\n",
       " 1102,\n",
       " 66639,\n",
       " 1104,\n",
       " 65720,\n",
       " 1106,\n",
       " 14410,\n",
       " 1110,\n",
       " 1112,\n",
       " 1113,\n",
       " 1115,\n",
       " 1116,\n",
       " 66653,\n",
       " 1118,\n",
       " 76645,\n",
       " 1120,\n",
       " 1122,\n",
       " 1123,\n",
       " 1124,\n",
       " 1125,\n",
       " 66662,\n",
       " 1127,\n",
       " 80314,\n",
       " 66667,\n",
       " 78213,\n",
       " 78599,\n",
       " 1137,\n",
       " 1138,\n",
       " 1139,\n",
       " 1141,\n",
       " 1142,\n",
       " 1145,\n",
       " 66682,\n",
       " 1147,\n",
       " 1149,\n",
       " 1150,\n",
       " 1151,\n",
       " 1153,\n",
       " 66690,\n",
       " 1156,\n",
       " 1157,\n",
       " 1159,\n",
       " 66696,\n",
       " 1161,\n",
       " 66699,\n",
       " 1164,\n",
       " 1165,\n",
       " 1166,\n",
       " 1167,\n",
       " 66705,\n",
       " 1172,\n",
       " 1175,\n",
       " 1177,\n",
       " 1178,\n",
       " 66715,\n",
       " 1180,\n",
       " 66717,\n",
       " 1182,\n",
       " 1183,\n",
       " 1184,\n",
       " 1185,\n",
       " 17284,\n",
       " 1187,\n",
       " 1189,\n",
       " 1190,\n",
       " 1191,\n",
       " 66728,\n",
       " 1193,\n",
       " 66730,\n",
       " 1195,\n",
       " 1196,\n",
       " 1198,\n",
       " 1199,\n",
       " 1200,\n",
       " 66737,\n",
       " 85148,\n",
       " 1203,\n",
       " 1204,\n",
       " 1206,\n",
       " 66743,\n",
       " 66744,\n",
       " 1209,\n",
       " 1212,\n",
       " 66749,\n",
       " 1214,\n",
       " 1215,\n",
       " 1216,\n",
       " 1217,\n",
       " 66754,\n",
       " 66756,\n",
       " 1221,\n",
       " 1222,\n",
       " 1223,\n",
       " 66760,\n",
       " 1225,\n",
       " 1227,\n",
       " 66766,\n",
       " 1231,\n",
       " 66768,\n",
       " 66769,\n",
       " 1234,\n",
       " 1235,\n",
       " 66773,\n",
       " 1238,\n",
       " 1241,\n",
       " 1242,\n",
       " 1243,\n",
       " 66781,\n",
       " 1246,\n",
       " 66783,\n",
       " 1248,\n",
       " 1249,\n",
       " 1250,\n",
       " 1252,\n",
       " 1253,\n",
       " 1254,\n",
       " 28411,\n",
       " 1256,\n",
       " 1258,\n",
       " 66796,\n",
       " 10483,\n",
       " 66799,\n",
       " 1264,\n",
       " 1265,\n",
       " 66802,\n",
       " 66804,\n",
       " 76670,\n",
       " 66806,\n",
       " 1271,\n",
       " 1273,\n",
       " 84243,\n",
       " 1276,\n",
       " 1277,\n",
       " 1278,\n",
       " 1280,\n",
       " 1283,\n",
       " 1285,\n",
       " 1286,\n",
       " 66823,\n",
       " 66824,\n",
       " 1289,\n",
       " 1291,\n",
       " 1292,\n",
       " 1293,\n",
       " 66831,\n",
       " 1296,\n",
       " 1298,\n",
       " 1299,\n",
       " 66836,\n",
       " 1301,\n",
       " 1303,\n",
       " 66840,\n",
       " 1305,\n",
       " 66843,\n",
       " 80787,\n",
       " 1309,\n",
       " 66846,\n",
       " 1311,\n",
       " 1312,\n",
       " 1313,\n",
       " 1314,\n",
       " 1316,\n",
       " 1318,\n",
       " 1319,\n",
       " 1320,\n",
       " 65756,\n",
       " 1323,\n",
       " 1324,\n",
       " 1325,\n",
       " 1327,\n",
       " 1328,\n",
       " 1329,\n",
       " 1333,\n",
       " 1334,\n",
       " 66871,\n",
       " 1336,\n",
       " 1337,\n",
       " 1338,\n",
       " 1339,\n",
       " 1340,\n",
       " 66878,\n",
       " 1343,\n",
       " 66880,\n",
       " 1345,\n",
       " 1346,\n",
       " 66883,\n",
       " 1348,\n",
       " 1349,\n",
       " 1350,\n",
       " 1351,\n",
       " 1354,\n",
       " 1355,\n",
       " 1356,\n",
       " 66894,\n",
       " 1359,\n",
       " 66896,\n",
       " 1361,\n",
       " 1362,\n",
       " 66899,\n",
       " 1364,\n",
       " 1366,\n",
       " 1367,\n",
       " 66904,\n",
       " 1369,\n",
       " 1371,\n",
       " ...]"
      ]
     },
     "execution_count": 95,
     "metadata": {},
     "output_type": "execute_result"
    }
   ],
   "source": [
    "yr_tfolds[i][1]"
   ]
  },
  {
   "cell_type": "code",
   "execution_count": 99,
   "metadata": {
    "collapsed": false
   },
   "outputs": [
    {
     "data": {
      "text/html": [
       "<div>\n",
       "<table border=\"1\" class=\"dataframe\">\n",
       "  <thead>\n",
       "    <tr style=\"text-align: right;\">\n",
       "      <th></th>\n",
       "      <th>adj_age</th>\n",
       "      <th>adj_tenure</th>\n",
       "    </tr>\n",
       "  </thead>\n",
       "  <tbody>\n",
       "    <tr>\n",
       "      <th>0</th>\n",
       "      <td>38.766025</td>\n",
       "      <td>-10.538204</td>\n",
       "    </tr>\n",
       "    <tr>\n",
       "      <th>0</th>\n",
       "      <td>13.996181</td>\n",
       "      <td>-11.553968</td>\n",
       "    </tr>\n",
       "  </tbody>\n",
       "</table>\n",
       "</div>"
      ],
      "text/plain": [
       "     adj_age  adj_tenure\n",
       "0  38.766025  -10.538204\n",
       "0  13.996181  -11.553968"
      ]
     },
     "execution_count": 99,
     "metadata": {},
     "output_type": "execute_result"
    }
   ],
   "source": [
    "adj_df.ix[adj_df.index == 0]"
   ]
  },
  {
   "cell_type": "code",
   "execution_count": 93,
   "metadata": {
    "collapsed": false
   },
   "outputs": [
    {
     "name": "stdout",
     "output_type": "stream",
     "text": [
      "2002-01-01 2007-01-01 5\n",
      "       fold_mbr    adj_age  adj_tenure  adj_tgt\n",
      "75822         0  49.089665   26.915811        0\n",
      "67529         0  57.284052    5.911020        0\n",
      "62168         0  62.154689   38.866530        0\n",
      "14953         0  50.108145   25.229295        0\n",
      "78730         0  36.243669    9.015743        1\n"
     ]
    }
   ],
   "source": [
    "#def define_target_within_x_years(dates_df,df,paired_dates,tfold,n_years,target_col):\n",
    "#print len(tfold)#, paired_dates\n",
    "n_years=5\n",
    "target_col = 'former'#df_dict = {}\n",
    "i=0\n",
    "paired_dates = yr_times\n",
    "#for i,tf in enumerate(tfold):\n",
    "start_date = paired_dates[i][0]\n",
    "end_date = paired_dates[i][1]\n",
    "print start_date,end_date,n_years\n",
    "        #altered_fold_df = pd.DataFrame(columns=['fold_mbr','adj_age','adj_tenure','adj_term'])\n",
    "# if in the fold reset the age to start of fold; define new window of termination\n",
    "in_fold_idx = yr_tfolds[i][0]\n",
    "# note that \"sex\" is just used to create a value that then gets dummied out\n",
    "cols_to_copy = ['SEX','Age_years','Tenure_years']\n",
    "cols_to_copy.append(target_col)\n",
    "        #altered_fold_df= df[['SEX','Age_years','Tenure_years','terminated']].copy()\n",
    "altered_fold_df = em2mod[cols_to_copy].copy()\n",
    "        # adjust these\n",
    "altered_fold_df.columns=['fold_mbr','adj_age','adj_tenure','adj_tgt']\n",
    "altered_fold_df.fold_mbr = 0\n",
    "\n",
    "adj_df =reset_years2(paired_dates[i],in_fold_idx,em2mod)\n",
    "        \n",
    "print altered_fold_df.head()\n",
    "#altered_fold_df.ix[in_fold_idx]['adj_age']=ra\n",
    "#altered_fold_df.ix[in_fold_idx]['adj_tenure']=rt\n",
    "#print altered_fold_df.head()\n"
   ]
  },
  {
   "cell_type": "code",
   "execution_count": null,
   "metadata": {
    "collapsed": true
   },
   "outputs": [],
   "source": [
    "\"\"\"new_tgt = (dates_df.ix[in_fold_idx]['term_tstmp']<= end_date).as_matrix().astype(np.int)\n",
    "        # deal with last time-fold specially\n",
    "        if i == len(tfold)-1:\n",
    "            new_tgt = (dates_df.ix[in_fold_idx]['term_tstmp']< end_date).as_matrix().astype(np.int)\n",
    "        #print \"\\t\", len(new_term),sum(new_term)\n",
    "        altered_fold_df.loc[in_fold_idx,'adj_tgt']=new_tgt\n",
    "        altered_fold_df.loc[in_fold_idx,'fold_mbr']=1\n",
    "        df_dict[i]=altered_fold_df\n",
    "    # now append this to a larger panel\n",
    "    tfold_panel = pd.Panel.from_dict(data =df_dict)\n",
    "    return tfold_panel\n",
    "\"\"\""
   ]
  },
  {
   "cell_type": "code",
   "execution_count": 94,
   "metadata": {
    "collapsed": false
   },
   "outputs": [
    {
     "data": {
      "text/html": [
       "<div>\n",
       "<table border=\"1\" class=\"dataframe\">\n",
       "  <thead>\n",
       "    <tr style=\"text-align: right;\">\n",
       "      <th></th>\n",
       "      <th>adj_age</th>\n",
       "      <th>adj_tenure</th>\n",
       "    </tr>\n",
       "  </thead>\n",
       "  <tbody>\n",
       "    <tr>\n",
       "      <th>75822</th>\n",
       "      <td>36.091090</td>\n",
       "      <td>13.916781</td>\n",
       "    </tr>\n",
       "    <tr>\n",
       "      <th>67529</th>\n",
       "      <td>44.285646</td>\n",
       "      <td>-7.088441</td>\n",
       "    </tr>\n",
       "    <tr>\n",
       "      <th>62168</th>\n",
       "      <td>55.910799</td>\n",
       "      <td>32.622162</td>\n",
       "    </tr>\n",
       "    <tr>\n",
       "      <th>14953</th>\n",
       "      <td>37.109592</td>\n",
       "      <td>12.230231</td>\n",
       "    </tr>\n",
       "    <tr>\n",
       "      <th>78730</th>\n",
       "      <td>33.553050</td>\n",
       "      <td>6.324565</td>\n",
       "    </tr>\n",
       "  </tbody>\n",
       "</table>\n",
       "</div>"
      ],
      "text/plain": [
       "         adj_age  adj_tenure\n",
       "75822  36.091090   13.916781\n",
       "67529  44.285646   -7.088441\n",
       "62168  55.910799   32.622162\n",
       "14953  37.109592   12.230231\n",
       "78730  33.553050    6.324565"
      ]
     },
     "execution_count": 94,
     "metadata": {},
     "output_type": "execute_result"
    }
   ],
   "source": [
    "adj_df.head()"
   ]
  },
  {
   "cell_type": "code",
   "execution_count": 67,
   "metadata": {
    "collapsed": false
   },
   "outputs": [
    {
     "data": {
      "text/plain": [
       "Int64Index([75822, 62168, 14953, 78730,  9255, 85226, 15942, 72648, 23222,\n",
       "            18145, \n",
       "            ...\n",
       "            26112, 40299, 44413, 81326, 41561, 69643, 81264,  2234, 69953,\n",
       "             2271],\n",
       "           dtype='int64', length=62578)"
      ]
     },
     "execution_count": 67,
     "metadata": {},
     "output_type": "execute_result"
    }
   ],
   "source": [
    "in_fold_idx"
   ]
  },
  {
   "cell_type": "code",
   "execution_count": 66,
   "metadata": {
    "collapsed": false
   },
   "outputs": [
    {
     "data": {
      "text/html": [
       "<div>\n",
       "<table border=\"1\" class=\"dataframe\">\n",
       "  <thead>\n",
       "    <tr style=\"text-align: right;\">\n",
       "      <th></th>\n",
       "      <th>hire_tstmp</th>\n",
       "      <th>term_tstmp</th>\n",
       "      <th>birth_tstmp</th>\n",
       "      <th>former</th>\n",
       "      <th>retired</th>\n",
       "      <th>Age_years</th>\n",
       "      <th>Tenure_years</th>\n",
       "      <th>SAL1</th>\n",
       "      <th>MERIT1</th>\n",
       "      <th>PERF1</th>\n",
       "      <th>BOX1</th>\n",
       "      <th>SEX</th>\n",
       "      <th>HAVE_INS</th>\n",
       "      <th>HAVE_DEP</th>\n",
       "    </tr>\n",
       "  </thead>\n",
       "  <tbody>\n",
       "    <tr>\n",
       "      <th>75822</th>\n",
       "      <td>1988-02-01</td>\n",
       "      <td>2015-01-01</td>\n",
       "      <td>1965-11-29</td>\n",
       "      <td>0</td>\n",
       "      <td>0</td>\n",
       "      <td>49.089665</td>\n",
       "      <td>26.915811</td>\n",
       "      <td>50846.74</td>\n",
       "      <td>6099.34</td>\n",
       "      <td>1918.74</td>\n",
       "      <td>3</td>\n",
       "      <td>0</td>\n",
       "      <td>0</td>\n",
       "      <td>0</td>\n",
       "    </tr>\n",
       "    <tr>\n",
       "      <th>67529</th>\n",
       "      <td>2009-02-02</td>\n",
       "      <td>2015-01-01</td>\n",
       "      <td>1957-09-19</td>\n",
       "      <td>0</td>\n",
       "      <td>0</td>\n",
       "      <td>57.284052</td>\n",
       "      <td>5.911020</td>\n",
       "      <td>30366.22</td>\n",
       "      <td>970.07</td>\n",
       "      <td>793.70</td>\n",
       "      <td>2</td>\n",
       "      <td>0</td>\n",
       "      <td>1</td>\n",
       "      <td>1</td>\n",
       "    </tr>\n",
       "    <tr>\n",
       "      <th>62168</th>\n",
       "      <td>1969-05-19</td>\n",
       "      <td>2008-03-31</td>\n",
       "      <td>1946-02-03</td>\n",
       "      <td>0</td>\n",
       "      <td>1</td>\n",
       "      <td>62.154689</td>\n",
       "      <td>38.866530</td>\n",
       "      <td>92148.52</td>\n",
       "      <td>0.00</td>\n",
       "      <td>2303.71</td>\n",
       "      <td>2</td>\n",
       "      <td>1</td>\n",
       "      <td>1</td>\n",
       "      <td>1</td>\n",
       "    </tr>\n",
       "    <tr>\n",
       "      <th>14953</th>\n",
       "      <td>1989-10-09</td>\n",
       "      <td>2015-01-01</td>\n",
       "      <td>1964-11-22</td>\n",
       "      <td>0</td>\n",
       "      <td>0</td>\n",
       "      <td>50.108145</td>\n",
       "      <td>25.229295</td>\n",
       "      <td>43870.31</td>\n",
       "      <td>470.15</td>\n",
       "      <td>1151.06</td>\n",
       "      <td>2</td>\n",
       "      <td>0</td>\n",
       "      <td>1</td>\n",
       "      <td>1</td>\n",
       "    </tr>\n",
       "    <tr>\n",
       "      <th>78730</th>\n",
       "      <td>1995-09-05</td>\n",
       "      <td>2004-09-10</td>\n",
       "      <td>1968-06-13</td>\n",
       "      <td>1</td>\n",
       "      <td>0</td>\n",
       "      <td>36.243669</td>\n",
       "      <td>9.015743</td>\n",
       "      <td>29962.72</td>\n",
       "      <td>1372.34</td>\n",
       "      <td>343.08</td>\n",
       "      <td>2</td>\n",
       "      <td>1</td>\n",
       "      <td>0</td>\n",
       "      <td>0</td>\n",
       "    </tr>\n",
       "  </tbody>\n",
       "</table>\n",
       "</div>"
      ],
      "text/plain": [
       "      hire_tstmp term_tstmp birth_tstmp  former  retired  Age_years  \\\n",
       "75822 1988-02-01 2015-01-01  1965-11-29       0        0  49.089665   \n",
       "67529 2009-02-02 2015-01-01  1957-09-19       0        0  57.284052   \n",
       "62168 1969-05-19 2008-03-31  1946-02-03       0        1  62.154689   \n",
       "14953 1989-10-09 2015-01-01  1964-11-22       0        0  50.108145   \n",
       "78730 1995-09-05 2004-09-10  1968-06-13       1        0  36.243669   \n",
       "\n",
       "       Tenure_years      SAL1   MERIT1    PERF1  BOX1  SEX  HAVE_INS  HAVE_DEP  \n",
       "75822     26.915811  50846.74  6099.34  1918.74     3    0         0         0  \n",
       "67529      5.911020  30366.22   970.07   793.70     2    0         1         1  \n",
       "62168     38.866530  92148.52     0.00  2303.71     2    1         1         1  \n",
       "14953     25.229295  43870.31   470.15  1151.06     2    0         1         1  \n",
       "78730      9.015743  29962.72  1372.34   343.08     2    1         0         0  "
      ]
     },
     "execution_count": 66,
     "metadata": {},
     "output_type": "execute_result"
    }
   ],
   "source": [
    "em2mod.head()"
   ]
  },
  {
   "cell_type": "code",
   "execution_count": 58,
   "metadata": {
    "collapsed": false
   },
   "outputs": [
    {
     "name": "stdout",
     "output_type": "stream",
     "text": [
      "9\n"
     ]
    },
    {
     "ename": "ValueError",
     "evalue": "cannot reindex from a duplicate axis",
     "output_type": "error",
     "traceback": [
      "\u001b[1;31m---------------------------------------------------------------------------\u001b[0m",
      "\u001b[1;31mValueError\u001b[0m                                Traceback (most recent call last)",
      "\u001b[1;32m<ipython-input-58-94de4b918a73>\u001b[0m in \u001b[0;36m<module>\u001b[1;34m()\u001b[0m\n\u001b[1;32m----> 1\u001b[1;33m \u001b[0mmyPanel\u001b[0m \u001b[1;33m=\u001b[0m \u001b[0mdefine_target_within_x_years\u001b[0m\u001b[1;33m(\u001b[0m\u001b[0mem2mod\u001b[0m\u001b[1;33m[\u001b[0m\u001b[0mdefault_tstmps\u001b[0m\u001b[1;33m]\u001b[0m\u001b[1;33m,\u001b[0m\u001b[0mem2mod\u001b[0m\u001b[1;33m,\u001b[0m\u001b[0myr_times\u001b[0m\u001b[1;33m,\u001b[0m\u001b[0myr_tfolds\u001b[0m\u001b[1;33m,\u001b[0m\u001b[1;36m5\u001b[0m\u001b[1;33m,\u001b[0m\u001b[1;34m'former'\u001b[0m\u001b[1;33m)\u001b[0m\u001b[1;33m\u001b[0m\u001b[0m\n\u001b[0m",
      "\u001b[1;32m<ipython-input-56-fb4827b54fc0>\u001b[0m in \u001b[0;36mdefine_target_within_x_years\u001b[1;34m(dates_df, df, paired_dates, tfold, n_years, target_col)\u001b[0m\n\u001b[0;32m     20\u001b[0m \u001b[1;33m\u001b[0m\u001b[0m\n\u001b[0;32m     21\u001b[0m         \u001b[0mra\u001b[0m\u001b[1;33m,\u001b[0m\u001b[0mrt\u001b[0m \u001b[1;33m=\u001b[0m \u001b[0mreset_years\u001b[0m\u001b[1;33m(\u001b[0m\u001b[0mpaired_dates\u001b[0m\u001b[1;33m[\u001b[0m\u001b[0mi\u001b[0m\u001b[1;33m]\u001b[0m\u001b[1;33m,\u001b[0m\u001b[0min_fold_idx\u001b[0m\u001b[1;33m,\u001b[0m\u001b[0mdates_df\u001b[0m\u001b[1;33m)\u001b[0m\u001b[1;33m\u001b[0m\u001b[0m\n\u001b[1;32m---> 22\u001b[1;33m         \u001b[0maltered_fold_df\u001b[0m\u001b[1;33m.\u001b[0m\u001b[0mix\u001b[0m\u001b[1;33m[\u001b[0m\u001b[0min_fold_idx\u001b[0m\u001b[1;33m]\u001b[0m\u001b[1;33m[\u001b[0m\u001b[1;34m'adj_age'\u001b[0m\u001b[1;33m]\u001b[0m\u001b[1;33m=\u001b[0m\u001b[0mra\u001b[0m\u001b[1;33m\u001b[0m\u001b[0m\n\u001b[0m\u001b[0;32m     23\u001b[0m         \u001b[0maltered_fold_df\u001b[0m\u001b[1;33m.\u001b[0m\u001b[0mix\u001b[0m\u001b[1;33m[\u001b[0m\u001b[0min_fold_idx\u001b[0m\u001b[1;33m]\u001b[0m\u001b[1;33m[\u001b[0m\u001b[1;34m'adj_tenure'\u001b[0m\u001b[1;33m]\u001b[0m\u001b[1;33m=\u001b[0m\u001b[0mrt\u001b[0m\u001b[1;33m\u001b[0m\u001b[0m\n\u001b[0;32m     24\u001b[0m         \u001b[0mnew_tgt\u001b[0m \u001b[1;33m=\u001b[0m \u001b[1;33m(\u001b[0m\u001b[0mdates_df\u001b[0m\u001b[1;33m.\u001b[0m\u001b[0mix\u001b[0m\u001b[1;33m[\u001b[0m\u001b[0min_fold_idx\u001b[0m\u001b[1;33m]\u001b[0m\u001b[1;33m[\u001b[0m\u001b[1;34m'term_tstmp'\u001b[0m\u001b[1;33m]\u001b[0m\u001b[1;33m<=\u001b[0m \u001b[0mend_date\u001b[0m\u001b[1;33m)\u001b[0m\u001b[1;33m.\u001b[0m\u001b[0mas_matrix\u001b[0m\u001b[1;33m(\u001b[0m\u001b[1;33m)\u001b[0m\u001b[1;33m.\u001b[0m\u001b[0mastype\u001b[0m\u001b[1;33m(\u001b[0m\u001b[0mnp\u001b[0m\u001b[1;33m.\u001b[0m\u001b[0mint\u001b[0m\u001b[1;33m)\u001b[0m\u001b[1;33m\u001b[0m\u001b[0m\n",
      "\u001b[1;32m/san-data/personal/kesj/envs/cutting/lib/python2.7/site-packages/pandas/core/frame.pyc\u001b[0m in \u001b[0;36m__setitem__\u001b[1;34m(self, key, value)\u001b[0m\n\u001b[0;32m   2125\u001b[0m         \u001b[1;32melse\u001b[0m\u001b[1;33m:\u001b[0m\u001b[1;33m\u001b[0m\u001b[0m\n\u001b[0;32m   2126\u001b[0m             \u001b[1;31m# set column\u001b[0m\u001b[1;33m\u001b[0m\u001b[1;33m\u001b[0m\u001b[0m\n\u001b[1;32m-> 2127\u001b[1;33m             \u001b[0mself\u001b[0m\u001b[1;33m.\u001b[0m\u001b[0m_set_item\u001b[0m\u001b[1;33m(\u001b[0m\u001b[0mkey\u001b[0m\u001b[1;33m,\u001b[0m \u001b[0mvalue\u001b[0m\u001b[1;33m)\u001b[0m\u001b[1;33m\u001b[0m\u001b[0m\n\u001b[0m\u001b[0;32m   2128\u001b[0m \u001b[1;33m\u001b[0m\u001b[0m\n\u001b[0;32m   2129\u001b[0m     \u001b[1;32mdef\u001b[0m \u001b[0m_setitem_slice\u001b[0m\u001b[1;33m(\u001b[0m\u001b[0mself\u001b[0m\u001b[1;33m,\u001b[0m \u001b[0mkey\u001b[0m\u001b[1;33m,\u001b[0m \u001b[0mvalue\u001b[0m\u001b[1;33m)\u001b[0m\u001b[1;33m:\u001b[0m\u001b[1;33m\u001b[0m\u001b[0m\n",
      "\u001b[1;32m/san-data/personal/kesj/envs/cutting/lib/python2.7/site-packages/pandas/core/frame.pyc\u001b[0m in \u001b[0;36m_set_item\u001b[1;34m(self, key, value)\u001b[0m\n\u001b[0;32m   2202\u001b[0m \u001b[1;33m\u001b[0m\u001b[0m\n\u001b[0;32m   2203\u001b[0m         \u001b[0mself\u001b[0m\u001b[1;33m.\u001b[0m\u001b[0m_ensure_valid_index\u001b[0m\u001b[1;33m(\u001b[0m\u001b[0mvalue\u001b[0m\u001b[1;33m)\u001b[0m\u001b[1;33m\u001b[0m\u001b[0m\n\u001b[1;32m-> 2204\u001b[1;33m         \u001b[0mvalue\u001b[0m \u001b[1;33m=\u001b[0m \u001b[0mself\u001b[0m\u001b[1;33m.\u001b[0m\u001b[0m_sanitize_column\u001b[0m\u001b[1;33m(\u001b[0m\u001b[0mkey\u001b[0m\u001b[1;33m,\u001b[0m \u001b[0mvalue\u001b[0m\u001b[1;33m)\u001b[0m\u001b[1;33m\u001b[0m\u001b[0m\n\u001b[0m\u001b[0;32m   2205\u001b[0m         \u001b[0mNDFrame\u001b[0m\u001b[1;33m.\u001b[0m\u001b[0m_set_item\u001b[0m\u001b[1;33m(\u001b[0m\u001b[0mself\u001b[0m\u001b[1;33m,\u001b[0m \u001b[0mkey\u001b[0m\u001b[1;33m,\u001b[0m \u001b[0mvalue\u001b[0m\u001b[1;33m)\u001b[0m\u001b[1;33m\u001b[0m\u001b[0m\n\u001b[0;32m   2206\u001b[0m \u001b[1;33m\u001b[0m\u001b[0m\n",
      "\u001b[1;32m/san-data/personal/kesj/envs/cutting/lib/python2.7/site-packages/pandas/core/frame.pyc\u001b[0m in \u001b[0;36m_sanitize_column\u001b[1;34m(self, key, value)\u001b[0m\n\u001b[0;32m   2339\u001b[0m \u001b[1;33m\u001b[0m\u001b[0m\n\u001b[0;32m   2340\u001b[0m         \u001b[1;32mif\u001b[0m \u001b[0misinstance\u001b[0m\u001b[1;33m(\u001b[0m\u001b[0mvalue\u001b[0m\u001b[1;33m,\u001b[0m \u001b[0mSeries\u001b[0m\u001b[1;33m)\u001b[0m\u001b[1;33m:\u001b[0m\u001b[1;33m\u001b[0m\u001b[0m\n\u001b[1;32m-> 2341\u001b[1;33m             \u001b[0mvalue\u001b[0m \u001b[1;33m=\u001b[0m \u001b[0mreindexer\u001b[0m\u001b[1;33m(\u001b[0m\u001b[0mvalue\u001b[0m\u001b[1;33m)\u001b[0m\u001b[1;33m\u001b[0m\u001b[0m\n\u001b[0m\u001b[0;32m   2342\u001b[0m \u001b[1;33m\u001b[0m\u001b[0m\n\u001b[0;32m   2343\u001b[0m         \u001b[1;32melif\u001b[0m \u001b[0misinstance\u001b[0m\u001b[1;33m(\u001b[0m\u001b[0mvalue\u001b[0m\u001b[1;33m,\u001b[0m \u001b[0mDataFrame\u001b[0m\u001b[1;33m)\u001b[0m\u001b[1;33m:\u001b[0m\u001b[1;33m\u001b[0m\u001b[0m\n",
      "\u001b[1;32m/san-data/personal/kesj/envs/cutting/lib/python2.7/site-packages/pandas/core/frame.pyc\u001b[0m in \u001b[0;36mreindexer\u001b[1;34m(value)\u001b[0m\n\u001b[0;32m   2331\u001b[0m                     \u001b[1;31m# duplicate axis\u001b[0m\u001b[1;33m\u001b[0m\u001b[1;33m\u001b[0m\u001b[0m\n\u001b[0;32m   2332\u001b[0m                     \u001b[1;32mif\u001b[0m \u001b[1;32mnot\u001b[0m \u001b[0mvalue\u001b[0m\u001b[1;33m.\u001b[0m\u001b[0mindex\u001b[0m\u001b[1;33m.\u001b[0m\u001b[0mis_unique\u001b[0m\u001b[1;33m:\u001b[0m\u001b[1;33m\u001b[0m\u001b[0m\n\u001b[1;32m-> 2333\u001b[1;33m                         \u001b[1;32mraise\u001b[0m \u001b[0me\u001b[0m\u001b[1;33m\u001b[0m\u001b[0m\n\u001b[0m\u001b[0;32m   2334\u001b[0m \u001b[1;33m\u001b[0m\u001b[0m\n\u001b[0;32m   2335\u001b[0m                     \u001b[1;31m# other\u001b[0m\u001b[1;33m\u001b[0m\u001b[1;33m\u001b[0m\u001b[0m\n",
      "\u001b[1;31mValueError\u001b[0m: cannot reindex from a duplicate axis"
     ]
    }
   ],
   "source": [
    "myPanel = define_target_within_x_years(em2mod[default_tstmps],em2mod,yr_times,yr_tfolds,5,'former')"
   ]
  },
  {
   "cell_type": "code",
   "execution_count": null,
   "metadata": {
    "collapsed": false
   },
   "outputs": [],
   "source": [
    "Xfold = np.zeros((len(em2mod),len(columns_for_modeling)+2,len(yr_tfolds)))\n",
    "np.shape(Xfold)"
   ]
  },
  {
   "cell_type": "code",
   "execution_count": null,
   "metadata": {
    "collapsed": true
   },
   "outputs": [],
   "source": [
    "yfold = []\n",
    "for i in xrange(0,len(yr_tfolds)):\n",
    "    Xfold[:,:-2,i]=em2mod[columns_for_modeling].as_matrix().astype(np.float)\n",
    "    Xfold[:,-2:,i]=myPanel[i][['adj_age','adj_tenure']]\n",
    "    my_y=myPanel[i][['adj_tgt']].as_matrix().astype(np.int)\n",
    "    yfold.append(my_y)\n"
   ]
  },
  {
   "cell_type": "code",
   "execution_count": 32,
   "metadata": {
    "collapsed": true
   },
   "outputs": [],
   "source": [
    "default_tstmps = ['birth_tstmp','hire_tstmp','term_tstmp']\n",
    "def setup_tfold_models(df,yr_val,cols_of_interest,tgt_value='former',tstmp_cols =default_tstmps ,date_range=full_date_range):\n",
    "    \"\"\"\n",
    "    input: df \n",
    "        * assumes the date columns are timestamps,\n",
    "        * assumes _years need to be adjusted\n",
    "        * date_range is \n",
    "    \"\"\"\n",
    "    # create the folds\n",
    "    yr_tfolds,yr_times = create_temporal_kfolds(df[tstmp_cols],date_range,yr_val)\n",
    "    # create the panels (offset)\n",
    "    myPanel = define_target_within_x_years(df[tstmp_cols],df,yr_times,yr_tfolds,yr_val,tgt_value)\n",
    "    # create the tfold training sets\n",
    "    #[(a,emBuild.ix[five_yr_tfolds[a][0]].terminated.sum()) for a in xrange(0,9)]\n",
    "    Xfold = np.zeros((len(df),len(cols_of_interest)+2,len(yr_tfolds)))\n",
    "    ## So now\n",
    "    yfold = []\n",
    "    for i in xrange(0,len(yr_tfolds)):\n",
    "        Xfold[:,:-2,i]=df[cols_of_interest].as_matrix().astype(np.float)\n",
    "        Xfold[:,-2:,i]=myPanel[i][['adj_age','adj_tenure']]\n",
    "        my_y=myPanel[i][['adj_tgt']].as_matrix().astype(np.int)\n",
    "        yfold.append(my_y)\n",
    "    \n",
    "    return yr_tfolds, yr_times, myPanel, Xfold, yfold\n",
    "        "
   ]
  },
  {
   "cell_type": "code",
   "execution_count": 33,
   "metadata": {
    "collapsed": false
   },
   "outputs": [
    {
     "data": {
      "text/plain": [
       "['Age_years',\n",
       " 'Tenure_years',\n",
       " 'SAL1',\n",
       " 'MERIT1',\n",
       " 'PERF1',\n",
       " 'BOX1',\n",
       " 'SEX',\n",
       " 'HAVE_INS',\n",
       " 'HAVE_DEP']"
      ]
     },
     "execution_count": 33,
     "metadata": {},
     "output_type": "execute_result"
    }
   ],
   "source": [
    "columns_for_modeling"
   ]
  },
  {
   "cell_type": "code",
   "execution_count": 112,
   "metadata": {
    "collapsed": false
   },
   "outputs": [
    {
     "name": "stdout",
     "output_type": "stream",
     "text": [
      "13 5 8 107412\n",
      "9\n",
      "2002-01-01 2007-01-01 62575 44837\n",
      "2003-01-01 2008-01-01 60750 46662\n",
      "2004-01-01 2009-01-01 57564 49848\n",
      "2005-01-01 2010-01-01 54627 52785\n",
      "2006-01-01 2011-01-01 53328 54084\n",
      "2007-01-01 2012-01-01 53138 54274\n",
      "2008-01-01 2013-01-01 52608 54804\n",
      "2009-01-01 2014-01-01 53211 54201\n",
      "2010-01-01 2015-01-01 52587 54825\n",
      "9\n"
     ]
    }
   ],
   "source": [
    "tfold5,tfold5_times,panel5term,X5fold,y5fold = setup_tfold_models(em2mod,5,columns_for_modeling)"
   ]
  },
  {
   "cell_type": "markdown",
   "metadata": {},
   "source": [
    "## now build t_fold models\n"
   ]
  },
  {
   "cell_type": "code",
   "execution_count": 113,
   "metadata": {
    "collapsed": true
   },
   "outputs": [],
   "source": [
    "from sklearn import ensemble"
   ]
  },
  {
   "cell_type": "code",
   "execution_count": 114,
   "metadata": {
    "collapsed": false
   },
   "outputs": [
    {
     "data": {
      "text/plain": [
       "9"
      ]
     },
     "execution_count": 114,
     "metadata": {},
     "output_type": "execute_result"
    }
   ],
   "source": [
    "len(tfold5)"
   ]
  },
  {
   "cell_type": "code",
   "execution_count": 169,
   "metadata": {
    "collapsed": false
   },
   "outputs": [
    {
     "name": "stdout",
     "output_type": "stream",
     "text": [
      "CPU times: user 13min 30s, sys: 277 ms, total: 13min 31s\n",
      "Wall time: 13min 30s\n"
     ]
    }
   ],
   "source": [
    "%%time\n",
    "five_rf_mdl_100A = []\n",
    "for i in xrange(0,len(tfold5)):\n",
    "    train_y = y5fold[i].flatten()\n",
    "    train_X = X5fold[:,:,i]\n",
    "    rfmdl = ensemble.RandomForestClassifier(n_estimators=100,max_features=None,n_jobs=1)\n",
    "    rfmdl.fit(train_X,train_y)\n",
    "#baseline_singleRFC = ensemble.RandomForestClassifier(n_jobs=50,n_estimators=500,max_features=None)\n",
    "#baseline_singleRFC.fit(X,y_term)\n",
    "#baseline_singleRFC_importances= baseline_singleRFC.feature_importances_\n",
    "    five_rf_mdl_100A.append(rfmdl)"
   ]
  },
  {
   "cell_type": "code",
   "execution_count": 170,
   "metadata": {
    "collapsed": false
   },
   "outputs": [
    {
     "name": "stdout",
     "output_type": "stream",
     "text": [
      "/home/kesj/work/hrsepara/eda\n",
      "/home/kesj/work/hrsepara/eda/Ajl_5yr_100\n"
     ]
    }
   ],
   "source": [
    "%cd ../\n",
    "%cd '/home/kesj/work/hrsepara/eda/Ajl_5yr_100/'"
   ]
  },
  {
   "cell_type": "code",
   "execution_count": 173,
   "metadata": {
    "collapsed": false
   },
   "outputs": [
    {
     "data": {
      "text/plain": [
       "['Age_years',\n",
       " 'Tenure_years',\n",
       " 'SAL1',\n",
       " 'MERIT1',\n",
       " 'PERF1',\n",
       " 'BOX1',\n",
       " 'SEX',\n",
       " 'HAVE_INS',\n",
       " 'HAVE_DEP']"
      ]
     },
     "execution_count": 173,
     "metadata": {},
     "output_type": "execute_result"
    }
   ],
   "source": [
    "columns_for_modeling"
   ]
  },
  {
   "cell_type": "code",
   "execution_count": 174,
   "metadata": {
    "collapsed": false
   },
   "outputs": [
    {
     "data": {
      "text/plain": [
       "22500"
      ]
     },
     "execution_count": 174,
     "metadata": {},
     "output_type": "execute_result"
    }
   ],
   "source": []
  },
  {
   "cell_type": "code",
   "execution_count": 172,
   "metadata": {
    "collapsed": false
   },
   "outputs": [
    {
     "data": {
      "text/plain": [
       "['frf100.pkl',\n",
       " 'frf100.pkl_01.npy',\n",
       " 'frf100.pkl_02.npy',\n",
       " 'frf100.pkl_03.npy',\n",
       " 'frf100.pkl_04.npy',\n",
       " 'frf100.pkl_05.npy',\n",
       " 'frf100.pkl_06.npy',\n",
       " 'frf100.pkl_07.npy',\n",
       " 'frf100.pkl_08.npy',\n",
       " 'frf100.pkl_09.npy',\n",
       " 'frf100.pkl_10.npy',\n",
       " 'frf100.pkl_11.npy',\n",
       " 'frf100.pkl_12.npy',\n",
       " 'frf100.pkl_13.npy',\n",
       " 'frf100.pkl_14.npy',\n",
       " 'frf100.pkl_15.npy',\n",
       " 'frf100.pkl_16.npy',\n",
       " 'frf100.pkl_17.npy',\n",
       " 'frf100.pkl_18.npy',\n",
       " 'frf100.pkl_19.npy',\n",
       " 'frf100.pkl_20.npy',\n",
       " 'frf100.pkl_21.npy',\n",
       " 'frf100.pkl_22.npy',\n",
       " 'frf100.pkl_23.npy',\n",
       " 'frf100.pkl_24.npy',\n",
       " 'frf100.pkl_25.npy',\n",
       " 'frf100.pkl_26.npy',\n",
       " 'frf100.pkl_27.npy',\n",
       " 'frf100.pkl_28.npy',\n",
       " 'frf100.pkl_29.npy',\n",
       " 'frf100.pkl_30.npy',\n",
       " 'frf100.pkl_31.npy',\n",
       " 'frf100.pkl_32.npy',\n",
       " 'frf100.pkl_33.npy',\n",
       " 'frf100.pkl_34.npy',\n",
       " 'frf100.pkl_35.npy',\n",
       " 'frf100.pkl_36.npy',\n",
       " 'frf100.pkl_37.npy',\n",
       " 'frf100.pkl_38.npy',\n",
       " 'frf100.pkl_39.npy',\n",
       " 'frf100.pkl_40.npy',\n",
       " 'frf100.pkl_41.npy',\n",
       " 'frf100.pkl_42.npy',\n",
       " 'frf100.pkl_43.npy',\n",
       " 'frf100.pkl_44.npy',\n",
       " 'frf100.pkl_45.npy',\n",
       " 'frf100.pkl_46.npy',\n",
       " 'frf100.pkl_47.npy',\n",
       " 'frf100.pkl_48.npy',\n",
       " 'frf100.pkl_49.npy',\n",
       " 'frf100.pkl_50.npy',\n",
       " 'frf100.pkl_51.npy',\n",
       " 'frf100.pkl_52.npy',\n",
       " 'frf100.pkl_53.npy',\n",
       " 'frf100.pkl_54.npy',\n",
       " 'frf100.pkl_55.npy',\n",
       " 'frf100.pkl_56.npy',\n",
       " 'frf100.pkl_57.npy',\n",
       " 'frf100.pkl_58.npy',\n",
       " 'frf100.pkl_59.npy',\n",
       " 'frf100.pkl_60.npy',\n",
       " 'frf100.pkl_61.npy',\n",
       " 'frf100.pkl_62.npy',\n",
       " 'frf100.pkl_63.npy',\n",
       " 'frf100.pkl_64.npy',\n",
       " 'frf100.pkl_65.npy',\n",
       " 'frf100.pkl_66.npy',\n",
       " 'frf100.pkl_67.npy',\n",
       " 'frf100.pkl_68.npy',\n",
       " 'frf100.pkl_69.npy',\n",
       " 'frf100.pkl_70.npy',\n",
       " 'frf100.pkl_71.npy',\n",
       " 'frf100.pkl_72.npy',\n",
       " 'frf100.pkl_73.npy',\n",
       " 'frf100.pkl_74.npy',\n",
       " 'frf100.pkl_75.npy',\n",
       " 'frf100.pkl_76.npy',\n",
       " 'frf100.pkl_77.npy',\n",
       " 'frf100.pkl_78.npy',\n",
       " 'frf100.pkl_79.npy',\n",
       " 'frf100.pkl_80.npy',\n",
       " 'frf100.pkl_81.npy',\n",
       " 'frf100.pkl_82.npy',\n",
       " 'frf100.pkl_83.npy',\n",
       " 'frf100.pkl_84.npy',\n",
       " 'frf100.pkl_85.npy',\n",
       " 'frf100.pkl_86.npy',\n",
       " 'frf100.pkl_87.npy',\n",
       " 'frf100.pkl_88.npy',\n",
       " 'frf100.pkl_89.npy',\n",
       " 'frf100.pkl_90.npy',\n",
       " 'frf100.pkl_91.npy',\n",
       " 'frf100.pkl_92.npy',\n",
       " 'frf100.pkl_93.npy',\n",
       " 'frf100.pkl_94.npy',\n",
       " 'frf100.pkl_95.npy',\n",
       " 'frf100.pkl_96.npy',\n",
       " 'frf100.pkl_97.npy',\n",
       " 'frf100.pkl_98.npy',\n",
       " 'frf100.pkl_99.npy',\n",
       " 'frf100.pkl_100.npy',\n",
       " 'frf100.pkl_101.npy',\n",
       " 'frf100.pkl_102.npy',\n",
       " 'frf100.pkl_103.npy',\n",
       " 'frf100.pkl_104.npy',\n",
       " 'frf100.pkl_105.npy',\n",
       " 'frf100.pkl_106.npy',\n",
       " 'frf100.pkl_107.npy',\n",
       " 'frf100.pkl_108.npy',\n",
       " 'frf100.pkl_109.npy',\n",
       " 'frf100.pkl_110.npy',\n",
       " 'frf100.pkl_111.npy',\n",
       " 'frf100.pkl_112.npy',\n",
       " 'frf100.pkl_113.npy',\n",
       " 'frf100.pkl_114.npy',\n",
       " 'frf100.pkl_115.npy',\n",
       " 'frf100.pkl_116.npy',\n",
       " 'frf100.pkl_117.npy',\n",
       " 'frf100.pkl_118.npy',\n",
       " 'frf100.pkl_119.npy',\n",
       " 'frf100.pkl_120.npy',\n",
       " 'frf100.pkl_121.npy',\n",
       " 'frf100.pkl_122.npy',\n",
       " 'frf100.pkl_123.npy',\n",
       " 'frf100.pkl_124.npy',\n",
       " 'frf100.pkl_125.npy',\n",
       " 'frf100.pkl_126.npy',\n",
       " 'frf100.pkl_127.npy',\n",
       " 'frf100.pkl_128.npy',\n",
       " 'frf100.pkl_129.npy',\n",
       " 'frf100.pkl_130.npy',\n",
       " 'frf100.pkl_131.npy',\n",
       " 'frf100.pkl_132.npy',\n",
       " 'frf100.pkl_133.npy',\n",
       " 'frf100.pkl_134.npy',\n",
       " 'frf100.pkl_135.npy',\n",
       " 'frf100.pkl_136.npy',\n",
       " 'frf100.pkl_137.npy',\n",
       " 'frf100.pkl_138.npy',\n",
       " 'frf100.pkl_139.npy',\n",
       " 'frf100.pkl_140.npy',\n",
       " 'frf100.pkl_141.npy',\n",
       " 'frf100.pkl_142.npy',\n",
       " 'frf100.pkl_143.npy',\n",
       " 'frf100.pkl_144.npy',\n",
       " 'frf100.pkl_145.npy',\n",
       " 'frf100.pkl_146.npy',\n",
       " 'frf100.pkl_147.npy',\n",
       " 'frf100.pkl_148.npy',\n",
       " 'frf100.pkl_149.npy',\n",
       " 'frf100.pkl_150.npy',\n",
       " 'frf100.pkl_151.npy',\n",
       " 'frf100.pkl_152.npy',\n",
       " 'frf100.pkl_153.npy',\n",
       " 'frf100.pkl_154.npy',\n",
       " 'frf100.pkl_155.npy',\n",
       " 'frf100.pkl_156.npy',\n",
       " 'frf100.pkl_157.npy',\n",
       " 'frf100.pkl_158.npy',\n",
       " 'frf100.pkl_159.npy',\n",
       " 'frf100.pkl_160.npy',\n",
       " 'frf100.pkl_161.npy',\n",
       " 'frf100.pkl_162.npy',\n",
       " 'frf100.pkl_163.npy',\n",
       " 'frf100.pkl_164.npy',\n",
       " 'frf100.pkl_165.npy',\n",
       " 'frf100.pkl_166.npy',\n",
       " 'frf100.pkl_167.npy',\n",
       " 'frf100.pkl_168.npy',\n",
       " 'frf100.pkl_169.npy',\n",
       " 'frf100.pkl_170.npy',\n",
       " 'frf100.pkl_171.npy',\n",
       " 'frf100.pkl_172.npy',\n",
       " 'frf100.pkl_173.npy',\n",
       " 'frf100.pkl_174.npy',\n",
       " 'frf100.pkl_175.npy',\n",
       " 'frf100.pkl_176.npy',\n",
       " 'frf100.pkl_177.npy',\n",
       " 'frf100.pkl_178.npy',\n",
       " 'frf100.pkl_179.npy',\n",
       " 'frf100.pkl_180.npy',\n",
       " 'frf100.pkl_181.npy',\n",
       " 'frf100.pkl_182.npy',\n",
       " 'frf100.pkl_183.npy',\n",
       " 'frf100.pkl_184.npy',\n",
       " 'frf100.pkl_185.npy',\n",
       " 'frf100.pkl_186.npy',\n",
       " 'frf100.pkl_187.npy',\n",
       " 'frf100.pkl_188.npy',\n",
       " 'frf100.pkl_189.npy',\n",
       " 'frf100.pkl_190.npy',\n",
       " 'frf100.pkl_191.npy',\n",
       " 'frf100.pkl_192.npy',\n",
       " 'frf100.pkl_193.npy',\n",
       " 'frf100.pkl_194.npy',\n",
       " 'frf100.pkl_195.npy',\n",
       " 'frf100.pkl_196.npy',\n",
       " 'frf100.pkl_197.npy',\n",
       " 'frf100.pkl_198.npy',\n",
       " 'frf100.pkl_199.npy',\n",
       " 'frf100.pkl_200.npy',\n",
       " 'frf100.pkl_201.npy',\n",
       " 'frf100.pkl_202.npy',\n",
       " 'frf100.pkl_203.npy',\n",
       " 'frf100.pkl_204.npy',\n",
       " 'frf100.pkl_205.npy',\n",
       " 'frf100.pkl_206.npy',\n",
       " 'frf100.pkl_207.npy',\n",
       " 'frf100.pkl_208.npy',\n",
       " 'frf100.pkl_209.npy',\n",
       " 'frf100.pkl_210.npy',\n",
       " 'frf100.pkl_211.npy',\n",
       " 'frf100.pkl_212.npy',\n",
       " 'frf100.pkl_213.npy',\n",
       " 'frf100.pkl_214.npy',\n",
       " 'frf100.pkl_215.npy',\n",
       " 'frf100.pkl_216.npy',\n",
       " 'frf100.pkl_217.npy',\n",
       " 'frf100.pkl_218.npy',\n",
       " 'frf100.pkl_219.npy',\n",
       " 'frf100.pkl_220.npy',\n",
       " 'frf100.pkl_221.npy',\n",
       " 'frf100.pkl_222.npy',\n",
       " 'frf100.pkl_223.npy',\n",
       " 'frf100.pkl_224.npy',\n",
       " 'frf100.pkl_225.npy',\n",
       " 'frf100.pkl_226.npy',\n",
       " 'frf100.pkl_227.npy',\n",
       " 'frf100.pkl_228.npy',\n",
       " 'frf100.pkl_229.npy',\n",
       " 'frf100.pkl_230.npy',\n",
       " 'frf100.pkl_231.npy',\n",
       " 'frf100.pkl_232.npy',\n",
       " 'frf100.pkl_233.npy',\n",
       " 'frf100.pkl_234.npy',\n",
       " 'frf100.pkl_235.npy',\n",
       " 'frf100.pkl_236.npy',\n",
       " 'frf100.pkl_237.npy',\n",
       " 'frf100.pkl_238.npy',\n",
       " 'frf100.pkl_239.npy',\n",
       " 'frf100.pkl_240.npy',\n",
       " 'frf100.pkl_241.npy',\n",
       " 'frf100.pkl_242.npy',\n",
       " 'frf100.pkl_243.npy',\n",
       " 'frf100.pkl_244.npy',\n",
       " 'frf100.pkl_245.npy',\n",
       " 'frf100.pkl_246.npy',\n",
       " 'frf100.pkl_247.npy',\n",
       " 'frf100.pkl_248.npy',\n",
       " 'frf100.pkl_249.npy',\n",
       " 'frf100.pkl_250.npy',\n",
       " 'frf100.pkl_251.npy',\n",
       " 'frf100.pkl_252.npy',\n",
       " 'frf100.pkl_253.npy',\n",
       " 'frf100.pkl_254.npy',\n",
       " 'frf100.pkl_255.npy',\n",
       " 'frf100.pkl_256.npy',\n",
       " 'frf100.pkl_257.npy',\n",
       " 'frf100.pkl_258.npy',\n",
       " 'frf100.pkl_259.npy',\n",
       " 'frf100.pkl_260.npy',\n",
       " 'frf100.pkl_261.npy',\n",
       " 'frf100.pkl_262.npy',\n",
       " 'frf100.pkl_263.npy',\n",
       " 'frf100.pkl_264.npy',\n",
       " 'frf100.pkl_265.npy',\n",
       " 'frf100.pkl_266.npy',\n",
       " 'frf100.pkl_267.npy',\n",
       " 'frf100.pkl_268.npy',\n",
       " 'frf100.pkl_269.npy',\n",
       " 'frf100.pkl_270.npy',\n",
       " 'frf100.pkl_271.npy',\n",
       " 'frf100.pkl_272.npy',\n",
       " 'frf100.pkl_273.npy',\n",
       " 'frf100.pkl_274.npy',\n",
       " 'frf100.pkl_275.npy',\n",
       " 'frf100.pkl_276.npy',\n",
       " 'frf100.pkl_277.npy',\n",
       " 'frf100.pkl_278.npy',\n",
       " 'frf100.pkl_279.npy',\n",
       " 'frf100.pkl_280.npy',\n",
       " 'frf100.pkl_281.npy',\n",
       " 'frf100.pkl_282.npy',\n",
       " 'frf100.pkl_283.npy',\n",
       " 'frf100.pkl_284.npy',\n",
       " 'frf100.pkl_285.npy',\n",
       " 'frf100.pkl_286.npy',\n",
       " 'frf100.pkl_287.npy',\n",
       " 'frf100.pkl_288.npy',\n",
       " 'frf100.pkl_289.npy',\n",
       " 'frf100.pkl_290.npy',\n",
       " 'frf100.pkl_291.npy',\n",
       " 'frf100.pkl_292.npy',\n",
       " 'frf100.pkl_293.npy',\n",
       " 'frf100.pkl_294.npy',\n",
       " 'frf100.pkl_295.npy',\n",
       " 'frf100.pkl_296.npy',\n",
       " 'frf100.pkl_297.npy',\n",
       " 'frf100.pkl_298.npy',\n",
       " 'frf100.pkl_299.npy',\n",
       " 'frf100.pkl_300.npy',\n",
       " 'frf100.pkl_301.npy',\n",
       " 'frf100.pkl_302.npy',\n",
       " 'frf100.pkl_303.npy',\n",
       " 'frf100.pkl_304.npy',\n",
       " 'frf100.pkl_305.npy',\n",
       " 'frf100.pkl_306.npy',\n",
       " 'frf100.pkl_307.npy',\n",
       " 'frf100.pkl_308.npy',\n",
       " 'frf100.pkl_309.npy',\n",
       " 'frf100.pkl_310.npy',\n",
       " 'frf100.pkl_311.npy',\n",
       " 'frf100.pkl_312.npy',\n",
       " 'frf100.pkl_313.npy',\n",
       " 'frf100.pkl_314.npy',\n",
       " 'frf100.pkl_315.npy',\n",
       " 'frf100.pkl_316.npy',\n",
       " 'frf100.pkl_317.npy',\n",
       " 'frf100.pkl_318.npy',\n",
       " 'frf100.pkl_319.npy',\n",
       " 'frf100.pkl_320.npy',\n",
       " 'frf100.pkl_321.npy',\n",
       " 'frf100.pkl_322.npy',\n",
       " 'frf100.pkl_323.npy',\n",
       " 'frf100.pkl_324.npy',\n",
       " 'frf100.pkl_325.npy',\n",
       " 'frf100.pkl_326.npy',\n",
       " 'frf100.pkl_327.npy',\n",
       " 'frf100.pkl_328.npy',\n",
       " 'frf100.pkl_329.npy',\n",
       " 'frf100.pkl_330.npy',\n",
       " 'frf100.pkl_331.npy',\n",
       " 'frf100.pkl_332.npy',\n",
       " 'frf100.pkl_333.npy',\n",
       " 'frf100.pkl_334.npy',\n",
       " 'frf100.pkl_335.npy',\n",
       " 'frf100.pkl_336.npy',\n",
       " 'frf100.pkl_337.npy',\n",
       " 'frf100.pkl_338.npy',\n",
       " 'frf100.pkl_339.npy',\n",
       " 'frf100.pkl_340.npy',\n",
       " 'frf100.pkl_341.npy',\n",
       " 'frf100.pkl_342.npy',\n",
       " 'frf100.pkl_343.npy',\n",
       " 'frf100.pkl_344.npy',\n",
       " 'frf100.pkl_345.npy',\n",
       " 'frf100.pkl_346.npy',\n",
       " 'frf100.pkl_347.npy',\n",
       " 'frf100.pkl_348.npy',\n",
       " 'frf100.pkl_349.npy',\n",
       " 'frf100.pkl_350.npy',\n",
       " 'frf100.pkl_351.npy',\n",
       " 'frf100.pkl_352.npy',\n",
       " 'frf100.pkl_353.npy',\n",
       " 'frf100.pkl_354.npy',\n",
       " 'frf100.pkl_355.npy',\n",
       " 'frf100.pkl_356.npy',\n",
       " 'frf100.pkl_357.npy',\n",
       " 'frf100.pkl_358.npy',\n",
       " 'frf100.pkl_359.npy',\n",
       " 'frf100.pkl_360.npy',\n",
       " 'frf100.pkl_361.npy',\n",
       " 'frf100.pkl_362.npy',\n",
       " 'frf100.pkl_363.npy',\n",
       " 'frf100.pkl_364.npy',\n",
       " 'frf100.pkl_365.npy',\n",
       " 'frf100.pkl_366.npy',\n",
       " 'frf100.pkl_367.npy',\n",
       " 'frf100.pkl_368.npy',\n",
       " 'frf100.pkl_369.npy',\n",
       " 'frf100.pkl_370.npy',\n",
       " 'frf100.pkl_371.npy',\n",
       " 'frf100.pkl_372.npy',\n",
       " 'frf100.pkl_373.npy',\n",
       " 'frf100.pkl_374.npy',\n",
       " 'frf100.pkl_375.npy',\n",
       " 'frf100.pkl_376.npy',\n",
       " 'frf100.pkl_377.npy',\n",
       " 'frf100.pkl_378.npy',\n",
       " 'frf100.pkl_379.npy',\n",
       " 'frf100.pkl_380.npy',\n",
       " 'frf100.pkl_381.npy',\n",
       " 'frf100.pkl_382.npy',\n",
       " 'frf100.pkl_383.npy',\n",
       " 'frf100.pkl_384.npy',\n",
       " 'frf100.pkl_385.npy',\n",
       " 'frf100.pkl_386.npy',\n",
       " 'frf100.pkl_387.npy',\n",
       " 'frf100.pkl_388.npy',\n",
       " 'frf100.pkl_389.npy',\n",
       " 'frf100.pkl_390.npy',\n",
       " 'frf100.pkl_391.npy',\n",
       " 'frf100.pkl_392.npy',\n",
       " 'frf100.pkl_393.npy',\n",
       " 'frf100.pkl_394.npy',\n",
       " 'frf100.pkl_395.npy',\n",
       " 'frf100.pkl_396.npy',\n",
       " 'frf100.pkl_397.npy',\n",
       " 'frf100.pkl_398.npy',\n",
       " 'frf100.pkl_399.npy',\n",
       " 'frf100.pkl_400.npy',\n",
       " 'frf100.pkl_401.npy',\n",
       " 'frf100.pkl_402.npy',\n",
       " 'frf100.pkl_403.npy',\n",
       " 'frf100.pkl_404.npy',\n",
       " 'frf100.pkl_405.npy',\n",
       " 'frf100.pkl_406.npy',\n",
       " 'frf100.pkl_407.npy',\n",
       " 'frf100.pkl_408.npy',\n",
       " 'frf100.pkl_409.npy',\n",
       " 'frf100.pkl_410.npy',\n",
       " 'frf100.pkl_411.npy',\n",
       " 'frf100.pkl_412.npy',\n",
       " 'frf100.pkl_413.npy',\n",
       " 'frf100.pkl_414.npy',\n",
       " 'frf100.pkl_415.npy',\n",
       " 'frf100.pkl_416.npy',\n",
       " 'frf100.pkl_417.npy',\n",
       " 'frf100.pkl_418.npy',\n",
       " 'frf100.pkl_419.npy',\n",
       " 'frf100.pkl_420.npy',\n",
       " 'frf100.pkl_421.npy',\n",
       " 'frf100.pkl_422.npy',\n",
       " 'frf100.pkl_423.npy',\n",
       " 'frf100.pkl_424.npy',\n",
       " 'frf100.pkl_425.npy',\n",
       " 'frf100.pkl_426.npy',\n",
       " 'frf100.pkl_427.npy',\n",
       " 'frf100.pkl_428.npy',\n",
       " 'frf100.pkl_429.npy',\n",
       " 'frf100.pkl_430.npy',\n",
       " 'frf100.pkl_431.npy',\n",
       " 'frf100.pkl_432.npy',\n",
       " 'frf100.pkl_433.npy',\n",
       " 'frf100.pkl_434.npy',\n",
       " 'frf100.pkl_435.npy',\n",
       " 'frf100.pkl_436.npy',\n",
       " 'frf100.pkl_437.npy',\n",
       " 'frf100.pkl_438.npy',\n",
       " 'frf100.pkl_439.npy',\n",
       " 'frf100.pkl_440.npy',\n",
       " 'frf100.pkl_441.npy',\n",
       " 'frf100.pkl_442.npy',\n",
       " 'frf100.pkl_443.npy',\n",
       " 'frf100.pkl_444.npy',\n",
       " 'frf100.pkl_445.npy',\n",
       " 'frf100.pkl_446.npy',\n",
       " 'frf100.pkl_447.npy',\n",
       " 'frf100.pkl_448.npy',\n",
       " 'frf100.pkl_449.npy',\n",
       " 'frf100.pkl_450.npy',\n",
       " 'frf100.pkl_451.npy',\n",
       " 'frf100.pkl_452.npy',\n",
       " 'frf100.pkl_453.npy',\n",
       " 'frf100.pkl_454.npy',\n",
       " 'frf100.pkl_455.npy',\n",
       " 'frf100.pkl_456.npy',\n",
       " 'frf100.pkl_457.npy',\n",
       " 'frf100.pkl_458.npy',\n",
       " 'frf100.pkl_459.npy',\n",
       " 'frf100.pkl_460.npy',\n",
       " 'frf100.pkl_461.npy',\n",
       " 'frf100.pkl_462.npy',\n",
       " 'frf100.pkl_463.npy',\n",
       " 'frf100.pkl_464.npy',\n",
       " 'frf100.pkl_465.npy',\n",
       " 'frf100.pkl_466.npy',\n",
       " 'frf100.pkl_467.npy',\n",
       " 'frf100.pkl_468.npy',\n",
       " 'frf100.pkl_469.npy',\n",
       " 'frf100.pkl_470.npy',\n",
       " 'frf100.pkl_471.npy',\n",
       " 'frf100.pkl_472.npy',\n",
       " 'frf100.pkl_473.npy',\n",
       " 'frf100.pkl_474.npy',\n",
       " 'frf100.pkl_475.npy',\n",
       " 'frf100.pkl_476.npy',\n",
       " 'frf100.pkl_477.npy',\n",
       " 'frf100.pkl_478.npy',\n",
       " 'frf100.pkl_479.npy',\n",
       " 'frf100.pkl_480.npy',\n",
       " 'frf100.pkl_481.npy',\n",
       " 'frf100.pkl_482.npy',\n",
       " 'frf100.pkl_483.npy',\n",
       " 'frf100.pkl_484.npy',\n",
       " 'frf100.pkl_485.npy',\n",
       " 'frf100.pkl_486.npy',\n",
       " 'frf100.pkl_487.npy',\n",
       " 'frf100.pkl_488.npy',\n",
       " 'frf100.pkl_489.npy',\n",
       " 'frf100.pkl_490.npy',\n",
       " 'frf100.pkl_491.npy',\n",
       " 'frf100.pkl_492.npy',\n",
       " 'frf100.pkl_493.npy',\n",
       " 'frf100.pkl_494.npy',\n",
       " 'frf100.pkl_495.npy',\n",
       " 'frf100.pkl_496.npy',\n",
       " 'frf100.pkl_497.npy',\n",
       " 'frf100.pkl_498.npy',\n",
       " 'frf100.pkl_499.npy',\n",
       " 'frf100.pkl_500.npy',\n",
       " 'frf100.pkl_501.npy',\n",
       " 'frf100.pkl_502.npy',\n",
       " 'frf100.pkl_503.npy',\n",
       " 'frf100.pkl_504.npy',\n",
       " 'frf100.pkl_505.npy',\n",
       " 'frf100.pkl_506.npy',\n",
       " 'frf100.pkl_507.npy',\n",
       " 'frf100.pkl_508.npy',\n",
       " 'frf100.pkl_509.npy',\n",
       " 'frf100.pkl_510.npy',\n",
       " 'frf100.pkl_511.npy',\n",
       " 'frf100.pkl_512.npy',\n",
       " 'frf100.pkl_513.npy',\n",
       " 'frf100.pkl_514.npy',\n",
       " 'frf100.pkl_515.npy',\n",
       " 'frf100.pkl_516.npy',\n",
       " 'frf100.pkl_517.npy',\n",
       " 'frf100.pkl_518.npy',\n",
       " 'frf100.pkl_519.npy',\n",
       " 'frf100.pkl_520.npy',\n",
       " 'frf100.pkl_521.npy',\n",
       " 'frf100.pkl_522.npy',\n",
       " 'frf100.pkl_523.npy',\n",
       " 'frf100.pkl_524.npy',\n",
       " 'frf100.pkl_525.npy',\n",
       " 'frf100.pkl_526.npy',\n",
       " 'frf100.pkl_527.npy',\n",
       " 'frf100.pkl_528.npy',\n",
       " 'frf100.pkl_529.npy',\n",
       " 'frf100.pkl_530.npy',\n",
       " 'frf100.pkl_531.npy',\n",
       " 'frf100.pkl_532.npy',\n",
       " 'frf100.pkl_533.npy',\n",
       " 'frf100.pkl_534.npy',\n",
       " 'frf100.pkl_535.npy',\n",
       " 'frf100.pkl_536.npy',\n",
       " 'frf100.pkl_537.npy',\n",
       " 'frf100.pkl_538.npy',\n",
       " 'frf100.pkl_539.npy',\n",
       " 'frf100.pkl_540.npy',\n",
       " 'frf100.pkl_541.npy',\n",
       " 'frf100.pkl_542.npy',\n",
       " 'frf100.pkl_543.npy',\n",
       " 'frf100.pkl_544.npy',\n",
       " 'frf100.pkl_545.npy',\n",
       " 'frf100.pkl_546.npy',\n",
       " 'frf100.pkl_547.npy',\n",
       " 'frf100.pkl_548.npy',\n",
       " 'frf100.pkl_549.npy',\n",
       " 'frf100.pkl_550.npy',\n",
       " 'frf100.pkl_551.npy',\n",
       " 'frf100.pkl_552.npy',\n",
       " 'frf100.pkl_553.npy',\n",
       " 'frf100.pkl_554.npy',\n",
       " 'frf100.pkl_555.npy',\n",
       " 'frf100.pkl_556.npy',\n",
       " 'frf100.pkl_557.npy',\n",
       " 'frf100.pkl_558.npy',\n",
       " 'frf100.pkl_559.npy',\n",
       " 'frf100.pkl_560.npy',\n",
       " 'frf100.pkl_561.npy',\n",
       " 'frf100.pkl_562.npy',\n",
       " 'frf100.pkl_563.npy',\n",
       " 'frf100.pkl_564.npy',\n",
       " 'frf100.pkl_565.npy',\n",
       " 'frf100.pkl_566.npy',\n",
       " 'frf100.pkl_567.npy',\n",
       " 'frf100.pkl_568.npy',\n",
       " 'frf100.pkl_569.npy',\n",
       " 'frf100.pkl_570.npy',\n",
       " 'frf100.pkl_571.npy',\n",
       " 'frf100.pkl_572.npy',\n",
       " 'frf100.pkl_573.npy',\n",
       " 'frf100.pkl_574.npy',\n",
       " 'frf100.pkl_575.npy',\n",
       " 'frf100.pkl_576.npy',\n",
       " 'frf100.pkl_577.npy',\n",
       " 'frf100.pkl_578.npy',\n",
       " 'frf100.pkl_579.npy',\n",
       " 'frf100.pkl_580.npy',\n",
       " 'frf100.pkl_581.npy',\n",
       " 'frf100.pkl_582.npy',\n",
       " 'frf100.pkl_583.npy',\n",
       " 'frf100.pkl_584.npy',\n",
       " 'frf100.pkl_585.npy',\n",
       " 'frf100.pkl_586.npy',\n",
       " 'frf100.pkl_587.npy',\n",
       " 'frf100.pkl_588.npy',\n",
       " 'frf100.pkl_589.npy',\n",
       " 'frf100.pkl_590.npy',\n",
       " 'frf100.pkl_591.npy',\n",
       " 'frf100.pkl_592.npy',\n",
       " 'frf100.pkl_593.npy',\n",
       " 'frf100.pkl_594.npy',\n",
       " 'frf100.pkl_595.npy',\n",
       " 'frf100.pkl_596.npy',\n",
       " 'frf100.pkl_597.npy',\n",
       " 'frf100.pkl_598.npy',\n",
       " 'frf100.pkl_599.npy',\n",
       " 'frf100.pkl_600.npy',\n",
       " 'frf100.pkl_601.npy',\n",
       " 'frf100.pkl_602.npy',\n",
       " 'frf100.pkl_603.npy',\n",
       " 'frf100.pkl_604.npy',\n",
       " 'frf100.pkl_605.npy',\n",
       " 'frf100.pkl_606.npy',\n",
       " 'frf100.pkl_607.npy',\n",
       " 'frf100.pkl_608.npy',\n",
       " 'frf100.pkl_609.npy',\n",
       " 'frf100.pkl_610.npy',\n",
       " 'frf100.pkl_611.npy',\n",
       " 'frf100.pkl_612.npy',\n",
       " 'frf100.pkl_613.npy',\n",
       " 'frf100.pkl_614.npy',\n",
       " 'frf100.pkl_615.npy',\n",
       " 'frf100.pkl_616.npy',\n",
       " 'frf100.pkl_617.npy',\n",
       " 'frf100.pkl_618.npy',\n",
       " 'frf100.pkl_619.npy',\n",
       " 'frf100.pkl_620.npy',\n",
       " 'frf100.pkl_621.npy',\n",
       " 'frf100.pkl_622.npy',\n",
       " 'frf100.pkl_623.npy',\n",
       " 'frf100.pkl_624.npy',\n",
       " 'frf100.pkl_625.npy',\n",
       " 'frf100.pkl_626.npy',\n",
       " 'frf100.pkl_627.npy',\n",
       " 'frf100.pkl_628.npy',\n",
       " 'frf100.pkl_629.npy',\n",
       " 'frf100.pkl_630.npy',\n",
       " 'frf100.pkl_631.npy',\n",
       " 'frf100.pkl_632.npy',\n",
       " 'frf100.pkl_633.npy',\n",
       " 'frf100.pkl_634.npy',\n",
       " 'frf100.pkl_635.npy',\n",
       " 'frf100.pkl_636.npy',\n",
       " 'frf100.pkl_637.npy',\n",
       " 'frf100.pkl_638.npy',\n",
       " 'frf100.pkl_639.npy',\n",
       " 'frf100.pkl_640.npy',\n",
       " 'frf100.pkl_641.npy',\n",
       " 'frf100.pkl_642.npy',\n",
       " 'frf100.pkl_643.npy',\n",
       " 'frf100.pkl_644.npy',\n",
       " 'frf100.pkl_645.npy',\n",
       " 'frf100.pkl_646.npy',\n",
       " 'frf100.pkl_647.npy',\n",
       " 'frf100.pkl_648.npy',\n",
       " 'frf100.pkl_649.npy',\n",
       " 'frf100.pkl_650.npy',\n",
       " 'frf100.pkl_651.npy',\n",
       " 'frf100.pkl_652.npy',\n",
       " 'frf100.pkl_653.npy',\n",
       " 'frf100.pkl_654.npy',\n",
       " 'frf100.pkl_655.npy',\n",
       " 'frf100.pkl_656.npy',\n",
       " 'frf100.pkl_657.npy',\n",
       " 'frf100.pkl_658.npy',\n",
       " 'frf100.pkl_659.npy',\n",
       " 'frf100.pkl_660.npy',\n",
       " 'frf100.pkl_661.npy',\n",
       " 'frf100.pkl_662.npy',\n",
       " 'frf100.pkl_663.npy',\n",
       " 'frf100.pkl_664.npy',\n",
       " 'frf100.pkl_665.npy',\n",
       " 'frf100.pkl_666.npy',\n",
       " 'frf100.pkl_667.npy',\n",
       " 'frf100.pkl_668.npy',\n",
       " 'frf100.pkl_669.npy',\n",
       " 'frf100.pkl_670.npy',\n",
       " 'frf100.pkl_671.npy',\n",
       " 'frf100.pkl_672.npy',\n",
       " 'frf100.pkl_673.npy',\n",
       " 'frf100.pkl_674.npy',\n",
       " 'frf100.pkl_675.npy',\n",
       " 'frf100.pkl_676.npy',\n",
       " 'frf100.pkl_677.npy',\n",
       " 'frf100.pkl_678.npy',\n",
       " 'frf100.pkl_679.npy',\n",
       " 'frf100.pkl_680.npy',\n",
       " 'frf100.pkl_681.npy',\n",
       " 'frf100.pkl_682.npy',\n",
       " 'frf100.pkl_683.npy',\n",
       " 'frf100.pkl_684.npy',\n",
       " 'frf100.pkl_685.npy',\n",
       " 'frf100.pkl_686.npy',\n",
       " 'frf100.pkl_687.npy',\n",
       " 'frf100.pkl_688.npy',\n",
       " 'frf100.pkl_689.npy',\n",
       " 'frf100.pkl_690.npy',\n",
       " 'frf100.pkl_691.npy',\n",
       " 'frf100.pkl_692.npy',\n",
       " 'frf100.pkl_693.npy',\n",
       " 'frf100.pkl_694.npy',\n",
       " 'frf100.pkl_695.npy',\n",
       " 'frf100.pkl_696.npy',\n",
       " 'frf100.pkl_697.npy',\n",
       " 'frf100.pkl_698.npy',\n",
       " 'frf100.pkl_699.npy',\n",
       " 'frf100.pkl_700.npy',\n",
       " 'frf100.pkl_701.npy',\n",
       " 'frf100.pkl_702.npy',\n",
       " 'frf100.pkl_703.npy',\n",
       " 'frf100.pkl_704.npy',\n",
       " 'frf100.pkl_705.npy',\n",
       " 'frf100.pkl_706.npy',\n",
       " 'frf100.pkl_707.npy',\n",
       " 'frf100.pkl_708.npy',\n",
       " 'frf100.pkl_709.npy',\n",
       " 'frf100.pkl_710.npy',\n",
       " 'frf100.pkl_711.npy',\n",
       " 'frf100.pkl_712.npy',\n",
       " 'frf100.pkl_713.npy',\n",
       " 'frf100.pkl_714.npy',\n",
       " 'frf100.pkl_715.npy',\n",
       " 'frf100.pkl_716.npy',\n",
       " 'frf100.pkl_717.npy',\n",
       " 'frf100.pkl_718.npy',\n",
       " 'frf100.pkl_719.npy',\n",
       " 'frf100.pkl_720.npy',\n",
       " 'frf100.pkl_721.npy',\n",
       " 'frf100.pkl_722.npy',\n",
       " 'frf100.pkl_723.npy',\n",
       " 'frf100.pkl_724.npy',\n",
       " 'frf100.pkl_725.npy',\n",
       " 'frf100.pkl_726.npy',\n",
       " 'frf100.pkl_727.npy',\n",
       " 'frf100.pkl_728.npy',\n",
       " 'frf100.pkl_729.npy',\n",
       " 'frf100.pkl_730.npy',\n",
       " 'frf100.pkl_731.npy',\n",
       " 'frf100.pkl_732.npy',\n",
       " 'frf100.pkl_733.npy',\n",
       " 'frf100.pkl_734.npy',\n",
       " 'frf100.pkl_735.npy',\n",
       " 'frf100.pkl_736.npy',\n",
       " 'frf100.pkl_737.npy',\n",
       " 'frf100.pkl_738.npy',\n",
       " 'frf100.pkl_739.npy',\n",
       " 'frf100.pkl_740.npy',\n",
       " 'frf100.pkl_741.npy',\n",
       " 'frf100.pkl_742.npy',\n",
       " 'frf100.pkl_743.npy',\n",
       " 'frf100.pkl_744.npy',\n",
       " 'frf100.pkl_745.npy',\n",
       " 'frf100.pkl_746.npy',\n",
       " 'frf100.pkl_747.npy',\n",
       " 'frf100.pkl_748.npy',\n",
       " 'frf100.pkl_749.npy',\n",
       " 'frf100.pkl_750.npy',\n",
       " 'frf100.pkl_751.npy',\n",
       " 'frf100.pkl_752.npy',\n",
       " 'frf100.pkl_753.npy',\n",
       " 'frf100.pkl_754.npy',\n",
       " 'frf100.pkl_755.npy',\n",
       " 'frf100.pkl_756.npy',\n",
       " 'frf100.pkl_757.npy',\n",
       " 'frf100.pkl_758.npy',\n",
       " 'frf100.pkl_759.npy',\n",
       " 'frf100.pkl_760.npy',\n",
       " 'frf100.pkl_761.npy',\n",
       " 'frf100.pkl_762.npy',\n",
       " 'frf100.pkl_763.npy',\n",
       " 'frf100.pkl_764.npy',\n",
       " 'frf100.pkl_765.npy',\n",
       " 'frf100.pkl_766.npy',\n",
       " 'frf100.pkl_767.npy',\n",
       " 'frf100.pkl_768.npy',\n",
       " 'frf100.pkl_769.npy',\n",
       " 'frf100.pkl_770.npy',\n",
       " 'frf100.pkl_771.npy',\n",
       " 'frf100.pkl_772.npy',\n",
       " 'frf100.pkl_773.npy',\n",
       " 'frf100.pkl_774.npy',\n",
       " 'frf100.pkl_775.npy',\n",
       " 'frf100.pkl_776.npy',\n",
       " 'frf100.pkl_777.npy',\n",
       " 'frf100.pkl_778.npy',\n",
       " 'frf100.pkl_779.npy',\n",
       " 'frf100.pkl_780.npy',\n",
       " 'frf100.pkl_781.npy',\n",
       " 'frf100.pkl_782.npy',\n",
       " 'frf100.pkl_783.npy',\n",
       " 'frf100.pkl_784.npy',\n",
       " 'frf100.pkl_785.npy',\n",
       " 'frf100.pkl_786.npy',\n",
       " 'frf100.pkl_787.npy',\n",
       " 'frf100.pkl_788.npy',\n",
       " 'frf100.pkl_789.npy',\n",
       " 'frf100.pkl_790.npy',\n",
       " 'frf100.pkl_791.npy',\n",
       " 'frf100.pkl_792.npy',\n",
       " 'frf100.pkl_793.npy',\n",
       " 'frf100.pkl_794.npy',\n",
       " 'frf100.pkl_795.npy',\n",
       " 'frf100.pkl_796.npy',\n",
       " 'frf100.pkl_797.npy',\n",
       " 'frf100.pkl_798.npy',\n",
       " 'frf100.pkl_799.npy',\n",
       " 'frf100.pkl_800.npy',\n",
       " 'frf100.pkl_801.npy',\n",
       " 'frf100.pkl_802.npy',\n",
       " 'frf100.pkl_803.npy',\n",
       " 'frf100.pkl_804.npy',\n",
       " 'frf100.pkl_805.npy',\n",
       " 'frf100.pkl_806.npy',\n",
       " 'frf100.pkl_807.npy',\n",
       " 'frf100.pkl_808.npy',\n",
       " 'frf100.pkl_809.npy',\n",
       " 'frf100.pkl_810.npy',\n",
       " 'frf100.pkl_811.npy',\n",
       " 'frf100.pkl_812.npy',\n",
       " 'frf100.pkl_813.npy',\n",
       " 'frf100.pkl_814.npy',\n",
       " 'frf100.pkl_815.npy',\n",
       " 'frf100.pkl_816.npy',\n",
       " 'frf100.pkl_817.npy',\n",
       " 'frf100.pkl_818.npy',\n",
       " 'frf100.pkl_819.npy',\n",
       " 'frf100.pkl_820.npy',\n",
       " 'frf100.pkl_821.npy',\n",
       " 'frf100.pkl_822.npy',\n",
       " 'frf100.pkl_823.npy',\n",
       " 'frf100.pkl_824.npy',\n",
       " 'frf100.pkl_825.npy',\n",
       " 'frf100.pkl_826.npy',\n",
       " 'frf100.pkl_827.npy',\n",
       " 'frf100.pkl_828.npy',\n",
       " 'frf100.pkl_829.npy',\n",
       " 'frf100.pkl_830.npy',\n",
       " 'frf100.pkl_831.npy',\n",
       " 'frf100.pkl_832.npy',\n",
       " 'frf100.pkl_833.npy',\n",
       " 'frf100.pkl_834.npy',\n",
       " 'frf100.pkl_835.npy',\n",
       " 'frf100.pkl_836.npy',\n",
       " 'frf100.pkl_837.npy',\n",
       " 'frf100.pkl_838.npy',\n",
       " 'frf100.pkl_839.npy',\n",
       " 'frf100.pkl_840.npy',\n",
       " 'frf100.pkl_841.npy',\n",
       " 'frf100.pkl_842.npy',\n",
       " 'frf100.pkl_843.npy',\n",
       " 'frf100.pkl_844.npy',\n",
       " 'frf100.pkl_845.npy',\n",
       " 'frf100.pkl_846.npy',\n",
       " 'frf100.pkl_847.npy',\n",
       " 'frf100.pkl_848.npy',\n",
       " 'frf100.pkl_849.npy',\n",
       " 'frf100.pkl_850.npy',\n",
       " 'frf100.pkl_851.npy',\n",
       " 'frf100.pkl_852.npy',\n",
       " 'frf100.pkl_853.npy',\n",
       " 'frf100.pkl_854.npy',\n",
       " 'frf100.pkl_855.npy',\n",
       " 'frf100.pkl_856.npy',\n",
       " 'frf100.pkl_857.npy',\n",
       " 'frf100.pkl_858.npy',\n",
       " 'frf100.pkl_859.npy',\n",
       " 'frf100.pkl_860.npy',\n",
       " 'frf100.pkl_861.npy',\n",
       " 'frf100.pkl_862.npy',\n",
       " 'frf100.pkl_863.npy',\n",
       " 'frf100.pkl_864.npy',\n",
       " 'frf100.pkl_865.npy',\n",
       " 'frf100.pkl_866.npy',\n",
       " 'frf100.pkl_867.npy',\n",
       " 'frf100.pkl_868.npy',\n",
       " 'frf100.pkl_869.npy',\n",
       " 'frf100.pkl_870.npy',\n",
       " 'frf100.pkl_871.npy',\n",
       " 'frf100.pkl_872.npy',\n",
       " 'frf100.pkl_873.npy',\n",
       " 'frf100.pkl_874.npy',\n",
       " 'frf100.pkl_875.npy',\n",
       " 'frf100.pkl_876.npy',\n",
       " 'frf100.pkl_877.npy',\n",
       " 'frf100.pkl_878.npy',\n",
       " 'frf100.pkl_879.npy',\n",
       " 'frf100.pkl_880.npy',\n",
       " 'frf100.pkl_881.npy',\n",
       " 'frf100.pkl_882.npy',\n",
       " 'frf100.pkl_883.npy',\n",
       " 'frf100.pkl_884.npy',\n",
       " 'frf100.pkl_885.npy',\n",
       " 'frf100.pkl_886.npy',\n",
       " 'frf100.pkl_887.npy',\n",
       " 'frf100.pkl_888.npy',\n",
       " 'frf100.pkl_889.npy',\n",
       " 'frf100.pkl_890.npy',\n",
       " 'frf100.pkl_891.npy',\n",
       " 'frf100.pkl_892.npy',\n",
       " 'frf100.pkl_893.npy',\n",
       " 'frf100.pkl_894.npy',\n",
       " 'frf100.pkl_895.npy',\n",
       " 'frf100.pkl_896.npy',\n",
       " 'frf100.pkl_897.npy',\n",
       " 'frf100.pkl_898.npy',\n",
       " 'frf100.pkl_899.npy',\n",
       " 'frf100.pkl_900.npy',\n",
       " 'frf100.pkl_901.npy',\n",
       " 'frf100.pkl_902.npy',\n",
       " 'frf100.pkl_903.npy',\n",
       " 'frf100.pkl_904.npy',\n",
       " 'frf100.pkl_905.npy',\n",
       " 'frf100.pkl_906.npy',\n",
       " 'frf100.pkl_907.npy',\n",
       " 'frf100.pkl_908.npy',\n",
       " 'frf100.pkl_909.npy',\n",
       " 'frf100.pkl_910.npy',\n",
       " 'frf100.pkl_911.npy',\n",
       " 'frf100.pkl_912.npy',\n",
       " 'frf100.pkl_913.npy',\n",
       " 'frf100.pkl_914.npy',\n",
       " 'frf100.pkl_915.npy',\n",
       " 'frf100.pkl_916.npy',\n",
       " 'frf100.pkl_917.npy',\n",
       " 'frf100.pkl_918.npy',\n",
       " 'frf100.pkl_919.npy',\n",
       " 'frf100.pkl_920.npy',\n",
       " 'frf100.pkl_921.npy',\n",
       " 'frf100.pkl_922.npy',\n",
       " 'frf100.pkl_923.npy',\n",
       " 'frf100.pkl_924.npy',\n",
       " 'frf100.pkl_925.npy',\n",
       " 'frf100.pkl_926.npy',\n",
       " 'frf100.pkl_927.npy',\n",
       " 'frf100.pkl_928.npy',\n",
       " 'frf100.pkl_929.npy',\n",
       " 'frf100.pkl_930.npy',\n",
       " 'frf100.pkl_931.npy',\n",
       " 'frf100.pkl_932.npy',\n",
       " 'frf100.pkl_933.npy',\n",
       " 'frf100.pkl_934.npy',\n",
       " 'frf100.pkl_935.npy',\n",
       " 'frf100.pkl_936.npy',\n",
       " 'frf100.pkl_937.npy',\n",
       " 'frf100.pkl_938.npy',\n",
       " 'frf100.pkl_939.npy',\n",
       " 'frf100.pkl_940.npy',\n",
       " 'frf100.pkl_941.npy',\n",
       " 'frf100.pkl_942.npy',\n",
       " 'frf100.pkl_943.npy',\n",
       " 'frf100.pkl_944.npy',\n",
       " 'frf100.pkl_945.npy',\n",
       " 'frf100.pkl_946.npy',\n",
       " 'frf100.pkl_947.npy',\n",
       " 'frf100.pkl_948.npy',\n",
       " 'frf100.pkl_949.npy',\n",
       " 'frf100.pkl_950.npy',\n",
       " 'frf100.pkl_951.npy',\n",
       " 'frf100.pkl_952.npy',\n",
       " 'frf100.pkl_953.npy',\n",
       " 'frf100.pkl_954.npy',\n",
       " 'frf100.pkl_955.npy',\n",
       " 'frf100.pkl_956.npy',\n",
       " 'frf100.pkl_957.npy',\n",
       " 'frf100.pkl_958.npy',\n",
       " 'frf100.pkl_959.npy',\n",
       " 'frf100.pkl_960.npy',\n",
       " 'frf100.pkl_961.npy',\n",
       " 'frf100.pkl_962.npy',\n",
       " 'frf100.pkl_963.npy',\n",
       " 'frf100.pkl_964.npy',\n",
       " 'frf100.pkl_965.npy',\n",
       " 'frf100.pkl_966.npy',\n",
       " 'frf100.pkl_967.npy',\n",
       " 'frf100.pkl_968.npy',\n",
       " 'frf100.pkl_969.npy',\n",
       " 'frf100.pkl_970.npy',\n",
       " 'frf100.pkl_971.npy',\n",
       " 'frf100.pkl_972.npy',\n",
       " 'frf100.pkl_973.npy',\n",
       " 'frf100.pkl_974.npy',\n",
       " 'frf100.pkl_975.npy',\n",
       " 'frf100.pkl_976.npy',\n",
       " 'frf100.pkl_977.npy',\n",
       " 'frf100.pkl_978.npy',\n",
       " 'frf100.pkl_979.npy',\n",
       " 'frf100.pkl_980.npy',\n",
       " 'frf100.pkl_981.npy',\n",
       " 'frf100.pkl_982.npy',\n",
       " 'frf100.pkl_983.npy',\n",
       " 'frf100.pkl_984.npy',\n",
       " 'frf100.pkl_985.npy',\n",
       " 'frf100.pkl_986.npy',\n",
       " 'frf100.pkl_987.npy',\n",
       " 'frf100.pkl_988.npy',\n",
       " 'frf100.pkl_989.npy',\n",
       " 'frf100.pkl_990.npy',\n",
       " 'frf100.pkl_991.npy',\n",
       " 'frf100.pkl_992.npy',\n",
       " 'frf100.pkl_993.npy',\n",
       " 'frf100.pkl_994.npy',\n",
       " 'frf100.pkl_995.npy',\n",
       " 'frf100.pkl_996.npy',\n",
       " 'frf100.pkl_997.npy',\n",
       " 'frf100.pkl_998.npy',\n",
       " 'frf100.pkl_999.npy',\n",
       " ...]"
      ]
     },
     "execution_count": 172,
     "metadata": {},
     "output_type": "execute_result"
    }
   ],
   "source": [
    "jl.dump(five_rf_mdl_100A,'frf100.pkl')"
   ]
  },
  {
   "cell_type": "code",
   "execution_count": 165,
   "metadata": {
    "collapsed": false
   },
   "outputs": [
    {
     "name": "stdout",
     "output_type": "stream",
     "text": [
      "/home/kesj/work\n",
      "/home/kesj/work/hrsepara/eda/jl_5yr_100\n"
     ]
    }
   ],
   "source": [
    "%cd ../\n",
    "%cd '/home/kesj/work/hrsepara/eda/jl_5yr_100'"
   ]
  },
  {
   "cell_type": "code",
   "execution_count": 167,
   "metadata": {
    "collapsed": false
   },
   "outputs": [
    {
     "data": {
      "text/plain": [
       "21.6"
      ]
     },
     "execution_count": 167,
     "metadata": {},
     "output_type": "execute_result"
    }
   ],
   "source": [
    "5.4 * 1000/250."
   ]
  },
  {
   "cell_type": "code",
   "execution_count": 166,
   "metadata": {
    "collapsed": false
   },
   "outputs": [
    {
     "data": {
      "text/plain": [
       "['frf100.pkl',\n",
       " 'frf100.pkl_01.npy',\n",
       " 'frf100.pkl_02.npy',\n",
       " 'frf100.pkl_03.npy',\n",
       " 'frf100.pkl_04.npy',\n",
       " 'frf100.pkl_05.npy',\n",
       " 'frf100.pkl_06.npy',\n",
       " 'frf100.pkl_07.npy',\n",
       " 'frf100.pkl_08.npy',\n",
       " 'frf100.pkl_09.npy',\n",
       " 'frf100.pkl_10.npy',\n",
       " 'frf100.pkl_11.npy',\n",
       " 'frf100.pkl_12.npy',\n",
       " 'frf100.pkl_13.npy',\n",
       " 'frf100.pkl_14.npy',\n",
       " 'frf100.pkl_15.npy',\n",
       " 'frf100.pkl_16.npy',\n",
       " 'frf100.pkl_17.npy',\n",
       " 'frf100.pkl_18.npy',\n",
       " 'frf100.pkl_19.npy',\n",
       " 'frf100.pkl_20.npy',\n",
       " 'frf100.pkl_21.npy',\n",
       " 'frf100.pkl_22.npy',\n",
       " 'frf100.pkl_23.npy',\n",
       " 'frf100.pkl_24.npy',\n",
       " 'frf100.pkl_25.npy',\n",
       " 'frf100.pkl_26.npy',\n",
       " 'frf100.pkl_27.npy',\n",
       " 'frf100.pkl_28.npy',\n",
       " 'frf100.pkl_29.npy',\n",
       " 'frf100.pkl_30.npy',\n",
       " 'frf100.pkl_31.npy',\n",
       " 'frf100.pkl_32.npy',\n",
       " 'frf100.pkl_33.npy',\n",
       " 'frf100.pkl_34.npy',\n",
       " 'frf100.pkl_35.npy',\n",
       " 'frf100.pkl_36.npy',\n",
       " 'frf100.pkl_37.npy',\n",
       " 'frf100.pkl_38.npy',\n",
       " 'frf100.pkl_39.npy',\n",
       " 'frf100.pkl_40.npy',\n",
       " 'frf100.pkl_41.npy',\n",
       " 'frf100.pkl_42.npy',\n",
       " 'frf100.pkl_43.npy',\n",
       " 'frf100.pkl_44.npy',\n",
       " 'frf100.pkl_45.npy',\n",
       " 'frf100.pkl_46.npy',\n",
       " 'frf100.pkl_47.npy',\n",
       " 'frf100.pkl_48.npy',\n",
       " 'frf100.pkl_49.npy',\n",
       " 'frf100.pkl_50.npy',\n",
       " 'frf100.pkl_51.npy',\n",
       " 'frf100.pkl_52.npy',\n",
       " 'frf100.pkl_53.npy',\n",
       " 'frf100.pkl_54.npy',\n",
       " 'frf100.pkl_55.npy',\n",
       " 'frf100.pkl_56.npy',\n",
       " 'frf100.pkl_57.npy',\n",
       " 'frf100.pkl_58.npy',\n",
       " 'frf100.pkl_59.npy',\n",
       " 'frf100.pkl_60.npy',\n",
       " 'frf100.pkl_61.npy',\n",
       " 'frf100.pkl_62.npy',\n",
       " 'frf100.pkl_63.npy',\n",
       " 'frf100.pkl_64.npy',\n",
       " 'frf100.pkl_65.npy',\n",
       " 'frf100.pkl_66.npy',\n",
       " 'frf100.pkl_67.npy',\n",
       " 'frf100.pkl_68.npy',\n",
       " 'frf100.pkl_69.npy',\n",
       " 'frf100.pkl_70.npy',\n",
       " 'frf100.pkl_71.npy',\n",
       " 'frf100.pkl_72.npy',\n",
       " 'frf100.pkl_73.npy',\n",
       " 'frf100.pkl_74.npy',\n",
       " 'frf100.pkl_75.npy',\n",
       " 'frf100.pkl_76.npy',\n",
       " 'frf100.pkl_77.npy',\n",
       " 'frf100.pkl_78.npy',\n",
       " 'frf100.pkl_79.npy',\n",
       " 'frf100.pkl_80.npy',\n",
       " 'frf100.pkl_81.npy',\n",
       " 'frf100.pkl_82.npy',\n",
       " 'frf100.pkl_83.npy',\n",
       " 'frf100.pkl_84.npy',\n",
       " 'frf100.pkl_85.npy',\n",
       " 'frf100.pkl_86.npy',\n",
       " 'frf100.pkl_87.npy',\n",
       " 'frf100.pkl_88.npy',\n",
       " 'frf100.pkl_89.npy',\n",
       " 'frf100.pkl_90.npy',\n",
       " 'frf100.pkl_91.npy',\n",
       " 'frf100.pkl_92.npy',\n",
       " 'frf100.pkl_93.npy',\n",
       " 'frf100.pkl_94.npy',\n",
       " 'frf100.pkl_95.npy',\n",
       " 'frf100.pkl_96.npy',\n",
       " 'frf100.pkl_97.npy',\n",
       " 'frf100.pkl_98.npy',\n",
       " 'frf100.pkl_99.npy',\n",
       " 'frf100.pkl_100.npy',\n",
       " 'frf100.pkl_101.npy',\n",
       " 'frf100.pkl_102.npy',\n",
       " 'frf100.pkl_103.npy',\n",
       " 'frf100.pkl_104.npy',\n",
       " 'frf100.pkl_105.npy',\n",
       " 'frf100.pkl_106.npy',\n",
       " 'frf100.pkl_107.npy',\n",
       " 'frf100.pkl_108.npy',\n",
       " 'frf100.pkl_109.npy',\n",
       " 'frf100.pkl_110.npy',\n",
       " 'frf100.pkl_111.npy',\n",
       " 'frf100.pkl_112.npy',\n",
       " 'frf100.pkl_113.npy',\n",
       " 'frf100.pkl_114.npy',\n",
       " 'frf100.pkl_115.npy',\n",
       " 'frf100.pkl_116.npy',\n",
       " 'frf100.pkl_117.npy',\n",
       " 'frf100.pkl_118.npy',\n",
       " 'frf100.pkl_119.npy',\n",
       " 'frf100.pkl_120.npy',\n",
       " 'frf100.pkl_121.npy',\n",
       " 'frf100.pkl_122.npy',\n",
       " 'frf100.pkl_123.npy',\n",
       " 'frf100.pkl_124.npy',\n",
       " 'frf100.pkl_125.npy',\n",
       " 'frf100.pkl_126.npy',\n",
       " 'frf100.pkl_127.npy',\n",
       " 'frf100.pkl_128.npy',\n",
       " 'frf100.pkl_129.npy',\n",
       " 'frf100.pkl_130.npy',\n",
       " 'frf100.pkl_131.npy',\n",
       " 'frf100.pkl_132.npy',\n",
       " 'frf100.pkl_133.npy',\n",
       " 'frf100.pkl_134.npy',\n",
       " 'frf100.pkl_135.npy',\n",
       " 'frf100.pkl_136.npy',\n",
       " 'frf100.pkl_137.npy',\n",
       " 'frf100.pkl_138.npy',\n",
       " 'frf100.pkl_139.npy',\n",
       " 'frf100.pkl_140.npy',\n",
       " 'frf100.pkl_141.npy',\n",
       " 'frf100.pkl_142.npy',\n",
       " 'frf100.pkl_143.npy',\n",
       " 'frf100.pkl_144.npy',\n",
       " 'frf100.pkl_145.npy',\n",
       " 'frf100.pkl_146.npy',\n",
       " 'frf100.pkl_147.npy',\n",
       " 'frf100.pkl_148.npy',\n",
       " 'frf100.pkl_149.npy',\n",
       " 'frf100.pkl_150.npy',\n",
       " 'frf100.pkl_151.npy',\n",
       " 'frf100.pkl_152.npy',\n",
       " 'frf100.pkl_153.npy',\n",
       " 'frf100.pkl_154.npy',\n",
       " 'frf100.pkl_155.npy',\n",
       " 'frf100.pkl_156.npy',\n",
       " 'frf100.pkl_157.npy',\n",
       " 'frf100.pkl_158.npy',\n",
       " 'frf100.pkl_159.npy',\n",
       " 'frf100.pkl_160.npy',\n",
       " 'frf100.pkl_161.npy',\n",
       " 'frf100.pkl_162.npy',\n",
       " 'frf100.pkl_163.npy',\n",
       " 'frf100.pkl_164.npy',\n",
       " 'frf100.pkl_165.npy',\n",
       " 'frf100.pkl_166.npy',\n",
       " 'frf100.pkl_167.npy',\n",
       " 'frf100.pkl_168.npy',\n",
       " 'frf100.pkl_169.npy',\n",
       " 'frf100.pkl_170.npy',\n",
       " 'frf100.pkl_171.npy',\n",
       " 'frf100.pkl_172.npy',\n",
       " 'frf100.pkl_173.npy',\n",
       " 'frf100.pkl_174.npy',\n",
       " 'frf100.pkl_175.npy',\n",
       " 'frf100.pkl_176.npy',\n",
       " 'frf100.pkl_177.npy',\n",
       " 'frf100.pkl_178.npy',\n",
       " 'frf100.pkl_179.npy',\n",
       " 'frf100.pkl_180.npy',\n",
       " 'frf100.pkl_181.npy',\n",
       " 'frf100.pkl_182.npy',\n",
       " 'frf100.pkl_183.npy',\n",
       " 'frf100.pkl_184.npy',\n",
       " 'frf100.pkl_185.npy',\n",
       " 'frf100.pkl_186.npy',\n",
       " 'frf100.pkl_187.npy',\n",
       " 'frf100.pkl_188.npy',\n",
       " 'frf100.pkl_189.npy',\n",
       " 'frf100.pkl_190.npy',\n",
       " 'frf100.pkl_191.npy',\n",
       " 'frf100.pkl_192.npy',\n",
       " 'frf100.pkl_193.npy',\n",
       " 'frf100.pkl_194.npy',\n",
       " 'frf100.pkl_195.npy',\n",
       " 'frf100.pkl_196.npy',\n",
       " 'frf100.pkl_197.npy',\n",
       " 'frf100.pkl_198.npy',\n",
       " 'frf100.pkl_199.npy',\n",
       " 'frf100.pkl_200.npy',\n",
       " 'frf100.pkl_201.npy',\n",
       " 'frf100.pkl_202.npy',\n",
       " 'frf100.pkl_203.npy',\n",
       " 'frf100.pkl_204.npy',\n",
       " 'frf100.pkl_205.npy',\n",
       " 'frf100.pkl_206.npy',\n",
       " 'frf100.pkl_207.npy',\n",
       " 'frf100.pkl_208.npy',\n",
       " 'frf100.pkl_209.npy',\n",
       " 'frf100.pkl_210.npy',\n",
       " 'frf100.pkl_211.npy',\n",
       " 'frf100.pkl_212.npy',\n",
       " 'frf100.pkl_213.npy',\n",
       " 'frf100.pkl_214.npy',\n",
       " 'frf100.pkl_215.npy',\n",
       " 'frf100.pkl_216.npy',\n",
       " 'frf100.pkl_217.npy',\n",
       " 'frf100.pkl_218.npy',\n",
       " 'frf100.pkl_219.npy',\n",
       " 'frf100.pkl_220.npy',\n",
       " 'frf100.pkl_221.npy',\n",
       " 'frf100.pkl_222.npy',\n",
       " 'frf100.pkl_223.npy',\n",
       " 'frf100.pkl_224.npy',\n",
       " 'frf100.pkl_225.npy',\n",
       " 'frf100.pkl_226.npy',\n",
       " 'frf100.pkl_227.npy',\n",
       " 'frf100.pkl_228.npy',\n",
       " 'frf100.pkl_229.npy',\n",
       " 'frf100.pkl_230.npy',\n",
       " 'frf100.pkl_231.npy',\n",
       " 'frf100.pkl_232.npy',\n",
       " 'frf100.pkl_233.npy',\n",
       " 'frf100.pkl_234.npy',\n",
       " 'frf100.pkl_235.npy',\n",
       " 'frf100.pkl_236.npy',\n",
       " 'frf100.pkl_237.npy',\n",
       " 'frf100.pkl_238.npy',\n",
       " 'frf100.pkl_239.npy',\n",
       " 'frf100.pkl_240.npy',\n",
       " 'frf100.pkl_241.npy',\n",
       " 'frf100.pkl_242.npy',\n",
       " 'frf100.pkl_243.npy',\n",
       " 'frf100.pkl_244.npy',\n",
       " 'frf100.pkl_245.npy',\n",
       " 'frf100.pkl_246.npy',\n",
       " 'frf100.pkl_247.npy',\n",
       " 'frf100.pkl_248.npy',\n",
       " 'frf100.pkl_249.npy',\n",
       " 'frf100.pkl_250.npy',\n",
       " 'frf100.pkl_251.npy',\n",
       " 'frf100.pkl_252.npy',\n",
       " 'frf100.pkl_253.npy',\n",
       " 'frf100.pkl_254.npy',\n",
       " 'frf100.pkl_255.npy',\n",
       " 'frf100.pkl_256.npy',\n",
       " 'frf100.pkl_257.npy',\n",
       " 'frf100.pkl_258.npy',\n",
       " 'frf100.pkl_259.npy',\n",
       " 'frf100.pkl_260.npy',\n",
       " 'frf100.pkl_261.npy',\n",
       " 'frf100.pkl_262.npy',\n",
       " 'frf100.pkl_263.npy',\n",
       " 'frf100.pkl_264.npy',\n",
       " 'frf100.pkl_265.npy',\n",
       " 'frf100.pkl_266.npy',\n",
       " 'frf100.pkl_267.npy',\n",
       " 'frf100.pkl_268.npy',\n",
       " 'frf100.pkl_269.npy',\n",
       " 'frf100.pkl_270.npy',\n",
       " 'frf100.pkl_271.npy',\n",
       " 'frf100.pkl_272.npy',\n",
       " 'frf100.pkl_273.npy',\n",
       " 'frf100.pkl_274.npy',\n",
       " 'frf100.pkl_275.npy',\n",
       " 'frf100.pkl_276.npy',\n",
       " 'frf100.pkl_277.npy',\n",
       " 'frf100.pkl_278.npy',\n",
       " 'frf100.pkl_279.npy',\n",
       " 'frf100.pkl_280.npy',\n",
       " 'frf100.pkl_281.npy',\n",
       " 'frf100.pkl_282.npy',\n",
       " 'frf100.pkl_283.npy',\n",
       " 'frf100.pkl_284.npy',\n",
       " 'frf100.pkl_285.npy',\n",
       " 'frf100.pkl_286.npy',\n",
       " 'frf100.pkl_287.npy',\n",
       " 'frf100.pkl_288.npy',\n",
       " 'frf100.pkl_289.npy',\n",
       " 'frf100.pkl_290.npy',\n",
       " 'frf100.pkl_291.npy',\n",
       " 'frf100.pkl_292.npy',\n",
       " 'frf100.pkl_293.npy',\n",
       " 'frf100.pkl_294.npy',\n",
       " 'frf100.pkl_295.npy',\n",
       " 'frf100.pkl_296.npy',\n",
       " 'frf100.pkl_297.npy',\n",
       " 'frf100.pkl_298.npy',\n",
       " 'frf100.pkl_299.npy',\n",
       " 'frf100.pkl_300.npy',\n",
       " 'frf100.pkl_301.npy',\n",
       " 'frf100.pkl_302.npy',\n",
       " 'frf100.pkl_303.npy',\n",
       " 'frf100.pkl_304.npy',\n",
       " 'frf100.pkl_305.npy',\n",
       " 'frf100.pkl_306.npy',\n",
       " 'frf100.pkl_307.npy',\n",
       " 'frf100.pkl_308.npy',\n",
       " 'frf100.pkl_309.npy',\n",
       " 'frf100.pkl_310.npy',\n",
       " 'frf100.pkl_311.npy',\n",
       " 'frf100.pkl_312.npy',\n",
       " 'frf100.pkl_313.npy',\n",
       " 'frf100.pkl_314.npy',\n",
       " 'frf100.pkl_315.npy',\n",
       " 'frf100.pkl_316.npy',\n",
       " 'frf100.pkl_317.npy',\n",
       " 'frf100.pkl_318.npy',\n",
       " 'frf100.pkl_319.npy',\n",
       " 'frf100.pkl_320.npy',\n",
       " 'frf100.pkl_321.npy',\n",
       " 'frf100.pkl_322.npy',\n",
       " 'frf100.pkl_323.npy',\n",
       " 'frf100.pkl_324.npy',\n",
       " 'frf100.pkl_325.npy',\n",
       " 'frf100.pkl_326.npy',\n",
       " 'frf100.pkl_327.npy',\n",
       " 'frf100.pkl_328.npy',\n",
       " 'frf100.pkl_329.npy',\n",
       " 'frf100.pkl_330.npy',\n",
       " 'frf100.pkl_331.npy',\n",
       " 'frf100.pkl_332.npy',\n",
       " 'frf100.pkl_333.npy',\n",
       " 'frf100.pkl_334.npy',\n",
       " 'frf100.pkl_335.npy',\n",
       " 'frf100.pkl_336.npy',\n",
       " 'frf100.pkl_337.npy',\n",
       " 'frf100.pkl_338.npy',\n",
       " 'frf100.pkl_339.npy',\n",
       " 'frf100.pkl_340.npy',\n",
       " 'frf100.pkl_341.npy',\n",
       " 'frf100.pkl_342.npy',\n",
       " 'frf100.pkl_343.npy',\n",
       " 'frf100.pkl_344.npy',\n",
       " 'frf100.pkl_345.npy',\n",
       " 'frf100.pkl_346.npy',\n",
       " 'frf100.pkl_347.npy',\n",
       " 'frf100.pkl_348.npy',\n",
       " 'frf100.pkl_349.npy',\n",
       " 'frf100.pkl_350.npy',\n",
       " 'frf100.pkl_351.npy',\n",
       " 'frf100.pkl_352.npy',\n",
       " 'frf100.pkl_353.npy',\n",
       " 'frf100.pkl_354.npy',\n",
       " 'frf100.pkl_355.npy',\n",
       " 'frf100.pkl_356.npy',\n",
       " 'frf100.pkl_357.npy',\n",
       " 'frf100.pkl_358.npy',\n",
       " 'frf100.pkl_359.npy',\n",
       " 'frf100.pkl_360.npy',\n",
       " 'frf100.pkl_361.npy',\n",
       " 'frf100.pkl_362.npy',\n",
       " 'frf100.pkl_363.npy',\n",
       " 'frf100.pkl_364.npy',\n",
       " 'frf100.pkl_365.npy',\n",
       " 'frf100.pkl_366.npy',\n",
       " 'frf100.pkl_367.npy',\n",
       " 'frf100.pkl_368.npy',\n",
       " 'frf100.pkl_369.npy',\n",
       " 'frf100.pkl_370.npy',\n",
       " 'frf100.pkl_371.npy',\n",
       " 'frf100.pkl_372.npy',\n",
       " 'frf100.pkl_373.npy',\n",
       " 'frf100.pkl_374.npy',\n",
       " 'frf100.pkl_375.npy',\n",
       " 'frf100.pkl_376.npy',\n",
       " 'frf100.pkl_377.npy',\n",
       " 'frf100.pkl_378.npy',\n",
       " 'frf100.pkl_379.npy',\n",
       " 'frf100.pkl_380.npy',\n",
       " 'frf100.pkl_381.npy',\n",
       " 'frf100.pkl_382.npy',\n",
       " 'frf100.pkl_383.npy',\n",
       " 'frf100.pkl_384.npy',\n",
       " 'frf100.pkl_385.npy',\n",
       " 'frf100.pkl_386.npy',\n",
       " 'frf100.pkl_387.npy',\n",
       " 'frf100.pkl_388.npy',\n",
       " 'frf100.pkl_389.npy',\n",
       " 'frf100.pkl_390.npy',\n",
       " 'frf100.pkl_391.npy',\n",
       " 'frf100.pkl_392.npy',\n",
       " 'frf100.pkl_393.npy',\n",
       " 'frf100.pkl_394.npy',\n",
       " 'frf100.pkl_395.npy',\n",
       " 'frf100.pkl_396.npy',\n",
       " 'frf100.pkl_397.npy',\n",
       " 'frf100.pkl_398.npy',\n",
       " 'frf100.pkl_399.npy',\n",
       " 'frf100.pkl_400.npy',\n",
       " 'frf100.pkl_401.npy',\n",
       " 'frf100.pkl_402.npy',\n",
       " 'frf100.pkl_403.npy',\n",
       " 'frf100.pkl_404.npy',\n",
       " 'frf100.pkl_405.npy',\n",
       " 'frf100.pkl_406.npy',\n",
       " 'frf100.pkl_407.npy',\n",
       " 'frf100.pkl_408.npy',\n",
       " 'frf100.pkl_409.npy',\n",
       " 'frf100.pkl_410.npy',\n",
       " 'frf100.pkl_411.npy',\n",
       " 'frf100.pkl_412.npy',\n",
       " 'frf100.pkl_413.npy',\n",
       " 'frf100.pkl_414.npy',\n",
       " 'frf100.pkl_415.npy',\n",
       " 'frf100.pkl_416.npy',\n",
       " 'frf100.pkl_417.npy',\n",
       " 'frf100.pkl_418.npy',\n",
       " 'frf100.pkl_419.npy',\n",
       " 'frf100.pkl_420.npy',\n",
       " 'frf100.pkl_421.npy',\n",
       " 'frf100.pkl_422.npy',\n",
       " 'frf100.pkl_423.npy',\n",
       " 'frf100.pkl_424.npy',\n",
       " 'frf100.pkl_425.npy',\n",
       " 'frf100.pkl_426.npy',\n",
       " 'frf100.pkl_427.npy',\n",
       " 'frf100.pkl_428.npy',\n",
       " 'frf100.pkl_429.npy',\n",
       " 'frf100.pkl_430.npy',\n",
       " 'frf100.pkl_431.npy',\n",
       " 'frf100.pkl_432.npy',\n",
       " 'frf100.pkl_433.npy',\n",
       " 'frf100.pkl_434.npy',\n",
       " 'frf100.pkl_435.npy',\n",
       " 'frf100.pkl_436.npy',\n",
       " 'frf100.pkl_437.npy',\n",
       " 'frf100.pkl_438.npy',\n",
       " 'frf100.pkl_439.npy',\n",
       " 'frf100.pkl_440.npy',\n",
       " 'frf100.pkl_441.npy',\n",
       " 'frf100.pkl_442.npy',\n",
       " 'frf100.pkl_443.npy',\n",
       " 'frf100.pkl_444.npy',\n",
       " 'frf100.pkl_445.npy',\n",
       " 'frf100.pkl_446.npy',\n",
       " 'frf100.pkl_447.npy',\n",
       " 'frf100.pkl_448.npy',\n",
       " 'frf100.pkl_449.npy',\n",
       " 'frf100.pkl_450.npy',\n",
       " 'frf100.pkl_451.npy',\n",
       " 'frf100.pkl_452.npy',\n",
       " 'frf100.pkl_453.npy',\n",
       " 'frf100.pkl_454.npy',\n",
       " 'frf100.pkl_455.npy',\n",
       " 'frf100.pkl_456.npy',\n",
       " 'frf100.pkl_457.npy',\n",
       " 'frf100.pkl_458.npy',\n",
       " 'frf100.pkl_459.npy',\n",
       " 'frf100.pkl_460.npy',\n",
       " 'frf100.pkl_461.npy',\n",
       " 'frf100.pkl_462.npy',\n",
       " 'frf100.pkl_463.npy',\n",
       " 'frf100.pkl_464.npy',\n",
       " 'frf100.pkl_465.npy',\n",
       " 'frf100.pkl_466.npy',\n",
       " 'frf100.pkl_467.npy',\n",
       " 'frf100.pkl_468.npy',\n",
       " 'frf100.pkl_469.npy',\n",
       " 'frf100.pkl_470.npy',\n",
       " 'frf100.pkl_471.npy',\n",
       " 'frf100.pkl_472.npy',\n",
       " 'frf100.pkl_473.npy',\n",
       " 'frf100.pkl_474.npy',\n",
       " 'frf100.pkl_475.npy',\n",
       " 'frf100.pkl_476.npy',\n",
       " 'frf100.pkl_477.npy',\n",
       " 'frf100.pkl_478.npy',\n",
       " 'frf100.pkl_479.npy',\n",
       " 'frf100.pkl_480.npy',\n",
       " 'frf100.pkl_481.npy',\n",
       " 'frf100.pkl_482.npy',\n",
       " 'frf100.pkl_483.npy',\n",
       " 'frf100.pkl_484.npy',\n",
       " 'frf100.pkl_485.npy',\n",
       " 'frf100.pkl_486.npy',\n",
       " 'frf100.pkl_487.npy',\n",
       " 'frf100.pkl_488.npy',\n",
       " 'frf100.pkl_489.npy',\n",
       " 'frf100.pkl_490.npy',\n",
       " 'frf100.pkl_491.npy',\n",
       " 'frf100.pkl_492.npy',\n",
       " 'frf100.pkl_493.npy',\n",
       " 'frf100.pkl_494.npy',\n",
       " 'frf100.pkl_495.npy',\n",
       " 'frf100.pkl_496.npy',\n",
       " 'frf100.pkl_497.npy',\n",
       " 'frf100.pkl_498.npy',\n",
       " 'frf100.pkl_499.npy',\n",
       " 'frf100.pkl_500.npy',\n",
       " 'frf100.pkl_501.npy',\n",
       " 'frf100.pkl_502.npy',\n",
       " 'frf100.pkl_503.npy',\n",
       " 'frf100.pkl_504.npy',\n",
       " 'frf100.pkl_505.npy',\n",
       " 'frf100.pkl_506.npy',\n",
       " 'frf100.pkl_507.npy',\n",
       " 'frf100.pkl_508.npy',\n",
       " 'frf100.pkl_509.npy',\n",
       " 'frf100.pkl_510.npy',\n",
       " 'frf100.pkl_511.npy',\n",
       " 'frf100.pkl_512.npy',\n",
       " 'frf100.pkl_513.npy',\n",
       " 'frf100.pkl_514.npy',\n",
       " 'frf100.pkl_515.npy',\n",
       " 'frf100.pkl_516.npy',\n",
       " 'frf100.pkl_517.npy',\n",
       " 'frf100.pkl_518.npy',\n",
       " 'frf100.pkl_519.npy',\n",
       " 'frf100.pkl_520.npy',\n",
       " 'frf100.pkl_521.npy',\n",
       " 'frf100.pkl_522.npy',\n",
       " 'frf100.pkl_523.npy',\n",
       " 'frf100.pkl_524.npy',\n",
       " 'frf100.pkl_525.npy',\n",
       " 'frf100.pkl_526.npy',\n",
       " 'frf100.pkl_527.npy',\n",
       " 'frf100.pkl_528.npy',\n",
       " 'frf100.pkl_529.npy',\n",
       " 'frf100.pkl_530.npy',\n",
       " 'frf100.pkl_531.npy',\n",
       " 'frf100.pkl_532.npy',\n",
       " 'frf100.pkl_533.npy',\n",
       " 'frf100.pkl_534.npy',\n",
       " 'frf100.pkl_535.npy',\n",
       " 'frf100.pkl_536.npy',\n",
       " 'frf100.pkl_537.npy',\n",
       " 'frf100.pkl_538.npy',\n",
       " 'frf100.pkl_539.npy',\n",
       " 'frf100.pkl_540.npy',\n",
       " 'frf100.pkl_541.npy',\n",
       " 'frf100.pkl_542.npy',\n",
       " 'frf100.pkl_543.npy',\n",
       " 'frf100.pkl_544.npy',\n",
       " 'frf100.pkl_545.npy',\n",
       " 'frf100.pkl_546.npy',\n",
       " 'frf100.pkl_547.npy',\n",
       " 'frf100.pkl_548.npy',\n",
       " 'frf100.pkl_549.npy',\n",
       " 'frf100.pkl_550.npy',\n",
       " 'frf100.pkl_551.npy',\n",
       " 'frf100.pkl_552.npy',\n",
       " 'frf100.pkl_553.npy',\n",
       " 'frf100.pkl_554.npy',\n",
       " 'frf100.pkl_555.npy',\n",
       " 'frf100.pkl_556.npy',\n",
       " 'frf100.pkl_557.npy',\n",
       " 'frf100.pkl_558.npy',\n",
       " 'frf100.pkl_559.npy',\n",
       " 'frf100.pkl_560.npy',\n",
       " 'frf100.pkl_561.npy',\n",
       " 'frf100.pkl_562.npy',\n",
       " 'frf100.pkl_563.npy',\n",
       " 'frf100.pkl_564.npy',\n",
       " 'frf100.pkl_565.npy',\n",
       " 'frf100.pkl_566.npy',\n",
       " 'frf100.pkl_567.npy',\n",
       " 'frf100.pkl_568.npy',\n",
       " 'frf100.pkl_569.npy',\n",
       " 'frf100.pkl_570.npy',\n",
       " 'frf100.pkl_571.npy',\n",
       " 'frf100.pkl_572.npy',\n",
       " 'frf100.pkl_573.npy',\n",
       " 'frf100.pkl_574.npy',\n",
       " 'frf100.pkl_575.npy',\n",
       " 'frf100.pkl_576.npy',\n",
       " 'frf100.pkl_577.npy',\n",
       " 'frf100.pkl_578.npy',\n",
       " 'frf100.pkl_579.npy',\n",
       " 'frf100.pkl_580.npy',\n",
       " 'frf100.pkl_581.npy',\n",
       " 'frf100.pkl_582.npy',\n",
       " 'frf100.pkl_583.npy',\n",
       " 'frf100.pkl_584.npy',\n",
       " 'frf100.pkl_585.npy',\n",
       " 'frf100.pkl_586.npy',\n",
       " 'frf100.pkl_587.npy',\n",
       " 'frf100.pkl_588.npy',\n",
       " 'frf100.pkl_589.npy',\n",
       " 'frf100.pkl_590.npy',\n",
       " 'frf100.pkl_591.npy',\n",
       " 'frf100.pkl_592.npy',\n",
       " 'frf100.pkl_593.npy',\n",
       " 'frf100.pkl_594.npy',\n",
       " 'frf100.pkl_595.npy',\n",
       " 'frf100.pkl_596.npy',\n",
       " 'frf100.pkl_597.npy',\n",
       " 'frf100.pkl_598.npy',\n",
       " 'frf100.pkl_599.npy',\n",
       " 'frf100.pkl_600.npy',\n",
       " 'frf100.pkl_601.npy',\n",
       " 'frf100.pkl_602.npy',\n",
       " 'frf100.pkl_603.npy',\n",
       " 'frf100.pkl_604.npy',\n",
       " 'frf100.pkl_605.npy',\n",
       " 'frf100.pkl_606.npy',\n",
       " 'frf100.pkl_607.npy',\n",
       " 'frf100.pkl_608.npy',\n",
       " 'frf100.pkl_609.npy',\n",
       " 'frf100.pkl_610.npy',\n",
       " 'frf100.pkl_611.npy',\n",
       " 'frf100.pkl_612.npy',\n",
       " 'frf100.pkl_613.npy',\n",
       " 'frf100.pkl_614.npy',\n",
       " 'frf100.pkl_615.npy',\n",
       " 'frf100.pkl_616.npy',\n",
       " 'frf100.pkl_617.npy',\n",
       " 'frf100.pkl_618.npy',\n",
       " 'frf100.pkl_619.npy',\n",
       " 'frf100.pkl_620.npy',\n",
       " 'frf100.pkl_621.npy',\n",
       " 'frf100.pkl_622.npy',\n",
       " 'frf100.pkl_623.npy',\n",
       " 'frf100.pkl_624.npy',\n",
       " 'frf100.pkl_625.npy',\n",
       " 'frf100.pkl_626.npy',\n",
       " 'frf100.pkl_627.npy',\n",
       " 'frf100.pkl_628.npy',\n",
       " 'frf100.pkl_629.npy',\n",
       " 'frf100.pkl_630.npy',\n",
       " 'frf100.pkl_631.npy',\n",
       " 'frf100.pkl_632.npy',\n",
       " 'frf100.pkl_633.npy',\n",
       " 'frf100.pkl_634.npy',\n",
       " 'frf100.pkl_635.npy',\n",
       " 'frf100.pkl_636.npy',\n",
       " 'frf100.pkl_637.npy',\n",
       " 'frf100.pkl_638.npy',\n",
       " 'frf100.pkl_639.npy',\n",
       " 'frf100.pkl_640.npy',\n",
       " 'frf100.pkl_641.npy',\n",
       " 'frf100.pkl_642.npy',\n",
       " 'frf100.pkl_643.npy',\n",
       " 'frf100.pkl_644.npy',\n",
       " 'frf100.pkl_645.npy',\n",
       " 'frf100.pkl_646.npy',\n",
       " 'frf100.pkl_647.npy',\n",
       " 'frf100.pkl_648.npy',\n",
       " 'frf100.pkl_649.npy',\n",
       " 'frf100.pkl_650.npy',\n",
       " 'frf100.pkl_651.npy',\n",
       " 'frf100.pkl_652.npy',\n",
       " 'frf100.pkl_653.npy',\n",
       " 'frf100.pkl_654.npy',\n",
       " 'frf100.pkl_655.npy',\n",
       " 'frf100.pkl_656.npy',\n",
       " 'frf100.pkl_657.npy',\n",
       " 'frf100.pkl_658.npy',\n",
       " 'frf100.pkl_659.npy',\n",
       " 'frf100.pkl_660.npy',\n",
       " 'frf100.pkl_661.npy',\n",
       " 'frf100.pkl_662.npy',\n",
       " 'frf100.pkl_663.npy',\n",
       " 'frf100.pkl_664.npy',\n",
       " 'frf100.pkl_665.npy',\n",
       " 'frf100.pkl_666.npy',\n",
       " 'frf100.pkl_667.npy',\n",
       " 'frf100.pkl_668.npy',\n",
       " 'frf100.pkl_669.npy',\n",
       " 'frf100.pkl_670.npy',\n",
       " 'frf100.pkl_671.npy',\n",
       " 'frf100.pkl_672.npy',\n",
       " 'frf100.pkl_673.npy',\n",
       " 'frf100.pkl_674.npy',\n",
       " 'frf100.pkl_675.npy',\n",
       " 'frf100.pkl_676.npy',\n",
       " 'frf100.pkl_677.npy',\n",
       " 'frf100.pkl_678.npy',\n",
       " 'frf100.pkl_679.npy',\n",
       " 'frf100.pkl_680.npy',\n",
       " 'frf100.pkl_681.npy',\n",
       " 'frf100.pkl_682.npy',\n",
       " 'frf100.pkl_683.npy',\n",
       " 'frf100.pkl_684.npy',\n",
       " 'frf100.pkl_685.npy',\n",
       " 'frf100.pkl_686.npy',\n",
       " 'frf100.pkl_687.npy',\n",
       " 'frf100.pkl_688.npy',\n",
       " 'frf100.pkl_689.npy',\n",
       " 'frf100.pkl_690.npy',\n",
       " 'frf100.pkl_691.npy',\n",
       " 'frf100.pkl_692.npy',\n",
       " 'frf100.pkl_693.npy',\n",
       " 'frf100.pkl_694.npy',\n",
       " 'frf100.pkl_695.npy',\n",
       " 'frf100.pkl_696.npy',\n",
       " 'frf100.pkl_697.npy',\n",
       " 'frf100.pkl_698.npy',\n",
       " 'frf100.pkl_699.npy',\n",
       " 'frf100.pkl_700.npy',\n",
       " 'frf100.pkl_701.npy',\n",
       " 'frf100.pkl_702.npy',\n",
       " 'frf100.pkl_703.npy',\n",
       " 'frf100.pkl_704.npy',\n",
       " 'frf100.pkl_705.npy',\n",
       " 'frf100.pkl_706.npy',\n",
       " 'frf100.pkl_707.npy',\n",
       " 'frf100.pkl_708.npy',\n",
       " 'frf100.pkl_709.npy',\n",
       " 'frf100.pkl_710.npy',\n",
       " 'frf100.pkl_711.npy',\n",
       " 'frf100.pkl_712.npy',\n",
       " 'frf100.pkl_713.npy',\n",
       " 'frf100.pkl_714.npy',\n",
       " 'frf100.pkl_715.npy',\n",
       " 'frf100.pkl_716.npy',\n",
       " 'frf100.pkl_717.npy',\n",
       " 'frf100.pkl_718.npy',\n",
       " 'frf100.pkl_719.npy',\n",
       " 'frf100.pkl_720.npy',\n",
       " 'frf100.pkl_721.npy',\n",
       " 'frf100.pkl_722.npy',\n",
       " 'frf100.pkl_723.npy',\n",
       " 'frf100.pkl_724.npy',\n",
       " 'frf100.pkl_725.npy',\n",
       " 'frf100.pkl_726.npy',\n",
       " 'frf100.pkl_727.npy',\n",
       " 'frf100.pkl_728.npy',\n",
       " 'frf100.pkl_729.npy',\n",
       " 'frf100.pkl_730.npy',\n",
       " 'frf100.pkl_731.npy',\n",
       " 'frf100.pkl_732.npy',\n",
       " 'frf100.pkl_733.npy',\n",
       " 'frf100.pkl_734.npy',\n",
       " 'frf100.pkl_735.npy',\n",
       " 'frf100.pkl_736.npy',\n",
       " 'frf100.pkl_737.npy',\n",
       " 'frf100.pkl_738.npy',\n",
       " 'frf100.pkl_739.npy',\n",
       " 'frf100.pkl_740.npy',\n",
       " 'frf100.pkl_741.npy',\n",
       " 'frf100.pkl_742.npy',\n",
       " 'frf100.pkl_743.npy',\n",
       " 'frf100.pkl_744.npy',\n",
       " 'frf100.pkl_745.npy',\n",
       " 'frf100.pkl_746.npy',\n",
       " 'frf100.pkl_747.npy',\n",
       " 'frf100.pkl_748.npy',\n",
       " 'frf100.pkl_749.npy',\n",
       " 'frf100.pkl_750.npy',\n",
       " 'frf100.pkl_751.npy',\n",
       " 'frf100.pkl_752.npy',\n",
       " 'frf100.pkl_753.npy',\n",
       " 'frf100.pkl_754.npy',\n",
       " 'frf100.pkl_755.npy',\n",
       " 'frf100.pkl_756.npy',\n",
       " 'frf100.pkl_757.npy',\n",
       " 'frf100.pkl_758.npy',\n",
       " 'frf100.pkl_759.npy',\n",
       " 'frf100.pkl_760.npy',\n",
       " 'frf100.pkl_761.npy',\n",
       " 'frf100.pkl_762.npy',\n",
       " 'frf100.pkl_763.npy',\n",
       " 'frf100.pkl_764.npy',\n",
       " 'frf100.pkl_765.npy',\n",
       " 'frf100.pkl_766.npy',\n",
       " 'frf100.pkl_767.npy',\n",
       " 'frf100.pkl_768.npy',\n",
       " 'frf100.pkl_769.npy',\n",
       " 'frf100.pkl_770.npy',\n",
       " 'frf100.pkl_771.npy',\n",
       " 'frf100.pkl_772.npy',\n",
       " 'frf100.pkl_773.npy',\n",
       " 'frf100.pkl_774.npy',\n",
       " 'frf100.pkl_775.npy',\n",
       " 'frf100.pkl_776.npy',\n",
       " 'frf100.pkl_777.npy',\n",
       " 'frf100.pkl_778.npy',\n",
       " 'frf100.pkl_779.npy',\n",
       " 'frf100.pkl_780.npy',\n",
       " 'frf100.pkl_781.npy',\n",
       " 'frf100.pkl_782.npy',\n",
       " 'frf100.pkl_783.npy',\n",
       " 'frf100.pkl_784.npy',\n",
       " 'frf100.pkl_785.npy',\n",
       " 'frf100.pkl_786.npy',\n",
       " 'frf100.pkl_787.npy',\n",
       " 'frf100.pkl_788.npy',\n",
       " 'frf100.pkl_789.npy',\n",
       " 'frf100.pkl_790.npy',\n",
       " 'frf100.pkl_791.npy',\n",
       " 'frf100.pkl_792.npy',\n",
       " 'frf100.pkl_793.npy',\n",
       " 'frf100.pkl_794.npy',\n",
       " 'frf100.pkl_795.npy',\n",
       " 'frf100.pkl_796.npy',\n",
       " 'frf100.pkl_797.npy',\n",
       " 'frf100.pkl_798.npy',\n",
       " 'frf100.pkl_799.npy',\n",
       " 'frf100.pkl_800.npy',\n",
       " 'frf100.pkl_801.npy',\n",
       " 'frf100.pkl_802.npy',\n",
       " 'frf100.pkl_803.npy',\n",
       " 'frf100.pkl_804.npy',\n",
       " 'frf100.pkl_805.npy',\n",
       " 'frf100.pkl_806.npy',\n",
       " 'frf100.pkl_807.npy',\n",
       " 'frf100.pkl_808.npy',\n",
       " 'frf100.pkl_809.npy',\n",
       " 'frf100.pkl_810.npy',\n",
       " 'frf100.pkl_811.npy',\n",
       " 'frf100.pkl_812.npy',\n",
       " 'frf100.pkl_813.npy',\n",
       " 'frf100.pkl_814.npy',\n",
       " 'frf100.pkl_815.npy',\n",
       " 'frf100.pkl_816.npy',\n",
       " 'frf100.pkl_817.npy',\n",
       " 'frf100.pkl_818.npy',\n",
       " 'frf100.pkl_819.npy',\n",
       " 'frf100.pkl_820.npy',\n",
       " 'frf100.pkl_821.npy',\n",
       " 'frf100.pkl_822.npy',\n",
       " 'frf100.pkl_823.npy',\n",
       " 'frf100.pkl_824.npy',\n",
       " 'frf100.pkl_825.npy',\n",
       " 'frf100.pkl_826.npy',\n",
       " 'frf100.pkl_827.npy',\n",
       " 'frf100.pkl_828.npy',\n",
       " 'frf100.pkl_829.npy',\n",
       " 'frf100.pkl_830.npy',\n",
       " 'frf100.pkl_831.npy',\n",
       " 'frf100.pkl_832.npy',\n",
       " 'frf100.pkl_833.npy',\n",
       " 'frf100.pkl_834.npy',\n",
       " 'frf100.pkl_835.npy',\n",
       " 'frf100.pkl_836.npy',\n",
       " 'frf100.pkl_837.npy',\n",
       " 'frf100.pkl_838.npy',\n",
       " 'frf100.pkl_839.npy',\n",
       " 'frf100.pkl_840.npy',\n",
       " 'frf100.pkl_841.npy',\n",
       " 'frf100.pkl_842.npy',\n",
       " 'frf100.pkl_843.npy',\n",
       " 'frf100.pkl_844.npy',\n",
       " 'frf100.pkl_845.npy',\n",
       " 'frf100.pkl_846.npy',\n",
       " 'frf100.pkl_847.npy',\n",
       " 'frf100.pkl_848.npy',\n",
       " 'frf100.pkl_849.npy',\n",
       " 'frf100.pkl_850.npy',\n",
       " 'frf100.pkl_851.npy',\n",
       " 'frf100.pkl_852.npy',\n",
       " 'frf100.pkl_853.npy',\n",
       " 'frf100.pkl_854.npy',\n",
       " 'frf100.pkl_855.npy',\n",
       " 'frf100.pkl_856.npy',\n",
       " 'frf100.pkl_857.npy',\n",
       " 'frf100.pkl_858.npy',\n",
       " 'frf100.pkl_859.npy',\n",
       " 'frf100.pkl_860.npy',\n",
       " 'frf100.pkl_861.npy',\n",
       " 'frf100.pkl_862.npy',\n",
       " 'frf100.pkl_863.npy',\n",
       " 'frf100.pkl_864.npy',\n",
       " 'frf100.pkl_865.npy',\n",
       " 'frf100.pkl_866.npy',\n",
       " 'frf100.pkl_867.npy',\n",
       " 'frf100.pkl_868.npy',\n",
       " 'frf100.pkl_869.npy',\n",
       " 'frf100.pkl_870.npy',\n",
       " 'frf100.pkl_871.npy',\n",
       " 'frf100.pkl_872.npy',\n",
       " 'frf100.pkl_873.npy',\n",
       " 'frf100.pkl_874.npy',\n",
       " 'frf100.pkl_875.npy',\n",
       " 'frf100.pkl_876.npy',\n",
       " 'frf100.pkl_877.npy',\n",
       " 'frf100.pkl_878.npy',\n",
       " 'frf100.pkl_879.npy',\n",
       " 'frf100.pkl_880.npy',\n",
       " 'frf100.pkl_881.npy',\n",
       " 'frf100.pkl_882.npy',\n",
       " 'frf100.pkl_883.npy',\n",
       " 'frf100.pkl_884.npy',\n",
       " 'frf100.pkl_885.npy',\n",
       " 'frf100.pkl_886.npy',\n",
       " 'frf100.pkl_887.npy',\n",
       " 'frf100.pkl_888.npy',\n",
       " 'frf100.pkl_889.npy',\n",
       " 'frf100.pkl_890.npy',\n",
       " 'frf100.pkl_891.npy',\n",
       " 'frf100.pkl_892.npy',\n",
       " 'frf100.pkl_893.npy',\n",
       " 'frf100.pkl_894.npy',\n",
       " 'frf100.pkl_895.npy',\n",
       " 'frf100.pkl_896.npy',\n",
       " 'frf100.pkl_897.npy',\n",
       " 'frf100.pkl_898.npy',\n",
       " 'frf100.pkl_899.npy',\n",
       " 'frf100.pkl_900.npy',\n",
       " 'frf100.pkl_901.npy',\n",
       " 'frf100.pkl_902.npy',\n",
       " 'frf100.pkl_903.npy',\n",
       " 'frf100.pkl_904.npy',\n",
       " 'frf100.pkl_905.npy',\n",
       " 'frf100.pkl_906.npy',\n",
       " 'frf100.pkl_907.npy',\n",
       " 'frf100.pkl_908.npy',\n",
       " 'frf100.pkl_909.npy',\n",
       " 'frf100.pkl_910.npy',\n",
       " 'frf100.pkl_911.npy',\n",
       " 'frf100.pkl_912.npy',\n",
       " 'frf100.pkl_913.npy',\n",
       " 'frf100.pkl_914.npy',\n",
       " 'frf100.pkl_915.npy',\n",
       " 'frf100.pkl_916.npy',\n",
       " 'frf100.pkl_917.npy',\n",
       " 'frf100.pkl_918.npy',\n",
       " 'frf100.pkl_919.npy',\n",
       " 'frf100.pkl_920.npy',\n",
       " 'frf100.pkl_921.npy',\n",
       " 'frf100.pkl_922.npy',\n",
       " 'frf100.pkl_923.npy',\n",
       " 'frf100.pkl_924.npy',\n",
       " 'frf100.pkl_925.npy',\n",
       " 'frf100.pkl_926.npy',\n",
       " 'frf100.pkl_927.npy',\n",
       " 'frf100.pkl_928.npy',\n",
       " 'frf100.pkl_929.npy',\n",
       " 'frf100.pkl_930.npy',\n",
       " 'frf100.pkl_931.npy',\n",
       " 'frf100.pkl_932.npy',\n",
       " 'frf100.pkl_933.npy',\n",
       " 'frf100.pkl_934.npy',\n",
       " 'frf100.pkl_935.npy',\n",
       " 'frf100.pkl_936.npy',\n",
       " 'frf100.pkl_937.npy',\n",
       " 'frf100.pkl_938.npy',\n",
       " 'frf100.pkl_939.npy',\n",
       " 'frf100.pkl_940.npy',\n",
       " 'frf100.pkl_941.npy',\n",
       " 'frf100.pkl_942.npy',\n",
       " 'frf100.pkl_943.npy',\n",
       " 'frf100.pkl_944.npy',\n",
       " 'frf100.pkl_945.npy',\n",
       " 'frf100.pkl_946.npy',\n",
       " 'frf100.pkl_947.npy',\n",
       " 'frf100.pkl_948.npy',\n",
       " 'frf100.pkl_949.npy',\n",
       " 'frf100.pkl_950.npy',\n",
       " 'frf100.pkl_951.npy',\n",
       " 'frf100.pkl_952.npy',\n",
       " 'frf100.pkl_953.npy',\n",
       " 'frf100.pkl_954.npy',\n",
       " 'frf100.pkl_955.npy',\n",
       " 'frf100.pkl_956.npy',\n",
       " 'frf100.pkl_957.npy',\n",
       " 'frf100.pkl_958.npy',\n",
       " 'frf100.pkl_959.npy',\n",
       " 'frf100.pkl_960.npy',\n",
       " 'frf100.pkl_961.npy',\n",
       " 'frf100.pkl_962.npy',\n",
       " 'frf100.pkl_963.npy',\n",
       " 'frf100.pkl_964.npy',\n",
       " 'frf100.pkl_965.npy',\n",
       " 'frf100.pkl_966.npy',\n",
       " 'frf100.pkl_967.npy',\n",
       " 'frf100.pkl_968.npy',\n",
       " 'frf100.pkl_969.npy',\n",
       " 'frf100.pkl_970.npy',\n",
       " 'frf100.pkl_971.npy',\n",
       " 'frf100.pkl_972.npy',\n",
       " 'frf100.pkl_973.npy',\n",
       " 'frf100.pkl_974.npy',\n",
       " 'frf100.pkl_975.npy',\n",
       " 'frf100.pkl_976.npy',\n",
       " 'frf100.pkl_977.npy',\n",
       " 'frf100.pkl_978.npy',\n",
       " 'frf100.pkl_979.npy',\n",
       " 'frf100.pkl_980.npy',\n",
       " 'frf100.pkl_981.npy',\n",
       " 'frf100.pkl_982.npy',\n",
       " 'frf100.pkl_983.npy',\n",
       " 'frf100.pkl_984.npy',\n",
       " 'frf100.pkl_985.npy',\n",
       " 'frf100.pkl_986.npy',\n",
       " 'frf100.pkl_987.npy',\n",
       " 'frf100.pkl_988.npy',\n",
       " 'frf100.pkl_989.npy',\n",
       " 'frf100.pkl_990.npy',\n",
       " 'frf100.pkl_991.npy',\n",
       " 'frf100.pkl_992.npy',\n",
       " 'frf100.pkl_993.npy',\n",
       " 'frf100.pkl_994.npy',\n",
       " 'frf100.pkl_995.npy',\n",
       " 'frf100.pkl_996.npy',\n",
       " 'frf100.pkl_997.npy',\n",
       " 'frf100.pkl_998.npy',\n",
       " 'frf100.pkl_999.npy',\n",
       " ...]"
      ]
     },
     "execution_count": 166,
     "metadata": {},
     "output_type": "execute_result"
    }
   ],
   "source": [
    "jl.dump(five_rf_mdl_100,'frf100.pkl')"
   ]
  },
  {
   "cell_type": "code",
   "execution_count": 115,
   "metadata": {
    "collapsed": false
   },
   "outputs": [],
   "source": [
    "\n",
    "five_rf_mdl = []\n",
    "for i in xrange(0,len(tfold5)):\n",
    "    train_y = y5fold[i].flatten()#[tfold5[i][0]]\n",
    "    #train_X = #X5fold[tfold5[i][0],:,i]\n",
    "    train_X = X5fold[:,:,i]\n",
    "    rfmdl = ensemble.RandomForestClassifier(n_jobs=50,n_estimators=500,max_features=None)\n",
    "    rfmdl.fit(train_X,train_y)\n",
    "#baseline_singleRFC = ensemble.RandomForestClassifier(n_jobs=50,n_estimators=500,max_features=None)\n",
    "#baseline_singleRFC.fit(X,y_term)\n",
    "#baseline_singleRFC_importances= baseline_singleRFC.feature_importances_\n",
    "    five_rf_mdl.append(rfmdl)"
   ]
  },
  {
   "cell_type": "code",
   "execution_count": 116,
   "metadata": {
    "collapsed": false
   },
   "outputs": [],
   "source": [
    "def adjust_eval_by_x_years(df,year_val,modeling_columns,tstmp_cols=default_tstmps,target_col='former'):\n",
    "    # construct\n",
    "  \n",
    "    ## set up method to assess the eval set\n",
    "    print \"There are {0} elements in the evaluation set\".format(len(df))\n",
    "   \n",
    "    print \"original target variable value counts:\", df[target_col].value_counts()\n",
    "    # restructure to deal with time_frame retirement (target variable)\n",
    "    yr_cut_val = year_val+0.5\n",
    "    # index of those that actually accomplish target within timeframe (allow 0.5 additional years)\n",
    "    eval_within_time_target_index = df[(df[target_col]==1) & (df.Tenure_years <= yr_cut_val)].index\n",
    "    # exclude indices that are active and have tenure less than this time\n",
    "    eval_excluded_index = df[(df[target_col]==0) & (df.Tenure_years  <= yr_cut_val)].index\n",
    "    \n",
    "    # the rest become my not-terminated set\n",
    "    eval_active_index = set(df.index) - set(eval_within_time_target_index) - set(eval_excluded_index)\n",
    "    print len(eval_excluded_index),len(eval_within_time_target_index), len(eval_active_index)\n",
    "    eval_idx_to_use =df.ix[set(df.index)-set(eval_excluded_index)].index\n",
    "    #len(eval_idx_to_use)\n",
    "    # reset the termination to 0 for active\n",
    "    eval_new_target = df[target_col].copy()\n",
    "    eval_new_target.ix[eval_active_index] = 0\n",
    "    print \"new target variable value counts: \"\n",
    "    print eval_new_target.ix[eval_idx_to_use].value_counts()\n",
    "    print \"_____\"\n",
    "    y_eval = eval_new_target.ix[eval_idx_to_use].as_matrix().astype(np.int) # true values\n",
    "    eval_adj_tenure = df.ix[eval_idx_to_use].Tenure_years.apply(lambda x: x-year_val if (x>float(year_val)) else 0).values\n",
    "    print len(eval_adj_tenure), len(y_eval)\n",
    "    # now adjust age by length of time; use hire_age if not in set to use.\n",
    "    eval_adj_age = df.ix[eval_idx_to_use].Age_years.apply(lambda x: x-year_val)\n",
    "    hire_age = (df.ix[eval_within_time_target_index]['birth_tstmp']-df.ix[eval_within_time_target_index]['hire_tstmp'])/np.timedelta64(1,'Y')#.days/days_in_year\n",
    "    eval_adj_age.ix[eval_within_time_target_index] = hire_age #df.ix[eval_within_time_target_index]['birth_tstmp'#df_dates['hire_age']\n",
    "    \n",
    "    # construct the evaluation X matrix\n",
    "    print \"input matrix has {0} features\".format(len(modeling_columns)+2)\n",
    "    Xeval = np.zeros((len(eval_idx_to_use),len(modeling_columns)+2))\n",
    "    Xeval[:,:-2] = df.ix[eval_idx_to_use][modeling_columns].as_matrix().astype(np.float)\n",
    "    # now put the adjusted tenure and ages into this matrix\n",
    "    Xeval[:,-2] = eval_adj_age.values\n",
    "    Xeval[:,-1]=eval_adj_tenure\n",
    "    #print len(modeling_columns),np.shape(Xeval)\n",
    "    return Xeval, y_eval"
   ]
  },
  {
   "cell_type": "code",
   "execution_count": 117,
   "metadata": {
    "collapsed": true
   },
   "outputs": [],
   "source": [
    "evalmod = apply_preprocess_small(em2eval,cols_for_model_prep)"
   ]
  },
  {
   "cell_type": "code",
   "execution_count": null,
   "metadata": {
    "collapsed": false
   },
   "outputs": [],
   "source": [
    "(evalmod['hire_tstmp']-evalmod['birth_tstmp'])/np.timedelta64(1,'Y')"
   ]
  },
  {
   "cell_type": "code",
   "execution_count": 118,
   "metadata": {
    "collapsed": false
   },
   "outputs": [
    {
     "name": "stdout",
     "output_type": "stream",
     "text": [
      "There are 26854 elements in the evaluation set\n",
      "original target variable value counts: 0    16816\n",
      "1    10038\n",
      "dtype: int64\n",
      "4081 6006 16767\n",
      "new target variable value counts: \n",
      "0    16767\n",
      "1     6006\n",
      "dtype: int64\n",
      "_____\n",
      "22773 22773\n",
      "input matrix has 11 features\n"
     ]
    }
   ],
   "source": [
    "X5eval, y5eval = adjust_eval_by_x_years(evalmod,5,columns_for_modeling)"
   ]
  },
  {
   "cell_type": "code",
   "execution_count": 119,
   "metadata": {
    "collapsed": false
   },
   "outputs": [],
   "source": [
    "## now apply each model to my eval set\n",
    "def evaluate_models(model_list,Xeval):\n",
    "    eval_pred_class = np.zeros((len(Xeval),len(model_list)))\n",
    "    eval_pred_proba = np.zeros((len(Xeval),2,len(model_list)))\n",
    "\n",
    "    for i,mdl in enumerate(model_list):\n",
    "        eval_proba = mdl.predict_proba(Xeval)\n",
    "        eval_pred_class[:,i]=mdl.predict(Xeval)\n",
    "        eval_pred_proba[:,:,i]=eval_proba\n",
    "    #print np.shape(eval_prediction_proba3)\n",
    "    return eval_pred_class, eval_pred_proba"
   ]
  },
  {
   "cell_type": "code",
   "execution_count": 120,
   "metadata": {
    "collapsed": false
   },
   "outputs": [],
   "source": [
    "eval_pred_5class, eval_pred_proba5 = evaluate_models(five_rf_mdl,X5eval)"
   ]
  },
  {
   "cell_type": "code",
   "execution_count": 175,
   "metadata": {
    "collapsed": true
   },
   "outputs": [],
   "source": [
    "eval_pred5class_100A, eval_pred5proba = evaluate_models(five_rf_mdl_100A,X5eval)"
   ]
  },
  {
   "cell_type": "code",
   "execution_count": 121,
   "metadata": {
    "collapsed": false
   },
   "outputs": [
    {
     "data": {
      "text/plain": [
       "(22773, 22773)"
      ]
     },
     "execution_count": 121,
     "metadata": {},
     "output_type": "execute_result"
    }
   ],
   "source": [
    "len(eval_pred_5class), len(y5eval)"
   ]
  },
  {
   "cell_type": "code",
   "execution_count": 122,
   "metadata": {
    "collapsed": true
   },
   "outputs": [],
   "source": [
    "def plot_conf_matrix(y_true,y_pred,normed=True,**kwargs):\n",
    "    my_c = metrics.confusion_matrix(y_true,y_pred)\n",
    "    \n",
    "    print metrics.matthews_corrcoef(y_true,y_pred)\n",
    "    if normed:\n",
    "        cm_normalized = my_c.astype('float') / my_c.sum(axis=1)[:, np.newaxis]\n",
    "        my_c = cm_normalized\n",
    "        plt.title('Normalized RF Classifier Confusion Matrix')\n",
    "    else:\n",
    "        plt.title('Random Forest Classifier Confusion Matrix')\n",
    "        \n",
    "    sns.heatmap(my_c, annot=True,  fmt='',cmap='Blues')\n",
    "    plt.ylabel('True')\n",
    "    #plt.yticks\n",
    "    plt.xlabel('Assigned')\n",
    "    plt.show()\n",
    "    \n",
    "    return"
   ]
  },
  {
   "cell_type": "code",
   "execution_count": 123,
   "metadata": {
    "collapsed": true
   },
   "outputs": [],
   "source": [
    "from sklearn import metrics"
   ]
  },
  {
   "cell_type": "code",
   "execution_count": 124,
   "metadata": {
    "collapsed": false
   },
   "outputs": [
    {
     "name": "stdout",
     "output_type": "stream",
     "text": [
      "0.723194200093\n"
     ]
    },
    {
     "data": {
      "image/png": "[encoded data removed]",
      "text/plain": [
       "<matplotlib.figure.Figure at 0x7fd8ab38dad0>"
      ]
     },
     "metadata": {},
     "output_type": "display_data"
    }
   ],
   "source": [
    "plot_conf_matrix(y5eval,map(int,eval_pred_5class.mean(axis=1)))"
   ]
  },
  {
   "cell_type": "code",
   "execution_count": 1,
   "metadata": {
    "collapsed": false
   },
   "outputs": [
    {
     "ename": "NameError",
     "evalue": "name 'plot_conf_matrix' is not defined",
     "output_type": "error",
     "traceback": [
      "\u001b[1;31m---------------------------------------------------------------------------\u001b[0m",
      "\u001b[1;31mNameError\u001b[0m                                 Traceback (most recent call last)",
      "\u001b[1;32m<ipython-input-1-2ec13146806f>\u001b[0m in \u001b[0;36m<module>\u001b[1;34m()\u001b[0m\n\u001b[1;32m----> 1\u001b[1;33m \u001b[0mplot_conf_matrix\u001b[0m\u001b[1;33m(\u001b[0m\u001b[0my5eval\u001b[0m\u001b[1;33m,\u001b[0m\u001b[0mmap\u001b[0m\u001b[1;33m(\u001b[0m\u001b[0mint\u001b[0m\u001b[1;33m,\u001b[0m\u001b[0meval_pred5class_100A\u001b[0m\u001b[1;33m.\u001b[0m\u001b[0mmean\u001b[0m\u001b[1;33m(\u001b[0m\u001b[0maxis\u001b[0m\u001b[1;33m=\u001b[0m\u001b[1;36m1\u001b[0m\u001b[1;33m)\u001b[0m\u001b[1;33m)\u001b[0m\u001b[1;33m)\u001b[0m\u001b[1;33m\u001b[0m\u001b[0m\n\u001b[0m",
      "\u001b[1;31mNameError\u001b[0m: name 'plot_conf_matrix' is not defined"
     ]
    }
   ],
   "source": [
    "plot_conf_matrix(y5eval,map(int,eval_pred5class_100A.mean(axis=1)))"
   ]
  },
  {
   "cell_type": "code",
   "execution_count": 178,
   "metadata": {
    "collapsed": false,
    "scrolled": true
   },
   "outputs": [
    {
     "data": {
      "text/plain": [
       "(0, 1.01)"
      ]
     },
     "execution_count": 178,
     "metadata": {},
     "output_type": "execute_result"
    },
    {
     "data": {
      "image/png": "[encoded data removed]",
      "text/plain": [
       "<matplotlib.figure.Figure at 0x7fd89d284e10>"
      ]
     },
     "metadata": {},
     "output_type": "display_data"
    }
   ],
   "source": [
    "#plot_roc_curve(y3eval,eval_prediction_proba3[:,])\n",
    "plot_roc_curve(y5eval,eval_pred5proba[:,:,:].mean(axis=2))\n",
    "plt.ylim([0,1.01])"
   ]
  },
  {
   "cell_type": "code",
   "execution_count": 125,
   "metadata": {
    "collapsed": true
   },
   "outputs": [],
   "source": [
    "def plot_roc_curve(target_test, target_predicted_proba):\n",
    "    fpr, tpr, thresholds = metrics.roc_curve(target_test, target_predicted_proba[:, 1])\n",
    "    \n",
    "    roc_auc = metrics.auc(fpr, tpr)\n",
    "    # Plot ROC curve\n",
    "    plt.plot(fpr, tpr, label='ROC curve (area = %0.3f)' % roc_auc)\n",
    "    plt.plot([0, 1], [0, 1], 'k--')  # random predictions curve\n",
    "    plt.xlim([0.0, 1.0])\n",
    "    plt.ylim([0.0, 1.0])\n",
    "    plt.xlabel('False Positive Rate or (1 - Specifity)')\n",
    "    plt.ylabel('True Positive Rate or (Sensitivity)')\n",
    "    plt.title('Receiver Operating Characteristic')\n",
    "    plt.legend(loc=\"lower right\")\n",
    "    return roc_auc"
   ]
  },
  {
   "cell_type": "raw",
   "metadata": {
    "collapsed": false
   },
   "source": [
    "#plot_roc_curve(y3eval,eval_prediction_proba3[:,])\n",
    "plot_roc_curve(y5eval,eval_pred_proba5[:,:,:].mean(axis=2))\n",
    "plt.ylim([0,1.01])"
   ]
  },
  {
   "cell_type": "code",
   "execution_count": 127,
   "metadata": {
    "collapsed": false
   },
   "outputs": [
    {
     "name": "stdout",
     "output_type": "stream",
     "text": [
      "0.705909774219\n"
     ]
    },
    {
     "data": {
      "image/png": "[encoded data removed]",
      "text/plain": [
       "<matplotlib.figure.Figure at 0x7fd8a7e23490>"
      ]
     },
     "metadata": {},
     "output_type": "display_data"
    }
   ],
   "source": [
    "plot_conf_matrix(y5eval,map(int,eval_pred_5class.mean(axis=1)+0.3))"
   ]
  },
  {
   "cell_type": "code",
   "execution_count": 130,
   "metadata": {
    "collapsed": false
   },
   "outputs": [
    {
     "data": {
      "text/plain": [
       "['five_rf_mdljl.pkl',\n",
       " 'five_rf_mdljl.pkl_01.npy',\n",
       " 'five_rf_mdljl.pkl_02.npy',\n",
       " 'five_rf_mdljl.pkl_03.npy',\n",
       " 'five_rf_mdljl.pkl_04.npy',\n",
       " 'five_rf_mdljl.pkl_05.npy',\n",
       " 'five_rf_mdljl.pkl_06.npy',\n",
       " 'five_rf_mdljl.pkl_07.npy',\n",
       " 'five_rf_mdljl.pkl_08.npy',\n",
       " 'five_rf_mdljl.pkl_09.npy',\n",
       " 'five_rf_mdljl.pkl_10.npy',\n",
       " 'five_rf_mdljl.pkl_11.npy',\n",
       " 'five_rf_mdljl.pkl_12.npy',\n",
       " 'five_rf_mdljl.pkl_13.npy',\n",
       " 'five_rf_mdljl.pkl_14.npy',\n",
       " 'five_rf_mdljl.pkl_15.npy',\n",
       " 'five_rf_mdljl.pkl_16.npy',\n",
       " 'five_rf_mdljl.pkl_17.npy',\n",
       " 'five_rf_mdljl.pkl_18.npy',\n",
       " 'five_rf_mdljl.pkl_19.npy',\n",
       " 'five_rf_mdljl.pkl_20.npy',\n",
       " 'five_rf_mdljl.pkl_21.npy',\n",
       " 'five_rf_mdljl.pkl_22.npy',\n",
       " 'five_rf_mdljl.pkl_23.npy',\n",
       " 'five_rf_mdljl.pkl_24.npy',\n",
       " 'five_rf_mdljl.pkl_25.npy',\n",
       " 'five_rf_mdljl.pkl_26.npy',\n",
       " 'five_rf_mdljl.pkl_27.npy',\n",
       " 'five_rf_mdljl.pkl_28.npy',\n",
       " 'five_rf_mdljl.pkl_29.npy',\n",
       " 'five_rf_mdljl.pkl_30.npy',\n",
       " 'five_rf_mdljl.pkl_31.npy',\n",
       " 'five_rf_mdljl.pkl_32.npy',\n",
       " 'five_rf_mdljl.pkl_33.npy',\n",
       " 'five_rf_mdljl.pkl_34.npy',\n",
       " 'five_rf_mdljl.pkl_35.npy',\n",
       " 'five_rf_mdljl.pkl_36.npy',\n",
       " 'five_rf_mdljl.pkl_37.npy',\n",
       " 'five_rf_mdljl.pkl_38.npy',\n",
       " 'five_rf_mdljl.pkl_39.npy',\n",
       " 'five_rf_mdljl.pkl_40.npy',\n",
       " 'five_rf_mdljl.pkl_41.npy',\n",
       " 'five_rf_mdljl.pkl_42.npy',\n",
       " 'five_rf_mdljl.pkl_43.npy',\n",
       " 'five_rf_mdljl.pkl_44.npy',\n",
       " 'five_rf_mdljl.pkl_45.npy',\n",
       " 'five_rf_mdljl.pkl_46.npy',\n",
       " 'five_rf_mdljl.pkl_47.npy',\n",
       " 'five_rf_mdljl.pkl_48.npy',\n",
       " 'five_rf_mdljl.pkl_49.npy',\n",
       " 'five_rf_mdljl.pkl_50.npy',\n",
       " 'five_rf_mdljl.pkl_51.npy',\n",
       " 'five_rf_mdljl.pkl_52.npy',\n",
       " 'five_rf_mdljl.pkl_53.npy',\n",
       " 'five_rf_mdljl.pkl_54.npy',\n",
       " 'five_rf_mdljl.pkl_55.npy',\n",
       " 'five_rf_mdljl.pkl_56.npy',\n",
       " 'five_rf_mdljl.pkl_57.npy',\n",
       " 'five_rf_mdljl.pkl_58.npy',\n",
       " 'five_rf_mdljl.pkl_59.npy',\n",
       " 'five_rf_mdljl.pkl_60.npy',\n",
       " 'five_rf_mdljl.pkl_61.npy',\n",
       " 'five_rf_mdljl.pkl_62.npy',\n",
       " 'five_rf_mdljl.pkl_63.npy',\n",
       " 'five_rf_mdljl.pkl_64.npy',\n",
       " 'five_rf_mdljl.pkl_65.npy',\n",
       " 'five_rf_mdljl.pkl_66.npy',\n",
       " 'five_rf_mdljl.pkl_67.npy',\n",
       " 'five_rf_mdljl.pkl_68.npy',\n",
       " 'five_rf_mdljl.pkl_69.npy',\n",
       " 'five_rf_mdljl.pkl_70.npy',\n",
       " 'five_rf_mdljl.pkl_71.npy',\n",
       " 'five_rf_mdljl.pkl_72.npy',\n",
       " 'five_rf_mdljl.pkl_73.npy',\n",
       " 'five_rf_mdljl.pkl_74.npy',\n",
       " 'five_rf_mdljl.pkl_75.npy',\n",
       " 'five_rf_mdljl.pkl_76.npy',\n",
       " 'five_rf_mdljl.pkl_77.npy',\n",
       " 'five_rf_mdljl.pkl_78.npy',\n",
       " 'five_rf_mdljl.pkl_79.npy',\n",
       " 'five_rf_mdljl.pkl_80.npy',\n",
       " 'five_rf_mdljl.pkl_81.npy',\n",
       " 'five_rf_mdljl.pkl_82.npy',\n",
       " 'five_rf_mdljl.pkl_83.npy',\n",
       " 'five_rf_mdljl.pkl_84.npy',\n",
       " 'five_rf_mdljl.pkl_85.npy',\n",
       " 'five_rf_mdljl.pkl_86.npy',\n",
       " 'five_rf_mdljl.pkl_87.npy',\n",
       " 'five_rf_mdljl.pkl_88.npy',\n",
       " 'five_rf_mdljl.pkl_89.npy',\n",
       " 'five_rf_mdljl.pkl_90.npy',\n",
       " 'five_rf_mdljl.pkl_91.npy',\n",
       " 'five_rf_mdljl.pkl_92.npy',\n",
       " 'five_rf_mdljl.pkl_93.npy',\n",
       " 'five_rf_mdljl.pkl_94.npy',\n",
       " 'five_rf_mdljl.pkl_95.npy',\n",
       " 'five_rf_mdljl.pkl_96.npy',\n",
       " 'five_rf_mdljl.pkl_97.npy',\n",
       " 'five_rf_mdljl.pkl_98.npy',\n",
       " 'five_rf_mdljl.pkl_99.npy',\n",
       " 'five_rf_mdljl.pkl_100.npy',\n",
       " 'five_rf_mdljl.pkl_101.npy',\n",
       " 'five_rf_mdljl.pkl_102.npy',\n",
       " 'five_rf_mdljl.pkl_103.npy',\n",
       " 'five_rf_mdljl.pkl_104.npy',\n",
       " 'five_rf_mdljl.pkl_105.npy',\n",
       " 'five_rf_mdljl.pkl_106.npy',\n",
       " 'five_rf_mdljl.pkl_107.npy',\n",
       " 'five_rf_mdljl.pkl_108.npy',\n",
       " 'five_rf_mdljl.pkl_109.npy',\n",
       " 'five_rf_mdljl.pkl_110.npy',\n",
       " 'five_rf_mdljl.pkl_111.npy',\n",
       " 'five_rf_mdljl.pkl_112.npy',\n",
       " 'five_rf_mdljl.pkl_113.npy',\n",
       " 'five_rf_mdljl.pkl_114.npy',\n",
       " 'five_rf_mdljl.pkl_115.npy',\n",
       " 'five_rf_mdljl.pkl_116.npy',\n",
       " 'five_rf_mdljl.pkl_117.npy',\n",
       " 'five_rf_mdljl.pkl_118.npy',\n",
       " 'five_rf_mdljl.pkl_119.npy',\n",
       " 'five_rf_mdljl.pkl_120.npy',\n",
       " 'five_rf_mdljl.pkl_121.npy',\n",
       " 'five_rf_mdljl.pkl_122.npy',\n",
       " 'five_rf_mdljl.pkl_123.npy',\n",
       " 'five_rf_mdljl.pkl_124.npy',\n",
       " 'five_rf_mdljl.pkl_125.npy',\n",
       " 'five_rf_mdljl.pkl_126.npy',\n",
       " 'five_rf_mdljl.pkl_127.npy',\n",
       " 'five_rf_mdljl.pkl_128.npy',\n",
       " 'five_rf_mdljl.pkl_129.npy',\n",
       " 'five_rf_mdljl.pkl_130.npy',\n",
       " 'five_rf_mdljl.pkl_131.npy',\n",
       " 'five_rf_mdljl.pkl_132.npy',\n",
       " 'five_rf_mdljl.pkl_133.npy',\n",
       " 'five_rf_mdljl.pkl_134.npy',\n",
       " 'five_rf_mdljl.pkl_135.npy',\n",
       " 'five_rf_mdljl.pkl_136.npy',\n",
       " 'five_rf_mdljl.pkl_137.npy',\n",
       " 'five_rf_mdljl.pkl_138.npy',\n",
       " 'five_rf_mdljl.pkl_139.npy',\n",
       " 'five_rf_mdljl.pkl_140.npy',\n",
       " 'five_rf_mdljl.pkl_141.npy',\n",
       " 'five_rf_mdljl.pkl_142.npy',\n",
       " 'five_rf_mdljl.pkl_143.npy',\n",
       " 'five_rf_mdljl.pkl_144.npy',\n",
       " 'five_rf_mdljl.pkl_145.npy',\n",
       " 'five_rf_mdljl.pkl_146.npy',\n",
       " 'five_rf_mdljl.pkl_147.npy',\n",
       " 'five_rf_mdljl.pkl_148.npy',\n",
       " 'five_rf_mdljl.pkl_149.npy',\n",
       " 'five_rf_mdljl.pkl_150.npy',\n",
       " 'five_rf_mdljl.pkl_151.npy',\n",
       " 'five_rf_mdljl.pkl_152.npy',\n",
       " 'five_rf_mdljl.pkl_153.npy',\n",
       " 'five_rf_mdljl.pkl_154.npy',\n",
       " 'five_rf_mdljl.pkl_155.npy',\n",
       " 'five_rf_mdljl.pkl_156.npy',\n",
       " 'five_rf_mdljl.pkl_157.npy',\n",
       " 'five_rf_mdljl.pkl_158.npy',\n",
       " 'five_rf_mdljl.pkl_159.npy',\n",
       " 'five_rf_mdljl.pkl_160.npy',\n",
       " 'five_rf_mdljl.pkl_161.npy',\n",
       " 'five_rf_mdljl.pkl_162.npy',\n",
       " 'five_rf_mdljl.pkl_163.npy',\n",
       " 'five_rf_mdljl.pkl_164.npy',\n",
       " 'five_rf_mdljl.pkl_165.npy',\n",
       " 'five_rf_mdljl.pkl_166.npy',\n",
       " 'five_rf_mdljl.pkl_167.npy',\n",
       " 'five_rf_mdljl.pkl_168.npy',\n",
       " 'five_rf_mdljl.pkl_169.npy',\n",
       " 'five_rf_mdljl.pkl_170.npy',\n",
       " 'five_rf_mdljl.pkl_171.npy',\n",
       " 'five_rf_mdljl.pkl_172.npy',\n",
       " 'five_rf_mdljl.pkl_173.npy',\n",
       " 'five_rf_mdljl.pkl_174.npy',\n",
       " 'five_rf_mdljl.pkl_175.npy',\n",
       " 'five_rf_mdljl.pkl_176.npy',\n",
       " 'five_rf_mdljl.pkl_177.npy',\n",
       " 'five_rf_mdljl.pkl_178.npy',\n",
       " 'five_rf_mdljl.pkl_179.npy',\n",
       " 'five_rf_mdljl.pkl_180.npy',\n",
       " 'five_rf_mdljl.pkl_181.npy',\n",
       " 'five_rf_mdljl.pkl_182.npy',\n",
       " 'five_rf_mdljl.pkl_183.npy',\n",
       " 'five_rf_mdljl.pkl_184.npy',\n",
       " 'five_rf_mdljl.pkl_185.npy',\n",
       " 'five_rf_mdljl.pkl_186.npy',\n",
       " 'five_rf_mdljl.pkl_187.npy',\n",
       " 'five_rf_mdljl.pkl_188.npy',\n",
       " 'five_rf_mdljl.pkl_189.npy',\n",
       " 'five_rf_mdljl.pkl_190.npy',\n",
       " 'five_rf_mdljl.pkl_191.npy',\n",
       " 'five_rf_mdljl.pkl_192.npy',\n",
       " 'five_rf_mdljl.pkl_193.npy',\n",
       " 'five_rf_mdljl.pkl_194.npy',\n",
       " 'five_rf_mdljl.pkl_195.npy',\n",
       " 'five_rf_mdljl.pkl_196.npy',\n",
       " 'five_rf_mdljl.pkl_197.npy',\n",
       " 'five_rf_mdljl.pkl_198.npy',\n",
       " 'five_rf_mdljl.pkl_199.npy',\n",
       " 'five_rf_mdljl.pkl_200.npy',\n",
       " 'five_rf_mdljl.pkl_201.npy',\n",
       " 'five_rf_mdljl.pkl_202.npy',\n",
       " 'five_rf_mdljl.pkl_203.npy',\n",
       " 'five_rf_mdljl.pkl_204.npy',\n",
       " 'five_rf_mdljl.pkl_205.npy',\n",
       " 'five_rf_mdljl.pkl_206.npy',\n",
       " 'five_rf_mdljl.pkl_207.npy',\n",
       " 'five_rf_mdljl.pkl_208.npy',\n",
       " 'five_rf_mdljl.pkl_209.npy',\n",
       " 'five_rf_mdljl.pkl_210.npy',\n",
       " 'five_rf_mdljl.pkl_211.npy',\n",
       " 'five_rf_mdljl.pkl_212.npy',\n",
       " 'five_rf_mdljl.pkl_213.npy',\n",
       " 'five_rf_mdljl.pkl_214.npy',\n",
       " 'five_rf_mdljl.pkl_215.npy',\n",
       " 'five_rf_mdljl.pkl_216.npy',\n",
       " 'five_rf_mdljl.pkl_217.npy',\n",
       " 'five_rf_mdljl.pkl_218.npy',\n",
       " 'five_rf_mdljl.pkl_219.npy',\n",
       " 'five_rf_mdljl.pkl_220.npy',\n",
       " 'five_rf_mdljl.pkl_221.npy',\n",
       " 'five_rf_mdljl.pkl_222.npy',\n",
       " 'five_rf_mdljl.pkl_223.npy',\n",
       " 'five_rf_mdljl.pkl_224.npy',\n",
       " 'five_rf_mdljl.pkl_225.npy',\n",
       " 'five_rf_mdljl.pkl_226.npy',\n",
       " 'five_rf_mdljl.pkl_227.npy',\n",
       " 'five_rf_mdljl.pkl_228.npy',\n",
       " 'five_rf_mdljl.pkl_229.npy',\n",
       " 'five_rf_mdljl.pkl_230.npy',\n",
       " 'five_rf_mdljl.pkl_231.npy',\n",
       " 'five_rf_mdljl.pkl_232.npy',\n",
       " 'five_rf_mdljl.pkl_233.npy',\n",
       " 'five_rf_mdljl.pkl_234.npy',\n",
       " 'five_rf_mdljl.pkl_235.npy',\n",
       " 'five_rf_mdljl.pkl_236.npy',\n",
       " 'five_rf_mdljl.pkl_237.npy',\n",
       " 'five_rf_mdljl.pkl_238.npy',\n",
       " 'five_rf_mdljl.pkl_239.npy',\n",
       " 'five_rf_mdljl.pkl_240.npy',\n",
       " 'five_rf_mdljl.pkl_241.npy',\n",
       " 'five_rf_mdljl.pkl_242.npy',\n",
       " 'five_rf_mdljl.pkl_243.npy',\n",
       " 'five_rf_mdljl.pkl_244.npy',\n",
       " 'five_rf_mdljl.pkl_245.npy',\n",
       " 'five_rf_mdljl.pkl_246.npy',\n",
       " 'five_rf_mdljl.pkl_247.npy',\n",
       " 'five_rf_mdljl.pkl_248.npy',\n",
       " 'five_rf_mdljl.pkl_249.npy',\n",
       " 'five_rf_mdljl.pkl_250.npy',\n",
       " 'five_rf_mdljl.pkl_251.npy',\n",
       " 'five_rf_mdljl.pkl_252.npy',\n",
       " 'five_rf_mdljl.pkl_253.npy',\n",
       " 'five_rf_mdljl.pkl_254.npy',\n",
       " 'five_rf_mdljl.pkl_255.npy',\n",
       " 'five_rf_mdljl.pkl_256.npy',\n",
       " 'five_rf_mdljl.pkl_257.npy',\n",
       " 'five_rf_mdljl.pkl_258.npy',\n",
       " 'five_rf_mdljl.pkl_259.npy',\n",
       " 'five_rf_mdljl.pkl_260.npy',\n",
       " 'five_rf_mdljl.pkl_261.npy',\n",
       " 'five_rf_mdljl.pkl_262.npy',\n",
       " 'five_rf_mdljl.pkl_263.npy',\n",
       " 'five_rf_mdljl.pkl_264.npy',\n",
       " 'five_rf_mdljl.pkl_265.npy',\n",
       " 'five_rf_mdljl.pkl_266.npy',\n",
       " 'five_rf_mdljl.pkl_267.npy',\n",
       " 'five_rf_mdljl.pkl_268.npy',\n",
       " 'five_rf_mdljl.pkl_269.npy',\n",
       " 'five_rf_mdljl.pkl_270.npy',\n",
       " 'five_rf_mdljl.pkl_271.npy',\n",
       " 'five_rf_mdljl.pkl_272.npy',\n",
       " 'five_rf_mdljl.pkl_273.npy',\n",
       " 'five_rf_mdljl.pkl_274.npy',\n",
       " 'five_rf_mdljl.pkl_275.npy',\n",
       " 'five_rf_mdljl.pkl_276.npy',\n",
       " 'five_rf_mdljl.pkl_277.npy',\n",
       " 'five_rf_mdljl.pkl_278.npy',\n",
       " 'five_rf_mdljl.pkl_279.npy',\n",
       " 'five_rf_mdljl.pkl_280.npy',\n",
       " 'five_rf_mdljl.pkl_281.npy',\n",
       " 'five_rf_mdljl.pkl_282.npy',\n",
       " 'five_rf_mdljl.pkl_283.npy',\n",
       " 'five_rf_mdljl.pkl_284.npy',\n",
       " 'five_rf_mdljl.pkl_285.npy',\n",
       " 'five_rf_mdljl.pkl_286.npy',\n",
       " 'five_rf_mdljl.pkl_287.npy',\n",
       " 'five_rf_mdljl.pkl_288.npy',\n",
       " 'five_rf_mdljl.pkl_289.npy',\n",
       " 'five_rf_mdljl.pkl_290.npy',\n",
       " 'five_rf_mdljl.pkl_291.npy',\n",
       " 'five_rf_mdljl.pkl_292.npy',\n",
       " 'five_rf_mdljl.pkl_293.npy',\n",
       " 'five_rf_mdljl.pkl_294.npy',\n",
       " 'five_rf_mdljl.pkl_295.npy',\n",
       " 'five_rf_mdljl.pkl_296.npy',\n",
       " 'five_rf_mdljl.pkl_297.npy',\n",
       " 'five_rf_mdljl.pkl_298.npy',\n",
       " 'five_rf_mdljl.pkl_299.npy',\n",
       " 'five_rf_mdljl.pkl_300.npy',\n",
       " 'five_rf_mdljl.pkl_301.npy',\n",
       " 'five_rf_mdljl.pkl_302.npy',\n",
       " 'five_rf_mdljl.pkl_303.npy',\n",
       " 'five_rf_mdljl.pkl_304.npy',\n",
       " 'five_rf_mdljl.pkl_305.npy',\n",
       " 'five_rf_mdljl.pkl_306.npy',\n",
       " 'five_rf_mdljl.pkl_307.npy',\n",
       " 'five_rf_mdljl.pkl_308.npy',\n",
       " 'five_rf_mdljl.pkl_309.npy',\n",
       " 'five_rf_mdljl.pkl_310.npy',\n",
       " 'five_rf_mdljl.pkl_311.npy',\n",
       " 'five_rf_mdljl.pkl_312.npy',\n",
       " 'five_rf_mdljl.pkl_313.npy',\n",
       " 'five_rf_mdljl.pkl_314.npy',\n",
       " 'five_rf_mdljl.pkl_315.npy',\n",
       " 'five_rf_mdljl.pkl_316.npy',\n",
       " 'five_rf_mdljl.pkl_317.npy',\n",
       " 'five_rf_mdljl.pkl_318.npy',\n",
       " 'five_rf_mdljl.pkl_319.npy',\n",
       " 'five_rf_mdljl.pkl_320.npy',\n",
       " 'five_rf_mdljl.pkl_321.npy',\n",
       " 'five_rf_mdljl.pkl_322.npy',\n",
       " 'five_rf_mdljl.pkl_323.npy',\n",
       " 'five_rf_mdljl.pkl_324.npy',\n",
       " 'five_rf_mdljl.pkl_325.npy',\n",
       " 'five_rf_mdljl.pkl_326.npy',\n",
       " 'five_rf_mdljl.pkl_327.npy',\n",
       " 'five_rf_mdljl.pkl_328.npy',\n",
       " 'five_rf_mdljl.pkl_329.npy',\n",
       " 'five_rf_mdljl.pkl_330.npy',\n",
       " 'five_rf_mdljl.pkl_331.npy',\n",
       " 'five_rf_mdljl.pkl_332.npy',\n",
       " 'five_rf_mdljl.pkl_333.npy',\n",
       " 'five_rf_mdljl.pkl_334.npy',\n",
       " 'five_rf_mdljl.pkl_335.npy',\n",
       " 'five_rf_mdljl.pkl_336.npy',\n",
       " 'five_rf_mdljl.pkl_337.npy',\n",
       " 'five_rf_mdljl.pkl_338.npy',\n",
       " 'five_rf_mdljl.pkl_339.npy',\n",
       " 'five_rf_mdljl.pkl_340.npy',\n",
       " 'five_rf_mdljl.pkl_341.npy',\n",
       " 'five_rf_mdljl.pkl_342.npy',\n",
       " 'five_rf_mdljl.pkl_343.npy',\n",
       " 'five_rf_mdljl.pkl_344.npy',\n",
       " 'five_rf_mdljl.pkl_345.npy',\n",
       " 'five_rf_mdljl.pkl_346.npy',\n",
       " 'five_rf_mdljl.pkl_347.npy',\n",
       " 'five_rf_mdljl.pkl_348.npy',\n",
       " 'five_rf_mdljl.pkl_349.npy',\n",
       " 'five_rf_mdljl.pkl_350.npy',\n",
       " 'five_rf_mdljl.pkl_351.npy',\n",
       " 'five_rf_mdljl.pkl_352.npy',\n",
       " 'five_rf_mdljl.pkl_353.npy',\n",
       " 'five_rf_mdljl.pkl_354.npy',\n",
       " 'five_rf_mdljl.pkl_355.npy',\n",
       " 'five_rf_mdljl.pkl_356.npy',\n",
       " 'five_rf_mdljl.pkl_357.npy',\n",
       " 'five_rf_mdljl.pkl_358.npy',\n",
       " 'five_rf_mdljl.pkl_359.npy',\n",
       " 'five_rf_mdljl.pkl_360.npy',\n",
       " 'five_rf_mdljl.pkl_361.npy',\n",
       " 'five_rf_mdljl.pkl_362.npy',\n",
       " 'five_rf_mdljl.pkl_363.npy',\n",
       " 'five_rf_mdljl.pkl_364.npy',\n",
       " 'five_rf_mdljl.pkl_365.npy',\n",
       " 'five_rf_mdljl.pkl_366.npy',\n",
       " 'five_rf_mdljl.pkl_367.npy',\n",
       " 'five_rf_mdljl.pkl_368.npy',\n",
       " 'five_rf_mdljl.pkl_369.npy',\n",
       " 'five_rf_mdljl.pkl_370.npy',\n",
       " 'five_rf_mdljl.pkl_371.npy',\n",
       " 'five_rf_mdljl.pkl_372.npy',\n",
       " 'five_rf_mdljl.pkl_373.npy',\n",
       " 'five_rf_mdljl.pkl_374.npy',\n",
       " 'five_rf_mdljl.pkl_375.npy',\n",
       " 'five_rf_mdljl.pkl_376.npy',\n",
       " 'five_rf_mdljl.pkl_377.npy',\n",
       " 'five_rf_mdljl.pkl_378.npy',\n",
       " 'five_rf_mdljl.pkl_379.npy',\n",
       " 'five_rf_mdljl.pkl_380.npy',\n",
       " 'five_rf_mdljl.pkl_381.npy',\n",
       " 'five_rf_mdljl.pkl_382.npy',\n",
       " 'five_rf_mdljl.pkl_383.npy',\n",
       " 'five_rf_mdljl.pkl_384.npy',\n",
       " 'five_rf_mdljl.pkl_385.npy',\n",
       " 'five_rf_mdljl.pkl_386.npy',\n",
       " 'five_rf_mdljl.pkl_387.npy',\n",
       " 'five_rf_mdljl.pkl_388.npy',\n",
       " 'five_rf_mdljl.pkl_389.npy',\n",
       " 'five_rf_mdljl.pkl_390.npy',\n",
       " 'five_rf_mdljl.pkl_391.npy',\n",
       " 'five_rf_mdljl.pkl_392.npy',\n",
       " 'five_rf_mdljl.pkl_393.npy',\n",
       " 'five_rf_mdljl.pkl_394.npy',\n",
       " 'five_rf_mdljl.pkl_395.npy',\n",
       " 'five_rf_mdljl.pkl_396.npy',\n",
       " 'five_rf_mdljl.pkl_397.npy',\n",
       " 'five_rf_mdljl.pkl_398.npy',\n",
       " 'five_rf_mdljl.pkl_399.npy',\n",
       " 'five_rf_mdljl.pkl_400.npy',\n",
       " 'five_rf_mdljl.pkl_401.npy',\n",
       " 'five_rf_mdljl.pkl_402.npy',\n",
       " 'five_rf_mdljl.pkl_403.npy',\n",
       " 'five_rf_mdljl.pkl_404.npy',\n",
       " 'five_rf_mdljl.pkl_405.npy',\n",
       " 'five_rf_mdljl.pkl_406.npy',\n",
       " 'five_rf_mdljl.pkl_407.npy',\n",
       " 'five_rf_mdljl.pkl_408.npy',\n",
       " 'five_rf_mdljl.pkl_409.npy',\n",
       " 'five_rf_mdljl.pkl_410.npy',\n",
       " 'five_rf_mdljl.pkl_411.npy',\n",
       " 'five_rf_mdljl.pkl_412.npy',\n",
       " 'five_rf_mdljl.pkl_413.npy',\n",
       " 'five_rf_mdljl.pkl_414.npy',\n",
       " 'five_rf_mdljl.pkl_415.npy',\n",
       " 'five_rf_mdljl.pkl_416.npy',\n",
       " 'five_rf_mdljl.pkl_417.npy',\n",
       " 'five_rf_mdljl.pkl_418.npy',\n",
       " 'five_rf_mdljl.pkl_419.npy',\n",
       " 'five_rf_mdljl.pkl_420.npy',\n",
       " 'five_rf_mdljl.pkl_421.npy',\n",
       " 'five_rf_mdljl.pkl_422.npy',\n",
       " 'five_rf_mdljl.pkl_423.npy',\n",
       " 'five_rf_mdljl.pkl_424.npy',\n",
       " 'five_rf_mdljl.pkl_425.npy',\n",
       " 'five_rf_mdljl.pkl_426.npy',\n",
       " 'five_rf_mdljl.pkl_427.npy',\n",
       " 'five_rf_mdljl.pkl_428.npy',\n",
       " 'five_rf_mdljl.pkl_429.npy',\n",
       " 'five_rf_mdljl.pkl_430.npy',\n",
       " 'five_rf_mdljl.pkl_431.npy',\n",
       " 'five_rf_mdljl.pkl_432.npy',\n",
       " 'five_rf_mdljl.pkl_433.npy',\n",
       " 'five_rf_mdljl.pkl_434.npy',\n",
       " 'five_rf_mdljl.pkl_435.npy',\n",
       " 'five_rf_mdljl.pkl_436.npy',\n",
       " 'five_rf_mdljl.pkl_437.npy',\n",
       " 'five_rf_mdljl.pkl_438.npy',\n",
       " 'five_rf_mdljl.pkl_439.npy',\n",
       " 'five_rf_mdljl.pkl_440.npy',\n",
       " 'five_rf_mdljl.pkl_441.npy',\n",
       " 'five_rf_mdljl.pkl_442.npy',\n",
       " 'five_rf_mdljl.pkl_443.npy',\n",
       " 'five_rf_mdljl.pkl_444.npy',\n",
       " 'five_rf_mdljl.pkl_445.npy',\n",
       " 'five_rf_mdljl.pkl_446.npy',\n",
       " 'five_rf_mdljl.pkl_447.npy',\n",
       " 'five_rf_mdljl.pkl_448.npy',\n",
       " 'five_rf_mdljl.pkl_449.npy',\n",
       " 'five_rf_mdljl.pkl_450.npy',\n",
       " 'five_rf_mdljl.pkl_451.npy',\n",
       " 'five_rf_mdljl.pkl_452.npy',\n",
       " 'five_rf_mdljl.pkl_453.npy',\n",
       " 'five_rf_mdljl.pkl_454.npy',\n",
       " 'five_rf_mdljl.pkl_455.npy',\n",
       " 'five_rf_mdljl.pkl_456.npy',\n",
       " 'five_rf_mdljl.pkl_457.npy',\n",
       " 'five_rf_mdljl.pkl_458.npy',\n",
       " 'five_rf_mdljl.pkl_459.npy',\n",
       " 'five_rf_mdljl.pkl_460.npy',\n",
       " 'five_rf_mdljl.pkl_461.npy',\n",
       " 'five_rf_mdljl.pkl_462.npy',\n",
       " 'five_rf_mdljl.pkl_463.npy',\n",
       " 'five_rf_mdljl.pkl_464.npy',\n",
       " 'five_rf_mdljl.pkl_465.npy',\n",
       " 'five_rf_mdljl.pkl_466.npy',\n",
       " 'five_rf_mdljl.pkl_467.npy',\n",
       " 'five_rf_mdljl.pkl_468.npy',\n",
       " 'five_rf_mdljl.pkl_469.npy',\n",
       " 'five_rf_mdljl.pkl_470.npy',\n",
       " 'five_rf_mdljl.pkl_471.npy',\n",
       " 'five_rf_mdljl.pkl_472.npy',\n",
       " 'five_rf_mdljl.pkl_473.npy',\n",
       " 'five_rf_mdljl.pkl_474.npy',\n",
       " 'five_rf_mdljl.pkl_475.npy',\n",
       " 'five_rf_mdljl.pkl_476.npy',\n",
       " 'five_rf_mdljl.pkl_477.npy',\n",
       " 'five_rf_mdljl.pkl_478.npy',\n",
       " 'five_rf_mdljl.pkl_479.npy',\n",
       " 'five_rf_mdljl.pkl_480.npy',\n",
       " 'five_rf_mdljl.pkl_481.npy',\n",
       " 'five_rf_mdljl.pkl_482.npy',\n",
       " 'five_rf_mdljl.pkl_483.npy',\n",
       " 'five_rf_mdljl.pkl_484.npy',\n",
       " 'five_rf_mdljl.pkl_485.npy',\n",
       " 'five_rf_mdljl.pkl_486.npy',\n",
       " 'five_rf_mdljl.pkl_487.npy',\n",
       " 'five_rf_mdljl.pkl_488.npy',\n",
       " 'five_rf_mdljl.pkl_489.npy',\n",
       " 'five_rf_mdljl.pkl_490.npy',\n",
       " 'five_rf_mdljl.pkl_491.npy',\n",
       " 'five_rf_mdljl.pkl_492.npy',\n",
       " 'five_rf_mdljl.pkl_493.npy',\n",
       " 'five_rf_mdljl.pkl_494.npy',\n",
       " 'five_rf_mdljl.pkl_495.npy',\n",
       " 'five_rf_mdljl.pkl_496.npy',\n",
       " 'five_rf_mdljl.pkl_497.npy',\n",
       " 'five_rf_mdljl.pkl_498.npy',\n",
       " 'five_rf_mdljl.pkl_499.npy',\n",
       " 'five_rf_mdljl.pkl_500.npy',\n",
       " 'five_rf_mdljl.pkl_501.npy',\n",
       " 'five_rf_mdljl.pkl_502.npy',\n",
       " 'five_rf_mdljl.pkl_503.npy',\n",
       " 'five_rf_mdljl.pkl_504.npy',\n",
       " 'five_rf_mdljl.pkl_505.npy',\n",
       " 'five_rf_mdljl.pkl_506.npy',\n",
       " 'five_rf_mdljl.pkl_507.npy',\n",
       " 'five_rf_mdljl.pkl_508.npy',\n",
       " 'five_rf_mdljl.pkl_509.npy',\n",
       " 'five_rf_mdljl.pkl_510.npy',\n",
       " 'five_rf_mdljl.pkl_511.npy',\n",
       " 'five_rf_mdljl.pkl_512.npy',\n",
       " 'five_rf_mdljl.pkl_513.npy',\n",
       " 'five_rf_mdljl.pkl_514.npy',\n",
       " 'five_rf_mdljl.pkl_515.npy',\n",
       " 'five_rf_mdljl.pkl_516.npy',\n",
       " 'five_rf_mdljl.pkl_517.npy',\n",
       " 'five_rf_mdljl.pkl_518.npy',\n",
       " 'five_rf_mdljl.pkl_519.npy',\n",
       " 'five_rf_mdljl.pkl_520.npy',\n",
       " 'five_rf_mdljl.pkl_521.npy',\n",
       " 'five_rf_mdljl.pkl_522.npy',\n",
       " 'five_rf_mdljl.pkl_523.npy',\n",
       " 'five_rf_mdljl.pkl_524.npy',\n",
       " 'five_rf_mdljl.pkl_525.npy',\n",
       " 'five_rf_mdljl.pkl_526.npy',\n",
       " 'five_rf_mdljl.pkl_527.npy',\n",
       " 'five_rf_mdljl.pkl_528.npy',\n",
       " 'five_rf_mdljl.pkl_529.npy',\n",
       " 'five_rf_mdljl.pkl_530.npy',\n",
       " 'five_rf_mdljl.pkl_531.npy',\n",
       " 'five_rf_mdljl.pkl_532.npy',\n",
       " 'five_rf_mdljl.pkl_533.npy',\n",
       " 'five_rf_mdljl.pkl_534.npy',\n",
       " 'five_rf_mdljl.pkl_535.npy',\n",
       " 'five_rf_mdljl.pkl_536.npy',\n",
       " 'five_rf_mdljl.pkl_537.npy',\n",
       " 'five_rf_mdljl.pkl_538.npy',\n",
       " 'five_rf_mdljl.pkl_539.npy',\n",
       " 'five_rf_mdljl.pkl_540.npy',\n",
       " 'five_rf_mdljl.pkl_541.npy',\n",
       " 'five_rf_mdljl.pkl_542.npy',\n",
       " 'five_rf_mdljl.pkl_543.npy',\n",
       " 'five_rf_mdljl.pkl_544.npy',\n",
       " 'five_rf_mdljl.pkl_545.npy',\n",
       " 'five_rf_mdljl.pkl_546.npy',\n",
       " 'five_rf_mdljl.pkl_547.npy',\n",
       " 'five_rf_mdljl.pkl_548.npy',\n",
       " 'five_rf_mdljl.pkl_549.npy',\n",
       " 'five_rf_mdljl.pkl_550.npy',\n",
       " 'five_rf_mdljl.pkl_551.npy',\n",
       " 'five_rf_mdljl.pkl_552.npy',\n",
       " 'five_rf_mdljl.pkl_553.npy',\n",
       " 'five_rf_mdljl.pkl_554.npy',\n",
       " 'five_rf_mdljl.pkl_555.npy',\n",
       " 'five_rf_mdljl.pkl_556.npy',\n",
       " 'five_rf_mdljl.pkl_557.npy',\n",
       " 'five_rf_mdljl.pkl_558.npy',\n",
       " 'five_rf_mdljl.pkl_559.npy',\n",
       " 'five_rf_mdljl.pkl_560.npy',\n",
       " 'five_rf_mdljl.pkl_561.npy',\n",
       " 'five_rf_mdljl.pkl_562.npy',\n",
       " 'five_rf_mdljl.pkl_563.npy',\n",
       " 'five_rf_mdljl.pkl_564.npy',\n",
       " 'five_rf_mdljl.pkl_565.npy',\n",
       " 'five_rf_mdljl.pkl_566.npy',\n",
       " 'five_rf_mdljl.pkl_567.npy',\n",
       " 'five_rf_mdljl.pkl_568.npy',\n",
       " 'five_rf_mdljl.pkl_569.npy',\n",
       " 'five_rf_mdljl.pkl_570.npy',\n",
       " 'five_rf_mdljl.pkl_571.npy',\n",
       " 'five_rf_mdljl.pkl_572.npy',\n",
       " 'five_rf_mdljl.pkl_573.npy',\n",
       " 'five_rf_mdljl.pkl_574.npy',\n",
       " 'five_rf_mdljl.pkl_575.npy',\n",
       " 'five_rf_mdljl.pkl_576.npy',\n",
       " 'five_rf_mdljl.pkl_577.npy',\n",
       " 'five_rf_mdljl.pkl_578.npy',\n",
       " 'five_rf_mdljl.pkl_579.npy',\n",
       " 'five_rf_mdljl.pkl_580.npy',\n",
       " 'five_rf_mdljl.pkl_581.npy',\n",
       " 'five_rf_mdljl.pkl_582.npy',\n",
       " 'five_rf_mdljl.pkl_583.npy',\n",
       " 'five_rf_mdljl.pkl_584.npy',\n",
       " 'five_rf_mdljl.pkl_585.npy',\n",
       " 'five_rf_mdljl.pkl_586.npy',\n",
       " 'five_rf_mdljl.pkl_587.npy',\n",
       " 'five_rf_mdljl.pkl_588.npy',\n",
       " 'five_rf_mdljl.pkl_589.npy',\n",
       " 'five_rf_mdljl.pkl_590.npy',\n",
       " 'five_rf_mdljl.pkl_591.npy',\n",
       " 'five_rf_mdljl.pkl_592.npy',\n",
       " 'five_rf_mdljl.pkl_593.npy',\n",
       " 'five_rf_mdljl.pkl_594.npy',\n",
       " 'five_rf_mdljl.pkl_595.npy',\n",
       " 'five_rf_mdljl.pkl_596.npy',\n",
       " 'five_rf_mdljl.pkl_597.npy',\n",
       " 'five_rf_mdljl.pkl_598.npy',\n",
       " 'five_rf_mdljl.pkl_599.npy',\n",
       " 'five_rf_mdljl.pkl_600.npy',\n",
       " 'five_rf_mdljl.pkl_601.npy',\n",
       " 'five_rf_mdljl.pkl_602.npy',\n",
       " 'five_rf_mdljl.pkl_603.npy',\n",
       " 'five_rf_mdljl.pkl_604.npy',\n",
       " 'five_rf_mdljl.pkl_605.npy',\n",
       " 'five_rf_mdljl.pkl_606.npy',\n",
       " 'five_rf_mdljl.pkl_607.npy',\n",
       " 'five_rf_mdljl.pkl_608.npy',\n",
       " 'five_rf_mdljl.pkl_609.npy',\n",
       " 'five_rf_mdljl.pkl_610.npy',\n",
       " 'five_rf_mdljl.pkl_611.npy',\n",
       " 'five_rf_mdljl.pkl_612.npy',\n",
       " 'five_rf_mdljl.pkl_613.npy',\n",
       " 'five_rf_mdljl.pkl_614.npy',\n",
       " 'five_rf_mdljl.pkl_615.npy',\n",
       " 'five_rf_mdljl.pkl_616.npy',\n",
       " 'five_rf_mdljl.pkl_617.npy',\n",
       " 'five_rf_mdljl.pkl_618.npy',\n",
       " 'five_rf_mdljl.pkl_619.npy',\n",
       " 'five_rf_mdljl.pkl_620.npy',\n",
       " 'five_rf_mdljl.pkl_621.npy',\n",
       " 'five_rf_mdljl.pkl_622.npy',\n",
       " 'five_rf_mdljl.pkl_623.npy',\n",
       " 'five_rf_mdljl.pkl_624.npy',\n",
       " 'five_rf_mdljl.pkl_625.npy',\n",
       " 'five_rf_mdljl.pkl_626.npy',\n",
       " 'five_rf_mdljl.pkl_627.npy',\n",
       " 'five_rf_mdljl.pkl_628.npy',\n",
       " 'five_rf_mdljl.pkl_629.npy',\n",
       " 'five_rf_mdljl.pkl_630.npy',\n",
       " 'five_rf_mdljl.pkl_631.npy',\n",
       " 'five_rf_mdljl.pkl_632.npy',\n",
       " 'five_rf_mdljl.pkl_633.npy',\n",
       " 'five_rf_mdljl.pkl_634.npy',\n",
       " 'five_rf_mdljl.pkl_635.npy',\n",
       " 'five_rf_mdljl.pkl_636.npy',\n",
       " 'five_rf_mdljl.pkl_637.npy',\n",
       " 'five_rf_mdljl.pkl_638.npy',\n",
       " 'five_rf_mdljl.pkl_639.npy',\n",
       " 'five_rf_mdljl.pkl_640.npy',\n",
       " 'five_rf_mdljl.pkl_641.npy',\n",
       " 'five_rf_mdljl.pkl_642.npy',\n",
       " 'five_rf_mdljl.pkl_643.npy',\n",
       " 'five_rf_mdljl.pkl_644.npy',\n",
       " 'five_rf_mdljl.pkl_645.npy',\n",
       " 'five_rf_mdljl.pkl_646.npy',\n",
       " 'five_rf_mdljl.pkl_647.npy',\n",
       " 'five_rf_mdljl.pkl_648.npy',\n",
       " 'five_rf_mdljl.pkl_649.npy',\n",
       " 'five_rf_mdljl.pkl_650.npy',\n",
       " 'five_rf_mdljl.pkl_651.npy',\n",
       " 'five_rf_mdljl.pkl_652.npy',\n",
       " 'five_rf_mdljl.pkl_653.npy',\n",
       " 'five_rf_mdljl.pkl_654.npy',\n",
       " 'five_rf_mdljl.pkl_655.npy',\n",
       " 'five_rf_mdljl.pkl_656.npy',\n",
       " 'five_rf_mdljl.pkl_657.npy',\n",
       " 'five_rf_mdljl.pkl_658.npy',\n",
       " 'five_rf_mdljl.pkl_659.npy',\n",
       " 'five_rf_mdljl.pkl_660.npy',\n",
       " 'five_rf_mdljl.pkl_661.npy',\n",
       " 'five_rf_mdljl.pkl_662.npy',\n",
       " 'five_rf_mdljl.pkl_663.npy',\n",
       " 'five_rf_mdljl.pkl_664.npy',\n",
       " 'five_rf_mdljl.pkl_665.npy',\n",
       " 'five_rf_mdljl.pkl_666.npy',\n",
       " 'five_rf_mdljl.pkl_667.npy',\n",
       " 'five_rf_mdljl.pkl_668.npy',\n",
       " 'five_rf_mdljl.pkl_669.npy',\n",
       " 'five_rf_mdljl.pkl_670.npy',\n",
       " 'five_rf_mdljl.pkl_671.npy',\n",
       " 'five_rf_mdljl.pkl_672.npy',\n",
       " 'five_rf_mdljl.pkl_673.npy',\n",
       " 'five_rf_mdljl.pkl_674.npy',\n",
       " 'five_rf_mdljl.pkl_675.npy',\n",
       " 'five_rf_mdljl.pkl_676.npy',\n",
       " 'five_rf_mdljl.pkl_677.npy',\n",
       " 'five_rf_mdljl.pkl_678.npy',\n",
       " 'five_rf_mdljl.pkl_679.npy',\n",
       " 'five_rf_mdljl.pkl_680.npy',\n",
       " 'five_rf_mdljl.pkl_681.npy',\n",
       " 'five_rf_mdljl.pkl_682.npy',\n",
       " 'five_rf_mdljl.pkl_683.npy',\n",
       " 'five_rf_mdljl.pkl_684.npy',\n",
       " 'five_rf_mdljl.pkl_685.npy',\n",
       " 'five_rf_mdljl.pkl_686.npy',\n",
       " 'five_rf_mdljl.pkl_687.npy',\n",
       " 'five_rf_mdljl.pkl_688.npy',\n",
       " 'five_rf_mdljl.pkl_689.npy',\n",
       " 'five_rf_mdljl.pkl_690.npy',\n",
       " 'five_rf_mdljl.pkl_691.npy',\n",
       " 'five_rf_mdljl.pkl_692.npy',\n",
       " 'five_rf_mdljl.pkl_693.npy',\n",
       " 'five_rf_mdljl.pkl_694.npy',\n",
       " 'five_rf_mdljl.pkl_695.npy',\n",
       " 'five_rf_mdljl.pkl_696.npy',\n",
       " 'five_rf_mdljl.pkl_697.npy',\n",
       " 'five_rf_mdljl.pkl_698.npy',\n",
       " 'five_rf_mdljl.pkl_699.npy',\n",
       " 'five_rf_mdljl.pkl_700.npy',\n",
       " 'five_rf_mdljl.pkl_701.npy',\n",
       " 'five_rf_mdljl.pkl_702.npy',\n",
       " 'five_rf_mdljl.pkl_703.npy',\n",
       " 'five_rf_mdljl.pkl_704.npy',\n",
       " 'five_rf_mdljl.pkl_705.npy',\n",
       " 'five_rf_mdljl.pkl_706.npy',\n",
       " 'five_rf_mdljl.pkl_707.npy',\n",
       " 'five_rf_mdljl.pkl_708.npy',\n",
       " 'five_rf_mdljl.pkl_709.npy',\n",
       " 'five_rf_mdljl.pkl_710.npy',\n",
       " 'five_rf_mdljl.pkl_711.npy',\n",
       " 'five_rf_mdljl.pkl_712.npy',\n",
       " 'five_rf_mdljl.pkl_713.npy',\n",
       " 'five_rf_mdljl.pkl_714.npy',\n",
       " 'five_rf_mdljl.pkl_715.npy',\n",
       " 'five_rf_mdljl.pkl_716.npy',\n",
       " 'five_rf_mdljl.pkl_717.npy',\n",
       " 'five_rf_mdljl.pkl_718.npy',\n",
       " 'five_rf_mdljl.pkl_719.npy',\n",
       " 'five_rf_mdljl.pkl_720.npy',\n",
       " 'five_rf_mdljl.pkl_721.npy',\n",
       " 'five_rf_mdljl.pkl_722.npy',\n",
       " 'five_rf_mdljl.pkl_723.npy',\n",
       " 'five_rf_mdljl.pkl_724.npy',\n",
       " 'five_rf_mdljl.pkl_725.npy',\n",
       " 'five_rf_mdljl.pkl_726.npy',\n",
       " 'five_rf_mdljl.pkl_727.npy',\n",
       " 'five_rf_mdljl.pkl_728.npy',\n",
       " 'five_rf_mdljl.pkl_729.npy',\n",
       " 'five_rf_mdljl.pkl_730.npy',\n",
       " 'five_rf_mdljl.pkl_731.npy',\n",
       " 'five_rf_mdljl.pkl_732.npy',\n",
       " 'five_rf_mdljl.pkl_733.npy',\n",
       " 'five_rf_mdljl.pkl_734.npy',\n",
       " 'five_rf_mdljl.pkl_735.npy',\n",
       " 'five_rf_mdljl.pkl_736.npy',\n",
       " 'five_rf_mdljl.pkl_737.npy',\n",
       " 'five_rf_mdljl.pkl_738.npy',\n",
       " 'five_rf_mdljl.pkl_739.npy',\n",
       " 'five_rf_mdljl.pkl_740.npy',\n",
       " 'five_rf_mdljl.pkl_741.npy',\n",
       " 'five_rf_mdljl.pkl_742.npy',\n",
       " 'five_rf_mdljl.pkl_743.npy',\n",
       " 'five_rf_mdljl.pkl_744.npy',\n",
       " 'five_rf_mdljl.pkl_745.npy',\n",
       " 'five_rf_mdljl.pkl_746.npy',\n",
       " 'five_rf_mdljl.pkl_747.npy',\n",
       " 'five_rf_mdljl.pkl_748.npy',\n",
       " 'five_rf_mdljl.pkl_749.npy',\n",
       " 'five_rf_mdljl.pkl_750.npy',\n",
       " 'five_rf_mdljl.pkl_751.npy',\n",
       " 'five_rf_mdljl.pkl_752.npy',\n",
       " 'five_rf_mdljl.pkl_753.npy',\n",
       " 'five_rf_mdljl.pkl_754.npy',\n",
       " 'five_rf_mdljl.pkl_755.npy',\n",
       " 'five_rf_mdljl.pkl_756.npy',\n",
       " 'five_rf_mdljl.pkl_757.npy',\n",
       " 'five_rf_mdljl.pkl_758.npy',\n",
       " 'five_rf_mdljl.pkl_759.npy',\n",
       " 'five_rf_mdljl.pkl_760.npy',\n",
       " 'five_rf_mdljl.pkl_761.npy',\n",
       " 'five_rf_mdljl.pkl_762.npy',\n",
       " 'five_rf_mdljl.pkl_763.npy',\n",
       " 'five_rf_mdljl.pkl_764.npy',\n",
       " 'five_rf_mdljl.pkl_765.npy',\n",
       " 'five_rf_mdljl.pkl_766.npy',\n",
       " 'five_rf_mdljl.pkl_767.npy',\n",
       " 'five_rf_mdljl.pkl_768.npy',\n",
       " 'five_rf_mdljl.pkl_769.npy',\n",
       " 'five_rf_mdljl.pkl_770.npy',\n",
       " 'five_rf_mdljl.pkl_771.npy',\n",
       " 'five_rf_mdljl.pkl_772.npy',\n",
       " 'five_rf_mdljl.pkl_773.npy',\n",
       " 'five_rf_mdljl.pkl_774.npy',\n",
       " 'five_rf_mdljl.pkl_775.npy',\n",
       " 'five_rf_mdljl.pkl_776.npy',\n",
       " 'five_rf_mdljl.pkl_777.npy',\n",
       " 'five_rf_mdljl.pkl_778.npy',\n",
       " 'five_rf_mdljl.pkl_779.npy',\n",
       " 'five_rf_mdljl.pkl_780.npy',\n",
       " 'five_rf_mdljl.pkl_781.npy',\n",
       " 'five_rf_mdljl.pkl_782.npy',\n",
       " 'five_rf_mdljl.pkl_783.npy',\n",
       " 'five_rf_mdljl.pkl_784.npy',\n",
       " 'five_rf_mdljl.pkl_785.npy',\n",
       " 'five_rf_mdljl.pkl_786.npy',\n",
       " 'five_rf_mdljl.pkl_787.npy',\n",
       " 'five_rf_mdljl.pkl_788.npy',\n",
       " 'five_rf_mdljl.pkl_789.npy',\n",
       " 'five_rf_mdljl.pkl_790.npy',\n",
       " 'five_rf_mdljl.pkl_791.npy',\n",
       " 'five_rf_mdljl.pkl_792.npy',\n",
       " 'five_rf_mdljl.pkl_793.npy',\n",
       " 'five_rf_mdljl.pkl_794.npy',\n",
       " 'five_rf_mdljl.pkl_795.npy',\n",
       " 'five_rf_mdljl.pkl_796.npy',\n",
       " 'five_rf_mdljl.pkl_797.npy',\n",
       " 'five_rf_mdljl.pkl_798.npy',\n",
       " 'five_rf_mdljl.pkl_799.npy',\n",
       " 'five_rf_mdljl.pkl_800.npy',\n",
       " 'five_rf_mdljl.pkl_801.npy',\n",
       " 'five_rf_mdljl.pkl_802.npy',\n",
       " 'five_rf_mdljl.pkl_803.npy',\n",
       " 'five_rf_mdljl.pkl_804.npy',\n",
       " 'five_rf_mdljl.pkl_805.npy',\n",
       " 'five_rf_mdljl.pkl_806.npy',\n",
       " 'five_rf_mdljl.pkl_807.npy',\n",
       " 'five_rf_mdljl.pkl_808.npy',\n",
       " 'five_rf_mdljl.pkl_809.npy',\n",
       " 'five_rf_mdljl.pkl_810.npy',\n",
       " 'five_rf_mdljl.pkl_811.npy',\n",
       " 'five_rf_mdljl.pkl_812.npy',\n",
       " 'five_rf_mdljl.pkl_813.npy',\n",
       " 'five_rf_mdljl.pkl_814.npy',\n",
       " 'five_rf_mdljl.pkl_815.npy',\n",
       " 'five_rf_mdljl.pkl_816.npy',\n",
       " 'five_rf_mdljl.pkl_817.npy',\n",
       " 'five_rf_mdljl.pkl_818.npy',\n",
       " 'five_rf_mdljl.pkl_819.npy',\n",
       " 'five_rf_mdljl.pkl_820.npy',\n",
       " 'five_rf_mdljl.pkl_821.npy',\n",
       " 'five_rf_mdljl.pkl_822.npy',\n",
       " 'five_rf_mdljl.pkl_823.npy',\n",
       " 'five_rf_mdljl.pkl_824.npy',\n",
       " 'five_rf_mdljl.pkl_825.npy',\n",
       " 'five_rf_mdljl.pkl_826.npy',\n",
       " 'five_rf_mdljl.pkl_827.npy',\n",
       " 'five_rf_mdljl.pkl_828.npy',\n",
       " 'five_rf_mdljl.pkl_829.npy',\n",
       " 'five_rf_mdljl.pkl_830.npy',\n",
       " 'five_rf_mdljl.pkl_831.npy',\n",
       " 'five_rf_mdljl.pkl_832.npy',\n",
       " 'five_rf_mdljl.pkl_833.npy',\n",
       " 'five_rf_mdljl.pkl_834.npy',\n",
       " 'five_rf_mdljl.pkl_835.npy',\n",
       " 'five_rf_mdljl.pkl_836.npy',\n",
       " 'five_rf_mdljl.pkl_837.npy',\n",
       " 'five_rf_mdljl.pkl_838.npy',\n",
       " 'five_rf_mdljl.pkl_839.npy',\n",
       " 'five_rf_mdljl.pkl_840.npy',\n",
       " 'five_rf_mdljl.pkl_841.npy',\n",
       " 'five_rf_mdljl.pkl_842.npy',\n",
       " 'five_rf_mdljl.pkl_843.npy',\n",
       " 'five_rf_mdljl.pkl_844.npy',\n",
       " 'five_rf_mdljl.pkl_845.npy',\n",
       " 'five_rf_mdljl.pkl_846.npy',\n",
       " 'five_rf_mdljl.pkl_847.npy',\n",
       " 'five_rf_mdljl.pkl_848.npy',\n",
       " 'five_rf_mdljl.pkl_849.npy',\n",
       " 'five_rf_mdljl.pkl_850.npy',\n",
       " 'five_rf_mdljl.pkl_851.npy',\n",
       " 'five_rf_mdljl.pkl_852.npy',\n",
       " 'five_rf_mdljl.pkl_853.npy',\n",
       " 'five_rf_mdljl.pkl_854.npy',\n",
       " 'five_rf_mdljl.pkl_855.npy',\n",
       " 'five_rf_mdljl.pkl_856.npy',\n",
       " 'five_rf_mdljl.pkl_857.npy',\n",
       " 'five_rf_mdljl.pkl_858.npy',\n",
       " 'five_rf_mdljl.pkl_859.npy',\n",
       " 'five_rf_mdljl.pkl_860.npy',\n",
       " 'five_rf_mdljl.pkl_861.npy',\n",
       " 'five_rf_mdljl.pkl_862.npy',\n",
       " 'five_rf_mdljl.pkl_863.npy',\n",
       " 'five_rf_mdljl.pkl_864.npy',\n",
       " 'five_rf_mdljl.pkl_865.npy',\n",
       " 'five_rf_mdljl.pkl_866.npy',\n",
       " 'five_rf_mdljl.pkl_867.npy',\n",
       " 'five_rf_mdljl.pkl_868.npy',\n",
       " 'five_rf_mdljl.pkl_869.npy',\n",
       " 'five_rf_mdljl.pkl_870.npy',\n",
       " 'five_rf_mdljl.pkl_871.npy',\n",
       " 'five_rf_mdljl.pkl_872.npy',\n",
       " 'five_rf_mdljl.pkl_873.npy',\n",
       " 'five_rf_mdljl.pkl_874.npy',\n",
       " 'five_rf_mdljl.pkl_875.npy',\n",
       " 'five_rf_mdljl.pkl_876.npy',\n",
       " 'five_rf_mdljl.pkl_877.npy',\n",
       " 'five_rf_mdljl.pkl_878.npy',\n",
       " 'five_rf_mdljl.pkl_879.npy',\n",
       " 'five_rf_mdljl.pkl_880.npy',\n",
       " 'five_rf_mdljl.pkl_881.npy',\n",
       " 'five_rf_mdljl.pkl_882.npy',\n",
       " 'five_rf_mdljl.pkl_883.npy',\n",
       " 'five_rf_mdljl.pkl_884.npy',\n",
       " 'five_rf_mdljl.pkl_885.npy',\n",
       " 'five_rf_mdljl.pkl_886.npy',\n",
       " 'five_rf_mdljl.pkl_887.npy',\n",
       " 'five_rf_mdljl.pkl_888.npy',\n",
       " 'five_rf_mdljl.pkl_889.npy',\n",
       " 'five_rf_mdljl.pkl_890.npy',\n",
       " 'five_rf_mdljl.pkl_891.npy',\n",
       " 'five_rf_mdljl.pkl_892.npy',\n",
       " 'five_rf_mdljl.pkl_893.npy',\n",
       " 'five_rf_mdljl.pkl_894.npy',\n",
       " 'five_rf_mdljl.pkl_895.npy',\n",
       " 'five_rf_mdljl.pkl_896.npy',\n",
       " 'five_rf_mdljl.pkl_897.npy',\n",
       " 'five_rf_mdljl.pkl_898.npy',\n",
       " 'five_rf_mdljl.pkl_899.npy',\n",
       " 'five_rf_mdljl.pkl_900.npy',\n",
       " 'five_rf_mdljl.pkl_901.npy',\n",
       " 'five_rf_mdljl.pkl_902.npy',\n",
       " 'five_rf_mdljl.pkl_903.npy',\n",
       " 'five_rf_mdljl.pkl_904.npy',\n",
       " 'five_rf_mdljl.pkl_905.npy',\n",
       " 'five_rf_mdljl.pkl_906.npy',\n",
       " 'five_rf_mdljl.pkl_907.npy',\n",
       " 'five_rf_mdljl.pkl_908.npy',\n",
       " 'five_rf_mdljl.pkl_909.npy',\n",
       " 'five_rf_mdljl.pkl_910.npy',\n",
       " 'five_rf_mdljl.pkl_911.npy',\n",
       " 'five_rf_mdljl.pkl_912.npy',\n",
       " 'five_rf_mdljl.pkl_913.npy',\n",
       " 'five_rf_mdljl.pkl_914.npy',\n",
       " 'five_rf_mdljl.pkl_915.npy',\n",
       " 'five_rf_mdljl.pkl_916.npy',\n",
       " 'five_rf_mdljl.pkl_917.npy',\n",
       " 'five_rf_mdljl.pkl_918.npy',\n",
       " 'five_rf_mdljl.pkl_919.npy',\n",
       " 'five_rf_mdljl.pkl_920.npy',\n",
       " 'five_rf_mdljl.pkl_921.npy',\n",
       " 'five_rf_mdljl.pkl_922.npy',\n",
       " 'five_rf_mdljl.pkl_923.npy',\n",
       " 'five_rf_mdljl.pkl_924.npy',\n",
       " 'five_rf_mdljl.pkl_925.npy',\n",
       " 'five_rf_mdljl.pkl_926.npy',\n",
       " 'five_rf_mdljl.pkl_927.npy',\n",
       " 'five_rf_mdljl.pkl_928.npy',\n",
       " 'five_rf_mdljl.pkl_929.npy',\n",
       " 'five_rf_mdljl.pkl_930.npy',\n",
       " 'five_rf_mdljl.pkl_931.npy',\n",
       " 'five_rf_mdljl.pkl_932.npy',\n",
       " 'five_rf_mdljl.pkl_933.npy',\n",
       " 'five_rf_mdljl.pkl_934.npy',\n",
       " 'five_rf_mdljl.pkl_935.npy',\n",
       " 'five_rf_mdljl.pkl_936.npy',\n",
       " 'five_rf_mdljl.pkl_937.npy',\n",
       " 'five_rf_mdljl.pkl_938.npy',\n",
       " 'five_rf_mdljl.pkl_939.npy',\n",
       " 'five_rf_mdljl.pkl_940.npy',\n",
       " 'five_rf_mdljl.pkl_941.npy',\n",
       " 'five_rf_mdljl.pkl_942.npy',\n",
       " 'five_rf_mdljl.pkl_943.npy',\n",
       " 'five_rf_mdljl.pkl_944.npy',\n",
       " 'five_rf_mdljl.pkl_945.npy',\n",
       " 'five_rf_mdljl.pkl_946.npy',\n",
       " 'five_rf_mdljl.pkl_947.npy',\n",
       " 'five_rf_mdljl.pkl_948.npy',\n",
       " 'five_rf_mdljl.pkl_949.npy',\n",
       " 'five_rf_mdljl.pkl_950.npy',\n",
       " 'five_rf_mdljl.pkl_951.npy',\n",
       " 'five_rf_mdljl.pkl_952.npy',\n",
       " 'five_rf_mdljl.pkl_953.npy',\n",
       " 'five_rf_mdljl.pkl_954.npy',\n",
       " 'five_rf_mdljl.pkl_955.npy',\n",
       " 'five_rf_mdljl.pkl_956.npy',\n",
       " 'five_rf_mdljl.pkl_957.npy',\n",
       " 'five_rf_mdljl.pkl_958.npy',\n",
       " 'five_rf_mdljl.pkl_959.npy',\n",
       " 'five_rf_mdljl.pkl_960.npy',\n",
       " 'five_rf_mdljl.pkl_961.npy',\n",
       " 'five_rf_mdljl.pkl_962.npy',\n",
       " 'five_rf_mdljl.pkl_963.npy',\n",
       " 'five_rf_mdljl.pkl_964.npy',\n",
       " 'five_rf_mdljl.pkl_965.npy',\n",
       " 'five_rf_mdljl.pkl_966.npy',\n",
       " 'five_rf_mdljl.pkl_967.npy',\n",
       " 'five_rf_mdljl.pkl_968.npy',\n",
       " 'five_rf_mdljl.pkl_969.npy',\n",
       " 'five_rf_mdljl.pkl_970.npy',\n",
       " 'five_rf_mdljl.pkl_971.npy',\n",
       " 'five_rf_mdljl.pkl_972.npy',\n",
       " 'five_rf_mdljl.pkl_973.npy',\n",
       " 'five_rf_mdljl.pkl_974.npy',\n",
       " 'five_rf_mdljl.pkl_975.npy',\n",
       " 'five_rf_mdljl.pkl_976.npy',\n",
       " 'five_rf_mdljl.pkl_977.npy',\n",
       " 'five_rf_mdljl.pkl_978.npy',\n",
       " 'five_rf_mdljl.pkl_979.npy',\n",
       " 'five_rf_mdljl.pkl_980.npy',\n",
       " 'five_rf_mdljl.pkl_981.npy',\n",
       " 'five_rf_mdljl.pkl_982.npy',\n",
       " 'five_rf_mdljl.pkl_983.npy',\n",
       " 'five_rf_mdljl.pkl_984.npy',\n",
       " 'five_rf_mdljl.pkl_985.npy',\n",
       " 'five_rf_mdljl.pkl_986.npy',\n",
       " 'five_rf_mdljl.pkl_987.npy',\n",
       " 'five_rf_mdljl.pkl_988.npy',\n",
       " 'five_rf_mdljl.pkl_989.npy',\n",
       " 'five_rf_mdljl.pkl_990.npy',\n",
       " 'five_rf_mdljl.pkl_991.npy',\n",
       " 'five_rf_mdljl.pkl_992.npy',\n",
       " 'five_rf_mdljl.pkl_993.npy',\n",
       " 'five_rf_mdljl.pkl_994.npy',\n",
       " 'five_rf_mdljl.pkl_995.npy',\n",
       " 'five_rf_mdljl.pkl_996.npy',\n",
       " 'five_rf_mdljl.pkl_997.npy',\n",
       " 'five_rf_mdljl.pkl_998.npy',\n",
       " 'five_rf_mdljl.pkl_999.npy',\n",
       " ...]"
      ]
     },
     "execution_count": 130,
     "metadata": {},
     "output_type": "execute_result"
    }
   ],
   "source": [
    "from sklearn.externals import joblib\n",
    "joblib.dump(five_rf_mdl,'five_rf_mdljl.pkl')"
   ]
  },
  {
   "cell_type": "code",
   "execution_count": 132,
   "metadata": {
    "collapsed": false
   },
   "outputs": [
    {
     "name": "stdout",
     "output_type": "stream",
     "text": [
      "/home/kesj/work/hrsepara/eda/five_rf_mdljl\n"
     ]
    }
   ],
   "source": [
    "%cd five_rf_mdljl\n"
   ]
  },
  {
   "cell_type": "code",
   "execution_count": 133,
   "metadata": {
    "collapsed": true
   },
   "outputs": [],
   "source": [
    "frf= joblib.load('five_rf_mdljl.pkl')"
   ]
  },
  {
   "cell_type": "code",
   "execution_count": 135,
   "metadata": {
    "collapsed": false
   },
   "outputs": [],
   "source": [
    "Beval_pred_5class, Beval_pred_proba5 = evaluate_models(frf,X5eval)"
   ]
  },
  {
   "cell_type": "code",
   "execution_count": 136,
   "metadata": {
    "collapsed": false
   },
   "outputs": [
    {
     "data": {
      "text/plain": [
       "(0, 1.01)"
      ]
     },
     "execution_count": 136,
     "metadata": {},
     "output_type": "execute_result"
    },
    {
     "data": {
      "image/png": "[encoded data removed]",
      "text/plain": [
       "<matplotlib.figure.Figure at 0x7fd8ab24c110>"
      ]
     },
     "metadata": {},
     "output_type": "display_data"
    }
   ],
   "source": [
    "#plot_roc_curve(y3eval,eval_prediction_proba3[:,])\n",
    "plot_roc_curve(y5eval,Beval_pred_proba5[:,:,:].mean(axis=2))\n",
    "plt.ylim([0,1.01])"
   ]
  },
  {
   "cell_type": "code",
   "execution_count": 138,
   "metadata": {
    "collapsed": false
   },
   "outputs": [],
   "source": [
    "Beval_pred5class0, Beval_pred5proba0 = evaluate_models(frf[0],X5eval)"
   ]
  },
  {
   "cell_type": "code",
   "execution_count": 141,
   "metadata": {
    "collapsed": false
   },
   "outputs": [
    {
     "data": {
      "text/plain": [
       "array([[ 0.87 ,  0.13 ],\n",
       "       [ 0.764,  0.236],\n",
       "       [ 0.57 ,  0.43 ],\n",
       "       ..., \n",
       "       [ 0.83 ,  0.17 ],\n",
       "       [ 0.39 ,  0.61 ],\n",
       "       [ 0.   ,  1.   ]])"
      ]
     },
     "execution_count": 141,
     "metadata": {},
     "output_type": "execute_result"
    }
   ],
   "source": [
    "Beval_pred_proba5[:,:,0]"
   ]
  },
  {
   "cell_type": "code",
   "execution_count": 146,
   "metadata": {
    "collapsed": false
   },
   "outputs": [
    {
     "data": {
      "text/plain": [
       "(0, 1.01)"
      ]
     },
     "execution_count": 146,
     "metadata": {},
     "output_type": "execute_result"
    },
    {
     "data": {
      "image/png": "[encoded data removed]",
      "text/plain": [
       "<matplotlib.figure.Figure at 0x7fd89d553350>"
      ]
     },
     "metadata": {},
     "output_type": "display_data"
    }
   ],
   "source": [
    "#plot_roc_curve(y3eval,eval_prediction_proba3[:,])\n",
    "plot_roc_curve(y5eval,Beval_pred_proba5[:,:,4])\n",
    "plt.ylim([0,1.01])"
   ]
  },
  {
   "cell_type": "markdown",
   "metadata": {},
   "source": [
    "## Try again with joblib directly"
   ]
  },
  {
   "cell_type": "code",
   "execution_count": 147,
   "metadata": {
    "collapsed": true
   },
   "outputs": [],
   "source": [
    "import joblib as jl"
   ]
  },
  {
   "cell_type": "code",
   "execution_count": 148,
   "metadata": {
    "collapsed": false
   },
   "outputs": [
    {
     "name": "stdout",
     "output_type": "stream",
     "text": [
      "/home/kesj/work/hrsepara/eda\n"
     ]
    }
   ],
   "source": [
    "%cd ../\n",
    "!mkdir jl_5yr\n"
   ]
  },
  {
   "cell_type": "code",
   "execution_count": 152,
   "metadata": {
    "collapsed": false
   },
   "outputs": [],
   "source": [
    "jldir = '/home/kesj/work/hrsepara/eda/jl_5yr/' \n",
    "os.chdir(jldir)"
   ]
  },
  {
   "cell_type": "markdown",
   "metadata": {},
   "source": [
    "## repeat for 3 year"
   ]
  },
  {
   "cell_type": "code",
   "execution_count": 179,
   "metadata": {
    "collapsed": false
   },
   "outputs": [
    {
     "name": "stdout",
     "output_type": "stream",
     "text": [
      "13 3 10 107412\n",
      "11\n",
      "2002-01-01 2005-01-01 62575 44837\n",
      "2003-01-01 2006-01-01 60750 46662\n",
      "2004-01-01 2007-01-01 57564 49848\n",
      "2005-01-01 2008-01-01 54627 52785\n",
      "2006-01-01 2009-01-01 53328 54084\n",
      "2007-01-01 2010-01-01 53138 54274\n",
      "2008-01-01 2011-01-01 52608 54804\n",
      "2009-01-01 2012-01-01 53211 54201\n",
      "2010-01-01 2013-01-01 52587 54825\n",
      "2011-01-01 2014-01-01 51207 56205\n",
      "2012-01-01 2015-01-01 50526 56886\n",
      "11\n",
      "11\n"
     ]
    }
   ],
   "source": [
    "tfold3,tfold3_times,panel3term,X3fold,y3fold = setup_tfold_models(em2mod,3,columns_for_modeling)\n",
    "print len(tfold3)"
   ]
  },
  {
   "cell_type": "code",
   "execution_count": 180,
   "metadata": {
    "collapsed": false
   },
   "outputs": [
    {
     "name": "stdout",
     "output_type": "stream",
     "text": [
      "CPU times: user 5min 5s, sys: 825 ms, total: 5min 6s\n",
      "Wall time: 5min 6s\n"
     ]
    }
   ],
   "source": [
    "%%time\n",
    "three_rf_mdl_100 = []\n",
    "for i in xrange(0,len(tfold3)):\n",
    "    train_y = y3fold[i].flatten()\n",
    "    train_X = X3fold[:,:,i]\n",
    "    rfmdl = ensemble.RandomForestClassifier(n_estimators=100,max_features='auto',n_jobs=1)\n",
    "    rfmdl.fit(train_X,train_y)\n",
    "#baseline_singleRFC = ensemble.RandomForestClassifier(n_jobs=50,n_estimators=500,max_features=None)\n",
    "#baseline_singleRFC.fit(X,y_term)\n",
    "#baseline_singleRFC_importances= baseline_singleRFC.feature_importances_\n",
    "    three_rf_mdl_100.append(rfmdl)"
   ]
  },
  {
   "cell_type": "markdown",
   "metadata": {},
   "source": [
    "## dump the results"
   ]
  },
  {
   "cell_type": "code",
   "execution_count": 181,
   "metadata": {
    "collapsed": false
   },
   "outputs": [
    {
     "name": "stdout",
     "output_type": "stream",
     "text": [
      "/home/kesj/work/hrsepara/eda\n",
      "/home/kesj/work/hrsepara/eda/jl_3yr_100\n"
     ]
    }
   ],
   "source": [
    "%cd '../'\n",
    "!mkdir 'jl_3yr_100'\n",
    "%cd '/home/kesj/work/hrsepara/eda/jl_3yr_100'\n",
    "three_100_list = jl.dump(three_rf_mdl_100,'trf100.pkl')"
   ]
  },
  {
   "cell_type": "code",
   "execution_count": 183,
   "metadata": {
    "collapsed": false
   },
   "outputs": [
    {
     "data": {
      "text/plain": [
       "5512"
      ]
     },
     "execution_count": 183,
     "metadata": {},
     "output_type": "execute_result"
    }
   ],
   "source": [
    "len(three_100_list)"
   ]
  },
  {
   "cell_type": "code",
   "execution_count": 182,
   "metadata": {
    "collapsed": false
   },
   "outputs": [
    {
     "name": "stdout",
     "output_type": "stream",
     "text": [
      "There are 26854 elements in the evaluation set\n",
      "original target variable value counts: 0    16816\n",
      "1    10038\n",
      "dtype: int64\n",
      "3710 4809 18335\n",
      "new target variable value counts: \n",
      "0    18335\n",
      "1     4809\n",
      "dtype: int64\n",
      "_____\n",
      "23144 23144\n",
      "input matrix has 11 features\n"
     ]
    }
   ],
   "source": [
    "X3eval, y3eval = adjust_eval_by_x_years(evalmod,3,columns_for_modeling)"
   ]
  },
  {
   "cell_type": "code",
   "execution_count": 184,
   "metadata": {
    "collapsed": true
   },
   "outputs": [],
   "source": [
    "eval_pred3class,eval_pred3proba = evaluate_models(three_rf_mdl_100,X3eval)"
   ]
  },
  {
   "cell_type": "code",
   "execution_count": 185,
   "metadata": {
    "collapsed": false
   },
   "outputs": [
    {
     "data": {
      "text/plain": [
       "(0, 1.01)"
      ]
     },
     "execution_count": 185,
     "metadata": {},
     "output_type": "execute_result"
    },
    {
     "data": {
      "image/png": "[encoded data removed]",
      "text/plain": [
       "<matplotlib.figure.Figure at 0x7fd89db32650>"
      ]
     },
     "metadata": {},
     "output_type": "display_data"
    }
   ],
   "source": [
    "plot_roc_curve(y3eval,eval_pred3proba[:,:,:].mean(axis=2))\n",
    "plt.ylim([0,1.01])"
   ]
  },
  {
   "cell_type": "code",
   "execution_count": 187,
   "metadata": {
    "collapsed": false
   },
   "outputs": [
    {
     "name": "stdout",
     "output_type": "stream",
     "text": [
      "0.726554507243\n"
     ]
    },
    {
     "data": {
      "image/png": "[encoded data removed]",
      "text/plain": [
       "<matplotlib.figure.Figure at 0x7fd8ab4d2d10>"
      ]
     },
     "metadata": {},
     "output_type": "display_data"
    }
   ],
   "source": [
    "#plot_conf_matrix(y3eval,eval_)\n",
    "plot_conf_matrix(y3eval,map(int,eval_pred3class.mean(axis=1)))"
   ]
  },
  {
   "cell_type": "code",
   "execution_count": null,
   "metadata": {
    "collapsed": true
   },
   "outputs": [],
   "source": []
  },
  {
   "cell_type": "code",
   "execution_count": null,
   "metadata": {
    "collapsed": true
   },
   "outputs": [],
   "source": [
    "from sklearn.pipeline import Pipeline"
   ]
  },
  {
   "cell_type": "code",
   "execution_count": null,
   "metadata": {
    "collapsed": false
   },
   "outputs": [],
   "source": [
    "em2[['SAL1','MIN_RT_ANNUAL','MERIT1','PERF1','MAX_RT_ANNUAL']].describe()"
   ]
  },
  {
   "cell_type": "code",
   "execution_count": null,
   "metadata": {
    "collapsed": false
   },
   "outputs": [],
   "source": [
    "trainDF = em2[minimal_input_col_list].copy()\n",
    "#non_modeled_columns = trainDF.columns.tolist()\n",
    "#non_modeled_columns.remove('KEY')\n",
    "#non_modeled_columns.remove('')"
   ]
  },
  {
   "cell_type": "code",
   "execution_count": null,
   "metadata": {
    "collapsed": true
   },
   "outputs": [],
   "source": [
    "fixoutliers =Pipeline([ (\"fixout_min\",br.FixNumericOutlier(columns_to_fix=['SAL1','MIN_RT_ANNUAL','MERIT1','PERF1'],criteria_coef=('percentile',5),\n",
    "                                                   method='lower',fill_with='nearest_value')),\n",
    "                  (\"fixout_max\",br.FixNumericOutlier(columns_to_fix=['MAX_RT_ANNUAL'],criteria_coef=('percentile',5),\n",
    "                                                   method='both',fill_with='nearest_value'))\n",
    "                      ])\n"
   ]
  },
  {
   "cell_type": "code",
   "execution_count": null,
   "metadata": {
    "collapsed": false
   },
   "outputs": [],
   "source": [
    "outlier_trans1 = fixoutliers.fit_transform(trainDF)\n"
   ]
  },
  {
   "cell_type": "code",
   "execution_count": null,
   "metadata": {
    "collapsed": false
   },
   "outputs": [],
   "source": [
    "outlier_trans1[['SAL1','MIN_RT_ANNUAL','MERIT1','PERF1','MAX_RT_ANNUAL']].describe()"
   ]
  },
  {
   "cell_type": "code",
   "execution_count": null,
   "metadata": {
    "collapsed": false
   },
   "outputs": [],
   "source": [
    "### CREATE a preprocessing_pipe and pickle it\n",
    "preprocess_pipe = Pipeline([ ('drop_unwanted_cols',DropColumns(columns_to_drop = non_modeled_columns )), # drop cols with over 60% missing\n",
    "                             ('convert_indicators', ConvertToDict(columns_to_fix=['HAVE_INS','HAVE_DEP','INTERN','HUBIND'])), # convert Y->1,N->0\n",
    "                             ('convert_male', ConvertToDict(columns_to_fix=['SEX'],convert_dict={'M':1,'F':0})), # convert M->1,F->0\n",
    "                            ('convert_ratings', ConvertToDict(columns_to_fix=['BOX1'],convert_dict={'H':3,'S':2,'L':1})), # convert L->1,S->2,H->3\n",
    "                              (\"fixout_min\",br.FixNumericOutlier(columns_to_fix=['SAL1','MIN_RT_ANNUAL','MERIT1','PERF1'],criteria_coef=('percentile',5),\n",
    "                                                   method='lower',fill_with='nearest_value')),\n",
    "                  (\"fixout_max\",br.FixNumericOutlier(columns_to_fix=['MAX_RT_ANNUAL'],criteria_coef=('percentile',5),\n",
    "                                                   method='both',fill_with='nearest_value')),\n",
    "                 (\"fill_missingzero\",FillMissingValue(columns_to_fix=['BOX1','MERIT1','PERF1'],rows_to_scan=0.8)),\n",
    "                            #FUNC_CNT','EXTFUNC_CNT','TOTAL_RPT_CNT','DIRECT_RPT_CNT'],fill_value=0)),\n",
    "                 #(\"imp_mode\",br.ImputeData(columns_to_impute=['MERIT1','PERF1','ADDRCNT1'],rows_to_scan=0.8)),\n",
    "                 (\"imp_mean\", br.ImputeData(columns_to_impute='auto', rows_to_scan=0.8))\n",
    "                           ])\n"
   ]
  },
  {
   "cell_type": "markdown",
   "metadata": {},
   "source": [
    "### documentation on pickling\n",
    "http://scikit-learn.org/stable/modules/model_persistence.html"
   ]
  },
  {
   "cell_type": "code",
   "execution_count": null,
   "metadata": {
    "collapsed": false
   },
   "outputs": [],
   "source": [
    "%ls"
   ]
  },
  {
   "cell_type": "code",
   "execution_count": null,
   "metadata": {
    "collapsed": false
   },
   "outputs": [],
   "source": [
    "import time as time\n",
    "current_time = time.localtime()\n",
    "print time.strftime('%Y-%m-%d', current_time)"
   ]
  },
  {
   "cell_type": "code",
   "execution_count": null,
   "metadata": {
    "collapsed": false
   },
   "outputs": [],
   "source": [
    "empl_type_dummy = pd.get_dummies(em2002['EMPL_TYPE'],prefix='EMPL_TYPE',dummy_na=True,columns=['EMPL_TYPE'])"
   ]
  },
  {
   "cell_type": "code",
   "execution_count": null,
   "metadata": {
    "collapsed": false
   },
   "outputs": [],
   "source": [
    "# now drop one of these\n",
    "em2002.EMPL_TYPE.value_counts() \n",
    "# a forget it"
   ]
  },
  {
   "cell_type": "code",
   "execution_count": null,
   "metadata": {
    "collapsed": false
   },
   "outputs": [],
   "source": [
    "empl_type_dummy.columns.tolist()"
   ]
  },
  {
   "cell_type": "markdown",
   "metadata": {},
   "source": [
    "### I want to create a model based upon em2 that only uses the columns listed in my python script\n",
    "* cols_to_keep = ['KEY','HIRE_DT','BIRTHDATE','SAL1','MERIT1','PERF1','BOX1','SEX','HAVE_INS','HAVE_DEP']"
   ]
  },
  {
   "cell_type": "code",
   "execution_count": null,
   "metadata": {
    "collapsed": true
   },
   "outputs": [],
   "source": [
    "cols_to_keep =  ['KEY','HIRE_DT','BIRTHDATE','SAL1','MERIT1','PERF1','BOX1','SEX','HAVE_INS','HAVE_DEP','TERMINATION_DT']\n",
    "emplsm = em2002[cols_to_keep].copy()"
   ]
  },
  {
   "cell_type": "code",
   "execution_count": null,
   "metadata": {
    "collapsed": false
   },
   "outputs": [],
   "source": [
    "sum(emplsm.HIRE_DT.isnull())"
   ]
  },
  {
   "cell_type": "code",
   "execution_count": null,
   "metadata": {
    "collapsed": false
   },
   "outputs": [],
   "source": [
    "emplsm[['hire_tstmp','birth_tstmp','term_tstmp']] = emplsm[['HIRE_DT','BIRTHDATE','TERMINATION_DT']].applymap(lambda x: pd.to_datetime(datetime.strptime(x,'%d%b%Y')))\n",
    "#emplsm[['Age_years','Tenure_years']] = emplsm[['birth_tstmp','hire_tstmp']].applymap(lambda x: calculate_years(x,today_timestamp))\n"
   ]
  },
  {
   "cell_type": "markdown",
   "metadata": {
    "collapsed": true
   },
   "source": [
    "## Next step is to build the model\n",
    "* wait I think I already transformed everthing properly"
   ]
  },
  {
   "cell_type": "code",
   "execution_count": null,
   "metadata": {
    "collapsed": false
   },
   "outputs": [],
   "source": []
  },
  {
   "cell_type": "code",
   "execution_count": null,
   "metadata": {
    "collapsed": true
   },
   "outputs": [],
   "source": [
    "def create_temporal_kfolds(dates_df,date_range,time_delta):\n",
    "    min_date = pd.to_datetime(date_range[0])\n",
    "    max_date = pd.to_datetime(date_range[-1])\n",
    "    my_index = dates_df[(dates_df.term_tstmp>=min_date)].index\n",
    "    # calculate number of kfolds\n",
    "    date_span_years = np.int(np.round((max_date-min_date).days/365.24,0))\n",
    "    nfolds = date_span_years - time_delta\n",
    "    print date_span_years, time_delta, nfolds, len(my_index)\n",
    "    all_pairs = list(itertools.combinations(date_range,2))\n",
    "    # now filter if difference in time  == time_delta\n",
    "    filtered_pairs = []\n",
    "    for i0,i1 in all_pairs:\n",
    "        if int(i1[:4])-int(i0[:4]) == time_delta:\n",
    "            filtered_pairs.append([i0,i1])\n",
    "            #print i0,i1\n",
    "    print len(filtered_pairs)\n",
    "    # now process each of these filtered pairs\n",
    "    kf = []\n",
    "    for j0,j1 in filtered_pairs: # omit the last one because it has no\n",
    "        start_date = pd.to_datetime(j0)\n",
    "        end_date = pd.to_datetime(j1)\n",
    "        #print j0,j1#,len(k)\n",
    "        \n",
    "        \n",
    "        kfold_idx = dates_df[(dates_df.term_tstmp >= start_date) & (dates_df.hire_tstmp<start_date)].index\n",
    "        after_idx = dates_df[(dates_df.hire_tstmp>=end_date)].index\n",
    "        before_idx = list(set(my_index)-set(kfold_idx)-set(after_idx))\n",
    "        #temporal_kfold(dates_df[dates_df.term_tstmp>=min_date],start_date,end_date)\n",
    "        #print \"\\t\",len(kfold_idx), len(after_idx),len(before_idx)\n",
    "        \n",
    "        # combined out of fold\n",
    "        not_kfold_idx = list(set(after_idx).union(set(before_idx)))\n",
    "        \n",
    "        print j0,j1,len(kfold_idx),len(not_kfold_idx)\n",
    "        kf.append([kfold_idx,not_kfold_idx])\n",
    "    \n",
    "    return kf,filtered_pairs\n",
    "    "
   ]
  },
  {
   "cell_type": "markdown",
   "metadata": {},
   "source": [
    "## Begin by loading the source dataframe file\n",
    "#### filename is employee_dataframe9.tsv\n",
    "#### This has been modified from employee_dataframe.ssv in the following ways.\n",
    "* negative TOT_MO_SERVICE_SFI have been removed\n",
    "* GRADE = 'UNS', '' have been removed\n",
    "* STATE_LOC of 'ON' have been removed\n",
    "* 'retired' have been identified from the ACTRES1 messages.\n",
    "* Benefits (i.e. have_ins and have_dep) info has been joined into this dataset.\n",
    "    1. missing values zeroed out \n",
    "* unempl_rate (at time of departure or current date) applied\n",
    "* Some features (columns) cleaned and encoded by scikitlearn label encode (N--> 0, Y-->1):\n",
    "    1. POSTAL_SFI --> zip5\n",
    "    2. VOLINVOL --> sep_status (0,1,2,3)\n",
    "    3. MAR_STA_SNAME_SFI --> mar_status (0,1,2)\n",
    "    4. SEX --> Male (1,0): M=1,F=0\n",
    "    5. COMP_FREQUENCY --> hourly_comp (1,0): H=1, A = 0\n",
    "    6. RATE* using the dictionary provided by Ron Davis to 3 levels: low, medium, High\n",
    "    7. BOX* columns using this mapping: BOX columns:  L -> 1, S -> 2, H -> 3\n",
    "        -- still need to apply the mapping of missing to 0.\n",
    "    8. FLSA_STATUS: map N: 0, Z: 1, X: -1\n",
    "    9. SHIFT: map 'N' to 0; rest same (arity=4)"
   ]
  },
  {
   "cell_type": "code",
   "execution_count": null,
   "metadata": {
    "collapsed": false
   },
   "outputs": [],
   "source": [
    "datafile = 'employee_dataframe9.tsv'\n",
    "empl_bene = pd.read_csv(datafile,sep='\\t',dtype={'KEY':np.str,'zip5':np.str,'SKEY':np.str})\n",
    "empl_bene.drop('Unnamed: 0',axis=1,inplace=True)\n",
    "# drop per_org --> universally EMP\n",
    "empl_bene.drop('PER_ORG',axis=1,inplace=True)\n",
    "print empl_bene.shape"
   ]
  },
  {
   "cell_type": "code",
   "execution_count": null,
   "metadata": {
    "collapsed": false
   },
   "outputs": [],
   "source": [
    "empl_bene.unempl_rate.hist(bins=40)"
   ]
  },
  {
   "cell_type": "markdown",
   "metadata": {},
   "source": [
    "### Fix the BOX columns missing values as 0\n",
    "* note I may want to remove this step from this place in the workflow and let bear fix it"
   ]
  },
  {
   "cell_type": "code",
   "execution_count": null,
   "metadata": {
    "collapsed": false
   },
   "outputs": [],
   "source": [
    "## Fix the BOX columns missing as 0\n",
    "box_col_list = [x for x in empl_bene.columns if x.startswith('BOX')]\n",
    "#empl_bene[box_col_list].fillna(0,inplace=True)#.head()\n",
    "# replace the boxes with 0 \n",
    "#chg_to_zero_cols = ['BOX1','BOX2','BOX3','BOX4','BOX5','BOX6','BOX7','BOX8','BOX9','BOX10']\n",
    "#for box_col in box_col_list: #chg_to_zero_cols:\n",
    "#    empl_bene.fillna({box_col: 0},inplace=True)"
   ]
  },
  {
   "cell_type": "markdown",
   "metadata": {},
   "source": [
    "## remove Rows (i.e. employees ) corresponding to certain characteristics\n",
    "1. keep only those that are known (vol,invol, not) per discussion on April 22, 2015\n",
    "2. remove grades starting with 'L' and 'AT'\n",
    "    * As we discussed, I'm already excluding seasonal employees, interns, and agency interns. \n",
    "    * Let’s also exclude the L-Level executive employees are in the LDSH job group with job grades L1 to L10 (i.e., all job grades starting with “L”). \n",
    "    * Let’s also exclude Air Transportation as we don’t foresee applying the model to them either. Their job group is AIRT with job grades AT1 to AT8 (i.e., all job grades starting with “AT”).\n",
    "3. take a time slice --> only after 01-01-2002\n",
    " \n",
    "\n"
   ]
  },
  {
   "cell_type": "code",
   "execution_count": null,
   "metadata": {
    "collapsed": false
   },
   "outputs": [],
   "source": [
    "# remove sep_status over 1\n",
    "empl_bene = empl_bene[empl_bene.sep_status<=2]\n",
    "print np.shape(empl_bene)"
   ]
  },
  {
   "cell_type": "code",
   "execution_count": null,
   "metadata": {
    "collapsed": false
   },
   "outputs": [],
   "source": [
    "# remove AT* and L* grades\n",
    "list_of_grades = empl_bene.GRADE.unique()\n",
    "print len(list_of_grades)\n",
    "grades_to_drop = [x for x in map(str,list_of_grades) if (x.startswith('L') or x.startswith('AT'))]\n",
    "print len(grades_to_drop)\n",
    "grades_to_drop.remove('LS2')\n",
    "grades_to_drop.remove('LS1')\n",
    "grades_to_drop.remove('LS3')\n",
    "grades_to_drop.remove('LM1')\n",
    "grades_to_drop.remove('LM2')\n",
    "grades_to_drop.remove('LP1')\n",
    "print len(grades_to_drop),grades_to_drop"
   ]
  },
  {
   "cell_type": "code",
   "execution_count": null,
   "metadata": {
    "collapsed": false
   },
   "outputs": [],
   "source": [
    "print \"removing these {0} grades removes {1} employees\".format(len(grades_to_drop),len(empl_bene[empl_bene.GRADE.isin(grades_to_drop)]))\n",
    "empl=empl_bene[~empl_bene.GRADE.isin(grades_to_drop)].copy()\n",
    "print np.shape(empl)"
   ]
  },
  {
   "cell_type": "markdown",
   "metadata": {},
   "source": [
    "### Create a column for terminated (i.e separated but not Retired)\n",
    "* requires that status == 1 but retired == 0"
   ]
  },
  {
   "cell_type": "code",
   "execution_count": null,
   "metadata": {
    "collapsed": false
   },
   "outputs": [],
   "source": [
    "## create a column for terminated (i.e. separated but NOT retired)\n",
    "empl['terminated']= 0\n",
    "my_rows = empl[(empl.status==1) & (empl.retired==0)].index\n",
    "print \"Out of {0} rows, {1} are separated and not retired.\".format(len(empl),len(my_rows))\n",
    "#sum(empl_df['terminated']))#, len(my_rows)\n",
    "empl.loc[my_rows,'terminated']=1\n",
    "print sum(empl.terminated)"
   ]
  },
  {
   "cell_type": "code",
   "execution_count": null,
   "metadata": {
    "collapsed": false
   },
   "outputs": [],
   "source": [
    "pd.crosstab(empl.status, empl.retired)"
   ]
  },
  {
   "cell_type": "markdown",
   "metadata": {},
   "source": [
    "## the one case where the person is 'retired' but has status of 0 is wrong -- I'm removing this row."
   ]
  },
  {
   "cell_type": "code",
   "execution_count": null,
   "metadata": {
    "collapsed": false
   },
   "outputs": [],
   "source": [
    "wrong_status_idx = empl[(empl.status == 0)& (empl.retired == 1)].index[0]\n",
    "print wrong_status_idx"
   ]
  },
  {
   "cell_type": "code",
   "execution_count": null,
   "metadata": {
    "collapsed": false
   },
   "outputs": [],
   "source": [
    "empl.drop(empl.index[wrong_status_idx],inplace=True)\n",
    "print np.shape(empl)"
   ]
  },
  {
   "cell_type": "markdown",
   "metadata": {},
   "source": [
    "## Create subset that is based upon those after a given date\n",
    "specifically January 1, 2002"
   ]
  },
  {
   "cell_type": "code",
   "execution_count": null,
   "metadata": {
    "collapsed": false
   },
   "outputs": [],
   "source": [
    "date0 = '2002-01-01'\n",
    "em2002 = empl.ix[empl.TERMINATION_DT>=date0].copy()\n",
    "print date0, len(em2002)\n",
    "print \"--------- STATUS \"\n",
    "print em2002.status.value_counts()\n",
    "print \"--------- TERMINATED\"\n",
    "print em2002.terminated.value_counts()\n",
    "print \"--------- RETIRED\"\n",
    "print em2002.retired.value_counts()\n",
    "print np.shape(em2002)"
   ]
  },
  {
   "cell_type": "markdown",
   "metadata": {},
   "source": [
    "# Tweak some of the columns\n",
    "1. convert tenure_months into tenure Years  and drop the tenure_months columns. Tenure in years is just easier to think about.\n",
    "2. create timestamps for columns that are timestamps \n",
    "3. create a value for the age at hire (hire_age)"
   ]
  },
  {
   "cell_type": "code",
   "execution_count": null,
   "metadata": {
    "collapsed": false
   },
   "outputs": [],
   "source": [
    "print np.shape(em2002)\n",
    "em2002['Tenure_years'] = em2002['Tenure_months']/12.\n",
    "em2002.drop('Tenure_months',axis=1,inplace=True)\n"
   ]
  },
  {
   "cell_type": "code",
   "execution_count": null,
   "metadata": {
    "collapsed": false
   },
   "outputs": [],
   "source": [
    "## create timestamps for columns that are timestamps\n",
    "em2002[['hire_tstmp','term_tstmp','birth_tstmp']] = em2002[['HIRE_DT','TERMINATION_DT','BIRTHDATE']].apply(lambda x:pd.to_datetime(x))\n",
    "## add a column for age at hire date\n",
    "hire_age_tdelta = em2002['hire_tstmp']-em2002['birth_tstmp']\n",
    "# convert to days, months, or years\n",
    "em2002['hire_age'] = hire_age_tdelta/np.timedelta64(1,'Y')\n",
    "\n"
   ]
  },
  {
   "cell_type": "markdown",
   "metadata": {},
   "source": [
    "###Assign random indices to this data frame"
   ]
  },
  {
   "cell_type": "code",
   "execution_count": null,
   "metadata": {
    "collapsed": false
   },
   "outputs": [],
   "source": [
    "list_of_indices = list(range(em2002.KEY.nunique()))\n",
    "print len(list_of_indices )\n",
    "random.seed(833311)\n",
    "#new_indices = [x for x in random.shuffle(list_of_indices)\n",
    "random.shuffle(list_of_indices)#, len(list_of_indices))\n",
    "em2002.index = list_of_indices # note that random.shuffle does this shuffling inplace\n",
    "em2002.sort_index(inplace=True)\n",
    "em2002.head()"
   ]
  },
  {
   "cell_type": "markdown",
   "metadata": {},
   "source": [
    "# Begin to Step through with BEAR for analysis\n",
    "1. list all the columns\n",
    "2. identify columns that I don't want to include in the analysis\n",
    "3. Identify columns that require further refinement\n",
    "    * missing values\n",
    "    * categorical\n",
    "    * survival function\n",
    "4. create test-train split (hold out eval set)"
   ]
  },
  {
   "cell_type": "code",
   "execution_count": null,
   "metadata": {
    "collapsed": false
   },
   "outputs": [],
   "source": [
    "all_cols= em2002.columns.tolist()\n",
    "len(all_cols)"
   ]
  },
  {
   "cell_type": "code",
   "execution_count": null,
   "metadata": {
    "collapsed": false
   },
   "outputs": [],
   "source": [
    "columns_with_missing1 = br.get_columns_with_nulls(em2002,rows_to_scan='all')\n",
    "print len(columns_with_missing1)"
   ]
  },
  {
   "cell_type": "code",
   "execution_count": null,
   "metadata": {
    "collapsed": false
   },
   "outputs": [],
   "source": [
    "numeric_cols = br.get_numeric(em2002)\n",
    "categorical_cols = br.get_categorical(em2002)\n",
    "print len(numeric_cols)+len(categorical_cols), len(numeric_cols),len(categorical_cols)"
   ]
  },
  {
   "cell_type": "code",
   "execution_count": null,
   "metadata": {
    "collapsed": false
   },
   "outputs": [],
   "source": [
    "time_stamp_cols = list(set(all_cols) - set(categorical_cols)-set(numeric_cols))\n",
    "time_stamp_cols"
   ]
  },
  {
   "cell_type": "markdown",
   "metadata": {},
   "source": [
    "#### partitioning of the columns\n",
    "* 193 columns (all_cols)\n",
    "    - 3 are timestamps\n",
    "    - 154 are numeric\n",
    "    - 36 are categorical\n",
    "* 69 have missing values (columns_with_missing1)"
   ]
  },
  {
   "cell_type": "markdown",
   "metadata": {},
   "source": [
    "### Define some columns that I don't want (typically have high number of missing values or are superfluous)\n",
    "* ADDRESS*, ACTRES*, LOC_CITY, MAR_STATUS_DT, KEY"
   ]
  },
  {
   "cell_type": "code",
   "execution_count": null,
   "metadata": {
    "collapsed": false
   },
   "outputs": [],
   "source": [
    "columns_to_omit = [a for a in em2002.columns if a.startswith('ACTRES')]\n",
    "columns_to_omit.append('ADDRESS1')\n",
    "columns_to_omit.append('ADDRESS2')\n",
    "#columns_to_omit.append('MAR_STATUS_DT')\n",
    "columns_to_omit.append('KEY')\n",
    "columns_to_omit.append('SKEY')\n",
    "columns_to_omit.append('STATE') # these values are noisier than LOC_STATE\n",
    "columns_to_omit.append('LOC_CITY')\n",
    "columns_to_omit.append('zip5')\n",
    "print len(columns_to_omit)"
   ]
  },
  {
   "cell_type": "markdown",
   "metadata": {},
   "source": [
    "## collect time-related columns into several groups:\n",
    "* months of service\n",
    "* dates\n",
    "* tdelta\n",
    "* useful timestamps\n",
    "* tenure, age\n"
   ]
  },
  {
   "cell_type": "code",
   "execution_count": null,
   "metadata": {
    "collapsed": false
   },
   "outputs": [],
   "source": [
    "mos_cols = [x for x in em2002.columns if x.endswith('MOS')]\n",
    "print len(mos_cols), mos_cols\n",
    "#tstmp_cols = [x for x in em2002.columns if x.endswith('tstmp')]\n",
    "#print len(tstmp_cols), tstmp_cols\n",
    "date_cols = [x for x in em2002.columns if x.endswith('DT')]\n",
    "date_cols.append('BIRTHDATE')\n",
    "date_cols.append('Tenure_tdelta')\n",
    "date_cols.append('Age_tdelta')\n",
    "print len(date_cols), date_cols\n",
    "useful_time_cols = []\n",
    "useful_time_cols.append('Tenure_years')\n",
    "useful_time_cols.append('Age_years')\n",
    "useful_time_cols.append('hire_age')\n",
    "print len(useful_time_cols), useful_time_cols\n",
    "# remove \"MAR_STATUS_DT\" from date_cols"
   ]
  },
  {
   "cell_type": "code",
   "execution_count": null,
   "metadata": {
    "collapsed": false
   },
   "outputs": [],
   "source": [
    "# reduce numeric and categorical by those that are superfluous\n",
    "all_cols2 = list(set(all_cols)-set(columns_to_omit)- set(date_cols))\n",
    "print \"Now there are {0} total columns to consider.\".format(len(all_cols2))"
   ]
  },
  {
   "cell_type": "code",
   "execution_count": null,
   "metadata": {
    "collapsed": false
   },
   "outputs": [],
   "source": [
    "cols_categorical = br.get_categorical(em2002[all_cols2])\n",
    "\n",
    "cols_numeric = br.get_numeric(em2002[all_cols2])\n",
    "\n",
    "cols_missing = br.get_columns_with_nulls(em2002[all_cols2],rows_to_scan='all')\n",
    "print \"This leaves {0} categorical columns, {1} numeric columns and {2} columns with missing data\".format(len(cols_categorical),len(cols_numeric),len(cols_missing))"
   ]
  },
  {
   "cell_type": "code",
   "execution_count": null,
   "metadata": {
    "collapsed": false
   },
   "outputs": [],
   "source": [
    "numeric_to_impute = br.get_columns_with_nulls(em2002[cols_numeric])\n",
    "missing_categorical = br.get_columns_with_nulls(em2002[cols_categorical],rows_to_scan='all')\n",
    "print len(numeric_to_impute),len(missing_categorical)"
   ]
  },
  {
   "cell_type": "code",
   "execution_count": null,
   "metadata": {
    "collapsed": false
   },
   "outputs": [],
   "source": [
    "missing_categorical"
   ]
  },
  {
   "cell_type": "markdown",
   "metadata": {},
   "source": [
    "# Deal with the categorical columns\n",
    "###1. describe their features and sparcity\n",
    "###2. assign missing values for the missing ones\n",
    "    * GRADE, JOB_FUNCTION to XXX\n",
    "    * LOC_STATE to XX\n",
    "    * JOB_FAMILY to XXXX\n",
    "    * LOC_TYPE_DESCR_SFI to UNKNOWN LOCATION TYPE\n",
    "###3. convert select columns that are already numeric into categorical \n",
    "    * FLSA_STATUS, FUNC_ID_SFI, EXT_FUNC_ID_SFI, FLOR_SFI, COMPANY, DIVISION_CODE_SFI, ETHNIC_GROUP, JOBCODE"
   ]
  },
  {
   "cell_type": "code",
   "execution_count": null,
   "metadata": {
    "collapsed": false
   },
   "outputs": [],
   "source": [
    "br.get_percentage_of_nulls_pd(em2002[cols_categorical])"
   ]
  },
  {
   "cell_type": "code",
   "execution_count": null,
   "metadata": {
    "collapsed": false
   },
   "outputs": [],
   "source": [
    "br.describe_categorical(em2002[cols_categorical])"
   ]
  },
  {
   "cell_type": "markdown",
   "metadata": {},
   "source": [
    "### 2. Go ahead and assign missing values for the categorical ones that are missing "
   ]
  },
  {
   "cell_type": "code",
   "execution_count": null,
   "metadata": {
    "collapsed": true
   },
   "outputs": [],
   "source": [
    "em2002['LOC_STATE'].fillna('XX',inplace=True)\n",
    "em2002['GRADE'].fillna('XXX',inplace=True)\n",
    "em2002['JOB_FAMILY'].fillna('XXXXX',inplace=True)\n",
    "em2002['LOC_TYPE_DESCR_SFI'].fillna('UNKNOWN LOCATION TYPE',inplace=True)\n",
    "em2002['JOB_FUNCTION'].fillna('XXX',inplace=True)"
   ]
  },
  {
   "cell_type": "markdown",
   "metadata": {},
   "source": [
    "###3. Look at numeric ones that should be considered categorical\n",
    "\n"
   ]
  },
  {
   "cell_type": "code",
   "execution_count": null,
   "metadata": {
    "collapsed": false
   },
   "outputs": [],
   "source": [
    "other_categorical = ['FUNC_ID_SFI','EXT_FUNC_ID_SFI','FLOR_SFI','COMPANY','DIVISION_CODE_SFI', 'JOBCODE','ETHNIC_GROUP']\n",
    "# remove these from numeric_cols"
   ]
  },
  {
   "cell_type": "markdown",
   "metadata": {},
   "source": [
    "#### redefine my categorical cols to include these\n"
   ]
  },
  {
   "cell_type": "code",
   "execution_count": null,
   "metadata": {
    "collapsed": false
   },
   "outputs": [],
   "source": [
    "#augment with the 'other categorical' ones from numerical\n",
    "cols_categorical2 = []\n",
    "cols_categorical2 += cols_categorical\n",
    "cols_categorical2 +=other_categorical\n",
    "for c in other_categorical:\n",
    "    cols_numeric.remove(c)\n",
    "print len(cols_categorical2),len(cols_numeric)\n",
    "#drop LEGACY_DEPT_CD, company \n",
    "#cols_categorical.remove('LEGACY_DEPT_CD')"
   ]
  },
  {
   "cell_type": "code",
   "execution_count": null,
   "metadata": {
    "collapsed": false
   },
   "outputs": [],
   "source": [
    "em2002[['SAL1','ANNUAL_RT']].corr()"
   ]
  },
  {
   "cell_type": "code",
   "execution_count": null,
   "metadata": {
    "collapsed": true
   },
   "outputs": [],
   "source": [
    "cols_to_omit_2 = []\n",
    "cols_to_omit_2.append('TOT_MO_SERVICE_SFI')\n",
    "cols_to_omit_2.append('LEGACY_DEPT_SFI')\n",
    "cols_to_omit_2.append('COMPANY')\n",
    "cols_to_omit_2.append('ANNUAL_RT')\n"
   ]
  },
  {
   "cell_type": "code",
   "execution_count": null,
   "metadata": {
    "collapsed": false
   },
   "outputs": [],
   "source": [
    "rate_col_list = [c for c in em2002.columns if c.startswith('RATE')]\n",
    "box_rate_list = []\n",
    "box_rate_list +=box_col_list\n",
    "box_rate_list += rate_col_list\n",
    "sns.heatmap(em2002[box_rate_list].corr())"
   ]
  },
  {
   "cell_type": "markdown",
   "metadata": {},
   "source": [
    "Observation: the RATES are more closely correlated that the BOXES -- not that it matters if I only keep the recent values ('1')\n"
   ]
  },
  {
   "cell_type": "markdown",
   "metadata": {},
   "source": [
    "### Keep just the most recent values so as to not bias it away from those who have been there longer.\n"
   ]
  },
  {
   "cell_type": "code",
   "execution_count": null,
   "metadata": {
    "collapsed": false
   },
   "outputs": [],
   "source": [
    "# get just the most recent values\n",
    "recentcols = [a for a in all_cols2 if a.endswith('1')]\n",
    "len(recentcols)"
   ]
  },
  {
   "cell_type": "code",
   "execution_count": null,
   "metadata": {
    "collapsed": true
   },
   "outputs": [],
   "source": [
    "## define the potential target columns\n",
    "potential_target_cols = ['status','sep_status','retired','terminated']"
   ]
  },
  {
   "cell_type": "markdown",
   "metadata": {},
   "source": [
    "# CREATE an evaluation Set\n",
    "* use test_train_split\n",
    "# Utilize Pipelines\n",
    "* restrict the columns that I want to consider\n",
    "* apply logic to \n",
    "    1. fill in missing values\n",
    "    2. if numeric deal with outliers\n",
    "    3. if categorical create dummy, factorize (label_encode), or survial_median"
   ]
  },
  {
   "cell_type": "code",
   "execution_count": null,
   "metadata": {
    "collapsed": false
   },
   "outputs": [],
   "source": [
    "from sklearn import cross_validation\n",
    "from sklearn.pipeline import Pipeline, FeatureUnion"
   ]
  },
  {
   "cell_type": "code",
   "execution_count": null,
   "metadata": {
    "collapsed": false
   },
   "outputs": [],
   "source": [
    "# break into evaluation and build sets\n",
    "print \"Starting with subest of {0} employees.\".format(len(em2002))\n",
    "eval_fraction = 0.20\n",
    "em2, em2eval = cross_validation.train_test_split(em2002,test_size=eval_fraction)\n",
    "print \"Evaluation set has {0} employees; training set has {1} employees.\".format(len(em2eval),len(em2))"
   ]
  },
  {
   "cell_type": "code",
   "execution_count": null,
   "metadata": {
    "collapsed": false
   },
   "outputs": [],
   "source": [
    "print \"For retirement\"\n",
    "print em2.retired.value_counts()/len(em2)\n",
    "print em2eval.retired.value_counts()/len(em2eval)\n",
    "print \"For Separation\"\n",
    "print em2.terminated.value_counts()/len(em2)\n",
    "print em2eval.terminated.value_counts()/len(em2eval)\n"
   ]
  },
  {
   "cell_type": "code",
   "execution_count": null,
   "metadata": {
    "collapsed": false
   },
   "outputs": [],
   "source": [
    "br.get_columns_with_nulls(em2[recentcols],rows_to_scan='all')"
   ]
  },
  {
   "cell_type": "code",
   "execution_count": null,
   "metadata": {
    "collapsed": false
   },
   "outputs": [],
   "source": [
    "X.ADDRCNT1.describe()"
   ]
  },
  {
   "cell_type": "code",
   "execution_count": null,
   "metadata": {
    "collapsed": false
   },
   "outputs": [],
   "source": [
    "X.ADDRCNT1.hist(bins=30)"
   ]
  },
  {
   "cell_type": "code",
   "execution_count": null,
   "metadata": {
    "collapsed": true
   },
   "outputs": [],
   "source": []
  },
  {
   "cell_type": "markdown",
   "metadata": {},
   "source": [
    "# some good indicator colums to keep:\n",
    "* endswith \"CNT\"\n",
    "* starts with 'HAVE'\n",
    "* Male, HUBIND, FTE, DEP_COUNT,  INTERN, MAX_RT_ANNUAL, MIN_RT_ANNUAL,\n",
    "* RELO_STATE_CNT_SFI"
   ]
  },
  {
   "cell_type": "code",
   "execution_count": null,
   "metadata": {
    "collapsed": false
   },
   "outputs": [],
   "source": [
    "num_to_keep = [c for c in cols_numeric if c.endswith('CNT')]\n",
    "num_to_keep.append('HAVE_INS')\n",
    "num_to_keep.append('HAVE_DEP')\n",
    "num_to_keep.append('INTERN')\n",
    "num_to_keep.append('HUBIND')\n",
    "num_to_keep.append('RELO_STATE_CNT_SFI')\n",
    "num_to_keep.append('RELOCATE_ALL_SFI')\n",
    "num_to_keep.append('STD_HOURS')\n",
    "num_to_keep.append('unempl_rate')\n",
    "num_to_keep.append('REMOTE')\n",
    "num_to_keep.append('SUPV_DIFF_LOC')\n",
    "num_to_keep.append('FTE')\n",
    "num_to_keep.append('Male')\n",
    "num_to_keep.append('SHIFT')\n",
    "num_to_keep.append('FLSA_STATUS')\n",
    "#num_to_keep.append('mar_status')\n",
    "num_to_keep.append('REMOTE_SUPV')\n",
    "\n",
    "num_to_keep.append('hourly_comp')\n",
    "print len(num_to_keep)\n",
    "salary_cols = ['MAX_RT_ANNUAL','MIN_RT_ANNUAL']\n"
   ]
  },
  {
   "cell_type": "code",
   "execution_count": null,
   "metadata": {
    "collapsed": false
   },
   "outputs": [],
   "source": [
    "not_modeling_cols = list(set(cols_numeric) - set(recentcols) - set(cols_categorical2)-set(useful_time_cols)-set(potential_target_cols)-set(salary_cols) -set(num_to_keep))\n",
    "print len(not_modeling_cols)\n",
    "[c for c in not_modeling_cols]\n",
    "#[c for c in set(cols_numeric) - set(recentcols) - set(other_categorical)-set(useful_time_cols)-set(potential_target_cols)]"
   ]
  },
  {
   "cell_type": "code",
   "execution_count": null,
   "metadata": {
    "collapsed": false
   },
   "outputs": [],
   "source": [
    "len(num_to_keep), len(salary_cols), len(cols_categorical2), len(potential_target_cols),len(recentcols),len(useful_time_cols),len(cols_categorical)"
   ]
  },
  {
   "cell_type": "code",
   "execution_count": null,
   "metadata": {
    "collapsed": false
   },
   "outputs": [],
   "source": [
    "num_to_keep"
   ]
  },
  {
   "cell_type": "markdown",
   "metadata": {},
   "source": [
    "## After all that I'm ready to process the subset of columns contained in these lists:\n",
    "1. recentcols (19, numeric)\n",
    "2. salary_cols (2, numeric)\n",
    "3. useful_time_cols (3,numeric)\n",
    "4. num_to_keep (21, numeric)\n",
    "5. cols_categorical2 (18, categorical)\n",
    "    * note I need to further refine/parse and eliminate some of these\n",
    "\n",
    "####  Also I want to select from the potential_target_cols my 'y' variable\n",
    "4 elements, numeric (0 or 1)"
   ]
  },
  {
   "cell_type": "code",
   "execution_count": null,
   "metadata": {
    "collapsed": false
   },
   "outputs": [],
   "source": [
    "cols_to_model = []\n",
    "cols_to_model += recentcols\n",
    "cols_to_model += salary_cols\n",
    "cols_to_model += useful_time_cols\n",
    "cols_to_model += num_to_keep\n",
    "print len(cols_to_model)"
   ]
  },
  {
   "cell_type": "markdown",
   "metadata": {},
   "source": [
    "## Further refine the categorical ones:\n",
    "* impute missing values for these"
   ]
  },
  {
   "cell_type": "code",
   "execution_count": null,
   "metadata": {
    "collapsed": false
   },
   "outputs": [],
   "source": [
    "## Further refine the categorical ones:\n",
    "print \"column, arity, example, type\"\n",
    "[(c,len(em2[c].unique()),em2[c][0],em2[c].dtype) for c in cols_categorical2]"
   ]
  },
  {
   "cell_type": "code",
   "execution_count": null,
   "metadata": {
    "collapsed": false
   },
   "outputs": [],
   "source": [
    "len(cols_categorical2)"
   ]
  },
  {
   "cell_type": "code",
   "execution_count": null,
   "metadata": {
    "collapsed": true
   },
   "outputs": [],
   "source": [
    "cat_cols_to_survival = ['JOB_FAMILY','GRADE','JOB_FUNCTION','FLOR_SFI','FUNC_ID_SFI','EXT_FUNC_ID_SFI','JOBCODE']\n",
    "                        \n",
    "cat_cols_to_dummy_encode = ['EMPL_CLASS','EEO1CODE','EMPL_TYPE','FULL_PART_TIME','ETHNIC_GROUP','DIVISION_CODE_SFI','COMPANY']\n",
    "cat_cols_to_label_encode = ['LOC_TYPE_DESCR_SFI','LOC_STATE']\n",
    "cat_cols_to_drop = ['LEGACY_DEPT_SFI','LOCATION']"
   ]
  },
  {
   "cell_type": "code",
   "execution_count": null,
   "metadata": {
    "collapsed": false
   },
   "outputs": [],
   "source": [
    "for c in cat_cols_to_drop:\n",
    "    cols_categorical2.remove(c)\n",
    "    #print c, len(em2[c].unique())"
   ]
  },
  {
   "cell_type": "code",
   "execution_count": null,
   "metadata": {
    "collapsed": false
   },
   "outputs": [],
   "source": [
    "np.shape(em2)"
   ]
  },
  {
   "cell_type": "code",
   "execution_count": null,
   "metadata": {
    "collapsed": false
   },
   "outputs": [],
   "source": [
    "from sklearn.pipeline import TransformerMixin\n",
    "class ColumnExtractor(TransformerMixin):\n",
    "\n",
    "    def __init__(self, columns=[]):\n",
    "        self.columns = columns\n",
    "\n",
    "    def fit_transform(self, X, y=None, **fit_params):\n",
    "        self.fit(X, y, **fit_params)\n",
    "        return self.transform(X)\n",
    "\n",
    "    def transform(self, X, **transform_params):\n",
    "        return X[self.columns]\n",
    "\n",
    "    def fit(self, X, y=None, **fit_params):\n",
    "        return self"
   ]
  },
  {
   "cell_type": "code",
   "execution_count": null,
   "metadata": {
    "collapsed": false
   },
   "outputs": [],
   "source": [
    "from sklearn import preprocessing"
   ]
  },
  {
   "cell_type": "code",
   "execution_count": null,
   "metadata": {
    "collapsed": false
   },
   "outputs": [],
   "source": [
    "my_cols = []\n",
    "my_cols+=cols_to_model\n",
    "my_cols+=cols_categorical2\n",
    "print len(my_cols)\n",
    "\n",
    "y = em2['terminated']\n",
    "X = em2[my_cols]\n",
    "print np.shape(X)\n",
    "Xeval = em2eval[my_cols]\n",
    "print np.shape(Xeval)"
   ]
  },
  {
   "cell_type": "code",
   "execution_count": null,
   "metadata": {
    "collapsed": true
   },
   "outputs": [],
   "source": [
    "from sklearn.base import BaseEstimator"
   ]
  },
  {
   "cell_type": "code",
   "execution_count": null,
   "metadata": {
    "collapsed": true
   },
   "outputs": [],
   "source": [
    "class LabelEncodeColumn(BaseEstimator, TransformerMixin):\n",
    "    def __init__(self,columns_to_fix=[],rows_to_scan='all'):\n",
    "        \"\"\"\n",
    "        A class that can be inserted into a pipeline\n",
    "    \n",
    "        This will replace a given list of columns with label_encoded values;\n",
    "        \n",
    "        Parameters\n",
    "        ----------\n",
    "        X: Pandas dataframe\n",
    "        \n",
    "        \n",
    "        Note that new categories/values in test data will be set as -1.\n",
    "        \n",
    "        returns a pandas dataframe\n",
    "        \"\"\"\n",
    "        self.columns_to_fix = columns_to_fix\n",
    "        self.rows_to_scan = rows_to_scan\n",
    "        \n",
    "    def fit(self, X, y=None):\n",
    "        self.map_values = {}\n",
    "        self.dummy_values = {}\n",
    "        self.na_values={}\n",
    "        \n",
    "        rows_to_scan_in = br.get_rows_to_scan(self.rows_to_scan, X.shape[0])\n",
    "        #self.columns_to_fix_in = br.get_list_of_columns_to_check(self.columns_to_fix, X.columns)\n",
    "        X_temp = X[:rows_to_scan_in].copy()\n",
    "        # apply labelEncoder to each column in this list\n",
    "        for col in self.columns_to_fix:\n",
    "            map_values = X_temp[col].unique()\n",
    "            map_values.sort()\n",
    "            self.map_values[col] = {key: index for index, key in enumerate(map_values)} \n",
    "        return self\n",
    "    \n",
    "    def transform(self, X, y=None):\n",
    "        X_temp = X.copy()\n",
    "        original_cols = list(X_temp.columns)\n",
    "        for col in self.columns_to_fix:\n",
    "            X_temp[str(col)+\"_le\"] = X_temp[col].map(self.map_values[col], \"ignore\")\n",
    "            X_temp[str(col)+\"_le\"] =  X_temp[str(col)+\"_le\"].fillna(-1)\n",
    "            # fill all remaining null values with -1\n",
    "            # remove the original column name and add the new column name\n",
    "            original_cols.remove(str(col))\n",
    "            original_cols.append(str(col+\"_le\"))\n",
    "        X_temp =X_temp[original_cols]\n",
    "        \n",
    "        return X_temp"
   ]
  },
  {
   "cell_type": "code",
   "execution_count": null,
   "metadata": {
    "collapsed": false
   },
   "outputs": [],
   "source": [
    "class DummyEncodeColumn(BaseEstimator, TransformerMixin):\n",
    "    def __init__(self,columns_to_fix=[],rows_to_scan='all',keep_dummies=False):\n",
    "        \"\"\"\n",
    "        A class that can be inserted into a pipeline\n",
    "    \n",
    "        This will replace a given list of columns with label_encoded values;\n",
    "        \n",
    "        Parameters\n",
    "        ----------\n",
    "        X: Pandas dataframe\n",
    "        \n",
    "        keep_dummies: boolean (default = False)\n",
    "            If False then the original dummied column and one of the one-hot-encoded (dummified) columns will be dropped.\n",
    "            \n",
    "        Note that new categories/values in test data will be set as -1.\n",
    "        \n",
    "        returns a pandas dataframe\n",
    "        \"\"\"\n",
    "        self.columns_to_fix = columns_to_fix\n",
    "        self.rows_to_scan = rows_to_scan\n",
    "        self.keep_dummies = keep_dummies\n",
    "        \n",
    "    def fit(self, X, y=None):\n",
    "        #self.map_values = {}\n",
    "        self.dummy_values = {}\n",
    "        #self.na_values={}\n",
    "        \n",
    "        rows_to_scan_in = br.get_rows_to_scan(self.rows_to_scan, X.shape[0])\n",
    "        #self.columns_to_fix_in = br.get_list_of_columns_to_check(self.columns_to_fix, X.columns)\n",
    "        X_temp = X[:rows_to_scan_in].copy()\n",
    "        # apply labelEncoder to each column in this list\n",
    "        for col in self.columns_to_fix:\n",
    "            self.dummy_values[col] = X_temp[col].unique()    \n",
    "        return self\n",
    "    \n",
    "    def transform(self, X, y=None):\n",
    "        X_temp = X.copy()\n",
    "        original_cols = list(X_temp.columns)\n",
    "        \"\"\"\n",
    "        for col in self.columns_to_fix:\n",
    "            tmp = pd.get_dummies(X[col],prefix=str(col))\n",
    "            X_temp = pd.concat([X_temp,tmp],axis=1)\n",
    "            # now drop the columns that I don't want if so flagged\n",
    "            if not self.keep_dummies:\n",
    "                X_temp.drop([col,tmp.columns[-1]],axis=1,inplace=True)\n",
    "         \"\"\"  \n",
    "        for col in self.columns_to_fix:            \n",
    "            for cat in self.dummy_values[col]:\n",
    "                cat_col = str(col)+'_'+str(cat)\n",
    "                if str(cat) == 'nan':\n",
    "                    X_temp[cat_col] = X_temp[col].isnull().astype(int)\n",
    "                else:    \n",
    "                    X_temp[cat_col] = (X_temp[col] == cat).astype(int)\n",
    "                # append the new column name\n",
    "                original_cols.append(cat_col)\n",
    "            # if keep_dummies is false remove the original column name and the last category\n",
    "            if not self.keep_dummies:\n",
    "                original_cols.remove(str(col))\n",
    "                original_cols.pop() #note pop removes the last element from a list\n",
    "        X_temp =X_temp[original_cols]\n",
    "        \n",
    "        return X_temp"
   ]
  },
  {
   "cell_type": "code",
   "execution_count": null,
   "metadata": {
    "collapsed": true
   },
   "outputs": [],
   "source": [
    "# function to replace missing by a given value\n",
    "class FillMissingValue(BaseEstimator, TransformerMixin):\n",
    "    def __init__(self,fill_value = 0,columns_to_fix='all',rows_to_scan='all',keep_dummies = False,fill_inf = True):\n",
    "        \"\"\"\n",
    "        A class that can be inserted into a pipeline\n",
    "    \n",
    "        This will replace a given list of columns with label_encoded values;\n",
    "        \n",
    "        Parameters\n",
    "        ----------\n",
    "        X: Pandas dataframe\n",
    "        \n",
    "        \n",
    "     \n",
    "        \n",
    "        returns a pandas dataframe\n",
    "        \"\"\"\n",
    "        self.fill_value = fill_value\n",
    "        self.columns_to_fix = columns_to_fix\n",
    "        self.rows_to_scan = rows_to_scan\n",
    "        self.keep_dummies = keep_dummies\n",
    "        self.fill_inf = fill_inf\n",
    "        self.values = {}\n",
    "        \n",
    "    def fit(self, X, y=None):\n",
    "        \n",
    "        X_temp = X.copy()        \n",
    "        if self.columns_to_fix == 'all':\n",
    "            X_temp = X_temp.replace(np.inf, np.nan)\n",
    "            self.columns_to_fix_in = br.get_numeric(X_temp)\n",
    "        elif self.columns_to_fix == 'auto':\n",
    "            X_temp = X_temp.replace(np.inf, np.nan)\n",
    "            self.columns_to_fix_in = br.get_columns_with_nulls(X_temp, 'all', 'all')            \n",
    "        else:\n",
    "            self.columns_to_fix_in = br.get_list_of_columns_to_check(self.columns_to_fix, X.columns)\n",
    "            self.columns_to_fix_in = [col for col in self.columns_to_fix_in if col in br.get_numeric(X_temp)]\n",
    "            X_temp[self.columns_to_fix_in] = X_temp[self.columns_to_fix_in].replace(np.inf, np.nan)\n",
    "        \n",
    "        self.rows_to_scan_in = br.get_rows_to_scan(self.rows_to_scan, X.shape[0])\n",
    "        \n",
    "        # check if the fill_values are a list\n",
    "        if type(self.fill_value)==list:\n",
    "            self.values = dict(zip(self.columns_to_fix_in,self.fill_value))\n",
    "        elif type(self.fill_value)==dict:\n",
    "            self.values = self.fill_value\n",
    "        else:\n",
    "            for c in self.columns_to_fix_in:\n",
    "                self.values[c]=self.fill_value\n",
    "                \n",
    "        return self\n",
    "    \n",
    "    def transform(self, X, y=None):\n",
    "        X_temp = X.copy()\n",
    "        \n",
    "        if self.fill_inf:\n",
    "            X_temp[self.columns_to_fix_in] = X_temp[self.columns_to_fix_in].replace(np.inf, np.nan)\n",
    "        if self.keep_dummies:\n",
    "            temp = pd.DataFrame(index=X_temp.index)\n",
    "            for col in self.columns_to_fix_in:\n",
    "                temp[(col+'_d')] = X_temp[col].isnull().astype(\"int\")\n",
    "            X_temp = pd.concat([X_temp, temp], axis=1) \n",
    "        original_cols = list(X_temp.columns)\n",
    "        X_temp = X_temp.fillna(self.values)\n",
    "        X_temp =X_temp[original_cols]\n",
    "        \n",
    "        return X_temp"
   ]
  },
  {
   "cell_type": "code",
   "execution_count": null,
   "metadata": {
    "collapsed": false
   },
   "outputs": [],
   "source": [
    "pd.get_dummies(X[['FULL_PART_TIME','COMPANY']]).columns"
   ]
  },
  {
   "cell_type": "code",
   "execution_count": null,
   "metadata": {
    "collapsed": false
   },
   "outputs": [],
   "source": [
    "letest = LabelEncodeColumn(columns_to_fix=['GRADE','LOC_STATE','JOB_FAMILY','FUNC_ID_SFI'])\n",
    "le_tmp = letest.fit(X,y).transform(testX)"
   ]
  },
  {
   "cell_type": "code",
   "execution_count": null,
   "metadata": {
    "collapsed": false
   },
   "outputs": [],
   "source": [
    "le_tmp['FUNC_ID_SFI_le'].max(), testX['FUNC_ID_SFI'].max()"
   ]
  },
  {
   "cell_type": "code",
   "execution_count": null,
   "metadata": {
    "collapsed": false
   },
   "outputs": [],
   "source": [
    "detest = DummyEncodeColumn(columns_to_fix=['EMPL_TYPE','FULL_PART_TIME','COMPANY'])\n",
    "tmp = detest.fit(X,y).transform(testX)"
   ]
  },
  {
   "cell_type": "code",
   "execution_count": null,
   "metadata": {
    "collapsed": false
   },
   "outputs": [],
   "source": [
    "[c for c in tmp.columns if c.startswith('EMPL_TYPE')]"
   ]
  },
  {
   "cell_type": "code",
   "execution_count": null,
   "metadata": {
    "collapsed": false
   },
   "outputs": [],
   "source": [
    "X.EMPL_TYPE.value_counts()"
   ]
  },
  {
   "cell_type": "code",
   "execution_count": null,
   "metadata": {
    "collapsed": true
   },
   "outputs": [],
   "source": [
    "mthl_tenure_range = np.linspace(0,65,781)"
   ]
  },
  {
   "cell_type": "code",
   "execution_count": null,
   "metadata": {
    "collapsed": false
   },
   "outputs": [],
   "source": [
    "def calculate_survival_functions_b(df,y, time_col, col_name,num_cutoff = 40,timerange =mthl_tenure_range):\n",
    "    \n",
    "    \"\"\" Function to generically return a dataframe of survival function, grouped by some categorical column\n",
    "    inputs:\n",
    "        df --> database to derive survival functions from\n",
    "        time_col --> the temporal column to use for SF modeling (Kaplan Meier fitter applied)\n",
    "        event_col --> the truncated column to use for SF modeling\n",
    "        col_name --> the column to group up and determine KMF sf for\n",
    "        num_cutoff --> number of groups to consider\n",
    "        timerange --> min and max range\n",
    "    outputs:\n",
    "        survivalfunc_df --> a data frame that contains survival function.\n",
    "\n",
    "    other options:\n",
    "        *frac_cutoff --> the fraction of unique elements that will be kept as separate groups\n",
    "        *min_size_cutoff --> min size to use for the cutoff.\n",
    "        * these last two are not implemented\n",
    "    \"\"\"\n",
    "    from lifelines import KaplanMeierFitter\n",
    "    kmf=KaplanMeierFitter()\n",
    "    # create example for all cases -- serves as background\n",
    "    # create a time range\n",
    "    \n",
    "    kmf.fit(df[time_col],timeline=timerange,event_observed=y,label='all')\n",
    "    survivalfunc_df = pd.DataFrame(kmf.survival_function_)\n",
    "    # groupify the dataframe\n",
    "    grp_value_counts = df[col_name].value_counts()\n",
    "    #if frac_cutoff == None:\n",
    "    #    #by default take 15 %\n",
    "    #    frac_cutoff = .15 \n",
    "    #top_n_groups = int(frac_cutoff *len(grp_value_counts))\n",
    "    #if min_size_cutoff == None:\n",
    "        # by default \n",
    "    # Take the top num_cutoff groups\n",
    "    #my_grps = grp_value_counts.ix[:num_cutoff].index.tolist() \n",
    "    my_grps = grp_value_counts.iloc[:num_cutoff].index.tolist() \n",
    "    \n",
    "    # make a list of elements in each of these groups\n",
    "    grp_dict = {}\n",
    "    for grp in my_grps: \n",
    "        grp_dict[grp] = df[df[col_name] == grp].index.tolist()\n",
    "    # loop through grps and create kmf survival function\n",
    "    for i,jgrp in enumerate(my_grps):\n",
    "        j_idx = grp_dict[jgrp]\n",
    "        #print i, jgrp, len(j_idx)\n",
    "        kmf.fit(df[time_col].ix[j_idx],timeline=mthl_tenure_range,event_observed=y.ix[j_idx],label=str(jgrp))\n",
    "        survivalfunc_df = pd.concat([survivalfunc_df,kmf.survival_function_],axis=1)\n",
    "    \n",
    "    \n",
    "    return survivalfunc_df"
   ]
  },
  {
   "cell_type": "code",
   "execution_count": null,
   "metadata": {
    "collapsed": false
   },
   "outputs": [],
   "source": [
    "def return_first_time_survival(sfdf,thresh=0.5):\n",
    "    from collections import defaultdict\n",
    "    \n",
    "    # assign all value to the default\n",
    "    default_value = sfdf[sfdf['all']<=thresh].index[0]\n",
    "    median_survival_dict = defaultdict(lambda: default_value)\n",
    "    for c in sfdf.columns[1:]:\n",
    "        #print c\n",
    "        try:\n",
    "            my_sf_date = sfdf[sfdf[c]<=thresh].index[0]\n",
    "        except IndexError: # because never reached that threshold value\n",
    "            my_sf_date = sfdf.index[-1]\n",
    "        except KeyError: # because of type of the key\n",
    "            my_sf_date = sfdf[sfdf[int(c)]<=thresh].index[0]\n",
    "\n",
    "        median_survival_dict[c]=my_sf_date\n",
    "        \n",
    "    return median_survival_dict"
   ]
  },
  {
   "cell_type": "code",
   "execution_count": null,
   "metadata": {
    "collapsed": false
   },
   "outputs": [],
   "source": [
    "class SurvivalEncodeColumn(BaseEstimator, TransformerMixin):\n",
    "    def __init__(self, columns_to_fix=[],rows_to_scan='all',method='median',max_number_groups=40, my_thresh=0.5):\n",
    "        self.method = method\n",
    "        self.columns_to_fix = columns_to_fix\n",
    "        self.rows_to_scan = rows_to_scan\n",
    "        self.max_num_groups = max_number_groups\n",
    "        self.thresh = my_thresh\n",
    "        \n",
    "    def fit(self,X,y):\n",
    "        self.survive_columns = {} # dictionary to map old columns to new\n",
    "        self.survive_values = {}\n",
    "        self.column_cutoff = {}\n",
    "        \n",
    "        \n",
    "        for col in self.columns_to_fix:\n",
    "            #(assumes these have previously been label encoded so the values should be ints)\"\n",
    "            ncol=str(col)+\"_le\"\n",
    "            num_cutoff = self.max_num_groups\n",
    "            survive_col = 'surv_'+ncol.lower()\n",
    "            nuniq = len(X[ncol].unique())\n",
    "            if nuniq < num_cutoff:\n",
    "                num_cutoff = nuniq\n",
    "                \n",
    "            self.column_cutoff[col]=num_cutoff\n",
    "            \n",
    "            #frac_accounted_for = X[col].value_counts().iloc[:num_cutoff].sum()/float(len(X))\n",
    "            #print i,col,newcol, nuniq, num_cutoff,num_cutoff/float(nuniq),frac_accounted_for\n",
    "            # I want to make this fraction close to 80%?\n",
    "            sf_df = calculate_survival_functions_b(X,y,'Tenure_years', ncol,num_cutoff)\n",
    "            self.survive_columns[col]=survive_col\n",
    "            ## create the dictionary\n",
    "            self.survive_values[col]=return_first_time_survival(sf_df,thresh=self.thresh)\n",
    "    \n",
    "        return self\n",
    "    def transform(self,X,y=None):\n",
    "        X_temp = X.copy()\n",
    "        original_cols = list(X_temp.columns)\n",
    "        for col in self.columns_to_fix:\n",
    "            ncol=str(col)+\"_le\" # assumes labelencoded\n",
    "            new_col = self.survive_columns[col]\n",
    "            col_dict = self.survive_values[col]\n",
    "            X_temp[new_col] = X_temp[ncol].apply(lambda x: col_dict[str(x)])\n",
    "            original_cols.remove(ncol)\n",
    "            original_cols.append(new_col)\n",
    "        \n",
    "        X_temp = X_temp[original_cols]\n",
    "        return X_temp\n",
    "    "
   ]
  },
  {
   "cell_type": "code",
   "execution_count": null,
   "metadata": {
    "collapsed": false
   },
   "outputs": [],
   "source": [
    "gsfdf = calculate_survival_functions_b(leX,y,'Tenure_years','GRADE_le',40)\n",
    "gsfdf.shape"
   ]
  },
  {
   "cell_type": "code",
   "execution_count": null,
   "metadata": {
    "collapsed": false
   },
   "outputs": [],
   "source": [
    "leX.GRADE_le.apply(lambda x: a[str(x)]).hist()"
   ]
  },
  {
   "cell_type": "code",
   "execution_count": null,
   "metadata": {
    "collapsed": false
   },
   "outputs": [],
   "source": [
    "# combine cat_cols_label_encode and cat_cols_surv_encode\n",
    "my_label_encode_cols = []\n",
    "my_label_encode_cols+=cat_cols_to_survival\n",
    "my_label_encode_cols+=cat_cols_to_label_encode\n",
    "print len(my_label_encode_cols)\n",
    "my_label_encode_cols"
   ]
  },
  {
   "cell_type": "code",
   "execution_count": null,
   "metadata": {
    "collapsed": false
   },
   "outputs": [],
   "source": [
    "\n",
    "#cate_list = br.get_categorical(X)\n",
    "# need to break the categorical into types\n",
    "pipe = Pipeline([(\"null\", br.RemoveAllNull()),  \n",
    "                 (\"label_encode\",LabelEncodeColumn(my_label_encode_cols)),\n",
    "                 (\"dummy_encode\", DummyEncodeColumn(cat_cols_to_dummy_encode)),\n",
    "                 (\"survival_encode\",SurvivalEncodeColumn(my_label_encode_cols[:5],method='median')),\n",
    "                 #(\"cat\", br.ConvertCategorical(cate_list, rows_to_scan=0.3)),\n",
    "                 (\"fixout_min\",br.FixNumericOutlier(columns_to_fix=['SAL1','MIN_RT_ANNUAL','MERIT1','PERF1'],criteria_coef=('percentile',5),\n",
    "                                                   method='lower',fill_with='nearest_value')),\n",
    "                  (\"fixout_max\",br.FixNumericOutlier(columns_to_fix=['MAX_RT_ANNUAL'],criteria_coef=('percentile',5),\n",
    "                                                   method='both',fill_with='nearest_value')),\n",
    "                 (\"fill_missingzero\",FillMissingValue(columns_to_fix=['BOX1','FUNC_CNT','EXTFUNC_CNT','TOTAL_RPT_CNT','DIRECT_RPT_CNT'],fill_value=0)),\n",
    "                 (\"imp_mode\",br.ImputeData(columns_to_impute=['MERIT1','PERF1','ADDRCNT1'],rows_to_scan=0.8)),\n",
    "                 (\"imp_mean\", br.ImputeData(columns_to_impute='auto', rows_to_scan=0.8))])\n",
    "                 #(\"redu\", br.DimensionReduction(rows_to_scan=0.3, n_components=10))])\n",
    "#pipe.fit(X, y).transform(testX)[0:30]\n",
    "#\n",
    "#Xft = pipe.fit_transform(X)"
   ]
  },
  {
   "cell_type": "markdown",
   "metadata": {},
   "source": [
    "### Aside --> check on missing value columns"
   ]
  },
  {
   "cell_type": "code",
   "execution_count": null,
   "metadata": {
    "collapsed": false
   },
   "outputs": [],
   "source": [
    "missing_column_list = br.get_columns_with_nulls(X)\n",
    "for c in missing_column_list:\n",
    "    print c,sum(X[c].isnull()),X[c].mode()"
   ]
  },
  {
   "cell_type": "code",
   "execution_count": null,
   "metadata": {
    "collapsed": false
   },
   "outputs": [],
   "source": [
    "X[['FUNC_CNT','EXTFUNC_CNT','TOTAL_RPT_CNT','DIRECT_RPT_CNT']].describe()"
   ]
  },
  {
   "cell_type": "code",
   "execution_count": null,
   "metadata": {
    "collapsed": false
   },
   "outputs": [],
   "source": [
    "X.MERIT1.hist(bins=40)"
   ]
  },
  {
   "cell_type": "code",
   "execution_count": null,
   "metadata": {
    "collapsed": false
   },
   "outputs": [],
   "source": [
    "X.MERIT1.describe()"
   ]
  },
  {
   "cell_type": "code",
   "execution_count": null,
   "metadata": {
    "collapsed": false
   },
   "outputs": [],
   "source": [
    "X[X.MERIT1<0].MERIT1.describe()"
   ]
  },
  {
   "cell_type": "code",
   "execution_count": null,
   "metadata": {
    "collapsed": false
   },
   "outputs": [],
   "source": [
    "#br.FixNumericOutlier(columns_to_fix=['MERIT1'],criteria_coef=('percentile',5),\n",
    "#                                                   method='lower',fill_with='nearest_value')\n",
    "fixout=br.FixNumericOutlier(columns_to_fix=['MERIT1','PERF1'], criteria_coef=('percentile', 5), \n",
    "                            method = 'lower', fill_with='nearest_value')\n",
    "                            \n",
    "X1 = fixout.fit(X).transform(X)\n",
    "print X1[['MERIT1','PERF1']].describe()"
   ]
  },
  {
   "cell_type": "code",
   "execution_count": null,
   "metadata": {
    "collapsed": false
   },
   "outputs": [],
   "source": [
    "X1.MERIT1.mode()"
   ]
  },
  {
   "cell_type": "code",
   "execution_count": null,
   "metadata": {
    "collapsed": false
   },
   "outputs": [],
   "source": [
    "time_stamp_cols"
   ]
  },
  {
   "cell_type": "code",
   "execution_count": null,
   "metadata": {
    "collapsed": false
   },
   "outputs": [],
   "source": [
    "em2.ix[X['ADDRCNT1'].isnull().index][['Age_years','hire_tstmp','term_tstmp']]"
   ]
  },
  {
   "cell_type": "code",
   "execution_count": null,
   "metadata": {
    "collapsed": true
   },
   "outputs": [],
   "source": []
  },
  {
   "cell_type": "code",
   "execution_count": null,
   "metadata": {
    "collapsed": true
   },
   "outputs": [],
   "source": []
  },
  {
   "cell_type": "code",
   "execution_count": null,
   "metadata": {
    "collapsed": false
   },
   "outputs": [],
   "source": [
    "Xft['surv_job_family_le'].hist(bins=30)"
   ]
  },
  {
   "cell_type": "markdown",
   "metadata": {},
   "source": [
    "#OKAY So NEXT Step is to apply the transformation using my pipe and check for collinearity"
   ]
  },
  {
   "cell_type": "code",
   "execution_count": null,
   "metadata": {
    "collapsed": false
   },
   "outputs": [],
   "source": [
    "tXeval = pipe.fit(X,y).transform(Xeval)"
   ]
  },
  {
   "cell_type": "code",
   "execution_count": null,
   "metadata": {
    "collapsed": false
   },
   "outputs": [],
   "source": [
    "Xft = pipe.fit_transform(X,y)"
   ]
  },
  {
   "cell_type": "code",
   "execution_count": null,
   "metadata": {
    "collapsed": false
   },
   "outputs": [],
   "source": [
    "[c for c in Xft.columns if 'BOX' in c]"
   ]
  },
  {
   "cell_type": "code",
   "execution_count": null,
   "metadata": {
    "collapsed": false
   },
   "outputs": [],
   "source": [
    "br.perfect_collinearity_test(Xft)"
   ]
  },
  {
   "cell_type": "code",
   "execution_count": null,
   "metadata": {
    "collapsed": false
   },
   "outputs": [],
   "source": [
    "br.get_initial_analysis(Xft, y, tXeval, rows_to_scan=10000, sample_size=5000, random_state=42, cate_cap=10)"
   ]
  },
  {
   "cell_type": "markdown",
   "metadata": {},
   "source": [
    "# August 17, 2015\n",
    "#### At this point I have a pipeline to process the input (and eval) data.\n",
    "\n",
    "#### here is what it does:\n",
    "1. labelEncodes the string variables (categorical) that I don't want to get dumped\n",
    "2. applies a dummy encoding to OneHotEncode categorical varables with less than 18 categories\n",
    "3. applies a survival function to subset of categorical that I want to do this too\n",
    "4. 'fixes outliers' in salary related data: SAL1, MIN_RT_ANNUAL MAX_RT_ANNUAL, PERF1,MERIT1\n",
    "5. imputes missing:\n",
    "    * BOX1, FUNC_CNT, EXTFUNC_CNT, TOTAL_RPT_CNT, DIRECT_RPT_CNT set to zero\n",
    "    * PERF1, MERIT1, ADDRCNT1 set to mode (which is zero)\n",
    "    * others set to mean"
   ]
  },
  {
   "cell_type": "code",
   "execution_count": null,
   "metadata": {
    "collapsed": false
   },
   "outputs": [],
   "source": [
    "Xft.BOX1.value_counts(), Xft.MERIT1.describe()"
   ]
  },
  {
   "cell_type": "markdown",
   "metadata": {},
   "source": [
    "## Aug 21, 2015\n",
    "* I want to drop hire_age (collinear)\n",
    "* "
   ]
  },
  {
   "cell_type": "code",
   "execution_count": null,
   "metadata": {
    "collapsed": false
   },
   "outputs": [],
   "source": [
    "Xft[['PERF1','MERIT1','hire_age','Age_years','Tenure_years']].corr()"
   ]
  },
  {
   "cell_type": "code",
   "execution_count": null,
   "metadata": {
    "collapsed": false
   },
   "outputs": [],
   "source": [
    "sns.lmplot(x='PERF1',y='MERIT1',data=Xft,line_kws={'color':'k'})"
   ]
  },
  {
   "cell_type": "code",
   "execution_count": null,
   "metadata": {
    "collapsed": false
   },
   "outputs": [],
   "source": [
    "sns.lmplot(x='Tenure_years',y='Age_years',data=Xft,line_kws={'color':'k'})"
   ]
  },
  {
   "cell_type": "code",
   "execution_count": null,
   "metadata": {
    "collapsed": false
   },
   "outputs": [],
   "source": [
    "sns.jointplot(x='hire_age',y='Tenure_years',data=Xft)"
   ]
  },
  {
   "cell_type": "code",
   "execution_count": null,
   "metadata": {
    "collapsed": false
   },
   "outputs": [],
   "source": [
    "minimum_cols = ['Tenure_years','Age_years','MAX_RT_ANNUAL','MIN_RT_ANNUAL','SAL1','HAVE_INS','HAVE_DEP','Male','EMPL_TYPE']"
   ]
  },
  {
   "cell_type": "markdown",
   "metadata": {},
   "source": [
    "# need to redefine my pipe"
   ]
  },
  {
   "cell_type": "code",
   "execution_count": null,
   "metadata": {
    "collapsed": false
   },
   "outputs": [],
   "source": [
    "#class to drop a list of columns\n",
    "from sklearn.base import BaseEstimator,TransformerMixin\n",
    "class DropColumns(BaseEstimator, TransformerMixin):\n",
    "    def __init__(self,columns_to_drop=[]):\n",
    "        \"\"\"\n",
    "        A class that can be inserted into a pipeline\n",
    "    \n",
    "        This will drop columns that are listed as input to this class\n",
    "        \n",
    "        Parameters\n",
    "        ----------\n",
    "        X: Pandas dataframe\n",
    "        \n",
    "        \n",
    "        columns_to_drop: a list of columns to remove from the input DF.\n",
    "        \n",
    "        returns a pandas dataframe\n",
    "        \"\"\"\n",
    "        self.columns_to_drop = columns_to_drop\n",
    "        \n",
    "    def fit(self, X, y=None):\n",
    "        self.columns_to_drop = self.columns_to_drop\n",
    "        return self\n",
    "        \n",
    "    \n",
    "    def transform(self, X, y=None):\n",
    "        X_temp = X.copy()\n",
    "        for col in X_temp.columns:\n",
    "            if col in self.columns_to_drop:\n",
    "                X_temp.pop(col)\n",
    "        \n",
    "        return X_temp"
   ]
  },
  {
   "cell_type": "code",
   "execution_count": null,
   "metadata": {
    "collapsed": false
   },
   "outputs": [],
   "source": [
    "X.columns"
   ]
  },
  {
   "cell_type": "code",
   "execution_count": null,
   "metadata": {
    "collapsed": false
   },
   "outputs": [],
   "source": [
    "set_minimum_cols= set(minimum_cols)\n",
    "my_minfix_cols = ['SAL1','MIN_RT_ANNUAL','MERIT1','PERF1']\n",
    "my_maxfix_cols = ['MAX_RT_ANNUAL']\n",
    "missing_zero_cols = ['BOX1','FUNC_CNT','EXTFUNC_CNT','TOTAL_RPT_CNT','DIRECT_RPT_CNT']\n",
    "mode_impute_cols = ['MERIT1','PERF1','ADDRCNT1']\n",
    "mean_impute_cols = 'auto'\n",
    "\n"
   ]
  },
  {
   "cell_type": "code",
   "execution_count": null,
   "metadata": {
    "collapsed": false
   },
   "outputs": [],
   "source": [
    "pipe2 = Pipeline([(\"null\",br.RemoveAllNull()),\n",
    "                 (\"drop\",DropColumns(columns_to_drop =['hire_age','unempl_rate'])),  \n",
    "                 (\"label_encode\",LabelEncodeColumn(my_label_encode_cols)),\n",
    "                 (\"dummy_encode\", DummyEncodeColumn(cat_cols_to_dummy_encode)),\n",
    "                 (\"survival_encode\",SurvivalEncodeColumn(my_label_encode_cols[:5],method='median')),                 \n",
    "                 (\"fixout_min\",br.FixNumericOutlier(columns_to_fix=my_minfix_cols,criteria_coef=('percentile',5),\n",
    "                                                   method='lower',fill_with='nearest_value')),\n",
    "                  (\"fixout_max\",br.FixNumericOutlier(columns_to_fix=['MAX_ANNUAL_RT'],criteria_coef=('percentile',5),\n",
    "                                                   method='both',fill_with='nearest_value')),\n",
    "                 (\"fill_missingzero\",FillMissingValue(columns_to_fix=missing_zero_cols,fill_value=0)),\n",
    "                 (\"imp_mode\",br.ImputeData(columns_to_impute=mode_impute_cols,rows_to_scan=0.8))])\n",
    "                 #(\"imp_mean\", br.ImputeData(columns_to_impute='auto', rows_to_scan=0.8))])"
   ]
  },
  {
   "cell_type": "code",
   "execution_count": null,
   "metadata": {
    "collapsed": false
   },
   "outputs": [],
   "source": [
    "Xft_mincols = pipe2.fit_transform(X,y)"
   ]
  },
  {
   "cell_type": "code",
   "execution_count": null,
   "metadata": {
    "collapsed": false
   },
   "outputs": [],
   "source": [
    "np.shape(Xft_mincols), np.shape(Xft)"
   ]
  },
  {
   "cell_type": "code",
   "execution_count": null,
   "metadata": {
    "collapsed": true
   },
   "outputs": [],
   "source": [
    "tXeval_mincols = pipe2.fit(X,y).transform(Xeval)"
   ]
  },
  {
   "cell_type": "code",
   "execution_count": null,
   "metadata": {
    "collapsed": false
   },
   "outputs": [],
   "source": [
    "br.perfect_collinearity_test(Xft_mincols)"
   ]
  },
  {
   "cell_type": "code",
   "execution_count": null,
   "metadata": {
    "collapsed": false
   },
   "outputs": [],
   "source": [
    "br.get_initial_analysis(Xft_mincols, y, tXeval_mincols, rows_to_scan=10000, sample_size=5000, random_state=42, cate_cap=10)"
   ]
  },
  {
   "cell_type": "code",
   "execution_count": null,
   "metadata": {
    "collapsed": false
   },
   "outputs": [],
   "source": [
    "minimum_cols"
   ]
  },
  {
   "cell_type": "markdown",
   "metadata": {},
   "source": [
    "##Try again using just a very small set of columns"
   ]
  },
  {
   "cell_type": "code",
   "execution_count": null,
   "metadata": {
    "collapsed": false
   },
   "outputs": [],
   "source": [
    "br.get_initial_analysis(X[minimum_cols],y,Xeval[minimum_cols])"
   ]
  },
  {
   "cell_type": "code",
   "execution_count": null,
   "metadata": {
    "collapsed": false
   },
   "outputs": [],
   "source": [
    "minimal_input_col_list = ['KEY','HIRE_DT','BIRTHDATE','SAL1','HAVE_INS','HAVE_DEP','EMPL_TYPE','Male',\n",
    "                          'MAX_RT_ANNUAL','MIN_RT_ANNUAL','PERF1','MERIT1','BOX1','INTERN','HUBIND']\n",
    "empl[minimal_input_col_list].head()"
   ]
  },
  {
   "cell_type": "markdown",
   "metadata": {},
   "source": [
    "## ASIDE\n",
    "* looking at info for testdata"
   ]
  },
  {
   "cell_type": "code",
   "execution_count": null,
   "metadata": {
    "collapsed": false
   },
   "outputs": [],
   "source": [
    "keys_to_get = ['\"929965184037557\"',\n",
    " '\"872454415016088\"',\n",
    " '\"247046588569436\"',\n",
    " '\"980835578861104\"',\n",
    " '\"831802700567899\"',\n",
    " '\"612245620047788\"',\n",
    " '\"673774298594228\"',\n",
    " '\"53680010164939\"',\n",
    " '\"361010560468310\"',\n",
    " '\"688423451822448\"']"
   ]
  },
  {
   "cell_type": "code",
   "execution_count": null,
   "metadata": {
    "collapsed": false
   },
   "outputs": [],
   "source": [
    "for a in keys_to_get:\n",
    "    print a,em2002[em2002.KEY == a.strip('\"')][['HAVE_INS','HAVE_DEP']].values"
   ]
  },
  {
   "cell_type": "code",
   "execution_count": null,
   "metadata": {
    "collapsed": false
   },
   "outputs": [],
   "source": [
    "for a in keys_to_get:\n",
    "    print a,em2002[em2002.KEY == a.strip('\"')][['Male']].values"
   ]
  },
  {
   "cell_type": "code",
   "execution_count": null,
   "metadata": {
    "collapsed": false
   },
   "outputs": [],
   "source": [
    "for c in em2002[minimal_input_col_list]:\n",
    "    print c, em2002[c].dtype"
   ]
  },
  {
   "cell_type": "code",
   "execution_count": null,
   "metadata": {
    "collapsed": true
   },
   "outputs": [],
   "source": [
    "min_col_list = ['KEY','HIRE_DT','BIRTHDATE',\n",
    "                'SAL1','PERF1','MERIT1','BOX1','MAX_RT_ANNUAL','MIN_RT_ANNUAL',\n",
    "            'HAVE_INS','HAVE_DEP','EMPL_TYPE','Male',\n",
    "                          'INTERN','HUBIND']"
   ]
  },
  {
   "cell_type": "code",
   "execution_count": null,
   "metadata": {
    "collapsed": false
   },
   "outputs": [],
   "source": [
    "em2[min_col_list]"
   ]
  },
  {
   "cell_type": "code",
   "execution_count": null,
   "metadata": {
    "collapsed": false
   },
   "outputs": [],
   "source": [
    "pipe_small_0 = pipe()"
   ]
  },
  {
   "cell_type": "code",
   "execution_count": null,
   "metadata": {
    "collapsed": true
   },
   "outputs": [],
   "source": []
  },
  {
   "cell_type": "code",
   "execution_count": null,
   "metadata": {
    "collapsed": true
   },
   "outputs": [],
   "source": [
    "pipe_categorical_features = Pipeline([ ('factor_encode', br.ConvertCategorical(cat_cols_to_label_encode))])"
   ]
  },
  {
   "cell_type": "code",
   "execution_count": null,
   "metadata": {
    "collapsed": false
   },
   "outputs": [],
   "source": [
    "pipeline = Pipeline([\n",
    "    ('features', FeatureUnion([\n",
    "        ('factorize', Pipeline([\n",
    "            ('extract', ColumnExtractor(cat_cols_to_label_encode)),\n",
    "            ('factor_encode',br.ConvertCategorical(cat_cols_to_label_encode))                                \n",
    "            #('scale', Normalizer())\n",
    "        ])),\n",
    "        ('dummy', Pipeline([\n",
    "            ('extract', ColumnExtractor(cat_cols_to_dummy_encode)),\n",
    "            ('dummy_encode',br.ConvertCategorical(cat_cols_to_dummy_encode,method='dummy'))\n",
    "            #('one_hot', OneHotEncoder(n_values=5)),\n",
    "            #('to_dense', DenseTransformer())\n",
    "        ]))\n",
    "                    ]))])"
   ]
  },
  {
   "cell_type": "code",
   "execution_count": null,
   "metadata": {
    "collapsed": false
   },
   "outputs": [],
   "source": [
    "tmp_cols = []\n",
    "tmp_cols += cat_cols_to_label_encode\n",
    "tmp_cols += cat_cols_to_dummy_encode\n",
    "len(tmp_cols), len(cat_cols_to_label_encode)"
   ]
  },
  {
   "cell_type": "code",
   "execution_count": null,
   "metadata": {
    "collapsed": false
   },
   "outputs": [],
   "source": [
    "pipe_categorical_features = Pipeline(steps=[('tmp_cat_feat', FeatureUnion(transformer_list=[\n",
    "        ('factor_encode',br.ConvertCategorical(cat_cols_to_label_encode)),\n",
    "        ('dummy_encode', br.ConvertCategorical(cat_cols_to_dummy_encode,method='dummy'))\n",
    "        \n",
    "    ]))])\n",
    "#ft = categorical_features.fit_transform(em2[tmp_cols])"
   ]
  },
  {
   "cell_type": "code",
   "execution_count": null,
   "metadata": {
    "collapsed": true
   },
   "outputs": [],
   "source": [
    "#ft = pipeline.fit_transform(em2[tmp_cols])\n",
    "ft = pipe_categorical_features.fit(em2[tmp_cols],em2['retired']).transform(em2[tmp_cols])"
   ]
  },
  {
   "cell_type": "code",
   "execution_count": null,
   "metadata": {
    "collapsed": false
   },
   "outputs": [],
   "source": [
    "np.shape(ft), np.shape(em2[tmp_cols])"
   ]
  },
  {
   "cell_type": "code",
   "execution_count": null,
   "metadata": {
    "collapsed": true
   },
   "outputs": [],
   "source": [
    "pipeline = Pipeline([\n",
    "    # preprocess the categorical data\n",
    "    ('subjectbody', SubjectBodyExtractor()),\n",
    "\n",
    "    # Use FeatureUnion to combine the features from subject and body\n",
    "    ('union', FeatureUnion(\n",
    "        transformer_list=[\n",
    "\n",
    "            # Pipeline for pulling features from the post's subject line\n",
    "            ('subject', Pipeline([\n",
    "                ('selector', ItemSelector(key='subject')),\n",
    "                ('tfidf', TfidfVectorizer(min_df=50)),\n",
    "            ])),\n",
    "\n",
    "            # Pipeline for standard bag-of-words model for body\n",
    "            ('body_bow', Pipeline([\n",
    "                ('selector', ItemSelector(key='body')),\n",
    "                ('tfidf', TfidfVectorizer()),\n",
    "                ('best', TruncatedSVD(n_components=50)),\n",
    "            ])),\n",
    "\n",
    "            # Pipeline for pulling ad hoc features from post's body\n",
    "            ('body_stats', Pipeline([\n",
    "                ('selector', ItemSelector(key='body')),\n",
    "                ('stats', TextStats()),  # returns a list of dicts\n",
    "                ('vect', DictVectorizer()),  # list of dicts -> feature matrix\n",
    "            ])),\n",
    "\n",
    "        ],\n",
    "\n",
    "        # weight components in FeatureUnion\n",
    "        transformer_weights={\n",
    "            'subject': 0.8,\n",
    "            'body_bow': 0.5,\n",
    "            'body_stats': 1.0,\n",
    "        },\n",
    "    )),\n",
    "\n",
    "    # Use a SVC classifier on the combined features\n",
    "    #('svc', SVC(kernel='linear')),\n",
    "])"
   ]
  },
  {
   "cell_type": "code",
   "execution_count": null,
   "metadata": {
    "collapsed": true
   },
   "outputs": [],
   "source": []
  },
  {
   "cell_type": "code",
   "execution_count": null,
   "metadata": {
    "collapsed": true
   },
   "outputs": [],
   "source": []
  },
  {
   "cell_type": "code",
   "execution_count": null,
   "metadata": {
    "collapsed": true
   },
   "outputs": [],
   "source": []
  },
  {
   "cell_type": "markdown",
   "metadata": {},
   "source": [
    "## Utilize pipeline to preprocess the categorical data"
   ]
  },
  {
   "cell_type": "code",
   "execution_count": null,
   "metadata": {
    "collapsed": false
   },
   "outputs": [],
   "source": [
    "pp_category_pipe = Pipeline([(\"cat_le\",br.ConvertCategorical(cat_cols_to_label_encode)),\n",
    "                            (\"cat_dummy\",br.ConvertCategorical(['FULL_PART_TIME','COMPANY'],method='value_counts'))])\n",
    "#(\"cat_survmed\",br.Convert)]\n",
    "# this is the same as factorize ( I think)\n"
   ]
  },
  {
   "cell_type": "code",
   "execution_count": null,
   "metadata": {
    "collapsed": false
   },
   "outputs": [],
   "source": [
    "pipe = Pipeline([(\"catd\", br.ConvertCategorical(cat_cols_to_dummy_encode, method='dummy')),\n",
    "                 (\"catf\", br.ConvertCategorical(cat_cols_to_label_encode))])\n",
    "ft= pipe.fit_transform(em2)\n",
    "                 #(\"imp\", br.ImputeData(columns_to_impute='auto', rows_to_scan=0.3)),\n",
    "                 #(\"redu\", br.DimensionReduction(rows_to_scan=0.3, n_components=10))])"
   ]
  },
  {
   "cell_type": "code",
   "execution_count": null,
   "metadata": {
    "collapsed": false
   },
   "outputs": [],
   "source": [
    "ft = pp_category_pipe.fit_transform(em2)"
   ]
  },
  {
   "cell_type": "code",
   "execution_count": null,
   "metadata": {
    "collapsed": false
   },
   "outputs": [],
   "source": [
    "from sklearn.feature_selection import VarianceThreshold\n",
    "sel = VarianceThreshold(threshold=(.8*1-.8))\n",
    "sel.fit_transform(em2[cols_categorical])"
   ]
  },
  {
   "cell_type": "code",
   "execution_count": null,
   "metadata": {
    "collapsed": false
   },
   "outputs": [],
   "source": [
    "br.get_columns_with_nulls(em2[cols_categorical])"
   ]
  },
  {
   "cell_type": "code",
   "execution_count": null,
   "metadata": {
    "collapsed": true
   },
   "outputs": [],
   "source": [
    "## create a class for this\n"
   ]
  },
  {
   "cell_type": "code",
   "execution_count": null,
   "metadata": {
    "collapsed": true
   },
   "outputs": [],
   "source": [
    "pipe = Pipeline(['impute',])"
   ]
  },
  {
   "cell_type": "code",
   "execution_count": null,
   "metadata": {
    "collapsed": true
   },
   "outputs": [],
   "source": [
    "# break into X and Xeval groups\n"
   ]
  },
  {
   "cell_type": "code",
   "execution_count": null,
   "metadata": {
    "collapsed": true
   },
   "outputs": [],
   "source": [
    "from sklearn.pipeline import Pipeline\n",
    "cate_list = br.get_categorical_list(X)\n",
    "pipe = Pipeline([(\"null\", br.RemoveAllNull()),                   \n",
    "                 (\"cat\", br.ConvertCategorical(cate_list, rows_to_scan=0.3)),\n",
    "                 (\"imp\", br.ImputeData(columns_to_impute='auto', rows_to_scan=0.3)),\n",
    "                 (\"redu\", br.DimensionReduction(rows_to_scan=0.3, n_components=10))])\n",
    "pipe.fit(X, y).transform(testX)[0:10]"
   ]
  },
  {
   "cell_type": "code",
   "execution_count": null,
   "metadata": {
    "collapsed": true
   },
   "outputs": [],
   "source": [
    "#### create a new list of cols_to_keep\n"
   ]
  },
  {
   "cell_type": "code",
   "execution_count": null,
   "metadata": {
    "collapsed": false
   },
   "outputs": [],
   "source": [
    "#catdummy = br.ConvertCategorical(categorical_columns=[['LOC_STATE','LOC_TYPE_DESCR_SFI']],rows_to_scan='all')\n",
    "#catdummy.fit(em2, em2['terminated']).transform(em2eval)[0:10]"
   ]
  },
  {
   "cell_type": "code",
   "execution_count": null,
   "metadata": {
    "collapsed": false
   },
   "outputs": [],
   "source": [
    "for c in em2002[['LOC_STATE','LOC_TYPE_DESCR_SFI']].columns:\n",
    "    print c\n",
    "    print len(em2002[c].unique())"
   ]
  },
  {
   "cell_type": "code",
   "execution_count": null,
   "metadata": {
    "collapsed": false
   },
   "outputs": [],
   "source": [
    "\n",
    "cols_to_survival = ['GRADE','JOB_FAMILY','JOB_FUNCTION','LOCATION']\n",
    "cols_to_cat_encode = ['EMPL_CLASS','EEO1CODE','EMPL_TYPE','FULL_PART_TIME']\n",
    "cols_to_label_encode = ['LOC_TYPE_DESCR_SFI','LOC_STATE']"
   ]
  },
  {
   "cell_type": "code",
   "execution_count": null,
   "metadata": {
    "collapsed": true
   },
   "outputs": [],
   "source": []
  },
  {
   "cell_type": "code",
   "execution_count": null,
   "metadata": {
    "collapsed": false
   },
   "outputs": [],
   "source": [
    "#br.get_percentage_of_nulls_pd(em2002)"
   ]
  },
  {
   "cell_type": "code",
   "execution_count": null,
   "metadata": {
    "collapsed": true
   },
   "outputs": [],
   "source": [
    "from sklearn.feature_selection import VarianceThreshold\n",
    "my_prob_thresh = .8\n",
    "sel = VarianceThreshold(threshold=(my_prob_thresh*(1 - my_prob_thresh)))\n",
    "sel.fit_transform(em2002[['FLSA_STATUS','FLOR_SFI','Male','INTERN']])"
   ]
  },
  {
   "cell_type": "code",
   "execution_count": null,
   "metadata": {
    "collapsed": true
   },
   "outputs": [],
   "source": []
  },
  {
   "cell_type": "code",
   "execution_count": null,
   "metadata": {
    "collapsed": true
   },
   "outputs": [],
   "source": []
  },
  {
   "cell_type": "code",
   "execution_count": null,
   "metadata": {
    "collapsed": true
   },
   "outputs": [],
   "source": []
  },
  {
   "cell_type": "code",
   "execution_count": null,
   "metadata": {
    "collapsed": true
   },
   "outputs": [],
   "source": []
  },
  {
   "cell_type": "code",
   "execution_count": null,
   "metadata": {
    "collapsed": true
   },
   "outputs": [],
   "source": []
  },
  {
   "cell_type": "code",
   "execution_count": null,
   "metadata": {
    "collapsed": true
   },
   "outputs": [],
   "source": []
  },
  {
   "cell_type": "markdown",
   "metadata": {},
   "source": [
    "## helper functions follow"
   ]
  },
  {
   "cell_type": "code",
   "execution_count": null,
   "metadata": {
    "collapsed": true
   },
   "outputs": [],
   "source": [
    "def assign_unempl_rate(my_date,unempl):\n",
    "    try :\n",
    "        un_rate = unempl[unempl.index <= my_date]['value'].values[-1]\n",
    "    except IndexError:\n",
    "        un_rate = unempl['value'].ix[0]\n",
    "        \n",
    "    return un_rate"
   ]
  },
  {
   "cell_type": "code",
   "execution_count": null,
   "metadata": {
    "collapsed": true
   },
   "outputs": [],
   "source": [
    "# function to truncate POSTAL_ZIP to zip5\n",
    "def truncate_postal_zip(in_zip):\n",
    "    try:\n",
    "        out_zip = in_zip[:5]\n",
    "        #print out_zip\n",
    "    except:\n",
    "        #out_zip = str(in_zip)[:5]\n",
    "        out_zip = np.nan\n",
    "    return out_zip"
   ]
  },
  {
   "cell_type": "code",
   "execution_count": null,
   "metadata": {
    "collapsed": true
   },
   "outputs": [],
   "source": [
    "## function to load into pandas from hdfs (by copying to local filespace)\n",
    "def pandas_read_hdfs(infile,sep = ';',dtype_dict = None):\n",
    "    # copy the infile to the cwd\n",
    "    !hdfs dfs -get {infile} .\n",
    "    # identify the local file name\n",
    "    inname = infile[infile.rfind('/')+1:]\n",
    "    # read into a data frame\n",
    "    if dtype_dict != None:\n",
    "        df = pd.read_csv(inname,sep=sep,dtype =dtype_dict)\n",
    "    else:\n",
    "        df = pd.read_csv(inname,sep=sep)\n",
    "    # clean up local filespace\n",
    "    !rm {inname}\n",
    "    return df"
   ]
  },
  {
   "cell_type": "code",
   "execution_count": null,
   "metadata": {
    "collapsed": true
   },
   "outputs": [],
   "source": [
    "def summarize_dataframe2(df,show_example=False):\n",
    "    nrow = len(df)\n",
    "    summary_df = pd.DataFrame(columns = ['Column','datatype','nmissing','arity','accepted values'])\n",
    "    len_df = len(summary_df)\n",
    "    for col in df.columns:\n",
    "        nmiss = nrow - df[col].value_counts().sum()\n",
    "        narity = len(df[col].unique())\n",
    "        if show_example:\n",
    "            print col, df[col].dtype,nmiss, \"\\t\", narity,\":\\t\", df[col].ix[8320]\n",
    "        else:\n",
    "            print col, df[col].dtype,nmiss, \"\\t\", narity\n",
    "        accept_val = None\n",
    "        if narity < 20:\n",
    "            accept_val = df[col].unique()\n",
    "        summary_df.loc[len_df] = [col,df[col].dtype,nmiss,narity,accept_val]\n",
    "        len_df+=1\n",
    "    # assing fraction of missing\n",
    "    summary_df['x_missing'] = summary_df['nmissing']/float(nrow)\n",
    "    \n",
    "    return summary_df"
   ]
  },
  {
   "cell_type": "markdown",
   "metadata": {},
   "source": [
    "###check on various  encoded variables\n",
    "\n",
    "* arity = 4, for 'SHIFT' map 'N' --> 0 and make FULL_PART_TIME categorical\n",
    "* arity = 5 -- make EMPL_TYPE to categorical\n",
    "* arity = 6, fine\n",
    "* arity = 7, make COMPANY categorical\n",
    "* arity = 8,9,10, fine\n",
    "* arity = 11: EEO1CODE to categorical\n",
    "* arity = 12: EMPL_CLASS to categorical\n",
    "* arity = 19: JOB_FUNCTION to categorical"
   ]
  },
  {
   "cell_type": "code",
   "execution_count": null,
   "metadata": {
    "collapsed": false
   },
   "outputs": [],
   "source": [
    "#sdf[sdf.arity==4]\n",
    "# dictonary of ratings\n",
    "ratings_dict = {}\n",
    "high_ratings = ['R3C3','R3C2','L3EXC','L3-EXC','OTSD','L3PRO','L3-PRO',\n",
    "                'EXCELS','SUPR','EXC/SUS','EXC/IMP','PEXE','ME - MEETS']\n",
    "low_ratings = ['IMPR','L1INC','L1DEV','L1PRO','NTAC','R1C2','R1C3','INC/DEC',\n",
    "               'INC/SUS','INC/IMP','INCNSSTE','L1EXC','UNAC','R1C1','L2-INC','L2INC',\n",
    "               'L1-EXC','L1-PRO','BEXP','L1-DEV','L1-INC','DNM - DOES','R3C1','R2C1']\n",
    "solid_ratings = ['R2C3','R2C2','L2EXC','L2PRO','EXPE','/EX/','COMM','AOBJ','EXC/DEC',\n",
    "                 'PRO/IMP','PRO/SUS','PRO/DEC','SM - SUCCE','MS - MEETS','L2DEV','L3INC',\n",
    "                 'L3DEV','L2-DEV','L3-INC','ACPT','L3-DEV','L2-EXC','L2-PRO']\n",
    "\n",
    "# initialize\n",
    "for rating in high_ratings:\n",
    "    ratings_dict[rating] = 3\n",
    "for rating in low_ratings:\n",
    "    ratings_dict[rating]=1\n",
    "for rating in solid_ratings:\n",
    "    ratings_dict[rating]=2\n",
    "\n",
    "\n",
    "# function for assigning\n",
    "def assign_simple_rating(x,my_dict = ratings_dict):\n",
    "    try:\n",
    "        rval = my_dict[x.strip()]\n",
    "    except KeyError:\n",
    "        rval = 0\n",
    "    except AttributeError:\n",
    "        rval = 0\n",
    "    return rval"
   ]
  },
  {
   "cell_type": "code",
   "execution_count": null,
   "metadata": {
    "collapsed": false
   },
   "outputs": [],
   "source": [
    "### For Rate replace solid with 2, High with 3, Low with 1\n",
    "#rate_col_list = [x for x in empl_bene.columns if x.startswith('RATE')]\n",
    "#print len(rate_col_list)\n",
    "#empl_bene[rate_col_list] = empl_bene[rate_col_list].applymap(lambda x: assign_simple_rating(x))\n",
    "##empl[rate_col_list] = empl[rate_col_list].map(lambda(x): assign_simple_rating(x)).copy()\n",
    "#empl_bene[rate_col_list].head()"
   ]
  },
  {
   "cell_type": "code",
   "execution_count": null,
   "metadata": {
    "collapsed": true
   },
   "outputs": [],
   "source": []
  },
  {
   "cell_type": "code",
   "execution_count": null,
   "metadata": {
    "collapsed": false
   },
   "outputs": [],
   "source": [
    "cat_description = br.describe_categorical(em2002[cols_categorical])\n",
    "cat_description"
   ]
  },
  {
   "cell_type": "code",
   "execution_count": null,
   "metadata": {
    "collapsed": false
   },
   "outputs": [],
   "source": [
    "em2002[['SAL1','SAL2']].corr()"
   ]
  },
  {
   "cell_type": "code",
   "execution_count": null,
   "metadata": {
    "collapsed": false
   },
   "outputs": [],
   "source": [
    "em2002['SAL2'].describe()"
   ]
  },
  {
   "cell_type": "code",
   "execution_count": null,
   "metadata": {
    "collapsed": false
   },
   "outputs": [],
   "source": []
  },
  {
   "cell_type": "code",
   "execution_count": null,
   "metadata": {
    "collapsed": false
   },
   "outputs": [],
   "source": [
    "len(numeric_to_impute)"
   ]
  },
  {
   "cell_type": "code",
   "execution_count": null,
   "metadata": {
    "collapsed": false
   },
   "outputs": [],
   "source": [
    "numeric_to_impute"
   ]
  },
  {
   "cell_type": "code",
   "execution_count": null,
   "metadata": {
    "collapsed": false
   },
   "outputs": [],
   "source": [
    "len(list(set(cols_numeric) - set(mos_cols) - set(useful_time_cols) - set(potential_target_cols)-set(numeric_to_impute)))"
   ]
  },
  {
   "cell_type": "code",
   "execution_count": null,
   "metadata": {
    "collapsed": false
   },
   "outputs": [],
   "source": [
    "[c for c in list(set(cols_numeric) - set(mos_cols) - set(useful_time_cols) - set(potential_target_cols)-set(numeric_to_impute))]"
   ]
  },
  {
   "cell_type": "code",
   "execution_count": null,
   "metadata": {
    "collapsed": false
   },
   "outputs": [],
   "source": [
    "em2002[['TOT_MO_SERVICE_SFI','Tenure_years']].corr()"
   ]
  },
  {
   "cell_type": "code",
   "execution_count": null,
   "metadata": {
    "collapsed": false
   },
   "outputs": [],
   "source": [
    "em2002['FLOR_SFI'].value_counts()"
   ]
  },
  {
   "cell_type": "code",
   "execution_count": null,
   "metadata": {
    "collapsed": true
   },
   "outputs": [],
   "source": []
  },
  {
   "cell_type": "code",
   "execution_count": null,
   "metadata": {
    "collapsed": false
   },
   "outputs": [],
   "source": []
  },
  {
   "cell_type": "code",
   "execution_count": null,
   "metadata": {
    "collapsed": false
   },
   "outputs": [],
   "source": [
    "em2002['INTERN'].value_counts()"
   ]
  },
  {
   "cell_type": "code",
   "execution_count": null,
   "metadata": {
    "collapsed": false
   },
   "outputs": [],
   "source": [
    "em2[recentcols].describe()"
   ]
  },
  {
   "cell_type": "code",
   "execution_count": null,
   "metadata": {
    "collapsed": false
   },
   "outputs": [],
   "source": [
    "br.get_percentage_of_nulls_pd(em2,recentcols)"
   ]
  },
  {
   "cell_type": "markdown",
   "metadata": {
    "collapsed": true
   },
   "source": [
    "## Attempt to apply pipeline logic"
   ]
  },
  {
   "cell_type": "code",
   "execution_count": null,
   "metadata": {
    "collapsed": false
   },
   "outputs": [],
   "source": [
    "len(em2build.columns)"
   ]
  },
  {
   "cell_type": "code",
   "execution_count": null,
   "metadata": {
    "collapsed": true
   },
   "outputs": [],
   "source": [
    "fixzero=br.FixNumericOutlier(columns_to_fix=['SAL1','MIN_RT_ANNUAL'], criteria_coef=('percentile', 10), \n",
    "                            method = 'lower', fill_with='nearest_value')#,   \n",
    "fixboth = br.FixNumericOutlier(columns_to_fix=['MAX_RT_ANNUAL'],criteria_coef =('percentale',10),\n",
    "                              method='both',fill_with='nearest_value')"
   ]
  },
  {
   "cell_type": "code",
   "execution_count": null,
   "metadata": {
    "collapsed": true
   },
   "outputs": [],
   "source": [
    "pipe0 = Pipeline('extract_cols', selectColumns(),\n",
    "                'fixzero', fixzero(),\n",
    "                'fixboth',fixboth(),\n",
    "                'impute_numeric',br.ImputeData(columns_to_impute=['MERIT1','PERF1','ADDRCNT'])"
   ]
  },
  {
   "cell_type": "code",
   "execution_count": null,
   "metadata": {
    "collapsed": true
   },
   "outputs": [],
   "source": [
    "class selectColumns(BaseEstimator, TransformerMixin):\n",
    "    def __init__(self, )"
   ]
  },
  {
   "cell_type": "code",
   "execution_count": null,
   "metadata": {
    "collapsed": false
   },
   "outputs": [],
   "source": [
    "class RemoveAllNull(BaseEstimator, TransformerMixin):\n",
    "    def __init__(self, columns_to_check='all'):\n",
    "        \"\"\"\n",
    "        A class that can be inserted into pipeline.\n",
    "        This will remove the columns with all missing values in the columns_to_check\n",
    "        \n",
    "        Parameter:\n",
    "        ----------\n",
    "        columns_to_check: string or list, optional (default=\"all\")\n",
    "            If \"all\", check all columns. Other \n",
    "            strings are interpreted to represent column names and you can \n",
    "            pass a list of column names to check.\n",
    "        -----------\n",
    "        \n",
    "        returns a pandas dataframe\n",
    "        \"\"\"\n",
    "        self.columns_to_check = columns_to_check\n",
    "    \n",
    "    def fit(self, X, y=None):\n",
    "        self.columns_to_remove = get_columns_with_all_nulls(X, self.columns_to_check)\n",
    "        return self\n",
    "    def transform(self, X, y=None):\n",
    "        X_temp = X.copy()\n",
    "        for col in X_temp.columns:\n",
    "            if col in self.columns_to_remove:\n",
    "                X_temp.pop(col)\n",
    "        return X_temp"
   ]
  },
  {
   "cell_type": "code",
   "execution_count": null,
   "metadata": {
    "collapsed": true
   },
   "outputs": [],
   "source": [
    "from sklearn.pipeline import Pipeline,FeatureUnion"
   ]
  },
  {
   "cell_type": "code",
   "execution_count": null,
   "metadata": {
    "collapsed": true
   },
   "outputs": [],
   "source": [
    "pipe0 = Pipeline(['col_drop', ])"
   ]
  },
  {
   "cell_type": "code",
   "execution_count": null,
   "metadata": {
    "collapsed": true
   },
   "outputs": [],
   "source": [
    "feature_extraction0 = FeatureUnion(['med_surv',medianSurvival(),\n",
    "                                   'continuous',])\n",
    "pipeline0 = Pipeline([\n",
    "  ('extract_essays', EssayExractor()),\n",
    "  ('features', FeatureUnion([\n",
    "    ('ngram_tf_idf', Pipeline([\n",
    "      ('counts', CountVectorizer()),\n",
    "      ('tf_idf', TfidfTransformer())\n",
    "    ])),\n",
    "    ('essay_length', LengthTransformer()),\n",
    "    ('misspellings', MispellingCountTransformer())\n",
    "  ])),\n",
    "  ('classifier', MultinomialNB())\n",
    "])"
   ]
  },
  {
   "cell_type": "code",
   "execution_count": null,
   "metadata": {
    "collapsed": true
   },
   "outputs": [],
   "source": [
    "fixrate1 = br.FixNumericOutlier(columns_to_fix = ['MIN_RT_ANNUAL','']"
   ]
  },
  {
   "cell_type": "code",
   "execution_count": null,
   "metadata": {
    "collapsed": true
   },
   "outputs": [],
   "source": [
    "from sklearn.pipeline import Pipeline\n",
    "cate_list = br.get_categorical_list(X)\n",
    "pipe = Pipeline([(\"null\", br.RemoveAllNull()),                   \n",
    "                 (\"cat\", br.ConvertCategorical(cate_list, rows_to_scan=0.3)),\n",
    "                 (\"imp\", br.ImputeData(columns_to_impute='auto', rows_to_scan=0.3)),\n",
    "                 (\"redu\", br.DimensionReduction(rows_to_scan=0.3, n_components=10))])\n",
    "pipe.fit(X, y).transform(testX)[0:10]"
   ]
  },
  {
   "cell_type": "markdown",
   "metadata": {},
   "source": [
    "## Step through the DF with bear\n",
    "1. list all columns\n",
    "2. find those that have all nulls\n",
    "3. find those that have any missing"
   ]
  },
  {
   "cell_type": "code",
   "execution_count": null,
   "metadata": {
    "collapsed": false
   },
   "outputs": [],
   "source": [
    "# check if any column has all missing\n",
    "chk_for_null_columns = br.get_columns_with_all_nulls(empl_bene)\n",
    "if len(chk_for_null_columns) > 0:\n",
    "    print \"WARNING there are {0} columns that are completely null.\".format(chk_for_null_columns)\n",
    "    print chk_for_null_columns\n",
    "    empl_bene.drop(chk_for_null_columns,axis=1,inplace=True)\n",
    "else:\n",
    "    print \"there were no columns that were universally null.\"\n",
    "    \n"
   ]
  },
  {
   "cell_type": "markdown",
   "metadata": {},
   "source": [
    "# encode some categorical"
   ]
  },
  {
   "cell_type": "code",
   "execution_count": null,
   "metadata": {
    "collapsed": false
   },
   "outputs": [],
   "source": [
    "# identify the columns with missing data\n",
    "cols_with_missing_data = br.get_columns_with_nulls(empl_bene)\n",
    "if len(cols_with_missing_data)==0:\n",
    "    print \"there were no columns with missing data.\"\n",
    "else:\n",
    "    print \"WARNING there are {0} columns that have missing data.\".format(len(cols_with_missing_data))\n",
    "    print \"These columns are:\\t\",cols_with_missing_data"
   ]
  },
  {
   "cell_type": "code",
   "execution_count": null,
   "metadata": {
    "collapsed": false
   },
   "outputs": [],
   "source": [
    "# Partition these with missing values into categorical/boolean/numeric\n",
    "all_numeric_cols = br.get_numeric(empl_bene)\n",
    "all_cat_cols = br.get_categorical(empl_bene)\n",
    "print len(all_numeric_cols),len(all_cat_cols)"
   ]
  },
  {
   "cell_type": "code",
   "execution_count": null,
   "metadata": {
    "collapsed": false
   },
   "outputs": [],
   "source": [
    "## which columns are numeric and have missing?\n",
    "print len(list(set(all_numeric_cols).intersection(set(cols_with_missing_data))))\n",
    "print len(list(set(all_cat_cols).intersection(set(cols_with_missing_data))))"
   ]
  },
  {
   "cell_type": "code",
   "execution_count": null,
   "metadata": {
    "collapsed": false
   },
   "outputs": [],
   "source": [
    "sdf.sort('nmissing',ascending=False)"
   ]
  },
  {
   "cell_type": "code",
   "execution_count": null,
   "metadata": {
    "collapsed": true
   },
   "outputs": [],
   "source": [
    "from sklearn import preprocessing\n",
    "label_encoder = preprocessing.LabelEncoder() #assigns unique integers to values base upon alphabetical order."
   ]
  },
  {
   "cell_type": "code",
   "execution_count": null,
   "metadata": {
    "collapsed": false
   },
   "outputs": [],
   "source": [
    "boolean_cols = sdf[(sdf.arity==2) & (sdf.datatype=='object')].Column.values\n",
    "print boolean_cols\n",
    "for c in boolean_cols:\n",
    "    print c, sdf[sdf.Column==c]['accepted values']"
   ]
  },
  {
   "cell_type": "code",
   "execution_count": null,
   "metadata": {
    "collapsed": true
   },
   "outputs": [],
   "source": [
    "for col in boolean_cols:\n",
    "    empl_bene[col] = label_encoder.fit_transform(empl_bene[col]) # use sklearn.preprocesing.LabelEncoder()\n",
    "\n"
   ]
  },
  {
   "cell_type": "code",
   "execution_count": null,
   "metadata": {
    "collapsed": false
   },
   "outputs": [],
   "source": []
  },
  {
   "cell_type": "code",
   "execution_count": null,
   "metadata": {
    "collapsed": false
   },
   "outputs": [],
   "source": []
  },
  {
   "cell_type": "code",
   "execution_count": null,
   "metadata": {
    "collapsed": false
   },
   "outputs": [],
   "source": [
    "[a for a in em2002[em2002.FULL_PART_TIME_X==1].columns if a.endswith('months')]\n",
    "em2002[em2002.FULL_PART_TIME_X==1].Tenure_months.describe()#hist(normed=True)\n",
    "#em2002[em2002.FULL_PART_TIME_X!=1].Tenure_months.hist(normed=True)"
   ]
  },
  {
   "cell_type": "code",
   "execution_count": null,
   "metadata": {
    "collapsed": false
   },
   "outputs": [],
   "source": [
    "em2002[em2002.FULL_PART_TIME_X==0].Tenure_months.describe()"
   ]
  },
  {
   "cell_type": "code",
   "execution_count": null,
   "metadata": {
    "collapsed": false
   },
   "outputs": [],
   "source": [
    "empl_bene.FULL_PART_TIME.value_counts(), empl_bene.EMPL_TYPE.value_counts()"
   ]
  },
  {
   "cell_type": "code",
   "execution_count": null,
   "metadata": {
    "collapsed": false
   },
   "outputs": [],
   "source": [
    "cols_to_categorical_1 = br.get_categorical(em2002[cols_to_consider1])\n",
    "for c in cols_to_categorical_1:\n",
    "    print c, len(em2002[c].unique()), sum(em2002[c].isnull())"
   ]
  },
  {
   "cell_type": "code",
   "execution_count": null,
   "metadata": {
    "collapsed": true
   },
   "outputs": [],
   "source": [
    "def create_factorized_df(input_df,column_name):\n",
    "    tmp_df = pd.get_dummies(input_df[column_name],prefix=column_name)\n",
    "    # now drop the largest category\n",
    "    lgst_category = input_df[column_name].value_counts().index[0]\n",
    "    #print tmp_df.shape, tmp_df.columns\n",
    "    #print lgst_category\n",
    "    base_category = column_name+'_'+str(lgst_category)\n",
    "    tmp_df.drop(base_category,axis=1,inplace=True)\n",
    "    print tmp_df.shape, base_category\n",
    "    return tmp_df,base_category"
   ]
  },
  {
   "cell_type": "code",
   "execution_count": null,
   "metadata": {
    "collapsed": false
   },
   "outputs": [],
   "source": [
    "missing_cols2_as_floats =[]\n",
    "missing_cols2_as_cats = []\n",
    "for c in list_with_missing2:\n",
    "    my_dtype = em2002[c].dtype\n",
    "    \n",
    "    if my_dtype == np.float64:\n",
    "        \n",
    "        missing_cols2_as_floats.append(c)\n",
    "    else:\n",
    "        print c, sum(em2002[c].isnull()), em2002[c].dtype\n",
    "        missing_cols2_as_cats.append(c)\n",
    "        \n",
    "print len(missing_cols2_as_floats)"
   ]
  },
  {
   "cell_type": "code",
   "execution_count": null,
   "metadata": {
    "collapsed": true
   },
   "outputs": [],
   "source": [
    "em2002['LOC_STATE'].fillna('XX',inplace=True)\n",
    "em2002['GRADE'].fillna('XXX',inplace=True)\n",
    "em2002['JOB_FAMILY'].fillna('XXXXX',inplace=True)\n",
    "em2002['LOC_TYPE_DESCR_SFI'].fillna('UNKNOWN LOCATION TYPE',inplace=True)\n",
    "em2002['JOB_FUNCTION'].fillna('XXX',inplace=True)\n",
    "cols_to_survival = ['GRADE','JOB_FAMILY','JOB_FUNCTION','LOCATION']\n",
    "cols_to_cat3 = ['EMPL_CLASS','EEO1CODE','EMPL_TYPE','FULL_PART_TIME']\n",
    "cols_to_label_encode = ['LOC_TYPE_DESCR_SFI','LOC_STATE']\n",
    "\n",
    "em2002.drop('LEGACY_DEPT_SFI',axis=1,inplace=True)\n",
    "\n"
   ]
  },
  {
   "cell_type": "code",
   "execution_count": 5,
   "metadata": {
    "collapsed": false
   },
   "outputs": [
    {
     "data": {
      "text/plain": [
       "(1128.6000000000001, 1050.0)"
      ]
     },
     "execution_count": 5,
     "metadata": {},
     "output_type": "execute_result"
    }
   ],
   "source": [
    ".45*2508, .70*1500"
   ]
  },
  {
   "cell_type": "code",
   "execution_count": null,
   "metadata": {
    "collapsed": false
   },
   "outputs": [],
   "source": [
    "# create a dummified dataframe.\n",
    "base_category_list =[]\n",
    "dummy_categories_list = []\n",
    "print em2002.shape\n",
    "for acol in cols_to_cat3:\n",
    "    print acol\n",
    "    t_df,bc1 = create_factorized_df(em2002,acol)\n",
    "    # drop the original column\n",
    "    #new_col_names = t_df.columns.tolist()\n",
    "    #dummy_categories_list+=new_col_names\n",
    "    em2002.drop(acol,inplace=True,axis=1)\n",
    "    # append the factorized categories\n",
    "    em2002 = pd.concat([em2002,t_df],axis=1)\n",
    "    base_category_list.append(bc1)\n",
    "\n",
    "print em2002.shape,len(base_category_list)"
   ]
  },
  {
   "cell_type": "code",
   "execution_count": null,
   "metadata": {
    "collapsed": false
   },
   "outputs": [],
   "source": [
    "base_category_list"
   ]
  },
  {
   "cell_type": "code",
   "execution_count": null,
   "metadata": {
    "collapsed": false
   },
   "outputs": [],
   "source": [
    "for acol in cols_to_cat3:\n",
    "    #if acol != 'EMPL_CLASS':\n",
    "    cols_to_consider1.remove(acol)\n",
    "    added_cols = [x for x in em2002.columns if x.startswith(acol)]\n",
    "    cols_to_consider1+=added_cols\n",
    "cols_to_consider1.remove('LEGACY_DEPT_SFI')\n",
    "len(cols_to_consider1)"
   ]
  },
  {
   "cell_type": "code",
   "execution_count": null,
   "metadata": {
    "collapsed": true
   },
   "outputs": [],
   "source": [
    "## Label Encode those 2 columns: LOC_STATE and LOC_TYPE_DESCR_SFI\n",
    "for acol in cols_to_label_encode:\n",
    "    label_encoder.fit_transform(em2002[acol])"
   ]
  },
  {
   "cell_type": "code",
   "execution_count": null,
   "metadata": {
    "collapsed": false
   },
   "outputs": [],
   "source": [
    "[x for x in cols_to_consider1 if 'FUNC_ID' in x]\n",
    "# add these to the cols_to_survival"
   ]
  },
  {
   "cell_type": "code",
   "execution_count": null,
   "metadata": {
    "collapsed": false
   },
   "outputs": [],
   "source": [
    "em2002.EXT_FUNC_ID_SFI.isnull().sum()"
   ]
  },
  {
   "cell_type": "code",
   "execution_count": null,
   "metadata": {
    "collapsed": false
   },
   "outputs": [],
   "source": [
    "print len(em2002.FUNC_ID_SFI.unique()), len(em2002.EXT_FUNC_ID_SFI.unique())\n",
    "cols_to_survival.append('FUNC_ID_SFI')\n",
    "cols_to_survival.append('EXT_FUNC_ID_SFI')\n",
    "cols_to_survival\n"
   ]
  },
  {
   "cell_type": "code",
   "execution_count": null,
   "metadata": {
    "collapsed": false
   },
   "outputs": [],
   "source": [
    "my_list_of_missing_cols = br.get_columns_with_nulls(em2002[cols_to_consider1])\n",
    "missing_counts_cols = [x for x  in my_list_of_missing_cols if 'CNT' in x]\n",
    "print missing_counts_cols\n"
   ]
  },
  {
   "cell_type": "code",
   "execution_count": null,
   "metadata": {
    "collapsed": false
   },
   "outputs": [],
   "source": [
    "# make these 'counts' go to -1 for missing\n",
    "for acolumn in missing_counts_cols:\n",
    "    em2002.fillna({acolumn: -1},inplace=True)\n"
   ]
  },
  {
   "cell_type": "code",
   "execution_count": null,
   "metadata": {
    "collapsed": false
   },
   "outputs": [],
   "source": [
    "\n"
   ]
  },
  {
   "cell_type": "code",
   "execution_count": null,
   "metadata": {
    "collapsed": false
   },
   "outputs": [],
   "source": [
    "my_list_missing_2 = br.get_columns_with_nulls(em2002[cols_to_consider1])\n",
    "print len(my_list_missing_2)"
   ]
  },
  {
   "cell_type": "code",
   "execution_count": null,
   "metadata": {
    "collapsed": false
   },
   "outputs": [],
   "source": [
    "[x for x in em2002.columns if x.startswith('EMPL_CLASS')]"
   ]
  },
  {
   "cell_type": "code",
   "execution_count": null,
   "metadata": {
    "collapsed": true
   },
   "outputs": [],
   "source": [
    "class ColumnExtractor(TransformerMixin):\n",
    "\n",
    "    def __init__(self, columns=[]):\n",
    "        self.columns = columns\n",
    "\n",
    "    def fit_transform(self, X, y=None, **fit_params):\n",
    "        self.fit(X, y, **fit_params)\n",
    "        return self.transform(X)\n",
    "\n",
    "    def transform(self, X, **transform_params):\n",
    "        return X[self.columns]\n",
    "\n",
    "    def fit(self, X, y=None, **fit_params):\n",
    "        return self"
   ]
  },
  {
   "cell_type": "markdown",
   "metadata": {},
   "source": [
    "## Correct values for the floats:\n",
    "* if min value (MIN_RT_ANNUAL)\n",
    "    * is zero reset to min value\n",
    "    * is nan reset to median?\n",
    "* if max value  (MAX_RT_ANNUAL) is \n",
    "    * zero reset to min value\n",
    "    * nan reset to median?\n",
    "    \n",
    "#### examine how many of these are the cases"
   ]
  },
  {
   "cell_type": "code",
   "execution_count": null,
   "metadata": {
    "collapsed": false
   },
   "outputs": [],
   "source": [
    "print sum(em2002.MAX_RT_ANNUAL <= 1), sum(em2002.ANNUAL_RT <= 1), sum(em2002.MIN_RT_ANNUAL<=1)"
   ]
  },
  {
   "cell_type": "code",
   "execution_count": null,
   "metadata": {
    "collapsed": false
   },
   "outputs": [],
   "source": [
    "my_value = 0\n",
    "salary_cols = ['MIN_RT_ANNUAL','MAX_RT_ANNUAL','ANNUAL_RT']\n",
    "for col in salary_cols:\n",
    "    #my_mtd = 'max'\n",
    "    my_data = em2002[em2002[col]!=my_value][col]\n",
    "    print col, my_data.min(), my_data.max(), my_data.mean(), my_data.median()\n",
    "#em2002[em2002['MAX_RT_ANNUAL']!=my_value]['MAX_RT_ANNUAL'].median()"
   ]
  },
  {
   "cell_type": "code",
   "execution_count": null,
   "metadata": {
    "collapsed": false
   },
   "outputs": [],
   "source": [
    "print len(em2002[em2002['ANNUAL_RT']==0])#['ANNUAL_RT'].value_counts()"
   ]
  },
  {
   "cell_type": "code",
   "execution_count": null,
   "metadata": {
    "collapsed": false
   },
   "outputs": [],
   "source": [
    "em2002[em2002['MAX_RT_ANNUAL']<999999]['MAX_RT_ANNUAL'].max()"
   ]
  },
  {
   "cell_type": "code",
   "execution_count": null,
   "metadata": {
    "collapsed": false
   },
   "outputs": [],
   "source": [
    "em2002[em2002['ANNUAL_RT']==0][['BIRTHDATE','TERMINATION_DT','HIRE_DT','GRADE','MAX_RT_ANNUAL']]#[cols_to_consider1]"
   ]
  },
  {
   "cell_type": "code",
   "execution_count": null,
   "metadata": {
    "collapsed": false
   },
   "outputs": [],
   "source": [
    "[a for a in em2002.GRADE.unique() if a.startswith('C')]"
   ]
  },
  {
   "cell_type": "code",
   "execution_count": null,
   "metadata": {
    "collapsed": false
   },
   "outputs": [],
   "source": [
    "len(em2002[em2002.GRADE == 'C23'][['TERMINATION_DT','ANNUAL_RT']])"
   ]
  },
  {
   "cell_type": "code",
   "execution_count": null,
   "metadata": {
    "collapsed": true
   },
   "outputs": [],
   "source": []
  },
  {
   "cell_type": "markdown",
   "metadata": {},
   "source": [
    "## NOW to define the imputation approaches\n",
    "* by Mean/median/min?\n",
    "* by Survival function\n",
    "* by counts"
   ]
  },
  {
   "cell_type": "code",
   "execution_count": null,
   "metadata": {
    "collapsed": false
   },
   "outputs": [],
   "source": [
    "most_recent_missing_col = [ c for c in my_list_missing_2 if c.endswith('1')]\n",
    "most_recent_missing_col"
   ]
  },
  {
   "cell_type": "code",
   "execution_count": null,
   "metadata": {
    "collapsed": true
   },
   "outputs": [],
   "source": [
    "## Now I need to split into build-eval set"
   ]
  },
  {
   "cell_type": "code",
   "execution_count": null,
   "metadata": {
    "collapsed": false
   },
   "outputs": [],
   "source": [
    "em2002.terminated.value_counts()"
   ]
  },
  {
   "cell_type": "code",
   "execution_count": null,
   "metadata": {
    "collapsed": false
   },
   "outputs": [],
   "source": [
    "print len(em2002.columns)\n",
    "cols_to_survival"
   ]
  },
  {
   "cell_type": "code",
   "execution_count": null,
   "metadata": {
    "collapsed": false
   },
   "outputs": [],
   "source": [
    "print len(columns_to_omit), len(columns_to_omit_2)\n",
    "columns_to_omit_2"
   ]
  },
  {
   "cell_type": "code",
   "execution_count": null,
   "metadata": {
    "collapsed": false
   },
   "outputs": [],
   "source": [
    "cols_to_label_encode.append('COMPANY')"
   ]
  },
  {
   "cell_type": "code",
   "execution_count": null,
   "metadata": {
    "collapsed": false
   },
   "outputs": [],
   "source": [
    "set(em2002.columns.tolist()) - set(columns_to_omit_2)"
   ]
  },
  {
   "cell_type": "code",
   "execution_count": null,
   "metadata": {
    "collapsed": false
   },
   "outputs": [],
   "source": [
    "len(cols_to_consider1), len(my_list_missing_2)"
   ]
  },
  {
   "cell_type": "code",
   "execution_count": null,
   "metadata": {
    "collapsed": false
   },
   "outputs": [],
   "source": [
    "[(a,em2002[a].isnull().sum(), em2002[a].median(), em2002[a].mean()) for a in my_list_missing_2]"
   ]
  },
  {
   "cell_type": "markdown",
   "metadata": {},
   "source": [
    "## Use cols_to_consider1\n",
    "* Create a test train split\n",
    "* then use pipelines for the following\n",
    "* try to apply class that adjusts the missing values in my_list_missing_2 to median?\n",
    "* try to apply class that adjusts the zero values of "
   ]
  },
  {
   "cell_type": "code",
   "execution_count": null,
   "metadata": {
    "collapsed": false
   },
   "outputs": [],
   "source": [
    "columns_to_omit_2"
   ]
  },
  {
   "cell_type": "code",
   "execution_count": null,
   "metadata": {
    "collapsed": false
   },
   "outputs": [],
   "source": [
    "#replace in the cols_to_consider list\n",
    "cols_to_consider = [a for a in cols_to_consider1 if not a.startswith('Tenure')]\n",
    "print len(cols_to_consider),len(cols_to_consider1)\n",
    "cols_to_consider.append('Tenure_years')"
   ]
  },
  {
   "cell_type": "markdown",
   "metadata": {},
   "source": [
    "## Label encode the 3 like that\n",
    "* and alter the cols_to_consider listing"
   ]
  },
  {
   "cell_type": "code",
   "execution_count": null,
   "metadata": {
    "collapsed": false
   },
   "outputs": [],
   "source": [
    "for col in cols_to_label_encode:\n",
    "    newcol = 'le_'+col.lower()\n",
    "    cols_to_consider.remove(col)\n",
    "    cols_to_consider.append(newcol)\n",
    "    print col,newcol\n",
    "    em2002[newcol] = label_encoder.fit_transform(em2002[col]) # use sklearn.preprocesing.LabelEncoder()\n",
    "\n",
    "print len(cols_to_consider)\n",
    "cols_to_consider[-8:]"
   ]
  },
  {
   "cell_type": "code",
   "execution_count": null,
   "metadata": {
    "collapsed": true
   },
   "outputs": [],
   "source": [
    "# split the training data into two parts\n",
    "from sklearn.cross_validation import train_test_split\n",
    "emBuild, emEval = train_test_split(em2002, test_size=0.25, random_state=92)"
   ]
  },
  {
   "cell_type": "code",
   "execution_count": null,
   "metadata": {
    "collapsed": false
   },
   "outputs": [],
   "source": [
    "print np.shape(emBuild), np.shape(emEval)"
   ]
  },
  {
   "cell_type": "code",
   "execution_count": null,
   "metadata": {
    "collapsed": false
   },
   "outputs": [],
   "source": [
    "# reset the indices of these two sets and the dates\n",
    "emBuild_dates = empl_dates.ix[emBuild.index].copy()\n",
    "emEval_dates = empl_dates.ix[emEval.index].copy()\n",
    "#build_indices = emBuild.index\n",
    "#eval_indices = emEval.index\n",
    "emBuild.index = np.arange(0,len(emBuild))\n",
    "emBuild_dates.index = np.arange(0,len(emBuild))\n",
    "emEval.index = np.arange(0,len(emEval))\n",
    "emEval_dates.index= np.arange(0,len(emEval))"
   ]
  },
  {
   "cell_type": "code",
   "execution_count": null,
   "metadata": {
    "collapsed": false
   },
   "outputs": [],
   "source": [
    "numeric_consider_A = br.get_numeric(emBuild[cols_to_consider])\n",
    "print len(numeric_consider_A)"
   ]
  },
  {
   "cell_type": "markdown",
   "metadata": {},
   "source": [
    "## apply the survival function to the remaining 6\n",
    "* first calculate the tenure in years (done above)\n",
    "* create dictionary based upon the build set\n"
   ]
  },
  {
   "cell_type": "code",
   "execution_count": null,
   "metadata": {
    "collapsed": false
   },
   "outputs": [],
   "source": [
    "for i,col in enumerate(cols_to_survival):\n",
    "    print col, emBuild[col].unique().dtype"
   ]
  },
  {
   "cell_type": "code",
   "execution_count": null,
   "metadata": {
    "collapsed": false
   },
   "outputs": [],
   "source": [
    "#job_related_cols = ['JOBCODE','grade_code','job_fcode']\n",
    "#new_job_sf_cols = ['surv_med_jobcode','surv_med_grade','surv_med_jobfamily']\n",
    "list_sf_dict = []\n",
    "new_surv_med_cols =[]\n",
    "for i, col in enumerate(cols_to_survival):\n",
    "    # check type of column and cast as str\n",
    "    my_dtype = emBuild[col].unique().dtype\n",
    "    if my_dtype == 'float64':\n",
    "        #print col\n",
    "        emBuild[col].apply(lambda x: np.str(x))    \n",
    "        emEval[col].apply(lambda x: np.str(x))    \n",
    "\n",
    "    num_cutoff=40\n",
    "    newcol = 'survmed_'+col.lower()\n",
    "    nuniq = len(emBuild[col].unique())\n",
    "    if nuniq < num_cutoff:\n",
    "        num_cutoff = nuniq\n",
    "    else:\n",
    "        num_cutoff = int(nuniq/4.)\n",
    "\n",
    "    frac_accounted_for = emBuild[col].value_counts().iloc[:num_cutoff].sum()/float(len(emBuild))\n",
    "    print i,col,newcol, nuniq, num_cutoff,num_cutoff/float(nuniq),frac_accounted_for\n",
    "    # I want to make this fraction close to 80%?\n",
    "    \n",
    "    #len(emBuild[col].value_counts())\n",
    "    #if nuniq < num_cutoff:\n",
    "    #    num_cutoff = nuniq\n",
    "    # calc survival functions\n",
    "    sf_df = calculate_survival_functions(emBuild,'Tenure_years', 'terminated', col,num_cutoff)\n",
    "    ## create the dictionary\n",
    "    list_sf_dict.append(return_first_time_survival(sf_df,thresh=0.5))\n",
    "    # apply the dictionary and create a new column\n",
    "    new_surv_med_cols.append(newcol)\n",
    "    emBuild[newcol]= emBuild[col].apply(lambda x: list_sf_dict[i][x])\n",
    "    emEval[newcol] = emEval[col].apply(lambda x: list_sf_dict[i][x])\n",
    "    cols_to_consider.remove(col)\n",
    "    cols_to_consider.append(newcol)\n",
    "\n",
    "    "
   ]
  },
  {
   "cell_type": "markdown",
   "metadata": {},
   "source": [
    "## July 9, 2015 made it here"
   ]
  },
  {
   "cell_type": "code",
   "execution_count": null,
   "metadata": {
    "collapsed": false
   },
   "outputs": [],
   "source": [
    "## examine the values of these new columns\n",
    "emBuild.survmed_grade.hist(label='Grade',bins=30)\n",
    "emBuild.survmed_job_family.hist(alpha=0.7,label='Jobfamily',bins=30)\n",
    "emBuild.survmed_job_function.hist(alpha=0.4,label='jobfcn',bins=30)\n",
    "emBuild.survmed_location.hist(alpha=0.4,bins=30,label='location')\n",
    "plt.legend(loc=2)\n",
    "plt.title('Histograms of Median Survival time (months) from EmBuild set')\n",
    "#emBuild.plot(kind='scatter',x =)"
   ]
  },
  {
   "cell_type": "markdown",
   "metadata": {},
   "source": [
    "## Begin by looking at collinearity of the data in emBuild"
   ]
  },
  {
   "cell_type": "code",
   "execution_count": null,
   "metadata": {
    "collapsed": false
   },
   "outputs": [],
   "source": [
    "cols_with_missing_numeric = br.get_columns_with_nulls(emBuild[cols_to_consider])"
   ]
  },
  {
   "cell_type": "markdown",
   "metadata": {},
   "source": [
    "### okay because of these missing values I need to impute/fill in\n",
    "* try using median value (based upon emBuild)\n",
    "* also apply fix_outliers to ANNUAL_RT, ..."
   ]
  },
  {
   "cell_type": "code",
   "execution_count": null,
   "metadata": {
    "collapsed": true
   },
   "outputs": [],
   "source": [
    "X = emBuild.copy()\n"
   ]
  },
  {
   "cell_type": "code",
   "execution_count": null,
   "metadata": {
    "collapsed": false
   },
   "outputs": [],
   "source": [
    "X.ANNUAL_RT.describe()"
   ]
  },
  {
   "cell_type": "code",
   "execution_count": null,
   "metadata": {
    "collapsed": false
   },
   "outputs": [],
   "source": [
    "# if categorical columns are included, an error will be raised\n",
    "# this class is usually inserted after ConvertCategorical in pipelines\n",
    "fixout=br.FixNumericOutlier(columns_to_fix=['ANNUAL_RT','MIN_RT_ANNUAL'], criteria_coef=('percentile', 10), \n",
    "                            method = 'lower', fill_with='nearest_value')\n",
    "                            \n",
    "X1 = fixout.fit(X).transform(X)\n",
    "print X1['ANNUAL_RT'].describe()\n",
    "X[['mod_annual_rt','mod_min_rt_annual']]=X1[['ANNUAL_RT','MIN_RT_ANNUAL']]\n",
    "fixout_max = br.FixNumericOutlier(columns_to_fix=['MAX_RT_ANNUAL'], criteria_coef=('percentile', 10), \n",
    "                            method = 'both', fill_with='nearest_value')\n",
    "X1 = fixout_max.fit(X).transform(X)\n",
    "X['mod_max_rt_annual']=X1['MAX_RT_ANNUAL']"
   ]
  },
  {
   "cell_type": "code",
   "execution_count": null,
   "metadata": {
    "collapsed": true
   },
   "outputs": [],
   "source": [
    "imp = br.ImputeData(method='median', columns_to_impute=cols_with_missing_numeric, impute_inf=False, keep_dummies=False)\n",
    "X1 = imp.fit(X).transform(X)\n",
    "X[cols_with_missing_numeric]=X1[cols_with_missing_numeric]"
   ]
  },
  {
   "cell_type": "code",
   "execution_count": null,
   "metadata": {
    "collapsed": false
   },
   "outputs": [],
   "source": [
    "for a in ['ANNUAL_RT','MIN_RT_ANNUAL','MAX_RT_ANNUAL']:\n",
    "    new_a = 'mod_'+a.lower()\n",
    "    cols_to_consider.remove(a)\n",
    "    cols_to_consider.append(new_a)\n",
    "    "
   ]
  },
  {
   "cell_type": "code",
   "execution_count": null,
   "metadata": {
    "collapsed": false
   },
   "outputs": [],
   "source": [
    "br.perfect_collinearity_test(X[cols_to_consider])"
   ]
  },
  {
   "cell_type": "code",
   "execution_count": null,
   "metadata": {
    "collapsed": false
   },
   "outputs": [],
   "source": [
    "cols_to_consider"
   ]
  },
  {
   "cell_type": "code",
   "execution_count": null,
   "metadata": {
    "collapsed": false
   },
   "outputs": [],
   "source": [
    "model_columns = cols_to_consider\n",
    "\n",
    "#model_columns.remove('retired')\n",
    "for c in model_columns:\n",
    "    if c.startswith('RATE'):\n",
    "        model_columns.remove(c)\n",
    "        print c, len(model_columns)\n",
    "\n",
    "        \n",
    "print len(model_columns)"
   ]
  },
  {
   "cell_type": "code",
   "execution_count": null,
   "metadata": {
    "collapsed": false
   },
   "outputs": [],
   "source": [
    "[c for c in model_columns if c.startswith('RATE')]"
   ]
  },
  {
   "cell_type": "code",
   "execution_count": null,
   "metadata": {
    "collapsed": false
   },
   "outputs": [],
   "source": [
    "model_columns.remove('terminated')\n",
    "model_columns.remove('status')\n",
    "model_columns.remove('sep_status')\n",
    "print len(model_columns)"
   ]
  },
  {
   "cell_type": "code",
   "execution_count": null,
   "metadata": {
    "collapsed": false
   },
   "outputs": [],
   "source": [
    "br.perfect_collinearity_test(X[model_columns])"
   ]
  },
  {
   "cell_type": "code",
   "execution_count": null,
   "metadata": {
    "collapsed": true
   },
   "outputs": [],
   "source": [
    "model_columns.remove('unempl_rate') # hard to predict this"
   ]
  },
  {
   "cell_type": "markdown",
   "metadata": {},
   "source": [
    "## progress toward the Temporal Fold work"
   ]
  },
  {
   "cell_type": "code",
   "execution_count": null,
   "metadata": {
    "collapsed": true
   },
   "outputs": [],
   "source": [
    "def create_temporal_kfolds(dates_df,date_range,time_delta):\n",
    "    min_date = pd.to_datetime(date_range[0])\n",
    "    max_date = pd.to_datetime(date_range[-1])\n",
    "    my_index = dates_df[(dates_df.term_tstmp>=min_date)].index\n",
    "    # calculate number of kfolds\n",
    "    date_span_years = np.int(np.round((max_date-min_date).days/365.24,0))\n",
    "    nfolds = date_span_years - time_delta\n",
    "    print date_span_years, time_delta, nfolds, len(my_index)\n",
    "    all_pairs = list(itertools.combinations(date_range,2))\n",
    "    # now filter if difference in time  == time_delta\n",
    "    filtered_pairs = []\n",
    "    for i0,i1 in all_pairs:\n",
    "        if int(i1[:4])-int(i0[:4]) == time_delta:\n",
    "            filtered_pairs.append([i0,i1])\n",
    "            #print i0,i1\n",
    "    print len(filtered_pairs)\n",
    "    # now process each of these filtered pairs\n",
    "    kf = []\n",
    "    for j0,j1 in filtered_pairs: # omit the last one because it has no\n",
    "        start_date = pd.to_datetime(j0)\n",
    "        end_date = pd.to_datetime(j1)\n",
    "        #print j0,j1#,len(k)\n",
    "        \n",
    "        \n",
    "        kfold_idx = dates_df[(dates_df.term_tstmp >= start_date) & (dates_df.hire_tstmp<start_date)].index\n",
    "        after_idx = dates_df[(dates_df.hire_tstmp>=end_date)].index\n",
    "        before_idx = list(set(my_index)-set(kfold_idx)-set(after_idx))\n",
    "        #temporal_kfold(dates_df[dates_df.term_tstmp>=min_date],start_date,end_date)\n",
    "        #print \"\\t\",len(kfold_idx), len(after_idx),len(before_idx)\n",
    "        \n",
    "        # combined out of fold\n",
    "        not_kfold_idx = list(set(after_idx).union(set(before_idx)))\n",
    "        \n",
    "        print j0,j1,len(kfold_idx),len(not_kfold_idx)\n",
    "        kf.append([kfold_idx,not_kfold_idx])\n",
    "    \n",
    "    return kf,filtered_pairs\n",
    "    "
   ]
  },
  {
   "cell_type": "code",
   "execution_count": null,
   "metadata": {
    "collapsed": true
   },
   "outputs": [],
   "source": [
    "def reset_years(paired_times,indices,dates_df,df,cols_to_alter = ['Age_years','Tenure_years']):\n",
    "    # calc the Age at beginnning of time period\n",
    "    ## now calculate age at hire\n",
    "    reset_age_tdelta = pd.to_datetime(paired_times[0])-dates_df['birth_tstmp']#)/np.timedelta64(1,'D')\n",
    "    reset_tenure_tdelta = pd.to_datetime(paired_times[0])-dates_df['hire_tstmp']#)/np.timedelta64(1,'D')\n",
    "    # convert to days, months or years\n",
    "    reset_age = reset_age_tdelta/np.timedelta64(1,'Y')\n",
    "    reset_tenure = reset_tenure_tdelta/np.timedelta64(1,'Y')\n",
    "    # look at terminated or not\n",
    "    #empl_df['terminated']= 0\n",
    "    \n",
    "    \n",
    "    return reset_age,reset_tenure\n"
   ]
  },
  {
   "cell_type": "code",
   "execution_count": null,
   "metadata": {
    "collapsed": true
   },
   "outputs": [],
   "source": [
    "def define_target_within_x_years(dates_df,df,paired_dates,tfold,n_years,target_col):\n",
    "    print len(tfold)#, paired_dates\n",
    "\n",
    "    df_dict = {}\n",
    "    for i,tf in enumerate(tfold):\n",
    "        start_date = paired_dates[i][0]\n",
    "        end_date = paired_dates[i][1]\n",
    "        print start_date,end_date,n_years\n",
    "        #altered_fold_df = pd.DataFrame(columns=['fold_mbr','adj_age','adj_tenure','adj_term'])\n",
    "        # if in the fold reset the age to start of fold; define new window of termination\n",
    "        in_fold_idx = tfold[i][0]\n",
    "        # note that \"sex\" is just used to create a value that then gets dummied out\n",
    "        cols_to_copy = ['Male','Age_years','Tenure_years']\n",
    "        cols_to_copy.append(target_col)\n",
    "        #altered_fold_df= df[['SEX','Age_years','Tenure_years','terminated']].copy()\n",
    "        altered_fold_df = df[cols_to_copy].copy()\n",
    "        # adjust these\n",
    "        altered_fold_df.columns=['fold_mbr','adj_age','adj_tenure','adj_term']\n",
    "        altered_fold_df.fold_mbr = 0\n",
    "\n",
    "        ra,rt = reset_years(paired_dates,in_fold_idx,dates_df,df)\n",
    "        altered_fold_df.ix[in_fold_idx]['adj_age']=ra\n",
    "        altered_fold_df.ix[in_fold_idx]['adj_tenure']=rt\n",
    "        new_term = (dates_df.ix[in_fold_idx]['term_tstmp']<= end_date).as_matrix().astype(np.int)\n",
    "        # deal with last time-fold specially\n",
    "        if i == len(tfold)-1:\n",
    "            new_term = (dates_df.ix[in_fold_idx]['term_tstmp']< end_date).as_matrix().astype(np.int)\n",
    "        #print \"\\t\", len(new_term),sum(new_term)\n",
    "        altered_fold_df.loc[in_fold_idx,'adj_term']=new_term\n",
    "        altered_fold_df.loc[in_fold_idx,'fold_mbr']=1\n",
    "        df_dict[i]=altered_fold_df\n",
    "    # now append this to a larger panel\n",
    "    tfold_panel = pd.Panel.from_dict(data =df_dict)\n",
    "    return tfold_panel"
   ]
  },
  {
   "cell_type": "code",
   "execution_count": null,
   "metadata": {
    "collapsed": false
   },
   "outputs": [],
   "source": [
    "full_date_range = [str(a)+'-01-01' for a in np.arange(2002,2016)]\n",
    "print len(full_date_range)"
   ]
  },
  {
   "cell_type": "code",
   "execution_count": null,
   "metadata": {
    "collapsed": true
   },
   "outputs": [],
   "source": [
    "import itertools"
   ]
  },
  {
   "cell_type": "code",
   "execution_count": null,
   "metadata": {
    "collapsed": true
   },
   "outputs": [],
   "source": [
    "def setup_tfold_models(myX,dates,yr_val,cols_of_interest,tgt_value='terminated',date_range=full_date_range):\n",
    "    # create the folds\n",
    "    yr_tfolds,yr_times = create_temporal_kfolds(dates,date_range,yr_val)\n",
    "    # create the panels (offset)\n",
    "    myPanel = define_target_within_x_years(dates,myX,yr_times,yr_tfolds,yr_val,tgt_value)\n",
    "    # create the tfold training sets\n",
    "    #[(a,emBuild.ix[five_yr_tfolds[a][0]].terminated.sum()) for a in xrange(0,9)]\n",
    "    Xfold = np.zeros((len(myX),len(cols_of_interest)+2,len(yr_tfolds)))\n",
    "    ## So now\n",
    "    yfold = []\n",
    "    for i in xrange(0,len(yr_tfolds)):\n",
    "        Xfold[:,:-2,i]=myX[cols_of_interest].as_matrix().astype(np.float)\n",
    "        Xfold[:,-2:,i]=myPanel[i][['adj_age','adj_tenure']]\n",
    "        my_y=myPanel[i][['adj_term']].as_matrix().astype(np.int)\n",
    "        yfold.append(my_y)\n",
    "    \n",
    "    return yr_tfolds, yr_times, myPanel, Xfold, yfold\n",
    "        "
   ]
  },
  {
   "cell_type": "markdown",
   "metadata": {},
   "source": [
    "## build t_fold models"
   ]
  },
  {
   "cell_type": "code",
   "execution_count": null,
   "metadata": {
    "collapsed": false
   },
   "outputs": [],
   "source": [
    "tfold5,tfold5_times,panel5term,X5fold,y5fold = setup_tfold_models(X,emBuild_dates,5,model_columns)"
   ]
  },
  {
   "cell_type": "code",
   "execution_count": null,
   "metadata": {
    "collapsed": true
   },
   "outputs": [],
   "source": [
    "from sklearn import ensemble"
   ]
  },
  {
   "cell_type": "code",
   "execution_count": 158,
   "metadata": {
    "collapsed": false
   },
   "outputs": [
    {
     "data": {
      "text/plain": [
       "9"
      ]
     },
     "execution_count": 158,
     "metadata": {},
     "output_type": "execute_result"
    }
   ],
   "source": [
    "len(tfold5)"
   ]
  },
  {
   "cell_type": "code",
   "execution_count": 159,
   "metadata": {
    "collapsed": false
   },
   "outputs": [
    {
     "data": {
      "text/plain": [
       "225000"
      ]
     },
     "execution_count": 159,
     "metadata": {},
     "output_type": "execute_result"
    }
   ],
   "source": [
    "50*9*500"
   ]
  },
  {
   "cell_type": "code",
   "execution_count": null,
   "metadata": {
    "collapsed": true
   },
   "outputs": [],
   "source": [
    "#\n",
    "def adjust_eval_by_x_years(df,df_dates,year_val,modeling_columns,target_col='terminated'):\n",
    "    # construct\n",
    "  \n",
    "    ## set up method to assess the eval set\n",
    "    print \"There are {0} elements in the evaluation set\".format(len(df))\n",
    "   \n",
    "    print \"original target variable value counts:\", df[target_col].value_counts()\n",
    "    # restructure to deal with time_frame retirement (target variable)\n",
    "    yr_cut_val = year_val+0.5\n",
    "    # index of those that actually accomplish target within timeframe (allow 0.5 additional years)\n",
    "    eval_within_time_target_index = df[(df[target_col]==1) & (df.Tenure_years <= yr_cut_val)].index\n",
    "    # exclude indices that are active and have tenure less than this time\n",
    "    eval_excluded_index = df[(df[target_col]==0) & (df.Tenure_years  <= yr_cut_val)].index\n",
    "    \n",
    "    # the rest become my not-terminated set\n",
    "    eval_active_index = set(df.index) - set(eval_within_time_target_index) - set(eval_excluded_index)\n",
    "    print len(eval_excluded_index),len(eval_within_time_target_index), len(eval_active_index)\n",
    "    eval_idx_to_use =df.ix[set(df.index)-set(eval_excluded_index)].index\n",
    "    #len(eval_idx_to_use)\n",
    "    # reset the termination to 0 for active\n",
    "    eval_new_target = df[target_col].copy()\n",
    "    eval_new_target.ix[eval_active_index] = 0\n",
    "    print \"new target variable value counts: \"\n",
    "    print eval_new_target.ix[eval_idx_to_use].value_counts()\n",
    "    print \"_____\"\n",
    "    y_eval = eval_new_target.ix[eval_idx_to_use].as_matrix().astype(np.int) # true values\n",
    "    eval_adj_tenure = df.ix[eval_idx_to_use].Tenure_years.apply(lambda x: x-year_val if (x>float(year_val)) else 0).values\n",
    "    print len(eval_adj_tenure), len(y_eval)\n",
    "    # now adjust age by length of time; use hire_age if not in set to use.\n",
    "    eval_adj_age = df.ix[eval_idx_to_use].Age_years.apply(lambda x: x-year_val)\n",
    "    eval_adj_age.ix[eval_within_time_target_index] = df_dates['hire_age']\n",
    "    \n",
    "    # construct the evaluation X matrix\n",
    "    print \"input matrix has {0} features\".format(len(modeling_columns)+2)\n",
    "    Xeval = np.zeros((len(eval_idx_to_use),len(modeling_columns)+2))\n",
    "    Xeval[:,:-2] = df.ix[eval_idx_to_use][modeling_columns].as_matrix().astype(np.float)\n",
    "    # now put the adjusted tenure and ages into this matrix\n",
    "    Xeval[:,-2] = eval_adj_age.values\n",
    "    Xeval[:,-1]=eval_adj_tenure\n",
    "    #print len(modeling_columns),np.shape(Xeval)\n",
    "    return Xeval, y_eval\n",
    "\n",
    "\n",
    "## now apply each model to my eval set\n",
    "def evaluate_models(model_list,Xeval):\n",
    "    eval_pred_class = np.zeros((len(Xeval),len(model_list)))\n",
    "    eval_pred_proba = np.zeros((len(Xeval),2,len(model_list)))\n",
    "\n",
    "    for i,mdl in enumerate(model_list):\n",
    "        eval_proba = mdl.predict_proba(Xeval)\n",
    "        eval_pred_class[:,i]=mdl.predict(Xeval)\n",
    "        eval_pred_proba[:,:,i]=eval_proba\n",
    "    #print np.shape(eval_prediction_proba3)\n",
    "    return eval_pred_class, eval_pred_proba"
   ]
  },
  {
   "cell_type": "code",
   "execution_count": null,
   "metadata": {
    "collapsed": false
   },
   "outputs": [],
   "source": [
    "Xeval = emEval.copy()\n",
    "#fixout=br.FixNumericOutlier(columns_to_fix=['ANNUAL_RT','MIN_RT_ANNUAL'], criteria_coef=('percentile', 10), \n",
    "#                            method = 'lower', fill_with='nearest_value')\n",
    "                            \n",
    "X1b = fixout.fit(X).transform(Xeval)\n",
    "print X1b['ANNUAL_RT'].describe()\n",
    "Xeval[['mod_annual_rt','mod_min_rt_annual']]=X1b[['ANNUAL_RT','MIN_RT_ANNUAL']]\n",
    "#fixout_max = br.FixNumericOutlier(columns_to_fix=['MAX_RT_ANNUAL'], criteria_coef=('percentile', 10), \n",
    "#                            method = 'both', fill_with='nearest_value')\n",
    "X1b = fixout_max.fit(X).transform(Xeval)\n",
    "Xeval['mod_max_rt_annual']=X1b['MAX_RT_ANNUAL']"
   ]
  },
  {
   "cell_type": "code",
   "execution_count": null,
   "metadata": {
    "collapsed": true
   },
   "outputs": [],
   "source": [
    "#imp = br.ImputeData(method='median', columns_to_impute=cols_with_missing_numeric, impute_inf=False, keep_dummies=False)\n",
    "X1b = imp.fit(X).transform(Xeval)\n",
    "Xeval[cols_with_missing_numeric]=X1b[cols_with_missing_numeric]"
   ]
  },
  {
   "cell_type": "code",
   "execution_count": null,
   "metadata": {
    "collapsed": false
   },
   "outputs": [],
   "source": [
    "X5eval, y5eval = adjust_eval_by_x_years(Xeval,emEval_dates,5,model_columns,target_col='terminated')"
   ]
  },
  {
   "cell_type": "code",
   "execution_count": null,
   "metadata": {
    "collapsed": true
   },
   "outputs": [],
   "source": [
    "eval_pred_class5,eval_pred_proba5 = evaluate_models(five_rf_mdl,X5eval)"
   ]
  },
  {
   "cell_type": "code",
   "execution_count": null,
   "metadata": {
    "collapsed": true
   },
   "outputs": [],
   "source": [
    "from sklearn import metrics"
   ]
  },
  {
   "cell_type": "code",
   "execution_count": null,
   "metadata": {
    "collapsed": false
   },
   "outputs": [],
   "source": [
    "plot_conf_matrix(y5eval,map(np.int,eval_pred_class5.mean(axis=1)))"
   ]
  },
  {
   "cell_type": "code",
   "execution_count": null,
   "metadata": {
    "collapsed": false
   },
   "outputs": [],
   "source": [
    "plot_conf_matrix(y5eval,map(np.int,eval_pred_class5.mean(axis=1)),normed=False)"
   ]
  },
  {
   "cell_type": "code",
   "execution_count": null,
   "metadata": {
    "collapsed": false
   },
   "outputs": [],
   "source": [
    "#plot_roc_curve(y3eval,eval_prediction_proba3[:,])\n",
    "plot_roc_curve(y5eval,eval_pred_proba5[:,:,:].mean(axis=2))\n",
    "plt.ylim([0,1.01])"
   ]
  },
  {
   "cell_type": "markdown",
   "metadata": {
    "collapsed": true
   },
   "source": [
    "## begin to explore the factors"
   ]
  },
  {
   "cell_type": "code",
   "execution_count": null,
   "metadata": {
    "collapsed": true
   },
   "outputs": [],
   "source": [
    "# function to push feature_importances for a set of RF models into a dataframe\n",
    "def create_fi_df(mdl_list,feature_names):\n",
    "    list_feature_importances = []\n",
    "    col_list = []\n",
    "    for i,mdl in enumerate(mdl_list):\n",
    "        list_feature_importances.append(plotFI(mdl,feature_names,show_plot=False))\n",
    "        col_list.append('fold'+str(i)+'_value')\n",
    "        col_list.append('fold'+str(i)+'_std')\n",
    "\n",
    "    fi_df = pd.concat(list_feature_importances,axis=1)\n",
    "    # create column headings\n",
    "    fi_df.columns = col_list\n",
    "    # create the average of the values\n",
    "    value_cols = [x for x in col_list if x.endswith('value')]\n",
    "    \n",
    "    fi_df['avg_val']=fi_df[value_cols].mean(axis=1)\n",
    "    fi_df['avg_variance']=fi_df[value_cols].std(axis=1)\n",
    "#t2_eval_fi_df[['avg_val','avg_std']].sort('avg_val',ascending=False)\n",
    "    return fi_df\n",
    "\n",
    "def plotFI(forest,featureNames=[],show_plot=True):#,autoscale=True,headroom=0.05):\n",
    "    \"\"\"\n",
    "    forest is the model to be graphed.\n",
    "    featureNames is the list of features to be displayed\n",
    "    \n",
    "    \"\"\"\n",
    "    #if autoscale:\n",
    "    #    x_scale = forest.feature_importances_.max()+ headroom\n",
    "    #else:\n",
    "    #    x_scale = 1\n",
    "    \n",
    "    featureImportances=forest.feature_importances_\n",
    "    # sort the importances from biggest to least\n",
    "    indices = np.argsort(featureImportances)[::-1]\n",
    "    estimators = forest.estimators_\n",
    "    # calculate the variance over the forest \n",
    "    \n",
    "    std = np.std([tree.feature_importances_ for tree in estimators],axis=0)\n",
    "    # print summary statement\n",
    "    nfeatures = len(featureImportances)\n",
    "    print(\"Number of Features: %d\" % (nfeatures))\n",
    "    print(\"Number of Trees: %d\" %(len(estimators)))\n",
    "    \n",
    "    #print featureNames\n",
    "    if len(featureNames)==0:\n",
    "        featureNames = map(str,indices)\n",
    "    \n",
    "    fN2 = [featureNames[a] for a in indices]\n",
    "    print(\"Feature ranking:\")\n",
    "\n",
    "    for f in range(len(indices)):\n",
    "        print(\"%d. feature %d=%s (%f)\" % (f + 1, indices[f], featureNames[indices[f]],featureImportances[indices[f]]))\n",
    "\n",
    "    # Plot the feature importances of the forest\n",
    "    # define a cutoff in terms of feature_importance\n",
    "    if nfeatures <= 30:\n",
    "        kfeatures = nfeatures # keep all if smaller than 30\n",
    "    else:\n",
    "        kfeatures = 30\n",
    "        \n",
    "    kindices = indices[:kfeatures]\n",
    "    if show_plot:\n",
    "        plt.title(\"Feature importances\")\n",
    "        plt.barh(range(len(kindices)), featureImportances[kindices],\n",
    "           color=\"steelblue\", xerr=std[kindices], align=\"center\",ecolor='k')#,lw=2)\n",
    "    \n",
    "        plt.yticks(range(len(kindices)),fN2)\n",
    "        #grid(True)\n",
    "    \n",
    "    c1 = 'value'\n",
    "    c2 = 'std'\n",
    "    tdata = np.vstack([featureImportances[indices],std[indices]])\n",
    "    df = pd.DataFrame(data = tdata.T,index=fN2,columns=[c1,c2])\n",
    "    return df\n",
    "    "
   ]
  },
  {
   "cell_type": "code",
   "execution_count": null,
   "metadata": {
    "collapsed": false
   },
   "outputs": [],
   "source": [
    "print len(five_rf_mdl[0].feature_importances_), len(model_columns)\n",
    "feature_names1 = [a for a in model_columns]\n",
    "feature_names1.append('adj_age')\n",
    "feature_names1.append('adj_tenure')\n"
   ]
  },
  {
   "cell_type": "code",
   "execution_count": null,
   "metadata": {
    "collapsed": false
   },
   "outputs": [],
   "source": [
    "fiveRFmdl_fidf = create_fi_df(five_rf_mdl,feature_names1)"
   ]
  },
  {
   "cell_type": "code",
   "execution_count": null,
   "metadata": {
    "collapsed": false
   },
   "outputs": [],
   "source": [
    "from StringIO import StringIO\n",
    "from sklearn import tree\n",
    "out = StringIO()\n",
    "out = tree.export_graphviz(five_rf_mdl[0].estimators_[0], out_file=out)\n"
   ]
  },
  {
   "cell_type": "code",
   "execution_count": null,
   "metadata": {
    "collapsed": false
   },
   "outputs": [],
   "source": []
  },
  {
   "cell_type": "code",
   "execution_count": null,
   "metadata": {
    "collapsed": true
   },
   "outputs": [],
   "source": []
  },
  {
   "cell_type": "code",
   "execution_count": null,
   "metadata": {
    "collapsed": true
   },
   "outputs": [],
   "source": []
  },
  {
   "cell_type": "markdown",
   "metadata": {},
   "source": [
    "### so 52 of 164 columns have missing values still. Work on Correcting these.\n",
    "#### some logic:\n",
    "* if it is a count (like ADDRCNT*) set missing to -1\n",
    "\n",
    "* if it is a performance assessment (like BOX*) set to 0; L will become 1, S will become 2, H will become 3.\n",
    "* if it is a float (like MERIT*, PERF*, ...) try to reassign by imputation.\n",
    "* assign a value:\n",
    "    * if 'HAVE_INS' or 'HAVE_DEP' assign 0, 0 to values\n",
    "    * if LOC_STATE or GRADE or JOB_FAMILY or JOB_FUNCTION or LOC_TYPE_DESCR_SFI assign to XX*"
   ]
  },
  {
   "cell_type": "code",
   "execution_count": null,
   "metadata": {
    "collapsed": true
   },
   "outputs": [],
   "source": [
    "chg_to_zero_cols = ['BOX1','BOX2','BOX3','BOX4','BOX5','BOX6','BOX7','BOX8','BOX9','BOX10']\n",
    "#['HAVE_INS','HAVE_DEP','DEP_COUNT','BOX1','BOX2','BOX3','BOX4','BOX5','BOX6','BOX7','BOX8','BOX9','BOX10']\n",
    "chg_to_neg_one_cols = ['ADDRCNT1','ADDRCNT3','ADDRCNT5','ADDRCNT10',\n",
    "                           'DIRECT_RPT_CNT', 'DIVISION_CODE_SFI','EXTFUNC_CNT','FUNC_CNT','TOTAL_RPT_CNT']\n",
    "                          \n",
    "chg_to_MISSING_cols = ['ACTRES1','ACTRES2','ACTRES3','ACTRES4','ACTRES5','ACTRES6','ACTRES7','ACTRES8','ACTRES9','ACTRES10',\n",
    "                      'ADDRESS1','JOB_FAMILY','LOC_CITY','LOC_TYPE_DESCR_SFI','SKEY',\n",
    "                      'RATE1', 'RATE10', 'RATE2', 'RATE3', 'RATE4', 'RATE5', 'RATE6', 'RATE7', 'RATE8', 'RATE9',]\n",
    "#chg_to_MISSING =['ACTRES1','ACTRES2','ADDRESS1','JOB_FAMILY', 'LOC_CITY','LOC_TYPE_DESCR_SFI']#'POSTAL_SFI',\n",
    "chg_to_00000 = ['EXT_FUNC_ID_SFI','FUNC_ID_SFI']#,'zip5']\n",
    "chg_to_XXX = ['GRADE','JOB_FUNCTION']\n",
    "chg_to_XX = ['LOC_STATE']\n",
    "col_to_drop = ['STATE','ADDRESS2','MAR_STATUS_DT'] # drop 'STATE'; some strange values; 'address2 x_missing too high'"
   ]
  },
  {
   "cell_type": "code",
   "execution_count": null,
   "metadata": {
    "collapsed": true
   },
   "outputs": [],
   "source": [
    "## map some categorical to their values"
   ]
  },
  {
   "cell_type": "code",
   "execution_count": null,
   "metadata": {
    "collapsed": true
   },
   "outputs": [],
   "source": []
  },
  {
   "cell_type": "code",
   "execution_count": null,
   "metadata": {
    "collapsed": true
   },
   "outputs": [],
   "source": []
  },
  {
   "cell_type": "code",
   "execution_count": null,
   "metadata": {
    "collapsed": true
   },
   "outputs": [],
   "source": [
    "empl"
   ]
  },
  {
   "cell_type": "code",
   "execution_count": null,
   "metadata": {
    "collapsed": true
   },
   "outputs": [],
   "source": [
    "## restrict "
   ]
  },
  {
   "cell_type": "markdown",
   "metadata": {},
   "source": [
    "## Remove extraneous columns\n",
    "* historical ones\n",
    "* PER_ORG (all the same)\n",
    "* addresses\n",
    "* SAL1 == ANNUAL_RT\n",
    "## Actually the better option is to just extract the desired columns and do the modeling on these"
   ]
  },
  {
   "cell_type": "code",
   "execution_count": null,
   "metadata": {
    "collapsed": true
   },
   "outputs": [],
   "source": [
    "history_to_omit = ['ADDRCNT10','ADDRCNT3','ADDRCNT5','DEPTCNT10','DEPTCNT3','DEPTCNT5',\n",
    "                   'EFUNCCNT10','EFUNCCNT3','EFUNCCNT5','FLOORCNT10','FLOORCNT3','FLOORCNT5',\n",
    "                  'FTPTCNT10','FTPTCNT3','FTPTCNT5','FULLPART10','FULLPART3','FULLPART5',\n",
    "                  'FUNCCNT10','FUNCCNT3','FUNCCNT5','GRADECNT10','GRADECNT3','GRADECNT5',\n",
    "                  'JOBCNT10','JOBCNT3','JOBCNT5','LOCCNT10','LOCCNT3','LOCCNT5','LOCSTCNT10','LOCSTCNT3','LOCSTCNT5',\n",
    "                  'PARTFULL10','PARTFULL3','PARTFULL5','PTFTCNT10','PTFTCNT3','PTFTCNT5',\n",
    "                   'SUPVCNT10','SUPVCNT3','SUPVCNT5','SAL10','SAL9','SAL8','SAL7','SAL6','SAL5','SAL4','SAL3',\n",
    "                   'SAL2','MERIT2','MERIT3','MERIT4','MERIT5','MERIT6','MERIT7','MERIT8','MERIT9','MERIT10',\n",
    "                    'PERF2','PERF3','PERF4','PERF5','PERF6','PERF7','PERF8','PERF9','PERF10']"
   ]
  },
  {
   "cell_type": "code",
   "execution_count": null,
   "metadata": {
    "collapsed": true
   },
   "outputs": [],
   "source": [
    "# add the ACTRES2/3 and ADDRESS1/2 lines\n",
    "# add *_tdelta, BIRTHDATE, PER_ORG\n",
    "# add POSTAL_SFI, zip5, MAR_STA_SNAME_SFI, LOC_TYPE_DESC_SFI\n",
    "others_to_omit = ['ADDRESS1','Age_tdelta','BIRTHDATE','LAST_HIRE_DT',\n",
    "                  'LOC_CITY','LOC_TYPE_DESCR_SFI','MAR_STATUS_DT','MAR_STA_SNAME_SFI',\n",
    "                  'PER_ORG','POSTAL_SFI','SKEY','SERVICE_DT','TERMINATION_DT',\n",
    "                  'Tenure_tdelta','zip5']#'TOT_MO_SERVICE_SFI','Tenure_months']\n",
    "                 #'MERIT1','MERIT2','MERIT3','MERIT4','MERIT5','MERIT6','MERIT7','MERIT8','MERIT9','MERIT10',\n",
    "                 #'PERF1','PERF2','PERF3','PERF4','PERF5','PERF6','PERF7','PERF8','PERF9','PERF10']\n",
    "history_to_omit = ['ADDRCNT10','ADDRCNT3','ADDRCNT5','DEPTCNT10','DEPTCNT3','DEPTCNT5',\n",
    "                   'EFUNCCNT10','EFUNCCNT3','EFUNCCNT5','FLOORCNT10','FLOORCNT3','FLOORCNT5',\n",
    "                  'FTPTCNT10','FTPTCNT3','FTPTCNT5','FULLPART10','FULLPART3','FULLPART5',\n",
    "                  'FUNCCNT10','FUNCCNT3','FUNCCNT5','GRADECNT10','GRADECNT3','GRADECNT5',\n",
    "                  'JOBCNT10','JOBCNT3','JOBCNT5','LOCCNT10','LOCCNT3','LOCCNT5','LOCSTCNT10','LOCSTCNT3','LOCSTCNT5',\n",
    "                  'PARTFULL10','PARTFULL3','PARTFULL5','PTFTCNT10','PTFTCNT3','PTFTCNT5',\n",
    "                   'SUPVCNT10','SUPVCNT3','SUPVCNT5','ACTRES2','SAL10','SAL9','SAL8','SAL7','SAL6','SAL5','SAL4','SAL3',\n",
    "                   'SAL2','MERIT2','MERIT3','MERIT4','MERIT5','MERIT6','MERIT7','MERIT8','MERIT9','MERIT10',\n",
    "                    'PERF2','PERF3','PERF4','PERF5','PERF6','PERF7','PERF8','PERF9','PERF10']\n",
    "cols_to_categorical = ['COMPANY','COMP_FREQUENCY','DIVISION_CODE_SFI','EEO1CODE','EMPL_CLASS','EMPL_TYPE','ETHNIC_GROUP',\n",
    "                       'FLSA_STATUS','FULLPART1','FULL_PART_TIME','GRADE','HUBIND','INTERN','JOB_FUNCTION','RELOCATE_ALL_SFI',\n",
    "                       'REMOTE','REMOTE_SUPV','SEX','SHIFT','SUPV_DIFF_LOC','VOLINVOL','status']\n",
    "for col in others_to_omit:\n",
    "    columns_to_omit.append(col)\n",
    "\n",
    "for col in history_to_omit:\n",
    "    columns_to_omit.append(col)\n",
    "    \n",
    "print len(columns_to_omit),len(cols_to_categorical)"
   ]
  },
  {
   "cell_type": "markdown",
   "metadata": {
    "collapsed": true
   },
   "source": [
    "## READ the data June 10, 2015\n",
    "* use employee_dataframe8.tsv --> contains text fields including dates for HIRE_DT..\n",
    "* use employee_df_[1,2].csv --> contains just numeric data.\n",
    "    - employee_df_1 has 180 columns:\n",
    "        + Historical data there \n",
    "        + max value of EXT_FUNC_ID_SFI and FUNC_ID_SFI (represents missing ) changed to 2000.\n",
    "        + median values used to fill missing values for float columns\n",
    "        + COMPANY dropped\n",
    "        + 'LOC_TYPE_DESCR_SFI','GRADE','LOC_STATE','JOB_FAMILY' label encoded\n",
    "        + ANNUAL_RT droped in lieu of SAL1\n",
    "        + BOX* kept; RATE*  dropped\n",
    "        + PTFTCNT* kept; PARTFULL dropped\n",
    "        + FTCNT* kept; FULLPART dropped\n",
    "    - keep only the most recent historical data"
   ]
  },
  {
   "cell_type": "code",
   "execution_count": null,
   "metadata": {
    "collapsed": true
   },
   "outputs": [],
   "source": []
  },
  {
   "cell_type": "code",
   "execution_count": null,
   "metadata": {
    "collapsed": false
   },
   "outputs": [],
   "source": [
    "# omit those that have more than 25% missing:\n",
    "missing_threshold = 0.25\n",
    "columns_to_omit = list(sdf[sdf['x_missing'] > missing_threshold].Column.values)\n",
    "print len(columns_to_omit)\n",
    "print columns_to_omit"
   ]
  },
  {
   "cell_type": "code",
   "execution_count": null,
   "metadata": {
    "collapsed": true
   },
   "outputs": [],
   "source": []
  },
  {
   "cell_type": "code",
   "execution_count": null,
   "metadata": {
    "collapsed": false
   },
   "outputs": [],
   "source": []
  },
  {
   "cell_type": "code",
   "execution_count": null,
   "metadata": {
    "collapsed": true
   },
   "outputs": [],
   "source": []
  },
  {
   "cell_type": "markdown",
   "metadata": {},
   "source": [
    "## Construct a simple DataFrame of employee dates using Timestamps"
   ]
  },
  {
   "cell_type": "code",
   "execution_count": null,
   "metadata": {
    "collapsed": false
   },
   "outputs": [],
   "source": []
  },
  {
   "cell_type": "code",
   "execution_count": null,
   "metadata": {
    "collapsed": true
   },
   "outputs": [],
   "source": []
  },
  {
   "cell_type": "code",
   "execution_count": null,
   "metadata": {
    "collapsed": true
   },
   "outputs": [],
   "source": [
    "## Let me return to removing columns I don't want\n",
    "* keep "
   ]
  },
  {
   "cell_type": "code",
   "execution_count": null,
   "metadata": {
    "collapsed": false
   },
   "outputs": [],
   "source": [
    "\n",
    "columns_to_remove = ['']"
   ]
  },
  {
   "cell_type": "code",
   "execution_count": null,
   "metadata": {
    "collapsed": true
   },
   "outputs": [],
   "source": [
    "from sklearn.base import BaseEstimator, TransformerMixin\n",
    "from sklearn.pipeline import Pipeline\n",
    "from sklearn.pipeline import FeatureUnion"
   ]
  },
  {
   "cell_type": "code",
   "execution_count": null,
   "metadata": {
    "collapsed": true
   },
   "outputs": [],
   "source": []
  },
  {
   "cell_type": "code",
   "execution_count": null,
   "metadata": {
    "collapsed": true
   },
   "outputs": [],
   "source": [
    "pipeline = Pipeline([(\"DF_Converter\", br.DataFrameConverter(columns=X.columns)),\n",
    "                     (\"Cat_Converter\", br.ConvertCategorical(categorical_columns=categorical_columns)),\n",
    "                     (\"Impute\", br.ImputeData()),\n",
    "                     (\"clf\", RandomForestClassifier(n_jobs=50))])\n",
    "pipeline.fit(X, y)\n",
    "pipeline.predict_proba(X_2014_validation)"
   ]
  },
  {
   "cell_type": "markdown",
   "metadata": {},
   "source": [
    "## Add/replace some relevant columns to this dataframe\n",
    "* POSTAL_SFI --> zip5 \n",
    "* unempl_rate by joining on unemployment\n",
    "* Age_hire\n",
    "* terminated \n",
    "* sep_status\n",
    "\n",
    "use a parallel dataframe for dates/timestamps"
   ]
  },
  {
   "cell_type": "code",
   "execution_count": null,
   "metadata": {
    "collapsed": true
   },
   "outputs": [],
   "source": [
    "class ColumnSelector(TransformerMixin):\n",
    "    \"\"\" Selects column(s) from a pandas DataFrame\n",
    "    \"\"\"\n",
    "    def __init__(self,cols):\n",
    "        self.cols = cols\n",
    "    def tranform(self, X, y=None):\n",
    "        return X[:,self.cols]\n",
    "    def fit(self, X, y=None):\n",
    "        return self\n",
    "    "
   ]
  },
  {
   "cell_type": "code",
   "execution_count": null,
   "metadata": {
    "collapsed": true
   },
   "outputs": [],
   "source": [
    "## Per discussion with HR COE team decide to truncate data after a particular date\n"
   ]
  },
  {
   "cell_type": "code",
   "execution_count": null,
   "metadata": {
    "collapsed": true
   },
   "outputs": [],
   "source": [
    "emSets = []\n",
    "date_list =['1994-01-01','1998-01-01','2002-01-01','2006-01-01']\n",
    "print len(empl_df)\n",
    "for date0 in date_list:\n",
    "    my_em = empl_df.ix[emplfull.TERMINATION_DT>=date0].copy()\n",
    "    emSets.append(my_em)\n",
    "    print date0, len(my_em)\n",
    "    print '----\\n', my_em.status.value_counts()"
   ]
  },
  {
   "cell_type": "code",
   "execution_count": null,
   "metadata": {
    "collapsed": true
   },
   "outputs": [],
   "source": [
    "empl_dates=pd.DataFrame()\n",
    "empl_dates[['hire_tstmp','term_tstmp','birth_tstmp']] = emplfull[['HIRE_DT','TERMINATION_DT','BIRTHDATE']].apply(lambda x: pd.to_datetime(x))\n",
    "empl_dates[['hire_year','term_year','birth_year']]= empl_dates[['hire_tstmp','term_tstmp','birth_tstmp']].apply(lambda x: x.dt.year)\n",
    "empl_dates.head()"
   ]
  },
  {
   "cell_type": "markdown",
   "metadata": {},
   "source": [
    "### Helper Functions Follow\n",
    "* Most taken from ```bear.py```\n",
    "* "
   ]
  },
  {
   "cell_type": "code",
   "execution_count": null,
   "metadata": {
    "collapsed": true
   },
   "outputs": [],
   "source": []
  },
  {
   "cell_type": "code",
   "execution_count": null,
   "metadata": {
    "collapsed": false
   },
   "outputs": [],
   "source": [
    "## bear.py \n",
    "from sklearn.base import BaseEstimator, TransformerMixin\n",
    "\n",
    "class ConvertCategorical(BaseEstimator, TransformerMixin):\n",
    "    def __init__(self, categorical_columns, method='factorize'):\n",
    "        \"\"\"\n",
    "        method: factorize, value_counts, group_means\n",
    "        \"\"\"\n",
    "        self.method = method\n",
    "        self.categorical_columns = categorical_columns\n",
    "        self.map_values = {}\n",
    "    \n",
    "    def fit(self, X, y=None):\n",
    "        for col in self.categorical_columns:\n",
    "            if col in X.columns:\n",
    "                if self.method == 'factorize':           \n",
    "                    map_values = X[col].unique() # Can sample data here for speed\n",
    "                    self.map_values[col] = {key: index for index, key in enumerate(map_values)}                 \n",
    "                elif self.method == 'value_counts':\n",
    "                    self.map_values[col] = dict(X[col].value_counts())\n",
    "                elif self.method == 'group_means':\n",
    "                    self.map_values[col] = dict(pd.crosstab(X[col], y).apply(lambda x: x[1]/float(x.sum()), axis=1))\n",
    "        return self\n",
    "        \n",
    "    def transform(self, X, y=None):\n",
    "        for col in self.categorical_columns:\n",
    "            if col in X.columns:\n",
    "                X[str(col)+\"_f\"] = X[col].map(self.map_values[col], 'ignore')\n",
    "        X = X[br.get_numeric(X)]\n",
    "        return X\n",
    "\n",
    "\n",
    "\n",
    "def graph_feature_importances(model, feature_names, autoscale=True, headroom=0.05, width=10, summarized_columns=None):\n",
    "    \"\"\"\n",
    "    Graphs the feature importances of a random decision forest using a horizontal bar chart. \n",
    "    Probably works but untested on other sklearn.ensembles.\n",
    "    \n",
    "    Parameters\n",
    "    ----------\n",
    "    ensemble = Name of the ensemble whose features you would like graphed.\n",
    "    feature_names = A list of the names of those featurs, displayed on the Y axis.\n",
    "    autoscale = True (Automatically adjust the X axis size to the largest feature +.headroom) / False = scale from 0 to 1\n",
    "    headroom = used with autoscale, .05 default\n",
    "    width=figure width in inches\n",
    "    summarized_columns = a list of column prefixes to summarize on, for dummy variables (e.g. [\"day_\"] would summarize all day_ vars\n",
    "    \"\"\"\n",
    "    \n",
    "    if autoscale:\n",
    "        x_scale = model.feature_importances_.max()+ headroom\n",
    "    else:\n",
    "        x_scale = 1\n",
    "    \n",
    "    feature_dict=dict(zip(feature_names, model.feature_importances_))\n",
    "    \n",
    "    if summarized_columns: \n",
    "        #some dummy columns need to be summarized\n",
    "        for col_name in summarized_columns: \n",
    "            #sum all the features that contain col_name, store in temp sum_value\n",
    "            sum_value = sum(x for i, x in feature_dict.iteritems() if col_name in i )  \n",
    "            \n",
    "            #now remove all keys that are part of col_name\n",
    "            keys_to_remove = [i for i in feature_dict.keys() if col_name in i ]\n",
    "            for i in keys_to_remove:\n",
    "                feature_dict.pop(i)\n",
    "            #lastly, read the summarized field\n",
    "            feature_dict[col_name] = sum_value\n",
    "        \n",
    "    results = pd.Series(feature_dict.values(), index=feature_dict.keys())\n",
    "    results.sort(axis=1)\n",
    "    results.plot(kind=\"barh\", figsize=(width,len(results)/4), xlim=(0,x_scale))\n",
    "\n",
    "    "
   ]
  },
  {
   "cell_type": "code",
   "execution_count": null,
   "metadata": {
    "collapsed": false
   },
   "outputs": [],
   "source": [
    "## read in the full dataset\n",
    "new_read_dict = {'KEY':np.str,'LOCATION':np.str,'EEO1CODE':np.str,'SKEY':np.str,'JOBCODE':np.str,'EMPL_CLASS':np.str, \n",
    "                        'COMPANY':np.str,'EXT_FUNC_ID_SFI':np.str,'FUNC_ID_SFI':np.str,\n",
    "                          'DIVISION_CODE_SFI':np.str,'JOB_FAMILY':np.str,'JOB_FUNCTION':np.str,'ACTRES1':np.str,\n",
    "                          'ACTRES2':np.str,'ACTRES3':np.str,'ACTRES4':np.str,'ACTRES5':np.str,'ACTRES6':np.str,\n",
    "                          'ACTRES7':np.str,'ACTRES8':np.str,'ACTRES9':np.str,'ACTRES10':np.str,'zip5':np.str}\n",
    "emplfull = pd.read_csv('employee_dataframe8.tsv',sep='\\t',dtype={'KEY':np.str,'SKEY':np.str,'zip5':np.str})#,dtype=new_read_dict)\n",
    "print emplfull.shape\n",
    "emplfull.head()"
   ]
  },
  {
   "cell_type": "code",
   "execution_count": null,
   "metadata": {
    "collapsed": true
   },
   "outputs": [],
   "source": [
    "# helper function\n",
    "## function to load into pandas from hdfs (by copying to local filespace)\n",
    "def pandas_read_hdfs(infile,**kwargs):\n",
    "    # copy the infile to the cwd\n",
    "    !hdfs dfs -get {infile} .\n",
    "    # identify the local file name\n",
    "    inname = infile[infile.rfind('/')+1:]\n",
    "    # read into a data frame\n",
    "    df = pd.read_csv(inname,**kwargs)\n",
    "    # clean up local filespace\n",
    "    !rm {inname}\n",
    "    return df"
   ]
  },
  {
   "cell_type": "markdown",
   "metadata": {},
   "source": [
    "## Note make sure you have run kinit before the following"
   ]
  },
  {
   "cell_type": "code",
   "execution_count": null,
   "metadata": {
    "collapsed": false
   },
   "outputs": [],
   "source": [
    "fnames = !hdfs dfs -ls {coredir}\n",
    "infilenames = [f.split()[-1] for f in fnames[1:]]\n",
    "print len(infilenames)\n",
    "print infilenames[0]\n"
   ]
  },
  {
   "cell_type": "markdown",
   "metadata": {},
   "source": [
    "## Load the absence (EAS) empl table"
   ]
  },
  {
   "cell_type": "code",
   "execution_count": null,
   "metadata": {
    "collapsed": true
   },
   "outputs": [],
   "source": [
    "empl_abs = pandas_read_hdfs(infilenames[0],sep=';')"
   ]
  },
  {
   "cell_type": "code",
   "execution_count": null,
   "metadata": {
    "collapsed": false
   },
   "outputs": [],
   "source": [
    "printall(empl_abs)"
   ]
  },
  {
   "cell_type": "code",
   "execution_count": null,
   "metadata": {
    "collapsed": false
   },
   "outputs": [],
   "source": [
    "describe_categorical(emplfull)"
   ]
  },
  {
   "cell_type": "code",
   "execution_count": null,
   "metadata": {
    "collapsed": false
   },
   "outputs": [],
   "source": [
    "emplfull[['HIRE_DT']].ix[:3].apply(lambda x: pd.to_datetime(x).dt.year)"
   ]
  },
  {
   "cell_type": "markdown",
   "metadata": {},
   "source": [
    "### Construct a simple DataFrame of employee dates using timestamps"
   ]
  },
  {
   "cell_type": "code",
   "execution_count": null,
   "metadata": {
    "collapsed": false
   },
   "outputs": [],
   "source": [
    "empl_dates=pd.DataFrame()\n",
    "empl_dates[['hire_tstmp','term_tstmp','birth_tstmp']] = emplfull[['HIRE_DT','TERMINATION_DT','BIRTHDATE']].apply(lambda x: pd.to_datetime(x))\n",
    "empl_dates[['hire_year','term_year','birth_year']]= empl_dates[['hire_tstmp','term_tstmp','birth_tstmp']].apply(lambda x: x.dt.year)\n",
    "empl_dates.head()"
   ]
  },
  {
   "cell_type": "code",
   "execution_count": null,
   "metadata": {
    "collapsed": false
   },
   "outputs": [],
   "source": [
    "describe_categorical(empl_dates)"
   ]
  },
  {
   "cell_type": "code",
   "execution_count": null,
   "metadata": {
    "collapsed": false
   },
   "outputs": [],
   "source": [
    "#get_numeric(empl_dates)\n",
    "#hist_of_numeric(empl_dates)\n",
    "     \n",
    "for c in get_numeric(empl_dates):     \n",
    "    empl_dates[c].hist(label=c,alpha=0.5)\n",
    "    plt.legend(loc=2)\n",
    "    \n"
   ]
  },
  {
   "cell_type": "markdown",
   "metadata": {},
   "source": [
    "## READ the data June 10, 2015\n",
    "* use employee_dataframe8.tsv --> contains text fields including dates for HIRE_DT..\n",
    "* use employee_df_[1,2].csv --> contains just numeric data.\n",
    "    - employee_df_1 has 180 columns:\n",
    "        + Historical data there \n",
    "        + max value of EXT_FUNC_ID_SFI and FUNC_ID_SFI (represents missing ) changed to 2000.\n",
    "        + median values used to fill missing values for float columns\n",
    "        + COMPANY dropped\n",
    "        + 'LOC_TYPE_DESCR_SFI','GRADE','LOC_STATE','JOB_FAMILY' label encoded\n",
    "        + ANNUAL_RT droped in lieu of SAL1\n",
    "        + BOX* kept; RATE*  dropped\n",
    "        + PTFTCNT* kept; PARTFULL dropped\n",
    "        + FTCNT* kept; FULLPART dropped\n",
    "    - keep only the most recent historical data"
   ]
  },
  {
   "cell_type": "code",
   "execution_count": null,
   "metadata": {
    "collapsed": false
   },
   "outputs": [],
   "source": [
    "empl_df = pd.read_csv('employee_df_1.csv')\n",
    "empl_df.drop('Unnamed: 0', axis=1,inplace=True)\n",
    "print empl_df.shape\n",
    "empl_df.head()"
   ]
  },
  {
   "cell_type": "code",
   "execution_count": null,
   "metadata": {
    "collapsed": true
   },
   "outputs": [],
   "source": [
    "## assign unemployement_rate\n",
    "empl_df['unempl_rate'] = emplfull.TERMINATION_DT.apply(lambda x: assign_unempl_rate(x,unempl))"
   ]
  },
  {
   "cell_type": "code",
   "execution_count": null,
   "metadata": {
    "collapsed": false
   },
   "outputs": [],
   "source": []
  },
  {
   "cell_type": "markdown",
   "metadata": {},
   "source": [
    "## Examine collinearity of these columns"
   ]
  },
  {
   "cell_type": "code",
   "execution_count": null,
   "metadata": {
    "collapsed": false,
    "scrolled": false
   },
   "outputs": [],
   "source": [
    "collinearity_empl_df = perfect_collinearity_test(empl_df)"
   ]
  },
  {
   "cell_type": "code",
   "execution_count": null,
   "metadata": {
    "collapsed": false
   },
   "outputs": [],
   "source": [
    "collinearity_empl_df.sort(ascending=False)\n",
    "collinearity_empl_df[collinearity_empl_df>0.95]"
   ]
  },
  {
   "cell_type": "markdown",
   "metadata": {},
   "source": [
    "### Let's begin with just a few columns and revisit this later to get the logic correct\n",
    "* further cleans-up the dataset\n",
    "    1. clean-up (remove) historical data\n",
    "    2. MOS data?\n",
    "    3. Try to encode survival value for some categorical variables\n",
    "        - JOB_FAMILY \n",
    "        - GRADE <-> grade_code\n",
    "        - JOB_FAMILY <-> job_fcode (not used/recognized by HR)\n",
    "        - JOBCODE <-> recast this into a form that has ordinal sense\n",
    "    4. Revist columns to keep/exclude:\n",
    "        - JOB FUNCTION IS categorical; 19 unique values\n",
    "        - job_fcode should be but is label encoded as integers; 1456 unique values\n",
    "        - EXTFUNC_CNT has 10352 unique values -->\n",
    "        - EXT_FUNC_ID_SFI has 422 unique values\n",
    "        - FUNC_CNT has 12070 unique values\n",
    "        - FUNC_ID_SFI has 64 unique values\n",
    "* build model based upon those with known separation ONLY\n",
    "  - create a hold out (eval) set.\n",
    "  - apply to current employees\n",
    "  - question: _How to make this time-dependent?_\n",
    "      * bucket the test set into time-segments"
   ]
  },
  {
   "cell_type": "code",
   "execution_count": null,
   "metadata": {
    "collapsed": false
   },
   "outputs": [],
   "source": [
    "len(col_list)"
   ]
  },
  {
   "cell_type": "code",
   "execution_count": null,
   "metadata": {
    "collapsed": false
   },
   "outputs": [],
   "source": [
    "col_list = empl_df.columns.tolist()\n",
    "three_cols = [x for x in col_list if x.endswith('CNT3')]\n",
    "five_cols = [x for x in col_list if x.endswith('CNT5')]\n",
    "ten_cols = [x for x in col_list if x.endswith('CNT10')]\n",
    "# drop all BOX, MERIT, SAL, PERF and add back in those from last year\n",
    "to_drop_cols = [x for x in col_list if x.startswith('PERF')]\n",
    "to_drop_cols+= [x for x in col_list if x.startswith('SAL')]\n",
    "to_drop_cols += [x for x in col_list if x.startswith('MERIT')]\n",
    "to_drop_cols += [x for x in col_list if x.startswith('BOX')]\n",
    "to_drop_cols+=three_cols\n",
    "to_drop_cols+=five_cols\n",
    "to_drop_cols+=ten_cols\n",
    "to_add_cols = ['BOX1','SAL1','MERIT1','PERF1']\n",
    "empl = empl_df.copy()\n",
    "empl.drop(to_drop_cols,inplace=True,axis=1)\n",
    "empl[to_add_cols] = empl_df[to_add_cols].copy()\n",
    "print empl.shape ## this is the same as if I read in employee_df_2.csv"
   ]
  },
  {
   "cell_type": "code",
   "execution_count": null,
   "metadata": {
    "collapsed": false
   },
   "outputs": [],
   "source": [
    "## check collinearity of this\n",
    "empl_collin_test = perfect_collinearity_test(empl)"
   ]
  },
  {
   "cell_type": "code",
   "execution_count": null,
   "metadata": {
    "collapsed": false
   },
   "outputs": [],
   "source": [
    "empl_collin_test.hist(label='removed_historical',bins=20)\n",
    "collinearity_empl_df.hist(alpha=0.3,label='all_columns',bins=20)\n",
    "plt.legend(loc=2)\n",
    "plt.xlabel('correlation score')\n",
    "plt.ylabel('Counts')"
   ]
  },
  {
   "cell_type": "code",
   "execution_count": null,
   "metadata": {
    "collapsed": false
   },
   "outputs": [],
   "source": [
    "empl_collin_test[empl_collin_test>0.9]"
   ]
  },
  {
   "cell_type": "code",
   "execution_count": null,
   "metadata": {
    "collapsed": false
   },
   "outputs": [],
   "source": [
    "reduced_cols = empl.columns.tolist()"
   ]
  },
  {
   "cell_type": "markdown",
   "metadata": {},
   "source": [
    "## Begin to look at slicing in Time"
   ]
  },
  {
   "cell_type": "code",
   "execution_count": null,
   "metadata": {
    "collapsed": false
   },
   "outputs": [],
   "source": [
    "emSets = []\n",
    "date_list =['1994-01-01','1998-01-01','2002-01-01','2006-01-01']\n",
    "print len(empl_df)\n",
    "for date0 in date_list:\n",
    "    my_em = empl_df.ix[emplfull.TERMINATION_DT>=date0].copy()\n",
    "    emSets.append(my_em)\n",
    "    print date0, len(my_em)\n",
    "    print '----\\n', my_em.status.value_counts()"
   ]
  },
  {
   "cell_type": "code",
   "execution_count": null,
   "metadata": {
    "collapsed": false
   },
   "outputs": [],
   "source": [
    "set_lengths = [len(em) for em in emSets]\n",
    "plt.bar(np.arange(0,len(set_lengths)),set_lengths,color='darkorchid')\n"
   ]
  },
  {
   "cell_type": "markdown",
   "metadata": {},
   "source": [
    "### Consider set B: index = 1\n",
    "* length is 159376, split is 89570 to 69806\n",
    "* date is 2002-01-01"
   ]
  },
  {
   "cell_type": "code",
   "execution_count": null,
   "metadata": {
    "collapsed": false
   },
   "outputs": [],
   "source": [
    "collinearity_test_B = perfect_collinearity_test(emSets[1][reduced_cols])"
   ]
  },
  {
   "cell_type": "code",
   "execution_count": null,
   "metadata": {
    "collapsed": false
   },
   "outputs": [],
   "source": [
    "plt.scatter(empl_collin_test,collinearity_test_B)\n"
   ]
  },
  {
   "cell_type": "code",
   "execution_count": null,
   "metadata": {
    "collapsed": false
   },
   "outputs": [],
   "source": [
    "collinearity_test_B[collinearity_test_B>0.9]"
   ]
  },
  {
   "cell_type": "code",
   "execution_count": null,
   "metadata": {
    "collapsed": false
   },
   "outputs": [],
   "source": [
    "emSets[1].plot(kind='scatter',x='SAL1',y='MIN_RT_ANNUAL')\n",
    "emSets[1].plot(kind='scatter',x='SAL1',y='MAX_RT_ANNUAL')"
   ]
  },
  {
   "cell_type": "code",
   "execution_count": null,
   "metadata": {
    "collapsed": false
   },
   "outputs": [],
   "source": [
    "# Create a set of those who are separated only\n",
    "emB_build = emSets[1][emSets[1][reduced_cols].status ==1].copy()\n",
    "emB_active = emSets[1][emSets[1][reduced_cols].status==0].copy()"
   ]
  },
  {
   "cell_type": "code",
   "execution_count": null,
   "metadata": {
    "collapsed": false
   },
   "outputs": [],
   "source": [
    "emB_build.terminated.value_counts(), emB_build.retired.value_counts()"
   ]
  },
  {
   "cell_type": "code",
   "execution_count": null,
   "metadata": {
    "collapsed": false
   },
   "outputs": [],
   "source": [
    "len(emB_build)"
   ]
  },
  {
   "cell_type": "code",
   "execution_count": null,
   "metadata": {
    "collapsed": false
   },
   "outputs": [],
   "source": [
    "emB_build.terminated.value_counts()/float(len(emB_build))"
   ]
  },
  {
   "cell_type": "code",
   "execution_count": null,
   "metadata": {
    "collapsed": false
   },
   "outputs": [],
   "source": [
    "\n",
    "emB_build.Tenure_years.describe()"
   ]
  },
  {
   "cell_type": "code",
   "execution_count": null,
   "metadata": {
    "collapsed": false
   },
   "outputs": [],
   "source": [
    "tenure_years_range= [0.0,65.0]\n",
    "emB_build.Tenure_years.hist(bins=66,range=tenure_years_range)"
   ]
  },
  {
   "cell_type": "code",
   "execution_count": null,
   "metadata": {
    "collapsed": false
   },
   "outputs": [],
   "source": [
    "y_tenure_class = pd.cut(emB_build.Tenure_years,[0,1,2,3,4,5,6,7,8,200],labels=False,right=False)#,labels=[1,2,3,4,5,6,7,8])#.values"
   ]
  },
  {
   "cell_type": "code",
   "execution_count": null,
   "metadata": {
    "collapsed": false
   },
   "outputs": [],
   "source": [
    "pd.value_counts(y_tenure_class).plot(kind='bar')#.reindex(y_tenure_class.levels)"
   ]
  },
  {
   "cell_type": "code",
   "execution_count": null,
   "metadata": {
    "collapsed": false
   },
   "outputs": [],
   "source": [
    "# create evaluation set and test set\n",
    "from sklearn import cross_validation\n",
    "eval_fraction = 0.15\n",
    "emB, emB_eval = cross_validation.train_test_split(emB_build,test_size=eval_fraction)"
   ]
  },
  {
   "cell_type": "code",
   "execution_count": null,
   "metadata": {
    "collapsed": false
   },
   "outputs": [],
   "source": [
    "train_index = emB.index.tolist()\n",
    "eval_index = emB_eval.index.tolist()\n"
   ]
  },
  {
   "cell_type": "code",
   "execution_count": null,
   "metadata": {
    "collapsed": false
   },
   "outputs": [],
   "source": [
    "y_tenure_class.ix[eval_index].value_counts()/float(len(eval_index))"
   ]
  },
  {
   "cell_type": "code",
   "execution_count": null,
   "metadata": {
    "collapsed": false
   },
   "outputs": [],
   "source": [
    "y_tenure_class.ix[train_index].value_counts()/float(len(train_index))"
   ]
  },
  {
   "cell_type": "code",
   "execution_count": null,
   "metadata": {
    "collapsed": false
   },
   "outputs": [],
   "source": [
    "high_collinear_cols = ['EMPL_CLASS_P','EMPL_CLASS_O','EEO1CODE_9']\n",
    "mos_columns = [x for x in reduced_cols if x.endswith('MOS')]\n",
    "other_cols_to_drop = ['status','sep_status','EXTFUNC_CNT','EXT_FUNC_ID_SFI','FUNC_CNT','FUNC_ID_SFI','retired','terminated','Tenure_years']\n",
    "modeling_cols = list(set(reduced_cols)-set(high_collinear_cols)-set(other_cols_to_drop)-set(mos_columns))\n",
    "print len(reduced_cols), len(modeling_cols)"
   ]
  },
  {
   "cell_type": "code",
   "execution_count": null,
   "metadata": {
    "collapsed": false
   },
   "outputs": [],
   "source": [
    "X = emB[modeling_cols].as_matrix().astype(np.float)\n",
    "print np.shape(X)\n",
    "y_tenure = emB.Tenure_years.as_matrix().astype(np.float)"
   ]
  },
  {
   "cell_type": "code",
   "execution_count": null,
   "metadata": {
    "collapsed": false
   },
   "outputs": [],
   "source": [
    "plotFI(forest,modeling_cols)"
   ]
  },
  {
   "cell_type": "code",
   "execution_count": null,
   "metadata": {
    "collapsed": false
   },
   "outputs": [],
   "source": [
    "tree.export_graphviz(forest[0],out_file='tree.dot')"
   ]
  },
  {
   "cell_type": "code",
   "execution_count": null,
   "metadata": {
    "collapsed": false
   },
   "outputs": [],
   "source": [
    "import pydot as pyd\n",
    "#import fig_code"
   ]
  },
  {
   "cell_type": "code",
   "execution_count": null,
   "metadata": {
    "collapsed": true
   },
   "outputs": [],
   "source": [
    "f0_graph = pyd.graph_from_dot_file('tree.dot')"
   ]
  },
  {
   "cell_type": "code",
   "execution_count": null,
   "metadata": {
    "collapsed": false
   },
   "outputs": [],
   "source": [
    "f0_graph"
   ]
  },
  {
   "cell_type": "code",
   "execution_count": null,
   "metadata": {
    "collapsed": true
   },
   "outputs": [],
   "source": [
    "from sklearn import linear_model"
   ]
  },
  {
   "cell_type": "code",
   "execution_count": null,
   "metadata": {
    "collapsed": true
   },
   "outputs": [],
   "source": [
    "# return a linear regression fit of some data\n",
    "def linear_reg_fit(x,y,n_samples = 50, verbose=False):\n",
    "    import statsmodels.api as sm\n",
    "    # create the x_prime variable\n",
    "    x_prime = np.linspace(x.min(),x.max(),n_samples)[:,np.newaxis]\n",
    "    # add a constant to the predictor\n",
    "    x = sm.add_constant(x)# Adds a constant term to the predictor\n",
    "    # create linear regression object\n",
    "    ols = sm.OLS(y, x)\n",
    "    est = ols.fit()\n",
    "    if verbose:\n",
    "        print est.summary()\n",
    "    x_prime = sm.add_constant(x_prime)  # add constant as we did before\n",
    "\n",
    "    # Now we calculate the predicted values\n",
    "    y_hat = est.predict(x_prime)\n",
    "   \n",
    "    #print \"\\n ====================== \\n\"\n",
    "    coef = est.params[1]\n",
    "    rsquared = est.rsquared\n",
    "    return x_prime[:,1],y_hat, coef,rsquared"
   ]
  },
  {
   "cell_type": "code",
   "execution_count": null,
   "metadata": {
    "collapsed": true
   },
   "outputs": [],
   "source": [
    "ols=linear_model.LinearRegression()\n"
   ]
  },
  {
   "cell_type": "code",
   "execution_count": null,
   "metadata": {
    "collapsed": false
   },
   "outputs": [],
   "source": [
    "x_p,y_p = linear_reg_fit(emB_eval.Tenure_years.values, pred_tenure_eval)#,pred_tenure_eval)\n"
   ]
  },
  {
   "cell_type": "code",
   "execution_count": null,
   "metadata": {
    "collapsed": false
   },
   "outputs": [],
   "source": [
    "x_p"
   ]
  },
  {
   "cell_type": "markdown",
   "metadata": {},
   "source": [
    "## Create survival median dictionary and apply to desired columns"
   ]
  },
  {
   "cell_type": "code",
   "execution_count": null,
   "metadata": {
    "collapsed": true
   },
   "outputs": [],
   "source": []
  },
  {
   "cell_type": "code",
   "execution_count": null,
   "metadata": {
    "collapsed": true
   },
   "outputs": [],
   "source": []
  },
  {
   "cell_type": "code",
   "execution_count": null,
   "metadata": {
    "collapsed": true
   },
   "outputs": [],
   "source": []
  },
  {
   "cell_type": "code",
   "execution_count": null,
   "metadata": {
    "collapsed": false
   },
   "outputs": [],
   "source": [
    "# now assign these values to the arrays\n",
    "emB['med_surv'] = emB['JOBCODE'].apply(lambda x: med_survival[x] )\n",
    "emB_eval['med_surv'] = emB_eval['JOBCODE'].apply(lambda x: med_survival[x] )"
   ]
  },
  {
   "cell_type": "code",
   "execution_count": null,
   "metadata": {
    "collapsed": true
   },
   "outputs": [],
   "source": [
    "modeling_cols"
   ]
  },
  {
   "cell_type": "code",
   "execution_count": null,
   "metadata": {
    "collapsed": false
   },
   "outputs": [],
   "source": [
    "print len(modeling_cols)\n",
    "sm_mod_cols = [a for a in modeling_cols]\n",
    "job_function_cols = [b for b in modeling_cols if b.startswith('JOB_FUNCTION')]\n",
    "job_function_cols\n",
    "#for a in ['JOBCODE','grade_code','loc_descr','job_fcode','']\n",
    "sm_mod_cols.remove('JOBCODE')\n",
    "sm_mod_cols+=['med_surv']\n",
    "print len(sm_mod_cols), len(modeling_cols)"
   ]
  },
  {
   "cell_type": "code",
   "execution_count": null,
   "metadata": {
    "collapsed": false
   },
   "outputs": [],
   "source": [
    "Xp = emB[sm_mod_cols].as_matrix().astype(np.float)\n",
    "print np.shape(Xp)\n",
    "#y_tenure = emB.Tenure_years.as_matrix().astype(np.float)\n",
    "Xeval_p = emB_eval[sm_mod_cols].as_matrix().astype(np.float)\n"
   ]
  },
  {
   "cell_type": "code",
   "execution_count": null,
   "metadata": {
    "collapsed": false
   },
   "outputs": [],
   "source": [
    "%%time \n",
    "RFRforest2 = ensemble.RandomForestRegressor(n_jobs=50,n_estimators=500,max_features=None)\n",
    "RFRforest2.fit(Xp,y_tenure)\n",
    "#importances= forest.feature_importances_\n",
    "## apply to the eval subset from emB\n",
    "pred_tenure_eval_2 = RFRforest2.predict(Xeval_p)\n",
    "np.shape(pred_tenure_eval_2)#, np.shape(y_tenure_class.ix[eval_index])\n"
   ]
  },
  {
   "cell_type": "code",
   "execution_count": null,
   "metadata": {
    "collapsed": false
   },
   "outputs": [],
   "source": [
    "graph_feature_importances(RFRforest2,sm_mod_cols)"
   ]
  },
  {
   "cell_type": "code",
   "execution_count": null,
   "metadata": {
    "collapsed": false
   },
   "outputs": [],
   "source": [
    "#plt.scatter(y_tenure_class.ix[eval_index],pred_tenure_eval,color='chartreuse',alpha=0.3)\n",
    "sns.regplot(emB_eval.Tenure_years, pred_tenure_eval_2,color='darkorchid')\n",
    "#plt.scatter(emB_eval.Tenure_years,pred_tenure_eval,color='darkslategray',alpha=0.3)\n",
    "plt.xlabel('True Tenure Length')\n",
    "plt.ylabel('Predicted Tenure Length')"
   ]
  },
  {
   "cell_type": "code",
   "execution_count": null,
   "metadata": {
    "collapsed": false
   },
   "outputs": [],
   "source": [
    "#plt.scatter(y_tenure_class.ix[eval_index],pred_tenure_eval,color='chartreuse',alpha=0.3)\n",
    "plt.scatter(emB_eval.Tenure_years,pred_tenure_eval_2,color='darkorchid',alpha=0.3)\n",
    "plt.xlabel('True Tenure Length')\n",
    "plt.ylabel('Predicted Tenure Length')\n",
    "plt.xlim([0,10])\n",
    "plt.ylim([0,10])"
   ]
  },
  {
   "cell_type": "markdown",
   "metadata": {},
   "source": [
    "## back to classifier"
   ]
  },
  {
   "cell_type": "code",
   "execution_count": null,
   "metadata": {
    "collapsed": false
   },
   "outputs": [],
   "source": [
    "%%time \n",
    "forest2 = ensemble.RandomForestClassifier(n_jobs=50,n_estimators=500,max_features=None)\n",
    "forest2.fit(Xp,y_tenure_class.ix[train_index])\n",
    "y_pred_tenure_class_2 = forest2.predict(Xeval_p)\n",
    "rfc_tenureclass_conf_matrix2 = metrics.confusion_matrix(y_tenure_class.ix[eval_index],y_pred_tenure_class_2)\n",
    "sns.heatmap(rfc_tenureclass_conf_matrix2, annot=True,  fmt='',cmap='Greens')#\n",
    "plt.title('Random Forest Classifier Confusion Matrix')"
   ]
  },
  {
   "cell_type": "code",
   "execution_count": null,
   "metadata": {
    "collapsed": false
   },
   "outputs": [],
   "source": [
    "#rfc_tenureclass_conf_matrix = metrics.confusion_matrix(y_tenure_class.ix[eval_index],y_pred_tenure_class)\n",
    "sns.heatmap(rfc_tenureclass_conf_matrix, annot=True,  fmt='',cmap='Blues')#\n",
    "plt.title('Random Forest Classifier Confusion Matrix (before)')"
   ]
  },
  {
   "cell_type": "code",
   "execution_count": null,
   "metadata": {
    "collapsed": false
   },
   "outputs": [],
   "source": [
    "cm_normalized = rfc_tenureclass_conf_matrix.astype('float') / rfc_tenureclass_conf_matrix.sum(axis=1)[:, np.newaxis]\n",
    "print('Normalized confusion matrix')\n",
    "#print(cm_normalized)\n",
    "plt.figure()\n",
    "plt.subplot(121)\n",
    "sns.heatmap(cm_normalized)#, title='Normalized confusion matrix')\n",
    "plt.subplot(122)\n",
    "cm_normalized2 = rfc_tenureclass_conf_matrix2.astype('float') / rfc_tenureclass_conf_matrix2.sum(axis=1)[:, np.newaxis]\n",
    "sns.heatmap(cm_normalized2)"
   ]
  },
  {
   "cell_type": "code",
   "execution_count": null,
   "metadata": {
    "collapsed": false
   },
   "outputs": [],
   "source": [
    "sns.heatmap(cm_normalized2-cm_normalized)"
   ]
  },
  {
   "cell_type": "markdown",
   "metadata": {},
   "source": [
    "## Aside about JOBCODE, job_fcode (JOB_FAMILY), & grade_code (GRADE)\n",
    "* spoke with HR team on June 11, 2015 --> consider eliminating some subset of grades that are _never_ going to be requested for projections.\n",
    "* they will provide this information\n",
    "* Look into calculating median survival for all 3 classes --> they are slightly different from one another."
   ]
  },
  {
   "cell_type": "code",
   "execution_count": null,
   "metadata": {
    "collapsed": false
   },
   "outputs": [],
   "source": [
    "print len(empl.JOBCODE.unique()), len(empl.job_fcode.unique()), len(empl.grade_code.unique())\n",
    "print len(empl[empl.status==0].JOBCODE.unique()), len(empl[empl.status==0].job_fcode.unique()), len(empl[empl.status==0].grade_code.unique())\n",
    "\n",
    "np.log(empl[empl.status==0].grade_code.value_counts()).hist(bins=30)"
   ]
  },
  {
   "cell_type": "code",
   "execution_count": null,
   "metadata": {
    "collapsed": false
   },
   "outputs": [],
   "source": [
    "#sum(empl[empl.status==0].JOBCODE.value_counts() [empl[empl.status==0].JOBCODE.value_counts() == 1])\n",
    "np.log(empl[empl_dates.term_tstmp>=pd.to_datetime('2010-01-01')].grade_code.value_counts()).hist(bins=30)"
   ]
  },
  {
   "cell_type": "markdown",
   "metadata": {
    "collapsed": true
   },
   "source": [
    "# Calculate Age at hire"
   ]
  },
  {
   "cell_type": "code",
   "execution_count": null,
   "metadata": {
    "collapsed": false
   },
   "outputs": [],
   "source": [
    "empl_dates.head()"
   ]
  },
  {
   "cell_type": "code",
   "execution_count": null,
   "metadata": {
    "collapsed": false
   },
   "outputs": [],
   "source": [
    "## now calculate age at hire\n",
    "hire_age_tdelta = empl_dates['hire_tstmp']-empl_dates['birth_tstmp']#)/np.timedelta64(1,'D')\n",
    "# convert to days, months or years\n",
    "empl_dates['hire_age'] = hire_age_tdelta/np.timedelta64(1,'Y')\n",
    "\n",
    "#empl_dates.drop('hire_age_tdelta',axis=1,inplace=True)\n",
    "empl_dates.head()"
   ]
  },
  {
   "cell_type": "code",
   "execution_count": null,
   "metadata": {
    "collapsed": false
   },
   "outputs": [],
   "source": [
    "### push to emSets[1]\n",
    "emSets[1]['hire_age']=empl_dates.ix[emSets[1].index]['hire_age']\n",
    "emSets[1][['Age_years','Tenure_years','hire_age']].head()"
   ]
  },
  {
   "cell_type": "markdown",
   "metadata": {},
   "source": [
    "# Build the temporal kfold sets\n",
    "Begin with only subset of employees that retired/terminated after 2002-01-01\n",
    "## Pull out an evaluation set\n",
    "* use test_train_split\n",
    "### Requirements\n",
    "* initial date\n",
    "* final date\n",
    "* time_delta\n",
    "* employee DataFrame"
   ]
  },
  {
   "cell_type": "code",
   "execution_count": null,
   "metadata": {
    "collapsed": false
   },
   "outputs": [],
   "source": [
    "em2.terminated.value_counts()/float(len(em2))"
   ]
  },
  {
   "cell_type": "code",
   "execution_count": null,
   "metadata": {
    "collapsed": false
   },
   "outputs": [],
   "source": [
    "em2_eval.terminated.value_counts()/float(len(em2_eval))"
   ]
  },
  {
   "cell_type": "markdown",
   "metadata": {},
   "source": [
    "## Create k-folds based upon time"
   ]
  },
  {
   "cell_type": "code",
   "execution_count": null,
   "metadata": {
    "collapsed": false
   },
   "outputs": [],
   "source": [
    "full_date_range = [str(a)+'-01-01' for a in np.arange(2002,2016)]\n",
    "print len(full_date_range)"
   ]
  },
  {
   "cell_type": "code",
   "execution_count": null,
   "metadata": {
    "collapsed": false
   },
   "outputs": [],
   "source": [
    "min_date = pd.to_datetime(full_date_range[0])\n",
    "max_date = pd.to_datetime(full_date_range[-1])\n",
    "print type(max_date - min_date),np.int(np.round((max_date-min_date).days/365.24,0))\n",
    "for a in xrange(0,3):\n",
    "    print a, full_date_range[a::3]"
   ]
  },
  {
   "cell_type": "code",
   "execution_count": null,
   "metadata": {
    "collapsed": true
   },
   "outputs": [],
   "source": [
    "## create procedure for time selections.\n",
    "def split_on_time(dates_df, split_tstmp):\n",
    "    #split_tstmp = pd.to_datetime(split_date_str)\n",
    "    #print split_tstmp\n",
    "    \n",
    "    before_idx = dates_df[(dates_df.hire_tstmp < split_tstmp)].index\n",
    "    after_idx = list(set(dates_df.index) -set(before_idx))\n",
    "    print len(after_idx), len(dates_df)\n",
    "    print \"Splitting on {0} amounts to a hold-out fraction of {1}\".format(split_tstmp,len(after_idx)/float(len(dates_df)))\n",
    "    return before_idx, after_idx\n",
    "\n",
    "def temporal_kfold(dates_df,t1,t2):\n",
    "    before_idx = dates_df[((dates_df.term_tstmp>=t1))].index\n",
    "    kfold_idx = dates_df[((dates_df.term_tstmp>=t1) & (dates_df.hire_tstmp<t2))].index\n",
    "    after_idx = list(set(dates_df.index)-set(before_idx)-set(kfold_idx))\n",
    "    print len(before_idx),len(kfold_idx),len(after_idx)"
   ]
  },
  {
   "cell_type": "code",
   "execution_count": null,
   "metadata": {
    "collapsed": false
   },
   "outputs": [],
   "source": [
    "def create_temporal_kfolds(dates_df,date_range,time_delta):\n",
    "    min_date = pd.to_datetime(date_range[0])\n",
    "    max_date = pd.to_datetime(date_range[-1])\n",
    "    my_index = dates_df[(dates_df.term_tstmp>=min_date)].index\n",
    "    # calculate number of kfolds\n",
    "    date_span_years = np.int(np.round((max_date-min_date).days/365.24,0))\n",
    "    nfolds = date_span_years - time_delta\n",
    "    print date_span_years, time_delta, nfolds, len(my_index)\n",
    "    all_pairs = list(itertools.combinations(date_range,2))\n",
    "    # now filter if difference in time  == time_delta\n",
    "    filtered_pairs = []\n",
    "    for i0,i1 in all_pairs:\n",
    "        if int(i1[:4])-int(i0[:4]) == time_delta:\n",
    "            filtered_pairs.append([i0,i1])\n",
    "            #print i0,i1\n",
    "    print len(filtered_pairs)\n",
    "    # now process each of these filtered pairs\n",
    "    kf = []\n",
    "    for j0,j1 in filtered_pairs: # omit the last one because it has no\n",
    "        start_date = pd.to_datetime(j0)\n",
    "        end_date = pd.to_datetime(j1)\n",
    "        #print j0,j1#,len(k)\n",
    "        \n",
    "        \n",
    "        kfold_idx = dates_df[(dates_df.term_tstmp >= start_date) & (dates_df.hire_tstmp<start_date)].index\n",
    "        after_idx = dates_df[(dates_df.hire_tstmp>=end_date)].index\n",
    "        before_idx = list(set(my_index)-set(kfold_idx)-set(after_idx))\n",
    "        #temporal_kfold(dates_df[dates_df.term_tstmp>=min_date],start_date,end_date)\n",
    "        #print \"\\t\",len(kfold_idx), len(after_idx),len(before_idx)\n",
    "        \n",
    "        # combined out of fold\n",
    "        not_kfold_idx = list(set(after_idx).union(set(before_idx)))\n",
    "        \n",
    "        print j0,j1,len(kfold_idx),len(not_kfold_idx)\n",
    "        kf.append([kfold_idx,not_kfold_idx])\n",
    "    \n",
    "    return kf,filtered_pairs\n",
    "    "
   ]
  },
  {
   "cell_type": "code",
   "execution_count": null,
   "metadata": {
    "collapsed": false
   },
   "outputs": [],
   "source": [
    "len(em2),len(em2_eval),len(emSets[1])"
   ]
  },
  {
   "cell_type": "code",
   "execution_count": null,
   "metadata": {
    "collapsed": false
   },
   "outputs": [],
   "source": [
    "my_folds,my_times = create_temporal_kfolds(empl_dates.ix[em2.index],full_date_range,5)"
   ]
  },
  {
   "cell_type": "code",
   "execution_count": null,
   "metadata": {
    "collapsed": false
   },
   "outputs": [],
   "source": [
    "len(my_folds)"
   ]
  },
  {
   "cell_type": "code",
   "execution_count": null,
   "metadata": {
    "collapsed": false
   },
   "outputs": [],
   "source": [
    "print my_times[0]\n",
    "[len(my_folds[0][i]) for i in xrange(0,2)]"
   ]
  },
  {
   "cell_type": "code",
   "execution_count": null,
   "metadata": {
    "collapsed": true
   },
   "outputs": [],
   "source": [
    "def reset_years(paired_times,indices,dates_df,df,cols_to_alter = ['Age_years','Tenure_years']):\n",
    "    # calc the Age at beginnning of time period\n",
    "    ## now calculate age at hire\n",
    "    reset_age_tdelta = pd.to_datetime(paired_times[0])-dates_df['birth_tstmp']#)/np.timedelta64(1,'D')\n",
    "    reset_tenure_tdelta = pd.to_datetime(paired_times[0])-dates_df['hire_tstmp']#)/np.timedelta64(1,'D')\n",
    "    # convert to days, months or years\n",
    "    reset_age = reset_age_tdelta/np.timedelta64(1,'Y')\n",
    "    reset_tenure = reset_tenure_tdelta/np.timedelta64(1,'Y')\n",
    "    # look at terminated or not\n",
    "    #empl_df['terminated']= 0\n",
    "    \n",
    "    \n",
    "#my_rows = empl_df[(empl_df.status==1) & (empl_df.retired==0)].index\n",
    "#print \"Out of {0} rows, {1} are separated and not retired.\".format(len(empl_df),len(my_rows))\n",
    "##sum(empl_df['terminated']))#, len(my_rows)\n",
    "#empl_df.loc[my_rows,'terminated']=1\n",
    "#print sum(empl_df.terminated)\n",
    "#    if \n",
    "    return reset_age,reset_tenure\n",
    "    "
   ]
  },
  {
   "cell_type": "code",
   "execution_count": null,
   "metadata": {
    "collapsed": false
   },
   "outputs": [],
   "source": [
    "em2.ix[my_folds[0][0]].Age_years.hist(bins=60)"
   ]
  },
  {
   "cell_type": "code",
   "execution_count": null,
   "metadata": {
    "collapsed": false
   },
   "outputs": [],
   "source": [
    "ra.ix[my_folds[0][0]].hist(bins=60)"
   ]
  },
  {
   "cell_type": "code",
   "execution_count": null,
   "metadata": {
    "collapsed": false
   },
   "outputs": [],
   "source": [
    "ra,rt = reset_years(my_times[0],my_folds[0],empl_dates.ix[em2.index],em2)"
   ]
  },
  {
   "cell_type": "code",
   "execution_count": null,
   "metadata": {
    "collapsed": false
   },
   "outputs": [],
   "source": [
    "rt.ix[my_folds[0][0]].hist(bins=30)\n",
    "em2.ix[my_folds[0][0]].Tenure_years.hist(bins=30,alpha=.3)"
   ]
  },
  {
   "cell_type": "code",
   "execution_count": null,
   "metadata": {
    "collapsed": false
   },
   "outputs": [],
   "source": [
    "## need to reset terminated based upon that time frame\n",
    "def check_status(t,ck_time):\n",
    "    print t, ck_time\n",
    "    x=0\n",
    "    if t <= pd.to_datetime(ck_time):\n",
    "        x=1\n",
    "    return x\n",
    "\n",
    "#empl_dates.ix[my_folds[0][0][:3]][['term_tstmp']].apply(lambda x: check_status(x,my_times[0[1]]))"
   ]
  },
  {
   "cell_type": "code",
   "execution_count": null,
   "metadata": {
    "collapsed": false
   },
   "outputs": [],
   "source": [
    "check_status(empl_dates.ix[my_folds[0][0][0]]['term_tstmp'],'2006-01-01')"
   ]
  },
  {
   "cell_type": "code",
   "execution_count": null,
   "metadata": {
    "collapsed": false
   },
   "outputs": [],
   "source": [
    "print my_times[0]\n",
    "empl_dates.ix[my_folds[0][0][:5]]['term_tstmp']"
   ]
  },
  {
   "cell_type": "code",
   "execution_count": null,
   "metadata": {
    "collapsed": false
   },
   "outputs": [],
   "source": [
    "em2.ix[my_folds[0][0]].terminated.value_counts()"
   ]
  },
  {
   "cell_type": "code",
   "execution_count": null,
   "metadata": {
    "collapsed": false
   },
   "outputs": [],
   "source": [
    "# if term_tstmp > end_tstmp then NOT terminated, otherwise terminated --. for those in kfold training set.\n",
    "new_term = (empl_dates.ix[my_folds[0][0]]['term_tstmp']-pd.to_datetime(my_times[0][1]))<0\n",
    "new_term.astype(np.int)\n",
    "new_term.value_counts()"
   ]
  },
  {
   "cell_type": "markdown",
   "metadata": {},
   "source": [
    "## work this into a classification problem\n",
    "* my y is the new_term\n",
    "* my X is [reset_Age,reset_tenure,SEX,surv_med, etc.]"
   ]
  },
  {
   "cell_type": "code",
   "execution_count": null,
   "metadata": {
    "collapsed": false
   },
   "outputs": [],
   "source": [
    "len(new_term),len(my_folds[0][0])"
   ]
  },
  {
   "cell_type": "code",
   "execution_count": null,
   "metadata": {
    "collapsed": false
   },
   "outputs": [],
   "source": [
    "min_list_cols = ['SEX','SAL1','MERIT1','PERF1','unempl_rate','HAVE_INS']\n",
    "fold_temp_df = em2.ix[my_folds[0][0]][min_list_cols].copy()\n",
    "fold_temp_df['age']=ra.ix[my_folds[0][0]]\n",
    "fold_temp_df['tenure']=rt.ix[my_folds[0][0]]\n",
    "X_set0 = fold_temp_df.as_matrix().astype(np.float)"
   ]
  },
  {
   "cell_type": "code",
   "execution_count": null,
   "metadata": {
    "collapsed": false
   },
   "outputs": [],
   "source": [
    "y_set0 = new_term.values.astype(np.int)"
   ]
  },
  {
   "cell_type": "code",
   "execution_count": null,
   "metadata": {
    "collapsed": false
   },
   "outputs": [],
   "source": [
    "forest_0 = ensemble.RandomForestClassifier(n_estimators=500,max_features=None,n_jobs=50)\n",
    "forest_0.fit(X_set0,y_set0)"
   ]
  },
  {
   "cell_type": "code",
   "execution_count": null,
   "metadata": {
    "collapsed": false
   },
   "outputs": [],
   "source": [
    "perfect_collinearity_test(fold_temp_df)"
   ]
  },
  {
   "cell_type": "code",
   "execution_count": null,
   "metadata": {
    "collapsed": false
   },
   "outputs": [],
   "source": [
    "plotFI(forest_0,fold_temp_df.columns)"
   ]
  },
  {
   "cell_type": "code",
   "execution_count": null,
   "metadata": {
    "collapsed": true
   },
   "outputs": [],
   "source": [
    "## try applying this to the most recent data set? ir at least  my_times[5]\n",
    "ra5,rt5 = reset_years(my_times[5],my_folds[5],empl_dates.ix[em2.index],em2)"
   ]
  },
  {
   "cell_type": "code",
   "execution_count": null,
   "metadata": {
    "collapsed": false
   },
   "outputs": [],
   "source": [
    "my_times[5]"
   ]
  },
  {
   "cell_type": "code",
   "execution_count": null,
   "metadata": {
    "collapsed": true
   },
   "outputs": [],
   "source": [
    "min_list_cols = ['SEX','SAL1','MERIT1','PERF1','unempl_rate','HAVE_INS']\n",
    "fold_test5_df = em2.ix[my_folds[5][0]][min_list_cols].copy()\n",
    "fold_test5_df['age']=ra5.ix[my_folds[5][0]]\n",
    "fold_test5_df['tenure']=rt5.ix[my_folds[5][0]]\n",
    "X_test5 = fold_test5_df.as_matrix().astype(np.float)\n",
    "y_test5 = ((empl_dates.ix[my_folds[5][0]]['term_tstmp']-pd.to_datetime(my_times[5][1]))<0).astype(np.int)\n"
   ]
  },
  {
   "cell_type": "code",
   "execution_count": null,
   "metadata": {
    "collapsed": false
   },
   "outputs": [],
   "source": [
    "y_pred_5 = forest_0.predict(X_test5)\n",
    "sum(y_pred_5), sum(y_test5)"
   ]
  },
  {
   "cell_type": "code",
   "execution_count": null,
   "metadata": {
    "collapsed": true
   },
   "outputs": [],
   "source": [
    "def plot_conf_matrix(y_true,y_pred,normed=True,**kwargs):\n",
    "    my_c = metrics.confusion_matrix(y_true,y_pred)\n",
    "    \n",
    "    print metrics.matthews_corrcoef(y_true,y_pred)\n",
    "    if normed:\n",
    "        cm_normalized = my_c.astype('float') / my_c.sum(axis=1)[:, np.newaxis]\n",
    "        my_c = cm_normalized\n",
    "        plt.title('Normalized RF Classifier Confusion Matrix')\n",
    "    else:\n",
    "        plt.title('Random Forest Classifier Confusion Matrix')\n",
    "        \n",
    "    sns.heatmap(my_c, annot=True,  fmt='',cmap='Blues')\n",
    "    plt.ylabel('True')\n",
    "    #plt.yticks\n",
    "    plt.xlabel('Assigned')\n",
    "    plt.show()\n",
    "    \n",
    "    return"
   ]
  },
  {
   "cell_type": "code",
   "execution_count": null,
   "metadata": {
    "collapsed": false
   },
   "outputs": [],
   "source": [
    "em2.ix[my_folds[5][0]].terminated.value_counts()"
   ]
  },
  {
   "cell_type": "code",
   "execution_count": null,
   "metadata": {
    "collapsed": false
   },
   "outputs": [],
   "source": [
    "my_times[0]"
   ]
  },
  {
   "cell_type": "code",
   "execution_count": null,
   "metadata": {
    "collapsed": false
   },
   "outputs": [],
   "source": [
    "plot_conf_matrix(y_test5,y_pred_5)"
   ]
  },
  {
   "cell_type": "code",
   "execution_count": null,
   "metadata": {
    "collapsed": false
   },
   "outputs": [],
   "source": [
    "# repeat for 2nd fold\n",
    "ra1,rt1 = reset_years(my_times[1],my_folds[1],empl_dates.ix[em2.index],em2)\n",
    "fold_temp_df1 = em2.ix[my_folds[1][0]][min_list_cols].copy()\n",
    "fold_temp_df1['age']=ra1.ix[my_folds[1][0]]\n",
    "fold_temp_df1['tenure']=rt1.ix[my_folds[1][0]]\n",
    "X_set1 = fold_temp_df1.as_matrix().astype(np.float)\n",
    "y_set1 =((empl_dates.ix[my_folds[1][0]]['term_tstmp']-pd.to_datetime(my_times[1][1]))<0).astype(np.int)"
   ]
  },
  {
   "cell_type": "code",
   "execution_count": null,
   "metadata": {
    "collapsed": false
   },
   "outputs": [],
   "source": [
    "forest_1 = ensemble.RandomForestClassifier(n_estimators=500,max_features=None,n_jobs=50)\n",
    "forest_1.fit(X_set1,y_set1)"
   ]
  },
  {
   "cell_type": "code",
   "execution_count": null,
   "metadata": {
    "collapsed": false
   },
   "outputs": [],
   "source": [
    "plotFI(forest_1,fold_temp_df1.columns)"
   ]
  },
  {
   "cell_type": "code",
   "execution_count": null,
   "metadata": {
    "collapsed": false
   },
   "outputs": [],
   "source": [
    "y1_pred_5 = forest_1.predict(X_test5)\n",
    "plot_conf_matrix(y_test5,y1_pred_5,normed=False)"
   ]
  },
  {
   "cell_type": "code",
   "execution_count": null,
   "metadata": {
    "collapsed": false
   },
   "outputs": [],
   "source": [
    "plt.plot(forest_1.predict_proba(X_test5)[:,1],'*',alpha=0.3)"
   ]
  },
  {
   "cell_type": "markdown",
   "metadata": {},
   "source": [
    "### which of the above terminate within 5 years of the starting date?\n"
   ]
  },
  {
   "cell_type": "code",
   "execution_count": null,
   "metadata": {
    "collapsed": false
   },
   "outputs": [],
   "source": [
    "print my_times[5], sum(empl_dates.ix[my_folds[5][0]]['term_tstmp'] <= my_times[5][1])\n",
    "\n",
    "#em2.ix[my_folds[5][0]][min_list_cols].copy()"
   ]
  },
  {
   "cell_type": "code",
   "execution_count": null,
   "metadata": {
    "collapsed": false
   },
   "outputs": [],
   "source": [
    "empl_dates.ix[my_folds[5][0]]['hire_tstmp'].max() # great required to have started prior to the date of this t_kfold"
   ]
  },
  {
   "cell_type": "code",
   "execution_count": null,
   "metadata": {
    "collapsed": false
   },
   "outputs": [],
   "source": [
    "fold_5_actual_term_idx = empl_dates.ix[my_folds[5][0]][empl_dates.ix[my_folds[5][0]]['term_tstmp'] <= my_times[5][1]].index\n",
    "print len(fold_5_actual_term_idx)\n",
    "em2.ix[fold_5_actual_term_idx].terminated.sum()"
   ]
  },
  {
   "cell_type": "markdown",
   "metadata": {},
   "source": [
    "# the above is for 5-year projections. Can I do better on 2 year?"
   ]
  },
  {
   "cell_type": "code",
   "execution_count": null,
   "metadata": {
    "collapsed": false
   },
   "outputs": [],
   "source": [
    "two_yr_folds,two_yr_times = create_temporal_kfolds(empl_dates.ix[em2.index],full_date_range,2)"
   ]
  },
  {
   "cell_type": "markdown",
   "metadata": {},
   "source": [
    "## Proposed \"pipeline\"\n",
    "1. create the temporal kfolds\n",
    "2. for each t_kfold adjust the desired columns\n",
    "    a. this means defining Age & Tenure with respect to the start_date\n",
    "    b. if the person terminated after the end_date of that kfold, reset terminated as 0.\n",
    "    c. Other features to change?\n",
    "3. create a model for each t_kfold\n",
    "4. apply that model for each other t_kfold (Cross_validation)\n",
    "5. Apply each model/united model to the evaluation set\n",
    "    a. Figure out how to unite these models\n",
    "    b. adjust evaluation set ?"
   ]
  },
  {
   "cell_type": "code",
   "execution_count": null,
   "metadata": {
    "collapsed": false
   },
   "outputs": [],
   "source": [
    "len(em2002.SKEY.unique())"
   ]
  },
  {
   "cell_type": "code",
   "execution_count": null,
   "metadata": {
    "collapsed": false
   },
   "outputs": [],
   "source": [
    "curr_active = em2002[em2002.status==0].copy()\n",
    "#employee1 = em2002[(em2002.SKEY.isnull() and em2002.status ==0)].KEY\n",
    "#employee1"
   ]
  },
  {
   "cell_type": "code",
   "execution_count": null,
   "metadata": {
    "collapsed": false
   },
   "outputs": [],
   "source": [
    "ttrpt_cnt = curr_active.TOTAL_RPT_CNT.values\n",
    "curr_active.TOTAL_RPT_CNT.describe()"
   ]
  },
  {
   "cell_type": "code",
   "execution_count": null,
   "metadata": {
    "collapsed": false
   },
   "outputs": [],
   "source": [
    "#curr_active[curr_active.TOTAL_RPT_CNT>30000][['KEY','SKEY','TOTAL_RPT_CNT','GRADE','COMPANY']]"
   ]
  },
  {
   "cell_type": "code",
   "execution_count": null,
   "metadata": {
    "collapsed": true
   },
   "outputs": [],
   "source": []
  }
 ],
 "metadata": {
  "kernelspec": {
   "display_name": "Python 2",
   "language": "python",
   "name": "python2"
  },
  "language_info": {
   "codemirror_mode": {
    "name": "ipython",
    "version": 2
   },
   "file_extension": ".py",
   "mimetype": "text/x-python",
   "name": "python",
   "nbconvert_exporter": "python",
   "pygments_lexer": "ipython2",
   "version": "2.7.10"
  }
 },
 "nbformat": 4,
 "nbformat_minor": 0
}
