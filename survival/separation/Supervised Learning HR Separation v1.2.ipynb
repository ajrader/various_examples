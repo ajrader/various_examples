{
 "cells": [
  {
   "cell_type": "markdown",
   "metadata": {},
   "source": [
    "# Supervised Learning for HR Separations\n",
    "## August 4, 2015\n",
    "<hr>\n",
    "\n",
    "### 1. Load the dataset processed in Supervised Learning HR Separation v1.1\n",
    "* filename is employee_dataframe9.tsv\n",
    "* try to use bear\n",
    "* step through the columns in a logical way that I did in early to mid July, 2015.\n",
    "* (no longer do I need to labelEncode GRADE)\n",
    "* use bear\n",
    "#### define the source repo\n",
    "* '/home/kesj/lib/repo/'\n",
    "\n",
    "### 2. Define the correct working directories\n",
    "* '/data/discovery/hrsepara/core/' for HDFS\n",
    "* '/data/discovery/hrsepara/staging/eda' and '/home/kesj/working/hrsepara/eda/' for HDFS and LFS on phd\n"
   ]
  },
  {
   "cell_type": "code",
   "execution_count": 1,
   "metadata": {
    "collapsed": true
   },
   "outputs": [],
   "source": [
    "coredir = '/data/discovery/hrsepara/core/'\n",
    "stgdir1 = '/data/discovery/hrsepara/staging/eda'\n",
    "stgdir1local = '/home/kesj/work/hrsepara/eda'\n",
    "repodir = '/home/kesj/lib/repo/'"
   ]
  },
  {
   "cell_type": "code",
   "execution_count": 2,
   "metadata": {
    "collapsed": true
   },
   "outputs": [],
   "source": [
    "### load the basic files\n",
    "import os,subprocess,sys\n",
    "import pandas as pd\n",
    "import numpy as np\n",
    "%matplotlib inline\n",
    "from datetime import datetime\n",
    "import matplotlib.pyplot as plt\n",
    "from itertools import chain\n",
    "import random\n",
    "import seaborn as sns\n",
    "from glob import glob\n",
    "plt.style.use('ggplot')\n"
   ]
  },
  {
   "cell_type": "code",
   "execution_count": 3,
   "metadata": {
    "collapsed": true
   },
   "outputs": [],
   "source": [
    "os.chdir(repodir)\n",
    "import bear.bear as br"
   ]
  },
  {
   "cell_type": "code",
   "execution_count": 4,
   "metadata": {
    "collapsed": true
   },
   "outputs": [],
   "source": [
    "os.chdir(stgdir1local)"
   ]
  },
  {
   "cell_type": "markdown",
   "metadata": {},
   "source": [
    "## Begin by loading the source dataframe file\n",
    "#### filename is employee_dataframe9.tsv\n",
    "#### This has been modified from employee_dataframe.ssv in the following ways.\n",
    "* negative TOT_MO_SERVICE_SFI have been removed\n",
    "* GRADE = 'UNS', '' have been removed\n",
    "* STATE_LOC of 'ON' have been removed\n",
    "* 'retired' have been identified from the ACTRES1 messages.\n",
    "* Benefits (i.e. have_ins and have_dep) info has been joined into this dataset.\n",
    "    1. missing values zeroed out \n",
    "* unempl_rate (at time of departure or current date) applied\n",
    "* Some features (columns) cleaned and encoded by scikitlearn label encode (N--> 0, Y-->1):\n",
    "    1. POSTAL_SFI --> zip5\n",
    "    2. VOLINVOL --> sep_status (0,1,2,3)\n",
    "    3. MAR_STA_SNAME_SFI --> mar_status (0,1,2)\n",
    "    4. SEX --> Male (1,0): M=1,F=0\n",
    "    5. COMP_FREQUENCY --> hourly_comp (1,0): H=1, A = 0\n",
    "    6. RATE* using the dictionary provided by Ron Davis to 3 levels: low, medium, High\n",
    "    7. BOX* columns using this mapping: BOX columns:  L -> 1, S -> 2, H -> 3\n",
    "        -- still need to apply the mapping of missing to 0.\n",
    "    8. FLSA_STATUS: map N: 0, Z: 1, X: -1\n",
    "    9. SHIFT: map 'N' to 0; rest same (arity=4)"
   ]
  },
  {
   "cell_type": "code",
   "execution_count": 5,
   "metadata": {
    "collapsed": false
   },
   "outputs": [
    {
     "name": "stdout",
     "output_type": "stream",
     "text": [
      "(199346, 188)\n"
     ]
    }
   ],
   "source": [
    "datafile = 'employee_dataframe9.tsv'\n",
    "empl_bene = pd.read_csv(datafile,sep='\\t',dtype={'KEY':np.str,'zip5':np.str,'SKEY':np.str})\n",
    "empl_bene.drop('Unnamed: 0',axis=1,inplace=True)\n",
    "# drop per_org --> universally EMP\n",
    "empl_bene.drop('PER_ORG',axis=1,inplace=True)\n",
    "print empl_bene.shape"
   ]
  },
  {
   "cell_type": "code",
   "execution_count": 6,
   "metadata": {
    "collapsed": false
   },
   "outputs": [
    {
     "data": {
      "text/plain": [
       "<matplotlib.axes._subplots.AxesSubplot at 0x7f763d83c110>"
      ]
     },
     "execution_count": 6,
     "metadata": {},
     "output_type": "execute_result"
    },
    {
     "data": {
      "image/png": "[encoded data removed]",
      "text/plain": [
       "<matplotlib.figure.Figure at 0x7f763d82ae10>"
      ]
     },
     "metadata": {},
     "output_type": "display_data"
    }
   ],
   "source": [
    "empl_bene.unempl_rate.hist(bins=40)"
   ]
  },
  {
   "cell_type": "markdown",
   "metadata": {},
   "source": [
    "### Fix the BOX columns missing values as 0\n",
    "* note I may want to remove this step from this place in the workflow and let bear fix it"
   ]
  },
  {
   "cell_type": "code",
   "execution_count": 7,
   "metadata": {
    "collapsed": false
   },
   "outputs": [],
   "source": [
    "## Fix the BOX columns missing as 0\n",
    "box_col_list = [x for x in empl_bene.columns if x.startswith('BOX')]\n",
    "#empl_bene[box_col_list].fillna(0,inplace=True)#.head()\n",
    "# replace the boxes with 0 \n",
    "#chg_to_zero_cols = ['BOX1','BOX2','BOX3','BOX4','BOX5','BOX6','BOX7','BOX8','BOX9','BOX10']\n",
    "#for box_col in box_col_list: #chg_to_zero_cols:\n",
    "#    empl_bene.fillna({box_col: 0},inplace=True)"
   ]
  },
  {
   "cell_type": "markdown",
   "metadata": {},
   "source": [
    "## remove Rows (i.e. employees ) corresponding to certain characteristics\n",
    "1. keep only those that are known (vol,invol, not) per discussion on April 22, 2015\n",
    "2. remove grades starting with 'L' and 'AT'\n",
    "    * As we discussed, I'm already excluding seasonal employees, interns, and agency interns. \n",
    "    * Let’s also exclude the L-Level executive employees are in the LDSH job group with job grades L1 to L10 (i.e., all job grades starting with “L”). \n",
    "    * Let’s also exclude Air Transportation as we don’t foresee applying the model to them either. Their job group is AIRT with job grades AT1 to AT8 (i.e., all job grades starting with “AT”).\n",
    "3. take a time slice --> only after 01-01-2002\n",
    " \n",
    "\n"
   ]
  },
  {
   "cell_type": "code",
   "execution_count": 8,
   "metadata": {
    "collapsed": false
   },
   "outputs": [
    {
     "name": "stdout",
     "output_type": "stream",
     "text": [
      "(198531, 188)\n"
     ]
    }
   ],
   "source": [
    "# remove sep_status over 1\n",
    "empl_bene = empl_bene[empl_bene.sep_status<=2]\n",
    "print np.shape(empl_bene)"
   ]
  },
  {
   "cell_type": "code",
   "execution_count": 9,
   "metadata": {
    "collapsed": false
   },
   "outputs": [
    {
     "name": "stdout",
     "output_type": "stream",
     "text": [
      "164\n",
      "24\n",
      "18 ['L5', 'L7', 'L6', 'L9', 'L10', 'AT5', 'L8', 'L4', 'AT7', 'AT2', 'L2', 'L3', 'AT3', 'L1', 'AT1', 'AT6', 'AT4', 'AT8']\n"
     ]
    }
   ],
   "source": [
    "# remove AT* and L* grades\n",
    "list_of_grades = empl_bene.GRADE.unique()\n",
    "print len(list_of_grades)\n",
    "grades_to_drop = [x for x in map(str,list_of_grades) if (x.startswith('L') or x.startswith('AT'))]\n",
    "print len(grades_to_drop)\n",
    "grades_to_drop.remove('LS2')\n",
    "grades_to_drop.remove('LS1')\n",
    "grades_to_drop.remove('LS3')\n",
    "grades_to_drop.remove('LM1')\n",
    "grades_to_drop.remove('LM2')\n",
    "grades_to_drop.remove('LP1')\n",
    "print len(grades_to_drop),grades_to_drop"
   ]
  },
  {
   "cell_type": "code",
   "execution_count": 10,
   "metadata": {
    "collapsed": false
   },
   "outputs": [
    {
     "name": "stdout",
     "output_type": "stream",
     "text": [
      "removing these 18 grades removes 581 employees\n",
      "(197950, 188)\n"
     ]
    }
   ],
   "source": [
    "print \"removing these {0} grades removes {1} employees\".format(len(grades_to_drop),len(empl_bene[empl_bene.GRADE.isin(grades_to_drop)]))\n",
    "empl=empl_bene[~empl_bene.GRADE.isin(grades_to_drop)].copy()\n",
    "print np.shape(empl)"
   ]
  },
  {
   "cell_type": "markdown",
   "metadata": {},
   "source": [
    "### Create a column for terminated (i.e separated but not Retired)\n",
    "* requires that status == 1 but retired == 0"
   ]
  },
  {
   "cell_type": "code",
   "execution_count": 11,
   "metadata": {
    "collapsed": false
   },
   "outputs": [
    {
     "name": "stdout",
     "output_type": "stream",
     "text": [
      "Out of 197950 rows, 105236 are separated and not retired.\n",
      "105236\n"
     ]
    }
   ],
   "source": [
    "## create a column for terminated (i.e. separated but NOT retired)\n",
    "empl['terminated']= 0\n",
    "my_rows = empl[(empl.status==1) & (empl.retired==0)].index\n",
    "print \"Out of {0} rows, {1} are separated and not retired.\".format(len(empl),len(my_rows))\n",
    "#sum(empl_df['terminated']))#, len(my_rows)\n",
    "empl.loc[my_rows,'terminated']=1\n",
    "print sum(empl.terminated)"
   ]
  },
  {
   "cell_type": "code",
   "execution_count": 12,
   "metadata": {
    "collapsed": false
   },
   "outputs": [
    {
     "data": {
      "text/html": [
       "<div>\n",
       "<table border=\"1\" class=\"dataframe\">\n",
       "  <thead>\n",
       "    <tr style=\"text-align: right;\">\n",
       "      <th>retired</th>\n",
       "      <th>0</th>\n",
       "      <th>1</th>\n",
       "    </tr>\n",
       "    <tr>\n",
       "      <th>status</th>\n",
       "      <th></th>\n",
       "      <th></th>\n",
       "    </tr>\n",
       "  </thead>\n",
       "  <tbody>\n",
       "    <tr>\n",
       "      <th>0</th>\n",
       "      <td>69475</td>\n",
       "      <td>1</td>\n",
       "    </tr>\n",
       "    <tr>\n",
       "      <th>1</th>\n",
       "      <td>105236</td>\n",
       "      <td>23238</td>\n",
       "    </tr>\n",
       "  </tbody>\n",
       "</table>\n",
       "</div>"
      ],
      "text/plain": [
       "retired       0      1\n",
       "status                \n",
       "0         69475      1\n",
       "1        105236  23238"
      ]
     },
     "execution_count": 12,
     "metadata": {},
     "output_type": "execute_result"
    }
   ],
   "source": [
    "pd.crosstab(empl.status, empl.retired)"
   ]
  },
  {
   "cell_type": "markdown",
   "metadata": {},
   "source": [
    "## the one case where the person is 'retired' but has status of 0 is wrong -- I'm removing this row."
   ]
  },
  {
   "cell_type": "code",
   "execution_count": 14,
   "metadata": {
    "collapsed": false
   },
   "outputs": [
    {
     "name": "stdout",
     "output_type": "stream",
     "text": [
      "50687\n"
     ]
    }
   ],
   "source": [
    "wrong_status_idx = empl[(empl.status == 0)& (empl.retired == 1)].index[0]\n",
    "print wrong_status_idx"
   ]
  },
  {
   "cell_type": "code",
   "execution_count": 20,
   "metadata": {
    "collapsed": false
   },
   "outputs": [
    {
     "name": "stdout",
     "output_type": "stream",
     "text": [
      "(197949, 189)\n"
     ]
    }
   ],
   "source": [
    "empl.drop(empl.index[wrong_status_idx],inplace=True)\n",
    "print np.shape(empl)"
   ]
  },
  {
   "cell_type": "markdown",
   "metadata": {},
   "source": [
    "## Create subset that is based upon those after a given date\n",
    "specifically January 1, 2002"
   ]
  },
  {
   "cell_type": "code",
   "execution_count": 21,
   "metadata": {
    "collapsed": false
   },
   "outputs": [
    {
     "name": "stdout",
     "output_type": "stream",
     "text": [
      "2002-01-01 134236\n",
      "--------- STATUS \n",
      "0    69476\n",
      "1    64760\n",
      "dtype: int64\n",
      "--------- TERMINATED\n",
      "0    84592\n",
      "1    49644\n",
      "dtype: int64\n",
      "--------- RETIRED\n",
      "0    119119\n",
      "1     15117\n",
      "dtype: int64\n",
      "(134236, 189)\n"
     ]
    }
   ],
   "source": [
    "date0 = '2002-01-01'\n",
    "em2002 = empl.ix[empl.TERMINATION_DT>=date0].copy()\n",
    "print date0, len(em2002)\n",
    "print \"--------- STATUS \"\n",
    "print em2002.status.value_counts()\n",
    "print \"--------- TERMINATED\"\n",
    "print em2002.terminated.value_counts()\n",
    "print \"--------- RETIRED\"\n",
    "print em2002.retired.value_counts()\n",
    "print np.shape(em2002)"
   ]
  },
  {
   "cell_type": "markdown",
   "metadata": {},
   "source": [
    "# Tweak some of the columns\n",
    "1. convert tenure_months into tenure Years  and drop the tenure_months columns. Tenure in years is just easier to think about.\n",
    "2. create timestamps for columns that are timestamps \n",
    "3. create a value for the age at hire (hire_age)"
   ]
  },
  {
   "cell_type": "code",
   "execution_count": 22,
   "metadata": {
    "collapsed": false
   },
   "outputs": [
    {
     "name": "stdout",
     "output_type": "stream",
     "text": [
      "(134236, 189)\n"
     ]
    }
   ],
   "source": [
    "print np.shape(em2002)\n",
    "em2002['Tenure_years'] = em2002['Tenure_months']/12.\n",
    "em2002.drop('Tenure_months',axis=1,inplace=True)\n"
   ]
  },
  {
   "cell_type": "code",
   "execution_count": 23,
   "metadata": {
    "collapsed": false
   },
   "outputs": [],
   "source": [
    "## create timestamps for columns that are timestamps\n",
    "em2002[['hire_tstmp','term_tstmp','birth_tstmp']] = em2002[['HIRE_DT','TERMINATION_DT','BIRTHDATE']].apply(lambda x:pd.to_datetime(x))\n",
    "## add a column for age at hire date\n",
    "hire_age_tdelta = em2002['hire_tstmp']-em2002['birth_tstmp']\n",
    "# convert to days, months, or years\n",
    "em2002['hire_age'] = hire_age_tdelta/np.timedelta64(1,'Y')\n",
    "\n"
   ]
  },
  {
   "cell_type": "markdown",
   "metadata": {},
   "source": [
    "###Assign random indices to this data frame"
   ]
  },
  {
   "cell_type": "code",
   "execution_count": 24,
   "metadata": {
    "collapsed": false
   },
   "outputs": [
    {
     "name": "stdout",
     "output_type": "stream",
     "text": [
      "134236\n"
     ]
    },
    {
     "data": {
      "text/html": [
       "<div>\n",
       "<table border=\"1\" class=\"dataframe\">\n",
       "  <thead>\n",
       "    <tr style=\"text-align: right;\">\n",
       "      <th></th>\n",
       "      <th>ACTRES1</th>\n",
       "      <th>ACTRES10</th>\n",
       "      <th>ACTRES2</th>\n",
       "      <th>ACTRES3</th>\n",
       "      <th>ACTRES4</th>\n",
       "      <th>ACTRES5</th>\n",
       "      <th>ACTRES6</th>\n",
       "      <th>ACTRES7</th>\n",
       "      <th>ACTRES8</th>\n",
       "      <th>ACTRES9</th>\n",
       "      <th>...</th>\n",
       "      <th>sep_status</th>\n",
       "      <th>mar_status</th>\n",
       "      <th>retired</th>\n",
       "      <th>unempl_rate</th>\n",
       "      <th>terminated</th>\n",
       "      <th>Tenure_years</th>\n",
       "      <th>hire_tstmp</th>\n",
       "      <th>term_tstmp</th>\n",
       "      <th>birth_tstmp</th>\n",
       "      <th>hire_age</th>\n",
       "    </tr>\n",
       "  </thead>\n",
       "  <tbody>\n",
       "    <tr>\n",
       "      <th>0</th>\n",
       "      <td>NO REASON GIVEN</td>\n",
       "      <td>NaN</td>\n",
       "      <td>EMPLOYEE NEW HIRE</td>\n",
       "      <td>NaN</td>\n",
       "      <td>NaN</td>\n",
       "      <td>NaN</td>\n",
       "      <td>NaN</td>\n",
       "      <td>NaN</td>\n",
       "      <td>NaN</td>\n",
       "      <td>NaN</td>\n",
       "      <td>...</td>\n",
       "      <td>1</td>\n",
       "      <td>1</td>\n",
       "      <td>0</td>\n",
       "      <td>8.0</td>\n",
       "      <td>1</td>\n",
       "      <td>0.238198</td>\n",
       "      <td>2012-11-05</td>\n",
       "      <td>2013-01-31</td>\n",
       "      <td>1987-04-16</td>\n",
       "      <td>25.558362</td>\n",
       "    </tr>\n",
       "    <tr>\n",
       "      <th>1</th>\n",
       "      <td>EMPLOYEE NEW HIRE;LOCATION/FLOOR CHANGE;JOB RE...</td>\n",
       "      <td>NaN</td>\n",
       "      <td>NaN</td>\n",
       "      <td>NaN</td>\n",
       "      <td>NaN</td>\n",
       "      <td>NaN</td>\n",
       "      <td>NaN</td>\n",
       "      <td>NaN</td>\n",
       "      <td>NaN</td>\n",
       "      <td>NaN</td>\n",
       "      <td>...</td>\n",
       "      <td>2</td>\n",
       "      <td>1</td>\n",
       "      <td>0</td>\n",
       "      <td>4.6</td>\n",
       "      <td>1</td>\n",
       "      <td>0.216295</td>\n",
       "      <td>2007-04-09</td>\n",
       "      <td>2007-06-27</td>\n",
       "      <td>1980-09-24</td>\n",
       "      <td>26.538533</td>\n",
       "    </tr>\n",
       "    <tr>\n",
       "      <th>2</th>\n",
       "      <td>NO REASON GIVEN</td>\n",
       "      <td>EMPLOYEE NEW HIRE;TRANSFER W/O JOB NUMBER CHANGE</td>\n",
       "      <td>TRANSFER W/O JOB NUMBER CHANGE;MERIT;JOB RECLA...</td>\n",
       "      <td>TRANSFER W/O JOB NUMBER CHANGE;MERIT;JOB RECLA...</td>\n",
       "      <td>REVIEW DATE CHANGE;TRANSFER W/O JOB NUMBER CHA...</td>\n",
       "      <td>COMPANY WIDE CONVERSION;REGIONAL CONVERSION;CO...</td>\n",
       "      <td>TRANSFER W/ JOB NUMBER CHANGE;TRANSFER W/O JOB...</td>\n",
       "      <td>MERIT;COST OF LIVING ADJUSTMENT;TRANSFER W/O J...</td>\n",
       "      <td>TRANSFER W/O JOB NUMBER CHANGE;PROMOTION WITH ...</td>\n",
       "      <td>MERIT;JOB CODE CHANGE;MERIT</td>\n",
       "      <td>...</td>\n",
       "      <td>1</td>\n",
       "      <td>0</td>\n",
       "      <td>0</td>\n",
       "      <td>5.7</td>\n",
       "      <td>1</td>\n",
       "      <td>8.424540</td>\n",
       "      <td>1995-07-31</td>\n",
       "      <td>2004-01-02</td>\n",
       "      <td>1968-02-04</td>\n",
       "      <td>27.485848</td>\n",
       "    </tr>\n",
       "    <tr>\n",
       "      <th>3</th>\n",
       "      <td>MERIT;TRANSFER W/O JOB NUMBER CHANGE;TRANSFER ...</td>\n",
       "      <td>NaN</td>\n",
       "      <td>MERIT;FAMILY LEAVE;TRANSFER W/O JOB NUMBER CHA...</td>\n",
       "      <td>MERIT;RATING SCALE CONVERSION</td>\n",
       "      <td>COMPANY WIDE CONVERSION;REGIONAL CONVERSION;ME...</td>\n",
       "      <td>MERIT;COST OF LIVING ADJUSTMENT</td>\n",
       "      <td>EMPLOYEE NEW HIRE;TRANSFER W/O JOB NUMBER CHAN...</td>\n",
       "      <td>NaN</td>\n",
       "      <td>NaN</td>\n",
       "      <td>NaN</td>\n",
       "      <td>...</td>\n",
       "      <td>2</td>\n",
       "      <td>0</td>\n",
       "      <td>0</td>\n",
       "      <td>6.0</td>\n",
       "      <td>1</td>\n",
       "      <td>5.319753</td>\n",
       "      <td>1998-06-08</td>\n",
       "      <td>2003-10-03</td>\n",
       "      <td>1967-09-21</td>\n",
       "      <td>30.713841</td>\n",
       "    </tr>\n",
       "    <tr>\n",
       "      <th>4</th>\n",
       "      <td>TRANSFER W/O JOB NUMBER CHANGE;TRANSFER W/O JO...</td>\n",
       "      <td>MISCELLANEOUS DATA CHANGE;MERIT</td>\n",
       "      <td>TRANSFER W/O JOB NUMBER CHANGE;MERIT</td>\n",
       "      <td>MERIT;TRANSFER W/ JOB NUMBER CHANGE</td>\n",
       "      <td>LOCATION/FLOOR CHANGE;TRANSFER W/O JOB NUMBER ...</td>\n",
       "      <td>MERIT</td>\n",
       "      <td>MERIT</td>\n",
       "      <td>ORGANIZATIONAL CHANGES;TRANSFER W/O JOB NUMBER...</td>\n",
       "      <td>MERIT;TRANSFER W/O JOB NUMBER CHANGE</td>\n",
       "      <td>PROMOTION WITH MERIT INCREASE;MERIT;TRANSFER W...</td>\n",
       "      <td>...</td>\n",
       "      <td>0</td>\n",
       "      <td>0</td>\n",
       "      <td>0</td>\n",
       "      <td>5.7</td>\n",
       "      <td>0</td>\n",
       "      <td>29.542017</td>\n",
       "      <td>1985-06-17</td>\n",
       "      <td>2015-01-01</td>\n",
       "      <td>1964-10-20</td>\n",
       "      <td>20.657508</td>\n",
       "    </tr>\n",
       "  </tbody>\n",
       "</table>\n",
       "<p>5 rows × 193 columns</p>\n",
       "</div>"
      ],
      "text/plain": [
       "                                             ACTRES1  \\\n",
       "0                                    NO REASON GIVEN   \n",
       "1  EMPLOYEE NEW HIRE;LOCATION/FLOOR CHANGE;JOB RE...   \n",
       "2                                    NO REASON GIVEN   \n",
       "3  MERIT;TRANSFER W/O JOB NUMBER CHANGE;TRANSFER ...   \n",
       "4  TRANSFER W/O JOB NUMBER CHANGE;TRANSFER W/O JO...   \n",
       "\n",
       "                                           ACTRES10  \\\n",
       "0                                               NaN   \n",
       "1                                               NaN   \n",
       "2  EMPLOYEE NEW HIRE;TRANSFER W/O JOB NUMBER CHANGE   \n",
       "3                                               NaN   \n",
       "4                   MISCELLANEOUS DATA CHANGE;MERIT   \n",
       "\n",
       "                                             ACTRES2  \\\n",
       "0                                  EMPLOYEE NEW HIRE   \n",
       "1                                                NaN   \n",
       "2  TRANSFER W/O JOB NUMBER CHANGE;MERIT;JOB RECLA...   \n",
       "3  MERIT;FAMILY LEAVE;TRANSFER W/O JOB NUMBER CHA...   \n",
       "4               TRANSFER W/O JOB NUMBER CHANGE;MERIT   \n",
       "\n",
       "                                             ACTRES3  \\\n",
       "0                                                NaN   \n",
       "1                                                NaN   \n",
       "2  TRANSFER W/O JOB NUMBER CHANGE;MERIT;JOB RECLA...   \n",
       "3                      MERIT;RATING SCALE CONVERSION   \n",
       "4                MERIT;TRANSFER W/ JOB NUMBER CHANGE   \n",
       "\n",
       "                                             ACTRES4  \\\n",
       "0                                                NaN   \n",
       "1                                                NaN   \n",
       "2  REVIEW DATE CHANGE;TRANSFER W/O JOB NUMBER CHA...   \n",
       "3  COMPANY WIDE CONVERSION;REGIONAL CONVERSION;ME...   \n",
       "4  LOCATION/FLOOR CHANGE;TRANSFER W/O JOB NUMBER ...   \n",
       "\n",
       "                                             ACTRES5  \\\n",
       "0                                                NaN   \n",
       "1                                                NaN   \n",
       "2  COMPANY WIDE CONVERSION;REGIONAL CONVERSION;CO...   \n",
       "3                    MERIT;COST OF LIVING ADJUSTMENT   \n",
       "4                                              MERIT   \n",
       "\n",
       "                                             ACTRES6  \\\n",
       "0                                                NaN   \n",
       "1                                                NaN   \n",
       "2  TRANSFER W/ JOB NUMBER CHANGE;TRANSFER W/O JOB...   \n",
       "3  EMPLOYEE NEW HIRE;TRANSFER W/O JOB NUMBER CHAN...   \n",
       "4                                              MERIT   \n",
       "\n",
       "                                             ACTRES7  \\\n",
       "0                                                NaN   \n",
       "1                                                NaN   \n",
       "2  MERIT;COST OF LIVING ADJUSTMENT;TRANSFER W/O J...   \n",
       "3                                                NaN   \n",
       "4  ORGANIZATIONAL CHANGES;TRANSFER W/O JOB NUMBER...   \n",
       "\n",
       "                                             ACTRES8  \\\n",
       "0                                                NaN   \n",
       "1                                                NaN   \n",
       "2  TRANSFER W/O JOB NUMBER CHANGE;PROMOTION WITH ...   \n",
       "3                                                NaN   \n",
       "4               MERIT;TRANSFER W/O JOB NUMBER CHANGE   \n",
       "\n",
       "                                             ACTRES9    ...      sep_status  \\\n",
       "0                                                NaN    ...               1   \n",
       "1                                                NaN    ...               2   \n",
       "2                        MERIT;JOB CODE CHANGE;MERIT    ...               1   \n",
       "3                                                NaN    ...               2   \n",
       "4  PROMOTION WITH MERIT INCREASE;MERIT;TRANSFER W...    ...               0   \n",
       "\n",
       "   mar_status  retired  unempl_rate terminated Tenure_years  hire_tstmp  \\\n",
       "0           1        0          8.0          1     0.238198  2012-11-05   \n",
       "1           1        0          4.6          1     0.216295  2007-04-09   \n",
       "2           0        0          5.7          1     8.424540  1995-07-31   \n",
       "3           0        0          6.0          1     5.319753  1998-06-08   \n",
       "4           0        0          5.7          0    29.542017  1985-06-17   \n",
       "\n",
       "  term_tstmp  birth_tstmp   hire_age  \n",
       "0 2013-01-31   1987-04-16  25.558362  \n",
       "1 2007-06-27   1980-09-24  26.538533  \n",
       "2 2004-01-02   1968-02-04  27.485848  \n",
       "3 2003-10-03   1967-09-21  30.713841  \n",
       "4 2015-01-01   1964-10-20  20.657508  \n",
       "\n",
       "[5 rows x 193 columns]"
      ]
     },
     "execution_count": 24,
     "metadata": {},
     "output_type": "execute_result"
    }
   ],
   "source": [
    "list_of_indices = list(range(em2002.KEY.nunique()))\n",
    "print len(list_of_indices )\n",
    "random.seed(833311)\n",
    "#new_indices = [x for x in random.shuffle(list_of_indices)\n",
    "random.shuffle(list_of_indices)#, len(list_of_indices))\n",
    "em2002.index = list_of_indices # note that random.shuffle does this shuffling inplace\n",
    "em2002.sort_index(inplace=True)\n",
    "em2002.head()"
   ]
  },
  {
   "cell_type": "markdown",
   "metadata": {},
   "source": [
    "# Begin to Step through with BEAR for analysis\n",
    "1. list all the columns\n",
    "2. identify columns that I don't want to include in the analysis\n",
    "3. Identify columns that require further refinement\n",
    "    * missing values\n",
    "    * categorical\n",
    "    * survival function\n",
    "4. create test-train split (hold out eval set)"
   ]
  },
  {
   "cell_type": "code",
   "execution_count": 25,
   "metadata": {
    "collapsed": false
   },
   "outputs": [
    {
     "data": {
      "text/plain": [
       "193"
      ]
     },
     "execution_count": 25,
     "metadata": {},
     "output_type": "execute_result"
    }
   ],
   "source": [
    "all_cols= em2002.columns.tolist()\n",
    "len(all_cols)"
   ]
  },
  {
   "cell_type": "code",
   "execution_count": 47,
   "metadata": {
    "collapsed": false
   },
   "outputs": [
    {
     "name": "stdout",
     "output_type": "stream",
     "text": [
      "69\n"
     ]
    }
   ],
   "source": [
    "columns_with_missing1 = br.get_columns_with_nulls(em2002,rows_to_scan='all')\n",
    "print len(columns_with_missing1)"
   ]
  },
  {
   "cell_type": "code",
   "execution_count": 48,
   "metadata": {
    "collapsed": false
   },
   "outputs": [
    {
     "name": "stdout",
     "output_type": "stream",
     "text": [
      "190 154 36\n"
     ]
    }
   ],
   "source": [
    "numeric_cols = br.get_numeric(em2002)\n",
    "categorical_cols = br.get_categorical(em2002)\n",
    "print len(numeric_cols)+len(categorical_cols), len(numeric_cols),len(categorical_cols)"
   ]
  },
  {
   "cell_type": "code",
   "execution_count": 28,
   "metadata": {
    "collapsed": false
   },
   "outputs": [
    {
     "data": {
      "text/plain": [
       "['birth_tstmp', 'hire_tstmp', 'term_tstmp']"
      ]
     },
     "execution_count": 28,
     "metadata": {},
     "output_type": "execute_result"
    }
   ],
   "source": [
    "time_stamp_cols = list(set(all_cols) - set(categorical_cols)-set(numeric_cols))\n",
    "time_stamp_cols"
   ]
  },
  {
   "cell_type": "markdown",
   "metadata": {},
   "source": [
    "#### partitioning of the columns\n",
    "* 193 columns (all_cols)\n",
    "    - 3 are timestamps\n",
    "    - 154 are numeric\n",
    "    - 36 are categorical\n",
    "* 69 have missing values (columns_with_missing1)"
   ]
  },
  {
   "cell_type": "markdown",
   "metadata": {},
   "source": [
    "### Define some columns that I don't want (typically have high number of missing values or are superfluous)\n",
    "* ADDRESS*, ACTRES*, LOC_CITY, MAR_STATUS_DT, KEY"
   ]
  },
  {
   "cell_type": "code",
   "execution_count": 50,
   "metadata": {
    "collapsed": false
   },
   "outputs": [
    {
     "name": "stdout",
     "output_type": "stream",
     "text": [
      "17\n"
     ]
    }
   ],
   "source": [
    "columns_to_omit = [a for a in em2002.columns if a.startswith('ACTRES')]\n",
    "columns_to_omit.append('ADDRESS1')\n",
    "columns_to_omit.append('ADDRESS2')\n",
    "#columns_to_omit.append('MAR_STATUS_DT')\n",
    "columns_to_omit.append('KEY')\n",
    "columns_to_omit.append('SKEY')\n",
    "columns_to_omit.append('STATE') # these values are noisier than LOC_STATE\n",
    "columns_to_omit.append('LOC_CITY')\n",
    "columns_to_omit.append('zip5')\n",
    "print len(columns_to_omit)"
   ]
  },
  {
   "cell_type": "markdown",
   "metadata": {},
   "source": [
    "## collect time-related columns into several groups:\n",
    "* months of service\n",
    "* dates\n",
    "* tdelta\n",
    "* useful timestamps\n",
    "* tenure, age\n"
   ]
  },
  {
   "cell_type": "code",
   "execution_count": 51,
   "metadata": {
    "collapsed": false
   },
   "outputs": [
    {
     "name": "stdout",
     "output_type": "stream",
     "text": [
      "7 ['CUR_DEPT_MOS', 'CUR_EFUNC_MOS', 'CUR_FUNC_MOS', 'CUR_GRADE_MOS', 'CUR_JOB_MOS', 'CUR_LOC_MOS', 'TELE_MOS']\n",
      "8 ['HIRE_DT', 'LAST_HIRE_DT', 'MAR_STATUS_DT', 'SERVICE_DT', 'TERMINATION_DT', 'BIRTHDATE', 'Tenure_tdelta', 'Age_tdelta']\n",
      "3 ['Tenure_years', 'Age_years', 'hire_age']\n"
     ]
    }
   ],
   "source": [
    "mos_cols = [x for x in em2002.columns if x.endswith('MOS')]\n",
    "print len(mos_cols), mos_cols\n",
    "#tstmp_cols = [x for x in em2002.columns if x.endswith('tstmp')]\n",
    "#print len(tstmp_cols), tstmp_cols\n",
    "date_cols = [x for x in em2002.columns if x.endswith('DT')]\n",
    "date_cols.append('BIRTHDATE')\n",
    "date_cols.append('Tenure_tdelta')\n",
    "date_cols.append('Age_tdelta')\n",
    "print len(date_cols), date_cols\n",
    "useful_time_cols = []\n",
    "useful_time_cols.append('Tenure_years')\n",
    "useful_time_cols.append('Age_years')\n",
    "useful_time_cols.append('hire_age')\n",
    "print len(useful_time_cols), useful_time_cols\n",
    "# remove \"MAR_STATUS_DT\" from date_cols"
   ]
  },
  {
   "cell_type": "code",
   "execution_count": 52,
   "metadata": {
    "collapsed": false
   },
   "outputs": [
    {
     "name": "stdout",
     "output_type": "stream",
     "text": [
      "Now there are 168 total columns to consider.\n"
     ]
    }
   ],
   "source": [
    "# reduce numeric and categorical by those that are superfluous\n",
    "all_cols2 = list(set(all_cols)-set(columns_to_omit)- set(date_cols))\n",
    "print \"Now there are {0} total columns to consider.\".format(len(all_cols2))"
   ]
  },
  {
   "cell_type": "code",
   "execution_count": 54,
   "metadata": {
    "collapsed": false
   },
   "outputs": [
    {
     "name": "stdout",
     "output_type": "stream",
     "text": [
      "This leaves 11 categorical columns, 154 numeric columns and 52 columns with missing data\n"
     ]
    }
   ],
   "source": [
    "cols_categorical = br.get_categorical(em2002[all_cols2])\n",
    "\n",
    "cols_numeric = br.get_numeric(em2002[all_cols2])\n",
    "\n",
    "cols_missing = br.get_columns_with_nulls(em2002[all_cols2],rows_to_scan='all')\n",
    "print \"This leaves {0} categorical columns, {1} numeric columns and {2} columns with missing data\".format(len(cols_categorical),len(cols_numeric),len(cols_missing))"
   ]
  },
  {
   "cell_type": "code",
   "execution_count": 55,
   "metadata": {
    "collapsed": false
   },
   "outputs": [
    {
     "name": "stdout",
     "output_type": "stream",
     "text": [
      "47 5\n"
     ]
    }
   ],
   "source": [
    "numeric_to_impute = br.get_columns_with_nulls(em2002[cols_numeric])\n",
    "missing_categorical = br.get_columns_with_nulls(em2002[cols_categorical],rows_to_scan='all')\n",
    "print len(numeric_to_impute),len(missing_categorical)"
   ]
  },
  {
   "cell_type": "code",
   "execution_count": 56,
   "metadata": {
    "collapsed": false
   },
   "outputs": [
    {
     "data": {
      "text/plain": [
       "['JOB_FAMILY', 'LOC_TYPE_DESCR_SFI', 'LOC_STATE', 'JOB_FUNCTION', 'GRADE']"
      ]
     },
     "execution_count": 56,
     "metadata": {},
     "output_type": "execute_result"
    }
   ],
   "source": [
    "missing_categorical"
   ]
  },
  {
   "cell_type": "markdown",
   "metadata": {},
   "source": [
    "# Deal with the categorical columns\n",
    "###1. describe their features and sparcity\n",
    "###2. assign missing values for the missing ones\n",
    "    * GRADE, JOB_FUNCTION to XXX\n",
    "    * LOC_STATE to XX\n",
    "    * JOB_FAMILY to XXXX\n",
    "    * LOC_TYPE_DESCR_SFI to UNKNOWN LOCATION TYPE\n",
    "###3. convert select columns that are already numeric into categorical \n",
    "    * FLSA_STATUS, FUNC_ID_SFI, EXT_FUNC_ID_SFI, FLOR_SFI, COMPANY, DIVISION_CODE_SFI, ETHNIC_GROUP, JOBCODE"
   ]
  },
  {
   "cell_type": "code",
   "execution_count": 57,
   "metadata": {
    "collapsed": false
   },
   "outputs": [
    {
     "data": {
      "text/html": [
       "<div>\n",
       "<table border=\"1\" class=\"dataframe\">\n",
       "  <thead>\n",
       "    <tr style=\"text-align: right;\">\n",
       "      <th></th>\n",
       "      <th>Percentage</th>\n",
       "    </tr>\n",
       "  </thead>\n",
       "  <tbody>\n",
       "    <tr>\n",
       "      <th>JOB_FUNCTION</th>\n",
       "      <td>0.034030</td>\n",
       "    </tr>\n",
       "    <tr>\n",
       "      <th>JOB_FAMILY</th>\n",
       "      <td>0.033806</td>\n",
       "    </tr>\n",
       "    <tr>\n",
       "      <th>LOC_STATE</th>\n",
       "      <td>0.000037</td>\n",
       "    </tr>\n",
       "    <tr>\n",
       "      <th>LOC_TYPE_DESCR_SFI</th>\n",
       "      <td>0.000007</td>\n",
       "    </tr>\n",
       "    <tr>\n",
       "      <th>GRADE</th>\n",
       "      <td>0.000007</td>\n",
       "    </tr>\n",
       "  </tbody>\n",
       "</table>\n",
       "</div>"
      ],
      "text/plain": [
       "                    Percentage\n",
       "JOB_FUNCTION          0.034030\n",
       "JOB_FAMILY            0.033806\n",
       "LOC_STATE             0.000037\n",
       "LOC_TYPE_DESCR_SFI    0.000007\n",
       "GRADE                 0.000007"
      ]
     },
     "execution_count": 57,
     "metadata": {},
     "output_type": "execute_result"
    }
   ],
   "source": [
    "br.get_percentage_of_nulls_pd(em2002[cols_categorical])"
   ]
  },
  {
   "cell_type": "code",
   "execution_count": 58,
   "metadata": {
    "collapsed": false
   },
   "outputs": [
    {
     "data": {
      "text/html": [
       "<table border=\"1\" class=\"dataframe\">\n",
       "  <thead>\n",
       "    <tr style=\"text-align: right;\">\n",
       "      <th></th>\n",
       "      <th>JOB_FAMILY</th>\n",
       "      <th>LOC_TYPE_DESCR_SFI</th>\n",
       "      <th>EMPL_CLASS</th>\n",
       "      <th>LOCATION</th>\n",
       "      <th>EEO1CODE</th>\n",
       "      <th>LOC_STATE</th>\n",
       "      <th>LEGACY_DEPT_SFI</th>\n",
       "      <th>EMPL_TYPE</th>\n",
       "      <th>FULL_PART_TIME</th>\n",
       "      <th>JOB_FUNCTION</th>\n",
       "      <th>GRADE</th>\n",
       "    </tr>\n",
       "  </thead>\n",
       "  <tbody>\n",
       "    <tr>\n",
       "      <th>count</th>\n",
       "      <td>129698</td>\n",
       "      <td>134235</td>\n",
       "      <td>134236</td>\n",
       "      <td>134236</td>\n",
       "      <td>134236</td>\n",
       "      <td>134231</td>\n",
       "      <td>134236</td>\n",
       "      <td>134236</td>\n",
       "      <td>134236</td>\n",
       "      <td>129668</td>\n",
       "      <td>134235</td>\n",
       "    </tr>\n",
       "    <tr>\n",
       "      <th>unique</th>\n",
       "      <td>1447</td>\n",
       "      <td>30</td>\n",
       "      <td>6</td>\n",
       "      <td>13027</td>\n",
       "      <td>10</td>\n",
       "      <td>51</td>\n",
       "      <td>30337</td>\n",
       "      <td>5</td>\n",
       "      <td>4</td>\n",
       "      <td>18</td>\n",
       "      <td>124</td>\n",
       "    </tr>\n",
       "    <tr>\n",
       "      <th>top</th>\n",
       "      <td>CLMREP</td>\n",
       "      <td>OPERATIONS CENTER</td>\n",
       "      <td>1</td>\n",
       "      <td>00963</td>\n",
       "      <td>5</td>\n",
       "      <td>IL</td>\n",
       "      <td>119004993</td>\n",
       "      <td>E</td>\n",
       "      <td>F</td>\n",
       "      <td>PSA</td>\n",
       "      <td>PA2</td>\n",
       "    </tr>\n",
       "    <tr>\n",
       "      <th>freq</th>\n",
       "      <td>12480</td>\n",
       "      <td>86283</td>\n",
       "      <td>131685</td>\n",
       "      <td>11604</td>\n",
       "      <td>59014</td>\n",
       "      <td>24576</td>\n",
       "      <td>1770</td>\n",
       "      <td>85371</td>\n",
       "      <td>121703</td>\n",
       "      <td>52227</td>\n",
       "      <td>21767</td>\n",
       "    </tr>\n",
       "  </tbody>\n",
       "</table>"
      ],
      "text/plain": [
       "<IPython.core.display.HTML object>"
      ]
     },
     "metadata": {},
     "output_type": "display_data"
    },
    {
     "name": "stdout",
     "output_type": "stream",
     "text": [
      "134236 rows x 11 columns of categorical variables.\n"
     ]
    }
   ],
   "source": [
    "br.describe_categorical(em2002[cols_categorical])"
   ]
  },
  {
   "cell_type": "markdown",
   "metadata": {},
   "source": [
    "### 2. Go ahead and assign missing values for the categorical ones that are missing "
   ]
  },
  {
   "cell_type": "code",
   "execution_count": 59,
   "metadata": {
    "collapsed": true
   },
   "outputs": [],
   "source": [
    "em2002['LOC_STATE'].fillna('XX',inplace=True)\n",
    "em2002['GRADE'].fillna('XXX',inplace=True)\n",
    "em2002['JOB_FAMILY'].fillna('XXXXX',inplace=True)\n",
    "em2002['LOC_TYPE_DESCR_SFI'].fillna('UNKNOWN LOCATION TYPE',inplace=True)\n",
    "em2002['JOB_FUNCTION'].fillna('XXX',inplace=True)"
   ]
  },
  {
   "cell_type": "markdown",
   "metadata": {},
   "source": [
    "###3. Look at numeric ones that should be considered categorical\n",
    "\n"
   ]
  },
  {
   "cell_type": "code",
   "execution_count": 60,
   "metadata": {
    "collapsed": false
   },
   "outputs": [],
   "source": [
    "other_categorical = ['FUNC_ID_SFI','EXT_FUNC_ID_SFI','FLOR_SFI','COMPANY','DIVISION_CODE_SFI', 'JOBCODE','ETHNIC_GROUP']\n",
    "# remove these from numeric_cols"
   ]
  },
  {
   "cell_type": "markdown",
   "metadata": {},
   "source": [
    "#### redefine my categorical cols to include these\n"
   ]
  },
  {
   "cell_type": "code",
   "execution_count": 62,
   "metadata": {
    "collapsed": false
   },
   "outputs": [
    {
     "name": "stdout",
     "output_type": "stream",
     "text": [
      "18 147\n"
     ]
    }
   ],
   "source": [
    "#augment with the 'other categorical' ones from numerical\n",
    "cols_categorical2 = []\n",
    "cols_categorical2 += cols_categorical\n",
    "cols_categorical2 +=other_categorical\n",
    "for c in other_categorical:\n",
    "    cols_numeric.remove(c)\n",
    "print len(cols_categorical2),len(cols_numeric)\n",
    "#drop LEGACY_DEPT_CD, company \n",
    "#cols_categorical.remove('LEGACY_DEPT_CD')"
   ]
  },
  {
   "cell_type": "code",
   "execution_count": 63,
   "metadata": {
    "collapsed": false
   },
   "outputs": [
    {
     "data": {
      "text/html": [
       "<div>\n",
       "<table border=\"1\" class=\"dataframe\">\n",
       "  <thead>\n",
       "    <tr style=\"text-align: right;\">\n",
       "      <th></th>\n",
       "      <th>SAL1</th>\n",
       "      <th>ANNUAL_RT</th>\n",
       "    </tr>\n",
       "  </thead>\n",
       "  <tbody>\n",
       "    <tr>\n",
       "      <th>SAL1</th>\n",
       "      <td>1</td>\n",
       "      <td>1</td>\n",
       "    </tr>\n",
       "    <tr>\n",
       "      <th>ANNUAL_RT</th>\n",
       "      <td>1</td>\n",
       "      <td>1</td>\n",
       "    </tr>\n",
       "  </tbody>\n",
       "</table>\n",
       "</div>"
      ],
      "text/plain": [
       "           SAL1  ANNUAL_RT\n",
       "SAL1          1          1\n",
       "ANNUAL_RT     1          1"
      ]
     },
     "execution_count": 63,
     "metadata": {},
     "output_type": "execute_result"
    }
   ],
   "source": [
    "em2002[['SAL1','ANNUAL_RT']].corr()"
   ]
  },
  {
   "cell_type": "code",
   "execution_count": 64,
   "metadata": {
    "collapsed": true
   },
   "outputs": [],
   "source": [
    "cols_to_omit_2 = []\n",
    "cols_to_omit_2.append('TOT_MO_SERVICE_SFI')\n",
    "cols_to_omit_2.append('LEGACY_DEPT_SFI')\n",
    "cols_to_omit_2.append('COMPANY')\n",
    "cols_to_omit_2.append('ANNUAL_RT')\n"
   ]
  },
  {
   "cell_type": "code",
   "execution_count": 65,
   "metadata": {
    "collapsed": false
   },
   "outputs": [
    {
     "data": {
      "text/plain": [
       "<matplotlib.axes._subplots.AxesSubplot at 0x7f763cfc9890>"
      ]
     },
     "execution_count": 65,
     "metadata": {},
     "output_type": "execute_result"
    },
    {
     "data": {
      "image/png": "[encoded data removed]",
      "text/plain": [
       "<matplotlib.figure.Figure at 0x7f763288ec90>"
      ]
     },
     "metadata": {},
     "output_type": "display_data"
    }
   ],
   "source": [
    "rate_col_list = [c for c in em2002.columns if c.startswith('RATE')]\n",
    "box_rate_list = []\n",
    "box_rate_list +=box_col_list\n",
    "box_rate_list += rate_col_list\n",
    "sns.heatmap(em2002[box_rate_list].corr())"
   ]
  },
  {
   "cell_type": "markdown",
   "metadata": {},
   "source": [
    "Observation: the RATES are more closely correlated that the BOXES -- not that it matters if I only keep the recent values ('1')\n"
   ]
  },
  {
   "cell_type": "markdown",
   "metadata": {},
   "source": [
    "### Keep just the most recent values so as to not bias it away from those who have been there longer.\n"
   ]
  },
  {
   "cell_type": "code",
   "execution_count": 66,
   "metadata": {
    "collapsed": false
   },
   "outputs": [
    {
     "data": {
      "text/plain": [
       "19"
      ]
     },
     "execution_count": 66,
     "metadata": {},
     "output_type": "execute_result"
    }
   ],
   "source": [
    "# get just the most recent values\n",
    "recentcols = [a for a in all_cols2 if a.endswith('1')]\n",
    "len(recentcols)"
   ]
  },
  {
   "cell_type": "code",
   "execution_count": 67,
   "metadata": {
    "collapsed": true
   },
   "outputs": [],
   "source": [
    "## define the potential target columns\n",
    "potential_target_cols = ['status','sep_status','retired','terminated']"
   ]
  },
  {
   "cell_type": "markdown",
   "metadata": {},
   "source": [
    "# CREATE an evaluation Set\n",
    "* use test_train_split\n",
    "# Utilize Pipelines\n",
    "* restrict the columns that I want to consider\n",
    "* apply logic to \n",
    "    1. fill in missing values\n",
    "    2. if numeric deal with outliers\n",
    "    3. if categorical create dummy, factorize (label_encode), or survial_median"
   ]
  },
  {
   "cell_type": "code",
   "execution_count": 68,
   "metadata": {
    "collapsed": false
   },
   "outputs": [],
   "source": [
    "from sklearn import cross_validation\n",
    "from sklearn.pipeline import Pipeline, FeatureUnion"
   ]
  },
  {
   "cell_type": "code",
   "execution_count": 69,
   "metadata": {
    "collapsed": false
   },
   "outputs": [
    {
     "name": "stdout",
     "output_type": "stream",
     "text": [
      "Starting with subest of 134236 employees.\n",
      "Evaluation set has 26848 employees; training set has 107388 employees.\n"
     ]
    }
   ],
   "source": [
    "# break into evaluation and build sets\n",
    "print \"Starting with subest of {0} employees.\".format(len(em2002))\n",
    "eval_fraction = 0.20\n",
    "em2, em2eval = cross_validation.train_test_split(em2002,test_size=eval_fraction)\n",
    "print \"Evaluation set has {0} employees; training set has {1} employees.\".format(len(em2eval),len(em2))"
   ]
  },
  {
   "cell_type": "code",
   "execution_count": 70,
   "metadata": {
    "collapsed": false
   },
   "outputs": [
    {
     "name": "stdout",
     "output_type": "stream",
     "text": [
      "For retirement\n",
      "0    0.887352\n",
      "1    0.112648\n",
      "dtype: float64\n",
      "0    0.887515\n",
      "1    0.112485\n",
      "dtype: float64\n",
      "For Separation\n",
      "0    0.630769\n",
      "1    0.369231\n",
      "dtype: float64\n",
      "0    0.627794\n",
      "1    0.372206\n",
      "dtype: float64\n"
     ]
    }
   ],
   "source": [
    "print \"For retirement\"\n",
    "print em2.retired.value_counts()/len(em2)\n",
    "print em2eval.retired.value_counts()/len(em2eval)\n",
    "print \"For Separation\"\n",
    "print em2.terminated.value_counts()/len(em2)\n",
    "print em2eval.terminated.value_counts()/len(em2eval)\n"
   ]
  },
  {
   "cell_type": "code",
   "execution_count": 71,
   "metadata": {
    "collapsed": false
   },
   "outputs": [
    {
     "data": {
      "text/plain": [
       "['PERF1', 'MERIT1', 'BOX1', 'ADDRCNT1']"
      ]
     },
     "execution_count": 71,
     "metadata": {},
     "output_type": "execute_result"
    }
   ],
   "source": [
    "br.get_columns_with_nulls(em2[recentcols],rows_to_scan='all')"
   ]
  },
  {
   "cell_type": "code",
   "execution_count": 357,
   "metadata": {
    "collapsed": false
   },
   "outputs": [
    {
     "data": {
      "text/plain": [
       "count    107369.000000\n",
       "mean          0.088405\n",
       "std           0.299934\n",
       "min           0.000000\n",
       "25%           0.000000\n",
       "50%           0.000000\n",
       "75%           0.000000\n",
       "max           4.000000\n",
       "Name: ADDRCNT1, dtype: float64"
      ]
     },
     "execution_count": 357,
     "metadata": {},
     "output_type": "execute_result"
    }
   ],
   "source": [
    "X.ADDRCNT1.describe()"
   ]
  },
  {
   "cell_type": "code",
   "execution_count": 358,
   "metadata": {
    "collapsed": false
   },
   "outputs": [
    {
     "data": {
      "text/plain": [
       "<matplotlib.axes._subplots.AxesSubplot at 0x7f763badb5d0>"
      ]
     },
     "execution_count": 358,
     "metadata": {},
     "output_type": "execute_result"
    },
    {
     "data": {
      "image/png": "[encoded data removed]",
      "text/plain": [
       "<matplotlib.figure.Figure at 0x7f763be2e790>"
      ]
     },
     "metadata": {},
     "output_type": "display_data"
    }
   ],
   "source": [
    "X.ADDRCNT1.hist(bins=30)"
   ]
  },
  {
   "cell_type": "code",
   "execution_count": null,
   "metadata": {
    "collapsed": true
   },
   "outputs": [],
   "source": []
  },
  {
   "cell_type": "markdown",
   "metadata": {},
   "source": [
    "# some good indicator colums to keep:\n",
    "* endswith \"CNT\"\n",
    "* starts with 'HAVE'\n",
    "* Male, HUBIND, FTE, DEP_COUNT,  INTERN, MAX_RT_ANNUAL, MIN_RT_ANNUAL,\n",
    "* RELO_STATE_CNT_SFI"
   ]
  },
  {
   "cell_type": "code",
   "execution_count": 73,
   "metadata": {
    "collapsed": false
   },
   "outputs": [
    {
     "name": "stdout",
     "output_type": "stream",
     "text": [
      "21\n"
     ]
    }
   ],
   "source": [
    "num_to_keep = [c for c in cols_numeric if c.endswith('CNT')]\n",
    "num_to_keep.append('HAVE_INS')\n",
    "num_to_keep.append('HAVE_DEP')\n",
    "num_to_keep.append('INTERN')\n",
    "num_to_keep.append('HUBIND')\n",
    "num_to_keep.append('RELO_STATE_CNT_SFI')\n",
    "num_to_keep.append('RELOCATE_ALL_SFI')\n",
    "num_to_keep.append('STD_HOURS')\n",
    "num_to_keep.append('unempl_rate')\n",
    "num_to_keep.append('REMOTE')\n",
    "num_to_keep.append('SUPV_DIFF_LOC')\n",
    "num_to_keep.append('FTE')\n",
    "num_to_keep.append('Male')\n",
    "num_to_keep.append('SHIFT')\n",
    "num_to_keep.append('FLSA_STATUS')\n",
    "#num_to_keep.append('mar_status')\n",
    "num_to_keep.append('REMOTE_SUPV')\n",
    "\n",
    "num_to_keep.append('hourly_comp')\n",
    "print len(num_to_keep)\n",
    "salary_cols = ['MAX_RT_ANNUAL','MIN_RT_ANNUAL']\n"
   ]
  },
  {
   "cell_type": "code",
   "execution_count": 74,
   "metadata": {
    "collapsed": false
   },
   "outputs": [
    {
     "name": "stdout",
     "output_type": "stream",
     "text": [
      "98\n"
     ]
    },
    {
     "data": {
      "text/plain": [
       "['PERF10',\n",
       " 'RATE9',\n",
       " 'CUR_LOC_MOS',\n",
       " 'PTFTCNT10',\n",
       " 'FULLPART10',\n",
       " 'FLOORCNT5',\n",
       " 'FLOORCNT3',\n",
       " 'FTPTCNT5',\n",
       " 'JOBCNT10',\n",
       " 'FTPTCNT3',\n",
       " 'EFUNCCNT3',\n",
       " 'CUR_EFUNC_MOS',\n",
       " 'EFUNCCNT5',\n",
       " 'MERIT10',\n",
       " 'SUPVCNT5',\n",
       " 'LOCSTCNT10',\n",
       " 'SUPVCNT3',\n",
       " 'PERF6',\n",
       " 'PERF7',\n",
       " 'PERF4',\n",
       " 'PERF5',\n",
       " 'PERF2',\n",
       " 'PERF3',\n",
       " 'SUPVCNT10',\n",
       " 'PERF8',\n",
       " 'PERF9',\n",
       " 'PARTFULL5',\n",
       " 'RATE6',\n",
       " 'RATE5',\n",
       " 'MERIT4',\n",
       " 'RATE3',\n",
       " 'RATE2',\n",
       " 'PTFTCNT5',\n",
       " 'PTFTCNT3',\n",
       " 'BOX10',\n",
       " 'LOCCNT3',\n",
       " 'BOX9',\n",
       " 'BOX8',\n",
       " 'LOCCNT5',\n",
       " 'BOX5',\n",
       " 'BOX4',\n",
       " 'BOX7',\n",
       " 'RATE8',\n",
       " 'BOX3',\n",
       " 'BOX2',\n",
       " 'CUR_JOB_MOS',\n",
       " 'FUNCCNT5',\n",
       " 'FUNCCNT3',\n",
       " 'TOT_MO_SERVICE_SFI',\n",
       " 'RATE10',\n",
       " 'DEP_COUNT',\n",
       " 'JOBCNT5',\n",
       " 'JOBCNT3',\n",
       " 'FUNCCNT10',\n",
       " 'GRADECNT5',\n",
       " 'GRADECNT3',\n",
       " 'CUR_GRADE_MOS',\n",
       " 'SAL8',\n",
       " 'SAL9',\n",
       " 'ANNUAL_RT',\n",
       " 'SAL2',\n",
       " 'SAL3',\n",
       " 'SAL4',\n",
       " 'SAL5',\n",
       " 'SAL6',\n",
       " 'SAL7',\n",
       " 'SAL10',\n",
       " 'RATE7',\n",
       " 'EFUNCCNT10',\n",
       " 'MERIT5',\n",
       " 'RATE4',\n",
       " 'MERIT3',\n",
       " 'MERIT2',\n",
       " 'PARTFULL3',\n",
       " 'mar_status',\n",
       " 'MERIT9',\n",
       " 'MERIT8',\n",
       " 'DEPTCNT10',\n",
       " 'PARTFULL10',\n",
       " 'TELE_MOS',\n",
       " 'ADDRCNT3',\n",
       " 'FLOORCNT10',\n",
       " 'ADDRCNT5',\n",
       " 'CUR_DEPT_MOS',\n",
       " 'GRADECNT10',\n",
       " 'MERIT7',\n",
       " 'FTPTCNT10',\n",
       " 'MERIT6',\n",
       " 'FULLPART3',\n",
       " 'LOCSTCNT5',\n",
       " 'LOCSTCNT3',\n",
       " 'BOX6',\n",
       " 'LOCCNT10',\n",
       " 'FULLPART5',\n",
       " 'DEPTCNT5',\n",
       " 'DEPTCNT3',\n",
       " 'ADDRCNT10',\n",
       " 'CUR_FUNC_MOS']"
      ]
     },
     "execution_count": 74,
     "metadata": {},
     "output_type": "execute_result"
    }
   ],
   "source": [
    "not_modeling_cols = list(set(cols_numeric) - set(recentcols) - set(cols_categorical2)-set(useful_time_cols)-set(potential_target_cols)-set(salary_cols) -set(num_to_keep))\n",
    "print len(not_modeling_cols)\n",
    "[c for c in not_modeling_cols]\n",
    "#[c for c in set(cols_numeric) - set(recentcols) - set(other_categorical)-set(useful_time_cols)-set(potential_target_cols)]"
   ]
  },
  {
   "cell_type": "code",
   "execution_count": 75,
   "metadata": {
    "collapsed": false
   },
   "outputs": [
    {
     "data": {
      "text/plain": [
       "(21, 2, 18, 4, 19, 3, 11)"
      ]
     },
     "execution_count": 75,
     "metadata": {},
     "output_type": "execute_result"
    }
   ],
   "source": [
    "len(num_to_keep), len(salary_cols), len(cols_categorical2), len(potential_target_cols),len(recentcols),len(useful_time_cols),len(cols_categorical)"
   ]
  },
  {
   "cell_type": "code",
   "execution_count": 76,
   "metadata": {
    "collapsed": false
   },
   "outputs": [
    {
     "data": {
      "text/plain": [
       "['TOTAL_RPT_CNT',\n",
       " 'FUNC_CNT',\n",
       " 'DIRECT_RPT_CNT',\n",
       " 'EXTFUNC_CNT',\n",
       " 'REH_CNT',\n",
       " 'HAVE_INS',\n",
       " 'HAVE_DEP',\n",
       " 'INTERN',\n",
       " 'HUBIND',\n",
       " 'RELO_STATE_CNT_SFI',\n",
       " 'RELOCATE_ALL_SFI',\n",
       " 'STD_HOURS',\n",
       " 'unempl_rate',\n",
       " 'REMOTE',\n",
       " 'SUPV_DIFF_LOC',\n",
       " 'FTE',\n",
       " 'Male',\n",
       " 'SHIFT',\n",
       " 'FLSA_STATUS',\n",
       " 'REMOTE_SUPV',\n",
       " 'hourly_comp']"
      ]
     },
     "execution_count": 76,
     "metadata": {},
     "output_type": "execute_result"
    }
   ],
   "source": [
    "num_to_keep"
   ]
  },
  {
   "cell_type": "markdown",
   "metadata": {},
   "source": [
    "## After all that I'm ready to process the subset of columns contained in these lists:\n",
    "1. recentcols (19, numeric)\n",
    "2. salary_cols (2, numeric)\n",
    "3. useful_time_cols (3,numeric)\n",
    "4. num_to_keep (21, numeric)\n",
    "5. cols_categorical2 (18, categorical)\n",
    "    * note I need to further refine/parse and eliminate some of these\n",
    "\n",
    "####  Also I want to select from the potential_target_cols my 'y' variable\n",
    "4 elements, numeric (0 or 1)"
   ]
  },
  {
   "cell_type": "code",
   "execution_count": 77,
   "metadata": {
    "collapsed": false
   },
   "outputs": [
    {
     "name": "stdout",
     "output_type": "stream",
     "text": [
      "45\n"
     ]
    }
   ],
   "source": [
    "cols_to_model = []\n",
    "cols_to_model += recentcols\n",
    "cols_to_model += salary_cols\n",
    "cols_to_model += useful_time_cols\n",
    "cols_to_model += num_to_keep\n",
    "print len(cols_to_model)"
   ]
  },
  {
   "cell_type": "markdown",
   "metadata": {},
   "source": [
    "## Further refine the categorical ones:\n",
    "* impute missing values for these"
   ]
  },
  {
   "cell_type": "code",
   "execution_count": 81,
   "metadata": {
    "collapsed": false
   },
   "outputs": [
    {
     "name": "stdout",
     "output_type": "stream",
     "text": [
      "column, arity, example, type\n"
     ]
    },
    {
     "data": {
      "text/plain": [
       "[('JOB_FAMILY', 1385, 'ACLPRC', dtype('O')),\n",
       " ('LOC_TYPE_DESCR_SFI', 30, 'OPERATIONS CENTER', dtype('O')),\n",
       " ('EMPL_CLASS', 6, '1', dtype('O')),\n",
       " ('LOCATION', 10722, '20921', dtype('O')),\n",
       " ('EEO1CODE', 10, '5', dtype('O')),\n",
       " ('LOC_STATE', 51, 'CO', dtype('O')),\n",
       " ('LEGACY_DEPT_SFI', 26228, '120059921C9', dtype('O')),\n",
       " ('EMPL_TYPE', 5, 'E', dtype('O')),\n",
       " ('FULL_PART_TIME', 4, 'F', dtype('O')),\n",
       " ('JOB_FUNCTION', 19, 'PSA', dtype('O')),\n",
       " ('GRADE', 125, 'PA2', dtype('O')),\n",
       " ('FUNC_ID_SFI', 53, 14.0, dtype('float64')),\n",
       " ('EXT_FUNC_ID_SFI', 332, 125.0, dtype('float64')),\n",
       " ('FLOR_SFI', 109, 999, dtype('int64')),\n",
       " ('COMPANY', 6, 1, dtype('int64')),\n",
       " ('DIVISION_CODE_SFI', 9, 0.0, dtype('float64')),\n",
       " ('JOBCODE', 2447, 67, dtype('int64')),\n",
       " ('ETHNIC_GROUP', 8, 3.0, dtype('float64'))]"
      ]
     },
     "execution_count": 81,
     "metadata": {},
     "output_type": "execute_result"
    }
   ],
   "source": [
    "## Further refine the categorical ones:\n",
    "print \"column, arity, example, type\"\n",
    "[(c,len(em2[c].unique()),em2[c][0],em2[c].dtype) for c in cols_categorical2]"
   ]
  },
  {
   "cell_type": "code",
   "execution_count": 82,
   "metadata": {
    "collapsed": false
   },
   "outputs": [
    {
     "data": {
      "text/plain": [
       "18"
      ]
     },
     "execution_count": 82,
     "metadata": {},
     "output_type": "execute_result"
    }
   ],
   "source": [
    "len(cols_categorical2)"
   ]
  },
  {
   "cell_type": "code",
   "execution_count": 231,
   "metadata": {
    "collapsed": true
   },
   "outputs": [],
   "source": [
    "cat_cols_to_survival = ['JOB_FAMILY','GRADE','JOB_FUNCTION','FLOR_SFI','FUNC_ID_SFI','EXT_FUNC_ID_SFI','JOBCODE']\n",
    "                        \n",
    "cat_cols_to_dummy_encode = ['EMPL_CLASS','EEO1CODE','EMPL_TYPE','FULL_PART_TIME','ETHNIC_GROUP','DIVISION_CODE_SFI','COMPANY']\n",
    "cat_cols_to_label_encode = ['LOC_TYPE_DESCR_SFI','LOC_STATE']\n",
    "cat_cols_to_drop = ['LEGACY_DEPT_SFI','LOCATION']"
   ]
  },
  {
   "cell_type": "code",
   "execution_count": 296,
   "metadata": {
    "collapsed": false
   },
   "outputs": [],
   "source": [
    "for c in cat_cols_to_drop:\n",
    "    cols_categorical2.remove(c)\n",
    "    #print c, len(em2[c].unique())"
   ]
  },
  {
   "cell_type": "code",
   "execution_count": 116,
   "metadata": {
    "collapsed": false
   },
   "outputs": [
    {
     "data": {
      "text/plain": [
       "(107388, 193)"
      ]
     },
     "execution_count": 116,
     "metadata": {},
     "output_type": "execute_result"
    }
   ],
   "source": [
    "np.shape(em2)"
   ]
  },
  {
   "cell_type": "code",
   "execution_count": 142,
   "metadata": {
    "collapsed": false
   },
   "outputs": [],
   "source": [
    "from sklearn.pipeline import TransformerMixin\n",
    "class ColumnExtractor(TransformerMixin):\n",
    "\n",
    "    def __init__(self, columns=[]):\n",
    "        self.columns = columns\n",
    "\n",
    "    def fit_transform(self, X, y=None, **fit_params):\n",
    "        self.fit(X, y, **fit_params)\n",
    "        return self.transform(X)\n",
    "\n",
    "    def transform(self, X, **transform_params):\n",
    "        return X[self.columns]\n",
    "\n",
    "    def fit(self, X, y=None, **fit_params):\n",
    "        return self"
   ]
  },
  {
   "cell_type": "code",
   "execution_count": 156,
   "metadata": {
    "collapsed": false
   },
   "outputs": [],
   "source": [
    "from sklearn import preprocessing"
   ]
  },
  {
   "cell_type": "code",
   "execution_count": 297,
   "metadata": {
    "collapsed": false
   },
   "outputs": [
    {
     "name": "stdout",
     "output_type": "stream",
     "text": [
      "61\n",
      "(107388, 61)\n",
      "(26848, 61)\n"
     ]
    }
   ],
   "source": [
    "my_cols = []\n",
    "my_cols+=cols_to_model\n",
    "my_cols+=cols_categorical2\n",
    "print len(my_cols)\n",
    "\n",
    "y = em2['terminated']\n",
    "X = em2[my_cols]\n",
    "print np.shape(X)\n",
    "Xeval = em2eval[my_cols]\n",
    "print np.shape(Xeval)"
   ]
  },
  {
   "cell_type": "code",
   "execution_count": 194,
   "metadata": {
    "collapsed": true
   },
   "outputs": [],
   "source": [
    "from sklearn.base import BaseEstimator"
   ]
  },
  {
   "cell_type": "code",
   "execution_count": 210,
   "metadata": {
    "collapsed": true
   },
   "outputs": [],
   "source": [
    "class LabelEncodeColumn(BaseEstimator, TransformerMixin):\n",
    "    def __init__(self,columns_to_fix=[],rows_to_scan='all'):\n",
    "        \"\"\"\n",
    "        A class that can be inserted into a pipeline\n",
    "    \n",
    "        This will replace a given list of columns with label_encoded values;\n",
    "        \n",
    "        Parameters\n",
    "        ----------\n",
    "        X: Pandas dataframe\n",
    "        \n",
    "        \n",
    "        Note that new categories/values in test data will be set as -1.\n",
    "        \n",
    "        returns a pandas dataframe\n",
    "        \"\"\"\n",
    "        self.columns_to_fix = columns_to_fix\n",
    "        self.rows_to_scan = rows_to_scan\n",
    "        \n",
    "    def fit(self, X, y=None):\n",
    "        self.map_values = {}\n",
    "        self.dummy_values = {}\n",
    "        self.na_values={}\n",
    "        \n",
    "        rows_to_scan_in = br.get_rows_to_scan(self.rows_to_scan, X.shape[0])\n",
    "        #self.columns_to_fix_in = br.get_list_of_columns_to_check(self.columns_to_fix, X.columns)\n",
    "        X_temp = X[:rows_to_scan_in].copy()\n",
    "        # apply labelEncoder to each column in this list\n",
    "        for col in self.columns_to_fix:\n",
    "            map_values = X_temp[col].unique()\n",
    "            map_values.sort()\n",
    "            self.map_values[col] = {key: index for index, key in enumerate(map_values)} \n",
    "        return self\n",
    "    \n",
    "    def transform(self, X, y=None):\n",
    "        X_temp = X.copy()\n",
    "        original_cols = list(X_temp.columns)\n",
    "        for col in self.columns_to_fix:\n",
    "            X_temp[str(col)+\"_le\"] = X_temp[col].map(self.map_values[col], \"ignore\")\n",
    "            X_temp[str(col)+\"_le\"] =  X_temp[str(col)+\"_le\"].fillna(-1)\n",
    "            # fill all remaining null values with -1\n",
    "            # remove the original column name and add the new column name\n",
    "            original_cols.remove(str(col))\n",
    "            original_cols.append(str(col+\"_le\"))\n",
    "        X_temp =X_temp[original_cols]\n",
    "        \n",
    "        return X_temp"
   ]
  },
  {
   "cell_type": "code",
   "execution_count": 219,
   "metadata": {
    "collapsed": false
   },
   "outputs": [],
   "source": [
    "class DummyEncodeColumn(BaseEstimator, TransformerMixin):\n",
    "    def __init__(self,columns_to_fix=[],rows_to_scan='all',keep_dummies=False):\n",
    "        \"\"\"\n",
    "        A class that can be inserted into a pipeline\n",
    "    \n",
    "        This will replace a given list of columns with label_encoded values;\n",
    "        \n",
    "        Parameters\n",
    "        ----------\n",
    "        X: Pandas dataframe\n",
    "        \n",
    "        keep_dummies: boolean (default = False)\n",
    "            If False then the original dummied column and one of the one-hot-encoded (dummified) columns will be dropped.\n",
    "            \n",
    "        Note that new categories/values in test data will be set as -1.\n",
    "        \n",
    "        returns a pandas dataframe\n",
    "        \"\"\"\n",
    "        self.columns_to_fix = columns_to_fix\n",
    "        self.rows_to_scan = rows_to_scan\n",
    "        self.keep_dummies = keep_dummies\n",
    "        \n",
    "    def fit(self, X, y=None):\n",
    "        #self.map_values = {}\n",
    "        self.dummy_values = {}\n",
    "        #self.na_values={}\n",
    "        \n",
    "        rows_to_scan_in = br.get_rows_to_scan(self.rows_to_scan, X.shape[0])\n",
    "        #self.columns_to_fix_in = br.get_list_of_columns_to_check(self.columns_to_fix, X.columns)\n",
    "        X_temp = X[:rows_to_scan_in].copy()\n",
    "        # apply labelEncoder to each column in this list\n",
    "        for col in self.columns_to_fix:\n",
    "            self.dummy_values[col] = X_temp[col].unique()    \n",
    "        return self\n",
    "    \n",
    "    def transform(self, X, y=None):\n",
    "        X_temp = X.copy()\n",
    "        original_cols = list(X_temp.columns)\n",
    "        \"\"\"\n",
    "        for col in self.columns_to_fix:\n",
    "            tmp = pd.get_dummies(X[col],prefix=str(col))\n",
    "            X_temp = pd.concat([X_temp,tmp],axis=1)\n",
    "            # now drop the columns that I don't want if so flagged\n",
    "            if not self.keep_dummies:\n",
    "                X_temp.drop([col,tmp.columns[-1]],axis=1,inplace=True)\n",
    "         \"\"\"  \n",
    "        for col in self.columns_to_fix:            \n",
    "            for cat in self.dummy_values[col]:\n",
    "                cat_col = str(col)+'_'+str(cat)\n",
    "                if str(cat) == 'nan':\n",
    "                    X_temp[cat_col] = X_temp[col].isnull().astype(int)\n",
    "                else:    \n",
    "                    X_temp[cat_col] = (X_temp[col] == cat).astype(int)\n",
    "                # append the new column name\n",
    "                original_cols.append(cat_col)\n",
    "            # if keep_dummies is false remove the original column name and the last category\n",
    "            if not self.keep_dummies:\n",
    "                original_cols.remove(str(col))\n",
    "                original_cols.pop() #note pop removes the last element from a list\n",
    "        X_temp =X_temp[original_cols]\n",
    "        \n",
    "        return X_temp"
   ]
  },
  {
   "cell_type": "code",
   "execution_count": 382,
   "metadata": {
    "collapsed": true
   },
   "outputs": [],
   "source": [
    "# function to replace missing by a given value\n",
    "class FillMissingValue(BaseEstimator, TransformerMixin):\n",
    "    def __init__(self,fill_value = 0,columns_to_fix='all',rows_to_scan='all',keep_dummies = False,fill_inf = True):\n",
    "        \"\"\"\n",
    "        A class that can be inserted into a pipeline\n",
    "    \n",
    "        This will replace a given list of columns with label_encoded values;\n",
    "        \n",
    "        Parameters\n",
    "        ----------\n",
    "        X: Pandas dataframe\n",
    "        \n",
    "        \n",
    "     \n",
    "        \n",
    "        returns a pandas dataframe\n",
    "        \"\"\"\n",
    "        self.fill_value = fill_value\n",
    "        self.columns_to_fix = columns_to_fix\n",
    "        self.rows_to_scan = rows_to_scan\n",
    "        self.keep_dummies = keep_dummies\n",
    "        self.fill_inf = fill_inf\n",
    "        self.values = {}\n",
    "        \n",
    "    def fit(self, X, y=None):\n",
    "        \n",
    "        X_temp = X.copy()        \n",
    "        if self.columns_to_fix == 'all':\n",
    "            X_temp = X_temp.replace(np.inf, np.nan)\n",
    "            self.columns_to_fix_in = br.get_numeric(X_temp)\n",
    "        elif self.columns_to_fix == 'auto':\n",
    "            X_temp = X_temp.replace(np.inf, np.nan)\n",
    "            self.columns_to_fix_in = br.get_columns_with_nulls(X_temp, 'all', 'all')            \n",
    "        else:\n",
    "            self.columns_to_fix_in = br.get_list_of_columns_to_check(self.columns_to_fix, X.columns)\n",
    "            self.columns_to_fix_in = [col for col in self.columns_to_fix_in if col in br.get_numeric(X_temp)]\n",
    "            X_temp[self.columns_to_fix_in] = X_temp[self.columns_to_fix_in].replace(np.inf, np.nan)\n",
    "        \n",
    "        self.rows_to_scan_in = br.get_rows_to_scan(self.rows_to_scan, X.shape[0])\n",
    "        \n",
    "        # check if the fill_values are a list\n",
    "        if type(self.fill_value)==list:\n",
    "            self.values = dict(zip(self.columns_to_fix_in,self.fill_value))\n",
    "        elif type(self.fill_value)==dict:\n",
    "            self.values = self.fill_value\n",
    "        else:\n",
    "            for c in self.columns_to_fix_in:\n",
    "                self.values[c]=self.fill_value\n",
    "                \n",
    "        return self\n",
    "    \n",
    "    def transform(self, X, y=None):\n",
    "        X_temp = X.copy()\n",
    "        \n",
    "        if self.fill_inf:\n",
    "            X_temp[self.columns_to_fix_in] = X_temp[self.columns_to_fix_in].replace(np.inf, np.nan)\n",
    "        if self.keep_dummies:\n",
    "            temp = pd.DataFrame(index=X_temp.index)\n",
    "            for col in self.columns_to_fix_in:\n",
    "                temp[(col+'_d')] = X_temp[col].isnull().astype(\"int\")\n",
    "            X_temp = pd.concat([X_temp, temp], axis=1) \n",
    "        original_cols = list(X_temp.columns)\n",
    "        X_temp = X_temp.fillna(self.values)\n",
    "        X_temp =X_temp[original_cols]\n",
    "        \n",
    "        return X_temp"
   ]
  },
  {
   "cell_type": "code",
   "execution_count": 215,
   "metadata": {
    "collapsed": false
   },
   "outputs": [
    {
     "data": {
      "text/plain": [
       "Index([u'COMPANY', u'FULL_PART_TIME_F', u'FULL_PART_TIME_N',\n",
       "       u'FULL_PART_TIME_P', u'FULL_PART_TIME_X'],\n",
       "      dtype='object')"
      ]
     },
     "execution_count": 215,
     "metadata": {},
     "output_type": "execute_result"
    }
   ],
   "source": [
    "pd.get_dummies(X[['FULL_PART_TIME','COMPANY']]).columns"
   ]
  },
  {
   "cell_type": "code",
   "execution_count": 227,
   "metadata": {
    "collapsed": false
   },
   "outputs": [],
   "source": [
    "letest = LabelEncodeColumn(columns_to_fix=['GRADE','LOC_STATE','JOB_FAMILY','FUNC_ID_SFI'])\n",
    "le_tmp = letest.fit(X,y).transform(testX)"
   ]
  },
  {
   "cell_type": "code",
   "execution_count": 229,
   "metadata": {
    "collapsed": false
   },
   "outputs": [
    {
     "data": {
      "text/plain": [
       "(51, 1800.0)"
      ]
     },
     "execution_count": 229,
     "metadata": {},
     "output_type": "execute_result"
    }
   ],
   "source": [
    "le_tmp['FUNC_ID_SFI_le'].max(), testX['FUNC_ID_SFI'].max()"
   ]
  },
  {
   "cell_type": "code",
   "execution_count": 221,
   "metadata": {
    "collapsed": false
   },
   "outputs": [],
   "source": [
    "detest = DummyEncodeColumn(columns_to_fix=['EMPL_TYPE','FULL_PART_TIME','COMPANY'])\n",
    "tmp = detest.fit(X,y).transform(testX)"
   ]
  },
  {
   "cell_type": "code",
   "execution_count": 225,
   "metadata": {
    "collapsed": false
   },
   "outputs": [
    {
     "data": {
      "text/plain": [
       "['EMPL_TYPE_E', 'EMPL_TYPE_N', 'EMPL_TYPE_S', 'EMPL_TYPE_H']"
      ]
     },
     "execution_count": 225,
     "metadata": {},
     "output_type": "execute_result"
    }
   ],
   "source": [
    "[c for c in tmp.columns if c.startswith('EMPL_TYPE')]"
   ]
  },
  {
   "cell_type": "code",
   "execution_count": 226,
   "metadata": {
    "collapsed": false
   },
   "outputs": [
    {
     "data": {
      "text/plain": [
       "E    68290\n",
       "S    26229\n",
       "H    11303\n",
       "N     1557\n",
       "X        9\n",
       "dtype: int64"
      ]
     },
     "execution_count": 226,
     "metadata": {},
     "output_type": "execute_result"
    }
   ],
   "source": [
    "X.EMPL_TYPE.value_counts()"
   ]
  },
  {
   "cell_type": "code",
   "execution_count": 235,
   "metadata": {
    "collapsed": true
   },
   "outputs": [],
   "source": [
    "mthl_tenure_range = np.linspace(0,65,781)"
   ]
  },
  {
   "cell_type": "code",
   "execution_count": 260,
   "metadata": {
    "collapsed": false
   },
   "outputs": [],
   "source": [
    "def calculate_survival_functions_b(df,y, time_col, col_name,num_cutoff = 40,timerange =mthl_tenure_range):\n",
    "    \n",
    "    \"\"\" Function to generically return a dataframe of survival function, grouped by some categorical column\n",
    "    inputs:\n",
    "        df --> database to derive survival functions from\n",
    "        time_col --> the temporal column to use for SF modeling (Kaplan Meier fitter applied)\n",
    "        event_col --> the truncated column to use for SF modeling\n",
    "        col_name --> the column to group up and determine KMF sf for\n",
    "        num_cutoff --> number of groups to consider\n",
    "        timerange --> min and max range\n",
    "    outputs:\n",
    "        survivalfunc_df --> a data frame that contains survival function.\n",
    "\n",
    "    other options:\n",
    "        *frac_cutoff --> the fraction of unique elements that will be kept as separate groups\n",
    "        *min_size_cutoff --> min size to use for the cutoff.\n",
    "        * these last two are not implemented\n",
    "    \"\"\"\n",
    "    from lifelines import KaplanMeierFitter\n",
    "    kmf=KaplanMeierFitter()\n",
    "    # create example for all cases -- serves as background\n",
    "    # create a time range\n",
    "    \n",
    "    kmf.fit(df[time_col],timeline=timerange,event_observed=y,label='all')\n",
    "    survivalfunc_df = pd.DataFrame(kmf.survival_function_)\n",
    "    # groupify the dataframe\n",
    "    grp_value_counts = df[col_name].value_counts()\n",
    "    #if frac_cutoff == None:\n",
    "    #    #by default take 15 %\n",
    "    #    frac_cutoff = .15 \n",
    "    #top_n_groups = int(frac_cutoff *len(grp_value_counts))\n",
    "    #if min_size_cutoff == None:\n",
    "        # by default \n",
    "    # Take the top num_cutoff groups\n",
    "    #my_grps = grp_value_counts.ix[:num_cutoff].index.tolist() \n",
    "    my_grps = grp_value_counts.iloc[:num_cutoff].index.tolist() \n",
    "    \n",
    "    # make a list of elements in each of these groups\n",
    "    grp_dict = {}\n",
    "    for grp in my_grps: \n",
    "        grp_dict[grp] = df[df[col_name] == grp].index.tolist()\n",
    "    # loop through grps and create kmf survival function\n",
    "    for i,jgrp in enumerate(my_grps):\n",
    "        j_idx = grp_dict[jgrp]\n",
    "        #print i, jgrp, len(j_idx)\n",
    "        kmf.fit(df[time_col].ix[j_idx],timeline=mthl_tenure_range,event_observed=y.ix[j_idx],label=str(jgrp))\n",
    "        survivalfunc_df = pd.concat([survivalfunc_df,kmf.survival_function_],axis=1)\n",
    "    \n",
    "    \n",
    "    return survivalfunc_df"
   ]
  },
  {
   "cell_type": "code",
   "execution_count": 237,
   "metadata": {
    "collapsed": false
   },
   "outputs": [],
   "source": [
    "def return_first_time_survival(sfdf,thresh=0.5):\n",
    "    from collections import defaultdict\n",
    "    \n",
    "    # assign all value to the default\n",
    "    default_value = sfdf[sfdf['all']<=thresh].index[0]\n",
    "    median_survival_dict = defaultdict(lambda: default_value)\n",
    "    for c in sfdf.columns[1:]:\n",
    "        #print c\n",
    "        try:\n",
    "            my_sf_date = sfdf[sfdf[c]<=thresh].index[0]\n",
    "        except IndexError: # because never reached that threshold value\n",
    "            my_sf_date = sfdf.index[-1]\n",
    "        except KeyError: # because of type of the key\n",
    "            my_sf_date = sfdf[sfdf[int(c)]<=thresh].index[0]\n",
    "\n",
    "        median_survival_dict[c]=my_sf_date\n",
    "        \n",
    "    return median_survival_dict"
   ]
  },
  {
   "cell_type": "code",
   "execution_count": 282,
   "metadata": {
    "collapsed": false
   },
   "outputs": [],
   "source": [
    "class SurvivalEncodeColumn(BaseEstimator, TransformerMixin):\n",
    "    def __init__(self, columns_to_fix=[],rows_to_scan='all',method='median',max_number_groups=40, my_thresh=0.5):\n",
    "        self.method = method\n",
    "        self.columns_to_fix = columns_to_fix\n",
    "        self.rows_to_scan = rows_to_scan\n",
    "        self.max_num_groups = max_number_groups\n",
    "        self.thresh = my_thresh\n",
    "        \n",
    "    def fit(self,X,y):\n",
    "        self.survive_columns = {} # dictionary to map old columns to new\n",
    "        self.survive_values = {}\n",
    "        self.column_cutoff = {}\n",
    "        \n",
    "        \n",
    "        for col in self.columns_to_fix:\n",
    "            #(assumes these have previously been label encoded so the values should be ints)\"\n",
    "            ncol=str(col)+\"_le\"\n",
    "            num_cutoff = self.max_num_groups\n",
    "            survive_col = 'surv_'+ncol.lower()\n",
    "            nuniq = len(X[ncol].unique())\n",
    "            if nuniq < num_cutoff:\n",
    "                num_cutoff = nuniq\n",
    "                \n",
    "            self.column_cutoff[col]=num_cutoff\n",
    "            \n",
    "            #frac_accounted_for = X[col].value_counts().iloc[:num_cutoff].sum()/float(len(X))\n",
    "            #print i,col,newcol, nuniq, num_cutoff,num_cutoff/float(nuniq),frac_accounted_for\n",
    "            # I want to make this fraction close to 80%?\n",
    "            sf_df = calculate_survival_functions_b(X,y,'Tenure_years', ncol,num_cutoff)\n",
    "            self.survive_columns[col]=survive_col\n",
    "            ## create the dictionary\n",
    "            self.survive_values[col]=return_first_time_survival(sf_df,thresh=self.thresh)\n",
    "    \n",
    "        return self\n",
    "    def transform(self,X,y=None):\n",
    "        X_temp = X.copy()\n",
    "        original_cols = list(X_temp.columns)\n",
    "        for col in self.columns_to_fix:\n",
    "            ncol=str(col)+\"_le\" # assumes labelencoded\n",
    "            new_col = self.survive_columns[col]\n",
    "            col_dict = self.survive_values[col]\n",
    "            X_temp[new_col] = X_temp[ncol].apply(lambda x: col_dict[str(x)])\n",
    "            original_cols.remove(ncol)\n",
    "            original_cols.append(new_col)\n",
    "        \n",
    "        X_temp = X_temp[original_cols]\n",
    "        return X_temp\n",
    "    "
   ]
  },
  {
   "cell_type": "code",
   "execution_count": 261,
   "metadata": {
    "collapsed": false
   },
   "outputs": [
    {
     "data": {
      "text/plain": [
       "(781, 41)"
      ]
     },
     "execution_count": 261,
     "metadata": {},
     "output_type": "execute_result"
    }
   ],
   "source": [
    "gsfdf = calculate_survival_functions_b(leX,y,'Tenure_years','GRADE_le',40)\n",
    "gsfdf.shape"
   ]
  },
  {
   "cell_type": "code",
   "execution_count": 268,
   "metadata": {
    "collapsed": false
   },
   "outputs": [
    {
     "data": {
      "text/plain": [
       "<matplotlib.axes._subplots.AxesSubplot at 0x7f75d7bb1710>"
      ]
     },
     "execution_count": 268,
     "metadata": {},
     "output_type": "execute_result"
    },
    {
     "data": {
      "image/png": "[encoded data removed]",
      "text/plain": [
       "<matplotlib.figure.Figure at 0x7f75d7bb1450>"
      ]
     },
     "metadata": {},
     "output_type": "display_data"
    }
   ],
   "source": [
    "leX.GRADE_le.apply(lambda x: a[str(x)]).hist()"
   ]
  },
  {
   "cell_type": "code",
   "execution_count": 233,
   "metadata": {
    "collapsed": false
   },
   "outputs": [
    {
     "name": "stdout",
     "output_type": "stream",
     "text": [
      "9\n"
     ]
    },
    {
     "data": {
      "text/plain": [
       "['JOB_FAMILY',\n",
       " 'GRADE',\n",
       " 'JOB_FUNCTION',\n",
       " 'FLOR_SFI',\n",
       " 'FUNC_ID_SFI',\n",
       " 'EXT_FUNC_ID_SFI',\n",
       " 'JOBCODE',\n",
       " 'LOC_TYPE_DESCR_SFI',\n",
       " 'LOC_STATE']"
      ]
     },
     "execution_count": 233,
     "metadata": {},
     "output_type": "execute_result"
    }
   ],
   "source": [
    "# combine cat_cols_label_encode and cat_cols_surv_encode\n",
    "my_label_encode_cols = []\n",
    "my_label_encode_cols+=cat_cols_to_survival\n",
    "my_label_encode_cols+=cat_cols_to_label_encode\n",
    "print len(my_label_encode_cols)\n",
    "my_label_encode_cols"
   ]
  },
  {
   "cell_type": "code",
   "execution_count": 383,
   "metadata": {
    "collapsed": false
   },
   "outputs": [],
   "source": [
    "\n",
    "#cate_list = br.get_categorical(X)\n",
    "# need to break the categorical into types\n",
    "pipe = Pipeline([(\"null\", br.RemoveAllNull()),  \n",
    "                 (\"label_encode\",LabelEncodeColumn(my_label_encode_cols)),\n",
    "                 (\"dummy_encode\", DummyEncodeColumn(cat_cols_to_dummy_encode)),\n",
    "                 (\"survival_encode\",SurvivalEncodeColumn(my_label_encode_cols[:5],method='median')),\n",
    "                 #(\"cat\", br.ConvertCategorical(cate_list, rows_to_scan=0.3)),\n",
    "                 (\"fixout_min\",br.FixNumericOutlier(columns_to_fix=['SAL1','MIN_RT_ANNUAL','MERIT1','PERF1'],criteria_coef=('percentile',5),\n",
    "                                                   method='lower',fill_with='nearest_value')),\n",
    "                  (\"fixout_max\",br.FixNumericOutlier(columns_to_fix=['MAX_RT_ANNUAL'],criteria_coef=('percentile',5),\n",
    "                                                   method='both',fill_with='nearest_value')),\n",
    "                 (\"fill_missingzero\",FillMissingValue(columns_to_fix=['BOX1','FUNC_CNT','EXTFUNC_CNT','TOTAL_RPT_CNT','DIRECT_RPT_CNT'],fill_value=0)),\n",
    "                 (\"imp_mode\",br.ImputeData(columns_to_impute=['MERIT1','PERF1','ADDRCNT1'],rows_to_scan=0.8)),\n",
    "                 (\"imp_mean\", br.ImputeData(columns_to_impute='auto', rows_to_scan=0.8))])\n",
    "                 #(\"redu\", br.DimensionReduction(rows_to_scan=0.3, n_components=10))])\n",
    "#pipe.fit(X, y).transform(testX)[0:30]\n",
    "#\n",
    "#Xft = pipe.fit_transform(X)"
   ]
  },
  {
   "cell_type": "markdown",
   "metadata": {},
   "source": [
    "### Aside --> check on missing value columns"
   ]
  },
  {
   "cell_type": "code",
   "execution_count": 373,
   "metadata": {
    "collapsed": false
   },
   "outputs": [
    {
     "name": "stdout",
     "output_type": "stream",
     "text": [
      "PERF1 11980 0    0\n",
      "dtype: float64\n",
      "MERIT1 11980 0    0\n",
      "dtype: float64\n",
      "BOX1 20217 0    2\n",
      "dtype: float64\n",
      "ADDRCNT1 19 0    0\n",
      "dtype: float64\n",
      "TOTAL_RPT_CNT 1586 0    12\n",
      "dtype: float64\n",
      "FUNC_CNT 4 0    34937\n",
      "dtype: float64\n",
      "DIRECT_RPT_CNT 1586 0    10\n",
      "dtype: float64\n",
      "EXTFUNC_CNT 43 0    6133\n",
      "dtype: float64\n"
     ]
    }
   ],
   "source": [
    "missing_column_list = br.get_columns_with_nulls(X)\n",
    "for c in missing_column_list:\n",
    "    print c,sum(X[c].isnull()),X[c].mode()"
   ]
  },
  {
   "cell_type": "code",
   "execution_count": 371,
   "metadata": {
    "collapsed": false
   },
   "outputs": [
    {
     "data": {
      "text/html": [
       "<div>\n",
       "<table border=\"1\" class=\"dataframe\">\n",
       "  <thead>\n",
       "    <tr style=\"text-align: right;\">\n",
       "      <th></th>\n",
       "      <th>FUNC_CNT</th>\n",
       "      <th>EXTFUNC_CNT</th>\n",
       "      <th>TOTAL_RPT_CNT</th>\n",
       "      <th>DIRECT_RPT_CNT</th>\n",
       "    </tr>\n",
       "  </thead>\n",
       "  <tbody>\n",
       "    <tr>\n",
       "      <th>count</th>\n",
       "      <td>107384.000000</td>\n",
       "      <td>107345.000000</td>\n",
       "      <td>105802.000000</td>\n",
       "      <td>105802.000000</td>\n",
       "    </tr>\n",
       "    <tr>\n",
       "      <th>mean</th>\n",
       "      <td>17573.859793</td>\n",
       "      <td>2458.598873</td>\n",
       "      <td>34.491371</td>\n",
       "      <td>12.893452</td>\n",
       "    </tr>\n",
       "    <tr>\n",
       "      <th>std</th>\n",
       "      <td>15049.400314</td>\n",
       "      <td>3158.768228</td>\n",
       "      <td>424.201462</td>\n",
       "      <td>10.244684</td>\n",
       "    </tr>\n",
       "    <tr>\n",
       "      <th>min</th>\n",
       "      <td>1.000000</td>\n",
       "      <td>1.000000</td>\n",
       "      <td>1.000000</td>\n",
       "      <td>1.000000</td>\n",
       "    </tr>\n",
       "    <tr>\n",
       "      <th>25%</th>\n",
       "      <td>3163.000000</td>\n",
       "      <td>458.000000</td>\n",
       "      <td>9.000000</td>\n",
       "      <td>8.000000</td>\n",
       "    </tr>\n",
       "    <tr>\n",
       "      <th>50%</th>\n",
       "      <td>7769.000000</td>\n",
       "      <td>1196.000000</td>\n",
       "      <td>12.000000</td>\n",
       "      <td>11.000000</td>\n",
       "    </tr>\n",
       "    <tr>\n",
       "      <th>75%</th>\n",
       "      <td>34937.000000</td>\n",
       "      <td>2794.000000</td>\n",
       "      <td>17.000000</td>\n",
       "      <td>15.000000</td>\n",
       "    </tr>\n",
       "    <tr>\n",
       "      <th>max</th>\n",
       "      <td>37341.000000</td>\n",
       "      <td>17761.000000</td>\n",
       "      <td>71331.000000</td>\n",
       "      <td>318.000000</td>\n",
       "    </tr>\n",
       "  </tbody>\n",
       "</table>\n",
       "</div>"
      ],
      "text/plain": [
       "            FUNC_CNT    EXTFUNC_CNT  TOTAL_RPT_CNT  DIRECT_RPT_CNT\n",
       "count  107384.000000  107345.000000  105802.000000   105802.000000\n",
       "mean    17573.859793    2458.598873      34.491371       12.893452\n",
       "std     15049.400314    3158.768228     424.201462       10.244684\n",
       "min         1.000000       1.000000       1.000000        1.000000\n",
       "25%      3163.000000     458.000000       9.000000        8.000000\n",
       "50%      7769.000000    1196.000000      12.000000       11.000000\n",
       "75%     34937.000000    2794.000000      17.000000       15.000000\n",
       "max     37341.000000   17761.000000   71331.000000      318.000000"
      ]
     },
     "execution_count": 371,
     "metadata": {},
     "output_type": "execute_result"
    }
   ],
   "source": [
    "X[['FUNC_CNT','EXTFUNC_CNT','TOTAL_RPT_CNT','DIRECT_RPT_CNT']].describe()"
   ]
  },
  {
   "cell_type": "code",
   "execution_count": 318,
   "metadata": {
    "collapsed": false
   },
   "outputs": [
    {
     "data": {
      "text/plain": [
       "<matplotlib.axes._subplots.AxesSubplot at 0x7f763b9bc410>"
      ]
     },
     "execution_count": 318,
     "metadata": {},
     "output_type": "execute_result"
    },
    {
     "data": {
      "image/png": "[encoded data removed]",
      "text/plain": [
       "<matplotlib.figure.Figure at 0x7f763b9ec790>"
      ]
     },
     "metadata": {},
     "output_type": "display_data"
    }
   ],
   "source": [
    "X.MERIT1.hist(bins=40)"
   ]
  },
  {
   "cell_type": "code",
   "execution_count": 353,
   "metadata": {
    "collapsed": false
   },
   "outputs": [
    {
     "data": {
      "text/plain": [
       "count    95408.000000\n",
       "mean      1485.597972\n",
       "std       1981.777000\n",
       "min     -45000.000000\n",
       "25%        481.250000\n",
       "50%       1282.835000\n",
       "75%       2132.150000\n",
       "max      35000.000000\n",
       "Name: MERIT1, dtype: float64"
      ]
     },
     "execution_count": 353,
     "metadata": {},
     "output_type": "execute_result"
    }
   ],
   "source": [
    "X.MERIT1.describe()"
   ]
  },
  {
   "cell_type": "code",
   "execution_count": 356,
   "metadata": {
    "collapsed": false
   },
   "outputs": [
    {
     "data": {
      "text/plain": [
       "count      433.000000\n",
       "mean    -12233.868719\n",
       "std      10618.251958\n",
       "min     -45000.000000\n",
       "25%     -17334.100000\n",
       "50%     -11750.000000\n",
       "75%      -2864.420000\n",
       "max         -0.002357\n",
       "Name: MERIT1, dtype: float64"
      ]
     },
     "execution_count": 356,
     "metadata": {},
     "output_type": "execute_result"
    }
   ],
   "source": [
    "X[X.MERIT1<0].MERIT1.describe()"
   ]
  },
  {
   "cell_type": "code",
   "execution_count": 368,
   "metadata": {
    "collapsed": false
   },
   "outputs": [
    {
     "name": "stdout",
     "output_type": "stream",
     "text": [
      "             MERIT1         PERF1\n",
      "count  95408.000000  95408.000000\n",
      "mean    1541.120204   1855.572259\n",
      "std     1603.001281   1818.740447\n",
      "min        0.000000      0.000000\n",
      "25%      481.250000    472.500000\n",
      "50%     1282.835000   1444.420000\n",
      "75%     2132.150000   2791.732500\n",
      "max    35000.000000  56751.140000\n"
     ]
    }
   ],
   "source": [
    "#br.FixNumericOutlier(columns_to_fix=['MERIT1'],criteria_coef=('percentile',5),\n",
    "#                                                   method='lower',fill_with='nearest_value')\n",
    "fixout=br.FixNumericOutlier(columns_to_fix=['MERIT1','PERF1'], criteria_coef=('percentile', 5), \n",
    "                            method = 'lower', fill_with='nearest_value')\n",
    "                            \n",
    "X1 = fixout.fit(X).transform(X)\n",
    "print X1[['MERIT1','PERF1']].describe()"
   ]
  },
  {
   "cell_type": "code",
   "execution_count": 366,
   "metadata": {
    "collapsed": false
   },
   "outputs": [
    {
     "data": {
      "text/plain": [
       "0    0\n",
       "dtype: float64"
      ]
     },
     "execution_count": 366,
     "metadata": {},
     "output_type": "execute_result"
    }
   ],
   "source": [
    "X1.MERIT1.mode()"
   ]
  },
  {
   "cell_type": "code",
   "execution_count": 324,
   "metadata": {
    "collapsed": false
   },
   "outputs": [
    {
     "data": {
      "text/plain": [
       "['birth_tstmp', 'hire_tstmp', 'term_tstmp']"
      ]
     },
     "execution_count": 324,
     "metadata": {},
     "output_type": "execute_result"
    }
   ],
   "source": [
    "time_stamp_cols"
   ]
  },
  {
   "cell_type": "code",
   "execution_count": 326,
   "metadata": {
    "collapsed": false
   },
   "outputs": [
    {
     "data": {
      "text/html": [
       "<div>\n",
       "<table border=\"1\" class=\"dataframe\">\n",
       "  <thead>\n",
       "    <tr style=\"text-align: right;\">\n",
       "      <th></th>\n",
       "      <th>Age_years</th>\n",
       "      <th>hire_tstmp</th>\n",
       "      <th>term_tstmp</th>\n",
       "    </tr>\n",
       "  </thead>\n",
       "  <tbody>\n",
       "    <tr>\n",
       "      <th>49367</th>\n",
       "      <td>59.472816</td>\n",
       "      <td>1974-02-20</td>\n",
       "      <td>2006-03-31</td>\n",
       "    </tr>\n",
       "    <tr>\n",
       "      <th>86464</th>\n",
       "      <td>32.055415</td>\n",
       "      <td>1995-11-06</td>\n",
       "      <td>2002-05-31</td>\n",
       "    </tr>\n",
       "    <tr>\n",
       "      <th>40829</th>\n",
       "      <td>51.719063</td>\n",
       "      <td>1988-08-08</td>\n",
       "      <td>2015-01-01</td>\n",
       "    </tr>\n",
       "    <tr>\n",
       "      <th>85328</th>\n",
       "      <td>57.542592</td>\n",
       "      <td>1980-01-28</td>\n",
       "      <td>2004-04-30</td>\n",
       "    </tr>\n",
       "    <tr>\n",
       "      <th>36315</th>\n",
       "      <td>41.454650</td>\n",
       "      <td>1997-12-01</td>\n",
       "      <td>2015-01-01</td>\n",
       "    </tr>\n",
       "    <tr>\n",
       "      <th>118281</th>\n",
       "      <td>53.605481</td>\n",
       "      <td>1985-01-28</td>\n",
       "      <td>2015-01-01</td>\n",
       "    </tr>\n",
       "    <tr>\n",
       "      <th>45455</th>\n",
       "      <td>40.009035</td>\n",
       "      <td>2014-06-23</td>\n",
       "      <td>2015-01-01</td>\n",
       "    </tr>\n",
       "    <tr>\n",
       "      <th>50901</th>\n",
       "      <td>24.871147</td>\n",
       "      <td>2012-01-16</td>\n",
       "      <td>2012-07-27</td>\n",
       "    </tr>\n",
       "    <tr>\n",
       "      <th>65887</th>\n",
       "      <td>62.194296</td>\n",
       "      <td>1988-01-04</td>\n",
       "      <td>2015-01-01</td>\n",
       "    </tr>\n",
       "    <tr>\n",
       "      <th>15894</th>\n",
       "      <td>63.587890</td>\n",
       "      <td>1975-12-15</td>\n",
       "      <td>2010-05-31</td>\n",
       "    </tr>\n",
       "    <tr>\n",
       "      <th>113268</th>\n",
       "      <td>54.689692</td>\n",
       "      <td>1985-10-21</td>\n",
       "      <td>2010-11-17</td>\n",
       "    </tr>\n",
       "    <tr>\n",
       "      <th>102958</th>\n",
       "      <td>27.787018</td>\n",
       "      <td>2006-03-13</td>\n",
       "      <td>2008-05-14</td>\n",
       "    </tr>\n",
       "    <tr>\n",
       "      <th>59922</th>\n",
       "      <td>43.987214</td>\n",
       "      <td>2004-03-29</td>\n",
       "      <td>2015-01-01</td>\n",
       "    </tr>\n",
       "    <tr>\n",
       "      <th>6442</th>\n",
       "      <td>27.576199</td>\n",
       "      <td>2012-05-29</td>\n",
       "      <td>2015-01-01</td>\n",
       "    </tr>\n",
       "    <tr>\n",
       "      <th>102712</th>\n",
       "      <td>61.197697</td>\n",
       "      <td>1973-07-09</td>\n",
       "      <td>2015-01-01</td>\n",
       "    </tr>\n",
       "    <tr>\n",
       "      <th>22457</th>\n",
       "      <td>33.818627</td>\n",
       "      <td>1995-02-06</td>\n",
       "      <td>2003-03-03</td>\n",
       "    </tr>\n",
       "    <tr>\n",
       "      <th>50491</th>\n",
       "      <td>37.753000</td>\n",
       "      <td>2008-01-14</td>\n",
       "      <td>2015-01-01</td>\n",
       "    </tr>\n",
       "    <tr>\n",
       "      <th>63900</th>\n",
       "      <td>49.556117</td>\n",
       "      <td>1988-06-13</td>\n",
       "      <td>2015-01-01</td>\n",
       "    </tr>\n",
       "    <tr>\n",
       "      <th>113274</th>\n",
       "      <td>24.802700</td>\n",
       "      <td>2000-06-12</td>\n",
       "      <td>2002-09-27</td>\n",
       "    </tr>\n",
       "    <tr>\n",
       "      <th>28176</th>\n",
       "      <td>36.348453</td>\n",
       "      <td>1997-10-20</td>\n",
       "      <td>2003-07-04</td>\n",
       "    </tr>\n",
       "    <tr>\n",
       "      <th>23403</th>\n",
       "      <td>58.511811</td>\n",
       "      <td>1967-07-26</td>\n",
       "      <td>2006-03-31</td>\n",
       "    </tr>\n",
       "    <tr>\n",
       "      <th>79699</th>\n",
       "      <td>22.459051</td>\n",
       "      <td>2008-04-14</td>\n",
       "      <td>2008-08-08</td>\n",
       "    </tr>\n",
       "    <tr>\n",
       "      <th>106006</th>\n",
       "      <td>70.766682</td>\n",
       "      <td>1985-03-11</td>\n",
       "      <td>2010-05-31</td>\n",
       "    </tr>\n",
       "    <tr>\n",
       "      <th>98485</th>\n",
       "      <td>52.031185</td>\n",
       "      <td>1993-11-09</td>\n",
       "      <td>2015-01-01</td>\n",
       "    </tr>\n",
       "    <tr>\n",
       "      <th>19412</th>\n",
       "      <td>68.828244</td>\n",
       "      <td>1996-10-21</td>\n",
       "      <td>2015-01-01</td>\n",
       "    </tr>\n",
       "    <tr>\n",
       "      <th>67800</th>\n",
       "      <td>52.838867</td>\n",
       "      <td>1986-12-01</td>\n",
       "      <td>2015-01-01</td>\n",
       "    </tr>\n",
       "    <tr>\n",
       "      <th>102200</th>\n",
       "      <td>36.975434</td>\n",
       "      <td>2000-07-10</td>\n",
       "      <td>2012-10-11</td>\n",
       "    </tr>\n",
       "    <tr>\n",
       "      <th>93126</th>\n",
       "      <td>64.061548</td>\n",
       "      <td>1990-10-22</td>\n",
       "      <td>2014-10-31</td>\n",
       "    </tr>\n",
       "    <tr>\n",
       "      <th>27121</th>\n",
       "      <td>44.981074</td>\n",
       "      <td>2014-08-18</td>\n",
       "      <td>2015-01-01</td>\n",
       "    </tr>\n",
       "    <tr>\n",
       "      <th>14573</th>\n",
       "      <td>54.996338</td>\n",
       "      <td>1995-04-10</td>\n",
       "      <td>2015-01-01</td>\n",
       "    </tr>\n",
       "    <tr>\n",
       "      <th>...</th>\n",
       "      <td>...</td>\n",
       "      <td>...</td>\n",
       "      <td>...</td>\n",
       "    </tr>\n",
       "    <tr>\n",
       "      <th>120232</th>\n",
       "      <td>53.539772</td>\n",
       "      <td>2007-06-25</td>\n",
       "      <td>2009-05-19</td>\n",
       "    </tr>\n",
       "    <tr>\n",
       "      <th>125138</th>\n",
       "      <td>46.462282</td>\n",
       "      <td>1997-11-17</td>\n",
       "      <td>2015-01-01</td>\n",
       "    </tr>\n",
       "    <tr>\n",
       "      <th>51768</th>\n",
       "      <td>38.807094</td>\n",
       "      <td>1997-05-01</td>\n",
       "      <td>2002-06-07</td>\n",
       "    </tr>\n",
       "    <tr>\n",
       "      <th>113191</th>\n",
       "      <td>45.421877</td>\n",
       "      <td>1984-06-04</td>\n",
       "      <td>2011-10-31</td>\n",
       "    </tr>\n",
       "    <tr>\n",
       "      <th>84379</th>\n",
       "      <td>29.506424</td>\n",
       "      <td>2000-09-25</td>\n",
       "      <td>2007-08-26</td>\n",
       "    </tr>\n",
       "    <tr>\n",
       "      <th>90590</th>\n",
       "      <td>34.262168</td>\n",
       "      <td>1994-03-21</td>\n",
       "      <td>2002-06-14</td>\n",
       "    </tr>\n",
       "    <tr>\n",
       "      <th>49023</th>\n",
       "      <td>44.195295</td>\n",
       "      <td>1998-02-23</td>\n",
       "      <td>2010-10-21</td>\n",
       "    </tr>\n",
       "    <tr>\n",
       "      <th>114278</th>\n",
       "      <td>48.701890</td>\n",
       "      <td>1993-10-11</td>\n",
       "      <td>2015-01-01</td>\n",
       "    </tr>\n",
       "    <tr>\n",
       "      <th>121459</th>\n",
       "      <td>29.265488</td>\n",
       "      <td>2003-03-08</td>\n",
       "      <td>2003-07-01</td>\n",
       "    </tr>\n",
       "    <tr>\n",
       "      <th>88653</th>\n",
       "      <td>41.572380</td>\n",
       "      <td>1998-08-17</td>\n",
       "      <td>2015-01-01</td>\n",
       "    </tr>\n",
       "    <tr>\n",
       "      <th>64404</th>\n",
       "      <td>45.712095</td>\n",
       "      <td>1992-01-13</td>\n",
       "      <td>2015-01-01</td>\n",
       "    </tr>\n",
       "    <tr>\n",
       "      <th>61666</th>\n",
       "      <td>36.948055</td>\n",
       "      <td>2005-05-09</td>\n",
       "      <td>2015-01-01</td>\n",
       "    </tr>\n",
       "    <tr>\n",
       "      <th>22137</th>\n",
       "      <td>64.666626</td>\n",
       "      <td>1985-06-17</td>\n",
       "      <td>2015-01-01</td>\n",
       "    </tr>\n",
       "    <tr>\n",
       "      <th>110864</th>\n",
       "      <td>42.919430</td>\n",
       "      <td>1993-06-07</td>\n",
       "      <td>2014-09-19</td>\n",
       "    </tr>\n",
       "    <tr>\n",
       "      <th>35135</th>\n",
       "      <td>50.218690</td>\n",
       "      <td>1998-02-03</td>\n",
       "      <td>2015-01-01</td>\n",
       "    </tr>\n",
       "    <tr>\n",
       "      <th>112758</th>\n",
       "      <td>55.979247</td>\n",
       "      <td>2002-05-18</td>\n",
       "      <td>2005-08-31</td>\n",
       "    </tr>\n",
       "    <tr>\n",
       "      <th>22965</th>\n",
       "      <td>32.178621</td>\n",
       "      <td>2006-02-13</td>\n",
       "      <td>2015-01-01</td>\n",
       "    </tr>\n",
       "    <tr>\n",
       "      <th>56705</th>\n",
       "      <td>25.892387</td>\n",
       "      <td>2014-03-31</td>\n",
       "      <td>2014-08-04</td>\n",
       "    </tr>\n",
       "    <tr>\n",
       "      <th>81262</th>\n",
       "      <td>43.576528</td>\n",
       "      <td>1990-03-12</td>\n",
       "      <td>2007-08-31</td>\n",
       "    </tr>\n",
       "    <tr>\n",
       "      <th>133066</th>\n",
       "      <td>24.668542</td>\n",
       "      <td>2008-05-29</td>\n",
       "      <td>2009-07-02</td>\n",
       "    </tr>\n",
       "    <tr>\n",
       "      <th>11451</th>\n",
       "      <td>63.144349</td>\n",
       "      <td>1970-03-02</td>\n",
       "      <td>2013-06-30</td>\n",
       "    </tr>\n",
       "    <tr>\n",
       "      <th>76748</th>\n",
       "      <td>37.854302</td>\n",
       "      <td>2002-05-27</td>\n",
       "      <td>2012-08-31</td>\n",
       "    </tr>\n",
       "    <tr>\n",
       "      <th>36061</th>\n",
       "      <td>50.796389</td>\n",
       "      <td>1989-08-21</td>\n",
       "      <td>2015-01-01</td>\n",
       "    </tr>\n",
       "    <tr>\n",
       "      <th>16562</th>\n",
       "      <td>50.314517</td>\n",
       "      <td>1983-04-18</td>\n",
       "      <td>2015-01-01</td>\n",
       "    </tr>\n",
       "    <tr>\n",
       "      <th>51921</th>\n",
       "      <td>29.462617</td>\n",
       "      <td>2005-05-16</td>\n",
       "      <td>2009-12-07</td>\n",
       "    </tr>\n",
       "    <tr>\n",
       "      <th>69800</th>\n",
       "      <td>49.386367</td>\n",
       "      <td>1998-02-02</td>\n",
       "      <td>2015-01-01</td>\n",
       "    </tr>\n",
       "    <tr>\n",
       "      <th>29914</th>\n",
       "      <td>40.737318</td>\n",
       "      <td>1994-11-14</td>\n",
       "      <td>2015-01-01</td>\n",
       "    </tr>\n",
       "    <tr>\n",
       "      <th>104905</th>\n",
       "      <td>26.724710</td>\n",
       "      <td>2007-10-22</td>\n",
       "      <td>2015-01-01</td>\n",
       "    </tr>\n",
       "    <tr>\n",
       "      <th>4344</th>\n",
       "      <td>28.107353</td>\n",
       "      <td>2010-07-12</td>\n",
       "      <td>2015-01-01</td>\n",
       "    </tr>\n",
       "    <tr>\n",
       "      <th>27379</th>\n",
       "      <td>39.225994</td>\n",
       "      <td>2008-05-30</td>\n",
       "      <td>2015-01-01</td>\n",
       "    </tr>\n",
       "  </tbody>\n",
       "</table>\n",
       "<p>107388 rows × 3 columns</p>\n",
       "</div>"
      ],
      "text/plain": [
       "        Age_years hire_tstmp term_tstmp\n",
       "49367   59.472816 1974-02-20 2006-03-31\n",
       "86464   32.055415 1995-11-06 2002-05-31\n",
       "40829   51.719063 1988-08-08 2015-01-01\n",
       "85328   57.542592 1980-01-28 2004-04-30\n",
       "36315   41.454650 1997-12-01 2015-01-01\n",
       "118281  53.605481 1985-01-28 2015-01-01\n",
       "45455   40.009035 2014-06-23 2015-01-01\n",
       "50901   24.871147 2012-01-16 2012-07-27\n",
       "65887   62.194296 1988-01-04 2015-01-01\n",
       "15894   63.587890 1975-12-15 2010-05-31\n",
       "113268  54.689692 1985-10-21 2010-11-17\n",
       "102958  27.787018 2006-03-13 2008-05-14\n",
       "59922   43.987214 2004-03-29 2015-01-01\n",
       "6442    27.576199 2012-05-29 2015-01-01\n",
       "102712  61.197697 1973-07-09 2015-01-01\n",
       "22457   33.818627 1995-02-06 2003-03-03\n",
       "50491   37.753000 2008-01-14 2015-01-01\n",
       "63900   49.556117 1988-06-13 2015-01-01\n",
       "113274  24.802700 2000-06-12 2002-09-27\n",
       "28176   36.348453 1997-10-20 2003-07-04\n",
       "23403   58.511811 1967-07-26 2006-03-31\n",
       "79699   22.459051 2008-04-14 2008-08-08\n",
       "106006  70.766682 1985-03-11 2010-05-31\n",
       "98485   52.031185 1993-11-09 2015-01-01\n",
       "19412   68.828244 1996-10-21 2015-01-01\n",
       "67800   52.838867 1986-12-01 2015-01-01\n",
       "102200  36.975434 2000-07-10 2012-10-11\n",
       "93126   64.061548 1990-10-22 2014-10-31\n",
       "27121   44.981074 2014-08-18 2015-01-01\n",
       "14573   54.996338 1995-04-10 2015-01-01\n",
       "...           ...        ...        ...\n",
       "120232  53.539772 2007-06-25 2009-05-19\n",
       "125138  46.462282 1997-11-17 2015-01-01\n",
       "51768   38.807094 1997-05-01 2002-06-07\n",
       "113191  45.421877 1984-06-04 2011-10-31\n",
       "84379   29.506424 2000-09-25 2007-08-26\n",
       "90590   34.262168 1994-03-21 2002-06-14\n",
       "49023   44.195295 1998-02-23 2010-10-21\n",
       "114278  48.701890 1993-10-11 2015-01-01\n",
       "121459  29.265488 2003-03-08 2003-07-01\n",
       "88653   41.572380 1998-08-17 2015-01-01\n",
       "64404   45.712095 1992-01-13 2015-01-01\n",
       "61666   36.948055 2005-05-09 2015-01-01\n",
       "22137   64.666626 1985-06-17 2015-01-01\n",
       "110864  42.919430 1993-06-07 2014-09-19\n",
       "35135   50.218690 1998-02-03 2015-01-01\n",
       "112758  55.979247 2002-05-18 2005-08-31\n",
       "22965   32.178621 2006-02-13 2015-01-01\n",
       "56705   25.892387 2014-03-31 2014-08-04\n",
       "81262   43.576528 1990-03-12 2007-08-31\n",
       "133066  24.668542 2008-05-29 2009-07-02\n",
       "11451   63.144349 1970-03-02 2013-06-30\n",
       "76748   37.854302 2002-05-27 2012-08-31\n",
       "36061   50.796389 1989-08-21 2015-01-01\n",
       "16562   50.314517 1983-04-18 2015-01-01\n",
       "51921   29.462617 2005-05-16 2009-12-07\n",
       "69800   49.386367 1998-02-02 2015-01-01\n",
       "29914   40.737318 1994-11-14 2015-01-01\n",
       "104905  26.724710 2007-10-22 2015-01-01\n",
       "4344    28.107353 2010-07-12 2015-01-01\n",
       "27379   39.225994 2008-05-30 2015-01-01\n",
       "\n",
       "[107388 rows x 3 columns]"
      ]
     },
     "execution_count": 326,
     "metadata": {},
     "output_type": "execute_result"
    }
   ],
   "source": [
    "em2.ix[X['ADDRCNT1'].isnull().index][['Age_years','hire_tstmp','term_tstmp']]"
   ]
  },
  {
   "cell_type": "code",
   "execution_count": null,
   "metadata": {
    "collapsed": true
   },
   "outputs": [],
   "source": [
    "kfold"
   ]
  },
  {
   "cell_type": "code",
   "execution_count": null,
   "metadata": {
    "collapsed": true
   },
   "outputs": [],
   "source": []
  },
  {
   "cell_type": "markdown",
   "metadata": {},
   "source": [
    "#OKAY So NEXT Step is to apply the transformation using my pipe and check for collinearity"
   ]
  },
  {
   "cell_type": "code",
   "execution_count": 395,
   "metadata": {
    "collapsed": false
   },
   "outputs": [],
   "source": [
    "tXeval = pipe.fit(X,y).transform(Xeval)"
   ]
  },
  {
   "cell_type": "code",
   "execution_count": 384,
   "metadata": {
    "collapsed": false
   },
   "outputs": [],
   "source": [
    "Xft = pipe.fit_transform(X,y)"
   ]
  },
  {
   "cell_type": "code",
   "execution_count": 392,
   "metadata": {
    "collapsed": false
   },
   "outputs": [
    {
     "data": {
      "text/plain": [
       "['BOX1']"
      ]
     },
     "execution_count": 392,
     "metadata": {},
     "output_type": "execute_result"
    }
   ],
   "source": [
    "[c for c in Xft.columns if 'BOX' in c]"
   ]
  },
  {
   "cell_type": "code",
   "execution_count": 386,
   "metadata": {
    "collapsed": false
   },
   "outputs": [
    {
     "name": "stdout",
     "output_type": "stream",
     "text": [
      "FLOORCNT1             VIF = 2.5   R^2 = 0.5951    \n",
      "FULLPART1             VIF = 409.2 R^2 = 0.9976    \n",
      "EFUNCCNT1             VIF = 3.9   R^2 = 0.7466    \n",
      "PERF1                 VIF = 7.1   R^2 = 0.86      \n",
      "PTFTCNT1              VIF = 1150.4R^2 = 0.9991    \n",
      "MERIT1                VIF = 5.3   R^2 = 0.8126    \n",
      "LOCCNT1               VIF = 2.4   R^2 = 0.5816    \n",
      "BOX1                  VIF = 231.7 R^2 = 0.9957    \n",
      "FUNCCNT1              VIF = 4.1   R^2 = 0.7569    \n",
      "SUPVCNT1              VIF = 2.0   R^2 = 0.4931    \n",
      "JOBCNT1               VIF = 4.0   R^2 = 0.7486    \n",
      "GRADECNT1             VIF = 2.8   R^2 = 0.6413    \n",
      "SAL1                  VIF = 16.0  R^2 = 0.9374    \n",
      "PARTFULL1             VIF = 1149.8R^2 = 0.9991    \n",
      "RATE1                 VIF = 198.3 R^2 = 0.995     \n",
      "ADDRCNT1              VIF = 3.3   R^2 = 0.6995    \n",
      "FTPTCNT1              VIF = 409.1 R^2 = 0.9976    \n",
      "LOCSTCNT1             VIF = 3.8   R^2 = 0.7342    \n",
      "DEPTCNT1              VIF = 4.0   R^2 = 0.7516    \n",
      "MAX_RT_ANNUAL         VIF = 65.4  R^2 = 0.9847    \n",
      "MIN_RT_ANNUAL         VIF = 53.3  R^2 = 0.9812    \n",
      "\n",
      "Tenure_years: PERFECT COLLINEARITY ********\n",
      "['Age_years', 'hire_age']\n",
      "\n",
      "\n",
      "Age_years: PERFECT COLLINEARITY ********\n",
      "['Tenure_years', 'hire_age']\n",
      "\n",
      "\n",
      "hire_age: PERFECT COLLINEARITY ********\n",
      "['Tenure_years', 'Age_years']\n",
      "\n",
      "TOTAL_RPT_CNT         VIF = 2.2   R^2 = 0.5519    \n",
      "FUNC_CNT              VIF = 5.4   R^2 = 0.8157    \n",
      "DIRECT_RPT_CNT        VIF = 1.9   R^2 = 0.477     \n",
      "EXTFUNC_CNT           VIF = 5.4   R^2 = 0.8147    \n",
      "REH_CNT               VIF = 1.9   R^2 = 0.4867    \n",
      "HAVE_INS              VIF = 2.6   R^2 = 0.6082    \n",
      "HAVE_DEP              VIF = 2.4   R^2 = 0.5908    \n",
      "INTERN                VIF = 2.8   R^2 = 0.643     \n",
      "HUBIND                VIF = 2.7   R^2 = 0.6246    \n",
      "RELO_STATE_CNT_SFI    VIF = 50.0  R^2 = 0.98      \n",
      "RELOCATE_ALL_SFI      VIF = 47.6  R^2 = 0.979     \n",
      "STD_HOURS             VIF = 97167.7R^2 = 1.0       \n",
      "unempl_rate           VIF = 1.6   R^2 = 0.3606    \n",
      "REMOTE                VIF = 6.0   R^2 = 0.8336    \n",
      "SUPV_DIFF_LOC         VIF = 4.0   R^2 = 0.7522    \n",
      "FTE                   VIF = 97590.0R^2 = 1.0       \n",
      "Male                  VIF = 2.2   R^2 = 0.5422    \n",
      "SHIFT                 VIF = 2.5   R^2 = 0.6008    \n",
      "FLSA_STATUS           VIF = 326.7 R^2 = 0.9969    \n",
      "REMOTE_SUPV           VIF = 2.0   R^2 = 0.4889    \n",
      "hourly_comp           VIF = 27.2  R^2 = 0.9633    \n",
      "EXT_FUNC_ID_SFI_le    VIF = 5.1   R^2 = 0.8044    \n",
      "JOBCODE_le            VIF = 5.1   R^2 = 0.8058    \n",
      "LOC_TYPE_DESCR_SFI_le VIF = 7.0   R^2 = 0.858     \n",
      "LOC_STATE_le          VIF = 1.8   R^2 = 0.4307    \n",
      "EMPL_CLASS_1          VIF = 3759.5R^2 = 0.9997    \n",
      "EMPL_CLASS_D          VIF = 2981.7R^2 = 0.9997    \n",
      "EMPL_CLASS_3          VIF = 833.4 R^2 = 0.9988    \n",
      "EMPL_CLASS_4          VIF = 86.4  R^2 = 0.9884    \n",
      "EMPL_CLASS_5          VIF = 3.0   R^2 = 0.668     \n",
      "EEO1CODE_3            VIF = 692.5 R^2 = 0.9986    \n",
      "EEO1CODE_4            VIF = 1420.8R^2 = 0.9993    \n",
      "EEO1CODE_2            VIF = 9379.5R^2 = 0.9999    \n",
      "EEO1CODE_5            VIF = 9569.1R^2 = 0.9999    \n",
      "EEO1CODE_1            VIF = 3036.6R^2 = 0.9997    \n",
      "EEO1CODE_6            VIF = 113.5 R^2 = 0.9912    \n",
      "EEO1CODE_7            VIF = 139.9 R^2 = 0.9929    \n",
      "EEO1CODE_8            VIF = 1.4   R^2 = 0.2801    \n",
      "EEO1CODE_N            VIF = 3.0   R^2 = 0.6687    \n",
      "EMPL_TYPE_E           VIF = 7187.7R^2 = 0.9999    \n",
      "EMPL_TYPE_N           VIF = 414.7 R^2 = 0.9976    \n",
      "EMPL_TYPE_S           VIF = 5466.4R^2 = 0.9998    \n",
      "EMPL_TYPE_H           VIF = 2968.7R^2 = 0.9997    \n",
      "FULL_PART_TIME_F      VIF = 52.8  R^2 = 0.981     \n",
      "FULL_PART_TIME_X      VIF = 11.7  R^2 = 0.9142    \n",
      "FULL_PART_TIME_P      VIF = 39.4  R^2 = 0.9746    \n",
      "ETHNIC_GROUP_1.0      VIF = 675.7 R^2 = 0.9985    \n",
      "ETHNIC_GROUP_2.0      VIF = 451.2 R^2 = 0.9978    \n",
      "ETHNIC_GROUP_3.0      VIF = 237.5 R^2 = 0.9958    \n",
      "ETHNIC_GROUP_8.0      VIF = 60.7  R^2 = 0.9835    \n",
      "ETHNIC_GROUP_4.0      VIF = 71.6  R^2 = 0.986     \n",
      "ETHNIC_GROUP_5.0      VIF = 15.4  R^2 = 0.9351    \n",
      "ETHNIC_GROUP_7.0      VIF = 12.3  R^2 = 0.919     \n",
      "DIVISION_CODE_SFI_6.0 VIF = 273.6 R^2 = 0.9963    \n",
      "DIVISION_CODE_SFI_9.0 VIF = 2249.6R^2 = 0.9996    \n",
      "DIVISION_CODE_SFI_0.0 VIF = 1352.3R^2 = 0.9993    \n",
      "DIVISION_CODE_SFI_2.0 VIF = 530.8 R^2 = 0.9981    \n",
      "DIVISION_CODE_SFI_4.0 VIF = 468.6 R^2 = 0.9979    \n",
      "DIVISION_CODE_SFI_1.0 VIF = 293.2 R^2 = 0.9966    \n",
      "DIVISION_CODE_SFI_3.0 VIF = 340.5 R^2 = 0.9971    \n",
      "DIVISION_CODE_SFI_5.0 VIF = 185.1 R^2 = 0.9946    \n",
      "COMPANY_1             VIF = 6592.3R^2 = 0.9998    \n",
      "COMPANY_5             VIF = 6468.4R^2 = 0.9998    \n",
      "COMPANY_49            VIF = 137.5 R^2 = 0.9927    \n",
      "COMPANY_2             VIF = 36.3  R^2 = 0.9724    \n",
      "COMPANY_4             VIF = 4.2   R^2 = 0.7638    \n",
      "surv_job_family_le    VIF = 3.3   R^2 = 0.6947    \n",
      "surv_grade_le         VIF = 4.9   R^2 = 0.7972    \n",
      "surv_job_function_le  VIF = 9.2   R^2 = 0.8916    \n",
      "surv_flor_sfi_le      VIF = 3.7   R^2 = 0.7277    \n",
      "surv_func_id_sfi_le   VIF = 2.5   R^2 = 0.6041    \n",
      "\n",
      "MERIT1_d: PERFECT COLLINEARITY ********\n",
      "['Tenure_years', 'Age_years', 'hire_age', 'PERF1_d']\n",
      "\n",
      "\n",
      "PERF1_d: PERFECT COLLINEARITY ********\n",
      "['Tenure_years', 'Age_years', 'hire_age', 'MERIT1_d']\n",
      "\n",
      "ADDRCNT1_d            VIF = 1.0   R^2 = 0.0084    \n"
     ]
    },
    {
     "data": {
      "text/plain": [
       "FLOORCNT1                0.595144\n",
       "FULLPART1                0.997557\n",
       "EFUNCCNT1                0.746568\n",
       "PERF1                    0.859969\n",
       "PTFTCNT1                 0.999131\n",
       "MERIT1                   0.812596\n",
       "LOCCNT1                  0.581566\n",
       "BOX1                     0.995683\n",
       "FUNCCNT1                 0.756860\n",
       "SUPVCNT1                 0.493146\n",
       "JOBCNT1                  0.748644\n",
       "GRADECNT1                0.641294\n",
       "SAL1                     0.937439\n",
       "PARTFULL1                0.999130\n",
       "RATE1                    0.994958\n",
       "ADDRCNT1                 0.699503\n",
       "FTPTCNT1                 0.997556\n",
       "LOCSTCNT1                0.734239\n",
       "DEPTCNT1                 0.751614\n",
       "MAX_RT_ANNUAL            0.984710\n",
       "MIN_RT_ANNUAL            0.981224\n",
       "Tenure_years             1.000000\n",
       "Age_years                1.000000\n",
       "hire_age                 1.000000\n",
       "TOTAL_RPT_CNT            0.551878\n",
       "FUNC_CNT                 0.815663\n",
       "DIRECT_RPT_CNT           0.477043\n",
       "EXTFUNC_CNT              0.814689\n",
       "REH_CNT                  0.486677\n",
       "HAVE_INS                 0.608196\n",
       "                           ...   \n",
       "FULL_PART_TIME_X         0.914197\n",
       "FULL_PART_TIME_P         0.974645\n",
       "ETHNIC_GROUP_1.0         0.998520\n",
       "ETHNIC_GROUP_2.0         0.997784\n",
       "ETHNIC_GROUP_3.0         0.995790\n",
       "ETHNIC_GROUP_8.0         0.983538\n",
       "ETHNIC_GROUP_4.0         0.986025\n",
       "ETHNIC_GROUP_5.0         0.935096\n",
       "ETHNIC_GROUP_7.0         0.918979\n",
       "DIVISION_CODE_SFI_6.0    0.996345\n",
       "DIVISION_CODE_SFI_9.0    0.999555\n",
       "DIVISION_CODE_SFI_0.0    0.999261\n",
       "DIVISION_CODE_SFI_2.0    0.998116\n",
       "DIVISION_CODE_SFI_4.0    0.997866\n",
       "DIVISION_CODE_SFI_1.0    0.996589\n",
       "DIVISION_CODE_SFI_3.0    0.997063\n",
       "DIVISION_CODE_SFI_5.0    0.994597\n",
       "COMPANY_1                0.999848\n",
       "COMPANY_5                0.999845\n",
       "COMPANY_49               0.992725\n",
       "COMPANY_2                0.972443\n",
       "COMPANY_4                0.763806\n",
       "surv_job_family_le       0.694742\n",
       "surv_grade_le            0.797189\n",
       "surv_job_function_le     0.891640\n",
       "surv_flor_sfi_le         0.727735\n",
       "surv_func_id_sfi_le      0.604103\n",
       "MERIT1_d                 1.000000\n",
       "PERF1_d                  1.000000\n",
       "ADDRCNT1_d               0.008374\n",
       "dtype: float64"
      ]
     },
     "execution_count": 386,
     "metadata": {},
     "output_type": "execute_result"
    }
   ],
   "source": [
    "br.perfect_collinearity_test(Xft)"
   ]
  },
  {
   "cell_type": "code",
   "execution_count": 396,
   "metadata": {
    "collapsed": false
   },
   "outputs": [
    {
     "data": {
      "text/html": [
       "<h1>Initial Analysis</h1>"
      ],
      "text/plain": [
       "<IPython.core.display.HTML object>"
      ]
     },
     "metadata": {},
     "output_type": "display_data"
    },
    {
     "data": {
      "text/html": [
       "<h2>Training data</h2>"
      ],
      "text/plain": [
       "<IPython.core.display.HTML object>"
      ]
     },
     "metadata": {},
     "output_type": "display_data"
    },
    {
     "data": {
      "text/html": [
       "<br>Shape of the data: 107388 rows 98 columns</br>"
      ],
      "text/plain": [
       "<IPython.core.display.HTML object>"
      ]
     },
     "metadata": {},
     "output_type": "display_data"
    },
    {
     "data": {
      "text/html": [
       "<br>Rows to scan: 10000</br>"
      ],
      "text/plain": [
       "<IPython.core.display.HTML object>"
      ]
     },
     "metadata": {},
     "output_type": "display_data"
    },
    {
     "data": {
      "text/html": [
       "<h3>Percentage of missing values</h3>"
      ],
      "text/plain": [
       "<IPython.core.display.HTML object>"
      ]
     },
     "metadata": {},
     "output_type": "display_data"
    },
    {
     "data": {
      "text/html": [
       "<table border=\"1\" class=\"dataframe\">\n",
       "  <thead>\n",
       "    <tr style=\"text-align: right;\">\n",
       "      <th></th>\n",
       "      <th>Percentage</th>\n",
       "    </tr>\n",
       "  </thead>\n",
       "  <tbody>\n",
       "  </tbody>\n",
       "</table>"
      ],
      "text/plain": [
       "<IPython.core.display.HTML object>"
      ]
     },
     "metadata": {},
     "output_type": "display_data"
    },
    {
     "data": {
      "text/html": [
       "<h3>Description of numeric columns (98 columns in all)</h3>"
      ],
      "text/plain": [
       "<IPython.core.display.HTML object>"
      ]
     },
     "metadata": {},
     "output_type": "display_data"
    },
    {
     "data": {
      "text/html": [
       "<table border=\"1\" class=\"dataframe\">\n",
       "  <thead>\n",
       "    <tr style=\"text-align: right;\">\n",
       "      <th></th>\n",
       "      <th>FLOORCNT1</th>\n",
       "      <th>FULLPART1</th>\n",
       "      <th>EFUNCCNT1</th>\n",
       "      <th>PERF1</th>\n",
       "      <th>PTFTCNT1</th>\n",
       "      <th>MERIT1</th>\n",
       "      <th>LOCCNT1</th>\n",
       "      <th>BOX1</th>\n",
       "      <th>FUNCCNT1</th>\n",
       "      <th>SUPVCNT1</th>\n",
       "      <th>JOBCNT1</th>\n",
       "      <th>GRADECNT1</th>\n",
       "      <th>SAL1</th>\n",
       "      <th>PARTFULL1</th>\n",
       "      <th>RATE1</th>\n",
       "      <th>ADDRCNT1</th>\n",
       "      <th>FTPTCNT1</th>\n",
       "      <th>LOCSTCNT1</th>\n",
       "      <th>DEPTCNT1</th>\n",
       "      <th>MAX_RT_ANNUAL</th>\n",
       "      <th>MIN_RT_ANNUAL</th>\n",
       "      <th>Tenure_years</th>\n",
       "      <th>Age_years</th>\n",
       "      <th>hire_age</th>\n",
       "      <th>TOTAL_RPT_CNT</th>\n",
       "      <th>FUNC_CNT</th>\n",
       "      <th>DIRECT_RPT_CNT</th>\n",
       "      <th>EXTFUNC_CNT</th>\n",
       "      <th>REH_CNT</th>\n",
       "      <th>HAVE_INS</th>\n",
       "      <th>HAVE_DEP</th>\n",
       "      <th>INTERN</th>\n",
       "      <th>HUBIND</th>\n",
       "      <th>RELO_STATE_CNT_SFI</th>\n",
       "      <th>RELOCATE_ALL_SFI</th>\n",
       "      <th>STD_HOURS</th>\n",
       "      <th>unempl_rate</th>\n",
       "      <th>REMOTE</th>\n",
       "      <th>SUPV_DIFF_LOC</th>\n",
       "      <th>FTE</th>\n",
       "      <th>Male</th>\n",
       "      <th>SHIFT</th>\n",
       "      <th>FLSA_STATUS</th>\n",
       "      <th>REMOTE_SUPV</th>\n",
       "      <th>hourly_comp</th>\n",
       "      <th>EXT_FUNC_ID_SFI_le</th>\n",
       "      <th>JOBCODE_le</th>\n",
       "      <th>LOC_TYPE_DESCR_SFI_le</th>\n",
       "      <th>LOC_STATE_le</th>\n",
       "      <th>EMPL_CLASS_1</th>\n",
       "      <th>EMPL_CLASS_D</th>\n",
       "      <th>EMPL_CLASS_3</th>\n",
       "      <th>EMPL_CLASS_4</th>\n",
       "      <th>EMPL_CLASS_5</th>\n",
       "      <th>EEO1CODE_3</th>\n",
       "      <th>EEO1CODE_4</th>\n",
       "      <th>EEO1CODE_2</th>\n",
       "      <th>EEO1CODE_5</th>\n",
       "      <th>EEO1CODE_1</th>\n",
       "      <th>EEO1CODE_6</th>\n",
       "      <th>EEO1CODE_7</th>\n",
       "      <th>EEO1CODE_8</th>\n",
       "      <th>EEO1CODE_N</th>\n",
       "      <th>EMPL_TYPE_E</th>\n",
       "      <th>EMPL_TYPE_N</th>\n",
       "      <th>EMPL_TYPE_S</th>\n",
       "      <th>EMPL_TYPE_H</th>\n",
       "      <th>FULL_PART_TIME_F</th>\n",
       "      <th>FULL_PART_TIME_X</th>\n",
       "      <th>FULL_PART_TIME_P</th>\n",
       "      <th>ETHNIC_GROUP_1.0</th>\n",
       "      <th>ETHNIC_GROUP_2.0</th>\n",
       "      <th>ETHNIC_GROUP_3.0</th>\n",
       "      <th>ETHNIC_GROUP_8.0</th>\n",
       "      <th>ETHNIC_GROUP_4.0</th>\n",
       "      <th>ETHNIC_GROUP_5.0</th>\n",
       "      <th>ETHNIC_GROUP_7.0</th>\n",
       "      <th>DIVISION_CODE_SFI_6.0</th>\n",
       "      <th>DIVISION_CODE_SFI_9.0</th>\n",
       "      <th>DIVISION_CODE_SFI_0.0</th>\n",
       "      <th>DIVISION_CODE_SFI_2.0</th>\n",
       "      <th>DIVISION_CODE_SFI_4.0</th>\n",
       "      <th>DIVISION_CODE_SFI_1.0</th>\n",
       "      <th>DIVISION_CODE_SFI_3.0</th>\n",
       "      <th>DIVISION_CODE_SFI_5.0</th>\n",
       "      <th>COMPANY_1</th>\n",
       "      <th>COMPANY_5</th>\n",
       "      <th>COMPANY_49</th>\n",
       "      <th>COMPANY_2</th>\n",
       "      <th>COMPANY_4</th>\n",
       "      <th>surv_job_family_le</th>\n",
       "      <th>surv_grade_le</th>\n",
       "      <th>surv_job_function_le</th>\n",
       "      <th>surv_flor_sfi_le</th>\n",
       "      <th>surv_func_id_sfi_le</th>\n",
       "      <th>MERIT1_d</th>\n",
       "      <th>PERF1_d</th>\n",
       "      <th>ADDRCNT1_d</th>\n",
       "    </tr>\n",
       "  </thead>\n",
       "  <tbody>\n",
       "    <tr>\n",
       "      <th>count</th>\n",
       "      <td>10000.000000</td>\n",
       "      <td>10000.000000</td>\n",
       "      <td>10000.000000</td>\n",
       "      <td>10000.000000</td>\n",
       "      <td>10000.000000</td>\n",
       "      <td>10000.000000</td>\n",
       "      <td>10000.000000</td>\n",
       "      <td>10000.000000</td>\n",
       "      <td>10000.000000</td>\n",
       "      <td>10000.000000</td>\n",
       "      <td>10000.000000</td>\n",
       "      <td>10000.000000</td>\n",
       "      <td>10000.000000</td>\n",
       "      <td>10000.000000</td>\n",
       "      <td>10000.000000</td>\n",
       "      <td>10000.000000</td>\n",
       "      <td>10000.000000</td>\n",
       "      <td>10000.000000</td>\n",
       "      <td>10000.000000</td>\n",
       "      <td>10000.000000</td>\n",
       "      <td>10000.000000</td>\n",
       "      <td>10000.000000</td>\n",
       "      <td>10000.000000</td>\n",
       "      <td>10000.000000</td>\n",
       "      <td>10000.000000</td>\n",
       "      <td>10000.000000</td>\n",
       "      <td>10000.00000</td>\n",
       "      <td>10000.000000</td>\n",
       "      <td>10000.000000</td>\n",
       "      <td>10000.000000</td>\n",
       "      <td>10000.000000</td>\n",
       "      <td>10000.000000</td>\n",
       "      <td>10000.000000</td>\n",
       "      <td>10000.000000</td>\n",
       "      <td>10000.000000</td>\n",
       "      <td>10000.000000</td>\n",
       "      <td>10000.000000</td>\n",
       "      <td>10000.000000</td>\n",
       "      <td>10000.000000</td>\n",
       "      <td>10000.000000</td>\n",
       "      <td>10000.000000</td>\n",
       "      <td>10000.000000</td>\n",
       "      <td>10000.000000</td>\n",
       "      <td>10000.000000</td>\n",
       "      <td>10000.000000</td>\n",
       "      <td>10000.000000</td>\n",
       "      <td>10000.000000</td>\n",
       "      <td>10000.000000</td>\n",
       "      <td>10000.000000</td>\n",
       "      <td>10000.000000</td>\n",
       "      <td>10000.000000</td>\n",
       "      <td>10000.000000</td>\n",
       "      <td>10000.000000</td>\n",
       "      <td>10000</td>\n",
       "      <td>10000.000000</td>\n",
       "      <td>10000.000000</td>\n",
       "      <td>10000.000000</td>\n",
       "      <td>10000.000000</td>\n",
       "      <td>10000.000000</td>\n",
       "      <td>10000.000000</td>\n",
       "      <td>10000.000000</td>\n",
       "      <td>10000</td>\n",
       "      <td>10000</td>\n",
       "      <td>10000.000000</td>\n",
       "      <td>10000.000000</td>\n",
       "      <td>10000.000000</td>\n",
       "      <td>10000.000000</td>\n",
       "      <td>10000.000000</td>\n",
       "      <td>10000.000000</td>\n",
       "      <td>10000.000000</td>\n",
       "      <td>10000.0000</td>\n",
       "      <td>10000.000000</td>\n",
       "      <td>10000.000000</td>\n",
       "      <td>10000.000000</td>\n",
       "      <td>10000.000000</td>\n",
       "      <td>10000.000000</td>\n",
       "      <td>10000.000000</td>\n",
       "      <td>10000.000000</td>\n",
       "      <td>10000.00000</td>\n",
       "      <td>10000.00000</td>\n",
       "      <td>10000.000000</td>\n",
       "      <td>10000.000000</td>\n",
       "      <td>10000.000000</td>\n",
       "      <td>10000.000000</td>\n",
       "      <td>10000.000000</td>\n",
       "      <td>10000.000000</td>\n",
       "      <td>10000.000000</td>\n",
       "      <td>10000.000000</td>\n",
       "      <td>10000.000000</td>\n",
       "      <td>10000</td>\n",
       "      <td>10000.000000</td>\n",
       "      <td>10000.000000</td>\n",
       "      <td>10000.000000</td>\n",
       "      <td>10000.000000</td>\n",
       "      <td>10000.000000</td>\n",
       "      <td>10000.000000</td>\n",
       "      <td>10000.000000</td>\n",
       "      <td>10000.000000</td>\n",
       "    </tr>\n",
       "    <tr>\n",
       "      <th>mean</th>\n",
       "      <td>0.039700</td>\n",
       "      <td>0.003700</td>\n",
       "      <td>0.224100</td>\n",
       "      <td>1831.550458</td>\n",
       "      <td>0.009200</td>\n",
       "      <td>1546.591643</td>\n",
       "      <td>0.143500</td>\n",
       "      <td>1.705100</td>\n",
       "      <td>0.102300</td>\n",
       "      <td>0.747700</td>\n",
       "      <td>0.203100</td>\n",
       "      <td>0.132400</td>\n",
       "      <td>54853.008591</td>\n",
       "      <td>0.009200</td>\n",
       "      <td>1.686500</td>\n",
       "      <td>0.085118</td>\n",
       "      <td>0.003700</td>\n",
       "      <td>0.023800</td>\n",
       "      <td>0.427100</td>\n",
       "      <td>68455.853960</td>\n",
       "      <td>40058.588737</td>\n",
       "      <td>13.092968</td>\n",
       "      <td>42.469773</td>\n",
       "      <td>29.376806</td>\n",
       "      <td>36.704100</td>\n",
       "      <td>17445.409300</td>\n",
       "      <td>12.70890</td>\n",
       "      <td>2467.169800</td>\n",
       "      <td>0.163400</td>\n",
       "      <td>0.599900</td>\n",
       "      <td>0.352900</td>\n",
       "      <td>0.069800</td>\n",
       "      <td>0.360700</td>\n",
       "      <td>9.450800</td>\n",
       "      <td>0.148400</td>\n",
       "      <td>37.679913</td>\n",
       "      <td>6.012080</td>\n",
       "      <td>0.083700</td>\n",
       "      <td>0.247800</td>\n",
       "      <td>0.970953</td>\n",
       "      <td>0.375300</td>\n",
       "      <td>0.999300</td>\n",
       "      <td>0.224900</td>\n",
       "      <td>0.034500</td>\n",
       "      <td>0.073200</td>\n",
       "      <td>116.212300</td>\n",
       "      <td>687.395000</td>\n",
       "      <td>14.004600</td>\n",
       "      <td>21.879900</td>\n",
       "      <td>0.978300</td>\n",
       "      <td>0.016500</td>\n",
       "      <td>0.004700</td>\n",
       "      <td>0.000500</td>\n",
       "      <td>0</td>\n",
       "      <td>0.016800</td>\n",
       "      <td>0.038200</td>\n",
       "      <td>0.414000</td>\n",
       "      <td>0.443000</td>\n",
       "      <td>0.081400</td>\n",
       "      <td>0.003400</td>\n",
       "      <td>0.003200</td>\n",
       "      <td>0</td>\n",
       "      <td>0</td>\n",
       "      <td>0.639100</td>\n",
       "      <td>0.016500</td>\n",
       "      <td>0.241200</td>\n",
       "      <td>0.103000</td>\n",
       "      <td>0.906600</td>\n",
       "      <td>0.017000</td>\n",
       "      <td>0.068400</td>\n",
       "      <td>0.7091</td>\n",
       "      <td>0.158700</td>\n",
       "      <td>0.085500</td>\n",
       "      <td>0.017100</td>\n",
       "      <td>0.022700</td>\n",
       "      <td>0.004700</td>\n",
       "      <td>0.002000</td>\n",
       "      <td>0.027200</td>\n",
       "      <td>0.60390</td>\n",
       "      <td>0.18670</td>\n",
       "      <td>0.042900</td>\n",
       "      <td>0.036000</td>\n",
       "      <td>0.039100</td>\n",
       "      <td>0.028900</td>\n",
       "      <td>0.031700</td>\n",
       "      <td>0.859200</td>\n",
       "      <td>0.137300</td>\n",
       "      <td>0.002200</td>\n",
       "      <td>0.001300</td>\n",
       "      <td>0</td>\n",
       "      <td>30.343675</td>\n",
       "      <td>40.271292</td>\n",
       "      <td>34.906767</td>\n",
       "      <td>31.236375</td>\n",
       "      <td>39.623325</td>\n",
       "      <td>0.110700</td>\n",
       "      <td>0.110700</td>\n",
       "      <td>0.000200</td>\n",
       "    </tr>\n",
       "    <tr>\n",
       "      <th>std</th>\n",
       "      <td>0.223895</td>\n",
       "      <td>0.060718</td>\n",
       "      <td>0.468723</td>\n",
       "      <td>1639.548536</td>\n",
       "      <td>0.095479</td>\n",
       "      <td>1498.639434</td>\n",
       "      <td>0.417762</td>\n",
       "      <td>0.934142</td>\n",
       "      <td>0.319758</td>\n",
       "      <td>1.040458</td>\n",
       "      <td>0.444376</td>\n",
       "      <td>0.360671</td>\n",
       "      <td>30896.822688</td>\n",
       "      <td>0.095479</td>\n",
       "      <td>0.948107</td>\n",
       "      <td>0.294050</td>\n",
       "      <td>0.060718</td>\n",
       "      <td>0.155679</td>\n",
       "      <td>0.730574</td>\n",
       "      <td>29562.676815</td>\n",
       "      <td>19034.503157</td>\n",
       "      <td>11.698111</td>\n",
       "      <td>12.547486</td>\n",
       "      <td>9.267099</td>\n",
       "      <td>723.136293</td>\n",
       "      <td>15054.920049</td>\n",
       "      <td>10.61091</td>\n",
       "      <td>3226.911467</td>\n",
       "      <td>0.563677</td>\n",
       "      <td>0.489943</td>\n",
       "      <td>0.477896</td>\n",
       "      <td>0.254822</td>\n",
       "      <td>0.480228</td>\n",
       "      <td>19.040321</td>\n",
       "      <td>0.355514</td>\n",
       "      <td>4.117779</td>\n",
       "      <td>1.112505</td>\n",
       "      <td>0.276951</td>\n",
       "      <td>0.431757</td>\n",
       "      <td>0.112764</td>\n",
       "      <td>0.484224</td>\n",
       "      <td>0.196223</td>\n",
       "      <td>0.455566</td>\n",
       "      <td>0.182519</td>\n",
       "      <td>0.260478</td>\n",
       "      <td>108.121473</td>\n",
       "      <td>712.892706</td>\n",
       "      <td>5.777691</td>\n",
       "      <td>14.662134</td>\n",
       "      <td>0.145709</td>\n",
       "      <td>0.127395</td>\n",
       "      <td>0.068399</td>\n",
       "      <td>0.022356</td>\n",
       "      <td>0</td>\n",
       "      <td>0.128528</td>\n",
       "      <td>0.191688</td>\n",
       "      <td>0.492573</td>\n",
       "      <td>0.496765</td>\n",
       "      <td>0.273462</td>\n",
       "      <td>0.058213</td>\n",
       "      <td>0.056481</td>\n",
       "      <td>0</td>\n",
       "      <td>0</td>\n",
       "      <td>0.480286</td>\n",
       "      <td>0.127395</td>\n",
       "      <td>0.427833</td>\n",
       "      <td>0.303974</td>\n",
       "      <td>0.291007</td>\n",
       "      <td>0.129277</td>\n",
       "      <td>0.252444</td>\n",
       "      <td>0.4542</td>\n",
       "      <td>0.365414</td>\n",
       "      <td>0.279638</td>\n",
       "      <td>0.129651</td>\n",
       "      <td>0.148953</td>\n",
       "      <td>0.068399</td>\n",
       "      <td>0.044679</td>\n",
       "      <td>0.162674</td>\n",
       "      <td>0.48911</td>\n",
       "      <td>0.38969</td>\n",
       "      <td>0.202642</td>\n",
       "      <td>0.186299</td>\n",
       "      <td>0.193843</td>\n",
       "      <td>0.167534</td>\n",
       "      <td>0.175209</td>\n",
       "      <td>0.347833</td>\n",
       "      <td>0.344181</td>\n",
       "      <td>0.046855</td>\n",
       "      <td>0.036034</td>\n",
       "      <td>0</td>\n",
       "      <td>18.437115</td>\n",
       "      <td>27.904639</td>\n",
       "      <td>22.745539</td>\n",
       "      <td>11.157633</td>\n",
       "      <td>20.059970</td>\n",
       "      <td>0.313776</td>\n",
       "      <td>0.313776</td>\n",
       "      <td>0.014141</td>\n",
       "    </tr>\n",
       "    <tr>\n",
       "      <th>min</th>\n",
       "      <td>0.000000</td>\n",
       "      <td>0.000000</td>\n",
       "      <td>0.000000</td>\n",
       "      <td>0.000000</td>\n",
       "      <td>0.000000</td>\n",
       "      <td>0.000000</td>\n",
       "      <td>0.000000</td>\n",
       "      <td>0.000000</td>\n",
       "      <td>0.000000</td>\n",
       "      <td>0.000000</td>\n",
       "      <td>0.000000</td>\n",
       "      <td>0.000000</td>\n",
       "      <td>17621.760000</td>\n",
       "      <td>0.000000</td>\n",
       "      <td>0.000000</td>\n",
       "      <td>0.000000</td>\n",
       "      <td>0.000000</td>\n",
       "      <td>0.000000</td>\n",
       "      <td>0.000000</td>\n",
       "      <td>33155.700000</td>\n",
       "      <td>17800.000000</td>\n",
       "      <td>0.000000</td>\n",
       "      <td>17.325476</td>\n",
       "      <td>16.008542</td>\n",
       "      <td>0.000000</td>\n",
       "      <td>1.000000</td>\n",
       "      <td>0.00000</td>\n",
       "      <td>0.000000</td>\n",
       "      <td>0.000000</td>\n",
       "      <td>0.000000</td>\n",
       "      <td>0.000000</td>\n",
       "      <td>0.000000</td>\n",
       "      <td>0.000000</td>\n",
       "      <td>0.000000</td>\n",
       "      <td>0.000000</td>\n",
       "      <td>1.000000</td>\n",
       "      <td>4.400000</td>\n",
       "      <td>0.000000</td>\n",
       "      <td>0.000000</td>\n",
       "      <td>0.000000</td>\n",
       "      <td>0.000000</td>\n",
       "      <td>0.000000</td>\n",
       "      <td>-1.000000</td>\n",
       "      <td>0.000000</td>\n",
       "      <td>0.000000</td>\n",
       "      <td>0.000000</td>\n",
       "      <td>1.000000</td>\n",
       "      <td>0.000000</td>\n",
       "      <td>0.000000</td>\n",
       "      <td>0.000000</td>\n",
       "      <td>0.000000</td>\n",
       "      <td>0.000000</td>\n",
       "      <td>0.000000</td>\n",
       "      <td>0</td>\n",
       "      <td>0.000000</td>\n",
       "      <td>0.000000</td>\n",
       "      <td>0.000000</td>\n",
       "      <td>0.000000</td>\n",
       "      <td>0.000000</td>\n",
       "      <td>0.000000</td>\n",
       "      <td>0.000000</td>\n",
       "      <td>0</td>\n",
       "      <td>0</td>\n",
       "      <td>0.000000</td>\n",
       "      <td>0.000000</td>\n",
       "      <td>0.000000</td>\n",
       "      <td>0.000000</td>\n",
       "      <td>0.000000</td>\n",
       "      <td>0.000000</td>\n",
       "      <td>0.000000</td>\n",
       "      <td>0.0000</td>\n",
       "      <td>0.000000</td>\n",
       "      <td>0.000000</td>\n",
       "      <td>0.000000</td>\n",
       "      <td>0.000000</td>\n",
       "      <td>0.000000</td>\n",
       "      <td>0.000000</td>\n",
       "      <td>0.000000</td>\n",
       "      <td>0.00000</td>\n",
       "      <td>0.00000</td>\n",
       "      <td>0.000000</td>\n",
       "      <td>0.000000</td>\n",
       "      <td>0.000000</td>\n",
       "      <td>0.000000</td>\n",
       "      <td>0.000000</td>\n",
       "      <td>0.000000</td>\n",
       "      <td>0.000000</td>\n",
       "      <td>0.000000</td>\n",
       "      <td>0.000000</td>\n",
       "      <td>0</td>\n",
       "      <td>1.250000</td>\n",
       "      <td>1.250000</td>\n",
       "      <td>0.500000</td>\n",
       "      <td>2.166667</td>\n",
       "      <td>0.833333</td>\n",
       "      <td>0.000000</td>\n",
       "      <td>0.000000</td>\n",
       "      <td>0.000000</td>\n",
       "    </tr>\n",
       "    <tr>\n",
       "      <th>25%</th>\n",
       "      <td>0.000000</td>\n",
       "      <td>0.000000</td>\n",
       "      <td>0.000000</td>\n",
       "      <td>584.580000</td>\n",
       "      <td>0.000000</td>\n",
       "      <td>620.320000</td>\n",
       "      <td>0.000000</td>\n",
       "      <td>2.000000</td>\n",
       "      <td>0.000000</td>\n",
       "      <td>0.000000</td>\n",
       "      <td>0.000000</td>\n",
       "      <td>0.000000</td>\n",
       "      <td>31188.255000</td>\n",
       "      <td>0.000000</td>\n",
       "      <td>1.000000</td>\n",
       "      <td>0.000000</td>\n",
       "      <td>0.000000</td>\n",
       "      <td>0.000000</td>\n",
       "      <td>0.000000</td>\n",
       "      <td>44058.750000</td>\n",
       "      <td>26280.080000</td>\n",
       "      <td>2.384717</td>\n",
       "      <td>31.616666</td>\n",
       "      <td>22.792391</td>\n",
       "      <td>9.000000</td>\n",
       "      <td>2771.000000</td>\n",
       "      <td>8.00000</td>\n",
       "      <td>458.000000</td>\n",
       "      <td>0.000000</td>\n",
       "      <td>0.000000</td>\n",
       "      <td>0.000000</td>\n",
       "      <td>0.000000</td>\n",
       "      <td>0.000000</td>\n",
       "      <td>0.000000</td>\n",
       "      <td>0.000000</td>\n",
       "      <td>38.750000</td>\n",
       "      <td>5.700000</td>\n",
       "      <td>0.000000</td>\n",
       "      <td>0.000000</td>\n",
       "      <td>1.000000</td>\n",
       "      <td>0.000000</td>\n",
       "      <td>1.000000</td>\n",
       "      <td>0.000000</td>\n",
       "      <td>0.000000</td>\n",
       "      <td>0.000000</td>\n",
       "      <td>16.000000</td>\n",
       "      <td>55.000000</td>\n",
       "      <td>13.000000</td>\n",
       "      <td>10.000000</td>\n",
       "      <td>1.000000</td>\n",
       "      <td>0.000000</td>\n",
       "      <td>0.000000</td>\n",
       "      <td>0.000000</td>\n",
       "      <td>0</td>\n",
       "      <td>0.000000</td>\n",
       "      <td>0.000000</td>\n",
       "      <td>0.000000</td>\n",
       "      <td>0.000000</td>\n",
       "      <td>0.000000</td>\n",
       "      <td>0.000000</td>\n",
       "      <td>0.000000</td>\n",
       "      <td>0</td>\n",
       "      <td>0</td>\n",
       "      <td>0.000000</td>\n",
       "      <td>0.000000</td>\n",
       "      <td>0.000000</td>\n",
       "      <td>0.000000</td>\n",
       "      <td>1.000000</td>\n",
       "      <td>0.000000</td>\n",
       "      <td>0.000000</td>\n",
       "      <td>0.0000</td>\n",
       "      <td>0.000000</td>\n",
       "      <td>0.000000</td>\n",
       "      <td>0.000000</td>\n",
       "      <td>0.000000</td>\n",
       "      <td>0.000000</td>\n",
       "      <td>0.000000</td>\n",
       "      <td>0.000000</td>\n",
       "      <td>0.00000</td>\n",
       "      <td>0.00000</td>\n",
       "      <td>0.000000</td>\n",
       "      <td>0.000000</td>\n",
       "      <td>0.000000</td>\n",
       "      <td>0.000000</td>\n",
       "      <td>0.000000</td>\n",
       "      <td>1.000000</td>\n",
       "      <td>0.000000</td>\n",
       "      <td>0.000000</td>\n",
       "      <td>0.000000</td>\n",
       "      <td>0</td>\n",
       "      <td>16.333333</td>\n",
       "      <td>10.833333</td>\n",
       "      <td>15.666667</td>\n",
       "      <td>28.000000</td>\n",
       "      <td>14.916667</td>\n",
       "      <td>0.000000</td>\n",
       "      <td>0.000000</td>\n",
       "      <td>0.000000</td>\n",
       "    </tr>\n",
       "    <tr>\n",
       "      <th>50%</th>\n",
       "      <td>0.000000</td>\n",
       "      <td>0.000000</td>\n",
       "      <td>0.000000</td>\n",
       "      <td>1721.990000</td>\n",
       "      <td>0.000000</td>\n",
       "      <td>1466.400000</td>\n",
       "      <td>0.000000</td>\n",
       "      <td>2.000000</td>\n",
       "      <td>0.000000</td>\n",
       "      <td>0.000000</td>\n",
       "      <td>0.000000</td>\n",
       "      <td>0.000000</td>\n",
       "      <td>46658.760000</td>\n",
       "      <td>0.000000</td>\n",
       "      <td>2.000000</td>\n",
       "      <td>0.000000</td>\n",
       "      <td>0.000000</td>\n",
       "      <td>0.000000</td>\n",
       "      <td>0.000000</td>\n",
       "      <td>60100.000000</td>\n",
       "      <td>35830.250000</td>\n",
       "      <td>9.993361</td>\n",
       "      <td>42.229478</td>\n",
       "      <td>26.472823</td>\n",
       "      <td>12.000000</td>\n",
       "      <td>7769.000000</td>\n",
       "      <td>11.00000</td>\n",
       "      <td>1163.000000</td>\n",
       "      <td>0.000000</td>\n",
       "      <td>1.000000</td>\n",
       "      <td>0.000000</td>\n",
       "      <td>0.000000</td>\n",
       "      <td>0.000000</td>\n",
       "      <td>1.000000</td>\n",
       "      <td>0.000000</td>\n",
       "      <td>38.750000</td>\n",
       "      <td>5.700000</td>\n",
       "      <td>0.000000</td>\n",
       "      <td>0.000000</td>\n",
       "      <td>1.000000</td>\n",
       "      <td>0.000000</td>\n",
       "      <td>1.000000</td>\n",
       "      <td>0.000000</td>\n",
       "      <td>0.000000</td>\n",
       "      <td>0.000000</td>\n",
       "      <td>83.500000</td>\n",
       "      <td>431.000000</td>\n",
       "      <td>16.000000</td>\n",
       "      <td>15.000000</td>\n",
       "      <td>1.000000</td>\n",
       "      <td>0.000000</td>\n",
       "      <td>0.000000</td>\n",
       "      <td>0.000000</td>\n",
       "      <td>0</td>\n",
       "      <td>0.000000</td>\n",
       "      <td>0.000000</td>\n",
       "      <td>0.000000</td>\n",
       "      <td>0.000000</td>\n",
       "      <td>0.000000</td>\n",
       "      <td>0.000000</td>\n",
       "      <td>0.000000</td>\n",
       "      <td>0</td>\n",
       "      <td>0</td>\n",
       "      <td>1.000000</td>\n",
       "      <td>0.000000</td>\n",
       "      <td>0.000000</td>\n",
       "      <td>0.000000</td>\n",
       "      <td>1.000000</td>\n",
       "      <td>0.000000</td>\n",
       "      <td>0.000000</td>\n",
       "      <td>1.0000</td>\n",
       "      <td>0.000000</td>\n",
       "      <td>0.000000</td>\n",
       "      <td>0.000000</td>\n",
       "      <td>0.000000</td>\n",
       "      <td>0.000000</td>\n",
       "      <td>0.000000</td>\n",
       "      <td>0.000000</td>\n",
       "      <td>1.00000</td>\n",
       "      <td>0.00000</td>\n",
       "      <td>0.000000</td>\n",
       "      <td>0.000000</td>\n",
       "      <td>0.000000</td>\n",
       "      <td>0.000000</td>\n",
       "      <td>0.000000</td>\n",
       "      <td>1.000000</td>\n",
       "      <td>0.000000</td>\n",
       "      <td>0.000000</td>\n",
       "      <td>0.000000</td>\n",
       "      <td>0</td>\n",
       "      <td>33.833333</td>\n",
       "      <td>65.000000</td>\n",
       "      <td>15.666667</td>\n",
       "      <td>28.000000</td>\n",
       "      <td>45.166667</td>\n",
       "      <td>0.000000</td>\n",
       "      <td>0.000000</td>\n",
       "      <td>0.000000</td>\n",
       "    </tr>\n",
       "    <tr>\n",
       "      <th>75%</th>\n",
       "      <td>0.000000</td>\n",
       "      <td>0.000000</td>\n",
       "      <td>0.000000</td>\n",
       "      <td>2548.155000</td>\n",
       "      <td>0.000000</td>\n",
       "      <td>1976.950000</td>\n",
       "      <td>0.000000</td>\n",
       "      <td>2.000000</td>\n",
       "      <td>0.000000</td>\n",
       "      <td>1.000000</td>\n",
       "      <td>0.000000</td>\n",
       "      <td>0.000000</td>\n",
       "      <td>72775.555000</td>\n",
       "      <td>0.000000</td>\n",
       "      <td>2.000000</td>\n",
       "      <td>0.000000</td>\n",
       "      <td>0.000000</td>\n",
       "      <td>0.000000</td>\n",
       "      <td>1.000000</td>\n",
       "      <td>86674.500000</td>\n",
       "      <td>49407.680000</td>\n",
       "      <td>21.384423</td>\n",
       "      <td>53.153727</td>\n",
       "      <td>33.760447</td>\n",
       "      <td>17.000000</td>\n",
       "      <td>34937.000000</td>\n",
       "      <td>14.00000</td>\n",
       "      <td>2747.000000</td>\n",
       "      <td>0.000000</td>\n",
       "      <td>1.000000</td>\n",
       "      <td>1.000000</td>\n",
       "      <td>0.000000</td>\n",
       "      <td>1.000000</td>\n",
       "      <td>4.000000</td>\n",
       "      <td>0.000000</td>\n",
       "      <td>38.750000</td>\n",
       "      <td>5.800000</td>\n",
       "      <td>0.000000</td>\n",
       "      <td>0.000000</td>\n",
       "      <td>1.000000</td>\n",
       "      <td>1.000000</td>\n",
       "      <td>1.000000</td>\n",
       "      <td>0.000000</td>\n",
       "      <td>0.000000</td>\n",
       "      <td>0.000000</td>\n",
       "      <td>230.000000</td>\n",
       "      <td>1238.000000</td>\n",
       "      <td>16.000000</td>\n",
       "      <td>38.000000</td>\n",
       "      <td>1.000000</td>\n",
       "      <td>0.000000</td>\n",
       "      <td>0.000000</td>\n",
       "      <td>0.000000</td>\n",
       "      <td>0</td>\n",
       "      <td>0.000000</td>\n",
       "      <td>0.000000</td>\n",
       "      <td>1.000000</td>\n",
       "      <td>1.000000</td>\n",
       "      <td>0.000000</td>\n",
       "      <td>0.000000</td>\n",
       "      <td>0.000000</td>\n",
       "      <td>0</td>\n",
       "      <td>0</td>\n",
       "      <td>1.000000</td>\n",
       "      <td>0.000000</td>\n",
       "      <td>0.000000</td>\n",
       "      <td>0.000000</td>\n",
       "      <td>1.000000</td>\n",
       "      <td>0.000000</td>\n",
       "      <td>0.000000</td>\n",
       "      <td>1.0000</td>\n",
       "      <td>0.000000</td>\n",
       "      <td>0.000000</td>\n",
       "      <td>0.000000</td>\n",
       "      <td>0.000000</td>\n",
       "      <td>0.000000</td>\n",
       "      <td>0.000000</td>\n",
       "      <td>0.000000</td>\n",
       "      <td>1.00000</td>\n",
       "      <td>0.00000</td>\n",
       "      <td>0.000000</td>\n",
       "      <td>0.000000</td>\n",
       "      <td>0.000000</td>\n",
       "      <td>0.000000</td>\n",
       "      <td>0.000000</td>\n",
       "      <td>1.000000</td>\n",
       "      <td>0.000000</td>\n",
       "      <td>0.000000</td>\n",
       "      <td>0.000000</td>\n",
       "      <td>0</td>\n",
       "      <td>34.916667</td>\n",
       "      <td>65.000000</td>\n",
       "      <td>65.000000</td>\n",
       "      <td>28.000000</td>\n",
       "      <td>45.166667</td>\n",
       "      <td>0.000000</td>\n",
       "      <td>0.000000</td>\n",
       "      <td>0.000000</td>\n",
       "    </tr>\n",
       "    <tr>\n",
       "      <th>max</th>\n",
       "      <td>5.000000</td>\n",
       "      <td>1.000000</td>\n",
       "      <td>3.000000</td>\n",
       "      <td>30652.390000</td>\n",
       "      <td>1.000000</td>\n",
       "      <td>22697.580000</td>\n",
       "      <td>5.000000</td>\n",
       "      <td>3.000000</td>\n",
       "      <td>3.000000</td>\n",
       "      <td>7.000000</td>\n",
       "      <td>3.000000</td>\n",
       "      <td>3.000000</td>\n",
       "      <td>241534.930000</td>\n",
       "      <td>1.000000</td>\n",
       "      <td>3.000000</td>\n",
       "      <td>3.000000</td>\n",
       "      <td>1.000000</td>\n",
       "      <td>2.000000</td>\n",
       "      <td>5.000000</td>\n",
       "      <td>133068.910000</td>\n",
       "      <td>148023.000000</td>\n",
       "      <td>65.126594</td>\n",
       "      <td>95.021801</td>\n",
       "      <td>79.202174</td>\n",
       "      <td>71331.000000</td>\n",
       "      <td>37142.000000</td>\n",
       "      <td>277.00000</td>\n",
       "      <td>17735.000000</td>\n",
       "      <td>15.000000</td>\n",
       "      <td>1.000000</td>\n",
       "      <td>1.000000</td>\n",
       "      <td>1.000000</td>\n",
       "      <td>1.000000</td>\n",
       "      <td>54.000000</td>\n",
       "      <td>1.000000</td>\n",
       "      <td>40.000000</td>\n",
       "      <td>10.000000</td>\n",
       "      <td>1.000000</td>\n",
       "      <td>1.000000</td>\n",
       "      <td>1.030000</td>\n",
       "      <td>1.000000</td>\n",
       "      <td>3.000000</td>\n",
       "      <td>1.000000</td>\n",
       "      <td>1.000000</td>\n",
       "      <td>1.000000</td>\n",
       "      <td>329.000000</td>\n",
       "      <td>2446.000000</td>\n",
       "      <td>29.000000</td>\n",
       "      <td>49.000000</td>\n",
       "      <td>1.000000</td>\n",
       "      <td>1.000000</td>\n",
       "      <td>1.000000</td>\n",
       "      <td>1.000000</td>\n",
       "      <td>0</td>\n",
       "      <td>1.000000</td>\n",
       "      <td>1.000000</td>\n",
       "      <td>1.000000</td>\n",
       "      <td>1.000000</td>\n",
       "      <td>1.000000</td>\n",
       "      <td>1.000000</td>\n",
       "      <td>1.000000</td>\n",
       "      <td>0</td>\n",
       "      <td>0</td>\n",
       "      <td>1.000000</td>\n",
       "      <td>1.000000</td>\n",
       "      <td>1.000000</td>\n",
       "      <td>1.000000</td>\n",
       "      <td>1.000000</td>\n",
       "      <td>1.000000</td>\n",
       "      <td>1.000000</td>\n",
       "      <td>1.0000</td>\n",
       "      <td>1.000000</td>\n",
       "      <td>1.000000</td>\n",
       "      <td>1.000000</td>\n",
       "      <td>1.000000</td>\n",
       "      <td>1.000000</td>\n",
       "      <td>1.000000</td>\n",
       "      <td>1.000000</td>\n",
       "      <td>1.00000</td>\n",
       "      <td>1.00000</td>\n",
       "      <td>1.000000</td>\n",
       "      <td>1.000000</td>\n",
       "      <td>1.000000</td>\n",
       "      <td>1.000000</td>\n",
       "      <td>1.000000</td>\n",
       "      <td>1.000000</td>\n",
       "      <td>1.000000</td>\n",
       "      <td>1.000000</td>\n",
       "      <td>1.000000</td>\n",
       "      <td>0</td>\n",
       "      <td>65.000000</td>\n",
       "      <td>65.000000</td>\n",
       "      <td>65.000000</td>\n",
       "      <td>65.000000</td>\n",
       "      <td>65.000000</td>\n",
       "      <td>1.000000</td>\n",
       "      <td>1.000000</td>\n",
       "      <td>1.000000</td>\n",
       "    </tr>\n",
       "  </tbody>\n",
       "</table>"
      ],
      "text/plain": [
       "<IPython.core.display.HTML object>"
      ]
     },
     "metadata": {},
     "output_type": "display_data"
    },
    {
     "name": "stdout",
     "output_type": "stream",
     "text": [
      "\n"
     ]
    },
    {
     "data": {
      "text/html": [
       "<h3>Description of categorical columns</h3>"
      ],
      "text/plain": [
       "<IPython.core.display.HTML object>"
      ]
     },
     "metadata": {},
     "output_type": "display_data"
    },
    {
     "data": {
      "text/html": [
       "<h2>Response (y)</h2>"
      ],
      "text/plain": [
       "<IPython.core.display.HTML object>"
      ]
     },
     "metadata": {},
     "output_type": "display_data"
    },
    {
     "data": {
      "text/html": [
       "<h3>Value counts of y</h3>"
      ],
      "text/plain": [
       "<IPython.core.display.HTML object>"
      ]
     },
     "metadata": {},
     "output_type": "display_data"
    },
    {
     "data": {
      "text/html": [
       "<table border=\"1\" class=\"dataframe\">\n",
       "  <thead>\n",
       "    <tr style=\"text-align: right;\">\n",
       "      <th></th>\n",
       "      <th>Counts</th>\n",
       "    </tr>\n",
       "  </thead>\n",
       "  <tbody>\n",
       "    <tr>\n",
       "      <th>0</th>\n",
       "      <td>6207</td>\n",
       "    </tr>\n",
       "    <tr>\n",
       "      <th>1</th>\n",
       "      <td>3793</td>\n",
       "    </tr>\n",
       "  </tbody>\n",
       "</table>"
      ],
      "text/plain": [
       "<IPython.core.display.HTML object>"
      ]
     },
     "metadata": {},
     "output_type": "display_data"
    },
    {
     "data": {
      "text/html": [
       "<h3>Correlation coefficients with numeric columns</h3>"
      ],
      "text/plain": [
       "<IPython.core.display.HTML object>"
      ]
     },
     "metadata": {},
     "output_type": "display_data"
    },
    {
     "data": {
      "text/html": [
       "<table border=\"1\" class=\"dataframe\">\n",
       "  <thead>\n",
       "    <tr style=\"text-align: right;\">\n",
       "      <th></th>\n",
       "      <th>corr</th>\n",
       "      <th>p-value</th>\n",
       "    </tr>\n",
       "  </thead>\n",
       "  <tbody>\n",
       "    <tr>\n",
       "      <th>HAVE_INS</th>\n",
       "      <td>-0.604683</td>\n",
       "      <td>0.000000e+00</td>\n",
       "    </tr>\n",
       "    <tr>\n",
       "      <th>Age_years</th>\n",
       "      <td>-0.441067</td>\n",
       "      <td>0.000000e+00</td>\n",
       "    </tr>\n",
       "    <tr>\n",
       "      <th>Tenure_years</th>\n",
       "      <td>-0.440692</td>\n",
       "      <td>0.000000e+00</td>\n",
       "    </tr>\n",
       "    <tr>\n",
       "      <th>HAVE_DEP</th>\n",
       "      <td>-0.425907</td>\n",
       "      <td>0.000000e+00</td>\n",
       "    </tr>\n",
       "    <tr>\n",
       "      <th>surv_grade_le</th>\n",
       "      <td>-0.424680</td>\n",
       "      <td>0.000000e+00</td>\n",
       "    </tr>\n",
       "    <tr>\n",
       "      <th>PERF1</th>\n",
       "      <td>-0.422494</td>\n",
       "      <td>0.000000e+00</td>\n",
       "    </tr>\n",
       "    <tr>\n",
       "      <th>MIN_RT_ANNUAL</th>\n",
       "      <td>-0.393025</td>\n",
       "      <td>0.000000e+00</td>\n",
       "    </tr>\n",
       "    <tr>\n",
       "      <th>SAL1</th>\n",
       "      <td>-0.388146</td>\n",
       "      <td>0.000000e+00</td>\n",
       "    </tr>\n",
       "    <tr>\n",
       "      <th>BOX1</th>\n",
       "      <td>-0.387094</td>\n",
       "      <td>0.000000e+00</td>\n",
       "    </tr>\n",
       "    <tr>\n",
       "      <th>RATE1</th>\n",
       "      <td>-0.370403</td>\n",
       "      <td>8.893182e-323</td>\n",
       "    </tr>\n",
       "    <tr>\n",
       "      <th>MAX_RT_ANNUAL</th>\n",
       "      <td>-0.358750</td>\n",
       "      <td>1.742159e-301</td>\n",
       "    </tr>\n",
       "    <tr>\n",
       "      <th>surv_func_id_sfi_le</th>\n",
       "      <td>-0.355935</td>\n",
       "      <td>1.786181e-296</td>\n",
       "    </tr>\n",
       "    <tr>\n",
       "      <th>surv_job_family_le</th>\n",
       "      <td>-0.339488</td>\n",
       "      <td>3.326363e-268</td>\n",
       "    </tr>\n",
       "    <tr>\n",
       "      <th>surv_job_function_le</th>\n",
       "      <td>-0.337307</td>\n",
       "      <td>1.391754e-264</td>\n",
       "    </tr>\n",
       "    <tr>\n",
       "      <th>EXT_FUNC_ID_SFI_le</th>\n",
       "      <td>-0.291676</td>\n",
       "      <td>2.528249e-195</td>\n",
       "    </tr>\n",
       "    <tr>\n",
       "      <th>EFUNCCNT1</th>\n",
       "      <td>-0.279225</td>\n",
       "      <td>1.673731e-178</td>\n",
       "    </tr>\n",
       "    <tr>\n",
       "      <th>DEPTCNT1</th>\n",
       "      <td>-0.269698</td>\n",
       "      <td>3.291519e-166</td>\n",
       "    </tr>\n",
       "    <tr>\n",
       "      <th>MERIT1</th>\n",
       "      <td>-0.268260</td>\n",
       "      <td>2.141137e-164</td>\n",
       "    </tr>\n",
       "    <tr>\n",
       "      <th>FULL_PART_TIME_F</th>\n",
       "      <td>-0.262572</td>\n",
       "      <td>2.465567e-157</td>\n",
       "    </tr>\n",
       "    <tr>\n",
       "      <th>JOBCNT1</th>\n",
       "      <td>-0.243666</td>\n",
       "      <td>4.250103e-135</td>\n",
       "    </tr>\n",
       "    <tr>\n",
       "      <th>FLSA_STATUS</th>\n",
       "      <td>-0.217633</td>\n",
       "      <td>1.657507e-107</td>\n",
       "    </tr>\n",
       "    <tr>\n",
       "      <th>SUPVCNT1</th>\n",
       "      <td>-0.215726</td>\n",
       "      <td>1.274030e-105</td>\n",
       "    </tr>\n",
       "    <tr>\n",
       "      <th>EMPL_TYPE_H</th>\n",
       "      <td>0.214477</td>\n",
       "      <td>2.143215e-104</td>\n",
       "    </tr>\n",
       "    <tr>\n",
       "      <th>hourly_comp</th>\n",
       "      <td>0.206006</td>\n",
       "      <td>2.747964e-96</td>\n",
       "    </tr>\n",
       "    <tr>\n",
       "      <th>unempl_rate</th>\n",
       "      <td>0.190872</td>\n",
       "      <td>1.115662e-82</td>\n",
       "    </tr>\n",
       "    <tr>\n",
       "      <th>HUBIND</th>\n",
       "      <td>-0.190186</td>\n",
       "      <td>4.347862e-82</td>\n",
       "    </tr>\n",
       "    <tr>\n",
       "      <th>EXTFUNC_CNT</th>\n",
       "      <td>0.185250</td>\n",
       "      <td>6.607913e-78</td>\n",
       "    </tr>\n",
       "    <tr>\n",
       "      <th>STD_HOURS</th>\n",
       "      <td>-0.184858</td>\n",
       "      <td>1.402073e-77</td>\n",
       "    </tr>\n",
       "    <tr>\n",
       "      <th>EMPL_TYPE_S</th>\n",
       "      <td>-0.182519</td>\n",
       "      <td>1.211496e-75</td>\n",
       "    </tr>\n",
       "    <tr>\n",
       "      <th>FTE</th>\n",
       "      <td>-0.181724</td>\n",
       "      <td>5.436142e-75</td>\n",
       "    </tr>\n",
       "    <tr>\n",
       "      <th>FULL_PART_TIME_P</th>\n",
       "      <td>0.181706</td>\n",
       "      <td>5.621028e-75</td>\n",
       "    </tr>\n",
       "    <tr>\n",
       "      <th>EEO1CODE_2</th>\n",
       "      <td>-0.180886</td>\n",
       "      <td>2.624274e-74</td>\n",
       "    </tr>\n",
       "    <tr>\n",
       "      <th>MERIT1_d</th>\n",
       "      <td>0.178740</td>\n",
       "      <td>1.431862e-72</td>\n",
       "    </tr>\n",
       "    <tr>\n",
       "      <th>PERF1_d</th>\n",
       "      <td>0.178740</td>\n",
       "      <td>1.431862e-72</td>\n",
       "    </tr>\n",
       "    <tr>\n",
       "      <th>REMOTE</th>\n",
       "      <td>-0.173006</td>\n",
       "      <td>4.884442e-68</td>\n",
       "    </tr>\n",
       "    <tr>\n",
       "      <th>EEO1CODE_5</th>\n",
       "      <td>0.170398</td>\n",
       "      <td>4.998244e-66</td>\n",
       "    </tr>\n",
       "    <tr>\n",
       "      <th>EMPL_CLASS_D</th>\n",
       "      <td>0.165693</td>\n",
       "      <td>1.752227e-62</td>\n",
       "    </tr>\n",
       "    <tr>\n",
       "      <th>surv_flor_sfi_le</th>\n",
       "      <td>-0.165318</td>\n",
       "      <td>3.325336e-62</td>\n",
       "    </tr>\n",
       "    <tr>\n",
       "      <th>EMPL_CLASS_1</th>\n",
       "      <td>-0.163646</td>\n",
       "      <td>5.669726e-61</td>\n",
       "    </tr>\n",
       "    <tr>\n",
       "      <th>FULL_PART_TIME_X</th>\n",
       "      <td>0.163445</td>\n",
       "      <td>7.957831e-61</td>\n",
       "    </tr>\n",
       "    <tr>\n",
       "      <th>EMPL_TYPE_N</th>\n",
       "      <td>0.162457</td>\n",
       "      <td>4.179028e-60</td>\n",
       "    </tr>\n",
       "    <tr>\n",
       "      <th>FUNCCNT1</th>\n",
       "      <td>-0.162446</td>\n",
       "      <td>4.255777e-60</td>\n",
       "    </tr>\n",
       "    <tr>\n",
       "      <th>LOCCNT1</th>\n",
       "      <td>-0.156540</td>\n",
       "      <td>6.957080e-56</td>\n",
       "    </tr>\n",
       "    <tr>\n",
       "      <th>EEO1CODE_4</th>\n",
       "      <td>0.145269</td>\n",
       "      <td>2.703419e-48</td>\n",
       "    </tr>\n",
       "    <tr>\n",
       "      <th>LOC_TYPE_DESCR_SFI_le</th>\n",
       "      <td>-0.138961</td>\n",
       "      <td>2.653634e-44</td>\n",
       "    </tr>\n",
       "    <tr>\n",
       "      <th>EEO1CODE_1</th>\n",
       "      <td>-0.137737</td>\n",
       "      <td>1.504107e-43</td>\n",
       "    </tr>\n",
       "    <tr>\n",
       "      <th>FUNC_CNT</th>\n",
       "      <td>-0.129421</td>\n",
       "      <td>1.303450e-38</td>\n",
       "    </tr>\n",
       "    <tr>\n",
       "      <th>DIRECT_RPT_CNT</th>\n",
       "      <td>0.113128</td>\n",
       "      <td>7.605733e-30</td>\n",
       "    </tr>\n",
       "    <tr>\n",
       "      <th>FLOORCNT1</th>\n",
       "      <td>-0.110081</td>\n",
       "      <td>2.443120e-28</td>\n",
       "    </tr>\n",
       "    <tr>\n",
       "      <th>DIVISION_CODE_SFI_9.0</th>\n",
       "      <td>-0.104754</td>\n",
       "      <td>8.366910e-26</td>\n",
       "    </tr>\n",
       "    <tr>\n",
       "      <th>ADDRCNT1</th>\n",
       "      <td>-0.100705</td>\n",
       "      <td>5.820955e-24</td>\n",
       "    </tr>\n",
       "    <tr>\n",
       "      <th>GRADECNT1</th>\n",
       "      <td>-0.100114</td>\n",
       "      <td>1.065318e-23</td>\n",
       "    </tr>\n",
       "    <tr>\n",
       "      <th>INTERN</th>\n",
       "      <td>0.099686</td>\n",
       "      <td>1.648106e-23</td>\n",
       "    </tr>\n",
       "    <tr>\n",
       "      <th>SUPV_DIFF_LOC</th>\n",
       "      <td>-0.095428</td>\n",
       "      <td>1.139308e-21</td>\n",
       "    </tr>\n",
       "    <tr>\n",
       "      <th>LOCSTCNT1</th>\n",
       "      <td>-0.090388</td>\n",
       "      <td>1.350635e-19</td>\n",
       "    </tr>\n",
       "    <tr>\n",
       "      <th>REMOTE_SUPV</th>\n",
       "      <td>-0.085662</td>\n",
       "      <td>9.416130e-18</td>\n",
       "    </tr>\n",
       "    <tr>\n",
       "      <th>EEO1CODE_3</th>\n",
       "      <td>0.083832</td>\n",
       "      <td>4.584372e-17</td>\n",
       "    </tr>\n",
       "    <tr>\n",
       "      <th>RELO_STATE_CNT_SFI</th>\n",
       "      <td>-0.083760</td>\n",
       "      <td>4.873337e-17</td>\n",
       "    </tr>\n",
       "    <tr>\n",
       "      <th>SHIFT</th>\n",
       "      <td>-0.083341</td>\n",
       "      <td>6.966948e-17</td>\n",
       "    </tr>\n",
       "    <tr>\n",
       "      <th>ETHNIC_GROUP_1.0</th>\n",
       "      <td>-0.076060</td>\n",
       "      <td>2.614174e-14</td>\n",
       "    </tr>\n",
       "    <tr>\n",
       "      <th>RELOCATE_ALL_SFI</th>\n",
       "      <td>-0.070080</td>\n",
       "      <td>2.287818e-12</td>\n",
       "    </tr>\n",
       "    <tr>\n",
       "      <th>ETHNIC_GROUP_3.0</th>\n",
       "      <td>0.060952</td>\n",
       "      <td>1.059725e-09</td>\n",
       "    </tr>\n",
       "    <tr>\n",
       "      <th>DIVISION_CODE_SFI_1.0</th>\n",
       "      <td>0.054964</td>\n",
       "      <td>3.800836e-08</td>\n",
       "    </tr>\n",
       "    <tr>\n",
       "      <th>ETHNIC_GROUP_2.0</th>\n",
       "      <td>0.051920</td>\n",
       "      <td>2.049174e-07</td>\n",
       "    </tr>\n",
       "    <tr>\n",
       "      <th>DIVISION_CODE_SFI_4.0</th>\n",
       "      <td>0.050284</td>\n",
       "      <td>4.880123e-07</td>\n",
       "    </tr>\n",
       "    <tr>\n",
       "      <th>Male</th>\n",
       "      <td>-0.048316</td>\n",
       "      <td>1.339615e-06</td>\n",
       "    </tr>\n",
       "    <tr>\n",
       "      <th>FTPTCNT1</th>\n",
       "      <td>0.047407</td>\n",
       "      <td>2.108316e-06</td>\n",
       "    </tr>\n",
       "    <tr>\n",
       "      <th>FULLPART1</th>\n",
       "      <td>0.047407</td>\n",
       "      <td>2.108316e-06</td>\n",
       "    </tr>\n",
       "    <tr>\n",
       "      <th>EMPL_CLASS_3</th>\n",
       "      <td>0.045720</td>\n",
       "      <td>4.788110e-06</td>\n",
       "    </tr>\n",
       "    <tr>\n",
       "      <th>DIVISION_CODE_SFI_2.0</th>\n",
       "      <td>0.045037</td>\n",
       "      <td>6.623599e-06</td>\n",
       "    </tr>\n",
       "    <tr>\n",
       "      <th>hire_age</th>\n",
       "      <td>-0.040899</td>\n",
       "      <td>4.292579e-05</td>\n",
       "    </tr>\n",
       "    <tr>\n",
       "      <th>EEO1CODE_7</th>\n",
       "      <td>0.039638</td>\n",
       "      <td>7.343047e-05</td>\n",
       "    </tr>\n",
       "    <tr>\n",
       "      <th>DIVISION_CODE_SFI_3.0</th>\n",
       "      <td>0.038607</td>\n",
       "      <td>1.125980e-04</td>\n",
       "    </tr>\n",
       "    <tr>\n",
       "      <th>DIVISION_CODE_SFI_6.0</th>\n",
       "      <td>0.037795</td>\n",
       "      <td>1.566112e-04</td>\n",
       "    </tr>\n",
       "    <tr>\n",
       "      <th>REH_CNT</th>\n",
       "      <td>0.032990</td>\n",
       "      <td>9.686849e-04</td>\n",
       "    </tr>\n",
       "    <tr>\n",
       "      <th>ETHNIC_GROUP_8.0</th>\n",
       "      <td>-0.031572</td>\n",
       "      <td>1.590830e-03</td>\n",
       "    </tr>\n",
       "    <tr>\n",
       "      <th>COMPANY_5</th>\n",
       "      <td>-0.031007</td>\n",
       "      <td>1.928510e-03</td>\n",
       "    </tr>\n",
       "    <tr>\n",
       "      <th>LOC_STATE_le</th>\n",
       "      <td>0.029949</td>\n",
       "      <td>2.742706e-03</td>\n",
       "    </tr>\n",
       "    <tr>\n",
       "      <th>COMPANY_2</th>\n",
       "      <td>0.028994</td>\n",
       "      <td>3.735732e-03</td>\n",
       "    </tr>\n",
       "    <tr>\n",
       "      <th>COMPANY_49</th>\n",
       "      <td>0.024877</td>\n",
       "      <td>1.285455e-02</td>\n",
       "    </tr>\n",
       "    <tr>\n",
       "      <th>DIVISION_CODE_SFI_5.0</th>\n",
       "      <td>0.024423</td>\n",
       "      <td>1.459136e-02</td>\n",
       "    </tr>\n",
       "    <tr>\n",
       "      <th>COMPANY_1</th>\n",
       "      <td>0.024326</td>\n",
       "      <td>1.498663e-02</td>\n",
       "    </tr>\n",
       "    <tr>\n",
       "      <th>ETHNIC_GROUP_4.0</th>\n",
       "      <td>0.023383</td>\n",
       "      <td>1.937054e-02</td>\n",
       "    </tr>\n",
       "    <tr>\n",
       "      <th>JOBCODE_le</th>\n",
       "      <td>0.021675</td>\n",
       "      <td>3.019652e-02</td>\n",
       "    </tr>\n",
       "    <tr>\n",
       "      <th>EEO1CODE_6</th>\n",
       "      <td>0.021611</td>\n",
       "      <td>3.069159e-02</td>\n",
       "    </tr>\n",
       "    <tr>\n",
       "      <th>ADDRCNT1_d</th>\n",
       "      <td>0.018093</td>\n",
       "      <td>7.041828e-02</td>\n",
       "    </tr>\n",
       "    <tr>\n",
       "      <th>TOTAL_RPT_CNT</th>\n",
       "      <td>-0.017827</td>\n",
       "      <td>7.464704e-02</td>\n",
       "    </tr>\n",
       "    <tr>\n",
       "      <th>PARTFULL1</th>\n",
       "      <td>0.017495</td>\n",
       "      <td>8.022783e-02</td>\n",
       "    </tr>\n",
       "    <tr>\n",
       "      <th>PTFTCNT1</th>\n",
       "      <td>0.017495</td>\n",
       "      <td>8.022783e-02</td>\n",
       "    </tr>\n",
       "    <tr>\n",
       "      <th>EMPL_CLASS_4</th>\n",
       "      <td>-0.017484</td>\n",
       "      <td>8.040715e-02</td>\n",
       "    </tr>\n",
       "    <tr>\n",
       "      <th>EMPL_TYPE_E</th>\n",
       "      <td>-0.015923</td>\n",
       "      <td>1.113290e-01</td>\n",
       "    </tr>\n",
       "    <tr>\n",
       "      <th>ETHNIC_GROUP_5.0</th>\n",
       "      <td>-0.008519</td>\n",
       "      <td>3.943263e-01</td>\n",
       "    </tr>\n",
       "    <tr>\n",
       "      <th>DIVISION_CODE_SFI_0.0</th>\n",
       "      <td>0.007852</td>\n",
       "      <td>4.323596e-01</td>\n",
       "    </tr>\n",
       "    <tr>\n",
       "      <th>ETHNIC_GROUP_7.0</th>\n",
       "      <td>-0.007316</td>\n",
       "      <td>4.644452e-01</td>\n",
       "    </tr>\n",
       "    <tr>\n",
       "      <th>EMPL_CLASS_5</th>\n",
       "      <td>NaN</td>\n",
       "      <td>1.000000e+00</td>\n",
       "    </tr>\n",
       "    <tr>\n",
       "      <th>EEO1CODE_8</th>\n",
       "      <td>NaN</td>\n",
       "      <td>1.000000e+00</td>\n",
       "    </tr>\n",
       "    <tr>\n",
       "      <th>EEO1CODE_N</th>\n",
       "      <td>NaN</td>\n",
       "      <td>1.000000e+00</td>\n",
       "    </tr>\n",
       "    <tr>\n",
       "      <th>COMPANY_4</th>\n",
       "      <td>NaN</td>\n",
       "      <td>1.000000e+00</td>\n",
       "    </tr>\n",
       "  </tbody>\n",
       "</table>"
      ],
      "text/plain": [
       "<IPython.core.display.HTML object>"
      ]
     },
     "metadata": {},
     "output_type": "display_data"
    },
    {
     "data": {
      "text/html": [
       "<h3>Benchmark on a small sample (sample size: 5000)</h3>"
      ],
      "text/plain": [
       "<IPython.core.display.HTML object>"
      ]
     },
     "metadata": {},
     "output_type": "display_data"
    },
    {
     "data": {
      "text/html": [
       "<br>Problem type classification</br>"
      ],
      "text/plain": [
       "<IPython.core.display.HTML object>"
      ]
     },
     "metadata": {},
     "output_type": "display_data"
    },
    {
     "data": {
      "text/html": [
       "<br>C-stat of simple random forest: 0.996</br>"
      ],
      "text/plain": [
       "<IPython.core.display.HTML object>"
      ]
     },
     "metadata": {},
     "output_type": "display_data"
    },
    {
     "data": {
      "image/png": "[encoded data removed]",
      "text/plain": [
       "<matplotlib.figure.Figure at 0x7f76283a65d0>"
      ]
     },
     "metadata": {},
     "output_type": "display_data"
    },
    {
     "data": {
      "text/html": [
       "<h2>Testing data</h2>"
      ],
      "text/plain": [
       "<IPython.core.display.HTML object>"
      ]
     },
     "metadata": {},
     "output_type": "display_data"
    },
    {
     "data": {
      "text/html": [
       "<br>Shape of the data: 26848 rows 98 columns</br>"
      ],
      "text/plain": [
       "<IPython.core.display.HTML object>"
      ]
     },
     "metadata": {},
     "output_type": "display_data"
    },
    {
     "data": {
      "text/html": [
       "<br>Rows to scan: 10000</br>"
      ],
      "text/plain": [
       "<IPython.core.display.HTML object>"
      ]
     },
     "metadata": {},
     "output_type": "display_data"
    },
    {
     "data": {
      "text/html": [
       "<h3>Percentage of missing values</h3>"
      ],
      "text/plain": [
       "<IPython.core.display.HTML object>"
      ]
     },
     "metadata": {},
     "output_type": "display_data"
    },
    {
     "data": {
      "text/html": [
       "<table border=\"1\" class=\"dataframe\">\n",
       "  <thead>\n",
       "    <tr style=\"text-align: right;\">\n",
       "      <th></th>\n",
       "      <th>Percentage</th>\n",
       "    </tr>\n",
       "  </thead>\n",
       "  <tbody>\n",
       "  </tbody>\n",
       "</table>"
      ],
      "text/plain": [
       "<IPython.core.display.HTML object>"
      ]
     },
     "metadata": {},
     "output_type": "display_data"
    },
    {
     "data": {
      "text/html": [
       "<h3>Numeric columns</h3>"
      ],
      "text/plain": [
       "<IPython.core.display.HTML object>"
      ]
     },
     "metadata": {},
     "output_type": "display_data"
    },
    {
     "data": {
      "text/html": [
       "<br>Columns having different distribution in training and testing (at 0.05 critical value)</br>"
      ],
      "text/plain": [
       "<IPython.core.display.HTML object>"
      ]
     },
     "metadata": {},
     "output_type": "display_data"
    },
    {
     "name": "stdout",
     "output_type": "stream",
     "text": [
      "['surv_job_family_le']\n"
     ]
    },
    {
     "data": {
      "text/html": [
       "<h3>Categorical columns</h3>"
      ],
      "text/plain": [
       "<IPython.core.display.HTML object>"
      ]
     },
     "metadata": {},
     "output_type": "display_data"
    },
    {
     "data": {
      "text/html": [
       "<h2>Potential issues</h2>"
      ],
      "text/plain": [
       "<IPython.core.display.HTML object>"
      ]
     },
     "metadata": {},
     "output_type": "display_data"
    },
    {
     "data": {
      "text/html": [
       "<br>Columns with all missing values:</br>"
      ],
      "text/plain": [
       "<IPython.core.display.HTML object>"
      ]
     },
     "metadata": {},
     "output_type": "display_data"
    },
    {
     "name": "stdout",
     "output_type": "stream",
     "text": [
      "[]\n"
     ]
    },
    {
     "data": {
      "text/html": [
       "<br>Columns with only one value:</br>"
      ],
      "text/plain": [
       "<IPython.core.display.HTML object>"
      ]
     },
     "metadata": {},
     "output_type": "display_data"
    },
    {
     "name": "stdout",
     "output_type": "stream",
     "text": [
      "['EMPL_CLASS_5', 'EEO1CODE_8', 'EEO1CODE_N', 'COMPANY_4']\n"
     ]
    },
    {
     "data": {
      "text/html": [
       "<br>Columns with perfect collinearity problem</br>"
      ],
      "text/plain": [
       "<IPython.core.display.HTML object>"
      ]
     },
     "metadata": {},
     "output_type": "display_data"
    },
    {
     "name": "stdout",
     "output_type": "stream",
     "text": [
      "['FULLPART1', 'PTFTCNT1', 'PARTFULL1', 'FTPTCNT1', 'Tenure_years', 'Age_years', 'hire_age', 'EMPL_CLASS_1', 'EMPL_CLASS_D', 'EMPL_CLASS_3', 'EMPL_CLASS_4', 'EMPL_CLASS_5', 'EEO1CODE_3', 'EEO1CODE_4', 'EEO1CODE_2', 'EEO1CODE_5', 'EEO1CODE_1', 'EEO1CODE_6', 'EEO1CODE_7', 'EEO1CODE_8', 'EEO1CODE_N', 'COMPANY_1', 'COMPANY_5', 'COMPANY_49', 'COMPANY_2', 'COMPANY_4', 'MERIT1_d', 'PERF1_d']\n"
     ]
    },
    {
     "data": {
      "text/html": [
       "<br>Columns having missing values in testing but having not in training</br>"
      ],
      "text/plain": [
       "<IPython.core.display.HTML object>"
      ]
     },
     "metadata": {},
     "output_type": "display_data"
    },
    {
     "name": "stdout",
     "output_type": "stream",
     "text": [
      "[]\n"
     ]
    },
    {
     "data": {
      "text/html": [
       "<br>Columns in training but not in testing</br>"
      ],
      "text/plain": [
       "<IPython.core.display.HTML object>"
      ]
     },
     "metadata": {},
     "output_type": "display_data"
    },
    {
     "name": "stdout",
     "output_type": "stream",
     "text": [
      "[]\n"
     ]
    },
    {
     "data": {
      "text/html": [
       "<br>Columns in testing but not in training</br>"
      ],
      "text/plain": [
       "<IPython.core.display.HTML object>"
      ]
     },
     "metadata": {},
     "output_type": "display_data"
    },
    {
     "name": "stdout",
     "output_type": "stream",
     "text": [
      "[]\n"
     ]
    },
    {
     "data": {
      "text/html": [
       "<div>\n",
       "<table border=\"1\" class=\"dataframe\">\n",
       "  <thead>\n",
       "    <tr style=\"text-align: right;\">\n",
       "      <th></th>\n",
       "      <th>Importance</th>\n",
       "    </tr>\n",
       "  </thead>\n",
       "  <tbody>\n",
       "    <tr>\n",
       "      <th>unempl_rate</th>\n",
       "      <td>0.131582</td>\n",
       "    </tr>\n",
       "    <tr>\n",
       "      <th>HAVE_INS</th>\n",
       "      <td>0.104148</td>\n",
       "    </tr>\n",
       "    <tr>\n",
       "      <th>Age_years</th>\n",
       "      <td>0.082060</td>\n",
       "    </tr>\n",
       "    <tr>\n",
       "      <th>MIN_RT_ANNUAL</th>\n",
       "      <td>0.057554</td>\n",
       "    </tr>\n",
       "    <tr>\n",
       "      <th>PERF1</th>\n",
       "      <td>0.057009</td>\n",
       "    </tr>\n",
       "    <tr>\n",
       "      <th>FUNC_CNT</th>\n",
       "      <td>0.056787</td>\n",
       "    </tr>\n",
       "    <tr>\n",
       "      <th>Tenure_years</th>\n",
       "      <td>0.053806</td>\n",
       "    </tr>\n",
       "    <tr>\n",
       "      <th>MAX_RT_ANNUAL</th>\n",
       "      <td>0.033995</td>\n",
       "    </tr>\n",
       "    <tr>\n",
       "      <th>EXT_FUNC_ID_SFI_le</th>\n",
       "      <td>0.030618</td>\n",
       "    </tr>\n",
       "    <tr>\n",
       "      <th>HAVE_DEP</th>\n",
       "      <td>0.028555</td>\n",
       "    </tr>\n",
       "    <tr>\n",
       "      <th>EXTFUNC_CNT</th>\n",
       "      <td>0.026862</td>\n",
       "    </tr>\n",
       "    <tr>\n",
       "      <th>BOX1</th>\n",
       "      <td>0.026498</td>\n",
       "    </tr>\n",
       "    <tr>\n",
       "      <th>surv_grade_le</th>\n",
       "      <td>0.026311</td>\n",
       "    </tr>\n",
       "    <tr>\n",
       "      <th>SAL1</th>\n",
       "      <td>0.021900</td>\n",
       "    </tr>\n",
       "    <tr>\n",
       "      <th>surv_func_id_sfi_le</th>\n",
       "      <td>0.020887</td>\n",
       "    </tr>\n",
       "    <tr>\n",
       "      <th>surv_job_family_le</th>\n",
       "      <td>0.018199</td>\n",
       "    </tr>\n",
       "    <tr>\n",
       "      <th>MERIT1</th>\n",
       "      <td>0.017876</td>\n",
       "    </tr>\n",
       "    <tr>\n",
       "      <th>hire_age</th>\n",
       "      <td>0.016170</td>\n",
       "    </tr>\n",
       "    <tr>\n",
       "      <th>RATE1</th>\n",
       "      <td>0.016078</td>\n",
       "    </tr>\n",
       "    <tr>\n",
       "      <th>surv_job_function_le</th>\n",
       "      <td>0.011632</td>\n",
       "    </tr>\n",
       "    <tr>\n",
       "      <th>SUPVCNT1</th>\n",
       "      <td>0.010776</td>\n",
       "    </tr>\n",
       "    <tr>\n",
       "      <th>JOBCODE_le</th>\n",
       "      <td>0.010729</td>\n",
       "    </tr>\n",
       "    <tr>\n",
       "      <th>ADDRCNT1</th>\n",
       "      <td>0.010532</td>\n",
       "    </tr>\n",
       "    <tr>\n",
       "      <th>EFUNCCNT1</th>\n",
       "      <td>0.009916</td>\n",
       "    </tr>\n",
       "    <tr>\n",
       "      <th>TOTAL_RPT_CNT</th>\n",
       "      <td>0.009014</td>\n",
       "    </tr>\n",
       "    <tr>\n",
       "      <th>DIRECT_RPT_CNT</th>\n",
       "      <td>0.008672</td>\n",
       "    </tr>\n",
       "    <tr>\n",
       "      <th>LOC_TYPE_DESCR_SFI_le</th>\n",
       "      <td>0.007466</td>\n",
       "    </tr>\n",
       "    <tr>\n",
       "      <th>RELO_STATE_CNT_SFI</th>\n",
       "      <td>0.006837</td>\n",
       "    </tr>\n",
       "    <tr>\n",
       "      <th>HUBIND</th>\n",
       "      <td>0.006088</td>\n",
       "    </tr>\n",
       "    <tr>\n",
       "      <th>LOC_STATE_le</th>\n",
       "      <td>0.005991</td>\n",
       "    </tr>\n",
       "    <tr>\n",
       "      <th>...</th>\n",
       "      <td>...</td>\n",
       "    </tr>\n",
       "    <tr>\n",
       "      <th>DIVISION_CODE_SFI_3.0</th>\n",
       "      <td>0.000581</td>\n",
       "    </tr>\n",
       "    <tr>\n",
       "      <th>ETHNIC_GROUP_4.0</th>\n",
       "      <td>0.000561</td>\n",
       "    </tr>\n",
       "    <tr>\n",
       "      <th>DIVISION_CODE_SFI_1.0</th>\n",
       "      <td>0.000529</td>\n",
       "    </tr>\n",
       "    <tr>\n",
       "      <th>DIVISION_CODE_SFI_5.0</th>\n",
       "      <td>0.000515</td>\n",
       "    </tr>\n",
       "    <tr>\n",
       "      <th>FULL_PART_TIME_P</th>\n",
       "      <td>0.000442</td>\n",
       "    </tr>\n",
       "    <tr>\n",
       "      <th>PTFTCNT1</th>\n",
       "      <td>0.000407</td>\n",
       "    </tr>\n",
       "    <tr>\n",
       "      <th>REMOTE_SUPV</th>\n",
       "      <td>0.000379</td>\n",
       "    </tr>\n",
       "    <tr>\n",
       "      <th>FLOORCNT1</th>\n",
       "      <td>0.000336</td>\n",
       "    </tr>\n",
       "    <tr>\n",
       "      <th>PARTFULL1</th>\n",
       "      <td>0.000332</td>\n",
       "    </tr>\n",
       "    <tr>\n",
       "      <th>EMPL_TYPE_N</th>\n",
       "      <td>0.000306</td>\n",
       "    </tr>\n",
       "    <tr>\n",
       "      <th>ETHNIC_GROUP_8.0</th>\n",
       "      <td>0.000290</td>\n",
       "    </tr>\n",
       "    <tr>\n",
       "      <th>EMPL_CLASS_D</th>\n",
       "      <td>0.000283</td>\n",
       "    </tr>\n",
       "    <tr>\n",
       "      <th>SHIFT</th>\n",
       "      <td>0.000254</td>\n",
       "    </tr>\n",
       "    <tr>\n",
       "      <th>EEO1CODE_6</th>\n",
       "      <td>0.000240</td>\n",
       "    </tr>\n",
       "    <tr>\n",
       "      <th>DIVISION_CODE_SFI_6.0</th>\n",
       "      <td>0.000239</td>\n",
       "    </tr>\n",
       "    <tr>\n",
       "      <th>LOCSTCNT1</th>\n",
       "      <td>0.000214</td>\n",
       "    </tr>\n",
       "    <tr>\n",
       "      <th>ETHNIC_GROUP_7.0</th>\n",
       "      <td>0.000180</td>\n",
       "    </tr>\n",
       "    <tr>\n",
       "      <th>EMPL_CLASS_4</th>\n",
       "      <td>0.000169</td>\n",
       "    </tr>\n",
       "    <tr>\n",
       "      <th>ETHNIC_GROUP_5.0</th>\n",
       "      <td>0.000153</td>\n",
       "    </tr>\n",
       "    <tr>\n",
       "      <th>EEO1CODE_7</th>\n",
       "      <td>0.000137</td>\n",
       "    </tr>\n",
       "    <tr>\n",
       "      <th>COMPANY_49</th>\n",
       "      <td>0.000112</td>\n",
       "    </tr>\n",
       "    <tr>\n",
       "      <th>FTPTCNT1</th>\n",
       "      <td>0.000099</td>\n",
       "    </tr>\n",
       "    <tr>\n",
       "      <th>FULLPART1</th>\n",
       "      <td>0.000084</td>\n",
       "    </tr>\n",
       "    <tr>\n",
       "      <th>COMPANY_2</th>\n",
       "      <td>0.000067</td>\n",
       "    </tr>\n",
       "    <tr>\n",
       "      <th>FULL_PART_TIME_X</th>\n",
       "      <td>0.000025</td>\n",
       "    </tr>\n",
       "    <tr>\n",
       "      <th>EEO1CODE_N</th>\n",
       "      <td>0.000000</td>\n",
       "    </tr>\n",
       "    <tr>\n",
       "      <th>EEO1CODE_8</th>\n",
       "      <td>0.000000</td>\n",
       "    </tr>\n",
       "    <tr>\n",
       "      <th>COMPANY_4</th>\n",
       "      <td>0.000000</td>\n",
       "    </tr>\n",
       "    <tr>\n",
       "      <th>EMPL_CLASS_5</th>\n",
       "      <td>0.000000</td>\n",
       "    </tr>\n",
       "    <tr>\n",
       "      <th>ADDRCNT1_d</th>\n",
       "      <td>0.000000</td>\n",
       "    </tr>\n",
       "  </tbody>\n",
       "</table>\n",
       "<p>98 rows × 1 columns</p>\n",
       "</div>"
      ],
      "text/plain": [
       "                       Importance\n",
       "unempl_rate              0.131582\n",
       "HAVE_INS                 0.104148\n",
       "Age_years                0.082060\n",
       "MIN_RT_ANNUAL            0.057554\n",
       "PERF1                    0.057009\n",
       "FUNC_CNT                 0.056787\n",
       "Tenure_years             0.053806\n",
       "MAX_RT_ANNUAL            0.033995\n",
       "EXT_FUNC_ID_SFI_le       0.030618\n",
       "HAVE_DEP                 0.028555\n",
       "EXTFUNC_CNT              0.026862\n",
       "BOX1                     0.026498\n",
       "surv_grade_le            0.026311\n",
       "SAL1                     0.021900\n",
       "surv_func_id_sfi_le      0.020887\n",
       "surv_job_family_le       0.018199\n",
       "MERIT1                   0.017876\n",
       "hire_age                 0.016170\n",
       "RATE1                    0.016078\n",
       "surv_job_function_le     0.011632\n",
       "SUPVCNT1                 0.010776\n",
       "JOBCODE_le               0.010729\n",
       "ADDRCNT1                 0.010532\n",
       "EFUNCCNT1                0.009916\n",
       "TOTAL_RPT_CNT            0.009014\n",
       "DIRECT_RPT_CNT           0.008672\n",
       "LOC_TYPE_DESCR_SFI_le    0.007466\n",
       "RELO_STATE_CNT_SFI       0.006837\n",
       "HUBIND                   0.006088\n",
       "LOC_STATE_le             0.005991\n",
       "...                           ...\n",
       "DIVISION_CODE_SFI_3.0    0.000581\n",
       "ETHNIC_GROUP_4.0         0.000561\n",
       "DIVISION_CODE_SFI_1.0    0.000529\n",
       "DIVISION_CODE_SFI_5.0    0.000515\n",
       "FULL_PART_TIME_P         0.000442\n",
       "PTFTCNT1                 0.000407\n",
       "REMOTE_SUPV              0.000379\n",
       "FLOORCNT1                0.000336\n",
       "PARTFULL1                0.000332\n",
       "EMPL_TYPE_N              0.000306\n",
       "ETHNIC_GROUP_8.0         0.000290\n",
       "EMPL_CLASS_D             0.000283\n",
       "SHIFT                    0.000254\n",
       "EEO1CODE_6               0.000240\n",
       "DIVISION_CODE_SFI_6.0    0.000239\n",
       "LOCSTCNT1                0.000214\n",
       "ETHNIC_GROUP_7.0         0.000180\n",
       "EMPL_CLASS_4             0.000169\n",
       "ETHNIC_GROUP_5.0         0.000153\n",
       "EEO1CODE_7               0.000137\n",
       "COMPANY_49               0.000112\n",
       "FTPTCNT1                 0.000099\n",
       "FULLPART1                0.000084\n",
       "COMPANY_2                0.000067\n",
       "FULL_PART_TIME_X         0.000025\n",
       "EEO1CODE_N               0.000000\n",
       "EEO1CODE_8               0.000000\n",
       "COMPANY_4                0.000000\n",
       "EMPL_CLASS_5             0.000000\n",
       "ADDRCNT1_d               0.000000\n",
       "\n",
       "[98 rows x 1 columns]"
      ]
     },
     "execution_count": 396,
     "metadata": {},
     "output_type": "execute_result"
    }
   ],
   "source": [
    "br.get_initial_analysis(Xft, y, tXeval, rows_to_scan=10000, sample_size=5000, random_state=42, cate_cap=10)"
   ]
  },
  {
   "cell_type": "markdown",
   "metadata": {},
   "source": [
    "# August 17, 2015\n",
    "#### At this point I have a pipeline to process the input (and eval) data.\n",
    "\n",
    "#### here is what it does:\n",
    "1. labelEncodes the string variables (categorical) that I don't want to get dumped\n",
    "2. applies a dummy encoding to OneHotEncode categorical varables with less than 18 categories\n",
    "3. applies a survival function to subset of categorical that I want to do this too\n",
    "4. 'fixes outliers' in salary related data: SAL1, MIN_RT_ANNUAL MAX_RT_ANNUAL, PERF1,MERIT1\n",
    "5. imputes missing:\n",
    "    * BOX1, FUNC_CNT, EXTFUNC_CNT, TOTAL_RPT_CNT, DIRECT_RPT_CNT set to zero\n",
    "    * PERF1, MERIT1, ADDRCNT1 set to mode (which is zero)\n",
    "    * others set to mean"
   ]
  },
  {
   "cell_type": "code",
   "execution_count": 391,
   "metadata": {
    "collapsed": false
   },
   "outputs": [
    {
     "data": {
      "text/plain": [
       "(2    65360\n",
       " 0    20217\n",
       " 3    15239\n",
       " 1     6572\n",
       " dtype: int64, count    107388.000000\n",
       " mean       1541.517106\n",
       " std        1510.943601\n",
       " min           0.000000\n",
       " 25%         609.792500\n",
       " 50%        1460.130000\n",
       " 75%        1989.525000\n",
       " max       35000.000000\n",
       " Name: MERIT1, dtype: float64)"
      ]
     },
     "execution_count": 391,
     "metadata": {},
     "output_type": "execute_result"
    }
   ],
   "source": [
    "Xft.BOX1.value_counts(), Xft.MERIT1.describe()"
   ]
  },
  {
   "cell_type": "markdown",
   "metadata": {},
   "source": [
    "## Aug 21, 2015\n",
    "* I want to drop hire_age (collinear)\n",
    "* "
   ]
  },
  {
   "cell_type": "code",
   "execution_count": 398,
   "metadata": {
    "collapsed": false
   },
   "outputs": [
    {
     "data": {
      "text/html": [
       "<div>\n",
       "<table border=\"1\" class=\"dataframe\">\n",
       "  <thead>\n",
       "    <tr style=\"text-align: right;\">\n",
       "      <th></th>\n",
       "      <th>PERF1</th>\n",
       "      <th>MERIT1</th>\n",
       "      <th>hire_age</th>\n",
       "      <th>Age_years</th>\n",
       "      <th>Tenure_years</th>\n",
       "    </tr>\n",
       "  </thead>\n",
       "  <tbody>\n",
       "    <tr>\n",
       "      <th>PERF1</th>\n",
       "      <td>1.000000</td>\n",
       "      <td>0.322337</td>\n",
       "      <td>-0.075027</td>\n",
       "      <td>0.347824</td>\n",
       "      <td>0.431138</td>\n",
       "    </tr>\n",
       "    <tr>\n",
       "      <th>MERIT1</th>\n",
       "      <td>0.322337</td>\n",
       "      <td>1.000000</td>\n",
       "      <td>-0.069675</td>\n",
       "      <td>-0.050974</td>\n",
       "      <td>-0.000886</td>\n",
       "    </tr>\n",
       "    <tr>\n",
       "      <th>hire_age</th>\n",
       "      <td>-0.075027</td>\n",
       "      <td>-0.069675</td>\n",
       "      <td>1.000000</td>\n",
       "      <td>0.451126</td>\n",
       "      <td>-0.288211</td>\n",
       "    </tr>\n",
       "    <tr>\n",
       "      <th>Age_years</th>\n",
       "      <td>0.347824</td>\n",
       "      <td>-0.050974</td>\n",
       "      <td>0.451126</td>\n",
       "      <td>1.000000</td>\n",
       "      <td>0.724571</td>\n",
       "    </tr>\n",
       "    <tr>\n",
       "      <th>Tenure_years</th>\n",
       "      <td>0.431138</td>\n",
       "      <td>-0.000886</td>\n",
       "      <td>-0.288211</td>\n",
       "      <td>0.724571</td>\n",
       "      <td>1.000000</td>\n",
       "    </tr>\n",
       "  </tbody>\n",
       "</table>\n",
       "</div>"
      ],
      "text/plain": [
       "                 PERF1    MERIT1  hire_age  Age_years  Tenure_years\n",
       "PERF1         1.000000  0.322337 -0.075027   0.347824      0.431138\n",
       "MERIT1        0.322337  1.000000 -0.069675  -0.050974     -0.000886\n",
       "hire_age     -0.075027 -0.069675  1.000000   0.451126     -0.288211\n",
       "Age_years     0.347824 -0.050974  0.451126   1.000000      0.724571\n",
       "Tenure_years  0.431138 -0.000886 -0.288211   0.724571      1.000000"
      ]
     },
     "execution_count": 398,
     "metadata": {},
     "output_type": "execute_result"
    }
   ],
   "source": [
    "Xft[['PERF1','MERIT1','hire_age','Age_years','Tenure_years']].corr()"
   ]
  },
  {
   "cell_type": "code",
   "execution_count": 402,
   "metadata": {
    "collapsed": false
   },
   "outputs": [
    {
     "data": {
      "text/plain": [
       "<seaborn.axisgrid.FacetGrid at 0x7f763b9bcf90>"
      ]
     },
     "execution_count": 402,
     "metadata": {},
     "output_type": "execute_result"
    },
    {
     "data": {
      "image/png": "[encoded data removed]",
      "text/plain": [
       "<matplotlib.figure.Figure at 0x7f763b9bc650>"
      ]
     },
     "metadata": {},
     "output_type": "display_data"
    }
   ],
   "source": [
    "sns.lmplot(x='PERF1',y='MERIT1',data=Xft,line_kws={'color':'k'})"
   ]
  },
  {
   "cell_type": "code",
   "execution_count": 403,
   "metadata": {
    "collapsed": false
   },
   "outputs": [
    {
     "data": {
      "text/plain": [
       "<seaborn.axisgrid.FacetGrid at 0x7f76283ff4d0>"
      ]
     },
     "execution_count": 403,
     "metadata": {},
     "output_type": "execute_result"
    },
    {
     "data": {
      "image/png": "[encoded data removed]",
      "text/plain": [
       "<matplotlib.figure.Figure at 0x7f76282f9d10>"
      ]
     },
     "metadata": {},
     "output_type": "display_data"
    }
   ],
   "source": [
    "sns.lmplot(x='Tenure_years',y='Age_years',data=Xft,line_kws={'color':'k'})"
   ]
  },
  {
   "cell_type": "code",
   "execution_count": 405,
   "metadata": {
    "collapsed": false
   },
   "outputs": [
    {
     "data": {
      "text/plain": [
       "<seaborn.axisgrid.JointGrid at 0x7f7628588d50>"
      ]
     },
     "execution_count": 405,
     "metadata": {},
     "output_type": "execute_result"
    },
    {
     "data": {
      "image/png": "[encoded data removed]",
      "text/plain": [
       "<matplotlib.figure.Figure at 0x7f763b311a90>"
      ]
     },
     "metadata": {},
     "output_type": "display_data"
    }
   ],
   "source": [
    "sns.jointplot(x='hire_age',y='Tenure_years',data=Xft)"
   ]
  },
  {
   "cell_type": "code",
   "execution_count": 407,
   "metadata": {
    "collapsed": false
   },
   "outputs": [],
   "source": [
    "minimum_cols = ['Tenure_years','Age_years','MAX_RT_ANNUAL','MIN_RT_ANNUAL','SAL1','HAVE_INS','HAVE_DEP','Male','EMPL_TYPE']"
   ]
  },
  {
   "cell_type": "markdown",
   "metadata": {},
   "source": [
    "# need to redefine my pipe"
   ]
  },
  {
   "cell_type": "code",
   "execution_count": 441,
   "metadata": {
    "collapsed": false
   },
   "outputs": [],
   "source": [
    "#class to drop a list of columns\n",
    "class DropColumns(BaseEstimator, TransformerMixin):\n",
    "    def __init__(self,columns_to_drop=[]):\n",
    "        \"\"\"\n",
    "        A class that can be inserted into a pipeline\n",
    "    \n",
    "        This will drop columns that are listed as input to this class\n",
    "        \n",
    "        Parameters\n",
    "        ----------\n",
    "        X: Pandas dataframe\n",
    "        \n",
    "        \n",
    "        columns_to_drop: a list of columns to remove from the input DF.\n",
    "        \n",
    "        returns a pandas dataframe\n",
    "        \"\"\"\n",
    "        self.columns_to_drop = columns_to_drop\n",
    "        \n",
    "    def fit(self, X, y=None):\n",
    "        self.columns_to_drop = self.columns_to_drop\n",
    "        return self\n",
    "        \n",
    "    \n",
    "    def transform(self, X, y=None):\n",
    "        X_temp = X.copy()\n",
    "        for col in X_temp.columns:\n",
    "            if col in self.columns_to_drop:\n",
    "                X_temp.pop(col)\n",
    "        \n",
    "        return X_temp"
   ]
  },
  {
   "cell_type": "code",
   "execution_count": 428,
   "metadata": {
    "collapsed": false
   },
   "outputs": [
    {
     "data": {
      "text/plain": [
       "Index([u'FLOORCNT1', u'FULLPART1', u'EFUNCCNT1', u'PERF1', u'PTFTCNT1',\n",
       "       u'MERIT1', u'LOCCNT1', u'BOX1', u'FUNCCNT1', u'SUPVCNT1', u'JOBCNT1',\n",
       "       u'GRADECNT1', u'SAL1', u'PARTFULL1', u'RATE1', u'ADDRCNT1', u'FTPTCNT1',\n",
       "       u'LOCSTCNT1', u'DEPTCNT1', u'MAX_RT_ANNUAL', u'MIN_RT_ANNUAL',\n",
       "       u'Tenure_years', u'Age_years', u'hire_age', u'TOTAL_RPT_CNT',\n",
       "       u'FUNC_CNT', u'DIRECT_RPT_CNT', u'EXTFUNC_CNT', u'REH_CNT', u'HAVE_INS',\n",
       "       u'HAVE_DEP', u'INTERN', u'HUBIND', u'RELO_STATE_CNT_SFI',\n",
       "       u'RELOCATE_ALL_SFI', u'STD_HOURS', u'unempl_rate', u'REMOTE',\n",
       "       u'SUPV_DIFF_LOC', u'FTE', u'Male', u'SHIFT', u'FLSA_STATUS',\n",
       "       u'REMOTE_SUPV', u'hourly_comp', u'JOB_FAMILY', u'LOC_TYPE_DESCR_SFI',\n",
       "       u'EMPL_CLASS', u'EEO1CODE', u'LOC_STATE', u'EMPL_TYPE',\n",
       "       u'FULL_PART_TIME', u'JOB_FUNCTION', u'GRADE', u'FUNC_ID_SFI',\n",
       "       u'EXT_FUNC_ID_SFI', u'FLOR_SFI', u'COMPANY', u'DIVISION_CODE_SFI',\n",
       "       u'JOBCODE', u'ETHNIC_GROUP'],\n",
       "      dtype='object')"
      ]
     },
     "execution_count": 428,
     "metadata": {},
     "output_type": "execute_result"
    }
   ],
   "source": [
    "X.columns"
   ]
  },
  {
   "cell_type": "code",
   "execution_count": 418,
   "metadata": {
    "collapsed": false
   },
   "outputs": [],
   "source": [
    "set_minimum_cols= set(minimum_cols)\n",
    "my_minfix_cols = ['SAL1','MIN_RT_ANNUAL','MERIT1','PERF1']\n",
    "my_maxfix_cols = ['MAX_RT_ANNUAL']\n",
    "missing_zero_cols = ['BOX1','FUNC_CNT','EXTFUNC_CNT','TOTAL_RPT_CNT','DIRECT_RPT_CNT']\n",
    "mode_impute_cols = ['MERIT1','PERF1','ADDRCNT1']\n",
    "mean_impute_cols = 'auto'\n",
    "\n"
   ]
  },
  {
   "cell_type": "code",
   "execution_count": 442,
   "metadata": {
    "collapsed": false
   },
   "outputs": [],
   "source": [
    "pipe2 = Pipeline([(\"null\",br.RemoveAllNull()),\n",
    "                 (\"drop\",DropColumns(columns_to_drop =['hire_age','unempl_rate'])),  \n",
    "                 (\"label_encode\",LabelEncodeColumn(my_label_encode_cols)),\n",
    "                 (\"dummy_encode\", DummyEncodeColumn(cat_cols_to_dummy_encode)),\n",
    "                 (\"survival_encode\",SurvivalEncodeColumn(my_label_encode_cols[:5],method='median')),                 \n",
    "                 (\"fixout_min\",br.FixNumericOutlier(columns_to_fix=my_minfix_cols,criteria_coef=('percentile',5),\n",
    "                                                   method='lower',fill_with='nearest_value')),\n",
    "                  (\"fixout_max\",br.FixNumericOutlier(columns_to_fix=['MAX_ANNUAL_RT'],criteria_coef=('percentile',5),\n",
    "                                                   method='both',fill_with='nearest_value')),\n",
    "                 (\"fill_missingzero\",FillMissingValue(columns_to_fix=missing_zero_cols,fill_value=0)),\n",
    "                 (\"imp_mode\",br.ImputeData(columns_to_impute=mode_impute_cols,rows_to_scan=0.8))])\n",
    "                 #(\"imp_mean\", br.ImputeData(columns_to_impute='auto', rows_to_scan=0.8))])"
   ]
  },
  {
   "cell_type": "code",
   "execution_count": 443,
   "metadata": {
    "collapsed": false
   },
   "outputs": [],
   "source": [
    "Xft_mincols = pipe2.fit_transform(X,y)"
   ]
  },
  {
   "cell_type": "code",
   "execution_count": 445,
   "metadata": {
    "collapsed": false
   },
   "outputs": [
    {
     "data": {
      "text/plain": [
       "((107388, 96), (107388, 98))"
      ]
     },
     "execution_count": 445,
     "metadata": {},
     "output_type": "execute_result"
    }
   ],
   "source": [
    "np.shape(Xft_mincols), np.shape(Xft)"
   ]
  },
  {
   "cell_type": "code",
   "execution_count": 446,
   "metadata": {
    "collapsed": true
   },
   "outputs": [],
   "source": [
    "tXeval_mincols = pipe2.fit(X,y).transform(Xeval)"
   ]
  },
  {
   "cell_type": "code",
   "execution_count": 447,
   "metadata": {
    "collapsed": false
   },
   "outputs": [
    {
     "name": "stdout",
     "output_type": "stream",
     "text": [
      "FLOORCNT1             VIF = 2.5   R^2 = 0.5921    \n",
      "FULLPART1             VIF = 399.3 R^2 = 0.9975    \n",
      "EFUNCCNT1             VIF = 4.0   R^2 = 0.7485    \n",
      "PERF1                 VIF = 7.2   R^2 = 0.8604    \n",
      "PTFTCNT1              VIF = 1150.3R^2 = 0.9991    \n",
      "MERIT1                VIF = 5.2   R^2 = 0.8068    \n",
      "LOCCNT1               VIF = 2.4   R^2 = 0.5878    \n",
      "BOX1                  VIF = 209.5 R^2 = 0.9952    \n",
      "FUNCCNT1              VIF = 4.0   R^2 = 0.7487    \n",
      "SUPVCNT1              VIF = 2.0   R^2 = 0.4913    \n",
      "JOBCNT1               VIF = 3.8   R^2 = 0.7336    \n",
      "GRADECNT1             VIF = 2.9   R^2 = 0.6495    \n",
      "SAL1                  VIF = 17.6  R^2 = 0.9432    \n",
      "PARTFULL1             VIF = 1149.7R^2 = 0.9991    \n",
      "RATE1                 VIF = 177.0 R^2 = 0.9944    \n",
      "ADDRCNT1              VIF = 3.3   R^2 = 0.6954    \n",
      "FTPTCNT1              VIF = 399.2 R^2 = 0.9975    \n",
      "LOCSTCNT1             VIF = 3.8   R^2 = 0.7347    \n",
      "DEPTCNT1              VIF = 3.9   R^2 = 0.7424    \n",
      "MAX_RT_ANNUAL         VIF = 86.5  R^2 = 0.9884    \n",
      "MIN_RT_ANNUAL         VIF = 104.6 R^2 = 0.9904    \n",
      "Tenure_years          VIF = 5.4   R^2 = 0.8139    \n",
      "Age_years             VIF = 3.3   R^2 = 0.6956    \n",
      "TOTAL_RPT_CNT         VIF = 2.3   R^2 = 0.5701    \n",
      "FUNC_CNT              VIF = 5.2   R^2 = 0.8094    \n",
      "DIRECT_RPT_CNT        VIF = 1.9   R^2 = 0.4778    \n",
      "EXTFUNC_CNT           VIF = 5.5   R^2 = 0.8176    \n",
      "REH_CNT               VIF = 1.9   R^2 = 0.4818    \n",
      "HAVE_INS              VIF = 2.5   R^2 = 0.6007    \n",
      "HAVE_DEP              VIF = 2.4   R^2 = 0.5807    \n",
      "INTERN                VIF = 2.8   R^2 = 0.6446    \n",
      "HUBIND                VIF = 2.6   R^2 = 0.6097    \n",
      "RELO_STATE_CNT_SFI    VIF = 46.6  R^2 = 0.9786    \n",
      "RELOCATE_ALL_SFI      VIF = 45.7  R^2 = 0.9781    \n",
      "STD_HOURS             VIF = 96221.6R^2 = 1.0       \n",
      "REMOTE                VIF = 5.7   R^2 = 0.8257    \n",
      "SUPV_DIFF_LOC         VIF = 3.9   R^2 = 0.7434    \n",
      "FTE                   VIF = 96577.8R^2 = 1.0       \n",
      "Male                  VIF = 2.2   R^2 = 0.5507    \n",
      "SHIFT                 VIF = 2.5   R^2 = 0.6062    \n",
      "FLSA_STATUS           VIF = 646.1 R^2 = 0.9985    \n",
      "REMOTE_SUPV           VIF = 1.9   R^2 = 0.4702    \n",
      "hourly_comp           VIF = 26.2  R^2 = 0.9618    \n",
      "EXT_FUNC_ID_SFI_le    VIF = 5.2   R^2 = 0.8075    \n",
      "JOBCODE_le            VIF = 4.7   R^2 = 0.7891    \n",
      "LOC_TYPE_DESCR_SFI_le VIF = 7.0   R^2 = 0.8567    \n",
      "LOC_STATE_le          VIF = 1.7   R^2 = 0.395     \n",
      "EMPL_CLASS_1          VIF = 3686.7R^2 = 0.9997    \n",
      "EMPL_CLASS_D          VIF = 2945.0R^2 = 0.9997    \n",
      "EMPL_CLASS_3          VIF = 803.5 R^2 = 0.9988    \n",
      "EMPL_CLASS_4          VIF = 82.5  R^2 = 0.9879    \n",
      "EMPL_CLASS_5          VIF = 3.0   R^2 = 0.668     \n",
      "EEO1CODE_3            VIF = 696.5 R^2 = 0.9986    \n",
      "EEO1CODE_4            VIF = 1443.1R^2 = 0.9993    \n",
      "EEO1CODE_2            VIF = 9509.1R^2 = 0.9999    \n",
      "EEO1CODE_5            VIF = 9694.9R^2 = 0.9999    \n",
      "EEO1CODE_1            VIF = 3080.4R^2 = 0.9997    \n",
      "EEO1CODE_6            VIF = 115.5 R^2 = 0.9913    \n",
      "EEO1CODE_7            VIF = 144.3 R^2 = 0.9931    \n",
      "EEO1CODE_8            VIF = 1.4   R^2 = 0.2869    \n",
      "EEO1CODE_N            VIF = 3.1   R^2 = 0.6763    \n",
      "EMPL_TYPE_E           VIF = 7477.3R^2 = 0.9999    \n",
      "EMPL_TYPE_N           VIF = 421.1 R^2 = 0.9976    \n",
      "EMPL_TYPE_S           VIF = 5701.5R^2 = 0.9998    \n",
      "EMPL_TYPE_H           VIF = 3088.1R^2 = 0.9997    \n",
      "FULL_PART_TIME_F      VIF = 40.2  R^2 = 0.9751    \n",
      "FULL_PART_TIME_X      VIF = 9.3   R^2 = 0.8927    \n",
      "FULL_PART_TIME_P      VIF = 29.9  R^2 = 0.9665    \n",
      "ETHNIC_GROUP_1.0      VIF = 663.2 R^2 = 0.9985    \n",
      "ETHNIC_GROUP_2.0      VIF = 445.3 R^2 = 0.9978    \n",
      "ETHNIC_GROUP_3.0      VIF = 230.2 R^2 = 0.9957    \n",
      "ETHNIC_GROUP_8.0      VIF = 58.8  R^2 = 0.983     \n",
      "ETHNIC_GROUP_4.0      VIF = 71.5  R^2 = 0.986     \n",
      "ETHNIC_GROUP_5.0      VIF = 15.4  R^2 = 0.9351    \n",
      "ETHNIC_GROUP_7.0      VIF = 12.3  R^2 = 0.919     \n",
      "DIVISION_CODE_SFI_6.0 VIF = 277.3 R^2 = 0.9964    \n",
      "DIVISION_CODE_SFI_9.0 VIF = 2238.1R^2 = 0.9996    \n",
      "DIVISION_CODE_SFI_0.0 VIF = 1366.4R^2 = 0.9993    \n",
      "DIVISION_CODE_SFI_2.0 VIF = 516.8 R^2 = 0.9981    \n",
      "DIVISION_CODE_SFI_4.0 VIF = 453.4 R^2 = 0.9978    \n",
      "DIVISION_CODE_SFI_1.0 VIF = 300.5 R^2 = 0.9967    \n",
      "DIVISION_CODE_SFI_3.0 VIF = 344.7 R^2 = 0.9971    \n",
      "DIVISION_CODE_SFI_5.0 VIF = 187.5 R^2 = 0.9947    \n",
      "COMPANY_1             VIF = 6454.3R^2 = 0.9998    \n",
      "COMPANY_5             VIF = 6332.1R^2 = 0.9998    \n",
      "COMPANY_49            VIF = 135.6 R^2 = 0.9926    \n",
      "COMPANY_2             VIF = 36.4  R^2 = 0.9725    \n",
      "COMPANY_4             VIF = 3.2   R^2 = 0.6835    \n",
      "surv_job_family_le    VIF = 3.3   R^2 = 0.7001    \n",
      "surv_grade_le         VIF = 4.1   R^2 = 0.7553    \n",
      "surv_job_function_le  VIF = 9.1   R^2 = 0.8903    \n",
      "surv_flor_sfi_le      VIF = 3.5   R^2 = 0.7129    \n",
      "surv_func_id_sfi_le   VIF = 2.4   R^2 = 0.5891    \n",
      "\n",
      "MERIT1_d: PERFECT COLLINEARITY ********\n",
      "['PERF1_d']\n",
      "\n",
      "\n",
      "PERF1_d: PERFECT COLLINEARITY ********\n",
      "['MERIT1_d']\n",
      "\n",
      "ADDRCNT1_d            VIF = 1.0   R^2 = 0.0081    \n"
     ]
    },
    {
     "data": {
      "text/plain": [
       "FLOORCNT1                0.592148\n",
       "FULLPART1                0.997495\n",
       "EFUNCCNT1                0.748476\n",
       "PERF1                    0.860433\n",
       "PTFTCNT1                 0.999131\n",
       "MERIT1                   0.806810\n",
       "LOCCNT1                  0.587798\n",
       "BOX1                     0.995227\n",
       "FUNCCNT1                 0.748719\n",
       "SUPVCNT1                 0.491276\n",
       "JOBCNT1                  0.733566\n",
       "GRADECNT1                0.649526\n",
       "SAL1                     0.943184\n",
       "PARTFULL1                0.999130\n",
       "RATE1                    0.994351\n",
       "ADDRCNT1                 0.695397\n",
       "FTPTCNT1                 0.997495\n",
       "LOCSTCNT1                0.734654\n",
       "DEPTCNT1                 0.742430\n",
       "MAX_RT_ANNUAL            0.988442\n",
       "MIN_RT_ANNUAL            0.990442\n",
       "Tenure_years             0.813943\n",
       "Age_years                0.695630\n",
       "TOTAL_RPT_CNT            0.570147\n",
       "FUNC_CNT                 0.809419\n",
       "DIRECT_RPT_CNT           0.477770\n",
       "EXTFUNC_CNT              0.817601\n",
       "REH_CNT                  0.481764\n",
       "HAVE_INS                 0.600681\n",
       "HAVE_DEP                 0.580652\n",
       "                           ...   \n",
       "FULL_PART_TIME_X         0.892696\n",
       "FULL_PART_TIME_P         0.966513\n",
       "ETHNIC_GROUP_1.0         0.998492\n",
       "ETHNIC_GROUP_2.0         0.997754\n",
       "ETHNIC_GROUP_3.0         0.995657\n",
       "ETHNIC_GROUP_8.0         0.982979\n",
       "ETHNIC_GROUP_4.0         0.986020\n",
       "ETHNIC_GROUP_5.0         0.935092\n",
       "ETHNIC_GROUP_7.0         0.918981\n",
       "DIVISION_CODE_SFI_6.0    0.996394\n",
       "DIVISION_CODE_SFI_9.0    0.999553\n",
       "DIVISION_CODE_SFI_0.0    0.999268\n",
       "DIVISION_CODE_SFI_2.0    0.998065\n",
       "DIVISION_CODE_SFI_4.0    0.997794\n",
       "DIVISION_CODE_SFI_1.0    0.996672\n",
       "DIVISION_CODE_SFI_3.0    0.997099\n",
       "DIVISION_CODE_SFI_5.0    0.994668\n",
       "COMPANY_1                0.999845\n",
       "COMPANY_5                0.999842\n",
       "COMPANY_49               0.992624\n",
       "COMPANY_2                0.972499\n",
       "COMPANY_4                0.683530\n",
       "surv_job_family_le       0.700139\n",
       "surv_grade_le            0.755342\n",
       "surv_job_function_le     0.890288\n",
       "surv_flor_sfi_le         0.712884\n",
       "surv_func_id_sfi_le      0.589131\n",
       "MERIT1_d                 1.000000\n",
       "PERF1_d                  1.000000\n",
       "ADDRCNT1_d               0.008088\n",
       "dtype: float64"
      ]
     },
     "execution_count": 447,
     "metadata": {},
     "output_type": "execute_result"
    }
   ],
   "source": [
    "br.perfect_collinearity_test(Xft_mincols)"
   ]
  },
  {
   "cell_type": "code",
   "execution_count": 448,
   "metadata": {
    "collapsed": false
   },
   "outputs": [
    {
     "data": {
      "text/html": [
       "<h1>Initial Analysis</h1>"
      ],
      "text/plain": [
       "<IPython.core.display.HTML object>"
      ]
     },
     "metadata": {},
     "output_type": "display_data"
    },
    {
     "data": {
      "text/html": [
       "<h2>Training data</h2>"
      ],
      "text/plain": [
       "<IPython.core.display.HTML object>"
      ]
     },
     "metadata": {},
     "output_type": "display_data"
    },
    {
     "data": {
      "text/html": [
       "<br>Shape of the data: 107388 rows 96 columns</br>"
      ],
      "text/plain": [
       "<IPython.core.display.HTML object>"
      ]
     },
     "metadata": {},
     "output_type": "display_data"
    },
    {
     "data": {
      "text/html": [
       "<br>Rows to scan: 10000</br>"
      ],
      "text/plain": [
       "<IPython.core.display.HTML object>"
      ]
     },
     "metadata": {},
     "output_type": "display_data"
    },
    {
     "data": {
      "text/html": [
       "<h3>Percentage of missing values</h3>"
      ],
      "text/plain": [
       "<IPython.core.display.HTML object>"
      ]
     },
     "metadata": {},
     "output_type": "display_data"
    },
    {
     "data": {
      "text/html": [
       "<table border=\"1\" class=\"dataframe\">\n",
       "  <thead>\n",
       "    <tr style=\"text-align: right;\">\n",
       "      <th></th>\n",
       "      <th>Percentage</th>\n",
       "    </tr>\n",
       "  </thead>\n",
       "  <tbody>\n",
       "  </tbody>\n",
       "</table>"
      ],
      "text/plain": [
       "<IPython.core.display.HTML object>"
      ]
     },
     "metadata": {},
     "output_type": "display_data"
    },
    {
     "data": {
      "text/html": [
       "<h3>Description of numeric columns (96 columns in all)</h3>"
      ],
      "text/plain": [
       "<IPython.core.display.HTML object>"
      ]
     },
     "metadata": {},
     "output_type": "display_data"
    },
    {
     "data": {
      "text/html": [
       "<table border=\"1\" class=\"dataframe\">\n",
       "  <thead>\n",
       "    <tr style=\"text-align: right;\">\n",
       "      <th></th>\n",
       "      <th>FLOORCNT1</th>\n",
       "      <th>FULLPART1</th>\n",
       "      <th>EFUNCCNT1</th>\n",
       "      <th>PERF1</th>\n",
       "      <th>PTFTCNT1</th>\n",
       "      <th>MERIT1</th>\n",
       "      <th>LOCCNT1</th>\n",
       "      <th>BOX1</th>\n",
       "      <th>FUNCCNT1</th>\n",
       "      <th>SUPVCNT1</th>\n",
       "      <th>JOBCNT1</th>\n",
       "      <th>GRADECNT1</th>\n",
       "      <th>SAL1</th>\n",
       "      <th>PARTFULL1</th>\n",
       "      <th>RATE1</th>\n",
       "      <th>ADDRCNT1</th>\n",
       "      <th>FTPTCNT1</th>\n",
       "      <th>LOCSTCNT1</th>\n",
       "      <th>DEPTCNT1</th>\n",
       "      <th>MAX_RT_ANNUAL</th>\n",
       "      <th>MIN_RT_ANNUAL</th>\n",
       "      <th>Tenure_years</th>\n",
       "      <th>Age_years</th>\n",
       "      <th>TOTAL_RPT_CNT</th>\n",
       "      <th>FUNC_CNT</th>\n",
       "      <th>DIRECT_RPT_CNT</th>\n",
       "      <th>EXTFUNC_CNT</th>\n",
       "      <th>REH_CNT</th>\n",
       "      <th>HAVE_INS</th>\n",
       "      <th>HAVE_DEP</th>\n",
       "      <th>INTERN</th>\n",
       "      <th>HUBIND</th>\n",
       "      <th>RELO_STATE_CNT_SFI</th>\n",
       "      <th>RELOCATE_ALL_SFI</th>\n",
       "      <th>STD_HOURS</th>\n",
       "      <th>REMOTE</th>\n",
       "      <th>SUPV_DIFF_LOC</th>\n",
       "      <th>FTE</th>\n",
       "      <th>Male</th>\n",
       "      <th>SHIFT</th>\n",
       "      <th>FLSA_STATUS</th>\n",
       "      <th>REMOTE_SUPV</th>\n",
       "      <th>hourly_comp</th>\n",
       "      <th>EXT_FUNC_ID_SFI_le</th>\n",
       "      <th>JOBCODE_le</th>\n",
       "      <th>LOC_TYPE_DESCR_SFI_le</th>\n",
       "      <th>LOC_STATE_le</th>\n",
       "      <th>EMPL_CLASS_1</th>\n",
       "      <th>EMPL_CLASS_D</th>\n",
       "      <th>EMPL_CLASS_3</th>\n",
       "      <th>EMPL_CLASS_4</th>\n",
       "      <th>EMPL_CLASS_5</th>\n",
       "      <th>EEO1CODE_3</th>\n",
       "      <th>EEO1CODE_4</th>\n",
       "      <th>EEO1CODE_2</th>\n",
       "      <th>EEO1CODE_5</th>\n",
       "      <th>EEO1CODE_1</th>\n",
       "      <th>EEO1CODE_6</th>\n",
       "      <th>EEO1CODE_7</th>\n",
       "      <th>EEO1CODE_8</th>\n",
       "      <th>EEO1CODE_N</th>\n",
       "      <th>EMPL_TYPE_E</th>\n",
       "      <th>EMPL_TYPE_N</th>\n",
       "      <th>EMPL_TYPE_S</th>\n",
       "      <th>EMPL_TYPE_H</th>\n",
       "      <th>FULL_PART_TIME_F</th>\n",
       "      <th>FULL_PART_TIME_X</th>\n",
       "      <th>FULL_PART_TIME_P</th>\n",
       "      <th>ETHNIC_GROUP_1.0</th>\n",
       "      <th>ETHNIC_GROUP_2.0</th>\n",
       "      <th>ETHNIC_GROUP_3.0</th>\n",
       "      <th>ETHNIC_GROUP_8.0</th>\n",
       "      <th>ETHNIC_GROUP_4.0</th>\n",
       "      <th>ETHNIC_GROUP_5.0</th>\n",
       "      <th>ETHNIC_GROUP_7.0</th>\n",
       "      <th>DIVISION_CODE_SFI_6.0</th>\n",
       "      <th>DIVISION_CODE_SFI_9.0</th>\n",
       "      <th>DIVISION_CODE_SFI_0.0</th>\n",
       "      <th>DIVISION_CODE_SFI_2.0</th>\n",
       "      <th>DIVISION_CODE_SFI_4.0</th>\n",
       "      <th>DIVISION_CODE_SFI_1.0</th>\n",
       "      <th>DIVISION_CODE_SFI_3.0</th>\n",
       "      <th>DIVISION_CODE_SFI_5.0</th>\n",
       "      <th>COMPANY_1</th>\n",
       "      <th>COMPANY_5</th>\n",
       "      <th>COMPANY_49</th>\n",
       "      <th>COMPANY_2</th>\n",
       "      <th>COMPANY_4</th>\n",
       "      <th>surv_job_family_le</th>\n",
       "      <th>surv_grade_le</th>\n",
       "      <th>surv_job_function_le</th>\n",
       "      <th>surv_flor_sfi_le</th>\n",
       "      <th>surv_func_id_sfi_le</th>\n",
       "      <th>MERIT1_d</th>\n",
       "      <th>PERF1_d</th>\n",
       "      <th>ADDRCNT1_d</th>\n",
       "    </tr>\n",
       "  </thead>\n",
       "  <tbody>\n",
       "    <tr>\n",
       "      <th>count</th>\n",
       "      <td>10000.000000</td>\n",
       "      <td>10000.000000</td>\n",
       "      <td>10000.000000</td>\n",
       "      <td>10000.000000</td>\n",
       "      <td>10000.000000</td>\n",
       "      <td>10000.000000</td>\n",
       "      <td>10000.000000</td>\n",
       "      <td>10000.000000</td>\n",
       "      <td>10000.000000</td>\n",
       "      <td>10000.000000</td>\n",
       "      <td>10000.000000</td>\n",
       "      <td>10000.000000</td>\n",
       "      <td>10000.000000</td>\n",
       "      <td>10000.000000</td>\n",
       "      <td>10000.000000</td>\n",
       "      <td>10000.000000</td>\n",
       "      <td>10000.000000</td>\n",
       "      <td>10000.000000</td>\n",
       "      <td>10000.000000</td>\n",
       "      <td>10000.000000</td>\n",
       "      <td>10000.000000</td>\n",
       "      <td>10000.000000</td>\n",
       "      <td>10000.000000</td>\n",
       "      <td>10000.000000</td>\n",
       "      <td>10000.000000</td>\n",
       "      <td>10000.00000</td>\n",
       "      <td>10000.000000</td>\n",
       "      <td>10000.000000</td>\n",
       "      <td>10000.000000</td>\n",
       "      <td>10000.000000</td>\n",
       "      <td>10000.000000</td>\n",
       "      <td>10000.000000</td>\n",
       "      <td>10000.000000</td>\n",
       "      <td>10000.000000</td>\n",
       "      <td>10000.000000</td>\n",
       "      <td>10000.000000</td>\n",
       "      <td>10000.000000</td>\n",
       "      <td>10000.000000</td>\n",
       "      <td>10000.000000</td>\n",
       "      <td>10000.000000</td>\n",
       "      <td>10000.000000</td>\n",
       "      <td>10000.000000</td>\n",
       "      <td>10000.000000</td>\n",
       "      <td>10000.000000</td>\n",
       "      <td>10000.000000</td>\n",
       "      <td>10000.000000</td>\n",
       "      <td>10000.000000</td>\n",
       "      <td>10000.000000</td>\n",
       "      <td>10000.000000</td>\n",
       "      <td>10000.000000</td>\n",
       "      <td>10000.000000</td>\n",
       "      <td>10000</td>\n",
       "      <td>10000.000000</td>\n",
       "      <td>10000.000000</td>\n",
       "      <td>10000.000000</td>\n",
       "      <td>10000.000000</td>\n",
       "      <td>10000.000000</td>\n",
       "      <td>10000.000000</td>\n",
       "      <td>10000.000000</td>\n",
       "      <td>10000</td>\n",
       "      <td>10000</td>\n",
       "      <td>10000.000000</td>\n",
       "      <td>10000.000000</td>\n",
       "      <td>10000.000000</td>\n",
       "      <td>10000.000000</td>\n",
       "      <td>10000.000000</td>\n",
       "      <td>10000.000000</td>\n",
       "      <td>10000.000000</td>\n",
       "      <td>10000.0000</td>\n",
       "      <td>10000.000000</td>\n",
       "      <td>10000.000000</td>\n",
       "      <td>10000.000000</td>\n",
       "      <td>10000.000000</td>\n",
       "      <td>10000.000000</td>\n",
       "      <td>10000.000000</td>\n",
       "      <td>10000.000000</td>\n",
       "      <td>10000.00000</td>\n",
       "      <td>10000.00000</td>\n",
       "      <td>10000.000000</td>\n",
       "      <td>10000.000000</td>\n",
       "      <td>10000.000000</td>\n",
       "      <td>10000.000000</td>\n",
       "      <td>10000.000000</td>\n",
       "      <td>10000.000000</td>\n",
       "      <td>10000.000000</td>\n",
       "      <td>10000.000000</td>\n",
       "      <td>10000.000000</td>\n",
       "      <td>10000</td>\n",
       "      <td>10000.000000</td>\n",
       "      <td>10000.000000</td>\n",
       "      <td>10000.000000</td>\n",
       "      <td>10000.000000</td>\n",
       "      <td>10000.000000</td>\n",
       "      <td>10000.000000</td>\n",
       "      <td>10000.000000</td>\n",
       "      <td>10000.000000</td>\n",
       "    </tr>\n",
       "    <tr>\n",
       "      <th>mean</th>\n",
       "      <td>0.039700</td>\n",
       "      <td>0.003700</td>\n",
       "      <td>0.224100</td>\n",
       "      <td>1831.550458</td>\n",
       "      <td>0.009200</td>\n",
       "      <td>1546.591643</td>\n",
       "      <td>0.143500</td>\n",
       "      <td>1.705100</td>\n",
       "      <td>0.102300</td>\n",
       "      <td>0.747700</td>\n",
       "      <td>0.203100</td>\n",
       "      <td>0.132400</td>\n",
       "      <td>54853.008591</td>\n",
       "      <td>0.009200</td>\n",
       "      <td>1.686500</td>\n",
       "      <td>0.085118</td>\n",
       "      <td>0.003700</td>\n",
       "      <td>0.023800</td>\n",
       "      <td>0.427100</td>\n",
       "      <td>69046.677146</td>\n",
       "      <td>40058.588737</td>\n",
       "      <td>13.092968</td>\n",
       "      <td>42.469773</td>\n",
       "      <td>36.704100</td>\n",
       "      <td>17445.409300</td>\n",
       "      <td>12.70890</td>\n",
       "      <td>2467.169800</td>\n",
       "      <td>0.163400</td>\n",
       "      <td>0.599900</td>\n",
       "      <td>0.352900</td>\n",
       "      <td>0.069800</td>\n",
       "      <td>0.360700</td>\n",
       "      <td>9.450800</td>\n",
       "      <td>0.148400</td>\n",
       "      <td>37.679913</td>\n",
       "      <td>0.083700</td>\n",
       "      <td>0.247800</td>\n",
       "      <td>0.970953</td>\n",
       "      <td>0.375300</td>\n",
       "      <td>0.999300</td>\n",
       "      <td>0.224900</td>\n",
       "      <td>0.034500</td>\n",
       "      <td>0.073200</td>\n",
       "      <td>116.212300</td>\n",
       "      <td>687.395000</td>\n",
       "      <td>14.004600</td>\n",
       "      <td>21.879900</td>\n",
       "      <td>0.978300</td>\n",
       "      <td>0.016500</td>\n",
       "      <td>0.004700</td>\n",
       "      <td>0.000500</td>\n",
       "      <td>0</td>\n",
       "      <td>0.016800</td>\n",
       "      <td>0.038200</td>\n",
       "      <td>0.414000</td>\n",
       "      <td>0.443000</td>\n",
       "      <td>0.081400</td>\n",
       "      <td>0.003400</td>\n",
       "      <td>0.003200</td>\n",
       "      <td>0</td>\n",
       "      <td>0</td>\n",
       "      <td>0.639100</td>\n",
       "      <td>0.016500</td>\n",
       "      <td>0.241200</td>\n",
       "      <td>0.103000</td>\n",
       "      <td>0.906600</td>\n",
       "      <td>0.017000</td>\n",
       "      <td>0.068400</td>\n",
       "      <td>0.7091</td>\n",
       "      <td>0.158700</td>\n",
       "      <td>0.085500</td>\n",
       "      <td>0.017100</td>\n",
       "      <td>0.022700</td>\n",
       "      <td>0.004700</td>\n",
       "      <td>0.002000</td>\n",
       "      <td>0.027200</td>\n",
       "      <td>0.60390</td>\n",
       "      <td>0.18670</td>\n",
       "      <td>0.042900</td>\n",
       "      <td>0.036000</td>\n",
       "      <td>0.039100</td>\n",
       "      <td>0.028900</td>\n",
       "      <td>0.031700</td>\n",
       "      <td>0.859200</td>\n",
       "      <td>0.137300</td>\n",
       "      <td>0.002200</td>\n",
       "      <td>0.001300</td>\n",
       "      <td>0</td>\n",
       "      <td>30.343675</td>\n",
       "      <td>40.271292</td>\n",
       "      <td>34.906767</td>\n",
       "      <td>31.236375</td>\n",
       "      <td>39.623325</td>\n",
       "      <td>0.110700</td>\n",
       "      <td>0.110700</td>\n",
       "      <td>0.000200</td>\n",
       "    </tr>\n",
       "    <tr>\n",
       "      <th>std</th>\n",
       "      <td>0.223895</td>\n",
       "      <td>0.060718</td>\n",
       "      <td>0.468723</td>\n",
       "      <td>1639.548536</td>\n",
       "      <td>0.095479</td>\n",
       "      <td>1498.639434</td>\n",
       "      <td>0.417762</td>\n",
       "      <td>0.934142</td>\n",
       "      <td>0.319758</td>\n",
       "      <td>1.040458</td>\n",
       "      <td>0.444376</td>\n",
       "      <td>0.360671</td>\n",
       "      <td>30896.822688</td>\n",
       "      <td>0.095479</td>\n",
       "      <td>0.948107</td>\n",
       "      <td>0.294050</td>\n",
       "      <td>0.060718</td>\n",
       "      <td>0.155679</td>\n",
       "      <td>0.730574</td>\n",
       "      <td>39236.627606</td>\n",
       "      <td>19034.503157</td>\n",
       "      <td>11.698111</td>\n",
       "      <td>12.547486</td>\n",
       "      <td>723.136293</td>\n",
       "      <td>15054.920049</td>\n",
       "      <td>10.61091</td>\n",
       "      <td>3226.911467</td>\n",
       "      <td>0.563677</td>\n",
       "      <td>0.489943</td>\n",
       "      <td>0.477896</td>\n",
       "      <td>0.254822</td>\n",
       "      <td>0.480228</td>\n",
       "      <td>19.040321</td>\n",
       "      <td>0.355514</td>\n",
       "      <td>4.117779</td>\n",
       "      <td>0.276951</td>\n",
       "      <td>0.431757</td>\n",
       "      <td>0.112764</td>\n",
       "      <td>0.484224</td>\n",
       "      <td>0.196223</td>\n",
       "      <td>0.455566</td>\n",
       "      <td>0.182519</td>\n",
       "      <td>0.260478</td>\n",
       "      <td>108.121473</td>\n",
       "      <td>712.892706</td>\n",
       "      <td>5.777691</td>\n",
       "      <td>14.662134</td>\n",
       "      <td>0.145709</td>\n",
       "      <td>0.127395</td>\n",
       "      <td>0.068399</td>\n",
       "      <td>0.022356</td>\n",
       "      <td>0</td>\n",
       "      <td>0.128528</td>\n",
       "      <td>0.191688</td>\n",
       "      <td>0.492573</td>\n",
       "      <td>0.496765</td>\n",
       "      <td>0.273462</td>\n",
       "      <td>0.058213</td>\n",
       "      <td>0.056481</td>\n",
       "      <td>0</td>\n",
       "      <td>0</td>\n",
       "      <td>0.480286</td>\n",
       "      <td>0.127395</td>\n",
       "      <td>0.427833</td>\n",
       "      <td>0.303974</td>\n",
       "      <td>0.291007</td>\n",
       "      <td>0.129277</td>\n",
       "      <td>0.252444</td>\n",
       "      <td>0.4542</td>\n",
       "      <td>0.365414</td>\n",
       "      <td>0.279638</td>\n",
       "      <td>0.129651</td>\n",
       "      <td>0.148953</td>\n",
       "      <td>0.068399</td>\n",
       "      <td>0.044679</td>\n",
       "      <td>0.162674</td>\n",
       "      <td>0.48911</td>\n",
       "      <td>0.38969</td>\n",
       "      <td>0.202642</td>\n",
       "      <td>0.186299</td>\n",
       "      <td>0.193843</td>\n",
       "      <td>0.167534</td>\n",
       "      <td>0.175209</td>\n",
       "      <td>0.347833</td>\n",
       "      <td>0.344181</td>\n",
       "      <td>0.046855</td>\n",
       "      <td>0.036034</td>\n",
       "      <td>0</td>\n",
       "      <td>18.437115</td>\n",
       "      <td>27.904639</td>\n",
       "      <td>22.745539</td>\n",
       "      <td>11.157633</td>\n",
       "      <td>20.059970</td>\n",
       "      <td>0.313776</td>\n",
       "      <td>0.313776</td>\n",
       "      <td>0.014141</td>\n",
       "    </tr>\n",
       "    <tr>\n",
       "      <th>min</th>\n",
       "      <td>0.000000</td>\n",
       "      <td>0.000000</td>\n",
       "      <td>0.000000</td>\n",
       "      <td>0.000000</td>\n",
       "      <td>0.000000</td>\n",
       "      <td>0.000000</td>\n",
       "      <td>0.000000</td>\n",
       "      <td>0.000000</td>\n",
       "      <td>0.000000</td>\n",
       "      <td>0.000000</td>\n",
       "      <td>0.000000</td>\n",
       "      <td>0.000000</td>\n",
       "      <td>17621.760000</td>\n",
       "      <td>0.000000</td>\n",
       "      <td>0.000000</td>\n",
       "      <td>0.000000</td>\n",
       "      <td>0.000000</td>\n",
       "      <td>0.000000</td>\n",
       "      <td>0.000000</td>\n",
       "      <td>0.000000</td>\n",
       "      <td>17800.000000</td>\n",
       "      <td>0.000000</td>\n",
       "      <td>17.325476</td>\n",
       "      <td>0.000000</td>\n",
       "      <td>1.000000</td>\n",
       "      <td>0.00000</td>\n",
       "      <td>0.000000</td>\n",
       "      <td>0.000000</td>\n",
       "      <td>0.000000</td>\n",
       "      <td>0.000000</td>\n",
       "      <td>0.000000</td>\n",
       "      <td>0.000000</td>\n",
       "      <td>0.000000</td>\n",
       "      <td>0.000000</td>\n",
       "      <td>1.000000</td>\n",
       "      <td>0.000000</td>\n",
       "      <td>0.000000</td>\n",
       "      <td>0.000000</td>\n",
       "      <td>0.000000</td>\n",
       "      <td>0.000000</td>\n",
       "      <td>-1.000000</td>\n",
       "      <td>0.000000</td>\n",
       "      <td>0.000000</td>\n",
       "      <td>0.000000</td>\n",
       "      <td>1.000000</td>\n",
       "      <td>0.000000</td>\n",
       "      <td>0.000000</td>\n",
       "      <td>0.000000</td>\n",
       "      <td>0.000000</td>\n",
       "      <td>0.000000</td>\n",
       "      <td>0.000000</td>\n",
       "      <td>0</td>\n",
       "      <td>0.000000</td>\n",
       "      <td>0.000000</td>\n",
       "      <td>0.000000</td>\n",
       "      <td>0.000000</td>\n",
       "      <td>0.000000</td>\n",
       "      <td>0.000000</td>\n",
       "      <td>0.000000</td>\n",
       "      <td>0</td>\n",
       "      <td>0</td>\n",
       "      <td>0.000000</td>\n",
       "      <td>0.000000</td>\n",
       "      <td>0.000000</td>\n",
       "      <td>0.000000</td>\n",
       "      <td>0.000000</td>\n",
       "      <td>0.000000</td>\n",
       "      <td>0.000000</td>\n",
       "      <td>0.0000</td>\n",
       "      <td>0.000000</td>\n",
       "      <td>0.000000</td>\n",
       "      <td>0.000000</td>\n",
       "      <td>0.000000</td>\n",
       "      <td>0.000000</td>\n",
       "      <td>0.000000</td>\n",
       "      <td>0.000000</td>\n",
       "      <td>0.00000</td>\n",
       "      <td>0.00000</td>\n",
       "      <td>0.000000</td>\n",
       "      <td>0.000000</td>\n",
       "      <td>0.000000</td>\n",
       "      <td>0.000000</td>\n",
       "      <td>0.000000</td>\n",
       "      <td>0.000000</td>\n",
       "      <td>0.000000</td>\n",
       "      <td>0.000000</td>\n",
       "      <td>0.000000</td>\n",
       "      <td>0</td>\n",
       "      <td>1.250000</td>\n",
       "      <td>1.250000</td>\n",
       "      <td>0.500000</td>\n",
       "      <td>2.166667</td>\n",
       "      <td>0.833333</td>\n",
       "      <td>0.000000</td>\n",
       "      <td>0.000000</td>\n",
       "      <td>0.000000</td>\n",
       "    </tr>\n",
       "    <tr>\n",
       "      <th>25%</th>\n",
       "      <td>0.000000</td>\n",
       "      <td>0.000000</td>\n",
       "      <td>0.000000</td>\n",
       "      <td>584.580000</td>\n",
       "      <td>0.000000</td>\n",
       "      <td>620.320000</td>\n",
       "      <td>0.000000</td>\n",
       "      <td>2.000000</td>\n",
       "      <td>0.000000</td>\n",
       "      <td>0.000000</td>\n",
       "      <td>0.000000</td>\n",
       "      <td>0.000000</td>\n",
       "      <td>31188.255000</td>\n",
       "      <td>0.000000</td>\n",
       "      <td>1.000000</td>\n",
       "      <td>0.000000</td>\n",
       "      <td>0.000000</td>\n",
       "      <td>0.000000</td>\n",
       "      <td>0.000000</td>\n",
       "      <td>44058.750000</td>\n",
       "      <td>26280.080000</td>\n",
       "      <td>2.384717</td>\n",
       "      <td>31.616666</td>\n",
       "      <td>9.000000</td>\n",
       "      <td>2771.000000</td>\n",
       "      <td>8.00000</td>\n",
       "      <td>458.000000</td>\n",
       "      <td>0.000000</td>\n",
       "      <td>0.000000</td>\n",
       "      <td>0.000000</td>\n",
       "      <td>0.000000</td>\n",
       "      <td>0.000000</td>\n",
       "      <td>0.000000</td>\n",
       "      <td>0.000000</td>\n",
       "      <td>38.750000</td>\n",
       "      <td>0.000000</td>\n",
       "      <td>0.000000</td>\n",
       "      <td>1.000000</td>\n",
       "      <td>0.000000</td>\n",
       "      <td>1.000000</td>\n",
       "      <td>0.000000</td>\n",
       "      <td>0.000000</td>\n",
       "      <td>0.000000</td>\n",
       "      <td>16.000000</td>\n",
       "      <td>55.000000</td>\n",
       "      <td>13.000000</td>\n",
       "      <td>10.000000</td>\n",
       "      <td>1.000000</td>\n",
       "      <td>0.000000</td>\n",
       "      <td>0.000000</td>\n",
       "      <td>0.000000</td>\n",
       "      <td>0</td>\n",
       "      <td>0.000000</td>\n",
       "      <td>0.000000</td>\n",
       "      <td>0.000000</td>\n",
       "      <td>0.000000</td>\n",
       "      <td>0.000000</td>\n",
       "      <td>0.000000</td>\n",
       "      <td>0.000000</td>\n",
       "      <td>0</td>\n",
       "      <td>0</td>\n",
       "      <td>0.000000</td>\n",
       "      <td>0.000000</td>\n",
       "      <td>0.000000</td>\n",
       "      <td>0.000000</td>\n",
       "      <td>1.000000</td>\n",
       "      <td>0.000000</td>\n",
       "      <td>0.000000</td>\n",
       "      <td>0.0000</td>\n",
       "      <td>0.000000</td>\n",
       "      <td>0.000000</td>\n",
       "      <td>0.000000</td>\n",
       "      <td>0.000000</td>\n",
       "      <td>0.000000</td>\n",
       "      <td>0.000000</td>\n",
       "      <td>0.000000</td>\n",
       "      <td>0.00000</td>\n",
       "      <td>0.00000</td>\n",
       "      <td>0.000000</td>\n",
       "      <td>0.000000</td>\n",
       "      <td>0.000000</td>\n",
       "      <td>0.000000</td>\n",
       "      <td>0.000000</td>\n",
       "      <td>1.000000</td>\n",
       "      <td>0.000000</td>\n",
       "      <td>0.000000</td>\n",
       "      <td>0.000000</td>\n",
       "      <td>0</td>\n",
       "      <td>16.333333</td>\n",
       "      <td>10.833333</td>\n",
       "      <td>15.666667</td>\n",
       "      <td>28.000000</td>\n",
       "      <td>14.916667</td>\n",
       "      <td>0.000000</td>\n",
       "      <td>0.000000</td>\n",
       "      <td>0.000000</td>\n",
       "    </tr>\n",
       "    <tr>\n",
       "      <th>50%</th>\n",
       "      <td>0.000000</td>\n",
       "      <td>0.000000</td>\n",
       "      <td>0.000000</td>\n",
       "      <td>1721.990000</td>\n",
       "      <td>0.000000</td>\n",
       "      <td>1466.400000</td>\n",
       "      <td>0.000000</td>\n",
       "      <td>2.000000</td>\n",
       "      <td>0.000000</td>\n",
       "      <td>0.000000</td>\n",
       "      <td>0.000000</td>\n",
       "      <td>0.000000</td>\n",
       "      <td>46658.760000</td>\n",
       "      <td>0.000000</td>\n",
       "      <td>2.000000</td>\n",
       "      <td>0.000000</td>\n",
       "      <td>0.000000</td>\n",
       "      <td>0.000000</td>\n",
       "      <td>0.000000</td>\n",
       "      <td>60100.000000</td>\n",
       "      <td>35830.250000</td>\n",
       "      <td>9.993361</td>\n",
       "      <td>42.229478</td>\n",
       "      <td>12.000000</td>\n",
       "      <td>7769.000000</td>\n",
       "      <td>11.00000</td>\n",
       "      <td>1163.000000</td>\n",
       "      <td>0.000000</td>\n",
       "      <td>1.000000</td>\n",
       "      <td>0.000000</td>\n",
       "      <td>0.000000</td>\n",
       "      <td>0.000000</td>\n",
       "      <td>1.000000</td>\n",
       "      <td>0.000000</td>\n",
       "      <td>38.750000</td>\n",
       "      <td>0.000000</td>\n",
       "      <td>0.000000</td>\n",
       "      <td>1.000000</td>\n",
       "      <td>0.000000</td>\n",
       "      <td>1.000000</td>\n",
       "      <td>0.000000</td>\n",
       "      <td>0.000000</td>\n",
       "      <td>0.000000</td>\n",
       "      <td>83.500000</td>\n",
       "      <td>431.000000</td>\n",
       "      <td>16.000000</td>\n",
       "      <td>15.000000</td>\n",
       "      <td>1.000000</td>\n",
       "      <td>0.000000</td>\n",
       "      <td>0.000000</td>\n",
       "      <td>0.000000</td>\n",
       "      <td>0</td>\n",
       "      <td>0.000000</td>\n",
       "      <td>0.000000</td>\n",
       "      <td>0.000000</td>\n",
       "      <td>0.000000</td>\n",
       "      <td>0.000000</td>\n",
       "      <td>0.000000</td>\n",
       "      <td>0.000000</td>\n",
       "      <td>0</td>\n",
       "      <td>0</td>\n",
       "      <td>1.000000</td>\n",
       "      <td>0.000000</td>\n",
       "      <td>0.000000</td>\n",
       "      <td>0.000000</td>\n",
       "      <td>1.000000</td>\n",
       "      <td>0.000000</td>\n",
       "      <td>0.000000</td>\n",
       "      <td>1.0000</td>\n",
       "      <td>0.000000</td>\n",
       "      <td>0.000000</td>\n",
       "      <td>0.000000</td>\n",
       "      <td>0.000000</td>\n",
       "      <td>0.000000</td>\n",
       "      <td>0.000000</td>\n",
       "      <td>0.000000</td>\n",
       "      <td>1.00000</td>\n",
       "      <td>0.00000</td>\n",
       "      <td>0.000000</td>\n",
       "      <td>0.000000</td>\n",
       "      <td>0.000000</td>\n",
       "      <td>0.000000</td>\n",
       "      <td>0.000000</td>\n",
       "      <td>1.000000</td>\n",
       "      <td>0.000000</td>\n",
       "      <td>0.000000</td>\n",
       "      <td>0.000000</td>\n",
       "      <td>0</td>\n",
       "      <td>33.833333</td>\n",
       "      <td>65.000000</td>\n",
       "      <td>15.666667</td>\n",
       "      <td>28.000000</td>\n",
       "      <td>45.166667</td>\n",
       "      <td>0.000000</td>\n",
       "      <td>0.000000</td>\n",
       "      <td>0.000000</td>\n",
       "    </tr>\n",
       "    <tr>\n",
       "      <th>75%</th>\n",
       "      <td>0.000000</td>\n",
       "      <td>0.000000</td>\n",
       "      <td>0.000000</td>\n",
       "      <td>2548.155000</td>\n",
       "      <td>0.000000</td>\n",
       "      <td>1976.950000</td>\n",
       "      <td>0.000000</td>\n",
       "      <td>2.000000</td>\n",
       "      <td>0.000000</td>\n",
       "      <td>1.000000</td>\n",
       "      <td>0.000000</td>\n",
       "      <td>0.000000</td>\n",
       "      <td>72775.555000</td>\n",
       "      <td>0.000000</td>\n",
       "      <td>2.000000</td>\n",
       "      <td>0.000000</td>\n",
       "      <td>0.000000</td>\n",
       "      <td>0.000000</td>\n",
       "      <td>1.000000</td>\n",
       "      <td>86674.500000</td>\n",
       "      <td>49407.680000</td>\n",
       "      <td>21.384423</td>\n",
       "      <td>53.153727</td>\n",
       "      <td>17.000000</td>\n",
       "      <td>34937.000000</td>\n",
       "      <td>14.00000</td>\n",
       "      <td>2747.000000</td>\n",
       "      <td>0.000000</td>\n",
       "      <td>1.000000</td>\n",
       "      <td>1.000000</td>\n",
       "      <td>0.000000</td>\n",
       "      <td>1.000000</td>\n",
       "      <td>4.000000</td>\n",
       "      <td>0.000000</td>\n",
       "      <td>38.750000</td>\n",
       "      <td>0.000000</td>\n",
       "      <td>0.000000</td>\n",
       "      <td>1.000000</td>\n",
       "      <td>1.000000</td>\n",
       "      <td>1.000000</td>\n",
       "      <td>0.000000</td>\n",
       "      <td>0.000000</td>\n",
       "      <td>0.000000</td>\n",
       "      <td>230.000000</td>\n",
       "      <td>1238.000000</td>\n",
       "      <td>16.000000</td>\n",
       "      <td>38.000000</td>\n",
       "      <td>1.000000</td>\n",
       "      <td>0.000000</td>\n",
       "      <td>0.000000</td>\n",
       "      <td>0.000000</td>\n",
       "      <td>0</td>\n",
       "      <td>0.000000</td>\n",
       "      <td>0.000000</td>\n",
       "      <td>1.000000</td>\n",
       "      <td>1.000000</td>\n",
       "      <td>0.000000</td>\n",
       "      <td>0.000000</td>\n",
       "      <td>0.000000</td>\n",
       "      <td>0</td>\n",
       "      <td>0</td>\n",
       "      <td>1.000000</td>\n",
       "      <td>0.000000</td>\n",
       "      <td>0.000000</td>\n",
       "      <td>0.000000</td>\n",
       "      <td>1.000000</td>\n",
       "      <td>0.000000</td>\n",
       "      <td>0.000000</td>\n",
       "      <td>1.0000</td>\n",
       "      <td>0.000000</td>\n",
       "      <td>0.000000</td>\n",
       "      <td>0.000000</td>\n",
       "      <td>0.000000</td>\n",
       "      <td>0.000000</td>\n",
       "      <td>0.000000</td>\n",
       "      <td>0.000000</td>\n",
       "      <td>1.00000</td>\n",
       "      <td>0.00000</td>\n",
       "      <td>0.000000</td>\n",
       "      <td>0.000000</td>\n",
       "      <td>0.000000</td>\n",
       "      <td>0.000000</td>\n",
       "      <td>0.000000</td>\n",
       "      <td>1.000000</td>\n",
       "      <td>0.000000</td>\n",
       "      <td>0.000000</td>\n",
       "      <td>0.000000</td>\n",
       "      <td>0</td>\n",
       "      <td>34.916667</td>\n",
       "      <td>65.000000</td>\n",
       "      <td>65.000000</td>\n",
       "      <td>28.000000</td>\n",
       "      <td>45.166667</td>\n",
       "      <td>0.000000</td>\n",
       "      <td>0.000000</td>\n",
       "      <td>0.000000</td>\n",
       "    </tr>\n",
       "    <tr>\n",
       "      <th>max</th>\n",
       "      <td>5.000000</td>\n",
       "      <td>1.000000</td>\n",
       "      <td>3.000000</td>\n",
       "      <td>30652.390000</td>\n",
       "      <td>1.000000</td>\n",
       "      <td>22697.580000</td>\n",
       "      <td>5.000000</td>\n",
       "      <td>3.000000</td>\n",
       "      <td>3.000000</td>\n",
       "      <td>7.000000</td>\n",
       "      <td>3.000000</td>\n",
       "      <td>3.000000</td>\n",
       "      <td>241534.930000</td>\n",
       "      <td>1.000000</td>\n",
       "      <td>3.000000</td>\n",
       "      <td>3.000000</td>\n",
       "      <td>1.000000</td>\n",
       "      <td>2.000000</td>\n",
       "      <td>5.000000</td>\n",
       "      <td>999999.000000</td>\n",
       "      <td>148023.000000</td>\n",
       "      <td>65.126594</td>\n",
       "      <td>95.021801</td>\n",
       "      <td>71331.000000</td>\n",
       "      <td>37142.000000</td>\n",
       "      <td>277.00000</td>\n",
       "      <td>17735.000000</td>\n",
       "      <td>15.000000</td>\n",
       "      <td>1.000000</td>\n",
       "      <td>1.000000</td>\n",
       "      <td>1.000000</td>\n",
       "      <td>1.000000</td>\n",
       "      <td>54.000000</td>\n",
       "      <td>1.000000</td>\n",
       "      <td>40.000000</td>\n",
       "      <td>1.000000</td>\n",
       "      <td>1.000000</td>\n",
       "      <td>1.030000</td>\n",
       "      <td>1.000000</td>\n",
       "      <td>3.000000</td>\n",
       "      <td>1.000000</td>\n",
       "      <td>1.000000</td>\n",
       "      <td>1.000000</td>\n",
       "      <td>329.000000</td>\n",
       "      <td>2446.000000</td>\n",
       "      <td>29.000000</td>\n",
       "      <td>49.000000</td>\n",
       "      <td>1.000000</td>\n",
       "      <td>1.000000</td>\n",
       "      <td>1.000000</td>\n",
       "      <td>1.000000</td>\n",
       "      <td>0</td>\n",
       "      <td>1.000000</td>\n",
       "      <td>1.000000</td>\n",
       "      <td>1.000000</td>\n",
       "      <td>1.000000</td>\n",
       "      <td>1.000000</td>\n",
       "      <td>1.000000</td>\n",
       "      <td>1.000000</td>\n",
       "      <td>0</td>\n",
       "      <td>0</td>\n",
       "      <td>1.000000</td>\n",
       "      <td>1.000000</td>\n",
       "      <td>1.000000</td>\n",
       "      <td>1.000000</td>\n",
       "      <td>1.000000</td>\n",
       "      <td>1.000000</td>\n",
       "      <td>1.000000</td>\n",
       "      <td>1.0000</td>\n",
       "      <td>1.000000</td>\n",
       "      <td>1.000000</td>\n",
       "      <td>1.000000</td>\n",
       "      <td>1.000000</td>\n",
       "      <td>1.000000</td>\n",
       "      <td>1.000000</td>\n",
       "      <td>1.000000</td>\n",
       "      <td>1.00000</td>\n",
       "      <td>1.00000</td>\n",
       "      <td>1.000000</td>\n",
       "      <td>1.000000</td>\n",
       "      <td>1.000000</td>\n",
       "      <td>1.000000</td>\n",
       "      <td>1.000000</td>\n",
       "      <td>1.000000</td>\n",
       "      <td>1.000000</td>\n",
       "      <td>1.000000</td>\n",
       "      <td>1.000000</td>\n",
       "      <td>0</td>\n",
       "      <td>65.000000</td>\n",
       "      <td>65.000000</td>\n",
       "      <td>65.000000</td>\n",
       "      <td>65.000000</td>\n",
       "      <td>65.000000</td>\n",
       "      <td>1.000000</td>\n",
       "      <td>1.000000</td>\n",
       "      <td>1.000000</td>\n",
       "    </tr>\n",
       "  </tbody>\n",
       "</table>"
      ],
      "text/plain": [
       "<IPython.core.display.HTML object>"
      ]
     },
     "metadata": {},
     "output_type": "display_data"
    },
    {
     "name": "stdout",
     "output_type": "stream",
     "text": [
      "\n"
     ]
    },
    {
     "data": {
      "text/html": [
       "<h3>Description of categorical columns</h3>"
      ],
      "text/plain": [
       "<IPython.core.display.HTML object>"
      ]
     },
     "metadata": {},
     "output_type": "display_data"
    },
    {
     "data": {
      "text/html": [
       "<h2>Response (y)</h2>"
      ],
      "text/plain": [
       "<IPython.core.display.HTML object>"
      ]
     },
     "metadata": {},
     "output_type": "display_data"
    },
    {
     "data": {
      "text/html": [
       "<h3>Value counts of y</h3>"
      ],
      "text/plain": [
       "<IPython.core.display.HTML object>"
      ]
     },
     "metadata": {},
     "output_type": "display_data"
    },
    {
     "data": {
      "text/html": [
       "<table border=\"1\" class=\"dataframe\">\n",
       "  <thead>\n",
       "    <tr style=\"text-align: right;\">\n",
       "      <th></th>\n",
       "      <th>Counts</th>\n",
       "    </tr>\n",
       "  </thead>\n",
       "  <tbody>\n",
       "    <tr>\n",
       "      <th>0</th>\n",
       "      <td>6207</td>\n",
       "    </tr>\n",
       "    <tr>\n",
       "      <th>1</th>\n",
       "      <td>3793</td>\n",
       "    </tr>\n",
       "  </tbody>\n",
       "</table>"
      ],
      "text/plain": [
       "<IPython.core.display.HTML object>"
      ]
     },
     "metadata": {},
     "output_type": "display_data"
    },
    {
     "data": {
      "text/html": [
       "<h3>Correlation coefficients with numeric columns</h3>"
      ],
      "text/plain": [
       "<IPython.core.display.HTML object>"
      ]
     },
     "metadata": {},
     "output_type": "display_data"
    },
    {
     "data": {
      "text/html": [
       "<table border=\"1\" class=\"dataframe\">\n",
       "  <thead>\n",
       "    <tr style=\"text-align: right;\">\n",
       "      <th></th>\n",
       "      <th>corr</th>\n",
       "      <th>p-value</th>\n",
       "    </tr>\n",
       "  </thead>\n",
       "  <tbody>\n",
       "    <tr>\n",
       "      <th>HAVE_INS</th>\n",
       "      <td>-0.604683</td>\n",
       "      <td>0.000000e+00</td>\n",
       "    </tr>\n",
       "    <tr>\n",
       "      <th>Age_years</th>\n",
       "      <td>-0.441067</td>\n",
       "      <td>0.000000e+00</td>\n",
       "    </tr>\n",
       "    <tr>\n",
       "      <th>Tenure_years</th>\n",
       "      <td>-0.440692</td>\n",
       "      <td>0.000000e+00</td>\n",
       "    </tr>\n",
       "    <tr>\n",
       "      <th>HAVE_DEP</th>\n",
       "      <td>-0.425907</td>\n",
       "      <td>0.000000e+00</td>\n",
       "    </tr>\n",
       "    <tr>\n",
       "      <th>surv_grade_le</th>\n",
       "      <td>-0.424680</td>\n",
       "      <td>0.000000e+00</td>\n",
       "    </tr>\n",
       "    <tr>\n",
       "      <th>PERF1</th>\n",
       "      <td>-0.422494</td>\n",
       "      <td>0.000000e+00</td>\n",
       "    </tr>\n",
       "    <tr>\n",
       "      <th>MIN_RT_ANNUAL</th>\n",
       "      <td>-0.393025</td>\n",
       "      <td>0.000000e+00</td>\n",
       "    </tr>\n",
       "    <tr>\n",
       "      <th>SAL1</th>\n",
       "      <td>-0.388146</td>\n",
       "      <td>0.000000e+00</td>\n",
       "    </tr>\n",
       "    <tr>\n",
       "      <th>BOX1</th>\n",
       "      <td>-0.387094</td>\n",
       "      <td>0.000000e+00</td>\n",
       "    </tr>\n",
       "    <tr>\n",
       "      <th>RATE1</th>\n",
       "      <td>-0.370403</td>\n",
       "      <td>8.893182e-323</td>\n",
       "    </tr>\n",
       "    <tr>\n",
       "      <th>surv_func_id_sfi_le</th>\n",
       "      <td>-0.355935</td>\n",
       "      <td>1.786181e-296</td>\n",
       "    </tr>\n",
       "    <tr>\n",
       "      <th>surv_job_family_le</th>\n",
       "      <td>-0.339488</td>\n",
       "      <td>3.326363e-268</td>\n",
       "    </tr>\n",
       "    <tr>\n",
       "      <th>surv_job_function_le</th>\n",
       "      <td>-0.337307</td>\n",
       "      <td>1.391754e-264</td>\n",
       "    </tr>\n",
       "    <tr>\n",
       "      <th>MAX_RT_ANNUAL</th>\n",
       "      <td>-0.305592</td>\n",
       "      <td>3.718490e-215</td>\n",
       "    </tr>\n",
       "    <tr>\n",
       "      <th>EXT_FUNC_ID_SFI_le</th>\n",
       "      <td>-0.291676</td>\n",
       "      <td>2.528249e-195</td>\n",
       "    </tr>\n",
       "    <tr>\n",
       "      <th>EFUNCCNT1</th>\n",
       "      <td>-0.279225</td>\n",
       "      <td>1.673731e-178</td>\n",
       "    </tr>\n",
       "    <tr>\n",
       "      <th>DEPTCNT1</th>\n",
       "      <td>-0.269698</td>\n",
       "      <td>3.291519e-166</td>\n",
       "    </tr>\n",
       "    <tr>\n",
       "      <th>MERIT1</th>\n",
       "      <td>-0.268260</td>\n",
       "      <td>2.141137e-164</td>\n",
       "    </tr>\n",
       "    <tr>\n",
       "      <th>FULL_PART_TIME_F</th>\n",
       "      <td>-0.262572</td>\n",
       "      <td>2.465567e-157</td>\n",
       "    </tr>\n",
       "    <tr>\n",
       "      <th>JOBCNT1</th>\n",
       "      <td>-0.243666</td>\n",
       "      <td>4.250103e-135</td>\n",
       "    </tr>\n",
       "    <tr>\n",
       "      <th>FLSA_STATUS</th>\n",
       "      <td>-0.217633</td>\n",
       "      <td>1.657507e-107</td>\n",
       "    </tr>\n",
       "    <tr>\n",
       "      <th>SUPVCNT1</th>\n",
       "      <td>-0.215726</td>\n",
       "      <td>1.274030e-105</td>\n",
       "    </tr>\n",
       "    <tr>\n",
       "      <th>EMPL_TYPE_H</th>\n",
       "      <td>0.214477</td>\n",
       "      <td>2.143215e-104</td>\n",
       "    </tr>\n",
       "    <tr>\n",
       "      <th>hourly_comp</th>\n",
       "      <td>0.206006</td>\n",
       "      <td>2.747964e-96</td>\n",
       "    </tr>\n",
       "    <tr>\n",
       "      <th>HUBIND</th>\n",
       "      <td>-0.190186</td>\n",
       "      <td>4.347862e-82</td>\n",
       "    </tr>\n",
       "    <tr>\n",
       "      <th>EXTFUNC_CNT</th>\n",
       "      <td>0.185250</td>\n",
       "      <td>6.607913e-78</td>\n",
       "    </tr>\n",
       "    <tr>\n",
       "      <th>STD_HOURS</th>\n",
       "      <td>-0.184858</td>\n",
       "      <td>1.402073e-77</td>\n",
       "    </tr>\n",
       "    <tr>\n",
       "      <th>EMPL_TYPE_S</th>\n",
       "      <td>-0.182519</td>\n",
       "      <td>1.211496e-75</td>\n",
       "    </tr>\n",
       "    <tr>\n",
       "      <th>FTE</th>\n",
       "      <td>-0.181724</td>\n",
       "      <td>5.436142e-75</td>\n",
       "    </tr>\n",
       "    <tr>\n",
       "      <th>FULL_PART_TIME_P</th>\n",
       "      <td>0.181706</td>\n",
       "      <td>5.621028e-75</td>\n",
       "    </tr>\n",
       "    <tr>\n",
       "      <th>EEO1CODE_2</th>\n",
       "      <td>-0.180886</td>\n",
       "      <td>2.624274e-74</td>\n",
       "    </tr>\n",
       "    <tr>\n",
       "      <th>PERF1_d</th>\n",
       "      <td>0.178740</td>\n",
       "      <td>1.431862e-72</td>\n",
       "    </tr>\n",
       "    <tr>\n",
       "      <th>MERIT1_d</th>\n",
       "      <td>0.178740</td>\n",
       "      <td>1.431862e-72</td>\n",
       "    </tr>\n",
       "    <tr>\n",
       "      <th>REMOTE</th>\n",
       "      <td>-0.173006</td>\n",
       "      <td>4.884442e-68</td>\n",
       "    </tr>\n",
       "    <tr>\n",
       "      <th>EEO1CODE_5</th>\n",
       "      <td>0.170398</td>\n",
       "      <td>4.998244e-66</td>\n",
       "    </tr>\n",
       "    <tr>\n",
       "      <th>EMPL_CLASS_D</th>\n",
       "      <td>0.165693</td>\n",
       "      <td>1.752227e-62</td>\n",
       "    </tr>\n",
       "    <tr>\n",
       "      <th>surv_flor_sfi_le</th>\n",
       "      <td>-0.165318</td>\n",
       "      <td>3.325336e-62</td>\n",
       "    </tr>\n",
       "    <tr>\n",
       "      <th>EMPL_CLASS_1</th>\n",
       "      <td>-0.163646</td>\n",
       "      <td>5.669726e-61</td>\n",
       "    </tr>\n",
       "    <tr>\n",
       "      <th>FULL_PART_TIME_X</th>\n",
       "      <td>0.163445</td>\n",
       "      <td>7.957831e-61</td>\n",
       "    </tr>\n",
       "    <tr>\n",
       "      <th>EMPL_TYPE_N</th>\n",
       "      <td>0.162457</td>\n",
       "      <td>4.179028e-60</td>\n",
       "    </tr>\n",
       "    <tr>\n",
       "      <th>FUNCCNT1</th>\n",
       "      <td>-0.162446</td>\n",
       "      <td>4.255777e-60</td>\n",
       "    </tr>\n",
       "    <tr>\n",
       "      <th>LOCCNT1</th>\n",
       "      <td>-0.156540</td>\n",
       "      <td>6.957080e-56</td>\n",
       "    </tr>\n",
       "    <tr>\n",
       "      <th>EEO1CODE_4</th>\n",
       "      <td>0.145269</td>\n",
       "      <td>2.703419e-48</td>\n",
       "    </tr>\n",
       "    <tr>\n",
       "      <th>LOC_TYPE_DESCR_SFI_le</th>\n",
       "      <td>-0.138961</td>\n",
       "      <td>2.653634e-44</td>\n",
       "    </tr>\n",
       "    <tr>\n",
       "      <th>EEO1CODE_1</th>\n",
       "      <td>-0.137737</td>\n",
       "      <td>1.504107e-43</td>\n",
       "    </tr>\n",
       "    <tr>\n",
       "      <th>FUNC_CNT</th>\n",
       "      <td>-0.129421</td>\n",
       "      <td>1.303450e-38</td>\n",
       "    </tr>\n",
       "    <tr>\n",
       "      <th>DIRECT_RPT_CNT</th>\n",
       "      <td>0.113128</td>\n",
       "      <td>7.605733e-30</td>\n",
       "    </tr>\n",
       "    <tr>\n",
       "      <th>FLOORCNT1</th>\n",
       "      <td>-0.110081</td>\n",
       "      <td>2.443120e-28</td>\n",
       "    </tr>\n",
       "    <tr>\n",
       "      <th>DIVISION_CODE_SFI_9.0</th>\n",
       "      <td>-0.104754</td>\n",
       "      <td>8.366910e-26</td>\n",
       "    </tr>\n",
       "    <tr>\n",
       "      <th>ADDRCNT1</th>\n",
       "      <td>-0.100705</td>\n",
       "      <td>5.820955e-24</td>\n",
       "    </tr>\n",
       "    <tr>\n",
       "      <th>GRADECNT1</th>\n",
       "      <td>-0.100114</td>\n",
       "      <td>1.065318e-23</td>\n",
       "    </tr>\n",
       "    <tr>\n",
       "      <th>INTERN</th>\n",
       "      <td>0.099686</td>\n",
       "      <td>1.648106e-23</td>\n",
       "    </tr>\n",
       "    <tr>\n",
       "      <th>SUPV_DIFF_LOC</th>\n",
       "      <td>-0.095428</td>\n",
       "      <td>1.139308e-21</td>\n",
       "    </tr>\n",
       "    <tr>\n",
       "      <th>LOCSTCNT1</th>\n",
       "      <td>-0.090388</td>\n",
       "      <td>1.350635e-19</td>\n",
       "    </tr>\n",
       "    <tr>\n",
       "      <th>REMOTE_SUPV</th>\n",
       "      <td>-0.085662</td>\n",
       "      <td>9.416130e-18</td>\n",
       "    </tr>\n",
       "    <tr>\n",
       "      <th>EEO1CODE_3</th>\n",
       "      <td>0.083832</td>\n",
       "      <td>4.584372e-17</td>\n",
       "    </tr>\n",
       "    <tr>\n",
       "      <th>RELO_STATE_CNT_SFI</th>\n",
       "      <td>-0.083760</td>\n",
       "      <td>4.873337e-17</td>\n",
       "    </tr>\n",
       "    <tr>\n",
       "      <th>SHIFT</th>\n",
       "      <td>-0.083341</td>\n",
       "      <td>6.966948e-17</td>\n",
       "    </tr>\n",
       "    <tr>\n",
       "      <th>ETHNIC_GROUP_1.0</th>\n",
       "      <td>-0.076060</td>\n",
       "      <td>2.614174e-14</td>\n",
       "    </tr>\n",
       "    <tr>\n",
       "      <th>RELOCATE_ALL_SFI</th>\n",
       "      <td>-0.070080</td>\n",
       "      <td>2.287818e-12</td>\n",
       "    </tr>\n",
       "    <tr>\n",
       "      <th>ETHNIC_GROUP_3.0</th>\n",
       "      <td>0.060952</td>\n",
       "      <td>1.059725e-09</td>\n",
       "    </tr>\n",
       "    <tr>\n",
       "      <th>DIVISION_CODE_SFI_1.0</th>\n",
       "      <td>0.054964</td>\n",
       "      <td>3.800836e-08</td>\n",
       "    </tr>\n",
       "    <tr>\n",
       "      <th>ETHNIC_GROUP_2.0</th>\n",
       "      <td>0.051920</td>\n",
       "      <td>2.049174e-07</td>\n",
       "    </tr>\n",
       "    <tr>\n",
       "      <th>DIVISION_CODE_SFI_4.0</th>\n",
       "      <td>0.050284</td>\n",
       "      <td>4.880123e-07</td>\n",
       "    </tr>\n",
       "    <tr>\n",
       "      <th>Male</th>\n",
       "      <td>-0.048316</td>\n",
       "      <td>1.339615e-06</td>\n",
       "    </tr>\n",
       "    <tr>\n",
       "      <th>FTPTCNT1</th>\n",
       "      <td>0.047407</td>\n",
       "      <td>2.108316e-06</td>\n",
       "    </tr>\n",
       "    <tr>\n",
       "      <th>FULLPART1</th>\n",
       "      <td>0.047407</td>\n",
       "      <td>2.108316e-06</td>\n",
       "    </tr>\n",
       "    <tr>\n",
       "      <th>EMPL_CLASS_3</th>\n",
       "      <td>0.045720</td>\n",
       "      <td>4.788110e-06</td>\n",
       "    </tr>\n",
       "    <tr>\n",
       "      <th>DIVISION_CODE_SFI_2.0</th>\n",
       "      <td>0.045037</td>\n",
       "      <td>6.623599e-06</td>\n",
       "    </tr>\n",
       "    <tr>\n",
       "      <th>EEO1CODE_7</th>\n",
       "      <td>0.039638</td>\n",
       "      <td>7.343047e-05</td>\n",
       "    </tr>\n",
       "    <tr>\n",
       "      <th>DIVISION_CODE_SFI_3.0</th>\n",
       "      <td>0.038607</td>\n",
       "      <td>1.125980e-04</td>\n",
       "    </tr>\n",
       "    <tr>\n",
       "      <th>DIVISION_CODE_SFI_6.0</th>\n",
       "      <td>0.037795</td>\n",
       "      <td>1.566112e-04</td>\n",
       "    </tr>\n",
       "    <tr>\n",
       "      <th>REH_CNT</th>\n",
       "      <td>0.032990</td>\n",
       "      <td>9.686849e-04</td>\n",
       "    </tr>\n",
       "    <tr>\n",
       "      <th>ETHNIC_GROUP_8.0</th>\n",
       "      <td>-0.031572</td>\n",
       "      <td>1.590830e-03</td>\n",
       "    </tr>\n",
       "    <tr>\n",
       "      <th>COMPANY_5</th>\n",
       "      <td>-0.031007</td>\n",
       "      <td>1.928510e-03</td>\n",
       "    </tr>\n",
       "    <tr>\n",
       "      <th>LOC_STATE_le</th>\n",
       "      <td>0.029949</td>\n",
       "      <td>2.742706e-03</td>\n",
       "    </tr>\n",
       "    <tr>\n",
       "      <th>COMPANY_2</th>\n",
       "      <td>0.028994</td>\n",
       "      <td>3.735732e-03</td>\n",
       "    </tr>\n",
       "    <tr>\n",
       "      <th>COMPANY_49</th>\n",
       "      <td>0.024877</td>\n",
       "      <td>1.285455e-02</td>\n",
       "    </tr>\n",
       "    <tr>\n",
       "      <th>DIVISION_CODE_SFI_5.0</th>\n",
       "      <td>0.024423</td>\n",
       "      <td>1.459136e-02</td>\n",
       "    </tr>\n",
       "    <tr>\n",
       "      <th>COMPANY_1</th>\n",
       "      <td>0.024326</td>\n",
       "      <td>1.498663e-02</td>\n",
       "    </tr>\n",
       "    <tr>\n",
       "      <th>ETHNIC_GROUP_4.0</th>\n",
       "      <td>0.023383</td>\n",
       "      <td>1.937054e-02</td>\n",
       "    </tr>\n",
       "    <tr>\n",
       "      <th>JOBCODE_le</th>\n",
       "      <td>0.021675</td>\n",
       "      <td>3.019652e-02</td>\n",
       "    </tr>\n",
       "    <tr>\n",
       "      <th>EEO1CODE_6</th>\n",
       "      <td>0.021611</td>\n",
       "      <td>3.069159e-02</td>\n",
       "    </tr>\n",
       "    <tr>\n",
       "      <th>ADDRCNT1_d</th>\n",
       "      <td>0.018093</td>\n",
       "      <td>7.041828e-02</td>\n",
       "    </tr>\n",
       "    <tr>\n",
       "      <th>TOTAL_RPT_CNT</th>\n",
       "      <td>-0.017827</td>\n",
       "      <td>7.464704e-02</td>\n",
       "    </tr>\n",
       "    <tr>\n",
       "      <th>PARTFULL1</th>\n",
       "      <td>0.017495</td>\n",
       "      <td>8.022783e-02</td>\n",
       "    </tr>\n",
       "    <tr>\n",
       "      <th>PTFTCNT1</th>\n",
       "      <td>0.017495</td>\n",
       "      <td>8.022783e-02</td>\n",
       "    </tr>\n",
       "    <tr>\n",
       "      <th>EMPL_CLASS_4</th>\n",
       "      <td>-0.017484</td>\n",
       "      <td>8.040715e-02</td>\n",
       "    </tr>\n",
       "    <tr>\n",
       "      <th>EMPL_TYPE_E</th>\n",
       "      <td>-0.015923</td>\n",
       "      <td>1.113290e-01</td>\n",
       "    </tr>\n",
       "    <tr>\n",
       "      <th>ETHNIC_GROUP_5.0</th>\n",
       "      <td>-0.008519</td>\n",
       "      <td>3.943263e-01</td>\n",
       "    </tr>\n",
       "    <tr>\n",
       "      <th>DIVISION_CODE_SFI_0.0</th>\n",
       "      <td>0.007852</td>\n",
       "      <td>4.323596e-01</td>\n",
       "    </tr>\n",
       "    <tr>\n",
       "      <th>ETHNIC_GROUP_7.0</th>\n",
       "      <td>-0.007316</td>\n",
       "      <td>4.644452e-01</td>\n",
       "    </tr>\n",
       "    <tr>\n",
       "      <th>EMPL_CLASS_5</th>\n",
       "      <td>NaN</td>\n",
       "      <td>1.000000e+00</td>\n",
       "    </tr>\n",
       "    <tr>\n",
       "      <th>EEO1CODE_8</th>\n",
       "      <td>NaN</td>\n",
       "      <td>1.000000e+00</td>\n",
       "    </tr>\n",
       "    <tr>\n",
       "      <th>EEO1CODE_N</th>\n",
       "      <td>NaN</td>\n",
       "      <td>1.000000e+00</td>\n",
       "    </tr>\n",
       "    <tr>\n",
       "      <th>COMPANY_4</th>\n",
       "      <td>NaN</td>\n",
       "      <td>1.000000e+00</td>\n",
       "    </tr>\n",
       "  </tbody>\n",
       "</table>"
      ],
      "text/plain": [
       "<IPython.core.display.HTML object>"
      ]
     },
     "metadata": {},
     "output_type": "display_data"
    },
    {
     "data": {
      "text/html": [
       "<h3>Benchmark on a small sample (sample size: 5000)</h3>"
      ],
      "text/plain": [
       "<IPython.core.display.HTML object>"
      ]
     },
     "metadata": {},
     "output_type": "display_data"
    },
    {
     "data": {
      "text/html": [
       "<br>Problem type classification</br>"
      ],
      "text/plain": [
       "<IPython.core.display.HTML object>"
      ]
     },
     "metadata": {},
     "output_type": "display_data"
    },
    {
     "data": {
      "text/html": [
       "<br>C-stat of simple random forest: 0.987</br>"
      ],
      "text/plain": [
       "<IPython.core.display.HTML object>"
      ]
     },
     "metadata": {},
     "output_type": "display_data"
    },
    {
     "data": {
      "image/png": "[encoded data removed]",
      "text/plain": [
       "<matplotlib.figure.Figure at 0x7f763afe5510>"
      ]
     },
     "metadata": {},
     "output_type": "display_data"
    },
    {
     "data": {
      "text/html": [
       "<h2>Testing data</h2>"
      ],
      "text/plain": [
       "<IPython.core.display.HTML object>"
      ]
     },
     "metadata": {},
     "output_type": "display_data"
    },
    {
     "data": {
      "text/html": [
       "<br>Shape of the data: 26848 rows 96 columns</br>"
      ],
      "text/plain": [
       "<IPython.core.display.HTML object>"
      ]
     },
     "metadata": {},
     "output_type": "display_data"
    },
    {
     "data": {
      "text/html": [
       "<br>Rows to scan: 10000</br>"
      ],
      "text/plain": [
       "<IPython.core.display.HTML object>"
      ]
     },
     "metadata": {},
     "output_type": "display_data"
    },
    {
     "data": {
      "text/html": [
       "<h3>Percentage of missing values</h3>"
      ],
      "text/plain": [
       "<IPython.core.display.HTML object>"
      ]
     },
     "metadata": {},
     "output_type": "display_data"
    },
    {
     "data": {
      "text/html": [
       "<table border=\"1\" class=\"dataframe\">\n",
       "  <thead>\n",
       "    <tr style=\"text-align: right;\">\n",
       "      <th></th>\n",
       "      <th>Percentage</th>\n",
       "    </tr>\n",
       "  </thead>\n",
       "  <tbody>\n",
       "  </tbody>\n",
       "</table>"
      ],
      "text/plain": [
       "<IPython.core.display.HTML object>"
      ]
     },
     "metadata": {},
     "output_type": "display_data"
    },
    {
     "data": {
      "text/html": [
       "<h3>Numeric columns</h3>"
      ],
      "text/plain": [
       "<IPython.core.display.HTML object>"
      ]
     },
     "metadata": {},
     "output_type": "display_data"
    },
    {
     "data": {
      "text/html": [
       "<br>Columns having different distribution in training and testing (at 0.05 critical value)</br>"
      ],
      "text/plain": [
       "<IPython.core.display.HTML object>"
      ]
     },
     "metadata": {},
     "output_type": "display_data"
    },
    {
     "name": "stdout",
     "output_type": "stream",
     "text": [
      "['surv_job_family_le']\n"
     ]
    },
    {
     "data": {
      "text/html": [
       "<h3>Categorical columns</h3>"
      ],
      "text/plain": [
       "<IPython.core.display.HTML object>"
      ]
     },
     "metadata": {},
     "output_type": "display_data"
    },
    {
     "data": {
      "text/html": [
       "<h2>Potential issues</h2>"
      ],
      "text/plain": [
       "<IPython.core.display.HTML object>"
      ]
     },
     "metadata": {},
     "output_type": "display_data"
    },
    {
     "data": {
      "text/html": [
       "<br>Columns with all missing values:</br>"
      ],
      "text/plain": [
       "<IPython.core.display.HTML object>"
      ]
     },
     "metadata": {},
     "output_type": "display_data"
    },
    {
     "name": "stdout",
     "output_type": "stream",
     "text": [
      "[]\n"
     ]
    },
    {
     "data": {
      "text/html": [
       "<br>Columns with only one value:</br>"
      ],
      "text/plain": [
       "<IPython.core.display.HTML object>"
      ]
     },
     "metadata": {},
     "output_type": "display_data"
    },
    {
     "name": "stdout",
     "output_type": "stream",
     "text": [
      "['EMPL_CLASS_5', 'EEO1CODE_8', 'EEO1CODE_N', 'COMPANY_4']\n"
     ]
    },
    {
     "data": {
      "text/html": [
       "<br>Columns with perfect collinearity problem</br>"
      ],
      "text/plain": [
       "<IPython.core.display.HTML object>"
      ]
     },
     "metadata": {},
     "output_type": "display_data"
    },
    {
     "name": "stdout",
     "output_type": "stream",
     "text": [
      "['FULLPART1', 'PTFTCNT1', 'PARTFULL1', 'FTPTCNT1', 'EMPL_CLASS_1', 'EMPL_CLASS_D', 'EMPL_CLASS_3', 'EMPL_CLASS_4', 'EMPL_CLASS_5', 'EEO1CODE_3', 'EEO1CODE_4', 'EEO1CODE_2', 'EEO1CODE_5', 'EEO1CODE_1', 'EEO1CODE_6', 'EEO1CODE_7', 'EEO1CODE_8', 'EEO1CODE_N', 'COMPANY_1', 'COMPANY_5', 'COMPANY_49', 'COMPANY_2', 'COMPANY_4', 'MERIT1_d', 'PERF1_d']\n"
     ]
    },
    {
     "data": {
      "text/html": [
       "<br>Columns having missing values in testing but having not in training</br>"
      ],
      "text/plain": [
       "<IPython.core.display.HTML object>"
      ]
     },
     "metadata": {},
     "output_type": "display_data"
    },
    {
     "name": "stdout",
     "output_type": "stream",
     "text": [
      "[]\n"
     ]
    },
    {
     "data": {
      "text/html": [
       "<br>Columns in training but not in testing</br>"
      ],
      "text/plain": [
       "<IPython.core.display.HTML object>"
      ]
     },
     "metadata": {},
     "output_type": "display_data"
    },
    {
     "name": "stdout",
     "output_type": "stream",
     "text": [
      "[]\n"
     ]
    },
    {
     "data": {
      "text/html": [
       "<br>Columns in testing but not in training</br>"
      ],
      "text/plain": [
       "<IPython.core.display.HTML object>"
      ]
     },
     "metadata": {},
     "output_type": "display_data"
    },
    {
     "name": "stdout",
     "output_type": "stream",
     "text": [
      "[]\n"
     ]
    },
    {
     "data": {
      "text/html": [
       "<div>\n",
       "<table border=\"1\" class=\"dataframe\">\n",
       "  <thead>\n",
       "    <tr style=\"text-align: right;\">\n",
       "      <th></th>\n",
       "      <th>Importance</th>\n",
       "    </tr>\n",
       "  </thead>\n",
       "  <tbody>\n",
       "    <tr>\n",
       "      <th>HAVE_INS</th>\n",
       "      <td>0.118581</td>\n",
       "    </tr>\n",
       "    <tr>\n",
       "      <th>FUNC_CNT</th>\n",
       "      <td>0.080328</td>\n",
       "    </tr>\n",
       "    <tr>\n",
       "      <th>Age_years</th>\n",
       "      <td>0.074920</td>\n",
       "    </tr>\n",
       "    <tr>\n",
       "      <th>PERF1</th>\n",
       "      <td>0.068262</td>\n",
       "    </tr>\n",
       "    <tr>\n",
       "      <th>Tenure_years</th>\n",
       "      <td>0.063081</td>\n",
       "    </tr>\n",
       "    <tr>\n",
       "      <th>MIN_RT_ANNUAL</th>\n",
       "      <td>0.058396</td>\n",
       "    </tr>\n",
       "    <tr>\n",
       "      <th>EXT_FUNC_ID_SFI_le</th>\n",
       "      <td>0.044202</td>\n",
       "    </tr>\n",
       "    <tr>\n",
       "      <th>MAX_RT_ANNUAL</th>\n",
       "      <td>0.038865</td>\n",
       "    </tr>\n",
       "    <tr>\n",
       "      <th>EXTFUNC_CNT</th>\n",
       "      <td>0.033692</td>\n",
       "    </tr>\n",
       "    <tr>\n",
       "      <th>SAL1</th>\n",
       "      <td>0.031311</td>\n",
       "    </tr>\n",
       "    <tr>\n",
       "      <th>BOX1</th>\n",
       "      <td>0.030079</td>\n",
       "    </tr>\n",
       "    <tr>\n",
       "      <th>HAVE_DEP</th>\n",
       "      <td>0.028867</td>\n",
       "    </tr>\n",
       "    <tr>\n",
       "      <th>surv_grade_le</th>\n",
       "      <td>0.025321</td>\n",
       "    </tr>\n",
       "    <tr>\n",
       "      <th>RATE1</th>\n",
       "      <td>0.022259</td>\n",
       "    </tr>\n",
       "    <tr>\n",
       "      <th>MERIT1</th>\n",
       "      <td>0.021779</td>\n",
       "    </tr>\n",
       "    <tr>\n",
       "      <th>surv_func_id_sfi_le</th>\n",
       "      <td>0.019001</td>\n",
       "    </tr>\n",
       "    <tr>\n",
       "      <th>surv_job_family_le</th>\n",
       "      <td>0.016932</td>\n",
       "    </tr>\n",
       "    <tr>\n",
       "      <th>JOBCODE_le</th>\n",
       "      <td>0.016205</td>\n",
       "    </tr>\n",
       "    <tr>\n",
       "      <th>TOTAL_RPT_CNT</th>\n",
       "      <td>0.014281</td>\n",
       "    </tr>\n",
       "    <tr>\n",
       "      <th>surv_job_function_le</th>\n",
       "      <td>0.013113</td>\n",
       "    </tr>\n",
       "    <tr>\n",
       "      <th>DIRECT_RPT_CNT</th>\n",
       "      <td>0.012582</td>\n",
       "    </tr>\n",
       "    <tr>\n",
       "      <th>SUPVCNT1</th>\n",
       "      <td>0.012425</td>\n",
       "    </tr>\n",
       "    <tr>\n",
       "      <th>ADDRCNT1</th>\n",
       "      <td>0.011441</td>\n",
       "    </tr>\n",
       "    <tr>\n",
       "      <th>EFUNCCNT1</th>\n",
       "      <td>0.009838</td>\n",
       "    </tr>\n",
       "    <tr>\n",
       "      <th>LOC_STATE_le</th>\n",
       "      <td>0.009226</td>\n",
       "    </tr>\n",
       "    <tr>\n",
       "      <th>RELO_STATE_CNT_SFI</th>\n",
       "      <td>0.008938</td>\n",
       "    </tr>\n",
       "    <tr>\n",
       "      <th>LOC_TYPE_DESCR_SFI_le</th>\n",
       "      <td>0.008880</td>\n",
       "    </tr>\n",
       "    <tr>\n",
       "      <th>DEPTCNT1</th>\n",
       "      <td>0.008476</td>\n",
       "    </tr>\n",
       "    <tr>\n",
       "      <th>HUBIND</th>\n",
       "      <td>0.008400</td>\n",
       "    </tr>\n",
       "    <tr>\n",
       "      <th>JOBCNT1</th>\n",
       "      <td>0.007778</td>\n",
       "    </tr>\n",
       "    <tr>\n",
       "      <th>...</th>\n",
       "      <td>...</td>\n",
       "    </tr>\n",
       "    <tr>\n",
       "      <th>DIVISION_CODE_SFI_1.0</th>\n",
       "      <td>0.000731</td>\n",
       "    </tr>\n",
       "    <tr>\n",
       "      <th>ETHNIC_GROUP_8.0</th>\n",
       "      <td>0.000681</td>\n",
       "    </tr>\n",
       "    <tr>\n",
       "      <th>DIVISION_CODE_SFI_5.0</th>\n",
       "      <td>0.000669</td>\n",
       "    </tr>\n",
       "    <tr>\n",
       "      <th>DIVISION_CODE_SFI_4.0</th>\n",
       "      <td>0.000665</td>\n",
       "    </tr>\n",
       "    <tr>\n",
       "      <th>REMOTE_SUPV</th>\n",
       "      <td>0.000642</td>\n",
       "    </tr>\n",
       "    <tr>\n",
       "      <th>DIVISION_CODE_SFI_3.0</th>\n",
       "      <td>0.000590</td>\n",
       "    </tr>\n",
       "    <tr>\n",
       "      <th>PTFTCNT1</th>\n",
       "      <td>0.000562</td>\n",
       "    </tr>\n",
       "    <tr>\n",
       "      <th>FULL_PART_TIME_P</th>\n",
       "      <td>0.000557</td>\n",
       "    </tr>\n",
       "    <tr>\n",
       "      <th>DIVISION_CODE_SFI_6.0</th>\n",
       "      <td>0.000481</td>\n",
       "    </tr>\n",
       "    <tr>\n",
       "      <th>PARTFULL1</th>\n",
       "      <td>0.000473</td>\n",
       "    </tr>\n",
       "    <tr>\n",
       "      <th>FLOORCNT1</th>\n",
       "      <td>0.000464</td>\n",
       "    </tr>\n",
       "    <tr>\n",
       "      <th>LOCSTCNT1</th>\n",
       "      <td>0.000372</td>\n",
       "    </tr>\n",
       "    <tr>\n",
       "      <th>EEO1CODE_6</th>\n",
       "      <td>0.000355</td>\n",
       "    </tr>\n",
       "    <tr>\n",
       "      <th>ETHNIC_GROUP_5.0</th>\n",
       "      <td>0.000343</td>\n",
       "    </tr>\n",
       "    <tr>\n",
       "      <th>ETHNIC_GROUP_7.0</th>\n",
       "      <td>0.000326</td>\n",
       "    </tr>\n",
       "    <tr>\n",
       "      <th>SHIFT</th>\n",
       "      <td>0.000298</td>\n",
       "    </tr>\n",
       "    <tr>\n",
       "      <th>EMPL_CLASS_4</th>\n",
       "      <td>0.000276</td>\n",
       "    </tr>\n",
       "    <tr>\n",
       "      <th>EMPL_CLASS_D</th>\n",
       "      <td>0.000236</td>\n",
       "    </tr>\n",
       "    <tr>\n",
       "      <th>EEO1CODE_7</th>\n",
       "      <td>0.000157</td>\n",
       "    </tr>\n",
       "    <tr>\n",
       "      <th>COMPANY_49</th>\n",
       "      <td>0.000145</td>\n",
       "    </tr>\n",
       "    <tr>\n",
       "      <th>FULLPART1</th>\n",
       "      <td>0.000120</td>\n",
       "    </tr>\n",
       "    <tr>\n",
       "      <th>FTPTCNT1</th>\n",
       "      <td>0.000068</td>\n",
       "    </tr>\n",
       "    <tr>\n",
       "      <th>COMPANY_2</th>\n",
       "      <td>0.000052</td>\n",
       "    </tr>\n",
       "    <tr>\n",
       "      <th>FULL_PART_TIME_X</th>\n",
       "      <td>0.000008</td>\n",
       "    </tr>\n",
       "    <tr>\n",
       "      <th>EMPL_TYPE_N</th>\n",
       "      <td>0.000006</td>\n",
       "    </tr>\n",
       "    <tr>\n",
       "      <th>EEO1CODE_N</th>\n",
       "      <td>0.000000</td>\n",
       "    </tr>\n",
       "    <tr>\n",
       "      <th>EEO1CODE_8</th>\n",
       "      <td>0.000000</td>\n",
       "    </tr>\n",
       "    <tr>\n",
       "      <th>EMPL_CLASS_5</th>\n",
       "      <td>0.000000</td>\n",
       "    </tr>\n",
       "    <tr>\n",
       "      <th>COMPANY_4</th>\n",
       "      <td>0.000000</td>\n",
       "    </tr>\n",
       "    <tr>\n",
       "      <th>ADDRCNT1_d</th>\n",
       "      <td>0.000000</td>\n",
       "    </tr>\n",
       "  </tbody>\n",
       "</table>\n",
       "<p>96 rows × 1 columns</p>\n",
       "</div>"
      ],
      "text/plain": [
       "                       Importance\n",
       "HAVE_INS                 0.118581\n",
       "FUNC_CNT                 0.080328\n",
       "Age_years                0.074920\n",
       "PERF1                    0.068262\n",
       "Tenure_years             0.063081\n",
       "MIN_RT_ANNUAL            0.058396\n",
       "EXT_FUNC_ID_SFI_le       0.044202\n",
       "MAX_RT_ANNUAL            0.038865\n",
       "EXTFUNC_CNT              0.033692\n",
       "SAL1                     0.031311\n",
       "BOX1                     0.030079\n",
       "HAVE_DEP                 0.028867\n",
       "surv_grade_le            0.025321\n",
       "RATE1                    0.022259\n",
       "MERIT1                   0.021779\n",
       "surv_func_id_sfi_le      0.019001\n",
       "surv_job_family_le       0.016932\n",
       "JOBCODE_le               0.016205\n",
       "TOTAL_RPT_CNT            0.014281\n",
       "surv_job_function_le     0.013113\n",
       "DIRECT_RPT_CNT           0.012582\n",
       "SUPVCNT1                 0.012425\n",
       "ADDRCNT1                 0.011441\n",
       "EFUNCCNT1                0.009838\n",
       "LOC_STATE_le             0.009226\n",
       "RELO_STATE_CNT_SFI       0.008938\n",
       "LOC_TYPE_DESCR_SFI_le    0.008880\n",
       "DEPTCNT1                 0.008476\n",
       "HUBIND                   0.008400\n",
       "JOBCNT1                  0.007778\n",
       "...                           ...\n",
       "DIVISION_CODE_SFI_1.0    0.000731\n",
       "ETHNIC_GROUP_8.0         0.000681\n",
       "DIVISION_CODE_SFI_5.0    0.000669\n",
       "DIVISION_CODE_SFI_4.0    0.000665\n",
       "REMOTE_SUPV              0.000642\n",
       "DIVISION_CODE_SFI_3.0    0.000590\n",
       "PTFTCNT1                 0.000562\n",
       "FULL_PART_TIME_P         0.000557\n",
       "DIVISION_CODE_SFI_6.0    0.000481\n",
       "PARTFULL1                0.000473\n",
       "FLOORCNT1                0.000464\n",
       "LOCSTCNT1                0.000372\n",
       "EEO1CODE_6               0.000355\n",
       "ETHNIC_GROUP_5.0         0.000343\n",
       "ETHNIC_GROUP_7.0         0.000326\n",
       "SHIFT                    0.000298\n",
       "EMPL_CLASS_4             0.000276\n",
       "EMPL_CLASS_D             0.000236\n",
       "EEO1CODE_7               0.000157\n",
       "COMPANY_49               0.000145\n",
       "FULLPART1                0.000120\n",
       "FTPTCNT1                 0.000068\n",
       "COMPANY_2                0.000052\n",
       "FULL_PART_TIME_X         0.000008\n",
       "EMPL_TYPE_N              0.000006\n",
       "EEO1CODE_N               0.000000\n",
       "EEO1CODE_8               0.000000\n",
       "EMPL_CLASS_5             0.000000\n",
       "COMPANY_4                0.000000\n",
       "ADDRCNT1_d               0.000000\n",
       "\n",
       "[96 rows x 1 columns]"
      ]
     },
     "execution_count": 448,
     "metadata": {},
     "output_type": "execute_result"
    }
   ],
   "source": [
    "br.get_initial_analysis(Xft_mincols, y, tXeval_mincols, rows_to_scan=10000, sample_size=5000, random_state=42, cate_cap=10)"
   ]
  },
  {
   "cell_type": "code",
   "execution_count": 449,
   "metadata": {
    "collapsed": false
   },
   "outputs": [
    {
     "data": {
      "text/plain": [
       "['Tenure_years',\n",
       " 'Age_years',\n",
       " 'MAX_RT_ANNUAL',\n",
       " 'MIN_RT_ANNUAL',\n",
       " 'SAL1',\n",
       " 'HAVE_INS',\n",
       " 'HAVE_DEP',\n",
       " 'Male',\n",
       " 'EMPL_TYPE']"
      ]
     },
     "execution_count": 449,
     "metadata": {},
     "output_type": "execute_result"
    }
   ],
   "source": [
    "minimum_cols"
   ]
  },
  {
   "cell_type": "markdown",
   "metadata": {},
   "source": [
    "##Try again using just a very small set of columns"
   ]
  },
  {
   "cell_type": "code",
   "execution_count": 451,
   "metadata": {
    "collapsed": false
   },
   "outputs": [
    {
     "data": {
      "text/html": [
       "<h1>Initial Analysis</h1>"
      ],
      "text/plain": [
       "<IPython.core.display.HTML object>"
      ]
     },
     "metadata": {},
     "output_type": "display_data"
    },
    {
     "data": {
      "text/html": [
       "<h2>Training data</h2>"
      ],
      "text/plain": [
       "<IPython.core.display.HTML object>"
      ]
     },
     "metadata": {},
     "output_type": "display_data"
    },
    {
     "data": {
      "text/html": [
       "<br>Shape of the data: 107388 rows 9 columns</br>"
      ],
      "text/plain": [
       "<IPython.core.display.HTML object>"
      ]
     },
     "metadata": {},
     "output_type": "display_data"
    },
    {
     "data": {
      "text/html": [
       "<br>Rows to scan: 10000</br>"
      ],
      "text/plain": [
       "<IPython.core.display.HTML object>"
      ]
     },
     "metadata": {},
     "output_type": "display_data"
    },
    {
     "data": {
      "text/html": [
       "<h3>Percentage of missing values</h3>"
      ],
      "text/plain": [
       "<IPython.core.display.HTML object>"
      ]
     },
     "metadata": {},
     "output_type": "display_data"
    },
    {
     "data": {
      "text/html": [
       "<table border=\"1\" class=\"dataframe\">\n",
       "  <thead>\n",
       "    <tr style=\"text-align: right;\">\n",
       "      <th></th>\n",
       "      <th>Percentage</th>\n",
       "    </tr>\n",
       "  </thead>\n",
       "  <tbody>\n",
       "  </tbody>\n",
       "</table>"
      ],
      "text/plain": [
       "<IPython.core.display.HTML object>"
      ]
     },
     "metadata": {},
     "output_type": "display_data"
    },
    {
     "data": {
      "text/html": [
       "<h3>Description of numeric columns (8 columns in all)</h3>"
      ],
      "text/plain": [
       "<IPython.core.display.HTML object>"
      ]
     },
     "metadata": {},
     "output_type": "display_data"
    },
    {
     "data": {
      "text/html": [
       "<table border=\"1\" class=\"dataframe\">\n",
       "  <thead>\n",
       "    <tr style=\"text-align: right;\">\n",
       "      <th></th>\n",
       "      <th>Tenure_years</th>\n",
       "      <th>Age_years</th>\n",
       "      <th>MAX_RT_ANNUAL</th>\n",
       "      <th>MIN_RT_ANNUAL</th>\n",
       "      <th>SAL1</th>\n",
       "      <th>HAVE_INS</th>\n",
       "      <th>HAVE_DEP</th>\n",
       "      <th>Male</th>\n",
       "    </tr>\n",
       "  </thead>\n",
       "  <tbody>\n",
       "    <tr>\n",
       "      <th>count</th>\n",
       "      <td>10000.000000</td>\n",
       "      <td>10000.000000</td>\n",
       "      <td>10000.000000</td>\n",
       "      <td>10000.000000</td>\n",
       "      <td>10000.000000</td>\n",
       "      <td>10000.000000</td>\n",
       "      <td>10000.000000</td>\n",
       "      <td>10000.000000</td>\n",
       "    </tr>\n",
       "    <tr>\n",
       "      <th>mean</th>\n",
       "      <td>13.166546</td>\n",
       "      <td>42.491776</td>\n",
       "      <td>69864.911371</td>\n",
       "      <td>39985.908846</td>\n",
       "      <td>54899.123108</td>\n",
       "      <td>0.593200</td>\n",
       "      <td>0.342800</td>\n",
       "      <td>0.376500</td>\n",
       "    </tr>\n",
       "    <tr>\n",
       "      <th>std</th>\n",
       "      <td>11.864066</td>\n",
       "      <td>12.696861</td>\n",
       "      <td>39295.603942</td>\n",
       "      <td>19930.957231</td>\n",
       "      <td>32614.212047</td>\n",
       "      <td>0.491262</td>\n",
       "      <td>0.474669</td>\n",
       "      <td>0.484532</td>\n",
       "    </tr>\n",
       "    <tr>\n",
       "      <th>min</th>\n",
       "      <td>0.000000</td>\n",
       "      <td>16.252216</td>\n",
       "      <td>0.000000</td>\n",
       "      <td>0.000000</td>\n",
       "      <td>6567.600000</td>\n",
       "      <td>0.000000</td>\n",
       "      <td>0.000000</td>\n",
       "      <td>0.000000</td>\n",
       "    </tr>\n",
       "    <tr>\n",
       "      <th>25%</th>\n",
       "      <td>2.327221</td>\n",
       "      <td>31.258684</td>\n",
       "      <td>44058.750000</td>\n",
       "      <td>26574.011000</td>\n",
       "      <td>30960.000000</td>\n",
       "      <td>0.000000</td>\n",
       "      <td>0.000000</td>\n",
       "      <td>0.000000</td>\n",
       "    </tr>\n",
       "    <tr>\n",
       "      <th>50%</th>\n",
       "      <td>9.867417</td>\n",
       "      <td>42.433452</td>\n",
       "      <td>60100.000000</td>\n",
       "      <td>35830.250000</td>\n",
       "      <td>46437.515000</td>\n",
       "      <td>1.000000</td>\n",
       "      <td>0.000000</td>\n",
       "      <td>0.000000</td>\n",
       "    </tr>\n",
       "    <tr>\n",
       "      <th>75%</th>\n",
       "      <td>21.607562</td>\n",
       "      <td>53.309787</td>\n",
       "      <td>86940.000000</td>\n",
       "      <td>49407.680000</td>\n",
       "      <td>73245.142500</td>\n",
       "      <td>1.000000</td>\n",
       "      <td>1.000000</td>\n",
       "      <td>1.000000</td>\n",
       "    </tr>\n",
       "    <tr>\n",
       "      <th>max</th>\n",
       "      <td>56.702054</td>\n",
       "      <td>84.311108</td>\n",
       "      <td>999999.000000</td>\n",
       "      <td>191000.000000</td>\n",
       "      <td>725000.000000</td>\n",
       "      <td>1.000000</td>\n",
       "      <td>1.000000</td>\n",
       "      <td>1.000000</td>\n",
       "    </tr>\n",
       "  </tbody>\n",
       "</table>"
      ],
      "text/plain": [
       "<IPython.core.display.HTML object>"
      ]
     },
     "metadata": {},
     "output_type": "display_data"
    },
    {
     "name": "stdout",
     "output_type": "stream",
     "text": [
      "\n"
     ]
    },
    {
     "data": {
      "text/html": [
       "<h3>Description of categorical columns</h3>"
      ],
      "text/plain": [
       "<IPython.core.display.HTML object>"
      ]
     },
     "metadata": {},
     "output_type": "display_data"
    },
    {
     "data": {
      "text/html": [
       "<table border=\"1\" class=\"dataframe\">\n",
       "  <thead>\n",
       "    <tr style=\"text-align: right;\">\n",
       "      <th></th>\n",
       "      <th></th>\n",
       "      <th>counts</th>\n",
       "    </tr>\n",
       "    <tr>\n",
       "      <th>column</th>\n",
       "      <th>category</th>\n",
       "      <th></th>\n",
       "    </tr>\n",
       "  </thead>\n",
       "  <tbody>\n",
       "    <tr>\n",
       "      <th rowspan=\"5\" valign=\"top\">EMPL_TYPE</th>\n",
       "      <th>E</th>\n",
       "      <td>6423</td>\n",
       "    </tr>\n",
       "    <tr>\n",
       "      <th>S</th>\n",
       "      <td>2423</td>\n",
       "    </tr>\n",
       "    <tr>\n",
       "      <th>H</th>\n",
       "      <td>1034</td>\n",
       "    </tr>\n",
       "    <tr>\n",
       "      <th>N</th>\n",
       "      <td>120</td>\n",
       "    </tr>\n",
       "    <tr>\n",
       "      <th>NaN</th>\n",
       "      <td>0</td>\n",
       "    </tr>\n",
       "  </tbody>\n",
       "</table>"
      ],
      "text/plain": [
       "<IPython.core.display.HTML object>"
      ]
     },
     "metadata": {},
     "output_type": "display_data"
    },
    {
     "data": {
      "text/html": [
       "<h2>Response (y)</h2>"
      ],
      "text/plain": [
       "<IPython.core.display.HTML object>"
      ]
     },
     "metadata": {},
     "output_type": "display_data"
    },
    {
     "data": {
      "text/html": [
       "<h3>Value counts of y</h3>"
      ],
      "text/plain": [
       "<IPython.core.display.HTML object>"
      ]
     },
     "metadata": {},
     "output_type": "display_data"
    },
    {
     "data": {
      "text/html": [
       "<table border=\"1\" class=\"dataframe\">\n",
       "  <thead>\n",
       "    <tr style=\"text-align: right;\">\n",
       "      <th></th>\n",
       "      <th>Counts</th>\n",
       "    </tr>\n",
       "  </thead>\n",
       "  <tbody>\n",
       "    <tr>\n",
       "      <th>0</th>\n",
       "      <td>6219</td>\n",
       "    </tr>\n",
       "    <tr>\n",
       "      <th>1</th>\n",
       "      <td>3781</td>\n",
       "    </tr>\n",
       "  </tbody>\n",
       "</table>"
      ],
      "text/plain": [
       "<IPython.core.display.HTML object>"
      ]
     },
     "metadata": {},
     "output_type": "display_data"
    },
    {
     "data": {
      "text/html": [
       "<h3>Correlation coefficients with numeric columns</h3>"
      ],
      "text/plain": [
       "<IPython.core.display.HTML object>"
      ]
     },
     "metadata": {},
     "output_type": "display_data"
    },
    {
     "data": {
      "text/html": [
       "<table border=\"1\" class=\"dataframe\">\n",
       "  <thead>\n",
       "    <tr style=\"text-align: right;\">\n",
       "      <th></th>\n",
       "      <th>corr</th>\n",
       "      <th>p-value</th>\n",
       "    </tr>\n",
       "  </thead>\n",
       "  <tbody>\n",
       "    <tr>\n",
       "      <th>HAVE_INS</th>\n",
       "      <td>-0.578862</td>\n",
       "      <td>0.000000e+00</td>\n",
       "    </tr>\n",
       "    <tr>\n",
       "      <th>Age_years</th>\n",
       "      <td>-0.432264</td>\n",
       "      <td>0.000000e+00</td>\n",
       "    </tr>\n",
       "    <tr>\n",
       "      <th>Tenure_years</th>\n",
       "      <td>-0.420892</td>\n",
       "      <td>0.000000e+00</td>\n",
       "    </tr>\n",
       "    <tr>\n",
       "      <th>MIN_RT_ANNUAL</th>\n",
       "      <td>-0.398999</td>\n",
       "      <td>0.000000e+00</td>\n",
       "    </tr>\n",
       "    <tr>\n",
       "      <th>HAVE_DEP</th>\n",
       "      <td>-0.394561</td>\n",
       "      <td>0.000000e+00</td>\n",
       "    </tr>\n",
       "    <tr>\n",
       "      <th>SAL1</th>\n",
       "      <td>-0.379846</td>\n",
       "      <td>0.000000e+00</td>\n",
       "    </tr>\n",
       "    <tr>\n",
       "      <th>MAX_RT_ANNUAL</th>\n",
       "      <td>-0.307742</td>\n",
       "      <td>2.554839e-218</td>\n",
       "    </tr>\n",
       "    <tr>\n",
       "      <th>Male</th>\n",
       "      <td>-0.054288</td>\n",
       "      <td>5.568476e-08</td>\n",
       "    </tr>\n",
       "  </tbody>\n",
       "</table>"
      ],
      "text/plain": [
       "<IPython.core.display.HTML object>"
      ]
     },
     "metadata": {},
     "output_type": "display_data"
    },
    {
     "data": {
      "text/html": [
       "<h3>Benchmark on a small sample (sample size: 3000)</h3>"
      ],
      "text/plain": [
       "<IPython.core.display.HTML object>"
      ]
     },
     "metadata": {},
     "output_type": "display_data"
    },
    {
     "data": {
      "text/html": [
       "<br>Problem type classification</br>"
      ],
      "text/plain": [
       "<IPython.core.display.HTML object>"
      ]
     },
     "metadata": {},
     "output_type": "display_data"
    },
    {
     "data": {
      "text/html": [
       "<br>C-stat of simple random forest: 0.944</br>"
      ],
      "text/plain": [
       "<IPython.core.display.HTML object>"
      ]
     },
     "metadata": {},
     "output_type": "display_data"
    },
    {
     "data": {
      "image/png": "[encoded data removed]",
      "text/plain": [
       "<matplotlib.figure.Figure at 0x7f761fab3150>"
      ]
     },
     "metadata": {},
     "output_type": "display_data"
    },
    {
     "data": {
      "text/html": [
       "<h2>Testing data</h2>"
      ],
      "text/plain": [
       "<IPython.core.display.HTML object>"
      ]
     },
     "metadata": {},
     "output_type": "display_data"
    },
    {
     "data": {
      "text/html": [
       "<br>Shape of the data: 26848 rows 9 columns</br>"
      ],
      "text/plain": [
       "<IPython.core.display.HTML object>"
      ]
     },
     "metadata": {},
     "output_type": "display_data"
    },
    {
     "data": {
      "text/html": [
       "<br>Rows to scan: 10000</br>"
      ],
      "text/plain": [
       "<IPython.core.display.HTML object>"
      ]
     },
     "metadata": {},
     "output_type": "display_data"
    },
    {
     "data": {
      "text/html": [
       "<h3>Percentage of missing values</h3>"
      ],
      "text/plain": [
       "<IPython.core.display.HTML object>"
      ]
     },
     "metadata": {},
     "output_type": "display_data"
    },
    {
     "data": {
      "text/html": [
       "<table border=\"1\" class=\"dataframe\">\n",
       "  <thead>\n",
       "    <tr style=\"text-align: right;\">\n",
       "      <th></th>\n",
       "      <th>Percentage</th>\n",
       "    </tr>\n",
       "  </thead>\n",
       "  <tbody>\n",
       "  </tbody>\n",
       "</table>"
      ],
      "text/plain": [
       "<IPython.core.display.HTML object>"
      ]
     },
     "metadata": {},
     "output_type": "display_data"
    },
    {
     "data": {
      "text/html": [
       "<h3>Numeric columns</h3>"
      ],
      "text/plain": [
       "<IPython.core.display.HTML object>"
      ]
     },
     "metadata": {},
     "output_type": "display_data"
    },
    {
     "data": {
      "text/html": [
       "<br>Columns having different distribution in training and testing (at 0.05 critical value)</br>"
      ],
      "text/plain": [
       "<IPython.core.display.HTML object>"
      ]
     },
     "metadata": {},
     "output_type": "display_data"
    },
    {
     "name": "stdout",
     "output_type": "stream",
     "text": [
      "[]\n"
     ]
    },
    {
     "data": {
      "text/html": [
       "<h3>Categorical columns</h3>"
      ],
      "text/plain": [
       "<IPython.core.display.HTML object>"
      ]
     },
     "metadata": {},
     "output_type": "display_data"
    },
    {
     "data": {
      "text/html": [
       "<table border=\"1\" class=\"dataframe\">\n",
       "  <thead>\n",
       "    <tr style=\"text-align: right;\">\n",
       "      <th></th>\n",
       "      <th></th>\n",
       "      <th>counts</th>\n",
       "    </tr>\n",
       "    <tr>\n",
       "      <th>column</th>\n",
       "      <th>category</th>\n",
       "      <th></th>\n",
       "    </tr>\n",
       "  </thead>\n",
       "  <tbody>\n",
       "    <tr>\n",
       "      <th rowspan=\"5\" valign=\"top\">EMPL_TYPE</th>\n",
       "      <th>E</th>\n",
       "      <td>6361</td>\n",
       "    </tr>\n",
       "    <tr>\n",
       "      <th>S</th>\n",
       "      <td>2466</td>\n",
       "    </tr>\n",
       "    <tr>\n",
       "      <th>H</th>\n",
       "      <td>1028</td>\n",
       "    </tr>\n",
       "    <tr>\n",
       "      <th>N</th>\n",
       "      <td>145</td>\n",
       "    </tr>\n",
       "    <tr>\n",
       "      <th>NaN</th>\n",
       "      <td>0</td>\n",
       "    </tr>\n",
       "  </tbody>\n",
       "</table>"
      ],
      "text/plain": [
       "<IPython.core.display.HTML object>"
      ]
     },
     "metadata": {},
     "output_type": "display_data"
    },
    {
     "data": {
      "text/html": [
       "<h2>Potential issues</h2>"
      ],
      "text/plain": [
       "<IPython.core.display.HTML object>"
      ]
     },
     "metadata": {},
     "output_type": "display_data"
    },
    {
     "data": {
      "text/html": [
       "<br>Columns with all missing values:</br>"
      ],
      "text/plain": [
       "<IPython.core.display.HTML object>"
      ]
     },
     "metadata": {},
     "output_type": "display_data"
    },
    {
     "name": "stdout",
     "output_type": "stream",
     "text": [
      "[]\n"
     ]
    },
    {
     "data": {
      "text/html": [
       "<br>Columns with only one value:</br>"
      ],
      "text/plain": [
       "<IPython.core.display.HTML object>"
      ]
     },
     "metadata": {},
     "output_type": "display_data"
    },
    {
     "name": "stdout",
     "output_type": "stream",
     "text": [
      "[]\n"
     ]
    },
    {
     "data": {
      "text/html": [
       "<br>Columns with perfect collinearity problem</br>"
      ],
      "text/plain": [
       "<IPython.core.display.HTML object>"
      ]
     },
     "metadata": {},
     "output_type": "display_data"
    },
    {
     "name": "stdout",
     "output_type": "stream",
     "text": [
      "[]\n"
     ]
    },
    {
     "data": {
      "text/html": [
       "<br>Columns having missing values in testing but having not in training</br>"
      ],
      "text/plain": [
       "<IPython.core.display.HTML object>"
      ]
     },
     "metadata": {},
     "output_type": "display_data"
    },
    {
     "name": "stdout",
     "output_type": "stream",
     "text": [
      "[]\n"
     ]
    },
    {
     "data": {
      "text/html": [
       "<br>Columns in training but not in testing</br>"
      ],
      "text/plain": [
       "<IPython.core.display.HTML object>"
      ]
     },
     "metadata": {},
     "output_type": "display_data"
    },
    {
     "name": "stdout",
     "output_type": "stream",
     "text": [
      "[]\n"
     ]
    },
    {
     "data": {
      "text/html": [
       "<br>Columns in testing but not in training</br>"
      ],
      "text/plain": [
       "<IPython.core.display.HTML object>"
      ]
     },
     "metadata": {},
     "output_type": "display_data"
    },
    {
     "name": "stdout",
     "output_type": "stream",
     "text": [
      "[]\n"
     ]
    },
    {
     "data": {
      "text/html": [
       "<div>\n",
       "<table border=\"1\" class=\"dataframe\">\n",
       "  <thead>\n",
       "    <tr style=\"text-align: right;\">\n",
       "      <th></th>\n",
       "      <th>Importance</th>\n",
       "    </tr>\n",
       "  </thead>\n",
       "  <tbody>\n",
       "    <tr>\n",
       "      <th>MIN_RT_ANNUAL</th>\n",
       "      <td>0.204032</td>\n",
       "    </tr>\n",
       "    <tr>\n",
       "      <th>HAVE_INS</th>\n",
       "      <td>0.200475</td>\n",
       "    </tr>\n",
       "    <tr>\n",
       "      <th>Age_years</th>\n",
       "      <td>0.169064</td>\n",
       "    </tr>\n",
       "    <tr>\n",
       "      <th>Tenure_years</th>\n",
       "      <td>0.143877</td>\n",
       "    </tr>\n",
       "    <tr>\n",
       "      <th>MAX_RT_ANNUAL</th>\n",
       "      <td>0.136459</td>\n",
       "    </tr>\n",
       "    <tr>\n",
       "      <th>SAL1</th>\n",
       "      <td>0.102616</td>\n",
       "    </tr>\n",
       "    <tr>\n",
       "      <th>HAVE_DEP</th>\n",
       "      <td>0.020788</td>\n",
       "    </tr>\n",
       "    <tr>\n",
       "      <th>EMPL_TYPE_f</th>\n",
       "      <td>0.012251</td>\n",
       "    </tr>\n",
       "    <tr>\n",
       "      <th>Male</th>\n",
       "      <td>0.010438</td>\n",
       "    </tr>\n",
       "  </tbody>\n",
       "</table>\n",
       "</div>"
      ],
      "text/plain": [
       "               Importance\n",
       "MIN_RT_ANNUAL    0.204032\n",
       "HAVE_INS         0.200475\n",
       "Age_years        0.169064\n",
       "Tenure_years     0.143877\n",
       "MAX_RT_ANNUAL    0.136459\n",
       "SAL1             0.102616\n",
       "HAVE_DEP         0.020788\n",
       "EMPL_TYPE_f      0.012251\n",
       "Male             0.010438"
      ]
     },
     "execution_count": 451,
     "metadata": {},
     "output_type": "execute_result"
    }
   ],
   "source": [
    "br.get_initial_analysis(X[minimum_cols],y,Xeval[minimum_cols])"
   ]
  },
  {
   "cell_type": "code",
   "execution_count": 456,
   "metadata": {
    "collapsed": false
   },
   "outputs": [
    {
     "data": {
      "text/html": [
       "<div>\n",
       "<table border=\"1\" class=\"dataframe\">\n",
       "  <thead>\n",
       "    <tr style=\"text-align: right;\">\n",
       "      <th></th>\n",
       "      <th>KEY</th>\n",
       "      <th>HIRE_DT</th>\n",
       "      <th>BIRTHDATE</th>\n",
       "      <th>SAL1</th>\n",
       "      <th>HAVE_INS</th>\n",
       "      <th>HAVE_DEP</th>\n",
       "      <th>EMPL_TYPE</th>\n",
       "      <th>Male</th>\n",
       "      <th>MAX_RT_ANNUAL</th>\n",
       "      <th>MIN_RT_ANNUAL</th>\n",
       "      <th>PERF1</th>\n",
       "      <th>MERIT1</th>\n",
       "      <th>BOX1</th>\n",
       "      <th>INTERN</th>\n",
       "      <th>HUBIND</th>\n",
       "    </tr>\n",
       "  </thead>\n",
       "  <tbody>\n",
       "    <tr>\n",
       "      <th>0</th>\n",
       "      <td>490903510940682</td>\n",
       "      <td>2014-06-09 00:00:00</td>\n",
       "      <td>1993-09-05 00:00:00</td>\n",
       "      <td>16099.20</td>\n",
       "      <td>0</td>\n",
       "      <td>0</td>\n",
       "      <td>H</td>\n",
       "      <td>0</td>\n",
       "      <td>38026.9</td>\n",
       "      <td>22400.90</td>\n",
       "      <td>NaN</td>\n",
       "      <td>NaN</td>\n",
       "      <td>NaN</td>\n",
       "      <td>0</td>\n",
       "      <td>1</td>\n",
       "    </tr>\n",
       "    <tr>\n",
       "      <th>1</th>\n",
       "      <td>867989974034945</td>\n",
       "      <td>2002-08-05 00:00:00</td>\n",
       "      <td>1976-03-08 00:00:00</td>\n",
       "      <td>58551.95</td>\n",
       "      <td>0</td>\n",
       "      <td>0</td>\n",
       "      <td>E</td>\n",
       "      <td>0</td>\n",
       "      <td>84150.0</td>\n",
       "      <td>46096.11</td>\n",
       "      <td>1999.88</td>\n",
       "      <td>2999.82</td>\n",
       "      <td>2</td>\n",
       "      <td>0</td>\n",
       "      <td>0</td>\n",
       "    </tr>\n",
       "    <tr>\n",
       "      <th>2</th>\n",
       "      <td>704793881953132</td>\n",
       "      <td>2002-03-04 00:00:00</td>\n",
       "      <td>1976-01-20 00:00:00</td>\n",
       "      <td>31107.54</td>\n",
       "      <td>0</td>\n",
       "      <td>0</td>\n",
       "      <td>E</td>\n",
       "      <td>1</td>\n",
       "      <td>59760.0</td>\n",
       "      <td>32280.00</td>\n",
       "      <td>NaN</td>\n",
       "      <td>NaN</td>\n",
       "      <td>NaN</td>\n",
       "      <td>0</td>\n",
       "      <td>0</td>\n",
       "    </tr>\n",
       "    <tr>\n",
       "      <th>3</th>\n",
       "      <td>850716555421574</td>\n",
       "      <td>2012-12-10 00:00:00</td>\n",
       "      <td>1988-02-24 00:00:00</td>\n",
       "      <td>31045.35</td>\n",
       "      <td>1</td>\n",
       "      <td>0</td>\n",
       "      <td>E</td>\n",
       "      <td>1</td>\n",
       "      <td>51294.0</td>\n",
       "      <td>31045.35</td>\n",
       "      <td>1012.50</td>\n",
       "      <td>4208.72</td>\n",
       "      <td>2</td>\n",
       "      <td>0</td>\n",
       "      <td>1</td>\n",
       "    </tr>\n",
       "    <tr>\n",
       "      <th>4</th>\n",
       "      <td>868936932119046</td>\n",
       "      <td>1988-02-08 00:00:00</td>\n",
       "      <td>1939-03-26 00:00:00</td>\n",
       "      <td>36709.53</td>\n",
       "      <td>0</td>\n",
       "      <td>0</td>\n",
       "      <td>E</td>\n",
       "      <td>1</td>\n",
       "      <td>999999.0</td>\n",
       "      <td>0.00</td>\n",
       "      <td>0.00</td>\n",
       "      <td>0.00</td>\n",
       "      <td>NaN</td>\n",
       "      <td>0</td>\n",
       "      <td>0</td>\n",
       "    </tr>\n",
       "  </tbody>\n",
       "</table>\n",
       "</div>"
      ],
      "text/plain": [
       "               KEY              HIRE_DT            BIRTHDATE      SAL1  \\\n",
       "0  490903510940682  2014-06-09 00:00:00  1993-09-05 00:00:00  16099.20   \n",
       "1  867989974034945  2002-08-05 00:00:00  1976-03-08 00:00:00  58551.95   \n",
       "2  704793881953132  2002-03-04 00:00:00  1976-01-20 00:00:00  31107.54   \n",
       "3  850716555421574  2012-12-10 00:00:00  1988-02-24 00:00:00  31045.35   \n",
       "4  868936932119046  1988-02-08 00:00:00  1939-03-26 00:00:00  36709.53   \n",
       "\n",
       "   HAVE_INS  HAVE_DEP EMPL_TYPE  Male  MAX_RT_ANNUAL  MIN_RT_ANNUAL    PERF1  \\\n",
       "0         0         0         H     0        38026.9       22400.90      NaN   \n",
       "1         0         0         E     0        84150.0       46096.11  1999.88   \n",
       "2         0         0         E     1        59760.0       32280.00      NaN   \n",
       "3         1         0         E     1        51294.0       31045.35  1012.50   \n",
       "4         0         0         E     1       999999.0           0.00     0.00   \n",
       "\n",
       "    MERIT1  BOX1  INTERN  HUBIND  \n",
       "0      NaN   NaN       0       1  \n",
       "1  2999.82     2       0       0  \n",
       "2      NaN   NaN       0       0  \n",
       "3  4208.72     2       0       1  \n",
       "4     0.00   NaN       0       0  "
      ]
     },
     "execution_count": 456,
     "metadata": {},
     "output_type": "execute_result"
    }
   ],
   "source": [
    "minimal_input_col_list = ['KEY','HIRE_DT','BIRTHDATE','SAL1','HAVE_INS','HAVE_DEP','EMPL_TYPE','Male',\n",
    "                          'MAX_RT_ANNUAL','MIN_RT_ANNUAL','PERF1','MERIT1','BOX1','INTERN','HUBIND']\n",
    "empl[minimal_input_col_list].head()"
   ]
  },
  {
   "cell_type": "markdown",
   "metadata": {},
   "source": [
    "## ASIDE\n",
    "* looking at info for testdata"
   ]
  },
  {
   "cell_type": "code",
   "execution_count": 465,
   "metadata": {
    "collapsed": false
   },
   "outputs": [],
   "source": [
    "keys_to_get = ['\"929965184037557\"',\n",
    " '\"872454415016088\"',\n",
    " '\"247046588569436\"',\n",
    " '\"980835578861104\"',\n",
    " '\"831802700567899\"',\n",
    " '\"612245620047788\"',\n",
    " '\"673774298594228\"',\n",
    " '\"53680010164939\"',\n",
    " '\"361010560468310\"',\n",
    " '\"688423451822448\"']"
   ]
  },
  {
   "cell_type": "code",
   "execution_count": 467,
   "metadata": {
    "collapsed": false
   },
   "outputs": [
    {
     "name": "stdout",
     "output_type": "stream",
     "text": [
      "\"929965184037557\" [[ 1.  0.]]\n",
      "\"872454415016088\" [[ 1.  1.]]\n",
      "\"247046588569436\" [[ 1.  1.]]\n",
      "\"980835578861104\" [[ 1.  1.]]\n",
      "\"831802700567899\" [[ 1.  0.]]\n",
      "\"612245620047788\" [[ 1.  1.]]\n",
      "\"673774298594228\" [[ 1.  0.]]\n",
      "\"53680010164939\" [[ 1.  1.]]\n",
      "\"361010560468310\" [[ 1.  1.]]\n",
      "\"688423451822448\" [[ 1.  0.]]\n"
     ]
    }
   ],
   "source": [
    "for a in keys_to_get:\n",
    "    print a,em2002[em2002.KEY == a.strip('\"')][['HAVE_INS','HAVE_DEP']].values"
   ]
  },
  {
   "cell_type": "code",
   "execution_count": 469,
   "metadata": {
    "collapsed": false
   },
   "outputs": [
    {
     "name": "stdout",
     "output_type": "stream",
     "text": [
      "\"929965184037557\" [[1]]\n",
      "\"872454415016088\" [[0]]\n",
      "\"247046588569436\" [[0]]\n",
      "\"980835578861104\" [[0]]\n",
      "\"831802700567899\" [[1]]\n",
      "\"612245620047788\" [[0]]\n",
      "\"673774298594228\" [[0]]\n",
      "\"53680010164939\" [[0]]\n",
      "\"361010560468310\" [[1]]\n",
      "\"688423451822448\" [[0]]\n"
     ]
    }
   ],
   "source": [
    "for a in keys_to_get:\n",
    "    print a,em2002[em2002.KEY == a.strip('\"')][['Male']].values"
   ]
  },
  {
   "cell_type": "code",
   "execution_count": 475,
   "metadata": {
    "collapsed": false
   },
   "outputs": [
    {
     "name": "stdout",
     "output_type": "stream",
     "text": [
      " KEY object\n",
      "HIRE_DT object\n",
      "BIRTHDATE object\n",
      "SAL1 float64\n",
      "HAVE_INS float64\n",
      "HAVE_DEP float64\n",
      "EMPL_TYPE object\n",
      "Male int64\n",
      "MAX_RT_ANNUAL float64\n",
      "MIN_RT_ANNUAL float64\n",
      "PERF1 float64\n",
      "MERIT1 float64\n",
      "BOX1 float64\n",
      "INTERN int64\n",
      "HUBIND int64\n"
     ]
    }
   ],
   "source": [
    "for c in em2002[minimal_input_col_list]:\n",
    "    print c, em2002[c].dtype"
   ]
  },
  {
   "cell_type": "code",
   "execution_count": 476,
   "metadata": {
    "collapsed": true
   },
   "outputs": [],
   "source": [
    "min_col_list = ['KEY','HIRE_DT','BIRTHDATE',\n",
    "                'SAL1','PERF1','MERIT1','BOX1','MAX_RT_ANNUAL','MIN_RT_ANNUAL',\n",
    "            'HAVE_INS','HAVE_DEP','EMPL_TYPE','Male',\n",
    "                          'INTERN','HUBIND']"
   ]
  },
  {
   "cell_type": "code",
   "execution_count": 479,
   "metadata": {
    "collapsed": false
   },
   "outputs": [
    {
     "data": {
      "text/html": [
       "<div>\n",
       "<table border=\"1\" class=\"dataframe\">\n",
       "  <thead>\n",
       "    <tr style=\"text-align: right;\">\n",
       "      <th></th>\n",
       "      <th>KEY</th>\n",
       "      <th>HIRE_DT</th>\n",
       "      <th>BIRTHDATE</th>\n",
       "      <th>SAL1</th>\n",
       "      <th>PERF1</th>\n",
       "      <th>MERIT1</th>\n",
       "      <th>BOX1</th>\n",
       "      <th>MAX_RT_ANNUAL</th>\n",
       "      <th>MIN_RT_ANNUAL</th>\n",
       "      <th>HAVE_INS</th>\n",
       "      <th>HAVE_DEP</th>\n",
       "      <th>EMPL_TYPE</th>\n",
       "      <th>Male</th>\n",
       "      <th>INTERN</th>\n",
       "      <th>HUBIND</th>\n",
       "    </tr>\n",
       "  </thead>\n",
       "  <tbody>\n",
       "    <tr>\n",
       "      <th>49367</th>\n",
       "      <td>35025035978772</td>\n",
       "      <td>1974-02-20 00:00:00</td>\n",
       "      <td>1946-10-10 00:00:00</td>\n",
       "      <td>59169.600</td>\n",
       "      <td>2416.09</td>\n",
       "      <td>0.00</td>\n",
       "      <td>2</td>\n",
       "      <td>67900.000</td>\n",
       "      <td>35800.000</td>\n",
       "      <td>1</td>\n",
       "      <td>0</td>\n",
       "      <td>E</td>\n",
       "      <td>0</td>\n",
       "      <td>0</td>\n",
       "      <td>0</td>\n",
       "    </tr>\n",
       "    <tr>\n",
       "      <th>86464</th>\n",
       "      <td>685743467735938</td>\n",
       "      <td>1995-11-06 00:00:00</td>\n",
       "      <td>1970-05-11 00:00:00</td>\n",
       "      <td>48819.900</td>\n",
       "      <td>0.00</td>\n",
       "      <td>0.00</td>\n",
       "      <td>NaN</td>\n",
       "      <td>0.000</td>\n",
       "      <td>0.000</td>\n",
       "      <td>0</td>\n",
       "      <td>0</td>\n",
       "      <td>N</td>\n",
       "      <td>1</td>\n",
       "      <td>1</td>\n",
       "      <td>0</td>\n",
       "    </tr>\n",
       "    <tr>\n",
       "      <th>40829</th>\n",
       "      <td>76975957526349</td>\n",
       "      <td>1988-08-08 00:00:00</td>\n",
       "      <td>1963-04-14 00:00:00</td>\n",
       "      <td>77188.500</td>\n",
       "      <td>1606.50</td>\n",
       "      <td>688.50</td>\n",
       "      <td>2</td>\n",
       "      <td>78795.000</td>\n",
       "      <td>45791.330</td>\n",
       "      <td>0</td>\n",
       "      <td>0</td>\n",
       "      <td>E</td>\n",
       "      <td>1</td>\n",
       "      <td>0</td>\n",
       "      <td>1</td>\n",
       "    </tr>\n",
       "    <tr>\n",
       "      <th>85328</th>\n",
       "      <td>290385969118395</td>\n",
       "      <td>1980-01-28 00:00:00</td>\n",
       "      <td>1946-10-15 00:00:00</td>\n",
       "      <td>49328.260</td>\n",
       "      <td>1884.71</td>\n",
       "      <td>1828.73</td>\n",
       "      <td>2</td>\n",
       "      <td>62775.000</td>\n",
       "      <td>36900.000</td>\n",
       "      <td>0</td>\n",
       "      <td>0</td>\n",
       "      <td>E</td>\n",
       "      <td>0</td>\n",
       "      <td>0</td>\n",
       "      <td>0</td>\n",
       "    </tr>\n",
       "    <tr>\n",
       "      <th>36315</th>\n",
       "      <td>358754032924191</td>\n",
       "      <td>1997-12-01 00:00:00</td>\n",
       "      <td>1973-07-19 00:00:00</td>\n",
       "      <td>64756.770</td>\n",
       "      <td>2554.04</td>\n",
       "      <td>1849.47</td>\n",
       "      <td>2</td>\n",
       "      <td>78795.000</td>\n",
       "      <td>45791.330</td>\n",
       "      <td>0</td>\n",
       "      <td>0</td>\n",
       "      <td>E</td>\n",
       "      <td>0</td>\n",
       "      <td>0</td>\n",
       "      <td>0</td>\n",
       "    </tr>\n",
       "    <tr>\n",
       "      <th>118281</th>\n",
       "      <td>542343335944388</td>\n",
       "      <td>1985-01-28 00:00:00</td>\n",
       "      <td>1961-05-25 00:00:00</td>\n",
       "      <td>98516.200</td>\n",
       "      <td>2798.21</td>\n",
       "      <td>2026.29</td>\n",
       "      <td>2</td>\n",
       "      <td>111832.430</td>\n",
       "      <td>67796.800</td>\n",
       "      <td>1</td>\n",
       "      <td>1</td>\n",
       "      <td>S</td>\n",
       "      <td>1</td>\n",
       "      <td>0</td>\n",
       "      <td>1</td>\n",
       "    </tr>\n",
       "    <tr>\n",
       "      <th>45455</th>\n",
       "      <td>393496309124630</td>\n",
       "      <td>2014-06-23 00:00:00</td>\n",
       "      <td>1974-12-29 00:00:00</td>\n",
       "      <td>24000.000</td>\n",
       "      <td>NaN</td>\n",
       "      <td>NaN</td>\n",
       "      <td>NaN</td>\n",
       "      <td>38026.900</td>\n",
       "      <td>22400.900</td>\n",
       "      <td>1</td>\n",
       "      <td>0</td>\n",
       "      <td>E</td>\n",
       "      <td>0</td>\n",
       "      <td>0</td>\n",
       "      <td>1</td>\n",
       "    </tr>\n",
       "    <tr>\n",
       "      <th>50901</th>\n",
       "      <td>996175121048547</td>\n",
       "      <td>2012-01-16 00:00:00</td>\n",
       "      <td>1987-09-13 00:00:00</td>\n",
       "      <td>30000.000</td>\n",
       "      <td>NaN</td>\n",
       "      <td>NaN</td>\n",
       "      <td>NaN</td>\n",
       "      <td>42775.490</td>\n",
       "      <td>25175.160</td>\n",
       "      <td>1</td>\n",
       "      <td>0</td>\n",
       "      <td>E</td>\n",
       "      <td>1</td>\n",
       "      <td>0</td>\n",
       "      <td>0</td>\n",
       "    </tr>\n",
       "    <tr>\n",
       "      <th>65887</th>\n",
       "      <td>103189568549017</td>\n",
       "      <td>1988-01-04 00:00:00</td>\n",
       "      <td>1952-10-22 00:00:00</td>\n",
       "      <td>89616.550</td>\n",
       "      <td>3042.00</td>\n",
       "      <td>2202.83</td>\n",
       "      <td>2</td>\n",
       "      <td>105259.110</td>\n",
       "      <td>62360.140</td>\n",
       "      <td>1</td>\n",
       "      <td>0</td>\n",
       "      <td>S</td>\n",
       "      <td>0</td>\n",
       "      <td>0</td>\n",
       "      <td>0</td>\n",
       "    </tr>\n",
       "    <tr>\n",
       "      <th>15894</th>\n",
       "      <td>540804458568247</td>\n",
       "      <td>1975-12-15 00:00:00</td>\n",
       "      <td>1946-10-29 00:00:00</td>\n",
       "      <td>62710.930</td>\n",
       "      <td>1481.36</td>\n",
       "      <td>987.57</td>\n",
       "      <td>2</td>\n",
       "      <td>84150.000</td>\n",
       "      <td>44753.500</td>\n",
       "      <td>1</td>\n",
       "      <td>0</td>\n",
       "      <td>E</td>\n",
       "      <td>0</td>\n",
       "      <td>0</td>\n",
       "      <td>0</td>\n",
       "    </tr>\n",
       "    <tr>\n",
       "      <th>113268</th>\n",
       "      <td>886990731995083</td>\n",
       "      <td>1985-10-21 00:00:00</td>\n",
       "      <td>1956-03-10 00:00:00</td>\n",
       "      <td>81740.130</td>\n",
       "      <td>1253.03</td>\n",
       "      <td>374.28</td>\n",
       "      <td>1</td>\n",
       "      <td>87975.000</td>\n",
       "      <td>46787.750</td>\n",
       "      <td>0</td>\n",
       "      <td>0</td>\n",
       "      <td>E</td>\n",
       "      <td>1</td>\n",
       "      <td>0</td>\n",
       "      <td>0</td>\n",
       "    </tr>\n",
       "    <tr>\n",
       "      <th>102958</th>\n",
       "      <td>228800028669089</td>\n",
       "      <td>2006-03-13 00:00:00</td>\n",
       "      <td>1980-07-31 00:00:00</td>\n",
       "      <td>26066.770</td>\n",
       "      <td>214.33</td>\n",
       "      <td>551.14</td>\n",
       "      <td>1</td>\n",
       "      <td>46065.000</td>\n",
       "      <td>24882.500</td>\n",
       "      <td>0</td>\n",
       "      <td>0</td>\n",
       "      <td>E</td>\n",
       "      <td>1</td>\n",
       "      <td>0</td>\n",
       "      <td>0</td>\n",
       "    </tr>\n",
       "    <tr>\n",
       "      <th>59922</th>\n",
       "      <td>719868653789101</td>\n",
       "      <td>2004-03-29 00:00:00</td>\n",
       "      <td>1971-01-06 00:00:00</td>\n",
       "      <td>25284.480</td>\n",
       "      <td>1574.21</td>\n",
       "      <td>0.52</td>\n",
       "      <td>2</td>\n",
       "      <td>44058.750</td>\n",
       "      <td>26708.320</td>\n",
       "      <td>0</td>\n",
       "      <td>0</td>\n",
       "      <td>H</td>\n",
       "      <td>0</td>\n",
       "      <td>0</td>\n",
       "      <td>1</td>\n",
       "    </tr>\n",
       "    <tr>\n",
       "      <th>6442</th>\n",
       "      <td>516145517358624</td>\n",
       "      <td>2012-05-29 00:00:00</td>\n",
       "      <td>1987-06-05 00:00:00</td>\n",
       "      <td>50846.740</td>\n",
       "      <td>1918.74</td>\n",
       "      <td>2878.12</td>\n",
       "      <td>2</td>\n",
       "      <td>83160.000</td>\n",
       "      <td>49407.680</td>\n",
       "      <td>0</td>\n",
       "      <td>0</td>\n",
       "      <td>E</td>\n",
       "      <td>1</td>\n",
       "      <td>0</td>\n",
       "      <td>0</td>\n",
       "    </tr>\n",
       "    <tr>\n",
       "      <th>102712</th>\n",
       "      <td>997905703260519</td>\n",
       "      <td>1973-07-09 00:00:00</td>\n",
       "      <td>1953-10-21 00:00:00</td>\n",
       "      <td>51294.000</td>\n",
       "      <td>3641.87</td>\n",
       "      <td>0.00</td>\n",
       "      <td>3</td>\n",
       "      <td>51294.000</td>\n",
       "      <td>31045.350</td>\n",
       "      <td>1</td>\n",
       "      <td>0</td>\n",
       "      <td>E</td>\n",
       "      <td>0</td>\n",
       "      <td>0</td>\n",
       "      <td>1</td>\n",
       "    </tr>\n",
       "    <tr>\n",
       "      <th>22457</th>\n",
       "      <td>453055703292161</td>\n",
       "      <td>1995-02-06 00:00:00</td>\n",
       "      <td>1969-05-08 00:00:00</td>\n",
       "      <td>52020.161</td>\n",
       "      <td>0.00</td>\n",
       "      <td>0.00</td>\n",
       "      <td>NaN</td>\n",
       "      <td>88400.000</td>\n",
       "      <td>39500.000</td>\n",
       "      <td>0</td>\n",
       "      <td>0</td>\n",
       "      <td>S</td>\n",
       "      <td>0</td>\n",
       "      <td>0</td>\n",
       "      <td>0</td>\n",
       "    </tr>\n",
       "    <tr>\n",
       "      <th>50491</th>\n",
       "      <td>273252392780619</td>\n",
       "      <td>2008-01-14 00:00:00</td>\n",
       "      <td>1977-04-01 00:00:00</td>\n",
       "      <td>90859.510</td>\n",
       "      <td>4968.88</td>\n",
       "      <td>2129.52</td>\n",
       "      <td>3</td>\n",
       "      <td>95690.100</td>\n",
       "      <td>56691.040</td>\n",
       "      <td>1</td>\n",
       "      <td>1</td>\n",
       "      <td>S</td>\n",
       "      <td>0</td>\n",
       "      <td>0</td>\n",
       "      <td>0</td>\n",
       "    </tr>\n",
       "    <tr>\n",
       "      <th>63900</th>\n",
       "      <td>202807881032493</td>\n",
       "      <td>1988-06-13 00:00:00</td>\n",
       "      <td>1965-06-12 00:00:00</td>\n",
       "      <td>84381.800</td>\n",
       "      <td>2396.74</td>\n",
       "      <td>1735.57</td>\n",
       "      <td>2</td>\n",
       "      <td>95690.100</td>\n",
       "      <td>56691.040</td>\n",
       "      <td>1</td>\n",
       "      <td>1</td>\n",
       "      <td>S</td>\n",
       "      <td>0</td>\n",
       "      <td>0</td>\n",
       "      <td>1</td>\n",
       "    </tr>\n",
       "    <tr>\n",
       "      <th>113274</th>\n",
       "      <td>170374558386567</td>\n",
       "      <td>2000-06-12 00:00:00</td>\n",
       "      <td>1977-12-08 00:00:00</td>\n",
       "      <td>44279.880</td>\n",
       "      <td>324.79</td>\n",
       "      <td>974.37</td>\n",
       "      <td>3</td>\n",
       "      <td>64309.106</td>\n",
       "      <td>33483.253</td>\n",
       "      <td>0</td>\n",
       "      <td>0</td>\n",
       "      <td>S</td>\n",
       "      <td>0</td>\n",
       "      <td>0</td>\n",
       "      <td>1</td>\n",
       "    </tr>\n",
       "    <tr>\n",
       "      <th>28176</th>\n",
       "      <td>543762233361491</td>\n",
       "      <td>1997-10-20 00:00:00</td>\n",
       "      <td>1967-02-27 00:00:00</td>\n",
       "      <td>50152.130</td>\n",
       "      <td>719.89</td>\n",
       "      <td>2159.66</td>\n",
       "      <td>3</td>\n",
       "      <td>87600.000</td>\n",
       "      <td>41700.000</td>\n",
       "      <td>0</td>\n",
       "      <td>0</td>\n",
       "      <td>S</td>\n",
       "      <td>0</td>\n",
       "      <td>0</td>\n",
       "      <td>0</td>\n",
       "    </tr>\n",
       "    <tr>\n",
       "      <th>23403</th>\n",
       "      <td>407069840192362</td>\n",
       "      <td>1967-07-26 00:00:00</td>\n",
       "      <td>1947-09-26 00:00:00</td>\n",
       "      <td>142125.770</td>\n",
       "      <td>0.00</td>\n",
       "      <td>0.00</td>\n",
       "      <td>NaN</td>\n",
       "      <td>157487.000</td>\n",
       "      <td>85078.000</td>\n",
       "      <td>0</td>\n",
       "      <td>0</td>\n",
       "      <td>S</td>\n",
       "      <td>0</td>\n",
       "      <td>0</td>\n",
       "      <td>0</td>\n",
       "    </tr>\n",
       "    <tr>\n",
       "      <th>79699</th>\n",
       "      <td>460771327121542</td>\n",
       "      <td>2008-04-14 00:00:00</td>\n",
       "      <td>1986-02-22 00:00:00</td>\n",
       "      <td>38600.000</td>\n",
       "      <td>NaN</td>\n",
       "      <td>NaN</td>\n",
       "      <td>NaN</td>\n",
       "      <td>69115.000</td>\n",
       "      <td>34155.000</td>\n",
       "      <td>0</td>\n",
       "      <td>0</td>\n",
       "      <td>E</td>\n",
       "      <td>1</td>\n",
       "      <td>0</td>\n",
       "      <td>1</td>\n",
       "    </tr>\n",
       "    <tr>\n",
       "      <th>106006</th>\n",
       "      <td>551774285059317</td>\n",
       "      <td>1985-03-11 00:00:00</td>\n",
       "      <td>1939-08-25 00:00:00</td>\n",
       "      <td>85703.400</td>\n",
       "      <td>2615.60</td>\n",
       "      <td>781.28</td>\n",
       "      <td>2</td>\n",
       "      <td>96984.800</td>\n",
       "      <td>56423.400</td>\n",
       "      <td>0</td>\n",
       "      <td>0</td>\n",
       "      <td>S</td>\n",
       "      <td>0</td>\n",
       "      <td>0</td>\n",
       "      <td>1</td>\n",
       "    </tr>\n",
       "    <tr>\n",
       "      <th>98485</th>\n",
       "      <td>236503702698510</td>\n",
       "      <td>1993-11-09 00:00:00</td>\n",
       "      <td>1962-12-21 00:00:00</td>\n",
       "      <td>63317.120</td>\n",
       "      <td>746.37</td>\n",
       "      <td>1119.56</td>\n",
       "      <td>1</td>\n",
       "      <td>90614.250</td>\n",
       "      <td>52660.020</td>\n",
       "      <td>0</td>\n",
       "      <td>0</td>\n",
       "      <td>E</td>\n",
       "      <td>0</td>\n",
       "      <td>0</td>\n",
       "      <td>0</td>\n",
       "    </tr>\n",
       "    <tr>\n",
       "      <th>19412</th>\n",
       "      <td>670496680620358</td>\n",
       "      <td>1996-10-21 00:00:00</td>\n",
       "      <td>1946-03-05 00:00:00</td>\n",
       "      <td>31739.760</td>\n",
       "      <td>516.73</td>\n",
       "      <td>422.78</td>\n",
       "      <td>1</td>\n",
       "      <td>40754.350</td>\n",
       "      <td>24705.200</td>\n",
       "      <td>1</td>\n",
       "      <td>0</td>\n",
       "      <td>E</td>\n",
       "      <td>0</td>\n",
       "      <td>0</td>\n",
       "      <td>0</td>\n",
       "    </tr>\n",
       "    <tr>\n",
       "      <th>67800</th>\n",
       "      <td>878204850888906</td>\n",
       "      <td>1986-12-01 00:00:00</td>\n",
       "      <td>1962-03-01 00:00:00</td>\n",
       "      <td>78785.490</td>\n",
       "      <td>2716.74</td>\n",
       "      <td>1164.32</td>\n",
       "      <td>2</td>\n",
       "      <td>86998.230</td>\n",
       "      <td>54373.900</td>\n",
       "      <td>1</td>\n",
       "      <td>0</td>\n",
       "      <td>E</td>\n",
       "      <td>0</td>\n",
       "      <td>0</td>\n",
       "      <td>1</td>\n",
       "    </tr>\n",
       "    <tr>\n",
       "      <th>102200</th>\n",
       "      <td>547803305810226</td>\n",
       "      <td>2000-07-10 00:00:00</td>\n",
       "      <td>1975-10-21 00:00:00</td>\n",
       "      <td>61681.740</td>\n",
       "      <td>1004.19</td>\n",
       "      <td>821.61</td>\n",
       "      <td>1</td>\n",
       "      <td>84150.000</td>\n",
       "      <td>47478.990</td>\n",
       "      <td>1</td>\n",
       "      <td>0</td>\n",
       "      <td>E</td>\n",
       "      <td>0</td>\n",
       "      <td>0</td>\n",
       "      <td>0</td>\n",
       "    </tr>\n",
       "    <tr>\n",
       "      <th>93126</th>\n",
       "      <td>724853469396407</td>\n",
       "      <td>1990-10-22 00:00:00</td>\n",
       "      <td>1950-10-09 00:00:00</td>\n",
       "      <td>85107.820</td>\n",
       "      <td>5094.31</td>\n",
       "      <td>2430.71</td>\n",
       "      <td>2</td>\n",
       "      <td>95690.100</td>\n",
       "      <td>56691.040</td>\n",
       "      <td>1</td>\n",
       "      <td>1</td>\n",
       "      <td>S</td>\n",
       "      <td>1</td>\n",
       "      <td>0</td>\n",
       "      <td>0</td>\n",
       "    </tr>\n",
       "    <tr>\n",
       "      <th>27121</th>\n",
       "      <td>267333134201976</td>\n",
       "      <td>2014-08-18 00:00:00</td>\n",
       "      <td>1970-01-08 00:00:00</td>\n",
       "      <td>26000.000</td>\n",
       "      <td>NaN</td>\n",
       "      <td>NaN</td>\n",
       "      <td>NaN</td>\n",
       "      <td>38026.900</td>\n",
       "      <td>22400.900</td>\n",
       "      <td>1</td>\n",
       "      <td>0</td>\n",
       "      <td>E</td>\n",
       "      <td>0</td>\n",
       "      <td>0</td>\n",
       "      <td>1</td>\n",
       "    </tr>\n",
       "    <tr>\n",
       "      <th>14573</th>\n",
       "      <td>390404898855092</td>\n",
       "      <td>1995-04-10 00:00:00</td>\n",
       "      <td>1960-01-03 00:00:00</td>\n",
       "      <td>80009.430</td>\n",
       "      <td>4908.08</td>\n",
       "      <td>2103.46</td>\n",
       "      <td>3</td>\n",
       "      <td>80243.150</td>\n",
       "      <td>46230.960</td>\n",
       "      <td>1</td>\n",
       "      <td>0</td>\n",
       "      <td>E</td>\n",
       "      <td>1</td>\n",
       "      <td>0</td>\n",
       "      <td>0</td>\n",
       "    </tr>\n",
       "    <tr>\n",
       "      <th>...</th>\n",
       "      <td>...</td>\n",
       "      <td>...</td>\n",
       "      <td>...</td>\n",
       "      <td>...</td>\n",
       "      <td>...</td>\n",
       "      <td>...</td>\n",
       "      <td>...</td>\n",
       "      <td>...</td>\n",
       "      <td>...</td>\n",
       "      <td>...</td>\n",
       "      <td>...</td>\n",
       "      <td>...</td>\n",
       "      <td>...</td>\n",
       "      <td>...</td>\n",
       "      <td>...</td>\n",
       "    </tr>\n",
       "    <tr>\n",
       "      <th>120232</th>\n",
       "      <td>207255751456719</td>\n",
       "      <td>2007-06-25 00:00:00</td>\n",
       "      <td>1955-11-04 00:00:00</td>\n",
       "      <td>100130.000</td>\n",
       "      <td>5890.00</td>\n",
       "      <td>1963.33</td>\n",
       "      <td>2</td>\n",
       "      <td>162785.000</td>\n",
       "      <td>64138.000</td>\n",
       "      <td>0</td>\n",
       "      <td>0</td>\n",
       "      <td>S</td>\n",
       "      <td>1</td>\n",
       "      <td>0</td>\n",
       "      <td>0</td>\n",
       "    </tr>\n",
       "    <tr>\n",
       "      <th>125138</th>\n",
       "      <td>465665277776152</td>\n",
       "      <td>1997-11-17 00:00:00</td>\n",
       "      <td>1968-07-16 00:00:00</td>\n",
       "      <td>73952.710</td>\n",
       "      <td>2510.29</td>\n",
       "      <td>1817.80</td>\n",
       "      <td>2</td>\n",
       "      <td>90614.250</td>\n",
       "      <td>52660.020</td>\n",
       "      <td>1</td>\n",
       "      <td>0</td>\n",
       "      <td>E</td>\n",
       "      <td>0</td>\n",
       "      <td>0</td>\n",
       "      <td>0</td>\n",
       "    </tr>\n",
       "    <tr>\n",
       "      <th>51768</th>\n",
       "      <td>773283198370264</td>\n",
       "      <td>1997-05-01 00:00:00</td>\n",
       "      <td>1963-08-17 00:00:00</td>\n",
       "      <td>38668.940</td>\n",
       "      <td>555.06</td>\n",
       "      <td>1665.17</td>\n",
       "      <td>2</td>\n",
       "      <td>64309.106</td>\n",
       "      <td>33483.253</td>\n",
       "      <td>0</td>\n",
       "      <td>0</td>\n",
       "      <td>E</td>\n",
       "      <td>1</td>\n",
       "      <td>0</td>\n",
       "      <td>0</td>\n",
       "    </tr>\n",
       "    <tr>\n",
       "      <th>113191</th>\n",
       "      <td>52777032392461</td>\n",
       "      <td>1984-06-04 00:00:00</td>\n",
       "      <td>1966-05-30 00:00:00</td>\n",
       "      <td>36845.290</td>\n",
       "      <td>1701.89</td>\n",
       "      <td>480.02</td>\n",
       "      <td>2</td>\n",
       "      <td>38414.880</td>\n",
       "      <td>22608.760</td>\n",
       "      <td>0</td>\n",
       "      <td>0</td>\n",
       "      <td>E</td>\n",
       "      <td>1</td>\n",
       "      <td>0</td>\n",
       "      <td>0</td>\n",
       "    </tr>\n",
       "    <tr>\n",
       "      <th>84379</th>\n",
       "      <td>413741275860808</td>\n",
       "      <td>2000-09-25 00:00:00</td>\n",
       "      <td>1978-02-22 00:00:00</td>\n",
       "      <td>25475.690</td>\n",
       "      <td>306.94</td>\n",
       "      <td>920.81</td>\n",
       "      <td>2</td>\n",
       "      <td>35596.800</td>\n",
       "      <td>20950.200</td>\n",
       "      <td>0</td>\n",
       "      <td>0</td>\n",
       "      <td>H</td>\n",
       "      <td>1</td>\n",
       "      <td>1</td>\n",
       "      <td>0</td>\n",
       "    </tr>\n",
       "    <tr>\n",
       "      <th>90590</th>\n",
       "      <td>62367410428062</td>\n",
       "      <td>1994-03-21 00:00:00</td>\n",
       "      <td>1968-03-10 00:00:00</td>\n",
       "      <td>50086.690</td>\n",
       "      <td>832.80</td>\n",
       "      <td>2498.39</td>\n",
       "      <td>2</td>\n",
       "      <td>71324.645</td>\n",
       "      <td>40923.976</td>\n",
       "      <td>0</td>\n",
       "      <td>0</td>\n",
       "      <td>S</td>\n",
       "      <td>1</td>\n",
       "      <td>0</td>\n",
       "      <td>0</td>\n",
       "    </tr>\n",
       "    <tr>\n",
       "      <th>49023</th>\n",
       "      <td>428914624466055</td>\n",
       "      <td>1998-02-23 00:00:00</td>\n",
       "      <td>1966-08-11 00:00:00</td>\n",
       "      <td>59411.330</td>\n",
       "      <td>2088.68</td>\n",
       "      <td>1392.45</td>\n",
       "      <td>2</td>\n",
       "      <td>83160.000</td>\n",
       "      <td>43898.090</td>\n",
       "      <td>0</td>\n",
       "      <td>0</td>\n",
       "      <td>E</td>\n",
       "      <td>1</td>\n",
       "      <td>0</td>\n",
       "      <td>0</td>\n",
       "    </tr>\n",
       "    <tr>\n",
       "      <th>114278</th>\n",
       "      <td>881746416856417</td>\n",
       "      <td>1993-10-11 00:00:00</td>\n",
       "      <td>1966-04-20 00:00:00</td>\n",
       "      <td>51973.870</td>\n",
       "      <td>2531.71</td>\n",
       "      <td>1034.08</td>\n",
       "      <td>2</td>\n",
       "      <td>57474.000</td>\n",
       "      <td>35841.450</td>\n",
       "      <td>1</td>\n",
       "      <td>0</td>\n",
       "      <td>E</td>\n",
       "      <td>0</td>\n",
       "      <td>0</td>\n",
       "      <td>1</td>\n",
       "    </tr>\n",
       "    <tr>\n",
       "      <th>121459</th>\n",
       "      <td>883990714272480</td>\n",
       "      <td>2003-03-08 00:00:00</td>\n",
       "      <td>1974-03-26 00:00:00</td>\n",
       "      <td>23172.500</td>\n",
       "      <td>NaN</td>\n",
       "      <td>NaN</td>\n",
       "      <td>NaN</td>\n",
       "      <td>34800.000</td>\n",
       "      <td>17800.000</td>\n",
       "      <td>0</td>\n",
       "      <td>0</td>\n",
       "      <td>H</td>\n",
       "      <td>0</td>\n",
       "      <td>0</td>\n",
       "      <td>0</td>\n",
       "    </tr>\n",
       "    <tr>\n",
       "      <th>88653</th>\n",
       "      <td>743139461960243</td>\n",
       "      <td>1998-08-17 00:00:00</td>\n",
       "      <td>1973-06-06 00:00:00</td>\n",
       "      <td>48464.630</td>\n",
       "      <td>1988.50</td>\n",
       "      <td>-1247.87</td>\n",
       "      <td>1</td>\n",
       "      <td>48464.630</td>\n",
       "      <td>29379.150</td>\n",
       "      <td>1</td>\n",
       "      <td>1</td>\n",
       "      <td>E</td>\n",
       "      <td>0</td>\n",
       "      <td>0</td>\n",
       "      <td>0</td>\n",
       "    </tr>\n",
       "    <tr>\n",
       "      <th>64404</th>\n",
       "      <td>754217763316919</td>\n",
       "      <td>1992-01-13 00:00:00</td>\n",
       "      <td>1969-04-16 00:00:00</td>\n",
       "      <td>78333.960</td>\n",
       "      <td>2167.34</td>\n",
       "      <td>928.86</td>\n",
       "      <td>2</td>\n",
       "      <td>86674.500</td>\n",
       "      <td>50370.460</td>\n",
       "      <td>1</td>\n",
       "      <td>0</td>\n",
       "      <td>E</td>\n",
       "      <td>1</td>\n",
       "      <td>0</td>\n",
       "      <td>0</td>\n",
       "    </tr>\n",
       "    <tr>\n",
       "      <th>61666</th>\n",
       "      <td>169376223426953</td>\n",
       "      <td>2005-05-09 00:00:00</td>\n",
       "      <td>1978-01-20 00:00:00</td>\n",
       "      <td>47621.480</td>\n",
       "      <td>1279.66</td>\n",
       "      <td>1919.48</td>\n",
       "      <td>2</td>\n",
       "      <td>80243.150</td>\n",
       "      <td>46230.960</td>\n",
       "      <td>0</td>\n",
       "      <td>0</td>\n",
       "      <td>E</td>\n",
       "      <td>1</td>\n",
       "      <td>0</td>\n",
       "      <td>0</td>\n",
       "    </tr>\n",
       "    <tr>\n",
       "      <th>22137</th>\n",
       "      <td>793153555036128</td>\n",
       "      <td>1985-06-17 00:00:00</td>\n",
       "      <td>1950-05-03 00:00:00</td>\n",
       "      <td>111110.940</td>\n",
       "      <td>3771.62</td>\n",
       "      <td>2731.17</td>\n",
       "      <td>2</td>\n",
       "      <td>133068.910</td>\n",
       "      <td>80171.360</td>\n",
       "      <td>1</td>\n",
       "      <td>1</td>\n",
       "      <td>S</td>\n",
       "      <td>0</td>\n",
       "      <td>0</td>\n",
       "      <td>1</td>\n",
       "    </tr>\n",
       "    <tr>\n",
       "      <th>110864</th>\n",
       "      <td>886747358314110</td>\n",
       "      <td>1993-06-07 00:00:00</td>\n",
       "      <td>1971-10-19 00:00:00</td>\n",
       "      <td>78569.810</td>\n",
       "      <td>2231.66</td>\n",
       "      <td>1616.03</td>\n",
       "      <td>2</td>\n",
       "      <td>105259.110</td>\n",
       "      <td>62360.140</td>\n",
       "      <td>1</td>\n",
       "      <td>1</td>\n",
       "      <td>S</td>\n",
       "      <td>1</td>\n",
       "      <td>0</td>\n",
       "      <td>1</td>\n",
       "    </tr>\n",
       "    <tr>\n",
       "      <th>35135</th>\n",
       "      <td>929749269471387</td>\n",
       "      <td>1998-02-03 00:00:00</td>\n",
       "      <td>1964-10-13 00:00:00</td>\n",
       "      <td>70839.070</td>\n",
       "      <td>3943.06</td>\n",
       "      <td>2855.32</td>\n",
       "      <td>3</td>\n",
       "      <td>80243.150</td>\n",
       "      <td>46230.960</td>\n",
       "      <td>1</td>\n",
       "      <td>0</td>\n",
       "      <td>S</td>\n",
       "      <td>1</td>\n",
       "      <td>0</td>\n",
       "      <td>0</td>\n",
       "    </tr>\n",
       "    <tr>\n",
       "      <th>112758</th>\n",
       "      <td>90526811820700</td>\n",
       "      <td>2002-05-18 00:00:00</td>\n",
       "      <td>1949-09-08 00:00:00</td>\n",
       "      <td>17309.760</td>\n",
       "      <td>535.37</td>\n",
       "      <td>0.38</td>\n",
       "      <td>2</td>\n",
       "      <td>38532.300</td>\n",
       "      <td>19709.050</td>\n",
       "      <td>0</td>\n",
       "      <td>0</td>\n",
       "      <td>H</td>\n",
       "      <td>1</td>\n",
       "      <td>1</td>\n",
       "      <td>0</td>\n",
       "    </tr>\n",
       "    <tr>\n",
       "      <th>22965</th>\n",
       "      <td>218147276536630</td>\n",
       "      <td>2006-02-13 00:00:00</td>\n",
       "      <td>1982-10-28 00:00:00</td>\n",
       "      <td>53375.350</td>\n",
       "      <td>846.13</td>\n",
       "      <td>1571.39</td>\n",
       "      <td>2</td>\n",
       "      <td>72676.800</td>\n",
       "      <td>43879.230</td>\n",
       "      <td>1</td>\n",
       "      <td>1</td>\n",
       "      <td>S</td>\n",
       "      <td>1</td>\n",
       "      <td>0</td>\n",
       "      <td>1</td>\n",
       "    </tr>\n",
       "    <tr>\n",
       "      <th>56705</th>\n",
       "      <td>425814692129295</td>\n",
       "      <td>2014-03-31 00:00:00</td>\n",
       "      <td>1988-09-12 00:00:00</td>\n",
       "      <td>15487.680</td>\n",
       "      <td>NaN</td>\n",
       "      <td>NaN</td>\n",
       "      <td>NaN</td>\n",
       "      <td>38026.900</td>\n",
       "      <td>22400.900</td>\n",
       "      <td>1</td>\n",
       "      <td>0</td>\n",
       "      <td>H</td>\n",
       "      <td>1</td>\n",
       "      <td>0</td>\n",
       "      <td>1</td>\n",
       "    </tr>\n",
       "    <tr>\n",
       "      <th>81262</th>\n",
       "      <td>523126922791417</td>\n",
       "      <td>1990-03-12 00:00:00</td>\n",
       "      <td>1964-02-02 00:00:00</td>\n",
       "      <td>36939.530</td>\n",
       "      <td>1905.97</td>\n",
       "      <td>635.32</td>\n",
       "      <td>3</td>\n",
       "      <td>39552.000</td>\n",
       "      <td>23278.000</td>\n",
       "      <td>0</td>\n",
       "      <td>0</td>\n",
       "      <td>E</td>\n",
       "      <td>0</td>\n",
       "      <td>0</td>\n",
       "      <td>0</td>\n",
       "    </tr>\n",
       "    <tr>\n",
       "      <th>133066</th>\n",
       "      <td>76860120555786</td>\n",
       "      <td>2008-05-29 00:00:00</td>\n",
       "      <td>1984-10-31 00:00:00</td>\n",
       "      <td>38443.000</td>\n",
       "      <td>777.00</td>\n",
       "      <td>1443.00</td>\n",
       "      <td>2</td>\n",
       "      <td>66110.000</td>\n",
       "      <td>34303.500</td>\n",
       "      <td>0</td>\n",
       "      <td>0</td>\n",
       "      <td>E</td>\n",
       "      <td>0</td>\n",
       "      <td>0</td>\n",
       "      <td>0</td>\n",
       "    </tr>\n",
       "    <tr>\n",
       "      <th>11451</th>\n",
       "      <td>787911511393223</td>\n",
       "      <td>1970-03-02 00:00:00</td>\n",
       "      <td>1950-05-09 00:00:00</td>\n",
       "      <td>105777.000</td>\n",
       "      <td>5429.88</td>\n",
       "      <td>0.00</td>\n",
       "      <td>3</td>\n",
       "      <td>105777.000</td>\n",
       "      <td>57772.900</td>\n",
       "      <td>1</td>\n",
       "      <td>1</td>\n",
       "      <td>S</td>\n",
       "      <td>1</td>\n",
       "      <td>0</td>\n",
       "      <td>0</td>\n",
       "    </tr>\n",
       "    <tr>\n",
       "      <th>76748</th>\n",
       "      <td>455162188250181</td>\n",
       "      <td>2002-05-27 00:00:00</td>\n",
       "      <td>1974-10-24 00:00:00</td>\n",
       "      <td>155668.200</td>\n",
       "      <td>0.00</td>\n",
       "      <td>1000.00</td>\n",
       "      <td>2</td>\n",
       "      <td>170000.000</td>\n",
       "      <td>124000.000</td>\n",
       "      <td>1</td>\n",
       "      <td>1</td>\n",
       "      <td>S</td>\n",
       "      <td>1</td>\n",
       "      <td>1</td>\n",
       "      <td>0</td>\n",
       "    </tr>\n",
       "    <tr>\n",
       "      <th>36061</th>\n",
       "      <td>557788569739921</td>\n",
       "      <td>1989-08-21 00:00:00</td>\n",
       "      <td>1964-03-16 00:00:00</td>\n",
       "      <td>83293.120</td>\n",
       "      <td>2872.18</td>\n",
       "      <td>1230.93</td>\n",
       "      <td>2</td>\n",
       "      <td>86674.500</td>\n",
       "      <td>50370.460</td>\n",
       "      <td>1</td>\n",
       "      <td>0</td>\n",
       "      <td>E</td>\n",
       "      <td>0</td>\n",
       "      <td>0</td>\n",
       "      <td>0</td>\n",
       "    </tr>\n",
       "    <tr>\n",
       "      <th>16562</th>\n",
       "      <td>448660147585282</td>\n",
       "      <td>1983-04-18 00:00:00</td>\n",
       "      <td>1964-09-08 00:00:00</td>\n",
       "      <td>46400.240</td>\n",
       "      <td>1942.84</td>\n",
       "      <td>793.56</td>\n",
       "      <td>2</td>\n",
       "      <td>51294.000</td>\n",
       "      <td>31045.350</td>\n",
       "      <td>1</td>\n",
       "      <td>1</td>\n",
       "      <td>E</td>\n",
       "      <td>0</td>\n",
       "      <td>0</td>\n",
       "      <td>1</td>\n",
       "    </tr>\n",
       "    <tr>\n",
       "      <th>51921</th>\n",
       "      <td>587446572066958</td>\n",
       "      <td>2005-05-16 00:00:00</td>\n",
       "      <td>1980-06-21 00:00:00</td>\n",
       "      <td>48497.830</td>\n",
       "      <td>1290.82</td>\n",
       "      <td>2397.23</td>\n",
       "      <td>2</td>\n",
       "      <td>76500.000</td>\n",
       "      <td>39500.000</td>\n",
       "      <td>1</td>\n",
       "      <td>1</td>\n",
       "      <td>E</td>\n",
       "      <td>0</td>\n",
       "      <td>0</td>\n",
       "      <td>0</td>\n",
       "    </tr>\n",
       "    <tr>\n",
       "      <th>69800</th>\n",
       "      <td>241295550596572</td>\n",
       "      <td>1998-02-02 00:00:00</td>\n",
       "      <td>1965-08-13 00:00:00</td>\n",
       "      <td>48115.820</td>\n",
       "      <td>2014.68</td>\n",
       "      <td>822.90</td>\n",
       "      <td>2</td>\n",
       "      <td>53163.450</td>\n",
       "      <td>33153.340</td>\n",
       "      <td>1</td>\n",
       "      <td>1</td>\n",
       "      <td>E</td>\n",
       "      <td>0</td>\n",
       "      <td>0</td>\n",
       "      <td>0</td>\n",
       "    </tr>\n",
       "    <tr>\n",
       "      <th>29914</th>\n",
       "      <td>42674208079779</td>\n",
       "      <td>1994-11-14 00:00:00</td>\n",
       "      <td>1974-04-07 00:00:00</td>\n",
       "      <td>66786.720</td>\n",
       "      <td>2520.25</td>\n",
       "      <td>3780.38</td>\n",
       "      <td>3</td>\n",
       "      <td>95690.100</td>\n",
       "      <td>56691.040</td>\n",
       "      <td>1</td>\n",
       "      <td>0</td>\n",
       "      <td>S</td>\n",
       "      <td>0</td>\n",
       "      <td>0</td>\n",
       "      <td>1</td>\n",
       "    </tr>\n",
       "    <tr>\n",
       "      <th>104905</th>\n",
       "      <td>165958929418567</td>\n",
       "      <td>2007-10-22 00:00:00</td>\n",
       "      <td>1988-04-11 00:00:00</td>\n",
       "      <td>35945.840</td>\n",
       "      <td>939.53</td>\n",
       "      <td>1148.32</td>\n",
       "      <td>2</td>\n",
       "      <td>57474.000</td>\n",
       "      <td>35841.450</td>\n",
       "      <td>1</td>\n",
       "      <td>0</td>\n",
       "      <td>E</td>\n",
       "      <td>0</td>\n",
       "      <td>0</td>\n",
       "      <td>1</td>\n",
       "    </tr>\n",
       "    <tr>\n",
       "      <th>4344</th>\n",
       "      <td>625510991842258</td>\n",
       "      <td>2010-07-12 00:00:00</td>\n",
       "      <td>1986-11-23 00:00:00</td>\n",
       "      <td>59956.560</td>\n",
       "      <td>2262.51</td>\n",
       "      <td>3393.77</td>\n",
       "      <td>3</td>\n",
       "      <td>95690.100</td>\n",
       "      <td>56691.040</td>\n",
       "      <td>1</td>\n",
       "      <td>0</td>\n",
       "      <td>S</td>\n",
       "      <td>0</td>\n",
       "      <td>0</td>\n",
       "      <td>0</td>\n",
       "    </tr>\n",
       "    <tr>\n",
       "      <th>27379</th>\n",
       "      <td>547032182359617</td>\n",
       "      <td>2008-05-30 00:00:00</td>\n",
       "      <td>1975-10-11 00:00:00</td>\n",
       "      <td>46591.560</td>\n",
       "      <td>1422.64</td>\n",
       "      <td>7681.01</td>\n",
       "      <td>2</td>\n",
       "      <td>78795.000</td>\n",
       "      <td>45791.330</td>\n",
       "      <td>1</td>\n",
       "      <td>0</td>\n",
       "      <td>E</td>\n",
       "      <td>1</td>\n",
       "      <td>0</td>\n",
       "      <td>1</td>\n",
       "    </tr>\n",
       "  </tbody>\n",
       "</table>\n",
       "<p>107388 rows × 15 columns</p>\n",
       "</div>"
      ],
      "text/plain": [
       "                    KEY              HIRE_DT            BIRTHDATE        SAL1  \\\n",
       "49367    35025035978772  1974-02-20 00:00:00  1946-10-10 00:00:00   59169.600   \n",
       "86464   685743467735938  1995-11-06 00:00:00  1970-05-11 00:00:00   48819.900   \n",
       "40829    76975957526349  1988-08-08 00:00:00  1963-04-14 00:00:00   77188.500   \n",
       "85328   290385969118395  1980-01-28 00:00:00  1946-10-15 00:00:00   49328.260   \n",
       "36315   358754032924191  1997-12-01 00:00:00  1973-07-19 00:00:00   64756.770   \n",
       "118281  542343335944388  1985-01-28 00:00:00  1961-05-25 00:00:00   98516.200   \n",
       "45455   393496309124630  2014-06-23 00:00:00  1974-12-29 00:00:00   24000.000   \n",
       "50901   996175121048547  2012-01-16 00:00:00  1987-09-13 00:00:00   30000.000   \n",
       "65887   103189568549017  1988-01-04 00:00:00  1952-10-22 00:00:00   89616.550   \n",
       "15894   540804458568247  1975-12-15 00:00:00  1946-10-29 00:00:00   62710.930   \n",
       "113268  886990731995083  1985-10-21 00:00:00  1956-03-10 00:00:00   81740.130   \n",
       "102958  228800028669089  2006-03-13 00:00:00  1980-07-31 00:00:00   26066.770   \n",
       "59922   719868653789101  2004-03-29 00:00:00  1971-01-06 00:00:00   25284.480   \n",
       "6442    516145517358624  2012-05-29 00:00:00  1987-06-05 00:00:00   50846.740   \n",
       "102712  997905703260519  1973-07-09 00:00:00  1953-10-21 00:00:00   51294.000   \n",
       "22457   453055703292161  1995-02-06 00:00:00  1969-05-08 00:00:00   52020.161   \n",
       "50491   273252392780619  2008-01-14 00:00:00  1977-04-01 00:00:00   90859.510   \n",
       "63900   202807881032493  1988-06-13 00:00:00  1965-06-12 00:00:00   84381.800   \n",
       "113274  170374558386567  2000-06-12 00:00:00  1977-12-08 00:00:00   44279.880   \n",
       "28176   543762233361491  1997-10-20 00:00:00  1967-02-27 00:00:00   50152.130   \n",
       "23403   407069840192362  1967-07-26 00:00:00  1947-09-26 00:00:00  142125.770   \n",
       "79699   460771327121542  2008-04-14 00:00:00  1986-02-22 00:00:00   38600.000   \n",
       "106006  551774285059317  1985-03-11 00:00:00  1939-08-25 00:00:00   85703.400   \n",
       "98485   236503702698510  1993-11-09 00:00:00  1962-12-21 00:00:00   63317.120   \n",
       "19412   670496680620358  1996-10-21 00:00:00  1946-03-05 00:00:00   31739.760   \n",
       "67800   878204850888906  1986-12-01 00:00:00  1962-03-01 00:00:00   78785.490   \n",
       "102200  547803305810226  2000-07-10 00:00:00  1975-10-21 00:00:00   61681.740   \n",
       "93126   724853469396407  1990-10-22 00:00:00  1950-10-09 00:00:00   85107.820   \n",
       "27121   267333134201976  2014-08-18 00:00:00  1970-01-08 00:00:00   26000.000   \n",
       "14573   390404898855092  1995-04-10 00:00:00  1960-01-03 00:00:00   80009.430   \n",
       "...                 ...                  ...                  ...         ...   \n",
       "120232  207255751456719  2007-06-25 00:00:00  1955-11-04 00:00:00  100130.000   \n",
       "125138  465665277776152  1997-11-17 00:00:00  1968-07-16 00:00:00   73952.710   \n",
       "51768   773283198370264  1997-05-01 00:00:00  1963-08-17 00:00:00   38668.940   \n",
       "113191   52777032392461  1984-06-04 00:00:00  1966-05-30 00:00:00   36845.290   \n",
       "84379   413741275860808  2000-09-25 00:00:00  1978-02-22 00:00:00   25475.690   \n",
       "90590    62367410428062  1994-03-21 00:00:00  1968-03-10 00:00:00   50086.690   \n",
       "49023   428914624466055  1998-02-23 00:00:00  1966-08-11 00:00:00   59411.330   \n",
       "114278  881746416856417  1993-10-11 00:00:00  1966-04-20 00:00:00   51973.870   \n",
       "121459  883990714272480  2003-03-08 00:00:00  1974-03-26 00:00:00   23172.500   \n",
       "88653   743139461960243  1998-08-17 00:00:00  1973-06-06 00:00:00   48464.630   \n",
       "64404   754217763316919  1992-01-13 00:00:00  1969-04-16 00:00:00   78333.960   \n",
       "61666   169376223426953  2005-05-09 00:00:00  1978-01-20 00:00:00   47621.480   \n",
       "22137   793153555036128  1985-06-17 00:00:00  1950-05-03 00:00:00  111110.940   \n",
       "110864  886747358314110  1993-06-07 00:00:00  1971-10-19 00:00:00   78569.810   \n",
       "35135   929749269471387  1998-02-03 00:00:00  1964-10-13 00:00:00   70839.070   \n",
       "112758   90526811820700  2002-05-18 00:00:00  1949-09-08 00:00:00   17309.760   \n",
       "22965   218147276536630  2006-02-13 00:00:00  1982-10-28 00:00:00   53375.350   \n",
       "56705   425814692129295  2014-03-31 00:00:00  1988-09-12 00:00:00   15487.680   \n",
       "81262   523126922791417  1990-03-12 00:00:00  1964-02-02 00:00:00   36939.530   \n",
       "133066   76860120555786  2008-05-29 00:00:00  1984-10-31 00:00:00   38443.000   \n",
       "11451   787911511393223  1970-03-02 00:00:00  1950-05-09 00:00:00  105777.000   \n",
       "76748   455162188250181  2002-05-27 00:00:00  1974-10-24 00:00:00  155668.200   \n",
       "36061   557788569739921  1989-08-21 00:00:00  1964-03-16 00:00:00   83293.120   \n",
       "16562   448660147585282  1983-04-18 00:00:00  1964-09-08 00:00:00   46400.240   \n",
       "51921   587446572066958  2005-05-16 00:00:00  1980-06-21 00:00:00   48497.830   \n",
       "69800   241295550596572  1998-02-02 00:00:00  1965-08-13 00:00:00   48115.820   \n",
       "29914    42674208079779  1994-11-14 00:00:00  1974-04-07 00:00:00   66786.720   \n",
       "104905  165958929418567  2007-10-22 00:00:00  1988-04-11 00:00:00   35945.840   \n",
       "4344    625510991842258  2010-07-12 00:00:00  1986-11-23 00:00:00   59956.560   \n",
       "27379   547032182359617  2008-05-30 00:00:00  1975-10-11 00:00:00   46591.560   \n",
       "\n",
       "          PERF1   MERIT1  BOX1  MAX_RT_ANNUAL  MIN_RT_ANNUAL  HAVE_INS  \\\n",
       "49367   2416.09     0.00     2      67900.000      35800.000         1   \n",
       "86464      0.00     0.00   NaN          0.000          0.000         0   \n",
       "40829   1606.50   688.50     2      78795.000      45791.330         0   \n",
       "85328   1884.71  1828.73     2      62775.000      36900.000         0   \n",
       "36315   2554.04  1849.47     2      78795.000      45791.330         0   \n",
       "118281  2798.21  2026.29     2     111832.430      67796.800         1   \n",
       "45455       NaN      NaN   NaN      38026.900      22400.900         1   \n",
       "50901       NaN      NaN   NaN      42775.490      25175.160         1   \n",
       "65887   3042.00  2202.83     2     105259.110      62360.140         1   \n",
       "15894   1481.36   987.57     2      84150.000      44753.500         1   \n",
       "113268  1253.03   374.28     1      87975.000      46787.750         0   \n",
       "102958   214.33   551.14     1      46065.000      24882.500         0   \n",
       "59922   1574.21     0.52     2      44058.750      26708.320         0   \n",
       "6442    1918.74  2878.12     2      83160.000      49407.680         0   \n",
       "102712  3641.87     0.00     3      51294.000      31045.350         1   \n",
       "22457      0.00     0.00   NaN      88400.000      39500.000         0   \n",
       "50491   4968.88  2129.52     3      95690.100      56691.040         1   \n",
       "63900   2396.74  1735.57     2      95690.100      56691.040         1   \n",
       "113274   324.79   974.37     3      64309.106      33483.253         0   \n",
       "28176    719.89  2159.66     3      87600.000      41700.000         0   \n",
       "23403      0.00     0.00   NaN     157487.000      85078.000         0   \n",
       "79699       NaN      NaN   NaN      69115.000      34155.000         0   \n",
       "106006  2615.60   781.28     2      96984.800      56423.400         0   \n",
       "98485    746.37  1119.56     1      90614.250      52660.020         0   \n",
       "19412    516.73   422.78     1      40754.350      24705.200         1   \n",
       "67800   2716.74  1164.32     2      86998.230      54373.900         1   \n",
       "102200  1004.19   821.61     1      84150.000      47478.990         1   \n",
       "93126   5094.31  2430.71     2      95690.100      56691.040         1   \n",
       "27121       NaN      NaN   NaN      38026.900      22400.900         1   \n",
       "14573   4908.08  2103.46     3      80243.150      46230.960         1   \n",
       "...         ...      ...   ...            ...            ...       ...   \n",
       "120232  5890.00  1963.33     2     162785.000      64138.000         0   \n",
       "125138  2510.29  1817.80     2      90614.250      52660.020         1   \n",
       "51768    555.06  1665.17     2      64309.106      33483.253         0   \n",
       "113191  1701.89   480.02     2      38414.880      22608.760         0   \n",
       "84379    306.94   920.81     2      35596.800      20950.200         0   \n",
       "90590    832.80  2498.39     2      71324.645      40923.976         0   \n",
       "49023   2088.68  1392.45     2      83160.000      43898.090         0   \n",
       "114278  2531.71  1034.08     2      57474.000      35841.450         1   \n",
       "121459      NaN      NaN   NaN      34800.000      17800.000         0   \n",
       "88653   1988.50 -1247.87     1      48464.630      29379.150         1   \n",
       "64404   2167.34   928.86     2      86674.500      50370.460         1   \n",
       "61666   1279.66  1919.48     2      80243.150      46230.960         0   \n",
       "22137   3771.62  2731.17     2     133068.910      80171.360         1   \n",
       "110864  2231.66  1616.03     2     105259.110      62360.140         1   \n",
       "35135   3943.06  2855.32     3      80243.150      46230.960         1   \n",
       "112758   535.37     0.38     2      38532.300      19709.050         0   \n",
       "22965    846.13  1571.39     2      72676.800      43879.230         1   \n",
       "56705       NaN      NaN   NaN      38026.900      22400.900         1   \n",
       "81262   1905.97   635.32     3      39552.000      23278.000         0   \n",
       "133066   777.00  1443.00     2      66110.000      34303.500         0   \n",
       "11451   5429.88     0.00     3     105777.000      57772.900         1   \n",
       "76748      0.00  1000.00     2     170000.000     124000.000         1   \n",
       "36061   2872.18  1230.93     2      86674.500      50370.460         1   \n",
       "16562   1942.84   793.56     2      51294.000      31045.350         1   \n",
       "51921   1290.82  2397.23     2      76500.000      39500.000         1   \n",
       "69800   2014.68   822.90     2      53163.450      33153.340         1   \n",
       "29914   2520.25  3780.38     3      95690.100      56691.040         1   \n",
       "104905   939.53  1148.32     2      57474.000      35841.450         1   \n",
       "4344    2262.51  3393.77     3      95690.100      56691.040         1   \n",
       "27379   1422.64  7681.01     2      78795.000      45791.330         1   \n",
       "\n",
       "        HAVE_DEP EMPL_TYPE  Male  INTERN  HUBIND  \n",
       "49367          0         E     0       0       0  \n",
       "86464          0         N     1       1       0  \n",
       "40829          0         E     1       0       1  \n",
       "85328          0         E     0       0       0  \n",
       "36315          0         E     0       0       0  \n",
       "118281         1         S     1       0       1  \n",
       "45455          0         E     0       0       1  \n",
       "50901          0         E     1       0       0  \n",
       "65887          0         S     0       0       0  \n",
       "15894          0         E     0       0       0  \n",
       "113268         0         E     1       0       0  \n",
       "102958         0         E     1       0       0  \n",
       "59922          0         H     0       0       1  \n",
       "6442           0         E     1       0       0  \n",
       "102712         0         E     0       0       1  \n",
       "22457          0         S     0       0       0  \n",
       "50491          1         S     0       0       0  \n",
       "63900          1         S     0       0       1  \n",
       "113274         0         S     0       0       1  \n",
       "28176          0         S     0       0       0  \n",
       "23403          0         S     0       0       0  \n",
       "79699          0         E     1       0       1  \n",
       "106006         0         S     0       0       1  \n",
       "98485          0         E     0       0       0  \n",
       "19412          0         E     0       0       0  \n",
       "67800          0         E     0       0       1  \n",
       "102200         0         E     0       0       0  \n",
       "93126          1         S     1       0       0  \n",
       "27121          0         E     0       0       1  \n",
       "14573          0         E     1       0       0  \n",
       "...          ...       ...   ...     ...     ...  \n",
       "120232         0         S     1       0       0  \n",
       "125138         0         E     0       0       0  \n",
       "51768          0         E     1       0       0  \n",
       "113191         0         E     1       0       0  \n",
       "84379          0         H     1       1       0  \n",
       "90590          0         S     1       0       0  \n",
       "49023          0         E     1       0       0  \n",
       "114278         0         E     0       0       1  \n",
       "121459         0         H     0       0       0  \n",
       "88653          1         E     0       0       0  \n",
       "64404          0         E     1       0       0  \n",
       "61666          0         E     1       0       0  \n",
       "22137          1         S     0       0       1  \n",
       "110864         1         S     1       0       1  \n",
       "35135          0         S     1       0       0  \n",
       "112758         0         H     1       1       0  \n",
       "22965          1         S     1       0       1  \n",
       "56705          0         H     1       0       1  \n",
       "81262          0         E     0       0       0  \n",
       "133066         0         E     0       0       0  \n",
       "11451          1         S     1       0       0  \n",
       "76748          1         S     1       1       0  \n",
       "36061          0         E     0       0       0  \n",
       "16562          1         E     0       0       1  \n",
       "51921          1         E     0       0       0  \n",
       "69800          1         E     0       0       0  \n",
       "29914          0         S     0       0       1  \n",
       "104905         0         E     0       0       1  \n",
       "4344           0         S     0       0       0  \n",
       "27379          0         E     1       0       1  \n",
       "\n",
       "[107388 rows x 15 columns]"
      ]
     },
     "execution_count": 479,
     "metadata": {},
     "output_type": "execute_result"
    }
   ],
   "source": [
    "em2[min_col_list]"
   ]
  },
  {
   "cell_type": "code",
   "execution_count": 472,
   "metadata": {
    "collapsed": false
   },
   "outputs": [
    {
     "data": {
      "text/plain": [
       "0         0\n",
       "1         0\n",
       "2         0\n",
       "3         0\n",
       "4         1\n",
       "5         1\n",
       "6         0\n",
       "7         0\n",
       "8         0\n",
       "9         0\n",
       "10        0\n",
       "11        1\n",
       "12        1\n",
       "13        0\n",
       "14        1\n",
       "15        0\n",
       "16        0\n",
       "17        1\n",
       "18        0\n",
       "19        0\n",
       "20        1\n",
       "21        1\n",
       "22        1\n",
       "23        0\n",
       "24        0\n",
       "25        1\n",
       "26        0\n",
       "27        1\n",
       "28        1\n",
       "29        0\n",
       "         ..\n",
       "134206    1\n",
       "134207    1\n",
       "134208    1\n",
       "134209    0\n",
       "134210    0\n",
       "134211    0\n",
       "134212    0\n",
       "134213    0\n",
       "134214    1\n",
       "134215    1\n",
       "134216    1\n",
       "134217    0\n",
       "134218    1\n",
       "134219    0\n",
       "134220    0\n",
       "134221    1\n",
       "134222    0\n",
       "134223    0\n",
       "134224    0\n",
       "134225    1\n",
       "134226    0\n",
       "134227    1\n",
       "134228    0\n",
       "134229    1\n",
       "134230    0\n",
       "134231    0\n",
       "134232    0\n",
       "134233    0\n",
       "134234    1\n",
       "134235    0\n",
       "Name: HUBIND, dtype: int64"
      ]
     },
     "execution_count": 472,
     "metadata": {},
     "output_type": "execute_result"
    }
   ],
   "source": [
    "pipe_small_0 = pipe()"
   ]
  },
  {
   "cell_type": "code",
   "execution_count": null,
   "metadata": {
    "collapsed": true
   },
   "outputs": [],
   "source": []
  },
  {
   "cell_type": "code",
   "execution_count": null,
   "metadata": {
    "collapsed": true
   },
   "outputs": [],
   "source": [
    "pipe_categorical_features = Pipeline([ ('factor_encode', br.ConvertCategorical(cat_cols_to_label_encode))])"
   ]
  },
  {
   "cell_type": "code",
   "execution_count": 144,
   "metadata": {
    "collapsed": false
   },
   "outputs": [],
   "source": [
    "pipeline = Pipeline([\n",
    "    ('features', FeatureUnion([\n",
    "        ('factorize', Pipeline([\n",
    "            ('extract', ColumnExtractor(cat_cols_to_label_encode)),\n",
    "            ('factor_encode',br.ConvertCategorical(cat_cols_to_label_encode))                                \n",
    "            #('scale', Normalizer())\n",
    "        ])),\n",
    "        ('dummy', Pipeline([\n",
    "            ('extract', ColumnExtractor(cat_cols_to_dummy_encode)),\n",
    "            ('dummy_encode',br.ConvertCategorical(cat_cols_to_dummy_encode,method='dummy'))\n",
    "            #('one_hot', OneHotEncoder(n_values=5)),\n",
    "            #('to_dense', DenseTransformer())\n",
    "        ]))\n",
    "                    ]))])"
   ]
  },
  {
   "cell_type": "code",
   "execution_count": 132,
   "metadata": {
    "collapsed": false
   },
   "outputs": [
    {
     "data": {
      "text/plain": [
       "(10, 3)"
      ]
     },
     "execution_count": 132,
     "metadata": {},
     "output_type": "execute_result"
    }
   ],
   "source": [
    "tmp_cols = []\n",
    "tmp_cols += cat_cols_to_label_encode\n",
    "tmp_cols += cat_cols_to_dummy_encode\n",
    "len(tmp_cols), len(cat_cols_to_label_encode)"
   ]
  },
  {
   "cell_type": "code",
   "execution_count": 137,
   "metadata": {
    "collapsed": false
   },
   "outputs": [],
   "source": [
    "pipe_categorical_features = Pipeline(steps=[('tmp_cat_feat', FeatureUnion(transformer_list=[\n",
    "        ('factor_encode',br.ConvertCategorical(cat_cols_to_label_encode)),\n",
    "        ('dummy_encode', br.ConvertCategorical(cat_cols_to_dummy_encode,method='dummy'))\n",
    "        \n",
    "    ]))])\n",
    "#ft = categorical_features.fit_transform(em2[tmp_cols])"
   ]
  },
  {
   "cell_type": "code",
   "execution_count": 148,
   "metadata": {
    "collapsed": true
   },
   "outputs": [],
   "source": [
    "#ft = pipeline.fit_transform(em2[tmp_cols])\n",
    "ft = pipe_categorical_features.fit(em2[tmp_cols],em2['retired']).transform(em2[tmp_cols])"
   ]
  },
  {
   "cell_type": "code",
   "execution_count": 149,
   "metadata": {
    "collapsed": false
   },
   "outputs": [
    {
     "data": {
      "text/plain": [
       "((107388, 59), (107388, 10))"
      ]
     },
     "execution_count": 149,
     "metadata": {},
     "output_type": "execute_result"
    }
   ],
   "source": [
    "np.shape(ft), np.shape(em2[tmp_cols])"
   ]
  },
  {
   "cell_type": "code",
   "execution_count": null,
   "metadata": {
    "collapsed": true
   },
   "outputs": [],
   "source": [
    "pipeline = Pipeline([\n",
    "    # preprocess the categorical data\n",
    "    ('subjectbody', SubjectBodyExtractor()),\n",
    "\n",
    "    # Use FeatureUnion to combine the features from subject and body\n",
    "    ('union', FeatureUnion(\n",
    "        transformer_list=[\n",
    "\n",
    "            # Pipeline for pulling features from the post's subject line\n",
    "            ('subject', Pipeline([\n",
    "                ('selector', ItemSelector(key='subject')),\n",
    "                ('tfidf', TfidfVectorizer(min_df=50)),\n",
    "            ])),\n",
    "\n",
    "            # Pipeline for standard bag-of-words model for body\n",
    "            ('body_bow', Pipeline([\n",
    "                ('selector', ItemSelector(key='body')),\n",
    "                ('tfidf', TfidfVectorizer()),\n",
    "                ('best', TruncatedSVD(n_components=50)),\n",
    "            ])),\n",
    "\n",
    "            # Pipeline for pulling ad hoc features from post's body\n",
    "            ('body_stats', Pipeline([\n",
    "                ('selector', ItemSelector(key='body')),\n",
    "                ('stats', TextStats()),  # returns a list of dicts\n",
    "                ('vect', DictVectorizer()),  # list of dicts -> feature matrix\n",
    "            ])),\n",
    "\n",
    "        ],\n",
    "\n",
    "        # weight components in FeatureUnion\n",
    "        transformer_weights={\n",
    "            'subject': 0.8,\n",
    "            'body_bow': 0.5,\n",
    "            'body_stats': 1.0,\n",
    "        },\n",
    "    )),\n",
    "\n",
    "    # Use a SVC classifier on the combined features\n",
    "    #('svc', SVC(kernel='linear')),\n",
    "])"
   ]
  },
  {
   "cell_type": "code",
   "execution_count": null,
   "metadata": {
    "collapsed": true
   },
   "outputs": [],
   "source": []
  },
  {
   "cell_type": "code",
   "execution_count": null,
   "metadata": {
    "collapsed": true
   },
   "outputs": [],
   "source": []
  },
  {
   "cell_type": "code",
   "execution_count": null,
   "metadata": {
    "collapsed": true
   },
   "outputs": [],
   "source": []
  },
  {
   "cell_type": "markdown",
   "metadata": {},
   "source": [
    "## Utilize pipeline to preprocess the categorical data"
   ]
  },
  {
   "cell_type": "code",
   "execution_count": 105,
   "metadata": {
    "collapsed": false
   },
   "outputs": [],
   "source": [
    "pp_category_pipe = Pipeline([(\"cat_le\",br.ConvertCategorical(cat_cols_to_label_encode)),\n",
    "                            (\"cat_dummy\",br.ConvertCategorical(['FULL_PART_TIME','COMPANY'],method='value_counts'))])\n",
    "#(\"cat_survmed\",br.Convert)]\n",
    "# this is the same as factorize ( I think)\n"
   ]
  },
  {
   "cell_type": "code",
   "execution_count": null,
   "metadata": {
    "collapsed": false
   },
   "outputs": [],
   "source": [
    "pipe = Pipeline([(\"catd\", br.ConvertCategorical(cat_cols_to_dummy_encode, method='dummy')),\n",
    "                 (\"catf\", br.ConvertCategorical(cat_cols_to_label_encode))])\n",
    "ft= pipe.fit_transform(em2)\n",
    "                 #(\"imp\", br.ImputeData(columns_to_impute='auto', rows_to_scan=0.3)),\n",
    "                 #(\"redu\", br.DimensionReduction(rows_to_scan=0.3, n_components=10))])"
   ]
  },
  {
   "cell_type": "code",
   "execution_count": null,
   "metadata": {
    "collapsed": false
   },
   "outputs": [],
   "source": [
    "ft = pp_category_pipe.fit_transform(em2)"
   ]
  },
  {
   "cell_type": "code",
   "execution_count": null,
   "metadata": {
    "collapsed": false
   },
   "outputs": [],
   "source": [
    "from sklearn.feature_selection import VarianceThreshold\n",
    "sel = VarianceThreshold(threshold=(.8*1-.8))\n",
    "sel.fit_transform(em2[cols_categorical])"
   ]
  },
  {
   "cell_type": "code",
   "execution_count": null,
   "metadata": {
    "collapsed": false
   },
   "outputs": [],
   "source": [
    "br.get_columns_with_nulls(em2[cols_categorical])"
   ]
  },
  {
   "cell_type": "code",
   "execution_count": null,
   "metadata": {
    "collapsed": true
   },
   "outputs": [],
   "source": [
    "## create a class for this\n"
   ]
  },
  {
   "cell_type": "code",
   "execution_count": null,
   "metadata": {
    "collapsed": true
   },
   "outputs": [],
   "source": [
    "pipe = Pipeline(['impute',])"
   ]
  },
  {
   "cell_type": "code",
   "execution_count": null,
   "metadata": {
    "collapsed": true
   },
   "outputs": [],
   "source": [
    "# break into X and Xeval groups\n"
   ]
  },
  {
   "cell_type": "code",
   "execution_count": null,
   "metadata": {
    "collapsed": true
   },
   "outputs": [],
   "source": [
    "from sklearn.pipeline import Pipeline\n",
    "cate_list = br.get_categorical_list(X)\n",
    "pipe = Pipeline([(\"null\", br.RemoveAllNull()),                   \n",
    "                 (\"cat\", br.ConvertCategorical(cate_list, rows_to_scan=0.3)),\n",
    "                 (\"imp\", br.ImputeData(columns_to_impute='auto', rows_to_scan=0.3)),\n",
    "                 (\"redu\", br.DimensionReduction(rows_to_scan=0.3, n_components=10))])\n",
    "pipe.fit(X, y).transform(testX)[0:10]"
   ]
  },
  {
   "cell_type": "code",
   "execution_count": null,
   "metadata": {
    "collapsed": true
   },
   "outputs": [],
   "source": [
    "#### create a new list of cols_to_keep\n"
   ]
  },
  {
   "cell_type": "code",
   "execution_count": null,
   "metadata": {
    "collapsed": false
   },
   "outputs": [],
   "source": [
    "#catdummy = br.ConvertCategorical(categorical_columns=[['LOC_STATE','LOC_TYPE_DESCR_SFI']],rows_to_scan='all')\n",
    "#catdummy.fit(em2, em2['terminated']).transform(em2eval)[0:10]"
   ]
  },
  {
   "cell_type": "code",
   "execution_count": null,
   "metadata": {
    "collapsed": false
   },
   "outputs": [],
   "source": [
    "for c in em2002[['LOC_STATE','LOC_TYPE_DESCR_SFI']].columns:\n",
    "    print c\n",
    "    print len(em2002[c].unique())"
   ]
  },
  {
   "cell_type": "code",
   "execution_count": null,
   "metadata": {
    "collapsed": false
   },
   "outputs": [],
   "source": [
    "\n",
    "cols_to_survival = ['GRADE','JOB_FAMILY','JOB_FUNCTION','LOCATION']\n",
    "cols_to_cat_encode = ['EMPL_CLASS','EEO1CODE','EMPL_TYPE','FULL_PART_TIME']\n",
    "cols_to_label_encode = ['LOC_TYPE_DESCR_SFI','LOC_STATE']"
   ]
  },
  {
   "cell_type": "code",
   "execution_count": null,
   "metadata": {
    "collapsed": true
   },
   "outputs": [],
   "source": []
  },
  {
   "cell_type": "code",
   "execution_count": null,
   "metadata": {
    "collapsed": false
   },
   "outputs": [],
   "source": [
    "#br.get_percentage_of_nulls_pd(em2002)"
   ]
  },
  {
   "cell_type": "code",
   "execution_count": null,
   "metadata": {
    "collapsed": true
   },
   "outputs": [],
   "source": [
    "from sklearn.feature_selection import VarianceThreshold\n",
    "my_prob_thresh = .8\n",
    "sel = VarianceThreshold(threshold=(my_prob_thresh*(1 - my_prob_thresh)))\n",
    "sel.fit_transform(em2002[['FLSA_STATUS','FLOR_SFI','Male','INTERN']])"
   ]
  },
  {
   "cell_type": "code",
   "execution_count": null,
   "metadata": {
    "collapsed": true
   },
   "outputs": [],
   "source": []
  },
  {
   "cell_type": "code",
   "execution_count": null,
   "metadata": {
    "collapsed": true
   },
   "outputs": [],
   "source": []
  },
  {
   "cell_type": "code",
   "execution_count": null,
   "metadata": {
    "collapsed": true
   },
   "outputs": [],
   "source": []
  },
  {
   "cell_type": "code",
   "execution_count": null,
   "metadata": {
    "collapsed": true
   },
   "outputs": [],
   "source": []
  },
  {
   "cell_type": "code",
   "execution_count": null,
   "metadata": {
    "collapsed": true
   },
   "outputs": [],
   "source": []
  },
  {
   "cell_type": "code",
   "execution_count": null,
   "metadata": {
    "collapsed": true
   },
   "outputs": [],
   "source": []
  },
  {
   "cell_type": "markdown",
   "metadata": {},
   "source": [
    "## helper functions follow"
   ]
  },
  {
   "cell_type": "code",
   "execution_count": null,
   "metadata": {
    "collapsed": true
   },
   "outputs": [],
   "source": [
    "def assign_unempl_rate(my_date,unempl):\n",
    "    try :\n",
    "        un_rate = unempl[unempl.index <= my_date]['value'].values[-1]\n",
    "    except IndexError:\n",
    "        un_rate = unempl['value'].ix[0]\n",
    "        \n",
    "    return un_rate"
   ]
  },
  {
   "cell_type": "code",
   "execution_count": null,
   "metadata": {
    "collapsed": true
   },
   "outputs": [],
   "source": [
    "# function to truncate POSTAL_ZIP to zip5\n",
    "def truncate_postal_zip(in_zip):\n",
    "    try:\n",
    "        out_zip = in_zip[:5]\n",
    "        #print out_zip\n",
    "    except:\n",
    "        #out_zip = str(in_zip)[:5]\n",
    "        out_zip = np.nan\n",
    "    return out_zip"
   ]
  },
  {
   "cell_type": "code",
   "execution_count": null,
   "metadata": {
    "collapsed": true
   },
   "outputs": [],
   "source": [
    "## function to load into pandas from hdfs (by copying to local filespace)\n",
    "def pandas_read_hdfs(infile,sep = ';',dtype_dict = None):\n",
    "    # copy the infile to the cwd\n",
    "    !hdfs dfs -get {infile} .\n",
    "    # identify the local file name\n",
    "    inname = infile[infile.rfind('/')+1:]\n",
    "    # read into a data frame\n",
    "    if dtype_dict != None:\n",
    "        df = pd.read_csv(inname,sep=sep,dtype =dtype_dict)\n",
    "    else:\n",
    "        df = pd.read_csv(inname,sep=sep)\n",
    "    # clean up local filespace\n",
    "    !rm {inname}\n",
    "    return df"
   ]
  },
  {
   "cell_type": "code",
   "execution_count": null,
   "metadata": {
    "collapsed": true
   },
   "outputs": [],
   "source": [
    "def summarize_dataframe2(df,show_example=False):\n",
    "    nrow = len(df)\n",
    "    summary_df = pd.DataFrame(columns = ['Column','datatype','nmissing','arity','accepted values'])\n",
    "    len_df = len(summary_df)\n",
    "    for col in df.columns:\n",
    "        nmiss = nrow - df[col].value_counts().sum()\n",
    "        narity = len(df[col].unique())\n",
    "        if show_example:\n",
    "            print col, df[col].dtype,nmiss, \"\\t\", narity,\":\\t\", df[col].ix[8320]\n",
    "        else:\n",
    "            print col, df[col].dtype,nmiss, \"\\t\", narity\n",
    "        accept_val = None\n",
    "        if narity < 20:\n",
    "            accept_val = df[col].unique()\n",
    "        summary_df.loc[len_df] = [col,df[col].dtype,nmiss,narity,accept_val]\n",
    "        len_df+=1\n",
    "    # assing fraction of missing\n",
    "    summary_df['x_missing'] = summary_df['nmissing']/float(nrow)\n",
    "    \n",
    "    return summary_df"
   ]
  },
  {
   "cell_type": "markdown",
   "metadata": {},
   "source": [
    "###check on various  encoded variables\n",
    "\n",
    "* arity = 4, for 'SHIFT' map 'N' --> 0 and make FULL_PART_TIME categorical\n",
    "* arity = 5 -- make EMPL_TYPE to categorical\n",
    "* arity = 6, fine\n",
    "* arity = 7, make COMPANY categorical\n",
    "* arity = 8,9,10, fine\n",
    "* arity = 11: EEO1CODE to categorical\n",
    "* arity = 12: EMPL_CLASS to categorical\n",
    "* arity = 19: JOB_FUNCTION to categorical"
   ]
  },
  {
   "cell_type": "code",
   "execution_count": null,
   "metadata": {
    "collapsed": false
   },
   "outputs": [],
   "source": [
    "#sdf[sdf.arity==4]\n",
    "# dictonary of ratings\n",
    "ratings_dict = {}\n",
    "high_ratings = ['R3C3','R3C2','L3EXC','L3-EXC','OTSD','L3PRO','L3-PRO',\n",
    "                'EXCELS','SUPR','EXC/SUS','EXC/IMP','PEXE','ME - MEETS']\n",
    "low_ratings = ['IMPR','L1INC','L1DEV','L1PRO','NTAC','R1C2','R1C3','INC/DEC',\n",
    "               'INC/SUS','INC/IMP','INCNSSTE','L1EXC','UNAC','R1C1','L2-INC','L2INC',\n",
    "               'L1-EXC','L1-PRO','BEXP','L1-DEV','L1-INC','DNM - DOES','R3C1','R2C1']\n",
    "solid_ratings = ['R2C3','R2C2','L2EXC','L2PRO','EXPE','/EX/','COMM','AOBJ','EXC/DEC',\n",
    "                 'PRO/IMP','PRO/SUS','PRO/DEC','SM - SUCCE','MS - MEETS','L2DEV','L3INC',\n",
    "                 'L3DEV','L2-DEV','L3-INC','ACPT','L3-DEV','L2-EXC','L2-PRO']\n",
    "\n",
    "# initialize\n",
    "for rating in high_ratings:\n",
    "    ratings_dict[rating] = 3\n",
    "for rating in low_ratings:\n",
    "    ratings_dict[rating]=1\n",
    "for rating in solid_ratings:\n",
    "    ratings_dict[rating]=2\n",
    "\n",
    "\n",
    "# function for assigning\n",
    "def assign_simple_rating(x,my_dict = ratings_dict):\n",
    "    try:\n",
    "        rval = my_dict[x.strip()]\n",
    "    except KeyError:\n",
    "        rval = 0\n",
    "    except AttributeError:\n",
    "        rval = 0\n",
    "    return rval"
   ]
  },
  {
   "cell_type": "code",
   "execution_count": null,
   "metadata": {
    "collapsed": false
   },
   "outputs": [],
   "source": [
    "### For Rate replace solid with 2, High with 3, Low with 1\n",
    "#rate_col_list = [x for x in empl_bene.columns if x.startswith('RATE')]\n",
    "#print len(rate_col_list)\n",
    "#empl_bene[rate_col_list] = empl_bene[rate_col_list].applymap(lambda x: assign_simple_rating(x))\n",
    "##empl[rate_col_list] = empl[rate_col_list].map(lambda(x): assign_simple_rating(x)).copy()\n",
    "#empl_bene[rate_col_list].head()"
   ]
  },
  {
   "cell_type": "code",
   "execution_count": null,
   "metadata": {
    "collapsed": true
   },
   "outputs": [],
   "source": []
  },
  {
   "cell_type": "code",
   "execution_count": null,
   "metadata": {
    "collapsed": false
   },
   "outputs": [],
   "source": [
    "cat_description = br.describe_categorical(em2002[cols_categorical])\n",
    "cat_description"
   ]
  },
  {
   "cell_type": "code",
   "execution_count": null,
   "metadata": {
    "collapsed": false
   },
   "outputs": [],
   "source": [
    "em2002[['SAL1','SAL2']].corr()"
   ]
  },
  {
   "cell_type": "code",
   "execution_count": null,
   "metadata": {
    "collapsed": false
   },
   "outputs": [],
   "source": [
    "em2002['SAL2'].describe()"
   ]
  },
  {
   "cell_type": "code",
   "execution_count": null,
   "metadata": {
    "collapsed": false
   },
   "outputs": [],
   "source": []
  },
  {
   "cell_type": "code",
   "execution_count": null,
   "metadata": {
    "collapsed": false
   },
   "outputs": [],
   "source": [
    "len(numeric_to_impute)"
   ]
  },
  {
   "cell_type": "code",
   "execution_count": null,
   "metadata": {
    "collapsed": false
   },
   "outputs": [],
   "source": [
    "numeric_to_impute"
   ]
  },
  {
   "cell_type": "code",
   "execution_count": null,
   "metadata": {
    "collapsed": false
   },
   "outputs": [],
   "source": [
    "len(list(set(cols_numeric) - set(mos_cols) - set(useful_time_cols) - set(potential_target_cols)-set(numeric_to_impute)))"
   ]
  },
  {
   "cell_type": "code",
   "execution_count": null,
   "metadata": {
    "collapsed": false
   },
   "outputs": [],
   "source": [
    "[c for c in list(set(cols_numeric) - set(mos_cols) - set(useful_time_cols) - set(potential_target_cols)-set(numeric_to_impute))]"
   ]
  },
  {
   "cell_type": "code",
   "execution_count": null,
   "metadata": {
    "collapsed": false
   },
   "outputs": [],
   "source": [
    "em2002[['TOT_MO_SERVICE_SFI','Tenure_years']].corr()"
   ]
  },
  {
   "cell_type": "code",
   "execution_count": null,
   "metadata": {
    "collapsed": false
   },
   "outputs": [],
   "source": [
    "em2002['FLOR_SFI'].value_counts()"
   ]
  },
  {
   "cell_type": "code",
   "execution_count": null,
   "metadata": {
    "collapsed": true
   },
   "outputs": [],
   "source": []
  },
  {
   "cell_type": "code",
   "execution_count": null,
   "metadata": {
    "collapsed": false
   },
   "outputs": [],
   "source": []
  },
  {
   "cell_type": "code",
   "execution_count": null,
   "metadata": {
    "collapsed": false
   },
   "outputs": [],
   "source": [
    "em2002['INTERN'].value_counts()"
   ]
  },
  {
   "cell_type": "code",
   "execution_count": null,
   "metadata": {
    "collapsed": false
   },
   "outputs": [],
   "source": [
    "em2[recentcols].describe()"
   ]
  },
  {
   "cell_type": "code",
   "execution_count": null,
   "metadata": {
    "collapsed": false
   },
   "outputs": [],
   "source": [
    "br.get_percentage_of_nulls_pd(em2,recentcols)"
   ]
  },
  {
   "cell_type": "markdown",
   "metadata": {
    "collapsed": true
   },
   "source": [
    "## Attempt to apply pipeline logic"
   ]
  },
  {
   "cell_type": "code",
   "execution_count": null,
   "metadata": {
    "collapsed": false
   },
   "outputs": [],
   "source": [
    "len(em2build.columns)"
   ]
  },
  {
   "cell_type": "code",
   "execution_count": null,
   "metadata": {
    "collapsed": true
   },
   "outputs": [],
   "source": [
    "fixzero=br.FixNumericOutlier(columns_to_fix=['SAL1','MIN_RT_ANNUAL'], criteria_coef=('percentile', 10), \n",
    "                            method = 'lower', fill_with='nearest_value')#,   \n",
    "fixboth = br.FixNumericOutlier(columns_to_fix=['MAX_RT_ANNUAL'],criteria_coef =('percentale',10),\n",
    "                              method='both',fill_with='nearest_value')"
   ]
  },
  {
   "cell_type": "code",
   "execution_count": null,
   "metadata": {
    "collapsed": true
   },
   "outputs": [],
   "source": [
    "pipe0 = Pipeline('extract_cols', selectColumns(),\n",
    "                'fixzero', fixzero(),\n",
    "                'fixboth',fixboth(),\n",
    "                'impute_numeric',br.ImputeData(columns_to_impute=['MERIT1','PERF1','ADDRCNT'])"
   ]
  },
  {
   "cell_type": "code",
   "execution_count": null,
   "metadata": {
    "collapsed": true
   },
   "outputs": [],
   "source": [
    "class selectColumns(BaseEstimator, TransformerMixin):\n",
    "    def __init__(self, )"
   ]
  },
  {
   "cell_type": "code",
   "execution_count": null,
   "metadata": {
    "collapsed": false
   },
   "outputs": [],
   "source": [
    "class RemoveAllNull(BaseEstimator, TransformerMixin):\n",
    "    def __init__(self, columns_to_check='all'):\n",
    "        \"\"\"\n",
    "        A class that can be inserted into pipeline.\n",
    "        This will remove the columns with all missing values in the columns_to_check\n",
    "        \n",
    "        Parameter:\n",
    "        ----------\n",
    "        columns_to_check: string or list, optional (default=\"all\")\n",
    "            If \"all\", check all columns. Other \n",
    "            strings are interpreted to represent column names and you can \n",
    "            pass a list of column names to check.\n",
    "        -----------\n",
    "        \n",
    "        returns a pandas dataframe\n",
    "        \"\"\"\n",
    "        self.columns_to_check = columns_to_check\n",
    "    \n",
    "    def fit(self, X, y=None):\n",
    "        self.columns_to_remove = get_columns_with_all_nulls(X, self.columns_to_check)\n",
    "        return self\n",
    "    def transform(self, X, y=None):\n",
    "        X_temp = X.copy()\n",
    "        for col in X_temp.columns:\n",
    "            if col in self.columns_to_remove:\n",
    "                X_temp.pop(col)\n",
    "        return X_temp"
   ]
  },
  {
   "cell_type": "code",
   "execution_count": null,
   "metadata": {
    "collapsed": true
   },
   "outputs": [],
   "source": [
    "from sklearn.pipeline import Pipeline,FeatureUnion"
   ]
  },
  {
   "cell_type": "code",
   "execution_count": null,
   "metadata": {
    "collapsed": true
   },
   "outputs": [],
   "source": [
    "pipe0 = Pipeline(['col_drop', ])"
   ]
  },
  {
   "cell_type": "code",
   "execution_count": null,
   "metadata": {
    "collapsed": true
   },
   "outputs": [],
   "source": [
    "feature_extraction0 = FeatureUnion(['med_surv',medianSurvival(),\n",
    "                                   'continuous',])\n",
    "pipeline0 = Pipeline([\n",
    "  ('extract_essays', EssayExractor()),\n",
    "  ('features', FeatureUnion([\n",
    "    ('ngram_tf_idf', Pipeline([\n",
    "      ('counts', CountVectorizer()),\n",
    "      ('tf_idf', TfidfTransformer())\n",
    "    ])),\n",
    "    ('essay_length', LengthTransformer()),\n",
    "    ('misspellings', MispellingCountTransformer())\n",
    "  ])),\n",
    "  ('classifier', MultinomialNB())\n",
    "])"
   ]
  },
  {
   "cell_type": "code",
   "execution_count": null,
   "metadata": {
    "collapsed": true
   },
   "outputs": [],
   "source": [
    "fixrate1 = br.FixNumericOutlier(columns_to_fix = ['MIN_RT_ANNUAL','']"
   ]
  },
  {
   "cell_type": "code",
   "execution_count": null,
   "metadata": {
    "collapsed": true
   },
   "outputs": [],
   "source": [
    "from sklearn.pipeline import Pipeline\n",
    "cate_list = br.get_categorical_list(X)\n",
    "pipe = Pipeline([(\"null\", br.RemoveAllNull()),                   \n",
    "                 (\"cat\", br.ConvertCategorical(cate_list, rows_to_scan=0.3)),\n",
    "                 (\"imp\", br.ImputeData(columns_to_impute='auto', rows_to_scan=0.3)),\n",
    "                 (\"redu\", br.DimensionReduction(rows_to_scan=0.3, n_components=10))])\n",
    "pipe.fit(X, y).transform(testX)[0:10]"
   ]
  },
  {
   "cell_type": "markdown",
   "metadata": {},
   "source": [
    "## Step through the DF with bear\n",
    "1. list all columns\n",
    "2. find those that have all nulls\n",
    "3. find those that have any missing"
   ]
  },
  {
   "cell_type": "code",
   "execution_count": null,
   "metadata": {
    "collapsed": false
   },
   "outputs": [],
   "source": [
    "# check if any column has all missing\n",
    "chk_for_null_columns = br.get_columns_with_all_nulls(empl_bene)\n",
    "if len(chk_for_null_columns) > 0:\n",
    "    print \"WARNING there are {0} columns that are completely null.\".format(chk_for_null_columns)\n",
    "    print chk_for_null_columns\n",
    "    empl_bene.drop(chk_for_null_columns,axis=1,inplace=True)\n",
    "else:\n",
    "    print \"there were no columns that were universally null.\"\n",
    "    \n"
   ]
  },
  {
   "cell_type": "markdown",
   "metadata": {},
   "source": [
    "# encode some categorical"
   ]
  },
  {
   "cell_type": "code",
   "execution_count": null,
   "metadata": {
    "collapsed": false
   },
   "outputs": [],
   "source": [
    "# identify the columns with missing data\n",
    "cols_with_missing_data = br.get_columns_with_nulls(empl_bene)\n",
    "if len(cols_with_missing_data)==0:\n",
    "    print \"there were no columns with missing data.\"\n",
    "else:\n",
    "    print \"WARNING there are {0} columns that have missing data.\".format(len(cols_with_missing_data))\n",
    "    print \"These columns are:\\t\",cols_with_missing_data"
   ]
  },
  {
   "cell_type": "code",
   "execution_count": null,
   "metadata": {
    "collapsed": false
   },
   "outputs": [],
   "source": [
    "# Partition these with missing values into categorical/boolean/numeric\n",
    "all_numeric_cols = br.get_numeric(empl_bene)\n",
    "all_cat_cols = br.get_categorical(empl_bene)\n",
    "print len(all_numeric_cols),len(all_cat_cols)"
   ]
  },
  {
   "cell_type": "code",
   "execution_count": null,
   "metadata": {
    "collapsed": false
   },
   "outputs": [],
   "source": [
    "## which columns are numeric and have missing?\n",
    "print len(list(set(all_numeric_cols).intersection(set(cols_with_missing_data))))\n",
    "print len(list(set(all_cat_cols).intersection(set(cols_with_missing_data))))"
   ]
  },
  {
   "cell_type": "code",
   "execution_count": null,
   "metadata": {
    "collapsed": false
   },
   "outputs": [],
   "source": [
    "sdf.sort('nmissing',ascending=False)"
   ]
  },
  {
   "cell_type": "code",
   "execution_count": null,
   "metadata": {
    "collapsed": true
   },
   "outputs": [],
   "source": [
    "from sklearn import preprocessing\n",
    "label_encoder = preprocessing.LabelEncoder() #assigns unique integers to values base upon alphabetical order."
   ]
  },
  {
   "cell_type": "code",
   "execution_count": null,
   "metadata": {
    "collapsed": false
   },
   "outputs": [],
   "source": [
    "boolean_cols = sdf[(sdf.arity==2) & (sdf.datatype=='object')].Column.values\n",
    "print boolean_cols\n",
    "for c in boolean_cols:\n",
    "    print c, sdf[sdf.Column==c]['accepted values']"
   ]
  },
  {
   "cell_type": "code",
   "execution_count": null,
   "metadata": {
    "collapsed": true
   },
   "outputs": [],
   "source": [
    "for col in boolean_cols:\n",
    "    empl_bene[col] = label_encoder.fit_transform(empl_bene[col]) # use sklearn.preprocesing.LabelEncoder()\n",
    "\n"
   ]
  },
  {
   "cell_type": "code",
   "execution_count": null,
   "metadata": {
    "collapsed": false
   },
   "outputs": [],
   "source": []
  },
  {
   "cell_type": "code",
   "execution_count": null,
   "metadata": {
    "collapsed": false
   },
   "outputs": [],
   "source": []
  },
  {
   "cell_type": "code",
   "execution_count": null,
   "metadata": {
    "collapsed": false
   },
   "outputs": [],
   "source": [
    "[a for a in em2002[em2002.FULL_PART_TIME_X==1].columns if a.endswith('months')]\n",
    "em2002[em2002.FULL_PART_TIME_X==1].Tenure_months.describe()#hist(normed=True)\n",
    "#em2002[em2002.FULL_PART_TIME_X!=1].Tenure_months.hist(normed=True)"
   ]
  },
  {
   "cell_type": "code",
   "execution_count": null,
   "metadata": {
    "collapsed": false
   },
   "outputs": [],
   "source": [
    "em2002[em2002.FULL_PART_TIME_X==0].Tenure_months.describe()"
   ]
  },
  {
   "cell_type": "code",
   "execution_count": null,
   "metadata": {
    "collapsed": false
   },
   "outputs": [],
   "source": [
    "empl_bene.FULL_PART_TIME.value_counts(), empl_bene.EMPL_TYPE.value_counts()"
   ]
  },
  {
   "cell_type": "code",
   "execution_count": null,
   "metadata": {
    "collapsed": false
   },
   "outputs": [],
   "source": [
    "cols_to_categorical_1 = br.get_categorical(em2002[cols_to_consider1])\n",
    "for c in cols_to_categorical_1:\n",
    "    print c, len(em2002[c].unique()), sum(em2002[c].isnull())"
   ]
  },
  {
   "cell_type": "code",
   "execution_count": null,
   "metadata": {
    "collapsed": true
   },
   "outputs": [],
   "source": [
    "def create_factorized_df(input_df,column_name):\n",
    "    tmp_df = pd.get_dummies(input_df[column_name],prefix=column_name)\n",
    "    # now drop the largest category\n",
    "    lgst_category = input_df[column_name].value_counts().index[0]\n",
    "    #print tmp_df.shape, tmp_df.columns\n",
    "    #print lgst_category\n",
    "    base_category = column_name+'_'+str(lgst_category)\n",
    "    tmp_df.drop(base_category,axis=1,inplace=True)\n",
    "    print tmp_df.shape, base_category\n",
    "    return tmp_df,base_category"
   ]
  },
  {
   "cell_type": "code",
   "execution_count": null,
   "metadata": {
    "collapsed": false
   },
   "outputs": [],
   "source": [
    "missing_cols2_as_floats =[]\n",
    "missing_cols2_as_cats = []\n",
    "for c in list_with_missing2:\n",
    "    my_dtype = em2002[c].dtype\n",
    "    \n",
    "    if my_dtype == np.float64:\n",
    "        \n",
    "        missing_cols2_as_floats.append(c)\n",
    "    else:\n",
    "        print c, sum(em2002[c].isnull()), em2002[c].dtype\n",
    "        missing_cols2_as_cats.append(c)\n",
    "        \n",
    "print len(missing_cols2_as_floats)"
   ]
  },
  {
   "cell_type": "code",
   "execution_count": null,
   "metadata": {
    "collapsed": true
   },
   "outputs": [],
   "source": [
    "em2002['LOC_STATE'].fillna('XX',inplace=True)\n",
    "em2002['GRADE'].fillna('XXX',inplace=True)\n",
    "em2002['JOB_FAMILY'].fillna('XXXXX',inplace=True)\n",
    "em2002['LOC_TYPE_DESCR_SFI'].fillna('UNKNOWN LOCATION TYPE',inplace=True)\n",
    "em2002['JOB_FUNCTION'].fillna('XXX',inplace=True)\n",
    "cols_to_survival = ['GRADE','JOB_FAMILY','JOB_FUNCTION','LOCATION']\n",
    "cols_to_cat3 = ['EMPL_CLASS','EEO1CODE','EMPL_TYPE','FULL_PART_TIME']\n",
    "cols_to_label_encode = ['LOC_TYPE_DESCR_SFI','LOC_STATE']\n",
    "\n",
    "em2002.drop('LEGACY_DEPT_SFI',axis=1,inplace=True)\n",
    "\n"
   ]
  },
  {
   "cell_type": "code",
   "execution_count": null,
   "metadata": {
    "collapsed": false
   },
   "outputs": [],
   "source": [
    "em2002.COMPANY.value_counts()"
   ]
  },
  {
   "cell_type": "code",
   "execution_count": null,
   "metadata": {
    "collapsed": false
   },
   "outputs": [],
   "source": [
    "# create a dummified dataframe.\n",
    "base_category_list =[]\n",
    "dummy_categories_list = []\n",
    "print em2002.shape\n",
    "for acol in cols_to_cat3:\n",
    "    print acol\n",
    "    t_df,bc1 = create_factorized_df(em2002,acol)\n",
    "    # drop the original column\n",
    "    #new_col_names = t_df.columns.tolist()\n",
    "    #dummy_categories_list+=new_col_names\n",
    "    em2002.drop(acol,inplace=True,axis=1)\n",
    "    # append the factorized categories\n",
    "    em2002 = pd.concat([em2002,t_df],axis=1)\n",
    "    base_category_list.append(bc1)\n",
    "\n",
    "print em2002.shape,len(base_category_list)"
   ]
  },
  {
   "cell_type": "code",
   "execution_count": null,
   "metadata": {
    "collapsed": false
   },
   "outputs": [],
   "source": [
    "base_category_list"
   ]
  },
  {
   "cell_type": "code",
   "execution_count": null,
   "metadata": {
    "collapsed": false
   },
   "outputs": [],
   "source": [
    "for acol in cols_to_cat3:\n",
    "    #if acol != 'EMPL_CLASS':\n",
    "    cols_to_consider1.remove(acol)\n",
    "    added_cols = [x for x in em2002.columns if x.startswith(acol)]\n",
    "    cols_to_consider1+=added_cols\n",
    "cols_to_consider1.remove('LEGACY_DEPT_SFI')\n",
    "len(cols_to_consider1)"
   ]
  },
  {
   "cell_type": "code",
   "execution_count": null,
   "metadata": {
    "collapsed": true
   },
   "outputs": [],
   "source": [
    "## Label Encode those 2 columns: LOC_STATE and LOC_TYPE_DESCR_SFI\n",
    "for acol in cols_to_label_encode:\n",
    "    label_encoder.fit_transform(em2002[acol])"
   ]
  },
  {
   "cell_type": "code",
   "execution_count": null,
   "metadata": {
    "collapsed": false
   },
   "outputs": [],
   "source": [
    "[x for x in cols_to_consider1 if 'FUNC_ID' in x]\n",
    "# add these to the cols_to_survival"
   ]
  },
  {
   "cell_type": "code",
   "execution_count": null,
   "metadata": {
    "collapsed": false
   },
   "outputs": [],
   "source": [
    "em2002.EXT_FUNC_ID_SFI.isnull().sum()"
   ]
  },
  {
   "cell_type": "code",
   "execution_count": null,
   "metadata": {
    "collapsed": false
   },
   "outputs": [],
   "source": [
    "print len(em2002.FUNC_ID_SFI.unique()), len(em2002.EXT_FUNC_ID_SFI.unique())\n",
    "cols_to_survival.append('FUNC_ID_SFI')\n",
    "cols_to_survival.append('EXT_FUNC_ID_SFI')\n",
    "cols_to_survival\n"
   ]
  },
  {
   "cell_type": "code",
   "execution_count": null,
   "metadata": {
    "collapsed": false
   },
   "outputs": [],
   "source": [
    "my_list_of_missing_cols = br.get_columns_with_nulls(em2002[cols_to_consider1])\n",
    "missing_counts_cols = [x for x  in my_list_of_missing_cols if 'CNT' in x]\n",
    "print missing_counts_cols\n"
   ]
  },
  {
   "cell_type": "code",
   "execution_count": null,
   "metadata": {
    "collapsed": false
   },
   "outputs": [],
   "source": [
    "# make these 'counts' go to -1 for missing\n",
    "for acolumn in missing_counts_cols:\n",
    "    em2002.fillna({acolumn: -1},inplace=True)\n"
   ]
  },
  {
   "cell_type": "code",
   "execution_count": null,
   "metadata": {
    "collapsed": false
   },
   "outputs": [],
   "source": [
    "\n"
   ]
  },
  {
   "cell_type": "code",
   "execution_count": null,
   "metadata": {
    "collapsed": false
   },
   "outputs": [],
   "source": [
    "my_list_missing_2 = br.get_columns_with_nulls(em2002[cols_to_consider1])\n",
    "print len(my_list_missing_2)"
   ]
  },
  {
   "cell_type": "code",
   "execution_count": null,
   "metadata": {
    "collapsed": false
   },
   "outputs": [],
   "source": [
    "[x for x in em2002.columns if x.startswith('EMPL_CLASS')]"
   ]
  },
  {
   "cell_type": "code",
   "execution_count": null,
   "metadata": {
    "collapsed": true
   },
   "outputs": [],
   "source": [
    "class ColumnExtractor(TransformerMixin):\n",
    "\n",
    "    def __init__(self, columns=[]):\n",
    "        self.columns = columns\n",
    "\n",
    "    def fit_transform(self, X, y=None, **fit_params):\n",
    "        self.fit(X, y, **fit_params)\n",
    "        return self.transform(X)\n",
    "\n",
    "    def transform(self, X, **transform_params):\n",
    "        return X[self.columns]\n",
    "\n",
    "    def fit(self, X, y=None, **fit_params):\n",
    "        return self"
   ]
  },
  {
   "cell_type": "markdown",
   "metadata": {},
   "source": [
    "## Correct values for the floats:\n",
    "* if min value (MIN_RT_ANNUAL)\n",
    "    * is zero reset to min value\n",
    "    * is nan reset to median?\n",
    "* if max value  (MAX_RT_ANNUAL) is \n",
    "    * zero reset to min value\n",
    "    * nan reset to median?\n",
    "    \n",
    "#### examine how many of these are the cases"
   ]
  },
  {
   "cell_type": "code",
   "execution_count": null,
   "metadata": {
    "collapsed": false
   },
   "outputs": [],
   "source": [
    "print sum(em2002.MAX_RT_ANNUAL <= 1), sum(em2002.ANNUAL_RT <= 1), sum(em2002.MIN_RT_ANNUAL<=1)"
   ]
  },
  {
   "cell_type": "code",
   "execution_count": null,
   "metadata": {
    "collapsed": false
   },
   "outputs": [],
   "source": [
    "my_value = 0\n",
    "salary_cols = ['MIN_RT_ANNUAL','MAX_RT_ANNUAL','ANNUAL_RT']\n",
    "for col in salary_cols:\n",
    "    #my_mtd = 'max'\n",
    "    my_data = em2002[em2002[col]!=my_value][col]\n",
    "    print col, my_data.min(), my_data.max(), my_data.mean(), my_data.median()\n",
    "#em2002[em2002['MAX_RT_ANNUAL']!=my_value]['MAX_RT_ANNUAL'].median()"
   ]
  },
  {
   "cell_type": "code",
   "execution_count": null,
   "metadata": {
    "collapsed": false
   },
   "outputs": [],
   "source": [
    "print len(em2002[em2002['ANNUAL_RT']==0])#['ANNUAL_RT'].value_counts()"
   ]
  },
  {
   "cell_type": "code",
   "execution_count": null,
   "metadata": {
    "collapsed": false
   },
   "outputs": [],
   "source": [
    "em2002[em2002['MAX_RT_ANNUAL']<999999]['MAX_RT_ANNUAL'].max()"
   ]
  },
  {
   "cell_type": "code",
   "execution_count": null,
   "metadata": {
    "collapsed": false
   },
   "outputs": [],
   "source": [
    "em2002[em2002['ANNUAL_RT']==0][['BIRTHDATE','TERMINATION_DT','HIRE_DT','GRADE','MAX_RT_ANNUAL']]#[cols_to_consider1]"
   ]
  },
  {
   "cell_type": "code",
   "execution_count": null,
   "metadata": {
    "collapsed": false
   },
   "outputs": [],
   "source": [
    "[a for a in em2002.GRADE.unique() if a.startswith('C')]"
   ]
  },
  {
   "cell_type": "code",
   "execution_count": null,
   "metadata": {
    "collapsed": false
   },
   "outputs": [],
   "source": [
    "len(em2002[em2002.GRADE == 'C23'][['TERMINATION_DT','ANNUAL_RT']])"
   ]
  },
  {
   "cell_type": "code",
   "execution_count": null,
   "metadata": {
    "collapsed": true
   },
   "outputs": [],
   "source": []
  },
  {
   "cell_type": "code",
   "execution_count": null,
   "metadata": {
    "collapsed": false
   },
   "outputs": [],
   "source": [
    "class FixZeroValues(BaseEstimator, TransformerMixin):\n",
    "    def __init__(self, columns_to_fix, value_to_replace=0, method='median'):\n",
    "        #criteria_coef=('percentile', 5), fill_with='nearest_value', \n",
    "        #         method='both', columns_to_fix='all', rows_to_scan='all'):\n",
    "        #def __init__(self, categorical_columns, method='factorize', rows_to_scan='all'):\n",
    "        \"\"\"\n",
    "        A class that can be inserted into a pipeline.\n",
    "        \n",
    "        This will fix the values in numeric columns of the dataframe that are artificially assigned \n",
    "        as zeros. Columns with all nulls or categorical values will not be changed.\n",
    "        Missing values will remain missing. Inf values will be fixed.\n",
    "        \n",
    "        Parameters\n",
    "        ---------\n",
    "        X: Pandas dataframe\n",
    "        \n",
    "        columns_to_fix: a list of column names, the columns should be numerical.\n",
    "        \n",
    "        value_to_replace: int or float. This is the 'zero' that is being replaced\n",
    "            TODO make this able to accept a dictionary?\n",
    "        \n",
    "        method: str, default='median'. How the zero values will be replaced.\n",
    "            Others can be 'mean', 'min', 'max', or a specific value (entered as a string).\n",
    "        \n",
    "        \n",
    "        returns a pandas dataframe\n",
    "        \"\"\"\n",
    "        self.method = method\n",
    "        self.columns_to_fix = columns_to_fix\n",
    "        self.value_to_replace = value_to_replace\n",
    "        \n",
    "    def fit(self, X, y=None):\n",
    "        self.map_values = {}\n",
    "        self.new_values = {}\n",
    "        \n",
    "        for col in self.columns_to_fix:\n",
    "            my_values = X[col]!=value_to_\n",
    "            if self.method == 'median':\n",
    "                map_values = X[col].\n",
    "                 yy = y[:rows_to_scan_in].copy()\n",
    "                self.map_values[col] = dict(pd.crosstab(XX[col], y).apply(lambda x: x[1]/float(x.sum()), axis=1))\n",
    "        if self.criteria_coef != 'all':\n",
    "            \n",
    "            self.max_val = {}\n",
    "            self.min_val = {}\n",
    "            self.coef = self.criteria_coef[1]\n",
    "            self.criteria = self.criteria_coef[0]\n",
    "            rows_to_scan_in = get_rows_to_scan(self.rows_to_scan, X.shape[0])\n",
    "                      \n",
    "            if self.columns_to_fix == 'auto':\n",
    "                self.columns_to_fix_in = get_numeric(X)\n",
    "            else:\n",
    "                self.columns_to_fix_in = get_list_of_columns_to_check(self.columns_to_fix, X.columns)\n",
    "\n",
    "            temp_numeric = get_numeric(X[self.columns_to_fix_in])\n",
    "            temp_not_numeric = set(self.columns_to_fix_in)-set(temp_numeric)\n",
    "            if len(temp_not_numeric) > 0:\n",
    "                raise Exception('Columns '+str(list(temp_not_numeric))+' are not numeric!')\n",
    "            XX = X[:rows_to_scan_in].copy()\n",
    "            for col in self.columns_to_fix_in:\n",
    "                temp = XX[col][np.isfinite(XX[col])]\n",
    "                if self.criteria == 'percentile':\n",
    "                    self.max_val[col] = np.percentile(temp, 100-self.coef)\n",
    "                    self.min_val[col] = np.percentile(temp, self.coef)\n",
    "                elif self.criteria == 'sd':\n",
    "                    self.max_val[col] = np.mean(temp)+self.coef*np.std(temp)\n",
    "                    self.min_val[col] = np.mean(temp)-self.coef*np.std(temp)\n",
    "        return self\n",
    "    \n",
    "    def transform(self, X, y=None):\n",
    "        if self.criteria_coef != 'all':\n",
    "            XX = X.copy()\n",
    "            if self.fill_with == 'nearest_value':\n",
    "                if self.method == 'upper':\n",
    "                    for col in self.columns_to_fix_in:\n",
    "                        XX.loc[XX[col] > self.max_val[col], col] = self.max_val[col]\n",
    "                elif self.method == 'lower':\n",
    "                    for col in self.columns_to_fix_in:\n",
    "                        XX.loc[XX[col] < self.min_val[col], col] = self.min_val[col]\n",
    "                else:\n",
    "                    for col in self.columns_to_fix_in:\n",
    "                        XX.loc[XX[col] > self.max_val[col], col] = self.max_val[col]\n",
    "                        XX.loc[XX[col] < self.min_val[col], col] = self.min_val[col]\n",
    "            elif self.fill_with == 'missing':\n",
    "                if self.method == 'upper':\n",
    "                    for col in self.columns_to_fix_in:\n",
    "                        XX.loc[XX[col] > self.max_val[col], col] = np.nan\n",
    "                elif self.method == 'lower':\n",
    "                    for col in self.columns_to_fix_in:\n",
    "                        XX.loc[XX[col] < self.min_val[col], col] = np.nan\n",
    "                else:\n",
    "                    for col in self.columns_to_fix_in:\n",
    "                        XX.loc[XX[col] > self.max_val[col], col] = np.nan\n",
    "                        XX.loc[XX[col] < self.min_val[col], col] = np.nan\n",
    "            return XX\n",
    "        else:\n",
    "            return X"
   ]
  },
  {
   "cell_type": "code",
   "execution_count": null,
   "metadata": {
    "collapsed": false
   },
   "outputs": [],
   "source": [
    "print em2002.MIN_RT_ANNUAL.describe()\n",
    "print sum(em2002.MIN_RT_ANNUAL <=1)\n",
    "em2002[em2002.MIN_RT_ANNUAL>1].MIN_RT_ANNUAL.min()"
   ]
  },
  {
   "cell_type": "markdown",
   "metadata": {},
   "source": [
    "## NOW to define the imputation approaches\n",
    "* by Mean/median/min?\n",
    "* by Survival function\n",
    "* by counts"
   ]
  },
  {
   "cell_type": "code",
   "execution_count": null,
   "metadata": {
    "collapsed": false
   },
   "outputs": [],
   "source": [
    "most_recent_missing_col = [ c for c in my_list_missing_2 if c.endswith('1')]\n",
    "most_recent_missing_col"
   ]
  },
  {
   "cell_type": "code",
   "execution_count": null,
   "metadata": {
    "collapsed": true
   },
   "outputs": [],
   "source": [
    "## Now I need to split into build-eval set"
   ]
  },
  {
   "cell_type": "code",
   "execution_count": null,
   "metadata": {
    "collapsed": false
   },
   "outputs": [],
   "source": [
    "em2002.terminated.value_counts()"
   ]
  },
  {
   "cell_type": "code",
   "execution_count": null,
   "metadata": {
    "collapsed": false
   },
   "outputs": [],
   "source": [
    "print len(em2002.columns)\n",
    "cols_to_survival"
   ]
  },
  {
   "cell_type": "code",
   "execution_count": null,
   "metadata": {
    "collapsed": false
   },
   "outputs": [],
   "source": [
    "print len(columns_to_omit), len(columns_to_omit_2)\n",
    "columns_to_omit_2"
   ]
  },
  {
   "cell_type": "code",
   "execution_count": null,
   "metadata": {
    "collapsed": false
   },
   "outputs": [],
   "source": [
    "cols_to_label_encode.append('COMPANY')"
   ]
  },
  {
   "cell_type": "code",
   "execution_count": null,
   "metadata": {
    "collapsed": false
   },
   "outputs": [],
   "source": [
    "set(em2002.columns.tolist()) - set(columns_to_omit_2)"
   ]
  },
  {
   "cell_type": "code",
   "execution_count": null,
   "metadata": {
    "collapsed": false
   },
   "outputs": [],
   "source": [
    "len(cols_to_consider1), len(my_list_missing_2)"
   ]
  },
  {
   "cell_type": "code",
   "execution_count": null,
   "metadata": {
    "collapsed": false
   },
   "outputs": [],
   "source": [
    "[(a,em2002[a].isnull().sum(), em2002[a].median(), em2002[a].mean()) for a in my_list_missing_2]"
   ]
  },
  {
   "cell_type": "markdown",
   "metadata": {},
   "source": [
    "## Use cols_to_consider1\n",
    "* Create a test train split\n",
    "* then use pipelines for the following\n",
    "* try to apply class that adjusts the missing values in my_list_missing_2 to median?\n",
    "* try to apply class that adjusts the zero values of "
   ]
  },
  {
   "cell_type": "code",
   "execution_count": null,
   "metadata": {
    "collapsed": false
   },
   "outputs": [],
   "source": [
    "columns_to_omit_2"
   ]
  },
  {
   "cell_type": "code",
   "execution_count": null,
   "metadata": {
    "collapsed": false
   },
   "outputs": [],
   "source": [
    "#replace in the cols_to_consider list\n",
    "cols_to_consider = [a for a in cols_to_consider1 if not a.startswith('Tenure')]\n",
    "print len(cols_to_consider),len(cols_to_consider1)\n",
    "cols_to_consider.append('Tenure_years')"
   ]
  },
  {
   "cell_type": "markdown",
   "metadata": {},
   "source": [
    "## Label encode the 3 like that\n",
    "* and alter the cols_to_consider listing"
   ]
  },
  {
   "cell_type": "code",
   "execution_count": null,
   "metadata": {
    "collapsed": false
   },
   "outputs": [],
   "source": [
    "for col in cols_to_label_encode:\n",
    "    newcol = 'le_'+col.lower()\n",
    "    cols_to_consider.remove(col)\n",
    "    cols_to_consider.append(newcol)\n",
    "    print col,newcol\n",
    "    em2002[newcol] = label_encoder.fit_transform(em2002[col]) # use sklearn.preprocesing.LabelEncoder()\n",
    "\n",
    "print len(cols_to_consider)\n",
    "cols_to_consider[-8:]"
   ]
  },
  {
   "cell_type": "code",
   "execution_count": null,
   "metadata": {
    "collapsed": true
   },
   "outputs": [],
   "source": [
    "# split the training data into two parts\n",
    "from sklearn.cross_validation import train_test_split\n",
    "emBuild, emEval = train_test_split(em2002, test_size=0.25, random_state=92)"
   ]
  },
  {
   "cell_type": "code",
   "execution_count": null,
   "metadata": {
    "collapsed": false
   },
   "outputs": [],
   "source": [
    "print np.shape(emBuild), np.shape(emEval)"
   ]
  },
  {
   "cell_type": "code",
   "execution_count": null,
   "metadata": {
    "collapsed": false
   },
   "outputs": [],
   "source": [
    "# reset the indices of these two sets and the dates\n",
    "emBuild_dates = empl_dates.ix[emBuild.index].copy()\n",
    "emEval_dates = empl_dates.ix[emEval.index].copy()\n",
    "#build_indices = emBuild.index\n",
    "#eval_indices = emEval.index\n",
    "emBuild.index = np.arange(0,len(emBuild))\n",
    "emBuild_dates.index = np.arange(0,len(emBuild))\n",
    "emEval.index = np.arange(0,len(emEval))\n",
    "emEval_dates.index= np.arange(0,len(emEval))"
   ]
  },
  {
   "cell_type": "code",
   "execution_count": null,
   "metadata": {
    "collapsed": false
   },
   "outputs": [],
   "source": [
    "numeric_consider_A = br.get_numeric(emBuild[cols_to_consider])\n",
    "print len(numeric_consider_A)"
   ]
  },
  {
   "cell_type": "markdown",
   "metadata": {},
   "source": [
    "## apply the survival function to the remaining 6\n",
    "* first calculate the tenure in years (done above)\n",
    "* create dictionary based upon the build set\n"
   ]
  },
  {
   "cell_type": "code",
   "execution_count": null,
   "metadata": {
    "collapsed": false
   },
   "outputs": [],
   "source": [
    "for i,col in enumerate(cols_to_survival):\n",
    "    print col, emBuild[col].unique().dtype"
   ]
  },
  {
   "cell_type": "code",
   "execution_count": null,
   "metadata": {
    "collapsed": false
   },
   "outputs": [],
   "source": [
    "#job_related_cols = ['JOBCODE','grade_code','job_fcode']\n",
    "#new_job_sf_cols = ['surv_med_jobcode','surv_med_grade','surv_med_jobfamily']\n",
    "list_sf_dict = []\n",
    "new_surv_med_cols =[]\n",
    "for i, col in enumerate(cols_to_survival):\n",
    "    # check type of column and cast as str\n",
    "    my_dtype = emBuild[col].unique().dtype\n",
    "    if my_dtype == 'float64':\n",
    "        #print col\n",
    "        emBuild[col].apply(lambda x: np.str(x))    \n",
    "        emEval[col].apply(lambda x: np.str(x))    \n",
    "\n",
    "    num_cutoff=40\n",
    "    newcol = 'survmed_'+col.lower()\n",
    "    nuniq = len(emBuild[col].unique())\n",
    "    if nuniq < num_cutoff:\n",
    "        num_cutoff = nuniq\n",
    "    else:\n",
    "        num_cutoff = int(nuniq/4.)\n",
    "\n",
    "    frac_accounted_for = emBuild[col].value_counts().iloc[:num_cutoff].sum()/float(len(emBuild))\n",
    "    print i,col,newcol, nuniq, num_cutoff,num_cutoff/float(nuniq),frac_accounted_for\n",
    "    # I want to make this fraction close to 80%?\n",
    "    \n",
    "    #len(emBuild[col].value_counts())\n",
    "    #if nuniq < num_cutoff:\n",
    "    #    num_cutoff = nuniq\n",
    "    # calc survival functions\n",
    "    sf_df = calculate_survival_functions(emBuild,'Tenure_years', 'terminated', col,num_cutoff)\n",
    "    ## create the dictionary\n",
    "    list_sf_dict.append(return_first_time_survival(sf_df,thresh=0.5))\n",
    "    # apply the dictionary and create a new column\n",
    "    new_surv_med_cols.append(newcol)\n",
    "    emBuild[newcol]= emBuild[col].apply(lambda x: list_sf_dict[i][x])\n",
    "    emEval[newcol] = emEval[col].apply(lambda x: list_sf_dict[i][x])\n",
    "    cols_to_consider.remove(col)\n",
    "    cols_to_consider.append(newcol)\n",
    "\n",
    "    "
   ]
  },
  {
   "cell_type": "markdown",
   "metadata": {},
   "source": [
    "## July 9, 2015 made it here"
   ]
  },
  {
   "cell_type": "code",
   "execution_count": null,
   "metadata": {
    "collapsed": false
   },
   "outputs": [],
   "source": [
    "## examine the values of these new columns\n",
    "emBuild.survmed_grade.hist(label='Grade',bins=30)\n",
    "emBuild.survmed_job_family.hist(alpha=0.7,label='Jobfamily',bins=30)\n",
    "emBuild.survmed_job_function.hist(alpha=0.4,label='jobfcn',bins=30)\n",
    "emBuild.survmed_location.hist(alpha=0.4,bins=30,label='location')\n",
    "plt.legend(loc=2)\n",
    "plt.title('Histograms of Median Survival time (months) from EmBuild set')\n",
    "#emBuild.plot(kind='scatter',x =)"
   ]
  },
  {
   "cell_type": "markdown",
   "metadata": {},
   "source": [
    "## Begin by looking at collinearity of the data in emBuild"
   ]
  },
  {
   "cell_type": "code",
   "execution_count": null,
   "metadata": {
    "collapsed": false
   },
   "outputs": [],
   "source": [
    "cols_with_missing_numeric = br.get_columns_with_nulls(emBuild[cols_to_consider])"
   ]
  },
  {
   "cell_type": "markdown",
   "metadata": {},
   "source": [
    "### okay because of these missing values I need to impute/fill in\n",
    "* try using median value (based upon emBuild)\n",
    "* also apply fix_outliers to ANNUAL_RT, ..."
   ]
  },
  {
   "cell_type": "code",
   "execution_count": null,
   "metadata": {
    "collapsed": true
   },
   "outputs": [],
   "source": [
    "X = emBuild.copy()\n"
   ]
  },
  {
   "cell_type": "code",
   "execution_count": null,
   "metadata": {
    "collapsed": false
   },
   "outputs": [],
   "source": [
    "X.ANNUAL_RT.describe()"
   ]
  },
  {
   "cell_type": "code",
   "execution_count": null,
   "metadata": {
    "collapsed": false
   },
   "outputs": [],
   "source": [
    "# if categorical columns are included, an error will be raised\n",
    "# this class is usually inserted after ConvertCategorical in pipelines\n",
    "fixout=br.FixNumericOutlier(columns_to_fix=['ANNUAL_RT','MIN_RT_ANNUAL'], criteria_coef=('percentile', 10), \n",
    "                            method = 'lower', fill_with='nearest_value')\n",
    "                            \n",
    "X1 = fixout.fit(X).transform(X)\n",
    "print X1['ANNUAL_RT'].describe()\n",
    "X[['mod_annual_rt','mod_min_rt_annual']]=X1[['ANNUAL_RT','MIN_RT_ANNUAL']]\n",
    "fixout_max = br.FixNumericOutlier(columns_to_fix=['MAX_RT_ANNUAL'], criteria_coef=('percentile', 10), \n",
    "                            method = 'both', fill_with='nearest_value')\n",
    "X1 = fixout_max.fit(X).transform(X)\n",
    "X['mod_max_rt_annual']=X1['MAX_RT_ANNUAL']"
   ]
  },
  {
   "cell_type": "code",
   "execution_count": null,
   "metadata": {
    "collapsed": true
   },
   "outputs": [],
   "source": [
    "imp = br.ImputeData(method='median', columns_to_impute=cols_with_missing_numeric, impute_inf=False, keep_dummies=False)\n",
    "X1 = imp.fit(X).transform(X)\n",
    "X[cols_with_missing_numeric]=X1[cols_with_missing_numeric]"
   ]
  },
  {
   "cell_type": "code",
   "execution_count": null,
   "metadata": {
    "collapsed": false
   },
   "outputs": [],
   "source": [
    "for a in ['ANNUAL_RT','MIN_RT_ANNUAL','MAX_RT_ANNUAL']:\n",
    "    new_a = 'mod_'+a.lower()\n",
    "    cols_to_consider.remove(a)\n",
    "    cols_to_consider.append(new_a)\n",
    "    "
   ]
  },
  {
   "cell_type": "code",
   "execution_count": null,
   "metadata": {
    "collapsed": false
   },
   "outputs": [],
   "source": [
    "br.perfect_collinearity_test(X[cols_to_consider])"
   ]
  },
  {
   "cell_type": "code",
   "execution_count": null,
   "metadata": {
    "collapsed": false
   },
   "outputs": [],
   "source": [
    "cols_to_consider"
   ]
  },
  {
   "cell_type": "code",
   "execution_count": null,
   "metadata": {
    "collapsed": false
   },
   "outputs": [],
   "source": [
    "model_columns = cols_to_consider\n",
    "\n",
    "#model_columns.remove('retired')\n",
    "for c in model_columns:\n",
    "    if c.startswith('RATE'):\n",
    "        model_columns.remove(c)\n",
    "        print c, len(model_columns)\n",
    "\n",
    "        \n",
    "print len(model_columns)"
   ]
  },
  {
   "cell_type": "code",
   "execution_count": null,
   "metadata": {
    "collapsed": false
   },
   "outputs": [],
   "source": [
    "[c for c in model_columns if c.startswith('RATE')]"
   ]
  },
  {
   "cell_type": "code",
   "execution_count": null,
   "metadata": {
    "collapsed": false
   },
   "outputs": [],
   "source": [
    "model_columns.remove('terminated')\n",
    "model_columns.remove('status')\n",
    "model_columns.remove('sep_status')\n",
    "print len(model_columns)"
   ]
  },
  {
   "cell_type": "code",
   "execution_count": null,
   "metadata": {
    "collapsed": false
   },
   "outputs": [],
   "source": [
    "br.perfect_collinearity_test(X[model_columns])"
   ]
  },
  {
   "cell_type": "code",
   "execution_count": null,
   "metadata": {
    "collapsed": true
   },
   "outputs": [],
   "source": [
    "model_columns.remove('unempl_rate') # hard to predict this"
   ]
  },
  {
   "cell_type": "markdown",
   "metadata": {},
   "source": [
    "## progress toward the Temporal Fold work"
   ]
  },
  {
   "cell_type": "code",
   "execution_count": null,
   "metadata": {
    "collapsed": true
   },
   "outputs": [],
   "source": [
    "def create_temporal_kfolds(dates_df,date_range,time_delta):\n",
    "    min_date = pd.to_datetime(date_range[0])\n",
    "    max_date = pd.to_datetime(date_range[-1])\n",
    "    my_index = dates_df[(dates_df.term_tstmp>=min_date)].index\n",
    "    # calculate number of kfolds\n",
    "    date_span_years = np.int(np.round((max_date-min_date).days/365.24,0))\n",
    "    nfolds = date_span_years - time_delta\n",
    "    print date_span_years, time_delta, nfolds, len(my_index)\n",
    "    all_pairs = list(itertools.combinations(date_range,2))\n",
    "    # now filter if difference in time  == time_delta\n",
    "    filtered_pairs = []\n",
    "    for i0,i1 in all_pairs:\n",
    "        if int(i1[:4])-int(i0[:4]) == time_delta:\n",
    "            filtered_pairs.append([i0,i1])\n",
    "            #print i0,i1\n",
    "    print len(filtered_pairs)\n",
    "    # now process each of these filtered pairs\n",
    "    kf = []\n",
    "    for j0,j1 in filtered_pairs: # omit the last one because it has no\n",
    "        start_date = pd.to_datetime(j0)\n",
    "        end_date = pd.to_datetime(j1)\n",
    "        #print j0,j1#,len(k)\n",
    "        \n",
    "        \n",
    "        kfold_idx = dates_df[(dates_df.term_tstmp >= start_date) & (dates_df.hire_tstmp<start_date)].index\n",
    "        after_idx = dates_df[(dates_df.hire_tstmp>=end_date)].index\n",
    "        before_idx = list(set(my_index)-set(kfold_idx)-set(after_idx))\n",
    "        #temporal_kfold(dates_df[dates_df.term_tstmp>=min_date],start_date,end_date)\n",
    "        #print \"\\t\",len(kfold_idx), len(after_idx),len(before_idx)\n",
    "        \n",
    "        # combined out of fold\n",
    "        not_kfold_idx = list(set(after_idx).union(set(before_idx)))\n",
    "        \n",
    "        print j0,j1,len(kfold_idx),len(not_kfold_idx)\n",
    "        kf.append([kfold_idx,not_kfold_idx])\n",
    "    \n",
    "    return kf,filtered_pairs\n",
    "    "
   ]
  },
  {
   "cell_type": "code",
   "execution_count": null,
   "metadata": {
    "collapsed": true
   },
   "outputs": [],
   "source": [
    "def reset_years(paired_times,indices,dates_df,df,cols_to_alter = ['Age_years','Tenure_years']):\n",
    "    # calc the Age at beginnning of time period\n",
    "    ## now calculate age at hire\n",
    "    reset_age_tdelta = pd.to_datetime(paired_times[0])-dates_df['birth_tstmp']#)/np.timedelta64(1,'D')\n",
    "    reset_tenure_tdelta = pd.to_datetime(paired_times[0])-dates_df['hire_tstmp']#)/np.timedelta64(1,'D')\n",
    "    # convert to days, months or years\n",
    "    reset_age = reset_age_tdelta/np.timedelta64(1,'Y')\n",
    "    reset_tenure = reset_tenure_tdelta/np.timedelta64(1,'Y')\n",
    "    # look at terminated or not\n",
    "    #empl_df['terminated']= 0\n",
    "    \n",
    "    \n",
    "    return reset_age,reset_tenure\n"
   ]
  },
  {
   "cell_type": "code",
   "execution_count": null,
   "metadata": {
    "collapsed": true
   },
   "outputs": [],
   "source": [
    "def define_target_within_x_years(dates_df,df,paired_dates,tfold,n_years,target_col):\n",
    "    print len(tfold)#, paired_dates\n",
    "\n",
    "    df_dict = {}\n",
    "    for i,tf in enumerate(tfold):\n",
    "        start_date = paired_dates[i][0]\n",
    "        end_date = paired_dates[i][1]\n",
    "        print start_date,end_date,n_years\n",
    "        #altered_fold_df = pd.DataFrame(columns=['fold_mbr','adj_age','adj_tenure','adj_term'])\n",
    "        # if in the fold reset the age to start of fold; define new window of termination\n",
    "        in_fold_idx = tfold[i][0]\n",
    "        # note that \"sex\" is just used to create a value that then gets dummied out\n",
    "        cols_to_copy = ['Male','Age_years','Tenure_years']\n",
    "        cols_to_copy.append(target_col)\n",
    "        #altered_fold_df= df[['SEX','Age_years','Tenure_years','terminated']].copy()\n",
    "        altered_fold_df = df[cols_to_copy].copy()\n",
    "        # adjust these\n",
    "        altered_fold_df.columns=['fold_mbr','adj_age','adj_tenure','adj_term']\n",
    "        altered_fold_df.fold_mbr = 0\n",
    "\n",
    "        ra,rt = reset_years(paired_dates,in_fold_idx,dates_df,df)\n",
    "        altered_fold_df.ix[in_fold_idx]['adj_age']=ra\n",
    "        altered_fold_df.ix[in_fold_idx]['adj_tenure']=rt\n",
    "        new_term = (dates_df.ix[in_fold_idx]['term_tstmp']<= end_date).as_matrix().astype(np.int)\n",
    "        # deal with last time-fold specially\n",
    "        if i == len(tfold)-1:\n",
    "            new_term = (dates_df.ix[in_fold_idx]['term_tstmp']< end_date).as_matrix().astype(np.int)\n",
    "        #print \"\\t\", len(new_term),sum(new_term)\n",
    "        altered_fold_df.loc[in_fold_idx,'adj_term']=new_term\n",
    "        altered_fold_df.loc[in_fold_idx,'fold_mbr']=1\n",
    "        df_dict[i]=altered_fold_df\n",
    "    # now append this to a larger panel\n",
    "    tfold_panel = pd.Panel.from_dict(data =df_dict)\n",
    "    return tfold_panel"
   ]
  },
  {
   "cell_type": "code",
   "execution_count": null,
   "metadata": {
    "collapsed": false
   },
   "outputs": [],
   "source": [
    "full_date_range = [str(a)+'-01-01' for a in np.arange(2002,2016)]\n",
    "print len(full_date_range)"
   ]
  },
  {
   "cell_type": "code",
   "execution_count": null,
   "metadata": {
    "collapsed": true
   },
   "outputs": [],
   "source": [
    "import itertools"
   ]
  },
  {
   "cell_type": "code",
   "execution_count": null,
   "metadata": {
    "collapsed": true
   },
   "outputs": [],
   "source": [
    "def setup_tfold_models(myX,dates,yr_val,cols_of_interest,tgt_value='terminated',date_range=full_date_range):\n",
    "    # create the folds\n",
    "    yr_tfolds,yr_times = create_temporal_kfolds(dates,date_range,yr_val)\n",
    "    # create the panels (offset)\n",
    "    myPanel = define_target_within_x_years(dates,myX,yr_times,yr_tfolds,yr_val,tgt_value)\n",
    "    # create the tfold training sets\n",
    "    #[(a,emBuild.ix[five_yr_tfolds[a][0]].terminated.sum()) for a in xrange(0,9)]\n",
    "    Xfold = np.zeros((len(myX),len(cols_of_interest)+2,len(yr_tfolds)))\n",
    "    ## So now\n",
    "    yfold = []\n",
    "    for i in xrange(0,len(yr_tfolds)):\n",
    "        Xfold[:,:-2,i]=myX[cols_of_interest].as_matrix().astype(np.float)\n",
    "        Xfold[:,-2:,i]=myPanel[i][['adj_age','adj_tenure']]\n",
    "        my_y=myPanel[i][['adj_term']].as_matrix().astype(np.int)\n",
    "        yfold.append(my_y)\n",
    "    \n",
    "    return yr_tfolds, yr_times, myPanel, Xfold, yfold\n",
    "        "
   ]
  },
  {
   "cell_type": "markdown",
   "metadata": {},
   "source": [
    "## build t_fold models"
   ]
  },
  {
   "cell_type": "code",
   "execution_count": null,
   "metadata": {
    "collapsed": false
   },
   "outputs": [],
   "source": [
    "tfold5,tfold5_times,panel5term,X5fold,y5fold = setup_tfold_models(X,emBuild_dates,5,model_columns)"
   ]
  },
  {
   "cell_type": "code",
   "execution_count": null,
   "metadata": {
    "collapsed": true
   },
   "outputs": [],
   "source": [
    "from sklearn import ensemble"
   ]
  },
  {
   "cell_type": "code",
   "execution_count": null,
   "metadata": {
    "collapsed": false
   },
   "outputs": [],
   "source": [
    "\n",
    "%%time\n",
    "five_rf_mdl = []\n",
    "for i in xrange(0,len(tfold5)):\n",
    "    train_y = y5fold[i].flatten()[tfold5[i][0]]\n",
    "    train_X = X5fold[tfold5[i][0],:,i]\n",
    "    rfmdl = ensemble.RandomForestClassifier(n_jobs=50,n_estimators=500,max_features=None)\n",
    "    rfmdl.fit(train_X,train_y)\n",
    "#baseline_singleRFC = ensemble.RandomForestClassifier(n_jobs=50,n_estimators=500,max_features=None)\n",
    "#baseline_singleRFC.fit(X,y_term)\n",
    "#baseline_singleRFC_importances= baseline_singleRFC.feature_importances_\n",
    "    five_rf_mdl.append(rfmdl)"
   ]
  },
  {
   "cell_type": "code",
   "execution_count": null,
   "metadata": {
    "collapsed": true
   },
   "outputs": [],
   "source": [
    "#\n",
    "def adjust_eval_by_x_years(df,df_dates,year_val,modeling_columns,target_col='terminated'):\n",
    "    # construct\n",
    "  \n",
    "    ## set up method to assess the eval set\n",
    "    print \"There are {0} elements in the evaluation set\".format(len(df))\n",
    "   \n",
    "    print \"original target variable value counts:\", df[target_col].value_counts()\n",
    "    # restructure to deal with time_frame retirement (target variable)\n",
    "    yr_cut_val = year_val+0.5\n",
    "    # index of those that actually accomplish target within timeframe (allow 0.5 additional years)\n",
    "    eval_within_time_target_index = df[(df[target_col]==1) & (df.Tenure_years <= yr_cut_val)].index\n",
    "    # exclude indices that are active and have tenure less than this time\n",
    "    eval_excluded_index = df[(df[target_col]==0) & (df.Tenure_years  <= yr_cut_val)].index\n",
    "    \n",
    "    # the rest become my not-terminated set\n",
    "    eval_active_index = set(df.index) - set(eval_within_time_target_index) - set(eval_excluded_index)\n",
    "    print len(eval_excluded_index),len(eval_within_time_target_index), len(eval_active_index)\n",
    "    eval_idx_to_use =df.ix[set(df.index)-set(eval_excluded_index)].index\n",
    "    #len(eval_idx_to_use)\n",
    "    # reset the termination to 0 for active\n",
    "    eval_new_target = df[target_col].copy()\n",
    "    eval_new_target.ix[eval_active_index] = 0\n",
    "    print \"new target variable value counts: \"\n",
    "    print eval_new_target.ix[eval_idx_to_use].value_counts()\n",
    "    print \"_____\"\n",
    "    y_eval = eval_new_target.ix[eval_idx_to_use].as_matrix().astype(np.int) # true values\n",
    "    eval_adj_tenure = df.ix[eval_idx_to_use].Tenure_years.apply(lambda x: x-year_val if (x>float(year_val)) else 0).values\n",
    "    print len(eval_adj_tenure), len(y_eval)\n",
    "    # now adjust age by length of time; use hire_age if not in set to use.\n",
    "    eval_adj_age = df.ix[eval_idx_to_use].Age_years.apply(lambda x: x-year_val)\n",
    "    eval_adj_age.ix[eval_within_time_target_index] = df_dates['hire_age']\n",
    "    \n",
    "    # construct the evaluation X matrix\n",
    "    print \"input matrix has {0} features\".format(len(modeling_columns)+2)\n",
    "    Xeval = np.zeros((len(eval_idx_to_use),len(modeling_columns)+2))\n",
    "    Xeval[:,:-2] = df.ix[eval_idx_to_use][modeling_columns].as_matrix().astype(np.float)\n",
    "    # now put the adjusted tenure and ages into this matrix\n",
    "    Xeval[:,-2] = eval_adj_age.values\n",
    "    Xeval[:,-1]=eval_adj_tenure\n",
    "    #print len(modeling_columns),np.shape(Xeval)\n",
    "    return Xeval, y_eval\n",
    "\n",
    "\n",
    "## now apply each model to my eval set\n",
    "def evaluate_models(model_list,Xeval):\n",
    "    eval_pred_class = np.zeros((len(Xeval),len(model_list)))\n",
    "    eval_pred_proba = np.zeros((len(Xeval),2,len(model_list)))\n",
    "\n",
    "    for i,mdl in enumerate(model_list):\n",
    "        eval_proba = mdl.predict_proba(Xeval)\n",
    "        eval_pred_class[:,i]=mdl.predict(Xeval)\n",
    "        eval_pred_proba[:,:,i]=eval_proba\n",
    "    #print np.shape(eval_prediction_proba3)\n",
    "    return eval_pred_class, eval_pred_proba"
   ]
  },
  {
   "cell_type": "code",
   "execution_count": null,
   "metadata": {
    "collapsed": false
   },
   "outputs": [],
   "source": [
    "Xeval = emEval.copy()\n",
    "#fixout=br.FixNumericOutlier(columns_to_fix=['ANNUAL_RT','MIN_RT_ANNUAL'], criteria_coef=('percentile', 10), \n",
    "#                            method = 'lower', fill_with='nearest_value')\n",
    "                            \n",
    "X1b = fixout.fit(X).transform(Xeval)\n",
    "print X1b['ANNUAL_RT'].describe()\n",
    "Xeval[['mod_annual_rt','mod_min_rt_annual']]=X1b[['ANNUAL_RT','MIN_RT_ANNUAL']]\n",
    "#fixout_max = br.FixNumericOutlier(columns_to_fix=['MAX_RT_ANNUAL'], criteria_coef=('percentile', 10), \n",
    "#                            method = 'both', fill_with='nearest_value')\n",
    "X1b = fixout_max.fit(X).transform(Xeval)\n",
    "Xeval['mod_max_rt_annual']=X1b['MAX_RT_ANNUAL']"
   ]
  },
  {
   "cell_type": "code",
   "execution_count": null,
   "metadata": {
    "collapsed": true
   },
   "outputs": [],
   "source": [
    "#imp = br.ImputeData(method='median', columns_to_impute=cols_with_missing_numeric, impute_inf=False, keep_dummies=False)\n",
    "X1b = imp.fit(X).transform(Xeval)\n",
    "Xeval[cols_with_missing_numeric]=X1b[cols_with_missing_numeric]"
   ]
  },
  {
   "cell_type": "code",
   "execution_count": null,
   "metadata": {
    "collapsed": false
   },
   "outputs": [],
   "source": [
    "X5eval, y5eval = adjust_eval_by_x_years(Xeval,emEval_dates,5,model_columns,target_col='terminated')"
   ]
  },
  {
   "cell_type": "code",
   "execution_count": null,
   "metadata": {
    "collapsed": true
   },
   "outputs": [],
   "source": [
    "eval_pred_class5,eval_pred_proba5 = evaluate_models(five_rf_mdl,X5eval)"
   ]
  },
  {
   "cell_type": "code",
   "execution_count": null,
   "metadata": {
    "collapsed": true
   },
   "outputs": [],
   "source": [
    "from sklearn import metrics"
   ]
  },
  {
   "cell_type": "code",
   "execution_count": null,
   "metadata": {
    "collapsed": false
   },
   "outputs": [],
   "source": [
    "plot_conf_matrix(y5eval,map(np.int,eval_pred_class5.mean(axis=1)))"
   ]
  },
  {
   "cell_type": "code",
   "execution_count": null,
   "metadata": {
    "collapsed": false
   },
   "outputs": [],
   "source": [
    "plot_conf_matrix(y5eval,map(np.int,eval_pred_class5.mean(axis=1)),normed=False)"
   ]
  },
  {
   "cell_type": "code",
   "execution_count": null,
   "metadata": {
    "collapsed": true
   },
   "outputs": [],
   "source": [
    "def plot_roc_curve(target_test, target_predicted_proba):\n",
    "    fpr, tpr, thresholds = metrics.roc_curve(target_test, target_predicted_proba[:, 1])\n",
    "    \n",
    "    roc_auc = metrics.auc(fpr, tpr)\n",
    "    # Plot ROC curve\n",
    "    plt.plot(fpr, tpr, label='ROC curve (area = %0.3f)' % roc_auc)\n",
    "    plt.plot([0, 1], [0, 1], 'k--')  # random predictions curve\n",
    "    plt.xlim([0.0, 1.0])\n",
    "    plt.ylim([0.0, 1.0])\n",
    "    plt.xlabel('False Positive Rate or (1 - Specifity)')\n",
    "    plt.ylabel('True Positive Rate or (Sensitivity)')\n",
    "    plt.title('Receiver Operating Characteristic')\n",
    "    plt.legend(loc=\"lower right\")\n",
    "    return roc_auc"
   ]
  },
  {
   "cell_type": "code",
   "execution_count": null,
   "metadata": {
    "collapsed": false
   },
   "outputs": [],
   "source": [
    "#plot_roc_curve(y3eval,eval_prediction_proba3[:,])\n",
    "plot_roc_curve(y5eval,eval_pred_proba5[:,:,:].mean(axis=2))\n",
    "plt.ylim([0,1.01])"
   ]
  },
  {
   "cell_type": "markdown",
   "metadata": {
    "collapsed": true
   },
   "source": [
    "## begin to explore the factors"
   ]
  },
  {
   "cell_type": "code",
   "execution_count": null,
   "metadata": {
    "collapsed": true
   },
   "outputs": [],
   "source": [
    "# function to push feature_importances for a set of RF models into a dataframe\n",
    "def create_fi_df(mdl_list,feature_names):\n",
    "    list_feature_importances = []\n",
    "    col_list = []\n",
    "    for i,mdl in enumerate(mdl_list):\n",
    "        list_feature_importances.append(plotFI(mdl,feature_names,show_plot=False))\n",
    "        col_list.append('fold'+str(i)+'_value')\n",
    "        col_list.append('fold'+str(i)+'_std')\n",
    "\n",
    "    fi_df = pd.concat(list_feature_importances,axis=1)\n",
    "    # create column headings\n",
    "    fi_df.columns = col_list\n",
    "    # create the average of the values\n",
    "    value_cols = [x for x in col_list if x.endswith('value')]\n",
    "    \n",
    "    fi_df['avg_val']=fi_df[value_cols].mean(axis=1)\n",
    "    fi_df['avg_variance']=fi_df[value_cols].std(axis=1)\n",
    "#t2_eval_fi_df[['avg_val','avg_std']].sort('avg_val',ascending=False)\n",
    "    return fi_df\n",
    "\n",
    "def plotFI(forest,featureNames=[],show_plot=True):#,autoscale=True,headroom=0.05):\n",
    "    \"\"\"\n",
    "    forest is the model to be graphed.\n",
    "    featureNames is the list of features to be displayed\n",
    "    \n",
    "    \"\"\"\n",
    "    #if autoscale:\n",
    "    #    x_scale = forest.feature_importances_.max()+ headroom\n",
    "    #else:\n",
    "    #    x_scale = 1\n",
    "    \n",
    "    featureImportances=forest.feature_importances_\n",
    "    # sort the importances from biggest to least\n",
    "    indices = np.argsort(featureImportances)[::-1]\n",
    "    estimators = forest.estimators_\n",
    "    # calculate the variance over the forest \n",
    "    \n",
    "    std = np.std([tree.feature_importances_ for tree in estimators],axis=0)\n",
    "    # print summary statement\n",
    "    nfeatures = len(featureImportances)\n",
    "    print(\"Number of Features: %d\" % (nfeatures))\n",
    "    print(\"Number of Trees: %d\" %(len(estimators)))\n",
    "    \n",
    "    #print featureNames\n",
    "    if len(featureNames)==0:\n",
    "        featureNames = map(str,indices)\n",
    "    \n",
    "    fN2 = [featureNames[a] for a in indices]\n",
    "    print(\"Feature ranking:\")\n",
    "\n",
    "    for f in range(len(indices)):\n",
    "        print(\"%d. feature %d=%s (%f)\" % (f + 1, indices[f], featureNames[indices[f]],featureImportances[indices[f]]))\n",
    "\n",
    "    # Plot the feature importances of the forest\n",
    "    # define a cutoff in terms of feature_importance\n",
    "    if nfeatures <= 30:\n",
    "        kfeatures = nfeatures # keep all if smaller than 30\n",
    "    else:\n",
    "        kfeatures = 30\n",
    "        \n",
    "    kindices = indices[:kfeatures]\n",
    "    if show_plot:\n",
    "        plt.title(\"Feature importances\")\n",
    "        plt.barh(range(len(kindices)), featureImportances[kindices],\n",
    "           color=\"steelblue\", xerr=std[kindices], align=\"center\",ecolor='k')#,lw=2)\n",
    "    \n",
    "        plt.yticks(range(len(kindices)),fN2)\n",
    "        #grid(True)\n",
    "    \n",
    "    c1 = 'value'\n",
    "    c2 = 'std'\n",
    "    tdata = np.vstack([featureImportances[indices],std[indices]])\n",
    "    df = pd.DataFrame(data = tdata.T,index=fN2,columns=[c1,c2])\n",
    "    return df\n",
    "    "
   ]
  },
  {
   "cell_type": "code",
   "execution_count": null,
   "metadata": {
    "collapsed": false
   },
   "outputs": [],
   "source": [
    "print len(five_rf_mdl[0].feature_importances_), len(model_columns)\n",
    "feature_names1 = [a for a in model_columns]\n",
    "feature_names1.append('adj_age')\n",
    "feature_names1.append('adj_tenure')\n"
   ]
  },
  {
   "cell_type": "code",
   "execution_count": null,
   "metadata": {
    "collapsed": false
   },
   "outputs": [],
   "source": [
    "fiveRFmdl_fidf = create_fi_df(five_rf_mdl,feature_names1)"
   ]
  },
  {
   "cell_type": "code",
   "execution_count": null,
   "metadata": {
    "collapsed": false
   },
   "outputs": [],
   "source": [
    "from StringIO import StringIO\n",
    "from sklearn import tree\n",
    "out = StringIO()\n",
    "out = tree.export_graphviz(five_rf_mdl[0].estimators_[0], out_file=out)\n"
   ]
  },
  {
   "cell_type": "code",
   "execution_count": null,
   "metadata": {
    "collapsed": false
   },
   "outputs": [],
   "source": []
  },
  {
   "cell_type": "code",
   "execution_count": null,
   "metadata": {
    "collapsed": true
   },
   "outputs": [],
   "source": []
  },
  {
   "cell_type": "code",
   "execution_count": null,
   "metadata": {
    "collapsed": true
   },
   "outputs": [],
   "source": []
  },
  {
   "cell_type": "markdown",
   "metadata": {},
   "source": [
    "### so 52 of 164 columns have missing values still. Work on Correcting these.\n",
    "#### some logic:\n",
    "* if it is a count (like ADDRCNT*) set missing to -1\n",
    "\n",
    "* if it is a performance assessment (like BOX*) set to 0; L will become 1, S will become 2, H will become 3.\n",
    "* if it is a float (like MERIT*, PERF*, ...) try to reassign by imputation.\n",
    "* assign a value:\n",
    "    * if 'HAVE_INS' or 'HAVE_DEP' assign 0, 0 to values\n",
    "    * if LOC_STATE or GRADE or JOB_FAMILY or JOB_FUNCTION or LOC_TYPE_DESCR_SFI assign to XX*"
   ]
  },
  {
   "cell_type": "code",
   "execution_count": null,
   "metadata": {
    "collapsed": true
   },
   "outputs": [],
   "source": [
    "chg_to_zero_cols = ['BOX1','BOX2','BOX3','BOX4','BOX5','BOX6','BOX7','BOX8','BOX9','BOX10']\n",
    "#['HAVE_INS','HAVE_DEP','DEP_COUNT','BOX1','BOX2','BOX3','BOX4','BOX5','BOX6','BOX7','BOX8','BOX9','BOX10']\n",
    "chg_to_neg_one_cols = ['ADDRCNT1','ADDRCNT3','ADDRCNT5','ADDRCNT10',\n",
    "                           'DIRECT_RPT_CNT', 'DIVISION_CODE_SFI','EXTFUNC_CNT','FUNC_CNT','TOTAL_RPT_CNT']\n",
    "                          \n",
    "chg_to_MISSING_cols = ['ACTRES1','ACTRES2','ACTRES3','ACTRES4','ACTRES5','ACTRES6','ACTRES7','ACTRES8','ACTRES9','ACTRES10',\n",
    "                      'ADDRESS1','JOB_FAMILY','LOC_CITY','LOC_TYPE_DESCR_SFI','SKEY',\n",
    "                      'RATE1', 'RATE10', 'RATE2', 'RATE3', 'RATE4', 'RATE5', 'RATE6', 'RATE7', 'RATE8', 'RATE9',]\n",
    "#chg_to_MISSING =['ACTRES1','ACTRES2','ADDRESS1','JOB_FAMILY', 'LOC_CITY','LOC_TYPE_DESCR_SFI']#'POSTAL_SFI',\n",
    "chg_to_00000 = ['EXT_FUNC_ID_SFI','FUNC_ID_SFI']#,'zip5']\n",
    "chg_to_XXX = ['GRADE','JOB_FUNCTION']\n",
    "chg_to_XX = ['LOC_STATE']\n",
    "col_to_drop = ['STATE','ADDRESS2','MAR_STATUS_DT'] # drop 'STATE'; some strange values; 'address2 x_missing too high'"
   ]
  },
  {
   "cell_type": "code",
   "execution_count": null,
   "metadata": {
    "collapsed": true
   },
   "outputs": [],
   "source": [
    "## map some categorical to their values"
   ]
  },
  {
   "cell_type": "code",
   "execution_count": null,
   "metadata": {
    "collapsed": true
   },
   "outputs": [],
   "source": []
  },
  {
   "cell_type": "code",
   "execution_count": null,
   "metadata": {
    "collapsed": true
   },
   "outputs": [],
   "source": []
  },
  {
   "cell_type": "code",
   "execution_count": null,
   "metadata": {
    "collapsed": true
   },
   "outputs": [],
   "source": [
    "empl"
   ]
  },
  {
   "cell_type": "code",
   "execution_count": null,
   "metadata": {
    "collapsed": true
   },
   "outputs": [],
   "source": [
    "## restrict "
   ]
  },
  {
   "cell_type": "markdown",
   "metadata": {},
   "source": [
    "## Remove extraneous columns\n",
    "* historical ones\n",
    "* PER_ORG (all the same)\n",
    "* addresses\n",
    "* SAL1 == ANNUAL_RT\n",
    "## Actually the better option is to just extract the desired columns and do the modeling on these"
   ]
  },
  {
   "cell_type": "code",
   "execution_count": null,
   "metadata": {
    "collapsed": true
   },
   "outputs": [],
   "source": [
    "history_to_omit = ['ADDRCNT10','ADDRCNT3','ADDRCNT5','DEPTCNT10','DEPTCNT3','DEPTCNT5',\n",
    "                   'EFUNCCNT10','EFUNCCNT3','EFUNCCNT5','FLOORCNT10','FLOORCNT3','FLOORCNT5',\n",
    "                  'FTPTCNT10','FTPTCNT3','FTPTCNT5','FULLPART10','FULLPART3','FULLPART5',\n",
    "                  'FUNCCNT10','FUNCCNT3','FUNCCNT5','GRADECNT10','GRADECNT3','GRADECNT5',\n",
    "                  'JOBCNT10','JOBCNT3','JOBCNT5','LOCCNT10','LOCCNT3','LOCCNT5','LOCSTCNT10','LOCSTCNT3','LOCSTCNT5',\n",
    "                  'PARTFULL10','PARTFULL3','PARTFULL5','PTFTCNT10','PTFTCNT3','PTFTCNT5',\n",
    "                   'SUPVCNT10','SUPVCNT3','SUPVCNT5','SAL10','SAL9','SAL8','SAL7','SAL6','SAL5','SAL4','SAL3',\n",
    "                   'SAL2','MERIT2','MERIT3','MERIT4','MERIT5','MERIT6','MERIT7','MERIT8','MERIT9','MERIT10',\n",
    "                    'PERF2','PERF3','PERF4','PERF5','PERF6','PERF7','PERF8','PERF9','PERF10']"
   ]
  },
  {
   "cell_type": "code",
   "execution_count": null,
   "metadata": {
    "collapsed": true
   },
   "outputs": [],
   "source": [
    "# add the ACTRES2/3 and ADDRESS1/2 lines\n",
    "# add *_tdelta, BIRTHDATE, PER_ORG\n",
    "# add POSTAL_SFI, zip5, MAR_STA_SNAME_SFI, LOC_TYPE_DESC_SFI\n",
    "others_to_omit = ['ADDRESS1','Age_tdelta','BIRTHDATE','LAST_HIRE_DT',\n",
    "                  'LOC_CITY','LOC_TYPE_DESCR_SFI','MAR_STATUS_DT','MAR_STA_SNAME_SFI',\n",
    "                  'PER_ORG','POSTAL_SFI','SKEY','SERVICE_DT','TERMINATION_DT',\n",
    "                  'Tenure_tdelta','zip5']#'TOT_MO_SERVICE_SFI','Tenure_months']\n",
    "                 #'MERIT1','MERIT2','MERIT3','MERIT4','MERIT5','MERIT6','MERIT7','MERIT8','MERIT9','MERIT10',\n",
    "                 #'PERF1','PERF2','PERF3','PERF4','PERF5','PERF6','PERF7','PERF8','PERF9','PERF10']\n",
    "history_to_omit = ['ADDRCNT10','ADDRCNT3','ADDRCNT5','DEPTCNT10','DEPTCNT3','DEPTCNT5',\n",
    "                   'EFUNCCNT10','EFUNCCNT3','EFUNCCNT5','FLOORCNT10','FLOORCNT3','FLOORCNT5',\n",
    "                  'FTPTCNT10','FTPTCNT3','FTPTCNT5','FULLPART10','FULLPART3','FULLPART5',\n",
    "                  'FUNCCNT10','FUNCCNT3','FUNCCNT5','GRADECNT10','GRADECNT3','GRADECNT5',\n",
    "                  'JOBCNT10','JOBCNT3','JOBCNT5','LOCCNT10','LOCCNT3','LOCCNT5','LOCSTCNT10','LOCSTCNT3','LOCSTCNT5',\n",
    "                  'PARTFULL10','PARTFULL3','PARTFULL5','PTFTCNT10','PTFTCNT3','PTFTCNT5',\n",
    "                   'SUPVCNT10','SUPVCNT3','SUPVCNT5','ACTRES2','SAL10','SAL9','SAL8','SAL7','SAL6','SAL5','SAL4','SAL3',\n",
    "                   'SAL2','MERIT2','MERIT3','MERIT4','MERIT5','MERIT6','MERIT7','MERIT8','MERIT9','MERIT10',\n",
    "                    'PERF2','PERF3','PERF4','PERF5','PERF6','PERF7','PERF8','PERF9','PERF10']\n",
    "cols_to_categorical = ['COMPANY','COMP_FREQUENCY','DIVISION_CODE_SFI','EEO1CODE','EMPL_CLASS','EMPL_TYPE','ETHNIC_GROUP',\n",
    "                       'FLSA_STATUS','FULLPART1','FULL_PART_TIME','GRADE','HUBIND','INTERN','JOB_FUNCTION','RELOCATE_ALL_SFI',\n",
    "                       'REMOTE','REMOTE_SUPV','SEX','SHIFT','SUPV_DIFF_LOC','VOLINVOL','status']\n",
    "for col in others_to_omit:\n",
    "    columns_to_omit.append(col)\n",
    "\n",
    "for col in history_to_omit:\n",
    "    columns_to_omit.append(col)\n",
    "    \n",
    "print len(columns_to_omit),len(cols_to_categorical)"
   ]
  },
  {
   "cell_type": "markdown",
   "metadata": {
    "collapsed": true
   },
   "source": [
    "## READ the data June 10, 2015\n",
    "* use employee_dataframe8.tsv --> contains text fields including dates for HIRE_DT..\n",
    "* use employee_df_[1,2].csv --> contains just numeric data.\n",
    "    - employee_df_1 has 180 columns:\n",
    "        + Historical data there \n",
    "        + max value of EXT_FUNC_ID_SFI and FUNC_ID_SFI (represents missing ) changed to 2000.\n",
    "        + median values used to fill missing values for float columns\n",
    "        + COMPANY dropped\n",
    "        + 'LOC_TYPE_DESCR_SFI','GRADE','LOC_STATE','JOB_FAMILY' label encoded\n",
    "        + ANNUAL_RT droped in lieu of SAL1\n",
    "        + BOX* kept; RATE*  dropped\n",
    "        + PTFTCNT* kept; PARTFULL dropped\n",
    "        + FTCNT* kept; FULLPART dropped\n",
    "    - keep only the most recent historical data"
   ]
  },
  {
   "cell_type": "code",
   "execution_count": null,
   "metadata": {
    "collapsed": true
   },
   "outputs": [],
   "source": []
  },
  {
   "cell_type": "code",
   "execution_count": null,
   "metadata": {
    "collapsed": false
   },
   "outputs": [],
   "source": [
    "# omit those that have more than 25% missing:\n",
    "missing_threshold = 0.25\n",
    "columns_to_omit = list(sdf[sdf['x_missing'] > missing_threshold].Column.values)\n",
    "print len(columns_to_omit)\n",
    "print columns_to_omit"
   ]
  },
  {
   "cell_type": "code",
   "execution_count": null,
   "metadata": {
    "collapsed": true
   },
   "outputs": [],
   "source": []
  },
  {
   "cell_type": "code",
   "execution_count": null,
   "metadata": {
    "collapsed": false
   },
   "outputs": [],
   "source": []
  },
  {
   "cell_type": "code",
   "execution_count": null,
   "metadata": {
    "collapsed": true
   },
   "outputs": [],
   "source": []
  },
  {
   "cell_type": "markdown",
   "metadata": {},
   "source": [
    "## Construct a simple DataFrame of employee dates using Timestamps"
   ]
  },
  {
   "cell_type": "code",
   "execution_count": null,
   "metadata": {
    "collapsed": false
   },
   "outputs": [],
   "source": []
  },
  {
   "cell_type": "code",
   "execution_count": null,
   "metadata": {
    "collapsed": true
   },
   "outputs": [],
   "source": []
  },
  {
   "cell_type": "code",
   "execution_count": null,
   "metadata": {
    "collapsed": true
   },
   "outputs": [],
   "source": [
    "## Let me return to removing columns I don't want\n",
    "* keep "
   ]
  },
  {
   "cell_type": "code",
   "execution_count": null,
   "metadata": {
    "collapsed": false
   },
   "outputs": [],
   "source": [
    "\n",
    "columns_to_remove = ['']"
   ]
  },
  {
   "cell_type": "code",
   "execution_count": null,
   "metadata": {
    "collapsed": true
   },
   "outputs": [],
   "source": [
    "from sklearn.base import BaseEstimator, TransformerMixin\n",
    "from sklearn.pipeline import Pipeline\n",
    "from sklearn.pipeline import FeatureUnion"
   ]
  },
  {
   "cell_type": "code",
   "execution_count": null,
   "metadata": {
    "collapsed": true
   },
   "outputs": [],
   "source": []
  },
  {
   "cell_type": "code",
   "execution_count": null,
   "metadata": {
    "collapsed": true
   },
   "outputs": [],
   "source": [
    "pipeline = Pipeline([(\"DF_Converter\", br.DataFrameConverter(columns=X.columns)),\n",
    "                     (\"Cat_Converter\", br.ConvertCategorical(categorical_columns=categorical_columns)),\n",
    "                     (\"Impute\", br.ImputeData()),\n",
    "                     (\"clf\", RandomForestClassifier(n_jobs=50))])\n",
    "pipeline.fit(X, y)\n",
    "pipeline.predict_proba(X_2014_validation)"
   ]
  },
  {
   "cell_type": "markdown",
   "metadata": {},
   "source": [
    "## Add/replace some relevant columns to this dataframe\n",
    "* POSTAL_SFI --> zip5 \n",
    "* unempl_rate by joining on unemployment\n",
    "* Age_hire\n",
    "* terminated \n",
    "* sep_status\n",
    "\n",
    "use a parallel dataframe for dates/timestamps"
   ]
  },
  {
   "cell_type": "code",
   "execution_count": null,
   "metadata": {
    "collapsed": true
   },
   "outputs": [],
   "source": [
    "class ColumnSelector(TransformerMixin):\n",
    "    \"\"\" Selects column(s) from a pandas DataFrame\n",
    "    \"\"\"\n",
    "    def __init__(self,cols):\n",
    "        self.cols = cols\n",
    "    def tranform(self, X, y=None):\n",
    "        return X[:,self.cols]\n",
    "    def fit(self, X, y=None):\n",
    "        return self\n",
    "    "
   ]
  },
  {
   "cell_type": "code",
   "execution_count": null,
   "metadata": {
    "collapsed": true
   },
   "outputs": [],
   "source": [
    "## Per discussion with HR COE team decide to truncate data after a particular date\n"
   ]
  },
  {
   "cell_type": "code",
   "execution_count": null,
   "metadata": {
    "collapsed": true
   },
   "outputs": [],
   "source": [
    "emSets = []\n",
    "date_list =['1994-01-01','1998-01-01','2002-01-01','2006-01-01']\n",
    "print len(empl_df)\n",
    "for date0 in date_list:\n",
    "    my_em = empl_df.ix[emplfull.TERMINATION_DT>=date0].copy()\n",
    "    emSets.append(my_em)\n",
    "    print date0, len(my_em)\n",
    "    print '----\\n', my_em.status.value_counts()"
   ]
  },
  {
   "cell_type": "code",
   "execution_count": null,
   "metadata": {
    "collapsed": true
   },
   "outputs": [],
   "source": [
    "empl_dates=pd.DataFrame()\n",
    "empl_dates[['hire_tstmp','term_tstmp','birth_tstmp']] = emplfull[['HIRE_DT','TERMINATION_DT','BIRTHDATE']].apply(lambda x: pd.to_datetime(x))\n",
    "empl_dates[['hire_year','term_year','birth_year']]= empl_dates[['hire_tstmp','term_tstmp','birth_tstmp']].apply(lambda x: x.dt.year)\n",
    "empl_dates.head()"
   ]
  },
  {
   "cell_type": "markdown",
   "metadata": {},
   "source": [
    "### Helper Functions Follow\n",
    "* Most taken from ```bear.py```\n",
    "* "
   ]
  },
  {
   "cell_type": "code",
   "execution_count": null,
   "metadata": {
    "collapsed": true
   },
   "outputs": [],
   "source": []
  },
  {
   "cell_type": "code",
   "execution_count": null,
   "metadata": {
    "collapsed": false
   },
   "outputs": [],
   "source": [
    "## bear.py \n",
    "from sklearn.base import BaseEstimator, TransformerMixin\n",
    "\n",
    "class ConvertCategorical(BaseEstimator, TransformerMixin):\n",
    "    def __init__(self, categorical_columns, method='factorize'):\n",
    "        \"\"\"\n",
    "        method: factorize, value_counts, group_means\n",
    "        \"\"\"\n",
    "        self.method = method\n",
    "        self.categorical_columns = categorical_columns\n",
    "        self.map_values = {}\n",
    "    \n",
    "    def fit(self, X, y=None):\n",
    "        for col in self.categorical_columns:\n",
    "            if col in X.columns:\n",
    "                if self.method == 'factorize':           \n",
    "                    map_values = X[col].unique() # Can sample data here for speed\n",
    "                    self.map_values[col] = {key: index for index, key in enumerate(map_values)}                 \n",
    "                elif self.method == 'value_counts':\n",
    "                    self.map_values[col] = dict(X[col].value_counts())\n",
    "                elif self.method == 'group_means':\n",
    "                    self.map_values[col] = dict(pd.crosstab(X[col], y).apply(lambda x: x[1]/float(x.sum()), axis=1))\n",
    "        return self\n",
    "        \n",
    "    def transform(self, X, y=None):\n",
    "        for col in self.categorical_columns:\n",
    "            if col in X.columns:\n",
    "                X[str(col)+\"_f\"] = X[col].map(self.map_values[col], 'ignore')\n",
    "        X = X[br.get_numeric(X)]\n",
    "        return X\n",
    "\n",
    "\n",
    "\n",
    "def graph_feature_importances(model, feature_names, autoscale=True, headroom=0.05, width=10, summarized_columns=None):\n",
    "    \"\"\"\n",
    "    Graphs the feature importances of a random decision forest using a horizontal bar chart. \n",
    "    Probably works but untested on other sklearn.ensembles.\n",
    "    \n",
    "    Parameters\n",
    "    ----------\n",
    "    ensemble = Name of the ensemble whose features you would like graphed.\n",
    "    feature_names = A list of the names of those featurs, displayed on the Y axis.\n",
    "    autoscale = True (Automatically adjust the X axis size to the largest feature +.headroom) / False = scale from 0 to 1\n",
    "    headroom = used with autoscale, .05 default\n",
    "    width=figure width in inches\n",
    "    summarized_columns = a list of column prefixes to summarize on, for dummy variables (e.g. [\"day_\"] would summarize all day_ vars\n",
    "    \"\"\"\n",
    "    \n",
    "    if autoscale:\n",
    "        x_scale = model.feature_importances_.max()+ headroom\n",
    "    else:\n",
    "        x_scale = 1\n",
    "    \n",
    "    feature_dict=dict(zip(feature_names, model.feature_importances_))\n",
    "    \n",
    "    if summarized_columns: \n",
    "        #some dummy columns need to be summarized\n",
    "        for col_name in summarized_columns: \n",
    "            #sum all the features that contain col_name, store in temp sum_value\n",
    "            sum_value = sum(x for i, x in feature_dict.iteritems() if col_name in i )  \n",
    "            \n",
    "            #now remove all keys that are part of col_name\n",
    "            keys_to_remove = [i for i in feature_dict.keys() if col_name in i ]\n",
    "            for i in keys_to_remove:\n",
    "                feature_dict.pop(i)\n",
    "            #lastly, read the summarized field\n",
    "            feature_dict[col_name] = sum_value\n",
    "        \n",
    "    results = pd.Series(feature_dict.values(), index=feature_dict.keys())\n",
    "    results.sort(axis=1)\n",
    "    results.plot(kind=\"barh\", figsize=(width,len(results)/4), xlim=(0,x_scale))\n",
    "\n",
    "    "
   ]
  },
  {
   "cell_type": "code",
   "execution_count": null,
   "metadata": {
    "collapsed": false
   },
   "outputs": [],
   "source": [
    "## read in the full dataset\n",
    "new_read_dict = {'KEY':np.str,'LOCATION':np.str,'EEO1CODE':np.str,'SKEY':np.str,'JOBCODE':np.str,'EMPL_CLASS':np.str, \n",
    "                        'COMPANY':np.str,'EXT_FUNC_ID_SFI':np.str,'FUNC_ID_SFI':np.str,\n",
    "                          'DIVISION_CODE_SFI':np.str,'JOB_FAMILY':np.str,'JOB_FUNCTION':np.str,'ACTRES1':np.str,\n",
    "                          'ACTRES2':np.str,'ACTRES3':np.str,'ACTRES4':np.str,'ACTRES5':np.str,'ACTRES6':np.str,\n",
    "                          'ACTRES7':np.str,'ACTRES8':np.str,'ACTRES9':np.str,'ACTRES10':np.str,'zip5':np.str}\n",
    "emplfull = pd.read_csv('employee_dataframe8.tsv',sep='\\t',dtype={'KEY':np.str,'SKEY':np.str,'zip5':np.str})#,dtype=new_read_dict)\n",
    "print emplfull.shape\n",
    "emplfull.head()"
   ]
  },
  {
   "cell_type": "code",
   "execution_count": null,
   "metadata": {
    "collapsed": true
   },
   "outputs": [],
   "source": [
    "# helper function\n",
    "## function to load into pandas from hdfs (by copying to local filespace)\n",
    "def pandas_read_hdfs(infile,**kwargs):\n",
    "    # copy the infile to the cwd\n",
    "    !hdfs dfs -get {infile} .\n",
    "    # identify the local file name\n",
    "    inname = infile[infile.rfind('/')+1:]\n",
    "    # read into a data frame\n",
    "    df = pd.read_csv(inname,**kwargs)\n",
    "    # clean up local filespace\n",
    "    !rm {inname}\n",
    "    return df"
   ]
  },
  {
   "cell_type": "markdown",
   "metadata": {},
   "source": [
    "## Note make sure you have run kinit before the following"
   ]
  },
  {
   "cell_type": "code",
   "execution_count": null,
   "metadata": {
    "collapsed": false
   },
   "outputs": [],
   "source": [
    "fnames = !hdfs dfs -ls {coredir}\n",
    "infilenames = [f.split()[-1] for f in fnames[1:]]\n",
    "print len(infilenames)\n",
    "print infilenames[0]\n"
   ]
  },
  {
   "cell_type": "markdown",
   "metadata": {},
   "source": [
    "## Load the absence (EAS) empl table"
   ]
  },
  {
   "cell_type": "code",
   "execution_count": null,
   "metadata": {
    "collapsed": true
   },
   "outputs": [],
   "source": [
    "empl_abs = pandas_read_hdfs(infilenames[0],sep=';')"
   ]
  },
  {
   "cell_type": "code",
   "execution_count": null,
   "metadata": {
    "collapsed": false
   },
   "outputs": [],
   "source": [
    "printall(empl_abs)"
   ]
  },
  {
   "cell_type": "code",
   "execution_count": null,
   "metadata": {
    "collapsed": false
   },
   "outputs": [],
   "source": [
    "describe_categorical(emplfull)"
   ]
  },
  {
   "cell_type": "code",
   "execution_count": null,
   "metadata": {
    "collapsed": false
   },
   "outputs": [],
   "source": [
    "emplfull[['HIRE_DT']].ix[:3].apply(lambda x: pd.to_datetime(x).dt.year)"
   ]
  },
  {
   "cell_type": "markdown",
   "metadata": {},
   "source": [
    "### Construct a simple DataFrame of employee dates using timestamps"
   ]
  },
  {
   "cell_type": "code",
   "execution_count": null,
   "metadata": {
    "collapsed": false
   },
   "outputs": [],
   "source": [
    "empl_dates=pd.DataFrame()\n",
    "empl_dates[['hire_tstmp','term_tstmp','birth_tstmp']] = emplfull[['HIRE_DT','TERMINATION_DT','BIRTHDATE']].apply(lambda x: pd.to_datetime(x))\n",
    "empl_dates[['hire_year','term_year','birth_year']]= empl_dates[['hire_tstmp','term_tstmp','birth_tstmp']].apply(lambda x: x.dt.year)\n",
    "empl_dates.head()"
   ]
  },
  {
   "cell_type": "code",
   "execution_count": null,
   "metadata": {
    "collapsed": false
   },
   "outputs": [],
   "source": [
    "describe_categorical(empl_dates)"
   ]
  },
  {
   "cell_type": "code",
   "execution_count": null,
   "metadata": {
    "collapsed": false
   },
   "outputs": [],
   "source": [
    "#get_numeric(empl_dates)\n",
    "#hist_of_numeric(empl_dates)\n",
    "     \n",
    "for c in get_numeric(empl_dates):     \n",
    "    empl_dates[c].hist(label=c,alpha=0.5)\n",
    "    plt.legend(loc=2)\n",
    "    \n"
   ]
  },
  {
   "cell_type": "markdown",
   "metadata": {},
   "source": [
    "## READ the data June 10, 2015\n",
    "* use employee_dataframe8.tsv --> contains text fields including dates for HIRE_DT..\n",
    "* use employee_df_[1,2].csv --> contains just numeric data.\n",
    "    - employee_df_1 has 180 columns:\n",
    "        + Historical data there \n",
    "        + max value of EXT_FUNC_ID_SFI and FUNC_ID_SFI (represents missing ) changed to 2000.\n",
    "        + median values used to fill missing values for float columns\n",
    "        + COMPANY dropped\n",
    "        + 'LOC_TYPE_DESCR_SFI','GRADE','LOC_STATE','JOB_FAMILY' label encoded\n",
    "        + ANNUAL_RT droped in lieu of SAL1\n",
    "        + BOX* kept; RATE*  dropped\n",
    "        + PTFTCNT* kept; PARTFULL dropped\n",
    "        + FTCNT* kept; FULLPART dropped\n",
    "    - keep only the most recent historical data"
   ]
  },
  {
   "cell_type": "code",
   "execution_count": null,
   "metadata": {
    "collapsed": false
   },
   "outputs": [],
   "source": [
    "empl_df = pd.read_csv('employee_df_1.csv')\n",
    "empl_df.drop('Unnamed: 0', axis=1,inplace=True)\n",
    "print empl_df.shape\n",
    "empl_df.head()"
   ]
  },
  {
   "cell_type": "code",
   "execution_count": null,
   "metadata": {
    "collapsed": true
   },
   "outputs": [],
   "source": [
    "## assign unemployement_rate\n",
    "empl_df['unempl_rate'] = emplfull.TERMINATION_DT.apply(lambda x: assign_unempl_rate(x,unempl))"
   ]
  },
  {
   "cell_type": "code",
   "execution_count": null,
   "metadata": {
    "collapsed": false
   },
   "outputs": [],
   "source": []
  },
  {
   "cell_type": "markdown",
   "metadata": {},
   "source": [
    "## Examine collinearity of these columns"
   ]
  },
  {
   "cell_type": "code",
   "execution_count": null,
   "metadata": {
    "collapsed": false,
    "scrolled": false
   },
   "outputs": [],
   "source": [
    "collinearity_empl_df = perfect_collinearity_test(empl_df)"
   ]
  },
  {
   "cell_type": "code",
   "execution_count": null,
   "metadata": {
    "collapsed": false
   },
   "outputs": [],
   "source": [
    "collinearity_empl_df.sort(ascending=False)\n",
    "collinearity_empl_df[collinearity_empl_df>0.95]"
   ]
  },
  {
   "cell_type": "markdown",
   "metadata": {},
   "source": [
    "### Let's begin with just a few columns and revisit this later to get the logic correct\n",
    "* further cleans-up the dataset\n",
    "    1. clean-up (remove) historical data\n",
    "    2. MOS data?\n",
    "    3. Try to encode survival value for some categorical variables\n",
    "        - JOB_FAMILY \n",
    "        - GRADE <-> grade_code\n",
    "        - JOB_FAMILY <-> job_fcode (not used/recognized by HR)\n",
    "        - JOBCODE <-> recast this into a form that has ordinal sense\n",
    "    4. Revist columns to keep/exclude:\n",
    "        - JOB FUNCTION IS categorical; 19 unique values\n",
    "        - job_fcode should be but is label encoded as integers; 1456 unique values\n",
    "        - EXTFUNC_CNT has 10352 unique values -->\n",
    "        - EXT_FUNC_ID_SFI has 422 unique values\n",
    "        - FUNC_CNT has 12070 unique values\n",
    "        - FUNC_ID_SFI has 64 unique values\n",
    "* build model based upon those with known separation ONLY\n",
    "  - create a hold out (eval) set.\n",
    "  - apply to current employees\n",
    "  - question: _How to make this time-dependent?_\n",
    "      * bucket the test set into time-segments"
   ]
  },
  {
   "cell_type": "code",
   "execution_count": null,
   "metadata": {
    "collapsed": false
   },
   "outputs": [],
   "source": [
    "len(col_list)"
   ]
  },
  {
   "cell_type": "code",
   "execution_count": null,
   "metadata": {
    "collapsed": false
   },
   "outputs": [],
   "source": [
    "col_list = empl_df.columns.tolist()\n",
    "three_cols = [x for x in col_list if x.endswith('CNT3')]\n",
    "five_cols = [x for x in col_list if x.endswith('CNT5')]\n",
    "ten_cols = [x for x in col_list if x.endswith('CNT10')]\n",
    "# drop all BOX, MERIT, SAL, PERF and add back in those from last year\n",
    "to_drop_cols = [x for x in col_list if x.startswith('PERF')]\n",
    "to_drop_cols+= [x for x in col_list if x.startswith('SAL')]\n",
    "to_drop_cols += [x for x in col_list if x.startswith('MERIT')]\n",
    "to_drop_cols += [x for x in col_list if x.startswith('BOX')]\n",
    "to_drop_cols+=three_cols\n",
    "to_drop_cols+=five_cols\n",
    "to_drop_cols+=ten_cols\n",
    "to_add_cols = ['BOX1','SAL1','MERIT1','PERF1']\n",
    "empl = empl_df.copy()\n",
    "empl.drop(to_drop_cols,inplace=True,axis=1)\n",
    "empl[to_add_cols] = empl_df[to_add_cols].copy()\n",
    "print empl.shape ## this is the same as if I read in employee_df_2.csv"
   ]
  },
  {
   "cell_type": "code",
   "execution_count": null,
   "metadata": {
    "collapsed": false
   },
   "outputs": [],
   "source": [
    "## check collinearity of this\n",
    "empl_collin_test = perfect_collinearity_test(empl)"
   ]
  },
  {
   "cell_type": "code",
   "execution_count": null,
   "metadata": {
    "collapsed": false
   },
   "outputs": [],
   "source": [
    "empl_collin_test.hist(label='removed_historical',bins=20)\n",
    "collinearity_empl_df.hist(alpha=0.3,label='all_columns',bins=20)\n",
    "plt.legend(loc=2)\n",
    "plt.xlabel('correlation score')\n",
    "plt.ylabel('Counts')"
   ]
  },
  {
   "cell_type": "code",
   "execution_count": null,
   "metadata": {
    "collapsed": false
   },
   "outputs": [],
   "source": [
    "empl_collin_test[empl_collin_test>0.9]"
   ]
  },
  {
   "cell_type": "code",
   "execution_count": null,
   "metadata": {
    "collapsed": false
   },
   "outputs": [],
   "source": [
    "reduced_cols = empl.columns.tolist()"
   ]
  },
  {
   "cell_type": "markdown",
   "metadata": {},
   "source": [
    "## Begin to look at slicing in Time"
   ]
  },
  {
   "cell_type": "code",
   "execution_count": null,
   "metadata": {
    "collapsed": false
   },
   "outputs": [],
   "source": [
    "emSets = []\n",
    "date_list =['1994-01-01','1998-01-01','2002-01-01','2006-01-01']\n",
    "print len(empl_df)\n",
    "for date0 in date_list:\n",
    "    my_em = empl_df.ix[emplfull.TERMINATION_DT>=date0].copy()\n",
    "    emSets.append(my_em)\n",
    "    print date0, len(my_em)\n",
    "    print '----\\n', my_em.status.value_counts()"
   ]
  },
  {
   "cell_type": "code",
   "execution_count": null,
   "metadata": {
    "collapsed": false
   },
   "outputs": [],
   "source": [
    "set_lengths = [len(em) for em in emSets]\n",
    "plt.bar(np.arange(0,len(set_lengths)),set_lengths,color='darkorchid')\n"
   ]
  },
  {
   "cell_type": "markdown",
   "metadata": {},
   "source": [
    "### Consider set B: index = 1\n",
    "* length is 159376, split is 89570 to 69806\n",
    "* date is 2002-01-01"
   ]
  },
  {
   "cell_type": "code",
   "execution_count": null,
   "metadata": {
    "collapsed": false
   },
   "outputs": [],
   "source": [
    "collinearity_test_B = perfect_collinearity_test(emSets[1][reduced_cols])"
   ]
  },
  {
   "cell_type": "code",
   "execution_count": null,
   "metadata": {
    "collapsed": false
   },
   "outputs": [],
   "source": [
    "plt.scatter(empl_collin_test,collinearity_test_B)\n"
   ]
  },
  {
   "cell_type": "code",
   "execution_count": null,
   "metadata": {
    "collapsed": false
   },
   "outputs": [],
   "source": [
    "collinearity_test_B[collinearity_test_B>0.9]"
   ]
  },
  {
   "cell_type": "code",
   "execution_count": null,
   "metadata": {
    "collapsed": false
   },
   "outputs": [],
   "source": [
    "emSets[1].plot(kind='scatter',x='SAL1',y='MIN_RT_ANNUAL')\n",
    "emSets[1].plot(kind='scatter',x='SAL1',y='MAX_RT_ANNUAL')"
   ]
  },
  {
   "cell_type": "code",
   "execution_count": null,
   "metadata": {
    "collapsed": false
   },
   "outputs": [],
   "source": [
    "# Create a set of those who are separated only\n",
    "emB_build = emSets[1][emSets[1][reduced_cols].status ==1].copy()\n",
    "emB_active = emSets[1][emSets[1][reduced_cols].status==0].copy()"
   ]
  },
  {
   "cell_type": "code",
   "execution_count": null,
   "metadata": {
    "collapsed": false
   },
   "outputs": [],
   "source": [
    "emB_build.terminated.value_counts(), emB_build.retired.value_counts()"
   ]
  },
  {
   "cell_type": "code",
   "execution_count": null,
   "metadata": {
    "collapsed": false
   },
   "outputs": [],
   "source": [
    "len(emB_build)"
   ]
  },
  {
   "cell_type": "code",
   "execution_count": null,
   "metadata": {
    "collapsed": false
   },
   "outputs": [],
   "source": [
    "emB_build.terminated.value_counts()/float(len(emB_build))"
   ]
  },
  {
   "cell_type": "code",
   "execution_count": null,
   "metadata": {
    "collapsed": false
   },
   "outputs": [],
   "source": [
    "\n",
    "emB_build.Tenure_years.describe()"
   ]
  },
  {
   "cell_type": "code",
   "execution_count": null,
   "metadata": {
    "collapsed": false
   },
   "outputs": [],
   "source": [
    "tenure_years_range= [0.0,65.0]\n",
    "emB_build.Tenure_years.hist(bins=66,range=tenure_years_range)"
   ]
  },
  {
   "cell_type": "code",
   "execution_count": null,
   "metadata": {
    "collapsed": false
   },
   "outputs": [],
   "source": [
    "y_tenure_class = pd.cut(emB_build.Tenure_years,[0,1,2,3,4,5,6,7,8,200],labels=False,right=False)#,labels=[1,2,3,4,5,6,7,8])#.values"
   ]
  },
  {
   "cell_type": "code",
   "execution_count": null,
   "metadata": {
    "collapsed": false
   },
   "outputs": [],
   "source": [
    "pd.value_counts(y_tenure_class).plot(kind='bar')#.reindex(y_tenure_class.levels)"
   ]
  },
  {
   "cell_type": "code",
   "execution_count": null,
   "metadata": {
    "collapsed": false
   },
   "outputs": [],
   "source": [
    "# create evaluation set and test set\n",
    "from sklearn import cross_validation\n",
    "eval_fraction = 0.15\n",
    "emB, emB_eval = cross_validation.train_test_split(emB_build,test_size=eval_fraction)"
   ]
  },
  {
   "cell_type": "code",
   "execution_count": null,
   "metadata": {
    "collapsed": false
   },
   "outputs": [],
   "source": [
    "train_index = emB.index.tolist()\n",
    "eval_index = emB_eval.index.tolist()\n"
   ]
  },
  {
   "cell_type": "code",
   "execution_count": null,
   "metadata": {
    "collapsed": false
   },
   "outputs": [],
   "source": [
    "y_tenure_class.ix[eval_index].value_counts()/float(len(eval_index))"
   ]
  },
  {
   "cell_type": "code",
   "execution_count": null,
   "metadata": {
    "collapsed": false
   },
   "outputs": [],
   "source": [
    "y_tenure_class.ix[train_index].value_counts()/float(len(train_index))"
   ]
  },
  {
   "cell_type": "code",
   "execution_count": null,
   "metadata": {
    "collapsed": false
   },
   "outputs": [],
   "source": [
    "high_collinear_cols = ['EMPL_CLASS_P','EMPL_CLASS_O','EEO1CODE_9']\n",
    "mos_columns = [x for x in reduced_cols if x.endswith('MOS')]\n",
    "other_cols_to_drop = ['status','sep_status','EXTFUNC_CNT','EXT_FUNC_ID_SFI','FUNC_CNT','FUNC_ID_SFI','retired','terminated','Tenure_years']\n",
    "modeling_cols = list(set(reduced_cols)-set(high_collinear_cols)-set(other_cols_to_drop)-set(mos_columns))\n",
    "print len(reduced_cols), len(modeling_cols)"
   ]
  },
  {
   "cell_type": "code",
   "execution_count": null,
   "metadata": {
    "collapsed": false
   },
   "outputs": [],
   "source": [
    "X = emB[modeling_cols].as_matrix().astype(np.float)\n",
    "print np.shape(X)\n",
    "y_tenure = emB.Tenure_years.as_matrix().astype(np.float)"
   ]
  },
  {
   "cell_type": "code",
   "execution_count": null,
   "metadata": {
    "collapsed": false
   },
   "outputs": [],
   "source": [
    "plotFI(forest,modeling_cols)"
   ]
  },
  {
   "cell_type": "code",
   "execution_count": null,
   "metadata": {
    "collapsed": false
   },
   "outputs": [],
   "source": [
    "tree.export_graphviz(forest[0],out_file='tree.dot')"
   ]
  },
  {
   "cell_type": "code",
   "execution_count": null,
   "metadata": {
    "collapsed": false
   },
   "outputs": [],
   "source": [
    "import pydot as pyd\n",
    "#import fig_code"
   ]
  },
  {
   "cell_type": "code",
   "execution_count": null,
   "metadata": {
    "collapsed": true
   },
   "outputs": [],
   "source": [
    "f0_graph = pyd.graph_from_dot_file('tree.dot')"
   ]
  },
  {
   "cell_type": "code",
   "execution_count": null,
   "metadata": {
    "collapsed": false
   },
   "outputs": [],
   "source": [
    "f0_graph"
   ]
  },
  {
   "cell_type": "code",
   "execution_count": null,
   "metadata": {
    "collapsed": true
   },
   "outputs": [],
   "source": [
    "from sklearn import linear_model"
   ]
  },
  {
   "cell_type": "code",
   "execution_count": null,
   "metadata": {
    "collapsed": true
   },
   "outputs": [],
   "source": [
    "# return a linear regression fit of some data\n",
    "def linear_reg_fit(x,y,n_samples = 50, verbose=False):\n",
    "    import statsmodels.api as sm\n",
    "    # create the x_prime variable\n",
    "    x_prime = np.linspace(x.min(),x.max(),n_samples)[:,np.newaxis]\n",
    "    # add a constant to the predictor\n",
    "    x = sm.add_constant(x)# Adds a constant term to the predictor\n",
    "    # create linear regression object\n",
    "    ols = sm.OLS(y, x)\n",
    "    est = ols.fit()\n",
    "    if verbose:\n",
    "        print est.summary()\n",
    "    x_prime = sm.add_constant(x_prime)  # add constant as we did before\n",
    "\n",
    "    # Now we calculate the predicted values\n",
    "    y_hat = est.predict(x_prime)\n",
    "   \n",
    "    #print \"\\n ====================== \\n\"\n",
    "    coef = est.params[1]\n",
    "    rsquared = est.rsquared\n",
    "    return x_prime[:,1],y_hat, coef,rsquared"
   ]
  },
  {
   "cell_type": "code",
   "execution_count": null,
   "metadata": {
    "collapsed": true
   },
   "outputs": [],
   "source": [
    "ols=linear_model.LinearRegression()\n"
   ]
  },
  {
   "cell_type": "code",
   "execution_count": null,
   "metadata": {
    "collapsed": false
   },
   "outputs": [],
   "source": [
    "x_p,y_p = linear_reg_fit(emB_eval.Tenure_years.values, pred_tenure_eval)#,pred_tenure_eval)\n"
   ]
  },
  {
   "cell_type": "code",
   "execution_count": null,
   "metadata": {
    "collapsed": false
   },
   "outputs": [],
   "source": [
    "x_p"
   ]
  },
  {
   "cell_type": "markdown",
   "metadata": {},
   "source": [
    "## Create survival median dictionary and apply to desired columns"
   ]
  },
  {
   "cell_type": "code",
   "execution_count": null,
   "metadata": {
    "collapsed": true
   },
   "outputs": [],
   "source": []
  },
  {
   "cell_type": "code",
   "execution_count": null,
   "metadata": {
    "collapsed": true
   },
   "outputs": [],
   "source": []
  },
  {
   "cell_type": "code",
   "execution_count": null,
   "metadata": {
    "collapsed": true
   },
   "outputs": [],
   "source": []
  },
  {
   "cell_type": "code",
   "execution_count": null,
   "metadata": {
    "collapsed": false
   },
   "outputs": [],
   "source": [
    "# now assign these values to the arrays\n",
    "emB['med_surv'] = emB['JOBCODE'].apply(lambda x: med_survival[x] )\n",
    "emB_eval['med_surv'] = emB_eval['JOBCODE'].apply(lambda x: med_survival[x] )"
   ]
  },
  {
   "cell_type": "code",
   "execution_count": null,
   "metadata": {
    "collapsed": true
   },
   "outputs": [],
   "source": [
    "modeling_cols"
   ]
  },
  {
   "cell_type": "code",
   "execution_count": null,
   "metadata": {
    "collapsed": false
   },
   "outputs": [],
   "source": [
    "print len(modeling_cols)\n",
    "sm_mod_cols = [a for a in modeling_cols]\n",
    "job_function_cols = [b for b in modeling_cols if b.startswith('JOB_FUNCTION')]\n",
    "job_function_cols\n",
    "#for a in ['JOBCODE','grade_code','loc_descr','job_fcode','']\n",
    "sm_mod_cols.remove('JOBCODE')\n",
    "sm_mod_cols+=['med_surv']\n",
    "print len(sm_mod_cols), len(modeling_cols)"
   ]
  },
  {
   "cell_type": "code",
   "execution_count": null,
   "metadata": {
    "collapsed": false
   },
   "outputs": [],
   "source": [
    "Xp = emB[sm_mod_cols].as_matrix().astype(np.float)\n",
    "print np.shape(Xp)\n",
    "#y_tenure = emB.Tenure_years.as_matrix().astype(np.float)\n",
    "Xeval_p = emB_eval[sm_mod_cols].as_matrix().astype(np.float)\n"
   ]
  },
  {
   "cell_type": "code",
   "execution_count": null,
   "metadata": {
    "collapsed": false
   },
   "outputs": [],
   "source": [
    "%%time \n",
    "RFRforest2 = ensemble.RandomForestRegressor(n_jobs=50,n_estimators=500,max_features=None)\n",
    "RFRforest2.fit(Xp,y_tenure)\n",
    "#importances= forest.feature_importances_\n",
    "## apply to the eval subset from emB\n",
    "pred_tenure_eval_2 = RFRforest2.predict(Xeval_p)\n",
    "np.shape(pred_tenure_eval_2)#, np.shape(y_tenure_class.ix[eval_index])\n"
   ]
  },
  {
   "cell_type": "code",
   "execution_count": null,
   "metadata": {
    "collapsed": false
   },
   "outputs": [],
   "source": [
    "graph_feature_importances(RFRforest2,sm_mod_cols)"
   ]
  },
  {
   "cell_type": "code",
   "execution_count": null,
   "metadata": {
    "collapsed": false
   },
   "outputs": [],
   "source": [
    "#plt.scatter(y_tenure_class.ix[eval_index],pred_tenure_eval,color='chartreuse',alpha=0.3)\n",
    "sns.regplot(emB_eval.Tenure_years, pred_tenure_eval_2,color='darkorchid')\n",
    "#plt.scatter(emB_eval.Tenure_years,pred_tenure_eval,color='darkslategray',alpha=0.3)\n",
    "plt.xlabel('True Tenure Length')\n",
    "plt.ylabel('Predicted Tenure Length')"
   ]
  },
  {
   "cell_type": "code",
   "execution_count": null,
   "metadata": {
    "collapsed": false
   },
   "outputs": [],
   "source": [
    "#plt.scatter(y_tenure_class.ix[eval_index],pred_tenure_eval,color='chartreuse',alpha=0.3)\n",
    "plt.scatter(emB_eval.Tenure_years,pred_tenure_eval_2,color='darkorchid',alpha=0.3)\n",
    "plt.xlabel('True Tenure Length')\n",
    "plt.ylabel('Predicted Tenure Length')\n",
    "plt.xlim([0,10])\n",
    "plt.ylim([0,10])"
   ]
  },
  {
   "cell_type": "markdown",
   "metadata": {},
   "source": [
    "## back to classifier"
   ]
  },
  {
   "cell_type": "code",
   "execution_count": null,
   "metadata": {
    "collapsed": false
   },
   "outputs": [],
   "source": [
    "%%time \n",
    "forest2 = ensemble.RandomForestClassifier(n_jobs=50,n_estimators=500,max_features=None)\n",
    "forest2.fit(Xp,y_tenure_class.ix[train_index])\n",
    "y_pred_tenure_class_2 = forest2.predict(Xeval_p)\n",
    "rfc_tenureclass_conf_matrix2 = metrics.confusion_matrix(y_tenure_class.ix[eval_index],y_pred_tenure_class_2)\n",
    "sns.heatmap(rfc_tenureclass_conf_matrix2, annot=True,  fmt='',cmap='Greens')#\n",
    "plt.title('Random Forest Classifier Confusion Matrix')"
   ]
  },
  {
   "cell_type": "code",
   "execution_count": null,
   "metadata": {
    "collapsed": false
   },
   "outputs": [],
   "source": [
    "#rfc_tenureclass_conf_matrix = metrics.confusion_matrix(y_tenure_class.ix[eval_index],y_pred_tenure_class)\n",
    "sns.heatmap(rfc_tenureclass_conf_matrix, annot=True,  fmt='',cmap='Blues')#\n",
    "plt.title('Random Forest Classifier Confusion Matrix (before)')"
   ]
  },
  {
   "cell_type": "code",
   "execution_count": null,
   "metadata": {
    "collapsed": false
   },
   "outputs": [],
   "source": [
    "cm_normalized = rfc_tenureclass_conf_matrix.astype('float') / rfc_tenureclass_conf_matrix.sum(axis=1)[:, np.newaxis]\n",
    "print('Normalized confusion matrix')\n",
    "#print(cm_normalized)\n",
    "plt.figure()\n",
    "plt.subplot(121)\n",
    "sns.heatmap(cm_normalized)#, title='Normalized confusion matrix')\n",
    "plt.subplot(122)\n",
    "cm_normalized2 = rfc_tenureclass_conf_matrix2.astype('float') / rfc_tenureclass_conf_matrix2.sum(axis=1)[:, np.newaxis]\n",
    "sns.heatmap(cm_normalized2)"
   ]
  },
  {
   "cell_type": "code",
   "execution_count": null,
   "metadata": {
    "collapsed": false
   },
   "outputs": [],
   "source": [
    "sns.heatmap(cm_normalized2-cm_normalized)"
   ]
  },
  {
   "cell_type": "markdown",
   "metadata": {},
   "source": [
    "## Aside about JOBCODE, job_fcode (JOB_FAMILY), & grade_code (GRADE)\n",
    "* spoke with HR team on June 11, 2015 --> consider eliminating some subset of grades that are _never_ going to be requested for projections.\n",
    "* they will provide this information\n",
    "* Look into calculating median survival for all 3 classes --> they are slightly different from one another."
   ]
  },
  {
   "cell_type": "code",
   "execution_count": null,
   "metadata": {
    "collapsed": false
   },
   "outputs": [],
   "source": [
    "print len(empl.JOBCODE.unique()), len(empl.job_fcode.unique()), len(empl.grade_code.unique())\n",
    "print len(empl[empl.status==0].JOBCODE.unique()), len(empl[empl.status==0].job_fcode.unique()), len(empl[empl.status==0].grade_code.unique())\n",
    "\n",
    "np.log(empl[empl.status==0].grade_code.value_counts()).hist(bins=30)"
   ]
  },
  {
   "cell_type": "code",
   "execution_count": null,
   "metadata": {
    "collapsed": false
   },
   "outputs": [],
   "source": [
    "#sum(empl[empl.status==0].JOBCODE.value_counts() [empl[empl.status==0].JOBCODE.value_counts() == 1])\n",
    "np.log(empl[empl_dates.term_tstmp>=pd.to_datetime('2010-01-01')].grade_code.value_counts()).hist(bins=30)"
   ]
  },
  {
   "cell_type": "markdown",
   "metadata": {
    "collapsed": true
   },
   "source": [
    "# Calculate Age at hire"
   ]
  },
  {
   "cell_type": "code",
   "execution_count": null,
   "metadata": {
    "collapsed": false
   },
   "outputs": [],
   "source": [
    "empl_dates.head()"
   ]
  },
  {
   "cell_type": "code",
   "execution_count": null,
   "metadata": {
    "collapsed": false
   },
   "outputs": [],
   "source": [
    "## now calculate age at hire\n",
    "hire_age_tdelta = empl_dates['hire_tstmp']-empl_dates['birth_tstmp']#)/np.timedelta64(1,'D')\n",
    "# convert to days, months or years\n",
    "empl_dates['hire_age'] = hire_age_tdelta/np.timedelta64(1,'Y')\n",
    "\n",
    "#empl_dates.drop('hire_age_tdelta',axis=1,inplace=True)\n",
    "empl_dates.head()"
   ]
  },
  {
   "cell_type": "code",
   "execution_count": null,
   "metadata": {
    "collapsed": false
   },
   "outputs": [],
   "source": [
    "### push to emSets[1]\n",
    "emSets[1]['hire_age']=empl_dates.ix[emSets[1].index]['hire_age']\n",
    "emSets[1][['Age_years','Tenure_years','hire_age']].head()"
   ]
  },
  {
   "cell_type": "markdown",
   "metadata": {},
   "source": [
    "# Build the temporal kfold sets\n",
    "Begin with only subset of employees that retired/terminated after 2002-01-01\n",
    "## Pull out an evaluation set\n",
    "* use test_train_split\n",
    "### Requirements\n",
    "* initial date\n",
    "* final date\n",
    "* time_delta\n",
    "* employee DataFrame"
   ]
  },
  {
   "cell_type": "code",
   "execution_count": null,
   "metadata": {
    "collapsed": false
   },
   "outputs": [],
   "source": [
    "em2.terminated.value_counts()/float(len(em2))"
   ]
  },
  {
   "cell_type": "code",
   "execution_count": null,
   "metadata": {
    "collapsed": false
   },
   "outputs": [],
   "source": [
    "em2_eval.terminated.value_counts()/float(len(em2_eval))"
   ]
  },
  {
   "cell_type": "markdown",
   "metadata": {},
   "source": [
    "## Create k-folds based upon time"
   ]
  },
  {
   "cell_type": "code",
   "execution_count": null,
   "metadata": {
    "collapsed": false
   },
   "outputs": [],
   "source": [
    "full_date_range = [str(a)+'-01-01' for a in np.arange(2002,2016)]\n",
    "print len(full_date_range)"
   ]
  },
  {
   "cell_type": "code",
   "execution_count": null,
   "metadata": {
    "collapsed": false
   },
   "outputs": [],
   "source": [
    "min_date = pd.to_datetime(full_date_range[0])\n",
    "max_date = pd.to_datetime(full_date_range[-1])\n",
    "print type(max_date - min_date),np.int(np.round((max_date-min_date).days/365.24,0))\n",
    "for a in xrange(0,3):\n",
    "    print a, full_date_range[a::3]"
   ]
  },
  {
   "cell_type": "code",
   "execution_count": null,
   "metadata": {
    "collapsed": true
   },
   "outputs": [],
   "source": [
    "## create procedure for time selections.\n",
    "def split_on_time(dates_df, split_tstmp):\n",
    "    #split_tstmp = pd.to_datetime(split_date_str)\n",
    "    #print split_tstmp\n",
    "    \n",
    "    before_idx = dates_df[(dates_df.hire_tstmp < split_tstmp)].index\n",
    "    after_idx = list(set(dates_df.index) -set(before_idx))\n",
    "    print len(after_idx), len(dates_df)\n",
    "    print \"Splitting on {0} amounts to a hold-out fraction of {1}\".format(split_tstmp,len(after_idx)/float(len(dates_df)))\n",
    "    return before_idx, after_idx\n",
    "\n",
    "def temporal_kfold(dates_df,t1,t2):\n",
    "    before_idx = dates_df[((dates_df.term_tstmp>=t1))].index\n",
    "    kfold_idx = dates_df[((dates_df.term_tstmp>=t1) & (dates_df.hire_tstmp<t2))].index\n",
    "    after_idx = list(set(dates_df.index)-set(before_idx)-set(kfold_idx))\n",
    "    print len(before_idx),len(kfold_idx),len(after_idx)"
   ]
  },
  {
   "cell_type": "code",
   "execution_count": null,
   "metadata": {
    "collapsed": false
   },
   "outputs": [],
   "source": [
    "def create_temporal_kfolds(dates_df,date_range,time_delta):\n",
    "    min_date = pd.to_datetime(date_range[0])\n",
    "    max_date = pd.to_datetime(date_range[-1])\n",
    "    my_index = dates_df[(dates_df.term_tstmp>=min_date)].index\n",
    "    # calculate number of kfolds\n",
    "    date_span_years = np.int(np.round((max_date-min_date).days/365.24,0))\n",
    "    nfolds = date_span_years - time_delta\n",
    "    print date_span_years, time_delta, nfolds, len(my_index)\n",
    "    all_pairs = list(itertools.combinations(date_range,2))\n",
    "    # now filter if difference in time  == time_delta\n",
    "    filtered_pairs = []\n",
    "    for i0,i1 in all_pairs:\n",
    "        if int(i1[:4])-int(i0[:4]) == time_delta:\n",
    "            filtered_pairs.append([i0,i1])\n",
    "            #print i0,i1\n",
    "    print len(filtered_pairs)\n",
    "    # now process each of these filtered pairs\n",
    "    kf = []\n",
    "    for j0,j1 in filtered_pairs: # omit the last one because it has no\n",
    "        start_date = pd.to_datetime(j0)\n",
    "        end_date = pd.to_datetime(j1)\n",
    "        #print j0,j1#,len(k)\n",
    "        \n",
    "        \n",
    "        kfold_idx = dates_df[(dates_df.term_tstmp >= start_date) & (dates_df.hire_tstmp<start_date)].index\n",
    "        after_idx = dates_df[(dates_df.hire_tstmp>=end_date)].index\n",
    "        before_idx = list(set(my_index)-set(kfold_idx)-set(after_idx))\n",
    "        #temporal_kfold(dates_df[dates_df.term_tstmp>=min_date],start_date,end_date)\n",
    "        #print \"\\t\",len(kfold_idx), len(after_idx),len(before_idx)\n",
    "        \n",
    "        # combined out of fold\n",
    "        not_kfold_idx = list(set(after_idx).union(set(before_idx)))\n",
    "        \n",
    "        print j0,j1,len(kfold_idx),len(not_kfold_idx)\n",
    "        kf.append([kfold_idx,not_kfold_idx])\n",
    "    \n",
    "    return kf,filtered_pairs\n",
    "    "
   ]
  },
  {
   "cell_type": "code",
   "execution_count": null,
   "metadata": {
    "collapsed": false
   },
   "outputs": [],
   "source": [
    "len(em2),len(em2_eval),len(emSets[1])"
   ]
  },
  {
   "cell_type": "code",
   "execution_count": null,
   "metadata": {
    "collapsed": false
   },
   "outputs": [],
   "source": [
    "my_folds,my_times = create_temporal_kfolds(empl_dates.ix[em2.index],full_date_range,5)"
   ]
  },
  {
   "cell_type": "code",
   "execution_count": null,
   "metadata": {
    "collapsed": false
   },
   "outputs": [],
   "source": [
    "len(my_folds)"
   ]
  },
  {
   "cell_type": "code",
   "execution_count": null,
   "metadata": {
    "collapsed": false
   },
   "outputs": [],
   "source": [
    "print my_times[0]\n",
    "[len(my_folds[0][i]) for i in xrange(0,2)]"
   ]
  },
  {
   "cell_type": "code",
   "execution_count": null,
   "metadata": {
    "collapsed": true
   },
   "outputs": [],
   "source": [
    "def reset_years(paired_times,indices,dates_df,df,cols_to_alter = ['Age_years','Tenure_years']):\n",
    "    # calc the Age at beginnning of time period\n",
    "    ## now calculate age at hire\n",
    "    reset_age_tdelta = pd.to_datetime(paired_times[0])-dates_df['birth_tstmp']#)/np.timedelta64(1,'D')\n",
    "    reset_tenure_tdelta = pd.to_datetime(paired_times[0])-dates_df['hire_tstmp']#)/np.timedelta64(1,'D')\n",
    "    # convert to days, months or years\n",
    "    reset_age = reset_age_tdelta/np.timedelta64(1,'Y')\n",
    "    reset_tenure = reset_tenure_tdelta/np.timedelta64(1,'Y')\n",
    "    # look at terminated or not\n",
    "    #empl_df['terminated']= 0\n",
    "    \n",
    "    \n",
    "#my_rows = empl_df[(empl_df.status==1) & (empl_df.retired==0)].index\n",
    "#print \"Out of {0} rows, {1} are separated and not retired.\".format(len(empl_df),len(my_rows))\n",
    "##sum(empl_df['terminated']))#, len(my_rows)\n",
    "#empl_df.loc[my_rows,'terminated']=1\n",
    "#print sum(empl_df.terminated)\n",
    "#    if \n",
    "    return reset_age,reset_tenure\n",
    "    "
   ]
  },
  {
   "cell_type": "code",
   "execution_count": null,
   "metadata": {
    "collapsed": false
   },
   "outputs": [],
   "source": [
    "em2.ix[my_folds[0][0]].Age_years.hist(bins=60)"
   ]
  },
  {
   "cell_type": "code",
   "execution_count": null,
   "metadata": {
    "collapsed": false
   },
   "outputs": [],
   "source": [
    "ra.ix[my_folds[0][0]].hist(bins=60)"
   ]
  },
  {
   "cell_type": "code",
   "execution_count": null,
   "metadata": {
    "collapsed": false
   },
   "outputs": [],
   "source": [
    "ra,rt = reset_years(my_times[0],my_folds[0],empl_dates.ix[em2.index],em2)"
   ]
  },
  {
   "cell_type": "code",
   "execution_count": null,
   "metadata": {
    "collapsed": false
   },
   "outputs": [],
   "source": [
    "rt.ix[my_folds[0][0]].hist(bins=30)\n",
    "em2.ix[my_folds[0][0]].Tenure_years.hist(bins=30,alpha=.3)"
   ]
  },
  {
   "cell_type": "code",
   "execution_count": null,
   "metadata": {
    "collapsed": false
   },
   "outputs": [],
   "source": [
    "## need to reset terminated based upon that time frame\n",
    "def check_status(t,ck_time):\n",
    "    print t, ck_time\n",
    "    x=0\n",
    "    if t <= pd.to_datetime(ck_time):\n",
    "        x=1\n",
    "    return x\n",
    "\n",
    "#empl_dates.ix[my_folds[0][0][:3]][['term_tstmp']].apply(lambda x: check_status(x,my_times[0[1]]))"
   ]
  },
  {
   "cell_type": "code",
   "execution_count": null,
   "metadata": {
    "collapsed": false
   },
   "outputs": [],
   "source": [
    "check_status(empl_dates.ix[my_folds[0][0][0]]['term_tstmp'],'2006-01-01')"
   ]
  },
  {
   "cell_type": "code",
   "execution_count": null,
   "metadata": {
    "collapsed": false
   },
   "outputs": [],
   "source": [
    "print my_times[0]\n",
    "empl_dates.ix[my_folds[0][0][:5]]['term_tstmp']"
   ]
  },
  {
   "cell_type": "code",
   "execution_count": null,
   "metadata": {
    "collapsed": false
   },
   "outputs": [],
   "source": [
    "em2.ix[my_folds[0][0]].terminated.value_counts()"
   ]
  },
  {
   "cell_type": "code",
   "execution_count": null,
   "metadata": {
    "collapsed": false
   },
   "outputs": [],
   "source": [
    "# if term_tstmp > end_tstmp then NOT terminated, otherwise terminated --. for those in kfold training set.\n",
    "new_term = (empl_dates.ix[my_folds[0][0]]['term_tstmp']-pd.to_datetime(my_times[0][1]))<0\n",
    "new_term.astype(np.int)\n",
    "new_term.value_counts()"
   ]
  },
  {
   "cell_type": "markdown",
   "metadata": {},
   "source": [
    "## work this into a classification problem\n",
    "* my y is the new_term\n",
    "* my X is [reset_Age,reset_tenure,SEX,surv_med, etc.]"
   ]
  },
  {
   "cell_type": "code",
   "execution_count": null,
   "metadata": {
    "collapsed": false
   },
   "outputs": [],
   "source": [
    "len(new_term),len(my_folds[0][0])"
   ]
  },
  {
   "cell_type": "code",
   "execution_count": null,
   "metadata": {
    "collapsed": false
   },
   "outputs": [],
   "source": [
    "min_list_cols = ['SEX','SAL1','MERIT1','PERF1','unempl_rate','HAVE_INS']\n",
    "fold_temp_df = em2.ix[my_folds[0][0]][min_list_cols].copy()\n",
    "fold_temp_df['age']=ra.ix[my_folds[0][0]]\n",
    "fold_temp_df['tenure']=rt.ix[my_folds[0][0]]\n",
    "X_set0 = fold_temp_df.as_matrix().astype(np.float)"
   ]
  },
  {
   "cell_type": "code",
   "execution_count": null,
   "metadata": {
    "collapsed": false
   },
   "outputs": [],
   "source": [
    "y_set0 = new_term.values.astype(np.int)"
   ]
  },
  {
   "cell_type": "code",
   "execution_count": null,
   "metadata": {
    "collapsed": false
   },
   "outputs": [],
   "source": [
    "forest_0 = ensemble.RandomForestClassifier(n_estimators=500,max_features=None,n_jobs=50)\n",
    "forest_0.fit(X_set0,y_set0)"
   ]
  },
  {
   "cell_type": "code",
   "execution_count": null,
   "metadata": {
    "collapsed": false
   },
   "outputs": [],
   "source": [
    "perfect_collinearity_test(fold_temp_df)"
   ]
  },
  {
   "cell_type": "code",
   "execution_count": null,
   "metadata": {
    "collapsed": false
   },
   "outputs": [],
   "source": [
    "plotFI(forest_0,fold_temp_df.columns)"
   ]
  },
  {
   "cell_type": "code",
   "execution_count": null,
   "metadata": {
    "collapsed": true
   },
   "outputs": [],
   "source": [
    "## try applying this to the most recent data set? ir at least  my_times[5]\n",
    "ra5,rt5 = reset_years(my_times[5],my_folds[5],empl_dates.ix[em2.index],em2)"
   ]
  },
  {
   "cell_type": "code",
   "execution_count": null,
   "metadata": {
    "collapsed": false
   },
   "outputs": [],
   "source": [
    "my_times[5]"
   ]
  },
  {
   "cell_type": "code",
   "execution_count": null,
   "metadata": {
    "collapsed": true
   },
   "outputs": [],
   "source": [
    "min_list_cols = ['SEX','SAL1','MERIT1','PERF1','unempl_rate','HAVE_INS']\n",
    "fold_test5_df = em2.ix[my_folds[5][0]][min_list_cols].copy()\n",
    "fold_test5_df['age']=ra5.ix[my_folds[5][0]]\n",
    "fold_test5_df['tenure']=rt5.ix[my_folds[5][0]]\n",
    "X_test5 = fold_test5_df.as_matrix().astype(np.float)\n",
    "y_test5 = ((empl_dates.ix[my_folds[5][0]]['term_tstmp']-pd.to_datetime(my_times[5][1]))<0).astype(np.int)\n"
   ]
  },
  {
   "cell_type": "code",
   "execution_count": null,
   "metadata": {
    "collapsed": false
   },
   "outputs": [],
   "source": [
    "y_pred_5 = forest_0.predict(X_test5)\n",
    "sum(y_pred_5), sum(y_test5)"
   ]
  },
  {
   "cell_type": "code",
   "execution_count": null,
   "metadata": {
    "collapsed": true
   },
   "outputs": [],
   "source": [
    "def plot_conf_matrix(y_true,y_pred,normed=True,**kwargs):\n",
    "    my_c = metrics.confusion_matrix(y_true,y_pred)\n",
    "    \n",
    "    print metrics.matthews_corrcoef(y_true,y_pred)\n",
    "    if normed:\n",
    "        cm_normalized = my_c.astype('float') / my_c.sum(axis=1)[:, np.newaxis]\n",
    "        my_c = cm_normalized\n",
    "        plt.title('Normalized RF Classifier Confusion Matrix')\n",
    "    else:\n",
    "        plt.title('Random Forest Classifier Confusion Matrix')\n",
    "        \n",
    "    sns.heatmap(my_c, annot=True,  fmt='',cmap='Blues')\n",
    "    plt.ylabel('True')\n",
    "    #plt.yticks\n",
    "    plt.xlabel('Assigned')\n",
    "    plt.show()\n",
    "    \n",
    "    return"
   ]
  },
  {
   "cell_type": "code",
   "execution_count": null,
   "metadata": {
    "collapsed": false
   },
   "outputs": [],
   "source": [
    "em2.ix[my_folds[5][0]].terminated.value_counts()"
   ]
  },
  {
   "cell_type": "code",
   "execution_count": null,
   "metadata": {
    "collapsed": false
   },
   "outputs": [],
   "source": [
    "my_times[0]"
   ]
  },
  {
   "cell_type": "code",
   "execution_count": null,
   "metadata": {
    "collapsed": false
   },
   "outputs": [],
   "source": [
    "plot_conf_matrix(y_test5,y_pred_5)"
   ]
  },
  {
   "cell_type": "code",
   "execution_count": null,
   "metadata": {
    "collapsed": false
   },
   "outputs": [],
   "source": [
    "# repeat for 2nd fold\n",
    "ra1,rt1 = reset_years(my_times[1],my_folds[1],empl_dates.ix[em2.index],em2)\n",
    "fold_temp_df1 = em2.ix[my_folds[1][0]][min_list_cols].copy()\n",
    "fold_temp_df1['age']=ra1.ix[my_folds[1][0]]\n",
    "fold_temp_df1['tenure']=rt1.ix[my_folds[1][0]]\n",
    "X_set1 = fold_temp_df1.as_matrix().astype(np.float)\n",
    "y_set1 =((empl_dates.ix[my_folds[1][0]]['term_tstmp']-pd.to_datetime(my_times[1][1]))<0).astype(np.int)"
   ]
  },
  {
   "cell_type": "code",
   "execution_count": null,
   "metadata": {
    "collapsed": false
   },
   "outputs": [],
   "source": [
    "forest_1 = ensemble.RandomForestClassifier(n_estimators=500,max_features=None,n_jobs=50)\n",
    "forest_1.fit(X_set1,y_set1)"
   ]
  },
  {
   "cell_type": "code",
   "execution_count": null,
   "metadata": {
    "collapsed": false
   },
   "outputs": [],
   "source": [
    "plotFI(forest_1,fold_temp_df1.columns)"
   ]
  },
  {
   "cell_type": "code",
   "execution_count": null,
   "metadata": {
    "collapsed": false
   },
   "outputs": [],
   "source": [
    "y1_pred_5 = forest_1.predict(X_test5)\n",
    "plot_conf_matrix(y_test5,y1_pred_5,normed=False)"
   ]
  },
  {
   "cell_type": "code",
   "execution_count": null,
   "metadata": {
    "collapsed": false
   },
   "outputs": [],
   "source": [
    "plt.plot(forest_1.predict_proba(X_test5)[:,1],'*',alpha=0.3)"
   ]
  },
  {
   "cell_type": "markdown",
   "metadata": {},
   "source": [
    "### which of the above terminate within 5 years of the starting date?\n"
   ]
  },
  {
   "cell_type": "code",
   "execution_count": null,
   "metadata": {
    "collapsed": false
   },
   "outputs": [],
   "source": [
    "print my_times[5], sum(empl_dates.ix[my_folds[5][0]]['term_tstmp'] <= my_times[5][1])\n",
    "\n",
    "#em2.ix[my_folds[5][0]][min_list_cols].copy()"
   ]
  },
  {
   "cell_type": "code",
   "execution_count": null,
   "metadata": {
    "collapsed": false
   },
   "outputs": [],
   "source": [
    "empl_dates.ix[my_folds[5][0]]['hire_tstmp'].max() # great required to have started prior to the date of this t_kfold"
   ]
  },
  {
   "cell_type": "code",
   "execution_count": null,
   "metadata": {
    "collapsed": false
   },
   "outputs": [],
   "source": [
    "fold_5_actual_term_idx = empl_dates.ix[my_folds[5][0]][empl_dates.ix[my_folds[5][0]]['term_tstmp'] <= my_times[5][1]].index\n",
    "print len(fold_5_actual_term_idx)\n",
    "em2.ix[fold_5_actual_term_idx].terminated.sum()"
   ]
  },
  {
   "cell_type": "markdown",
   "metadata": {},
   "source": [
    "# the above is for 5-year projections. Can I do better on 2 year?"
   ]
  },
  {
   "cell_type": "code",
   "execution_count": null,
   "metadata": {
    "collapsed": false
   },
   "outputs": [],
   "source": [
    "two_yr_folds,two_yr_times = create_temporal_kfolds(empl_dates.ix[em2.index],full_date_range,2)"
   ]
  },
  {
   "cell_type": "markdown",
   "metadata": {},
   "source": [
    "## Proposed \"pipeline\"\n",
    "1. create the temporal kfolds\n",
    "2. for each t_kfold adjust the desired columns\n",
    "    a. this means defining Age & Tenure with respect to the start_date\n",
    "    b. if the person terminated after the end_date of that kfold, reset terminated as 0.\n",
    "    c. Other features to change?\n",
    "3. create a model for each t_kfold\n",
    "4. apply that model for each other t_kfold (Cross_validation)\n",
    "5. Apply each model/united model to the evaluation set\n",
    "    a. Figure out how to unite these models\n",
    "    b. adjust evaluation set ?"
   ]
  },
  {
   "cell_type": "code",
   "execution_count": 332,
   "metadata": {
    "collapsed": false
   },
   "outputs": [
    {
     "data": {
      "text/plain": [
       "13745"
      ]
     },
     "execution_count": 332,
     "metadata": {},
     "output_type": "execute_result"
    }
   ],
   "source": [
    "len(em2002.SKEY.unique())"
   ]
  },
  {
   "cell_type": "code",
   "execution_count": 342,
   "metadata": {
    "collapsed": false
   },
   "outputs": [],
   "source": [
    "curr_active = em2002[em2002.status==0].copy()\n",
    "#employee1 = em2002[(em2002.SKEY.isnull() and em2002.status ==0)].KEY\n",
    "#employee1"
   ]
  },
  {
   "cell_type": "code",
   "execution_count": 348,
   "metadata": {
    "collapsed": false
   },
   "outputs": [
    {
     "data": {
      "text/plain": [
       "count    69433.000000\n",
       "mean        35.958449\n",
       "std        509.003822\n",
       "min          1.000000\n",
       "25%          9.000000\n",
       "50%         12.000000\n",
       "75%         16.000000\n",
       "max      71331.000000\n",
       "Name: TOTAL_RPT_CNT, dtype: float64"
      ]
     },
     "execution_count": 348,
     "metadata": {},
     "output_type": "execute_result"
    }
   ],
   "source": [
    "ttrpt_cnt = curr_active.TOTAL_RPT_CNT.values\n",
    "curr_active.TOTAL_RPT_CNT.describe()"
   ]
  },
  {
   "cell_type": "code",
   "execution_count": 351,
   "metadata": {
    "collapsed": false
   },
   "outputs": [
    {
     "data": {
      "text/html": [
       "<div>\n",
       "<table border=\"1\" class=\"dataframe\">\n",
       "  <thead>\n",
       "    <tr style=\"text-align: right;\">\n",
       "      <th></th>\n",
       "      <th>KEY</th>\n",
       "      <th>SKEY</th>\n",
       "      <th>TOTAL_RPT_CNT</th>\n",
       "      <th>GRADE</th>\n",
       "      <th>COMPANY</th>\n",
       "    </tr>\n",
       "  </thead>\n",
       "  <tbody>\n",
       "    <tr>\n",
       "      <th>134137</th>\n",
       "      <td>871272992748429</td>\n",
       "      <td>5.95770631263e+14</td>\n",
       "      <td>42836</td>\n",
       "      <td>PA2</td>\n",
       "      <td>1</td>\n",
       "    </tr>\n",
       "    <tr>\n",
       "      <th>134138</th>\n",
       "      <td>400352331530467</td>\n",
       "      <td>4.51278113039e+14</td>\n",
       "      <td>64431</td>\n",
       "      <td>RA4</td>\n",
       "      <td>1</td>\n",
       "    </tr>\n",
       "    <tr>\n",
       "      <th>134139</th>\n",
       "      <td>581539008571552</td>\n",
       "      <td>9.68814828419e+14</td>\n",
       "      <td>71331</td>\n",
       "      <td>MG4</td>\n",
       "      <td>1</td>\n",
       "    </tr>\n",
       "    <tr>\n",
       "      <th>134142</th>\n",
       "      <td>192183143548753</td>\n",
       "      <td>3.75254141342e+14</td>\n",
       "      <td>71331</td>\n",
       "      <td>MG3</td>\n",
       "      <td>5</td>\n",
       "    </tr>\n",
       "  </tbody>\n",
       "</table>\n",
       "</div>"
      ],
      "text/plain": [
       "                    KEY               SKEY  TOTAL_RPT_CNT GRADE  COMPANY\n",
       "134137  871272992748429  5.95770631263e+14          42836   PA2        1\n",
       "134138  400352331530467  4.51278113039e+14          64431   RA4        1\n",
       "134139  581539008571552  9.68814828419e+14          71331   MG4        1\n",
       "134142  192183143548753  3.75254141342e+14          71331   MG3        5"
      ]
     },
     "execution_count": 351,
     "metadata": {},
     "output_type": "execute_result"
    }
   ],
   "source": [
    "#curr_active[curr_active.TOTAL_RPT_CNT>30000][['KEY','SKEY','TOTAL_RPT_CNT','GRADE','COMPANY']]"
   ]
  },
  {
   "cell_type": "code",
   "execution_count": null,
   "metadata": {
    "collapsed": true
   },
   "outputs": [],
   "source": []
  }
 ],
 "metadata": {
  "kernelspec": {
   "display_name": "Python 2",
   "language": "python",
   "name": "python2"
  },
  "language_info": {
   "codemirror_mode": {
    "name": "ipython",
    "version": 2
   },
   "file_extension": ".py",
   "mimetype": "text/x-python",
   "name": "python",
   "nbconvert_exporter": "python",
   "pygments_lexer": "ipython2",
   "version": "2.7.11"
  }
 },
 "nbformat": 4,
 "nbformat_minor": 0
}
