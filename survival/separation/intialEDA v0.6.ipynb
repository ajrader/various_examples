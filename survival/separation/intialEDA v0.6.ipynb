{
 "cells": [
  {
   "cell_type": "markdown",
   "metadata": {},
   "source": [
    "# Initial Exploratory Data Analysis for the HR Separation (hrsepara) project\n",
    "## Identify the correct working directory for source data\n",
    "* '/data/discovery/hrsepara/core/'\n",
    "## Identify the correct working directory for the analysis (both HDFS and LFS)\n",
    "* '/data/discovery/hrsepara/staging/eda' and  '/home/kesj/working/hrsepara/eda/'\n",
    "## begin to summarize data \n"
   ]
  },
  {
   "cell_type": "code",
   "execution_count": 1,
   "metadata": {
    "collapsed": true
   },
   "outputs": [],
   "source": [
    "coredir = '/data/discovery/hrsepara/core/'\n",
    "stgdir1 = '/data/discovery/hrsepara/staging/eda'\n",
    "stgdir1local = '/home/kesj/work/hrsepara/eda'\n"
   ]
  },
  {
   "cell_type": "code",
   "execution_count": 2,
   "metadata": {
    "collapsed": false
   },
   "outputs": [],
   "source": [
    "import os,subprocess\n",
    "import pandas as pd\n",
    "import numpy as np\n",
    "%matplotlib inline\n",
    "from datetime import datetime\n",
    "import matplotlib.pyplot as plt\n",
    "from sklearn import preprocessing\n",
    "from itertools import chain\n",
    "import random"
   ]
  },
  {
   "cell_type": "code",
   "execution_count": 3,
   "metadata": {
    "collapsed": false
   },
   "outputs": [],
   "source": [
    "plt.style.use('fivethirtyeight') # Good looking plots\n",
    "import seaborn as sns"
   ]
  },
  {
   "cell_type": "code",
   "execution_count": 4,
   "metadata": {
    "collapsed": true
   },
   "outputs": [],
   "source": [
    "label_encoder = preprocessing.LabelEncoder() #assigns unique integers to values base upon alphabetical order."
   ]
  },
  {
   "cell_type": "code",
   "execution_count": 5,
   "metadata": {
    "collapsed": false
   },
   "outputs": [
    {
     "data": {
      "text/plain": [
       "True"
      ]
     },
     "execution_count": 5,
     "metadata": {},
     "output_type": "execute_result"
    }
   ],
   "source": [
    "# check if the path exists\n",
    "os.path.exists(stgdir1local)"
   ]
  },
  {
   "cell_type": "code",
   "execution_count": 6,
   "metadata": {
    "collapsed": true
   },
   "outputs": [],
   "source": [
    "def hdfs_path_doesnt_exist(path):\n",
    "    return subprocess.call(['hdfs','dfs','-ls',path])\n",
    "    # returns 0 if doesnt_exist; 1 otherwise\n",
    "    "
   ]
  },
  {
   "cell_type": "code",
   "execution_count": 7,
   "metadata": {
    "collapsed": false
   },
   "outputs": [
    {
     "name": "stdout",
     "output_type": "stream",
     "text": [
      "mkdir: `/data/discovery/hrsepara/staging/eda': File exists\r\n"
     ]
    }
   ],
   "source": [
    "# make the remote directory\n",
    "if not hdfs_path_doesnt_exist(stgdir1):\n",
    "    !hdfs dfs -mkdir {stgdir1}"
   ]
  },
  {
   "cell_type": "code",
   "execution_count": 8,
   "metadata": {
    "collapsed": false
   },
   "outputs": [
    {
     "name": "stdout",
     "output_type": "stream",
     "text": [
      "/home/kesj/work/hrsepara/eda\n",
      "/home/kesj/work/hrsepara/eda\n"
     ]
    }
   ],
   "source": [
    "# check if the path exists\n",
    "if not os.path.exists(stgdir1local):\n",
    "    # make the local directory\n",
    "    !mkdir {stgdir1local}\n",
    "    #'/home/kesj/work/hrsepara/eda'\n",
    "\n",
    "\n",
    "%pwd\n",
    "%cd {stgdir1local}\n",
    "#define the currentworking directory:\n",
    "cwd = os.path.abspath(os.curdir)\n",
    "print cwd"
   ]
  },
  {
   "cell_type": "markdown",
   "metadata": {},
   "source": [
    "## Look at the files in {coredir}"
   ]
  },
  {
   "cell_type": "code",
   "execution_count": 9,
   "metadata": {
    "collapsed": false
   },
   "outputs": [
    {
     "name": "stdout",
     "output_type": "stream",
     "text": [
      "16\n"
     ]
    }
   ],
   "source": [
    "fnames = !hdfs dfs -ls {coredir}\n",
    "infilenames = [f.split()[-1] for f in fnames[1:]]\n",
    "print len(infilenames)"
   ]
  },
  {
   "cell_type": "code",
   "execution_count": 10,
   "metadata": {
    "collapsed": false
   },
   "outputs": [
    {
     "data": {
      "text/plain": [
       "['/data/discovery/hrsepara/core/EAS',\n",
       " '/data/discovery/hrsepara/core/EMPL',\n",
       " '/data/discovery/hrsepara/core/HISTCURR',\n",
       " '/data/discovery/hrsepara/core/HISTRET',\n",
       " '/data/discovery/hrsepara/core/HISTRETold',\n",
       " '/data/discovery/hrsepara/core/SBR',\n",
       " '/data/discovery/hrsepara/core/SR_BENEFIT.txt',\n",
       " '/data/discovery/hrsepara/core/SR_CKE.txt',\n",
       " '/data/discovery/hrsepara/core/SR_COMP.txt',\n",
       " '/data/discovery/hrsepara/core/SR_CPR.txt',\n",
       " '/data/discovery/hrsepara/core/SR_EAS.txt',\n",
       " '/data/discovery/hrsepara/core/SR_EDU.txt',\n",
       " '/data/discovery/hrsepara/core/SR_INS.txt',\n",
       " '/data/discovery/hrsepara/core/SR_LANG.txt',\n",
       " '/data/discovery/hrsepara/core/SR_LIC.txt',\n",
       " '/data/discovery/hrsepara/core/SR_RELO.txt']"
      ]
     },
     "execution_count": 10,
     "metadata": {},
     "output_type": "execute_result"
    }
   ],
   "source": [
    "infilenames"
   ]
  },
  {
   "cell_type": "markdown",
   "metadata": {},
   "source": [
    "# Now I need to get this data into a format so that I can read it from pandas"
   ]
  },
  {
   "cell_type": "code",
   "execution_count": null,
   "metadata": {
    "collapsed": true
   },
   "outputs": [],
   "source": [
    "## function to load into pandas from hdfs (by copying to local filespace)\n",
    "def pandas_read_hdfs(infile,sep = ';',dtype_dict = None):\n",
    "    # copy the infile to the cwd\n",
    "    !hdfs dfs -get {infile} .\n",
    "    # identify the local file name\n",
    "    inname = infile[infile.rfind('/')+1:]\n",
    "    # read into a data frame\n",
    "    if dtype_dict != None:\n",
    "        df = pd.read_csv(inname,sep=sep,dtype =dtype_dict)\n",
    "    else:\n",
    "        df = pd.read_csv(inname,sep=sep)\n",
    "    # clean up local filespace\n",
    "    !rm {inname}\n",
    "    return df"
   ]
  },
  {
   "cell_type": "markdown",
   "metadata": {},
   "source": [
    "## Load the base empl table"
   ]
  },
  {
   "cell_type": "code",
   "execution_count": null,
   "metadata": {
    "collapsed": false
   },
   "outputs": [],
   "source": [
    "empl_df = pandas_read_hdfs(infilenames[0],dtype_dict={'KEY':np.str})\n",
    "empl_df.shape"
   ]
  },
  {
   "cell_type": "markdown",
   "metadata": {},
   "source": [
    "## Define types for specific columns"
   ]
  },
  {
   "cell_type": "code",
   "execution_count": null,
   "metadata": {
    "collapsed": false
   },
   "outputs": [],
   "source": [
    "hist_record_dtype_dict = {'KEY':np.str,'LOCATION':np.str,'EEO1CODE':np.str,'SKEY':np.str,'JOBCODE':np.str,'EMPL_CLASS':np.str, \n",
    "                          'SHIFT':np.str,'COMPANY':np.str,'EXT_FUNC_ID_SFI':np.str,'FUNC_ID_SFI':np.str,\n",
    "                          'DIVISION_CODE_SFI':np.str,'JOB_FAMILY':np.str,'JOB_FUNCTION':np.str,'ACTRES1':np.str,\n",
    "                          'ACTRES2':np.str,'ACTRES3':np.str,'ACTRES4':np.str,'ACTRES5':np.str,'ACTRES6':np.str,\n",
    "                          'ACTRES7':np.str,'ACTRES8':np.str,'ACTRES9':np.str,'ACTRES10':np.str,'BOX1':np.str,\n",
    "                          'BOX2':np.str,'BOX3':np.str,'BOX4':np.str,'BOX5':np.str,'BOX6':np.str,'BOX7':np.str,\n",
    "                          'BOX8':np.str,'BOX9':np.str,'BOX10':np.str,'RATE1':np.str,'RATE2':np.str,'RATE3':np.str,\n",
    "                          'RATE4':np.str,'RATE5':np.str,'RATE6':np.str,'RATE7':np.str,'RATE8':np.str,'RATE9':np.str,\n",
    "                          'RATE10':np.str}\n",
    "#,'COUNT':np.float,'FUNC_CNT':np.float}\n",
    "#dictionary to load the histcurr and histret columns the same way"
   ]
  },
  {
   "cell_type": "markdown",
   "metadata": {},
   "source": [
    "## rename the last 2 columns of HISTCURR to match HISTRET"
   ]
  },
  {
   "cell_type": "code",
   "execution_count": null,
   "metadata": {
    "collapsed": false
   },
   "outputs": [],
   "source": [
    "histcurr_df = pandas_read_hdfs(infilenames[1],dtype_dict=hist_record_dtype_dict)\n",
    "print histcurr_df.shape#, histcurr_df.columns\n",
    "# rename the last two columns to match histret\n",
    "histcurr_df.rename(columns = {'COUNT':'FUNC_CNT','COUNT.1':'EXTFUNC_CNT'},inplace=True)"
   ]
  },
  {
   "cell_type": "markdown",
   "metadata": {},
   "source": [
    "### load the updated HISTRET file from HDFS"
   ]
  },
  {
   "cell_type": "code",
   "execution_count": null,
   "metadata": {
    "collapsed": false
   },
   "outputs": [],
   "source": [
    "histret_df = pandas_read_hdfs(infilenames[2],dtype_dict=hist_record_dtype_dict)\n",
    "histret_df.shape#,histret_df.columns"
   ]
  },
  {
   "cell_type": "code",
   "execution_count": null,
   "metadata": {
    "collapsed": false
   },
   "outputs": [],
   "source": [
    "histret_df['JOB_FUNCTION'].unique()"
   ]
  },
  {
   "cell_type": "code",
   "execution_count": null,
   "metadata": {
    "collapsed": false
   },
   "outputs": [],
   "source": [
    "histret_df.VOLINVOL.value_counts()"
   ]
  },
  {
   "cell_type": "markdown",
   "metadata": {},
   "source": [
    "#### add a column to histcurr_df corresponding to the new  VOLINVOL column:\n",
    "* value is 'NOT'"
   ]
  },
  {
   "cell_type": "code",
   "execution_count": null,
   "metadata": {
    "collapsed": true
   },
   "outputs": [],
   "source": [
    "histcurr_df['VOLINVOL'] = 'NOT'"
   ]
  },
  {
   "cell_type": "markdown",
   "metadata": {},
   "source": [
    "## Try to join EMPL, HISTCURR & HISTRET"
   ]
  },
  {
   "cell_type": "code",
   "execution_count": null,
   "metadata": {
    "collapsed": false
   },
   "outputs": [],
   "source": [
    "ncurr = len(histcurr_df)\n",
    "nret = len(histret_df)\n",
    "print \"number of current, separated, total, total_of_interest:\",ncurr,nret,len(empl_df),ncurr + nret"
   ]
  },
  {
   "cell_type": "code",
   "execution_count": null,
   "metadata": {
    "collapsed": false
   },
   "outputs": [],
   "source": [
    "len(empl_df) - ncurr - nret # these are the canadian and Agency employees"
   ]
  },
  {
   "cell_type": "markdown",
   "metadata": {},
   "source": [
    "### some helper functions"
   ]
  },
  {
   "cell_type": "code",
   "execution_count": null,
   "metadata": {
    "collapsed": true
   },
   "outputs": [],
   "source": [
    "# function to truncate POSTAL_ZIP to zip5\n",
    "def truncate_postal_zip(in_zip):\n",
    "    try:\n",
    "        out_zip = in_zip[:5]\n",
    "        #print out_zip\n",
    "    except:\n",
    "        #out_zip = str(in_zip)[:5]\n",
    "        out_zip = 'XXXXX'# np.nan\n",
    "    return out_zip"
   ]
  },
  {
   "cell_type": "code",
   "execution_count": null,
   "metadata": {
    "collapsed": false
   },
   "outputs": [],
   "source": [
    "def summarize_dataframe(df,show_example=False):\n",
    "    nrow = len(df)\n",
    "    for col in df.columns:\n",
    "        nmiss = nrow - df[col].value_counts().sum()\n",
    "        if show_example:\n",
    "            print col, df[col].dtype,nmiss, \"\\t\", len(df[col].unique()),\":\\t\", df[col].ix[8320]\n",
    "        else:\n",
    "            print col, df[col].dtype,nmiss, \"\\t\", len(df[col].unique())\n",
    "            \n",
    "def summarize_dataframe2(df,show_example=False):\n",
    "    nrow = len(df)\n",
    "    summary_df = pd.DataFrame(columns = ['Column','datatype','nmissing','arity','accepted values'])\n",
    "    len_df = len(summary_df)\n",
    "    for col in df.columns:\n",
    "        nmiss = nrow - df[col].value_counts().sum()\n",
    "        narity = len(df[col].unique())\n",
    "        if show_example:\n",
    "            print col, df[col].dtype,nmiss, \"\\t\", narity,\":\\t\", df[col].ix[8320]\n",
    "        else:\n",
    "            print col, df[col].dtype,nmiss, \"\\t\", narity\n",
    "        accept_val = None\n",
    "        if narity < 20:\n",
    "            accept_val = df[col].unique()\n",
    "        summary_df.loc[len_df] = [col,df[col].dtype,nmiss,narity,accept_val]\n",
    "        len_df+=1\n",
    "    # assing fraction of missing\n",
    "    summary_df['x_missing'] = summary_df['nmissing']/float(nrow)\n",
    "    \n",
    "    return summary_df"
   ]
  },
  {
   "cell_type": "markdown",
   "metadata": {},
   "source": [
    "### merge the files \n",
    "* cur_empl\n",
    "* ret_empl"
   ]
  },
  {
   "cell_type": "code",
   "execution_count": null,
   "metadata": {
    "collapsed": false
   },
   "outputs": [],
   "source": [
    "ret_empl = pd.merge(histret_df,empl_df,left_on='KEY',right_on='KEY',how='inner')\n",
    "cur_empl = pd.merge(histcurr_df,empl_df,left_on='KEY',right_on='KEY',how='inner')\n",
    "print len(ret_empl),len(cur_empl)"
   ]
  },
  {
   "cell_type": "markdown",
   "metadata": {},
   "source": [
    "## CLEAN UP THE DATA\n",
    "### 1. Remove the cases of ON(tario)\n",
    "### 2. Fill in missing termination, hire and Service dates\n",
    "### 3. Remove current Interns\n",
    "### 4. identify 'status' as current (0) or former employee (1).\n",
    "### 5. Remove negative tenure cases"
   ]
  },
  {
   "cell_type": "code",
   "execution_count": null,
   "metadata": {
    "collapsed": false
   },
   "outputs": [],
   "source": [
    "print sum(cur_empl.LOC_STATE=='ON'), sum(ret_empl.LOC_STATE == 'ON')\n",
    "# remove these\n",
    "ret_empl = ret_empl[ret_empl.LOC_STATE != 'ON'] # drop them"
   ]
  },
  {
   "cell_type": "markdown",
   "metadata": {},
   "source": [
    "## Check if there are missing termination dates from histret_df?\n"
   ]
  },
  {
   "cell_type": "code",
   "execution_count": null,
   "metadata": {
    "collapsed": false
   },
   "outputs": [],
   "source": [
    "sum(ret_empl.TERMINATION_DT.isnull())\n",
    "#histret_df[histret_df.TERMINATION_DT.isnull()]"
   ]
  },
  {
   "cell_type": "markdown",
   "metadata": {},
   "source": [
    "### convert the date columns\n",
    "* import datetime library\n",
    "* identify the correct columns\n",
    "* replace nan TERMINATION DATE with Jan, 1, 2015 for cur_empl\n",
    "* calculate tenure\n",
    "* calculate age at TERM DATE\n"
   ]
  },
  {
   "cell_type": "code",
   "execution_count": null,
   "metadata": {
    "collapsed": true
   },
   "outputs": [],
   "source": [
    "# create list of date columns\n",
    "date_columns = ['TERMINATION_DT','HIRE_DT','SERVICE_DT','LAST_HIRE_DT','BIRTHDATE']"
   ]
  },
  {
   "cell_type": "code",
   "execution_count": null,
   "metadata": {
    "collapsed": false
   },
   "outputs": [],
   "source": [
    "##count how many of these are missing\n",
    "print \"Column\\t     Current\\t Retired\"\n",
    "print \"++++++++++++++++++++++++++++++++++++\"\n",
    "for c in date_columns:\n",
    "    print c, \"\\t\",sum(cur_empl[c].isnull()), \"\\t\",sum(ret_empl[c].isnull())"
   ]
  },
  {
   "cell_type": "markdown",
   "metadata": {},
   "source": [
    "* replace the missing TERMINATION_DT with '01JAN2015'\n",
    "* replace the missing HIRE_DT & LAST_HIRE_DT with SERVICE_DT for the Retired employees"
   ]
  },
  {
   "cell_type": "code",
   "execution_count": null,
   "metadata": {
    "collapsed": false
   },
   "outputs": [],
   "source": [
    "termination_replace_dt = '01JAN2015'\n",
    "ret_empl['TERMINATION_DT'].fillna(termination_replace_dt,inplace=True)\n",
    "cur_empl['TERMINATION_DT'].fillna(termination_replace_dt,inplace=True)\n",
    "#sum(ret_empl['TERMINATION_DT'].isnull())"
   ]
  },
  {
   "cell_type": "code",
   "execution_count": null,
   "metadata": {
    "collapsed": false
   },
   "outputs": [],
   "source": [
    "#ret_empl[ret_empl['HIRE_DT'].isnull()].HIRE_DT = \n",
    "#ret_empl[\n",
    "missing_idx =ret_empl[ret_empl['HIRE_DT'].isnull()].index\n",
    "ret_empl.loc[missing_idx,'HIRE_DT'] = ret_empl.loc[missing_idx,'SERVICE_DT']\n",
    "missing_idx =ret_empl[ret_empl['LAST_HIRE_DT'].isnull()].index\n",
    "ret_empl.loc[missing_idx,'LAST_HIRE_DT'] = ret_empl.loc[missing_idx,'SERVICE_DT']"
   ]
  },
  {
   "cell_type": "code",
   "execution_count": null,
   "metadata": {
    "collapsed": false
   },
   "outputs": [],
   "source": [
    "#now convert to datetimes\n",
    "for c in date_columns:\n",
    "    ret_empl[c]=ret_empl[c].apply(lambda x:datetime.strptime(x,'%d%b%Y')) \n",
    "    cur_empl[c]=cur_empl[c].apply(lambda x:datetime.strptime(x,'%d%b%Y')) \n",
    "#ret_empl[date_columns].apply(lambda x: datetime.strptime(x,'%d%b%Y'),axis=0)"
   ]
  },
  {
   "cell_type": "code",
   "execution_count": null,
   "metadata": {
    "collapsed": false
   },
   "outputs": [],
   "source": [
    "## now calculate age at termination date\n",
    "cur_empl['Age_tdelta'] = cur_empl['TERMINATION_DT']-cur_empl['BIRTHDATE']#)/np.timedelta64(1,'D')\n",
    "ret_empl['Age_tdelta'] = ret_empl['TERMINATION_DT']-ret_empl['BIRTHDATE']#)/np.timedelta64(1,'D')## calculate tenure at termination date (use service_date)\n",
    "# Use HIRE_DATE (SERVICE DATE Can be later than termination date if they have been rehired)\n",
    "cur_empl['Tenure_tdelta'] = cur_empl['TERMINATION_DT']-cur_empl['HIRE_DT']\n",
    "ret_empl['Tenure_tdelta'] = ret_empl['TERMINATION_DT']-ret_empl['HIRE_DT']\n",
    "# convert to days, months or years\n",
    "cur_empl['Age_years'] = cur_empl['Age_tdelta']/np.timedelta64(1,'Y')\n",
    "ret_empl['Age_years'] = ret_empl['Age_tdelta']/np.timedelta64(1,'Y')\n",
    "# convert to months of tenure\n",
    "cur_empl['Tenure_months'] = cur_empl['Tenure_tdelta']/np.timedelta64(1,'M')\n",
    "ret_empl['Tenure_months'] = ret_empl['Tenure_tdelta']/np.timedelta64(1,'M')\n",
    "#cur_empl['Tenure_months'] = cur_empl['Tenure_tdelta']/np.timedelta64(1,'D')\n",
    "\n"
   ]
  },
  {
   "cell_type": "code",
   "execution_count": null,
   "metadata": {
    "collapsed": false
   },
   "outputs": [],
   "source": [
    "ret_empl.Age_years.describe(), cur_empl.Age_years.describe()"
   ]
  },
  {
   "cell_type": "code",
   "execution_count": null,
   "metadata": {
    "collapsed": false
   },
   "outputs": [],
   "source": [
    "ret_empl.Tenure_months.describe(), cur_empl.Tenure_months.describe()"
   ]
  },
  {
   "cell_type": "markdown",
   "metadata": {},
   "source": [
    "## Prepare for survival analysis:\n",
    "### Add column (status) to indicate if current (0) or former (1) employee"
   ]
  },
  {
   "cell_type": "code",
   "execution_count": null,
   "metadata": {
    "collapsed": false
   },
   "outputs": [],
   "source": [
    "ret_empl['status'] = 1\n",
    "cur_empl['status'] = 0\n",
    "# now join\n",
    "print len(ret_empl),len(cur_empl)\n",
    "empltbl = pd.concat([ret_empl,cur_empl],axis=0)\n",
    "print len(empltbl)"
   ]
  },
  {
   "cell_type": "markdown",
   "metadata": {},
   "source": [
    "## Remove 'current' Interns\n",
    "* identified as those where GRADE == 'UNS'"
   ]
  },
  {
   "cell_type": "code",
   "execution_count": null,
   "metadata": {
    "collapsed": false
   },
   "outputs": [],
   "source": [
    "pd.crosstab(cur_empl.INTERN, cur_empl.GRADE)"
   ]
  },
  {
   "cell_type": "code",
   "execution_count": null,
   "metadata": {
    "collapsed": false
   },
   "outputs": [],
   "source": [
    "pd.crosstab(ret_empl.INTERN, ret_empl.GRADE)"
   ]
  },
  {
   "cell_type": "markdown",
   "metadata": {},
   "source": [
    "* 803 in cur_empl\n",
    "* 42859 in ret_empl"
   ]
  },
  {
   "cell_type": "code",
   "execution_count": null,
   "metadata": {
    "collapsed": false
   },
   "outputs": [],
   "source": [
    "empltbl2 = empltbl[empltbl.GRADE != 'UNS'].copy()\n",
    "len(empltbl2)"
   ]
  },
  {
   "cell_type": "code",
   "execution_count": null,
   "metadata": {
    "collapsed": false
   },
   "outputs": [],
   "source": [
    "## define interns\n",
    "interns = empltbl[empltbl.GRADE == 'UNS'].copy()\n",
    "print len(interns)\n",
    "interns.Age_years.describe(), interns.Tenure_months.describe()"
   ]
  },
  {
   "cell_type": "code",
   "execution_count": null,
   "metadata": {
    "collapsed": false
   },
   "outputs": [],
   "source": [
    "empltbl2.Tenure_months.describe()"
   ]
  },
  {
   "cell_type": "markdown",
   "metadata": {
    "collapsed": true
   },
   "source": [
    "## Deal with negative tenure months"
   ]
  },
  {
   "cell_type": "code",
   "execution_count": null,
   "metadata": {
    "collapsed": false
   },
   "outputs": [],
   "source": [
    "print \"tenure is negative: \", sum(empltbl2.TOT_MO_SERVICE_SFI < 0), sum(empltbl2.Tenure_months < 0)\n",
    "print \"tenure is less than 1 month: \", sum(empltbl2.TOT_MO_SERVICE_SFI < 1), sum(empltbl2.Tenure_months < 1)"
   ]
  },
  {
   "cell_type": "code",
   "execution_count": null,
   "metadata": {
    "collapsed": false
   },
   "outputs": [],
   "source": [
    "# look at these distributions\n",
    "plt.figure(figsize=(12,8))\n",
    "cur_empl.Age_years.hist(bins=80,color='indianred',label='current',alpha=0.8,normed=True)\n",
    "ret_empl.Age_years.hist(bins=80,color='steelblue',label='retired',alpha=0.5,normed=True)\n",
    "plt.legend()\n",
    "plt.xlabel('Age')\n",
    "plt.ylabel('Normed Counts')\n",
    "plt.title('Distribution of Worforce Ages')"
   ]
  },
  {
   "cell_type": "code",
   "execution_count": null,
   "metadata": {
    "collapsed": false
   },
   "outputs": [],
   "source": [
    "neg_tenure_idx = ret_empl[ret_empl.TOT_MO_SERVICE_SFI < 0].index\n",
    "ret_empl.ix[neg_tenure_idx][['TOT_MO_SERVICE_SFI','Tenure_months','TERMINATION_DT','HIRE_DT','LAST_HIRE_DT','BIRTHDATE']].head(30)"
   ]
  },
  {
   "cell_type": "code",
   "execution_count": null,
   "metadata": {
    "collapsed": false
   },
   "outputs": [],
   "source": [
    "neg_tenure_idx = ret_empl[ret_empl.Tenure_months < 0].index\n",
    "ret_empl.ix[neg_tenure_idx][['TOT_MO_SERVICE_SFI','Tenure_months','TERMINATION_DT','HIRE_DT','LAST_HIRE_DT']].tail(30)"
   ]
  },
  {
   "cell_type": "code",
   "execution_count": null,
   "metadata": {
    "collapsed": false
   },
   "outputs": [],
   "source": [
    "ret_empl.ix[neg_tenure_idx]['KEY'].tail().values"
   ]
  },
  {
   "cell_type": "markdown",
   "metadata": {},
   "source": [
    "# Cleaning up these dates\n",
    "### remove the negative tenure cases"
   ]
  },
  {
   "cell_type": "code",
   "execution_count": null,
   "metadata": {
    "collapsed": false
   },
   "outputs": [],
   "source": [
    "empltbl3 = empltbl2[empltbl2.Tenure_months>=0].copy()\n",
    "len(empltbl3)"
   ]
  },
  {
   "cell_type": "code",
   "execution_count": null,
   "metadata": {
    "collapsed": false
   },
   "outputs": [],
   "source": [
    "# how many are younger than 16?\n",
    "sum(empltbl3.Age_years < 16.01), sum(empltbl3.Age_years > 70)#, sum(cur_empl.Age_years < 16.01)"
   ]
  },
  {
   "cell_type": "code",
   "execution_count": null,
   "metadata": {
    "collapsed": false
   },
   "outputs": [],
   "source": [
    "# look at these distributions\n",
    "plt.figure(figsize=(12,8))\n",
    "empltbl3[empltbl3.status==0].Tenure_months.hist(bins=80,color='indianred',label='current',alpha=0.8,normed=True)\n",
    "empltbl3[empltbl3.status==1].Tenure_months.hist(bins=80,color='steelblue',label='former',alpha=0.5,normed=True)\n",
    "plt.legend()\n",
    "plt.xlabel('Months of Tenure')\n",
    "plt.ylabel('Normed Counts')\n",
    "plt.title('Distribution of Worforce Tenures')"
   ]
  },
  {
   "cell_type": "code",
   "execution_count": null,
   "metadata": {
    "collapsed": true
   },
   "outputs": [],
   "source": [
    "## convert months of tenure to years of tenure\n",
    "empltbl3['Tenure_years'] = empltbl3['Tenure_months']/12.0"
   ]
  },
  {
   "cell_type": "code",
   "execution_count": null,
   "metadata": {
    "collapsed": false
   },
   "outputs": [],
   "source": [
    "empltbl3.Tenure_years.describe()"
   ]
  },
  {
   "cell_type": "code",
   "execution_count": null,
   "metadata": {
    "collapsed": false
   },
   "outputs": [],
   "source": [
    "# look at these distributions\n",
    "plt.figure(figsize=(12,8))\n",
    "empltbl3[empltbl3.status==0].Tenure_years.hist(bins=60,range=[0,59],color='indianred',label='current',alpha=0.8,normed=True)\n",
    "empltbl3[empltbl3.status==1].Tenure_years.hist(bins=60,range=[0,59],color='steelblue',label='former',alpha=0.5,normed=True)\n",
    "plt.legend()\n",
    "plt.xlabel('Years of Tenure')\n",
    "plt.ylabel('Normed Counts')\n",
    "plt.title('Distribution of Worforce Tenures')"
   ]
  },
  {
   "cell_type": "markdown",
   "metadata": {},
   "source": [
    "## look for duplicated KEYS (and remove)"
   ]
  },
  {
   "cell_type": "code",
   "execution_count": null,
   "metadata": {
    "collapsed": false
   },
   "outputs": [],
   "source": [
    "duplicated_keys_list = list(empltbl3.KEY.value_counts()[empltbl3.KEY.value_counts() >1].index)\n",
    "duplicated_keys_list"
   ]
  },
  {
   "cell_type": "code",
   "execution_count": null,
   "metadata": {
    "collapsed": false
   },
   "outputs": [],
   "source": [
    "empltbl3.status.value_counts()"
   ]
  },
  {
   "cell_type": "markdown",
   "metadata": {},
   "source": [
    "## plot age distributions"
   ]
  },
  {
   "cell_type": "code",
   "execution_count": null,
   "metadata": {
    "collapsed": false
   },
   "outputs": [],
   "source": [
    "empltbl3.Age_years.describe()"
   ]
  },
  {
   "cell_type": "code",
   "execution_count": null,
   "metadata": {
    "collapsed": false
   },
   "outputs": [],
   "source": [
    "# look at these distributions\n",
    "plt.figure(figsize=(12,8))\n",
    "empltbl3[empltbl3.status==0].Age_years.hist(bins=70,range=[15,84],color='indianred',label='current',alpha=0.8,normed=True)\n",
    "empltbl3[empltbl3.status==1].Age_years.hist(bins=70,range=[15,84],color='steelblue',label='former',alpha=0.5,normed=True)\n",
    "plt.legend()\n",
    "plt.xlabel('Age in years')\n",
    "plt.ylabel('Normed Counts')\n",
    "plt.title('Distribution of Worforce Ages')"
   ]
  },
  {
   "cell_type": "markdown",
   "metadata": {},
   "source": [
    "### compare the type of separation"
   ]
  },
  {
   "cell_type": "code",
   "execution_count": null,
   "metadata": {
    "collapsed": false
   },
   "outputs": [],
   "source": [
    "empltbl3.VOLINVOL.value_counts()"
   ]
  },
  {
   "cell_type": "code",
   "execution_count": null,
   "metadata": {
    "collapsed": false
   },
   "outputs": [],
   "source": [
    "empltbl3.KEY.nunique()"
   ]
  },
  {
   "cell_type": "code",
   "execution_count": null,
   "metadata": {
    "collapsed": true
   },
   "outputs": [],
   "source": [
    "## Drop the TOT_MO_SERVICE_SFI column --> it's values seem to be erroneous generally\n",
    "# drop PER_ORG because it is singly valued\n",
    "empltbl3.drop(['PER_ORG','TOT_MO_SERVICE_SFI'],axis=1,inplace=True)"
   ]
  },
  {
   "cell_type": "markdown",
   "metadata": {
    "collapsed": true
   },
   "source": [
    "## Use this mapping for FLSA N --> 0 , X -->-1 , Z -->1"
   ]
  },
  {
   "cell_type": "code",
   "execution_count": null,
   "metadata": {
    "collapsed": false
   },
   "outputs": [],
   "source": [
    "empltbl3.FLSA_STATUS.value_counts()"
   ]
  },
  {
   "cell_type": "code",
   "execution_count": null,
   "metadata": {
    "collapsed": true
   },
   "outputs": [],
   "source": [
    "empltbl3['FLSA_STATUS'] = empltbl3['FLSA_STATUS'].replace({'N':0,'Z':1,'X':-1}).copy()"
   ]
  },
  {
   "cell_type": "markdown",
   "metadata": {},
   "source": [
    "### Import and join BENEFITS information"
   ]
  },
  {
   "cell_type": "code",
   "execution_count": null,
   "metadata": {
    "collapsed": false
   },
   "outputs": [],
   "source": [
    "bene_df = pandas_read_hdfs(infilenames[5],dtype_dict={'KEY':np.str})\n",
    "bene_df.shape"
   ]
  },
  {
   "cell_type": "code",
   "execution_count": null,
   "metadata": {
    "collapsed": false
   },
   "outputs": [],
   "source": [
    "bene_df.replace({'Y': 1, 'N':0},inplace=True)\n",
    "bene_df.head()"
   ]
  },
  {
   "cell_type": "code",
   "execution_count": null,
   "metadata": {
    "collapsed": false
   },
   "outputs": [],
   "source": [
    "#bene_df.columns"
   ]
  },
  {
   "cell_type": "code",
   "execution_count": null,
   "metadata": {
    "collapsed": false
   },
   "outputs": [],
   "source": [
    "# rename 'COUNT               ' 'DEP_COUNT'\n",
    "bene_df = bene_df.rename(columns={'COUNT               ':'DEP_COUNT'})"
   ]
  },
  {
   "cell_type": "code",
   "execution_count": null,
   "metadata": {
    "collapsed": false
   },
   "outputs": [],
   "source": [
    "[sum(bene_df[c].isnull()) for c in bene_df.columns]"
   ]
  },
  {
   "cell_type": "code",
   "execution_count": null,
   "metadata": {
    "collapsed": false
   },
   "outputs": [],
   "source": [
    "bene_df.HAVE_INS.sum() == len(bene_df)"
   ]
  },
  {
   "cell_type": "code",
   "execution_count": null,
   "metadata": {
    "collapsed": true
   },
   "outputs": [],
   "source": [
    "empl_bene = pd.merge(empltbl3,bene_df,on='KEY',how = 'left')"
   ]
  },
  {
   "cell_type": "code",
   "execution_count": null,
   "metadata": {
    "collapsed": false
   },
   "outputs": [],
   "source": [
    "len(empl_bene),empl_bene.VOLINVOL.value_counts()"
   ]
  },
  {
   "cell_type": "markdown",
   "metadata": {},
   "source": [
    "## Encode some categorical variables that are complete\n",
    "0. fill in benefit column, missing counts as 0\n",
    "1. volinvol status  into sep_status\n",
    "2. MAR_STA_SNAME_SFI into mar_status\n",
    "3. create a 5code zipcode from POSTAL_SFI (missing flagged as XXXXX)"
   ]
  },
  {
   "cell_type": "code",
   "execution_count": null,
   "metadata": {
    "collapsed": false
   },
   "outputs": [],
   "source": [
    "empl_bene[bene_df.columns] = empl_bene[bene_df.columns].fillna(0)\n",
    "empl_bene['DEP_COUNT'].describe()"
   ]
  },
  {
   "cell_type": "code",
   "execution_count": null,
   "metadata": {
    "collapsed": false
   },
   "outputs": [],
   "source": [
    "#empl_ben\n",
    "#encode the VOLINVOL column as ['INVOLUNTARY':2,'VOLUNTARY':1,'NOT':0,'\n",
    "empl_bene['sep_status'] = empl_bene['VOLINVOL'].replace({'NOT':0,'VOLUNTARY':1,'INVOLUNTARY':2,'OTHER':3,'UNKNOWN':3})\n",
    "print empl_bene.sep_status.value_counts()\n",
    "empl_bene.drop('VOLINVOL',axis=1,inplace=True)"
   ]
  },
  {
   "cell_type": "code",
   "execution_count": null,
   "metadata": {
    "collapsed": false
   },
   "outputs": [],
   "source": [
    "## deal with MAR_STA_SNAME_SFI\n",
    "empl_bene['mar_status'] = empl_bene['MAR_STA_SNAME_SFI'].replace({'MARRIED':0,'SINGLE':1,'LEG SEPAR':2})\n",
    "#, SINGLE, LEG SEPAR#{'NOT':0,'VOLUNTARY':1,'INVOLUNTARY':2,'OTHER':3,'UNKNOWN':3})\n",
    "print empl_bene.mar_status.value_counts()\n",
    "empl_bene.drop('MAR_STA_SNAME_SFI',axis=1,inplace=True)"
   ]
  },
  {
   "cell_type": "code",
   "execution_count": null,
   "metadata": {
    "collapsed": false
   },
   "outputs": [],
   "source": [
    "## try to deal with location via zipcode\n",
    "empl_bene['zip5'] = empl_bene['POSTAL_SFI'].apply(lambda(x): truncate_postal_zip(x))\n",
    "empl_bene.drop('POSTAL_SFI',axis=1,inplace=True)\n",
    "empl_bene['zip5'].unique()"
   ]
  },
  {
   "cell_type": "markdown",
   "metadata": {},
   "source": [
    "### assign random numbers to the indices"
   ]
  },
  {
   "cell_type": "code",
   "execution_count": null,
   "metadata": {
    "collapsed": false
   },
   "outputs": [],
   "source": [
    "import random"
   ]
  },
  {
   "cell_type": "code",
   "execution_count": null,
   "metadata": {
    "collapsed": false
   },
   "outputs": [],
   "source": [
    "list_of_indices = list(range(empl_bene.KEY.nunique()))\n",
    "print len(list_of_indices )\n",
    "random.seed(883321)\n",
    "#new_indices = [x for x in random.shuffle(list_of_indices)\n",
    "random.shuffle(list_of_indices)#, len(list_of_indices))"
   ]
  },
  {
   "cell_type": "code",
   "execution_count": null,
   "metadata": {
    "collapsed": false
   },
   "outputs": [],
   "source": [
    "empl_bene.index = list_of_indices # note that random.shuffle does this shuffling inplace\n",
    "empl_bene.sort_index(inplace=True)\n",
    "empl_bene.head()"
   ]
  },
  {
   "cell_type": "code",
   "execution_count": null,
   "metadata": {
    "collapsed": true
   },
   "outputs": [],
   "source": [
    "#\n",
    "time_checking_cols = [a for a in date_columns]\n",
    "time_checking_cols.append('Tenure_months')\n",
    "time_checking_cols.append('Age_years')\n",
    "time_checking_cols.append('CUR_LOC_MOS')"
   ]
  },
  {
   "cell_type": "code",
   "execution_count": null,
   "metadata": {
    "collapsed": false
   },
   "outputs": [],
   "source": [
    "#empl_bene[empl_bene.ACTRES1.isnull()][['LOC_STATE','TERMINATION_DT','HIRE_DT','status','COMPANY','KEY']]"
   ]
  },
  {
   "cell_type": "code",
   "execution_count": null,
   "metadata": {
    "collapsed": false
   },
   "outputs": [],
   "source": [
    "sdf = summarize_dataframe2(empl_bene)\n",
    "sdf.sort('x_missing')"
   ]
  },
  {
   "cell_type": "markdown",
   "metadata": {},
   "source": [
    "# Deal with missing values"
   ]
  },
  {
   "cell_type": "code",
   "execution_count": null,
   "metadata": {
    "collapsed": false
   },
   "outputs": [],
   "source": [
    "columns_without_missing_values = list(sdf[sdf.x_missing == 0].Column.values)\n",
    "columns_with_missing_values = list(sdf[sdf.x_missing > 0].Column.values)\n",
    "print len(columns_with_missing_values), len(sdf)"
   ]
  },
  {
   "cell_type": "markdown",
   "metadata": {},
   "source": [
    "### so 81 of 186 columns have missing values still. Work on Correcting these.\n",
    "#### some logic:\n",
    "* if it is a count (like ADDRCNT*) set missing to -1\n",
    "* if it is an ACTION REASON, set to 'MISSING' (like ACTRES1)\n",
    "* if it is a performance assessment (like BOX*) set to 0; L will become 1, S will become 2, H will become 3.\n",
    "* if it is a float (like MERIT*, PERF*, ...) try to reassign by imputation.\n",
    "* assign a value:\n",
    "    * if 'HAVE_INS' or 'HAVE_DEP' assign 0, 0 to values"
   ]
  },
  {
   "cell_type": "code",
   "execution_count": null,
   "metadata": {
    "collapsed": true
   },
   "outputs": [],
   "source": [
    "chg_to_zero_cols = ['BOX1','BOX2','BOX3','BOX4','BOX5','BOX6','BOX7','BOX8','BOX9','BOX10']\n",
    "#['HAVE_INS','HAVE_DEP','DEP_COUNT','BOX1','BOX2','BOX3','BOX4','BOX5','BOX6','BOX7','BOX8','BOX9','BOX10']\n",
    "chg_to_neg_one_cols = ['ADDRCNT1','ADDRCNT3','ADDRCNT5','ADDRCNT10',\n",
    "                           'DIRECT_RPT_CNT', 'DIVISION_CODE_SFI','EXTFUNC_CNT','FUNC_CNT','TOTAL_RPT_CNT']\n",
    "                          \n",
    "chg_to_MISSING_cols = ['ACTRES1','ACTRES2','ACTRES3','ACTRES4','ACTRES5','ACTRES6','ACTRES7','ACTRES8','ACTRES9','ACTRES10',\n",
    "                      'ADDRESS1','JOB_FAMILY','LOC_CITY','LOC_TYPE_DESCR_SFI','SKEY',\n",
    "                      'RATE1', 'RATE10', 'RATE2', 'RATE3', 'RATE4', 'RATE5', 'RATE6', 'RATE7', 'RATE8', 'RATE9',]\n",
    "#chg_to_MISSING =['ACTRES1','ACTRES2','ADDRESS1','JOB_FAMILY', 'LOC_CITY','LOC_TYPE_DESCR_SFI']#'POSTAL_SFI',\n",
    "chg_to_00000 = ['EXT_FUNC_ID_SFI','FUNC_ID_SFI']#,'zip5']\n",
    "chg_to_XXX = ['GRADE','JOB_FUNCTION']\n",
    "chg_to_XX = ['LOC_STATE']\n",
    "col_to_drop = ['STATE','ADDRESS2','MAR_STATUS_DT'] # drop 'STATE'; some strange values; 'address2 x_missing too high'"
   ]
  },
  {
   "cell_type": "code",
   "execution_count": null,
   "metadata": {
    "collapsed": false
   },
   "outputs": [],
   "source": [
    "# lump these together\n",
    "correcting_col_list = [chg_to_zero_cols,chg_to_neg_one_cols,chg_to_MISSING_cols,chg_to_00000,chg_to_XXX,chg_to_XX,col_to_drop]\n",
    "print sum([len(x) for x in correcting_col_list])"
   ]
  },
  {
   "cell_type": "code",
   "execution_count": null,
   "metadata": {
    "collapsed": false
   },
   "outputs": [],
   "source": [
    "set_missing_cols_yet_to_fix = set(columns_with_missing_values)-set(chain.from_iterable(correcting_col_list))\n",
    "print len(set_missing_cols_yet_to_fix)"
   ]
  },
  {
   "cell_type": "code",
   "execution_count": null,
   "metadata": {
    "collapsed": false
   },
   "outputs": [],
   "source": [
    "replace_float_cols = ['MERIT1', 'MERIT10', 'MERIT2', 'MERIT3', 'MERIT4', 'MERIT5', 'MERIT6', 'MERIT7', 'MERIT8', 'MERIT9', \n",
    "                      'PERF1','PERF2','PERF3','PERF4', 'PERF5','PERF6','PERF7','PERF8', 'PERF9', 'PERF10',\n",
    "                      'SAL10', 'SAL2', 'SAL3', 'SAL4', 'SAL5', 'SAL6', 'SAL7', 'SAL8', 'SAL9']\n",
    "len(replace_float_cols)"
   ]
  },
  {
   "cell_type": "code",
   "execution_count": null,
   "metadata": {
    "collapsed": false
   },
   "outputs": [],
   "source": [
    "set_missing_cols_yet_to_fix - set(replace_float_cols) # good empty set."
   ]
  },
  {
   "cell_type": "markdown",
   "metadata": {},
   "source": [
    "### apply the logic for the above columns"
   ]
  },
  {
   "cell_type": "code",
   "execution_count": null,
   "metadata": {
    "collapsed": true
   },
   "outputs": [],
   "source": [
    "replace_code = [0,-1,'MISSING','00000','XXX','XX','drop'] #poor man's dictionary"
   ]
  },
  {
   "cell_type": "code",
   "execution_count": null,
   "metadata": {
    "collapsed": false
   },
   "outputs": [],
   "source": [
    "empl = empl_bene.copy()\n",
    "for id,col_list in enumerate(correcting_col_list):\n",
    "    print id, len(col_list), replace_code[id]\n",
    "    \n",
    "    if replace_code[id] == 'drop':\n",
    "        empl.drop(col_list,axis=1,inplace=True)\n",
    "        #print col_list\n",
    "    else:\n",
    "        empl[col_list]=empl[col_list].fillna(replace_code[id]).copy()"
   ]
  },
  {
   "cell_type": "markdown",
   "metadata": {},
   "source": [
    "## Create a column for Retired based upon ACTRES1"
   ]
  },
  {
   "cell_type": "code",
   "execution_count": null,
   "metadata": {
    "collapsed": false
   },
   "outputs": [],
   "source": [
    "## define the possible retire_codes first\n",
    "## identify unique actres1 listing\n",
    "# look at the list of ACTRES1 for  ReTIREMENT\n",
    "uniq_action_reasons_1 = empl.ACTRES1.unique()\n",
    "print len(uniq_action_reasons_1)\n",
    "temp_list = [x.split(';') for x in uniq_action_reasons_1]\n",
    "\n",
    "act_reason_1_list = list(chain.from_iterable(temp_list))\n",
    "print len(act_reason_1_list)\n",
    "# identify those that are Retirement related\n",
    "\n",
    "possible_retire_codes = [x for x in list(set(act_reason_1_list)) if ('RET' in x and  'RETURN' not in x) ]\n",
    "# If one wants to flag DISABILITY add the next line\n",
    "#possible_retire_codes.append('DISABILITY')\n",
    "print len(possible_retire_codes)\n",
    "possible_retire_codes"
   ]
  },
  {
   "cell_type": "code",
   "execution_count": null,
   "metadata": {
    "collapsed": false
   },
   "outputs": [],
   "source": [
    "# function to generate flag\n",
    "def identify_retired(x,ret_codes =possible_retire_codes):\n",
    "    matched = [a for a in x.split(';') if a in ret_codes]\n",
    "    if len(matched):\n",
    "        return 1\n",
    "    else:\n",
    "        return 0"
   ]
  },
  {
   "cell_type": "code",
   "execution_count": null,
   "metadata": {
    "collapsed": false
   },
   "outputs": [],
   "source": [
    "empl['retired'] = empl.ACTRES1.apply(lambda x: identify_retired(x))"
   ]
  },
  {
   "cell_type": "markdown",
   "metadata": {
    "collapsed": false
   },
   "source": [
    "## begin to Standardize some of these other columns\n",
    "1. BOX columns: missing -> 0, L -> 1, S -> 2, H -> 3\n",
    "2. RATE columns: use dictionary; missing -> 0, \n"
   ]
  },
  {
   "cell_type": "code",
   "execution_count": null,
   "metadata": {
    "collapsed": false
   },
   "outputs": [],
   "source": [
    "### For BOX replace S with 2, H with 3, L with 1\n",
    "box_col_list = [x for x in empl.columns if x.startswith('BOX')]\n",
    "print len(box_col_list)\n",
    "empl[box_col_list] = empl[box_col_list].replace({'H':3,'S':2,'L':1}).copy()\n",
    "empl[box_col_list].head()"
   ]
  },
  {
   "cell_type": "markdown",
   "metadata": {},
   "source": [
    "## Simpler conversion of RATE* to 3 levels: Low, Solid or High\n",
    "dictionary below from Ron Davis"
   ]
  },
  {
   "cell_type": "code",
   "execution_count": null,
   "metadata": {
    "collapsed": true
   },
   "outputs": [],
   "source": [
    "# dictonary of ratings\n",
    "ratings_dict = {}\n",
    "high_ratings = ['R3C3','R3C2','L3EXC','L3-EXC','OTSD','L3PRO','L3-PRO',\n",
    "                'EXCELS','SUPR','EXC/SUS','EXC/IMP','PEXE','ME - MEETS']\n",
    "low_ratings = ['IMPR','L1INC','L1DEV','L1PRO','NTAC','R1C2','R1C3','INC/DEC',\n",
    "               'INC/SUS','INC/IMP','INCNSSTE','L1EXC','UNAC','R1C1','L2-INC','L2INC',\n",
    "               'L1-EXC','L1-PRO','BEXP','L1-DEV','L1-INC','DNM - DOES','R3C1','R2C1']\n",
    "solid_ratings = ['R2C3','R2C2','L2EXC','L2PRO','EXPE','/EX/','COMM','AOBJ','EXC/DEC',\n",
    "                 'PRO/IMP','PRO/SUS','PRO/DEC','SM - SUCCE','MS - MEETS','L2DEV','L3INC',\n",
    "                 'L3DEV','L2-DEV','L3-INC','ACPT','L3-DEV','L2-EXC','L2-PRO']\n",
    "\n",
    "# initialize\n",
    "for rating in high_ratings:\n",
    "    ratings_dict[rating] = 3\n",
    "for rating in low_ratings:\n",
    "    ratings_dict[rating]=1\n",
    "for rating in solid_ratings:\n",
    "    ratings_dict[rating]=2\n",
    "\n",
    "# function for assigning\n",
    "def assign_simple_rating(x,my_dict = ratings_dict):\n",
    "    try:\n",
    "        rval = my_dict[x.strip()]\n",
    "    except KeyError:\n",
    "        rval = 0\n",
    "    return rval\n"
   ]
  },
  {
   "cell_type": "code",
   "execution_count": null,
   "metadata": {
    "collapsed": false
   },
   "outputs": [],
   "source": [
    "### For Rate replace solid with 2, High with 3, Low with 1\n",
    "rate_col_list = [x for x in empl.columns if x.startswith('RATE')]\n",
    "print len(rate_col_list)\n",
    "empl[rate_col_list] = empl[rate_col_list].applymap(lambda x: assign_simple_rating(x))\n",
    "#empl[rate_col_list] = empl[rate_col_list].map(lambda(x): assign_simple_rating(x)).copy()\n",
    "empl[rate_col_list].head()"
   ]
  },
  {
   "cell_type": "code",
   "execution_count": null,
   "metadata": {
    "collapsed": false
   },
   "outputs": [],
   "source": [
    "binary_cols = list(sdf[sdf.arity == 2].Column.values)\n",
    "print binary_cols"
   ]
  },
  {
   "cell_type": "code",
   "execution_count": null,
   "metadata": {
    "collapsed": true
   },
   "outputs": [],
   "source": []
  },
  {
   "cell_type": "code",
   "execution_count": null,
   "metadata": {
    "collapsed": false
   },
   "outputs": [],
   "source": [
    "sdf[sdf.arity == 2]"
   ]
  },
  {
   "cell_type": "markdown",
   "metadata": {},
   "source": [
    "### use scikitlearn to label encode binary features: \n",
    "* N--> 0, Y --> 1\n",
    "* M--> 1, F --> 0\n",
    "* A-->0, H--> 1"
   ]
  },
  {
   "cell_type": "code",
   "execution_count": null,
   "metadata": {
    "collapsed": false
   },
   "outputs": [],
   "source": [
    "for col in binary_cols[:-3]:\n",
    "    empl[col] = label_encoder.fit_transform(empl[col]) # use sklearn.preprocesing.LabelEncoder()"
   ]
  },
  {
   "cell_type": "code",
   "execution_count": null,
   "metadata": {
    "collapsed": false
   },
   "outputs": [],
   "source": [
    "empl[col].value_counts(), col"
   ]
  },
  {
   "cell_type": "code",
   "execution_count": null,
   "metadata": {
    "collapsed": false
   },
   "outputs": [],
   "source": [
    "sdf2 = summarize_dataframe2(empl)"
   ]
  },
  {
   "cell_type": "code",
   "execution_count": null,
   "metadata": {
    "collapsed": false
   },
   "outputs": [],
   "source": [
    "sdf2[sdf2.arity == 19]"
   ]
  },
  {
   "cell_type": "markdown",
   "metadata": {},
   "source": [
    "###check on various  encoded variables\n",
    "* arity = 3,Fine\n",
    "* arity = 4, for 'SHIFT' map 'N' --> 0 and make FULL_PART_TIME categorical\n",
    "* arity = 5 -- make EMPL_TYPE to categorical\n",
    "* arity = 6, fine\n",
    "* arity = 7, make COMPANY categorical\n",
    "* arity = 8,9,10, fine\n",
    "* arity = 11: EEO1CODE to categorical\n",
    "* arity = 12: EMPL_CLASS to categorical\n",
    "* arity = 19: JOB_FUNCTION to categorical"
   ]
  },
  {
   "cell_type": "code",
   "execution_count": null,
   "metadata": {
    "collapsed": false
   },
   "outputs": [],
   "source": [
    "### convert shift == N to 0\n",
    "empl.replace({'SHIFT':{'N':0}},inplace=True)\n",
    "empl.SHIFT.value_counts()"
   ]
  },
  {
   "cell_type": "code",
   "execution_count": null,
   "metadata": {
    "collapsed": false
   },
   "outputs": [],
   "source": [
    "cols_to_cat = ['FULL_PART_TIME','EMPL_TYPE','COMPANY','EEO1CODE','EMPL_CLASS','JOB_FUNCTION']\n",
    "# arity <=19"
   ]
  },
  {
   "cell_type": "code",
   "execution_count": null,
   "metadata": {
    "collapsed": false
   },
   "outputs": [],
   "source": [
    "empl.FULL_PART_TIME.value_counts()"
   ]
  },
  {
   "cell_type": "code",
   "execution_count": null,
   "metadata": {
    "collapsed": false
   },
   "outputs": [],
   "source": [
    "empl.COMPANY.value_counts()/len(empl)"
   ]
  },
  {
   "cell_type": "code",
   "execution_count": null,
   "metadata": {
    "collapsed": false
   },
   "outputs": [],
   "source": [
    "other_categorical_cols = list(sdf2[(sdf2.datatype == 'object') & (sdf2.arity >19)].sort('arity').Column)\n",
    "other_categorical_cols"
   ]
  },
  {
   "cell_type": "code",
   "execution_count": null,
   "metadata": {
    "collapsed": false
   },
   "outputs": [],
   "source": [
    "cols_to_encode = other_categorical_cols[:6]\n",
    "cols_to_encode.append('JOBCODE')\n",
    "cols_to_encode"
   ]
  },
  {
   "cell_type": "code",
   "execution_count": null,
   "metadata": {
    "collapsed": false
   },
   "outputs": [],
   "source": [
    "cols_to_ignore = other_categorical_cols[8:]\n",
    "cols_to_ignore.append('LOC_CITY')\n",
    "cols_to_ignore"
   ]
  },
  {
   "cell_type": "markdown",
   "metadata": {},
   "source": [
    "## TRY TO FILL IN MISSING AND non-sense Float values\n",
    "SAL*, PERF*, MERIT* \n",
    "\n",
    "replace_float_cols"
   ]
  },
  {
   "cell_type": "code",
   "execution_count": null,
   "metadata": {
    "collapsed": false
   },
   "outputs": [],
   "source": [
    "### first identify the missing cases\n",
    "sum(empl[replace_float_cols[1]].isnull())"
   ]
  },
  {
   "cell_type": "code",
   "execution_count": null,
   "metadata": {
    "collapsed": false
   },
   "outputs": [],
   "source": [
    "for c in replace_float_cols[:-2]:\n",
    "    print c, sum(empl[c].isnull())"
   ]
  },
  {
   "cell_type": "code",
   "execution_count": null,
   "metadata": {
    "collapsed": false
   },
   "outputs": [],
   "source": [
    "sum(empl.FULL_PART_TIME.isnull())"
   ]
  },
  {
   "cell_type": "code",
   "execution_count": null,
   "metadata": {
    "collapsed": false
   },
   "outputs": [],
   "source": [
    "## save the data\n",
    "print empl.shape\n",
    "empl.to_csv('employee_dataframe8.tsv',sep='\\t',index=False)"
   ]
  },
  {
   "cell_type": "markdown",
   "metadata": {},
   "source": [
    "## May 6, 2015.\n",
    "\n",
    "The above dataset fails to save correctly -- probably too long.\n",
    "### attempt to encode some of the features already.\n",
    "\n"
   ]
  },
  {
   "cell_type": "markdown",
   "metadata": {},
   "source": [
    "# Transform to categorical if <= 19 in arity\n",
    "* one-hot encoding"
   ]
  },
  {
   "cell_type": "code",
   "execution_count": null,
   "metadata": {
    "collapsed": false
   },
   "outputs": [],
   "source": [
    "print [(c,len(empl[c].unique())) for c in cols_to_cat]\n",
    "print \"base_categories\"\n",
    "print \"------------------------\"\n",
    "[(a,empl[a].value_counts().head(1)) for a in cols_to_cat]"
   ]
  },
  {
   "cell_type": "code",
   "execution_count": null,
   "metadata": {
    "collapsed": true
   },
   "outputs": [],
   "source": [
    "def create_factorized_df(input_df,column_name):\n",
    "    tmp_df = pd.get_dummies(input_df[column_name],prefix=column_name)\n",
    "    # now drop the largest category\n",
    "    lgst_category = input_df[column_name].value_counts().index[0]\n",
    "    #print tmp_df.shape, tmp_df.columns\n",
    "    #print lgst_category\n",
    "    base_category = column_name+'_'+str(lgst_category)\n",
    "    tmp_df.drop(base_category,axis=1,inplace=True)\n",
    "    print tmp_df.shape, base_category\n",
    "    return tmp_df,base_category\n",
    "    "
   ]
  },
  {
   "cell_type": "code",
   "execution_count": null,
   "metadata": {
    "collapsed": false
   },
   "outputs": [],
   "source": [
    "# create a dummified dataframe.\n",
    "base_category_list =[]\n",
    "print empl.shape\n",
    "for acol in cols_to_cat:\n",
    "    print acol\n",
    "    t_df,bc1 = create_factorized_df(empl,acol)\n",
    "    # drop the original column\n",
    "    empl.drop(acol,inplace=True,axis=1)\n",
    "    # append the factorized categories\n",
    "    empl = pd.concat([empl,t_df],axis=1)\n",
    "    base_category_list.append(bc1)\n",
    "\n",
    "print empl.shape,len(base_category_list)"
   ]
  },
  {
   "cell_type": "markdown",
   "metadata": {},
   "source": [
    "### encode the other 'categorical' columns"
   ]
  },
  {
   "cell_type": "markdown",
   "metadata": {},
   "source": [
    "## just use label_encoding -- need to improve this later\n"
   ]
  },
  {
   "cell_type": "code",
   "execution_count": null,
   "metadata": {
    "collapsed": false
   },
   "outputs": [],
   "source": [
    "for col in cols_to_encode:\n",
    "    print col, len(empl[col].unique())\n",
    "    empl[col] = label_encoder.fit_transform(empl[col]) # use sklearn.preprocesing.LabelEncoder()"
   ]
  },
  {
   "cell_type": "code",
   "execution_count": null,
   "metadata": {
    "collapsed": true
   },
   "outputs": [],
   "source": []
  },
  {
   "cell_type": "code",
   "execution_count": null,
   "metadata": {
    "collapsed": false
   },
   "outputs": [],
   "source": [
    "[x for x in empl.columns if x.startswith('Ten')]"
   ]
  },
  {
   "cell_type": "code",
   "execution_count": null,
   "metadata": {
    "collapsed": true
   },
   "outputs": [],
   "source": []
  },
  {
   "cell_type": "markdown",
   "metadata": {},
   "source": [
    "### READ the data May 5, 2015"
   ]
  },
  {
   "cell_type": "code",
   "execution_count": null,
   "metadata": {
    "collapsed": false
   },
   "outputs": [],
   "source": [
    "empl[empl.columns[182]].head()"
   ]
  },
  {
   "cell_type": "code",
   "execution_count": null,
   "metadata": {
    "collapsed": false
   },
   "outputs": [],
   "source": [
    "empl2 = pd.read_csv('employee_dataframe8.tsv',sep='\\t')\n",
    "empl2.head(), empl2.shape"
   ]
  },
  {
   "cell_type": "code",
   "execution_count": null,
   "metadata": {
    "collapsed": false
   },
   "outputs": [],
   "source": [
    "## Look at medians of SAL*\n",
    "empl.SAL2.describe(), np.median(empl.SAL2)"
   ]
  },
  {
   "cell_type": "code",
   "execution_count": null,
   "metadata": {
    "collapsed": false
   },
   "outputs": [],
   "source": [
    "## replace by medians -- overal\n",
    "col_float_medians ={}\n",
    "for c in replace_float_cols:\n",
    "    col_float_medians[c] = np.median(empl[c])\n",
    "    empl[c].fillna(col_float_medians[c],inplace=True)\n",
    "\n",
    "col_float_medians\n"
   ]
  },
  {
   "cell_type": "markdown",
   "metadata": {},
   "source": [
    "## remove high-dimensional categorical data"
   ]
  },
  {
   "cell_type": "code",
   "execution_count": null,
   "metadata": {
    "collapsed": false
   },
   "outputs": [],
   "source": [
    "empl.drop(cols_to_ignore,inplace=True,axis=1)\n",
    "empl.shape"
   ]
  },
  {
   "cell_type": "markdown",
   "metadata": {},
   "source": [
    "# Transform to categorical if <= 19 in arity\n",
    "* one-hot encoding"
   ]
  },
  {
   "cell_type": "code",
   "execution_count": null,
   "metadata": {
    "collapsed": false
   },
   "outputs": [],
   "source": [
    "[len(empl[c].unique()) for c in cols_to_cat]"
   ]
  },
  {
   "cell_type": "code",
   "execution_count": null,
   "metadata": {
    "collapsed": false
   },
   "outputs": [],
   "source": [
    "print \"base_categories\"\n",
    "print \"------------------------\"\n",
    "[(a,empl[a].value_counts().head(1)) for a in cols_to_cat]"
   ]
  },
  {
   "cell_type": "markdown",
   "metadata": {},
   "source": [
    "# Now it is ready to use as input into scikitLearn as a matrix\n",
    "The standard notation is to define this as X and save it as a float type\n",
    "Don't forget to create a response variable, y\n",
    "\n",
    "### since the goal is to determine number of separation in a future time point, maybe I should create a target that is the number of tenure years."
   ]
  },
  {
   "cell_type": "code",
   "execution_count": null,
   "metadata": {
    "collapsed": true
   },
   "outputs": [],
   "source": []
  },
  {
   "cell_type": "markdown",
   "metadata": {},
   "source": [
    "## try to apply a rule to grouping categories together\n",
    "* maybe insure that sum of others <= thresh hold (0.005)\n"
   ]
  },
  {
   "cell_type": "code",
   "execution_count": null,
   "metadata": {
    "collapsed": false
   },
   "outputs": [],
   "source": [
    "sdf2[sdf2.Column.isin(cols_to_encode)]"
   ]
  },
  {
   "cell_type": "code",
   "execution_count": null,
   "metadata": {
    "collapsed": false
   },
   "outputs": [],
   "source": [
    "empl.EXT_FUNC_ID_SFI.value_counts()"
   ]
  },
  {
   "cell_type": "code",
   "execution_count": null,
   "metadata": {
    "collapsed": false
   },
   "outputs": [],
   "source": [
    "def apply_thresh(series,thresh=0.003,verbose=False):\n",
    "    myvals = series.value_counts()\n",
    "    n = len(series)\n",
    "    my_thresh = thresh*n\n",
    "    if verbose:\n",
    "        print \"ORIGINAL \\n\"\n",
    "        print myvals/n\n",
    "        print \"_++______\"\n",
    "    print \"{0} original categories reduced to {1} final categories\".format(len(myvals), len(myvals[myvals>my_thresh]))\n",
    "    catchall = myvals[myvals<=my_thresh]\n",
    "    \n",
    "    catchallfrac = catchall.sum()/float(n)\n",
    "    print \"{0} categories grouped into catch-all with {1:.6f} total fraction\".format(len(myvals[myvals<=my_thresh]),catchallfrac)\n",
    "    print \"__________________________\"\n",
    "    categories_to_group = list(catchall.index)\n",
    "    print categories_to_group\n",
    "    #series[series.isin(categories_to_group)] = 'ZZ_other'\n",
    "    return categories_to_group\n",
    "    #print myvals[myvals>my_thresh]\n",
    "    "
   ]
  },
  {
   "cell_type": "code",
   "execution_count": null,
   "metadata": {
    "collapsed": false
   },
   "outputs": [],
   "source": [
    "e2 = apply_thresh(empl.LOC_STATE)\n"
   ]
  },
  {
   "cell_type": "code",
   "execution_count": null,
   "metadata": {
    "collapsed": false
   },
   "outputs": [],
   "source": [
    "empl.loc[empl.LOC_STATE.isin(e2),'LOC_STATE']='ZZ_other'\n",
    "empl.LOC_STATE.value_counts()"
   ]
  },
  {
   "cell_type": "code",
   "execution_count": null,
   "metadata": {
    "collapsed": false
   },
   "outputs": [],
   "source": [
    "#apply_thresh(empl[cols_to_cat[5]])\n",
    "apply_thresh(empl['EMPL_CLASS'],thresh=0.001,verbose=True)"
   ]
  },
  {
   "cell_type": "code",
   "execution_count": null,
   "metadata": {
    "collapsed": false
   },
   "outputs": [],
   "source": [
    "empl.LOC_TYPE_DESCR_SFI.value_counts()"
   ]
  },
  {
   "cell_type": "code",
   "execution_count": null,
   "metadata": {
    "collapsed": false
   },
   "outputs": [],
   "source": [
    "print len(empl[empl.REMOTE==1])\n",
    "empl[empl.REMOTE==1]['LOC_TYPE_DESCR_SFI'].value_counts()"
   ]
  },
  {
   "cell_type": "code",
   "execution_count": null,
   "metadata": {
    "collapsed": false
   },
   "outputs": [],
   "source": [
    "empl[empl.JOB_FAMILY == 'CLMREP']['JOBCODE'].value_counts()"
   ]
  },
  {
   "cell_type": "code",
   "execution_count": null,
   "metadata": {
    "collapsed": false
   },
   "outputs": [],
   "source": [
    "#[sdf[x] for x in sdf.Column if x.endswith('SFI')]\n",
    "col_end_sfi = [x for x in list(sdf.Column.values) if x.endswith('SFI')]\n",
    "sdf[sdf.Column.isin(col_end_sfi)]"
   ]
  },
  {
   "cell_type": "code",
   "execution_count": null,
   "metadata": {
    "collapsed": false
   },
   "outputs": [],
   "source": [
    "empl_bene[empl_bene.EXT_FUNC_ID_SFI=='00000']#.unique()"
   ]
  },
  {
   "cell_type": "markdown",
   "metadata": {},
   "source": [
    "## get hire year"
   ]
  },
  {
   "cell_type": "code",
   "execution_count": null,
   "metadata": {
    "collapsed": false
   },
   "outputs": [],
   "source": [
    "atime = empl_bene['HIRE_DT'].ix[0]\n",
    "str(atime)"
   ]
  },
  {
   "cell_type": "code",
   "execution_count": null,
   "metadata": {
    "collapsed": false
   },
   "outputs": [],
   "source": [
    "str(atime)[5:7]"
   ]
  },
  {
   "cell_type": "code",
   "execution_count": null,
   "metadata": {
    "collapsed": false
   },
   "outputs": [],
   "source": [
    "empl_bene['hire_month'] = empl_bene['HIRE_DT'].apply(lambda x: int(str(x)[5:7]))\n",
    "empl_bene['hire_month'].hist(bins=12,color='darkorchid')"
   ]
  },
  {
   "cell_type": "code",
   "execution_count": null,
   "metadata": {
    "collapsed": false
   },
   "outputs": [],
   "source": [
    "empl_bene['hire_year'] = empl_bene['HIRE_DT'].apply(lambda x: int(str(x)[:4]))\n",
    "empl_bene.hire_year.describe()"
   ]
  },
  {
   "cell_type": "code",
   "execution_count": null,
   "metadata": {
    "collapsed": false
   },
   "outputs": [],
   "source": [
    "empl_bene.hire_year.hist(bins=70)"
   ]
  },
  {
   "cell_type": "markdown",
   "metadata": {},
   "source": [
    "## how many are there if we require hire_date > some date?\n"
   ]
  },
  {
   "cell_type": "code",
   "execution_count": null,
   "metadata": {
    "collapsed": false
   },
   "outputs": [],
   "source": [
    "empl_bene.HIRE_DT.ix[0]"
   ]
  },
  {
   "cell_type": "code",
   "execution_count": null,
   "metadata": {
    "collapsed": false
   },
   "outputs": [],
   "source": [
    "test_hire_date = pd.to_datetime('2002-11-30') #datetime(2002,11,30)\n",
    "test_hire_date"
   ]
  },
  {
   "cell_type": "code",
   "execution_count": null,
   "metadata": {
    "collapsed": false
   },
   "outputs": [],
   "source": [
    "emplB = empl_bene[empl_bene.HIRE_DT > test_hire_date].copy()\n",
    "print len(emplB)\n",
    "print emplB.status.value_counts()\n",
    "print emplB.sep_status.value_counts()\n"
   ]
  },
  {
   "cell_type": "code",
   "execution_count": null,
   "metadata": {
    "collapsed": false
   },
   "outputs": [],
   "source": [
    "#test_term_date = #test_hire_date\n",
    "test_term_date = pd.to_datetime('2002-12-31')\n",
    "emplC= empl[empl.TERMINATION_DT > test_term_date].copy()\n",
    "print len(emplC)\n",
    "print emplC.status.value_counts()\n",
    "print emplC.sep_status.value_counts()"
   ]
  },
  {
   "cell_type": "code",
   "execution_count": null,
   "metadata": {
    "collapsed": false
   },
   "outputs": [],
   "source": [
    "emplC.RATE1.value_counts()"
   ]
  },
  {
   "cell_type": "code",
   "execution_count": null,
   "metadata": {
    "collapsed": true
   },
   "outputs": [],
   "source": [
    "def split_rate_column(x):\n",
    "    list_of_defined_values = ['R1C1','R1C2','R1C3',\n",
    "                              'R2C1','R2C2','R2C3',\n",
    "                              'R3C1','R3C2','R3C3']\n",
    "    #rcol=[]\n",
    "    #ccol=[]\n",
    "    if x in list_of_defined_values:\n",
    "        rval = int(x[1])#col.append(x[1])\n",
    "        cval = int(x[3]) #col.append(x[3])\n",
    "        #print x[1],x[3]\n",
    "    else:\n",
    "        #rcol.append(0)\n",
    "        #ccol.append(0)\n",
    "        rval = 0\n",
    "        cval = 0\n",
    "    return rval,cval"
   ]
  },
  {
   "cell_type": "code",
   "execution_count": null,
   "metadata": {
    "collapsed": false
   },
   "outputs": [],
   "source": [
    "#rcol,ccol = \n",
    "input_column = 'RATE1'\n",
    "rval = [x[0] for x in emplC[input_column].apply(lambda(x): split_rate_column(x)).as_matrix()]\n",
    "cval = [x[1] for x in emplC[input_column].apply(lambda(x): split_rate_column(x)).as_matrix()]"
   ]
  },
  {
   "cell_type": "code",
   "execution_count": null,
   "metadata": {
    "collapsed": false
   },
   "outputs": [],
   "source": [
    "emplC[input_column+'_R'] = rval\n",
    "emplC[input_column+'_C'] = cval\n",
    "emplC[['RATE1','RATE1_R','RATE1_C']].head()"
   ]
  },
  {
   "cell_type": "code",
   "execution_count": null,
   "metadata": {
    "collapsed": true
   },
   "outputs": [],
   "source": [
    "def convert_rate_column(df,input_column):\n",
    "    rval = [x[0] for x in df[input_column].apply(lambda(x): split_rate_column(x)).as_matrix()]\n",
    "    cval = [x[1] for x in df[input_column].apply(lambda(x): split_rate_column(x)).as_matrix()]\n",
    "    df[input_column+'_R'] = rval\n",
    "    df[input_column+'_C'] = cval\n",
    "    df.drop(input_column,inplace=True,axis=1)\n",
    "    return df"
   ]
  },
  {
   "cell_type": "code",
   "execution_count": null,
   "metadata": {
    "collapsed": false
   },
   "outputs": [],
   "source": [
    "### convert the RATINGS columns\n",
    "for col in ['RATE1','RATE2','RATE3','RATE4','RATE5','RATE6','RATE7','RATE8','RATE9','RATE10']:\n",
    "    print col\n",
    "    emplC = convert_rate_column(emplC,col)"
   ]
  },
  {
   "cell_type": "code",
   "execution_count": null,
   "metadata": {
    "collapsed": false
   },
   "outputs": [],
   "source": [
    "emplC.shape"
   ]
  },
  {
   "cell_type": "markdown",
   "metadata": {
    "collapsed": false
   },
   "source": [
    "## begin to Standardize some of these other columns\n",
    "\n"
   ]
  },
  {
   "cell_type": "code",
   "execution_count": null,
   "metadata": {
    "collapsed": false
   },
   "outputs": [],
   "source": [
    "empltbl3.EMPL_CLASS.value_counts(), empltbl3.EMPL_CLASS.unique()"
   ]
  },
  {
   "cell_type": "code",
   "execution_count": null,
   "metadata": {
    "collapsed": false
   },
   "outputs": [],
   "source": [
    "empltbl3.EMPL_TYPE.value_counts()"
   ]
  },
  {
   "cell_type": "code",
   "execution_count": null,
   "metadata": {
    "collapsed": false
   },
   "outputs": [],
   "source": [
    "pd.crosstab(empltbl3.EMPL_TYPE,empltbl3.EMPL_CLASS)"
   ]
  },
  {
   "cell_type": "code",
   "execution_count": null,
   "metadata": {
    "collapsed": false
   },
   "outputs": [],
   "source": [
    "pd.crosstab(empl.COMPANY,empl.EMPL_TYPE)"
   ]
  },
  {
   "cell_type": "code",
   "execution_count": null,
   "metadata": {
    "collapsed": false
   },
   "outputs": [],
   "source": [
    "pd.crosstab(empl.COMPANY,empl.EMPL_CLASS)"
   ]
  },
  {
   "cell_type": "code",
   "execution_count": null,
   "metadata": {
    "collapsed": false
   },
   "outputs": [],
   "source": [
    "pd.crosstab(emplC.COMPANY,emplC.EMPL_CLASS)"
   ]
  },
  {
   "cell_type": "code",
   "execution_count": null,
   "metadata": {
    "collapsed": false
   },
   "outputs": [],
   "source": [
    "empl[empl.COMPANY=='049'].LOC_STATE.value_counts()"
   ]
  },
  {
   "cell_type": "code",
   "execution_count": null,
   "metadata": {
    "collapsed": false
   },
   "outputs": [],
   "source": []
  },
  {
   "cell_type": "code",
   "execution_count": null,
   "metadata": {
    "collapsed": false
   },
   "outputs": [],
   "source": [
    "empl.COMPANY.value_counts()"
   ]
  },
  {
   "cell_type": "code",
   "execution_count": null,
   "metadata": {
    "collapsed": false
   },
   "outputs": [],
   "source": [
    "sdfC[sdfC.arity>4].sort('arity')"
   ]
  },
  {
   "cell_type": "code",
   "execution_count": null,
   "metadata": {
    "collapsed": false
   },
   "outputs": [],
   "source": [
    "print len(empltbl3.LEGACY_DEPT_SFI.unique())"
   ]
  },
  {
   "cell_type": "code",
   "execution_count": null,
   "metadata": {
    "collapsed": false
   },
   "outputs": [],
   "source": [
    "empltbl3.LEGACY_DEPT_SFI.value_counts()"
   ]
  },
  {
   "cell_type": "code",
   "execution_count": null,
   "metadata": {
    "collapsed": false
   },
   "outputs": [],
   "source": [
    "sdfC[sdfC['arity']<40000].sort('arity',ascending=False)"
   ]
  },
  {
   "cell_type": "code",
   "execution_count": null,
   "metadata": {
    "collapsed": false
   },
   "outputs": [],
   "source": [
    "len(empltbl3.LOCATION.unique()"
   ]
  },
  {
   "cell_type": "code",
   "execution_count": null,
   "metadata": {
    "collapsed": false
   },
   "outputs": [],
   "source": [
    "Bcolumns_without_missing_values = list(sdfB[sdfB.x_missing == 0].Column.values)\n",
    "Bcolumns_with_missing_values = list(sdfB[sdfB.x_missing > 0].Column.values)\n",
    "print len(Bcolumns_with_missing_values), len(sdfB)"
   ]
  },
  {
   "cell_type": "code",
   "execution_count": null,
   "metadata": {
    "collapsed": false
   },
   "outputs": [],
   "source": [
    "sdfB.sort('x_missing',ascending=False)"
   ]
  },
  {
   "cell_type": "code",
   "execution_count": null,
   "metadata": {
    "collapsed": false
   },
   "outputs": [],
   "source": [
    "sdf2 = summarize_dataframe2(empl)"
   ]
  },
  {
   "cell_type": "code",
   "execution_count": null,
   "metadata": {
    "collapsed": false
   },
   "outputs": [],
   "source": [
    "sdf2['x_missing'] = sdf2['nmissing']/len(empl)\n",
    "sdf2.sort('x_missing',ascending=False)"
   ]
  },
  {
   "cell_type": "code",
   "execution_count": null,
   "metadata": {
    "collapsed": false
   },
   "outputs": [],
   "source": [
    "columns_with_missing_values2 = list(sdf2[sdf2.x_missing>0].Column.values)\n",
    "len(columns_with_missing_values2)"
   ]
  },
  {
   "cell_type": "code",
   "execution_count": null,
   "metadata": {
    "collapsed": false
   },
   "outputs": [],
   "source": [
    "sdf2[(sdf2.x_missing>0) & (sdf2.datatype != 'float64')]#.datatype.unique()"
   ]
  },
  {
   "cell_type": "code",
   "execution_count": null,
   "metadata": {
    "collapsed": false
   },
   "outputs": [],
   "source": [
    "print len(empl.RATE1.unique()), \n",
    "print empl.RATE1.unique()"
   ]
  },
  {
   "cell_type": "code",
   "execution_count": null,
   "metadata": {
    "collapsed": false
   },
   "outputs": [],
   "source": [
    "empl.RATE1.value_counts()"
   ]
  },
  {
   "cell_type": "code",
   "execution_count": null,
   "metadata": {
    "collapsed": false
   },
   "outputs": [],
   "source": [
    "len(empl[empl.RATE1 == 'R3C1'])"
   ]
  },
  {
   "cell_type": "code",
   "execution_count": null,
   "metadata": {
    "collapsed": false
   },
   "outputs": [],
   "source": [
    "empl[empl.RATE1 == 'COMM']['TERMINATION_DT'].describe()#max()#[['hire_year','TERMINATION_DT','status','sep_status']]"
   ]
  },
  {
   "cell_type": "code",
   "execution_count": null,
   "metadata": {
    "collapsed": true
   },
   "outputs": [],
   "source": []
  },
  {
   "cell_type": "code",
   "execution_count": null,
   "metadata": {
    "collapsed": false
   },
   "outputs": [],
   "source": [
    "print sum(empl_bene.MAR_STATUS_DT.isnull())\n",
    "empl_bene[empl_bene.MAR_STATUS_DT.isnull()][['HIRE_DT','TERMINATION_DT','MAR_STA_SNAME_SFI']]"
   ]
  },
  {
   "cell_type": "code",
   "execution_count": null,
   "metadata": {
    "collapsed": true
   },
   "outputs": [],
   "source": []
  },
  {
   "cell_type": "code",
   "execution_count": null,
   "metadata": {
    "collapsed": false
   },
   "outputs": [],
   "source": [
    "\n",
    "#empl_bene.drop('STATE',axis=1,inplace=True)\n",
    "#pd.crosstab(empl_bene['STATE'],empl_bene['LOC_STATE'])"
   ]
  },
  {
   "cell_type": "code",
   "execution_count": null,
   "metadata": {
    "collapsed": false
   },
   "outputs": [],
   "source": [
    "set(columns_with_missing_values)-set(Bcolumns_with_missing_values)"
   ]
  },
  {
   "cell_type": "code",
   "execution_count": null,
   "metadata": {
    "collapsed": false
   },
   "outputs": [],
   "source": [
    "# look at these distributions\n",
    "plt.figure(figsize=(12,8))\n",
    "emplC[emplC.status==0].Age_years.hist(bins=70,range=[15,84],color='darkred',label='current',alpha=0.8,normed=True)\n",
    "emplC[emplC.status==1].Age_years.hist(bins=70,range=[15,84],color='dodgerblue',label='former',alpha=0.5,normed=True)\n",
    "plt.legend()\n",
    "plt.xlabel('Age in years')\n",
    "plt.ylabel('Normed Counts')\n",
    "plt.title('Distribution of Worforce Ages')"
   ]
  },
  {
   "cell_type": "code",
   "execution_count": null,
   "metadata": {
    "collapsed": false
   },
   "outputs": [],
   "source": [
    "# look at these distributions\n",
    "plt.figure(figsize=(12,8))\n",
    "emplB[emplB.status==0].Tenure_years.hist(bins=36,range=[0,35],color='darkred',label='current',alpha=0.8,normed=True)\n",
    "emplB[emplB.status==1].Tenure_years.hist(bins=36,range=[0,35],color='dodgerblue',label='former',alpha=0.5,normed=True)\n",
    "plt.legend()\n",
    "plt.xlabel('Age in years')\n",
    "plt.ylabel('Normed Counts')\n",
    "plt.title('Distribution of Worforce Ages')"
   ]
  },
  {
   "cell_type": "code",
   "execution_count": null,
   "metadata": {
    "collapsed": false
   },
   "outputs": [],
   "source": [
    "empl_bene.zip5.value_counts()"
   ]
  },
  {
   "cell_type": "code",
   "execution_count": null,
   "metadata": {
    "collapsed": false
   },
   "outputs": [],
   "source": [
    "label_encoder.fit_transform(empl_bene['SEX'])\n",
    "#empl_bene.SEX.head() #df['State'] = label_encoder.fit_transform(df['State'])"
   ]
  },
  {
   "cell_type": "code",
   "execution_count": null,
   "metadata": {
    "collapsed": true
   },
   "outputs": [],
   "source": [
    "empl_bene['COMP_FREQ_HOURLY'] = label_encoder.fit_transform(empl_bene['COMP_FREQUENCY'])\n",
    "empl_bene.drop([],axis=1,inplace=True)\n"
   ]
  },
  {
   "cell_type": "code",
   "execution_count": null,
   "metadata": {
    "collapsed": false
   },
   "outputs": [],
   "source": [
    "empl_bene.COMP_FREQUENCY.head()"
   ]
  },
  {
   "cell_type": "code",
   "execution_count": null,
   "metadata": {
    "collapsed": true
   },
   "outputs": [],
   "source": [
    "##\n",
    "empl_bene['COMP_FREQ_ANNUAL'] = 1\n",
    "empl_bene.loc[empl_bene['COMP_FREQUENCY']=='H','COMP_FREQ_ANNUAL'] = 0\n",
    "empl_bene.drop('COMP_FREQUENCY',axis=1,inplace=True)"
   ]
  },
  {
   "cell_type": "markdown",
   "metadata": {},
   "source": [
    "## Save this dataframe as a tab separated file"
   ]
  },
  {
   "cell_type": "code",
   "execution_count": null,
   "metadata": {
    "collapsed": false
   },
   "outputs": [],
   "source": [
    "outfile1 = 'employee_dataframe.tsv'\n",
    "save_dataframe_file = True\n",
    "if save_dataframe_file:\n",
    "    empltbl3.to_csv(outfile1,sep='\\t')"
   ]
  },
  {
   "cell_type": "markdown",
   "metadata": {},
   "source": [
    "## convert datetime64[ns] format to a string ---> YYYY-MM-DD \n",
    "use date_columns"
   ]
  },
  {
   "cell_type": "code",
   "execution_count": null,
   "metadata": {
    "collapsed": false
   },
   "outputs": [],
   "source": [
    "for c in date_columns:\n",
    "    empltbl3[c]= empltbl3[c].apply(lambda x: str(x).split(' ')[0])"
   ]
  },
  {
   "cell_type": "code",
   "execution_count": null,
   "metadata": {
    "collapsed": false
   },
   "outputs": [],
   "source": [
    "for col in empltbl3.columns:\n",
    "    my_dtype = empltbl3[col].dtype\n",
    "    if my_dtype != 'object' and my_dtype != 'float64' and my_dtype != 'int64':\n",
    "        print col, \"\\t\", empltbl3[col].dtype, \"\\t\",empltbl3[col].ix[8] "
   ]
  },
  {
   "cell_type": "code",
   "execution_count": null,
   "metadata": {
    "collapsed": false
   },
   "outputs": [],
   "source": [
    "### try converting the timedeltas to floats\n",
    "empltbl3['Age_tdelta'].ix[3].astype('float')/(60*60*24*10**9)"
   ]
  },
  {
   "cell_type": "code",
   "execution_count": null,
   "metadata": {
    "collapsed": false
   },
   "outputs": [],
   "source": [
    "nano2days = 60.*60.*24.*10**9\n",
    "empltbl3['Age_days'] = empltbl3['Age_tdelta'].apply(lambda x: x.astype('float')/(nano2days))\n",
    "empltbl3['Tenure_days'] = empltbl3['Tenure_tdelta'].apply(lambda x: x.astype('float')/(nano2days))"
   ]
  },
  {
   "cell_type": "code",
   "execution_count": null,
   "metadata": {
    "collapsed": false
   },
   "outputs": [],
   "source": [
    "empltbl3.drop(['Age_tdelta','Tenure_tdelta'], axis=1,inplace=True)\n",
    "empltbl3.shape"
   ]
  },
  {
   "cell_type": "code",
   "execution_count": null,
   "metadata": {
    "collapsed": false
   },
   "outputs": [],
   "source": [
    "len(empltbl3.Age_days.unique()), len(empltbl3.Tenure_days.unique())"
   ]
  },
  {
   "cell_type": "code",
   "execution_count": null,
   "metadata": {
    "collapsed": false
   },
   "outputs": [],
   "source": [
    "empltbl.Age_years.ix[:10].apply(lambda x: int(np.round(x,0)))"
   ]
  },
  {
   "cell_type": "code",
   "execution_count": null,
   "metadata": {
    "collapsed": false
   },
   "outputs": [],
   "source": [
    "# Keep just the year\n",
    "empltbl_dates = empltbl[date_columns].copy() # save the dates.\n",
    "for c in date_columns:\n",
    "    #print c\n",
    "    if c.endswith('DT'):\n",
    "        c2 = c[:-2]+'YEAR'\n",
    "    else:\n",
    "        c2 = c[:-4]+'_YEAR'\n",
    "    #print c2\n",
    "    empltbl[c2]= empltbl[c].apply(lambda x: x[:4])"
   ]
  },
  {
   "cell_type": "code",
   "execution_count": null,
   "metadata": {
    "collapsed": false
   },
   "outputs": [],
   "source": [
    "empltbl.drop(date_columns,axis=1,inplace=True)"
   ]
  },
  {
   "cell_type": "code",
   "execution_count": null,
   "metadata": {
    "collapsed": true
   },
   "outputs": [],
   "source": [
    "empltbl['Age_year_int'] = empltbl['Age_years'].apply(lambda x: int(np.round(x,0)))\n",
    "empltbl['Tenure_year_int'] = empltbl['Tenure_months'].apply(lambda x: int(np.round(x/12,0)))"
   ]
  },
  {
   "cell_type": "code",
   "execution_count": null,
   "metadata": {
    "collapsed": false
   },
   "outputs": [],
   "source": [
    "len(empltbl.Age_year_int.unique()), len(empltbl.Tenure_year_int.unique())"
   ]
  },
  {
   "cell_type": "code",
   "execution_count": null,
   "metadata": {
    "collapsed": false
   },
   "outputs": [],
   "source": [
    "empltbl.Tenure_year_int.value_counts().plot(kind='bar',color='darkslateblue')"
   ]
  },
  {
   "cell_type": "code",
   "execution_count": null,
   "metadata": {
    "collapsed": false
   },
   "outputs": [],
   "source": [
    "#now save this version for H2O\n",
    "outfile2 = 'employee_dataframe2.ssv'\n",
    "save_dataframe_file = True\n",
    "if save_dataframe_file:\n",
    "    empltbl.to_csv(outfile2,sep=';')"
   ]
  },
  {
   "cell_type": "code",
   "execution_count": null,
   "metadata": {
    "collapsed": false
   },
   "outputs": [],
   "source": [
    "empltbl.shape"
   ]
  },
  {
   "cell_type": "code",
   "execution_count": null,
   "metadata": {
    "collapsed": false
   },
   "outputs": [],
   "source": [
    "# duplicated employee keys:\n",
    "#[empltbl.KEY.value_counts() > 1]\n",
    "dup_empl_keys = []\n",
    "empltblKEYcounts = empltbl.KEY.value_counts()\n",
    "for a in empltblKEYcounts[empltblKEYcounts>1].index:\n",
    "    print a\n",
    "    dup_empl_keys.append(a)\n",
    "\n",
    "for empkey in dup_empl_keys:\n",
    "    print empltbl[empltbl.KEY == empkey]"
   ]
  },
  {
   "cell_type": "markdown",
   "metadata": {},
   "source": [
    "## Continue to Refine the input data"
   ]
  },
  {
   "cell_type": "code",
   "execution_count": null,
   "metadata": {
    "collapsed": false
   },
   "outputs": [],
   "source": []
  },
  {
   "cell_type": "code",
   "execution_count": null,
   "metadata": {
    "collapsed": false
   },
   "outputs": [],
   "source": [
    "sum(empltbl3.zip5.isnull())"
   ]
  },
  {
   "cell_type": "code",
   "execution_count": null,
   "metadata": {
    "collapsed": false
   },
   "outputs": [],
   "source": [
    "empltbl3[empltbl3.zip5=='SW18 '].values"
   ]
  },
  {
   "cell_type": "code",
   "execution_count": null,
   "metadata": {
    "collapsed": false
   },
   "outputs": [],
   "source": [
    "empltbl3[empltbl3['STATE'].isnull()][['POSTAL_SFI','zip5','LOC_STATE','ADDRESS1']]"
   ]
  },
  {
   "cell_type": "code",
   "execution_count": null,
   "metadata": {
    "collapsed": false
   },
   "outputs": [],
   "source": [
    "sdf = summarize_dataframe2(empltbl3)"
   ]
  },
  {
   "cell_type": "markdown",
   "metadata": {
    "collapsed": true
   },
   "source": [
    "## Examine cleaning up the different feature (covariate) columns for anylysis on them.\n"
   ]
  },
  {
   "cell_type": "markdown",
   "metadata": {},
   "source": [
    "### restrict the dataframe to do linear-regression on.\n",
    "* first attempt is _ad hoc_ reduction of 185 columns\n",
    "    * keep age_years, tenure_months, status, sex for sure\n",
    "* look at cases where there is 'significant' correlation between columns:\n",
    "    * for example JOBCNTx, LOCCNTx, DEPTCNTx, ..."
   ]
  },
  {
   "cell_type": "code",
   "execution_count": null,
   "metadata": {
    "collapsed": false
   },
   "outputs": [],
   "source": [
    "# define the set of columns that have missing values smaller than some threshold \n",
    "sdf['x_missing'] = sdf['nmissing']/len(empltbl3)\n",
    "len(sdf[sdf['x_missing'] > 0]), len(sdf)"
   ]
  },
  {
   "cell_type": "code",
   "execution_count": null,
   "metadata": {
    "collapsed": false
   },
   "outputs": [],
   "source": [
    "sdf['y_arity'] = sdf['arity']/len(empltbl)\n",
    "sdf['y_arity'].hist(bins=30,color='deepskyblue')"
   ]
  },
  {
   "cell_type": "code",
   "execution_count": null,
   "metadata": {
    "collapsed": false
   },
   "outputs": [],
   "source": [
    "sdf['x_missing'].hist(bins=30,color='deeppink')"
   ]
  },
  {
   "cell_type": "code",
   "execution_count": null,
   "metadata": {
    "collapsed": false
   },
   "outputs": [],
   "source": [
    "sdf.to_csv('employee_table_summary_3.csv')\n",
    "# save to file"
   ]
  },
  {
   "cell_type": "code",
   "execution_count": null,
   "metadata": {
    "collapsed": false
   },
   "outputs": [],
   "source": [
    "len(sdf)"
   ]
  },
  {
   "cell_type": "code",
   "execution_count": null,
   "metadata": {
    "collapsed": true
   },
   "outputs": [],
   "source": [
    "# now apply some logic to these columns for keeping and not\n",
    "columns_to_fix_missing = []\n",
    "columns_to_fix_NY = []\n",
    "columns_to_omit = []"
   ]
  },
  {
   "cell_type": "markdown",
   "metadata": {},
   "source": [
    "### Procedure applies:\n",
    "* Omit those that more than 25% missing.\n",
    "* identify those that have between 0.1% and 25% missing\n",
    "* add back in 2 columns of interest:\n",
    "* Fix the missing values (imputation):\n",
    "    - if categorical create new column\n",
    "    - if float/int assign median\n",
    "* convert Y/N to 1/0\n",
    "* convert other columns\n",
    "\n"
   ]
  },
  {
   "cell_type": "code",
   "execution_count": null,
   "metadata": {
    "collapsed": false
   },
   "outputs": [],
   "source": [
    "# omit those that have more than 25% missing:\n",
    "missing_threshold = 0.25\n",
    "columns_to_omit = list(sdf[sdf['x_missing'] > missing_threshold].Column.values)\n",
    "print len(columns_to_omit)\n",
    "#columns_to_omit"
   ]
  },
  {
   "cell_type": "code",
   "execution_count": null,
   "metadata": {
    "collapsed": false
   },
   "outputs": [],
   "source": [
    "#missing_threshold = 0.25\n",
    "print len(sdf[(sdf['x_missing']>0) & (sdf['x_missing'] <= missing_threshold)])\n",
    "columns_to_fix_missing = list(sdf[(sdf['x_missing']>0) & (sdf['x_missing'] <= missing_threshold)].Column.values)\n",
    "#print len(columns_to_fix_missing)"
   ]
  },
  {
   "cell_type": "code",
   "execution_count": null,
   "metadata": {
    "collapsed": false
   },
   "outputs": [],
   "source": [
    "# add JOB_FAMILY and JOB_FUNCTION back into those to keep\n",
    "job_columns_of_interest = ['JOB_FAMILY','JOB_FUNCTION']\n",
    "for jcol in job_columns_of_interest:\n",
    "    columns_to_omit.remove(jcol)\n",
    "    columns_to_fix_missing.append(jcol)\n",
    "\n",
    "len(columns_to_omit), len(columns_to_fix_missing)"
   ]
  },
  {
   "cell_type": "markdown",
   "metadata": {},
   "source": [
    "### look at the ones to fix missing that are objects"
   ]
  },
  {
   "cell_type": "code",
   "execution_count": null,
   "metadata": {
    "collapsed": false,
    "scrolled": true
   },
   "outputs": [],
   "source": [
    "sdf[sdf.Column.isin(columns_to_fix_missing)]"
   ]
  },
  {
   "cell_type": "code",
   "execution_count": null,
   "metadata": {
    "collapsed": false
   },
   "outputs": [],
   "source": [
    "#sdf.ix[columns_to_fix_missing.index].datatype.value_counts()\n",
    "sdf[sdf.Column.isin(columns_to_fix_missing)].datatype.value_counts()"
   ]
  },
  {
   "cell_type": "markdown",
   "metadata": {},
   "source": [
    "## Logic to fix the missing (objects)"
   ]
  },
  {
   "cell_type": "code",
   "execution_count": null,
   "metadata": {
    "collapsed": false
   },
   "outputs": [],
   "source": [
    "sdf[(sdf.Column.isin(columns_to_fix_missing)) & (sdf.datatype == 'object')]"
   ]
  },
  {
   "cell_type": "code",
   "execution_count": null,
   "metadata": {
    "collapsed": false
   },
   "outputs": [],
   "source": [
    "## try to compare state & loc_state to resolve\n",
    "len(empltbl3[(empltbl3.STATE.isnull()) & (empltbl3.LOC_STATE.isnull())])"
   ]
  },
  {
   "cell_type": "code",
   "execution_count": null,
   "metadata": {
    "collapsed": false
   },
   "outputs": [],
   "source": [
    "empltbl3.LOC_TYPE_DESCR_SFI.ix[:10]"
   ]
  },
  {
   "cell_type": "markdown",
   "metadata": {},
   "source": [
    "### only 62 have both LOC_STATE and STATE missing --> compare the values of each"
   ]
  },
  {
   "cell_type": "code",
   "execution_count": null,
   "metadata": {
    "collapsed": false
   },
   "outputs": [],
   "source": [
    "len(empltbl3[(empltbl3.STATE!= empltbl3.LOC_STATE)][['STATE','LOC_STATE','zip5','LOC_CITY']])"
   ]
  },
  {
   "cell_type": "code",
   "execution_count": null,
   "metadata": {
    "collapsed": false
   },
   "outputs": [],
   "source": [
    "print len(empltbl3[(empltbl3.STATE.isnull()) & (empltbl3.LOC_STATE.notnull())][['STATE','LOC_STATE','zip5','LOC_CITY']])\n",
    "empltbl3[(empltbl3.STATE.isnull()) & (empltbl3.LOC_STATE.notnull())][['STATE','LOC_STATE','zip5','LOC_CITY']]"
   ]
  },
  {
   "cell_type": "markdown",
   "metadata": {},
   "source": [
    "* ACTRES1,ACTRES2,'ADDRESS1 --> to 'MISSING'\n",
    "* EXT_FUNC_ID_SFI,FUNC_ID_SFI,zip5 --> XXXXX\n",
    "* GRADE_JOB_FUNCTION --> XXX"
   ]
  },
  {
   "cell_type": "code",
   "execution_count": null,
   "metadata": {
    "collapsed": true
   },
   "outputs": [],
   "source": [
    "chg_to_MISSING =['ACTRES1','ACTRES2','ADDRESS1','POSTAL_SFI','JOB_FAMILY', 'LOC_CITY','LOC_TYPE_DESCR_SFI']\n",
    "chg_to_XXXXX = ['EXT_FUNC_ID_SFI','FUNC_ID_SFI','zip5']\n",
    "chg_to_XXX = ['GRADE','JOB_FUNCTION']\n",
    "chg_to_XX = ['STATE','LOC_STATE']"
   ]
  },
  {
   "cell_type": "code",
   "execution_count": null,
   "metadata": {
    "collapsed": false
   },
   "outputs": [],
   "source": [
    "#'MISSING' in empltbl3.LOC_STATE.unique()\n",
    "#empltbl3.LOC_STATE.ix[:10]\n",
    "for acolumn in chg_to_MISSING:\n",
    "    empltbl3.fillna({acolumn: 'MISSING'},inplace=True)\n",
    "\n",
    "for acolumn in chg_to_XXXXX:\n",
    "    empltbl3.fillna({acolumn: 'XXXXX'},inplace=True)\n",
    "\n",
    "for acolumn in chg_to_XXX:\n",
    "    empltbl3.fillna({acolumn: 'XXX'},inplace=True)\n",
    "\n",
    "for acolumn in chg_to_XX:\n",
    "    empltbl3.fillna({acolumn: 'XX'},inplace=True)\n"
   ]
  },
  {
   "cell_type": "markdown",
   "metadata": {},
   "source": [
    "* DIVISION_CODE_SFI --> 15 missing replace with -1 and cast as int"
   ]
  },
  {
   "cell_type": "code",
   "execution_count": null,
   "metadata": {
    "collapsed": false
   },
   "outputs": [],
   "source": [
    "empltbl3.fillna({'DIVISION_CODE_SFI': -1},inplace=True)\n",
    "empltbl3['DIVISION_CODE_SFI'] = empltbl3['DIVISION_CODE_SFI'].apply(lambda x: int(x)) \n",
    "empltbl3.DIVISION_CODE_SFI.ix[:10]"
   ]
  },
  {
   "cell_type": "code",
   "execution_count": null,
   "metadata": {
    "collapsed": false
   },
   "outputs": [],
   "source": [
    "### Now for non-objects that were missing:\n",
    "sdf[(sdf.Column.isin(columns_to_fix_missing)) & (sdf.datatype == 'float64')]"
   ]
  },
  {
   "cell_type": "markdown",
   "metadata": {},
   "source": [
    "###  logic\n",
    "* change a few floats to ints:\n",
    "    - ADDRCNT1,ADDRCNT10,ADDRCNT3,ADDRCNT5,EXTFUNC_CNT,FUNC_CNT\n",
    "    - assign -1 to missing\n",
    "* replace missing with median for others (PERF, MERIT, SAL)"
   ]
  },
  {
   "cell_type": "code",
   "execution_count": null,
   "metadata": {
    "collapsed": true
   },
   "outputs": [],
   "source": [
    "missing_float_to_int = ['ADDRCNT1','ADDRCNT10','ADDRCNT3','ADDRCNT5','EXTFUNC_CNT','FUNC_CNT']\n",
    "for acolumn in missing_float_to_int:\n",
    "    empltbl3.fillna({acolumn: -1},inplace=True)\n",
    "    empltbl3[acolumn] = empltbl3[acolumn].apply(lambda x: int(x)) \n",
    "    "
   ]
  },
  {
   "cell_type": "code",
   "execution_count": null,
   "metadata": {
    "collapsed": false
   },
   "outputs": [],
   "source": [
    "missing_float_to_median = list(sdf[(sdf.Column.isin(columns_to_fix_missing)) & (sdf.datatype == 'float64')].Column[6:].values)"
   ]
  },
  {
   "cell_type": "code",
   "execution_count": null,
   "metadata": {
    "collapsed": false
   },
   "outputs": [],
   "source": [
    "missing_median_values_series = empltbl3[missing_float_to_median].median()\n",
    "missing_median_values_series.head()"
   ]
  },
  {
   "cell_type": "code",
   "execution_count": null,
   "metadata": {
    "collapsed": false
   },
   "outputs": [],
   "source": [
    "missing_median_values_series.loc['PERF4']"
   ]
  },
  {
   "cell_type": "code",
   "execution_count": null,
   "metadata": {
    "collapsed": false
   },
   "outputs": [],
   "source": [
    "for acolumn in missing_float_to_median:\n",
    "    med_value = missing_median_values_series.loc[acolumn]\n",
    "    print acolumn, med_value\n",
    "    empltbl3.fillna({acolumn:med_value},inplace=True)"
   ]
  },
  {
   "cell_type": "markdown",
   "metadata": {
    "collapsed": false
   },
   "source": [
    "### Again from an  __ad hoc__ perspective, reduce the number of columns.\n",
    "The reasoning being that the data is historical or potentially redundant (e.g. Tenure_tdelta + Tenure_years)"
   ]
  },
  {
   "cell_type": "code",
   "execution_count": null,
   "metadata": {
    "collapsed": false
   },
   "outputs": [],
   "source": [
    "# add the ACTRES2/3 and ADDRESS1/2 lines\n",
    "# add *_tdelta, BIRTHDATE, PER_ORG\n",
    "# add POSTAL_SFI, zip5, MAR_STA_SNAME_SFI, LOC_TYPE_DESC_SFI\n",
    "others_to_omit = ['ADDRESS1','Age_tdelta','BIRTHDATE','LAST_HIRE_DT',\n",
    "                  'LOC_CITY','LOC_TYPE_DESCR_SFI','MAR_STATUS_DT','MAR_STA_SNAME_SFI',\n",
    "                  'PER_ORG','POSTAL_SFI','SKEY','SERVICE_DT','TERMINATION_DT',\n",
    "                  'Tenure_tdelta','zip5']#'TOT_MO_SERVICE_SFI','Tenure_months']\n",
    "                 #'MERIT1','MERIT2','MERIT3','MERIT4','MERIT5','MERIT6','MERIT7','MERIT8','MERIT9','MERIT10',\n",
    "                 #'PERF1','PERF2','PERF3','PERF4','PERF5','PERF6','PERF7','PERF8','PERF9','PERF10']\n",
    "history_to_omit = ['ADDRCNT10','ADDRCNT3','ADDRCNT5','DEPTCNT10','DEPTCNT3','DEPTCNT5',\n",
    "                   'EFUNCCNT10','EFUNCCNT3','EFUNCCNT5','FLOORCNT10','FLOORCNT3','FLOORCNT5',\n",
    "                  'FTPTCNT10','FTPTCNT3','FTPTCNT5','FULLPART10','FULLPART3','FULLPART5',\n",
    "                  'FUNCCNT10','FUNCCNT3','FUNCCNT5','GRADECNT10','GRADECNT3','GRADECNT5',\n",
    "                  'JOBCNT10','JOBCNT3','JOBCNT5','LOCCNT10','LOCCNT3','LOCCNT5','LOCSTCNT10','LOCSTCNT3','LOCSTCNT5',\n",
    "                  'PARTFULL10','PARTFULL3','PARTFULL5','PTFTCNT10','PTFTCNT3','PTFTCNT5',\n",
    "                   'SUPVCNT10','SUPVCNT3','SUPVCNT5','ACTRES2','SAL10','SAL9','SAL8','SAL7','SAL6','SAL5','SAL4','SAL3',\n",
    "                   'SAL2','MERIT2','MERIT3','MERIT4','MERIT5','MERIT6','MERIT7','MERIT8','MERIT9','MERIT10',\n",
    "                    'PERF2','PERF3','PERF4','PERF5','PERF6','PERF7','PERF8','PERF9','PERF10']\n",
    "cols_to_categorical = ['COMPANY','COMP_FREQUENCY','DIVISION_CODE_SFI','EEO1CODE','EMPL_CLASS','EMPL_TYPE','ETHNIC_GROUP',\n",
    "                       'FLSA_STATUS','FULLPART1','FULL_PART_TIME','GRADE','HUBIND','INTERN','JOB_FUNCTION','RELOCATE_ALL_SFI',\n",
    "                       'REMOTE','REMOTE_SUPV','SEX','SHIFT','SUPV_DIFF_LOC','VOLINVOL','status']\n",
    "for col in others_to_omit:\n",
    "    columns_to_omit.append(col)\n",
    "\n",
    "for col in history_to_omit:\n",
    "    columns_to_omit.append(col)\n",
    "    \n",
    "print len(columns_to_omit),len(cols_to_categorical)"
   ]
  },
  {
   "cell_type": "code",
   "execution_count": null,
   "metadata": {
    "collapsed": false
   },
   "outputs": [],
   "source": [
    "# define columns to keep\n",
    "columns_to_keep = list(set(empltbl3.columns)-set(columns_to_omit))\n",
    "len(columns_to_keep)"
   ]
  },
  {
   "cell_type": "code",
   "execution_count": null,
   "metadata": {
    "collapsed": false
   },
   "outputs": [],
   "source": [
    "empltbl4 = empltbl3[columns_to_keep].copy()\n",
    "print empltbl4.shape"
   ]
  },
  {
   "cell_type": "code",
   "execution_count": null,
   "metadata": {
    "collapsed": false
   },
   "outputs": [],
   "source": [
    "sdf4 = summarize_dataframe2(empltbl4)"
   ]
  },
  {
   "cell_type": "markdown",
   "metadata": {},
   "source": [
    "## convert binary columns to 0,1 in empl_bene and save"
   ]
  },
  {
   "cell_type": "code",
   "execution_count": null,
   "metadata": {
    "collapsed": false
   },
   "outputs": [],
   "source": [
    "[sum(empl_bene[c].isnull()) for c in columns_to_fix_NY]"
   ]
  },
  {
   "cell_type": "code",
   "execution_count": null,
   "metadata": {
    "collapsed": false
   },
   "outputs": [],
   "source": [
    "for c in columns_to_fix_NY:\n",
    "    if c == 'SEX':\n",
    "        empl_bene.replace({c:{'M':0,'F':1}},inplace=True)\n",
    "    else: \n",
    "        empl_bene.replace({c:{'N':0,'Y':1}},inplace=True)\n",
    "        \n",
    "empl_bene.INTERN.value_counts()"
   ]
  },
  {
   "cell_type": "code",
   "execution_count": null,
   "metadata": {
    "collapsed": false
   },
   "outputs": [],
   "source": [
    "pd.crosstab(empl_bene.FULLPART1,empl_bene.PARTFULL1)"
   ]
  },
  {
   "cell_type": "code",
   "execution_count": null,
   "metadata": {
    "collapsed": true
   },
   "outputs": [],
   "source": [
    "empl_bene['COMP_FREQ_ANNUAL'] = 1\n",
    "empl_bene.loc[empl_bene['COMP_FREQUENCY']=='H','COMP_FREQ_ANNUAL'] = 0\n",
    "empl_bene.drop('COMP_FREQUENCY',axis=1,inplace=True)"
   ]
  },
  {
   "cell_type": "code",
   "execution_count": null,
   "metadata": {
    "collapsed": true
   },
   "outputs": [],
   "source": []
  },
  {
   "cell_type": "code",
   "execution_count": null,
   "metadata": {
    "collapsed": true
   },
   "outputs": [],
   "source": [
    "empl_bene.to_csv('employee_dataframe7long.tsv',sep='\\t',index=False)"
   ]
  },
  {
   "cell_type": "code",
   "execution_count": null,
   "metadata": {
    "collapsed": true
   },
   "outputs": [],
   "source": [
    "save_this_file = True\n",
    "if save_this_file:\n",
    "    empltbl4.to_csv('employee_dataframe4.tsv',sep='\\t',ignore_index =True)"
   ]
  },
  {
   "cell_type": "code",
   "execution_count": null,
   "metadata": {
    "collapsed": false
   },
   "outputs": [],
   "source": [
    "sdf4[sdf4.arity==2]"
   ]
  },
  {
   "cell_type": "code",
   "execution_count": null,
   "metadata": {
    "collapsed": false
   },
   "outputs": [],
   "source": [
    "empltbl4.shape"
   ]
  },
  {
   "cell_type": "code",
   "execution_count": null,
   "metadata": {
    "collapsed": false
   },
   "outputs": [],
   "source": [
    "empltbl4.SHIFT.value_counts()"
   ]
  },
  {
   "cell_type": "markdown",
   "metadata": {},
   "source": [
    "### Logic to transform the binary categorical columns\n",
    "* column = SEX; 1 = Male, 0 = female\n",
    "* column = COMP_FREQUENCY --> new column: comp_frequency_annual (1 = A, 0 = H (hourly))\n",
    "* other columns Y == 1, N == 0"
   ]
  },
  {
   "cell_type": "code",
   "execution_count": null,
   "metadata": {
    "collapsed": false
   },
   "outputs": [],
   "source": [
    "empltbl4['COMP_FREQ_ANNUAL'] = 1\n",
    "empltbl4.loc[empltbl4['COMP_FREQUENCY']=='H','COMP_FREQ_ANNUAL'] = 0\n",
    "empltbl4.drop('COMP_FREQUENCY',axis=1,inplace=True)\n",
    "\n",
    "# now deal with male,female\n",
    "empltbl4.replace({'SEX':{'M': 1,'F':0}},inplace=True)\n",
    "empltbl4[['COMP_FREQ_ANNUAL','SEX','SHIFT']].head()"
   ]
  },
  {
   "cell_type": "code",
   "execution_count": null,
   "metadata": {
    "collapsed": true
   },
   "outputs": [],
   "source": [
    "# assign 1 to Y, 0 to N for the following columns\n",
    "columns_to_fix_NY = ['INTERN','FULLPART1','RELOCATE_ALL_SFI','HUBIND','REMOTE','REMOTE_SUPV','SUPV_DIFF_LOC','PARTFULL1']\n",
    "#empltbl4['COMP_FREQ_ANNUAL'] = empltbl4[\n",
    "for acol in columns_to_fix_NY:\n",
    "    empltbl4.replace({acol :{'Y':1,'N':0}},inplace=True) "
   ]
  },
  {
   "cell_type": "code",
   "execution_count": null,
   "metadata": {
    "collapsed": false
   },
   "outputs": [],
   "source": [
    "sdf4"
   ]
  },
  {
   "cell_type": "code",
   "execution_count": null,
   "metadata": {
    "collapsed": false
   },
   "outputs": [],
   "source": [
    "sdf4[(sdf4.datatype=='object') &(sdf4.arity > 2)]"
   ]
  },
  {
   "cell_type": "code",
   "execution_count": null,
   "metadata": {
    "collapsed": false
   },
   "outputs": [],
   "source": [
    "pd.crosstab(empltbl4.VOLINVOL,empltbl4.sep_status)"
   ]
  },
  {
   "cell_type": "code",
   "execution_count": null,
   "metadata": {
    "collapsed": false
   },
   "outputs": [],
   "source": [
    "sum(empltbl4.sep_status <=1)"
   ]
  },
  {
   "cell_type": "code",
   "execution_count": null,
   "metadata": {
    "collapsed": false
   },
   "outputs": [],
   "source": [
    "vc_empl4 = empltbl4[empltbl4.sep_status<=1].copy()\n"
   ]
  },
  {
   "cell_type": "code",
   "execution_count": null,
   "metadata": {
    "collapsed": false
   },
   "outputs": [],
   "source": [
    "kmf_vc = KaplanMeierFitter()\n",
    "kmf_vc.fit(vc_empl4.Tenure_months, vc_empl4.status,label='ALL')\n",
    "kmf_vc.plot(color='darkslateblue')\n",
    "plt.ylabel('Survival Function')\n",
    "plt.xlabel('Tenure_months')"
   ]
  },
  {
   "cell_type": "code",
   "execution_count": null,
   "metadata": {
    "collapsed": false
   },
   "outputs": [],
   "source": [
    "vc_empl4.JOB_FUNCTION.value_counts()"
   ]
  },
  {
   "cell_type": "code",
   "execution_count": null,
   "metadata": {
    "collapsed": false
   },
   "outputs": [],
   "source": [
    "### Repeat for mgrs\n",
    "print mg_codes\n",
    "mgr = empltbl3.GRADE.isin(mg_codes)\n",
    "sum(mgr)"
   ]
  },
  {
   "cell_type": "code",
   "execution_count": null,
   "metadata": {
    "collapsed": false
   },
   "outputs": [],
   "source": [
    "#sum(vc_empl4[\n",
    "print len(vc_empl4[vc_empl4.GRADE.isin(mg_codes)])\n",
    "mgrA = vc_empl4.GRADE.isin(mg_codes)"
   ]
  },
  {
   "cell_type": "code",
   "execution_count": null,
   "metadata": {
    "collapsed": false
   },
   "outputs": [],
   "source": [
    "fig = plt.figure(figsize=(12.5,5))\n",
    "\n",
    "kmf_mgr1=KaplanMeierFitter()\n",
    "\n",
    "kmf_mgr1.fit(vc_empl4[mgrA].Tenure_months, timeline=tenure_month_range, event_observed=vc_empl4[mgrA].status,label='managers')\n",
    "mgrA_sf_df = pd.DataFrame(kmf_mgr1.survival_function_)\n",
    "ax = fig.add_subplot(111)\n",
    "kmf_mgr1.plot(ax=ax,c='darkgreen')\n",
    "kmf_mgr1.fit(vc_empl4[~mgrA].Tenure_months, timeline=tenure_month_range,event_observed=vc_empl4[~mgrA].status,label='non-managers')\n",
    "kmf_mgr1.plot(ax=ax,color='darkslategray')\n",
    "mgrA_sf_df = pd.concat([mgrA_sf_df,kmf_mgr1.survival_function_],axis=1)\n",
    "plt.ylim(0,1.05)\n",
    "plt.ylabel('Survival Distribution Function')\n",
    "plt.xlabel('Tenure Months')"
   ]
  },
  {
   "cell_type": "code",
   "execution_count": null,
   "metadata": {
    "collapsed": false
   },
   "outputs": [],
   "source": [
    "pb = vc_empl4.GRADE.isin(pb_codes)\n",
    "fig = plt.figure(figsize=(12.5,5))\n",
    "\n",
    "kmf_grade=KaplanMeierFitter()\n",
    "\n",
    "kmf_grade.fit(vc_empl4[pb].Tenure_months, timeline=tenure_month_range, event_observed=vc_empl4[pb].status,label='PB')\n",
    "#grade_sf_df = pd.DataFrame(kmf_grade.survival_function_)\n",
    "ax = fig.add_subplot(111)\n",
    "kmf_grade.plot(ax=ax,c='deepskyblue')\n",
    "kmf_grade.fit(vc_empl4[~pb].Tenure_months, timeline=tenure_month_range,event_observed=vc_empl4[~pb].status,label='non PB')\n",
    "kmf_grade.plot(ax=ax,color='darkslategray')\n",
    "plt.ylim(0,1.05)\n",
    "plt.ylabel('Survival Distribution Function')\n",
    "plt.xlabel('Tenure Months')"
   ]
  },
  {
   "cell_type": "code",
   "execution_count": null,
   "metadata": {
    "collapsed": false
   },
   "outputs": [],
   "source": [
    "kmf_grade.fit(vc_empl4[pb].Tenure_months, timeline=tenure_month_range, event_observed=vc_empl4[pb].status,label='PB')\n",
    "kmf_grade.survival_function_"
   ]
  },
  {
   "cell_type": "code",
   "execution_count": null,
   "metadata": {
    "collapsed": false
   },
   "outputs": [],
   "source": [
    "print pb_codes\n",
    "sum(pb)"
   ]
  },
  {
   "cell_type": "code",
   "execution_count": null,
   "metadata": {
    "collapsed": false
   },
   "outputs": [],
   "source": [
    "mgrA_sf_df "
   ]
  },
  {
   "cell_type": "code",
   "execution_count": null,
   "metadata": {
    "collapsed": true
   },
   "outputs": [],
   "source": [
    "def lin_interpolate_df(df,index_to_find):\n",
    "    #x1,x2 = locate_closest_indices(df,x)\n",
    "    my_min = df.ix[:index_to_find].index[-1]\n",
    "    my_max = df.ix[index_to_find:].index[0]\n",
    "    deltax = my_max-my_min\n",
    "    #print my_min, my_max\n",
    "    y_1 = df.ix[my_min]\n",
    "    y_2 = df.ix[my_max]\n",
    "    #print y_1, y_2\n",
    "    \n",
    "    deltay=df.ix[my_max]- y_1\n",
    "    slope = deltay/deltax\n",
    "    #print slope, deltax, deltay\n",
    "    my_value = y_1+slope*(index_to_find-my_min)\n",
    "    return my_value"
   ]
  },
  {
   "cell_type": "code",
   "execution_count": null,
   "metadata": {
    "collapsed": true
   },
   "outputs": [],
   "source": [
    "def calc_future_survival_proba(input_df,grp,sf_df,future_year_list):\n",
    "    ## define a new data frame to hold the information\n",
    "    current_tenure = input_df[grp][input_df.status==0].Tenure_months.copy()\n",
    "    #current_mgr.columns='Current_tenure'#,inplace=True)\n",
    "    new_df = pd.DataFrame()\n",
    "    for future_year in future_years_list:\n",
    "        cname = 'plus_'+str(future_year)+'yr'\n",
    "        survival_prob = [lin_interpolate_df(sf_df,x) for x in current_tenure.values+future_year*12.0]\n",
    "        a_df = pd.DataFrame(survival_prob,columns=[cname])\n",
    "        new_df = pd.concat([new_df,a_df],axis=1)\n",
    "    \n",
    "    print new_df.shape\n",
    "    return new_df"
   ]
  },
  {
   "cell_type": "markdown",
   "metadata": {},
   "source": [
    "## this is alternatively able to be done by doing sum(kmf.predict(current.Tenure_months+t))/len(current)"
   ]
  },
  {
   "cell_type": "code",
   "execution_count": null,
   "metadata": {
    "collapsed": false
   },
   "outputs": [],
   "source": [
    "mgrA_sf_df['managers']"
   ]
  },
  {
   "cell_type": "code",
   "execution_count": null,
   "metadata": {
    "collapsed": true
   },
   "outputs": [],
   "source": [
    "fig = plt.figure(figsize=(12.5,5))\n",
    "\n",
    "kmf_mgr1=KaplanMeierFitter()\n",
    "\n",
    "kmf_mgr1.fit(vc_empl4[mgrA].Tenure_months, timeline=tenure_month_range, event_observed=vc_empl4[mgrA].status,label='managers')\n",
    "mgrA_sf_df = pd.DataFrame(kmf_mgr1.survival_function_)\n",
    "ax = fig.add_subplot(111)\n",
    "kmf_mgr1.plot(ax=ax,c='darkgreen')\n",
    "kmf_mgr1.fit(vc_empl4[~mgrA].Tenure_months, timeline=tenure_month_range,event_observed=vc_empl4[~mgrA].status,label='non-managers')\n",
    "kmf_mgr1.plot(ax=ax,color='darkslategray')\n",
    "mgrA_sf_df = pd.concat([mgrA_sf_df,kmf_mgr1.survival_function_],axis=1)\n",
    "plt.ylim(0,1.05)\n",
    "plt.ylabel('Survival Distribution Function')\n",
    "plt.xlabel('Tenure Months')"
   ]
  },
  {
   "cell_type": "code",
   "execution_count": null,
   "metadata": {
    "collapsed": false
   },
   "outputs": [],
   "source": [
    "mgrA_surv_prob = calc_future_survival_proba(vc_empl4,mgrA,mgrA_sf_df['managers'],future_years_list)"
   ]
  },
  {
   "cell_type": "code",
   "execution_count": null,
   "metadata": {
    "collapsed": false
   },
   "outputs": [],
   "source": [
    "plt.plot(future_years_list,mgrA_surv_prob.sum()/len(mgrA_surv_prob),'*:',color='steelblue')"
   ]
  },
  {
   "cell_type": "code",
   "execution_count": null,
   "metadata": {
    "collapsed": false
   },
   "outputs": [],
   "source": [
    "mgrA_surv_prob.sum()/len(mgrA_surv_prob)"
   ]
  },
  {
   "cell_type": "code",
   "execution_count": null,
   "metadata": {
    "collapsed": false
   },
   "outputs": [],
   "source": [
    "ues = vc_empl4.GRADE=='UES'\n",
    "print sum(ues)"
   ]
  },
  {
   "cell_type": "code",
   "execution_count": null,
   "metadata": {
    "collapsed": true
   },
   "outputs": [],
   "source": [
    "pd.crosstab(vc_empl4.GRADE,vc_empl4.status)"
   ]
  },
  {
   "cell_type": "code",
   "execution_count": null,
   "metadata": {
    "collapsed": false
   },
   "outputs": [],
   "source": [
    "fig = plt.figure(figsize=(12.5,5))\n",
    "\n",
    "kmf_ues=KaplanMeierFitter()\n",
    "\n",
    "kmf_ues.fit(vc_empl4[ues].Tenure_months, timeline=tenure_month_range, event_observed=vc_empl4[ues].status,label='UES')\n",
    "tmp_df = pd.DataFrame(kmf_ues.survival_function_)\n",
    "ax = fig.add_subplot(111)\n",
    "kmf_ues.plot(ax=ax,c='darkorange')\n",
    "kmf_ues.fit(vc_empl4[~ues].Tenure_months, timeline=tenure_month_range,event_observed=vc_empl4[~ues].status,label='non-UES')\n",
    "kmf_ues.plot(ax=ax,color='darkslategray')\n",
    "tmp_df = pd.concat([tmp_df,kmf_ues.survival_function_],axis=1)\n",
    "plt.ylim(0,1.05)\n",
    "plt.ylabel('Survival Distribution Function')\n",
    "plt.xlabel('Tenure Months')"
   ]
  },
  {
   "cell_type": "code",
   "execution_count": null,
   "metadata": {
    "collapsed": false
   },
   "outputs": [],
   "source": [
    "tmp_df.head()"
   ]
  },
  {
   "cell_type": "code",
   "execution_count": null,
   "metadata": {
    "collapsed": false
   },
   "outputs": [],
   "source": [
    "vc_empl4[ues][vc_empl4['status']==0].head()"
   ]
  },
  {
   "cell_type": "code",
   "execution_count": null,
   "metadata": {
    "collapsed": false
   },
   "outputs": [],
   "source": [
    "len(tmp_df)"
   ]
  },
  {
   "cell_type": "code",
   "execution_count": null,
   "metadata": {
    "collapsed": false
   },
   "outputs": [],
   "source": [
    "#kmf_grade.survival_function_\n",
    "#tmp_df = pd.DataFrame(kmf_grade.survival_function_)\n",
    "ues_surv_prob = calc_future_survival_proba(vc_empl4,ues,tmp_df['UES'],future_years_list)\n",
    "ues_surv_prob.sum()/len(vc_empl4[ues][vc_empl4.status==0])"
   ]
  },
  {
   "cell_type": "code",
   "execution_count": null,
   "metadata": {
    "collapsed": false
   },
   "outputs": [],
   "source": [
    "ues_surv_prob.sum()/sum(ues)"
   ]
  },
  {
   "cell_type": "code",
   "execution_count": null,
   "metadata": {
    "collapsed": false
   },
   "outputs": [],
   "source": [
    "empltbl4.columns"
   ]
  },
  {
   "cell_type": "code",
   "execution_count": null,
   "metadata": {
    "collapsed": false
   },
   "outputs": [],
   "source": [
    "vc_empl4.columns"
   ]
  },
  {
   "cell_type": "code",
   "execution_count": null,
   "metadata": {
    "collapsed": false
   },
   "outputs": [],
   "source": [
    "# encode the VOLINVOL column as ['INVOLUNTARY':2,'VOLUNTARY':1,'NOT':0,'\n",
    "empltbl4['sep_status'] = empltbl4['VOLINVOL'].replace({'NOT':0,'VOLUNTARY':1,'INVOLUNTARY':2,'OTHER':3,'UNKNOWN':3})\n",
    "empltbl4.sep_status.value_counts()"
   ]
  },
  {
   "cell_type": "code",
   "execution_count": null,
   "metadata": {
    "collapsed": false
   },
   "outputs": [],
   "source": [
    "pd.crosstab(empltbl4.status,empltbl4.sep_status)"
   ]
  },
  {
   "cell_type": "markdown",
   "metadata": {},
   "source": [
    "## Explore differences between voluntary/involuntary and Not "
   ]
  },
  {
   "cell_type": "code",
   "execution_count": null,
   "metadata": {
    "collapsed": false
   },
   "outputs": [],
   "source": [
    "volunt = empltbl3[empltbl3.VOLINVOL=='VOLUNTARY'].copy()\n",
    "current = empltbl3[empltbl3.VOLINVOL=='NOT'].copy()\n",
    "involu = empltbl3[empltbl3.VOLINVOL=='INVOLUNTARY'].copy()\n",
    "empl_df_list = [current,volunt,involu]\n",
    "print [len(a) for a in empl_df_list]"
   ]
  },
  {
   "cell_type": "code",
   "execution_count": null,
   "metadata": {
    "collapsed": false
   },
   "outputs": [],
   "source": [
    "len(empltbl3[(empltbl3.VOLINVOL=='VOLUNTARY') |(empltbl3.VOLINVOL=='NOT')])"
   ]
  },
  {
   "cell_type": "code",
   "execution_count": null,
   "metadata": {
    "collapsed": true
   },
   "outputs": [],
   "source": [
    "empl_df_list_colors =['indianred','steelblue','darkkhaki']\n",
    "empl_df_list_alphas =[1.0,0.7,0.4]\n",
    "empl_df_list_label = ['current','voluntary','involuntary']"
   ]
  },
  {
   "cell_type": "code",
   "execution_count": null,
   "metadata": {
    "collapsed": false
   },
   "outputs": [],
   "source": [
    "## define histogram bin ranges\n",
    "tenure_year_bin_range = [0,59]\n",
    "age_year_bin_range = [15,84]"
   ]
  },
  {
   "cell_type": "code",
   "execution_count": null,
   "metadata": {
    "collapsed": false
   },
   "outputs": [],
   "source": [
    "plt.figure(figsize=(12,8))\n",
    "for idx in xrange(0,len(empl_df_list)):\n",
    "    my_color = empl_df_list_colors[idx]\n",
    "    my_alpha = empl_df_list_alphas[idx]\n",
    "    empl_df_list[idx].Age_years.hist(bins=70,range=age_year_bin_range,color=my_color,alpha=my_alpha,normed=True,label=empl_df_list_label[idx])\n",
    "    plt.legend()\n",
    "    plt.xlabel('Age in Years')\n",
    "    plt.ylabel('Normed Counts')\n",
    "    plt.title('Distribution of Workforce Ages')"
   ]
  },
  {
   "cell_type": "code",
   "execution_count": null,
   "metadata": {
    "collapsed": false
   },
   "outputs": [],
   "source": [
    "len(empltbl3[(empltbl3.VOLINVOL=='VOLUNTARY') & (empltbl3.Age_years > 54)])"
   ]
  },
  {
   "cell_type": "code",
   "execution_count": null,
   "metadata": {
    "collapsed": false
   },
   "outputs": [],
   "source": [
    "plt.figure(figsize=(12,8))\n",
    "for idx in xrange(0,len(empl_df_list)):\n",
    "    my_color = empl_df_list_colors[idx]\n",
    "    my_alpha = empl_df_list_alphas[idx]\n",
    "    empl_df_list[idx].Tenure_years.hist(bins=60,range=tenure_year_bin_range,color=my_color,alpha=my_alpha,normed=True,label=empl_df_list_label[idx])\n",
    "    plt.legend()\n",
    "    plt.xlabel('Tenure in Years')\n",
    "    plt.ylabel('Normed Counts')\n",
    "    plt.title('Distribution of Workforce Tenures')"
   ]
  },
  {
   "cell_type": "code",
   "execution_count": null,
   "metadata": {
    "collapsed": false
   },
   "outputs": [],
   "source": [
    "empltbl3.DIVISION_CODE_SFI.value_counts()"
   ]
  },
  {
   "cell_type": "code",
   "execution_count": null,
   "metadata": {
    "collapsed": false
   },
   "outputs": [],
   "source": [
    "pd.crosstab(empltbl3.DIVISION_CODE_SFI,empltbl3.COMPANY)#.value_counts()"
   ]
  },
  {
   "cell_type": "code",
   "execution_count": null,
   "metadata": {
    "collapsed": false
   },
   "outputs": [],
   "source": [
    "empltbl3[empltbl2.INTERN=='Y'].Tenure_months.hist(color='darkslategray',bins=80,normed=True)\n",
    "empltbl3[empltbl2.INTERN=='N'].Tenure_months.hist(color='darkturquoise',bins=80,alpha=0.5, normed=True)"
   ]
  },
  {
   "cell_type": "markdown",
   "metadata": {},
   "source": [
    "## Look at how many have missing SKEY\n",
    "* only one in the current table."
   ]
  },
  {
   "cell_type": "code",
   "execution_count": null,
   "metadata": {
    "collapsed": false
   },
   "outputs": [],
   "source": [
    "#len(current[current.SKEY.isnull()][['Age_years','Tenure_months','COMPANY','GRADE','ANNUAL_RT','KEY']])\n",
    "ceo_key = current[current.SKEY.isnull()].KEY.values[0]\n",
    "print ceo_key\n",
    "print current[current.SKEY.isnull()][['Age_years','Tenure_months','COMPANY','GRADE','ANNUAL_RT','KEY']]"
   ]
  },
  {
   "cell_type": "code",
   "execution_count": null,
   "metadata": {
    "collapsed": false
   },
   "outputs": [],
   "source": [
    "len(empltbl3.KEY.unique()), len(empltbl3.SKEY.unique()),len(current.SKEY.unique())"
   ]
  },
  {
   "cell_type": "code",
   "execution_count": null,
   "metadata": {
    "collapsed": false
   },
   "outputs": [],
   "source": [
    "## How many are missing SKEY in retired.\n",
    "sum(empltbl3[empltbl3.status==1].SKEY.isnull())"
   ]
  },
  {
   "cell_type": "markdown",
   "metadata": {
    "collapsed": true
   },
   "source": [
    "# do survival analysis for each GRADE\n",
    "* column == 'GRADE' \n",
    "* arity = 164\n",
    "* Define a min-threshold of GRADE to look at.\n"
   ]
  },
  {
   "cell_type": "code",
   "execution_count": null,
   "metadata": {
    "collapsed": false
   },
   "outputs": [],
   "source": [
    "empltbl3.GRADE.value_counts().hist(color='forestgreen',bins=30)"
   ]
  },
  {
   "cell_type": "code",
   "execution_count": null,
   "metadata": {
    "collapsed": false
   },
   "outputs": [],
   "source": [
    "## start with top 20 grades:\n",
    "empltbl3.GRADE.value_counts()[:20]"
   ]
  },
  {
   "cell_type": "markdown",
   "metadata": {},
   "source": [
    "## Survival analysis"
   ]
  },
  {
   "cell_type": "code",
   "execution_count": null,
   "metadata": {
    "collapsed": true
   },
   "outputs": [],
   "source": [
    "#use lifelines\n",
    "from lifelines import KaplanMeierFitter\n",
    "kmf0 = KaplanMeierFitter()"
   ]
  },
  {
   "cell_type": "code",
   "execution_count": null,
   "metadata": {
    "collapsed": false
   },
   "outputs": [],
   "source": [
    "\n",
    "plt.figure(figsize=(14,6))\n",
    "\n",
    "kmf0.fit(empltbl3.Tenure_months, event_observed=empltbl3.status)\n",
    "kmf0.plot(color='darkslategray')\n",
    "plt.ylabel('Survival Distribution Function')\n",
    "plt.xlabel('Tenure months')\n",
    "plt.title('KaplanMeier Survival: ALL employees')"
   ]
  },
  {
   "cell_type": "code",
   "execution_count": null,
   "metadata": {
    "collapsed": false
   },
   "outputs": [],
   "source": [
    "## define the range so all are on the same scale\n",
    "min_tenure_months= empltbl3.Tenure_months.min()\n",
    "max_tenure_months = empltbl3.Tenure_months.max()\n",
    "print min_tenure_months, max_tenure_months\n",
    "tenure_month_range = np.linspace(min_tenure_months,max_tenure_months,66)\n",
    "len(tenure_month_range)"
   ]
  },
  {
   "cell_type": "code",
   "execution_count": null,
   "metadata": {
    "collapsed": false
   },
   "outputs": [],
   "source": [
    "empltbl3.GRADE.value_counts()[:40]"
   ]
  },
  {
   "cell_type": "code",
   "execution_count": null,
   "metadata": {
    "collapsed": true
   },
   "outputs": [],
   "source": [
    "## replace nan with 'XXX'\n",
    "empltbl3.GRADE.fillna('XXX',inplace=True)"
   ]
  },
  {
   "cell_type": "code",
   "execution_count": null,
   "metadata": {
    "collapsed": false
   },
   "outputs": [],
   "source": [
    "mg_codes = [x for x in list(empltbl3.GRADE.unique()) if  str(x).startswith('MG')]"
   ]
  },
  {
   "cell_type": "code",
   "execution_count": null,
   "metadata": {
    "collapsed": true
   },
   "outputs": [],
   "source": [
    "mg_codes = [x for x in list(empltbl3.GRADE.unique()) if  str(x).startswith('MG')]\n",
    "clvl_codes = [x for x in list(empltbl3.GRADE.unique()) if str(x).startswith('C')]\n",
    "ra_codes = [x for x in list(empltbl3.GRADE.unique()) if str(x).startswith('RA')]\n",
    "re_codes = [x for x in list(empltbl3.GRADE.unique()) if str(x).startswith('RE')]\n",
    "rd_codes = [x for x in list(empltbl3.GRADE.unique()) if str(x).startswith('RD')]\n",
    "pa_codes = [x for x in list(empltbl3.GRADE.unique()) if str(x).startswith('PA')]\n",
    "pb_codes = [x for x in list(empltbl3.GRADE.unique()) if str(x).startswith('PB')]\n",
    "ma_codes = [x for x in list(empltbl3.GRADE.unique()) if str(x).startswith('MA')]\n",
    "sf_codes = [x for x in list(empltbl3.GRADE.unique()) if str(x).startswith('SF')]\n",
    "rb_codes = [x for x in list(empltbl3.GRADE.unique()) if str(x).startswith('RB')]\n",
    "rc_codes = [x for x in list(empltbl3.GRADE.unique()) if str(x).startswith('RC')]\n",
    "pc_codes = [x for x in list(empltbl3.GRADE.unique()) if str(x).startswith('PC')]\n",
    "l_codes = [x for x in list(empltbl3.GRADE.unique()) if str(x).startswith('L')]\n",
    "fa_codes = [x for x in list(empltbl3.GRADE.unique()) if str(x).startswith('FA')]\n",
    "u_codes = [x for x in list(empltbl3.GRADE.unique()) if str(x).startswith('U')]\n",
    "i_codes = [x for x in list(empltbl3.GRADE.unique()) if str(x).startswith('I')]\n",
    "a_codes = [x for x in list(empltbl3.GRADE.unique()) if str(x).startswith('A')]\n",
    "b_codes = [x for x in list(empltbl3.GRADE.unique()) if str(x).startswith('B')]\n",
    "#ri_codes = [x for x in list(empltbl3.GRADE.unique()) if str(x).startswith('RI')]\n",
    "# assign missing and non to non_codes\n",
    "non_codes = ['NON','XXX']\n",
    "m_codes = ['M1N','M2N','M3N','M10']\n",
    "rx_codes = ['RF1', 'RF2', 'RF3', 'RG1', 'RG2', 'RG3', 'RG4', 'RH1', 'RH2', 'RH3', 'RH4', \n",
    "            'RI2', 'RI3', 'RJ2', 'RJ3', 'RJ4', 'RK3','RL1', 'RL2', 'RL3', 'RL4', 'RM2']\n",
    "# combine\n",
    "two_codes = [x for x in list(empltbl3.GRADE.unique()) if str(x).startswith('2')]\n",
    "t_codes = [x for x in list(empltbl3.GRADE.unique()) if str(x).startswith('T')]\n",
    "oth_codes = i_codes+two_codes+t_codes+a_codes\n",
    "oth_codes.append('ZFL')\n"
   ]
  },
  {
   "cell_type": "code",
   "execution_count": null,
   "metadata": {
    "collapsed": false
   },
   "outputs": [],
   "source": [
    "grade_groupings_list_A = [mg_codes,clvl_codes,ma_codes,pa_codes,pb_codes,sf_codes, ra_codes,rd_codes,re_codes, rb_codes, rc_codes,\n",
    "                          pc_codes,l_codes,fa_codes, u_codes,b_codes,non_codes,m_codes,rx_codes,oth_codes]\n",
    "len(grade_groupings_list_A)\n"
   ]
  },
  {
   "cell_type": "code",
   "execution_count": null,
   "metadata": {
    "collapsed": false
   },
   "outputs": [],
   "source": [
    "e3_grade_function_crosstab = pd.crosstab(empltbl3.GRADE,empltbl3.JOB_FUNCTION)\n",
    "e3_grade_function_crosstab.MGT "
   ]
  },
  {
   "cell_type": "code",
   "execution_count": null,
   "metadata": {
    "collapsed": false
   },
   "outputs": [],
   "source": [
    "e3_grade_function_crosstab[e3_grade_function_crosstab.MGT>0] "
   ]
  },
  {
   "cell_type": "code",
   "execution_count": null,
   "metadata": {
    "collapsed": false
   },
   "outputs": [],
   "source": [
    "e3_grade_function_crosstab[e3_grade_function_crosstab.PTB>0] "
   ]
  },
  {
   "cell_type": "code",
   "execution_count": null,
   "metadata": {
    "collapsed": false
   },
   "outputs": [],
   "source": [
    "for g in grade_groupings_list_A:\n",
    "    print sum(empltbl3.GRADE.isin(g)), g"
   ]
  },
  {
   "cell_type": "code",
   "execution_count": null,
   "metadata": {
    "collapsed": false
   },
   "outputs": [],
   "source": [
    "from itertools import chain\n",
    "used_grades = list(chain.from_iterable(grade_groupings_list_A))\n",
    "sum(empltbl3.GRADE.isin(used_grades)), len(empltbl3)"
   ]
  },
  {
   "cell_type": "code",
   "execution_count": null,
   "metadata": {
    "collapsed": false
   },
   "outputs": [],
   "source": [
    "sorted([x for x in empltbl3.GRADE.unique() if x.startswith('R')])"
   ]
  },
  {
   "cell_type": "code",
   "execution_count": null,
   "metadata": {
    "collapsed": false
   },
   "outputs": [],
   "source": [
    "empltbl3[~empltbl3.GRADE.isin(used_grades)].GRADE.value_counts()"
   ]
  },
  {
   "cell_type": "code",
   "execution_count": null,
   "metadata": {
    "collapsed": false
   },
   "outputs": [],
   "source": [
    "empltbl3.GRADE.value_counts()[40:85]"
   ]
  },
  {
   "cell_type": "markdown",
   "metadata": {},
   "source": [
    "## now look at each of the top 10 grades:"
   ]
  },
  {
   "cell_type": "code",
   "execution_count": null,
   "metadata": {
    "collapsed": false
   },
   "outputs": [],
   "source": [
    "# create a dataFrame of these survival functions.\n",
    "\n",
    "\n",
    "fig = plt.figure(figsize=(12.5,5))\n",
    "#figsize(16,8)\n",
    "\n",
    "top10grades = list(empltbl3.GRADE.value_counts()[:85].index)\n",
    "kmf_grade=KaplanMeierFitter()\n",
    "\n",
    "kmf_grade.fit(empltbl3.Tenure_months, timeline=tenure_month_range, event_observed=empltbl3.status,label='ALL')\n",
    "grade_sf_df = pd.DataFrame(kmf_grade.survival_function_)\n",
    "ax=fig.add_subplot(111)\n",
    "kmf_grade.plot(ax=ax,c='darkslategray')\n",
    "for grade in top10grades:\n",
    "    \n",
    "    #plt.figure(figsize=(20,10))\n",
    "    em_grade = empltbl3[empltbl3.GRADE == grade]\n",
    "    kmf_grade.fit(em_grade.Tenure_months, timeline=tenure_month_range,event_observed=em_grade.status,label=grade)\n",
    "    if grade.startswith('MG'):\n",
    "        kmf_grade.plot(ax=ax)\n",
    "    grade_sf_df = pd.concat([grade_sf_df,kmf_grade.survival_function_],axis=1)\n",
    "#kmf_gender.fit(female.Tenure_months,  timeline=tenure_month_range,event_observed=female.status)\n",
    "#kmf_gender.plot(ax=ax, c='deeppink',label='Female')\n",
    "\n",
    "plt.ylim(0,1.05)\n",
    "plt.ylabel('Survival Distribution Function')\n",
    "plt.xlabel('Tenure Months')\n"
   ]
  },
  {
   "cell_type": "code",
   "execution_count": null,
   "metadata": {
    "collapsed": false
   },
   "outputs": [],
   "source": [
    "grade_sf_df.columns"
   ]
  },
  {
   "cell_type": "code",
   "execution_count": null,
   "metadata": {
    "collapsed": false
   },
   "outputs": [],
   "source": [
    "mgr = ((empltbl3.GRADE == 'MG2') |(empltbl3.GRADE == 'MG3') | (empltbl3.GRADE == 'MG4'))\n",
    "sum(mgr)"
   ]
  },
  {
   "cell_type": "code",
   "execution_count": null,
   "metadata": {
    "collapsed": false
   },
   "outputs": [],
   "source": [
    "mgr = empltbl3.GRADE.isin(mg_codes)\n",
    "sum(mgr)"
   ]
  },
  {
   "cell_type": "code",
   "execution_count": null,
   "metadata": {
    "collapsed": false
   },
   "outputs": [],
   "source": [
    "from lifelines.statistics import logrank_test\n",
    "summary, p_value, test_results = logrank_test(empltbl3[mgr].Tenure_months, empltbl3[~mgr].Tenure_months, empltbl3[mgr].status, empltbl3[~mgr].status, alpha=.99 )\n",
    "print summary"
   ]
  },
  {
   "cell_type": "code",
   "execution_count": null,
   "metadata": {
    "collapsed": false
   },
   "outputs": [],
   "source": [
    "fig = plt.figure(figsize=(12.5,5))\n",
    "\n",
    "kmf_grade=KaplanMeierFitter()\n",
    "\n",
    "kmf_grade.fit(empltbl3[mgr].Tenure_months, timeline=tenure_month_range, event_observed=empltbl3[mgr].status,label='managers')\n",
    "mgr_sf_df = pd.DataFrame(kmf_grade.survival_function_)\n",
    "ax = fig.add_subplot(111)\n",
    "kmf_grade.plot(ax=ax,c='darkred')\n",
    "kmf_grade.fit(empltbl3[~mgr].Tenure_months, timeline=tenure_month_range,event_observed=empltbl3[~mgr].status,label='non-managers')\n",
    "kmf_grade.plot(ax=ax,color='darkslategray')\n",
    "mgr_sf_df = pd.concat([mgr_sf_df,kmf_grade.survival_function_],axis=1)\n",
    "plt.ylim(0,1.05)\n",
    "plt.ylabel('Survival Distribution Function')\n",
    "plt.xlabel('Tenure Months')"
   ]
  },
  {
   "cell_type": "markdown",
   "metadata": {},
   "source": [
    "## BIGGER QUESTION IS whether this tenure is descriptive or proscriptive\n"
   ]
  },
  {
   "cell_type": "code",
   "execution_count": null,
   "metadata": {
    "collapsed": false
   },
   "outputs": [],
   "source": [
    "empltbl3[mgr].Tenure_months.hist(normed=True,alpha=0.3)\n",
    "empltbl3[mgr][empltbl3.status==0].Tenure_months.hist(normed=True,color='indianred',alpha=.3)"
   ]
  },
  {
   "cell_type": "markdown",
   "metadata": {
    "collapsed": true
   },
   "source": [
    "## Take the set of employees that don't leave and calculate out their survival function in the future\n",
    "* look at [1,10] years in the future for each.\n",
    "* sum over all\n",
    "* also get lower CL and upper CL\n",
    "* divide sum by count to get % remaining.\n"
   ]
  },
  {
   "cell_type": "code",
   "execution_count": null,
   "metadata": {
    "collapsed": false
   },
   "outputs": [],
   "source": [
    "mgr_sf_df.head(), len(mgr_sf_df)"
   ]
  },
  {
   "cell_type": "code",
   "execution_count": null,
   "metadata": {
    "collapsed": false
   },
   "outputs": [],
   "source": [
    "mgr_df = pd.DataFrame(empltbl3[mgr].Tenure_months)"
   ]
  },
  {
   "cell_type": "code",
   "execution_count": null,
   "metadata": {
    "collapsed": false
   },
   "outputs": [],
   "source": [
    "[x for x in empltbl3[mgr][empltbl3.status==0].Tenure_months+12.0]"
   ]
  },
  {
   "cell_type": "code",
   "execution_count": null,
   "metadata": {
    "collapsed": false
   },
   "outputs": [],
   "source": [
    "mgr_sf_df.ix[:339.36].index[-1], mgr_sf_df.ix[339.36:].index[0]"
   ]
  },
  {
   "cell_type": "code",
   "execution_count": null,
   "metadata": {
    "collapsed": false
   },
   "outputs": [],
   "source": [
    "locate_closest_indices(mgr_sf_df, 339.36)"
   ]
  },
  {
   "cell_type": "code",
   "execution_count": null,
   "metadata": {
    "collapsed": true
   },
   "outputs": [],
   "source": [
    "def locate_closest_indices(df,index_to_find):\n",
    "    my_min = df.ix[:index_to_find].index[-1]\n",
    "    my_max = df.ix[index_to_find:].index[0]\n",
    "    #.index <= index_to_find\n",
    "    #my_max = df.index >=index_to_find\n",
    "    print index_to_find, my_min, my_max\n",
    "    return my_min,my_max"
   ]
  },
  {
   "cell_type": "code",
   "execution_count": null,
   "metadata": {
    "collapsed": true
   },
   "outputs": [],
   "source": [
    "def lin_interpolate(df,index_to_find,ycol):\n",
    "    #x1,x2 = locate_closest_indices(df,x)\n",
    "    my_min = df.ix[:index_to_find].index[-1]\n",
    "    my_max = df.ix[index_to_find:].index[0]\n",
    "    deltax = my_max-my_min\n",
    "    #print my_min, my_max\n",
    "    y_1 = df[ycol].ix[my_min]\n",
    "    y_2 = df[ycol].ix[my_max]\n",
    "    #print y_1, y_2\n",
    "    \n",
    "    deltay=df[ycol].ix[my_max]- y_1\n",
    "    slope = deltay/deltax\n",
    "    #print slope, deltax, deltay\n",
    "    my_value = y_1+slope*(index_to_find-my_min)\n",
    "    return my_value"
   ]
  },
  {
   "cell_type": "code",
   "execution_count": null,
   "metadata": {
    "collapsed": false
   },
   "outputs": [],
   "source": [
    "mgr_sf_df.ix[mgr_sf_df.ix[:339.36].index[-1]:mgr_sf_df.ix[339.36:].index[0]]#.plot()#.interpolate()"
   ]
  },
  {
   "cell_type": "code",
   "execution_count": null,
   "metadata": {
    "collapsed": false
   },
   "outputs": [],
   "source": [
    "lin_interpolate(mgr_sf_df,339.36,'managers')"
   ]
  },
  {
   "cell_type": "code",
   "execution_count": null,
   "metadata": {
    "collapsed": true
   },
   "outputs": [],
   "source": [
    "index_to_find = 371.1\n",
    "\n",
    "my_min = df['A'] <= value_to_find\n",
    "Max = df['A'] >= value_to_find\n",
    "idx_Min = df.ix[Min, 'A'].idxmax()\n",
    "idx_Max = df.ix[Max, 'A'].idxmin()\n",
    "df.ix[idx_Min:idx_Max, ['A','B']]"
   ]
  },
  {
   "cell_type": "code",
   "execution_count": null,
   "metadata": {
    "collapsed": false
   },
   "outputs": [],
   "source": [
    "# add 1 to 10 years in to future\n",
    "future_years_list = np.arange(1,11)\n",
    "future_years_list*12.0"
   ]
  },
  {
   "cell_type": "code",
   "execution_count": null,
   "metadata": {
    "collapsed": false
   },
   "outputs": [],
   "source": [
    "plus_1yr = [lin_interpolate(mgr_sf_df,x,'managers') for x in empltbl3[mgr][empltbl3.status==0].Tenure_months+12.0]"
   ]
  },
  {
   "cell_type": "code",
   "execution_count": null,
   "metadata": {
    "collapsed": false
   },
   "outputs": [],
   "source": [
    "len(plus_1yr)"
   ]
  },
  {
   "cell_type": "code",
   "execution_count": null,
   "metadata": {
    "collapsed": false
   },
   "outputs": [],
   "source": [
    "current_mgr.Tenure_months.values"
   ]
  },
  {
   "cell_type": "code",
   "execution_count": null,
   "metadata": {
    "collapsed": false
   },
   "outputs": [],
   "source": [
    "future_year"
   ]
  },
  {
   "cell_type": "code",
   "execution_count": null,
   "metadata": {
    "collapsed": false
   },
   "outputs": [],
   "source": [
    "## define a new data frame to hold the information\n",
    "current_mgr = empltbl3[mgr][empltbl3.status==0].Tenure_months.copy()\n",
    "#current_mgr.columns='Current_tenure'#,inplace=True)\n",
    "new_df = pd.DataFrame()\n",
    "for future_year in future_years_list:\n",
    "    cname = 'plus_'+str(future_year)+'yr'\n",
    "    survival_prob = [lin_interpolate(mgr_sf_df,x,'managers') for x in current_mgr.values+future_year*12.0]\n",
    "    a_df = pd.DataFrame(survival_prob,columns=[cname])\n",
    "    new_df = pd.concat([new_df,a_df],axis=1)\n",
    "    \n",
    "print new_df.shape"
   ]
  },
  {
   "cell_type": "code",
   "execution_count": null,
   "metadata": {
    "collapsed": false
   },
   "outputs": [],
   "source": [
    "new_df.head()"
   ]
  },
  {
   "cell_type": "code",
   "execution_count": null,
   "metadata": {
    "collapsed": false
   },
   "outputs": [],
   "source": [
    "new_df.sum()/len(new_df)"
   ]
  },
  {
   "cell_type": "code",
   "execution_count": null,
   "metadata": {
    "collapsed": true
   },
   "outputs": [],
   "source": []
  },
  {
   "cell_type": "code",
   "execution_count": null,
   "metadata": {
    "collapsed": false
   },
   "outputs": [],
   "source": [
    "hold_df = mgr_sf_df.copy()"
   ]
  },
  {
   "cell_type": "code",
   "execution_count": null,
   "metadata": {
    "collapsed": false
   },
   "outputs": [],
   "source": [
    "clvl_codes"
   ]
  },
  {
   "cell_type": "code",
   "execution_count": null,
   "metadata": {
    "collapsed": false
   },
   "outputs": [],
   "source": [
    "clvl = empltbl3.GRADE.isin(clvl_codes)\n",
    "sum(clvl)"
   ]
  },
  {
   "cell_type": "code",
   "execution_count": null,
   "metadata": {
    "collapsed": false
   },
   "outputs": [],
   "source": [
    "sum(empltbl3[clvl].status==0)"
   ]
  },
  {
   "cell_type": "code",
   "execution_count": null,
   "metadata": {
    "collapsed": false
   },
   "outputs": [],
   "source": [
    "fig = plt.figure(figsize=(12.5,5))\n",
    "\n",
    "kmf_grade=KaplanMeierFitter()\n",
    "\n",
    "kmf_grade.fit(empltbl3[clvl].Tenure_months, timeline=tenure_month_range, event_observed=empltbl3[clvl].status,label='C-Level')\n",
    "#grade_sf_df = pd.DataFrame(kmf_grade.survival_function_)\n",
    "ax = fig.add_subplot(111)\n",
    "kmf_grade.plot(ax=ax,c='darkred')\n",
    "kmf_grade.fit(empltbl3[~clvl].Tenure_months, timeline=tenure_month_range,event_observed=empltbl3[~clvl].status,label='non C-level')\n",
    "kmf_grade.plot(ax=ax,color='darkslategray')\n",
    "plt.ylim(0,1.05)\n",
    "plt.ylabel('Survival Distribution Function')\n",
    "plt.xlabel('Tenure Months')"
   ]
  },
  {
   "cell_type": "markdown",
   "metadata": {},
   "source": [
    "### look at different PA/RA"
   ]
  },
  {
   "cell_type": "code",
   "execution_count": null,
   "metadata": {
    "collapsed": false
   },
   "outputs": [],
   "source": [
    "ra = empltbl3.GRADE.isin(ra_codes)\n",
    "print sum(ra), ra_codes"
   ]
  },
  {
   "cell_type": "code",
   "execution_count": null,
   "metadata": {
    "collapsed": false
   },
   "outputs": [],
   "source": [
    "rd = empltbl3.GRADE.isin(rd_codes)\n",
    "print sum(rd), rd_codes\n",
    "for code in rd_codes:\n",
    "    print code,sum(empltbl3.GRADE == code)"
   ]
  },
  {
   "cell_type": "code",
   "execution_count": null,
   "metadata": {
    "collapsed": false
   },
   "outputs": [],
   "source": [
    "fig = plt.figure(figsize=(12.5,5))\n",
    "\n",
    "kmf_grade=KaplanMeierFitter()\n",
    "\n",
    "kmf_grade.fit(empltbl3[ra].Tenure_months, timeline=tenure_month_range, event_observed=empltbl3[ra].status,label='RA')\n",
    "#grade_sf_df = pd.DataFrame(kmf_grade.survival_function_)\n",
    "ax = fig.add_subplot(111)\n",
    "kmf_grade.plot(ax=ax,c='darkred')\n",
    "kmf_grade.fit(empltbl3[~ra].Tenure_months, timeline=tenure_month_range,event_observed=empltbl3[~ra].status,label='non RA')\n",
    "kmf_grade.plot(ax=ax,color='darkslategray')\n",
    "plt.ylim(0,1.05)\n",
    "plt.ylabel('Survival Distribution Function')\n",
    "plt.xlabel('Tenure Months')"
   ]
  },
  {
   "cell_type": "code",
   "execution_count": null,
   "metadata": {
    "collapsed": false
   },
   "outputs": [],
   "source": [
    "fig = plt.figure(figsize=(12.5,5))\n",
    "\n",
    "kmf_grade=KaplanMeierFitter()\n",
    "\n",
    "kmf_grade.fit(empltbl3[rd].Tenure_months, timeline=tenure_month_range, event_observed=empltbl3[rd].status,label='RD')\n",
    "#grade_sf_df = pd.DataFrame(kmf_grade.survival_function_)\n",
    "ax = fig.add_subplot(111)\n",
    "kmf_grade.plot(ax=ax,c='darkred')\n",
    "kmf_grade.fit(empltbl3[~rd].Tenure_months, timeline=tenure_month_range,event_observed=empltbl3[~rd].status,label='non RD')\n",
    "kmf_grade.plot(ax=ax,color='darkslategray')\n",
    "plt.ylim(0,1.05)\n",
    "plt.ylabel('Survival Distribution Function')\n",
    "plt.xlabel('Tenure Months')"
   ]
  },
  {
   "cell_type": "code",
   "execution_count": null,
   "metadata": {
    "collapsed": false
   },
   "outputs": [],
   "source": [
    "re = empltbl3.GRADE.isin(re_codes)\n",
    "print sum(re), re_codes"
   ]
  },
  {
   "cell_type": "code",
   "execution_count": null,
   "metadata": {
    "collapsed": false
   },
   "outputs": [],
   "source": [
    "fig = plt.figure(figsize=(12.5,5))\n",
    "\n",
    "kmf_grade=KaplanMeierFitter()\n",
    "\n",
    "kmf_grade.fit(empltbl3[re].Tenure_months, timeline=tenure_month_range, event_observed=empltbl3[re].status,label='RE')\n",
    "#grade_sf_df = pd.DataFrame(kmf_grade.survival_function_)\n",
    "ax = fig.add_subplot(111)\n",
    "kmf_grade.plot(ax=ax,c='darkred')\n",
    "kmf_grade.fit(empltbl3[~re].Tenure_months, timeline=tenure_month_range,event_observed=empltbl3[~re].status,label='non RE')\n",
    "kmf_grade.plot(ax=ax,color='darkslategray')\n",
    "plt.ylim(0,1.05)\n",
    "plt.ylabel('Survival Distribution Function')\n",
    "plt.xlabel('Tenure Months')"
   ]
  },
  {
   "cell_type": "code",
   "execution_count": null,
   "metadata": {
    "collapsed": false
   },
   "outputs": [],
   "source": [
    "pa = empltbl3.GRADE.isin(pa_codes)\n",
    "print sum(pa), pa_codes"
   ]
  },
  {
   "cell_type": "code",
   "execution_count": null,
   "metadata": {
    "collapsed": false
   },
   "outputs": [],
   "source": [
    "ma_codes"
   ]
  },
  {
   "cell_type": "code",
   "execution_count": null,
   "metadata": {
    "collapsed": false
   },
   "outputs": [],
   "source": [
    "empltbl3[empltbl3.GRADE=='MG2'].JOBCODE.value_counts()"
   ]
  },
  {
   "cell_type": "code",
   "execution_count": null,
   "metadata": {
    "collapsed": false
   },
   "outputs": [],
   "source": [
    "empltbl3.JOBCODE.value_counts()"
   ]
  },
  {
   "cell_type": "code",
   "execution_count": null,
   "metadata": {
    "collapsed": true
   },
   "outputs": [],
   "source": [
    "empltbl3[empltbl3['status'==1]]."
   ]
  },
  {
   "cell_type": "code",
   "execution_count": null,
   "metadata": {
    "collapsed": false
   },
   "outputs": [],
   "source": [
    "empltbl3.JOB_FUNCTION.value_counts()"
   ]
  },
  {
   "cell_type": "code",
   "execution_count": null,
   "metadata": {
    "collapsed": false
   },
   "outputs": [],
   "source": [
    "empl[empl.GRADE_MA1==1].status.value_counts()"
   ]
  },
  {
   "cell_type": "code",
   "execution_count": null,
   "metadata": {
    "collapsed": false
   },
   "outputs": [],
   "source": [
    "fig = plt.figure(figsize=(12.5,5))\n",
    "\n",
    "kmf_grade=KaplanMeierFitter()\n",
    "\n",
    "kmf_grade.fit(empltbl3[pa].Tenure_months, timeline=tenure_month_range, event_observed=empltbl3[pa].status,label='PA')\n",
    "#grade_sf_df = pd.DataFrame(kmf_grade.survival_function_)\n",
    "ax = fig.add_subplot(111)\n",
    "kmf_grade.plot(ax=ax,c='darkred')\n",
    "kmf_grade.fit(empltbl3[~pa].Tenure_months, timeline=tenure_month_range,event_observed=empltbl3[~pa].status,label='non PA')\n",
    "kmf_grade.plot(ax=ax,color='darkslategray')\n",
    "plt.ylim(0,1.05)\n",
    "plt.ylabel('Survival Distribution Function')\n",
    "plt.xlabel('Tenure Months')"
   ]
  },
  {
   "cell_type": "code",
   "execution_count": null,
   "metadata": {
    "collapsed": false
   },
   "outputs": [],
   "source": [
    "pb = empltbl3.GRADE.isin(pb_codes)\n",
    "print sum(pb), pb_codes"
   ]
  },
  {
   "cell_type": "code",
   "execution_count": null,
   "metadata": {
    "collapsed": false
   },
   "outputs": [],
   "source": [
    "fig = plt.figure(figsize=(12.5,5))\n",
    "\n",
    "kmf_grade=KaplanMeierFitter()\n",
    "\n",
    "kmf_grade.fit(empltbl3[pb].Tenure_months, timeline=tenure_month_range, event_observed=empltbl3[pb].status,label='PB')\n",
    "#grade_sf_df = pd.DataFrame(kmf_grade.survival_function_)\n",
    "ax = fig.add_subplot(111)\n",
    "kmf_grade.plot(ax=ax,c='darkred')\n",
    "kmf_grade.fit(empltbl3[~pb].Tenure_months, timeline=tenure_month_range,event_observed=empltbl3[~pb].status,label='non PB')\n",
    "kmf_grade.plot(ax=ax,color='darkslategray')\n",
    "plt.ylim(0,1.05)\n",
    "plt.ylabel('Survival Distribution Function')\n",
    "plt.xlabel('Tenure Months')"
   ]
  },
  {
   "cell_type": "code",
   "execution_count": null,
   "metadata": {
    "collapsed": false
   },
   "outputs": [],
   "source": [
    "sf = empltbl3.GRADE.isin(sf_codes)\n",
    "print sum(sf), sf_codes"
   ]
  },
  {
   "cell_type": "code",
   "execution_count": null,
   "metadata": {
    "collapsed": false
   },
   "outputs": [],
   "source": [
    "fig = plt.figure(figsize=(12.5,5))\n",
    "\n",
    "kmf_grade=KaplanMeierFitter()\n",
    "\n",
    "kmf_grade.fit(empltbl3[sf].Tenure_months, timeline=tenure_month_range, event_observed=empltbl3[sf].status,label='SF')\n",
    "#grade_sf_df = pd.DataFrame(kmf_grade.survival_function_)\n",
    "ax = fig.add_subplot(111)\n",
    "kmf_grade.plot(ax=ax,c='darkred')\n",
    "kmf_grade.fit(empltbl3[~sf].Tenure_months, timeline=tenure_month_range,event_observed=empltbl3[~sf].status,label='non SF')\n",
    "kmf_grade.plot(ax=ax,color='darkslategray')\n",
    "plt.ylim(0,1.05)\n",
    "plt.ylabel('Survival Distribution Function')\n",
    "plt.xlabel('Tenure Months')"
   ]
  },
  {
   "cell_type": "code",
   "execution_count": null,
   "metadata": {
    "collapsed": false
   },
   "outputs": [],
   "source": [
    "sf_codes"
   ]
  },
  {
   "cell_type": "code",
   "execution_count": null,
   "metadata": {
    "collapsed": false
   },
   "outputs": [],
   "source": [
    "ma = empltbl3.GRADE.isin(ma_codes)\n",
    "print sum(ma), ma_codes"
   ]
  },
  {
   "cell_type": "code",
   "execution_count": null,
   "metadata": {
    "collapsed": false
   },
   "outputs": [],
   "source": [
    "fig = plt.figure(figsize=(12.5,5))\n",
    "\n",
    "kmf_grade=KaplanMeierFitter()\n",
    "\n",
    "kmf_grade.fit(empltbl3[ma].Tenure_months, timeline=tenure_month_range, event_observed=empltbl3[ma].status,label='MA')\n",
    "#grade_sf_df = pd.DataFrame(kmf_grade.survival_function_)\n",
    "ax = fig.add_subplot(111)\n",
    "kmf_grade.plot(ax=ax,c='darkred')\n",
    "kmf_grade.fit(empltbl3[~ma].Tenure_months, timeline=tenure_month_range,event_observed=empltbl3[~ma].status,label='non MA')\n",
    "kmf_grade.plot(ax=ax,color='darkslategray')\n",
    "plt.ylim(0,1.05)\n",
    "plt.ylabel('Survival Distribution Function')\n",
    "plt.xlabel('Tenure Months')"
   ]
  },
  {
   "cell_type": "code",
   "execution_count": null,
   "metadata": {
    "collapsed": false
   },
   "outputs": [],
   "source": [
    "pa = empltbl3.GRADE.isin(pa_codes)\n",
    "print sum(pa), pa_codes"
   ]
  },
  {
   "cell_type": "code",
   "execution_count": null,
   "metadata": {
    "collapsed": false
   },
   "outputs": [],
   "source": [
    "grade_sf_df.columns"
   ]
  },
  {
   "cell_type": "code",
   "execution_count": null,
   "metadata": {
    "collapsed": false
   },
   "outputs": [],
   "source": [
    "### More directly look at these 20 groupings:\n",
    "# create a dataFrame of these survival functions.\n",
    "\n",
    "\n",
    "fig = plt.figure(figsize=(12.5,5))\n",
    "#figsize(16,8)\n",
    "\n",
    "#grade_groups = #list(empltbl3.GRADE.value_counts()[:85].index)\n",
    "kmf_grade=KaplanMeierFitter()\n",
    "\n",
    "kmf_grade.fit(empltbl3.Tenure_months, timeline=tenure_month_range, event_observed=empltbl3.status,label='ALL')\n",
    "gp_grade_sf_df = pd.DataFrame(kmf_grade.survival_function_)\n",
    "ax=fig.add_subplot(111)\n",
    "kmf_grade.plot(ax=ax,c='darkslategray')\n",
    "for g in grade_groupings_list_A:\n",
    "    \n",
    "    #plt.figure(figsize=(20,10))\n",
    "    gem_grade = empltbl3.GRADE.isin(g)\n",
    "    kmf_grade.fit(empltbl3[gem_grade].Tenure_months, timeline=tenure_month_range,event_observed=empltbl3[gem_grade].status)#,label=grade)\n",
    "    #if grade.startswith('MG'):\n",
    "    kmf_grade.plot(ax=ax)\n",
    "    gp_grade_sf_df = pd.concat([gp_grade_sf_df,kmf_grade.survival_function_],axis=1)\n",
    "#kmf_gender.fit(female.Tenure_months,  timeline=tenure_month_range,event_observed=female.status)\n",
    "#kmf_gender.plot(ax=ax, c='deeppink',label='Female')\n",
    "\n",
    "plt.ylim(0,1.05)\n",
    "plt.ylabel('Survival Distribution Function')\n",
    "plt.xlabel('Tenure Months')\n",
    "\n",
    "#print sum(empltbl3.GRADE.isin(g)), g"
   ]
  },
  {
   "cell_type": "code",
   "execution_count": null,
   "metadata": {
    "collapsed": false
   },
   "outputs": [],
   "source": [
    "gp_grade_sf_df.columns=['ALL','MG','C','MA','PA','PB','SF','RA','RD','RE','RB','RC','PC','L','FA', 'U', 'B', 'NON','M','R*','OTHR']#,inplace=True)\n",
    "                               #mg_codes,clvl_codes,ma_codes,pa_codes,pb_codes,sf_codes, ra_codes,rd_codes,re_codes, rb_codes, rc_codes,\n",
    "                          #pc_codes,l_codes,fa_codes, u_codes,b_codes,non_codes,m_codes,rx_codes,oth_codes\n",
    "\n",
    "gp_grade_sf_df.head()"
   ]
  },
  {
   "cell_type": "code",
   "execution_count": null,
   "metadata": {
    "collapsed": false
   },
   "outputs": [],
   "source": [
    "gp_grade_sf_df.iloc[1].plot(kind='bar',color='steelblue')\n",
    "plt.title('Survival Propensity at 1 year')\n",
    "plt.ylabel('Survival Distribution')\n",
    "plt.xlabel('Grouped Grade code')"
   ]
  },
  {
   "cell_type": "code",
   "execution_count": null,
   "metadata": {
    "collapsed": false
   },
   "outputs": [],
   "source": [
    "np.where(gp_grade_sf_df.ALL.values <=0.50)[0][0]"
   ]
  },
  {
   "cell_type": "code",
   "execution_count": null,
   "metadata": {
    "collapsed": false
   },
   "outputs": [],
   "source": [
    "gp_grade_sf_df[gp_grade_sf_df['ALL']<=0.50].index[0]/12.\n"
   ]
  },
  {
   "cell_type": "code",
   "execution_count": null,
   "metadata": {
    "collapsed": false
   },
   "outputs": [],
   "source": [
    "### Function to return the time when distribution falls to 50%\n",
    "def find_Npct_survival(x,npct=0.50):\n",
    "    first_index = np.where(x <=npct)[0][0]\n",
    "    #ten_years = \n",
    "    print first_index, x.iloc[first_index], x.index[first_index]#.timeline\n",
    "    #first_index-1\n",
    "    #, x.iloc[first_index-1]\n",
    "    return x.index[first_index]"
   ]
  },
  {
   "cell_type": "code",
   "execution_count": null,
   "metadata": {
    "collapsed": false
   },
   "outputs": [],
   "source": [
    "gp_grade_sf_df['ALL'].index[12]"
   ]
  },
  {
   "cell_type": "code",
   "execution_count": null,
   "metadata": {
    "collapsed": false
   },
   "outputs": [],
   "source": [
    "cnames = []\n",
    "fiftyPCT = []\n",
    "for c in gp_grade_sf_df.columns:\n",
    "    cnames.append(c)\n",
    "    fiftyPCT.append(find_Npct_survival(gp_grade_sf_df[c])/12.)#.apply(lambda x: find_Npct_survival(x))"
   ]
  },
  {
   "cell_type": "code",
   "execution_count": null,
   "metadata": {
    "collapsed": false
   },
   "outputs": [],
   "source": [
    "xvals= xrange(len(cnames))\n",
    "h = plt.bar(xvals,fiftyPCT,color='steelblue')\n",
    "plt.ylabel('Number of Tenure Years where SF <= 50%')\n",
    "#plt.xlim(0,21)\n",
    "plt.xlabel('Grouped Grades')\n",
    "plt.title('Job Grades impact on SF fraction.')\n",
    "\n",
    "xticks_pos = [0.65*patch.get_width() + patch.get_xy()[0] for patch in h]\n",
    "plt.xticks(xticks_pos,cnames,rotation='vertical')\n",
    "plt.grid(True)\n",
    "plt.xlim(0,21)"
   ]
  },
  {
   "cell_type": "markdown",
   "metadata": {},
   "source": [
    "## TRY To look at how age effects sF\n",
    "* bin this?"
   ]
  },
  {
   "cell_type": "code",
   "execution_count": null,
   "metadata": {
    "collapsed": false
   },
   "outputs": [],
   "source": [
    "empltbl3.Age_years.hist(bins=70,range=[15,84],color='darkorchid')"
   ]
  },
  {
   "cell_type": "code",
   "execution_count": null,
   "metadata": {
    "collapsed": false
   },
   "outputs": [],
   "source": [
    "empltbl3.Age_years.describe()"
   ]
  },
  {
   "cell_type": "code",
   "execution_count": null,
   "metadata": {
    "collapsed": false
   },
   "outputs": [],
   "source": [
    "empltbl3.Age_years.head()"
   ]
  },
  {
   "cell_type": "code",
   "execution_count": null,
   "metadata": {
    "collapsed": false
   },
   "outputs": [],
   "source": [
    "empltbl3['AgeGroup'] = pd.cut(empltbl3.Age_years,[0,24.5,34.5,44.5,54.5,64.5,100],labels=['0','1','2','3','4','5'])"
   ]
  },
  {
   "cell_type": "code",
   "execution_count": null,
   "metadata": {
    "collapsed": false
   },
   "outputs": [],
   "source": [
    "age_group_labels = ['0','1','2','3','4','5']\n",
    "fig = plt.figure(figsize=(12.5,5))\n",
    "kmf_agp = KaplanMeierFitter()\n",
    "kmf_agp.fit(empltbl3.Tenure_months, timeline=tenure_month_range, event_observed=empltbl3.status,label='ALL')\n",
    "    \n",
    "age_gp_sf_df = pd.DataFrame(kmf_agp.survival_function_)\n",
    "ax=fig.add_subplot(111)\n",
    "kmf_agp.plot(ax=ax,c='darkslategray')\n",
    "\n",
    "for ag in age_group_labels:\n",
    "    age_group = empltbl3[empltbl3.AgeGroup == ag]\n",
    "    print ag, len(age_group)\n",
    "    \n",
    "    \n",
    "        \n",
    "    kmf_agp.fit(age_group.Tenure_months, timeline=tenure_month_range,event_observed=age_group.status,label=ag)\n",
    "    \n",
    "    kmf_agp.plot(ax=ax)\n",
    "    age_gp_sf_df = pd.concat([age_gp_sf_df,kmf_grade.survival_function_],axis=1)\n",
    "\n",
    "plt.ylim(0,1.05)\n",
    "plt.ylabel('Survival Distribution Function')\n",
    "plt.xlabel('Tenure Months')\n",
    "plt.title('Survival for various age groups')\n",
    "\n",
    "#print sum(empltbl3.GRADE.isin(g)), g"
   ]
  },
  {
   "cell_type": "code",
   "execution_count": null,
   "metadata": {
    "collapsed": false
   },
   "outputs": [],
   "source": []
  },
  {
   "cell_type": "code",
   "execution_count": null,
   "metadata": {
    "collapsed": false
   },
   "outputs": [],
   "source": [
    "age_gp_sf_df.columns = ['ALL','0to25','25to35','35to45','45to55','55to65','65to100']#+=age_group_labels\n",
    "age_gp_sf_df.head()"
   ]
  },
  {
   "cell_type": "code",
   "execution_count": null,
   "metadata": {
    "collapsed": false
   },
   "outputs": [],
   "source": [
    "age_grp_types = empltbl3.AgeGroup.unique()\n",
    "kmf= KaplanMeierFitter()\n",
    "fig = plt.figure(figsize=(16,9))\n",
    "\n",
    "for i,agp_type in enumerate(age_grp_types):\n",
    "    ax = plt.subplot(2,3,i+1)\n",
    "    ix = empltbl3['AgeGroup'] == agp_type\n",
    "    kmf.fit( empltbl3[ix].Tenure_months, empltbl3[ix].status, label=age_gp_sf_df.columns[i+1])\n",
    "    kmf.plot(ax=ax, legend=False)\n",
    "    plt.title(age_gp_sf_df.columns[i+1])\n",
    "    plt.xlim(0,500)\n",
    "    if i==0:\n",
    "        plt.ylabel('Frac. Working after $n$ months')\n",
    "    if i == 3:\n",
    "        plt.xlabel(\"Tenure in Months\")\n",
    "plt.tight_layout()"
   ]
  },
  {
   "cell_type": "code",
   "execution_count": null,
   "metadata": {
    "collapsed": false
   },
   "outputs": [],
   "source": [
    "sdf[sdf.Column.isin(cols_to_categorical)]"
   ]
  },
  {
   "cell_type": "markdown",
   "metadata": {},
   "source": [
    "## this was descriptive, how to make it predictive?"
   ]
  },
  {
   "cell_type": "markdown",
   "metadata": {},
   "source": [
    "Try using `AalenAdditiveFitter`"
   ]
  },
  {
   "cell_type": "code",
   "execution_count": null,
   "metadata": {
    "collapsed": true
   },
   "outputs": [],
   "source": [
    "from lifelines import AalenAdditiveFitter\n",
    "import patsy"
   ]
  },
  {
   "cell_type": "code",
   "execution_count": null,
   "metadata": {
    "collapsed": false
   },
   "outputs": [],
   "source": [
    "X = patsy.dmatrix('Age_years + COMPANY + INTERN + SEX',empltbl4, return_type='dataframe')\n",
    "X.columns\n"
   ]
  },
  {
   "cell_type": "code",
   "execution_count": null,
   "metadata": {
    "collapsed": false
   },
   "outputs": [],
   "source": [
    "aaf = AalenAdditiveFitter(penalizer=1.0, fit_intercept=True)\n",
    "X['T'] = empltbl4['Tenure_years']\n",
    "X['E'] = empltbl4['status']"
   ]
  },
  {
   "cell_type": "code",
   "execution_count": null,
   "metadata": {
    "collapsed": false
   },
   "outputs": [],
   "source": [
    "aaf.fit(X,'T','E')"
   ]
  },
  {
   "cell_type": "code",
   "execution_count": null,
   "metadata": {
    "collapsed": false
   },
   "outputs": [],
   "source": [
    "aaf.plot()"
   ]
  },
  {
   "cell_type": "code",
   "execution_count": null,
   "metadata": {
    "collapsed": false
   },
   "outputs": [],
   "source": [
    "aaf.cumulative_hazards_.loc[40:]"
   ]
  },
  {
   "cell_type": "code",
   "execution_count": null,
   "metadata": {
    "collapsed": false
   },
   "outputs": [],
   "source": [
    "aaf."
   ]
  },
  {
   "cell_type": "code",
   "execution_count": null,
   "metadata": {
    "collapsed": true
   },
   "outputs": [],
   "source": []
  },
  {
   "cell_type": "code",
   "execution_count": null,
   "metadata": {
    "collapsed": true
   },
   "outputs": [],
   "source": []
  },
  {
   "cell_type": "code",
   "execution_count": null,
   "metadata": {
    "collapsed": false
   },
   "outputs": [],
   "source": [
    "#X = patsy.dmatrix('SEX + AgeGroup + INTERN + DIVISION_CODE_SFI -1', empltbl3, return_type='dataframe')\n",
    "X = patsy.dmatrix('AgeGroup + INTERN -1', empltbl3, return_type='dataframe')\n",
    "X.columns"
   ]
  },
  {
   "cell_type": "code",
   "execution_count": null,
   "metadata": {
    "collapsed": false
   },
   "outputs": [],
   "source": [
    "aaf = AalenAdditiveFitter(penalizer=1.0, fit_intercept=True)\n",
    "X['T'] = empltbl3['Tenure_years']\n",
    "X['E'] = empltbl3['status']"
   ]
  },
  {
   "cell_type": "code",
   "execution_count": null,
   "metadata": {
    "collapsed": false
   },
   "outputs": [],
   "source": [
    "aaf.fit(X,'T','E')"
   ]
  },
  {
   "cell_type": "code",
   "execution_count": null,
   "metadata": {
    "collapsed": false
   },
   "outputs": [],
   "source": [
    "aaf.cumulative_hazards_.head()"
   ]
  },
  {
   "cell_type": "markdown",
   "metadata": {},
   "source": [
    "### Plot the Estimates of cumulative $\\beta_i$"
   ]
  },
  {
   "cell_type": "code",
   "execution_count": null,
   "metadata": {
    "collapsed": false
   },
   "outputs": [],
   "source": [
    "aaf.plot( columns=[ 'AgeGroup[0]','AgeGroup[1]','AgeGroup[2]','INTERN[T.Y]', 'baseline' ], ix=slice(1,35) )"
   ]
  },
  {
   "cell_type": "markdown",
   "metadata": {},
   "source": [
    "## try to predict someone's tenure"
   ]
  },
  {
   "cell_type": "code",
   "execution_count": null,
   "metadata": {
    "collapsed": true
   },
   "outputs": [],
   "source": [
    "ix = (empltbl3['AgeGroup'] == '0')\n",
    "ib = (empltbl3['AgeGroup'] == '2')\n",
    "#harper = X[ix,:][-1,:][None,:]\n",
    "#harper[0,-1] = 2003\n",
    "#print \"Harper's unique data point\""
   ]
  },
  {
   "cell_type": "code",
   "execution_count": null,
   "metadata": {
    "collapsed": false
   },
   "outputs": [],
   "source": [
    "X[ix].iloc[[0,2],0:-2]"
   ]
  },
  {
   "cell_type": "code",
   "execution_count": null,
   "metadata": {
    "collapsed": false
   },
   "outputs": [],
   "source": [
    "X[ib].iloc[20:25]#,0:-2]"
   ]
  },
  {
   "cell_type": "code",
   "execution_count": null,
   "metadata": {
    "collapsed": false
   },
   "outputs": [],
   "source": [
    "test1 = X[ix].iloc[0] \n",
    "test2 = X[ix].iloc[2]"
   ]
  },
  {
   "cell_type": "code",
   "execution_count": null,
   "metadata": {
    "collapsed": false
   },
   "outputs": [],
   "source": [
    "test2.values"
   ]
  },
  {
   "cell_type": "code",
   "execution_count": null,
   "metadata": {
    "collapsed": false
   },
   "outputs": [],
   "source": [
    "aaf.predict_survival_function(X[ix].iloc[[0,2],0:-2]).plot()\n",
    "plt.xlim(0,10)\n",
    "aaf.predict_survival_function(X[ib].iloc[[20,21],0:-2]).plot()\n",
    "plt.xlim(0,10)"
   ]
  },
  {
   "cell_type": "code",
   "execution_count": null,
   "metadata": {
    "collapsed": false
   },
   "outputs": [],
   "source": [
    "fig = plt.figure(figsize=(12,5))\n",
    "ax = fig.add_subplot(2,1,1)\n",
    "aaf.predict_cumulative_hazard(test1.values).plot(ax=ax)"
   ]
  },
  {
   "cell_type": "code",
   "execution_count": null,
   "metadata": {
    "collapsed": false
   },
   "outputs": [],
   "source": [
    "[x for x in sdf.Column if x.startswith('JOB')]"
   ]
  },
  {
   "cell_type": "code",
   "execution_count": null,
   "metadata": {
    "collapsed": false
   },
   "outputs": [],
   "source": [
    "sdf[sdf.Column == 'GRADE']"
   ]
  },
  {
   "cell_type": "code",
   "execution_count": null,
   "metadata": {
    "collapsed": false
   },
   "outputs": [],
   "source": [
    "current.GRADE.value_counts()"
   ]
  },
  {
   "cell_type": "code",
   "execution_count": null,
   "metadata": {
    "collapsed": true
   },
   "outputs": [],
   "source": []
  },
  {
   "cell_type": "code",
   "execution_count": null,
   "metadata": {
    "collapsed": true
   },
   "outputs": [],
   "source": []
  },
  {
   "cell_type": "markdown",
   "metadata": {},
   "source": [
    "# Construct a graph out of the active employees\n",
    "* use the index from the dataframe as the node number"
   ]
  },
  {
   "cell_type": "code",
   "execution_count": null,
   "metadata": {
    "collapsed": false
   },
   "outputs": [],
   "source": [
    "import networkx as nx\n",
    "G=nx.DiGraph()\n"
   ]
  },
  {
   "cell_type": "code",
   "execution_count": null,
   "metadata": {
    "collapsed": false
   },
   "outputs": [],
   "source": [
    "#initialize with the ceo index\n",
    "#initialize with the ceo index\n",
    "#initialize with the ceo index\n",
    "ceo_index = list(current[current.KEY==ceo_key].index)[0]\n",
    "print ceo_index,ceo_key\n",
    "G.add_node(ceo_index)\n",
    "G.graph"
   ]
  },
  {
   "cell_type": "code",
   "execution_count": null,
   "metadata": {
    "collapsed": true
   },
   "outputs": [],
   "source": [
    "def id_dependents("
   ]
  },
  {
   "cell_type": "code",
   "execution_count": null,
   "metadata": {
    "collapsed": false
   },
   "outputs": [],
   "source": [
    "# now apply some logic to these columns for keeping and not\n",
    "columns_to_fix_missing = []\n",
    "columns_to_fix_NY = []\n",
    "columns_to_omit = []"
   ]
  },
  {
   "cell_type": "code",
   "execution_count": null,
   "metadata": {
    "collapsed": false
   },
   "outputs": [],
   "source": [
    "columns_to_fix_missing"
   ]
  },
  {
   "cell_type": "code",
   "execution_count": null,
   "metadata": {
    "collapsed": false
   },
   "outputs": [],
   "source": []
  },
  {
   "cell_type": "code",
   "execution_count": null,
   "metadata": {
    "collapsed": false
   },
   "outputs": [],
   "source": [
    "len(sdf[sdf['datatype']=='object'])"
   ]
  },
  {
   "cell_type": "code",
   "execution_count": null,
   "metadata": {
    "collapsed": false
   },
   "outputs": [],
   "source": [
    "sdf[(sdf['datatype']=='object') & (sdf['x_missing']<=missing_threshold) & (sdf['x_missing'] > 0)]"
   ]
  },
  {
   "cell_type": "code",
   "execution_count": null,
   "metadata": {
    "collapsed": false
   },
   "outputs": [],
   "source": [
    "empltbl3[empltbl3.STATE == 'NB'][['status','LOC_STATE','LOC_CITY','JOB_FUNCTION']]#,'zip5']]"
   ]
  },
  {
   "cell_type": "code",
   "execution_count": null,
   "metadata": {
    "collapsed": false
   },
   "outputs": [],
   "source": [
    "sdf.head()"
   ]
  },
  {
   "cell_type": "code",
   "execution_count": null,
   "metadata": {
    "collapsed": false
   },
   "outputs": [],
   "source": [
    "empltbl[empltbl.POSTAL_SFI.isnull()].zip5"
   ]
  },
  {
   "cell_type": "code",
   "execution_count": null,
   "metadata": {
    "collapsed": false
   },
   "outputs": [],
   "source": [
    "empltbl.ACTRES1.tail()"
   ]
  },
  {
   "cell_type": "code",
   "execution_count": null,
   "metadata": {
    "collapsed": false
   },
   "outputs": [],
   "source": [
    "# omit those that have more than 40% missing:\n",
    "columns_to_omit = sdf[sdf['x_missing'] > missing_threshold].Column.values\n",
    "print len(columns_to_omit)\n",
    "columns_to_omit"
   ]
  },
  {
   "cell_type": "code",
   "execution_count": null,
   "metadata": {
    "collapsed": false
   },
   "outputs": [],
   "source": []
  },
  {
   "cell_type": "code",
   "execution_count": null,
   "metadata": {
    "collapsed": false
   },
   "outputs": [],
   "source": [
    "pd.crosstab(empltbl['HUBIND'],empltbl['SUPV_DIFF_LOC'])"
   ]
  },
  {
   "cell_type": "code",
   "execution_count": null,
   "metadata": {
    "collapsed": false
   },
   "outputs": [],
   "source": [
    "empltbl.FLSA_STATUS.value_counts()"
   ]
  },
  {
   "cell_type": "code",
   "execution_count": null,
   "metadata": {
    "collapsed": false
   },
   "outputs": [],
   "source": [
    "empltbl.JOB_FAMILY.value_counts()[empltbl.JOB_FAMILY.value_counts()>100]"
   ]
  },
  {
   "cell_type": "code",
   "execution_count": null,
   "metadata": {
    "collapsed": false
   },
   "outputs": [],
   "source": [
    "sort(columns_to_keep)"
   ]
  },
  {
   "cell_type": "code",
   "execution_count": null,
   "metadata": {
    "collapsed": false
   },
   "outputs": [],
   "source": [
    "reduced_tbl = empltbl[columns_to_keep].copy()\n",
    "reduced_tbl.shape"
   ]
  },
  {
   "cell_type": "code",
   "execution_count": null,
   "metadata": {
    "collapsed": false
   },
   "outputs": [],
   "source": [
    "## drop those that are not VOL or NOT in VOLINVOL column\n",
    "sum(reduced_tbl.isin({'VOLINVOL':['NOT','VOLUNTARY']}))"
   ]
  },
  {
   "cell_type": "code",
   "execution_count": null,
   "metadata": {
    "collapsed": false
   },
   "outputs": [],
   "source": [
    "for cat_col in cols_to_categorical:\n",
    "    reduced_tbl[cat_col] = reduced_tbl[cat_col].astype('category')\n"
   ]
  },
  {
   "cell_type": "code",
   "execution_count": null,
   "metadata": {
    "collapsed": false
   },
   "outputs": [],
   "source": [
    "reduced_summary_df = summarize_dataframe2(red_tbl)"
   ]
  },
  {
   "cell_type": "code",
   "execution_count": null,
   "metadata": {
    "collapsed": false
   },
   "outputs": [],
   "source": [
    "reduced_tbl.head()"
   ]
  },
  {
   "cell_type": "code",
   "execution_count": null,
   "metadata": {
    "collapsed": false
   },
   "outputs": [],
   "source": [
    "reduced_tbl.columns"
   ]
  },
  {
   "cell_type": "code",
   "execution_count": null,
   "metadata": {
    "collapsed": false
   },
   "outputs": [],
   "source": [
    "pd.crosstab(reduced_tbl['REMOTE'],reduced_tbl['HUBIND'])"
   ]
  },
  {
   "cell_type": "code",
   "execution_count": null,
   "metadata": {
    "collapsed": false
   },
   "outputs": [],
   "source": [
    "pd.crosstab(reduced_tbl['FTPTCNT1'],reduced_tbl['PTFTCNT1'])"
   ]
  },
  {
   "cell_type": "code",
   "execution_count": null,
   "metadata": {
    "collapsed": false
   },
   "outputs": [],
   "source": [
    "reduced_tbl.FULL_PART_TIME.value_counts()"
   ]
  },
  {
   "cell_type": "code",
   "execution_count": null,
   "metadata": {
    "collapsed": false
   },
   "outputs": [],
   "source": [
    "## further reduce by removing\n",
    "FULL_PART_TIME, ACTRES1, KEY, "
   ]
  },
  {
   "cell_type": "code",
   "execution_count": null,
   "metadata": {
    "collapsed": true
   },
   "outputs": [],
   "source": []
  },
  {
   "cell_type": "code",
   "execution_count": null,
   "metadata": {
    "collapsed": false
   },
   "outputs": [],
   "source": [
    "len(reduced_tbl.JOB_FAMILY.unique()), len(reduced_tbl.JOB_FUNCTION.unique()), len(reduced_tbl.GRADE.unique()),len(reduced_tbl.JOBCODE.unique())"
   ]
  },
  {
   "cell_type": "code",
   "execution_count": null,
   "metadata": {
    "collapsed": false
   },
   "outputs": [],
   "source": [
    "reduced_tbl.JOB_FUNCTION.value_counts().plot(kind='bar',color='burlywood')"
   ]
  },
  {
   "cell_type": "code",
   "execution_count": null,
   "metadata": {
    "collapsed": false
   },
   "outputs": [],
   "source": [
    "reduced_tbl.GRADE.value_counts().plot(kind='bar',color='burlywood')"
   ]
  },
  {
   "cell_type": "code",
   "execution_count": null,
   "metadata": {
    "collapsed": false
   },
   "outputs": [],
   "source": [
    "#sum(reduced_tbl.MAX_RT_ANNUAL==0)\n",
    "reduced_tbl[reduced_tbl.ANNUAL_RT!=0].ANNUAL_RT.hist(bins=40,color='darkorchid')"
   ]
  },
  {
   "cell_type": "code",
   "execution_count": null,
   "metadata": {
    "collapsed": false
   },
   "outputs": [],
   "source": [
    "sum(reduced_tbl.ANNUAL_RT==0)"
   ]
  },
  {
   "cell_type": "code",
   "execution_count": null,
   "metadata": {
    "collapsed": false
   },
   "outputs": [],
   "source": [
    "reduced_tbl['JOB_FUNCTION'].unique()"
   ]
  },
  {
   "cell_type": "code",
   "execution_count": null,
   "metadata": {
    "collapsed": false
   },
   "outputs": [],
   "source": [
    "initial_columns_list = ['SEX','INTERN','FULL_PART_TIME']#,'COMPANY','VOLINVOL']#'JOB_FUNCTION','COMPANY','HUBIND','VOLINVOL']\n",
    "sum(reduced_tbl[initial_columns_list].isnull())"
   ]
  },
  {
   "cell_type": "code",
   "execution_count": null,
   "metadata": {
    "collapsed": false
   },
   "outputs": [],
   "source": [
    "jf_hold = reduced_tbl.JOB_FUNCTION.astype('object')\n",
    "jf_hold.fillna('XXX',inplace=True)\n",
    "reduced_tbl['JOB_FUNCTION'] = jf_hold\n",
    "reduced_tbl['JOB_FUNCTION'] = reduced_tbl['JOB_FUNCTION'].astype('category')"
   ]
  },
  {
   "cell_type": "code",
   "execution_count": null,
   "metadata": {
    "collapsed": false
   },
   "outputs": [],
   "source": [
    "initial_columns_list = ['SEX','Age_years','INTERN','FULL_PART_TIME','JOB_FUNCTION','COMPANY','HUBIND','VOLINVOL']\n",
    "sum(reduced_tbl[initial_columns_list].isnull())"
   ]
  },
  {
   "cell_type": "code",
   "execution_count": null,
   "metadata": {
    "collapsed": false
   },
   "outputs": [],
   "source": [
    "#pull out the reduced columns\n",
    "fill_flag = True\n",
    "reduced2 = reduced_tbl[initial_columns_list].copy()\n",
    "for c in reduced2.columns:\n",
    "    nmissing = sum(reduced2[c].isnull())\n",
    "    datatype = reduced2[c].dtype\n",
    "    if nmissing > 0 and fill_flag:\n",
    "        if datatype=='category':\n",
    "            reduced2[c].fillna('XNA',inplace=True)\n",
    "    \n",
    "        \n",
    "    print c, reduced2[c].dtype"
   ]
  },
  {
   "cell_type": "code",
   "execution_count": null,
   "metadata": {
    "collapsed": false
   },
   "outputs": [],
   "source": [
    "reduced2 = reduced_tbl[initial_columns_list].copy()\n",
    "reduced2.shape"
   ]
  },
  {
   "cell_type": "code",
   "execution_count": null,
   "metadata": {
    "collapsed": false
   },
   "outputs": [],
   "source": [
    "dummy_columns_list1 = list(reduced2.columns) #['SEX','INTERN','FULL_PART_TIME','JOB_FUNCTION','COMPANY','HUBIND','VOLINVOL']"
   ]
  },
  {
   "cell_type": "code",
   "execution_count": null,
   "metadata": {
    "collapsed": false
   },
   "outputs": [],
   "source": [
    "# create a dummified dataframe.\n",
    "reduced_dummies = pd.get_dummies(reduced2[dummy_columns_list1])\n",
    "print reduced_dummies.shape    "
   ]
  },
  {
   "cell_type": "code",
   "execution_count": null,
   "metadata": {
    "collapsed": false
   },
   "outputs": [],
   "source": [
    "dummy_column_list2 = list(reduced_dummies.columns)"
   ]
  },
  {
   "cell_type": "code",
   "execution_count": null,
   "metadata": {
    "collapsed": false
   },
   "outputs": [],
   "source": [
    "dummy_col_to_drop = []\n",
    "for col in dummy_columns_list1:\n",
    "    dclist = [x for x in dummy_column_list2 if x.startswith(col)]\n",
    "    print dclist\n",
    "    dummy_col_to_drop.append(dclist[0])\n",
    "\n",
    "dummy_col_to_keep = list(set(dummy_column_list2) - set(dummy_col_to_drop))\n",
    "\n",
    "reduced3 = reduced_dummies[dummy_col_to_keep].copy()\n",
    "#add the non-categorical back in\n",
    "#reduced3[initial_columns_list[1]] = reduced2[initial_columns_list[1]]\n",
    "reduced3.shape"
   ]
  },
  {
   "cell_type": "code",
   "execution_count": null,
   "metadata": {
    "collapsed": true
   },
   "outputs": [],
   "source": [
    "## add in status and time\n",
    "reduced3['Age'] = empltbl['Age_years']\n",
    "reduced3['status'] = empltbl['status']\n",
    "reduced3['Tenure'] = empltbl['Tenure_months']"
   ]
  },
  {
   "cell_type": "markdown",
   "metadata": {},
   "source": [
    "## Aalen's Additive model"
   ]
  },
  {
   "cell_type": "code",
   "execution_count": null,
   "metadata": {
    "collapsed": false
   },
   "outputs": [],
   "source": [
    "from lifelines import AalenAdditiveFitter\n",
    "reduced3.head()"
   ]
  },
  {
   "cell_type": "code",
   "execution_count": null,
   "metadata": {
    "collapsed": false
   },
   "outputs": [],
   "source": [
    "reduced3.columns"
   ]
  },
  {
   "cell_type": "code",
   "execution_count": null,
   "metadata": {
    "collapsed": false
   },
   "outputs": [],
   "source": [
    "aaf_tenure = AalenAdditiveFitter(penalizer=1.0,fit_intercept=True)"
   ]
  },
  {
   "cell_type": "code",
   "execution_count": null,
   "metadata": {
    "collapsed": false
   },
   "outputs": [],
   "source": [
    "aaf_tenure.fit(reduced3,'Tenure',event_col='status')"
   ]
  },
  {
   "cell_type": "code",
   "execution_count": null,
   "metadata": {
    "collapsed": false
   },
   "outputs": [],
   "source": [
    "aaf_tenure.plot(columns=['FULL_PART_TIME_P','Age','SEX_M','baseline'])"
   ]
  },
  {
   "cell_type": "code",
   "execution_count": null,
   "metadata": {
    "collapsed": false
   },
   "outputs": [],
   "source": [
    "aaf_tenure_b = AalenAdditiveFitter(penalizer=1.0,fit_intercept=True)"
   ]
  },
  {
   "cell_type": "code",
   "execution_count": null,
   "metadata": {
    "collapsed": false
   },
   "outputs": [],
   "source": [
    "aaf_tenure_b.fit(reduced3,'Tenure',event_col='status')"
   ]
  },
  {
   "cell_type": "code",
   "execution_count": null,
   "metadata": {
    "collapsed": true
   },
   "outputs": [],
   "source": []
  },
  {
   "cell_type": "markdown",
   "metadata": {},
   "source": [
    "## CoxPH"
   ]
  },
  {
   "cell_type": "code",
   "execution_count": null,
   "metadata": {
    "collapsed": true
   },
   "outputs": [],
   "source": [
    "from lifelines import CoxPHFitter"
   ]
  },
  {
   "cell_type": "code",
   "execution_count": null,
   "metadata": {
    "collapsed": false
   },
   "outputs": [],
   "source": [
    "cf_tenure = CoxPHFitter()\n",
    "cf_tenure.fit(reduced3,'Tenure',event_col='status')\n"
   ]
  },
  {
   "cell_type": "code",
   "execution_count": null,
   "metadata": {
    "collapsed": false
   },
   "outputs": [],
   "source": [
    "cf_tenure.summary()"
   ]
  },
  {
   "cell_type": "code",
   "execution_count": null,
   "metadata": {
    "collapsed": false
   },
   "outputs": [],
   "source": [
    "cf_tenure.plot(columns=['FULL_PART_TIME_P','Age','SEX_M','baseline'])"
   ]
  },
  {
   "cell_type": "code",
   "execution_count": null,
   "metadata": {
    "collapsed": false
   },
   "outputs": [],
   "source": [
    "cf_tenure.hazards_"
   ]
  },
  {
   "cell_type": "code",
   "execution_count": null,
   "metadata": {
    "collapsed": false
   },
   "outputs": [],
   "source": [
    "cf_tenure.baseline_cumulative_hazard_.plot()"
   ]
  },
  {
   "cell_type": "code",
   "execution_count": null,
   "metadata": {
    "collapsed": true
   },
   "outputs": [],
   "source": [
    "cf_tenurereenure.base"
   ]
  },
  {
   "cell_type": "code",
   "execution_count": null,
   "metadata": {
    "collapsed": true
   },
   "outputs": [],
   "source": [
    "reduced3.index = np.arange(0,len(reduced3))"
   ]
  },
  {
   "cell_type": "code",
   "execution_count": null,
   "metadata": {
    "collapsed": false
   },
   "outputs": [],
   "source": [
    "# k-fold\n",
    "\n",
    "from lifelines.utils import k_fold_cross_validation\n",
    "\n",
    "#regression_dataset = load_regression_dataset()\n",
    "cf = CoxPHFitter()\n",
    "scores = k_fold_cross_validation(cf, reduced3, 'Tenure', event_col='status', k=5)\n",
    "print scores\n",
    "print scores.mean()\n",
    "print scores.std()"
   ]
  },
  {
   "cell_type": "code",
   "execution_count": null,
   "metadata": {
    "collapsed": true
   },
   "outputs": [],
   "source": []
  },
  {
   "cell_type": "code",
   "execution_count": null,
   "metadata": {
    "collapsed": true
   },
   "outputs": [],
   "source": []
  },
  {
   "cell_type": "code",
   "execution_count": null,
   "metadata": {
    "collapsed": true
   },
   "outputs": [],
   "source": [
    "import patsy"
   ]
  },
  {
   "cell_type": "code",
   "execution_count": null,
   "metadata": {
    "collapsed": false
   },
   "outputs": [],
   "source": [
    "X = patsy.dmatrix('SEX + JOB_FUNCTION + Age_years + INTERN + COMPANY + VOLINVOL + HUBIND - 1', reduced2, return_type='dataframe')"
   ]
  },
  {
   "cell_type": "code",
   "execution_count": null,
   "metadata": {
    "collapsed": false
   },
   "outputs": [],
   "source": [
    "patsy.__version__"
   ]
  },
  {
   "cell_type": "code",
   "execution_count": null,
   "metadata": {
    "collapsed": true
   },
   "outputs": [],
   "source": [
    "# now use lifelines\n",
    "from lifelines import KaplanMeierFitter"
   ]
  },
  {
   "cell_type": "code",
   "execution_count": null,
   "metadata": {
    "collapsed": false
   },
   "outputs": [],
   "source": [
    "figsize(14,6)\n",
    "kmf = KaplanMeierFitter()\n",
    "kmf.fit(empltbl.Tenure_months, event_observed=empltbl.status)\n",
    "kmf.plot()\n",
    "plt.ylabel('Survival Distribution Function')\n",
    "plt.xlabel('Tenure months')\n",
    "plt.title('KaplanMeier Survival: ALL employees')"
   ]
  },
  {
   "cell_type": "code",
   "execution_count": null,
   "metadata": {
    "collapsed": true
   },
   "outputs": [],
   "source": [
    "kmf.survival_function_"
   ]
  },
  {
   "cell_type": "markdown",
   "metadata": {
    "collapsed": true
   },
   "source": [
    "### look at difference between M & F"
   ]
  },
  {
   "cell_type": "code",
   "execution_count": null,
   "metadata": {
    "collapsed": false
   },
   "outputs": [],
   "source": [
    "male = empltbl[empltbl['SEX'] =='M']\n",
    "female = empltbl[empltbl['SEX'] =='F']\n",
    "len(male),len(female)"
   ]
  },
  {
   "cell_type": "code",
   "execution_count": null,
   "metadata": {
    "collapsed": false
   },
   "outputs": [],
   "source": [
    "male.Tenure_months.describe(), female.Tenure_months.describe()"
   ]
  },
  {
   "cell_type": "code",
   "execution_count": null,
   "metadata": {
    "collapsed": false
   },
   "outputs": [],
   "source": [
    "min_tenure_months= empltbl.Tenure_months.min()\n",
    "max_tenure_months = empltbl.Tenure_months.max()\n",
    "print min_tenure_months, max_tenure_months\n",
    "tenure_month_range = np.linspace(min_tenure_months,max_tenure_months,65)\n",
    "len(tenure_month_range)"
   ]
  },
  {
   "cell_type": "code",
   "execution_count": null,
   "metadata": {
    "collapsed": false
   },
   "outputs": [],
   "source": [
    "male.Tenure_months.hist(normed=True,color='dodgerblue',bins=65,label='M')\n",
    "female.Tenure_months.hist(normed=True,color='deeppink',alpha=0.5,bins=65,label='F')\n",
    "plt.xlabel('Tenure_months')\n",
    "plt.ylabel('Normed Distribution')\n",
    "plt.legend()"
   ]
  },
  {
   "cell_type": "code",
   "execution_count": null,
   "metadata": {
    "collapsed": false
   },
   "outputs": [],
   "source": [
    "kmf_gender = KaplanMeierFitter()\n",
    "#plt.figure(figsize=(20,10))\n",
    "kmf_gender.fit(male.Tenure_months, timeline=tenure_month_range,event_observed=male.status)\n",
    "ax = kmf_gender.plot(c='dodgerblue',label='Male')\n",
    "kmf_gender.fit(female.Tenure_months,  timeline=tenure_month_range,event_observed=female.status)\n",
    "kmf_gender.plot(ax=ax, c='deeppink',label='Female')\n",
    "ylim(0,1.05)\n",
    "plt.ylabel('Survival Distribution Function')\n",
    "plt.xlabel('Tenure Months')"
   ]
  },
  {
   "cell_type": "markdown",
   "metadata": {
    "collapsed": true
   },
   "source": [
    "## Hazard Function"
   ]
  },
  {
   "cell_type": "code",
   "execution_count": null,
   "metadata": {
    "collapsed": false
   },
   "outputs": [],
   "source": [
    "from lifelines import NelsonAalenFitter\n",
    "#plt.figure(figsize=(12.5,8))\n",
    "naf = NelsonAalenFitter()\n",
    "naf.fit(male.Tenure_months,timeline=tenure_month_range, event_observed=male.status)\n",
    "ax = naf.plot(c='dodgerblue',label='Male')\n",
    "naf.fit(female.Tenure_months,  timeline=tenure_month_range,event_observed=female.status)\n",
    "naf.plot(ax=ax, c='deeppink',label='Female')\n",
    "#ylim(0,1.05)\n",
    "plt.ylabel('Hazard Function')\n",
    "plt.xlabel('Tenure Months')\n",
    "#fit(male.Tenure_months,timeline=tenure_month_range, event_observed=male.status)"
   ]
  },
  {
   "cell_type": "markdown",
   "metadata": {
    "collapsed": true
   },
   "source": [
    "### Repeat using age in years as timeline"
   ]
  },
  {
   "cell_type": "code",
   "execution_count": null,
   "metadata": {
    "collapsed": false
   },
   "outputs": [],
   "source": [
    "empltbl.Age_years.describe()"
   ]
  },
  {
   "cell_type": "code",
   "execution_count": null,
   "metadata": {
    "collapsed": false
   },
   "outputs": [],
   "source": [
    "sum(empltbl.Age_years > 80)"
   ]
  },
  {
   "cell_type": "code",
   "execution_count": null,
   "metadata": {
    "collapsed": false
   },
   "outputs": [],
   "source": [
    "min_age = empltbl.Age_years.min()\n",
    "max_age = empltbl.Age_years.max()\n",
    "print min_age, max_age, max_age - min_age\n",
    "delta_age= int(max_age - min_age)\n",
    "age_range = np.linspace(min_age,max_age,delta_age)\n",
    "len(age_range)"
   ]
  },
  {
   "cell_type": "code",
   "execution_count": null,
   "metadata": {
    "collapsed": false
   },
   "outputs": [],
   "source": [
    "kmf_age = KaplanMeierFitter()\n",
    "kmf_age.fit(empltbl.Age_years, timeline=age_range,event_observed=empltbl.status)\n",
    "kmf_age.plot(color='darkgoldenrod')\n",
    "plt.ylabel('Survival Distribution Function')"
   ]
  },
  {
   "cell_type": "code",
   "execution_count": null,
   "metadata": {
    "collapsed": false
   },
   "outputs": [],
   "source": [
    "male.Age_years.hist(normed=True,color='dodgerblue',bins=82,alpha=0.7,label='M')\n",
    "female.Age_years.hist(normed=True,color='deeppink',alpha=0.3,bins=82,label='F')\n",
    "plt.xlabel('Age_years')\n",
    "plt.ylabel('Normed Distribution')\n",
    "plt.legend()"
   ]
  },
  {
   "cell_type": "code",
   "execution_count": null,
   "metadata": {
    "collapsed": false
   },
   "outputs": [],
   "source": [
    "kmf_gender_age = KaplanMeierFitter()\n",
    "#plt.figure(figsize=(20,10))\n",
    "kmf_gender_age.fit(male.Age_years, timeline=age_range,event_observed=male.status)\n",
    "ax = kmf_gender_age.plot(c='dodgerblue',label='Male')\n",
    "kmf_gender_age.fit(female.Age_years,  timeline=age_range,event_observed=female.status)\n",
    "kmf_gender_age.plot(ax=ax, c='deeppink',label='Female')\n",
    "ylim(0,1.05)\n",
    "plt.ylabel('Survival Distribution Function')\n",
    "plt.xlabel('Age (years)')\n",
    "plt.title('Gender-split KM')"
   ]
  },
  {
   "cell_type": "markdown",
   "metadata": {},
   "source": [
    "## Cox Proportional Hazard Regression\n"
   ]
  },
  {
   "cell_type": "code",
   "execution_count": null,
   "metadata": {
    "collapsed": true
   },
   "outputs": [],
   "source": [
    "from lifelines import CoxPHFitter"
   ]
  },
  {
   "cell_type": "code",
   "execution_count": null,
   "metadata": {
    "collapsed": true
   },
   "outputs": [],
   "source": []
  },
  {
   "cell_type": "code",
   "execution_count": null,
   "metadata": {
    "collapsed": false
   },
   "outputs": [],
   "source": [
    "plt.scatter(empltbl.FLOORCNT1,empltbl.DEPTCNT1,color='burlywood',alpha=0.3)"
   ]
  },
  {
   "cell_type": "code",
   "execution_count": null,
   "metadata": {
    "collapsed": false
   },
   "outputs": [],
   "source": [
    "#pd.crosstab(empltbl, index = 'JOBCNT1',columns =\n",
    "#(empltbl, \n",
    "empltbl[['JOBCNT1','LOCCNT1','DEPTCNT1','GRADECNT1','FLOORCNT1','SUPVCNT1']].corr()"
   ]
  },
  {
   "cell_type": "code",
   "execution_count": null,
   "metadata": {
    "collapsed": false
   },
   "outputs": [],
   "source": [
    "c='EMPL_CLASS'\n",
    "empltbl[c].value_counts()"
   ]
  },
  {
   "cell_type": "code",
   "execution_count": null,
   "metadata": {
    "collapsed": false
   },
   "outputs": [],
   "source": [
    "\n",
    "len(empltbl[c].unique())"
   ]
  },
  {
   "cell_type": "code",
   "execution_count": null,
   "metadata": {
    "collapsed": false
   },
   "outputs": [],
   "source": [
    "plt.scatter(empltbl.ANNUAL_RT,empltbl.SAL1,color='burlywood',alpha=0.3)\n",
    "empltbl[['ANNUAL_RT','SAL1']].corr()"
   ]
  },
  {
   "cell_type": "code",
   "execution_count": null,
   "metadata": {
    "collapsed": false
   },
   "outputs": [],
   "source": [
    "len(empltbl[empltbl.ANNUAL_RT>0])"
   ]
  },
  {
   "cell_type": "code",
   "execution_count": null,
   "metadata": {
    "collapsed": false
   },
   "outputs": [],
   "source": [
    "np.log(empltbl.ANNUAL_RT+1).hist(bins=30)"
   ]
  },
  {
   "cell_type": "code",
   "execution_count": null,
   "metadata": {
    "collapsed": false
   },
   "outputs": [],
   "source": [
    "empltbl.SAL1.hist(bins=80)\n",
    "empltbl.SAL1.describe()"
   ]
  },
  {
   "cell_type": "code",
   "execution_count": null,
   "metadata": {
    "collapsed": false
   },
   "outputs": [],
   "source": [
    "sum(empltbl.SAL1 == 0.0)"
   ]
  },
  {
   "cell_type": "code",
   "execution_count": null,
   "metadata": {
    "collapsed": false
   },
   "outputs": [],
   "source": [
    "empltbl.RELOCATE_ALL_SFI.value_counts()"
   ]
  },
  {
   "cell_type": "code",
   "execution_count": null,
   "metadata": {
    "collapsed": false
   },
   "outputs": [],
   "source": [
    "empltbl.LOCATION.value_counts().hist(bins=50)"
   ]
  },
  {
   "cell_type": "code",
   "execution_count": null,
   "metadata": {
    "collapsed": false
   },
   "outputs": [],
   "source": [
    "empltbl.LOC_STATE.unique()"
   ]
  },
  {
   "cell_type": "markdown",
   "metadata": {
    "collapsed": false
   },
   "source": [
    "## encode some of the categorical columns"
   ]
  },
  {
   "cell_type": "markdown",
   "metadata": {
    "collapsed": true
   },
   "source": [
    "## Per discussion with HR TEAM on April 22, 2015"
   ]
  },
  {
   "cell_type": "code",
   "execution_count": null,
   "metadata": {
    "collapsed": true
   },
   "outputs": [],
   "source": [
    "empl = empltbl4[empltbl4.sep_status<=2] # Remove the OTHER & UNKNOWN reasons"
   ]
  },
  {
   "cell_type": "code",
   "execution_count": null,
   "metadata": {
    "collapsed": false
   },
   "outputs": [],
   "source": [
    "empl.shape"
   ]
  },
  {
   "cell_type": "code",
   "execution_count": null,
   "metadata": {
    "collapsed": false
   },
   "outputs": [],
   "source": [
    "# look at the list of ACTRES1 for  ReTIREMENT\n",
    "uniq_action_reasons_1 = empl.ACTRES1.unique()\n",
    "print len(uniq_action_reasons_1)\n",
    "#ret_action_reasons_1 = [x for x in uniq_action_reasons_1 if 'RETIREMENT' in x]\n",
    "#print len(ret_action_reasons_1)"
   ]
  },
  {
   "cell_type": "code",
   "execution_count": null,
   "metadata": {
    "collapsed": false
   },
   "outputs": [],
   "source": [
    "temp_list = [x.split(';') for x in uniq_action_reasons_1]\n",
    "from itertools import chain\n",
    "act_reason_1_list = list(chain.from_iterable(temp_list))\n",
    "print len(act_reason_1_list)"
   ]
  },
  {
   "cell_type": "code",
   "execution_count": null,
   "metadata": {
    "collapsed": true
   },
   "outputs": [],
   "source": [
    "act_reason_1_set = set(act_reason_1_list)"
   ]
  },
  {
   "cell_type": "code",
   "execution_count": null,
   "metadata": {
    "collapsed": false
   },
   "outputs": [],
   "source": [
    "len(act_reason_1_set)"
   ]
  },
  {
   "cell_type": "code",
   "execution_count": null,
   "metadata": {
    "collapsed": false
   },
   "outputs": [],
   "source": [
    "[x for x in act_reason_1_set if 'DISABI' in x]"
   ]
  },
  {
   "cell_type": "code",
   "execution_count": null,
   "metadata": {
    "collapsed": false
   },
   "outputs": [],
   "source": [
    "#possible_retire_codes = \n",
    "possible_retire_codes = [x for x in act_reason_1_set if ('RET' in x and  'RETURN' not in x) ]\n",
    "possible_retire_codes.append('DISABILITY')\n",
    "len(possible_retire_codes)"
   ]
  },
  {
   "cell_type": "code",
   "execution_count": null,
   "metadata": {
    "collapsed": false
   },
   "outputs": [],
   "source": [
    "possible_retire_codes.sort()"
   ]
  },
  {
   "cell_type": "code",
   "execution_count": null,
   "metadata": {
    "collapsed": false
   },
   "outputs": [],
   "source": [
    "possible_retire_codes"
   ]
  },
  {
   "cell_type": "code",
   "execution_count": null,
   "metadata": {
    "collapsed": false
   },
   "outputs": [],
   "source": [
    "t1 = empl.ACTRES1.ix[1]\n",
    "[a for a in t1.split(';') if a in possible_retire_codes ]"
   ]
  },
  {
   "cell_type": "code",
   "execution_count": null,
   "metadata": {
    "collapsed": false
   },
   "outputs": [],
   "source": [
    "possible_retire_codes"
   ]
  },
  {
   "cell_type": "code",
   "execution_count": null,
   "metadata": {
    "collapsed": false
   },
   "outputs": [],
   "source": [
    "empl['disabled'] = empl.ACTRES1.apply(lambda x: len([a for a in x.split(';') if a == 'DISABILITY']))\n",
    "empl[empl['disabled']!=0].Age_years.hist()"
   ]
  },
  {
   "cell_type": "code",
   "execution_count": null,
   "metadata": {
    "collapsed": false
   },
   "outputs": [],
   "source": [
    "sum(empl.disabled==1)"
   ]
  },
  {
   "cell_type": "code",
   "execution_count": null,
   "metadata": {
    "collapsed": false
   },
   "outputs": [],
   "source": [
    "empl.sep_status.value_counts()"
   ]
  },
  {
   "cell_type": "code",
   "execution_count": null,
   "metadata": {
    "collapsed": false
   },
   "outputs": [],
   "source": [
    "len(empl), len(empltbl4)"
   ]
  },
  {
   "cell_type": "code",
   "execution_count": null,
   "metadata": {
    "collapsed": false
   },
   "outputs": [],
   "source": [
    "empl[empl['retired']==1].Age_years.hist(bins=70,range=[16,85],color='darkorchid')\n",
    "empl[empl['retired']==0].Age_years.hist(bins=70,range=[16,86],color='forestgreen',alpha=0.7)"
   ]
  },
  {
   "cell_type": "code",
   "execution_count": null,
   "metadata": {
    "collapsed": false
   },
   "outputs": [],
   "source": [
    "sum(empl.retired==1)"
   ]
  },
  {
   "cell_type": "code",
   "execution_count": null,
   "metadata": {
    "collapsed": false
   },
   "outputs": [],
   "source": [
    "pd.crosstab(empl.retired,empl.sep_status)"
   ]
  },
  {
   "cell_type": "code",
   "execution_count": null,
   "metadata": {
    "collapsed": false
   },
   "outputs": [],
   "source": [
    "empl[(empl.sep_status==0) & (empl.retired==1)]['KEY']"
   ]
  },
  {
   "cell_type": "code",
   "execution_count": null,
   "metadata": {
    "collapsed": false
   },
   "outputs": [],
   "source": [
    "print empltbl[empltbl.KEY=='185980322857378'][date_columns]\n",
    "empltbl[empltbl.KEY=='185980322857378'].Age_years"
   ]
  },
  {
   "cell_type": "code",
   "execution_count": null,
   "metadata": {
    "collapsed": false
   },
   "outputs": [],
   "source": [
    "empltbl[empltbl.KEY=='185980322857378'][['ACTRES1','ACTRES2','ACTRES3','ACTRES4','ACTRES5','ACTRES6','ACTRES7','ACTRES9','ACTRES10']].values"
   ]
  },
  {
   "cell_type": "code",
   "execution_count": null,
   "metadata": {
    "collapsed": false
   },
   "outputs": [],
   "source": [
    "empl[empl['retired']==1].Age_years.hist(bins=70,range=[16,85],color='darkorchid',label='retired')\n",
    "empl[(empl['retired']==0) & (empl.status==1)].Age_years.hist(bins=70,range=[16,86],color='forestgreen',alpha=0.7,label='separated')\n",
    "empl[(empl['retired']==0) & (empl.status==0)].Age_years.hist(bins=70,range=[16,86],color='darkkhaki',alpha=0.7,label='current')\n",
    "#empl[(empl['retired']==0) & (empl.status==1)].Age_years.hist(bins=70,range=[16,86],color='forestgreen',alpha=0.7)\n",
    "plt.ylabel('Number of employees')\n",
    "plt.xlabel('Age')\n",
    "plt.legend()"
   ]
  },
  {
   "cell_type": "code",
   "execution_count": null,
   "metadata": {
    "collapsed": false
   },
   "outputs": [],
   "source": [
    "sum(empl.SAL1== 0.0)"
   ]
  },
  {
   "cell_type": "code",
   "execution_count": null,
   "metadata": {
    "collapsed": false
   },
   "outputs": [],
   "source": [
    "len(empl)"
   ]
  },
  {
   "cell_type": "markdown",
   "metadata": {},
   "source": [
    "## April 27, 2015 \n",
    "* need to categorize all data I can before loading into R"
   ]
  },
  {
   "cell_type": "code",
   "execution_count": null,
   "metadata": {
    "collapsed": false
   },
   "outputs": [],
   "source": [
    "empltbl4=pd.read_csv('employee_dataframe4.tsv',sep='\\t',index_col=0,dtype={'EMPL_CLASS':np.str,'EMPL_TYPE':np.str})\n",
    "empltbl4.shape"
   ]
  },
  {
   "cell_type": "code",
   "execution_count": null,
   "metadata": {
    "collapsed": false
   },
   "outputs": [],
   "source": [
    "sdf4 = summarize_dataframe2(empltbl4)"
   ]
  },
  {
   "cell_type": "code",
   "execution_count": null,
   "metadata": {
    "collapsed": false
   },
   "outputs": [],
   "source": [
    "sdf4[sdf4.datatype=='object']"
   ]
  },
  {
   "cell_type": "code",
   "execution_count": null,
   "metadata": {
    "collapsed": false
   },
   "outputs": [],
   "source": [
    "# convert ethnic_group to int\n",
    "empltbl4['ETHNIC_GROUP'] = empltbl4['ETHNIC_GROUP'].apply(lambda x: int(x))"
   ]
  },
  {
   "cell_type": "code",
   "execution_count": null,
   "metadata": {
    "collapsed": false
   },
   "outputs": [],
   "source": [
    "empltbl4.STATE.value_counts()[empltbl4.STATE.value_counts()<50]"
   ]
  },
  {
   "cell_type": "code",
   "execution_count": null,
   "metadata": {
    "collapsed": false
   },
   "outputs": [],
   "source": [
    "empltbl4.LOC_STATE.value_counts()[empltbl4.LOC_STATE.value_counts()<50]"
   ]
  },
  {
   "cell_type": "code",
   "execution_count": null,
   "metadata": {
    "collapsed": false
   },
   "outputs": [],
   "source": [
    "empltbl4[empltbl4.STATE=='HH'][['status','LOC_STATE','STATE','KEY']]#in [11,29]]"
   ]
  },
  {
   "cell_type": "code",
   "execution_count": null,
   "metadata": {
    "collapsed": false
   },
   "outputs": [],
   "source": [
    "empltbl[empltbl.STATE=='BC'][['KEY','LOC_STATE','STATE','status','POSTAL_SFI','ADDRESS1','ADDRESS2','TERMINATION_DT','GRADE','LOCATION']]"
   ]
  },
  {
   "cell_type": "code",
   "execution_count": null,
   "metadata": {
    "collapsed": false
   },
   "outputs": [],
   "source": [
    "empltbl[empltbl.KEY=='811710100533306'].values\n",
    "#empltbl[empltbl.KEY=='296979068916747'].values"
   ]
  },
  {
   "cell_type": "code",
   "execution_count": null,
   "metadata": {
    "collapsed": false
   },
   "outputs": [],
   "source": [
    "empltbl[empltbl.KEY=='811710100533306'][['ADDRESS1','ADDRESS2','LOCATION','POSTAL_SFI']]"
   ]
  },
  {
   "cell_type": "code",
   "execution_count": null,
   "metadata": {
    "collapsed": false
   },
   "outputs": [],
   "source": [
    "empltbl4.SEX.value_counts()\n",
    "empltbl4['COMP_FREQ_ANNUAL'] = 1\n",
    "empltbl4.loc[empltbl4['COMP_FREQUENCY']=='H','COMP_FREQ_ANNUAL'] = 0\n",
    "#empltbl4.drop('COMP_FREQUENCY',axis=1,inplace=True)\n",
    "\n",
    "# now deal with male,female\n",
    "empltbl4.replace({'SEX':{'M': 1,'F':0}},inplace=True)\n",
    "empltbl4[['COMP_FREQ_ANNUAL','SEX','SHIFT']].head()"
   ]
  },
  {
   "cell_type": "code",
   "execution_count": null,
   "metadata": {
    "collapsed": false
   },
   "outputs": [],
   "source": [
    "empltbl4.COMP_FREQ_ANNUAL.value_counts()"
   ]
  },
  {
   "cell_type": "code",
   "execution_count": null,
   "metadata": {
    "collapsed": false
   },
   "outputs": [],
   "source": [
    "empltbl4.drop('COMP_FREQUENCY',axis=1,inplace=True)\n",
    "empltbl4.drop('STATE',axis=1,inplace=True)\n",
    "empltbl4.shape\n"
   ]
  },
  {
   "cell_type": "code",
   "execution_count": null,
   "metadata": {
    "collapsed": true
   },
   "outputs": [],
   "source": [
    "# assign 1 to Y, 0 to N for the following columns\n",
    "columns_to_fix_NY = ['INTERN','FULLPART1','RELOCATE_ALL_SFI','HUBIND','REMOTE','REMOTE_SUPV','SUPV_DIFF_LOC','PARTFULL1']\n",
    "for acol in columns_to_fix_NY:\n",
    "    empltbl4.replace({acol :{'Y':1,'N':0}},inplace=True) "
   ]
  },
  {
   "cell_type": "code",
   "execution_count": null,
   "metadata": {
    "collapsed": true
   },
   "outputs": [],
   "source": [
    "cols_to_cat = ['FLSA_STATUS','FULL_PART_TIME','SHIFT','EMPL_TYPE','COMPANY','ETHNIC_GROUP','EEO1CODE','EMPL_CLASS','JOB_FUNCTION']"
   ]
  },
  {
   "cell_type": "code",
   "execution_count": null,
   "metadata": {
    "collapsed": false
   },
   "outputs": [],
   "source": [
    "sdf4.sort(['arity','datatype'],ascending =True)[sdf4.arity > 9]"
   ]
  },
  {
   "cell_type": "code",
   "execution_count": null,
   "metadata": {
    "collapsed": false
   },
   "outputs": [],
   "source": [
    "## convert HIRE_DT to HIRE_YEAR\n",
    "[c for c in empltbl4.columns if c.endswith('DT')]"
   ]
  },
  {
   "cell_type": "code",
   "execution_count": null,
   "metadata": {
    "collapsed": false
   },
   "outputs": [],
   "source": [
    "empltbl4['retired'] = empltbl4.ACTRES1.apply(lambda x: identify_retired(x))\n",
    "sum(empltbl4.retired==1)"
   ]
  },
  {
   "cell_type": "code",
   "execution_count": null,
   "metadata": {
    "collapsed": false
   },
   "outputs": [],
   "source": [
    "# encode the VOLINVOL column as ['INVOLUNTARY':2,'VOLUNTARY':1,'NOT':0,'\n",
    "empltbl4['sep_status'] = empltbl4['VOLINVOL'].replace({'NOT':0,'VOLUNTARY':1,'INVOLUNTARY':2,'OTHER':3,'UNKNOWN':3})\n",
    "empltbl4.sep_status.value_counts()"
   ]
  },
  {
   "cell_type": "code",
   "execution_count": null,
   "metadata": {
    "collapsed": true
   },
   "outputs": [],
   "source": [
    "empl = empltbl4.copy()"
   ]
  },
  {
   "cell_type": "code",
   "execution_count": null,
   "metadata": {
    "collapsed": false
   },
   "outputs": [],
   "source": [
    "empl = empltbl4.copy()\n",
    "empl.drop(['VOLINVOL','ACTRES1','HIRE_DT'],axis=1,inplace=True)\n",
    "empl.head()"
   ]
  },
  {
   "cell_type": "code",
   "execution_count": null,
   "metadata": {
    "collapsed": false
   },
   "outputs": [],
   "source": [
    "egrp, bc1 = create_factorized_df(empl,acol)"
   ]
  },
  {
   "cell_type": "code",
   "execution_count": null,
   "metadata": {
    "collapsed": false
   },
   "outputs": [],
   "source": [
    "sgrp, bc1 = create_factorized_dfrized_df(empl,'LOC_STATE')"
   ]
  },
  {
   "cell_type": "code",
   "execution_count": null,
   "metadata": {
    "collapsed": true
   },
   "outputs": [],
   "source": [
    "more_cols_to_cat = ['LOC_STATE','GRADE','EXT_FUNC_ID_SFI','JOB_FAMILY']"
   ]
  },
  {
   "cell_type": "code",
   "execution_count": null,
   "metadata": {
    "collapsed": false
   },
   "outputs": [],
   "source": [
    "## remove sep_status == 3\n",
    "empl=empl[empl.sep_status<3].copy()\n",
    "empl.shape"
   ]
  },
  {
   "cell_type": "code",
   "execution_count": null,
   "metadata": {
    "collapsed": false
   },
   "outputs": [],
   "source": [
    "for acol in more_cols_to_cat[:2]:\n",
    "    print acol\n",
    "    t_df,bc1 = create_factorized_df(empl,acol)\n",
    "    # drop the original column\n",
    "    empl.drop(acol,inplace=True,axis=1)\n",
    "    # append the factorized categories\n",
    "    empl = pd.concat([empl,t_df],axis=1)\n",
    "    base_category_list.append(bc1)\n"
   ]
  },
  {
   "cell_type": "code",
   "execution_count": null,
   "metadata": {
    "collapsed": false
   },
   "outputs": [],
   "source": [
    "empl.shape"
   ]
  },
  {
   "cell_type": "code",
   "execution_count": null,
   "metadata": {
    "collapsed": true
   },
   "outputs": [],
   "source": []
  },
  {
   "cell_type": "code",
   "execution_count": null,
   "metadata": {
    "collapsed": false
   },
   "outputs": [],
   "source": [
    "## save this to a file\n",
    "empl.drop(more_cols_to_cat[2:],axis=1,inplace=True)\n",
    "empl.drop('KEY',axis=1,inplace=True)\n",
    "empl.to_csv('employee_dataframe5.tsv',sep='\\t',index =False)"
   ]
  },
  {
   "cell_type": "markdown",
   "metadata": {
    "collapsed": true
   },
   "source": [
    "#### create integers for times; required for CoxPH in H2O."
   ]
  },
  {
   "cell_type": "code",
   "execution_count": null,
   "metadata": {
    "collapsed": false
   },
   "outputs": [],
   "source": [
    "empl[['Age','Tenure']] = empl[['Age_years','Tenure_years']].applymap(lambda x: int(round(x,0)))"
   ]
  },
  {
   "cell_type": "code",
   "execution_count": null,
   "metadata": {
    "collapsed": false
   },
   "outputs": [],
   "source": [
    "empl[['Age','Age_years']].head()"
   ]
  },
  {
   "cell_type": "code",
   "execution_count": null,
   "metadata": {
    "collapsed": false
   },
   "outputs": [],
   "source": [
    "empl.to_csv('employee_dataframe6.tsv',sep='\\t',index =False)"
   ]
  },
  {
   "cell_type": "code",
   "execution_count": null,
   "metadata": {
    "collapsed": false
   },
   "outputs": [],
   "source": [
    "sdfB = summarize_dataframe2(empl)"
   ]
  },
  {
   "cell_type": "code",
   "execution_count": null,
   "metadata": {
    "collapsed": false
   },
   "outputs": [],
   "source": [
    "sdfB.sort('arity')"
   ]
  },
  {
   "cell_type": "code",
   "execution_count": null,
   "metadata": {
    "collapsed": false
   },
   "outputs": [],
   "source": [
    "\n",
    "#empl.FUNC_ID_SFI.value_counts()"
   ]
  },
  {
   "cell_type": "code",
   "execution_count": null,
   "metadata": {
    "collapsed": false
   },
   "outputs": [],
   "source": [
    "def convert_to_int(x):\n",
    "    try:\n",
    "        x=int(x)\n",
    "    except:\n",
    "        x=-1\n",
    "    return x\n",
    "\n",
    "empl.FUNC_ID_SFI = empl.FUNC_ID_SFI.apply(lambda x: convert_to_int(x))\n",
    "len(empl.FUNC_ID_SFI.unique())"
   ]
  },
  {
   "cell_type": "code",
   "execution_count": null,
   "metadata": {
    "collapsed": false
   },
   "outputs": [],
   "source": [
    "len(empl)"
   ]
  },
  {
   "cell_type": "code",
   "execution_count": null,
   "metadata": {
    "collapsed": true
   },
   "outputs": [],
   "source": [
    "empl.drop(['LOCATION','LEGACY_DEPT_SFI','Tenure_months'],axis=1,inplace=True)"
   ]
  },
  {
   "cell_type": "code",
   "execution_count": null,
   "metadata": {
    "collapsed": true
   },
   "outputs": [],
   "source": [
    "empl.to_csv('employee_dataframe5.tsv',sep='\\t',ignore_index =True)"
   ]
  },
  {
   "cell_type": "code",
   "execution_count": null,
   "metadata": {
    "collapsed": false
   },
   "outputs": [],
   "source": [
    "[c for c  in enumerate(list(empl.columns))]"
   ]
  },
  {
   "cell_type": "code",
   "execution_count": null,
   "metadata": {
    "collapsed": false
   },
   "outputs": [],
   "source": [
    "empl.loc[:2000,'status'].value_counts()"
   ]
  },
  {
   "cell_type": "code",
   "execution_count": null,
   "metadata": {
    "collapsed": false
   },
   "outputs": [],
   "source": [
    "empl.loc[:2000,'retired'].value_counts()"
   ]
  },
  {
   "cell_type": "code",
   "execution_count": null,
   "metadata": {
    "collapsed": false
   },
   "outputs": [],
   "source": [
    "sum(empl.retired==1)"
   ]
  },
  {
   "cell_type": "code",
   "execution_count": null,
   "metadata": {
    "collapsed": false
   },
   "outputs": [],
   "source": [
    "empl.loc[:4000,'retired'].value_counts()\n"
   ]
  },
  {
   "cell_type": "code",
   "execution_count": null,
   "metadata": {
    "collapsed": true
   },
   "outputs": [],
   "source": [
    "#X = patsy.dmatrix('Age_years + COMPANY + INTERN + SEX',empltbl4, return_type='dataframe')\n",
    "#X.columns\n",
    "aaf = AalenAdditiveFitter(penalizer=1.0, fit_intercept=True)\n",
    "X['T'] = empltbl4['Tenure_years']\n",
    "X['E'] = empltbl4['status']"
   ]
  },
  {
   "cell_type": "code",
   "execution_count": null,
   "metadata": {
    "collapsed": true
   },
   "outputs": [],
   "source": [
    "empl.Age_years"
   ]
  },
  {
   "cell_type": "code",
   "execution_count": null,
   "metadata": {
    "collapsed": false
   },
   "outputs": [],
   "source": [
    "Xft = patsy.dmatrix( 'Age_years +ANNUAL_RT+PERF1+INTERN+SEX',empl,return_type='dataframe')\n",
    "Xft.shape"
   ]
  },
  {
   "cell_type": "code",
   "execution_count": null,
   "metadata": {
    "collapsed": true
   },
   "outputs": [],
   "source": [
    "Xft['T'] = empl.Tenure_years#empl.ix[:4010]['Tenure_years']\n",
    "Xft['E']=empl.retired#empl.ix[:4010]['retired']"
   ]
  },
  {
   "cell_type": "code",
   "execution_count": null,
   "metadata": {
    "collapsed": false
   },
   "outputs": [],
   "source": [
    "aaf_ret = AalenAdditiveFitter(penalizer=1.0, fit_intercept=True)\n",
    "aaf_ret.fit(Xft,'T','E')"
   ]
  },
  {
   "cell_type": "code",
   "execution_count": null,
   "metadata": {
    "collapsed": false
   },
   "outputs": [],
   "source": [
    "aaf_ret.plot(columns=['baseline','Age_years','INTERN','SEX','ANNUAL_RT'],ix=slice(1,15))"
   ]
  },
  {
   "cell_type": "code",
   "execution_count": null,
   "metadata": {
    "collapsed": false
   },
   "outputs": [],
   "source": [
    "from lifelines import CoxPHFitter\n",
    "cf = CoxPHFitter()"
   ]
  },
  {
   "cell_type": "code",
   "execution_count": null,
   "metadata": {
    "collapsed": false
   },
   "outputs": [],
   "source": [
    "%%time \n",
    "cf.fit(Xft[Xft.columns[1:]],'T','E')"
   ]
  },
  {
   "cell_type": "code",
   "execution_count": null,
   "metadata": {
    "collapsed": false
   },
   "outputs": [],
   "source": [
    "cf.summary()"
   ]
  },
  {
   "cell_type": "code",
   "execution_count": null,
   "metadata": {
    "collapsed": false
   },
   "outputs": [],
   "source": [
    "few_columns1=['Age_years','ANNUAL_RT','PERF1','INTERN','SEX','Tenure_years','retired']\n",
    "reduced1 = empl.loc[:,few_columns1].copy()\n",
    "reduced1.shape"
   ]
  },
  {
   "cell_type": "code",
   "execution_count": null,
   "metadata": {
    "collapsed": false
   },
   "outputs": [],
   "source": [
    "%%time \n",
    "cf.fit(reduced1,'Tenure_years','retired')"
   ]
  },
  {
   "cell_type": "code",
   "execution_count": null,
   "metadata": {
    "collapsed": false
   },
   "outputs": [],
   "source": [
    "cf.summary()"
   ]
  },
  {
   "cell_type": "code",
   "execution_count": null,
   "metadata": {
    "collapsed": false
   },
   "outputs": [],
   "source": [
    "cf.confidence_intervals_.head()"
   ]
  },
  {
   "cell_type": "code",
   "execution_count": null,
   "metadata": {
    "collapsed": false
   },
   "outputs": [],
   "source": [
    "cf.hazards_.head()"
   ]
  },
  {
   "cell_type": "code",
   "execution_count": null,
   "metadata": {
    "collapsed": false
   },
   "outputs": [],
   "source": [
    "sum(aaf_ret.event_observed)"
   ]
  },
  {
   "cell_type": "code",
   "execution_count": null,
   "metadata": {
    "collapsed": true
   },
   "outputs": [],
   "source": [
    "from lifelines.utils import k_fold_cross_validation\n",
    "xv_cf = CoxPHFitter()\n",
    "cf_scores = k_fold_cross_validation(xv_cf, reduced1,duration_col='Tenure_years',event_col='retired',k=10)"
   ]
  },
  {
   "cell_type": "code",
   "execution_count": null,
   "metadata": {
    "collapsed": false
   },
   "outputs": [],
   "source": [
    "cf_scores.mean(), cf_scores.std()"
   ]
  },
  {
   "cell_type": "code",
   "execution_count": null,
   "metadata": {
    "collapsed": false
   },
   "outputs": [],
   "source": [
    "xv_cf.hazards_"
   ]
  },
  {
   "cell_type": "code",
   "execution_count": null,
   "metadata": {
    "collapsed": false
   },
   "outputs": [],
   "source": [
    "reduced1.ix[44]"
   ]
  },
  {
   "cell_type": "code",
   "execution_count": null,
   "metadata": {
    "collapsed": false
   },
   "outputs": [],
   "source": [
    "np.shape(reduced1.iloc[4:5,:-2].values)\n",
    "retired_sf_avg = xv_cf.predict_survival_function(reduced1[reduced1.retired==1][reduced1.columns[:-2]].values).mean(axis=1)#.plot()#.iloc[34:35,:-2].values).plot()"
   ]
  },
  {
   "cell_type": "code",
   "execution_count": null,
   "metadata": {
    "collapsed": true
   },
   "outputs": [],
   "source": [
    "notretired_sf_avg = xv_cf.predict_survival_function(reduced1[reduced1.retired==0][reduced1.columns[:-2]].values).mean(axis=1)"
   ]
  },
  {
   "cell_type": "code",
   "execution_count": null,
   "metadata": {
    "collapsed": false
   },
   "outputs": [],
   "source": [
    "xv_cf.predict_survival_function(re"
   ]
  },
  {
   "cell_type": "code",
   "execution_count": null,
   "metadata": {
    "collapsed": false
   },
   "outputs": [],
   "source": [
    "retired_sf_avg.plot(label='retired')\n",
    "notretired_sf_avg.plot(label='not-retired')\n",
    "plt.xlabel('Tenure Years')\n",
    "plt.ylabel('Predicted Survival Function')"
   ]
  },
  {
   "cell_type": "code",
   "execution_count": null,
   "metadata": {
    "collapsed": false
   },
   "outputs": [],
   "source": [
    "reduced1.iloc[24:25,:-2]"
   ]
  },
  {
   "cell_type": "code",
   "execution_count": null,
   "metadata": {
    "collapsed": false
   },
   "outputs": [],
   "source": [
    "cf.baseline_survival_.plot()"
   ]
  },
  {
   "cell_type": "markdown",
   "metadata": {
    "collapsed": true
   },
   "source": [
    "## examining relationships (correlations) between columns"
   ]
  },
  {
   "cell_type": "code",
   "execution_count": null,
   "metadata": {
    "collapsed": false
   },
   "outputs": [],
   "source": [
    "empl[['Tenure_years','hire_year']].corr()"
   ]
  },
  {
   "cell_type": "code",
   "execution_count": null,
   "metadata": {
    "collapsed": false
   },
   "outputs": [],
   "source": [
    "empl.plot(kind='scatter',x='Tenure_years',y='hire_year',\n",
    "          alpha=0.3)"
   ]
  },
  {
   "cell_type": "code",
   "execution_count": null,
   "metadata": {
    "collapsed": false
   },
   "outputs": [],
   "source": [
    "empl.plot(kind='scatter',x='hire_year',y='Age_years',\n",
    "          alpha=0.3)"
   ]
  },
  {
   "cell_type": "code",
   "execution_count": null,
   "metadata": {
    "collapsed": false
   },
   "outputs": [],
   "source": [
    "[x for x in empl.columns if x.endswith('MOS')]"
   ]
  },
  {
   "cell_type": "code",
   "execution_count": null,
   "metadata": {
    "collapsed": false
   },
   "outputs": [],
   "source": [
    "empl.plot(kind='scatter',x='CUR_LOC_MOS',y='CUR_DEPT_MOS',color='chartreuse',          alpha=0.3)"
   ]
  },
  {
   "cell_type": "code",
   "execution_count": null,
   "metadata": {
    "collapsed": false
   },
   "outputs": [],
   "source": [
    "pd.crosstab(empl.CUR_DEPT_MOS,empl.CUR_FUNC_MOS)"
   ]
  },
  {
   "cell_type": "code",
   "execution_count": null,
   "metadata": {
    "collapsed": false
   },
   "outputs": [],
   "source": [
    "empl.Tenure.describe()\n"
   ]
  },
  {
   "cell_type": "code",
   "execution_count": null,
   "metadata": {
    "collapsed": false
   },
   "outputs": [],
   "source": [
    "empl.Tenure.hist(bins=65,color='steelblue')"
   ]
  },
  {
   "cell_type": "markdown",
   "metadata": {
    "collapsed": true
   },
   "source": [
    "## EXPLORE more about some of these features.\n",
    "* especially ones that may be missing or zeroed out\n",
    "* SAL1, MIN_RT_ANNUAL"
   ]
  },
  {
   "cell_type": "code",
   "execution_count": null,
   "metadata": {
    "collapsed": false
   },
   "outputs": [],
   "source": [
    "empl.MIN_RT_ANNUAL.describe()"
   ]
  },
  {
   "cell_type": "code",
   "execution_count": null,
   "metadata": {
    "collapsed": false
   },
   "outputs": [],
   "source": [
    "sum(empl.MIN_RT_ANNUAL==0.0), sum(empl.MAX_RT_ANNUAL==0.0)"
   ]
  },
  {
   "cell_type": "code",
   "execution_count": null,
   "metadata": {
    "collapsed": false
   },
   "outputs": [],
   "source": [
    "empl[empl.MIN_RT_ANNUAL==0.0]['Tenure'].hist(range=[0,64],normed=True,bins=65)\n",
    "empl[empl.MIN_RT_ANNUAL!=0.0]['Tenure'].hist(range=[0,64],normed=True,bins=65,alpha=0.6)"
   ]
  },
  {
   "cell_type": "code",
   "execution_count": null,
   "metadata": {
    "collapsed": false
   },
   "outputs": [],
   "source": [
    "empl[empl.MIN_RT_ANNUAL>0].MIN_RT_ANNUAL.hist(bins=30)"
   ]
  },
  {
   "cell_type": "code",
   "execution_count": null,
   "metadata": {
    "collapsed": false
   },
   "outputs": [],
   "source": [
    "empl[empl.MIN_RT_ANNUAL>1].MIN_RT_ANNUAL.describe()"
   ]
  },
  {
   "cell_type": "code",
   "execution_count": null,
   "metadata": {
    "collapsed": false
   },
   "outputs": [],
   "source": [
    "empl[empl.MAX_RT_ANNUAL>1].MAX_RT_ANNUAL.describe()"
   ]
  },
  {
   "cell_type": "code",
   "execution_count": null,
   "metadata": {
    "collapsed": false
   },
   "outputs": [],
   "source": [
    "print empl.TELE_MOS.describe()\n",
    "empl.plot(kind='scatter', x='TELE_MOS',y='status')"
   ]
  },
  {
   "cell_type": "code",
   "execution_count": null,
   "metadata": {
    "collapsed": false
   },
   "outputs": [],
   "source": [
    "[c for c in empl.columns if c.startswith('JOB_FUNCTION')]\n",
    "#pd.crosstab(empl.GRADE_MA1,empl.JOB_FUNCTION_OTH)"
   ]
  },
  {
   "cell_type": "code",
   "execution_count": null,
   "metadata": {
    "collapsed": false
   },
   "outputs": [],
   "source": [
    "pd.crosstab(empltbl4.GRADE,empltbl4.JOB_FUNCTION)"
   ]
  },
  {
   "cell_type": "code",
   "execution_count": null,
   "metadata": {
    "collapsed": false
   },
   "outputs": [],
   "source": []
  },
  {
   "cell_type": "code",
   "execution_count": null,
   "metadata": {
    "collapsed": false
   },
   "outputs": [],
   "source": [
    "rl_grades = [x for x in empltbl2.GRADE.unique() if str(x).startswith('RL')]\n",
    "rj_grades = [x for x in empltbl2.GRADE.unique() if str(x).startswith('RJ')]"
   ]
  },
  {
   "cell_type": "code",
   "execution_count": null,
   "metadata": {
    "collapsed": false
   },
   "outputs": [],
   "source": [
    "sum(empltbl2.GRADE.isin(rl_grades)), sum(empltbl2.GRADE.isin(rj_grades))"
   ]
  },
  {
   "cell_type": "code",
   "execution_count": null,
   "metadata": {
    "collapsed": false
   },
   "outputs": [],
   "source": [
    "rls = empltbl2.GRADE.isin(rl_grades)\n",
    "rjs = empltbl2.GRADE.isin(rj_grades)\n",
    "empltbl2[rls].SAL1.hist()\n",
    "empltbl2[rjs].SAL1.hist()\n"
   ]
  },
  {
   "cell_type": "code",
   "execution_count": null,
   "metadata": {
    "collapsed": false
   },
   "outputs": [],
   "source": [
    "[c for c in empltbl2.columns if c.startswith('Ten')]"
   ]
  },
  {
   "cell_type": "code",
   "execution_count": null,
   "metadata": {
    "collapsed": false
   },
   "outputs": [],
   "source": [
    "empltbl2[rls].plot(kind='scatter',x='Tenure_months',y='SAL1')\n",
    "empltbl2[rjs].plot(kind='scatter',x='Tenure_months',y='SAL1')"
   ]
  },
  {
   "cell_type": "markdown",
   "metadata": {
    "collapsed": true
   },
   "source": [
    "## May 18, 2015\n",
    "* look at loading EAS (absences) data\n"
   ]
  },
  {
   "cell_type": "code",
   "execution_count": null,
   "metadata": {
    "collapsed": false
   },
   "outputs": [],
   "source": [
    "whos"
   ]
  },
  {
   "cell_type": "code",
   "execution_count": null,
   "metadata": {
    "collapsed": true
   },
   "outputs": [],
   "source": []
  }
 ],
 "metadata": {
  "kernelspec": {
   "display_name": "Python 2",
   "language": "python",
   "name": "python2"
  },
  "language_info": {
   "codemirror_mode": {
    "name": "ipython",
    "version": 2
   },
   "file_extension": ".py",
   "mimetype": "text/x-python",
   "name": "python",
   "nbconvert_exporter": "python",
   "pygments_lexer": "ipython2",
   "version": "2.7.10"
  }
 },
 "nbformat": 4,
 "nbformat_minor": 0
}
