{
 "cells": [
  {
   "cell_type": "markdown",
   "metadata": {},
   "source": [
    "# HR Separation Project\n",
    "----\n",
    "## Beginning some more rigorous approaches to analysis of an already processed file.\n"
   ]
  },
  {
   "cell_type": "markdown",
   "metadata": {},
   "source": [
    "### load the prerequisite modules"
   ]
  },
  {
   "cell_type": "code",
   "execution_count": 1,
   "metadata": {
    "collapsed": true
   },
   "outputs": [],
   "source": [
    "### load the basic files\n",
    "import os,subprocess,sys\n",
    "import pandas as pd\n",
    "import numpy as np\n",
    "%matplotlib inline\n",
    "from datetime import datetime\n",
    "import matplotlib.pyplot as plt\n",
    "from itertools import chain\n",
    "import random\n",
    "import seaborn as sns\n",
    "from glob import glob\n",
    "plt.style.use('ggplot')"
   ]
  },
  {
   "cell_type": "code",
   "execution_count": 2,
   "metadata": {
    "collapsed": true
   },
   "outputs": [],
   "source": [
    "coredir = '/data/discovery/hrsepara/core/'\n",
    "stgdir1 = '/data/discovery/hrsepara/staging/eda'\n",
    "stgdir1local = '/home/kesj/work/hrsepara/eda'\n",
    "repodir = '/home/kesj/lib/repo/'"
   ]
  },
  {
   "cell_type": "code",
   "execution_count": 3,
   "metadata": {
    "collapsed": true
   },
   "outputs": [],
   "source": [
    "os.chdir(repodir)\n",
    "import bear.bear as br"
   ]
  },
  {
   "cell_type": "code",
   "execution_count": 4,
   "metadata": {
    "collapsed": true
   },
   "outputs": [],
   "source": [
    "os.chdir(stgdir1local)"
   ]
  },
  {
   "cell_type": "code",
   "execution_count": 5,
   "metadata": {
    "collapsed": false
   },
   "outputs": [
    {
     "name": "stdout",
     "output_type": "stream",
     "text": [
      "c2_EAS.ssv                   employee_dataframe.tsv\r\n",
      "cp_SR_EAS.txt                employee_df_1.csv\r\n",
      "empl1_aaf_1_ci.pkl           employee_df_2.csv\r\n",
      "empl_aaf_1_hazards.pkl       employee_table_summary_3.csv\r\n",
      "empl_aaf_1.pkl               employee_table_summary.csv\r\n",
      "employee_dataframe3.ssv      fourthousand_rfsc1.RData\r\n",
      "employee_dataframe4.tsv      fthou_rf_sepTen.RData\r\n",
      "employee_dataframe5.tsv      histret_mod\r\n",
      "employee_dataframe6.tsv      SBR\r\n",
      "employee_dataframe7long.tsv  sbr_mod\r\n",
      "employee_dataframe8.tsv      tree0.dot\r\n",
      "employee_dataframe9.tsv      tree.dot\r\n",
      "employee_dataframe.ssv       \u001b[0m\u001b[01;32mus_unemployment_monthly_seas.csv\u001b[0m*\r\n",
      "\u001b[m"
     ]
    }
   ],
   "source": [
    "%ls"
   ]
  },
  {
   "cell_type": "code",
   "execution_count": null,
   "metadata": {
    "collapsed": false
   },
   "outputs": [],
   "source": [
    "empl1 = pd.read_csv('employee_dataframe.tsv',sep='\\t',dtype={'KEY':np.str,'SKEY':np.str})\n",
    "empl1.drop('Unnamed: 0',axis=1,inplace=True)\n",
    "empl1.SKEY.head()"
   ]
  },
  {
   "cell_type": "markdown",
   "metadata": {},
   "source": [
    "###load the datafile"
   ]
  },
  {
   "cell_type": "code",
   "execution_count": 6,
   "metadata": {
    "collapsed": false
   },
   "outputs": [
    {
     "name": "stdout",
     "output_type": "stream",
     "text": [
      "(199346, 188)\n"
     ]
    }
   ],
   "source": [
    "datafile = 'employee_dataframe9.tsv'\n",
    "empl_bene = pd.read_csv(datafile,sep='\\t',dtype={'KEY':np.str,'zip5':np.str,'SKEY':np.str})\n",
    "empl_bene.drop('Unnamed: 0',axis=1,inplace=True)\n",
    "# drop per_org --> universally EMP\n",
    "empl_bene.drop('PER_ORG',axis=1,inplace=True)\n",
    "print empl_bene.shape"
   ]
  },
  {
   "cell_type": "markdown",
   "metadata": {},
   "source": [
    "### specify the column information"
   ]
  },
  {
   "cell_type": "code",
   "execution_count": 7,
   "metadata": {
    "collapsed": true
   },
   "outputs": [],
   "source": [
    "def summarize_dataframe2(df,show_example=False):\n",
    "    nrow = len(df)\n",
    "    summary_df = pd.DataFrame(columns = ['Column','datatype','nmissing','arity','accepted values'])\n",
    "    len_df = len(summary_df)\n",
    "    for col in df.columns:\n",
    "        nmiss = nrow - df[col].value_counts().sum()\n",
    "        narity = len(df[col].unique())\n",
    "        if show_example:\n",
    "            r_index =random.randint(0,nrow)\n",
    "            print col, df[col].dtype,nmiss, \"\\t\", narity,\":\\t\", df[col].ix[r_index]\n",
    "        else:\n",
    "            print col, df[col].dtype,nmiss, \"\\t\", narity\n",
    "        accept_val = None\n",
    "        if narity < 20:\n",
    "            accept_val = df[col].unique()\n",
    "        summary_df.loc[len_df] = [col,df[col].dtype,nmiss,narity,accept_val]\n",
    "        len_df+=1\n",
    "    return summary_df"
   ]
  },
  {
   "cell_type": "code",
   "execution_count": 8,
   "metadata": {
    "collapsed": false
   },
   "outputs": [
    {
     "name": "stdout",
     "output_type": "stream",
     "text": [
      "ACTRES1 object 10 \t25519\n",
      "ACTRES10 object 120322 \t12096\n",
      "ACTRES2 object 30258 \t22254\n",
      "ACTRES3 object 56780 \t19758\n",
      "ACTRES4 object 74550 \t18074\n",
      "ACTRES5 object 85571 \t14494\n",
      "ACTRES6 object 93133 \t11929\n",
      "ACTRES7 object 99988 \t12926\n",
      "ACTRES8 object 107671 \t11037\n",
      "ACTRES9 object 113909 \t11376\n",
      "ADDRCNT1 float64 111 \t6\n",
      "ADDRCNT10 float64 111 \t15\n",
      "ADDRCNT3 float64 111 \t10\n",
      "ADDRCNT5 float64 111 \t12\n",
      "ADDRESS1 object 113 \t190400\n",
      "ADDRESS2 object 185702 \t7859\n",
      "ANNUAL_RT float64 0 \t123689\n",
      "Age_tdelta object 0 \t19297\n",
      "Age_years float64 0 \t19297\n",
      "BIRTHDATE object 0 \t24349\n",
      "BOX1 float64 69984 \t4\n",
      "BOX10 float64 127920 \t4\n",
      "BOX2 float64 61813 \t4\n",
      "BOX3 float64 78216 \t4\n",
      "BOX4 float64 89163 \t4\n",
      "BOX5 float64 96822 \t4\n",
      "BOX6 float64 103260 \t4\n",
      "BOX7 float64 110764 \t4\n",
      "BOX8 float64 116598 \t4\n",
      "BOX9 float64 122605 \t4\n",
      "COMPANY int64 0 \t7\n",
      "hourly_comp int64 0 \t2\n",
      "CUR_DEPT_MOS float64 0 \t5388\n",
      "CUR_EFUNC_MOS float64 0 \t7917\n",
      "CUR_FUNC_MOS float64 0 \t9046\n",
      "CUR_GRADE_MOS float64 0 \t4876\n",
      "CUR_JOB_MOS float64 0 \t6476\n",
      "CUR_LOC_MOS float64 0 \t7883\n",
      "DEPTCNT1 int64 0 \t8\n",
      "DEPTCNT10 int64 0 \t23\n",
      "DEPTCNT3 int64 0 \t12\n",
      "DEPTCNT5 int64 0 \t16\n",
      "DIRECT_RPT_CNT float64 55433 \t176\n",
      "DIVISION_CODE_SFI float64 15 \t10\n",
      "EEO1CODE object 0 \t11\n",
      "EFUNCCNT1 int64 0 \t6\n",
      "EFUNCCNT10 int64 0 \t14\n",
      "EFUNCCNT3 int64 0 \t9\n",
      "EFUNCCNT5 int64 0 \t11\n",
      "EMPL_CLASS object 0 \t12\n",
      "EMPL_TYPE object 0 \t5\n",
      "ETHNIC_GROUP float64 0 \t8\n",
      "EXTFUNC_CNT float64 107 \t10352\n",
      "EXT_FUNC_ID_SFI float64 15 \t422\n",
      "FLOORCNT1 int64 0 \t6\n",
      "FLOORCNT10 int64 0 \t17\n",
      "FLOORCNT3 int64 0 \t9\n",
      "FLOORCNT5 int64 0 \t11\n",
      "FLOR_SFI int64 0 \t115\n",
      "FLSA_STATUS int64 0 \t3\n",
      "FTE float64 0 \t82\n",
      "FTPTCNT1 int64 0 \t3\n",
      "FTPTCNT10 int64 0 \t5\n",
      "FTPTCNT3 int64 0 \t3\n",
      "FTPTCNT5 int64 0 \t4\n",
      "FULLPART1 int64 0 \t2\n",
      "FULLPART10 int64 0 \t2\n",
      "FULLPART3 int64 0 \t2\n",
      "FULLPART5 int64 0 \t2\n",
      "FULL_PART_TIME object 0 \t4\n",
      "FUNCCNT1 int64 0 \t4\n",
      "FUNCCNT10 int64 0 \t11\n",
      "FUNCCNT3 int64 0 \t6\n",
      "FUNCCNT5 int64 0 \t9\n",
      "FUNC_CNT float64 27 \t12069\n",
      "FUNC_ID_SFI float64 15 \t64\n",
      "GRADE object 526 \t164\n",
      "GRADECNT1 int64 0 \t5\n",
      "GRADECNT10 int64 0 \t14\n",
      "GRADECNT3 int64 0 \t7\n",
      "GRADECNT5 int64 0 \t9\n",
      "HIRE_DT object 0 \t11975\n",
      "HUBIND int64 0 \t2\n",
      "INTERN int64 0 \t2\n",
      "JOBCNT1 int64 0 \t7\n",
      "JOBCNT10 int64 0 \t14\n",
      "JOBCNT3 int64 0 \t9\n",
      "JOBCNT5 int64 0 \t11\n",
      "JOBCODE int64 0 \t3789\n",
      "JOB_FAMILY object 68827 \t1456\n",
      "JOB_FUNCTION object 68858 \t19\n",
      "KEY object 0 \t199346\n",
      "LAST_HIRE_DT object 0 \t11316\n",
      "LEGACY_DEPT_SFI object 0 \t42659\n",
      "LOCATION object 0 \t13535\n",
      "LOCCNT1 int64 0 \t7\n",
      "LOCCNT10 int64 0 \t13\n",
      "LOCCNT3 int64 0 \t8\n",
      "LOCCNT5 int64 0 \t9\n",
      "LOCSTCNT1 int64 0 \t5\n",
      "LOCSTCNT10 int64 0 \t8\n",
      "LOCSTCNT3 int64 0 \t6\n",
      "LOCSTCNT5 int64 0 \t7\n",
      "LOC_CITY object 8835 \t3667\n",
      "LOC_STATE object 8835 \t52\n",
      "LOC_TYPE_DESCR_SFI object 26 \t34\n",
      "MAR_STATUS_DT object 134318 \t4992\n",
      "MAX_RT_ANNUAL float64 0 \t1210\n",
      "MERIT1 float64 31499 \t78267\n",
      "MERIT10 float64 31499 \t45401\n",
      "MERIT2 float64 31499 \t81862\n",
      "MERIT3 float64 31499 \t75511\n",
      "MERIT4 float64 31499 \t69061\n",
      "MERIT5 float64 31499 \t64524\n",
      "MERIT6 float64 31499 \t61398\n",
      "MERIT7 float64 31499 \t58304\n",
      "MERIT8 float64 31499 \t53280\n",
      "MERIT9 float64 31499 \t49445\n",
      "MIN_RT_ANNUAL float64 0 \t1441\n",
      "PARTFULL1 int64 0 \t2\n",
      "PARTFULL10 int64 0 \t2\n",
      "PARTFULL3 int64 0 \t2\n",
      "PARTFULL5 int64 0 \t2\n",
      "PERF1 float64 31499 \t78697\n",
      "PERF10 float64 31499 \t42172\n",
      "PERF2 float64 31499 \t75372\n",
      "PERF3 float64 31499 \t68835\n",
      "PERF4 float64 31499 \t63065\n",
      "PERF5 float64 31499 \t57980\n",
      "PERF6 float64 31499 \t53703\n",
      "PERF7 float64 31499 \t50460\n",
      "PERF8 float64 31499 \t46876\n",
      "PERF9 float64 31499 \t44604\n",
      "PTFTCNT1 int64 0 \t3\n",
      "PTFTCNT10 int64 0 \t5\n",
      "PTFTCNT3 int64 0 \t4\n",
      "PTFTCNT5 int64 0 \t4\n",
      "RATE1 int64 0 \t4\n",
      "RATE10 int64 0 \t4\n",
      "RATE2 int64 0 \t4\n",
      "RATE3 int64 0 \t4\n",
      "RATE4 int64 0 \t4\n",
      "RATE5 int64 0 \t4\n",
      "RATE6 int64 0 \t4\n",
      "RATE7 int64 0 \t4\n",
      "RATE8 int64 0 \t4\n",
      "RATE9 int64 0 \t4\n",
      "REH_CNT int64 0 \t18\n",
      "RELOCATE_ALL_SFI int64 0 \t2\n",
      "RELO_STATE_CNT_SFI int64 0 \t55\n",
      "REMOTE int64 0 \t2\n",
      "REMOTE_SUPV int64 0 \t2\n",
      "SAL1 float64 0 \t123689\n",
      "SAL10 float64 31499 \t52215\n",
      "SAL2 float64 31499 \t100044\n",
      "SAL3 float64 31499 \t91673\n",
      "SAL4 float64 31499 \t84581\n",
      "SAL5 float64 31499 \t78363\n",
      "SAL6 float64 31499 \t72383\n",
      "SAL7 float64 31499 \t66289\n",
      "SAL8 float64 31499 \t61113\n",
      "SAL9 float64 31499 \t56753\n",
      "SERVICE_DT object 0 \t17064\n",
      "Male int64 0 \t2\n",
      "SHIFT int64 0 \t4\n",
      "SKEY object 55390 \t15042\n",
      "STATE object 153 \t73\n",
      "STD_HOURS float64 0 \t144\n",
      "SUPVCNT1 int64 0 \t12\n",
      "SUPVCNT10 int64 0 \t31\n",
      "SUPVCNT3 int64 0 \t19\n",
      "SUPVCNT5 int64 0 \t22\n",
      "SUPV_DIFF_LOC int64 0 \t2\n",
      "TELE_MOS float64 0 \t388\n",
      "TERMINATION_DT object 0 \t8548\n",
      "TOTAL_RPT_CNT float64 55433 \t1040\n",
      "TOT_MO_SERVICE_SFI int64 0 \t612\n",
      "Tenure_months float64 0 \t15729\n",
      "Tenure_tdelta object 0 \t15729\n",
      "status int64 0 \t2\n",
      "HAVE_INS float64 0 \t2\n",
      "HAVE_DEP float64 0 \t2\n",
      "DEP_COUNT float64 0 \t28\n",
      "zip5 object 155 \t16618\n",
      "sep_status int64 0 \t4\n",
      "mar_status int64 0 \t3\n",
      "retired int64 0 \t2\n",
      "unempl_rate float64 0 \t59\n"
     ]
    }
   ],
   "source": [
    "sdf = summarize_dataframe2(empl_bene)"
   ]
  },
  {
   "cell_type": "code",
   "execution_count": 9,
   "metadata": {
    "collapsed": false
   },
   "outputs": [
    {
     "data": {
      "text/html": [
       "<div>\n",
       "<table border=\"1\" class=\"dataframe\">\n",
       "  <thead>\n",
       "    <tr style=\"text-align: right;\">\n",
       "      <th></th>\n",
       "      <th>Column</th>\n",
       "      <th>datatype</th>\n",
       "      <th>nmissing</th>\n",
       "      <th>arity</th>\n",
       "      <th>accepted values</th>\n",
       "    </tr>\n",
       "  </thead>\n",
       "  <tbody>\n",
       "    <tr>\n",
       "      <th>0</th>\n",
       "      <td>ACTRES1</td>\n",
       "      <td>object</td>\n",
       "      <td>10</td>\n",
       "      <td>25519</td>\n",
       "      <td>None</td>\n",
       "    </tr>\n",
       "    <tr>\n",
       "      <th>1</th>\n",
       "      <td>ACTRES10</td>\n",
       "      <td>object</td>\n",
       "      <td>120322</td>\n",
       "      <td>12096</td>\n",
       "      <td>None</td>\n",
       "    </tr>\n",
       "    <tr>\n",
       "      <th>2</th>\n",
       "      <td>ACTRES2</td>\n",
       "      <td>object</td>\n",
       "      <td>30258</td>\n",
       "      <td>22254</td>\n",
       "      <td>None</td>\n",
       "    </tr>\n",
       "    <tr>\n",
       "      <th>3</th>\n",
       "      <td>ACTRES3</td>\n",
       "      <td>object</td>\n",
       "      <td>56780</td>\n",
       "      <td>19758</td>\n",
       "      <td>None</td>\n",
       "    </tr>\n",
       "    <tr>\n",
       "      <th>4</th>\n",
       "      <td>ACTRES4</td>\n",
       "      <td>object</td>\n",
       "      <td>74550</td>\n",
       "      <td>18074</td>\n",
       "      <td>None</td>\n",
       "    </tr>\n",
       "  </tbody>\n",
       "</table>\n",
       "</div>"
      ],
      "text/plain": [
       "     Column datatype  nmissing  arity accepted values\n",
       "0   ACTRES1   object        10  25519            None\n",
       "1  ACTRES10   object    120322  12096            None\n",
       "2   ACTRES2   object     30258  22254            None\n",
       "3   ACTRES3   object     56780  19758            None\n",
       "4   ACTRES4   object     74550  18074            None"
      ]
     },
     "execution_count": 9,
     "metadata": {},
     "output_type": "execute_result"
    }
   ],
   "source": [
    "sdf.head()"
   ]
  },
  {
   "cell_type": "code",
   "execution_count": 10,
   "metadata": {
    "collapsed": false
   },
   "outputs": [],
   "source": [
    "### confirm that no values are missing: \n",
    "if sdf.nmissing.sum()== 0:\n",
    "    print \"There are no missing values in the dataframe\""
   ]
  },
  {
   "cell_type": "markdown",
   "metadata": {},
   "source": [
    "## Look at building a network for current employees"
   ]
  },
  {
   "cell_type": "code",
   "execution_count": 32,
   "metadata": {
    "collapsed": false
   },
   "outputs": [
    {
     "data": {
      "text/plain": [
       "1    129613\n",
       "0     69806\n",
       "dtype: int64"
      ]
     },
     "execution_count": 32,
     "metadata": {},
     "output_type": "execute_result"
    }
   ],
   "source": [
    "empl1.status.value_counts()"
   ]
  },
  {
   "cell_type": "code",
   "execution_count": 33,
   "metadata": {
    "collapsed": true
   },
   "outputs": [],
   "source": [
    "current = empl1[empl1.status == 0].copy()"
   ]
  },
  {
   "cell_type": "code",
   "execution_count": 34,
   "metadata": {
    "collapsed": false
   },
   "outputs": [
    {
     "name": "stdout",
     "output_type": "stream",
     "text": [
      "7985\n"
     ]
    }
   ],
   "source": [
    "number_of_unique_supervisors = len(current.SKEY.unique())\n",
    "print number_of_unique_supervisors"
   ]
  },
  {
   "cell_type": "markdown",
   "metadata": {},
   "source": [
    "### find the top of this network"
   ]
  },
  {
   "cell_type": "code",
   "execution_count": 35,
   "metadata": {
    "collapsed": false
   },
   "outputs": [
    {
     "name": "stdout",
     "output_type": "stream",
     "text": [
      "230212589367392\n",
      "       Age_years  Tenure_months  COMPANY GRADE  ANNUAL_RT              KEY\n",
      "72082  64.414738      472.02612        1    L1    1750000  230212589367392\n"
     ]
    }
   ],
   "source": [
    "ceo_key = current[current.SKEY.isnull()].KEY.values[0]\n",
    "print ceo_key\n",
    "print current[current.SKEY.isnull()][['Age_years','Tenure_months','COMPANY','GRADE','ANNUAL_RT','KEY']]"
   ]
  },
  {
   "cell_type": "markdown",
   "metadata": {},
   "source": [
    "#### first try:"
   ]
  },
  {
   "cell_type": "code",
   "execution_count": 36,
   "metadata": {
    "collapsed": true
   },
   "outputs": [],
   "source": [
    "import networkx as nx\n",
    "G=nx.Graph()"
   ]
  },
  {
   "cell_type": "code",
   "execution_count": 37,
   "metadata": {
    "collapsed": false
   },
   "outputs": [
    {
     "data": {
      "text/plain": [
       "72082   NaN\n",
       "Name: DIRECT_RPT_CNT, dtype: float64"
      ]
     },
     "execution_count": 37,
     "metadata": {},
     "output_type": "execute_result"
    }
   ],
   "source": [
    "current[current.KEY==ceo_key].DIRECT_RPT_CNT"
   ]
  },
  {
   "cell_type": "code",
   "execution_count": 39,
   "metadata": {
    "collapsed": false
   },
   "outputs": [
    {
     "data": {
      "text/plain": [
       "6606      737799909775052\n",
       "48657     309708826853758\n",
       "86836     131586418548406\n",
       "142939    195258013529357\n",
       "170992    603471382336445\n",
       "181273    881947698482288\n",
       "197267    264691242605770\n",
       "Name: KEY, dtype: object"
      ]
     },
     "execution_count": 39,
     "metadata": {},
     "output_type": "execute_result"
    }
   ],
   "source": [
    "current[current.SKEY==ceo_key]['KEY']"
   ]
  },
  {
   "cell_type": "code",
   "execution_count": 38,
   "metadata": {
    "collapsed": false
   },
   "outputs": [
    {
     "data": {
      "text/plain": [
       "69806"
      ]
     },
     "execution_count": 38,
     "metadata": {},
     "output_type": "execute_result"
    }
   ],
   "source": [
    "len(current.KEY.unique())"
   ]
  },
  {
   "cell_type": "code",
   "execution_count": 80,
   "metadata": {
    "collapsed": false
   },
   "outputs": [
    {
     "name": "stdout",
     "output_type": "stream",
     "text": [
      "490903510940682 341940748664523\n",
      "850716555421574 695830568995248\n",
      "213029456889736 295711092322930\n",
      "765210492427093 487525711994397\n",
      "297986222569824 821086056912824\n",
      "238171549159182 376000762626529\n",
      "417845256355519 464408479381543\n",
      "545043537647018 936521995783095\n",
      "639741570055364 548312217718136\n",
      "118502797614086 118778266067979\n",
      "614175683639094 640297610610862\n",
      "887695397663720 927804536152540\n",
      "789225798933406 882560782079846\n",
      "353948927183612 873205531795139\n",
      "406631784702945 259352636178654\n",
      "415914991598537 960664279740613\n",
      "511033925931451 176179836586201\n",
      "904574965548038 907994693102313\n",
      "410277538658249 669467713995589\n",
      "904437336094881 484497867750236\n",
      "109248166489065 205464591833513\n",
      "293390113996989 655237257785740\n",
      "764490464126920 575040451984406\n",
      "942168768468391 963526995835606\n",
      "354699357577925 936881977569723\n",
      "27791840502895 128977640126356\n",
      "760120148193147 982231824184876\n",
      "495367733992342 924915584234947\n",
      "231319244127404 943581196453227\n",
      "853140060721496 506096822910987\n",
      "382008131305691 291754381401350\n",
      "526162207837292 216030431080624\n",
      "991045653815868 164335839061223\n",
      "618851347648935 564398067334852\n",
      "432812991287938 435827463602567\n",
      "813106022222483 121271097623404\n",
      "380432247361370 349934042128704\n",
      "937227894057160 287679163873046\n",
      "303853865854374 71408201507948\n",
      "573490843909556 54625277898566\n"
     ]
    }
   ],
   "source": [
    "for key in current.KEY.unique()[:40]:\n",
    "    supkey = current[current.KEY == key].SKEY.values[0]\n",
    "    if supkey not in list(extraSKEYset):\n",
    "        print key, supkey\n",
    "        edge = (key,supkey)"
   ]
  },
  {
   "cell_type": "code",
   "execution_count": 81,
   "metadata": {
    "collapsed": false
   },
   "outputs": [
    {
     "data": {
      "text/plain": [
       "0"
      ]
     },
     "execution_count": 81,
     "metadata": {},
     "output_type": "execute_result"
    }
   ],
   "source": [
    "G.clear()\n",
    "G.number_of_nodes()"
   ]
  },
  {
   "cell_type": "code",
   "execution_count": 82,
   "metadata": {
    "collapsed": false
   },
   "outputs": [
    {
     "name": "stdout",
     "output_type": "stream",
     "text": [
      "69697\n",
      "69669\n"
     ]
    }
   ],
   "source": [
    "for key in current.KEY.unique():\n",
    "    supkey = current[current.KEY == key].SKEY.values[0]\n",
    "    if supkey not in list(extraSKEYset):\n",
    "        #print key, supkey\n",
    "        edge = (key,supkey)\n",
    "    #print key, supkey\n",
    "    #edge = (key,supkey)\n",
    "        G.add_edge(*edge)\n",
    "    \n",
    "print G.number_of_nodes()\n",
    "print G.number_of_edges()\n"
   ]
  },
  {
   "cell_type": "code",
   "execution_count": 46,
   "metadata": {
    "collapsed": false
   },
   "outputs": [],
   "source": [
    "G.remove_node(np.nan) # get rid of the node from ceo to here"
   ]
  },
  {
   "cell_type": "code",
   "execution_count": 83,
   "metadata": {
    "collapsed": false
   },
   "outputs": [
    {
     "data": {
      "text/plain": [
       "['264691242605770',\n",
       " '881947698482288',\n",
       " '131586418548406',\n",
       " '195258013529357',\n",
       " '309708826853758',\n",
       " '603471382336445',\n",
       " '737799909775052']"
      ]
     },
     "execution_count": 83,
     "metadata": {},
     "output_type": "execute_result"
    }
   ],
   "source": [
    "G.neighbors(ceo_key)"
   ]
  },
  {
   "cell_type": "code",
   "execution_count": 84,
   "metadata": {
    "collapsed": false
   },
   "outputs": [
    {
     "data": {
      "text/plain": [
       "['411491708090292',\n",
       " '615267030715601',\n",
       " '230212589367392',\n",
       " '436256937420115',\n",
       " '817257751159956',\n",
       " '838427157531691']"
      ]
     },
     "execution_count": 84,
     "metadata": {},
     "output_type": "execute_result"
    }
   ],
   "source": [
    "G.neighbors(G.neighbors(ceo_key)[0])"
   ]
  },
  {
   "cell_type": "code",
   "execution_count": 88,
   "metadata": {
    "collapsed": false
   },
   "outputs": [
    {
     "data": {
      "text/plain": [
       "{}"
      ]
     },
     "execution_count": 88,
     "metadata": {},
     "output_type": "execute_result"
    }
   ],
   "source": [
    "#G.graph['employees'] = 'list'"
   ]
  },
  {
   "cell_type": "code",
   "execution_count": 92,
   "metadata": {
    "collapsed": false
   },
   "outputs": [
    {
     "data": {
      "text/plain": [
       "['854660831324133']"
      ]
     },
     "execution_count": 92,
     "metadata": {},
     "output_type": "execute_result"
    }
   ],
   "source": [
    "G.adjacency_list()[0]"
   ]
  },
  {
   "cell_type": "code",
   "execution_count": 97,
   "metadata": {
    "collapsed": false
   },
   "outputs": [
    {
     "data": {
      "text/plain": [
       "10"
      ]
     },
     "execution_count": 97,
     "metadata": {},
     "output_type": "execute_result"
    }
   ],
   "source": [
    "G.degree('854660831324133')#s()[0]#('854660831324133')"
   ]
  },
  {
   "cell_type": "code",
   "execution_count": 98,
   "metadata": {
    "collapsed": false
   },
   "outputs": [
    {
     "data": {
      "text/plain": [
       "['914822502487722',\n",
       " '156732029820202',\n",
       " '171368124974597',\n",
       " '293218779979841',\n",
       " '124448826594487',\n",
       " '755961730962601',\n",
       " '571440945179873',\n",
       " '681978314035562',\n",
       " '916926607450902',\n",
       " '468252626000090']"
      ]
     },
     "execution_count": 98,
     "metadata": {},
     "output_type": "execute_result"
    }
   ],
   "source": [
    "G.neighbors('854660831324133')"
   ]
  },
  {
   "cell_type": "markdown",
   "metadata": {},
   "source": [
    "# try to construct a hierarchical graph using blockmodel "
   ]
  },
  {
   "cell_type": "code",
   "execution_count": 102,
   "metadata": {
    "collapsed": false
   },
   "outputs": [
    {
     "data": {
      "text/plain": [
       "'1.9.1'"
      ]
     },
     "execution_count": 102,
     "metadata": {},
     "output_type": "execute_result"
    }
   ],
   "source": [
    "nx.__version__\n"
   ]
  },
  {
   "cell_type": "code",
   "execution_count": 107,
   "metadata": {
    "collapsed": false
   },
   "outputs": [],
   "source": [
    "subGraphs = [subg for subg in nx.connected_component_subgraphs(G)]"
   ]
  },
  {
   "cell_type": "code",
   "execution_count": 108,
   "metadata": {
    "collapsed": false
   },
   "outputs": [
    {
     "data": {
      "text/plain": [
       "69337"
      ]
     },
     "execution_count": 108,
     "metadata": {},
     "output_type": "execute_result"
    }
   ],
   "source": [
    "# Extract largest connected component into graph H\n",
    "H=subGraphs[0]\n",
    "H.number_of_nodes()\n"
   ]
  },
  {
   "cell_type": "code",
   "execution_count": 109,
   "metadata": {
    "collapsed": true
   },
   "outputs": [],
   "source": [
    "from scipy.cluster import hierarchy\n",
    "from scipy.spatial import distance"
   ]
  },
  {
   "cell_type": "code",
   "execution_count": 110,
   "metadata": {
    "collapsed": true
   },
   "outputs": [],
   "source": [
    "def create_hc(G):\n",
    "    \"\"\"Creates hierarchical cluster of graph G from distance matrix\"\"\"\n",
    "    path_length=nx.all_pairs_shortest_path_length(G)\n",
    "    distances=np.zeros((len(G),len(G)))\n",
    "    for u,p in path_length.items():\n",
    "        for v,d in p.items():\n",
    "            distances[u][v]=d\n",
    "    # Create hierarchical cluster\n",
    "    Y=distance.squareform(distances)\n",
    "    Z=hierarchy.complete(Y)  # Creates HC using farthest point linkage\n",
    "    # This partition selection is arbitrary, for illustrive purposes\n",
    "    membership=list(hierarchy.fcluster(Z,t=1.15))\n",
    "    # Create collection of lists for blockmodel\n",
    "    partition=defaultdict(list)\n",
    "    for n,p in zip(list(range(len(G))),membership):\n",
    "        partition[p].append(n)\n",
    "    return list(partition.values())"
   ]
  },
  {
   "cell_type": "code",
   "execution_count": null,
   "metadata": {
    "collapsed": true
   },
   "outputs": [],
   "source": []
  },
  {
   "cell_type": "code",
   "execution_count": null,
   "metadata": {
    "collapsed": true
   },
   "outputs": [],
   "source": []
  },
  {
   "cell_type": "code",
   "execution_count": null,
   "metadata": {
    "collapsed": true
   },
   "outputs": [],
   "source": []
  },
  {
   "cell_type": "code",
   "execution_count": null,
   "metadata": {
    "collapsed": false
   },
   "outputs": [],
   "source": [
    " # Draw original graph\n",
    "pos=nx.spring_layout(G,iterations=100)\n",
    "fig=plt.figure(1,figsize=(6,10))\n",
    "ax=fig.add_subplot(211)\n",
    "nx.draw(G,pos,with_labels=False,node_size=8)\n",
    "plt.xlim(0,1)\n",
    "plt.ylim(0,1)"
   ]
  },
  {
   "cell_type": "code",
   "execution_count": null,
   "metadata": {
    "collapsed": true
   },
   "outputs": [],
   "source": []
  },
  {
   "cell_type": "markdown",
   "metadata": {},
   "source": [
    "# look to see if there are SKEY values that are not KEY values <-- corresponds to a mis-identification of Supervisors"
   ]
  },
  {
   "cell_type": "code",
   "execution_count": 52,
   "metadata": {
    "collapsed": false
   },
   "outputs": [
    {
     "name": "stdout",
     "output_type": "stream",
     "text": [
      "16\n"
     ]
    }
   ],
   "source": [
    "print len(current.SKEY.unique())\n",
    "currentSKEYset = set(current.SKEY.unique())\n",
    "currentKEYset = set(current.KEY.unique())\n",
    "# difference\n",
    "extraSKEYset = currentSKEYset - currentKEYset\n",
    "print len(extraSKEYset)"
   ]
  },
  {
   "cell_type": "code",
   "execution_count": 61,
   "metadata": {
    "collapsed": false
   },
   "outputs": [
    {
     "data": {
      "text/plain": [
       "32430     402245888673815\n",
       "36373     760919157304298\n",
       "58360     409302843459557\n",
       "101875    479560227822308\n",
       "135940     18643642784396\n",
       "159664    196095957046419\n",
       "176858    726173508319153\n",
       "Name: KEY, dtype: object"
      ]
     },
     "execution_count": 61,
     "metadata": {},
     "output_type": "execute_result"
    }
   ],
   "source": [
    "current[current.SKEY == list(extraSKEYset)[4]].KEY"
   ]
  },
  {
   "cell_type": "code",
   "execution_count": 53,
   "metadata": {
    "collapsed": false
   },
   "outputs": [
    {
     "data": {
      "text/plain": [
       "{nan,\n",
       " '182692648928004',\n",
       " '219174679005134',\n",
       " '294168883140278',\n",
       " '376077392313665',\n",
       " '407623755004082',\n",
       " '423486191976576',\n",
       " '4904977979560',\n",
       " '498297705547091',\n",
       " '544781312600142',\n",
       " '546480249867998',\n",
       " '633397990666981',\n",
       " '781960035572741',\n",
       " '801927175280604',\n",
       " '948253900719925',\n",
       " '981495664912041'}"
      ]
     },
     "execution_count": 53,
     "metadata": {},
     "output_type": "execute_result"
    }
   ],
   "source": [
    "extraSKEYset"
   ]
  },
  {
   "cell_type": "markdown",
   "metadata": {},
   "source": [
    "### so try it based upon starting at top"
   ]
  },
  {
   "cell_type": "code",
   "execution_count": 71,
   "metadata": {
    "collapsed": false
   },
   "outputs": [
    {
     "data": {
      "text/plain": [
       "['737799909775052',\n",
       " '309708826853758',\n",
       " '131586418548406',\n",
       " '195258013529357',\n",
       " '603471382336445',\n",
       " '881947698482288',\n",
       " '264691242605770']"
      ]
     },
     "execution_count": 71,
     "metadata": {},
     "output_type": "execute_result"
    }
   ],
   "source": [
    "current[current.SKEY==ceo_key].KEY.values.tolist()\n",
    "\n",
    "#for key in current.KEY.unique()[:10]:\n",
    "#    supkey = current[current.KEY == key].SKEY.values[0]\n",
    "#    print key, supkey\n",
    "#    edge = (key,supkey)"
   ]
  },
  {
   "cell_type": "code",
   "execution_count": 77,
   "metadata": {
    "collapsed": true
   },
   "outputs": [],
   "source": [
    "def get_list_of_supervisees(skey,df):\n",
    "    supervisees_list = current[current.SKEY==skey].KEY.values.tolist()\n",
    "    return supervisees_list"
   ]
  },
  {
   "cell_type": "code",
   "execution_count": 78,
   "metadata": {
    "collapsed": false
   },
   "outputs": [
    {
     "name": "stdout",
     "output_type": "stream",
     "text": [
      "230212589367392 737799909775052 ['778246226617250', '833584495742612', '221327299820877', '49695066665157', '162457082961899']\n",
      "230212589367392 309708826853758 ['966160380731411', '629673229358007', '257140146688158', '327958288289587', '996296803930913', '878219024221515']\n",
      "230212589367392 131586418548406 ['49610022012894', '509833770575856', '429253692007276', '925316915346923', '789806018485597', '616873900227656']\n",
      "230212589367392 195258013529357 []\n",
      "230212589367392 603471382336445 ['889443126921283', '437449985387479', '158506991881182', '546233367894885', '408224727682874', '590707344743753']\n",
      "230212589367392 881947698482288 ['405064530859266', '465662928049296', '308338758679265', '784776492409770', '917403581513746', '539640774736014', '650478767068348']\n",
      "230212589367392 264691242605770 ['615267030715601', '817257751159956', '436256937420115', '411491708090292', '838427157531691']\n"
     ]
    }
   ],
   "source": [
    "for a in get_list_of_supervisees(ceo_key,current):\n",
    "    b = get_list_of_supervisees(a,current)\n",
    "    print ceo_key, a, "
   ]
  },
  {
   "cell_type": "code",
   "execution_count": null,
   "metadata": {
    "collapsed": true
   },
   "outputs": [],
   "source": []
  },
  {
   "cell_type": "markdown",
   "metadata": {},
   "source": [
    "## Fishing expedition"
   ]
  },
  {
   "cell_type": "code",
   "execution_count": 115,
   "metadata": {
    "collapsed": false
   },
   "outputs": [
    {
     "data": {
      "text/plain": [
       "7"
      ]
     },
     "execution_count": 115,
     "metadata": {},
     "output_type": "execute_result"
    }
   ],
   "source": [
    "sum(empl1.BIRTHDATE=='1974-01-10 00:00:00')"
   ]
  },
  {
   "cell_type": "code",
   "execution_count": 118,
   "metadata": {
    "collapsed": false
   },
   "outputs": [],
   "source": [
    "empl_Jan1074_idx = empl1[empl1.BIRTHDATE=='1974-01-10 00:00:00'].index\n"
   ]
  },
  {
   "cell_type": "code",
   "execution_count": 141,
   "metadata": {
    "collapsed": false
   },
   "outputs": [
    {
     "data": {
      "text/html": [
       "<div>\n",
       "<table border=\"1\" class=\"dataframe\">\n",
       "  <thead>\n",
       "    <tr style=\"text-align: right;\">\n",
       "      <th></th>\n",
       "      <th>GRADE</th>\n",
       "      <th>KEY</th>\n",
       "      <th>status</th>\n",
       "      <th>HIRE_DT</th>\n",
       "      <th>SKEY</th>\n",
       "      <th>JOB_FAMILY</th>\n",
       "    </tr>\n",
       "  </thead>\n",
       "  <tbody>\n",
       "    <tr>\n",
       "      <th>10527</th>\n",
       "      <td>RC3</td>\n",
       "      <td>449922919017227</td>\n",
       "      <td>0</td>\n",
       "      <td>1998-09-08 00:00:00</td>\n",
       "      <td>854470014970037</td>\n",
       "      <td>BSUSCA</td>\n",
       "    </tr>\n",
       "    <tr>\n",
       "      <th>23483</th>\n",
       "      <td>RD2</td>\n",
       "      <td>316924511602579</td>\n",
       "      <td>0</td>\n",
       "      <td>2013-05-06 00:00:00</td>\n",
       "      <td>148161780158</td>\n",
       "      <td>RESTAT</td>\n",
       "    </tr>\n",
       "    <tr>\n",
       "      <th>23535</th>\n",
       "      <td>MA1</td>\n",
       "      <td>503151859391086</td>\n",
       "      <td>1</td>\n",
       "      <td>1993-05-17 00:00:00</td>\n",
       "      <td>314896487777539</td>\n",
       "      <td>NaN</td>\n",
       "    </tr>\n",
       "    <tr>\n",
       "      <th>52253</th>\n",
       "      <td>MG2</td>\n",
       "      <td>300271194102369</td>\n",
       "      <td>0</td>\n",
       "      <td>1999-06-14 00:00:00</td>\n",
       "      <td>711538890242362</td>\n",
       "      <td>CTNTMG</td>\n",
       "    </tr>\n",
       "    <tr>\n",
       "      <th>81193</th>\n",
       "      <td>RE3</td>\n",
       "      <td>308452940689611</td>\n",
       "      <td>0</td>\n",
       "      <td>1995-05-22 00:00:00</td>\n",
       "      <td>953158934578839</td>\n",
       "      <td>SAWEB</td>\n",
       "    </tr>\n",
       "    <tr>\n",
       "      <th>157467</th>\n",
       "      <td>PA2</td>\n",
       "      <td>653011049448052</td>\n",
       "      <td>0</td>\n",
       "      <td>2005-12-19 00:00:00</td>\n",
       "      <td>879760487880446</td>\n",
       "      <td>UNSRST</td>\n",
       "    </tr>\n",
       "    <tr>\n",
       "      <th>176663</th>\n",
       "      <td>RB1</td>\n",
       "      <td>309633856783451</td>\n",
       "      <td>1</td>\n",
       "      <td>1998-06-12 00:00:00</td>\n",
       "      <td>582290634784052</td>\n",
       "      <td>CLMREP</td>\n",
       "    </tr>\n",
       "  </tbody>\n",
       "</table>\n",
       "</div>"
      ],
      "text/plain": [
       "       GRADE              KEY  status              HIRE_DT             SKEY  \\\n",
       "10527    RC3  449922919017227       0  1998-09-08 00:00:00  854470014970037   \n",
       "23483    RD2  316924511602579       0  2013-05-06 00:00:00     148161780158   \n",
       "23535    MA1  503151859391086       1  1993-05-17 00:00:00  314896487777539   \n",
       "52253    MG2  300271194102369       0  1999-06-14 00:00:00  711538890242362   \n",
       "81193    RE3  308452940689611       0  1995-05-22 00:00:00  953158934578839   \n",
       "157467   PA2  653011049448052       0  2005-12-19 00:00:00  879760487880446   \n",
       "176663   RB1  309633856783451       1  1998-06-12 00:00:00  582290634784052   \n",
       "\n",
       "       JOB_FAMILY  \n",
       "10527      BSUSCA  \n",
       "23483      RESTAT  \n",
       "23535         NaN  \n",
       "52253      CTNTMG  \n",
       "81193       SAWEB  \n",
       "157467     UNSRST  \n",
       "176663     CLMREP  "
      ]
     },
     "execution_count": 141,
     "metadata": {},
     "output_type": "execute_result"
    }
   ],
   "source": [
    "empl1.ix[empl_Jan1074_idx][['GRADE','KEY','status','HIRE_DT','SKEY','JOB_FAMILY']]"
   ]
  },
  {
   "cell_type": "code",
   "execution_count": 127,
   "metadata": {
    "collapsed": false
   },
   "outputs": [
    {
     "name": "stdout",
     "output_type": "stream",
     "text": [
      "316924511602579 148161780158\n"
     ]
    }
   ],
   "source": [
    "key_me = empl1.ix[empl_Jan1074_idx[1]].KEY\n",
    "key_jeff = empl1.ix[empl_Jan1074_idx[1]].SKEY\n",
    "print key_me, key_jeff\n"
   ]
  },
  {
   "cell_type": "code",
   "execution_count": 205,
   "metadata": {
    "collapsed": false
   },
   "outputs": [
    {
     "data": {
      "text/html": [
       "<div>\n",
       "<table border=\"1\" class=\"dataframe\">\n",
       "  <thead>\n",
       "    <tr style=\"text-align: right;\">\n",
       "      <th></th>\n",
       "      <th>Age_years</th>\n",
       "      <th>GRADE</th>\n",
       "      <th>HIRE_DT</th>\n",
       "      <th>SAL1</th>\n",
       "      <th>JOBCODE</th>\n",
       "      <th>JOB_FAMILY</th>\n",
       "      <th>JOB_FUNCTION</th>\n",
       "    </tr>\n",
       "  </thead>\n",
       "  <tbody>\n",
       "    <tr>\n",
       "      <th>4262</th>\n",
       "      <td>29.689864</td>\n",
       "      <td>RD2</td>\n",
       "      <td>2013-05-06 00:00:00</td>\n",
       "      <td>98192.00</td>\n",
       "      <td>1460</td>\n",
       "      <td>RESTAT</td>\n",
       "      <td>PTD</td>\n",
       "    </tr>\n",
       "    <tr>\n",
       "      <th>23483</th>\n",
       "      <td>40.975516</td>\n",
       "      <td>RD2</td>\n",
       "      <td>2013-05-06 00:00:00</td>\n",
       "      <td>96995.00</td>\n",
       "      <td>1460</td>\n",
       "      <td>RESTAT</td>\n",
       "      <td>PTD</td>\n",
       "    </tr>\n",
       "    <tr>\n",
       "      <th>42392</th>\n",
       "      <td>47.297344</td>\n",
       "      <td>MG5</td>\n",
       "      <td>1995-01-16 00:00:00</td>\n",
       "      <td>120460.89</td>\n",
       "      <td>9442</td>\n",
       "      <td>DIRSTR</td>\n",
       "      <td>MGT</td>\n",
       "    </tr>\n",
       "    <tr>\n",
       "      <th>102478</th>\n",
       "      <td>25.043635</td>\n",
       "      <td>RD2</td>\n",
       "      <td>2009-06-15 00:00:00</td>\n",
       "      <td>78000.00</td>\n",
       "      <td>1460</td>\n",
       "      <td>RESTAT</td>\n",
       "      <td>PTD</td>\n",
       "    </tr>\n",
       "    <tr>\n",
       "      <th>190741</th>\n",
       "      <td>25.500866</td>\n",
       "      <td>RD2</td>\n",
       "      <td>2012-05-21 00:00:00</td>\n",
       "      <td>65875.00</td>\n",
       "      <td>1460</td>\n",
       "      <td>RESTAT</td>\n",
       "      <td>PTD</td>\n",
       "    </tr>\n",
       "  </tbody>\n",
       "</table>\n",
       "</div>"
      ],
      "text/plain": [
       "        Age_years GRADE              HIRE_DT       SAL1  JOBCODE JOB_FAMILY  \\\n",
       "4262    29.689864   RD2  2013-05-06 00:00:00   98192.00     1460     RESTAT   \n",
       "23483   40.975516   RD2  2013-05-06 00:00:00   96995.00     1460     RESTAT   \n",
       "42392   47.297344   MG5  1995-01-16 00:00:00  120460.89     9442     DIRSTR   \n",
       "102478  25.043635   RD2  2009-06-15 00:00:00   78000.00     1460     RESTAT   \n",
       "190741  25.500866   RD2  2012-05-21 00:00:00   65875.00     1460     RESTAT   \n",
       "\n",
       "       JOB_FUNCTION  \n",
       "4262            PTD  \n",
       "23483           PTD  \n",
       "42392           MGT  \n",
       "102478          PTD  \n",
       "190741          PTD  "
      ]
     },
     "execution_count": 205,
     "metadata": {},
     "output_type": "execute_result"
    }
   ],
   "source": [
    "empl1[empl1.KEY.isin(G[key_jeff].keys())][['Age_years','GRADE','HIRE_DT','SAL1','JOBCODE','JOB_FAMILY','JOB_FUNCTION']]"
   ]
  },
  {
   "cell_type": "code",
   "execution_count": 143,
   "metadata": {
    "collapsed": false
   },
   "outputs": [
    {
     "data": {
      "text/plain": [
       "61"
      ]
     },
     "execution_count": 143,
     "metadata": {},
     "output_type": "execute_result"
    }
   ],
   "source": [
    "len(current[current.JOB_FAMILY=='RESTAT'])"
   ]
  },
  {
   "cell_type": "code",
   "execution_count": 144,
   "metadata": {
    "collapsed": false
   },
   "outputs": [
    {
     "data": {
      "text/plain": [
       "RD2    38\n",
       "RD3    17\n",
       "RD4     5\n",
       "RD1     1\n",
       "dtype: int64"
      ]
     },
     "execution_count": 144,
     "metadata": {},
     "output_type": "execute_result"
    }
   ],
   "source": [
    "current[current.JOB_FAMILY=='RESTAT'].GRADE.value_counts()"
   ]
  },
  {
   "cell_type": "code",
   "execution_count": 145,
   "metadata": {
    "collapsed": false
   },
   "outputs": [
    {
     "data": {
      "text/plain": [
       "1460    38\n",
       "1446    17\n",
       "1445     5\n",
       "1461     1\n",
       "dtype: int64"
      ]
     },
     "execution_count": 145,
     "metadata": {},
     "output_type": "execute_result"
    }
   ],
   "source": [
    "current[current.JOB_FAMILY=='RESTAT'].JOBCODE.value_counts()"
   ]
  },
  {
   "cell_type": "code",
   "execution_count": 156,
   "metadata": {
    "collapsed": false
   },
   "outputs": [
    {
     "data": {
      "text/html": [
       "<div>\n",
       "<table border=\"1\" class=\"dataframe\">\n",
       "  <thead>\n",
       "    <tr style=\"text-align: right;\">\n",
       "      <th></th>\n",
       "      <th>size</th>\n",
       "      <th>amin</th>\n",
       "      <th>median</th>\n",
       "      <th>amax</th>\n",
       "      <th>mean</th>\n",
       "      <th>std</th>\n",
       "    </tr>\n",
       "    <tr>\n",
       "      <th>JOBCODE</th>\n",
       "      <th></th>\n",
       "      <th></th>\n",
       "      <th></th>\n",
       "      <th></th>\n",
       "      <th></th>\n",
       "      <th></th>\n",
       "    </tr>\n",
       "  </thead>\n",
       "  <tbody>\n",
       "    <tr>\n",
       "      <th>1445</th>\n",
       "      <td>5</td>\n",
       "      <td>109128.99</td>\n",
       "      <td>124256.32</td>\n",
       "      <td>130621.51</td>\n",
       "      <td>120831.440000</td>\n",
       "      <td>9172.266723</td>\n",
       "    </tr>\n",
       "    <tr>\n",
       "      <th>1446</th>\n",
       "      <td>17</td>\n",
       "      <td>82520.00</td>\n",
       "      <td>93974.27</td>\n",
       "      <td>114796.37</td>\n",
       "      <td>95679.442941</td>\n",
       "      <td>8914.250178</td>\n",
       "    </tr>\n",
       "    <tr>\n",
       "      <th>1460</th>\n",
       "      <td>38</td>\n",
       "      <td>63344.54</td>\n",
       "      <td>73605.95</td>\n",
       "      <td>98192.00</td>\n",
       "      <td>74100.111053</td>\n",
       "      <td>8468.908543</td>\n",
       "    </tr>\n",
       "    <tr>\n",
       "      <th>1461</th>\n",
       "      <td>1</td>\n",
       "      <td>64000.00</td>\n",
       "      <td>64000.00</td>\n",
       "      <td>64000.00</td>\n",
       "      <td>64000.000000</td>\n",
       "      <td>NaN</td>\n",
       "    </tr>\n",
       "  </tbody>\n",
       "</table>\n",
       "</div>"
      ],
      "text/plain": [
       "         size       amin     median       amax           mean          std\n",
       "JOBCODE                                                                   \n",
       "1445        5  109128.99  124256.32  130621.51  120831.440000  9172.266723\n",
       "1446       17   82520.00   93974.27  114796.37   95679.442941  8914.250178\n",
       "1460       38   63344.54   73605.95   98192.00   74100.111053  8468.908543\n",
       "1461        1   64000.00   64000.00   64000.00   64000.000000          NaN"
      ]
     },
     "execution_count": 156,
     "metadata": {},
     "output_type": "execute_result"
    }
   ],
   "source": [
    "current[current.JOB_FAMILY=='RESTAT'].groupby('JOBCODE')['SAL1'].agg([np.size,np.min,np.median,np.max, np.mean,  np.std])\n",
    "# gives the counts, mean, median and std for each jobcode"
   ]
  },
  {
   "cell_type": "code",
   "execution_count": 147,
   "metadata": {
    "collapsed": false
   },
   "outputs": [
    {
     "name": "stdout",
     "output_type": "stream",
     "text": [
      "38\n",
      "17\n"
     ]
    },
    {
     "data": {
      "text/plain": [
       "<matplotlib.axes._subplots.AxesSubplot at 0x7f681e997450>"
      ]
     },
     "execution_count": 147,
     "metadata": {},
     "output_type": "execute_result"
    },
    {
     "data": {
      "image/png": "[encoded data removed]",
      "text/plain": [
       "<matplotlib.figure.Figure at 0x7f681f0a67d0>"
      ]
     },
     "metadata": {},
     "output_type": "display_data"
    }
   ],
   "source": [
    "# how many in jobcode 1460?\n",
    "print len(current[current.JOBCODE == 1460])\n",
    "current[current.JOBCODE==1460].SAL1.hist(bins=15)\n",
    "print len(current[current.JOBCODE == 1446])\n",
    "current[current.JOBCODE==1446].SAL1.hist(bins=15)"
   ]
  },
  {
   "cell_type": "code",
   "execution_count": 140,
   "metadata": {
    "collapsed": false
   },
   "outputs": [
    {
     "name": "stdout",
     "output_type": "stream",
     "text": [
      "252\n"
     ]
    },
    {
     "data": {
      "text/plain": [
       "<matplotlib.axes._subplots.AxesSubplot at 0x7f681e95be90>"
      ]
     },
     "execution_count": 140,
     "metadata": {},
     "output_type": "execute_result"
    },
    {
     "data": {
      "image/png": "[encoded data removed]",
      "text/plain": [
       "<matplotlib.figure.Figure at 0x7f681eaa7d50>"
      ]
     },
     "metadata": {},
     "output_type": "display_data"
    }
   ],
   "source": [
    "current[current.GRADE=='RD2'].SAL1.hist(bins=20)\n",
    "print len(current[current.GRADE=='RD2'])\n",
    "current[current.GRADE=='RD3'].SAL1.hist(bins=20)"
   ]
  },
  {
   "cell_type": "code",
   "execution_count": 139,
   "metadata": {
    "collapsed": false
   },
   "outputs": [
    {
     "name": "stdout",
     "output_type": "stream",
     "text": [
      "265\n"
     ]
    },
    {
     "data": {
      "image/png": "[encoded data removed]",
      "text/plain": [
       "<matplotlib.figure.Figure at 0x7f681eeb6990>"
      ]
     },
     "metadata": {},
     "output_type": "display_data"
    }
   ],
   "source": [
    "current[current.GRADE=='RD3'].SAL1.hist(bins=15)\n",
    "print len(current[current.GRADE=='RD3'])"
   ]
  },
  {
   "cell_type": "code",
   "execution_count": 157,
   "metadata": {
    "collapsed": false
   },
   "outputs": [
    {
     "data": {
      "text/plain": [
       "1783"
      ]
     },
     "execution_count": 157,
     "metadata": {},
     "output_type": "execute_result"
    }
   ],
   "source": [
    "sum(current['GRADE']=='RE3')"
   ]
  },
  {
   "cell_type": "code",
   "execution_count": 158,
   "metadata": {
    "collapsed": false
   },
   "outputs": [
    {
     "data": {
      "text/plain": [
       "SAWEB     394\n",
       "TASTSP    189\n",
       "SAMNFR    179\n",
       "TATCCD    168\n",
       "TASCUR    124\n",
       "ANLOPX    103\n",
       "SABSIN     89\n",
       "TAENVT     66\n",
       "TADDMG     65\n",
       "TANTWK     58\n",
       "EUCAST     54\n",
       "TAPERF     35\n",
       "SACLSV     34\n",
       "DSDBAN     32\n",
       "DSDDSN     27\n",
       "TAPVSG     24\n",
       "TAHRDW     23\n",
       "RSYADM     15\n",
       "SYSADT     13\n",
       "CHGAYS     13\n",
       "MKTDBA     10\n",
       "DSDBSA      8\n",
       "BANKTA      7\n",
       "ESSPTA      6\n",
       "SDCORD      5\n",
       "DTASIU      5\n",
       "REDASP      4\n",
       "ALMGAN      4\n",
       "HRBOTA      4\n",
       "EUCANS      4\n",
       "STMDSA      4\n",
       "URSCHA      3\n",
       "SFTDVP      3\n",
       "PADBAN      3\n",
       "EUCACF      2\n",
       "MRSFST      2\n",
       "RSCHAD      2\n",
       "EXECCA      1\n",
       "RSANST      1\n",
       "dtype: int64"
      ]
     },
     "execution_count": 158,
     "metadata": {},
     "output_type": "execute_result"
    }
   ],
   "source": [
    "current[current['GRADE']=='RE3']['JOB_FAMILY'].value_counts()"
   ]
  },
  {
   "cell_type": "code",
   "execution_count": 163,
   "metadata": {
    "collapsed": false
   },
   "outputs": [
    {
     "data": {
      "text/plain": [
       "SKEY\n",
       "161211433895496    2\n",
       "208550388090569    1\n",
       "352364378679713    1\n",
       "424581573542478    1\n",
       "426470777684111    1\n",
       "489494459931503    1\n",
       "548312217718136    6\n",
       "561781181749786    3\n",
       "68540412498890     1\n",
       "735551670536190    1\n",
       "933192385795150    1\n",
       "941452731816775    7\n",
       "980940528205103    1\n",
       "dtype: int64"
      ]
     },
     "execution_count": 163,
     "metadata": {},
     "output_type": "execute_result"
    }
   ],
   "source": [
    "current[(current['JOB_FAMILY']=='DSDDSN')&(current['GRADE']=='RE3')].groupby('SKEY').size()#[['KEY','SKEY','HIRE_DT','Age_years']]"
   ]
  },
  {
   "cell_type": "code",
   "execution_count": 166,
   "metadata": {
    "collapsed": false
   },
   "outputs": [],
   "source": [
    "skey_check = current[(current['JOB_FAMILY']=='DSDDSN')&(current['GRADE']=='RE3')].SKEY.unique().tolist()"
   ]
  },
  {
   "cell_type": "code",
   "execution_count": 176,
   "metadata": {
    "collapsed": false
   },
   "outputs": [
    {
     "name": "stdout",
     "output_type": "stream",
     "text": [
      "548312217718136 \n",
      "\n",
      "                   HIRE_DT       TERMINATION_DT  status GRADE  Age_years\n",
      "55962  1992-02-03 00:00:00  2009-05-31 00:00:00       1   RE3  62.454397\n",
      "                   HIRE_DT       TERMINATION_DT  status GRADE  Age_years\n",
      "65897  1994-10-03 00:00:00  2011-03-21 00:00:00       1   RE2  45.539607\n",
      "                    HIRE_DT       TERMINATION_DT  status GRADE  Age_years\n",
      "129660  1997-09-08 00:00:00  2005-06-22 00:00:00       1   PB3  30.253872\n",
      "                    HIRE_DT       TERMINATION_DT  status GRADE  Age_years\n",
      "176718  1992-05-11 00:00:00  2003-02-28 00:00:00       1   PB3  63.018406\n",
      "933192385795150 \n",
      "\n",
      "                   HIRE_DT       TERMINATION_DT  status GRADE  Age_years\n",
      "33951  1968-06-10 00:00:00  2011-04-30 00:00:00       1   RA4  60.688447\n",
      "                   HIRE_DT       TERMINATION_DT  status GRADE  Age_years\n",
      "75986  2001-06-18 00:00:00  2009-09-10 00:00:00       1   PB4   48.17895\n",
      "                    HIRE_DT       TERMINATION_DT  status GRADE  Age_years\n",
      "155073  1974-09-03 00:00:00  2013-05-31 00:00:00       1   RE4  62.350356\n",
      "941452731816775 \n",
      "\n",
      "                 HIRE_DT       TERMINATION_DT  status GRADE  Age_years\n",
      "710  2008-02-09 00:00:00  2011-04-30 00:00:00       1   RE3  65.268965\n",
      "                    HIRE_DT       TERMINATION_DT  status GRADE  Age_years\n",
      "142143  1989-01-16 00:00:00  2012-06-30 00:00:00       1   RE3   66.02189\n",
      "                    HIRE_DT       TERMINATION_DT  status GRADE  Age_years\n",
      "174502  1967-11-21 00:00:00  2009-05-31 00:00:00       1   RE4  61.841106\n",
      "980940528205103 \n",
      "\n",
      "                   HIRE_DT       TERMINATION_DT  status GRADE  Age_years\n",
      "96355  1990-10-01 00:00:00  2010-05-13 00:00:00       1   RE3  60.140865\n",
      "424581573542478 \n",
      "\n",
      "                   HIRE_DT       TERMINATION_DT  status GRADE  Age_years\n",
      "21278  2012-09-17 00:00:00  2014-11-07 00:00:00       1   RE3   34.45656\n",
      "426470777684111 \n",
      "\n",
      "                   HIRE_DT       TERMINATION_DT  status GRADE  Age_years\n",
      "44441  2000-05-08 00:00:00  2013-08-31 00:00:00       1   RE4  63.001978\n",
      "                   HIRE_DT       TERMINATION_DT  status GRADE  Age_years\n",
      "47995  1991-02-04 00:00:00  2008-08-02 00:00:00       1   RE4  55.026455\n",
      "                   HIRE_DT       TERMINATION_DT  status GRADE  Age_years\n",
      "91884  1999-06-07 00:00:00  2012-11-09 00:00:00       1   RE3  43.532721\n",
      "                    HIRE_DT       TERMINATION_DT  status GRADE  Age_years\n",
      "140559  1989-04-17 00:00:00  2006-04-27 00:00:00       1   PB2  52.452822\n",
      "352364378679713 \n",
      "\n",
      "                    HIRE_DT       TERMINATION_DT  status GRADE  Age_years\n",
      "103862  1964-06-01 00:00:00  2007-05-31 00:00:00       1   RA3  62.049186\n",
      "                    HIRE_DT       TERMINATION_DT  status GRADE  Age_years\n",
      "131523  1966-10-17 00:00:00  2008-07-31 00:00:00       1   RA3  62.010856\n",
      "                    HIRE_DT       TERMINATION_DT  status GRADE  Age_years\n",
      "137937  2001-06-11 00:00:00  2006-10-29 00:00:00       1   RA1  28.118305\n",
      "                    HIRE_DT       TERMINATION_DT  status GRADE  Age_years\n",
      "157301  1968-02-22 00:00:00  2007-06-30 00:00:00       1   RA3  62.043711\n",
      "735551670536190 \n",
      "\n",
      "                   HIRE_DT       TERMINATION_DT  status GRADE  Age_years\n",
      "15605  1992-06-22 00:00:00  2014-06-27 00:00:00       1   RE3  43.571052\n",
      "                   HIRE_DT       TERMINATION_DT  status GRADE  Age_years\n",
      "81118  1991-07-15 00:00:00  2006-06-16 00:00:00       1   RA2  37.364217\n",
      "                    HIRE_DT       TERMINATION_DT  status GRADE  Age_years\n",
      "100197  1997-12-01 00:00:00  2003-03-07 00:00:00       1   RA3  32.586569\n",
      "                    HIRE_DT       TERMINATION_DT  status GRADE  Age_years\n",
      "130601  1999-05-17 00:00:00  2001-08-30 00:00:00       1   SF5  23.069604\n",
      "                    HIRE_DT       TERMINATION_DT  status GRADE  Age_years\n",
      "167435  1993-12-13 00:00:00  2002-05-15 00:00:00       1   MA4   34.50858\n",
      "                    HIRE_DT       TERMINATION_DT  status GRADE  Age_years\n",
      "170358  2000-03-13 00:00:00  2001-04-27 00:00:00       1   SF5   21.96349\n",
      "489494459931503 \n",
      "\n",
      "                   HIRE_DT       TERMINATION_DT  status GRADE  Age_years\n",
      "36681  1989-07-31 00:00:00  2011-07-31 00:00:00       1   RE3  65.017078\n",
      "                   HIRE_DT       TERMINATION_DT  status GRADE  Age_years\n",
      "42222  2008-03-15 00:00:00  2012-06-05 00:00:00       1   RE3  55.031931\n",
      "                    HIRE_DT       TERMINATION_DT  status GRADE  Age_years\n",
      "134627  1999-12-20 00:00:00  2006-10-16 00:00:00       1   RE2  26.971122\n",
      "68540412498890 \n",
      "\n",
      "                   HIRE_DT       TERMINATION_DT  status GRADE  Age_years\n",
      "75510  2004-06-07 00:00:00  2012-11-02 00:00:00       1   RE4  34.555124\n",
      "208550388090569 \n",
      "\n",
      "                    HIRE_DT       TERMINATION_DT  status GRADE  Age_years\n",
      "196915  2001-03-19 00:00:00  2001-09-04 00:00:00       1   SF3  19.860777\n"
     ]
    }
   ],
   "source": [
    "for key in skey_check:\n",
    "    \n",
    "    n_left = len(empl1[(empl1.SKEY==key)&(empl1.status==1)]>0)\n",
    "    if n_left > 0:\n",
    "        print key,\"\\n\"\n",
    "        for empl_key in empl1[(empl1.SKEY==key)&(empl1.status==1)].KEY.tolist():\n",
    "            print empl1[empl1.KEY==empl_key][['HIRE_DT','TERMINATION_DT','status','GRADE','Age_years']]\n",
    "    #print key,n_left\n",
    "        #print \"\\t\", current[current.KEY==key][['HIRE_DT','Age_years']]\n",
    "        #print current[current.KEY==key][['HIRE_DT','Age_years','CUR_DEPT_MOS','CUR_FUNC_MOS']]"
   ]
  },
  {
   "cell_type": "code",
   "execution_count": 193,
   "metadata": {
    "collapsed": false
   },
   "outputs": [
    {
     "data": {
      "text/plain": [
       "2014"
      ]
     },
     "execution_count": 193,
     "metadata": {},
     "output_type": "execute_result"
    }
   ],
   "source": [
    "len(current[current.HIRE_DT>'2014-09-14'])"
   ]
  },
  {
   "cell_type": "code",
   "execution_count": 195,
   "metadata": {
    "collapsed": false
   },
   "outputs": [
    {
     "data": {
      "text/plain": [
       "174101458943496    9\n",
       "594357807931657    9\n",
       "669715273971537    9\n",
       "238014670665383    9\n",
       "98081995313094     9\n",
       "750571308541378    9\n",
       "70829229462347     8\n",
       "821345177395896    8\n",
       "682719773465171    8\n",
       "494147850430639    8\n",
       "559078018441367    8\n",
       "833229132384634    8\n",
       "592651668746328    8\n",
       "932764434224351    8\n",
       "422461946691602    7\n",
       "166832966342025    7\n",
       "731930364729804    7\n",
       "57476394370886     7\n",
       "369274821770040    7\n",
       "821317613507303    6\n",
       "854898852694267    6\n",
       "267249570352607    6\n",
       "736314089846012    6\n",
       "848862594388827    6\n",
       "192908004947430    6\n",
       "857120522231385    6\n",
       "59656402589593     6\n",
       "67963714743016     6\n",
       "551200288604573    6\n",
       "551630039956248    6\n",
       "                  ..\n",
       "472109210897288    3\n",
       "409651439362043    3\n",
       "904727142725478    3\n",
       "561781181749786    3\n",
       "273761905391590    3\n",
       "498614788287606    3\n",
       "710502233687091    3\n",
       "727803281847296    3\n",
       "960537963994098    3\n",
       "873062427096564    3\n",
       "690764875938541    3\n",
       "779783068122241    3\n",
       "579533095275766    3\n",
       "594540332255205    3\n",
       "673478864446971    3\n",
       "138054592133525    3\n",
       "537019456986813    3\n",
       "680261231809976    3\n",
       "289067824040105    3\n",
       "532439043062012    3\n",
       "551546133845833    3\n",
       "110302081382974    3\n",
       "382353673867115    3\n",
       "854246010470319    3\n",
       "989440734958947    3\n",
       "268773709548998    3\n",
       "227379020409369    3\n",
       "508317617936208    3\n",
       "222180300495671    3\n",
       "351398830000031    3\n",
       "dtype: int64"
      ]
     },
     "execution_count": 195,
     "metadata": {},
     "output_type": "execute_result"
    }
   ],
   "source": [
    "vc1 = current[current.HIRE_DT>'2014-09-14'].SKEY.value_counts()\n",
    "vc1[(vc1<10) & (vc1>2)]"
   ]
  },
  {
   "cell_type": "code",
   "execution_count": 189,
   "metadata": {
    "collapsed": false
   },
   "outputs": [
    {
     "data": {
      "text/plain": [
       "array([], dtype=object)"
      ]
     },
     "execution_count": 189,
     "metadata": {},
     "output_type": "execute_result"
    }
   ],
   "source": [
    "key_samcrank_0 = empl1[(empl1.HIRE_DT > '2013-10-01')&(empl1.status==1)&(empl1.TERMINATION_DT>'2014-11-01')&(empl1.JOB_FAMILY=='DSDDSN')].KEY.unique()\n",
    "key_samcrank_0"
   ]
  },
  {
   "cell_type": "code",
   "execution_count": 188,
   "metadata": {
    "collapsed": false
   },
   "outputs": [
    {
     "data": {
      "text/html": [
       "<div>\n",
       "<table border=\"1\" class=\"dataframe\">\n",
       "  <thead>\n",
       "    <tr style=\"text-align: right;\">\n",
       "      <th></th>\n",
       "      <th>Age_years</th>\n",
       "      <th>HIRE_DT</th>\n",
       "      <th>TERMINATION_DT</th>\n",
       "      <th>SKEY</th>\n",
       "      <th>GRADE</th>\n",
       "      <th>JOB_FAMILY</th>\n",
       "      <th>JOBCODE</th>\n",
       "    </tr>\n",
       "  </thead>\n",
       "  <tbody>\n",
       "    <tr>\n",
       "      <th>129681</th>\n",
       "      <td>41.358823</td>\n",
       "      <td>2014-11-10 00:00:00</td>\n",
       "      <td>2014-11-10 00:00:00</td>\n",
       "      <td>289067824040105</td>\n",
       "      <td>RE3</td>\n",
       "      <td>DSDBAN</td>\n",
       "      <td>4712</td>\n",
       "    </tr>\n",
       "  </tbody>\n",
       "</table>\n",
       "</div>"
      ],
      "text/plain": [
       "        Age_years              HIRE_DT       TERMINATION_DT             SKEY  \\\n",
       "129681  41.358823  2014-11-10 00:00:00  2014-11-10 00:00:00  289067824040105   \n",
       "\n",
       "       GRADE JOB_FAMILY  JOBCODE  \n",
       "129681   RE3     DSDBAN     4712  "
      ]
     },
     "execution_count": 188,
     "metadata": {},
     "output_type": "execute_result"
    }
   ],
   "source": [
    "empl1[empl1.KEY==key_samcrank_0[0]][['Age_years','HIRE_DT','TERMINATION_DT','SKEY','GRADE','JOB_FAMILY','JOBCODE']]"
   ]
  },
  {
   "cell_type": "code",
   "execution_count": 169,
   "metadata": {
    "collapsed": false
   },
   "outputs": [
    {
     "data": {
      "text/html": [
       "<div>\n",
       "<table border=\"1\" class=\"dataframe\">\n",
       "  <thead>\n",
       "    <tr style=\"text-align: right;\">\n",
       "      <th></th>\n",
       "      <th>status</th>\n",
       "      <th>HIRE_DT</th>\n",
       "    </tr>\n",
       "  </thead>\n",
       "  <tbody>\n",
       "    <tr>\n",
       "      <th>15423</th>\n",
       "      <td>0</td>\n",
       "      <td>2002-01-07 00:00:00</td>\n",
       "    </tr>\n",
       "    <tr>\n",
       "      <th>16989</th>\n",
       "      <td>0</td>\n",
       "      <td>2007-05-21 00:00:00</td>\n",
       "    </tr>\n",
       "    <tr>\n",
       "      <th>28785</th>\n",
       "      <td>0</td>\n",
       "      <td>1999-11-29 00:00:00</td>\n",
       "    </tr>\n",
       "    <tr>\n",
       "      <th>31430</th>\n",
       "      <td>0</td>\n",
       "      <td>1986-06-02 00:00:00</td>\n",
       "    </tr>\n",
       "    <tr>\n",
       "      <th>80196</th>\n",
       "      <td>0</td>\n",
       "      <td>2004-05-10 00:00:00</td>\n",
       "    </tr>\n",
       "    <tr>\n",
       "      <th>124097</th>\n",
       "      <td>0</td>\n",
       "      <td>1993-06-07 00:00:00</td>\n",
       "    </tr>\n",
       "    <tr>\n",
       "      <th>133058</th>\n",
       "      <td>0</td>\n",
       "      <td>1992-07-13 00:00:00</td>\n",
       "    </tr>\n",
       "    <tr>\n",
       "      <th>148079</th>\n",
       "      <td>0</td>\n",
       "      <td>1979-10-01 00:00:00</td>\n",
       "    </tr>\n",
       "    <tr>\n",
       "      <th>160357</th>\n",
       "      <td>0</td>\n",
       "      <td>1995-05-22 00:00:00</td>\n",
       "    </tr>\n",
       "    <tr>\n",
       "      <th>184478</th>\n",
       "      <td>0</td>\n",
       "      <td>1985-06-03 00:00:00</td>\n",
       "    </tr>\n",
       "    <tr>\n",
       "      <th>190271</th>\n",
       "      <td>0</td>\n",
       "      <td>1999-01-11 00:00:00</td>\n",
       "    </tr>\n",
       "    <tr>\n",
       "      <th>191283</th>\n",
       "      <td>0</td>\n",
       "      <td>1994-05-23 00:00:00</td>\n",
       "    </tr>\n",
       "    <tr>\n",
       "      <th>196915</th>\n",
       "      <td>1</td>\n",
       "      <td>2001-03-19 00:00:00</td>\n",
       "    </tr>\n",
       "  </tbody>\n",
       "</table>\n",
       "</div>"
      ],
      "text/plain": [
       "        status              HIRE_DT\n",
       "15423        0  2002-01-07 00:00:00\n",
       "16989        0  2007-05-21 00:00:00\n",
       "28785        0  1999-11-29 00:00:00\n",
       "31430        0  1986-06-02 00:00:00\n",
       "80196        0  2004-05-10 00:00:00\n",
       "124097       0  1993-06-07 00:00:00\n",
       "133058       0  1992-07-13 00:00:00\n",
       "148079       0  1979-10-01 00:00:00\n",
       "160357       0  1995-05-22 00:00:00\n",
       "184478       0  1985-06-03 00:00:00\n",
       "190271       0  1999-01-11 00:00:00\n",
       "191283       0  1994-05-23 00:00:00\n",
       "196915       1  2001-03-19 00:00:00"
      ]
     },
     "execution_count": 169,
     "metadata": {},
     "output_type": "execute_result"
    }
   ],
   "source": [
    "empl1[empl1.SKEY==key][['status','HIRE_DT']]"
   ]
  },
  {
   "cell_type": "markdown",
   "metadata": {},
   "source": [
    "### looking for system DS list"
   ]
  },
  {
   "cell_type": "markdown",
   "metadata": {
    "collapsed": true
   },
   "source": [
    "'I want to find Data specialists Data Design  in product solutions'\n",
    "probably Raj, Lucas, Wenmiao"
   ]
  },
  {
   "cell_type": "code",
   "execution_count": 198,
   "metadata": {
    "collapsed": false
   },
   "outputs": [
    {
     "name": "stdout",
     "output_type": "stream",
     "text": [
      "2950\n"
     ]
    },
    {
     "data": {
      "text/plain": [
       "PSA    2277\n",
       "PTA     202\n",
       "PTB     172\n",
       "PTE     140\n",
       "PSC      44\n",
       "PTD      40\n",
       "PTC      28\n",
       "MGT      18\n",
       "PTI      15\n",
       "NSA      10\n",
       "PTL       3\n",
       "PTG       1\n",
       "dtype: int64"
      ]
     },
     "execution_count": 198,
     "metadata": {},
     "output_type": "execute_result"
    }
   ],
   "source": [
    "# how many were hired after July 2014\n",
    "print len(current[current.HIRE_DT>'2014-07-01'])\n",
    "july2014hired = current[current.HIRE_DT>'2014-07-01']\n",
    "july2014hired.JOB_FUNCTION.value_counts()"
   ]
  },
  {
   "cell_type": "code",
   "execution_count": 199,
   "metadata": {
    "collapsed": false
   },
   "outputs": [
    {
     "data": {
      "text/plain": [
       "RA3    66\n",
       "RA2    65\n",
       "RA1    42\n",
       "RA4    13\n",
       "RE3     6\n",
       "RE2     5\n",
       "RE4     4\n",
       "RE1     1\n",
       "dtype: int64"
      ]
     },
     "execution_count": 199,
     "metadata": {},
     "output_type": "execute_result"
    }
   ],
   "source": [
    "july2014hired[july2014hired.JOB_FUNCTION=='PTA'].GRADE.value_counts()"
   ]
  },
  {
   "cell_type": "code",
   "execution_count": 206,
   "metadata": {
    "collapsed": false
   },
   "outputs": [
    {
     "data": {
      "text/plain": [
       "BSAISD    30\n",
       "ATOEST    24\n",
       "BANKBA    11\n",
       "DSDDSN    11\n",
       "BAFMDS     8\n",
       "CLCPLG     8\n",
       "PROSPC     7\n",
       "DGTIND     7\n",
       "BUSARC     7\n",
       "ERMANL     7\n",
       "CMPANS     6\n",
       "ICT        5\n",
       "FNANST     5\n",
       "HRREP      4\n",
       "SYSADT     4\n",
       "CCRANS     4\n",
       "OCHLNS     4\n",
       "PAANST     3\n",
       "AGRECR     3\n",
       "BASYST     3\n",
       "DIGTVD     3\n",
       "FINADT     3\n",
       "APRSAN     3\n",
       "BAFINC     3\n",
       "ANLYST     2\n",
       "NRSRVW     2\n",
       "FNTRNE     2\n",
       "RESANS     2\n",
       "INSDES     2\n",
       "CRELEA     2\n",
       "ACTMGR     2\n",
       "TXANST     2\n",
       "ARCDSG     2\n",
       "INVANY     1\n",
       "MKTANT     1\n",
       "SPEC       1\n",
       "STFATC     1\n",
       "BACLMA     1\n",
       "MORUND     1\n",
       "BKCMAN     1\n",
       "PLNER      1\n",
       "BNKINV     1\n",
       "ALMGAN     1\n",
       "DGTCNS     1\n",
       "dtype: int64"
      ]
     },
     "execution_count": 206,
     "metadata": {},
     "output_type": "execute_result"
    }
   ],
   "source": [
    "july2014hired[july2014hired.JOB_FUNCTION=='PTA'].JOB_FAMILY.value_counts()"
   ]
  },
  {
   "cell_type": "code",
   "execution_count": 221,
   "metadata": {
    "collapsed": true
   },
   "outputs": [],
   "source": [
    "some_cols = ['SAL1','Age_years','HIRE_DT','SKEY','GRADE','JOBCODE','JOB_FUNCTION','LOC_STATE']"
   ]
  },
  {
   "cell_type": "code",
   "execution_count": 222,
   "metadata": {
    "collapsed": false
   },
   "outputs": [
    {
     "data": {
      "text/html": [
       "<div>\n",
       "<table border=\"1\" class=\"dataframe\">\n",
       "  <thead>\n",
       "    <tr style=\"text-align: right;\">\n",
       "      <th></th>\n",
       "      <th>SAL1</th>\n",
       "      <th>Age_years</th>\n",
       "      <th>HIRE_DT</th>\n",
       "      <th>SKEY</th>\n",
       "      <th>GRADE</th>\n",
       "      <th>JOBCODE</th>\n",
       "      <th>JOB_FUNCTION</th>\n",
       "      <th>LOC_STATE</th>\n",
       "    </tr>\n",
       "  </thead>\n",
       "  <tbody>\n",
       "    <tr>\n",
       "      <th>35354</th>\n",
       "      <td>70000</td>\n",
       "      <td>31.113575</td>\n",
       "      <td>2014-09-15 00:00:00</td>\n",
       "      <td>561781181749786</td>\n",
       "      <td>RE2</td>\n",
       "      <td>4699</td>\n",
       "      <td>PTA</td>\n",
       "      <td>AZ</td>\n",
       "    </tr>\n",
       "    <tr>\n",
       "      <th>37907</th>\n",
       "      <td>80000</td>\n",
       "      <td>37.243749</td>\n",
       "      <td>2014-12-08 00:00:00</td>\n",
       "      <td>68540412498890</td>\n",
       "      <td>RE2</td>\n",
       "      <td>4699</td>\n",
       "      <td>PTA</td>\n",
       "      <td>IL</td>\n",
       "    </tr>\n",
       "    <tr>\n",
       "      <th>47871</th>\n",
       "      <td>93000</td>\n",
       "      <td>38.144520</td>\n",
       "      <td>2014-07-28 00:00:00</td>\n",
       "      <td>161211433895496</td>\n",
       "      <td>RE3</td>\n",
       "      <td>4698</td>\n",
       "      <td>PTA</td>\n",
       "      <td>IL</td>\n",
       "    </tr>\n",
       "    <tr>\n",
       "      <th>53783</th>\n",
       "      <td>90000</td>\n",
       "      <td>37.624318</td>\n",
       "      <td>2014-09-29 00:00:00</td>\n",
       "      <td>561781181749786</td>\n",
       "      <td>RE3</td>\n",
       "      <td>4698</td>\n",
       "      <td>PTA</td>\n",
       "      <td>AZ</td>\n",
       "    </tr>\n",
       "    <tr>\n",
       "      <th>62402</th>\n",
       "      <td>105000</td>\n",
       "      <td>36.534631</td>\n",
       "      <td>2014-12-22 00:00:00</td>\n",
       "      <td>68540412498890</td>\n",
       "      <td>RE4</td>\n",
       "      <td>4697</td>\n",
       "      <td>PTA</td>\n",
       "      <td>IL</td>\n",
       "    </tr>\n",
       "    <tr>\n",
       "      <th>87210</th>\n",
       "      <td>110000</td>\n",
       "      <td>37.156136</td>\n",
       "      <td>2014-12-10 00:00:00</td>\n",
       "      <td>68540412498890</td>\n",
       "      <td>RE4</td>\n",
       "      <td>4697</td>\n",
       "      <td>PTA</td>\n",
       "      <td>IL</td>\n",
       "    </tr>\n",
       "    <tr>\n",
       "      <th>112958</th>\n",
       "      <td>100000</td>\n",
       "      <td>41.928308</td>\n",
       "      <td>2014-09-29 00:00:00</td>\n",
       "      <td>608296856101741</td>\n",
       "      <td>RE4</td>\n",
       "      <td>4697</td>\n",
       "      <td>PTA</td>\n",
       "      <td>IL</td>\n",
       "    </tr>\n",
       "    <tr>\n",
       "      <th>137716</th>\n",
       "      <td>90000</td>\n",
       "      <td>44.386948</td>\n",
       "      <td>2014-12-08 00:00:00</td>\n",
       "      <td>489494459931503</td>\n",
       "      <td>RE3</td>\n",
       "      <td>4698</td>\n",
       "      <td>PTA</td>\n",
       "      <td>IL</td>\n",
       "    </tr>\n",
       "    <tr>\n",
       "      <th>145747</th>\n",
       "      <td>98000</td>\n",
       "      <td>41.591545</td>\n",
       "      <td>2014-09-15 00:00:00</td>\n",
       "      <td>561781181749786</td>\n",
       "      <td>RE4</td>\n",
       "      <td>4697</td>\n",
       "      <td>PTA</td>\n",
       "      <td>AZ</td>\n",
       "    </tr>\n",
       "    <tr>\n",
       "      <th>147375</th>\n",
       "      <td>90000</td>\n",
       "      <td>45.238437</td>\n",
       "      <td>2014-10-16 00:00:00</td>\n",
       "      <td>68540412498890</td>\n",
       "      <td>RE3</td>\n",
       "      <td>4698</td>\n",
       "      <td>PTA</td>\n",
       "      <td>IL</td>\n",
       "    </tr>\n",
       "    <tr>\n",
       "      <th>192226</th>\n",
       "      <td>79000</td>\n",
       "      <td>38.338912</td>\n",
       "      <td>2014-09-13 00:00:00</td>\n",
       "      <td>548312217718136</td>\n",
       "      <td>RE2</td>\n",
       "      <td>4699</td>\n",
       "      <td>PTA</td>\n",
       "      <td>IL</td>\n",
       "    </tr>\n",
       "  </tbody>\n",
       "</table>\n",
       "</div>"
      ],
      "text/plain": [
       "          SAL1  Age_years              HIRE_DT             SKEY GRADE  \\\n",
       "35354    70000  31.113575  2014-09-15 00:00:00  561781181749786   RE2   \n",
       "37907    80000  37.243749  2014-12-08 00:00:00   68540412498890   RE2   \n",
       "47871    93000  38.144520  2014-07-28 00:00:00  161211433895496   RE3   \n",
       "53783    90000  37.624318  2014-09-29 00:00:00  561781181749786   RE3   \n",
       "62402   105000  36.534631  2014-12-22 00:00:00   68540412498890   RE4   \n",
       "87210   110000  37.156136  2014-12-10 00:00:00   68540412498890   RE4   \n",
       "112958  100000  41.928308  2014-09-29 00:00:00  608296856101741   RE4   \n",
       "137716   90000  44.386948  2014-12-08 00:00:00  489494459931503   RE3   \n",
       "145747   98000  41.591545  2014-09-15 00:00:00  561781181749786   RE4   \n",
       "147375   90000  45.238437  2014-10-16 00:00:00   68540412498890   RE3   \n",
       "192226   79000  38.338912  2014-09-13 00:00:00  548312217718136   RE2   \n",
       "\n",
       "        JOBCODE JOB_FUNCTION LOC_STATE  \n",
       "35354      4699          PTA        AZ  \n",
       "37907      4699          PTA        IL  \n",
       "47871      4698          PTA        IL  \n",
       "53783      4698          PTA        AZ  \n",
       "62402      4697          PTA        IL  \n",
       "87210      4697          PTA        IL  \n",
       "112958     4697          PTA        IL  \n",
       "137716     4698          PTA        IL  \n",
       "145747     4697          PTA        AZ  \n",
       "147375     4698          PTA        IL  \n",
       "192226     4699          PTA        IL  "
      ]
     },
     "execution_count": 222,
     "metadata": {},
     "output_type": "execute_result"
    }
   ],
   "source": [
    "july2014hired[july2014hired.JOB_FAMILY=='DSDDSN'][some_cols]"
   ]
  },
  {
   "cell_type": "code",
   "execution_count": 216,
   "metadata": {
    "collapsed": false
   },
   "outputs": [
    {
     "data": {
      "text/plain": [
       "14"
      ]
     },
     "execution_count": 216,
     "metadata": {},
     "output_type": "execute_result"
    }
   ],
   "source": [
    "skey_probe = '68540412498890'\n",
    "len(current[current.SKEY==skey_probe])"
   ]
  },
  {
   "cell_type": "code",
   "execution_count": 225,
   "metadata": {
    "collapsed": false
   },
   "outputs": [
    {
     "data": {
      "text/html": [
       "<div>\n",
       "<table border=\"1\" class=\"dataframe\">\n",
       "  <thead>\n",
       "    <tr style=\"text-align: right;\">\n",
       "      <th></th>\n",
       "      <th>HIRE_DT</th>\n",
       "      <th>TERMINATION_DT</th>\n",
       "      <th>GRADE</th>\n",
       "      <th>LOC_STATE</th>\n",
       "      <th>JOBCODE</th>\n",
       "      <th>Age_years</th>\n",
       "      <th>SAL1</th>\n",
       "      <th>Tenure_years</th>\n",
       "    </tr>\n",
       "  </thead>\n",
       "  <tbody>\n",
       "    <tr>\n",
       "      <th>10321</th>\n",
       "      <td>1994-09-12 00:00:00</td>\n",
       "      <td>2015-01-01 00:00:00</td>\n",
       "      <td>RA3</td>\n",
       "      <td>IL</td>\n",
       "      <td>4642</td>\n",
       "      <td>43.012519</td>\n",
       "      <td>63884.13</td>\n",
       "      <td>20.304318</td>\n",
       "    </tr>\n",
       "    <tr>\n",
       "      <th>32277</th>\n",
       "      <td>1993-06-07 00:00:00</td>\n",
       "      <td>2015-01-01 00:00:00</td>\n",
       "      <td>RE3</td>\n",
       "      <td>IL</td>\n",
       "      <td>4574</td>\n",
       "      <td>47.661485</td>\n",
       "      <td>92949.89</td>\n",
       "      <td>21.569231</td>\n",
       "    </tr>\n",
       "    <tr>\n",
       "      <th>37907</th>\n",
       "      <td>2014-12-08 00:00:00</td>\n",
       "      <td>2015-01-01 00:00:00</td>\n",
       "      <td>RE2</td>\n",
       "      <td>IL</td>\n",
       "      <td>4699</td>\n",
       "      <td>37.243749</td>\n",
       "      <td>80000.00</td>\n",
       "      <td>0.065710</td>\n",
       "    </tr>\n",
       "    <tr>\n",
       "      <th>38302</th>\n",
       "      <td>2000-10-02 00:00:00</td>\n",
       "      <td>2015-01-01 00:00:00</td>\n",
       "      <td>RE3</td>\n",
       "      <td>IL</td>\n",
       "      <td>4534</td>\n",
       "      <td>45.224748</td>\n",
       "      <td>85882.69</td>\n",
       "      <td>14.248068</td>\n",
       "    </tr>\n",
       "    <tr>\n",
       "      <th>58219</th>\n",
       "      <td>2006-06-26 00:00:00</td>\n",
       "      <td>2015-01-01 00:00:00</td>\n",
       "      <td>RE4</td>\n",
       "      <td>IL</td>\n",
       "      <td>4573</td>\n",
       "      <td>39.056243</td>\n",
       "      <td>96989.68</td>\n",
       "      <td>8.517629</td>\n",
       "    </tr>\n",
       "    <tr>\n",
       "      <th>62402</th>\n",
       "      <td>2014-12-22 00:00:00</td>\n",
       "      <td>2015-01-01 00:00:00</td>\n",
       "      <td>RE4</td>\n",
       "      <td>IL</td>\n",
       "      <td>4697</td>\n",
       "      <td>36.534631</td>\n",
       "      <td>105000.00</td>\n",
       "      <td>0.027379</td>\n",
       "    </tr>\n",
       "    <tr>\n",
       "      <th>78645</th>\n",
       "      <td>2013-11-11 00:00:00</td>\n",
       "      <td>2015-01-01 00:00:00</td>\n",
       "      <td>RE4</td>\n",
       "      <td>GA</td>\n",
       "      <td>4533</td>\n",
       "      <td>39.661321</td>\n",
       "      <td>125937.50</td>\n",
       "      <td>1.138969</td>\n",
       "    </tr>\n",
       "    <tr>\n",
       "      <th>84259</th>\n",
       "      <td>1984-12-17 00:00:00</td>\n",
       "      <td>2015-01-01 00:00:00</td>\n",
       "      <td>RE4</td>\n",
       "      <td>IL</td>\n",
       "      <td>4573</td>\n",
       "      <td>61.329117</td>\n",
       "      <td>116769.22</td>\n",
       "      <td>30.040316</td>\n",
       "    </tr>\n",
       "    <tr>\n",
       "      <th>87210</th>\n",
       "      <td>2014-12-10 00:00:00</td>\n",
       "      <td>2015-01-01 00:00:00</td>\n",
       "      <td>RE4</td>\n",
       "      <td>IL</td>\n",
       "      <td>4697</td>\n",
       "      <td>37.156136</td>\n",
       "      <td>110000.00</td>\n",
       "      <td>0.060234</td>\n",
       "    </tr>\n",
       "    <tr>\n",
       "      <th>127168</th>\n",
       "      <td>1992-06-01 00:00:00</td>\n",
       "      <td>2015-01-01 00:00:00</td>\n",
       "      <td>RE4</td>\n",
       "      <td>IL</td>\n",
       "      <td>4533</td>\n",
       "      <td>44.701808</td>\n",
       "      <td>112248.77</td>\n",
       "      <td>22.584995</td>\n",
       "    </tr>\n",
       "    <tr>\n",
       "      <th>143395</th>\n",
       "      <td>2004-08-23 00:00:00</td>\n",
       "      <td>2015-01-01 00:00:00</td>\n",
       "      <td>RE3</td>\n",
       "      <td>IL</td>\n",
       "      <td>4534</td>\n",
       "      <td>38.144520</td>\n",
       "      <td>76661.99</td>\n",
       "      <td>10.357502</td>\n",
       "    </tr>\n",
       "    <tr>\n",
       "      <th>147375</th>\n",
       "      <td>2014-10-16 00:00:00</td>\n",
       "      <td>2015-01-01 00:00:00</td>\n",
       "      <td>RE3</td>\n",
       "      <td>IL</td>\n",
       "      <td>4698</td>\n",
       "      <td>45.238437</td>\n",
       "      <td>90000.00</td>\n",
       "      <td>0.210819</td>\n",
       "    </tr>\n",
       "    <tr>\n",
       "      <th>183244</th>\n",
       "      <td>1997-07-21 00:00:00</td>\n",
       "      <td>2015-01-01 00:00:00</td>\n",
       "      <td>RE4</td>\n",
       "      <td>IL</td>\n",
       "      <td>4711</td>\n",
       "      <td>56.113404</td>\n",
       "      <td>103698.41</td>\n",
       "      <td>17.448681</td>\n",
       "    </tr>\n",
       "    <tr>\n",
       "      <th>193259</th>\n",
       "      <td>1989-12-11 00:00:00</td>\n",
       "      <td>2015-01-01 00:00:00</td>\n",
       "      <td>RA3</td>\n",
       "      <td>IL</td>\n",
       "      <td>4642</td>\n",
       "      <td>53.205747</td>\n",
       "      <td>76519.72</td>\n",
       "      <td>25.057325</td>\n",
       "    </tr>\n",
       "  </tbody>\n",
       "</table>\n",
       "</div>"
      ],
      "text/plain": [
       "                    HIRE_DT       TERMINATION_DT GRADE LOC_STATE  JOBCODE  \\\n",
       "10321   1994-09-12 00:00:00  2015-01-01 00:00:00   RA3        IL     4642   \n",
       "32277   1993-06-07 00:00:00  2015-01-01 00:00:00   RE3        IL     4574   \n",
       "37907   2014-12-08 00:00:00  2015-01-01 00:00:00   RE2        IL     4699   \n",
       "38302   2000-10-02 00:00:00  2015-01-01 00:00:00   RE3        IL     4534   \n",
       "58219   2006-06-26 00:00:00  2015-01-01 00:00:00   RE4        IL     4573   \n",
       "62402   2014-12-22 00:00:00  2015-01-01 00:00:00   RE4        IL     4697   \n",
       "78645   2013-11-11 00:00:00  2015-01-01 00:00:00   RE4        GA     4533   \n",
       "84259   1984-12-17 00:00:00  2015-01-01 00:00:00   RE4        IL     4573   \n",
       "87210   2014-12-10 00:00:00  2015-01-01 00:00:00   RE4        IL     4697   \n",
       "127168  1992-06-01 00:00:00  2015-01-01 00:00:00   RE4        IL     4533   \n",
       "143395  2004-08-23 00:00:00  2015-01-01 00:00:00   RE3        IL     4534   \n",
       "147375  2014-10-16 00:00:00  2015-01-01 00:00:00   RE3        IL     4698   \n",
       "183244  1997-07-21 00:00:00  2015-01-01 00:00:00   RE4        IL     4711   \n",
       "193259  1989-12-11 00:00:00  2015-01-01 00:00:00   RA3        IL     4642   \n",
       "\n",
       "        Age_years       SAL1  Tenure_years  \n",
       "10321   43.012519   63884.13     20.304318  \n",
       "32277   47.661485   92949.89     21.569231  \n",
       "37907   37.243749   80000.00      0.065710  \n",
       "38302   45.224748   85882.69     14.248068  \n",
       "58219   39.056243   96989.68      8.517629  \n",
       "62402   36.534631  105000.00      0.027379  \n",
       "78645   39.661321  125937.50      1.138969  \n",
       "84259   61.329117  116769.22     30.040316  \n",
       "87210   37.156136  110000.00      0.060234  \n",
       "127168  44.701808  112248.77     22.584995  \n",
       "143395  38.144520   76661.99     10.357502  \n",
       "147375  45.238437   90000.00      0.210819  \n",
       "183244  56.113404  103698.41     17.448681  \n",
       "193259  53.205747   76519.72     25.057325  "
      ]
     },
     "execution_count": 225,
     "metadata": {},
     "output_type": "execute_result"
    }
   ],
   "source": [
    "current[current.SKEY==skey_probe][['HIRE_DT','TERMINATION_DT','GRADE','LOC_STATE','JOBCODE','Age_years','SAL1','Tenure_years']]"
   ]
  },
  {
   "cell_type": "code",
   "execution_count": 217,
   "metadata": {
    "collapsed": false
   },
   "outputs": [
    {
     "data": {
      "text/plain": [
       "['CUR_DEPT_MOS',\n",
       " 'CUR_EFUNC_MOS',\n",
       " 'CUR_FUNC_MOS',\n",
       " 'CUR_GRADE_MOS',\n",
       " 'CUR_JOB_MOS',\n",
       " 'CUR_LOC_MOS',\n",
       " 'TELE_MOS']"
      ]
     },
     "execution_count": 217,
     "metadata": {},
     "output_type": "execute_result"
    }
   ],
   "source": [
    "[c for c in current.columns if 'MOS' in c]"
   ]
  },
  {
   "cell_type": "code",
   "execution_count": 220,
   "metadata": {
    "collapsed": false
   },
   "outputs": [
    {
     "data": {
      "text/html": [
       "<div>\n",
       "<table border=\"1\" class=\"dataframe\">\n",
       "  <thead>\n",
       "    <tr style=\"text-align: right;\">\n",
       "      <th></th>\n",
       "      <th>HIRE_DT</th>\n",
       "      <th>Age_years</th>\n",
       "      <th>SAL1</th>\n",
       "      <th>GRADE</th>\n",
       "      <th>CUR_JOB_MOS</th>\n",
       "      <th>LOC_STATE</th>\n",
       "    </tr>\n",
       "  </thead>\n",
       "  <tbody>\n",
       "    <tr>\n",
       "      <th>187900</th>\n",
       "      <td>1988-05-31 00:00:00</td>\n",
       "      <td>51.973689</td>\n",
       "      <td>127403.07</td>\n",
       "      <td>MG4</td>\n",
       "      <td>50.483871</td>\n",
       "      <td>IL</td>\n",
       "    </tr>\n",
       "  </tbody>\n",
       "</table>\n",
       "</div>"
      ],
      "text/plain": [
       "                    HIRE_DT  Age_years       SAL1 GRADE  CUR_JOB_MOS LOC_STATE\n",
       "187900  1988-05-31 00:00:00  51.973689  127403.07   MG4    50.483871        IL"
      ]
     },
     "execution_count": 220,
     "metadata": {},
     "output_type": "execute_result"
    }
   ],
   "source": [
    "current[current.KEY ==skey_probe][['HIRE_DT','Age_years','SAL1','GRADE','CUR_JOB_MOS','LOC_STATE']]"
   ]
  },
  {
   "cell_type": "code",
   "execution_count": 204,
   "metadata": {
    "collapsed": false
   },
   "outputs": [
    {
     "data": {
      "text/plain": [
       "84"
      ]
     },
     "execution_count": 204,
     "metadata": {},
     "output_type": "execute_result"
    }
   ],
   "source": [
    "len(july2014hired[july2014hired.GRADE=='RE3'])"
   ]
  },
  {
   "cell_type": "code",
   "execution_count": null,
   "metadata": {
    "collapsed": true
   },
   "outputs": [],
   "source": []
  }
 ],
 "metadata": {
  "kernelspec": {
   "display_name": "Python 2",
   "language": "python",
   "name": "python2"
  },
  "language_info": {
   "codemirror_mode": {
    "name": "ipython",
    "version": 2
   },
   "file_extension": ".py",
   "mimetype": "text/x-python",
   "name": "python",
   "nbconvert_exporter": "python",
   "pygments_lexer": "ipython2",
   "version": "2.7.10"
  }
 },
 "nbformat": 4,
 "nbformat_minor": 0
}
