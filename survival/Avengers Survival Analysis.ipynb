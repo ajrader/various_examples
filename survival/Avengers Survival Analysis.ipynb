{
 "cells": [
  {
   "cell_type": "markdown",
   "metadata": {},
   "source": [
    "# Survival Analysis Treatment of Avengers Dataset from FiveThirtyEight.com Blog post\n"
   ]
  },
  {
   "cell_type": "code",
   "execution_count": 1,
   "metadata": {
    "collapsed": true
   },
   "outputs": [],
   "source": [
    "import pandas as pd\n",
    "import numpy as np\n",
    "%matplotlib notebook\n",
    "import matplotlib.pyplot as plt\n",
    "import lifelines as life\n",
    "import os\n",
    "plt.style.use('fivethirtyeight') # Good looking plots"
   ]
  },
  {
   "cell_type": "code",
   "execution_count": 2,
   "metadata": {
    "collapsed": true
   },
   "outputs": [],
   "source": [
    "os.chdir('../../datasets/survivalData/')"
   ]
  },
  {
   "cell_type": "code",
   "execution_count": 3,
   "metadata": {
    "collapsed": false
   },
   "outputs": [
    {
     "data": {
      "text/html": [
       "<div style=\"max-height:1000px;max-width:1500px;overflow:auto;\">\n",
       "<table border=\"1\" class=\"dataframe\">\n",
       "  <thead>\n",
       "    <tr style=\"text-align: right;\">\n",
       "      <th></th>\n",
       "      <th>URL</th>\n",
       "      <th>Name/Alias</th>\n",
       "      <th>Appearances</th>\n",
       "      <th>Current?</th>\n",
       "      <th>Gender</th>\n",
       "      <th>Probationary Introl</th>\n",
       "      <th>Full/Reserve Avengers Intro</th>\n",
       "      <th>Year</th>\n",
       "      <th>Years since joining</th>\n",
       "      <th>Honorary</th>\n",
       "      <th>...</th>\n",
       "      <th>Return1</th>\n",
       "      <th>Death2</th>\n",
       "      <th>Return2</th>\n",
       "      <th>Death3</th>\n",
       "      <th>Return3</th>\n",
       "      <th>Death4</th>\n",
       "      <th>Return4</th>\n",
       "      <th>Death5</th>\n",
       "      <th>Return5</th>\n",
       "      <th>Notes</th>\n",
       "    </tr>\n",
       "  </thead>\n",
       "  <tbody>\n",
       "    <tr>\n",
       "      <th>0</th>\n",
       "      <td>http://marvel.wikia.com/Henry_Pym_(Earth-616)</td>\n",
       "      <td>Henry Jonathan \"Hank\" Pym</td>\n",
       "      <td>1269</td>\n",
       "      <td>YES</td>\n",
       "      <td>MALE</td>\n",
       "      <td>NaN</td>\n",
       "      <td>Sep-63</td>\n",
       "      <td>1963</td>\n",
       "      <td>52</td>\n",
       "      <td>Full</td>\n",
       "      <td>...</td>\n",
       "      <td>NO</td>\n",
       "      <td>NaN</td>\n",
       "      <td>NaN</td>\n",
       "      <td>NaN</td>\n",
       "      <td>NaN</td>\n",
       "      <td>NaN</td>\n",
       "      <td>NaN</td>\n",
       "      <td>NaN</td>\n",
       "      <td>NaN</td>\n",
       "      <td>Merged with Ultron in Rage of Ultron Vol. 1. A...</td>\n",
       "    </tr>\n",
       "    <tr>\n",
       "      <th>1</th>\n",
       "      <td>http://marvel.wikia.com/Janet_van_Dyne_(Earth-...</td>\n",
       "      <td>Janet van Dyne</td>\n",
       "      <td>1165</td>\n",
       "      <td>YES</td>\n",
       "      <td>FEMALE</td>\n",
       "      <td>NaN</td>\n",
       "      <td>Sep-63</td>\n",
       "      <td>1963</td>\n",
       "      <td>52</td>\n",
       "      <td>Full</td>\n",
       "      <td>...</td>\n",
       "      <td>YES</td>\n",
       "      <td>NaN</td>\n",
       "      <td>NaN</td>\n",
       "      <td>NaN</td>\n",
       "      <td>NaN</td>\n",
       "      <td>NaN</td>\n",
       "      <td>NaN</td>\n",
       "      <td>NaN</td>\n",
       "      <td>NaN</td>\n",
       "      <td>Dies in Secret Invasion V1:I8. Actually was se...</td>\n",
       "    </tr>\n",
       "    <tr>\n",
       "      <th>2</th>\n",
       "      <td>http://marvel.wikia.com/Anthony_Stark_(Earth-616)</td>\n",
       "      <td>Anthony Edward \"Tony\" Stark</td>\n",
       "      <td>3068</td>\n",
       "      <td>YES</td>\n",
       "      <td>MALE</td>\n",
       "      <td>NaN</td>\n",
       "      <td>Sep-63</td>\n",
       "      <td>1963</td>\n",
       "      <td>52</td>\n",
       "      <td>Full</td>\n",
       "      <td>...</td>\n",
       "      <td>YES</td>\n",
       "      <td>NaN</td>\n",
       "      <td>NaN</td>\n",
       "      <td>NaN</td>\n",
       "      <td>NaN</td>\n",
       "      <td>NaN</td>\n",
       "      <td>NaN</td>\n",
       "      <td>NaN</td>\n",
       "      <td>NaN</td>\n",
       "      <td>Death: \"Later while under the influence of Imm...</td>\n",
       "    </tr>\n",
       "    <tr>\n",
       "      <th>3</th>\n",
       "      <td>http://marvel.wikia.com/Robert_Bruce_Banner_(E...</td>\n",
       "      <td>Robert Bruce Banner</td>\n",
       "      <td>2089</td>\n",
       "      <td>YES</td>\n",
       "      <td>MALE</td>\n",
       "      <td>NaN</td>\n",
       "      <td>Sep-63</td>\n",
       "      <td>1963</td>\n",
       "      <td>52</td>\n",
       "      <td>Full</td>\n",
       "      <td>...</td>\n",
       "      <td>YES</td>\n",
       "      <td>NaN</td>\n",
       "      <td>NaN</td>\n",
       "      <td>NaN</td>\n",
       "      <td>NaN</td>\n",
       "      <td>NaN</td>\n",
       "      <td>NaN</td>\n",
       "      <td>NaN</td>\n",
       "      <td>NaN</td>\n",
       "      <td>Dies in Ghosts of the Future arc. However \"he ...</td>\n",
       "    </tr>\n",
       "    <tr>\n",
       "      <th>4</th>\n",
       "      <td>http://marvel.wikia.com/Thor_Odinson_(Earth-616)</td>\n",
       "      <td>Thor Odinson</td>\n",
       "      <td>2402</td>\n",
       "      <td>YES</td>\n",
       "      <td>MALE</td>\n",
       "      <td>NaN</td>\n",
       "      <td>Sep-63</td>\n",
       "      <td>1963</td>\n",
       "      <td>52</td>\n",
       "      <td>Full</td>\n",
       "      <td>...</td>\n",
       "      <td>YES</td>\n",
       "      <td>YES</td>\n",
       "      <td>NO</td>\n",
       "      <td>NaN</td>\n",
       "      <td>NaN</td>\n",
       "      <td>NaN</td>\n",
       "      <td>NaN</td>\n",
       "      <td>NaN</td>\n",
       "      <td>NaN</td>\n",
       "      <td>Dies in Fear Itself brought back because that'...</td>\n",
       "    </tr>\n",
       "  </tbody>\n",
       "</table>\n",
       "<p>5 rows × 21 columns</p>\n",
       "</div>"
      ],
      "text/plain": [
       "                                                 URL  \\\n",
       "0      http://marvel.wikia.com/Henry_Pym_(Earth-616)   \n",
       "1  http://marvel.wikia.com/Janet_van_Dyne_(Earth-...   \n",
       "2  http://marvel.wikia.com/Anthony_Stark_(Earth-616)   \n",
       "3  http://marvel.wikia.com/Robert_Bruce_Banner_(E...   \n",
       "4   http://marvel.wikia.com/Thor_Odinson_(Earth-616)   \n",
       "\n",
       "                    Name/Alias  Appearances Current?  Gender  \\\n",
       "0    Henry Jonathan \"Hank\" Pym         1269      YES    MALE   \n",
       "1               Janet van Dyne         1165      YES  FEMALE   \n",
       "2  Anthony Edward \"Tony\" Stark         3068      YES    MALE   \n",
       "3          Robert Bruce Banner         2089      YES    MALE   \n",
       "4                 Thor Odinson         2402      YES    MALE   \n",
       "\n",
       "  Probationary Introl Full/Reserve Avengers Intro  Year  Years since joining  \\\n",
       "0                 NaN                      Sep-63  1963                   52   \n",
       "1                 NaN                      Sep-63  1963                   52   \n",
       "2                 NaN                      Sep-63  1963                   52   \n",
       "3                 NaN                      Sep-63  1963                   52   \n",
       "4                 NaN                      Sep-63  1963                   52   \n",
       "\n",
       "  Honorary                        ...                         Return1 Death2  \\\n",
       "0     Full                        ...                              NO    NaN   \n",
       "1     Full                        ...                             YES    NaN   \n",
       "2     Full                        ...                             YES    NaN   \n",
       "3     Full                        ...                             YES    NaN   \n",
       "4     Full                        ...                             YES    YES   \n",
       "\n",
       "  Return2 Death3 Return3 Death4 Return4 Death5 Return5  \\\n",
       "0     NaN    NaN     NaN    NaN     NaN    NaN     NaN   \n",
       "1     NaN    NaN     NaN    NaN     NaN    NaN     NaN   \n",
       "2     NaN    NaN     NaN    NaN     NaN    NaN     NaN   \n",
       "3     NaN    NaN     NaN    NaN     NaN    NaN     NaN   \n",
       "4      NO    NaN     NaN    NaN     NaN    NaN     NaN   \n",
       "\n",
       "                                               Notes  \n",
       "0  Merged with Ultron in Rage of Ultron Vol. 1. A...  \n",
       "1  Dies in Secret Invasion V1:I8. Actually was se...  \n",
       "2  Death: \"Later while under the influence of Imm...  \n",
       "3  Dies in Ghosts of the Future arc. However \"he ...  \n",
       "4  Dies in Fear Itself brought back because that'...  \n",
       "\n",
       "[5 rows x 21 columns]"
      ]
     },
     "execution_count": 3,
     "metadata": {},
     "output_type": "execute_result"
    }
   ],
   "source": [
    "avenger_file = 'avengers.csv'\n",
    "avengersdf = pd.read_csv(avenger_file)\n",
    "avengersdf.head()"
   ]
  },
  {
   "cell_type": "code",
   "execution_count": 4,
   "metadata": {
    "collapsed": false
   },
   "outputs": [
    {
     "data": {
      "text/plain": [
       "Index([u'URL', u'Name/Alias', u'Appearances', u'Current?', u'Gender', u'Probationary Introl', u'Full/Reserve Avengers Intro', u'Year', u'Years since joining', u'Honorary', u'Death1', u'Return1', u'Death2', u'Return2', u'Death3', u'Return3', u'Death4', u'Return4', u'Death5', u'Return5', u'Notes'], dtype='object')"
      ]
     },
     "execution_count": 4,
     "metadata": {},
     "output_type": "execute_result"
    }
   ],
   "source": [
    "avengersdf.columns"
   ]
  },
  {
   "cell_type": "code",
   "execution_count": 5,
   "metadata": {
    "collapsed": false
   },
   "outputs": [
    {
     "data": {
      "text/html": [
       "<div style=\"max-height:1000px;max-width:1500px;overflow:auto;\">\n",
       "<table border=\"1\" class=\"dataframe\">\n",
       "  <thead>\n",
       "    <tr style=\"text-align: right;\">\n",
       "      <th></th>\n",
       "      <th>Name/Alias</th>\n",
       "      <th>Years since joining</th>\n",
       "      <th>Death1</th>\n",
       "      <th>Return1</th>\n",
       "    </tr>\n",
       "  </thead>\n",
       "  <tbody>\n",
       "    <tr>\n",
       "      <th>0</th>\n",
       "      <td>Henry Jonathan \"Hank\" Pym</td>\n",
       "      <td>52</td>\n",
       "      <td>YES</td>\n",
       "      <td>NO</td>\n",
       "    </tr>\n",
       "    <tr>\n",
       "      <th>1</th>\n",
       "      <td>Janet van Dyne</td>\n",
       "      <td>52</td>\n",
       "      <td>YES</td>\n",
       "      <td>YES</td>\n",
       "    </tr>\n",
       "    <tr>\n",
       "      <th>2</th>\n",
       "      <td>Anthony Edward \"Tony\" Stark</td>\n",
       "      <td>52</td>\n",
       "      <td>YES</td>\n",
       "      <td>YES</td>\n",
       "    </tr>\n",
       "    <tr>\n",
       "      <th>3</th>\n",
       "      <td>Robert Bruce Banner</td>\n",
       "      <td>52</td>\n",
       "      <td>YES</td>\n",
       "      <td>YES</td>\n",
       "    </tr>\n",
       "    <tr>\n",
       "      <th>4</th>\n",
       "      <td>Thor Odinson</td>\n",
       "      <td>52</td>\n",
       "      <td>YES</td>\n",
       "      <td>YES</td>\n",
       "    </tr>\n",
       "  </tbody>\n",
       "</table>\n",
       "</div>"
      ],
      "text/plain": [
       "                    Name/Alias  Years since joining Death1 Return1\n",
       "0    Henry Jonathan \"Hank\" Pym                   52    YES      NO\n",
       "1               Janet van Dyne                   52    YES     YES\n",
       "2  Anthony Edward \"Tony\" Stark                   52    YES     YES\n",
       "3          Robert Bruce Banner                   52    YES     YES\n",
       "4                 Thor Odinson                   52    YES     YES"
      ]
     },
     "execution_count": 5,
     "metadata": {},
     "output_type": "execute_result"
    }
   ],
   "source": [
    "avengersdf[['Name/Alias','Years since joining','Death1','Return1']].head()"
   ]
  },
  {
   "cell_type": "code",
   "execution_count": 6,
   "metadata": {
    "collapsed": false
   },
   "outputs": [
    {
     "name": "stdout",
     "output_type": "stream",
     "text": [
      "There are 173 characters represented in this Avengers Database\n"
     ]
    }
   ],
   "source": [
    "print \"There are {0} characters represented in this Avengers Database\".format(len(avengersdf))"
   ]
  },
  {
   "cell_type": "code",
   "execution_count": 7,
   "metadata": {
    "collapsed": false
   },
   "outputs": [
    {
     "data": {
      "text/plain": [
       "count    173.000000\n",
       "mean      26.554913\n",
       "std       30.374669\n",
       "min        0.000000\n",
       "25%        5.000000\n",
       "50%       19.000000\n",
       "75%       36.000000\n",
       "max      115.000000\n",
       "Name: Years since joining, dtype: float64"
      ]
     },
     "execution_count": 7,
     "metadata": {},
     "output_type": "execute_result"
    }
   ],
   "source": [
    "avengersdf['Years since joining'].describe()"
   ]
  },
  {
   "cell_type": "code",
   "execution_count": 8,
   "metadata": {
    "collapsed": false
   },
   "outputs": [
    {
     "data": {
      "application/javascript": [
       "/* Put everything inside the global mpl namespace */\n",
       "window.mpl = {};\n",
       "\n",
       "mpl.get_websocket_type = function() {\n",
       "    if (typeof(WebSocket) !== 'undefined') {\n",
       "        return WebSocket;\n",
       "    } else if (typeof(MozWebSocket) !== 'undefined') {\n",
       "        return MozWebSocket;\n",
       "    } else {\n",
       "        alert('Your browser does not have WebSocket support.' +\n",
       "              'Please try Chrome, Safari or Firefox ≥ 6. ' +\n",
       "              'Firefox 4 and 5 are also supported but you ' +\n",
       "              'have to enable WebSockets in about:config.');\n",
       "    };\n",
       "}\n",
       "\n",
       "mpl.figure = function(figure_id, websocket, ondownload, parent_element) {\n",
       "    this.id = figure_id;\n",
       "\n",
       "    this.ws = websocket;\n",
       "\n",
       "    this.supports_binary = (this.ws.binaryType != undefined);\n",
       "\n",
       "    if (!this.supports_binary) {\n",
       "        var warnings = document.getElementById(\"mpl-warnings\");\n",
       "        if (warnings) {\n",
       "            warnings.style.display = 'block';\n",
       "            warnings.textContent = (\n",
       "                \"This browser does not support binary websocket messages. \" +\n",
       "                    \"Performance may be slow.\");\n",
       "        }\n",
       "    }\n",
       "\n",
       "    this.imageObj = new Image();\n",
       "\n",
       "    this.context = undefined;\n",
       "    this.message = undefined;\n",
       "    this.canvas = undefined;\n",
       "    this.rubberband_canvas = undefined;\n",
       "    this.rubberband_context = undefined;\n",
       "    this.format_dropdown = undefined;\n",
       "\n",
       "    this.image_mode = 'full';\n",
       "\n",
       "    this.root = $('<div/>');\n",
       "    this._root_extra_style(this.root)\n",
       "    this.root.attr('style', 'display: inline-block');\n",
       "\n",
       "    $(parent_element).append(this.root);\n",
       "\n",
       "    this._init_header(this);\n",
       "    this._init_canvas(this);\n",
       "    this._init_toolbar(this);\n",
       "\n",
       "    var fig = this;\n",
       "\n",
       "    this.waiting = false;\n",
       "\n",
       "    this.ws.onopen =  function () {\n",
       "            fig.send_message(\"supports_binary\", {value: fig.supports_binary});\n",
       "            fig.send_message(\"send_image_mode\", {});\n",
       "            fig.send_message(\"refresh\", {});\n",
       "        }\n",
       "\n",
       "    this.imageObj.onload = function() {\n",
       "            if (fig.image_mode == 'full') {\n",
       "                // Full images could contain transparency (where diff images\n",
       "                // almost always do), so we need to clear the canvas so that\n",
       "                // there is no ghosting.\n",
       "                fig.context.clearRect(0, 0, fig.canvas.width, fig.canvas.height);\n",
       "            }\n",
       "            fig.context.drawImage(fig.imageObj, 0, 0);\n",
       "            fig.waiting = false;\n",
       "        };\n",
       "\n",
       "    this.imageObj.onunload = function() {\n",
       "        this.ws.close();\n",
       "    }\n",
       "\n",
       "    this.ws.onmessage = this._make_on_message_function(this);\n",
       "\n",
       "    this.ondownload = ondownload;\n",
       "}\n",
       "\n",
       "mpl.figure.prototype._init_header = function() {\n",
       "    var titlebar = $(\n",
       "        '<div class=\"ui-dialog-titlebar ui-widget-header ui-corner-all ' +\n",
       "        'ui-helper-clearfix\"/>');\n",
       "    var titletext = $(\n",
       "        '<div class=\"ui-dialog-title\" style=\"width: 100%; ' +\n",
       "        'text-align: center; padding: 3px;\"/>');\n",
       "    titlebar.append(titletext)\n",
       "    this.root.append(titlebar);\n",
       "    this.header = titletext[0];\n",
       "}\n",
       "\n",
       "\n",
       "\n",
       "mpl.figure.prototype._canvas_extra_style = function(canvas_div) {\n",
       "\n",
       "}\n",
       "\n",
       "\n",
       "mpl.figure.prototype._root_extra_style = function(canvas_div) {\n",
       "\n",
       "}\n",
       "\n",
       "mpl.figure.prototype._init_canvas = function() {\n",
       "    var fig = this;\n",
       "\n",
       "    var canvas_div = $('<div/>');\n",
       "\n",
       "    canvas_div.attr('style', 'position: relative; clear: both; outline: 0');\n",
       "\n",
       "    function canvas_keyboard_event(event) {\n",
       "        return fig.key_event(event, event['data']);\n",
       "    }\n",
       "\n",
       "    canvas_div.keydown('key_press', canvas_keyboard_event);\n",
       "    canvas_div.keyup('key_release', canvas_keyboard_event);\n",
       "    this.canvas_div = canvas_div\n",
       "    this._canvas_extra_style(canvas_div)\n",
       "    this.root.append(canvas_div);\n",
       "\n",
       "    var canvas = $('<canvas/>');\n",
       "    canvas.addClass('mpl-canvas');\n",
       "    canvas.attr('style', \"left: 0; top: 0; z-index: 0; outline: 0\")\n",
       "\n",
       "    this.canvas = canvas[0];\n",
       "    this.context = canvas[0].getContext(\"2d\");\n",
       "\n",
       "    var rubberband = $('<canvas/>');\n",
       "    rubberband.attr('style', \"position: absolute; left: 0; top: 0; z-index: 1;\")\n",
       "\n",
       "    var pass_mouse_events = true;\n",
       "\n",
       "    canvas_div.resizable({\n",
       "        start: function(event, ui) {\n",
       "            pass_mouse_events = false;\n",
       "        },\n",
       "        resize: function(event, ui) {\n",
       "            fig.request_resize(ui.size.width, ui.size.height);\n",
       "        },\n",
       "        stop: function(event, ui) {\n",
       "            pass_mouse_events = true;\n",
       "            fig.request_resize(ui.size.width, ui.size.height);\n",
       "        },\n",
       "    });\n",
       "\n",
       "    function mouse_event_fn(event) {\n",
       "        if (pass_mouse_events)\n",
       "            return fig.mouse_event(event, event['data']);\n",
       "    }\n",
       "\n",
       "    rubberband.mousedown('button_press', mouse_event_fn);\n",
       "    rubberband.mouseup('button_release', mouse_event_fn);\n",
       "    // Throttle sequential mouse events to 1 every 20ms.\n",
       "    rubberband.mousemove('motion_notify', mouse_event_fn);\n",
       "\n",
       "    rubberband.mouseenter('figure_enter', mouse_event_fn);\n",
       "    rubberband.mouseleave('figure_leave', mouse_event_fn);\n",
       "\n",
       "    canvas_div.on(\"wheel\", function (event) {\n",
       "        event = event.originalEvent;\n",
       "        event['data'] = 'scroll'\n",
       "        if (event.deltaY < 0) {\n",
       "            event.step = 1;\n",
       "        } else {\n",
       "            event.step = -1;\n",
       "        }\n",
       "        mouse_event_fn(event);\n",
       "    });\n",
       "\n",
       "    canvas_div.append(canvas);\n",
       "    canvas_div.append(rubberband);\n",
       "\n",
       "    this.rubberband = rubberband;\n",
       "    this.rubberband_canvas = rubberband[0];\n",
       "    this.rubberband_context = rubberband[0].getContext(\"2d\");\n",
       "    this.rubberband_context.strokeStyle = \"#000000\";\n",
       "\n",
       "    this._resize_canvas = function(width, height) {\n",
       "        // Keep the size of the canvas, canvas container, and rubber band\n",
       "        // canvas in synch.\n",
       "        canvas_div.css('width', width)\n",
       "        canvas_div.css('height', height)\n",
       "\n",
       "        canvas.attr('width', width);\n",
       "        canvas.attr('height', height);\n",
       "\n",
       "        rubberband.attr('width', width);\n",
       "        rubberband.attr('height', height);\n",
       "    }\n",
       "\n",
       "    // Set the figure to an initial 600x600px, this will subsequently be updated\n",
       "    // upon first draw.\n",
       "    this._resize_canvas(600, 600);\n",
       "\n",
       "    // Disable right mouse context menu.\n",
       "    $(this.rubberband_canvas).bind(\"contextmenu\",function(e){\n",
       "        return false;\n",
       "    });\n",
       "\n",
       "    function set_focus () {\n",
       "        canvas.focus();\n",
       "        canvas_div.focus();\n",
       "    }\n",
       "\n",
       "    window.setTimeout(set_focus, 100);\n",
       "}\n",
       "\n",
       "mpl.figure.prototype._init_toolbar = function() {\n",
       "    var fig = this;\n",
       "\n",
       "    var nav_element = $('<div/>')\n",
       "    nav_element.attr('style', 'width: 100%');\n",
       "    this.root.append(nav_element);\n",
       "\n",
       "    // Define a callback function for later on.\n",
       "    function toolbar_event(event) {\n",
       "        return fig.toolbar_button_onclick(event['data']);\n",
       "    }\n",
       "    function toolbar_mouse_event(event) {\n",
       "        return fig.toolbar_button_onmouseover(event['data']);\n",
       "    }\n",
       "\n",
       "    for(var toolbar_ind in mpl.toolbar_items) {\n",
       "        var name = mpl.toolbar_items[toolbar_ind][0];\n",
       "        var tooltip = mpl.toolbar_items[toolbar_ind][1];\n",
       "        var image = mpl.toolbar_items[toolbar_ind][2];\n",
       "        var method_name = mpl.toolbar_items[toolbar_ind][3];\n",
       "\n",
       "        if (!name) {\n",
       "            // put a spacer in here.\n",
       "            continue;\n",
       "        }\n",
       "        var button = $('<button/>');\n",
       "        button.addClass('ui-button ui-widget ui-state-default ui-corner-all ' +\n",
       "                        'ui-button-icon-only');\n",
       "        button.attr('role', 'button');\n",
       "        button.attr('aria-disabled', 'false');\n",
       "        button.click(method_name, toolbar_event);\n",
       "        button.mouseover(tooltip, toolbar_mouse_event);\n",
       "\n",
       "        var icon_img = $('<span/>');\n",
       "        icon_img.addClass('ui-button-icon-primary ui-icon');\n",
       "        icon_img.addClass(image);\n",
       "        icon_img.addClass('ui-corner-all');\n",
       "\n",
       "        var tooltip_span = $('<span/>');\n",
       "        tooltip_span.addClass('ui-button-text');\n",
       "        tooltip_span.html(tooltip);\n",
       "\n",
       "        button.append(icon_img);\n",
       "        button.append(tooltip_span);\n",
       "\n",
       "        nav_element.append(button);\n",
       "    }\n",
       "\n",
       "    var fmt_picker_span = $('<span/>');\n",
       "\n",
       "    var fmt_picker = $('<select/>');\n",
       "    fmt_picker.addClass('mpl-toolbar-option ui-widget ui-widget-content');\n",
       "    fmt_picker_span.append(fmt_picker);\n",
       "    nav_element.append(fmt_picker_span);\n",
       "    this.format_dropdown = fmt_picker[0];\n",
       "\n",
       "    for (var ind in mpl.extensions) {\n",
       "        var fmt = mpl.extensions[ind];\n",
       "        var option = $(\n",
       "            '<option/>', {selected: fmt === mpl.default_extension}).html(fmt);\n",
       "        fmt_picker.append(option)\n",
       "    }\n",
       "\n",
       "    // Add hover states to the ui-buttons\n",
       "    $( \".ui-button\" ).hover(\n",
       "        function() { $(this).addClass(\"ui-state-hover\");},\n",
       "        function() { $(this).removeClass(\"ui-state-hover\");}\n",
       "    );\n",
       "\n",
       "    var status_bar = $('<span class=\"mpl-message\"/>');\n",
       "    nav_element.append(status_bar);\n",
       "    this.message = status_bar[0];\n",
       "}\n",
       "\n",
       "mpl.figure.prototype.request_resize = function(x_pixels, y_pixels) {\n",
       "    // Request matplotlib to resize the figure. Matplotlib will then trigger a resize in the client,\n",
       "    // which will in turn request a refresh of the image.\n",
       "    this.send_message('resize', {'width': x_pixels, 'height': y_pixels});\n",
       "}\n",
       "\n",
       "mpl.figure.prototype.send_message = function(type, properties) {\n",
       "    properties['type'] = type;\n",
       "    properties['figure_id'] = this.id;\n",
       "    this.ws.send(JSON.stringify(properties));\n",
       "}\n",
       "\n",
       "mpl.figure.prototype.send_draw_message = function() {\n",
       "    if (!this.waiting) {\n",
       "        this.waiting = true;\n",
       "        this.ws.send(JSON.stringify({type: \"draw\", figure_id: this.id}));\n",
       "    }\n",
       "}\n",
       "\n",
       "\n",
       "mpl.figure.prototype.handle_save = function(fig, msg) {\n",
       "    var format_dropdown = fig.format_dropdown;\n",
       "    var format = format_dropdown.options[format_dropdown.selectedIndex].value;\n",
       "    fig.ondownload(fig, format);\n",
       "}\n",
       "\n",
       "\n",
       "mpl.figure.prototype.handle_resize = function(fig, msg) {\n",
       "    var size = msg['size'];\n",
       "    if (size[0] != fig.canvas.width || size[1] != fig.canvas.height) {\n",
       "        fig._resize_canvas(size[0], size[1]);\n",
       "        fig.send_message(\"refresh\", {});\n",
       "    };\n",
       "}\n",
       "\n",
       "mpl.figure.prototype.handle_rubberband = function(fig, msg) {\n",
       "    var x0 = msg['x0'];\n",
       "    var y0 = fig.canvas.height - msg['y0'];\n",
       "    var x1 = msg['x1'];\n",
       "    var y1 = fig.canvas.height - msg['y1'];\n",
       "    x0 = Math.floor(x0) + 0.5;\n",
       "    y0 = Math.floor(y0) + 0.5;\n",
       "    x1 = Math.floor(x1) + 0.5;\n",
       "    y1 = Math.floor(y1) + 0.5;\n",
       "    var min_x = Math.min(x0, x1);\n",
       "    var min_y = Math.min(y0, y1);\n",
       "    var width = Math.abs(x1 - x0);\n",
       "    var height = Math.abs(y1 - y0);\n",
       "\n",
       "    fig.rubberband_context.clearRect(\n",
       "        0, 0, fig.canvas.width, fig.canvas.height);\n",
       "\n",
       "    fig.rubberband_context.strokeRect(min_x, min_y, width, height);\n",
       "}\n",
       "\n",
       "mpl.figure.prototype.handle_figure_label = function(fig, msg) {\n",
       "    // Updates the figure title.\n",
       "    fig.header.textContent = msg['label'];\n",
       "}\n",
       "\n",
       "mpl.figure.prototype.handle_cursor = function(fig, msg) {\n",
       "    var cursor = msg['cursor'];\n",
       "    switch(cursor)\n",
       "    {\n",
       "    case 0:\n",
       "        cursor = 'pointer';\n",
       "        break;\n",
       "    case 1:\n",
       "        cursor = 'default';\n",
       "        break;\n",
       "    case 2:\n",
       "        cursor = 'crosshair';\n",
       "        break;\n",
       "    case 3:\n",
       "        cursor = 'move';\n",
       "        break;\n",
       "    }\n",
       "    fig.rubberband_canvas.style.cursor = cursor;\n",
       "}\n",
       "\n",
       "mpl.figure.prototype.handle_message = function(fig, msg) {\n",
       "    fig.message.textContent = msg['message'];\n",
       "}\n",
       "\n",
       "mpl.figure.prototype.handle_draw = function(fig, msg) {\n",
       "    // Request the server to send over a new figure.\n",
       "    fig.send_draw_message();\n",
       "}\n",
       "\n",
       "mpl.figure.prototype.handle_image_mode = function(fig, msg) {\n",
       "    fig.image_mode = msg['mode'];\n",
       "}\n",
       "\n",
       "mpl.figure.prototype.updated_canvas_event = function() {\n",
       "    // Called whenever the canvas gets updated.\n",
       "    this.send_message(\"ack\", {});\n",
       "}\n",
       "\n",
       "// A function to construct a web socket function for onmessage handling.\n",
       "// Called in the figure constructor.\n",
       "mpl.figure.prototype._make_on_message_function = function(fig) {\n",
       "    return function socket_on_message(evt) {\n",
       "        if (evt.data instanceof Blob) {\n",
       "            /* FIXME: We get \"Resource interpreted as Image but\n",
       "             * transferred with MIME type text/plain:\" errors on\n",
       "             * Chrome.  But how to set the MIME type?  It doesn't seem\n",
       "             * to be part of the websocket stream */\n",
       "            evt.data.type = \"image/png\";\n",
       "\n",
       "            /* Free the memory for the previous frames */\n",
       "            if (fig.imageObj.src) {\n",
       "                (window.URL || window.webkitURL).revokeObjectURL(\n",
       "                    fig.imageObj.src);\n",
       "            }\n",
       "\n",
       "            fig.imageObj.src = (window.URL || window.webkitURL).createObjectURL(\n",
       "                evt.data);\n",
       "            fig.updated_canvas_event();\n",
       "            return;\n",
       "        }\n",
       "        else if (typeof evt.data === 'string' && evt.data.slice(0, 21) == \"data:image/png;base64\") {\n",
       "            fig.imageObj.src = evt.data;\n",
       "            fig.updated_canvas_event();\n",
       "            return;\n",
       "        }\n",
       "\n",
       "        var msg = JSON.parse(evt.data);\n",
       "        var msg_type = msg['type'];\n",
       "\n",
       "        // Call the  \"handle_{type}\" callback, which takes\n",
       "        // the figure and JSON message as its only arguments.\n",
       "        try {\n",
       "            var callback = fig[\"handle_\" + msg_type];\n",
       "        } catch (e) {\n",
       "            console.log(\"No handler for the '\" + msg_type + \"' message type: \", msg);\n",
       "            return;\n",
       "        }\n",
       "\n",
       "        if (callback) {\n",
       "            try {\n",
       "                // console.log(\"Handling '\" + msg_type + \"' message: \", msg);\n",
       "                callback(fig, msg);\n",
       "            } catch (e) {\n",
       "                console.log(\"Exception inside the 'handler_\" + msg_type + \"' callback:\", e, e.stack, msg);\n",
       "            }\n",
       "        }\n",
       "    };\n",
       "}\n",
       "\n",
       "// from http://stackoverflow.com/questions/1114465/getting-mouse-location-in-canvas\n",
       "mpl.findpos = function(e) {\n",
       "    //this section is from http://www.quirksmode.org/js/events_properties.html\n",
       "    var targ;\n",
       "    if (!e)\n",
       "        e = window.event;\n",
       "    if (e.target)\n",
       "        targ = e.target;\n",
       "    else if (e.srcElement)\n",
       "        targ = e.srcElement;\n",
       "    if (targ.nodeType == 3) // defeat Safari bug\n",
       "        targ = targ.parentNode;\n",
       "\n",
       "    // jQuery normalizes the pageX and pageY\n",
       "    // pageX,Y are the mouse positions relative to the document\n",
       "    // offset() returns the position of the element relative to the document\n",
       "    var x = e.pageX - $(targ).offset().left;\n",
       "    var y = e.pageY - $(targ).offset().top;\n",
       "\n",
       "    return {\"x\": x, \"y\": y};\n",
       "};\n",
       "\n",
       "mpl.figure.prototype.mouse_event = function(event, name) {\n",
       "    var canvas_pos = mpl.findpos(event)\n",
       "\n",
       "    if (name === 'button_press')\n",
       "    {\n",
       "        this.canvas.focus();\n",
       "        this.canvas_div.focus();\n",
       "    }\n",
       "\n",
       "    var x = canvas_pos.x;\n",
       "    var y = canvas_pos.y;\n",
       "\n",
       "    this.send_message(name, {x: x, y: y, button: event.button,\n",
       "                             step: event.step});\n",
       "\n",
       "    /* This prevents the web browser from automatically changing to\n",
       "     * the text insertion cursor when the button is pressed.  We want\n",
       "     * to control all of the cursor setting manually through the\n",
       "     * 'cursor' event from matplotlib */\n",
       "    event.preventDefault();\n",
       "    return false;\n",
       "}\n",
       "\n",
       "mpl.figure.prototype._key_event_extra = function(event, name) {\n",
       "    // Handle any extra behaviour associated with a key event\n",
       "}\n",
       "\n",
       "mpl.figure.prototype.key_event = function(event, name) {\n",
       "\n",
       "    // Prevent repeat events\n",
       "    if (name == 'key_press')\n",
       "    {\n",
       "        if (event.which === this._key)\n",
       "            return;\n",
       "        else\n",
       "            this._key = event.which;\n",
       "    }\n",
       "    if (name == 'key_release')\n",
       "        this._key = null;\n",
       "\n",
       "    var value = '';\n",
       "    if (event.ctrlKey && event.which != 17)\n",
       "        value += \"ctrl+\";\n",
       "    if (event.altKey && event.which != 18)\n",
       "        value += \"alt+\";\n",
       "    if (event.shiftKey && event.which != 16)\n",
       "        value += \"shift+\";\n",
       "\n",
       "    value += 'k';\n",
       "    value += event.which.toString();\n",
       "\n",
       "    this._key_event_extra(event, name);\n",
       "\n",
       "    this.send_message(name, {key: value});\n",
       "    return false;\n",
       "}\n",
       "\n",
       "mpl.figure.prototype.toolbar_button_onclick = function(name) {\n",
       "    if (name == 'download') {\n",
       "        this.handle_save(this, null);\n",
       "    } else {\n",
       "        this.send_message(\"toolbar_button\", {name: name});\n",
       "    }\n",
       "};\n",
       "\n",
       "mpl.figure.prototype.toolbar_button_onmouseover = function(tooltip) {\n",
       "    this.message.textContent = tooltip;\n",
       "};\n",
       "mpl.toolbar_items = [[\"Home\", \"Reset original view\", \"fa fa-home icon-home\", \"home\"], [\"Back\", \"Back to  previous view\", \"fa fa-arrow-left icon-arrow-left\", \"back\"], [\"Forward\", \"Forward to next view\", \"fa fa-arrow-right icon-arrow-right\", \"forward\"], [\"\", \"\", \"\", \"\"], [\"Pan\", \"Pan axes with left mouse, zoom with right\", \"fa fa-arrows icon-move\", \"pan\"], [\"Zoom\", \"Zoom to rectangle\", \"fa fa-square-o icon-check-empty\", \"zoom\"], [\"\", \"\", \"\", \"\"], [\"Download\", \"Download plot\", \"fa fa-floppy-o icon-save\", \"download\"]];\n",
       "\n",
       "mpl.extensions = [\"eps\", \"jpeg\", \"pdf\", \"png\", \"ps\", \"raw\", \"svg\", \"tif\"];\n",
       "\n",
       "mpl.default_extension = \"png\";var comm_websocket_adapter = function(comm) {\n",
       "    // Create a \"websocket\"-like object which calls the given IPython comm\n",
       "    // object with the appropriate methods. Currently this is a non binary\n",
       "    // socket, so there is still some room for performance tuning.\n",
       "    var ws = {};\n",
       "\n",
       "    ws.close = function() {\n",
       "        comm.close()\n",
       "    };\n",
       "    ws.send = function(m) {\n",
       "        //console.log('sending', m);\n",
       "        comm.send(m);\n",
       "    };\n",
       "    // Register the callback with on_msg.\n",
       "    comm.on_msg(function(msg) {\n",
       "        //console.log('receiving', msg['content']['data'], msg);\n",
       "        // Pass the mpl event to the overriden (by mpl) onmessage function.\n",
       "        ws.onmessage(msg['content']['data'])\n",
       "    });\n",
       "    return ws;\n",
       "}\n",
       "\n",
       "mpl.mpl_figure_comm = function(comm, msg) {\n",
       "    // This is the function which gets called when the mpl process\n",
       "    // starts-up an IPython Comm through the \"matplotlib\" channel.\n",
       "\n",
       "    var id = msg.content.data.id;\n",
       "    // Get hold of the div created by the display call when the Comm\n",
       "    // socket was opened in Python.\n",
       "    var element = $(\"#\" + id);\n",
       "    var ws_proxy = comm_websocket_adapter(comm)\n",
       "\n",
       "    function ondownload(figure, format) {\n",
       "        window.open(figure.imageObj.src);\n",
       "    }\n",
       "\n",
       "    var fig = new mpl.figure(id, ws_proxy,\n",
       "                           ondownload,\n",
       "                           element.get(0));\n",
       "\n",
       "    // Call onopen now - mpl needs it, as it is assuming we've passed it a real\n",
       "    // web socket which is closed, not our websocket->open comm proxy.\n",
       "    ws_proxy.onopen();\n",
       "\n",
       "    fig.parent_element = element.get(0);\n",
       "    fig.cell_info = mpl.find_output_cell(\"<div id='\" + id + \"'></div>\");\n",
       "    if (!fig.cell_info) {\n",
       "        console.error(\"Failed to find cell for figure\", id, fig);\n",
       "        return;\n",
       "    }\n",
       "\n",
       "    var output_index = fig.cell_info[2]\n",
       "    var cell = fig.cell_info[0];\n",
       "\n",
       "};\n",
       "\n",
       "mpl.figure.prototype.handle_close = function(fig, msg) {\n",
       "    // Update the output cell to use the data from the current canvas.\n",
       "    fig.push_to_output();\n",
       "    var dataURL = fig.canvas.toDataURL();\n",
       "    // Re-enable the keyboard manager in IPython - without this line, in FF,\n",
       "    // the notebook keyboard shortcuts fail.\n",
       "    IPython.keyboard_manager.enable()\n",
       "    $(fig.parent_element).html('<img src=\"' + dataURL + '\">');\n",
       "    fig.send_message('closing', {});\n",
       "    fig.ws.close()\n",
       "}\n",
       "\n",
       "mpl.figure.prototype.push_to_output = function(remove_interactive) {\n",
       "    // Turn the data on the canvas into data in the output cell.\n",
       "    var dataURL = this.canvas.toDataURL();\n",
       "    this.cell_info[1]['text/html'] = '<img src=\"' + dataURL + '\">';\n",
       "}\n",
       "\n",
       "mpl.figure.prototype.updated_canvas_event = function() {\n",
       "    // Tell IPython that the notebook contents must change.\n",
       "    IPython.notebook.set_dirty(true);\n",
       "    this.send_message(\"ack\", {});\n",
       "    var fig = this;\n",
       "    // Wait a second, then push the new image to the DOM so\n",
       "    // that it is saved nicely (might be nice to debounce this).\n",
       "    setTimeout(function () { fig.push_to_output() }, 1000);\n",
       "}\n",
       "\n",
       "mpl.figure.prototype._init_toolbar = function() {\n",
       "    var fig = this;\n",
       "\n",
       "    var nav_element = $('<div/>')\n",
       "    nav_element.attr('style', 'width: 100%');\n",
       "    this.root.append(nav_element);\n",
       "\n",
       "    // Define a callback function for later on.\n",
       "    function toolbar_event(event) {\n",
       "        return fig.toolbar_button_onclick(event['data']);\n",
       "    }\n",
       "    function toolbar_mouse_event(event) {\n",
       "        return fig.toolbar_button_onmouseover(event['data']);\n",
       "    }\n",
       "\n",
       "    for(var toolbar_ind in mpl.toolbar_items){\n",
       "        var name = mpl.toolbar_items[toolbar_ind][0];\n",
       "        var tooltip = mpl.toolbar_items[toolbar_ind][1];\n",
       "        var image = mpl.toolbar_items[toolbar_ind][2];\n",
       "        var method_name = mpl.toolbar_items[toolbar_ind][3];\n",
       "\n",
       "        if (!name) { continue; };\n",
       "\n",
       "        var button = $('<button class=\"btn btn-default\" href=\"#\" title=\"' + name + '\"><i class=\"fa ' + image + ' fa-lg\"></i></button>');\n",
       "        button.click(method_name, toolbar_event);\n",
       "        button.mouseover(tooltip, toolbar_mouse_event);\n",
       "        nav_element.append(button);\n",
       "    }\n",
       "\n",
       "    // Add the status bar.\n",
       "    var status_bar = $('<span class=\"mpl-message\" style=\"text-align:right; float: right;\"/>');\n",
       "    nav_element.append(status_bar);\n",
       "    this.message = status_bar[0];\n",
       "\n",
       "    // Add the close button to the window.\n",
       "    var buttongrp = $('<div class=\"btn-group inline pull-right\"></div>');\n",
       "    var button = $('<button class=\"btn btn-mini btn-danger\" href=\"#\" title=\"Close figure\"><i class=\"fa fa-times icon-remove icon-large\"></i></button>');\n",
       "    button.click(function (evt) { fig.handle_close(fig, {}); } );\n",
       "    button.mouseover('Close figure', toolbar_mouse_event);\n",
       "    buttongrp.append(button);\n",
       "    var titlebar = this.root.find($('.ui-dialog-titlebar'));\n",
       "    titlebar.prepend(buttongrp);\n",
       "}\n",
       "\n",
       "\n",
       "mpl.figure.prototype._canvas_extra_style = function(el){\n",
       "    // this is important to make the div 'focusable\n",
       "    el.attr('tabindex', 0)\n",
       "    // reach out to IPython and tell the keyboard manager to turn it's self\n",
       "    // off when our div gets focus\n",
       "\n",
       "    // location in version 3\n",
       "    if (IPython.notebook.keyboard_manager) {\n",
       "        IPython.notebook.keyboard_manager.register_events(el);\n",
       "    }\n",
       "    else {\n",
       "        // location in version 2\n",
       "        IPython.keyboard_manager.register_events(el);\n",
       "    }\n",
       "\n",
       "}\n",
       "\n",
       "mpl.figure.prototype._key_event_extra = function(event, name) {\n",
       "    var manager = IPython.notebook.keyboard_manager;\n",
       "    if (!manager)\n",
       "        manager = IPython.keyboard_manager;\n",
       "\n",
       "    // Check for shift+enter\n",
       "    if (event.shiftKey && event.which == 13) {\n",
       "        this.canvas_div.blur();\n",
       "        event.shiftKey = false;\n",
       "        // Send a \"J\" for go to next cell\n",
       "        event.which = 74;\n",
       "        event.keyCode = 74;\n",
       "        manager.command_mode();\n",
       "        manager.handle_keydown(event);\n",
       "    }\n",
       "}\n",
       "\n",
       "mpl.figure.prototype.handle_save = function(fig, msg) {\n",
       "    fig.ondownload(fig, null);\n",
       "}\n",
       "\n",
       "\n",
       "mpl.find_output_cell = function(html_output) {\n",
       "    // Return the cell and output element which can be found *uniquely* in the notebook.\n",
       "    // Note - this is a bit hacky, but it is done because the \"notebook_saving.Notebook\"\n",
       "    // IPython event is triggered only after the cells have been serialised, which for\n",
       "    // our purposes (turning an active figure into a static one), is too late.\n",
       "    var cells = IPython.notebook.get_cells();\n",
       "    var ncells = cells.length;\n",
       "    for (var i=0; i<ncells; i++) {\n",
       "        var cell = cells[i];\n",
       "        if (cell.cell_type === 'code'){\n",
       "            for (var j=0; j<cell.output_area.outputs.length; j++) {\n",
       "                var data = cell.output_area.outputs[j];\n",
       "                if (data.data) {\n",
       "                    // IPython >= 3 moved mimebundle to data attribute of output\n",
       "                    data = data.data;\n",
       "                }\n",
       "                if (data['text/html'] == html_output) {\n",
       "                    return [cell, data, j];\n",
       "                }\n",
       "            }\n",
       "        }\n",
       "    }\n",
       "}\n",
       "\n",
       "// Register the function which deals with the matplotlib target/channel.\n",
       "// The kernel may be null if the page has been refreshed.\n",
       "if (IPython.notebook.kernel != null) {\n",
       "    IPython.notebook.kernel.comm_manager.register_target('matplotlib', mpl.mpl_figure_comm);\n",
       "}\n"
      ],
      "text/plain": [
       "<IPython.core.display.Javascript object>"
      ]
     },
     "metadata": {},
     "output_type": "display_data"
    },
    {
     "data": {
      "text/html": [
       "<img src=\"data:image/png;base64,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\">"
      ],
      "text/plain": [
       "<IPython.core.display.HTML object>"
      ]
     },
     "metadata": {},
     "output_type": "display_data"
    },
    {
     "data": {
      "text/plain": [
       "<matplotlib.axes._subplots.AxesSubplot at 0xc5196a0>"
      ]
     },
     "execution_count": 8,
     "metadata": {},
     "output_type": "execute_result"
    }
   ],
   "source": [
    "avengersdf['Years since joining'].hist(bins=50)"
   ]
  },
  {
   "cell_type": "code",
   "execution_count": 9,
   "metadata": {
    "collapsed": false
   },
   "outputs": [
    {
     "data": {
      "text/plain": [
       "array(['YES', 'NO'], dtype=object)"
      ]
     },
     "execution_count": 9,
     "metadata": {},
     "output_type": "execute_result"
    }
   ],
   "source": [
    "avengersdf.Death1.unique()"
   ]
  },
  {
   "cell_type": "code",
   "execution_count": 10,
   "metadata": {
    "collapsed": false
   },
   "outputs": [
    {
     "data": {
      "text/plain": [
       "NO     104\n",
       "YES     69\n",
       "dtype: int64"
      ]
     },
     "execution_count": 10,
     "metadata": {},
     "output_type": "execute_result"
    }
   ],
   "source": [
    "avengersdf.Death1.value_counts()"
   ]
  },
  {
   "cell_type": "code",
   "execution_count": 11,
   "metadata": {
    "collapsed": false
   },
   "outputs": [],
   "source": [
    "avengersdf['death1status'] = avengersdf.Death1.apply(lambda x: 0 if x == 'NO' else 1)"
   ]
  },
  {
   "cell_type": "code",
   "execution_count": 12,
   "metadata": {
    "collapsed": true
   },
   "outputs": [],
   "source": [
    "kmf = life.KaplanMeierFitter()"
   ]
  },
  {
   "cell_type": "code",
   "execution_count": 47,
   "metadata": {
    "collapsed": false
   },
   "outputs": [
    {
     "data": {
      "text/plain": [
       "<matplotlib.text.Text at 0x193f1be0>"
      ]
     },
     "execution_count": 47,
     "metadata": {},
     "output_type": "execute_result"
    },
    {
     "data": {
      "image/png": "[encoded data removed]",
      "text/plain": [
       "<matplotlib.figure.Figure at 0x18fc3320>"
      ]
     },
     "metadata": {},
     "output_type": "display_data"
    }
   ],
   "source": [
    "kmf.fit(avengersdf['Years since joining'],avengersdf['death1status']).plot()\n",
    "plt.title('Survival function of Avenger Characters')\n",
    "plt.suptitle('*1st death only')"
   ]
  },
  {
   "cell_type": "markdown",
   "metadata": {},
   "source": [
    "## consider different factors\n",
    "* Gender\n",
    "* Honorary\n",
    "* Appearances"
   ]
  },
  {
   "cell_type": "code",
   "execution_count": 15,
   "metadata": {
    "collapsed": false
   },
   "outputs": [
    {
     "data": {
      "text/plain": [
       "Index([u'URL', u'Name/Alias', u'Appearances', u'Current?', u'Gender', u'Probationary Introl', u'Full/Reserve Avengers Intro', u'Year', u'Years since joining', u'Honorary', u'Death1', u'Return1', u'Death2', u'Return2', u'Death3', u'Return3', u'Death4', u'Return4', u'Death5', u'Return5', u'Notes', u'death1status'], dtype='object')"
      ]
     },
     "execution_count": 15,
     "metadata": {},
     "output_type": "execute_result"
    }
   ],
   "source": [
    "avengersdf.columns"
   ]
  },
  {
   "cell_type": "code",
   "execution_count": 16,
   "metadata": {
    "collapsed": false
   },
   "outputs": [
    {
     "data": {
      "text/plain": [
       "Full            138\n",
       "Academy          17\n",
       "Honorary         16\n",
       "Probationary      2\n",
       "dtype: int64"
      ]
     },
     "execution_count": 16,
     "metadata": {},
     "output_type": "execute_result"
    }
   ],
   "source": [
    "avengersdf['Honorary'].value_counts()#.sum()#,'Probationary Introl']].tail()"
   ]
  },
  {
   "cell_type": "code",
   "execution_count": 21,
   "metadata": {
    "collapsed": false
   },
   "outputs": [
    {
     "data": {
      "text/plain": [
       "<matplotlib.axes._subplots.AxesSubplot at 0x17fcce80>"
      ]
     },
     "execution_count": 21,
     "metadata": {},
     "output_type": "execute_result"
    },
    {
     "data": {
      "image/png": "[encoded data removed]",
      "text/plain": [
       "<matplotlib.figure.Figure at 0x17fcc7f0>"
      ]
     },
     "metadata": {},
     "output_type": "display_data"
    }
   ],
   "source": [
    "%matplotlib inline\n",
    "avengersdf.Appearances.hist(bins=30)\n"
   ]
  },
  {
   "cell_type": "code",
   "execution_count": 23,
   "metadata": {
    "collapsed": false
   },
   "outputs": [
    {
     "data": {
      "text/plain": [
       "(array([  2.,   1.,   1.,   0.,   2.,   0.,   1.,   2.,   3.,   7.,   8.,\n",
       "          8.,   8.,  14.,  10.,  14.,  10.,  11.,   9.,   7.,  10.,   7.,\n",
       "         10.,   6.,   5.,   5.,   4.,   4.,   2.,   2.]),\n",
       " array([ 0.69314718,  0.94917612,  1.20520506,  1.461234  ,  1.71726295,\n",
       "         1.97329189,  2.22932083,  2.48534977,  2.74137871,  2.99740765,\n",
       "         3.25343659,  3.50946554,  3.76549448,  4.02152342,  4.27755236,\n",
       "         4.5335813 ,  4.78961024,  5.04563918,  5.30166813,  5.55769707,\n",
       "         5.81372601,  6.06975495,  6.32578389,  6.58181283,  6.83784177,\n",
       "         7.09387071,  7.34989966,  7.6059286 ,  7.86195754,  8.11798648,\n",
       "         8.37401542]),\n",
       " <a list of 30 Patch objects>)"
      ]
     },
     "execution_count": 23,
     "metadata": {},
     "output_type": "execute_result"
    },
    {
     "data": {
      "image/png": "[encoded data removed]",
      "text/plain": [
       "<matplotlib.figure.Figure at 0xc846cc0>"
      ]
     },
     "metadata": {},
     "output_type": "display_data"
    }
   ],
   "source": [
    "plt.hist(np.log(avengersdf.Appearances.values),bins=30)\n"
   ]
  },
  {
   "cell_type": "code",
   "execution_count": 17,
   "metadata": {
    "collapsed": false
   },
   "outputs": [],
   "source": [
    "#Categorical encode \n",
    "avengersdf['male'] = avengersdf['Gender'].apply(lambda x: 0 if x == 'FEMALE' else 1)\n",
    "avengersdf['active']=avengersdf['Current?'].apply(lambda x: 0 if x == 'NO' else 1)\n",
    "avengersdf['full']= avengersdf['Honorary'].apply(lambda x: 1 if x == 'Full' else 0)"
   ]
  },
  {
   "cell_type": "code",
   "execution_count": 24,
   "metadata": {
    "collapsed": true
   },
   "outputs": [],
   "source": [
    "avengersdf['logAppear']= np.log(avengersdf.Appearances.values)"
   ]
  },
  {
   "cell_type": "code",
   "execution_count": 36,
   "metadata": {
    "collapsed": false
   },
   "outputs": [],
   "source": [
    "import patsy\n",
    "Xavengers = patsy.dmatrix('logAppear + male + active + full -1',avengersdf,return_type='dataframe')\n",
    "#omit intercept because it was giving me fits\n",
    "Xavengers['T']=avengersdf['Years since joining']\n",
    "Xavengers['E']=avengersdf.death1status"
   ]
  },
  {
   "cell_type": "code",
   "execution_count": 37,
   "metadata": {
    "collapsed": false
   },
   "outputs": [
    {
     "data": {
      "text/plain": [
       "[('logAppear', 0), ('male', 0), ('active', 0), ('full', 0), ('T', 0), ('E', 0)]"
      ]
     },
     "execution_count": 37,
     "metadata": {},
     "output_type": "execute_result"
    }
   ],
   "source": [
    "[(c,sum(Xavengers[c].isnull())) for c in Xavengers.columns]"
   ]
  },
  {
   "cell_type": "code",
   "execution_count": 38,
   "metadata": {
    "collapsed": false
   },
   "outputs": [
    {
     "data": {
      "text/plain": [
       "(Index([u'logAppear', u'male', u'active', u'full', u'T', u'E'], dtype='object'),\n",
       " 173)"
      ]
     },
     "execution_count": 38,
     "metadata": {},
     "output_type": "execute_result"
    }
   ],
   "source": [
    "Xavengers.columns,len(Xavengers)"
   ]
  },
  {
   "cell_type": "code",
   "execution_count": 39,
   "metadata": {
    "collapsed": false
   },
   "outputs": [
    {
     "data": {
      "text/plain": [
       "<lifelines.CoxPHFitter: fitted with 173 observations, 104 censored>"
      ]
     },
     "execution_count": 39,
     "metadata": {},
     "output_type": "execute_result"
    }
   ],
   "source": [
    "cf_death = life.CoxPHFitter()\n",
    "cf_death.fit(Xavengers,'T','E')"
   ]
  },
  {
   "cell_type": "code",
   "execution_count": 41,
   "metadata": {
    "collapsed": false
   },
   "outputs": [
    {
     "data": {
      "text/html": [
       "<div style=\"max-height:1000px;max-width:1500px;overflow:auto;\">\n",
       "<table border=\"1\" class=\"dataframe\">\n",
       "  <thead>\n",
       "    <tr style=\"text-align: right;\">\n",
       "      <th></th>\n",
       "      <th>coef</th>\n",
       "      <th>exp(coef)</th>\n",
       "      <th>se(coef)</th>\n",
       "      <th>z</th>\n",
       "      <th>p</th>\n",
       "      <th>lower 0.95</th>\n",
       "      <th>upper 0.95</th>\n",
       "    </tr>\n",
       "  </thead>\n",
       "  <tbody>\n",
       "    <tr>\n",
       "      <th>logAppear</th>\n",
       "      <td>-0.427107</td>\n",
       "      <td>0.652394</td>\n",
       "      <td>0.136788</td>\n",
       "      <td>-3.122394</td>\n",
       "      <td>0.001794</td>\n",
       "      <td>-0.695266</td>\n",
       "      <td>-0.158948</td>\n",
       "    </tr>\n",
       "    <tr>\n",
       "      <th>male</th>\n",
       "      <td>0.090112</td>\n",
       "      <td>1.094296</td>\n",
       "      <td>0.126663</td>\n",
       "      <td>0.711427</td>\n",
       "      <td>0.476820</td>\n",
       "      <td>-0.158198</td>\n",
       "      <td>0.338421</td>\n",
       "    </tr>\n",
       "    <tr>\n",
       "      <th>active</th>\n",
       "      <td>-0.337833</td>\n",
       "      <td>0.713314</td>\n",
       "      <td>0.148338</td>\n",
       "      <td>-2.277460</td>\n",
       "      <td>0.022759</td>\n",
       "      <td>-0.628633</td>\n",
       "      <td>-0.047033</td>\n",
       "    </tr>\n",
       "    <tr>\n",
       "      <th>full</th>\n",
       "      <td>0.965445</td>\n",
       "      <td>2.625955</td>\n",
       "      <td>0.195214</td>\n",
       "      <td>4.945577</td>\n",
       "      <td>0.000001</td>\n",
       "      <td>0.582749</td>\n",
       "      <td>1.348141</td>\n",
       "    </tr>\n",
       "  </tbody>\n",
       "</table>\n",
       "</div>"
      ],
      "text/plain": [
       "               coef  exp(coef)  se(coef)         z         p  lower 0.95  \\\n",
       "logAppear -0.427107   0.652394  0.136788 -3.122394  0.001794   -0.695266   \n",
       "male       0.090112   1.094296  0.126663  0.711427  0.476820   -0.158198   \n",
       "active    -0.337833   0.713314  0.148338 -2.277460  0.022759   -0.628633   \n",
       "full       0.965445   2.625955  0.195214  4.945577  0.000001    0.582749   \n",
       "\n",
       "           upper 0.95  \n",
       "logAppear   -0.158948  \n",
       "male         0.338421  \n",
       "active      -0.047033  \n",
       "full         1.348141  "
      ]
     },
     "execution_count": 41,
     "metadata": {},
     "output_type": "execute_result"
    }
   ],
   "source": [
    "cf_death.summary"
   ]
  },
  {
   "cell_type": "code",
   "execution_count": 42,
   "metadata": {
    "collapsed": false
   },
   "outputs": [
    {
     "name": "stdout",
     "output_type": "stream",
     "text": [
      "n=173, number of events=69\n",
      "\n",
      "                coef  exp(coef)  se(coef)          z         p  lower 0.95  upper 0.95     \n",
      "logAppear -4.271e-01  6.524e-01 1.368e-01 -3.122e+00 1.794e-03  -6.953e-01  -1.589e-01   **\n",
      "male       9.011e-02  1.094e+00 1.267e-01  7.114e-01 4.768e-01  -1.582e-01   3.384e-01     \n",
      "active    -3.378e-01  7.133e-01 1.483e-01 -2.277e+00 2.276e-02  -6.286e-01  -4.703e-02    *\n",
      "full       9.654e-01  2.626e+00 1.952e-01  4.946e+00 7.592e-07   5.827e-01   1.348e+00  ***\n",
      "---\n",
      "Signif. codes:  0 '***' 0.001 '**' 0.01 '*' 0.05 '.' 0.1 ' ' 1 \n",
      "\n",
      "Concordance = 0.688\n"
     ]
    }
   ],
   "source": [
    "cf_death.print_summary()"
   ]
  },
  {
   "cell_type": "code",
   "execution_count": 44,
   "metadata": {
    "collapsed": false
   },
   "outputs": [
    {
     "data": {
      "text/plain": [
       "<matplotlib.axes._subplots.AxesSubplot at 0x1896bc50>"
      ]
     },
     "execution_count": 44,
     "metadata": {},
     "output_type": "execute_result"
    },
    {
     "data": {
      "image/png": "[encoded data removed]",
      "text/plain": [
       "<matplotlib.figure.Figure at 0x18955710>"
      ]
     },
     "metadata": {},
     "output_type": "display_data"
    }
   ],
   "source": [
    "cf_death.baseline_hazard_.plot()"
   ]
  },
  {
   "cell_type": "code",
   "execution_count": null,
   "metadata": {
    "collapsed": true
   },
   "outputs": [],
   "source": []
  },
  {
   "cell_type": "code",
   "execution_count": 50,
   "metadata": {
    "collapsed": false
   },
   "outputs": [
    {
     "data": {
      "text/plain": [
       "<matplotlib.axes._subplots.AxesSubplot at 0x19aba160>"
      ]
     },
     "execution_count": 50,
     "metadata": {},
     "output_type": "execute_result"
    },
    {
     "data": {
      "image/png": "[encoded data removed]",
      "text/plain": [
       "<matplotlib.figure.Figure at 0x197860f0>"
      ]
     },
     "metadata": {},
     "output_type": "display_data"
    },
    {
     "data": {
      "image/png": "[encoded data removed]",
      "text/plain": [
       "<matplotlib.figure.Figure at 0x19ab2b38>"
      ]
     },
     "metadata": {},
     "output_type": "display_data"
    }
   ],
   "source": [
    "#cf_death.baseline_survival_.plot()\n",
    "kmf.fit(avengersdf['Years since joining'],avengersdf['death1status']).plot()\n",
    "cf_death.baseline_survival_.plot()"
   ]
  },
  {
   "cell_type": "code",
   "execution_count": 54,
   "metadata": {
    "collapsed": false
   },
   "outputs": [
    {
     "data": {
      "text/html": [
       "<div style=\"max-height:1000px;max-width:1500px;overflow:auto;\">\n",
       "<table border=\"1\" class=\"dataframe\">\n",
       "  <thead>\n",
       "    <tr style=\"text-align: right;\">\n",
       "      <th></th>\n",
       "      <th>logAppear</th>\n",
       "      <th>male</th>\n",
       "      <th>active</th>\n",
       "      <th>full</th>\n",
       "    </tr>\n",
       "  </thead>\n",
       "  <tbody>\n",
       "    <tr>\n",
       "      <th>coef</th>\n",
       "      <td>0.652394</td>\n",
       "      <td>1.094296</td>\n",
       "      <td>0.713314</td>\n",
       "      <td>2.625955</td>\n",
       "    </tr>\n",
       "  </tbody>\n",
       "</table>\n",
       "</div>"
      ],
      "text/plain": [
       "      logAppear      male    active      full\n",
       "coef   0.652394  1.094296  0.713314  2.625955"
      ]
     },
     "execution_count": 54,
     "metadata": {},
     "output_type": "execute_result"
    }
   ],
   "source": [
    "np.exp(cf_death.hazards_)"
   ]
  },
  {
   "cell_type": "code",
   "execution_count": 53,
   "metadata": {
    "collapsed": false
   },
   "outputs": [
    {
     "data": {
      "text/plain": [
       "logAppear     6.943122\n",
       "male          1.000000\n",
       "active        1.000000\n",
       "full          1.000000\n",
       "T            47.000000\n",
       "E             1.000000\n",
       "Name: 13, dtype: float64"
      ]
     },
     "execution_count": 53,
     "metadata": {},
     "output_type": "execute_result"
    }
   ],
   "source": [
    "Xavengers.ix[13]"
   ]
  },
  {
   "cell_type": "code",
   "execution_count": 58,
   "metadata": {
    "collapsed": false
   },
   "outputs": [
    {
     "name": "stdout",
     "output_type": "stream",
     "text": [
      "count    173.000000\n",
      "mean      26.554913\n",
      "std       30.374669\n",
      "min        0.000000\n",
      "25%        5.000000\n",
      "50%       19.000000\n",
      "75%       36.000000\n",
      "max      115.000000\n",
      "Name: T, dtype: float64\n"
     ]
    }
   ],
   "source": [
    "print Xavengers['T'].describe()\n",
    "time_range = np.linspace(Xavengers['T'].min(),85,86)"
   ]
  },
  {
   "cell_type": "code",
   "execution_count": 61,
   "metadata": {
    "collapsed": false,
    "scrolled": true
   },
   "outputs": [
    {
     "data": {
      "text/plain": [
       "<matplotlib.axes._subplots.AxesSubplot at 0x19deecc0>"
      ]
     },
     "execution_count": 61,
     "metadata": {},
     "output_type": "execute_result"
    },
    {
     "data": {
      "image/png": "[encoded data removed]",
      "text/plain": [
       "<matplotlib.figure.Figure at 0x19df6630>"
      ]
     },
     "metadata": {},
     "output_type": "display_data"
    }
   ],
   "source": [
    "fig = plt.figure(figsize=(12.5,6))\n",
    "kmf_type = life.KaplanMeierFitter()\n",
    "# split by full or not\n",
    "fullmbrs = Xavengers[Xavengers.full==1]\n",
    "othrmbrs = Xavengers[Xavengers.full==0]\n",
    "\n",
    "kmf_type.fit(fullmbrs['T'], timeline=time_range, event_observed=fullmbrs['E'],label='Full members')\n",
    "\n",
    "ax = fig.add_subplot(111)\n",
    "kmf_type.plot(ax=ax,c='darkgreen')\n",
    "\n",
    "kmf_type.fit(othrmbrs['T'], timeline=time_range, event_observed=othrmbrs['E'],label='not Full members')\n",
    "kmf_type.plot(ax=ax, c='deeppink')"
   ]
  },
  {
   "cell_type": "code",
   "execution_count": null,
   "metadata": {
    "collapsed": true
   },
   "outputs": [],
   "source": []
  }
 ],
 "metadata": {
  "kernelspec": {
   "display_name": "Python 2",
   "language": "python",
   "name": "python2"
  },
  "language_info": {
   "codemirror_mode": {
    "name": "ipython",
    "version": 2
   },
   "file_extension": ".py",
   "mimetype": "text/x-python",
   "name": "python",
   "nbconvert_exporter": "python",
   "pygments_lexer": "ipython2",
   "version": "2.7.8"
  }
 },
 "nbformat": 4,
 "nbformat_minor": 0
}
