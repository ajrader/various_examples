{
 "cells": [
  {
   "cell_type": "markdown",
   "metadata": {},
   "source": [
    "# Structure of a data analysis -- in Python "
   ]
  },
  {
   "cell_type": "code",
   "execution_count": 5,
   "metadata": {
    "collapsed": false
   },
   "outputs": [
    {
     "data": {
      "text/plain": [
       "'C:\\\\Users\\\\KESJ\\\\code\\\\python\\\\ipythonNotebooks'"
      ]
     },
     "execution_count": 5,
     "metadata": {},
     "output_type": "execute_result"
    }
   ],
   "source": [
    "import numpy as np\n",
    "import pandas as pd\n",
    "import os\n",
    "os.getcwd()"
   ]
  },
  {
   "cell_type": "code",
   "execution_count": 10,
   "metadata": {
    "collapsed": false
   },
   "outputs": [
    {
     "ename": "WindowsError",
     "evalue": "[Error 3] The system cannot find the path specified: '../../../data/miscDataSets/'",
     "output_type": "error",
     "traceback": [
      "\u001b[1;31m---------------------------------------------------------------------------\u001b[0m\n\u001b[1;31mWindowsError\u001b[0m                              Traceback (most recent call last)",
      "\u001b[1;32m<ipython-input-10-ecce9b6c3ec7>\u001b[0m in \u001b[0;36m<module>\u001b[1;34m()\u001b[0m\n\u001b[0;32m      1\u001b[0m \u001b[1;31m# load an R dataset ('spam' from the kernlab library -- I converted it to csv first)\u001b[0m\u001b[1;33m\u001b[0m\u001b[1;33m\u001b[0m\u001b[0m\n\u001b[1;32m----> 2\u001b[1;33m \u001b[0mos\u001b[0m\u001b[1;33m.\u001b[0m\u001b[0mchdir\u001b[0m\u001b[1;33m(\u001b[0m\u001b[1;34m'../../../data/miscDataSets/'\u001b[0m\u001b[1;33m)\u001b[0m\u001b[1;33m\u001b[0m\u001b[0m\n\u001b[0m\u001b[0;32m      3\u001b[0m \u001b[0mfname\u001b[0m \u001b[1;33m=\u001b[0m \u001b[1;34m\"spam.csv\"\u001b[0m\u001b[1;33m\u001b[0m\u001b[0m\n",
      "\u001b[1;31mWindowsError\u001b[0m: [Error 3] The system cannot find the path specified: '../../../data/miscDataSets/'"
     ]
    }
   ],
   "source": [
    "# load an R dataset ('spam' from the kernlab library -- I converted it to csv first)\n",
    "os.chdir('../../../data/miscDataSets/')\n",
    "fname = \"spam.csv\""
   ]
  },
  {
   "cell_type": "code",
   "execution_count": 13,
   "metadata": {
    "collapsed": false
   },
   "outputs": [
    {
     "data": {
      "text/plain": [
       "(4601,)"
      ]
     },
     "execution_count": 13,
     "metadata": {},
     "output_type": "execute_result"
    }
   ],
   "source": [
    "data = np.genfromtxt(fname,names=True,delimiter=',',dtype=None)\n",
    "shape(data)"
   ]
  },
  {
   "cell_type": "code",
   "execution_count": 15,
   "metadata": {
    "collapsed": false
   },
   "outputs": [
    {
     "data": {
      "text/plain": [
       "array(['\"spam\"', '\"spam\"', '\"spam\"', ..., '\"nonspam\"', '\"nonspam\"',\n",
       "       '\"nonspam\"'], \n",
       "      dtype='|S9')"
      ]
     },
     "execution_count": 15,
     "metadata": {},
     "output_type": "execute_result"
    }
   ],
   "source": [
    "data['type']"
   ]
  },
  {
   "cell_type": "code",
   "execution_count": 35,
   "metadata": {
    "collapsed": false
   },
   "outputs": [
    {
     "data": {
      "text/plain": [
       "0.64000000000000001"
      ]
     },
     "execution_count": 35,
     "metadata": {},
     "output_type": "execute_result"
    }
   ],
   "source": [
    "data[0][2]"
   ]
  },
  {
   "cell_type": "markdown",
   "metadata": {},
   "source": [
    "### Generate a random index over the 4601 rows."
   ]
  },
  {
   "cell_type": "code",
   "execution_count": 16,
   "metadata": {
    "collapsed": false
   },
   "outputs": [
    {
     "data": {
      "text/plain": [
       "array([2233, 2368])"
      ]
     },
     "execution_count": 16,
     "metadata": {},
     "output_type": "execute_result"
    }
   ],
   "source": [
    "np.random.seed(3435)\n",
    "trainIndicator = np.random.binomial(1, 0.5, 4601)\n",
    "np.bincount(trainIndicator)"
   ]
  },
  {
   "cell_type": "code",
   "execution_count": 19,
   "metadata": {
    "collapsed": false
   },
   "outputs": [
    {
     "data": {
      "text/plain": [
       "(2368,)"
      ]
     },
     "execution_count": 19,
     "metadata": {},
     "output_type": "execute_result"
    }
   ],
   "source": [
    "# split into training and test data\n",
    "trainSpam = data[trainIndicator == 1]\n",
    "testSpam = data[trainIndicator == 0]\n",
    "trainSpam.shape\n"
   ]
  },
  {
   "cell_type": "code",
   "execution_count": 23,
   "metadata": {
    "collapsed": false
   },
   "outputs": [
    {
     "data": {
      "text/plain": [
       "('f0',\n",
       " 'make',\n",
       " 'address',\n",
       " 'all',\n",
       " 'num3d',\n",
       " 'our',\n",
       " 'over',\n",
       " 'remove',\n",
       " 'internet',\n",
       " 'order',\n",
       " 'mail',\n",
       " 'receive',\n",
       " 'will',\n",
       " 'people',\n",
       " 'report',\n",
       " 'addresses',\n",
       " 'free',\n",
       " 'business',\n",
       " 'email',\n",
       " 'you',\n",
       " 'credit',\n",
       " 'your',\n",
       " 'font',\n",
       " 'num000',\n",
       " 'money',\n",
       " 'hp',\n",
       " 'hpl',\n",
       " 'george',\n",
       " 'num650',\n",
       " 'lab',\n",
       " 'labs',\n",
       " 'telnet',\n",
       " 'num857',\n",
       " 'data',\n",
       " 'num415',\n",
       " 'num85',\n",
       " 'technology',\n",
       " 'num1999',\n",
       " 'parts',\n",
       " 'pm',\n",
       " 'direct',\n",
       " 'cs',\n",
       " 'meeting',\n",
       " 'original',\n",
       " 'project',\n",
       " 're',\n",
       " 'edu',\n",
       " 'table',\n",
       " 'conference',\n",
       " 'charSemicolon',\n",
       " 'charRoundbracket',\n",
       " 'charSquarebracket',\n",
       " 'charExclamation',\n",
       " 'charDollar',\n",
       " 'charHash',\n",
       " 'capitalAve',\n",
       " 'capitalLong',\n",
       " 'capitalTotal',\n",
       " 'type')"
      ]
     },
     "execution_count": 23,
     "metadata": {},
     "output_type": "execute_result"
    }
   ],
   "source": [
    "# show column names\n",
    "trainSpam.dtype.names"
   ]
  },
  {
   "cell_type": "markdown",
   "metadata": {},
   "source": [
    "# Using pandas"
   ]
  },
  {
   "cell_type": "code",
   "execution_count": 40,
   "metadata": {
    "collapsed": false
   },
   "outputs": [],
   "source": [
    "spam = pd.read_csv(fname,header=0)\n",
    "#load the data"
   ]
  },
  {
   "cell_type": "code",
   "execution_count": 41,
   "metadata": {
    "collapsed": false
   },
   "outputs": [
    {
     "data": {
      "text/plain": [
       "Index([Unnamed: 0, make, address, all, num3d, our, over, remove, internet, order, mail, receive, will, people, report, addresses, free, business, email, you, credit, your, font, num000, money, hp, hpl, george, num650, lab, labs, telnet, num857, data, num415, num85, technology, num1999, parts, pm, direct, cs, meeting, original, project, re, edu, table, conference, charSemicolon, charRoundbracket, charSquarebracket, charExclamation, charDollar, charHash, capitalAve, capitalLong, capitalTotal, type], dtype=object)"
      ]
     },
     "execution_count": 41,
     "metadata": {},
     "output_type": "execute_result"
    }
   ],
   "source": [
    "spam.keys()\n",
    "#show the column names"
   ]
  },
  {
   "cell_type": "code",
   "execution_count": 46,
   "metadata": {
    "collapsed": false
   },
   "outputs": [],
   "source": [
    "del spam['Unnamed: 0']\n",
    "# remove the first column (just an index)"
   ]
  },
  {
   "cell_type": "code",
   "execution_count": 48,
   "metadata": {
    "collapsed": false
   },
   "outputs": [
    {
     "data": {
      "text/plain": [
       "(2368, 58)"
      ]
     },
     "execution_count": 48,
     "metadata": {},
     "output_type": "execute_result"
    }
   ],
   "source": [
    "# create the test & training subsets:\n",
    "# split into training and test data\n",
    "trainSpam = spam.ix[trainIndicator == 1]\n",
    "testSpam = spam.ix[trainIndicator == 0]\n",
    "trainSpam.shape"
   ]
  },
  {
   "cell_type": "markdown",
   "metadata": {},
   "source": [
    "#### Peak at the beginning of the file"
   ]
  },
  {
   "cell_type": "code",
   "execution_count": 57,
   "metadata": {
    "collapsed": false
   },
   "outputs": [
    {
     "data": {
      "text/html": [
       "<div style=\"max-height:1000px;max-width:1500px;overflow:auto;\">\n",
       "<table border=\"1\" class=\"dataframe\">\n",
       "  <thead>\n",
       "    <tr style=\"text-align: right;\">\n",
       "      <th></th>\n",
       "      <th>make</th>\n",
       "      <th>address</th>\n",
       "      <th>all</th>\n",
       "      <th>num3d</th>\n",
       "      <th>our</th>\n",
       "      <th>over</th>\n",
       "      <th>remove</th>\n",
       "      <th>internet</th>\n",
       "      <th>order</th>\n",
       "      <th>mail</th>\n",
       "    </tr>\n",
       "  </thead>\n",
       "  <tbody>\n",
       "    <tr>\n",
       "      <th>1</th>\n",
       "      <td> 0.21</td>\n",
       "      <td> 0.28</td>\n",
       "      <td> 0.50</td>\n",
       "      <td> 0</td>\n",
       "      <td> 0.14</td>\n",
       "      <td> 0.28</td>\n",
       "      <td> 0.21</td>\n",
       "      <td> 0.07</td>\n",
       "      <td> 0.00</td>\n",
       "      <td> 0.94</td>\n",
       "    </tr>\n",
       "    <tr>\n",
       "      <th>2</th>\n",
       "      <td> 0.06</td>\n",
       "      <td> 0.00</td>\n",
       "      <td> 0.71</td>\n",
       "      <td> 0</td>\n",
       "      <td> 1.23</td>\n",
       "      <td> 0.19</td>\n",
       "      <td> 0.19</td>\n",
       "      <td> 0.12</td>\n",
       "      <td> 0.64</td>\n",
       "      <td> 0.25</td>\n",
       "    </tr>\n",
       "    <tr>\n",
       "      <th>4</th>\n",
       "      <td> 0.00</td>\n",
       "      <td> 0.00</td>\n",
       "      <td> 0.00</td>\n",
       "      <td> 0</td>\n",
       "      <td> 0.63</td>\n",
       "      <td> 0.00</td>\n",
       "      <td> 0.31</td>\n",
       "      <td> 0.63</td>\n",
       "      <td> 0.31</td>\n",
       "      <td> 0.63</td>\n",
       "    </tr>\n",
       "    <tr>\n",
       "      <th>8</th>\n",
       "      <td> 0.15</td>\n",
       "      <td> 0.00</td>\n",
       "      <td> 0.46</td>\n",
       "      <td> 0</td>\n",
       "      <td> 0.61</td>\n",
       "      <td> 0.00</td>\n",
       "      <td> 0.30</td>\n",
       "      <td> 0.00</td>\n",
       "      <td> 0.92</td>\n",
       "      <td> 0.76</td>\n",
       "    </tr>\n",
       "    <tr>\n",
       "      <th>9</th>\n",
       "      <td> 0.06</td>\n",
       "      <td> 0.12</td>\n",
       "      <td> 0.77</td>\n",
       "      <td> 0</td>\n",
       "      <td> 0.19</td>\n",
       "      <td> 0.32</td>\n",
       "      <td> 0.38</td>\n",
       "      <td> 0.00</td>\n",
       "      <td> 0.06</td>\n",
       "      <td> 0.00</td>\n",
       "    </tr>\n",
       "  </tbody>\n",
       "</table>\n",
       "</div>"
      ],
      "text/plain": [
       "   make  address   all  num3d   our  over  remove  internet  order  mail\n",
       "1  0.21     0.28  0.50      0  0.14  0.28    0.21      0.07   0.00  0.94\n",
       "2  0.06     0.00  0.71      0  1.23  0.19    0.19      0.12   0.64  0.25\n",
       "4  0.00     0.00  0.00      0  0.63  0.00    0.31      0.63   0.31  0.63\n",
       "8  0.15     0.00  0.46      0  0.61  0.00    0.30      0.00   0.92  0.76\n",
       "9  0.06     0.12  0.77      0  0.19  0.32    0.38      0.00   0.06  0.00"
      ]
     },
     "execution_count": 57,
     "metadata": {},
     "output_type": "execute_result"
    }
   ],
   "source": [
    "# this is the equivalent of R head command\n",
    "#trainSpam.ix[:,:20].head()\n",
    "trainSpam.ix[:,:10].head()"
   ]
  },
  {
   "cell_type": "code",
   "execution_count": 58,
   "metadata": {
    "collapsed": false
   },
   "outputs": [
    {
     "data": {
      "text/plain": [
       "nonspam    1454\n",
       "spam        914\n",
       "dtype: int64"
      ]
     },
     "execution_count": 58,
     "metadata": {},
     "output_type": "execute_result"
    }
   ],
   "source": [
    "# compute frequency counts, similar to R table command\n",
    "trainSpam['type'].value_counts()"
   ]
  },
  {
   "cell_type": "markdown",
   "metadata": {},
   "source": [
    "### Plots"
   ]
  },
  {
   "cell_type": "code",
   "execution_count": 59,
   "metadata": {
    "collapsed": false
   },
   "outputs": [
    {
     "data": {
      "image/png": "[encoded data removed]"
     },
     "metadata": {},
     "output_type": "display_data"
    }
   ],
   "source": [
    "# boxplot using pandas boxplot\n",
    "from pandas.tools.plotting import boxplot\n",
    "\n",
    "boxplot(trainSpam, column='capitalAve', by='type');\n"
   ]
  },
  {
   "cell_type": "code",
   "execution_count": 60,
   "metadata": {
    "collapsed": false
   },
   "outputs": [
    {
     "data": {
      "image/png": "[encoded data removed]"
     },
     "metadata": {},
     "output_type": "display_data"
    }
   ],
   "source": [
    "# take the log\n",
    "#\n",
    "# use the apply() function to compute the log\n",
    "df = trainSpam[['capitalAve', 'type']]\n",
    "df['capitalAve'] = df['capitalAve'].apply(lambda x: np.log10(x + 1))\n",
    "\n",
    "boxplot(df, column='capitalAve', by='type');\n"
   ]
  },
  {
   "cell_type": "code",
   "execution_count": 62,
   "metadata": {
    "collapsed": false
   },
   "outputs": [
    {
     "data": {
      "image/png": "[encoded data removed]"
     },
     "metadata": {},
     "output_type": "display_data"
    }
   ],
   "source": [
    "# relationships between predictors\n",
    "from pandas.tools.plotting import scatter_matrix\n",
    "\n",
    "scatter_matrix(trainSpam[['make', 'address', 'all', 'num3d']], figsize=(12, 12), marker='o');\n"
   ]
  },
  {
   "cell_type": "code",
   "execution_count": 71,
   "metadata": {
    "collapsed": false
   },
   "outputs": [
    {
     "data": {
      "text/plain": [
       "<matplotlib.text.Text at 0x977e790>"
      ]
     },
     "execution_count": 71,
     "metadata": {},
     "output_type": "execute_result"
    },
    {
     "data": {
      "image/png": "[encoded data removed]"
     },
     "metadata": {},
     "output_type": "display_data"
    }
   ],
   "source": [
    "# hierarchical clustering using scipy\n",
    "# compute distance matrix\n",
    "from scipy.spatial.distance import pdist, squareform\n",
    "distxy = squareform(pdist(trainSpam.ix[:,:56].T, metric='euclidean'))\n",
    "#import scipy.cluster.hierarchy as hierarch\n",
    "#Y = hierarch.distance.pdist(trainSpam.ix[:,:56].T)\n",
    "#Z = hierarch.linkage(Y)\n",
    "#figure\n",
    "#hierarch.dendrogram(Z,labels=trainSpam.ix[:,:56].columns)\n",
    "#from sklearn.metrics.pairwise import pairwise_distances\n",
    "#D = pairwise_distances(trainSpam.ix[:,:56].T)\n",
    "#from hcluster import pdist, linkage, dendrogram\n",
    "#dendrogram(linkage(pdist(trainSpam.ix[:,:56].T)), labels=trainSpam.ix[:,:56].columns)\n",
    "\n",
    "\n",
    "\n",
    "# perform clustering and plot the dendrogram\n",
    "from scipy.cluster.hierarchy import linkage, dendrogram\n",
    "\n",
    "R = dendrogram(linkage(distxy, method='complete'),labels=trainSpam.ix[:,:56].columns)\n",
    "\n",
    "xlabel('columns')\n",
    "ylabel('Height')\n",
    "title('Cluster Dendrogram', fontweight='bold', fontsize=14)"
   ]
  },
  {
   "cell_type": "code",
   "execution_count": 73,
   "metadata": {
    "collapsed": false
   },
   "outputs": [
    {
     "data": {
      "image/png": "[encoded data removed]"
     },
     "metadata": {},
     "output_type": "display_data"
    }
   ],
   "source": [
    "#take the log\n",
    "R = dendrogram(linkage(pdist(trainSpam.ix[:,:56].T.apply(lambda x: np.log10(x+1)))),\n",
    "               labels = trainSpam.ix[:,:56].columns)"
   ]
  },
  {
   "cell_type": "markdown",
   "metadata": {},
   "source": [
    "# Summarizing some data"
   ]
  },
  {
   "cell_type": "markdown",
   "metadata": {},
   "source": [
    "##### Use the data from this url: fileUrl = 'http://earthquake.usgs.gov/earthquakes/catalogs/eqs7day-M1.txt'"
   ]
  },
  {
   "cell_type": "code",
   "execution_count": 76,
   "metadata": {
    "collapsed": false
   },
   "outputs": [
    {
     "data": {
      "text/plain": [
       "['The current date is: Thu 08/01/2013 ', 'Enter the new date: (mm-dd-yy) ']"
      ]
     },
     "execution_count": 76,
     "metadata": {},
     "output_type": "execute_result"
    }
   ],
   "source": [
    "fileUrl = 'eqs7day-M1.txt'\n",
    "eData = pd.read_csv(fileUrl)\n",
    "\n",
    "\n",
    "dataDownloaded = !date\n",
    "dataDownloaded"
   ]
  },
  {
   "cell_type": "code",
   "execution_count": 80,
   "metadata": {
    "collapsed": false
   },
   "outputs": [
    {
     "data": {
      "text/plain": [
       "Src                                              ak\n",
       "Eqid                                       10772627\n",
       "Version                                           1\n",
       "Datetime     Thursday, August  1, 2013 17:49:02 UTC\n",
       "Lat                                         61.6436\n",
       "Lon                                       -147.2215\n",
       "Magnitude                                       3.2\n",
       "Depth                                          17.9\n",
       "NST                                              43\n",
       "Region                              Southern Alaska\n",
       "Name: 1, dtype: object"
      ]
     },
     "execution_count": 80,
     "metadata": {},
     "output_type": "execute_result"
    }
   ],
   "source": [
    "eData.ix]"
   ]
  },
  {
   "cell_type": "code",
   "execution_count": 89,
   "metadata": {
    "collapsed": false
   },
   "outputs": [],
   "source": [
    "eData = eData.drop(eData.index[0])\n",
    "#removed the 2nd line that was a comment --> note now index runs from 1 to N"
   ]
  },
  {
   "cell_type": "code",
   "execution_count": 94,
   "metadata": {
    "collapsed": false
   },
   "outputs": [
    {
     "data": {
      "text/html": [
       "<pre>\n",
       "&ltclass 'pandas.core.frame.DataFrame'&gt\n",
       "Int64Index: 5 entries, 1 to 5\n",
       "Data columns (total 10 columns):\n",
       "Src          5  non-null values\n",
       "Eqid         5  non-null values\n",
       "Version      5  non-null values\n",
       "Datetime     5  non-null values\n",
       "Lat          5  non-null values\n",
       "Lon          5  non-null values\n",
       "Magnitude    5  non-null values\n",
       "Depth        5  non-null values\n",
       "NST          5  non-null values\n",
       "Region       5  non-null values\n",
       "dtypes: float64(5), object(5)\n",
       "</pre>"
      ],
      "text/plain": [
       "  Src      Eqid Version                                Datetime      Lat  \\\n",
       "1  ak  10772627       1  Thursday, August  1, 2013 17:49:02 UTC  61.6436   \n",
       "2  nc  72041326       0  Thursday, August  1, 2013 16:50:49 UTC  38.8432   \n",
       "3  us  b000itdc       8  Thursday, August  1, 2013 16:39:59 UTC  49.5921   \n",
       "4  ak  10772389       1  Thursday, August  1, 2013 16:19:19 UTC  63.0061   \n",
       "5  nc  72041301       1  Thursday, August  1, 2013 15:51:15 UTC  37.5392   \n",
       "\n",
       "        Lon  Magnitude  Depth  NST               Region  \n",
       "1 -147.2215        3.2   17.9   43      Southern Alaska  \n",
       "2 -122.8398        1.0    2.2   15  Northern California  \n",
       "3  156.1113        5.1   56.5  175        Kuril Islands  \n",
       "4 -150.3141        2.3    0.5   26       Central Alaska  \n",
       "5 -118.8772        1.9    8.0   29   Central California  "
      ]
     },
     "execution_count": 94,
     "metadata": {},
     "output_type": "execute_result"
    }
   ],
   "source": [
    "eData.head()"
   ]
  },
  {
   "cell_type": "code",
   "execution_count": 95,
   "metadata": {
    "collapsed": false
   },
   "outputs": [
    {
     "data": {
      "text/plain": [
       "[-60.3977, 34.104849999999999, 38.8307, 59.406500000000001, 76.993499999999997]"
      ]
     },
     "execution_count": 95,
     "metadata": {},
     "output_type": "execute_result"
    }
   ],
   "source": [
    "# compute the quintiles (like R quantile()):\n",
    "p = [0,0.25,0.5,0.75,1]\n",
    "[eData['Lat'].quantile(q=i) for i in p]"
   ]
  },
  {
   "cell_type": "code",
   "execution_count": 96,
   "metadata": {
    "collapsed": false
   },
   "outputs": [
    {
     "data": {
      "text/html": [
       "<div style=\"max-height:1000px;max-width:1500px;overflow:auto;\">\n",
       "<table border=\"1\" class=\"dataframe\">\n",
       "  <thead>\n",
       "    <tr style=\"text-align: right;\">\n",
       "      <th></th>\n",
       "      <th>Lat</th>\n",
       "      <th>Lon</th>\n",
       "      <th>Magnitude</th>\n",
       "      <th>Depth</th>\n",
       "      <th>NST</th>\n",
       "    </tr>\n",
       "  </thead>\n",
       "  <tbody>\n",
       "    <tr>\n",
       "      <th>count</th>\n",
       "      <td> 1019.000000</td>\n",
       "      <td> 1019.000000</td>\n",
       "      <td> 1019.000000</td>\n",
       "      <td> 1019.000000</td>\n",
       "      <td> 1019.000000</td>\n",
       "    </tr>\n",
       "    <tr>\n",
       "      <th>mean</th>\n",
       "      <td>   40.510913</td>\n",
       "      <td> -106.293413</td>\n",
       "      <td>    2.003140</td>\n",
       "      <td>   28.835231</td>\n",
       "      <td>   23.456330</td>\n",
       "    </tr>\n",
       "    <tr>\n",
       "      <th>std</th>\n",
       "      <td>   19.631229</td>\n",
       "      <td>   75.077417</td>\n",
       "      <td>    1.088117</td>\n",
       "      <td>   59.975059</td>\n",
       "      <td>   27.172714</td>\n",
       "    </tr>\n",
       "    <tr>\n",
       "      <th>min</th>\n",
       "      <td>  -60.397700</td>\n",
       "      <td> -178.845300</td>\n",
       "      <td>    1.000000</td>\n",
       "      <td>    0.000000</td>\n",
       "      <td>    0.000000</td>\n",
       "    </tr>\n",
       "    <tr>\n",
       "      <th>25%</th>\n",
       "      <td>   34.104850</td>\n",
       "      <td> -148.756150</td>\n",
       "      <td>    1.200000</td>\n",
       "      <td>    4.600000</td>\n",
       "      <td>   11.000000</td>\n",
       "    </tr>\n",
       "    <tr>\n",
       "      <th>50%</th>\n",
       "      <td>   38.830700</td>\n",
       "      <td> -121.428300</td>\n",
       "      <td>    1.600000</td>\n",
       "      <td>   10.000000</td>\n",
       "      <td>   16.000000</td>\n",
       "    </tr>\n",
       "    <tr>\n",
       "      <th>75%</th>\n",
       "      <td>   59.406500</td>\n",
       "      <td> -116.288750</td>\n",
       "      <td>    2.300000</td>\n",
       "      <td>   28.000000</td>\n",
       "      <td>   27.000000</td>\n",
       "    </tr>\n",
       "    <tr>\n",
       "      <th>max</th>\n",
       "      <td>   76.993500</td>\n",
       "      <td>  179.749200</td>\n",
       "      <td>    6.200000</td>\n",
       "      <td>  616.100000</td>\n",
       "      <td>  411.000000</td>\n",
       "    </tr>\n",
       "  </tbody>\n",
       "</table>\n",
       "</div>"
      ],
      "text/plain": [
       "               Lat          Lon    Magnitude        Depth          NST\n",
       "count  1019.000000  1019.000000  1019.000000  1019.000000  1019.000000\n",
       "mean     40.510913  -106.293413     2.003140    28.835231    23.456330\n",
       "std      19.631229    75.077417     1.088117    59.975059    27.172714\n",
       "min     -60.397700  -178.845300     1.000000     0.000000     0.000000\n",
       "25%      34.104850  -148.756150     1.200000     4.600000    11.000000\n",
       "50%      38.830700  -121.428300     1.600000    10.000000    16.000000\n",
       "75%      59.406500  -116.288750     2.300000    28.000000    27.000000\n",
       "max      76.993500   179.749200     6.200000   616.100000   411.000000"
      ]
     },
     "execution_count": 96,
     "metadata": {},
     "output_type": "execute_result"
    }
   ],
   "source": [
    "eData.describe()"
   ]
  },
  {
   "cell_type": "code",
   "execution_count": 99,
   "metadata": {
    "collapsed": false
   },
   "outputs": [
    {
     "data": {
      "text/plain": [
       "[('Src', str),\n",
       " ('Eqid', str),\n",
       " ('Version', str),\n",
       " ('Datetime', str),\n",
       " ('Lat', numpy.float64),\n",
       " ('Lon', numpy.float64),\n",
       " ('Magnitude', numpy.float64),\n",
       " ('Depth', numpy.float64),\n",
       " ('NST', numpy.float64),\n",
       " ('Region', str)]"
      ]
     },
     "execution_count": 99,
     "metadata": {},
     "output_type": "execute_result"
    }
   ],
   "source": [
    "# list the types of each column --> zip() is used just to print this together\n",
    "zip(eData.columns, [type(x) for x in eData.ix[1,:]])"
   ]
  },
  {
   "cell_type": "code",
   "execution_count": 101,
   "metadata": {
    "collapsed": false
   },
   "outputs": [
    {
     "data": {
      "text/plain": [
       "(array(['ak', 'nc', 'us', 'ci', 'uw', 'pr', 'nn', 'uu', 'hv', 'mb', 'nm',\n",
       "       'ld', 'se'], dtype=object),\n",
       " 13)"
      ]
     },
     "execution_count": 101,
     "metadata": {},
     "output_type": "execute_result"
    }
   ],
   "source": [
    "# get unique values for a given column\n",
    "eData['Src'].unique(), len(eData['Src'].unique())"
   ]
  },
  {
   "cell_type": "code",
   "execution_count": 102,
   "metadata": {
    "collapsed": false
   },
   "outputs": [
    {
     "data": {
      "text/plain": [
       "ak    334\n",
       "nc    189\n",
       "ci    142\n",
       "us    119\n",
       "pr     60\n",
       "nn     54\n",
       "uw     35\n",
       "hv     31\n",
       "uu     29\n",
       "mb     15\n",
       "nm      5\n",
       "se      4\n",
       "ld      2\n",
       "dtype: int64"
      ]
     },
     "execution_count": 102,
     "metadata": {},
     "output_type": "execute_result"
    }
   ],
   "source": [
    "eData['Src'].value_counts()"
   ]
  },
  {
   "cell_type": "code",
   "execution_count": 103,
   "metadata": {
    "collapsed": false
   },
   "outputs": [
    {
     "data": {
      "text/html": [
       "<div style=\"max-height:1000px;max-width:1500px;overflow:auto;\">\n",
       "<table border=\"1\" class=\"dataframe\">\n",
       "  <thead>\n",
       "    <tr style=\"text-align: right;\">\n",
       "      <th>Version</th>\n",
       "      <th>0</th>\n",
       "      <th>1</th>\n",
       "      <th>2</th>\n",
       "      <th>3</th>\n",
       "      <th>4</th>\n",
       "      <th>5</th>\n",
       "      <th>6</th>\n",
       "      <th>7</th>\n",
       "      <th>8</th>\n",
       "      <th>9</th>\n",
       "      <th>A</th>\n",
       "      <th>B</th>\n",
       "      <th>C</th>\n",
       "    </tr>\n",
       "    <tr>\n",
       "      <th>Src</th>\n",
       "      <th></th>\n",
       "      <th></th>\n",
       "      <th></th>\n",
       "      <th></th>\n",
       "      <th></th>\n",
       "      <th></th>\n",
       "      <th></th>\n",
       "      <th></th>\n",
       "      <th></th>\n",
       "      <th></th>\n",
       "      <th></th>\n",
       "      <th></th>\n",
       "      <th></th>\n",
       "    </tr>\n",
       "  </thead>\n",
       "  <tbody>\n",
       "    <tr>\n",
       "      <th>ak</th>\n",
       "      <td>  0</td>\n",
       "      <td> 109</td>\n",
       "      <td> 208</td>\n",
       "      <td> 17</td>\n",
       "      <td>  0</td>\n",
       "      <td>  0</td>\n",
       "      <td>  0</td>\n",
       "      <td>  0</td>\n",
       "      <td>  0</td>\n",
       "      <td> 0</td>\n",
       "      <td> 0</td>\n",
       "      <td> 0</td>\n",
       "      <td> 0</td>\n",
       "    </tr>\n",
       "    <tr>\n",
       "      <th>ci</th>\n",
       "      <td>  0</td>\n",
       "      <td>   0</td>\n",
       "      <td>  71</td>\n",
       "      <td>  1</td>\n",
       "      <td> 61</td>\n",
       "      <td>  6</td>\n",
       "      <td>  3</td>\n",
       "      <td>  0</td>\n",
       "      <td>  0</td>\n",
       "      <td> 0</td>\n",
       "      <td> 0</td>\n",
       "      <td> 0</td>\n",
       "      <td> 0</td>\n",
       "    </tr>\n",
       "    <tr>\n",
       "      <th>hv</th>\n",
       "      <td>  0</td>\n",
       "      <td>  14</td>\n",
       "      <td>  12</td>\n",
       "      <td>  1</td>\n",
       "      <td>  4</td>\n",
       "      <td>  0</td>\n",
       "      <td>  0</td>\n",
       "      <td>  0</td>\n",
       "      <td>  0</td>\n",
       "      <td> 0</td>\n",
       "      <td> 0</td>\n",
       "      <td> 0</td>\n",
       "      <td> 0</td>\n",
       "    </tr>\n",
       "    <tr>\n",
       "      <th>ld</th>\n",
       "      <td>  0</td>\n",
       "      <td>   2</td>\n",
       "      <td>   0</td>\n",
       "      <td>  0</td>\n",
       "      <td>  0</td>\n",
       "      <td>  0</td>\n",
       "      <td>  0</td>\n",
       "      <td>  0</td>\n",
       "      <td>  0</td>\n",
       "      <td> 0</td>\n",
       "      <td> 0</td>\n",
       "      <td> 0</td>\n",
       "      <td> 0</td>\n",
       "    </tr>\n",
       "    <tr>\n",
       "      <th>mb</th>\n",
       "      <td>  0</td>\n",
       "      <td>   1</td>\n",
       "      <td>  14</td>\n",
       "      <td>  0</td>\n",
       "      <td>  0</td>\n",
       "      <td>  0</td>\n",
       "      <td>  0</td>\n",
       "      <td>  0</td>\n",
       "      <td>  0</td>\n",
       "      <td> 0</td>\n",
       "      <td> 0</td>\n",
       "      <td> 0</td>\n",
       "      <td> 0</td>\n",
       "    </tr>\n",
       "    <tr>\n",
       "      <th>nc</th>\n",
       "      <td> 83</td>\n",
       "      <td>  28</td>\n",
       "      <td>  31</td>\n",
       "      <td> 36</td>\n",
       "      <td>  2</td>\n",
       "      <td>  6</td>\n",
       "      <td>  1</td>\n",
       "      <td>  1</td>\n",
       "      <td>  0</td>\n",
       "      <td> 0</td>\n",
       "      <td> 0</td>\n",
       "      <td> 0</td>\n",
       "      <td> 1</td>\n",
       "    </tr>\n",
       "    <tr>\n",
       "      <th>nm</th>\n",
       "      <td>  0</td>\n",
       "      <td>   0</td>\n",
       "      <td>   0</td>\n",
       "      <td>  0</td>\n",
       "      <td>  0</td>\n",
       "      <td>  0</td>\n",
       "      <td>  0</td>\n",
       "      <td>  0</td>\n",
       "      <td>  0</td>\n",
       "      <td> 0</td>\n",
       "      <td> 5</td>\n",
       "      <td> 0</td>\n",
       "      <td> 0</td>\n",
       "    </tr>\n",
       "    <tr>\n",
       "      <th>nn</th>\n",
       "      <td>  0</td>\n",
       "      <td>  54</td>\n",
       "      <td>   0</td>\n",
       "      <td>  0</td>\n",
       "      <td>  0</td>\n",
       "      <td>  0</td>\n",
       "      <td>  0</td>\n",
       "      <td>  0</td>\n",
       "      <td>  0</td>\n",
       "      <td> 0</td>\n",
       "      <td> 0</td>\n",
       "      <td> 0</td>\n",
       "      <td> 0</td>\n",
       "    </tr>\n",
       "    <tr>\n",
       "      <th>pr</th>\n",
       "      <td> 60</td>\n",
       "      <td>   0</td>\n",
       "      <td>   0</td>\n",
       "      <td>  0</td>\n",
       "      <td>  0</td>\n",
       "      <td>  0</td>\n",
       "      <td>  0</td>\n",
       "      <td>  0</td>\n",
       "      <td>  0</td>\n",
       "      <td> 0</td>\n",
       "      <td> 0</td>\n",
       "      <td> 0</td>\n",
       "      <td> 0</td>\n",
       "    </tr>\n",
       "    <tr>\n",
       "      <th>se</th>\n",
       "      <td>  0</td>\n",
       "      <td>   0</td>\n",
       "      <td>   0</td>\n",
       "      <td>  0</td>\n",
       "      <td>  0</td>\n",
       "      <td>  0</td>\n",
       "      <td>  0</td>\n",
       "      <td>  0</td>\n",
       "      <td>  0</td>\n",
       "      <td> 0</td>\n",
       "      <td> 3</td>\n",
       "      <td> 1</td>\n",
       "      <td> 0</td>\n",
       "    </tr>\n",
       "    <tr>\n",
       "      <th>us</th>\n",
       "      <td>  0</td>\n",
       "      <td>   0</td>\n",
       "      <td>   2</td>\n",
       "      <td>  4</td>\n",
       "      <td> 23</td>\n",
       "      <td> 24</td>\n",
       "      <td> 26</td>\n",
       "      <td> 11</td>\n",
       "      <td> 12</td>\n",
       "      <td> 9</td>\n",
       "      <td> 5</td>\n",
       "      <td> 1</td>\n",
       "      <td> 2</td>\n",
       "    </tr>\n",
       "    <tr>\n",
       "      <th>uu</th>\n",
       "      <td>  0</td>\n",
       "      <td>   0</td>\n",
       "      <td>   6</td>\n",
       "      <td>  2</td>\n",
       "      <td> 17</td>\n",
       "      <td>  2</td>\n",
       "      <td>  2</td>\n",
       "      <td>  0</td>\n",
       "      <td>  0</td>\n",
       "      <td> 0</td>\n",
       "      <td> 0</td>\n",
       "      <td> 0</td>\n",
       "      <td> 0</td>\n",
       "    </tr>\n",
       "    <tr>\n",
       "      <th>uw</th>\n",
       "      <td>  0</td>\n",
       "      <td>  19</td>\n",
       "      <td>   7</td>\n",
       "      <td>  7</td>\n",
       "      <td>  2</td>\n",
       "      <td>  0</td>\n",
       "      <td>  0</td>\n",
       "      <td>  0</td>\n",
       "      <td>  0</td>\n",
       "      <td> 0</td>\n",
       "      <td> 0</td>\n",
       "      <td> 0</td>\n",
       "      <td> 0</td>\n",
       "    </tr>\n",
       "  </tbody>\n",
       "</table>\n",
       "</div>"
      ],
      "text/plain": [
       "Version   0    1    2   3   4   5   6   7   8  9  A  B  C\n",
       "Src                                                      \n",
       "ak        0  109  208  17   0   0   0   0   0  0  0  0  0\n",
       "ci        0    0   71   1  61   6   3   0   0  0  0  0  0\n",
       "hv        0   14   12   1   4   0   0   0   0  0  0  0  0\n",
       "ld        0    2    0   0   0   0   0   0   0  0  0  0  0\n",
       "mb        0    1   14   0   0   0   0   0   0  0  0  0  0\n",
       "nc       83   28   31  36   2   6   1   1   0  0  0  0  1\n",
       "nm        0    0    0   0   0   0   0   0   0  0  5  0  0\n",
       "nn        0   54    0   0   0   0   0   0   0  0  0  0  0\n",
       "pr       60    0    0   0   0   0   0   0   0  0  0  0  0\n",
       "se        0    0    0   0   0   0   0   0   0  0  3  1  0\n",
       "us        0    0    2   4  23  24  26  11  12  9  5  1  2\n",
       "uu        0    0    6   2  17   2   2   0   0  0  0  0  0\n",
       "uw        0   19    7   7   2   0   0   0   0  0  0  0  0"
      ]
     },
     "execution_count": 103,
     "metadata": {},
     "output_type": "execute_result"
    }
   ],
   "source": [
    "#compute frequency table\n",
    "pd.crosstab(eData['Src'],eData['Version'])"
   ]
  },
  {
   "cell_type": "code",
   "execution_count": 105,
   "metadata": {
    "collapsed": false
   },
   "outputs": [
    {
     "data": {
      "text/plain": [
       "True"
      ]
     },
     "execution_count": 105,
     "metadata": {},
     "output_type": "execute_result"
    }
   ],
   "source": [
    "# look to see if a given column has any values matching the criteria:\n",
    "(eData['Lat']> 40).any()"
   ]
  },
  {
   "cell_type": "code",
   "execution_count": 106,
   "metadata": {
    "collapsed": false
   },
   "outputs": [
    {
     "data": {
      "text/plain": [
       "False"
      ]
     },
     "execution_count": 106,
     "metadata": {},
     "output_type": "execute_result"
    }
   ],
   "source": [
    "# check if all values match the criteria\n",
    "(eData['Lat'] > 40).all()"
   ]
  },
  {
   "cell_type": "code",
   "execution_count": 110,
   "metadata": {
    "collapsed": false
   },
   "outputs": [
    {
     "data": {
      "text/html": [
       "<div style=\"max-height:1000px;max-width:1500px;overflow:auto;\">\n",
       "<table border=\"1\" class=\"dataframe\">\n",
       "  <thead>\n",
       "    <tr style=\"text-align: right;\">\n",
       "      <th></th>\n",
       "      <th>Lat</th>\n",
       "      <th>Lon</th>\n",
       "    </tr>\n",
       "  </thead>\n",
       "  <tbody>\n",
       "    <tr>\n",
       "      <th>3   </th>\n",
       "      <td> 49.5921</td>\n",
       "      <td> 156.1113</td>\n",
       "    </tr>\n",
       "    <tr>\n",
       "      <th>70  </th>\n",
       "      <td> 51.3785</td>\n",
       "      <td> 179.7492</td>\n",
       "    </tr>\n",
       "    <tr>\n",
       "      <th>107 </th>\n",
       "      <td> 51.0590</td>\n",
       "      <td> 178.2611</td>\n",
       "    </tr>\n",
       "    <tr>\n",
       "      <th>124 </th>\n",
       "      <td> 44.8360</td>\n",
       "      <td> 143.1169</td>\n",
       "    </tr>\n",
       "    <tr>\n",
       "      <th>173 </th>\n",
       "      <td> 41.6827</td>\n",
       "      <td> 142.5406</td>\n",
       "    </tr>\n",
       "    <tr>\n",
       "      <th>268 </th>\n",
       "      <td> 51.9374</td>\n",
       "      <td> 179.7232</td>\n",
       "    </tr>\n",
       "    <tr>\n",
       "      <th>350 </th>\n",
       "      <td> 52.1673</td>\n",
       "      <td> 179.0996</td>\n",
       "    </tr>\n",
       "    <tr>\n",
       "      <th>437 </th>\n",
       "      <td> 45.9104</td>\n",
       "      <td> 143.0497</td>\n",
       "    </tr>\n",
       "    <tr>\n",
       "      <th>494 </th>\n",
       "      <td> 52.0745</td>\n",
       "      <td> 178.9349</td>\n",
       "    </tr>\n",
       "    <tr>\n",
       "      <th>507 </th>\n",
       "      <td> 52.3508</td>\n",
       "      <td> 179.6756</td>\n",
       "    </tr>\n",
       "    <tr>\n",
       "      <th>554 </th>\n",
       "      <td> 41.0325</td>\n",
       "      <td>  34.2808</td>\n",
       "    </tr>\n",
       "    <tr>\n",
       "      <th>588 </th>\n",
       "      <td> 51.1868</td>\n",
       "      <td> 179.5743</td>\n",
       "    </tr>\n",
       "    <tr>\n",
       "      <th>655 </th>\n",
       "      <td> 52.2935</td>\n",
       "      <td> 159.6123</td>\n",
       "    </tr>\n",
       "    <tr>\n",
       "      <th>775 </th>\n",
       "      <td> 52.2515</td>\n",
       "      <td> 159.7412</td>\n",
       "    </tr>\n",
       "    <tr>\n",
       "      <th>782 </th>\n",
       "      <td> 40.0669</td>\n",
       "      <td> 142.8767</td>\n",
       "    </tr>\n",
       "    <tr>\n",
       "      <th>938 </th>\n",
       "      <td> 52.0691</td>\n",
       "      <td> 160.3425</td>\n",
       "    </tr>\n",
       "    <tr>\n",
       "      <th>1014</th>\n",
       "      <td> 40.2128</td>\n",
       "      <td> 142.4080</td>\n",
       "    </tr>\n",
       "  </tbody>\n",
       "</table>\n",
       "</div>"
      ],
      "text/plain": [
       "          Lat       Lon\n",
       "3     49.5921  156.1113\n",
       "70    51.3785  179.7492\n",
       "107   51.0590  178.2611\n",
       "124   44.8360  143.1169\n",
       "173   41.6827  142.5406\n",
       "268   51.9374  179.7232\n",
       "350   52.1673  179.0996\n",
       "437   45.9104  143.0497\n",
       "494   52.0745  178.9349\n",
       "507   52.3508  179.6756\n",
       "554   41.0325   34.2808\n",
       "588   51.1868  179.5743\n",
       "655   52.2935  159.6123\n",
       "775   52.2515  159.7412\n",
       "782   40.0669  142.8767\n",
       "938   52.0691  160.3425\n",
       "1014  40.2128  142.4080"
      ]
     },
     "execution_count": 110,
     "metadata": {},
     "output_type": "execute_result"
    }
   ],
   "source": [
    "# exploring subsets; (similar to R's & operator)\n",
    "eData[(eData['Lat']> 40) & (eData['Lon']> 30)][['Lat','Lon']]"
   ]
  },
  {
   "cell_type": "markdown",
   "metadata": {},
   "source": [
    "#### Camera data"
   ]
  },
  {
   "cell_type": "code",
   "execution_count": 112,
   "metadata": {
    "collapsed": false
   },
   "outputs": [
    {
     "name": "stdout",
     "output_type": "stream",
     "text": [
      "['The current date is: Thu 08/01/2013 ', 'Enter the new date: (mm-dd-yy) ']\n"
     ]
    }
   ],
   "source": [
    "cameraData = pd.read_csv('Baltimore_Fixed_Speed_Cameras.csv')\n",
    "dateDownloaded = !date\n",
    "print dateDownloaded"
   ]
  },
  {
   "cell_type": "code",
   "execution_count": 113,
   "metadata": {
    "collapsed": false
   },
   "outputs": [
    {
     "data": {
      "text/html": [
       "<pre>\n",
       "&ltclass 'pandas.core.frame.DataFrame'&gt\n",
       "Int64Index: 5 entries, 0 to 4\n",
       "Data columns (total 6 columns):\n",
       "address         5  non-null values\n",
       "direction       5  non-null values\n",
       "street          5  non-null values\n",
       "crossStreet     5  non-null values\n",
       "intersection    5  non-null values\n",
       "Location 1      5  non-null values\n",
       "dtypes: object(6)\n",
       "</pre>"
      ],
      "text/plain": [
       "                          address direction       street   crossStreet  \\\n",
       "0        S CATON AVE & BENSON AVE       N/B    Caton Ave    Benson Ave   \n",
       "1        S CATON AVE & BENSON AVE       S/B    Caton Ave    Benson Ave   \n",
       "2  WILKENS AVE & PINE HEIGHTS AVE       E/B  Wilkens Ave  Pine Heights   \n",
       "3         THE ALAMEDA & E 33RD ST       S/B  The Alameda       33rd St   \n",
       "4         E 33RD ST & THE ALAMEDA       E/B       E 33rd   The Alameda   \n",
       "\n",
       "                 intersection                       Location 1  \n",
       "0      Caton Ave & Benson Ave  (39.2693779962, -76.6688185297)  \n",
       "1      Caton Ave & Benson Ave  (39.2693157898, -76.6689698176)  \n",
       "2  Wilkens Ave & Pine Heights   (39.2720252302, -76.676960806)  \n",
       "3      The Alameda  & 33rd St  (39.3285013141, -76.5953545714)  \n",
       "4       E 33rd  & The Alameda  (39.3283410623, -76.5953594625)  "
      ]
     },
     "execution_count": 113,
     "metadata": {},
     "output_type": "execute_result"
    }
   ],
   "source": [
    "cameraData.head()"
   ]
  },
  {
   "cell_type": "code",
   "execution_count": 114,
   "metadata": {
    "collapsed": false
   },
   "outputs": [
    {
     "data": {
      "text/plain": [
       "Index([address, direction, street, crossStreet, intersection, Location 1], dtype=object)"
      ]
     },
     "execution_count": 114,
     "metadata": {},
     "output_type": "execute_result"
    }
   ],
   "source": [
    "cameraData.columns"
   ]
  },
  {
   "cell_type": "code",
   "execution_count": 115,
   "metadata": {
    "collapsed": false
   },
   "outputs": [
    {
     "data": {
      "text/plain": [
       "address                S CATON AVE & BENSON AVE\n",
       "direction                                   N/B\n",
       "street                                Caton Ave\n",
       "crossStreet                          Benson Ave\n",
       "intersection             Caton Ave & Benson Ave\n",
       "Location 1      (39.2693779962, -76.6688185297)\n",
       "Name: 0, dtype: object"
      ]
     },
     "execution_count": 115,
     "metadata": {},
     "output_type": "execute_result"
    }
   ],
   "source": [
    "cameraData.ix[0]"
   ]
  },
  {
   "cell_type": "code",
   "execution_count": null,
   "metadata": {
    "collapsed": false
   },
   "outputs": [],
   "source": []
  }
 ],
 "metadata": {
  "kernelspec": {
   "display_name": "Python 3",
   "language": "python",
   "name": "python3"
  },
  "language_info": {
   "codemirror_mode": {
    "name": "ipython",
    "version": 3
   },
   "file_extension": ".py",
   "mimetype": "text/x-python",
   "name": "python",
   "nbconvert_exporter": "python",
   "pygments_lexer": "ipython3",
   "version": "3.5.1"
  }
 },
 "nbformat": 4,
 "nbformat_minor": 0
}
