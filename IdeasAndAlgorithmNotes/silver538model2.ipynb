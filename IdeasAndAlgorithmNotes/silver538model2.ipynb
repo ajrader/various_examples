{
 "metadata": {
  "name": ""
 },
 "nbformat": 3,
 "nbformat_minor": 0,
 "worksheets": [
  {
   "cells": [
    {
     "cell_type": "code",
     "collapsed": false,
     "input": [
      "import datetime\n",
      "\n",
      "import numpy as np\n",
      "import statsmodels.api as sm\n",
      "import matplotlib.pyplot as plt\n",
      "import pandas\n",
      "from scipy import stats\n",
      "np.set_printoptions(precision=4, suppress=True)\n",
      "pandas.set_printoptions(notebook_repr_html=False,\n",
      "                        precision=4,\n",
      "                        max_columns=12, column_space=10,\n",
      "                        max_colwidth=25)"
     ],
     "language": "python",
     "metadata": {},
     "outputs": [
      {
       "output_type": "stream",
       "stream": "stderr",
       "text": [
        "C:\\Python27\\lib\\site-packages\\pandas\\core\\format.py:1612: FutureWarning: set_printoptions is deprecated, use set_option instead\n",
        "  FutureWarning)\n"
       ]
      }
     ],
     "prompt_number": 1
    },
    {
     "cell_type": "code",
     "collapsed": false,
     "input": [
      "today = datetime.datetime(2012,10,2)\n",
      "today"
     ],
     "language": "python",
     "metadata": {},
     "outputs": [],
     "prompt_number": 2
    },
    {
     "cell_type": "heading",
     "level": 1,
     "metadata": {},
     "source": [
      "Outline: This is a copy of https://github.com/jseabold/538model"
     ]
    },
    {
     "cell_type": "heading",
     "level": 6,
     "metadata": {},
     "source": [
      "Methodology was obtained from the old 538 Blog (http://www.fivethirtyeight.com/2008/03/frequently-asked-questions-last-revised.html) with updates at the new site hosted by the New York Times (http://fivethirtyeight.blogs.nytimes.com/methodology/)"
     ]
    },
    {
     "cell_type": "heading",
     "level": 5,
     "metadata": {},
     "source": [
      "<itemize>\n",
      "<item> Polling Average: Aggregate polling data, and weight it according to our reliability scores.</item>\n",
      "Trend Adjustment: Adjust the polling data for current trends.\n",
      "Regression: Analyze demographic data in each state by means of regression analysis.\n",
      "Snapshot: Combine the polling data with the regression analysis to produce an electoral snapshot. This is our estimate of what would happen if the election were held today.\n",
      "Projection: Translate the snapshot into a projection of what will happen in November, by allocating out undecided voters and applying a discount to current polling leads based on historical trends.\n",
      "Simulation: Simulate our results 10,000 times based on the results of the projection to account for the uncertainty in our estimates. The end result is a robust probabilistic assessment of what will happen in each state as well as in the nation as a whole.\n",
      "</itemize>"
     ]
    },
    {
     "cell_type": "heading",
     "level": 2,
     "metadata": {},
     "source": [
      "Get the Data"
     ]
    },
    {
     "cell_type": "heading",
     "level": 3,
     "metadata": {},
     "source": [
      "Consensus forecast of GDP growth over the next two economic quarters\n",
      "\n",
      "(Median of WSJ's monthly forecasting panel)"
     ]
    },
    {
     "cell_type": "heading",
     "level": 4,
     "metadata": {},
     "source": [
      "The process for creating an econimic index for the 538 model is described in http://fivethirtyeight.blogs.nytimes.com/2012/07/05/measuring-the-effect-of-the-economy-on-elections/#more-31732\n",
      "Values obtained from WSJ.com on 10/02/12"
     ]
    },
    {
     "cell_type": "code",
     "collapsed": false,
     "input": [
      "forecasts = pandas.read_table(\"../../../data/pydata/538/wsj_forecast.csv\", skiprows=2)\n",
      "forecasts"
     ],
     "language": "python",
     "metadata": {},
     "outputs": [
      {
       "metadata": {},
       "output_type": "pyout",
       "prompt_number": 5,
       "text": [
        "                  Forecaster               Institution  Q3 2012  Q4 2012\n",
        "0              Paul Ashworth         Capital Economics      2.0      1.5\n",
        "1          Nariman Behravesh        IHS Global Insight      1.5      1.6\n",
        "2   Richard Berner/ David...            Morgan Stanley      NaN      NaN\n",
        "3            Ram Bhagavatula     Combinatorics Capital      2.0      4.0\n",
        "4          Beth Ann Bovino *       Standard and Poor's      NaN      NaN\n",
        "5              Jay Brinkmann  Mortgage Bankers Asso...      1.8      1.9\n",
        "6              Michael Carey       Credit Agricole CIB      1.7      1.6\n",
        "7              Joseph Carson         AllianceBernstein      2.5      3.5\n",
        "8             Julia Coronado               BNP Paribas      1.4      1.6\n",
        "9              Mike Cosgrove                Econoclast      1.6      1.6\n",
        "10              Lou Crandall            Wrightson ICAP      1.8      1.8\n",
        "11            J. Dewey Daane     Vanderbilt University      1.5      1.5\n",
        "12            Douglas Duncan                Fannie Mae      1.8      1.7\n",
        "13                Robert Dye             Comerica Bank      2.5      2.2\n",
        "14  Maria Fiorini Ramirez...                 MFR, Inc.      1.4      1.2\n",
        "15              Ethan Harris  Bank of America Secur...      1.3      1.0\n",
        "16              Maury Harris                       UBS      1.5      1.8\n",
        "17               Jan Hatzius      Goldman, Sachs & Co.      2.3      1.5\n",
        "18             Tracy Herrick                  Avidbank      1.8      1.8\n",
        "19          Stuart Hoffman *  PNC Financial Service...      NaN      NaN\n",
        "20                Gene Huang               FedEx Corp.      1.9      1.7\n",
        "21         William B. Hummer  Wintrust Wealth Manag...      1.7      1.9\n",
        "22              Bruce Kasman     JP Morgan Chase & Co.      1.5      2.0\n",
        "23           Joseph LaVorgna  Deutsche Bank Securit...      2.7      2.8\n",
        "24  Edward Leamer/David S...    UCLA Anderson Forecast      1.3      1.5\n",
        "25      Don Leavens/Tim Gill  NEMA Business Informa...      1.7      1.7\n",
        "26               John Lonski  Moody's Investors Ser...      1.5      1.3\n",
        "27                 Dean Maki          Barclays Capital      2.0      2.5\n",
        "28         Aneta Markowska *          Societe Generale      NaN      NaN\n",
        "29        Jim Meil/Arun Raha               Eaton Corp.      1.2      2.1\n",
        "30              Mark Nielson  MacroEcon Global Advi...      2.2      2.8\n",
        "31        Michael P. Niemira  International Council...      2.3      2.2\n",
        "32            Jim O'Sullivan  High Frequency Economics      2.5      2.0\n",
        "33         Nicholas S. Perna          Perna Associates      2.2      1.5\n",
        "34  Dr. Joel Prakken/ Chr...    Macroeconomic Advisers      1.5      1.4\n",
        "35              David Resler  Nomura Securities Int...      1.9      1.7\n",
        "36  John Ryding/Conrad De...             RDQ Economics      2.1      2.4\n",
        "37               John Silvia         Wells Fargo & Co.      1.6      1.7\n",
        "38               Allen Sinai  Decision Economics, Inc.      2.1      2.7\n",
        "39            James F. Smith  Parsec Financial Mana...      3.8      4.8\n",
        "40            Sean M. Snaith  University of Central...      1.7      1.9\n",
        "41             Sung Won Sohn  California State Univ...      1.8      1.7\n",
        "42                 Neal Soss                      CSFB      1.5      2.2\n",
        "43           Stephen Stanley       Pierpont Securities      1.0      2.1\n",
        "44           Susan M. Sterne  Economic Analysis Ass...      2.2      1.9\n",
        "45               Diane Swonk         Mesirow Financial      1.3      1.5\n",
        "46          Carl Tannenbaum         The Northern Trust      1.7      2.0\n",
        "47              Bart van Ark      The Conference Board      1.6      1.6\n",
        "48  Brian S. Wesbury/ Rob...  First Trust Advisors,...      2.5      3.0\n",
        "49         William T. Wilson  Skolkovo Institute fo...      1.9      2.2\n",
        "50              Lawrence Yun  National Association ...      1.7      2.1"
       ]
      }
     ],
     "prompt_number": 5
    },
    {
     "cell_type": "code",
     "collapsed": false,
     "input": [
      "#rename last two columns to not have blanks\n",
      "forecasts.rename(columns={\"Q3 2012\" : \"gdp_q3_2012\", \n",
      "                          \"Q4 2012\" : \"gdp_q4_2012\"}, inplace=True)\n",
      "forecasts"
     ],
     "language": "python",
     "metadata": {},
     "outputs": [
      {
       "metadata": {},
       "output_type": "pyout",
       "prompt_number": 6,
       "text": [
        "                  Forecaster               Institution  gdp_q3_2012  gdp_q4_2012\n",
        "0              Paul Ashworth         Capital Economics          2.0          1.5\n",
        "1          Nariman Behravesh        IHS Global Insight          1.5          1.6\n",
        "2   Richard Berner/ David...            Morgan Stanley          NaN          NaN\n",
        "3            Ram Bhagavatula     Combinatorics Capital          2.0          4.0\n",
        "4          Beth Ann Bovino *       Standard and Poor's          NaN          NaN\n",
        "5              Jay Brinkmann  Mortgage Bankers Asso...          1.8          1.9\n",
        "6              Michael Carey       Credit Agricole CIB          1.7          1.6\n",
        "7              Joseph Carson         AllianceBernstein          2.5          3.5\n",
        "8             Julia Coronado               BNP Paribas          1.4          1.6\n",
        "9              Mike Cosgrove                Econoclast          1.6          1.6\n",
        "10              Lou Crandall            Wrightson ICAP          1.8          1.8\n",
        "11            J. Dewey Daane     Vanderbilt University          1.5          1.5\n",
        "12            Douglas Duncan                Fannie Mae          1.8          1.7\n",
        "13                Robert Dye             Comerica Bank          2.5          2.2\n",
        "14  Maria Fiorini Ramirez...                 MFR, Inc.          1.4          1.2\n",
        "15              Ethan Harris  Bank of America Secur...          1.3          1.0\n",
        "16              Maury Harris                       UBS          1.5          1.8\n",
        "17               Jan Hatzius      Goldman, Sachs & Co.          2.3          1.5\n",
        "18             Tracy Herrick                  Avidbank          1.8          1.8\n",
        "19          Stuart Hoffman *  PNC Financial Service...          NaN          NaN\n",
        "20                Gene Huang               FedEx Corp.          1.9          1.7\n",
        "21         William B. Hummer  Wintrust Wealth Manag...          1.7          1.9\n",
        "22              Bruce Kasman     JP Morgan Chase & Co.          1.5          2.0\n",
        "23           Joseph LaVorgna  Deutsche Bank Securit...          2.7          2.8\n",
        "24  Edward Leamer/David S...    UCLA Anderson Forecast          1.3          1.5\n",
        "25      Don Leavens/Tim Gill  NEMA Business Informa...          1.7          1.7\n",
        "26               John Lonski  Moody's Investors Ser...          1.5          1.3\n",
        "27                 Dean Maki          Barclays Capital          2.0          2.5\n",
        "28         Aneta Markowska *          Societe Generale          NaN          NaN\n",
        "29        Jim Meil/Arun Raha               Eaton Corp.          1.2          2.1\n",
        "30              Mark Nielson  MacroEcon Global Advi...          2.2          2.8\n",
        "31        Michael P. Niemira  International Council...          2.3          2.2\n",
        "32            Jim O'Sullivan  High Frequency Economics          2.5          2.0\n",
        "33         Nicholas S. Perna          Perna Associates          2.2          1.5\n",
        "34  Dr. Joel Prakken/ Chr...    Macroeconomic Advisers          1.5          1.4\n",
        "35              David Resler  Nomura Securities Int...          1.9          1.7\n",
        "36  John Ryding/Conrad De...             RDQ Economics          2.1          2.4\n",
        "37               John Silvia         Wells Fargo & Co.          1.6          1.7\n",
        "38               Allen Sinai  Decision Economics, Inc.          2.1          2.7\n",
        "39            James F. Smith  Parsec Financial Mana...          3.8          4.8\n",
        "40            Sean M. Snaith  University of Central...          1.7          1.9\n",
        "41             Sung Won Sohn  California State Univ...          1.8          1.7\n",
        "42                 Neal Soss                      CSFB          1.5          2.2\n",
        "43           Stephen Stanley       Pierpont Securities          1.0          2.1\n",
        "44           Susan M. Sterne  Economic Analysis Ass...          2.2          1.9\n",
        "45               Diane Swonk         Mesirow Financial          1.3          1.5\n",
        "46          Carl Tannenbaum         The Northern Trust          1.7          2.0\n",
        "47              Bart van Ark      The Conference Board          1.6          1.6\n",
        "48  Brian S. Wesbury/ Rob...  First Trust Advisors,...          2.5          3.0\n",
        "49         William T. Wilson  Skolkovo Institute fo...          1.9          2.2\n",
        "50              Lawrence Yun  National Association ...          1.7          2.1"
       ]
      }
     ],
     "prompt_number": 6
    },
    {
     "cell_type": "raw",
     "metadata": {},
     "source": [
      "Because Pandas methods are NaN aware we can just take the median"
     ]
    },
    {
     "cell_type": "code",
     "collapsed": false,
     "input": [
      "median_forecast = forecasts[['gdp_q3_2012','gdp_q4_2012']].median()\n",
      "median_forecast"
     ],
     "language": "python",
     "metadata": {},
     "outputs": [
      {
       "metadata": {},
       "output_type": "pyout",
       "prompt_number": 8,
       "text": [
        "gdp_q3_2012    1.8\n",
        "gdp_q4_2012    1.8\n",
        "dtype: float64"
       ]
      },
      {
       "output_type": "stream",
       "stream": "stdout",
       "text": [
        "\n",
        "Caching the list of root modules, please wait!\n",
        "(This will only be done once - type '%rehashx' to reset cache!)\n",
        "\n"
       ]
      }
     ],
     "prompt_number": 8
    },
    {
     "cell_type": "heading",
     "level": 2,
     "metadata": {},
     "source": [
      "Economics State Variables from FRED"
     ]
    },
    {
     "cell_type": "heading",
     "level": 5,
     "metadata": {},
     "source": [
      "Job Growth (Nonfarm-payrolls) PAYEMS"
     ]
    },
    {
     "cell_type": "heading",
     "level": 5,
     "metadata": {},
     "source": [
      "Personal Income PI"
     ]
    },
    {
     "cell_type": "heading",
     "level": 5,
     "metadata": {},
     "source": [
      "Industrial production INDPRO"
     ]
    },
    {
     "cell_type": "heading",
     "level": 5,
     "metadata": {},
     "source": [
      "Consumption PCEC96"
     ]
    },
    {
     "cell_type": "heading",
     "level": 5,
     "metadata": {},
     "source": [
      "Inflation CPIAUCSL"
     ]
    },
    {
     "cell_type": "code",
     "collapsed": false,
     "input": [
      "from pandas.io.data import DataReader"
     ],
     "language": "python",
     "metadata": {},
     "outputs": [],
     "prompt_number": 9
    },
    {
     "cell_type": "code",
     "collapsed": false,
     "input": [
      "series = dict(jobs = \"PAYEMS\",\n",
      "              income = \"PI\",\n",
      "              prod = \"INDPRO\",\n",
      "              cons = \"PCEC96\",\n",
      "              prices = \"CPIAUCSL\")"
     ],
     "language": "python",
     "metadata": {},
     "outputs": [],
     "prompt_number": 10
    },
    {
     "cell_type": "code",
     "collapsed": false,
     "input": [
      "#indicators = []\n",
      "#for variable in series:\n",
      "#    data = DataReader(series[variable], \"fred\", start=\"2010-1-1\")\n",
      "#    # renaming not necessary in master\n",
      "#    data.rename(columns={\"VALUE\" : variable}, inplace=True)\n",
      "#    indicators.append(data)"
     ],
     "language": "python",
     "metadata": {},
     "outputs": [],
     "prompt_number": 11
    },
    {
     "cell_type": "code",
     "collapsed": false,
     "input": [
      "#indicators = pandas.concat(indicators, axis=1)"
     ],
     "language": "python",
     "metadata": {},
     "outputs": [],
     "prompt_number": 12
    },
    {
     "cell_type": "code",
     "collapsed": false,
     "input": [
      "#indicators"
     ],
     "language": "python",
     "metadata": {},
     "outputs": [],
     "prompt_number": 13
    },
    {
     "cell_type": "heading",
     "level": 2,
     "metadata": {},
     "source": [
      "Polling Data"
     ]
    },
    {
     "cell_type": "heading",
     "level": 5,
     "metadata": {},
     "source": [
      "I used Python to scrape the Real Clear Politics website (http://nbviewer.ipython.org/urls/github.com/jseabold/538model/raw/master/realclearpolitics.com) and downloaded data for the 2004 and 2008 elections. The scraping scripts are available in the github repositor for this talk. State by state historicla data for the 2004 and 2008 Presidential elections were obtained from electoral-vote.com (http://nbviewer.ipython.org/urls/github.com/jseabold/538model/raw/master/www.electorical-vote.com)"
     ]
    },
    {
     "cell_type": "heading",
     "level": 3,
     "metadata": {},
     "source": [
      "Polling Average"
     ]
    },
    {
     "cell_type": "heading",
     "level": 4,
     "metadata": {},
     "source": [
      "Details can be found at the 538 blog (http://www.fivethirtyeight.com/2008/03/pollster-ratings-updated.html)"
     ]
    },
    {
     "cell_type": "code",
     "collapsed": false,
     "input": [
      "tossup = [\"Colorado\", \"Florida\", \"Iowa\", \"New Hamshire\", \"Nevada\", \"Ohio\", \"Virginia\", \"Wisconsin\"]"
     ],
     "language": "python",
     "metadata": {},
     "outputs": [],
     "prompt_number": 15
    },
    {
     "cell_type": "code",
     "collapsed": false,
     "input": [
      "national_data2012 = pandas.read_table(\"../../../data/pydata/538/2012_poll_data.csv\")\n",
      "national_data2012"
     ],
     "language": "python",
     "metadata": {},
     "outputs": [
      {
       "metadata": {},
       "output_type": "pyout",
       "prompt_number": 16,
       "text": [
        "<class 'pandas.core.frame.DataFrame'>\n",
        "Int64Index: 290 entries, 0 to 289\n",
        "Data columns (total 7 columns):\n",
        "Poll          290  non-null values\n",
        "Date          290  non-null values\n",
        "Sample        290  non-null values\n",
        "MoE           290  non-null values\n",
        "Obama (D)     290  non-null values\n",
        "Romney (R)    290  non-null values\n",
        "Spread        290  non-null values\n",
        "dtypes: float64(2), object(5)"
       ]
      }
     ],
     "prompt_number": 16
    },
    {
     "cell_type": "code",
     "collapsed": false,
     "input": [
      "national_data2012.rename(columns={\"Poll\" : \"Pollster\"}, inplace=True)\n",
      "national_data2012[\"obama_spread\"] = national_data2012[\"Obama (D)\"] - national_data2012[\"Romney (R)\"]"
     ],
     "language": "python",
     "metadata": {},
     "outputs": [],
     "prompt_number": 17
    },
    {
     "cell_type": "code",
     "collapsed": false,
     "input": [
      "national_data2012[\"State\"] = \"USA\""
     ],
     "language": "python",
     "metadata": {},
     "outputs": [],
     "prompt_number": 18
    },
    {
     "cell_type": "code",
     "collapsed": false,
     "input": [
      "state_data2012 = pandas.read_table(\"../../../data/pydata/538/2012_poll_data_states.csv\")\n",
      "state_data2012"
     ],
     "language": "python",
     "metadata": {},
     "outputs": [
      {
       "metadata": {},
       "output_type": "pyout",
       "prompt_number": 19,
       "text": [
        "<class 'pandas.core.frame.DataFrame'>\n",
        "Int64Index: 767 entries, 0 to 766\n",
        "Data columns (total 8 columns):\n",
        "Date          767  non-null values\n",
        "MoE           767  non-null values\n",
        "Obama (D)     767  non-null values\n",
        "Poll          767  non-null values\n",
        "Romney (R)    767  non-null values\n",
        "Sample        767  non-null values\n",
        "Spread        767  non-null values\n",
        "State         767  non-null values\n",
        "dtypes: float64(2), object(6)"
       ]
      }
     ],
     "prompt_number": 19
    },
    {
     "cell_type": "code",
     "collapsed": false,
     "input": [
      "state_data2012[\"obama_spread\"] = state_data2012[\"Obama (D)\"] - state_data2012[\"Romney (R)\"]"
     ],
     "language": "python",
     "metadata": {},
     "outputs": [],
     "prompt_number": 20
    },
    {
     "cell_type": "code",
     "collapsed": false,
     "input": [
      "state_data2012.rename(columns=dict(Poll=\"Pollster\"), inplace=True);"
     ],
     "language": "python",
     "metadata": {},
     "outputs": [],
     "prompt_number": 21
    },
    {
     "cell_type": "code",
     "collapsed": false,
     "input": [
      "state_data2012.MoE"
     ],
     "language": "python",
     "metadata": {},
     "outputs": [
      {
       "metadata": {},
       "output_type": "pyout",
       "prompt_number": 22,
       "text": [
        "0      --\n",
        "1     4.5\n",
        "2     4.6\n",
        "3     5.0\n",
        "4     4.4\n",
        "5     4.4\n",
        "6     4.0\n",
        "7     3.0\n",
        "8     5.0\n",
        "9     4.4\n",
        "10    4.2\n",
        "11    2.8\n",
        "12    4.2\n",
        "13    5.0\n",
        "14    4.3\n",
        "...\n",
        "752    2.8\n",
        "753     --\n",
        "754    4.0\n",
        "755    3.8\n",
        "756    4.5\n",
        "757    4.5\n",
        "758    5.0\n",
        "759    3.2\n",
        "760    4.5\n",
        "761    4.5\n",
        "762    2.4\n",
        "763    3.4\n",
        "764    2.9\n",
        "765    3.5\n",
        "766    3.4\n",
        "Name: MoE, Length: 767, dtype: object"
       ]
      }
     ],
     "prompt_number": 22
    },
    {
     "cell_type": "code",
     "collapsed": false,
     "input": [
      "# replace '--' with NaN\n",
      "state_data2012.MoE = state_data2012.MoE.replace(\"--\", \"nan\").astype(float)"
     ],
     "language": "python",
     "metadata": {},
     "outputs": [],
     "prompt_number": 23
    },
    {
     "cell_type": "code",
     "collapsed": false,
     "input": [
      "state_data2012"
     ],
     "language": "python",
     "metadata": {},
     "outputs": [
      {
       "metadata": {},
       "output_type": "pyout",
       "prompt_number": 24,
       "text": [
        "<class 'pandas.core.frame.DataFrame'>\n",
        "Int64Index: 767 entries, 0 to 766\n",
        "Data columns (total 9 columns):\n",
        "Date            767  non-null values\n",
        "MoE             736  non-null values\n",
        "Obama (D)       767  non-null values\n",
        "Pollster        767  non-null values\n",
        "Romney (R)      767  non-null values\n",
        "Sample          767  non-null values\n",
        "Spread          767  non-null values\n",
        "State           767  non-null values\n",
        "obama_spread    767  non-null values\n",
        "dtypes: float64(4), object(5)"
       ]
      }
     ],
     "prompt_number": 24
    },
    {
     "cell_type": "code",
     "collapsed": false,
     "input": [
      "state_data2012 = state_data2012.set_index([\"Pollster\", \"State\", \"Date\"]).drop(\"RCP Average\", level=0).reset_index()"
     ],
     "language": "python",
     "metadata": {},
     "outputs": [],
     "prompt_number": 25
    },
    {
     "cell_type": "code",
     "collapsed": false,
     "input": [
      "state_data2012.head(5)"
     ],
     "language": "python",
     "metadata": {},
     "outputs": [
      {
       "metadata": {},
       "output_type": "pyout",
       "prompt_number": 27,
       "text": [
        "            Pollster State         Date  MoE  Obama (D)  Romney (R)  Sample  \\\n",
        "0  Rasmussen Reports    WA  9/26 - 9/26  4.5         52          41  500 LV   \n",
        "1   Gravis Marketing    WA  9/21 - 9/22  4.6         56          39  625 LV   \n",
        "2         Elway Poll    WA   9/9 - 9/12  5.0         53          36  405 RV   \n",
        "3          SurveyUSA    WA    9/7 - 9/9  4.4         54          38  524 LV   \n",
        "4          SurveyUSA    WA    8/1 - 8/2  4.4         54          37  524 LV   \n",
        "\n",
        "      Spread  obama_spread  \n",
        "0  Obama +11            11  \n",
        "1  Obama +17            17  \n",
        "2  Obama +17            17  \n",
        "3  Obama +16            16  \n",
        "4  Obama +17            17  "
       ]
      }
     ],
     "prompt_number": 27
    },
    {
     "cell_type": "heading",
     "level": 5,
     "metadata": {},
     "source": [
      "Clean up the sample numbers to make them real numbers"
     ]
    },
    {
     "cell_type": "code",
     "collapsed": false,
     "input": [
      "state_data2012.Sample"
     ],
     "language": "python",
     "metadata": {},
     "outputs": [
      {
       "metadata": {},
       "output_type": "pyout",
       "prompt_number": 28,
       "text": [
        "0      500 LV\n",
        "1      625 LV\n",
        "2      405 RV\n",
        "3      524 LV\n",
        "4      524 LV\n",
        "5      630 RV\n",
        "6     1073 RV\n",
        "7      408 RV\n",
        "8      500 LV\n",
        "9      557 RV\n",
        "10    1264 RV\n",
        "11     572 RV\n",
        "12     405 RV\n",
        "13     549 LV\n",
        "14     469 RV\n",
        "...\n",
        "724     600 LV\n",
        "725    1224 RV\n",
        "726     625 LV\n",
        "727     656 LV\n",
        "728     500 LV\n",
        "729     500 LV\n",
        "730     450 LV\n",
        "731     934 RV\n",
        "732     500 LV\n",
        "733     500 LV\n",
        "734    1625 RV\n",
        "735     819 RV\n",
        "736    1176 RV\n",
        "737     796 LV\n",
        "738     817 RV\n",
        "Name: Sample, Length: 739, dtype: object"
       ]
      }
     ],
     "prompt_number": 28
    },
    {
     "cell_type": "code",
     "collapsed": false,
     "input": [
      "state_data2012.Sample = state_data2012.Sample.str.replace(\"\\s*([L|R]V)|A\", \"\") # 20 RV\n",
      "state_data2012.Sample = state_data2012.Sample.str.replace(\"\\s*--\", \"nan\") # --\n",
      "state_data2012.Sample = state_data2012.Sample.str.replace(\"^$\", \"nan\")\n",
      "\n",
      "national_data2012.Sample = national_data2012.Sample.str.replace(\"\\s*([L|R]V)|A\", \"\") # 20 RV\n",
      "national_data2012.Sample = national_data2012.Sample.str.replace(\"\\s*--\", \"nan\") # --\n",
      "national_data2012.Sample = national_data2012.Sample.str.replace(\"^$\", \"nan\")"
     ],
     "language": "python",
     "metadata": {},
     "outputs": [],
     "prompt_number": 29
    },
    {
     "cell_type": "code",
     "collapsed": false,
     "input": [
      "state_data2012.Sample.astype(float)"
     ],
     "language": "python",
     "metadata": {},
     "outputs": [
      {
       "metadata": {},
       "output_type": "pyout",
       "prompt_number": 30,
       "text": [
        "0      500\n",
        "1      625\n",
        "2      405\n",
        "3      524\n",
        "4      524\n",
        "5      630\n",
        "6     1073\n",
        "7      408\n",
        "8      500\n",
        "9      557\n",
        "10    1264\n",
        "11     572\n",
        "12     405\n",
        "13     549\n",
        "14     469\n",
        "...\n",
        "724     600\n",
        "725    1224\n",
        "726     625\n",
        "727     656\n",
        "728     500\n",
        "729     500\n",
        "730     450\n",
        "731     934\n",
        "732     500\n",
        "733     500\n",
        "734    1625\n",
        "735     819\n",
        "736    1176\n",
        "737     796\n",
        "738     817\n",
        "Name: Sample, Length: 739, dtype: float64"
       ]
      }
     ],
     "prompt_number": 30
    },
    {
     "cell_type": "code",
     "collapsed": false,
     "input": [
      "state_data2012.Sample = state_data2012.Sample.astype(float)\n",
      "national_data2012.Sample = national_data2012.Sample.astype(float)"
     ],
     "language": "python",
     "metadata": {},
     "outputs": [],
     "prompt_number": 31
    },
    {
     "cell_type": "heading",
     "level": 5,
     "metadata": {},
     "source": [
      "The 2012 data is currently in order of time by state but doesn't have any years."
     ]
    },
    {
     "cell_type": "code",
     "collapsed": false,
     "input": [
      "#dates2012.get_group((\"OH\",\"NBC News/Marist\"))"
     ],
     "language": "python",
     "metadata": {},
     "outputs": [],
     "prompt_number": 32
    },
    {
     "cell_type": "code",
     "collapsed": false,
     "input": [
      "state_data2012[\"start_date\"] = \"\"\n",
      "state_data2012[\"end_date\"] = \"\"\n",
      "dates2012 = state_data2012.groupby([\"State\", \"Pollster\"])[\"Date\"]\n",
      "for _, date in dates2012:\n",
      "    year = 2012\n",
      "    # checked by hand, none straddle years\n",
      "    changes = np.r_[False, np.diff(map(int, [i[0].split('/')[0] for \n",
      "                    i in date.str.split(' - ')])) > 0]\n",
      "    for j, (idx, dt) in enumerate(date.iteritems()):\n",
      "        dt1, dt2 = dt.split(\" - \")\n",
      "        year -= changes[j]\n",
      "        # check for ones that haven't polled in a year - soft check\n",
      "        # could be wrong for some...\n",
      "        if year == 2012 and (int(dt1.split(\"/\")[0]) > today.month and \n",
      "                             int(dt1.split(\"/\")[1]) > today.day):\n",
      "            year -= 1\n",
      "        dt1 += \"/\" + str(year)\n",
      "        dt2 += \"/\" + str(year)\n",
      "        state_data2012.set_value(idx, \"start_date\", dt1)\n",
      "        state_data2012.set_value(idx, \"end_date\", dt2)"
     ],
     "language": "python",
     "metadata": {},
     "outputs": [],
     "prompt_number": 33
    },
    {
     "cell_type": "code",
     "collapsed": false,
     "input": [
      "national_data2012[\"start_date\"] = \"\"\n",
      "national_data2012[\"end_date\"] = \"\"\n",
      "dates2012 = national_data2012.groupby([\"Pollster\"])[\"Date\"]\n",
      "for _, date in dates2012:\n",
      "    year = 2012\n",
      "    # checked by hand, none straddle years\n",
      "    changes = np.r_[False, np.diff(map(int, [i[0].split('/')[0] for \n",
      "                    i in date.str.split(' - ')])) > 0]\n",
      "    for j, (idx, dt) in enumerate(date.iteritems()):\n",
      "        dt1, dt2 = dt.split(\" - \")\n",
      "        year -= changes[j]\n",
      "        dt1 += \"/\" + str(year)\n",
      "        dt2 += \"/\" + str(year)\n",
      "        national_data2012.set_value(idx, \"start_date\", dt1)\n",
      "        national_data2012.set_value(idx, \"end_date\", dt2)"
     ],
     "language": "python",
     "metadata": {},
     "outputs": [],
     "prompt_number": 34
    },
    {
     "cell_type": "code",
     "collapsed": false,
     "input": [
      "state_data2012.head(10)"
     ],
     "language": "python",
     "metadata": {},
     "outputs": [
      {
       "metadata": {},
       "output_type": "pyout",
       "prompt_number": 35,
       "text": [
        "             Pollster State         Date  MoE  Obama (D)  Romney (R)  Sample  \\\n",
        "0   Rasmussen Reports    WA  9/26 - 9/26  4.5         52          41     500   \n",
        "1    Gravis Marketing    WA  9/21 - 9/22  4.6         56          39     625   \n",
        "2          Elway Poll    WA   9/9 - 9/12  5.0         53          36     405   \n",
        "3           SurveyUSA    WA    9/7 - 9/9  4.4         54          38     524   \n",
        "4           SurveyUSA    WA    8/1 - 8/2  4.4         54          37     524   \n",
        "5           SurveyUSA    WA  7/16 - 7/18  4.0         46          37     630   \n",
        "6             PPP (D)    WA  6/14 - 6/17  3.0         54          41    1073   \n",
        "7          Elway Poll    WA  6/13 - 6/16  5.0         49          41     408   \n",
        "8  Strategies 360 (D)    WA  5/22 - 5/24  4.4         51          40     500   \n",
        "9           SurveyUSA    WA    5/8 - 5/9  4.2         50          36     557   \n",
        "\n",
        "      Spread  obama_spread start_date   end_date  \n",
        "0  Obama +11            11  9/26/2012  9/26/2012  \n",
        "1  Obama +17            17  9/21/2012  9/22/2012  \n",
        "2  Obama +17            17   9/9/2012  9/12/2012  \n",
        "3  Obama +16            16   9/7/2012   9/9/2012  \n",
        "4  Obama +17            17   8/1/2012   8/2/2012  \n",
        "5   Obama +9             9  7/16/2012  7/18/2012  \n",
        "6  Obama +13            13  6/14/2012  6/17/2012  \n",
        "7   Obama +8             8  6/13/2012  6/16/2012  \n",
        "8  Obama +11            11  5/22/2012  5/24/2012  \n",
        "9  Obama +14            14   5/8/2012   5/9/2012  "
       ]
      }
     ],
     "prompt_number": 35
    },
    {
     "cell_type": "code",
     "collapsed": false,
     "input": [
      "state_data2012.start_date = state_data2012.start_date.apply(pandas.datetools.parse)\n",
      "state_data2012.end_date = state_data2012.end_date.apply(pandas.datetools.parse)\n",
      "\n",
      "national_data2012.start_date = national_data2012.start_date.apply(pandas.datetools.parse)\n",
      "national_data2012.end_date = national_data2012.end_date.apply(pandas.datetools.parse)"
     ],
     "language": "python",
     "metadata": {},
     "outputs": [],
     "prompt_number": 36
    },
    {
     "cell_type": "code",
     "collapsed": false,
     "input": [
      "def median_date(row):\n",
      "    dates = pandas.date_range(row[\"start_date\"], row[\"end_date\"])\n",
      "    median_idx = int(np.median(range(len(dates)))+.5)\n",
      "    return dates[median_idx]\n",
      "    \n",
      "state_data2012[\"poll_date\"] = [median_date(row) for i, row in state_data2012.iterrows()]\n",
      "del state_data2012[\"Date\"]\n",
      "del state_data2012[\"start_date\"]\n",
      "del state_data2012[\"end_date\"]\n",
      "\n",
      "national_data2012[\"poll_date\"] = [median_date(row) for i, row in national_data2012.iterrows()]\n",
      "del national_data2012[\"Date\"]\n",
      "del national_data2012[\"start_date\"]\n",
      "del national_data2012[\"end_date\"]"
     ],
     "language": "python",
     "metadata": {},
     "outputs": [],
     "prompt_number": 37
    },
    {
     "cell_type": "code",
     "collapsed": false,
     "input": [
      "state_data2012.head(5)"
     ],
     "language": "python",
     "metadata": {},
     "outputs": [
      {
       "metadata": {},
       "output_type": "pyout",
       "prompt_number": 38,
       "text": [
        "            Pollster State  MoE  Obama (D)  Romney (R)  Sample     Spread  \\\n",
        "0  Rasmussen Reports    WA  4.5         52          41     500  Obama +11   \n",
        "1   Gravis Marketing    WA  4.6         56          39     625  Obama +17   \n",
        "2         Elway Poll    WA  5.0         53          36     405  Obama +17   \n",
        "3          SurveyUSA    WA  4.4         54          38     524  Obama +16   \n",
        "4          SurveyUSA    WA  4.4         54          37     524  Obama +17   \n",
        "\n",
        "   obama_spread           poll_date  \n",
        "0            11 2012-09-26 00:00:00  \n",
        "1            17 2012-09-22 00:00:00  \n",
        "2            17 2012-09-11 00:00:00  \n",
        "3            16 2012-09-08 00:00:00  \n",
        "4            17 2012-08-02 00:00:00  "
       ]
      }
     ],
     "prompt_number": 38
    },
    {
     "cell_type": "code",
     "collapsed": false,
     "input": [
      "pollsters = state_data2012.Pollster.unique()\n",
      "pollsters.sort()"
     ],
     "language": "python",
     "metadata": {},
     "outputs": [],
     "prompt_number": 39
    },
    {
     "cell_type": "code",
     "collapsed": false,
     "input": [
      "len(pollsters)"
     ],
     "language": "python",
     "metadata": {},
     "outputs": [
      {
       "metadata": {},
       "output_type": "pyout",
       "prompt_number": 40,
       "text": [
        "120"
       ]
      }
     ],
     "prompt_number": 40
    },
    {
     "cell_type": "code",
     "collapsed": false,
     "input": [
      "print pandas.Series(pollsters)"
     ],
     "language": "python",
     "metadata": {},
     "outputs": [
      {
       "output_type": "stream",
       "stream": "stdout",
       "text": [
        "0             AFP/Magellan (R)\n",
        "1           AIF/McLaughlin (R)\n",
        "2                          ARG\n",
        "3         Albuquerque Journal*\n",
        "4                Arizona State\n",
        "5                Baltimore Sun\n",
        "6           Baydoun/Foster (D)\n",
        "7     Behavior Research Center\n",
        "8               Bloomberg News\n",
        "9                 Boston Globe\n",
        "10          CBS/NYT/Quinnipiac\n",
        "11        CNN/Opinion Research\n",
        "12                    CNN/Time\n",
        "13          CNU/Times-Dispatch\n",
        "14    Caddell/McLaughlin/SA...\n",
        "...\n",
        "105         The Washington Poll\n",
        "106    Tribune-Review/Susque...\n",
        "107         UMass/Boston Herald\n",
        "108         Virginian-Pilot/ODU\n",
        "109    Voter/Consumer Res/TI...\n",
        "110                WBUR/MassINC\n",
        "111                    WMUR/UNH\n",
        "112                         WPA\n",
        "113             WPR/St. Norbert\n",
        "114                        WPRI\n",
        "115                WPRI/Fleming\n",
        "116             Washington Post\n",
        "117                WeAskAmerica\n",
        "118               WeAskAmerica*\n",
        "119       Western NE University\n",
        "Length: 120, dtype: object\n"
       ]
      }
     ],
     "prompt_number": 41
    },
    {
     "cell_type": "heading",
     "level": 3,
     "metadata": {},
     "source": [
      "538 Pllster Ratings"
     ]
    },
    {
     "cell_type": "code",
     "collapsed": false,
     "input": [
      "weights = pandas.read_table(\"../../../data/pydata/538/pollster_weights.csv\")\n",
      "weights"
     ],
     "language": "python",
     "metadata": {},
     "outputs": [
      {
       "metadata": {},
       "output_type": "pyout",
       "prompt_number": 42,
       "text": [
        "                    Pollster  Weight   PIE\n",
        "0      ABC / Washington Post    0.95  1.41\n",
        "1    American Research Group    0.65  1.76\n",
        "2       CBS / New York Times    0.66  1.84\n",
        "3   Chicago Trib. / Marke...    1.16  1.13\n",
        "4     CNN / Opinion Research    0.77  1.59\n",
        "5     Columbus Dispatch (OH)    0.50  6.76\n",
        "6                   EPIC-MRA    0.75  1.65\n",
        "7   Fairleigh-Dickinson (NJ)    0.71  1.72\n",
        "8            Field Poll (CA)    1.33  0.88\n",
        "9     Fox / Opinion Dynamics    0.79  1.60\n",
        "10      Franklin Pierce (NH)    0.74  1.60\n",
        "11         Insider Advantage    0.95  1.29\n",
        "12             Keystone (PA)    0.64  1.55\n",
        "13      LA Times / Bloomberg    0.83  1.44\n",
        "14               Marist (NY)    0.69  1.73\n",
        "15               Mason-Dixon    1.10  1.15\n",
        "16                  Mitchell    0.96  1.43\n",
        "17                 Ohio Poll    1.24  1.05\n",
        "18  Public Opinion Strate...    0.63  1.81\n",
        "19  Public Policy Polling...    1.05  1.60\n",
        "20                Quinnipiac    0.95  1.34\n",
        "21                 Rasmussen    1.30  0.88\n",
        "22             Research 2000    1.01  1.20\n",
        "23                    Selzer    1.47  0.92\n",
        "24         Star Tribune (MN)    0.81  2.01\n",
        "25          Strategic Vision    0.95  1.45\n",
        "26           Suffolk (NH/MA)    0.77  1.37\n",
        "27                 SurveyUSA    1.91  0.72\n",
        "28       Univ. New Hampshire    1.08  1.26\n",
        "29        USA Today / Gallup    0.63  2.01\n",
        "30                     Zogby    0.64  1.72\n",
        "31         Zogby Interactive    0.43  4.74"
       ]
      }
     ],
     "prompt_number": 42
    },
    {
     "cell_type": "code",
     "collapsed": false,
     "input": [
      "weights.mean()"
     ],
     "language": "python",
     "metadata": {},
     "outputs": [
      {
       "metadata": {},
       "output_type": "pyout",
       "prompt_number": 43,
       "text": [
        "Weight    0.908\n",
        "PIE       1.707\n",
        "dtype: float64"
       ]
      }
     ],
     "prompt_number": 43
    },
    {
     "cell_type": "heading",
     "level": 5,
     "metadata": {},
     "source": [
      "Clean up the pollster names a bit so we can merge with the weights."
     ]
    },
    {
     "cell_type": "code",
     "collapsed": false,
     "input": [
      "import pickle\n",
      "pollster_map = pickle.load(open(\"../../../data/pydata/538/pollster_map.pkl\", \"rb\"))"
     ],
     "language": "python",
     "metadata": {},
     "outputs": [],
     "prompt_number": 45
    },
    {
     "cell_type": "code",
     "collapsed": false,
     "input": [
      "state_data2012.Pollster.replace(pollster_map, inplace=True);"
     ],
     "language": "python",
     "metadata": {},
     "outputs": [],
     "prompt_number": 46
    },
    {
     "cell_type": "code",
     "collapsed": false,
     "input": [
      "national_data2012.Pollster.replace(pollster_map, inplace=True);"
     ],
     "language": "python",
     "metadata": {},
     "outputs": [],
     "prompt_number": 47
    },
    {
     "cell_type": "heading",
     "level": 5,
     "metadata": {},
     "source": [
      "Inner merge the data with the weights"
     ]
    },
    {
     "cell_type": "code",
     "collapsed": false,
     "input": [
      "state_data2012 = state_data2012.merge(weights, how=\"inner\", on=\"Pollster\")"
     ],
     "language": "python",
     "metadata": {},
     "outputs": [],
     "prompt_number": 48
    },
    {
     "cell_type": "code",
     "collapsed": false,
     "input": [
      "state_data2012.head(5)"
     ],
     "language": "python",
     "metadata": {},
     "outputs": [
      {
       "metadata": {},
       "output_type": "pyout",
       "prompt_number": 49,
       "text": [
        "    Pollster State  MoE  Obama (D)  Romney (R)  Sample     Spread  \\\n",
        "0  Rasmussen    WA  4.5         52          41     500  Obama +11   \n",
        "1  Rasmussen    WI  4.5         49          46     500   Obama +3   \n",
        "2  Rasmussen    WI  4.5         47          48     500  Romney +1   \n",
        "3  Rasmussen    WI  4.5         49          46     500   Obama +3   \n",
        "4  Rasmussen    WI  4.5         44          47     500  Romney +3   \n",
        "\n",
        "   obama_spread           poll_date  Weight   PIE  \n",
        "0            11 2012-09-26 00:00:00     1.3  0.88  \n",
        "1             3 2012-09-17 00:00:00     1.3  0.88  \n",
        "2            -1 2012-08-15 00:00:00     1.3  0.88  \n",
        "3             3 2012-07-25 00:00:00     1.3  0.88  \n",
        "4            -3 2012-06-12 00:00:00     1.3  0.88  "
       ]
      }
     ],
     "prompt_number": 49
    },
    {
     "cell_type": "heading",
     "level": 5,
     "metadata": {},
     "source": [
      "First average each pollster for each sate."
     ]
    },
    {
     "cell_type": "heading",
     "level": 6,
     "metadata": {},
     "source": [
      "The first adjustment is to apply an exponential decat for recency of the poll. Based on research of prior elections, a weight with a half-life of 30 days since the median date the poll has been in the field is assigned to each poll."
     ]
    },
    {
     "cell_type": "code",
     "collapsed": false,
     "input": [
      "def exp_decay(days):\n",
      "    #defensive coding, accepts timddeltas\n",
      "    days = getattr(days, \"days\", days)\n",
      "    return 0.5 ** (days/30.)"
     ],
     "language": "python",
     "metadata": {},
     "outputs": [],
     "prompt_number": 50
    },
    {
     "cell_type": "code",
     "collapsed": false,
     "input": [
      "fig, ax =  plt.subplots(figsize=(12,8), subplot_kw={\"xlabel\" : \"Days\",\n",
      "                                                   \"ylabel\" : \"Weight\"})\n",
      "days = np.arange(0, 45)\n",
      "ax.plot(days, exp_decay(days));\n",
      "ax.vlines(30, 0, .99, color='r', linewidth=4)\n",
      "ax.set_ylim(0,1)\n",
      "ax.set_xlim(0, 45);"
     ],
     "language": "python",
     "metadata": {},
     "outputs": [
      {
       "metadata": {},
       "output_type": "display_data",
       "png": "[encoded data removed]",
       "text": [
        "<matplotlib.figure.Figure at 0x84a7390>"
       ]
      }
     ],
     "prompt_number": 51
    },
    {
     "cell_type": "heading",
     "level": 6,
     "metadata": {},
     "source": [
      "The second adjustment is for the sample size of the poll. Polls with a higher sample size receive a higher weight.\n",
      "Binomial sampling error = +/- 50\u22171/\u221anobs where the 50 depends on the underlying probability or population preferences, in this case assumed to be 50:50 (another way of calculating Margin of Error)"
     ]
    },
    {
     "cell_type": "code",
     "collapsed": false,
     "input": [
      "def average_error(nobs, p=50.):\n",
      "    return p*nobs**-.5"
     ],
     "language": "python",
     "metadata": {},
     "outputs": [],
     "prompt_number": 53
    },
    {
     "cell_type": "heading",
     "level": 5,
     "metadata": {},
     "source": [
      "The thinking here is that having 5 polls of 1200 is a lot like having one poll of 6000. However, we downweight older polls by only including the marginal effective sample size. Where the effective sample size is the size of the methodologically perfect poll for which we would be indifferent between it and the one we have with our current total error. Total error is determined as TE=Average Error+Long Run Pollster Induced Error. See http://www.fivethirtyeight.com/2008/04/pollster-ratings-v30.html for the detailed calculations of Pollster Induced Error."
     ]
    },
    {
     "cell_type": "code",
     "collapsed": false,
     "input": [
      "def effective_sample(total_error, p=50.):\n",
      "    return p**2 * (total_error**-2.)"
     ],
     "language": "python",
     "metadata": {},
     "outputs": [],
     "prompt_number": 54
    },
    {
     "cell_type": "code",
     "collapsed": false,
     "input": [
      "# groupby each pollster and state:\n",
      "state_pollsters = state_data2012.groupby([\"State\", \"Pollster\"])"
     ],
     "language": "python",
     "metadata": {},
     "outputs": [],
     "prompt_number": 55
    },
    {
     "cell_type": "code",
     "collapsed": false,
     "input": [
      "ppp_az = state_pollsters.get_group((\"AZ\", \"Public Policy Polling (PPP)\"))"
     ],
     "language": "python",
     "metadata": {},
     "outputs": [],
     "prompt_number": 56
    },
    {
     "cell_type": "code",
     "collapsed": false,
     "input": [
      "var_idx = [\"Pollster\", \"State\", \"Obama (D)\", \"Romney (R)\", \"Sample\", \"poll_date\"]\n",
      "ppp_az[var_idx]"
     ],
     "language": "python",
     "metadata": {},
     "outputs": [
      {
       "metadata": {},
       "output_type": "pyout",
       "prompt_number": 57,
       "text": [
        "                     Pollster State  Obama (D)  Romney (R)  Sample  \\\n",
        "258  Public Policy Polling...    AZ         44          53     993   \n",
        "259  Public Policy Polling...    AZ         41          52     833   \n",
        "260  Public Policy Polling...    AZ         43          50     500   \n",
        "261  Public Policy Polling...    AZ         47          47     743   \n",
        "262  Public Policy Polling...    AZ         42          49     500   \n",
        "263  Public Policy Polling...    AZ         44          48     623   \n",
        "264  Public Policy Polling...    AZ         43          49     599   \n",
        "265  Public Policy Polling...    AZ         43          50     617   \n",
        "\n",
        "              poll_date  \n",
        "258 2012-09-08 00:00:00  \n",
        "259 2012-07-24 00:00:00  \n",
        "260 2012-05-19 00:00:00  \n",
        "261 2012-02-18 00:00:00  \n",
        "262 2011-11-19 00:00:00  \n",
        "263 2011-04-30 00:00:00  \n",
        "264 2011-01-29 00:00:00  \n",
        "265 2010-09-20 00:00:00  "
       ]
      }
     ],
     "prompt_number": 57
    },
    {
     "cell_type": "code",
     "collapsed": false,
     "input": [
      "ppp_az.sort(\"poll_date\", ascending=False, inplace=True);"
     ],
     "language": "python",
     "metadata": {},
     "outputs": [],
     "prompt_number": 58
    },
    {
     "cell_type": "code",
     "collapsed": false,
     "input": [
      "ppp_az[\"cumulative\"] = ppp_az[\"Sample\"].cumsum()\n",
      "ppp_az[\"average_error\"] = average_error(ppp_az[\"cumulative\"])\n",
      "ppp_az[\"total_error\"] = ppp_az[\"PIE\"] + ppp_az[\"average_error\"]\n",
      "ppp_az[var_idx + [\"cumulative\"]]"
     ],
     "language": "python",
     "metadata": {},
     "outputs": [
      {
       "metadata": {},
       "output_type": "pyout",
       "prompt_number": 59,
       "text": [
        "                     Pollster State  Obama (D)  Romney (R)  Sample  \\\n",
        "258  Public Policy Polling...    AZ         44          53     993   \n",
        "259  Public Policy Polling...    AZ         41          52     833   \n",
        "260  Public Policy Polling...    AZ         43          50     500   \n",
        "261  Public Policy Polling...    AZ         47          47     743   \n",
        "262  Public Policy Polling...    AZ         42          49     500   \n",
        "263  Public Policy Polling...    AZ         44          48     623   \n",
        "264  Public Policy Polling...    AZ         43          49     599   \n",
        "265  Public Policy Polling...    AZ         43          50     617   \n",
        "\n",
        "              poll_date  cumulative  \n",
        "258 2012-09-08 00:00:00         993  \n",
        "259 2012-07-24 00:00:00        1826  \n",
        "260 2012-05-19 00:00:00        2326  \n",
        "261 2012-02-18 00:00:00        3069  \n",
        "262 2011-11-19 00:00:00        3569  \n",
        "263 2011-04-30 00:00:00        4192  \n",
        "264 2011-01-29 00:00:00        4791  \n",
        "265 2010-09-20 00:00:00        5408  "
       ]
      }
     ],
     "prompt_number": 59
    },
    {
     "cell_type": "code",
     "collapsed": false,
     "input": [
      "ppp_az[\"ESS\"] = effective_sample(ppp_az[\"total_error\"])\n",
      "ppp_az[\"MESS\"] = ppp_az[\"ESS\"].diff()\n",
      "# fill in first one\n",
      "ppp_az[\"MESS\"].fillna(ppp_az[\"ESS\"].head(1).item(), inplace=True);"
     ],
     "language": "python",
     "metadata": {},
     "outputs": [],
     "prompt_number": 60
    },
    {
     "cell_type": "code",
     "collapsed": false,
     "input": [
      "ppp_az[[\"poll_date\", \"Sample\", \"cumulative\", \"ESS\", \"MESS\"]]"
     ],
     "language": "python",
     "metadata": {},
     "outputs": [
      {
       "metadata": {},
       "output_type": "pyout",
       "prompt_number": 61,
       "text": [
        "              poll_date  Sample  cumulative      ESS     MESS\n",
        "258 2012-09-08 00:00:00     993         993  246.182  246.182\n",
        "259 2012-07-24 00:00:00     833        1826  325.801   79.618\n",
        "260 2012-05-19 00:00:00     500        2326  359.591   33.791\n",
        "261 2012-02-18 00:00:00     743        3069  399.185   39.594\n",
        "262 2011-11-19 00:00:00     500        3569  420.968   21.783\n",
        "263 2011-04-30 00:00:00     623        4192  444.241   23.273\n",
        "264 2011-01-29 00:00:00     599        4791  463.531   19.291\n",
        "265 2010-09-20 00:00:00     617        5408  480.955   17.424"
       ]
      }
     ],
     "prompt_number": 61
    },
    {
     "cell_type": "code",
     "collapsed": false,
     "input": [
      "fig, ax = plt.subplots(figsize=(12,8), subplot_kw={\"xlabel\" : \"Date\",\n",
      "                                                   \"ylabel\" : \"Error\"})\n",
      "polldates = np.arange(0,len(ppp_az))\n",
      "ax.plot(polldates,ppp_az[\"ESS\"], 'Hk')\n",
      "#days = np.arange(0, 45)\n",
      "#ax.plot(days, exp_decay(days));\n",
      "#ax.vlines(30, 0, .99, color='r', linewidth=4)\n",
      "#ax.set_ylim(0,1)\n",
      "#ax.set_xlim(0, 45);"
     ],
     "language": "python",
     "metadata": {},
     "outputs": [
      {
       "metadata": {},
       "output_type": "display_data",
       "png": "[encoded data removed]",
       "text": [
        "<matplotlib.figure.Figure at 0x85d2350>"
       ]
      }
     ],
     "prompt_number": 63
    },
    {
     "cell_type": "code",
     "collapsed": false,
     "input": [
      "#now apply this to every polling firm in every state\n",
      "def calculate_mess(group):\n",
      "    cumulative = group[\"Sample\"].cumsum()\n",
      "    ae = average_error(cumulative)\n",
      "    total_error = ae + group[\"PIE\"]\n",
      "    ess = effective_sample(total_error)\n",
      "    mess = ess.diff()\n",
      "    mess.fillna(ess.head(1).item(), inplace=True)\n",
      "    #from IPython.core.debugger import Pdb; Pdb().set_trace()\n",
      "    return pandas.concat((ess, mess), axis=1)\n",
      "\n",
      "#state_data2012[\"ESS\", \"MESS\"] \n",
      "df = state_pollsters.apply(calculate_mess)\n",
      "df.rename(columns={0 : \"ESS\", 1 : \"MESS\"}, inplace=True);"
     ],
     "language": "python",
     "metadata": {},
     "outputs": [],
     "prompt_number": 64
    },
    {
     "cell_type": "code",
     "collapsed": false,
     "input": [
      "state_data2012= state_data2012.join(df)"
     ],
     "language": "python",
     "metadata": {},
     "outputs": [],
     "prompt_number": 65
    },
    {
     "cell_type": "heading",
     "level": 5,
     "metadata": {},
     "source": [
      "Give them the time weight"
     ]
    },
    {
     "cell_type": "code",
     "collapsed": false,
     "input": [
      "td = today - state_data2012[\"poll_date\"].head(1).item()"
     ],
     "language": "python",
     "metadata": {},
     "outputs": [
      {
       "ename": "TypeError",
       "evalue": "unsupported operand type(s) for -: 'datetime.datetime' and 'long'",
       "output_type": "pyerr",
       "traceback": [
        "\u001b[1;31m---------------------------------------------------------------------------\u001b[0m\n\u001b[1;31mTypeError\u001b[0m                                 Traceback (most recent call last)",
        "\u001b[1;32m<ipython-input-67-379567f62f6d>\u001b[0m in \u001b[0;36m<module>\u001b[1;34m()\u001b[0m\n\u001b[1;32m----> 1\u001b[1;33m \u001b[0mtd\u001b[0m \u001b[1;33m=\u001b[0m \u001b[0mtoday\u001b[0m \u001b[1;33m-\u001b[0m \u001b[0mstate_data2012\u001b[0m\u001b[1;33m[\u001b[0m\u001b[1;34m\"poll_date\"\u001b[0m\u001b[1;33m]\u001b[0m\u001b[1;33m.\u001b[0m\u001b[0mhead\u001b[0m\u001b[1;33m(\u001b[0m\u001b[1;36m1\u001b[0m\u001b[1;33m)\u001b[0m\u001b[1;33m.\u001b[0m\u001b[0mitem\u001b[0m\u001b[1;33m(\u001b[0m\u001b[1;33m)\u001b[0m\u001b[1;33m\u001b[0m\u001b[0m\n\u001b[0m",
        "\u001b[1;31mTypeError\u001b[0m: unsupported operand type(s) for -: 'datetime.datetime' and 'long'"
       ]
      }
     ],
     "prompt_number": 67
    },
    {
     "cell_type": "code",
     "collapsed": false,
     "input": [
      "state_data2012[\"poll_date\"].head(1).item()"
     ],
     "language": "python",
     "metadata": {},
     "outputs": [
      {
       "metadata": {},
       "output_type": "pyout",
       "prompt_number": 68,
       "text": [
        "1348617600000000000L"
       ]
      }
     ],
     "prompt_number": 68
    },
    {
     "cell_type": "code",
     "collapsed": false,
     "input": [
      "\n"
     ],
     "language": "python",
     "metadata": {},
     "outputs": []
    }
   ],
   "metadata": {}
  }
 ]
}