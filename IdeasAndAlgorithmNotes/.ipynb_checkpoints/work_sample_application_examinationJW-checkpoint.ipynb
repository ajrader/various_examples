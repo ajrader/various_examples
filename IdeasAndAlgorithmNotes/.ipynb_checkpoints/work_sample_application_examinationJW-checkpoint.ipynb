{
 "cells": [
  {
   "cell_type": "markdown",
   "metadata": {},
   "source": [
    "### reproducing Jason White's code"
   ]
  },
  {
   "cell_type": "code",
   "execution_count": 1,
   "metadata": {
    "collapsed": true
   },
   "outputs": [],
   "source": [
    "import numpy as np\n",
    "from time import time\n",
    "from operator import itemgetter\n",
    "from scipy.stats import randint as sp_randint\n",
    "import matplotlib.pyplot as plt\n",
    "from sklearn.grid_search import GridSearchCV, RandomizedSearchCV\n",
    "from sklearn.cross_validation import train_test_split\n",
    "from sklearn.ensemble import RandomForestRegressor\n",
    "import os\n",
    "import pandas as pd\n",
    "from sklearn.metrics import mean_squared_error\n",
    "from math import sqrt\n",
    "import datetime as DT\n"
   ]
  },
  {
   "cell_type": "markdown",
   "metadata": {},
   "source": [
    "#### change to correct working directory"
   ]
  },
  {
   "cell_type": "code",
   "execution_count": 41,
   "metadata": {
    "collapsed": true
   },
   "outputs": [],
   "source": [
    "os.chdir(u'C:/Users/kesj/Documents/SFinfo/DSE/interviewStuff/WorkSample/')\n",
    "data = pd.read_csv('Data for Cleaning & Modeling.csv',low_memory=False)"
   ]
  },
  {
   "cell_type": "code",
   "execution_count": 18,
   "metadata": {
    "collapsed": false
   },
   "outputs": [
    {
     "data": {
      "text/html": [
       "<div>\n",
       "<table border=\"1\" class=\"dataframe\">\n",
       "  <thead>\n",
       "    <tr style=\"text-align: right;\">\n",
       "      <th></th>\n",
       "      <th>X1</th>\n",
       "      <th>X2</th>\n",
       "      <th>X3</th>\n",
       "      <th>X4</th>\n",
       "      <th>X5</th>\n",
       "      <th>X6</th>\n",
       "      <th>X7</th>\n",
       "      <th>X8</th>\n",
       "      <th>X9</th>\n",
       "      <th>X10</th>\n",
       "      <th>...</th>\n",
       "      <th>X23</th>\n",
       "      <th>X24</th>\n",
       "      <th>X25</th>\n",
       "      <th>X26</th>\n",
       "      <th>X27</th>\n",
       "      <th>X28</th>\n",
       "      <th>X29</th>\n",
       "      <th>X30</th>\n",
       "      <th>X31</th>\n",
       "      <th>X32</th>\n",
       "    </tr>\n",
       "  </thead>\n",
       "  <tbody>\n",
       "    <tr>\n",
       "      <th>0</th>\n",
       "      <td>11.89%</td>\n",
       "      <td>54734</td>\n",
       "      <td>80364</td>\n",
       "      <td>$25,000</td>\n",
       "      <td>$25,000</td>\n",
       "      <td>$19,080</td>\n",
       "      <td>36 months</td>\n",
       "      <td>B</td>\n",
       "      <td>B4</td>\n",
       "      <td>NaN</td>\n",
       "      <td>...</td>\n",
       "      <td>Feb-94</td>\n",
       "      <td>0</td>\n",
       "      <td>NaN</td>\n",
       "      <td>NaN</td>\n",
       "      <td>10</td>\n",
       "      <td>0</td>\n",
       "      <td>28854</td>\n",
       "      <td>52.10%</td>\n",
       "      <td>42</td>\n",
       "      <td>f</td>\n",
       "    </tr>\n",
       "    <tr>\n",
       "      <th>1</th>\n",
       "      <td>10.71%</td>\n",
       "      <td>55742</td>\n",
       "      <td>114426</td>\n",
       "      <td>$7,000</td>\n",
       "      <td>$7,000</td>\n",
       "      <td>$673</td>\n",
       "      <td>36 months</td>\n",
       "      <td>B</td>\n",
       "      <td>B5</td>\n",
       "      <td>CNN</td>\n",
       "      <td>...</td>\n",
       "      <td>Oct-00</td>\n",
       "      <td>0</td>\n",
       "      <td>NaN</td>\n",
       "      <td>NaN</td>\n",
       "      <td>7</td>\n",
       "      <td>0</td>\n",
       "      <td>33623</td>\n",
       "      <td>76.70%</td>\n",
       "      <td>7</td>\n",
       "      <td>f</td>\n",
       "    </tr>\n",
       "    <tr>\n",
       "      <th>2</th>\n",
       "      <td>16.99%</td>\n",
       "      <td>57167</td>\n",
       "      <td>137225</td>\n",
       "      <td>$25,000</td>\n",
       "      <td>$25,000</td>\n",
       "      <td>$24,725</td>\n",
       "      <td>36 months</td>\n",
       "      <td>D</td>\n",
       "      <td>D3</td>\n",
       "      <td>Web Programmer</td>\n",
       "      <td>...</td>\n",
       "      <td>Jun-00</td>\n",
       "      <td>0</td>\n",
       "      <td>41</td>\n",
       "      <td>NaN</td>\n",
       "      <td>10</td>\n",
       "      <td>0</td>\n",
       "      <td>19878</td>\n",
       "      <td>66.30%</td>\n",
       "      <td>17</td>\n",
       "      <td>f</td>\n",
       "    </tr>\n",
       "    <tr>\n",
       "      <th>3</th>\n",
       "      <td>13.11%</td>\n",
       "      <td>57245</td>\n",
       "      <td>138150</td>\n",
       "      <td>$1,200</td>\n",
       "      <td>$1,200</td>\n",
       "      <td>$1,200</td>\n",
       "      <td>36 months</td>\n",
       "      <td>C</td>\n",
       "      <td>C2</td>\n",
       "      <td>city of beaumont texas</td>\n",
       "      <td>...</td>\n",
       "      <td>Jan-85</td>\n",
       "      <td>0</td>\n",
       "      <td>64</td>\n",
       "      <td>NaN</td>\n",
       "      <td>5</td>\n",
       "      <td>0</td>\n",
       "      <td>2584</td>\n",
       "      <td>40.40%</td>\n",
       "      <td>31</td>\n",
       "      <td>f</td>\n",
       "    </tr>\n",
       "    <tr>\n",
       "      <th>4</th>\n",
       "      <td>13.57%</td>\n",
       "      <td>57416</td>\n",
       "      <td>139635</td>\n",
       "      <td>$10,800</td>\n",
       "      <td>$10,800</td>\n",
       "      <td>$10,692</td>\n",
       "      <td>36 months</td>\n",
       "      <td>C</td>\n",
       "      <td>C3</td>\n",
       "      <td>State Farm Insurance</td>\n",
       "      <td>...</td>\n",
       "      <td>Dec-96</td>\n",
       "      <td>1</td>\n",
       "      <td>58</td>\n",
       "      <td>NaN</td>\n",
       "      <td>14</td>\n",
       "      <td>0</td>\n",
       "      <td>3511</td>\n",
       "      <td>25.60%</td>\n",
       "      <td>40</td>\n",
       "      <td>f</td>\n",
       "    </tr>\n",
       "  </tbody>\n",
       "</table>\n",
       "<p>5 rows × 32 columns</p>\n",
       "</div>"
      ],
      "text/plain": [
       "       X1     X2      X3       X4       X5       X6          X7 X8  X9  \\\n",
       "0  11.89%  54734   80364  $25,000  $25,000  $19,080   36 months  B  B4   \n",
       "1  10.71%  55742  114426   $7,000   $7,000     $673   36 months  B  B5   \n",
       "2  16.99%  57167  137225  $25,000  $25,000  $24,725   36 months  D  D3   \n",
       "3  13.11%  57245  138150   $1,200   $1,200   $1,200   36 months  C  C2   \n",
       "4  13.57%  57416  139635  $10,800  $10,800  $10,692   36 months  C  C3   \n",
       "\n",
       "                      X10 ...     X23 X24  X25 X26 X27 X28    X29     X30 X31  \\\n",
       "0                     NaN ...  Feb-94   0  NaN NaN  10   0  28854  52.10%  42   \n",
       "1                     CNN ...  Oct-00   0  NaN NaN   7   0  33623  76.70%   7   \n",
       "2          Web Programmer ...  Jun-00   0   41 NaN  10   0  19878  66.30%  17   \n",
       "3  city of beaumont texas ...  Jan-85   0   64 NaN   5   0   2584  40.40%  31   \n",
       "4    State Farm Insurance ...  Dec-96   1   58 NaN  14   0   3511  25.60%  40   \n",
       "\n",
       "  X32  \n",
       "0   f  \n",
       "1   f  \n",
       "2   f  \n",
       "3   f  \n",
       "4   f  \n",
       "\n",
       "[5 rows x 32 columns]"
      ]
     },
     "execution_count": 18,
     "metadata": {},
     "output_type": "execute_result"
    }
   ],
   "source": [
    "data.head()"
   ]
  },
  {
   "cell_type": "code",
   "execution_count": 19,
   "metadata": {
    "collapsed": false
   },
   "outputs": [
    {
     "data": {
      "text/plain": [
       "(338990, 400000)"
      ]
     },
     "execution_count": 19,
     "metadata": {},
     "output_type": "execute_result"
    }
   ],
   "source": [
    "len(data[data['X1']>0]), len(data)"
   ]
  },
  {
   "cell_type": "code",
   "execution_count": 20,
   "metadata": {
    "collapsed": false
   },
   "outputs": [
    {
     "data": {
      "text/plain": [
       "61010"
      ]
     },
     "execution_count": 20,
     "metadata": {},
     "output_type": "execute_result"
    }
   ],
   "source": [
    "data['X1'].isnull().sum()"
   ]
  },
  {
   "cell_type": "code",
   "execution_count": 21,
   "metadata": {
    "collapsed": false
   },
   "outputs": [
    {
     "data": {
      "text/plain": [
       "dtype('O')"
      ]
     },
     "execution_count": 21,
     "metadata": {},
     "output_type": "execute_result"
    }
   ],
   "source": [
    "data.X1.dtype"
   ]
  },
  {
   "cell_type": "code",
   "execution_count": 22,
   "metadata": {
    "collapsed": false
   },
   "outputs": [
    {
     "data": {
      "text/plain": [
       "X1     True\n",
       "X2     True\n",
       "X3     True\n",
       "X4     True\n",
       "X5     True\n",
       "X6     True\n",
       "X7     True\n",
       "X8     True\n",
       "X9     True\n",
       "X10    True\n",
       "X11    True\n",
       "X12    True\n",
       "X13    True\n",
       "X14    True\n",
       "X15    True\n",
       "X16    True\n",
       "X17    True\n",
       "X18    True\n",
       "X19    True\n",
       "X20    True\n",
       "X21    True\n",
       "X22    True\n",
       "X23    True\n",
       "X24    True\n",
       "X25    True\n",
       "X26    True\n",
       "X27    True\n",
       "X28    True\n",
       "X29    True\n",
       "X30    True\n",
       "X31    True\n",
       "X32    True\n",
       "dtype: bool"
      ]
     },
     "execution_count": 22,
     "metadata": {},
     "output_type": "execute_result"
    }
   ],
   "source": [
    "data.isnull().any()"
   ]
  },
  {
   "cell_type": "code",
   "execution_count": 10,
   "metadata": {
    "collapsed": false
   },
   "outputs": [],
   "source": [
    "## convert this to float\n",
    "def convert_pct_to_float(x):\n",
    "    try: \n",
    "        y = np.float(x[:-1])\n",
    "    except TypeError:\n",
    "        print x\n",
    "        y = 0.\n",
    "        \n",
    "    return y/100.\n",
    "#tgt = data.X1.apply(lambda x: np.float(x[:-1])/100.)"
   ]
  },
  {
   "cell_type": "code",
   "execution_count": 93,
   "metadata": {
    "collapsed": false
   },
   "outputs": [
    {
     "data": {
      "text/plain": [
       "B    86121\n",
       "C    76446\n",
       "D    46984\n",
       "A    45525\n",
       "E    21628\n",
       "F     8395\n",
       "G     2024\n",
       "Name: X8, dtype: int64"
      ]
     },
     "execution_count": 93,
     "metadata": {},
     "output_type": "execute_result"
    }
   ],
   "source": [
    "data[data.X1>0]['X8'].value_counts()"
   ]
  },
  {
   "cell_type": "code",
   "execution_count": 42,
   "metadata": {
    "collapsed": false
   },
   "outputs": [
    {
     "data": {
      "text/plain": [
       "X1          0\n",
       "X2          1\n",
       "X3          1\n",
       "X4          1\n",
       "X5          1\n",
       "X6          1\n",
       "X7          1\n",
       "X8      51867\n",
       "X9      51867\n",
       "X11         1\n",
       "X12     51960\n",
       "X13     51752\n",
       "X14         1\n",
       "X15         1\n",
       "X17         1\n",
       "X19         1\n",
       "X20         1\n",
       "X21         1\n",
       "X22         1\n",
       "X23         1\n",
       "X24         1\n",
       "X25    185457\n",
       "X26    295590\n",
       "X27         1\n",
       "X28         1\n",
       "X29         1\n",
       "X30       225\n",
       "X31         1\n",
       "X32         1\n",
       "dtype: int64"
      ]
     },
     "execution_count": 42,
     "metadata": {},
     "output_type": "execute_result"
    }
   ],
   "source": [
    "#data.X1.apply(lambda x: convert_pct_to_float(x))\n",
    "dd = data[data.X1>0]\n",
    "dd = dd.drop(['X10','X16','X18'],1)\n",
    "dd.isnull().sum(axis=0)"
   ]
  },
  {
   "cell_type": "code",
   "execution_count": 44,
   "metadata": {
    "collapsed": false
   },
   "outputs": [
    {
     "name": "stdout",
     "output_type": "stream",
     "text": [
      "{'X25': 31.0, 'X13': 63000.0, 'X26': 80.0}\n"
     ]
    }
   ],
   "source": [
    "#clean nulls\n",
    "dd.X8 = dd.X8.fillna(0)\n",
    "dd.X9 = dd.X9.fillna(0)\n",
    "dd.X12 = dd.X12.fillna(0)\n",
    "#data.X30 = data.X30.fillna(0)\n",
    "testing_medians= {}\n",
    "testing_medians['X13']=dd.X13.median()\n",
    "testing_medians['X25']=dd.X25.median()\n",
    "testing_medians['X26']=dd.X26.median()\n",
    "print training_medians\n",
    "dd.X13 = dd.X13.fillna(dd.X13.median())\n",
    "dd.X25 = dd.X25.fillna(dd.X25.median())\n",
    "dd.X26 = dd.X26.fillna(dd.X26.median())\n",
    "\n",
    "#calculate age for 23\n",
    "#now = pd.Timestamp(DT.datetime.now())\n",
    "#(now - data['X23']).astype('<m8[Y]')\n",
    "#data['X23']\n",
    "#16 - data['X23'].str[-2:].astype(float)\n",
    "\n",
    "#clean up % data types\n",
    "dd['X1'] = dd['X1'].map(lambda x: x.strip('%')).astype(float)\n",
    "dd['X30'] = dd['X30'].fillna('0%')\n",
    "dd['X30'] = dd['X30'].map(lambda x: x.replace('%',''))\n",
    "dd['X30'] = dd['X30'].astype(float)\n"
   ]
  },
  {
   "cell_type": "code",
   "execution_count": 45,
   "metadata": {
    "collapsed": false
   },
   "outputs": [
    {
     "data": {
      "text/plain": [
       "X1     0\n",
       "X2     0\n",
       "X3     0\n",
       "X4     0\n",
       "X5     0\n",
       "X6     0\n",
       "X7     0\n",
       "X8     0\n",
       "X9     0\n",
       "X11    0\n",
       "X12    0\n",
       "X13    0\n",
       "X14    0\n",
       "X15    0\n",
       "X17    0\n",
       "X19    0\n",
       "X20    0\n",
       "X21    0\n",
       "X22    0\n",
       "X23    0\n",
       "X24    0\n",
       "X25    0\n",
       "X26    0\n",
       "X27    0\n",
       "X28    0\n",
       "X29    0\n",
       "X30    0\n",
       "X31    0\n",
       "X32    0\n",
       "dtype: int64"
      ]
     },
     "execution_count": 45,
     "metadata": {},
     "output_type": "execute_result"
    }
   ],
   "source": [
    "#clean up $ data types\n",
    "dd['X4'] = dd['X4'].fillna('$0')\n",
    "dd['X5'] = dd['X5'].fillna('$0')\n",
    "dd['X6'] = dd['X6'].fillna('$0')\n",
    "dd['X4'] = dd['X4'].map(lambda x: x.replace(',',''))\n",
    "dd['X5'] = dd['X5'].map(lambda x: x.replace(',',''))\n",
    "dd['X6'] = dd['X6'].map(lambda x: x.replace(',',''))\n",
    "dd['X4'] = dd['X4'].map(lambda x: x.strip('$')).astype(float)\n",
    "dd['X5'] = dd['X5'].map(lambda x: x.strip('$')).astype(float)\n",
    "dd['X6'] = dd['X6'].map(lambda x: x.strip('$')).astype(float)\n",
    "\n",
    "#replace all other NaN with 0\n",
    "dd = dd.fillna(0)\n",
    "\n",
    "dd.isnull().sum(axis=0)"
   ]
  },
  {
   "cell_type": "code",
   "execution_count": 46,
   "metadata": {
    "collapsed": true
   },
   "outputs": [],
   "source": [
    "#create dummy variables for categorical data\n",
    "dummies1 = pd.get_dummies(dd[['X7','X8','X9']])\n",
    "dummies2 = pd.get_dummies(dd[['X11','X12']])\n",
    "dummies3 = pd.get_dummies(dd[['X14']])#,'X15']])\n",
    "dummies4 = pd.get_dummies(dd[['X17']])#,'X19']])\n",
    "dummies5 = pd.get_dummies(dd[['X20','X32']])\n",
    "\n",
    "#drop original columns from dataset\n",
    "dd = dd.drop(['X7','X8','X9','X11','X12','X14','X17','X20','X32','X15','X19'], axis=1)  "
   ]
  },
  {
   "cell_type": "code",
   "execution_count": 47,
   "metadata": {
    "collapsed": true
   },
   "outputs": [],
   "source": [
    "#concatenate dummy variables with dataset\n",
    "frames = [dd, dummies1,dummies2,dummies3,dummies4,dummies5]\n",
    "X = pd.concat(frames, axis = 1)\n",
    "\n"
   ]
  },
  {
   "cell_type": "code",
   "execution_count": 48,
   "metadata": {
    "collapsed": true
   },
   "outputs": [],
   "source": [
    "X= X.drop('X1',1)\n",
    "X= X.drop('X23',1)"
   ]
  },
  {
   "cell_type": "code",
   "execution_count": 49,
   "metadata": {
    "collapsed": true
   },
   "outputs": [],
   "source": [
    "X = X.drop(['X20_NE','X9_0','X12_NONE','X12_OTHER','X20_ME','X11_0','X12_0','X17_educational','X20_ID',\n",
    "'X7_0','X14_0','X17_0','X20_IA','X32_0','X8_0','X20_0','X12_ANY'],axis = 1)\n",
    "\n",
    "#set target \n",
    "y = dd[['X1']]\n",
    "y = np.ravel(y)\n"
   ]
  },
  {
   "cell_type": "code",
   "execution_count": 50,
   "metadata": {
    "collapsed": false
   },
   "outputs": [
    {
     "data": {
      "text/plain": [
       "(338990, 139)"
      ]
     },
     "execution_count": 50,
     "metadata": {},
     "output_type": "execute_result"
    }
   ],
   "source": [
    "X.shape"
   ]
  },
  {
   "cell_type": "code",
   "execution_count": 51,
   "metadata": {
    "collapsed": true
   },
   "outputs": [],
   "source": [
    "# split the dataset into testing and training\n",
    "X_train, X_test, y_train, y_test = train_test_split(X, y, test_size=0.3, random_state=0)\n",
    "\n",
    "# build a classifier\n",
    "estimator = RandomForestRegressor(n_estimators=20)"
   ]
  },
  {
   "cell_type": "code",
   "execution_count": 52,
   "metadata": {
    "collapsed": false
   },
   "outputs": [
    {
     "name": "stdout",
     "output_type": "stream",
     "text": [
      "Best estimator:\n",
      "[ 15.0685  10.765   14.662  ...,  15.1      8.9      6.03  ]\n",
      "1.38101187074\n",
      "1.17516461431\n"
     ]
    }
   ],
   "source": [
    "start = time()\n",
    "estimator.fit(X_train, y_train)\n",
    "\n",
    "estimator_fit = estimator.fit(X_train, y_train)  \n",
    "predictions = estimator.predict(X_train)              \n",
    "predict_test = estimator.predict(X_test) \n",
    "\n",
    "#score model on test data\n",
    "estimator.score(X_test,y_test)\n",
    "\n",
    "#get metrics for best fit\n",
    "print(\"Best estimator:\")\n",
    "    \n",
    "# generate predictions for apr\n",
    "apr = predict_test\n",
    "print apr\n",
    "\n",
    "#get MSE\n",
    "MSE = mean_squared_error(y_test, apr)\n",
    "#get RMSE\n",
    "RMSE = sqrt(mean_squared_error(y_test, apr))\n",
    "\n",
    "#print metrics\n",
    "print MSE\n",
    "print RMSE\n",
    "\n"
   ]
  },
  {
   "cell_type": "code",
   "execution_count": 85,
   "metadata": {
    "collapsed": false
   },
   "outputs": [],
   "source": [
    "input_feature_columns = X.columns.tolist()"
   ]
  },
  {
   "cell_type": "code",
   "execution_count": 86,
   "metadata": {
    "collapsed": false
   },
   "outputs": [
    {
     "name": "stdout",
     "output_type": "stream",
     "text": [
      "Feature ranking:\n",
      "1. feature 18 column X8_A (0.328426)\n",
      "2. feature 19 column X8_B (0.207822)\n",
      "3. feature 22 column X8_E (0.079341)\n",
      "4. feature 23 column X8_F (0.073435)\n",
      "5. feature 21 column X8_D (0.050551)\n",
      "6. feature 24 column X8_G (0.034375)\n",
      "7. feature 0 column X2 (0.033254)\n",
      "8. feature 14 column X30 (0.021238)\n",
      "9. feature 20 column X8_C (0.019721)\n",
      "10. feature 17 column X7_ 60 months (0.015819)\n",
      "11. feature 1 column X3 (0.010816)\n",
      "12. feature 13 column X29 (0.009625)\n",
      "13. feature 30 column X9_B1 (0.009405)\n",
      "14. feature 8 column X24 (0.009066)\n",
      "15. feature 5 column X13 (0.007325)\n",
      "16. feature 6 column X21 (0.006576)\n",
      "17. feature 15 column X31 (0.005673)\n",
      "18. feature 9 column X25 (0.005481)\n",
      "19. feature 11 column X27 (0.005156)\n",
      "20. feature 31 column X9_B2 (0.004920)\n",
      "21. feature 4 column X6 (0.003736)\n",
      "22. feature 29 column X9_A5 (0.003608)\n",
      "23. feature 2 column X4 (0.002932)\n",
      "24. feature 3 column X5 (0.002913)\n",
      "25. feature 35 column X9_C1 (0.002873)\n",
      "26. feature 40 column X9_D1 (0.002806)\n",
      "27. feature 79 column X17_credit_card (0.002630)\n",
      "28. feature 39 column X9_C5 (0.002599)\n",
      "29. feature 32 column X9_B3 (0.002156)\n",
      "30. feature 86 column X17_other (0.002081)\n",
      "31. feature 25 column X9_A1 (0.001569)\n",
      "32. feature 12 column X28 (0.001445)\n",
      "33. feature 72 column X12_MORTGAGE (0.001374)\n",
      "34. feature 45 column X9_E1 (0.001176)\n",
      "35. feature 44 column X9_D5 (0.001088)\n",
      "36. feature 10 column X26 (0.001056)\n",
      "37. feature 36 column X9_C2 (0.000991)\n",
      "38. feature 74 column X12_RENT (0.000979)\n",
      "39. feature 80 column X17_debt_consolidation (0.000952)\n",
      "40. feature 26 column X9_A2 (0.000923)\n",
      "41. feature 75 column X14_VERIFIED - income (0.000862)\n",
      "42. feature 38 column X9_C4 (0.000838)\n",
      "43. feature 41 column X9_D2 (0.000774)\n",
      "44. feature 46 column X9_E2 (0.000723)\n",
      "45. feature 88 column X17_small_business (0.000664)\n",
      "46. feature 77 column X14_not verified (0.000638)\n",
      "47. feature 33 column X9_B4 (0.000608)\n",
      "48. feature 61 column X11_10+ years (0.000577)\n",
      "49. feature 7 column X22 (0.000566)\n",
      "50. feature 95 column X20_CA (0.000546)\n",
      "51. feature 76 column X14_VERIFIED - income source (0.000500)\n",
      "52. feature 37 column X9_C3 (0.000473)\n",
      "53. feature 138 column X32_w (0.000421)\n",
      "54. feature 120 column X20_NY (0.000418)\n",
      "55. feature 62 column X11_2 years (0.000409)\n",
      "56. feature 63 column X11_3 years (0.000396)\n",
      "57. feature 137 column X32_f (0.000383)\n",
      "58. feature 100 column X20_FL (0.000383)\n",
      "59. feature 65 column X11_5 years (0.000380)\n",
      "60. feature 70 column X11_< 1 year (0.000376)\n",
      "61. feature 64 column X11_4 years (0.000371)\n",
      "62. feature 129 column X20_TX (0.000364)\n",
      "63. feature 73 column X12_OWN (0.000352)\n",
      "64. feature 81 column X17_home_improvement (0.000339)\n",
      "65. feature 84 column X17_medical (0.000339)\n",
      "66. feature 49 column X9_E5 (0.000333)\n",
      "67. feature 60 column X11_1 year (0.000331)\n",
      "68. feature 66 column X11_6 years (0.000321)\n",
      "69. feature 67 column X11_7 years (0.000316)\n",
      "70. feature 43 column X9_D4 (0.000293)\n",
      "71. feature 103 column X20_IL (0.000278)\n",
      "72. feature 117 column X20_NJ (0.000277)\n",
      "73. feature 124 column X20_PA (0.000259)\n",
      "74. feature 50 column X9_F1 (0.000255)\n",
      "75. feature 47 column X9_E3 (0.000254)\n",
      "76. feature 121 column X20_OH (0.000251)\n",
      "77. feature 71 column X11_n/a (0.000248)\n",
      "78. feature 131 column X20_VA (0.000248)\n",
      "79. feature 68 column X11_8 years (0.000244)\n",
      "80. feature 69 column X11_9 years (0.000233)\n",
      "81. feature 85 column X17_moving (0.000221)\n",
      "82. feature 101 column X20_GA (0.000216)\n",
      "83. feature 110 column X20_MI (0.000204)\n",
      "84. feature 108 column X20_MA (0.000204)\n",
      "85. feature 115 column X20_NC (0.000201)\n",
      "86. feature 83 column X17_major_purchase (0.000200)\n",
      "87. feature 96 column X20_CO (0.000200)\n",
      "88. feature 82 column X17_house (0.000183)\n",
      "89. feature 133 column X20_WA (0.000176)\n",
      "90. feature 109 column X20_MD (0.000174)\n",
      "91. feature 97 column X20_CT (0.000166)\n",
      "92. feature 112 column X20_MO (0.000154)\n",
      "93. feature 94 column X20_AZ (0.000153)\n",
      "94. feature 111 column X20_MN (0.000144)\n",
      "95. feature 119 column X20_NV (0.000132)\n",
      "96. feature 128 column X20_TN (0.000130)\n",
      "97. feature 122 column X20_OK (0.000128)\n",
      "98. feature 123 column X20_OR (0.000120)\n",
      "99. feature 89 column X17_vacation (0.000117)\n",
      "100. feature 90 column X17_wedding (0.000114)\n",
      "101. feature 107 column X20_LA (0.000113)\n",
      "102. feature 106 column X20_KY (0.000110)\n",
      "103. feature 78 column X17_car (0.000105)\n",
      "104. feature 27 column X9_A3 (0.000103)\n",
      "105. feature 92 column X20_AL (0.000101)\n",
      "106. feature 134 column X20_WI (0.000099)\n",
      "107. feature 104 column X20_IN (0.000094)\n",
      "108. feature 48 column X9_E4 (0.000093)\n",
      "109. feature 42 column X9_D3 (0.000092)\n",
      "110. feature 118 column X20_NM (0.000078)\n",
      "111. feature 126 column X20_SC (0.000077)\n",
      "112. feature 105 column X20_KS (0.000063)\n",
      "113. feature 135 column X20_WV (0.000063)\n",
      "114. feature 54 column X9_F5 (0.000058)\n",
      "115. feature 125 column X20_RI (0.000057)\n",
      "116. feature 116 column X20_NH (0.000054)\n",
      "117. feature 51 column X9_F2 (0.000052)\n",
      "118. feature 93 column X20_AR (0.000051)\n",
      "119. feature 130 column X20_UT (0.000049)\n",
      "120. feature 102 column X20_HI (0.000046)\n",
      "121. feature 113 column X20_MS (0.000046)\n",
      "122. feature 91 column X20_AK (0.000043)\n",
      "123. feature 98 column X20_DC (0.000039)\n",
      "124. feature 87 column X17_renewable_energy (0.000036)\n",
      "125. feature 53 column X9_F4 (0.000033)\n",
      "126. feature 52 column X9_F3 (0.000026)\n",
      "127. feature 136 column X20_WY (0.000026)\n",
      "128. feature 127 column X20_SD (0.000025)\n",
      "129. feature 99 column X20_DE (0.000024)\n",
      "130. feature 114 column X20_MT (0.000021)\n",
      "131. feature 132 column X20_VT (0.000012)\n",
      "132. feature 16 column X7_ 36 months (0.000006)\n",
      "133. feature 55 column X9_G1 (0.000004)\n",
      "134. feature 34 column X9_B5 (0.000004)\n",
      "135. feature 59 column X9_G5 (0.000002)\n",
      "136. feature 56 column X9_G2 (0.000002)\n",
      "137. feature 58 column X9_G4 (0.000001)\n",
      "138. feature 57 column X9_G3 (0.000001)\n",
      "139. feature 28 column X9_A4 (0.000000)\n"
     ]
    }
   ],
   "source": [
    "importances = estimator.feature_importances_\n",
    "std = np.std([estimator.feature_importances_ for tree in estimator.estimators_],\n",
    "             axis=0)\n",
    "indices = np.argsort(importances)[::-1]\n",
    "\n",
    "pd.DataFrame(zip(indices, importances))\n",
    "\n",
    "# Print the feature ranking\n",
    "print(\"Feature ranking:\")\n",
    "feat_frame = []\n",
    "for f in range(X.shape[1]):\n",
    "    #a = (\"%d. feature %d (%f)\" % (f + 1, indices[f], importances[indices[f]]))\n",
    "    a = \"feature %d\" % (indices[f])\n",
    "    b = importances[indices[f]]\n",
    "    row = [a,b]\n",
    "    feat_frame.append(row)\n",
    "    print(\"%d. feature %d column %s (%f)\" % (f + 1, indices[f], input_feature_columns[indices[f]], importances[indices[f]]))\n",
    "\n",
    "\n"
   ]
  },
  {
   "cell_type": "code",
   "execution_count": 54,
   "metadata": {
    "collapsed": false
   },
   "outputs": [
    {
     "data": {
      "image/png": "[encoded data removed]",
      "text/plain": [
       "<matplotlib.figure.Figure at 0x1084a208>"
      ]
     },
     "metadata": {},
     "output_type": "display_data"
    }
   ],
   "source": [
    "#get feature importances descending\n",
    "%matplotlib inline\n",
    "feature_df = pd.DataFrame(feat_frame)\n",
    "# Plot the feature importances of the forest\n",
    "plt.figure()\n",
    "plt.title(\"Feature importances\")\n",
    "plt.bar(range(X.shape[1]), importances[indices],\n",
    "       color=\"r\", yerr=std[indices], align=\"center\")\n",
    "plt.xticks(range(X.shape[1]), indices)\n",
    "plt.xlim([-1, X.shape[1]])\n",
    "plt.show()"
   ]
  },
  {
   "cell_type": "code",
   "execution_count": 67,
   "metadata": {
    "collapsed": false
   },
   "outputs": [
    {
     "name": "stderr",
     "output_type": "stream",
     "text": [
      "C:\\Anaconda\\lib\\site-packages\\sklearn\\lda.py:4: DeprecationWarning: lda.LDA has been moved to discriminant_analysis.LinearDiscriminantAnalysis in 0.17 and will be removed in 0.19\n",
      "  \"in 0.17 and will be removed in 0.19\", DeprecationWarning)\n",
      "C:\\Anaconda\\lib\\site-packages\\sklearn\\qda.py:4: DeprecationWarning: qda.QDA has been moved to discriminant_analysis.QuadraticDiscriminantAnalysis in 0.17 and will be removed in 0.19.\n",
      "  \"in 0.17 and will be removed in 0.19.\", DeprecationWarning)\n"
     ]
    }
   ],
   "source": [
    "wdir = os.getcwd()\n",
    "os.chdir('C:/Users/kesj/code/')\n",
    "import bear.bear as br\n",
    "os.chdir(wdir)\n",
    "    "
   ]
  },
  {
   "cell_type": "code",
   "execution_count": 66,
   "metadata": {
    "collapsed": false,
    "scrolled": true
   },
   "outputs": [
    {
     "data": {
      "text/html": [
       "<div>\n",
       "<table border=\"1\" class=\"dataframe\">\n",
       "  <thead>\n",
       "    <tr style=\"text-align: right;\">\n",
       "      <th></th>\n",
       "      <th>0</th>\n",
       "      <th>1</th>\n",
       "    </tr>\n",
       "  </thead>\n",
       "  <tbody>\n",
       "    <tr>\n",
       "      <th>0</th>\n",
       "      <td>feature 18</td>\n",
       "      <td>3.284265e-01</td>\n",
       "    </tr>\n",
       "    <tr>\n",
       "      <th>1</th>\n",
       "      <td>feature 19</td>\n",
       "      <td>2.078219e-01</td>\n",
       "    </tr>\n",
       "    <tr>\n",
       "      <th>2</th>\n",
       "      <td>feature 22</td>\n",
       "      <td>7.934054e-02</td>\n",
       "    </tr>\n",
       "    <tr>\n",
       "      <th>3</th>\n",
       "      <td>feature 23</td>\n",
       "      <td>7.343498e-02</td>\n",
       "    </tr>\n",
       "    <tr>\n",
       "      <th>4</th>\n",
       "      <td>feature 21</td>\n",
       "      <td>5.055123e-02</td>\n",
       "    </tr>\n",
       "    <tr>\n",
       "      <th>5</th>\n",
       "      <td>feature 24</td>\n",
       "      <td>3.437472e-02</td>\n",
       "    </tr>\n",
       "    <tr>\n",
       "      <th>6</th>\n",
       "      <td>feature 0</td>\n",
       "      <td>3.325440e-02</td>\n",
       "    </tr>\n",
       "    <tr>\n",
       "      <th>7</th>\n",
       "      <td>feature 14</td>\n",
       "      <td>2.123800e-02</td>\n",
       "    </tr>\n",
       "    <tr>\n",
       "      <th>8</th>\n",
       "      <td>feature 20</td>\n",
       "      <td>1.972117e-02</td>\n",
       "    </tr>\n",
       "    <tr>\n",
       "      <th>9</th>\n",
       "      <td>feature 17</td>\n",
       "      <td>1.581899e-02</td>\n",
       "    </tr>\n",
       "    <tr>\n",
       "      <th>10</th>\n",
       "      <td>feature 1</td>\n",
       "      <td>1.081552e-02</td>\n",
       "    </tr>\n",
       "    <tr>\n",
       "      <th>11</th>\n",
       "      <td>feature 13</td>\n",
       "      <td>9.624621e-03</td>\n",
       "    </tr>\n",
       "    <tr>\n",
       "      <th>12</th>\n",
       "      <td>feature 30</td>\n",
       "      <td>9.405445e-03</td>\n",
       "    </tr>\n",
       "    <tr>\n",
       "      <th>13</th>\n",
       "      <td>feature 8</td>\n",
       "      <td>9.065972e-03</td>\n",
       "    </tr>\n",
       "    <tr>\n",
       "      <th>14</th>\n",
       "      <td>feature 5</td>\n",
       "      <td>7.325408e-03</td>\n",
       "    </tr>\n",
       "    <tr>\n",
       "      <th>15</th>\n",
       "      <td>feature 6</td>\n",
       "      <td>6.576018e-03</td>\n",
       "    </tr>\n",
       "    <tr>\n",
       "      <th>16</th>\n",
       "      <td>feature 15</td>\n",
       "      <td>5.673434e-03</td>\n",
       "    </tr>\n",
       "    <tr>\n",
       "      <th>17</th>\n",
       "      <td>feature 9</td>\n",
       "      <td>5.480906e-03</td>\n",
       "    </tr>\n",
       "    <tr>\n",
       "      <th>18</th>\n",
       "      <td>feature 11</td>\n",
       "      <td>5.156117e-03</td>\n",
       "    </tr>\n",
       "    <tr>\n",
       "      <th>19</th>\n",
       "      <td>feature 31</td>\n",
       "      <td>4.919772e-03</td>\n",
       "    </tr>\n",
       "    <tr>\n",
       "      <th>20</th>\n",
       "      <td>feature 4</td>\n",
       "      <td>3.736031e-03</td>\n",
       "    </tr>\n",
       "    <tr>\n",
       "      <th>21</th>\n",
       "      <td>feature 29</td>\n",
       "      <td>3.607896e-03</td>\n",
       "    </tr>\n",
       "    <tr>\n",
       "      <th>22</th>\n",
       "      <td>feature 2</td>\n",
       "      <td>2.932455e-03</td>\n",
       "    </tr>\n",
       "    <tr>\n",
       "      <th>23</th>\n",
       "      <td>feature 3</td>\n",
       "      <td>2.912587e-03</td>\n",
       "    </tr>\n",
       "    <tr>\n",
       "      <th>24</th>\n",
       "      <td>feature 35</td>\n",
       "      <td>2.873177e-03</td>\n",
       "    </tr>\n",
       "    <tr>\n",
       "      <th>25</th>\n",
       "      <td>feature 40</td>\n",
       "      <td>2.806467e-03</td>\n",
       "    </tr>\n",
       "    <tr>\n",
       "      <th>26</th>\n",
       "      <td>feature 79</td>\n",
       "      <td>2.630126e-03</td>\n",
       "    </tr>\n",
       "    <tr>\n",
       "      <th>27</th>\n",
       "      <td>feature 39</td>\n",
       "      <td>2.599495e-03</td>\n",
       "    </tr>\n",
       "    <tr>\n",
       "      <th>28</th>\n",
       "      <td>feature 32</td>\n",
       "      <td>2.155523e-03</td>\n",
       "    </tr>\n",
       "    <tr>\n",
       "      <th>29</th>\n",
       "      <td>feature 86</td>\n",
       "      <td>2.081447e-03</td>\n",
       "    </tr>\n",
       "    <tr>\n",
       "      <th>...</th>\n",
       "      <td>...</td>\n",
       "      <td>...</td>\n",
       "    </tr>\n",
       "    <tr>\n",
       "      <th>109</th>\n",
       "      <td>feature 118</td>\n",
       "      <td>7.838663e-05</td>\n",
       "    </tr>\n",
       "    <tr>\n",
       "      <th>110</th>\n",
       "      <td>feature 126</td>\n",
       "      <td>7.729475e-05</td>\n",
       "    </tr>\n",
       "    <tr>\n",
       "      <th>111</th>\n",
       "      <td>feature 105</td>\n",
       "      <td>6.317742e-05</td>\n",
       "    </tr>\n",
       "    <tr>\n",
       "      <th>112</th>\n",
       "      <td>feature 135</td>\n",
       "      <td>6.305996e-05</td>\n",
       "    </tr>\n",
       "    <tr>\n",
       "      <th>113</th>\n",
       "      <td>feature 54</td>\n",
       "      <td>5.842706e-05</td>\n",
       "    </tr>\n",
       "    <tr>\n",
       "      <th>114</th>\n",
       "      <td>feature 125</td>\n",
       "      <td>5.671868e-05</td>\n",
       "    </tr>\n",
       "    <tr>\n",
       "      <th>115</th>\n",
       "      <td>feature 116</td>\n",
       "      <td>5.428905e-05</td>\n",
       "    </tr>\n",
       "    <tr>\n",
       "      <th>116</th>\n",
       "      <td>feature 51</td>\n",
       "      <td>5.218250e-05</td>\n",
       "    </tr>\n",
       "    <tr>\n",
       "      <th>117</th>\n",
       "      <td>feature 93</td>\n",
       "      <td>5.142095e-05</td>\n",
       "    </tr>\n",
       "    <tr>\n",
       "      <th>118</th>\n",
       "      <td>feature 130</td>\n",
       "      <td>4.921175e-05</td>\n",
       "    </tr>\n",
       "    <tr>\n",
       "      <th>119</th>\n",
       "      <td>feature 102</td>\n",
       "      <td>4.632086e-05</td>\n",
       "    </tr>\n",
       "    <tr>\n",
       "      <th>120</th>\n",
       "      <td>feature 113</td>\n",
       "      <td>4.567020e-05</td>\n",
       "    </tr>\n",
       "    <tr>\n",
       "      <th>121</th>\n",
       "      <td>feature 91</td>\n",
       "      <td>4.283401e-05</td>\n",
       "    </tr>\n",
       "    <tr>\n",
       "      <th>122</th>\n",
       "      <td>feature 98</td>\n",
       "      <td>3.911773e-05</td>\n",
       "    </tr>\n",
       "    <tr>\n",
       "      <th>123</th>\n",
       "      <td>feature 87</td>\n",
       "      <td>3.596174e-05</td>\n",
       "    </tr>\n",
       "    <tr>\n",
       "      <th>124</th>\n",
       "      <td>feature 53</td>\n",
       "      <td>3.300988e-05</td>\n",
       "    </tr>\n",
       "    <tr>\n",
       "      <th>125</th>\n",
       "      <td>feature 52</td>\n",
       "      <td>2.643951e-05</td>\n",
       "    </tr>\n",
       "    <tr>\n",
       "      <th>126</th>\n",
       "      <td>feature 136</td>\n",
       "      <td>2.573417e-05</td>\n",
       "    </tr>\n",
       "    <tr>\n",
       "      <th>127</th>\n",
       "      <td>feature 127</td>\n",
       "      <td>2.478078e-05</td>\n",
       "    </tr>\n",
       "    <tr>\n",
       "      <th>128</th>\n",
       "      <td>feature 99</td>\n",
       "      <td>2.366003e-05</td>\n",
       "    </tr>\n",
       "    <tr>\n",
       "      <th>129</th>\n",
       "      <td>feature 114</td>\n",
       "      <td>2.120963e-05</td>\n",
       "    </tr>\n",
       "    <tr>\n",
       "      <th>130</th>\n",
       "      <td>feature 132</td>\n",
       "      <td>1.188643e-05</td>\n",
       "    </tr>\n",
       "    <tr>\n",
       "      <th>131</th>\n",
       "      <td>feature 16</td>\n",
       "      <td>6.242279e-06</td>\n",
       "    </tr>\n",
       "    <tr>\n",
       "      <th>132</th>\n",
       "      <td>feature 55</td>\n",
       "      <td>3.920512e-06</td>\n",
       "    </tr>\n",
       "    <tr>\n",
       "      <th>133</th>\n",
       "      <td>feature 34</td>\n",
       "      <td>3.634889e-06</td>\n",
       "    </tr>\n",
       "    <tr>\n",
       "      <th>134</th>\n",
       "      <td>feature 59</td>\n",
       "      <td>2.069678e-06</td>\n",
       "    </tr>\n",
       "    <tr>\n",
       "      <th>135</th>\n",
       "      <td>feature 56</td>\n",
       "      <td>1.618926e-06</td>\n",
       "    </tr>\n",
       "    <tr>\n",
       "      <th>136</th>\n",
       "      <td>feature 58</td>\n",
       "      <td>1.172326e-06</td>\n",
       "    </tr>\n",
       "    <tr>\n",
       "      <th>137</th>\n",
       "      <td>feature 57</td>\n",
       "      <td>5.898256e-07</td>\n",
       "    </tr>\n",
       "    <tr>\n",
       "      <th>138</th>\n",
       "      <td>feature 28</td>\n",
       "      <td>0.000000e+00</td>\n",
       "    </tr>\n",
       "  </tbody>\n",
       "</table>\n",
       "<p>139 rows × 2 columns</p>\n",
       "</div>"
      ],
      "text/plain": [
       "               0             1\n",
       "0     feature 18  3.284265e-01\n",
       "1     feature 19  2.078219e-01\n",
       "2     feature 22  7.934054e-02\n",
       "3     feature 23  7.343498e-02\n",
       "4     feature 21  5.055123e-02\n",
       "5     feature 24  3.437472e-02\n",
       "6      feature 0  3.325440e-02\n",
       "7     feature 14  2.123800e-02\n",
       "8     feature 20  1.972117e-02\n",
       "9     feature 17  1.581899e-02\n",
       "10     feature 1  1.081552e-02\n",
       "11    feature 13  9.624621e-03\n",
       "12    feature 30  9.405445e-03\n",
       "13     feature 8  9.065972e-03\n",
       "14     feature 5  7.325408e-03\n",
       "15     feature 6  6.576018e-03\n",
       "16    feature 15  5.673434e-03\n",
       "17     feature 9  5.480906e-03\n",
       "18    feature 11  5.156117e-03\n",
       "19    feature 31  4.919772e-03\n",
       "20     feature 4  3.736031e-03\n",
       "21    feature 29  3.607896e-03\n",
       "22     feature 2  2.932455e-03\n",
       "23     feature 3  2.912587e-03\n",
       "24    feature 35  2.873177e-03\n",
       "25    feature 40  2.806467e-03\n",
       "26    feature 79  2.630126e-03\n",
       "27    feature 39  2.599495e-03\n",
       "28    feature 32  2.155523e-03\n",
       "29    feature 86  2.081447e-03\n",
       "..           ...           ...\n",
       "109  feature 118  7.838663e-05\n",
       "110  feature 126  7.729475e-05\n",
       "111  feature 105  6.317742e-05\n",
       "112  feature 135  6.305996e-05\n",
       "113   feature 54  5.842706e-05\n",
       "114  feature 125  5.671868e-05\n",
       "115  feature 116  5.428905e-05\n",
       "116   feature 51  5.218250e-05\n",
       "117   feature 93  5.142095e-05\n",
       "118  feature 130  4.921175e-05\n",
       "119  feature 102  4.632086e-05\n",
       "120  feature 113  4.567020e-05\n",
       "121   feature 91  4.283401e-05\n",
       "122   feature 98  3.911773e-05\n",
       "123   feature 87  3.596174e-05\n",
       "124   feature 53  3.300988e-05\n",
       "125   feature 52  2.643951e-05\n",
       "126  feature 136  2.573417e-05\n",
       "127  feature 127  2.478078e-05\n",
       "128   feature 99  2.366003e-05\n",
       "129  feature 114  2.120963e-05\n",
       "130  feature 132  1.188643e-05\n",
       "131   feature 16  6.242279e-06\n",
       "132   feature 55  3.920512e-06\n",
       "133   feature 34  3.634889e-06\n",
       "134   feature 59  2.069678e-06\n",
       "135   feature 56  1.618926e-06\n",
       "136   feature 58  1.172326e-06\n",
       "137   feature 57  5.898256e-07\n",
       "138   feature 28  0.000000e+00\n",
       "\n",
       "[139 rows x 2 columns]"
      ]
     },
     "execution_count": 66,
     "metadata": {},
     "output_type": "execute_result"
    }
   ],
   "source": [
    "feature_df"
   ]
  },
  {
   "cell_type": "code",
   "execution_count": 70,
   "metadata": {
    "collapsed": false
   },
   "outputs": [
    {
     "name": "stdout",
     "output_type": "stream",
     "text": [
      "X2                           VIF = 102.9 R^2 = 0.9903    \n",
      "X3                           VIF = 103.1 R^2 = 0.9903    \n",
      "X4                           VIF = 552.7 R^2 = 0.9982    \n",
      "X5                           VIF = 3835.8R^2 = 0.9997    \n",
      "X6                           VIF = 3205.4R^2 = 0.9997    \n",
      "X13                          VIF = 3.2   R^2 = 0.6854    \n",
      "X21                          VIF = 2.0   R^2 = 0.5065    \n",
      "X22                          VIF = 2.3   R^2 = 0.5705    \n",
      "X24                          VIF = 1.9   R^2 = 0.4801    \n",
      "X25                          VIF = 2.5   R^2 = 0.5942    \n",
      "X26                          VIF = 1.9   R^2 = 0.4776    \n",
      "X27                          VIF = 3.8   R^2 = 0.7388    \n",
      "X28                          VIF = 2.0   R^2 = 0.5063    \n",
      "X29                          VIF = 3.4   R^2 = 0.7039    \n",
      "X30                          VIF = 3.2   R^2 = 0.6903    \n",
      "X31                          VIF = 3.9   R^2 = 0.7432    \n",
      "\n",
      "X7_ 36 months: PERFECT COLLINEARITY ********\n",
      "['X7_ 60 months', 'X9_G2', 'X9_G3', 'X9_G4', 'X9_G5', 'X17_moving', 'X17_renewable_energy']\n",
      "\n",
      "\n",
      "X7_ 60 months: PERFECT COLLINEARITY ********\n",
      "['X7_ 36 months', 'X9_G2', 'X9_G3', 'X9_G4', 'X9_G5', 'X17_moving', 'X17_renewable_energy']\n",
      "\n",
      "X8_A                         VIF = 9.00719925474e+15R^2 = 1.0       \n",
      "X8_B                         VIF = 4.50359962737e+15R^2 = 1.0       \n",
      "X8_C                         VIF = 9.00719925474e+15R^2 = 1.0       \n",
      "X8_D                         VIF = 4.50359962737e+15R^2 = 1.0       \n",
      "X8_E                         VIF = 4.50359962737e+15R^2 = 1.0       \n",
      "X8_F                         VIF = 4.50359962737e+15R^2 = 1.0       \n",
      "X8_G                         VIF = 9.00719925474e+15R^2 = 1.0       \n",
      "\n",
      "X9_A1: PERFECT COLLINEARITY ********\n",
      "['X8_A', 'X9_A2', 'X9_A3', 'X9_A4', 'X9_A5']\n",
      "\n",
      "X9_A2                        VIF = 4.50359962737e+15R^2 = 1.0       \n",
      "X9_A3                        VIF = 3.00239975158e+15R^2 = 1.0       \n",
      "X9_A4                        VIF = 9.00719925474e+15R^2 = 1.0       \n",
      "X9_A5                        VIF = 9.00719925474e+15R^2 = 1.0       \n",
      "\n",
      "X9_B1: PERFECT COLLINEARITY ********\n",
      "['X8_B', 'X9_B2', 'X9_B3', 'X9_B4', 'X9_B5']\n",
      "\n",
      "X9_B2                        VIF = 9.00719925474e+15R^2 = 1.0       \n",
      "X9_B3                        VIF = 4.50359962737e+15R^2 = 1.0       \n",
      "X9_B4                        VIF = 9.00719925474e+15R^2 = 1.0       \n",
      "X9_B5                        VIF = 4.50359962737e+15R^2 = 1.0       \n",
      "\n",
      "X9_C1: PERFECT COLLINEARITY ********\n",
      "['X8_C', 'X9_C2', 'X9_C3', 'X9_C4', 'X9_C5', 'X9_G3', 'X9_G5']\n",
      "\n",
      "\n",
      "X9_C2: PERFECT COLLINEARITY ********\n",
      "['X8_C', 'X9_C1', 'X9_C3', 'X9_C4', 'X9_C5']\n",
      "\n",
      "\n",
      "X9_C3: PERFECT COLLINEARITY ********\n",
      "['X8_C', 'X9_C1', 'X9_C2', 'X9_C4', 'X9_C5']\n",
      "\n",
      "X9_C4                        VIF = 9.00719925474e+15R^2 = 1.0       \n",
      "\n",
      "X9_C5: PERFECT COLLINEARITY ********\n",
      "['X8_C', 'X9_C1', 'X9_C2', 'X9_C3', 'X9_C4', 'X9_F4', 'X9_G2', 'X9_G3', 'X9_G4', 'X9_G5', 'X17_credit_card', 'X17_debt_consolidation', 'X17_house', 'X17_major_purchase', 'X17_medical', 'X17_moving', 'X17_renewable_energy', 'X17_small_business', 'X17_vacation', 'X20_CT', 'X20_DC', 'X20_MS', 'X20_MT', 'X20_RI']\n",
      "\n",
      "\n",
      "X9_D1: PERFECT COLLINEARITY ********\n",
      "['X8_D', 'X9_D2', 'X9_D3', 'X9_D4', 'X9_D5']\n",
      "\n",
      "X9_D2                        VIF = 4.50359962737e+15R^2 = 1.0       \n",
      "\n",
      "X9_D3: PERFECT COLLINEARITY ********\n",
      "['X8_D', 'X9_D1', 'X9_D2', 'X9_D4', 'X9_D5']\n",
      "\n",
      "X9_D4                        VIF = 9.00719925474e+15R^2 = 1.0       \n",
      "\n",
      "X9_D5: PERFECT COLLINEARITY ********\n",
      "['X8_D', 'X9_D1', 'X9_D2', 'X9_D3', 'X9_D4']\n",
      "\n",
      "X9_E1                        VIF = 9.00719925474e+15R^2 = 1.0       \n",
      "X9_E2                        VIF = 8.18836295886e+14R^2 = 1.0       \n",
      "\n",
      "X9_E3: PERFECT COLLINEARITY ********\n",
      "['X8_E', 'X9_E1', 'X9_E2', 'X9_E4', 'X9_E5', 'X9_G2', 'X9_G3', 'X9_G4', 'X9_G5', 'X17_moving', 'X17_renewable_energy']\n",
      "\n",
      "X9_E4                        VIF = 9.00719925474e+15R^2 = 1.0       \n",
      "X9_E5                        VIF = 9.00719925474e+15R^2 = 1.0       \n",
      "X9_F1                        VIF = 9.00719925474e+15R^2 = 1.0       \n",
      "\n",
      "X9_F2: PERFECT COLLINEARITY ********\n",
      "['X8_F', 'X9_F1', 'X9_F3', 'X9_F4', 'X9_F5']\n",
      "\n",
      "\n",
      "X9_F3: PERFECT COLLINEARITY ********\n",
      "['X8_F', 'X9_F1', 'X9_F2', 'X9_F4', 'X9_F5']\n",
      "\n",
      "\n",
      "X9_F4: PERFECT COLLINEARITY ********\n",
      "['X8_F', 'X9_F1', 'X9_F2', 'X9_F3', 'X9_F5']\n",
      "\n",
      "X9_F5                        VIF = 4.50359962737e+15R^2 = 1.0       \n",
      "X9_G1                        VIF = 9.00719925474e+15R^2 = 1.0       \n",
      "\n",
      "X9_G2: PERFECT COLLINEARITY ********\n",
      "['X8_G', 'X9_G1', 'X9_G3', 'X9_G4', 'X9_G5']\n",
      "\n",
      "\n",
      "X9_G3: PERFECT COLLINEARITY ********\n",
      "['X8_G', 'X9_G1', 'X9_G2', 'X9_G4', 'X9_G5']\n",
      "\n",
      "\n",
      "X9_G4: PERFECT COLLINEARITY ********\n",
      "['X8_G', 'X9_G1', 'X9_G2', 'X9_G3', 'X9_G5']\n",
      "\n",
      "\n",
      "X9_G5: PERFECT COLLINEARITY ********\n",
      "['X8_G', 'X9_G1', 'X9_G2', 'X9_G3', 'X9_G4']\n",
      "\n",
      "\n",
      "X11_1 year: PERFECT COLLINEARITY ********\n",
      "['X11_10+ years', 'X11_2 years', 'X11_3 years', 'X11_4 years', 'X11_5 years', 'X11_6 years', 'X11_7 years', 'X11_8 years', 'X11_9 years', 'X11_< 1 year', 'X11_n/a']\n",
      "\n",
      "X11_10+ years                VIF = 4.50359962737e+15R^2 = 1.0       \n",
      "\n",
      "X11_2 years: PERFECT COLLINEARITY ********\n",
      "['X11_1 year', 'X11_10+ years', 'X11_3 years', 'X11_4 years', 'X11_5 years', 'X11_6 years', 'X11_7 years', 'X11_8 years', 'X11_9 years', 'X11_< 1 year', 'X11_n/a']\n",
      "\n",
      "X11_3 years                  VIF = 9.00719925474e+15R^2 = 1.0       \n",
      "X11_4 years                  VIF = 9.00719925474e+15R^2 = 1.0       \n",
      "X11_5 years                  VIF = 4.50359962737e+15R^2 = 1.0       \n",
      "\n",
      "X11_6 years: PERFECT COLLINEARITY ********\n",
      "['X9_B2', 'X9_B3', 'X9_F2', 'X9_F4', 'X9_F5', 'X9_G1', 'X9_G2', 'X9_G3', 'X9_G4', 'X9_G5', 'X11_1 year', 'X11_10+ years', 'X11_2 years', 'X11_3 years', 'X11_4 years', 'X11_5 years', 'X11_7 years', 'X11_8 years', 'X11_9 years', 'X11_< 1 year', 'X11_n/a', 'X17_car', 'X17_credit_card', 'X17_debt_consolidation', 'X17_home_improvement', 'X17_house', 'X17_major_purchase', 'X17_medical', 'X17_moving', 'X17_renewable_energy', 'X17_small_business', 'X17_vacation', 'X17_wedding', 'X20_CT', 'X20_DC', 'X20_DE', 'X20_HI', 'X20_IL', 'X20_IN', 'X20_KS', 'X20_KY', 'X20_MN', 'X20_MS', 'X20_MT', 'X20_NM', 'X20_NV', 'X20_OH', 'X20_RI', 'X20_SC', 'X20_WI', 'X20_WV']\n",
      "\n",
      "X11_7 years                  VIF = 9.00719925474e+15R^2 = 1.0       \n",
      "\n",
      "X11_8 years: PERFECT COLLINEARITY ********\n",
      "['X8_F', 'X9_B4', 'X9_F4', 'X9_F5', 'X9_G1', 'X9_G2', 'X9_G3', 'X9_G4', 'X9_G5', 'X11_1 year', 'X11_10+ years', 'X11_2 years', 'X11_3 years', 'X11_4 years', 'X11_5 years', 'X11_6 years', 'X11_7 years', 'X11_9 years', 'X11_< 1 year', 'X11_n/a', 'X17_car', 'X17_credit_card', 'X17_debt_consolidation', 'X17_home_improvement', 'X17_house', 'X17_major_purchase', 'X17_medical', 'X17_moving', 'X17_other', 'X17_renewable_energy', 'X17_small_business', 'X17_vacation', 'X17_wedding', 'X20_AR', 'X20_CT', 'X20_DC', 'X20_DE', 'X20_HI', 'X20_IN', 'X20_KS', 'X20_KY', 'X20_MN', 'X20_MS', 'X20_MT', 'X20_NM', 'X20_NV', 'X20_OH', 'X20_RI', 'X20_SC', 'X20_WI', 'X20_WV']\n",
      "\n",
      "\n",
      "X11_9 years: PERFECT COLLINEARITY ********\n",
      "['X8_F', 'X9_F4', 'X9_G1', 'X9_G2', 'X9_G3', 'X9_G4', 'X9_G5', 'X11_1 year', 'X11_10+ years', 'X11_2 years', 'X11_3 years', 'X11_4 years', 'X11_5 years', 'X11_6 years', 'X11_7 years', 'X11_8 years', 'X11_< 1 year', 'X11_n/a', 'X17_car', 'X17_credit_card', 'X17_debt_consolidation', 'X17_home_improvement', 'X17_house', 'X17_major_purchase', 'X17_medical', 'X17_moving', 'X17_other', 'X17_renewable_energy', 'X17_small_business', 'X17_vacation', 'X17_wedding', 'X20_CT', 'X20_HI', 'X20_IL', 'X20_IN', 'X20_KS', 'X20_KY', 'X20_MN', 'X20_MS', 'X20_MT', 'X20_NM', 'X20_NV', 'X20_OH', 'X20_RI', 'X20_SC', 'X20_WV']\n",
      "\n",
      "X11_< 1 year                 VIF = 9.00719925474e+15R^2 = 1.0       \n",
      "X11_n/a                      VIF = 9.00719925474e+15R^2 = 1.0       \n",
      "X12_MORTGAGE                 VIF = 4.1   R^2 = 0.7546    \n",
      "X12_OWN                      VIF = 2.7   R^2 = 0.6287    \n",
      "X12_RENT                     VIF = 3.4   R^2 = 0.7024    \n",
      "X14_VERIFIED - income        VIF = 1.12589990684e+15R^2 = 1.0       \n",
      "X14_VERIFIED - income source VIF = 9.00719925474e+14R^2 = 1.0       \n",
      "X14_not verified             VIF = 5.29835250279e+14R^2 = 1.0       \n",
      "X17_car                      VIF = 2.7   R^2 = 0.6285    \n",
      "X17_credit_card              VIF = 59.3  R^2 = 0.9831    \n",
      "X17_debt_consolidation       VIF = 95.5  R^2 = 0.9895    \n",
      "X17_home_improvement         VIF = 30.8  R^2 = 0.9675    \n",
      "X17_house                    VIF = 2.5   R^2 = 0.6041    \n",
      "X17_major_purchase           VIF = 10.7  R^2 = 0.9064    \n",
      "X17_medical                  VIF = 7.1   R^2 = 0.8597    \n",
      "X17_moving                   VIF = 6.3   R^2 = 0.8421    \n",
      "X17_other                    VIF = 26.5  R^2 = 0.9622    \n",
      "X17_renewable_energy         VIF = 1.4   R^2 = 0.2675    \n",
      "X17_small_business           VIF = 4.3   R^2 = 0.7686    \n",
      "X17_vacation                 VIF = 5.8   R^2 = 0.8288    \n",
      "X17_wedding                  VIF = 4.0   R^2 = 0.75      \n",
      "X20_AK                       VIF = 54.0  R^2 = 0.9815    \n",
      "X20_AL                       VIF = 242.2 R^2 = 0.9959    \n",
      "X20_AR                       VIF = 133.3 R^2 = 0.9925    \n",
      "X20_AZ                       VIF = 394.8 R^2 = 0.9975    \n",
      "X20_CA                       VIF = 4.50359962737e+15R^2 = 1.0       \n",
      "X20_CO                       VIF = 4.50359962737e+15R^2 = 1.0       \n",
      "X20_CT                       VIF = 266.6 R^2 = 0.9962    \n",
      "X20_DC                       VIF = 59.0  R^2 = 0.983     \n",
      "X20_DE                       VIF = 38.0  R^2 = 0.9737    \n",
      "X20_FL                       VIF = 1130.4R^2 = 0.9991    \n",
      "X20_GA                       VIF = 546.5 R^2 = 0.9982    \n",
      "X20_HI                       VIF = 101.7 R^2 = 0.9902    \n",
      "X20_IL                       VIF = 9.00719925474e+15R^2 = 1.0       \n",
      "X20_IN                       VIF = 9.00719925474e+15R^2 = 1.0       \n",
      "X20_KS                       VIF = 159.0 R^2 = 0.9937    \n",
      "X20_KY                       VIF = 168.8 R^2 = 0.9941    \n",
      "X20_LA                       VIF = 213.9 R^2 = 0.9953    \n",
      "X20_MA                       VIF = 382.4 R^2 = 0.9974    \n",
      "X20_MD                       VIF = 431.1 R^2 = 0.9977    \n",
      "X20_MI                       VIF = 437.8 R^2 = 0.9977    \n",
      "X20_MN                       VIF = 9.00719925474e+15R^2 = 1.0       \n",
      "X20_MO                       VIF = 277.2 R^2 = 0.9964    \n",
      "X20_MS                       VIF = 44.0  R^2 = 0.9773    \n",
      "X20_MT                       VIF = 63.9  R^2 = 0.9844    \n",
      "X20_NC                       VIF = 4.50359962737e+15R^2 = 1.0       \n",
      "X20_NH                       VIF = 92.8  R^2 = 0.9892    \n",
      "X20_NJ                       VIF = 647.4 R^2 = 0.9985    \n",
      "X20_NM                       VIF = 111.6 R^2 = 0.991     \n",
      "X20_NV                       VIF = 238.3 R^2 = 0.9958    \n",
      "X20_NY                       VIF = 1392.0R^2 = 0.9993    \n",
      "X20_OH                       VIF = 560.6 R^2 = 0.9982    \n",
      "X20_OK                       VIF = 164.8 R^2 = 0.9939    \n",
      "X20_OR                       VIF = 218.8 R^2 = 0.9954    \n",
      "X20_PA                       VIF = 604.5 R^2 = 0.9983    \n",
      "X20_RI                       VIF = 9.00719925474e+15R^2 = 1.0       \n",
      "X20_SC                       VIF = 226.6 R^2 = 0.9956    \n",
      "X20_SD                       VIF = 40.0  R^2 = 0.975     \n",
      "X20_TN                       VIF = 219.8 R^2 = 0.9955    \n",
      "X20_TX                       VIF = 4.50359962737e+15R^2 = 1.0       \n",
      "X20_UT                       VIF = 143.2 R^2 = 0.993     \n",
      "X20_VA                       VIF = 9.00719925474e+15R^2 = 1.0       \n",
      "X20_VT                       VIF = 35.0  R^2 = 0.9714    \n",
      "X20_WA                       VIF = 371.8 R^2 = 0.9973    \n",
      "X20_WI                       VIF = 221.7 R^2 = 0.9955    \n",
      "X20_WV                       VIF = 68.9  R^2 = 0.9855    \n",
      "X20_WY                       VIF = 40.0  R^2 = 0.975     \n",
      "X32_f                        VIF = 8.18836295886e+14R^2 = 1.0       \n",
      "X32_w                        VIF = 8.18836295886e+14R^2 = 1.0       \n"
     ]
    }
   ],
   "source": [
    "xtrain_colin_test = br.perfect_collinearity_test(X_train)"
   ]
  },
  {
   "cell_type": "code",
   "execution_count": 90,
   "metadata": {
    "collapsed": false
   },
   "outputs": [
    {
     "data": {
      "text/plain": [
       "<matplotlib.axes._subplots.AxesSubplot at 0x14ce3e80>"
      ]
     },
     "execution_count": 90,
     "metadata": {},
     "output_type": "execute_result"
    },
    {
     "data": {
      "image/png": "[encoded data removed]",
      "text/plain": [
       "<matplotlib.figure.Figure at 0x5967aa20>"
      ]
     },
     "metadata": {},
     "output_type": "display_data"
    }
   ],
   "source": [
    "import seaborn as sns\n",
    "sns.distplot(xtrain_colin_test.values)"
   ]
  },
  {
   "cell_type": "code",
   "execution_count": 55,
   "metadata": {
    "collapsed": false
   },
   "outputs": [
    {
     "data": {
      "text/plain": [
       "X1     80000\n",
       "X2         0\n",
       "X3         0\n",
       "X4         0\n",
       "X5         0\n",
       "X6         0\n",
       "X7         0\n",
       "X8         0\n",
       "X9         0\n",
       "X11        0\n",
       "X12        0\n",
       "X13        0\n",
       "X14        0\n",
       "X15        0\n",
       "X17        0\n",
       "X19        0\n",
       "X20        0\n",
       "X21        0\n",
       "X22        0\n",
       "X23        0\n",
       "X24        0\n",
       "X25    38704\n",
       "X26    66161\n",
       "X27        0\n",
       "X28        0\n",
       "X29        0\n",
       "X30       30\n",
       "X31        0\n",
       "X32        0\n",
       "dtype: int64"
      ]
     },
     "execution_count": 55,
     "metadata": {},
     "output_type": "execute_result"
    }
   ],
   "source": [
    "#==========================================================\n",
    "#Score validation data\n",
    "#==========================================================\n",
    "ho_data = pd.read_csv(\"Holdout for Testing.csv\", low_memory = False)\n",
    "\n",
    "#================================================\n",
    "#clean data\n",
    "#================================================\n",
    "\n",
    "#drop 10, 16, 18 due to dummy generation limitations\n",
    "#also, 16 is missing from validation\n",
    "ho_data = ho_data.drop(['X10','X16','X18'],1)\n",
    "\n",
    "#check number of nulls in each column\n",
    "ho_data.isnull().sum(axis=0)\n"
   ]
  },
  {
   "cell_type": "code",
   "execution_count": 39,
   "metadata": {
    "collapsed": false
   },
   "outputs": [
    {
     "data": {
      "text/plain": [
       "80000"
      ]
     },
     "execution_count": 39,
     "metadata": {},
     "output_type": "execute_result"
    }
   ],
   "source": [
    "print len(ho_data)"
   ]
  },
  {
   "cell_type": "code",
   "execution_count": null,
   "metadata": {
    "collapsed": true
   },
   "outputs": [],
   "source": [
    "\n",
    "#clean nulls\n",
    "ho_data.X8 = ho_data.X8.fillna(0)\n",
    "ho_data.X9 = ho_data.X9.fillna(0)\n",
    "ho_data.X12 = ho_data.X12.fillna(0)"
   ]
  },
  {
   "cell_type": "code",
   "execution_count": 56,
   "metadata": {
    "collapsed": false
   },
   "outputs": [
    {
     "name": "stdout",
     "output_type": "stream",
     "text": [
      "{'X25': 31.0, 'X13': 63000.0, 'X26': 80.0}\n",
      "{'X25': 30.0, 'X13': 64857.0, 'X26': 67.0}\n"
     ]
    }
   ],
   "source": [
    "ho_medians = {}\n",
    "ho_medians['X13']=ho_data.X13.median()\n",
    "ho_medians['X25']=ho_data.X25.median()\n",
    "ho_medians['X26']=ho_data.X26.median()\n",
    "print training_medians\n",
    "print ho_medians"
   ]
  },
  {
   "cell_type": "code",
   "execution_count": 57,
   "metadata": {
    "collapsed": true
   },
   "outputs": [],
   "source": [
    "ho_d2 = ho_data.copy() # save this for later"
   ]
  },
  {
   "cell_type": "code",
   "execution_count": null,
   "metadata": {
    "collapsed": true
   },
   "outputs": [],
   "source": []
  },
  {
   "cell_type": "code",
   "execution_count": 58,
   "metadata": {
    "collapsed": false
   },
   "outputs": [
    {
     "data": {
      "text/plain": [
       "X1     0\n",
       "X2     0\n",
       "X3     0\n",
       "X4     0\n",
       "X5     0\n",
       "X6     0\n",
       "X7     0\n",
       "X8     0\n",
       "X9     0\n",
       "X11    0\n",
       "X12    0\n",
       "X13    0\n",
       "X14    0\n",
       "X15    0\n",
       "X17    0\n",
       "X19    0\n",
       "X20    0\n",
       "X21    0\n",
       "X22    0\n",
       "X23    0\n",
       "X24    0\n",
       "X25    0\n",
       "X26    0\n",
       "X27    0\n",
       "X28    0\n",
       "X29    0\n",
       "X30    0\n",
       "X31    0\n",
       "X32    0\n",
       "dtype: int64"
      ]
     },
     "execution_count": 58,
     "metadata": {},
     "output_type": "execute_result"
    }
   ],
   "source": [
    "\n",
    "#data.X30 = data.X30.fillna(0)\n",
    "ho_data.X13 = ho_data.X13.fillna(ho_data.X13.median())\n",
    "ho_data.X25 = ho_data.X25.fillna(ho_data.X25.median())\n",
    "ho_data.X26 = ho_data.X26.fillna(ho_data.X26.median())\n",
    "\n",
    "#calculate age for 23\n",
    "#now = pd.Timestamp(DT.datetime.now())\n",
    "#(now - data['X23']).astype('<m8[Y]')\n",
    "#data['X23']\n",
    "#16 - data['X23'].str[-2:].astype(float)\n",
    "\n",
    "#clean up % data types\n",
    "#data['X1'] = data['X1'].map(lambda x: x.strip('%')).astype(float)\n",
    "ho_data['X30'] = ho_data['X30'].fillna('0%')\n",
    "ho_data['X30'] = ho_data['X30'].map(lambda x: x.replace('%',''))\n",
    "ho_data['X30'] = ho_data['X30'].astype(float)\n",
    "\n",
    "#clean up $ data types\n",
    "ho_data['X4'] = ho_data['X4'].fillna('$0')\n",
    "ho_data['X5'] = ho_data['X5'].fillna('$0')\n",
    "ho_data['X6'] = ho_data['X6'].fillna('$0')\n",
    "ho_data['X4'] = ho_data['X4'].map(lambda x: x.replace(',',''))\n",
    "ho_data['X5'] = ho_data['X5'].map(lambda x: x.replace(',',''))\n",
    "ho_data['X6'] = ho_data['X6'].map(lambda x: x.replace(',',''))\n",
    "ho_data['X4'] = ho_data['X4'].map(lambda x: x.strip('$')).astype(float)\n",
    "ho_data['X5'] = ho_data['X5'].map(lambda x: x.strip('$')).astype(float)\n",
    "ho_data['X6'] = ho_data['X6'].map(lambda x: x.strip('$')).astype(float)\n",
    "\n",
    "#replace all other NaN with 0\n",
    "ho_data = ho_data.fillna(0)\n",
    "\n",
    "#check for NAN\n",
    "ho_data.isnull().sum(axis=0)\n",
    "\n"
   ]
  },
  {
   "cell_type": "code",
   "execution_count": 59,
   "metadata": {
    "collapsed": true
   },
   "outputs": [],
   "source": [
    "#create dummy variables for categorical data\n",
    "dummies1 = pd.get_dummies(ho_data[['X7','X8','X9']])\n",
    "dummies2 = pd.get_dummies(ho_data[['X11','X12']])\n",
    "dummies3 = pd.get_dummies(ho_data[['X14']])#,'X15']])\n",
    "dummies4 = pd.get_dummies(ho_data[['X17']])#,'X19']])\n",
    "dummies5 = pd.get_dummies(ho_data[['X20','X32']])\n",
    "\n",
    "#drop original columns from database\n",
    "ho_data = ho_data.drop(['X7','X8','X9','X11','X12','X14','X17','X20','X32','X15','X19'], axis=1) \n",
    "\n",
    "#concatenate dummy variables with dataset\n",
    "frames2 = [ho_data, dummies1,dummies2,dummies3,dummies4,dummies5]\n",
    "X_val = pd.concat(frames2, axis = 1)\n",
    "\n",
    "#set X\n",
    "#X_val = data\n",
    "\n"
   ]
  },
  {
   "cell_type": "code",
   "execution_count": 60,
   "metadata": {
    "collapsed": true
   },
   "outputs": [],
   "source": [
    "#take target out of attributes\n",
    "X_val = X_val.drop('X1',1)\n",
    "\n",
    "#drop 30 and 23, need to do more preprocessing\n",
    "X_val = X_val.drop('X23',1)\n",
    "\n",
    "#get predictions for model\n",
    "predicted_validation = pd.DataFrame(estimator.predict(X_val))\n",
    "\n"
   ]
  },
  {
   "cell_type": "code",
   "execution_count": 63,
   "metadata": {
    "collapsed": false
   },
   "outputs": [
    {
     "data": {
      "text/plain": [
       "'C:\\\\Users\\\\kesj\\\\Documents\\\\SFinfo\\\\DSE\\\\interviewStuff\\\\WorkSample'"
      ]
     },
     "execution_count": 63,
     "metadata": {},
     "output_type": "execute_result"
    }
   ],
   "source": [
    "os.getcwd()"
   ]
  },
  {
   "cell_type": "code",
   "execution_count": 64,
   "metadata": {
    "collapsed": false
   },
   "outputs": [
    {
     "name": "stdout",
     "output_type": "stream",
     "text": [
      " Volume in drive C is OS\n",
      " Volume Serial Number is 222B-1C6E\n",
      "\n",
      " Directory of C:\\Users\\kesj\\Documents\\SFinfo\\DSE\\interviewStuff\\WorkSample\n",
      "\n",
      "02/19/2016  11:57 AM    <DIR>          .\n",
      "02/19/2016  11:57 AM    <DIR>          ..\n",
      "02/15/2016  04:16 PM         1,555,356 Applicant_Grader.ipynb\n",
      "07/24/2015  04:54 PM               790 BasicFunctions.py\n",
      "08/21/2015  04:23 AM       115,872,562 Data for Cleaning & Modeling.csv\n",
      "08/21/2015  04:06 AM        17,283,347 Holdout for Testing.csv\n",
      "02/10/2016  04:26 PM        26,320,497 Holdout.csv\n",
      "08/17/2015  04:26 AM             2,045 Instructions.txt\n",
      "08/04/2015  01:01 PM             1,738 Metadata.csv\n",
      "08/24/2015  09:22 AM        18,245,814 Work Sample for Job# 55069.zipx\n",
      "               8 File(s)    179,282,149 bytes\n",
      "               2 Dir(s)  87,728,939,008 bytes free\n"
     ]
    }
   ],
   "source": [
    "%ls"
   ]
  },
  {
   "cell_type": "code",
   "execution_count": 65,
   "metadata": {
    "collapsed": true
   },
   "outputs": [],
   "source": [
    "predicted_validation.to_csv('forest_regressor_predictors.csv')"
   ]
  },
  {
   "cell_type": "code",
   "execution_count": null,
   "metadata": {
    "collapsed": true
   },
   "outputs": [],
   "source": []
  }
 ],
 "metadata": {
  "kernelspec": {
   "display_name": "Python 2",
   "language": "python",
   "name": "python2"
  },
  "language_info": {
   "codemirror_mode": {
    "name": "ipython",
    "version": 2
   },
   "file_extension": ".py",
   "mimetype": "text/x-python",
   "name": "python",
   "nbconvert_exporter": "python",
   "pygments_lexer": "ipython2",
   "version": "2.7.11"
  }
 },
 "nbformat": 4,
 "nbformat_minor": 0
}
