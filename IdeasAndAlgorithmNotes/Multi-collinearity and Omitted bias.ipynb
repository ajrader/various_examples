{
 "metadata": {
  "name": "",
  "signature": "sha256:e4ac0c97df6088b23063c03c07f996b7cbcdd182809615a11732a9c9e5d31b54"
 },
 "nbformat": 3,
 "nbformat_minor": 0,
 "worksheets": [
  {
   "cells": [
    {
     "cell_type": "markdown",
     "metadata": {},
     "source": [
      "# Multicolinearity and Big Data\n",
      "### Feb. 13, 2015\n",
      "* occurs whenever we are dealing with a linear model\n",
      "\n",
      "The general linear model:\n",
      "$ y = \\beta_0 + \\beta_1 x_1 + \\beta_2 x_2 + \\cdots + \\beta_k x_k + \\epsilon$"
     ]
    },
    {
     "cell_type": "markdown",
     "metadata": {},
     "source": [
      "### take a simple dataset with $n$ values of $y$ and $x$.\n",
      "Say $\\hat{y}= 0.5x $"
     ]
    },
    {
     "cell_type": "code",
     "collapsed": false,
     "input": [
      "import numpy as np\n",
      "%pylab inline"
     ],
     "language": "python",
     "metadata": {},
     "outputs": [
      {
       "output_type": "stream",
       "stream": "stdout",
       "text": [
        "Populating the interactive namespace from numpy and matplotlib\n"
       ]
      }
     ],
     "prompt_number": 1
    },
    {
     "cell_type": "code",
     "collapsed": false,
     "input": [
      "y = np.array([10,23,14,14,12,54,23])\n",
      "x1 = np.array([20, 46,28, 28, 24,108,46])"
     ],
     "language": "python",
     "metadata": {},
     "outputs": [],
     "prompt_number": 4
    },
    {
     "cell_type": "code",
     "collapsed": false,
     "input": [
      "plot(x1,y,'s:',color='midnightblue')"
     ],
     "language": "python",
     "metadata": {},
     "outputs": [
      {
       "metadata": {},
       "output_type": "pyout",
       "prompt_number": 6,
       "text": [
        "[<matplotlib.lines.Line2D at 0xaa11780>]"
       ]
      },
      {
       "metadata": {},
       "output_type": "display_data",
       "png": "[encoded data removed]",
       "text": [
        "<matplotlib.figure.Figure at 0xaaa24e0>"
       ]
      }
     ],
     "prompt_number": 6
    },
    {
     "cell_type": "code",
     "collapsed": false,
     "input": [
      "### add another variable that is a random number between [-1,1] x2\n",
      "x2 = random.randn(7)\n",
      "x2\n",
      "# in this case the beta term for x2 is zero"
     ],
     "language": "python",
     "metadata": {},
     "outputs": [
      {
       "metadata": {},
       "output_type": "pyout",
       "prompt_number": 8,
       "text": [
        "array([-0.84673111,  0.08590859, -0.71576178,  1.03980237,  1.87015842,\n",
        "        0.74343216, -0.98503037])"
       ]
      }
     ],
     "prompt_number": 8
    },
    {
     "cell_type": "markdown",
     "metadata": {},
     "source": [
      "## Collinearity occurs when at least one x variable is highly correlated with a combination of other x variables\n",
      "\n",
      "### Effect: Crazy (i.e. high variance), but unbiased parameter estimates for linear models."
     ]
    },
    {
     "cell_type": "code",
     "collapsed": false,
     "input": [
      "%cd ../../notes/DS&E/lifevents/collinearity"
     ],
     "language": "python",
     "metadata": {},
     "outputs": [
      {
       "output_type": "stream",
       "stream": "stdout",
       "text": [
        "C:\\Users\\kesj\\Documents\\notes\\DS&E\\lifevents\\collinearity\n"
       ]
      }
     ],
     "prompt_number": 10
    },
    {
     "cell_type": "code",
     "collapsed": false,
     "input": [
      "%ls"
     ],
     "language": "python",
     "metadata": {},
     "outputs": [
      {
       "output_type": "stream",
       "stream": "stdout",
       "text": [
        " Volume in drive C is OS\n",
        " Volume Serial Number is E02E-C1BA\n",
        "\n",
        " Directory of C:\\Users\\kesj\\Documents\\notes\\DS&E\\lifevents\\collinearity\n",
        "\n",
        "02/13/2015  11:16 AM    <DIR>          .\n",
        "02/13/2015  11:16 AM    <DIR>          ..\n",
        "02/12/2015  10:39 PM         9,035,629 Collinearity experiment v3.0.xlsx\n",
        "02/13/2015  10:57 AM           411,963 Collinearity v.1.1.pptx\n",
        "07/27/2014  04:04 PM            32,668 Evidence for statistics.docx\n",
        "02/13/2015  10:55 AM         2,474,418 Numeric encoding.xlsx\n",
        "02/13/2015  12:22 AM            84,420 Omitted Variable Bias.xlsx\n",
        "               5 File(s)     12,039,098 bytes\n",
        "               2 Dir(s)  10,165,731,328 bytes free\n"
       ]
      }
     ],
     "prompt_number": 11
    },
    {
     "cell_type": "code",
     "collapsed": false,
     "input": [
      "n_obs = 52\n",
      "err_pct_y = 0.75\n",
      "x1_x2_corr = 0.95"
     ],
     "language": "python",
     "metadata": {},
     "outputs": []
    },
    {
     "cell_type": "code",
     "collapsed": false,
     "input": [
      "## Omitted Variable Bias\n",
      "# create n random variables for x1 and x2\n",
      "ran"
     ],
     "language": "python",
     "metadata": {},
     "outputs": []
    }
   ],
   "metadata": {}
  }
 ]
}