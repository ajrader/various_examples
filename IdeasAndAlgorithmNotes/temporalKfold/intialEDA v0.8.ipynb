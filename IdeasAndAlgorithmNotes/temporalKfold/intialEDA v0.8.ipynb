{
 "cells": [
  {
   "cell_type": "markdown",
   "metadata": {},
   "source": [
    "# Initial Exploratory Data Analysis for the HR Separation (hrsepara) project\n",
    "## Identify the correct working directory for source data\n",
    "* '/data/discovery/hrsepara/core/'\n",
    "## Identify the correct working directory for the analysis (both HDFS and LFS)\n",
    "* '/data/discovery/hrsepara/staging/eda' and  '/home/kesj/working/hrsepara/eda/'\n",
    "## begin to summarize data \n"
   ]
  },
  {
   "cell_type": "code",
   "execution_count": 1,
   "metadata": {
    "collapsed": true
   },
   "outputs": [],
   "source": [
    "coredir = '/data/discovery/hrsepara/core/'\n",
    "stgdir1 = '/data/discovery/hrsepara/staging/eda'\n",
    "stgdir1local = '/home/kesj/work/hrsepara/eda'\n"
   ]
  },
  {
   "cell_type": "code",
   "execution_count": 2,
   "metadata": {
    "collapsed": false
   },
   "outputs": [
    {
     "name": "stderr",
     "output_type": "stream",
     "text": [
      "/opt/anaconda/2.3.0/lib/python2.7/site-packages/matplotlib/font_manager.py:273: UserWarning: Matplotlib is building the font cache using fc-list. This may take a moment.\n",
      "  warnings.warn('Matplotlib is building the font cache using fc-list. This may take a moment.')\n"
     ]
    }
   ],
   "source": [
    "import os,subprocess\n",
    "import pandas as pd\n",
    "import numpy as np\n",
    "%matplotlib inline\n",
    "from datetime import datetime\n",
    "import matplotlib.pyplot as plt\n",
    "from sklearn import preprocessing\n",
    "from itertools import chain\n",
    "import random"
   ]
  },
  {
   "cell_type": "code",
   "execution_count": 3,
   "metadata": {
    "collapsed": false
   },
   "outputs": [
    {
     "name": "stderr",
     "output_type": "stream",
     "text": [
      "/opt/anaconda/2.3.0/lib/python2.7/site-packages/matplotlib/__init__.py:872: UserWarning: axes.color_cycle is deprecated and replaced with axes.prop_cycle; please use the latter.\n",
      "  warnings.warn(self.msg_depr % (key, alt_key))\n"
     ]
    }
   ],
   "source": [
    "plt.style.use('fivethirtyeight') # Good looking plots\n",
    "import seaborn as sns"
   ]
  },
  {
   "cell_type": "code",
   "execution_count": 4,
   "metadata": {
    "collapsed": false
   },
   "outputs": [
    {
     "data": {
      "text/plain": [
       "True"
      ]
     },
     "execution_count": 4,
     "metadata": {},
     "output_type": "execute_result"
    }
   ],
   "source": [
    "# check if the path exists\n",
    "os.path.exists(stgdir1local)"
   ]
  },
  {
   "cell_type": "code",
   "execution_count": 5,
   "metadata": {
    "collapsed": true
   },
   "outputs": [],
   "source": [
    "def hdfs_path_doesnt_exist(path):\n",
    "    return subprocess.call(['hdfs','dfs','-ls',path])\n",
    "    # returns 0 if doesnt_exist; 1 otherwise\n",
    "    "
   ]
  },
  {
   "cell_type": "code",
   "execution_count": 6,
   "metadata": {
    "collapsed": false
   },
   "outputs": [
    {
     "name": "stdout",
     "output_type": "stream",
     "text": [
      "mkdir: `/data/discovery/hrsepara/staging/eda': File exists\r\n"
     ]
    }
   ],
   "source": [
    "# make the remote directory\n",
    "if not hdfs_path_doesnt_exist(stgdir1):\n",
    "    !hdfs dfs -mkdir {stgdir1}"
   ]
  },
  {
   "cell_type": "code",
   "execution_count": 7,
   "metadata": {
    "collapsed": false
   },
   "outputs": [
    {
     "name": "stdout",
     "output_type": "stream",
     "text": [
      "/home/kesj/work/hrsepara/eda\n",
      "/home/kesj/work/hrsepara/eda\n"
     ]
    }
   ],
   "source": [
    "# check if the path exists\n",
    "if not os.path.exists(stgdir1local):\n",
    "    # make the local directory\n",
    "    !mkdir {stgdir1local}\n",
    "    #'/home/kesj/work/hrsepara/eda'\n",
    "\n",
    "\n",
    "%pwd\n",
    "%cd {stgdir1local}\n",
    "#define the currentworking directory:\n",
    "cwd = os.path.abspath(os.curdir)\n",
    "print cwd"
   ]
  },
  {
   "cell_type": "markdown",
   "metadata": {},
   "source": [
    "## Look at the files in {coredir}"
   ]
  },
  {
   "cell_type": "code",
   "execution_count": 8,
   "metadata": {
    "collapsed": false
   },
   "outputs": [
    {
     "name": "stdout",
     "output_type": "stream",
     "text": [
      "16\n"
     ]
    },
    {
     "data": {
      "text/plain": [
       "['/data/discovery/hrsepara/core/EAS',\n",
       " '/data/discovery/hrsepara/core/EMPL',\n",
       " '/data/discovery/hrsepara/core/HISTCURR',\n",
       " '/data/discovery/hrsepara/core/HISTRET',\n",
       " '/data/discovery/hrsepara/core/HISTRETold',\n",
       " '/data/discovery/hrsepara/core/SBR',\n",
       " '/data/discovery/hrsepara/core/SR_BENEFIT.txt',\n",
       " '/data/discovery/hrsepara/core/SR_CKE.txt',\n",
       " '/data/discovery/hrsepara/core/SR_COMP.txt',\n",
       " '/data/discovery/hrsepara/core/SR_CPR.txt',\n",
       " '/data/discovery/hrsepara/core/SR_EAS.txt',\n",
       " '/data/discovery/hrsepara/core/SR_EDU.txt',\n",
       " '/data/discovery/hrsepara/core/SR_INS.txt',\n",
       " '/data/discovery/hrsepara/core/SR_LANG.txt',\n",
       " '/data/discovery/hrsepara/core/SR_LIC.txt',\n",
       " '/data/discovery/hrsepara/core/SR_RELO.txt']"
      ]
     },
     "execution_count": 8,
     "metadata": {},
     "output_type": "execute_result"
    }
   ],
   "source": [
    "fnames = !hdfs dfs -ls {coredir}\n",
    "infilenames = [f.split()[-1] for f in fnames[1:]]\n",
    "print len(infilenames)\n",
    "infilenames"
   ]
  },
  {
   "cell_type": "markdown",
   "metadata": {},
   "source": [
    "### helper functions"
   ]
  },
  {
   "cell_type": "code",
   "execution_count": 9,
   "metadata": {
    "collapsed": true
   },
   "outputs": [],
   "source": [
    "## function to load into pandas from hdfs (by copying to local filespace)\n",
    "def pandas_read_hdfs(infile,sep = ';',dtype_dict = None):\n",
    "    # copy the infile to the cwd\n",
    "    !hdfs dfs -get {infile} .\n",
    "    # identify the local file name\n",
    "    inname = infile[infile.rfind('/')+1:]\n",
    "    # read into a data frame\n",
    "    if dtype_dict != None:\n",
    "        df = pd.read_csv(inname,sep=sep,dtype =dtype_dict)\n",
    "    else:\n",
    "        df = pd.read_csv(inname,sep=sep)\n",
    "    # clean up local filespace\n",
    "    !rm {inname}\n",
    "    return df\n",
    "\n",
    "#\n",
    "def summarize_dataframe2(df,show_example=False,verbose=False):\n",
    "    nrow = len(df)\n",
    "    summary_df = pd.DataFrame(columns = ['Column','datatype','nmissing','arity','accepted values'])\n",
    "    len_df = len(summary_df)\n",
    "    for col in df.columns:\n",
    "        nmiss = nrow - df[col].value_counts().sum()\n",
    "        narity = len(df[col].unique())\n",
    "        if show_example:\n",
    "            print col, df[col].dtype,nmiss, \"\\t\", narity,\":\\t\", df[col].ix[8320]\n",
    "        elif verbose:\n",
    "            print col, df[col].dtype,nmiss, \"\\t\", narity\n",
    "        accept_val = None\n",
    "        if narity < 20:\n",
    "            accept_val = df[col].unique()\n",
    "        summary_df.loc[len_df] = [col,df[col].dtype,nmiss,narity,accept_val]\n",
    "        len_df+=1\n",
    "    # assing fraction of missing\n",
    "    summary_df['x_missing'] = summary_df['nmissing']/float(nrow)\n",
    "    \n",
    "    return summary_df"
   ]
  },
  {
   "cell_type": "markdown",
   "metadata": {},
   "source": [
    "## Load the original EMPL data"
   ]
  },
  {
   "cell_type": "code",
   "execution_count": 11,
   "metadata": {
    "collapsed": false
   },
   "outputs": [
    {
     "data": {
      "text/plain": [
       "(334162, 20)"
      ]
     },
     "execution_count": 11,
     "metadata": {},
     "output_type": "execute_result"
    }
   ],
   "source": [
    "empl_df = pandas_read_hdfs(infilenames[1],dtype_dict={'KEY':np.str})\n",
    "empl_df.shape"
   ]
  },
  {
   "cell_type": "code",
   "execution_count": 12,
   "metadata": {
    "collapsed": true
   },
   "outputs": [],
   "source": [
    "sdf_empl = summarize_dataframe2(empl_df)"
   ]
  },
  {
   "cell_type": "code",
   "execution_count": 13,
   "metadata": {
    "collapsed": false
   },
   "outputs": [
    {
     "data": {
      "text/html": [
       "<div>\n",
       "<table border=\"1\" class=\"dataframe\">\n",
       "  <thead>\n",
       "    <tr style=\"text-align: right;\">\n",
       "      <th></th>\n",
       "      <th>Column</th>\n",
       "      <th>datatype</th>\n",
       "      <th>nmissing</th>\n",
       "      <th>arity</th>\n",
       "      <th>accepted values</th>\n",
       "      <th>x_missing</th>\n",
       "    </tr>\n",
       "  </thead>\n",
       "  <tbody>\n",
       "    <tr>\n",
       "      <th>0</th>\n",
       "      <td>KEY</td>\n",
       "      <td>object</td>\n",
       "      <td>0</td>\n",
       "      <td>334162</td>\n",
       "      <td>None</td>\n",
       "      <td>0.000000</td>\n",
       "    </tr>\n",
       "    <tr>\n",
       "      <th>1</th>\n",
       "      <td>STATE</td>\n",
       "      <td>object</td>\n",
       "      <td>226</td>\n",
       "      <td>80</td>\n",
       "      <td>None</td>\n",
       "      <td>0.000676</td>\n",
       "    </tr>\n",
       "    <tr>\n",
       "      <th>2</th>\n",
       "      <td>ADDRESS1</td>\n",
       "      <td>object</td>\n",
       "      <td>182</td>\n",
       "      <td>308612</td>\n",
       "      <td>None</td>\n",
       "      <td>0.000545</td>\n",
       "    </tr>\n",
       "    <tr>\n",
       "      <th>3</th>\n",
       "      <td>ADDRESS2</td>\n",
       "      <td>object</td>\n",
       "      <td>311577</td>\n",
       "      <td>11543</td>\n",
       "      <td>None</td>\n",
       "      <td>0.932413</td>\n",
       "    </tr>\n",
       "    <tr>\n",
       "      <th>4</th>\n",
       "      <td>POSTAL_SFI</td>\n",
       "      <td>object</td>\n",
       "      <td>240</td>\n",
       "      <td>65409</td>\n",
       "      <td>None</td>\n",
       "      <td>0.000718</td>\n",
       "    </tr>\n",
       "    <tr>\n",
       "      <th>5</th>\n",
       "      <td>HIRE_DT</td>\n",
       "      <td>object</td>\n",
       "      <td>6</td>\n",
       "      <td>15467</td>\n",
       "      <td>None</td>\n",
       "      <td>0.000018</td>\n",
       "    </tr>\n",
       "    <tr>\n",
       "      <th>6</th>\n",
       "      <td>LAST_HIRE_DT</td>\n",
       "      <td>object</td>\n",
       "      <td>5</td>\n",
       "      <td>14695</td>\n",
       "      <td>None</td>\n",
       "      <td>0.000015</td>\n",
       "    </tr>\n",
       "    <tr>\n",
       "      <th>7</th>\n",
       "      <td>SERVICE_DT</td>\n",
       "      <td>object</td>\n",
       "      <td>0</td>\n",
       "      <td>19150</td>\n",
       "      <td>None</td>\n",
       "      <td>0.000000</td>\n",
       "    </tr>\n",
       "    <tr>\n",
       "      <th>8</th>\n",
       "      <td>SEX</td>\n",
       "      <td>object</td>\n",
       "      <td>0</td>\n",
       "      <td>3</td>\n",
       "      <td>[M, F, U]</td>\n",
       "      <td>0.000000</td>\n",
       "    </tr>\n",
       "    <tr>\n",
       "      <th>9</th>\n",
       "      <td>MAR_STA_SNAME_SFI</td>\n",
       "      <td>object</td>\n",
       "      <td>0</td>\n",
       "      <td>3</td>\n",
       "      <td>[SINGLE, MARRIED, LEG SEPAR]</td>\n",
       "      <td>0.000000</td>\n",
       "    </tr>\n",
       "    <tr>\n",
       "      <th>10</th>\n",
       "      <td>MAR_STATUS_DT</td>\n",
       "      <td>object</td>\n",
       "      <td>212103</td>\n",
       "      <td>5385</td>\n",
       "      <td>None</td>\n",
       "      <td>0.634731</td>\n",
       "    </tr>\n",
       "    <tr>\n",
       "      <th>11</th>\n",
       "      <td>BIRTHDATE</td>\n",
       "      <td>object</td>\n",
       "      <td>0</td>\n",
       "      <td>28474</td>\n",
       "      <td>None</td>\n",
       "      <td>0.000000</td>\n",
       "    </tr>\n",
       "    <tr>\n",
       "      <th>12</th>\n",
       "      <td>ETHNIC_GROUP</td>\n",
       "      <td>float64</td>\n",
       "      <td>11</td>\n",
       "      <td>9</td>\n",
       "      <td>[1.0, 3.0, 2.0, 4.0, 5.0, 8.0, 7.0, 6.0, nan]</td>\n",
       "      <td>0.000033</td>\n",
       "    </tr>\n",
       "    <tr>\n",
       "      <th>13</th>\n",
       "      <td>RELO_STATE_CNT_SFI</td>\n",
       "      <td>int64</td>\n",
       "      <td>0</td>\n",
       "      <td>55</td>\n",
       "      <td>None</td>\n",
       "      <td>0.000000</td>\n",
       "    </tr>\n",
       "    <tr>\n",
       "      <th>14</th>\n",
       "      <td>RELOCATE_ALL_SFI</td>\n",
       "      <td>object</td>\n",
       "      <td>0</td>\n",
       "      <td>2</td>\n",
       "      <td>[N, Y]</td>\n",
       "      <td>0.000000</td>\n",
       "    </tr>\n",
       "    <tr>\n",
       "      <th>15</th>\n",
       "      <td>TOT_MO_SERVICE_SFI</td>\n",
       "      <td>int64</td>\n",
       "      <td>0</td>\n",
       "      <td>813</td>\n",
       "      <td>None</td>\n",
       "      <td>0.000000</td>\n",
       "    </tr>\n",
       "    <tr>\n",
       "      <th>16</th>\n",
       "      <td>ADDRCNT1</td>\n",
       "      <td>float64</td>\n",
       "      <td>177</td>\n",
       "      <td>6</td>\n",
       "      <td>[0.0, 1.0, 2.0, nan, 3.0, 4.0]</td>\n",
       "      <td>0.000530</td>\n",
       "    </tr>\n",
       "    <tr>\n",
       "      <th>17</th>\n",
       "      <td>ADDRCNT3</td>\n",
       "      <td>float64</td>\n",
       "      <td>177</td>\n",
       "      <td>10</td>\n",
       "      <td>[0.0, 1.0, 2.0, 3.0, nan, 4.0, 5.0, 8.0, 6.0, ...</td>\n",
       "      <td>0.000530</td>\n",
       "    </tr>\n",
       "    <tr>\n",
       "      <th>18</th>\n",
       "      <td>ADDRCNT5</td>\n",
       "      <td>float64</td>\n",
       "      <td>177</td>\n",
       "      <td>12</td>\n",
       "      <td>[0.0, 1.0, 2.0, 3.0, nan, 4.0, 5.0, 11.0, 9.0,...</td>\n",
       "      <td>0.000530</td>\n",
       "    </tr>\n",
       "    <tr>\n",
       "      <th>19</th>\n",
       "      <td>ADDRCNT10</td>\n",
       "      <td>float64</td>\n",
       "      <td>177</td>\n",
       "      <td>15</td>\n",
       "      <td>[0.0, 1.0, 3.0, 2.0, 4.0, 5.0, nan, 6.0, 8.0, ...</td>\n",
       "      <td>0.000530</td>\n",
       "    </tr>\n",
       "  </tbody>\n",
       "</table>\n",
       "</div>"
      ],
      "text/plain": [
       "                Column datatype  nmissing   arity  \\\n",
       "0                  KEY   object         0  334162   \n",
       "1                STATE   object       226      80   \n",
       "2             ADDRESS1   object       182  308612   \n",
       "3             ADDRESS2   object    311577   11543   \n",
       "4           POSTAL_SFI   object       240   65409   \n",
       "5              HIRE_DT   object         6   15467   \n",
       "6         LAST_HIRE_DT   object         5   14695   \n",
       "7           SERVICE_DT   object         0   19150   \n",
       "8                  SEX   object         0       3   \n",
       "9    MAR_STA_SNAME_SFI   object         0       3   \n",
       "10       MAR_STATUS_DT   object    212103    5385   \n",
       "11           BIRTHDATE   object         0   28474   \n",
       "12        ETHNIC_GROUP  float64        11       9   \n",
       "13  RELO_STATE_CNT_SFI    int64         0      55   \n",
       "14    RELOCATE_ALL_SFI   object         0       2   \n",
       "15  TOT_MO_SERVICE_SFI    int64         0     813   \n",
       "16            ADDRCNT1  float64       177       6   \n",
       "17            ADDRCNT3  float64       177      10   \n",
       "18            ADDRCNT5  float64       177      12   \n",
       "19           ADDRCNT10  float64       177      15   \n",
       "\n",
       "                                      accepted values  x_missing  \n",
       "0                                                None   0.000000  \n",
       "1                                                None   0.000676  \n",
       "2                                                None   0.000545  \n",
       "3                                                None   0.932413  \n",
       "4                                                None   0.000718  \n",
       "5                                                None   0.000018  \n",
       "6                                                None   0.000015  \n",
       "7                                                None   0.000000  \n",
       "8                                           [M, F, U]   0.000000  \n",
       "9                        [SINGLE, MARRIED, LEG SEPAR]   0.000000  \n",
       "10                                               None   0.634731  \n",
       "11                                               None   0.000000  \n",
       "12      [1.0, 3.0, 2.0, 4.0, 5.0, 8.0, 7.0, 6.0, nan]   0.000033  \n",
       "13                                               None   0.000000  \n",
       "14                                             [N, Y]   0.000000  \n",
       "15                                               None   0.000000  \n",
       "16                     [0.0, 1.0, 2.0, nan, 3.0, 4.0]   0.000530  \n",
       "17  [0.0, 1.0, 2.0, 3.0, nan, 4.0, 5.0, 8.0, 6.0, ...   0.000530  \n",
       "18  [0.0, 1.0, 2.0, 3.0, nan, 4.0, 5.0, 11.0, 9.0,...   0.000530  \n",
       "19  [0.0, 1.0, 3.0, 2.0, 4.0, 5.0, nan, 6.0, 8.0, ...   0.000530  "
      ]
     },
     "execution_count": 13,
     "metadata": {},
     "output_type": "execute_result"
    }
   ],
   "source": [
    "sdf_empl\n"
   ]
  },
  {
   "cell_type": "markdown",
   "metadata": {},
   "source": [
    "## Define types for specific columns"
   ]
  },
  {
   "cell_type": "code",
   "execution_count": 14,
   "metadata": {
    "collapsed": false
   },
   "outputs": [],
   "source": [
    "hist_record_dtype_dict = {'KEY':np.str,'LOCATION':np.str,'EEO1CODE':np.str,'SKEY':np.str,'JOBCODE':np.str,'EMPL_CLASS':np.str, \n",
    "                          'SHIFT':np.str,'COMPANY':np.str,'EXT_FUNC_ID_SFI':np.str,'FUNC_ID_SFI':np.str,\n",
    "                          'DIVISION_CODE_SFI':np.str,'JOB_FAMILY':np.str,'JOB_FUNCTION':np.str,'ACTRES1':np.str,\n",
    "                          'ACTRES2':np.str,'ACTRES3':np.str,'ACTRES4':np.str,'ACTRES5':np.str,'ACTRES6':np.str,\n",
    "                          'ACTRES7':np.str,'ACTRES8':np.str,'ACTRES9':np.str,'ACTRES10':np.str,'BOX1':np.str,\n",
    "                          'BOX2':np.str,'BOX3':np.str,'BOX4':np.str,'BOX5':np.str,'BOX6':np.str,'BOX7':np.str,\n",
    "                          'BOX8':np.str,'BOX9':np.str,'BOX10':np.str,'RATE1':np.str,'RATE2':np.str,'RATE3':np.str,\n",
    "                          'RATE4':np.str,'RATE5':np.str,'RATE6':np.str,'RATE7':np.str,'RATE8':np.str,'RATE9':np.str,\n",
    "                          'RATE10':np.str}\n",
    "#,'COUNT':np.float,'FUNC_CNT':np.float}\n",
    "#dictionary to load the histcurr and histret columns the same way"
   ]
  },
  {
   "cell_type": "markdown",
   "metadata": {},
   "source": [
    "## rename the last 2 columns of HISTCURR to match HISTRET"
   ]
  },
  {
   "cell_type": "code",
   "execution_count": 15,
   "metadata": {
    "collapsed": false
   },
   "outputs": [
    {
     "name": "stdout",
     "output_type": "stream",
     "text": [
      "(70609, 159)\n"
     ]
    }
   ],
   "source": [
    "histcurr_df = pandas_read_hdfs(infilenames[2],dtype_dict=hist_record_dtype_dict)\n",
    "print histcurr_df.shape#, histcurr_df.columns\n",
    "# rename the last two columns to match histret\n",
    "histcurr_df.rename(columns = {'COUNT':'FUNC_CNT','COUNT.1':'EXTFUNC_CNT'},inplace=True)"
   ]
  },
  {
   "cell_type": "markdown",
   "metadata": {},
   "source": [
    "### load the updated HISTRET file from HDFS"
   ]
  },
  {
   "cell_type": "code",
   "execution_count": 16,
   "metadata": {
    "collapsed": false
   },
   "outputs": [
    {
     "data": {
      "text/plain": [
       "(172554, 160)"
      ]
     },
     "execution_count": 16,
     "metadata": {},
     "output_type": "execute_result"
    }
   ],
   "source": [
    "histret_df = pandas_read_hdfs(infilenames[3],dtype_dict=hist_record_dtype_dict)\n",
    "histret_df.shape#,histret_df.columns"
   ]
  },
  {
   "cell_type": "code",
   "execution_count": 17,
   "metadata": {
    "collapsed": false
   },
   "outputs": [
    {
     "data": {
      "text/plain": [
       "VOLUNTARY      110899\n",
       "INVOLUNTARY     60663\n",
       "UNKNOWN           501\n",
       "OTHER             491\n",
       "Name: VOLINVOL, dtype: int64"
      ]
     },
     "execution_count": 17,
     "metadata": {},
     "output_type": "execute_result"
    }
   ],
   "source": [
    "histret_df.VOLINVOL.value_counts()"
   ]
  },
  {
   "cell_type": "markdown",
   "metadata": {},
   "source": [
    "#### add a column to histcurr_df corresponding to the new  VOLINVOL column:\n",
    "* value is 'NOT'"
   ]
  },
  {
   "cell_type": "code",
   "execution_count": 18,
   "metadata": {
    "collapsed": true
   },
   "outputs": [],
   "source": [
    "histcurr_df['VOLINVOL'] = 'NOT'"
   ]
  },
  {
   "cell_type": "markdown",
   "metadata": {},
   "source": [
    "## how many in histret have missing end dates?"
   ]
  },
  {
   "cell_type": "code",
   "execution_count": 19,
   "metadata": {
    "collapsed": false
   },
   "outputs": [
    {
     "data": {
      "text/plain": [
       "73"
      ]
     },
     "execution_count": 19,
     "metadata": {},
     "output_type": "execute_result"
    }
   ],
   "source": [
    "histret_df['TERMINATION_DT'].isnull().sum()"
   ]
  },
  {
   "cell_type": "code",
   "execution_count": 22,
   "metadata": {
    "collapsed": false
   },
   "outputs": [
    {
     "data": {
      "text/plain": [
       "['TERMINATION_DT']"
      ]
     },
     "execution_count": 22,
     "metadata": {},
     "output_type": "execute_result"
    }
   ],
   "source": [
    "[cname for cname in histcurr_df.columns if cname.endswith('DT')]"
   ]
  },
  {
   "cell_type": "code",
   "execution_count": 25,
   "metadata": {
    "collapsed": false
   },
   "outputs": [],
   "source": [
    "missing_termination_empl_keys = histret_df[histret_df['TERMINATION_DT'].isnull()].KEY.tolist()"
   ]
  },
  {
   "cell_type": "markdown",
   "metadata": {},
   "source": [
    "#### remove these employees"
   ]
  },
  {
   "cell_type": "code",
   "execution_count": 28,
   "metadata": {
    "collapsed": false
   },
   "outputs": [
    {
     "data": {
      "text/html": [
       "<div>\n",
       "<table border=\"1\" class=\"dataframe\">\n",
       "  <thead>\n",
       "    <tr style=\"text-align: right;\">\n",
       "      <th></th>\n",
       "      <th>HIRE_DT</th>\n",
       "      <th>BIRTHDATE</th>\n",
       "    </tr>\n",
       "  </thead>\n",
       "  <tbody>\n",
       "    <tr>\n",
       "      <th>3076</th>\n",
       "      <td>18OCT1979</td>\n",
       "      <td>09MAY1937</td>\n",
       "    </tr>\n",
       "    <tr>\n",
       "      <th>5070</th>\n",
       "      <td>10FEB1964</td>\n",
       "      <td>21OCT1916</td>\n",
       "    </tr>\n",
       "    <tr>\n",
       "      <th>5757</th>\n",
       "      <td>08APR1968</td>\n",
       "      <td>29OCT1939</td>\n",
       "    </tr>\n",
       "    <tr>\n",
       "      <th>9477</th>\n",
       "      <td>07DEC1987</td>\n",
       "      <td>08MAY1942</td>\n",
       "    </tr>\n",
       "    <tr>\n",
       "      <th>13235</th>\n",
       "      <td>12JUN1967</td>\n",
       "      <td>26JAN1942</td>\n",
       "    </tr>\n",
       "    <tr>\n",
       "      <th>16628</th>\n",
       "      <td>01MAR1979</td>\n",
       "      <td>20SEP1945</td>\n",
       "    </tr>\n",
       "    <tr>\n",
       "      <th>18413</th>\n",
       "      <td>08OCT1957</td>\n",
       "      <td>06JUL1938</td>\n",
       "    </tr>\n",
       "    <tr>\n",
       "      <th>18557</th>\n",
       "      <td>24MAY1976</td>\n",
       "      <td>16JUL1943</td>\n",
       "    </tr>\n",
       "    <tr>\n",
       "      <th>19750</th>\n",
       "      <td>17APR1969</td>\n",
       "      <td>01MAR1941</td>\n",
       "    </tr>\n",
       "    <tr>\n",
       "      <th>21037</th>\n",
       "      <td>11JUN1960</td>\n",
       "      <td>12SEP1920</td>\n",
       "    </tr>\n",
       "    <tr>\n",
       "      <th>23101</th>\n",
       "      <td>01JUN1984</td>\n",
       "      <td>27FEB1943</td>\n",
       "    </tr>\n",
       "    <tr>\n",
       "      <th>23936</th>\n",
       "      <td>27JUN1961</td>\n",
       "      <td>11AUG1938</td>\n",
       "    </tr>\n",
       "    <tr>\n",
       "      <th>24211</th>\n",
       "      <td>31MAY1988</td>\n",
       "      <td>20DEC1937</td>\n",
       "    </tr>\n",
       "    <tr>\n",
       "      <th>24796</th>\n",
       "      <td>06JUN1961</td>\n",
       "      <td>01AUG1939</td>\n",
       "    </tr>\n",
       "    <tr>\n",
       "      <th>24934</th>\n",
       "      <td>14NOV1977</td>\n",
       "      <td>04NOV1936</td>\n",
       "    </tr>\n",
       "    <tr>\n",
       "      <th>25220</th>\n",
       "      <td>02FEB1969</td>\n",
       "      <td>24SEP1944</td>\n",
       "    </tr>\n",
       "    <tr>\n",
       "      <th>26172</th>\n",
       "      <td>19JAN1970</td>\n",
       "      <td>28AUG1944</td>\n",
       "    </tr>\n",
       "    <tr>\n",
       "      <th>27796</th>\n",
       "      <td>26FEB1990</td>\n",
       "      <td>22JAN1950</td>\n",
       "    </tr>\n",
       "    <tr>\n",
       "      <th>28247</th>\n",
       "      <td>14OCT1968</td>\n",
       "      <td>22NOV1939</td>\n",
       "    </tr>\n",
       "    <tr>\n",
       "      <th>31177</th>\n",
       "      <td>27OCT1962</td>\n",
       "      <td>12SEP1940</td>\n",
       "    </tr>\n",
       "    <tr>\n",
       "      <th>31451</th>\n",
       "      <td>05MAY1969</td>\n",
       "      <td>25JUL1939</td>\n",
       "    </tr>\n",
       "    <tr>\n",
       "      <th>32044</th>\n",
       "      <td>22SEP1980</td>\n",
       "      <td>13AUG1936</td>\n",
       "    </tr>\n",
       "    <tr>\n",
       "      <th>33154</th>\n",
       "      <td>01JUN1981</td>\n",
       "      <td>12APR1933</td>\n",
       "    </tr>\n",
       "    <tr>\n",
       "      <th>36530</th>\n",
       "      <td>27JUL1960</td>\n",
       "      <td>23FEB1941</td>\n",
       "    </tr>\n",
       "    <tr>\n",
       "      <th>37070</th>\n",
       "      <td>16MAR1966</td>\n",
       "      <td>18JUL1939</td>\n",
       "    </tr>\n",
       "    <tr>\n",
       "      <th>37088</th>\n",
       "      <td>13OCT1969</td>\n",
       "      <td>17NOV1943</td>\n",
       "    </tr>\n",
       "    <tr>\n",
       "      <th>37833</th>\n",
       "      <td>09DEC1963</td>\n",
       "      <td>18MAY1939</td>\n",
       "    </tr>\n",
       "    <tr>\n",
       "      <th>38364</th>\n",
       "      <td>16MAY1966</td>\n",
       "      <td>07SEP1937</td>\n",
       "    </tr>\n",
       "    <tr>\n",
       "      <th>38541</th>\n",
       "      <td>10APR1972</td>\n",
       "      <td>11JUN1952</td>\n",
       "    </tr>\n",
       "    <tr>\n",
       "      <th>38837</th>\n",
       "      <td>12SEP1973</td>\n",
       "      <td>02AUG1934</td>\n",
       "    </tr>\n",
       "    <tr>\n",
       "      <th>...</th>\n",
       "      <td>...</td>\n",
       "      <td>...</td>\n",
       "    </tr>\n",
       "    <tr>\n",
       "      <th>55999</th>\n",
       "      <td>03JUN1991</td>\n",
       "      <td>07OCT1944</td>\n",
       "    </tr>\n",
       "    <tr>\n",
       "      <th>56115</th>\n",
       "      <td>04JUN1983</td>\n",
       "      <td>13OCT1937</td>\n",
       "    </tr>\n",
       "    <tr>\n",
       "      <th>56319</th>\n",
       "      <td>10NOV1975</td>\n",
       "      <td>16OCT1947</td>\n",
       "    </tr>\n",
       "    <tr>\n",
       "      <th>56434</th>\n",
       "      <td>03JUN1974</td>\n",
       "      <td>12AUG1923</td>\n",
       "    </tr>\n",
       "    <tr>\n",
       "      <th>56803</th>\n",
       "      <td>14FEB1961</td>\n",
       "      <td>24MAY1938</td>\n",
       "    </tr>\n",
       "    <tr>\n",
       "      <th>58120</th>\n",
       "      <td>03JUL1967</td>\n",
       "      <td>19MAY1939</td>\n",
       "    </tr>\n",
       "    <tr>\n",
       "      <th>58766</th>\n",
       "      <td>02AUG1961</td>\n",
       "      <td>11FEB1936</td>\n",
       "    </tr>\n",
       "    <tr>\n",
       "      <th>59264</th>\n",
       "      <td>05JUN1989</td>\n",
       "      <td>02JUL1939</td>\n",
       "    </tr>\n",
       "    <tr>\n",
       "      <th>59734</th>\n",
       "      <td>28SEP1978</td>\n",
       "      <td>10MAR1933</td>\n",
       "    </tr>\n",
       "    <tr>\n",
       "      <th>60720</th>\n",
       "      <td>25FEB1987</td>\n",
       "      <td>31AUG1939</td>\n",
       "    </tr>\n",
       "    <tr>\n",
       "      <th>61215</th>\n",
       "      <td>03SEP1963</td>\n",
       "      <td>23SEP1938</td>\n",
       "    </tr>\n",
       "    <tr>\n",
       "      <th>61907</th>\n",
       "      <td>12OCT1985</td>\n",
       "      <td>20APR1928</td>\n",
       "    </tr>\n",
       "    <tr>\n",
       "      <th>65817</th>\n",
       "      <td>05SEP1962</td>\n",
       "      <td>03JUL1936</td>\n",
       "    </tr>\n",
       "    <tr>\n",
       "      <th>66075</th>\n",
       "      <td>20APR1958</td>\n",
       "      <td>29MAR1935</td>\n",
       "    </tr>\n",
       "    <tr>\n",
       "      <th>66515</th>\n",
       "      <td>08JUN1992</td>\n",
       "      <td>05MAY1963</td>\n",
       "    </tr>\n",
       "    <tr>\n",
       "      <th>66602</th>\n",
       "      <td>20AUG1957</td>\n",
       "      <td>22JUL1938</td>\n",
       "    </tr>\n",
       "    <tr>\n",
       "      <th>66860</th>\n",
       "      <td>27NOV1962</td>\n",
       "      <td>01JAN1934</td>\n",
       "    </tr>\n",
       "    <tr>\n",
       "      <th>66867</th>\n",
       "      <td>01NOV1973</td>\n",
       "      <td>26MAR1936</td>\n",
       "    </tr>\n",
       "    <tr>\n",
       "      <th>67484</th>\n",
       "      <td>01OCT1970</td>\n",
       "      <td>09APR1937</td>\n",
       "    </tr>\n",
       "    <tr>\n",
       "      <th>67521</th>\n",
       "      <td>03JAN1972</td>\n",
       "      <td>29NOV1940</td>\n",
       "    </tr>\n",
       "    <tr>\n",
       "      <th>71379</th>\n",
       "      <td>19JUL1976</td>\n",
       "      <td>22MAY1942</td>\n",
       "    </tr>\n",
       "    <tr>\n",
       "      <th>71940</th>\n",
       "      <td>26JAN1970</td>\n",
       "      <td>11JUN1943</td>\n",
       "    </tr>\n",
       "    <tr>\n",
       "      <th>72243</th>\n",
       "      <td>09AUG1976</td>\n",
       "      <td>23JUL1946</td>\n",
       "    </tr>\n",
       "    <tr>\n",
       "      <th>73954</th>\n",
       "      <td>18JAN1982</td>\n",
       "      <td>03MAY1941</td>\n",
       "    </tr>\n",
       "    <tr>\n",
       "      <th>87112</th>\n",
       "      <td>16NOV1949</td>\n",
       "      <td>03MAY1925</td>\n",
       "    </tr>\n",
       "    <tr>\n",
       "      <th>97032</th>\n",
       "      <td>06JUL1976</td>\n",
       "      <td>02MAY1925</td>\n",
       "    </tr>\n",
       "    <tr>\n",
       "      <th>105286</th>\n",
       "      <td>06MAY1974</td>\n",
       "      <td>06MAY1925</td>\n",
       "    </tr>\n",
       "    <tr>\n",
       "      <th>116687</th>\n",
       "      <td>14JUL1997</td>\n",
       "      <td>14MAR1938</td>\n",
       "    </tr>\n",
       "    <tr>\n",
       "      <th>135127</th>\n",
       "      <td>08MAR1999</td>\n",
       "      <td>25DEC1919</td>\n",
       "    </tr>\n",
       "    <tr>\n",
       "      <th>146376</th>\n",
       "      <td>01JUL1978</td>\n",
       "      <td>17OCT1939</td>\n",
       "    </tr>\n",
       "  </tbody>\n",
       "</table>\n",
       "<p>73 rows × 2 columns</p>\n",
       "</div>"
      ],
      "text/plain": [
       "          HIRE_DT  BIRTHDATE\n",
       "3076    18OCT1979  09MAY1937\n",
       "5070    10FEB1964  21OCT1916\n",
       "5757    08APR1968  29OCT1939\n",
       "9477    07DEC1987  08MAY1942\n",
       "13235   12JUN1967  26JAN1942\n",
       "16628   01MAR1979  20SEP1945\n",
       "18413   08OCT1957  06JUL1938\n",
       "18557   24MAY1976  16JUL1943\n",
       "19750   17APR1969  01MAR1941\n",
       "21037   11JUN1960  12SEP1920\n",
       "23101   01JUN1984  27FEB1943\n",
       "23936   27JUN1961  11AUG1938\n",
       "24211   31MAY1988  20DEC1937\n",
       "24796   06JUN1961  01AUG1939\n",
       "24934   14NOV1977  04NOV1936\n",
       "25220   02FEB1969  24SEP1944\n",
       "26172   19JAN1970  28AUG1944\n",
       "27796   26FEB1990  22JAN1950\n",
       "28247   14OCT1968  22NOV1939\n",
       "31177   27OCT1962  12SEP1940\n",
       "31451   05MAY1969  25JUL1939\n",
       "32044   22SEP1980  13AUG1936\n",
       "33154   01JUN1981  12APR1933\n",
       "36530   27JUL1960  23FEB1941\n",
       "37070   16MAR1966  18JUL1939\n",
       "37088   13OCT1969  17NOV1943\n",
       "37833   09DEC1963  18MAY1939\n",
       "38364   16MAY1966  07SEP1937\n",
       "38541   10APR1972  11JUN1952\n",
       "38837   12SEP1973  02AUG1934\n",
       "...           ...        ...\n",
       "55999   03JUN1991  07OCT1944\n",
       "56115   04JUN1983  13OCT1937\n",
       "56319   10NOV1975  16OCT1947\n",
       "56434   03JUN1974  12AUG1923\n",
       "56803   14FEB1961  24MAY1938\n",
       "58120   03JUL1967  19MAY1939\n",
       "58766   02AUG1961  11FEB1936\n",
       "59264   05JUN1989  02JUL1939\n",
       "59734   28SEP1978  10MAR1933\n",
       "60720   25FEB1987  31AUG1939\n",
       "61215   03SEP1963  23SEP1938\n",
       "61907   12OCT1985  20APR1928\n",
       "65817   05SEP1962  03JUL1936\n",
       "66075   20APR1958  29MAR1935\n",
       "66515   08JUN1992  05MAY1963\n",
       "66602   20AUG1957  22JUL1938\n",
       "66860   27NOV1962  01JAN1934\n",
       "66867   01NOV1973  26MAR1936\n",
       "67484   01OCT1970  09APR1937\n",
       "67521   03JAN1972  29NOV1940\n",
       "71379   19JUL1976  22MAY1942\n",
       "71940   26JAN1970  11JUN1943\n",
       "72243   09AUG1976  23JUL1946\n",
       "73954   18JAN1982  03MAY1941\n",
       "87112   16NOV1949  03MAY1925\n",
       "97032   06JUL1976  02MAY1925\n",
       "105286  06MAY1974  06MAY1925\n",
       "116687  14JUL1997  14MAR1938\n",
       "135127  08MAR1999  25DEC1919\n",
       "146376  01JUL1978  17OCT1939\n",
       "\n",
       "[73 rows x 2 columns]"
      ]
     },
     "execution_count": 28,
     "metadata": {},
     "output_type": "execute_result"
    }
   ],
   "source": [
    "empl_df[empl_df['KEY'].isin(missing_termination_empl_keys)][['HIRE_DT' ,'BIRTHDATE']]"
   ]
  },
  {
   "cell_type": "code",
   "execution_count": 29,
   "metadata": {
    "collapsed": false
   },
   "outputs": [
    {
     "data": {
      "text/plain": [
       "334089"
      ]
     },
     "execution_count": 29,
     "metadata": {},
     "output_type": "execute_result"
    }
   ],
   "source": [
    "empl_df2 = empl_df[~empl_df.KEY.isin(missing_termination_empl_keys)].copy()\n",
    "len(empl_df2)"
   ]
  },
  {
   "cell_type": "markdown",
   "metadata": {},
   "source": [
    "## how many in histcurr have missing end dates?"
   ]
  },
  {
   "cell_type": "code",
   "execution_count": 21,
   "metadata": {
    "collapsed": false
   },
   "outputs": [
    {
     "data": {
      "text/plain": [
       "70609"
      ]
     },
     "execution_count": 21,
     "metadata": {},
     "output_type": "execute_result"
    }
   ],
   "source": [
    "histcurr_df['TERMINATION_DT'].isnull().sum()"
   ]
  },
  {
   "cell_type": "markdown",
   "metadata": {},
   "source": [
    "## Try to join EMPL, HISTCURR & HISTRET"
   ]
  },
  {
   "cell_type": "code",
   "execution_count": 31,
   "metadata": {
    "collapsed": false
   },
   "outputs": [
    {
     "name": "stdout",
     "output_type": "stream",
     "text": [
      "number of current, separated, total, total_of_interest: 70609 172554 334089 243163\n"
     ]
    }
   ],
   "source": [
    "ncurr = len(histcurr_df)\n",
    "nret = len(histret_df)\n",
    "print \"number of current, separated, total, total_of_interest:\",ncurr,nret,len(empl_df2),ncurr + nret"
   ]
  },
  {
   "cell_type": "code",
   "execution_count": 32,
   "metadata": {
    "collapsed": false
   },
   "outputs": [
    {
     "data": {
      "text/plain": [
       "90926"
      ]
     },
     "execution_count": 32,
     "metadata": {},
     "output_type": "execute_result"
    }
   ],
   "source": [
    "len(empl_df2) - ncurr - nret # these are the canadian and Agency employees"
   ]
  },
  {
   "cell_type": "markdown",
   "metadata": {},
   "source": [
    "### some helper functions"
   ]
  },
  {
   "cell_type": "code",
   "execution_count": 33,
   "metadata": {
    "collapsed": true
   },
   "outputs": [],
   "source": [
    "# function to truncate POSTAL_ZIP to zip5\n",
    "def truncate_postal_zip(in_zip):\n",
    "    try:\n",
    "        out_zip = in_zip[:5]\n",
    "        #print out_zip\n",
    "    except:\n",
    "        #out_zip = str(in_zip)[:5]\n",
    "        out_zip = 'XXXXX'# np.nan\n",
    "    return out_zip"
   ]
  },
  {
   "cell_type": "code",
   "execution_count": 34,
   "metadata": {
    "collapsed": false
   },
   "outputs": [],
   "source": [
    "def summarize_dataframe(df,show_example=False):\n",
    "    nrow = len(df)\n",
    "    for col in df.columns:\n",
    "        nmiss = nrow - df[col].value_counts().sum()\n",
    "        if show_example:\n",
    "            print col, df[col].dtype,nmiss, \"\\t\", len(df[col].unique()),\":\\t\", df[col].ix[8320]\n",
    "        else:\n",
    "            print col, df[col].dtype,nmiss, \"\\t\", len(df[col].unique())\n",
    "            \n",
    "def summarize_dataframe2(df,show_example=False):\n",
    "    nrow = len(df)\n",
    "    summary_df = pd.DataFrame(columns = ['Column','datatype','nmissing','arity','accepted values'])\n",
    "    len_df = len(summary_df)\n",
    "    for col in df.columns:\n",
    "        nmiss = nrow - df[col].value_counts().sum()\n",
    "        narity = len(df[col].unique())\n",
    "        if show_example:\n",
    "            print col, df[col].dtype,nmiss, \"\\t\", narity,\":\\t\", df[col].ix[8320]\n",
    "        else:\n",
    "            print col, df[col].dtype,nmiss, \"\\t\", narity\n",
    "        accept_val = None\n",
    "        if narity < 20:\n",
    "            accept_val = df[col].unique()\n",
    "        summary_df.loc[len_df] = [col,df[col].dtype,nmiss,narity,accept_val]\n",
    "        len_df+=1\n",
    "    # assing fraction of missing\n",
    "    summary_df['x_missing'] = summary_df['nmissing']/float(nrow)\n",
    "    \n",
    "    return summary_df"
   ]
  },
  {
   "cell_type": "markdown",
   "metadata": {},
   "source": [
    "### merge the files \n",
    "* cur_empl\n",
    "* ret_empl"
   ]
  },
  {
   "cell_type": "code",
   "execution_count": 35,
   "metadata": {
    "collapsed": false
   },
   "outputs": [
    {
     "name": "stdout",
     "output_type": "stream",
     "text": [
      "172481 70609\n"
     ]
    }
   ],
   "source": [
    "ret_empl = pd.merge(histret_df,empl_df2,left_on='KEY',right_on='KEY',how='inner')\n",
    "cur_empl = pd.merge(histcurr_df,empl_df2,left_on='KEY',right_on='KEY',how='inner')\n",
    "print len(ret_empl),len(cur_empl)"
   ]
  },
  {
   "cell_type": "markdown",
   "metadata": {},
   "source": [
    "## CLEAN UP THE DATA\n",
    "### 1. Remove the cases of ON(tario)\n",
    "### 2. Fill in missing termination, hire and Service dates\n",
    "### 3. Remove current Interns\n",
    "### 4. identify 'status' as current (0) or former employee (1).\n",
    "### 5. Remove negative tenure cases"
   ]
  },
  {
   "cell_type": "code",
   "execution_count": 36,
   "metadata": {
    "collapsed": false
   },
   "outputs": [
    {
     "name": "stdout",
     "output_type": "stream",
     "text": [
      "0 7\n"
     ]
    }
   ],
   "source": [
    "print sum(cur_empl.LOC_STATE=='ON'), sum(ret_empl.LOC_STATE == 'ON')\n",
    "# remove these\n",
    "ret_empl = ret_empl[ret_empl.LOC_STATE != 'ON'] # drop them"
   ]
  },
  {
   "cell_type": "markdown",
   "metadata": {},
   "source": [
    "## Check if there are missing termination dates from histret_df?\n"
   ]
  },
  {
   "cell_type": "code",
   "execution_count": 37,
   "metadata": {
    "collapsed": false
   },
   "outputs": [
    {
     "data": {
      "text/plain": [
       "0"
      ]
     },
     "execution_count": 37,
     "metadata": {},
     "output_type": "execute_result"
    }
   ],
   "source": [
    "sum(ret_empl.TERMINATION_DT.isnull())\n",
    "#histret_df[histret_df.TERMINATION_DT.isnull()]"
   ]
  },
  {
   "cell_type": "markdown",
   "metadata": {},
   "source": [
    "### convert the date columns\n",
    "* import datetime library\n",
    "* identify the correct columns\n",
    "* replace nan TERMINATION DATE with Jan, 1, 2015 for cur_empl\n",
    "* calculate tenure\n",
    "* calculate age at TERM DATE\n"
   ]
  },
  {
   "cell_type": "code",
   "execution_count": 38,
   "metadata": {
    "collapsed": true
   },
   "outputs": [],
   "source": [
    "# create list of date columns\n",
    "date_columns = ['TERMINATION_DT','HIRE_DT','SERVICE_DT','LAST_HIRE_DT','BIRTHDATE']"
   ]
  },
  {
   "cell_type": "code",
   "execution_count": 39,
   "metadata": {
    "collapsed": false
   },
   "outputs": [
    {
     "name": "stdout",
     "output_type": "stream",
     "text": [
      "Column\t     Current\t Retired\n",
      "++++++++++++++++++++++++++++++++++++\n",
      "TERMINATION_DT \t70609 \t0\n",
      "HIRE_DT \t0 \t2\n",
      "SERVICE_DT \t0 \t0\n",
      "LAST_HIRE_DT \t0 \t1\n",
      "BIRTHDATE \t0 \t0\n"
     ]
    }
   ],
   "source": [
    "##count how many of these are missing\n",
    "print \"Column\\t     Current\\t Retired\"\n",
    "print \"++++++++++++++++++++++++++++++++++++\"\n",
    "for c in date_columns:\n",
    "    print c, \"\\t\",sum(cur_empl[c].isnull()), \"\\t\",sum(ret_empl[c].isnull())"
   ]
  },
  {
   "cell_type": "markdown",
   "metadata": {},
   "source": [
    "* replace the missing TERMINATION_DT with '01JAN2015'\n",
    "* replace the missing HIRE_DT & LAST_HIRE_DT with SERVICE_DT for the Retired employees"
   ]
  },
  {
   "cell_type": "code",
   "execution_count": 40,
   "metadata": {
    "collapsed": false
   },
   "outputs": [],
   "source": [
    "termination_replace_dt = '01JAN2015'\n",
    "#ret_empl['TERMINATION_DT'].fillna(termination_replace_dt,inplace=True)\n",
    "cur_empl['TERMINATION_DT'].fillna(termination_replace_dt,inplace=True)\n",
    "#sum(ret_empl['TERMINATION_DT'].isnull())"
   ]
  },
  {
   "cell_type": "code",
   "execution_count": 41,
   "metadata": {
    "collapsed": false
   },
   "outputs": [],
   "source": [
    "#ret_empl[ret_empl['HIRE_DT'].isnull()].HIRE_DT = \n",
    "#ret_empl[\n",
    "missing_idx =ret_empl[ret_empl['HIRE_DT'].isnull()].index\n",
    "ret_empl.loc[missing_idx,'HIRE_DT'] = ret_empl.loc[missing_idx,'SERVICE_DT']\n",
    "missing_idx =ret_empl[ret_empl['LAST_HIRE_DT'].isnull()].index\n",
    "ret_empl.loc[missing_idx,'LAST_HIRE_DT'] = ret_empl.loc[missing_idx,'SERVICE_DT']"
   ]
  },
  {
   "cell_type": "code",
   "execution_count": 42,
   "metadata": {
    "collapsed": false
   },
   "outputs": [],
   "source": [
    "#now convert to datetimes\n",
    "for c in date_columns:\n",
    "    ret_empl[c]=ret_empl[c].apply(lambda x:datetime.strptime(x,'%d%b%Y')) \n",
    "    cur_empl[c]=cur_empl[c].apply(lambda x:datetime.strptime(x,'%d%b%Y')) \n",
    "#ret_empl[date_columns].apply(lambda x: datetime.strptime(x,'%d%b%Y'),axis=0)"
   ]
  },
  {
   "cell_type": "code",
   "execution_count": 43,
   "metadata": {
    "collapsed": false
   },
   "outputs": [],
   "source": [
    "## now calculate age at termination date\n",
    "cur_empl['Age_tdelta'] = cur_empl['TERMINATION_DT']-cur_empl['BIRTHDATE']#)/np.timedelta64(1,'D')\n",
    "ret_empl['Age_tdelta'] = ret_empl['TERMINATION_DT']-ret_empl['BIRTHDATE']#)/np.timedelta64(1,'D')## calculate tenure at termination date (use service_date)\n",
    "# Use HIRE_DATE (SERVICE DATE Can be later than termination date if they have been rehired)\n",
    "cur_empl['Tenure_tdelta'] = cur_empl['TERMINATION_DT']-cur_empl['HIRE_DT']\n",
    "ret_empl['Tenure_tdelta'] = ret_empl['TERMINATION_DT']-ret_empl['HIRE_DT']\n",
    "# convert to days, months or years\n",
    "cur_empl['Age_years'] = cur_empl['Age_tdelta']/np.timedelta64(1,'Y')\n",
    "ret_empl['Age_years'] = ret_empl['Age_tdelta']/np.timedelta64(1,'Y')\n",
    "# convert to months of tenure\n",
    "cur_empl['Tenure_months'] = cur_empl['Tenure_tdelta']/np.timedelta64(1,'M')\n",
    "ret_empl['Tenure_months'] = ret_empl['Tenure_tdelta']/np.timedelta64(1,'M')\n",
    "#cur_empl['Tenure_months'] = cur_empl['Tenure_tdelta']/np.timedelta64(1,'D')\n",
    "\n"
   ]
  },
  {
   "cell_type": "code",
   "execution_count": 44,
   "metadata": {
    "collapsed": false
   },
   "outputs": [
    {
     "data": {
      "text/plain": [
       "(count    172474.000000\n",
       " mean         37.274045\n",
       " std          13.698510\n",
       " min          14.609472\n",
       " 25%          26.100467\n",
       " 50%          33.678994\n",
       " 75%          46.831215\n",
       " max          92.346865\n",
       " Name: Age_years, dtype: float64, count    70609.000000\n",
       " mean        43.646929\n",
       " std         11.307643\n",
       " min         16.424704\n",
       " 25%         34.193721\n",
       " 50%         44.830489\n",
       " 75%         52.652690\n",
       " max         84.311108\n",
       " Name: Age_years, dtype: float64)"
      ]
     },
     "execution_count": 44,
     "metadata": {},
     "output_type": "execute_result"
    }
   ],
   "source": [
    "ret_empl.Age_years.describe(), cur_empl.Age_years.describe()"
   ]
  },
  {
   "cell_type": "code",
   "execution_count": 45,
   "metadata": {
    "collapsed": false
   },
   "outputs": [
    {
     "data": {
      "text/plain": [
       "(count    172474.000000\n",
       " mean         90.137645\n",
       " std         126.303492\n",
       " min          -0.032855\n",
       " 25%           6.340993\n",
       " 50%          29.799380\n",
       " 75%         120.339227\n",
       " max         775.473829\n",
       " Name: Tenure_months, dtype: float64, count    70609.000000\n",
       " mean       176.848788\n",
       " std        135.307106\n",
       " min          0.098565\n",
       " 25%         35.516130\n",
       " 50%        176.562147\n",
       " 75%        285.278959\n",
       " max        738.972053\n",
       " Name: Tenure_months, dtype: float64)"
      ]
     },
     "execution_count": 45,
     "metadata": {},
     "output_type": "execute_result"
    }
   ],
   "source": [
    "ret_empl.Tenure_months.describe(), cur_empl.Tenure_months.describe()"
   ]
  },
  {
   "cell_type": "markdown",
   "metadata": {},
   "source": [
    "## Prepare for survival analysis:\n",
    "### Add column (status) to indicate if current (0) or former (1) employee"
   ]
  },
  {
   "cell_type": "code",
   "execution_count": 46,
   "metadata": {
    "collapsed": false
   },
   "outputs": [
    {
     "name": "stdout",
     "output_type": "stream",
     "text": [
      "172474 70609\n",
      "243083\n"
     ]
    }
   ],
   "source": [
    "ret_empl['status'] = 1\n",
    "cur_empl['status'] = 0\n",
    "# now join\n",
    "print len(ret_empl),len(cur_empl)\n",
    "empltbl = pd.concat([ret_empl,cur_empl],axis=0)\n",
    "print len(empltbl)"
   ]
  },
  {
   "cell_type": "markdown",
   "metadata": {},
   "source": [
    "## Remove 'current' Interns\n",
    "* identified as those where GRADE == 'UNS'"
   ]
  },
  {
   "cell_type": "code",
   "execution_count": 47,
   "metadata": {
    "collapsed": false
   },
   "outputs": [
    {
     "data": {
      "text/html": [
       "<div>\n",
       "<table border=\"1\" class=\"dataframe\">\n",
       "  <thead>\n",
       "    <tr style=\"text-align: right;\">\n",
       "      <th>GRADE</th>\n",
       "      <th>AG3</th>\n",
       "      <th>AL6</th>\n",
       "      <th>AM4</th>\n",
       "      <th>AT1</th>\n",
       "      <th>AT2</th>\n",
       "      <th>AT3</th>\n",
       "      <th>AT4</th>\n",
       "      <th>AT5</th>\n",
       "      <th>AT6</th>\n",
       "      <th>AT7</th>\n",
       "      <th>...</th>\n",
       "      <th>RH4</th>\n",
       "      <th>RJ2</th>\n",
       "      <th>RJ3</th>\n",
       "      <th>RJ4</th>\n",
       "      <th>RL1</th>\n",
       "      <th>RL2</th>\n",
       "      <th>RL3</th>\n",
       "      <th>RL4</th>\n",
       "      <th>UES</th>\n",
       "      <th>UNS</th>\n",
       "    </tr>\n",
       "    <tr>\n",
       "      <th>INTERN</th>\n",
       "      <th></th>\n",
       "      <th></th>\n",
       "      <th></th>\n",
       "      <th></th>\n",
       "      <th></th>\n",
       "      <th></th>\n",
       "      <th></th>\n",
       "      <th></th>\n",
       "      <th></th>\n",
       "      <th></th>\n",
       "      <th></th>\n",
       "      <th></th>\n",
       "      <th></th>\n",
       "      <th></th>\n",
       "      <th></th>\n",
       "      <th></th>\n",
       "      <th></th>\n",
       "      <th></th>\n",
       "      <th></th>\n",
       "      <th></th>\n",
       "      <th></th>\n",
       "    </tr>\n",
       "  </thead>\n",
       "  <tbody>\n",
       "    <tr>\n",
       "      <th>N</th>\n",
       "      <td>82</td>\n",
       "      <td>22</td>\n",
       "      <td>7</td>\n",
       "      <td>1</td>\n",
       "      <td>1</td>\n",
       "      <td>3</td>\n",
       "      <td>1</td>\n",
       "      <td>9</td>\n",
       "      <td>1</td>\n",
       "      <td>2</td>\n",
       "      <td>...</td>\n",
       "      <td>0</td>\n",
       "      <td>6</td>\n",
       "      <td>1</td>\n",
       "      <td>2</td>\n",
       "      <td>19</td>\n",
       "      <td>95</td>\n",
       "      <td>32</td>\n",
       "      <td>6</td>\n",
       "      <td>313</td>\n",
       "      <td>0</td>\n",
       "    </tr>\n",
       "    <tr>\n",
       "      <th>Y</th>\n",
       "      <td>11</td>\n",
       "      <td>35</td>\n",
       "      <td>2</td>\n",
       "      <td>0</td>\n",
       "      <td>0</td>\n",
       "      <td>0</td>\n",
       "      <td>0</td>\n",
       "      <td>0</td>\n",
       "      <td>0</td>\n",
       "      <td>0</td>\n",
       "      <td>...</td>\n",
       "      <td>1</td>\n",
       "      <td>0</td>\n",
       "      <td>0</td>\n",
       "      <td>0</td>\n",
       "      <td>5</td>\n",
       "      <td>21</td>\n",
       "      <td>0</td>\n",
       "      <td>0</td>\n",
       "      <td>64</td>\n",
       "      <td>803</td>\n",
       "    </tr>\n",
       "  </tbody>\n",
       "</table>\n",
       "<p>2 rows × 89 columns</p>\n",
       "</div>"
      ],
      "text/plain": [
       "GRADE   AG3  AL6  AM4  AT1  AT2  AT3  AT4  AT5  AT6  AT7 ...   RH4  RJ2  RJ3  \\\n",
       "INTERN                                                   ...                   \n",
       "N        82   22    7    1    1    3    1    9    1    2 ...     0    6    1   \n",
       "Y        11   35    2    0    0    0    0    0    0    0 ...     1    0    0   \n",
       "\n",
       "GRADE   RJ4  RL1  RL2  RL3  RL4  UES  UNS  \n",
       "INTERN                                     \n",
       "N         2   19   95   32    6  313    0  \n",
       "Y         0    5   21    0    0   64  803  \n",
       "\n",
       "[2 rows x 89 columns]"
      ]
     },
     "execution_count": 47,
     "metadata": {},
     "output_type": "execute_result"
    }
   ],
   "source": [
    "pd.crosstab(cur_empl.INTERN, cur_empl.GRADE)"
   ]
  },
  {
   "cell_type": "code",
   "execution_count": 48,
   "metadata": {
    "collapsed": false
   },
   "outputs": [
    {
     "data": {
      "text/html": [
       "<div>\n",
       "<table border=\"1\" class=\"dataframe\">\n",
       "  <thead>\n",
       "    <tr style=\"text-align: right;\">\n",
       "      <th>GRADE</th>\n",
       "      <th>22</th>\n",
       "      <th>23</th>\n",
       "      <th>24</th>\n",
       "      <th>25</th>\n",
       "      <th>26</th>\n",
       "      <th>27</th>\n",
       "      <th>28</th>\n",
       "      <th>29</th>\n",
       "      <th>AG3</th>\n",
       "      <th>AL6</th>\n",
       "      <th>...</th>\n",
       "      <th>SF7</th>\n",
       "      <th>T1</th>\n",
       "      <th>T2</th>\n",
       "      <th>T3</th>\n",
       "      <th>T4</th>\n",
       "      <th>T5</th>\n",
       "      <th>UES</th>\n",
       "      <th>UNS</th>\n",
       "      <th>UNT</th>\n",
       "      <th>ZFL</th>\n",
       "    </tr>\n",
       "    <tr>\n",
       "      <th>INTERN</th>\n",
       "      <th></th>\n",
       "      <th></th>\n",
       "      <th></th>\n",
       "      <th></th>\n",
       "      <th></th>\n",
       "      <th></th>\n",
       "      <th></th>\n",
       "      <th></th>\n",
       "      <th></th>\n",
       "      <th></th>\n",
       "      <th></th>\n",
       "      <th></th>\n",
       "      <th></th>\n",
       "      <th></th>\n",
       "      <th></th>\n",
       "      <th></th>\n",
       "      <th></th>\n",
       "      <th></th>\n",
       "      <th></th>\n",
       "      <th></th>\n",
       "      <th></th>\n",
       "    </tr>\n",
       "  </thead>\n",
       "  <tbody>\n",
       "    <tr>\n",
       "      <th>N</th>\n",
       "      <td>55</td>\n",
       "      <td>22</td>\n",
       "      <td>13</td>\n",
       "      <td>11</td>\n",
       "      <td>14</td>\n",
       "      <td>20</td>\n",
       "      <td>21</td>\n",
       "      <td>10</td>\n",
       "      <td>128</td>\n",
       "      <td>0</td>\n",
       "      <td>...</td>\n",
       "      <td>204</td>\n",
       "      <td>88</td>\n",
       "      <td>59</td>\n",
       "      <td>32</td>\n",
       "      <td>8</td>\n",
       "      <td>2</td>\n",
       "      <td>573</td>\n",
       "      <td>0</td>\n",
       "      <td>2530</td>\n",
       "      <td>1</td>\n",
       "    </tr>\n",
       "    <tr>\n",
       "      <th>Y</th>\n",
       "      <td>2</td>\n",
       "      <td>1</td>\n",
       "      <td>0</td>\n",
       "      <td>1</td>\n",
       "      <td>0</td>\n",
       "      <td>0</td>\n",
       "      <td>0</td>\n",
       "      <td>0</td>\n",
       "      <td>3</td>\n",
       "      <td>3</td>\n",
       "      <td>...</td>\n",
       "      <td>4</td>\n",
       "      <td>0</td>\n",
       "      <td>0</td>\n",
       "      <td>0</td>\n",
       "      <td>0</td>\n",
       "      <td>0</td>\n",
       "      <td>166</td>\n",
       "      <td>42859</td>\n",
       "      <td>60</td>\n",
       "      <td>0</td>\n",
       "    </tr>\n",
       "  </tbody>\n",
       "</table>\n",
       "<p>2 rows × 146 columns</p>\n",
       "</div>"
      ],
      "text/plain": [
       "GRADE   22  23  24  25  26  27  28  29  AG3  AL6 ...   SF7  T1  T2  T3  T4  \\\n",
       "INTERN                                           ...                         \n",
       "N       55  22  13  11  14  20  21  10  128    0 ...   204  88  59  32   8   \n",
       "Y        2   1   0   1   0   0   0   0    3    3 ...     4   0   0   0   0   \n",
       "\n",
       "GRADE   T5  UES    UNS   UNT  ZFL  \n",
       "INTERN                             \n",
       "N        2  573      0  2530    1  \n",
       "Y        0  166  42859    60    0  \n",
       "\n",
       "[2 rows x 146 columns]"
      ]
     },
     "execution_count": 48,
     "metadata": {},
     "output_type": "execute_result"
    }
   ],
   "source": [
    "pd.crosstab(ret_empl.INTERN, ret_empl.GRADE)"
   ]
  },
  {
   "cell_type": "markdown",
   "metadata": {},
   "source": [
    "* 803 in cur_empl\n",
    "* 42859 in ret_empl"
   ]
  },
  {
   "cell_type": "code",
   "execution_count": 49,
   "metadata": {
    "collapsed": false
   },
   "outputs": [
    {
     "data": {
      "text/plain": [
       "199421"
      ]
     },
     "execution_count": 49,
     "metadata": {},
     "output_type": "execute_result"
    }
   ],
   "source": [
    "empltbl2 = empltbl[empltbl.GRADE != 'UNS'].copy()\n",
    "len(empltbl2)"
   ]
  },
  {
   "cell_type": "code",
   "execution_count": 50,
   "metadata": {
    "collapsed": false
   },
   "outputs": [
    {
     "name": "stdout",
     "output_type": "stream",
     "text": [
      "43662\n"
     ]
    },
    {
     "data": {
      "text/plain": [
       "(count    43662.000000\n",
       " mean        34.244621\n",
       " std         12.330957\n",
       " min         14.609472\n",
       " 25%         23.729440\n",
       " 50%         31.784362\n",
       " 75%         42.136389\n",
       " max         86.309780\n",
       " Name: Age_years, dtype: float64, count    43662.000000\n",
       " mean        18.179886\n",
       " std         42.103550\n",
       " min         -0.032855\n",
       " 25%          2.135567\n",
       " 50%          4.895378\n",
       " 75%         11.630629\n",
       " max        616.423335\n",
       " Name: Tenure_months, dtype: float64)"
      ]
     },
     "execution_count": 50,
     "metadata": {},
     "output_type": "execute_result"
    }
   ],
   "source": [
    "## define interns\n",
    "interns = empltbl[empltbl.GRADE == 'UNS'].copy()\n",
    "print len(interns)\n",
    "interns.Age_years.describe(), interns.Tenure_months.describe()"
   ]
  },
  {
   "cell_type": "code",
   "execution_count": 51,
   "metadata": {
    "collapsed": false
   },
   "outputs": [
    {
     "data": {
      "text/plain": [
       "count    199421.000000\n",
       "mean        136.594170\n",
       "std         138.785439\n",
       "min          -0.032855\n",
       "25%          19.877205\n",
       "50%          83.090002\n",
       "75%         223.511776\n",
       "max         775.473829\n",
       "Name: Tenure_months, dtype: float64"
      ]
     },
     "execution_count": 51,
     "metadata": {},
     "output_type": "execute_result"
    }
   ],
   "source": [
    "empltbl2.Tenure_months.describe()"
   ]
  },
  {
   "cell_type": "markdown",
   "metadata": {
    "collapsed": true
   },
   "source": [
    "## Deal with negative tenure months"
   ]
  },
  {
   "cell_type": "code",
   "execution_count": 52,
   "metadata": {
    "collapsed": false
   },
   "outputs": [
    {
     "name": "stdout",
     "output_type": "stream",
     "text": [
      "tenure is negative:  148 75\n",
      "tenure is less than 1 month:  2740 3119\n"
     ]
    }
   ],
   "source": [
    "print \"tenure is negative: \", sum(empltbl2.TOT_MO_SERVICE_SFI < 0), sum(empltbl2.Tenure_months < 0)\n",
    "print \"tenure is less than 1 month: \", sum(empltbl2.TOT_MO_SERVICE_SFI < 1), sum(empltbl2.Tenure_months < 1)"
   ]
  },
  {
   "cell_type": "code",
   "execution_count": 53,
   "metadata": {
    "collapsed": false
   },
   "outputs": [
    {
     "data": {
      "text/plain": [
       "<matplotlib.text.Text at 0x7f992c95d0d0>"
      ]
     },
     "execution_count": 53,
     "metadata": {},
     "output_type": "execute_result"
    },
    {
     "data": {
      "image/png": "[encoded data removed]",
      "text/plain": [
       "<matplotlib.figure.Figure at 0x7f992cc58610>"
      ]
     },
     "metadata": {},
     "output_type": "display_data"
    }
   ],
   "source": [
    "# look at these distributions\n",
    "plt.figure(figsize=(12,8))\n",
    "sns.distplot(empltbl2[empltbl2.status==0].Age_years,color='indianred',label='current')\n",
    "sns.distplot(empltbl2[empltbl2.status==1].Age_years,color='steelblue',label='former')\n",
    "\n",
    "#cur_empl.Age_years.hist(bins=80,color='indianred',label='current',alpha=0.8,normed=True)\n",
    "#ret_empl.Age_years.hist(bins=80,color='steelblue',label='retired',alpha=0.5,normed=True)\n",
    "plt.legend()\n",
    "plt.xlabel('Age')\n",
    "plt.ylabel('Normed Counts')\n",
    "plt.title('Distribution of Worforce Ages')"
   ]
  },
  {
   "cell_type": "code",
   "execution_count": 54,
   "metadata": {
    "collapsed": false
   },
   "outputs": [
    {
     "data": {
      "text/html": [
       "<div>\n",
       "<table border=\"1\" class=\"dataframe\">\n",
       "  <thead>\n",
       "    <tr style=\"text-align: right;\">\n",
       "      <th></th>\n",
       "      <th>TOT_MO_SERVICE_SFI</th>\n",
       "      <th>Tenure_months</th>\n",
       "      <th>TERMINATION_DT</th>\n",
       "      <th>HIRE_DT</th>\n",
       "      <th>LAST_HIRE_DT</th>\n",
       "      <th>BIRTHDATE</th>\n",
       "    </tr>\n",
       "  </thead>\n",
       "  <tbody>\n",
       "    <tr>\n",
       "      <th>1397</th>\n",
       "      <td>-219</td>\n",
       "      <td>20.140044</td>\n",
       "      <td>1988-05-27</td>\n",
       "      <td>1986-09-22</td>\n",
       "      <td>2008-04-07</td>\n",
       "      <td>1964-01-31</td>\n",
       "    </tr>\n",
       "    <tr>\n",
       "      <th>2752</th>\n",
       "      <td>-3</td>\n",
       "      <td>2.628391</td>\n",
       "      <td>1988-08-19</td>\n",
       "      <td>1988-05-31</td>\n",
       "      <td>1988-05-31</td>\n",
       "      <td>1956-04-22</td>\n",
       "    </tr>\n",
       "    <tr>\n",
       "      <th>3267</th>\n",
       "      <td>-13</td>\n",
       "      <td>147.321300</td>\n",
       "      <td>1988-09-16</td>\n",
       "      <td>1976-06-07</td>\n",
       "      <td>1976-06-07</td>\n",
       "      <td>1958-08-16</td>\n",
       "    </tr>\n",
       "    <tr>\n",
       "      <th>20334</th>\n",
       "      <td>-251</td>\n",
       "      <td>3.351198</td>\n",
       "      <td>1993-01-15</td>\n",
       "      <td>1992-10-05</td>\n",
       "      <td>1992-10-05</td>\n",
       "      <td>1974-05-24</td>\n",
       "    </tr>\n",
       "    <tr>\n",
       "      <th>20353</th>\n",
       "      <td>-244</td>\n",
       "      <td>7.852317</td>\n",
       "      <td>1993-01-20</td>\n",
       "      <td>1992-05-26</td>\n",
       "      <td>1992-05-26</td>\n",
       "      <td>1960-11-19</td>\n",
       "    </tr>\n",
       "    <tr>\n",
       "      <th>22598</th>\n",
       "      <td>-237</td>\n",
       "      <td>2.661246</td>\n",
       "      <td>1993-08-13</td>\n",
       "      <td>1993-05-24</td>\n",
       "      <td>1993-05-24</td>\n",
       "      <td>1959-02-26</td>\n",
       "    </tr>\n",
       "    <tr>\n",
       "      <th>26363</th>\n",
       "      <td>-219</td>\n",
       "      <td>26.053923</td>\n",
       "      <td>1994-07-29</td>\n",
       "      <td>1992-05-27</td>\n",
       "      <td>1994-05-19</td>\n",
       "      <td>1972-06-26</td>\n",
       "    </tr>\n",
       "    <tr>\n",
       "      <th>27105</th>\n",
       "      <td>-2</td>\n",
       "      <td>27.039570</td>\n",
       "      <td>1994-08-19</td>\n",
       "      <td>1992-05-18</td>\n",
       "      <td>1994-05-16</td>\n",
       "      <td>1973-02-22</td>\n",
       "    </tr>\n",
       "    <tr>\n",
       "      <th>32283</th>\n",
       "      <td>-166</td>\n",
       "      <td>6.899526</td>\n",
       "      <td>1995-08-25</td>\n",
       "      <td>1995-01-27</td>\n",
       "      <td>1995-01-27</td>\n",
       "      <td>1963-01-24</td>\n",
       "    </tr>\n",
       "    <tr>\n",
       "      <th>34008</th>\n",
       "      <td>-44</td>\n",
       "      <td>278.970821</td>\n",
       "      <td>1995-12-01</td>\n",
       "      <td>1972-09-01</td>\n",
       "      <td>1972-09-01</td>\n",
       "      <td>1955-05-11</td>\n",
       "    </tr>\n",
       "    <tr>\n",
       "      <th>35422</th>\n",
       "      <td>-136</td>\n",
       "      <td>19.778640</td>\n",
       "      <td>1996-03-04</td>\n",
       "      <td>1994-07-11</td>\n",
       "      <td>1994-07-11</td>\n",
       "      <td>1966-05-09</td>\n",
       "    </tr>\n",
       "    <tr>\n",
       "      <th>35944</th>\n",
       "      <td>-17</td>\n",
       "      <td>2.891230</td>\n",
       "      <td>1996-04-12</td>\n",
       "      <td>1996-01-15</td>\n",
       "      <td>1996-01-15</td>\n",
       "      <td>1971-07-10</td>\n",
       "    </tr>\n",
       "    <tr>\n",
       "      <th>35991</th>\n",
       "      <td>-159</td>\n",
       "      <td>55.031931</td>\n",
       "      <td>1996-04-17</td>\n",
       "      <td>1991-09-16</td>\n",
       "      <td>1991-09-16</td>\n",
       "      <td>1964-10-16</td>\n",
       "    </tr>\n",
       "    <tr>\n",
       "      <th>36788</th>\n",
       "      <td>-183</td>\n",
       "      <td>34.169079</td>\n",
       "      <td>1996-06-14</td>\n",
       "      <td>1993-08-09</td>\n",
       "      <td>1993-08-09</td>\n",
       "      <td>1967-01-22</td>\n",
       "    </tr>\n",
       "    <tr>\n",
       "      <th>43262</th>\n",
       "      <td>-153</td>\n",
       "      <td>1.182776</td>\n",
       "      <td>1997-07-08</td>\n",
       "      <td>1997-06-02</td>\n",
       "      <td>1997-06-02</td>\n",
       "      <td>1978-09-09</td>\n",
       "    </tr>\n",
       "    <tr>\n",
       "      <th>48190</th>\n",
       "      <td>-78</td>\n",
       "      <td>2.201277</td>\n",
       "      <td>1998-05-15</td>\n",
       "      <td>1998-03-09</td>\n",
       "      <td>1998-03-09</td>\n",
       "      <td>1959-09-20</td>\n",
       "    </tr>\n",
       "    <tr>\n",
       "      <th>49629</th>\n",
       "      <td>-8</td>\n",
       "      <td>2.431261</td>\n",
       "      <td>1998-07-31</td>\n",
       "      <td>1998-05-18</td>\n",
       "      <td>1998-05-18</td>\n",
       "      <td>1977-10-08</td>\n",
       "    </tr>\n",
       "    <tr>\n",
       "      <th>50611</th>\n",
       "      <td>-92</td>\n",
       "      <td>17.544508</td>\n",
       "      <td>1998-08-26</td>\n",
       "      <td>1997-03-10</td>\n",
       "      <td>1997-03-10</td>\n",
       "      <td>1974-06-29</td>\n",
       "    </tr>\n",
       "    <tr>\n",
       "      <th>51347</th>\n",
       "      <td>-33</td>\n",
       "      <td>99.878848</td>\n",
       "      <td>1998-09-30</td>\n",
       "      <td>1990-06-04</td>\n",
       "      <td>1990-06-04</td>\n",
       "      <td>1972-12-21</td>\n",
       "    </tr>\n",
       "    <tr>\n",
       "      <th>52265</th>\n",
       "      <td>-34</td>\n",
       "      <td>140.191790</td>\n",
       "      <td>1998-12-04</td>\n",
       "      <td>1987-03-30</td>\n",
       "      <td>1987-03-30</td>\n",
       "      <td>1958-02-27</td>\n",
       "    </tr>\n",
       "    <tr>\n",
       "      <th>53390</th>\n",
       "      <td>-50</td>\n",
       "      <td>12.386291</td>\n",
       "      <td>1999-01-31</td>\n",
       "      <td>1998-01-19</td>\n",
       "      <td>1998-01-19</td>\n",
       "      <td>1976-07-20</td>\n",
       "    </tr>\n",
       "    <tr>\n",
       "      <th>54984</th>\n",
       "      <td>-6</td>\n",
       "      <td>1.741309</td>\n",
       "      <td>1999-05-07</td>\n",
       "      <td>1999-03-15</td>\n",
       "      <td>1999-03-15</td>\n",
       "      <td>1976-09-19</td>\n",
       "    </tr>\n",
       "    <tr>\n",
       "      <th>55594</th>\n",
       "      <td>-89</td>\n",
       "      <td>66.793979</td>\n",
       "      <td>1999-06-10</td>\n",
       "      <td>1993-11-15</td>\n",
       "      <td>1993-11-15</td>\n",
       "      <td>1968-07-25</td>\n",
       "    </tr>\n",
       "    <tr>\n",
       "      <th>56550</th>\n",
       "      <td>-164</td>\n",
       "      <td>1.938438</td>\n",
       "      <td>1999-07-30</td>\n",
       "      <td>1999-06-01</td>\n",
       "      <td>1999-06-01</td>\n",
       "      <td>1982-12-06</td>\n",
       "    </tr>\n",
       "    <tr>\n",
       "      <th>56866</th>\n",
       "      <td>-39</td>\n",
       "      <td>61.865747</td>\n",
       "      <td>1999-08-02</td>\n",
       "      <td>1994-06-06</td>\n",
       "      <td>1994-06-06</td>\n",
       "      <td>1972-02-12</td>\n",
       "    </tr>\n",
       "    <tr>\n",
       "      <th>58524</th>\n",
       "      <td>-22</td>\n",
       "      <td>7.720898</td>\n",
       "      <td>1999-09-03</td>\n",
       "      <td>1999-01-11</td>\n",
       "      <td>1999-01-11</td>\n",
       "      <td>1970-06-14</td>\n",
       "    </tr>\n",
       "    <tr>\n",
       "      <th>58969</th>\n",
       "      <td>-176</td>\n",
       "      <td>1.478470</td>\n",
       "      <td>1999-09-30</td>\n",
       "      <td>1999-08-16</td>\n",
       "      <td>1999-08-16</td>\n",
       "      <td>1974-03-10</td>\n",
       "    </tr>\n",
       "    <tr>\n",
       "      <th>59588</th>\n",
       "      <td>-160</td>\n",
       "      <td>11.170661</td>\n",
       "      <td>1999-10-29</td>\n",
       "      <td>1998-11-23</td>\n",
       "      <td>1998-11-23</td>\n",
       "      <td>1978-08-19</td>\n",
       "    </tr>\n",
       "    <tr>\n",
       "      <th>60285</th>\n",
       "      <td>-156</td>\n",
       "      <td>27.959506</td>\n",
       "      <td>1999-12-03</td>\n",
       "      <td>1997-08-04</td>\n",
       "      <td>1997-08-04</td>\n",
       "      <td>1965-12-12</td>\n",
       "    </tr>\n",
       "    <tr>\n",
       "      <th>62141</th>\n",
       "      <td>-1</td>\n",
       "      <td>-0.032855</td>\n",
       "      <td>2000-05-12</td>\n",
       "      <td>2000-05-13</td>\n",
       "      <td>2000-05-13</td>\n",
       "      <td>1972-09-07</td>\n",
       "    </tr>\n",
       "  </tbody>\n",
       "</table>\n",
       "</div>"
      ],
      "text/plain": [
       "       TOT_MO_SERVICE_SFI  Tenure_months TERMINATION_DT    HIRE_DT  \\\n",
       "1397                 -219      20.140044     1988-05-27 1986-09-22   \n",
       "2752                   -3       2.628391     1988-08-19 1988-05-31   \n",
       "3267                  -13     147.321300     1988-09-16 1976-06-07   \n",
       "20334                -251       3.351198     1993-01-15 1992-10-05   \n",
       "20353                -244       7.852317     1993-01-20 1992-05-26   \n",
       "22598                -237       2.661246     1993-08-13 1993-05-24   \n",
       "26363                -219      26.053923     1994-07-29 1992-05-27   \n",
       "27105                  -2      27.039570     1994-08-19 1992-05-18   \n",
       "32283                -166       6.899526     1995-08-25 1995-01-27   \n",
       "34008                 -44     278.970821     1995-12-01 1972-09-01   \n",
       "35422                -136      19.778640     1996-03-04 1994-07-11   \n",
       "35944                 -17       2.891230     1996-04-12 1996-01-15   \n",
       "35991                -159      55.031931     1996-04-17 1991-09-16   \n",
       "36788                -183      34.169079     1996-06-14 1993-08-09   \n",
       "43262                -153       1.182776     1997-07-08 1997-06-02   \n",
       "48190                 -78       2.201277     1998-05-15 1998-03-09   \n",
       "49629                  -8       2.431261     1998-07-31 1998-05-18   \n",
       "50611                 -92      17.544508     1998-08-26 1997-03-10   \n",
       "51347                 -33      99.878848     1998-09-30 1990-06-04   \n",
       "52265                 -34     140.191790     1998-12-04 1987-03-30   \n",
       "53390                 -50      12.386291     1999-01-31 1998-01-19   \n",
       "54984                  -6       1.741309     1999-05-07 1999-03-15   \n",
       "55594                 -89      66.793979     1999-06-10 1993-11-15   \n",
       "56550                -164       1.938438     1999-07-30 1999-06-01   \n",
       "56866                 -39      61.865747     1999-08-02 1994-06-06   \n",
       "58524                 -22       7.720898     1999-09-03 1999-01-11   \n",
       "58969                -176       1.478470     1999-09-30 1999-08-16   \n",
       "59588                -160      11.170661     1999-10-29 1998-11-23   \n",
       "60285                -156      27.959506     1999-12-03 1997-08-04   \n",
       "62141                  -1      -0.032855     2000-05-12 2000-05-13   \n",
       "\n",
       "      LAST_HIRE_DT  BIRTHDATE  \n",
       "1397    2008-04-07 1964-01-31  \n",
       "2752    1988-05-31 1956-04-22  \n",
       "3267    1976-06-07 1958-08-16  \n",
       "20334   1992-10-05 1974-05-24  \n",
       "20353   1992-05-26 1960-11-19  \n",
       "22598   1993-05-24 1959-02-26  \n",
       "26363   1994-05-19 1972-06-26  \n",
       "27105   1994-05-16 1973-02-22  \n",
       "32283   1995-01-27 1963-01-24  \n",
       "34008   1972-09-01 1955-05-11  \n",
       "35422   1994-07-11 1966-05-09  \n",
       "35944   1996-01-15 1971-07-10  \n",
       "35991   1991-09-16 1964-10-16  \n",
       "36788   1993-08-09 1967-01-22  \n",
       "43262   1997-06-02 1978-09-09  \n",
       "48190   1998-03-09 1959-09-20  \n",
       "49629   1998-05-18 1977-10-08  \n",
       "50611   1997-03-10 1974-06-29  \n",
       "51347   1990-06-04 1972-12-21  \n",
       "52265   1987-03-30 1958-02-27  \n",
       "53390   1998-01-19 1976-07-20  \n",
       "54984   1999-03-15 1976-09-19  \n",
       "55594   1993-11-15 1968-07-25  \n",
       "56550   1999-06-01 1982-12-06  \n",
       "56866   1994-06-06 1972-02-12  \n",
       "58524   1999-01-11 1970-06-14  \n",
       "58969   1999-08-16 1974-03-10  \n",
       "59588   1998-11-23 1978-08-19  \n",
       "60285   1997-08-04 1965-12-12  \n",
       "62141   2000-05-13 1972-09-07  "
      ]
     },
     "execution_count": 54,
     "metadata": {},
     "output_type": "execute_result"
    }
   ],
   "source": [
    "neg_tenure_idx = ret_empl[ret_empl.TOT_MO_SERVICE_SFI < 0].index\n",
    "ret_empl.ix[neg_tenure_idx][['TOT_MO_SERVICE_SFI','Tenure_months','TERMINATION_DT','HIRE_DT','LAST_HIRE_DT','BIRTHDATE']].head(30)"
   ]
  },
  {
   "cell_type": "code",
   "execution_count": 55,
   "metadata": {
    "collapsed": false
   },
   "outputs": [
    {
     "data": {
      "text/html": [
       "<div>\n",
       "<table border=\"1\" class=\"dataframe\">\n",
       "  <thead>\n",
       "    <tr style=\"text-align: right;\">\n",
       "      <th></th>\n",
       "      <th>TOT_MO_SERVICE_SFI</th>\n",
       "      <th>Tenure_months</th>\n",
       "      <th>TERMINATION_DT</th>\n",
       "      <th>HIRE_DT</th>\n",
       "      <th>LAST_HIRE_DT</th>\n",
       "    </tr>\n",
       "  </thead>\n",
       "  <tbody>\n",
       "    <tr>\n",
       "      <th>144694</th>\n",
       "      <td>-1</td>\n",
       "      <td>-0.032855</td>\n",
       "      <td>2000-04-16</td>\n",
       "      <td>2000-04-17</td>\n",
       "      <td>2000-04-17</td>\n",
       "    </tr>\n",
       "    <tr>\n",
       "      <th>144848</th>\n",
       "      <td>-1</td>\n",
       "      <td>-0.032855</td>\n",
       "      <td>2006-05-05</td>\n",
       "      <td>2006-05-06</td>\n",
       "      <td>2006-05-06</td>\n",
       "    </tr>\n",
       "    <tr>\n",
       "      <th>145396</th>\n",
       "      <td>-1</td>\n",
       "      <td>-0.032855</td>\n",
       "      <td>2008-05-13</td>\n",
       "      <td>2008-05-14</td>\n",
       "      <td>2008-05-14</td>\n",
       "    </tr>\n",
       "    <tr>\n",
       "      <th>145501</th>\n",
       "      <td>-1</td>\n",
       "      <td>-0.032855</td>\n",
       "      <td>2006-02-26</td>\n",
       "      <td>2006-02-27</td>\n",
       "      <td>2006-02-27</td>\n",
       "    </tr>\n",
       "    <tr>\n",
       "      <th>145729</th>\n",
       "      <td>-1</td>\n",
       "      <td>-0.032855</td>\n",
       "      <td>2001-09-03</td>\n",
       "      <td>2001-09-04</td>\n",
       "      <td>2001-09-04</td>\n",
       "    </tr>\n",
       "    <tr>\n",
       "      <th>146499</th>\n",
       "      <td>-1</td>\n",
       "      <td>-0.032855</td>\n",
       "      <td>2001-05-11</td>\n",
       "      <td>2001-05-12</td>\n",
       "      <td>2001-05-12</td>\n",
       "    </tr>\n",
       "    <tr>\n",
       "      <th>146500</th>\n",
       "      <td>-1</td>\n",
       "      <td>-0.032855</td>\n",
       "      <td>2001-05-11</td>\n",
       "      <td>2001-05-12</td>\n",
       "      <td>2001-05-12</td>\n",
       "    </tr>\n",
       "    <tr>\n",
       "      <th>146586</th>\n",
       "      <td>-1</td>\n",
       "      <td>-0.032855</td>\n",
       "      <td>2000-03-12</td>\n",
       "      <td>2000-03-13</td>\n",
       "      <td>2000-03-13</td>\n",
       "    </tr>\n",
       "    <tr>\n",
       "      <th>146587</th>\n",
       "      <td>-1</td>\n",
       "      <td>-0.032855</td>\n",
       "      <td>2000-03-12</td>\n",
       "      <td>2000-03-13</td>\n",
       "      <td>2000-03-13</td>\n",
       "    </tr>\n",
       "    <tr>\n",
       "      <th>147883</th>\n",
       "      <td>-1</td>\n",
       "      <td>-0.032855</td>\n",
       "      <td>2008-02-03</td>\n",
       "      <td>2008-02-04</td>\n",
       "      <td>2008-02-04</td>\n",
       "    </tr>\n",
       "    <tr>\n",
       "      <th>148197</th>\n",
       "      <td>-1</td>\n",
       "      <td>-0.032855</td>\n",
       "      <td>2005-08-21</td>\n",
       "      <td>2005-08-22</td>\n",
       "      <td>2005-08-22</td>\n",
       "    </tr>\n",
       "    <tr>\n",
       "      <th>148312</th>\n",
       "      <td>-1</td>\n",
       "      <td>-0.032855</td>\n",
       "      <td>2008-02-03</td>\n",
       "      <td>2008-02-04</td>\n",
       "      <td>2008-02-04</td>\n",
       "    </tr>\n",
       "    <tr>\n",
       "      <th>149940</th>\n",
       "      <td>-1</td>\n",
       "      <td>-0.032855</td>\n",
       "      <td>2001-01-07</td>\n",
       "      <td>2001-01-08</td>\n",
       "      <td>2001-01-08</td>\n",
       "    </tr>\n",
       "    <tr>\n",
       "      <th>149948</th>\n",
       "      <td>-1</td>\n",
       "      <td>-0.032855</td>\n",
       "      <td>2001-04-29</td>\n",
       "      <td>2001-04-30</td>\n",
       "      <td>2001-04-30</td>\n",
       "    </tr>\n",
       "    <tr>\n",
       "      <th>150016</th>\n",
       "      <td>-1</td>\n",
       "      <td>-0.032855</td>\n",
       "      <td>2002-06-02</td>\n",
       "      <td>2002-06-03</td>\n",
       "      <td>2002-06-03</td>\n",
       "    </tr>\n",
       "    <tr>\n",
       "      <th>150807</th>\n",
       "      <td>-1</td>\n",
       "      <td>-0.032855</td>\n",
       "      <td>2004-10-17</td>\n",
       "      <td>2004-10-18</td>\n",
       "      <td>2004-10-18</td>\n",
       "    </tr>\n",
       "    <tr>\n",
       "      <th>151199</th>\n",
       "      <td>-1</td>\n",
       "      <td>-0.032855</td>\n",
       "      <td>2006-10-29</td>\n",
       "      <td>2006-10-30</td>\n",
       "      <td>2006-10-30</td>\n",
       "    </tr>\n",
       "    <tr>\n",
       "      <th>154011</th>\n",
       "      <td>-1</td>\n",
       "      <td>-0.032855</td>\n",
       "      <td>2005-11-25</td>\n",
       "      <td>2005-11-26</td>\n",
       "      <td>2005-11-26</td>\n",
       "    </tr>\n",
       "    <tr>\n",
       "      <th>154761</th>\n",
       "      <td>-1</td>\n",
       "      <td>-0.032855</td>\n",
       "      <td>2000-04-09</td>\n",
       "      <td>2000-04-10</td>\n",
       "      <td>2000-04-10</td>\n",
       "    </tr>\n",
       "    <tr>\n",
       "      <th>154893</th>\n",
       "      <td>-1</td>\n",
       "      <td>-0.032855</td>\n",
       "      <td>2004-09-12</td>\n",
       "      <td>2004-09-13</td>\n",
       "      <td>2004-09-13</td>\n",
       "    </tr>\n",
       "    <tr>\n",
       "      <th>154894</th>\n",
       "      <td>-1</td>\n",
       "      <td>-0.032855</td>\n",
       "      <td>2004-09-12</td>\n",
       "      <td>2004-09-13</td>\n",
       "      <td>2004-09-13</td>\n",
       "    </tr>\n",
       "    <tr>\n",
       "      <th>155393</th>\n",
       "      <td>-1</td>\n",
       "      <td>-0.032855</td>\n",
       "      <td>2006-10-23</td>\n",
       "      <td>2006-10-24</td>\n",
       "      <td>2006-10-24</td>\n",
       "    </tr>\n",
       "    <tr>\n",
       "      <th>156452</th>\n",
       "      <td>-1</td>\n",
       "      <td>-0.032855</td>\n",
       "      <td>2003-06-06</td>\n",
       "      <td>2003-06-07</td>\n",
       "      <td>2003-06-07</td>\n",
       "    </tr>\n",
       "    <tr>\n",
       "      <th>157411</th>\n",
       "      <td>-1</td>\n",
       "      <td>-0.032855</td>\n",
       "      <td>2002-11-24</td>\n",
       "      <td>2002-11-25</td>\n",
       "      <td>2002-11-25</td>\n",
       "    </tr>\n",
       "    <tr>\n",
       "      <th>157681</th>\n",
       "      <td>-1</td>\n",
       "      <td>-0.032855</td>\n",
       "      <td>2000-05-29</td>\n",
       "      <td>2000-05-30</td>\n",
       "      <td>2000-05-30</td>\n",
       "    </tr>\n",
       "    <tr>\n",
       "      <th>158011</th>\n",
       "      <td>-1</td>\n",
       "      <td>-0.032855</td>\n",
       "      <td>2001-09-09</td>\n",
       "      <td>2001-09-10</td>\n",
       "      <td>2001-09-10</td>\n",
       "    </tr>\n",
       "    <tr>\n",
       "      <th>158012</th>\n",
       "      <td>-1</td>\n",
       "      <td>-0.032855</td>\n",
       "      <td>2001-09-09</td>\n",
       "      <td>2001-09-10</td>\n",
       "      <td>2001-09-10</td>\n",
       "    </tr>\n",
       "    <tr>\n",
       "      <th>158015</th>\n",
       "      <td>-1</td>\n",
       "      <td>-0.032855</td>\n",
       "      <td>2001-10-14</td>\n",
       "      <td>2001-10-15</td>\n",
       "      <td>2001-10-15</td>\n",
       "    </tr>\n",
       "    <tr>\n",
       "      <th>161157</th>\n",
       "      <td>-1</td>\n",
       "      <td>-0.032855</td>\n",
       "      <td>2006-11-12</td>\n",
       "      <td>2006-11-13</td>\n",
       "      <td>2006-11-13</td>\n",
       "    </tr>\n",
       "    <tr>\n",
       "      <th>165101</th>\n",
       "      <td>-1</td>\n",
       "      <td>-0.032855</td>\n",
       "      <td>2007-02-22</td>\n",
       "      <td>2007-02-23</td>\n",
       "      <td>2007-02-23</td>\n",
       "    </tr>\n",
       "  </tbody>\n",
       "</table>\n",
       "</div>"
      ],
      "text/plain": [
       "        TOT_MO_SERVICE_SFI  Tenure_months TERMINATION_DT    HIRE_DT  \\\n",
       "144694                  -1      -0.032855     2000-04-16 2000-04-17   \n",
       "144848                  -1      -0.032855     2006-05-05 2006-05-06   \n",
       "145396                  -1      -0.032855     2008-05-13 2008-05-14   \n",
       "145501                  -1      -0.032855     2006-02-26 2006-02-27   \n",
       "145729                  -1      -0.032855     2001-09-03 2001-09-04   \n",
       "146499                  -1      -0.032855     2001-05-11 2001-05-12   \n",
       "146500                  -1      -0.032855     2001-05-11 2001-05-12   \n",
       "146586                  -1      -0.032855     2000-03-12 2000-03-13   \n",
       "146587                  -1      -0.032855     2000-03-12 2000-03-13   \n",
       "147883                  -1      -0.032855     2008-02-03 2008-02-04   \n",
       "148197                  -1      -0.032855     2005-08-21 2005-08-22   \n",
       "148312                  -1      -0.032855     2008-02-03 2008-02-04   \n",
       "149940                  -1      -0.032855     2001-01-07 2001-01-08   \n",
       "149948                  -1      -0.032855     2001-04-29 2001-04-30   \n",
       "150016                  -1      -0.032855     2002-06-02 2002-06-03   \n",
       "150807                  -1      -0.032855     2004-10-17 2004-10-18   \n",
       "151199                  -1      -0.032855     2006-10-29 2006-10-30   \n",
       "154011                  -1      -0.032855     2005-11-25 2005-11-26   \n",
       "154761                  -1      -0.032855     2000-04-09 2000-04-10   \n",
       "154893                  -1      -0.032855     2004-09-12 2004-09-13   \n",
       "154894                  -1      -0.032855     2004-09-12 2004-09-13   \n",
       "155393                  -1      -0.032855     2006-10-23 2006-10-24   \n",
       "156452                  -1      -0.032855     2003-06-06 2003-06-07   \n",
       "157411                  -1      -0.032855     2002-11-24 2002-11-25   \n",
       "157681                  -1      -0.032855     2000-05-29 2000-05-30   \n",
       "158011                  -1      -0.032855     2001-09-09 2001-09-10   \n",
       "158012                  -1      -0.032855     2001-09-09 2001-09-10   \n",
       "158015                  -1      -0.032855     2001-10-14 2001-10-15   \n",
       "161157                  -1      -0.032855     2006-11-12 2006-11-13   \n",
       "165101                  -1      -0.032855     2007-02-22 2007-02-23   \n",
       "\n",
       "       LAST_HIRE_DT  \n",
       "144694   2000-04-17  \n",
       "144848   2006-05-06  \n",
       "145396   2008-05-14  \n",
       "145501   2006-02-27  \n",
       "145729   2001-09-04  \n",
       "146499   2001-05-12  \n",
       "146500   2001-05-12  \n",
       "146586   2000-03-13  \n",
       "146587   2000-03-13  \n",
       "147883   2008-02-04  \n",
       "148197   2005-08-22  \n",
       "148312   2008-02-04  \n",
       "149940   2001-01-08  \n",
       "149948   2001-04-30  \n",
       "150016   2002-06-03  \n",
       "150807   2004-10-18  \n",
       "151199   2006-10-30  \n",
       "154011   2005-11-26  \n",
       "154761   2000-04-10  \n",
       "154893   2004-09-13  \n",
       "154894   2004-09-13  \n",
       "155393   2006-10-24  \n",
       "156452   2003-06-07  \n",
       "157411   2002-11-25  \n",
       "157681   2000-05-30  \n",
       "158011   2001-09-10  \n",
       "158012   2001-09-10  \n",
       "158015   2001-10-15  \n",
       "161157   2006-11-13  \n",
       "165101   2007-02-23  "
      ]
     },
     "execution_count": 55,
     "metadata": {},
     "output_type": "execute_result"
    }
   ],
   "source": [
    "neg_tenure_idx = ret_empl[ret_empl.Tenure_months < 0].index\n",
    "ret_empl.ix[neg_tenure_idx][['TOT_MO_SERVICE_SFI','Tenure_months','TERMINATION_DT','HIRE_DT','LAST_HIRE_DT']].tail(30)"
   ]
  },
  {
   "cell_type": "code",
   "execution_count": null,
   "metadata": {
    "collapsed": false
   },
   "outputs": [],
   "source": [
    "ret_empl.ix[neg_tenure_idx]['KEY'].tail().values"
   ]
  },
  {
   "cell_type": "markdown",
   "metadata": {},
   "source": [
    "# Cleaning up these dates\n",
    "### remove the negative tenure cases"
   ]
  },
  {
   "cell_type": "code",
   "execution_count": 138,
   "metadata": {
    "collapsed": false
   },
   "outputs": [
    {
     "data": {
      "text/plain": [
       "199346"
      ]
     },
     "execution_count": 138,
     "metadata": {},
     "output_type": "execute_result"
    }
   ],
   "source": [
    "empltbl3 = empltbl2[empltbl2.Tenure_months>=0].copy()\n",
    "len(empltbl3)"
   ]
  },
  {
   "cell_type": "code",
   "execution_count": 139,
   "metadata": {
    "collapsed": false
   },
   "outputs": [
    {
     "data": {
      "text/plain": [
       "(7, 473)"
      ]
     },
     "execution_count": 139,
     "metadata": {},
     "output_type": "execute_result"
    }
   ],
   "source": [
    "# how many are younger than 16?\n",
    "sum(empltbl3.Age_years < 16.01), sum(empltbl3.Age_years > 70)#, sum(cur_empl.Age_years < 16.01)"
   ]
  },
  {
   "cell_type": "code",
   "execution_count": 140,
   "metadata": {
    "collapsed": false
   },
   "outputs": [
    {
     "data": {
      "text/plain": [
       "<matplotlib.text.Text at 0x7f9924acc390>"
      ]
     },
     "execution_count": 140,
     "metadata": {},
     "output_type": "execute_result"
    },
    {
     "data": {
      "image/png": "[encoded data removed]",
      "text/plain": [
       "<matplotlib.figure.Figure at 0x7f9924fbec50>"
      ]
     },
     "metadata": {},
     "output_type": "display_data"
    }
   ],
   "source": [
    "# look at these distributions\n",
    "plt.figure(figsize=(12,8))\n",
    "sns.distplot(empltbl3[empltbl3.status==0].Tenure_months,color='indianred',label='current')\n",
    "sns.distplot(empltbl3[empltbl3.status==1].Tenure_months,color='steelblue',label='former')\n",
    "\n",
    "#cur_empl.Age_years.hist(bins=80,color='indianred',label='current',alpha=0.8,normed=True)\n",
    "#ret_empl.Age_years.hist(bins=80,color='steelblue',label='retired',alpha=0.5,normed=True)\n",
    "plt.legend()\n",
    "\n",
    "plt.xlabel('Months of Tenure')\n",
    "plt.ylabel('Normed Counts')\n",
    "plt.title('Distribution of Worforce Tenures')"
   ]
  },
  {
   "cell_type": "code",
   "execution_count": 141,
   "metadata": {
    "collapsed": false
   },
   "outputs": [],
   "source": [
    "# look at these distributions\n",
    "#plt.figure(figsize=(12,8))\n",
    "#empltbl3[empltbl3.status==0].Tenure_months.hist(bins=80,color='indianred',label='current',alpha=0.8,normed=True)\n",
    "#empltbl3[empltbl3.status==1].Tenure_months.hist(bins=80,color='steelblue',label='former',alpha=0.5,normed=True)\n",
    "#plt.legend()\n",
    "#plt.xlabel('Months of Tenure')\n",
    "#plt.ylabel('Normed Counts')\n",
    "#plt.title('Distribution of Worforce Tenures')"
   ]
  },
  {
   "cell_type": "code",
   "execution_count": 142,
   "metadata": {
    "collapsed": true
   },
   "outputs": [],
   "source": [
    "## convert months of tenure to years of tenure\n",
    "empltbl3['Tenure_years'] = empltbl3['Tenure_months']/12.0"
   ]
  },
  {
   "cell_type": "code",
   "execution_count": 143,
   "metadata": {
    "collapsed": false
   },
   "outputs": [
    {
     "data": {
      "text/plain": [
       "count    199346.000000\n",
       "mean         11.387131\n",
       "std          11.565520\n",
       "min           0.000000\n",
       "25%           1.659172\n",
       "50%           6.926905\n",
       "75%          18.636933\n",
       "max          64.622819\n",
       "Name: Tenure_years, dtype: float64"
      ]
     },
     "execution_count": 143,
     "metadata": {},
     "output_type": "execute_result"
    }
   ],
   "source": [
    "empltbl3.Tenure_years.describe()"
   ]
  },
  {
   "cell_type": "code",
   "execution_count": 144,
   "metadata": {
    "collapsed": false
   },
   "outputs": [
    {
     "data": {
      "text/plain": [
       "<matplotlib.text.Text at 0x7f992724d5d0>"
      ]
     },
     "execution_count": 144,
     "metadata": {},
     "output_type": "execute_result"
    },
    {
     "data": {
      "image/png": "[encoded data removed]",
      "text/plain": [
       "<matplotlib.figure.Figure at 0x7f986f774cd0>"
      ]
     },
     "metadata": {},
     "output_type": "display_data"
    }
   ],
   "source": [
    "# look at these distributions\n",
    "plt.figure(figsize=(12,8))\n",
    "sns.distplot(empltbl3[empltbl3.status==0].Tenure_years,color='indianred',label='current')\n",
    "sns.distplot(empltbl3[empltbl3.status==1].Tenure_years,color='steelblue',label='former')\n",
    "#empltbl3[empltbl3.status==0].Tenure_years.hist(bins=60,range=[0,59],color='indianred',label='current',alpha=0.8,normed=True)\n",
    "#empltbl3[empltbl3.status==1].Tenure_years.hist(bins=60,range=[0,59],color='steelblue',label='former',alpha=0.5,normed=True)\n",
    "plt.legend()\n",
    "plt.xlabel('Years of Tenure')\n",
    "plt.ylabel('Normed Counts')\n",
    "plt.title('Distribution of Worforce Tenures')"
   ]
  },
  {
   "cell_type": "markdown",
   "metadata": {},
   "source": [
    "## look for duplicated KEYS (and remove)"
   ]
  },
  {
   "cell_type": "code",
   "execution_count": 145,
   "metadata": {
    "collapsed": false
   },
   "outputs": [
    {
     "data": {
      "text/plain": [
       "[]"
      ]
     },
     "execution_count": 145,
     "metadata": {},
     "output_type": "execute_result"
    }
   ],
   "source": [
    "duplicated_keys_list = list(empltbl3.KEY.value_counts()[empltbl3.KEY.value_counts() >1].index)\n",
    "duplicated_keys_list"
   ]
  },
  {
   "cell_type": "code",
   "execution_count": 146,
   "metadata": {
    "collapsed": false
   },
   "outputs": [
    {
     "data": {
      "text/plain": [
       "1    129540\n",
       "0     69806\n",
       "Name: status, dtype: int64"
      ]
     },
     "execution_count": 146,
     "metadata": {},
     "output_type": "execute_result"
    }
   ],
   "source": [
    "empltbl3.status.value_counts()"
   ]
  },
  {
   "cell_type": "markdown",
   "metadata": {},
   "source": [
    "## plot age distributions"
   ]
  },
  {
   "cell_type": "code",
   "execution_count": 147,
   "metadata": {
    "collapsed": false
   },
   "outputs": [
    {
     "data": {
      "text/plain": [
       "count    199346.000000\n",
       "mean         40.197426\n",
       "std          13.345862\n",
       "min          15.263832\n",
       "25%          28.591963\n",
       "50%          38.199279\n",
       "75%          51.426107\n",
       "max          92.346865\n",
       "Name: Age_years, dtype: float64"
      ]
     },
     "execution_count": 147,
     "metadata": {},
     "output_type": "execute_result"
    }
   ],
   "source": [
    "empltbl3.Age_years.describe()"
   ]
  },
  {
   "cell_type": "code",
   "execution_count": 148,
   "metadata": {
    "collapsed": false
   },
   "outputs": [
    {
     "data": {
      "text/plain": [
       "<matplotlib.text.Text at 0x7f9924e91bd0>"
      ]
     },
     "execution_count": 148,
     "metadata": {},
     "output_type": "execute_result"
    },
    {
     "data": {
      "image/png": "[encoded data removed]",
      "text/plain": [
       "<matplotlib.figure.Figure at 0x7f99271a5b50>"
      ]
     },
     "metadata": {},
     "output_type": "display_data"
    }
   ],
   "source": [
    "# look at these distributions\n",
    "plt.figure(figsize=(12,8))\n",
    "empltbl3[empltbl3.status==0].Age_years.hist(bins=70,range=[15,84],color='indianred',label='current',alpha=0.8,normed=True)\n",
    "empltbl3[empltbl3.status==1].Age_years.hist(bins=70,range=[15,84],color='steelblue',label='former',alpha=0.5,normed=True)\n",
    "plt.legend()\n",
    "plt.xlabel('Age in years')\n",
    "plt.ylabel('Normed Counts')\n",
    "plt.title('Distribution of Worforce Ages')"
   ]
  },
  {
   "cell_type": "code",
   "execution_count": 149,
   "metadata": {
    "collapsed": false
   },
   "outputs": [
    {
     "data": {
      "text/plain": [
       "<matplotlib.text.Text at 0x7f99249c56d0>"
      ]
     },
     "execution_count": 149,
     "metadata": {},
     "output_type": "execute_result"
    },
    {
     "data": {
      "image/png": "[encoded data removed]",
      "text/plain": [
       "<matplotlib.figure.Figure at 0x7f9924eee190>"
      ]
     },
     "metadata": {},
     "output_type": "display_data"
    }
   ],
   "source": [
    "# look at these distributions\n",
    "plt.figure(figsize=(12,8))\n",
    "sns.distplot(empltbl3[empltbl3.status==0].Age_years,color='indianred',label='current')\n",
    "sns.distplot(empltbl3[empltbl3.status==1].Age_years,color='steelblue',label='former')\n",
    "\n",
    "#cur_empl.Age_years.hist(bins=80,color='indianred',label='current',alpha=0.8,normed=True)\n",
    "#ret_empl.Age_years.hist(bins=80,color='steelblue',label='retired',alpha=0.5,normed=True)\n",
    "plt.legend()\n",
    "plt.xlabel('Age')\n",
    "plt.ylabel('Normed Counts')\n",
    "plt.title('Distribution of Worforce Ages')"
   ]
  },
  {
   "cell_type": "markdown",
   "metadata": {},
   "source": [
    "### compare the type of separation"
   ]
  },
  {
   "cell_type": "code",
   "execution_count": 150,
   "metadata": {
    "collapsed": false
   },
   "outputs": [
    {
     "data": {
      "text/plain": [
       "VOLUNTARY      89993\n",
       "NOT            69806\n",
       "INVOLUNTARY    38728\n",
       "UNKNOWN          496\n",
       "OTHER            323\n",
       "Name: VOLINVOL, dtype: int64"
      ]
     },
     "execution_count": 150,
     "metadata": {},
     "output_type": "execute_result"
    }
   ],
   "source": [
    "empltbl3.VOLINVOL.value_counts()"
   ]
  },
  {
   "cell_type": "code",
   "execution_count": 151,
   "metadata": {
    "collapsed": false
   },
   "outputs": [
    {
     "data": {
      "text/plain": [
       "199346"
      ]
     },
     "execution_count": 151,
     "metadata": {},
     "output_type": "execute_result"
    }
   ],
   "source": [
    "empltbl3.KEY.nunique()"
   ]
  },
  {
   "cell_type": "code",
   "execution_count": 152,
   "metadata": {
    "collapsed": false
   },
   "outputs": [],
   "source": [
    "## Drop the TOT_MO_SERVICE_SFI column --> it's values seem to be erroneous generally\n",
    "# drop PER_ORG because it is singly valued\n",
    "empltbl3.drop(['PER_ORG','TOT_MO_SERVICE_SFI'],axis=1,inplace=True)"
   ]
  },
  {
   "cell_type": "markdown",
   "metadata": {},
   "source": [
    "### Import and join BENEFITS information"
   ]
  },
  {
   "cell_type": "code",
   "execution_count": 72,
   "metadata": {
    "collapsed": false
   },
   "outputs": [
    {
     "data": {
      "text/plain": [
       "'/data/discovery/hrsepara/core/SR_BENEFIT.txt'"
      ]
     },
     "execution_count": 72,
     "metadata": {},
     "output_type": "execute_result"
    }
   ],
   "source": [
    "infilenames[6]"
   ]
  },
  {
   "cell_type": "code",
   "execution_count": 153,
   "metadata": {
    "collapsed": false
   },
   "outputs": [
    {
     "data": {
      "text/plain": [
       "(86954, 4)"
      ]
     },
     "execution_count": 153,
     "metadata": {},
     "output_type": "execute_result"
    }
   ],
   "source": [
    "bene_df = pandas_read_hdfs(infilenames[6],dtype_dict={'KEY':np.str})\n",
    "bene_df.shape"
   ]
  },
  {
   "cell_type": "code",
   "execution_count": 154,
   "metadata": {
    "collapsed": false
   },
   "outputs": [
    {
     "data": {
      "text/html": [
       "<div>\n",
       "<table border=\"1\" class=\"dataframe\">\n",
       "  <thead>\n",
       "    <tr style=\"text-align: right;\">\n",
       "      <th></th>\n",
       "      <th>KEY</th>\n",
       "      <th>HAVE_INS</th>\n",
       "      <th>HAVE_DEP</th>\n",
       "      <th>COUNT</th>\n",
       "    </tr>\n",
       "  </thead>\n",
       "  <tbody>\n",
       "    <tr>\n",
       "      <th>0</th>\n",
       "      <td>782034519027003</td>\n",
       "      <td>1</td>\n",
       "      <td>0</td>\n",
       "      <td>0</td>\n",
       "    </tr>\n",
       "    <tr>\n",
       "      <th>1</th>\n",
       "      <td>606846618748664</td>\n",
       "      <td>1</td>\n",
       "      <td>1</td>\n",
       "      <td>1</td>\n",
       "    </tr>\n",
       "    <tr>\n",
       "      <th>2</th>\n",
       "      <td>932378015449447</td>\n",
       "      <td>1</td>\n",
       "      <td>1</td>\n",
       "      <td>2</td>\n",
       "    </tr>\n",
       "    <tr>\n",
       "      <th>3</th>\n",
       "      <td>892115452742258</td>\n",
       "      <td>1</td>\n",
       "      <td>0</td>\n",
       "      <td>0</td>\n",
       "    </tr>\n",
       "    <tr>\n",
       "      <th>4</th>\n",
       "      <td>149888337659598</td>\n",
       "      <td>1</td>\n",
       "      <td>1</td>\n",
       "      <td>1</td>\n",
       "    </tr>\n",
       "  </tbody>\n",
       "</table>\n",
       "</div>"
      ],
      "text/plain": [
       "               KEY  HAVE_INS  HAVE_DEP  COUNT               \n",
       "0  782034519027003         1         0                     0\n",
       "1  606846618748664         1         1                     1\n",
       "2  932378015449447         1         1                     2\n",
       "3  892115452742258         1         0                     0\n",
       "4  149888337659598         1         1                     1"
      ]
     },
     "execution_count": 154,
     "metadata": {},
     "output_type": "execute_result"
    }
   ],
   "source": [
    "bene_df.replace({'Y': 1, 'N':0},inplace=True)\n",
    "bene_df.head()"
   ]
  },
  {
   "cell_type": "code",
   "execution_count": 155,
   "metadata": {
    "collapsed": false
   },
   "outputs": [],
   "source": [
    "# rename 'COUNT               ' 'DEP_COUNT'\n",
    "bene_df = bene_df.rename(columns={'COUNT               ':'DEP_COUNT'})"
   ]
  },
  {
   "cell_type": "code",
   "execution_count": 156,
   "metadata": {
    "collapsed": false
   },
   "outputs": [
    {
     "data": {
      "text/plain": [
       "True"
      ]
     },
     "execution_count": 156,
     "metadata": {},
     "output_type": "execute_result"
    }
   ],
   "source": [
    "bene_df.HAVE_INS.sum() == len(bene_df)"
   ]
  },
  {
   "cell_type": "code",
   "execution_count": 157,
   "metadata": {
    "collapsed": true
   },
   "outputs": [],
   "source": [
    "empl_bene = pd.merge(empltbl3,bene_df,on='KEY',how = 'left')"
   ]
  },
  {
   "cell_type": "code",
   "execution_count": 158,
   "metadata": {
    "collapsed": false
   },
   "outputs": [
    {
     "data": {
      "text/plain": [
       "(199346, VOLUNTARY      89993\n",
       " NOT            69806\n",
       " INVOLUNTARY    38728\n",
       " UNKNOWN          496\n",
       " OTHER            323\n",
       " Name: VOLINVOL, dtype: int64)"
      ]
     },
     "execution_count": 158,
     "metadata": {},
     "output_type": "execute_result"
    }
   ],
   "source": [
    "len(empl_bene),empl_bene.VOLINVOL.value_counts()"
   ]
  },
  {
   "cell_type": "code",
   "execution_count": 159,
   "metadata": {
    "collapsed": false
   },
   "outputs": [
    {
     "data": {
      "text/plain": [
       "199346"
      ]
     },
     "execution_count": 159,
     "metadata": {},
     "output_type": "execute_result"
    }
   ],
   "source": [
    "empl_bene.index.nunique()"
   ]
  },
  {
   "cell_type": "markdown",
   "metadata": {},
   "source": [
    "### assign random numbers to the indices"
   ]
  },
  {
   "cell_type": "code",
   "execution_count": 160,
   "metadata": {
    "collapsed": false
   },
   "outputs": [
    {
     "name": "stdout",
     "output_type": "stream",
     "text": [
      "199346\n",
      "199346\n"
     ]
    },
    {
     "data": {
      "text/html": [
       "<div>\n",
       "<table border=\"1\" class=\"dataframe\">\n",
       "  <thead>\n",
       "    <tr style=\"text-align: right;\">\n",
       "      <th></th>\n",
       "      <th>ACTRES1</th>\n",
       "      <th>ACTRES10</th>\n",
       "      <th>ACTRES2</th>\n",
       "      <th>ACTRES3</th>\n",
       "      <th>ACTRES4</th>\n",
       "      <th>ACTRES5</th>\n",
       "      <th>ACTRES6</th>\n",
       "      <th>ACTRES7</th>\n",
       "      <th>ACTRES8</th>\n",
       "      <th>ACTRES9</th>\n",
       "      <th>...</th>\n",
       "      <th>TERMINATION_DT</th>\n",
       "      <th>TOTAL_RPT_CNT</th>\n",
       "      <th>Tenure_months</th>\n",
       "      <th>Tenure_tdelta</th>\n",
       "      <th>VOLINVOL</th>\n",
       "      <th>status</th>\n",
       "      <th>Tenure_years</th>\n",
       "      <th>HAVE_INS</th>\n",
       "      <th>HAVE_DEP</th>\n",
       "      <th>DEP_COUNT</th>\n",
       "    </tr>\n",
       "  </thead>\n",
       "  <tbody>\n",
       "    <tr>\n",
       "      <th>0</th>\n",
       "      <td>MERIT;REGULAR RETIREMENT</td>\n",
       "      <td>MERIT;COMPANY WIDE CONVERSION;REGIONAL CONVERS...</td>\n",
       "      <td>LOCATION/FLOOR CHANGE;MERIT;JOB CODE CHANGE;TR...</td>\n",
       "      <td>MISCELLANEOUS DATA CHANGE;MERIT;TRANSFER W/O J...</td>\n",
       "      <td>MERIT;TRANSFER W/O JOB NUMBER CHANGE</td>\n",
       "      <td>TRANSFER W/ JOB NUMBER CHANGE;MERIT;MISCELLANE...</td>\n",
       "      <td>MERIT</td>\n",
       "      <td>TRANSFER W/O JOB NUMBER CHANGE;MERIT</td>\n",
       "      <td>LOCATION/FLOOR CHANGE;MERIT;TRANSFER W/O JOB N...</td>\n",
       "      <td>REVIEW DATE CHANGE;MERIT;RATING SCALE CONVERSION</td>\n",
       "      <td>...</td>\n",
       "      <td>2009-05-31</td>\n",
       "      <td>6</td>\n",
       "      <td>484.248137</td>\n",
       "      <td>14739 days</td>\n",
       "      <td>VOLUNTARY</td>\n",
       "      <td>1</td>\n",
       "      <td>40.354011</td>\n",
       "      <td>NaN</td>\n",
       "      <td>NaN</td>\n",
       "      <td>NaN</td>\n",
       "    </tr>\n",
       "    <tr>\n",
       "      <th>1</th>\n",
       "      <td>MISCELLANEOUS DATA CHANGE;MISCELLANEOUS DATA C...</td>\n",
       "      <td>NaN</td>\n",
       "      <td>NaN</td>\n",
       "      <td>NaN</td>\n",
       "      <td>NaN</td>\n",
       "      <td>NaN</td>\n",
       "      <td>NaN</td>\n",
       "      <td>NaN</td>\n",
       "      <td>NaN</td>\n",
       "      <td>NaN</td>\n",
       "      <td>...</td>\n",
       "      <td>2015-01-01</td>\n",
       "      <td>17</td>\n",
       "      <td>6.768106</td>\n",
       "      <td>206 days</td>\n",
       "      <td>NOT</td>\n",
       "      <td>0</td>\n",
       "      <td>0.564009</td>\n",
       "      <td>NaN</td>\n",
       "      <td>NaN</td>\n",
       "      <td>NaN</td>\n",
       "    </tr>\n",
       "    <tr>\n",
       "      <th>2</th>\n",
       "      <td>MERIT;ELIMINATION OF POSITION;COMPANY WIDE CON...</td>\n",
       "      <td>NaN</td>\n",
       "      <td>MERIT;TRANSFER W/O JOB NUMBER CHANGE</td>\n",
       "      <td>MERIT</td>\n",
       "      <td>MERIT</td>\n",
       "      <td>MERIT;TRANSFER W/O JOB NUMBER CHANGE</td>\n",
       "      <td>MERIT;ORGANIZATIONAL CHANGES;TRANSFER W/O JOB ...</td>\n",
       "      <td>MERIT;TRANSFER W/O JOB NUMBER CHANGE</td>\n",
       "      <td>EMPLOYEE NEW HIRE;MERIT;TRANSFER W/O JOB NUMBE...</td>\n",
       "      <td>NaN</td>\n",
       "      <td>...</td>\n",
       "      <td>1997-06-13</td>\n",
       "      <td>NaN</td>\n",
       "      <td>88.905316</td>\n",
       "      <td>2706 days</td>\n",
       "      <td>INVOLUNTARY</td>\n",
       "      <td>1</td>\n",
       "      <td>7.408776</td>\n",
       "      <td>NaN</td>\n",
       "      <td>NaN</td>\n",
       "      <td>NaN</td>\n",
       "    </tr>\n",
       "    <tr>\n",
       "      <th>3</th>\n",
       "      <td>EMPLOYEE NEW HIRE;MARRIAGE;LOCATION/FLOOR CHAN...</td>\n",
       "      <td>NaN</td>\n",
       "      <td>NaN</td>\n",
       "      <td>NaN</td>\n",
       "      <td>NaN</td>\n",
       "      <td>NaN</td>\n",
       "      <td>NaN</td>\n",
       "      <td>NaN</td>\n",
       "      <td>NaN</td>\n",
       "      <td>NaN</td>\n",
       "      <td>...</td>\n",
       "      <td>2000-09-23</td>\n",
       "      <td>12</td>\n",
       "      <td>3.154069</td>\n",
       "      <td>96 days</td>\n",
       "      <td>VOLUNTARY</td>\n",
       "      <td>1</td>\n",
       "      <td>0.262839</td>\n",
       "      <td>NaN</td>\n",
       "      <td>NaN</td>\n",
       "      <td>NaN</td>\n",
       "    </tr>\n",
       "    <tr>\n",
       "      <th>4</th>\n",
       "      <td>MISCELLANEOUS DATA CHANGE;SALARY ADJUSTMENT;TR...</td>\n",
       "      <td>NaN</td>\n",
       "      <td>MISCELLANEOUS DATA CHANGE;MISCELLANEOUS DATA C...</td>\n",
       "      <td>MISCELLANEOUS DATA CHANGE;EMPLOYEE NEW HIRE</td>\n",
       "      <td>NaN</td>\n",
       "      <td>NaN</td>\n",
       "      <td>NaN</td>\n",
       "      <td>NaN</td>\n",
       "      <td>NaN</td>\n",
       "      <td>NaN</td>\n",
       "      <td>...</td>\n",
       "      <td>2015-01-01</td>\n",
       "      <td>14</td>\n",
       "      <td>24.706873</td>\n",
       "      <td>752 days</td>\n",
       "      <td>NOT</td>\n",
       "      <td>0</td>\n",
       "      <td>2.058906</td>\n",
       "      <td>1</td>\n",
       "      <td>0</td>\n",
       "      <td>0</td>\n",
       "    </tr>\n",
       "  </tbody>\n",
       "</table>\n",
       "<p>5 rows × 186 columns</p>\n",
       "</div>"
      ],
      "text/plain": [
       "                                             ACTRES1  \\\n",
       "0                           MERIT;REGULAR RETIREMENT   \n",
       "1  MISCELLANEOUS DATA CHANGE;MISCELLANEOUS DATA C...   \n",
       "2  MERIT;ELIMINATION OF POSITION;COMPANY WIDE CON...   \n",
       "3  EMPLOYEE NEW HIRE;MARRIAGE;LOCATION/FLOOR CHAN...   \n",
       "4  MISCELLANEOUS DATA CHANGE;SALARY ADJUSTMENT;TR...   \n",
       "\n",
       "                                            ACTRES10  \\\n",
       "0  MERIT;COMPANY WIDE CONVERSION;REGIONAL CONVERS...   \n",
       "1                                                NaN   \n",
       "2                                                NaN   \n",
       "3                                                NaN   \n",
       "4                                                NaN   \n",
       "\n",
       "                                             ACTRES2  \\\n",
       "0  LOCATION/FLOOR CHANGE;MERIT;JOB CODE CHANGE;TR...   \n",
       "1                                                NaN   \n",
       "2               MERIT;TRANSFER W/O JOB NUMBER CHANGE   \n",
       "3                                                NaN   \n",
       "4  MISCELLANEOUS DATA CHANGE;MISCELLANEOUS DATA C...   \n",
       "\n",
       "                                             ACTRES3  \\\n",
       "0  MISCELLANEOUS DATA CHANGE;MERIT;TRANSFER W/O J...   \n",
       "1                                                NaN   \n",
       "2                                              MERIT   \n",
       "3                                                NaN   \n",
       "4        MISCELLANEOUS DATA CHANGE;EMPLOYEE NEW HIRE   \n",
       "\n",
       "                                ACTRES4  \\\n",
       "0  MERIT;TRANSFER W/O JOB NUMBER CHANGE   \n",
       "1                                   NaN   \n",
       "2                                 MERIT   \n",
       "3                                   NaN   \n",
       "4                                   NaN   \n",
       "\n",
       "                                             ACTRES5  \\\n",
       "0  TRANSFER W/ JOB NUMBER CHANGE;MERIT;MISCELLANE...   \n",
       "1                                                NaN   \n",
       "2               MERIT;TRANSFER W/O JOB NUMBER CHANGE   \n",
       "3                                                NaN   \n",
       "4                                                NaN   \n",
       "\n",
       "                                             ACTRES6  \\\n",
       "0                                              MERIT   \n",
       "1                                                NaN   \n",
       "2  MERIT;ORGANIZATIONAL CHANGES;TRANSFER W/O JOB ...   \n",
       "3                                                NaN   \n",
       "4                                                NaN   \n",
       "\n",
       "                                ACTRES7  \\\n",
       "0  TRANSFER W/O JOB NUMBER CHANGE;MERIT   \n",
       "1                                   NaN   \n",
       "2  MERIT;TRANSFER W/O JOB NUMBER CHANGE   \n",
       "3                                   NaN   \n",
       "4                                   NaN   \n",
       "\n",
       "                                             ACTRES8  \\\n",
       "0  LOCATION/FLOOR CHANGE;MERIT;TRANSFER W/O JOB N...   \n",
       "1                                                NaN   \n",
       "2  EMPLOYEE NEW HIRE;MERIT;TRANSFER W/O JOB NUMBE...   \n",
       "3                                                NaN   \n",
       "4                                                NaN   \n",
       "\n",
       "                                            ACTRES9    ...     TERMINATION_DT  \\\n",
       "0  REVIEW DATE CHANGE;MERIT;RATING SCALE CONVERSION    ...         2009-05-31   \n",
       "1                                               NaN    ...         2015-01-01   \n",
       "2                                               NaN    ...         1997-06-13   \n",
       "3                                               NaN    ...         2000-09-23   \n",
       "4                                               NaN    ...         2015-01-01   \n",
       "\n",
       "   TOTAL_RPT_CNT  Tenure_months  Tenure_tdelta     VOLINVOL status  \\\n",
       "0              6     484.248137     14739 days    VOLUNTARY      1   \n",
       "1             17       6.768106       206 days          NOT      0   \n",
       "2            NaN      88.905316      2706 days  INVOLUNTARY      1   \n",
       "3             12       3.154069        96 days    VOLUNTARY      1   \n",
       "4             14      24.706873       752 days          NOT      0   \n",
       "\n",
       "   Tenure_years  HAVE_INS  HAVE_DEP DEP_COUNT  \n",
       "0     40.354011       NaN       NaN       NaN  \n",
       "1      0.564009       NaN       NaN       NaN  \n",
       "2      7.408776       NaN       NaN       NaN  \n",
       "3      0.262839       NaN       NaN       NaN  \n",
       "4      2.058906         1         0         0  \n",
       "\n",
       "[5 rows x 186 columns]"
      ]
     },
     "execution_count": 160,
     "metadata": {},
     "output_type": "execute_result"
    }
   ],
   "source": [
    "import random\n",
    "list_of_indices = list(range(empl_bene.KEY.nunique()))\n",
    "print len(list_of_indices )\n",
    "random.seed(883321)\n",
    "#new_indices = [x for x in random.shuffle(list_of_indices)\n",
    "random.shuffle(list_of_indices)#, len(list_of_indices))\n",
    "empl_bene.index = list_of_indices # note that random.shuffle does this shuffling inplace\n",
    "empl_bene.sort_index(inplace=True)\n",
    "print empl_bene.index.nunique()\n",
    "empl_bene.head()"
   ]
  },
  {
   "cell_type": "markdown",
   "metadata": {},
   "source": [
    "## Encode some categorical variables that are complete\n",
    "0. fill in benefit column, missing counts as 0\n",
    "1. volinvol status  into sep_status\n",
    "2. MAR_STA_SNAME_SFI into mar_status\n",
    "3. create a 5code zipcode from POSTAL_SFI (missing flagged as XXXXX)"
   ]
  },
  {
   "cell_type": "code",
   "execution_count": 161,
   "metadata": {
    "collapsed": false
   },
   "outputs": [
    {
     "data": {
      "text/plain": [
       "count    199346.000000\n",
       "mean          0.578632\n",
       "std           1.309877\n",
       "min           0.000000\n",
       "25%           0.000000\n",
       "50%           0.000000\n",
       "75%           0.000000\n",
       "max          50.000000\n",
       "Name: DEP_COUNT, dtype: float64"
      ]
     },
     "execution_count": 161,
     "metadata": {},
     "output_type": "execute_result"
    }
   ],
   "source": [
    "empl_bene[bene_df.columns] = empl_bene[bene_df.columns].fillna(0)\n",
    "empl_bene['DEP_COUNT'].describe()"
   ]
  },
  {
   "cell_type": "code",
   "execution_count": 162,
   "metadata": {
    "collapsed": false
   },
   "outputs": [
    {
     "name": "stdout",
     "output_type": "stream",
     "text": [
      "1    89993\n",
      "0    69806\n",
      "2    38728\n",
      "3      819\n",
      "Name: sep_status, dtype: int64\n"
     ]
    }
   ],
   "source": [
    "#empl_ben\n",
    "#encode the VOLINVOL column as ['INVOLUNTARY':2,'VOLUNTARY':1,'NOT':0,'\n",
    "empl_bene['sep_status'] = empl_bene['VOLINVOL'].replace({'NOT':0,'VOLUNTARY':1,'INVOLUNTARY':2,'OTHER':3,'UNKNOWN':3})\n",
    "print empl_bene.sep_status.value_counts()\n",
    "empl_bene.drop('VOLINVOL',axis=1,inplace=True)"
   ]
  },
  {
   "cell_type": "code",
   "execution_count": 163,
   "metadata": {
    "collapsed": false
   },
   "outputs": [
    {
     "name": "stdout",
     "output_type": "stream",
     "text": [
      "0    108752\n",
      "1     90323\n",
      "2       271\n",
      "Name: mar_status, dtype: int64\n"
     ]
    }
   ],
   "source": [
    "## deal with MAR_STA_SNAME_SFI\n",
    "empl_bene['mar_status'] = empl_bene['MAR_STA_SNAME_SFI'].replace({'MARRIED':0,'SINGLE':1,'LEG SEPAR':2})\n",
    "#, SINGLE, LEG SEPAR#{'NOT':0,'VOLUNTARY':1,'INVOLUNTARY':2,'OTHER':3,'UNKNOWN':3})\n",
    "print empl_bene.mar_status.value_counts()\n",
    "empl_bene.drop('MAR_STA_SNAME_SFI',axis=1,inplace=True)"
   ]
  },
  {
   "cell_type": "code",
   "execution_count": 164,
   "metadata": {
    "collapsed": false
   },
   "outputs": [
    {
     "data": {
      "text/plain": [
       "array(['34746', '85281', '19508', ..., '95322', '75688', '23438'], dtype=object)"
      ]
     },
     "execution_count": 164,
     "metadata": {},
     "output_type": "execute_result"
    }
   ],
   "source": [
    "## try to deal with location via zipcode\n",
    "empl_bene['zip5'] = empl_bene['POSTAL_SFI'].apply(lambda(x): truncate_postal_zip(x))\n",
    "empl_bene.drop('POSTAL_SFI',axis=1,inplace=True)\n",
    "empl_bene['zip5'].unique()"
   ]
  },
  {
   "cell_type": "markdown",
   "metadata": {
    "collapsed": false
   },
   "source": [
    "## remove Rows (i.e. employees ) corresponding to certain characteristics\n",
    "1. keep only those that are known (vol,invol, not) per discussion on April 22, 2015\n",
    "2. remove grades starting with 'L' and 'AT'\n",
    "    * As we discussed, I'm already excluding seasonal employees, interns, and agency interns. \n",
    "    * Let’s also exclude the L-Level executive employees are in the LDSH job group with job grades L1 to L10 (i.e., all job grades starting with “L”). \n",
    "    * Let’s also exclude Air Transportation as we don’t foresee applying the model to them either. Their job group is AIRT with job grades AT1 to AT8 (i.e., all job grades starting with “AT”).\n",
    "3. take a time slice --> only after 01-01-2002\n",
    " "
   ]
  },
  {
   "cell_type": "code",
   "execution_count": 165,
   "metadata": {
    "collapsed": false
   },
   "outputs": [
    {
     "name": "stdout",
     "output_type": "stream",
     "text": [
      "(198527, 186)\n"
     ]
    }
   ],
   "source": [
    "# remove sep_status over 1\n",
    "empl_bene = empl_bene[empl_bene.sep_status<=2]\n",
    "print np.shape(empl_bene)"
   ]
  },
  {
   "cell_type": "code",
   "execution_count": 166,
   "metadata": {
    "collapsed": false
   },
   "outputs": [
    {
     "name": "stdout",
     "output_type": "stream",
     "text": [
      "164\n",
      "24\n",
      "18 ['L10', 'L6', 'L4', 'L9', 'L7', 'AT8', 'L5', 'L8', 'L3', 'L2', 'AT5', 'AT4', 'AT3', 'L1', 'AT7', 'AT6', 'AT2', 'AT1']\n"
     ]
    }
   ],
   "source": [
    "# remove AT* and L* grades\n",
    "list_of_grades = empl_bene.GRADE.unique()\n",
    "print len(list_of_grades)\n",
    "grades_to_drop = [x for x in map(str,list_of_grades) if (x.startswith('L') or x.startswith('AT'))]\n",
    "print len(grades_to_drop)\n",
    "grades_to_drop.remove('LS2')\n",
    "grades_to_drop.remove('LS1')\n",
    "grades_to_drop.remove('LS3')\n",
    "grades_to_drop.remove('LM1')\n",
    "grades_to_drop.remove('LM2')\n",
    "grades_to_drop.remove('LP1')\n",
    "print len(grades_to_drop),grades_to_drop"
   ]
  },
  {
   "cell_type": "code",
   "execution_count": 167,
   "metadata": {
    "collapsed": false
   },
   "outputs": [
    {
     "name": "stdout",
     "output_type": "stream",
     "text": [
      "removing these 18 grades removes 579 employees\n",
      "(197948, 186)\n"
     ]
    }
   ],
   "source": [
    "print \"removing these {0} grades removes {1} employees\".format(len(grades_to_drop),len(empl_bene[empl_bene.GRADE.isin(grades_to_drop)]))\n",
    "empl=empl_bene[~empl_bene.GRADE.isin(grades_to_drop)].copy()\n",
    "print np.shape(empl)"
   ]
  },
  {
   "cell_type": "markdown",
   "metadata": {},
   "source": [
    "## Create a column for Retired based upon ACTRES1"
   ]
  },
  {
   "cell_type": "code",
   "execution_count": 168,
   "metadata": {
    "collapsed": false
   },
   "outputs": [],
   "source": [
    "empl.ACTRES1.fillna('MISSING',inplace=True)"
   ]
  },
  {
   "cell_type": "code",
   "execution_count": 169,
   "metadata": {
    "collapsed": false
   },
   "outputs": [
    {
     "name": "stdout",
     "output_type": "stream",
     "text": [
      "25380\n",
      "142694\n",
      "22\n"
     ]
    },
    {
     "data": {
      "text/plain": [
       "['RET W/ VOLUNTARY SEVERANCE',\n",
       " 'WINDOW 1 - RET WITH INVOL SEV',\n",
       " 'EARLY RETIREMENT',\n",
       " 'WINDOW 4 - RET WITH INVOL SEV',\n",
       " 'WINDOW 4 - EARLY RET INCENTIVE',\n",
       " 'RET W/ INVOLUNTARY SEVERANCE',\n",
       " 'PART-TIME RETIREE',\n",
       " 'PART-TIME RETIREE - NO GI',\n",
       " 'WINDOW 2 - EARLY RET INCENTIVE',\n",
       " 'WINDOW 3 - RET WITH INVOL SEV',\n",
       " 'WINDOW 6 - RET WITH INVOL SEV',\n",
       " 'WINDOW 1 - EARLY RET INCENTIVE',\n",
       " 'WINDOW 0 - EARLY RET INCENTIVE',\n",
       " 'WINDOW 6 - EARLY RET INCENTIVE',\n",
       " 'RETIREE',\n",
       " 'WINDOW 0 - RET WITH INVOL SEV',\n",
       " 'WINDOW 5 - RET WITH INVOL SEV',\n",
       " 'NORMAL RETIREMENT',\n",
       " 'WINDOW 3 - EARLY RET INCENTIVE',\n",
       " 'REGULAR RETIREMENT',\n",
       " 'WINDOW 2 - RET WITH INVOL SEV',\n",
       " 'WINDOW 5 - EARLY RET INCENTIVE']"
      ]
     },
     "execution_count": 169,
     "metadata": {},
     "output_type": "execute_result"
    }
   ],
   "source": [
    "## define the possible retire_codes first\n",
    "## identify unique actres1 listing\n",
    "# look at the list of ACTRES1 for  ReTIREMENT\n",
    "uniq_action_reasons_1 = empl.ACTRES1.unique()\n",
    "print len(uniq_action_reasons_1)\n",
    "temp_list = [x.split(';') for x in uniq_action_reasons_1]\n",
    "\n",
    "act_reason_1_list = list(chain.from_iterable(temp_list))\n",
    "print len(act_reason_1_list)\n",
    "# identify those that are Retirement related\n",
    "\n",
    "possible_retire_codes = [x for x in list(set(act_reason_1_list)) if ('RET' in x and  'RETURN' not in x) ]\n",
    "# If one wants to flag DISABILITY add the next line\n",
    "#possible_retire_codes.append('DISABILITY')\n",
    "print len(possible_retire_codes)\n",
    "possible_retire_codes"
   ]
  },
  {
   "cell_type": "code",
   "execution_count": 170,
   "metadata": {
    "collapsed": false
   },
   "outputs": [],
   "source": [
    "# function to generate flag\n",
    "def identify_retired(x,ret_codes =possible_retire_codes):\n",
    "    matched = [a for a in x.split(';') if a in ret_codes]\n",
    "    if len(matched):\n",
    "        return 1\n",
    "    else:\n",
    "        return 0"
   ]
  },
  {
   "cell_type": "code",
   "execution_count": 171,
   "metadata": {
    "collapsed": false
   },
   "outputs": [],
   "source": [
    "empl['retired'] = empl.ACTRES1.apply(lambda x: identify_retired(x))"
   ]
  },
  {
   "cell_type": "markdown",
   "metadata": {},
   "source": [
    "### try to check these retired instances"
   ]
  },
  {
   "cell_type": "markdown",
   "metadata": {
    "collapsed": false
   },
   "source": [
    "#### There is  one case where the person is 'retired' but has status of 0 is wrong -- I'm removing this row"
   ]
  },
  {
   "cell_type": "code",
   "execution_count": 172,
   "metadata": {
    "collapsed": false
   },
   "outputs": [
    {
     "data": {
      "text/html": [
       "<div>\n",
       "<table border=\"1\" class=\"dataframe\">\n",
       "  <thead>\n",
       "    <tr style=\"text-align: right;\">\n",
       "      <th></th>\n",
       "      <th>ACTRES1</th>\n",
       "      <th>ACTRES10</th>\n",
       "      <th>ACTRES2</th>\n",
       "      <th>ACTRES3</th>\n",
       "      <th>ACTRES4</th>\n",
       "      <th>ACTRES5</th>\n",
       "      <th>ACTRES6</th>\n",
       "      <th>ACTRES7</th>\n",
       "      <th>ACTRES8</th>\n",
       "      <th>ACTRES9</th>\n",
       "      <th>...</th>\n",
       "      <th>Tenure_tdelta</th>\n",
       "      <th>status</th>\n",
       "      <th>Tenure_years</th>\n",
       "      <th>HAVE_INS</th>\n",
       "      <th>HAVE_DEP</th>\n",
       "      <th>DEP_COUNT</th>\n",
       "      <th>sep_status</th>\n",
       "      <th>mar_status</th>\n",
       "      <th>zip5</th>\n",
       "      <th>retired</th>\n",
       "    </tr>\n",
       "  </thead>\n",
       "  <tbody>\n",
       "    <tr>\n",
       "      <th>197913</th>\n",
       "      <td>TRANSFER W/O JOB NUMBER CHANGE;RETIREE</td>\n",
       "      <td>MISCELLANEOUS DATA CHANGE;MERIT</td>\n",
       "      <td>INVOL SEVERANCE AFTER 9/1/2005</td>\n",
       "      <td>SALARY PLAN CHANGE;INCENTIVE;MERIT;TRANSFER W/...</td>\n",
       "      <td>TRANSFER W/O JOB NUMBER CHANGE;SP/DEP LOSES EL...</td>\n",
       "      <td>SP/DEP GAINS ELIGIBILITY;MISCELLANEOUS DATA CH...</td>\n",
       "      <td>MERIT</td>\n",
       "      <td>MERIT</td>\n",
       "      <td>MERIT;MISCELLANEOUS DATA CHANGE</td>\n",
       "      <td>SALARY PLAN CHANGE;SALARY PLAN CHANGE;MERIT</td>\n",
       "      <td>...</td>\n",
       "      <td>11910 days</td>\n",
       "      <td>0</td>\n",
       "      <td>32.608472</td>\n",
       "      <td>0</td>\n",
       "      <td>0</td>\n",
       "      <td>0</td>\n",
       "      <td>0</td>\n",
       "      <td>0</td>\n",
       "      <td>49301</td>\n",
       "      <td>1</td>\n",
       "    </tr>\n",
       "  </tbody>\n",
       "</table>\n",
       "<p>1 rows × 187 columns</p>\n",
       "</div>"
      ],
      "text/plain": [
       "                                       ACTRES1  \\\n",
       "197913  TRANSFER W/O JOB NUMBER CHANGE;RETIREE   \n",
       "\n",
       "                               ACTRES10                         ACTRES2  \\\n",
       "197913  MISCELLANEOUS DATA CHANGE;MERIT  INVOL SEVERANCE AFTER 9/1/2005   \n",
       "\n",
       "                                                  ACTRES3  \\\n",
       "197913  SALARY PLAN CHANGE;INCENTIVE;MERIT;TRANSFER W/...   \n",
       "\n",
       "                                                  ACTRES4  \\\n",
       "197913  TRANSFER W/O JOB NUMBER CHANGE;SP/DEP LOSES EL...   \n",
       "\n",
       "                                                  ACTRES5 ACTRES6 ACTRES7  \\\n",
       "197913  SP/DEP GAINS ELIGIBILITY;MISCELLANEOUS DATA CH...   MERIT   MERIT   \n",
       "\n",
       "                                ACTRES8  \\\n",
       "197913  MERIT;MISCELLANEOUS DATA CHANGE   \n",
       "\n",
       "                                            ACTRES9   ...    Tenure_tdelta  \\\n",
       "197913  SALARY PLAN CHANGE;SALARY PLAN CHANGE;MERIT   ...       11910 days   \n",
       "\n",
       "        status  Tenure_years  HAVE_INS HAVE_DEP DEP_COUNT  sep_status  \\\n",
       "197913       0     32.608472         0        0         0           0   \n",
       "\n",
       "        mar_status   zip5 retired  \n",
       "197913           0  49301       1  \n",
       "\n",
       "[1 rows x 187 columns]"
      ]
     },
     "execution_count": 172,
     "metadata": {},
     "output_type": "execute_result"
    }
   ],
   "source": [
    "empl[(empl.status == 0)& (empl.retired == 1)]"
   ]
  },
  {
   "cell_type": "code",
   "execution_count": 173,
   "metadata": {
    "collapsed": false
   },
   "outputs": [
    {
     "data": {
      "text/html": [
       "<div>\n",
       "<table border=\"1\" class=\"dataframe\">\n",
       "  <thead>\n",
       "    <tr style=\"text-align: right;\">\n",
       "      <th></th>\n",
       "      <th>BIRTHDATE</th>\n",
       "      <th>HIRE_DT</th>\n",
       "      <th>TERMINATION_DT</th>\n",
       "      <th>LAST_HIRE_DT</th>\n",
       "      <th>KEY</th>\n",
       "    </tr>\n",
       "  </thead>\n",
       "  <tbody>\n",
       "    <tr>\n",
       "      <th>197913</th>\n",
       "      <td>1958-06-26</td>\n",
       "      <td>1982-05-24</td>\n",
       "      <td>2015-01-01</td>\n",
       "      <td>2014-10-13</td>\n",
       "      <td>185980322857378</td>\n",
       "    </tr>\n",
       "  </tbody>\n",
       "</table>\n",
       "</div>"
      ],
      "text/plain": [
       "        BIRTHDATE    HIRE_DT TERMINATION_DT LAST_HIRE_DT              KEY\n",
       "197913 1958-06-26 1982-05-24     2015-01-01   2014-10-13  185980322857378"
      ]
     },
     "execution_count": 173,
     "metadata": {},
     "output_type": "execute_result"
    }
   ],
   "source": [
    "empl[(empl.retired==1) & (empl.status==0)][['BIRTHDATE','HIRE_DT','TERMINATION_DT','LAST_HIRE_DT','KEY']]"
   ]
  },
  {
   "cell_type": "code",
   "execution_count": 174,
   "metadata": {
    "collapsed": false
   },
   "outputs": [
    {
     "data": {
      "text/plain": [
       "0    175233\n",
       "1     22715\n",
       "Name: retired, dtype: int64"
      ]
     },
     "execution_count": 174,
     "metadata": {},
     "output_type": "execute_result"
    }
   ],
   "source": [
    "empl.retired.value_counts()"
   ]
  },
  {
   "cell_type": "code",
   "execution_count": 175,
   "metadata": {
    "collapsed": false
   },
   "outputs": [
    {
     "name": "stdout",
     "output_type": "stream",
     "text": [
      "['185980322857378']\n"
     ]
    }
   ],
   "source": [
    "wrong_status_key = empl[(empl.status == 0)& (empl.retired == 1)].KEY.values\n",
    "print wrong_status_key\n"
   ]
  },
  {
   "cell_type": "code",
   "execution_count": 176,
   "metadata": {
    "collapsed": false
   },
   "outputs": [
    {
     "data": {
      "text/html": [
       "<div>\n",
       "<table border=\"1\" class=\"dataframe\">\n",
       "  <thead>\n",
       "    <tr style=\"text-align: right;\">\n",
       "      <th></th>\n",
       "      <th>retired</th>\n",
       "      <th>status</th>\n",
       "    </tr>\n",
       "  </thead>\n",
       "  <tbody>\n",
       "    <tr>\n",
       "      <th>197913</th>\n",
       "      <td>1</td>\n",
       "      <td>0</td>\n",
       "    </tr>\n",
       "  </tbody>\n",
       "</table>\n",
       "</div>"
      ],
      "text/plain": [
       "        retired  status\n",
       "197913        1       0"
      ]
     },
     "execution_count": 176,
     "metadata": {},
     "output_type": "execute_result"
    }
   ],
   "source": [
    "empl[empl.KEY==wrong_status_key[0]][['retired','status']]"
   ]
  },
  {
   "cell_type": "code",
   "execution_count": 177,
   "metadata": {
    "collapsed": false
   },
   "outputs": [
    {
     "data": {
      "text/plain": [
       "197947"
      ]
     },
     "execution_count": 177,
     "metadata": {},
     "output_type": "execute_result"
    }
   ],
   "source": [
    "empl = empl[empl.KEY!=wrong_status_key[0]] #drop(empl.index[wrong_status_idx]).copy()#ix[:wrong_status_idx].tail()\n",
    "len(empl)"
   ]
  },
  {
   "cell_type": "code",
   "execution_count": 183,
   "metadata": {
    "collapsed": false
   },
   "outputs": [
    {
     "data": {
      "text/plain": [
       "0    175233\n",
       "1     22714\n",
       "Name: retired, dtype: int64"
      ]
     },
     "execution_count": 183,
     "metadata": {},
     "output_type": "execute_result"
    }
   ],
   "source": [
    "empl.retired.value_counts()"
   ]
  },
  {
   "cell_type": "markdown",
   "metadata": {
    "collapsed": false
   },
   "source": [
    "### Create a column for terminated (i.e separated but not Retired)\n",
    "* requires that status == 1 but retired == 0"
   ]
  },
  {
   "cell_type": "code",
   "execution_count": 185,
   "metadata": {
    "collapsed": false
   },
   "outputs": [
    {
     "name": "stdout",
     "output_type": "stream",
     "text": [
      "Out of 197947 rows, 105758 are separated and not retired.\n",
      "105758\n"
     ]
    }
   ],
   "source": [
    "## create a column for terminated (i.e. separated but NOT retired)\n",
    "empl['terminated']= 0\n",
    "my_rows = empl[(empl.status==1) & (empl.retired==0)].index\n",
    "print \"Out of {0} rows, {1} are separated and not retired.\".format(len(empl),len(my_rows))\n",
    "#sum(empl_df['terminated']))#, len(my_rows)\n",
    "empl.loc[my_rows,'terminated']=1\n",
    "print sum(empl.terminated)"
   ]
  },
  {
   "cell_type": "code",
   "execution_count": 188,
   "metadata": {
    "collapsed": false
   },
   "outputs": [
    {
     "data": {
      "text/html": [
       "<div>\n",
       "<table border=\"1\" class=\"dataframe\">\n",
       "  <thead>\n",
       "    <tr style=\"text-align: right;\">\n",
       "      <th>retired</th>\n",
       "      <th>0</th>\n",
       "      <th>1</th>\n",
       "    </tr>\n",
       "    <tr>\n",
       "      <th>status</th>\n",
       "      <th></th>\n",
       "      <th></th>\n",
       "    </tr>\n",
       "  </thead>\n",
       "  <tbody>\n",
       "    <tr>\n",
       "      <th>0</th>\n",
       "      <td>69475</td>\n",
       "      <td>0</td>\n",
       "    </tr>\n",
       "    <tr>\n",
       "      <th>1</th>\n",
       "      <td>105758</td>\n",
       "      <td>22714</td>\n",
       "    </tr>\n",
       "  </tbody>\n",
       "</table>\n",
       "</div>"
      ],
      "text/plain": [
       "retired       0      1\n",
       "status                \n",
       "0         69475      0\n",
       "1        105758  22714"
      ]
     },
     "execution_count": 188,
     "metadata": {},
     "output_type": "execute_result"
    }
   ],
   "source": [
    "pd.crosstab(empl.status, empl.retired)"
   ]
  },
  {
   "cell_type": "code",
   "execution_count": 189,
   "metadata": {
    "collapsed": false
   },
   "outputs": [
    {
     "name": "stdout",
     "output_type": "stream",
     "text": [
      "2002-01-01 134196\n",
      "--------- STATUS \n",
      "0    69475\n",
      "1    64721\n",
      "Name: status, dtype: int64\n",
      "--------- TERMINATED\n",
      "0    84345\n",
      "1    49851\n",
      "Name: terminated, dtype: int64\n",
      "--------- RETIRED\n",
      "0    119326\n",
      "1     14870\n",
      "Name: retired, dtype: int64\n",
      "(134196, 188)\n"
     ]
    }
   ],
   "source": [
    "## eliminate if the termination date is before 2002 (stale data)\n",
    "date0 = '2002-01-01'\n",
    "em2002 = empl.ix[empl.TERMINATION_DT>=date0].copy()\n",
    "print date0, len(em2002)\n",
    "print \"--------- STATUS \"\n",
    "print em2002.status.value_counts()\n",
    "print \"--------- TERMINATED\"\n",
    "print em2002.terminated.value_counts()\n",
    "print \"--------- RETIRED\"\n",
    "print em2002.retired.value_counts()\n",
    "print np.shape(em2002)"
   ]
  },
  {
   "cell_type": "code",
   "execution_count": 190,
   "metadata": {
    "collapsed": false
   },
   "outputs": [
    {
     "data": {
      "text/html": [
       "<div>\n",
       "<table border=\"1\" class=\"dataframe\">\n",
       "  <thead>\n",
       "    <tr style=\"text-align: right;\">\n",
       "      <th></th>\n",
       "      <th>Age_years</th>\n",
       "      <th>Tenure_years</th>\n",
       "    </tr>\n",
       "  </thead>\n",
       "  <tbody>\n",
       "    <tr>\n",
       "      <th>count</th>\n",
       "      <td>14870.000000</td>\n",
       "      <td>14870.000000</td>\n",
       "    </tr>\n",
       "    <tr>\n",
       "      <th>mean</th>\n",
       "      <td>60.668359</td>\n",
       "      <td>27.214920</td>\n",
       "    </tr>\n",
       "    <tr>\n",
       "      <th>std</th>\n",
       "      <td>3.626327</td>\n",
       "      <td>11.153948</td>\n",
       "    </tr>\n",
       "    <tr>\n",
       "      <th>min</th>\n",
       "      <td>54.999076</td>\n",
       "      <td>0.052020</td>\n",
       "    </tr>\n",
       "    <tr>\n",
       "      <th>25%</th>\n",
       "      <td>57.728769</td>\n",
       "      <td>17.528765</td>\n",
       "    </tr>\n",
       "    <tr>\n",
       "      <th>50%</th>\n",
       "      <td>60.849983</td>\n",
       "      <td>28.757606</td>\n",
       "    </tr>\n",
       "    <tr>\n",
       "      <th>75%</th>\n",
       "      <td>62.705600</td>\n",
       "      <td>36.575700</td>\n",
       "    </tr>\n",
       "    <tr>\n",
       "      <th>max</th>\n",
       "      <td>82.345291</td>\n",
       "      <td>59.650780</td>\n",
       "    </tr>\n",
       "  </tbody>\n",
       "</table>\n",
       "</div>"
      ],
      "text/plain": [
       "          Age_years  Tenure_years\n",
       "count  14870.000000  14870.000000\n",
       "mean      60.668359     27.214920\n",
       "std        3.626327     11.153948\n",
       "min       54.999076      0.052020\n",
       "25%       57.728769     17.528765\n",
       "50%       60.849983     28.757606\n",
       "75%       62.705600     36.575700\n",
       "max       82.345291     59.650780"
      ]
     },
     "execution_count": 190,
     "metadata": {},
     "output_type": "execute_result"
    }
   ],
   "source": [
    "#empl[empl.retired==1][['Age_years','Tenure_years']].describe()\n",
    "em2002[em2002.retired==1][['Age_years','Tenure_years']].describe()"
   ]
  },
  {
   "cell_type": "code",
   "execution_count": 192,
   "metadata": {
    "collapsed": false
   },
   "outputs": [
    {
     "data": {
      "text/html": [
       "<div>\n",
       "<table border=\"1\" class=\"dataframe\">\n",
       "  <thead>\n",
       "    <tr style=\"text-align: right;\">\n",
       "      <th></th>\n",
       "      <th>TERMINATION_DT</th>\n",
       "      <th>Age_years</th>\n",
       "      <th>BIRTHDATE</th>\n",
       "      <th>HIRE_DT</th>\n",
       "      <th>Tenure_years</th>\n",
       "      <th>ACTRES1</th>\n",
       "    </tr>\n",
       "  </thead>\n",
       "  <tbody>\n",
       "  </tbody>\n",
       "</table>\n",
       "</div>"
      ],
      "text/plain": [
       "Empty DataFrame\n",
       "Columns: [TERMINATION_DT, Age_years, BIRTHDATE, HIRE_DT, Tenure_years, ACTRES1]\n",
       "Index: []"
      ]
     },
     "execution_count": 192,
     "metadata": {},
     "output_type": "execute_result"
    }
   ],
   "source": [
    "### specifically deal with those who were under 50empl[(empl.retired==1)&(empl.Age_years<50.0)]\n",
    "em2002[(em2002.retired==1)&(em2002.Age_years<50.0)][['TERMINATION_DT','Age_years','BIRTHDATE','HIRE_DT','Tenure_years','ACTRES1']]"
   ]
  },
  {
   "cell_type": "code",
   "execution_count": 194,
   "metadata": {
    "collapsed": false
   },
   "outputs": [
    {
     "name": "stdout",
     "output_type": "stream",
     "text": [
      "56\n"
     ]
    }
   ],
   "source": [
    "print len(em2002[(em2002.retired==1)&(em2002.Tenure_years<5.0)][['TERMINATION_DT','Age_years','BIRTHDATE','HIRE_DT','Tenure_years','ACTRES1']])"
   ]
  },
  {
   "cell_type": "code",
   "execution_count": 321,
   "metadata": {
    "collapsed": false
   },
   "outputs": [
    {
     "data": {
      "text/plain": [
       "(17187, 134196)"
      ]
     },
     "execution_count": 321,
     "metadata": {},
     "output_type": "execute_result"
    }
   ],
   "source": [
    "sum(em2002['HIRE_DT']!=em2002['SERVICE_DT']), len(em2002)"
   ]
  },
  {
   "cell_type": "code",
   "execution_count": 317,
   "metadata": {
    "collapsed": false,
    "scrolled": true
   },
   "outputs": [
    {
     "data": {
      "text/html": [
       "<div>\n",
       "<table border=\"1\" class=\"dataframe\">\n",
       "  <thead>\n",
       "    <tr style=\"text-align: right;\">\n",
       "      <th></th>\n",
       "      <th>TERMINATION_DT</th>\n",
       "      <th>Age_years</th>\n",
       "      <th>BIRTHDATE</th>\n",
       "      <th>HIRE_DT</th>\n",
       "      <th>Tenure_years</th>\n",
       "      <th>SERVICE_DT</th>\n",
       "    </tr>\n",
       "  </thead>\n",
       "  <tbody>\n",
       "    <tr>\n",
       "      <th>1448</th>\n",
       "      <td>2011-06-30</td>\n",
       "      <td>66.216281</td>\n",
       "      <td>1945-04-12</td>\n",
       "      <td>2006-08-28</td>\n",
       "      <td>4.837882</td>\n",
       "      <td>2006-08-28</td>\n",
       "    </tr>\n",
       "    <tr>\n",
       "      <th>1533</th>\n",
       "      <td>2014-11-30</td>\n",
       "      <td>67.223831</td>\n",
       "      <td>1947-09-10</td>\n",
       "      <td>2013-08-05</td>\n",
       "      <td>1.319671</td>\n",
       "      <td>2013-08-05</td>\n",
       "    </tr>\n",
       "    <tr>\n",
       "      <th>6167</th>\n",
       "      <td>2003-06-30</td>\n",
       "      <td>66.120454</td>\n",
       "      <td>1937-05-17</td>\n",
       "      <td>1999-05-03</td>\n",
       "      <td>4.158881</td>\n",
       "      <td>1999-05-03</td>\n",
       "    </tr>\n",
       "    <tr>\n",
       "      <th>11852</th>\n",
       "      <td>2012-10-31</td>\n",
       "      <td>82.290533</td>\n",
       "      <td>1930-07-18</td>\n",
       "      <td>2008-03-24</td>\n",
       "      <td>4.605160</td>\n",
       "      <td>2008-03-24</td>\n",
       "    </tr>\n",
       "    <tr>\n",
       "      <th>16464</th>\n",
       "      <td>2013-11-30</td>\n",
       "      <td>70.476464</td>\n",
       "      <td>1943-06-10</td>\n",
       "      <td>2010-01-04</td>\n",
       "      <td>3.904255</td>\n",
       "      <td>2010-01-04</td>\n",
       "    </tr>\n",
       "    <tr>\n",
       "      <th>18463</th>\n",
       "      <td>2002-12-31</td>\n",
       "      <td>66.227233</td>\n",
       "      <td>1936-10-09</td>\n",
       "      <td>1998-06-01</td>\n",
       "      <td>4.583256</td>\n",
       "      <td>1998-06-01</td>\n",
       "    </tr>\n",
       "    <tr>\n",
       "      <th>20426</th>\n",
       "      <td>2010-10-31</td>\n",
       "      <td>66.166999</td>\n",
       "      <td>1944-08-31</td>\n",
       "      <td>2007-02-26</td>\n",
       "      <td>3.677009</td>\n",
       "      <td>2007-02-26</td>\n",
       "    </tr>\n",
       "    <tr>\n",
       "      <th>21698</th>\n",
       "      <td>2002-06-30</td>\n",
       "      <td>66.859689</td>\n",
       "      <td>1935-08-21</td>\n",
       "      <td>1998-08-31</td>\n",
       "      <td>3.830332</td>\n",
       "      <td>1998-08-31</td>\n",
       "    </tr>\n",
       "    <tr>\n",
       "      <th>22874</th>\n",
       "      <td>2009-02-28</td>\n",
       "      <td>75.985133</td>\n",
       "      <td>1933-03-06</td>\n",
       "      <td>2006-07-31</td>\n",
       "      <td>2.581846</td>\n",
       "      <td>2006-07-31</td>\n",
       "    </tr>\n",
       "    <tr>\n",
       "      <th>35962</th>\n",
       "      <td>2012-09-30</td>\n",
       "      <td>65.832974</td>\n",
       "      <td>1946-12-01</td>\n",
       "      <td>2007-12-17</td>\n",
       "      <td>4.788599</td>\n",
       "      <td>2007-12-17</td>\n",
       "    </tr>\n",
       "    <tr>\n",
       "      <th>39774</th>\n",
       "      <td>2003-11-30</td>\n",
       "      <td>66.936351</td>\n",
       "      <td>1936-12-23</td>\n",
       "      <td>2000-07-17</td>\n",
       "      <td>3.370364</td>\n",
       "      <td>2000-07-17</td>\n",
       "    </tr>\n",
       "    <tr>\n",
       "      <th>44920</th>\n",
       "      <td>2002-06-30</td>\n",
       "      <td>66.621491</td>\n",
       "      <td>1935-11-16</td>\n",
       "      <td>1997-10-16</td>\n",
       "      <td>4.703724</td>\n",
       "      <td>1997-10-16</td>\n",
       "    </tr>\n",
       "    <tr>\n",
       "      <th>45095</th>\n",
       "      <td>2011-03-31</td>\n",
       "      <td>66.008200</td>\n",
       "      <td>1945-03-28</td>\n",
       "      <td>2008-09-08</td>\n",
       "      <td>2.557205</td>\n",
       "      <td>2008-09-08</td>\n",
       "    </tr>\n",
       "    <tr>\n",
       "      <th>45357</th>\n",
       "      <td>2013-08-31</td>\n",
       "      <td>65.411336</td>\n",
       "      <td>1948-04-03</td>\n",
       "      <td>2011-11-14</td>\n",
       "      <td>1.796067</td>\n",
       "      <td>2011-11-14</td>\n",
       "    </tr>\n",
       "    <tr>\n",
       "      <th>50761</th>\n",
       "      <td>2009-06-30</td>\n",
       "      <td>65.028029</td>\n",
       "      <td>1944-06-20</td>\n",
       "      <td>2005-05-16</td>\n",
       "      <td>4.123288</td>\n",
       "      <td>2005-05-16</td>\n",
       "    </tr>\n",
       "    <tr>\n",
       "      <th>50774</th>\n",
       "      <td>2013-08-31</td>\n",
       "      <td>67.054081</td>\n",
       "      <td>1946-08-12</td>\n",
       "      <td>2008-09-15</td>\n",
       "      <td>4.958350</td>\n",
       "      <td>2008-09-15</td>\n",
       "    </tr>\n",
       "    <tr>\n",
       "      <th>52249</th>\n",
       "      <td>2013-09-30</td>\n",
       "      <td>65.572873</td>\n",
       "      <td>1948-03-05</td>\n",
       "      <td>2010-04-19</td>\n",
       "      <td>3.449763</td>\n",
       "      <td>2010-04-19</td>\n",
       "    </tr>\n",
       "    <tr>\n",
       "      <th>61945</th>\n",
       "      <td>2013-02-28</td>\n",
       "      <td>65.019816</td>\n",
       "      <td>1948-02-22</td>\n",
       "      <td>2008-06-02</td>\n",
       "      <td>4.742055</td>\n",
       "      <td>2008-06-02</td>\n",
       "    </tr>\n",
       "    <tr>\n",
       "      <th>62755</th>\n",
       "      <td>2005-07-31</td>\n",
       "      <td>56.209231</td>\n",
       "      <td>1949-05-16</td>\n",
       "      <td>2000-10-09</td>\n",
       "      <td>4.807765</td>\n",
       "      <td>1991-12-22</td>\n",
       "    </tr>\n",
       "    <tr>\n",
       "      <th>66673</th>\n",
       "      <td>2012-08-31</td>\n",
       "      <td>65.028029</td>\n",
       "      <td>1947-08-22</td>\n",
       "      <td>2008-12-08</td>\n",
       "      <td>3.729029</td>\n",
       "      <td>2008-12-08</td>\n",
       "    </tr>\n",
       "    <tr>\n",
       "      <th>67010</th>\n",
       "      <td>2011-10-31</td>\n",
       "      <td>75.577185</td>\n",
       "      <td>1936-04-03</td>\n",
       "      <td>2006-11-27</td>\n",
       "      <td>4.925495</td>\n",
       "      <td>2006-11-27</td>\n",
       "    </tr>\n",
       "    <tr>\n",
       "      <th>73694</th>\n",
       "      <td>2002-08-31</td>\n",
       "      <td>65.063622</td>\n",
       "      <td>1937-08-08</td>\n",
       "      <td>1998-12-07</td>\n",
       "      <td>3.731767</td>\n",
       "      <td>1998-12-07</td>\n",
       "    </tr>\n",
       "    <tr>\n",
       "      <th>77978</th>\n",
       "      <td>2005-04-30</td>\n",
       "      <td>65.893208</td>\n",
       "      <td>1939-06-09</td>\n",
       "      <td>2001-01-22</td>\n",
       "      <td>4.268397</td>\n",
       "      <td>1984-05-07</td>\n",
       "    </tr>\n",
       "    <tr>\n",
       "      <th>80626</th>\n",
       "      <td>2011-08-31</td>\n",
       "      <td>67.544166</td>\n",
       "      <td>1944-02-14</td>\n",
       "      <td>2008-02-18</td>\n",
       "      <td>3.531900</td>\n",
       "      <td>2007-09-27</td>\n",
       "    </tr>\n",
       "    <tr>\n",
       "      <th>90874</th>\n",
       "      <td>2011-04-30</td>\n",
       "      <td>65.268965</td>\n",
       "      <td>1946-01-22</td>\n",
       "      <td>2008-02-09</td>\n",
       "      <td>3.219779</td>\n",
       "      <td>2008-02-09</td>\n",
       "    </tr>\n",
       "    <tr>\n",
       "      <th>94747</th>\n",
       "      <td>2004-11-30</td>\n",
       "      <td>65.038981</td>\n",
       "      <td>1939-11-17</td>\n",
       "      <td>2000-11-13</td>\n",
       "      <td>4.046627</td>\n",
       "      <td>2000-11-13</td>\n",
       "    </tr>\n",
       "    <tr>\n",
       "      <th>98935</th>\n",
       "      <td>2005-07-31</td>\n",
       "      <td>65.849401</td>\n",
       "      <td>1939-09-25</td>\n",
       "      <td>2000-12-30</td>\n",
       "      <td>4.583256</td>\n",
       "      <td>2000-12-30</td>\n",
       "    </tr>\n",
       "    <tr>\n",
       "      <th>99358</th>\n",
       "      <td>2003-06-30</td>\n",
       "      <td>61.542674</td>\n",
       "      <td>1941-12-14</td>\n",
       "      <td>2000-10-02</td>\n",
       "      <td>2.740645</td>\n",
       "      <td>1990-07-05</td>\n",
       "    </tr>\n",
       "    <tr>\n",
       "      <th>100037</th>\n",
       "      <td>2011-01-31</td>\n",
       "      <td>65.967131</td>\n",
       "      <td>1945-02-12</td>\n",
       "      <td>2008-09-22</td>\n",
       "      <td>2.357338</td>\n",
       "      <td>2008-09-22</td>\n",
       "    </tr>\n",
       "    <tr>\n",
       "      <th>100565</th>\n",
       "      <td>2013-05-31</td>\n",
       "      <td>68.310780</td>\n",
       "      <td>1945-02-07</td>\n",
       "      <td>2008-09-08</td>\n",
       "      <td>4.725627</td>\n",
       "      <td>2008-09-08</td>\n",
       "    </tr>\n",
       "    <tr>\n",
       "      <th>107773</th>\n",
       "      <td>2002-07-31</td>\n",
       "      <td>75.804431</td>\n",
       "      <td>1926-10-11</td>\n",
       "      <td>2001-04-02</td>\n",
       "      <td>1.327885</td>\n",
       "      <td>2001-04-02</td>\n",
       "    </tr>\n",
       "    <tr>\n",
       "      <th>108554</th>\n",
       "      <td>2004-04-30</td>\n",
       "      <td>65.266227</td>\n",
       "      <td>1939-01-24</td>\n",
       "      <td>2000-09-11</td>\n",
       "      <td>3.633203</td>\n",
       "      <td>2000-09-11</td>\n",
       "    </tr>\n",
       "    <tr>\n",
       "      <th>114832</th>\n",
       "      <td>2004-04-30</td>\n",
       "      <td>70.221839</td>\n",
       "      <td>1934-02-09</td>\n",
       "      <td>2001-09-22</td>\n",
       "      <td>2.603750</td>\n",
       "      <td>2001-09-22</td>\n",
       "    </tr>\n",
       "    <tr>\n",
       "      <th>125579</th>\n",
       "      <td>2009-08-31</td>\n",
       "      <td>75.911210</td>\n",
       "      <td>1933-10-03</td>\n",
       "      <td>2008-01-28</td>\n",
       "      <td>1.590724</td>\n",
       "      <td>2008-01-28</td>\n",
       "    </tr>\n",
       "    <tr>\n",
       "      <th>127183</th>\n",
       "      <td>2006-06-30</td>\n",
       "      <td>56.743123</td>\n",
       "      <td>1949-10-02</td>\n",
       "      <td>2002-05-06</td>\n",
       "      <td>4.150667</td>\n",
       "      <td>1995-01-19</td>\n",
       "    </tr>\n",
       "    <tr>\n",
       "      <th>135507</th>\n",
       "      <td>2007-03-31</td>\n",
       "      <td>71.092493</td>\n",
       "      <td>1936-02-26</td>\n",
       "      <td>2002-08-01</td>\n",
       "      <td>4.662656</td>\n",
       "      <td>2002-08-01</td>\n",
       "    </tr>\n",
       "    <tr>\n",
       "      <th>139370</th>\n",
       "      <td>2013-11-30</td>\n",
       "      <td>70.260170</td>\n",
       "      <td>1943-08-28</td>\n",
       "      <td>2013-11-11</td>\n",
       "      <td>0.052020</td>\n",
       "      <td>2011-07-08</td>\n",
       "    </tr>\n",
       "    <tr>\n",
       "      <th>139484</th>\n",
       "      <td>2014-08-31</td>\n",
       "      <td>66.101289</td>\n",
       "      <td>1948-07-25</td>\n",
       "      <td>2012-07-23</td>\n",
       "      <td>2.105450</td>\n",
       "      <td>2012-07-23</td>\n",
       "    </tr>\n",
       "    <tr>\n",
       "      <th>139725</th>\n",
       "      <td>2011-11-30</td>\n",
       "      <td>67.095149</td>\n",
       "      <td>1944-10-26</td>\n",
       "      <td>2008-01-14</td>\n",
       "      <td>3.876876</td>\n",
       "      <td>2010-03-17</td>\n",
       "    </tr>\n",
       "    <tr>\n",
       "      <th>142139</th>\n",
       "      <td>2004-04-30</td>\n",
       "      <td>67.106101</td>\n",
       "      <td>1937-03-23</td>\n",
       "      <td>2000-11-20</td>\n",
       "      <td>3.441549</td>\n",
       "      <td>2000-11-20</td>\n",
       "    </tr>\n",
       "    <tr>\n",
       "      <th>145463</th>\n",
       "      <td>2003-09-30</td>\n",
       "      <td>65.033505</td>\n",
       "      <td>1938-09-18</td>\n",
       "      <td>2001-11-05</td>\n",
       "      <td>1.900107</td>\n",
       "      <td>2001-11-05</td>\n",
       "    </tr>\n",
       "    <tr>\n",
       "      <th>146361</th>\n",
       "      <td>2011-05-31</td>\n",
       "      <td>65.085525</td>\n",
       "      <td>1946-04-30</td>\n",
       "      <td>2007-03-26</td>\n",
       "      <td>4.180784</td>\n",
       "      <td>2007-03-26</td>\n",
       "    </tr>\n",
       "    <tr>\n",
       "      <th>148934</th>\n",
       "      <td>2014-12-31</td>\n",
       "      <td>67.221093</td>\n",
       "      <td>1947-10-12</td>\n",
       "      <td>2013-05-13</td>\n",
       "      <td>1.634530</td>\n",
       "      <td>2013-05-13</td>\n",
       "    </tr>\n",
       "    <tr>\n",
       "      <th>148946</th>\n",
       "      <td>2003-03-31</td>\n",
       "      <td>69.288213</td>\n",
       "      <td>1933-12-16</td>\n",
       "      <td>1999-12-13</td>\n",
       "      <td>3.296440</td>\n",
       "      <td>1999-12-13</td>\n",
       "    </tr>\n",
       "    <tr>\n",
       "      <th>150082</th>\n",
       "      <td>2014-10-31</td>\n",
       "      <td>65.356578</td>\n",
       "      <td>1949-06-23</td>\n",
       "      <td>2013-03-18</td>\n",
       "      <td>1.620841</td>\n",
       "      <td>2013-03-18</td>\n",
       "    </tr>\n",
       "    <tr>\n",
       "      <th>151573</th>\n",
       "      <td>2003-12-31</td>\n",
       "      <td>65.252538</td>\n",
       "      <td>1938-09-30</td>\n",
       "      <td>2002-09-16</td>\n",
       "      <td>1.289554</td>\n",
       "      <td>2002-09-16</td>\n",
       "    </tr>\n",
       "    <tr>\n",
       "      <th>155195</th>\n",
       "      <td>2012-12-31</td>\n",
       "      <td>65.282655</td>\n",
       "      <td>1947-09-20</td>\n",
       "      <td>2008-04-12</td>\n",
       "      <td>4.720152</td>\n",
       "      <td>2008-04-12</td>\n",
       "    </tr>\n",
       "    <tr>\n",
       "      <th>155731</th>\n",
       "      <td>2007-09-30</td>\n",
       "      <td>62.076566</td>\n",
       "      <td>1945-09-02</td>\n",
       "      <td>2004-08-16</td>\n",
       "      <td>3.121214</td>\n",
       "      <td>1999-08-12</td>\n",
       "    </tr>\n",
       "    <tr>\n",
       "      <th>155906</th>\n",
       "      <td>2013-05-31</td>\n",
       "      <td>68.113651</td>\n",
       "      <td>1945-04-20</td>\n",
       "      <td>2012-04-21</td>\n",
       "      <td>1.108852</td>\n",
       "      <td>2012-04-21</td>\n",
       "    </tr>\n",
       "    <tr>\n",
       "      <th>161141</th>\n",
       "      <td>2012-07-31</td>\n",
       "      <td>61.118298</td>\n",
       "      <td>1951-06-19</td>\n",
       "      <td>2007-12-01</td>\n",
       "      <td>4.665394</td>\n",
       "      <td>1984-05-01</td>\n",
       "    </tr>\n",
       "    <tr>\n",
       "      <th>163334</th>\n",
       "      <td>2006-09-30</td>\n",
       "      <td>60.061466</td>\n",
       "      <td>1946-09-08</td>\n",
       "      <td>2001-10-01</td>\n",
       "      <td>4.996680</td>\n",
       "      <td>2001-10-01</td>\n",
       "    </tr>\n",
       "    <tr>\n",
       "      <th>164743</th>\n",
       "      <td>2005-12-31</td>\n",
       "      <td>68.811817</td>\n",
       "      <td>1937-03-10</td>\n",
       "      <td>2002-06-10</td>\n",
       "      <td>3.559279</td>\n",
       "      <td>2002-06-10</td>\n",
       "    </tr>\n",
       "    <tr>\n",
       "      <th>166449</th>\n",
       "      <td>2004-02-29</td>\n",
       "      <td>66.005462</td>\n",
       "      <td>1938-02-27</td>\n",
       "      <td>1999-05-24</td>\n",
       "      <td>4.769434</td>\n",
       "      <td>1999-05-24</td>\n",
       "    </tr>\n",
       "    <tr>\n",
       "      <th>166712</th>\n",
       "      <td>2003-12-31</td>\n",
       "      <td>68.948712</td>\n",
       "      <td>1935-01-19</td>\n",
       "      <td>1999-10-25</td>\n",
       "      <td>4.183522</td>\n",
       "      <td>1999-10-25</td>\n",
       "    </tr>\n",
       "    <tr>\n",
       "      <th>178646</th>\n",
       "      <td>2011-06-30</td>\n",
       "      <td>70.136964</td>\n",
       "      <td>1941-05-11</td>\n",
       "      <td>2009-11-30</td>\n",
       "      <td>1.579772</td>\n",
       "      <td>2009-11-30</td>\n",
       "    </tr>\n",
       "    <tr>\n",
       "      <th>197760</th>\n",
       "      <td>2005-08-31</td>\n",
       "      <td>65.249800</td>\n",
       "      <td>1940-06-01</td>\n",
       "      <td>2001-01-08</td>\n",
       "      <td>4.643490</td>\n",
       "      <td>2001-01-08</td>\n",
       "    </tr>\n",
       "  </tbody>\n",
       "</table>\n",
       "</div>"
      ],
      "text/plain": [
       "       TERMINATION_DT  Age_years  BIRTHDATE    HIRE_DT  Tenure_years  \\\n",
       "1448       2011-06-30  66.216281 1945-04-12 2006-08-28      4.837882   \n",
       "1533       2014-11-30  67.223831 1947-09-10 2013-08-05      1.319671   \n",
       "6167       2003-06-30  66.120454 1937-05-17 1999-05-03      4.158881   \n",
       "11852      2012-10-31  82.290533 1930-07-18 2008-03-24      4.605160   \n",
       "16464      2013-11-30  70.476464 1943-06-10 2010-01-04      3.904255   \n",
       "18463      2002-12-31  66.227233 1936-10-09 1998-06-01      4.583256   \n",
       "20426      2010-10-31  66.166999 1944-08-31 2007-02-26      3.677009   \n",
       "21698      2002-06-30  66.859689 1935-08-21 1998-08-31      3.830332   \n",
       "22874      2009-02-28  75.985133 1933-03-06 2006-07-31      2.581846   \n",
       "35962      2012-09-30  65.832974 1946-12-01 2007-12-17      4.788599   \n",
       "39774      2003-11-30  66.936351 1936-12-23 2000-07-17      3.370364   \n",
       "44920      2002-06-30  66.621491 1935-11-16 1997-10-16      4.703724   \n",
       "45095      2011-03-31  66.008200 1945-03-28 2008-09-08      2.557205   \n",
       "45357      2013-08-31  65.411336 1948-04-03 2011-11-14      1.796067   \n",
       "50761      2009-06-30  65.028029 1944-06-20 2005-05-16      4.123288   \n",
       "50774      2013-08-31  67.054081 1946-08-12 2008-09-15      4.958350   \n",
       "52249      2013-09-30  65.572873 1948-03-05 2010-04-19      3.449763   \n",
       "61945      2013-02-28  65.019816 1948-02-22 2008-06-02      4.742055   \n",
       "62755      2005-07-31  56.209231 1949-05-16 2000-10-09      4.807765   \n",
       "66673      2012-08-31  65.028029 1947-08-22 2008-12-08      3.729029   \n",
       "67010      2011-10-31  75.577185 1936-04-03 2006-11-27      4.925495   \n",
       "73694      2002-08-31  65.063622 1937-08-08 1998-12-07      3.731767   \n",
       "77978      2005-04-30  65.893208 1939-06-09 2001-01-22      4.268397   \n",
       "80626      2011-08-31  67.544166 1944-02-14 2008-02-18      3.531900   \n",
       "90874      2011-04-30  65.268965 1946-01-22 2008-02-09      3.219779   \n",
       "94747      2004-11-30  65.038981 1939-11-17 2000-11-13      4.046627   \n",
       "98935      2005-07-31  65.849401 1939-09-25 2000-12-30      4.583256   \n",
       "99358      2003-06-30  61.542674 1941-12-14 2000-10-02      2.740645   \n",
       "100037     2011-01-31  65.967131 1945-02-12 2008-09-22      2.357338   \n",
       "100565     2013-05-31  68.310780 1945-02-07 2008-09-08      4.725627   \n",
       "107773     2002-07-31  75.804431 1926-10-11 2001-04-02      1.327885   \n",
       "108554     2004-04-30  65.266227 1939-01-24 2000-09-11      3.633203   \n",
       "114832     2004-04-30  70.221839 1934-02-09 2001-09-22      2.603750   \n",
       "125579     2009-08-31  75.911210 1933-10-03 2008-01-28      1.590724   \n",
       "127183     2006-06-30  56.743123 1949-10-02 2002-05-06      4.150667   \n",
       "135507     2007-03-31  71.092493 1936-02-26 2002-08-01      4.662656   \n",
       "139370     2013-11-30  70.260170 1943-08-28 2013-11-11      0.052020   \n",
       "139484     2014-08-31  66.101289 1948-07-25 2012-07-23      2.105450   \n",
       "139725     2011-11-30  67.095149 1944-10-26 2008-01-14      3.876876   \n",
       "142139     2004-04-30  67.106101 1937-03-23 2000-11-20      3.441549   \n",
       "145463     2003-09-30  65.033505 1938-09-18 2001-11-05      1.900107   \n",
       "146361     2011-05-31  65.085525 1946-04-30 2007-03-26      4.180784   \n",
       "148934     2014-12-31  67.221093 1947-10-12 2013-05-13      1.634530   \n",
       "148946     2003-03-31  69.288213 1933-12-16 1999-12-13      3.296440   \n",
       "150082     2014-10-31  65.356578 1949-06-23 2013-03-18      1.620841   \n",
       "151573     2003-12-31  65.252538 1938-09-30 2002-09-16      1.289554   \n",
       "155195     2012-12-31  65.282655 1947-09-20 2008-04-12      4.720152   \n",
       "155731     2007-09-30  62.076566 1945-09-02 2004-08-16      3.121214   \n",
       "155906     2013-05-31  68.113651 1945-04-20 2012-04-21      1.108852   \n",
       "161141     2012-07-31  61.118298 1951-06-19 2007-12-01      4.665394   \n",
       "163334     2006-09-30  60.061466 1946-09-08 2001-10-01      4.996680   \n",
       "164743     2005-12-31  68.811817 1937-03-10 2002-06-10      3.559279   \n",
       "166449     2004-02-29  66.005462 1938-02-27 1999-05-24      4.769434   \n",
       "166712     2003-12-31  68.948712 1935-01-19 1999-10-25      4.183522   \n",
       "178646     2011-06-30  70.136964 1941-05-11 2009-11-30      1.579772   \n",
       "197760     2005-08-31  65.249800 1940-06-01 2001-01-08      4.643490   \n",
       "\n",
       "       SERVICE_DT  \n",
       "1448   2006-08-28  \n",
       "1533   2013-08-05  \n",
       "6167   1999-05-03  \n",
       "11852  2008-03-24  \n",
       "16464  2010-01-04  \n",
       "18463  1998-06-01  \n",
       "20426  2007-02-26  \n",
       "21698  1998-08-31  \n",
       "22874  2006-07-31  \n",
       "35962  2007-12-17  \n",
       "39774  2000-07-17  \n",
       "44920  1997-10-16  \n",
       "45095  2008-09-08  \n",
       "45357  2011-11-14  \n",
       "50761  2005-05-16  \n",
       "50774  2008-09-15  \n",
       "52249  2010-04-19  \n",
       "61945  2008-06-02  \n",
       "62755  1991-12-22  \n",
       "66673  2008-12-08  \n",
       "67010  2006-11-27  \n",
       "73694  1998-12-07  \n",
       "77978  1984-05-07  \n",
       "80626  2007-09-27  \n",
       "90874  2008-02-09  \n",
       "94747  2000-11-13  \n",
       "98935  2000-12-30  \n",
       "99358  1990-07-05  \n",
       "100037 2008-09-22  \n",
       "100565 2008-09-08  \n",
       "107773 2001-04-02  \n",
       "108554 2000-09-11  \n",
       "114832 2001-09-22  \n",
       "125579 2008-01-28  \n",
       "127183 1995-01-19  \n",
       "135507 2002-08-01  \n",
       "139370 2011-07-08  \n",
       "139484 2012-07-23  \n",
       "139725 2010-03-17  \n",
       "142139 2000-11-20  \n",
       "145463 2001-11-05  \n",
       "146361 2007-03-26  \n",
       "148934 2013-05-13  \n",
       "148946 1999-12-13  \n",
       "150082 2013-03-18  \n",
       "151573 2002-09-16  \n",
       "155195 2008-04-12  \n",
       "155731 1999-08-12  \n",
       "155906 2012-04-21  \n",
       "161141 1984-05-01  \n",
       "163334 2001-10-01  \n",
       "164743 2002-06-10  \n",
       "166449 1999-05-24  \n",
       "166712 1999-10-25  \n",
       "178646 2009-11-30  \n",
       "197760 2001-01-08  "
      ]
     },
     "execution_count": 317,
     "metadata": {},
     "output_type": "execute_result"
    }
   ],
   "source": [
    "em2002[(em2002.retired==1)&(em2002.Tenure_years<5.0)][['TERMINATION_DT','Age_years','BIRTHDATE','HIRE_DT',\n",
    "                                                       'Tenure_years','SERVICE_DT']]#ACTRES1,"
   ]
  },
  {
   "cell_type": "code",
   "execution_count": 201,
   "metadata": {
    "collapsed": false
   },
   "outputs": [],
   "source": [
    "em2002[(em2002.retired==1)&(em2002.Tenure_years<5.0)][['KEY','ACTRES1','HIRE_DT','TERMINATION_DT','Age_years','Tenure_years']].to_csv('strange_retirement.csv',index=False)"
   ]
  },
  {
   "cell_type": "code",
   "execution_count": 202,
   "metadata": {
    "collapsed": false
   },
   "outputs": [
    {
     "data": {
      "text/plain": [
       "u'/home/kesj/work/hrsepara/eda'"
      ]
     },
     "execution_count": 202,
     "metadata": {},
     "output_type": "execute_result"
    }
   ],
   "source": [
    "%pwd"
   ]
  },
  {
   "cell_type": "code",
   "execution_count": 197,
   "metadata": {
    "collapsed": false
   },
   "outputs": [
    {
     "data": {
      "text/plain": [
       "(134196, 188)"
      ]
     },
     "execution_count": 197,
     "metadata": {},
     "output_type": "execute_result"
    }
   ],
   "source": [
    "em2002.shape"
   ]
  },
  {
   "cell_type": "code",
   "execution_count": 199,
   "metadata": {
    "collapsed": true
   },
   "outputs": [],
   "source": [
    "## save this file.\n",
    "em2002.to_csv('after2001_v6.csv',index=False)"
   ]
  },
  {
   "cell_type": "markdown",
   "metadata": {},
   "source": [
    "### Drop these strange retirement cases for now"
   ]
  },
  {
   "cell_type": "code",
   "execution_count": 226,
   "metadata": {
    "collapsed": false
   },
   "outputs": [
    {
     "name": "stdout",
     "output_type": "stream",
     "text": [
      "56\n",
      "7\n"
     ]
    }
   ],
   "source": [
    "retired_keys_to_drop = em2002[(em2002.retired==1)&(em2002.Tenure_years<5.0)].KEY.tolist()\n",
    "print len(retired_keys_to_drop)\n",
    "#em2 = em2002[~em2002.KEY.isin(retired_keys_to_drop)].copy()\n",
    "#print len(em2)\n",
    "## 2nd rule: if age is >=65 and tenure>=1 can retire:\n",
    "real_retired_keys_to_drop = em2002[em2002.KEY.isin(retired_keys_to_drop)][(em2002.Tenure_years<1.0)|(em2002.Age_years<65.0)].KEY.tolist()\n",
    "print len(real_retired_keys_to_drop)"
   ]
  },
  {
   "cell_type": "code",
   "execution_count": 227,
   "metadata": {
    "collapsed": false
   },
   "outputs": [
    {
     "name": "stdout",
     "output_type": "stream",
     "text": [
      "(134189, 188)\n"
     ]
    }
   ],
   "source": [
    "em2 = em2002[~em2002.KEY.isin(real_retired_keys_to_drop)].copy()\n",
    "#em2 = em2002[~em2002.KEY.isin(retired_keys_to_drop)].copy()\n",
    "print em2.shape"
   ]
  },
  {
   "cell_type": "code",
   "execution_count": 228,
   "metadata": {
    "collapsed": true
   },
   "outputs": [],
   "source": [
    "## save this file.\n",
    "em2.to_csv('after2001_v7.csv',index=False)"
   ]
  },
  {
   "cell_type": "markdown",
   "metadata": {},
   "source": [
    "# Begin to step through columns using BEAR\n",
    "1. list all the columns\n",
    "2. identify columns that I don't want to include in the analysis\n",
    "3. Identify columns that require further refinement\n",
    "    * missing values\n",
    "    * categorical\n",
    "    * survival function\n",
    "4. create test-train split (hold out eval set)"
   ]
  },
  {
   "cell_type": "code",
   "execution_count": 211,
   "metadata": {
    "collapsed": false
   },
   "outputs": [
    {
     "name": "stderr",
     "output_type": "stream",
     "text": [
      "/opt/anaconda/2.3.0/lib/python2.7/site-packages/sklearn/lda.py:4: DeprecationWarning: lda.LDA has been moved to discriminant_analysis.LinearDiscriminantAnalysis in 0.17 and will be removed in 0.19\n",
      "  \"in 0.17 and will be removed in 0.19\", DeprecationWarning)\n",
      "/opt/anaconda/2.3.0/lib/python2.7/site-packages/sklearn/qda.py:4: DeprecationWarning: qda.QDA has been moved to discriminant_analysis.QuadraticDiscriminantAnalysis in 0.17 and will be removed in 0.19.\n",
      "  \"in 0.17 and will be removed in 0.19.\", DeprecationWarning)\n"
     ]
    }
   ],
   "source": [
    "repodir = '/home/kesj/lib/repo/'\n",
    "os.chdir(repodir)\n",
    "import bear.bear as br\n",
    "os.chdir(stgdir1local)"
   ]
  },
  {
   "cell_type": "markdown",
   "metadata": {},
   "source": [
    "# Tweak some of the columns\n",
    "1. convert tenure_months into tenure Years  and drop the tenure_months columns. Tenure in years is just easier to think about.\n",
    "2. create timestamps for columns that are timestamps \n",
    "3. create a value for the age at hire (hire_age)"
   ]
  },
  {
   "cell_type": "code",
   "execution_count": 229,
   "metadata": {
    "collapsed": false
   },
   "outputs": [
    {
     "data": {
      "text/plain": [
       "(134189, 191)"
      ]
     },
     "execution_count": 229,
     "metadata": {},
     "output_type": "execute_result"
    }
   ],
   "source": [
    "## create timestamps for columns that are timestamps\n",
    "em2[['hire_tstmp','term_tstmp','birth_tstmp']] = em2[['HIRE_DT','TERMINATION_DT','BIRTHDATE']].apply(lambda x:pd.to_datetime(x))\n",
    "## add a column for age at hire date\n",
    "hire_age_tdelta = em2['hire_tstmp']-em2['birth_tstmp']\n",
    "# convert to days, months, or years\n",
    "em2['hire_age'] = hire_age_tdelta/np.timedelta64(1,'Y')\n",
    "em2.drop('Tenure_months',axis=1,inplace=True)\n",
    "em2.shape"
   ]
  },
  {
   "cell_type": "code",
   "execution_count": 230,
   "metadata": {
    "collapsed": false
   },
   "outputs": [
    {
     "name": "stdout",
     "output_type": "stream",
     "text": [
      "191\n"
     ]
    }
   ],
   "source": [
    "all_cols = em2.columns.tolist()\n",
    "print len(all_cols)"
   ]
  },
  {
   "cell_type": "code",
   "execution_count": 231,
   "metadata": {
    "collapsed": false
   },
   "outputs": [
    {
     "name": "stdout",
     "output_type": "stream",
     "text": [
      "77\n"
     ]
    }
   ],
   "source": [
    "columns_with_missing1 = br.get_columns_with_nulls(em2,rows_to_scan='all')\n",
    "print len(columns_with_missing1)"
   ]
  },
  {
   "cell_type": "markdown",
   "metadata": {},
   "source": [
    "# Deal with missing values"
   ]
  },
  {
   "cell_type": "code",
   "execution_count": 219,
   "metadata": {
    "collapsed": false
   },
   "outputs": [
    {
     "name": "stdout",
     "output_type": "stream",
     "text": [
      "ACTRES10 11266 64277\n",
      "ACTRES2 15913 13732\n",
      "ACTRES3 16233 28543\n",
      "ACTRES4 15586 38522\n",
      "ACTRES5 12691 44254\n",
      "ACTRES6 10468 48245\n",
      "ACTRES7 11765 51984\n",
      "ACTRES8 10034 56745\n",
      "ACTRES9 10458 60331\n",
      "ADDRCNT1 5 20\n",
      "ADDRCNT10 11 20\n",
      "ADDRCNT3 9 20\n",
      "ADDRCNT5 9 20\n",
      "ADDRESS1 128070 21\n",
      "ADDRESS2 6342 123486\n",
      "BOX1 3 25320\n",
      "BOX10 3 70214\n",
      "BOX2 3 30624\n",
      "BOX3 3 40065\n",
      "BOX4 3 46060\n",
      "BOX5 3 50368\n",
      "BOX6 3 54413\n",
      "BOX7 3 59366\n",
      "BOX8 3 62945\n",
      "BOX9 3 66766\n",
      "DIRECT_RPT_CNT 172 1964\n",
      "EXTFUNC_CNT 6510 58\n",
      "FUNC_CNT 7784 5\n",
      "GRADE 122 1\n",
      "JOB_FAMILY 1447 4481\n",
      "JOB_FUNCTION 18 4511\n",
      "LOC_CITY 3607 3\n",
      "LOC_STATE 51 3\n",
      "LOC_TYPE_DESCR_SFI 30 1\n",
      "MAR_STATUS_DT 4901 70354\n",
      "MERIT1 74154 15043\n",
      "MERIT10 45035 15043\n",
      "MERIT2 74831 15043\n",
      "MERIT3 71168 15043\n",
      "MERIT4 66953 15043\n",
      "MERIT5 63701 15043\n",
      "MERIT6 60788 15043\n",
      "MERIT7 57882 15043\n",
      "MERIT8 52986 15043\n",
      "MERIT9 49076 15043\n",
      "PERF1 78501 15043\n",
      "PERF10 42037 15043\n",
      "PERF2 75319 15043\n",
      "PERF3 68781 15043\n",
      "PERF4 63026 15043\n",
      "PERF5 57949 15043\n",
      "PERF6 53680 15043\n",
      "PERF7 50436 15043\n",
      "PERF8 46853 15043\n",
      "PERF9 44575 15043\n",
      "RATE1 52 25280\n",
      "RATE10 54 70204\n",
      "RATE2 45 30596\n",
      "RATE3 47 40038\n",
      "RATE4 47 46034\n",
      "RATE5 45 50353\n",
      "RATE6 47 54401\n",
      "RATE7 45 59360\n",
      "RATE8 52 62935\n",
      "RATE9 47 66758\n",
      "SAL10 51770 15043\n",
      "SAL2 87241 15043\n",
      "SAL3 82460 15043\n",
      "SAL4 78232 15043\n",
      "SAL5 74319 15043\n",
      "SAL6 70077 15043\n",
      "SAL7 65296 15043\n",
      "SAL8 60619 15043\n",
      "SAL9 56279 15043\n",
      "SKEY 13734 1921\n",
      "STATE 66 44\n",
      "TOTAL_RPT_CNT 851 1964\n"
     ]
    }
   ],
   "source": [
    "for colname in columns_with_missing1:\n",
    "    print colname, em2[colname].nunique(),sum(em2[colname].isnull())"
   ]
  },
  {
   "cell_type": "code",
   "execution_count": 235,
   "metadata": {
    "collapsed": false
   },
   "outputs": [
    {
     "data": {
      "text/plain": [
       "(3, 52)"
      ]
     },
     "execution_count": 235,
     "metadata": {},
     "output_type": "execute_result"
    }
   ],
   "source": [
    "em2.BOX1.nunique(),em2.RATE1.nunique()"
   ]
  },
  {
   "cell_type": "markdown",
   "metadata": {},
   "source": [
    "### so 77 of 191 columns have missing values still. Work on Correcting these.\n",
    "#### some logic:\n",
    "* if it is a count (like ADDRCNT*) set missing to -1\n",
    "* if it is an ACTION REASON, set to 'MISSING' (like ACTRES1)\n",
    "* if it is a performance assessment (like BOX*) set to 0; L will become 1, S will become 2, H will become 3.\n",
    "* if it is a float (like MERIT*, PERF*, ...) try to reassign by imputation.\n",
    "* assign a value:\n",
    "    * if 'HAVE_INS' or 'HAVE_DEP' assign 0, 0 to values"
   ]
  },
  {
   "cell_type": "code",
   "execution_count": 221,
   "metadata": {
    "collapsed": true
   },
   "outputs": [],
   "source": [
    "chg_to_zero_cols = ['BOX1','BOX2','BOX3','BOX4','BOX5','BOX6','BOX7','BOX8','BOX9','BOX10']\n",
    "#['HAVE_INS','HAVE_DEP','DEP_COUNT','BOX1','BOX2','BOX3','BOX4','BOX5','BOX6','BOX7','BOX8','BOX9','BOX10']\n",
    "chg_to_neg_one_cols = ['ADDRCNT1','ADDRCNT3','ADDRCNT5','ADDRCNT10',\n",
    "                           'DIRECT_RPT_CNT', 'DIVISION_CODE_SFI','EXTFUNC_CNT','FUNC_CNT','TOTAL_RPT_CNT']\n",
    "                          \n",
    "chg_to_MISSING_cols = ['ACTRES1','ACTRES2','ACTRES3','ACTRES4','ACTRES5','ACTRES6','ACTRES7','ACTRES8','ACTRES9','ACTRES10',\n",
    "                      'ADDRESS1','JOB_FAMILY','LOC_CITY','LOC_TYPE_DESCR_SFI','SKEY',\n",
    "                      'RATE1', 'RATE10', 'RATE2', 'RATE3', 'RATE4', 'RATE5', 'RATE6', 'RATE7', 'RATE8', 'RATE9',]\n",
    "#chg_to_MISSING =['ACTRES1','ACTRES2','ADDRESS1','JOB_FAMILY', 'LOC_CITY','LOC_TYPE_DESCR_SFI']#'POSTAL_SFI',\n",
    "chg_to_00000 = ['EXT_FUNC_ID_SFI','FUNC_ID_SFI']#,'zip5']\n",
    "chg_to_XXX = ['GRADE','JOB_FUNCTION']\n",
    "chg_to_XX = ['LOC_STATE']\n",
    "col_to_drop = ['STATE','ADDRESS2','MAR_STATUS_DT'] # drop 'STATE'; some strange values; 'address2 x_missing too high'"
   ]
  },
  {
   "cell_type": "code",
   "execution_count": 222,
   "metadata": {
    "collapsed": false
   },
   "outputs": [
    {
     "name": "stdout",
     "output_type": "stream",
     "text": [
      "52\n"
     ]
    }
   ],
   "source": [
    "# lump these together\n",
    "correcting_col_list = [chg_to_zero_cols,chg_to_neg_one_cols,chg_to_MISSING_cols,chg_to_00000,chg_to_XXX,chg_to_XX,col_to_drop]\n",
    "print sum([len(x) for x in correcting_col_list])"
   ]
  },
  {
   "cell_type": "markdown",
   "metadata": {},
   "source": [
    "### apply the logic for the above columns"
   ]
  },
  {
   "cell_type": "code",
   "execution_count": 236,
   "metadata": {
    "collapsed": true
   },
   "outputs": [],
   "source": [
    "replace_code = [0,-1,'MISSING','00000','XXX','XX','drop'] #poor man's dictionary"
   ]
  },
  {
   "cell_type": "code",
   "execution_count": 237,
   "metadata": {
    "collapsed": false
   },
   "outputs": [
    {
     "name": "stdout",
     "output_type": "stream",
     "text": [
      "0 10 0\n",
      "1 9 -1\n",
      "2 25 MISSING\n",
      "3 2 00000\n",
      "4 2 XXX\n",
      "5 1 XX\n",
      "6 3 drop\n"
     ]
    }
   ],
   "source": [
    "empl = em2.copy()\n",
    "for id,col_list in enumerate(correcting_col_list):\n",
    "    print id, len(col_list), replace_code[id]\n",
    "    \n",
    "    if replace_code[id] == 'drop':\n",
    "        empl.drop(col_list,axis=1,inplace=True)\n",
    "        #print col_list\n",
    "    else:\n",
    "        empl[col_list]=empl[col_list].fillna(replace_code[id]).copy()"
   ]
  },
  {
   "cell_type": "code",
   "execution_count": 238,
   "metadata": {
    "collapsed": false
   },
   "outputs": [
    {
     "data": {
      "text/plain": [
       "(134189, 188)"
      ]
     },
     "execution_count": 238,
     "metadata": {},
     "output_type": "execute_result"
    }
   ],
   "source": [
    "empl.shape"
   ]
  },
  {
   "cell_type": "markdown",
   "metadata": {
    "collapsed": false
   },
   "source": [
    "## begin to Standardize some of these other columns\n",
    "1. BOX columns: missing -> 0, L -> 1, S -> 2, H -> 3\n",
    "2. RATE columns: use dictionary; missing -> 0, \n"
   ]
  },
  {
   "cell_type": "code",
   "execution_count": 239,
   "metadata": {
    "collapsed": false
   },
   "outputs": [
    {
     "name": "stdout",
     "output_type": "stream",
     "text": [
      "10\n"
     ]
    },
    {
     "data": {
      "text/html": [
       "<div>\n",
       "<table border=\"1\" class=\"dataframe\">\n",
       "  <thead>\n",
       "    <tr style=\"text-align: right;\">\n",
       "      <th></th>\n",
       "      <th>BOX1</th>\n",
       "      <th>BOX10</th>\n",
       "      <th>BOX2</th>\n",
       "      <th>BOX3</th>\n",
       "      <th>BOX4</th>\n",
       "      <th>BOX5</th>\n",
       "      <th>BOX6</th>\n",
       "      <th>BOX7</th>\n",
       "      <th>BOX8</th>\n",
       "      <th>BOX9</th>\n",
       "    </tr>\n",
       "  </thead>\n",
       "  <tbody>\n",
       "    <tr>\n",
       "      <th>0</th>\n",
       "      <td>2</td>\n",
       "      <td>2</td>\n",
       "      <td>2</td>\n",
       "      <td>2</td>\n",
       "      <td>2</td>\n",
       "      <td>2</td>\n",
       "      <td>2</td>\n",
       "      <td>2</td>\n",
       "      <td>3</td>\n",
       "      <td>2</td>\n",
       "    </tr>\n",
       "    <tr>\n",
       "      <th>1</th>\n",
       "      <td>0</td>\n",
       "      <td>0</td>\n",
       "      <td>0</td>\n",
       "      <td>0</td>\n",
       "      <td>0</td>\n",
       "      <td>0</td>\n",
       "      <td>0</td>\n",
       "      <td>0</td>\n",
       "      <td>0</td>\n",
       "      <td>0</td>\n",
       "    </tr>\n",
       "    <tr>\n",
       "      <th>4</th>\n",
       "      <td>2</td>\n",
       "      <td>0</td>\n",
       "      <td>0</td>\n",
       "      <td>0</td>\n",
       "      <td>0</td>\n",
       "      <td>0</td>\n",
       "      <td>0</td>\n",
       "      <td>0</td>\n",
       "      <td>0</td>\n",
       "      <td>0</td>\n",
       "    </tr>\n",
       "    <tr>\n",
       "      <th>6</th>\n",
       "      <td>2</td>\n",
       "      <td>2</td>\n",
       "      <td>2</td>\n",
       "      <td>2</td>\n",
       "      <td>2</td>\n",
       "      <td>2</td>\n",
       "      <td>2</td>\n",
       "      <td>2</td>\n",
       "      <td>2</td>\n",
       "      <td>2</td>\n",
       "    </tr>\n",
       "    <tr>\n",
       "      <th>8</th>\n",
       "      <td>2</td>\n",
       "      <td>0</td>\n",
       "      <td>0</td>\n",
       "      <td>0</td>\n",
       "      <td>0</td>\n",
       "      <td>0</td>\n",
       "      <td>0</td>\n",
       "      <td>0</td>\n",
       "      <td>0</td>\n",
       "      <td>0</td>\n",
       "    </tr>\n",
       "  </tbody>\n",
       "</table>\n",
       "</div>"
      ],
      "text/plain": [
       "   BOX1  BOX10  BOX2  BOX3  BOX4  BOX5  BOX6  BOX7  BOX8  BOX9\n",
       "0     2      2     2     2     2     2     2     2     3     2\n",
       "1     0      0     0     0     0     0     0     0     0     0\n",
       "4     2      0     0     0     0     0     0     0     0     0\n",
       "6     2      2     2     2     2     2     2     2     2     2\n",
       "8     2      0     0     0     0     0     0     0     0     0"
      ]
     },
     "execution_count": 239,
     "metadata": {},
     "output_type": "execute_result"
    }
   ],
   "source": [
    "### For BOX replace S with 2, H with 3, L with 1\n",
    "box_col_list = [x for x in empl.columns if x.startswith('BOX')]\n",
    "print len(box_col_list)\n",
    "empl[box_col_list] = empl[box_col_list].replace({'H':3,'S':2,'L':1}).copy()\n",
    "empl[box_col_list].head()"
   ]
  },
  {
   "cell_type": "code",
   "execution_count": 240,
   "metadata": {
    "collapsed": false
   },
   "outputs": [
    {
     "data": {
      "text/plain": [
       "2    78394\n",
       "0    30631\n",
       "3    19896\n",
       "1     5268\n",
       "Name: BOX2, dtype: int64"
      ]
     },
     "execution_count": 240,
     "metadata": {},
     "output_type": "execute_result"
    }
   ],
   "source": [
    "empl.BOX2.value_counts()"
   ]
  },
  {
   "cell_type": "markdown",
   "metadata": {},
   "source": [
    "## Simpler conversion of RATE* to 3 levels: Low, Solid or High\n",
    "dictionary below from Ron Davis"
   ]
  },
  {
   "cell_type": "code",
   "execution_count": 241,
   "metadata": {
    "collapsed": true
   },
   "outputs": [],
   "source": [
    "# dictonary of ratings\n",
    "ratings_dict = {}\n",
    "high_ratings = ['R3C3','R3C2','L3EXC','L3-EXC','OTSD','L3PRO','L3-PRO',\n",
    "                'EXCELS','SUPR','EXC/SUS','EXC/IMP','PEXE','ME - MEETS']\n",
    "low_ratings = ['IMPR','L1INC','L1DEV','L1PRO','NTAC','R1C2','R1C3','INC/DEC',\n",
    "               'INC/SUS','INC/IMP','INCNSSTE','L1EXC','UNAC','R1C1','L2-INC','L2INC',\n",
    "               'L1-EXC','L1-PRO','BEXP','L1-DEV','L1-INC','DNM - DOES','R3C1','R2C1']\n",
    "solid_ratings = ['R2C3','R2C2','L2EXC','L2PRO','EXPE','/EX/','COMM','AOBJ','EXC/DEC',\n",
    "                 'PRO/IMP','PRO/SUS','PRO/DEC','SM - SUCCE','MS - MEETS','L2DEV','L3INC',\n",
    "                 'L3DEV','L2-DEV','L3-INC','ACPT','L3-DEV','L2-EXC','L2-PRO']\n",
    "\n",
    "# initialize\n",
    "for rating in high_ratings:\n",
    "    ratings_dict[rating] = 3\n",
    "for rating in low_ratings:\n",
    "    ratings_dict[rating]=1\n",
    "for rating in solid_ratings:\n",
    "    ratings_dict[rating]=2\n",
    "\n",
    "# function for assigning\n",
    "def assign_simple_rating(x,my_dict = ratings_dict):\n",
    "    try:\n",
    "        rval = my_dict[x.strip()]\n",
    "    except KeyError:\n",
    "        rval = 0\n",
    "    return rval\n"
   ]
  },
  {
   "cell_type": "code",
   "execution_count": 242,
   "metadata": {
    "collapsed": false
   },
   "outputs": [
    {
     "name": "stdout",
     "output_type": "stream",
     "text": [
      "10\n"
     ]
    },
    {
     "data": {
      "text/html": [
       "<div>\n",
       "<table border=\"1\" class=\"dataframe\">\n",
       "  <thead>\n",
       "    <tr style=\"text-align: right;\">\n",
       "      <th></th>\n",
       "      <th>RATE1</th>\n",
       "      <th>RATE10</th>\n",
       "      <th>RATE2</th>\n",
       "      <th>RATE3</th>\n",
       "      <th>RATE4</th>\n",
       "      <th>RATE5</th>\n",
       "      <th>RATE6</th>\n",
       "      <th>RATE7</th>\n",
       "      <th>RATE8</th>\n",
       "      <th>RATE9</th>\n",
       "    </tr>\n",
       "  </thead>\n",
       "  <tbody>\n",
       "    <tr>\n",
       "      <th>0</th>\n",
       "      <td>2</td>\n",
       "      <td>2</td>\n",
       "      <td>2</td>\n",
       "      <td>2</td>\n",
       "      <td>2</td>\n",
       "      <td>2</td>\n",
       "      <td>2</td>\n",
       "      <td>2</td>\n",
       "      <td>3</td>\n",
       "      <td>2</td>\n",
       "    </tr>\n",
       "    <tr>\n",
       "      <th>1</th>\n",
       "      <td>0</td>\n",
       "      <td>0</td>\n",
       "      <td>0</td>\n",
       "      <td>0</td>\n",
       "      <td>0</td>\n",
       "      <td>0</td>\n",
       "      <td>0</td>\n",
       "      <td>0</td>\n",
       "      <td>0</td>\n",
       "      <td>0</td>\n",
       "    </tr>\n",
       "    <tr>\n",
       "      <th>4</th>\n",
       "      <td>2</td>\n",
       "      <td>0</td>\n",
       "      <td>0</td>\n",
       "      <td>0</td>\n",
       "      <td>0</td>\n",
       "      <td>0</td>\n",
       "      <td>0</td>\n",
       "      <td>0</td>\n",
       "      <td>0</td>\n",
       "      <td>0</td>\n",
       "    </tr>\n",
       "    <tr>\n",
       "      <th>6</th>\n",
       "      <td>2</td>\n",
       "      <td>2</td>\n",
       "      <td>2</td>\n",
       "      <td>2</td>\n",
       "      <td>2</td>\n",
       "      <td>2</td>\n",
       "      <td>2</td>\n",
       "      <td>2</td>\n",
       "      <td>2</td>\n",
       "      <td>2</td>\n",
       "    </tr>\n",
       "    <tr>\n",
       "      <th>8</th>\n",
       "      <td>2</td>\n",
       "      <td>0</td>\n",
       "      <td>0</td>\n",
       "      <td>0</td>\n",
       "      <td>0</td>\n",
       "      <td>0</td>\n",
       "      <td>0</td>\n",
       "      <td>0</td>\n",
       "      <td>0</td>\n",
       "      <td>0</td>\n",
       "    </tr>\n",
       "  </tbody>\n",
       "</table>\n",
       "</div>"
      ],
      "text/plain": [
       "   RATE1  RATE10  RATE2  RATE3  RATE4  RATE5  RATE6  RATE7  RATE8  RATE9\n",
       "0      2       2      2      2      2      2      2      2      3      2\n",
       "1      0       0      0      0      0      0      0      0      0      0\n",
       "4      2       0      0      0      0      0      0      0      0      0\n",
       "6      2       2      2      2      2      2      2      2      2      2\n",
       "8      2       0      0      0      0      0      0      0      0      0"
      ]
     },
     "execution_count": 242,
     "metadata": {},
     "output_type": "execute_result"
    }
   ],
   "source": [
    "### For Rate replace solid with 2, High with 3, Low with 1\n",
    "rate_col_list = [x for x in empl.columns if x.startswith('RATE')]\n",
    "print len(rate_col_list)\n",
    "empl[rate_col_list] = empl[rate_col_list].applymap(lambda x: assign_simple_rating(x))\n",
    "#empl[rate_col_list] = empl[rate_col_list].map(lambda(x): assign_simple_rating(x)).copy()\n",
    "empl[rate_col_list].head()"
   ]
  },
  {
   "cell_type": "code",
   "execution_count": 243,
   "metadata": {
    "collapsed": false
   },
   "outputs": [
    {
     "data": {
      "text/plain": [
       "<matplotlib.axes._subplots.AxesSubplot at 0x7f9929e46b50>"
      ]
     },
     "execution_count": 243,
     "metadata": {},
     "output_type": "execute_result"
    },
    {
     "data": {
      "image/png": "[encoded data removed]",
      "text/plain": [
       "<matplotlib.figure.Figure at 0x7f991b7a1d90>"
      ]
     },
     "metadata": {},
     "output_type": "display_data"
    }
   ],
   "source": [
    "\n",
    "box_rate_list = []\n",
    "box_rate_list +=box_col_list\n",
    "box_rate_list += rate_col_list\n",
    "sns.heatmap(empl[box_rate_list].corr())"
   ]
  },
  {
   "cell_type": "markdown",
   "metadata": {},
   "source": [
    "#### Observation: the RATES are more closely correlated that the BOXES -- not that it matters if I only keep the recent values ('1')"
   ]
  },
  {
   "cell_type": "code",
   "execution_count": 245,
   "metadata": {
    "collapsed": false
   },
   "outputs": [
    {
     "name": "stdout",
     "output_type": "stream",
     "text": [
      "4\n"
     ]
    },
    {
     "data": {
      "text/html": [
       "<div>\n",
       "<table border=\"1\" class=\"dataframe\">\n",
       "  <thead>\n",
       "    <tr style=\"text-align: right;\">\n",
       "      <th></th>\n",
       "      <th>BOX1</th>\n",
       "      <th>RATE1</th>\n",
       "      <th>Tenure_years</th>\n",
       "      <th>TERMINATION_DT</th>\n",
       "    </tr>\n",
       "  </thead>\n",
       "  <tbody>\n",
       "    <tr>\n",
       "      <th>53528</th>\n",
       "      <td>0</td>\n",
       "      <td>3</td>\n",
       "      <td>45.287720</td>\n",
       "      <td>2005-02-28</td>\n",
       "    </tr>\n",
       "    <tr>\n",
       "      <th>56313</th>\n",
       "      <td>0</td>\n",
       "      <td>3</td>\n",
       "      <td>44.469086</td>\n",
       "      <td>2005-01-31</td>\n",
       "    </tr>\n",
       "    <tr>\n",
       "      <th>75864</th>\n",
       "      <td>0</td>\n",
       "      <td>3</td>\n",
       "      <td>8.022068</td>\n",
       "      <td>2002-11-01</td>\n",
       "    </tr>\n",
       "    <tr>\n",
       "      <th>180009</th>\n",
       "      <td>0</td>\n",
       "      <td>3</td>\n",
       "      <td>6.806437</td>\n",
       "      <td>2006-02-28</td>\n",
       "    </tr>\n",
       "  </tbody>\n",
       "</table>\n",
       "</div>"
      ],
      "text/plain": [
       "        BOX1  RATE1  Tenure_years TERMINATION_DT\n",
       "53528      0      3     45.287720     2005-02-28\n",
       "56313      0      3     44.469086     2005-01-31\n",
       "75864      0      3      8.022068     2002-11-01\n",
       "180009     0      3      6.806437     2006-02-28"
      ]
     },
     "execution_count": 245,
     "metadata": {},
     "output_type": "execute_result"
    }
   ],
   "source": [
    "print len(empl[(empl['BOX1']==0)&(empl['RATE1']!=0)])\n",
    "\n",
    "empl[(empl['BOX1']==0)&(empl['RATE1']!=0)][['BOX1','RATE1','Tenure_years','TERMINATION_DT']]"
   ]
  },
  {
   "cell_type": "code",
   "execution_count": 249,
   "metadata": {
    "collapsed": false
   },
   "outputs": [
    {
     "name": "stdout",
     "output_type": "stream",
     "text": [
      "1194\n"
     ]
    }
   ],
   "source": [
    "print len(empl[(empl['BOX1']!=0)&(empl['RATE1']==0)])\n",
    "\n",
    "#empl[(empl['BOX1']!=0)&(empl['RATE1']==0)][['BOX1','RATE1','Tenure_years','TERMINATION_DT']]"
   ]
  },
  {
   "cell_type": "markdown",
   "metadata": {},
   "source": [
    "### re-examine wheich ones are missing"
   ]
  },
  {
   "cell_type": "code",
   "execution_count": 250,
   "metadata": {
    "collapsed": false
   },
   "outputs": [
    {
     "name": "stdout",
     "output_type": "stream",
     "text": [
      "29\n"
     ]
    }
   ],
   "source": [
    "columns_with_missing2 = br.get_columns_with_nulls(empl,rows_to_scan='all')\n",
    "print len(columns_with_missing2)"
   ]
  },
  {
   "cell_type": "code",
   "execution_count": 251,
   "metadata": {
    "collapsed": false
   },
   "outputs": [
    {
     "data": {
      "text/plain": [
       "['MERIT1',\n",
       " 'MERIT10',\n",
       " 'MERIT2',\n",
       " 'MERIT3',\n",
       " 'MERIT4',\n",
       " 'MERIT5',\n",
       " 'MERIT6',\n",
       " 'MERIT7',\n",
       " 'MERIT8',\n",
       " 'MERIT9',\n",
       " 'PERF1',\n",
       " 'PERF10',\n",
       " 'PERF2',\n",
       " 'PERF3',\n",
       " 'PERF4',\n",
       " 'PERF5',\n",
       " 'PERF6',\n",
       " 'PERF7',\n",
       " 'PERF8',\n",
       " 'PERF9',\n",
       " 'SAL10',\n",
       " 'SAL2',\n",
       " 'SAL3',\n",
       " 'SAL4',\n",
       " 'SAL5',\n",
       " 'SAL6',\n",
       " 'SAL7',\n",
       " 'SAL8',\n",
       " 'SAL9']"
      ]
     },
     "execution_count": 251,
     "metadata": {},
     "output_type": "execute_result"
    }
   ],
   "source": [
    "[colname for colname in columns_with_missing2]"
   ]
  },
  {
   "cell_type": "markdown",
   "metadata": {},
   "source": [
    "## Proces the categorical columns now"
   ]
  },
  {
   "cell_type": "code",
   "execution_count": 252,
   "metadata": {
    "collapsed": false
   },
   "outputs": [
    {
     "name": "stdout",
     "output_type": "stream",
     "text": [
      "178 129 49\n"
     ]
    }
   ],
   "source": [
    "numeric_cols = br.get_numeric(empl)\n",
    "categorical_cols = br.get_categorical(empl)\n",
    "print len(numeric_cols)+len(categorical_cols), len(numeric_cols),len(categorical_cols)"
   ]
  },
  {
   "cell_type": "code",
   "execution_count": 255,
   "metadata": {
    "collapsed": false
   },
   "outputs": [
    {
     "data": {
      "text/html": [
       "<div>\n",
       "<table border=\"1\" class=\"dataframe\">\n",
       "  <thead>\n",
       "    <tr style=\"text-align: right;\">\n",
       "      <th></th>\n",
       "      <th>feature</th>\n",
       "      <th>datatype</th>\n",
       "      <th>nmissing</th>\n",
       "      <th>arity</th>\n",
       "      <th>accepted values</th>\n",
       "      <th>x_missing</th>\n",
       "    </tr>\n",
       "  </thead>\n",
       "  <tbody>\n",
       "    <tr>\n",
       "      <th>19</th>\n",
       "      <td>FULLPART1</td>\n",
       "      <td>object</td>\n",
       "      <td>0</td>\n",
       "      <td>2</td>\n",
       "      <td>[N, Y]</td>\n",
       "      <td>0</td>\n",
       "    </tr>\n",
       "    <tr>\n",
       "      <th>37</th>\n",
       "      <td>PARTFULL1</td>\n",
       "      <td>object</td>\n",
       "      <td>0</td>\n",
       "      <td>2</td>\n",
       "      <td>[N, Y]</td>\n",
       "      <td>0</td>\n",
       "    </tr>\n",
       "    <tr>\n",
       "      <th>40</th>\n",
       "      <td>PARTFULL5</td>\n",
       "      <td>object</td>\n",
       "      <td>0</td>\n",
       "      <td>2</td>\n",
       "      <td>[N, Y]</td>\n",
       "      <td>0</td>\n",
       "    </tr>\n",
       "    <tr>\n",
       "      <th>41</th>\n",
       "      <td>RELOCATE_ALL_SFI</td>\n",
       "      <td>object</td>\n",
       "      <td>0</td>\n",
       "      <td>2</td>\n",
       "      <td>[N, Y]</td>\n",
       "      <td>0</td>\n",
       "    </tr>\n",
       "    <tr>\n",
       "      <th>27</th>\n",
       "      <td>INTERN</td>\n",
       "      <td>object</td>\n",
       "      <td>0</td>\n",
       "      <td>2</td>\n",
       "      <td>[N, Y]</td>\n",
       "      <td>0</td>\n",
       "    </tr>\n",
       "    <tr>\n",
       "      <th>26</th>\n",
       "      <td>HUBIND</td>\n",
       "      <td>object</td>\n",
       "      <td>0</td>\n",
       "      <td>2</td>\n",
       "      <td>[N, Y]</td>\n",
       "      <td>0</td>\n",
       "    </tr>\n",
       "    <tr>\n",
       "      <th>47</th>\n",
       "      <td>SUPV_DIFF_LOC</td>\n",
       "      <td>object</td>\n",
       "      <td>0</td>\n",
       "      <td>2</td>\n",
       "      <td>[Y, N]</td>\n",
       "      <td>0</td>\n",
       "    </tr>\n",
       "    <tr>\n",
       "      <th>22</th>\n",
       "      <td>FULLPART5</td>\n",
       "      <td>object</td>\n",
       "      <td>0</td>\n",
       "      <td>2</td>\n",
       "      <td>[N, Y]</td>\n",
       "      <td>0</td>\n",
       "    </tr>\n",
       "    <tr>\n",
       "      <th>21</th>\n",
       "      <td>FULLPART3</td>\n",
       "      <td>object</td>\n",
       "      <td>0</td>\n",
       "      <td>2</td>\n",
       "      <td>[N, Y]</td>\n",
       "      <td>0</td>\n",
       "    </tr>\n",
       "    <tr>\n",
       "      <th>20</th>\n",
       "      <td>FULLPART10</td>\n",
       "      <td>object</td>\n",
       "      <td>0</td>\n",
       "      <td>2</td>\n",
       "      <td>[N, Y]</td>\n",
       "      <td>0</td>\n",
       "    </tr>\n",
       "    <tr>\n",
       "      <th>38</th>\n",
       "      <td>PARTFULL10</td>\n",
       "      <td>object</td>\n",
       "      <td>0</td>\n",
       "      <td>2</td>\n",
       "      <td>[N, Y]</td>\n",
       "      <td>0</td>\n",
       "    </tr>\n",
       "    <tr>\n",
       "      <th>12</th>\n",
       "      <td>COMP_FREQUENCY</td>\n",
       "      <td>object</td>\n",
       "      <td>0</td>\n",
       "      <td>2</td>\n",
       "      <td>[A, H]</td>\n",
       "      <td>0</td>\n",
       "    </tr>\n",
       "    <tr>\n",
       "      <th>39</th>\n",
       "      <td>PARTFULL3</td>\n",
       "      <td>object</td>\n",
       "      <td>0</td>\n",
       "      <td>2</td>\n",
       "      <td>[N, Y]</td>\n",
       "      <td>0</td>\n",
       "    </tr>\n",
       "    <tr>\n",
       "      <th>42</th>\n",
       "      <td>REMOTE</td>\n",
       "      <td>object</td>\n",
       "      <td>0</td>\n",
       "      <td>2</td>\n",
       "      <td>[N, Y]</td>\n",
       "      <td>0</td>\n",
       "    </tr>\n",
       "    <tr>\n",
       "      <th>44</th>\n",
       "      <td>SEX</td>\n",
       "      <td>object</td>\n",
       "      <td>0</td>\n",
       "      <td>2</td>\n",
       "      <td>[F, M]</td>\n",
       "      <td>0</td>\n",
       "    </tr>\n",
       "    <tr>\n",
       "      <th>43</th>\n",
       "      <td>REMOTE_SUPV</td>\n",
       "      <td>object</td>\n",
       "      <td>0</td>\n",
       "      <td>2</td>\n",
       "      <td>[N, Y]</td>\n",
       "      <td>0</td>\n",
       "    </tr>\n",
       "    <tr>\n",
       "      <th>18</th>\n",
       "      <td>FLSA_STATUS</td>\n",
       "      <td>object</td>\n",
       "      <td>0</td>\n",
       "      <td>3</td>\n",
       "      <td>[Z, N, X]</td>\n",
       "      <td>0</td>\n",
       "    </tr>\n",
       "    <tr>\n",
       "      <th>16</th>\n",
       "      <td>EMPL_TYPE</td>\n",
       "      <td>object</td>\n",
       "      <td>0</td>\n",
       "      <td>4</td>\n",
       "      <td>[S, H, E, N]</td>\n",
       "      <td>0</td>\n",
       "    </tr>\n",
       "    <tr>\n",
       "      <th>45</th>\n",
       "      <td>SHIFT</td>\n",
       "      <td>object</td>\n",
       "      <td>0</td>\n",
       "      <td>4</td>\n",
       "      <td>[1, 3, N, 2]</td>\n",
       "      <td>0</td>\n",
       "    </tr>\n",
       "    <tr>\n",
       "      <th>23</th>\n",
       "      <td>FULL_PART_TIME</td>\n",
       "      <td>object</td>\n",
       "      <td>0</td>\n",
       "      <td>4</td>\n",
       "      <td>[F, P, X, N]</td>\n",
       "      <td>0</td>\n",
       "    </tr>\n",
       "    <tr>\n",
       "      <th>15</th>\n",
       "      <td>EMPL_CLASS</td>\n",
       "      <td>object</td>\n",
       "      <td>0</td>\n",
       "      <td>5</td>\n",
       "      <td>[1, D, 3, G, 5]</td>\n",
       "      <td>0</td>\n",
       "    </tr>\n",
       "    <tr>\n",
       "      <th>11</th>\n",
       "      <td>COMPANY</td>\n",
       "      <td>object</td>\n",
       "      <td>0</td>\n",
       "      <td>5</td>\n",
       "      <td>[001, 005, 002, 049, 004]</td>\n",
       "      <td>0</td>\n",
       "    </tr>\n",
       "    <tr>\n",
       "      <th>13</th>\n",
       "      <td>DIVISION_CODE_SFI</td>\n",
       "      <td>object</td>\n",
       "      <td>0</td>\n",
       "      <td>9</td>\n",
       "      <td>[9, 0, 4, 7, 5, 6, 1, 3, 2]</td>\n",
       "      <td>0</td>\n",
       "    </tr>\n",
       "    <tr>\n",
       "      <th>14</th>\n",
       "      <td>EEO1CODE</td>\n",
       "      <td>object</td>\n",
       "      <td>0</td>\n",
       "      <td>10</td>\n",
       "      <td>[2, 5, 1, 4, 3, 7, 6, N, L, 8]</td>\n",
       "      <td>0</td>\n",
       "    </tr>\n",
       "    <tr>\n",
       "      <th>30</th>\n",
       "      <td>JOB_FUNCTION</td>\n",
       "      <td>object</td>\n",
       "      <td>0</td>\n",
       "      <td>19</td>\n",
       "      <td>[PTE, PSA, PTB, MGT, PSC, PTD, PSB, PTC, PTA, ...</td>\n",
       "      <td>0</td>\n",
       "    </tr>\n",
       "    <tr>\n",
       "      <th>36</th>\n",
       "      <td>LOC_TYPE_DESCR_SFI</td>\n",
       "      <td>object</td>\n",
       "      <td>0</td>\n",
       "      <td>31</td>\n",
       "      <td>Too many to show</td>\n",
       "      <td>0</td>\n",
       "    </tr>\n",
       "    <tr>\n",
       "      <th>35</th>\n",
       "      <td>LOC_STATE</td>\n",
       "      <td>object</td>\n",
       "      <td>0</td>\n",
       "      <td>52</td>\n",
       "      <td>Too many to show</td>\n",
       "      <td>0</td>\n",
       "    </tr>\n",
       "    <tr>\n",
       "      <th>24</th>\n",
       "      <td>FUNC_ID_SFI</td>\n",
       "      <td>object</td>\n",
       "      <td>0</td>\n",
       "      <td>53</td>\n",
       "      <td>Too many to show</td>\n",
       "      <td>0</td>\n",
       "    </tr>\n",
       "    <tr>\n",
       "      <th>25</th>\n",
       "      <td>GRADE</td>\n",
       "      <td>object</td>\n",
       "      <td>0</td>\n",
       "      <td>123</td>\n",
       "      <td>Too many to show</td>\n",
       "      <td>0</td>\n",
       "    </tr>\n",
       "    <tr>\n",
       "      <th>17</th>\n",
       "      <td>EXT_FUNC_ID_SFI</td>\n",
       "      <td>object</td>\n",
       "      <td>0</td>\n",
       "      <td>336</td>\n",
       "      <td>Too many to show</td>\n",
       "      <td>0</td>\n",
       "    </tr>\n",
       "    <tr>\n",
       "      <th>29</th>\n",
       "      <td>JOB_FAMILY</td>\n",
       "      <td>object</td>\n",
       "      <td>0</td>\n",
       "      <td>1448</td>\n",
       "      <td>Too many to show</td>\n",
       "      <td>0</td>\n",
       "    </tr>\n",
       "    <tr>\n",
       "      <th>28</th>\n",
       "      <td>JOBCODE</td>\n",
       "      <td>object</td>\n",
       "      <td>0</td>\n",
       "      <td>2576</td>\n",
       "      <td>Too many to show</td>\n",
       "      <td>0</td>\n",
       "    </tr>\n",
       "    <tr>\n",
       "      <th>34</th>\n",
       "      <td>LOC_CITY</td>\n",
       "      <td>object</td>\n",
       "      <td>0</td>\n",
       "      <td>3608</td>\n",
       "      <td>Too many to show</td>\n",
       "      <td>0</td>\n",
       "    </tr>\n",
       "    <tr>\n",
       "      <th>8</th>\n",
       "      <td>ACTRES8</td>\n",
       "      <td>object</td>\n",
       "      <td>0</td>\n",
       "      <td>10035</td>\n",
       "      <td>Too many to show</td>\n",
       "      <td>0</td>\n",
       "    </tr>\n",
       "    <tr>\n",
       "      <th>9</th>\n",
       "      <td>ACTRES9</td>\n",
       "      <td>object</td>\n",
       "      <td>0</td>\n",
       "      <td>10459</td>\n",
       "      <td>Too many to show</td>\n",
       "      <td>0</td>\n",
       "    </tr>\n",
       "    <tr>\n",
       "      <th>6</th>\n",
       "      <td>ACTRES6</td>\n",
       "      <td>object</td>\n",
       "      <td>0</td>\n",
       "      <td>10470</td>\n",
       "      <td>Too many to show</td>\n",
       "      <td>0</td>\n",
       "    </tr>\n",
       "    <tr>\n",
       "      <th>1</th>\n",
       "      <td>ACTRES10</td>\n",
       "      <td>object</td>\n",
       "      <td>0</td>\n",
       "      <td>11267</td>\n",
       "      <td>Too many to show</td>\n",
       "      <td>0</td>\n",
       "    </tr>\n",
       "    <tr>\n",
       "      <th>7</th>\n",
       "      <td>ACTRES7</td>\n",
       "      <td>object</td>\n",
       "      <td>0</td>\n",
       "      <td>11766</td>\n",
       "      <td>Too many to show</td>\n",
       "      <td>0</td>\n",
       "    </tr>\n",
       "    <tr>\n",
       "      <th>5</th>\n",
       "      <td>ACTRES5</td>\n",
       "      <td>object</td>\n",
       "      <td>0</td>\n",
       "      <td>12696</td>\n",
       "      <td>Too many to show</td>\n",
       "      <td>0</td>\n",
       "    </tr>\n",
       "    <tr>\n",
       "      <th>33</th>\n",
       "      <td>LOCATION</td>\n",
       "      <td>object</td>\n",
       "      <td>0</td>\n",
       "      <td>13022</td>\n",
       "      <td>Too many to show</td>\n",
       "      <td>0</td>\n",
       "    </tr>\n",
       "    <tr>\n",
       "      <th>48</th>\n",
       "      <td>zip5</td>\n",
       "      <td>object</td>\n",
       "      <td>0</td>\n",
       "      <td>13294</td>\n",
       "      <td>Too many to show</td>\n",
       "      <td>0</td>\n",
       "    </tr>\n",
       "    <tr>\n",
       "      <th>46</th>\n",
       "      <td>SKEY</td>\n",
       "      <td>object</td>\n",
       "      <td>0</td>\n",
       "      <td>13736</td>\n",
       "      <td>Too many to show</td>\n",
       "      <td>0</td>\n",
       "    </tr>\n",
       "    <tr>\n",
       "      <th>4</th>\n",
       "      <td>ACTRES4</td>\n",
       "      <td>object</td>\n",
       "      <td>0</td>\n",
       "      <td>15593</td>\n",
       "      <td>Too many to show</td>\n",
       "      <td>0</td>\n",
       "    </tr>\n",
       "    <tr>\n",
       "      <th>2</th>\n",
       "      <td>ACTRES2</td>\n",
       "      <td>object</td>\n",
       "      <td>0</td>\n",
       "      <td>15921</td>\n",
       "      <td>Too many to show</td>\n",
       "      <td>0</td>\n",
       "    </tr>\n",
       "    <tr>\n",
       "      <th>3</th>\n",
       "      <td>ACTRES3</td>\n",
       "      <td>object</td>\n",
       "      <td>0</td>\n",
       "      <td>16238</td>\n",
       "      <td>Too many to show</td>\n",
       "      <td>0</td>\n",
       "    </tr>\n",
       "    <tr>\n",
       "      <th>0</th>\n",
       "      <td>ACTRES1</td>\n",
       "      <td>object</td>\n",
       "      <td>0</td>\n",
       "      <td>17430</td>\n",
       "      <td>Too many to show</td>\n",
       "      <td>0</td>\n",
       "    </tr>\n",
       "    <tr>\n",
       "      <th>32</th>\n",
       "      <td>LEGACY_DEPT_SFI</td>\n",
       "      <td>object</td>\n",
       "      <td>0</td>\n",
       "      <td>30308</td>\n",
       "      <td>Too many to show</td>\n",
       "      <td>0</td>\n",
       "    </tr>\n",
       "    <tr>\n",
       "      <th>10</th>\n",
       "      <td>ADDRESS1</td>\n",
       "      <td>object</td>\n",
       "      <td>0</td>\n",
       "      <td>128118</td>\n",
       "      <td>Too many to show</td>\n",
       "      <td>0</td>\n",
       "    </tr>\n",
       "    <tr>\n",
       "      <th>31</th>\n",
       "      <td>KEY</td>\n",
       "      <td>object</td>\n",
       "      <td>0</td>\n",
       "      <td>134189</td>\n",
       "      <td>Too many to show</td>\n",
       "      <td>0</td>\n",
       "    </tr>\n",
       "  </tbody>\n",
       "</table>\n",
       "</div>"
      ],
      "text/plain": [
       "               feature datatype  nmissing   arity  \\\n",
       "19           FULLPART1   object         0       2   \n",
       "37           PARTFULL1   object         0       2   \n",
       "40           PARTFULL5   object         0       2   \n",
       "41    RELOCATE_ALL_SFI   object         0       2   \n",
       "27              INTERN   object         0       2   \n",
       "26              HUBIND   object         0       2   \n",
       "47       SUPV_DIFF_LOC   object         0       2   \n",
       "22           FULLPART5   object         0       2   \n",
       "21           FULLPART3   object         0       2   \n",
       "20          FULLPART10   object         0       2   \n",
       "38          PARTFULL10   object         0       2   \n",
       "12      COMP_FREQUENCY   object         0       2   \n",
       "39           PARTFULL3   object         0       2   \n",
       "42              REMOTE   object         0       2   \n",
       "44                 SEX   object         0       2   \n",
       "43         REMOTE_SUPV   object         0       2   \n",
       "18         FLSA_STATUS   object         0       3   \n",
       "16           EMPL_TYPE   object         0       4   \n",
       "45               SHIFT   object         0       4   \n",
       "23      FULL_PART_TIME   object         0       4   \n",
       "15          EMPL_CLASS   object         0       5   \n",
       "11             COMPANY   object         0       5   \n",
       "13   DIVISION_CODE_SFI   object         0       9   \n",
       "14            EEO1CODE   object         0      10   \n",
       "30        JOB_FUNCTION   object         0      19   \n",
       "36  LOC_TYPE_DESCR_SFI   object         0      31   \n",
       "35           LOC_STATE   object         0      52   \n",
       "24         FUNC_ID_SFI   object         0      53   \n",
       "25               GRADE   object         0     123   \n",
       "17     EXT_FUNC_ID_SFI   object         0     336   \n",
       "29          JOB_FAMILY   object         0    1448   \n",
       "28             JOBCODE   object         0    2576   \n",
       "34            LOC_CITY   object         0    3608   \n",
       "8              ACTRES8   object         0   10035   \n",
       "9              ACTRES9   object         0   10459   \n",
       "6              ACTRES6   object         0   10470   \n",
       "1             ACTRES10   object         0   11267   \n",
       "7              ACTRES7   object         0   11766   \n",
       "5              ACTRES5   object         0   12696   \n",
       "33            LOCATION   object         0   13022   \n",
       "48                zip5   object         0   13294   \n",
       "46                SKEY   object         0   13736   \n",
       "4              ACTRES4   object         0   15593   \n",
       "2              ACTRES2   object         0   15921   \n",
       "3              ACTRES3   object         0   16238   \n",
       "0              ACTRES1   object         0   17430   \n",
       "32     LEGACY_DEPT_SFI   object         0   30308   \n",
       "10            ADDRESS1   object         0  128118   \n",
       "31                 KEY   object         0  134189   \n",
       "\n",
       "                                      accepted values  x_missing  \n",
       "19                                             [N, Y]          0  \n",
       "37                                             [N, Y]          0  \n",
       "40                                             [N, Y]          0  \n",
       "41                                             [N, Y]          0  \n",
       "27                                             [N, Y]          0  \n",
       "26                                             [N, Y]          0  \n",
       "47                                             [Y, N]          0  \n",
       "22                                             [N, Y]          0  \n",
       "21                                             [N, Y]          0  \n",
       "20                                             [N, Y]          0  \n",
       "38                                             [N, Y]          0  \n",
       "12                                             [A, H]          0  \n",
       "39                                             [N, Y]          0  \n",
       "42                                             [N, Y]          0  \n",
       "44                                             [F, M]          0  \n",
       "43                                             [N, Y]          0  \n",
       "18                                          [Z, N, X]          0  \n",
       "16                                       [S, H, E, N]          0  \n",
       "45                                       [1, 3, N, 2]          0  \n",
       "23                                       [F, P, X, N]          0  \n",
       "15                                    [1, D, 3, G, 5]          0  \n",
       "11                          [001, 005, 002, 049, 004]          0  \n",
       "13                        [9, 0, 4, 7, 5, 6, 1, 3, 2]          0  \n",
       "14                     [2, 5, 1, 4, 3, 7, 6, N, L, 8]          0  \n",
       "30  [PTE, PSA, PTB, MGT, PSC, PTD, PSB, PTC, PTA, ...          0  \n",
       "36                                   Too many to show          0  \n",
       "35                                   Too many to show          0  \n",
       "24                                   Too many to show          0  \n",
       "25                                   Too many to show          0  \n",
       "17                                   Too many to show          0  \n",
       "29                                   Too many to show          0  \n",
       "28                                   Too many to show          0  \n",
       "34                                   Too many to show          0  \n",
       "8                                    Too many to show          0  \n",
       "9                                    Too many to show          0  \n",
       "6                                    Too many to show          0  \n",
       "1                                    Too many to show          0  \n",
       "7                                    Too many to show          0  \n",
       "5                                    Too many to show          0  \n",
       "33                                   Too many to show          0  \n",
       "48                                   Too many to show          0  \n",
       "46                                   Too many to show          0  \n",
       "4                                    Too many to show          0  \n",
       "2                                    Too many to show          0  \n",
       "3                                    Too many to show          0  \n",
       "0                                    Too many to show          0  \n",
       "32                                   Too many to show          0  \n",
       "10                                   Too many to show          0  \n",
       "31                                   Too many to show          0  "
      ]
     },
     "execution_count": 255,
     "metadata": {},
     "output_type": "execute_result"
    }
   ],
   "source": [
    "sdf = br.summarize_dataframe(empl[categorical_cols])\n",
    "sdf.sort_values(by='arity')"
   ]
  },
  {
   "cell_type": "markdown",
   "metadata": {},
   "source": [
    "### List some HIGH arity columns to drop:"
   ]
  },
  {
   "cell_type": "code",
   "execution_count": 271,
   "metadata": {
    "collapsed": true
   },
   "outputs": [],
   "source": [
    "cat_cols_to_drop = [colname for colname in all_cols if colname.startswith('ACTRES')]\n",
    "cat_cols_to_drop.append('ADDRESS1')\n",
    "cat_cols_to_drop.append('SKEY')\n",
    "cat_cols_to_drop.append('zip5')\n",
    "cat_cols_to_drop.append('LEGACY_DEPT_SFI')\n",
    "cat_cols_to_drop.append('LOCATION')\n",
    "cat_cols_to_drop.append('LOC_CITY')\n",
    "for col in col_to_drop:\n",
    "    cat_cols_to_drop.append(col)"
   ]
  },
  {
   "cell_type": "code",
   "execution_count": 272,
   "metadata": {
    "collapsed": false
   },
   "outputs": [
    {
     "name": "stdout",
     "output_type": "stream",
     "text": [
      "19 191 10\n"
     ]
    }
   ],
   "source": [
    "print len(cat_cols_to_drop), len(all_cols), len(rate_col_list)"
   ]
  },
  {
   "cell_type": "code",
   "execution_count": 273,
   "metadata": {
    "collapsed": false
   },
   "outputs": [
    {
     "name": "stdout",
     "output_type": "stream",
     "text": [
      "162\n"
     ]
    }
   ],
   "source": [
    "col_to_model1 = [col for col in all_cols]\n",
    "for aname in cat_cols_to_drop:\n",
    "    col_to_model1.remove(aname)\n",
    "for aname in rate_col_list:\n",
    "    col_to_model1.remove(aname)\n",
    "\n",
    "print len(col_to_model1)"
   ]
  },
  {
   "cell_type": "markdown",
   "metadata": {},
   "source": [
    "### Keep just the most recent values so as to not bias it away from those who have been there longer. \n",
    "(too many missing instances)"
   ]
  },
  {
   "cell_type": "code",
   "execution_count": 286,
   "metadata": {
    "collapsed": false
   },
   "outputs": [
    {
     "data": {
      "text/plain": [
       "2"
      ]
     },
     "execution_count": 286,
     "metadata": {},
     "output_type": "execute_result"
    }
   ],
   "source": [
    "missing_cols_2 = br.get_columns_with_nulls(empl[col_to_model1],'all')\n",
    "len(missing_cols_2)"
   ]
  },
  {
   "cell_type": "code",
   "execution_count": 279,
   "metadata": {
    "collapsed": false
   },
   "outputs": [
    {
     "data": {
      "text/plain": [
       "27"
      ]
     },
     "execution_count": 279,
     "metadata": {},
     "output_type": "execute_result"
    }
   ],
   "source": [
    "#br.get_columns_with_nulls(empl[col_to_model1],'all')\n",
    "historical_cols = [colname for colname in missing_cols_2 if not colname.endswith('1')]\n",
    "len(historical_cols)"
   ]
  },
  {
   "cell_type": "code",
   "execution_count": 285,
   "metadata": {
    "collapsed": true
   },
   "outputs": [
    {
     "ename": "ValueError",
     "evalue": "list.remove(x): x not in list",
     "output_type": "error",
     "traceback": [
      "\u001b[1;31m---------------------------------------------------------------------------\u001b[0m",
      "\u001b[1;31mValueError\u001b[0m                                Traceback (most recent call last)",
      "\u001b[1;32m<ipython-input-285-0deacaa09d0e>\u001b[0m in \u001b[0;36m<module>\u001b[1;34m()\u001b[0m\n\u001b[0;32m      4\u001b[0m \u001b[1;33m\u001b[0m\u001b[0m\n\u001b[0;32m      5\u001b[0m \u001b[1;32mfor\u001b[0m \u001b[0mhname\u001b[0m \u001b[1;32min\u001b[0m \u001b[0mhistorical_cols\u001b[0m\u001b[1;33m:\u001b[0m\u001b[1;33m\u001b[0m\u001b[0m\n\u001b[1;32m----> 6\u001b[1;33m     \u001b[0mcol_to_model1\u001b[0m\u001b[1;33m.\u001b[0m\u001b[0mremove\u001b[0m\u001b[1;33m(\u001b[0m\u001b[0mhname\u001b[0m\u001b[1;33m)\u001b[0m\u001b[1;33m\u001b[0m\u001b[0m\n\u001b[0m\u001b[0;32m      7\u001b[0m \u001b[1;33m\u001b[0m\u001b[0m\n\u001b[0;32m      8\u001b[0m \u001b[1;32mprint\u001b[0m \u001b[0mlen\u001b[0m\u001b[1;33m(\u001b[0m\u001b[0mcol_to_model1\u001b[0m\u001b[1;33m)\u001b[0m\u001b[1;33m\u001b[0m\u001b[0m\n",
      "\u001b[1;31mValueError\u001b[0m: list.remove(x): x not in list"
     ]
    }
   ],
   "source": [
    "\n",
    "        \n",
    "for hname in historical_cols:\n",
    "    col_to_model1.remove(hname)\n",
    "\n",
    "print len(col_to_model1)"
   ]
  },
  {
   "cell_type": "code",
   "execution_count": 287,
   "metadata": {
    "collapsed": false
   },
   "outputs": [
    {
     "name": "stdout",
     "output_type": "stream",
     "text": [
      "126\n"
     ]
    }
   ],
   "source": [
    "for boxcol in box_col_list:\n",
    "    if not boxcol.endswith('1'):\n",
    "        col_to_model1.remove(boxcol)\n",
    "        \n",
    "print len(col_to_model1)"
   ]
  },
  {
   "cell_type": "code",
   "execution_count": 288,
   "metadata": {
    "collapsed": true
   },
   "outputs": [],
   "source": [
    "empl[col_to_model1].to_csv('after2001_v8.csv',index=False)"
   ]
  },
  {
   "cell_type": "markdown",
   "metadata": {},
   "source": [
    "## Process the categorical ones left\n",
    "1. binary <--> use scikitlearn to label encode binary features: \n",
    "    * N--> 0, Y --> 1\n",
    "    * M--> 1, F --> 0\n",
    "    * A-->0, H--> 1\n",
    "2. special case for FLSA_STATUS which has arity=3\n",
    "3. .."
   ]
  },
  {
   "cell_type": "code",
   "execution_count": 301,
   "metadata": {
    "collapsed": false
   },
   "outputs": [
    {
     "data": {
      "text/plain": [
       "[]"
      ]
     },
     "execution_count": 301,
     "metadata": {},
     "output_type": "execute_result"
    }
   ],
   "source": [
    "[c for c in col_to_model1 if c.startswith('ACT')]"
   ]
  },
  {
   "cell_type": "code",
   "execution_count": 257,
   "metadata": {
    "collapsed": false
   },
   "outputs": [
    {
     "name": "stdout",
     "output_type": "stream",
     "text": [
      "['COMP_FREQUENCY', 'FULLPART1', 'FULLPART10', 'FULLPART3', 'FULLPART5', 'HUBIND', 'INTERN', 'PARTFULL1', 'PARTFULL10', 'PARTFULL3', 'PARTFULL5', 'RELOCATE_ALL_SFI', 'REMOTE', 'REMOTE_SUPV', 'SEX', 'SUPV_DIFF_LOC']\n"
     ]
    }
   ],
   "source": [
    "binary_cols = sdf[sdf.arity == 2].feature.values.tolist()\n",
    "print binary_cols"
   ]
  },
  {
   "cell_type": "code",
   "execution_count": 294,
   "metadata": {
    "collapsed": true
   },
   "outputs": [],
   "source": [
    "from sklearn.preprocessing import LabelEncoder\n",
    "label_encoder = LabelEncoder()\n"
   ]
  },
  {
   "cell_type": "code",
   "execution_count": 305,
   "metadata": {
    "collapsed": false
   },
   "outputs": [
    {
     "data": {
      "text/plain": [
       "(134189, 126)"
      ]
     },
     "execution_count": 305,
     "metadata": {},
     "output_type": "execute_result"
    }
   ],
   "source": [
    "empl2 = empl[col_to_model1].copy()\n",
    "empl2.shape"
   ]
  },
  {
   "cell_type": "code",
   "execution_count": 306,
   "metadata": {
    "collapsed": false
   },
   "outputs": [
    {
     "name": "stdout",
     "output_type": "stream",
     "text": [
      "COMP_FREQUENCY 2 ['A' 'H']\n",
      "FULLPART1 2 ['N' 'Y']\n",
      "FULLPART10 2 ['N' 'Y']\n",
      "FULLPART3 2 ['N' 'Y']\n",
      "FULLPART5 2 ['N' 'Y']\n",
      "HUBIND 2 ['N' 'Y']\n",
      "INTERN 2 ['N' 'Y']\n",
      "PARTFULL1 2 ['N' 'Y']\n",
      "PARTFULL10 2 ['N' 'Y']\n",
      "PARTFULL3 2 ['N' 'Y']\n",
      "PARTFULL5 2 ['N' 'Y']\n",
      "RELOCATE_ALL_SFI 2 ['N' 'Y']\n",
      "REMOTE 2 ['N' 'Y']\n",
      "REMOTE_SUPV 2 ['N' 'Y']\n",
      "SEX 2 ['F' 'M']\n",
      "SUPV_DIFF_LOC 2 ['Y' 'N']\n"
     ]
    }
   ],
   "source": [
    "for col in binary_cols:\n",
    "    print col, len(empl2[col].unique()), empl2[col].unique()\n",
    "    empl2[col] = label_encoder.fit_transform(empl2[col]) # use sklearn.preprocesing.LabelEncoder()"
   ]
  },
  {
   "cell_type": "markdown",
   "metadata": {
    "collapsed": true
   },
   "source": [
    "### 2. Use this mapping for FLSA N --> 0 , X -->-1 , Z -->1"
   ]
  },
  {
   "cell_type": "code",
   "execution_count": 307,
   "metadata": {
    "collapsed": true
   },
   "outputs": [],
   "source": [
    "empl2['FLSA_STATUS'] = empl['FLSA_STATUS'].replace({'N':0,'Z':1,'X':-1}).copy()"
   ]
  },
  {
   "cell_type": "code",
   "execution_count": 308,
   "metadata": {
    "collapsed": false
   },
   "outputs": [
    {
     "data": {
      "text/plain": [
       " 0    99460\n",
       " 1    32789\n",
       "-1     1940\n",
       "Name: FLSA_STATUS, dtype: int64"
      ]
     },
     "execution_count": 308,
     "metadata": {},
     "output_type": "execute_result"
    }
   ],
   "source": [
    "empl2.FLSA_STATUS.value_counts()"
   ]
  },
  {
   "cell_type": "code",
   "execution_count": 310,
   "metadata": {
    "collapsed": false
   },
   "outputs": [
    {
     "data": {
      "text/plain": [
       "['MERIT1', 'PERF1']"
      ]
     },
     "execution_count": 310,
     "metadata": {},
     "output_type": "execute_result"
    }
   ],
   "source": [
    "br.get_columns_with_nulls(empl2)"
   ]
  },
  {
   "cell_type": "code",
   "execution_count": 315,
   "metadata": {
    "collapsed": false
   },
   "outputs": [
    {
     "data": {
      "text/plain": [
       "<matplotlib.axes._subplots.AxesSubplot at 0x7f98742d0cd0>"
      ]
     },
     "execution_count": 315,
     "metadata": {},
     "output_type": "execute_result"
    },
    {
     "data": {
      "image/png": "[encoded data removed]",
      "text/plain": [
       "<matplotlib.figure.Figure at 0x7f98742f7590>"
      ]
     },
     "metadata": {},
     "output_type": "display_data"
    }
   ],
   "source": [
    "sns.distplot(empl2[empl2.MERIT1.notnull()].MERIT1)\n",
    "#sns.distplot(empl2.PERF1)"
   ]
  },
  {
   "cell_type": "code",
   "execution_count": 316,
   "metadata": {
    "collapsed": false
   },
   "outputs": [
    {
     "data": {
      "text/plain": [
       "<matplotlib.axes._subplots.AxesSubplot at 0x7f9874216b50>"
      ]
     },
     "execution_count": 316,
     "metadata": {},
     "output_type": "execute_result"
    },
    {
     "data": {
      "image/png": "[encoded data removed]",
      "text/plain": [
       "<matplotlib.figure.Figure at 0x7f9874177350>"
      ]
     },
     "metadata": {},
     "output_type": "display_data"
    }
   ],
   "source": [
    "sns.distplot(empl2[empl2.PERF1.notnull()].PERF1)\n",
    "#sns.distplot(empl2.PERF1)"
   ]
  },
  {
   "cell_type": "code",
   "execution_count": 312,
   "metadata": {
    "collapsed": false
   },
   "outputs": [
    {
     "data": {
      "text/plain": [
       "<matplotlib.axes._subplots.AxesSubplot at 0x7f992795bed0>"
      ]
     },
     "execution_count": 312,
     "metadata": {},
     "output_type": "execute_result"
    },
    {
     "data": {
      "image/png": "[encoded data removed]",
      "text/plain": [
       "<matplotlib.figure.Figure at 0x7f9929a3d850>"
      ]
     },
     "metadata": {},
     "output_type": "display_data"
    }
   ],
   "source": [
    "sns.distplot(empl2.MIN_RT_ANNUAL)\n",
    "sns.distplot(empl2.MAX_RT_ANNUAL)"
   ]
  },
  {
   "cell_type": "code",
   "execution_count": 292,
   "metadata": {
    "collapsed": false
   },
   "outputs": [
    {
     "data": {
      "text/plain": [
       "5    59008\n",
       "2    55152\n",
       "1    11622\n",
       "4     5089\n",
       "3     2446\n",
       "7      482\n",
       "6      383\n",
       "N        3\n",
       "L        3\n",
       "8        1\n",
       "Name: EEO1CODE, dtype: int64"
      ]
     },
     "execution_count": 292,
     "metadata": {},
     "output_type": "execute_result"
    }
   ],
   "source": [
    "empl['EEO1CODE'].value_counts()"
   ]
  },
  {
   "cell_type": "code",
   "execution_count": null,
   "metadata": {
    "collapsed": true
   },
   "outputs": [],
   "source": [
    "possible_class_targets = ['status','retired','terminated','sep_status']\n",
    "possible_time_targets = ['Age_years','Tenure_years']\n",
    "prep_dates = ['BIRTHDATE','HIRE_DT','TERMINATION_DT','']"
   ]
  },
  {
   "cell_type": "markdown",
   "metadata": {},
   "source": [
    "###check on various  encoded variables\n",
    "* arity = 3,Fine\n",
    "* arity = 4, for 'SHIFT' map 'N' --> 0 and make FULL_PART_TIME categorical\n",
    "* arity = 5 -- make EMPL_TYPE to categorical\n",
    "* arity = 6, fine\n",
    "* arity = 7, make COMPANY categorical\n",
    "* arity = 8,9,10, fine\n",
    "* arity = 11: EEO1CODE to categorical\n",
    "* arity = 12: EMPL_CLASS to categorical\n",
    "* arity = 19: JOB_FUNCTION to categorical"
   ]
  },
  {
   "cell_type": "code",
   "execution_count": null,
   "metadata": {
    "collapsed": true
   },
   "outputs": [],
   "source": [
    "em2[]"
   ]
  },
  {
   "cell_type": "code",
   "execution_count": null,
   "metadata": {
    "collapsed": true
   },
   "outputs": [],
   "source": []
  },
  {
   "cell_type": "code",
   "execution_count": 233,
   "metadata": {
    "collapsed": false
   },
   "outputs": [
    {
     "name": "stdout",
     "output_type": "stream",
     "text": [
      "7 ['CUR_DEPT_MOS', 'CUR_EFUNC_MOS', 'CUR_FUNC_MOS', 'CUR_GRADE_MOS', 'CUR_JOB_MOS', 'CUR_LOC_MOS', 'TELE_MOS']\n",
      "8 ['HIRE_DT', 'LAST_HIRE_DT', 'MAR_STATUS_DT', 'SERVICE_DT', 'TERMINATION_DT', 'BIRTHDATE', 'Tenure_tdelta', 'Age_tdelta']\n",
      "3 ['Tenure_years', 'Age_years', 'hire_age']\n"
     ]
    }
   ],
   "source": [
    "mos_cols = [x for x in em2002.columns if x.endswith('MOS')]\n",
    "print len(mos_cols), mos_cols\n",
    "#tstmp_cols = [x for x in em2002.columns if x.endswith('tstmp')]\n",
    "#print len(tstmp_cols), tstmp_cols\n",
    "date_cols = [x for x in em2002.columns if x.endswith('DT')]\n",
    "date_cols.append('BIRTHDATE')\n",
    "date_cols.append('Tenure_tdelta')\n",
    "date_cols.append('Age_tdelta')\n",
    "print len(date_cols), date_cols\n",
    "useful_time_cols = []\n",
    "useful_time_cols.append('Tenure_years')\n",
    "useful_time_cols.append('Age_years')\n",
    "useful_time_cols.append('hire_age')\n",
    "print len(useful_time_cols), useful_time_cols"
   ]
  },
  {
   "cell_type": "code",
   "execution_count": 234,
   "metadata": {
    "collapsed": false
   },
   "outputs": [
    {
     "data": {
      "text/plain": [
       "<matplotlib.axes._subplots.AxesSubplot at 0x7f9929d6db10>"
      ]
     },
     "execution_count": 234,
     "metadata": {},
     "output_type": "execute_result"
    },
    {
     "data": {
      "image/png": "[encoded data removed]",
      "text/plain": [
       "<matplotlib.figure.Figure at 0x7f99277e5410>"
      ]
     },
     "metadata": {},
     "output_type": "display_data"
    }
   ],
   "source": [
    "sns.distplot(em2.CUR_DEPT_MOS)"
   ]
  },
  {
   "cell_type": "code",
   "execution_count": null,
   "metadata": {
    "collapsed": true
   },
   "outputs": [],
   "source": [
    "## define some useful upload columns:\n",
    "input_columns = ['KEY','HIRE_DT','BIRTHDATE','TERMINATION_DT']"
   ]
  },
  {
   "cell_type": "code",
   "execution_count": null,
   "metadata": {
    "collapsed": true
   },
   "outputs": [],
   "source": []
  },
  {
   "cell_type": "code",
   "execution_count": null,
   "metadata": {
    "collapsed": true
   },
   "outputs": [],
   "source": []
  },
  {
   "cell_type": "code",
   "execution_count": null,
   "metadata": {
    "collapsed": false
   },
   "outputs": [],
   "source": [
    "#bene_df.columns"
   ]
  },
  {
   "cell_type": "code",
   "execution_count": null,
   "metadata": {
    "collapsed": false
   },
   "outputs": [],
   "source": []
  },
  {
   "cell_type": "code",
   "execution_count": null,
   "metadata": {
    "collapsed": false
   },
   "outputs": [],
   "source": []
  },
  {
   "cell_type": "code",
   "execution_count": null,
   "metadata": {
    "collapsed": false
   },
   "outputs": [],
   "source": []
  },
  {
   "cell_type": "code",
   "execution_count": null,
   "metadata": {
    "collapsed": true
   },
   "outputs": [],
   "source": [
    "#\n",
    "time_checking_cols = [a for a in date_columns]\n",
    "time_checking_cols.append('Tenure_months')\n",
    "time_checking_cols.append('Age_years')\n",
    "time_checking_cols.append('CUR_LOC_MOS')"
   ]
  },
  {
   "cell_type": "code",
   "execution_count": null,
   "metadata": {
    "collapsed": false
   },
   "outputs": [],
   "source": [
    "#empl_bene[empl_bene.ACTRES1.isnull()][['LOC_STATE','TERMINATION_DT','HIRE_DT','status','COMPANY','KEY']]"
   ]
  },
  {
   "cell_type": "code",
   "execution_count": null,
   "metadata": {
    "collapsed": false
   },
   "outputs": [],
   "source": [
    "sdf = summarize_dataframe2(empl_bene)\n",
    "sdf.sort('x_missing')"
   ]
  },
  {
   "cell_type": "code",
   "execution_count": null,
   "metadata": {
    "collapsed": false
   },
   "outputs": [],
   "source": [
    "set_missing_cols_yet_to_fix = set(columns_with_missing_values)-set(chain.from_iterable(correcting_col_list))\n",
    "print len(set_missing_cols_yet_to_fix)"
   ]
  },
  {
   "cell_type": "code",
   "execution_count": null,
   "metadata": {
    "collapsed": false
   },
   "outputs": [],
   "source": [
    "replace_float_cols = ['MERIT1', 'MERIT10', 'MERIT2', 'MERIT3', 'MERIT4', 'MERIT5', 'MERIT6', 'MERIT7', 'MERIT8', 'MERIT9', \n",
    "                      'PERF1','PERF2','PERF3','PERF4', 'PERF5','PERF6','PERF7','PERF8', 'PERF9', 'PERF10',\n",
    "                      'SAL10', 'SAL2', 'SAL3', 'SAL4', 'SAL5', 'SAL6', 'SAL7', 'SAL8', 'SAL9']\n",
    "len(replace_float_cols)"
   ]
  },
  {
   "cell_type": "code",
   "execution_count": null,
   "metadata": {
    "collapsed": false
   },
   "outputs": [],
   "source": [
    "set_missing_cols_yet_to_fix - set(replace_float_cols) # good empty set."
   ]
  },
  {
   "cell_type": "code",
   "execution_count": null,
   "metadata": {
    "collapsed": false
   },
   "outputs": [],
   "source": []
  },
  {
   "cell_type": "code",
   "execution_count": null,
   "metadata": {
    "collapsed": true
   },
   "outputs": [],
   "source": []
  },
  {
   "cell_type": "code",
   "execution_count": null,
   "metadata": {
    "collapsed": false
   },
   "outputs": [],
   "source": []
  },
  {
   "cell_type": "code",
   "execution_count": null,
   "metadata": {
    "collapsed": false
   },
   "outputs": [],
   "source": [
    "empl[col].value_counts(), col"
   ]
  },
  {
   "cell_type": "code",
   "execution_count": null,
   "metadata": {
    "collapsed": false
   },
   "outputs": [],
   "source": [
    "sdf2 = summarize_dataframe2(empl)"
   ]
  },
  {
   "cell_type": "code",
   "execution_count": null,
   "metadata": {
    "collapsed": false
   },
   "outputs": [],
   "source": [
    "sdf2[sdf2.arity == 19]"
   ]
  },
  {
   "cell_type": "code",
   "execution_count": null,
   "metadata": {
    "collapsed": false
   },
   "outputs": [],
   "source": [
    "### convert shift == N to 0\n",
    "empl.replace({'SHIFT':{'N':0}},inplace=True)\n",
    "empl.SHIFT.value_counts()"
   ]
  },
  {
   "cell_type": "code",
   "execution_count": null,
   "metadata": {
    "collapsed": false
   },
   "outputs": [],
   "source": [
    "cols_to_cat = ['FULL_PART_TIME','EMPL_TYPE','COMPANY','EEO1CODE','EMPL_CLASS','JOB_FUNCTION']\n",
    "# arity <=19"
   ]
  },
  {
   "cell_type": "code",
   "execution_count": null,
   "metadata": {
    "collapsed": false
   },
   "outputs": [],
   "source": [
    "empl.FULL_PART_TIME.value_counts()"
   ]
  },
  {
   "cell_type": "code",
   "execution_count": null,
   "metadata": {
    "collapsed": false
   },
   "outputs": [],
   "source": [
    "empl.COMPANY.value_counts()/len(empl)"
   ]
  },
  {
   "cell_type": "code",
   "execution_count": null,
   "metadata": {
    "collapsed": false
   },
   "outputs": [],
   "source": [
    "other_categorical_cols = list(sdf2[(sdf2.datatype == 'object') & (sdf2.arity >19)].sort('arity').Column)\n",
    "other_categorical_cols"
   ]
  },
  {
   "cell_type": "code",
   "execution_count": null,
   "metadata": {
    "collapsed": false
   },
   "outputs": [],
   "source": [
    "cols_to_encode = other_categorical_cols[:6]\n",
    "cols_to_encode.append('JOBCODE')\n",
    "cols_to_encode"
   ]
  },
  {
   "cell_type": "code",
   "execution_count": null,
   "metadata": {
    "collapsed": false
   },
   "outputs": [],
   "source": [
    "cols_to_ignore = other_categorical_cols[8:]\n",
    "cols_to_ignore.append('LOC_CITY')\n",
    "cols_to_ignore"
   ]
  },
  {
   "cell_type": "markdown",
   "metadata": {},
   "source": [
    "## TRY TO FILL IN MISSING AND non-sense Float values\n",
    "SAL*, PERF*, MERIT* \n",
    "\n",
    "replace_float_cols"
   ]
  },
  {
   "cell_type": "code",
   "execution_count": null,
   "metadata": {
    "collapsed": false
   },
   "outputs": [],
   "source": [
    "### first identify the missing cases\n",
    "sum(empl[replace_float_cols[1]].isnull())"
   ]
  },
  {
   "cell_type": "code",
   "execution_count": null,
   "metadata": {
    "collapsed": false
   },
   "outputs": [],
   "source": [
    "for c in replace_float_cols[:-2]:\n",
    "    print c, sum(empl[c].isnull())"
   ]
  },
  {
   "cell_type": "code",
   "execution_count": null,
   "metadata": {
    "collapsed": false
   },
   "outputs": [],
   "source": [
    "sum(empl.FULL_PART_TIME.isnull())"
   ]
  },
  {
   "cell_type": "code",
   "execution_count": null,
   "metadata": {
    "collapsed": false
   },
   "outputs": [],
   "source": [
    "## save the data\n",
    "print empl.shape\n",
    "empl.to_csv('employee_dataframe8.tsv',sep='\\t',index=False)"
   ]
  },
  {
   "cell_type": "code",
   "execution_count": null,
   "metadata": {
    "collapsed": false
   },
   "outputs": [],
   "source": [
    "%cd ../../work/hrsepara/eda/\n",
    "%ls"
   ]
  },
  {
   "cell_type": "code",
   "execution_count": null,
   "metadata": {
    "collapsed": true
   },
   "outputs": [],
   "source": [
    "empl6 = pd.read_csv("
   ]
  },
  {
   "cell_type": "markdown",
   "metadata": {},
   "source": [
    "## May 6, 2015.\n",
    "\n",
    "The above dataset fails to save correctly -- probably too long.\n",
    "### attempt to encode some of the features already.\n",
    "\n"
   ]
  },
  {
   "cell_type": "markdown",
   "metadata": {},
   "source": [
    "# Transform to categorical if <= 19 in arity\n",
    "* one-hot encoding"
   ]
  },
  {
   "cell_type": "code",
   "execution_count": null,
   "metadata": {
    "collapsed": false
   },
   "outputs": [],
   "source": [
    "print [(c,len(empl[c].unique())) for c in cols_to_cat]\n",
    "print \"base_categories\"\n",
    "print \"------------------------\"\n",
    "[(a,empl[a].value_counts().head(1)) for a in cols_to_cat]"
   ]
  },
  {
   "cell_type": "code",
   "execution_count": null,
   "metadata": {
    "collapsed": true
   },
   "outputs": [],
   "source": [
    "def create_factorized_df(input_df,column_name):\n",
    "    tmp_df = pd.get_dummies(input_df[column_name],prefix=column_name)\n",
    "    # now drop the largest category\n",
    "    lgst_category = input_df[column_name].value_counts().index[0]\n",
    "    #print tmp_df.shape, tmp_df.columns\n",
    "    #print lgst_category\n",
    "    base_category = column_name+'_'+str(lgst_category)\n",
    "    tmp_df.drop(base_category,axis=1,inplace=True)\n",
    "    print tmp_df.shape, base_category\n",
    "    return tmp_df,base_category\n",
    "    "
   ]
  },
  {
   "cell_type": "code",
   "execution_count": null,
   "metadata": {
    "collapsed": false
   },
   "outputs": [],
   "source": [
    "# create a dummified dataframe.\n",
    "base_category_list =[]\n",
    "print empl.shape\n",
    "for acol in cols_to_cat:\n",
    "    print acol\n",
    "    t_df,bc1 = create_factorized_df(empl,acol)\n",
    "    # drop the original column\n",
    "    empl.drop(acol,inplace=True,axis=1)\n",
    "    # append the factorized categories\n",
    "    empl = pd.concat([empl,t_df],axis=1)\n",
    "    base_category_list.append(bc1)\n",
    "\n",
    "print empl.shape,len(base_category_list)"
   ]
  },
  {
   "cell_type": "markdown",
   "metadata": {},
   "source": [
    "### encode the other 'categorical' columns"
   ]
  },
  {
   "cell_type": "markdown",
   "metadata": {},
   "source": [
    "## just use label_encoding -- need to improve this later\n"
   ]
  },
  {
   "cell_type": "code",
   "execution_count": null,
   "metadata": {
    "collapsed": true
   },
   "outputs": [],
   "source": []
  },
  {
   "cell_type": "code",
   "execution_count": null,
   "metadata": {
    "collapsed": false
   },
   "outputs": [],
   "source": [
    "[x for x in empl.columns if x.startswith('Ten')]"
   ]
  },
  {
   "cell_type": "code",
   "execution_count": null,
   "metadata": {
    "collapsed": true
   },
   "outputs": [],
   "source": []
  },
  {
   "cell_type": "markdown",
   "metadata": {},
   "source": [
    "### READ the data May 5, 2015"
   ]
  },
  {
   "cell_type": "code",
   "execution_count": null,
   "metadata": {
    "collapsed": false
   },
   "outputs": [],
   "source": [
    "empl[empl.columns[182]].head()"
   ]
  },
  {
   "cell_type": "code",
   "execution_count": null,
   "metadata": {
    "collapsed": false
   },
   "outputs": [],
   "source": [
    "empl2 = pd.read_csv('employee_dataframe8.tsv',sep='\\t')\n",
    "empl2.head(), empl2.shape"
   ]
  },
  {
   "cell_type": "code",
   "execution_count": null,
   "metadata": {
    "collapsed": false
   },
   "outputs": [],
   "source": [
    "## Look at medians of SAL*\n",
    "empl.SAL2.describe(), np.median(empl.SAL2)"
   ]
  },
  {
   "cell_type": "code",
   "execution_count": null,
   "metadata": {
    "collapsed": false
   },
   "outputs": [],
   "source": [
    "## replace by medians -- overal\n",
    "col_float_medians ={}\n",
    "for c in replace_float_cols:\n",
    "    col_float_medians[c] = np.median(empl[c])\n",
    "    empl[c].fillna(col_float_medians[c],inplace=True)\n",
    "\n",
    "col_float_medians\n"
   ]
  },
  {
   "cell_type": "markdown",
   "metadata": {},
   "source": [
    "## remove high-dimensional categorical data"
   ]
  },
  {
   "cell_type": "code",
   "execution_count": null,
   "metadata": {
    "collapsed": false
   },
   "outputs": [],
   "source": [
    "empl.drop(cols_to_ignore,inplace=True,axis=1)\n",
    "empl.shape"
   ]
  },
  {
   "cell_type": "markdown",
   "metadata": {},
   "source": [
    "# Transform to categorical if <= 19 in arity\n",
    "* one-hot encoding"
   ]
  },
  {
   "cell_type": "code",
   "execution_count": null,
   "metadata": {
    "collapsed": false
   },
   "outputs": [],
   "source": [
    "[len(empl[c].unique()) for c in cols_to_cat]"
   ]
  },
  {
   "cell_type": "code",
   "execution_count": null,
   "metadata": {
    "collapsed": false
   },
   "outputs": [],
   "source": [
    "print \"base_categories\"\n",
    "print \"------------------------\"\n",
    "[(a,empl[a].value_counts().head(1)) for a in cols_to_cat]"
   ]
  },
  {
   "cell_type": "markdown",
   "metadata": {},
   "source": [
    "# Now it is ready to use as input into scikitLearn as a matrix\n",
    "The standard notation is to define this as X and save it as a float type\n",
    "Don't forget to create a response variable, y\n",
    "\n",
    "### since the goal is to determine number of separation in a future time point, maybe I should create a target that is the number of tenure years."
   ]
  },
  {
   "cell_type": "code",
   "execution_count": null,
   "metadata": {
    "collapsed": true
   },
   "outputs": [],
   "source": []
  },
  {
   "cell_type": "markdown",
   "metadata": {},
   "source": [
    "## try to apply a rule to grouping categories together\n",
    "* maybe insure that sum of others <= thresh hold (0.005)\n"
   ]
  },
  {
   "cell_type": "code",
   "execution_count": null,
   "metadata": {
    "collapsed": false
   },
   "outputs": [],
   "source": [
    "sdf2[sdf2.Column.isin(cols_to_encode)]"
   ]
  },
  {
   "cell_type": "code",
   "execution_count": null,
   "metadata": {
    "collapsed": false
   },
   "outputs": [],
   "source": [
    "empl.EXT_FUNC_ID_SFI.value_counts()"
   ]
  },
  {
   "cell_type": "code",
   "execution_count": null,
   "metadata": {
    "collapsed": false
   },
   "outputs": [],
   "source": [
    "def apply_thresh(series,thresh=0.003,verbose=False):\n",
    "    myvals = series.value_counts()\n",
    "    n = len(series)\n",
    "    my_thresh = thresh*n\n",
    "    if verbose:\n",
    "        print \"ORIGINAL \\n\"\n",
    "        print myvals/n\n",
    "        print \"_++______\"\n",
    "    print \"{0} original categories reduced to {1} final categories\".format(len(myvals), len(myvals[myvals>my_thresh]))\n",
    "    catchall = myvals[myvals<=my_thresh]\n",
    "    \n",
    "    catchallfrac = catchall.sum()/float(n)\n",
    "    print \"{0} categories grouped into catch-all with {1:.6f} total fraction\".format(len(myvals[myvals<=my_thresh]),catchallfrac)\n",
    "    print \"__________________________\"\n",
    "    categories_to_group = list(catchall.index)\n",
    "    print categories_to_group\n",
    "    #series[series.isin(categories_to_group)] = 'ZZ_other'\n",
    "    return categories_to_group\n",
    "    #print myvals[myvals>my_thresh]\n",
    "    "
   ]
  },
  {
   "cell_type": "code",
   "execution_count": null,
   "metadata": {
    "collapsed": false
   },
   "outputs": [],
   "source": [
    "e2 = apply_thresh(empl.LOC_STATE)\n"
   ]
  },
  {
   "cell_type": "code",
   "execution_count": null,
   "metadata": {
    "collapsed": false
   },
   "outputs": [],
   "source": [
    "empl.loc[empl.LOC_STATE.isin(e2),'LOC_STATE']='ZZ_other'\n",
    "empl.LOC_STATE.value_counts()"
   ]
  },
  {
   "cell_type": "code",
   "execution_count": null,
   "metadata": {
    "collapsed": false
   },
   "outputs": [],
   "source": [
    "#apply_thresh(empl[cols_to_cat[5]])\n",
    "apply_thresh(empl['EMPL_CLASS'],thresh=0.001,verbose=True)"
   ]
  },
  {
   "cell_type": "code",
   "execution_count": null,
   "metadata": {
    "collapsed": false
   },
   "outputs": [],
   "source": [
    "empl.LOC_TYPE_DESCR_SFI.value_counts()"
   ]
  },
  {
   "cell_type": "code",
   "execution_count": null,
   "metadata": {
    "collapsed": false
   },
   "outputs": [],
   "source": [
    "print len(empl[empl.REMOTE==1])\n",
    "empl[empl.REMOTE==1]['LOC_TYPE_DESCR_SFI'].value_counts()"
   ]
  },
  {
   "cell_type": "code",
   "execution_count": null,
   "metadata": {
    "collapsed": false
   },
   "outputs": [],
   "source": [
    "empl[empl.JOB_FAMILY == 'CLMREP']['JOBCODE'].value_counts()"
   ]
  },
  {
   "cell_type": "code",
   "execution_count": null,
   "metadata": {
    "collapsed": false
   },
   "outputs": [],
   "source": [
    "#[sdf[x] for x in sdf.Column if x.endswith('SFI')]\n",
    "col_end_sfi = [x for x in list(sdf.Column.values) if x.endswith('SFI')]\n",
    "sdf[sdf.Column.isin(col_end_sfi)]"
   ]
  },
  {
   "cell_type": "code",
   "execution_count": null,
   "metadata": {
    "collapsed": false
   },
   "outputs": [],
   "source": [
    "empl_bene[empl_bene.EXT_FUNC_ID_SFI=='00000']#.unique()"
   ]
  },
  {
   "cell_type": "markdown",
   "metadata": {},
   "source": [
    "## get hire year"
   ]
  },
  {
   "cell_type": "code",
   "execution_count": null,
   "metadata": {
    "collapsed": false
   },
   "outputs": [],
   "source": [
    "atime = empl_bene['HIRE_DT'].ix[0]\n",
    "str(atime)"
   ]
  },
  {
   "cell_type": "code",
   "execution_count": null,
   "metadata": {
    "collapsed": false
   },
   "outputs": [],
   "source": [
    "str(atime)[5:7]"
   ]
  },
  {
   "cell_type": "code",
   "execution_count": null,
   "metadata": {
    "collapsed": false
   },
   "outputs": [],
   "source": [
    "empl_bene['hire_month'] = empl_bene['HIRE_DT'].apply(lambda x: int(str(x)[5:7]))\n",
    "empl_bene['hire_month'].hist(bins=12,color='darkorchid')"
   ]
  },
  {
   "cell_type": "code",
   "execution_count": null,
   "metadata": {
    "collapsed": false
   },
   "outputs": [],
   "source": [
    "empl_bene['hire_year'] = empl_bene['HIRE_DT'].apply(lambda x: int(str(x)[:4]))\n",
    "empl_bene.hire_year.describe()"
   ]
  },
  {
   "cell_type": "code",
   "execution_count": null,
   "metadata": {
    "collapsed": false
   },
   "outputs": [],
   "source": [
    "empl_bene.hire_year.hist(bins=70)"
   ]
  },
  {
   "cell_type": "markdown",
   "metadata": {},
   "source": [
    "## how many are there if we require hire_date > some date?\n"
   ]
  },
  {
   "cell_type": "code",
   "execution_count": null,
   "metadata": {
    "collapsed": false
   },
   "outputs": [],
   "source": [
    "empl_bene.HIRE_DT.ix[0]"
   ]
  },
  {
   "cell_type": "code",
   "execution_count": null,
   "metadata": {
    "collapsed": false
   },
   "outputs": [],
   "source": [
    "test_hire_date = pd.to_datetime('2002-11-30') #datetime(2002,11,30)\n",
    "test_hire_date"
   ]
  },
  {
   "cell_type": "code",
   "execution_count": null,
   "metadata": {
    "collapsed": false
   },
   "outputs": [],
   "source": [
    "emplB = empl_bene[empl_bene.HIRE_DT > test_hire_date].copy()\n",
    "print len(emplB)\n",
    "print emplB.status.value_counts()\n",
    "print emplB.sep_status.value_counts()\n"
   ]
  },
  {
   "cell_type": "code",
   "execution_count": null,
   "metadata": {
    "collapsed": false
   },
   "outputs": [],
   "source": [
    "#test_term_date = #test_hire_date\n",
    "test_term_date = pd.to_datetime('2002-12-31')\n",
    "emplC= empl[empl.TERMINATION_DT > test_term_date].copy()\n",
    "print len(emplC)\n",
    "print emplC.status.value_counts()\n",
    "print emplC.sep_status.value_counts()"
   ]
  },
  {
   "cell_type": "code",
   "execution_count": null,
   "metadata": {
    "collapsed": false
   },
   "outputs": [],
   "source": [
    "emplC.RATE1.value_counts()"
   ]
  },
  {
   "cell_type": "code",
   "execution_count": null,
   "metadata": {
    "collapsed": true
   },
   "outputs": [],
   "source": [
    "def split_rate_column(x):\n",
    "    list_of_defined_values = ['R1C1','R1C2','R1C3',\n",
    "                              'R2C1','R2C2','R2C3',\n",
    "                              'R3C1','R3C2','R3C3']\n",
    "    #rcol=[]\n",
    "    #ccol=[]\n",
    "    if x in list_of_defined_values:\n",
    "        rval = int(x[1])#col.append(x[1])\n",
    "        cval = int(x[3]) #col.append(x[3])\n",
    "        #print x[1],x[3]\n",
    "    else:\n",
    "        #rcol.append(0)\n",
    "        #ccol.append(0)\n",
    "        rval = 0\n",
    "        cval = 0\n",
    "    return rval,cval"
   ]
  },
  {
   "cell_type": "code",
   "execution_count": null,
   "metadata": {
    "collapsed": false
   },
   "outputs": [],
   "source": [
    "#rcol,ccol = \n",
    "input_column = 'RATE1'\n",
    "rval = [x[0] for x in emplC[input_column].apply(lambda(x): split_rate_column(x)).as_matrix()]\n",
    "cval = [x[1] for x in emplC[input_column].apply(lambda(x): split_rate_column(x)).as_matrix()]"
   ]
  },
  {
   "cell_type": "code",
   "execution_count": null,
   "metadata": {
    "collapsed": false
   },
   "outputs": [],
   "source": [
    "emplC[input_column+'_R'] = rval\n",
    "emplC[input_column+'_C'] = cval\n",
    "emplC[['RATE1','RATE1_R','RATE1_C']].head()"
   ]
  },
  {
   "cell_type": "code",
   "execution_count": null,
   "metadata": {
    "collapsed": true
   },
   "outputs": [],
   "source": [
    "def convert_rate_column(df,input_column):\n",
    "    rval = [x[0] for x in df[input_column].apply(lambda(x): split_rate_column(x)).as_matrix()]\n",
    "    cval = [x[1] for x in df[input_column].apply(lambda(x): split_rate_column(x)).as_matrix()]\n",
    "    df[input_column+'_R'] = rval\n",
    "    df[input_column+'_C'] = cval\n",
    "    df.drop(input_column,inplace=True,axis=1)\n",
    "    return df"
   ]
  },
  {
   "cell_type": "code",
   "execution_count": null,
   "metadata": {
    "collapsed": false
   },
   "outputs": [],
   "source": [
    "### convert the RATINGS columns\n",
    "for col in ['RATE1','RATE2','RATE3','RATE4','RATE5','RATE6','RATE7','RATE8','RATE9','RATE10']:\n",
    "    print col\n",
    "    emplC = convert_rate_column(emplC,col)"
   ]
  },
  {
   "cell_type": "code",
   "execution_count": null,
   "metadata": {
    "collapsed": false
   },
   "outputs": [],
   "source": [
    "emplC.shape"
   ]
  },
  {
   "cell_type": "markdown",
   "metadata": {
    "collapsed": false
   },
   "source": [
    "## begin to Standardize some of these other columns\n",
    "\n"
   ]
  },
  {
   "cell_type": "code",
   "execution_count": null,
   "metadata": {
    "collapsed": false
   },
   "outputs": [],
   "source": [
    "empltbl3.EMPL_CLASS.value_counts(), empltbl3.EMPL_CLASS.unique()"
   ]
  },
  {
   "cell_type": "code",
   "execution_count": null,
   "metadata": {
    "collapsed": false
   },
   "outputs": [],
   "source": [
    "empltbl3.EMPL_TYPE.value_counts()"
   ]
  },
  {
   "cell_type": "code",
   "execution_count": null,
   "metadata": {
    "collapsed": false
   },
   "outputs": [],
   "source": [
    "pd.crosstab(empltbl3.EMPL_TYPE,empltbl3.EMPL_CLASS)"
   ]
  },
  {
   "cell_type": "code",
   "execution_count": null,
   "metadata": {
    "collapsed": false
   },
   "outputs": [],
   "source": [
    "pd.crosstab(empl.COMPANY,empl.EMPL_TYPE)"
   ]
  },
  {
   "cell_type": "code",
   "execution_count": null,
   "metadata": {
    "collapsed": false
   },
   "outputs": [],
   "source": [
    "pd.crosstab(empl.COMPANY,empl.EMPL_CLASS)"
   ]
  },
  {
   "cell_type": "code",
   "execution_count": null,
   "metadata": {
    "collapsed": false
   },
   "outputs": [],
   "source": [
    "pd.crosstab(emplC.COMPANY,emplC.EMPL_CLASS)"
   ]
  },
  {
   "cell_type": "code",
   "execution_count": null,
   "metadata": {
    "collapsed": false
   },
   "outputs": [],
   "source": [
    "empl[empl.COMPANY=='049'].LOC_STATE.value_counts()"
   ]
  },
  {
   "cell_type": "code",
   "execution_count": null,
   "metadata": {
    "collapsed": false
   },
   "outputs": [],
   "source": []
  },
  {
   "cell_type": "code",
   "execution_count": null,
   "metadata": {
    "collapsed": false
   },
   "outputs": [],
   "source": [
    "empl.COMPANY.value_counts()"
   ]
  },
  {
   "cell_type": "code",
   "execution_count": null,
   "metadata": {
    "collapsed": false
   },
   "outputs": [],
   "source": [
    "sdfC[sdfC.arity>4].sort('arity')"
   ]
  },
  {
   "cell_type": "code",
   "execution_count": null,
   "metadata": {
    "collapsed": false
   },
   "outputs": [],
   "source": [
    "print len(empltbl3.LEGACY_DEPT_SFI.unique())"
   ]
  },
  {
   "cell_type": "code",
   "execution_count": null,
   "metadata": {
    "collapsed": false
   },
   "outputs": [],
   "source": [
    "empltbl3.LEGACY_DEPT_SFI.value_counts()"
   ]
  },
  {
   "cell_type": "code",
   "execution_count": null,
   "metadata": {
    "collapsed": false
   },
   "outputs": [],
   "source": [
    "sdfC[sdfC['arity']<40000].sort('arity',ascending=False)"
   ]
  },
  {
   "cell_type": "code",
   "execution_count": null,
   "metadata": {
    "collapsed": false
   },
   "outputs": [],
   "source": [
    "len(empltbl3.LOCATION.unique()"
   ]
  },
  {
   "cell_type": "code",
   "execution_count": null,
   "metadata": {
    "collapsed": false
   },
   "outputs": [],
   "source": [
    "Bcolumns_without_missing_values = list(sdfB[sdfB.x_missing == 0].Column.values)\n",
    "Bcolumns_with_missing_values = list(sdfB[sdfB.x_missing > 0].Column.values)\n",
    "print len(Bcolumns_with_missing_values), len(sdfB)"
   ]
  },
  {
   "cell_type": "code",
   "execution_count": null,
   "metadata": {
    "collapsed": false
   },
   "outputs": [],
   "source": [
    "sdfB.sort('x_missing',ascending=False)"
   ]
  },
  {
   "cell_type": "code",
   "execution_count": null,
   "metadata": {
    "collapsed": false
   },
   "outputs": [],
   "source": [
    "sdf2 = summarize_dataframe2(empl)"
   ]
  },
  {
   "cell_type": "code",
   "execution_count": null,
   "metadata": {
    "collapsed": false
   },
   "outputs": [],
   "source": [
    "sdf2['x_missing'] = sdf2['nmissing']/len(empl)\n",
    "sdf2.sort('x_missing',ascending=False)"
   ]
  },
  {
   "cell_type": "code",
   "execution_count": null,
   "metadata": {
    "collapsed": false
   },
   "outputs": [],
   "source": [
    "columns_with_missing_values2 = list(sdf2[sdf2.x_missing>0].Column.values)\n",
    "len(columns_with_missing_values2)"
   ]
  },
  {
   "cell_type": "code",
   "execution_count": null,
   "metadata": {
    "collapsed": false
   },
   "outputs": [],
   "source": [
    "sdf2[(sdf2.x_missing>0) & (sdf2.datatype != 'float64')]#.datatype.unique()"
   ]
  },
  {
   "cell_type": "code",
   "execution_count": null,
   "metadata": {
    "collapsed": false
   },
   "outputs": [],
   "source": [
    "print len(empl.RATE1.unique()), \n",
    "print empl.RATE1.unique()"
   ]
  },
  {
   "cell_type": "code",
   "execution_count": null,
   "metadata": {
    "collapsed": false
   },
   "outputs": [],
   "source": [
    "empl.RATE1.value_counts()"
   ]
  },
  {
   "cell_type": "code",
   "execution_count": null,
   "metadata": {
    "collapsed": false
   },
   "outputs": [],
   "source": [
    "len(empl[empl.RATE1 == 'R3C1'])"
   ]
  },
  {
   "cell_type": "code",
   "execution_count": null,
   "metadata": {
    "collapsed": false
   },
   "outputs": [],
   "source": [
    "empl[empl.RATE1 == 'COMM']['TERMINATION_DT'].describe()#max()#[['hire_year','TERMINATION_DT','status','sep_status']]"
   ]
  },
  {
   "cell_type": "code",
   "execution_count": null,
   "metadata": {
    "collapsed": true
   },
   "outputs": [],
   "source": []
  },
  {
   "cell_type": "code",
   "execution_count": null,
   "metadata": {
    "collapsed": false
   },
   "outputs": [],
   "source": [
    "print sum(empl_bene.MAR_STATUS_DT.isnull())\n",
    "empl_bene[empl_bene.MAR_STATUS_DT.isnull()][['HIRE_DT','TERMINATION_DT','MAR_STA_SNAME_SFI']]"
   ]
  },
  {
   "cell_type": "code",
   "execution_count": null,
   "metadata": {
    "collapsed": true
   },
   "outputs": [],
   "source": []
  },
  {
   "cell_type": "code",
   "execution_count": null,
   "metadata": {
    "collapsed": false
   },
   "outputs": [],
   "source": [
    "\n",
    "#empl_bene.drop('STATE',axis=1,inplace=True)\n",
    "#pd.crosstab(empl_bene['STATE'],empl_bene['LOC_STATE'])"
   ]
  },
  {
   "cell_type": "code",
   "execution_count": null,
   "metadata": {
    "collapsed": false
   },
   "outputs": [],
   "source": [
    "set(columns_with_missing_values)-set(Bcolumns_with_missing_values)"
   ]
  },
  {
   "cell_type": "code",
   "execution_count": null,
   "metadata": {
    "collapsed": false
   },
   "outputs": [],
   "source": [
    "# look at these distributions\n",
    "plt.figure(figsize=(12,8))\n",
    "emplC[emplC.status==0].Age_years.hist(bins=70,range=[15,84],color='darkred',label='current',alpha=0.8,normed=True)\n",
    "emplC[emplC.status==1].Age_years.hist(bins=70,range=[15,84],color='dodgerblue',label='former',alpha=0.5,normed=True)\n",
    "plt.legend()\n",
    "plt.xlabel('Age in years')\n",
    "plt.ylabel('Normed Counts')\n",
    "plt.title('Distribution of Worforce Ages')"
   ]
  },
  {
   "cell_type": "code",
   "execution_count": null,
   "metadata": {
    "collapsed": false
   },
   "outputs": [],
   "source": [
    "# look at these distributions\n",
    "plt.figure(figsize=(12,8))\n",
    "emplB[emplB.status==0].Tenure_years.hist(bins=36,range=[0,35],color='darkred',label='current',alpha=0.8,normed=True)\n",
    "emplB[emplB.status==1].Tenure_years.hist(bins=36,range=[0,35],color='dodgerblue',label='former',alpha=0.5,normed=True)\n",
    "plt.legend()\n",
    "plt.xlabel('Age in years')\n",
    "plt.ylabel('Normed Counts')\n",
    "plt.title('Distribution of Worforce Ages')"
   ]
  },
  {
   "cell_type": "code",
   "execution_count": null,
   "metadata": {
    "collapsed": false
   },
   "outputs": [],
   "source": [
    "empl_bene.zip5.value_counts()"
   ]
  },
  {
   "cell_type": "code",
   "execution_count": null,
   "metadata": {
    "collapsed": false
   },
   "outputs": [],
   "source": [
    "label_encoder.fit_transform(empl_bene['SEX'])\n",
    "#empl_bene.SEX.head() #df['State'] = label_encoder.fit_transform(df['State'])"
   ]
  },
  {
   "cell_type": "code",
   "execution_count": null,
   "metadata": {
    "collapsed": true
   },
   "outputs": [],
   "source": [
    "empl_bene['COMP_FREQ_HOURLY'] = label_encoder.fit_transform(empl_bene['COMP_FREQUENCY'])\n",
    "empl_bene.drop([],axis=1,inplace=True)\n"
   ]
  },
  {
   "cell_type": "code",
   "execution_count": null,
   "metadata": {
    "collapsed": false
   },
   "outputs": [],
   "source": [
    "empl_bene.COMP_FREQUENCY.head()"
   ]
  },
  {
   "cell_type": "code",
   "execution_count": null,
   "metadata": {
    "collapsed": true
   },
   "outputs": [],
   "source": [
    "##\n",
    "empl_bene['COMP_FREQ_ANNUAL'] = 1\n",
    "empl_bene.loc[empl_bene['COMP_FREQUENCY']=='H','COMP_FREQ_ANNUAL'] = 0\n",
    "empl_bene.drop('COMP_FREQUENCY',axis=1,inplace=True)"
   ]
  },
  {
   "cell_type": "markdown",
   "metadata": {},
   "source": [
    "## Save this dataframe as a tab separated file"
   ]
  },
  {
   "cell_type": "code",
   "execution_count": null,
   "metadata": {
    "collapsed": false
   },
   "outputs": [],
   "source": [
    "outfile1 = 'employee_dataframe.tsv'\n",
    "save_dataframe_file = True\n",
    "if save_dataframe_file:\n",
    "    empltbl3.to_csv(outfile1,sep='\\t')"
   ]
  },
  {
   "cell_type": "markdown",
   "metadata": {},
   "source": [
    "## convert datetime64[ns] format to a string ---> YYYY-MM-DD \n",
    "use date_columns"
   ]
  },
  {
   "cell_type": "code",
   "execution_count": null,
   "metadata": {
    "collapsed": false
   },
   "outputs": [],
   "source": [
    "for c in date_columns:\n",
    "    empltbl3[c]= empltbl3[c].apply(lambda x: str(x).split(' ')[0])"
   ]
  },
  {
   "cell_type": "code",
   "execution_count": null,
   "metadata": {
    "collapsed": false
   },
   "outputs": [],
   "source": [
    "for col in empltbl3.columns:\n",
    "    my_dtype = empltbl3[col].dtype\n",
    "    if my_dtype != 'object' and my_dtype != 'float64' and my_dtype != 'int64':\n",
    "        print col, \"\\t\", empltbl3[col].dtype, \"\\t\",empltbl3[col].ix[8] "
   ]
  },
  {
   "cell_type": "code",
   "execution_count": null,
   "metadata": {
    "collapsed": false
   },
   "outputs": [],
   "source": [
    "### try converting the timedeltas to floats\n",
    "empltbl3['Age_tdelta'].ix[3].astype('float')/(60*60*24*10**9)"
   ]
  },
  {
   "cell_type": "code",
   "execution_count": null,
   "metadata": {
    "collapsed": false
   },
   "outputs": [],
   "source": [
    "nano2days = 60.*60.*24.*10**9\n",
    "empltbl3['Age_days'] = empltbl3['Age_tdelta'].apply(lambda x: x.astype('float')/(nano2days))\n",
    "empltbl3['Tenure_days'] = empltbl3['Tenure_tdelta'].apply(lambda x: x.astype('float')/(nano2days))"
   ]
  },
  {
   "cell_type": "code",
   "execution_count": null,
   "metadata": {
    "collapsed": false
   },
   "outputs": [],
   "source": [
    "empltbl3.drop(['Age_tdelta','Tenure_tdelta'], axis=1,inplace=True)\n",
    "empltbl3.shape"
   ]
  },
  {
   "cell_type": "code",
   "execution_count": null,
   "metadata": {
    "collapsed": false
   },
   "outputs": [],
   "source": [
    "len(empltbl3.Age_days.unique()), len(empltbl3.Tenure_days.unique())"
   ]
  },
  {
   "cell_type": "code",
   "execution_count": null,
   "metadata": {
    "collapsed": false
   },
   "outputs": [],
   "source": [
    "empltbl.Age_years.ix[:10].apply(lambda x: int(np.round(x,0)))"
   ]
  },
  {
   "cell_type": "code",
   "execution_count": null,
   "metadata": {
    "collapsed": false
   },
   "outputs": [],
   "source": [
    "# Keep just the year\n",
    "empltbl_dates = empltbl[date_columns].copy() # save the dates.\n",
    "for c in date_columns:\n",
    "    #print c\n",
    "    if c.endswith('DT'):\n",
    "        c2 = c[:-2]+'YEAR'\n",
    "    else:\n",
    "        c2 = c[:-4]+'_YEAR'\n",
    "    #print c2\n",
    "    empltbl[c2]= empltbl[c].apply(lambda x: x[:4])"
   ]
  },
  {
   "cell_type": "code",
   "execution_count": null,
   "metadata": {
    "collapsed": false
   },
   "outputs": [],
   "source": [
    "empltbl.drop(date_columns,axis=1,inplace=True)"
   ]
  },
  {
   "cell_type": "code",
   "execution_count": null,
   "metadata": {
    "collapsed": true
   },
   "outputs": [],
   "source": [
    "empltbl['Age_year_int'] = empltbl['Age_years'].apply(lambda x: int(np.round(x,0)))\n",
    "empltbl['Tenure_year_int'] = empltbl['Tenure_months'].apply(lambda x: int(np.round(x/12,0)))"
   ]
  },
  {
   "cell_type": "code",
   "execution_count": null,
   "metadata": {
    "collapsed": false
   },
   "outputs": [],
   "source": [
    "len(empltbl.Age_year_int.unique()), len(empltbl.Tenure_year_int.unique())"
   ]
  },
  {
   "cell_type": "code",
   "execution_count": null,
   "metadata": {
    "collapsed": false
   },
   "outputs": [],
   "source": [
    "empltbl.Tenure_year_int.value_counts().plot(kind='bar',color='darkslateblue')"
   ]
  },
  {
   "cell_type": "code",
   "execution_count": null,
   "metadata": {
    "collapsed": false
   },
   "outputs": [],
   "source": [
    "#now save this version for H2O\n",
    "outfile2 = 'employee_dataframe2.ssv'\n",
    "save_dataframe_file = True\n",
    "if save_dataframe_file:\n",
    "    empltbl.to_csv(outfile2,sep=';')"
   ]
  },
  {
   "cell_type": "code",
   "execution_count": null,
   "metadata": {
    "collapsed": false
   },
   "outputs": [],
   "source": [
    "empltbl.shape"
   ]
  },
  {
   "cell_type": "code",
   "execution_count": null,
   "metadata": {
    "collapsed": false
   },
   "outputs": [],
   "source": [
    "# duplicated employee keys:\n",
    "#[empltbl.KEY.value_counts() > 1]\n",
    "dup_empl_keys = []\n",
    "empltblKEYcounts = empltbl.KEY.value_counts()\n",
    "for a in empltblKEYcounts[empltblKEYcounts>1].index:\n",
    "    print a\n",
    "    dup_empl_keys.append(a)\n",
    "\n",
    "for empkey in dup_empl_keys:\n",
    "    print empltbl[empltbl.KEY == empkey]"
   ]
  },
  {
   "cell_type": "markdown",
   "metadata": {},
   "source": [
    "## Continue to Refine the input data"
   ]
  },
  {
   "cell_type": "code",
   "execution_count": null,
   "metadata": {
    "collapsed": false
   },
   "outputs": [],
   "source": []
  },
  {
   "cell_type": "code",
   "execution_count": null,
   "metadata": {
    "collapsed": false
   },
   "outputs": [],
   "source": [
    "sum(empltbl3.zip5.isnull())"
   ]
  },
  {
   "cell_type": "code",
   "execution_count": null,
   "metadata": {
    "collapsed": false
   },
   "outputs": [],
   "source": [
    "empltbl3[empltbl3.zip5=='SW18 '].values"
   ]
  },
  {
   "cell_type": "code",
   "execution_count": null,
   "metadata": {
    "collapsed": false
   },
   "outputs": [],
   "source": [
    "empltbl3[empltbl3['STATE'].isnull()][['POSTAL_SFI','zip5','LOC_STATE','ADDRESS1']]"
   ]
  },
  {
   "cell_type": "code",
   "execution_count": null,
   "metadata": {
    "collapsed": false
   },
   "outputs": [],
   "source": [
    "sdf = summarize_dataframe2(empltbl3)"
   ]
  },
  {
   "cell_type": "markdown",
   "metadata": {
    "collapsed": true
   },
   "source": [
    "## Examine cleaning up the different feature (covariate) columns for anylysis on them.\n"
   ]
  },
  {
   "cell_type": "markdown",
   "metadata": {},
   "source": [
    "### restrict the dataframe to do linear-regression on.\n",
    "* first attempt is _ad hoc_ reduction of 185 columns\n",
    "    * keep age_years, tenure_months, status, sex for sure\n",
    "* look at cases where there is 'significant' correlation between columns:\n",
    "    * for example JOBCNTx, LOCCNTx, DEPTCNTx, ..."
   ]
  },
  {
   "cell_type": "code",
   "execution_count": null,
   "metadata": {
    "collapsed": false
   },
   "outputs": [],
   "source": [
    "# define the set of columns that have missing values smaller than some threshold \n",
    "sdf['x_missing'] = sdf['nmissing']/len(empltbl3)\n",
    "len(sdf[sdf['x_missing'] > 0]), len(sdf)"
   ]
  },
  {
   "cell_type": "code",
   "execution_count": null,
   "metadata": {
    "collapsed": false
   },
   "outputs": [],
   "source": [
    "sdf['y_arity'] = sdf['arity']/len(empltbl)\n",
    "sdf['y_arity'].hist(bins=30,color='deepskyblue')"
   ]
  },
  {
   "cell_type": "code",
   "execution_count": null,
   "metadata": {
    "collapsed": false
   },
   "outputs": [],
   "source": [
    "sdf['x_missing'].hist(bins=30,color='deeppink')"
   ]
  },
  {
   "cell_type": "code",
   "execution_count": null,
   "metadata": {
    "collapsed": false
   },
   "outputs": [],
   "source": [
    "sdf.to_csv('employee_table_summary_3.csv')\n",
    "# save to file"
   ]
  },
  {
   "cell_type": "code",
   "execution_count": null,
   "metadata": {
    "collapsed": false
   },
   "outputs": [],
   "source": [
    "len(sdf)"
   ]
  },
  {
   "cell_type": "code",
   "execution_count": null,
   "metadata": {
    "collapsed": true
   },
   "outputs": [],
   "source": [
    "# now apply some logic to these columns for keeping and not\n",
    "columns_to_fix_missing = []\n",
    "columns_to_fix_NY = []\n",
    "columns_to_omit = []"
   ]
  },
  {
   "cell_type": "markdown",
   "metadata": {},
   "source": [
    "### Procedure applies:\n",
    "* Omit those that more than 25% missing.\n",
    "* identify those that have between 0.1% and 25% missing\n",
    "* add back in 2 columns of interest:\n",
    "* Fix the missing values (imputation):\n",
    "    - if categorical create new column\n",
    "    - if float/int assign median\n",
    "* convert Y/N to 1/0\n",
    "* convert other columns\n",
    "\n"
   ]
  },
  {
   "cell_type": "code",
   "execution_count": null,
   "metadata": {
    "collapsed": false
   },
   "outputs": [],
   "source": [
    "# omit those that have more than 25% missing:\n",
    "missing_threshold = 0.25\n",
    "columns_to_omit = list(sdf[sdf['x_missing'] > missing_threshold].Column.values)\n",
    "print len(columns_to_omit)\n",
    "#columns_to_omit"
   ]
  },
  {
   "cell_type": "code",
   "execution_count": null,
   "metadata": {
    "collapsed": false
   },
   "outputs": [],
   "source": [
    "#missing_threshold = 0.25\n",
    "print len(sdf[(sdf['x_missing']>0) & (sdf['x_missing'] <= missing_threshold)])\n",
    "columns_to_fix_missing = list(sdf[(sdf['x_missing']>0) & (sdf['x_missing'] <= missing_threshold)].Column.values)\n",
    "#print len(columns_to_fix_missing)"
   ]
  },
  {
   "cell_type": "code",
   "execution_count": null,
   "metadata": {
    "collapsed": false
   },
   "outputs": [],
   "source": [
    "# add JOB_FAMILY and JOB_FUNCTION back into those to keep\n",
    "job_columns_of_interest = ['JOB_FAMILY','JOB_FUNCTION']\n",
    "for jcol in job_columns_of_interest:\n",
    "    columns_to_omit.remove(jcol)\n",
    "    columns_to_fix_missing.append(jcol)\n",
    "\n",
    "len(columns_to_omit), len(columns_to_fix_missing)"
   ]
  },
  {
   "cell_type": "markdown",
   "metadata": {},
   "source": [
    "### look at the ones to fix missing that are objects"
   ]
  },
  {
   "cell_type": "code",
   "execution_count": null,
   "metadata": {
    "collapsed": false,
    "scrolled": true
   },
   "outputs": [],
   "source": [
    "sdf[sdf.Column.isin(columns_to_fix_missing)]"
   ]
  },
  {
   "cell_type": "code",
   "execution_count": null,
   "metadata": {
    "collapsed": false
   },
   "outputs": [],
   "source": [
    "#sdf.ix[columns_to_fix_missing.index].datatype.value_counts()\n",
    "sdf[sdf.Column.isin(columns_to_fix_missing)].datatype.value_counts()"
   ]
  },
  {
   "cell_type": "markdown",
   "metadata": {},
   "source": [
    "## Logic to fix the missing (objects)"
   ]
  },
  {
   "cell_type": "code",
   "execution_count": null,
   "metadata": {
    "collapsed": false
   },
   "outputs": [],
   "source": [
    "sdf[(sdf.Column.isin(columns_to_fix_missing)) & (sdf.datatype == 'object')]"
   ]
  },
  {
   "cell_type": "code",
   "execution_count": null,
   "metadata": {
    "collapsed": false
   },
   "outputs": [],
   "source": [
    "## try to compare state & loc_state to resolve\n",
    "len(empltbl3[(empltbl3.STATE.isnull()) & (empltbl3.LOC_STATE.isnull())])"
   ]
  },
  {
   "cell_type": "code",
   "execution_count": null,
   "metadata": {
    "collapsed": false
   },
   "outputs": [],
   "source": [
    "empltbl3.LOC_TYPE_DESCR_SFI.ix[:10]"
   ]
  },
  {
   "cell_type": "markdown",
   "metadata": {},
   "source": [
    "### only 62 have both LOC_STATE and STATE missing --> compare the values of each"
   ]
  },
  {
   "cell_type": "code",
   "execution_count": null,
   "metadata": {
    "collapsed": false
   },
   "outputs": [],
   "source": [
    "len(empltbl3[(empltbl3.STATE!= empltbl3.LOC_STATE)][['STATE','LOC_STATE','zip5','LOC_CITY']])"
   ]
  },
  {
   "cell_type": "code",
   "execution_count": null,
   "metadata": {
    "collapsed": false
   },
   "outputs": [],
   "source": [
    "print len(empltbl3[(empltbl3.STATE.isnull()) & (empltbl3.LOC_STATE.notnull())][['STATE','LOC_STATE','zip5','LOC_CITY']])\n",
    "empltbl3[(empltbl3.STATE.isnull()) & (empltbl3.LOC_STATE.notnull())][['STATE','LOC_STATE','zip5','LOC_CITY']]"
   ]
  },
  {
   "cell_type": "markdown",
   "metadata": {},
   "source": [
    "* ACTRES1,ACTRES2,'ADDRESS1 --> to 'MISSING'\n",
    "* EXT_FUNC_ID_SFI,FUNC_ID_SFI,zip5 --> XXXXX\n",
    "* GRADE_JOB_FUNCTION --> XXX"
   ]
  },
  {
   "cell_type": "code",
   "execution_count": null,
   "metadata": {
    "collapsed": true
   },
   "outputs": [],
   "source": [
    "chg_to_MISSING =['ACTRES1','ACTRES2','ADDRESS1','POSTAL_SFI','JOB_FAMILY', 'LOC_CITY','LOC_TYPE_DESCR_SFI']\n",
    "chg_to_XXXXX = ['EXT_FUNC_ID_SFI','FUNC_ID_SFI','zip5']\n",
    "chg_to_XXX = ['GRADE','JOB_FUNCTION']\n",
    "chg_to_XX = ['STATE','LOC_STATE']"
   ]
  },
  {
   "cell_type": "code",
   "execution_count": null,
   "metadata": {
    "collapsed": false
   },
   "outputs": [],
   "source": [
    "#'MISSING' in empltbl3.LOC_STATE.unique()\n",
    "#empltbl3.LOC_STATE.ix[:10]\n",
    "for acolumn in chg_to_MISSING:\n",
    "    empltbl3.fillna({acolumn: 'MISSING'},inplace=True)\n",
    "\n",
    "for acolumn in chg_to_XXXXX:\n",
    "    empltbl3.fillna({acolumn: 'XXXXX'},inplace=True)\n",
    "\n",
    "for acolumn in chg_to_XXX:\n",
    "    empltbl3.fillna({acolumn: 'XXX'},inplace=True)\n",
    "\n",
    "for acolumn in chg_to_XX:\n",
    "    empltbl3.fillna({acolumn: 'XX'},inplace=True)\n"
   ]
  },
  {
   "cell_type": "markdown",
   "metadata": {},
   "source": [
    "* DIVISION_CODE_SFI --> 15 missing replace with -1 and cast as int"
   ]
  },
  {
   "cell_type": "code",
   "execution_count": null,
   "metadata": {
    "collapsed": false
   },
   "outputs": [],
   "source": [
    "empltbl3.fillna({'DIVISION_CODE_SFI': -1},inplace=True)\n",
    "empltbl3['DIVISION_CODE_SFI'] = empltbl3['DIVISION_CODE_SFI'].apply(lambda x: int(x)) \n",
    "empltbl3.DIVISION_CODE_SFI.ix[:10]"
   ]
  },
  {
   "cell_type": "code",
   "execution_count": null,
   "metadata": {
    "collapsed": false
   },
   "outputs": [],
   "source": [
    "### Now for non-objects that were missing:\n",
    "sdf[(sdf.Column.isin(columns_to_fix_missing)) & (sdf.datatype == 'float64')]"
   ]
  },
  {
   "cell_type": "markdown",
   "metadata": {},
   "source": [
    "###  logic\n",
    "* change a few floats to ints:\n",
    "    - ADDRCNT1,ADDRCNT10,ADDRCNT3,ADDRCNT5,EXTFUNC_CNT,FUNC_CNT\n",
    "    - assign -1 to missing\n",
    "* replace missing with median for others (PERF, MERIT, SAL)"
   ]
  },
  {
   "cell_type": "code",
   "execution_count": null,
   "metadata": {
    "collapsed": true
   },
   "outputs": [],
   "source": [
    "missing_float_to_int = ['ADDRCNT1','ADDRCNT10','ADDRCNT3','ADDRCNT5','EXTFUNC_CNT','FUNC_CNT']\n",
    "for acolumn in missing_float_to_int:\n",
    "    empltbl3.fillna({acolumn: -1},inplace=True)\n",
    "    empltbl3[acolumn] = empltbl3[acolumn].apply(lambda x: int(x)) \n",
    "    "
   ]
  },
  {
   "cell_type": "code",
   "execution_count": null,
   "metadata": {
    "collapsed": false
   },
   "outputs": [],
   "source": [
    "missing_float_to_median = list(sdf[(sdf.Column.isin(columns_to_fix_missing)) & (sdf.datatype == 'float64')].Column[6:].values)"
   ]
  },
  {
   "cell_type": "code",
   "execution_count": null,
   "metadata": {
    "collapsed": false
   },
   "outputs": [],
   "source": [
    "missing_median_values_series = empltbl3[missing_float_to_median].median()\n",
    "missing_median_values_series.head()"
   ]
  },
  {
   "cell_type": "code",
   "execution_count": null,
   "metadata": {
    "collapsed": false
   },
   "outputs": [],
   "source": [
    "missing_median_values_series.loc['PERF4']"
   ]
  },
  {
   "cell_type": "code",
   "execution_count": null,
   "metadata": {
    "collapsed": false
   },
   "outputs": [],
   "source": [
    "for acolumn in missing_float_to_median:\n",
    "    med_value = missing_median_values_series.loc[acolumn]\n",
    "    print acolumn, med_value\n",
    "    empltbl3.fillna({acolumn:med_value},inplace=True)"
   ]
  },
  {
   "cell_type": "markdown",
   "metadata": {
    "collapsed": false
   },
   "source": [
    "### Again from an  __ad hoc__ perspective, reduce the number of columns.\n",
    "The reasoning being that the data is historical or potentially redundant (e.g. Tenure_tdelta + Tenure_years)"
   ]
  },
  {
   "cell_type": "code",
   "execution_count": null,
   "metadata": {
    "collapsed": false
   },
   "outputs": [],
   "source": [
    "# add the ACTRES2/3 and ADDRESS1/2 lines\n",
    "# add *_tdelta, BIRTHDATE, PER_ORG\n",
    "# add POSTAL_SFI, zip5, MAR_STA_SNAME_SFI, LOC_TYPE_DESC_SFI\n",
    "others_to_omit = ['ADDRESS1','Age_tdelta','BIRTHDATE','LAST_HIRE_DT',\n",
    "                  'LOC_CITY','LOC_TYPE_DESCR_SFI','MAR_STATUS_DT','MAR_STA_SNAME_SFI',\n",
    "                  'PER_ORG','POSTAL_SFI','SKEY','SERVICE_DT','TERMINATION_DT',\n",
    "                  'Tenure_tdelta','zip5']#'TOT_MO_SERVICE_SFI','Tenure_months']\n",
    "                 #'MERIT1','MERIT2','MERIT3','MERIT4','MERIT5','MERIT6','MERIT7','MERIT8','MERIT9','MERIT10',\n",
    "                 #'PERF1','PERF2','PERF3','PERF4','PERF5','PERF6','PERF7','PERF8','PERF9','PERF10']\n",
    "history_to_omit = ['ADDRCNT10','ADDRCNT3','ADDRCNT5','DEPTCNT10','DEPTCNT3','DEPTCNT5',\n",
    "                   'EFUNCCNT10','EFUNCCNT3','EFUNCCNT5','FLOORCNT10','FLOORCNT3','FLOORCNT5',\n",
    "                  'FTPTCNT10','FTPTCNT3','FTPTCNT5','FULLPART10','FULLPART3','FULLPART5',\n",
    "                  'FUNCCNT10','FUNCCNT3','FUNCCNT5','GRADECNT10','GRADECNT3','GRADECNT5',\n",
    "                  'JOBCNT10','JOBCNT3','JOBCNT5','LOCCNT10','LOCCNT3','LOCCNT5','LOCSTCNT10','LOCSTCNT3','LOCSTCNT5',\n",
    "                  'PARTFULL10','PARTFULL3','PARTFULL5','PTFTCNT10','PTFTCNT3','PTFTCNT5',\n",
    "                   'SUPVCNT10','SUPVCNT3','SUPVCNT5','ACTRES2','SAL10','SAL9','SAL8','SAL7','SAL6','SAL5','SAL4','SAL3',\n",
    "                   'SAL2','MERIT2','MERIT3','MERIT4','MERIT5','MERIT6','MERIT7','MERIT8','MERIT9','MERIT10',\n",
    "                    'PERF2','PERF3','PERF4','PERF5','PERF6','PERF7','PERF8','PERF9','PERF10']\n",
    "cols_to_categorical = ['COMPANY','COMP_FREQUENCY','DIVISION_CODE_SFI','EEO1CODE','EMPL_CLASS','EMPL_TYPE','ETHNIC_GROUP',\n",
    "                       'FLSA_STATUS','FULLPART1','FULL_PART_TIME','GRADE','HUBIND','INTERN','JOB_FUNCTION','RELOCATE_ALL_SFI',\n",
    "                       'REMOTE','REMOTE_SUPV','SEX','SHIFT','SUPV_DIFF_LOC','VOLINVOL','status']\n",
    "for col in others_to_omit:\n",
    "    columns_to_omit.append(col)\n",
    "\n",
    "for col in history_to_omit:\n",
    "    columns_to_omit.append(col)\n",
    "    \n",
    "print len(columns_to_omit),len(cols_to_categorical)"
   ]
  },
  {
   "cell_type": "code",
   "execution_count": null,
   "metadata": {
    "collapsed": false
   },
   "outputs": [],
   "source": [
    "# define columns to keep\n",
    "columns_to_keep = list(set(empltbl3.columns)-set(columns_to_omit))\n",
    "len(columns_to_keep)"
   ]
  },
  {
   "cell_type": "code",
   "execution_count": null,
   "metadata": {
    "collapsed": false
   },
   "outputs": [],
   "source": [
    "empltbl4 = empltbl3[columns_to_keep].copy()\n",
    "print empltbl4.shape"
   ]
  },
  {
   "cell_type": "code",
   "execution_count": null,
   "metadata": {
    "collapsed": false
   },
   "outputs": [],
   "source": [
    "sdf4 = summarize_dataframe2(empltbl4)"
   ]
  },
  {
   "cell_type": "markdown",
   "metadata": {},
   "source": [
    "## convert binary columns to 0,1 in empl_bene and save"
   ]
  },
  {
   "cell_type": "code",
   "execution_count": null,
   "metadata": {
    "collapsed": false
   },
   "outputs": [],
   "source": [
    "[sum(empl_bene[c].isnull()) for c in columns_to_fix_NY]"
   ]
  },
  {
   "cell_type": "code",
   "execution_count": null,
   "metadata": {
    "collapsed": false
   },
   "outputs": [],
   "source": [
    "for c in columns_to_fix_NY:\n",
    "    if c == 'SEX':\n",
    "        empl_bene.replace({c:{'M':0,'F':1}},inplace=True)\n",
    "    else: \n",
    "        empl_bene.replace({c:{'N':0,'Y':1}},inplace=True)\n",
    "        \n",
    "empl_bene.INTERN.value_counts()"
   ]
  },
  {
   "cell_type": "code",
   "execution_count": null,
   "metadata": {
    "collapsed": false
   },
   "outputs": [],
   "source": [
    "pd.crosstab(empl_bene.FULLPART1,empl_bene.PARTFULL1)"
   ]
  },
  {
   "cell_type": "code",
   "execution_count": null,
   "metadata": {
    "collapsed": true
   },
   "outputs": [],
   "source": [
    "empl_bene['COMP_FREQ_ANNUAL'] = 1\n",
    "empl_bene.loc[empl_bene['COMP_FREQUENCY']=='H','COMP_FREQ_ANNUAL'] = 0\n",
    "empl_bene.drop('COMP_FREQUENCY',axis=1,inplace=True)"
   ]
  },
  {
   "cell_type": "code",
   "execution_count": null,
   "metadata": {
    "collapsed": true
   },
   "outputs": [],
   "source": []
  },
  {
   "cell_type": "code",
   "execution_count": null,
   "metadata": {
    "collapsed": true
   },
   "outputs": [],
   "source": [
    "empl_bene.to_csv('employee_dataframe7long.tsv',sep='\\t',index=False)"
   ]
  },
  {
   "cell_type": "code",
   "execution_count": null,
   "metadata": {
    "collapsed": true
   },
   "outputs": [],
   "source": [
    "save_this_file = True\n",
    "if save_this_file:\n",
    "    empltbl4.to_csv('employee_dataframe4.tsv',sep='\\t',ignore_index =True)"
   ]
  },
  {
   "cell_type": "code",
   "execution_count": null,
   "metadata": {
    "collapsed": false
   },
   "outputs": [],
   "source": [
    "sdf4[sdf4.arity==2]"
   ]
  },
  {
   "cell_type": "code",
   "execution_count": null,
   "metadata": {
    "collapsed": false
   },
   "outputs": [],
   "source": [
    "empltbl4.shape"
   ]
  },
  {
   "cell_type": "code",
   "execution_count": null,
   "metadata": {
    "collapsed": false
   },
   "outputs": [],
   "source": [
    "empltbl4.SHIFT.value_counts()"
   ]
  },
  {
   "cell_type": "markdown",
   "metadata": {},
   "source": [
    "### Logic to transform the binary categorical columns\n",
    "* column = SEX; 1 = Male, 0 = female\n",
    "* column = COMP_FREQUENCY --> new column: comp_frequency_annual (1 = A, 0 = H (hourly))\n",
    "* other columns Y == 1, N == 0"
   ]
  },
  {
   "cell_type": "code",
   "execution_count": null,
   "metadata": {
    "collapsed": false
   },
   "outputs": [],
   "source": [
    "empltbl4['COMP_FREQ_ANNUAL'] = 1\n",
    "empltbl4.loc[empltbl4['COMP_FREQUENCY']=='H','COMP_FREQ_ANNUAL'] = 0\n",
    "empltbl4.drop('COMP_FREQUENCY',axis=1,inplace=True)\n",
    "\n",
    "# now deal with male,female\n",
    "empltbl4.replace({'SEX':{'M': 1,'F':0}},inplace=True)\n",
    "empltbl4[['COMP_FREQ_ANNUAL','SEX','SHIFT']].head()"
   ]
  },
  {
   "cell_type": "code",
   "execution_count": null,
   "metadata": {
    "collapsed": true
   },
   "outputs": [],
   "source": [
    "# assign 1 to Y, 0 to N for the following columns\n",
    "columns_to_fix_NY = ['INTERN','FULLPART1','RELOCATE_ALL_SFI','HUBIND','REMOTE','REMOTE_SUPV','SUPV_DIFF_LOC','PARTFULL1']\n",
    "#empltbl4['COMP_FREQ_ANNUAL'] = empltbl4[\n",
    "for acol in columns_to_fix_NY:\n",
    "    empltbl4.replace({acol :{'Y':1,'N':0}},inplace=True) "
   ]
  },
  {
   "cell_type": "code",
   "execution_count": null,
   "metadata": {
    "collapsed": false
   },
   "outputs": [],
   "source": [
    "sdf4"
   ]
  },
  {
   "cell_type": "code",
   "execution_count": null,
   "metadata": {
    "collapsed": false
   },
   "outputs": [],
   "source": [
    "sdf4[(sdf4.datatype=='object') &(sdf4.arity > 2)]"
   ]
  },
  {
   "cell_type": "code",
   "execution_count": null,
   "metadata": {
    "collapsed": false
   },
   "outputs": [],
   "source": [
    "pd.crosstab(empltbl4.VOLINVOL,empltbl4.sep_status)"
   ]
  },
  {
   "cell_type": "code",
   "execution_count": null,
   "metadata": {
    "collapsed": false
   },
   "outputs": [],
   "source": [
    "sum(empltbl4.sep_status <=1)"
   ]
  },
  {
   "cell_type": "code",
   "execution_count": null,
   "metadata": {
    "collapsed": false
   },
   "outputs": [],
   "source": [
    "vc_empl4 = empltbl4[empltbl4.sep_status<=1].copy()\n"
   ]
  },
  {
   "cell_type": "code",
   "execution_count": null,
   "metadata": {
    "collapsed": false
   },
   "outputs": [],
   "source": [
    "kmf_vc = KaplanMeierFitter()\n",
    "kmf_vc.fit(vc_empl4.Tenure_months, vc_empl4.status,label='ALL')\n",
    "kmf_vc.plot(color='darkslateblue')\n",
    "plt.ylabel('Survival Function')\n",
    "plt.xlabel('Tenure_months')"
   ]
  },
  {
   "cell_type": "code",
   "execution_count": null,
   "metadata": {
    "collapsed": false
   },
   "outputs": [],
   "source": [
    "vc_empl4.JOB_FUNCTION.value_counts()"
   ]
  },
  {
   "cell_type": "code",
   "execution_count": null,
   "metadata": {
    "collapsed": false
   },
   "outputs": [],
   "source": [
    "### Repeat for mgrs\n",
    "print mg_codes\n",
    "mgr = empltbl3.GRADE.isin(mg_codes)\n",
    "sum(mgr)"
   ]
  },
  {
   "cell_type": "code",
   "execution_count": null,
   "metadata": {
    "collapsed": false
   },
   "outputs": [],
   "source": [
    "#sum(vc_empl4[\n",
    "print len(vc_empl4[vc_empl4.GRADE.isin(mg_codes)])\n",
    "mgrA = vc_empl4.GRADE.isin(mg_codes)"
   ]
  },
  {
   "cell_type": "code",
   "execution_count": null,
   "metadata": {
    "collapsed": false
   },
   "outputs": [],
   "source": [
    "fig = plt.figure(figsize=(12.5,5))\n",
    "\n",
    "kmf_mgr1=KaplanMeierFitter()\n",
    "\n",
    "kmf_mgr1.fit(vc_empl4[mgrA].Tenure_months, timeline=tenure_month_range, event_observed=vc_empl4[mgrA].status,label='managers')\n",
    "mgrA_sf_df = pd.DataFrame(kmf_mgr1.survival_function_)\n",
    "ax = fig.add_subplot(111)\n",
    "kmf_mgr1.plot(ax=ax,c='darkgreen')\n",
    "kmf_mgr1.fit(vc_empl4[~mgrA].Tenure_months, timeline=tenure_month_range,event_observed=vc_empl4[~mgrA].status,label='non-managers')\n",
    "kmf_mgr1.plot(ax=ax,color='darkslategray')\n",
    "mgrA_sf_df = pd.concat([mgrA_sf_df,kmf_mgr1.survival_function_],axis=1)\n",
    "plt.ylim(0,1.05)\n",
    "plt.ylabel('Survival Distribution Function')\n",
    "plt.xlabel('Tenure Months')"
   ]
  },
  {
   "cell_type": "code",
   "execution_count": null,
   "metadata": {
    "collapsed": false
   },
   "outputs": [],
   "source": [
    "pb = vc_empl4.GRADE.isin(pb_codes)\n",
    "fig = plt.figure(figsize=(12.5,5))\n",
    "\n",
    "kmf_grade=KaplanMeierFitter()\n",
    "\n",
    "kmf_grade.fit(vc_empl4[pb].Tenure_months, timeline=tenure_month_range, event_observed=vc_empl4[pb].status,label='PB')\n",
    "#grade_sf_df = pd.DataFrame(kmf_grade.survival_function_)\n",
    "ax = fig.add_subplot(111)\n",
    "kmf_grade.plot(ax=ax,c='deepskyblue')\n",
    "kmf_grade.fit(vc_empl4[~pb].Tenure_months, timeline=tenure_month_range,event_observed=vc_empl4[~pb].status,label='non PB')\n",
    "kmf_grade.plot(ax=ax,color='darkslategray')\n",
    "plt.ylim(0,1.05)\n",
    "plt.ylabel('Survival Distribution Function')\n",
    "plt.xlabel('Tenure Months')"
   ]
  },
  {
   "cell_type": "code",
   "execution_count": null,
   "metadata": {
    "collapsed": false
   },
   "outputs": [],
   "source": [
    "kmf_grade.fit(vc_empl4[pb].Tenure_months, timeline=tenure_month_range, event_observed=vc_empl4[pb].status,label='PB')\n",
    "kmf_grade.survival_function_"
   ]
  },
  {
   "cell_type": "code",
   "execution_count": null,
   "metadata": {
    "collapsed": false
   },
   "outputs": [],
   "source": [
    "print pb_codes\n",
    "sum(pb)"
   ]
  },
  {
   "cell_type": "code",
   "execution_count": null,
   "metadata": {
    "collapsed": false
   },
   "outputs": [],
   "source": [
    "mgrA_sf_df "
   ]
  },
  {
   "cell_type": "code",
   "execution_count": null,
   "metadata": {
    "collapsed": true
   },
   "outputs": [],
   "source": [
    "def lin_interpolate_df(df,index_to_find):\n",
    "    #x1,x2 = locate_closest_indices(df,x)\n",
    "    my_min = df.ix[:index_to_find].index[-1]\n",
    "    my_max = df.ix[index_to_find:].index[0]\n",
    "    deltax = my_max-my_min\n",
    "    #print my_min, my_max\n",
    "    y_1 = df.ix[my_min]\n",
    "    y_2 = df.ix[my_max]\n",
    "    #print y_1, y_2\n",
    "    \n",
    "    deltay=df.ix[my_max]- y_1\n",
    "    slope = deltay/deltax\n",
    "    #print slope, deltax, deltay\n",
    "    my_value = y_1+slope*(index_to_find-my_min)\n",
    "    return my_value"
   ]
  },
  {
   "cell_type": "code",
   "execution_count": null,
   "metadata": {
    "collapsed": true
   },
   "outputs": [],
   "source": [
    "def calc_future_survival_proba(input_df,grp,sf_df,future_year_list):\n",
    "    ## define a new data frame to hold the information\n",
    "    current_tenure = input_df[grp][input_df.status==0].Tenure_months.copy()\n",
    "    #current_mgr.columns='Current_tenure'#,inplace=True)\n",
    "    new_df = pd.DataFrame()\n",
    "    for future_year in future_years_list:\n",
    "        cname = 'plus_'+str(future_year)+'yr'\n",
    "        survival_prob = [lin_interpolate_df(sf_df,x) for x in current_tenure.values+future_year*12.0]\n",
    "        a_df = pd.DataFrame(survival_prob,columns=[cname])\n",
    "        new_df = pd.concat([new_df,a_df],axis=1)\n",
    "    \n",
    "    print new_df.shape\n",
    "    return new_df"
   ]
  },
  {
   "cell_type": "markdown",
   "metadata": {},
   "source": [
    "## this is alternatively able to be done by doing sum(kmf.predict(current.Tenure_months+t))/len(current)"
   ]
  },
  {
   "cell_type": "code",
   "execution_count": null,
   "metadata": {
    "collapsed": false
   },
   "outputs": [],
   "source": [
    "mgrA_sf_df['managers']"
   ]
  },
  {
   "cell_type": "code",
   "execution_count": null,
   "metadata": {
    "collapsed": true
   },
   "outputs": [],
   "source": [
    "fig = plt.figure(figsize=(12.5,5))\n",
    "\n",
    "kmf_mgr1=KaplanMeierFitter()\n",
    "\n",
    "kmf_mgr1.fit(vc_empl4[mgrA].Tenure_months, timeline=tenure_month_range, event_observed=vc_empl4[mgrA].status,label='managers')\n",
    "mgrA_sf_df = pd.DataFrame(kmf_mgr1.survival_function_)\n",
    "ax = fig.add_subplot(111)\n",
    "kmf_mgr1.plot(ax=ax,c='darkgreen')\n",
    "kmf_mgr1.fit(vc_empl4[~mgrA].Tenure_months, timeline=tenure_month_range,event_observed=vc_empl4[~mgrA].status,label='non-managers')\n",
    "kmf_mgr1.plot(ax=ax,color='darkslategray')\n",
    "mgrA_sf_df = pd.concat([mgrA_sf_df,kmf_mgr1.survival_function_],axis=1)\n",
    "plt.ylim(0,1.05)\n",
    "plt.ylabel('Survival Distribution Function')\n",
    "plt.xlabel('Tenure Months')"
   ]
  },
  {
   "cell_type": "code",
   "execution_count": null,
   "metadata": {
    "collapsed": false
   },
   "outputs": [],
   "source": [
    "mgrA_surv_prob = calc_future_survival_proba(vc_empl4,mgrA,mgrA_sf_df['managers'],future_years_list)"
   ]
  },
  {
   "cell_type": "code",
   "execution_count": null,
   "metadata": {
    "collapsed": false
   },
   "outputs": [],
   "source": [
    "plt.plot(future_years_list,mgrA_surv_prob.sum()/len(mgrA_surv_prob),'*:',color='steelblue')"
   ]
  },
  {
   "cell_type": "code",
   "execution_count": null,
   "metadata": {
    "collapsed": false
   },
   "outputs": [],
   "source": [
    "mgrA_surv_prob.sum()/len(mgrA_surv_prob)"
   ]
  },
  {
   "cell_type": "code",
   "execution_count": null,
   "metadata": {
    "collapsed": false
   },
   "outputs": [],
   "source": [
    "ues = vc_empl4.GRADE=='UES'\n",
    "print sum(ues)"
   ]
  },
  {
   "cell_type": "code",
   "execution_count": null,
   "metadata": {
    "collapsed": true
   },
   "outputs": [],
   "source": [
    "pd.crosstab(vc_empl4.GRADE,vc_empl4.status)"
   ]
  },
  {
   "cell_type": "code",
   "execution_count": null,
   "metadata": {
    "collapsed": false
   },
   "outputs": [],
   "source": [
    "fig = plt.figure(figsize=(12.5,5))\n",
    "\n",
    "kmf_ues=KaplanMeierFitter()\n",
    "\n",
    "kmf_ues.fit(vc_empl4[ues].Tenure_months, timeline=tenure_month_range, event_observed=vc_empl4[ues].status,label='UES')\n",
    "tmp_df = pd.DataFrame(kmf_ues.survival_function_)\n",
    "ax = fig.add_subplot(111)\n",
    "kmf_ues.plot(ax=ax,c='darkorange')\n",
    "kmf_ues.fit(vc_empl4[~ues].Tenure_months, timeline=tenure_month_range,event_observed=vc_empl4[~ues].status,label='non-UES')\n",
    "kmf_ues.plot(ax=ax,color='darkslategray')\n",
    "tmp_df = pd.concat([tmp_df,kmf_ues.survival_function_],axis=1)\n",
    "plt.ylim(0,1.05)\n",
    "plt.ylabel('Survival Distribution Function')\n",
    "plt.xlabel('Tenure Months')"
   ]
  },
  {
   "cell_type": "code",
   "execution_count": null,
   "metadata": {
    "collapsed": false
   },
   "outputs": [],
   "source": [
    "tmp_df.head()"
   ]
  },
  {
   "cell_type": "code",
   "execution_count": null,
   "metadata": {
    "collapsed": false
   },
   "outputs": [],
   "source": [
    "vc_empl4[ues][vc_empl4['status']==0].head()"
   ]
  },
  {
   "cell_type": "code",
   "execution_count": null,
   "metadata": {
    "collapsed": false
   },
   "outputs": [],
   "source": [
    "len(tmp_df)"
   ]
  },
  {
   "cell_type": "code",
   "execution_count": null,
   "metadata": {
    "collapsed": false
   },
   "outputs": [],
   "source": [
    "#kmf_grade.survival_function_\n",
    "#tmp_df = pd.DataFrame(kmf_grade.survival_function_)\n",
    "ues_surv_prob = calc_future_survival_proba(vc_empl4,ues,tmp_df['UES'],future_years_list)\n",
    "ues_surv_prob.sum()/len(vc_empl4[ues][vc_empl4.status==0])"
   ]
  },
  {
   "cell_type": "code",
   "execution_count": null,
   "metadata": {
    "collapsed": false
   },
   "outputs": [],
   "source": [
    "ues_surv_prob.sum()/sum(ues)"
   ]
  },
  {
   "cell_type": "code",
   "execution_count": null,
   "metadata": {
    "collapsed": false
   },
   "outputs": [],
   "source": [
    "empltbl4.columns"
   ]
  },
  {
   "cell_type": "code",
   "execution_count": null,
   "metadata": {
    "collapsed": false
   },
   "outputs": [],
   "source": [
    "vc_empl4.columns"
   ]
  },
  {
   "cell_type": "code",
   "execution_count": null,
   "metadata": {
    "collapsed": false
   },
   "outputs": [],
   "source": [
    "# encode the VOLINVOL column as ['INVOLUNTARY':2,'VOLUNTARY':1,'NOT':0,'\n",
    "empltbl4['sep_status'] = empltbl4['VOLINVOL'].replace({'NOT':0,'VOLUNTARY':1,'INVOLUNTARY':2,'OTHER':3,'UNKNOWN':3})\n",
    "empltbl4.sep_status.value_counts()"
   ]
  },
  {
   "cell_type": "code",
   "execution_count": null,
   "metadata": {
    "collapsed": false
   },
   "outputs": [],
   "source": [
    "pd.crosstab(empltbl4.status,empltbl4.sep_status)"
   ]
  },
  {
   "cell_type": "markdown",
   "metadata": {},
   "source": [
    "## Explore differences between voluntary/involuntary and Not "
   ]
  },
  {
   "cell_type": "code",
   "execution_count": null,
   "metadata": {
    "collapsed": false
   },
   "outputs": [],
   "source": [
    "volunt = empltbl3[empltbl3.VOLINVOL=='VOLUNTARY'].copy()\n",
    "current = empltbl3[empltbl3.VOLINVOL=='NOT'].copy()\n",
    "involu = empltbl3[empltbl3.VOLINVOL=='INVOLUNTARY'].copy()\n",
    "empl_df_list = [current,volunt,involu]\n",
    "print [len(a) for a in empl_df_list]"
   ]
  },
  {
   "cell_type": "code",
   "execution_count": null,
   "metadata": {
    "collapsed": false
   },
   "outputs": [],
   "source": [
    "len(empltbl3[(empltbl3.VOLINVOL=='VOLUNTARY') |(empltbl3.VOLINVOL=='NOT')])"
   ]
  },
  {
   "cell_type": "code",
   "execution_count": null,
   "metadata": {
    "collapsed": true
   },
   "outputs": [],
   "source": [
    "empl_df_list_colors =['indianred','steelblue','darkkhaki']\n",
    "empl_df_list_alphas =[1.0,0.7,0.4]\n",
    "empl_df_list_label = ['current','voluntary','involuntary']"
   ]
  },
  {
   "cell_type": "code",
   "execution_count": null,
   "metadata": {
    "collapsed": false
   },
   "outputs": [],
   "source": [
    "## define histogram bin ranges\n",
    "tenure_year_bin_range = [0,59]\n",
    "age_year_bin_range = [15,84]"
   ]
  },
  {
   "cell_type": "code",
   "execution_count": null,
   "metadata": {
    "collapsed": false
   },
   "outputs": [],
   "source": [
    "plt.figure(figsize=(12,8))\n",
    "for idx in xrange(0,len(empl_df_list)):\n",
    "    my_color = empl_df_list_colors[idx]\n",
    "    my_alpha = empl_df_list_alphas[idx]\n",
    "    empl_df_list[idx].Age_years.hist(bins=70,range=age_year_bin_range,color=my_color,alpha=my_alpha,normed=True,label=empl_df_list_label[idx])\n",
    "    plt.legend()\n",
    "    plt.xlabel('Age in Years')\n",
    "    plt.ylabel('Normed Counts')\n",
    "    plt.title('Distribution of Workforce Ages')"
   ]
  },
  {
   "cell_type": "code",
   "execution_count": null,
   "metadata": {
    "collapsed": false
   },
   "outputs": [],
   "source": [
    "len(empltbl3[(empltbl3.VOLINVOL=='VOLUNTARY') & (empltbl3.Age_years > 54)])"
   ]
  },
  {
   "cell_type": "code",
   "execution_count": null,
   "metadata": {
    "collapsed": false
   },
   "outputs": [],
   "source": [
    "plt.figure(figsize=(12,8))\n",
    "for idx in xrange(0,len(empl_df_list)):\n",
    "    my_color = empl_df_list_colors[idx]\n",
    "    my_alpha = empl_df_list_alphas[idx]\n",
    "    empl_df_list[idx].Tenure_years.hist(bins=60,range=tenure_year_bin_range,color=my_color,alpha=my_alpha,normed=True,label=empl_df_list_label[idx])\n",
    "    plt.legend()\n",
    "    plt.xlabel('Tenure in Years')\n",
    "    plt.ylabel('Normed Counts')\n",
    "    plt.title('Distribution of Workforce Tenures')"
   ]
  },
  {
   "cell_type": "code",
   "execution_count": null,
   "metadata": {
    "collapsed": false
   },
   "outputs": [],
   "source": [
    "empltbl3.DIVISION_CODE_SFI.value_counts()"
   ]
  },
  {
   "cell_type": "code",
   "execution_count": null,
   "metadata": {
    "collapsed": false
   },
   "outputs": [],
   "source": [
    "pd.crosstab(empltbl3.DIVISION_CODE_SFI,empltbl3.COMPANY)#.value_counts()"
   ]
  },
  {
   "cell_type": "code",
   "execution_count": null,
   "metadata": {
    "collapsed": false
   },
   "outputs": [],
   "source": [
    "empltbl3[empltbl2.INTERN=='Y'].Tenure_months.hist(color='darkslategray',bins=80,normed=True)\n",
    "empltbl3[empltbl2.INTERN=='N'].Tenure_months.hist(color='darkturquoise',bins=80,alpha=0.5, normed=True)"
   ]
  },
  {
   "cell_type": "markdown",
   "metadata": {},
   "source": [
    "## Look at how many have missing SKEY\n",
    "* only one in the current table."
   ]
  },
  {
   "cell_type": "code",
   "execution_count": null,
   "metadata": {
    "collapsed": false
   },
   "outputs": [],
   "source": [
    "#len(current[current.SKEY.isnull()][['Age_years','Tenure_months','COMPANY','GRADE','ANNUAL_RT','KEY']])\n",
    "ceo_key = current[current.SKEY.isnull()].KEY.values[0]\n",
    "print ceo_key\n",
    "print current[current.SKEY.isnull()][['Age_years','Tenure_months','COMPANY','GRADE','ANNUAL_RT','KEY']]"
   ]
  },
  {
   "cell_type": "code",
   "execution_count": null,
   "metadata": {
    "collapsed": false
   },
   "outputs": [],
   "source": [
    "len(empltbl3.KEY.unique()), len(empltbl3.SKEY.unique()),len(current.SKEY.unique())"
   ]
  },
  {
   "cell_type": "code",
   "execution_count": null,
   "metadata": {
    "collapsed": false
   },
   "outputs": [],
   "source": [
    "## How many are missing SKEY in retired.\n",
    "sum(empltbl3[empltbl3.status==1].SKEY.isnull())"
   ]
  },
  {
   "cell_type": "markdown",
   "metadata": {
    "collapsed": true
   },
   "source": [
    "# do survival analysis for each GRADE\n",
    "* column == 'GRADE' \n",
    "* arity = 164\n",
    "* Define a min-threshold of GRADE to look at.\n"
   ]
  },
  {
   "cell_type": "code",
   "execution_count": null,
   "metadata": {
    "collapsed": false
   },
   "outputs": [],
   "source": [
    "empltbl3.GRADE.value_counts().hist(color='forestgreen',bins=30)"
   ]
  },
  {
   "cell_type": "code",
   "execution_count": null,
   "metadata": {
    "collapsed": false
   },
   "outputs": [],
   "source": [
    "## start with top 20 grades:\n",
    "empltbl3.GRADE.value_counts()[:20]"
   ]
  },
  {
   "cell_type": "markdown",
   "metadata": {},
   "source": [
    "## Survival analysis"
   ]
  },
  {
   "cell_type": "code",
   "execution_count": null,
   "metadata": {
    "collapsed": true
   },
   "outputs": [],
   "source": [
    "#use lifelines\n",
    "from lifelines import KaplanMeierFitter\n",
    "kmf0 = KaplanMeierFitter()"
   ]
  },
  {
   "cell_type": "code",
   "execution_count": null,
   "metadata": {
    "collapsed": false
   },
   "outputs": [],
   "source": [
    "\n",
    "plt.figure(figsize=(14,6))\n",
    "\n",
    "kmf0.fit(empltbl3.Tenure_months, event_observed=empltbl3.status)\n",
    "kmf0.plot(color='darkslategray')\n",
    "plt.ylabel('Survival Distribution Function')\n",
    "plt.xlabel('Tenure months')\n",
    "plt.title('KaplanMeier Survival: ALL employees')"
   ]
  },
  {
   "cell_type": "code",
   "execution_count": null,
   "metadata": {
    "collapsed": false
   },
   "outputs": [],
   "source": [
    "## define the range so all are on the same scale\n",
    "min_tenure_months= empltbl3.Tenure_months.min()\n",
    "max_tenure_months = empltbl3.Tenure_months.max()\n",
    "print min_tenure_months, max_tenure_months\n",
    "tenure_month_range = np.linspace(min_tenure_months,max_tenure_months,66)\n",
    "len(tenure_month_range)"
   ]
  },
  {
   "cell_type": "code",
   "execution_count": null,
   "metadata": {
    "collapsed": false
   },
   "outputs": [],
   "source": [
    "empltbl3.GRADE.value_counts()[:40]"
   ]
  },
  {
   "cell_type": "code",
   "execution_count": null,
   "metadata": {
    "collapsed": true
   },
   "outputs": [],
   "source": [
    "## replace nan with 'XXX'\n",
    "empltbl3.GRADE.fillna('XXX',inplace=True)"
   ]
  },
  {
   "cell_type": "code",
   "execution_count": null,
   "metadata": {
    "collapsed": false
   },
   "outputs": [],
   "source": [
    "mg_codes = [x for x in list(empltbl3.GRADE.unique()) if  str(x).startswith('MG')]"
   ]
  },
  {
   "cell_type": "code",
   "execution_count": null,
   "metadata": {
    "collapsed": true
   },
   "outputs": [],
   "source": [
    "mg_codes = [x for x in list(empltbl3.GRADE.unique()) if  str(x).startswith('MG')]\n",
    "clvl_codes = [x for x in list(empltbl3.GRADE.unique()) if str(x).startswith('C')]\n",
    "ra_codes = [x for x in list(empltbl3.GRADE.unique()) if str(x).startswith('RA')]\n",
    "re_codes = [x for x in list(empltbl3.GRADE.unique()) if str(x).startswith('RE')]\n",
    "rd_codes = [x for x in list(empltbl3.GRADE.unique()) if str(x).startswith('RD')]\n",
    "pa_codes = [x for x in list(empltbl3.GRADE.unique()) if str(x).startswith('PA')]\n",
    "pb_codes = [x for x in list(empltbl3.GRADE.unique()) if str(x).startswith('PB')]\n",
    "ma_codes = [x for x in list(empltbl3.GRADE.unique()) if str(x).startswith('MA')]\n",
    "sf_codes = [x for x in list(empltbl3.GRADE.unique()) if str(x).startswith('SF')]\n",
    "rb_codes = [x for x in list(empltbl3.GRADE.unique()) if str(x).startswith('RB')]\n",
    "rc_codes = [x for x in list(empltbl3.GRADE.unique()) if str(x).startswith('RC')]\n",
    "pc_codes = [x for x in list(empltbl3.GRADE.unique()) if str(x).startswith('PC')]\n",
    "l_codes = [x for x in list(empltbl3.GRADE.unique()) if str(x).startswith('L')]\n",
    "fa_codes = [x for x in list(empltbl3.GRADE.unique()) if str(x).startswith('FA')]\n",
    "u_codes = [x for x in list(empltbl3.GRADE.unique()) if str(x).startswith('U')]\n",
    "i_codes = [x for x in list(empltbl3.GRADE.unique()) if str(x).startswith('I')]\n",
    "a_codes = [x for x in list(empltbl3.GRADE.unique()) if str(x).startswith('A')]\n",
    "b_codes = [x for x in list(empltbl3.GRADE.unique()) if str(x).startswith('B')]\n",
    "#ri_codes = [x for x in list(empltbl3.GRADE.unique()) if str(x).startswith('RI')]\n",
    "# assign missing and non to non_codes\n",
    "non_codes = ['NON','XXX']\n",
    "m_codes = ['M1N','M2N','M3N','M10']\n",
    "rx_codes = ['RF1', 'RF2', 'RF3', 'RG1', 'RG2', 'RG3', 'RG4', 'RH1', 'RH2', 'RH3', 'RH4', \n",
    "            'RI2', 'RI3', 'RJ2', 'RJ3', 'RJ4', 'RK3','RL1', 'RL2', 'RL3', 'RL4', 'RM2']\n",
    "# combine\n",
    "two_codes = [x for x in list(empltbl3.GRADE.unique()) if str(x).startswith('2')]\n",
    "t_codes = [x for x in list(empltbl3.GRADE.unique()) if str(x).startswith('T')]\n",
    "oth_codes = i_codes+two_codes+t_codes+a_codes\n",
    "oth_codes.append('ZFL')\n"
   ]
  },
  {
   "cell_type": "code",
   "execution_count": null,
   "metadata": {
    "collapsed": false
   },
   "outputs": [],
   "source": [
    "grade_groupings_list_A = [mg_codes,clvl_codes,ma_codes,pa_codes,pb_codes,sf_codes, ra_codes,rd_codes,re_codes, rb_codes, rc_codes,\n",
    "                          pc_codes,l_codes,fa_codes, u_codes,b_codes,non_codes,m_codes,rx_codes,oth_codes]\n",
    "len(grade_groupings_list_A)\n"
   ]
  },
  {
   "cell_type": "code",
   "execution_count": null,
   "metadata": {
    "collapsed": false
   },
   "outputs": [],
   "source": [
    "e3_grade_function_crosstab = pd.crosstab(empltbl3.GRADE,empltbl3.JOB_FUNCTION)\n",
    "e3_grade_function_crosstab.MGT "
   ]
  },
  {
   "cell_type": "code",
   "execution_count": null,
   "metadata": {
    "collapsed": false
   },
   "outputs": [],
   "source": [
    "e3_grade_function_crosstab[e3_grade_function_crosstab.MGT>0] "
   ]
  },
  {
   "cell_type": "code",
   "execution_count": null,
   "metadata": {
    "collapsed": false
   },
   "outputs": [],
   "source": [
    "e3_grade_function_crosstab[e3_grade_function_crosstab.PTB>0] "
   ]
  },
  {
   "cell_type": "code",
   "execution_count": null,
   "metadata": {
    "collapsed": false
   },
   "outputs": [],
   "source": [
    "for g in grade_groupings_list_A:\n",
    "    print sum(empltbl3.GRADE.isin(g)), g"
   ]
  },
  {
   "cell_type": "code",
   "execution_count": null,
   "metadata": {
    "collapsed": false
   },
   "outputs": [],
   "source": [
    "from itertools import chain\n",
    "used_grades = list(chain.from_iterable(grade_groupings_list_A))\n",
    "sum(empltbl3.GRADE.isin(used_grades)), len(empltbl3)"
   ]
  },
  {
   "cell_type": "code",
   "execution_count": null,
   "metadata": {
    "collapsed": false
   },
   "outputs": [],
   "source": [
    "sorted([x for x in empltbl3.GRADE.unique() if x.startswith('R')])"
   ]
  },
  {
   "cell_type": "code",
   "execution_count": null,
   "metadata": {
    "collapsed": false
   },
   "outputs": [],
   "source": [
    "empltbl3[~empltbl3.GRADE.isin(used_grades)].GRADE.value_counts()"
   ]
  },
  {
   "cell_type": "code",
   "execution_count": null,
   "metadata": {
    "collapsed": false
   },
   "outputs": [],
   "source": [
    "empltbl3.GRADE.value_counts()[40:85]"
   ]
  },
  {
   "cell_type": "markdown",
   "metadata": {},
   "source": [
    "## now look at each of the top 10 grades:"
   ]
  },
  {
   "cell_type": "code",
   "execution_count": null,
   "metadata": {
    "collapsed": false
   },
   "outputs": [],
   "source": [
    "# create a dataFrame of these survival functions.\n",
    "\n",
    "\n",
    "fig = plt.figure(figsize=(12.5,5))\n",
    "#figsize(16,8)\n",
    "\n",
    "top10grades = list(empltbl3.GRADE.value_counts()[:85].index)\n",
    "kmf_grade=KaplanMeierFitter()\n",
    "\n",
    "kmf_grade.fit(empltbl3.Tenure_months, timeline=tenure_month_range, event_observed=empltbl3.status,label='ALL')\n",
    "grade_sf_df = pd.DataFrame(kmf_grade.survival_function_)\n",
    "ax=fig.add_subplot(111)\n",
    "kmf_grade.plot(ax=ax,c='darkslategray')\n",
    "for grade in top10grades:\n",
    "    \n",
    "    #plt.figure(figsize=(20,10))\n",
    "    em_grade = empltbl3[empltbl3.GRADE == grade]\n",
    "    kmf_grade.fit(em_grade.Tenure_months, timeline=tenure_month_range,event_observed=em_grade.status,label=grade)\n",
    "    if grade.startswith('MG'):\n",
    "        kmf_grade.plot(ax=ax)\n",
    "    grade_sf_df = pd.concat([grade_sf_df,kmf_grade.survival_function_],axis=1)\n",
    "#kmf_gender.fit(female.Tenure_months,  timeline=tenure_month_range,event_observed=female.status)\n",
    "#kmf_gender.plot(ax=ax, c='deeppink',label='Female')\n",
    "\n",
    "plt.ylim(0,1.05)\n",
    "plt.ylabel('Survival Distribution Function')\n",
    "plt.xlabel('Tenure Months')\n"
   ]
  },
  {
   "cell_type": "code",
   "execution_count": null,
   "metadata": {
    "collapsed": false
   },
   "outputs": [],
   "source": [
    "grade_sf_df.columns"
   ]
  },
  {
   "cell_type": "code",
   "execution_count": null,
   "metadata": {
    "collapsed": false
   },
   "outputs": [],
   "source": [
    "mgr = ((empltbl3.GRADE == 'MG2') |(empltbl3.GRADE == 'MG3') | (empltbl3.GRADE == 'MG4'))\n",
    "sum(mgr)"
   ]
  },
  {
   "cell_type": "code",
   "execution_count": null,
   "metadata": {
    "collapsed": false
   },
   "outputs": [],
   "source": [
    "mgr = empltbl3.GRADE.isin(mg_codes)\n",
    "sum(mgr)"
   ]
  },
  {
   "cell_type": "code",
   "execution_count": null,
   "metadata": {
    "collapsed": false
   },
   "outputs": [],
   "source": [
    "from lifelines.statistics import logrank_test\n",
    "summary, p_value, test_results = logrank_test(empltbl3[mgr].Tenure_months, empltbl3[~mgr].Tenure_months, empltbl3[mgr].status, empltbl3[~mgr].status, alpha=.99 )\n",
    "print summary"
   ]
  },
  {
   "cell_type": "code",
   "execution_count": null,
   "metadata": {
    "collapsed": false
   },
   "outputs": [],
   "source": [
    "fig = plt.figure(figsize=(12.5,5))\n",
    "\n",
    "kmf_grade=KaplanMeierFitter()\n",
    "\n",
    "kmf_grade.fit(empltbl3[mgr].Tenure_months, timeline=tenure_month_range, event_observed=empltbl3[mgr].status,label='managers')\n",
    "mgr_sf_df = pd.DataFrame(kmf_grade.survival_function_)\n",
    "ax = fig.add_subplot(111)\n",
    "kmf_grade.plot(ax=ax,c='darkred')\n",
    "kmf_grade.fit(empltbl3[~mgr].Tenure_months, timeline=tenure_month_range,event_observed=empltbl3[~mgr].status,label='non-managers')\n",
    "kmf_grade.plot(ax=ax,color='darkslategray')\n",
    "mgr_sf_df = pd.concat([mgr_sf_df,kmf_grade.survival_function_],axis=1)\n",
    "plt.ylim(0,1.05)\n",
    "plt.ylabel('Survival Distribution Function')\n",
    "plt.xlabel('Tenure Months')"
   ]
  },
  {
   "cell_type": "markdown",
   "metadata": {},
   "source": [
    "## BIGGER QUESTION IS whether this tenure is descriptive or proscriptive\n"
   ]
  },
  {
   "cell_type": "code",
   "execution_count": null,
   "metadata": {
    "collapsed": false
   },
   "outputs": [],
   "source": [
    "empltbl3[mgr].Tenure_months.hist(normed=True,alpha=0.3)\n",
    "empltbl3[mgr][empltbl3.status==0].Tenure_months.hist(normed=True,color='indianred',alpha=.3)"
   ]
  },
  {
   "cell_type": "markdown",
   "metadata": {
    "collapsed": true
   },
   "source": [
    "## Take the set of employees that don't leave and calculate out their survival function in the future\n",
    "* look at [1,10] years in the future for each.\n",
    "* sum over all\n",
    "* also get lower CL and upper CL\n",
    "* divide sum by count to get % remaining.\n"
   ]
  },
  {
   "cell_type": "code",
   "execution_count": null,
   "metadata": {
    "collapsed": false
   },
   "outputs": [],
   "source": [
    "mgr_sf_df.head(), len(mgr_sf_df)"
   ]
  },
  {
   "cell_type": "code",
   "execution_count": null,
   "metadata": {
    "collapsed": false
   },
   "outputs": [],
   "source": [
    "mgr_df = pd.DataFrame(empltbl3[mgr].Tenure_months)"
   ]
  },
  {
   "cell_type": "code",
   "execution_count": null,
   "metadata": {
    "collapsed": false
   },
   "outputs": [],
   "source": [
    "[x for x in empltbl3[mgr][empltbl3.status==0].Tenure_months+12.0]"
   ]
  },
  {
   "cell_type": "code",
   "execution_count": null,
   "metadata": {
    "collapsed": false
   },
   "outputs": [],
   "source": [
    "mgr_sf_df.ix[:339.36].index[-1], mgr_sf_df.ix[339.36:].index[0]"
   ]
  },
  {
   "cell_type": "code",
   "execution_count": null,
   "metadata": {
    "collapsed": false
   },
   "outputs": [],
   "source": [
    "locate_closest_indices(mgr_sf_df, 339.36)"
   ]
  },
  {
   "cell_type": "code",
   "execution_count": null,
   "metadata": {
    "collapsed": true
   },
   "outputs": [],
   "source": [
    "def locate_closest_indices(df,index_to_find):\n",
    "    my_min = df.ix[:index_to_find].index[-1]\n",
    "    my_max = df.ix[index_to_find:].index[0]\n",
    "    #.index <= index_to_find\n",
    "    #my_max = df.index >=index_to_find\n",
    "    print index_to_find, my_min, my_max\n",
    "    return my_min,my_max"
   ]
  },
  {
   "cell_type": "code",
   "execution_count": null,
   "metadata": {
    "collapsed": true
   },
   "outputs": [],
   "source": [
    "def lin_interpolate(df,index_to_find,ycol):\n",
    "    #x1,x2 = locate_closest_indices(df,x)\n",
    "    my_min = df.ix[:index_to_find].index[-1]\n",
    "    my_max = df.ix[index_to_find:].index[0]\n",
    "    deltax = my_max-my_min\n",
    "    #print my_min, my_max\n",
    "    y_1 = df[ycol].ix[my_min]\n",
    "    y_2 = df[ycol].ix[my_max]\n",
    "    #print y_1, y_2\n",
    "    \n",
    "    deltay=df[ycol].ix[my_max]- y_1\n",
    "    slope = deltay/deltax\n",
    "    #print slope, deltax, deltay\n",
    "    my_value = y_1+slope*(index_to_find-my_min)\n",
    "    return my_value"
   ]
  },
  {
   "cell_type": "code",
   "execution_count": null,
   "metadata": {
    "collapsed": false
   },
   "outputs": [],
   "source": [
    "mgr_sf_df.ix[mgr_sf_df.ix[:339.36].index[-1]:mgr_sf_df.ix[339.36:].index[0]]#.plot()#.interpolate()"
   ]
  },
  {
   "cell_type": "code",
   "execution_count": null,
   "metadata": {
    "collapsed": false
   },
   "outputs": [],
   "source": [
    "lin_interpolate(mgr_sf_df,339.36,'managers')"
   ]
  },
  {
   "cell_type": "code",
   "execution_count": null,
   "metadata": {
    "collapsed": true
   },
   "outputs": [],
   "source": [
    "index_to_find = 371.1\n",
    "\n",
    "my_min = df['A'] <= value_to_find\n",
    "Max = df['A'] >= value_to_find\n",
    "idx_Min = df.ix[Min, 'A'].idxmax()\n",
    "idx_Max = df.ix[Max, 'A'].idxmin()\n",
    "df.ix[idx_Min:idx_Max, ['A','B']]"
   ]
  },
  {
   "cell_type": "code",
   "execution_count": null,
   "metadata": {
    "collapsed": false
   },
   "outputs": [],
   "source": [
    "# add 1 to 10 years in to future\n",
    "future_years_list = np.arange(1,11)\n",
    "future_years_list*12.0"
   ]
  },
  {
   "cell_type": "code",
   "execution_count": null,
   "metadata": {
    "collapsed": false
   },
   "outputs": [],
   "source": [
    "plus_1yr = [lin_interpolate(mgr_sf_df,x,'managers') for x in empltbl3[mgr][empltbl3.status==0].Tenure_months+12.0]"
   ]
  },
  {
   "cell_type": "code",
   "execution_count": null,
   "metadata": {
    "collapsed": false
   },
   "outputs": [],
   "source": [
    "len(plus_1yr)"
   ]
  },
  {
   "cell_type": "code",
   "execution_count": null,
   "metadata": {
    "collapsed": false
   },
   "outputs": [],
   "source": [
    "current_mgr.Tenure_months.values"
   ]
  },
  {
   "cell_type": "code",
   "execution_count": null,
   "metadata": {
    "collapsed": false
   },
   "outputs": [],
   "source": [
    "future_year"
   ]
  },
  {
   "cell_type": "code",
   "execution_count": null,
   "metadata": {
    "collapsed": false
   },
   "outputs": [],
   "source": [
    "## define a new data frame to hold the information\n",
    "current_mgr = empltbl3[mgr][empltbl3.status==0].Tenure_months.copy()\n",
    "#current_mgr.columns='Current_tenure'#,inplace=True)\n",
    "new_df = pd.DataFrame()\n",
    "for future_year in future_years_list:\n",
    "    cname = 'plus_'+str(future_year)+'yr'\n",
    "    survival_prob = [lin_interpolate(mgr_sf_df,x,'managers') for x in current_mgr.values+future_year*12.0]\n",
    "    a_df = pd.DataFrame(survival_prob,columns=[cname])\n",
    "    new_df = pd.concat([new_df,a_df],axis=1)\n",
    "    \n",
    "print new_df.shape"
   ]
  },
  {
   "cell_type": "code",
   "execution_count": null,
   "metadata": {
    "collapsed": false
   },
   "outputs": [],
   "source": [
    "new_df.head()"
   ]
  },
  {
   "cell_type": "code",
   "execution_count": null,
   "metadata": {
    "collapsed": false
   },
   "outputs": [],
   "source": [
    "new_df.sum()/len(new_df)"
   ]
  },
  {
   "cell_type": "code",
   "execution_count": null,
   "metadata": {
    "collapsed": true
   },
   "outputs": [],
   "source": []
  },
  {
   "cell_type": "code",
   "execution_count": null,
   "metadata": {
    "collapsed": false
   },
   "outputs": [],
   "source": [
    "hold_df = mgr_sf_df.copy()"
   ]
  },
  {
   "cell_type": "code",
   "execution_count": null,
   "metadata": {
    "collapsed": false
   },
   "outputs": [],
   "source": [
    "clvl_codes"
   ]
  },
  {
   "cell_type": "code",
   "execution_count": null,
   "metadata": {
    "collapsed": false
   },
   "outputs": [],
   "source": [
    "clvl = empltbl3.GRADE.isin(clvl_codes)\n",
    "sum(clvl)"
   ]
  },
  {
   "cell_type": "code",
   "execution_count": null,
   "metadata": {
    "collapsed": false
   },
   "outputs": [],
   "source": [
    "sum(empltbl3[clvl].status==0)"
   ]
  },
  {
   "cell_type": "code",
   "execution_count": null,
   "metadata": {
    "collapsed": false
   },
   "outputs": [],
   "source": [
    "fig = plt.figure(figsize=(12.5,5))\n",
    "\n",
    "kmf_grade=KaplanMeierFitter()\n",
    "\n",
    "kmf_grade.fit(empltbl3[clvl].Tenure_months, timeline=tenure_month_range, event_observed=empltbl3[clvl].status,label='C-Level')\n",
    "#grade_sf_df = pd.DataFrame(kmf_grade.survival_function_)\n",
    "ax = fig.add_subplot(111)\n",
    "kmf_grade.plot(ax=ax,c='darkred')\n",
    "kmf_grade.fit(empltbl3[~clvl].Tenure_months, timeline=tenure_month_range,event_observed=empltbl3[~clvl].status,label='non C-level')\n",
    "kmf_grade.plot(ax=ax,color='darkslategray')\n",
    "plt.ylim(0,1.05)\n",
    "plt.ylabel('Survival Distribution Function')\n",
    "plt.xlabel('Tenure Months')"
   ]
  },
  {
   "cell_type": "markdown",
   "metadata": {},
   "source": [
    "### look at different PA/RA"
   ]
  },
  {
   "cell_type": "code",
   "execution_count": null,
   "metadata": {
    "collapsed": false
   },
   "outputs": [],
   "source": [
    "ra = empltbl3.GRADE.isin(ra_codes)\n",
    "print sum(ra), ra_codes"
   ]
  },
  {
   "cell_type": "code",
   "execution_count": null,
   "metadata": {
    "collapsed": false
   },
   "outputs": [],
   "source": [
    "rd = empltbl3.GRADE.isin(rd_codes)\n",
    "print sum(rd), rd_codes\n",
    "for code in rd_codes:\n",
    "    print code,sum(empltbl3.GRADE == code)"
   ]
  },
  {
   "cell_type": "code",
   "execution_count": null,
   "metadata": {
    "collapsed": false
   },
   "outputs": [],
   "source": [
    "fig = plt.figure(figsize=(12.5,5))\n",
    "\n",
    "kmf_grade=KaplanMeierFitter()\n",
    "\n",
    "kmf_grade.fit(empltbl3[ra].Tenure_months, timeline=tenure_month_range, event_observed=empltbl3[ra].status,label='RA')\n",
    "#grade_sf_df = pd.DataFrame(kmf_grade.survival_function_)\n",
    "ax = fig.add_subplot(111)\n",
    "kmf_grade.plot(ax=ax,c='darkred')\n",
    "kmf_grade.fit(empltbl3[~ra].Tenure_months, timeline=tenure_month_range,event_observed=empltbl3[~ra].status,label='non RA')\n",
    "kmf_grade.plot(ax=ax,color='darkslategray')\n",
    "plt.ylim(0,1.05)\n",
    "plt.ylabel('Survival Distribution Function')\n",
    "plt.xlabel('Tenure Months')"
   ]
  },
  {
   "cell_type": "code",
   "execution_count": null,
   "metadata": {
    "collapsed": false
   },
   "outputs": [],
   "source": [
    "fig = plt.figure(figsize=(12.5,5))\n",
    "\n",
    "kmf_grade=KaplanMeierFitter()\n",
    "\n",
    "kmf_grade.fit(empltbl3[rd].Tenure_months, timeline=tenure_month_range, event_observed=empltbl3[rd].status,label='RD')\n",
    "#grade_sf_df = pd.DataFrame(kmf_grade.survival_function_)\n",
    "ax = fig.add_subplot(111)\n",
    "kmf_grade.plot(ax=ax,c='darkred')\n",
    "kmf_grade.fit(empltbl3[~rd].Tenure_months, timeline=tenure_month_range,event_observed=empltbl3[~rd].status,label='non RD')\n",
    "kmf_grade.plot(ax=ax,color='darkslategray')\n",
    "plt.ylim(0,1.05)\n",
    "plt.ylabel('Survival Distribution Function')\n",
    "plt.xlabel('Tenure Months')"
   ]
  },
  {
   "cell_type": "code",
   "execution_count": null,
   "metadata": {
    "collapsed": false
   },
   "outputs": [],
   "source": [
    "re = empltbl3.GRADE.isin(re_codes)\n",
    "print sum(re), re_codes"
   ]
  },
  {
   "cell_type": "code",
   "execution_count": null,
   "metadata": {
    "collapsed": false
   },
   "outputs": [],
   "source": [
    "fig = plt.figure(figsize=(12.5,5))\n",
    "\n",
    "kmf_grade=KaplanMeierFitter()\n",
    "\n",
    "kmf_grade.fit(empltbl3[re].Tenure_months, timeline=tenure_month_range, event_observed=empltbl3[re].status,label='RE')\n",
    "#grade_sf_df = pd.DataFrame(kmf_grade.survival_function_)\n",
    "ax = fig.add_subplot(111)\n",
    "kmf_grade.plot(ax=ax,c='darkred')\n",
    "kmf_grade.fit(empltbl3[~re].Tenure_months, timeline=tenure_month_range,event_observed=empltbl3[~re].status,label='non RE')\n",
    "kmf_grade.plot(ax=ax,color='darkslategray')\n",
    "plt.ylim(0,1.05)\n",
    "plt.ylabel('Survival Distribution Function')\n",
    "plt.xlabel('Tenure Months')"
   ]
  },
  {
   "cell_type": "code",
   "execution_count": null,
   "metadata": {
    "collapsed": false
   },
   "outputs": [],
   "source": [
    "pa = empltbl3.GRADE.isin(pa_codes)\n",
    "print sum(pa), pa_codes"
   ]
  },
  {
   "cell_type": "code",
   "execution_count": null,
   "metadata": {
    "collapsed": false
   },
   "outputs": [],
   "source": [
    "ma_codes"
   ]
  },
  {
   "cell_type": "code",
   "execution_count": null,
   "metadata": {
    "collapsed": false
   },
   "outputs": [],
   "source": [
    "empltbl3[empltbl3.GRADE=='MG2'].JOBCODE.value_counts()"
   ]
  },
  {
   "cell_type": "code",
   "execution_count": null,
   "metadata": {
    "collapsed": false
   },
   "outputs": [],
   "source": [
    "empltbl3.JOBCODE.value_counts()"
   ]
  },
  {
   "cell_type": "code",
   "execution_count": null,
   "metadata": {
    "collapsed": true
   },
   "outputs": [],
   "source": [
    "empltbl3[empltbl3['status'==1]]."
   ]
  },
  {
   "cell_type": "code",
   "execution_count": null,
   "metadata": {
    "collapsed": false
   },
   "outputs": [],
   "source": [
    "empltbl3.JOB_FUNCTION.value_counts()"
   ]
  },
  {
   "cell_type": "code",
   "execution_count": null,
   "metadata": {
    "collapsed": false
   },
   "outputs": [],
   "source": [
    "empl[empl.GRADE_MA1==1].status.value_counts()"
   ]
  },
  {
   "cell_type": "code",
   "execution_count": null,
   "metadata": {
    "collapsed": false
   },
   "outputs": [],
   "source": [
    "fig = plt.figure(figsize=(12.5,5))\n",
    "\n",
    "kmf_grade=KaplanMeierFitter()\n",
    "\n",
    "kmf_grade.fit(empltbl3[pa].Tenure_months, timeline=tenure_month_range, event_observed=empltbl3[pa].status,label='PA')\n",
    "#grade_sf_df = pd.DataFrame(kmf_grade.survival_function_)\n",
    "ax = fig.add_subplot(111)\n",
    "kmf_grade.plot(ax=ax,c='darkred')\n",
    "kmf_grade.fit(empltbl3[~pa].Tenure_months, timeline=tenure_month_range,event_observed=empltbl3[~pa].status,label='non PA')\n",
    "kmf_grade.plot(ax=ax,color='darkslategray')\n",
    "plt.ylim(0,1.05)\n",
    "plt.ylabel('Survival Distribution Function')\n",
    "plt.xlabel('Tenure Months')"
   ]
  },
  {
   "cell_type": "code",
   "execution_count": null,
   "metadata": {
    "collapsed": false
   },
   "outputs": [],
   "source": [
    "pb = empltbl3.GRADE.isin(pb_codes)\n",
    "print sum(pb), pb_codes"
   ]
  },
  {
   "cell_type": "code",
   "execution_count": null,
   "metadata": {
    "collapsed": false
   },
   "outputs": [],
   "source": [
    "fig = plt.figure(figsize=(12.5,5))\n",
    "\n",
    "kmf_grade=KaplanMeierFitter()\n",
    "\n",
    "kmf_grade.fit(empltbl3[pb].Tenure_months, timeline=tenure_month_range, event_observed=empltbl3[pb].status,label='PB')\n",
    "#grade_sf_df = pd.DataFrame(kmf_grade.survival_function_)\n",
    "ax = fig.add_subplot(111)\n",
    "kmf_grade.plot(ax=ax,c='darkred')\n",
    "kmf_grade.fit(empltbl3[~pb].Tenure_months, timeline=tenure_month_range,event_observed=empltbl3[~pb].status,label='non PB')\n",
    "kmf_grade.plot(ax=ax,color='darkslategray')\n",
    "plt.ylim(0,1.05)\n",
    "plt.ylabel('Survival Distribution Function')\n",
    "plt.xlabel('Tenure Months')"
   ]
  },
  {
   "cell_type": "code",
   "execution_count": null,
   "metadata": {
    "collapsed": false
   },
   "outputs": [],
   "source": [
    "sf = empltbl3.GRADE.isin(sf_codes)\n",
    "print sum(sf), sf_codes"
   ]
  },
  {
   "cell_type": "code",
   "execution_count": null,
   "metadata": {
    "collapsed": false
   },
   "outputs": [],
   "source": [
    "fig = plt.figure(figsize=(12.5,5))\n",
    "\n",
    "kmf_grade=KaplanMeierFitter()\n",
    "\n",
    "kmf_grade.fit(empltbl3[sf].Tenure_months, timeline=tenure_month_range, event_observed=empltbl3[sf].status,label='SF')\n",
    "#grade_sf_df = pd.DataFrame(kmf_grade.survival_function_)\n",
    "ax = fig.add_subplot(111)\n",
    "kmf_grade.plot(ax=ax,c='darkred')\n",
    "kmf_grade.fit(empltbl3[~sf].Tenure_months, timeline=tenure_month_range,event_observed=empltbl3[~sf].status,label='non SF')\n",
    "kmf_grade.plot(ax=ax,color='darkslategray')\n",
    "plt.ylim(0,1.05)\n",
    "plt.ylabel('Survival Distribution Function')\n",
    "plt.xlabel('Tenure Months')"
   ]
  },
  {
   "cell_type": "code",
   "execution_count": null,
   "metadata": {
    "collapsed": false
   },
   "outputs": [],
   "source": [
    "sf_codes"
   ]
  },
  {
   "cell_type": "code",
   "execution_count": null,
   "metadata": {
    "collapsed": false
   },
   "outputs": [],
   "source": [
    "ma = empltbl3.GRADE.isin(ma_codes)\n",
    "print sum(ma), ma_codes"
   ]
  },
  {
   "cell_type": "code",
   "execution_count": null,
   "metadata": {
    "collapsed": false
   },
   "outputs": [],
   "source": [
    "fig = plt.figure(figsize=(12.5,5))\n",
    "\n",
    "kmf_grade=KaplanMeierFitter()\n",
    "\n",
    "kmf_grade.fit(empltbl3[ma].Tenure_months, timeline=tenure_month_range, event_observed=empltbl3[ma].status,label='MA')\n",
    "#grade_sf_df = pd.DataFrame(kmf_grade.survival_function_)\n",
    "ax = fig.add_subplot(111)\n",
    "kmf_grade.plot(ax=ax,c='darkred')\n",
    "kmf_grade.fit(empltbl3[~ma].Tenure_months, timeline=tenure_month_range,event_observed=empltbl3[~ma].status,label='non MA')\n",
    "kmf_grade.plot(ax=ax,color='darkslategray')\n",
    "plt.ylim(0,1.05)\n",
    "plt.ylabel('Survival Distribution Function')\n",
    "plt.xlabel('Tenure Months')"
   ]
  },
  {
   "cell_type": "code",
   "execution_count": null,
   "metadata": {
    "collapsed": false
   },
   "outputs": [],
   "source": [
    "pa = empltbl3.GRADE.isin(pa_codes)\n",
    "print sum(pa), pa_codes"
   ]
  },
  {
   "cell_type": "code",
   "execution_count": null,
   "metadata": {
    "collapsed": false
   },
   "outputs": [],
   "source": [
    "grade_sf_df.columns"
   ]
  },
  {
   "cell_type": "code",
   "execution_count": null,
   "metadata": {
    "collapsed": false
   },
   "outputs": [],
   "source": [
    "### More directly look at these 20 groupings:\n",
    "# create a dataFrame of these survival functions.\n",
    "\n",
    "\n",
    "fig = plt.figure(figsize=(12.5,5))\n",
    "#figsize(16,8)\n",
    "\n",
    "#grade_groups = #list(empltbl3.GRADE.value_counts()[:85].index)\n",
    "kmf_grade=KaplanMeierFitter()\n",
    "\n",
    "kmf_grade.fit(empltbl3.Tenure_months, timeline=tenure_month_range, event_observed=empltbl3.status,label='ALL')\n",
    "gp_grade_sf_df = pd.DataFrame(kmf_grade.survival_function_)\n",
    "ax=fig.add_subplot(111)\n",
    "kmf_grade.plot(ax=ax,c='darkslategray')\n",
    "for g in grade_groupings_list_A:\n",
    "    \n",
    "    #plt.figure(figsize=(20,10))\n",
    "    gem_grade = empltbl3.GRADE.isin(g)\n",
    "    kmf_grade.fit(empltbl3[gem_grade].Tenure_months, timeline=tenure_month_range,event_observed=empltbl3[gem_grade].status)#,label=grade)\n",
    "    #if grade.startswith('MG'):\n",
    "    kmf_grade.plot(ax=ax)\n",
    "    gp_grade_sf_df = pd.concat([gp_grade_sf_df,kmf_grade.survival_function_],axis=1)\n",
    "#kmf_gender.fit(female.Tenure_months,  timeline=tenure_month_range,event_observed=female.status)\n",
    "#kmf_gender.plot(ax=ax, c='deeppink',label='Female')\n",
    "\n",
    "plt.ylim(0,1.05)\n",
    "plt.ylabel('Survival Distribution Function')\n",
    "plt.xlabel('Tenure Months')\n",
    "\n",
    "#print sum(empltbl3.GRADE.isin(g)), g"
   ]
  },
  {
   "cell_type": "code",
   "execution_count": null,
   "metadata": {
    "collapsed": false
   },
   "outputs": [],
   "source": [
    "gp_grade_sf_df.columns=['ALL','MG','C','MA','PA','PB','SF','RA','RD','RE','RB','RC','PC','L','FA', 'U', 'B', 'NON','M','R*','OTHR']#,inplace=True)\n",
    "                               #mg_codes,clvl_codes,ma_codes,pa_codes,pb_codes,sf_codes, ra_codes,rd_codes,re_codes, rb_codes, rc_codes,\n",
    "                          #pc_codes,l_codes,fa_codes, u_codes,b_codes,non_codes,m_codes,rx_codes,oth_codes\n",
    "\n",
    "gp_grade_sf_df.head()"
   ]
  },
  {
   "cell_type": "code",
   "execution_count": null,
   "metadata": {
    "collapsed": false
   },
   "outputs": [],
   "source": [
    "gp_grade_sf_df.iloc[1].plot(kind='bar',color='steelblue')\n",
    "plt.title('Survival Propensity at 1 year')\n",
    "plt.ylabel('Survival Distribution')\n",
    "plt.xlabel('Grouped Grade code')"
   ]
  },
  {
   "cell_type": "code",
   "execution_count": null,
   "metadata": {
    "collapsed": false
   },
   "outputs": [],
   "source": [
    "np.where(gp_grade_sf_df.ALL.values <=0.50)[0][0]"
   ]
  },
  {
   "cell_type": "code",
   "execution_count": null,
   "metadata": {
    "collapsed": false
   },
   "outputs": [],
   "source": [
    "gp_grade_sf_df[gp_grade_sf_df['ALL']<=0.50].index[0]/12.\n"
   ]
  },
  {
   "cell_type": "code",
   "execution_count": null,
   "metadata": {
    "collapsed": false
   },
   "outputs": [],
   "source": [
    "### Function to return the time when distribution falls to 50%\n",
    "def find_Npct_survival(x,npct=0.50):\n",
    "    first_index = np.where(x <=npct)[0][0]\n",
    "    #ten_years = \n",
    "    print first_index, x.iloc[first_index], x.index[first_index]#.timeline\n",
    "    #first_index-1\n",
    "    #, x.iloc[first_index-1]\n",
    "    return x.index[first_index]"
   ]
  },
  {
   "cell_type": "code",
   "execution_count": null,
   "metadata": {
    "collapsed": false
   },
   "outputs": [],
   "source": [
    "gp_grade_sf_df['ALL'].index[12]"
   ]
  },
  {
   "cell_type": "code",
   "execution_count": null,
   "metadata": {
    "collapsed": false
   },
   "outputs": [],
   "source": [
    "cnames = []\n",
    "fiftyPCT = []\n",
    "for c in gp_grade_sf_df.columns:\n",
    "    cnames.append(c)\n",
    "    fiftyPCT.append(find_Npct_survival(gp_grade_sf_df[c])/12.)#.apply(lambda x: find_Npct_survival(x))"
   ]
  },
  {
   "cell_type": "code",
   "execution_count": null,
   "metadata": {
    "collapsed": false
   },
   "outputs": [],
   "source": [
    "xvals= xrange(len(cnames))\n",
    "h = plt.bar(xvals,fiftyPCT,color='steelblue')\n",
    "plt.ylabel('Number of Tenure Years where SF <= 50%')\n",
    "#plt.xlim(0,21)\n",
    "plt.xlabel('Grouped Grades')\n",
    "plt.title('Job Grades impact on SF fraction.')\n",
    "\n",
    "xticks_pos = [0.65*patch.get_width() + patch.get_xy()[0] for patch in h]\n",
    "plt.xticks(xticks_pos,cnames,rotation='vertical')\n",
    "plt.grid(True)\n",
    "plt.xlim(0,21)"
   ]
  },
  {
   "cell_type": "markdown",
   "metadata": {},
   "source": [
    "## TRY To look at how age effects sF\n",
    "* bin this?"
   ]
  },
  {
   "cell_type": "code",
   "execution_count": null,
   "metadata": {
    "collapsed": false
   },
   "outputs": [],
   "source": [
    "empltbl3.Age_years.hist(bins=70,range=[15,84],color='darkorchid')"
   ]
  },
  {
   "cell_type": "code",
   "execution_count": null,
   "metadata": {
    "collapsed": false
   },
   "outputs": [],
   "source": [
    "empltbl3.Age_years.describe()"
   ]
  },
  {
   "cell_type": "code",
   "execution_count": null,
   "metadata": {
    "collapsed": false
   },
   "outputs": [],
   "source": [
    "empltbl3.Age_years.head()"
   ]
  },
  {
   "cell_type": "code",
   "execution_count": null,
   "metadata": {
    "collapsed": false
   },
   "outputs": [],
   "source": [
    "empltbl3['AgeGroup'] = pd.cut(empltbl3.Age_years,[0,24.5,34.5,44.5,54.5,64.5,100],labels=['0','1','2','3','4','5'])"
   ]
  },
  {
   "cell_type": "code",
   "execution_count": null,
   "metadata": {
    "collapsed": false
   },
   "outputs": [],
   "source": [
    "age_group_labels = ['0','1','2','3','4','5']\n",
    "fig = plt.figure(figsize=(12.5,5))\n",
    "kmf_agp = KaplanMeierFitter()\n",
    "kmf_agp.fit(empltbl3.Tenure_months, timeline=tenure_month_range, event_observed=empltbl3.status,label='ALL')\n",
    "    \n",
    "age_gp_sf_df = pd.DataFrame(kmf_agp.survival_function_)\n",
    "ax=fig.add_subplot(111)\n",
    "kmf_agp.plot(ax=ax,c='darkslategray')\n",
    "\n",
    "for ag in age_group_labels:\n",
    "    age_group = empltbl3[empltbl3.AgeGroup == ag]\n",
    "    print ag, len(age_group)\n",
    "    \n",
    "    \n",
    "        \n",
    "    kmf_agp.fit(age_group.Tenure_months, timeline=tenure_month_range,event_observed=age_group.status,label=ag)\n",
    "    \n",
    "    kmf_agp.plot(ax=ax)\n",
    "    age_gp_sf_df = pd.concat([age_gp_sf_df,kmf_grade.survival_function_],axis=1)\n",
    "\n",
    "plt.ylim(0,1.05)\n",
    "plt.ylabel('Survival Distribution Function')\n",
    "plt.xlabel('Tenure Months')\n",
    "plt.title('Survival for various age groups')\n",
    "\n",
    "#print sum(empltbl3.GRADE.isin(g)), g"
   ]
  },
  {
   "cell_type": "code",
   "execution_count": null,
   "metadata": {
    "collapsed": false
   },
   "outputs": [],
   "source": []
  },
  {
   "cell_type": "code",
   "execution_count": null,
   "metadata": {
    "collapsed": false
   },
   "outputs": [],
   "source": [
    "age_gp_sf_df.columns = ['ALL','0to25','25to35','35to45','45to55','55to65','65to100']#+=age_group_labels\n",
    "age_gp_sf_df.head()"
   ]
  },
  {
   "cell_type": "code",
   "execution_count": null,
   "metadata": {
    "collapsed": false
   },
   "outputs": [],
   "source": [
    "age_grp_types = empltbl3.AgeGroup.unique()\n",
    "kmf= KaplanMeierFitter()\n",
    "fig = plt.figure(figsize=(16,9))\n",
    "\n",
    "for i,agp_type in enumerate(age_grp_types):\n",
    "    ax = plt.subplot(2,3,i+1)\n",
    "    ix = empltbl3['AgeGroup'] == agp_type\n",
    "    kmf.fit( empltbl3[ix].Tenure_months, empltbl3[ix].status, label=age_gp_sf_df.columns[i+1])\n",
    "    kmf.plot(ax=ax, legend=False)\n",
    "    plt.title(age_gp_sf_df.columns[i+1])\n",
    "    plt.xlim(0,500)\n",
    "    if i==0:\n",
    "        plt.ylabel('Frac. Working after $n$ months')\n",
    "    if i == 3:\n",
    "        plt.xlabel(\"Tenure in Months\")\n",
    "plt.tight_layout()"
   ]
  },
  {
   "cell_type": "code",
   "execution_count": null,
   "metadata": {
    "collapsed": false
   },
   "outputs": [],
   "source": [
    "sdf[sdf.Column.isin(cols_to_categorical)]"
   ]
  },
  {
   "cell_type": "markdown",
   "metadata": {},
   "source": [
    "## this was descriptive, how to make it predictive?"
   ]
  },
  {
   "cell_type": "markdown",
   "metadata": {},
   "source": [
    "Try using `AalenAdditiveFitter`"
   ]
  },
  {
   "cell_type": "code",
   "execution_count": null,
   "metadata": {
    "collapsed": true
   },
   "outputs": [],
   "source": [
    "from lifelines import AalenAdditiveFitter\n",
    "import patsy"
   ]
  },
  {
   "cell_type": "code",
   "execution_count": null,
   "metadata": {
    "collapsed": false
   },
   "outputs": [],
   "source": [
    "X = patsy.dmatrix('Age_years + COMPANY + INTERN + SEX',empltbl4, return_type='dataframe')\n",
    "X.columns\n"
   ]
  },
  {
   "cell_type": "code",
   "execution_count": null,
   "metadata": {
    "collapsed": false
   },
   "outputs": [],
   "source": [
    "aaf = AalenAdditiveFitter(penalizer=1.0, fit_intercept=True)\n",
    "X['T'] = empltbl4['Tenure_years']\n",
    "X['E'] = empltbl4['status']"
   ]
  },
  {
   "cell_type": "code",
   "execution_count": null,
   "metadata": {
    "collapsed": false
   },
   "outputs": [],
   "source": [
    "aaf.fit(X,'T','E')"
   ]
  },
  {
   "cell_type": "code",
   "execution_count": null,
   "metadata": {
    "collapsed": false
   },
   "outputs": [],
   "source": [
    "aaf.plot()"
   ]
  },
  {
   "cell_type": "code",
   "execution_count": null,
   "metadata": {
    "collapsed": false
   },
   "outputs": [],
   "source": [
    "aaf.cumulative_hazards_.loc[40:]"
   ]
  },
  {
   "cell_type": "code",
   "execution_count": null,
   "metadata": {
    "collapsed": false
   },
   "outputs": [],
   "source": [
    "aaf."
   ]
  },
  {
   "cell_type": "code",
   "execution_count": null,
   "metadata": {
    "collapsed": true
   },
   "outputs": [],
   "source": []
  },
  {
   "cell_type": "code",
   "execution_count": null,
   "metadata": {
    "collapsed": true
   },
   "outputs": [],
   "source": []
  },
  {
   "cell_type": "code",
   "execution_count": null,
   "metadata": {
    "collapsed": false
   },
   "outputs": [],
   "source": [
    "#X = patsy.dmatrix('SEX + AgeGroup + INTERN + DIVISION_CODE_SFI -1', empltbl3, return_type='dataframe')\n",
    "X = patsy.dmatrix('AgeGroup + INTERN -1', empltbl3, return_type='dataframe')\n",
    "X.columns"
   ]
  },
  {
   "cell_type": "code",
   "execution_count": null,
   "metadata": {
    "collapsed": false
   },
   "outputs": [],
   "source": [
    "aaf = AalenAdditiveFitter(penalizer=1.0, fit_intercept=True)\n",
    "X['T'] = empltbl3['Tenure_years']\n",
    "X['E'] = empltbl3['status']"
   ]
  },
  {
   "cell_type": "code",
   "execution_count": null,
   "metadata": {
    "collapsed": false
   },
   "outputs": [],
   "source": [
    "aaf.fit(X,'T','E')"
   ]
  },
  {
   "cell_type": "code",
   "execution_count": null,
   "metadata": {
    "collapsed": false
   },
   "outputs": [],
   "source": [
    "aaf.cumulative_hazards_.head()"
   ]
  },
  {
   "cell_type": "markdown",
   "metadata": {},
   "source": [
    "### Plot the Estimates of cumulative $\\beta_i$"
   ]
  },
  {
   "cell_type": "code",
   "execution_count": null,
   "metadata": {
    "collapsed": false
   },
   "outputs": [],
   "source": [
    "aaf.plot( columns=[ 'AgeGroup[0]','AgeGroup[1]','AgeGroup[2]','INTERN[T.Y]', 'baseline' ], ix=slice(1,35) )"
   ]
  },
  {
   "cell_type": "markdown",
   "metadata": {},
   "source": [
    "## try to predict someone's tenure"
   ]
  },
  {
   "cell_type": "code",
   "execution_count": null,
   "metadata": {
    "collapsed": true
   },
   "outputs": [],
   "source": [
    "ix = (empltbl3['AgeGroup'] == '0')\n",
    "ib = (empltbl3['AgeGroup'] == '2')\n",
    "#harper = X[ix,:][-1,:][None,:]\n",
    "#harper[0,-1] = 2003\n",
    "#print \"Harper's unique data point\""
   ]
  },
  {
   "cell_type": "code",
   "execution_count": null,
   "metadata": {
    "collapsed": false
   },
   "outputs": [],
   "source": [
    "X[ix].iloc[[0,2],0:-2]"
   ]
  },
  {
   "cell_type": "code",
   "execution_count": null,
   "metadata": {
    "collapsed": false
   },
   "outputs": [],
   "source": [
    "X[ib].iloc[20:25]#,0:-2]"
   ]
  },
  {
   "cell_type": "code",
   "execution_count": null,
   "metadata": {
    "collapsed": false
   },
   "outputs": [],
   "source": [
    "test1 = X[ix].iloc[0] \n",
    "test2 = X[ix].iloc[2]"
   ]
  },
  {
   "cell_type": "code",
   "execution_count": null,
   "metadata": {
    "collapsed": false
   },
   "outputs": [],
   "source": [
    "test2.values"
   ]
  },
  {
   "cell_type": "code",
   "execution_count": null,
   "metadata": {
    "collapsed": false
   },
   "outputs": [],
   "source": [
    "aaf.predict_survival_function(X[ix].iloc[[0,2],0:-2]).plot()\n",
    "plt.xlim(0,10)\n",
    "aaf.predict_survival_function(X[ib].iloc[[20,21],0:-2]).plot()\n",
    "plt.xlim(0,10)"
   ]
  },
  {
   "cell_type": "code",
   "execution_count": null,
   "metadata": {
    "collapsed": false
   },
   "outputs": [],
   "source": [
    "fig = plt.figure(figsize=(12,5))\n",
    "ax = fig.add_subplot(2,1,1)\n",
    "aaf.predict_cumulative_hazard(test1.values).plot(ax=ax)"
   ]
  },
  {
   "cell_type": "code",
   "execution_count": null,
   "metadata": {
    "collapsed": false
   },
   "outputs": [],
   "source": [
    "[x for x in sdf.Column if x.startswith('JOB')]"
   ]
  },
  {
   "cell_type": "code",
   "execution_count": null,
   "metadata": {
    "collapsed": false
   },
   "outputs": [],
   "source": [
    "sdf[sdf.Column == 'GRADE']"
   ]
  },
  {
   "cell_type": "code",
   "execution_count": null,
   "metadata": {
    "collapsed": false
   },
   "outputs": [],
   "source": [
    "current.GRADE.value_counts()"
   ]
  },
  {
   "cell_type": "code",
   "execution_count": null,
   "metadata": {
    "collapsed": true
   },
   "outputs": [],
   "source": []
  },
  {
   "cell_type": "code",
   "execution_count": null,
   "metadata": {
    "collapsed": true
   },
   "outputs": [],
   "source": []
  },
  {
   "cell_type": "markdown",
   "metadata": {},
   "source": [
    "# Construct a graph out of the active employees\n",
    "* use the index from the dataframe as the node number"
   ]
  },
  {
   "cell_type": "code",
   "execution_count": null,
   "metadata": {
    "collapsed": false
   },
   "outputs": [],
   "source": [
    "import networkx as nx\n",
    "G=nx.DiGraph()\n"
   ]
  },
  {
   "cell_type": "code",
   "execution_count": null,
   "metadata": {
    "collapsed": false
   },
   "outputs": [],
   "source": [
    "#initialize with the ceo index\n",
    "#initialize with the ceo index\n",
    "#initialize with the ceo index\n",
    "ceo_index = list(current[current.KEY==ceo_key].index)[0]\n",
    "print ceo_index,ceo_key\n",
    "G.add_node(ceo_index)\n",
    "G.graph"
   ]
  },
  {
   "cell_type": "code",
   "execution_count": null,
   "metadata": {
    "collapsed": true
   },
   "outputs": [],
   "source": [
    "def id_dependents("
   ]
  },
  {
   "cell_type": "code",
   "execution_count": null,
   "metadata": {
    "collapsed": false
   },
   "outputs": [],
   "source": [
    "# now apply some logic to these columns for keeping and not\n",
    "columns_to_fix_missing = []\n",
    "columns_to_fix_NY = []\n",
    "columns_to_omit = []"
   ]
  },
  {
   "cell_type": "code",
   "execution_count": null,
   "metadata": {
    "collapsed": false
   },
   "outputs": [],
   "source": [
    "columns_to_fix_missing"
   ]
  },
  {
   "cell_type": "code",
   "execution_count": null,
   "metadata": {
    "collapsed": false
   },
   "outputs": [],
   "source": []
  },
  {
   "cell_type": "code",
   "execution_count": null,
   "metadata": {
    "collapsed": false
   },
   "outputs": [],
   "source": [
    "len(sdf[sdf['datatype']=='object'])"
   ]
  },
  {
   "cell_type": "code",
   "execution_count": null,
   "metadata": {
    "collapsed": false
   },
   "outputs": [],
   "source": [
    "sdf[(sdf['datatype']=='object') & (sdf['x_missing']<=missing_threshold) & (sdf['x_missing'] > 0)]"
   ]
  },
  {
   "cell_type": "code",
   "execution_count": null,
   "metadata": {
    "collapsed": false
   },
   "outputs": [],
   "source": [
    "empltbl3[empltbl3.STATE == 'NB'][['status','LOC_STATE','LOC_CITY','JOB_FUNCTION']]#,'zip5']]"
   ]
  },
  {
   "cell_type": "code",
   "execution_count": null,
   "metadata": {
    "collapsed": false
   },
   "outputs": [],
   "source": [
    "sdf.head()"
   ]
  },
  {
   "cell_type": "code",
   "execution_count": null,
   "metadata": {
    "collapsed": false
   },
   "outputs": [],
   "source": [
    "empltbl[empltbl.POSTAL_SFI.isnull()].zip5"
   ]
  },
  {
   "cell_type": "code",
   "execution_count": null,
   "metadata": {
    "collapsed": false
   },
   "outputs": [],
   "source": [
    "empltbl.ACTRES1.tail()"
   ]
  },
  {
   "cell_type": "code",
   "execution_count": null,
   "metadata": {
    "collapsed": false
   },
   "outputs": [],
   "source": [
    "# omit those that have more than 40% missing:\n",
    "columns_to_omit = sdf[sdf['x_missing'] > missing_threshold].Column.values\n",
    "print len(columns_to_omit)\n",
    "columns_to_omit"
   ]
  },
  {
   "cell_type": "code",
   "execution_count": null,
   "metadata": {
    "collapsed": false
   },
   "outputs": [],
   "source": []
  },
  {
   "cell_type": "code",
   "execution_count": null,
   "metadata": {
    "collapsed": false
   },
   "outputs": [],
   "source": [
    "pd.crosstab(empltbl['HUBIND'],empltbl['SUPV_DIFF_LOC'])"
   ]
  },
  {
   "cell_type": "code",
   "execution_count": null,
   "metadata": {
    "collapsed": false
   },
   "outputs": [],
   "source": [
    "empltbl.FLSA_STATUS.value_counts()"
   ]
  },
  {
   "cell_type": "code",
   "execution_count": null,
   "metadata": {
    "collapsed": false
   },
   "outputs": [],
   "source": [
    "empltbl.JOB_FAMILY.value_counts()[empltbl.JOB_FAMILY.value_counts()>100]"
   ]
  },
  {
   "cell_type": "code",
   "execution_count": null,
   "metadata": {
    "collapsed": false
   },
   "outputs": [],
   "source": [
    "sort(columns_to_keep)"
   ]
  },
  {
   "cell_type": "code",
   "execution_count": null,
   "metadata": {
    "collapsed": false
   },
   "outputs": [],
   "source": [
    "reduced_tbl = empltbl[columns_to_keep].copy()\n",
    "reduced_tbl.shape"
   ]
  },
  {
   "cell_type": "code",
   "execution_count": null,
   "metadata": {
    "collapsed": false
   },
   "outputs": [],
   "source": [
    "## drop those that are not VOL or NOT in VOLINVOL column\n",
    "sum(reduced_tbl.isin({'VOLINVOL':['NOT','VOLUNTARY']}))"
   ]
  },
  {
   "cell_type": "code",
   "execution_count": null,
   "metadata": {
    "collapsed": false
   },
   "outputs": [],
   "source": [
    "for cat_col in cols_to_categorical:\n",
    "    reduced_tbl[cat_col] = reduced_tbl[cat_col].astype('category')\n"
   ]
  },
  {
   "cell_type": "code",
   "execution_count": null,
   "metadata": {
    "collapsed": false
   },
   "outputs": [],
   "source": [
    "reduced_summary_df = summarize_dataframe2(red_tbl)"
   ]
  },
  {
   "cell_type": "code",
   "execution_count": null,
   "metadata": {
    "collapsed": false
   },
   "outputs": [],
   "source": [
    "reduced_tbl.head()"
   ]
  },
  {
   "cell_type": "code",
   "execution_count": null,
   "metadata": {
    "collapsed": false
   },
   "outputs": [],
   "source": [
    "reduced_tbl.columns"
   ]
  },
  {
   "cell_type": "code",
   "execution_count": null,
   "metadata": {
    "collapsed": false
   },
   "outputs": [],
   "source": [
    "pd.crosstab(reduced_tbl['REMOTE'],reduced_tbl['HUBIND'])"
   ]
  },
  {
   "cell_type": "code",
   "execution_count": null,
   "metadata": {
    "collapsed": false
   },
   "outputs": [],
   "source": [
    "pd.crosstab(reduced_tbl['FTPTCNT1'],reduced_tbl['PTFTCNT1'])"
   ]
  },
  {
   "cell_type": "code",
   "execution_count": null,
   "metadata": {
    "collapsed": false
   },
   "outputs": [],
   "source": [
    "reduced_tbl.FULL_PART_TIME.value_counts()"
   ]
  },
  {
   "cell_type": "code",
   "execution_count": null,
   "metadata": {
    "collapsed": false
   },
   "outputs": [],
   "source": [
    "## further reduce by removing\n",
    "FULL_PART_TIME, ACTRES1, KEY, "
   ]
  },
  {
   "cell_type": "code",
   "execution_count": null,
   "metadata": {
    "collapsed": true
   },
   "outputs": [],
   "source": []
  },
  {
   "cell_type": "code",
   "execution_count": null,
   "metadata": {
    "collapsed": false
   },
   "outputs": [],
   "source": [
    "len(reduced_tbl.JOB_FAMILY.unique()), len(reduced_tbl.JOB_FUNCTION.unique()), len(reduced_tbl.GRADE.unique()),len(reduced_tbl.JOBCODE.unique())"
   ]
  },
  {
   "cell_type": "code",
   "execution_count": null,
   "metadata": {
    "collapsed": false
   },
   "outputs": [],
   "source": [
    "reduced_tbl.JOB_FUNCTION.value_counts().plot(kind='bar',color='burlywood')"
   ]
  },
  {
   "cell_type": "code",
   "execution_count": null,
   "metadata": {
    "collapsed": false
   },
   "outputs": [],
   "source": [
    "reduced_tbl.GRADE.value_counts().plot(kind='bar',color='burlywood')"
   ]
  },
  {
   "cell_type": "code",
   "execution_count": null,
   "metadata": {
    "collapsed": false
   },
   "outputs": [],
   "source": [
    "#sum(reduced_tbl.MAX_RT_ANNUAL==0)\n",
    "reduced_tbl[reduced_tbl.ANNUAL_RT!=0].ANNUAL_RT.hist(bins=40,color='darkorchid')"
   ]
  },
  {
   "cell_type": "code",
   "execution_count": null,
   "metadata": {
    "collapsed": false
   },
   "outputs": [],
   "source": [
    "sum(reduced_tbl.ANNUAL_RT==0)"
   ]
  },
  {
   "cell_type": "code",
   "execution_count": null,
   "metadata": {
    "collapsed": false
   },
   "outputs": [],
   "source": [
    "reduced_tbl['JOB_FUNCTION'].unique()"
   ]
  },
  {
   "cell_type": "code",
   "execution_count": null,
   "metadata": {
    "collapsed": false
   },
   "outputs": [],
   "source": [
    "initial_columns_list = ['SEX','INTERN','FULL_PART_TIME']#,'COMPANY','VOLINVOL']#'JOB_FUNCTION','COMPANY','HUBIND','VOLINVOL']\n",
    "sum(reduced_tbl[initial_columns_list].isnull())"
   ]
  },
  {
   "cell_type": "code",
   "execution_count": null,
   "metadata": {
    "collapsed": false
   },
   "outputs": [],
   "source": [
    "jf_hold = reduced_tbl.JOB_FUNCTION.astype('object')\n",
    "jf_hold.fillna('XXX',inplace=True)\n",
    "reduced_tbl['JOB_FUNCTION'] = jf_hold\n",
    "reduced_tbl['JOB_FUNCTION'] = reduced_tbl['JOB_FUNCTION'].astype('category')"
   ]
  },
  {
   "cell_type": "code",
   "execution_count": null,
   "metadata": {
    "collapsed": false
   },
   "outputs": [],
   "source": [
    "initial_columns_list = ['SEX','Age_years','INTERN','FULL_PART_TIME','JOB_FUNCTION','COMPANY','HUBIND','VOLINVOL']\n",
    "sum(reduced_tbl[initial_columns_list].isnull())"
   ]
  },
  {
   "cell_type": "code",
   "execution_count": null,
   "metadata": {
    "collapsed": false
   },
   "outputs": [],
   "source": [
    "#pull out the reduced columns\n",
    "fill_flag = True\n",
    "reduced2 = reduced_tbl[initial_columns_list].copy()\n",
    "for c in reduced2.columns:\n",
    "    nmissing = sum(reduced2[c].isnull())\n",
    "    datatype = reduced2[c].dtype\n",
    "    if nmissing > 0 and fill_flag:\n",
    "        if datatype=='category':\n",
    "            reduced2[c].fillna('XNA',inplace=True)\n",
    "    \n",
    "        \n",
    "    print c, reduced2[c].dtype"
   ]
  },
  {
   "cell_type": "code",
   "execution_count": null,
   "metadata": {
    "collapsed": false
   },
   "outputs": [],
   "source": [
    "reduced2 = reduced_tbl[initial_columns_list].copy()\n",
    "reduced2.shape"
   ]
  },
  {
   "cell_type": "code",
   "execution_count": null,
   "metadata": {
    "collapsed": false
   },
   "outputs": [],
   "source": [
    "dummy_columns_list1 = list(reduced2.columns) #['SEX','INTERN','FULL_PART_TIME','JOB_FUNCTION','COMPANY','HUBIND','VOLINVOL']"
   ]
  },
  {
   "cell_type": "code",
   "execution_count": null,
   "metadata": {
    "collapsed": false
   },
   "outputs": [],
   "source": [
    "# create a dummified dataframe.\n",
    "reduced_dummies = pd.get_dummies(reduced2[dummy_columns_list1])\n",
    "print reduced_dummies.shape    "
   ]
  },
  {
   "cell_type": "code",
   "execution_count": null,
   "metadata": {
    "collapsed": false
   },
   "outputs": [],
   "source": [
    "dummy_column_list2 = list(reduced_dummies.columns)"
   ]
  },
  {
   "cell_type": "code",
   "execution_count": null,
   "metadata": {
    "collapsed": false
   },
   "outputs": [],
   "source": [
    "dummy_col_to_drop = []\n",
    "for col in dummy_columns_list1:\n",
    "    dclist = [x for x in dummy_column_list2 if x.startswith(col)]\n",
    "    print dclist\n",
    "    dummy_col_to_drop.append(dclist[0])\n",
    "\n",
    "dummy_col_to_keep = list(set(dummy_column_list2) - set(dummy_col_to_drop))\n",
    "\n",
    "reduced3 = reduced_dummies[dummy_col_to_keep].copy()\n",
    "#add the non-categorical back in\n",
    "#reduced3[initial_columns_list[1]] = reduced2[initial_columns_list[1]]\n",
    "reduced3.shape"
   ]
  },
  {
   "cell_type": "code",
   "execution_count": null,
   "metadata": {
    "collapsed": true
   },
   "outputs": [],
   "source": [
    "## add in status and time\n",
    "reduced3['Age'] = empltbl['Age_years']\n",
    "reduced3['status'] = empltbl['status']\n",
    "reduced3['Tenure'] = empltbl['Tenure_months']"
   ]
  },
  {
   "cell_type": "markdown",
   "metadata": {},
   "source": [
    "## Aalen's Additive model"
   ]
  },
  {
   "cell_type": "code",
   "execution_count": null,
   "metadata": {
    "collapsed": false
   },
   "outputs": [],
   "source": [
    "from lifelines import AalenAdditiveFitter\n",
    "reduced3.head()"
   ]
  },
  {
   "cell_type": "code",
   "execution_count": null,
   "metadata": {
    "collapsed": false
   },
   "outputs": [],
   "source": [
    "reduced3.columns"
   ]
  },
  {
   "cell_type": "code",
   "execution_count": null,
   "metadata": {
    "collapsed": false
   },
   "outputs": [],
   "source": [
    "aaf_tenure = AalenAdditiveFitter(penalizer=1.0,fit_intercept=True)"
   ]
  },
  {
   "cell_type": "code",
   "execution_count": null,
   "metadata": {
    "collapsed": false
   },
   "outputs": [],
   "source": [
    "aaf_tenure.fit(reduced3,'Tenure',event_col='status')"
   ]
  },
  {
   "cell_type": "code",
   "execution_count": null,
   "metadata": {
    "collapsed": false
   },
   "outputs": [],
   "source": [
    "aaf_tenure.plot(columns=['FULL_PART_TIME_P','Age','SEX_M','baseline'])"
   ]
  },
  {
   "cell_type": "code",
   "execution_count": null,
   "metadata": {
    "collapsed": false
   },
   "outputs": [],
   "source": [
    "aaf_tenure_b = AalenAdditiveFitter(penalizer=1.0,fit_intercept=True)"
   ]
  },
  {
   "cell_type": "code",
   "execution_count": null,
   "metadata": {
    "collapsed": false
   },
   "outputs": [],
   "source": [
    "aaf_tenure_b.fit(reduced3,'Tenure',event_col='status')"
   ]
  },
  {
   "cell_type": "code",
   "execution_count": null,
   "metadata": {
    "collapsed": true
   },
   "outputs": [],
   "source": []
  },
  {
   "cell_type": "markdown",
   "metadata": {},
   "source": [
    "## CoxPH"
   ]
  },
  {
   "cell_type": "code",
   "execution_count": null,
   "metadata": {
    "collapsed": true
   },
   "outputs": [],
   "source": [
    "from lifelines import CoxPHFitter"
   ]
  },
  {
   "cell_type": "code",
   "execution_count": null,
   "metadata": {
    "collapsed": false
   },
   "outputs": [],
   "source": [
    "cf_tenure = CoxPHFitter()\n",
    "cf_tenure.fit(reduced3,'Tenure',event_col='status')\n"
   ]
  },
  {
   "cell_type": "code",
   "execution_count": null,
   "metadata": {
    "collapsed": false
   },
   "outputs": [],
   "source": [
    "cf_tenure.summary()"
   ]
  },
  {
   "cell_type": "code",
   "execution_count": null,
   "metadata": {
    "collapsed": false
   },
   "outputs": [],
   "source": [
    "cf_tenure.plot(columns=['FULL_PART_TIME_P','Age','SEX_M','baseline'])"
   ]
  },
  {
   "cell_type": "code",
   "execution_count": null,
   "metadata": {
    "collapsed": false
   },
   "outputs": [],
   "source": [
    "cf_tenure.hazards_"
   ]
  },
  {
   "cell_type": "code",
   "execution_count": null,
   "metadata": {
    "collapsed": false
   },
   "outputs": [],
   "source": [
    "cf_tenure.baseline_cumulative_hazard_.plot()"
   ]
  },
  {
   "cell_type": "code",
   "execution_count": null,
   "metadata": {
    "collapsed": true
   },
   "outputs": [],
   "source": [
    "cf_tenurereenure.base"
   ]
  },
  {
   "cell_type": "code",
   "execution_count": null,
   "metadata": {
    "collapsed": true
   },
   "outputs": [],
   "source": [
    "reduced3.index = np.arange(0,len(reduced3))"
   ]
  },
  {
   "cell_type": "code",
   "execution_count": null,
   "metadata": {
    "collapsed": false
   },
   "outputs": [],
   "source": [
    "# k-fold\n",
    "\n",
    "from lifelines.utils import k_fold_cross_validation\n",
    "\n",
    "#regression_dataset = load_regression_dataset()\n",
    "cf = CoxPHFitter()\n",
    "scores = k_fold_cross_validation(cf, reduced3, 'Tenure', event_col='status', k=5)\n",
    "print scores\n",
    "print scores.mean()\n",
    "print scores.std()"
   ]
  },
  {
   "cell_type": "code",
   "execution_count": null,
   "metadata": {
    "collapsed": true
   },
   "outputs": [],
   "source": []
  },
  {
   "cell_type": "code",
   "execution_count": null,
   "metadata": {
    "collapsed": true
   },
   "outputs": [],
   "source": []
  },
  {
   "cell_type": "code",
   "execution_count": null,
   "metadata": {
    "collapsed": true
   },
   "outputs": [],
   "source": [
    "import patsy"
   ]
  },
  {
   "cell_type": "code",
   "execution_count": null,
   "metadata": {
    "collapsed": false
   },
   "outputs": [],
   "source": [
    "X = patsy.dmatrix('SEX + JOB_FUNCTION + Age_years + INTERN + COMPANY + VOLINVOL + HUBIND - 1', reduced2, return_type='dataframe')"
   ]
  },
  {
   "cell_type": "code",
   "execution_count": null,
   "metadata": {
    "collapsed": false
   },
   "outputs": [],
   "source": [
    "patsy.__version__"
   ]
  },
  {
   "cell_type": "code",
   "execution_count": null,
   "metadata": {
    "collapsed": true
   },
   "outputs": [],
   "source": [
    "# now use lifelines\n",
    "from lifelines import KaplanMeierFitter"
   ]
  },
  {
   "cell_type": "code",
   "execution_count": null,
   "metadata": {
    "collapsed": false
   },
   "outputs": [],
   "source": [
    "figsize(14,6)\n",
    "kmf = KaplanMeierFitter()\n",
    "kmf.fit(empltbl.Tenure_months, event_observed=empltbl.status)\n",
    "kmf.plot()\n",
    "plt.ylabel('Survival Distribution Function')\n",
    "plt.xlabel('Tenure months')\n",
    "plt.title('KaplanMeier Survival: ALL employees')"
   ]
  },
  {
   "cell_type": "code",
   "execution_count": null,
   "metadata": {
    "collapsed": true
   },
   "outputs": [],
   "source": [
    "kmf.survival_function_"
   ]
  },
  {
   "cell_type": "markdown",
   "metadata": {
    "collapsed": true
   },
   "source": [
    "### look at difference between M & F"
   ]
  },
  {
   "cell_type": "code",
   "execution_count": null,
   "metadata": {
    "collapsed": false
   },
   "outputs": [],
   "source": [
    "male = empltbl[empltbl['SEX'] =='M']\n",
    "female = empltbl[empltbl['SEX'] =='F']\n",
    "len(male),len(female)"
   ]
  },
  {
   "cell_type": "code",
   "execution_count": null,
   "metadata": {
    "collapsed": false
   },
   "outputs": [],
   "source": [
    "male.Tenure_months.describe(), female.Tenure_months.describe()"
   ]
  },
  {
   "cell_type": "code",
   "execution_count": null,
   "metadata": {
    "collapsed": false
   },
   "outputs": [],
   "source": [
    "min_tenure_months= empltbl.Tenure_months.min()\n",
    "max_tenure_months = empltbl.Tenure_months.max()\n",
    "print min_tenure_months, max_tenure_months\n",
    "tenure_month_range = np.linspace(min_tenure_months,max_tenure_months,65)\n",
    "len(tenure_month_range)"
   ]
  },
  {
   "cell_type": "code",
   "execution_count": null,
   "metadata": {
    "collapsed": false
   },
   "outputs": [],
   "source": [
    "male.Tenure_months.hist(normed=True,color='dodgerblue',bins=65,label='M')\n",
    "female.Tenure_months.hist(normed=True,color='deeppink',alpha=0.5,bins=65,label='F')\n",
    "plt.xlabel('Tenure_months')\n",
    "plt.ylabel('Normed Distribution')\n",
    "plt.legend()"
   ]
  },
  {
   "cell_type": "code",
   "execution_count": null,
   "metadata": {
    "collapsed": false
   },
   "outputs": [],
   "source": [
    "kmf_gender = KaplanMeierFitter()\n",
    "#plt.figure(figsize=(20,10))\n",
    "kmf_gender.fit(male.Tenure_months, timeline=tenure_month_range,event_observed=male.status)\n",
    "ax = kmf_gender.plot(c='dodgerblue',label='Male')\n",
    "kmf_gender.fit(female.Tenure_months,  timeline=tenure_month_range,event_observed=female.status)\n",
    "kmf_gender.plot(ax=ax, c='deeppink',label='Female')\n",
    "ylim(0,1.05)\n",
    "plt.ylabel('Survival Distribution Function')\n",
    "plt.xlabel('Tenure Months')"
   ]
  },
  {
   "cell_type": "markdown",
   "metadata": {
    "collapsed": true
   },
   "source": [
    "## Hazard Function"
   ]
  },
  {
   "cell_type": "code",
   "execution_count": null,
   "metadata": {
    "collapsed": false
   },
   "outputs": [],
   "source": [
    "from lifelines import NelsonAalenFitter\n",
    "#plt.figure(figsize=(12.5,8))\n",
    "naf = NelsonAalenFitter()\n",
    "naf.fit(male.Tenure_months,timeline=tenure_month_range, event_observed=male.status)\n",
    "ax = naf.plot(c='dodgerblue',label='Male')\n",
    "naf.fit(female.Tenure_months,  timeline=tenure_month_range,event_observed=female.status)\n",
    "naf.plot(ax=ax, c='deeppink',label='Female')\n",
    "#ylim(0,1.05)\n",
    "plt.ylabel('Hazard Function')\n",
    "plt.xlabel('Tenure Months')\n",
    "#fit(male.Tenure_months,timeline=tenure_month_range, event_observed=male.status)"
   ]
  },
  {
   "cell_type": "markdown",
   "metadata": {
    "collapsed": true
   },
   "source": [
    "### Repeat using age in years as timeline"
   ]
  },
  {
   "cell_type": "code",
   "execution_count": null,
   "metadata": {
    "collapsed": false
   },
   "outputs": [],
   "source": [
    "empltbl.Age_years.describe()"
   ]
  },
  {
   "cell_type": "code",
   "execution_count": null,
   "metadata": {
    "collapsed": false
   },
   "outputs": [],
   "source": [
    "sum(empltbl.Age_years > 80)"
   ]
  },
  {
   "cell_type": "code",
   "execution_count": null,
   "metadata": {
    "collapsed": false
   },
   "outputs": [],
   "source": [
    "min_age = empltbl.Age_years.min()\n",
    "max_age = empltbl.Age_years.max()\n",
    "print min_age, max_age, max_age - min_age\n",
    "delta_age= int(max_age - min_age)\n",
    "age_range = np.linspace(min_age,max_age,delta_age)\n",
    "len(age_range)"
   ]
  },
  {
   "cell_type": "code",
   "execution_count": null,
   "metadata": {
    "collapsed": false
   },
   "outputs": [],
   "source": [
    "kmf_age = KaplanMeierFitter()\n",
    "kmf_age.fit(empltbl.Age_years, timeline=age_range,event_observed=empltbl.status)\n",
    "kmf_age.plot(color='darkgoldenrod')\n",
    "plt.ylabel('Survival Distribution Function')"
   ]
  },
  {
   "cell_type": "code",
   "execution_count": null,
   "metadata": {
    "collapsed": false
   },
   "outputs": [],
   "source": [
    "male.Age_years.hist(normed=True,color='dodgerblue',bins=82,alpha=0.7,label='M')\n",
    "female.Age_years.hist(normed=True,color='deeppink',alpha=0.3,bins=82,label='F')\n",
    "plt.xlabel('Age_years')\n",
    "plt.ylabel('Normed Distribution')\n",
    "plt.legend()"
   ]
  },
  {
   "cell_type": "code",
   "execution_count": null,
   "metadata": {
    "collapsed": false
   },
   "outputs": [],
   "source": [
    "kmf_gender_age = KaplanMeierFitter()\n",
    "#plt.figure(figsize=(20,10))\n",
    "kmf_gender_age.fit(male.Age_years, timeline=age_range,event_observed=male.status)\n",
    "ax = kmf_gender_age.plot(c='dodgerblue',label='Male')\n",
    "kmf_gender_age.fit(female.Age_years,  timeline=age_range,event_observed=female.status)\n",
    "kmf_gender_age.plot(ax=ax, c='deeppink',label='Female')\n",
    "ylim(0,1.05)\n",
    "plt.ylabel('Survival Distribution Function')\n",
    "plt.xlabel('Age (years)')\n",
    "plt.title('Gender-split KM')"
   ]
  },
  {
   "cell_type": "markdown",
   "metadata": {},
   "source": [
    "## Cox Proportional Hazard Regression\n"
   ]
  },
  {
   "cell_type": "code",
   "execution_count": null,
   "metadata": {
    "collapsed": true
   },
   "outputs": [],
   "source": [
    "from lifelines import CoxPHFitter"
   ]
  },
  {
   "cell_type": "code",
   "execution_count": null,
   "metadata": {
    "collapsed": true
   },
   "outputs": [],
   "source": []
  },
  {
   "cell_type": "code",
   "execution_count": null,
   "metadata": {
    "collapsed": false
   },
   "outputs": [],
   "source": [
    "plt.scatter(empltbl.FLOORCNT1,empltbl.DEPTCNT1,color='burlywood',alpha=0.3)"
   ]
  },
  {
   "cell_type": "code",
   "execution_count": null,
   "metadata": {
    "collapsed": false
   },
   "outputs": [],
   "source": [
    "#pd.crosstab(empltbl, index = 'JOBCNT1',columns =\n",
    "#(empltbl, \n",
    "empltbl[['JOBCNT1','LOCCNT1','DEPTCNT1','GRADECNT1','FLOORCNT1','SUPVCNT1']].corr()"
   ]
  },
  {
   "cell_type": "code",
   "execution_count": null,
   "metadata": {
    "collapsed": false
   },
   "outputs": [],
   "source": [
    "c='EMPL_CLASS'\n",
    "empltbl[c].value_counts()"
   ]
  },
  {
   "cell_type": "code",
   "execution_count": null,
   "metadata": {
    "collapsed": false
   },
   "outputs": [],
   "source": [
    "\n",
    "len(empltbl[c].unique())"
   ]
  },
  {
   "cell_type": "code",
   "execution_count": null,
   "metadata": {
    "collapsed": false
   },
   "outputs": [],
   "source": [
    "plt.scatter(empltbl.ANNUAL_RT,empltbl.SAL1,color='burlywood',alpha=0.3)\n",
    "empltbl[['ANNUAL_RT','SAL1']].corr()"
   ]
  },
  {
   "cell_type": "code",
   "execution_count": null,
   "metadata": {
    "collapsed": false
   },
   "outputs": [],
   "source": [
    "len(empltbl[empltbl.ANNUAL_RT>0])"
   ]
  },
  {
   "cell_type": "code",
   "execution_count": null,
   "metadata": {
    "collapsed": false
   },
   "outputs": [],
   "source": [
    "np.log(empltbl.ANNUAL_RT+1).hist(bins=30)"
   ]
  },
  {
   "cell_type": "code",
   "execution_count": null,
   "metadata": {
    "collapsed": false
   },
   "outputs": [],
   "source": [
    "empltbl.SAL1.hist(bins=80)\n",
    "empltbl.SAL1.describe()"
   ]
  },
  {
   "cell_type": "code",
   "execution_count": null,
   "metadata": {
    "collapsed": false
   },
   "outputs": [],
   "source": [
    "sum(empltbl.SAL1 == 0.0)"
   ]
  },
  {
   "cell_type": "code",
   "execution_count": null,
   "metadata": {
    "collapsed": false
   },
   "outputs": [],
   "source": [
    "empltbl.RELOCATE_ALL_SFI.value_counts()"
   ]
  },
  {
   "cell_type": "code",
   "execution_count": null,
   "metadata": {
    "collapsed": false
   },
   "outputs": [],
   "source": [
    "empltbl.LOCATION.value_counts().hist(bins=50)"
   ]
  },
  {
   "cell_type": "code",
   "execution_count": null,
   "metadata": {
    "collapsed": false
   },
   "outputs": [],
   "source": [
    "empltbl.LOC_STATE.unique()"
   ]
  },
  {
   "cell_type": "markdown",
   "metadata": {
    "collapsed": false
   },
   "source": [
    "## encode some of the categorical columns"
   ]
  },
  {
   "cell_type": "markdown",
   "metadata": {
    "collapsed": true
   },
   "source": [
    "## Per discussion with HR TEAM on April 22, 2015"
   ]
  },
  {
   "cell_type": "code",
   "execution_count": null,
   "metadata": {
    "collapsed": true
   },
   "outputs": [],
   "source": [
    "empl = empltbl4[empltbl4.sep_status<=2] # Remove the OTHER & UNKNOWN reasons"
   ]
  },
  {
   "cell_type": "code",
   "execution_count": null,
   "metadata": {
    "collapsed": false
   },
   "outputs": [],
   "source": [
    "empl.shape"
   ]
  },
  {
   "cell_type": "code",
   "execution_count": null,
   "metadata": {
    "collapsed": false
   },
   "outputs": [],
   "source": [
    "# look at the list of ACTRES1 for  ReTIREMENT\n",
    "uniq_action_reasons_1 = empl.ACTRES1.unique()\n",
    "print len(uniq_action_reasons_1)\n",
    "#ret_action_reasons_1 = [x for x in uniq_action_reasons_1 if 'RETIREMENT' in x]\n",
    "#print len(ret_action_reasons_1)"
   ]
  },
  {
   "cell_type": "code",
   "execution_count": null,
   "metadata": {
    "collapsed": false
   },
   "outputs": [],
   "source": [
    "temp_list = [x.split(';') for x in uniq_action_reasons_1]\n",
    "from itertools import chain\n",
    "act_reason_1_list = list(chain.from_iterable(temp_list))\n",
    "print len(act_reason_1_list)"
   ]
  },
  {
   "cell_type": "code",
   "execution_count": null,
   "metadata": {
    "collapsed": true
   },
   "outputs": [],
   "source": [
    "act_reason_1_set = set(act_reason_1_list)"
   ]
  },
  {
   "cell_type": "code",
   "execution_count": null,
   "metadata": {
    "collapsed": false
   },
   "outputs": [],
   "source": [
    "len(act_reason_1_set)"
   ]
  },
  {
   "cell_type": "code",
   "execution_count": null,
   "metadata": {
    "collapsed": false
   },
   "outputs": [],
   "source": [
    "[x for x in act_reason_1_set if 'DISABI' in x]"
   ]
  },
  {
   "cell_type": "code",
   "execution_count": null,
   "metadata": {
    "collapsed": false
   },
   "outputs": [],
   "source": [
    "#possible_retire_codes = \n",
    "possible_retire_codes = [x for x in act_reason_1_set if ('RET' in x and  'RETURN' not in x) ]\n",
    "possible_retire_codes.append('DISABILITY')\n",
    "len(possible_retire_codes)"
   ]
  },
  {
   "cell_type": "code",
   "execution_count": null,
   "metadata": {
    "collapsed": false
   },
   "outputs": [],
   "source": [
    "possible_retire_codes.sort()"
   ]
  },
  {
   "cell_type": "code",
   "execution_count": null,
   "metadata": {
    "collapsed": false
   },
   "outputs": [],
   "source": [
    "possible_retire_codes"
   ]
  },
  {
   "cell_type": "code",
   "execution_count": null,
   "metadata": {
    "collapsed": false
   },
   "outputs": [],
   "source": [
    "t1 = empl.ACTRES1.ix[1]\n",
    "[a for a in t1.split(';') if a in possible_retire_codes ]"
   ]
  },
  {
   "cell_type": "code",
   "execution_count": null,
   "metadata": {
    "collapsed": false
   },
   "outputs": [],
   "source": [
    "possible_retire_codes"
   ]
  },
  {
   "cell_type": "code",
   "execution_count": null,
   "metadata": {
    "collapsed": false
   },
   "outputs": [],
   "source": [
    "empl['disabled'] = empl.ACTRES1.apply(lambda x: len([a for a in x.split(';') if a == 'DISABILITY']))\n",
    "empl[empl['disabled']!=0].Age_years.hist()"
   ]
  },
  {
   "cell_type": "code",
   "execution_count": null,
   "metadata": {
    "collapsed": false
   },
   "outputs": [],
   "source": [
    "sum(empl.disabled==1)"
   ]
  },
  {
   "cell_type": "code",
   "execution_count": null,
   "metadata": {
    "collapsed": false
   },
   "outputs": [],
   "source": [
    "empl.sep_status.value_counts()"
   ]
  },
  {
   "cell_type": "code",
   "execution_count": null,
   "metadata": {
    "collapsed": false
   },
   "outputs": [],
   "source": [
    "len(empl), len(empltbl4)"
   ]
  },
  {
   "cell_type": "code",
   "execution_count": null,
   "metadata": {
    "collapsed": false
   },
   "outputs": [],
   "source": [
    "empl[empl['retired']==1].Age_years.hist(bins=70,range=[16,85],color='darkorchid')\n",
    "empl[empl['retired']==0].Age_years.hist(bins=70,range=[16,86],color='forestgreen',alpha=0.7)"
   ]
  },
  {
   "cell_type": "code",
   "execution_count": null,
   "metadata": {
    "collapsed": false
   },
   "outputs": [],
   "source": [
    "sum(empl.retired==1)"
   ]
  },
  {
   "cell_type": "code",
   "execution_count": null,
   "metadata": {
    "collapsed": false
   },
   "outputs": [],
   "source": [
    "pd.crosstab(empl.retired,empl.sep_status)"
   ]
  },
  {
   "cell_type": "code",
   "execution_count": null,
   "metadata": {
    "collapsed": false
   },
   "outputs": [],
   "source": [
    "empl[(empl.sep_status==0) & (empl.retired==1)]['KEY']"
   ]
  },
  {
   "cell_type": "code",
   "execution_count": null,
   "metadata": {
    "collapsed": false
   },
   "outputs": [],
   "source": [
    "print empltbl[empltbl.KEY=='185980322857378'][date_columns]\n",
    "empltbl[empltbl.KEY=='185980322857378'].Age_years"
   ]
  },
  {
   "cell_type": "code",
   "execution_count": null,
   "metadata": {
    "collapsed": false
   },
   "outputs": [],
   "source": [
    "empltbl[empltbl.KEY=='185980322857378'][['ACTRES1','ACTRES2','ACTRES3','ACTRES4','ACTRES5','ACTRES6','ACTRES7','ACTRES9','ACTRES10']].values"
   ]
  },
  {
   "cell_type": "code",
   "execution_count": null,
   "metadata": {
    "collapsed": false
   },
   "outputs": [],
   "source": [
    "empl[empl['retired']==1].Age_years.hist(bins=70,range=[16,85],color='darkorchid',label='retired')\n",
    "empl[(empl['retired']==0) & (empl.status==1)].Age_years.hist(bins=70,range=[16,86],color='forestgreen',alpha=0.7,label='separated')\n",
    "empl[(empl['retired']==0) & (empl.status==0)].Age_years.hist(bins=70,range=[16,86],color='darkkhaki',alpha=0.7,label='current')\n",
    "#empl[(empl['retired']==0) & (empl.status==1)].Age_years.hist(bins=70,range=[16,86],color='forestgreen',alpha=0.7)\n",
    "plt.ylabel('Number of employees')\n",
    "plt.xlabel('Age')\n",
    "plt.legend()"
   ]
  },
  {
   "cell_type": "code",
   "execution_count": null,
   "metadata": {
    "collapsed": false
   },
   "outputs": [],
   "source": [
    "sum(empl.SAL1== 0.0)"
   ]
  },
  {
   "cell_type": "code",
   "execution_count": null,
   "metadata": {
    "collapsed": false
   },
   "outputs": [],
   "source": [
    "len(empl)"
   ]
  },
  {
   "cell_type": "markdown",
   "metadata": {},
   "source": [
    "## April 27, 2015 \n",
    "* need to categorize all data I can before loading into R"
   ]
  },
  {
   "cell_type": "code",
   "execution_count": null,
   "metadata": {
    "collapsed": false
   },
   "outputs": [],
   "source": [
    "empltbl4=pd.read_csv('employee_dataframe4.tsv',sep='\\t',index_col=0,dtype={'EMPL_CLASS':np.str,'EMPL_TYPE':np.str})\n",
    "empltbl4.shape"
   ]
  },
  {
   "cell_type": "code",
   "execution_count": null,
   "metadata": {
    "collapsed": false
   },
   "outputs": [],
   "source": [
    "sdf4 = summarize_dataframe2(empltbl4)"
   ]
  },
  {
   "cell_type": "code",
   "execution_count": null,
   "metadata": {
    "collapsed": false
   },
   "outputs": [],
   "source": [
    "sdf4[sdf4.datatype=='object']"
   ]
  },
  {
   "cell_type": "code",
   "execution_count": null,
   "metadata": {
    "collapsed": false
   },
   "outputs": [],
   "source": [
    "# convert ethnic_group to int\n",
    "empltbl4['ETHNIC_GROUP'] = empltbl4['ETHNIC_GROUP'].apply(lambda x: int(x))"
   ]
  },
  {
   "cell_type": "code",
   "execution_count": null,
   "metadata": {
    "collapsed": false
   },
   "outputs": [],
   "source": [
    "empltbl4.STATE.value_counts()[empltbl4.STATE.value_counts()<50]"
   ]
  },
  {
   "cell_type": "code",
   "execution_count": null,
   "metadata": {
    "collapsed": false
   },
   "outputs": [],
   "source": [
    "empltbl4.LOC_STATE.value_counts()[empltbl4.LOC_STATE.value_counts()<50]"
   ]
  },
  {
   "cell_type": "code",
   "execution_count": null,
   "metadata": {
    "collapsed": false
   },
   "outputs": [],
   "source": [
    "empltbl4[empltbl4.STATE=='HH'][['status','LOC_STATE','STATE','KEY']]#in [11,29]]"
   ]
  },
  {
   "cell_type": "code",
   "execution_count": null,
   "metadata": {
    "collapsed": false
   },
   "outputs": [],
   "source": [
    "empltbl[empltbl.STATE=='BC'][['KEY','LOC_STATE','STATE','status','POSTAL_SFI','ADDRESS1','ADDRESS2','TERMINATION_DT','GRADE','LOCATION']]"
   ]
  },
  {
   "cell_type": "code",
   "execution_count": null,
   "metadata": {
    "collapsed": false
   },
   "outputs": [],
   "source": [
    "empltbl[empltbl.KEY=='811710100533306'].values\n",
    "#empltbl[empltbl.KEY=='296979068916747'].values"
   ]
  },
  {
   "cell_type": "code",
   "execution_count": null,
   "metadata": {
    "collapsed": false
   },
   "outputs": [],
   "source": [
    "empltbl[empltbl.KEY=='811710100533306'][['ADDRESS1','ADDRESS2','LOCATION','POSTAL_SFI']]"
   ]
  },
  {
   "cell_type": "code",
   "execution_count": null,
   "metadata": {
    "collapsed": false
   },
   "outputs": [],
   "source": [
    "empltbl4.SEX.value_counts()\n",
    "empltbl4['COMP_FREQ_ANNUAL'] = 1\n",
    "empltbl4.loc[empltbl4['COMP_FREQUENCY']=='H','COMP_FREQ_ANNUAL'] = 0\n",
    "#empltbl4.drop('COMP_FREQUENCY',axis=1,inplace=True)\n",
    "\n",
    "# now deal with male,female\n",
    "empltbl4.replace({'SEX':{'M': 1,'F':0}},inplace=True)\n",
    "empltbl4[['COMP_FREQ_ANNUAL','SEX','SHIFT']].head()"
   ]
  },
  {
   "cell_type": "code",
   "execution_count": null,
   "metadata": {
    "collapsed": false
   },
   "outputs": [],
   "source": [
    "empltbl4.COMP_FREQ_ANNUAL.value_counts()"
   ]
  },
  {
   "cell_type": "code",
   "execution_count": null,
   "metadata": {
    "collapsed": false
   },
   "outputs": [],
   "source": [
    "empltbl4.drop('COMP_FREQUENCY',axis=1,inplace=True)\n",
    "empltbl4.drop('STATE',axis=1,inplace=True)\n",
    "empltbl4.shape\n"
   ]
  },
  {
   "cell_type": "code",
   "execution_count": null,
   "metadata": {
    "collapsed": true
   },
   "outputs": [],
   "source": [
    "# assign 1 to Y, 0 to N for the following columns\n",
    "columns_to_fix_NY = ['INTERN','FULLPART1','RELOCATE_ALL_SFI','HUBIND','REMOTE','REMOTE_SUPV','SUPV_DIFF_LOC','PARTFULL1']\n",
    "for acol in columns_to_fix_NY:\n",
    "    empltbl4.replace({acol :{'Y':1,'N':0}},inplace=True) "
   ]
  },
  {
   "cell_type": "code",
   "execution_count": null,
   "metadata": {
    "collapsed": true
   },
   "outputs": [],
   "source": [
    "cols_to_cat = ['FLSA_STATUS','FULL_PART_TIME','SHIFT','EMPL_TYPE','COMPANY','ETHNIC_GROUP','EEO1CODE','EMPL_CLASS','JOB_FUNCTION']"
   ]
  },
  {
   "cell_type": "code",
   "execution_count": null,
   "metadata": {
    "collapsed": false
   },
   "outputs": [],
   "source": [
    "sdf4.sort(['arity','datatype'],ascending =True)[sdf4.arity > 9]"
   ]
  },
  {
   "cell_type": "code",
   "execution_count": null,
   "metadata": {
    "collapsed": false
   },
   "outputs": [],
   "source": [
    "## convert HIRE_DT to HIRE_YEAR\n",
    "[c for c in empltbl4.columns if c.endswith('DT')]"
   ]
  },
  {
   "cell_type": "code",
   "execution_count": null,
   "metadata": {
    "collapsed": false
   },
   "outputs": [],
   "source": [
    "empltbl4['retired'] = empltbl4.ACTRES1.apply(lambda x: identify_retired(x))\n",
    "sum(empltbl4.retired==1)"
   ]
  },
  {
   "cell_type": "code",
   "execution_count": null,
   "metadata": {
    "collapsed": false
   },
   "outputs": [],
   "source": [
    "# encode the VOLINVOL column as ['INVOLUNTARY':2,'VOLUNTARY':1,'NOT':0,'\n",
    "empltbl4['sep_status'] = empltbl4['VOLINVOL'].replace({'NOT':0,'VOLUNTARY':1,'INVOLUNTARY':2,'OTHER':3,'UNKNOWN':3})\n",
    "empltbl4.sep_status.value_counts()"
   ]
  },
  {
   "cell_type": "code",
   "execution_count": null,
   "metadata": {
    "collapsed": true
   },
   "outputs": [],
   "source": [
    "empl = empltbl4.copy()"
   ]
  },
  {
   "cell_type": "code",
   "execution_count": null,
   "metadata": {
    "collapsed": false
   },
   "outputs": [],
   "source": [
    "empl = empltbl4.copy()\n",
    "empl.drop(['VOLINVOL','ACTRES1','HIRE_DT'],axis=1,inplace=True)\n",
    "empl.head()"
   ]
  },
  {
   "cell_type": "code",
   "execution_count": null,
   "metadata": {
    "collapsed": false
   },
   "outputs": [],
   "source": [
    "egrp, bc1 = create_factorized_df(empl,acol)"
   ]
  },
  {
   "cell_type": "code",
   "execution_count": null,
   "metadata": {
    "collapsed": false
   },
   "outputs": [],
   "source": [
    "sgrp, bc1 = create_factorized_dfrized_df(empl,'LOC_STATE')"
   ]
  },
  {
   "cell_type": "code",
   "execution_count": null,
   "metadata": {
    "collapsed": true
   },
   "outputs": [],
   "source": [
    "more_cols_to_cat = ['LOC_STATE','GRADE','EXT_FUNC_ID_SFI','JOB_FAMILY']"
   ]
  },
  {
   "cell_type": "code",
   "execution_count": null,
   "metadata": {
    "collapsed": false
   },
   "outputs": [],
   "source": [
    "## remove sep_status == 3\n",
    "empl=empl[empl.sep_status<3].copy()\n",
    "empl.shape"
   ]
  },
  {
   "cell_type": "code",
   "execution_count": null,
   "metadata": {
    "collapsed": false
   },
   "outputs": [],
   "source": [
    "for acol in more_cols_to_cat[:2]:\n",
    "    print acol\n",
    "    t_df,bc1 = create_factorized_df(empl,acol)\n",
    "    # drop the original column\n",
    "    empl.drop(acol,inplace=True,axis=1)\n",
    "    # append the factorized categories\n",
    "    empl = pd.concat([empl,t_df],axis=1)\n",
    "    base_category_list.append(bc1)\n"
   ]
  },
  {
   "cell_type": "code",
   "execution_count": null,
   "metadata": {
    "collapsed": false
   },
   "outputs": [],
   "source": [
    "empl.shape"
   ]
  },
  {
   "cell_type": "code",
   "execution_count": null,
   "metadata": {
    "collapsed": true
   },
   "outputs": [],
   "source": []
  },
  {
   "cell_type": "code",
   "execution_count": null,
   "metadata": {
    "collapsed": false
   },
   "outputs": [],
   "source": [
    "## save this to a file\n",
    "empl.drop(more_cols_to_cat[2:],axis=1,inplace=True)\n",
    "empl.drop('KEY',axis=1,inplace=True)\n",
    "empl.to_csv('employee_dataframe5.tsv',sep='\\t',index =False)"
   ]
  },
  {
   "cell_type": "markdown",
   "metadata": {
    "collapsed": true
   },
   "source": [
    "#### create integers for times; required for CoxPH in H2O."
   ]
  },
  {
   "cell_type": "code",
   "execution_count": null,
   "metadata": {
    "collapsed": false
   },
   "outputs": [],
   "source": [
    "empl[['Age','Tenure']] = empl[['Age_years','Tenure_years']].applymap(lambda x: int(round(x,0)))"
   ]
  },
  {
   "cell_type": "code",
   "execution_count": null,
   "metadata": {
    "collapsed": false
   },
   "outputs": [],
   "source": [
    "empl[['Age','Age_years']].head()"
   ]
  },
  {
   "cell_type": "code",
   "execution_count": null,
   "metadata": {
    "collapsed": false
   },
   "outputs": [],
   "source": [
    "empl.to_csv('employee_dataframe6.tsv',sep='\\t',index =False)"
   ]
  },
  {
   "cell_type": "code",
   "execution_count": null,
   "metadata": {
    "collapsed": false
   },
   "outputs": [],
   "source": [
    "sdfB = summarize_dataframe2(empl)"
   ]
  },
  {
   "cell_type": "code",
   "execution_count": null,
   "metadata": {
    "collapsed": false
   },
   "outputs": [],
   "source": [
    "sdfB.sort('arity')"
   ]
  },
  {
   "cell_type": "code",
   "execution_count": null,
   "metadata": {
    "collapsed": false
   },
   "outputs": [],
   "source": [
    "\n",
    "#empl.FUNC_ID_SFI.value_counts()"
   ]
  },
  {
   "cell_type": "code",
   "execution_count": null,
   "metadata": {
    "collapsed": false
   },
   "outputs": [],
   "source": [
    "def convert_to_int(x):\n",
    "    try:\n",
    "        x=int(x)\n",
    "    except:\n",
    "        x=-1\n",
    "    return x\n",
    "\n",
    "empl.FUNC_ID_SFI = empl.FUNC_ID_SFI.apply(lambda x: convert_to_int(x))\n",
    "len(empl.FUNC_ID_SFI.unique())"
   ]
  },
  {
   "cell_type": "code",
   "execution_count": null,
   "metadata": {
    "collapsed": false
   },
   "outputs": [],
   "source": [
    "len(empl)"
   ]
  },
  {
   "cell_type": "code",
   "execution_count": null,
   "metadata": {
    "collapsed": true
   },
   "outputs": [],
   "source": [
    "empl.drop(['LOCATION','LEGACY_DEPT_SFI','Tenure_months'],axis=1,inplace=True)"
   ]
  },
  {
   "cell_type": "code",
   "execution_count": null,
   "metadata": {
    "collapsed": true
   },
   "outputs": [],
   "source": [
    "empl.to_csv('employee_dataframe5.tsv',sep='\\t',ignore_index =True)"
   ]
  },
  {
   "cell_type": "code",
   "execution_count": null,
   "metadata": {
    "collapsed": false
   },
   "outputs": [],
   "source": [
    "[c for c  in enumerate(list(empl.columns))]"
   ]
  },
  {
   "cell_type": "code",
   "execution_count": null,
   "metadata": {
    "collapsed": false
   },
   "outputs": [],
   "source": [
    "empl.loc[:2000,'status'].value_counts()"
   ]
  },
  {
   "cell_type": "code",
   "execution_count": null,
   "metadata": {
    "collapsed": false
   },
   "outputs": [],
   "source": [
    "empl.loc[:2000,'retired'].value_counts()"
   ]
  },
  {
   "cell_type": "code",
   "execution_count": null,
   "metadata": {
    "collapsed": false
   },
   "outputs": [],
   "source": [
    "sum(empl.retired==1)"
   ]
  },
  {
   "cell_type": "code",
   "execution_count": null,
   "metadata": {
    "collapsed": false
   },
   "outputs": [],
   "source": [
    "empl.loc[:4000,'retired'].value_counts()\n"
   ]
  },
  {
   "cell_type": "code",
   "execution_count": null,
   "metadata": {
    "collapsed": true
   },
   "outputs": [],
   "source": [
    "#X = patsy.dmatrix('Age_years + COMPANY + INTERN + SEX',empltbl4, return_type='dataframe')\n",
    "#X.columns\n",
    "aaf = AalenAdditiveFitter(penalizer=1.0, fit_intercept=True)\n",
    "X['T'] = empltbl4['Tenure_years']\n",
    "X['E'] = empltbl4['status']"
   ]
  },
  {
   "cell_type": "code",
   "execution_count": null,
   "metadata": {
    "collapsed": true
   },
   "outputs": [],
   "source": [
    "empl.Age_years"
   ]
  },
  {
   "cell_type": "code",
   "execution_count": null,
   "metadata": {
    "collapsed": false
   },
   "outputs": [],
   "source": [
    "Xft = patsy.dmatrix( 'Age_years +ANNUAL_RT+PERF1+INTERN+SEX',empl,return_type='dataframe')\n",
    "Xft.shape"
   ]
  },
  {
   "cell_type": "code",
   "execution_count": null,
   "metadata": {
    "collapsed": true
   },
   "outputs": [],
   "source": [
    "Xft['T'] = empl.Tenure_years#empl.ix[:4010]['Tenure_years']\n",
    "Xft['E']=empl.retired#empl.ix[:4010]['retired']"
   ]
  },
  {
   "cell_type": "code",
   "execution_count": null,
   "metadata": {
    "collapsed": false
   },
   "outputs": [],
   "source": [
    "aaf_ret = AalenAdditiveFitter(penalizer=1.0, fit_intercept=True)\n",
    "aaf_ret.fit(Xft,'T','E')"
   ]
  },
  {
   "cell_type": "code",
   "execution_count": null,
   "metadata": {
    "collapsed": false
   },
   "outputs": [],
   "source": [
    "aaf_ret.plot(columns=['baseline','Age_years','INTERN','SEX','ANNUAL_RT'],ix=slice(1,15))"
   ]
  },
  {
   "cell_type": "code",
   "execution_count": null,
   "metadata": {
    "collapsed": false
   },
   "outputs": [],
   "source": [
    "from lifelines import CoxPHFitter\n",
    "cf = CoxPHFitter()"
   ]
  },
  {
   "cell_type": "code",
   "execution_count": null,
   "metadata": {
    "collapsed": false
   },
   "outputs": [],
   "source": [
    "%%time \n",
    "cf.fit(Xft[Xft.columns[1:]],'T','E')"
   ]
  },
  {
   "cell_type": "code",
   "execution_count": null,
   "metadata": {
    "collapsed": false
   },
   "outputs": [],
   "source": [
    "cf.summary()"
   ]
  },
  {
   "cell_type": "code",
   "execution_count": null,
   "metadata": {
    "collapsed": false
   },
   "outputs": [],
   "source": [
    "few_columns1=['Age_years','ANNUAL_RT','PERF1','INTERN','SEX','Tenure_years','retired']\n",
    "reduced1 = empl.loc[:,few_columns1].copy()\n",
    "reduced1.shape"
   ]
  },
  {
   "cell_type": "code",
   "execution_count": null,
   "metadata": {
    "collapsed": false
   },
   "outputs": [],
   "source": [
    "%%time \n",
    "cf.fit(reduced1,'Tenure_years','retired')"
   ]
  },
  {
   "cell_type": "code",
   "execution_count": null,
   "metadata": {
    "collapsed": false
   },
   "outputs": [],
   "source": [
    "cf.summary()"
   ]
  },
  {
   "cell_type": "code",
   "execution_count": null,
   "metadata": {
    "collapsed": false
   },
   "outputs": [],
   "source": [
    "cf.confidence_intervals_.head()"
   ]
  },
  {
   "cell_type": "code",
   "execution_count": null,
   "metadata": {
    "collapsed": false
   },
   "outputs": [],
   "source": [
    "cf.hazards_.head()"
   ]
  },
  {
   "cell_type": "code",
   "execution_count": null,
   "metadata": {
    "collapsed": false
   },
   "outputs": [],
   "source": [
    "sum(aaf_ret.event_observed)"
   ]
  },
  {
   "cell_type": "code",
   "execution_count": null,
   "metadata": {
    "collapsed": true
   },
   "outputs": [],
   "source": [
    "from lifelines.utils import k_fold_cross_validation\n",
    "xv_cf = CoxPHFitter()\n",
    "cf_scores = k_fold_cross_validation(xv_cf, reduced1,duration_col='Tenure_years',event_col='retired',k=10)"
   ]
  },
  {
   "cell_type": "code",
   "execution_count": null,
   "metadata": {
    "collapsed": false
   },
   "outputs": [],
   "source": [
    "cf_scores.mean(), cf_scores.std()"
   ]
  },
  {
   "cell_type": "code",
   "execution_count": null,
   "metadata": {
    "collapsed": false
   },
   "outputs": [],
   "source": [
    "xv_cf.hazards_"
   ]
  },
  {
   "cell_type": "code",
   "execution_count": null,
   "metadata": {
    "collapsed": false
   },
   "outputs": [],
   "source": [
    "reduced1.ix[44]"
   ]
  },
  {
   "cell_type": "code",
   "execution_count": null,
   "metadata": {
    "collapsed": false
   },
   "outputs": [],
   "source": [
    "np.shape(reduced1.iloc[4:5,:-2].values)\n",
    "retired_sf_avg = xv_cf.predict_survival_function(reduced1[reduced1.retired==1][reduced1.columns[:-2]].values).mean(axis=1)#.plot()#.iloc[34:35,:-2].values).plot()"
   ]
  },
  {
   "cell_type": "code",
   "execution_count": null,
   "metadata": {
    "collapsed": true
   },
   "outputs": [],
   "source": [
    "notretired_sf_avg = xv_cf.predict_survival_function(reduced1[reduced1.retired==0][reduced1.columns[:-2]].values).mean(axis=1)"
   ]
  },
  {
   "cell_type": "code",
   "execution_count": null,
   "metadata": {
    "collapsed": false
   },
   "outputs": [],
   "source": [
    "xv_cf.predict_survival_function(re"
   ]
  },
  {
   "cell_type": "code",
   "execution_count": null,
   "metadata": {
    "collapsed": false
   },
   "outputs": [],
   "source": [
    "retired_sf_avg.plot(label='retired')\n",
    "notretired_sf_avg.plot(label='not-retired')\n",
    "plt.xlabel('Tenure Years')\n",
    "plt.ylabel('Predicted Survival Function')"
   ]
  },
  {
   "cell_type": "code",
   "execution_count": null,
   "metadata": {
    "collapsed": false
   },
   "outputs": [],
   "source": [
    "reduced1.iloc[24:25,:-2]"
   ]
  },
  {
   "cell_type": "code",
   "execution_count": null,
   "metadata": {
    "collapsed": false
   },
   "outputs": [],
   "source": [
    "cf.baseline_survival_.plot()"
   ]
  },
  {
   "cell_type": "markdown",
   "metadata": {
    "collapsed": true
   },
   "source": [
    "## examining relationships (correlations) between columns"
   ]
  },
  {
   "cell_type": "code",
   "execution_count": null,
   "metadata": {
    "collapsed": false
   },
   "outputs": [],
   "source": [
    "empl[['Tenure_years','hire_year']].corr()"
   ]
  },
  {
   "cell_type": "code",
   "execution_count": null,
   "metadata": {
    "collapsed": false
   },
   "outputs": [],
   "source": [
    "empl.plot(kind='scatter',x='Tenure_years',y='hire_year',\n",
    "          alpha=0.3)"
   ]
  },
  {
   "cell_type": "code",
   "execution_count": null,
   "metadata": {
    "collapsed": false
   },
   "outputs": [],
   "source": [
    "empl.plot(kind='scatter',x='hire_year',y='Age_years',\n",
    "          alpha=0.3)"
   ]
  },
  {
   "cell_type": "code",
   "execution_count": null,
   "metadata": {
    "collapsed": false
   },
   "outputs": [],
   "source": [
    "[x for x in empl.columns if x.endswith('MOS')]"
   ]
  },
  {
   "cell_type": "code",
   "execution_count": null,
   "metadata": {
    "collapsed": false
   },
   "outputs": [],
   "source": [
    "empl.plot(kind='scatter',x='CUR_LOC_MOS',y='CUR_DEPT_MOS',color='chartreuse',          alpha=0.3)"
   ]
  },
  {
   "cell_type": "code",
   "execution_count": null,
   "metadata": {
    "collapsed": false
   },
   "outputs": [],
   "source": [
    "pd.crosstab(empl.CUR_DEPT_MOS,empl.CUR_FUNC_MOS)"
   ]
  },
  {
   "cell_type": "code",
   "execution_count": null,
   "metadata": {
    "collapsed": false
   },
   "outputs": [],
   "source": [
    "empl.Tenure.describe()\n"
   ]
  },
  {
   "cell_type": "code",
   "execution_count": null,
   "metadata": {
    "collapsed": false
   },
   "outputs": [],
   "source": [
    "empl.Tenure.hist(bins=65,color='steelblue')"
   ]
  },
  {
   "cell_type": "markdown",
   "metadata": {
    "collapsed": true
   },
   "source": [
    "## EXPLORE more about some of these features.\n",
    "* especially ones that may be missing or zeroed out\n",
    "* SAL1, MIN_RT_ANNUAL"
   ]
  },
  {
   "cell_type": "code",
   "execution_count": null,
   "metadata": {
    "collapsed": false
   },
   "outputs": [],
   "source": [
    "empl.MIN_RT_ANNUAL.describe()"
   ]
  },
  {
   "cell_type": "code",
   "execution_count": null,
   "metadata": {
    "collapsed": false
   },
   "outputs": [],
   "source": [
    "sum(empl.MIN_RT_ANNUAL==0.0), sum(empl.MAX_RT_ANNUAL==0.0)"
   ]
  },
  {
   "cell_type": "code",
   "execution_count": null,
   "metadata": {
    "collapsed": false
   },
   "outputs": [],
   "source": [
    "empl[empl.MIN_RT_ANNUAL==0.0]['Tenure'].hist(range=[0,64],normed=True,bins=65)\n",
    "empl[empl.MIN_RT_ANNUAL!=0.0]['Tenure'].hist(range=[0,64],normed=True,bins=65,alpha=0.6)"
   ]
  },
  {
   "cell_type": "code",
   "execution_count": null,
   "metadata": {
    "collapsed": false
   },
   "outputs": [],
   "source": [
    "empl[empl.MIN_RT_ANNUAL>0].MIN_RT_ANNUAL.hist(bins=30)"
   ]
  },
  {
   "cell_type": "code",
   "execution_count": null,
   "metadata": {
    "collapsed": false
   },
   "outputs": [],
   "source": [
    "empl[empl.MIN_RT_ANNUAL>1].MIN_RT_ANNUAL.describe()"
   ]
  },
  {
   "cell_type": "code",
   "execution_count": null,
   "metadata": {
    "collapsed": false
   },
   "outputs": [],
   "source": [
    "empl[empl.MAX_RT_ANNUAL>1].MAX_RT_ANNUAL.describe()"
   ]
  },
  {
   "cell_type": "code",
   "execution_count": null,
   "metadata": {
    "collapsed": false
   },
   "outputs": [],
   "source": [
    "print empl.TELE_MOS.describe()\n",
    "empl.plot(kind='scatter', x='TELE_MOS',y='status')"
   ]
  },
  {
   "cell_type": "code",
   "execution_count": null,
   "metadata": {
    "collapsed": false
   },
   "outputs": [],
   "source": [
    "[c for c in empl.columns if c.startswith('JOB_FUNCTION')]\n",
    "#pd.crosstab(empl.GRADE_MA1,empl.JOB_FUNCTION_OTH)"
   ]
  },
  {
   "cell_type": "code",
   "execution_count": null,
   "metadata": {
    "collapsed": false
   },
   "outputs": [],
   "source": [
    "pd.crosstab(empltbl4.GRADE,empltbl4.JOB_FUNCTION)"
   ]
  },
  {
   "cell_type": "code",
   "execution_count": null,
   "metadata": {
    "collapsed": false
   },
   "outputs": [],
   "source": []
  },
  {
   "cell_type": "code",
   "execution_count": null,
   "metadata": {
    "collapsed": false
   },
   "outputs": [],
   "source": [
    "rl_grades = [x for x in empltbl2.GRADE.unique() if str(x).startswith('RL')]\n",
    "rj_grades = [x for x in empltbl2.GRADE.unique() if str(x).startswith('RJ')]"
   ]
  },
  {
   "cell_type": "code",
   "execution_count": null,
   "metadata": {
    "collapsed": false
   },
   "outputs": [],
   "source": [
    "sum(empltbl2.GRADE.isin(rl_grades)), sum(empltbl2.GRADE.isin(rj_grades))"
   ]
  },
  {
   "cell_type": "code",
   "execution_count": null,
   "metadata": {
    "collapsed": false
   },
   "outputs": [],
   "source": [
    "rls = empltbl2.GRADE.isin(rl_grades)\n",
    "rjs = empltbl2.GRADE.isin(rj_grades)\n",
    "empltbl2[rls].SAL1.hist()\n",
    "empltbl2[rjs].SAL1.hist()\n"
   ]
  },
  {
   "cell_type": "code",
   "execution_count": null,
   "metadata": {
    "collapsed": false
   },
   "outputs": [],
   "source": [
    "[c for c in empltbl2.columns if c.startswith('Ten')]"
   ]
  },
  {
   "cell_type": "code",
   "execution_count": null,
   "metadata": {
    "collapsed": false
   },
   "outputs": [],
   "source": [
    "empltbl2[rls].plot(kind='scatter',x='Tenure_months',y='SAL1')\n",
    "empltbl2[rjs].plot(kind='scatter',x='Tenure_months',y='SAL1')"
   ]
  },
  {
   "cell_type": "markdown",
   "metadata": {
    "collapsed": true
   },
   "source": [
    "## May 18, 2015\n",
    "* look at loading EAS (absences) data\n"
   ]
  },
  {
   "cell_type": "code",
   "execution_count": null,
   "metadata": {
    "collapsed": false
   },
   "outputs": [],
   "source": [
    "whos"
   ]
  },
  {
   "cell_type": "code",
   "execution_count": null,
   "metadata": {
    "collapsed": true
   },
   "outputs": [],
   "source": []
  }
 ],
 "metadata": {
  "kernelspec": {
   "display_name": "Python 2",
   "language": "python",
   "name": "python2"
  },
  "language_info": {
   "codemirror_mode": {
    "name": "ipython",
    "version": 2
   },
   "file_extension": ".py",
   "mimetype": "text/x-python",
   "name": "python",
   "nbconvert_exporter": "python",
   "pygments_lexer": "ipython2",
   "version": "2.7.11"
  }
 },
 "nbformat": 4,
 "nbformat_minor": 0
}
