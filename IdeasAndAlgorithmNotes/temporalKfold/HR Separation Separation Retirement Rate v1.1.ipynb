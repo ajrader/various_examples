{
 "cells": [
  {
   "cell_type": "markdown",
   "metadata": {},
   "source": [
    "#HR Separation. \n",
    "Checking the annual retirement and separation rates given a model."
   ]
  },
  {
   "cell_type": "code",
   "execution_count": 1,
   "metadata": {
    "collapsed": true
   },
   "outputs": [],
   "source": [
    "coredir = '/data/discovery/hrsepara/core/'\n",
    "stgdir1 = '/data/discovery/hrsepara/staging/eda'\n",
    "stgdir1local = '/home/kesj/work/hrsepara/eda'\n",
    "stgdir2local = '/home/kesj/work/hrsepara/proc'\n",
    "repodir = '/home/kesj/lib/repo/'"
   ]
  },
  {
   "cell_type": "code",
   "execution_count": 2,
   "metadata": {
    "collapsed": false
   },
   "outputs": [
    {
     "name": "stderr",
     "output_type": "stream",
     "text": [
      "/opt/anaconda/2.3.0/lib/python2.7/site-packages/matplotlib/font_manager.py:273: UserWarning: Matplotlib is building the font cache using fc-list. This may take a moment.\n",
      "  warnings.warn('Matplotlib is building the font cache using fc-list. This may take a moment.')\n",
      "/opt/anaconda/2.3.0/lib/python2.7/site-packages/matplotlib/__init__.py:872: UserWarning: axes.color_cycle is deprecated and replaced with axes.prop_cycle; please use the latter.\n",
      "  warnings.warn(self.msg_depr % (key, alt_key))\n"
     ]
    }
   ],
   "source": [
    "### load the basic files\n",
    "import os,subprocess,sys\n",
    "import pandas as pd\n",
    "import numpy as np\n",
    "%matplotlib inline\n",
    "from datetime import datetime\n",
    "import matplotlib.pyplot as plt\n",
    "from itertools import chain\n",
    "import random\n",
    "import seaborn as sns\n",
    "from glob import glob\n",
    "plt.style.use('ggplot')"
   ]
  },
  {
   "cell_type": "markdown",
   "metadata": {},
   "source": [
    "## Plan of attack:\n",
    "1. read the data (after 2001)\n",
    "2. obtain the set of current employees\n",
    "3. Run through a model to get prediction(s) for retirement and separation\n",
    "    * based upon the given model, preprocess it appropriately: for the server model use the minimal set of features and processing of the web_app code.\n",
    "    * for the survival model ...\n",
    "4. calc the total separation and retirements for each year and derive the rate of separation/retirement.\n",
    "    * how do I determine the confidence intervals for these?"
   ]
  },
  {
   "cell_type": "markdown",
   "metadata": {},
   "source": [
    "# Start here April 15, 2016"
   ]
  },
  {
   "cell_type": "code",
   "execution_count": 3,
   "metadata": {
    "collapsed": false
   },
   "outputs": [
    {
     "data": {
      "text/plain": [
       "(134266, 69)"
      ]
     },
     "execution_count": 3,
     "metadata": {},
     "output_type": "execute_result"
    }
   ],
   "source": [
    "#os.chdir(stgdir1local)\n",
    "os.chdir(stgdir2local)\n",
    "em2002 = pd.read_csv('after2001_v3.csv',dtype={'EMPL_CLASS':np.str,'EEO1CODE':np.str})\n",
    "                     #dtype={'EMPL_CLASS':np.str,'LOCATION':np.str,'EEO1CODE':np.str,'SHIFT':np.str,'VOLINVOL':np.str})\n",
    "em2002.shape\n"
   ]
  },
  {
   "cell_type": "markdown",
   "metadata": {},
   "source": [
    "## first define the current employees"
   ]
  },
  {
   "cell_type": "code",
   "execution_count": 4,
   "metadata": {
    "collapsed": true
   },
   "outputs": [],
   "source": [
    "current = em2002[em2002.status==0].copy() "
   ]
  },
  {
   "cell_type": "code",
   "execution_count": 5,
   "metadata": {
    "collapsed": false
   },
   "outputs": [
    {
     "data": {
      "text/plain": [
       "(69475, 69)"
      ]
     },
     "execution_count": 5,
     "metadata": {},
     "output_type": "execute_result"
    }
   ],
   "source": [
    "np.shape(current)"
   ]
  },
  {
   "cell_type": "code",
   "execution_count": 6,
   "metadata": {
    "collapsed": false
   },
   "outputs": [
    {
     "data": {
      "text/plain": [
       "(2587, 3193)"
      ]
     },
     "execution_count": 6,
     "metadata": {},
     "output_type": "execute_result"
    }
   ],
   "source": [
    "sum(current.EXT_FUNC_ID_SFI==909),sum(em2002.EXT_FUNC_ID_SFI==909)"
   ]
  },
  {
   "cell_type": "markdown",
   "metadata": {},
   "source": [
    "### Do survival analysis on specific employee types"
   ]
  },
  {
   "cell_type": "code",
   "execution_count": 7,
   "metadata": {
    "collapsed": true
   },
   "outputs": [],
   "source": [
    "from lifelines import KaplanMeierFitter\n",
    "kmf=KaplanMeierFitter()\n"
   ]
  },
  {
   "cell_type": "code",
   "execution_count": 8,
   "metadata": {
    "collapsed": false
   },
   "outputs": [
    {
     "data": {
      "text/plain": [
       "0    84592\n",
       "1    49674\n",
       "Name: former, dtype: int64"
      ]
     },
     "execution_count": 8,
     "metadata": {},
     "output_type": "execute_result"
    }
   ],
   "source": [
    "em2002.former.value_counts()"
   ]
  },
  {
   "cell_type": "code",
   "execution_count": 9,
   "metadata": {
    "collapsed": false
   },
   "outputs": [
    {
     "data": {
      "text/plain": [
       "{71: 'CCC Service',\n",
       " 517: 'State Farm Bank',\n",
       " 816: 'Life Health Response Center',\n",
       " 835: 'SFPP',\n",
       " 892: 'CCC Sales',\n",
       " 909: 'Enterprise Auto Express',\n",
       " 910: 'Enterprise ILR'}"
      ]
     },
     "execution_count": 9,
     "metadata": {},
     "output_type": "execute_result"
    }
   ],
   "source": [
    "#interesting_extended_functions = [892,71, 816, 909,910,517,835]\n",
    "extFuncDict ={}\n",
    "extFuncDict[892]='CCC Sales'\n",
    "extFuncDict[71]='CCC Service'\n",
    "extFuncDict[816]='Life Health Response Center'\n",
    "#(00816)\n",
    "extFuncDict[909]='Enterprise Auto Express'\n",
    "extFuncDict[910]='Enterprise ILR' \n",
    "extFuncDict[517]='State Farm Bank'\n",
    "extFuncDict[835]='SFPP'\n",
    "interesting_extended_functions = extFuncDict.keys()\n",
    "extFuncDict"
   ]
  },
  {
   "cell_type": "code",
   "execution_count": 10,
   "metadata": {
    "collapsed": false
   },
   "outputs": [
    {
     "data": {
      "text/plain": [
       "3193"
      ]
     },
     "execution_count": 10,
     "metadata": {},
     "output_type": "execute_result"
    }
   ],
   "source": [
    "len(em2002[em2002.EXT_FUNC_ID_SFI==909])"
   ]
  },
  {
   "cell_type": "code",
   "execution_count": 11,
   "metadata": {
    "collapsed": false
   },
   "outputs": [
    {
     "data": {
      "text/plain": [
       "0    2591\n",
       "1     602\n",
       "Name: former, dtype: int64"
      ]
     },
     "execution_count": 11,
     "metadata": {},
     "output_type": "execute_result"
    }
   ],
   "source": [
    "em2002[em2002.EXT_FUNC_ID_SFI==909].former.value_counts()"
   ]
  },
  {
   "cell_type": "code",
   "execution_count": 12,
   "metadata": {
    "collapsed": false
   },
   "outputs": [
    {
     "data": {
      "text/plain": [
       "['Tenure_years', 'Age_years']"
      ]
     },
     "execution_count": 12,
     "metadata": {},
     "output_type": "execute_result"
    }
   ],
   "source": [
    "[c for c in em2002.columns if c.endswith('years')]"
   ]
  },
  {
   "cell_type": "code",
   "execution_count": 13,
   "metadata": {
    "collapsed": false
   },
   "outputs": [
    {
     "data": {
      "text/plain": [
       "<matplotlib.axes._subplots.AxesSubplot at 0x7fd4354b8450>"
      ]
     },
     "execution_count": 13,
     "metadata": {},
     "output_type": "execute_result"
    },
    {
     "data": {
      "image/png": "[encoded data removed]",
      "text/plain": [
       "<matplotlib.figure.Figure at 0x7fd4354a1ed0>"
      ]
     },
     "metadata": {},
     "output_type": "display_data"
    }
   ],
   "source": [
    "sns.distplot(em2002[em2002.EXT_FUNC_ID_SFI==909].Tenure_years)"
   ]
  },
  {
   "cell_type": "code",
   "execution_count": 14,
   "metadata": {
    "collapsed": false
   },
   "outputs": [
    {
     "data": {
      "text/plain": [
       "0    2591\n",
       "1     602\n",
       "Name: former, dtype: int64"
      ]
     },
     "execution_count": 14,
     "metadata": {},
     "output_type": "execute_result"
    }
   ],
   "source": [
    "em2002[em2002.EXT_FUNC_ID_SFI==909].former.value_counts()"
   ]
  },
  {
   "cell_type": "code",
   "execution_count": 15,
   "metadata": {
    "collapsed": false
   },
   "outputs": [
    {
     "data": {
      "text/plain": [
       "0    2587\n",
       "1     606\n",
       "Name: status, dtype: int64"
      ]
     },
     "execution_count": 15,
     "metadata": {},
     "output_type": "execute_result"
    }
   ],
   "source": [
    "em2002[em2002.EXT_FUNC_ID_SFI==909].status.value_counts()"
   ]
  },
  {
   "cell_type": "code",
   "execution_count": 16,
   "metadata": {
    "collapsed": false
   },
   "outputs": [
    {
     "data": {
      "text/plain": [
       "0    3347\n",
       "1      17\n",
       "Name: retired, dtype: int64"
      ]
     },
     "execution_count": 16,
     "metadata": {},
     "output_type": "execute_result"
    }
   ],
   "source": [
    "em2002[em2002.EXT_FUNC_ID_SFI==892].retired.value_counts()"
   ]
  },
  {
   "cell_type": "code",
   "execution_count": 17,
   "metadata": {
    "collapsed": false
   },
   "outputs": [
    {
     "data": {
      "text/plain": [
       "23524    33.199179\n",
       "37350    43.110198\n",
       "48440    30.414784\n",
       "50144    21.598905\n",
       "Name: Tenure_years, dtype: float64"
      ]
     },
     "execution_count": 17,
     "metadata": {},
     "output_type": "execute_result"
    }
   ],
   "source": [
    "em2002[(em2002.EXT_FUNC_ID_SFI==909)&(em2002.retired==1)].Tenure_years"
   ]
  },
  {
   "cell_type": "code",
   "execution_count": 18,
   "metadata": {
    "collapsed": false
   },
   "outputs": [
    {
     "data": {
      "text/plain": [
       "count    3189.000000\n",
       "mean        3.387741\n",
       "std         6.097747\n",
       "min         0.000000\n",
       "25%         0.947296\n",
       "50%         1.253936\n",
       "75%         1.809719\n",
       "max        41.481177\n",
       "Name: Tenure_years, dtype: float64"
      ]
     },
     "execution_count": 18,
     "metadata": {},
     "output_type": "execute_result"
    }
   ],
   "source": [
    "em2002[(em2002.EXT_FUNC_ID_SFI==909)&(em2002.retired==0)    ].Tenure_years.describe()"
   ]
  },
  {
   "cell_type": "code",
   "execution_count": 21,
   "metadata": {
    "collapsed": false
   },
   "outputs": [],
   "source": [
    "T = em2002['Tenure_years'] #duration\n",
    "C = em2002['former'] # observation"
   ]
  },
  {
   "cell_type": "code",
   "execution_count": 22,
   "metadata": {
    "collapsed": false
   },
   "outputs": [],
   "source": [
    "idx = em2002[(em2002.EXT_FUNC_ID_SFI==909)&(em2002.retired==0) &(em2002.Tenure_years<11)   ].index"
   ]
  },
  {
   "cell_type": "code",
   "execution_count": 23,
   "metadata": {
    "collapsed": false
   },
   "outputs": [
    {
     "name": "stdout",
     "output_type": "stream",
     "text": [
      "inf\n"
     ]
    },
    {
     "data": {
      "image/png": "[encoded data removed]",
      "text/plain": [
       "<matplotlib.figure.Figure at 0x7fd434fd01d0>"
      ]
     },
     "metadata": {},
     "output_type": "display_data"
    }
   ],
   "source": [
    "kmf.fit(T[idx],C[idx])#mygp.Tenure_years,event_observed=mygp.former,label=idno)\n",
    "kmf.plot()\n",
    "print(kmf.median_)"
   ]
  },
  {
   "cell_type": "code",
   "execution_count": 24,
   "metadata": {
    "collapsed": false
   },
   "outputs": [
    {
     "data": {
      "text/plain": [
       "1737"
      ]
     },
     "execution_count": 24,
     "metadata": {},
     "output_type": "execute_result"
    }
   ],
   "source": [
    "len(em2002[(em2002.EXT_FUNC_ID_SFI==909)&(em2002.retired==0) &(em2002.Tenure_years>1.2)   ])"
   ]
  },
  {
   "cell_type": "code",
   "execution_count": 25,
   "metadata": {
    "collapsed": false
   },
   "outputs": [
    {
     "data": {
      "text/plain": [
       "129"
      ]
     },
     "execution_count": 25,
     "metadata": {},
     "output_type": "execute_result"
    }
   ],
   "source": [
    "len(em2002[(em2002.EXT_FUNC_ID_SFI==892)&(em2002.retired==0) &(em2002.Tenure_years>10)   ])"
   ]
  },
  {
   "cell_type": "code",
   "execution_count": 26,
   "metadata": {
    "collapsed": false
   },
   "outputs": [
    {
     "data": {
      "text/plain": [
       "count    3347.000000\n",
       "mean        2.022958\n",
       "std         3.633803\n",
       "min         0.000000\n",
       "25%         0.320329\n",
       "50%         0.870637\n",
       "75%         1.838467\n",
       "max        35.375770\n",
       "Name: Tenure_years, dtype: float64"
      ]
     },
     "execution_count": 26,
     "metadata": {},
     "output_type": "execute_result"
    }
   ],
   "source": [
    "em2002[(em2002.EXT_FUNC_ID_SFI==892)&(em2002.retired==0)    ].Tenure_years.describe()"
   ]
  },
  {
   "cell_type": "code",
   "execution_count": 27,
   "metadata": {
    "collapsed": false
   },
   "outputs": [
    {
     "data": {
      "text/plain": [
       "134266"
      ]
     },
     "execution_count": 27,
     "metadata": {},
     "output_type": "execute_result"
    }
   ],
   "source": [
    "len(em2002)"
   ]
  },
  {
   "cell_type": "code",
   "execution_count": 29,
   "metadata": {
    "collapsed": false
   },
   "outputs": [
    {
     "data": {
      "text/plain": [
       "[]"
      ]
     },
     "execution_count": 29,
     "metadata": {},
     "output_type": "execute_result"
    }
   ],
   "source": [
    "[a for a in em2002[(em2002.EXT_FUNC_ID_SFI==909)&(em2002.Tenure_years>10)].columns if a.endswith(\"MOS\")]"
   ]
  },
  {
   "cell_type": "code",
   "execution_count": 30,
   "metadata": {
    "collapsed": false
   },
   "outputs": [
    {
     "data": {
      "text/plain": [
       "8.1749486652949859"
      ]
     },
     "execution_count": 30,
     "metadata": {},
     "output_type": "execute_result"
    }
   ],
   "source": [
    "em2002[(em2002.EXT_FUNC_ID_SFI==892)&(em2002.retired==0)].Tenure_years.quantile(.95)"
   ]
  },
  {
   "cell_type": "code",
   "execution_count": 31,
   "metadata": {
    "collapsed": false
   },
   "outputs": [
    {
     "data": {
      "text/plain": [
       "<matplotlib.legend.Legend at 0x7fd434e2ca90>"
      ]
     },
     "execution_count": 31,
     "metadata": {},
     "output_type": "execute_result"
    },
    {
     "data": {
      "image/png": "[encoded data removed]",
      "text/plain": [
       "<matplotlib.figure.Figure at 0x7fd434cf2950>"
      ]
     },
     "metadata": {},
     "output_type": "display_data"
    }
   ],
   "source": [
    "sns.distplot(em2002[(em2002.EXT_FUNC_ID_SFI==892)&(em2002.retired==0)&(em2002.Tenure_years>2)    ].Tenure_years,label='CCC Sales',hist=False)\n",
    "sns.distplot(em2002[(em2002.EXT_FUNC_ID_SFI==909)&(em2002.retired==0) &(em2002.Tenure_years>2)   ].Tenure_years,label='Auto Express',hist=False)\n",
    "plt.legend()"
   ]
  },
  {
   "cell_type": "code",
   "execution_count": 32,
   "metadata": {
    "collapsed": false
   },
   "outputs": [
    {
     "data": {
      "text/plain": [
       "<matplotlib.axes._subplots.AxesSubplot at 0x7fd434cb4410>"
      ]
     },
     "execution_count": 32,
     "metadata": {},
     "output_type": "execute_result"
    },
    {
     "data": {
      "image/png": "[encoded data removed]",
      "text/plain": [
       "<matplotlib.figure.Figure at 0x7fd434ea6c90>"
      ]
     },
     "metadata": {},
     "output_type": "display_data"
    }
   ],
   "source": [
    "idno=909\n",
    "ix = em2002[(em2002['EXT_FUNC_ID_SFI'] == idno) & (em2002.retired ==0)].index\n",
    "#mygp = em2002[em2002.EXT_FUNC_ID_SFI==idno].copy()\n",
    "kmf.fit(T[ix],C[ix])#mygp.Tenure_years,event_observed=mygp.former,label=idno)\n",
    "kmf.plot()"
   ]
  },
  {
   "cell_type": "code",
   "execution_count": 33,
   "metadata": {
    "collapsed": false
   },
   "outputs": [
    {
     "data": {
      "text/plain": [
       "inf"
      ]
     },
     "execution_count": 33,
     "metadata": {},
     "output_type": "execute_result"
    }
   ],
   "source": [
    "kmf.median_"
   ]
  },
  {
   "cell_type": "code",
   "execution_count": 34,
   "metadata": {
    "collapsed": false
   },
   "outputs": [
    {
     "data": {
      "text/plain": [
       "<matplotlib.axes._subplots.AxesSubplot at 0x7fd434c54610>"
      ]
     },
     "execution_count": 34,
     "metadata": {},
     "output_type": "execute_result"
    },
    {
     "data": {
      "image/png": "[encoded data removed]",
      "text/plain": [
       "<matplotlib.figure.Figure at 0x7fd434ea6d90>"
      ]
     },
     "metadata": {},
     "output_type": "display_data"
    }
   ],
   "source": [
    "idno=892\n",
    "kmf2 = KaplanMeierFitter()\n",
    "ix = em2002[(em2002['EXT_FUNC_ID_SFI'] == idno) & (em2002.retired ==0)].index\n",
    "#mygp = em2002[em2002.EXT_FUNC_ID_SFI==idno].copy()\n",
    "kmf2.fit(T[ix],C[ix])#mygp.Tenure_years,event_observed=mygp.former,label=idno)\n",
    "kmf2.plot()"
   ]
  },
  {
   "cell_type": "code",
   "execution_count": 35,
   "metadata": {
    "collapsed": false
   },
   "outputs": [
    {
     "data": {
      "text/plain": [
       "2.0561259411400004"
      ]
     },
     "execution_count": 35,
     "metadata": {},
     "output_type": "execute_result"
    }
   ],
   "source": [
    "kmf2.median_"
   ]
  },
  {
   "cell_type": "markdown",
   "metadata": {},
   "source": [
    "## May 9, 2016 Following up with an 'improved' model"
   ]
  },
  {
   "cell_type": "code",
   "execution_count": 36,
   "metadata": {
    "collapsed": true
   },
   "outputs": [],
   "source": [
    "previous_features_used = ['Age_years','SAL1','MERIT1','PERF1','BOX1','SEX','HAVE_INS','HAVE_DEP','DEPTCNT1','EXTFUNC_CNT',\n",
    "                          'FUNC_CNT','REMOTE','DIRECT_RPT_CNT','HUBIND','REH_CNT','JOB_FUNCTION_PSA']"
   ]
  },
  {
   "cell_type": "markdown",
   "metadata": {},
   "source": [
    "### Preprocess the dataset to accommodate these features"
   ]
  },
  {
   "cell_type": "code",
   "execution_count": 38,
   "metadata": {
    "collapsed": false
   },
   "outputs": [
    {
     "name": "stdout",
     "output_type": "stream",
     "text": [
      "69\n"
     ]
    }
   ],
   "source": [
    "all_cols = em2002.columns.tolist()\n",
    "print(len(all_cols))"
   ]
  },
  {
   "cell_type": "code",
   "execution_count": 49,
   "metadata": {
    "collapsed": false
   },
   "outputs": [
    {
     "data": {
      "text/plain": [
       "134266"
      ]
     },
     "execution_count": 49,
     "metadata": {},
     "output_type": "execute_result"
    }
   ],
   "source": [
    "len(em2002)"
   ]
  },
  {
   "cell_type": "code",
   "execution_count": 51,
   "metadata": {
    "collapsed": false
   },
   "outputs": [
    {
     "data": {
      "text/html": [
       "<div>\n",
       "<table border=\"1\" class=\"dataframe\">\n",
       "  <thead>\n",
       "    <tr style=\"text-align: right;\">\n",
       "      <th>retired</th>\n",
       "      <th>0</th>\n",
       "      <th>1</th>\n",
       "    </tr>\n",
       "    <tr>\n",
       "      <th>status</th>\n",
       "      <th></th>\n",
       "      <th></th>\n",
       "    </tr>\n",
       "  </thead>\n",
       "  <tbody>\n",
       "    <tr>\n",
       "      <th>0</th>\n",
       "      <td>69475</td>\n",
       "      <td>0</td>\n",
       "    </tr>\n",
       "    <tr>\n",
       "      <th>1</th>\n",
       "      <td>49674</td>\n",
       "      <td>15117</td>\n",
       "    </tr>\n",
       "  </tbody>\n",
       "</table>\n",
       "</div>"
      ],
      "text/plain": [
       "retired      0      1\n",
       "status               \n",
       "0        69475      0\n",
       "1        49674  15117"
      ]
     },
     "execution_count": 51,
     "metadata": {},
     "output_type": "execute_result"
    }
   ],
   "source": [
    "pd.crosstab(em2002.status,em2002.retired)"
   ]
  },
  {
   "cell_type": "code",
   "execution_count": 56,
   "metadata": {
    "collapsed": false
   },
   "outputs": [
    {
     "data": {
      "text/plain": [
       "0"
      ]
     },
     "execution_count": 56,
     "metadata": {},
     "output_type": "execute_result"
    }
   ],
   "source": [
    "em2002.LOC_TYPE_DESCR_SFI.fillna('UNKNOWN',inplace=True)\n",
    "em2002.isnull().any().sum()"
   ]
  },
  {
   "cell_type": "code",
   "execution_count": 57,
   "metadata": {
    "collapsed": false
   },
   "outputs": [
    {
     "name": "stdout",
     "output_type": "stream",
     "text": [
      "31 21\n"
     ]
    }
   ],
   "source": [
    "loc_descriptions = em2002.LOC_TYPE_DESCR_SFI.unique().tolist()\n",
    "short_loc_descript = {}\n",
    "for loc_name in loc_descriptions:\n",
    "    if loc_name.endswith(')'):\n",
    "        short_name = loc_name[-4:-1]\n",
    "        if short_name == 'NCE':\n",
    "            short_loc_descript[loc_name]='TELE'\n",
    "        else:\n",
    "            short_loc_descript[loc_name]=short_name\n",
    "    elif loc_name.startswith('TELE'):\n",
    "        short_loc_descript[loc_name]='TELE'\n",
    "    elif loc_name.endswith('SIU'):\n",
    "        short_loc_descript[loc_name]='SIU'\n",
    "    elif loc_name.startswith('OPERATIONS'):\n",
    "        short_loc_descript[loc_name]='OC'\n",
    "    elif loc_name.startswith('CORP'):\n",
    "        short_loc_descript[loc_name]='CORP'\n",
    "    elif loc_name.endswith('CENTER'):\n",
    "        short_loc_descript[loc_name]='MC' # marketing center\n",
    "    elif loc_name.endswith('AFO'):\n",
    "        short_loc_descript[loc_name]='AFO'\n",
    "    elif loc_name.endswith('OFFICE'):\n",
    "        if loc_name.startswith('AGENT'):\n",
    "            short_loc_descript[loc_name]='AO' # agent office\n",
    "        elif loc_name.startswith('REGION'):\n",
    "            short_loc_descript[loc_name]='RO' # regional office\n",
    "        elif loc_name.startswith('CATA'):\n",
    "            short_loc_descript[loc_name]='CAT' # catastrophe office\n",
    "    elif loc_name.startswith('EST'):\n",
    "        short_loc_descript[loc_name]='EST' # estimating station\n",
    "    elif loc_name.startswith('ADM'):\n",
    "        short_loc_descript[loc_name]='ADM' # estimating station\n",
    "    elif loc_name.startswith('WARE'):\n",
    "        short_loc_descript[loc_name]='WARE' # estimating station\n",
    "    elif loc_name.startswith('VAC'):\n",
    "        short_loc_descript[loc_name]='VAC' # estimating station\n",
    "    elif loc_name.startswith('MULT-USE'):\n",
    "        short_loc_descript[loc_name]='MF' # estimating station\n",
    "    elif loc_name.startswith('MULT-REG'):\n",
    "        short_loc_descript[loc_name]='MRSF' # estimating station\n",
    "    else: \n",
    "        short_loc_descript[loc_name]='UNK'\n",
    "\n",
    "print len(short_loc_descript.keys()), len(set(short_loc_descript.values()))"
   ]
  },
  {
   "cell_type": "code",
   "execution_count": 58,
   "metadata": {
    "collapsed": true
   },
   "outputs": [],
   "source": [
    "em2002['loc_desc']=em2002['LOC_TYPE_DESCR_SFI'].apply(lambda x: short_loc_descript[x])"
   ]
  },
  {
   "cell_type": "markdown",
   "metadata": {},
   "source": [
    "## Identify categorical columns"
   ]
  },
  {
   "cell_type": "code",
   "execution_count": 61,
   "metadata": {
    "collapsed": false
   },
   "outputs": [],
   "source": [
    "bear_repo = '/home/kesj/lib/repo/bear/'\n",
    "os.chdir(bear_repo)\n",
    "import bear as br\n",
    "os.chdir(stgdir2local)"
   ]
  },
  {
   "cell_type": "code",
   "execution_count": 62,
   "metadata": {
    "collapsed": false
   },
   "outputs": [
    {
     "name": "stdout",
     "output_type": "stream",
     "text": [
      "15\n"
     ]
    }
   ],
   "source": [
    "### Define the categorical columns\n",
    "cat_cols = br.get_categorical(em2002)\n",
    "print len(cat_cols)\n",
    "cat_cols.remove('LOC_TYPE_DESCR_SFI')"
   ]
  },
  {
   "cell_type": "code",
   "execution_count": 63,
   "metadata": {
    "collapsed": false
   },
   "outputs": [
    {
     "data": {
      "text/plain": [
       "['EEO1CODE',\n",
       " 'birth_tstmp',\n",
       " 'FULL_PART_TIME',\n",
       " 'EMPL_CLASS',\n",
       " 'FLSA_STATUS',\n",
       " 'LOC_STATE',\n",
       " 'GRADE',\n",
       " 'JOB_FAMILY',\n",
       " 'hire_tstmp',\n",
       " 'LOCATION',\n",
       " 'term_tstmp',\n",
       " 'JOB_FUNCTION',\n",
       " 'EMPL_TYPE',\n",
       " 'loc_desc']"
      ]
     },
     "execution_count": 63,
     "metadata": {},
     "output_type": "execute_result"
    }
   ],
   "source": [
    "cat_cols"
   ]
  },
  {
   "cell_type": "code",
   "execution_count": 64,
   "metadata": {
    "collapsed": false
   },
   "outputs": [
    {
     "data": {
      "text/html": [
       "<div>\n",
       "<table border=\"1\" class=\"dataframe\">\n",
       "  <thead>\n",
       "    <tr style=\"text-align: right;\">\n",
       "      <th></th>\n",
       "      <th>feature</th>\n",
       "      <th>datatype</th>\n",
       "      <th>nmissing</th>\n",
       "      <th>arity</th>\n",
       "      <th>accepted values</th>\n",
       "      <th>x_missing</th>\n",
       "    </tr>\n",
       "  </thead>\n",
       "  <tbody>\n",
       "    <tr>\n",
       "      <th>0</th>\n",
       "      <td>EEO1CODE</td>\n",
       "      <td>object</td>\n",
       "      <td>0</td>\n",
       "      <td>10</td>\n",
       "      <td>[2, 5, 1, 6, 3, 4, N, 7, 8, L]</td>\n",
       "      <td>0</td>\n",
       "    </tr>\n",
       "    <tr>\n",
       "      <th>1</th>\n",
       "      <td>birth_tstmp</td>\n",
       "      <td>object</td>\n",
       "      <td>0</td>\n",
       "      <td>20171</td>\n",
       "      <td>Too many to show</td>\n",
       "      <td>0</td>\n",
       "    </tr>\n",
       "    <tr>\n",
       "      <th>2</th>\n",
       "      <td>FULL_PART_TIME</td>\n",
       "      <td>object</td>\n",
       "      <td>0</td>\n",
       "      <td>4</td>\n",
       "      <td>[N, F, X, P]</td>\n",
       "      <td>0</td>\n",
       "    </tr>\n",
       "    <tr>\n",
       "      <th>3</th>\n",
       "      <td>EMPL_CLASS</td>\n",
       "      <td>object</td>\n",
       "      <td>0</td>\n",
       "      <td>6</td>\n",
       "      <td>[4, 1, D, 3, G, 5]</td>\n",
       "      <td>0</td>\n",
       "    </tr>\n",
       "    <tr>\n",
       "      <th>4</th>\n",
       "      <td>FLSA_STATUS</td>\n",
       "      <td>object</td>\n",
       "      <td>0</td>\n",
       "      <td>3</td>\n",
       "      <td>[Z, N, X]</td>\n",
       "      <td>0</td>\n",
       "    </tr>\n",
       "    <tr>\n",
       "      <th>5</th>\n",
       "      <td>LOC_STATE</td>\n",
       "      <td>object</td>\n",
       "      <td>0</td>\n",
       "      <td>52</td>\n",
       "      <td>Too many to show</td>\n",
       "      <td>0</td>\n",
       "    </tr>\n",
       "    <tr>\n",
       "      <th>6</th>\n",
       "      <td>GRADE</td>\n",
       "      <td>object</td>\n",
       "      <td>0</td>\n",
       "      <td>125</td>\n",
       "      <td>Too many to show</td>\n",
       "      <td>0</td>\n",
       "    </tr>\n",
       "    <tr>\n",
       "      <th>7</th>\n",
       "      <td>JOB_FAMILY</td>\n",
       "      <td>object</td>\n",
       "      <td>0</td>\n",
       "      <td>1448</td>\n",
       "      <td>Too many to show</td>\n",
       "      <td>0</td>\n",
       "    </tr>\n",
       "    <tr>\n",
       "      <th>8</th>\n",
       "      <td>hire_tstmp</td>\n",
       "      <td>object</td>\n",
       "      <td>0</td>\n",
       "      <td>8881</td>\n",
       "      <td>Too many to show</td>\n",
       "      <td>0</td>\n",
       "    </tr>\n",
       "    <tr>\n",
       "      <th>9</th>\n",
       "      <td>LOCATION</td>\n",
       "      <td>object</td>\n",
       "      <td>0</td>\n",
       "      <td>13030</td>\n",
       "      <td>Too many to show</td>\n",
       "      <td>0</td>\n",
       "    </tr>\n",
       "    <tr>\n",
       "      <th>10</th>\n",
       "      <td>term_tstmp</td>\n",
       "      <td>object</td>\n",
       "      <td>0</td>\n",
       "      <td>4353</td>\n",
       "      <td>Too many to show</td>\n",
       "      <td>0</td>\n",
       "    </tr>\n",
       "    <tr>\n",
       "      <th>11</th>\n",
       "      <td>JOB_FUNCTION</td>\n",
       "      <td>object</td>\n",
       "      <td>0</td>\n",
       "      <td>19</td>\n",
       "      <td>[XX, NSA, PTB, PSA, MGT, PTA, PSB, PTC, PSC, P...</td>\n",
       "      <td>0</td>\n",
       "    </tr>\n",
       "    <tr>\n",
       "      <th>12</th>\n",
       "      <td>EMPL_TYPE</td>\n",
       "      <td>object</td>\n",
       "      <td>0</td>\n",
       "      <td>5</td>\n",
       "      <td>[X, N, S, E, H]</td>\n",
       "      <td>0</td>\n",
       "    </tr>\n",
       "    <tr>\n",
       "      <th>13</th>\n",
       "      <td>loc_desc</td>\n",
       "      <td>object</td>\n",
       "      <td>0</td>\n",
       "      <td>21</td>\n",
       "      <td>Too many to show</td>\n",
       "      <td>0</td>\n",
       "    </tr>\n",
       "  </tbody>\n",
       "</table>\n",
       "</div>"
      ],
      "text/plain": [
       "           feature datatype  nmissing  arity  \\\n",
       "0         EEO1CODE   object         0     10   \n",
       "1      birth_tstmp   object         0  20171   \n",
       "2   FULL_PART_TIME   object         0      4   \n",
       "3       EMPL_CLASS   object         0      6   \n",
       "4      FLSA_STATUS   object         0      3   \n",
       "5        LOC_STATE   object         0     52   \n",
       "6            GRADE   object         0    125   \n",
       "7       JOB_FAMILY   object         0   1448   \n",
       "8       hire_tstmp   object         0   8881   \n",
       "9         LOCATION   object         0  13030   \n",
       "10      term_tstmp   object         0   4353   \n",
       "11    JOB_FUNCTION   object         0     19   \n",
       "12       EMPL_TYPE   object         0      5   \n",
       "13        loc_desc   object         0     21   \n",
       "\n",
       "                                      accepted values  x_missing  \n",
       "0                      [2, 5, 1, 6, 3, 4, N, 7, 8, L]          0  \n",
       "1                                    Too many to show          0  \n",
       "2                                        [N, F, X, P]          0  \n",
       "3                                  [4, 1, D, 3, G, 5]          0  \n",
       "4                                           [Z, N, X]          0  \n",
       "5                                    Too many to show          0  \n",
       "6                                    Too many to show          0  \n",
       "7                                    Too many to show          0  \n",
       "8                                    Too many to show          0  \n",
       "9                                    Too many to show          0  \n",
       "10                                   Too many to show          0  \n",
       "11  [XX, NSA, PTB, PSA, MGT, PTA, PSB, PTC, PSC, P...          0  \n",
       "12                                    [X, N, S, E, H]          0  \n",
       "13                                   Too many to show          0  "
      ]
     },
     "execution_count": 64,
     "metadata": {},
     "output_type": "execute_result"
    }
   ],
   "source": [
    "sdf_cat = br.summarize_dataframe(em2002[cat_cols])\n",
    "sdf_cat"
   ]
  },
  {
   "cell_type": "markdown",
   "metadata": {},
   "source": [
    "### look at the JOB_FUNCTION, JOB_GRADE in relation to these EXT_FUNC_IDSFI"
   ]
  },
  {
   "cell_type": "code",
   "execution_count": 65,
   "metadata": {
    "collapsed": false
   },
   "outputs": [
    {
     "data": {
      "text/plain": [
       "PSA    52250\n",
       "PTB    24746\n",
       "PTA    15322\n",
       "MGT    11111\n",
       "NSA     5745\n",
       "PTC     5268\n",
       "PTE     5237\n",
       "XX      4571\n",
       "PSB     4172\n",
       "PSC     3114\n",
       "PTD      965\n",
       "PTI      955\n",
       "PTF      280\n",
       "PTG      188\n",
       "PTL      167\n",
       "PTH      124\n",
       "PTK       28\n",
       "PTJ       21\n",
       "PTM        2\n",
       "Name: JOB_FUNCTION, dtype: int64"
      ]
     },
     "execution_count": 65,
     "metadata": {},
     "output_type": "execute_result"
    }
   ],
   "source": [
    "em2002['JOB_FUNCTION'].value_counts()"
   ]
  },
  {
   "cell_type": "code",
   "execution_count": 67,
   "metadata": {
    "collapsed": false
   },
   "outputs": [
    {
     "data": {
      "text/plain": [
       "PSA    2634\n",
       "MGT     255\n",
       "PTA     229\n",
       "PSC      72\n",
       "NSA       3\n",
       "Name: JOB_FUNCTION, dtype: int64"
      ]
     },
     "execution_count": 67,
     "metadata": {},
     "output_type": "execute_result"
    }
   ],
   "source": [
    "em2002[em2002['EXT_FUNC_ID_SFI']==909]['JOB_FUNCTION'].value_counts()"
   ]
  },
  {
   "cell_type": "code",
   "execution_count": 70,
   "metadata": {
    "collapsed": false
   },
   "outputs": [
    {
     "data": {
      "text/plain": [
       "PA2    2471\n",
       "MG2     222\n",
       "RA1     201\n",
       "PA3     147\n",
       "PC2      51\n",
       "RA3      28\n",
       "MG4      23\n",
       "PC3      19\n",
       "UES       8\n",
       "PA1       8\n",
       "RA2       8\n",
       "MG5       5\n",
       "PC4       2\n",
       "Name: GRADE, dtype: int64"
      ]
     },
     "execution_count": 70,
     "metadata": {},
     "output_type": "execute_result"
    }
   ],
   "source": [
    "em2002[em2002['EXT_FUNC_ID_SFI']==909]['GRADE'].value_counts()"
   ]
  },
  {
   "cell_type": "code",
   "execution_count": 74,
   "metadata": {
    "collapsed": false
   },
   "outputs": [
    {
     "data": {
      "text/plain": [
       "PSA    147\n",
       "Name: JOB_FUNCTION, dtype: int64"
      ]
     },
     "execution_count": 74,
     "metadata": {},
     "output_type": "execute_result"
    }
   ],
   "source": [
    "em2002[em2002['JOBCODE']==983]['JOB_FUNCTION'].value_counts()"
   ]
  },
  {
   "cell_type": "code",
   "execution_count": 75,
   "metadata": {
    "collapsed": false
   },
   "outputs": [
    {
     "data": {
      "text/plain": [
       "2618"
      ]
     },
     "execution_count": 75,
     "metadata": {},
     "output_type": "execute_result"
    }
   ],
   "source": [
    "147 + 2471"
   ]
  },
  {
   "cell_type": "markdown",
   "metadata": {},
   "source": [
    "### Restrict to non-retired"
   ]
  },
  {
   "cell_type": "code",
   "execution_count": 76,
   "metadata": {
    "collapsed": false
   },
   "outputs": [
    {
     "data": {
      "text/plain": [
       "(119149, 70)"
      ]
     },
     "execution_count": 76,
     "metadata": {},
     "output_type": "execute_result"
    }
   ],
   "source": [
    "nr_em = em2002[em2002.retired==0].copy()\n",
    "nr_em.shape"
   ]
  },
  {
   "cell_type": "code",
   "execution_count": 77,
   "metadata": {
    "collapsed": false
   },
   "outputs": [
    {
     "data": {
      "text/plain": [
       "PSA    2633\n",
       "MGT     254\n",
       "PTA     228\n",
       "PSC      71\n",
       "NSA       3\n",
       "Name: JOB_FUNCTION, dtype: int64"
      ]
     },
     "execution_count": 77,
     "metadata": {},
     "output_type": "execute_result"
    }
   ],
   "source": [
    "nr_em[nr_em['EXT_FUNC_ID_SFI']==909]['JOB_FUNCTION'].value_counts()"
   ]
  },
  {
   "cell_type": "code",
   "execution_count": 78,
   "metadata": {
    "collapsed": false
   },
   "outputs": [
    {
     "data": {
      "text/plain": [
       "PSA    47430\n",
       "PTB    22355\n",
       "PTA    13781\n",
       "MGT     9110\n",
       "NSA     5062\n",
       "PTE     4745\n",
       "PTC     4536\n",
       "XX      4015\n",
       "PSB     3162\n",
       "PSC     2500\n",
       "PTD      939\n",
       "PTI      924\n",
       "PTL      165\n",
       "PTG      162\n",
       "PTF      131\n",
       "PTH       88\n",
       "PTK       26\n",
       "PTJ       16\n",
       "PTM        2\n",
       "Name: JOB_FUNCTION, dtype: int64"
      ]
     },
     "execution_count": 78,
     "metadata": {},
     "output_type": "execute_result"
    }
   ],
   "source": [
    "nr_em.JOB_FUNCTION.value_counts()"
   ]
  },
  {
   "cell_type": "code",
   "execution_count": 79,
   "metadata": {
    "collapsed": false
   },
   "outputs": [
    {
     "data": {
      "text/plain": [
       "['FLSA_STATUS',\n",
       " 'FULL_PART_TIME',\n",
       " 'EMPL_TYPE',\n",
       " 'EMPL_CLASS',\n",
       " 'EEO1CODE',\n",
       " 'JOB_FUNCTION',\n",
       " 'loc_desc']"
      ]
     },
     "execution_count": 79,
     "metadata": {},
     "output_type": "execute_result"
    }
   ],
   "source": [
    "cat_cols_to_dummy = sdf_cat[(sdf_cat.arity < 33) & (sdf_cat.arity>2)].sort_values(by='arity').feature.tolist()\n",
    "cat_cols_to_dummy"
   ]
  },
  {
   "cell_type": "code",
   "execution_count": 80,
   "metadata": {
    "collapsed": false
   },
   "outputs": [
    {
     "data": {
      "text/plain": [
       "[]"
      ]
     },
     "execution_count": 80,
     "metadata": {},
     "output_type": "execute_result"
    }
   ],
   "source": [
    "binary_cat_cols = sdf_cat[sdf_cat.arity==2].feature.tolist()\n",
    "binary_cat_cols"
   ]
  },
  {
   "cell_type": "code",
   "execution_count": 84,
   "metadata": {
    "collapsed": false
   },
   "outputs": [
    {
     "name": "stdout",
     "output_type": "stream",
     "text": [
      "Starting with subset of 119149 employees.\n",
      "Evaluation set has 23830 employees; training set has 95319 employees.\n"
     ]
    }
   ],
   "source": [
    "## break this into a test/train \n",
    "from sklearn import cross_validation\n",
    "# break into evaluation and build sets\n",
    "print \"Starting with subset of {0} employees.\".format(len(nr_em))\n",
    "eval_fraction = 0.20\n",
    "ne2build, ne2eval = cross_validation.train_test_split(nr_em,test_size=eval_fraction,random_state = 60333)\n",
    "print \"Evaluation set has {0} employees; training set has {1} employees.\".format(len(ne2eval),len(ne2build))"
   ]
  },
  {
   "cell_type": "code",
   "execution_count": 85,
   "metadata": {
    "collapsed": true
   },
   "outputs": [],
   "source": [
    "from sklearn.pipeline import Pipeline"
   ]
  },
  {
   "cell_type": "code",
   "execution_count": 88,
   "metadata": {
    "collapsed": false
   },
   "outputs": [],
   "source": [
    "pipe = Pipeline([(\"null\", br.RemoveAllNull()),  \n",
    "                 #(\"label_encode\",br.LabelEncodeColumn(cat_cols_to_label_encode)),\n",
    "                 (\"dummy_encode\", br.DummyEncodeColumn(cat_cols_to_dummy)),\n",
    "                 #(\"survival_encode\",SurvivalEncodeColumn(my_label_encode_cols[:5],method='median')),\n",
    "                 #(\"cat\", br.ConvertCategorical(cate_list, rows_to_scan=0.3)),\n",
    "                 (\"fixout_min\",br.FixNumericOutlier(columns_to_fix=['SAL1','MIN_RT_ANNUAL','MERIT1','PERF1'],\n",
    "                                                    criteria_coef=('percentile',2),\n",
    "                                                   method='lower',fill_with='nearest_value')),\n",
    "                  (\"fixout_max\",br.FixNumericOutlier(columns_to_fix=['MAX_RT_ANNUAL'],criteria_coef=('percentile',2),\n",
    "                                                   method='both',fill_with='nearest_value')),\n",
    "                 #(\"fill_missingzero\",FillMissingValue(columns_to_fix=['BOX1','FUNC_CNT','EXTFUNC_CNT','TOTAL_RPT_CNT','DIRECT_RPT_CNT'],fill_value=0)),\n",
    "                 #(\"imp_mode\",br.ImputeData(columns_to_impute=missing_cols,rows_to_scan=0.8))\n",
    "                ])\n",
    "                 "
   ]
  },
  {
   "cell_type": "code",
   "execution_count": 89,
   "metadata": {
    "collapsed": false
   },
   "outputs": [
    {
     "data": {
      "text/plain": [
       "Index([u'EXT_FUNC_ID_SFI', u'EEO1CODE', u'REH_CNT', u'birth_tstmp', u'retired',\n",
       "       u'FULL_PART_TIME', u'EMPL_CLASS', u'SHIFT', u'FLSA_STATUS',\n",
       "       u'LOC_STATE', u'TOTAL_RPT_CNT', u'INTERN', u'GRADE', u'FUNCCNT1',\n",
       "       u'PERF1', u'DEPENDENT_CNT', u'SUPVCNT1', u'Tenure_years', u'JOB_FAMILY',\n",
       "       u'ANNUAL_RT', u'hire_tstmp', u'REMOTE', u'DIVISION_CODE_SFI',\n",
       "       u'COMPANY', u'FLOORCNT1', u'FUNC_CNT', u'SEX', u'ETHNIC_GROUP',\n",
       "       u'RELOCATE_ALL_SFI', u'LOCATION', u'HUBIND', u'PARTFULL1', u'STD_HOURS',\n",
       "       u'JOBCNT1', u'term_tstmp', u'MIN_RT_ANNUAL', u'FLOR_SFI', u'PTFTCNT1',\n",
       "       u'KEY', u'FULLPART1', u'FTPTCNT1', u'GRADECNT1', u'EFUNCCNT1',\n",
       "       u'hire_age', u'HAVE_INS', u'FTE', u'JOB_FUNCTION', u'SAL1',\n",
       "       u'LOCSTCNT1', u'former', u'EMPL_TYPE', u'EXTFUNC_CNT', u'JOBCODE',\n",
       "       u'SUPV_DIFF_LOC', u'Age_years', u'ADDRCNT1', u'RELO_STATE_CNT_SFI',\n",
       "       u'HAVE_DEP', u'REMOTE_SUPV', u'MAX_RT_ANNUAL', u'LOCCNT1', u'status',\n",
       "       u'DIRECT_RPT_CNT', u'MERIT1', u'DEPTCNT1', u'FUNC_ID_SFI',\n",
       "       u'LOC_TYPE_DESCR_SFI', u'BOX1', u'COMP_FREQUENCY', u'loc_desc'],\n",
       "      dtype='object')"
      ]
     },
     "execution_count": 89,
     "metadata": {},
     "output_type": "execute_result"
    }
   ],
   "source": [
    "ne2build.columns"
   ]
  },
  {
   "cell_type": "code",
   "execution_count": 91,
   "metadata": {
    "collapsed": false
   },
   "outputs": [
    {
     "name": "stdout",
     "output_type": "stream",
     "text": [
      "67\n"
     ]
    },
    {
     "data": {
      "text/plain": [
       "['EXT_FUNC_ID_SFI',\n",
       " 'EEO1CODE',\n",
       " 'REH_CNT',\n",
       " 'retired',\n",
       " 'FULL_PART_TIME',\n",
       " 'EMPL_CLASS',\n",
       " 'SHIFT',\n",
       " 'FLSA_STATUS',\n",
       " 'LOC_STATE',\n",
       " 'TOTAL_RPT_CNT',\n",
       " 'INTERN',\n",
       " 'GRADE',\n",
       " 'FUNCCNT1',\n",
       " 'PERF1',\n",
       " 'DEPENDENT_CNT',\n",
       " 'SUPVCNT1',\n",
       " 'Tenure_years',\n",
       " 'JOB_FAMILY',\n",
       " 'ANNUAL_RT',\n",
       " 'REMOTE',\n",
       " 'DIVISION_CODE_SFI',\n",
       " 'COMPANY',\n",
       " 'FLOORCNT1',\n",
       " 'FUNC_CNT',\n",
       " 'SEX',\n",
       " 'ETHNIC_GROUP',\n",
       " 'RELOCATE_ALL_SFI',\n",
       " 'LOCATION',\n",
       " 'HUBIND',\n",
       " 'PARTFULL1',\n",
       " 'STD_HOURS',\n",
       " 'JOBCNT1',\n",
       " 'MIN_RT_ANNUAL',\n",
       " 'FLOR_SFI',\n",
       " 'PTFTCNT1',\n",
       " 'KEY',\n",
       " 'FULLPART1',\n",
       " 'FTPTCNT1',\n",
       " 'GRADECNT1',\n",
       " 'EFUNCCNT1',\n",
       " 'hire_age',\n",
       " 'HAVE_INS',\n",
       " 'FTE',\n",
       " 'JOB_FUNCTION',\n",
       " 'SAL1',\n",
       " 'LOCSTCNT1',\n",
       " 'former',\n",
       " 'EMPL_TYPE',\n",
       " 'EXTFUNC_CNT',\n",
       " 'JOBCODE',\n",
       " 'SUPV_DIFF_LOC',\n",
       " 'Age_years',\n",
       " 'ADDRCNT1',\n",
       " 'RELO_STATE_CNT_SFI',\n",
       " 'HAVE_DEP',\n",
       " 'REMOTE_SUPV',\n",
       " 'MAX_RT_ANNUAL',\n",
       " 'LOCCNT1',\n",
       " 'status',\n",
       " 'DIRECT_RPT_CNT',\n",
       " 'MERIT1',\n",
       " 'DEPTCNT1',\n",
       " 'FUNC_ID_SFI',\n",
       " 'LOC_TYPE_DESCR_SFI',\n",
       " 'BOX1',\n",
       " 'COMP_FREQUENCY',\n",
       " 'loc_desc']"
      ]
     },
     "execution_count": 91,
     "metadata": {},
     "output_type": "execute_result"
    }
   ],
   "source": [
    "modeling_cols = [c for c in ne2build.columns if not c.endswith('tstmp')]\n",
    "print(len(modeling_cols))\n",
    "modeling_cols"
   ]
  },
  {
   "cell_type": "code",
   "execution_count": 93,
   "metadata": {
    "collapsed": false
   },
   "outputs": [],
   "source": [
    "modeling_cols.remove('former')"
   ]
  },
  {
   "cell_type": "code",
   "execution_count": 94,
   "metadata": {
    "collapsed": true
   },
   "outputs": [],
   "source": [
    "ne2b = pipe.fit_transform(ne2build[modeling_cols],ne2build.status)\n",
    "ne2e = pipe.fit(ne2build[modeling_cols],ne2build.status).transform(ne2eval[modeling_cols])"
   ]
  },
  {
   "cell_type": "code",
   "execution_count": 95,
   "metadata": {
    "collapsed": false
   },
   "outputs": [
    {
     "name": "stdout",
     "output_type": "stream",
     "text": [
      "117\n"
     ]
    }
   ],
   "source": [
    "transformed_cols = ne2b.columns.tolist()\n",
    "print(len(transformed_cols))"
   ]
  },
  {
   "cell_type": "code",
   "execution_count": 98,
   "metadata": {
    "collapsed": false
   },
   "outputs": [
    {
     "data": {
      "text/plain": [
       "113"
      ]
     },
     "execution_count": 98,
     "metadata": {},
     "output_type": "execute_result"
    }
   ],
   "source": [
    "cols_to_omit = ['retired','SEX','HUBIND','ANNUAL_RT']\n",
    "sep_model_cols = [c for c in transformed_cols if c not in cols_to_omit]\n",
    "len(sep_model_cols)"
   ]
  },
  {
   "cell_type": "code",
   "execution_count": 100,
   "metadata": {
    "collapsed": false
   },
   "outputs": [
    {
     "data": {
      "text/plain": [
       "93"
      ]
     },
     "execution_count": 100,
     "metadata": {},
     "output_type": "execute_result"
    }
   ],
   "source": [
    "sep_model_cols1 = [c for c in sep_model_cols if not c.startswith('loc_d')]\n",
    "len(sep_model_cols1)"
   ]
  },
  {
   "cell_type": "code",
   "execution_count": 110,
   "metadata": {
    "collapsed": false
   },
   "outputs": [
    {
     "name": "stdout",
     "output_type": "stream",
     "text": [
      "('EXT_FUNC_ID_SFI', dtype('int64'))\n",
      "('REH_CNT', dtype('int64'))\n",
      "('SHIFT', dtype('int64'))\n",
      "('LOC_STATE', dtype('O'))\n",
      "('TOTAL_RPT_CNT', dtype('float64'))\n",
      "('INTERN', dtype('int64'))\n",
      "('GRADE', dtype('O'))\n",
      "('FUNCCNT1', dtype('int64'))\n",
      "('PERF1', dtype('float64'))\n",
      "('DEPENDENT_CNT', dtype('float64'))\n",
      "('SUPVCNT1', dtype('int64'))\n",
      "('Tenure_years', dtype('float64'))\n",
      "('JOB_FAMILY', dtype('O'))\n",
      "('REMOTE', dtype('int64'))\n",
      "('DIVISION_CODE_SFI', dtype('int64'))\n",
      "('COMPANY', dtype('int64'))\n",
      "('FLOORCNT1', dtype('int64'))\n",
      "('FUNC_CNT', dtype('float64'))\n",
      "('ETHNIC_GROUP', dtype('float64'))\n",
      "('RELOCATE_ALL_SFI', dtype('int64'))\n",
      "('LOCATION', dtype('O'))\n",
      "('PARTFULL1', dtype('int64'))\n",
      "('STD_HOURS', dtype('float64'))\n",
      "('JOBCNT1', dtype('int64'))\n",
      "('MIN_RT_ANNUAL', dtype('float64'))\n",
      "('FLOR_SFI', dtype('int64'))\n",
      "('PTFTCNT1', dtype('int64'))\n",
      "('KEY', dtype('int64'))\n",
      "('FULLPART1', dtype('int64'))\n",
      "('FTPTCNT1', dtype('int64'))\n",
      "('GRADECNT1', dtype('int64'))\n",
      "('EFUNCCNT1', dtype('int64'))\n",
      "('hire_age', dtype('float64'))\n",
      "('HAVE_INS', dtype('int64'))\n",
      "('FTE', dtype('float64'))\n",
      "('SAL1', dtype('float64'))\n",
      "('LOCSTCNT1', dtype('int64'))\n",
      "('EXTFUNC_CNT', dtype('float64'))\n",
      "('JOBCODE', dtype('int64'))\n",
      "('SUPV_DIFF_LOC', dtype('int64'))\n",
      "('Age_years', dtype('float64'))\n",
      "('ADDRCNT1', dtype('float64'))\n",
      "('RELO_STATE_CNT_SFI', dtype('int64'))\n",
      "('HAVE_DEP', dtype('int64'))\n",
      "('REMOTE_SUPV', dtype('int64'))\n",
      "('MAX_RT_ANNUAL', dtype('float64'))\n",
      "('LOCCNT1', dtype('int64'))\n",
      "('status', dtype('int64'))\n",
      "('DIRECT_RPT_CNT', dtype('float64'))\n",
      "('MERIT1', dtype('float64'))\n",
      "('DEPTCNT1', dtype('int64'))\n",
      "('FUNC_ID_SFI', dtype('int64'))\n",
      "('LOC_TYPE_DESCR_SFI', dtype('O'))\n",
      "('BOX1', dtype('int64'))\n",
      "('COMP_FREQUENCY', dtype('int64'))\n",
      "('FLSA_STATUS_N', dtype('int64'))\n",
      "('FLSA_STATUS_Z', dtype('int64'))\n",
      "('FULL_PART_TIME_F', dtype('int64'))\n",
      "('FULL_PART_TIME_P', dtype('int64'))\n",
      "('FULL_PART_TIME_X', dtype('int64'))\n",
      "('EMPL_TYPE_E', dtype('int64'))\n",
      "('EMPL_TYPE_S', dtype('int64'))\n",
      "('EMPL_TYPE_H', dtype('int64'))\n",
      "('EMPL_CLASS_1', dtype('int64'))\n",
      "('EMPL_CLASS_D', dtype('int64'))\n",
      "('EMPL_CLASS_3', dtype('int64'))\n",
      "('EMPL_CLASS_5', dtype('int64'))\n",
      "('EEO1CODE_2', dtype('int64'))\n",
      "('EEO1CODE_5', dtype('int64'))\n",
      "('EEO1CODE_4', dtype('int64'))\n",
      "('EEO1CODE_1', dtype('int64'))\n",
      "('EEO1CODE_6', dtype('int64'))\n",
      "('EEO1CODE_3', dtype('int64'))\n",
      "('EEO1CODE_7', dtype('int64'))\n",
      "('EEO1CODE_N', dtype('int64'))\n",
      "('JOB_FUNCTION_PTC', dtype('int64'))\n",
      "('JOB_FUNCTION_PTB', dtype('int64'))\n",
      "('JOB_FUNCTION_PSA', dtype('int64'))\n",
      "('JOB_FUNCTION_PSC', dtype('int64'))\n",
      "('JOB_FUNCTION_PTA', dtype('int64'))\n",
      "('JOB_FUNCTION_PTG', dtype('int64'))\n",
      "('JOB_FUNCTION_PTE', dtype('int64'))\n",
      "('JOB_FUNCTION_NSA', dtype('int64'))\n",
      "('JOB_FUNCTION_XX', dtype('int64'))\n",
      "('JOB_FUNCTION_PTI', dtype('int64'))\n",
      "('JOB_FUNCTION_PTD', dtype('int64'))\n",
      "('JOB_FUNCTION_MGT', dtype('int64'))\n",
      "('JOB_FUNCTION_PSB', dtype('int64'))\n",
      "('JOB_FUNCTION_PTF', dtype('int64'))\n",
      "('JOB_FUNCTION_PTH', dtype('int64'))\n",
      "('JOB_FUNCTION_PTL', dtype('int64'))\n",
      "('JOB_FUNCTION_PTJ', dtype('int64'))\n",
      "('JOB_FUNCTION_PTK', dtype('int64'))\n"
     ]
    }
   ],
   "source": [
    "str_cols_to_drop = []\n",
    "for col in sep_model_cols1:\n",
    "    print(col, ne2b[col].dtype)\n",
    "    if ne2b[col].dtype == 'O':\n",
    "        str_cols_to_drop.append(col)"
   ]
  },
  {
   "cell_type": "code",
   "execution_count": 111,
   "metadata": {
    "collapsed": true
   },
   "outputs": [],
   "source": [
    "sep_model_cols1 = [c for c in sep_model_cols1 if c not in str_cols_to_drop]\n",
    "sep_model_cols1.remove('hire_age')\n",
    "sep_model_cols1.remove('KEY')\n"
   ]
  },
  {
   "cell_type": "code",
   "execution_count": 112,
   "metadata": {
    "collapsed": false
   },
   "outputs": [
    {
     "data": {
      "text/plain": [
       "(95319, 86)"
      ]
     },
     "execution_count": 112,
     "metadata": {},
     "output_type": "execute_result"
    }
   ],
   "source": [
    "ne2b[sep_model_cols1].shape"
   ]
  },
  {
   "cell_type": "code",
   "execution_count": 113,
   "metadata": {
    "collapsed": false
   },
   "outputs": [
    {
     "data": {
      "text/plain": [
       "(95319, 83)"
      ]
     },
     "execution_count": 113,
     "metadata": {},
     "output_type": "execute_result"
    }
   ],
   "source": [
    "sep_model_cols1.remove('EXT_FUNC_ID_SFI')\n",
    "sep_model_cols1.remove('FUNC_ID_SFI')\n",
    "sep_model_cols1.remove('JOBCODE')\n",
    "ne2b[sep_model_cols1].shape"
   ]
  },
  {
   "cell_type": "code",
   "execution_count": 99,
   "metadata": {
    "collapsed": true
   },
   "outputs": [],
   "source": [
    "import lifelines as ll"
   ]
  },
  {
   "cell_type": "code",
   "execution_count": 101,
   "metadata": {
    "collapsed": true
   },
   "outputs": [],
   "source": [
    "cf = ll.CoxPHFitter(penalizer=0.1)"
   ]
  },
  {
   "cell_type": "code",
   "execution_count": 121,
   "metadata": {
    "collapsed": false
   },
   "outputs": [
    {
     "data": {
      "text/plain": [
       "['REH_CNT',\n",
       " 'SHIFT',\n",
       " 'TOTAL_RPT_CNT',\n",
       " 'INTERN',\n",
       " 'FUNCCNT1',\n",
       " 'PERF1',\n",
       " 'DEPENDENT_CNT',\n",
       " 'SUPVCNT1',\n",
       " 'Tenure_years',\n",
       " 'REMOTE',\n",
       " 'DIVISION_CODE_SFI',\n",
       " 'COMPANY',\n",
       " 'FLOORCNT1',\n",
       " 'FUNC_CNT',\n",
       " 'RELOCATE_ALL_SFI',\n",
       " 'PARTFULL1',\n",
       " 'STD_HOURS',\n",
       " 'JOBCNT1',\n",
       " 'MIN_RT_ANNUAL',\n",
       " 'FLOR_SFI',\n",
       " 'PTFTCNT1',\n",
       " 'FULLPART1',\n",
       " 'FTPTCNT1',\n",
       " 'GRADECNT1',\n",
       " 'EFUNCCNT1',\n",
       " 'HAVE_INS',\n",
       " 'FTE',\n",
       " 'SAL1',\n",
       " 'LOCSTCNT1',\n",
       " 'EXTFUNC_CNT',\n",
       " 'SUPV_DIFF_LOC',\n",
       " 'Age_years',\n",
       " 'ADDRCNT1',\n",
       " 'RELO_STATE_CNT_SFI',\n",
       " 'HAVE_DEP',\n",
       " 'REMOTE_SUPV',\n",
       " 'MAX_RT_ANNUAL',\n",
       " 'LOCCNT1',\n",
       " 'status',\n",
       " 'DIRECT_RPT_CNT',\n",
       " 'MERIT1',\n",
       " 'DEPTCNT1',\n",
       " 'BOX1',\n",
       " 'COMP_FREQUENCY',\n",
       " 'FLSA_STATUS_N',\n",
       " 'FLSA_STATUS_Z',\n",
       " 'FULL_PART_TIME_F',\n",
       " 'FULL_PART_TIME_P',\n",
       " 'FULL_PART_TIME_X',\n",
       " 'EMPL_TYPE_E',\n",
       " 'EMPL_TYPE_S',\n",
       " 'EMPL_TYPE_H',\n",
       " 'EMPL_CLASS_1',\n",
       " 'EMPL_CLASS_D',\n",
       " 'EMPL_CLASS_3',\n",
       " 'EMPL_CLASS_5',\n",
       " 'EEO1CODE_2',\n",
       " 'EEO1CODE_5',\n",
       " 'EEO1CODE_4',\n",
       " 'EEO1CODE_1',\n",
       " 'EEO1CODE_6',\n",
       " 'EEO1CODE_3',\n",
       " 'EEO1CODE_7',\n",
       " 'EEO1CODE_N',\n",
       " 'JOB_FUNCTION_PTC',\n",
       " 'JOB_FUNCTION_PTB',\n",
       " 'JOB_FUNCTION_PSA',\n",
       " 'JOB_FUNCTION_PSC',\n",
       " 'JOB_FUNCTION_PTA',\n",
       " 'JOB_FUNCTION_PTG',\n",
       " 'JOB_FUNCTION_PTE',\n",
       " 'JOB_FUNCTION_NSA',\n",
       " 'JOB_FUNCTION_XX',\n",
       " 'JOB_FUNCTION_PTI',\n",
       " 'JOB_FUNCTION_PTD',\n",
       " 'JOB_FUNCTION_MGT',\n",
       " 'JOB_FUNCTION_PSB',\n",
       " 'JOB_FUNCTION_PTF',\n",
       " 'JOB_FUNCTION_PTH',\n",
       " 'JOB_FUNCTION_PTL',\n",
       " 'JOB_FUNCTION_PTJ',\n",
       " 'JOB_FUNCTION_PTK']"
      ]
     },
     "execution_count": 121,
     "metadata": {},
     "output_type": "execute_result"
    }
   ],
   "source": [
    "sep_model_cols1"
   ]
  },
  {
   "cell_type": "code",
   "execution_count": 117,
   "metadata": {
    "collapsed": false
   },
   "outputs": [
    {
     "data": {
      "text/plain": [
       "1    65178\n",
       "2    16558\n",
       "3     8576\n",
       "4     2442\n",
       "8     1872\n",
       "5      460\n",
       "7      198\n",
       "6       35\n",
       "Name: ETHNIC_GROUP, dtype: int64"
      ]
     },
     "execution_count": 117,
     "metadata": {},
     "output_type": "execute_result"
    }
   ],
   "source": [
    "ne2b[sep_model_cols1].ETHNIC_GROUP.value_counts()"
   ]
  },
  {
   "cell_type": "code",
   "execution_count": 123,
   "metadata": {
    "collapsed": false
   },
   "outputs": [],
   "source": [
    "#sep_model_cols1.remove('ETHNIC_GROUP')\n",
    "sep_model_cols1.remove('COMPANY')\n",
    "sep_model_cols1.remove('DIVISION_CODE_SFI')"
   ]
  },
  {
   "cell_type": "code",
   "execution_count": 125,
   "metadata": {
    "collapsed": false
   },
   "outputs": [
    {
     "name": "stdout",
     "output_type": "stream",
     "text": [
      "REH_CNT            VIF = 2.2   R^2 = 0.551     \n",
      "SHIFT              VIF = 2.4   R^2 = 0.576     \n",
      "TOTAL_RPT_CNT      VIF = 4.8   R^2 = 0.791     \n",
      "INTERN             VIF = 3.8   R^2 = 0.7387    \n",
      "FUNCCNT1           VIF = 3.1   R^2 = 0.6735    \n",
      "PERF1              VIF = 4.2   R^2 = 0.7608    \n",
      "DEPENDENT_CNT      VIF = 3.7   R^2 = 0.7325    \n",
      "SUPVCNT1           VIF = 1.9   R^2 = 0.4754    \n",
      "Tenure_years       VIF = 4.7   R^2 = 0.7892    \n",
      "REMOTE             VIF = 2.6   R^2 = 0.6112    \n",
      "FLOORCNT1          VIF = 2.4   R^2 = 0.5776    \n",
      "FUNC_CNT           VIF = 4.7   R^2 = 0.7849    \n",
      "RELOCATE_ALL_SFI   VIF = 27.1  R^2 = 0.9631    \n",
      "PARTFULL1          VIF = 996.2 R^2 = 0.999     \n",
      "STD_HOURS          VIF = 29113.9R^2 = 1.0       \n",
      "JOBCNT1            VIF = 3.2   R^2 = 0.6922    \n",
      "MIN_RT_ANNUAL      VIF = 161.6 R^2 = 0.9938    \n",
      "FLOR_SFI           VIF = 2.8   R^2 = 0.6471    \n",
      "PTFTCNT1           VIF = 996.8 R^2 = 0.999     \n",
      "FULLPART1          VIF = 180.0 R^2 = 0.9944    \n",
      "FTPTCNT1           VIF = 180.0 R^2 = 0.9944    \n",
      "GRADECNT1          VIF = 2.8   R^2 = 0.6447    \n",
      "EFUNCCNT1          VIF = 5.1   R^2 = 0.8055    \n",
      "HAVE_INS           VIF = 4.5   R^2 = 0.7765    \n",
      "FTE                VIF = 29902.8R^2 = 1.0       \n",
      "SAL1               VIF = 18.3  R^2 = 0.9455    \n",
      "LOCSTCNT1          VIF = 2.1   R^2 = 0.5128    \n",
      "EXTFUNC_CNT        VIF = 3.0   R^2 = 0.6627    \n",
      "SUPV_DIFF_LOC      VIF = 2.7   R^2 = 0.6275    \n",
      "Age_years          VIF = 3.7   R^2 = 0.7305    \n",
      "ADDRCNT1           VIF = 2.7   R^2 = 0.6337    \n",
      "RELO_STATE_CNT_SFI VIF = 26.7  R^2 = 0.9626    \n",
      "HAVE_DEP           VIF = 5.9   R^2 = 0.8296    \n",
      "REMOTE_SUPV        VIF = 2.0   R^2 = 0.5034    \n",
      "MAX_RT_ANNUAL      VIF = 160.8 R^2 = 0.9938    \n",
      "LOCCNT1            VIF = 2.7   R^2 = 0.6311    \n",
      "status             VIF = 4.2   R^2 = 0.7631    \n",
      "DIRECT_RPT_CNT     VIF = 2.0   R^2 = 0.4872    \n",
      "MERIT1             VIF = 3.8   R^2 = 0.7367    \n",
      "DEPTCNT1           VIF = 3.6   R^2 = 0.7211    \n",
      "BOX1               VIF = 4.1   R^2 = 0.7555    \n",
      "COMP_FREQUENCY     VIF = 34.0  R^2 = 0.9706    \n",
      "FLSA_STATUS_N      VIF = 5670.5R^2 = 0.9998    \n",
      "FLSA_STATUS_Z      VIF = 5447.6R^2 = 0.9998    \n",
      "FULL_PART_TIME_F   VIF = 54.9  R^2 = 0.9818    \n",
      "FULL_PART_TIME_P   VIF = 30.9  R^2 = 0.9676    \n",
      "FULL_PART_TIME_X   VIF = 85.8  R^2 = 0.9883    \n",
      "EMPL_TYPE_E        VIF = 1570.2R^2 = 0.9994    \n",
      "EMPL_TYPE_S        VIF = 1172.7R^2 = 0.9991    \n",
      "EMPL_TYPE_H        VIF = 687.9 R^2 = 0.9985    \n",
      "EMPL_CLASS_1       VIF = 1360.8R^2 = 0.9993    \n",
      "EMPL_CLASS_D       VIF = 1164.8R^2 = 0.9991    \n",
      "EMPL_CLASS_3       VIF = 203.6 R^2 = 0.9951    \n",
      "EMPL_CLASS_5       VIF = 2.7   R^2 = 0.632     \n",
      "EEO1CODE_2         VIF = 10549.4R^2 = 0.9999    \n",
      "EEO1CODE_5         VIF = 10710.2R^2 = 0.9999    \n",
      "EEO1CODE_4         VIF = 1832.3R^2 = 0.9995    \n",
      "EEO1CODE_1         VIF = 3069.2R^2 = 0.9997    \n",
      "EEO1CODE_6         VIF = 84.7  R^2 = 0.9882    \n",
      "EEO1CODE_3         VIF = 551.7 R^2 = 0.9982    \n",
      "EEO1CODE_7         VIF = 124.8 R^2 = 0.992     \n",
      "EEO1CODE_N         VIF = 5.2   R^2 = 0.8073    \n",
      "JOB_FUNCTION_PTC   VIF = 3484.6R^2 = 0.9997    \n",
      "JOB_FUNCTION_PTB   VIF = 14525.3R^2 = 0.9999    \n",
      "JOB_FUNCTION_PSA   VIF = 22874.4R^2 = 1.0       \n",
      "JOB_FUNCTION_PSC   VIF = 1982.1R^2 = 0.9995    \n",
      "JOB_FUNCTION_PTA   VIF = 9756.3R^2 = 0.9999    \n",
      "JOB_FUNCTION_PTG   VIF = 135.0 R^2 = 0.9926    \n",
      "JOB_FUNCTION_PTE   VIF = 3660.9R^2 = 0.9997    \n",
      "JOB_FUNCTION_NSA   VIF = 3896.9R^2 = 0.9997    \n",
      "JOB_FUNCTION_XX    VIF = 3076.1R^2 = 0.9997    \n",
      "JOB_FUNCTION_PTI   VIF = 740.7 R^2 = 0.9986    \n",
      "JOB_FUNCTION_PTD   VIF = 745.6 R^2 = 0.9987    \n",
      "JOB_FUNCTION_MGT   VIF = 6708.5R^2 = 0.9999    \n",
      "JOB_FUNCTION_PSB   VIF = 2462.4R^2 = 0.9996    \n",
      "JOB_FUNCTION_PTF   VIF = 98.1  R^2 = 0.9898    \n",
      "JOB_FUNCTION_PTH   VIF = 70.1  R^2 = 0.9857    \n",
      "JOB_FUNCTION_PTL   VIF = 132.9 R^2 = 0.9925    \n",
      "JOB_FUNCTION_PTJ   VIF = 13.0  R^2 = 0.9231    \n",
      "JOB_FUNCTION_PTK   VIF = 22.0  R^2 = 0.9546    \n"
     ]
    },
    {
     "data": {
      "text/plain": [
       "REH_CNT             0.551017\n",
       "SHIFT               0.575984\n",
       "TOTAL_RPT_CNT       0.791026\n",
       "INTERN              0.738680\n",
       "FUNCCNT1            0.673496\n",
       "PERF1               0.760829\n",
       "DEPENDENT_CNT       0.732545\n",
       "SUPVCNT1            0.475444\n",
       "Tenure_years        0.789150\n",
       "REMOTE              0.611236\n",
       "FLOORCNT1           0.577587\n",
       "FUNC_CNT            0.784946\n",
       "RELOCATE_ALL_SFI    0.963075\n",
       "PARTFULL1           0.998996\n",
       "STD_HOURS           0.999966\n",
       "JOBCNT1             0.692238\n",
       "MIN_RT_ANNUAL       0.993812\n",
       "FLOR_SFI            0.647063\n",
       "PTFTCNT1            0.998997\n",
       "FULLPART1           0.994443\n",
       "FTPTCNT1            0.994444\n",
       "GRADECNT1           0.644667\n",
       "EFUNCCNT1           0.805480\n",
       "HAVE_INS            0.776452\n",
       "FTE                 0.999967\n",
       "SAL1                0.945454\n",
       "LOCSTCNT1           0.512770\n",
       "EXTFUNC_CNT         0.662689\n",
       "SUPV_DIFF_LOC       0.627468\n",
       "Age_years           0.730513\n",
       "                      ...   \n",
       "EMPL_CLASS_1        0.999265\n",
       "EMPL_CLASS_D        0.999142\n",
       "EMPL_CLASS_3        0.995089\n",
       "EMPL_CLASS_5        0.632006\n",
       "EEO1CODE_2          0.999905\n",
       "EEO1CODE_5          0.999907\n",
       "EEO1CODE_4          0.999454\n",
       "EEO1CODE_1          0.999674\n",
       "EEO1CODE_6          0.988187\n",
       "EEO1CODE_3          0.998187\n",
       "EEO1CODE_7          0.991985\n",
       "EEO1CODE_N          0.807302\n",
       "JOB_FUNCTION_PTC    0.999713\n",
       "JOB_FUNCTION_PTB    0.999931\n",
       "JOB_FUNCTION_PSA    0.999956\n",
       "JOB_FUNCTION_PSC    0.999495\n",
       "JOB_FUNCTION_PTA    0.999898\n",
       "JOB_FUNCTION_PTG    0.992591\n",
       "JOB_FUNCTION_PTE    0.999727\n",
       "JOB_FUNCTION_NSA    0.999743\n",
       "JOB_FUNCTION_XX     0.999675\n",
       "JOB_FUNCTION_PTI    0.998650\n",
       "JOB_FUNCTION_PTD    0.998659\n",
       "JOB_FUNCTION_MGT    0.999851\n",
       "JOB_FUNCTION_PSB    0.999594\n",
       "JOB_FUNCTION_PTF    0.989807\n",
       "JOB_FUNCTION_PTH    0.985739\n",
       "JOB_FUNCTION_PTL    0.992478\n",
       "JOB_FUNCTION_PTJ    0.923138\n",
       "JOB_FUNCTION_PTK    0.954563\n",
       "dtype: float64"
      ]
     },
     "execution_count": 125,
     "metadata": {},
     "output_type": "execute_result"
    }
   ],
   "source": [
    "br.perfect_collinearity_test(ne2b[sep_model_cols1])"
   ]
  },
  {
   "cell_type": "code",
   "execution_count": 130,
   "metadata": {
    "collapsed": false
   },
   "outputs": [
    {
     "data": {
      "text/plain": [
       "68"
      ]
     },
     "execution_count": 130,
     "metadata": {},
     "output_type": "execute_result"
    }
   ],
   "source": [
    "sep_model_cols2 = [c for c in sep_model_cols1 if not c.startswith(\"EMPL_CLASS\")]\n",
    "sep_model_cols2 = [c for c in sep_model_cols2 if not c.startswith(\"EEO1CODE\")]\n",
    "len(sep_model_cols2)\n"
   ]
  },
  {
   "cell_type": "code",
   "execution_count": 132,
   "metadata": {
    "collapsed": false
   },
   "outputs": [
    {
     "name": "stdout",
     "output_type": "stream",
     "text": [
      "[0.73563427075949928, 0.87199451176046416, 0.73544315228865764]\n",
      "0.78102397827\n",
      "0.0643259284389\n",
      "CPU times: user 8min 30s, sys: 7min 41s, total: 16min 11s\n",
      "Wall time: 4min 42s\n"
     ]
    }
   ],
   "source": [
    "%%time\n",
    "#regression_dataset = load_regression_dataset()\n",
    "#cf = CoxPHFitter()\n",
    "scores = ll.utils.k_fold_cross_validation(cf, ne2b[sep_model_cols2], 'Tenure_years', event_col='status', k=3)\n",
    "print (scores)\n",
    "print (np.mean(scores))\n",
    "print (np.std(scores))\n",
    "\n",
    "#[ 0.5896  0.5358  0.5028]\n",
    "# 0.542\n",
    "# 0.035"
   ]
  },
  {
   "cell_type": "code",
   "execution_count": 133,
   "metadata": {
    "collapsed": false
   },
   "outputs": [
    {
     "name": "stdout",
     "output_type": "stream",
     "text": [
      "n=63546, number of events=26427\n",
      "\n",
      "                         coef  exp(coef)  se(coef)          z         p  lower 0.95  upper 0.95     \n",
      "REH_CNT             3.135e-02  1.032e+00 6.063e-02  5.170e-01 6.051e-01  -8.751e-02   1.502e-01     \n",
      "SHIFT              -1.109e-02  9.890e-01 1.087e-01 -1.020e-01 9.188e-01  -2.242e-01   2.020e-01     \n",
      "TOTAL_RPT_CNT       4.291e-03  1.004e+00 1.258e-01  3.410e-02 9.728e-01  -2.424e-01   2.510e-01     \n",
      "INTERN             -7.734e-01  4.614e-01 3.528e-01 -2.192e+00 2.838e-02  -1.465e+00  -8.173e-02    *\n",
      "FUNCCNT1           -2.241e-02  9.778e-01 1.184e-01 -1.892e-01 8.499e-01  -2.546e-01   2.097e-01     \n",
      "PERF1               8.382e-01  2.312e+00 1.661e-02  5.046e+01 0.000e+00   8.056e-01   8.707e-01  ***\n",
      "DEPENDENT_CNT       1.913e-01  1.211e+00 9.772e-02  1.958e+00 5.027e-02  -2.636e-04   3.829e-01    .\n",
      "SUPVCNT1            7.232e-03  1.007e+00 1.052e-01  6.872e-02 9.452e-01  -1.991e-01   2.135e-01     \n",
      "REMOTE             -2.624e-01  7.692e-01 1.884e-01 -1.393e+00 1.637e-01  -6.318e-01   1.070e-01     \n",
      "FLOORCNT1          -1.217e-01  8.854e-01 1.316e-01 -9.247e-01 3.551e-01  -3.797e-01   1.363e-01     \n",
      "FUNC_CNT           -1.177e-01  8.890e-01 1.454e-01 -8.091e-01 4.185e-01  -4.028e-01   1.674e-01     \n",
      "RELOCATE_ALL_SFI   -1.825e-01  8.332e-01 2.657e-01 -6.868e-01 4.922e-01  -7.035e-01   3.385e-01     \n",
      "PARTFULL1          -2.882e+00  5.605e-02 2.649e+00 -1.088e+00 2.766e-01  -8.074e+00   2.311e+00     \n",
      "STD_HOURS          -6.567e-02  9.364e-01 4.744e-01 -1.384e-01 8.899e-01  -9.956e-01   8.643e-01     \n",
      "JOBCNT1            -6.623e-01  5.157e-01 2.515e-01 -2.633e+00 8.463e-03  -1.155e+00  -1.692e-01   **\n",
      "MIN_RT_ANNUAL      -7.250e-01  4.843e-01 1.336e-01 -5.427e+00 5.722e-08  -9.869e-01  -4.631e-01  ***\n",
      "FLOR_SFI           -1.424e-02  9.859e-01 1.007e-01 -1.414e-01 8.876e-01  -2.117e-01   1.832e-01     \n",
      "PTFTCNT1            2.064e+00  7.879e+00 1.337e+00  1.544e+00 1.225e-01  -5.561e-01   4.684e+00     \n",
      "FULLPART1          -3.851e-01  6.804e-01 1.332e+00 -2.891e-01 7.725e-01  -2.996e+00   2.226e+00     \n",
      "FTPTCNT1            3.755e-01  1.456e+00 1.345e+00  2.792e-01 7.801e-01  -2.261e+00   3.012e+00     \n",
      "GRADECNT1           5.334e-02  1.055e+00 2.136e-01  2.497e-01 8.028e-01  -3.654e-01   4.721e-01     \n",
      "EFUNCCNT1           1.600e-01  1.173e+00 1.796e-01  8.908e-01 3.730e-01  -1.921e-01   5.120e-01     \n",
      "HAVE_INS           -4.609e-01  6.307e-01 8.411e-02 -5.480e+00 4.261e-08  -6.258e-01  -2.960e-01  ***\n",
      "FTE                -3.830e-02  9.624e-01 4.658e-01 -8.223e-02 9.345e-01  -9.515e-01   8.749e-01     \n",
      "SAL1               -2.953e-01  7.443e-01 1.407e-01 -2.099e+00 3.577e-02  -5.710e-01  -1.956e-02    *\n",
      "LOCSTCNT1          -4.349e-02  9.574e-01 1.237e-01 -3.515e-01 7.252e-01  -2.860e-01   1.990e-01     \n",
      "EXTFUNC_CNT        -9.575e-03  9.905e-01 1.527e-01 -6.273e-02 9.500e-01  -3.088e-01   2.897e-01     \n",
      "SUPV_DIFF_LOC       1.314e-01  1.140e+00 1.028e-01  1.278e+00 2.011e-01  -7.010e-02   3.329e-01     \n",
      "Age_years          -9.284e-01  3.952e-01 1.354e-01 -6.858e+00 6.980e-12  -1.194e+00  -6.630e-01  ***\n",
      "ADDRCNT1            1.380e-01  1.148e+00 1.143e-01  1.208e+00 2.271e-01  -8.599e-02   3.620e-01     \n",
      "RELO_STATE_CNT_SFI  1.462e-01  1.157e+00 2.764e-01  5.290e-01 5.968e-01  -3.956e-01   6.880e-01     \n",
      "HAVE_DEP            9.740e-02  1.102e+00 1.102e-01  8.835e-01 3.770e-01  -1.187e-01   3.135e-01     \n",
      "REMOTE_SUPV        -7.713e-02  9.258e-01 2.041e-01 -3.779e-01 7.055e-01  -4.772e-01   3.229e-01     \n",
      "MAX_RT_ANNUAL       1.231e-01  1.131e+00 1.482e-01  8.305e-01 4.062e-01  -1.675e-01   4.137e-01     \n",
      "LOCCNT1             4.475e-01  1.564e+00 1.467e-01  3.051e+00 2.279e-03   1.600e-01   7.351e-01   **\n",
      "DIRECT_RPT_CNT     -6.986e-01  4.973e-01 1.303e-01 -5.362e+00 8.241e-08  -9.541e-01  -4.432e-01  ***\n",
      "MERIT1              2.194e-01  1.245e+00 7.663e-02  2.863e+00 4.201e-03   6.914e-02   3.696e-01   **\n",
      "DEPTCNT1           -2.868e-01  7.506e-01 2.205e-01 -1.301e+00 1.932e-01  -7.190e-01   1.454e-01     \n",
      "BOX1               -4.099e-01  6.637e-01 1.058e-01 -3.876e+00 1.063e-04  -6.173e-01  -2.026e-01  ***\n",
      "COMP_FREQUENCY     -2.383e-01  7.879e-01 3.904e-01 -6.105e-01 5.416e-01  -1.004e+00   5.270e-01     \n",
      "FLSA_STATUS_N       4.046e-01  1.499e+00 2.169e+00  1.865e-01 8.520e-01  -3.847e+00   4.656e+00     \n",
      "FLSA_STATUS_Z       9.338e-01  2.544e+00 2.122e+00  4.400e-01 6.599e-01  -3.226e+00   5.094e+00     \n",
      "FULL_PART_TIME_F    3.874e-01  1.473e+00 5.004e-01  7.742e-01 4.388e-01  -5.936e-01   1.368e+00     \n",
      "FULL_PART_TIME_P    5.337e-01  1.705e+00 2.488e-01  2.145e+00 3.197e-02   4.588e-02   1.022e+00    *\n",
      "FULL_PART_TIME_X    1.209e-01  1.129e+00 8.377e-01  1.444e-01 8.852e-01  -1.521e+00   1.763e+00     \n",
      "EMPL_TYPE_E        -1.243e-01  8.832e-01 1.969e+00 -6.312e-02 9.497e-01  -3.984e+00   3.735e+00     \n",
      "EMPL_TYPE_S        -1.852e-01  8.309e-01 1.745e+00 -1.061e-01 9.155e-01  -3.606e+00   3.236e+00     \n",
      "EMPL_TYPE_H         3.764e-01  1.457e+00 1.323e+00  2.844e-01 7.761e-01  -2.218e+00   2.971e+00     \n",
      "JOB_FUNCTION_PTC   -8.202e-02  9.212e-01 6.973e-01 -1.176e-01 9.064e-01  -1.449e+00   1.285e+00     \n",
      "JOB_FUNCTION_PTB   -1.353e-01  8.734e-01 1.405e+00 -9.632e-02 9.233e-01  -2.890e+00   2.619e+00     \n",
      "JOB_FUNCTION_PSA   -1.122e-01  8.939e-01 1.755e+00 -6.390e-02 9.491e-01  -3.553e+00   3.329e+00     \n",
      "JOB_FUNCTION_PSC   -2.387e-03  9.976e-01 5.175e-01 -4.612e-03 9.963e-01  -1.017e+00   1.012e+00     \n",
      "JOB_FUNCTION_PTA    7.596e-02  1.079e+00 1.150e+00  6.604e-02 9.473e-01  -2.179e+00   2.331e+00     \n",
      "JOB_FUNCTION_PTG    4.893e-02  1.050e+00 3.542e-01  1.381e-01 8.901e-01  -6.455e-01   7.433e-01     \n",
      "JOB_FUNCTION_PTE    2.562e-02  1.026e+00 7.106e-01  3.605e-02 9.712e-01  -1.367e+00   1.419e+00     \n",
      "JOB_FUNCTION_NSA    3.829e-01  1.467e+00 7.335e-01  5.220e-01 6.017e-01  -1.055e+00   1.821e+00     \n",
      "JOB_FUNCTION_XX    -9.925e-03  9.901e-01 6.533e-01 -1.519e-02 9.879e-01  -1.291e+00   1.271e+00     \n",
      "JOB_FUNCTION_PTI    7.176e-02  1.074e+00 3.333e-01  2.153e-01 8.295e-01  -5.816e-01   7.251e-01     \n",
      "JOB_FUNCTION_PTD   -2.419e-01  7.851e-01 7.359e-01 -3.287e-01 7.424e-01  -1.685e+00   1.201e+00     \n",
      "JOB_FUNCTION_MGT    9.901e-02  1.104e+00 9.561e-01  1.035e-01 9.175e-01  -1.775e+00   1.973e+00     \n",
      "JOB_FUNCTION_PSB    1.235e-02  1.012e+00 5.835e-01  2.116e-02 9.831e-01  -1.132e+00   1.156e+00     \n",
      "JOB_FUNCTION_PTF   -2.630e-02  9.740e-01 2.538e-01 -1.036e-01 9.175e-01  -5.239e-01   4.712e-01     \n",
      "JOB_FUNCTION_PTH   -2.248e-02  9.778e-01 1.102e-01 -2.039e-01 8.384e-01  -2.386e-01   1.936e-01     \n",
      "JOB_FUNCTION_PTL    1.270e-01  1.135e+00 1.355e-01  9.375e-01 3.485e-01  -1.386e-01   3.927e-01     \n",
      "JOB_FUNCTION_PTJ    4.840e-03  1.005e+00 2.025e-01  2.389e-02 9.809e-01  -3.922e-01   4.019e-01     \n",
      "JOB_FUNCTION_PTK    8.527e-03  1.009e+00 1.627e-01  5.243e-02 9.582e-01  -3.103e-01   3.274e-01     \n",
      "---\n",
      "Signif. codes:  0 '***' 0.001 '**' 0.01 '*' 0.05 '.' 0.1 ' ' 1 \n",
      "\n",
      "Concordance = 0.734\n"
     ]
    }
   ],
   "source": [
    "cf.print_summary()"
   ]
  },
  {
   "cell_type": "code",
   "execution_count": 134,
   "metadata": {
    "collapsed": false
   },
   "outputs": [
    {
     "data": {
      "text/html": [
       "<div>\n",
       "<table border=\"1\" class=\"dataframe\">\n",
       "  <thead>\n",
       "    <tr style=\"text-align: right;\">\n",
       "      <th></th>\n",
       "      <th>REH_CNT</th>\n",
       "      <th>SHIFT</th>\n",
       "      <th>TOTAL_RPT_CNT</th>\n",
       "      <th>INTERN</th>\n",
       "      <th>FUNCCNT1</th>\n",
       "      <th>PERF1</th>\n",
       "      <th>DEPENDENT_CNT</th>\n",
       "      <th>SUPVCNT1</th>\n",
       "      <th>REMOTE</th>\n",
       "      <th>FLOORCNT1</th>\n",
       "      <th>...</th>\n",
       "      <th>JOB_FUNCTION_XX</th>\n",
       "      <th>JOB_FUNCTION_PTI</th>\n",
       "      <th>JOB_FUNCTION_PTD</th>\n",
       "      <th>JOB_FUNCTION_MGT</th>\n",
       "      <th>JOB_FUNCTION_PSB</th>\n",
       "      <th>JOB_FUNCTION_PTF</th>\n",
       "      <th>JOB_FUNCTION_PTH</th>\n",
       "      <th>JOB_FUNCTION_PTL</th>\n",
       "      <th>JOB_FUNCTION_PTJ</th>\n",
       "      <th>JOB_FUNCTION_PTK</th>\n",
       "    </tr>\n",
       "  </thead>\n",
       "  <tbody>\n",
       "    <tr>\n",
       "      <th>coef</th>\n",
       "      <td>0.031351</td>\n",
       "      <td>-0.011087</td>\n",
       "      <td>0.004291</td>\n",
       "      <td>-0.773442</td>\n",
       "      <td>-0.02241</td>\n",
       "      <td>0.83816</td>\n",
       "      <td>0.191304</td>\n",
       "      <td>0.007232</td>\n",
       "      <td>-0.262393</td>\n",
       "      <td>-0.121686</td>\n",
       "      <td>...</td>\n",
       "      <td>-0.009925</td>\n",
       "      <td>0.071763</td>\n",
       "      <td>-0.241897</td>\n",
       "      <td>0.099008</td>\n",
       "      <td>0.012347</td>\n",
       "      <td>-0.026303</td>\n",
       "      <td>-0.022476</td>\n",
       "      <td>0.127049</td>\n",
       "      <td>0.00484</td>\n",
       "      <td>0.008527</td>\n",
       "    </tr>\n",
       "  </tbody>\n",
       "</table>\n",
       "<p>1 rows × 66 columns</p>\n",
       "</div>"
      ],
      "text/plain": [
       "       REH_CNT     SHIFT  TOTAL_RPT_CNT    INTERN  FUNCCNT1    PERF1  \\\n",
       "coef  0.031351 -0.011087       0.004291 -0.773442  -0.02241  0.83816   \n",
       "\n",
       "      DEPENDENT_CNT  SUPVCNT1    REMOTE  FLOORCNT1        ...         \\\n",
       "coef       0.191304  0.007232 -0.262393  -0.121686        ...          \n",
       "\n",
       "      JOB_FUNCTION_XX  JOB_FUNCTION_PTI  JOB_FUNCTION_PTD  JOB_FUNCTION_MGT  \\\n",
       "coef        -0.009925          0.071763         -0.241897          0.099008   \n",
       "\n",
       "      JOB_FUNCTION_PSB  JOB_FUNCTION_PTF  JOB_FUNCTION_PTH  JOB_FUNCTION_PTL  \\\n",
       "coef          0.012347         -0.026303         -0.022476          0.127049   \n",
       "\n",
       "      JOB_FUNCTION_PTJ  JOB_FUNCTION_PTK  \n",
       "coef           0.00484          0.008527  \n",
       "\n",
       "[1 rows x 66 columns]"
      ]
     },
     "execution_count": 134,
     "metadata": {},
     "output_type": "execute_result"
    }
   ],
   "source": [
    "cf.hazards_"
   ]
  },
  {
   "cell_type": "code",
   "execution_count": 135,
   "metadata": {
    "collapsed": true
   },
   "outputs": [],
   "source": [
    "def return_concordance(df,model,time_col,event_col):\n",
    "    c_index = ll.utils.concordance_index(df[time_col].values,\n",
    "                               model.predict_expectation(df).values.ravel(),\n",
    "                               df[event_col].values.astype(int))\n",
    "    return c_index"
   ]
  },
  {
   "cell_type": "code",
   "execution_count": 136,
   "metadata": {
    "collapsed": false
   },
   "outputs": [
    {
     "data": {
      "text/plain": [
       "0.732520297842021"
      ]
     },
     "execution_count": 136,
     "metadata": {},
     "output_type": "execute_result"
    }
   ],
   "source": [
    "return_concordance(ne2e[sep_model_cols2],cf,'Tenure_years','status')"
   ]
  },
  {
   "cell_type": "code",
   "execution_count": 140,
   "metadata": {
    "collapsed": false
   },
   "outputs": [],
   "source": [
    "current = em2002[em2002.status== 0].copy()"
   ]
  },
  {
   "cell_type": "code",
   "execution_count": 141,
   "metadata": {
    "collapsed": false
   },
   "outputs": [],
   "source": [
    "curr = pipe.fit(ne2build[modeling_cols],ne2build.status).transform(current[modeling_cols])"
   ]
  },
  {
   "cell_type": "code",
   "execution_count": 142,
   "metadata": {
    "collapsed": false
   },
   "outputs": [
    {
     "data": {
      "text/plain": [
       "u'/home/kesj/work/hrsepara/proc'"
      ]
     },
     "execution_count": 142,
     "metadata": {},
     "output_type": "execute_result"
    }
   ],
   "source": [
    "%pwd"
   ]
  },
  {
   "cell_type": "code",
   "execution_count": 143,
   "metadata": {
    "collapsed": true
   },
   "outputs": [],
   "source": [
    "import pickle "
   ]
  },
  {
   "cell_type": "code",
   "execution_count": 144,
   "metadata": {
    "collapsed": true
   },
   "outputs": [],
   "source": [
    "pickle.dump( cf, open( \"separation_coxph_may16a.pkl\", \"wb\" ) )"
   ]
  },
  {
   "cell_type": "markdown",
   "metadata": {},
   "source": [
    "## Apply this model to the current employees and assess accuracy"
   ]
  },
  {
   "cell_type": "code",
   "execution_count": 145,
   "metadata": {
    "collapsed": true
   },
   "outputs": [],
   "source": [
    "from scipy import interpolate\n",
    "from scipy.optimize import curve_fit\n",
    "\n",
    "def forecast_survival_function(mdl, df, time_range=[0, 1, 2, 3, 4, 5], calc_ci=True, extrapolate=False):\n",
    "    \"\"\"\n",
    "        :param self:\n",
    "        :param df:\n",
    "\n",
    "        :param time_range:\n",
    "        :param calc_ci: flag to return the confidence intervals\n",
    "        :return:\n",
    "    \"\"\"\n",
    "\n",
    "    # time_col = self.durations.name\n",
    "\n",
    "    col_names = ['t_' + np.str(tp) for tp in time_range]\n",
    "    # calculate the predicted hazard\n",
    "    #order = mdl.confidence_intervals_.columns.tolist()\n",
    "    #duration_col = mdl.durations.name\n",
    "    #order.append(duration_col)\n",
    "    #df = df[order]\n",
    "    my_partial_hazard = mdl.predict_partial_hazard(df)\n",
    "    print(df.shape)\n",
    "    # assign the specific timepoints and calculate the cumulative hazards at these points\n",
    "    forecast_times = identify_forecast_timepoints(mdl, df, time_range)\n",
    "    max_time = mdl.baseline_hazard_.index.max()\n",
    "    print(max_time)\n",
    "    if extrapolate:\n",
    "        # do a linear extrapolation of the cumulative hazards and use this to get values beyond the known range\n",
    "        p_haz, p_haz_cov = curve_fit(line, mdl.baseline_cumulative_hazard_.index,\n",
    "                                     mdl.baseline_cumulative_hazard_.values.ravel())\n",
    "        # force the points to match\n",
    "        offset = mdl.baseline_cumulative_hazard_.values[-1][0] - line(mdl.baseline_cumulative_hazard_.index[-1],\n",
    "                                                                      p_haz[0], p_haz[1])\n",
    "        # apply to timepoints\n",
    "        specific_cumulative_hazards = forecast_times.applymap(lambda x: return_desired_cumulative_hazards(mdl, x)\n",
    "        if x <= max_time else offset + line(x, p_haz[0], p_haz[1]))\n",
    "    else:  # this is the default case\n",
    "        # replace those that exceed the max-time observed with the max observed time\n",
    "        forecast_times[forecast_times > max_time] = max_time\n",
    "        specific_cumulative_hazards = forecast_times.applymap(lambda x: return_desired_cumulative_hazards(x, mdl))\n",
    "\n",
    "        # predict the survival function at these forecasted times\n",
    "        pred_survival_fcn = pd.DataFrame(np.exp(-np.multiply(specific_cumulative_hazards.values,\n",
    "                                                             my_partial_hazard.values)), index=df.index)\n",
    "\n",
    "    if calc_ci:\n",
    "        # calculate the predicted hazard\n",
    "        try:\n",
    "            partial_hazard_ci = mdl.predict_partial_hazard_ci(df)\n",
    "        except AttributeError:\n",
    "            #df_index = mdl._get_index(df)\n",
    "            if isinstance(df, pd.DataFrame):\n",
    "                order = mdl.hazards_.columns\n",
    "                df = df[order]\n",
    "            if mdl.normalize:\n",
    "                df2 = ll.utils.normalize(df, mdl._norm_mean.values, mdl._norm_std.values)\n",
    "            partial_hazard_ci = pd.DataFrame(np.exp(np.dot(df2, mdl.confidence_intervals_.T)), index=df.index.tolist())\n",
    "            partial_hazard_ci['lowerbound'] = partial_hazard_ci.min(axis=1)\n",
    "            partial_hazard_ci['upperbound'] = partial_hazard_ci.max(axis=1)\n",
    "            partial_hazard_ci = partial_hazard_ci[['lowerbound', 'upperbound']]\n",
    "\n",
    "        pred_lower_survival_ci = pd.DataFrame(np.exp(-np.multiply(specific_cumulative_hazards.values.T,\n",
    "                                                                  partial_hazard_ci.values[:, 1])),\n",
    "                                              columns=df.index).T\n",
    "        pred_upper_survival_ci = pd.DataFrame(np.exp(-np.multiply(specific_cumulative_hazards.values.T,\n",
    "                                                                  partial_hazard_ci.values[:, 0])),\n",
    "                                              columns=df.index).T\n",
    "\n",
    "        surv_prediction = pd.Panel(data={'surv': pred_survival_fcn, 'lbci': pred_lower_survival_ci,\n",
    "                                         'ubci': pred_upper_survival_ci})\n",
    "    else:\n",
    "        surv_prediction = pd.Panel(data={'surv': pred_survival_fcn})\n",
    "\n",
    "    surv_prediction.minor_axis = col_names\n",
    "\n",
    "    return surv_prediction\n",
    "\n",
    "## Forecast forward in 1 year intervals\n",
    "def identify_forecast_timepoints(mdl, X, time_range):\n",
    "    \"\"\"\n",
    "        :param X: a (n,d) covariate numpy array or DataFrame. If a numpy array, it is coerced into a DataFrame\n",
    "        :param time_range: a list of times to calculate the survival for.\n",
    "        :return: time_point_df a DataFrame of selected future times to create survival forecasts for.\n",
    "\n",
    "        Construct a data frame that has the current time_col for each observation incremented by the values in the\n",
    "        desired list (time_range)\n",
    "    \"\"\"\n",
    "    time_col = mdl.durations.name\n",
    "    column_names = ['time_point_' + np.str(tp) for tp in time_range]\n",
    "    if isinstance(X, pd.DataFrame):\n",
    "        my_index = X.index.tolist()\n",
    "    else:\n",
    "        my_index = np.arange(0, len(X))\n",
    "        X = pd.DataFrame(X, columns=mdl.hazards_.columns)\n",
    "\n",
    "    time_point_df = pd.DataFrame(columns=column_names, index=my_index)\n",
    "    for idx in my_index:\n",
    "        my_times = np.array([X.loc[idx, time_col] + tp for tp in time_range])\n",
    "        time_point_df.ix[idx] = my_times\n",
    "\n",
    "    return time_point_df\n",
    "\n",
    "\n",
    "def line(x, a, b):\n",
    "    return a * x + b\n",
    "\n",
    "\n",
    "def return_desired_cumulative_hazards(t, mdl):\n",
    "    \"\"\"\n",
    "    t: an event time that is used as the base line to forecast forward in time\n",
    "    \"\"\"\n",
    "    maxtimepoint = mdl.baseline_hazard_.index.max()  # Now taken care of in the forecast\n",
    "    if t > maxtimepoint:\n",
    "        t = maxtimepoint  # just set to the max value.\n",
    "    try:\n",
    "        # spec_hazard = self.baseline_hazard_.ix[t].values\n",
    "        c_haz = mdl.baseline_cumulative_hazard_.ix[t].values[0]\n",
    "\n",
    "    except KeyError:\n",
    "        # get the first after this point\n",
    "        t_post = mdl.baseline_hazard_.ix[t:].index[0]\n",
    "        # get the last before this point\n",
    "        t_prior = mdl.baseline_hazard_.ix[:t].index[-1]\n",
    "        # x = [t_prior, t_post]\n",
    "        y = [mdl.baseline_cumulative_hazard_.ix[t_prior].values[0],\n",
    "             mdl.baseline_cumulative_hazard_.ix[t_post].values[0]]\n",
    "        # print(x, y)\n",
    "        chaz_interp = interpolate.interp1d([t_prior, t_post], y)\n",
    "        c_haz = chaz_interp(t)\n",
    "\n",
    "    return c_haz\n",
    "\n",
    "\n",
    "def convert_surv_to_prob(surv_pred, pred_type, keyed_df):\n",
    "    prob = {}\n",
    "\n",
    "    for item in surv_pred.items:\n",
    "        if item == 'lbci':\n",
    "            prob['ubcip'] = pd.concat([keyed_df, 1 - surv_pred[item]], axis=1)\n",
    "            prob['ubcip'].fillna(0, inplace=True)\n",
    "        elif item == 'ubci':\n",
    "            prob['lbcip'] = pd.concat([keyed_df, 1 - surv_pred[item]], axis=1)\n",
    "            prob['lbcip'].fillna(0, inplace=True)\n",
    "        else:\n",
    "            prob['surv'] = pd.concat([keyed_df, 1 - surv_pred[item]], axis=1)\n",
    "            prob['surv'].fillna(0, inplace=True)\n",
    "\n",
    "\n",
    "\n",
    "    # now check that lengths match\n",
    "    # if len(surv_pred['surv'])!=len(keyed_df):\n",
    "    #    for item in surv_pred.items:\n",
    "    #        prob[item]\n",
    "    #timepoint_cols = surv_pred.minor_axis.tolist()\n",
    "    if pred_type == 'ret':\n",
    "        rep_string = 'ret_prob'\n",
    "    elif pred_type == 'sep':\n",
    "        rep_string = 'sep_prob'\n",
    "\n",
    "    probabilities = pd.Panel.from_dict(prob)\n",
    "    probabilities.minor_axis = [a.replace('t', rep_string) for a in probabilities.minor_axis.tolist()]\n",
    "\n",
    "    return probabilities"
   ]
  },
  {
   "cell_type": "code",
   "execution_count": 149,
   "metadata": {
    "collapsed": true
   },
   "outputs": [],
   "source": [
    "take20 = curr.head(20).copy()"
   ]
  },
  {
   "cell_type": "code",
   "execution_count": 155,
   "metadata": {
    "collapsed": false
   },
   "outputs": [],
   "source": [
    "my_partial_hazard = cf.predict_partial_hazard(curr[sep_model_cols2])"
   ]
  },
  {
   "cell_type": "code",
   "execution_count": 156,
   "metadata": {
    "collapsed": true
   },
   "outputs": [],
   "source": [
    "forecast_times = identify_forecast_timepoints(cf, curr[sep_model_cols2], [0,1,2,3,4,5])"
   ]
  },
  {
   "cell_type": "code",
   "execution_count": 157,
   "metadata": {
    "collapsed": false
   },
   "outputs": [
    {
     "name": "stdout",
     "output_type": "stream",
     "text": [
      "51.0718685832\n"
     ]
    }
   ],
   "source": [
    "max_time = cf.baseline_hazard_.index.max()\n",
    "print(max_time)"
   ]
  },
  {
   "cell_type": "code",
   "execution_count": 158,
   "metadata": {
    "collapsed": false
   },
   "outputs": [],
   "source": [
    "#curr_surv_pred = forecast_survival_function(cf,take20,'Tenure_years')\n",
    "forecast_times[forecast_times > max_time] = max_time\n",
    "specific_cumulative_hazards = forecast_times.applymap(lambda x: return_desired_cumulative_hazards(x, cf))\n",
    "\n",
    "        # predict the survival function at these forecasted times\n",
    "pred_survival_fcn = pd.DataFrame(np.exp(-np.multiply(specific_cumulative_hazards.values,\n",
    "                                                             my_partial_hazard.values)), index=curr[sep_model_cols2].index)"
   ]
  },
  {
   "cell_type": "code",
   "execution_count": 159,
   "metadata": {
    "collapsed": true
   },
   "outputs": [],
   "source": [
    "col_names = ['t_' + np.str(tp) for tp in [0,1,2,3,4,5]]"
   ]
  },
  {
   "cell_type": "code",
   "execution_count": 160,
   "metadata": {
    "collapsed": true
   },
   "outputs": [],
   "source": [
    "df = curr[sep_model_cols2].copy()\n",
    "mdl = cf\n",
    "try:\n",
    "    partial_hazard_ci = cf.predict_partial_hazard_ci(df)\n",
    "except AttributeError:\n",
    "            #df_index = mdl._get_index(df)\n",
    "    if isinstance(df, pd.DataFrame):\n",
    "        order = mdl.hazards_.columns\n",
    "        df = df[order]\n",
    "    if mdl.normalize:\n",
    "        df2 = ll.utils.normalize(df, mdl._norm_mean.values, mdl._norm_std.values)\n",
    "    partial_hazard_ci = pd.DataFrame(np.exp(np.dot(df2, mdl.confidence_intervals_.T)), index=df.index.tolist())\n",
    "    partial_hazard_ci['lowerbound'] = partial_hazard_ci.min(axis=1)\n",
    "    partial_hazard_ci['upperbound'] = partial_hazard_ci.max(axis=1)\n",
    "    partial_hazard_ci = partial_hazard_ci[['lowerbound', 'upperbound']]\n",
    "    \n",
    "\n"
   ]
  },
  {
   "cell_type": "code",
   "execution_count": 161,
   "metadata": {
    "collapsed": true
   },
   "outputs": [],
   "source": [
    "pred_lower_survival_ci = pd.DataFrame(np.exp(-np.multiply(specific_cumulative_hazards.values.T,\n",
    "                                                          partial_hazard_ci.values[:, 1])), \n",
    "                                      columns=df.index).T\n",
    "pred_upper_survival_ci = pd.DataFrame(np.exp(-np.multiply(specific_cumulative_hazards.values.T,\n",
    "                                                          partial_hazard_ci.values[:, 0])),\n",
    "                                      columns=df.index).T\n",
    "\n",
    "surv_prediction = pd.Panel(data={'surv': pred_survival_fcn, 'lbci': pred_lower_survival_ci,\n",
    "                                         'ubci': pred_upper_survival_ci})\n",
    "surv_prediction.minor_axis = col_names\n"
   ]
  },
  {
   "cell_type": "code",
   "execution_count": 172,
   "metadata": {
    "collapsed": false
   },
   "outputs": [
    {
     "data": {
      "text/plain": [
       "69475"
      ]
     },
     "execution_count": 172,
     "metadata": {},
     "output_type": "execute_result"
    }
   ],
   "source": [
    "len(surv_prediction['surv'])"
   ]
  },
  {
   "cell_type": "markdown",
   "metadata": {},
   "source": [
    "### look at just the 909 people now"
   ]
  },
  {
   "cell_type": "code",
   "execution_count": 173,
   "metadata": {
    "collapsed": false
   },
   "outputs": [
    {
     "data": {
      "text/plain": [
       "2587"
      ]
     },
     "execution_count": 173,
     "metadata": {},
     "output_type": "execute_result"
    }
   ],
   "source": [
    "#identify_forecast_timepoints(cf,take20[sep_model_cols2],[0,1,2,3,4,5])\n",
    "#cf.durations.name\n",
    "idx = curr[curr.EXT_FUNC_ID_SFI==909].index\n",
    "len(idx)"
   ]
  },
  {
   "cell_type": "code",
   "execution_count": 174,
   "metadata": {
    "collapsed": false
   },
   "outputs": [
    {
     "data": {
      "text/plain": [
       "Int64Index([93611, 93612, 93613, 93614, 93615, 93616, 93617, 93618, 93619,\n",
       "            93620,\n",
       "            ...\n",
       "            96188, 96189, 96190, 96191, 96192, 96193, 96194, 96195, 96196,\n",
       "            96197],\n",
       "           dtype='int64', length=2587)"
      ]
     },
     "execution_count": 174,
     "metadata": {},
     "output_type": "execute_result"
    }
   ],
   "source": [
    "idx"
   ]
  },
  {
   "cell_type": "code",
   "execution_count": 182,
   "metadata": {
    "collapsed": false
   },
   "outputs": [
    {
     "data": {
      "text/plain": [
       "t_0    1\n",
       "t_1    1\n",
       "t_2    1\n",
       "t_3    1\n",
       "t_4    1\n",
       "t_5    1\n",
       "dtype: float64"
      ]
     },
     "execution_count": 182,
     "metadata": {},
     "output_type": "execute_result"
    }
   ],
   "source": [
    "sep_surv_prob = 1-surv_prediction['surv']\n",
    "sep_surv_prob.max()"
   ]
  },
  {
   "cell_type": "code",
   "execution_count": 188,
   "metadata": {
    "collapsed": false
   },
   "outputs": [
    {
     "data": {
      "text/plain": [
       "1"
      ]
     },
     "execution_count": 188,
     "metadata": {},
     "output_type": "execute_result"
    }
   ],
   "source": [
    "(sep_surv_prob.loc[idx]['t_5']>=0.5).astype(int).sum(axis=0)"
   ]
  },
  {
   "cell_type": "code",
   "execution_count": 195,
   "metadata": {
    "collapsed": false
   },
   "outputs": [
    {
     "data": {
      "text/plain": [
       "58"
      ]
     },
     "execution_count": 195,
     "metadata": {},
     "output_type": "execute_result"
    }
   ],
   "source": [
    "(sep_surv_prob['t_1']>=0.5).astype(int).sum(axis=0)"
   ]
  },
  {
   "cell_type": "markdown",
   "metadata": {},
   "source": [
    "## now look to apply the HRserver model (reduced column)"
   ]
  },
  {
   "cell_type": "code",
   "execution_count": 198,
   "metadata": {
    "collapsed": false
   },
   "outputs": [
    {
     "data": {
      "text/plain": [
       "<lifelines.CoxPHFitter: fitted with 95319 observations, 55678 censored>"
      ]
     },
     "execution_count": 198,
     "metadata": {},
     "output_type": "execute_result"
    }
   ],
   "source": [
    "sep_cox_march = ll.CoxPHFitter()\n",
    "march_columns = [a for a in previous_features_used]\n",
    "march_columns.append('Tenure_years')\n",
    "march_columns.append('status')\n",
    "\n",
    "sep_cox_march.fit(ne2b[march_columns],'Tenure_years','status')\n"
   ]
  },
  {
   "cell_type": "code",
   "execution_count": 201,
   "metadata": {
    "collapsed": false
   },
   "outputs": [
    {
     "name": "stdout",
     "output_type": "stream",
     "text": [
      "n=95319, number of events=39641\n",
      "\n",
      "                       coef  exp(coef)  se(coef)          z          p  lower 0.95  upper 0.95     \n",
      "Age_years        -9.231e-01  3.973e-01 9.197e-03 -1.004e+02  0.000e+00  -9.411e-01  -9.051e-01  ***\n",
      "SAL1             -8.096e-01  4.450e-01 1.223e-02 -6.621e+01  0.000e+00  -8.336e-01  -7.856e-01  ***\n",
      "MERIT1            1.179e-01  1.125e+00 8.797e-03  1.341e+01  5.460e-41   1.007e-01   1.352e-01  ***\n",
      "PERF1            -1.029e+00  3.572e-01 1.725e-02 -5.966e+01  0.000e+00  -1.063e+00  -9.956e-01  ***\n",
      "BOX1             -1.601e-01  8.521e-01 7.608e-03 -2.104e+01  2.677e-98  -1.750e-01  -1.452e-01  ***\n",
      "SEX               1.500e-01  1.162e+00 5.471e-03  2.742e+01 1.634e-165   1.393e-01   1.607e-01  ***\n",
      "HAVE_INS         -2.556e-01  7.745e-01 8.194e-03 -3.119e+01 1.457e-213  -2.716e-01  -2.395e-01  ***\n",
      "HAVE_DEP         -2.097e-01  8.108e-01 1.041e-02 -2.014e+01  3.065e-90  -2.301e-01  -1.893e-01  ***\n",
      "DEPTCNT1         -2.809e-01  7.551e-01 8.538e-03 -3.290e+01 2.255e-237  -2.976e-01  -2.642e-01  ***\n",
      "EXTFUNC_CNT       7.143e-02  1.074e+00 4.975e-03  1.436e+01  9.694e-47   6.167e-02   8.118e-02  ***\n",
      "FUNC_CNT         -1.275e-01  8.803e-01 7.294e-03 -1.748e+01  2.209e-68  -1.418e-01  -1.132e-01  ***\n",
      "REMOTE           -1.132e-01  8.930e-01 1.000e-02 -1.131e+01  1.117e-29  -1.328e-01  -9.356e-02  ***\n",
      "DIRECT_RPT_CNT    1.706e-01  1.186e+00 3.654e-03  4.669e+01  0.000e+00   1.635e-01   1.778e-01  ***\n",
      "HUBIND           -6.743e-02  9.348e-01 6.063e-03 -1.112e+01  9.906e-29  -7.932e-02  -5.554e-02  ***\n",
      "REH_CNT          -2.321e-01  7.929e-01 5.726e-03 -4.054e+01  0.000e+00  -2.433e-01  -2.209e-01  ***\n",
      "JOB_FUNCTION_PSA -7.074e-02  9.317e-01 6.011e-03 -1.177e+01  5.629e-32  -8.253e-02  -5.896e-02  ***\n",
      "---\n",
      "Signif. codes:  0 '***' 0.001 '**' 0.01 '*' 0.05 '.' 0.1 ' ' 1 \n",
      "\n",
      "Concordance = 0.889\n"
     ]
    }
   ],
   "source": [
    "sep_cox_march.print_summary()"
   ]
  },
  {
   "cell_type": "code",
   "execution_count": 202,
   "metadata": {
    "collapsed": false
   },
   "outputs": [
    {
     "name": "stdout",
     "output_type": "stream",
     "text": [
      "(69475, 18)\n",
      "61.5797399042\n"
     ]
    }
   ],
   "source": [
    "hr_march_sep_surv = forecast_survival_function(sep_cox_march, curr[march_columns], time_range=[0, 1, 2, 3, 4, 5])"
   ]
  },
  {
   "cell_type": "code",
   "execution_count": 209,
   "metadata": {
    "collapsed": false
   },
   "outputs": [
    {
     "data": {
      "text/plain": [
       "63"
      ]
     },
     "execution_count": 209,
     "metadata": {},
     "output_type": "execute_result"
    }
   ],
   "source": [
    "(1-hr_march_sep_surv['surv'].loc[idx,'t_1']>=0.5).astype(int).sum()"
   ]
  },
  {
   "cell_type": "markdown",
   "metadata": {},
   "source": [
    "#### Try to eliminate 'SEX' and 'HUBIND'"
   ]
  },
  {
   "cell_type": "code",
   "execution_count": 203,
   "metadata": {
    "collapsed": false
   },
   "outputs": [
    {
     "name": "stdout",
     "output_type": "stream",
     "text": [
      "n=95319, number of events=39641\n",
      "\n",
      "                       coef  exp(coef)  se(coef)          z          p  lower 0.95  upper 0.95     \n",
      "Age_years        -9.384e-01  3.913e-01 9.132e-03 -1.028e+02  0.000e+00  -9.563e-01  -9.205e-01  ***\n",
      "SAL1             -7.551e-01  4.700e-01 1.188e-02 -6.355e+01  0.000e+00  -7.784e-01  -7.318e-01  ***\n",
      "MERIT1            1.095e-01  1.116e+00 8.874e-03  1.233e+01  5.946e-35   9.206e-02   1.269e-01  ***\n",
      "PERF1            -1.033e+00  3.560e-01 1.716e-02 -6.021e+01  0.000e+00  -1.067e+00  -9.993e-01  ***\n",
      "BOX1             -1.657e-01  8.473e-01 7.580e-03 -2.187e+01 5.536e-106  -1.806e-01  -1.509e-01  ***\n",
      "HAVE_INS         -2.570e-01  7.734e-01 8.112e-03 -3.169e+01 2.474e-220  -2.729e-01  -2.411e-01  ***\n",
      "HAVE_DEP         -2.117e-01  8.092e-01 1.040e-02 -2.035e+01  4.342e-92  -2.321e-01  -1.913e-01  ***\n",
      "DEPTCNT1         -2.898e-01  7.484e-01 8.519e-03 -3.401e+01 1.466e-253  -3.065e-01  -2.731e-01  ***\n",
      "EXTFUNC_CNT       7.651e-02  1.080e+00 4.923e-03  1.554e+01  1.823e-54   6.686e-02   8.616e-02  ***\n",
      "FUNC_CNT         -1.194e-01  8.875e-01 7.248e-03 -1.647e+01  5.980e-61  -1.336e-01  -1.052e-01  ***\n",
      "REMOTE           -8.392e-02  9.195e-01 9.919e-03 -8.460e+00  2.671e-17  -1.034e-01  -6.447e-02  ***\n",
      "DIRECT_RPT_CNT    1.649e-01  1.179e+00 3.638e-03  4.533e+01  0.000e+00   1.578e-01   1.721e-01  ***\n",
      "REH_CNT          -2.249e-01  7.986e-01 5.701e-03 -3.945e+01  0.000e+00  -2.360e-01  -2.137e-01  ***\n",
      "JOB_FUNCTION_PSA -7.979e-02  9.233e-01 5.967e-03 -1.337e+01  8.891e-41  -9.149e-02  -6.809e-02  ***\n",
      "---\n",
      "Signif. codes:  0 '***' 0.001 '**' 0.01 '*' 0.05 '.' 0.1 ' ' 1 \n",
      "\n",
      "Concordance = 0.889\n"
     ]
    }
   ],
   "source": [
    "sep_cf_mar_less = ll.CoxPHFitter()\n",
    "#march_columns = [a for a in previous_features_used]\n",
    "#march_columns.append('Tenure_years')\n",
    "#march_columns.append('status')\n",
    "mar_less_cols = [a for a in march_columnsumns]\n",
    "mar_less_cols.remove('HUBIND')\n",
    "mar_less_cols.remove('SEX')\n",
    "\n",
    "sep_cf_mar_less.fit(ne2b[mar_less_cols],'Tenure_years','status')\n",
    "sep_cf_mar_less.print_summary()\n"
   ]
  },
  {
   "cell_type": "code",
   "execution_count": 331,
   "metadata": {
    "collapsed": false
   },
   "outputs": [
    {
     "data": {
      "text/html": [
       "<div>\n",
       "<table border=\"1\" class=\"dataframe\">\n",
       "  <thead>\n",
       "    <tr style=\"text-align: right;\">\n",
       "      <th></th>\n",
       "      <th>coef</th>\n",
       "    </tr>\n",
       "  </thead>\n",
       "  <tbody>\n",
       "    <tr>\n",
       "      <th>Age_years</th>\n",
       "      <td>-0.938373</td>\n",
       "    </tr>\n",
       "    <tr>\n",
       "      <th>SAL1</th>\n",
       "      <td>-0.755070</td>\n",
       "    </tr>\n",
       "    <tr>\n",
       "      <th>MERIT1</th>\n",
       "      <td>0.109458</td>\n",
       "    </tr>\n",
       "    <tr>\n",
       "      <th>PERF1</th>\n",
       "      <td>-1.032931</td>\n",
       "    </tr>\n",
       "    <tr>\n",
       "      <th>BOX1</th>\n",
       "      <td>-0.165742</td>\n",
       "    </tr>\n",
       "    <tr>\n",
       "      <th>HAVE_INS</th>\n",
       "      <td>-0.257020</td>\n",
       "    </tr>\n",
       "    <tr>\n",
       "      <th>HAVE_DEP</th>\n",
       "      <td>-0.211719</td>\n",
       "    </tr>\n",
       "    <tr>\n",
       "      <th>DEPTCNT1</th>\n",
       "      <td>-0.289761</td>\n",
       "    </tr>\n",
       "    <tr>\n",
       "      <th>EXTFUNC_CNT</th>\n",
       "      <td>0.076511</td>\n",
       "    </tr>\n",
       "    <tr>\n",
       "      <th>FUNC_CNT</th>\n",
       "      <td>-0.119384</td>\n",
       "    </tr>\n",
       "    <tr>\n",
       "      <th>REMOTE</th>\n",
       "      <td>-0.083919</td>\n",
       "    </tr>\n",
       "    <tr>\n",
       "      <th>DIRECT_RPT_CNT</th>\n",
       "      <td>0.164922</td>\n",
       "    </tr>\n",
       "    <tr>\n",
       "      <th>REH_CNT</th>\n",
       "      <td>-0.224867</td>\n",
       "    </tr>\n",
       "    <tr>\n",
       "      <th>JOB_FUNCTION_PSA</th>\n",
       "      <td>-0.079791</td>\n",
       "    </tr>\n",
       "  </tbody>\n",
       "</table>\n",
       "</div>"
      ],
      "text/plain": [
       "                      coef\n",
       "Age_years        -0.938373\n",
       "SAL1             -0.755070\n",
       "MERIT1            0.109458\n",
       "PERF1            -1.032931\n",
       "BOX1             -0.165742\n",
       "HAVE_INS         -0.257020\n",
       "HAVE_DEP         -0.211719\n",
       "DEPTCNT1         -0.289761\n",
       "EXTFUNC_CNT       0.076511\n",
       "FUNC_CNT         -0.119384\n",
       "REMOTE           -0.083919\n",
       "DIRECT_RPT_CNT    0.164922\n",
       "REH_CNT          -0.224867\n",
       "JOB_FUNCTION_PSA -0.079791"
      ]
     },
     "execution_count": 331,
     "metadata": {},
     "output_type": "execute_result"
    }
   ],
   "source": [
    "sep_cf_mar_less.hazards_.T"
   ]
  },
  {
   "cell_type": "code",
   "execution_count": 267,
   "metadata": {
    "collapsed": true
   },
   "outputs": [],
   "source": [
    "pickle.dump( sep_cf_mar_less, open( \"separation_coxph_min_vars.pkl\", \"wb\" ) )"
   ]
  },
  {
   "cell_type": "code",
   "execution_count": 210,
   "metadata": {
    "collapsed": false
   },
   "outputs": [
    {
     "name": "stdout",
     "output_type": "stream",
     "text": [
      "(69475, 16)\n",
      "61.5797399042\n"
     ]
    }
   ],
   "source": [
    "hr_mar_less_sep_surv = forecast_survival_function(sep_cf_mar_less, curr[mar_less_cols], time_range=[0, 1, 2, 3, 4, 5])"
   ]
  },
  {
   "cell_type": "code",
   "execution_count": 270,
   "metadata": {
    "collapsed": false
   },
   "outputs": [
    {
     "data": {
      "text/plain": [
       "79"
      ]
     },
     "execution_count": 270,
     "metadata": {},
     "output_type": "execute_result"
    }
   ],
   "source": [
    "(1-hr_mar_less_sep_surv['surv'].loc[idx,'t_1']>=0.5).astype(int).sum()"
   ]
  },
  {
   "cell_type": "markdown",
   "metadata": {},
   "source": [
    "## calculate the number that are predicted to retire in time frame"
   ]
  },
  {
   "cell_type": "code",
   "execution_count": 273,
   "metadata": {
    "collapsed": true
   },
   "outputs": [],
   "source": [
    "def convert_surv_to_prob(surv_pred, pred_type, keyed_df):\n",
    "    prob = {}\n",
    "\n",
    "    for item in surv_pred.items:\n",
    "        if item == 'lbci':\n",
    "            prob['ubcip'] = pd.concat([keyed_df, 1 - surv_pred[item]], axis=1)\n",
    "            prob['ubcip'].fillna(0, inplace=True)\n",
    "        elif item == 'ubci':\n",
    "            prob['lbcip'] = pd.concat([keyed_df, 1 - surv_pred[item]], axis=1)\n",
    "            prob['lbcip'].fillna(0, inplace=True)\n",
    "        else:\n",
    "            prob['surv'] = pd.concat([keyed_df, 1 - surv_pred[item]], axis=1)\n",
    "            prob['surv'].fillna(0, inplace=True)\n",
    "\n",
    "    # now check that lengths match\n",
    "    # if len(surv_pred['surv'])!=len(keyed_df):\n",
    "    #    for item in surv_pred.items:\n",
    "    #        prob[item]\n",
    "    #timepoint_cols = surv_pred.minor_axis.tolist()\n",
    "    if pred_type == 'ret':\n",
    "        rep_string = 'ret_prob'\n",
    "    elif pred_type == 'sep':\n",
    "        rep_string = 'sep_prob'\n",
    "\n",
    "    probabilities = pd.Panel.from_dict(prob)\n",
    "    probabilities.minor_axis = [a.replace('t', rep_string) for a in probabilities.minor_axis.tolist()]\n",
    "\n",
    "    return probabilities\n",
    "\n",
    "def reduce_to_sums(prob, thresh=0.5):\n",
    "    my_counts = {}\n",
    "    prob_cols = prob['surv'].columns.tolist()[1:]\n",
    "    for item in prob.items:\n",
    "        my_counts[item] = (prob[item][prob_cols] >= thresh).astype(int).sum(axis=0)\n",
    "\n",
    "    df_counts = pd.DataFrame.from_dict(my_counts)\n",
    "    return df_counts"
   ]
  },
  {
   "cell_type": "code",
   "execution_count": 272,
   "metadata": {
    "collapsed": false
   },
   "outputs": [],
   "source": [
    "hr_mar_less_prob = convert_surv_to_prob(hr_mar_less_sep_surv, 'sep', pd.DataFrame(curr.KEY))"
   ]
  },
  {
   "cell_type": "code",
   "execution_count": 274,
   "metadata": {
    "collapsed": true
   },
   "outputs": [],
   "source": [
    "mar_less_sep_counts = reduce_to_sums(hr_mar_less_prob)"
   ]
  },
  {
   "cell_type": "markdown",
   "metadata": {},
   "source": [
    "## Compare to the existing model in comparison to the known out of time samples for 2015 \n",
    "(based upon the original March 2016 model I gave them; thus it included 'SEX' and 'HUBIND'\n",
    "#### Looking at specific groups where there is typically high turnover"
   ]
  },
  {
   "cell_type": "code",
   "execution_count": 212,
   "metadata": {
    "collapsed": true
   },
   "outputs": [],
   "source": [
    "summary2015_group_data = pd.DataFrame(columns = ['GROUP','grp_id','GROUP_TYPE','GroupCount','sep2015','HR1yrsep','SR1yrsep','1yrLB','1yrUB'],\n",
    "                            data = [['CCC_Service',71,'EXT FUNC',1823,466,210,710,646,770],\n",
    "['BANK',517,'EXT FUNC',1507,100,94,135,114,157],\n",
    "['L/H RC',816,'EXT FUNC',376,88,32,71,56,85],\n",
    "['CCC SALES',892,'EXT FUNC',1636,391,198,524,463,573],\n",
    "['EXPRESS',909,'EXT FUNC',2587,506,252,63,51,73],\n",
    "['ILR',910,'EXT FUNC',2462,855,326,472,420,520],\n",
    "['BANK SERVICE REP',[851,852,853],'JOBCODE',188,27,18,32,7,6],\n",
    "['CLM ASSOC EXPRESS',[983,984],'JOBCODE',2039,483,229,6,5,6],\n",
    "['CLM TEAM MGR ILR',[986],'JOBCODE',209,4,7,5,5,5],\n",
    "['CLM ASSOC ILR',[1009],'JOBCODE',2012,834,306,460,409,506],\n",
    "['CCC SALES REP',[1876],'JOBCODE',1474,379,190,513,53,561],\n",
    "['LIFE SERVICE REP',[2638,2639,2641],'JOBCODE',636,106,42,125,107,147],\n",
    "['SFPP A/C REP',[4105],'JOBCODE',234,51,36,110,96,124],\n",
    "['CCC SERVICE REP',[6200],'JOBCODE',1472,433,189,648,590,703],\n",
    "['ALL',0,'ALL', 69476, 5234, 3048, 4579,4093,5042]]\n",
    ")"
   ]
  },
  {
   "cell_type": "code",
   "execution_count": 213,
   "metadata": {
    "collapsed": false
   },
   "outputs": [
    {
     "data": {
      "text/html": [
       "<div>\n",
       "<table border=\"1\" class=\"dataframe\">\n",
       "  <thead>\n",
       "    <tr style=\"text-align: right;\">\n",
       "      <th></th>\n",
       "      <th>GROUP</th>\n",
       "      <th>grp_id</th>\n",
       "      <th>GROUP_TYPE</th>\n",
       "      <th>GroupCount</th>\n",
       "      <th>sep2015</th>\n",
       "      <th>HR1yrsep</th>\n",
       "      <th>SR1yrsep</th>\n",
       "      <th>1yrLB</th>\n",
       "      <th>1yrUB</th>\n",
       "    </tr>\n",
       "  </thead>\n",
       "  <tbody>\n",
       "    <tr>\n",
       "      <th>0</th>\n",
       "      <td>CCC_Service</td>\n",
       "      <td>71</td>\n",
       "      <td>EXT FUNC</td>\n",
       "      <td>1823</td>\n",
       "      <td>466</td>\n",
       "      <td>210</td>\n",
       "      <td>710</td>\n",
       "      <td>646</td>\n",
       "      <td>770</td>\n",
       "    </tr>\n",
       "    <tr>\n",
       "      <th>1</th>\n",
       "      <td>BANK</td>\n",
       "      <td>517</td>\n",
       "      <td>EXT FUNC</td>\n",
       "      <td>1507</td>\n",
       "      <td>100</td>\n",
       "      <td>94</td>\n",
       "      <td>135</td>\n",
       "      <td>114</td>\n",
       "      <td>157</td>\n",
       "    </tr>\n",
       "    <tr>\n",
       "      <th>2</th>\n",
       "      <td>L/H RC</td>\n",
       "      <td>816</td>\n",
       "      <td>EXT FUNC</td>\n",
       "      <td>376</td>\n",
       "      <td>88</td>\n",
       "      <td>32</td>\n",
       "      <td>71</td>\n",
       "      <td>56</td>\n",
       "      <td>85</td>\n",
       "    </tr>\n",
       "    <tr>\n",
       "      <th>3</th>\n",
       "      <td>CCC SALES</td>\n",
       "      <td>892</td>\n",
       "      <td>EXT FUNC</td>\n",
       "      <td>1636</td>\n",
       "      <td>391</td>\n",
       "      <td>198</td>\n",
       "      <td>524</td>\n",
       "      <td>463</td>\n",
       "      <td>573</td>\n",
       "    </tr>\n",
       "    <tr>\n",
       "      <th>4</th>\n",
       "      <td>EXPRESS</td>\n",
       "      <td>909</td>\n",
       "      <td>EXT FUNC</td>\n",
       "      <td>2587</td>\n",
       "      <td>506</td>\n",
       "      <td>252</td>\n",
       "      <td>63</td>\n",
       "      <td>51</td>\n",
       "      <td>73</td>\n",
       "    </tr>\n",
       "    <tr>\n",
       "      <th>5</th>\n",
       "      <td>ILR</td>\n",
       "      <td>910</td>\n",
       "      <td>EXT FUNC</td>\n",
       "      <td>2462</td>\n",
       "      <td>855</td>\n",
       "      <td>326</td>\n",
       "      <td>472</td>\n",
       "      <td>420</td>\n",
       "      <td>520</td>\n",
       "    </tr>\n",
       "    <tr>\n",
       "      <th>6</th>\n",
       "      <td>BANK SERVICE REP</td>\n",
       "      <td>[851, 852, 853]</td>\n",
       "      <td>JOBCODE</td>\n",
       "      <td>188</td>\n",
       "      <td>27</td>\n",
       "      <td>18</td>\n",
       "      <td>32</td>\n",
       "      <td>7</td>\n",
       "      <td>6</td>\n",
       "    </tr>\n",
       "    <tr>\n",
       "      <th>7</th>\n",
       "      <td>CLM ASSOC EXPRESS</td>\n",
       "      <td>[983, 984]</td>\n",
       "      <td>JOBCODE</td>\n",
       "      <td>2039</td>\n",
       "      <td>483</td>\n",
       "      <td>229</td>\n",
       "      <td>6</td>\n",
       "      <td>5</td>\n",
       "      <td>6</td>\n",
       "    </tr>\n",
       "    <tr>\n",
       "      <th>8</th>\n",
       "      <td>CLM TEAM MGR ILR</td>\n",
       "      <td>[986]</td>\n",
       "      <td>JOBCODE</td>\n",
       "      <td>209</td>\n",
       "      <td>4</td>\n",
       "      <td>7</td>\n",
       "      <td>5</td>\n",
       "      <td>5</td>\n",
       "      <td>5</td>\n",
       "    </tr>\n",
       "    <tr>\n",
       "      <th>9</th>\n",
       "      <td>CLM ASSOC ILR</td>\n",
       "      <td>[1009]</td>\n",
       "      <td>JOBCODE</td>\n",
       "      <td>2012</td>\n",
       "      <td>834</td>\n",
       "      <td>306</td>\n",
       "      <td>460</td>\n",
       "      <td>409</td>\n",
       "      <td>506</td>\n",
       "    </tr>\n",
       "    <tr>\n",
       "      <th>10</th>\n",
       "      <td>CCC SALES REP</td>\n",
       "      <td>[1876]</td>\n",
       "      <td>JOBCODE</td>\n",
       "      <td>1474</td>\n",
       "      <td>379</td>\n",
       "      <td>190</td>\n",
       "      <td>513</td>\n",
       "      <td>53</td>\n",
       "      <td>561</td>\n",
       "    </tr>\n",
       "    <tr>\n",
       "      <th>11</th>\n",
       "      <td>LIFE SERVICE REP</td>\n",
       "      <td>[2638, 2639, 2641]</td>\n",
       "      <td>JOBCODE</td>\n",
       "      <td>636</td>\n",
       "      <td>106</td>\n",
       "      <td>42</td>\n",
       "      <td>125</td>\n",
       "      <td>107</td>\n",
       "      <td>147</td>\n",
       "    </tr>\n",
       "    <tr>\n",
       "      <th>12</th>\n",
       "      <td>SFPP A/C REP</td>\n",
       "      <td>[4105]</td>\n",
       "      <td>JOBCODE</td>\n",
       "      <td>234</td>\n",
       "      <td>51</td>\n",
       "      <td>36</td>\n",
       "      <td>110</td>\n",
       "      <td>96</td>\n",
       "      <td>124</td>\n",
       "    </tr>\n",
       "    <tr>\n",
       "      <th>13</th>\n",
       "      <td>CCC SERVICE REP</td>\n",
       "      <td>[6200]</td>\n",
       "      <td>JOBCODE</td>\n",
       "      <td>1472</td>\n",
       "      <td>433</td>\n",
       "      <td>189</td>\n",
       "      <td>648</td>\n",
       "      <td>590</td>\n",
       "      <td>703</td>\n",
       "    </tr>\n",
       "    <tr>\n",
       "      <th>14</th>\n",
       "      <td>ALL</td>\n",
       "      <td>0</td>\n",
       "      <td>ALL</td>\n",
       "      <td>69476</td>\n",
       "      <td>5234</td>\n",
       "      <td>3048</td>\n",
       "      <td>4579</td>\n",
       "      <td>4093</td>\n",
       "      <td>5042</td>\n",
       "    </tr>\n",
       "  </tbody>\n",
       "</table>\n",
       "</div>"
      ],
      "text/plain": [
       "                GROUP              grp_id GROUP_TYPE  GroupCount  sep2015  \\\n",
       "0         CCC_Service                  71   EXT FUNC        1823      466   \n",
       "1                BANK                 517   EXT FUNC        1507      100   \n",
       "2              L/H RC                 816   EXT FUNC         376       88   \n",
       "3           CCC SALES                 892   EXT FUNC        1636      391   \n",
       "4             EXPRESS                 909   EXT FUNC        2587      506   \n",
       "5                 ILR                 910   EXT FUNC        2462      855   \n",
       "6    BANK SERVICE REP     [851, 852, 853]    JOBCODE         188       27   \n",
       "7   CLM ASSOC EXPRESS          [983, 984]    JOBCODE        2039      483   \n",
       "8    CLM TEAM MGR ILR               [986]    JOBCODE         209        4   \n",
       "9       CLM ASSOC ILR              [1009]    JOBCODE        2012      834   \n",
       "10      CCC SALES REP              [1876]    JOBCODE        1474      379   \n",
       "11   LIFE SERVICE REP  [2638, 2639, 2641]    JOBCODE         636      106   \n",
       "12       SFPP A/C REP              [4105]    JOBCODE         234       51   \n",
       "13    CCC SERVICE REP              [6200]    JOBCODE        1472      433   \n",
       "14                ALL                   0        ALL       69476     5234   \n",
       "\n",
       "    HR1yrsep  SR1yrsep  1yrLB  1yrUB  \n",
       "0        210       710    646    770  \n",
       "1         94       135    114    157  \n",
       "2         32        71     56     85  \n",
       "3        198       524    463    573  \n",
       "4        252        63     51     73  \n",
       "5        326       472    420    520  \n",
       "6         18        32      7      6  \n",
       "7        229         6      5      6  \n",
       "8          7         5      5      5  \n",
       "9        306       460    409    506  \n",
       "10       190       513     53    561  \n",
       "11        42       125    107    147  \n",
       "12        36       110     96    124  \n",
       "13       189       648    590    703  \n",
       "14      3048      4579   4093   5042  "
      ]
     },
     "execution_count": 213,
     "metadata": {},
     "output_type": "execute_result"
    }
   ],
   "source": [
    "summary2015_group_data"
   ]
  },
  {
   "cell_type": "code",
   "execution_count": 332,
   "metadata": {
    "collapsed": true
   },
   "outputs": [],
   "source": [
    "summary2015_group_data.to_csv('sep_surv_1yr_holdout_comparison.csv',index=False)"
   ]
  },
  {
   "cell_type": "code",
   "execution_count": 215,
   "metadata": {
    "collapsed": false
   },
   "outputs": [
    {
     "data": {
      "text/plain": [
       "<matplotlib.legend.Legend at 0x7fd42fdf0dd0>"
      ]
     },
     "execution_count": 215,
     "metadata": {},
     "output_type": "execute_result"
    },
    {
     "data": {
      "image/png": "[encoded data removed]",
      "text/plain": [
       "<matplotlib.figure.Figure at 0x7fd42fdde5d0>"
      ]
     },
     "metadata": {},
     "output_type": "display_data"
    }
   ],
   "source": [
    "x = np.arange(0,950,1)\n",
    "#plt.plot(x,x,c='k')\n",
    "sns.regplot(x='sep2015',y='HR1yrsep',data=summary2015_group_data.iloc[:-1],label='old_model')\n",
    "\n",
    "sns.regplot(x='sep2015',y='SR1yrsep',data=summary2015_group_data.iloc[:-1],label='SR_model')\n",
    "plt.legend()"
   ]
  },
  {
   "cell_type": "markdown",
   "metadata": {},
   "source": [
    "### Define these interesting job cases"
   ]
  },
  {
   "cell_type": "code",
   "execution_count": 276,
   "metadata": {
    "collapsed": true
   },
   "outputs": [],
   "source": [
    "#interesting_extended_functions = [892,71, 816, 909,910,517,835]\n",
    "extFuncDict ={}\n",
    "extFuncDict[892]='CCC Sales'\n",
    "extFuncDict[71]='CCC Service'\n",
    "extFuncDict[816]='Life Health Response Center'\n",
    "#(00816)\n",
    "extFuncDict[909]='Enterprise Auto Express'\n",
    "extFuncDict[910]='Enterprise ILR' \n",
    "extFuncDict[517]='State Farm Bank'\n",
    "extFuncDict[835]='SFPP'\n",
    "interesting_extended_functions = extFuncDict.keys()\n",
    "\n",
    "jobCodeDict = {}\n",
    "jobCodeDict[6200]= 'CCC Service Rep'\n",
    "jobCodeDict[1876]= 'CCC Sales Rep'\n",
    "jobCodeDict[1009]='CLaim Associate-ILR'\n",
    "jobCodeDict[986]='CLaim Team Manager-ILR'\n",
    "jobCodeDict[983]='Claim Associate-Express'\n",
    "jobCodeDict[984]='Claim Associate-Express'\n",
    "jobCodeDict[2638]='Life Customer Service Asst'\n",
    "jobCodeDict[2639]='Life Customer Service Asst'\n",
    "jobCodeDict[2641]='Life Customer Service Asst'\n",
    "jobCodeDict[4105]= 'SFPP Account Rep'\n",
    "jobCodeDict[851]= 'Bank Customer Service Rep'\n",
    "jobCodeDict[852]= 'Bank Customer Service Rep'\n",
    "jobCodeDict[853]= 'Bank Customer Service Rep'\n",
    "interesting_jobcodes =  jobCodeDict.keys()\n",
    "\n"
   ]
  },
  {
   "cell_type": "code",
   "execution_count": 277,
   "metadata": {
    "collapsed": false
   },
   "outputs": [
    {
     "data": {
      "text/html": [
       "<div>\n",
       "<table border=\"1\" class=\"dataframe\">\n",
       "  <thead>\n",
       "    <tr style=\"text-align: right;\">\n",
       "      <th></th>\n",
       "      <th>lbcip</th>\n",
       "      <th>surv</th>\n",
       "      <th>ubcip</th>\n",
       "    </tr>\n",
       "  </thead>\n",
       "  <tbody>\n",
       "    <tr>\n",
       "      <th>sep_prob_0</th>\n",
       "      <td>1843</td>\n",
       "      <td>2091</td>\n",
       "      <td>2374</td>\n",
       "    </tr>\n",
       "    <tr>\n",
       "      <th>sep_prob_1</th>\n",
       "      <td>3952</td>\n",
       "      <td>4450</td>\n",
       "      <td>4990</td>\n",
       "    </tr>\n",
       "    <tr>\n",
       "      <th>sep_prob_2</th>\n",
       "      <td>6173</td>\n",
       "      <td>6738</td>\n",
       "      <td>7306</td>\n",
       "    </tr>\n",
       "    <tr>\n",
       "      <th>sep_prob_3</th>\n",
       "      <td>8291</td>\n",
       "      <td>8844</td>\n",
       "      <td>9367</td>\n",
       "    </tr>\n",
       "    <tr>\n",
       "      <th>sep_prob_4</th>\n",
       "      <td>10278</td>\n",
       "      <td>10782</td>\n",
       "      <td>11316</td>\n",
       "    </tr>\n",
       "    <tr>\n",
       "      <th>sep_prob_5</th>\n",
       "      <td>12217</td>\n",
       "      <td>12693</td>\n",
       "      <td>13235</td>\n",
       "    </tr>\n",
       "  </tbody>\n",
       "</table>\n",
       "</div>"
      ],
      "text/plain": [
       "            lbcip   surv  ubcip\n",
       "sep_prob_0   1843   2091   2374\n",
       "sep_prob_1   3952   4450   4990\n",
       "sep_prob_2   6173   6738   7306\n",
       "sep_prob_3   8291   8844   9367\n",
       "sep_prob_4  10278  10782  11316\n",
       "sep_prob_5  12217  12693  13235"
      ]
     },
     "execution_count": 277,
     "metadata": {},
     "output_type": "execute_result"
    }
   ],
   "source": [
    "mar_less_sep_counts"
   ]
  },
  {
   "cell_type": "markdown",
   "metadata": {},
   "source": [
    "## get the 1 year predictions for each subgroup"
   ]
  },
  {
   "cell_type": "code",
   "execution_count": null,
   "metadata": {
    "collapsed": true
   },
   "outputs": [],
   "source": [
    "mar_less_sep_counts = reduce_to_sums(hr_mar_less_prob)"
   ]
  },
  {
   "cell_type": "code",
   "execution_count": 314,
   "metadata": {
    "collapsed": false
   },
   "outputs": [],
   "source": [
    "def get_subgroup_pred(prob, df, gpfeature, gpvalue, gptype='straight', time_point=1, verbose=False,\n",
    "                      panel_frames = ['surv','lbcip','ubcip'], my_thresh=0.5):\n",
    "    if gptype=='straight':\n",
    "        subset = df[df[gpfeature]==gpvalue].index\n",
    "    elif gptype == 'isin':\n",
    "        subset = df[df[gpfeature].isin(gpvalue)].index\n",
    "    nmembers = len(subset)\n",
    "    print(\"Group {0} has {1} members\".format(gpvalue,nmembers))\n",
    "    subgroup_counts = []\n",
    "        \n",
    "    for panel in panel_frames:\n",
    "        counts = (prob[panel].loc[subset]>=my_thresh).astype(int).sum()\n",
    "        subgroup_counts.append(counts[time_point+1])\n",
    "        if verbose:\n",
    "            print (\"____________ {0}\\n\".format(panel))\n",
    "            print(counts)\n",
    "        \n",
    "        \n",
    "    return subgroup_counts\n",
    "        "
   ]
  },
  {
   "cell_type": "code",
   "execution_count": 309,
   "metadata": {
    "collapsed": false
   },
   "outputs": [
    {
     "data": {
      "text/plain": [
       "KEY           2587\n",
       "sep_prob_0      19\n",
       "sep_prob_1      79\n",
       "sep_prob_2     239\n",
       "sep_prob_3     466\n",
       "sep_prob_4     681\n",
       "sep_prob_5     876\n",
       "dtype: int64"
      ]
     },
     "execution_count": 309,
     "metadata": {},
     "output_type": "execute_result"
    }
   ],
   "source": [
    "(hr_mar_less_prob['surv'].loc[idx]>=0.5).astype(int).sum()"
   ]
  },
  {
   "cell_type": "code",
   "execution_count": 312,
   "metadata": {
    "collapsed": false
   },
   "outputs": [
    {
     "name": "stdout",
     "output_type": "stream",
     "text": [
      "Group 909 has 2587 members\n",
      "____________ surv\n",
      "\n",
      "KEY           2587\n",
      "sep_prob_0      19\n",
      "sep_prob_1      79\n",
      "sep_prob_2     239\n",
      "sep_prob_3     466\n",
      "sep_prob_4     681\n",
      "sep_prob_5     876\n",
      "dtype: int64\n",
      "____________ lbcip\n",
      "\n",
      "KEY           2587\n",
      "sep_prob_0      18\n",
      "sep_prob_1      58\n",
      "sep_prob_2     198\n",
      "sep_prob_3     423\n",
      "sep_prob_4     636\n",
      "sep_prob_5     843\n",
      "dtype: int64\n",
      "____________ ubcip\n",
      "\n",
      "KEY           2587\n",
      "sep_prob_0      21\n",
      "sep_prob_1     110\n",
      "sep_prob_2     297\n",
      "sep_prob_3     514\n",
      "sep_prob_4     734\n",
      "sep_prob_5     920\n",
      "dtype: int64\n"
     ]
    },
    {
     "data": {
      "text/plain": [
       "[79, 58, 110]"
      ]
     },
     "execution_count": 312,
     "metadata": {},
     "output_type": "execute_result"
    }
   ],
   "source": [
    "get_subgroup_pred(hr_mar_less_prob,curr,'EXT_FUNC_ID_SFI',909)"
   ]
  },
  {
   "cell_type": "markdown",
   "metadata": {},
   "source": [
    "## now loop over the different subgroups I care about"
   ]
  },
  {
   "cell_type": "code",
   "execution_count": 317,
   "metadata": {
    "collapsed": false
   },
   "outputs": [
    {
     "name": "stdout",
     "output_type": "stream",
     "text": [
      "Group 835 has 783 members\n",
      "Group 517 has 1507 members\n",
      "Group 71 has 1823 members\n",
      "Group 909 has 2587 members\n",
      "Group 910 has 2462 members\n",
      "Group 816 has 376 members\n",
      "Group 892 has 1636 members\n"
     ]
    }
   ],
   "source": [
    "exfc_counts = {}\n",
    "for key in extFuncDict.keys():\n",
    "    exfc_counts[extFuncDict[key]]    = get_subgroup_pred(hr_mar_less_prob,curr,'EXT_FUNC_ID_SFI',key)"
   ]
  },
  {
   "cell_type": "code",
   "execution_count": 318,
   "metadata": {
    "collapsed": false
   },
   "outputs": [
    {
     "data": {
      "text/plain": [
       "{'CCC Sales': [549, 470, 615],\n",
       " 'CCC Service': [753, 668, 831],\n",
       " 'Enterprise Auto Express': [79, 58, 110],\n",
       " 'Enterprise ILR': [534, 458, 610],\n",
       " 'Life Health Response Center': [69, 55, 80],\n",
       " 'SFPP': [166, 145, 190],\n",
       " 'State Farm Bank': [140, 118, 159]}"
      ]
     },
     "execution_count": 318,
     "metadata": {},
     "output_type": "execute_result"
    }
   ],
   "source": [
    "exfc_counts"
   ]
  },
  {
   "cell_type": "code",
   "execution_count": 321,
   "metadata": {
    "collapsed": false
   },
   "outputs": [
    {
     "data": {
      "text/plain": [
       "{851: 'Bank Customer Service Rep',\n",
       " 852: 'Bank Customer Service Rep',\n",
       " 853: 'Bank Customer Service Rep',\n",
       " 983: 'Claim Associate-Express',\n",
       " 984: 'Claim Associate-Express',\n",
       " 986: 'CLaim Team Manager-ILR',\n",
       " 1009: 'CLaim Associate-ILR',\n",
       " 1876: 'CCC Sales Rep',\n",
       " 2638: 'Life Customer Service Asst',\n",
       " 2639: 'Life Customer Service Asst',\n",
       " 2641: 'Life Customer Service Asst',\n",
       " 4105: 'SFPP Account Rep',\n",
       " 6200: 'CCC Service Rep'}"
      ]
     },
     "execution_count": 321,
     "metadata": {},
     "output_type": "execute_result"
    }
   ],
   "source": []
  },
  {
   "cell_type": "code",
   "execution_count": 325,
   "metadata": {
    "collapsed": true
   },
   "outputs": [],
   "source": [
    "invJobCodeDict = {}\n",
    "invJobCodeDict['Bank Service Rep']=[851,852,853]\n",
    "invJobCodeDict['Claim Assoc Express']=[983,984]\n",
    "invJobCodeDict['Claim Team MGR ILR']=[986]\n",
    "invJobCodeDict['Claim Assoc ILR']=[1009]\n",
    "invJobCodeDict['CCC Sales Rep']=[1876]\n",
    "invJobCodeDict['Life Service Rep']=[2638,2639,2641]\n",
    "invJobCodeDict['SFPP Acct Rep']=[4105]\n",
    "invJobCodeDict['CCC Service Rep']=[6200]\n"
   ]
  },
  {
   "cell_type": "code",
   "execution_count": 327,
   "metadata": {
    "collapsed": false
   },
   "outputs": [
    {
     "data": {
      "text/plain": [
       "['Bank Service Rep',\n",
       " 'Claim Assoc Express',\n",
       " 'CCC Sales Rep',\n",
       " 'CCC Service Rep',\n",
       " 'SFPP Acct Rep',\n",
       " 'Claim Team MGR ILR',\n",
       " 'Claim Assoc ILR',\n",
       " 'Life Service Rep']"
      ]
     },
     "execution_count": 327,
     "metadata": {},
     "output_type": "execute_result"
    }
   ],
   "source": []
  },
  {
   "cell_type": "code",
   "execution_count": 324,
   "metadata": {
    "collapsed": false
   },
   "outputs": [
    {
     "name": "stdout",
     "output_type": "stream",
     "text": [
      "Bank Service Rep\n",
      "Group [851, 852, 853] has 188 members\n",
      "Claim Assoc Express\n",
      "Group [983, 984] has 2039 members\n",
      "CCC Sales Rep\n",
      "Group [1876] has 1474 members\n",
      "CCC Service Rep\n",
      "Group [6200] has 1472 members\n",
      "SFPP Acct Rep\n",
      "Group [4105] has 234 members\n",
      "Claim Team MGR ILR\n",
      "Group [986] has 209 members\n",
      "Claim Assoc ILR\n",
      "Group [1009] has 2012 members\n",
      "Life Service Rep\n",
      "Group [2638, 2639, 2641] has 636 members\n"
     ]
    }
   ],
   "source": [
    "jbc_counts = {}\n",
    "for key,value in invJobCodeDict.items():\n",
    "    print(key)\n",
    "    jbc_counts[key]    = get_subgroup_pred(hr_mar_less_prob,curr,'JOBCODE',value,gptype='isin')"
   ]
  },
  {
   "cell_type": "code",
   "execution_count": 329,
   "metadata": {
    "collapsed": false
   },
   "outputs": [
    {
     "data": {
      "text/plain": [
       "{'CCC Sales': [549, 470, 615],\n",
       " 'CCC Service': [753, 668, 831],\n",
       " 'Enterprise Auto Express': [79, 58, 110],\n",
       " 'Enterprise ILR': [534, 458, 610],\n",
       " 'Life Health Response Center': [69, 55, 80],\n",
       " 'SFPP': [166, 145, 190],\n",
       " 'State Farm Bank': [140, 118, 159]}"
      ]
     },
     "execution_count": 329,
     "metadata": {},
     "output_type": "execute_result"
    }
   ],
   "source": [
    "exfc_counts"
   ]
  },
  {
   "cell_type": "code",
   "execution_count": 328,
   "metadata": {
    "collapsed": false
   },
   "outputs": [
    {
     "data": {
      "text/plain": [
       "{'Bank Service Rep': [44, 37, 54],\n",
       " 'CCC Sales Rep': [543, 465, 608],\n",
       " 'CCC Service Rep': [698, 618, 769],\n",
       " 'Claim Assoc Express': [68, 49, 97],\n",
       " 'Claim Assoc ILR': [521, 446, 597],\n",
       " 'Claim Team MGR ILR': [5, 5, 5],\n",
       " 'Life Service Rep': [113, 98, 128],\n",
       " 'SFPP Acct Rep': [72, 65, 89]}"
      ]
     },
     "execution_count": 328,
     "metadata": {},
     "output_type": "execute_result"
    }
   ],
   "source": [
    "jbc_counts"
   ]
  },
  {
   "cell_type": "code",
   "execution_count": 333,
   "metadata": {
    "collapsed": false
   },
   "outputs": [
    {
     "data": {
      "text/html": [
       "<div>\n",
       "<table border=\"1\" class=\"dataframe\">\n",
       "  <thead>\n",
       "    <tr style=\"text-align: right;\">\n",
       "      <th></th>\n",
       "      <th>lbcip</th>\n",
       "      <th>surv</th>\n",
       "      <th>ubcip</th>\n",
       "    </tr>\n",
       "  </thead>\n",
       "  <tbody>\n",
       "    <tr>\n",
       "      <th>sep_prob_0</th>\n",
       "      <td>1843</td>\n",
       "      <td>2091</td>\n",
       "      <td>2374</td>\n",
       "    </tr>\n",
       "    <tr>\n",
       "      <th>sep_prob_1</th>\n",
       "      <td>3952</td>\n",
       "      <td>4450</td>\n",
       "      <td>4990</td>\n",
       "    </tr>\n",
       "    <tr>\n",
       "      <th>sep_prob_2</th>\n",
       "      <td>6173</td>\n",
       "      <td>6738</td>\n",
       "      <td>7306</td>\n",
       "    </tr>\n",
       "    <tr>\n",
       "      <th>sep_prob_3</th>\n",
       "      <td>8291</td>\n",
       "      <td>8844</td>\n",
       "      <td>9367</td>\n",
       "    </tr>\n",
       "    <tr>\n",
       "      <th>sep_prob_4</th>\n",
       "      <td>10278</td>\n",
       "      <td>10782</td>\n",
       "      <td>11316</td>\n",
       "    </tr>\n",
       "    <tr>\n",
       "      <th>sep_prob_5</th>\n",
       "      <td>12217</td>\n",
       "      <td>12693</td>\n",
       "      <td>13235</td>\n",
       "    </tr>\n",
       "  </tbody>\n",
       "</table>\n",
       "</div>"
      ],
      "text/plain": [
       "            lbcip   surv  ubcip\n",
       "sep_prob_0   1843   2091   2374\n",
       "sep_prob_1   3952   4450   4990\n",
       "sep_prob_2   6173   6738   7306\n",
       "sep_prob_3   8291   8844   9367\n",
       "sep_prob_4  10278  10782  11316\n",
       "sep_prob_5  12217  12693  13235"
      ]
     },
     "execution_count": 333,
     "metadata": {},
     "output_type": "execute_result"
    }
   ],
   "source": [
    "mar_less_sep_counts"
   ]
  },
  {
   "cell_type": "markdown",
   "metadata": {},
   "source": [
    "### Now add in something to distinguish among the 'key' high turn over groups listed above\n",
    "* in particular EXPRESS (909)\n",
    "* isn't this captured within the JOB_FUNCTIONS?, i.e. with  JOB_FUNCTION_PSA?\n",
    "* take a look at some of the distributions for EXT_FUNC_SFI =909"
   ]
  },
  {
   "cell_type": "code",
   "execution_count": 216,
   "metadata": {
    "collapsed": false
   },
   "outputs": [
    {
     "data": {
      "text/plain": [
       "<matplotlib.axes._subplots.AxesSubplot at 0x7fd42fe15d50>"
      ]
     },
     "execution_count": 216,
     "metadata": {},
     "output_type": "execute_result"
    },
    {
     "data": {
      "image/png": "[encoded data removed]",
      "text/plain": [
       "<matplotlib.figure.Figure at 0x7fd42fc4bdd0>"
      ]
     },
     "metadata": {},
     "output_type": "display_data"
    }
   ],
   "source": [
    "sns.distplot(curr.loc[idx,'MERIT1'])"
   ]
  },
  {
   "cell_type": "code",
   "execution_count": 217,
   "metadata": {
    "collapsed": false
   },
   "outputs": [
    {
     "data": {
      "text/plain": [
       "<matplotlib.axes._subplots.AxesSubplot at 0x7fd434502350>"
      ]
     },
     "execution_count": 217,
     "metadata": {},
     "output_type": "execute_result"
    },
    {
     "data": {
      "image/png": "[encoded data removed]",
      "text/plain": [
       "<matplotlib.figure.Figure at 0x7fd42f14f790>"
      ]
     },
     "metadata": {},
     "output_type": "display_data"
    }
   ],
   "source": [
    "sns.distplot(curr.loc[idx,'SAL1'])"
   ]
  },
  {
   "cell_type": "code",
   "execution_count": 218,
   "metadata": {
    "collapsed": false
   },
   "outputs": [
    {
     "data": {
      "text/plain": [
       "count      2587.000000\n",
       "mean      38048.109153\n",
       "std       19611.044825\n",
       "min       27800.000000\n",
       "25%       28475.025000\n",
       "50%       30278.030000\n",
       "75%       32195.165000\n",
       "max      174972.420000\n",
       "Name: SAL1, dtype: float64"
      ]
     },
     "execution_count": 218,
     "metadata": {},
     "output_type": "execute_result"
    }
   ],
   "source": [
    "curr.loc[idx,'SAL1'].describe()"
   ]
  },
  {
   "cell_type": "code",
   "execution_count": 266,
   "metadata": {
    "collapsed": false
   },
   "outputs": [
    {
     "data": {
      "text/plain": [
       "1    2048\n",
       "0     539\n",
       "Name: JOB_FUNCTION_PSA, dtype: int64"
      ]
     },
     "execution_count": 266,
     "metadata": {},
     "output_type": "execute_result"
    }
   ],
   "source": [
    "curr.loc[idx,'JOB_FUNCTION_PSA'].value_counts()"
   ]
  },
  {
   "cell_type": "markdown",
   "metadata": {},
   "source": [
    "## what why such a high salary here?"
   ]
  },
  {
   "cell_type": "code",
   "execution_count": 229,
   "metadata": {
    "collapsed": false
   },
   "outputs": [
    {
     "data": {
      "text/html": [
       "<div>\n",
       "<table border=\"1\" class=\"dataframe\">\n",
       "  <thead>\n",
       "    <tr style=\"text-align: right;\">\n",
       "      <th></th>\n",
       "      <th>GRADE</th>\n",
       "      <th>SAL1</th>\n",
       "      <th>Age_years</th>\n",
       "      <th>Tenure_years</th>\n",
       "      <th>JOBCODE</th>\n",
       "    </tr>\n",
       "  </thead>\n",
       "  <tbody>\n",
       "    <tr>\n",
       "      <th>93611</th>\n",
       "      <td>MG2</td>\n",
       "      <td>91267.48</td>\n",
       "      <td>46.672142</td>\n",
       "      <td>22.986995</td>\n",
       "      <td>2689</td>\n",
       "    </tr>\n",
       "    <tr>\n",
       "      <th>93612</th>\n",
       "      <td>MG2</td>\n",
       "      <td>78602.87</td>\n",
       "      <td>51.274470</td>\n",
       "      <td>17.103354</td>\n",
       "      <td>2689</td>\n",
       "    </tr>\n",
       "    <tr>\n",
       "      <th>93613</th>\n",
       "      <td>MG2</td>\n",
       "      <td>83823.09</td>\n",
       "      <td>40.826831</td>\n",
       "      <td>15.225188</td>\n",
       "      <td>2689</td>\n",
       "    </tr>\n",
       "    <tr>\n",
       "      <th>93614</th>\n",
       "      <td>RA3</td>\n",
       "      <td>74558.89</td>\n",
       "      <td>57.741273</td>\n",
       "      <td>25.420945</td>\n",
       "      <td>2688</td>\n",
       "    </tr>\n",
       "    <tr>\n",
       "      <th>93615</th>\n",
       "      <td>RA3</td>\n",
       "      <td>95690.10</td>\n",
       "      <td>48.517454</td>\n",
       "      <td>24.616016</td>\n",
       "      <td>2688</td>\n",
       "    </tr>\n",
       "  </tbody>\n",
       "</table>\n",
       "</div>"
      ],
      "text/plain": [
       "      GRADE      SAL1  Age_years  Tenure_years  JOBCODE\n",
       "93611   MG2  91267.48  46.672142     22.986995     2689\n",
       "93612   MG2  78602.87  51.274470     17.103354     2689\n",
       "93613   MG2  83823.09  40.826831     15.225188     2689\n",
       "93614   RA3  74558.89  57.741273     25.420945     2688\n",
       "93615   RA3  95690.10  48.517454     24.616016     2688"
      ]
     },
     "execution_count": 229,
     "metadata": {},
     "output_type": "execute_result"
    }
   ],
   "source": [
    "curr.loc[idx[curr.loc[idx,'SAL1']>40000]][['GRADE','SAL1','Age_years','Tenure_years','JOBCODE']].head()"
   ]
  },
  {
   "cell_type": "code",
   "execution_count": 230,
   "metadata": {
    "collapsed": false
   },
   "outputs": [
    {
     "name": "stderr",
     "output_type": "stream",
     "text": [
      "/opt/anaconda/2.3.0/lib/python2.7/site-packages/matplotlib/__init__.py:892: UserWarning: axes.color_cycle is deprecated and replaced with axes.prop_cycle; please use the latter.\n",
      "  warnings.warn(self.msg_depr % (key, alt_key))\n"
     ]
    },
    {
     "data": {
      "text/plain": [
       "<matplotlib.axes._subplots.AxesSubplot at 0x7fd433f6d890>"
      ]
     },
     "execution_count": 230,
     "metadata": {},
     "output_type": "execute_result"
    },
    {
     "data": {
      "image/png": "[encoded data removed]",
      "text/plain": [
       "<matplotlib.figure.Figure at 0x7fd433f6ec10>"
      ]
     },
     "metadata": {},
     "output_type": "display_data"
    }
   ],
   "source": [
    "sns.boxplot(x='JOBCODE',y='SAL1',data =curr.loc[idx])"
   ]
  },
  {
   "cell_type": "code",
   "execution_count": 231,
   "metadata": {
    "collapsed": false
   },
   "outputs": [
    {
     "data": {
      "text/plain": [
       "<matplotlib.axes._subplots.AxesSubplot at 0x7fd434685690>"
      ]
     },
     "execution_count": 231,
     "metadata": {},
     "output_type": "execute_result"
    },
    {
     "data": {
      "image/png": "[encoded data removed]",
      "text/plain": [
       "<matplotlib.figure.Figure at 0x7fd43460fcd0>"
      ]
     },
     "metadata": {},
     "output_type": "display_data"
    }
   ],
   "source": [
    "sns.boxplot(x='JOBCODE',y='Tenure_years',data =curr.loc[idx])"
   ]
  },
  {
   "cell_type": "code",
   "execution_count": 233,
   "metadata": {
    "collapsed": false
   },
   "outputs": [
    {
     "data": {
      "text/plain": [
       "<matplotlib.axes._subplots.AxesSubplot at 0x7fd43422cc10>"
      ]
     },
     "execution_count": 233,
     "metadata": {},
     "output_type": "execute_result"
    },
    {
     "data": {
      "image/png": "[encoded data removed]",
      "text/plain": [
       "<matplotlib.figure.Figure at 0x7fd434249710>"
      ]
     },
     "metadata": {},
     "output_type": "display_data"
    }
   ],
   "source": [
    "sns.regplot(x='Tenure_years',y='SAL1',data=curr.loc[idx])"
   ]
  },
  {
   "cell_type": "markdown",
   "metadata": {},
   "source": [
    "## how many different types of JOBCODE + EXT_JOB_FUNC are there?"
   ]
  },
  {
   "cell_type": "code",
   "execution_count": 234,
   "metadata": {
    "collapsed": false
   },
   "outputs": [
    {
     "data": {
      "text/plain": [
       "2589"
      ]
     },
     "execution_count": 234,
     "metadata": {},
     "output_type": "execute_result"
    }
   ],
   "source": [
    "em2002.JOBCODE.nunique()"
   ]
  },
  {
   "cell_type": "code",
   "execution_count": 235,
   "metadata": {
    "collapsed": false
   },
   "outputs": [
    {
     "data": {
      "text/plain": [
       "338"
      ]
     },
     "execution_count": 235,
     "metadata": {},
     "output_type": "execute_result"
    }
   ],
   "source": [
    "em2002.EXT_FUNC_ID_SFI.nunique()"
   ]
  },
  {
   "cell_type": "markdown",
   "metadata": {},
   "source": [
    "## look closer at the EXT_FUNC_ID_SFI"
   ]
  },
  {
   "cell_type": "code",
   "execution_count": 236,
   "metadata": {
    "collapsed": false
   },
   "outputs": [
    {
     "data": {
      "text/plain": [
       "313"
      ]
     },
     "execution_count": 236,
     "metadata": {},
     "output_type": "execute_result"
    }
   ],
   "source": [
    "ne2b.EXT_FUNC_ID_SFI.nunique()"
   ]
  },
  {
   "cell_type": "code",
   "execution_count": 240,
   "metadata": {
    "collapsed": false
   },
   "outputs": [
    {
     "name": "stdout",
     "output_type": "stream",
     "text": [
      "95.319\n"
     ]
    }
   ],
   "source": [
    "print(len(ne2b))*0.001"
   ]
  },
  {
   "cell_type": "code",
   "execution_count": 242,
   "metadata": {
    "collapsed": false
   },
   "outputs": [
    {
     "name": "stdout",
     "output_type": "stream",
     "text": [
      "134\n"
     ]
    }
   ],
   "source": [
    "build_efis_vc = ne2b.EXT_FUNC_ID_SFI.value_counts()\n",
    "print(sum(build_efis_vc>=100))"
   ]
  },
  {
   "cell_type": "code",
   "execution_count": 261,
   "metadata": {
    "collapsed": false
   },
   "outputs": [
    {
     "data": {
      "text/plain": [
       "62     6088\n",
       "125    4858\n",
       "909    2587\n",
       "910    2462\n",
       "315    2221\n",
       "Name: EXT_FUNC_ID_SFI, dtype: int64"
      ]
     },
     "execution_count": 261,
     "metadata": {},
     "output_type": "execute_result"
    }
   ],
   "source": [
    "curr.EXT_FUNC_ID_SFI.value_counts().head()"
   ]
  },
  {
   "cell_type": "code",
   "execution_count": 264,
   "metadata": {
    "collapsed": false
   },
   "outputs": [
    {
     "data": {
      "text/plain": [
       "96198    2470\n",
       "96199    2470\n",
       "96200    2470\n",
       "96201    2470\n",
       "96202    2470\n",
       "Name: EXTFUNC_CNT, dtype: float64"
      ]
     },
     "execution_count": 264,
     "metadata": {},
     "output_type": "execute_result"
    }
   ],
   "source": [
    "curr[curr.EXT_FUNC_ID_SFI==910].EXTFUNC_CNT.head()"
   ]
  },
  {
   "cell_type": "code",
   "execution_count": 255,
   "metadata": {
    "collapsed": false
   },
   "outputs": [
    {
     "data": {
      "text/plain": [
       "62     10228\n",
       "125     7877\n",
       "71      5173\n",
       "315     3377\n",
       "101     3324\n",
       "Name: EXT_FUNC_ID_SFI, dtype: int64"
      ]
     },
     "execution_count": 255,
     "metadata": {},
     "output_type": "execute_result"
    }
   ],
   "source": [
    "build_efis_vc.head()"
   ]
  },
  {
   "cell_type": "code",
   "execution_count": 252,
   "metadata": {
    "collapsed": false
   },
   "outputs": [
    {
     "data": {
      "text/plain": [
       "62     0.107303\n",
       "125    0.189941\n",
       "71     0.244212\n",
       "315    0.279640\n",
       "101    0.314512\n",
       "892    0.342723\n",
       "910    0.370063\n",
       "909    0.396899\n",
       "70     0.421280\n",
       "517    0.444990\n",
       "328    0.463182\n",
       "118    0.481226\n",
       "66     0.498127\n",
       "835    0.513350\n",
       "986    0.527660\n",
       "332    0.540060\n",
       "262    0.552156\n",
       "121    0.564148\n",
       "116    0.575982\n",
       "224    0.587102\n",
       "988    0.597782\n",
       "917    0.607392\n",
       "63     0.616865\n",
       "90     0.625720\n",
       "119    0.634270\n",
       "920    0.642495\n",
       "269    0.650689\n",
       "816    0.658725\n",
       "999    0.666132\n",
       "987    0.673402\n",
       "980    0.680588\n",
       "123    0.686705\n",
       "213    0.692810\n",
       "124    0.698654\n",
       "918    0.704288\n",
       "916    0.709733\n",
       "264    0.715020\n",
       "67     0.720245\n",
       "534    0.725385\n",
       "707    0.730515\n",
       "822    0.735604\n",
       "989    0.740650\n",
       "990    0.745644\n",
       "68     0.750249\n",
       "223    0.754456\n",
       "161    0.758600\n",
       "184    0.762671\n",
       "897    0.766720\n",
       "257    0.770749\n",
       "256    0.774767\n",
       "Name: EXT_FUNC_ID_SFI, dtype: float64"
      ]
     },
     "execution_count": 252,
     "metadata": {},
     "output_type": "execute_result"
    }
   ],
   "source": [
    "build_efis_vc.head(50).cumsum()/len(ne2b)"
   ]
  },
  {
   "cell_type": "markdown",
   "metadata": {},
   "source": [
    "## Try the top 50 EXT_FUNC_ID_SFI"
   ]
  },
  {
   "cell_type": "code",
   "execution_count": 253,
   "metadata": {
    "collapsed": false
   },
   "outputs": [
    {
     "data": {
      "text/plain": [
       "[62,\n",
       " 125,\n",
       " 71,\n",
       " 315,\n",
       " 101,\n",
       " 892,\n",
       " 910,\n",
       " 909,\n",
       " 70,\n",
       " 517,\n",
       " 328,\n",
       " 118,\n",
       " 66,\n",
       " 835,\n",
       " 986,\n",
       " 332,\n",
       " 262,\n",
       " 121,\n",
       " 116,\n",
       " 224,\n",
       " 988,\n",
       " 917,\n",
       " 63,\n",
       " 90,\n",
       " 119,\n",
       " 920,\n",
       " 269,\n",
       " 816,\n",
       " 999,\n",
       " 987,\n",
       " 980,\n",
       " 123,\n",
       " 213,\n",
       " 124,\n",
       " 918,\n",
       " 916,\n",
       " 264,\n",
       " 67,\n",
       " 534,\n",
       " 707,\n",
       " 822,\n",
       " 989,\n",
       " 990,\n",
       " 68,\n",
       " 223,\n",
       " 161,\n",
       " 184,\n",
       " 897,\n",
       " 257,\n",
       " 256]"
      ]
     },
     "execution_count": 253,
     "metadata": {},
     "output_type": "execute_result"
    }
   ],
   "source": [
    "top50_efis = build_efis_vc.head(50).index.tolist()\n",
    "## replace others with something else\n"
   ]
  },
  {
   "cell_type": "code",
   "execution_count": null,
   "metadata": {
    "collapsed": true
   },
   "outputs": [],
   "source": []
  },
  {
   "cell_type": "code",
   "execution_count": null,
   "metadata": {
    "collapsed": false
   },
   "outputs": [],
   "source": [
    "cols_to_keep = ['KEY','HIRE_DT','BIRTHDATE','SAL1','MERIT1','PERF1','BOX1','SEX','HAVE_INS','HAVE_DEP']\n"
   ]
  },
  {
   "cell_type": "code",
   "execution_count": null,
   "metadata": {
    "collapsed": true
   },
   "outputs": [],
   "source": [
    "employee_df = current[cols_to_keep].copy()"
   ]
  },
  {
   "cell_type": "code",
   "execution_count": null,
   "metadata": {
    "collapsed": false
   },
   "outputs": [],
   "source": [
    "employee_df.isnull().any()"
   ]
  },
  {
   "cell_type": "code",
   "execution_count": null,
   "metadata": {
    "collapsed": false
   },
   "outputs": [],
   "source": [
    "# get the current date\n",
    "import datetime\n",
    "today_timestamp = pd.to_datetime(datetime.datetime.today())\n",
    "print today_timestamp\n",
    "# replace with Jan 01-15\n",
    "today_timestamp =pd.to_datetime(datetime.datetime.strptime('01JAN2015','%d%b%Y'))\n",
    "print today_timestamp"
   ]
  },
  {
   "cell_type": "code",
   "execution_count": null,
   "metadata": {
    "collapsed": true
   },
   "outputs": [],
   "source": [
    "def calculate_years(timestamp1,timestamp2,days_in_year =365.25):\n",
    "    number_of_years = (timestamp2 - timestamp1).days/days_in_year\n",
    "    return number_of_years"
   ]
  },
  {
   "cell_type": "code",
   "execution_count": null,
   "metadata": {
    "collapsed": false
   },
   "outputs": [],
   "source": [
    "## create timestamps for columns that are timestamps\n",
    "\n",
    "employee_df[['hire_tstmp','birth_tstmp']] = employee_df[['HIRE_DT','BIRTHDATE']].applymap(lambda x: pd.to_datetime(datetime.datetime.strptime(x,'%d%b%Y')))\n",
    "employee_df[['Age_years','Tenure_years']] = employee_df[['birth_tstmp','hire_tstmp']].applymap(lambda x: calculate_years(x,today_timestamp))\n",
    "\n",
    "# now deal with the the rest of the columns (map using the above  )\n",
    "columns_for_modeling = ['Age_years','Tenure_years','SAL1','MERIT1','PERF1','BOX1','SEX','HAVE_INS','HAVE_DEP',]\n",
    "    #'EMPL_TYPE']\n",
    "# replace Y with 1 and N with 0\n",
    "# replace M with 1 and F with 0 (in SEX)\n"
   ]
  },
  {
   "cell_type": "code",
   "execution_count": null,
   "metadata": {
    "collapsed": false
   },
   "outputs": [],
   "source": [
    "empl=employee_df[columns_for_modeling].copy()\n",
    "empl.fillna({'HAVE_INS':'N','HAVE_DEP':'N','BOX1':0,'MERIT1':0.0,'PERF1':0.0,'SAL1':0.0},inplace=True)\n",
    "empl.isnull().any()\n"
   ]
  },
  {
   "cell_type": "code",
   "execution_count": null,
   "metadata": {
    "collapsed": true
   },
   "outputs": [],
   "source": [
    "## replace specific elements based upon dictionary\n",
    "replace_dict = {'HAVE_INS': {'Y':1,'N':0}, 'HAVE_DEP': {'Y':1,'N':0}, 'BOX1':{'H':3,'S':2,'L':1},'SEX':{'M':1,'F':0}}\n",
    "for key,value in replace_dict.iteritems():\n",
    "    empl[key].replace(value,inplace=True)\n"
   ]
  },
  {
   "cell_type": "code",
   "execution_count": null,
   "metadata": {
    "collapsed": true
   },
   "outputs": [],
   "source": [
    "# fix the dollar amounts\n",
    "min_sal1 = 17621.76 #(based upon training set I have: 5 %tile cut off)\n",
    "min_min_rt_ann = 17900. # same as above\n",
    "min_max_rt_ann = 33155.70\n",
    "\n",
    "max_max_rt_ann = 133068.91\n",
    "min_merit1 = 0.0\n",
    "min_perf1 = 0.0\n",
    "fix_min_outlier_col_dict = {'SAL1': min_sal1, 'MERIT1': min_merit1, 'PERF1': min_perf1}\n",
    "fix_max_outlier_col_dict = {'MAX_RT_ANNUAL': max_max_rt_ann}\n",
    "\n",
    "# replace these values\n",
    "for key,value in fix_min_outlier_col_dict.iteritems():        \n",
    "    idx_to_replace = empl[empl[key]<value].index\n",
    "    empl.loc[idx_to_replace,key]=value\n",
    "\n",
    "    # dummy empl_type categories\n",
    "    #empl_type_dummy_cat = ['EMPL_TYPE_E', 'EMPL_TYPE_H', 'EMPL_TYPE_N', 'EMPL_TYPE_S', 'EMPL_TYPE_X', 'EMPL_TYPE_nan']\n"
   ]
  },
  {
   "cell_type": "code",
   "execution_count": null,
   "metadata": {
    "collapsed": true
   },
   "outputs": [],
   "source": [
    "X = empl.as_matrix()"
   ]
  },
  {
   "cell_type": "code",
   "execution_count": null,
   "metadata": {
    "collapsed": false
   },
   "outputs": [],
   "source": [
    "np.shape(X)"
   ]
  },
  {
   "cell_type": "code",
   "execution_count": null,
   "metadata": {
    "collapsed": true
   },
   "outputs": [],
   "source": [
    "# define the application of a series of time-based model\n",
    "def apply_time_models(X,MODEL_BASE_PATH,pcase,pred_years):\n",
    "    proba_df = []\n",
    "\n",
    "\n",
    "    import joblib as jl\n",
    "    import pandas as pd\n",
    "\n",
    "    for idx,pyr in enumerate(pred_years):\n",
    "        pkl_name ='rf'+pyr+'.pkl'#5.pkl'\n",
    "        if pcase == 'ret/':\n",
    "            pkl_name = 'R'+pkl_name\n",
    "\n",
    "        path_name =MODEL_BASE_PATH+pcase+pyr+'/'\n",
    "        print path_name, pkl_name\n",
    "\n",
    "        # load a model, evaluate it and return the 'average' probability for each person\n",
    "        #abs_mdl_name = os.path.abspath(path_name+pkl_name)\n",
    "        mdl_name = path_name+pkl_name\n",
    "        stored_mdl = jl.load(mdl_name)\n",
    "        stored_prediction = evaluate_models(stored_mdl,X)#stored_pred,stored_pred_proba = evaluate_models(stored_mdl,X)\n",
    "\n",
    "        df = pd.DataFrame(stored_prediction.T)\n",
    "        df.columns=[pcase[:-1]+pyr+'yr']\n",
    "\n",
    "        proba_df.append(df)\n",
    "\n",
    "    pred_df = pd.concat([a for a in proba_df], axis=1)\n",
    "    return pred_df\n",
    "\n",
    "# define a function to apply a set of models to a given prediction\n",
    "## now apply each model to my eval set\n",
    "def evaluate_models(model_list,X,mode='mean',offset=0):\n",
    "    \"\"\" Function to apply a set of models to a given input and generate the predicted value(s)\n",
    "    :param model_list --> input list of models\n",
    "    :param X --> input array to apply models to\n",
    "    :param mode --> what sort of output to return; default is mean\n",
    "    intermediates\n",
    "        eval_pred_class --> array of classification prediction for each model\n",
    "        eval_pred_proba --> array of predicted probabilities for each model\n",
    "    \"\"\"\n",
    "    import numpy as np\n",
    "    eval_pred_class = np.zeros((len(X),len(model_list)))\n",
    "    eval_pred_proba = np.zeros((len(X),2,len(model_list)))\n",
    "\n",
    "    for i,mdl in enumerate(model_list):\n",
    "        eval_proba = mdl.predict_proba(X)\n",
    "        eval_pred_class[:,i]=mdl.predict(X)\n",
    "        eval_pred_proba[:,:,i]=eval_proba\n",
    "    if mode == 'mean':\n",
    "        # average the probabilities (for class=1) and return the mean predicted probability\n",
    "        prediction = np.mean(eval_pred_proba[:,1,:],axis=1)\n",
    "        #eval_pred_proba[:,1,:].mean(axis=2)\n",
    "\n",
    "    elif mode == 'class': # return the desired class prediction\n",
    "        prediction = map(np.int,eval_pred_class.mean(axis=1))\n",
    "    return prediction\n"
   ]
  },
  {
   "cell_type": "code",
   "execution_count": null,
   "metadata": {
    "collapsed": false
   },
   "outputs": [],
   "source": [
    "# load the model\n",
    "MODEL_BASE_PATH = '/home/kesj/projects/hrsepara/model/'\n",
    "#MODEL_BASE_PATH = 'C:\\\\Users\\\\kesj\\\\code\\\\hrsep1\\\\model_1\\\\'\n",
    "pred_cases = ['sep/','ret/']\n",
    "pred_years = map(np.str,np.arange(1,6))\n",
    "\n",
    "sep_proba_df = apply_time_models(X,MODEL_BASE_PATH,pred_cases[0],pred_years)\n",
    "ret_proba_df = apply_time_models(X,MODEL_BASE_PATH,pred_cases[1],pred_years)\n",
    "sep_proba_df.index=employee_df.KEY\n",
    "ret_proba_df.index=employee_df.KEY"
   ]
  },
  {
   "cell_type": "markdown",
   "metadata": {
    "collapsed": true
   },
   "source": [
    "## now check on the rates of retirements for each of the coming years\n",
    "* calculate the total number of retirements and rate of retirement.\n",
    "    * option 1: sum the probabilities\n",
    "    * option 2: apply a threshold and sum in binary way.\n",
    "    "
   ]
  },
  {
   "cell_type": "code",
   "execution_count": null,
   "metadata": {
    "collapsed": false
   },
   "outputs": [],
   "source": [
    "np.shape(ret_proba_df), np.shape(sep_proba_df)"
   ]
  },
  {
   "cell_type": "code",
   "execution_count": null,
   "metadata": {
    "collapsed": false
   },
   "outputs": [],
   "source": [
    "sep_proba_df.head()"
   ]
  },
  {
   "cell_type": "code",
   "execution_count": null,
   "metadata": {
    "collapsed": false
   },
   "outputs": [],
   "source": [
    "simple_rates = pd.DataFrame(sep_proba_df.sum()/float(len(sep_proba_df)))\n",
    "simple_rates.index = ['yr1','yr2','yr3','yr4','yr5']\n",
    "simple_rates.columns = ['Separation']\n",
    "simple_rates['Annual Separation'] = simple_rates.diff()\n",
    "simple_rates.loc['yr1','Annual Separation']= simple_rates.loc['yr1','Separation']"
   ]
  },
  {
   "cell_type": "code",
   "execution_count": null,
   "metadata": {
    "collapsed": false
   },
   "outputs": [],
   "source": [
    "tmp_rates = pd.DataFrame(ret_proba_df.sum()/float(len(ret_proba_df)))\n",
    "tmp_rates.index = ['yr1','yr2','yr3','yr4','yr5']\n",
    "tmp_rates.columns = ['Retirement']\n",
    "tmp_rates['Annual Retirement'] = tmp_rates.diff()\n",
    "tmp_rates.loc['yr1','Annual Retirement']= tmp_rates.loc['yr1','Retirement']\n",
    "simple_rates = pd.concat([simple_rates,tmp_rates],axis=1)\n",
    "simple_rates"
   ]
  },
  {
   "cell_type": "markdown",
   "metadata": {},
   "source": [
    "## what were historical rates?"
   ]
  },
  {
   "cell_type": "code",
   "execution_count": null,
   "metadata": {
    "collapsed": false
   },
   "outputs": [],
   "source": [
    "### load in the federal unemployment data\n",
    "unempl_raw = pd.read_csv('../eda/us_unemployment_monthly_seas.csv')\n",
    "unempl_raw.head()\n",
    "### convert to useable format\n",
    "unempl = pd.melt(unempl_raw, id_vars='Year')\n",
    "unempl.sort('Year', inplace=True)\n",
    "unempl['date'] = unempl[['Year','variable']].apply(lambda x: pd.to_datetime(x[1]+str(x[0]),format='%b%Y'),axis=1)\n",
    "unempl.sort('date',inplace=True)\n",
    "unempl.head()"
   ]
  },
  {
   "cell_type": "code",
   "execution_count": null,
   "metadata": {
    "collapsed": false
   },
   "outputs": [],
   "source": [
    "plt.plot(unempl.date,unempl.value)"
   ]
  },
  {
   "cell_type": "code",
   "execution_count": null,
   "metadata": {
    "collapsed": false
   },
   "outputs": [],
   "source": [
    "unempl.groupby('Year')['value'].mean()"
   ]
  },
  {
   "cell_type": "markdown",
   "metadata": {},
   "source": [
    "## calculate the historical rates of retirement and separation"
   ]
  },
  {
   "cell_type": "code",
   "execution_count": null,
   "metadata": {
    "collapsed": true
   },
   "outputs": [],
   "source": [
    "em2002[['hire_tstmp','term_tstmp']] = em2002[['HIRE_DT','TERMINATION_DT']].applymap(lambda x: pd.to_datetime(datetime.datetime.strptime(x,'%d%b%Y')))\n"
   ]
  },
  {
   "cell_type": "code",
   "execution_count": null,
   "metadata": {
    "collapsed": false
   },
   "outputs": [],
   "source": [
    "monthly_range_terminations = pd.date_range(em2002.term_tstmp.min(),em2002.term_tstmp.max(),freq='M')\n",
    "print len(monthly_range_terminations)\n",
    "monthly_range_terminations"
   ]
  },
  {
   "cell_type": "code",
   "execution_count": null,
   "metadata": {
    "collapsed": false
   },
   "outputs": [],
   "source": [
    "monthly_range_terminations[0]-1"
   ]
  },
  {
   "cell_type": "code",
   "execution_count": null,
   "metadata": {
    "collapsed": false
   },
   "outputs": [],
   "source": [
    "len(em2002[(em2002.term_tstmp <= monthly_range_terminations[1]) & (em2002.retired == 0) & (em2002.term_tstmp > monthly_range_terminations[0])])"
   ]
  },
  {
   "cell_type": "code",
   "execution_count": null,
   "metadata": {
    "collapsed": true
   },
   "outputs": [],
   "source": [
    "nactive = []\n",
    "nsep2 = []\n",
    "nhired = []\n",
    "nretired = []\n",
    "prev_date = monthly_range_terminations[0]-1\n",
    "#nsep.append(0.0)\n",
    "for idx, my_date in enumerate(monthly_range_terminations):\n",
    "    nactive.append( len(em2002[(em2002.hire_tstmp < my_date) &(em2002.term_tstmp > my_date)]))\n",
    "    if idx == 0:\n",
    "        nsep2.append(len(em2002[(em2002.term_tstmp <= my_date) & (em2002.hire_tstmp < my_date)]))\n",
    "        nretired.append(len(em2002[(em2002.term_tstmp <= my_date) & (em2002.hire_tstmp < my_date) & (em2002.retired==1)]))\n",
    "        nhired.append( len(em2002[(em2002.hire_tstmp <= my_date) &(em2002.hire_tstmp > prev_date)]))\n",
    "    else:\n",
    "        nsep2.append(len(em2002[(em2002.term_tstmp <= my_date) & (em2002.hire_tstmp < my_date) &( em2002.term_tstmp > monthly_range_terminations[idx-1])]))\n",
    "        nretired.append(len(em2002[(em2002.term_tstmp <= my_date) & (em2002.hire_tstmp < my_date) & (em2002.retired==1) &( em2002.term_tstmp > monthly_range_terminations[idx-1])]) )\n",
    "        nhired.append( len(em2002[(em2002.hire_tstmp <= my_date) &(em2002.hire_tstmp > monthly_range_terminations[idx-1])]))\n",
    "        "
   ]
  },
  {
   "cell_type": "code",
   "execution_count": null,
   "metadata": {
    "collapsed": false
   },
   "outputs": [],
   "source": [
    "workforce= pd.DataFrame(data =nactive,index=monthly_range_terminations,columns=['Active'])\n",
    "delta = workforce.diff()\n",
    "workforce['netChange'] = delta\n",
    "workforce['AllSeparations'] = nsep2\n",
    "workforce['Hires'] = nhired\n",
    "workforce['Retirements'] = nretired\n",
    "workforce.head()"
   ]
  },
  {
   "cell_type": "code",
   "execution_count": null,
   "metadata": {
    "collapsed": false
   },
   "outputs": [],
   "source": [
    "plt.plot(monthly_range_terminations,nactive)\n",
    "plt.xlabel('Date')\n",
    "plt.ylabel('Worforce Counts')"
   ]
  },
  {
   "cell_type": "code",
   "execution_count": null,
   "metadata": {
    "collapsed": false
   },
   "outputs": [],
   "source": [
    "annualwf = pd.DataFrame()\n",
    "annualwf = workforce[['AllSeparations','Hires','Retirements']].resample('A',how='sum')#.plot()\n",
    "annualwf['Active'] =workforce['Active'].resample('A',how='last')\n",
    "annualwf.head()"
   ]
  },
  {
   "cell_type": "code",
   "execution_count": null,
   "metadata": {
    "collapsed": true
   },
   "outputs": [],
   "source": [
    "annualwf['Separations']=annualwf['AllSeparations']-annualwf['Retirements']\n",
    "annualwf['SepRate']=annualwf['Separations']/annualwf['Active']\n",
    "annualwf['RetRate']=annualwf['Separations']/annualwf['Active']\n"
   ]
  },
  {
   "cell_type": "code",
   "execution_count": null,
   "metadata": {
    "collapsed": false
   },
   "outputs": [],
   "source": [
    "(annualwf.AllSeparations/annualwf.Active).plot()"
   ]
  },
  {
   "cell_type": "code",
   "execution_count": null,
   "metadata": {
    "collapsed": true
   },
   "outputs": [],
   "source": []
  }
 ],
 "metadata": {
  "kernelspec": {
   "display_name": "Python 2",
   "language": "python",
   "name": "python2"
  },
  "language_info": {
   "codemirror_mode": {
    "name": "ipython",
    "version": 2
   },
   "file_extension": ".py",
   "mimetype": "text/x-python",
   "name": "python",
   "nbconvert_exporter": "python",
   "pygments_lexer": "ipython2",
   "version": "2.7.11"
  }
 },
 "nbformat": 4,
 "nbformat_minor": 0
}
