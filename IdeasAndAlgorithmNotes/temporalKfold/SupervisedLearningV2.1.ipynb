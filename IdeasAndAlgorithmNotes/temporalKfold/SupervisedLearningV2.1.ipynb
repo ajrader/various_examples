{
 "cells": [
  {
   "cell_type": "markdown",
   "metadata": {},
   "source": [
    "## Supervised Learning for HR Separations\n",
    "Februrary 5, 2016\n",
    "1. Load the dataset processed in initialEDA v0.8 (after2001_v8.csv)\n",
    "    * use bear\n",
    "    * define the source repo: '/home/kesj/lib/repo/'\n",
    "2. Define the correct working directories\n",
    "'/data/discovery/hrsepara/core/' for HDFS\n",
    "'/data/discovery/hrsepara/staging/eda' and '/home/kesj/working/hrsepara/eda/' for HDFS and LFS on phd"
   ]
  },
  {
   "cell_type": "code",
   "execution_count": 1,
   "metadata": {
    "collapsed": true
   },
   "outputs": [],
   "source": [
    "coredir = '/data/discovery/hrsepara/core/'\n",
    "stgdir1 = '/data/discovery/hrsepara/staging/eda'\n",
    "stgdir1local = '/home/kesj/work/hrsepara/eda'\n",
    "repodir = '/home/kesj/lib/repo/'"
   ]
  },
  {
   "cell_type": "code",
   "execution_count": 2,
   "metadata": {
    "collapsed": false
   },
   "outputs": [
    {
     "name": "stderr",
     "output_type": "stream",
     "text": [
      "/opt/anaconda/2.3.0/lib/python2.7/site-packages/matplotlib/font_manager.py:273: UserWarning: Matplotlib is building the font cache using fc-list. This may take a moment.\n",
      "  warnings.warn('Matplotlib is building the font cache using fc-list. This may take a moment.')\n",
      "/opt/anaconda/2.3.0/lib/python2.7/site-packages/matplotlib/__init__.py:872: UserWarning: axes.color_cycle is deprecated and replaced with axes.prop_cycle; please use the latter.\n",
      "  warnings.warn(self.msg_depr % (key, alt_key))\n"
     ]
    }
   ],
   "source": [
    "### load the basic files\n",
    "import os,subprocess,sys\n",
    "import pandas as pd\n",
    "import numpy as np\n",
    "%matplotlib inline\n",
    "from datetime import datetime\n",
    "import matplotlib.pyplot as plt\n",
    "from itertools import chain\n",
    "import random\n",
    "import seaborn as sns\n",
    "from glob import glob\n",
    "import lifelines as ll\n"
   ]
  },
  {
   "cell_type": "code",
   "execution_count": 4,
   "metadata": {
    "collapsed": false
   },
   "outputs": [],
   "source": [
    "os.chdir(repodir)\n",
    "import bear.bear as br\n",
    "os.chdir(stgdir1local)"
   ]
  },
  {
   "cell_type": "code",
   "execution_count": 5,
   "metadata": {
    "collapsed": false
   },
   "outputs": [
    {
     "name": "stdout",
     "output_type": "stream",
     "text": [
      "(134189, 126)\n"
     ]
    }
   ],
   "source": [
    "datafile = 'after2001_v8.csv'\n",
    "empl1 = pd.read_csv(datafile,dtype={'KEY':np.str,'EEO1CODE':np.str})\n",
    "\n",
    "\n",
    "print empl1.shape"
   ]
  },
  {
   "cell_type": "code",
   "execution_count": 6,
   "metadata": {
    "collapsed": false
   },
   "outputs": [
    {
     "data": {
      "text/plain": [
       "0   1949-09-27\n",
       "1   1993-09-05\n",
       "2   1988-02-24\n",
       "3   1950-02-14\n",
       "4   1991-04-12\n",
       "Name: birth_tstmp, dtype: datetime64[ns]"
      ]
     },
     "execution_count": 6,
     "metadata": {},
     "output_type": "execute_result"
    }
   ],
   "source": [
    "## create timestamps for columns that are timestamps\n",
    "empl1[['hire_tstmp','term_tstmp','birth_tstmp']] = empl1[['HIRE_DT','TERMINATION_DT','BIRTHDATE']].apply(lambda x:pd.to_datetime(x))\n",
    "empl1.birth_tstmp.head()\n"
   ]
  },
  {
   "cell_type": "code",
   "execution_count": 7,
   "metadata": {
    "collapsed": false
   },
   "outputs": [
    {
     "data": {
      "text/plain": [
       "35"
      ]
     },
     "execution_count": 7,
     "metadata": {},
     "output_type": "execute_result"
    }
   ],
   "source": [
    "cat_cols = br.get_categorical(empl1)\n",
    "len(cat_cols)"
   ]
  },
  {
   "cell_type": "markdown",
   "metadata": {},
   "source": [
    "## Process the categorical columns\n",
    "1. binary <--> use scikitlearn to label encode binary features: \n",
    "    * N--> 0, Y --> 1\n",
    "    * M--> 1, F --> 0\n",
    "    * A-->0, H--> 1\n",
    "2. special case for FLSA_STATUS which has arity=3\n",
    "3. .."
   ]
  },
  {
   "cell_type": "code",
   "execution_count": 8,
   "metadata": {
    "collapsed": false
   },
   "outputs": [
    {
     "data": {
      "text/html": [
       "<div>\n",
       "<table border=\"1\" class=\"dataframe\">\n",
       "  <thead>\n",
       "    <tr style=\"text-align: right;\">\n",
       "      <th></th>\n",
       "      <th>feature</th>\n",
       "      <th>datatype</th>\n",
       "      <th>nmissing</th>\n",
       "      <th>arity</th>\n",
       "      <th>accepted values</th>\n",
       "      <th>x_missing</th>\n",
       "    </tr>\n",
       "  </thead>\n",
       "  <tbody>\n",
       "    <tr>\n",
       "      <th>15</th>\n",
       "      <td>INTERN</td>\n",
       "      <td>object</td>\n",
       "      <td>0</td>\n",
       "      <td>2</td>\n",
       "      <td>[N, Y]</td>\n",
       "      <td>0</td>\n",
       "    </tr>\n",
       "    <tr>\n",
       "      <th>28</th>\n",
       "      <td>REMOTE_SUPV</td>\n",
       "      <td>object</td>\n",
       "      <td>0</td>\n",
       "      <td>2</td>\n",
       "      <td>[N, Y]</td>\n",
       "      <td>0</td>\n",
       "    </tr>\n",
       "    <tr>\n",
       "      <th>27</th>\n",
       "      <td>REMOTE</td>\n",
       "      <td>object</td>\n",
       "      <td>0</td>\n",
       "      <td>2</td>\n",
       "      <td>[N, Y]</td>\n",
       "      <td>0</td>\n",
       "    </tr>\n",
       "    <tr>\n",
       "      <th>26</th>\n",
       "      <td>RELOCATE_ALL_SFI</td>\n",
       "      <td>object</td>\n",
       "      <td>0</td>\n",
       "      <td>2</td>\n",
       "      <td>[N, Y]</td>\n",
       "      <td>0</td>\n",
       "    </tr>\n",
       "    <tr>\n",
       "      <th>25</th>\n",
       "      <td>PARTFULL5</td>\n",
       "      <td>object</td>\n",
       "      <td>0</td>\n",
       "      <td>2</td>\n",
       "      <td>[N, Y]</td>\n",
       "      <td>0</td>\n",
       "    </tr>\n",
       "    <tr>\n",
       "      <th>24</th>\n",
       "      <td>PARTFULL3</td>\n",
       "      <td>object</td>\n",
       "      <td>0</td>\n",
       "      <td>2</td>\n",
       "      <td>[N, Y]</td>\n",
       "      <td>0</td>\n",
       "    </tr>\n",
       "    <tr>\n",
       "      <th>23</th>\n",
       "      <td>PARTFULL10</td>\n",
       "      <td>object</td>\n",
       "      <td>0</td>\n",
       "      <td>2</td>\n",
       "      <td>[N, Y]</td>\n",
       "      <td>0</td>\n",
       "    </tr>\n",
       "    <tr>\n",
       "      <th>22</th>\n",
       "      <td>PARTFULL1</td>\n",
       "      <td>object</td>\n",
       "      <td>0</td>\n",
       "      <td>2</td>\n",
       "      <td>[N, Y]</td>\n",
       "      <td>0</td>\n",
       "    </tr>\n",
       "    <tr>\n",
       "      <th>14</th>\n",
       "      <td>HUBIND</td>\n",
       "      <td>object</td>\n",
       "      <td>0</td>\n",
       "      <td>2</td>\n",
       "      <td>[N, Y]</td>\n",
       "      <td>0</td>\n",
       "    </tr>\n",
       "    <tr>\n",
       "      <th>10</th>\n",
       "      <td>FULLPART5</td>\n",
       "      <td>object</td>\n",
       "      <td>0</td>\n",
       "      <td>2</td>\n",
       "      <td>[N, Y]</td>\n",
       "      <td>0</td>\n",
       "    </tr>\n",
       "    <tr>\n",
       "      <th>30</th>\n",
       "      <td>SEX</td>\n",
       "      <td>object</td>\n",
       "      <td>0</td>\n",
       "      <td>2</td>\n",
       "      <td>[F, M]</td>\n",
       "      <td>0</td>\n",
       "    </tr>\n",
       "    <tr>\n",
       "      <th>32</th>\n",
       "      <td>SUPV_DIFF_LOC</td>\n",
       "      <td>object</td>\n",
       "      <td>0</td>\n",
       "      <td>2</td>\n",
       "      <td>[Y, N]</td>\n",
       "      <td>0</td>\n",
       "    </tr>\n",
       "    <tr>\n",
       "      <th>2</th>\n",
       "      <td>COMP_FREQUENCY</td>\n",
       "      <td>object</td>\n",
       "      <td>0</td>\n",
       "      <td>2</td>\n",
       "      <td>[A, H]</td>\n",
       "      <td>0</td>\n",
       "    </tr>\n",
       "    <tr>\n",
       "      <th>8</th>\n",
       "      <td>FULLPART10</td>\n",
       "      <td>object</td>\n",
       "      <td>0</td>\n",
       "      <td>2</td>\n",
       "      <td>[N, Y]</td>\n",
       "      <td>0</td>\n",
       "    </tr>\n",
       "    <tr>\n",
       "      <th>9</th>\n",
       "      <td>FULLPART3</td>\n",
       "      <td>object</td>\n",
       "      <td>0</td>\n",
       "      <td>2</td>\n",
       "      <td>[N, Y]</td>\n",
       "      <td>0</td>\n",
       "    </tr>\n",
       "    <tr>\n",
       "      <th>7</th>\n",
       "      <td>FULLPART1</td>\n",
       "      <td>object</td>\n",
       "      <td>0</td>\n",
       "      <td>2</td>\n",
       "      <td>[N, Y]</td>\n",
       "      <td>0</td>\n",
       "    </tr>\n",
       "    <tr>\n",
       "      <th>6</th>\n",
       "      <td>FLSA_STATUS</td>\n",
       "      <td>object</td>\n",
       "      <td>0</td>\n",
       "      <td>3</td>\n",
       "      <td>[Z, N, X]</td>\n",
       "      <td>0</td>\n",
       "    </tr>\n",
       "    <tr>\n",
       "      <th>11</th>\n",
       "      <td>FULL_PART_TIME</td>\n",
       "      <td>object</td>\n",
       "      <td>0</td>\n",
       "      <td>4</td>\n",
       "      <td>[F, P, X, N]</td>\n",
       "      <td>0</td>\n",
       "    </tr>\n",
       "    <tr>\n",
       "      <th>5</th>\n",
       "      <td>EMPL_TYPE</td>\n",
       "      <td>object</td>\n",
       "      <td>0</td>\n",
       "      <td>4</td>\n",
       "      <td>[S, H, E, N]</td>\n",
       "      <td>0</td>\n",
       "    </tr>\n",
       "    <tr>\n",
       "      <th>31</th>\n",
       "      <td>SHIFT</td>\n",
       "      <td>object</td>\n",
       "      <td>0</td>\n",
       "      <td>4</td>\n",
       "      <td>[1, 3, N, 2]</td>\n",
       "      <td>0</td>\n",
       "    </tr>\n",
       "    <tr>\n",
       "      <th>4</th>\n",
       "      <td>EMPL_CLASS</td>\n",
       "      <td>object</td>\n",
       "      <td>0</td>\n",
       "      <td>5</td>\n",
       "      <td>[1, D, 3, G, 5]</td>\n",
       "      <td>0</td>\n",
       "    </tr>\n",
       "    <tr>\n",
       "      <th>3</th>\n",
       "      <td>EEO1CODE</td>\n",
       "      <td>object</td>\n",
       "      <td>0</td>\n",
       "      <td>10</td>\n",
       "      <td>[2, 5, 1, 4, 3, 7, 6, N, L, 8]</td>\n",
       "      <td>0</td>\n",
       "    </tr>\n",
       "    <tr>\n",
       "      <th>17</th>\n",
       "      <td>JOB_FUNCTION</td>\n",
       "      <td>object</td>\n",
       "      <td>0</td>\n",
       "      <td>19</td>\n",
       "      <td>[PTE, PSA, PTB, MGT, PSC, PTD, PSB, PTC, PTA, ...</td>\n",
       "      <td>0</td>\n",
       "    </tr>\n",
       "    <tr>\n",
       "      <th>21</th>\n",
       "      <td>LOC_TYPE_DESCR_SFI</td>\n",
       "      <td>object</td>\n",
       "      <td>0</td>\n",
       "      <td>31</td>\n",
       "      <td>Too many to show</td>\n",
       "      <td>0</td>\n",
       "    </tr>\n",
       "    <tr>\n",
       "      <th>20</th>\n",
       "      <td>LOC_STATE</td>\n",
       "      <td>object</td>\n",
       "      <td>0</td>\n",
       "      <td>52</td>\n",
       "      <td>Too many to show</td>\n",
       "      <td>0</td>\n",
       "    </tr>\n",
       "    <tr>\n",
       "      <th>12</th>\n",
       "      <td>GRADE</td>\n",
       "      <td>object</td>\n",
       "      <td>0</td>\n",
       "      <td>123</td>\n",
       "      <td>Too many to show</td>\n",
       "      <td>0</td>\n",
       "    </tr>\n",
       "    <tr>\n",
       "      <th>16</th>\n",
       "      <td>JOB_FAMILY</td>\n",
       "      <td>object</td>\n",
       "      <td>0</td>\n",
       "      <td>1448</td>\n",
       "      <td>Too many to show</td>\n",
       "      <td>0</td>\n",
       "    </tr>\n",
       "    <tr>\n",
       "      <th>33</th>\n",
       "      <td>TERMINATION_DT</td>\n",
       "      <td>object</td>\n",
       "      <td>0</td>\n",
       "      <td>4353</td>\n",
       "      <td>Too many to show</td>\n",
       "      <td>0</td>\n",
       "    </tr>\n",
       "    <tr>\n",
       "      <th>19</th>\n",
       "      <td>LAST_HIRE_DT</td>\n",
       "      <td>object</td>\n",
       "      <td>0</td>\n",
       "      <td>8396</td>\n",
       "      <td>Too many to show</td>\n",
       "      <td>0</td>\n",
       "    </tr>\n",
       "    <tr>\n",
       "      <th>13</th>\n",
       "      <td>HIRE_DT</td>\n",
       "      <td>object</td>\n",
       "      <td>0</td>\n",
       "      <td>8858</td>\n",
       "      <td>Too many to show</td>\n",
       "      <td>0</td>\n",
       "    </tr>\n",
       "    <tr>\n",
       "      <th>29</th>\n",
       "      <td>SERVICE_DT</td>\n",
       "      <td>object</td>\n",
       "      <td>0</td>\n",
       "      <td>13628</td>\n",
       "      <td>Too many to show</td>\n",
       "      <td>0</td>\n",
       "    </tr>\n",
       "    <tr>\n",
       "      <th>34</th>\n",
       "      <td>Tenure_tdelta</td>\n",
       "      <td>object</td>\n",
       "      <td>0</td>\n",
       "      <td>14664</td>\n",
       "      <td>Too many to show</td>\n",
       "      <td>0</td>\n",
       "    </tr>\n",
       "    <tr>\n",
       "      <th>0</th>\n",
       "      <td>Age_tdelta</td>\n",
       "      <td>object</td>\n",
       "      <td>0</td>\n",
       "      <td>18185</td>\n",
       "      <td>Too many to show</td>\n",
       "      <td>0</td>\n",
       "    </tr>\n",
       "    <tr>\n",
       "      <th>1</th>\n",
       "      <td>BIRTHDATE</td>\n",
       "      <td>object</td>\n",
       "      <td>0</td>\n",
       "      <td>20133</td>\n",
       "      <td>Too many to show</td>\n",
       "      <td>0</td>\n",
       "    </tr>\n",
       "    <tr>\n",
       "      <th>18</th>\n",
       "      <td>KEY</td>\n",
       "      <td>object</td>\n",
       "      <td>0</td>\n",
       "      <td>134189</td>\n",
       "      <td>Too many to show</td>\n",
       "      <td>0</td>\n",
       "    </tr>\n",
       "  </tbody>\n",
       "</table>\n",
       "</div>"
      ],
      "text/plain": [
       "               feature datatype  nmissing   arity  \\\n",
       "15              INTERN   object         0       2   \n",
       "28         REMOTE_SUPV   object         0       2   \n",
       "27              REMOTE   object         0       2   \n",
       "26    RELOCATE_ALL_SFI   object         0       2   \n",
       "25           PARTFULL5   object         0       2   \n",
       "24           PARTFULL3   object         0       2   \n",
       "23          PARTFULL10   object         0       2   \n",
       "22           PARTFULL1   object         0       2   \n",
       "14              HUBIND   object         0       2   \n",
       "10           FULLPART5   object         0       2   \n",
       "30                 SEX   object         0       2   \n",
       "32       SUPV_DIFF_LOC   object         0       2   \n",
       "2       COMP_FREQUENCY   object         0       2   \n",
       "8           FULLPART10   object         0       2   \n",
       "9            FULLPART3   object         0       2   \n",
       "7            FULLPART1   object         0       2   \n",
       "6          FLSA_STATUS   object         0       3   \n",
       "11      FULL_PART_TIME   object         0       4   \n",
       "5            EMPL_TYPE   object         0       4   \n",
       "31               SHIFT   object         0       4   \n",
       "4           EMPL_CLASS   object         0       5   \n",
       "3             EEO1CODE   object         0      10   \n",
       "17        JOB_FUNCTION   object         0      19   \n",
       "21  LOC_TYPE_DESCR_SFI   object         0      31   \n",
       "20           LOC_STATE   object         0      52   \n",
       "12               GRADE   object         0     123   \n",
       "16          JOB_FAMILY   object         0    1448   \n",
       "33      TERMINATION_DT   object         0    4353   \n",
       "19        LAST_HIRE_DT   object         0    8396   \n",
       "13             HIRE_DT   object         0    8858   \n",
       "29          SERVICE_DT   object         0   13628   \n",
       "34       Tenure_tdelta   object         0   14664   \n",
       "0           Age_tdelta   object         0   18185   \n",
       "1            BIRTHDATE   object         0   20133   \n",
       "18                 KEY   object         0  134189   \n",
       "\n",
       "                                      accepted values  x_missing  \n",
       "15                                             [N, Y]          0  \n",
       "28                                             [N, Y]          0  \n",
       "27                                             [N, Y]          0  \n",
       "26                                             [N, Y]          0  \n",
       "25                                             [N, Y]          0  \n",
       "24                                             [N, Y]          0  \n",
       "23                                             [N, Y]          0  \n",
       "22                                             [N, Y]          0  \n",
       "14                                             [N, Y]          0  \n",
       "10                                             [N, Y]          0  \n",
       "30                                             [F, M]          0  \n",
       "32                                             [Y, N]          0  \n",
       "2                                              [A, H]          0  \n",
       "8                                              [N, Y]          0  \n",
       "9                                              [N, Y]          0  \n",
       "7                                              [N, Y]          0  \n",
       "6                                           [Z, N, X]          0  \n",
       "11                                       [F, P, X, N]          0  \n",
       "5                                        [S, H, E, N]          0  \n",
       "31                                       [1, 3, N, 2]          0  \n",
       "4                                     [1, D, 3, G, 5]          0  \n",
       "3                      [2, 5, 1, 4, 3, 7, 6, N, L, 8]          0  \n",
       "17  [PTE, PSA, PTB, MGT, PSC, PTD, PSB, PTC, PTA, ...          0  \n",
       "21                                   Too many to show          0  \n",
       "20                                   Too many to show          0  \n",
       "12                                   Too many to show          0  \n",
       "16                                   Too many to show          0  \n",
       "33                                   Too many to show          0  \n",
       "19                                   Too many to show          0  \n",
       "13                                   Too many to show          0  \n",
       "29                                   Too many to show          0  \n",
       "34                                   Too many to show          0  \n",
       "0                                    Too many to show          0  \n",
       "1                                    Too many to show          0  \n",
       "18                                   Too many to show          0  "
      ]
     },
     "execution_count": 8,
     "metadata": {},
     "output_type": "execute_result"
    }
   ],
   "source": [
    "sdf_cat = br.summarize_dataframe(empl1[cat_cols])\n",
    "sdf_cat.sort_values(by='arity')"
   ]
  },
  {
   "cell_type": "code",
   "execution_count": 9,
   "metadata": {
    "collapsed": false
   },
   "outputs": [
    {
     "name": "stdout",
     "output_type": "stream",
     "text": [
      "16\n",
      "COMP_FREQUENCY 2 ['A' 'H']\n",
      "FULLPART1 2 ['N' 'Y']\n",
      "FULLPART10 2 ['N' 'Y']\n",
      "FULLPART3 2 ['N' 'Y']\n",
      "FULLPART5 2 ['N' 'Y']\n",
      "HUBIND 2 ['N' 'Y']\n",
      "INTERN 2 ['N' 'Y']\n",
      "PARTFULL1 2 ['N' 'Y']\n",
      "PARTFULL10 2 ['N' 'Y']\n",
      "PARTFULL3 2 ['N' 'Y']\n",
      "PARTFULL5 2 ['N' 'Y']\n",
      "RELOCATE_ALL_SFI 2 ['N' 'Y']\n",
      "REMOTE 2 ['N' 'Y']\n",
      "REMOTE_SUPV 2 ['N' 'Y']\n",
      "SEX 2 ['F' 'M']\n",
      "SUPV_DIFF_LOC 2 ['Y' 'N']\n"
     ]
    }
   ],
   "source": [
    "from sklearn.preprocessing import LabelEncoder\n",
    "binary_cols = sdf_cat[sdf_cat.arity == 2].feature.values.tolist()\n",
    "print len(binary_cols)\n",
    "label_encoder = LabelEncoder()\n",
    "for col in binary_cols:\n",
    "    print col, len(empl1[col].unique()), empl1[col].unique()\n",
    "    empl1[col] = label_encoder.fit_transform(empl1[col]) # use sklearn.preprocesing.LabelEncoder()\n",
    "    "
   ]
  },
  {
   "cell_type": "markdown",
   "metadata": {},
   "source": [
    "###2. Use this mapping for FLSA N --> 0 , X -->-1 , Z -->1"
   ]
  },
  {
   "cell_type": "code",
   "execution_count": 10,
   "metadata": {
    "collapsed": false
   },
   "outputs": [
    {
     "data": {
      "text/plain": [
       " 0    99460\n",
       " 1    32789\n",
       "-1     1940\n",
       "Name: FLSA_STATUS, dtype: int64"
      ]
     },
     "execution_count": 10,
     "metadata": {},
     "output_type": "execute_result"
    }
   ],
   "source": [
    "empl1['FLSA_STATUS'] = empl1['FLSA_STATUS'].replace({'N':0,'Z':1,'X':-1}).copy()\n",
    "empl1['FLSA_STATUS'].value_counts()"
   ]
  },
  {
   "cell_type": "markdown",
   "metadata": {},
   "source": [
    "#### Fix EEO1code: fixed on load now"
   ]
  },
  {
   "cell_type": "code",
   "execution_count": 11,
   "metadata": {
    "collapsed": false
   },
   "outputs": [
    {
     "data": {
      "text/plain": [
       "array(['2', '5', '1', '4', '3', '7', '6', 'N', 'L', '8'], dtype=object)"
      ]
     },
     "execution_count": 11,
     "metadata": {},
     "output_type": "execute_result"
    }
   ],
   "source": [
    "empl1.EEO1CODE.unique()"
   ]
  },
  {
   "cell_type": "code",
   "execution_count": null,
   "metadata": {
    "collapsed": false
   },
   "outputs": [],
   "source": [
    "#empl1.EEO1CODE = empl1.EEO1CODE.apply(lambda x: np.str(x))"
   ]
  },
  {
   "cell_type": "code",
   "execution_count": 12,
   "metadata": {
    "collapsed": false
   },
   "outputs": [
    {
     "data": {
      "text/plain": [
       "18"
      ]
     },
     "execution_count": 12,
     "metadata": {},
     "output_type": "execute_result"
    }
   ],
   "source": [
    "cat_cols2 = br.get_categorical(empl1)\n",
    "len(cat_cols2)"
   ]
  },
  {
   "cell_type": "code",
   "execution_count": 13,
   "metadata": {
    "collapsed": false
   },
   "outputs": [
    {
     "data": {
      "text/html": [
       "<div>\n",
       "<table border=\"1\" class=\"dataframe\">\n",
       "  <thead>\n",
       "    <tr style=\"text-align: right;\">\n",
       "      <th></th>\n",
       "      <th>feature</th>\n",
       "      <th>datatype</th>\n",
       "      <th>nmissing</th>\n",
       "      <th>arity</th>\n",
       "      <th>accepted values</th>\n",
       "      <th>x_missing</th>\n",
       "    </tr>\n",
       "  </thead>\n",
       "  <tbody>\n",
       "    <tr>\n",
       "      <th>15</th>\n",
       "      <td>SHIFT</td>\n",
       "      <td>object</td>\n",
       "      <td>0</td>\n",
       "      <td>4</td>\n",
       "      <td>[1, 3, N, 2]</td>\n",
       "      <td>0</td>\n",
       "    </tr>\n",
       "    <tr>\n",
       "      <th>4</th>\n",
       "      <td>EMPL_TYPE</td>\n",
       "      <td>object</td>\n",
       "      <td>0</td>\n",
       "      <td>4</td>\n",
       "      <td>[S, H, E, N]</td>\n",
       "      <td>0</td>\n",
       "    </tr>\n",
       "    <tr>\n",
       "      <th>5</th>\n",
       "      <td>FULL_PART_TIME</td>\n",
       "      <td>object</td>\n",
       "      <td>0</td>\n",
       "      <td>4</td>\n",
       "      <td>[F, P, X, N]</td>\n",
       "      <td>0</td>\n",
       "    </tr>\n",
       "    <tr>\n",
       "      <th>3</th>\n",
       "      <td>EMPL_CLASS</td>\n",
       "      <td>object</td>\n",
       "      <td>0</td>\n",
       "      <td>5</td>\n",
       "      <td>[1, D, 3, G, 5]</td>\n",
       "      <td>0</td>\n",
       "    </tr>\n",
       "    <tr>\n",
       "      <th>2</th>\n",
       "      <td>EEO1CODE</td>\n",
       "      <td>object</td>\n",
       "      <td>0</td>\n",
       "      <td>10</td>\n",
       "      <td>[2, 5, 1, 4, 3, 7, 6, N, L, 8]</td>\n",
       "      <td>0</td>\n",
       "    </tr>\n",
       "    <tr>\n",
       "      <th>9</th>\n",
       "      <td>JOB_FUNCTION</td>\n",
       "      <td>object</td>\n",
       "      <td>0</td>\n",
       "      <td>19</td>\n",
       "      <td>[PTE, PSA, PTB, MGT, PSC, PTD, PSB, PTC, PTA, ...</td>\n",
       "      <td>0</td>\n",
       "    </tr>\n",
       "    <tr>\n",
       "      <th>13</th>\n",
       "      <td>LOC_TYPE_DESCR_SFI</td>\n",
       "      <td>object</td>\n",
       "      <td>0</td>\n",
       "      <td>31</td>\n",
       "      <td>Too many to show</td>\n",
       "      <td>0</td>\n",
       "    </tr>\n",
       "    <tr>\n",
       "      <th>12</th>\n",
       "      <td>LOC_STATE</td>\n",
       "      <td>object</td>\n",
       "      <td>0</td>\n",
       "      <td>52</td>\n",
       "      <td>Too many to show</td>\n",
       "      <td>0</td>\n",
       "    </tr>\n",
       "    <tr>\n",
       "      <th>6</th>\n",
       "      <td>GRADE</td>\n",
       "      <td>object</td>\n",
       "      <td>0</td>\n",
       "      <td>123</td>\n",
       "      <td>Too many to show</td>\n",
       "      <td>0</td>\n",
       "    </tr>\n",
       "    <tr>\n",
       "      <th>8</th>\n",
       "      <td>JOB_FAMILY</td>\n",
       "      <td>object</td>\n",
       "      <td>0</td>\n",
       "      <td>1448</td>\n",
       "      <td>Too many to show</td>\n",
       "      <td>0</td>\n",
       "    </tr>\n",
       "    <tr>\n",
       "      <th>16</th>\n",
       "      <td>TERMINATION_DT</td>\n",
       "      <td>object</td>\n",
       "      <td>0</td>\n",
       "      <td>4353</td>\n",
       "      <td>Too many to show</td>\n",
       "      <td>0</td>\n",
       "    </tr>\n",
       "    <tr>\n",
       "      <th>11</th>\n",
       "      <td>LAST_HIRE_DT</td>\n",
       "      <td>object</td>\n",
       "      <td>0</td>\n",
       "      <td>8396</td>\n",
       "      <td>Too many to show</td>\n",
       "      <td>0</td>\n",
       "    </tr>\n",
       "    <tr>\n",
       "      <th>7</th>\n",
       "      <td>HIRE_DT</td>\n",
       "      <td>object</td>\n",
       "      <td>0</td>\n",
       "      <td>8858</td>\n",
       "      <td>Too many to show</td>\n",
       "      <td>0</td>\n",
       "    </tr>\n",
       "    <tr>\n",
       "      <th>14</th>\n",
       "      <td>SERVICE_DT</td>\n",
       "      <td>object</td>\n",
       "      <td>0</td>\n",
       "      <td>13628</td>\n",
       "      <td>Too many to show</td>\n",
       "      <td>0</td>\n",
       "    </tr>\n",
       "    <tr>\n",
       "      <th>17</th>\n",
       "      <td>Tenure_tdelta</td>\n",
       "      <td>object</td>\n",
       "      <td>0</td>\n",
       "      <td>14664</td>\n",
       "      <td>Too many to show</td>\n",
       "      <td>0</td>\n",
       "    </tr>\n",
       "    <tr>\n",
       "      <th>0</th>\n",
       "      <td>Age_tdelta</td>\n",
       "      <td>object</td>\n",
       "      <td>0</td>\n",
       "      <td>18185</td>\n",
       "      <td>Too many to show</td>\n",
       "      <td>0</td>\n",
       "    </tr>\n",
       "    <tr>\n",
       "      <th>1</th>\n",
       "      <td>BIRTHDATE</td>\n",
       "      <td>object</td>\n",
       "      <td>0</td>\n",
       "      <td>20133</td>\n",
       "      <td>Too many to show</td>\n",
       "      <td>0</td>\n",
       "    </tr>\n",
       "    <tr>\n",
       "      <th>10</th>\n",
       "      <td>KEY</td>\n",
       "      <td>object</td>\n",
       "      <td>0</td>\n",
       "      <td>134189</td>\n",
       "      <td>Too many to show</td>\n",
       "      <td>0</td>\n",
       "    </tr>\n",
       "  </tbody>\n",
       "</table>\n",
       "</div>"
      ],
      "text/plain": [
       "               feature datatype  nmissing   arity  \\\n",
       "15               SHIFT   object         0       4   \n",
       "4            EMPL_TYPE   object         0       4   \n",
       "5       FULL_PART_TIME   object         0       4   \n",
       "3           EMPL_CLASS   object         0       5   \n",
       "2             EEO1CODE   object         0      10   \n",
       "9         JOB_FUNCTION   object         0      19   \n",
       "13  LOC_TYPE_DESCR_SFI   object         0      31   \n",
       "12           LOC_STATE   object         0      52   \n",
       "6                GRADE   object         0     123   \n",
       "8           JOB_FAMILY   object         0    1448   \n",
       "16      TERMINATION_DT   object         0    4353   \n",
       "11        LAST_HIRE_DT   object         0    8396   \n",
       "7              HIRE_DT   object         0    8858   \n",
       "14          SERVICE_DT   object         0   13628   \n",
       "17       Tenure_tdelta   object         0   14664   \n",
       "0           Age_tdelta   object         0   18185   \n",
       "1            BIRTHDATE   object         0   20133   \n",
       "10                 KEY   object         0  134189   \n",
       "\n",
       "                                      accepted values  x_missing  \n",
       "15                                       [1, 3, N, 2]          0  \n",
       "4                                        [S, H, E, N]          0  \n",
       "5                                        [F, P, X, N]          0  \n",
       "3                                     [1, D, 3, G, 5]          0  \n",
       "2                      [2, 5, 1, 4, 3, 7, 6, N, L, 8]          0  \n",
       "9   [PTE, PSA, PTB, MGT, PSC, PTD, PSB, PTC, PTA, ...          0  \n",
       "13                                   Too many to show          0  \n",
       "12                                   Too many to show          0  \n",
       "6                                    Too many to show          0  \n",
       "8                                    Too many to show          0  \n",
       "16                                   Too many to show          0  \n",
       "11                                   Too many to show          0  \n",
       "7                                    Too many to show          0  \n",
       "14                                   Too many to show          0  \n",
       "17                                   Too many to show          0  \n",
       "0                                    Too many to show          0  \n",
       "1                                    Too many to show          0  \n",
       "10                                   Too many to show          0  "
      ]
     },
     "execution_count": 13,
     "metadata": {},
     "output_type": "execute_result"
    }
   ],
   "source": [
    "sdf_cat = br.summarize_dataframe(empl1[cat_cols2])\n",
    "sdf_cat.sort_values(by='arity')"
   ]
  },
  {
   "cell_type": "markdown",
   "metadata": {},
   "source": [
    "#### explore the distribution for arity between 19 and 55"
   ]
  },
  {
   "cell_type": "code",
   "execution_count": 14,
   "metadata": {
    "collapsed": false
   },
   "outputs": [
    {
     "data": {
      "text/plain": [
       "PSA    52239\n",
       "PTB    24745\n",
       "PTA    15322\n",
       "MGT    11109\n",
       "NSA     5741\n",
       "PTC     5268\n",
       "PTE     5237\n",
       "XXX     4515\n",
       "PSB     4169\n",
       "PSC     3114\n",
       "PTD      965\n",
       "PTI      955\n",
       "PTF      280\n",
       "PTG      188\n",
       "PTL      167\n",
       "PTH      124\n",
       "PTK       28\n",
       "PTJ       21\n",
       "PTM        2\n",
       "Name: JOB_FUNCTION, dtype: int64"
      ]
     },
     "execution_count": 14,
     "metadata": {},
     "output_type": "execute_result"
    }
   ],
   "source": [
    "empl1.JOB_FUNCTION.value_counts()"
   ]
  },
  {
   "cell_type": "code",
   "execution_count": 15,
   "metadata": {
    "collapsed": false
   },
   "outputs": [
    {
     "data": {
      "text/plain": [
       "OPERATIONS CENTER                 86292\n",
       "CORPORATE HEADQUARTERS            18816\n",
       "TELEWORKER - MOBILE               10412\n",
       "CLAIM SERVICE CENTER(CSC)          5652\n",
       "AGENCY FIELD OFFICE(AFO)           3436\n",
       "CLAIM LITIGATION COUNSEL(CLC)      3055\n",
       "MULT-USE FACILITY                  1887\n",
       "INSURANCE SUPPORT CENTER(ISC)      1340\n",
       "ADMINISTRATIVE BUILDING             902\n",
       "REGIONAL OFFICE                     662\n",
       "TELECOMMUTER (HOME RESIDENCE)       481\n",
       "MULT-REGIONAL SERVICE FACILITY      326\n",
       "TELECOMMUTER - EMP INITATED         282\n",
       "TELECOMMUTERS(HOME RESIDENCE)       218\n",
       "VACANT FACILITY                     176\n",
       "WAREHOUSE                            52\n",
       "MARKET AFO                           37\n",
       "ESTIMATING STATION                   33\n",
       "MARKETING CENTER                     26\n",
       "REGIONAL AUDIT CONSULTANT(RAC)       20\n",
       "CUSTOMER SRVC DIV/MKT CENTER         20\n",
       "SPECIAL INVESTIGATIVE UNIT-SIU       15\n",
       "CATASTROPHE OFFICE                    9\n",
       "AGENT OFFICE                          9\n",
       "TELEWORKER-REMOTE                     8\n",
       "EMERGENCY SERVICE PROGRAM(ESP)        8\n",
       "TELECOMMUTER - COMP INITATED          7\n",
       "NON-STATE FARM TENANT                 3\n",
       "TELECOMMUTER-SPACE CONSTRAINTS        2\n",
       "UNKNOWN LOCATION TYPE                 2\n",
       "MISSING                               1\n",
       "Name: LOC_TYPE_DESCR_SFI, dtype: int64"
      ]
     },
     "execution_count": 15,
     "metadata": {},
     "output_type": "execute_result"
    }
   ],
   "source": [
    "empl1.LOC_TYPE_DESCR_SFI.value_counts()"
   ]
  },
  {
   "cell_type": "markdown",
   "metadata": {},
   "source": [
    "### let me create a dictionary for this (LOC_TYPE_DESCR_SFI)"
   ]
  },
  {
   "cell_type": "code",
   "execution_count": 16,
   "metadata": {
    "collapsed": false
   },
   "outputs": [
    {
     "name": "stdout",
     "output_type": "stream",
     "text": [
      "31 21\n"
     ]
    }
   ],
   "source": [
    "loc_descriptions = empl1.LOC_TYPE_DESCR_SFI.unique().tolist()\n",
    "short_loc_descript = {}\n",
    "for loc_name in loc_descriptions:\n",
    "    if loc_name.endswith(')'):\n",
    "        short_name = loc_name[-4:-1]\n",
    "        if short_name == 'NCE':\n",
    "            short_loc_descript[loc_name]='TELE'\n",
    "        else:\n",
    "            short_loc_descript[loc_name]=short_name\n",
    "    elif loc_name.startswith('TELE'):\n",
    "        short_loc_descript[loc_name]='TELE'\n",
    "    elif loc_name.endswith('SIU'):\n",
    "        short_loc_descript[loc_name]='SIU'\n",
    "    elif loc_name.startswith('OPERATIONS'):\n",
    "        short_loc_descript[loc_name]='OC'\n",
    "    elif loc_name.startswith('CORP'):\n",
    "        short_loc_descript[loc_name]='CORP'\n",
    "    elif loc_name.endswith('CENTER'):\n",
    "        short_loc_descript[loc_name]='MC' # marketing center\n",
    "    elif loc_name.endswith('AFO'):\n",
    "        short_loc_descript[loc_name]='AFO'\n",
    "    elif loc_name.endswith('OFFICE'):\n",
    "        if loc_name.startswith('AGENT'):\n",
    "            short_loc_descript[loc_name]='AO' # agent office\n",
    "        elif loc_name.startswith('REGION'):\n",
    "            short_loc_descript[loc_name]='RO' # regional office\n",
    "        elif loc_name.startswith('CATA'):\n",
    "            short_loc_descript[loc_name]='CAT' # catastrophe office\n",
    "    elif loc_name.startswith('EST'):\n",
    "        short_loc_descript[loc_name]='EST' # estimating station\n",
    "    elif loc_name.startswith('ADM'):\n",
    "        short_loc_descript[loc_name]='ADM' # estimating station\n",
    "    elif loc_name.startswith('WARE'):\n",
    "        short_loc_descript[loc_name]='WARE' # estimating station\n",
    "    elif loc_name.startswith('VAC'):\n",
    "        short_loc_descript[loc_name]='VAC' # estimating station\n",
    "    elif loc_name.startswith('MULT-USE'):\n",
    "        short_loc_descript[loc_name]='MF' # estimating station\n",
    "    elif loc_name.startswith('MULT-REG'):\n",
    "        short_loc_descript[loc_name]='MRSF' # estimating station\n",
    "    else: \n",
    "        short_loc_descript[loc_name]='UNK'\n",
    "\n",
    "print len(short_loc_descript.keys()), len(set(short_loc_descript.values()))"
   ]
  },
  {
   "cell_type": "code",
   "execution_count": 17,
   "metadata": {
    "collapsed": true
   },
   "outputs": [],
   "source": [
    "empl1['loc_desc']=empl1['LOC_TYPE_DESCR_SFI'].apply(lambda x: short_loc_descript[x])"
   ]
  },
  {
   "cell_type": "code",
   "execution_count": 18,
   "metadata": {
    "collapsed": false
   },
   "outputs": [
    {
     "data": {
      "text/plain": [
       "['EMPL_TYPE',\n",
       " 'FULL_PART_TIME',\n",
       " 'SHIFT',\n",
       " 'EMPL_CLASS',\n",
       " 'EEO1CODE',\n",
       " 'JOB_FUNCTION',\n",
       " 'loc_desc']"
      ]
     },
     "execution_count": 18,
     "metadata": {},
     "output_type": "execute_result"
    }
   ],
   "source": [
    "max_arity = 33\n",
    "cat_cols_to_dummy = sdf_cat[sdf_cat.arity < max_arity].sort_values(by='arity').feature.tolist()\n",
    "cat_cols_to_dummy.remove('LOC_TYPE_DESCR_SFI')\n",
    "cat_cols_to_dummy.append('loc_desc')\n",
    "cat_cols_to_dummy"
   ]
  },
  {
   "cell_type": "code",
   "execution_count": null,
   "metadata": {
    "collapsed": true
   },
   "outputs": [],
   "source": [
    "#cat_cols_to_dummy.remove('loc_desc')"
   ]
  },
  {
   "cell_type": "code",
   "execution_count": 19,
   "metadata": {
    "collapsed": false
   },
   "outputs": [
    {
     "data": {
      "text/plain": [
       "10"
      ]
     },
     "execution_count": 19,
     "metadata": {},
     "output_type": "execute_result"
    }
   ],
   "source": [
    "cat_cols_to_ignore = ['KEY','BIRTHDATE','SERVICE_DT','HIRE_DT','TERMINATION_DT','LAST_HIRE_DT']\n",
    "cat_cols_to_drop = ['Tenure_tdelta','Age_tdelta', 'LOC_TYPE_DESCR_SFI']\n",
    "cat_cols3 = list(set(cat_cols2) - set(cat_cols_to_drop)-set(cat_cols_to_ignore))\n",
    "cat_cols3.append('loc_desc')\n",
    "len(cat_cols3)"
   ]
  },
  {
   "cell_type": "code",
   "execution_count": 20,
   "metadata": {
    "collapsed": false
   },
   "outputs": [
    {
     "data": {
      "text/plain": [
       "['EEO1CODE',\n",
       " 'EMPL_TYPE',\n",
       " 'FULL_PART_TIME',\n",
       " 'EMPL_CLASS',\n",
       " 'GRADE',\n",
       " 'SHIFT',\n",
       " 'LOC_STATE',\n",
       " 'JOB_FUNCTION',\n",
       " 'JOB_FAMILY',\n",
       " 'loc_desc']"
      ]
     },
     "execution_count": 20,
     "metadata": {},
     "output_type": "execute_result"
    }
   ],
   "source": [
    "cat_cols3"
   ]
  },
  {
   "cell_type": "code",
   "execution_count": 21,
   "metadata": {
    "collapsed": false
   },
   "outputs": [
    {
     "data": {
      "text/plain": [
       "Index([u'ADM', u'AFO', u'AO', u'CAT', u'CLC', u'CORP', u'CSC', u'ESP', u'EST',\n",
       "       u'ISC', u'MC', u'MF', u'MRSF', u'OC', u'RAC', u'RO', u'SIU', u'TELE',\n",
       "       u'UNK', u'VAC', u'WARE'],\n",
       "      dtype='object')"
      ]
     },
     "execution_count": 21,
     "metadata": {},
     "output_type": "execute_result"
    }
   ],
   "source": [
    "#cat_cols3.remove('loc_desc')\n",
    "pd.get_dummies(empl1['loc_desc']).columns"
   ]
  },
  {
   "cell_type": "code",
   "execution_count": 22,
   "metadata": {
    "collapsed": false
   },
   "outputs": [
    {
     "data": {
      "text/plain": [
       "(134189, 127)"
      ]
     },
     "execution_count": 22,
     "metadata": {},
     "output_type": "execute_result"
    }
   ],
   "source": [
    "empl1.shape"
   ]
  },
  {
   "cell_type": "code",
   "execution_count": 27,
   "metadata": {
    "collapsed": false
   },
   "outputs": [
    {
     "data": {
      "text/plain": [
       "0    69475\n",
       "1    64714\n",
       "Name: status, dtype: int64"
      ]
     },
     "execution_count": 27,
     "metadata": {},
     "output_type": "execute_result"
    }
   ],
   "source": [
    "empl1.status.value_counts()"
   ]
  },
  {
   "cell_type": "code",
   "execution_count": 35,
   "metadata": {
    "collapsed": false
   },
   "outputs": [
    {
     "data": {
      "text/plain": [
       "0    69475\n",
       "1    43198\n",
       "2    21516\n",
       "Name: sep_status, dtype: int64"
      ]
     },
     "execution_count": 35,
     "metadata": {},
     "output_type": "execute_result"
    }
   ],
   "source": [
    "empl1.sep_status.value_counts()"
   ]
  },
  {
   "cell_type": "code",
   "execution_count": 29,
   "metadata": {
    "collapsed": false
   },
   "outputs": [
    {
     "data": {
      "text/plain": [
       "(0    119326\n",
       " 1     14863\n",
       " Name: retired, dtype: int64, 0    84338\n",
       " 1    49851\n",
       " Name: terminated, dtype: int64)"
      ]
     },
     "execution_count": 29,
     "metadata": {},
     "output_type": "execute_result"
    }
   ],
   "source": [
    "empl1.retired.value_counts(), empl1.terminated.value_counts()"
   ]
  },
  {
   "cell_type": "code",
   "execution_count": 31,
   "metadata": {
    "collapsed": false
   },
   "outputs": [
    {
     "data": {
      "text/plain": [
       "(count    49851.000000\n",
       " mean        35.499068\n",
       " std          9.998231\n",
       " min         15.740227\n",
       " 25%         27.279136\n",
       " 50%         33.925406\n",
       " 75%         42.552551\n",
       " max         92.346865\n",
       " Name: Age_years, dtype: float64, count    14863.000000\n",
       " mean        60.668134\n",
       " std          3.625969\n",
       " min         54.999076\n",
       " 25%         57.728769\n",
       " 50%         60.849983\n",
       " 75%         62.707653\n",
       " max         82.345291\n",
       " Name: Age_years, dtype: float64)"
      ]
     },
     "execution_count": 31,
     "metadata": {},
     "output_type": "execute_result"
    }
   ],
   "source": [
    "empl1[empl1.terminated==1].Age_years.describe(), empl1[empl1.retired==1].Age_years.describe()"
   ]
  },
  {
   "cell_type": "code",
   "execution_count": 67,
   "metadata": {
    "collapsed": false
   },
   "outputs": [
    {
     "data": {
      "text/plain": [
       "228"
      ]
     },
     "execution_count": 67,
     "metadata": {},
     "output_type": "execute_result"
    }
   ],
   "source": [
    "len(empl1[(empl1.Age_years >= 54.5)& (empl1.Age_years < 55) & (empl1.status==1)][['Age_years','Tenure_years','BIRTHDATE','status','retired']])"
   ]
  },
  {
   "cell_type": "code",
   "execution_count": 71,
   "metadata": {
    "collapsed": false
   },
   "outputs": [
    {
     "data": {
      "text/plain": [
       "count    99.000000\n",
       "mean     54.873049\n",
       "std       0.073517\n",
       "min      54.752664\n",
       "25%      54.807422\n",
       "50%      54.862181\n",
       "75%      54.940211\n",
       "max      54.999076\n",
       "Name: Age_years, dtype: float64"
      ]
     },
     "execution_count": 71,
     "metadata": {},
     "output_type": "execute_result"
    }
   ],
   "source": [
    "empl1[(empl1.Age_years >= 54.75)& (empl1.Age_years < 55) & (empl1.status==1)].Age_years.describe()\n",
    "#.retired.value_counts()#[['Age_years','Tenure_years','BIRTHDATE','status','retired']]"
   ]
  },
  {
   "cell_type": "code",
   "execution_count": 36,
   "metadata": {
    "collapsed": false
   },
   "outputs": [
    {
     "data": {
      "text/plain": [
       "5094"
      ]
     },
     "execution_count": 36,
     "metadata": {},
     "output_type": "execute_result"
    }
   ],
   "source": [
    "len(empl1[(empl1.terminated==1) & (empl1.Age_years>=50)])"
   ]
  },
  {
   "cell_type": "code",
   "execution_count": 38,
   "metadata": {
    "collapsed": false
   },
   "outputs": [
    {
     "data": {
      "text/plain": [
       "(0.03424204128302341, 0.10218450983932117)"
      ]
     },
     "execution_count": 38,
     "metadata": {},
     "output_type": "execute_result"
    }
   ],
   "source": [
    "1707/float(49851), 5094/float(49851)"
   ]
  },
  {
   "cell_type": "code",
   "execution_count": null,
   "metadata": {
    "collapsed": true
   },
   "outputs": [],
   "source": [
    "## Create two new indicators for retired and separated that are 'age' based\n",
    "* basically retired if someone is not current and age => min_age\n",
    "* basically separated if not current and age < min_age\n",
    "* try setting min_age at 55"
   ]
  },
  {
   "cell_type": "markdown",
   "metadata": {},
   "source": [
    "#### look at relationship between 'HUBIND' and loc_desc"
   ]
  },
  {
   "cell_type": "code",
   "execution_count": 23,
   "metadata": {
    "collapsed": false
   },
   "outputs": [
    {
     "data": {
      "text/html": [
       "<div>\n",
       "<table border=\"1\" class=\"dataframe\">\n",
       "  <thead>\n",
       "    <tr style=\"text-align: right;\">\n",
       "      <th>loc_desc</th>\n",
       "      <th>ADM</th>\n",
       "      <th>AFO</th>\n",
       "      <th>AO</th>\n",
       "      <th>CAT</th>\n",
       "      <th>CLC</th>\n",
       "      <th>CORP</th>\n",
       "      <th>CSC</th>\n",
       "      <th>ESP</th>\n",
       "      <th>EST</th>\n",
       "      <th>ISC</th>\n",
       "      <th>...</th>\n",
       "      <th>MF</th>\n",
       "      <th>MRSF</th>\n",
       "      <th>OC</th>\n",
       "      <th>RAC</th>\n",
       "      <th>RO</th>\n",
       "      <th>SIU</th>\n",
       "      <th>TELE</th>\n",
       "      <th>UNK</th>\n",
       "      <th>VAC</th>\n",
       "      <th>WARE</th>\n",
       "    </tr>\n",
       "    <tr>\n",
       "      <th>HUBIND</th>\n",
       "      <th></th>\n",
       "      <th></th>\n",
       "      <th></th>\n",
       "      <th></th>\n",
       "      <th></th>\n",
       "      <th></th>\n",
       "      <th></th>\n",
       "      <th></th>\n",
       "      <th></th>\n",
       "      <th></th>\n",
       "      <th></th>\n",
       "      <th></th>\n",
       "      <th></th>\n",
       "      <th></th>\n",
       "      <th></th>\n",
       "      <th></th>\n",
       "      <th></th>\n",
       "      <th></th>\n",
       "      <th></th>\n",
       "      <th></th>\n",
       "      <th></th>\n",
       "    </tr>\n",
       "  </thead>\n",
       "  <tbody>\n",
       "    <tr>\n",
       "      <th>0</th>\n",
       "      <td>645</td>\n",
       "      <td>3473</td>\n",
       "      <td>9</td>\n",
       "      <td>9</td>\n",
       "      <td>3055</td>\n",
       "      <td>77</td>\n",
       "      <td>5652</td>\n",
       "      <td>8</td>\n",
       "      <td>33</td>\n",
       "      <td>0</td>\n",
       "      <td>...</td>\n",
       "      <td>1874</td>\n",
       "      <td>326</td>\n",
       "      <td>58426</td>\n",
       "      <td>20</td>\n",
       "      <td>531</td>\n",
       "      <td>15</td>\n",
       "      <td>11410</td>\n",
       "      <td>6</td>\n",
       "      <td>176</td>\n",
       "      <td>19</td>\n",
       "    </tr>\n",
       "    <tr>\n",
       "      <th>1</th>\n",
       "      <td>257</td>\n",
       "      <td>0</td>\n",
       "      <td>0</td>\n",
       "      <td>0</td>\n",
       "      <td>0</td>\n",
       "      <td>18739</td>\n",
       "      <td>0</td>\n",
       "      <td>0</td>\n",
       "      <td>0</td>\n",
       "      <td>1340</td>\n",
       "      <td>...</td>\n",
       "      <td>13</td>\n",
       "      <td>0</td>\n",
       "      <td>27866</td>\n",
       "      <td>0</td>\n",
       "      <td>131</td>\n",
       "      <td>0</td>\n",
       "      <td>0</td>\n",
       "      <td>0</td>\n",
       "      <td>0</td>\n",
       "      <td>33</td>\n",
       "    </tr>\n",
       "  </tbody>\n",
       "</table>\n",
       "<p>2 rows × 21 columns</p>\n",
       "</div>"
      ],
      "text/plain": [
       "loc_desc  ADM   AFO  AO  CAT   CLC   CORP   CSC  ESP  EST   ISC  ...     MF  \\\n",
       "HUBIND                                                           ...          \n",
       "0         645  3473   9    9  3055     77  5652    8   33     0  ...   1874   \n",
       "1         257     0   0    0     0  18739     0    0    0  1340  ...     13   \n",
       "\n",
       "loc_desc  MRSF     OC  RAC   RO  SIU   TELE  UNK  VAC  WARE  \n",
       "HUBIND                                                       \n",
       "0          326  58426   20  531   15  11410    6  176    19  \n",
       "1            0  27866    0  131    0      0    0    0    33  \n",
       "\n",
       "[2 rows x 21 columns]"
      ]
     },
     "execution_count": 23,
     "metadata": {},
     "output_type": "execute_result"
    }
   ],
   "source": [
    "pd.crosstab(empl1.HUBIND, empl1.loc_desc)"
   ]
  },
  {
   "cell_type": "code",
   "execution_count": 26,
   "metadata": {
    "collapsed": false
   },
   "outputs": [
    {
     "data": {
      "text/plain": [
       "IL    21595\n",
       "TX     8501\n",
       "GA     8401\n",
       "AZ     6788\n",
       "WA     3024\n",
       "OR       70\n",
       "Name: LOC_STATE, dtype: int64"
      ]
     },
     "execution_count": 26,
     "metadata": {},
     "output_type": "execute_result"
    }
   ],
   "source": [
    "empl1[empl1.HUBIND==1].LOC_STATE.value_counts()"
   ]
  },
  {
   "cell_type": "code",
   "execution_count": 58,
   "metadata": {
    "collapsed": false
   },
   "outputs": [
    {
     "data": {
      "text/plain": [
       "23690"
      ]
     },
     "execution_count": 58,
     "metadata": {},
     "output_type": "execute_result"
    }
   ],
   "source": [
    "8501+8401+6788"
   ]
  },
  {
   "cell_type": "markdown",
   "metadata": {},
   "source": [
    "##  create a new hubind variable that only includes GA, TX & AZ employees\n"
   ]
  },
  {
   "cell_type": "code",
   "execution_count": 57,
   "metadata": {
    "collapsed": false
   },
   "outputs": [
    {
     "data": {
      "text/plain": [
       "23690"
      ]
     },
     "execution_count": 57,
     "metadata": {},
     "output_type": "execute_result"
    }
   ],
   "source": [
    "#empl1[rhubind] = 0\n",
    "len(empl1[(empl1.HUBIND==1)&(empl1.LOC_STATE.isin(['GA','TX','AZ']))])"
   ]
  },
  {
   "cell_type": "code",
   "execution_count": 60,
   "metadata": {
    "collapsed": false
   },
   "outputs": [
    {
     "data": {
      "text/plain": [
       "0    110499\n",
       "1     23690\n",
       "Name: rhubind, dtype: int64"
      ]
     },
     "execution_count": 60,
     "metadata": {},
     "output_type": "execute_result"
    }
   ],
   "source": [
    "empl1['rhubind']=0\n",
    "empl1.loc[empl1[(empl1.HUBIND==1)&(empl1.LOC_STATE.isin(['GA','TX','AZ']))].index,'rhubind']=1\n",
    "empl1.rhubind.value_counts()"
   ]
  },
  {
   "cell_type": "markdown",
   "metadata": {},
   "source": [
    "# Utilize Pipelines\n",
    "* restrict the columns that I want to consider\n",
    "* apply logic to:\n",
    "    1. parse the categorical cols\n",
    "    2. fill in missing values (MERIT1, PERF1)\n",
    "    3. deal with numeric outliers\n",
    "    "
   ]
  },
  {
   "cell_type": "code",
   "execution_count": 39,
   "metadata": {
    "collapsed": true
   },
   "outputs": [],
   "source": [
    "from sklearn.pipeline import Pipeline,FeatureUnion\n",
    "from sklearn import ensemble,metrics,cross_validation"
   ]
  },
  {
   "cell_type": "code",
   "execution_count": 40,
   "metadata": {
    "collapsed": true
   },
   "outputs": [],
   "source": [
    "potential_target_cols = ['status','sep_status','retired','terminated']"
   ]
  },
  {
   "cell_type": "code",
   "execution_count": 41,
   "metadata": {
    "collapsed": false
   },
   "outputs": [
    {
     "data": {
      "text/plain": [
       "['MERIT1', 'PERF1']"
      ]
     },
     "execution_count": 41,
     "metadata": {},
     "output_type": "execute_result"
    }
   ],
   "source": [
    "missing_cols = br.get_columns_with_nulls(empl1)\n",
    "missing_cols"
   ]
  },
  {
   "cell_type": "markdown",
   "metadata": {},
   "source": [
    "### 3.  Look at these numerical ones\n",
    "* replace missing with mode?\n",
    "* fix outliers in the pipe"
   ]
  },
  {
   "cell_type": "code",
   "execution_count": 42,
   "metadata": {
    "collapsed": false
   },
   "outputs": [
    {
     "data": {
      "text/plain": [
       "<matplotlib.axes._subplots.AxesSubplot at 0x7fc6a132c5d0>"
      ]
     },
     "execution_count": 42,
     "metadata": {},
     "output_type": "execute_result"
    },
    {
     "data": {
      "image/png": "[encoded data removed]",
      "text/plain": [
       "<matplotlib.figure.Figure at 0x7fc6a1338e50>"
      ]
     },
     "metadata": {},
     "output_type": "display_data"
    }
   ],
   "source": [
    "sns.distplot(empl1[empl1.MERIT1.notnull()].MERIT1)"
   ]
  },
  {
   "cell_type": "code",
   "execution_count": 43,
   "metadata": {
    "collapsed": false
   },
   "outputs": [
    {
     "data": {
      "text/plain": [
       "<matplotlib.axes._subplots.AxesSubplot at 0x7fc6a15b01d0>"
      ]
     },
     "execution_count": 43,
     "metadata": {},
     "output_type": "execute_result"
    },
    {
     "data": {
      "image/png": "[encoded data removed]",
      "text/plain": [
       "<matplotlib.figure.Figure at 0x7fc6a06750d0>"
      ]
     },
     "metadata": {},
     "output_type": "display_data"
    }
   ],
   "source": [
    "sns.distplot(empl1[empl1.PERF1.notnull()].PERF1)"
   ]
  },
  {
   "cell_type": "code",
   "execution_count": 44,
   "metadata": {
    "collapsed": false
   },
   "outputs": [
    {
     "data": {
      "text/html": [
       "<div>\n",
       "<table border=\"1\" class=\"dataframe\">\n",
       "  <thead>\n",
       "    <tr style=\"text-align: right;\">\n",
       "      <th></th>\n",
       "      <th>MERIT1</th>\n",
       "      <th>PERF1</th>\n",
       "    </tr>\n",
       "  </thead>\n",
       "  <tbody>\n",
       "    <tr>\n",
       "      <th>count</th>\n",
       "      <td>119146.000000</td>\n",
       "      <td>119146.000000</td>\n",
       "    </tr>\n",
       "    <tr>\n",
       "      <th>mean</th>\n",
       "      <td>1484.156075</td>\n",
       "      <td>1852.501799</td>\n",
       "    </tr>\n",
       "    <tr>\n",
       "      <th>std</th>\n",
       "      <td>1981.576853</td>\n",
       "      <td>1811.616211</td>\n",
       "    </tr>\n",
       "    <tr>\n",
       "      <th>min</th>\n",
       "      <td>-45000.000000</td>\n",
       "      <td>0.000000</td>\n",
       "    </tr>\n",
       "    <tr>\n",
       "      <th>25%</th>\n",
       "      <td>482.752500</td>\n",
       "      <td>471.302500</td>\n",
       "    </tr>\n",
       "    <tr>\n",
       "      <th>50%</th>\n",
       "      <td>1283.330000</td>\n",
       "      <td>1444.500000</td>\n",
       "    </tr>\n",
       "    <tr>\n",
       "      <th>75%</th>\n",
       "      <td>2132.705000</td>\n",
       "      <td>2784.275000</td>\n",
       "    </tr>\n",
       "    <tr>\n",
       "      <th>max</th>\n",
       "      <td>35000.000000</td>\n",
       "      <td>56751.140000</td>\n",
       "    </tr>\n",
       "  </tbody>\n",
       "</table>\n",
       "</div>"
      ],
      "text/plain": [
       "              MERIT1          PERF1\n",
       "count  119146.000000  119146.000000\n",
       "mean     1484.156075    1852.501799\n",
       "std      1981.576853    1811.616211\n",
       "min    -45000.000000       0.000000\n",
       "25%       482.752500     471.302500\n",
       "50%      1283.330000    1444.500000\n",
       "75%      2132.705000    2784.275000\n",
       "max     35000.000000   56751.140000"
      ]
     },
     "execution_count": 44,
     "metadata": {},
     "output_type": "execute_result"
    }
   ],
   "source": [
    "empl1[['MERIT1','PERF1']].describe()"
   ]
  },
  {
   "cell_type": "code",
   "execution_count": 45,
   "metadata": {
    "collapsed": false
   },
   "outputs": [
    {
     "data": {
      "text/plain": [
       "MERIT1    1283.33\n",
       "PERF1     1444.50\n",
       "dtype: float64"
      ]
     },
     "execution_count": 45,
     "metadata": {},
     "output_type": "execute_result"
    }
   ],
   "source": [
    "empl1[['MERIT1','PERF1']].median()"
   ]
  },
  {
   "cell_type": "code",
   "execution_count": 52,
   "metadata": {
    "collapsed": false
   },
   "outputs": [
    {
     "data": {
      "text/plain": [
       "-23048.2552"
      ]
     },
     "execution_count": 52,
     "metadata": {},
     "output_type": "execute_result"
    }
   ],
   "source": [
    "np.percentile(empl1[empl1.MERIT1.notnull()].MERIT1.values,0.05)"
   ]
  },
  {
   "cell_type": "code",
   "execution_count": 51,
   "metadata": {
    "collapsed": false
   },
   "outputs": [
    {
     "data": {
      "text/plain": [
       "0.0"
      ]
     },
     "execution_count": 51,
     "metadata": {},
     "output_type": "execute_result"
    }
   ],
   "source": [
    "np.percentile(empl1[empl1.PERF1.notnull()].PERF1.values,0.02)"
   ]
  },
  {
   "cell_type": "markdown",
   "metadata": {},
   "source": [
    "### 4. Now deal with the categorical ones\n",
    "* dummy_encode 7;\n",
    "* label_encode 3: GRADE, JOB_FAMILY, LOC_STATE\n"
   ]
  },
  {
   "cell_type": "code",
   "execution_count": 53,
   "metadata": {
    "collapsed": false
   },
   "outputs": [
    {
     "data": {
      "text/plain": [
       "['EMPL_TYPE',\n",
       " 'FULL_PART_TIME',\n",
       " 'SHIFT',\n",
       " 'EMPL_CLASS',\n",
       " 'EEO1CODE',\n",
       " 'JOB_FUNCTION',\n",
       " 'loc_desc']"
      ]
     },
     "execution_count": 53,
     "metadata": {},
     "output_type": "execute_result"
    }
   ],
   "source": [
    "cat_cols_to_dummy"
   ]
  },
  {
   "cell_type": "markdown",
   "metadata": {},
   "source": [
    "### Add a few categorical columns that already have Integer values:\n",
    "* COMPANY\n",
    "* DIVISION_CODE_SFI"
   ]
  },
  {
   "cell_type": "code",
   "execution_count": 54,
   "metadata": {
    "collapsed": false
   },
   "outputs": [
    {
     "data": {
      "text/plain": [
       "[('DIVISION_CODE_SFI', 9),\n",
       " ('EXT_FUNC_ID_SFI', 336),\n",
       " ('FLOR_SFI', 108),\n",
       " ('FUNC_ID_SFI', 53),\n",
       " ('LOC_TYPE_DESCR_SFI', 31),\n",
       " ('RELOCATE_ALL_SFI', 2),\n",
       " ('RELO_STATE_CNT_SFI', 55)]"
      ]
     },
     "execution_count": 54,
     "metadata": {},
     "output_type": "execute_result"
    }
   ],
   "source": [
    "[(a,empl1[a].nunique()) for a in empl1.columns.tolist() if a.endswith('SFI')] # these are technically more categorical"
   ]
  },
  {
   "cell_type": "code",
   "execution_count": 55,
   "metadata": {
    "collapsed": false
   },
   "outputs": [],
   "source": [
    "cat_cols_to_dummy.append('COMPANY')\n",
    "cat_cols_to_dummy.append('DIVISION_CODE_SFI')"
   ]
  },
  {
   "cell_type": "code",
   "execution_count": 56,
   "metadata": {
    "collapsed": true
   },
   "outputs": [],
   "source": [
    "my_label_encode_cols = ['GRADE','JOB_FAMILY','LOC_STATE']"
   ]
  },
  {
   "cell_type": "markdown",
   "metadata": {},
   "source": [
    "### 5. Drop some columns"
   ]
  },
  {
   "cell_type": "code",
   "execution_count": 72,
   "metadata": {
    "collapsed": false
   },
   "outputs": [
    {
     "data": {
      "text/plain": [
       "(119, 128)"
      ]
     },
     "execution_count": 72,
     "metadata": {},
     "output_type": "execute_result"
    }
   ],
   "source": [
    "all_cols = empl1.columns.tolist()\n",
    "model_cols = [c for c in all_cols if not c in cat_cols_to_ignore]\n",
    "model_cols = [c for c in model_cols if not c in cat_cols_to_drop]\n",
    "len(model_cols), len(all_cols)"
   ]
  },
  {
   "cell_type": "code",
   "execution_count": 73,
   "metadata": {
    "collapsed": true
   },
   "outputs": [],
   "source": [
    "\n",
    "#cate_list = br.get_categorical(X)\n",
    "# need to break the categorical into types\n",
    "pipe = Pipeline([(\"null\", br.RemoveAllNull()),  \n",
    "                 (\"label_encode\",br.LabelEncodeColumn(my_label_encode_cols)),\n",
    "                 (\"dummy_encode\", br.DummyEncodeColumn(cat_cols_to_dummy)),\n",
    "                 #(\"survival_encode\",SurvivalEncodeColumn(my_label_encode_cols[:5],method='median')),\n",
    "                 #(\"cat\", br.ConvertCategorical(cate_list, rows_to_scan=0.3)),\n",
    "                 (\"fixout_min\",br.FixNumericOutlier(columns_to_fix=['SAL1','MIN_RT_ANNUAL','MERIT1','PERF1'],\n",
    "                                                    criteria_coef=('percentile',2),\n",
    "                                                   method='lower',fill_with='nearest_value')),\n",
    "                  (\"fixout_max\",br.FixNumericOutlier(columns_to_fix=['MAX_RT_ANNUAL'],criteria_coef=('percentile',2),\n",
    "                                                   method='both',fill_with='nearest_value')),\n",
    "                 #(\"fill_missingzero\",FillMissingValue(columns_to_fix=['BOX1','FUNC_CNT','EXTFUNC_CNT','TOTAL_RPT_CNT','DIRECT_RPT_CNT'],fill_value=0)),\n",
    "                 (\"imp_mode\",br.ImputeData(columns_to_impute=missing_cols,rows_to_scan=0.8))])\n",
    "                 #(\"imp_mean\", br.ImputeData(columns_to_impute='auto', rows_to_scan=0.8))])\n",
    "                 #(\"redu\", br.DimensionReduction(rows_to_scan=0.3, n_components=10))])\n",
    "#pipe.fit(X, y).transform(testX)[0:30]\n",
    "#\n",
    "#Xft = pipe.fit_transform(X)"
   ]
  },
  {
   "cell_type": "markdown",
   "metadata": {},
   "source": [
    "# Focus on Separation\n",
    "* eliminate those that were retired or are over 55.\n",
    "* create a test train split on this set\n",
    "* create and apply pipeline\n",
    "* remove redudant variables\n",
    "* build survival model"
   ]
  },
  {
   "cell_type": "code",
   "execution_count": 74,
   "metadata": {
    "collapsed": false
   },
   "outputs": [
    {
     "name": "stdout",
     "output_type": "stream",
     "text": [
      "105235\n"
     ]
    }
   ],
   "source": [
    "nr_em = empl1[(empl1.retired ==0)&(empl1.Age_years <=55)].copy()\n",
    "print (len(nr_em))"
   ]
  },
  {
   "cell_type": "markdown",
   "metadata": {},
   "source": [
    "### remove some of the historical columns"
   ]
  },
  {
   "cell_type": "code",
   "execution_count": 76,
   "metadata": {
    "collapsed": false
   },
   "outputs": [
    {
     "name": "stdout",
     "output_type": "stream",
     "text": [
      "['ADDRCNT10', 'DEPTCNT10', 'EFUNCCNT10', 'FLOORCNT10', 'FTPTCNT10', 'FULLPART10', 'FUNCCNT10', 'GRADECNT10', 'JOBCNT10', 'LOCCNT10', 'LOCSTCNT10', 'PARTFULL10', 'PTFTCNT10', 'SUPVCNT10']\n",
      "['CUR_DEPT_MOS', 'CUR_EFUNC_MOS', 'CUR_FUNC_MOS', 'CUR_GRADE_MOS', 'CUR_JOB_MOS', 'CUR_LOC_MOS', 'TELE_MOS']\n"
     ]
    }
   ],
   "source": [
    "historical_cols10 = [col for col in all_cols if col.endswith('10')]\n",
    "mos_cols = [col for col in all_cols if col.endswith('MOS')]\n",
    "print( historical_cols10)\n",
    "\n",
    "print(mos_cols)"
   ]
  },
  {
   "cell_type": "code",
   "execution_count": 77,
   "metadata": {
    "collapsed": false
   },
   "outputs": [
    {
     "data": {
      "text/plain": [
       "(14, 14, 14, 7)"
      ]
     },
     "execution_count": 77,
     "metadata": {},
     "output_type": "execute_result"
    }
   ],
   "source": [
    "historical_cols5 = [col for col in all_cols if col.endswith('5')]#[:-3]\n",
    "historical_cols3 =[col for col in all_cols if col.endswith('3')]#[:-4]\n",
    "len(historical_cols3), len(historical_cols5),len(historical_cols10), len(mos_cols)"
   ]
  },
  {
   "cell_type": "code",
   "execution_count": 78,
   "metadata": {
    "collapsed": false
   },
   "outputs": [
    {
     "name": "stdout",
     "output_type": "stream",
     "text": [
      "42\n"
     ]
    }
   ],
   "source": [
    "historical_cols = []\n",
    "historical_cols+=historical_cols3\n",
    "historical_cols+=historical_cols5\n",
    "historical_cols+=historical_cols10\n",
    "print len(historical_cols)"
   ]
  },
  {
   "cell_type": "markdown",
   "metadata": {},
   "source": [
    "### remove the time_stamp columns"
   ]
  },
  {
   "cell_type": "code",
   "execution_count": 80,
   "metadata": {
    "collapsed": false
   },
   "outputs": [
    {
     "name": "stdout",
     "output_type": "stream",
     "text": [
      "(128, 83)\n"
     ]
    }
   ],
   "source": [
    "sep_model_cols = [col for col in nr_em.columns.tolist() if not col.endswith('tstmp')]\n",
    "sep_model_cols = [col for col in sep_model_cols if not col in historical_cols]\n",
    "print(len(nr_em.columns.tolist()),len(sep_model_cols))"
   ]
  },
  {
   "cell_type": "code",
   "execution_count": 82,
   "metadata": {
    "collapsed": false
   },
   "outputs": [
    {
     "data": {
      "text/html": [
       "<div>\n",
       "<table border=\"1\" class=\"dataframe\">\n",
       "  <thead>\n",
       "    <tr style=\"text-align: right;\">\n",
       "      <th>terminated</th>\n",
       "      <th>0</th>\n",
       "      <th>1</th>\n",
       "    </tr>\n",
       "    <tr>\n",
       "      <th>status</th>\n",
       "      <th></th>\n",
       "      <th></th>\n",
       "    </tr>\n",
       "  </thead>\n",
       "  <tbody>\n",
       "    <tr>\n",
       "      <th>0</th>\n",
       "      <td>57091</td>\n",
       "      <td>0</td>\n",
       "    </tr>\n",
       "    <tr>\n",
       "      <th>1</th>\n",
       "      <td>0</td>\n",
       "      <td>48144</td>\n",
       "    </tr>\n",
       "  </tbody>\n",
       "</table>\n",
       "</div>"
      ],
      "text/plain": [
       "terminated      0      1\n",
       "status                  \n",
       "0           57091      0\n",
       "1               0  48144"
      ]
     },
     "execution_count": 82,
     "metadata": {},
     "output_type": "execute_result"
    }
   ],
   "source": [
    "pd.crosstab(nr_em.status,nr_em.terminated)"
   ]
  },
  {
   "cell_type": "code",
   "execution_count": 83,
   "metadata": {
    "collapsed": false
   },
   "outputs": [],
   "source": [
    "## remove mos columns\n",
    "sep_model_cols = [col for col in sep_model_cols if not col in mos_cols]\n",
    "sep_model_cols = [col for col in sep_model_cols if not col.endswith('tdelta')]\n",
    "sep_model_cols.remove('retired')\n",
    "sep_model_cols.remove('sep_status')\n",
    "sep_model_cols.remove('status') # equivalent to terminated\n",
    "sep_model_cols.remove('ANNUAL_RT') # equivalent to SAL1"
   ]
  },
  {
   "cell_type": "markdown",
   "metadata": {},
   "source": [
    "## remove dates"
   ]
  },
  {
   "cell_type": "code",
   "execution_count": 92,
   "metadata": {
    "collapsed": false
   },
   "outputs": [
    {
     "name": "stdout",
     "output_type": "stream",
     "text": [
      "65\n"
     ]
    }
   ],
   "source": [
    "sep_model_cols = [col for col in sep_model_cols if not col.endswith('DT')]\n",
    "sep_model_cols.remove('BIRTHDATE')\n",
    "print(len(sep_model_cols))"
   ]
  },
  {
   "cell_type": "code",
   "execution_count": 99,
   "metadata": {
    "collapsed": false
   },
   "outputs": [],
   "source": [
    "sep_model_cols.remove('LOC_TYPE_DESCR_SFI')"
   ]
  },
  {
   "cell_type": "code",
   "execution_count": 124,
   "metadata": {
    "collapsed": true
   },
   "outputs": [],
   "source": [
    "sep_model_cols.remove('KEY')"
   ]
  },
  {
   "cell_type": "markdown",
   "metadata": {},
   "source": [
    "## create split"
   ]
  },
  {
   "cell_type": "code",
   "execution_count": 100,
   "metadata": {
    "collapsed": false
   },
   "outputs": [
    {
     "name": "stdout",
     "output_type": "stream",
     "text": [
      "Starting with subset of 105235 employees.\n",
      "Evaluation set has 21047 employees; training set has 84188 employees.\n"
     ]
    }
   ],
   "source": [
    "# break into evaluation and build sets\n",
    "print \"Starting with subset of {0} employees.\".format(len(nr_em))\n",
    "eval_fraction = 0.20\n",
    "nr2build, nr2eval = cross_validation.train_test_split(nr_em,test_size=eval_fraction,random_state = 77843)\n",
    "print \"Evaluation set has {0} employees; training set has {1} employees.\".format(len(nr2eval),len(nr2build))"
   ]
  },
  {
   "cell_type": "code",
   "execution_count": 125,
   "metadata": {
    "collapsed": true
   },
   "outputs": [],
   "source": [
    "nr2b = pipe.fit_transform(nr2build[sep_model_cols])\n",
    "nr2e = pipe.fit(nr2build[sep_model_cols]).transform(nr2eval)"
   ]
  },
  {
   "cell_type": "code",
   "execution_count": 126,
   "metadata": {
    "collapsed": false
   },
   "outputs": [
    {
     "name": "stdout",
     "output_type": "stream",
     "text": [
      "126\n"
     ]
    }
   ],
   "source": [
    "print(len(nr2b.columns.tolist()))"
   ]
  },
  {
   "cell_type": "code",
   "execution_count": 103,
   "metadata": {
    "collapsed": false
   },
   "outputs": [
    {
     "name": "stdout",
     "output_type": "stream",
     "text": [
      "ADDRCNT1            VIF = 2.5   R^2 = 0.5964    \n",
      "Age_years           VIF = 40.2  R^2 = 0.9751    \n",
      "BOX1                VIF = 4.8   R^2 = 0.7908    \n",
      "COMP_FREQUENCY      VIF = 36.3  R^2 = 0.9725    \n",
      "DEPTCNT1            VIF = 3.2   R^2 = 0.6897    \n",
      "DIRECT_RPT_CNT      VIF = 2.4   R^2 = 0.5918    \n",
      "EFUNCCNT1           VIF = 1.7   R^2 = 0.4015    \n",
      "ETHNIC_GROUP        VIF = 1.1   R^2 = 0.1271    \n",
      "EXTFUNC_CNT         VIF = 3.5   R^2 = 0.7137    \n",
      "EXT_FUNC_ID_SFI     VIF = 2.6   R^2 = 0.6219    \n",
      "FLOORCNT1           VIF = 1.9   R^2 = 0.4754    \n",
      "FLOR_SFI            VIF = 1.9   R^2 = 0.4646    \n",
      "FLSA_STATUS         VIF = 188.8 R^2 = 0.9947    \n",
      "FTE                 VIF = 5054.0R^2 = 0.9998    \n",
      "FTPTCNT1            VIF = 1.7   R^2 = 0.4272    \n",
      "FULLPART1           VIF = 1.7   R^2 = 0.4272    \n",
      "FUNCCNT1            VIF = 2.1   R^2 = 0.5136    \n",
      "FUNC_CNT            VIF = 6.3   R^2 = 0.8405    \n",
      "FUNC_ID_SFI         VIF = 1.7   R^2 = 0.4015    \n",
      "GRADECNT1           VIF = 2.7   R^2 = 0.6244    \n",
      "HUBIND              VIF = 1.8   R^2 = 0.4501    \n",
      "INTERN              VIF = 2.3   R^2 = 0.5617    \n",
      "JOBCNT1             VIF = 3.2   R^2 = 0.6888    \n",
      "JOBCODE             VIF = 4.5   R^2 = 0.7796    \n",
      "KEY                 VIF = 1.3   R^2 = 0.2261    \n",
      "LOCCNT1             VIF = 1.3   R^2 = 0.2258    \n",
      "LOCSTCNT1           VIF = 1.8   R^2 = 0.4403    \n",
      "MAX_RT_ANNUAL       VIF = 198.5 R^2 = 0.995     \n",
      "MERIT1              VIF = 2.3   R^2 = 0.5653    \n",
      "MIN_RT_ANNUAL       VIF = 140.0 R^2 = 0.9929    \n",
      "PARTFULL1           VIF = 3.8   R^2 = 0.7346    \n",
      "PERF1               VIF = 4.4   R^2 = 0.7706    \n",
      "PTFTCNT1            VIF = 72.7  R^2 = 0.9862    \n",
      "REH_CNT             VIF = 1.6   R^2 = 0.382     \n",
      "RELOCATE_ALL_SFI    VIF = 26.2  R^2 = 0.9618    \n",
      "RELO_STATE_CNT_SFI  VIF = 20.4  R^2 = 0.951     \n",
      "REMOTE              VIF = 29.1  R^2 = 0.9656    \n",
      "REMOTE_SUPV         VIF = 1.7   R^2 = 0.4255    \n",
      "SAL1                VIF = 31.7  R^2 = 0.9685    \n",
      "SEX                 VIF = 1.0   R^2 = 0.0177    \n",
      "STD_HOURS           VIF = 5.7   R^2 = 0.824     \n",
      "SUPVCNT1            VIF = 1.9   R^2 = 0.4869    \n",
      "SUPV_DIFF_LOC       VIF = 3.0   R^2 = 0.6615    \n",
      "TOTAL_RPT_CNT       VIF = 2.2   R^2 = 0.5398    \n",
      "Tenure_years        VIF = 889.4 R^2 = 0.9989    \n",
      "HAVE_INS            VIF = 2.2   R^2 = 0.5532    \n",
      "HAVE_DEP            VIF = 2.6   R^2 = 0.6154    \n",
      "DEP_COUNT           VIF = 2.7   R^2 = 0.6247    \n",
      "mar_status          VIF = 1.8   R^2 = 0.437     \n",
      "terminated          VIF = 1.0   R^2 = 0.0268    \n",
      "hire_age            VIF = 70.1  R^2 = 0.9857    \n",
      "rhubind             VIF = 3.0   R^2 = 0.6696    \n",
      "GRADE_le            VIF = 6.5   R^2 = 0.8468    \n",
      "JOB_FAMILY_le       VIF = 4.6   R^2 = 0.7846    \n",
      "LOC_STATE_le        VIF = 1.5   R^2 = 0.3192    \n",
      "EMPL_TYPE_S         VIF = 107.2 R^2 = 0.9907    \n",
      "EMPL_TYPE_E         VIF = 3.8   R^2 = 0.736     \n",
      "EMPL_TYPE_H         VIF = 2.2   R^2 = 0.5489    \n",
      "FULL_PART_TIME_F    VIF = 2.8   R^2 = 0.6387    \n",
      "FULL_PART_TIME_P    VIF = 5.3   R^2 = 0.81      \n",
      "FULL_PART_TIME_X    VIF = 58.7  R^2 = 0.983     \n",
      "SHIFT_1             VIF = 2.2   R^2 = 0.5548    \n",
      "SHIFT_N             VIF = 41.6  R^2 = 0.9759    \n",
      "SHIFT_3             VIF = 2.0   R^2 = 0.5004    \n",
      "EMPL_CLASS_1        VIF = 4.3   R^2 = 0.7657    \n",
      "EMPL_CLASS_D        VIF = 56.1  R^2 = 0.9822    \n",
      "EEO1CODE_1          VIF = 17.5  R^2 = 0.9428    \n",
      "EEO1CODE_5          VIF = 32.0  R^2 = 0.9688    \n",
      "EEO1CODE_2          VIF = 50.5  R^2 = 0.9802    \n",
      "EEO1CODE_7          VIF = 1.4   R^2 = 0.2606    \n",
      "EEO1CODE_3          VIF = 1.6   R^2 = 0.3895    \n",
      "EEO1CODE_4          VIF = 7.2   R^2 = 0.861     \n",
      "EEO1CODE_6          VIF = 1.1   R^2 = 0.061     \n",
      "EEO1CODE_8          VIF = 1.1   R^2 = 0.0705    \n",
      "EEO1CODE_N          VIF = 1.0   R^2 = 0.0026    \n",
      "JOB_FUNCTION_MGT    VIF = 8.1   R^2 = 0.876     \n",
      "JOB_FUNCTION_PSA    VIF = 77.6  R^2 = 0.9871    \n",
      "JOB_FUNCTION_PTB    VIF = 10.3  R^2 = 0.9025    \n",
      "JOB_FUNCTION_PSB    VIF = 2.9   R^2 = 0.6546    \n",
      "JOB_FUNCTION_PTE    VIF = 2.2   R^2 = 0.5459    \n",
      "JOB_FUNCTION_PTA    VIF = 9.7   R^2 = 0.8973    \n",
      "JOB_FUNCTION_PTI    VIF = 5.8   R^2 = 0.8276    \n",
      "JOB_FUNCTION_PTC    VIF = 4.0   R^2 = 0.7477    \n",
      "JOB_FUNCTION_XXX    VIF = 4.3   R^2 = 0.7692    \n",
      "JOB_FUNCTION_PSC    VIF = 2.1   R^2 = 0.5228    \n",
      "JOB_FUNCTION_NSA    VIF = 2.9   R^2 = 0.6504    \n",
      "JOB_FUNCTION_PTD    VIF = 2.0   R^2 = 0.4895    \n",
      "JOB_FUNCTION_PTL    VIF = 1.1   R^2 = 0.1079    \n",
      "JOB_FUNCTION_PTF    VIF = 1.1   R^2 = 0.0957    \n",
      "JOB_FUNCTION_PTG    VIF = 1.2   R^2 = 0.137     \n",
      "JOB_FUNCTION_PTH    VIF = 269.2 R^2 = 0.9963    \n",
      "JOB_FUNCTION_PTK    VIF = 1.0   R^2 = 0.0262    \n",
      "JOB_FUNCTION_PTJ    VIF = 1.0   R^2 = 0.0158    \n",
      "loc_desc_OC         VIF = 14.8  R^2 = 0.9322    \n",
      "loc_desc_CSC        VIF = 3.1   R^2 = 0.6792    \n",
      "loc_desc_MRSF       VIF = 2.3   R^2 = 0.5652    \n",
      "loc_desc_CORP       VIF = 34.4  R^2 = 0.9709    \n",
      "loc_desc_TELE       VIF = 53.8  R^2 = 0.9814    \n",
      "loc_desc_AFO        VIF = 4.2   R^2 = 0.7627    \n",
      "loc_desc_CLC        VIF = 2.7   R^2 = 0.6299    \n",
      "loc_desc_MF         VIF = 2.5   R^2 = 0.5956    \n",
      "loc_desc_ADM        VIF = 3.1   R^2 = 0.6806    \n",
      "loc_desc_VAC        VIF = 1.7   R^2 = 0.4074    \n",
      "loc_desc_ISC        VIF = 1.1   R^2 = 0.1299    \n",
      "loc_desc_RO         VIF = 1.2   R^2 = 0.1928    \n",
      "loc_desc_WARE       VIF = 1.0   R^2 = 0.0472    \n",
      "loc_desc_ESP        VIF = 1.1   R^2 = 0.0631    \n",
      "loc_desc_EST        VIF = 1.0   R^2 = 0.035     \n",
      "loc_desc_MC         VIF = 1.0   R^2 = 0.0327    \n",
      "loc_desc_CAT        VIF = 1.0   R^2 = 0.0086    \n",
      "loc_desc_RAC        VIF = 1.0   R^2 = 0.0032    \n",
      "loc_desc_UNK        VIF = 1.0   R^2 = 0.0033    \n",
      "loc_desc_AO         VIF = 1.0   R^2 = 0.0019    \n",
      "COMPANY_1           VIF = 5.7   R^2 = 0.8254    \n",
      "COMPANY_5           VIF = 5.7   R^2 = 0.8255    \n",
      "COMPANY_2           VIF = 1.3   R^2 = 0.2479    \n",
      "COMPANY_49          VIF = 1.0   R^2 = 0.0231    \n",
      "DIVISION_CODE_SFI_9 VIF = 23.6  R^2 = 0.9576    \n",
      "DIVISION_CODE_SFI_0 VIF = 16.9  R^2 = 0.9407    \n",
      "DIVISION_CODE_SFI_5 VIF = 2.0   R^2 = 0.5113    \n",
      "DIVISION_CODE_SFI_3 VIF = 1.1   R^2 = 0.0776    \n",
      "DIVISION_CODE_SFI_1 VIF = 2.6   R^2 = 0.6095    \n",
      "DIVISION_CODE_SFI_2 VIF = 1.1   R^2 = 0.1258    \n",
      "DIVISION_CODE_SFI_4 VIF = 1.6   R^2 = 0.3801    \n",
      "DIVISION_CODE_SFI_6 VIF = 1.5   R^2 = 0.3388    \n",
      "MERIT1_d            VIF = 1.7   R^2 = 0.4258    \n",
      "PERF1_d             VIF = 1.7   R^2 = 0.4258    \n"
     ]
    },
    {
     "data": {
      "text/plain": [
       "ADDRCNT1               0.596446\n",
       "Age_years              0.975111\n",
       "BOX1                   0.790776\n",
       "COMP_FREQUENCY         0.972461\n",
       "DEPTCNT1               0.689732\n",
       "DIRECT_RPT_CNT         0.591828\n",
       "EFUNCCNT1              0.401459\n",
       "ETHNIC_GROUP           0.127124\n",
       "EXTFUNC_CNT            0.713664\n",
       "EXT_FUNC_ID_SFI        0.621882\n",
       "FLOORCNT1              0.475357\n",
       "FLOR_SFI               0.464642\n",
       "FLSA_STATUS            0.994703\n",
       "FTE                    0.999802\n",
       "FTPTCNT1               0.427201\n",
       "FULLPART1              0.427201\n",
       "FUNCCNT1               0.513578\n",
       "FUNC_CNT               0.840547\n",
       "FUNC_ID_SFI            0.401474\n",
       "GRADECNT1              0.624351\n",
       "HUBIND                 0.450140\n",
       "INTERN                 0.561678\n",
       "JOBCNT1                0.688775\n",
       "JOBCODE                0.779648\n",
       "KEY                    0.226141\n",
       "LOCCNT1                0.225839\n",
       "LOCSTCNT1              0.440253\n",
       "MAX_RT_ANNUAL          0.994962\n",
       "MERIT1                 0.565335\n",
       "MIN_RT_ANNUAL          0.992857\n",
       "                         ...   \n",
       "loc_desc_TELE          0.981419\n",
       "loc_desc_AFO           0.762687\n",
       "loc_desc_CLC           0.629879\n",
       "loc_desc_MF            0.595633\n",
       "loc_desc_ADM           0.680650\n",
       "loc_desc_VAC           0.407429\n",
       "loc_desc_ISC           0.129920\n",
       "loc_desc_RO            0.192807\n",
       "loc_desc_WARE          0.047247\n",
       "loc_desc_ESP           0.063100\n",
       "loc_desc_EST           0.035008\n",
       "loc_desc_MC            0.032687\n",
       "loc_desc_CAT           0.008635\n",
       "loc_desc_RAC           0.003207\n",
       "loc_desc_UNK           0.003267\n",
       "loc_desc_AO            0.001905\n",
       "COMPANY_1              0.825357\n",
       "COMPANY_5              0.825530\n",
       "COMPANY_2              0.247875\n",
       "COMPANY_49             0.023106\n",
       "DIVISION_CODE_SFI_9    0.957645\n",
       "DIVISION_CODE_SFI_0    0.940734\n",
       "DIVISION_CODE_SFI_5    0.511316\n",
       "DIVISION_CODE_SFI_3    0.077612\n",
       "DIVISION_CODE_SFI_1    0.609484\n",
       "DIVISION_CODE_SFI_2    0.125761\n",
       "DIVISION_CODE_SFI_4    0.380053\n",
       "DIVISION_CODE_SFI_6    0.338849\n",
       "MERIT1_d               0.425822\n",
       "PERF1_d                0.425822\n",
       "dtype: float64"
      ]
     },
     "execution_count": 103,
     "metadata": {},
     "output_type": "execute_result"
    }
   ],
   "source": [
    "br.perfect_collinearity_test(nr2b)"
   ]
  },
  {
   "cell_type": "code",
   "execution_count": 104,
   "metadata": {
    "collapsed": false
   },
   "outputs": [
    {
     "data": {
      "text/html": [
       "<div>\n",
       "<table border=\"1\" class=\"dataframe\">\n",
       "  <thead>\n",
       "    <tr style=\"text-align: right;\">\n",
       "      <th></th>\n",
       "      <th>loc_desc_TELE</th>\n",
       "      <th>REMOTE</th>\n",
       "    </tr>\n",
       "  </thead>\n",
       "  <tbody>\n",
       "    <tr>\n",
       "      <th>loc_desc_TELE</th>\n",
       "      <td>1</td>\n",
       "      <td>1</td>\n",
       "    </tr>\n",
       "    <tr>\n",
       "      <th>REMOTE</th>\n",
       "      <td>1</td>\n",
       "      <td>1</td>\n",
       "    </tr>\n",
       "  </tbody>\n",
       "</table>\n",
       "</div>"
      ],
      "text/plain": [
       "               loc_desc_TELE  REMOTE\n",
       "loc_desc_TELE              1       1\n",
       "REMOTE                     1       1"
      ]
     },
     "execution_count": 104,
     "metadata": {},
     "output_type": "execute_result"
    }
   ],
   "source": [
    "nr2b[['loc_desc_TELE','REMOTE']].corr()"
   ]
  },
  {
   "cell_type": "code",
   "execution_count": 127,
   "metadata": {
    "collapsed": false
   },
   "outputs": [
    {
     "name": "stdout",
     "output_type": "stream",
     "text": [
      "(126, 122)\n"
     ]
    }
   ],
   "source": [
    "#redundant_cols = ['ANNUAL_RT','hire_age','loc_desc_TELE','status','sep_status','PERF1_d']\n",
    "redundant_cols = ['hire_age','loc_desc_TELE','HUBIND','PERF1_d']\n",
    "model_cols2 = nr2b.columns.tolist()\n",
    "sep_model_cols2 = [c for c in model_cols2 if not c in redundant_cols]\n",
    "print(len(model_cols2),len(sep_model_cols2))\n"
   ]
  },
  {
   "cell_type": "markdown",
   "metadata": {},
   "source": [
    "## just do a RF classifier of terminated on the training set to see driving features"
   ]
  },
  {
   "cell_type": "code",
   "execution_count": 128,
   "metadata": {
    "collapsed": false
   },
   "outputs": [
    {
     "name": "stdout",
     "output_type": "stream",
     "text": [
      "121\n"
     ]
    }
   ],
   "source": [
    "rfclass_cols = [col for col in sep_model_cols2 if 'terminated' not in col]\n",
    "print(len(rfclass_cols))\n"
   ]
  },
  {
   "cell_type": "code",
   "execution_count": 129,
   "metadata": {
    "collapsed": false
   },
   "outputs": [
    {
     "name": "stdout",
     "output_type": "stream",
     "text": [
      "CPU times: user 2min 32s, sys: 733 ms, total: 2min 32s\n",
      "Wall time: 16.1 s\n"
     ]
    }
   ],
   "source": [
    "%%time\n",
    "# Fit classification model\n",
    "params = {'n_estimators': 300, 'n_jobs': -1, 'oob_score': True}\n",
    "          #'max_depth': 4, 'min_samples_split': 1,\n",
    "          #'learning_rate': 0.01, 'loss': 'ls','n_jobs': -1}\n",
    "fullRFC = ensemble.RandomForestClassifier(**params)\n",
    "\n",
    "fullRFC.fit(nr2b[rfclass_cols], nr2b.terminated)"
   ]
  },
  {
   "cell_type": "markdown",
   "metadata": {
    "collapsed": false
   },
   "source": [
    "## apply this to the evaluation set"
   ]
  },
  {
   "cell_type": "code",
   "execution_count": 130,
   "metadata": {
    "collapsed": false
   },
   "outputs": [],
   "source": [
    "rfclass_pred = fullRFC.predict(nr2e[rfclass_cols])\n"
   ]
  },
  {
   "cell_type": "code",
   "execution_count": 113,
   "metadata": {
    "collapsed": false
   },
   "outputs": [],
   "source": [
    "\n",
    "def plot_conf_matrix(y_true,y_pred,normed=True,**kwargs):\n",
    "    my_c = metrics.confusion_matrix(y_true,y_pred)\n",
    "    \n",
    "    print metrics.matthews_corrcoef(y_true,y_pred)\n",
    "    if normed:\n",
    "        cm_normalized = my_c.astype('float') / my_c.sum(axis=1)[:, np.newaxis]\n",
    "        my_c = cm_normalized\n",
    "        plt.title('Normalized RF Classifier Confusion Matrix')\n",
    "    else:\n",
    "        plt.title('Random Forest Classifier Confusion Matrix')\n",
    "        \n",
    "    sns.heatmap(my_c, annot=True,  fmt='',cmap='Blues')\n",
    "    plt.ylabel('True')\n",
    "    #plt.yticks\n",
    "    plt.xlabel('Assigned')\n",
    "    plt.show()\n",
    "    \n",
    "    return\n",
    "\n",
    "def plot_roc_curve(target_test, target_predicted_proba, **kwargs):\n",
    "    fpr, tpr, thresholds = metrics.roc_curve(target_test, target_predicted_proba[:, 1])\n",
    "    \n",
    "    roc_auc = metrics.auc(fpr, tpr)\n",
    "    # Plot ROC curve\n",
    "    label_txt = 'ROC curve (area = %0.3f)' % roc_auc\n",
    "    plt.plot(fpr, tpr, label=label_txt,**kwargs)\n",
    "    plt.plot([0, 1], [0, 1], 'k--')  # random predictions curve\n",
    "    plt.xlim([0.0, 1.0])\n",
    "    plt.ylim([0.0, 1.0])\n",
    "    plt.xlabel('False Positive Rate or (1 - Specifity)')\n",
    "    plt.ylabel('True Positive Rate or (Sensitivity)')\n",
    "    plt.title('Receiver Operating Characteristic')\n",
    "    plt.legend(loc=\"lower right\")\n",
    "    return roc_auc"
   ]
  },
  {
   "cell_type": "code",
   "execution_count": 131,
   "metadata": {
    "collapsed": false
   },
   "outputs": [
    {
     "name": "stdout",
     "output_type": "stream",
     "text": [
      "0.973099745029\n"
     ]
    },
    {
     "data": {
      "image/png": "[encoded data removed]",
      "text/plain": [
       "<matplotlib.figure.Figure at 0x7fc7d3e59890>"
      ]
     },
     "metadata": {},
     "output_type": "display_data"
    }
   ],
   "source": [
    "plot_conf_matrix(nr2e.terminated,rfclass_pred)"
   ]
  },
  {
   "cell_type": "code",
   "execution_count": 132,
   "metadata": {
    "collapsed": false
   },
   "outputs": [
    {
     "data": {
      "text/plain": [
       "0.98660141587874761"
      ]
     },
     "execution_count": 132,
     "metadata": {},
     "output_type": "execute_result"
    }
   ],
   "source": [
    "metrics.accuracy_score(nr2e.terminated,rfclass_pred)"
   ]
  },
  {
   "cell_type": "markdown",
   "metadata": {},
   "source": [
    "### look at the feature_importances"
   ]
  },
  {
   "cell_type": "code",
   "execution_count": 119,
   "metadata": {
    "collapsed": true
   },
   "outputs": [],
   "source": [
    "# function to push feature_importances for a set of RF models into a dataframe\n",
    "def create_fi_df(mdl_list,feature_names):\n",
    "    list_feature_importances = []\n",
    "    col_list = []\n",
    "    for i,mdl in enumerate(mdl_list):\n",
    "        list_feature_importances.append(plotFI(mdl,feature_names,show_plot=False))\n",
    "        col_list.append('fold'+str(i)+'_value')\n",
    "        col_list.append('fold'+str(i)+'_std')\n",
    "\n",
    "    fi_df = pd.concat(list_feature_importances,axis=1)\n",
    "    # create column headings\n",
    "    fi_df.columns = col_list\n",
    "    # create the average of the values\n",
    "    value_cols = [x for x in col_list if x.endswith('value')]\n",
    "    \n",
    "    fi_df['avg_val']=fi_df[value_cols].mean(axis=1)\n",
    "    fi_df['avg_variance']=fi_df[value_cols].std(axis=1)\n",
    "#t2_eval_fi_df[['avg_val','avg_std']].sort('avg_val',ascending=False)\n",
    "    return fi_df\n",
    "\n",
    "def plotFI(forest,featureNames=[],show_plot=True):#,autoscale=True,headroom=0.05):\n",
    "    \"\"\"\n",
    "    forest is the model to be graphed.\n",
    "    featureNames is the list of features to be displayed\n",
    "    \n",
    "    \"\"\"\n",
    "    #if autoscale:\n",
    "    #    x_scale = forest.feature_importances_.max()+ headroom\n",
    "    #else:\n",
    "    #    x_scale = 1\n",
    "    \n",
    "    featureImportances=forest.feature_importances_\n",
    "    # sort the importances from biggest to least\n",
    "    indices = np.argsort(featureImportances)[::-1]\n",
    "    estimators = forest.estimators_\n",
    "    # calculate the variance over the forest \n",
    "    \n",
    "    std = np.std([tree.feature_importances_ for tree in estimators],axis=0)\n",
    "    # print summary statement\n",
    "    nfeatures = len(featureImportances)\n",
    "    print(\"Number of Features: %d\" % (nfeatures))\n",
    "    print(\"Number of Trees: %d\" %(len(estimators)))\n",
    "    \n",
    "    #print featureNames\n",
    "    if len(featureNames)==0:\n",
    "        featureNames = map(str,indices)\n",
    "    \n",
    "    fN2 = [featureNames[a] for a in indices]\n",
    "    print(\"Feature ranking:\")\n",
    "\n",
    "    for f in range(len(indices)):\n",
    "        print(\"%d. feature %d=%s (%f)\" % (f + 1, indices[f], featureNames[indices[f]],featureImportances[indices[f]]))\n",
    "\n",
    "    # Plot the feature importances of the forest\n",
    "    # define a cutoff in terms of feature_importance\n",
    "    if nfeatures <= 30:\n",
    "        kfeatures = nfeatures # keep all if smaller than 30\n",
    "    else:\n",
    "        kfeatures = 30\n",
    "        \n",
    "    kindices = indices[:kfeatures]\n",
    "    if show_plot:\n",
    "        plt.title(\"Feature importances\")\n",
    "        plt.barh(range(len(kindices)), featureImportances[kindices],\n",
    "           color=\"steelblue\", xerr=std[kindices], align=\"center\",ecolor='k')#,lw=2)\n",
    "    \n",
    "        plt.yticks(range(len(kindices)),fN2)\n",
    "        #grid(True)\n",
    "    \n",
    "    c1 = 'value'\n",
    "    c2 = 'std'\n",
    "    tdata = np.vstack([featureImportances[indices],std[indices]])\n",
    "    df = pd.DataFrame(data = tdata.T,index=fN2,columns=[c1,c2])\n",
    "    return df"
   ]
  },
  {
   "cell_type": "code",
   "execution_count": 134,
   "metadata": {
    "collapsed": false
   },
   "outputs": [
    {
     "name": "stdout",
     "output_type": "stream",
     "text": [
      "Number of Features: 121\n",
      "Number of Trees: 300\n",
      "Feature ranking:\n",
      "1. feature 17=FUNC_CNT (0.145979)\n",
      "2. feature 43=HAVE_INS (0.112280)\n",
      "3. feature 27=MIN_RT_ANNUAL (0.074897)\n",
      "4. feature 8=EXTFUNC_CNT (0.061092)\n",
      "5. feature 9=EXT_FUNC_ID_SFI (0.056075)\n",
      "6. feature 29=PERF1 (0.047626)\n",
      "7. feature 25=MAX_RT_ANNUAL (0.044239)\n",
      "8. feature 44=HAVE_DEP (0.031708)\n",
      "9. feature 45=DEP_COUNT (0.030105)\n",
      "10. feature 26=MERIT1 (0.029210)\n",
      "11. feature 42=Tenure_years (0.027584)\n",
      "12. feature 36=SAL1 (0.024562)\n",
      "13. feature 2=BOX1 (0.021991)\n",
      "14. feature 18=FUNC_ID_SFI (0.020152)\n",
      "15. feature 6=EFUNCCNT1 (0.017564)\n",
      "16. feature 0=ADDRCNT1 (0.017440)\n",
      "17. feature 4=DEPTCNT1 (0.015919)\n",
      "18. feature 22=JOBCODE (0.015757)\n",
      "19. feature 48=GRADE_le (0.014912)\n",
      "20. feature 49=JOB_FAMILY_le (0.014571)\n",
      "21. feature 21=JOBCNT1 (0.013893)\n",
      "22. feature 112=DIVISION_CODE_SFI_9 (0.013553)\n",
      "23. feature 39=SUPVCNT1 (0.013128)\n",
      "24. feature 1=Age_years (0.011182)\n",
      "25. feature 5=DIRECT_RPT_CNT (0.009713)\n",
      "26. feature 41=TOTAL_RPT_CNT (0.008536)\n",
      "27. feature 16=FUNCCNT1 (0.007383)\n",
      "28. feature 47=rhubind (0.006526)\n",
      "29. feature 33=RELO_STATE_CNT_SFI (0.005116)\n",
      "30. feature 50=LOC_STATE_le (0.004783)\n",
      "31. feature 72=JOB_FUNCTION_PSA (0.003980)\n",
      "32. feature 79=JOB_FUNCTION_XXX (0.003889)\n",
      "33. feature 90=loc_desc_CSC (0.003313)\n",
      "34. feature 81=JOB_FUNCTION_NSA (0.003063)\n",
      "35. feature 11=FLOR_SFI (0.002934)\n",
      "36. feature 51=EMPL_TYPE_S (0.002877)\n",
      "37. feature 93=loc_desc_AFO (0.002514)\n",
      "38. feature 12=FLSA_STATUS (0.002482)\n",
      "39. feature 63=EEO1CODE_5 (0.002471)\n",
      "40. feature 73=JOB_FUNCTION_PTB (0.002425)\n",
      "41. feature 113=DIVISION_CODE_SFI_0 (0.002355)\n",
      "42. feature 19=GRADECNT1 (0.002227)\n",
      "43. feature 64=EEO1CODE_2 (0.002134)\n",
      "44. feature 7=ETHNIC_GROUP (0.002133)\n",
      "45. feature 34=REMOTE (0.002104)\n",
      "46. feature 74=JOB_FUNCTION_PSB (0.001998)\n",
      "47. feature 46=mar_status (0.001937)\n",
      "48. feature 92=loc_desc_CORP (0.001881)\n",
      "49. feature 23=LOCCNT1 (0.001779)\n",
      "50. feature 54=FULL_PART_TIME_F (0.001777)\n",
      "51. feature 120=MERIT1_d (0.001697)\n",
      "52. feature 89=loc_desc_OC (0.001684)\n",
      "53. feature 52=EMPL_TYPE_E (0.001661)\n",
      "54. feature 40=SUPV_DIFF_LOC (0.001515)\n",
      "55. feature 109=COMPANY_5 (0.001393)\n",
      "56. feature 108=COMPANY_1 (0.001345)\n",
      "57. feature 38=STD_HOURS (0.001247)\n",
      "58. feature 76=JOB_FUNCTION_PTA (0.001237)\n",
      "59. feature 13=FTE (0.001236)\n",
      "60. feature 53=EMPL_TYPE_H (0.001232)\n",
      "61. feature 37=SEX (0.001109)\n",
      "62. feature 31=REH_CNT (0.001030)\n",
      "63. feature 94=loc_desc_CLC (0.000967)\n",
      "64. feature 62=EEO1CODE_1 (0.000948)\n",
      "65. feature 10=FLOORCNT1 (0.000843)\n",
      "66. feature 66=EEO1CODE_3 (0.000833)\n",
      "67. feature 78=JOB_FUNCTION_PTC (0.000774)\n",
      "68. feature 60=EMPL_CLASS_1 (0.000749)\n",
      "69. feature 71=JOB_FUNCTION_MGT (0.000743)\n",
      "70. feature 32=RELOCATE_ALL_SFI (0.000733)\n",
      "71. feature 67=EEO1CODE_4 (0.000675)\n",
      "72. feature 20=INTERN (0.000643)\n",
      "73. feature 80=JOB_FUNCTION_PSC (0.000601)\n",
      "74. feature 55=FULL_PART_TIME_P (0.000547)\n",
      "75. feature 3=COMP_FREQUENCY (0.000524)\n",
      "76. feature 75=JOB_FUNCTION_PTE (0.000503)\n",
      "77. feature 116=DIVISION_CODE_SFI_1 (0.000385)\n",
      "78. feature 35=REMOTE_SUPV (0.000381)\n",
      "79. feature 82=JOB_FUNCTION_PTD (0.000366)\n",
      "80. feature 95=loc_desc_MF (0.000352)\n",
      "81. feature 98=loc_desc_ISC (0.000339)\n",
      "82. feature 30=PTFTCNT1 (0.000325)\n",
      "83. feature 28=PARTFULL1 (0.000318)\n",
      "84. feature 117=DIVISION_CODE_SFI_2 (0.000291)\n",
      "85. feature 24=LOCSTCNT1 (0.000281)\n",
      "86. feature 68=EEO1CODE_6 (0.000280)\n",
      "87. feature 119=DIVISION_CODE_SFI_6 (0.000279)\n",
      "88. feature 118=DIVISION_CODE_SFI_4 (0.000250)\n",
      "89. feature 57=SHIFT_1 (0.000230)\n",
      "90. feature 114=DIVISION_CODE_SFI_5 (0.000198)\n",
      "91. feature 115=DIVISION_CODE_SFI_3 (0.000172)\n",
      "92. feature 96=loc_desc_ADM (0.000166)\n",
      "93. feature 77=JOB_FUNCTION_PTI (0.000158)\n",
      "94. feature 99=loc_desc_RO (0.000153)\n",
      "95. feature 61=EMPL_CLASS_D (0.000138)\n",
      "96. feature 56=FULL_PART_TIME_X (0.000103)\n",
      "97. feature 84=JOB_FUNCTION_PTF (0.000089)\n",
      "98. feature 15=FULLPART1 (0.000082)\n",
      "99. feature 111=COMPANY_49 (0.000078)\n",
      "100. feature 14=FTPTCNT1 (0.000078)\n",
      "101. feature 91=loc_desc_MRSF (0.000060)\n",
      "102. feature 59=SHIFT_3 (0.000051)\n",
      "103. feature 85=JOB_FUNCTION_PTG (0.000043)\n",
      "104. feature 86=JOB_FUNCTION_PTH (0.000025)\n",
      "105. feature 65=EEO1CODE_7 (0.000024)\n",
      "106. feature 87=JOB_FUNCTION_PTK (0.000020)\n",
      "107. feature 103=loc_desc_MC (0.000016)\n",
      "108. feature 97=loc_desc_VAC (0.000011)\n",
      "109. feature 58=SHIFT_N (0.000010)\n",
      "110. feature 88=JOB_FUNCTION_PTJ (0.000008)\n",
      "111. feature 100=loc_desc_WARE (0.000004)\n",
      "112. feature 110=COMPANY_2 (0.000004)\n",
      "113. feature 83=JOB_FUNCTION_PTL (0.000003)\n",
      "114. feature 105=loc_desc_RAC (0.000003)\n",
      "115. feature 102=loc_desc_EST (0.000001)\n",
      "116. feature 101=loc_desc_ESP (0.000001)\n",
      "117. feature 104=loc_desc_CAT (0.000000)\n",
      "118. feature 70=EEO1CODE_N (0.000000)\n",
      "119. feature 107=loc_desc_AO (0.000000)\n",
      "120. feature 106=loc_desc_UNK (0.000000)\n",
      "121. feature 69=EEO1CODE_8 (0.000000)\n"
     ]
    },
    {
     "data": {
      "image/png": "[encoded data removed]",
      "text/plain": [
       "<matplotlib.figure.Figure at 0x7fc6a0164590>"
      ]
     },
     "metadata": {},
     "output_type": "display_data"
    }
   ],
   "source": [
    "rfc_df = plotFI(fullRFC,rfclass_cols)"
   ]
  },
  {
   "cell_type": "code",
   "execution_count": 138,
   "metadata": {
    "collapsed": false
   },
   "outputs": [],
   "source": [
    "ordered_features = rfc_df.index.tolist()\n",
    "ordered_features.remove('Tenure_years')"
   ]
  },
  {
   "cell_type": "code",
   "execution_count": 139,
   "metadata": {
    "collapsed": false
   },
   "outputs": [
    {
     "data": {
      "text/html": [
       "<div>\n",
       "<table border=\"1\" class=\"dataframe\">\n",
       "  <thead>\n",
       "    <tr style=\"text-align: right;\">\n",
       "      <th></th>\n",
       "      <th>value</th>\n",
       "      <th>std</th>\n",
       "    </tr>\n",
       "  </thead>\n",
       "  <tbody>\n",
       "    <tr>\n",
       "      <th>FUNC_CNT</th>\n",
       "      <td>0.145979</td>\n",
       "      <td>0.085134</td>\n",
       "    </tr>\n",
       "    <tr>\n",
       "      <th>HAVE_INS</th>\n",
       "      <td>0.112280</td>\n",
       "      <td>0.108025</td>\n",
       "    </tr>\n",
       "    <tr>\n",
       "      <th>MIN_RT_ANNUAL</th>\n",
       "      <td>0.074897</td>\n",
       "      <td>0.066197</td>\n",
       "    </tr>\n",
       "    <tr>\n",
       "      <th>EXTFUNC_CNT</th>\n",
       "      <td>0.061092</td>\n",
       "      <td>0.028677</td>\n",
       "    </tr>\n",
       "    <tr>\n",
       "      <th>EXT_FUNC_ID_SFI</th>\n",
       "      <td>0.056075</td>\n",
       "      <td>0.046833</td>\n",
       "    </tr>\n",
       "    <tr>\n",
       "      <th>PERF1</th>\n",
       "      <td>0.047626</td>\n",
       "      <td>0.055301</td>\n",
       "    </tr>\n",
       "    <tr>\n",
       "      <th>MAX_RT_ANNUAL</th>\n",
       "      <td>0.044239</td>\n",
       "      <td>0.049453</td>\n",
       "    </tr>\n",
       "    <tr>\n",
       "      <th>HAVE_DEP</th>\n",
       "      <td>0.031708</td>\n",
       "      <td>0.057517</td>\n",
       "    </tr>\n",
       "    <tr>\n",
       "      <th>DEP_COUNT</th>\n",
       "      <td>0.030105</td>\n",
       "      <td>0.054629</td>\n",
       "    </tr>\n",
       "    <tr>\n",
       "      <th>MERIT1</th>\n",
       "      <td>0.029210</td>\n",
       "      <td>0.031148</td>\n",
       "    </tr>\n",
       "    <tr>\n",
       "      <th>Tenure_years</th>\n",
       "      <td>0.027584</td>\n",
       "      <td>0.023561</td>\n",
       "    </tr>\n",
       "    <tr>\n",
       "      <th>SAL1</th>\n",
       "      <td>0.024562</td>\n",
       "      <td>0.031067</td>\n",
       "    </tr>\n",
       "    <tr>\n",
       "      <th>BOX1</th>\n",
       "      <td>0.021991</td>\n",
       "      <td>0.031177</td>\n",
       "    </tr>\n",
       "    <tr>\n",
       "      <th>FUNC_ID_SFI</th>\n",
       "      <td>0.020152</td>\n",
       "      <td>0.012869</td>\n",
       "    </tr>\n",
       "    <tr>\n",
       "      <th>EFUNCCNT1</th>\n",
       "      <td>0.017564</td>\n",
       "      <td>0.029431</td>\n",
       "    </tr>\n",
       "    <tr>\n",
       "      <th>ADDRCNT1</th>\n",
       "      <td>0.017440</td>\n",
       "      <td>0.014575</td>\n",
       "    </tr>\n",
       "    <tr>\n",
       "      <th>DEPTCNT1</th>\n",
       "      <td>0.015919</td>\n",
       "      <td>0.027835</td>\n",
       "    </tr>\n",
       "    <tr>\n",
       "      <th>JOBCODE</th>\n",
       "      <td>0.015757</td>\n",
       "      <td>0.008948</td>\n",
       "    </tr>\n",
       "    <tr>\n",
       "      <th>GRADE_le</th>\n",
       "      <td>0.014912</td>\n",
       "      <td>0.010295</td>\n",
       "    </tr>\n",
       "    <tr>\n",
       "      <th>JOB_FAMILY_le</th>\n",
       "      <td>0.014571</td>\n",
       "      <td>0.007739</td>\n",
       "    </tr>\n",
       "    <tr>\n",
       "      <th>JOBCNT1</th>\n",
       "      <td>0.013893</td>\n",
       "      <td>0.020780</td>\n",
       "    </tr>\n",
       "    <tr>\n",
       "      <th>DIVISION_CODE_SFI_9</th>\n",
       "      <td>0.013553</td>\n",
       "      <td>0.017734</td>\n",
       "    </tr>\n",
       "    <tr>\n",
       "      <th>SUPVCNT1</th>\n",
       "      <td>0.013128</td>\n",
       "      <td>0.014956</td>\n",
       "    </tr>\n",
       "    <tr>\n",
       "      <th>Age_years</th>\n",
       "      <td>0.011182</td>\n",
       "      <td>0.011792</td>\n",
       "    </tr>\n",
       "    <tr>\n",
       "      <th>DIRECT_RPT_CNT</th>\n",
       "      <td>0.009713</td>\n",
       "      <td>0.004776</td>\n",
       "    </tr>\n",
       "    <tr>\n",
       "      <th>TOTAL_RPT_CNT</th>\n",
       "      <td>0.008536</td>\n",
       "      <td>0.002831</td>\n",
       "    </tr>\n",
       "    <tr>\n",
       "      <th>FUNCCNT1</th>\n",
       "      <td>0.007383</td>\n",
       "      <td>0.011123</td>\n",
       "    </tr>\n",
       "    <tr>\n",
       "      <th>rhubind</th>\n",
       "      <td>0.006526</td>\n",
       "      <td>0.010124</td>\n",
       "    </tr>\n",
       "    <tr>\n",
       "      <th>RELO_STATE_CNT_SFI</th>\n",
       "      <td>0.005116</td>\n",
       "      <td>0.009330</td>\n",
       "    </tr>\n",
       "    <tr>\n",
       "      <th>LOC_STATE_le</th>\n",
       "      <td>0.004783</td>\n",
       "      <td>0.001463</td>\n",
       "    </tr>\n",
       "    <tr>\n",
       "      <th>...</th>\n",
       "      <td>...</td>\n",
       "      <td>...</td>\n",
       "    </tr>\n",
       "    <tr>\n",
       "      <th>loc_desc_CSC</th>\n",
       "      <td>0.003313</td>\n",
       "      <td>0.006859</td>\n",
       "    </tr>\n",
       "    <tr>\n",
       "      <th>JOB_FUNCTION_NSA</th>\n",
       "      <td>0.003063</td>\n",
       "      <td>0.004444</td>\n",
       "    </tr>\n",
       "    <tr>\n",
       "      <th>FLOR_SFI</th>\n",
       "      <td>0.002934</td>\n",
       "      <td>0.002689</td>\n",
       "    </tr>\n",
       "    <tr>\n",
       "      <th>EMPL_TYPE_S</th>\n",
       "      <td>0.002877</td>\n",
       "      <td>0.008614</td>\n",
       "    </tr>\n",
       "    <tr>\n",
       "      <th>loc_desc_AFO</th>\n",
       "      <td>0.002514</td>\n",
       "      <td>0.004129</td>\n",
       "    </tr>\n",
       "    <tr>\n",
       "      <th>FLSA_STATUS</th>\n",
       "      <td>0.002482</td>\n",
       "      <td>0.006391</td>\n",
       "    </tr>\n",
       "    <tr>\n",
       "      <th>EEO1CODE_5</th>\n",
       "      <td>0.002471</td>\n",
       "      <td>0.004715</td>\n",
       "    </tr>\n",
       "    <tr>\n",
       "      <th>JOB_FUNCTION_PTB</th>\n",
       "      <td>0.002425</td>\n",
       "      <td>0.005309</td>\n",
       "    </tr>\n",
       "    <tr>\n",
       "      <th>DIVISION_CODE_SFI_0</th>\n",
       "      <td>0.002355</td>\n",
       "      <td>0.003393</td>\n",
       "    </tr>\n",
       "    <tr>\n",
       "      <th>GRADECNT1</th>\n",
       "      <td>0.002227</td>\n",
       "      <td>0.002488</td>\n",
       "    </tr>\n",
       "    <tr>\n",
       "      <th>EEO1CODE_2</th>\n",
       "      <td>0.002134</td>\n",
       "      <td>0.004822</td>\n",
       "    </tr>\n",
       "    <tr>\n",
       "      <th>ETHNIC_GROUP</th>\n",
       "      <td>0.002133</td>\n",
       "      <td>0.000568</td>\n",
       "    </tr>\n",
       "    <tr>\n",
       "      <th>REMOTE</th>\n",
       "      <td>0.002104</td>\n",
       "      <td>0.004726</td>\n",
       "    </tr>\n",
       "    <tr>\n",
       "      <th>JOB_FUNCTION_PSB</th>\n",
       "      <td>0.001998</td>\n",
       "      <td>0.002782</td>\n",
       "    </tr>\n",
       "    <tr>\n",
       "      <th>mar_status</th>\n",
       "      <td>0.001937</td>\n",
       "      <td>0.002274</td>\n",
       "    </tr>\n",
       "    <tr>\n",
       "      <th>loc_desc_CORP</th>\n",
       "      <td>0.001881</td>\n",
       "      <td>0.002881</td>\n",
       "    </tr>\n",
       "    <tr>\n",
       "      <th>LOCCNT1</th>\n",
       "      <td>0.001779</td>\n",
       "      <td>0.004917</td>\n",
       "    </tr>\n",
       "    <tr>\n",
       "      <th>FULL_PART_TIME_F</th>\n",
       "      <td>0.001777</td>\n",
       "      <td>0.006641</td>\n",
       "    </tr>\n",
       "    <tr>\n",
       "      <th>MERIT1_d</th>\n",
       "      <td>0.001697</td>\n",
       "      <td>0.002073</td>\n",
       "    </tr>\n",
       "    <tr>\n",
       "      <th>loc_desc_OC</th>\n",
       "      <td>0.001684</td>\n",
       "      <td>0.001540</td>\n",
       "    </tr>\n",
       "    <tr>\n",
       "      <th>EMPL_TYPE_E</th>\n",
       "      <td>0.001661</td>\n",
       "      <td>0.002777</td>\n",
       "    </tr>\n",
       "    <tr>\n",
       "      <th>SUPV_DIFF_LOC</th>\n",
       "      <td>0.001515</td>\n",
       "      <td>0.000939</td>\n",
       "    </tr>\n",
       "    <tr>\n",
       "      <th>COMPANY_5</th>\n",
       "      <td>0.001393</td>\n",
       "      <td>0.001672</td>\n",
       "    </tr>\n",
       "    <tr>\n",
       "      <th>COMPANY_1</th>\n",
       "      <td>0.001345</td>\n",
       "      <td>0.001400</td>\n",
       "    </tr>\n",
       "    <tr>\n",
       "      <th>STD_HOURS</th>\n",
       "      <td>0.001247</td>\n",
       "      <td>0.002114</td>\n",
       "    </tr>\n",
       "    <tr>\n",
       "      <th>JOB_FUNCTION_PTA</th>\n",
       "      <td>0.001237</td>\n",
       "      <td>0.001793</td>\n",
       "    </tr>\n",
       "    <tr>\n",
       "      <th>FTE</th>\n",
       "      <td>0.001236</td>\n",
       "      <td>0.001653</td>\n",
       "    </tr>\n",
       "    <tr>\n",
       "      <th>EMPL_TYPE_H</th>\n",
       "      <td>0.001232</td>\n",
       "      <td>0.002438</td>\n",
       "    </tr>\n",
       "    <tr>\n",
       "      <th>SEX</th>\n",
       "      <td>0.001109</td>\n",
       "      <td>0.000308</td>\n",
       "    </tr>\n",
       "    <tr>\n",
       "      <th>REH_CNT</th>\n",
       "      <td>0.001030</td>\n",
       "      <td>0.000449</td>\n",
       "    </tr>\n",
       "  </tbody>\n",
       "</table>\n",
       "<p>62 rows × 2 columns</p>\n",
       "</div>"
      ],
      "text/plain": [
       "                        value       std\n",
       "FUNC_CNT             0.145979  0.085134\n",
       "HAVE_INS             0.112280  0.108025\n",
       "MIN_RT_ANNUAL        0.074897  0.066197\n",
       "EXTFUNC_CNT          0.061092  0.028677\n",
       "EXT_FUNC_ID_SFI      0.056075  0.046833\n",
       "PERF1                0.047626  0.055301\n",
       "MAX_RT_ANNUAL        0.044239  0.049453\n",
       "HAVE_DEP             0.031708  0.057517\n",
       "DEP_COUNT            0.030105  0.054629\n",
       "MERIT1               0.029210  0.031148\n",
       "Tenure_years         0.027584  0.023561\n",
       "SAL1                 0.024562  0.031067\n",
       "BOX1                 0.021991  0.031177\n",
       "FUNC_ID_SFI          0.020152  0.012869\n",
       "EFUNCCNT1            0.017564  0.029431\n",
       "ADDRCNT1             0.017440  0.014575\n",
       "DEPTCNT1             0.015919  0.027835\n",
       "JOBCODE              0.015757  0.008948\n",
       "GRADE_le             0.014912  0.010295\n",
       "JOB_FAMILY_le        0.014571  0.007739\n",
       "JOBCNT1              0.013893  0.020780\n",
       "DIVISION_CODE_SFI_9  0.013553  0.017734\n",
       "SUPVCNT1             0.013128  0.014956\n",
       "Age_years            0.011182  0.011792\n",
       "DIRECT_RPT_CNT       0.009713  0.004776\n",
       "TOTAL_RPT_CNT        0.008536  0.002831\n",
       "FUNCCNT1             0.007383  0.011123\n",
       "rhubind              0.006526  0.010124\n",
       "RELO_STATE_CNT_SFI   0.005116  0.009330\n",
       "LOC_STATE_le         0.004783  0.001463\n",
       "...                       ...       ...\n",
       "loc_desc_CSC         0.003313  0.006859\n",
       "JOB_FUNCTION_NSA     0.003063  0.004444\n",
       "FLOR_SFI             0.002934  0.002689\n",
       "EMPL_TYPE_S          0.002877  0.008614\n",
       "loc_desc_AFO         0.002514  0.004129\n",
       "FLSA_STATUS          0.002482  0.006391\n",
       "EEO1CODE_5           0.002471  0.004715\n",
       "JOB_FUNCTION_PTB     0.002425  0.005309\n",
       "DIVISION_CODE_SFI_0  0.002355  0.003393\n",
       "GRADECNT1            0.002227  0.002488\n",
       "EEO1CODE_2           0.002134  0.004822\n",
       "ETHNIC_GROUP         0.002133  0.000568\n",
       "REMOTE               0.002104  0.004726\n",
       "JOB_FUNCTION_PSB     0.001998  0.002782\n",
       "mar_status           0.001937  0.002274\n",
       "loc_desc_CORP        0.001881  0.002881\n",
       "LOCCNT1              0.001779  0.004917\n",
       "FULL_PART_TIME_F     0.001777  0.006641\n",
       "MERIT1_d             0.001697  0.002073\n",
       "loc_desc_OC          0.001684  0.001540\n",
       "EMPL_TYPE_E          0.001661  0.002777\n",
       "SUPV_DIFF_LOC        0.001515  0.000939\n",
       "COMPANY_5            0.001393  0.001672\n",
       "COMPANY_1            0.001345  0.001400\n",
       "STD_HOURS            0.001247  0.002114\n",
       "JOB_FUNCTION_PTA     0.001237  0.001793\n",
       "FTE                  0.001236  0.001653\n",
       "EMPL_TYPE_H          0.001232  0.002438\n",
       "SEX                  0.001109  0.000308\n",
       "REH_CNT              0.001030  0.000449\n",
       "\n",
       "[62 rows x 2 columns]"
      ]
     },
     "execution_count": 139,
     "metadata": {},
     "output_type": "execute_result"
    }
   ],
   "source": [
    "rfc_df[rfc_df.value>0.001]"
   ]
  },
  {
   "cell_type": "code",
   "execution_count": 140,
   "metadata": {
    "collapsed": true
   },
   "outputs": [],
   "source": [
    "#from ll.fitters import CoxPHFitter\n",
    "cf1 = ll.CoxPHFitter(penalizer=1.0)"
   ]
  },
  {
   "cell_type": "code",
   "execution_count": 142,
   "metadata": {
    "collapsed": false
   },
   "outputs": [],
   "source": [
    "tmp_features = ordered_features[:29]\n",
    "tmp_features.append('Tenure_years')\n",
    "tmp_features.append('terminated')"
   ]
  },
  {
   "cell_type": "code",
   "execution_count": 143,
   "metadata": {
    "collapsed": false
   },
   "outputs": [
    {
     "name": "stderr",
     "output_type": "stream",
     "text": [
      "/opt/anaconda/2.3.0/lib/python2.7/site-packages/lifelines/utils/__init__.py:468: FutureWarning: sort(columns=....) is deprecated, use sort_values(by=.....)\n",
      "  df = df.reindex(np.random.permutation(df.index)).sort(event_col)\n",
      "/opt/anaconda/2.3.0/lib/python2.7/site-packages/lifelines/utils/__init__.py:473: FutureWarning: using '-' to provide set differences with Indexes is deprecated, use .difference()\n",
      "  testing_columns = df.columns - [duration_col, event_col]\n",
      "/opt/anaconda/2.3.0/lib/python2.7/site-packages/lifelines/fitters/coxph_fitter.py:285: FutureWarning: sort(columns=....) is deprecated, use sort_values(by=.....)\n",
      "  df.sort(duration_col, inplace=True)\n"
     ]
    },
    {
     "name": "stdout",
     "output_type": "stream",
     "text": [
      "CPU times: user 4min 45s, sys: 2min 51s, total: 7min 37s\n",
      "Wall time: 3min 47s\n"
     ]
    }
   ],
   "source": [
    "%%time\n",
    "cf1_5fold_scores = ll.utils.k_fold_cross_validation(cf1,nr2b[tmp_features],'Tenure_years',event_col='terminated',k=5)"
   ]
  },
  {
   "cell_type": "code",
   "execution_count": 144,
   "metadata": {
    "collapsed": false
   },
   "outputs": [
    {
     "data": {
      "text/plain": [
       "[0.87936068211537988,\n",
       " 0.87993339664188663,\n",
       " 0.877279531187522,\n",
       " 0.88066755118139339,\n",
       " 0.87777519896878142]"
      ]
     },
     "execution_count": 144,
     "metadata": {},
     "output_type": "execute_result"
    }
   ],
   "source": [
    "cf1_5fold_scores"
   ]
  },
  {
   "cell_type": "code",
   "execution_count": 145,
   "metadata": {
    "collapsed": false
   },
   "outputs": [
    {
     "name": "stdout",
     "output_type": "stream",
     "text": [
      "n=67351, number of events=30904\n",
      "\n",
      "                          coef  exp(coef)  se(coef)          z          p  lower 0.95  upper 0.95     \n",
      "FUNC_CNT            -1.919e-01  8.254e-01 1.295e-02 -1.481e+01  1.173e-49  -2.173e-01  -1.665e-01  ***\n",
      "HAVE_INS            -2.045e-01  8.151e-01 9.608e-03 -2.128e+01 1.672e-100  -2.233e-01  -1.856e-01  ***\n",
      "MIN_RT_ANNUAL       -7.810e-01  4.579e-01 2.404e-02 -3.248e+01 1.945e-231  -8.281e-01  -7.339e-01  ***\n",
      "EXTFUNC_CNT          5.024e-02  1.052e+00 6.327e-03  7.941e+00  1.998e-15   3.784e-02   6.265e-02  ***\n",
      "EXT_FUNC_ID_SFI     -9.130e-02  9.127e-01 9.718e-03 -9.395e+00  5.712e-21  -1.104e-01  -7.225e-02  ***\n",
      "PERF1               -9.948e-02  9.053e-01 1.237e-02 -8.042e+00  8.809e-16  -1.237e-01  -7.523e-02  ***\n",
      "MAX_RT_ANNUAL        5.116e-01  1.668e+00 1.985e-02  2.577e+01 1.770e-146   4.727e-01   5.506e-01  ***\n",
      "HAVE_DEP            -2.274e-01  7.966e-01 1.734e-02 -1.312e+01  2.623e-39  -2.614e-01  -1.935e-01  ***\n",
      "DEP_COUNT            1.429e-02  1.014e+00 1.696e-02  8.430e-01  3.992e-01  -1.895e-02   4.753e-02     \n",
      "MERIT1               3.485e-01  1.417e+00 7.105e-03  4.905e+01  0.000e+00   3.346e-01   3.624e-01  ***\n",
      "SAL1                -8.401e-01  4.316e-01 1.571e-02 -5.349e+01  0.000e+00  -8.709e-01  -8.093e-01  ***\n",
      "BOX1                -4.465e-01  6.399e-01 7.276e-03 -6.136e+01  0.000e+00  -4.607e-01  -4.322e-01  ***\n",
      "FUNC_ID_SFI          7.585e-03  1.008e+00 8.063e-03  9.407e-01  3.469e-01  -8.221e-03   2.339e-02     \n",
      "EFUNCCNT1           -2.053e-01  8.144e-01 1.561e-02 -1.315e+01  1.693e-39  -2.359e-01  -1.747e-01  ***\n",
      "ADDRCNT1             9.319e-03  1.009e+00 9.826e-03  9.484e-01  3.429e-01  -9.944e-03   2.858e-02     \n",
      "DEPTCNT1            -5.576e-02  9.458e-01 1.169e-02 -4.771e+00  1.834e-06  -7.868e-02  -3.285e-02  ***\n",
      "JOBCODE             -6.302e-02  9.389e-01 8.751e-03 -7.201e+00  5.965e-13  -8.018e-02  -4.586e-02  ***\n",
      "GRADE_le            -2.680e-02  9.736e-01 5.437e-03 -4.928e+00  8.294e-07  -3.746e-02  -1.614e-02  ***\n",
      "JOB_FAMILY_le       -6.824e-02  9.340e-01 7.807e-03 -8.740e+00  2.328e-18  -8.354e-02  -5.293e-02  ***\n",
      "JOBCNT1             -2.456e-01  7.823e-01 1.147e-02 -2.142e+01 9.347e-102  -2.680e-01  -2.231e-01  ***\n",
      "DIVISION_CODE_SFI_9  3.139e-02  1.032e+00 1.071e-02  2.932e+00  3.371e-03   1.040e-02   5.238e-02   **\n",
      "SUPVCNT1            -5.999e-02  9.418e-01 8.663e-03 -6.926e+00  4.343e-12  -7.697e-02  -4.301e-02  ***\n",
      "Age_years           -8.693e-01  4.193e-01 9.554e-03 -9.098e+01  0.000e+00  -8.880e-01  -8.505e-01  ***\n",
      "DIRECT_RPT_CNT       1.892e-01  1.208e+00 4.578e-03  4.133e+01  0.000e+00   1.803e-01   1.982e-01  ***\n",
      "TOTAL_RPT_CNT        1.161e-02  1.012e+00 3.638e-03  3.192e+00  1.413e-03   4.481e-03   1.875e-02   **\n",
      "FUNCCNT1            -2.034e-01  8.160e-01 1.202e-02 -1.692e+01  3.106e-64  -2.269e-01  -1.798e-01  ***\n",
      "rhubind              9.106e-02  1.095e+00 7.506e-03  1.213e+01  7.129e-34   7.635e-02   1.058e-01  ***\n",
      "RELO_STATE_CNT_SFI  -3.271e-02  9.678e-01 6.679e-03 -4.897e+00  9.708e-07  -4.581e-02  -1.962e-02  ***\n",
      "LOC_STATE_le         1.737e-02  1.018e+00 5.900e-03  2.944e+00  3.237e-03   5.805e-03   2.894e-02   **\n",
      "---\n",
      "Signif. codes:  0 '***' 0.001 '**' 0.01 '*' 0.05 '.' 0.1 ' ' 1 \n",
      "\n",
      "Concordance = 0.879\n"
     ]
    }
   ],
   "source": [
    "cf1.print_summary()"
   ]
  },
  {
   "cell_type": "markdown",
   "metadata": {},
   "source": [
    "## looking at this list \n",
    "* remove DEP_COUNT, FUNC_ID_SFI, ADDRCNT1\n"
   ]
  },
  {
   "cell_type": "code",
   "execution_count": 148,
   "metadata": {
    "collapsed": false
   },
   "outputs": [
    {
     "name": "stdout",
     "output_type": "stream",
     "text": [
      "28\n",
      "32\n"
     ]
    }
   ],
   "source": [
    "second_try_cols = [col for col in tmp_features if not col in ['DEP_COUNT','FUNC_ID_SFI','ADDRCNT1']]\n",
    "print(len(second_try_cols))\n",
    "added_cols = ['JOB_FUNCTION_PSA','SEX','FLSA_STATUS','INTERN']\n",
    "for col in added_cols:\n",
    "    second_try_cols.append(col)\n",
    "print(len(second_try_cols))"
   ]
  },
  {
   "cell_type": "code",
   "execution_count": 149,
   "metadata": {
    "collapsed": false
   },
   "outputs": [
    {
     "name": "stdout",
     "output_type": "stream",
     "text": [
      "CPU times: user 4min 58s, sys: 2min 19s, total: 7min 17s\n",
      "Wall time: 3min 47s\n"
     ]
    }
   ],
   "source": [
    "%%time\n",
    "cf2 = ll.CoxPHFitter(penalizer=1.0)\n",
    "cf2_5fold_scores = ll.utils.k_fold_cross_validation(cf2,nr2b[second_try_cols],'Tenure_years',event_col='terminated',k=5)"
   ]
  },
  {
   "cell_type": "code",
   "execution_count": 150,
   "metadata": {
    "collapsed": false
   },
   "outputs": [
    {
     "data": {
      "text/plain": [
       "[0.88101578614000375,\n",
       " 0.8810755082100622,\n",
       " 0.88322909853935039,\n",
       " 0.88069833990937663,\n",
       " 0.8819151249554158]"
      ]
     },
     "execution_count": 150,
     "metadata": {},
     "output_type": "execute_result"
    }
   ],
   "source": [
    "cf2_5fold_scores"
   ]
  },
  {
   "cell_type": "code",
   "execution_count": 151,
   "metadata": {
    "collapsed": false
   },
   "outputs": [
    {
     "name": "stdout",
     "output_type": "stream",
     "text": [
      "n=67351, number of events=30904\n",
      "\n",
      "                          coef  exp(coef)  se(coef)          z          p  lower 0.95  upper 0.95     \n",
      "FUNC_CNT            -1.999e-01  8.188e-01 1.265e-02 -1.580e+01  2.916e-56  -2.247e-01  -1.751e-01  ***\n",
      "HAVE_INS            -1.910e-01  8.262e-01 9.642e-03 -1.980e+01  2.698e-87  -2.099e-01  -1.721e-01  ***\n",
      "MIN_RT_ANNUAL       -8.648e-01  4.211e-01 2.392e-02 -3.616e+01 2.642e-286  -9.117e-01  -8.179e-01  ***\n",
      "EXTFUNC_CNT          6.088e-02  1.063e+00 6.199e-03  9.822e+00  9.095e-23   4.873e-02   7.303e-02  ***\n",
      "EXT_FUNC_ID_SFI     -6.936e-02  9.330e-01 9.191e-03 -7.546e+00  4.485e-14  -8.738e-02  -5.134e-02  ***\n",
      "PERF1               -6.850e-02  9.338e-01 1.222e-02 -5.607e+00  2.054e-08  -9.244e-02  -4.455e-02  ***\n",
      "MAX_RT_ANNUAL        4.308e-01  1.538e+00 2.090e-02  2.061e+01  2.106e-94   3.898e-01   4.718e-01  ***\n",
      "HAVE_DEP            -2.252e-01  7.984e-01 1.175e-02 -1.916e+01  7.516e-82  -2.482e-01  -2.022e-01  ***\n",
      "MERIT1               3.180e-01  1.374e+00 6.480e-03  4.907e+01  0.000e+00   3.053e-01   3.307e-01  ***\n",
      "SAL1                -8.816e-01  4.141e-01 1.689e-02 -5.219e+01  0.000e+00  -9.148e-01  -8.485e-01  ***\n",
      "BOX1                -4.375e-01  6.456e-01 7.097e-03 -6.165e+01  0.000e+00  -4.514e-01  -4.236e-01  ***\n",
      "EFUNCCNT1           -1.857e-01  8.305e-01 1.537e-02 -1.208e+01  1.289e-33  -2.158e-01  -1.556e-01  ***\n",
      "DEPTCNT1            -5.231e-02  9.490e-01 1.174e-02 -4.455e+00  8.392e-06  -7.533e-02  -2.929e-02  ***\n",
      "JOBCODE             -3.084e-02  9.696e-01 8.927e-03 -3.454e+00  5.519e-04  -4.834e-02  -1.334e-02  ***\n",
      "GRADE_le            -4.218e-02  9.587e-01 5.509e-03 -7.655e+00  1.929e-14  -5.298e-02  -3.137e-02  ***\n",
      "JOB_FAMILY_le       -7.352e-02  9.291e-01 7.903e-03 -9.303e+00  1.369e-20  -8.902e-02  -5.803e-02  ***\n",
      "JOBCNT1             -2.467e-01  7.814e-01 1.164e-02 -2.120e+01 9.188e-100  -2.695e-01  -2.239e-01  ***\n",
      "DIVISION_CODE_SFI_9  1.007e-02  1.010e+00 1.087e-02  9.266e-01  3.541e-01  -1.124e-02   3.139e-02     \n",
      "SUPVCNT1            -5.286e-02  9.485e-01 8.549e-03 -6.183e+00  6.282e-10  -6.962e-02  -3.610e-02  ***\n",
      "Age_years           -8.569e-01  4.245e-01 9.703e-03 -8.831e+01  0.000e+00  -8.759e-01  -8.378e-01  ***\n",
      "DIRECT_RPT_CNT       1.889e-01  1.208e+00 4.530e-03  4.170e+01  0.000e+00   1.800e-01   1.978e-01  ***\n",
      "TOTAL_RPT_CNT        1.361e-02  1.014e+00 4.082e-03  3.333e+00  8.578e-04   5.605e-03   2.161e-02  ***\n",
      "FUNCCNT1            -2.119e-01  8.091e-01 1.158e-02 -1.830e+01  8.461e-75  -2.346e-01  -1.892e-01  ***\n",
      "rhubind              8.318e-02  1.087e+00 7.343e-03  1.133e+01  9.565e-30   6.878e-02   9.757e-02  ***\n",
      "RELO_STATE_CNT_SFI  -4.482e-02  9.562e-01 6.681e-03 -6.708e+00  1.968e-11  -5.792e-02  -3.172e-02  ***\n",
      "LOC_STATE_le         1.015e-02  1.010e+00 5.894e-03  1.722e+00  8.511e-02  -1.406e-03   2.170e-02    .\n",
      "JOB_FUNCTION_PSA    -7.101e-02  9.314e-01 7.694e-03 -9.230e+00  2.699e-20  -8.610e-02  -5.593e-02  ***\n",
      "SEX                  1.487e-01  1.160e+00 6.269e-03  2.372e+01 2.012e-124   1.364e-01   1.610e-01  ***\n",
      "FLSA_STATUS          8.724e-02  1.091e+00 8.762e-03  9.957e+00  2.349e-23   7.006e-02   1.044e-01  ***\n",
      "INTERN              -1.208e-01  8.862e-01 6.125e-03 -1.973e+01  1.290e-86  -1.328e-01  -1.088e-01  ***\n",
      "---\n",
      "Signif. codes:  0 '***' 0.001 '**' 0.01 '*' 0.05 '.' 0.1 ' ' 1 \n",
      "\n",
      "Concordance = 0.882\n"
     ]
    }
   ],
   "source": [
    "cf2.print_summary()"
   ]
  },
  {
   "cell_type": "code",
   "execution_count": null,
   "metadata": {
    "collapsed": true
   },
   "outputs": [],
   "source": []
  },
  {
   "cell_type": "markdown",
   "metadata": {},
   "source": [
    "## Explore the difference between RETIRE & SEPARATION"
   ]
  },
  {
   "cell_type": "code",
   "execution_count": null,
   "metadata": {
    "collapsed": false
   },
   "outputs": [],
   "source": [
    "em1[['retired','terminated']].corr()"
   ]
  },
  {
   "cell_type": "code",
   "execution_count": null,
   "metadata": {
    "collapsed": false
   },
   "outputs": [],
   "source": [
    "pd.crosstab(em1['retired'],em1['terminated'])"
   ]
  },
  {
   "cell_type": "code",
   "execution_count": null,
   "metadata": {
    "collapsed": false
   },
   "outputs": [],
   "source": [
    "pd.crosstab(em1['status'],em1['terminated'])"
   ]
  },
  {
   "cell_type": "code",
   "execution_count": null,
   "metadata": {
    "collapsed": false
   },
   "outputs": [],
   "source": [
    "sum(em1['Age_years']>=50.0)"
   ]
  },
  {
   "cell_type": "code",
   "execution_count": null,
   "metadata": {
    "collapsed": true
   },
   "outputs": [],
   "source": [
    "over50 = em1[em1['Age_years']>=50.].copy()"
   ]
  },
  {
   "cell_type": "code",
   "execution_count": null,
   "metadata": {
    "collapsed": false
   },
   "outputs": [],
   "source": [
    "sns.distplot(em1[em1.Age_years<50.]['Tenure_years'],label='under50')\n",
    "sns.distplot(em1[em1.Age_years>=50.]['Tenure_years'],label='over50')\n",
    "plt.legend()"
   ]
  },
  {
   "cell_type": "code",
   "execution_count": null,
   "metadata": {
    "collapsed": false
   },
   "outputs": [],
   "source": [
    "over50.retired.value_counts()"
   ]
  },
  {
   "cell_type": "code",
   "execution_count": null,
   "metadata": {
    "collapsed": false
   },
   "outputs": [],
   "source": [
    "over50.status.value_counts()"
   ]
  },
  {
   "cell_type": "code",
   "execution_count": null,
   "metadata": {
    "collapsed": false
   },
   "outputs": [],
   "source": [
    "over50.terminated.value_counts()"
   ]
  },
  {
   "cell_type": "markdown",
   "metadata": {},
   "source": [
    "## what about removing retired from list of training/test set for my model?"
   ]
  },
  {
   "cell_type": "code",
   "execution_count": null,
   "metadata": {
    "collapsed": false
   },
   "outputs": [],
   "source": [
    "nr_em.status.value_counts(), nr_em.terminated.value_counts()"
   ]
  },
  {
   "cell_type": "code",
   "execution_count": null,
   "metadata": {
    "collapsed": false
   },
   "outputs": [],
   "source": [
    "pd.crosstab(nr_em.status,nr_em.terminated)"
   ]
  },
  {
   "cell_type": "markdown",
   "metadata": {},
   "source": [
    "### create a hold out set"
   ]
  },
  {
   "cell_type": "code",
   "execution_count": null,
   "metadata": {
    "collapsed": false
   },
   "outputs": [],
   "source": [
    "# break into evaluation and build sets\n",
    "print \"Starting with subset of {0} employees.\".format(len(nr_em))\n",
    "eval_fraction = 0.20\n",
    "ne2build, ne2eval = cross_validation.train_test_split(nr_em,test_size=eval_fraction,random_state = 77843)\n",
    "print \"Evaluation set has {0} employees; training set has {1} employees.\".format(len(ne2eval),len(ne2build))"
   ]
  },
  {
   "cell_type": "code",
   "execution_count": null,
   "metadata": {
    "collapsed": false
   },
   "outputs": [],
   "source": [
    "ne2build.status.value_counts()"
   ]
  },
  {
   "cell_type": "code",
   "execution_count": null,
   "metadata": {
    "collapsed": false
   },
   "outputs": [],
   "source": [
    "ne2eval.status.value_counts()"
   ]
  },
  {
   "cell_type": "code",
   "execution_count": null,
   "metadata": {
    "collapsed": false
   },
   "outputs": [],
   "source": [
    "len(mod_cols2)"
   ]
  },
  {
   "cell_type": "code",
   "execution_count": null,
   "metadata": {
    "collapsed": false
   },
   "outputs": [],
   "source": [
    "simple_drop_cols =['retired','terminated']\n",
    "sep_mod_cols = [col for col in mod_cols2 if not col in simple_drop_cols]\n"
   ]
  },
  {
   "cell_type": "code",
   "execution_count": null,
   "metadata": {
    "collapsed": false
   },
   "outputs": [],
   "source": [
    "sep_mod_cols.append('status')\n",
    "len(sep_mod_cols)"
   ]
  },
  {
   "cell_type": "markdown",
   "metadata": {
    "collapsed": true
   },
   "source": [
    "## Look at Tenure distribution (again)"
   ]
  },
  {
   "cell_type": "code",
   "execution_count": null,
   "metadata": {
    "collapsed": false
   },
   "outputs": [],
   "source": [
    "sns.distplot(ne2build.Tenure_years,label='build set')\n",
    "sns.distplot(ne2eval.Tenure_years,label='eval set')\n",
    "plt.legend()"
   ]
  },
  {
   "cell_type": "markdown",
   "metadata": {},
   "source": [
    "### Check that they are statistically similar"
   ]
  },
  {
   "cell_type": "code",
   "execution_count": null,
   "metadata": {
    "collapsed": false
   },
   "outputs": [],
   "source": [
    "from scipy import stats  \n",
    "  \n",
    "z_stat, p_val = stats.ranksums(ne2build.Tenure_years, ne2eval.Tenure_years)  \n",
    "  \n",
    "print \"MWW RankSum P for ne2 build and eval sets Tenure years=\", p_val  \n",
    "print \"MWW RankSum Z-state for ne2 build and eval sets Tenure years=\", z_stat  "
   ]
  },
  {
   "cell_type": "markdown",
   "metadata": {},
   "source": [
    "## Do an overall regressor of Tenure_years \n",
    "* this establishes a benchmark on accuracy\n",
    "* methods:\n",
    "    - RF\n",
    "    - GBM\n",
    "    - linear"
   ]
  },
  {
   "cell_type": "code",
   "execution_count": null,
   "metadata": {
    "collapsed": true
   },
   "outputs": [],
   "source": [
    "\n",
    "\n"
   ]
  },
  {
   "cell_type": "code",
   "execution_count": null,
   "metadata": {
    "collapsed": false
   },
   "outputs": [],
   "source": [
    "### define the columns to use\n",
    "'status' in sep_mod_cols[:-1]\n",
    "regress_cols = [cols for cols in sep_mod_cols if cols != 'Tenure_years']\n",
    "regress_cols.remove('status')\n"
   ]
  },
  {
   "cell_type": "code",
   "execution_count": null,
   "metadata": {
    "collapsed": false
   },
   "outputs": [],
   "source": [
    "%%time\n",
    "# Fit regression model\n",
    "params = {'n_estimators': 300, 'n_jobs': -1, 'oob_score': True}\n",
    "          #'max_depth': 4, 'min_samples_split': 1,\n",
    "          #'learning_rate': 0.01, 'loss': 'ls','n_jobs': -1}\n",
    "fullRFR = ensemble.RandomForestRegressor(**params)\n",
    "\n",
    "fullRFR.fit(ne2build[regress_cols], ne2build.Tenure_years)"
   ]
  },
  {
   "cell_type": "code",
   "execution_count": null,
   "metadata": {
    "collapsed": false
   },
   "outputs": [],
   "source": [
    "## apply to the eval set for MSE\n",
    "\n",
    "rfr_tenure_pred = fullRFR.predict(ne2eval[regress_cols])\n",
    "mse = metrics.mean_squared_error(ne2eval.Tenure_years,rfr_tenure_pred )\n",
    "print(\"MSE: %.4f\" % mse)"
   ]
  },
  {
   "cell_type": "code",
   "execution_count": null,
   "metadata": {
    "collapsed": false
   },
   "outputs": [],
   "source": [
    "plt.scatter(ne2eval.Tenure_years,rfr_tenure_pred,alpha=0.3)\n",
    "plt.xlabel('True Tenure')\n",
    "plt.ylabel('Predicted Tenure')"
   ]
  },
  {
   "cell_type": "code",
   "execution_count": null,
   "metadata": {
    "collapsed": false
   },
   "outputs": [],
   "source": [
    "plt.scatter(ne2eval[ne2eval.status==1].Tenure_years, fullRFR.predict(ne2eval[ne2eval.status==1][regress_cols]),alpha=0.3,color='indianred')\n",
    "plt.xlabel('True Tenure Years')\n",
    "plt.ylabel('Predicted Tenure years')\n",
    "plt.title('For those who separated (evaluation set)')\n",
    "mse = metrics.mean_squared_error(ne2eval[ne2eval.status==1].Tenure_years, fullRFR.predict(ne2eval[ne2eval.status==1][regress_cols] ))\n",
    "print(\"MSE: %.4f\" % mse)"
   ]
  },
  {
   "cell_type": "code",
   "execution_count": null,
   "metadata": {
    "collapsed": false
   },
   "outputs": [],
   "source": [
    "rf_full_regresssion_tenure = plotFI(fullRFR,ne2build[regress_cols].columns.tolist())"
   ]
  },
  {
   "cell_type": "markdown",
   "metadata": {},
   "source": [
    "#### It looks like the time-sensitive fields (i.e. those ending in '10' or MOS are the dominating ones here)"
   ]
  },
  {
   "cell_type": "code",
   "execution_count": null,
   "metadata": {
    "collapsed": false
   },
   "outputs": [],
   "source": [
    "sns.distplot(ne2build['CUR_FUNC_MOS'],label='current_func_mos')\n",
    "sns.distplot(ne2build['CUR_LOC_MOS'],label='current_loc_mos')\n",
    "sns.distplot(ne2build['CUR_GRADE_MOS'],label='current_grade_mos')\n",
    "plt.legend()\n",
    "plt.xlabel('months of service value')"
   ]
  },
  {
   "cell_type": "code",
   "execution_count": null,
   "metadata": {
    "collapsed": false
   },
   "outputs": [],
   "source": [
    "sns.distplot(ne2build['ADDRCNT10'],label='addresscount10')\n",
    "sns.distplot(ne2build['JOBCNT10'],label='jobcount10')\n",
    "sns.distplot(ne2build['ADDRCNT1'],label='addresscount1')\n",
    "sns.distplot(ne2build['JOBCNT1'],label='jobcount1')\n",
    "plt.legend()\n"
   ]
  },
  {
   "cell_type": "code",
   "execution_count": null,
   "metadata": {
    "collapsed": false
   },
   "outputs": [],
   "source": []
  },
  {
   "cell_type": "code",
   "execution_count": null,
   "metadata": {
    "collapsed": false
   },
   "outputs": [],
   "source": []
  },
  {
   "cell_type": "code",
   "execution_count": null,
   "metadata": {
    "collapsed": false
   },
   "outputs": [],
   "source": []
  },
  {
   "cell_type": "code",
   "execution_count": null,
   "metadata": {
    "collapsed": true
   },
   "outputs": [],
   "source": [
    "regress_cols2 = [col for col in regress_cols if not col in historical_cols]"
   ]
  },
  {
   "cell_type": "code",
   "execution_count": null,
   "metadata": {
    "collapsed": false
   },
   "outputs": [],
   "source": [
    "%%time\n",
    "# Fit regression model\n",
    "params = {'n_estimators': 300, 'n_jobs': -1, 'oob_score': True}\n",
    "          #'max_depth': 4, 'min_samples_split': 1,\n",
    "          #'learning_rate': 0.01, 'loss': 'ls','n_jobs': -1}\n",
    "fullRFR2 = ensemble.RandomForestRegressor(**params)\n",
    "\n",
    "fullRFR2.fit(ne2build[regress_cols2], ne2build.Tenure_years)"
   ]
  },
  {
   "cell_type": "code",
   "execution_count": null,
   "metadata": {
    "collapsed": false
   },
   "outputs": [],
   "source": [
    "## apply to the eval set for MSE\n",
    "\n",
    "rfr2_tenure_pred = fullRFR2.predict(ne2eval[regress_cols2])\n",
    "mse = metrics.mean_squared_error(ne2eval.Tenure_years,rfr2_tenure_pred )\n",
    "print(\"MSE: %.4f\" % mse)\n",
    "\n",
    "plt.scatter(ne2eval.Tenure_years,rfr2_tenure_pred,alpha=0.3)\n",
    "plt.xlabel('True Tenure (years)')\n",
    "plt.ylabel('Predicted Tenure (years)')\n",
    "\n",
    "plt.title('Evaluation set RFR2')"
   ]
  },
  {
   "cell_type": "code",
   "execution_count": null,
   "metadata": {
    "collapsed": false
   },
   "outputs": [],
   "source": [
    "rf2_full_regresssion_tenure = plotFI(fullRFR2,regress_cols2)"
   ]
  },
  {
   "cell_type": "code",
   "execution_count": null,
   "metadata": {
    "collapsed": false
   },
   "outputs": [],
   "source": [
    "for mcol in mos_cols[:-1]:\n",
    "    sns.distplot(ne2build[mcol],label=mcol)\n",
    "plt.legend()"
   ]
  },
  {
   "cell_type": "markdown",
   "metadata": {
    "collapsed": false
   },
   "source": [
    "# Construct the time k-folds\n",
    "### use the novel temporal kfolds\n",
    "1. for the training set split into time-windows \n",
    "2. for the evaluation set reset the index and apply time-windows"
   ]
  },
  {
   "cell_type": "code",
   "execution_count": null,
   "metadata": {
    "collapsed": false
   },
   "outputs": [],
   "source": [
    "# define the date range\n",
    "full_date_range = [str(a)+'-01-01' for a in np.arange(2002,2016)]\n",
    "print len(full_date_range)"
   ]
  },
  {
   "cell_type": "code",
   "execution_count": null,
   "metadata": {
    "collapsed": true
   },
   "outputs": [],
   "source": [
    "tstmp_cols = [col for col in ne2build.columns.tolist() if col.endswith('tstmp')]"
   ]
  },
  {
   "cell_type": "code",
   "execution_count": null,
   "metadata": {
    "collapsed": true
   },
   "outputs": [],
   "source": [
    "import itertools\n",
    "def create_temporal_kfolds(dates_df,date_range,time_delta):\n",
    "    \"\"\"\n",
    "    inputs: date_range\n",
    "            time_delta (in years)\n",
    "            dataframe_dates --> assumes 'hire_tstmp' and 'term_tstmp'\n",
    "    outputs:\n",
    "            kf is a list of list of list: \n",
    "            [indices from original df that are 'in' a fold, indices from original df that are 'out' of a fold]\n",
    "            each row in this corresponds to the temporal-kfold\n",
    "            filtered_pairs is a list of start and end times\n",
    "    \"\"\"\n",
    "    min_date = pd.to_datetime(date_range[0])\n",
    "    max_date = pd.to_datetime(date_range[-1])\n",
    "    my_index = dates_df[(dates_df.term_tstmp>=min_date)].index\n",
    "    # calculate number of kfolds\n",
    "    date_span_years = np.int(np.round((max_date-min_date).days/365.24,0))\n",
    "    nfolds = date_span_years - time_delta\n",
    "    print date_span_years, time_delta, nfolds, len(my_index)\n",
    "    all_pairs = list(itertools.combinations(date_range,2))\n",
    "    # now filter if difference in time  == time_delta\n",
    "    filtered_pairs = []\n",
    "    for i0,i1 in all_pairs:\n",
    "        if int(i1[:4])-int(i0[:4]) == time_delta:\n",
    "            filtered_pairs.append([i0,i1])\n",
    "            #print i0,i1\n",
    "    print len(filtered_pairs)\n",
    "    # now process each of these filtered pairs\n",
    "    kf = []\n",
    "    for j0,j1 in filtered_pairs: # omit the last one because it has no corresponding partner/endtime\n",
    "        start_date = pd.to_datetime(j0)\n",
    "        end_date = pd.to_datetime(j1)\n",
    "        #print j0,j1#,len(k)\n",
    "        \n",
    "        \n",
    "        kfold_idx = dates_df[(dates_df.term_tstmp >= start_date) & (dates_df.hire_tstmp<start_date)].index.tolist()\n",
    "        after_idx = dates_df[(dates_df.hire_tstmp>=end_date)].index.tolist()\n",
    "        before_idx = list(set(my_index)-set(kfold_idx)-set(after_idx))\n",
    "        #temporal_kfold(dates_df[dates_df.term_tstmp>=min_date],start_date,end_date)\n",
    "        #print \"\\t\",len(kfold_idx), len(after_idx),len(before_idx)\n",
    "        \n",
    "        # combined out of fold\n",
    "        not_kfold_idx = list(set(after_idx).union(set(before_idx)))\n",
    "        \n",
    "        print j0,j1,len(kfold_idx),len(not_kfold_idx)\n",
    "        kf.append([kfold_idx,not_kfold_idx])\n",
    "    \n",
    "    return kf,filtered_pairs"
   ]
  },
  {
   "cell_type": "code",
   "execution_count": null,
   "metadata": {
    "collapsed": true
   },
   "outputs": [],
   "source": [
    "def reset_years2(paired_times,indices,dates_df,cols_to_alter = ['Age_years','Tenure_years']):\n",
    "    # calc the Age at beginnning of time period\n",
    "    ## now calculate age at hire\n",
    "    reset_age_tdelta = pd.to_datetime(paired_times[0])-dates_df['birth_tstmp']#)/np.timedelta64(1,'D')\n",
    "    reset_tenure_tdelta = pd.to_datetime(paired_times[0])-dates_df['hire_tstmp']#)/np.timedelta64(1,'D')\n",
    "    # convert to days, months or years\n",
    "    reset_age = reset_age_tdelta/np.timedelta64(1,'Y')\n",
    "    reset_tenure = reset_tenure_tdelta/np.timedelta64(1,'Y')\n",
    "    # look at terminated or not\n",
    "    #empl_df['terminated']= 0\n",
    "    # push these as a data frame so I can merge\n",
    "    adj_times = pd.DataFrame()\n",
    "    adj_times['adj_age']=reset_age\n",
    "    adj_times['adj_tenure']=reset_tenure      \n",
    "    return adj_times\n"
   ]
  },
  {
   "cell_type": "code",
   "execution_count": null,
   "metadata": {
    "collapsed": true
   },
   "outputs": [],
   "source": [
    "def define_target_within_x_years(df,paired_dates,tfold,n_years,target_col):\n",
    "    \"\"\"\n",
    "    inputs:\n",
    "        df -- data frame\n",
    "        paired_dates (2nd output from create_temporal_kfolds)\n",
    "        tfold (1st output from create_temporal_kfolds)\n",
    "        targe_col --> desired target\n",
    "        \n",
    "    plan is to adjust the target, Age and tenure to match time frame of temporal kfold\n",
    "    outputs:\n",
    "    \"\"\"\n",
    "    print len(tfold)#, paired_dates\n",
    "\n",
    "    df_dict = {}\n",
    "    for i,tf in enumerate(tfold):\n",
    "        start_date = paired_dates[i][0]\n",
    "        end_date = paired_dates[i][1]\n",
    "        #print start_date,end_date,n_years\n",
    "        #altered_fold_df = pd.DataFrame(columns=['fold_mbr','adj_age','adj_tenure','adj_term'])\n",
    "        # if in the fold reset the age to start of fold; define new window of termination\n",
    "        in_fold_idx = tfold[i][0] # the index of the in_fold_observations \n",
    "        # note that \"sex\" is just used to create a value that then gets dummied out\n",
    "        cols_to_copy = ['SEX','Age_years','Tenure_years']\n",
    "        cols_to_copy.append(target_col)\n",
    "        \n",
    "        altered_fold_df = df[cols_to_copy].copy()\n",
    "        # adjust these\n",
    "        altered_fold_df.columns=['fold_mbr','adj_age','adj_tenure','adj_tgt']\n",
    "        altered_fold_df.fold_mbr = 0\n",
    "        \n",
    "        #ra,rt = reset_years(paired_dates[i],in_fold_idx,dates_df)\n",
    "        adj_df =reset_years2(paired_dates[i],in_fold_idx,df)\n",
    "        #altered_fold_df.ix[in_fold_idx]['adj_age']=ra\n",
    "        #altered_fold_df.ix[in_fold_idx]['adj_tenure']=rt\n",
    "        altered_fold_df.loc[in_fold_idx,['adj_age','adj_tenure']]=adj_df.ix[in_fold_idx] # assign to the altered values\n",
    "        new_tgt = (df.ix[in_fold_idx]['term_tstmp']<= end_date).as_matrix().astype(np.int)\n",
    "        #(em2mod.ix[kf[0][0]]['term_tstmp']<= fp[0][1]).as_matrix().astype(np.int)\n",
    "        # deal with last time-fold specially\n",
    "        if i == len(tfold)-1:\n",
    "            new_tgt = (df.ix[in_fold_idx]['term_tstmp']< end_date).as_matrix().astype(np.int)\n",
    "        #print \"\\t\", len(new_term),sum(new_term)\n",
    "        altered_fold_df.loc[in_fold_idx,'adj_tgt']=new_tgt\n",
    "        altered_fold_df.loc[in_fold_idx,'fold_mbr']=1\n",
    "        df_dict[i]=altered_fold_df\n",
    "    # now append this to a larger panel\n",
    "    tfold_panel = pd.Panel.from_dict(data =df_dict)\n",
    "    return tfold_panel"
   ]
  },
  {
   "cell_type": "code",
   "execution_count": null,
   "metadata": {
    "collapsed": false
   },
   "outputs": [],
   "source": [
    "def setup_tfolds(df, n_years, cols_to_model, tgt_value='status',\n",
    "                 time_cols=['Age_years','Tenure_years'], tstmp_cols = tstmp_cols, date_range=full_date_range):\n",
    "    \"\"\" Function to create the temporal kfolds\n",
    "    parameters:\n",
    "        df       - a pandas data frame (that has been preprocessed)\n",
    "        n_years  - size of the temporal window (in years)\n",
    "        cols_to_model - list of columns to use in the modeling procedure \n",
    "        tgt_value  - column name to use as the target variable\n",
    "        time_cols  - list of columns that are time senitive and must be adjusted\n",
    "        tstmp_cols - list of columns that contain timestamps for things like hiring, termination and birth\n",
    "        date_range - list comprising the inclusive annual starting dates from beginning to end of range.\n",
    "    output:\n",
    "        tfolds  - a list containing the indices of in and out of fold members for each of the tfolds created\n",
    "        tfold_panel - a pandas Panel (3D data frame) containing the membership in different folds, the adjusted targets,\n",
    "            the adjusted timesenitive data, and the columns to use for modeling.\n",
    "    \"\"\"    \n",
    "    # step 1 create the temporal_folds\n",
    "    if not [a for a in tstmp_cols if a in df.columns] == tstmp_cols:\n",
    "        print \"The list of required timestamp columns do not exist in the input dataframe.\"\n",
    "        print tstmp_cols\n",
    "        exit\n",
    "    tfolds, paired_dates = create_temporal_kfolds(df[tstmp_cols],date_range, n_years) \n",
    "    #defines the time-windows and assigns observations to folds\n",
    "    \n",
    "    # create the time-shifted tfolds and push into a pandas Panel (3D data frame)\n",
    "    tfold_panel=transform_df_to_tfold(df,tfolds,paired_dates,n_years,cols_to_model, tgt_value,tstmp_cols,time_cols)\n",
    "    return tfold_panel, tfolds"
   ]
  },
  {
   "cell_type": "code",
   "execution_count": null,
   "metadata": {
    "collapsed": true
   },
   "outputs": [],
   "source": [
    "def transform_df_to_tfold(df,tfold,paired_dates,n_years,cols_to_keep,target_col,tstmp_cols,time_cols):\n",
    "    \"\"\"\n",
    "    Function to adjust the input data frame so that time_sensitive columns and target column\n",
    "    conform to the bounds of that temporal kfold (tfold). Specifically adjust the target, Age and tenure \n",
    "    to match time frame of temporal kfold\n",
    "    \n",
    "    Parameters:\n",
    "        df -- a pandas data frame\n",
    "        paired_dates (2nd output from create_temporal_kfolds)\n",
    "        tfolds (1st output from create_temporal_kfolds)\n",
    "        target_col --> desired target\n",
    "        cols_to_keep --> the list of columns within df that get expressed in df.\n",
    "        time_cols\n",
    "        \n",
    "    plan is to \n",
    "    outputs:\n",
    "        tfold_panel\n",
    "    \"\"\"\n",
    "    #print len(tfold)#, paired_dates\n",
    "    #print df.columns ,len(df.columns), len(cols_to_keep)\n",
    "    #return\n",
    "    # do some sanity checks\n",
    "    # 1. make sure cols_to_keep, target and tstmp_cols columns are in df.columns\n",
    "    input_column_list = df.columns.tolist()\n",
    "    n_total_columns = len(input_column_list)\n",
    "    #if (n_total_columns != len(cols_to_keep)+len(target_col)+len(tstmp_cols)):\n",
    "        # now look at each piece\n",
    "    targetlist = []\n",
    "    targetlist.append(target_col)\n",
    "    if not check_if_subset(targetlist,input_column_list):\n",
    "            #target_col in df.columns:\n",
    "            #print \"{0} target column not present in input set\".format(target_col)\n",
    "        return\n",
    "    if not check_if_subset(tstmp_cols,input_column_list):\n",
    "        return\n",
    "            #[a for a in tstmp_cols if a in input_column_list] == tstmp_cols: # requires\n",
    "            #print \"There are missing timestamp columns. Recheck the list {0}\".format(tstmp_cols)\n",
    "    #        return\n",
    "    if not check_if_subset(time_cols,input_column_list):\n",
    "            #[a for a in time_cols if a in input_column_list] == time_cols: # requires\n",
    "            #print \"There are missing timestamp columns. Recheck the list {0}\".format(tstmp_cols)\n",
    "        return    \n",
    "    if not check_if_subset(cols_to_keep,input_column_list):\n",
    "        return\n",
    "    \n",
    "    ## now set up the columns for manipulation\n",
    "    cols_to_copy = cols_to_keep\n",
    "    if not check_if_subset(time_cols,cols_to_keep):\n",
    "        cols_to_copy+=time_cols\n",
    "        print len(cols_to_copy)\n",
    "    \n",
    "    \n",
    "    df_dict = {}\n",
    "    \n",
    "    # identify which element of tstmp_cols corresponds to term_tstmp\n",
    "    term_id = tstmp_cols.index('term_tstmp')\n",
    "    birth_id = tstmp_cols.index('birth_tstmp')\n",
    "    hire_id = tstmp_cols.index('hire_tstmp')\n",
    "    #print term_id, tstmp_cols[term_id]\n",
    "    \n",
    "    for i,tf in enumerate(tfold):\n",
    "        start_date = paired_dates[i][0]\n",
    "        end_date = paired_dates[i][1]\n",
    "        \n",
    "        in_fold_idx = tfold[i][0] # the index of the in_fold_observations \n",
    "       \n",
    "        altered_fold_df = df[cols_to_copy].copy()\n",
    "        altered_fold_df['fold_mbr']=0 # create a new column to identify membership in that fold.\n",
    "        altered_fold_df.loc[in_fold_idx,'fold_mbr']=1 # assign the in_fold_indices to that fold membership\n",
    "        ####\n",
    "        # adjust the age and tenure for those in the fold\n",
    "        reset_age_tdelta = pd.to_datetime(start_date)-df.ix[in_fold_idx][tstmp_cols[birth_id]]\n",
    "        reset_age = reset_age_tdelta/np.timedelta64(1,'Y')\n",
    "        reset_tenure_tdelta = pd.to_datetime(start_date)-df.ix[in_fold_idx][tstmp_cols[hire_id]]\n",
    "        reset_tenure = reset_tenure_tdelta/np.timedelta64(1,'Y')\n",
    "        altered_fold_df.loc[in_fold_idx,'Age_years']=reset_age\n",
    "        altered_fold_df.loc[in_fold_idx,'Tenure_years']=reset_tenure\n",
    "        old_tgt = df.ix[tfold[i][1]][target_col]\n",
    "        new_tgt = (df.ix[in_fold_idx][tstmp_cols[term_id]]<= end_date).as_matrix().astype(np.int)\n",
    "        # deal with last time-fold specially\n",
    "        if i == len(tfold)-1:\n",
    "            new_tgt = (df.ix[in_fold_idx][tstmp_cols[term_id]]< end_date).as_matrix().astype(np.int)\n",
    "            \n",
    "        altered_fold_df.loc[in_fold_idx,target_col]=new_tgt\n",
    "        old_tgt = df.ix[tfold[i][1]][target_col]\n",
    "        altered_fold_df.loc[tfold[i][1],target_col] = old_tgt\n",
    "        #ra,rt = reset_years(paired_dates[i],in_fold_idx,dates_df)\n",
    "        \"\"\"adj_df =reset_years2(paired_dates[i],in_fold_idx,df)\n",
    "        #altered_fold_df.ix[in_fold_idx]['adj_age']=ra\n",
    "        #altered_fold_df.ix[in_fold_idx]['adj_tenure']=rt\n",
    "        altered_fold_df.loc[in_fold_idx,time_cols]=adj_df.ix[in_fold_idx] # assign to the altered values\n",
    "        \n",
    "        #(em2mod.ix[kf[0][0]]['term_tstmp']<= fp[0][1]).as_matrix().astype(np.int)\n",
    "        \n",
    "        #print \"\\t\", len(new_term),sum(new_term)\n",
    "        \n",
    "        \"\"\"\n",
    "        \n",
    "        df_dict[i]=altered_fold_df\n",
    "    # now append this to a larger panel\n",
    "    tfold_panel = pd.Panel.from_dict(data =df_dict)\n",
    "    return tfold_panel\n",
    "    \n",
    "\n",
    "def check_if_subset(list1,list2): #compare_column_lists(list1,list2):\n",
    "    if set(list1).issubset(set(list2)):\n",
    "        return 1\n",
    "    else:\n",
    "        print \"{0} is not contained in {1}. Recheck your lists.\".format(list1,list2)\n",
    "        return 0\n",
    "    "
   ]
  },
  {
   "cell_type": "code",
   "execution_count": null,
   "metadata": {
    "collapsed": false
   },
   "outputs": [],
   "source": [
    "from sklearn import tree\n",
    "def apply_tKfold_CV2(modeltype, in_panel, tkfolds, cols_to_use, tgt_column = 'status', ntrees=100,njobs=-1):\n",
    "    \"\"\" Calculate the rmse for each cross-validated temporalFold\n",
    "    \n",
    "    Parameters:\n",
    "        model - a scikit learn model name\n",
    "        in_panel  - a pandas Panel with the observed input data adjusted \n",
    "        tgt_column -- the target variable\n",
    "        cols_to_use -- the input variables to be used in modeling\n",
    "        tkfolds -- the temporal timefolds (list of dimension 2)\n",
    "    outputs:\n",
    "        models --> the list of fit models\n",
    "        RMSE --> the rmse error\n",
    "        \n",
    "    \"\"\"\n",
    "    RMSE = []\n",
    "    roc_auc = []\n",
    "    models = []\n",
    "    \n",
    "    \n",
    "    \n",
    "    for fold_id, indices in enumerate(tkfolds):\n",
    "        training = indices[0]\n",
    "        testing = indices[1]\n",
    "        print \"Running on fold number {0} containing {1} training and {2} test elements\".format(fold_id, len(training),len(testing))\n",
    "        X_train, X_test = in_panel[fold_id][cols_to_use].ix[training].as_matrix(), in_panel[fold_id][cols_to_use].ix[testing].as_matrix()\n",
    "        y_train, y_test = in_panel[fold_id][tgt_column].ix[training].as_matrix(), in_panel[fold_id][tgt_column].ix[testing].as_matrix()\n",
    "        print len(X_train),len(y_train)\n",
    "                                                                                                \n",
    "                                                                                                \n",
    "        if modeltype == 'rfc':\n",
    "            model = ensemble.RandomForestClassifier(n_estimators=ntrees, max_features='auto', oob_score=True,n_jobs=njobs)\n",
    "        elif modeltype=='bgc':\n",
    "            model=ensemble.GradientBoostingClassifier(n_estimators=ntrees,max_features='auto',learning_rate=0.01)\n",
    "        else:\n",
    "            model=tree.DecisionTreeClassifier()\n",
    "            \n",
    "        # Train the model\n",
    "        model.fit(X_train,y_train)\n",
    "        # use the model to predict output\n",
    "        y_fitted = model.predict(X_test)\n",
    "        RMSE.append(np.sqrt(metrics.mean_squared_error(y_test,y_fitted)))\n",
    "        roc_auc.append(metrics.roc_auc_score(y_test,y_fitted))\n",
    "        models.append(model)\n",
    "    # leave the model fit to the entire dataset\n",
    "    #model.fit(in_x,in_y)\n",
    "    \n",
    "    return RMSE,roc_auc,models\n",
    "        "
   ]
  },
  {
   "cell_type": "markdown",
   "metadata": {},
   "source": [
    "## Steps to apply the above protocol\n",
    "1. reintroduced tstmp cols (already there)\n",
    "2. generate the assignment to the Temporal Fold and collapse into a panel\n",
    "    * setup_tfolds\n",
    "3. build the model and calculate RMSE +  roc_auc\n",
    "    * apply_tkfold_CV2\n",
    "4. evaluate on the hold-out data.\n",
    "    * evaluate_models\n",
    "5. evaluate Separation rates for current employees"
   ]
  },
  {
   "cell_type": "code",
   "execution_count": null,
   "metadata": {
    "collapsed": true
   },
   "outputs": [],
   "source": [
    "window_size = [1,2,3,4,5]"
   ]
  },
  {
   "cell_type": "code",
   "execution_count": null,
   "metadata": {
    "collapsed": false
   },
   "outputs": [],
   "source": [
    "used_features = [c for c in regress_cols2 if not c.endswith('MOS')] # remove MOS because of issue with back-dating\n",
    "# remove a few other ones:\n",
    "used_features.remove('MERIT1_d')\n",
    "used_features.append('Tenure_years')\n",
    "#for col in tstmp_cols:\n",
    "#    used_features.append(col)\n",
    "    \n",
    "used_features.append('status')\n",
    "\n",
    "print len(used_features)"
   ]
  },
  {
   "cell_type": "markdown",
   "metadata": {},
   "source": [
    "### 5 year"
   ]
  },
  {
   "cell_type": "code",
   "execution_count": null,
   "metadata": {
    "collapsed": false
   },
   "outputs": [],
   "source": [
    "panel5,tfold5 = setup_tfolds(ne2build, 5, used_features,tgt_value='status',\n",
    "                            time_cols=['Age_years','Tenure_years'])"
   ]
  },
  {
   "cell_type": "code",
   "execution_count": null,
   "metadata": {
    "collapsed": true
   },
   "outputs": [],
   "source": [
    "tf_model_cols = [c for c in used_features if not c.endswith('tstmp')]\n",
    "tf_model_cols.remove('status')\n"
   ]
  },
  {
   "cell_type": "code",
   "execution_count": null,
   "metadata": {
    "collapsed": false
   },
   "outputs": [],
   "source": [
    "panel5"
   ]
  },
  {
   "cell_type": "code",
   "execution_count": null,
   "metadata": {
    "collapsed": false
   },
   "outputs": [],
   "source": [
    "%%time\n",
    "rmse5, roc_auc5, rfmdl5 = apply_tKfold_CV2('rfc',panel5, tfold5, cols_to_use=tf_model_cols,ntrees=300)"
   ]
  },
  {
   "cell_type": "code",
   "execution_count": null,
   "metadata": {
    "collapsed": false
   },
   "outputs": [],
   "source": [
    "np.mean(rmse5), np.mean(roc_auc5)"
   ]
  },
  {
   "cell_type": "code",
   "execution_count": null,
   "metadata": {
    "collapsed": true
   },
   "outputs": [],
   "source": [
    "def evaluate_models(model_list,Xeval):\n",
    "    eval_pred_class = np.zeros((len(Xeval),len(model_list)))\n",
    "    eval_pred_proba = np.zeros((len(Xeval),2,len(model_list)))\n",
    "\n",
    "    for i,mdl in enumerate(model_list):\n",
    "        eval_proba = mdl.predict_proba(Xeval)\n",
    "        eval_pred_class[:,i]=mdl.predict(Xeval)\n",
    "        eval_pred_proba[:,:,i]=eval_proba\n",
    "    #print np.shape(eval_prediction_proba3)\n",
    "    return eval_pred_class, eval_pred_proba"
   ]
  },
  {
   "cell_type": "code",
   "execution_count": null,
   "metadata": {
    "collapsed": true
   },
   "outputs": [],
   "source": [
    "def adjust_eval_by_x_years(df,year_val,modeling_columns,tstmp_cols=tstmp_cols,target_col='status'):\n",
    "    # construct\n",
    "  \n",
    "    ## set up method to assess the eval set\n",
    "    print \"There are {0} elements in the evaluation set\".format(len(df))\n",
    "   \n",
    "    print \"original target variable value counts:\", df[target_col].value_counts()\n",
    "    # restructure to deal with time_frame retirement (target variable)\n",
    "    yr_cut_val = year_val+0.5\n",
    "    # index of those that actually accomplish target within timeframe (allow 0.5 additional years)\n",
    "    eval_within_time_target_index = df[(df[target_col]==1) & (df.Tenure_years <= yr_cut_val)].index\n",
    "    # exclude indices that are active and have tenure less than this time\n",
    "    eval_excluded_index = df[(df[target_col]==0) & (df.Tenure_years  <= yr_cut_val)].index\n",
    "    \n",
    "    # the rest become my not-terminated set\n",
    "    eval_active_index = set(df.index) - set(eval_within_time_target_index) - set(eval_excluded_index)\n",
    "    print len(eval_excluded_index),len(eval_within_time_target_index), len(eval_active_index)\n",
    "    eval_idx_to_use =df.ix[set(df.index)-set(eval_excluded_index)].index\n",
    "    #len(eval_idx_to_use)\n",
    "    # reset the target to 0 for active\n",
    "    eval_new_target = df[target_col].copy()\n",
    "    eval_new_target.ix[eval_active_index] = 0\n",
    "    print \"new target variable value counts: \"\n",
    "    print eval_new_target.ix[eval_idx_to_use].value_counts()\n",
    "    print \"_____\"\n",
    "    y_eval = eval_new_target.ix[eval_idx_to_use].as_matrix().astype(np.int) # true values\n",
    "    eval_adj_tenure = df.ix[eval_idx_to_use].Tenure_years.apply(lambda x: x-year_val if (x>float(year_val)) else 0).values\n",
    "    print len(eval_adj_tenure), len(y_eval)\n",
    "    # now adjust age by length of time; use hire_age if not in set to use.\n",
    "    eval_adj_age = df.ix[eval_idx_to_use].Age_years.apply(lambda x: x-year_val)\n",
    "    hire_age = (df.ix[eval_within_time_target_index]['birth_tstmp']-df.ix[eval_within_time_target_index]['hire_tstmp'])/np.timedelta64(1,'Y')#.days/days_in_year\n",
    "    eval_adj_age.ix[eval_within_time_target_index] = hire_age #df.ix[eval_within_time_target_index]['birth_tstmp'#df_dates['hire_age']\n",
    "    \n",
    "    # construct the evaluation X matrix\n",
    "    print \"input matrix has {0} features\".format(len(modeling_columns))\n",
    "    Xeval = np.zeros((len(eval_idx_to_use),len(modeling_columns)))\n",
    "    # drop 'Age_years' and Tenure_years from the list\n",
    "    cols_to_use = []\n",
    "    cols_to_use+=modeling_columns\n",
    "    cols_to_use.remove('Age_years')\n",
    "    cols_to_use.remove('Tenure_years')#.copy()\n",
    "    \"\"\"\n",
    "    Xeval[:,:-2] = df.ix[eval_idx_to_use][cols_to_use].as_matrix().astype(np.float)\n",
    "    # now put the adjusted tenure and ages into this matrix\n",
    "    Xeval[:,-2] = eval_adj_age.values\n",
    "    Xeval[:,-1]=eval_adj_tenure\n",
    "    #print len(modeling_columns),np.shape(Xeval)\n",
    "    \"\"\"\n",
    "    # this version matches the changed ording of columns\n",
    "    Xeval[:,0]=eval_adj_age.values\n",
    "    Xeval[:,1]=eval_adj_tenure\n",
    "    Xeval[:,2:] = df.ix[eval_idx_to_use][cols_to_use].as_matrix().astype(np.float)\n",
    "    return Xeval, y_eval"
   ]
  },
  {
   "cell_type": "code",
   "execution_count": null,
   "metadata": {
    "collapsed": false
   },
   "outputs": [],
   "source": [
    "X5eval, y5eval = adjust_eval_by_x_years(ne2eval,5,tf_model_cols)"
   ]
  },
  {
   "cell_type": "code",
   "execution_count": null,
   "metadata": {
    "collapsed": true
   },
   "outputs": [],
   "source": [
    "#gb_mdl5_pred_class, gb_mdl5_pred_proba = evaluate_models(gb_mdl5,X5eval)\n",
    "pred_rf5_class, pred_rf5_proba = evaluate_models(rfmdl5,X5eval)"
   ]
  },
  {
   "cell_type": "code",
   "execution_count": null,
   "metadata": {
    "collapsed": false
   },
   "outputs": [],
   "source": [
    "plot_conf_matrix(y5eval,map(np.int,pred_rf5_class.mean(axis=1)))#gb_mdl5_pred_class.mean(axis=1)))"
   ]
  },
  {
   "cell_type": "code",
   "execution_count": null,
   "metadata": {
    "collapsed": false
   },
   "outputs": [],
   "source": [
    "#plot_conf_matrix(y5eval,map(np.int,gb_mdl5_pred_class.mean(axis=1)))\n",
    "plot_roc_curve(y5eval,pred_rf5_proba[:,:,:].mean(axis=2))#gb_mdl5_pred_proba[:,:,:].mean(axis=2))"
   ]
  },
  {
   "cell_type": "code",
   "execution_count": null,
   "metadata": {
    "collapsed": false
   },
   "outputs": [],
   "source": [
    "### plot individual ROC curves\n",
    "for a in xrange(0,len(rfmdl5)):\n",
    "    plot_roc_curve(y5eval,pred_rf5_proba[:,:,a])"
   ]
  },
  {
   "cell_type": "code",
   "execution_count": null,
   "metadata": {
    "collapsed": false
   },
   "outputs": [],
   "source": [
    "np.shape(pred_rf5_class)"
   ]
  },
  {
   "cell_type": "code",
   "execution_count": null,
   "metadata": {
    "collapsed": false
   },
   "outputs": [],
   "source": [
    "plot_conf_matrix(y5eval,pred_rf5_class[:,8])#gb_mdl5_pred_class.mean(axis=1)))"
   ]
  },
  {
   "cell_type": "code",
   "execution_count": null,
   "metadata": {
    "collapsed": false
   },
   "outputs": [],
   "source": [
    "fi_5df = create_fi_df(rfmdl5,tf_model_cols)\n",
    "val_cols = [a for a in fi_5df.columns if 'value' in a]\n",
    "fi_5df[val_cols].T.boxplot()\n",
    "plt.title('Feature Importances for 5year former')\n",
    "plt.ylabel('Feature Importances in Tfolds')"
   ]
  },
  {
   "cell_type": "code",
   "execution_count": null,
   "metadata": {
    "collapsed": false
   },
   "outputs": [],
   "source": [
    "fi_5df.sort_values(by='avg_val',ascending=False)[val_cols].head(20).T.boxplot(rot=90)"
   ]
  },
  {
   "cell_type": "markdown",
   "metadata": {},
   "source": [
    "## This model is not great\n",
    "* perhaps overfit?"
   ]
  },
  {
   "cell_type": "code",
   "execution_count": null,
   "metadata": {
    "collapsed": false
   },
   "outputs": [],
   "source": [
    "len(tf_model_cols)"
   ]
  },
  {
   "cell_type": "code",
   "execution_count": null,
   "metadata": {
    "collapsed": false
   },
   "outputs": [],
   "source": [
    "[col for col in tf_model_cols if col.startswith('JOB_FUNCTION')]"
   ]
  },
  {
   "cell_type": "code",
   "execution_count": null,
   "metadata": {
    "collapsed": false
   },
   "outputs": [],
   "source": [
    "empl1.JOB_FUNCTION.value_counts()"
   ]
  },
  {
   "cell_type": "markdown",
   "metadata": {},
   "source": [
    "## Try a different PIPE:\n",
    "* include the survival encoding"
   ]
  },
  {
   "cell_type": "code",
   "execution_count": null,
   "metadata": {
    "collapsed": false
   },
   "outputs": [],
   "source": [
    "empl1.Tenure_years.min(), empl1.Tenure_years.max()"
   ]
  },
  {
   "cell_type": "code",
   "execution_count": null,
   "metadata": {
    "collapsed": true
   },
   "outputs": [],
   "source": [
    "ann_tenure_range = np.linspace(0,63)\n",
    "#mthl_tenure_range = np.linspace(0,65,781)\n",
    "def calculate_survival_functions_b(df,y, time_col, col_name,num_cutoff = 40,timerange =ann_tenure_range):\n",
    "    \n",
    "    \"\"\" Function to generically return a dataframe of survival function, grouped by some categorical column\n",
    "    inputs:\n",
    "        df --> database to derive survival functions from\n",
    "        time_col --> the temporal column to use for SF modeling (Kaplan Meier fitter applied)\n",
    "        event_col --> the truncated column to use for SF modeling\n",
    "        col_name --> the column to group up and determine KMF sf for\n",
    "        num_cutoff --> number of groups to consider\n",
    "        timerange --> min and max range\n",
    "    outputs:\n",
    "        survivalfunc_df --> a data frame that contains survival function.\n",
    "\n",
    "    other options:\n",
    "        *frac_cutoff --> the fraction of unique elements that will be kept as separate groups\n",
    "        *min_size_cutoff --> min size to use for the cutoff.\n",
    "        * these last two are not implemented\n",
    "    \"\"\"\n",
    "    from lifelines import KaplanMeierFitter\n",
    "    kmf=KaplanMeierFitter()\n",
    "    # create example for all cases -- serves as background\n",
    "    # create a time range\n",
    "    \n",
    "    kmf.fit(df[time_col],timeline=timerange,event_observed=y,label='all')\n",
    "    survivalfunc_df = pd.DataFrame(kmf.survival_function_)\n",
    "    # groupify the dataframe\n",
    "    grp_value_counts = df[col_name].value_counts()\n",
    "    #if frac_cutoff == None:\n",
    "    #    #by default take 15 %\n",
    "    #    frac_cutoff = .15 \n",
    "    #top_n_groups = int(frac_cutoff *len(grp_value_counts))\n",
    "    #if min_size_cutoff == None:\n",
    "        # by default \n",
    "    # Take the top num_cutoff groups\n",
    "    #my_grps = grp_value_counts.ix[:num_cutoff].index.tolist() \n",
    "    my_grps = grp_value_counts.iloc[:num_cutoff].index.tolist() \n",
    "    \n",
    "    # make a list of elements in each of these groups\n",
    "    grp_dict = {}\n",
    "    for grp in my_grps: \n",
    "        grp_dict[grp] = df[df[col_name] == grp].index.tolist()\n",
    "    # loop through grps and create kmf survival function\n",
    "    for i,jgrp in enumerate(my_grps):\n",
    "        j_idx = grp_dict[jgrp]\n",
    "        #print i, jgrp, len(j_idx)\n",
    "        kmf.fit(df[time_col].ix[j_idx],timeline=timerange,event_observed=y.ix[j_idx],label=str(jgrp))\n",
    "        survivalfunc_df = pd.concat([survivalfunc_df,kmf.survival_function_],axis=1)\n",
    "    \n",
    "    \n",
    "    return survivalfunc_df\n",
    "\n",
    "def return_first_time_survival(sfdf,thresh=0.5):\n",
    "    from collections import defaultdict\n",
    "    \n",
    "    # assign all value to the default\n",
    "    default_value = sfdf[sfdf['all']<=thresh].index[0]\n",
    "    median_survival_dict = defaultdict(lambda: default_value)\n",
    "    for c in sfdf.columns[1:]:\n",
    "        #print c\n",
    "        try:\n",
    "            my_sf_date = sfdf[sfdf[c]<=thresh].index[0]\n",
    "        except IndexError: # because never reached that threshold value\n",
    "            my_sf_date = sfdf.index[-1]\n",
    "        except KeyError: # because of type of the key\n",
    "            my_sf_date = sfdf[sfdf[int(c)]<=thresh].index[0]\n",
    "\n",
    "        median_survival_dict[c]=my_sf_date\n",
    "        \n",
    "    return median_survival_dict"
   ]
  },
  {
   "cell_type": "code",
   "execution_count": null,
   "metadata": {
    "collapsed": false
   },
   "outputs": [],
   "source": [
    "from sklearn.base import BaseEstimator,TransformerMixin\n",
    "class SurvivalEncodeColumn(BaseEstimator, TransformerMixin):\n",
    "    def __init__(self, columns_to_fix=[],rows_to_scan='all',method='median',max_number_groups=40, my_thresh=0.5):\n",
    "        self.method = method\n",
    "        self.columns_to_fix = columns_to_fix\n",
    "        self.rows_to_scan = rows_to_scan\n",
    "        self.max_num_groups = max_number_groups\n",
    "        self.thresh = my_thresh\n",
    "        \n",
    "    def fit(self,X,y):\n",
    "        self.survive_columns = {} # dictionary to map old columns to new\n",
    "        self.survive_values = {}\n",
    "        self.column_cutoff = {}\n",
    "        \n",
    "        \n",
    "        for col in self.columns_to_fix:\n",
    "            #(assumes these have previously been label encoded so the values should be ints)\"\n",
    "            ncol=str(col)+\"_le\"\n",
    "            num_cutoff = self.max_num_groups\n",
    "            survive_col = 'surv_'+ncol.lower()\n",
    "            nuniq = len(X[ncol].unique())\n",
    "            if nuniq < num_cutoff:\n",
    "                num_cutoff = nuniq\n",
    "                \n",
    "            self.column_cutoff[col]=num_cutoff\n",
    "            \n",
    "            #frac_accounted_for = X[col].value_counts().iloc[:num_cutoff].sum()/float(len(X))\n",
    "            #print i,col,newcol, nuniq, num_cutoff,num_cutoff/float(nuniq),frac_accounted_for\n",
    "            # I want to make this fraction close to 80%?\n",
    "            sf_df = calculate_survival_functions_b(X,y,'Tenure_years', ncol,num_cutoff)\n",
    "            self.survive_columns[col]=survive_col\n",
    "            ## create the dictionary\n",
    "            self.survive_values[col]=return_first_time_survival(sf_df,thresh=self.thresh)\n",
    "    \n",
    "        return self\n",
    "    def transform(self,X,y=None):\n",
    "        X_temp = X.copy()\n",
    "        original_cols = list(X_temp.columns)\n",
    "        for col in self.columns_to_fix:\n",
    "            ncol=str(col)+\"_le\" # assumes labelencoded\n",
    "            new_col = self.survive_columns[col]\n",
    "            col_dict = self.survive_values[col]\n",
    "            X_temp[new_col] = X_temp[ncol].apply(lambda x: col_dict[str(x)])\n",
    "            original_cols.remove(ncol)\n",
    "            original_cols.append(new_col)\n",
    "        \n",
    "        X_temp = X_temp[original_cols]\n",
    "        return X_temp"
   ]
  },
  {
   "cell_type": "code",
   "execution_count": null,
   "metadata": {
    "collapsed": false
   },
   "outputs": [],
   "source": [
    "my_label_encode_cols"
   ]
  },
  {
   "cell_type": "code",
   "execution_count": null,
   "metadata": {
    "collapsed": false
   },
   "outputs": [],
   "source": [
    "pipe2 = Pipeline([(\"null\",br.RemoveAllNull()),\n",
    "                 #(\"drop\",br.DropColumns(columns_to_drop =my_cols_to_omit)),\n",
    "                 (\"label_encode\",br.LabelEncodeColumn(my_label_encode_cols)),\n",
    "                 (\"survival_encode\",SurvivalEncodeColumn(my_label_encode_cols,method='median')),\n",
    "                 (\"dummy_encode\", br.DummyEncodeColumn(cat_cols_to_dummy)), \n",
    "                 #(\"fixout_min\",br.FixNumericOutlier(columns_to_fix=my_minfix_cols,criteria_coef=('percentile',2),\n",
    "                 #                                  method='lower',fill_with='nearest_value')),\n",
    "                 #(\"fixout_max\",br.FixNumericOutlier(columns_to_fix=['MAX_ANNUAL_RT'],criteria_coef=('percentile',2),\n",
    "                 #                                  method='both',fill_with='nearest_value')),\n",
    "                (\"fixout_min\",br.FixNumericOutlier(columns_to_fix=['SAL1','MIN_RT_ANNUAL','MERIT1','PERF1'],criteria_coef=('percentile',5),\n",
    "                                                   method='lower',fill_with='nearest_value')),\n",
    "                  (\"fixout_max\",br.FixNumericOutlier(columns_to_fix=['MAX_RT_ANNUAL'],criteria_coef=('percentile',5),\n",
    "                                                   method='both',fill_with='nearest_value')),\n",
    "                 #(\"fill_missingzero\",FillMissingValue(columns_to_fix=['BOX1','FUNC_CNT','EXTFUNC_CNT','TOTAL_RPT_CNT','DIRECT_RPT_CNT'],fill_value=0)),\n",
    "                 (\"imp_mode\",br.ImputeData(columns_to_impute=missing_cols,rows_to_scan=0.8))])\n",
    "                 "
   ]
  },
  {
   "cell_type": "code",
   "execution_count": null,
   "metadata": {
    "collapsed": false
   },
   "outputs": [],
   "source": [
    "nr_em = empl1[empl1.retired==0].copy() \n",
    "len(nr_em)"
   ]
  },
  {
   "cell_type": "code",
   "execution_count": null,
   "metadata": {
    "collapsed": false
   },
   "outputs": [],
   "source": [
    "sns.lmplot(x='Age_years',y='hire_age',data=nr_em)"
   ]
  },
  {
   "cell_type": "code",
   "execution_count": null,
   "metadata": {
    "collapsed": false
   },
   "outputs": [],
   "source": [
    "## break this into a test/train \n",
    "# break into evaluation and build sets\n",
    "print \"Starting with subset of {0} employees.\".format(len(nr_em))\n",
    "eval_fraction = 0.20\n",
    "ne2build, ne2eval = cross_validation.train_test_split(nr_em,test_size=eval_fraction,random_state = 90333)\n",
    "print \"Evaluation set has {0} employees; training set has {1} employees.\".format(len(ne2eval),len(ne2build))"
   ]
  },
  {
   "cell_type": "code",
   "execution_count": null,
   "metadata": {
    "collapsed": false
   },
   "outputs": [],
   "source": [
    "## for each set count the instances:\n",
    "ne2build.status.value_counts()/float(len(ne2build))"
   ]
  },
  {
   "cell_type": "code",
   "execution_count": null,
   "metadata": {
    "collapsed": false
   },
   "outputs": [],
   "source": [
    "ne2eval.status.value_counts()/float(len(ne2eval))"
   ]
  },
  {
   "cell_type": "markdown",
   "metadata": {},
   "source": [
    "## apply the pipe to ne2build and ne2eval"
   ]
  },
  {
   "cell_type": "code",
   "execution_count": null,
   "metadata": {
    "collapsed": false
   },
   "outputs": [],
   "source": [
    "n2b = pipe2.fit_transform(ne2build,ne2build.status)\n",
    "n2b.shape"
   ]
  },
  {
   "cell_type": "code",
   "execution_count": null,
   "metadata": {
    "collapsed": false
   },
   "outputs": [],
   "source": [
    "n2e = pipe2.fit(ne2build,ne2build.status).transform(ne2eval)\n",
    "y_eval = ne2eval.status\n",
    "n2e.shape"
   ]
  },
  {
   "cell_type": "code",
   "execution_count": null,
   "metadata": {
    "collapsed": false
   },
   "outputs": [],
   "source": [
    "n2cols = n2b.columns.tolist()\n",
    "'status' in n2cols"
   ]
  },
  {
   "cell_type": "code",
   "execution_count": null,
   "metadata": {
    "collapsed": false
   },
   "outputs": [],
   "source": [
    "historical_cols10 = [col for col in n2cols if col.endswith('10')]\n",
    "mos_cols = [col for col in n2cols if col.endswith('MOS')]\n",
    "print historical_cols10\n",
    "\n",
    "print mos_cols\n",
    "historical_cols5 = [col for col in n2cols if col.endswith('5')][:-4]\n",
    "historical_cols3 =[col for col in n2cols if col.endswith('3')][:-4]\n",
    "len(historical_cols3), len(historical_cols5),len(historical_cols10), len(mos_cols)"
   ]
  },
  {
   "cell_type": "code",
   "execution_count": null,
   "metadata": {
    "collapsed": false
   },
   "outputs": [],
   "source": [
    "historical_cols = []\n",
    "historical_cols+=historical_cols3\n",
    "historical_cols+=historical_cols5\n",
    "historical_cols+=historical_cols10\n",
    "historical_cols+=mos_cols\n",
    "print len(historical_cols)"
   ]
  },
  {
   "cell_type": "code",
   "execution_count": null,
   "metadata": {
    "collapsed": false
   },
   "outputs": [],
   "source": [
    "cat_cols_to_ignore, cat_cols_to_drop\n",
    "tstmp_cols = [col for col in n2cols if col.endswith('tstmp')]"
   ]
  },
  {
   "cell_type": "code",
   "execution_count": null,
   "metadata": {
    "collapsed": false
   },
   "outputs": [],
   "source": [
    "model_cols = [c for c in n2cols if not c in cat_cols_to_ignore]\n",
    "model_cols = [c for c in model_cols if not c in cat_cols_to_drop]\n",
    "model_cols = [c for c in model_cols if not c in historical_cols]\n",
    "model_cols =[c for c in model_cols if not c  in tstmp_cols]\n",
    "len(model_cols), len(n2cols)"
   ]
  },
  {
   "cell_type": "code",
   "execution_count": null,
   "metadata": {
    "collapsed": false
   },
   "outputs": [],
   "source": [
    "model_cols.remove('terminated')\n",
    "model_cols.remove('hire_age')\n",
    "model_cols.remove('sep_status')\n",
    "model_cols.remove('retired')\n",
    "model_cols.remove('status')\n",
    "print len(model_cols)"
   ]
  },
  {
   "cell_type": "code",
   "execution_count": null,
   "metadata": {
    "collapsed": false
   },
   "outputs": [],
   "source": [
    "colin_pipe2 = br.perfect_collinearity_test(n2b[model_cols])"
   ]
  },
  {
   "cell_type": "code",
   "execution_count": null,
   "metadata": {
    "collapsed": false
   },
   "outputs": [],
   "source": [
    "colin_pipe2.hist(bins=30,color='tomato')"
   ]
  },
  {
   "cell_type": "code",
   "execution_count": null,
   "metadata": {
    "collapsed": true
   },
   "outputs": [],
   "source": [
    "redundant_cols = ['FTE','loc_desc_TELE','MERIT1_d',\n",
    "                 'STD_HOURS','ANNUAL_RT','EEO1CODE_5',\n",
    "                 'FTPTCNT1','PTFTCNT1',\n",
    "                 'EMPL_CLASS_1','JOB_FUNCTION_PSA',\n",
    "                 'loc_desc_OC']"
   ]
  },
  {
   "cell_type": "code",
   "execution_count": null,
   "metadata": {
    "collapsed": false
   },
   "outputs": [],
   "source": [
    "model_cols2 = [col for col in model_cols if not col in redundant_cols]\n",
    "#p2_colin_test_df = br.perfect_collinearity_test(ne2[p2_col_model])"
   ]
  },
  {
   "cell_type": "code",
   "execution_count": null,
   "metadata": {
    "collapsed": false
   },
   "outputs": [],
   "source": [
    "colin_pipe2a = br.perfect_collinearity_test(n2b[model_cols2])"
   ]
  },
  {
   "cell_type": "code",
   "execution_count": null,
   "metadata": {
    "collapsed": false
   },
   "outputs": [],
   "source": [
    "colin_pipe2a.sort_values(ascending=False).head(10)"
   ]
  },
  {
   "cell_type": "code",
   "execution_count": null,
   "metadata": {
    "collapsed": false
   },
   "outputs": [],
   "source": [
    "redundant_cols2 = ['COMPANY_1','EMPL_TYPE_E','FLSA_STATUS', 'DIVISION_CODE_SFI_9','EMPL_TYPE_S','EMPL_CLASS_D','MAX_RT_ANNUAL']\n",
    "model_cols2 = [col for col in model_cols2 if not col in redundant_cols2]\n",
    "colin_pipe2b = br.perfect_collinearity_test(n2b[model_cols2])"
   ]
  },
  {
   "cell_type": "code",
   "execution_count": null,
   "metadata": {
    "collapsed": false
   },
   "outputs": [],
   "source": [
    "colin_pipe2b.sort_values(ascending=False).head(10)"
   ]
  },
  {
   "cell_type": "code",
   "execution_count": null,
   "metadata": {
    "collapsed": false
   },
   "outputs": [],
   "source": [
    "colin_pipe2b.hist(bins=30,color='tomato')"
   ]
  },
  {
   "cell_type": "code",
   "execution_count": null,
   "metadata": {
    "collapsed": false
   },
   "outputs": [],
   "source": [
    "sns.distplot(n2b.surv_grade_le,label='medSF_grade')\n",
    "sns.distplot(n2b.surv_loc_state_le,label='medSF_location')\n",
    "sns.distplot(n2b.surv_job_family_le,label='medSF_jobfam')\n",
    "\n",
    "plt.xlabel('Survival Function Grades')"
   ]
  },
  {
   "cell_type": "code",
   "execution_count": null,
   "metadata": {
    "collapsed": false
   },
   "outputs": [],
   "source": [
    "#### drop some of these collinear columns\n",
    "#colin_thresh = 0.99\n",
    "# print sum(p2_colin_test_df<colin_thresh)\n",
    "#p2_col_model2 = p2_colin_test_df[p2_colin_test_df<colin_thresh].index.tolist()\n",
    "#len(p2_col_model2)"
   ]
  },
  {
   "cell_type": "code",
   "execution_count": null,
   "metadata": {
    "collapsed": false
   },
   "outputs": [],
   "source": []
  },
  {
   "cell_type": "code",
   "execution_count": null,
   "metadata": {
    "collapsed": false
   },
   "outputs": [],
   "source": [
    "p2_colin_test_df.loc[p2_col_model2].hist(bins=30,color='tomato')"
   ]
  },
  {
   "cell_type": "code",
   "execution_count": null,
   "metadata": {
    "collapsed": true
   },
   "outputs": [],
   "source": [
    "#p2_col_model2.remove('status')"
   ]
  },
  {
   "cell_type": "markdown",
   "metadata": {},
   "source": [
    "## 5 year t-fold models "
   ]
  },
  {
   "cell_type": "code",
   "execution_count": null,
   "metadata": {
    "collapsed": false
   },
   "outputs": [],
   "source": [
    "panel5,tfold5 = setup_tfolds(n2b, 5, model_cols2,tgt_value='status',\n",
    "                            time_cols=['Age_years','Tenure_years'])"
   ]
  },
  {
   "cell_type": "code",
   "execution_count": null,
   "metadata": {
    "collapsed": false
   },
   "outputs": [],
   "source": [
    "%%time\n",
    "rmse5, roc_auc5, rfmdl5 = apply_tKfold_CV2('rfc',panel5, tfold5, cols_to_use=model_cols2,ntrees=300)"
   ]
  },
  {
   "cell_type": "code",
   "execution_count": null,
   "metadata": {
    "collapsed": false
   },
   "outputs": [],
   "source": [
    "fig = plt.figure(figsize=(20,10))\n",
    "ax1 = fig.add_subplot(121)\n",
    "ax1.boxplot(rmse5)\n",
    "ax2 = fig.add_subplot(122)\n",
    "ax2.boxplot(roc_auc5)\n",
    "np.mean(rmse5), np.mean(roc_auc5)"
   ]
  },
  {
   "cell_type": "code",
   "execution_count": null,
   "metadata": {
    "collapsed": false
   },
   "outputs": [],
   "source": [
    "X5eval, y5eval = adjust_eval_by_x_years(n2e,5,model_cols2)\n"
   ]
  },
  {
   "cell_type": "code",
   "execution_count": null,
   "metadata": {
    "collapsed": true
   },
   "outputs": [],
   "source": [
    "pred_rf5_class, pred_rf5_proba = evaluate_models(rfmdl5,X5eval)"
   ]
  },
  {
   "cell_type": "code",
   "execution_count": null,
   "metadata": {
    "collapsed": false
   },
   "outputs": [],
   "source": [
    "plot_conf_matrix(y5eval,map(np.int,pred_rf5_class.mean(axis=1)))#gb_mdl5_pred_class.mean(axis=1)))"
   ]
  },
  {
   "cell_type": "code",
   "execution_count": null,
   "metadata": {
    "collapsed": false
   },
   "outputs": [],
   "source": [
    "plot_roc_curve(y5eval,pred_rf5_proba[:,:,:].mean(axis=2))#gb_mdl5_pred_proba[:,:,:].mean(axis=2))"
   ]
  },
  {
   "cell_type": "code",
   "execution_count": null,
   "metadata": {
    "collapsed": false
   },
   "outputs": [],
   "source": [
    "\n",
    "for a in xrange(0,len(rfmdl5)):\n",
    "    plot_roc_curve(y5eval,pred_rf5_proba[:,:,a])"
   ]
  },
  {
   "cell_type": "code",
   "execution_count": null,
   "metadata": {
    "collapsed": false
   },
   "outputs": [],
   "source": [
    "### plot individual ROC curves\n",
    "for a in xrange(0,len(rfmdl5)):\n",
    "    plot_roc_curve(y5eval,pred_rf5_proba[:,:,a],ls='--')\n",
    "\n",
    "plot_roc_curve(y5eval,pred_rf5_proba[:,:,:].mean(axis=2),lw='3')#gb_mdl5_pred_proba[:,:,:].mean(axis=2))    "
   ]
  },
  {
   "cell_type": "code",
   "execution_count": null,
   "metadata": {
    "collapsed": false
   },
   "outputs": [],
   "source": [
    "fi_5df = create_fi_df(rfmdl5,model_cols2)\n",
    "val_cols = [a for a in fi_5df.columns if 'value' in a]\n",
    "fi_5df[val_cols].T.boxplot()\n",
    "plt.title('Feature Importances for 5year former')\n",
    "plt.ylabel('Feature Importances in Tfolds')"
   ]
  },
  {
   "cell_type": "code",
   "execution_count": null,
   "metadata": {
    "collapsed": false
   },
   "outputs": [],
   "source": [
    "fi_5df[val_cols].head()"
   ]
  },
  {
   "cell_type": "markdown",
   "metadata": {},
   "source": [
    "### still huge variability in the feature importances"
   ]
  },
  {
   "cell_type": "code",
   "execution_count": null,
   "metadata": {
    "collapsed": false
   },
   "outputs": [],
   "source": [
    "plotFI(rfmdl5[-1],model_cols)"
   ]
  },
  {
   "cell_type": "markdown",
   "metadata": {},
   "source": [
    "## try a gbm?"
   ]
  },
  {
   "cell_type": "code",
   "execution_count": null,
   "metadata": {
    "collapsed": false
   },
   "outputs": [],
   "source": [
    "%%time\n",
    "grmse5, groc_auc5, gbmdl5 = apply_tKfold_CV2('gbc',panel5, tfold5, cols_to_use=p2_col_model2,tgt_column='status',ntrees=500)"
   ]
  },
  {
   "cell_type": "code",
   "execution_count": null,
   "metadata": {
    "collapsed": false
   },
   "outputs": [],
   "source": [
    "fig = plt.figure(figsize=(20,10))\n",
    "ax1 = fig.add_subplot(121)\n",
    "ax1.boxplot(grmse5)\n",
    "ax2 = fig.add_subplot(122)\n",
    "ax2.boxplot(groc_auc5)\n",
    "np.mean(grmse5), np.mean(groc_auc5)"
   ]
  },
  {
   "cell_type": "code",
   "execution_count": null,
   "metadata": {
    "collapsed": true
   },
   "outputs": [],
   "source": [
    "pred_gb5_class, pred_gb5_proba = evaluate_models(gbmdl5,X5eval)"
   ]
  },
  {
   "cell_type": "code",
   "execution_count": null,
   "metadata": {
    "collapsed": false
   },
   "outputs": [],
   "source": [
    "plot_conf_matrix(y5eval,map(np.int,pred_gb5_class.mean(axis=1)))#gb_mdl5_pred_class.mean(axis=1)))"
   ]
  },
  {
   "cell_type": "code",
   "execution_count": null,
   "metadata": {
    "collapsed": true
   },
   "outputs": [],
   "source": [
    "def create_gb_fi_df(mdl_list,feature_names):\n",
    "    list_feature_importances = []\n",
    "    col_list = []\n",
    "    for i,mdl in enumerate(mdl_list):\n",
    "        list_feature_importances.append(get_gb_FI(mdl,feature_names,show_plot=False))\n",
    "        col_list.append('fold'+str(i)+'_value')\n",
    "        #col_list.append('fold'+str(i)+'_std')\n",
    "\n",
    "    fi_df = pd.concat(list_feature_importances,axis=1)\n",
    "    # create column headings\n",
    "    fi_df.columns = col_list\n",
    "    # create the average of the values\n",
    "    value_cols = [x for x in col_list if x.endswith('value')]\n",
    "    \n",
    "    fi_df['avg_val']=fi_df[value_cols].mean(axis=1)\n",
    "    fi_df['avg_variance']=fi_df[value_cols].std(axis=1)\n",
    "#t2_eval_fi_df[['avg_val','avg_std']].sort('avg_val',ascending=False)\n",
    "    return fi_df\n",
    "\n",
    "def get_gb_FI(mdl,featureNames=[],show_plot=False):\n",
    "    \"\"\"\n",
    "    forest is the model to be graphed.\n",
    "    featureNames is the list of features to be displayed\n",
    "    \n",
    "    \"\"\"\n",
    "    \n",
    "    featureImportances=mdl.feature_importances_\n",
    "    # sort the importances from biggest to least\n",
    "    indices = np.argsort(featureImportances)[::-1]\n",
    "    nfeatures = len(featureImportances)\n",
    "    print(\"Number of Features: %d\" % (nfeatures))\n",
    "    \n",
    "    \n",
    "    #print featureNames\n",
    "    if len(featureNames)==0:\n",
    "        featureNames = map(str,indices)\n",
    "    \n",
    "    fN2 = [featureNames[a] for a in indices]\n",
    "    print(\"Feature ranking:\")\n",
    "\n",
    "    for f in range(len(indices)):\n",
    "        print(\"%d. feature %d=%s (%f)\" % (f + 1, indices[f], featureNames[indices[f]],featureImportances[indices[f]]))\n",
    "\n",
    "    # Plot the feature importances of the forest\n",
    "    # define a cutoff in terms of feature_importance\n",
    "    if nfeatures <= 30:\n",
    "        kfeatures = nfeatures # keep all if smaller than 30\n",
    "    else:\n",
    "        kfeatures = 30\n",
    "        \n",
    "    kindices = indices[:kfeatures]\n",
    "    if show_plot:\n",
    "        plt.title(\"Feature importances\")\n",
    "        plt.barh(range(len(kindices)), featureImportances[kindices],\n",
    "           color=\"steelblue\",  align=\"center\")\n",
    "    \n",
    "        plt.yticks(range(len(kindices)),fN2)\n",
    "        #grid(True)\n",
    "    \n",
    "    c1 = 'value'\n",
    "    #tdata = np.vstack([featureImportances[indices],std[indices]])\n",
    "    df = pd.DataFrame(data = featureImportances,index=fN2,columns=[c1])\n",
    "    return df\n",
    "#plt.barh(range(len(model_cols)),gbmdl5[0].feature_importances_)\n",
    "#plotFI(gbmdl5[0],model_cols)\n",
    "#get_gb_FI(gbmdl5[0],model_cols)"
   ]
  },
  {
   "cell_type": "code",
   "execution_count": null,
   "metadata": {
    "collapsed": false
   },
   "outputs": [],
   "source": [
    "gb5_fi_df = create_gb_fi_df(gbmdl5,p2_col_model2)"
   ]
  },
  {
   "cell_type": "code",
   "execution_count": null,
   "metadata": {
    "collapsed": false
   },
   "outputs": [],
   "source": [
    "gb5_fi_df.sort_values(by='avg_val',ascending=False)['avg_val'].ix[:30].plot(kind='barh')"
   ]
  },
  {
   "cell_type": "code",
   "execution_count": null,
   "metadata": {
    "collapsed": false
   },
   "outputs": [],
   "source": [
    "\n",
    "for a in xrange(0,len(rfmdl5)):\n",
    "    plot_roc_curve(y5eval,pred_gb5_proba[:,:,a],ls='--')\n",
    "\n",
    "plot_roc_curve(y5eval,pred_gb5_proba[:,:,:].mean(axis=2),lw='3')#gb_mdl5_pred_proba[:,:,:].mean(axis=2))    "
   ]
  },
  {
   "cell_type": "code",
   "execution_count": null,
   "metadata": {
    "collapsed": false
   },
   "outputs": [],
   "source": [
    "np.shape(pred_gb5_proba), np.shape(pred_rf5_proba)"
   ]
  },
  {
   "cell_type": "markdown",
   "metadata": {},
   "source": [
    "## retry a regressor just to identify the biggest factors"
   ]
  },
  {
   "cell_type": "code",
   "execution_count": null,
   "metadata": {
    "collapsed": false
   },
   "outputs": [],
   "source": [
    "regress_col3 = [col for col in p2_col_model2 if col != 'Tenure_years']\n",
    "len(regress_col3)"
   ]
  },
  {
   "cell_type": "code",
   "execution_count": null,
   "metadata": {
    "collapsed": false
   },
   "outputs": [],
   "source": [
    "%%time\n",
    "# Fit regression model\n",
    "params = {'n_estimators': 300, 'n_jobs': -1, 'oob_score': True}\n",
    "          #'max_depth': 4, 'min_samples_split': 1,\n",
    "          #'learning_rate': 0.01, 'loss': 'ls','n_jobs': -1}\n",
    "fullRFR3 = ensemble.RandomForestRegressor(**params)\n",
    "\n",
    "fullRFR3.fit(ne2build[regress_col3], ne2build.Tenure_years)\n",
    "rfr_tenure_pred = fullRFR3.predict(ne2eval[regress_col3])\n",
    "mse = metrics.mean_squared_error(ne2eval.Tenure_years,rfr_tenure_pred )\n",
    "print(\"MSE: %.4f\" % mse)"
   ]
  },
  {
   "cell_type": "code",
   "execution_count": null,
   "metadata": {
    "collapsed": false
   },
   "outputs": [],
   "source": [
    "plt.scatter(ne2eval.Tenure_years,rfr_tenure_pred,alpha=0.3)\n",
    "plt.xlabel('True Tenure')\n",
    "plt.ylabel('Predicted Tenure')"
   ]
  },
  {
   "cell_type": "code",
   "execution_count": null,
   "metadata": {
    "collapsed": false
   },
   "outputs": [],
   "source": [
    "plotFI(fullRFR3,ne2build[regress_col3].columns.tolist())"
   ]
  },
  {
   "cell_type": "code",
   "execution_count": null,
   "metadata": {
    "collapsed": false
   },
   "outputs": [],
   "source": [
    "[col for col in p2_col_model2 if col.startswith('SAL')]"
   ]
  },
  {
   "cell_type": "markdown",
   "metadata": {},
   "source": [
    "## okay so p2_col_model2 was too aggressive.\n",
    "* For example I threw out both SAL1 and ANNUAL_RT"
   ]
  },
  {
   "cell_type": "code",
   "execution_count": null,
   "metadata": {
    "collapsed": false
   },
   "outputs": [],
   "source": [
    "p2_colin_test_df.sort_values(ascending=False)\n",
    "#p2_col_model2 = p2_colin_test_df[p2_colin_test_df<colin_thresh].index.tolist()\n",
    "#len(p2_col_model2)"
   ]
  },
  {
   "cell_type": "markdown",
   "metadata": {},
   "source": [
    "#### Do this more stepwise:\n",
    "1. remove those that have $R^2 = 1.0$\n",
    "2. repeat the perfect_colin_test"
   ]
  },
  {
   "cell_type": "code",
   "execution_count": null,
   "metadata": {
    "collapsed": true
   },
   "outputs": [],
   "source": [
    "p2_col_model3 = [col for col in p2_col_model]\n",
    "p2_col_model3.remove('loc_desc_TELE')\n",
    "p2_col_model3.remove('PERF1_d')\n",
    "p2_col_model3.remove('MERIT1_d')\n"
   ]
  },
  {
   "cell_type": "code",
   "execution_count": null,
   "metadata": {
    "collapsed": false,
    "scrolled": true
   },
   "outputs": [],
   "source": [
    "#p2_colin_test_df3 = br.perfect_collinearity_test(ne2[p2_col_model3])"
   ]
  },
  {
   "cell_type": "code",
   "execution_count": null,
   "metadata": {
    "collapsed": false
   },
   "outputs": [],
   "source": [
    "top_vif_cols_1 = ['ANNUAL_RT','FTPTCNT1','PTFTCNT1','EMPL_TYPE_E',\n",
    "                  'EMPL_CLASS_D','EEO1CODE_5','JOB_FUNCTION_PSA','loc_desc_OC']\n",
    "p2_col_model4 = [col for col in p2_col_model3 if not col in top_vif_cols_1]\n",
    "print len(p2_col_model4)\n",
    "p2_col_model4.remove('status')\n",
    "                  \n",
    "#'FULL_PART_TIME_X']"
   ]
  },
  {
   "cell_type": "code",
   "execution_count": null,
   "metadata": {
    "collapsed": false
   },
   "outputs": [],
   "source": [
    "#p2_colin_test_df4 = br.perfect_collinearity_test(ne2[p2_col_model4])"
   ]
  },
  {
   "cell_type": "code",
   "execution_count": null,
   "metadata": {
    "collapsed": false
   },
   "outputs": [],
   "source": [
    "p2_colin_test_df3.hist(bins=30,color='tomato')"
   ]
  },
  {
   "cell_type": "code",
   "execution_count": null,
   "metadata": {
    "collapsed": false
   },
   "outputs": [],
   "source": [
    "p2_colin_test_df4.sort_values(ascending=False)"
   ]
  },
  {
   "cell_type": "code",
   "execution_count": null,
   "metadata": {
    "collapsed": false
   },
   "outputs": [],
   "source": [
    "['Tenure_years' in p2_col_model4]\n",
    "regress_col3 = [col for col in p2_col_model4 if col!='Tenure_years']"
   ]
  },
  {
   "cell_type": "code",
   "execution_count": null,
   "metadata": {
    "collapsed": false
   },
   "outputs": [],
   "source": [
    "%%time\n",
    "# Fit regression model\n",
    "params = {'n_estimators': 300, 'n_jobs': -1, 'oob_score': True}\n",
    "          #'max_depth': 4, 'min_samples_split': 1,\n",
    "          #'learning_rate': 0.01, 'loss': 'ls','n_jobs': -1}\n",
    "fullRFR3 = ensemble.RandomForestRegressor(**params)\n",
    "\n",
    "fullRFR3.fit(ne2build[regress_col3], ne2build.Tenure_years)\n",
    "rfr_tenure_pred = fullRFR3.predict(ne2eval[regress_col3])\n",
    "mse = metrics.mean_squared_error(ne2eval.Tenure_years,rfr_tenure_pred )\n",
    "print(\"MSE: %.4f\" % mse)"
   ]
  },
  {
   "cell_type": "code",
   "execution_count": null,
   "metadata": {
    "collapsed": false
   },
   "outputs": [],
   "source": [
    "plt.scatter(ne2eval.Tenure_years,rfr_tenure_pred,alpha=0.3)\n",
    "plt.xlabel('True Tenure')\n",
    "plt.ylabel('Predicted Tenure')"
   ]
  },
  {
   "cell_type": "code",
   "execution_count": null,
   "metadata": {
    "collapsed": false
   },
   "outputs": [],
   "source": [
    "plotFI(fullRFR3,regress_col3)"
   ]
  },
  {
   "cell_type": "markdown",
   "metadata": {},
   "source": [
    "## now using this info, does a survival model make sense?"
   ]
  },
  {
   "cell_type": "code",
   "execution_count": null,
   "metadata": {
    "collapsed": true
   },
   "outputs": [],
   "source": [
    "sf_model_cols = ['Age_years','SAL1','PERF1','MERIT1','REH_CNT','MIN_RT_ANNUAL','surv_grade_le',\n",
    "                 'MAX_RT_ANNUAL','JOBCODE','EXTFUNC_CNT']#,\n",
    "                 #'FUNC_CNT','TOTAL_RPT_CNT','surv_loc_state_le','DIRECT_RPT_CNT','RELO_STATE_CNT_SFI','SEX','BOX1',#'mar_status',\n",
    "                 #'loc_desc_CLC','FUNC_ID_SFI',#'ETHNIC_GROUP',\n",
    "                 #'DEP_COUNT','SUPVCNT1','surv_job_family_le','DEPTCNT1','HAVE_INS','HUBIND','FTE']"
   ]
  },
  {
   "cell_type": "code",
   "execution_count": null,
   "metadata": {
    "collapsed": true
   },
   "outputs": [],
   "source": [
    "from lifelines import CoxPHFitter\n",
    "cf = CoxPHFitter()"
   ]
  },
  {
   "cell_type": "code",
   "execution_count": null,
   "metadata": {
    "collapsed": false
   },
   "outputs": [],
   "source": [
    "%%time\n",
    "sf_model_cols.append('Tenure_years')\n",
    "b2 = ne2build[sf_model_cols]\n",
    "b2['former']=ne2build['status']\n",
    "cf.fit(b2,'Tenure_years','former')"
   ]
  },
  {
   "cell_type": "code",
   "execution_count": null,
   "metadata": {
    "collapsed": false
   },
   "outputs": [],
   "source": [
    "cf.print_summary()"
   ]
  },
  {
   "cell_type": "code",
   "execution_count": null,
   "metadata": {
    "collapsed": false
   },
   "outputs": [],
   "source": [
    "b2[['Tenure_years','former']].head()"
   ]
  },
  {
   "cell_type": "code",
   "execution_count": null,
   "metadata": {
    "collapsed": false
   },
   "outputs": [],
   "source": [
    "len(b2[(b2['Tenure_years']>6)&(b2['former']==1)])"
   ]
  },
  {
   "cell_type": "code",
   "execution_count": null,
   "metadata": {
    "collapsed": false
   },
   "outputs": [],
   "source": [
    "b2['fiveyr']=0\n",
    "b2.loc[(b2['Tenure_years']<6)&(b2['former']==1),'fiveyr']=1\n"
   ]
  },
  {
   "cell_type": "code",
   "execution_count": null,
   "metadata": {
    "collapsed": false
   },
   "outputs": [],
   "source": [
    "b2.fiveyr.value_counts()"
   ]
  },
  {
   "cell_type": "code",
   "execution_count": null,
   "metadata": {
    "collapsed": false
   },
   "outputs": [],
   "source": [
    "#b2.drop('former',axis=1,inplace=True)\n",
    "b2.head()"
   ]
  },
  {
   "cell_type": "code",
   "execution_count": null,
   "metadata": {
    "collapsed": false
   },
   "outputs": [],
   "source": [
    "cf5 = CoxPHFitter()\n",
    "cf5.fit(b2,'Tenure_years','fiveyr')\n",
    "cf5.print_summary()"
   ]
  },
  {
   "cell_type": "markdown",
   "metadata": {},
   "source": [
    "## work on evaluation"
   ]
  },
  {
   "cell_type": "markdown",
   "metadata": {},
   "source": [
    "### From this I can predict the expcted Separation Age for the hold out Set\n",
    "* e2eval"
   ]
  },
  {
   "cell_type": "code",
   "execution_count": null,
   "metadata": {
    "collapsed": false
   },
   "outputs": [],
   "source": [
    "eval_SepTenure = cf.predict_expectation(ne2eval[sf_model_cols])\n",
    "eval_SepTenure.rename(columns= {0: 'predTenure'},inplace=True)\n",
    "eval_SepTenure['Tenure']=ne2eval['Tenure_years']\n",
    "eval_SepTenure['separated']=ne2eval['status']\n",
    "eval_SepTenure.head()"
   ]
  },
  {
   "cell_type": "code",
   "execution_count": null,
   "metadata": {
    "collapsed": false
   },
   "outputs": [],
   "source": [
    "eval_SepTenure5 = cf5.predict_expectation(ne2eval[sf_model_cols])\n",
    "eval_SepTenure5.rename(columns= {0: 'predTenure'},inplace=True)\n",
    "eval_SepTenure5['Tenure']=ne2eval['Tenure_years']\n",
    "eval_SepTenure5['separated']=ne2eval['status']\n",
    "eval_SepTenure5.head()"
   ]
  },
  {
   "cell_type": "code",
   "execution_count": null,
   "metadata": {
    "collapsed": false
   },
   "outputs": [],
   "source": [
    "eval_SepTenure5[(eval_SepTenure5['Tenure']<6)&(eval_SepTenure5.separated==1)]"
   ]
  },
  {
   "cell_type": "code",
   "execution_count": null,
   "metadata": {
    "collapsed": false
   },
   "outputs": [],
   "source": [
    "eval_SepTenure5[(eval_SepTenure5['Tenure']<6)&(eval_SepTenure5.separated==0)]"
   ]
  },
  {
   "cell_type": "code",
   "execution_count": null,
   "metadata": {
    "collapsed": true
   },
   "outputs": [],
   "source": [
    "%ls"
   ]
  },
  {
   "cell_type": "code",
   "execution_count": null,
   "metadata": {
    "collapsed": false
   },
   "outputs": [],
   "source": [
    "sf_model_cols = ['Age_years','SAL1','PERF1','MERIT1','REH_CNT','MIN_RT_ANNUAL','surv_grade_le',\n",
    "                 'MAX_RT_ANNUAL','JOBCODE','EXTFUNC_CNT',\n",
    "                 'FUNC_CNT','TOTAL_RPT_CNT','surv_loc_state_le','DIRECT_RPT_CNT','RELO_STATE_CNT_SFI','SEX','BOX1',#'mar_status',\n",
    "                 'loc_desc_CLC','FUNC_ID_SFI',#'ETHNIC_GROUP',\n",
    "                 'DEP_COUNT','SUPVCNT1','surv_job_family_le','DEPTCNT1','HAVE_INS','HUBIND','FTE']"
   ]
  },
  {
   "cell_type": "code",
   "execution_count": null,
   "metadata": {
    "collapsed": true
   },
   "outputs": [],
   "source": [
    "%%time\n",
    "cf30 = CoxPHFitter()\n",
    "sf_model_cols.append('Tenure_years')\n",
    "b2 = ne2build[sf_model_cols]\n",
    "b2['former']=ne2build['status']\n",
    "cf30.fit(b2,'Tenure_years','former')"
   ]
  },
  {
   "cell_type": "code",
   "execution_count": null,
   "metadata": {
    "collapsed": true
   },
   "outputs": [],
   "source": [
    "cf30.print_summary()"
   ]
  },
  {
   "cell_type": "markdown",
   "metadata": {
    "collapsed": true
   },
   "source": [
    "# Feb. 10, 2016\n",
    "### look at retirement"
   ]
  },
  {
   "cell_type": "code",
   "execution_count": null,
   "metadata": {
    "collapsed": false
   },
   "outputs": [],
   "source": [
    "print empl1.shape\n",
    "over50 = empl1[empl1.Age_years >= 50].copy()\n",
    "print over50.shape"
   ]
  },
  {
   "cell_type": "markdown",
   "metadata": {},
   "source": [
    "## identify those who have actually retired\n",
    "### What were their 'features' 1,2,3,4,& 5 years prior to retirement?"
   ]
  },
  {
   "cell_type": "code",
   "execution_count": null,
   "metadata": {
    "collapsed": false
   },
   "outputs": [],
   "source": [
    "actual_retirees = empl1[empl1.retired==1].copy()\n",
    "print len(actual_retirees)"
   ]
  },
  {
   "cell_type": "code",
   "execution_count": null,
   "metadata": {
    "collapsed": false
   },
   "outputs": [],
   "source": [
    "len(full_date_range)"
   ]
  },
  {
   "cell_type": "code",
   "execution_count": null,
   "metadata": {
    "collapsed": false
   },
   "outputs": [],
   "source": [
    "ret_surv_cols1"
   ]
  },
  {
   "cell_type": "code",
   "execution_count": null,
   "metadata": {
    "collapsed": false
   },
   "outputs": [],
   "source": [
    "actual_retirees.term_tstmp.dt.year.hist(bins=13)\n",
    "actual_retirees['tyear']= actual_retirees.term_tstmp.dt.year\n",
    "plt.xlabel('year')\n",
    "plt.ylabel('Number of retirees each year')\n",
    "plt.title('Actual Retirees')"
   ]
  },
  {
   "cell_type": "code",
   "execution_count": null,
   "metadata": {
    "collapsed": true
   },
   "outputs": [],
   "source": []
  },
  {
   "cell_type": "code",
   "execution_count": null,
   "metadata": {
    "collapsed": false
   },
   "outputs": [],
   "source": [
    "sns.boxplot(x='tyear',y='Age_years',data=actual_retirees)"
   ]
  },
  {
   "cell_type": "code",
   "execution_count": null,
   "metadata": {
    "collapsed": false
   },
   "outputs": [],
   "source": [
    "sns.boxplot(x='tyear',y='Tenure_years',data=actual_retirees)"
   ]
  },
  {
   "cell_type": "code",
   "execution_count": null,
   "metadata": {
    "collapsed": false
   },
   "outputs": [],
   "source": [
    "sum(over50['SERVICE_DT']!=over50['HIRE_DT'])"
   ]
  },
  {
   "cell_type": "code",
   "execution_count": null,
   "metadata": {
    "collapsed": false
   },
   "outputs": [],
   "source": [
    "#over50[['SERVICE_DT','HIRE_DT']].head()\n",
    "set(actual_retirees.index.tolist())-set(over50.index.tolist()) # good all actual retirees are in the over50 set."
   ]
  },
  {
   "cell_type": "code",
   "execution_count": null,
   "metadata": {
    "collapsed": true
   },
   "outputs": [],
   "source": [
    "ret_surv_cols1 = ['retired','Age_years','Tenure_years','SAL1','MERIT1','PERF1','BOX1','SEX','HAVE_INS','HAVE_DEP']"
   ]
  },
  {
   "cell_type": "code",
   "execution_count": null,
   "metadata": {
    "collapsed": false
   },
   "outputs": [],
   "source": [
    "len(over50[over50.Tenure_years < 5])"
   ]
  },
  {
   "cell_type": "code",
   "execution_count": null,
   "metadata": {
    "collapsed": false
   },
   "outputs": [],
   "source": [
    "over50[(over50.Tenure_years < 5)& (over50.retired==1)][['Age_years','Tenure_years','SERVICE_DT','HIRE_DT','retired']]\n",
    "# these are the cases where they are over 65 and over 1 year of eligibility (2nd rule)"
   ]
  },
  {
   "cell_type": "code",
   "execution_count": null,
   "metadata": {
    "collapsed": false
   },
   "outputs": [],
   "source": [
    "over50[ret_surv_cols1].isnull().any()"
   ]
  },
  {
   "cell_type": "code",
   "execution_count": null,
   "metadata": {
    "collapsed": false
   },
   "outputs": [],
   "source": [
    "# break into evaluation and build sets\n",
    "from sklearn.cross_validation import train_test_split\n",
    "print \"Starting with subset of {0} employees.\".format(len(over50))\n",
    "eval_fraction = 0.20\n",
    "o50build, o50eval = train_test_split(over50,test_size=eval_fraction,random_state = 33843)\n",
    "print \"Evaluation set has {0} employees; training set has {1} employees.\".format(len(o50eval),len(o50build))\n",
    "print \" for training set: \"\n"
   ]
  },
  {
   "cell_type": "code",
   "execution_count": null,
   "metadata": {
    "collapsed": false
   },
   "outputs": [],
   "source": [
    "o50eval.retired.value_counts()"
   ]
  },
  {
   "cell_type": "code",
   "execution_count": null,
   "metadata": {
    "collapsed": false
   },
   "outputs": [],
   "source": [
    "o50build.retired.value_counts()"
   ]
  },
  {
   "cell_type": "code",
   "execution_count": null,
   "metadata": {
    "collapsed": false
   },
   "outputs": [],
   "source": [
    "o50build[ret_surv_cols1].isnull().any()"
   ]
  },
  {
   "cell_type": "markdown",
   "metadata": {},
   "source": [
    "##fix outliers in MERIT1 and PERF1"
   ]
  },
  {
   "cell_type": "code",
   "execution_count": null,
   "metadata": {
    "collapsed": false
   },
   "outputs": [],
   "source": [
    "ret_pipe = Pipeline([('fixout_min', br.FixNumericOutlier(columns_to_fix=['MERIT1','PERF1'],\n",
    "                                                   criteria_coef=('percentile',2),method='lower',fill_with='nearest_value')),\n",
    "                ('impute_mode',br.ImputeData(columns_to_impute=['MERIT1','PERF1']))]\n",
    "               )"
   ]
  },
  {
   "cell_type": "code",
   "execution_count": null,
   "metadata": {
    "collapsed": true
   },
   "outputs": [],
   "source": [
    "o50b = ret_pipe.fit_transform(o50build[ret_surv_cols1],o50build.retired)"
   ]
  },
  {
   "cell_type": "code",
   "execution_count": null,
   "metadata": {
    "collapsed": false
   },
   "outputs": [],
   "source": [
    "o50b[ret_surv_cols1].isnull().any()"
   ]
  },
  {
   "cell_type": "code",
   "execution_count": null,
   "metadata": {
    "collapsed": false
   },
   "outputs": [],
   "source": [
    "sns.distplot(o50b.MERIT1)"
   ]
  },
  {
   "cell_type": "code",
   "execution_count": null,
   "metadata": {
    "collapsed": false
   },
   "outputs": [],
   "source": [
    "o50b[ret_surv_cols1].describe()"
   ]
  },
  {
   "cell_type": "code",
   "execution_count": null,
   "metadata": {
    "collapsed": true
   },
   "outputs": [],
   "source": [
    "from lifelines import AalenAdditiveFitter\n",
    "from lifelines import CoxPHFitter"
   ]
  },
  {
   "cell_type": "code",
   "execution_count": null,
   "metadata": {
    "collapsed": false
   },
   "outputs": [],
   "source": [
    "aaf1 = AalenAdditiveFitter(coef_penalizer=1.0,fit_intercept=True)\n",
    "cf1 = CoxPHFitter(penalizer=1.0)"
   ]
  },
  {
   "cell_type": "code",
   "execution_count": null,
   "metadata": {
    "collapsed": false
   },
   "outputs": [],
   "source": [
    "%%time\n",
    "aaf1.fit(o50b[ret_surv_cols1],'Tenure_years',event_col='retired')"
   ]
  },
  {
   "cell_type": "code",
   "execution_count": null,
   "metadata": {
    "collapsed": false
   },
   "outputs": [],
   "source": [
    "%%time\n",
    "cf1.fit(o50b[ret_surv_cols1],'Tenure_years',event_col='retired')"
   ]
  },
  {
   "cell_type": "markdown",
   "metadata": {},
   "source": [
    "## compare cox and aalen"
   ]
  },
  {
   "cell_type": "code",
   "execution_count": null,
   "metadata": {
    "collapsed": false
   },
   "outputs": [],
   "source": [
    "cf1.print_summary()"
   ]
  },
  {
   "cell_type": "code",
   "execution_count": null,
   "metadata": {
    "collapsed": false
   },
   "outputs": [],
   "source": [
    "from lifelines.utils import concordance_index\n",
    "concordance_index(o50b['Tenure_years'].values,cf1.predict_expectation(o50b[ret_surv_cols1]).values.ravel(),\n",
    "                  o50b['retired'].values.astype(int))"
   ]
  },
  {
   "cell_type": "code",
   "execution_count": null,
   "metadata": {
    "collapsed": false
   },
   "outputs": [],
   "source": [
    "concordance_index(o50b.Tenure_years.values,aaf1.predict_expectation(o50b[ret_surv_cols1]).values.ravel(),\n",
    "                 o50b.retired.values.astype(int))"
   ]
  },
  {
   "cell_type": "code",
   "execution_count": null,
   "metadata": {
    "collapsed": true
   },
   "outputs": [],
   "source": [
    "def return_concordance(df,model,time_col,event_col):\n",
    "    c_index = concordance_index(df[time_col].values,\n",
    "                               model.predict_expectation(df).values.ravel(),\n",
    "                               df[event_col].values.astype(int))\n",
    "    return c_index"
   ]
  },
  {
   "cell_type": "code",
   "execution_count": null,
   "metadata": {
    "collapsed": false
   },
   "outputs": [],
   "source": [
    "test_concordance={}\n",
    "for mdl in [cf1,aaf1]:\n",
    "    my_cvalue=return_concordance(o50e[ret_surv_cols1],mdl,'Tenure_years','retired')\n",
    "    test_concordance[mdl]=my_cvalue\n",
    "print test_concordance"
   ]
  },
  {
   "cell_type": "code",
   "execution_count": null,
   "metadata": {
    "collapsed": false
   },
   "outputs": [],
   "source": [
    "aaf1.plot (columns=['Age_years','SAL1','SEX'], ix=slice(1,15))"
   ]
  },
  {
   "cell_type": "code",
   "execution_count": null,
   "metadata": {
    "collapsed": false
   },
   "outputs": [],
   "source": [
    "## apply pipe to evalset\n",
    "o50e = ret_pipe.fit(o50build[ret_surv_cols1],o50build.retired).transform(o50eval[ret_surv_cols1])"
   ]
  },
  {
   "cell_type": "code",
   "execution_count": null,
   "metadata": {
    "collapsed": false
   },
   "outputs": [],
   "source": [
    "e50_aaf1_psf = aaf1.predict_survival_function(o50e[ret_surv_cols1])\n",
    "e50_cf1_psf = cf1.predict_survival_function(o50e[ret_surv_cols1])"
   ]
  },
  {
   "cell_type": "code",
   "execution_count": null,
   "metadata": {
    "collapsed": false
   },
   "outputs": [],
   "source": [
    "e50_aaf1_psf[e50_aaf1_psf.columns[:5]].plot()"
   ]
  },
  {
   "cell_type": "code",
   "execution_count": null,
   "metadata": {
    "collapsed": false
   },
   "outputs": [],
   "source": [
    "eval_retired_idx = o50e[o50e.retired==1].index.tolist()\n",
    "eval_nret_idx = o50e[o50e.retired==0].index.tolist()"
   ]
  },
  {
   "cell_type": "code",
   "execution_count": null,
   "metadata": {
    "collapsed": false
   },
   "outputs": [],
   "source": [
    "len(eval_retired_idx), len(eval_nret_idx)"
   ]
  },
  {
   "cell_type": "code",
   "execution_count": null,
   "metadata": {
    "collapsed": false
   },
   "outputs": [],
   "source": [
    "e50_aaf1_psf[eval_retired_idx[:5]].plot()\n",
    "plt.scatter(o50e.ix[eval_retired_idx[:5]].Tenure_years,[.5,.5,.5,.5,.5])"
   ]
  },
  {
   "cell_type": "code",
   "execution_count": null,
   "metadata": {
    "collapsed": false
   },
   "outputs": [],
   "source": [
    "e50_cf1_psf[eval_retired_idx[:5]].plot()\n",
    "plt.scatter(o50e.ix[eval_retired_idx[:5]].Tenure_years,[.5,.5,.5,.5,.5])"
   ]
  },
  {
   "cell_type": "code",
   "execution_count": null,
   "metadata": {
    "collapsed": true
   },
   "outputs": [],
   "source": [
    "e50_aaf_expect = aaf1.predict_expectation(o50e[ret_surv_cols1])\n",
    "e50_aaf_med = aaf1.predict_median(o50e[ret_surv_cols1])"
   ]
  },
  {
   "cell_type": "code",
   "execution_count": null,
   "metadata": {
    "collapsed": true
   },
   "outputs": [],
   "source": [
    "e50_cf1_expect = cf1.predict_expectation(o50e[ret_surv_cols1])\n",
    "e50_cf1_median = cf1.predict_median(o50e[ret_surv_cols1])"
   ]
  },
  {
   "cell_type": "code",
   "execution_count": null,
   "metadata": {
    "collapsed": false
   },
   "outputs": [],
   "source": [
    "e50_aaf_expect.rename(columns={0:'aaf1expect'},inplace=True)\n",
    "e50_aaf_med.rename(columns={0.5:'aaf1median'},inplace=True)\n",
    "e50_cf1_expect.rename(columns={0:'cf1expect'},inplace=True)\n",
    "e50_cf1_median.rename(columns={0.5:'cf1median'},inplace=True)\n"
   ]
  },
  {
   "cell_type": "code",
   "execution_count": null,
   "metadata": {
    "collapsed": false
   },
   "outputs": [],
   "source": [
    "e50assess = pd.concat([o50e[['Tenure_years','retired']],e50_aaf_expect,e50_aaf_med,e50_cf1_expect,e50_cf1_median],axis=1)\n",
    "e50assess.shape"
   ]
  },
  {
   "cell_type": "code",
   "execution_count": null,
   "metadata": {
    "collapsed": false
   },
   "outputs": [],
   "source": [
    "concordance_index(e50assess.Tenure_years.values,e50assess.aaf1expect.values.ravel(),e50assess.retired.values.astype(int))"
   ]
  },
  {
   "cell_type": "code",
   "execution_count": null,
   "metadata": {
    "collapsed": false
   },
   "outputs": [],
   "source": [
    "concordance_index(e50assess.Tenure_years.values,e50assess.cf1expect.values.ravel(),e50assess.retired.values.astype(int))"
   ]
  },
  {
   "cell_type": "code",
   "execution_count": null,
   "metadata": {
    "collapsed": false
   },
   "outputs": [],
   "source": [
    "return_concordance(o50e[ret_surv_cols1],cf1,'Tenure_years','retired')"
   ]
  },
  {
   "cell_type": "markdown",
   "metadata": {},
   "source": [
    "### Assess the current set for retirement"
   ]
  },
  {
   "cell_type": "code",
   "execution_count": null,
   "metadata": {
    "collapsed": false
   },
   "outputs": [],
   "source": [
    "current = empl1[empl1.status == 0].copy()\n",
    "len(current)"
   ]
  },
  {
   "cell_type": "code",
   "execution_count": null,
   "metadata": {
    "collapsed": false
   },
   "outputs": [],
   "source": [
    "cover50 = over50[over50.status==0].copy()\n",
    "len(cover50)"
   ]
  },
  {
   "cell_type": "code",
   "execution_count": null,
   "metadata": {
    "collapsed": false
   },
   "outputs": [],
   "source": []
  },
  {
   "cell_type": "code",
   "execution_count": null,
   "metadata": {
    "collapsed": false
   },
   "outputs": [],
   "source": [
    "c50 = ret_pipe.fit(o50build[ret_surv_cols1],o50build.retired).transform(cover50[ret_surv_cols1])"
   ]
  },
  {
   "cell_type": "code",
   "execution_count": null,
   "metadata": {
    "collapsed": false
   },
   "outputs": [],
   "source": [
    "c50psf = cf1.predict_survival_function(c50[ret_surv_cols1])"
   ]
  },
  {
   "cell_type": "code",
   "execution_count": null,
   "metadata": {
    "collapsed": false
   },
   "outputs": [],
   "source": [
    "curr = ret_pipe.fit(o50build[ret_surv_cols1],o50build.retired).transform(current[ret_surv_cols1])\n",
    "curr_psf = cf1.predict_survival_function(curr[ret_surv_cols1])"
   ]
  },
  {
   "cell_type": "code",
   "execution_count": null,
   "metadata": {
    "collapsed": false
   },
   "outputs": [],
   "source": [
    "c50.ix[7]"
   ]
  },
  {
   "cell_type": "code",
   "execution_count": null,
   "metadata": {
    "collapsed": false
   },
   "outputs": [],
   "source": [
    "c50psf.shape"
   ]
  },
  {
   "cell_type": "code",
   "execution_count": null,
   "metadata": {
    "collapsed": false
   },
   "outputs": [],
   "source": [
    "len(c50.Tenure_years.values)"
   ]
  },
  {
   "cell_type": "code",
   "execution_count": null,
   "metadata": {
    "collapsed": false
   },
   "outputs": [],
   "source": [
    "c50psf.T.head()"
   ]
  },
  {
   "cell_type": "code",
   "execution_count": null,
   "metadata": {
    "collapsed": false
   },
   "outputs": [],
   "source": [
    "c50psf.tail()"
   ]
  },
  {
   "cell_type": "code",
   "execution_count": null,
   "metadata": {
    "collapsed": false
   },
   "outputs": [],
   "source": [
    "c50psf[7].ix[40.33:]"
   ]
  },
  {
   "cell_type": "code",
   "execution_count": null,
   "metadata": {
    "collapsed": false
   },
   "outputs": [],
   "source": [
    "c50psf.index.name = 'years'\n",
    "c50psf.reset_index(inplace=True)\n",
    "c50psf.head()"
   ]
  },
  {
   "cell_type": "code",
   "execution_count": null,
   "metadata": {
    "collapsed": false
   },
   "outputs": [],
   "source": [
    "np.where(c50psf.years <= nt)[0][-1], np.where(c50psf.years > nt)[0][0]"
   ]
  },
  {
   "cell_type": "code",
   "execution_count": null,
   "metadata": {
    "collapsed": true
   },
   "outputs": [],
   "source": []
  },
  {
   "cell_type": "code",
   "execution_count": null,
   "metadata": {
    "collapsed": false
   },
   "outputs": [],
   "source": [
    "sf_pred = pd.DataFrame()\n",
    "my_cols = c50psf.columns.tolist()\n",
    "for idx, thistenure in enumerate(c50.Tenure_years.values[:10]):\n",
    "    print c50psf.loc[thistenure,my_cols[idx]], thistenure, idx\n",
    "    for yr in np.arange(1,6):\n",
    "        nt = thistenure+yr\n",
    "        print \"\\t\",yr, nt\n",
    "        print \"\\t\" ,c50psf.iloc[nt:,my_cols[idx]][0]"
   ]
  },
  {
   "cell_type": "code",
   "execution_count": null,
   "metadata": {
    "collapsed": false
   },
   "outputs": [],
   "source": [
    "print c50.ix[7].Tenure_years\n",
    "ten_now = c50.ix[7].Tenure_years\n",
    "1-c50psf[7].ix[ten_now:ten_now+6]#.plot()"
   ]
  },
  {
   "cell_type": "code",
   "execution_count": null,
   "metadata": {
    "collapsed": false
   },
   "outputs": [],
   "source": [
    "def get_survival_prediction(edf,psf, time_col='Age_years', yr_vals=[1,2,3,4,5]):\n",
    "    from scipy import interpolate\n",
    "    import pandas as pd\n",
    "    import numpy as np\n",
    "\n",
    "    pred_col_names = ['proba_'+str(y) for y in yr_vals]\n",
    "    df = pd.DataFrame(index=edf.index, columns=pred_col_names, dtype=float)\n",
    "    print pred_col_names\n",
    "    employees = edf.index.tolist()\n",
    "    #print df.shape, df.index\n",
    "    for employee_id,time_point in enumerate(edf[time_col]):\n",
    "        if employee_id % 5000 ==0 :\n",
    "            print employee_id, employees[employee_id], time_point\n",
    "        age = edf['Age_years']\n",
    "        prob_vals =np.ones((len(yr_vals),))\n",
    "        if age >= 50.0: # only deal with over 50\n",
    "            for idx, year in enumerate(yr_vals):\n",
    "                ck_yr = age+year\n",
    "                #print idx, year, ck_yr\n",
    "                try:\n",
    "                    prior_idx = np.where(psf.years < ck_yr)[0][-1]\n",
    "                    posterior_idx = np.where(psf.years > ck_yr)[0][0]\n",
    "\n",
    "                    x = [psf.ix[prior_idx]['years'], psf.ix[posterior_idx]['years']]\n",
    "                    y = [psf.ix[prior_idx][employee_id+1], psf.ix[posterior_idx][employee_id+1]]\n",
    "                    # there is an extra column in my processing\n",
    "                    # now interpolate these\n",
    "                    y_interp = interpolate.interp1d(x,y)\n",
    "                    proba = y_interp(ck_yr)\n",
    "                    print \"\\t\", proba, idx,employees[employee_id]\n",
    "                except IndexError:\n",
    "                    print \"\\t IE\", proba, idx,employees[employee_id]\n",
    "                    proba = psf.ix[np.where(psf.years == ck_yr)[0]][employees[employee_id+1]]\n",
    "\n",
    "                prob_vals[idx] = proba\n",
    "                print proba\n",
    "\n",
    "        df.loc[edf.index[employee_id]]=prob_vals\n",
    "    df.fillna(1.0,inplace=True)  # fill in missing values with ones\n",
    "    df[df<0] = 0.0  # replace negative probabilities with zero\n",
    "\n",
    "    return 1-df  # convert to probability of retirement"
   ]
  },
  {
   "cell_type": "code",
   "execution_count": null,
   "metadata": {
    "collapsed": false
   },
   "outputs": [],
   "source": [
    "c50psf.head()"
   ]
  },
  {
   "cell_type": "code",
   "execution_count": null,
   "metadata": {
    "collapsed": false
   },
   "outputs": [],
   "source": [
    "curr_psf.index.name='years'\n",
    "curr_psf.reset_index(inplace=True)"
   ]
  },
  {
   "cell_type": "code",
   "execution_count": null,
   "metadata": {
    "collapsed": false
   },
   "outputs": [],
   "source": [
    "curr_psf.shape, curr.shape\n",
    "curr_psf.head()"
   ]
  },
  {
   "cell_type": "code",
   "execution_count": null,
   "metadata": {
    "collapsed": false
   },
   "outputs": [],
   "source": [
    "curr[ret_surv_cols1].ix[78385]"
   ]
  },
  {
   "cell_type": "code",
   "execution_count": null,
   "metadata": {
    "collapsed": true
   },
   "outputs": [],
   "source": []
  },
  {
   "cell_type": "code",
   "execution_count": null,
   "metadata": {
    "collapsed": false
   },
   "outputs": [],
   "source": [
    "test1 = curr[ret_surv_cols1].head(10).copy()\n",
    "\n",
    "tmp_cols = test1.index.tolist()\n",
    "tmp_cols.append('years')\n",
    "test1psf = curr_psf[tmp_cols].copy()\n",
    "test1.shape, test1psf.shape"
   ]
  },
  {
   "cell_type": "code",
   "execution_count": null,
   "metadata": {
    "collapsed": false,
    "scrolled": true
   },
   "outputs": [],
   "source": [
    "get_survival_prediction(test1,test1psf,'Tenure_years')"
   ]
  },
  {
   "cell_type": "code",
   "execution_count": null,
   "metadata": {
    "collapsed": false
   },
   "outputs": [],
   "source": [
    "row[1]"
   ]
  },
  {
   "cell_type": "code",
   "execution_count": null,
   "metadata": {
    "collapsed": false
   },
   "outputs": [],
   "source": [
    "test1.columns.tolist().index('Tenure_years')"
   ]
  },
  {
   "cell_type": "code",
   "execution_count": null,
   "metadata": {
    "collapsed": false
   },
   "outputs": [],
   "source": [
    "test1.head()"
   ]
  },
  {
   "cell_type": "code",
   "execution_count": null,
   "metadata": {
    "collapsed": false
   },
   "outputs": [],
   "source": [
    "curr_psf.years.max()"
   ]
  },
  {
   "cell_type": "code",
   "execution_count": null,
   "metadata": {
    "collapsed": false
   },
   "outputs": [],
   "source": [
    "def get_survival_prediction2(edf,psf, time_col='Age_years', yr_vals=[1,2,3,4,5]):\n",
    "    from scipy import interpolate\n",
    "    import pandas as pd\n",
    "    import numpy as np\n",
    "\n",
    "    pred_col_names = ['proba_'+str(y) for y in yr_vals]\n",
    "    df = pd.DataFrame(index=edf.index, columns=pred_col_names, dtype=float)\n",
    "    print pred_col_names\n",
    "    employee_idx = edf.index.tolist()\n",
    "    emp_cols = edf.columns.tolist()\n",
    "    tcol_idx = emp_cols.index(time_col)+1\n",
    "    age_idx = emp_cols.index('Age_years')+1\n",
    "    #define the maximum survival_time_range\n",
    "    mx_surv_time = psf.years.max()\n",
    "    for employee in edf.itertuples():\n",
    "        my_index = employee[0]\n",
    "        my_age = employee[age_idx]\n",
    "        my_time = employee[tcol_idx]\n",
    "        #print my_index,my_age, my_time\n",
    "        prob_vals = np.ones(len(yr_vals))\n",
    "        if my_index % 5000 ==0 :\n",
    "            print my_index, my_age, my_time\n",
    "        if my_age >= 50.0: # only deal with over 50\n",
    "            for idx, year in enumerate(yr_vals):\n",
    "                ck_yr = my_time+year\n",
    "                if ck_yr>=mx_surv_time:\n",
    "                    proba = psf.iloc[-1].loc[my_index]\n",
    "                else:\n",
    "                    try:\n",
    "                        prior_idx = np.where(psf.years < ck_yr)[0][-1]\n",
    "                        posterior_idx = np.where(psf.years > ck_yr)[0][0]\n",
    "\n",
    "                        x = [psf.loc[prior_idx]['years'], psf.loc[posterior_idx]['years']]\n",
    "                        y = [psf.loc[prior_idx][my_index], psf.loc[posterior_idx][my_index]]\n",
    "                        # there is an extra column in my processing\n",
    "                        # now interpolate these\n",
    "                        y_interp = interpolate.interp1d(x,y)\n",
    "                        proba = y_interp(ck_yr)\n",
    "                        #print \"\\t\", proba, idx,my_index\n",
    "                    except IndexError:\n",
    "                        print \"\\t IE\", proba, idx,my_index\n",
    "                        proba = psf.loc[np.where(psf.years == ck_yr)[0]][my_index]\n",
    "\n",
    "                prob_vals[idx] = proba\n",
    "                \n",
    "\n",
    "        df.loc[my_index]=prob_vals\n",
    "    \n",
    "    df.fillna(1.0,inplace=True)  # fill in missing values with ones\n",
    "    df[df<0] = 0.0  # replace negative probabilities with zero\n",
    "\n",
    "    return 1-df  # convert to probability of retirement"
   ]
  },
  {
   "cell_type": "code",
   "execution_count": null,
   "metadata": {
    "collapsed": false
   },
   "outputs": [],
   "source": [
    "get_survival_prediction2(test1,test1psf,time_col='Tenure_years')"
   ]
  },
  {
   "cell_type": "code",
   "execution_count": null,
   "metadata": {
    "collapsed": false
   },
   "outputs": [],
   "source": [
    "plt.plot(curr_psf.years,curr_psf.loc[:,134185])\n",
    "plt.scatter(curr.loc[134185,'Tenure_years'],0.5)"
   ]
  },
  {
   "cell_type": "code",
   "execution_count": null,
   "metadata": {
    "collapsed": false
   },
   "outputs": [],
   "source": [
    "curr.index[-5:]"
   ]
  },
  {
   "cell_type": "code",
   "execution_count": null,
   "metadata": {
    "collapsed": false
   },
   "outputs": [],
   "source": [
    "curr.loc[78385]"
   ]
  },
  {
   "cell_type": "code",
   "execution_count": null,
   "metadata": {
    "collapsed": true
   },
   "outputs": [],
   "source": [
    "from scipy import interpolate"
   ]
  },
  {
   "cell_type": "code",
   "execution_count": null,
   "metadata": {
    "collapsed": true
   },
   "outputs": [],
   "source": [
    "  \"\"\"\n",
    "        \n",
    "                    #print \"\\t\", proba, idx,my_index\n",
    "        #except IndexError:\n",
    "        \"\"\"\n",
    "        #   proba = curr_psf.loc[np.where(curr_psf.years == ck_yr)[0]][my_index]\n",
    "        #print \"\\t IE\", proba, idx,my_index, ck_yr"
   ]
  },
  {
   "cell_type": "code",
   "execution_count": null,
   "metadata": {
    "collapsed": false
   },
   "outputs": [],
   "source": [
    "yr_vals = [1,2,3,4,5]\n",
    "my_time = 58.040891\n",
    "my_index = 78385\n",
    "for idx, year in enumerate(yr_vals):\n",
    "    ck_yr = my_time+year\n",
    "    try:\n",
    "        prior_idx = np.where(curr_psf.years < ck_yr)[0][-1]\n",
    "        posterior_idx = np.where(curr_psf.years > ck_yr)[0][0]\n",
    "\n",
    "        x = [curr_psf.loc[prior_idx]['years'], curr_psf.loc[posterior_idx]['years']]\n",
    "        y = [curr_psf.loc[prior_idx][my_index], curr_psf.loc[posterior_idx][my_index]]\n",
    "                    # there is an extra column in my processing\n",
    "                    # now interpolate these\n",
    "        y_interp = interpolate.interp1d(x,y)\n",
    "        proba = y_interp(ck_yr)\n",
    "        print proba, idx, my_index\n",
    "    except IndexError:    \n",
    "        #proba = curr_psf.loc[np.where(curr_psf.years == ck_yr)[0]][my_index]\n",
    "    print proba,ck_yr,idx"
   ]
  },
  {
   "cell_type": "code",
   "execution_count": null,
   "metadata": {
    "collapsed": false
   },
   "outputs": [],
   "source": [
    "curr_psf.iloc[-1].loc[788]"
   ]
  },
  {
   "cell_type": "code",
   "execution_count": null,
   "metadata": {
    "collapsed": false
   },
   "outputs": [],
   "source": [
    "curr_psf.years.max()"
   ]
  },
  {
   "cell_type": "code",
   "execution_count": null,
   "metadata": {
    "collapsed": false
   },
   "outputs": [],
   "source": [
    "curr_psf[curr_psf.years >=62.04]#.loc[:,['years',78385]]"
   ]
  },
  {
   "cell_type": "code",
   "execution_count": null,
   "metadata": {
    "collapsed": false,
    "scrolled": true
   },
   "outputs": [],
   "source": [
    "%%time\n",
    "surv_prob_cf1 = get_survival_prediction2(curr[ret_surv_cols1],curr_psf,time_col='Tenure_years')"
   ]
  },
  {
   "cell_type": "code",
   "execution_count": null,
   "metadata": {
    "collapsed": false
   },
   "outputs": [],
   "source": [
    "surv_prob_cf1.head()"
   ]
  },
  {
   "cell_type": "code",
   "execution_count": null,
   "metadata": {
    "collapsed": false
   },
   "outputs": [],
   "source": [
    "surv_prob_cf1.sum(axis=0)"
   ]
  },
  {
   "cell_type": "code",
   "execution_count": null,
   "metadata": {
    "collapsed": false
   },
   "outputs": [],
   "source": [
    "surv_prob_cf1.head()"
   ]
  },
  {
   "cell_type": "code",
   "execution_count": null,
   "metadata": {
    "collapsed": false
   },
   "outputs": [],
   "source": [
    "(surv_prob_cf1>=0.5).values.astype(int).sum(axis=0)"
   ]
  },
  {
   "cell_type": "code",
   "execution_count": null,
   "metadata": {
    "collapsed": false
   },
   "outputs": [],
   "source": [
    "sns.distplot(surv_prob_cf1.proba_1)"
   ]
  },
  {
   "cell_type": "code",
   "execution_count": null,
   "metadata": {
    "collapsed": false
   },
   "outputs": [],
   "source": [
    "sns.distplot(surv_prob_cf1.ix[cover50.index].proba_1)"
   ]
  },
  {
   "cell_type": "code",
   "execution_count": null,
   "metadata": {
    "collapsed": false
   },
   "outputs": [],
   "source": [
    "sns.distplot(surv_prob_cf1.ix[cover50.index].proba_5)"
   ]
  },
  {
   "cell_type": "code",
   "execution_count": null,
   "metadata": {
    "collapsed": false
   },
   "outputs": [],
   "source": [
    "e50_cf1_psf.reset_index(inplace=True)\n",
    "e50_cf1_psf.head()"
   ]
  },
  {
   "cell_type": "code",
   "execution_count": null,
   "metadata": {
    "collapsed": false
   },
   "outputs": [],
   "source": [
    "eval_surv_prob_cf1 = get_survival_prediction2(o50e[ret_surv_cols1],e50_cf1_psf,time_col='Tenure_years')"
   ]
  },
  {
   "cell_type": "code",
   "execution_count": null,
   "metadata": {
    "collapsed": false
   },
   "outputs": [],
   "source": [
    "eval_surv_prob_cf1[['Tenure_years','retired']]=o50e[['Tenure_years','retired']]\n",
    "eval_surv_prob_cf1.head()"
   ]
  },
  {
   "cell_type": "code",
   "execution_count": null,
   "metadata": {
    "collapsed": false
   },
   "outputs": [],
   "source": [
    "sns.distplot(eval_surv_prob_cf1[eval_surv_prob_cf1.retired==1].proba_1,label='retired')\n",
    "sns.distplot(eval_surv_prob_cf1[eval_surv_prob_cf1.retired==0].proba_1,label='not_retired')\n",
    "plt.legend()"
   ]
  },
  {
   "cell_type": "code",
   "execution_count": null,
   "metadata": {
    "collapsed": false
   },
   "outputs": [],
   "source": [
    "sns.distplot(eval_surv_prob_cf1[eval_surv_prob_cf1.retired==1].proba_5,label='retired')\n",
    "sns.distplot(eval_surv_prob_cf1[eval_surv_prob_cf1.retired==0].proba_5,label='not_retired')\n",
    "plt.legend()"
   ]
  },
  {
   "cell_type": "code",
   "execution_count": null,
   "metadata": {
    "collapsed": false
   },
   "outputs": [],
   "source": [
    "eval_surv_prob_cf1.sum(axis=0)"
   ]
  },
  {
   "cell_type": "code",
   "execution_count": null,
   "metadata": {
    "collapsed": false
   },
   "outputs": [],
   "source": [
    "for ycol in ['proba_1','proba_2','proba_3','proba_4','proba_5']:\n",
    "    \n",
    "    sns.boxplot(x='retired',y=ycol,data=eval_surv_prob_cf1)"
   ]
  },
  {
   "cell_type": "code",
   "execution_count": null,
   "metadata": {
    "collapsed": false
   },
   "outputs": [],
   "source": [
    "eval_surv_prob_cf1.head()"
   ]
  },
  {
   "cell_type": "code",
   "execution_count": null,
   "metadata": {
    "collapsed": false
   },
   "outputs": [],
   "source": [
    "(eval_surv_prob_cf1[['proba_1','proba_2','proba_3','proba_4','proba_5']]+[0.5,0.5,0.5,0.5,0.5]).values.astype(int).sum(axis=0)"
   ]
  },
  {
   "cell_type": "code",
   "execution_count": null,
   "metadata": {
    "collapsed": false
   },
   "outputs": [],
   "source": [
    "(eval_surv_prob_cf1[['proba_1','proba_2','proba_3','proba_4','proba_5']]+[0.5,0.5,0.5,0.5,0.5]).values.astype(int)==1"
   ]
  },
  {
   "cell_type": "code",
   "execution_count": null,
   "metadata": {
    "collapsed": false
   },
   "outputs": [],
   "source": [
    "eval_surv_prob_cf1[eval_surv_prob_cf1.proba_5>=0.5]['retired'].value_counts()"
   ]
  },
  {
   "cell_type": "code",
   "execution_count": null,
   "metadata": {
    "collapsed": false
   },
   "outputs": [],
   "source": [
    "eval_surv_prob_cf1[eval_surv_prob_cf1.proba_5<0.5]['retired'].value_counts()"
   ]
  },
  {
   "cell_type": "code",
   "execution_count": null,
   "metadata": {
    "collapsed": false
   },
   "outputs": [],
   "source": [
    "(eval_surv_prob_cf1[['proba_1','proba_2','proba_3','proba_4','proba_5']]>=0.5).values.astype(int).sum(axis=0)"
   ]
  },
  {
   "cell_type": "markdown",
   "metadata": {},
   "source": [
    "### save this model"
   ]
  },
  {
   "cell_type": "code",
   "execution_count": null,
   "metadata": {
    "collapsed": false,
    "scrolled": true
   },
   "outputs": [],
   "source": [
    "%pwd"
   ]
  },
  {
   "cell_type": "code",
   "execution_count": null,
   "metadata": {
    "collapsed": false
   },
   "outputs": [],
   "source": [
    "os.chdir('../proc')\n"
   ]
  },
  {
   "cell_type": "code",
   "execution_count": null,
   "metadata": {
    "collapsed": false
   },
   "outputs": [],
   "source": [
    "%ls"
   ]
  },
  {
   "cell_type": "code",
   "execution_count": null,
   "metadata": {
    "collapsed": true
   },
   "outputs": [],
   "source": []
  },
  {
   "cell_type": "markdown",
   "metadata": {},
   "source": [
    "## assess the model above to find best offsets"
   ]
  },
  {
   "cell_type": "code",
   "execution_count": null,
   "metadata": {
    "collapsed": true
   },
   "outputs": [],
   "source": [
    "def find_max_f1_value(ytrue,ypred):\n",
    "    scores = []\n",
    "    offsets = []\n",
    "    # stage 1:\n",
    "    for offset in np.arange(0,10)/float(10):\n",
    "        score = metrics.f1_score(ytrue,map(np.int,ypred+offset))\n",
    "        scores.append(score)\n",
    "        offsets.append(offset)\n",
    "    # find the max\n",
    "    mxscore = max(scores)\n",
    "    mx_idx = scores.index(mxscore)\n",
    "    #now offset below and above\n",
    "    if mx_idx == 0:\n",
    "        for offset in np.arange(0,16)/float(100):\n",
    "            offset+=0.0\n",
    "            score = metrics.f1_score(ytrue,map(np.int,ypred+offset))\n",
    "            scores.append(score)\n",
    "            offsets.append(offset)\n",
    "    elif mx_idx == 9:\n",
    "        for offset in np.arange(0,21)/float(100):\n",
    "            offset+=0.8\n",
    "            score = metrics.f1_score(ytrue,map(np.int,ypred+offset))\n",
    "            scores.append(score)\n",
    "            offsets.append(offset)\n",
    "    else:\n",
    "        base_offset = offsets[mx_idx-1]\n",
    "        for offset in np.arange(0,21)/float(100):\n",
    "            offset+=base_offset\n",
    "            score = metrics.f1_score(ytrue,map(np.int,ypred+offset))\n",
    "            scores.append(score)\n",
    "            offsets.append(offset)\n",
    "            \n",
    "    #if m\n",
    "    #for offset in np.arange(0,20)/float(100):\n",
    "    #    offset+=0.6\n",
    "    #\n",
    "    #print offset,\":: \", score\n",
    "    #\n",
    "    #mcc_5_offsets.append(offset)\n",
    "    plt.scatter(offsets,scores,color='midnightblue')\n",
    "    plt.xlabel('offset value')\n",
    "    plt.ylabel('F1 score')\n",
    "    \n",
    "    mxmxscore = max(scores)\n",
    "    mxmx_idx = scores.index(mxmxscore)\n",
    "    print mxmxscore, offsets[mxmx_idx]\n",
    "    #return mcc_scores, mcc_offsets\n",
    "    return offsets[mxmx_idx]\n"
   ]
  },
  {
   "cell_type": "code",
   "execution_count": null,
   "metadata": {
    "collapsed": false
   },
   "outputs": [],
   "source": [
    "eval_surv_prob_cf1.head()"
   ]
  },
  {
   "cell_type": "code",
   "execution_count": null,
   "metadata": {
    "collapsed": false
   },
   "outputs": [],
   "source": [
    "\n",
    "ret_off1f = find_max_f1_value(eval_surv_prob_cf1.retired,eval_surv_prob_cf1.proba_1)"
   ]
  },
  {
   "cell_type": "code",
   "execution_count": null,
   "metadata": {
    "collapsed": false
   },
   "outputs": [],
   "source": [
    "ret_off5f = find_max_f1_value(eval_surv_prob_cf1.retired,eval_surv_prob_cf1.proba_5)"
   ]
  },
  {
   "cell_type": "code",
   "execution_count": null,
   "metadata": {
    "collapsed": false
   },
   "outputs": [],
   "source": [
    "ret_offsets = [ret_off1f,ret_off2f,ret_off3f,ret_off4f,ret_off5f]\n",
    "(eval_surv_prob_cf1[['proba_1','proba_2','proba_3','proba_4','proba_5']]+ret_offsets).values.astype(int).sum(axis=0)"
   ]
  },
  {
   "cell_type": "code",
   "execution_count": null,
   "metadata": {
    "collapsed": false
   },
   "outputs": [],
   "source": [
    "ret_offsets = [0.1,ret_off2f,ret_off3f,ret_off4f,ret_off5f]\n",
    "(eval_surv_prob_cf1[['proba_1','proba_2','proba_3','proba_4','proba_5']]+ret_offsets).values.astype(int).sum(axis=0)"
   ]
  },
  {
   "cell_type": "code",
   "execution_count": null,
   "metadata": {
    "collapsed": false
   },
   "outputs": [],
   "source": [
    "e50assess.head()"
   ]
  },
  {
   "cell_type": "code",
   "execution_count": null,
   "metadata": {
    "collapsed": false
   },
   "outputs": [],
   "source": [
    "plot_conf_matrix(eval_surv_prob_cf1.retired,map(np.int,eval_surv_prob_cf1.proba_5+0.81),normed=False)"
   ]
  },
  {
   "cell_type": "code",
   "execution_count": null,
   "metadata": {
    "collapsed": false
   },
   "outputs": [],
   "source": [
    "plot_conf_matrix(eval_surv_prob_cf1.retired,map(np.int,eval_surv_prob_cf1.proba_5+0.5),normed=False)"
   ]
  },
  {
   "cell_type": "code",
   "execution_count": null,
   "metadata": {
    "collapsed": false
   },
   "outputs": [],
   "source": [
    "eval_surv_prob_cf1.retired.value_counts()"
   ]
  },
  {
   "cell_type": "code",
   "execution_count": null,
   "metadata": {
    "collapsed": false
   },
   "outputs": [],
   "source": [
    "plot_conf_matrix(eval_surv_prob_cf1.retired,map(np.int,eval_surv_prob_cf1.proba_5+0.78),normed=False)"
   ]
  },
  {
   "cell_type": "code",
   "execution_count": null,
   "metadata": {
    "collapsed": false
   },
   "outputs": [],
   "source": [
    "def find_max_mcc_value(ytrue,ypred):\n",
    "    mcc_scores = []\n",
    "    mcc_offsets = []\n",
    "    # stage 1:\n",
    "    for offset in np.arange(0,10)/float(10):\n",
    "        score = metrics.matthews_corrcoef(ytrue,map(np.int,ypred+offset))\n",
    "        mcc_scores.append(score)\n",
    "        mcc_offsets.append(offset)\n",
    "    # find the max\n",
    "    mxscore = max(mcc_scores)\n",
    "    mx_idx = mcc_scores.index(mxscore)\n",
    "    #now offset below and above\n",
    "    if mx_idx == 0:\n",
    "        for offset in np.arange(0,11)/float(100):\n",
    "            offset+=0.0\n",
    "            score = metrics.matthews_corrcoef(ytrue,map(np.int,ypred+offset))\n",
    "            mcc_scores.append(score)\n",
    "            mcc_offsets.append(offset)\n",
    "    elif mx_idx == 9:\n",
    "        for offset in np.arange(0,11)/float(100):\n",
    "            offset+=0.9\n",
    "            score = metrics.matthews_corrcoef(ytrue,map(np.int,ypred+offset))\n",
    "            mcc_scores.append(score)\n",
    "            mcc_offsets.append(offset)\n",
    "    else:\n",
    "        base_offset = mcc_offsets[mx_idx-1]\n",
    "        for offset in np.arange(0,21)/float(100):\n",
    "            offset+=base_offset\n",
    "            score = metrics.matthews_corrcoef(ytrue,map(np.int,ypred+offset))\n",
    "            mcc_scores.append(score)\n",
    "            mcc_offsets.append(offset)\n",
    "            \n",
    "    #if m\n",
    "    #for offset in np.arange(0,20)/float(100):\n",
    "    #    offset+=0.6\n",
    "    #\n",
    "    #print offset,\":: \", score\n",
    "    #\n",
    "    #mcc_5_offsets.append(offset)\n",
    "    plt.scatter(mcc_offsets,mcc_scores)\n",
    "    plt.xlabel('offset value')\n",
    "    plt.ylabel('mcc score')\n",
    "    \n",
    "    mxmxscore = max(mcc_scores)\n",
    "    mxmx_idx = mcc_scores.index(mxmxscore)\n",
    "    print mxmxscore, mcc_offsets[mxmx_idx]\n",
    "    #return mcc_scores, mcc_offsets\n",
    "    return mcc_offsets[mxmx_idx]"
   ]
  },
  {
   "cell_type": "code",
   "execution_count": null,
   "metadata": {
    "collapsed": false
   },
   "outputs": [],
   "source": [
    "ret_off5mcc = find_max_mcc_value(eval_surv_prob_cf1.retired,eval_surv_prob_cf1.proba_5)"
   ]
  },
  {
   "cell_type": "code",
   "execution_count": null,
   "metadata": {
    "collapsed": true
   },
   "outputs": [],
   "source": []
  },
  {
   "cell_type": "markdown",
   "metadata": {},
   "source": [
    "## Reconsider a model for separation\n",
    "Feb. 11, 2016"
   ]
  },
  {
   "cell_type": "code",
   "execution_count": null,
   "metadata": {
    "collapsed": false
   },
   "outputs": [],
   "source": [
    "len(ne2build),len(ne2eval)"
   ]
  },
  {
   "cell_type": "code",
   "execution_count": null,
   "metadata": {
    "collapsed": false
   },
   "outputs": [],
   "source": [
    "sns.distplot(ne2build.EXTFUNC_CNT)\n",
    "sns.distplot(ne2build.FUNC_CNT)"
   ]
  },
  {
   "cell_type": "markdown",
   "metadata": {
    "collapsed": false
   },
   "source": [
    "# Feb. 15, 2016"
   ]
  },
  {
   "cell_type": "code",
   "execution_count": null,
   "metadata": {
    "collapsed": false
   },
   "outputs": [],
   "source": [
    "sep_surv_cols1 = ['status','Age_years','Tenure_years','SAL1','MERIT1','PERF1','BOX1','SEX','HAVE_INS','HAVE_DEP',\n",
    "                  'DEPTCNT1','EXTFUNC_CNT','FUNC_CNT','REMOTE']"
   ]
  },
  {
   "cell_type": "code",
   "execution_count": null,
   "metadata": {
    "collapsed": false
   },
   "outputs": [],
   "source": [
    "nr_em = empl1[empl1.retired==0].copy() \n",
    "len(nr_em)"
   ]
  },
  {
   "cell_type": "code",
   "execution_count": null,
   "metadata": {
    "collapsed": false
   },
   "outputs": [],
   "source": [
    "## break this into a test/train \n",
    "# break into evaluation and build sets\n",
    "print \"Starting with subset of {0} employees.\".format(len(nr_em))\n",
    "eval_fraction = 0.20\n",
    "ne2build, ne2eval = cross_validation.train_test_split(nr_em,test_size=eval_fraction,random_state = 60333)\n",
    "print \"Evaluation set has {0} employees; training set has {1} employees.\".format(len(ne2eval),len(ne2build))"
   ]
  },
  {
   "cell_type": "code",
   "execution_count": null,
   "metadata": {
    "collapsed": false
   },
   "outputs": [],
   "source": [
    "print len(model_cols)"
   ]
  },
  {
   "cell_type": "markdown",
   "metadata": {},
   "source": [
    "###  cope with with historical cols"
   ]
  },
  {
   "cell_type": "code",
   "execution_count": null,
   "metadata": {
    "collapsed": false
   },
   "outputs": [],
   "source": [
    "historical_cols10 = [col for col in model_cols if col.endswith('10')]\n",
    "mos_cols = [col for col in model_cols if col.endswith('MOS')]\n",
    "print historical_cols10\n",
    "historical_cols5 = [col for col in model_cols if col.endswith('5')]#[:-4]\n",
    "historical_cols3 =[col for col in model_cols if col.endswith('3')]#[:-4]\n",
    "\n",
    "print mos_cols\n",
    "len(historical_cols3), len(historical_cols5),len(historical_cols10), len(mos_cols)"
   ]
  },
  {
   "cell_type": "code",
   "execution_count": null,
   "metadata": {
    "collapsed": false
   },
   "outputs": [],
   "source": [
    "historical_cols = []\n",
    "historical_cols+=historical_cols3\n",
    "historical_cols+=historical_cols5\n",
    "historical_cols+=historical_cols10\n",
    "#historical_cols+=mos_cols\n",
    "print len(historical_cols)"
   ]
  },
  {
   "cell_type": "code",
   "execution_count": null,
   "metadata": {
    "collapsed": false
   },
   "outputs": [],
   "source": [
    "model_cols2 = [col for col in model_cols if col not in historical_cols]\n",
    "print len(model_cols2)"
   ]
  },
  {
   "cell_type": "markdown",
   "metadata": {},
   "source": [
    "### remove the timestamps"
   ]
  },
  {
   "cell_type": "code",
   "execution_count": null,
   "metadata": {
    "collapsed": false
   },
   "outputs": [],
   "source": [
    "model_cols2 = [col for col in  model_cols2 if not col.endswith('tstmp')]\n",
    "model_cols2.remove('hire_age')\n",
    "print len(model_cols2)"
   ]
  },
  {
   "cell_type": "code",
   "execution_count": null,
   "metadata": {
    "collapsed": false
   },
   "outputs": [],
   "source": [
    "my_label_encode_cols, cat_cols_to_dummy, missing_cols"
   ]
  },
  {
   "cell_type": "code",
   "execution_count": null,
   "metadata": {
    "collapsed": true
   },
   "outputs": [],
   "source": [
    "#cate_list = br.get_categorical(X)\n",
    "# need to break the categorical into types\n",
    "pipe = Pipeline([(\"null\", br.RemoveAllNull()),  \n",
    "                 (\"label_encode\",br.LabelEncodeColumn(my_label_encode_cols)),\n",
    "                 (\"dummy_encode\", br.DummyEncodeColumn(cat_cols_to_dummy)),\n",
    "                 #(\"survival_encode\",SurvivalEncodeColumn(my_label_encode_cols[:5],method='median')),\n",
    "                 #(\"cat\", br.ConvertCategorical(cate_list, rows_to_scan=0.3)),\n",
    "                 (\"fixout_min\",br.FixNumericOutlier(columns_to_fix=['SAL1','MIN_RT_ANNUAL','MERIT1','PERF1'],\n",
    "                                                    criteria_coef=('percentile',2),\n",
    "                                                   method='lower',fill_with='nearest_value')),\n",
    "                  (\"fixout_max\",br.FixNumericOutlier(columns_to_fix=['MAX_RT_ANNUAL'],criteria_coef=('percentile',2),\n",
    "                                                   method='both',fill_with='nearest_value')),\n",
    "                 #(\"fill_missingzero\",FillMissingValue(columns_to_fix=['BOX1','FUNC_CNT','EXTFUNC_CNT','TOTAL_RPT_CNT','DIRECT_RPT_CNT'],fill_value=0)),\n",
    "                 (\"imp_mode\",br.ImputeData(columns_to_impute=missing_cols,rows_to_scan=0.8))])\n",
    "                 "
   ]
  },
  {
   "cell_type": "code",
   "execution_count": null,
   "metadata": {
    "collapsed": true
   },
   "outputs": [],
   "source": [
    "ne2b = pipe.fit_transform(ne2build[model_cols2],ne2build.status)\n",
    "ne2e = pipe.fit(ne2build[model_cols2],ne2build.status).transform(ne2eval[model_cols2])"
   ]
  },
  {
   "cell_type": "code",
   "execution_count": null,
   "metadata": {
    "collapsed": false
   },
   "outputs": [],
   "source": [
    "#ne2b[sep_surv_cols1].isnull().any()\n",
    "ne2b.isnull().any().sum()"
   ]
  },
  {
   "cell_type": "code",
   "execution_count": null,
   "metadata": {
    "collapsed": false
   },
   "outputs": [],
   "source": [
    "transformed_cols2 = ne2b.columns.tolist()\n",
    "len(transformed_cols2)"
   ]
  },
  {
   "cell_type": "code",
   "execution_count": null,
   "metadata": {
    "collapsed": false
   },
   "outputs": [],
   "source": [
    "sep_surv_cols2 = [scol for scol in sep_surv_cols1]\n",
    "print len(sep_surv_cols2)\n",
    "sep_surv_cols2.append('DIRECT_RPT_CNT')\n",
    "sep_surv_cols2.append('HUBIND')\n",
    "sep_surv_cols2.append('REH_CNT')\n",
    "#sep_surv_cols2.append('FULL_PART_TIME_X')\n",
    "print len(sep_surv_cols2)"
   ]
  },
  {
   "cell_type": "code",
   "execution_count": null,
   "metadata": {
    "collapsed": false
   },
   "outputs": [],
   "source": [
    "%%time\n",
    "#sep_surv_pipe = Pipeline([('fixout_min', br.FixNumericOutlier(columns_to_fix=['MERIT1','PERF1'],\n",
    "#                                                   criteria_coef=('percentile',2),method='lower',fill_with='nearest_value')),\n",
    "#                ('impute_mode',br.ImputeData(columns_to_impute=['MERIT1','PERF1']))]\n",
    "#               )\n",
    "from lifelines import CoxPHFitter\n",
    "from lifelines.utils import k_fold_cross_validation\n",
    "s_cf2 = CoxPHFitter(penalizer=1.0)\n",
    "xfold5_scores2 =  k_fold_cross_validation(s_cf2, ne2b[sep_surv_cols2], 'Tenure_years', event_col='status', k=5)#,show_progress=True)"
   ]
  },
  {
   "cell_type": "code",
   "execution_count": null,
   "metadata": {
    "collapsed": false
   },
   "outputs": [],
   "source": [
    "xfold5_scores2"
   ]
  },
  {
   "cell_type": "code",
   "execution_count": null,
   "metadata": {
    "collapsed": false
   },
   "outputs": [],
   "source": [
    "s_cf2.print_summary()"
   ]
  },
  {
   "cell_type": "code",
   "execution_count": null,
   "metadata": {
    "collapsed": false
   },
   "outputs": [],
   "source": [
    "## save this model\n",
    "os.chdir('../proc')\n",
    "%ls"
   ]
  },
  {
   "cell_type": "code",
   "execution_count": null,
   "metadata": {
    "collapsed": true
   },
   "outputs": [],
   "source": [
    "import pickle\n",
    "pickle.dump(s_cf2, open(\"separation_cf2.pkl\",\"wb\"))"
   ]
  },
  {
   "cell_type": "code",
   "execution_count": null,
   "metadata": {
    "collapsed": false
   },
   "outputs": [],
   "source": [
    "jfunc_cols = [c for c in ne2b.columns if c.startswith('JOB_FU')]\n",
    "sep_surv_cols3 = [c for c in sep_surv_cols2]\n",
    "sep_surv_cols3+=jfunc_cols\n",
    "print len(sep_surv_cols3)\n",
    "print len(jfunc_cols)\n",
    "    "
   ]
  },
  {
   "cell_type": "code",
   "execution_count": null,
   "metadata": {
    "collapsed": false
   },
   "outputs": [],
   "source": [
    "br.perfect_collinearity_test(ne2b[jfunc_cols])"
   ]
  },
  {
   "cell_type": "code",
   "execution_count": null,
   "metadata": {
    "collapsed": false
   },
   "outputs": [],
   "source": [
    "#jfunc_cols.remove('JOB_FUNCTION_PSA')\n",
    "#br.perfect_collinearity_test(ne2b[jfunc_cols])"
   ]
  },
  {
   "cell_type": "code",
   "execution_count": null,
   "metadata": {
    "collapsed": false
   },
   "outputs": [],
   "source": [
    "ne2b.JOB_FUNCTION_PSA.sum()"
   ]
  },
  {
   "cell_type": "code",
   "execution_count": null,
   "metadata": {
    "collapsed": false
   },
   "outputs": [],
   "source": [
    "sep_surv_cols3[:18]"
   ]
  },
  {
   "cell_type": "code",
   "execution_count": null,
   "metadata": {
    "collapsed": false
   },
   "outputs": [],
   "source": [
    "%%time\n",
    "#sep_surv_pipe = Pipeline([('fixout_min', br.FixNumericOutlier(columns_to_fix=['MERIT1','PERF1'],\n",
    "#                                                   criteria_coef=('percentile',2),method='lower',fill_with='nearest_value')),\n",
    "#                ('impute_mode',br.ImputeData(columns_to_impute=['MERIT1','PERF1']))]\n",
    "#               )\n",
    "from lifelines import CoxPHFitter\n",
    "from lifelines.utils import k_fold_cross_validation\n",
    "s_cf3 = CoxPHFitter(penalizer=1.0)\n",
    "xfold5_scores3 =  k_fold_cross_validation(s_cf3, ne2b[sep_surv_cols3[:18]], 'Tenure_years', event_col='status', k=5)#,show_progress=True)"
   ]
  },
  {
   "cell_type": "code",
   "execution_count": null,
   "metadata": {
    "collapsed": false
   },
   "outputs": [],
   "source": [
    "xfold5_scores3"
   ]
  },
  {
   "cell_type": "code",
   "execution_count": null,
   "metadata": {
    "collapsed": false
   },
   "outputs": [],
   "source": [
    "s_cf3.print_summary()"
   ]
  },
  {
   "cell_type": "code",
   "execution_count": null,
   "metadata": {
    "collapsed": false
   },
   "outputs": [],
   "source": [
    "tmp_cols = [col for col in sep_surv_cols3[:20]]\n",
    "tmp_cols.remove('JOB_FUNCTION_PTB')\n",
    "tmp_cols.remove('JOB_FUNCTION_MGT')\n",
    "tmp_cols"
   ]
  },
  {
   "cell_type": "code",
   "execution_count": null,
   "metadata": {
    "collapsed": false
   },
   "outputs": [],
   "source": [
    "ne2b.JOB_FUNCTION_PSA.sum(), ne2b.JOB_FUNCTION_PTB.sum()"
   ]
  },
  {
   "cell_type": "code",
   "execution_count": null,
   "metadata": {
    "collapsed": false
   },
   "outputs": [],
   "source": [
    "ne2b.INTERN.sum()"
   ]
  },
  {
   "cell_type": "code",
   "execution_count": null,
   "metadata": {
    "collapsed": false
   },
   "outputs": [],
   "source": [
    "br.perfect_collinearity_test(ne2b[tmp_cols])"
   ]
  },
  {
   "cell_type": "code",
   "execution_count": null,
   "metadata": {
    "collapsed": false
   },
   "outputs": [],
   "source": [
    "%%time\n",
    "#sep_surv_pipe = Pipeline([('fixout_min', br.FixNumericOutlier(columns_to_fix=['MERIT1','PERF1'],\n",
    "#                                                   criteria_coef=('percentile',2),method='lower',fill_with='nearest_value')),\n",
    "#                ('impute_mode',br.ImputeData(columns_to_impute=['MERIT1','PERF1']))]\n",
    "#               )\n",
    "from lifelines import CoxPHFitter\n",
    "from lifelines.utils import k_fold_cross_validation\n",
    "s_cf4 = CoxPHFitter(penalizer=1.0)\n",
    "xfold5_scores4 =  k_fold_cross_validation(s_cf4, ne2b[tmp_cols], 'Tenure_years', event_col='status', k=5)#,show_progress=True)\n",
    "s_cf4.print_summary()"
   ]
  },
  {
   "cell_type": "code",
   "execution_count": null,
   "metadata": {
    "collapsed": false
   },
   "outputs": [],
   "source": [
    "xfold5_scores4"
   ]
  },
  {
   "cell_type": "code",
   "execution_count": null,
   "metadata": {
    "collapsed": false
   },
   "outputs": [],
   "source": [
    "%pwd"
   ]
  },
  {
   "cell_type": "code",
   "execution_count": null,
   "metadata": {
    "collapsed": false
   },
   "outputs": [],
   "source": [
    "import pickle\n",
    "pickle.dump(s_cf4, open(\"separation_cf4.pkl\",\"wb\"))"
   ]
  },
  {
   "cell_type": "code",
   "execution_count": null,
   "metadata": {
    "collapsed": true
   },
   "outputs": [],
   "source": []
  },
  {
   "cell_type": "code",
   "execution_count": null,
   "metadata": {
    "collapsed": true
   },
   "outputs": [],
   "source": [
    "ne2e_psf = s_cf1.predict_survival_function(ne2e[sep_surv_cols1])\n",
    "ne2e_psf.index.name = 'years'\n",
    "ne2e_psf.reset_index(inplace=True)"
   ]
  },
  {
   "cell_type": "code",
   "execution_count": null,
   "metadata": {
    "collapsed": false
   },
   "outputs": [],
   "source": [
    "neval_expect= s_cf1.predict_expectation(ne2e[sep_surv_cols1])"
   ]
  },
  {
   "cell_type": "code",
   "execution_count": null,
   "metadata": {
    "collapsed": false
   },
   "outputs": [],
   "source": [
    "neval_expect.head()"
   ]
  },
  {
   "cell_type": "code",
   "execution_count": null,
   "metadata": {
    "collapsed": false
   },
   "outputs": [],
   "source": [
    "ne2e[['Tenure_years','status']].head()"
   ]
  },
  {
   "cell_type": "code",
   "execution_count": null,
   "metadata": {
    "collapsed": false
   },
   "outputs": [],
   "source": [
    "plt.scatter(ne2e[ne2e.status==1].Tenure_years,neval_expect[ne2e.status==1])"
   ]
  },
  {
   "cell_type": "code",
   "execution_count": null,
   "metadata": {
    "collapsed": false
   },
   "outputs": [],
   "source": [
    "print ne2e_psf.years.max()\n",
    "ne2e_psf.shape"
   ]
  },
  {
   "cell_type": "code",
   "execution_count": null,
   "metadata": {
    "collapsed": false
   },
   "outputs": [],
   "source": [
    "def get_survival_prediction(edf,psf, time_col='Age_years', yr_vals=[1,2,3,4,5],restrict_time=None):\n",
    "    from scipy import interpolate\n",
    "    import pandas as pd\n",
    "    import numpy as np\n",
    "\n",
    "    pred_col_names = ['proba_'+str(y) for y in yr_vals]\n",
    "    df = pd.DataFrame(index=edf.index, columns=pred_col_names, dtype=float)\n",
    "    print pred_col_names\n",
    "    employee_idx = edf.index.tolist()\n",
    "    emp_cols = edf.columns.tolist()\n",
    "    tcol_idx = emp_cols.index(time_col)+1\n",
    "    age_idx = emp_cols.index('Age_years')+1\n",
    "    #define the maximum survival_time_range\n",
    "    mx_surv_time = psf.years.max()\n",
    "    if restrict_time is None:\n",
    "            restrict_time = 0.0\n",
    "            \n",
    "    for employee in edf.itertuples():\n",
    "        my_index = employee[0]\n",
    "        my_age = employee[age_idx]\n",
    "        my_time = employee[tcol_idx]\n",
    "        #print my_index,my_age, my_time\n",
    "        prob_vals = np.ones(len(yr_vals))\n",
    "        if my_index % 5000 ==0 :\n",
    "            print my_index, my_age, my_time\n",
    "        \n",
    "        \n",
    "        if my_age >= restrict_time: # only deal with over 50 (restrict_time = 50.0)\n",
    "            for idx, year in enumerate(yr_vals):\n",
    "                ck_yr = my_time+year\n",
    "                if ck_yr>=mx_surv_time:\n",
    "                    proba = psf.iloc[-1].loc[my_index]\n",
    "                else:\n",
    "                    try:\n",
    "                        prior_idx = np.where(psf.years < ck_yr)[0][-1]\n",
    "                        posterior_idx = np.where(psf.years > ck_yr)[0][0]\n",
    "\n",
    "                        x = [psf.loc[prior_idx]['years'], psf.loc[posterior_idx]['years']]\n",
    "                        y = [psf.loc[prior_idx][my_index], psf.loc[posterior_idx][my_index]]\n",
    "                            \n",
    "                        # now interpolate these\n",
    "                        y_interp = interpolate.interp1d(x,y)\n",
    "                        proba = y_interp(ck_yr)\n",
    "                    \n",
    "                    except IndexError:\n",
    "                        #print \"\\t IE\", proba, idx,my_index\n",
    "                        proba = psf.loc[np.where(psf.years == ck_yr)[0]][my_index]\n",
    "\n",
    "                prob_vals[idx] = proba\n",
    "        \n",
    "        df.loc[my_index]=prob_vals\n",
    "    \n",
    "    df.fillna(1.0,inplace=True)  # fill in missing values with ones\n",
    "    df[df<0] = 0.0  # replace negative probabilities with zero\n",
    "\n",
    "    return 1-df  # convert to probability of retirement"
   ]
  },
  {
   "cell_type": "code",
   "execution_count": null,
   "metadata": {
    "collapsed": true
   },
   "outputs": [],
   "source": []
  },
  {
   "cell_type": "code",
   "execution_count": null,
   "metadata": {
    "collapsed": false
   },
   "outputs": [],
   "source": [
    "ne_surv_prob_scf1 = get_survival_prediction(ne2e[sep_surv_cols1],ne2e_psf,time_col='Tenure_years')"
   ]
  },
  {
   "cell_type": "code",
   "execution_count": null,
   "metadata": {
    "collapsed": false
   },
   "outputs": [],
   "source": [
    "ne_surv_prob_scf1.head()"
   ]
  },
  {
   "cell_type": "code",
   "execution_count": null,
   "metadata": {
    "collapsed": false
   },
   "outputs": [],
   "source": [
    "sns.distplot(ne_surv_prob_scf1[ne2e.status==1].proba_1,label='sep')\n",
    "sns.distplot(ne_surv_prob_scf1[ne2e.status==0].proba_1,label='notsep')\n",
    "plt.legend()"
   ]
  },
  {
   "cell_type": "code",
   "execution_count": null,
   "metadata": {
    "collapsed": false
   },
   "outputs": [],
   "source": [
    "sns.distplot(ne_surv_prob_scf1[ne2e.status==1].proba_2,label='sep')\n",
    "sns.distplot(ne_surv_prob_scf1[ne2e.status==0].proba_2,label='notsep')\n",
    "plt.legend()"
   ]
  },
  {
   "cell_type": "code",
   "execution_count": null,
   "metadata": {
    "collapsed": false
   },
   "outputs": [],
   "source": [
    "sns.distplot(ne_surv_prob_scf1[ne2e.status==1].proba_3,label='sep')\n",
    "sns.distplot(ne_surv_prob_scf1[ne2e.status==0].proba_3,label='notsep')\n",
    "plt.legend()"
   ]
  },
  {
   "cell_type": "code",
   "execution_count": null,
   "metadata": {
    "collapsed": false
   },
   "outputs": [],
   "source": [
    "sns.distplot(ne_surv_prob_scf1[ne2e.status==1].proba_4,label='sep')\n",
    "sns.distplot(ne_surv_prob_scf1[ne2e.status==0].proba_4,label='notsep')\n",
    "plt.legend()"
   ]
  },
  {
   "cell_type": "code",
   "execution_count": null,
   "metadata": {
    "collapsed": false
   },
   "outputs": [],
   "source": [
    "ne2e.status.value_counts()"
   ]
  },
  {
   "cell_type": "code",
   "execution_count": null,
   "metadata": {
    "collapsed": false
   },
   "outputs": [],
   "source": [
    "sns.distplot(ne_surv_prob_scf1[ne2e.status==1].proba_5,label='sep')\n",
    "sns.distplot(ne_surv_prob_scf1[ne2e.status==0].proba_5,label='notsep')\n",
    "plt.legend()"
   ]
  },
  {
   "cell_type": "code",
   "execution_count": null,
   "metadata": {
    "collapsed": true
   },
   "outputs": [],
   "source": []
  },
  {
   "cell_type": "code",
   "execution_count": null,
   "metadata": {
    "collapsed": false
   },
   "outputs": [],
   "source": [
    "sep_surv_cols1"
   ]
  },
  {
   "cell_type": "code",
   "execution_count": null,
   "metadata": {
    "collapsed": false
   },
   "outputs": [],
   "source": [
    "current = empl1[empl1.status==0].copy()\n",
    "curr = pipe.fit(ne2build[model_cols],ne2build.status).transform(current[model_cols])"
   ]
  },
  {
   "cell_type": "code",
   "execution_count": null,
   "metadata": {
    "collapsed": true
   },
   "outputs": [],
   "source": [
    "curr_psf = s_cf1.predict_survival_function(curr[sep_surv_cols1])\n",
    "\n",
    "curr_psf.index.name = 'years'\n",
    "curr_psf.reset_index(inplace=True)"
   ]
  },
  {
   "cell_type": "code",
   "execution_count": null,
   "metadata": {
    "collapsed": false
   },
   "outputs": [],
   "source": [
    "curr_surv_prob_scf1 = get_survival_prediction(curr[sep_surv_cols1],curr_psf,time_col='Tenure_years')"
   ]
  },
  {
   "cell_type": "code",
   "execution_count": null,
   "metadata": {
    "collapsed": false
   },
   "outputs": [],
   "source": [
    "curr_surv_prob_scf1.sum(axis=0)"
   ]
  },
  {
   "cell_type": "code",
   "execution_count": null,
   "metadata": {
    "collapsed": true
   },
   "outputs": [],
   "source": [
    "(curr_surv_prob_scf1)"
   ]
  },
  {
   "cell_type": "code",
   "execution_count": null,
   "metadata": {
    "collapsed": true
   },
   "outputs": [],
   "source": [
    "curr_psf"
   ]
  },
  {
   "cell_type": "code",
   "execution_count": null,
   "metadata": {
    "collapsed": false
   },
   "outputs": [],
   "source": [
    "%pwd"
   ]
  },
  {
   "cell_type": "code",
   "execution_count": null,
   "metadata": {
    "collapsed": true
   },
   "outputs": [],
   "source": [
    "os.chdir('../proc')"
   ]
  },
  {
   "cell_type": "code",
   "execution_count": null,
   "metadata": {
    "collapsed": false
   },
   "outputs": [],
   "source": [
    "import pickle\n",
    "pickle.dump(s_cf1, open(\"separation_sf1.pkl\",\"wb\"))"
   ]
  },
  {
   "cell_type": "code",
   "execution_count": null,
   "metadata": {
    "collapsed": false
   },
   "outputs": [],
   "source": [
    "[c for c in ne2b.columns if c.startswith('FULL')]"
   ]
  },
  {
   "cell_type": "code",
   "execution_count": null,
   "metadata": {
    "collapsed": false
   },
   "outputs": [],
   "source": [
    "nr_em.FULL_PART_TIME.value_counts()"
   ]
  },
  {
   "cell_type": "code",
   "execution_count": null,
   "metadata": {
    "collapsed": false
   },
   "outputs": [],
   "source": [
    "sep_surv_cols2 = [c for c in sep_surv_cols1]\n",
    "sep_surv_cols2.append('DIRECT_RPT_CNT')\n",
    "#sep_surv_cols2.append('FULL_PART_TIME_X')\n",
    "#sep_surv_cols2.append('DEPTCNT1')\n",
    "#sep_surv_cols2.append('JOB_FUNCTION_PTB')\n",
    "sep_surv_cols2.append('GRADECNT1')\n",
    "print len(sep_surv_cols2)\n",
    "ne2b[sep_surv_cols2].isnull().any()"
   ]
  },
  {
   "cell_type": "code",
   "execution_count": null,
   "metadata": {
    "collapsed": false
   },
   "outputs": [],
   "source": [
    "%%time\n",
    "#sep_surv_pipe = Pipeline([('fixout_min', br.FixNumericOutlier(columns_to_fix=['MERIT1','PERF1'],\n",
    "#                                                   criteria_coef=('percentile',2),method='lower',fill_with='nearest_value')),\n",
    "#                ('impute_mode',br.ImputeData(columns_to_impute=['MERIT1','PERF1']))]\n",
    "#               )\n",
    "\n",
    "s_cf2 = CoxPHFitter(penalizer=1.0)\n",
    "xfold5_scores2 =  k_fold_cross_validation(s_cf2, ne2b[sep_surv_cols2[:5]], 'Tenure_years', event_col='status', k=5)"
   ]
  },
  {
   "cell_type": "code",
   "execution_count": null,
   "metadata": {
    "collapsed": false
   },
   "outputs": [],
   "source": [
    "s_cf2.print_summary()"
   ]
  },
  {
   "cell_type": "code",
   "execution_count": null,
   "metadata": {
    "collapsed": false
   },
   "outputs": [],
   "source": [
    "xfold5_scores2, xfold5_scores"
   ]
  },
  {
   "cell_type": "code",
   "execution_count": null,
   "metadata": {
    "collapsed": false
   },
   "outputs": [],
   "source": [
    "sep_surv_cols2"
   ]
  },
  {
   "cell_type": "code",
   "execution_count": null,
   "metadata": {
    "collapsed": false
   },
   "outputs": [],
   "source": [
    "%%time\n",
    "#sep_surv_pipe = Pipeline([('fixout_min', br.FixNumericOutlier(columns_to_fix=['MERIT1','PERF1'],\n",
    "#                                                   criteria_coef=('percentile',2),method='lower',fill_with='nearest_value')),\n",
    "#                ('impute_mode',br.ImputeData(columns_to_impute=['MERIT1','PERF1']))]\n",
    "#               )\n",
    "\n",
    "s_cf3 = CoxPHFitter(penalizer=1.0)\n",
    "xfold5_scores3 =  k_fold_cross_validation(s_cf3, ne2b[sep_surv_cols2[:-2]], 'Tenure_years', event_col='status', k=5)"
   ]
  },
  {
   "cell_type": "code",
   "execution_count": null,
   "metadata": {
    "collapsed": false
   },
   "outputs": [],
   "source": [
    "xfold5_scores3, xfold5_scores"
   ]
  },
  {
   "cell_type": "code",
   "execution_count": null,
   "metadata": {
    "collapsed": false
   },
   "outputs": [],
   "source": [
    "s_cf3.print_summary()"
   ]
  },
  {
   "cell_type": "code",
   "execution_count": null,
   "metadata": {
    "collapsed": false
   },
   "outputs": [],
   "source": [
    "ne2b[sep_surv_cols2[-2]].value_counts()"
   ]
  },
  {
   "cell_type": "code",
   "execution_count": null,
   "metadata": {
    "collapsed": false
   },
   "outputs": [],
   "source": [
    "%%time\n",
    "\n",
    "s_cf4 = CoxPHFitter(penalizer=1.0)\n",
    "xfold5_scores4 =  k_fold_cross_validation(s_cf4, ne2b[sep_surv_cols2], 'Tenure_years', event_col='status', k=5)"
   ]
  },
  {
   "cell_type": "code",
   "execution_count": null,
   "metadata": {
    "collapsed": false
   },
   "outputs": [],
   "source": [
    "s_cf4.print_summary()"
   ]
  },
  {
   "cell_type": "code",
   "execution_count": null,
   "metadata": {
    "collapsed": false,
    "scrolled": true
   },
   "outputs": [],
   "source": [
    "xfold5_scores4, np.mean(xfold5_scores4)"
   ]
  },
  {
   "cell_type": "code",
   "execution_count": null,
   "metadata": {
    "collapsed": false
   },
   "outputs": [],
   "source": [
    "len(model_cols), len(sep_surv_cols2)"
   ]
  },
  {
   "cell_type": "code",
   "execution_count": null,
   "metadata": {
    "collapsed": false
   },
   "outputs": [],
   "source": [
    "[col for col in model_cols if col.startswith('JOB_FUNCTION')]"
   ]
  },
  {
   "cell_type": "code",
   "execution_count": null,
   "metadata": {
    "collapsed": false
   },
   "outputs": [],
   "source": [
    "%%time\n",
    "\n",
    "s_cf5 = CoxPHFitter(penalizer=1.0)\n",
    "xfold5_scores5 =  k_fold_cross_validation(s_cf5, ne2b[sep_surv_cols3], 'Tenure_years', event_col='status', k=5)"
   ]
  },
  {
   "cell_type": "code",
   "execution_count": null,
   "metadata": {
    "collapsed": true
   },
   "outputs": [],
   "source": [
    "%ls"
   ]
  },
  {
   "cell_type": "code",
   "execution_count": null,
   "metadata": {
    "collapsed": true
   },
   "outputs": [],
   "source": []
  }
 ],
 "metadata": {
  "kernelspec": {
   "display_name": "Python 2",
   "language": "python",
   "name": "python2"
  },
  "language_info": {
   "codemirror_mode": {
    "name": "ipython",
    "version": 2
   },
   "file_extension": ".py",
   "mimetype": "text/x-python",
   "name": "python",
   "nbconvert_exporter": "python",
   "pygments_lexer": "ipython2",
   "version": "2.7.11"
  }
 },
 "nbformat": 4,
 "nbformat_minor": 0
}
