{
 "cells": [
  {
   "cell_type": "markdown",
   "metadata": {},
   "source": [
    "# Initial Exploratory Data Analysis for the HR Separation (hrsepara) project\n",
    "## Identify the correct working directory for source data\n",
    "* '/data/discovery/hrsepara/core/'\n",
    "## Identify the correct working directory for the analysis (both HDFS and LFS)\n",
    "* '/data/discovery/hrsepara/staging/eda' and  '/home/kesj/working/hrsepara/eda/'\n",
    "## begin to summarize data \n"
   ]
  },
  {
   "cell_type": "code",
   "execution_count": 1,
   "metadata": {
    "collapsed": true
   },
   "outputs": [],
   "source": [
    "coredir = '/data/discovery/hrsepara/core/'\n",
    "stgdir1 = '/data/discovery/hrsepara/staging/eda'\n",
    "stgdir1local = '/home/kesj/work/hrsepara/eda'\n"
   ]
  },
  {
   "cell_type": "code",
   "execution_count": 2,
   "metadata": {
    "collapsed": false
   },
   "outputs": [],
   "source": [
    "import os,subprocess\n",
    "import pandas as pd\n",
    "import numpy as np\n",
    "%matplotlib inline\n",
    "from datetime import datetime\n",
    "import matplotlib.pyplot as plt\n",
    "from sklearn import preprocessing\n",
    "from itertools import chain\n",
    "import random"
   ]
  },
  {
   "cell_type": "code",
   "execution_count": 3,
   "metadata": {
    "collapsed": false
   },
   "outputs": [],
   "source": [
    "plt.style.use('fivethirtyeight') # Good looking plots\n",
    "import seaborn as sns"
   ]
  },
  {
   "cell_type": "code",
   "execution_count": 5,
   "metadata": {
    "collapsed": true
   },
   "outputs": [],
   "source": [
    "label_encoder = preprocessing.LabelEncoder() #assigns unique integers to values base upon alphabetical order."
   ]
  },
  {
   "cell_type": "code",
   "execution_count": 4,
   "metadata": {
    "collapsed": false
   },
   "outputs": [
    {
     "data": {
      "text/plain": [
       "True"
      ]
     },
     "execution_count": 4,
     "metadata": {},
     "output_type": "execute_result"
    }
   ],
   "source": [
    "# check if the path exists\n",
    "os.path.exists(stgdir1local)"
   ]
  },
  {
   "cell_type": "code",
   "execution_count": 5,
   "metadata": {
    "collapsed": true
   },
   "outputs": [],
   "source": [
    "def hdfs_path_doesnt_exist(path):\n",
    "    return subprocess.call(['hdfs','dfs','-ls',path])\n",
    "    # returns 0 if doesnt_exist; 1 otherwise\n",
    "    "
   ]
  },
  {
   "cell_type": "code",
   "execution_count": 8,
   "metadata": {
    "collapsed": false
   },
   "outputs": [],
   "source": [
    "# make the remote directory\n",
    "if not hdfs_path_doesnt_exist(stgdir1):\n",
    "    !hdfs dfs -mkdir {stgdir1}"
   ]
  },
  {
   "cell_type": "code",
   "execution_count": 6,
   "metadata": {
    "collapsed": false
   },
   "outputs": [
    {
     "name": "stdout",
     "output_type": "stream",
     "text": [
      "/home/kesj/work/hrsepara/eda\n",
      "/home/kesj/work/hrsepara/eda\n"
     ]
    }
   ],
   "source": [
    "# check if the path exists\n",
    "if not os.path.exists(stgdir1local):\n",
    "    # make the local directory\n",
    "    !mkdir {stgdir1local}\n",
    "    #'/home/kesj/work/hrsepara/eda'\n",
    "\n",
    "\n",
    "%pwd\n",
    "%cd {stgdir1local}\n",
    "#define the currentworking directory:\n",
    "cwd = os.path.abspath(os.curdir)\n",
    "print cwd"
   ]
  },
  {
   "cell_type": "markdown",
   "metadata": {},
   "source": [
    "## Look at the files in {coredir}"
   ]
  },
  {
   "cell_type": "code",
   "execution_count": 7,
   "metadata": {
    "collapsed": false
   },
   "outputs": [
    {
     "name": "stdout",
     "output_type": "stream",
     "text": [
      "16\n"
     ]
    }
   ],
   "source": [
    "fnames = !hdfs dfs -ls {coredir}\n",
    "infilenames = [f.split()[-1] for f in fnames[1:]]\n",
    "print len(infilenames)"
   ]
  },
  {
   "cell_type": "markdown",
   "metadata": {},
   "source": [
    "## May 18, 2015 --> read in the data that has been munged once (by EDA v0.6)\n",
    "* read in dataframe..\n",
    "* read "
   ]
  },
  {
   "cell_type": "code",
   "execution_count": 14,
   "metadata": {
    "collapsed": false,
    "scrolled": true
   },
   "outputs": [
    {
     "name": "stdout",
     "output_type": "stream",
     "text": [
      "(199419, 184)\n"
     ]
    },
    {
     "data": {
      "text/html": [
       "<div style=\"max-height:1000px;max-width:1500px;overflow:auto;\">\n",
       "<table border=\"1\" class=\"dataframe\">\n",
       "  <thead>\n",
       "    <tr style=\"text-align: right;\">\n",
       "      <th></th>\n",
       "      <th>ACTRES1</th>\n",
       "      <th>ACTRES10</th>\n",
       "      <th>ACTRES2</th>\n",
       "      <th>ACTRES3</th>\n",
       "      <th>ACTRES4</th>\n",
       "      <th>ACTRES5</th>\n",
       "      <th>ACTRES6</th>\n",
       "      <th>ACTRES7</th>\n",
       "      <th>ACTRES8</th>\n",
       "      <th>ACTRES9</th>\n",
       "      <th>...</th>\n",
       "      <th>Tenure_tdelta</th>\n",
       "      <th>status</th>\n",
       "      <th>Tenure_years</th>\n",
       "      <th>HAVE_INS</th>\n",
       "      <th>HAVE_DEP</th>\n",
       "      <th>DEP_COUNT</th>\n",
       "      <th>sep_status</th>\n",
       "      <th>mar_status</th>\n",
       "      <th>zip5</th>\n",
       "      <th>retired</th>\n",
       "    </tr>\n",
       "  </thead>\n",
       "  <tbody>\n",
       "    <tr>\n",
       "      <th>0</th>\n",
       "      <td>MERIT;WINDOW 2 - EARLY RET INCENTIVE</td>\n",
       "      <td>MERIT</td>\n",
       "      <td>MERIT;MISCELLANEOUS DATA CHANGE;JOB RECLASSIFI...</td>\n",
       "      <td>MERIT;LOCATION/FLOOR CHANGE;JOB RECLASSIFICATION</td>\n",
       "      <td>REVIEW DATE CHANGE;MERIT;RATING SCALE CONVERSION</td>\n",
       "      <td>TRANSFER W/O JOB NUMBER CHANGE;COMPANY WIDE CO...</td>\n",
       "      <td>COST OF LIVING ADJUSTMENT;MERIT</td>\n",
       "      <td>MERIT</td>\n",
       "      <td>MERIT</td>\n",
       "      <td>MERIT</td>\n",
       "      <td>...</td>\n",
       "      <td>13490 days, 00:00:00</td>\n",
       "      <td>1</td>\n",
       "      <td>36.934366</td>\n",
       "      <td>0</td>\n",
       "      <td>0</td>\n",
       "      <td>0</td>\n",
       "      <td>2</td>\n",
       "      <td>0</td>\n",
       "      <td>35068</td>\n",
       "      <td>1</td>\n",
       "    </tr>\n",
       "    <tr>\n",
       "      <th>1</th>\n",
       "      <td>MISCELLANEOUS DATA CHANGE;MISCELLANEOUS DATA C...</td>\n",
       "      <td>MISSING</td>\n",
       "      <td>MISSING</td>\n",
       "      <td>MISSING</td>\n",
       "      <td>MISSING</td>\n",
       "      <td>MISSING</td>\n",
       "      <td>MISSING</td>\n",
       "      <td>MISSING</td>\n",
       "      <td>MISSING</td>\n",
       "      <td>MISSING</td>\n",
       "      <td>...</td>\n",
       "      <td>206 days, 00:00:00</td>\n",
       "      <td>0</td>\n",
       "      <td>0.564009</td>\n",
       "      <td>0</td>\n",
       "      <td>0</td>\n",
       "      <td>0</td>\n",
       "      <td>0</td>\n",
       "      <td>1</td>\n",
       "      <td>85281</td>\n",
       "      <td>0</td>\n",
       "    </tr>\n",
       "    <tr>\n",
       "      <th>2</th>\n",
       "      <td>DISSATISFACTION;COMPANY WIDE CONVERSION;REGION...</td>\n",
       "      <td>TRANSFER W/O JOB NUMBER CHANGE;MERIT;COLA INDI...</td>\n",
       "      <td>MERIT</td>\n",
       "      <td>MERIT</td>\n",
       "      <td>MERIT</td>\n",
       "      <td>MERIT</td>\n",
       "      <td>ORGANIZATIONAL CHANGES;MERIT</td>\n",
       "      <td>MERIT</td>\n",
       "      <td>MERIT</td>\n",
       "      <td>MERIT;PROMOTION</td>\n",
       "      <td>...</td>\n",
       "      <td>7168 days, 00:00:00</td>\n",
       "      <td>1</td>\n",
       "      <td>19.625317</td>\n",
       "      <td>0</td>\n",
       "      <td>0</td>\n",
       "      <td>0</td>\n",
       "      <td>1</td>\n",
       "      <td>1</td>\n",
       "      <td>43056</td>\n",
       "      <td>0</td>\n",
       "    </tr>\n",
       "    <tr>\n",
       "      <th>3</th>\n",
       "      <td>MERIT;WINDOW 4 - EARLY RET INCENTIVE</td>\n",
       "      <td>MERIT;RRTR W/JOB NUMBER CHANGE;COLA INDICATOR ...</td>\n",
       "      <td>MERIT;MISCELLANEOUS DATA CHANGE</td>\n",
       "      <td>MERIT;MISCELLANEOUS DATA CHANGE;MISCELLANEOUS ...</td>\n",
       "      <td>MERIT;MISCELLANEOUS DATA CHANGE;JOB RECLASSIFI...</td>\n",
       "      <td>MERIT;PROMOTION;RATING SCALE CONVERSION</td>\n",
       "      <td>COMPANY WIDE CONVERSION;REGIONAL CONVERSION;CO...</td>\n",
       "      <td>JOB CODE CHANGE;COST OF LIVING ADJUSTMENT;MERIT</td>\n",
       "      <td>MERIT</td>\n",
       "      <td>MERIT;PROMOTION</td>\n",
       "      <td>...</td>\n",
       "      <td>10763 days, 00:00:00</td>\n",
       "      <td>1</td>\n",
       "      <td>29.468093</td>\n",
       "      <td>1</td>\n",
       "      <td>0</td>\n",
       "      <td>0</td>\n",
       "      <td>2</td>\n",
       "      <td>1</td>\n",
       "      <td>32128</td>\n",
       "      <td>1</td>\n",
       "    </tr>\n",
       "    <tr>\n",
       "      <th>4</th>\n",
       "      <td>MISCELLANEOUS DATA CHANGE;SALARY ADJUSTMENT;TR...</td>\n",
       "      <td>MISSING</td>\n",
       "      <td>MISCELLANEOUS DATA CHANGE;MISCELLANEOUS DATA C...</td>\n",
       "      <td>MISCELLANEOUS DATA CHANGE;EMPLOYEE NEW HIRE</td>\n",
       "      <td>MISSING</td>\n",
       "      <td>MISSING</td>\n",
       "      <td>MISSING</td>\n",
       "      <td>MISSING</td>\n",
       "      <td>MISSING</td>\n",
       "      <td>MISSING</td>\n",
       "      <td>...</td>\n",
       "      <td>752 days, 00:00:00</td>\n",
       "      <td>0</td>\n",
       "      <td>2.058906</td>\n",
       "      <td>1</td>\n",
       "      <td>0</td>\n",
       "      <td>0</td>\n",
       "      <td>0</td>\n",
       "      <td>1</td>\n",
       "      <td>30082</td>\n",
       "      <td>0</td>\n",
       "    </tr>\n",
       "  </tbody>\n",
       "</table>\n",
       "<p>5 rows × 184 columns</p>\n",
       "</div>"
      ],
      "text/plain": [
       "                                             ACTRES1  \\\n",
       "0               MERIT;WINDOW 2 - EARLY RET INCENTIVE   \n",
       "1  MISCELLANEOUS DATA CHANGE;MISCELLANEOUS DATA C...   \n",
       "2  DISSATISFACTION;COMPANY WIDE CONVERSION;REGION...   \n",
       "3               MERIT;WINDOW 4 - EARLY RET INCENTIVE   \n",
       "4  MISCELLANEOUS DATA CHANGE;SALARY ADJUSTMENT;TR...   \n",
       "\n",
       "                                            ACTRES10  \\\n",
       "0                                              MERIT   \n",
       "1                                            MISSING   \n",
       "2  TRANSFER W/O JOB NUMBER CHANGE;MERIT;COLA INDI...   \n",
       "3  MERIT;RRTR W/JOB NUMBER CHANGE;COLA INDICATOR ...   \n",
       "4                                            MISSING   \n",
       "\n",
       "                                             ACTRES2  \\\n",
       "0  MERIT;MISCELLANEOUS DATA CHANGE;JOB RECLASSIFI...   \n",
       "1                                            MISSING   \n",
       "2                                              MERIT   \n",
       "3                    MERIT;MISCELLANEOUS DATA CHANGE   \n",
       "4  MISCELLANEOUS DATA CHANGE;MISCELLANEOUS DATA C...   \n",
       "\n",
       "                                             ACTRES3  \\\n",
       "0   MERIT;LOCATION/FLOOR CHANGE;JOB RECLASSIFICATION   \n",
       "1                                            MISSING   \n",
       "2                                              MERIT   \n",
       "3  MERIT;MISCELLANEOUS DATA CHANGE;MISCELLANEOUS ...   \n",
       "4        MISCELLANEOUS DATA CHANGE;EMPLOYEE NEW HIRE   \n",
       "\n",
       "                                             ACTRES4  \\\n",
       "0   REVIEW DATE CHANGE;MERIT;RATING SCALE CONVERSION   \n",
       "1                                            MISSING   \n",
       "2                                              MERIT   \n",
       "3  MERIT;MISCELLANEOUS DATA CHANGE;JOB RECLASSIFI...   \n",
       "4                                            MISSING   \n",
       "\n",
       "                                             ACTRES5  \\\n",
       "0  TRANSFER W/O JOB NUMBER CHANGE;COMPANY WIDE CO...   \n",
       "1                                            MISSING   \n",
       "2                                              MERIT   \n",
       "3            MERIT;PROMOTION;RATING SCALE CONVERSION   \n",
       "4                                            MISSING   \n",
       "\n",
       "                                             ACTRES6  \\\n",
       "0                    COST OF LIVING ADJUSTMENT;MERIT   \n",
       "1                                            MISSING   \n",
       "2                       ORGANIZATIONAL CHANGES;MERIT   \n",
       "3  COMPANY WIDE CONVERSION;REGIONAL CONVERSION;CO...   \n",
       "4                                            MISSING   \n",
       "\n",
       "                                           ACTRES7  ACTRES8          ACTRES9  \\\n",
       "0                                            MERIT    MERIT            MERIT   \n",
       "1                                          MISSING  MISSING          MISSING   \n",
       "2                                            MERIT    MERIT  MERIT;PROMOTION   \n",
       "3  JOB CODE CHANGE;COST OF LIVING ADJUSTMENT;MERIT    MERIT  MERIT;PROMOTION   \n",
       "4                                          MISSING  MISSING          MISSING   \n",
       "\n",
       "    ...            Tenure_tdelta  status  Tenure_years  HAVE_INS HAVE_DEP  \\\n",
       "0   ...     13490 days, 00:00:00       1     36.934366         0        0   \n",
       "1   ...       206 days, 00:00:00       0      0.564009         0        0   \n",
       "2   ...      7168 days, 00:00:00       1     19.625317         0        0   \n",
       "3   ...     10763 days, 00:00:00       1     29.468093         1        0   \n",
       "4   ...       752 days, 00:00:00       0      2.058906         1        0   \n",
       "\n",
       "   DEP_COUNT sep_status  mar_status   zip5  retired  \n",
       "0          0          2           0  35068        1  \n",
       "1          0          0           1  85281        0  \n",
       "2          0          1           1  43056        0  \n",
       "3          0          2           1  32128        1  \n",
       "4          0          0           1  30082        0  \n",
       "\n",
       "[5 rows x 184 columns]"
      ]
     },
     "execution_count": 14,
     "metadata": {},
     "output_type": "execute_result"
    }
   ],
   "source": [
    "new_read_dict = {'KEY':np.str,'LOCATION':np.str,'EEO1CODE':np.str,'SKEY':np.str,'JOBCODE':np.str,'EMPL_CLASS':np.str, \n",
    "                        'COMPANY':np.str,'EXT_FUNC_ID_SFI':np.str,'FUNC_ID_SFI':np.str,\n",
    "                          'DIVISION_CODE_SFI':np.str,'JOB_FAMILY':np.str,'JOB_FUNCTION':np.str,'ACTRES1':np.str,\n",
    "                          'ACTRES2':np.str,'ACTRES3':np.str,'ACTRES4':np.str,'ACTRES5':np.str,'ACTRES6':np.str,\n",
    "                          'ACTRES7':np.str,'ACTRES8':np.str,'ACTRES9':np.str,'ACTRES10':np.str,'zip5':np.str}\n",
    "empl = pd.read_csv('employee_dataframe8.tsv',sep='\\t',dtype={'KEY':np.str,'SKEY':np.str,'zip5':np.str})#,dtype=new_read_dict)\n",
    "print empl.shape\n",
    "empl.head()"
   ]
  },
  {
   "cell_type": "markdown",
   "metadata": {},
   "source": [
    "#### This input data set has 184 columns"
   ]
  },
  {
   "cell_type": "markdown",
   "metadata": {},
   "source": [
    "### helper functions"
   ]
  },
  {
   "cell_type": "code",
   "execution_count": 8,
   "metadata": {
    "collapsed": true
   },
   "outputs": [],
   "source": [
    "## function to load into pandas from hdfs (by copying to local filespace)\n",
    "def pandas_read_hdfs(infile,sep = ';',dtype_dict = None):\n",
    "    # copy the infile to the cwd\n",
    "    !hdfs dfs -get {infile} .\n",
    "    # identify the local file name\n",
    "    inname = infile[infile.rfind('/')+1:]\n",
    "    # read into a data frame\n",
    "    if dtype_dict != None:\n",
    "        df = pd.read_csv(inname,sep=sep,dtype =dtype_dict)\n",
    "    else:\n",
    "        df = pd.read_csv(inname,sep=sep)\n",
    "    # clean up local filespace\n",
    "    !rm {inname}\n",
    "    return df\n",
    "\n",
    "#\n",
    "def summarize_dataframe2(df,show_example=False,verbose=False):\n",
    "    nrow = len(df)\n",
    "    summary_df = pd.DataFrame(columns = ['Column','datatype','nmissing','arity','accepted values'])\n",
    "    len_df = len(summary_df)\n",
    "    for col in df.columns:\n",
    "        nmiss = nrow - df[col].value_counts().sum()\n",
    "        narity = len(df[col].unique())\n",
    "        if show_example:\n",
    "            print col, df[col].dtype,nmiss, \"\\t\", narity,\":\\t\", df[col].ix[8320]\n",
    "        elif verbose:\n",
    "            print col, df[col].dtype,nmiss, \"\\t\", narity\n",
    "        accept_val = None\n",
    "        if narity < 20:\n",
    "            accept_val = df[col].unique()\n",
    "        summary_df.loc[len_df] = [col,df[col].dtype,nmiss,narity,accept_val]\n",
    "        len_df+=1\n",
    "    # assing fraction of missing\n",
    "    summary_df['x_missing'] = summary_df['nmissing']/float(nrow)\n",
    "    \n",
    "    return summary_df"
   ]
  },
  {
   "cell_type": "markdown",
   "metadata": {},
   "source": [
    "## Load the absence (EAS) empl table"
   ]
  },
  {
   "cell_type": "code",
   "execution_count": null,
   "metadata": {
    "collapsed": false
   },
   "outputs": [],
   "source": [
    "[y for y in abs2['PSL\\r\\nUSED9'].values if '\\r\\n' in str(y)]"
   ]
  },
  {
   "cell_type": "code",
   "execution_count": null,
   "metadata": {
    "collapsed": false,
    "scrolled": true
   },
   "outputs": [],
   "source": [
    "## need to clean up column names\n",
    "#new_cols = [x.strip() for x in \n",
    "new_cols = [x.replace('\\r\\n','').strip() for x in abs2.columns]\n",
    "abs2.columns= new_cols\n",
    "abs2.head()"
   ]
  },
  {
   "cell_type": "markdown",
   "metadata": {},
   "source": [
    "### so again the field formating is wrong -- overflows\n",
    "* count how many KEYS are NaN"
   ]
  },
  {
   "cell_type": "code",
   "execution_count": null,
   "metadata": {
    "collapsed": true
   },
   "outputs": [],
   "source": [
    "def join_conseq_rows(df,row_idx):\n",
    "    idx0 = row_idx -1\n",
    "    cols_with_missing = df.columns[df.ix[idx0].isnull()]\n",
    "    cols_with_vals = df.columns[df.ix[row_idx].notnull()]\n",
    "    if len(cols_with_missing) != len(cols_with_vals):\n",
    "        print row_idx, len(cols_with_missing),len(cols_with_vals)\n",
    "    #print len(cols_with_missing),len(cols_with_vals)\n",
    "    "
   ]
  },
  {
   "cell_type": "markdown",
   "metadata": {
    "collapsed": true
   },
   "source": [
    "##MAY 29, 2015 -- using 'EAS' the new file by Ron Davis"
   ]
  },
  {
   "cell_type": "code",
   "execution_count": 9,
   "metadata": {
    "collapsed": false
   },
   "outputs": [
    {
     "data": {
      "text/plain": [
       "['/data/discovery/hrsepara/core/EAS',\n",
       " '/data/discovery/hrsepara/core/EMPL',\n",
       " '/data/discovery/hrsepara/core/HISTCURR',\n",
       " '/data/discovery/hrsepara/core/HISTRET',\n",
       " '/data/discovery/hrsepara/core/HISTRETold',\n",
       " '/data/discovery/hrsepara/core/SBR',\n",
       " '/data/discovery/hrsepara/core/SR_BENEFIT.txt',\n",
       " '/data/discovery/hrsepara/core/SR_CKE.txt',\n",
       " '/data/discovery/hrsepara/core/SR_COMP.txt',\n",
       " '/data/discovery/hrsepara/core/SR_CPR.txt',\n",
       " '/data/discovery/hrsepara/core/SR_EAS.txt',\n",
       " '/data/discovery/hrsepara/core/SR_EDU.txt',\n",
       " '/data/discovery/hrsepara/core/SR_INS.txt',\n",
       " '/data/discovery/hrsepara/core/SR_LANG.txt',\n",
       " '/data/discovery/hrsepara/core/SR_LIC.txt',\n",
       " '/data/discovery/hrsepara/core/SR_RELO.txt']"
      ]
     },
     "execution_count": 9,
     "metadata": {},
     "output_type": "execute_result"
    }
   ],
   "source": [
    "infilenames"
   ]
  },
  {
   "cell_type": "code",
   "execution_count": 16,
   "metadata": {
    "collapsed": false
   },
   "outputs": [
    {
     "data": {
      "text/plain": [
       "(113611, 81)"
      ]
     },
     "execution_count": 16,
     "metadata": {},
     "output_type": "execute_result"
    }
   ],
   "source": [
    "empl_abs = pandas_read_hdfs(infilenames[0],dtype_dict={'KEY':np.str})\n",
    "empl_abs.shape"
   ]
  },
  {
   "cell_type": "code",
   "execution_count": 17,
   "metadata": {
    "collapsed": true
   },
   "outputs": [],
   "source": [
    "sdf_abs = summarize_dataframe2(empl_abs)"
   ]
  },
  {
   "cell_type": "code",
   "execution_count": null,
   "metadata": {
    "collapsed": false
   },
   "outputs": [],
   "source": [
    "empl_abs.columns\n"
   ]
  },
  {
   "cell_type": "code",
   "execution_count": 18,
   "metadata": {
    "collapsed": false
   },
   "outputs": [
    {
     "data": {
      "text/plain": [
       "[]"
      ]
     },
     "execution_count": 18,
     "metadata": {},
     "output_type": "execute_result"
    }
   ],
   "source": [
    "[c for c in empl_abs.columns if '\\r\\n' in c]"
   ]
  },
  {
   "cell_type": "code",
   "execution_count": 19,
   "metadata": {
    "collapsed": false
   },
   "outputs": [
    {
     "data": {
      "text/html": [
       "<div style=\"max-height:1000px;max-width:1500px;overflow:auto;\">\n",
       "<table border=\"1\" class=\"dataframe\">\n",
       "  <thead>\n",
       "    <tr style=\"text-align: right;\">\n",
       "      <th></th>\n",
       "      <th>Column</th>\n",
       "      <th>datatype</th>\n",
       "      <th>nmissing</th>\n",
       "      <th>arity</th>\n",
       "      <th>accepted values</th>\n",
       "      <th>x_missing</th>\n",
       "    </tr>\n",
       "  </thead>\n",
       "  <tbody>\n",
       "    <tr>\n",
       "      <th>0</th>\n",
       "      <td>KEY</td>\n",
       "      <td>object</td>\n",
       "      <td>0</td>\n",
       "      <td>113611</td>\n",
       "      <td>None</td>\n",
       "      <td>0</td>\n",
       "    </tr>\n",
       "  </tbody>\n",
       "</table>\n",
       "</div>"
      ],
      "text/plain": [
       "  Column datatype  nmissing   arity accepted values  x_missing\n",
       "0    KEY   object         0  113611            None          0"
      ]
     },
     "execution_count": 19,
     "metadata": {},
     "output_type": "execute_result"
    }
   ],
   "source": [
    "sdf_abs[sdf_abs.datatype=='object']"
   ]
  },
  {
   "cell_type": "code",
   "execution_count": 20,
   "metadata": {
    "collapsed": false
   },
   "outputs": [
    {
     "data": {
      "text/plain": [
       "True"
      ]
     },
     "execution_count": 20,
     "metadata": {},
     "output_type": "execute_result"
    }
   ],
   "source": [
    "len(empl_abs.KEY.unique()) == len(empl_abs)"
   ]
  },
  {
   "cell_type": "code",
   "execution_count": 21,
   "metadata": {
    "collapsed": false
   },
   "outputs": [
    {
     "name": "stdout",
     "output_type": "stream",
     "text": [
      "8058149836985\n",
      "5178574009416\n",
      "3409033642807\n",
      "1293681096888\n",
      "2213933506149\n",
      "1251156442450\n",
      "6659541747840\n",
      "4259289709972\n",
      "8484540511148\n",
      "7419561505047\n",
      "4059639761252\n",
      "1170580275902\n",
      "5915414544714\n",
      "6820313635664\n",
      "1886047889425\n",
      "898105558426\n",
      "6036100911925\n",
      "5628701767711\n",
      "6898010152810\n",
      "8592168338873\n",
      "2554287203846\n",
      "4906893710097\n",
      "4630012905519\n",
      "4802734127642\n",
      "7895762104493\n",
      "4372289871970\n",
      "2035940066928\n",
      "1481827814822\n",
      "3957510927672\n",
      "2545869910412\n",
      "4791479559984\n",
      "583094544980\n",
      "4257916009174\n",
      "8933453824806\n",
      "6848932247073\n",
      "5807634445749\n",
      "2365098335950\n",
      "2787301318155\n",
      "8046302016846\n",
      "6805554501156\n",
      "8302254606179\n",
      "4618616776829\n",
      "6356845612804\n",
      "5813334139908\n",
      "6994191094765\n",
      "3353357316625\n",
      "9527402934398\n",
      "2426880412934\n",
      "8195982318463\n",
      "3766641488190\n",
      "7158665921147\n",
      "8961024232656\n",
      "4257619382934\n",
      "983867329072\n",
      "7950098723150\n",
      "6600471216534\n",
      "9762328122632\n",
      "4344806542781\n",
      "7632222495802\n",
      "1504398417428\n",
      "1195676625332\n",
      "6238172299340\n",
      "9158407342228\n",
      "6951938386518\n",
      "8919234391730\n",
      "1952187624738\n",
      "3398570233676\n",
      "2059222199982\n",
      "9895477914203\n",
      "4960965367482\n",
      "3871684430107\n",
      "5440131763667\n",
      "4698296079737\n",
      "2330425662142\n",
      "8388618942531\n",
      "114271417313\n",
      "8232163269181\n",
      "4904977979560\n",
      "5801563619544\n",
      "618266873350\n",
      "3581083381353\n",
      "5869315939895\n",
      "7523575335519\n",
      "2249204089050\n",
      "4439542537760\n",
      "244783703352\n",
      "4235752394533\n",
      "7496304347877\n",
      "2375004348520\n",
      "2821188421371\n",
      "154285691750\n",
      "6306320897446\n",
      "8557479832581\n",
      "7867649201242\n",
      "1303346828233\n",
      "5528992510181\n",
      "6035968664119\n",
      "1752842684161\n",
      "9524454832787\n",
      "1669521444323\n",
      "3745487427220\n",
      "7879525426719\n",
      "1563800033910\n",
      "262043438974\n",
      "9949073665752\n",
      "5399825053941\n",
      "6120365581531\n",
      "2396741883083\n",
      "5497924054739\n",
      "4952712452483\n",
      "2794653178563\n",
      "7627702321684\n",
      "6382558032117\n",
      "9730133232535\n",
      "5288451446820\n",
      "3993223423135\n",
      "6036431997100\n",
      "7662567779265\n",
      "1810378861525\n",
      "30871946379\n",
      "6045580844416\n",
      "9731736038687\n",
      "7496631242100\n",
      "1285758335742\n",
      "6161815955379\n",
      "2334508580311\n",
      "4188957626088\n",
      "2497890965314\n",
      "8996373977976\n",
      "482559204326\n",
      "2867293545449\n",
      "6469139366629\n",
      "4653483631394\n",
      "9370238058907\n",
      "4424000626627\n",
      "7109768691989\n",
      "9725366723596\n",
      "6254455543242\n",
      "7193357687068\n",
      "1216243021757\n",
      "217373482984\n",
      "8318944838047\n",
      "7049879062478\n",
      "3093464767138\n",
      "9156745862754\n",
      "3701985815401\n",
      "3071832937688\n",
      "4549379462632\n",
      "8445192598014\n",
      "2963777167240\n",
      "3385882360575\n",
      "2477311530373\n",
      "7970581300543\n",
      "8371553387666\n",
      "860800967021\n",
      "7652449425148\n",
      "6204814187346\n",
      "7858072876864\n",
      "4726546818729\n",
      "3145745956872\n",
      "433483161234\n",
      "5420046861013\n",
      "8335126102127\n",
      "6252869500896\n",
      "7041135340483\n",
      "9596111723034\n",
      "7566125601328\n",
      "8524721957988\n",
      "561085529887\n",
      "3915345298087\n",
      "3683816643285\n",
      "7933973804086\n",
      "3482803703976\n",
      "4632092083167\n",
      "1739359461581\n",
      "1976774540719\n",
      "8604994979037\n",
      "4505184015494\n",
      "1521333121472\n",
      "3597145436144\n",
      "2223499120317\n",
      "6515399555916\n",
      "6012256260036\n",
      "5109068474317\n",
      "4623678049363\n",
      "4396830687484\n",
      "4001126626507\n",
      "7677322257160\n",
      "283260829879\n",
      "4910652993671\n",
      "1446226146746\n",
      "1113978680742\n",
      "367421191357\n",
      "4514321221278\n",
      "8448615674138\n",
      "9670767937634\n",
      "9576217275847\n",
      "9749456778983\n",
      "2887055744830\n",
      "8044481746873\n",
      "6920147224758\n",
      "4109950272418\n",
      "38935802895\n",
      "2925372683874\n",
      "6510536189429\n",
      "3567678855531\n",
      "7164190992324\n",
      "946232118153\n",
      "5966966974534\n",
      "2764754929936\n",
      "1962185838242\n",
      "6608522965856\n",
      "8130815349580\n",
      "1852767077206\n",
      "8428866978934\n",
      "7757920309789\n",
      "6501829720336\n",
      "5503414666980\n",
      "5674500952323\n",
      "9669674099269\n",
      "7205146833884\n",
      "9984660898328\n",
      "7126497573744\n",
      "5227856340459\n",
      "1245175954534\n",
      "6831085312567\n",
      "8421089504110\n",
      "2446127590931\n",
      "6656660235793\n",
      "634056516287\n",
      "4179169425824\n",
      "8487773597468\n",
      "1372295432432\n",
      "6283617581373\n",
      "5104705228053\n",
      "9905106858306\n",
      "1469857060104\n",
      "7418151482669\n",
      "1078403089698\n",
      "5154766144769\n",
      "2392794472348\n",
      "5715285896191\n",
      "7313656158426\n",
      "5313400181622\n",
      "3189521843190\n",
      "596213154772\n",
      "8973819207854\n",
      "8856983393830\n",
      "9706307207097\n",
      "8520862557237\n",
      "4353333266616\n",
      "1595364884285\n",
      "4895484542891\n",
      "1464463305410\n",
      "3671908287179\n",
      "1804418862706\n",
      "616799574633\n",
      "7025367583626\n",
      "5384071266923\n",
      "3601707519778\n",
      "2478178126029\n",
      "11458061641\n",
      "2937311307964\n",
      "7502675059951\n",
      "348955858661\n",
      "4655383529447\n",
      "4215616269138\n",
      "3510928248759\n",
      "9514854294022\n",
      "9187117223249\n",
      "4917885179128\n",
      "4416363781512\n",
      "4096187187404\n",
      "9627154567105\n",
      "2570659854715\n",
      "9028390054139\n",
      "9460663427348\n",
      "4231095781657\n",
      "5940656180466\n",
      "1578005962809\n",
      "4192521331921\n",
      "4102380948189\n",
      "6248541179229\n",
      "4577629270301\n",
      "4413323478966\n",
      "2474958078226\n",
      "5658908749772\n",
      "3157235683481\n",
      "2588760108961\n",
      "883829314673\n",
      "827015843628\n",
      "9943405170899\n",
      "6559906064793\n",
      "642029103191\n",
      "6426407958579\n",
      "4171575887209\n",
      "172074884256\n",
      "5356460812202\n",
      "9904603012793\n",
      "1819994767113\n",
      "5087296015158\n",
      "6200055594649\n",
      "1349666622165\n",
      "7287382617261\n",
      "4990282005160\n",
      "9949590084120\n",
      "2935330850508\n",
      "4667951727597\n",
      "3500084394356\n",
      "736866146669\n",
      "8951011117991\n",
      "1868160442388\n",
      "3056163435362\n",
      "7786261852731\n",
      "9107942697177\n",
      "8750976998709\n",
      "4285443576186\n",
      "5788666198863\n",
      "1925542951527\n",
      "2990790644191\n",
      "2669593786201\n",
      "3792046571054\n",
      "8683335505744\n",
      "4408917391863\n",
      "5478578622210\n",
      "3312643153273\n",
      "3729342019059\n",
      "8686032615921\n",
      "4980837928588\n",
      "3523793538811\n",
      "7503223143287\n",
      "9633464743213\n",
      "2632385121022\n",
      "3005385865926\n",
      "1774048433534\n",
      "204308889901\n",
      "3898506054607\n",
      "7267075594173\n",
      "5208112767529\n",
      "3704353703048\n",
      "5215533545807\n",
      "8614318914998\n",
      "927549321636\n",
      "2272332553879\n",
      "4368158525027\n",
      "3100451083435\n",
      "4424558023189\n",
      "1932859887338\n",
      "6249122790177\n",
      "1790195704340\n",
      "5559684245642\n",
      "1539823599877\n",
      "8126157339721\n",
      "2460954711987\n",
      "4913563842379\n",
      "8907560263252\n",
      "813015737018\n",
      "8306191306704\n",
      "6949389356631\n",
      "7972709372627\n",
      "8268628738946\n",
      "217206776243\n",
      "2223096323303\n",
      "6294691472452\n",
      "9761629165039\n",
      "564312562609\n",
      "8927540392115\n",
      "3049705644627\n",
      "8236189842334\n",
      "7787676997384\n",
      "7114261857753\n",
      "1958432142603\n",
      "449273735494\n",
      "5077109674493\n",
      "5304139109936\n",
      "1981111244290\n",
      "3396848683896\n",
      "9926601317677\n",
      "1059511676924\n",
      "4003258423881\n",
      "9215911388963\n",
      "263354275498\n",
      "7425491701544\n",
      "8967535574440\n",
      "2870444209720\n",
      "3418888898296\n",
      "9239694107901\n",
      "533416867505\n",
      "737192109570\n",
      "6280565637294\n",
      "7134478542551\n",
      "3451624886809\n",
      "4175094889558\n",
      "6053467749643\n",
      "406403560381\n",
      "3475814593712\n",
      "8076559755987\n",
      "8104024924386\n",
      "6040018985998\n",
      "4783198705308\n",
      "13574957854\n",
      "5236670842970\n",
      "1288201660518\n",
      "4873839674924\n",
      "7144019011009\n",
      "3186778632545\n",
      "5904005843170\n",
      "4109065981633\n",
      "4850294443243\n",
      "4816479983188\n",
      "9897130546112\n",
      "3318086733724\n",
      "4587218633195\n",
      "9738340978389\n",
      "4103783985648\n",
      "8060566619067\n",
      "6626818332182\n",
      "9096730970357\n",
      "4609514961303\n",
      "9326579519234\n",
      "5715576003173\n",
      "2097469755494\n",
      "9817017246884\n",
      "3044292797821\n",
      "9464130741295\n",
      "473698601347\n",
      "4406122492815\n",
      "6490831266386\n",
      "9751577400487\n",
      "3264099826694\n",
      "2603554633727\n",
      "2185762395237\n",
      "941530336133\n",
      "518499408159\n",
      "8452875077935\n",
      "1425276976742\n",
      "2997023054863\n",
      "3316003365124\n",
      "5094144961375\n",
      "9861517236504\n",
      "7750825494412\n",
      "7997083947061\n",
      "2925408074132\n",
      "1198282931558\n",
      "6507392510077\n",
      "2264369280201\n",
      "9175797463011\n",
      "906360336070\n",
      "2487627790537\n",
      "4727741705593\n",
      "7411238275194\n",
      "5396046212593\n",
      "4581377843666\n",
      "7939493752988\n",
      "731182284994\n",
      "6279157477561\n",
      "670863315775\n",
      "813477207354\n",
      "1316209789978\n",
      "5453593100167\n",
      "4754665775576\n",
      "9900594600430\n",
      "5284775050955\n",
      "3208254931126\n",
      "461678486532\n",
      "4807643128935\n",
      "3042899539249\n",
      "8463023234374\n",
      "1882677898688\n",
      "3257437144992\n",
      "9472470734954\n",
      "6118737164009\n",
      "7836639884783\n",
      "7432882677500\n",
      "833614264072\n",
      "4514602946357\n",
      "9627386466426\n",
      "1169282477894\n",
      "5033191295822\n",
      "4630490674000\n",
      "5743221382491\n",
      "7968657188103\n",
      "226831063734\n",
      "4010963255545\n",
      "1772802789590\n",
      "8682299875041\n",
      "7245554592109\n",
      "3172392958390\n",
      "1246429980382\n",
      "908585731363\n",
      "7653058044451\n",
      "7455626506105\n",
      "692584086532\n",
      "4839734176565\n",
      "1588704996551\n",
      "6860368422633\n",
      "5280601328835\n",
      "971797388500\n",
      "1300287433574\n",
      "5231927151434\n",
      "5078451244663\n",
      "9056105282649\n",
      "4126942252799\n",
      "860408414556\n",
      "9497402240288\n",
      "9679800369628\n",
      "3872228788152\n",
      "2826219891583\n",
      "3199373839050\n",
      "1371015795214\n",
      "2087870613713\n",
      "5840993954726\n",
      "8864730600670\n",
      "409747474086\n",
      "1912086271640\n",
      "4469878507997\n",
      "3985341640182\n",
      "1808028669007\n",
      "2836688888649\n",
      "6340221970501\n",
      "7967723537221\n",
      "6169711242509\n",
      "5067483058696\n",
      "8501556240256\n",
      "7921124346518\n",
      "6857522300844\n",
      "3325720319210\n",
      "5152484870121\n",
      "7922329477930\n",
      "4538549578068\n",
      "8698099296865\n",
      "6567947103906\n",
      "3186753486836\n",
      "883314293289\n",
      "9015615568038\n",
      "3696347122871\n",
      "7250864062109\n",
      "1984775532961\n",
      "6844061895667\n",
      "6734965837903\n",
      "3765148112441\n",
      "7471723485492\n",
      "3955594265813\n",
      "3328169231922\n",
      "9254075591105\n",
      "9714208082163\n",
      "4535455724474\n",
      "9028994948151\n",
      "4121119158399\n",
      "5393149333723\n",
      "6526230837464\n",
      "4506834319097\n",
      "6740156564275\n",
      "6551065019588\n",
      "920371152889\n",
      "5517669490314\n",
      "6170548035843\n",
      "7481372918692\n",
      "6279287397060\n",
      "3958963325228\n",
      "6984945855562\n",
      "8337072100647\n",
      "622383784793\n",
      "7331508680867\n",
      "2994282638186\n",
      "1391103957496\n",
      "6563736594545\n",
      "1381625887650\n",
      "7832985840660\n",
      "8736986670986\n",
      "2642864362636\n",
      "4359297456387\n",
      "9429502305309\n",
      "2703782172270\n",
      "153862405640\n",
      "8319094780981\n",
      "6908429789780\n",
      "9440825325177\n",
      "4476350734232\n",
      "9916839194445\n",
      "5460427610884\n",
      "7203014105187\n",
      "8482536770628\n",
      "1631761901840\n",
      "9352223951999\n",
      "4604653923123\n",
      "6206113848000\n",
      "5385182800416\n",
      "3784573173050\n",
      "9533014618574\n",
      "5355237985661\n",
      "6039776376467\n",
      "1111860387545\n",
      "2684110776840\n",
      "1078227535392\n",
      "8185088638302\n",
      "8886795029457\n",
      "2550711856480\n",
      "4838074559736\n",
      "4987233320711\n",
      "1921808813662\n",
      "8586532440310\n",
      "4724835047836\n",
      "5272868091833\n",
      "581688713553\n",
      "2025507391442\n",
      "4048472272255\n",
      "7709234025194\n",
      "2738088371\n",
      "1816490200263\n",
      "7332055367218\n",
      "1241954044086\n",
      "2002161928454\n",
      "9647281379275\n",
      "9642342575659\n",
      "8294216826695\n",
      "7639156192373\n",
      "5882433618364\n",
      "8228234484898\n",
      "3623577767808\n",
      "6133381280179\n",
      "5232152065836\n",
      "9252228778439\n",
      "9814314083110\n",
      "8304628081762\n",
      "5505198149711\n",
      "1517138910255\n",
      "3647867126226\n",
      "413101632340\n",
      "6438388026524\n",
      "5770836493825\n",
      "3004452680705\n",
      "9221767079654\n",
      "2140014433367\n",
      "604168977870\n",
      "5568563475073\n",
      "3701687792177\n",
      "1421110705203\n",
      "6709932352747\n",
      "5843322726825\n",
      "6022876131359\n",
      "6240997932032\n",
      "223825685784\n",
      "2655917779848\n",
      "7507426202068\n",
      "8108478508940\n",
      "574748497724\n",
      "7472182627522\n",
      "5871271251641\n",
      "1509109512674\n",
      "5107848907405\n",
      "6364197938873\n",
      "2107389737902\n",
      "241858884805\n",
      "9657177147296\n",
      "1552669797816\n",
      "1239869744163\n",
      "5122517237962\n",
      "3047100269723\n",
      "7917764600328\n",
      "7578615102721\n",
      "20087696621\n",
      "6705287847065\n",
      "581046566638\n",
      "5378971810163\n",
      "5122261589916\n",
      "8918162439446\n",
      "2796642483583\n",
      "9259681221684\n",
      "2359470819290\n",
      "2084364649879\n",
      "2550260165031\n",
      "5488920959406\n",
      "306389294707\n",
      "1046437770616\n",
      "3533312586850\n",
      "2460382879926\n",
      "3038508818968\n",
      "9877238427232\n",
      "9999097329564\n",
      "8908332795328\n",
      "417304225460\n",
      "2108474728702\n",
      "1412793994608\n",
      "6599510557297\n",
      "4516855815666\n",
      "5818998443810\n",
      "1503809821561\n",
      "2118008677903\n",
      "552882440646\n",
      "6877579263820\n",
      "5352898037691\n",
      "4040153699014\n",
      "4005880096930\n",
      "1726777293592\n",
      "4713390024711\n",
      "8494520563863\n",
      "4635812716855\n",
      "5721773954910\n",
      "3359775991812\n",
      "4501034973423\n",
      "5170867315107\n",
      "9627460506571\n",
      "5664311352030\n",
      "7988968867803\n",
      "7652361415165\n",
      "9882552088184\n",
      "268646050370\n",
      "2334761434391\n",
      "2575859428652\n",
      "7942650005195\n",
      "9779695426011\n",
      "540494919075\n",
      "937125180353\n",
      "4190823530867\n",
      "6350195969618\n",
      "482249539570\n",
      "5641834813003\n",
      "1017674804208\n",
      "915812794546\n",
      "5785325079125\n",
      "9910911326255\n",
      "4151633011248\n",
      "2477485222033\n",
      "7839228961542\n",
      "8645706814083\n",
      "1927528531257\n",
      "379423611043\n",
      "8805994879830\n",
      "3891307862425\n",
      "9202986028606\n",
      "3509546166057\n",
      "8460063025570\n",
      "6052673797148\n",
      "8823783606674\n",
      "6255134943060\n",
      "5512579346780\n",
      "2475039568951\n",
      "3007807770282\n",
      "8405235134254\n",
      "4747501576667\n",
      "7344880144738\n",
      "6914921108128\n",
      "1648887527012\n",
      "2345021349539\n",
      "2386386507371\n",
      "8293255701798\n",
      "307445880169\n",
      "9263191376470\n",
      "4717796577475\n",
      "6999952721875\n",
      "7276713851502\n",
      "8263519503299\n",
      "6909910127013\n",
      "3549885937734\n",
      "9037624583131\n",
      "2201287076902\n",
      "3143421841386\n",
      "9635634724812\n",
      "6387831646198\n",
      "589905772633\n",
      "8437534798140\n",
      "5209036639523\n",
      "7649201437668\n",
      "1403938979564\n",
      "4047743046678\n",
      "9544436824296\n",
      "1791720745057\n",
      "1368184574585\n",
      "462586060382\n",
      "8507314142076\n",
      "6176676604048\n",
      "2242761199476\n",
      "1046226360391\n",
      "107822474142\n",
      "4694602454405\n",
      "64617488563\n",
      "3270131537351\n",
      "328659080122\n",
      "6454361605670\n",
      "8633600551930\n",
      "5840748085566\n",
      "6520552563723\n",
      "3333367408874\n",
      "7663649976097\n",
      "1582084690026\n",
      "7801088042465\n",
      "9676477410680\n",
      "9991791569624\n",
      "259171240152\n",
      "8848297879495\n",
      "3981960473574\n",
      "2249671612982\n",
      "4377475476068\n",
      "9822113909676\n",
      "195969361903\n",
      "1767383423526\n",
      "9855118584752\n",
      "6795380267685\n",
      "8639334705025\n",
      "5887008274853\n",
      "3795435653904\n",
      "9673622906987\n",
      "7423366423428\n",
      "1867381391054\n",
      "6218217316185\n",
      "2627205570520\n",
      "8386311590851\n",
      "998524018097\n",
      "4337343854987\n",
      "3669968807916\n",
      "3542440013747\n",
      "284095294906\n",
      "4467952067250\n",
      "2117922064903\n",
      "3468363081789\n",
      "1264443621628\n",
      "8695408705946\n",
      "100018456625\n",
      "1760941465274\n",
      "9055263832703\n",
      "9709342387370\n",
      "2437449527177\n",
      "4284784199803\n",
      "1332551241542\n",
      "7738964170096\n",
      "8915877905169\n",
      "3046063242036\n",
      "5846871997158\n",
      "7643854249103\n",
      "8311879824992\n",
      "6190804767511\n",
      "472199637663\n",
      "7736272182193\n",
      "6951643622923\n",
      "2648697235924\n",
      "8984747346949\n",
      "1248058397904\n",
      "6974760446220\n",
      "7030580196078\n",
      "1415472478334\n",
      "8507328577576\n",
      "1230692025847\n",
      "185485463676\n",
      "2519651317280\n",
      "7236809473129\n",
      "1363318414131\n",
      "3647888546646\n",
      "7506325844445\n",
      "551659614105\n",
      "3077337519767\n",
      "2873933875409\n",
      "2233903390464\n",
      "1679409761764\n",
      "8554127536972\n",
      "6795049182510\n",
      "9131265342762\n",
      "6427623334540\n",
      "5877339283879\n",
      "6367512515917\n",
      "34944620000\n",
      "4801574165375\n",
      "9374435064092\n",
      "2471107059378\n",
      "8677969690728\n",
      "845629256612\n",
      "6339075046749\n",
      "6002286917531\n",
      "4790879322584\n",
      "7158817261066\n",
      "13628508902\n",
      "1229756046659\n",
      "8401205767133\n",
      "279158819597\n",
      "3188090400392\n",
      "4585228862513\n",
      "854805577944\n",
      "9416324090872\n",
      "11947937315\n",
      "7461891047406\n",
      "9647547737531\n",
      "2448073123790\n",
      "436647795344\n",
      "8196223996671\n",
      "2622422297775\n",
      "4813731650269\n",
      "5112421235588\n",
      "8319151125997\n",
      "9569172286228\n",
      "8949336600001\n",
      "4561148586013\n",
      "3177816515406\n",
      "7881399247740\n",
      "2993786243253\n",
      "5473134576098\n",
      "5351813512552\n",
      "8917871866803\n",
      "2762998921221\n",
      "2996624914462\n",
      "8602341175360\n",
      "4190536217853\n",
      "5921118429825\n",
      "3765283619876\n",
      "1527611166950\n",
      "2941796091824\n",
      "8830782961487\n",
      "3910923378501\n",
      "8481043860540\n",
      "7163133475540\n",
      "3553204240069\n",
      "1967978664659\n",
      "1656069421049\n",
      "2537398134608\n",
      "7338425613632\n",
      "1372779254509\n",
      "3698672169679\n",
      "7034362297055\n",
      "181400682862\n",
      "9206258230473\n",
      "7515611130519\n",
      "1812824514607\n",
      "3817118240435\n",
      "3589086701902\n",
      "6947601217286\n",
      "148161780158\n",
      "8687756028347\n",
      "1692549326314\n",
      "3997298890724\n",
      "2445929219223\n",
      "1377074048564\n",
      "3945739475985\n",
      "5159724971820\n",
      "4644363655077\n",
      "1205787063206\n",
      "8436440959776\n",
      "4829892890914\n",
      "6843118000237\n",
      "1030685846242\n",
      "7788124963543\n",
      "5218586886869\n",
      "5435632078646\n",
      "9851983287303\n",
      "2413058188936\n",
      "7206059995669\n",
      "5560345019009\n",
      "8070526648346\n",
      "9011919148738\n",
      "122866593359\n",
      "8545589171604\n",
      "8088538426947\n",
      "7641518957746\n",
      "241728033983\n",
      "5217113534555\n",
      "2235252876876\n",
      "8150017358433\n",
      "9519237563721\n",
      "3744260409728\n",
      "9711360563390\n",
      "3274323885922\n",
      "3848777154390\n",
      "6776648576733\n",
      "2668123227855\n",
      "1501028426691\n",
      "3018470948105\n",
      "4871171901408\n",
      "7462925281126\n",
      "540087465448\n",
      "6239022131189\n",
      "8043657526394\n",
      "1462021377618\n",
      "5280783868060\n",
      "858288724375\n",
      "4257228693113\n",
      "5808599295937\n",
      "2661483829218\n",
      "4324014766293\n",
      "8916254625151\n",
      "2048382536531\n",
      "9965414651653\n",
      "1434941311104\n",
      "1526251901652\n",
      "1205151435549\n",
      "3126919271018\n",
      "1920011826754\n",
      "4573214335634\n",
      "9627227675927\n",
      "6657624154658\n",
      "8260351609560\n",
      "7730843502903\n",
      "74989628082\n",
      "8138608656888\n",
      "4203507678678\n",
      "7468695290139\n",
      "2046910115540\n",
      "566265546049\n",
      "9264294993721\n",
      "5431919826861\n",
      "1362597570458\n",
      "3876469565498\n",
      "4967673218328\n",
      "6384899842732\n",
      "7626007780259\n",
      "4252023065580\n",
      "8941978685996\n",
      "1456628088586\n",
      "5008589944341\n",
      "9970716205412\n",
      "68733934345\n",
      "7470992397271\n",
      "7462757643062\n",
      "4038732500765\n",
      "5571345335604\n",
      "5761040842981\n",
      "8533117831002\n",
      "3764629831428\n",
      "5917528181298\n",
      "1086574979632\n",
      "2678974998500\n",
      "3519674764722\n",
      "9614896033711\n",
      "87286811363\n",
      "3200633918494\n",
      "1462678891356\n",
      "9846827951189\n",
      "5068941509849\n",
      "5402201789153\n",
      "823205337312\n",
      "6400123707205\n",
      "8001578509808\n",
      "4618796987747\n",
      "5260186737990\n",
      "8006080057475\n",
      "7836449429317\n",
      "3742090428128\n",
      "3874098418222\n",
      "4919630943294\n",
      "5550585224084\n",
      "5376525691420\n",
      "7756798531747\n",
      "2376648598526\n",
      "2940783278523\n",
      "5059828984113\n",
      "9680207357593\n",
      "1687546261441\n",
      "3642663361338\n",
      "774077140155\n",
      "7606334987844\n",
      "7853954568437\n",
      "7681253835410\n",
      "9288295642141\n",
      "4290609156848\n",
      "2836621367762\n",
      "2711103764694\n",
      "7195922083778\n",
      "9248275779769\n",
      "2165270504619\n",
      "8688179780118\n",
      "6258472803169\n",
      "2538841684600\n",
      "7745640355975\n",
      "8378747388897\n",
      "7188565101097\n",
      "775227323535\n",
      "1560551580768\n",
      "1190891024280\n",
      "6737926512369\n",
      "5049374888208\n",
      "7521062627212\n",
      "7760716140159\n",
      "1115753781570\n",
      "9922513742895\n",
      "1783392858591\n",
      "3928754014861\n",
      "3948399798921\n",
      "5267653616736\n",
      "2501074691536\n",
      "6206311754047\n",
      "4228300882610\n",
      "951121561672\n",
      "908627175218\n",
      "479662791118\n",
      "6561200603173\n",
      "7556222848388\n",
      "9180693891449\n",
      "1079955138769\n",
      "494222156934\n",
      "6721728950144\n",
      "1711333636991\n",
      "4226898776473\n",
      "8871680129725\n",
      "2856986598511\n",
      "7377479228833\n",
      "1572012436377\n",
      "4465212116235\n",
      "1954768319593\n",
      "6418867039689\n",
      "345699023616\n",
      "1382470597225\n",
      "9845251222069\n",
      "3977196292941\n",
      "4634112587494\n",
      "4746006338273\n",
      "8877553981206\n",
      "6115441213416\n",
      "4092684017537\n",
      "7690954957013\n",
      "6417673549809\n",
      "6541528742081\n",
      "8219037674469\n",
      "3856246361442\n",
      "8555125914773\n",
      "7750819906476\n",
      "9804137986993\n",
      "3381269519861\n",
      "9313847408310\n",
      "10928139096\n",
      "843980815655\n",
      "8150055542658\n",
      "5165045152030\n",
      "4957760220840\n",
      "3305775114943\n",
      "7635611578652\n",
      "3538967111865\n",
      "7770293395859\n",
      "8522223219519\n",
      "2505728976105\n",
      "6546494554051\n",
      "8914055306890\n",
      "9635631465183\n",
      "9030531164739\n",
      "5595185796542\n",
      "4481248559654\n",
      "6194739605391\n",
      "4546493759633\n",
      "8813789118460\n",
      "4486000633094\n",
      "7825447715738\n",
      "323424581589\n",
      "2907404677434\n",
      "8131437007399\n",
      "7807774938553\n",
      "5440342242569\n",
      "6704491100602\n",
      "3664337100305\n",
      "710195396426\n",
      "833168160558\n",
      "819665380204\n",
      "3158531618844\n",
      "7397760640549\n",
      "3087886144914\n",
      "4611928018095\n",
      "5845275244604\n",
      "1763219014631\n",
      "3649907653988\n",
      "2346456051965\n",
      "134299974951\n",
      "9188476954209\n",
      "9917621971070\n",
      "2112635412306\n",
      "7529440339436\n",
      "3446079326536\n",
      "8707189936520\n",
      "4596514163817\n",
      "6458897612271\n",
      "4661452958668\n",
      "4911401311360\n",
      "4540795928119\n",
      "8400922179409\n",
      "682740472575\n",
      "2156245523205\n",
      "3419515678389\n",
      "3920329270847\n",
      "6464626177430\n",
      "0\n"
     ]
    }
   ],
   "source": [
    "missing_keys = []\n",
    "to_fix_keys = []\n",
    "for idx,k in enumerate(empl_abs.KEY):\n",
    "    if (type(k) != np.str):\n",
    "        missing_keys.append(idx)\n",
    "    elif len(k) < 14:\n",
    "        print k\n",
    "        to_fix_keys.append(idx)\n",
    "        \n",
    "print len(missing_keys)"
   ]
  },
  {
   "cell_type": "code",
   "execution_count": 23,
   "metadata": {
    "collapsed": false
   },
   "outputs": [
    {
     "data": {
      "text/html": [
       "<div style=\"max-height:1000px;max-width:1500px;overflow:auto;\">\n",
       "<table border=\"1\" class=\"dataframe\">\n",
       "  <thead>\n",
       "    <tr style=\"text-align: right;\">\n",
       "      <th></th>\n",
       "      <th>Column</th>\n",
       "      <th>datatype</th>\n",
       "      <th>nmissing</th>\n",
       "      <th>arity</th>\n",
       "      <th>accepted values</th>\n",
       "      <th>x_missing</th>\n",
       "    </tr>\n",
       "  </thead>\n",
       "  <tbody>\n",
       "    <tr>\n",
       "      <th>0</th>\n",
       "      <td>KEY</td>\n",
       "      <td>object</td>\n",
       "      <td>0</td>\n",
       "      <td>113611</td>\n",
       "      <td>None</td>\n",
       "      <td>0</td>\n",
       "    </tr>\n",
       "    <tr>\n",
       "      <th>1</th>\n",
       "      <td>PDUSED1</td>\n",
       "      <td>float64</td>\n",
       "      <td>0</td>\n",
       "      <td>177</td>\n",
       "      <td>None</td>\n",
       "      <td>0</td>\n",
       "    </tr>\n",
       "    <tr>\n",
       "      <th>2</th>\n",
       "      <td>PDUSED2</td>\n",
       "      <td>float64</td>\n",
       "      <td>0</td>\n",
       "      <td>323</td>\n",
       "      <td>None</td>\n",
       "      <td>0</td>\n",
       "    </tr>\n",
       "    <tr>\n",
       "      <th>3</th>\n",
       "      <td>PDUSED3</td>\n",
       "      <td>float64</td>\n",
       "      <td>0</td>\n",
       "      <td>319</td>\n",
       "      <td>None</td>\n",
       "      <td>0</td>\n",
       "    </tr>\n",
       "    <tr>\n",
       "      <th>4</th>\n",
       "      <td>PDUSED4</td>\n",
       "      <td>float64</td>\n",
       "      <td>0</td>\n",
       "      <td>319</td>\n",
       "      <td>None</td>\n",
       "      <td>0</td>\n",
       "    </tr>\n",
       "    <tr>\n",
       "      <th>5</th>\n",
       "      <td>PDUSED5</td>\n",
       "      <td>float64</td>\n",
       "      <td>0</td>\n",
       "      <td>306</td>\n",
       "      <td>None</td>\n",
       "      <td>0</td>\n",
       "    </tr>\n",
       "    <tr>\n",
       "      <th>6</th>\n",
       "      <td>PDUSED6</td>\n",
       "      <td>float64</td>\n",
       "      <td>0</td>\n",
       "      <td>314</td>\n",
       "      <td>None</td>\n",
       "      <td>0</td>\n",
       "    </tr>\n",
       "    <tr>\n",
       "      <th>7</th>\n",
       "      <td>PDUSED7</td>\n",
       "      <td>float64</td>\n",
       "      <td>0</td>\n",
       "      <td>307</td>\n",
       "      <td>None</td>\n",
       "      <td>0</td>\n",
       "    </tr>\n",
       "    <tr>\n",
       "      <th>8</th>\n",
       "      <td>PDUSED8</td>\n",
       "      <td>float64</td>\n",
       "      <td>0</td>\n",
       "      <td>320</td>\n",
       "      <td>None</td>\n",
       "      <td>0</td>\n",
       "    </tr>\n",
       "    <tr>\n",
       "      <th>9</th>\n",
       "      <td>PDUSED9</td>\n",
       "      <td>float64</td>\n",
       "      <td>0</td>\n",
       "      <td>329</td>\n",
       "      <td>None</td>\n",
       "      <td>0</td>\n",
       "    </tr>\n",
       "    <tr>\n",
       "      <th>10</th>\n",
       "      <td>PDUSED10</td>\n",
       "      <td>float64</td>\n",
       "      <td>0</td>\n",
       "      <td>314</td>\n",
       "      <td>None</td>\n",
       "      <td>0</td>\n",
       "    </tr>\n",
       "    <tr>\n",
       "      <th>11</th>\n",
       "      <td>PTUSED1</td>\n",
       "      <td>float64</td>\n",
       "      <td>0</td>\n",
       "      <td>205</td>\n",
       "      <td>None</td>\n",
       "      <td>0</td>\n",
       "    </tr>\n",
       "    <tr>\n",
       "      <th>12</th>\n",
       "      <td>PTUSED2</td>\n",
       "      <td>float64</td>\n",
       "      <td>0</td>\n",
       "      <td>346</td>\n",
       "      <td>None</td>\n",
       "      <td>0</td>\n",
       "    </tr>\n",
       "    <tr>\n",
       "      <th>13</th>\n",
       "      <td>PTUSED3</td>\n",
       "      <td>float64</td>\n",
       "      <td>0</td>\n",
       "      <td>329</td>\n",
       "      <td>None</td>\n",
       "      <td>0</td>\n",
       "    </tr>\n",
       "    <tr>\n",
       "      <th>14</th>\n",
       "      <td>PTUSED4</td>\n",
       "      <td>float64</td>\n",
       "      <td>0</td>\n",
       "      <td>355</td>\n",
       "      <td>None</td>\n",
       "      <td>0</td>\n",
       "    </tr>\n",
       "    <tr>\n",
       "      <th>15</th>\n",
       "      <td>PTUSED5</td>\n",
       "      <td>float64</td>\n",
       "      <td>0</td>\n",
       "      <td>362</td>\n",
       "      <td>None</td>\n",
       "      <td>0</td>\n",
       "    </tr>\n",
       "    <tr>\n",
       "      <th>16</th>\n",
       "      <td>PTUSED6</td>\n",
       "      <td>float64</td>\n",
       "      <td>0</td>\n",
       "      <td>355</td>\n",
       "      <td>None</td>\n",
       "      <td>0</td>\n",
       "    </tr>\n",
       "    <tr>\n",
       "      <th>17</th>\n",
       "      <td>PTUSED7</td>\n",
       "      <td>float64</td>\n",
       "      <td>0</td>\n",
       "      <td>380</td>\n",
       "      <td>None</td>\n",
       "      <td>0</td>\n",
       "    </tr>\n",
       "    <tr>\n",
       "      <th>18</th>\n",
       "      <td>PTUSED8</td>\n",
       "      <td>float64</td>\n",
       "      <td>0</td>\n",
       "      <td>385</td>\n",
       "      <td>None</td>\n",
       "      <td>0</td>\n",
       "    </tr>\n",
       "    <tr>\n",
       "      <th>19</th>\n",
       "      <td>PTUSED9</td>\n",
       "      <td>float64</td>\n",
       "      <td>0</td>\n",
       "      <td>398</td>\n",
       "      <td>None</td>\n",
       "      <td>0</td>\n",
       "    </tr>\n",
       "    <tr>\n",
       "      <th>20</th>\n",
       "      <td>PTUSED10</td>\n",
       "      <td>float64</td>\n",
       "      <td>0</td>\n",
       "      <td>410</td>\n",
       "      <td>None</td>\n",
       "      <td>0</td>\n",
       "    </tr>\n",
       "    <tr>\n",
       "      <th>21</th>\n",
       "      <td>PSLUSED1</td>\n",
       "      <td>float64</td>\n",
       "      <td>0</td>\n",
       "      <td>1322</td>\n",
       "      <td>None</td>\n",
       "      <td>0</td>\n",
       "    </tr>\n",
       "    <tr>\n",
       "      <th>22</th>\n",
       "      <td>PSLUSED2</td>\n",
       "      <td>float64</td>\n",
       "      <td>0</td>\n",
       "      <td>2426</td>\n",
       "      <td>None</td>\n",
       "      <td>0</td>\n",
       "    </tr>\n",
       "    <tr>\n",
       "      <th>23</th>\n",
       "      <td>PSLUSED3</td>\n",
       "      <td>float64</td>\n",
       "      <td>0</td>\n",
       "      <td>2480</td>\n",
       "      <td>None</td>\n",
       "      <td>0</td>\n",
       "    </tr>\n",
       "    <tr>\n",
       "      <th>24</th>\n",
       "      <td>PSLUSED4</td>\n",
       "      <td>float64</td>\n",
       "      <td>0</td>\n",
       "      <td>2406</td>\n",
       "      <td>None</td>\n",
       "      <td>0</td>\n",
       "    </tr>\n",
       "    <tr>\n",
       "      <th>25</th>\n",
       "      <td>PSLUSED5</td>\n",
       "      <td>float64</td>\n",
       "      <td>0</td>\n",
       "      <td>2402</td>\n",
       "      <td>None</td>\n",
       "      <td>0</td>\n",
       "    </tr>\n",
       "    <tr>\n",
       "      <th>26</th>\n",
       "      <td>PSLUSED6</td>\n",
       "      <td>float64</td>\n",
       "      <td>0</td>\n",
       "      <td>2489</td>\n",
       "      <td>None</td>\n",
       "      <td>0</td>\n",
       "    </tr>\n",
       "    <tr>\n",
       "      <th>27</th>\n",
       "      <td>PSLUSED7</td>\n",
       "      <td>float64</td>\n",
       "      <td>0</td>\n",
       "      <td>2455</td>\n",
       "      <td>None</td>\n",
       "      <td>0</td>\n",
       "    </tr>\n",
       "    <tr>\n",
       "      <th>28</th>\n",
       "      <td>PSLUSED8</td>\n",
       "      <td>float64</td>\n",
       "      <td>0</td>\n",
       "      <td>2430</td>\n",
       "      <td>None</td>\n",
       "      <td>0</td>\n",
       "    </tr>\n",
       "    <tr>\n",
       "      <th>29</th>\n",
       "      <td>PSLUSED9</td>\n",
       "      <td>float64</td>\n",
       "      <td>0</td>\n",
       "      <td>2395</td>\n",
       "      <td>None</td>\n",
       "      <td>0</td>\n",
       "    </tr>\n",
       "    <tr>\n",
       "      <th>...</th>\n",
       "      <td>...</td>\n",
       "      <td>...</td>\n",
       "      <td>...</td>\n",
       "      <td>...</td>\n",
       "      <td>...</td>\n",
       "      <td>...</td>\n",
       "    </tr>\n",
       "    <tr>\n",
       "      <th>51</th>\n",
       "      <td>PSLBAL1</td>\n",
       "      <td>float64</td>\n",
       "      <td>0</td>\n",
       "      <td>4985</td>\n",
       "      <td>None</td>\n",
       "      <td>0</td>\n",
       "    </tr>\n",
       "    <tr>\n",
       "      <th>52</th>\n",
       "      <td>PSLBAL2</td>\n",
       "      <td>float64</td>\n",
       "      <td>0</td>\n",
       "      <td>594</td>\n",
       "      <td>None</td>\n",
       "      <td>0</td>\n",
       "    </tr>\n",
       "    <tr>\n",
       "      <th>53</th>\n",
       "      <td>PSLBAL3</td>\n",
       "      <td>float64</td>\n",
       "      <td>0</td>\n",
       "      <td>387</td>\n",
       "      <td>None</td>\n",
       "      <td>0</td>\n",
       "    </tr>\n",
       "    <tr>\n",
       "      <th>54</th>\n",
       "      <td>PSLBAL4</td>\n",
       "      <td>float64</td>\n",
       "      <td>0</td>\n",
       "      <td>379</td>\n",
       "      <td>None</td>\n",
       "      <td>0</td>\n",
       "    </tr>\n",
       "    <tr>\n",
       "      <th>55</th>\n",
       "      <td>PSLBAL5</td>\n",
       "      <td>float64</td>\n",
       "      <td>0</td>\n",
       "      <td>428</td>\n",
       "      <td>None</td>\n",
       "      <td>0</td>\n",
       "    </tr>\n",
       "    <tr>\n",
       "      <th>56</th>\n",
       "      <td>PSLBAL6</td>\n",
       "      <td>float64</td>\n",
       "      <td>0</td>\n",
       "      <td>452</td>\n",
       "      <td>None</td>\n",
       "      <td>0</td>\n",
       "    </tr>\n",
       "    <tr>\n",
       "      <th>57</th>\n",
       "      <td>PSLBAL7</td>\n",
       "      <td>float64</td>\n",
       "      <td>0</td>\n",
       "      <td>503</td>\n",
       "      <td>None</td>\n",
       "      <td>0</td>\n",
       "    </tr>\n",
       "    <tr>\n",
       "      <th>58</th>\n",
       "      <td>PSLBAL8</td>\n",
       "      <td>float64</td>\n",
       "      <td>0</td>\n",
       "      <td>518</td>\n",
       "      <td>None</td>\n",
       "      <td>0</td>\n",
       "    </tr>\n",
       "    <tr>\n",
       "      <th>59</th>\n",
       "      <td>PSLBAL9</td>\n",
       "      <td>float64</td>\n",
       "      <td>0</td>\n",
       "      <td>486</td>\n",
       "      <td>None</td>\n",
       "      <td>0</td>\n",
       "    </tr>\n",
       "    <tr>\n",
       "      <th>60</th>\n",
       "      <td>PSLBAL10</td>\n",
       "      <td>float64</td>\n",
       "      <td>0</td>\n",
       "      <td>442</td>\n",
       "      <td>None</td>\n",
       "      <td>0</td>\n",
       "    </tr>\n",
       "    <tr>\n",
       "      <th>61</th>\n",
       "      <td>PTBAL1</td>\n",
       "      <td>float64</td>\n",
       "      <td>0</td>\n",
       "      <td>208</td>\n",
       "      <td>None</td>\n",
       "      <td>0</td>\n",
       "    </tr>\n",
       "    <tr>\n",
       "      <th>62</th>\n",
       "      <td>PTBAL2</td>\n",
       "      <td>float64</td>\n",
       "      <td>0</td>\n",
       "      <td>336</td>\n",
       "      <td>None</td>\n",
       "      <td>0</td>\n",
       "    </tr>\n",
       "    <tr>\n",
       "      <th>63</th>\n",
       "      <td>PTBAL3</td>\n",
       "      <td>float64</td>\n",
       "      <td>0</td>\n",
       "      <td>314</td>\n",
       "      <td>None</td>\n",
       "      <td>0</td>\n",
       "    </tr>\n",
       "    <tr>\n",
       "      <th>64</th>\n",
       "      <td>PTBAL4</td>\n",
       "      <td>float64</td>\n",
       "      <td>0</td>\n",
       "      <td>340</td>\n",
       "      <td>None</td>\n",
       "      <td>0</td>\n",
       "    </tr>\n",
       "    <tr>\n",
       "      <th>65</th>\n",
       "      <td>PTBAL5</td>\n",
       "      <td>float64</td>\n",
       "      <td>0</td>\n",
       "      <td>332</td>\n",
       "      <td>None</td>\n",
       "      <td>0</td>\n",
       "    </tr>\n",
       "    <tr>\n",
       "      <th>66</th>\n",
       "      <td>PTBAL6</td>\n",
       "      <td>float64</td>\n",
       "      <td>0</td>\n",
       "      <td>336</td>\n",
       "      <td>None</td>\n",
       "      <td>0</td>\n",
       "    </tr>\n",
       "    <tr>\n",
       "      <th>67</th>\n",
       "      <td>PTBAL7</td>\n",
       "      <td>float64</td>\n",
       "      <td>0</td>\n",
       "      <td>373</td>\n",
       "      <td>None</td>\n",
       "      <td>0</td>\n",
       "    </tr>\n",
       "    <tr>\n",
       "      <th>68</th>\n",
       "      <td>PTBAL8</td>\n",
       "      <td>float64</td>\n",
       "      <td>0</td>\n",
       "      <td>366</td>\n",
       "      <td>None</td>\n",
       "      <td>0</td>\n",
       "    </tr>\n",
       "    <tr>\n",
       "      <th>69</th>\n",
       "      <td>PTBAL9</td>\n",
       "      <td>float64</td>\n",
       "      <td>0</td>\n",
       "      <td>382</td>\n",
       "      <td>None</td>\n",
       "      <td>0</td>\n",
       "    </tr>\n",
       "    <tr>\n",
       "      <th>70</th>\n",
       "      <td>PTBAL10</td>\n",
       "      <td>float64</td>\n",
       "      <td>0</td>\n",
       "      <td>397</td>\n",
       "      <td>None</td>\n",
       "      <td>0</td>\n",
       "    </tr>\n",
       "    <tr>\n",
       "      <th>71</th>\n",
       "      <td>PVBAL1</td>\n",
       "      <td>float64</td>\n",
       "      <td>0</td>\n",
       "      <td>2556</td>\n",
       "      <td>None</td>\n",
       "      <td>0</td>\n",
       "    </tr>\n",
       "    <tr>\n",
       "      <th>72</th>\n",
       "      <td>PVBAL2</td>\n",
       "      <td>float64</td>\n",
       "      <td>0</td>\n",
       "      <td>1061</td>\n",
       "      <td>None</td>\n",
       "      <td>0</td>\n",
       "    </tr>\n",
       "    <tr>\n",
       "      <th>73</th>\n",
       "      <td>PVBAL3</td>\n",
       "      <td>float64</td>\n",
       "      <td>0</td>\n",
       "      <td>998</td>\n",
       "      <td>None</td>\n",
       "      <td>0</td>\n",
       "    </tr>\n",
       "    <tr>\n",
       "      <th>74</th>\n",
       "      <td>PVBAL4</td>\n",
       "      <td>float64</td>\n",
       "      <td>0</td>\n",
       "      <td>1045</td>\n",
       "      <td>None</td>\n",
       "      <td>0</td>\n",
       "    </tr>\n",
       "    <tr>\n",
       "      <th>75</th>\n",
       "      <td>PVBAL5</td>\n",
       "      <td>float64</td>\n",
       "      <td>0</td>\n",
       "      <td>966</td>\n",
       "      <td>None</td>\n",
       "      <td>0</td>\n",
       "    </tr>\n",
       "    <tr>\n",
       "      <th>76</th>\n",
       "      <td>PVBAL6</td>\n",
       "      <td>float64</td>\n",
       "      <td>0</td>\n",
       "      <td>970</td>\n",
       "      <td>None</td>\n",
       "      <td>0</td>\n",
       "    </tr>\n",
       "    <tr>\n",
       "      <th>77</th>\n",
       "      <td>PVBAL7</td>\n",
       "      <td>float64</td>\n",
       "      <td>0</td>\n",
       "      <td>1044</td>\n",
       "      <td>None</td>\n",
       "      <td>0</td>\n",
       "    </tr>\n",
       "    <tr>\n",
       "      <th>78</th>\n",
       "      <td>PVBAL8</td>\n",
       "      <td>float64</td>\n",
       "      <td>0</td>\n",
       "      <td>1018</td>\n",
       "      <td>None</td>\n",
       "      <td>0</td>\n",
       "    </tr>\n",
       "    <tr>\n",
       "      <th>79</th>\n",
       "      <td>PVBAL9</td>\n",
       "      <td>float64</td>\n",
       "      <td>0</td>\n",
       "      <td>1046</td>\n",
       "      <td>None</td>\n",
       "      <td>0</td>\n",
       "    </tr>\n",
       "    <tr>\n",
       "      <th>80</th>\n",
       "      <td>PVBAL10</td>\n",
       "      <td>float64</td>\n",
       "      <td>0</td>\n",
       "      <td>1081</td>\n",
       "      <td>None</td>\n",
       "      <td>0</td>\n",
       "    </tr>\n",
       "  </tbody>\n",
       "</table>\n",
       "<p>81 rows × 6 columns</p>\n",
       "</div>"
      ],
      "text/plain": [
       "      Column datatype  nmissing   arity accepted values  x_missing\n",
       "0        KEY   object         0  113611            None          0\n",
       "1    PDUSED1  float64         0     177            None          0\n",
       "2    PDUSED2  float64         0     323            None          0\n",
       "3    PDUSED3  float64         0     319            None          0\n",
       "4    PDUSED4  float64         0     319            None          0\n",
       "5    PDUSED5  float64         0     306            None          0\n",
       "6    PDUSED6  float64         0     314            None          0\n",
       "7    PDUSED7  float64         0     307            None          0\n",
       "8    PDUSED8  float64         0     320            None          0\n",
       "9    PDUSED9  float64         0     329            None          0\n",
       "10  PDUSED10  float64         0     314            None          0\n",
       "11   PTUSED1  float64         0     205            None          0\n",
       "12   PTUSED2  float64         0     346            None          0\n",
       "13   PTUSED3  float64         0     329            None          0\n",
       "14   PTUSED4  float64         0     355            None          0\n",
       "15   PTUSED5  float64         0     362            None          0\n",
       "16   PTUSED6  float64         0     355            None          0\n",
       "17   PTUSED7  float64         0     380            None          0\n",
       "18   PTUSED8  float64         0     385            None          0\n",
       "19   PTUSED9  float64         0     398            None          0\n",
       "20  PTUSED10  float64         0     410            None          0\n",
       "21  PSLUSED1  float64         0    1322            None          0\n",
       "22  PSLUSED2  float64         0    2426            None          0\n",
       "23  PSLUSED3  float64         0    2480            None          0\n",
       "24  PSLUSED4  float64         0    2406            None          0\n",
       "25  PSLUSED5  float64         0    2402            None          0\n",
       "26  PSLUSED6  float64         0    2489            None          0\n",
       "27  PSLUSED7  float64         0    2455            None          0\n",
       "28  PSLUSED8  float64         0    2430            None          0\n",
       "29  PSLUSED9  float64         0    2395            None          0\n",
       "..       ...      ...       ...     ...             ...        ...\n",
       "51   PSLBAL1  float64         0    4985            None          0\n",
       "52   PSLBAL2  float64         0     594            None          0\n",
       "53   PSLBAL3  float64         0     387            None          0\n",
       "54   PSLBAL4  float64         0     379            None          0\n",
       "55   PSLBAL5  float64         0     428            None          0\n",
       "56   PSLBAL6  float64         0     452            None          0\n",
       "57   PSLBAL7  float64         0     503            None          0\n",
       "58   PSLBAL8  float64         0     518            None          0\n",
       "59   PSLBAL9  float64         0     486            None          0\n",
       "60  PSLBAL10  float64         0     442            None          0\n",
       "61    PTBAL1  float64         0     208            None          0\n",
       "62    PTBAL2  float64         0     336            None          0\n",
       "63    PTBAL3  float64         0     314            None          0\n",
       "64    PTBAL4  float64         0     340            None          0\n",
       "65    PTBAL5  float64         0     332            None          0\n",
       "66    PTBAL6  float64         0     336            None          0\n",
       "67    PTBAL7  float64         0     373            None          0\n",
       "68    PTBAL8  float64         0     366            None          0\n",
       "69    PTBAL9  float64         0     382            None          0\n",
       "70   PTBAL10  float64         0     397            None          0\n",
       "71    PVBAL1  float64         0    2556            None          0\n",
       "72    PVBAL2  float64         0    1061            None          0\n",
       "73    PVBAL3  float64         0     998            None          0\n",
       "74    PVBAL4  float64         0    1045            None          0\n",
       "75    PVBAL5  float64         0     966            None          0\n",
       "76    PVBAL6  float64         0     970            None          0\n",
       "77    PVBAL7  float64         0    1044            None          0\n",
       "78    PVBAL8  float64         0    1018            None          0\n",
       "79    PVBAL9  float64         0    1046            None          0\n",
       "80   PVBAL10  float64         0    1081            None          0\n",
       "\n",
       "[81 rows x 6 columns]"
      ]
     },
     "execution_count": 23,
     "metadata": {},
     "output_type": "execute_result"
    }
   ],
   "source": [
    "#[(x,type(x),float(x)) for x in empl_abs.PV_PRE_USED3.values if x != 0.0]\n",
    "sdf_abs"
   ]
  },
  {
   "cell_type": "code",
   "execution_count": null,
   "metadata": {
    "collapsed": false
   },
   "outputs": [],
   "source": [
    "[type(x) for x in empl_abs.PV_PRE_USED3.values if type(x) != 'np.float']"
   ]
  },
  {
   "cell_type": "code",
   "execution_count": 24,
   "metadata": {
    "collapsed": false
   },
   "outputs": [
    {
     "data": {
      "text/plain": [
       "<matplotlib.axes._subplots.AxesSubplot at 0x7f49df58e5d0>"
      ]
     },
     "execution_count": 24,
     "metadata": {},
     "output_type": "execute_result"
    },
    {
     "data": {
      "image/png": "[encoded data removed]",
      "text/plain": [
       "<matplotlib.figure.Figure at 0x7f49e0abf190>"
      ]
     },
     "metadata": {},
     "output_type": "display_data"
    }
   ],
   "source": [
    "empl_abs['PTBAL1'].hist(bins=30)"
   ]
  },
  {
   "cell_type": "markdown",
   "metadata": {},
   "source": [
    "## Define types for specific columns"
   ]
  },
  {
   "cell_type": "code",
   "execution_count": 10,
   "metadata": {
    "collapsed": false
   },
   "outputs": [],
   "source": [
    "hist_record_dtype_dict = {'KEY':np.str,'LOCATION':np.str,'EEO1CODE':np.str,'SKEY':np.str,'JOBCODE':np.str,'EMPL_CLASS':np.str, \n",
    "                          'SHIFT':np.str,'COMPANY':np.str,'EXT_FUNC_ID_SFI':np.str,'FUNC_ID_SFI':np.str,\n",
    "                          'DIVISION_CODE_SFI':np.str,'JOB_FAMILY':np.str,'JOB_FUNCTION':np.str,'ACTRES1':np.str,\n",
    "                          'ACTRES2':np.str,'ACTRES3':np.str,'ACTRES4':np.str,'ACTRES5':np.str,'ACTRES6':np.str,\n",
    "                          'ACTRES7':np.str,'ACTRES8':np.str,'ACTRES9':np.str,'ACTRES10':np.str,'BOX1':np.str,\n",
    "                          'BOX2':np.str,'BOX3':np.str,'BOX4':np.str,'BOX5':np.str,'BOX6':np.str,'BOX7':np.str,\n",
    "                          'BOX8':np.str,'BOX9':np.str,'BOX10':np.str,'RATE1':np.str,'RATE2':np.str,'RATE3':np.str,\n",
    "                          'RATE4':np.str,'RATE5':np.str,'RATE6':np.str,'RATE7':np.str,'RATE8':np.str,'RATE9':np.str,\n",
    "                          'RATE10':np.str}\n",
    "#,'COUNT':np.float,'FUNC_CNT':np.float}\n",
    "#dictionary to load the histcurr and histret columns the same way"
   ]
  },
  {
   "cell_type": "code",
   "execution_count": 19,
   "metadata": {
    "collapsed": false
   },
   "outputs": [
    {
     "name": "stdout",
     "output_type": "stream",
     "text": [
      "(334162, 20)\n"
     ]
    },
    {
     "data": {
      "text/html": [
       "<div>\n",
       "<table border=\"1\" class=\"dataframe\">\n",
       "  <thead>\n",
       "    <tr style=\"text-align: right;\">\n",
       "      <th></th>\n",
       "      <th>KEY</th>\n",
       "      <th>STATE</th>\n",
       "      <th>ADDRESS1</th>\n",
       "      <th>ADDRESS2</th>\n",
       "      <th>POSTAL_SFI</th>\n",
       "      <th>HIRE_DT</th>\n",
       "      <th>LAST_HIRE_DT</th>\n",
       "      <th>SERVICE_DT</th>\n",
       "      <th>SEX</th>\n",
       "      <th>MAR_STA_SNAME_SFI</th>\n",
       "      <th>MAR_STATUS_DT</th>\n",
       "      <th>BIRTHDATE</th>\n",
       "      <th>ETHNIC_GROUP</th>\n",
       "      <th>RELO_STATE_CNT_SFI</th>\n",
       "      <th>RELOCATE_ALL_SFI</th>\n",
       "      <th>TOT_MO_SERVICE_SFI</th>\n",
       "      <th>ADDRCNT1</th>\n",
       "      <th>ADDRCNT3</th>\n",
       "      <th>ADDRCNT5</th>\n",
       "      <th>ADDRCNT10</th>\n",
       "    </tr>\n",
       "  </thead>\n",
       "  <tbody>\n",
       "    <tr>\n",
       "      <th>0</th>\n",
       "      <td>782034519027003</td>\n",
       "      <td>TX</td>\n",
       "      <td>207 BANNER AVE</td>\n",
       "      <td>NaN</td>\n",
       "      <td>78641</td>\n",
       "      <td>20JAN1992</td>\n",
       "      <td>20JAN1992</td>\n",
       "      <td>20JAN1992</td>\n",
       "      <td>M</td>\n",
       "      <td>SINGLE</td>\n",
       "      <td>NaN</td>\n",
       "      <td>30SEP1943</td>\n",
       "      <td>1</td>\n",
       "      <td>0</td>\n",
       "      <td>N</td>\n",
       "      <td>159</td>\n",
       "      <td>0</td>\n",
       "      <td>0</td>\n",
       "      <td>0</td>\n",
       "      <td>0</td>\n",
       "    </tr>\n",
       "    <tr>\n",
       "      <th>1</th>\n",
       "      <td>606846618748664</td>\n",
       "      <td>AZ</td>\n",
       "      <td>1441 PANORAMA WAY</td>\n",
       "      <td>NaN</td>\n",
       "      <td>86324</td>\n",
       "      <td>17AUG1987</td>\n",
       "      <td>17AUG1987</td>\n",
       "      <td>17AUG1987</td>\n",
       "      <td>M</td>\n",
       "      <td>MARRIED</td>\n",
       "      <td>NaN</td>\n",
       "      <td>03NOV1942</td>\n",
       "      <td>1</td>\n",
       "      <td>10</td>\n",
       "      <td>N</td>\n",
       "      <td>183</td>\n",
       "      <td>0</td>\n",
       "      <td>0</td>\n",
       "      <td>0</td>\n",
       "      <td>0</td>\n",
       "    </tr>\n",
       "    <tr>\n",
       "      <th>2</th>\n",
       "      <td>397026582340257</td>\n",
       "      <td>NC</td>\n",
       "      <td>683 CHELSEA DR</td>\n",
       "      <td>NaN</td>\n",
       "      <td>27332</td>\n",
       "      <td>13MAY1970</td>\n",
       "      <td>13MAY1970</td>\n",
       "      <td>13MAY1970</td>\n",
       "      <td>M</td>\n",
       "      <td>MARRIED</td>\n",
       "      <td>NaN</td>\n",
       "      <td>09MAR1944</td>\n",
       "      <td>1</td>\n",
       "      <td>11</td>\n",
       "      <td>N</td>\n",
       "      <td>349</td>\n",
       "      <td>0</td>\n",
       "      <td>0</td>\n",
       "      <td>0</td>\n",
       "      <td>0</td>\n",
       "    </tr>\n",
       "    <tr>\n",
       "      <th>3</th>\n",
       "      <td>932378015449447</td>\n",
       "      <td>NH</td>\n",
       "      <td>97 SHEPHERD RD</td>\n",
       "      <td>NaN</td>\n",
       "      <td>03104</td>\n",
       "      <td>04AUG1969</td>\n",
       "      <td>04AUG1969</td>\n",
       "      <td>04AUG1969</td>\n",
       "      <td>M</td>\n",
       "      <td>MARRIED</td>\n",
       "      <td>NaN</td>\n",
       "      <td>12APR1947</td>\n",
       "      <td>1</td>\n",
       "      <td>24</td>\n",
       "      <td>N</td>\n",
       "      <td>421</td>\n",
       "      <td>0</td>\n",
       "      <td>0</td>\n",
       "      <td>0</td>\n",
       "      <td>0</td>\n",
       "    </tr>\n",
       "    <tr>\n",
       "      <th>4</th>\n",
       "      <td>892115452742258</td>\n",
       "      <td>IL</td>\n",
       "      <td>8 BLISS TERRACE</td>\n",
       "      <td>NaN</td>\n",
       "      <td>62234</td>\n",
       "      <td>13JUN1988</td>\n",
       "      <td>13JUN1988</td>\n",
       "      <td>13JUN1988</td>\n",
       "      <td>F</td>\n",
       "      <td>MARRIED</td>\n",
       "      <td>NaN</td>\n",
       "      <td>22OCT1949</td>\n",
       "      <td>1</td>\n",
       "      <td>0</td>\n",
       "      <td>N</td>\n",
       "      <td>295</td>\n",
       "      <td>0</td>\n",
       "      <td>0</td>\n",
       "      <td>0</td>\n",
       "      <td>0</td>\n",
       "    </tr>\n",
       "  </tbody>\n",
       "</table>\n",
       "</div>"
      ],
      "text/plain": [
       "               KEY STATE           ADDRESS1 ADDRESS2 POSTAL_SFI    HIRE_DT  \\\n",
       "0  782034519027003    TX     207 BANNER AVE      NaN      78641  20JAN1992   \n",
       "1  606846618748664    AZ  1441 PANORAMA WAY      NaN      86324  17AUG1987   \n",
       "2  397026582340257    NC     683 CHELSEA DR      NaN      27332  13MAY1970   \n",
       "3  932378015449447    NH     97 SHEPHERD RD      NaN      03104  04AUG1969   \n",
       "4  892115452742258    IL    8 BLISS TERRACE      NaN      62234  13JUN1988   \n",
       "\n",
       "  LAST_HIRE_DT SERVICE_DT SEX MAR_STA_SNAME_SFI MAR_STATUS_DT  BIRTHDATE  \\\n",
       "0    20JAN1992  20JAN1992   M            SINGLE           NaN  30SEP1943   \n",
       "1    17AUG1987  17AUG1987   M           MARRIED           NaN  03NOV1942   \n",
       "2    13MAY1970  13MAY1970   M           MARRIED           NaN  09MAR1944   \n",
       "3    04AUG1969  04AUG1969   M           MARRIED           NaN  12APR1947   \n",
       "4    13JUN1988  13JUN1988   F           MARRIED           NaN  22OCT1949   \n",
       "\n",
       "   ETHNIC_GROUP  RELO_STATE_CNT_SFI RELOCATE_ALL_SFI  TOT_MO_SERVICE_SFI  \\\n",
       "0             1                   0                N                 159   \n",
       "1             1                  10                N                 183   \n",
       "2             1                  11                N                 349   \n",
       "3             1                  24                N                 421   \n",
       "4             1                   0                N                 295   \n",
       "\n",
       "   ADDRCNT1  ADDRCNT3  ADDRCNT5  ADDRCNT10  \n",
       "0         0         0         0          0  \n",
       "1         0         0         0          0  \n",
       "2         0         0         0          0  \n",
       "3         0         0         0          0  \n",
       "4         0         0         0          0  "
      ]
     },
     "execution_count": 19,
     "metadata": {},
     "output_type": "execute_result"
    }
   ],
   "source": [
    "empl_df = pandas_read_hdfs(infilenames[1],dtype_dict={'KEY':np.str})\n",
    "print empl_df.shape\n",
    "empl_df.head()"
   ]
  },
  {
   "cell_type": "code",
   "execution_count": null,
   "metadata": {
    "collapsed": true
   },
   "outputs": [],
   "source": []
  },
  {
   "cell_type": "markdown",
   "metadata": {},
   "source": [
    "## rename the last 2 columns of HISTCURR to match HISTRET"
   ]
  },
  {
   "cell_type": "code",
   "execution_count": 14,
   "metadata": {
    "collapsed": false
   },
   "outputs": [
    {
     "name": "stdout",
     "output_type": "stream",
     "text": [
      " (70609, 159)\n"
     ]
    }
   ],
   "source": [
    "histcurr_df = pandas_read_hdfs(infilenames[2],dtype_dict=hist_record_dtype_dict)\n",
    "print histcurr_df.shape#, histcurr_df.columns\n",
    "# rename the last two columns to match histret\n",
    "histcurr_df.rename(columns = {'COUNT':'FUNC_CNT','COUNT.1':'EXTFUNC_CNT'},inplace=True)"
   ]
  },
  {
   "cell_type": "markdown",
   "metadata": {},
   "source": [
    "### load the updated HISTRET file from HDFS"
   ]
  },
  {
   "cell_type": "code",
   "execution_count": 15,
   "metadata": {
    "collapsed": false
   },
   "outputs": [
    {
     "data": {
      "text/plain": [
       "(172554, 160)"
      ]
     },
     "execution_count": 15,
     "metadata": {},
     "output_type": "execute_result"
    }
   ],
   "source": [
    "histret_df = pandas_read_hdfs(infilenames[3],dtype_dict=hist_record_dtype_dict)\n",
    "histret_df.shape#,histret_df.columns"
   ]
  },
  {
   "cell_type": "code",
   "execution_count": null,
   "metadata": {
    "collapsed": false
   },
   "outputs": [],
   "source": [
    "histret_df['JOB_FUNCTION'].unique()"
   ]
  },
  {
   "cell_type": "code",
   "execution_count": null,
   "metadata": {
    "collapsed": false
   },
   "outputs": [],
   "source": [
    "histret_df.VOLINVOL.value_counts()"
   ]
  },
  {
   "cell_type": "markdown",
   "metadata": {},
   "source": [
    "#### add a column to histcurr_df corresponding to the new  VOLINVOL column:\n",
    "* value is 'NOT'"
   ]
  },
  {
   "cell_type": "code",
   "execution_count": null,
   "metadata": {
    "collapsed": true
   },
   "outputs": [],
   "source": [
    "histcurr_df['VOLINVOL'] = 'NOT'"
   ]
  },
  {
   "cell_type": "markdown",
   "metadata": {},
   "source": [
    "## Try to join EMPL, HISTCURR & HISTRET"
   ]
  },
  {
   "cell_type": "code",
   "execution_count": 13,
   "metadata": {
    "collapsed": false
   },
   "outputs": [
    {
     "name": "stdout",
     "output_type": "stream",
     "text": [
      "number of current, separated, total, total_of_interest: 334162 70609"
     ]
    },
    {
     "ename": "NameError",
     "evalue": "name 'empl_df' is not defined",
     "output_type": "error",
     "traceback": [
      "\u001b[1;31m---------------------------------------------------------------------------\u001b[0m",
      "\u001b[1;31mNameError\u001b[0m                                 Traceback (most recent call last)",
      "\u001b[1;32m<ipython-input-13-0cfd4efd8765>\u001b[0m in \u001b[0;36m<module>\u001b[1;34m()\u001b[0m\n\u001b[0;32m      1\u001b[0m \u001b[0mncurr\u001b[0m \u001b[1;33m=\u001b[0m \u001b[0mlen\u001b[0m\u001b[1;33m(\u001b[0m\u001b[0mhistcurr_df\u001b[0m\u001b[1;33m)\u001b[0m\u001b[1;33m\u001b[0m\u001b[0m\n\u001b[0;32m      2\u001b[0m \u001b[0mnret\u001b[0m \u001b[1;33m=\u001b[0m \u001b[0mlen\u001b[0m\u001b[1;33m(\u001b[0m\u001b[0mhistret_df\u001b[0m\u001b[1;33m)\u001b[0m\u001b[1;33m\u001b[0m\u001b[0m\n\u001b[1;32m----> 3\u001b[1;33m \u001b[1;32mprint\u001b[0m \u001b[1;34m\"number of current, separated, total, total_of_interest:\"\u001b[0m\u001b[1;33m,\u001b[0m\u001b[0mncurr\u001b[0m\u001b[1;33m,\u001b[0m\u001b[0mnret\u001b[0m\u001b[1;33m,\u001b[0m\u001b[0mlen\u001b[0m\u001b[1;33m(\u001b[0m\u001b[0mempl_df\u001b[0m\u001b[1;33m)\u001b[0m\u001b[1;33m,\u001b[0m\u001b[0mncurr\u001b[0m \u001b[1;33m+\u001b[0m \u001b[0mnret\u001b[0m\u001b[1;33m\u001b[0m\u001b[0m\n\u001b[0m",
      "\u001b[1;31mNameError\u001b[0m: name 'empl_df' is not defined"
     ]
    }
   ],
   "source": [
    "ncurr = len(histcurr_df)\n",
    "nret = len(histret_df)\n",
    "print \"number of current, separated, total, total_of_interest:\",ncurr,nret,len(empl_df),ncurr + nret"
   ]
  },
  {
   "cell_type": "code",
   "execution_count": null,
   "metadata": {
    "collapsed": false
   },
   "outputs": [],
   "source": [
    "len(empl_df) - ncurr - nret # these are the canadian and Agency employees"
   ]
  },
  {
   "cell_type": "markdown",
   "metadata": {},
   "source": [
    "### some helper functions"
   ]
  },
  {
   "cell_type": "code",
   "execution_count": null,
   "metadata": {
    "collapsed": true
   },
   "outputs": [],
   "source": [
    "# function to truncate POSTAL_ZIP to zip5\n",
    "def truncate_postal_zip(in_zip):\n",
    "    try:\n",
    "        out_zip = in_zip[:5]\n",
    "        #print out_zip\n",
    "    except:\n",
    "        #out_zip = str(in_zip)[:5]\n",
    "        out_zip = 'XXXXX'# np.nan\n",
    "    return out_zip"
   ]
  },
  {
   "cell_type": "code",
   "execution_count": null,
   "metadata": {
    "collapsed": false
   },
   "outputs": [],
   "source": [
    "def summarize_dataframe(df,show_example=False):\n",
    "    nrow = len(df)\n",
    "    for col in df.columns:\n",
    "        nmiss = nrow - df[col].value_counts().sum()\n",
    "        if show_example:\n",
    "            print col, df[col].dtype,nmiss, \"\\t\", len(df[col].unique()),\":\\t\", df[col].ix[8320]\n",
    "        else:\n",
    "            print col, df[col].dtype,nmiss, \"\\t\", len(df[col].unique())\n",
    "            \n",
    "def summarize_dataframe2(df,show_example=False):\n",
    "    nrow = len(df)\n",
    "    summary_df = pd.DataFrame(columns = ['Column','datatype','nmissing','arity','accepted values'])\n",
    "    len_df = len(summary_df)\n",
    "    for col in df.columns:\n",
    "        nmiss = nrow - df[col].value_counts().sum()\n",
    "        narity = len(df[col].unique())\n",
    "        if show_example:\n",
    "            print col, df[col].dtype,nmiss, \"\\t\", narity,\":\\t\", df[col].ix[8320]\n",
    "        else:\n",
    "            print col, df[col].dtype,nmiss, \"\\t\", narity\n",
    "        accept_val = None\n",
    "        if narity < 20:\n",
    "            accept_val = df[col].unique()\n",
    "        summary_df.loc[len_df] = [col,df[col].dtype,nmiss,narity,accept_val]\n",
    "        len_df+=1\n",
    "    # assing fraction of missing\n",
    "    summary_df['x_missing'] = summary_df['nmissing']/float(nrow)\n",
    "    \n",
    "    return summary_df"
   ]
  },
  {
   "cell_type": "markdown",
   "metadata": {},
   "source": [
    "### merge the files \n",
    "* cur_empl\n",
    "* ret_empl"
   ]
  },
  {
   "cell_type": "code",
   "execution_count": null,
   "metadata": {
    "collapsed": false
   },
   "outputs": [],
   "source": [
    "ret_empl = pd.merge(histret_df,empl_df,left_on='KEY',right_on='KEY',how='inner')\n",
    "cur_empl = pd.merge(histcurr_df,empl_df,left_on='KEY',right_on='KEY',how='inner')\n",
    "print len(ret_empl),len(cur_empl)"
   ]
  },
  {
   "cell_type": "markdown",
   "metadata": {},
   "source": [
    "## CLEAN UP THE DATA\n",
    "### 1. Remove the cases of ON(tario)\n",
    "### 2. Fill in missing termination, hire and Service dates\n",
    "### 3. Remove current Interns\n",
    "### 4. identify 'status' as current (0) or former employee (1).\n",
    "### 5. Remove negative tenure cases"
   ]
  },
  {
   "cell_type": "code",
   "execution_count": null,
   "metadata": {
    "collapsed": false
   },
   "outputs": [],
   "source": [
    "print sum(cur_empl.LOC_STATE=='ON'), sum(ret_empl.LOC_STATE == 'ON')\n",
    "# remove these\n",
    "ret_empl = ret_empl[ret_empl.LOC_STATE != 'ON'] # drop them"
   ]
  },
  {
   "cell_type": "markdown",
   "metadata": {},
   "source": [
    "## Check if there are missing termination dates from histret_df?\n"
   ]
  },
  {
   "cell_type": "code",
   "execution_count": null,
   "metadata": {
    "collapsed": false
   },
   "outputs": [],
   "source": [
    "sum(ret_empl.TERMINATION_DT.isnull())\n",
    "#histret_df[histret_df.TERMINATION_DT.isnull()]"
   ]
  },
  {
   "cell_type": "markdown",
   "metadata": {},
   "source": [
    "### convert the date columns\n",
    "* import datetime library\n",
    "* identify the correct columns\n",
    "* replace nan TERMINATION DATE with Jan, 1, 2015 for cur_empl\n",
    "* calculate tenure\n",
    "* calculate age at TERM DATE\n"
   ]
  },
  {
   "cell_type": "code",
   "execution_count": null,
   "metadata": {
    "collapsed": true
   },
   "outputs": [],
   "source": [
    "# create list of date columns\n",
    "date_columns = ['TERMINATION_DT','HIRE_DT','SERVICE_DT','LAST_HIRE_DT','BIRTHDATE']"
   ]
  },
  {
   "cell_type": "code",
   "execution_count": null,
   "metadata": {
    "collapsed": false
   },
   "outputs": [],
   "source": [
    "##count how many of these are missing\n",
    "print \"Column\\t     Current\\t Retired\"\n",
    "print \"++++++++++++++++++++++++++++++++++++\"\n",
    "for c in date_columns:\n",
    "    print c, \"\\t\",sum(cur_empl[c].isnull()), \"\\t\",sum(ret_empl[c].isnull())"
   ]
  },
  {
   "cell_type": "markdown",
   "metadata": {},
   "source": [
    "* replace the missing TERMINATION_DT with '01JAN2015'\n",
    "* replace the missing HIRE_DT & LAST_HIRE_DT with SERVICE_DT for the Retired employees"
   ]
  },
  {
   "cell_type": "code",
   "execution_count": null,
   "metadata": {
    "collapsed": false
   },
   "outputs": [],
   "source": [
    "termination_replace_dt = '01JAN2015'\n",
    "ret_empl['TERMINATION_DT'].fillna(termination_replace_dt,inplace=True)\n",
    "cur_empl['TERMINATION_DT'].fillna(termination_replace_dt,inplace=True)\n",
    "#sum(ret_empl['TERMINATION_DT'].isnull())"
   ]
  },
  {
   "cell_type": "code",
   "execution_count": null,
   "metadata": {
    "collapsed": false
   },
   "outputs": [],
   "source": [
    "#ret_empl[ret_empl['HIRE_DT'].isnull()].HIRE_DT = \n",
    "#ret_empl[\n",
    "missing_idx =ret_empl[ret_empl['HIRE_DT'].isnull()].index\n",
    "ret_empl.loc[missing_idx,'HIRE_DT'] = ret_empl.loc[missing_idx,'SERVICE_DT']\n",
    "missing_idx =ret_empl[ret_empl['LAST_HIRE_DT'].isnull()].index\n",
    "ret_empl.loc[missing_idx,'LAST_HIRE_DT'] = ret_empl.loc[missing_idx,'SERVICE_DT']"
   ]
  },
  {
   "cell_type": "code",
   "execution_count": null,
   "metadata": {
    "collapsed": false
   },
   "outputs": [],
   "source": [
    "#now convert to datetimes\n",
    "for c in date_columns:\n",
    "    ret_empl[c]=ret_empl[c].apply(lambda x:datetime.strptime(x,'%d%b%Y')) \n",
    "    cur_empl[c]=cur_empl[c].apply(lambda x:datetime.strptime(x,'%d%b%Y')) \n",
    "#ret_empl[date_columns].apply(lambda x: datetime.strptime(x,'%d%b%Y'),axis=0)"
   ]
  },
  {
   "cell_type": "code",
   "execution_count": null,
   "metadata": {
    "collapsed": false
   },
   "outputs": [],
   "source": [
    "## now calculate age at termination date\n",
    "cur_empl['Age_tdelta'] = cur_empl['TERMINATION_DT']-cur_empl['BIRTHDATE']#)/np.timedelta64(1,'D')\n",
    "ret_empl['Age_tdelta'] = ret_empl['TERMINATION_DT']-ret_empl['BIRTHDATE']#)/np.timedelta64(1,'D')## calculate tenure at termination date (use service_date)\n",
    "# Use HIRE_DATE (SERVICE DATE Can be later than termination date if they have been rehired)\n",
    "cur_empl['Tenure_tdelta'] = cur_empl['TERMINATION_DT']-cur_empl['HIRE_DT']\n",
    "ret_empl['Tenure_tdelta'] = ret_empl['TERMINATION_DT']-ret_empl['HIRE_DT']\n",
    "# convert to days, months or years\n",
    "cur_empl['Age_years'] = cur_empl['Age_tdelta']/np.timedelta64(1,'Y')\n",
    "ret_empl['Age_years'] = ret_empl['Age_tdelta']/np.timedelta64(1,'Y')\n",
    "# convert to months of tenure\n",
    "cur_empl['Tenure_months'] = cur_empl['Tenure_tdelta']/np.timedelta64(1,'M')\n",
    "ret_empl['Tenure_months'] = ret_empl['Tenure_tdelta']/np.timedelta64(1,'M')\n",
    "#cur_empl['Tenure_months'] = cur_empl['Tenure_tdelta']/np.timedelta64(1,'D')\n",
    "\n"
   ]
  },
  {
   "cell_type": "code",
   "execution_count": null,
   "metadata": {
    "collapsed": false
   },
   "outputs": [],
   "source": [
    "ret_empl.Age_years.describe(), cur_empl.Age_years.describe()"
   ]
  },
  {
   "cell_type": "code",
   "execution_count": null,
   "metadata": {
    "collapsed": false
   },
   "outputs": [],
   "source": [
    "ret_empl.Tenure_months.describe(), cur_empl.Tenure_months.describe()"
   ]
  },
  {
   "cell_type": "markdown",
   "metadata": {},
   "source": [
    "## Prepare for survival analysis:\n",
    "### Add column (status) to indicate if current (0) or former (1) employee"
   ]
  },
  {
   "cell_type": "code",
   "execution_count": null,
   "metadata": {
    "collapsed": false
   },
   "outputs": [],
   "source": [
    "ret_empl['status'] = 1\n",
    "cur_empl['status'] = 0\n",
    "# now join\n",
    "print len(ret_empl),len(cur_empl)\n",
    "empltbl = pd.concat([ret_empl,cur_empl],axis=0)\n",
    "print len(empltbl)"
   ]
  },
  {
   "cell_type": "markdown",
   "metadata": {},
   "source": [
    "## Remove 'current' Interns\n",
    "* identified as those where GRADE == 'UNS'"
   ]
  },
  {
   "cell_type": "code",
   "execution_count": null,
   "metadata": {
    "collapsed": false
   },
   "outputs": [],
   "source": [
    "pd.crosstab(cur_empl.INTERN, cur_empl.GRADE)"
   ]
  },
  {
   "cell_type": "code",
   "execution_count": null,
   "metadata": {
    "collapsed": false
   },
   "outputs": [],
   "source": [
    "pd.crosstab(ret_empl.INTERN, ret_empl.GRADE)"
   ]
  },
  {
   "cell_type": "markdown",
   "metadata": {},
   "source": [
    "* 803 in cur_empl\n",
    "* 42859 in ret_empl"
   ]
  },
  {
   "cell_type": "code",
   "execution_count": null,
   "metadata": {
    "collapsed": false
   },
   "outputs": [],
   "source": [
    "empltbl2 = empltbl[empltbl.GRADE != 'UNS'].copy()\n",
    "len(empltbl2)"
   ]
  },
  {
   "cell_type": "code",
   "execution_count": null,
   "metadata": {
    "collapsed": false
   },
   "outputs": [],
   "source": [
    "## define interns\n",
    "interns = empltbl[empltbl.GRADE == 'UNS'].copy()\n",
    "print len(interns)\n",
    "interns.Age_years.describe(), interns.Tenure_months.describe()"
   ]
  },
  {
   "cell_type": "code",
   "execution_count": 1,
   "metadata": {
    "collapsed": false
   },
   "outputs": [
    {
     "ename": "NameError",
     "evalue": "name 'empltbl2' is not defined",
     "output_type": "error",
     "traceback": [
      "\u001b[1;31m---------------------------------------------------------------------------\u001b[0m",
      "\u001b[1;31mNameError\u001b[0m                                 Traceback (most recent call last)",
      "\u001b[1;32m<ipython-input-1-0a63e518e7c4>\u001b[0m in \u001b[0;36m<module>\u001b[1;34m()\u001b[0m\n\u001b[1;32m----> 1\u001b[1;33m \u001b[0mempltbl2\u001b[0m\u001b[1;33m.\u001b[0m\u001b[0mTenure_months\u001b[0m\u001b[1;33m.\u001b[0m\u001b[0mdescribe\u001b[0m\u001b[1;33m(\u001b[0m\u001b[1;33m)\u001b[0m\u001b[1;33m\u001b[0m\u001b[0m\n\u001b[0m",
      "\u001b[1;31mNameError\u001b[0m: name 'empltbl2' is not defined"
     ]
    }
   ],
   "source": [
    "empltbl2.Tenure_months.describe()"
   ]
  },
  {
   "cell_type": "markdown",
   "metadata": {
    "collapsed": true
   },
   "source": [
    "## Deal with negative tenure months"
   ]
  },
  {
   "cell_type": "code",
   "execution_count": null,
   "metadata": {
    "collapsed": false
   },
   "outputs": [],
   "source": [
    "print \"tenure is negative: \", sum(empltbl2.TOT_MO_SERVICE_SFI < 0), sum(empltbl2.Tenure_months < 0)\n",
    "print \"tenure is less than 1 month: \", sum(empltbl2.TOT_MO_SERVICE_SFI < 1), sum(empltbl2.Tenure_months < 1)"
   ]
  },
  {
   "cell_type": "code",
   "execution_count": null,
   "metadata": {
    "collapsed": false
   },
   "outputs": [],
   "source": [
    "# look at these distributions\n",
    "plt.figure(figsize=(12,8))\n",
    "cur_empl.Age_years.hist(bins=80,color='indianred',label='current',alpha=0.8,normed=True)\n",
    "ret_empl.Age_years.hist(bins=80,color='steelblue',label='retired',alpha=0.5,normed=True)\n",
    "plt.legend()\n",
    "plt.xlabel('Age')\n",
    "plt.ylabel('Normed Counts')\n",
    "plt.title('Distribution of Worforce Ages')"
   ]
  },
  {
   "cell_type": "code",
   "execution_count": null,
   "metadata": {
    "collapsed": false
   },
   "outputs": [],
   "source": [
    "neg_tenure_idx = ret_empl[ret_empl.TOT_MO_SERVICE_SFI < 0].index\n",
    "ret_empl.ix[neg_tenure_idx][['TOT_MO_SERVICE_SFI','Tenure_months','TERMINATION_DT','HIRE_DT','LAST_HIRE_DT','BIRTHDATE']].head(30)"
   ]
  },
  {
   "cell_type": "code",
   "execution_count": null,
   "metadata": {
    "collapsed": false
   },
   "outputs": [],
   "source": [
    "neg_tenure_idx = ret_empl[ret_empl.Tenure_months < 0].index\n",
    "ret_empl.ix[neg_tenure_idx][['TOT_MO_SERVICE_SFI','Tenure_months','TERMINATION_DT','HIRE_DT','LAST_HIRE_DT']].tail(30)"
   ]
  },
  {
   "cell_type": "code",
   "execution_count": null,
   "metadata": {
    "collapsed": false
   },
   "outputs": [],
   "source": [
    "ret_empl.ix[neg_tenure_idx]['KEY'].tail().values"
   ]
  },
  {
   "cell_type": "markdown",
   "metadata": {},
   "source": [
    "# Cleaning up these dates\n",
    "### remove the negative tenure cases"
   ]
  },
  {
   "cell_type": "code",
   "execution_count": null,
   "metadata": {
    "collapsed": false
   },
   "outputs": [],
   "source": [
    "empltbl3 = empltbl2[empltbl2.Tenure_months>=0].copy()\n",
    "len(empltbl3)"
   ]
  },
  {
   "cell_type": "code",
   "execution_count": null,
   "metadata": {
    "collapsed": false
   },
   "outputs": [],
   "source": [
    "# how many are younger than 16?\n",
    "sum(empltbl3.Age_years < 16.01), sum(empltbl3.Age_years > 70)#, sum(cur_empl.Age_years < 16.01)"
   ]
  },
  {
   "cell_type": "code",
   "execution_count": null,
   "metadata": {
    "collapsed": false
   },
   "outputs": [],
   "source": [
    "# look at these distributions\n",
    "plt.figure(figsize=(12,8))\n",
    "empltbl3[empltbl3.status==0].Tenure_months.hist(bins=80,color='indianred',label='current',alpha=0.8,normed=True)\n",
    "empltbl3[empltbl3.status==1].Tenure_months.hist(bins=80,color='steelblue',label='former',alpha=0.5,normed=True)\n",
    "plt.legend()\n",
    "plt.xlabel('Months of Tenure')\n",
    "plt.ylabel('Normed Counts')\n",
    "plt.title('Distribution of Worforce Tenures')"
   ]
  },
  {
   "cell_type": "code",
   "execution_count": null,
   "metadata": {
    "collapsed": true
   },
   "outputs": [],
   "source": [
    "## convert months of tenure to years of tenure\n",
    "empltbl3['Tenure_years'] = empltbl3['Tenure_months']/12.0"
   ]
  },
  {
   "cell_type": "code",
   "execution_count": null,
   "metadata": {
    "collapsed": false
   },
   "outputs": [],
   "source": [
    "empltbl3.Tenure_years.describe()"
   ]
  },
  {
   "cell_type": "code",
   "execution_count": null,
   "metadata": {
    "collapsed": false
   },
   "outputs": [],
   "source": [
    "# look at these distributions\n",
    "plt.figure(figsize=(12,8))\n",
    "empltbl3[empltbl3.status==0].Tenure_years.hist(bins=60,range=[0,59],color='indianred',label='current',alpha=0.8,normed=True)\n",
    "empltbl3[empltbl3.status==1].Tenure_years.hist(bins=60,range=[0,59],color='steelblue',label='former',alpha=0.5,normed=True)\n",
    "plt.legend()\n",
    "plt.xlabel('Years of Tenure')\n",
    "plt.ylabel('Normed Counts')\n",
    "plt.title('Distribution of Worforce Tenures')"
   ]
  },
  {
   "cell_type": "markdown",
   "metadata": {},
   "source": [
    "## look for duplicated KEYS (and remove)"
   ]
  },
  {
   "cell_type": "code",
   "execution_count": null,
   "metadata": {
    "collapsed": false
   },
   "outputs": [],
   "source": [
    "duplicated_keys_list = list(empltbl3.KEY.value_counts()[empltbl3.KEY.value_counts() >1].index)\n",
    "duplicated_keys_list"
   ]
  },
  {
   "cell_type": "code",
   "execution_count": null,
   "metadata": {
    "collapsed": false
   },
   "outputs": [],
   "source": [
    "empltbl3.status.value_counts()"
   ]
  },
  {
   "cell_type": "markdown",
   "metadata": {},
   "source": [
    "## plot age distributions"
   ]
  },
  {
   "cell_type": "code",
   "execution_count": null,
   "metadata": {
    "collapsed": false
   },
   "outputs": [],
   "source": [
    "empltbl3.Age_years.describe()"
   ]
  },
  {
   "cell_type": "code",
   "execution_count": null,
   "metadata": {
    "collapsed": false
   },
   "outputs": [],
   "source": [
    "# look at these distributions\n",
    "plt.figure(figsize=(12,8))\n",
    "empltbl3[empltbl3.status==0].Age_years.hist(bins=70,range=[15,84],color='indianred',label='current',alpha=0.8,normed=True)\n",
    "empltbl3[empltbl3.status==1].Age_years.hist(bins=70,range=[15,84],color='steelblue',label='former',alpha=0.5,normed=True)\n",
    "plt.legend()\n",
    "plt.xlabel('Age in years')\n",
    "plt.ylabel('Normed Counts')\n",
    "plt.title('Distribution of Worforce Ages')"
   ]
  },
  {
   "cell_type": "markdown",
   "metadata": {},
   "source": [
    "### compare the type of separation"
   ]
  },
  {
   "cell_type": "code",
   "execution_count": null,
   "metadata": {
    "collapsed": false
   },
   "outputs": [],
   "source": [
    "empltbl3.VOLINVOL.value_counts()"
   ]
  },
  {
   "cell_type": "code",
   "execution_count": null,
   "metadata": {
    "collapsed": false
   },
   "outputs": [],
   "source": [
    "empltbl3.KEY.nunique()"
   ]
  },
  {
   "cell_type": "code",
   "execution_count": null,
   "metadata": {
    "collapsed": true
   },
   "outputs": [],
   "source": [
    "## Drop the TOT_MO_SERVICE_SFI column --> it's values seem to be erroneous generally\n",
    "# drop PER_ORG because it is singly valued\n",
    "empltbl3.drop(['PER_ORG','TOT_MO_SERVICE_SFI'],axis=1,inplace=True)"
   ]
  },
  {
   "cell_type": "markdown",
   "metadata": {
    "collapsed": true
   },
   "source": [
    "## Use this mapping for FLSA N --> 0 , X -->-1 , Z -->1"
   ]
  },
  {
   "cell_type": "code",
   "execution_count": null,
   "metadata": {
    "collapsed": false
   },
   "outputs": [],
   "source": [
    "empltbl3.FLSA_STATUS.value_counts()"
   ]
  },
  {
   "cell_type": "code",
   "execution_count": null,
   "metadata": {
    "collapsed": true
   },
   "outputs": [],
   "source": [
    "empltbl3['FLSA_STATUS'] = empltbl3['FLSA_STATUS'].replace({'N':0,'Z':1,'X':-1}).copy()"
   ]
  },
  {
   "cell_type": "markdown",
   "metadata": {},
   "source": [
    "### Import and join BENEFITS information"
   ]
  },
  {
   "cell_type": "code",
   "execution_count": null,
   "metadata": {
    "collapsed": false
   },
   "outputs": [],
   "source": [
    "bene_df = pandas_read_hdfs(infilenames[5],dtype_dict={'KEY':np.str})\n",
    "bene_df.shape"
   ]
  },
  {
   "cell_type": "code",
   "execution_count": null,
   "metadata": {
    "collapsed": false
   },
   "outputs": [],
   "source": [
    "bene_df.replace({'Y': 1, 'N':0},inplace=True)\n",
    "bene_df.head()"
   ]
  },
  {
   "cell_type": "code",
   "execution_count": null,
   "metadata": {
    "collapsed": false
   },
   "outputs": [],
   "source": [
    "#bene_df.columns"
   ]
  },
  {
   "cell_type": "code",
   "execution_count": null,
   "metadata": {
    "collapsed": false
   },
   "outputs": [],
   "source": [
    "# rename 'COUNT               ' 'DEP_COUNT'\n",
    "bene_df = bene_df.rename(columns={'COUNT               ':'DEP_COUNT'})"
   ]
  },
  {
   "cell_type": "code",
   "execution_count": null,
   "metadata": {
    "collapsed": false
   },
   "outputs": [],
   "source": [
    "[sum(bene_df[c].isnull()) for c in bene_df.columns]"
   ]
  },
  {
   "cell_type": "code",
   "execution_count": null,
   "metadata": {
    "collapsed": false
   },
   "outputs": [],
   "source": [
    "bene_df.HAVE_INS.sum() == len(bene_df)"
   ]
  },
  {
   "cell_type": "code",
   "execution_count": null,
   "metadata": {
    "collapsed": true
   },
   "outputs": [],
   "source": [
    "empl_bene = pd.merge(empltbl3,bene_df,on='KEY',how = 'left')"
   ]
  },
  {
   "cell_type": "code",
   "execution_count": null,
   "metadata": {
    "collapsed": false
   },
   "outputs": [],
   "source": [
    "len(empl_bene),empl_bene.VOLINVOL.value_counts()"
   ]
  },
  {
   "cell_type": "markdown",
   "metadata": {},
   "source": [
    "## Encode some categorical variables that are complete\n",
    "0. fill in benefit column, missing counts as 0\n",
    "1. volinvol status  into sep_status\n",
    "2. MAR_STA_SNAME_SFI into mar_status\n",
    "3. create a 5code zipcode from POSTAL_SFI (missing flagged as XXXXX)"
   ]
  },
  {
   "cell_type": "code",
   "execution_count": null,
   "metadata": {
    "collapsed": false
   },
   "outputs": [],
   "source": [
    "empl_bene[bene_df.columns] = empl_bene[bene_df.columns].fillna(0)\n",
    "empl_bene['DEP_COUNT'].describe()"
   ]
  },
  {
   "cell_type": "code",
   "execution_count": null,
   "metadata": {
    "collapsed": false
   },
   "outputs": [],
   "source": [
    "#empl_ben\n",
    "#encode the VOLINVOL column as ['INVOLUNTARY':2,'VOLUNTARY':1,'NOT':0,'\n",
    "empl_bene['sep_status'] = empl_bene['VOLINVOL'].replace({'NOT':0,'VOLUNTARY':1,'INVOLUNTARY':2,'OTHER':3,'UNKNOWN':3})\n",
    "print empl_bene.sep_status.value_counts()\n",
    "empl_bene.drop('VOLINVOL',axis=1,inplace=True)"
   ]
  },
  {
   "cell_type": "code",
   "execution_count": null,
   "metadata": {
    "collapsed": false
   },
   "outputs": [],
   "source": [
    "## deal with MAR_STA_SNAME_SFI\n",
    "empl_bene['mar_status'] = empl_bene['MAR_STA_SNAME_SFI'].replace({'MARRIED':0,'SINGLE':1,'LEG SEPAR':2})\n",
    "#, SINGLE, LEG SEPAR#{'NOT':0,'VOLUNTARY':1,'INVOLUNTARY':2,'OTHER':3,'UNKNOWN':3})\n",
    "print empl_bene.mar_status.value_counts()\n",
    "empl_bene.drop('MAR_STA_SNAME_SFI',axis=1,inplace=True)"
   ]
  },
  {
   "cell_type": "code",
   "execution_count": null,
   "metadata": {
    "collapsed": false
   },
   "outputs": [],
   "source": [
    "## try to deal with location via zipcode\n",
    "empl_bene['zip5'] = empl_bene['POSTAL_SFI'].apply(lambda(x): truncate_postal_zip(x))\n",
    "empl_bene.drop('POSTAL_SFI',axis=1,inplace=True)\n",
    "empl_bene['zip5'].unique()"
   ]
  },
  {
   "cell_type": "markdown",
   "metadata": {},
   "source": [
    "### assign random numbers to the indices"
   ]
  },
  {
   "cell_type": "code",
   "execution_count": null,
   "metadata": {
    "collapsed": false
   },
   "outputs": [],
   "source": [
    "import random"
   ]
  },
  {
   "cell_type": "code",
   "execution_count": null,
   "metadata": {
    "collapsed": false
   },
   "outputs": [],
   "source": [
    "list_of_indices = list(range(empl_bene.KEY.nunique()))\n",
    "print len(list_of_indices )\n",
    "random.seed(883321)\n",
    "#new_indices = [x for x in random.shuffle(list_of_indices)\n",
    "random.shuffle(list_of_indices)#, len(list_of_indices))"
   ]
  },
  {
   "cell_type": "code",
   "execution_count": null,
   "metadata": {
    "collapsed": false
   },
   "outputs": [],
   "source": [
    "empl_bene.index = list_of_indices # note that random.shuffle does this shuffling inplace\n",
    "empl_bene.sort_index(inplace=True)\n",
    "empl_bene.head()"
   ]
  },
  {
   "cell_type": "code",
   "execution_count": null,
   "metadata": {
    "collapsed": true
   },
   "outputs": [],
   "source": [
    "#\n",
    "time_checking_cols = [a for a in date_columns]\n",
    "time_checking_cols.append('Tenure_months')\n",
    "time_checking_cols.append('Age_years')\n",
    "time_checking_cols.append('CUR_LOC_MOS')"
   ]
  },
  {
   "cell_type": "code",
   "execution_count": null,
   "metadata": {
    "collapsed": false
   },
   "outputs": [],
   "source": [
    "#empl_bene[empl_bene.ACTRES1.isnull()][['LOC_STATE','TERMINATION_DT','HIRE_DT','status','COMPANY','KEY']]"
   ]
  },
  {
   "cell_type": "code",
   "execution_count": null,
   "metadata": {
    "collapsed": false
   },
   "outputs": [],
   "source": [
    "sdf = summarize_dataframe2(empl_bene)\n",
    "sdf.sort('x_missing')"
   ]
  },
  {
   "cell_type": "markdown",
   "metadata": {},
   "source": [
    "# Deal with missing values"
   ]
  },
  {
   "cell_type": "code",
   "execution_count": null,
   "metadata": {
    "collapsed": false
   },
   "outputs": [],
   "source": [
    "columns_without_missing_values = list(sdf[sdf.x_missing == 0].Column.values)\n",
    "columns_with_missing_values = list(sdf[sdf.x_missing > 0].Column.values)\n",
    "print len(columns_with_missing_values), len(sdf)"
   ]
  },
  {
   "cell_type": "markdown",
   "metadata": {},
   "source": [
    "### so 81 of 186 columns have missing values still. Work on Correcting these.\n",
    "#### some logic:\n",
    "* if it is a count (like ADDRCNT*) set missing to -1\n",
    "* if it is an ACTION REASON, set to 'MISSING' (like ACTRES1)\n",
    "* if it is a performance assessment (like BOX*) set to 0; L will become 1, S will become 2, H will become 3.\n",
    "* if it is a float (like MERIT*, PERF*, ...) try to reassign by imputation.\n",
    "* assign a value:\n",
    "    * if 'HAVE_INS' or 'HAVE_DEP' assign 0, 0 to values"
   ]
  },
  {
   "cell_type": "code",
   "execution_count": null,
   "metadata": {
    "collapsed": true
   },
   "outputs": [],
   "source": [
    "chg_to_zero_cols = ['BOX1','BOX2','BOX3','BOX4','BOX5','BOX6','BOX7','BOX8','BOX9','BOX10']\n",
    "#['HAVE_INS','HAVE_DEP','DEP_COUNT','BOX1','BOX2','BOX3','BOX4','BOX5','BOX6','BOX7','BOX8','BOX9','BOX10']\n",
    "chg_to_neg_one_cols = ['ADDRCNT1','ADDRCNT3','ADDRCNT5','ADDRCNT10',\n",
    "                           'DIRECT_RPT_CNT', 'DIVISION_CODE_SFI','EXTFUNC_CNT','FUNC_CNT','TOTAL_RPT_CNT']\n",
    "                          \n",
    "chg_to_MISSING_cols = ['ACTRES1','ACTRES2','ACTRES3','ACTRES4','ACTRES5','ACTRES6','ACTRES7','ACTRES8','ACTRES9','ACTRES10',\n",
    "                      'ADDRESS1','JOB_FAMILY','LOC_CITY','LOC_TYPE_DESCR_SFI','SKEY',\n",
    "                      'RATE1', 'RATE10', 'RATE2', 'RATE3', 'RATE4', 'RATE5', 'RATE6', 'RATE7', 'RATE8', 'RATE9',]\n",
    "#chg_to_MISSING =['ACTRES1','ACTRES2','ADDRESS1','JOB_FAMILY', 'LOC_CITY','LOC_TYPE_DESCR_SFI']#'POSTAL_SFI',\n",
    "chg_to_00000 = ['EXT_FUNC_ID_SFI','FUNC_ID_SFI']#,'zip5']\n",
    "chg_to_XXX = ['GRADE','JOB_FUNCTION']\n",
    "chg_to_XX = ['LOC_STATE']\n",
    "col_to_drop = ['STATE','ADDRESS2','MAR_STATUS_DT'] # drop 'STATE'; some strange values; 'address2 x_missing too high'"
   ]
  },
  {
   "cell_type": "code",
   "execution_count": null,
   "metadata": {
    "collapsed": false
   },
   "outputs": [],
   "source": [
    "# lump these together\n",
    "correcting_col_list = [chg_to_zero_cols,chg_to_neg_one_cols,chg_to_MISSING_cols,chg_to_00000,chg_to_XXX,chg_to_XX,col_to_drop]\n",
    "print sum([len(x) for x in correcting_col_list])"
   ]
  },
  {
   "cell_type": "code",
   "execution_count": null,
   "metadata": {
    "collapsed": false
   },
   "outputs": [],
   "source": [
    "set_missing_cols_yet_to_fix = set(columns_with_missing_values)-set(chain.from_iterable(correcting_col_list))\n",
    "print len(set_missing_cols_yet_to_fix)"
   ]
  },
  {
   "cell_type": "code",
   "execution_count": null,
   "metadata": {
    "collapsed": false
   },
   "outputs": [],
   "source": [
    "replace_float_cols = ['MERIT1', 'MERIT10', 'MERIT2', 'MERIT3', 'MERIT4', 'MERIT5', 'MERIT6', 'MERIT7', 'MERIT8', 'MERIT9', \n",
    "                      'PERF1','PERF2','PERF3','PERF4', 'PERF5','PERF6','PERF7','PERF8', 'PERF9', 'PERF10',\n",
    "                      'SAL10', 'SAL2', 'SAL3', 'SAL4', 'SAL5', 'SAL6', 'SAL7', 'SAL8', 'SAL9']\n",
    "len(replace_float_cols)"
   ]
  },
  {
   "cell_type": "code",
   "execution_count": null,
   "metadata": {
    "collapsed": false
   },
   "outputs": [],
   "source": [
    "set_missing_cols_yet_to_fix - set(replace_float_cols) # good empty set."
   ]
  },
  {
   "cell_type": "markdown",
   "metadata": {},
   "source": [
    "### apply the logic for the above columns"
   ]
  },
  {
   "cell_type": "code",
   "execution_count": null,
   "metadata": {
    "collapsed": true
   },
   "outputs": [],
   "source": [
    "replace_code = [0,-1,'MISSING','00000','XXX','XX','drop'] #poor man's dictionary"
   ]
  },
  {
   "cell_type": "code",
   "execution_count": null,
   "metadata": {
    "collapsed": false
   },
   "outputs": [],
   "source": [
    "empl = empl_bene.copy()\n",
    "for id,col_list in enumerate(correcting_col_list):\n",
    "    print id, len(col_list), replace_code[id]\n",
    "    \n",
    "    if replace_code[id] == 'drop':\n",
    "        empl.drop(col_list,axis=1,inplace=True)\n",
    "        #print col_list\n",
    "    else:\n",
    "        empl[col_list]=empl[col_list].fillna(replace_code[id]).copy()"
   ]
  },
  {
   "cell_type": "markdown",
   "metadata": {},
   "source": [
    "## Create a column for Retired based upon ACTRES1"
   ]
  },
  {
   "cell_type": "code",
   "execution_count": null,
   "metadata": {
    "collapsed": false
   },
   "outputs": [],
   "source": [
    "## define the possible retire_codes first\n",
    "## identify unique actres1 listing\n",
    "# look at the list of ACTRES1 for  ReTIREMENT\n",
    "uniq_action_reasons_1 = empl.ACTRES1.unique()\n",
    "print len(uniq_action_reasons_1)\n",
    "temp_list = [x.split(';') for x in uniq_action_reasons_1]\n",
    "\n",
    "act_reason_1_list = list(chain.from_iterable(temp_list))\n",
    "print len(act_reason_1_list)\n",
    "# identify those that are Retirement related\n",
    "\n",
    "possible_retire_codes = [x for x in list(set(act_reason_1_list)) if ('RET' in x and  'RETURN' not in x) ]\n",
    "# If one wants to flag DISABILITY add the next line\n",
    "#possible_retire_codes.append('DISABILITY')\n",
    "print len(possible_retire_codes)\n",
    "possible_retire_codes"
   ]
  },
  {
   "cell_type": "code",
   "execution_count": null,
   "metadata": {
    "collapsed": false
   },
   "outputs": [],
   "source": [
    "# function to generate flag\n",
    "def identify_retired(x,ret_codes =possible_retire_codes):\n",
    "    matched = [a for a in x.split(';') if a in ret_codes]\n",
    "    if len(matched):\n",
    "        return 1\n",
    "    else:\n",
    "        return 0"
   ]
  },
  {
   "cell_type": "code",
   "execution_count": null,
   "metadata": {
    "collapsed": false
   },
   "outputs": [],
   "source": [
    "empl['retired'] = empl.ACTRES1.apply(lambda x: identify_retired(x))"
   ]
  },
  {
   "cell_type": "markdown",
   "metadata": {
    "collapsed": false
   },
   "source": [
    "## begin to Standardize some of these other columns\n",
    "1. BOX columns: missing -> 0, L -> 1, S -> 2, H -> 3\n",
    "2. RATE columns: use dictionary; missing -> 0, \n"
   ]
  },
  {
   "cell_type": "code",
   "execution_count": null,
   "metadata": {
    "collapsed": false
   },
   "outputs": [],
   "source": [
    "### For BOX replace S with 2, H with 3, L with 1\n",
    "box_col_list = [x for x in empl.columns if x.startswith('BOX')]\n",
    "print len(box_col_list)\n",
    "empl[box_col_list] = empl[box_col_list].replace({'H':3,'S':2,'L':1}).copy()\n",
    "empl[box_col_list].head()"
   ]
  },
  {
   "cell_type": "markdown",
   "metadata": {},
   "source": [
    "## Simpler conversion of RATE* to 3 levels: Low, Solid or High\n",
    "dictionary below from Ron Davis"
   ]
  },
  {
   "cell_type": "code",
   "execution_count": null,
   "metadata": {
    "collapsed": true
   },
   "outputs": [],
   "source": [
    "# dictonary of ratings\n",
    "ratings_dict = {}\n",
    "high_ratings = ['R3C3','R3C2','L3EXC','L3-EXC','OTSD','L3PRO','L3-PRO',\n",
    "                'EXCELS','SUPR','EXC/SUS','EXC/IMP','PEXE','ME - MEETS']\n",
    "low_ratings = ['IMPR','L1INC','L1DEV','L1PRO','NTAC','R1C2','R1C3','INC/DEC',\n",
    "               'INC/SUS','INC/IMP','INCNSSTE','L1EXC','UNAC','R1C1','L2-INC','L2INC',\n",
    "               'L1-EXC','L1-PRO','BEXP','L1-DEV','L1-INC','DNM - DOES','R3C1','R2C1']\n",
    "solid_ratings = ['R2C3','R2C2','L2EXC','L2PRO','EXPE','/EX/','COMM','AOBJ','EXC/DEC',\n",
    "                 'PRO/IMP','PRO/SUS','PRO/DEC','SM - SUCCE','MS - MEETS','L2DEV','L3INC',\n",
    "                 'L3DEV','L2-DEV','L3-INC','ACPT','L3-DEV','L2-EXC','L2-PRO']\n",
    "\n",
    "# initialize\n",
    "for rating in high_ratings:\n",
    "    ratings_dict[rating] = 3\n",
    "for rating in low_ratings:\n",
    "    ratings_dict[rating]=1\n",
    "for rating in solid_ratings:\n",
    "    ratings_dict[rating]=2\n",
    "\n",
    "# function for assigning\n",
    "def assign_simple_rating(x,my_dict = ratings_dict):\n",
    "    try:\n",
    "        rval = my_dict[x.strip()]\n",
    "    except KeyError:\n",
    "        rval = 0\n",
    "    return rval\n"
   ]
  },
  {
   "cell_type": "code",
   "execution_count": null,
   "metadata": {
    "collapsed": false
   },
   "outputs": [],
   "source": [
    "### For Rate replace solid with 2, High with 3, Low with 1\n",
    "rate_col_list = [x for x in empl.columns if x.startswith('RATE')]\n",
    "print len(rate_col_list)\n",
    "empl[rate_col_list] = empl[rate_col_list].applymap(lambda x: assign_simple_rating(x))\n",
    "#empl[rate_col_list] = empl[rate_col_list].map(lambda(x): assign_simple_rating(x)).copy()\n",
    "empl[rate_col_list].head()"
   ]
  },
  {
   "cell_type": "code",
   "execution_count": null,
   "metadata": {
    "collapsed": false
   },
   "outputs": [],
   "source": [
    "binary_cols = list(sdf[sdf.arity == 2].Column.values)\n",
    "print binary_cols"
   ]
  },
  {
   "cell_type": "code",
   "execution_count": null,
   "metadata": {
    "collapsed": true
   },
   "outputs": [],
   "source": []
  },
  {
   "cell_type": "code",
   "execution_count": null,
   "metadata": {
    "collapsed": false
   },
   "outputs": [],
   "source": [
    "sdf[sdf.arity == 2]"
   ]
  },
  {
   "cell_type": "markdown",
   "metadata": {},
   "source": [
    "### use scikitlearn to label encode binary features: \n",
    "* N--> 0, Y --> 1\n",
    "* M--> 1, F --> 0\n",
    "* A-->0, H--> 1"
   ]
  },
  {
   "cell_type": "code",
   "execution_count": null,
   "metadata": {
    "collapsed": false
   },
   "outputs": [],
   "source": [
    "for col in binary_cols[:-3]:\n",
    "    empl[col] = label_encoder.fit_transform(empl[col]) # use sklearn.preprocesing.LabelEncoder()"
   ]
  },
  {
   "cell_type": "code",
   "execution_count": null,
   "metadata": {
    "collapsed": false
   },
   "outputs": [],
   "source": [
    "empl[col].value_counts(), col"
   ]
  },
  {
   "cell_type": "code",
   "execution_count": null,
   "metadata": {
    "collapsed": false
   },
   "outputs": [],
   "source": [
    "sdf2 = summarize_dataframe2(empl)"
   ]
  },
  {
   "cell_type": "code",
   "execution_count": null,
   "metadata": {
    "collapsed": false
   },
   "outputs": [],
   "source": [
    "sdf2[sdf2.arity == 19]"
   ]
  },
  {
   "cell_type": "markdown",
   "metadata": {},
   "source": [
    "###check on various  encoded variables\n",
    "* arity = 3,Fine\n",
    "* arity = 4, for 'SHIFT' map 'N' --> 0 and make FULL_PART_TIME categorical\n",
    "* arity = 5 -- make EMPL_TYPE to categorical\n",
    "* arity = 6, fine\n",
    "* arity = 7, make COMPANY categorical\n",
    "* arity = 8,9,10, fine\n",
    "* arity = 11: EEO1CODE to categorical\n",
    "* arity = 12: EMPL_CLASS to categorical\n",
    "* arity = 19: JOB_FUNCTION to categorical"
   ]
  },
  {
   "cell_type": "code",
   "execution_count": null,
   "metadata": {
    "collapsed": false
   },
   "outputs": [],
   "source": [
    "### convert shift == N to 0\n",
    "empl.replace({'SHIFT':{'N':0}},inplace=True)\n",
    "empl.SHIFT.value_counts()"
   ]
  },
  {
   "cell_type": "code",
   "execution_count": null,
   "metadata": {
    "collapsed": false
   },
   "outputs": [],
   "source": [
    "cols_to_cat = ['FULL_PART_TIME','EMPL_TYPE','COMPANY','EEO1CODE','EMPL_CLASS','JOB_FUNCTION']\n",
    "# arity <=19"
   ]
  },
  {
   "cell_type": "code",
   "execution_count": null,
   "metadata": {
    "collapsed": false
   },
   "outputs": [],
   "source": [
    "empl.FULL_PART_TIME.value_counts()"
   ]
  },
  {
   "cell_type": "code",
   "execution_count": null,
   "metadata": {
    "collapsed": false
   },
   "outputs": [],
   "source": [
    "empl.COMPANY.value_counts()/len(empl)"
   ]
  },
  {
   "cell_type": "code",
   "execution_count": null,
   "metadata": {
    "collapsed": false
   },
   "outputs": [],
   "source": [
    "other_categorical_cols = list(sdf2[(sdf2.datatype == 'object') & (sdf2.arity >19)].sort('arity').Column)\n",
    "other_categorical_cols"
   ]
  },
  {
   "cell_type": "code",
   "execution_count": null,
   "metadata": {
    "collapsed": false
   },
   "outputs": [],
   "source": [
    "cols_to_encode = other_categorical_cols[:6]\n",
    "cols_to_encode.append('JOBCODE')\n",
    "cols_to_encode"
   ]
  },
  {
   "cell_type": "code",
   "execution_count": null,
   "metadata": {
    "collapsed": false
   },
   "outputs": [],
   "source": [
    "cols_to_ignore = other_categorical_cols[8:]\n",
    "cols_to_ignore.append('LOC_CITY')\n",
    "cols_to_ignore"
   ]
  },
  {
   "cell_type": "markdown",
   "metadata": {},
   "source": [
    "## TRY TO FILL IN MISSING AND non-sense Float values\n",
    "SAL*, PERF*, MERIT* \n",
    "\n",
    "replace_float_cols"
   ]
  },
  {
   "cell_type": "code",
   "execution_count": null,
   "metadata": {
    "collapsed": false
   },
   "outputs": [],
   "source": [
    "### first identify the missing cases\n",
    "sum(empl[replace_float_cols[1]].isnull())"
   ]
  },
  {
   "cell_type": "code",
   "execution_count": null,
   "metadata": {
    "collapsed": false
   },
   "outputs": [],
   "source": [
    "for c in replace_float_cols[:-2]:\n",
    "    print c, sum(empl[c].isnull())"
   ]
  },
  {
   "cell_type": "code",
   "execution_count": null,
   "metadata": {
    "collapsed": false
   },
   "outputs": [],
   "source": [
    "sum(empl.FULL_PART_TIME.isnull())"
   ]
  },
  {
   "cell_type": "code",
   "execution_count": null,
   "metadata": {
    "collapsed": false
   },
   "outputs": [],
   "source": [
    "## save the data\n",
    "print empl.shape\n",
    "empl.to_csv('employee_dataframe8.tsv',sep='\\t',index=False)"
   ]
  },
  {
   "cell_type": "code",
   "execution_count": 3,
   "metadata": {
    "collapsed": false
   },
   "outputs": [
    {
     "name": "stdout",
     "output_type": "stream",
     "text": [
      "/home/kesj/work/hrsepara/eda\n",
      "c2_EAS.ssv                   employee_dataframe.tsv\r\n",
      "cp_SR_EAS.txt                employee_df_1.csv\r\n",
      "empl1_aaf_1_ci.pkl           employee_df_2.csv\r\n",
      "empl_aaf_1_hazards.pkl       employee_table_summary_3.csv\r\n",
      "empl_aaf_1.pkl               employee_table_summary.csv\r\n",
      "employee_dataframe3.ssv      fourthousand_rfsc1.RData\r\n",
      "employee_dataframe4.tsv      fthou_rf_sepTen.RData\r\n",
      "employee_dataframe5.tsv      histret_mod\r\n",
      "employee_dataframe6.tsv      SBR\r\n",
      "employee_dataframe7long.tsv  sbr_mod\r\n",
      "employee_dataframe8.tsv      tree.dot\r\n",
      "employee_dataframe.ssv       \u001b[0m\u001b[01;32mus_unemployment_monthly_seas.csv\u001b[0m*\r\n",
      "\u001b[m"
     ]
    }
   ],
   "source": [
    "%cd ../../work/hrsepara/eda/\n",
    "%ls"
   ]
  },
  {
   "cell_type": "code",
   "execution_count": null,
   "metadata": {
    "collapsed": true
   },
   "outputs": [],
   "source": [
    "empl6 = pd.read_csv("
   ]
  },
  {
   "cell_type": "markdown",
   "metadata": {},
   "source": [
    "## May 6, 2015.\n",
    "\n",
    "The above dataset fails to save correctly -- probably too long.\n",
    "### attempt to encode some of the features already.\n",
    "\n"
   ]
  },
  {
   "cell_type": "markdown",
   "metadata": {},
   "source": [
    "# Transform to categorical if <= 19 in arity\n",
    "* one-hot encoding"
   ]
  },
  {
   "cell_type": "code",
   "execution_count": null,
   "metadata": {
    "collapsed": false
   },
   "outputs": [],
   "source": [
    "print [(c,len(empl[c].unique())) for c in cols_to_cat]\n",
    "print \"base_categories\"\n",
    "print \"------------------------\"\n",
    "[(a,empl[a].value_counts().head(1)) for a in cols_to_cat]"
   ]
  },
  {
   "cell_type": "code",
   "execution_count": null,
   "metadata": {
    "collapsed": true
   },
   "outputs": [],
   "source": [
    "def create_factorized_df(input_df,column_name):\n",
    "    tmp_df = pd.get_dummies(input_df[column_name],prefix=column_name)\n",
    "    # now drop the largest category\n",
    "    lgst_category = input_df[column_name].value_counts().index[0]\n",
    "    #print tmp_df.shape, tmp_df.columns\n",
    "    #print lgst_category\n",
    "    base_category = column_name+'_'+str(lgst_category)\n",
    "    tmp_df.drop(base_category,axis=1,inplace=True)\n",
    "    print tmp_df.shape, base_category\n",
    "    return tmp_df,base_category\n",
    "    "
   ]
  },
  {
   "cell_type": "code",
   "execution_count": null,
   "metadata": {
    "collapsed": false
   },
   "outputs": [],
   "source": [
    "# create a dummified dataframe.\n",
    "base_category_list =[]\n",
    "print empl.shape\n",
    "for acol in cols_to_cat:\n",
    "    print acol\n",
    "    t_df,bc1 = create_factorized_df(empl,acol)\n",
    "    # drop the original column\n",
    "    empl.drop(acol,inplace=True,axis=1)\n",
    "    # append the factorized categories\n",
    "    empl = pd.concat([empl,t_df],axis=1)\n",
    "    base_category_list.append(bc1)\n",
    "\n",
    "print empl.shape,len(base_category_list)"
   ]
  },
  {
   "cell_type": "markdown",
   "metadata": {},
   "source": [
    "### encode the other 'categorical' columns"
   ]
  },
  {
   "cell_type": "markdown",
   "metadata": {},
   "source": [
    "## just use label_encoding -- need to improve this later\n"
   ]
  },
  {
   "cell_type": "code",
   "execution_count": null,
   "metadata": {
    "collapsed": false
   },
   "outputs": [],
   "source": [
    "for col in cols_to_encode:\n",
    "    print col, len(empl[col].unique())\n",
    "    empl[col] = label_encoder.fit_transform(empl[col]) # use sklearn.preprocesing.LabelEncoder()"
   ]
  },
  {
   "cell_type": "code",
   "execution_count": null,
   "metadata": {
    "collapsed": true
   },
   "outputs": [],
   "source": []
  },
  {
   "cell_type": "code",
   "execution_count": null,
   "metadata": {
    "collapsed": false
   },
   "outputs": [],
   "source": [
    "[x for x in empl.columns if x.startswith('Ten')]"
   ]
  },
  {
   "cell_type": "code",
   "execution_count": null,
   "metadata": {
    "collapsed": true
   },
   "outputs": [],
   "source": []
  },
  {
   "cell_type": "markdown",
   "metadata": {},
   "source": [
    "### READ the data May 5, 2015"
   ]
  },
  {
   "cell_type": "code",
   "execution_count": null,
   "metadata": {
    "collapsed": false
   },
   "outputs": [],
   "source": [
    "empl[empl.columns[182]].head()"
   ]
  },
  {
   "cell_type": "code",
   "execution_count": null,
   "metadata": {
    "collapsed": false
   },
   "outputs": [],
   "source": [
    "empl2 = pd.read_csv('employee_dataframe8.tsv',sep='\\t')\n",
    "empl2.head(), empl2.shape"
   ]
  },
  {
   "cell_type": "code",
   "execution_count": null,
   "metadata": {
    "collapsed": false
   },
   "outputs": [],
   "source": [
    "## Look at medians of SAL*\n",
    "empl.SAL2.describe(), np.median(empl.SAL2)"
   ]
  },
  {
   "cell_type": "code",
   "execution_count": null,
   "metadata": {
    "collapsed": false
   },
   "outputs": [],
   "source": [
    "## replace by medians -- overal\n",
    "col_float_medians ={}\n",
    "for c in replace_float_cols:\n",
    "    col_float_medians[c] = np.median(empl[c])\n",
    "    empl[c].fillna(col_float_medians[c],inplace=True)\n",
    "\n",
    "col_float_medians\n"
   ]
  },
  {
   "cell_type": "markdown",
   "metadata": {},
   "source": [
    "## remove high-dimensional categorical data"
   ]
  },
  {
   "cell_type": "code",
   "execution_count": null,
   "metadata": {
    "collapsed": false
   },
   "outputs": [],
   "source": [
    "empl.drop(cols_to_ignore,inplace=True,axis=1)\n",
    "empl.shape"
   ]
  },
  {
   "cell_type": "markdown",
   "metadata": {},
   "source": [
    "# Transform to categorical if <= 19 in arity\n",
    "* one-hot encoding"
   ]
  },
  {
   "cell_type": "code",
   "execution_count": null,
   "metadata": {
    "collapsed": false
   },
   "outputs": [],
   "source": [
    "[len(empl[c].unique()) for c in cols_to_cat]"
   ]
  },
  {
   "cell_type": "code",
   "execution_count": null,
   "metadata": {
    "collapsed": false
   },
   "outputs": [],
   "source": [
    "print \"base_categories\"\n",
    "print \"------------------------\"\n",
    "[(a,empl[a].value_counts().head(1)) for a in cols_to_cat]"
   ]
  },
  {
   "cell_type": "markdown",
   "metadata": {},
   "source": [
    "# Now it is ready to use as input into scikitLearn as a matrix\n",
    "The standard notation is to define this as X and save it as a float type\n",
    "Don't forget to create a response variable, y\n",
    "\n",
    "### since the goal is to determine number of separation in a future time point, maybe I should create a target that is the number of tenure years."
   ]
  },
  {
   "cell_type": "code",
   "execution_count": null,
   "metadata": {
    "collapsed": true
   },
   "outputs": [],
   "source": []
  },
  {
   "cell_type": "markdown",
   "metadata": {},
   "source": [
    "## try to apply a rule to grouping categories together\n",
    "* maybe insure that sum of others <= thresh hold (0.005)\n"
   ]
  },
  {
   "cell_type": "code",
   "execution_count": null,
   "metadata": {
    "collapsed": false
   },
   "outputs": [],
   "source": [
    "sdf2[sdf2.Column.isin(cols_to_encode)]"
   ]
  },
  {
   "cell_type": "code",
   "execution_count": null,
   "metadata": {
    "collapsed": false
   },
   "outputs": [],
   "source": [
    "empl.EXT_FUNC_ID_SFI.value_counts()"
   ]
  },
  {
   "cell_type": "code",
   "execution_count": null,
   "metadata": {
    "collapsed": false
   },
   "outputs": [],
   "source": [
    "def apply_thresh(series,thresh=0.003,verbose=False):\n",
    "    myvals = series.value_counts()\n",
    "    n = len(series)\n",
    "    my_thresh = thresh*n\n",
    "    if verbose:\n",
    "        print \"ORIGINAL \\n\"\n",
    "        print myvals/n\n",
    "        print \"_++______\"\n",
    "    print \"{0} original categories reduced to {1} final categories\".format(len(myvals), len(myvals[myvals>my_thresh]))\n",
    "    catchall = myvals[myvals<=my_thresh]\n",
    "    \n",
    "    catchallfrac = catchall.sum()/float(n)\n",
    "    print \"{0} categories grouped into catch-all with {1:.6f} total fraction\".format(len(myvals[myvals<=my_thresh]),catchallfrac)\n",
    "    print \"__________________________\"\n",
    "    categories_to_group = list(catchall.index)\n",
    "    print categories_to_group\n",
    "    #series[series.isin(categories_to_group)] = 'ZZ_other'\n",
    "    return categories_to_group\n",
    "    #print myvals[myvals>my_thresh]\n",
    "    "
   ]
  },
  {
   "cell_type": "code",
   "execution_count": null,
   "metadata": {
    "collapsed": false
   },
   "outputs": [],
   "source": [
    "e2 = apply_thresh(empl.LOC_STATE)\n"
   ]
  },
  {
   "cell_type": "code",
   "execution_count": null,
   "metadata": {
    "collapsed": false
   },
   "outputs": [],
   "source": [
    "empl.loc[empl.LOC_STATE.isin(e2),'LOC_STATE']='ZZ_other'\n",
    "empl.LOC_STATE.value_counts()"
   ]
  },
  {
   "cell_type": "code",
   "execution_count": null,
   "metadata": {
    "collapsed": false
   },
   "outputs": [],
   "source": [
    "#apply_thresh(empl[cols_to_cat[5]])\n",
    "apply_thresh(empl['EMPL_CLASS'],thresh=0.001,verbose=True)"
   ]
  },
  {
   "cell_type": "code",
   "execution_count": null,
   "metadata": {
    "collapsed": false
   },
   "outputs": [],
   "source": [
    "empl.LOC_TYPE_DESCR_SFI.value_counts()"
   ]
  },
  {
   "cell_type": "code",
   "execution_count": null,
   "metadata": {
    "collapsed": false
   },
   "outputs": [],
   "source": [
    "print len(empl[empl.REMOTE==1])\n",
    "empl[empl.REMOTE==1]['LOC_TYPE_DESCR_SFI'].value_counts()"
   ]
  },
  {
   "cell_type": "code",
   "execution_count": null,
   "metadata": {
    "collapsed": false
   },
   "outputs": [],
   "source": [
    "empl[empl.JOB_FAMILY == 'CLMREP']['JOBCODE'].value_counts()"
   ]
  },
  {
   "cell_type": "code",
   "execution_count": null,
   "metadata": {
    "collapsed": false
   },
   "outputs": [],
   "source": [
    "#[sdf[x] for x in sdf.Column if x.endswith('SFI')]\n",
    "col_end_sfi = [x for x in list(sdf.Column.values) if x.endswith('SFI')]\n",
    "sdf[sdf.Column.isin(col_end_sfi)]"
   ]
  },
  {
   "cell_type": "code",
   "execution_count": null,
   "metadata": {
    "collapsed": false
   },
   "outputs": [],
   "source": [
    "empl_bene[empl_bene.EXT_FUNC_ID_SFI=='00000']#.unique()"
   ]
  },
  {
   "cell_type": "markdown",
   "metadata": {},
   "source": [
    "## get hire year"
   ]
  },
  {
   "cell_type": "code",
   "execution_count": null,
   "metadata": {
    "collapsed": false
   },
   "outputs": [],
   "source": [
    "atime = empl_bene['HIRE_DT'].ix[0]\n",
    "str(atime)"
   ]
  },
  {
   "cell_type": "code",
   "execution_count": null,
   "metadata": {
    "collapsed": false
   },
   "outputs": [],
   "source": [
    "str(atime)[5:7]"
   ]
  },
  {
   "cell_type": "code",
   "execution_count": null,
   "metadata": {
    "collapsed": false
   },
   "outputs": [],
   "source": [
    "empl_bene['hire_month'] = empl_bene['HIRE_DT'].apply(lambda x: int(str(x)[5:7]))\n",
    "empl_bene['hire_month'].hist(bins=12,color='darkorchid')"
   ]
  },
  {
   "cell_type": "code",
   "execution_count": null,
   "metadata": {
    "collapsed": false
   },
   "outputs": [],
   "source": [
    "empl_bene['hire_year'] = empl_bene['HIRE_DT'].apply(lambda x: int(str(x)[:4]))\n",
    "empl_bene.hire_year.describe()"
   ]
  },
  {
   "cell_type": "code",
   "execution_count": null,
   "metadata": {
    "collapsed": false
   },
   "outputs": [],
   "source": [
    "empl_bene.hire_year.hist(bins=70)"
   ]
  },
  {
   "cell_type": "markdown",
   "metadata": {},
   "source": [
    "## how many are there if we require hire_date > some date?\n"
   ]
  },
  {
   "cell_type": "code",
   "execution_count": null,
   "metadata": {
    "collapsed": false
   },
   "outputs": [],
   "source": [
    "empl_bene.HIRE_DT.ix[0]"
   ]
  },
  {
   "cell_type": "code",
   "execution_count": null,
   "metadata": {
    "collapsed": false
   },
   "outputs": [],
   "source": [
    "test_hire_date = pd.to_datetime('2002-11-30') #datetime(2002,11,30)\n",
    "test_hire_date"
   ]
  },
  {
   "cell_type": "code",
   "execution_count": null,
   "metadata": {
    "collapsed": false
   },
   "outputs": [],
   "source": [
    "emplB = empl_bene[empl_bene.HIRE_DT > test_hire_date].copy()\n",
    "print len(emplB)\n",
    "print emplB.status.value_counts()\n",
    "print emplB.sep_status.value_counts()\n"
   ]
  },
  {
   "cell_type": "code",
   "execution_count": null,
   "metadata": {
    "collapsed": false
   },
   "outputs": [],
   "source": [
    "#test_term_date = #test_hire_date\n",
    "test_term_date = pd.to_datetime('2002-12-31')\n",
    "emplC= empl[empl.TERMINATION_DT > test_term_date].copy()\n",
    "print len(emplC)\n",
    "print emplC.status.value_counts()\n",
    "print emplC.sep_status.value_counts()"
   ]
  },
  {
   "cell_type": "code",
   "execution_count": null,
   "metadata": {
    "collapsed": false
   },
   "outputs": [],
   "source": [
    "emplC.RATE1.value_counts()"
   ]
  },
  {
   "cell_type": "code",
   "execution_count": null,
   "metadata": {
    "collapsed": true
   },
   "outputs": [],
   "source": [
    "def split_rate_column(x):\n",
    "    list_of_defined_values = ['R1C1','R1C2','R1C3',\n",
    "                              'R2C1','R2C2','R2C3',\n",
    "                              'R3C1','R3C2','R3C3']\n",
    "    #rcol=[]\n",
    "    #ccol=[]\n",
    "    if x in list_of_defined_values:\n",
    "        rval = int(x[1])#col.append(x[1])\n",
    "        cval = int(x[3]) #col.append(x[3])\n",
    "        #print x[1],x[3]\n",
    "    else:\n",
    "        #rcol.append(0)\n",
    "        #ccol.append(0)\n",
    "        rval = 0\n",
    "        cval = 0\n",
    "    return rval,cval"
   ]
  },
  {
   "cell_type": "code",
   "execution_count": null,
   "metadata": {
    "collapsed": false
   },
   "outputs": [],
   "source": [
    "#rcol,ccol = \n",
    "input_column = 'RATE1'\n",
    "rval = [x[0] for x in emplC[input_column].apply(lambda(x): split_rate_column(x)).as_matrix()]\n",
    "cval = [x[1] for x in emplC[input_column].apply(lambda(x): split_rate_column(x)).as_matrix()]"
   ]
  },
  {
   "cell_type": "code",
   "execution_count": null,
   "metadata": {
    "collapsed": false
   },
   "outputs": [],
   "source": [
    "emplC[input_column+'_R'] = rval\n",
    "emplC[input_column+'_C'] = cval\n",
    "emplC[['RATE1','RATE1_R','RATE1_C']].head()"
   ]
  },
  {
   "cell_type": "code",
   "execution_count": null,
   "metadata": {
    "collapsed": true
   },
   "outputs": [],
   "source": [
    "def convert_rate_column(df,input_column):\n",
    "    rval = [x[0] for x in df[input_column].apply(lambda(x): split_rate_column(x)).as_matrix()]\n",
    "    cval = [x[1] for x in df[input_column].apply(lambda(x): split_rate_column(x)).as_matrix()]\n",
    "    df[input_column+'_R'] = rval\n",
    "    df[input_column+'_C'] = cval\n",
    "    df.drop(input_column,inplace=True,axis=1)\n",
    "    return df"
   ]
  },
  {
   "cell_type": "code",
   "execution_count": null,
   "metadata": {
    "collapsed": false
   },
   "outputs": [],
   "source": [
    "### convert the RATINGS columns\n",
    "for col in ['RATE1','RATE2','RATE3','RATE4','RATE5','RATE6','RATE7','RATE8','RATE9','RATE10']:\n",
    "    print col\n",
    "    emplC = convert_rate_column(emplC,col)"
   ]
  },
  {
   "cell_type": "code",
   "execution_count": null,
   "metadata": {
    "collapsed": false
   },
   "outputs": [],
   "source": [
    "emplC.shape"
   ]
  },
  {
   "cell_type": "markdown",
   "metadata": {
    "collapsed": false
   },
   "source": [
    "## begin to Standardize some of these other columns\n",
    "\n"
   ]
  },
  {
   "cell_type": "code",
   "execution_count": null,
   "metadata": {
    "collapsed": false
   },
   "outputs": [],
   "source": [
    "empltbl3.EMPL_CLASS.value_counts(), empltbl3.EMPL_CLASS.unique()"
   ]
  },
  {
   "cell_type": "code",
   "execution_count": null,
   "metadata": {
    "collapsed": false
   },
   "outputs": [],
   "source": [
    "empltbl3.EMPL_TYPE.value_counts()"
   ]
  },
  {
   "cell_type": "code",
   "execution_count": null,
   "metadata": {
    "collapsed": false
   },
   "outputs": [],
   "source": [
    "pd.crosstab(empltbl3.EMPL_TYPE,empltbl3.EMPL_CLASS)"
   ]
  },
  {
   "cell_type": "code",
   "execution_count": null,
   "metadata": {
    "collapsed": false
   },
   "outputs": [],
   "source": [
    "pd.crosstab(empl.COMPANY,empl.EMPL_TYPE)"
   ]
  },
  {
   "cell_type": "code",
   "execution_count": null,
   "metadata": {
    "collapsed": false
   },
   "outputs": [],
   "source": [
    "pd.crosstab(empl.COMPANY,empl.EMPL_CLASS)"
   ]
  },
  {
   "cell_type": "code",
   "execution_count": null,
   "metadata": {
    "collapsed": false
   },
   "outputs": [],
   "source": [
    "pd.crosstab(emplC.COMPANY,emplC.EMPL_CLASS)"
   ]
  },
  {
   "cell_type": "code",
   "execution_count": null,
   "metadata": {
    "collapsed": false
   },
   "outputs": [],
   "source": [
    "empl[empl.COMPANY=='049'].LOC_STATE.value_counts()"
   ]
  },
  {
   "cell_type": "code",
   "execution_count": null,
   "metadata": {
    "collapsed": false
   },
   "outputs": [],
   "source": []
  },
  {
   "cell_type": "code",
   "execution_count": null,
   "metadata": {
    "collapsed": false
   },
   "outputs": [],
   "source": [
    "empl.COMPANY.value_counts()"
   ]
  },
  {
   "cell_type": "code",
   "execution_count": null,
   "metadata": {
    "collapsed": false
   },
   "outputs": [],
   "source": [
    "sdfC[sdfC.arity>4].sort('arity')"
   ]
  },
  {
   "cell_type": "code",
   "execution_count": null,
   "metadata": {
    "collapsed": false
   },
   "outputs": [],
   "source": [
    "print len(empltbl3.LEGACY_DEPT_SFI.unique())"
   ]
  },
  {
   "cell_type": "code",
   "execution_count": null,
   "metadata": {
    "collapsed": false
   },
   "outputs": [],
   "source": [
    "empltbl3.LEGACY_DEPT_SFI.value_counts()"
   ]
  },
  {
   "cell_type": "code",
   "execution_count": null,
   "metadata": {
    "collapsed": false
   },
   "outputs": [],
   "source": [
    "sdfC[sdfC['arity']<40000].sort('arity',ascending=False)"
   ]
  },
  {
   "cell_type": "code",
   "execution_count": null,
   "metadata": {
    "collapsed": false
   },
   "outputs": [],
   "source": [
    "len(empltbl3.LOCATION.unique()"
   ]
  },
  {
   "cell_type": "code",
   "execution_count": null,
   "metadata": {
    "collapsed": false
   },
   "outputs": [],
   "source": [
    "Bcolumns_without_missing_values = list(sdfB[sdfB.x_missing == 0].Column.values)\n",
    "Bcolumns_with_missing_values = list(sdfB[sdfB.x_missing > 0].Column.values)\n",
    "print len(Bcolumns_with_missing_values), len(sdfB)"
   ]
  },
  {
   "cell_type": "code",
   "execution_count": null,
   "metadata": {
    "collapsed": false
   },
   "outputs": [],
   "source": [
    "sdfB.sort('x_missing',ascending=False)"
   ]
  },
  {
   "cell_type": "code",
   "execution_count": null,
   "metadata": {
    "collapsed": false
   },
   "outputs": [],
   "source": [
    "sdf2 = summarize_dataframe2(empl)"
   ]
  },
  {
   "cell_type": "code",
   "execution_count": null,
   "metadata": {
    "collapsed": false
   },
   "outputs": [],
   "source": [
    "sdf2['x_missing'] = sdf2['nmissing']/len(empl)\n",
    "sdf2.sort('x_missing',ascending=False)"
   ]
  },
  {
   "cell_type": "code",
   "execution_count": null,
   "metadata": {
    "collapsed": false
   },
   "outputs": [],
   "source": [
    "columns_with_missing_values2 = list(sdf2[sdf2.x_missing>0].Column.values)\n",
    "len(columns_with_missing_values2)"
   ]
  },
  {
   "cell_type": "code",
   "execution_count": null,
   "metadata": {
    "collapsed": false
   },
   "outputs": [],
   "source": [
    "sdf2[(sdf2.x_missing>0) & (sdf2.datatype != 'float64')]#.datatype.unique()"
   ]
  },
  {
   "cell_type": "code",
   "execution_count": null,
   "metadata": {
    "collapsed": false
   },
   "outputs": [],
   "source": [
    "print len(empl.RATE1.unique()), \n",
    "print empl.RATE1.unique()"
   ]
  },
  {
   "cell_type": "code",
   "execution_count": null,
   "metadata": {
    "collapsed": false
   },
   "outputs": [],
   "source": [
    "empl.RATE1.value_counts()"
   ]
  },
  {
   "cell_type": "code",
   "execution_count": null,
   "metadata": {
    "collapsed": false
   },
   "outputs": [],
   "source": [
    "len(empl[empl.RATE1 == 'R3C1'])"
   ]
  },
  {
   "cell_type": "code",
   "execution_count": null,
   "metadata": {
    "collapsed": false
   },
   "outputs": [],
   "source": [
    "empl[empl.RATE1 == 'COMM']['TERMINATION_DT'].describe()#max()#[['hire_year','TERMINATION_DT','status','sep_status']]"
   ]
  },
  {
   "cell_type": "code",
   "execution_count": null,
   "metadata": {
    "collapsed": true
   },
   "outputs": [],
   "source": []
  },
  {
   "cell_type": "code",
   "execution_count": null,
   "metadata": {
    "collapsed": false
   },
   "outputs": [],
   "source": [
    "print sum(empl_bene.MAR_STATUS_DT.isnull())\n",
    "empl_bene[empl_bene.MAR_STATUS_DT.isnull()][['HIRE_DT','TERMINATION_DT','MAR_STA_SNAME_SFI']]"
   ]
  },
  {
   "cell_type": "code",
   "execution_count": null,
   "metadata": {
    "collapsed": true
   },
   "outputs": [],
   "source": []
  },
  {
   "cell_type": "code",
   "execution_count": null,
   "metadata": {
    "collapsed": false
   },
   "outputs": [],
   "source": [
    "\n",
    "#empl_bene.drop('STATE',axis=1,inplace=True)\n",
    "#pd.crosstab(empl_bene['STATE'],empl_bene['LOC_STATE'])"
   ]
  },
  {
   "cell_type": "code",
   "execution_count": null,
   "metadata": {
    "collapsed": false
   },
   "outputs": [],
   "source": [
    "set(columns_with_missing_values)-set(Bcolumns_with_missing_values)"
   ]
  },
  {
   "cell_type": "code",
   "execution_count": null,
   "metadata": {
    "collapsed": false
   },
   "outputs": [],
   "source": [
    "# look at these distributions\n",
    "plt.figure(figsize=(12,8))\n",
    "emplC[emplC.status==0].Age_years.hist(bins=70,range=[15,84],color='darkred',label='current',alpha=0.8,normed=True)\n",
    "emplC[emplC.status==1].Age_years.hist(bins=70,range=[15,84],color='dodgerblue',label='former',alpha=0.5,normed=True)\n",
    "plt.legend()\n",
    "plt.xlabel('Age in years')\n",
    "plt.ylabel('Normed Counts')\n",
    "plt.title('Distribution of Worforce Ages')"
   ]
  },
  {
   "cell_type": "code",
   "execution_count": null,
   "metadata": {
    "collapsed": false
   },
   "outputs": [],
   "source": [
    "# look at these distributions\n",
    "plt.figure(figsize=(12,8))\n",
    "emplB[emplB.status==0].Tenure_years.hist(bins=36,range=[0,35],color='darkred',label='current',alpha=0.8,normed=True)\n",
    "emplB[emplB.status==1].Tenure_years.hist(bins=36,range=[0,35],color='dodgerblue',label='former',alpha=0.5,normed=True)\n",
    "plt.legend()\n",
    "plt.xlabel('Age in years')\n",
    "plt.ylabel('Normed Counts')\n",
    "plt.title('Distribution of Worforce Ages')"
   ]
  },
  {
   "cell_type": "code",
   "execution_count": null,
   "metadata": {
    "collapsed": false
   },
   "outputs": [],
   "source": [
    "empl_bene.zip5.value_counts()"
   ]
  },
  {
   "cell_type": "code",
   "execution_count": null,
   "metadata": {
    "collapsed": false
   },
   "outputs": [],
   "source": [
    "label_encoder.fit_transform(empl_bene['SEX'])\n",
    "#empl_bene.SEX.head() #df['State'] = label_encoder.fit_transform(df['State'])"
   ]
  },
  {
   "cell_type": "code",
   "execution_count": null,
   "metadata": {
    "collapsed": true
   },
   "outputs": [],
   "source": [
    "empl_bene['COMP_FREQ_HOURLY'] = label_encoder.fit_transform(empl_bene['COMP_FREQUENCY'])\n",
    "empl_bene.drop([],axis=1,inplace=True)\n"
   ]
  },
  {
   "cell_type": "code",
   "execution_count": null,
   "metadata": {
    "collapsed": false
   },
   "outputs": [],
   "source": [
    "empl_bene.COMP_FREQUENCY.head()"
   ]
  },
  {
   "cell_type": "code",
   "execution_count": null,
   "metadata": {
    "collapsed": true
   },
   "outputs": [],
   "source": [
    "##\n",
    "empl_bene['COMP_FREQ_ANNUAL'] = 1\n",
    "empl_bene.loc[empl_bene['COMP_FREQUENCY']=='H','COMP_FREQ_ANNUAL'] = 0\n",
    "empl_bene.drop('COMP_FREQUENCY',axis=1,inplace=True)"
   ]
  },
  {
   "cell_type": "markdown",
   "metadata": {},
   "source": [
    "## Save this dataframe as a tab separated file"
   ]
  },
  {
   "cell_type": "code",
   "execution_count": null,
   "metadata": {
    "collapsed": false
   },
   "outputs": [],
   "source": [
    "outfile1 = 'employee_dataframe.tsv'\n",
    "save_dataframe_file = True\n",
    "if save_dataframe_file:\n",
    "    empltbl3.to_csv(outfile1,sep='\\t')"
   ]
  },
  {
   "cell_type": "markdown",
   "metadata": {},
   "source": [
    "## convert datetime64[ns] format to a string ---> YYYY-MM-DD \n",
    "use date_columns"
   ]
  },
  {
   "cell_type": "code",
   "execution_count": null,
   "metadata": {
    "collapsed": false
   },
   "outputs": [],
   "source": [
    "for c in date_columns:\n",
    "    empltbl3[c]= empltbl3[c].apply(lambda x: str(x).split(' ')[0])"
   ]
  },
  {
   "cell_type": "code",
   "execution_count": null,
   "metadata": {
    "collapsed": false
   },
   "outputs": [],
   "source": [
    "for col in empltbl3.columns:\n",
    "    my_dtype = empltbl3[col].dtype\n",
    "    if my_dtype != 'object' and my_dtype != 'float64' and my_dtype != 'int64':\n",
    "        print col, \"\\t\", empltbl3[col].dtype, \"\\t\",empltbl3[col].ix[8] "
   ]
  },
  {
   "cell_type": "code",
   "execution_count": null,
   "metadata": {
    "collapsed": false
   },
   "outputs": [],
   "source": [
    "### try converting the timedeltas to floats\n",
    "empltbl3['Age_tdelta'].ix[3].astype('float')/(60*60*24*10**9)"
   ]
  },
  {
   "cell_type": "code",
   "execution_count": null,
   "metadata": {
    "collapsed": false
   },
   "outputs": [],
   "source": [
    "nano2days = 60.*60.*24.*10**9\n",
    "empltbl3['Age_days'] = empltbl3['Age_tdelta'].apply(lambda x: x.astype('float')/(nano2days))\n",
    "empltbl3['Tenure_days'] = empltbl3['Tenure_tdelta'].apply(lambda x: x.astype('float')/(nano2days))"
   ]
  },
  {
   "cell_type": "code",
   "execution_count": null,
   "metadata": {
    "collapsed": false
   },
   "outputs": [],
   "source": [
    "empltbl3.drop(['Age_tdelta','Tenure_tdelta'], axis=1,inplace=True)\n",
    "empltbl3.shape"
   ]
  },
  {
   "cell_type": "code",
   "execution_count": null,
   "metadata": {
    "collapsed": false
   },
   "outputs": [],
   "source": [
    "len(empltbl3.Age_days.unique()), len(empltbl3.Tenure_days.unique())"
   ]
  },
  {
   "cell_type": "code",
   "execution_count": null,
   "metadata": {
    "collapsed": false
   },
   "outputs": [],
   "source": [
    "empltbl.Age_years.ix[:10].apply(lambda x: int(np.round(x,0)))"
   ]
  },
  {
   "cell_type": "code",
   "execution_count": null,
   "metadata": {
    "collapsed": false
   },
   "outputs": [],
   "source": [
    "# Keep just the year\n",
    "empltbl_dates = empltbl[date_columns].copy() # save the dates.\n",
    "for c in date_columns:\n",
    "    #print c\n",
    "    if c.endswith('DT'):\n",
    "        c2 = c[:-2]+'YEAR'\n",
    "    else:\n",
    "        c2 = c[:-4]+'_YEAR'\n",
    "    #print c2\n",
    "    empltbl[c2]= empltbl[c].apply(lambda x: x[:4])"
   ]
  },
  {
   "cell_type": "code",
   "execution_count": null,
   "metadata": {
    "collapsed": false
   },
   "outputs": [],
   "source": [
    "empltbl.drop(date_columns,axis=1,inplace=True)"
   ]
  },
  {
   "cell_type": "code",
   "execution_count": null,
   "metadata": {
    "collapsed": true
   },
   "outputs": [],
   "source": [
    "empltbl['Age_year_int'] = empltbl['Age_years'].apply(lambda x: int(np.round(x,0)))\n",
    "empltbl['Tenure_year_int'] = empltbl['Tenure_months'].apply(lambda x: int(np.round(x/12,0)))"
   ]
  },
  {
   "cell_type": "code",
   "execution_count": null,
   "metadata": {
    "collapsed": false
   },
   "outputs": [],
   "source": [
    "len(empltbl.Age_year_int.unique()), len(empltbl.Tenure_year_int.unique())"
   ]
  },
  {
   "cell_type": "code",
   "execution_count": null,
   "metadata": {
    "collapsed": false
   },
   "outputs": [],
   "source": [
    "empltbl.Tenure_year_int.value_counts().plot(kind='bar',color='darkslateblue')"
   ]
  },
  {
   "cell_type": "code",
   "execution_count": null,
   "metadata": {
    "collapsed": false
   },
   "outputs": [],
   "source": [
    "#now save this version for H2O\n",
    "outfile2 = 'employee_dataframe2.ssv'\n",
    "save_dataframe_file = True\n",
    "if save_dataframe_file:\n",
    "    empltbl.to_csv(outfile2,sep=';')"
   ]
  },
  {
   "cell_type": "code",
   "execution_count": null,
   "metadata": {
    "collapsed": false
   },
   "outputs": [],
   "source": [
    "empltbl.shape"
   ]
  },
  {
   "cell_type": "code",
   "execution_count": null,
   "metadata": {
    "collapsed": false
   },
   "outputs": [],
   "source": [
    "# duplicated employee keys:\n",
    "#[empltbl.KEY.value_counts() > 1]\n",
    "dup_empl_keys = []\n",
    "empltblKEYcounts = empltbl.KEY.value_counts()\n",
    "for a in empltblKEYcounts[empltblKEYcounts>1].index:\n",
    "    print a\n",
    "    dup_empl_keys.append(a)\n",
    "\n",
    "for empkey in dup_empl_keys:\n",
    "    print empltbl[empltbl.KEY == empkey]"
   ]
  },
  {
   "cell_type": "markdown",
   "metadata": {},
   "source": [
    "## Continue to Refine the input data"
   ]
  },
  {
   "cell_type": "code",
   "execution_count": null,
   "metadata": {
    "collapsed": false
   },
   "outputs": [],
   "source": []
  },
  {
   "cell_type": "code",
   "execution_count": null,
   "metadata": {
    "collapsed": false
   },
   "outputs": [],
   "source": [
    "sum(empltbl3.zip5.isnull())"
   ]
  },
  {
   "cell_type": "code",
   "execution_count": null,
   "metadata": {
    "collapsed": false
   },
   "outputs": [],
   "source": [
    "empltbl3[empltbl3.zip5=='SW18 '].values"
   ]
  },
  {
   "cell_type": "code",
   "execution_count": null,
   "metadata": {
    "collapsed": false
   },
   "outputs": [],
   "source": [
    "empltbl3[empltbl3['STATE'].isnull()][['POSTAL_SFI','zip5','LOC_STATE','ADDRESS1']]"
   ]
  },
  {
   "cell_type": "code",
   "execution_count": null,
   "metadata": {
    "collapsed": false
   },
   "outputs": [],
   "source": [
    "sdf = summarize_dataframe2(empltbl3)"
   ]
  },
  {
   "cell_type": "markdown",
   "metadata": {
    "collapsed": true
   },
   "source": [
    "## Examine cleaning up the different feature (covariate) columns for anylysis on them.\n"
   ]
  },
  {
   "cell_type": "markdown",
   "metadata": {},
   "source": [
    "### restrict the dataframe to do linear-regression on.\n",
    "* first attempt is _ad hoc_ reduction of 185 columns\n",
    "    * keep age_years, tenure_months, status, sex for sure\n",
    "* look at cases where there is 'significant' correlation between columns:\n",
    "    * for example JOBCNTx, LOCCNTx, DEPTCNTx, ..."
   ]
  },
  {
   "cell_type": "code",
   "execution_count": null,
   "metadata": {
    "collapsed": false
   },
   "outputs": [],
   "source": [
    "# define the set of columns that have missing values smaller than some threshold \n",
    "sdf['x_missing'] = sdf['nmissing']/len(empltbl3)\n",
    "len(sdf[sdf['x_missing'] > 0]), len(sdf)"
   ]
  },
  {
   "cell_type": "code",
   "execution_count": null,
   "metadata": {
    "collapsed": false
   },
   "outputs": [],
   "source": [
    "sdf['y_arity'] = sdf['arity']/len(empltbl)\n",
    "sdf['y_arity'].hist(bins=30,color='deepskyblue')"
   ]
  },
  {
   "cell_type": "code",
   "execution_count": null,
   "metadata": {
    "collapsed": false
   },
   "outputs": [],
   "source": [
    "sdf['x_missing'].hist(bins=30,color='deeppink')"
   ]
  },
  {
   "cell_type": "code",
   "execution_count": null,
   "metadata": {
    "collapsed": false
   },
   "outputs": [],
   "source": [
    "sdf.to_csv('employee_table_summary_3.csv')\n",
    "# save to file"
   ]
  },
  {
   "cell_type": "code",
   "execution_count": null,
   "metadata": {
    "collapsed": false
   },
   "outputs": [],
   "source": [
    "len(sdf)"
   ]
  },
  {
   "cell_type": "code",
   "execution_count": null,
   "metadata": {
    "collapsed": true
   },
   "outputs": [],
   "source": [
    "# now apply some logic to these columns for keeping and not\n",
    "columns_to_fix_missing = []\n",
    "columns_to_fix_NY = []\n",
    "columns_to_omit = []"
   ]
  },
  {
   "cell_type": "markdown",
   "metadata": {},
   "source": [
    "### Procedure applies:\n",
    "* Omit those that more than 25% missing.\n",
    "* identify those that have between 0.1% and 25% missing\n",
    "* add back in 2 columns of interest:\n",
    "* Fix the missing values (imputation):\n",
    "    - if categorical create new column\n",
    "    - if float/int assign median\n",
    "* convert Y/N to 1/0\n",
    "* convert other columns\n",
    "\n"
   ]
  },
  {
   "cell_type": "code",
   "execution_count": null,
   "metadata": {
    "collapsed": false
   },
   "outputs": [],
   "source": [
    "# omit those that have more than 25% missing:\n",
    "missing_threshold = 0.25\n",
    "columns_to_omit = list(sdf[sdf['x_missing'] > missing_threshold].Column.values)\n",
    "print len(columns_to_omit)\n",
    "#columns_to_omit"
   ]
  },
  {
   "cell_type": "code",
   "execution_count": null,
   "metadata": {
    "collapsed": false
   },
   "outputs": [],
   "source": [
    "#missing_threshold = 0.25\n",
    "print len(sdf[(sdf['x_missing']>0) & (sdf['x_missing'] <= missing_threshold)])\n",
    "columns_to_fix_missing = list(sdf[(sdf['x_missing']>0) & (sdf['x_missing'] <= missing_threshold)].Column.values)\n",
    "#print len(columns_to_fix_missing)"
   ]
  },
  {
   "cell_type": "code",
   "execution_count": null,
   "metadata": {
    "collapsed": false
   },
   "outputs": [],
   "source": [
    "# add JOB_FAMILY and JOB_FUNCTION back into those to keep\n",
    "job_columns_of_interest = ['JOB_FAMILY','JOB_FUNCTION']\n",
    "for jcol in job_columns_of_interest:\n",
    "    columns_to_omit.remove(jcol)\n",
    "    columns_to_fix_missing.append(jcol)\n",
    "\n",
    "len(columns_to_omit), len(columns_to_fix_missing)"
   ]
  },
  {
   "cell_type": "markdown",
   "metadata": {},
   "source": [
    "### look at the ones to fix missing that are objects"
   ]
  },
  {
   "cell_type": "code",
   "execution_count": null,
   "metadata": {
    "collapsed": false,
    "scrolled": true
   },
   "outputs": [],
   "source": [
    "sdf[sdf.Column.isin(columns_to_fix_missing)]"
   ]
  },
  {
   "cell_type": "code",
   "execution_count": null,
   "metadata": {
    "collapsed": false
   },
   "outputs": [],
   "source": [
    "#sdf.ix[columns_to_fix_missing.index].datatype.value_counts()\n",
    "sdf[sdf.Column.isin(columns_to_fix_missing)].datatype.value_counts()"
   ]
  },
  {
   "cell_type": "markdown",
   "metadata": {},
   "source": [
    "## Logic to fix the missing (objects)"
   ]
  },
  {
   "cell_type": "code",
   "execution_count": null,
   "metadata": {
    "collapsed": false
   },
   "outputs": [],
   "source": [
    "sdf[(sdf.Column.isin(columns_to_fix_missing)) & (sdf.datatype == 'object')]"
   ]
  },
  {
   "cell_type": "code",
   "execution_count": null,
   "metadata": {
    "collapsed": false
   },
   "outputs": [],
   "source": [
    "## try to compare state & loc_state to resolve\n",
    "len(empltbl3[(empltbl3.STATE.isnull()) & (empltbl3.LOC_STATE.isnull())])"
   ]
  },
  {
   "cell_type": "code",
   "execution_count": null,
   "metadata": {
    "collapsed": false
   },
   "outputs": [],
   "source": [
    "empltbl3.LOC_TYPE_DESCR_SFI.ix[:10]"
   ]
  },
  {
   "cell_type": "markdown",
   "metadata": {},
   "source": [
    "### only 62 have both LOC_STATE and STATE missing --> compare the values of each"
   ]
  },
  {
   "cell_type": "code",
   "execution_count": null,
   "metadata": {
    "collapsed": false
   },
   "outputs": [],
   "source": [
    "len(empltbl3[(empltbl3.STATE!= empltbl3.LOC_STATE)][['STATE','LOC_STATE','zip5','LOC_CITY']])"
   ]
  },
  {
   "cell_type": "code",
   "execution_count": null,
   "metadata": {
    "collapsed": false
   },
   "outputs": [],
   "source": [
    "print len(empltbl3[(empltbl3.STATE.isnull()) & (empltbl3.LOC_STATE.notnull())][['STATE','LOC_STATE','zip5','LOC_CITY']])\n",
    "empltbl3[(empltbl3.STATE.isnull()) & (empltbl3.LOC_STATE.notnull())][['STATE','LOC_STATE','zip5','LOC_CITY']]"
   ]
  },
  {
   "cell_type": "markdown",
   "metadata": {},
   "source": [
    "* ACTRES1,ACTRES2,'ADDRESS1 --> to 'MISSING'\n",
    "* EXT_FUNC_ID_SFI,FUNC_ID_SFI,zip5 --> XXXXX\n",
    "* GRADE_JOB_FUNCTION --> XXX"
   ]
  },
  {
   "cell_type": "code",
   "execution_count": null,
   "metadata": {
    "collapsed": true
   },
   "outputs": [],
   "source": [
    "chg_to_MISSING =['ACTRES1','ACTRES2','ADDRESS1','POSTAL_SFI','JOB_FAMILY', 'LOC_CITY','LOC_TYPE_DESCR_SFI']\n",
    "chg_to_XXXXX = ['EXT_FUNC_ID_SFI','FUNC_ID_SFI','zip5']\n",
    "chg_to_XXX = ['GRADE','JOB_FUNCTION']\n",
    "chg_to_XX = ['STATE','LOC_STATE']"
   ]
  },
  {
   "cell_type": "code",
   "execution_count": null,
   "metadata": {
    "collapsed": false
   },
   "outputs": [],
   "source": [
    "#'MISSING' in empltbl3.LOC_STATE.unique()\n",
    "#empltbl3.LOC_STATE.ix[:10]\n",
    "for acolumn in chg_to_MISSING:\n",
    "    empltbl3.fillna({acolumn: 'MISSING'},inplace=True)\n",
    "\n",
    "for acolumn in chg_to_XXXXX:\n",
    "    empltbl3.fillna({acolumn: 'XXXXX'},inplace=True)\n",
    "\n",
    "for acolumn in chg_to_XXX:\n",
    "    empltbl3.fillna({acolumn: 'XXX'},inplace=True)\n",
    "\n",
    "for acolumn in chg_to_XX:\n",
    "    empltbl3.fillna({acolumn: 'XX'},inplace=True)\n"
   ]
  },
  {
   "cell_type": "markdown",
   "metadata": {},
   "source": [
    "* DIVISION_CODE_SFI --> 15 missing replace with -1 and cast as int"
   ]
  },
  {
   "cell_type": "code",
   "execution_count": null,
   "metadata": {
    "collapsed": false
   },
   "outputs": [],
   "source": [
    "empltbl3.fillna({'DIVISION_CODE_SFI': -1},inplace=True)\n",
    "empltbl3['DIVISION_CODE_SFI'] = empltbl3['DIVISION_CODE_SFI'].apply(lambda x: int(x)) \n",
    "empltbl3.DIVISION_CODE_SFI.ix[:10]"
   ]
  },
  {
   "cell_type": "code",
   "execution_count": null,
   "metadata": {
    "collapsed": false
   },
   "outputs": [],
   "source": [
    "### Now for non-objects that were missing:\n",
    "sdf[(sdf.Column.isin(columns_to_fix_missing)) & (sdf.datatype == 'float64')]"
   ]
  },
  {
   "cell_type": "markdown",
   "metadata": {},
   "source": [
    "###  logic\n",
    "* change a few floats to ints:\n",
    "    - ADDRCNT1,ADDRCNT10,ADDRCNT3,ADDRCNT5,EXTFUNC_CNT,FUNC_CNT\n",
    "    - assign -1 to missing\n",
    "* replace missing with median for others (PERF, MERIT, SAL)"
   ]
  },
  {
   "cell_type": "code",
   "execution_count": null,
   "metadata": {
    "collapsed": true
   },
   "outputs": [],
   "source": [
    "missing_float_to_int = ['ADDRCNT1','ADDRCNT10','ADDRCNT3','ADDRCNT5','EXTFUNC_CNT','FUNC_CNT']\n",
    "for acolumn in missing_float_to_int:\n",
    "    empltbl3.fillna({acolumn: -1},inplace=True)\n",
    "    empltbl3[acolumn] = empltbl3[acolumn].apply(lambda x: int(x)) \n",
    "    "
   ]
  },
  {
   "cell_type": "code",
   "execution_count": null,
   "metadata": {
    "collapsed": false
   },
   "outputs": [],
   "source": [
    "missing_float_to_median = list(sdf[(sdf.Column.isin(columns_to_fix_missing)) & (sdf.datatype == 'float64')].Column[6:].values)"
   ]
  },
  {
   "cell_type": "code",
   "execution_count": null,
   "metadata": {
    "collapsed": false
   },
   "outputs": [],
   "source": [
    "missing_median_values_series = empltbl3[missing_float_to_median].median()\n",
    "missing_median_values_series.head()"
   ]
  },
  {
   "cell_type": "code",
   "execution_count": null,
   "metadata": {
    "collapsed": false
   },
   "outputs": [],
   "source": [
    "missing_median_values_series.loc['PERF4']"
   ]
  },
  {
   "cell_type": "code",
   "execution_count": null,
   "metadata": {
    "collapsed": false
   },
   "outputs": [],
   "source": [
    "for acolumn in missing_float_to_median:\n",
    "    med_value = missing_median_values_series.loc[acolumn]\n",
    "    print acolumn, med_value\n",
    "    empltbl3.fillna({acolumn:med_value},inplace=True)"
   ]
  },
  {
   "cell_type": "markdown",
   "metadata": {
    "collapsed": false
   },
   "source": [
    "### Again from an  __ad hoc__ perspective, reduce the number of columns.\n",
    "The reasoning being that the data is historical or potentially redundant (e.g. Tenure_tdelta + Tenure_years)"
   ]
  },
  {
   "cell_type": "code",
   "execution_count": null,
   "metadata": {
    "collapsed": false
   },
   "outputs": [],
   "source": [
    "# add the ACTRES2/3 and ADDRESS1/2 lines\n",
    "# add *_tdelta, BIRTHDATE, PER_ORG\n",
    "# add POSTAL_SFI, zip5, MAR_STA_SNAME_SFI, LOC_TYPE_DESC_SFI\n",
    "others_to_omit = ['ADDRESS1','Age_tdelta','BIRTHDATE','LAST_HIRE_DT',\n",
    "                  'LOC_CITY','LOC_TYPE_DESCR_SFI','MAR_STATUS_DT','MAR_STA_SNAME_SFI',\n",
    "                  'PER_ORG','POSTAL_SFI','SKEY','SERVICE_DT','TERMINATION_DT',\n",
    "                  'Tenure_tdelta','zip5']#'TOT_MO_SERVICE_SFI','Tenure_months']\n",
    "                 #'MERIT1','MERIT2','MERIT3','MERIT4','MERIT5','MERIT6','MERIT7','MERIT8','MERIT9','MERIT10',\n",
    "                 #'PERF1','PERF2','PERF3','PERF4','PERF5','PERF6','PERF7','PERF8','PERF9','PERF10']\n",
    "history_to_omit = ['ADDRCNT10','ADDRCNT3','ADDRCNT5','DEPTCNT10','DEPTCNT3','DEPTCNT5',\n",
    "                   'EFUNCCNT10','EFUNCCNT3','EFUNCCNT5','FLOORCNT10','FLOORCNT3','FLOORCNT5',\n",
    "                  'FTPTCNT10','FTPTCNT3','FTPTCNT5','FULLPART10','FULLPART3','FULLPART5',\n",
    "                  'FUNCCNT10','FUNCCNT3','FUNCCNT5','GRADECNT10','GRADECNT3','GRADECNT5',\n",
    "                  'JOBCNT10','JOBCNT3','JOBCNT5','LOCCNT10','LOCCNT3','LOCCNT5','LOCSTCNT10','LOCSTCNT3','LOCSTCNT5',\n",
    "                  'PARTFULL10','PARTFULL3','PARTFULL5','PTFTCNT10','PTFTCNT3','PTFTCNT5',\n",
    "                   'SUPVCNT10','SUPVCNT3','SUPVCNT5','ACTRES2','SAL10','SAL9','SAL8','SAL7','SAL6','SAL5','SAL4','SAL3',\n",
    "                   'SAL2','MERIT2','MERIT3','MERIT4','MERIT5','MERIT6','MERIT7','MERIT8','MERIT9','MERIT10',\n",
    "                    'PERF2','PERF3','PERF4','PERF5','PERF6','PERF7','PERF8','PERF9','PERF10']\n",
    "cols_to_categorical = ['COMPANY','COMP_FREQUENCY','DIVISION_CODE_SFI','EEO1CODE','EMPL_CLASS','EMPL_TYPE','ETHNIC_GROUP',\n",
    "                       'FLSA_STATUS','FULLPART1','FULL_PART_TIME','GRADE','HUBIND','INTERN','JOB_FUNCTION','RELOCATE_ALL_SFI',\n",
    "                       'REMOTE','REMOTE_SUPV','SEX','SHIFT','SUPV_DIFF_LOC','VOLINVOL','status']\n",
    "for col in others_to_omit:\n",
    "    columns_to_omit.append(col)\n",
    "\n",
    "for col in history_to_omit:\n",
    "    columns_to_omit.append(col)\n",
    "    \n",
    "print len(columns_to_omit),len(cols_to_categorical)"
   ]
  },
  {
   "cell_type": "code",
   "execution_count": null,
   "metadata": {
    "collapsed": false
   },
   "outputs": [],
   "source": [
    "# define columns to keep\n",
    "columns_to_keep = list(set(empltbl3.columns)-set(columns_to_omit))\n",
    "len(columns_to_keep)"
   ]
  },
  {
   "cell_type": "code",
   "execution_count": null,
   "metadata": {
    "collapsed": false
   },
   "outputs": [],
   "source": [
    "empltbl4 = empltbl3[columns_to_keep].copy()\n",
    "print empltbl4.shape"
   ]
  },
  {
   "cell_type": "code",
   "execution_count": null,
   "metadata": {
    "collapsed": false
   },
   "outputs": [],
   "source": [
    "sdf4 = summarize_dataframe2(empltbl4)"
   ]
  },
  {
   "cell_type": "markdown",
   "metadata": {},
   "source": [
    "## convert binary columns to 0,1 in empl_bene and save"
   ]
  },
  {
   "cell_type": "code",
   "execution_count": null,
   "metadata": {
    "collapsed": false
   },
   "outputs": [],
   "source": [
    "[sum(empl_bene[c].isnull()) for c in columns_to_fix_NY]"
   ]
  },
  {
   "cell_type": "code",
   "execution_count": null,
   "metadata": {
    "collapsed": false
   },
   "outputs": [],
   "source": [
    "for c in columns_to_fix_NY:\n",
    "    if c == 'SEX':\n",
    "        empl_bene.replace({c:{'M':0,'F':1}},inplace=True)\n",
    "    else: \n",
    "        empl_bene.replace({c:{'N':0,'Y':1}},inplace=True)\n",
    "        \n",
    "empl_bene.INTERN.value_counts()"
   ]
  },
  {
   "cell_type": "code",
   "execution_count": null,
   "metadata": {
    "collapsed": false
   },
   "outputs": [],
   "source": [
    "pd.crosstab(empl_bene.FULLPART1,empl_bene.PARTFULL1)"
   ]
  },
  {
   "cell_type": "code",
   "execution_count": null,
   "metadata": {
    "collapsed": true
   },
   "outputs": [],
   "source": [
    "empl_bene['COMP_FREQ_ANNUAL'] = 1\n",
    "empl_bene.loc[empl_bene['COMP_FREQUENCY']=='H','COMP_FREQ_ANNUAL'] = 0\n",
    "empl_bene.drop('COMP_FREQUENCY',axis=1,inplace=True)"
   ]
  },
  {
   "cell_type": "code",
   "execution_count": null,
   "metadata": {
    "collapsed": true
   },
   "outputs": [],
   "source": []
  },
  {
   "cell_type": "code",
   "execution_count": null,
   "metadata": {
    "collapsed": true
   },
   "outputs": [],
   "source": [
    "empl_bene.to_csv('employee_dataframe7long.tsv',sep='\\t',index=False)"
   ]
  },
  {
   "cell_type": "code",
   "execution_count": null,
   "metadata": {
    "collapsed": true
   },
   "outputs": [],
   "source": [
    "save_this_file = True\n",
    "if save_this_file:\n",
    "    empltbl4.to_csv('employee_dataframe4.tsv',sep='\\t',ignore_index =True)"
   ]
  },
  {
   "cell_type": "code",
   "execution_count": null,
   "metadata": {
    "collapsed": false
   },
   "outputs": [],
   "source": [
    "sdf4[sdf4.arity==2]"
   ]
  },
  {
   "cell_type": "code",
   "execution_count": null,
   "metadata": {
    "collapsed": false
   },
   "outputs": [],
   "source": [
    "empltbl4.shape"
   ]
  },
  {
   "cell_type": "code",
   "execution_count": null,
   "metadata": {
    "collapsed": false
   },
   "outputs": [],
   "source": [
    "empltbl4.SHIFT.value_counts()"
   ]
  },
  {
   "cell_type": "markdown",
   "metadata": {},
   "source": [
    "### Logic to transform the binary categorical columns\n",
    "* column = SEX; 1 = Male, 0 = female\n",
    "* column = COMP_FREQUENCY --> new column: comp_frequency_annual (1 = A, 0 = H (hourly))\n",
    "* other columns Y == 1, N == 0"
   ]
  },
  {
   "cell_type": "code",
   "execution_count": null,
   "metadata": {
    "collapsed": false
   },
   "outputs": [],
   "source": [
    "empltbl4['COMP_FREQ_ANNUAL'] = 1\n",
    "empltbl4.loc[empltbl4['COMP_FREQUENCY']=='H','COMP_FREQ_ANNUAL'] = 0\n",
    "empltbl4.drop('COMP_FREQUENCY',axis=1,inplace=True)\n",
    "\n",
    "# now deal with male,female\n",
    "empltbl4.replace({'SEX':{'M': 1,'F':0}},inplace=True)\n",
    "empltbl4[['COMP_FREQ_ANNUAL','SEX','SHIFT']].head()"
   ]
  },
  {
   "cell_type": "code",
   "execution_count": null,
   "metadata": {
    "collapsed": true
   },
   "outputs": [],
   "source": [
    "# assign 1 to Y, 0 to N for the following columns\n",
    "columns_to_fix_NY = ['INTERN','FULLPART1','RELOCATE_ALL_SFI','HUBIND','REMOTE','REMOTE_SUPV','SUPV_DIFF_LOC','PARTFULL1']\n",
    "#empltbl4['COMP_FREQ_ANNUAL'] = empltbl4[\n",
    "for acol in columns_to_fix_NY:\n",
    "    empltbl4.replace({acol :{'Y':1,'N':0}},inplace=True) "
   ]
  },
  {
   "cell_type": "code",
   "execution_count": null,
   "metadata": {
    "collapsed": false
   },
   "outputs": [],
   "source": [
    "sdf4"
   ]
  },
  {
   "cell_type": "code",
   "execution_count": null,
   "metadata": {
    "collapsed": false
   },
   "outputs": [],
   "source": [
    "sdf4[(sdf4.datatype=='object') &(sdf4.arity > 2)]"
   ]
  },
  {
   "cell_type": "code",
   "execution_count": null,
   "metadata": {
    "collapsed": false
   },
   "outputs": [],
   "source": [
    "pd.crosstab(empltbl4.VOLINVOL,empltbl4.sep_status)"
   ]
  },
  {
   "cell_type": "code",
   "execution_count": null,
   "metadata": {
    "collapsed": false
   },
   "outputs": [],
   "source": [
    "sum(empltbl4.sep_status <=1)"
   ]
  },
  {
   "cell_type": "code",
   "execution_count": null,
   "metadata": {
    "collapsed": false
   },
   "outputs": [],
   "source": [
    "vc_empl4 = empltbl4[empltbl4.sep_status<=1].copy()\n"
   ]
  },
  {
   "cell_type": "code",
   "execution_count": null,
   "metadata": {
    "collapsed": false
   },
   "outputs": [],
   "source": [
    "kmf_vc = KaplanMeierFitter()\n",
    "kmf_vc.fit(vc_empl4.Tenure_months, vc_empl4.status,label='ALL')\n",
    "kmf_vc.plot(color='darkslateblue')\n",
    "plt.ylabel('Survival Function')\n",
    "plt.xlabel('Tenure_months')"
   ]
  },
  {
   "cell_type": "code",
   "execution_count": null,
   "metadata": {
    "collapsed": false
   },
   "outputs": [],
   "source": [
    "vc_empl4.JOB_FUNCTION.value_counts()"
   ]
  },
  {
   "cell_type": "code",
   "execution_count": null,
   "metadata": {
    "collapsed": false
   },
   "outputs": [],
   "source": [
    "### Repeat for mgrs\n",
    "print mg_codes\n",
    "mgr = empltbl3.GRADE.isin(mg_codes)\n",
    "sum(mgr)"
   ]
  },
  {
   "cell_type": "code",
   "execution_count": null,
   "metadata": {
    "collapsed": false
   },
   "outputs": [],
   "source": [
    "#sum(vc_empl4[\n",
    "print len(vc_empl4[vc_empl4.GRADE.isin(mg_codes)])\n",
    "mgrA = vc_empl4.GRADE.isin(mg_codes)"
   ]
  },
  {
   "cell_type": "code",
   "execution_count": null,
   "metadata": {
    "collapsed": false
   },
   "outputs": [],
   "source": [
    "fig = plt.figure(figsize=(12.5,5))\n",
    "\n",
    "kmf_mgr1=KaplanMeierFitter()\n",
    "\n",
    "kmf_mgr1.fit(vc_empl4[mgrA].Tenure_months, timeline=tenure_month_range, event_observed=vc_empl4[mgrA].status,label='managers')\n",
    "mgrA_sf_df = pd.DataFrame(kmf_mgr1.survival_function_)\n",
    "ax = fig.add_subplot(111)\n",
    "kmf_mgr1.plot(ax=ax,c='darkgreen')\n",
    "kmf_mgr1.fit(vc_empl4[~mgrA].Tenure_months, timeline=tenure_month_range,event_observed=vc_empl4[~mgrA].status,label='non-managers')\n",
    "kmf_mgr1.plot(ax=ax,color='darkslategray')\n",
    "mgrA_sf_df = pd.concat([mgrA_sf_df,kmf_mgr1.survival_function_],axis=1)\n",
    "plt.ylim(0,1.05)\n",
    "plt.ylabel('Survival Distribution Function')\n",
    "plt.xlabel('Tenure Months')"
   ]
  },
  {
   "cell_type": "code",
   "execution_count": null,
   "metadata": {
    "collapsed": false
   },
   "outputs": [],
   "source": [
    "pb = vc_empl4.GRADE.isin(pb_codes)\n",
    "fig = plt.figure(figsize=(12.5,5))\n",
    "\n",
    "kmf_grade=KaplanMeierFitter()\n",
    "\n",
    "kmf_grade.fit(vc_empl4[pb].Tenure_months, timeline=tenure_month_range, event_observed=vc_empl4[pb].status,label='PB')\n",
    "#grade_sf_df = pd.DataFrame(kmf_grade.survival_function_)\n",
    "ax = fig.add_subplot(111)\n",
    "kmf_grade.plot(ax=ax,c='deepskyblue')\n",
    "kmf_grade.fit(vc_empl4[~pb].Tenure_months, timeline=tenure_month_range,event_observed=vc_empl4[~pb].status,label='non PB')\n",
    "kmf_grade.plot(ax=ax,color='darkslategray')\n",
    "plt.ylim(0,1.05)\n",
    "plt.ylabel('Survival Distribution Function')\n",
    "plt.xlabel('Tenure Months')"
   ]
  },
  {
   "cell_type": "code",
   "execution_count": null,
   "metadata": {
    "collapsed": false
   },
   "outputs": [],
   "source": [
    "kmf_grade.fit(vc_empl4[pb].Tenure_months, timeline=tenure_month_range, event_observed=vc_empl4[pb].status,label='PB')\n",
    "kmf_grade.survival_function_"
   ]
  },
  {
   "cell_type": "code",
   "execution_count": null,
   "metadata": {
    "collapsed": false
   },
   "outputs": [],
   "source": [
    "print pb_codes\n",
    "sum(pb)"
   ]
  },
  {
   "cell_type": "code",
   "execution_count": null,
   "metadata": {
    "collapsed": false
   },
   "outputs": [],
   "source": [
    "mgrA_sf_df "
   ]
  },
  {
   "cell_type": "code",
   "execution_count": null,
   "metadata": {
    "collapsed": true
   },
   "outputs": [],
   "source": [
    "def lin_interpolate_df(df,index_to_find):\n",
    "    #x1,x2 = locate_closest_indices(df,x)\n",
    "    my_min = df.ix[:index_to_find].index[-1]\n",
    "    my_max = df.ix[index_to_find:].index[0]\n",
    "    deltax = my_max-my_min\n",
    "    #print my_min, my_max\n",
    "    y_1 = df.ix[my_min]\n",
    "    y_2 = df.ix[my_max]\n",
    "    #print y_1, y_2\n",
    "    \n",
    "    deltay=df.ix[my_max]- y_1\n",
    "    slope = deltay/deltax\n",
    "    #print slope, deltax, deltay\n",
    "    my_value = y_1+slope*(index_to_find-my_min)\n",
    "    return my_value"
   ]
  },
  {
   "cell_type": "code",
   "execution_count": null,
   "metadata": {
    "collapsed": true
   },
   "outputs": [],
   "source": [
    "def calc_future_survival_proba(input_df,grp,sf_df,future_year_list):\n",
    "    ## define a new data frame to hold the information\n",
    "    current_tenure = input_df[grp][input_df.status==0].Tenure_months.copy()\n",
    "    #current_mgr.columns='Current_tenure'#,inplace=True)\n",
    "    new_df = pd.DataFrame()\n",
    "    for future_year in future_years_list:\n",
    "        cname = 'plus_'+str(future_year)+'yr'\n",
    "        survival_prob = [lin_interpolate_df(sf_df,x) for x in current_tenure.values+future_year*12.0]\n",
    "        a_df = pd.DataFrame(survival_prob,columns=[cname])\n",
    "        new_df = pd.concat([new_df,a_df],axis=1)\n",
    "    \n",
    "    print new_df.shape\n",
    "    return new_df"
   ]
  },
  {
   "cell_type": "markdown",
   "metadata": {},
   "source": [
    "## this is alternatively able to be done by doing sum(kmf.predict(current.Tenure_months+t))/len(current)"
   ]
  },
  {
   "cell_type": "code",
   "execution_count": null,
   "metadata": {
    "collapsed": false
   },
   "outputs": [],
   "source": [
    "mgrA_sf_df['managers']"
   ]
  },
  {
   "cell_type": "code",
   "execution_count": null,
   "metadata": {
    "collapsed": true
   },
   "outputs": [],
   "source": [
    "fig = plt.figure(figsize=(12.5,5))\n",
    "\n",
    "kmf_mgr1=KaplanMeierFitter()\n",
    "\n",
    "kmf_mgr1.fit(vc_empl4[mgrA].Tenure_months, timeline=tenure_month_range, event_observed=vc_empl4[mgrA].status,label='managers')\n",
    "mgrA_sf_df = pd.DataFrame(kmf_mgr1.survival_function_)\n",
    "ax = fig.add_subplot(111)\n",
    "kmf_mgr1.plot(ax=ax,c='darkgreen')\n",
    "kmf_mgr1.fit(vc_empl4[~mgrA].Tenure_months, timeline=tenure_month_range,event_observed=vc_empl4[~mgrA].status,label='non-managers')\n",
    "kmf_mgr1.plot(ax=ax,color='darkslategray')\n",
    "mgrA_sf_df = pd.concat([mgrA_sf_df,kmf_mgr1.survival_function_],axis=1)\n",
    "plt.ylim(0,1.05)\n",
    "plt.ylabel('Survival Distribution Function')\n",
    "plt.xlabel('Tenure Months')"
   ]
  },
  {
   "cell_type": "code",
   "execution_count": null,
   "metadata": {
    "collapsed": false
   },
   "outputs": [],
   "source": [
    "mgrA_surv_prob = calc_future_survival_proba(vc_empl4,mgrA,mgrA_sf_df['managers'],future_years_list)"
   ]
  },
  {
   "cell_type": "code",
   "execution_count": null,
   "metadata": {
    "collapsed": false
   },
   "outputs": [],
   "source": [
    "plt.plot(future_years_list,mgrA_surv_prob.sum()/len(mgrA_surv_prob),'*:',color='steelblue')"
   ]
  },
  {
   "cell_type": "code",
   "execution_count": null,
   "metadata": {
    "collapsed": false
   },
   "outputs": [],
   "source": [
    "mgrA_surv_prob.sum()/len(mgrA_surv_prob)"
   ]
  },
  {
   "cell_type": "code",
   "execution_count": null,
   "metadata": {
    "collapsed": false
   },
   "outputs": [],
   "source": [
    "ues = vc_empl4.GRADE=='UES'\n",
    "print sum(ues)"
   ]
  },
  {
   "cell_type": "code",
   "execution_count": null,
   "metadata": {
    "collapsed": true
   },
   "outputs": [],
   "source": [
    "pd.crosstab(vc_empl4.GRADE,vc_empl4.status)"
   ]
  },
  {
   "cell_type": "code",
   "execution_count": null,
   "metadata": {
    "collapsed": false
   },
   "outputs": [],
   "source": [
    "fig = plt.figure(figsize=(12.5,5))\n",
    "\n",
    "kmf_ues=KaplanMeierFitter()\n",
    "\n",
    "kmf_ues.fit(vc_empl4[ues].Tenure_months, timeline=tenure_month_range, event_observed=vc_empl4[ues].status,label='UES')\n",
    "tmp_df = pd.DataFrame(kmf_ues.survival_function_)\n",
    "ax = fig.add_subplot(111)\n",
    "kmf_ues.plot(ax=ax,c='darkorange')\n",
    "kmf_ues.fit(vc_empl4[~ues].Tenure_months, timeline=tenure_month_range,event_observed=vc_empl4[~ues].status,label='non-UES')\n",
    "kmf_ues.plot(ax=ax,color='darkslategray')\n",
    "tmp_df = pd.concat([tmp_df,kmf_ues.survival_function_],axis=1)\n",
    "plt.ylim(0,1.05)\n",
    "plt.ylabel('Survival Distribution Function')\n",
    "plt.xlabel('Tenure Months')"
   ]
  },
  {
   "cell_type": "code",
   "execution_count": null,
   "metadata": {
    "collapsed": false
   },
   "outputs": [],
   "source": [
    "tmp_df.head()"
   ]
  },
  {
   "cell_type": "code",
   "execution_count": null,
   "metadata": {
    "collapsed": false
   },
   "outputs": [],
   "source": [
    "vc_empl4[ues][vc_empl4['status']==0].head()"
   ]
  },
  {
   "cell_type": "code",
   "execution_count": null,
   "metadata": {
    "collapsed": false
   },
   "outputs": [],
   "source": [
    "len(tmp_df)"
   ]
  },
  {
   "cell_type": "code",
   "execution_count": null,
   "metadata": {
    "collapsed": false
   },
   "outputs": [],
   "source": [
    "#kmf_grade.survival_function_\n",
    "#tmp_df = pd.DataFrame(kmf_grade.survival_function_)\n",
    "ues_surv_prob = calc_future_survival_proba(vc_empl4,ues,tmp_df['UES'],future_years_list)\n",
    "ues_surv_prob.sum()/len(vc_empl4[ues][vc_empl4.status==0])"
   ]
  },
  {
   "cell_type": "code",
   "execution_count": null,
   "metadata": {
    "collapsed": false
   },
   "outputs": [],
   "source": [
    "ues_surv_prob.sum()/sum(ues)"
   ]
  },
  {
   "cell_type": "code",
   "execution_count": null,
   "metadata": {
    "collapsed": false
   },
   "outputs": [],
   "source": [
    "empltbl4.columns"
   ]
  },
  {
   "cell_type": "code",
   "execution_count": null,
   "metadata": {
    "collapsed": false
   },
   "outputs": [],
   "source": [
    "vc_empl4.columns"
   ]
  },
  {
   "cell_type": "code",
   "execution_count": null,
   "metadata": {
    "collapsed": false
   },
   "outputs": [],
   "source": [
    "# encode the VOLINVOL column as ['INVOLUNTARY':2,'VOLUNTARY':1,'NOT':0,'\n",
    "empltbl4['sep_status'] = empltbl4['VOLINVOL'].replace({'NOT':0,'VOLUNTARY':1,'INVOLUNTARY':2,'OTHER':3,'UNKNOWN':3})\n",
    "empltbl4.sep_status.value_counts()"
   ]
  },
  {
   "cell_type": "code",
   "execution_count": null,
   "metadata": {
    "collapsed": false
   },
   "outputs": [],
   "source": [
    "pd.crosstab(empltbl4.status,empltbl4.sep_status)"
   ]
  },
  {
   "cell_type": "markdown",
   "metadata": {},
   "source": [
    "## Explore differences between voluntary/involuntary and Not "
   ]
  },
  {
   "cell_type": "code",
   "execution_count": null,
   "metadata": {
    "collapsed": false
   },
   "outputs": [],
   "source": [
    "volunt = empltbl3[empltbl3.VOLINVOL=='VOLUNTARY'].copy()\n",
    "current = empltbl3[empltbl3.VOLINVOL=='NOT'].copy()\n",
    "involu = empltbl3[empltbl3.VOLINVOL=='INVOLUNTARY'].copy()\n",
    "empl_df_list = [current,volunt,involu]\n",
    "print [len(a) for a in empl_df_list]"
   ]
  },
  {
   "cell_type": "code",
   "execution_count": null,
   "metadata": {
    "collapsed": false
   },
   "outputs": [],
   "source": [
    "len(empltbl3[(empltbl3.VOLINVOL=='VOLUNTARY') |(empltbl3.VOLINVOL=='NOT')])"
   ]
  },
  {
   "cell_type": "code",
   "execution_count": null,
   "metadata": {
    "collapsed": true
   },
   "outputs": [],
   "source": [
    "empl_df_list_colors =['indianred','steelblue','darkkhaki']\n",
    "empl_df_list_alphas =[1.0,0.7,0.4]\n",
    "empl_df_list_label = ['current','voluntary','involuntary']"
   ]
  },
  {
   "cell_type": "code",
   "execution_count": null,
   "metadata": {
    "collapsed": false
   },
   "outputs": [],
   "source": [
    "## define histogram bin ranges\n",
    "tenure_year_bin_range = [0,59]\n",
    "age_year_bin_range = [15,84]"
   ]
  },
  {
   "cell_type": "code",
   "execution_count": null,
   "metadata": {
    "collapsed": false
   },
   "outputs": [],
   "source": [
    "plt.figure(figsize=(12,8))\n",
    "for idx in xrange(0,len(empl_df_list)):\n",
    "    my_color = empl_df_list_colors[idx]\n",
    "    my_alpha = empl_df_list_alphas[idx]\n",
    "    empl_df_list[idx].Age_years.hist(bins=70,range=age_year_bin_range,color=my_color,alpha=my_alpha,normed=True,label=empl_df_list_label[idx])\n",
    "    plt.legend()\n",
    "    plt.xlabel('Age in Years')\n",
    "    plt.ylabel('Normed Counts')\n",
    "    plt.title('Distribution of Workforce Ages')"
   ]
  },
  {
   "cell_type": "code",
   "execution_count": null,
   "metadata": {
    "collapsed": false
   },
   "outputs": [],
   "source": [
    "len(empltbl3[(empltbl3.VOLINVOL=='VOLUNTARY') & (empltbl3.Age_years > 54)])"
   ]
  },
  {
   "cell_type": "code",
   "execution_count": null,
   "metadata": {
    "collapsed": false
   },
   "outputs": [],
   "source": [
    "plt.figure(figsize=(12,8))\n",
    "for idx in xrange(0,len(empl_df_list)):\n",
    "    my_color = empl_df_list_colors[idx]\n",
    "    my_alpha = empl_df_list_alphas[idx]\n",
    "    empl_df_list[idx].Tenure_years.hist(bins=60,range=tenure_year_bin_range,color=my_color,alpha=my_alpha,normed=True,label=empl_df_list_label[idx])\n",
    "    plt.legend()\n",
    "    plt.xlabel('Tenure in Years')\n",
    "    plt.ylabel('Normed Counts')\n",
    "    plt.title('Distribution of Workforce Tenures')"
   ]
  },
  {
   "cell_type": "code",
   "execution_count": null,
   "metadata": {
    "collapsed": false
   },
   "outputs": [],
   "source": [
    "empltbl3.DIVISION_CODE_SFI.value_counts()"
   ]
  },
  {
   "cell_type": "code",
   "execution_count": null,
   "metadata": {
    "collapsed": false
   },
   "outputs": [],
   "source": [
    "pd.crosstab(empltbl3.DIVISION_CODE_SFI,empltbl3.COMPANY)#.value_counts()"
   ]
  },
  {
   "cell_type": "code",
   "execution_count": null,
   "metadata": {
    "collapsed": false
   },
   "outputs": [],
   "source": [
    "empltbl3[empltbl2.INTERN=='Y'].Tenure_months.hist(color='darkslategray',bins=80,normed=True)\n",
    "empltbl3[empltbl2.INTERN=='N'].Tenure_months.hist(color='darkturquoise',bins=80,alpha=0.5, normed=True)"
   ]
  },
  {
   "cell_type": "markdown",
   "metadata": {},
   "source": [
    "## Look at how many have missing SKEY\n",
    "* only one in the current table."
   ]
  },
  {
   "cell_type": "code",
   "execution_count": null,
   "metadata": {
    "collapsed": false
   },
   "outputs": [],
   "source": [
    "#len(current[current.SKEY.isnull()][['Age_years','Tenure_months','COMPANY','GRADE','ANNUAL_RT','KEY']])\n",
    "ceo_key = current[current.SKEY.isnull()].KEY.values[0]\n",
    "print ceo_key\n",
    "print current[current.SKEY.isnull()][['Age_years','Tenure_months','COMPANY','GRADE','ANNUAL_RT','KEY']]"
   ]
  },
  {
   "cell_type": "code",
   "execution_count": null,
   "metadata": {
    "collapsed": false
   },
   "outputs": [],
   "source": [
    "len(empltbl3.KEY.unique()), len(empltbl3.SKEY.unique()),len(current.SKEY.unique())"
   ]
  },
  {
   "cell_type": "code",
   "execution_count": null,
   "metadata": {
    "collapsed": false
   },
   "outputs": [],
   "source": [
    "## How many are missing SKEY in retired.\n",
    "sum(empltbl3[empltbl3.status==1].SKEY.isnull())"
   ]
  },
  {
   "cell_type": "markdown",
   "metadata": {
    "collapsed": true
   },
   "source": [
    "# do survival analysis for each GRADE\n",
    "* column == 'GRADE' \n",
    "* arity = 164\n",
    "* Define a min-threshold of GRADE to look at.\n"
   ]
  },
  {
   "cell_type": "code",
   "execution_count": null,
   "metadata": {
    "collapsed": false
   },
   "outputs": [],
   "source": [
    "empltbl3.GRADE.value_counts().hist(color='forestgreen',bins=30)"
   ]
  },
  {
   "cell_type": "code",
   "execution_count": null,
   "metadata": {
    "collapsed": false
   },
   "outputs": [],
   "source": [
    "## start with top 20 grades:\n",
    "empltbl3.GRADE.value_counts()[:20]"
   ]
  },
  {
   "cell_type": "markdown",
   "metadata": {},
   "source": [
    "## Survival analysis"
   ]
  },
  {
   "cell_type": "code",
   "execution_count": null,
   "metadata": {
    "collapsed": true
   },
   "outputs": [],
   "source": [
    "#use lifelines\n",
    "from lifelines import KaplanMeierFitter\n",
    "kmf0 = KaplanMeierFitter()"
   ]
  },
  {
   "cell_type": "code",
   "execution_count": null,
   "metadata": {
    "collapsed": false
   },
   "outputs": [],
   "source": [
    "\n",
    "plt.figure(figsize=(14,6))\n",
    "\n",
    "kmf0.fit(empltbl3.Tenure_months, event_observed=empltbl3.status)\n",
    "kmf0.plot(color='darkslategray')\n",
    "plt.ylabel('Survival Distribution Function')\n",
    "plt.xlabel('Tenure months')\n",
    "plt.title('KaplanMeier Survival: ALL employees')"
   ]
  },
  {
   "cell_type": "code",
   "execution_count": null,
   "metadata": {
    "collapsed": false
   },
   "outputs": [],
   "source": [
    "## define the range so all are on the same scale\n",
    "min_tenure_months= empltbl3.Tenure_months.min()\n",
    "max_tenure_months = empltbl3.Tenure_months.max()\n",
    "print min_tenure_months, max_tenure_months\n",
    "tenure_month_range = np.linspace(min_tenure_months,max_tenure_months,66)\n",
    "len(tenure_month_range)"
   ]
  },
  {
   "cell_type": "code",
   "execution_count": null,
   "metadata": {
    "collapsed": false
   },
   "outputs": [],
   "source": [
    "empltbl3.GRADE.value_counts()[:40]"
   ]
  },
  {
   "cell_type": "code",
   "execution_count": null,
   "metadata": {
    "collapsed": true
   },
   "outputs": [],
   "source": [
    "## replace nan with 'XXX'\n",
    "empltbl3.GRADE.fillna('XXX',inplace=True)"
   ]
  },
  {
   "cell_type": "code",
   "execution_count": null,
   "metadata": {
    "collapsed": false
   },
   "outputs": [],
   "source": [
    "mg_codes = [x for x in list(empltbl3.GRADE.unique()) if  str(x).startswith('MG')]"
   ]
  },
  {
   "cell_type": "code",
   "execution_count": null,
   "metadata": {
    "collapsed": true
   },
   "outputs": [],
   "source": [
    "mg_codes = [x for x in list(empltbl3.GRADE.unique()) if  str(x).startswith('MG')]\n",
    "clvl_codes = [x for x in list(empltbl3.GRADE.unique()) if str(x).startswith('C')]\n",
    "ra_codes = [x for x in list(empltbl3.GRADE.unique()) if str(x).startswith('RA')]\n",
    "re_codes = [x for x in list(empltbl3.GRADE.unique()) if str(x).startswith('RE')]\n",
    "rd_codes = [x for x in list(empltbl3.GRADE.unique()) if str(x).startswith('RD')]\n",
    "pa_codes = [x for x in list(empltbl3.GRADE.unique()) if str(x).startswith('PA')]\n",
    "pb_codes = [x for x in list(empltbl3.GRADE.unique()) if str(x).startswith('PB')]\n",
    "ma_codes = [x for x in list(empltbl3.GRADE.unique()) if str(x).startswith('MA')]\n",
    "sf_codes = [x for x in list(empltbl3.GRADE.unique()) if str(x).startswith('SF')]\n",
    "rb_codes = [x for x in list(empltbl3.GRADE.unique()) if str(x).startswith('RB')]\n",
    "rc_codes = [x for x in list(empltbl3.GRADE.unique()) if str(x).startswith('RC')]\n",
    "pc_codes = [x for x in list(empltbl3.GRADE.unique()) if str(x).startswith('PC')]\n",
    "l_codes = [x for x in list(empltbl3.GRADE.unique()) if str(x).startswith('L')]\n",
    "fa_codes = [x for x in list(empltbl3.GRADE.unique()) if str(x).startswith('FA')]\n",
    "u_codes = [x for x in list(empltbl3.GRADE.unique()) if str(x).startswith('U')]\n",
    "i_codes = [x for x in list(empltbl3.GRADE.unique()) if str(x).startswith('I')]\n",
    "a_codes = [x for x in list(empltbl3.GRADE.unique()) if str(x).startswith('A')]\n",
    "b_codes = [x for x in list(empltbl3.GRADE.unique()) if str(x).startswith('B')]\n",
    "#ri_codes = [x for x in list(empltbl3.GRADE.unique()) if str(x).startswith('RI')]\n",
    "# assign missing and non to non_codes\n",
    "non_codes = ['NON','XXX']\n",
    "m_codes = ['M1N','M2N','M3N','M10']\n",
    "rx_codes = ['RF1', 'RF2', 'RF3', 'RG1', 'RG2', 'RG3', 'RG4', 'RH1', 'RH2', 'RH3', 'RH4', \n",
    "            'RI2', 'RI3', 'RJ2', 'RJ3', 'RJ4', 'RK3','RL1', 'RL2', 'RL3', 'RL4', 'RM2']\n",
    "# combine\n",
    "two_codes = [x for x in list(empltbl3.GRADE.unique()) if str(x).startswith('2')]\n",
    "t_codes = [x for x in list(empltbl3.GRADE.unique()) if str(x).startswith('T')]\n",
    "oth_codes = i_codes+two_codes+t_codes+a_codes\n",
    "oth_codes.append('ZFL')\n"
   ]
  },
  {
   "cell_type": "code",
   "execution_count": null,
   "metadata": {
    "collapsed": false
   },
   "outputs": [],
   "source": [
    "grade_groupings_list_A = [mg_codes,clvl_codes,ma_codes,pa_codes,pb_codes,sf_codes, ra_codes,rd_codes,re_codes, rb_codes, rc_codes,\n",
    "                          pc_codes,l_codes,fa_codes, u_codes,b_codes,non_codes,m_codes,rx_codes,oth_codes]\n",
    "len(grade_groupings_list_A)\n"
   ]
  },
  {
   "cell_type": "code",
   "execution_count": null,
   "metadata": {
    "collapsed": false
   },
   "outputs": [],
   "source": [
    "e3_grade_function_crosstab = pd.crosstab(empltbl3.GRADE,empltbl3.JOB_FUNCTION)\n",
    "e3_grade_function_crosstab.MGT "
   ]
  },
  {
   "cell_type": "code",
   "execution_count": null,
   "metadata": {
    "collapsed": false
   },
   "outputs": [],
   "source": [
    "e3_grade_function_crosstab[e3_grade_function_crosstab.MGT>0] "
   ]
  },
  {
   "cell_type": "code",
   "execution_count": null,
   "metadata": {
    "collapsed": false
   },
   "outputs": [],
   "source": [
    "e3_grade_function_crosstab[e3_grade_function_crosstab.PTB>0] "
   ]
  },
  {
   "cell_type": "code",
   "execution_count": null,
   "metadata": {
    "collapsed": false
   },
   "outputs": [],
   "source": [
    "for g in grade_groupings_list_A:\n",
    "    print sum(empltbl3.GRADE.isin(g)), g"
   ]
  },
  {
   "cell_type": "code",
   "execution_count": null,
   "metadata": {
    "collapsed": false
   },
   "outputs": [],
   "source": [
    "from itertools import chain\n",
    "used_grades = list(chain.from_iterable(grade_groupings_list_A))\n",
    "sum(empltbl3.GRADE.isin(used_grades)), len(empltbl3)"
   ]
  },
  {
   "cell_type": "code",
   "execution_count": null,
   "metadata": {
    "collapsed": false
   },
   "outputs": [],
   "source": [
    "sorted([x for x in empltbl3.GRADE.unique() if x.startswith('R')])"
   ]
  },
  {
   "cell_type": "code",
   "execution_count": null,
   "metadata": {
    "collapsed": false
   },
   "outputs": [],
   "source": [
    "empltbl3[~empltbl3.GRADE.isin(used_grades)].GRADE.value_counts()"
   ]
  },
  {
   "cell_type": "code",
   "execution_count": null,
   "metadata": {
    "collapsed": false
   },
   "outputs": [],
   "source": [
    "empltbl3.GRADE.value_counts()[40:85]"
   ]
  },
  {
   "cell_type": "markdown",
   "metadata": {},
   "source": [
    "## now look at each of the top 10 grades:"
   ]
  },
  {
   "cell_type": "code",
   "execution_count": null,
   "metadata": {
    "collapsed": false
   },
   "outputs": [],
   "source": [
    "# create a dataFrame of these survival functions.\n",
    "\n",
    "\n",
    "fig = plt.figure(figsize=(12.5,5))\n",
    "#figsize(16,8)\n",
    "\n",
    "top10grades = list(empltbl3.GRADE.value_counts()[:85].index)\n",
    "kmf_grade=KaplanMeierFitter()\n",
    "\n",
    "kmf_grade.fit(empltbl3.Tenure_months, timeline=tenure_month_range, event_observed=empltbl3.status,label='ALL')\n",
    "grade_sf_df = pd.DataFrame(kmf_grade.survival_function_)\n",
    "ax=fig.add_subplot(111)\n",
    "kmf_grade.plot(ax=ax,c='darkslategray')\n",
    "for grade in top10grades:\n",
    "    \n",
    "    #plt.figure(figsize=(20,10))\n",
    "    em_grade = empltbl3[empltbl3.GRADE == grade]\n",
    "    kmf_grade.fit(em_grade.Tenure_months, timeline=tenure_month_range,event_observed=em_grade.status,label=grade)\n",
    "    if grade.startswith('MG'):\n",
    "        kmf_grade.plot(ax=ax)\n",
    "    grade_sf_df = pd.concat([grade_sf_df,kmf_grade.survival_function_],axis=1)\n",
    "#kmf_gender.fit(female.Tenure_months,  timeline=tenure_month_range,event_observed=female.status)\n",
    "#kmf_gender.plot(ax=ax, c='deeppink',label='Female')\n",
    "\n",
    "plt.ylim(0,1.05)\n",
    "plt.ylabel('Survival Distribution Function')\n",
    "plt.xlabel('Tenure Months')\n"
   ]
  },
  {
   "cell_type": "code",
   "execution_count": null,
   "metadata": {
    "collapsed": false
   },
   "outputs": [],
   "source": [
    "grade_sf_df.columns"
   ]
  },
  {
   "cell_type": "code",
   "execution_count": null,
   "metadata": {
    "collapsed": false
   },
   "outputs": [],
   "source": [
    "mgr = ((empltbl3.GRADE == 'MG2') |(empltbl3.GRADE == 'MG3') | (empltbl3.GRADE == 'MG4'))\n",
    "sum(mgr)"
   ]
  },
  {
   "cell_type": "code",
   "execution_count": null,
   "metadata": {
    "collapsed": false
   },
   "outputs": [],
   "source": [
    "mgr = empltbl3.GRADE.isin(mg_codes)\n",
    "sum(mgr)"
   ]
  },
  {
   "cell_type": "code",
   "execution_count": null,
   "metadata": {
    "collapsed": false
   },
   "outputs": [],
   "source": [
    "from lifelines.statistics import logrank_test\n",
    "summary, p_value, test_results = logrank_test(empltbl3[mgr].Tenure_months, empltbl3[~mgr].Tenure_months, empltbl3[mgr].status, empltbl3[~mgr].status, alpha=.99 )\n",
    "print summary"
   ]
  },
  {
   "cell_type": "code",
   "execution_count": null,
   "metadata": {
    "collapsed": false
   },
   "outputs": [],
   "source": [
    "fig = plt.figure(figsize=(12.5,5))\n",
    "\n",
    "kmf_grade=KaplanMeierFitter()\n",
    "\n",
    "kmf_grade.fit(empltbl3[mgr].Tenure_months, timeline=tenure_month_range, event_observed=empltbl3[mgr].status,label='managers')\n",
    "mgr_sf_df = pd.DataFrame(kmf_grade.survival_function_)\n",
    "ax = fig.add_subplot(111)\n",
    "kmf_grade.plot(ax=ax,c='darkred')\n",
    "kmf_grade.fit(empltbl3[~mgr].Tenure_months, timeline=tenure_month_range,event_observed=empltbl3[~mgr].status,label='non-managers')\n",
    "kmf_grade.plot(ax=ax,color='darkslategray')\n",
    "mgr_sf_df = pd.concat([mgr_sf_df,kmf_grade.survival_function_],axis=1)\n",
    "plt.ylim(0,1.05)\n",
    "plt.ylabel('Survival Distribution Function')\n",
    "plt.xlabel('Tenure Months')"
   ]
  },
  {
   "cell_type": "markdown",
   "metadata": {},
   "source": [
    "## BIGGER QUESTION IS whether this tenure is descriptive or proscriptive\n"
   ]
  },
  {
   "cell_type": "code",
   "execution_count": null,
   "metadata": {
    "collapsed": false
   },
   "outputs": [],
   "source": [
    "empltbl3[mgr].Tenure_months.hist(normed=True,alpha=0.3)\n",
    "empltbl3[mgr][empltbl3.status==0].Tenure_months.hist(normed=True,color='indianred',alpha=.3)"
   ]
  },
  {
   "cell_type": "markdown",
   "metadata": {
    "collapsed": true
   },
   "source": [
    "## Take the set of employees that don't leave and calculate out their survival function in the future\n",
    "* look at [1,10] years in the future for each.\n",
    "* sum over all\n",
    "* also get lower CL and upper CL\n",
    "* divide sum by count to get % remaining.\n"
   ]
  },
  {
   "cell_type": "code",
   "execution_count": null,
   "metadata": {
    "collapsed": false
   },
   "outputs": [],
   "source": [
    "mgr_sf_df.head(), len(mgr_sf_df)"
   ]
  },
  {
   "cell_type": "code",
   "execution_count": null,
   "metadata": {
    "collapsed": false
   },
   "outputs": [],
   "source": [
    "mgr_df = pd.DataFrame(empltbl3[mgr].Tenure_months)"
   ]
  },
  {
   "cell_type": "code",
   "execution_count": null,
   "metadata": {
    "collapsed": false
   },
   "outputs": [],
   "source": [
    "[x for x in empltbl3[mgr][empltbl3.status==0].Tenure_months+12.0]"
   ]
  },
  {
   "cell_type": "code",
   "execution_count": null,
   "metadata": {
    "collapsed": false
   },
   "outputs": [],
   "source": [
    "mgr_sf_df.ix[:339.36].index[-1], mgr_sf_df.ix[339.36:].index[0]"
   ]
  },
  {
   "cell_type": "code",
   "execution_count": null,
   "metadata": {
    "collapsed": false
   },
   "outputs": [],
   "source": [
    "locate_closest_indices(mgr_sf_df, 339.36)"
   ]
  },
  {
   "cell_type": "code",
   "execution_count": null,
   "metadata": {
    "collapsed": true
   },
   "outputs": [],
   "source": [
    "def locate_closest_indices(df,index_to_find):\n",
    "    my_min = df.ix[:index_to_find].index[-1]\n",
    "    my_max = df.ix[index_to_find:].index[0]\n",
    "    #.index <= index_to_find\n",
    "    #my_max = df.index >=index_to_find\n",
    "    print index_to_find, my_min, my_max\n",
    "    return my_min,my_max"
   ]
  },
  {
   "cell_type": "code",
   "execution_count": null,
   "metadata": {
    "collapsed": true
   },
   "outputs": [],
   "source": [
    "def lin_interpolate(df,index_to_find,ycol):\n",
    "    #x1,x2 = locate_closest_indices(df,x)\n",
    "    my_min = df.ix[:index_to_find].index[-1]\n",
    "    my_max = df.ix[index_to_find:].index[0]\n",
    "    deltax = my_max-my_min\n",
    "    #print my_min, my_max\n",
    "    y_1 = df[ycol].ix[my_min]\n",
    "    y_2 = df[ycol].ix[my_max]\n",
    "    #print y_1, y_2\n",
    "    \n",
    "    deltay=df[ycol].ix[my_max]- y_1\n",
    "    slope = deltay/deltax\n",
    "    #print slope, deltax, deltay\n",
    "    my_value = y_1+slope*(index_to_find-my_min)\n",
    "    return my_value"
   ]
  },
  {
   "cell_type": "code",
   "execution_count": null,
   "metadata": {
    "collapsed": false
   },
   "outputs": [],
   "source": [
    "mgr_sf_df.ix[mgr_sf_df.ix[:339.36].index[-1]:mgr_sf_df.ix[339.36:].index[0]]#.plot()#.interpolate()"
   ]
  },
  {
   "cell_type": "code",
   "execution_count": null,
   "metadata": {
    "collapsed": false
   },
   "outputs": [],
   "source": [
    "lin_interpolate(mgr_sf_df,339.36,'managers')"
   ]
  },
  {
   "cell_type": "code",
   "execution_count": null,
   "metadata": {
    "collapsed": true
   },
   "outputs": [],
   "source": [
    "index_to_find = 371.1\n",
    "\n",
    "my_min = df['A'] <= value_to_find\n",
    "Max = df['A'] >= value_to_find\n",
    "idx_Min = df.ix[Min, 'A'].idxmax()\n",
    "idx_Max = df.ix[Max, 'A'].idxmin()\n",
    "df.ix[idx_Min:idx_Max, ['A','B']]"
   ]
  },
  {
   "cell_type": "code",
   "execution_count": null,
   "metadata": {
    "collapsed": false
   },
   "outputs": [],
   "source": [
    "# add 1 to 10 years in to future\n",
    "future_years_list = np.arange(1,11)\n",
    "future_years_list*12.0"
   ]
  },
  {
   "cell_type": "code",
   "execution_count": null,
   "metadata": {
    "collapsed": false
   },
   "outputs": [],
   "source": [
    "plus_1yr = [lin_interpolate(mgr_sf_df,x,'managers') for x in empltbl3[mgr][empltbl3.status==0].Tenure_months+12.0]"
   ]
  },
  {
   "cell_type": "code",
   "execution_count": null,
   "metadata": {
    "collapsed": false
   },
   "outputs": [],
   "source": [
    "len(plus_1yr)"
   ]
  },
  {
   "cell_type": "code",
   "execution_count": null,
   "metadata": {
    "collapsed": false
   },
   "outputs": [],
   "source": [
    "current_mgr.Tenure_months.values"
   ]
  },
  {
   "cell_type": "code",
   "execution_count": null,
   "metadata": {
    "collapsed": false
   },
   "outputs": [],
   "source": [
    "future_year"
   ]
  },
  {
   "cell_type": "code",
   "execution_count": null,
   "metadata": {
    "collapsed": false
   },
   "outputs": [],
   "source": [
    "## define a new data frame to hold the information\n",
    "current_mgr = empltbl3[mgr][empltbl3.status==0].Tenure_months.copy()\n",
    "#current_mgr.columns='Current_tenure'#,inplace=True)\n",
    "new_df = pd.DataFrame()\n",
    "for future_year in future_years_list:\n",
    "    cname = 'plus_'+str(future_year)+'yr'\n",
    "    survival_prob = [lin_interpolate(mgr_sf_df,x,'managers') for x in current_mgr.values+future_year*12.0]\n",
    "    a_df = pd.DataFrame(survival_prob,columns=[cname])\n",
    "    new_df = pd.concat([new_df,a_df],axis=1)\n",
    "    \n",
    "print new_df.shape"
   ]
  },
  {
   "cell_type": "code",
   "execution_count": null,
   "metadata": {
    "collapsed": false
   },
   "outputs": [],
   "source": [
    "new_df.head()"
   ]
  },
  {
   "cell_type": "code",
   "execution_count": null,
   "metadata": {
    "collapsed": false
   },
   "outputs": [],
   "source": [
    "new_df.sum()/len(new_df)"
   ]
  },
  {
   "cell_type": "code",
   "execution_count": null,
   "metadata": {
    "collapsed": true
   },
   "outputs": [],
   "source": []
  },
  {
   "cell_type": "code",
   "execution_count": null,
   "metadata": {
    "collapsed": false
   },
   "outputs": [],
   "source": [
    "hold_df = mgr_sf_df.copy()"
   ]
  },
  {
   "cell_type": "code",
   "execution_count": null,
   "metadata": {
    "collapsed": false
   },
   "outputs": [],
   "source": [
    "clvl_codes"
   ]
  },
  {
   "cell_type": "code",
   "execution_count": null,
   "metadata": {
    "collapsed": false
   },
   "outputs": [],
   "source": [
    "clvl = empltbl3.GRADE.isin(clvl_codes)\n",
    "sum(clvl)"
   ]
  },
  {
   "cell_type": "code",
   "execution_count": null,
   "metadata": {
    "collapsed": false
   },
   "outputs": [],
   "source": [
    "sum(empltbl3[clvl].status==0)"
   ]
  },
  {
   "cell_type": "code",
   "execution_count": null,
   "metadata": {
    "collapsed": false
   },
   "outputs": [],
   "source": [
    "fig = plt.figure(figsize=(12.5,5))\n",
    "\n",
    "kmf_grade=KaplanMeierFitter()\n",
    "\n",
    "kmf_grade.fit(empltbl3[clvl].Tenure_months, timeline=tenure_month_range, event_observed=empltbl3[clvl].status,label='C-Level')\n",
    "#grade_sf_df = pd.DataFrame(kmf_grade.survival_function_)\n",
    "ax = fig.add_subplot(111)\n",
    "kmf_grade.plot(ax=ax,c='darkred')\n",
    "kmf_grade.fit(empltbl3[~clvl].Tenure_months, timeline=tenure_month_range,event_observed=empltbl3[~clvl].status,label='non C-level')\n",
    "kmf_grade.plot(ax=ax,color='darkslategray')\n",
    "plt.ylim(0,1.05)\n",
    "plt.ylabel('Survival Distribution Function')\n",
    "plt.xlabel('Tenure Months')"
   ]
  },
  {
   "cell_type": "markdown",
   "metadata": {},
   "source": [
    "### look at different PA/RA"
   ]
  },
  {
   "cell_type": "code",
   "execution_count": null,
   "metadata": {
    "collapsed": false
   },
   "outputs": [],
   "source": [
    "ra = empltbl3.GRADE.isin(ra_codes)\n",
    "print sum(ra), ra_codes"
   ]
  },
  {
   "cell_type": "code",
   "execution_count": null,
   "metadata": {
    "collapsed": false
   },
   "outputs": [],
   "source": [
    "rd = empltbl3.GRADE.isin(rd_codes)\n",
    "print sum(rd), rd_codes\n",
    "for code in rd_codes:\n",
    "    print code,sum(empltbl3.GRADE == code)"
   ]
  },
  {
   "cell_type": "code",
   "execution_count": null,
   "metadata": {
    "collapsed": false
   },
   "outputs": [],
   "source": [
    "fig = plt.figure(figsize=(12.5,5))\n",
    "\n",
    "kmf_grade=KaplanMeierFitter()\n",
    "\n",
    "kmf_grade.fit(empltbl3[ra].Tenure_months, timeline=tenure_month_range, event_observed=empltbl3[ra].status,label='RA')\n",
    "#grade_sf_df = pd.DataFrame(kmf_grade.survival_function_)\n",
    "ax = fig.add_subplot(111)\n",
    "kmf_grade.plot(ax=ax,c='darkred')\n",
    "kmf_grade.fit(empltbl3[~ra].Tenure_months, timeline=tenure_month_range,event_observed=empltbl3[~ra].status,label='non RA')\n",
    "kmf_grade.plot(ax=ax,color='darkslategray')\n",
    "plt.ylim(0,1.05)\n",
    "plt.ylabel('Survival Distribution Function')\n",
    "plt.xlabel('Tenure Months')"
   ]
  },
  {
   "cell_type": "code",
   "execution_count": null,
   "metadata": {
    "collapsed": false
   },
   "outputs": [],
   "source": [
    "fig = plt.figure(figsize=(12.5,5))\n",
    "\n",
    "kmf_grade=KaplanMeierFitter()\n",
    "\n",
    "kmf_grade.fit(empltbl3[rd].Tenure_months, timeline=tenure_month_range, event_observed=empltbl3[rd].status,label='RD')\n",
    "#grade_sf_df = pd.DataFrame(kmf_grade.survival_function_)\n",
    "ax = fig.add_subplot(111)\n",
    "kmf_grade.plot(ax=ax,c='darkred')\n",
    "kmf_grade.fit(empltbl3[~rd].Tenure_months, timeline=tenure_month_range,event_observed=empltbl3[~rd].status,label='non RD')\n",
    "kmf_grade.plot(ax=ax,color='darkslategray')\n",
    "plt.ylim(0,1.05)\n",
    "plt.ylabel('Survival Distribution Function')\n",
    "plt.xlabel('Tenure Months')"
   ]
  },
  {
   "cell_type": "code",
   "execution_count": null,
   "metadata": {
    "collapsed": false
   },
   "outputs": [],
   "source": [
    "re = empltbl3.GRADE.isin(re_codes)\n",
    "print sum(re), re_codes"
   ]
  },
  {
   "cell_type": "code",
   "execution_count": null,
   "metadata": {
    "collapsed": false
   },
   "outputs": [],
   "source": [
    "fig = plt.figure(figsize=(12.5,5))\n",
    "\n",
    "kmf_grade=KaplanMeierFitter()\n",
    "\n",
    "kmf_grade.fit(empltbl3[re].Tenure_months, timeline=tenure_month_range, event_observed=empltbl3[re].status,label='RE')\n",
    "#grade_sf_df = pd.DataFrame(kmf_grade.survival_function_)\n",
    "ax = fig.add_subplot(111)\n",
    "kmf_grade.plot(ax=ax,c='darkred')\n",
    "kmf_grade.fit(empltbl3[~re].Tenure_months, timeline=tenure_month_range,event_observed=empltbl3[~re].status,label='non RE')\n",
    "kmf_grade.plot(ax=ax,color='darkslategray')\n",
    "plt.ylim(0,1.05)\n",
    "plt.ylabel('Survival Distribution Function')\n",
    "plt.xlabel('Tenure Months')"
   ]
  },
  {
   "cell_type": "code",
   "execution_count": null,
   "metadata": {
    "collapsed": false
   },
   "outputs": [],
   "source": [
    "pa = empltbl3.GRADE.isin(pa_codes)\n",
    "print sum(pa), pa_codes"
   ]
  },
  {
   "cell_type": "code",
   "execution_count": null,
   "metadata": {
    "collapsed": false
   },
   "outputs": [],
   "source": [
    "ma_codes"
   ]
  },
  {
   "cell_type": "code",
   "execution_count": null,
   "metadata": {
    "collapsed": false
   },
   "outputs": [],
   "source": [
    "empltbl3[empltbl3.GRADE=='MG2'].JOBCODE.value_counts()"
   ]
  },
  {
   "cell_type": "code",
   "execution_count": null,
   "metadata": {
    "collapsed": false
   },
   "outputs": [],
   "source": [
    "empltbl3.JOBCODE.value_counts()"
   ]
  },
  {
   "cell_type": "code",
   "execution_count": null,
   "metadata": {
    "collapsed": true
   },
   "outputs": [],
   "source": [
    "empltbl3[empltbl3['status'==1]]."
   ]
  },
  {
   "cell_type": "code",
   "execution_count": null,
   "metadata": {
    "collapsed": false
   },
   "outputs": [],
   "source": [
    "empltbl3.JOB_FUNCTION.value_counts()"
   ]
  },
  {
   "cell_type": "code",
   "execution_count": null,
   "metadata": {
    "collapsed": false
   },
   "outputs": [],
   "source": [
    "empl[empl.GRADE_MA1==1].status.value_counts()"
   ]
  },
  {
   "cell_type": "code",
   "execution_count": null,
   "metadata": {
    "collapsed": false
   },
   "outputs": [],
   "source": [
    "fig = plt.figure(figsize=(12.5,5))\n",
    "\n",
    "kmf_grade=KaplanMeierFitter()\n",
    "\n",
    "kmf_grade.fit(empltbl3[pa].Tenure_months, timeline=tenure_month_range, event_observed=empltbl3[pa].status,label='PA')\n",
    "#grade_sf_df = pd.DataFrame(kmf_grade.survival_function_)\n",
    "ax = fig.add_subplot(111)\n",
    "kmf_grade.plot(ax=ax,c='darkred')\n",
    "kmf_grade.fit(empltbl3[~pa].Tenure_months, timeline=tenure_month_range,event_observed=empltbl3[~pa].status,label='non PA')\n",
    "kmf_grade.plot(ax=ax,color='darkslategray')\n",
    "plt.ylim(0,1.05)\n",
    "plt.ylabel('Survival Distribution Function')\n",
    "plt.xlabel('Tenure Months')"
   ]
  },
  {
   "cell_type": "code",
   "execution_count": null,
   "metadata": {
    "collapsed": false
   },
   "outputs": [],
   "source": [
    "pb = empltbl3.GRADE.isin(pb_codes)\n",
    "print sum(pb), pb_codes"
   ]
  },
  {
   "cell_type": "code",
   "execution_count": null,
   "metadata": {
    "collapsed": false
   },
   "outputs": [],
   "source": [
    "fig = plt.figure(figsize=(12.5,5))\n",
    "\n",
    "kmf_grade=KaplanMeierFitter()\n",
    "\n",
    "kmf_grade.fit(empltbl3[pb].Tenure_months, timeline=tenure_month_range, event_observed=empltbl3[pb].status,label='PB')\n",
    "#grade_sf_df = pd.DataFrame(kmf_grade.survival_function_)\n",
    "ax = fig.add_subplot(111)\n",
    "kmf_grade.plot(ax=ax,c='darkred')\n",
    "kmf_grade.fit(empltbl3[~pb].Tenure_months, timeline=tenure_month_range,event_observed=empltbl3[~pb].status,label='non PB')\n",
    "kmf_grade.plot(ax=ax,color='darkslategray')\n",
    "plt.ylim(0,1.05)\n",
    "plt.ylabel('Survival Distribution Function')\n",
    "plt.xlabel('Tenure Months')"
   ]
  },
  {
   "cell_type": "code",
   "execution_count": null,
   "metadata": {
    "collapsed": false
   },
   "outputs": [],
   "source": [
    "sf = empltbl3.GRADE.isin(sf_codes)\n",
    "print sum(sf), sf_codes"
   ]
  },
  {
   "cell_type": "code",
   "execution_count": null,
   "metadata": {
    "collapsed": false
   },
   "outputs": [],
   "source": [
    "fig = plt.figure(figsize=(12.5,5))\n",
    "\n",
    "kmf_grade=KaplanMeierFitter()\n",
    "\n",
    "kmf_grade.fit(empltbl3[sf].Tenure_months, timeline=tenure_month_range, event_observed=empltbl3[sf].status,label='SF')\n",
    "#grade_sf_df = pd.DataFrame(kmf_grade.survival_function_)\n",
    "ax = fig.add_subplot(111)\n",
    "kmf_grade.plot(ax=ax,c='darkred')\n",
    "kmf_grade.fit(empltbl3[~sf].Tenure_months, timeline=tenure_month_range,event_observed=empltbl3[~sf].status,label='non SF')\n",
    "kmf_grade.plot(ax=ax,color='darkslategray')\n",
    "plt.ylim(0,1.05)\n",
    "plt.ylabel('Survival Distribution Function')\n",
    "plt.xlabel('Tenure Months')"
   ]
  },
  {
   "cell_type": "code",
   "execution_count": null,
   "metadata": {
    "collapsed": false
   },
   "outputs": [],
   "source": [
    "sf_codes"
   ]
  },
  {
   "cell_type": "code",
   "execution_count": null,
   "metadata": {
    "collapsed": false
   },
   "outputs": [],
   "source": [
    "ma = empltbl3.GRADE.isin(ma_codes)\n",
    "print sum(ma), ma_codes"
   ]
  },
  {
   "cell_type": "code",
   "execution_count": null,
   "metadata": {
    "collapsed": false
   },
   "outputs": [],
   "source": [
    "fig = plt.figure(figsize=(12.5,5))\n",
    "\n",
    "kmf_grade=KaplanMeierFitter()\n",
    "\n",
    "kmf_grade.fit(empltbl3[ma].Tenure_months, timeline=tenure_month_range, event_observed=empltbl3[ma].status,label='MA')\n",
    "#grade_sf_df = pd.DataFrame(kmf_grade.survival_function_)\n",
    "ax = fig.add_subplot(111)\n",
    "kmf_grade.plot(ax=ax,c='darkred')\n",
    "kmf_grade.fit(empltbl3[~ma].Tenure_months, timeline=tenure_month_range,event_observed=empltbl3[~ma].status,label='non MA')\n",
    "kmf_grade.plot(ax=ax,color='darkslategray')\n",
    "plt.ylim(0,1.05)\n",
    "plt.ylabel('Survival Distribution Function')\n",
    "plt.xlabel('Tenure Months')"
   ]
  },
  {
   "cell_type": "code",
   "execution_count": null,
   "metadata": {
    "collapsed": false
   },
   "outputs": [],
   "source": [
    "pa = empltbl3.GRADE.isin(pa_codes)\n",
    "print sum(pa), pa_codes"
   ]
  },
  {
   "cell_type": "code",
   "execution_count": null,
   "metadata": {
    "collapsed": false
   },
   "outputs": [],
   "source": [
    "grade_sf_df.columns"
   ]
  },
  {
   "cell_type": "code",
   "execution_count": null,
   "metadata": {
    "collapsed": false
   },
   "outputs": [],
   "source": [
    "### More directly look at these 20 groupings:\n",
    "# create a dataFrame of these survival functions.\n",
    "\n",
    "\n",
    "fig = plt.figure(figsize=(12.5,5))\n",
    "#figsize(16,8)\n",
    "\n",
    "#grade_groups = #list(empltbl3.GRADE.value_counts()[:85].index)\n",
    "kmf_grade=KaplanMeierFitter()\n",
    "\n",
    "kmf_grade.fit(empltbl3.Tenure_months, timeline=tenure_month_range, event_observed=empltbl3.status,label='ALL')\n",
    "gp_grade_sf_df = pd.DataFrame(kmf_grade.survival_function_)\n",
    "ax=fig.add_subplot(111)\n",
    "kmf_grade.plot(ax=ax,c='darkslategray')\n",
    "for g in grade_groupings_list_A:\n",
    "    \n",
    "    #plt.figure(figsize=(20,10))\n",
    "    gem_grade = empltbl3.GRADE.isin(g)\n",
    "    kmf_grade.fit(empltbl3[gem_grade].Tenure_months, timeline=tenure_month_range,event_observed=empltbl3[gem_grade].status)#,label=grade)\n",
    "    #if grade.startswith('MG'):\n",
    "    kmf_grade.plot(ax=ax)\n",
    "    gp_grade_sf_df = pd.concat([gp_grade_sf_df,kmf_grade.survival_function_],axis=1)\n",
    "#kmf_gender.fit(female.Tenure_months,  timeline=tenure_month_range,event_observed=female.status)\n",
    "#kmf_gender.plot(ax=ax, c='deeppink',label='Female')\n",
    "\n",
    "plt.ylim(0,1.05)\n",
    "plt.ylabel('Survival Distribution Function')\n",
    "plt.xlabel('Tenure Months')\n",
    "\n",
    "#print sum(empltbl3.GRADE.isin(g)), g"
   ]
  },
  {
   "cell_type": "code",
   "execution_count": null,
   "metadata": {
    "collapsed": false
   },
   "outputs": [],
   "source": [
    "gp_grade_sf_df.columns=['ALL','MG','C','MA','PA','PB','SF','RA','RD','RE','RB','RC','PC','L','FA', 'U', 'B', 'NON','M','R*','OTHR']#,inplace=True)\n",
    "                               #mg_codes,clvl_codes,ma_codes,pa_codes,pb_codes,sf_codes, ra_codes,rd_codes,re_codes, rb_codes, rc_codes,\n",
    "                          #pc_codes,l_codes,fa_codes, u_codes,b_codes,non_codes,m_codes,rx_codes,oth_codes\n",
    "\n",
    "gp_grade_sf_df.head()"
   ]
  },
  {
   "cell_type": "code",
   "execution_count": null,
   "metadata": {
    "collapsed": false
   },
   "outputs": [],
   "source": [
    "gp_grade_sf_df.iloc[1].plot(kind='bar',color='steelblue')\n",
    "plt.title('Survival Propensity at 1 year')\n",
    "plt.ylabel('Survival Distribution')\n",
    "plt.xlabel('Grouped Grade code')"
   ]
  },
  {
   "cell_type": "code",
   "execution_count": null,
   "metadata": {
    "collapsed": false
   },
   "outputs": [],
   "source": [
    "np.where(gp_grade_sf_df.ALL.values <=0.50)[0][0]"
   ]
  },
  {
   "cell_type": "code",
   "execution_count": null,
   "metadata": {
    "collapsed": false
   },
   "outputs": [],
   "source": [
    "gp_grade_sf_df[gp_grade_sf_df['ALL']<=0.50].index[0]/12.\n"
   ]
  },
  {
   "cell_type": "code",
   "execution_count": null,
   "metadata": {
    "collapsed": false
   },
   "outputs": [],
   "source": [
    "### Function to return the time when distribution falls to 50%\n",
    "def find_Npct_survival(x,npct=0.50):\n",
    "    first_index = np.where(x <=npct)[0][0]\n",
    "    #ten_years = \n",
    "    print first_index, x.iloc[first_index], x.index[first_index]#.timeline\n",
    "    #first_index-1\n",
    "    #, x.iloc[first_index-1]\n",
    "    return x.index[first_index]"
   ]
  },
  {
   "cell_type": "code",
   "execution_count": null,
   "metadata": {
    "collapsed": false
   },
   "outputs": [],
   "source": [
    "gp_grade_sf_df['ALL'].index[12]"
   ]
  },
  {
   "cell_type": "code",
   "execution_count": null,
   "metadata": {
    "collapsed": false
   },
   "outputs": [],
   "source": [
    "cnames = []\n",
    "fiftyPCT = []\n",
    "for c in gp_grade_sf_df.columns:\n",
    "    cnames.append(c)\n",
    "    fiftyPCT.append(find_Npct_survival(gp_grade_sf_df[c])/12.)#.apply(lambda x: find_Npct_survival(x))"
   ]
  },
  {
   "cell_type": "code",
   "execution_count": null,
   "metadata": {
    "collapsed": false
   },
   "outputs": [],
   "source": [
    "xvals= xrange(len(cnames))\n",
    "h = plt.bar(xvals,fiftyPCT,color='steelblue')\n",
    "plt.ylabel('Number of Tenure Years where SF <= 50%')\n",
    "#plt.xlim(0,21)\n",
    "plt.xlabel('Grouped Grades')\n",
    "plt.title('Job Grades impact on SF fraction.')\n",
    "\n",
    "xticks_pos = [0.65*patch.get_width() + patch.get_xy()[0] for patch in h]\n",
    "plt.xticks(xticks_pos,cnames,rotation='vertical')\n",
    "plt.grid(True)\n",
    "plt.xlim(0,21)"
   ]
  },
  {
   "cell_type": "markdown",
   "metadata": {},
   "source": [
    "## TRY To look at how age effects sF\n",
    "* bin this?"
   ]
  },
  {
   "cell_type": "code",
   "execution_count": null,
   "metadata": {
    "collapsed": false
   },
   "outputs": [],
   "source": [
    "empltbl3.Age_years.hist(bins=70,range=[15,84],color='darkorchid')"
   ]
  },
  {
   "cell_type": "code",
   "execution_count": null,
   "metadata": {
    "collapsed": false
   },
   "outputs": [],
   "source": [
    "empltbl3.Age_years.describe()"
   ]
  },
  {
   "cell_type": "code",
   "execution_count": null,
   "metadata": {
    "collapsed": false
   },
   "outputs": [],
   "source": [
    "empltbl3.Age_years.head()"
   ]
  },
  {
   "cell_type": "code",
   "execution_count": null,
   "metadata": {
    "collapsed": false
   },
   "outputs": [],
   "source": [
    "empltbl3['AgeGroup'] = pd.cut(empltbl3.Age_years,[0,24.5,34.5,44.5,54.5,64.5,100],labels=['0','1','2','3','4','5'])"
   ]
  },
  {
   "cell_type": "code",
   "execution_count": null,
   "metadata": {
    "collapsed": false
   },
   "outputs": [],
   "source": [
    "age_group_labels = ['0','1','2','3','4','5']\n",
    "fig = plt.figure(figsize=(12.5,5))\n",
    "kmf_agp = KaplanMeierFitter()\n",
    "kmf_agp.fit(empltbl3.Tenure_months, timeline=tenure_month_range, event_observed=empltbl3.status,label='ALL')\n",
    "    \n",
    "age_gp_sf_df = pd.DataFrame(kmf_agp.survival_function_)\n",
    "ax=fig.add_subplot(111)\n",
    "kmf_agp.plot(ax=ax,c='darkslategray')\n",
    "\n",
    "for ag in age_group_labels:\n",
    "    age_group = empltbl3[empltbl3.AgeGroup == ag]\n",
    "    print ag, len(age_group)\n",
    "    \n",
    "    \n",
    "        \n",
    "    kmf_agp.fit(age_group.Tenure_months, timeline=tenure_month_range,event_observed=age_group.status,label=ag)\n",
    "    \n",
    "    kmf_agp.plot(ax=ax)\n",
    "    age_gp_sf_df = pd.concat([age_gp_sf_df,kmf_grade.survival_function_],axis=1)\n",
    "\n",
    "plt.ylim(0,1.05)\n",
    "plt.ylabel('Survival Distribution Function')\n",
    "plt.xlabel('Tenure Months')\n",
    "plt.title('Survival for various age groups')\n",
    "\n",
    "#print sum(empltbl3.GRADE.isin(g)), g"
   ]
  },
  {
   "cell_type": "code",
   "execution_count": null,
   "metadata": {
    "collapsed": false
   },
   "outputs": [],
   "source": []
  },
  {
   "cell_type": "code",
   "execution_count": null,
   "metadata": {
    "collapsed": false
   },
   "outputs": [],
   "source": [
    "age_gp_sf_df.columns = ['ALL','0to25','25to35','35to45','45to55','55to65','65to100']#+=age_group_labels\n",
    "age_gp_sf_df.head()"
   ]
  },
  {
   "cell_type": "code",
   "execution_count": null,
   "metadata": {
    "collapsed": false
   },
   "outputs": [],
   "source": [
    "age_grp_types = empltbl3.AgeGroup.unique()\n",
    "kmf= KaplanMeierFitter()\n",
    "fig = plt.figure(figsize=(16,9))\n",
    "\n",
    "for i,agp_type in enumerate(age_grp_types):\n",
    "    ax = plt.subplot(2,3,i+1)\n",
    "    ix = empltbl3['AgeGroup'] == agp_type\n",
    "    kmf.fit( empltbl3[ix].Tenure_months, empltbl3[ix].status, label=age_gp_sf_df.columns[i+1])\n",
    "    kmf.plot(ax=ax, legend=False)\n",
    "    plt.title(age_gp_sf_df.columns[i+1])\n",
    "    plt.xlim(0,500)\n",
    "    if i==0:\n",
    "        plt.ylabel('Frac. Working after $n$ months')\n",
    "    if i == 3:\n",
    "        plt.xlabel(\"Tenure in Months\")\n",
    "plt.tight_layout()"
   ]
  },
  {
   "cell_type": "code",
   "execution_count": null,
   "metadata": {
    "collapsed": false
   },
   "outputs": [],
   "source": [
    "sdf[sdf.Column.isin(cols_to_categorical)]"
   ]
  },
  {
   "cell_type": "markdown",
   "metadata": {},
   "source": [
    "## this was descriptive, how to make it predictive?"
   ]
  },
  {
   "cell_type": "markdown",
   "metadata": {},
   "source": [
    "Try using `AalenAdditiveFitter`"
   ]
  },
  {
   "cell_type": "code",
   "execution_count": null,
   "metadata": {
    "collapsed": true
   },
   "outputs": [],
   "source": [
    "from lifelines import AalenAdditiveFitter\n",
    "import patsy"
   ]
  },
  {
   "cell_type": "code",
   "execution_count": null,
   "metadata": {
    "collapsed": false
   },
   "outputs": [],
   "source": [
    "X = patsy.dmatrix('Age_years + COMPANY + INTERN + SEX',empltbl4, return_type='dataframe')\n",
    "X.columns\n"
   ]
  },
  {
   "cell_type": "code",
   "execution_count": null,
   "metadata": {
    "collapsed": false
   },
   "outputs": [],
   "source": [
    "aaf = AalenAdditiveFitter(penalizer=1.0, fit_intercept=True)\n",
    "X['T'] = empltbl4['Tenure_years']\n",
    "X['E'] = empltbl4['status']"
   ]
  },
  {
   "cell_type": "code",
   "execution_count": null,
   "metadata": {
    "collapsed": false
   },
   "outputs": [],
   "source": [
    "aaf.fit(X,'T','E')"
   ]
  },
  {
   "cell_type": "code",
   "execution_count": null,
   "metadata": {
    "collapsed": false
   },
   "outputs": [],
   "source": [
    "aaf.plot()"
   ]
  },
  {
   "cell_type": "code",
   "execution_count": null,
   "metadata": {
    "collapsed": false
   },
   "outputs": [],
   "source": [
    "aaf.cumulative_hazards_.loc[40:]"
   ]
  },
  {
   "cell_type": "code",
   "execution_count": null,
   "metadata": {
    "collapsed": false
   },
   "outputs": [],
   "source": [
    "aaf."
   ]
  },
  {
   "cell_type": "code",
   "execution_count": null,
   "metadata": {
    "collapsed": true
   },
   "outputs": [],
   "source": []
  },
  {
   "cell_type": "code",
   "execution_count": null,
   "metadata": {
    "collapsed": true
   },
   "outputs": [],
   "source": []
  },
  {
   "cell_type": "code",
   "execution_count": null,
   "metadata": {
    "collapsed": false
   },
   "outputs": [],
   "source": [
    "#X = patsy.dmatrix('SEX + AgeGroup + INTERN + DIVISION_CODE_SFI -1', empltbl3, return_type='dataframe')\n",
    "X = patsy.dmatrix('AgeGroup + INTERN -1', empltbl3, return_type='dataframe')\n",
    "X.columns"
   ]
  },
  {
   "cell_type": "code",
   "execution_count": null,
   "metadata": {
    "collapsed": false
   },
   "outputs": [],
   "source": [
    "aaf = AalenAdditiveFitter(penalizer=1.0, fit_intercept=True)\n",
    "X['T'] = empltbl3['Tenure_years']\n",
    "X['E'] = empltbl3['status']"
   ]
  },
  {
   "cell_type": "code",
   "execution_count": null,
   "metadata": {
    "collapsed": false
   },
   "outputs": [],
   "source": [
    "aaf.fit(X,'T','E')"
   ]
  },
  {
   "cell_type": "code",
   "execution_count": null,
   "metadata": {
    "collapsed": false
   },
   "outputs": [],
   "source": [
    "aaf.cumulative_hazards_.head()"
   ]
  },
  {
   "cell_type": "markdown",
   "metadata": {},
   "source": [
    "### Plot the Estimates of cumulative $\\beta_i$"
   ]
  },
  {
   "cell_type": "code",
   "execution_count": null,
   "metadata": {
    "collapsed": false
   },
   "outputs": [],
   "source": [
    "aaf.plot( columns=[ 'AgeGroup[0]','AgeGroup[1]','AgeGroup[2]','INTERN[T.Y]', 'baseline' ], ix=slice(1,35) )"
   ]
  },
  {
   "cell_type": "markdown",
   "metadata": {},
   "source": [
    "## try to predict someone's tenure"
   ]
  },
  {
   "cell_type": "code",
   "execution_count": null,
   "metadata": {
    "collapsed": true
   },
   "outputs": [],
   "source": [
    "ix = (empltbl3['AgeGroup'] == '0')\n",
    "ib = (empltbl3['AgeGroup'] == '2')\n",
    "#harper = X[ix,:][-1,:][None,:]\n",
    "#harper[0,-1] = 2003\n",
    "#print \"Harper's unique data point\""
   ]
  },
  {
   "cell_type": "code",
   "execution_count": null,
   "metadata": {
    "collapsed": false
   },
   "outputs": [],
   "source": [
    "X[ix].iloc[[0,2],0:-2]"
   ]
  },
  {
   "cell_type": "code",
   "execution_count": null,
   "metadata": {
    "collapsed": false
   },
   "outputs": [],
   "source": [
    "X[ib].iloc[20:25]#,0:-2]"
   ]
  },
  {
   "cell_type": "code",
   "execution_count": null,
   "metadata": {
    "collapsed": false
   },
   "outputs": [],
   "source": [
    "test1 = X[ix].iloc[0] \n",
    "test2 = X[ix].iloc[2]"
   ]
  },
  {
   "cell_type": "code",
   "execution_count": null,
   "metadata": {
    "collapsed": false
   },
   "outputs": [],
   "source": [
    "test2.values"
   ]
  },
  {
   "cell_type": "code",
   "execution_count": null,
   "metadata": {
    "collapsed": false
   },
   "outputs": [],
   "source": [
    "aaf.predict_survival_function(X[ix].iloc[[0,2],0:-2]).plot()\n",
    "plt.xlim(0,10)\n",
    "aaf.predict_survival_function(X[ib].iloc[[20,21],0:-2]).plot()\n",
    "plt.xlim(0,10)"
   ]
  },
  {
   "cell_type": "code",
   "execution_count": null,
   "metadata": {
    "collapsed": false
   },
   "outputs": [],
   "source": [
    "fig = plt.figure(figsize=(12,5))\n",
    "ax = fig.add_subplot(2,1,1)\n",
    "aaf.predict_cumulative_hazard(test1.values).plot(ax=ax)"
   ]
  },
  {
   "cell_type": "code",
   "execution_count": null,
   "metadata": {
    "collapsed": false
   },
   "outputs": [],
   "source": [
    "[x for x in sdf.Column if x.startswith('JOB')]"
   ]
  },
  {
   "cell_type": "code",
   "execution_count": null,
   "metadata": {
    "collapsed": false
   },
   "outputs": [],
   "source": [
    "sdf[sdf.Column == 'GRADE']"
   ]
  },
  {
   "cell_type": "code",
   "execution_count": null,
   "metadata": {
    "collapsed": false
   },
   "outputs": [],
   "source": [
    "current.GRADE.value_counts()"
   ]
  },
  {
   "cell_type": "code",
   "execution_count": null,
   "metadata": {
    "collapsed": true
   },
   "outputs": [],
   "source": []
  },
  {
   "cell_type": "code",
   "execution_count": null,
   "metadata": {
    "collapsed": true
   },
   "outputs": [],
   "source": []
  },
  {
   "cell_type": "markdown",
   "metadata": {},
   "source": [
    "# Construct a graph out of the active employees\n",
    "* use the index from the dataframe as the node number"
   ]
  },
  {
   "cell_type": "code",
   "execution_count": null,
   "metadata": {
    "collapsed": false
   },
   "outputs": [],
   "source": [
    "import networkx as nx\n",
    "G=nx.DiGraph()\n"
   ]
  },
  {
   "cell_type": "code",
   "execution_count": null,
   "metadata": {
    "collapsed": false
   },
   "outputs": [],
   "source": [
    "#initialize with the ceo index\n",
    "#initialize with the ceo index\n",
    "#initialize with the ceo index\n",
    "ceo_index = list(current[current.KEY==ceo_key].index)[0]\n",
    "print ceo_index,ceo_key\n",
    "G.add_node(ceo_index)\n",
    "G.graph"
   ]
  },
  {
   "cell_type": "code",
   "execution_count": null,
   "metadata": {
    "collapsed": true
   },
   "outputs": [],
   "source": [
    "def id_dependents("
   ]
  },
  {
   "cell_type": "code",
   "execution_count": null,
   "metadata": {
    "collapsed": false
   },
   "outputs": [],
   "source": [
    "# now apply some logic to these columns for keeping and not\n",
    "columns_to_fix_missing = []\n",
    "columns_to_fix_NY = []\n",
    "columns_to_omit = []"
   ]
  },
  {
   "cell_type": "code",
   "execution_count": null,
   "metadata": {
    "collapsed": false
   },
   "outputs": [],
   "source": [
    "columns_to_fix_missing"
   ]
  },
  {
   "cell_type": "code",
   "execution_count": null,
   "metadata": {
    "collapsed": false
   },
   "outputs": [],
   "source": []
  },
  {
   "cell_type": "code",
   "execution_count": null,
   "metadata": {
    "collapsed": false
   },
   "outputs": [],
   "source": [
    "len(sdf[sdf['datatype']=='object'])"
   ]
  },
  {
   "cell_type": "code",
   "execution_count": null,
   "metadata": {
    "collapsed": false
   },
   "outputs": [],
   "source": [
    "sdf[(sdf['datatype']=='object') & (sdf['x_missing']<=missing_threshold) & (sdf['x_missing'] > 0)]"
   ]
  },
  {
   "cell_type": "code",
   "execution_count": null,
   "metadata": {
    "collapsed": false
   },
   "outputs": [],
   "source": [
    "empltbl3[empltbl3.STATE == 'NB'][['status','LOC_STATE','LOC_CITY','JOB_FUNCTION']]#,'zip5']]"
   ]
  },
  {
   "cell_type": "code",
   "execution_count": null,
   "metadata": {
    "collapsed": false
   },
   "outputs": [],
   "source": [
    "sdf.head()"
   ]
  },
  {
   "cell_type": "code",
   "execution_count": null,
   "metadata": {
    "collapsed": false
   },
   "outputs": [],
   "source": [
    "empltbl[empltbl.POSTAL_SFI.isnull()].zip5"
   ]
  },
  {
   "cell_type": "code",
   "execution_count": null,
   "metadata": {
    "collapsed": false
   },
   "outputs": [],
   "source": [
    "empltbl.ACTRES1.tail()"
   ]
  },
  {
   "cell_type": "code",
   "execution_count": null,
   "metadata": {
    "collapsed": false
   },
   "outputs": [],
   "source": [
    "# omit those that have more than 40% missing:\n",
    "columns_to_omit = sdf[sdf['x_missing'] > missing_threshold].Column.values\n",
    "print len(columns_to_omit)\n",
    "columns_to_omit"
   ]
  },
  {
   "cell_type": "code",
   "execution_count": null,
   "metadata": {
    "collapsed": false
   },
   "outputs": [],
   "source": []
  },
  {
   "cell_type": "code",
   "execution_count": null,
   "metadata": {
    "collapsed": false
   },
   "outputs": [],
   "source": [
    "pd.crosstab(empltbl['HUBIND'],empltbl['SUPV_DIFF_LOC'])"
   ]
  },
  {
   "cell_type": "code",
   "execution_count": null,
   "metadata": {
    "collapsed": false
   },
   "outputs": [],
   "source": [
    "empltbl.FLSA_STATUS.value_counts()"
   ]
  },
  {
   "cell_type": "code",
   "execution_count": null,
   "metadata": {
    "collapsed": false
   },
   "outputs": [],
   "source": [
    "empltbl.JOB_FAMILY.value_counts()[empltbl.JOB_FAMILY.value_counts()>100]"
   ]
  },
  {
   "cell_type": "code",
   "execution_count": null,
   "metadata": {
    "collapsed": false
   },
   "outputs": [],
   "source": [
    "sort(columns_to_keep)"
   ]
  },
  {
   "cell_type": "code",
   "execution_count": null,
   "metadata": {
    "collapsed": false
   },
   "outputs": [],
   "source": [
    "reduced_tbl = empltbl[columns_to_keep].copy()\n",
    "reduced_tbl.shape"
   ]
  },
  {
   "cell_type": "code",
   "execution_count": null,
   "metadata": {
    "collapsed": false
   },
   "outputs": [],
   "source": [
    "## drop those that are not VOL or NOT in VOLINVOL column\n",
    "sum(reduced_tbl.isin({'VOLINVOL':['NOT','VOLUNTARY']}))"
   ]
  },
  {
   "cell_type": "code",
   "execution_count": null,
   "metadata": {
    "collapsed": false
   },
   "outputs": [],
   "source": [
    "for cat_col in cols_to_categorical:\n",
    "    reduced_tbl[cat_col] = reduced_tbl[cat_col].astype('category')\n"
   ]
  },
  {
   "cell_type": "code",
   "execution_count": null,
   "metadata": {
    "collapsed": false
   },
   "outputs": [],
   "source": [
    "reduced_summary_df = summarize_dataframe2(red_tbl)"
   ]
  },
  {
   "cell_type": "code",
   "execution_count": null,
   "metadata": {
    "collapsed": false
   },
   "outputs": [],
   "source": [
    "reduced_tbl.head()"
   ]
  },
  {
   "cell_type": "code",
   "execution_count": null,
   "metadata": {
    "collapsed": false
   },
   "outputs": [],
   "source": [
    "reduced_tbl.columns"
   ]
  },
  {
   "cell_type": "code",
   "execution_count": null,
   "metadata": {
    "collapsed": false
   },
   "outputs": [],
   "source": [
    "pd.crosstab(reduced_tbl['REMOTE'],reduced_tbl['HUBIND'])"
   ]
  },
  {
   "cell_type": "code",
   "execution_count": null,
   "metadata": {
    "collapsed": false
   },
   "outputs": [],
   "source": [
    "pd.crosstab(reduced_tbl['FTPTCNT1'],reduced_tbl['PTFTCNT1'])"
   ]
  },
  {
   "cell_type": "code",
   "execution_count": null,
   "metadata": {
    "collapsed": false
   },
   "outputs": [],
   "source": [
    "reduced_tbl.FULL_PART_TIME.value_counts()"
   ]
  },
  {
   "cell_type": "code",
   "execution_count": null,
   "metadata": {
    "collapsed": false
   },
   "outputs": [],
   "source": [
    "## further reduce by removing\n",
    "FULL_PART_TIME, ACTRES1, KEY, "
   ]
  },
  {
   "cell_type": "code",
   "execution_count": null,
   "metadata": {
    "collapsed": true
   },
   "outputs": [],
   "source": []
  },
  {
   "cell_type": "code",
   "execution_count": null,
   "metadata": {
    "collapsed": false
   },
   "outputs": [],
   "source": [
    "len(reduced_tbl.JOB_FAMILY.unique()), len(reduced_tbl.JOB_FUNCTION.unique()), len(reduced_tbl.GRADE.unique()),len(reduced_tbl.JOBCODE.unique())"
   ]
  },
  {
   "cell_type": "code",
   "execution_count": null,
   "metadata": {
    "collapsed": false
   },
   "outputs": [],
   "source": [
    "reduced_tbl.JOB_FUNCTION.value_counts().plot(kind='bar',color='burlywood')"
   ]
  },
  {
   "cell_type": "code",
   "execution_count": null,
   "metadata": {
    "collapsed": false
   },
   "outputs": [],
   "source": [
    "reduced_tbl.GRADE.value_counts().plot(kind='bar',color='burlywood')"
   ]
  },
  {
   "cell_type": "code",
   "execution_count": null,
   "metadata": {
    "collapsed": false
   },
   "outputs": [],
   "source": [
    "#sum(reduced_tbl.MAX_RT_ANNUAL==0)\n",
    "reduced_tbl[reduced_tbl.ANNUAL_RT!=0].ANNUAL_RT.hist(bins=40,color='darkorchid')"
   ]
  },
  {
   "cell_type": "code",
   "execution_count": null,
   "metadata": {
    "collapsed": false
   },
   "outputs": [],
   "source": [
    "sum(reduced_tbl.ANNUAL_RT==0)"
   ]
  },
  {
   "cell_type": "code",
   "execution_count": null,
   "metadata": {
    "collapsed": false
   },
   "outputs": [],
   "source": [
    "reduced_tbl['JOB_FUNCTION'].unique()"
   ]
  },
  {
   "cell_type": "code",
   "execution_count": null,
   "metadata": {
    "collapsed": false
   },
   "outputs": [],
   "source": [
    "initial_columns_list = ['SEX','INTERN','FULL_PART_TIME']#,'COMPANY','VOLINVOL']#'JOB_FUNCTION','COMPANY','HUBIND','VOLINVOL']\n",
    "sum(reduced_tbl[initial_columns_list].isnull())"
   ]
  },
  {
   "cell_type": "code",
   "execution_count": null,
   "metadata": {
    "collapsed": false
   },
   "outputs": [],
   "source": [
    "jf_hold = reduced_tbl.JOB_FUNCTION.astype('object')\n",
    "jf_hold.fillna('XXX',inplace=True)\n",
    "reduced_tbl['JOB_FUNCTION'] = jf_hold\n",
    "reduced_tbl['JOB_FUNCTION'] = reduced_tbl['JOB_FUNCTION'].astype('category')"
   ]
  },
  {
   "cell_type": "code",
   "execution_count": null,
   "metadata": {
    "collapsed": false
   },
   "outputs": [],
   "source": [
    "initial_columns_list = ['SEX','Age_years','INTERN','FULL_PART_TIME','JOB_FUNCTION','COMPANY','HUBIND','VOLINVOL']\n",
    "sum(reduced_tbl[initial_columns_list].isnull())"
   ]
  },
  {
   "cell_type": "code",
   "execution_count": null,
   "metadata": {
    "collapsed": false
   },
   "outputs": [],
   "source": [
    "#pull out the reduced columns\n",
    "fill_flag = True\n",
    "reduced2 = reduced_tbl[initial_columns_list].copy()\n",
    "for c in reduced2.columns:\n",
    "    nmissing = sum(reduced2[c].isnull())\n",
    "    datatype = reduced2[c].dtype\n",
    "    if nmissing > 0 and fill_flag:\n",
    "        if datatype=='category':\n",
    "            reduced2[c].fillna('XNA',inplace=True)\n",
    "    \n",
    "        \n",
    "    print c, reduced2[c].dtype"
   ]
  },
  {
   "cell_type": "code",
   "execution_count": null,
   "metadata": {
    "collapsed": false
   },
   "outputs": [],
   "source": [
    "reduced2 = reduced_tbl[initial_columns_list].copy()\n",
    "reduced2.shape"
   ]
  },
  {
   "cell_type": "code",
   "execution_count": null,
   "metadata": {
    "collapsed": false
   },
   "outputs": [],
   "source": [
    "dummy_columns_list1 = list(reduced2.columns) #['SEX','INTERN','FULL_PART_TIME','JOB_FUNCTION','COMPANY','HUBIND','VOLINVOL']"
   ]
  },
  {
   "cell_type": "code",
   "execution_count": null,
   "metadata": {
    "collapsed": false
   },
   "outputs": [],
   "source": [
    "# create a dummified dataframe.\n",
    "reduced_dummies = pd.get_dummies(reduced2[dummy_columns_list1])\n",
    "print reduced_dummies.shape    "
   ]
  },
  {
   "cell_type": "code",
   "execution_count": null,
   "metadata": {
    "collapsed": false
   },
   "outputs": [],
   "source": [
    "dummy_column_list2 = list(reduced_dummies.columns)"
   ]
  },
  {
   "cell_type": "code",
   "execution_count": null,
   "metadata": {
    "collapsed": false
   },
   "outputs": [],
   "source": [
    "dummy_col_to_drop = []\n",
    "for col in dummy_columns_list1:\n",
    "    dclist = [x for x in dummy_column_list2 if x.startswith(col)]\n",
    "    print dclist\n",
    "    dummy_col_to_drop.append(dclist[0])\n",
    "\n",
    "dummy_col_to_keep = list(set(dummy_column_list2) - set(dummy_col_to_drop))\n",
    "\n",
    "reduced3 = reduced_dummies[dummy_col_to_keep].copy()\n",
    "#add the non-categorical back in\n",
    "#reduced3[initial_columns_list[1]] = reduced2[initial_columns_list[1]]\n",
    "reduced3.shape"
   ]
  },
  {
   "cell_type": "code",
   "execution_count": null,
   "metadata": {
    "collapsed": true
   },
   "outputs": [],
   "source": [
    "## add in status and time\n",
    "reduced3['Age'] = empltbl['Age_years']\n",
    "reduced3['status'] = empltbl['status']\n",
    "reduced3['Tenure'] = empltbl['Tenure_months']"
   ]
  },
  {
   "cell_type": "markdown",
   "metadata": {},
   "source": [
    "## Aalen's Additive model"
   ]
  },
  {
   "cell_type": "code",
   "execution_count": null,
   "metadata": {
    "collapsed": false
   },
   "outputs": [],
   "source": [
    "from lifelines import AalenAdditiveFitter\n",
    "reduced3.head()"
   ]
  },
  {
   "cell_type": "code",
   "execution_count": null,
   "metadata": {
    "collapsed": false
   },
   "outputs": [],
   "source": [
    "reduced3.columns"
   ]
  },
  {
   "cell_type": "code",
   "execution_count": null,
   "metadata": {
    "collapsed": false
   },
   "outputs": [],
   "source": [
    "aaf_tenure = AalenAdditiveFitter(penalizer=1.0,fit_intercept=True)"
   ]
  },
  {
   "cell_type": "code",
   "execution_count": null,
   "metadata": {
    "collapsed": false
   },
   "outputs": [],
   "source": [
    "aaf_tenure.fit(reduced3,'Tenure',event_col='status')"
   ]
  },
  {
   "cell_type": "code",
   "execution_count": null,
   "metadata": {
    "collapsed": false
   },
   "outputs": [],
   "source": [
    "aaf_tenure.plot(columns=['FULL_PART_TIME_P','Age','SEX_M','baseline'])"
   ]
  },
  {
   "cell_type": "code",
   "execution_count": null,
   "metadata": {
    "collapsed": false
   },
   "outputs": [],
   "source": [
    "aaf_tenure_b = AalenAdditiveFitter(penalizer=1.0,fit_intercept=True)"
   ]
  },
  {
   "cell_type": "code",
   "execution_count": null,
   "metadata": {
    "collapsed": false
   },
   "outputs": [],
   "source": [
    "aaf_tenure_b.fit(reduced3,'Tenure',event_col='status')"
   ]
  },
  {
   "cell_type": "code",
   "execution_count": null,
   "metadata": {
    "collapsed": true
   },
   "outputs": [],
   "source": []
  },
  {
   "cell_type": "markdown",
   "metadata": {},
   "source": [
    "## CoxPH"
   ]
  },
  {
   "cell_type": "code",
   "execution_count": null,
   "metadata": {
    "collapsed": true
   },
   "outputs": [],
   "source": [
    "from lifelines import CoxPHFitter"
   ]
  },
  {
   "cell_type": "code",
   "execution_count": null,
   "metadata": {
    "collapsed": false
   },
   "outputs": [],
   "source": [
    "cf_tenure = CoxPHFitter()\n",
    "cf_tenure.fit(reduced3,'Tenure',event_col='status')\n"
   ]
  },
  {
   "cell_type": "code",
   "execution_count": null,
   "metadata": {
    "collapsed": false
   },
   "outputs": [],
   "source": [
    "cf_tenure.summary()"
   ]
  },
  {
   "cell_type": "code",
   "execution_count": null,
   "metadata": {
    "collapsed": false
   },
   "outputs": [],
   "source": [
    "cf_tenure.plot(columns=['FULL_PART_TIME_P','Age','SEX_M','baseline'])"
   ]
  },
  {
   "cell_type": "code",
   "execution_count": null,
   "metadata": {
    "collapsed": false
   },
   "outputs": [],
   "source": [
    "cf_tenure.hazards_"
   ]
  },
  {
   "cell_type": "code",
   "execution_count": null,
   "metadata": {
    "collapsed": false
   },
   "outputs": [],
   "source": [
    "cf_tenure.baseline_cumulative_hazard_.plot()"
   ]
  },
  {
   "cell_type": "code",
   "execution_count": null,
   "metadata": {
    "collapsed": true
   },
   "outputs": [],
   "source": [
    "cf_tenurereenure.base"
   ]
  },
  {
   "cell_type": "code",
   "execution_count": null,
   "metadata": {
    "collapsed": true
   },
   "outputs": [],
   "source": [
    "reduced3.index = np.arange(0,len(reduced3))"
   ]
  },
  {
   "cell_type": "code",
   "execution_count": null,
   "metadata": {
    "collapsed": false
   },
   "outputs": [],
   "source": [
    "# k-fold\n",
    "\n",
    "from lifelines.utils import k_fold_cross_validation\n",
    "\n",
    "#regression_dataset = load_regression_dataset()\n",
    "cf = CoxPHFitter()\n",
    "scores = k_fold_cross_validation(cf, reduced3, 'Tenure', event_col='status', k=5)\n",
    "print scores\n",
    "print scores.mean()\n",
    "print scores.std()"
   ]
  },
  {
   "cell_type": "code",
   "execution_count": null,
   "metadata": {
    "collapsed": true
   },
   "outputs": [],
   "source": []
  },
  {
   "cell_type": "code",
   "execution_count": null,
   "metadata": {
    "collapsed": true
   },
   "outputs": [],
   "source": []
  },
  {
   "cell_type": "code",
   "execution_count": null,
   "metadata": {
    "collapsed": true
   },
   "outputs": [],
   "source": [
    "import patsy"
   ]
  },
  {
   "cell_type": "code",
   "execution_count": null,
   "metadata": {
    "collapsed": false
   },
   "outputs": [],
   "source": [
    "X = patsy.dmatrix('SEX + JOB_FUNCTION + Age_years + INTERN + COMPANY + VOLINVOL + HUBIND - 1', reduced2, return_type='dataframe')"
   ]
  },
  {
   "cell_type": "code",
   "execution_count": null,
   "metadata": {
    "collapsed": false
   },
   "outputs": [],
   "source": [
    "patsy.__version__"
   ]
  },
  {
   "cell_type": "code",
   "execution_count": null,
   "metadata": {
    "collapsed": true
   },
   "outputs": [],
   "source": [
    "# now use lifelines\n",
    "from lifelines import KaplanMeierFitter"
   ]
  },
  {
   "cell_type": "code",
   "execution_count": null,
   "metadata": {
    "collapsed": false
   },
   "outputs": [],
   "source": [
    "figsize(14,6)\n",
    "kmf = KaplanMeierFitter()\n",
    "kmf.fit(empltbl.Tenure_months, event_observed=empltbl.status)\n",
    "kmf.plot()\n",
    "plt.ylabel('Survival Distribution Function')\n",
    "plt.xlabel('Tenure months')\n",
    "plt.title('KaplanMeier Survival: ALL employees')"
   ]
  },
  {
   "cell_type": "code",
   "execution_count": null,
   "metadata": {
    "collapsed": true
   },
   "outputs": [],
   "source": [
    "kmf.survival_function_"
   ]
  },
  {
   "cell_type": "markdown",
   "metadata": {
    "collapsed": true
   },
   "source": [
    "### look at difference between M & F"
   ]
  },
  {
   "cell_type": "code",
   "execution_count": null,
   "metadata": {
    "collapsed": false
   },
   "outputs": [],
   "source": [
    "male = empltbl[empltbl['SEX'] =='M']\n",
    "female = empltbl[empltbl['SEX'] =='F']\n",
    "len(male),len(female)"
   ]
  },
  {
   "cell_type": "code",
   "execution_count": null,
   "metadata": {
    "collapsed": false
   },
   "outputs": [],
   "source": [
    "male.Tenure_months.describe(), female.Tenure_months.describe()"
   ]
  },
  {
   "cell_type": "code",
   "execution_count": null,
   "metadata": {
    "collapsed": false
   },
   "outputs": [],
   "source": [
    "min_tenure_months= empltbl.Tenure_months.min()\n",
    "max_tenure_months = empltbl.Tenure_months.max()\n",
    "print min_tenure_months, max_tenure_months\n",
    "tenure_month_range = np.linspace(min_tenure_months,max_tenure_months,65)\n",
    "len(tenure_month_range)"
   ]
  },
  {
   "cell_type": "code",
   "execution_count": null,
   "metadata": {
    "collapsed": false
   },
   "outputs": [],
   "source": [
    "male.Tenure_months.hist(normed=True,color='dodgerblue',bins=65,label='M')\n",
    "female.Tenure_months.hist(normed=True,color='deeppink',alpha=0.5,bins=65,label='F')\n",
    "plt.xlabel('Tenure_months')\n",
    "plt.ylabel('Normed Distribution')\n",
    "plt.legend()"
   ]
  },
  {
   "cell_type": "code",
   "execution_count": null,
   "metadata": {
    "collapsed": false
   },
   "outputs": [],
   "source": [
    "kmf_gender = KaplanMeierFitter()\n",
    "#plt.figure(figsize=(20,10))\n",
    "kmf_gender.fit(male.Tenure_months, timeline=tenure_month_range,event_observed=male.status)\n",
    "ax = kmf_gender.plot(c='dodgerblue',label='Male')\n",
    "kmf_gender.fit(female.Tenure_months,  timeline=tenure_month_range,event_observed=female.status)\n",
    "kmf_gender.plot(ax=ax, c='deeppink',label='Female')\n",
    "ylim(0,1.05)\n",
    "plt.ylabel('Survival Distribution Function')\n",
    "plt.xlabel('Tenure Months')"
   ]
  },
  {
   "cell_type": "markdown",
   "metadata": {
    "collapsed": true
   },
   "source": [
    "## Hazard Function"
   ]
  },
  {
   "cell_type": "code",
   "execution_count": null,
   "metadata": {
    "collapsed": false
   },
   "outputs": [],
   "source": [
    "from lifelines import NelsonAalenFitter\n",
    "#plt.figure(figsize=(12.5,8))\n",
    "naf = NelsonAalenFitter()\n",
    "naf.fit(male.Tenure_months,timeline=tenure_month_range, event_observed=male.status)\n",
    "ax = naf.plot(c='dodgerblue',label='Male')\n",
    "naf.fit(female.Tenure_months,  timeline=tenure_month_range,event_observed=female.status)\n",
    "naf.plot(ax=ax, c='deeppink',label='Female')\n",
    "#ylim(0,1.05)\n",
    "plt.ylabel('Hazard Function')\n",
    "plt.xlabel('Tenure Months')\n",
    "#fit(male.Tenure_months,timeline=tenure_month_range, event_observed=male.status)"
   ]
  },
  {
   "cell_type": "markdown",
   "metadata": {
    "collapsed": true
   },
   "source": [
    "### Repeat using age in years as timeline"
   ]
  },
  {
   "cell_type": "code",
   "execution_count": null,
   "metadata": {
    "collapsed": false
   },
   "outputs": [],
   "source": [
    "empltbl.Age_years.describe()"
   ]
  },
  {
   "cell_type": "code",
   "execution_count": null,
   "metadata": {
    "collapsed": false
   },
   "outputs": [],
   "source": [
    "sum(empltbl.Age_years > 80)"
   ]
  },
  {
   "cell_type": "code",
   "execution_count": null,
   "metadata": {
    "collapsed": false
   },
   "outputs": [],
   "source": [
    "min_age = empltbl.Age_years.min()\n",
    "max_age = empltbl.Age_years.max()\n",
    "print min_age, max_age, max_age - min_age\n",
    "delta_age= int(max_age - min_age)\n",
    "age_range = np.linspace(min_age,max_age,delta_age)\n",
    "len(age_range)"
   ]
  },
  {
   "cell_type": "code",
   "execution_count": null,
   "metadata": {
    "collapsed": false
   },
   "outputs": [],
   "source": [
    "kmf_age = KaplanMeierFitter()\n",
    "kmf_age.fit(empltbl.Age_years, timeline=age_range,event_observed=empltbl.status)\n",
    "kmf_age.plot(color='darkgoldenrod')\n",
    "plt.ylabel('Survival Distribution Function')"
   ]
  },
  {
   "cell_type": "code",
   "execution_count": null,
   "metadata": {
    "collapsed": false
   },
   "outputs": [],
   "source": [
    "male.Age_years.hist(normed=True,color='dodgerblue',bins=82,alpha=0.7,label='M')\n",
    "female.Age_years.hist(normed=True,color='deeppink',alpha=0.3,bins=82,label='F')\n",
    "plt.xlabel('Age_years')\n",
    "plt.ylabel('Normed Distribution')\n",
    "plt.legend()"
   ]
  },
  {
   "cell_type": "code",
   "execution_count": null,
   "metadata": {
    "collapsed": false
   },
   "outputs": [],
   "source": [
    "kmf_gender_age = KaplanMeierFitter()\n",
    "#plt.figure(figsize=(20,10))\n",
    "kmf_gender_age.fit(male.Age_years, timeline=age_range,event_observed=male.status)\n",
    "ax = kmf_gender_age.plot(c='dodgerblue',label='Male')\n",
    "kmf_gender_age.fit(female.Age_years,  timeline=age_range,event_observed=female.status)\n",
    "kmf_gender_age.plot(ax=ax, c='deeppink',label='Female')\n",
    "ylim(0,1.05)\n",
    "plt.ylabel('Survival Distribution Function')\n",
    "plt.xlabel('Age (years)')\n",
    "plt.title('Gender-split KM')"
   ]
  },
  {
   "cell_type": "markdown",
   "metadata": {},
   "source": [
    "## Cox Proportional Hazard Regression\n"
   ]
  },
  {
   "cell_type": "code",
   "execution_count": null,
   "metadata": {
    "collapsed": true
   },
   "outputs": [],
   "source": [
    "from lifelines import CoxPHFitter"
   ]
  },
  {
   "cell_type": "code",
   "execution_count": null,
   "metadata": {
    "collapsed": true
   },
   "outputs": [],
   "source": []
  },
  {
   "cell_type": "code",
   "execution_count": null,
   "metadata": {
    "collapsed": false
   },
   "outputs": [],
   "source": [
    "plt.scatter(empltbl.FLOORCNT1,empltbl.DEPTCNT1,color='burlywood',alpha=0.3)"
   ]
  },
  {
   "cell_type": "code",
   "execution_count": null,
   "metadata": {
    "collapsed": false
   },
   "outputs": [],
   "source": [
    "#pd.crosstab(empltbl, index = 'JOBCNT1',columns =\n",
    "#(empltbl, \n",
    "empltbl[['JOBCNT1','LOCCNT1','DEPTCNT1','GRADECNT1','FLOORCNT1','SUPVCNT1']].corr()"
   ]
  },
  {
   "cell_type": "code",
   "execution_count": null,
   "metadata": {
    "collapsed": false
   },
   "outputs": [],
   "source": [
    "c='EMPL_CLASS'\n",
    "empltbl[c].value_counts()"
   ]
  },
  {
   "cell_type": "code",
   "execution_count": null,
   "metadata": {
    "collapsed": false
   },
   "outputs": [],
   "source": [
    "\n",
    "len(empltbl[c].unique())"
   ]
  },
  {
   "cell_type": "code",
   "execution_count": null,
   "metadata": {
    "collapsed": false
   },
   "outputs": [],
   "source": [
    "plt.scatter(empltbl.ANNUAL_RT,empltbl.SAL1,color='burlywood',alpha=0.3)\n",
    "empltbl[['ANNUAL_RT','SAL1']].corr()"
   ]
  },
  {
   "cell_type": "code",
   "execution_count": null,
   "metadata": {
    "collapsed": false
   },
   "outputs": [],
   "source": [
    "len(empltbl[empltbl.ANNUAL_RT>0])"
   ]
  },
  {
   "cell_type": "code",
   "execution_count": null,
   "metadata": {
    "collapsed": false
   },
   "outputs": [],
   "source": [
    "np.log(empltbl.ANNUAL_RT+1).hist(bins=30)"
   ]
  },
  {
   "cell_type": "code",
   "execution_count": null,
   "metadata": {
    "collapsed": false
   },
   "outputs": [],
   "source": [
    "empltbl.SAL1.hist(bins=80)\n",
    "empltbl.SAL1.describe()"
   ]
  },
  {
   "cell_type": "code",
   "execution_count": null,
   "metadata": {
    "collapsed": false
   },
   "outputs": [],
   "source": [
    "sum(empltbl.SAL1 == 0.0)"
   ]
  },
  {
   "cell_type": "code",
   "execution_count": null,
   "metadata": {
    "collapsed": false
   },
   "outputs": [],
   "source": [
    "empltbl.RELOCATE_ALL_SFI.value_counts()"
   ]
  },
  {
   "cell_type": "code",
   "execution_count": null,
   "metadata": {
    "collapsed": false
   },
   "outputs": [],
   "source": [
    "empltbl.LOCATION.value_counts().hist(bins=50)"
   ]
  },
  {
   "cell_type": "code",
   "execution_count": null,
   "metadata": {
    "collapsed": false
   },
   "outputs": [],
   "source": [
    "empltbl.LOC_STATE.unique()"
   ]
  },
  {
   "cell_type": "markdown",
   "metadata": {
    "collapsed": false
   },
   "source": [
    "## encode some of the categorical columns"
   ]
  },
  {
   "cell_type": "markdown",
   "metadata": {
    "collapsed": true
   },
   "source": [
    "## Per discussion with HR TEAM on April 22, 2015"
   ]
  },
  {
   "cell_type": "code",
   "execution_count": null,
   "metadata": {
    "collapsed": true
   },
   "outputs": [],
   "source": [
    "empl = empltbl4[empltbl4.sep_status<=2] # Remove the OTHER & UNKNOWN reasons"
   ]
  },
  {
   "cell_type": "code",
   "execution_count": null,
   "metadata": {
    "collapsed": false
   },
   "outputs": [],
   "source": [
    "empl.shape"
   ]
  },
  {
   "cell_type": "code",
   "execution_count": null,
   "metadata": {
    "collapsed": false
   },
   "outputs": [],
   "source": [
    "# look at the list of ACTRES1 for  ReTIREMENT\n",
    "uniq_action_reasons_1 = empl.ACTRES1.unique()\n",
    "print len(uniq_action_reasons_1)\n",
    "#ret_action_reasons_1 = [x for x in uniq_action_reasons_1 if 'RETIREMENT' in x]\n",
    "#print len(ret_action_reasons_1)"
   ]
  },
  {
   "cell_type": "code",
   "execution_count": null,
   "metadata": {
    "collapsed": false
   },
   "outputs": [],
   "source": [
    "temp_list = [x.split(';') for x in uniq_action_reasons_1]\n",
    "from itertools import chain\n",
    "act_reason_1_list = list(chain.from_iterable(temp_list))\n",
    "print len(act_reason_1_list)"
   ]
  },
  {
   "cell_type": "code",
   "execution_count": null,
   "metadata": {
    "collapsed": true
   },
   "outputs": [],
   "source": [
    "act_reason_1_set = set(act_reason_1_list)"
   ]
  },
  {
   "cell_type": "code",
   "execution_count": null,
   "metadata": {
    "collapsed": false
   },
   "outputs": [],
   "source": [
    "len(act_reason_1_set)"
   ]
  },
  {
   "cell_type": "code",
   "execution_count": null,
   "metadata": {
    "collapsed": false
   },
   "outputs": [],
   "source": [
    "[x for x in act_reason_1_set if 'DISABI' in x]"
   ]
  },
  {
   "cell_type": "code",
   "execution_count": null,
   "metadata": {
    "collapsed": false
   },
   "outputs": [],
   "source": [
    "#possible_retire_codes = \n",
    "possible_retire_codes = [x for x in act_reason_1_set if ('RET' in x and  'RETURN' not in x) ]\n",
    "possible_retire_codes.append('DISABILITY')\n",
    "len(possible_retire_codes)"
   ]
  },
  {
   "cell_type": "code",
   "execution_count": null,
   "metadata": {
    "collapsed": false
   },
   "outputs": [],
   "source": [
    "possible_retire_codes.sort()"
   ]
  },
  {
   "cell_type": "code",
   "execution_count": null,
   "metadata": {
    "collapsed": false
   },
   "outputs": [],
   "source": [
    "possible_retire_codes"
   ]
  },
  {
   "cell_type": "code",
   "execution_count": null,
   "metadata": {
    "collapsed": false
   },
   "outputs": [],
   "source": [
    "t1 = empl.ACTRES1.ix[1]\n",
    "[a for a in t1.split(';') if a in possible_retire_codes ]"
   ]
  },
  {
   "cell_type": "code",
   "execution_count": null,
   "metadata": {
    "collapsed": false
   },
   "outputs": [],
   "source": [
    "possible_retire_codes"
   ]
  },
  {
   "cell_type": "code",
   "execution_count": null,
   "metadata": {
    "collapsed": false
   },
   "outputs": [],
   "source": [
    "empl['disabled'] = empl.ACTRES1.apply(lambda x: len([a for a in x.split(';') if a == 'DISABILITY']))\n",
    "empl[empl['disabled']!=0].Age_years.hist()"
   ]
  },
  {
   "cell_type": "code",
   "execution_count": null,
   "metadata": {
    "collapsed": false
   },
   "outputs": [],
   "source": [
    "sum(empl.disabled==1)"
   ]
  },
  {
   "cell_type": "code",
   "execution_count": null,
   "metadata": {
    "collapsed": false
   },
   "outputs": [],
   "source": [
    "empl.sep_status.value_counts()"
   ]
  },
  {
   "cell_type": "code",
   "execution_count": null,
   "metadata": {
    "collapsed": false
   },
   "outputs": [],
   "source": [
    "len(empl), len(empltbl4)"
   ]
  },
  {
   "cell_type": "code",
   "execution_count": null,
   "metadata": {
    "collapsed": false
   },
   "outputs": [],
   "source": [
    "empl[empl['retired']==1].Age_years.hist(bins=70,range=[16,85],color='darkorchid')\n",
    "empl[empl['retired']==0].Age_years.hist(bins=70,range=[16,86],color='forestgreen',alpha=0.7)"
   ]
  },
  {
   "cell_type": "code",
   "execution_count": null,
   "metadata": {
    "collapsed": false
   },
   "outputs": [],
   "source": [
    "sum(empl.retired==1)"
   ]
  },
  {
   "cell_type": "code",
   "execution_count": null,
   "metadata": {
    "collapsed": false
   },
   "outputs": [],
   "source": [
    "pd.crosstab(empl.retired,empl.sep_status)"
   ]
  },
  {
   "cell_type": "code",
   "execution_count": null,
   "metadata": {
    "collapsed": false
   },
   "outputs": [],
   "source": [
    "empl[(empl.sep_status==0) & (empl.retired==1)]['KEY']"
   ]
  },
  {
   "cell_type": "code",
   "execution_count": null,
   "metadata": {
    "collapsed": false
   },
   "outputs": [],
   "source": [
    "print empltbl[empltbl.KEY=='185980322857378'][date_columns]\n",
    "empltbl[empltbl.KEY=='185980322857378'].Age_years"
   ]
  },
  {
   "cell_type": "code",
   "execution_count": null,
   "metadata": {
    "collapsed": false
   },
   "outputs": [],
   "source": [
    "empltbl[empltbl.KEY=='185980322857378'][['ACTRES1','ACTRES2','ACTRES3','ACTRES4','ACTRES5','ACTRES6','ACTRES7','ACTRES9','ACTRES10']].values"
   ]
  },
  {
   "cell_type": "code",
   "execution_count": null,
   "metadata": {
    "collapsed": false
   },
   "outputs": [],
   "source": [
    "empl[empl['retired']==1].Age_years.hist(bins=70,range=[16,85],color='darkorchid',label='retired')\n",
    "empl[(empl['retired']==0) & (empl.status==1)].Age_years.hist(bins=70,range=[16,86],color='forestgreen',alpha=0.7,label='separated')\n",
    "empl[(empl['retired']==0) & (empl.status==0)].Age_years.hist(bins=70,range=[16,86],color='darkkhaki',alpha=0.7,label='current')\n",
    "#empl[(empl['retired']==0) & (empl.status==1)].Age_years.hist(bins=70,range=[16,86],color='forestgreen',alpha=0.7)\n",
    "plt.ylabel('Number of employees')\n",
    "plt.xlabel('Age')\n",
    "plt.legend()"
   ]
  },
  {
   "cell_type": "code",
   "execution_count": null,
   "metadata": {
    "collapsed": false
   },
   "outputs": [],
   "source": [
    "sum(empl.SAL1== 0.0)"
   ]
  },
  {
   "cell_type": "code",
   "execution_count": null,
   "metadata": {
    "collapsed": false
   },
   "outputs": [],
   "source": [
    "len(empl)"
   ]
  },
  {
   "cell_type": "markdown",
   "metadata": {},
   "source": [
    "## April 27, 2015 \n",
    "* need to categorize all data I can before loading into R"
   ]
  },
  {
   "cell_type": "code",
   "execution_count": null,
   "metadata": {
    "collapsed": false
   },
   "outputs": [],
   "source": [
    "empltbl4=pd.read_csv('employee_dataframe4.tsv',sep='\\t',index_col=0,dtype={'EMPL_CLASS':np.str,'EMPL_TYPE':np.str})\n",
    "empltbl4.shape"
   ]
  },
  {
   "cell_type": "code",
   "execution_count": null,
   "metadata": {
    "collapsed": false
   },
   "outputs": [],
   "source": [
    "sdf4 = summarize_dataframe2(empltbl4)"
   ]
  },
  {
   "cell_type": "code",
   "execution_count": null,
   "metadata": {
    "collapsed": false
   },
   "outputs": [],
   "source": [
    "sdf4[sdf4.datatype=='object']"
   ]
  },
  {
   "cell_type": "code",
   "execution_count": null,
   "metadata": {
    "collapsed": false
   },
   "outputs": [],
   "source": [
    "# convert ethnic_group to int\n",
    "empltbl4['ETHNIC_GROUP'] = empltbl4['ETHNIC_GROUP'].apply(lambda x: int(x))"
   ]
  },
  {
   "cell_type": "code",
   "execution_count": null,
   "metadata": {
    "collapsed": false
   },
   "outputs": [],
   "source": [
    "empltbl4.STATE.value_counts()[empltbl4.STATE.value_counts()<50]"
   ]
  },
  {
   "cell_type": "code",
   "execution_count": null,
   "metadata": {
    "collapsed": false
   },
   "outputs": [],
   "source": [
    "empltbl4.LOC_STATE.value_counts()[empltbl4.LOC_STATE.value_counts()<50]"
   ]
  },
  {
   "cell_type": "code",
   "execution_count": null,
   "metadata": {
    "collapsed": false
   },
   "outputs": [],
   "source": [
    "empltbl4[empltbl4.STATE=='HH'][['status','LOC_STATE','STATE','KEY']]#in [11,29]]"
   ]
  },
  {
   "cell_type": "code",
   "execution_count": null,
   "metadata": {
    "collapsed": false
   },
   "outputs": [],
   "source": [
    "empltbl[empltbl.STATE=='BC'][['KEY','LOC_STATE','STATE','status','POSTAL_SFI','ADDRESS1','ADDRESS2','TERMINATION_DT','GRADE','LOCATION']]"
   ]
  },
  {
   "cell_type": "code",
   "execution_count": null,
   "metadata": {
    "collapsed": false
   },
   "outputs": [],
   "source": [
    "empltbl[empltbl.KEY=='811710100533306'].values\n",
    "#empltbl[empltbl.KEY=='296979068916747'].values"
   ]
  },
  {
   "cell_type": "code",
   "execution_count": null,
   "metadata": {
    "collapsed": false
   },
   "outputs": [],
   "source": [
    "empltbl[empltbl.KEY=='811710100533306'][['ADDRESS1','ADDRESS2','LOCATION','POSTAL_SFI']]"
   ]
  },
  {
   "cell_type": "code",
   "execution_count": null,
   "metadata": {
    "collapsed": false
   },
   "outputs": [],
   "source": [
    "empltbl4.SEX.value_counts()\n",
    "empltbl4['COMP_FREQ_ANNUAL'] = 1\n",
    "empltbl4.loc[empltbl4['COMP_FREQUENCY']=='H','COMP_FREQ_ANNUAL'] = 0\n",
    "#empltbl4.drop('COMP_FREQUENCY',axis=1,inplace=True)\n",
    "\n",
    "# now deal with male,female\n",
    "empltbl4.replace({'SEX':{'M': 1,'F':0}},inplace=True)\n",
    "empltbl4[['COMP_FREQ_ANNUAL','SEX','SHIFT']].head()"
   ]
  },
  {
   "cell_type": "code",
   "execution_count": null,
   "metadata": {
    "collapsed": false
   },
   "outputs": [],
   "source": [
    "empltbl4.COMP_FREQ_ANNUAL.value_counts()"
   ]
  },
  {
   "cell_type": "code",
   "execution_count": null,
   "metadata": {
    "collapsed": false
   },
   "outputs": [],
   "source": [
    "empltbl4.drop('COMP_FREQUENCY',axis=1,inplace=True)\n",
    "empltbl4.drop('STATE',axis=1,inplace=True)\n",
    "empltbl4.shape\n"
   ]
  },
  {
   "cell_type": "code",
   "execution_count": null,
   "metadata": {
    "collapsed": true
   },
   "outputs": [],
   "source": [
    "# assign 1 to Y, 0 to N for the following columns\n",
    "columns_to_fix_NY = ['INTERN','FULLPART1','RELOCATE_ALL_SFI','HUBIND','REMOTE','REMOTE_SUPV','SUPV_DIFF_LOC','PARTFULL1']\n",
    "for acol in columns_to_fix_NY:\n",
    "    empltbl4.replace({acol :{'Y':1,'N':0}},inplace=True) "
   ]
  },
  {
   "cell_type": "code",
   "execution_count": null,
   "metadata": {
    "collapsed": true
   },
   "outputs": [],
   "source": [
    "cols_to_cat = ['FLSA_STATUS','FULL_PART_TIME','SHIFT','EMPL_TYPE','COMPANY','ETHNIC_GROUP','EEO1CODE','EMPL_CLASS','JOB_FUNCTION']"
   ]
  },
  {
   "cell_type": "code",
   "execution_count": null,
   "metadata": {
    "collapsed": false
   },
   "outputs": [],
   "source": [
    "sdf4.sort(['arity','datatype'],ascending =True)[sdf4.arity > 9]"
   ]
  },
  {
   "cell_type": "code",
   "execution_count": null,
   "metadata": {
    "collapsed": false
   },
   "outputs": [],
   "source": [
    "## convert HIRE_DT to HIRE_YEAR\n",
    "[c for c in empltbl4.columns if c.endswith('DT')]"
   ]
  },
  {
   "cell_type": "code",
   "execution_count": null,
   "metadata": {
    "collapsed": false
   },
   "outputs": [],
   "source": [
    "empltbl4['retired'] = empltbl4.ACTRES1.apply(lambda x: identify_retired(x))\n",
    "sum(empltbl4.retired==1)"
   ]
  },
  {
   "cell_type": "code",
   "execution_count": null,
   "metadata": {
    "collapsed": false
   },
   "outputs": [],
   "source": [
    "# encode the VOLINVOL column as ['INVOLUNTARY':2,'VOLUNTARY':1,'NOT':0,'\n",
    "empltbl4['sep_status'] = empltbl4['VOLINVOL'].replace({'NOT':0,'VOLUNTARY':1,'INVOLUNTARY':2,'OTHER':3,'UNKNOWN':3})\n",
    "empltbl4.sep_status.value_counts()"
   ]
  },
  {
   "cell_type": "code",
   "execution_count": null,
   "metadata": {
    "collapsed": true
   },
   "outputs": [],
   "source": [
    "empl = empltbl4.copy()"
   ]
  },
  {
   "cell_type": "code",
   "execution_count": null,
   "metadata": {
    "collapsed": false
   },
   "outputs": [],
   "source": [
    "empl = empltbl4.copy()\n",
    "empl.drop(['VOLINVOL','ACTRES1','HIRE_DT'],axis=1,inplace=True)\n",
    "empl.head()"
   ]
  },
  {
   "cell_type": "code",
   "execution_count": null,
   "metadata": {
    "collapsed": false
   },
   "outputs": [],
   "source": [
    "egrp, bc1 = create_factorized_df(empl,acol)"
   ]
  },
  {
   "cell_type": "code",
   "execution_count": null,
   "metadata": {
    "collapsed": false
   },
   "outputs": [],
   "source": [
    "sgrp, bc1 = create_factorized_dfrized_df(empl,'LOC_STATE')"
   ]
  },
  {
   "cell_type": "code",
   "execution_count": null,
   "metadata": {
    "collapsed": true
   },
   "outputs": [],
   "source": [
    "more_cols_to_cat = ['LOC_STATE','GRADE','EXT_FUNC_ID_SFI','JOB_FAMILY']"
   ]
  },
  {
   "cell_type": "code",
   "execution_count": null,
   "metadata": {
    "collapsed": false
   },
   "outputs": [],
   "source": [
    "## remove sep_status == 3\n",
    "empl=empl[empl.sep_status<3].copy()\n",
    "empl.shape"
   ]
  },
  {
   "cell_type": "code",
   "execution_count": null,
   "metadata": {
    "collapsed": false
   },
   "outputs": [],
   "source": [
    "for acol in more_cols_to_cat[:2]:\n",
    "    print acol\n",
    "    t_df,bc1 = create_factorized_df(empl,acol)\n",
    "    # drop the original column\n",
    "    empl.drop(acol,inplace=True,axis=1)\n",
    "    # append the factorized categories\n",
    "    empl = pd.concat([empl,t_df],axis=1)\n",
    "    base_category_list.append(bc1)\n"
   ]
  },
  {
   "cell_type": "code",
   "execution_count": null,
   "metadata": {
    "collapsed": false
   },
   "outputs": [],
   "source": [
    "empl.shape"
   ]
  },
  {
   "cell_type": "code",
   "execution_count": null,
   "metadata": {
    "collapsed": true
   },
   "outputs": [],
   "source": []
  },
  {
   "cell_type": "code",
   "execution_count": null,
   "metadata": {
    "collapsed": false
   },
   "outputs": [],
   "source": [
    "## save this to a file\n",
    "empl.drop(more_cols_to_cat[2:],axis=1,inplace=True)\n",
    "empl.drop('KEY',axis=1,inplace=True)\n",
    "empl.to_csv('employee_dataframe5.tsv',sep='\\t',index =False)"
   ]
  },
  {
   "cell_type": "markdown",
   "metadata": {
    "collapsed": true
   },
   "source": [
    "#### create integers for times; required for CoxPH in H2O."
   ]
  },
  {
   "cell_type": "code",
   "execution_count": null,
   "metadata": {
    "collapsed": false
   },
   "outputs": [],
   "source": [
    "empl[['Age','Tenure']] = empl[['Age_years','Tenure_years']].applymap(lambda x: int(round(x,0)))"
   ]
  },
  {
   "cell_type": "code",
   "execution_count": null,
   "metadata": {
    "collapsed": false
   },
   "outputs": [],
   "source": [
    "empl[['Age','Age_years']].head()"
   ]
  },
  {
   "cell_type": "code",
   "execution_count": null,
   "metadata": {
    "collapsed": false
   },
   "outputs": [],
   "source": [
    "empl.to_csv('employee_dataframe6.tsv',sep='\\t',index =False)"
   ]
  },
  {
   "cell_type": "code",
   "execution_count": null,
   "metadata": {
    "collapsed": false
   },
   "outputs": [],
   "source": [
    "sdfB = summarize_dataframe2(empl)"
   ]
  },
  {
   "cell_type": "code",
   "execution_count": null,
   "metadata": {
    "collapsed": false
   },
   "outputs": [],
   "source": [
    "sdfB.sort('arity')"
   ]
  },
  {
   "cell_type": "code",
   "execution_count": null,
   "metadata": {
    "collapsed": false
   },
   "outputs": [],
   "source": [
    "\n",
    "#empl.FUNC_ID_SFI.value_counts()"
   ]
  },
  {
   "cell_type": "code",
   "execution_count": null,
   "metadata": {
    "collapsed": false
   },
   "outputs": [],
   "source": [
    "def convert_to_int(x):\n",
    "    try:\n",
    "        x=int(x)\n",
    "    except:\n",
    "        x=-1\n",
    "    return x\n",
    "\n",
    "empl.FUNC_ID_SFI = empl.FUNC_ID_SFI.apply(lambda x: convert_to_int(x))\n",
    "len(empl.FUNC_ID_SFI.unique())"
   ]
  },
  {
   "cell_type": "code",
   "execution_count": null,
   "metadata": {
    "collapsed": false
   },
   "outputs": [],
   "source": [
    "len(empl)"
   ]
  },
  {
   "cell_type": "code",
   "execution_count": null,
   "metadata": {
    "collapsed": true
   },
   "outputs": [],
   "source": [
    "empl.drop(['LOCATION','LEGACY_DEPT_SFI','Tenure_months'],axis=1,inplace=True)"
   ]
  },
  {
   "cell_type": "code",
   "execution_count": null,
   "metadata": {
    "collapsed": true
   },
   "outputs": [],
   "source": [
    "empl.to_csv('employee_dataframe5.tsv',sep='\\t',ignore_index =True)"
   ]
  },
  {
   "cell_type": "code",
   "execution_count": null,
   "metadata": {
    "collapsed": false
   },
   "outputs": [],
   "source": [
    "[c for c  in enumerate(list(empl.columns))]"
   ]
  },
  {
   "cell_type": "code",
   "execution_count": null,
   "metadata": {
    "collapsed": false
   },
   "outputs": [],
   "source": [
    "empl.loc[:2000,'status'].value_counts()"
   ]
  },
  {
   "cell_type": "code",
   "execution_count": null,
   "metadata": {
    "collapsed": false
   },
   "outputs": [],
   "source": [
    "empl.loc[:2000,'retired'].value_counts()"
   ]
  },
  {
   "cell_type": "code",
   "execution_count": null,
   "metadata": {
    "collapsed": false
   },
   "outputs": [],
   "source": [
    "sum(empl.retired==1)"
   ]
  },
  {
   "cell_type": "code",
   "execution_count": null,
   "metadata": {
    "collapsed": false
   },
   "outputs": [],
   "source": [
    "empl.loc[:4000,'retired'].value_counts()\n"
   ]
  },
  {
   "cell_type": "code",
   "execution_count": null,
   "metadata": {
    "collapsed": true
   },
   "outputs": [],
   "source": [
    "#X = patsy.dmatrix('Age_years + COMPANY + INTERN + SEX',empltbl4, return_type='dataframe')\n",
    "#X.columns\n",
    "aaf = AalenAdditiveFitter(penalizer=1.0, fit_intercept=True)\n",
    "X['T'] = empltbl4['Tenure_years']\n",
    "X['E'] = empltbl4['status']"
   ]
  },
  {
   "cell_type": "code",
   "execution_count": null,
   "metadata": {
    "collapsed": true
   },
   "outputs": [],
   "source": [
    "empl.Age_years"
   ]
  },
  {
   "cell_type": "code",
   "execution_count": null,
   "metadata": {
    "collapsed": false
   },
   "outputs": [],
   "source": [
    "Xft = patsy.dmatrix( 'Age_years +ANNUAL_RT+PERF1+INTERN+SEX',empl,return_type='dataframe')\n",
    "Xft.shape"
   ]
  },
  {
   "cell_type": "code",
   "execution_count": null,
   "metadata": {
    "collapsed": true
   },
   "outputs": [],
   "source": [
    "Xft['T'] = empl.Tenure_years#empl.ix[:4010]['Tenure_years']\n",
    "Xft['E']=empl.retired#empl.ix[:4010]['retired']"
   ]
  },
  {
   "cell_type": "code",
   "execution_count": null,
   "metadata": {
    "collapsed": false
   },
   "outputs": [],
   "source": [
    "aaf_ret = AalenAdditiveFitter(penalizer=1.0, fit_intercept=True)\n",
    "aaf_ret.fit(Xft,'T','E')"
   ]
  },
  {
   "cell_type": "code",
   "execution_count": null,
   "metadata": {
    "collapsed": false
   },
   "outputs": [],
   "source": [
    "aaf_ret.plot(columns=['baseline','Age_years','INTERN','SEX','ANNUAL_RT'],ix=slice(1,15))"
   ]
  },
  {
   "cell_type": "code",
   "execution_count": null,
   "metadata": {
    "collapsed": false
   },
   "outputs": [],
   "source": [
    "from lifelines import CoxPHFitter\n",
    "cf = CoxPHFitter()"
   ]
  },
  {
   "cell_type": "code",
   "execution_count": null,
   "metadata": {
    "collapsed": false
   },
   "outputs": [],
   "source": [
    "%%time \n",
    "cf.fit(Xft[Xft.columns[1:]],'T','E')"
   ]
  },
  {
   "cell_type": "code",
   "execution_count": null,
   "metadata": {
    "collapsed": false
   },
   "outputs": [],
   "source": [
    "cf.summary()"
   ]
  },
  {
   "cell_type": "code",
   "execution_count": null,
   "metadata": {
    "collapsed": false
   },
   "outputs": [],
   "source": [
    "few_columns1=['Age_years','ANNUAL_RT','PERF1','INTERN','SEX','Tenure_years','retired']\n",
    "reduced1 = empl.loc[:,few_columns1].copy()\n",
    "reduced1.shape"
   ]
  },
  {
   "cell_type": "code",
   "execution_count": null,
   "metadata": {
    "collapsed": false
   },
   "outputs": [],
   "source": [
    "%%time \n",
    "cf.fit(reduced1,'Tenure_years','retired')"
   ]
  },
  {
   "cell_type": "code",
   "execution_count": null,
   "metadata": {
    "collapsed": false
   },
   "outputs": [],
   "source": [
    "cf.summary()"
   ]
  },
  {
   "cell_type": "code",
   "execution_count": null,
   "metadata": {
    "collapsed": false
   },
   "outputs": [],
   "source": [
    "cf.confidence_intervals_.head()"
   ]
  },
  {
   "cell_type": "code",
   "execution_count": null,
   "metadata": {
    "collapsed": false
   },
   "outputs": [],
   "source": [
    "cf.hazards_.head()"
   ]
  },
  {
   "cell_type": "code",
   "execution_count": null,
   "metadata": {
    "collapsed": false
   },
   "outputs": [],
   "source": [
    "sum(aaf_ret.event_observed)"
   ]
  },
  {
   "cell_type": "code",
   "execution_count": null,
   "metadata": {
    "collapsed": true
   },
   "outputs": [],
   "source": [
    "from lifelines.utils import k_fold_cross_validation\n",
    "xv_cf = CoxPHFitter()\n",
    "cf_scores = k_fold_cross_validation(xv_cf, reduced1,duration_col='Tenure_years',event_col='retired',k=10)"
   ]
  },
  {
   "cell_type": "code",
   "execution_count": null,
   "metadata": {
    "collapsed": false
   },
   "outputs": [],
   "source": [
    "cf_scores.mean(), cf_scores.std()"
   ]
  },
  {
   "cell_type": "code",
   "execution_count": null,
   "metadata": {
    "collapsed": false
   },
   "outputs": [],
   "source": [
    "xv_cf.hazards_"
   ]
  },
  {
   "cell_type": "code",
   "execution_count": null,
   "metadata": {
    "collapsed": false
   },
   "outputs": [],
   "source": [
    "reduced1.ix[44]"
   ]
  },
  {
   "cell_type": "code",
   "execution_count": null,
   "metadata": {
    "collapsed": false
   },
   "outputs": [],
   "source": [
    "np.shape(reduced1.iloc[4:5,:-2].values)\n",
    "retired_sf_avg = xv_cf.predict_survival_function(reduced1[reduced1.retired==1][reduced1.columns[:-2]].values).mean(axis=1)#.plot()#.iloc[34:35,:-2].values).plot()"
   ]
  },
  {
   "cell_type": "code",
   "execution_count": null,
   "metadata": {
    "collapsed": true
   },
   "outputs": [],
   "source": [
    "notretired_sf_avg = xv_cf.predict_survival_function(reduced1[reduced1.retired==0][reduced1.columns[:-2]].values).mean(axis=1)"
   ]
  },
  {
   "cell_type": "code",
   "execution_count": null,
   "metadata": {
    "collapsed": false
   },
   "outputs": [],
   "source": [
    "xv_cf.predict_survival_function(re"
   ]
  },
  {
   "cell_type": "code",
   "execution_count": null,
   "metadata": {
    "collapsed": false
   },
   "outputs": [],
   "source": [
    "retired_sf_avg.plot(label='retired')\n",
    "notretired_sf_avg.plot(label='not-retired')\n",
    "plt.xlabel('Tenure Years')\n",
    "plt.ylabel('Predicted Survival Function')"
   ]
  },
  {
   "cell_type": "code",
   "execution_count": null,
   "metadata": {
    "collapsed": false
   },
   "outputs": [],
   "source": [
    "reduced1.iloc[24:25,:-2]"
   ]
  },
  {
   "cell_type": "code",
   "execution_count": null,
   "metadata": {
    "collapsed": false
   },
   "outputs": [],
   "source": [
    "cf.baseline_survival_.plot()"
   ]
  },
  {
   "cell_type": "markdown",
   "metadata": {
    "collapsed": true
   },
   "source": [
    "## examining relationships (correlations) between columns"
   ]
  },
  {
   "cell_type": "code",
   "execution_count": null,
   "metadata": {
    "collapsed": false
   },
   "outputs": [],
   "source": [
    "empl[['Tenure_years','hire_year']].corr()"
   ]
  },
  {
   "cell_type": "code",
   "execution_count": null,
   "metadata": {
    "collapsed": false
   },
   "outputs": [],
   "source": [
    "empl.plot(kind='scatter',x='Tenure_years',y='hire_year',\n",
    "          alpha=0.3)"
   ]
  },
  {
   "cell_type": "code",
   "execution_count": null,
   "metadata": {
    "collapsed": false
   },
   "outputs": [],
   "source": [
    "empl.plot(kind='scatter',x='hire_year',y='Age_years',\n",
    "          alpha=0.3)"
   ]
  },
  {
   "cell_type": "code",
   "execution_count": null,
   "metadata": {
    "collapsed": false
   },
   "outputs": [],
   "source": [
    "[x for x in empl.columns if x.endswith('MOS')]"
   ]
  },
  {
   "cell_type": "code",
   "execution_count": null,
   "metadata": {
    "collapsed": false
   },
   "outputs": [],
   "source": [
    "empl.plot(kind='scatter',x='CUR_LOC_MOS',y='CUR_DEPT_MOS',color='chartreuse',          alpha=0.3)"
   ]
  },
  {
   "cell_type": "code",
   "execution_count": null,
   "metadata": {
    "collapsed": false
   },
   "outputs": [],
   "source": [
    "pd.crosstab(empl.CUR_DEPT_MOS,empl.CUR_FUNC_MOS)"
   ]
  },
  {
   "cell_type": "code",
   "execution_count": null,
   "metadata": {
    "collapsed": false
   },
   "outputs": [],
   "source": [
    "empl.Tenure.describe()\n"
   ]
  },
  {
   "cell_type": "code",
   "execution_count": null,
   "metadata": {
    "collapsed": false
   },
   "outputs": [],
   "source": [
    "empl.Tenure.hist(bins=65,color='steelblue')"
   ]
  },
  {
   "cell_type": "markdown",
   "metadata": {
    "collapsed": true
   },
   "source": [
    "## EXPLORE more about some of these features.\n",
    "* especially ones that may be missing or zeroed out\n",
    "* SAL1, MIN_RT_ANNUAL"
   ]
  },
  {
   "cell_type": "code",
   "execution_count": null,
   "metadata": {
    "collapsed": false
   },
   "outputs": [],
   "source": [
    "empl.MIN_RT_ANNUAL.describe()"
   ]
  },
  {
   "cell_type": "code",
   "execution_count": null,
   "metadata": {
    "collapsed": false
   },
   "outputs": [],
   "source": [
    "sum(empl.MIN_RT_ANNUAL==0.0), sum(empl.MAX_RT_ANNUAL==0.0)"
   ]
  },
  {
   "cell_type": "code",
   "execution_count": null,
   "metadata": {
    "collapsed": false
   },
   "outputs": [],
   "source": [
    "empl[empl.MIN_RT_ANNUAL==0.0]['Tenure'].hist(range=[0,64],normed=True,bins=65)\n",
    "empl[empl.MIN_RT_ANNUAL!=0.0]['Tenure'].hist(range=[0,64],normed=True,bins=65,alpha=0.6)"
   ]
  },
  {
   "cell_type": "code",
   "execution_count": null,
   "metadata": {
    "collapsed": false
   },
   "outputs": [],
   "source": [
    "empl[empl.MIN_RT_ANNUAL>0].MIN_RT_ANNUAL.hist(bins=30)"
   ]
  },
  {
   "cell_type": "code",
   "execution_count": null,
   "metadata": {
    "collapsed": false
   },
   "outputs": [],
   "source": [
    "empl[empl.MIN_RT_ANNUAL>1].MIN_RT_ANNUAL.describe()"
   ]
  },
  {
   "cell_type": "code",
   "execution_count": null,
   "metadata": {
    "collapsed": false
   },
   "outputs": [],
   "source": [
    "empl[empl.MAX_RT_ANNUAL>1].MAX_RT_ANNUAL.describe()"
   ]
  },
  {
   "cell_type": "code",
   "execution_count": null,
   "metadata": {
    "collapsed": false
   },
   "outputs": [],
   "source": [
    "print empl.TELE_MOS.describe()\n",
    "empl.plot(kind='scatter', x='TELE_MOS',y='status')"
   ]
  },
  {
   "cell_type": "code",
   "execution_count": null,
   "metadata": {
    "collapsed": false
   },
   "outputs": [],
   "source": [
    "[c for c in empl.columns if c.startswith('JOB_FUNCTION')]\n",
    "#pd.crosstab(empl.GRADE_MA1,empl.JOB_FUNCTION_OTH)"
   ]
  },
  {
   "cell_type": "code",
   "execution_count": null,
   "metadata": {
    "collapsed": false
   },
   "outputs": [],
   "source": [
    "pd.crosstab(empltbl4.GRADE,empltbl4.JOB_FUNCTION)"
   ]
  },
  {
   "cell_type": "code",
   "execution_count": null,
   "metadata": {
    "collapsed": false
   },
   "outputs": [],
   "source": []
  },
  {
   "cell_type": "code",
   "execution_count": null,
   "metadata": {
    "collapsed": false
   },
   "outputs": [],
   "source": [
    "rl_grades = [x for x in empltbl2.GRADE.unique() if str(x).startswith('RL')]\n",
    "rj_grades = [x for x in empltbl2.GRADE.unique() if str(x).startswith('RJ')]"
   ]
  },
  {
   "cell_type": "code",
   "execution_count": null,
   "metadata": {
    "collapsed": false
   },
   "outputs": [],
   "source": [
    "sum(empltbl2.GRADE.isin(rl_grades)), sum(empltbl2.GRADE.isin(rj_grades))"
   ]
  },
  {
   "cell_type": "code",
   "execution_count": null,
   "metadata": {
    "collapsed": false
   },
   "outputs": [],
   "source": [
    "rls = empltbl2.GRADE.isin(rl_grades)\n",
    "rjs = empltbl2.GRADE.isin(rj_grades)\n",
    "empltbl2[rls].SAL1.hist()\n",
    "empltbl2[rjs].SAL1.hist()\n"
   ]
  },
  {
   "cell_type": "code",
   "execution_count": null,
   "metadata": {
    "collapsed": false
   },
   "outputs": [],
   "source": [
    "[c for c in empltbl2.columns if c.startswith('Ten')]"
   ]
  },
  {
   "cell_type": "code",
   "execution_count": null,
   "metadata": {
    "collapsed": false
   },
   "outputs": [],
   "source": [
    "empltbl2[rls].plot(kind='scatter',x='Tenure_months',y='SAL1')\n",
    "empltbl2[rjs].plot(kind='scatter',x='Tenure_months',y='SAL1')"
   ]
  },
  {
   "cell_type": "markdown",
   "metadata": {
    "collapsed": true
   },
   "source": [
    "## May 18, 2015\n",
    "* look at loading EAS (absences) data\n"
   ]
  },
  {
   "cell_type": "code",
   "execution_count": null,
   "metadata": {
    "collapsed": false
   },
   "outputs": [],
   "source": [
    "whos"
   ]
  },
  {
   "cell_type": "code",
   "execution_count": null,
   "metadata": {
    "collapsed": true
   },
   "outputs": [],
   "source": []
  }
 ],
 "metadata": {
  "kernelspec": {
   "display_name": "Python 2",
   "language": "python",
   "name": "python2"
  },
  "language_info": {
   "codemirror_mode": {
    "name": "ipython",
    "version": 2
   },
   "file_extension": ".py",
   "mimetype": "text/x-python",
   "name": "python",
   "nbconvert_exporter": "python",
   "pygments_lexer": "ipython2",
   "version": "2.7.10"
  }
 },
 "nbformat": 4,
 "nbformat_minor": 0
}
