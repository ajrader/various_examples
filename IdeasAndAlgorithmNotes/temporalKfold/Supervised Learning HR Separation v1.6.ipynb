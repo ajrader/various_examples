{
 "cells": [
  {
   "cell_type": "markdown",
   "metadata": {},
   "source": [
    "# Supervised Learning for HR Separations\n",
    "## November 4, 2015\n",
    "<hr>\n",
    "\n",
    "### 1. Go back to the 'raw' data so I can do the transformation in a pipe-oriented way from the start\n",
    "* start with histret, histcurr, empl and bene (<font color =red> NOPE</font>)\n",
    "* actually load from employees_after2001_raw.csv\n",
    "* \n",
    "#### define the source repo\n",
    "* '/home/kesj/lib/repo/'\n",
    "\n",
    "### 2. Define the correct working directories\n",
    "* '/data/discovery/hrsepara/core/' for HDFS\n",
    "* '/data/discovery/hrsepara/staging/eda' and '/home/kesj/working/hrsepara/eda/' for HDFS and LFS on phd\n",
    "\n",
    "### load from\n",
    "* em2002 = pd.read_csv('employees_after2001_raw.csv')\n",
    "\n"
   ]
  },
  {
   "cell_type": "code",
   "execution_count": 3,
   "metadata": {
    "collapsed": true
   },
   "outputs": [],
   "source": [
    "coredir = '/data/discovery/hrsepara/core/'\n",
    "stgdir1 = '/data/discovery/hrsepara/staging/eda'\n",
    "stgdir1local = '/home/kesj/work/hrsepara/eda'\n",
    "stgdir2local = '/home/kesj/work/hrsepara/proc'\n",
    "repodir = '/home/kesj/lib/repo/'"
   ]
  },
  {
   "cell_type": "code",
   "execution_count": 4,
   "metadata": {
    "collapsed": true
   },
   "outputs": [],
   "source": [
    "### load the basic files\n",
    "import os,subprocess,sys\n",
    "import pandas as pd\n",
    "import numpy as np\n",
    "%matplotlib inline\n",
    "from datetime import datetime\n",
    "import matplotlib.pyplot as plt\n",
    "from itertools import chain\n",
    "import random\n",
    "import seaborn as sns\n",
    "from glob import glob\n",
    "plt.style.use('ggplot')\n",
    "from sklearn import cross_validation"
   ]
  },
  {
   "cell_type": "markdown",
   "metadata": {
    "collapsed": true
   },
   "source": [
    "## Plan of attack:\n",
    "1. read in the data, split it, munge it as before\n",
    "    * add retired variable\n",
    "    * remove one case where person is 'retired' but has status of 0. \n",
    "    * save this transformed file:\n",
    "2. do a simple survival analysis on the reduced set of variables\n",
    "3. transform into the temporal splits and make predictions"
   ]
  },
  {
   "cell_type": "code",
   "execution_count": 5,
   "metadata": {
    "collapsed": true
   },
   "outputs": [],
   "source": [
    "os.chdir(repodir)\n",
    "import bear.bear as br"
   ]
  },
  {
   "cell_type": "markdown",
   "metadata": {},
   "source": [
    "# create a few additional target columns\n",
    "* retired\n",
    "* separated\n",
    "* invol_sep\n"
   ]
  },
  {
   "cell_type": "markdown",
   "metadata": {},
   "source": [
    "### remove the one case where a person is 'retired' but has a status of 0. "
   ]
  },
  {
   "cell_type": "code",
   "execution_count": 6,
   "metadata": {
    "collapsed": true
   },
   "outputs": [],
   "source": [
    "## save this dataframe\n",
    "os.chdir(stgdir2local)\n",
    "#em2002.to_csv('after2001_keyed.csv',index=False)"
   ]
  },
  {
   "cell_type": "markdown",
   "metadata": {},
   "source": [
    "### Generic processing steps\n",
    "1. define set of columns to keep for analysis\n",
    "    * remove historical ones & Rate\n",
    "2. convert dates to timestamps and calculate the age/tenure/hire-age\n",
    "3. convert indicators\n",
    "4. convert BOX1"
   ]
  },
  {
   "cell_type": "code",
   "execution_count": 25,
   "metadata": {
    "collapsed": false
   },
   "outputs": [],
   "source": [
    "em2002 = pd.read_csv('after2001_keyed.csv',dtype={'EEO1CODE':np.str,'EMPL_CLASS':np.str,'SHIFT':np.str,\n",
    "                                                 'VOLINVOL':np.str,'LOCATION':np.str})"
   ]
  },
  {
   "cell_type": "code",
   "execution_count": 26,
   "metadata": {
    "collapsed": false
   },
   "outputs": [
    {
     "name": "stdout",
     "output_type": "stream",
     "text": [
      "starting with 185 columns.\n"
     ]
    }
   ],
   "source": [
    "all_cols = em2002.columns.tolist()\n",
    "print \"starting with {0} columns.\".format(len(all_cols))"
   ]
  },
  {
   "cell_type": "code",
   "execution_count": 28,
   "metadata": {
    "collapsed": false
   },
   "outputs": [
    {
     "name": "stdout",
     "output_type": "stream",
     "text": [
      "97 historical columns will be omited\n"
     ]
    }
   ],
   "source": [
    "## look at historical columns and drop them\n",
    "historical_cols = []\n",
    "for i in xrange(2,11):\n",
    "    #print str(i)\n",
    "    hcols = [a for a in all_cols if a.endswith(str(i))]\n",
    "    historical_cols+=hcols\n",
    "print \"{0} historical columns will be omited\".format(len(historical_cols) )\n"
   ]
  },
  {
   "cell_type": "code",
   "execution_count": 29,
   "metadata": {
    "collapsed": false
   },
   "outputs": [
    {
     "name": "stdout",
     "output_type": "stream",
     "text": [
      "87\n"
     ]
    }
   ],
   "source": [
    "all_cols2 = list(set(all_cols)-set(historical_cols))\n",
    "all_cols2.remove('RATE1') # drop RATE1, it is collinear with BOX1\n",
    "print len(all_cols2)"
   ]
  },
  {
   "cell_type": "code",
   "execution_count": 30,
   "metadata": {
    "collapsed": false
   },
   "outputs": [
    {
     "name": "stdout",
     "output_type": "stream",
     "text": [
      "7 ['CUR_LOC_MOS', 'CUR_EFUNC_MOS', 'CUR_JOB_MOS', 'CUR_GRADE_MOS', 'TELE_MOS', 'CUR_DEPT_MOS', 'CUR_FUNC_MOS']\n",
      "8 ['SERVICE_DT', 'MAR_STATUS_DT', 'HIRE_DT', 'TERMINATION_DT', 'LAST_HIRE_DT', 'BIRTHDATE', 'Tenure_tdelta', 'Age_tdelta']\n"
     ]
    }
   ],
   "source": [
    "mos_cols = [x for x in all_cols2 if x.endswith(\"MOS\")]\n",
    "print len(mos_cols), mos_cols\n",
    "date_cols = [x for x in all_cols2 if x.endswith('DT')]\n",
    "date_cols.append('BIRTHDATE')\n",
    "date_cols.append('Tenure_tdelta')\n",
    "date_cols.append('Age_tdelta')\n",
    "print len(date_cols), date_cols"
   ]
  },
  {
   "cell_type": "markdown",
   "metadata": {},
   "source": [
    "# convert ages and tenures"
   ]
  },
  {
   "cell_type": "code",
   "execution_count": 31,
   "metadata": {
    "collapsed": true
   },
   "outputs": [],
   "source": [
    "def calculate_years(timestamp1,timestamp2,days_in_year =365.25):\n",
    "    number_of_years = (timestamp2 - timestamp1).days/days_in_year\n",
    "    return number_of_years\n"
   ]
  },
  {
   "cell_type": "code",
   "execution_count": 32,
   "metadata": {
    "collapsed": false,
    "scrolled": true
   },
   "outputs": [],
   "source": [
    "##  calculate Age_years and Tenure_years\n",
    "em2002[['hire_tstmp','birth_tstmp','term_tstmp']] = em2002[['HIRE_DT','BIRTHDATE','TERMINATION_DT']].applymap(lambda x: pd.to_datetime(datetime.strptime(x,'%d%b%Y')))\n",
    "em2002['Age_years']=em2002[['birth_tstmp','term_tstmp']].apply(lambda x: calculate_years(x[0],x[1]),axis=1)\n",
    "em2002['Tenure_years']=em2002[['hire_tstmp','term_tstmp']].apply(lambda x: calculate_years(x[0],x[1]),axis=1)\n"
   ]
  },
  {
   "cell_type": "code",
   "execution_count": 33,
   "metadata": {
    "collapsed": false
   },
   "outputs": [],
   "source": [
    "hire_age_tdelta = em2002['hire_tstmp']-em2002['birth_tstmp']\n",
    "# convert to days, months, or years\n",
    "em2002['hire_age'] = hire_age_tdelta/np.timedelta64(1,'Y')"
   ]
  },
  {
   "cell_type": "code",
   "execution_count": 34,
   "metadata": {
    "collapsed": false
   },
   "outputs": [
    {
     "name": "stdout",
     "output_type": "stream",
     "text": [
      "3 ['hire_tstmp', 'birth_tstmp', 'term_tstmp']\n",
      "3 ['Tenure_years', 'Age_years', 'hire_age']\n"
     ]
    }
   ],
   "source": [
    "tstmp_cols = [x for x in em2002.columns if x.endswith('tstmp')]\n",
    "print len(tstmp_cols), tstmp_cols\n",
    "\n",
    "useful_time_cols = []\n",
    "useful_time_cols.append('Tenure_years')\n",
    "useful_time_cols.append('Age_years')\n",
    "useful_time_cols.append('hire_age')\n",
    "print len(useful_time_cols), useful_time_cols"
   ]
  },
  {
   "cell_type": "code",
   "execution_count": 35,
   "metadata": {
    "collapsed": false
   },
   "outputs": [
    {
     "name": "stdout",
     "output_type": "stream",
     "text": [
      "now there are 80 total columns to consider.\n"
     ]
    }
   ],
   "source": [
    "all_cols3 = list(set(all_cols2)-set(mos_cols)-set(date_cols))\n",
    "all_cols3 = list(set(all_cols3).union(set(tstmp_cols)))\n",
    "all_cols3+=useful_time_cols# redoing keeping tstmp columns\n",
    "print \"now there are {0} total columns to consider.\".format(len(all_cols3))"
   ]
  },
  {
   "cell_type": "markdown",
   "metadata": {},
   "source": [
    "### Look for missing values in these columns to correct"
   ]
  },
  {
   "cell_type": "code",
   "execution_count": 36,
   "metadata": {
    "collapsed": false
   },
   "outputs": [
    {
     "data": {
      "text/plain": [
       "[]"
      ]
     },
     "execution_count": 36,
     "metadata": {},
     "output_type": "execute_result"
    }
   ],
   "source": [
    "br.get_columns_with_all_nulls(em2002[all_cols3]) # good no columns are fully empty"
   ]
  },
  {
   "cell_type": "code",
   "execution_count": 41,
   "metadata": {
    "collapsed": false
   },
   "outputs": [
    {
     "data": {
      "text/html": [
       "<div>\n",
       "<table border=\"1\" class=\"dataframe\">\n",
       "  <thead>\n",
       "    <tr style=\"text-align: right;\">\n",
       "      <th></th>\n",
       "      <th>MERIT1</th>\n",
       "      <th>SAL1</th>\n",
       "      <th>PERF1</th>\n",
       "      <th>SAL2</th>\n",
       "    </tr>\n",
       "  </thead>\n",
       "  <tbody>\n",
       "    <tr>\n",
       "      <th>134261</th>\n",
       "      <td>3960.25</td>\n",
       "      <td>77298.13</td>\n",
       "      <td>2640.16</td>\n",
       "      <td>73337.88</td>\n",
       "    </tr>\n",
       "    <tr>\n",
       "      <th>134262</th>\n",
       "      <td>6106.72</td>\n",
       "      <td>84398.05</td>\n",
       "      <td>4071.15</td>\n",
       "      <td>73169.47</td>\n",
       "    </tr>\n",
       "    <tr>\n",
       "      <th>134263</th>\n",
       "      <td>3752.34</td>\n",
       "      <td>73240.21</td>\n",
       "      <td>2501.56</td>\n",
       "      <td>69487.87</td>\n",
       "    </tr>\n",
       "    <tr>\n",
       "      <th>134264</th>\n",
       "      <td>3120.00</td>\n",
       "      <td>68120.00</td>\n",
       "      <td>2080.00</td>\n",
       "      <td>0.00</td>\n",
       "    </tr>\n",
       "    <tr>\n",
       "      <th>134265</th>\n",
       "      <td>1748.25</td>\n",
       "      <td>57248.25</td>\n",
       "      <td>1165.50</td>\n",
       "      <td>0.00</td>\n",
       "    </tr>\n",
       "  </tbody>\n",
       "</table>\n",
       "</div>"
      ],
      "text/plain": [
       "         MERIT1      SAL1    PERF1      SAL2\n",
       "134261  3960.25  77298.13  2640.16  73337.88\n",
       "134262  6106.72  84398.05  4071.15  73169.47\n",
       "134263  3752.34  73240.21  2501.56  69487.87\n",
       "134264  3120.00  68120.00  2080.00      0.00\n",
       "134265  1748.25  57248.25  1165.50      0.00"
      ]
     },
     "execution_count": 41,
     "metadata": {},
     "output_type": "execute_result"
    }
   ],
   "source": [
    "em2002[['MERIT1','SAL1','PERF1','SAL2']].tail()"
   ]
  },
  {
   "cell_type": "code",
   "execution_count": 42,
   "metadata": {
    "collapsed": false
   },
   "outputs": [
    {
     "data": {
      "text/plain": [
       "134261     3960.25\n",
       "134262    11228.58\n",
       "134263     3752.34\n",
       "134264    68120.00\n",
       "134265    57248.25\n",
       "dtype: float64"
      ]
     },
     "execution_count": 42,
     "metadata": {},
     "output_type": "execute_result"
    }
   ],
   "source": [
    "(em2002['SAL1']-em2002['SAL2']).tail()"
   ]
  },
  {
   "cell_type": "markdown",
   "metadata": {},
   "source": [
    "### deal with missing values"
   ]
  },
  {
   "cell_type": "code",
   "execution_count": 43,
   "metadata": {
    "collapsed": false
   },
   "outputs": [
    {
     "name": "stdout",
     "output_type": "stream",
     "text": [
      "22\n"
     ]
    }
   ],
   "source": [
    "missing_value_cols  = br.get_columns_with_nulls(em2002[all_cols3])\n",
    "print len(missing_value_cols)"
   ]
  },
  {
   "cell_type": "code",
   "execution_count": null,
   "metadata": {
    "collapsed": false
   },
   "outputs": [],
   "source": [
    "[(a, em2002[a].dtype) for a in missing_value_cols]"
   ]
  },
  {
   "cell_type": "markdown",
   "metadata": {},
   "source": [
    "## fill in missing values"
   ]
  },
  {
   "cell_type": "code",
   "execution_count": null,
   "metadata": {
    "collapsed": false
   },
   "outputs": [],
   "source": [
    "## strings\n",
    "em2002.fillna({'ACTRES1':'UNKNOWN','LOC_STATE':'XX','STATE':'XX','LOC_CITY':'UNKNOWN','SKEY':'UNKNOWN',\n",
    "               'GRADE':'XX','JOB_FAMILY':'XX','POSTAL_SFI':'XXX','ADDRESS1':'UNKNOWN','VOLINVOL':'N/A',\n",
    "              'JOB_FUNCTION':'XX'},inplace=True)\n",
    "em2002.fillna({'BOX1':0,'HAVE_INS':'N','HAVE_DEP':'N'},inplace=True)\n",
    "## floats\n",
    "em2002.fillna({'DEPENDENT_CNT':0,'TOTAL_RPT_CNT':0,'EXTFUNC_CNT':0.0,'MERIT1':0.0,'PERF1':0.0,'SAL1':0.0,\n",
    "              'FUNC_CNT':0.0,'DIRECT_RPT_CNT':0.0,'ADDRCNT1':0.0},inplace=True)\n",
    "\n",
    "br.get_columns_with_nulls(em2002[all_cols3])"
   ]
  },
  {
   "cell_type": "markdown",
   "metadata": {},
   "source": [
    "## identify the response/indicator variables"
   ]
  },
  {
   "cell_type": "code",
   "execution_count": null,
   "metadata": {
    "collapsed": true
   },
   "outputs": [],
   "source": [
    "indicator_dict = {'INTERN': {'N':0,'Y':1},\n",
    "                  'REMOTE': {'N':0,'Y':1}, 'FULLPART1': {'N':0,'Y':1},\n",
    "                 'RELOCATE_ALL_SFI' : {'N':0,'Y':1},\n",
    "                'HUBIND':{'N':0,'Y':1},'SUPV_DIFF_LOC':{'N':0,'Y':1},\n",
    "     'HAVE_DEP': {'N':0,'Y':1},'HAVE_INS':{'N':0,'Y':1},'PARTFULL1':{'N':0,'Y':1},\n",
    "    'REMOTE_SUPV':{'N':0,'Y':1}, 'COMP_FREQUENCY': {'A':1,'H':0}, \n",
    "                  'SEX': {'M':1,'F':0},'BOX1':{'H':3,'S':2,'L':1},'SHIFT':{'N':0,'1':1,'2':2,'3':3}}\n",
    "for key,value in indicator_dict.iteritems():\n",
    "    em2002[key].replace(value,inplace=True)"
   ]
  },
  {
   "cell_type": "code",
   "execution_count": null,
   "metadata": {
    "collapsed": false
   },
   "outputs": [],
   "source": [
    "em2002['SHIFT'].replace({'1':1,'2':2,\"3\":3},inplace=True)"
   ]
  },
  {
   "cell_type": "markdown",
   "metadata": {},
   "source": [
    "### get rid of some other columns"
   ]
  },
  {
   "cell_type": "code",
   "execution_count": null,
   "metadata": {
    "collapsed": false
   },
   "outputs": [],
   "source": [
    "#all_cols =em2002.columns.tolist()\n",
    "#columns_to_omit = [a for a in em2002.columns if a.startswith('ACTRES')]\n",
    "columns_to_omit =[]\n",
    "columns_to_omit.append('ACTRES1')\n",
    "columns_to_omit.append('ADDRESS1')\n",
    "#columns_to_omit.append('MAR_STATUS_DT')\n",
    "#columns_to_omit.append('KEY')\n",
    "columns_to_omit.append('SKEY')\n",
    "columns_to_omit.append('STATE') # these values are noisier than LOC_STATE\n",
    "columns_to_omit.append('LOC_CITY')\n",
    "#columns_to_omit.append('zip5')\n",
    "columns_to_omit.append('PER_ORG')\n",
    "columns_to_omit.append('POSTAL_SFI')\n",
    "columns_to_omit.append('VOLINVOL')\n",
    "columns_to_omit.append('MAR_STA_SNAME_SFI')\n",
    "#columns_to_omit.remove('LOCATION')\n",
    "columns_to_omit.append('LEGACY_DEPT_SFI')\n",
    "columns_to_omit.append('TOT_MO_SERVICE_SFI')\n",
    "print len(columns_to_omit)\n",
    "all_cols4 = list(set(all_cols3)-set(columns_to_omit))\n",
    "print len(all_cols4)"
   ]
  },
  {
   "cell_type": "code",
   "execution_count": null,
   "metadata": {
    "collapsed": false
   },
   "outputs": [],
   "source": [
    "col3_categorical = br.get_categorical(em2002[all_cols4])\n",
    "col3_numeric = br.get_numeric(em2002[all_cols4])"
   ]
  },
  {
   "cell_type": "code",
   "execution_count": null,
   "metadata": {
    "collapsed": false
   },
   "outputs": [],
   "source": [
    "len(col3_categorical), len(col3_numeric), len([a for a in all_cols3 if a.endswith('tstmp')])"
   ]
  },
  {
   "cell_type": "markdown",
   "metadata": {},
   "source": [
    "## save this set to a file"
   ]
  },
  {
   "cell_type": "code",
   "execution_count": null,
   "metadata": {
    "collapsed": true
   },
   "outputs": [],
   "source": [
    "save_file = False\n",
    "if save_file:\n",
    "    em2002[all_cols4].to_csv('after2001_v3.csv',index=False)\n"
   ]
  },
  {
   "cell_type": "markdown",
   "metadata": {},
   "source": [
    "## START LOADING HERE 12.09.2015"
   ]
  },
  {
   "cell_type": "code",
   "execution_count": 7,
   "metadata": {
    "collapsed": false
   },
   "outputs": [],
   "source": [
    "\n",
    "em2002 = pd.read_csv('after2001_v3.csv',dtype={'EEO1CODE':np.str,'EMPL_CLASS':np.str})"
   ]
  },
  {
   "cell_type": "code",
   "execution_count": 8,
   "metadata": {
    "collapsed": false
   },
   "outputs": [
    {
     "data": {
      "text/plain": [
       "(134266, 69)"
      ]
     },
     "execution_count": 8,
     "metadata": {},
     "output_type": "execute_result"
    }
   ],
   "source": [
    "em2002.shape"
   ]
  },
  {
   "cell_type": "markdown",
   "metadata": {},
   "source": [
    "### get categorical columns\n"
   ]
  },
  {
   "cell_type": "code",
   "execution_count": 9,
   "metadata": {
    "collapsed": false
   },
   "outputs": [
    {
     "name": "stdout",
     "output_type": "stream",
     "text": [
      "55 14\n"
     ]
    }
   ],
   "source": [
    "col3_categorical = br.get_categorical(em2002)\n",
    "col3_numeric = br.get_numeric(em2002)\n",
    "print len(col3_numeric), len(col3_categorical)"
   ]
  },
  {
   "cell_type": "markdown",
   "metadata": {},
   "source": [
    "## Deal with categorical columns"
   ]
  },
  {
   "cell_type": "code",
   "execution_count": 10,
   "metadata": {
    "collapsed": false,
    "scrolled": true
   },
   "outputs": [
    {
     "name": "stdout",
     "output_type": "stream",
     "text": [
      "EEO1CODE 10\n",
      "birth_tstmp 20171\n",
      "FULL_PART_TIME 4\n",
      "EMPL_CLASS 6\n",
      "FLSA_STATUS 3\n",
      "LOC_STATE 52\n",
      "GRADE 125\n",
      "JOB_FAMILY 1448\n",
      "hire_tstmp 8881\n",
      "LOCATION 13030\n",
      "term_tstmp 4353\n",
      "JOB_FUNCTION 19\n",
      "EMPL_TYPE 5\n",
      "LOC_TYPE_DESCR_SFI 31\n",
      "============\n",
      "COMPANY 6\n",
      "DIVISION_CODE_SFI 9\n",
      "ETHNIC_GROUP 8\n"
     ]
    }
   ],
   "source": [
    "#indicator_cols = []\n",
    "#cat_cols2 = []\n",
    "for c in col3_categorical: #cat_cols:\n",
    "    nobs = len(em2002[c].unique())\n",
    "    #if nobs == 2:\n",
    "        #indicator_cols.append(c)\n",
    "    #else:\n",
    "    print c, nobs\n",
    "    #    cat_cols2.append(c)\n",
    "print \"============\"\n",
    "numeric_to_categorical = ['COMPANY','DIVISION_CODE_SFI','ETHNIC_GROUP']\n",
    "for c in numeric_to_categorical:\n",
    "    print c, len(em2002[c].unique())"
   ]
  },
  {
   "cell_type": "code",
   "execution_count": 57,
   "metadata": {
    "collapsed": false
   },
   "outputs": [
    {
     "data": {
      "text/plain": [
       "53"
      ]
     },
     "execution_count": 57,
     "metadata": {},
     "output_type": "execute_result"
    }
   ],
   "source": [
    "len(em2002['FUNC_ID_SFI'].unique())"
   ]
  },
  {
   "cell_type": "code",
   "execution_count": 66,
   "metadata": {
    "collapsed": true
   },
   "outputs": [],
   "source": [
    "\n",
    "cat_cols_to_dummy_encode = ['EMPL_TYPE','EMPL_CLASS','EEO1CODE','FULL_PART_TIME','FLSA_STATUS','LOC_TYPE_DESCR_SFI',\n",
    "                           'COMPANY','DIVISION_CODE_SFI','ETHNIC_GROUP','JOB_FUNCTION']\n",
    "my_label_encode_cols = ['JOB_FAMILY', 'GRADE', 'FLOR_SFI', 'FUNC_ID_SFI', 'EXT_FUNC_ID_SFI',\n",
    "                        'JOBCODE', 'LOC_STATE']"
   ]
  },
  {
   "cell_type": "code",
   "execution_count": 67,
   "metadata": {
    "collapsed": false
   },
   "outputs": [
    {
     "data": {
      "text/plain": [
       "[('EMPL_TYPE', dtype('O')),\n",
       " ('EMPL_CLASS', dtype('O')),\n",
       " ('EEO1CODE', dtype('O')),\n",
       " ('FULL_PART_TIME', dtype('O')),\n",
       " ('FLSA_STATUS', dtype('O')),\n",
       " ('LOC_TYPE_DESCR_SFI', dtype('O')),\n",
       " ('COMPANY', dtype('int64')),\n",
       " ('DIVISION_CODE_SFI', dtype('int64')),\n",
       " ('ETHNIC_GROUP', dtype('float64')),\n",
       " ('JOB_FUNCTION', dtype('O'))]"
      ]
     },
     "execution_count": 67,
     "metadata": {},
     "output_type": "execute_result"
    }
   ],
   "source": [
    "[(col,em2002[col].dtype) for col in cat_cols_to_dummy_encode]"
   ]
  },
  {
   "cell_type": "markdown",
   "metadata": {},
   "source": [
    "## identify meaningless columns for modeling\n",
    "* potential responses: retired, status\n",
    "* timestamps (3)\n",
    "* KEY, SKEY, ACTRES1, MAR_STA_SNAME_SFI, LOC_TYPE_DESCR_SFI"
   ]
  },
  {
   "cell_type": "markdown",
   "metadata": {},
   "source": [
    "## Take a look at the numeric columns"
   ]
  },
  {
   "cell_type": "code",
   "execution_count": 68,
   "metadata": {
    "collapsed": false
   },
   "outputs": [
    {
     "data": {
      "text/plain": [
       "48"
      ]
     },
     "execution_count": 68,
     "metadata": {},
     "output_type": "execute_result"
    }
   ],
   "source": [
    "true_numeric = list(set(col3_numeric)-set(numeric_to_categorical)-set(my_label_encode_cols))\n",
    "true_numeric.sort()\n",
    "len(true_numeric)"
   ]
  },
  {
   "cell_type": "code",
   "execution_count": 13,
   "metadata": {
    "collapsed": false
   },
   "outputs": [
    {
     "data": {
      "text/plain": [
       "[('ADDRCNT1', 5),\n",
       " ('ANNUAL_RT', 95474),\n",
       " ('Age_years', 18247),\n",
       " ('BOX1', 4),\n",
       " ('COMP_FREQUENCY', 2),\n",
       " ('DEPENDENT_CNT', 28),\n",
       " ('DEPTCNT1', 8),\n",
       " ('DIRECT_RPT_CNT', 173),\n",
       " ('EFUNCCNT1', 5),\n",
       " ('EXTFUNC_CNT', 6518),\n",
       " ('FLOORCNT1', 6),\n",
       " ('FTE', 77),\n",
       " ('FTPTCNT1', 3),\n",
       " ('FULLPART1', 2),\n",
       " ('FUNCCNT1', 4),\n",
       " ('FUNC_CNT', 7807),\n",
       " ('GRADECNT1', 5),\n",
       " ('HAVE_DEP', 2),\n",
       " ('HAVE_INS', 2),\n",
       " ('HUBIND', 2),\n",
       " ('INTERN', 2),\n",
       " ('JOBCNT1', 7),\n",
       " ('KEY', 134266),\n",
       " ('LOCCNT1', 7),\n",
       " ('LOCSTCNT1', 4),\n",
       " ('MAX_RT_ANNUAL', 1002),\n",
       " ('MERIT1', 74185),\n",
       " ('MIN_RT_ANNUAL', 1255),\n",
       " ('PARTFULL1', 2),\n",
       " ('PERF1', 78546),\n",
       " ('PTFTCNT1', 3),\n",
       " ('REH_CNT', 18),\n",
       " ('RELOCATE_ALL_SFI', 2),\n",
       " ('RELO_STATE_CNT_SFI', 55),\n",
       " ('REMOTE', 2),\n",
       " ('REMOTE_SUPV', 2),\n",
       " ('SAL1', 95474),\n",
       " ('SEX', 2),\n",
       " ('SHIFT', 4),\n",
       " ('STD_HOURS', 115),\n",
       " ('SUPVCNT1', 12),\n",
       " ('SUPV_DIFF_LOC', 2),\n",
       " ('TOTAL_RPT_CNT', 854),\n",
       " ('Tenure_years', 14693),\n",
       " ('former', 2),\n",
       " ('hire_age', 15240),\n",
       " ('retired', 2),\n",
       " ('status', 2)]"
      ]
     },
     "execution_count": 13,
     "metadata": {},
     "output_type": "execute_result"
    }
   ],
   "source": [
    "[(col,em2002[col].nunique()) for col in true_numeric]"
   ]
  },
  {
   "cell_type": "code",
   "execution_count": 15,
   "metadata": {
    "collapsed": false
   },
   "outputs": [
    {
     "name": "stdout",
     "output_type": "stream",
     "text": [
      "ADDRCNT1           VIF = 1.0   R^2 = 0.0403    \n",
      "\n",
      "ANNUAL_RT: PERFECT COLLINEARITY ********\n",
      "['ADDRCNT1', 'FTE', 'SAL1', 'STD_HOURS']\n",
      "\n",
      "Age_years          VIF = 906310775.4R^2 = 1.0       \n",
      "BOX1               VIF = 2.4   R^2 = 0.5824    \n",
      "COMP_FREQUENCY     VIF = 2.4   R^2 = 0.5789    \n",
      "DEPENDENT_CNT      VIF = 2.9   R^2 = 0.6544    \n",
      "DEPTCNT1           VIF = 7.3   R^2 = 0.8621    \n",
      "DIRECT_RPT_CNT     VIF = 1.7   R^2 = 0.4221    \n",
      "EFUNCCNT1          VIF = 7.2   R^2 = 0.8611    \n",
      "EXTFUNC_CNT        VIF = 19.8  R^2 = 0.9495    \n",
      "FLOORCNT1          VIF = 20.6  R^2 = 0.9514    \n",
      "FTE                VIF = 632.1 R^2 = 0.9984    \n",
      "FTPTCNT1           VIF = 17397.2R^2 = 0.9999    \n",
      "FULLPART1          VIF = 17397.2R^2 = 0.9999    \n",
      "FUNCCNT1           VIF = 6.2   R^2 = 0.838     \n",
      "FUNC_CNT           VIF = 6.6   R^2 = 0.8483    \n",
      "GRADECNT1          VIF = 22.5  R^2 = 0.9555    \n",
      "HAVE_DEP           VIF = 4.0   R^2 = 0.7492    \n",
      "HAVE_INS           VIF = 2.9   R^2 = 0.6577    \n",
      "HUBIND             VIF = 3.3   R^2 = 0.6938    \n",
      "INTERN             VIF = 11.6  R^2 = 0.9137    \n",
      "JOBCNT1            VIF = 22.0  R^2 = 0.9545    \n",
      "KEY                VIF = 1.2   R^2 = 0.1974    \n",
      "LOCCNT1            VIF = 6.1   R^2 = 0.8356    \n",
      "LOCSTCNT1          VIF = 22.6  R^2 = 0.9557    \n",
      "MAX_RT_ANNUAL      VIF = 23.3  R^2 = 0.9572    \n",
      "MERIT1             VIF = 3.3   R^2 = 0.6956    \n",
      "MIN_RT_ANNUAL      VIF = 6.51279772577e+12R^2 = 1.0       \n",
      "PARTFULL1          VIF = 1.1   R^2 = 0.103     \n",
      "PERF1              VIF = 4.0572969616e+13R^2 = 1.0       \n",
      "PTFTCNT1           VIF = 1.1   R^2 = 0.1043    \n",
      "REH_CNT            VIF = 2.4   R^2 = 0.5845    \n",
      "RELOCATE_ALL_SFI   VIF = 43.9  R^2 = 0.9772    \n",
      "RELO_STATE_CNT_SFI VIF = 45.1  R^2 = 0.9778    \n",
      "REMOTE             VIF = 1.7   R^2 = 0.4208    \n",
      "REMOTE_SUPV        VIF = 1.3   R^2 = 0.2528    \n",
      "SAL1               VIF = 3.34467109348e+12R^2 = 1.0       \n",
      "SEX                VIF = 1.3   R^2 = 0.2333    \n",
      "SHIFT              VIF = 19.0  R^2 = 0.9472    \n",
      "STD_HOURS          VIF = 33.7  R^2 = 0.9703    \n",
      "SUPVCNT1           VIF = 7.8   R^2 = 0.8712    \n",
      "SUPV_DIFF_LOC      VIF = 5.1   R^2 = 0.8036    \n",
      "TOTAL_RPT_CNT      VIF = 1.2   R^2 = 0.1609    \n",
      "Tenure_years       VIF = 3411406980.0R^2 = 1.0       \n",
      "former             VIF = 657.3 R^2 = 0.9985    \n",
      "hire_age           VIF = 3874989193.0R^2 = 1.0       \n",
      "retired            VIF = 656.5 R^2 = 0.9985    \n",
      "status             VIF = 5531.4R^2 = 0.9998    \n"
     ]
    },
    {
     "data": {
      "text/plain": [
       "ADDRCNT1              0.040298\n",
       "ANNUAL_RT             1.000000\n",
       "Age_years             1.000000\n",
       "BOX1                  0.582429\n",
       "COMP_FREQUENCY        0.578885\n",
       "DEPENDENT_CNT         0.654439\n",
       "DEPTCNT1              0.862119\n",
       "DIRECT_RPT_CNT        0.422054\n",
       "EFUNCCNT1             0.861106\n",
       "EXTFUNC_CNT           0.949467\n",
       "FLOORCNT1             0.951448\n",
       "FTE                   0.998418\n",
       "FTPTCNT1              0.999943\n",
       "FULLPART1             0.999943\n",
       "FUNCCNT1              0.838028\n",
       "FUNC_CNT              0.848312\n",
       "GRADECNT1             0.955484\n",
       "HAVE_DEP              0.749163\n",
       "HAVE_INS              0.657694\n",
       "HUBIND                0.693786\n",
       "INTERN                0.913711\n",
       "JOBCNT1               0.954493\n",
       "KEY                   0.197428\n",
       "LOCCNT1               0.835615\n",
       "LOCSTCNT1             0.955677\n",
       "MAX_RT_ANNUAL         0.957170\n",
       "MERIT1                0.695590\n",
       "MIN_RT_ANNUAL         1.000000\n",
       "PARTFULL1             0.103042\n",
       "PERF1                 1.000000\n",
       "PTFTCNT1              0.104258\n",
       "REH_CNT               0.584472\n",
       "RELOCATE_ALL_SFI      0.977198\n",
       "RELO_STATE_CNT_SFI    0.977837\n",
       "REMOTE                0.420828\n",
       "REMOTE_SUPV           0.252754\n",
       "SAL1                  1.000000\n",
       "SEX                   0.233308\n",
       "SHIFT                 0.947239\n",
       "STD_HOURS             0.970317\n",
       "SUPVCNT1              0.871218\n",
       "SUPV_DIFF_LOC         0.803579\n",
       "TOTAL_RPT_CNT         0.160909\n",
       "Tenure_years          1.000000\n",
       "former                0.998479\n",
       "hire_age              1.000000\n",
       "retired               0.998477\n",
       "status                0.999819\n",
       "dtype: float64"
      ]
     },
     "execution_count": 15,
     "metadata": {},
     "output_type": "execute_result"
    }
   ],
   "source": [
    "br.perfect_collinearity_test(em2002[true_numeric])"
   ]
  },
  {
   "cell_type": "code",
   "execution_count": 21,
   "metadata": {
    "collapsed": false
   },
   "outputs": [
    {
     "data": {
      "text/plain": [
       "41"
      ]
     },
     "execution_count": 21,
     "metadata": {},
     "output_type": "execute_result"
    }
   ],
   "source": [
    "iterative_modeling_cols = [col for col in true_numeric]\n",
    "iterative_modeling_cols.remove('status')\n",
    "iterative_modeling_cols.remove('retired')\n",
    "iterative_modeling_cols.remove('KEY')\n",
    "iterative_modeling_cols.remove('former')\n",
    "iterative_modeling_cols.remove('Tenure_years')\n",
    "iterative_modeling_cols.remove('ANNUAL_RT')\n",
    "iterative_modeling_cols.remove('Age_years')\n",
    "len(iterative_modeling_cols)"
   ]
  },
  {
   "cell_type": "markdown",
   "metadata": {},
   "source": [
    " Oct. 23, 2015\n",
    "## Looking at doing survival analysis for Retirement\n",
    "plan of attack\n",
    "\n",
    "1. id the minimum age of retirement, $A_R$, in our dataset and adjust it by $y_H$, the maximum horizon age..\n",
    "2. use the train-test-split from above (build & evaluation sets)\n",
    "3. pull out subsets from each where the following conditions are met:\n",
    "    a. retired == 1  OR\n",
    "    b. Age $\\ge A_R - y_H$\n",
    "4. calculate retire age\n",
    "    * I might have to calculate this in relative terms\n",
    "5. take subset of columns (minimal_cols_to_keep)\n",
    "6. apply coxph to get prob of retire and weights of factors/features.\n",
    "7. also try other models like Aaalen and Nelson\n",
    "7. test on evaluation set for ability to predict \n",
    "    * ...\n",
    "9. check for retirement rates in each of the coming years"
   ]
  },
  {
   "cell_type": "markdown",
   "metadata": {},
   "source": [
    "## for retirement split based on age (50 years)"
   ]
  },
  {
   "cell_type": "code",
   "execution_count": 16,
   "metadata": {
    "collapsed": false
   },
   "outputs": [
    {
     "name": "stdout",
     "output_type": "stream",
     "text": [
      "43536\n"
     ]
    }
   ],
   "source": [
    "over50 = em2002[em2002.Age_years >= 50.0].copy()\n",
    "print len(over50)\n",
    "#over50.to_csv('over50.csv',index=False)"
   ]
  },
  {
   "cell_type": "code",
   "execution_count": 19,
   "metadata": {
    "collapsed": false
   },
   "outputs": [
    {
     "name": "stdout",
     "output_type": "stream",
     "text": [
      "Starting with subset of 43536 employees.\n",
      "Evaluation set has 8708 employees; training set has 34828 employees.\n"
     ]
    }
   ],
   "source": [
    "# repeat the split\n",
    "\n",
    "# break into evaluation and build sets\n",
    "print \"Starting with subset of {0} employees.\".format(len(over50))\n",
    "eval_fraction = 0.20\n",
    "o50build, o50eval = cross_validation.train_test_split(over50,test_size=eval_fraction,random_state = 88843)\n",
    "print \"Evaluation set has {0} employees; training set has {1} employees.\".format(len(o50eval),len(o50build))"
   ]
  },
  {
   "cell_type": "code",
   "execution_count": 20,
   "metadata": {
    "collapsed": true
   },
   "outputs": [],
   "source": [
    "from lifelines import CoxPHFitter\n",
    "cf = CoxPHFitter()\n",
    "#from lifelines import AalenAdditiveFitter"
   ]
  },
  {
   "cell_type": "code",
   "execution_count": 24,
   "metadata": {
    "collapsed": true
   },
   "outputs": [],
   "source": [
    "#define a function to fit and score a model with variables\n",
    "def optimize_model(df,column_list,tgt_col = 'Age_years',ind_col='retired'):\n",
    "    initial_concord\n",
    "    my_col = [tgt_col,ind_col]\n",
    "    for col in column_list:\n",
    "        cf = CoxPHFitter()\n",
    "        my_col.append(col)\n",
    "        cf.fit(df[my_col],tgt_col,event_col=ind_col)\n",
    "        print col\n",
    "        cf.print_summary()\n",
    "    return"
   ]
  },
  {
   "cell_type": "code",
   "execution_count": 70,
   "metadata": {
    "collapsed": false
   },
   "outputs": [
    {
     "data": {
      "text/plain": [
       "(34828, 69)"
      ]
     },
     "execution_count": 70,
     "metadata": {},
     "output_type": "execute_result"
    }
   ],
   "source": [
    "o50build.shape"
   ]
  },
  {
   "cell_type": "code",
   "execution_count": 59,
   "metadata": {
    "collapsed": false
   },
   "outputs": [
    {
     "name": "stdout",
     "output_type": "stream",
     "text": [
      "CPU times: user 0 ns, sys: 0 ns, total: 0 ns\n",
      "Wall time: 20 µs\n",
      "SEX\n",
      "n=34828, number of events=12036\n",
      "\n",
      "          coef  exp(coef)  se(coef)          z         p  lower 0.95  upper 0.95     \n",
      "SEX -5.138e-02  9.499e-01 9.173e-03 -5.602e+00 2.123e-08  -6.936e-02  -3.340e-02  ***\n",
      "---\n",
      "Signif. codes:  0 '***' 0.001 '**' 0.01 '*' 0.05 '.' 0.1 ' ' 1 \n",
      "\n",
      "Concordance = 0.529\n",
      "hire_age\n",
      "n=34828, number of events=12036\n",
      "\n",
      "               coef  exp(coef)  se(coef)          z         p  lower 0.95  upper 0.95     \n",
      "SEX      -7.477e-02  9.280e-01 9.181e-03 -8.144e+00 3.826e-16  -9.277e-02  -5.677e-02  ***\n",
      "hire_age -3.801e-01  6.838e-01 8.596e-03 -4.422e+01 0.000e+00  -3.970e-01  -3.633e-01  ***\n",
      "---\n",
      "Signif. codes:  0 '***' 0.001 '**' 0.01 '*' 0.05 '.' 0.1 ' ' 1 \n",
      "\n",
      "Concordance = 0.622\n",
      "SAL1\n",
      "n=34828, number of events=12036\n",
      "\n",
      "               coef  exp(coef)  se(coef)          z         p  lower 0.95  upper 0.95     \n",
      "SEX      -4.896e-02  9.522e-01 1.042e-02 -4.698e+00 2.625e-06  -6.938e-02  -2.853e-02  ***\n",
      "hire_age -3.943e-01  6.742e-01 8.987e-03 -4.387e+01 0.000e+00  -4.119e-01  -3.767e-01  ***\n",
      "SAL1     -5.327e-02  9.481e-01 1.040e-02 -5.122e+00 3.023e-07  -7.366e-02  -3.288e-02  ***\n",
      "---\n",
      "Signif. codes:  0 '***' 0.001 '**' 0.01 '*' 0.05 '.' 0.1 ' ' 1 \n",
      "\n",
      "Concordance = 0.626\n",
      "MERIT1\n",
      "n=34828, number of events=12036\n",
      "\n",
      "               coef  exp(coef)  se(coef)          z         p  lower 0.95  upper 0.95     \n",
      "SEX      -5.082e-02  9.505e-01 1.042e-02 -4.879e+00 1.066e-06  -7.124e-02  -3.040e-02  ***\n",
      "hire_age -3.915e-01  6.760e-01 8.976e-03 -4.362e+01 0.000e+00  -4.091e-01  -3.739e-01  ***\n",
      "SAL1     -4.598e-02  9.551e-01 1.030e-02 -4.466e+00 7.977e-06  -6.616e-02  -2.579e-02  ***\n",
      "MERIT1   -7.601e-02  9.268e-01 8.186e-03 -9.285e+00 1.615e-20  -9.205e-02  -5.996e-02  ***\n",
      "---\n",
      "Signif. codes:  0 '***' 0.001 '**' 0.01 '*' 0.05 '.' 0.1 ' ' 1 \n",
      "\n",
      "Concordance = 0.631\n",
      "HAVE_INS\n",
      "n=34828, number of events=12036\n",
      "\n",
      "               coef  exp(coef)  se(coef)          z         p  lower 0.95  upper 0.95     \n",
      "SEX      -5.672e-02  9.449e-01 1.040e-02 -5.456e+00 4.870e-08  -7.709e-02  -3.634e-02  ***\n",
      "hire_age -4.035e-01  6.680e-01 9.014e-03 -4.477e+01 0.000e+00  -4.212e-01  -3.858e-01  ***\n",
      "SAL1     -3.400e-02  9.666e-01 1.022e-02 -3.328e+00 8.739e-04  -5.402e-02  -1.397e-02  ***\n",
      "MERIT1   -7.416e-02  9.285e-01 8.346e-03 -8.886e+00 6.359e-19  -9.052e-02  -5.780e-02  ***\n",
      "HAVE_INS -1.051e-01  9.003e-01 9.960e-03 -1.055e+01 5.136e-26  -1.246e-01  -8.555e-02  ***\n",
      "---\n",
      "Signif. codes:  0 '***' 0.001 '**' 0.01 '*' 0.05 '.' 0.1 ' ' 1 \n",
      "\n",
      "Concordance = 0.640\n",
      "HAVE_DEP\n",
      "n=34828, number of events=12036\n",
      "\n",
      "               coef  exp(coef)  se(coef)          z         p  lower 0.95  upper 0.95     \n",
      "SEX      -7.390e-02  9.288e-01 1.072e-02 -6.894e+00 5.412e-12  -9.492e-02  -5.289e-02  ***\n",
      "hire_age -4.020e-01  6.690e-01 9.029e-03 -4.453e+01 0.000e+00  -4.197e-01  -3.843e-01  ***\n",
      "SAL1     -4.106e-02  9.598e-01 1.032e-02 -3.978e+00 6.940e-05  -6.129e-02  -2.083e-02  ***\n",
      "MERIT1   -7.452e-02  9.282e-01 8.304e-03 -8.973e+00 2.874e-19  -9.079e-02  -5.824e-02  ***\n",
      "HAVE_INS -1.390e-01  8.703e-01 1.130e-02 -1.230e+01 9.614e-35  -1.611e-01  -1.168e-01  ***\n",
      "HAVE_DEP  7.221e-02  1.075e+00 1.107e-02  6.521e+00 6.993e-11   5.050e-02   9.392e-02  ***\n",
      "---\n",
      "Signif. codes:  0 '***' 0.001 '**' 0.01 '*' 0.05 '.' 0.1 ' ' 1 \n",
      "\n",
      "Concordance = 0.640\n",
      "PERF1\n",
      "n=34828, number of events=12036\n",
      "\n",
      "               coef  exp(coef)  se(coef)          z         p  lower 0.95  upper 0.95     \n",
      "SEX      -7.414e-02  9.285e-01 1.072e-02 -6.913e+00 4.729e-12  -9.516e-02  -5.311e-02  ***\n",
      "hire_age -4.004e-01  6.700e-01 9.150e-03 -4.376e+01 0.000e+00  -4.184e-01  -3.825e-01  ***\n",
      "SAL1     -4.236e-02  9.585e-01 1.044e-02 -4.058e+00 4.959e-05  -6.283e-02  -2.189e-02  ***\n",
      "MERIT1   -7.624e-02  9.266e-01 8.409e-03 -9.066e+00 1.236e-19  -9.272e-02  -5.975e-02  ***\n",
      "HAVE_INS -1.395e-01  8.698e-01 1.131e-02 -1.233e+01 6.033e-35  -1.617e-01  -1.173e-01  ***\n",
      "HAVE_DEP  7.177e-02  1.074e+00 1.108e-02  6.477e+00 9.384e-11   5.005e-02   9.350e-02  ***\n",
      "PERF1     1.082e-02  1.011e+00 1.023e-02  1.058e+00 2.902e-01  -9.239e-03   3.089e-02     \n",
      "---\n",
      "Signif. codes:  0 '***' 0.001 '**' 0.01 '*' 0.05 '.' 0.1 ' ' 1 \n",
      "\n",
      "Concordance = 0.640\n",
      "BOX1\n",
      "n=34828, number of events=12036\n",
      "\n",
      "               coef  exp(coef)  se(coef)          z         p  lower 0.95  upper 0.95     \n",
      "SEX      -7.263e-02  9.299e-01 1.086e-02 -6.687e+00 2.277e-11  -9.392e-02  -5.134e-02  ***\n",
      "hire_age -4.004e-01  6.700e-01 9.157e-03 -4.373e+01 0.000e+00  -4.184e-01  -3.825e-01  ***\n",
      "SAL1     -4.233e-02  9.586e-01 1.045e-02 -4.051e+00 5.109e-05  -6.281e-02  -2.184e-02  ***\n",
      "MERIT1   -7.657e-02  9.263e-01 8.356e-03 -9.164e+00 5.018e-20  -9.295e-02  -6.019e-02  ***\n",
      "HAVE_INS -1.404e-01  8.690e-01 1.135e-02 -1.237e+01 4.010e-35  -1.627e-01  -1.181e-01  ***\n",
      "HAVE_DEP  7.144e-02  1.074e+00 1.109e-02  6.443e+00 1.175e-10   4.970e-02   9.317e-02  ***\n",
      "PERF1     7.019e-03  1.007e+00 1.117e-02  6.284e-01 5.297e-01  -1.488e-02   2.892e-02     \n",
      "BOX1      9.885e-03  1.010e+00 1.116e-02  8.855e-01 3.759e-01  -1.200e-02   3.177e-02     \n",
      "---\n",
      "Signif. codes:  0 '***' 0.001 '**' 0.01 '*' 0.05 '.' 0.1 ' ' 1 \n",
      "\n",
      "Concordance = 0.640\n"
     ]
    }
   ],
   "source": [
    "%time\n",
    "tmp_col = ['SEX','hire_age','SAL1','MERIT1','HAVE_INS','HAVE_DEP','PERF1','BOX1']\n",
    "optimize_model(o50build,tmp_col)"
   ]
  },
  {
   "cell_type": "code",
   "execution_count": 66,
   "metadata": {
    "collapsed": false
   },
   "outputs": [
    {
     "data": {
      "text/html": [
       "<div>\n",
       "<table border=\"1\" class=\"dataframe\">\n",
       "  <thead>\n",
       "    <tr style=\"text-align: right;\">\n",
       "      <th></th>\n",
       "      <th>retired</th>\n",
       "      <th>Age_years</th>\n",
       "      <th>SEX</th>\n",
       "      <th>hire_age</th>\n",
       "    </tr>\n",
       "  </thead>\n",
       "  <tbody>\n",
       "    <tr>\n",
       "      <th>113856</th>\n",
       "      <td>0</td>\n",
       "      <td>56.150582</td>\n",
       "      <td>1</td>\n",
       "      <td>39.718817</td>\n",
       "    </tr>\n",
       "    <tr>\n",
       "      <th>78215</th>\n",
       "      <td>0</td>\n",
       "      <td>54.910335</td>\n",
       "      <td>0</td>\n",
       "      <td>17.615694</td>\n",
       "    </tr>\n",
       "    <tr>\n",
       "      <th>77668</th>\n",
       "      <td>0</td>\n",
       "      <td>57.634497</td>\n",
       "      <td>0</td>\n",
       "      <td>21.059981</td>\n",
       "    </tr>\n",
       "    <tr>\n",
       "      <th>78516</th>\n",
       "      <td>0</td>\n",
       "      <td>55.523614</td>\n",
       "      <td>1</td>\n",
       "      <td>25.676092</td>\n",
       "    </tr>\n",
       "    <tr>\n",
       "      <th>18773</th>\n",
       "      <td>1</td>\n",
       "      <td>57.593429</td>\n",
       "      <td>0</td>\n",
       "      <td>35.529819</td>\n",
       "    </tr>\n",
       "  </tbody>\n",
       "</table>\n",
       "</div>"
      ],
      "text/plain": [
       "        retired  Age_years  SEX   hire_age\n",
       "113856        0  56.150582    1  39.718817\n",
       "78215         0  54.910335    0  17.615694\n",
       "77668         0  57.634497    0  21.059981\n",
       "78516         0  55.523614    1  25.676092\n",
       "18773         1  57.593429    0  35.529819"
      ]
     },
     "execution_count": 66,
     "metadata": {},
     "output_type": "execute_result"
    }
   ],
   "source": [
    "o50build[['retired','Age_years','SEX','hire_age']].head()"
   ]
  },
  {
   "cell_type": "markdown",
   "metadata": {
    "collapsed": true
   },
   "source": [
    "### build a coxproporitional hazard model based upon:\n",
    "* Sex, hire_age, SAL1, MERIT1, HAVE_INS, & HAVE_DEP (model_A)"
   ]
  },
  {
   "cell_type": "code",
   "execution_count": null,
   "metadata": {
    "collapsed": true
   },
   "outputs": [],
   "source": []
  },
  {
   "cell_type": "code",
   "execution_count": 71,
   "metadata": {
    "collapsed": false
   },
   "outputs": [
    {
     "data": {
      "text/plain": [
       "<lifelines.CoxPHFitter: fitted with 34828 observations, 22792 censored>"
      ]
     },
     "execution_count": 71,
     "metadata": {},
     "output_type": "execute_result"
    }
   ],
   "source": [
    "cf_modA = CoxPHFitter()\n",
    "cf_modA.fit(o50build[['retired','Age_years','SEX','hire_age','SAL1','MERIT1','HAVE_INS','HAVE_DEP']],'Age_years',event_col='retired')"
   ]
  },
  {
   "cell_type": "code",
   "execution_count": 72,
   "metadata": {
    "collapsed": false,
    "scrolled": true
   },
   "outputs": [
    {
     "name": "stdout",
     "output_type": "stream",
     "text": [
      "n=34828, number of events=12036\n",
      "\n",
      "               coef  exp(coef)  se(coef)          z         p  lower 0.95  upper 0.95     \n",
      "SEX      -7.390e-02  9.288e-01 1.072e-02 -6.894e+00 5.412e-12  -9.492e-02  -5.289e-02  ***\n",
      "hire_age -4.020e-01  6.690e-01 9.029e-03 -4.453e+01 0.000e+00  -4.197e-01  -3.843e-01  ***\n",
      "SAL1     -4.106e-02  9.598e-01 1.032e-02 -3.978e+00 6.940e-05  -6.129e-02  -2.083e-02  ***\n",
      "MERIT1   -7.452e-02  9.282e-01 8.304e-03 -8.973e+00 2.874e-19  -9.079e-02  -5.824e-02  ***\n",
      "HAVE_INS -1.390e-01  8.703e-01 1.130e-02 -1.230e+01 9.614e-35  -1.611e-01  -1.168e-01  ***\n",
      "HAVE_DEP  7.221e-02  1.075e+00 1.107e-02  6.521e+00 6.993e-11   5.050e-02   9.392e-02  ***\n",
      "---\n",
      "Signif. codes:  0 '***' 0.001 '**' 0.01 '*' 0.05 '.' 0.1 ' ' 1 \n",
      "\n",
      "Concordance = 0.640\n"
     ]
    }
   ],
   "source": [
    "\n",
    "cf_modA.print_summary()"
   ]
  },
  {
   "cell_type": "code",
   "execution_count": 73,
   "metadata": {
    "collapsed": false
   },
   "outputs": [
    {
     "data": {
      "text/html": [
       "<div>\n",
       "<table border=\"1\" class=\"dataframe\">\n",
       "  <thead>\n",
       "    <tr style=\"text-align: right;\">\n",
       "      <th></th>\n",
       "      <th>coef</th>\n",
       "      <th>exp(coef)</th>\n",
       "      <th>se(coef)</th>\n",
       "      <th>z</th>\n",
       "      <th>p</th>\n",
       "      <th>lower 0.95</th>\n",
       "      <th>upper 0.95</th>\n",
       "    </tr>\n",
       "  </thead>\n",
       "  <tbody>\n",
       "    <tr>\n",
       "      <th>SEX</th>\n",
       "      <td>-0.073902</td>\n",
       "      <td>0.928763</td>\n",
       "      <td>0.010719</td>\n",
       "      <td>-6.894337</td>\n",
       "      <td>5.411648e-12</td>\n",
       "      <td>-0.094916</td>\n",
       "      <td>-0.052888</td>\n",
       "    </tr>\n",
       "    <tr>\n",
       "      <th>hire_age</th>\n",
       "      <td>-0.401999</td>\n",
       "      <td>0.668981</td>\n",
       "      <td>0.009029</td>\n",
       "      <td>-44.525426</td>\n",
       "      <td>0.000000e+00</td>\n",
       "      <td>-0.419699</td>\n",
       "      <td>-0.384300</td>\n",
       "    </tr>\n",
       "    <tr>\n",
       "      <th>SAL1</th>\n",
       "      <td>-0.041061</td>\n",
       "      <td>0.959771</td>\n",
       "      <td>0.010321</td>\n",
       "      <td>-3.978329</td>\n",
       "      <td>6.940134e-05</td>\n",
       "      <td>-0.061294</td>\n",
       "      <td>-0.020827</td>\n",
       "    </tr>\n",
       "    <tr>\n",
       "      <th>MERIT1</th>\n",
       "      <td>-0.074516</td>\n",
       "      <td>0.928193</td>\n",
       "      <td>0.008304</td>\n",
       "      <td>-8.973438</td>\n",
       "      <td>2.874016e-19</td>\n",
       "      <td>-0.090795</td>\n",
       "      <td>-0.058237</td>\n",
       "    </tr>\n",
       "    <tr>\n",
       "      <th>HAVE_INS</th>\n",
       "      <td>-0.138952</td>\n",
       "      <td>0.870269</td>\n",
       "      <td>0.011301</td>\n",
       "      <td>-12.295185</td>\n",
       "      <td>9.613617e-35</td>\n",
       "      <td>-0.161108</td>\n",
       "      <td>-0.116797</td>\n",
       "    </tr>\n",
       "    <tr>\n",
       "      <th>HAVE_DEP</th>\n",
       "      <td>0.072214</td>\n",
       "      <td>1.074885</td>\n",
       "      <td>0.011074</td>\n",
       "      <td>6.520809</td>\n",
       "      <td>6.992936e-11</td>\n",
       "      <td>0.050504</td>\n",
       "      <td>0.093924</td>\n",
       "    </tr>\n",
       "  </tbody>\n",
       "</table>\n",
       "</div>"
      ],
      "text/plain": [
       "              coef  exp(coef)  se(coef)          z             p  lower 0.95  \\\n",
       "SEX      -0.073902   0.928763  0.010719  -6.894337  5.411648e-12   -0.094916   \n",
       "hire_age -0.401999   0.668981  0.009029 -44.525426  0.000000e+00   -0.419699   \n",
       "SAL1     -0.041061   0.959771  0.010321  -3.978329  6.940134e-05   -0.061294   \n",
       "MERIT1   -0.074516   0.928193  0.008304  -8.973438  2.874016e-19   -0.090795   \n",
       "HAVE_INS -0.138952   0.870269  0.011301 -12.295185  9.613617e-35   -0.161108   \n",
       "HAVE_DEP  0.072214   1.074885  0.011074   6.520809  6.992936e-11    0.050504   \n",
       "\n",
       "          upper 0.95  \n",
       "SEX        -0.052888  \n",
       "hire_age   -0.384300  \n",
       "SAL1       -0.020827  \n",
       "MERIT1     -0.058237  \n",
       "HAVE_INS   -0.116797  \n",
       "HAVE_DEP    0.093924  "
      ]
     },
     "execution_count": 73,
     "metadata": {},
     "output_type": "execute_result"
    }
   ],
   "source": [
    "cf_modA.summary"
   ]
  },
  {
   "cell_type": "code",
   "execution_count": 75,
   "metadata": {
    "collapsed": false
   },
   "outputs": [
    {
     "data": {
      "text/html": [
       "<div>\n",
       "<table border=\"1\" class=\"dataframe\">\n",
       "  <thead>\n",
       "    <tr style=\"text-align: right;\">\n",
       "      <th></th>\n",
       "      <th>0</th>\n",
       "    </tr>\n",
       "  </thead>\n",
       "  <tbody>\n",
       "    <tr>\n",
       "      <th>113856</th>\n",
       "      <td>63.670215</td>\n",
       "    </tr>\n",
       "    <tr>\n",
       "      <th>78215</th>\n",
       "      <td>59.633871</td>\n",
       "    </tr>\n",
       "    <tr>\n",
       "      <th>77668</th>\n",
       "      <td>60.440856</td>\n",
       "    </tr>\n",
       "    <tr>\n",
       "      <th>78516</th>\n",
       "      <td>61.882317</td>\n",
       "    </tr>\n",
       "    <tr>\n",
       "      <th>18773</th>\n",
       "      <td>61.464658</td>\n",
       "    </tr>\n",
       "    <tr>\n",
       "      <th>35635</th>\n",
       "      <td>63.550532</td>\n",
       "    </tr>\n",
       "    <tr>\n",
       "      <th>106006</th>\n",
       "      <td>61.962650</td>\n",
       "    </tr>\n",
       "    <tr>\n",
       "      <th>120660</th>\n",
       "      <td>60.821555</td>\n",
       "    </tr>\n",
       "    <tr>\n",
       "      <th>26127</th>\n",
       "      <td>62.186395</td>\n",
       "    </tr>\n",
       "    <tr>\n",
       "      <th>29727</th>\n",
       "      <td>60.010272</td>\n",
       "    </tr>\n",
       "    <tr>\n",
       "      <th>124645</th>\n",
       "      <td>62.288496</td>\n",
       "    </tr>\n",
       "    <tr>\n",
       "      <th>79039</th>\n",
       "      <td>62.840433</td>\n",
       "    </tr>\n",
       "    <tr>\n",
       "      <th>110006</th>\n",
       "      <td>61.575231</td>\n",
       "    </tr>\n",
       "    <tr>\n",
       "      <th>71943</th>\n",
       "      <td>61.881393</td>\n",
       "    </tr>\n",
       "    <tr>\n",
       "      <th>36813</th>\n",
       "      <td>60.707474</td>\n",
       "    </tr>\n",
       "    <tr>\n",
       "      <th>105991</th>\n",
       "      <td>61.526660</td>\n",
       "    </tr>\n",
       "    <tr>\n",
       "      <th>46037</th>\n",
       "      <td>62.444339</td>\n",
       "    </tr>\n",
       "    <tr>\n",
       "      <th>131624</th>\n",
       "      <td>66.991251</td>\n",
       "    </tr>\n",
       "    <tr>\n",
       "      <th>107762</th>\n",
       "      <td>61.426475</td>\n",
       "    </tr>\n",
       "    <tr>\n",
       "      <th>19598</th>\n",
       "      <td>60.529813</td>\n",
       "    </tr>\n",
       "    <tr>\n",
       "      <th>78669</th>\n",
       "      <td>62.309110</td>\n",
       "    </tr>\n",
       "    <tr>\n",
       "      <th>80485</th>\n",
       "      <td>63.539339</td>\n",
       "    </tr>\n",
       "    <tr>\n",
       "      <th>69625</th>\n",
       "      <td>62.886153</td>\n",
       "    </tr>\n",
       "    <tr>\n",
       "      <th>20187</th>\n",
       "      <td>66.037545</td>\n",
       "    </tr>\n",
       "    <tr>\n",
       "      <th>22455</th>\n",
       "      <td>62.858365</td>\n",
       "    </tr>\n",
       "    <tr>\n",
       "      <th>92268</th>\n",
       "      <td>63.036077</td>\n",
       "    </tr>\n",
       "    <tr>\n",
       "      <th>40225</th>\n",
       "      <td>61.673229</td>\n",
       "    </tr>\n",
       "    <tr>\n",
       "      <th>107343</th>\n",
       "      <td>64.011981</td>\n",
       "    </tr>\n",
       "    <tr>\n",
       "      <th>119554</th>\n",
       "      <td>60.646172</td>\n",
       "    </tr>\n",
       "    <tr>\n",
       "      <th>40421</th>\n",
       "      <td>63.853660</td>\n",
       "    </tr>\n",
       "    <tr>\n",
       "      <th>...</th>\n",
       "      <td>...</td>\n",
       "    </tr>\n",
       "    <tr>\n",
       "      <th>16500</th>\n",
       "      <td>60.732948</td>\n",
       "    </tr>\n",
       "    <tr>\n",
       "      <th>90383</th>\n",
       "      <td>61.764133</td>\n",
       "    </tr>\n",
       "    <tr>\n",
       "      <th>104818</th>\n",
       "      <td>61.998770</td>\n",
       "    </tr>\n",
       "    <tr>\n",
       "      <th>55189</th>\n",
       "      <td>60.678556</td>\n",
       "    </tr>\n",
       "    <tr>\n",
       "      <th>127678</th>\n",
       "      <td>61.105066</td>\n",
       "    </tr>\n",
       "    <tr>\n",
       "      <th>66144</th>\n",
       "      <td>60.517980</td>\n",
       "    </tr>\n",
       "    <tr>\n",
       "      <th>5923</th>\n",
       "      <td>65.299113</td>\n",
       "    </tr>\n",
       "    <tr>\n",
       "      <th>104760</th>\n",
       "      <td>61.811971</td>\n",
       "    </tr>\n",
       "    <tr>\n",
       "      <th>14579</th>\n",
       "      <td>62.093225</td>\n",
       "    </tr>\n",
       "    <tr>\n",
       "      <th>101846</th>\n",
       "      <td>66.064520</td>\n",
       "    </tr>\n",
       "    <tr>\n",
       "      <th>41171</th>\n",
       "      <td>61.176354</td>\n",
       "    </tr>\n",
       "    <tr>\n",
       "      <th>1135</th>\n",
       "      <td>60.963071</td>\n",
       "    </tr>\n",
       "    <tr>\n",
       "      <th>115279</th>\n",
       "      <td>63.273842</td>\n",
       "    </tr>\n",
       "    <tr>\n",
       "      <th>66470</th>\n",
       "      <td>62.002391</td>\n",
       "    </tr>\n",
       "    <tr>\n",
       "      <th>120030</th>\n",
       "      <td>60.847551</td>\n",
       "    </tr>\n",
       "    <tr>\n",
       "      <th>127454</th>\n",
       "      <td>60.618281</td>\n",
       "    </tr>\n",
       "    <tr>\n",
       "      <th>123995</th>\n",
       "      <td>66.001599</td>\n",
       "    </tr>\n",
       "    <tr>\n",
       "      <th>26124</th>\n",
       "      <td>60.476235</td>\n",
       "    </tr>\n",
       "    <tr>\n",
       "      <th>7380</th>\n",
       "      <td>60.532542</td>\n",
       "    </tr>\n",
       "    <tr>\n",
       "      <th>36041</th>\n",
       "      <td>61.497390</td>\n",
       "    </tr>\n",
       "    <tr>\n",
       "      <th>52514</th>\n",
       "      <td>62.171397</td>\n",
       "    </tr>\n",
       "    <tr>\n",
       "      <th>79992</th>\n",
       "      <td>61.740300</td>\n",
       "    </tr>\n",
       "    <tr>\n",
       "      <th>87070</th>\n",
       "      <td>61.678057</td>\n",
       "    </tr>\n",
       "    <tr>\n",
       "      <th>73995</th>\n",
       "      <td>62.774294</td>\n",
       "    </tr>\n",
       "    <tr>\n",
       "      <th>78848</th>\n",
       "      <td>62.255900</td>\n",
       "    </tr>\n",
       "    <tr>\n",
       "      <th>109752</th>\n",
       "      <td>62.016544</td>\n",
       "    </tr>\n",
       "    <tr>\n",
       "      <th>40435</th>\n",
       "      <td>63.208006</td>\n",
       "    </tr>\n",
       "    <tr>\n",
       "      <th>51923</th>\n",
       "      <td>60.716636</td>\n",
       "    </tr>\n",
       "    <tr>\n",
       "      <th>39809</th>\n",
       "      <td>63.323424</td>\n",
       "    </tr>\n",
       "    <tr>\n",
       "      <th>26657</th>\n",
       "      <td>61.342558</td>\n",
       "    </tr>\n",
       "  </tbody>\n",
       "</table>\n",
       "<p>34828 rows × 1 columns</p>\n",
       "</div>"
      ],
      "text/plain": [
       "                0\n",
       "113856  63.670215\n",
       "78215   59.633871\n",
       "77668   60.440856\n",
       "78516   61.882317\n",
       "18773   61.464658\n",
       "35635   63.550532\n",
       "106006  61.962650\n",
       "120660  60.821555\n",
       "26127   62.186395\n",
       "29727   60.010272\n",
       "124645  62.288496\n",
       "79039   62.840433\n",
       "110006  61.575231\n",
       "71943   61.881393\n",
       "36813   60.707474\n",
       "105991  61.526660\n",
       "46037   62.444339\n",
       "131624  66.991251\n",
       "107762  61.426475\n",
       "19598   60.529813\n",
       "78669   62.309110\n",
       "80485   63.539339\n",
       "69625   62.886153\n",
       "20187   66.037545\n",
       "22455   62.858365\n",
       "92268   63.036077\n",
       "40225   61.673229\n",
       "107343  64.011981\n",
       "119554  60.646172\n",
       "40421   63.853660\n",
       "...           ...\n",
       "16500   60.732948\n",
       "90383   61.764133\n",
       "104818  61.998770\n",
       "55189   60.678556\n",
       "127678  61.105066\n",
       "66144   60.517980\n",
       "5923    65.299113\n",
       "104760  61.811971\n",
       "14579   62.093225\n",
       "101846  66.064520\n",
       "41171   61.176354\n",
       "1135    60.963071\n",
       "115279  63.273842\n",
       "66470   62.002391\n",
       "120030  60.847551\n",
       "127454  60.618281\n",
       "123995  66.001599\n",
       "26124   60.476235\n",
       "7380    60.532542\n",
       "36041   61.497390\n",
       "52514   62.171397\n",
       "79992   61.740300\n",
       "87070   61.678057\n",
       "73995   62.774294\n",
       "78848   62.255900\n",
       "109752  62.016544\n",
       "40435   63.208006\n",
       "51923   60.716636\n",
       "39809   63.323424\n",
       "26657   61.342558\n",
       "\n",
       "[34828 rows x 1 columns]"
      ]
     },
     "execution_count": 75,
     "metadata": {},
     "output_type": "execute_result"
    }
   ],
   "source": [
    "cf_modA.predict_expectation(o50build[['retired','Age_years','SEX','hire_age','SAL1','MERIT1','HAVE_INS','HAVE_DEP']])"
   ]
  },
  {
   "cell_type": "code",
   "execution_count": 185,
   "metadata": {
    "collapsed": false
   },
   "outputs": [
    {
     "data": {
      "text/plain": [
       "<lifelines.CoxPHFitter: fitted with 34828 observations, 22792 censored>"
      ]
     },
     "execution_count": 185,
     "metadata": {},
     "output_type": "execute_result"
    }
   ],
   "source": [
    "cf_modA2 = CoxPHFitter()\n",
    "cf_modA2.fit(o50build[['retired','Age_years','SEX','Tenure_years','SAL1','MERIT1','HAVE_INS','HAVE_DEP']],'Age_years',event_col='retired')"
   ]
  },
  {
   "cell_type": "code",
   "execution_count": 187,
   "metadata": {
    "collapsed": false
   },
   "outputs": [
    {
     "data": {
      "text/html": [
       "<div>\n",
       "<table border=\"1\" class=\"dataframe\">\n",
       "  <thead>\n",
       "    <tr style=\"text-align: right;\">\n",
       "      <th></th>\n",
       "      <th>coef</th>\n",
       "      <th>exp(coef)</th>\n",
       "      <th>se(coef)</th>\n",
       "      <th>z</th>\n",
       "      <th>p</th>\n",
       "      <th>lower 0.95</th>\n",
       "      <th>upper 0.95</th>\n",
       "    </tr>\n",
       "  </thead>\n",
       "  <tbody>\n",
       "    <tr>\n",
       "      <th>SEX</th>\n",
       "      <td>-0.108925</td>\n",
       "      <td>0.896798</td>\n",
       "      <td>0.010583</td>\n",
       "      <td>-10.292705</td>\n",
       "      <td>7.601017e-25</td>\n",
       "      <td>-0.129671</td>\n",
       "      <td>-0.088179</td>\n",
       "    </tr>\n",
       "    <tr>\n",
       "      <th>Tenure_years</th>\n",
       "      <td>0.137737</td>\n",
       "      <td>1.147673</td>\n",
       "      <td>0.008770</td>\n",
       "      <td>15.705921</td>\n",
       "      <td>1.377616e-55</td>\n",
       "      <td>0.120545</td>\n",
       "      <td>0.154929</td>\n",
       "    </tr>\n",
       "    <tr>\n",
       "      <th>SAL1</th>\n",
       "      <td>0.047574</td>\n",
       "      <td>1.048724</td>\n",
       "      <td>0.009345</td>\n",
       "      <td>5.091006</td>\n",
       "      <td>3.561682e-07</td>\n",
       "      <td>0.029254</td>\n",
       "      <td>0.065893</td>\n",
       "    </tr>\n",
       "    <tr>\n",
       "      <th>MERIT1</th>\n",
       "      <td>-0.076740</td>\n",
       "      <td>0.926131</td>\n",
       "      <td>0.007591</td>\n",
       "      <td>-10.109597</td>\n",
       "      <td>5.008995e-24</td>\n",
       "      <td>-0.091621</td>\n",
       "      <td>-0.061859</td>\n",
       "    </tr>\n",
       "    <tr>\n",
       "      <th>HAVE_INS</th>\n",
       "      <td>-0.096487</td>\n",
       "      <td>0.908022</td>\n",
       "      <td>0.011276</td>\n",
       "      <td>-8.556581</td>\n",
       "      <td>1.162642e-17</td>\n",
       "      <td>-0.118593</td>\n",
       "      <td>-0.074381</td>\n",
       "    </tr>\n",
       "    <tr>\n",
       "      <th>HAVE_DEP</th>\n",
       "      <td>0.084767</td>\n",
       "      <td>1.088463</td>\n",
       "      <td>0.011090</td>\n",
       "      <td>7.643436</td>\n",
       "      <td>2.115004e-14</td>\n",
       "      <td>0.063026</td>\n",
       "      <td>0.106508</td>\n",
       "    </tr>\n",
       "  </tbody>\n",
       "</table>\n",
       "</div>"
      ],
      "text/plain": [
       "                  coef  exp(coef)  se(coef)          z             p  \\\n",
       "SEX          -0.108925   0.896798  0.010583 -10.292705  7.601017e-25   \n",
       "Tenure_years  0.137737   1.147673  0.008770  15.705921  1.377616e-55   \n",
       "SAL1          0.047574   1.048724  0.009345   5.091006  3.561682e-07   \n",
       "MERIT1       -0.076740   0.926131  0.007591 -10.109597  5.008995e-24   \n",
       "HAVE_INS     -0.096487   0.908022  0.011276  -8.556581  1.162642e-17   \n",
       "HAVE_DEP      0.084767   1.088463  0.011090   7.643436  2.115004e-14   \n",
       "\n",
       "              lower 0.95  upper 0.95  \n",
       "SEX            -0.129671   -0.088179  \n",
       "Tenure_years    0.120545    0.154929  \n",
       "SAL1            0.029254    0.065893  \n",
       "MERIT1         -0.091621   -0.061859  \n",
       "HAVE_INS       -0.118593   -0.074381  \n",
       "HAVE_DEP        0.063026    0.106508  "
      ]
     },
     "execution_count": 187,
     "metadata": {},
     "output_type": "execute_result"
    }
   ],
   "source": [
    "cf_modA2.summary"
   ]
  },
  {
   "cell_type": "code",
   "execution_count": null,
   "metadata": {
    "collapsed": true
   },
   "outputs": [],
   "source": [
    "concordance_index(self.durations,\n",
    "                                        -self.predict_partial_hazard(self.data).values.ravel(),\n",
    "                                        self.event_observed))"
   ]
  },
  {
   "cell_type": "code",
   "execution_count": 40,
   "metadata": {
    "collapsed": false
   },
   "outputs": [
    {
     "data": {
      "text/plain": [
       "array([ 0.70217538,  2.24861417,  1.52582098, ...,  1.62656307,\n",
       "        0.7263484 ,  1.26909467])"
      ]
     },
     "execution_count": 40,
     "metadata": {},
     "output_type": "execute_result"
    }
   ],
   "source": [
    "cf.predict_partial_hazard(o50build).values.ravel()"
   ]
  },
  {
   "cell_type": "code",
   "execution_count": 53,
   "metadata": {
    "collapsed": false
   },
   "outputs": [
    {
     "data": {
      "text/plain": [
       "0.50206968819783226"
      ]
     },
     "execution_count": 53,
     "metadata": {},
     "output_type": "execute_result"
    }
   ],
   "source": [
    "from lifelines.utils import concordance_index \n",
    "concordance_index(cf.durations.values,cf.predict_expectation(o50build[['retired','Age_years','SEX','HAVE_INS','hire_age']]).values.ravel(),cf.event_observed.astype(int).values )"
   ]
  },
  {
   "cell_type": "code",
   "execution_count": 49,
   "metadata": {
    "collapsed": false
   },
   "outputs": [
    {
     "data": {
      "text/plain": [
       "array([0, 0, 0, ..., 1, 1, 1])"
      ]
     },
     "execution_count": 49,
     "metadata": {},
     "output_type": "execute_result"
    }
   ],
   "source": [
    "cf.event_observed.astype(int).values"
   ]
  },
  {
   "cell_type": "code",
   "execution_count": 58,
   "metadata": {
    "collapsed": false
   },
   "outputs": [
    {
     "data": {
      "text/html": [
       "<div>\n",
       "<table border=\"1\" class=\"dataframe\">\n",
       "  <thead>\n",
       "    <tr style=\"text-align: right;\">\n",
       "      <th></th>\n",
       "      <th>0</th>\n",
       "    </tr>\n",
       "  </thead>\n",
       "  <tbody>\n",
       "    <tr>\n",
       "      <th>113856</th>\n",
       "      <td>63.689903</td>\n",
       "    </tr>\n",
       "    <tr>\n",
       "      <th>78215</th>\n",
       "      <td>59.691828</td>\n",
       "    </tr>\n",
       "    <tr>\n",
       "      <th>77668</th>\n",
       "      <td>60.745581</td>\n",
       "    </tr>\n",
       "    <tr>\n",
       "      <th>78516</th>\n",
       "      <td>61.719523</td>\n",
       "    </tr>\n",
       "    <tr>\n",
       "      <th>18773</th>\n",
       "      <td>61.391227</td>\n",
       "    </tr>\n",
       "  </tbody>\n",
       "</table>\n",
       "</div>"
      ],
      "text/plain": [
       "                0\n",
       "113856  63.689903\n",
       "78215   59.691828\n",
       "77668   60.745581\n",
       "78516   61.719523\n",
       "18773   61.391227"
      ]
     },
     "execution_count": 58,
     "metadata": {},
     "output_type": "execute_result"
    }
   ],
   "source": [
    "expectations = cf.predict_expectation(o50build[['retired','Age_years','SEX','HAVE_INS','hire_age']])\n",
    "expectations.head()"
   ]
  },
  {
   "cell_type": "code",
   "execution_count": 57,
   "metadata": {
    "collapsed": false
   },
   "outputs": [
    {
     "data": {
      "text/plain": [
       "9823     50.206708\n",
       "30383    50.354552\n",
       "42472    50.535250\n",
       "53833    50.866530\n",
       "15494    51.104723\n",
       "27439    51.362081\n",
       "27661    51.592060\n",
       "18385    51.624914\n",
       "24426    51.931554\n",
       "43488    51.969884\n",
       "46548    52.520192\n",
       "49802    52.681725\n",
       "14589    52.884326\n",
       "52843    53.199179\n",
       "62250    53.273101\n",
       "26108    53.423682\n",
       "20521    53.464750\n",
       "30990    53.514031\n",
       "6063     53.670089\n",
       "29719    53.809719\n",
       "40242    54.113621\n",
       "53900    54.924025\n",
       "33865    54.932238\n",
       "23399    54.978782\n",
       "53832    54.997947\n",
       "53233    55.000684\n",
       "51036    55.000684\n",
       "13944    55.000684\n",
       "10032    55.000684\n",
       "49188    55.000684\n",
       "           ...    \n",
       "6801     77.527721\n",
       "45655    77.648186\n",
       "37332    77.730322\n",
       "51117    77.982204\n",
       "18962    78.384668\n",
       "20456    78.767967\n",
       "6992     78.888433\n",
       "6681     78.891170\n",
       "42413    78.893908\n",
       "6        79.080082\n",
       "14       79.189596\n",
       "37333    79.252567\n",
       "18       79.685147\n",
       "16       79.761807\n",
       "24592    80.416153\n",
       "9        80.804928\n",
       "41090    80.887064\n",
       "33835    80.999316\n",
       "36300    81.481177\n",
       "9423     81.705681\n",
       "46384    81.812457\n",
       "4805     82.288843\n",
       "40765    82.343600\n",
       "14877    82.948665\n",
       "4        89.664613\n",
       "1        89.667351\n",
       "0        91.389459\n",
       "5        94.302533\n",
       "43431    95.019849\n",
       "3        98.195756\n",
       "Name: Age_years, dtype: float64"
      ]
     },
     "execution_count": 57,
     "metadata": {},
     "output_type": "execute_result"
    }
   ],
   "source": [
    "cf.durations[cf.event_observed]"
   ]
  },
  {
   "cell_type": "code",
   "execution_count": null,
   "metadata": {
    "collapsed": true
   },
   "outputs": [],
   "source": [
    "#surv_minimal_cols_to_keep = ['Age_years','Tenure_years','SAL1','MERIT1','PERF1','BOX1','SEX','HAVE_INS','HAVE_DEP']"
   ]
  },
  {
   "cell_type": "code",
   "execution_count": 176,
   "metadata": {
    "collapsed": false
   },
   "outputs": [
    {
     "name": "stdout",
     "output_type": "stream",
     "text": [
      "n=34828, number of events=12036\n",
      "\n",
      "               coef  exp(coef)  se(coef)          z         p  lower 0.95  upper 0.95     \n",
      "hire_age -4.004e-01  6.700e-01 9.157e-03 -4.373e+01 0.000e+00  -4.184e-01  -3.825e-01  ***\n",
      "SAL1     -4.233e-02  9.586e-01 1.045e-02 -4.051e+00 5.109e-05  -6.281e-02  -2.184e-02  ***\n",
      "MERIT1   -7.657e-02  9.263e-01 8.356e-03 -9.164e+00 5.018e-20  -9.295e-02  -6.019e-02  ***\n",
      "PERF1     7.019e-03  1.007e+00 1.117e-02  6.284e-01 5.297e-01  -1.488e-02   2.892e-02     \n",
      "BOX1      9.885e-03  1.010e+00 1.116e-02  8.855e-01 3.759e-01  -1.200e-02   3.177e-02     \n",
      "SEX      -7.263e-02  9.299e-01 1.086e-02 -6.687e+00 2.277e-11  -9.392e-02  -5.134e-02  ***\n",
      "HAVE_INS -1.404e-01  8.690e-01 1.135e-02 -1.237e+01 4.010e-35  -1.627e-01  -1.181e-01  ***\n",
      "HAVE_DEP  7.144e-02  1.074e+00 1.109e-02  6.443e+00 1.175e-10   4.970e-02   9.317e-02  ***\n",
      "---\n",
      "Signif. codes:  0 '***' 0.001 '**' 0.01 '*' 0.05 '.' 0.1 ' ' 1 \n",
      "\n",
      "Concordance = 0.640\n"
     ]
    }
   ],
   "source": [
    "retire_surv_cols1 = ['retired','Age_years','hire_age','SAL1','MERIT1','PERF1','BOX1','SEX','HAVE_INS','HAVE_DEP']\n",
    "cf2 = CoxPHFitter()\n",
    "cf2.fit(o50build[retire_surv_cols1], 'Age_years', event_col='retired')\n",
    "\n",
    "cf2.print_summary()"
   ]
  },
  {
   "cell_type": "code",
   "execution_count": 70,
   "metadata": {
    "collapsed": false
   },
   "outputs": [
    {
     "data": {
      "text/html": [
       "<div>\n",
       "<table border=\"1\" class=\"dataframe\">\n",
       "  <thead>\n",
       "    <tr style=\"text-align: right;\">\n",
       "      <th></th>\n",
       "      <th>SEX</th>\n",
       "      <th>hire_age</th>\n",
       "    </tr>\n",
       "  </thead>\n",
       "  <tbody>\n",
       "    <tr>\n",
       "      <th>coef</th>\n",
       "      <td>-0.074769</td>\n",
       "      <td>-0.38012</td>\n",
       "    </tr>\n",
       "  </tbody>\n",
       "</table>\n",
       "</div>"
      ],
      "text/plain": [
       "           SEX  hire_age\n",
       "coef -0.074769  -0.38012"
      ]
     },
     "execution_count": 70,
     "metadata": {},
     "output_type": "execute_result"
    }
   ],
   "source": [
    "cf.hazards_"
   ]
  },
  {
   "cell_type": "code",
   "execution_count": 177,
   "metadata": {
    "collapsed": false
   },
   "outputs": [
    {
     "data": {
      "text/html": [
       "<div>\n",
       "<table border=\"1\" class=\"dataframe\">\n",
       "  <thead>\n",
       "    <tr style=\"text-align: right;\">\n",
       "      <th></th>\n",
       "      <th>hire_age</th>\n",
       "      <th>SAL1</th>\n",
       "      <th>MERIT1</th>\n",
       "      <th>PERF1</th>\n",
       "      <th>BOX1</th>\n",
       "      <th>SEX</th>\n",
       "      <th>HAVE_INS</th>\n",
       "      <th>HAVE_DEP</th>\n",
       "    </tr>\n",
       "  </thead>\n",
       "  <tbody>\n",
       "    <tr>\n",
       "      <th>coef</th>\n",
       "      <td>-0.400404</td>\n",
       "      <td>-0.042327</td>\n",
       "      <td>-0.076573</td>\n",
       "      <td>0.007019</td>\n",
       "      <td>0.009885</td>\n",
       "      <td>-0.07263</td>\n",
       "      <td>-0.140408</td>\n",
       "      <td>0.071437</td>\n",
       "    </tr>\n",
       "  </tbody>\n",
       "</table>\n",
       "</div>"
      ],
      "text/plain": [
       "      hire_age      SAL1    MERIT1     PERF1      BOX1      SEX  HAVE_INS  \\\n",
       "coef -0.400404 -0.042327 -0.076573  0.007019  0.009885 -0.07263 -0.140408   \n",
       "\n",
       "      HAVE_DEP  \n",
       "coef  0.071437  "
      ]
     },
     "execution_count": 177,
     "metadata": {},
     "output_type": "execute_result"
    }
   ],
   "source": [
    "cf2.hazards_"
   ]
  },
  {
   "cell_type": "markdown",
   "metadata": {},
   "source": [
    "## pickle my result"
   ]
  },
  {
   "cell_type": "code",
   "execution_count": 88,
   "metadata": {
    "collapsed": false
   },
   "outputs": [],
   "source": [
    "import pickle\n",
    "pickle.dump( cf_modA, open( \"retirement_sfA.pkl\", \"wb\" ) )"
   ]
  },
  {
   "cell_type": "code",
   "execution_count": 91,
   "metadata": {
    "collapsed": false
   },
   "outputs": [],
   "source": [
    "## now load it\n",
    "ret_model = pickle.load(open('retirement_sfA.pkl','rb'))"
   ]
  },
  {
   "cell_type": "code",
   "execution_count": 92,
   "metadata": {
    "collapsed": false
   },
   "outputs": [
    {
     "data": {
      "text/html": [
       "<div>\n",
       "<table border=\"1\" class=\"dataframe\">\n",
       "  <thead>\n",
       "    <tr style=\"text-align: right;\">\n",
       "      <th></th>\n",
       "      <th>SEX</th>\n",
       "      <th>hire_age</th>\n",
       "      <th>SAL1</th>\n",
       "      <th>MERIT1</th>\n",
       "      <th>HAVE_INS</th>\n",
       "      <th>HAVE_DEP</th>\n",
       "    </tr>\n",
       "  </thead>\n",
       "  <tbody>\n",
       "    <tr>\n",
       "      <th>coef</th>\n",
       "      <td>-0.073902</td>\n",
       "      <td>-0.401999</td>\n",
       "      <td>-0.041061</td>\n",
       "      <td>-0.074516</td>\n",
       "      <td>-0.138952</td>\n",
       "      <td>0.072214</td>\n",
       "    </tr>\n",
       "  </tbody>\n",
       "</table>\n",
       "</div>"
      ],
      "text/plain": [
       "           SEX  hire_age      SAL1    MERIT1  HAVE_INS  HAVE_DEP\n",
       "coef -0.073902 -0.401999 -0.041061 -0.074516 -0.138952  0.072214"
      ]
     },
     "execution_count": 92,
     "metadata": {},
     "output_type": "execute_result"
    }
   ],
   "source": [
    "ret_model.hazards_"
   ]
  },
  {
   "cell_type": "markdown",
   "metadata": {},
   "source": [
    "## predict results for o50eval"
   ]
  },
  {
   "cell_type": "code",
   "execution_count": 84,
   "metadata": {
    "collapsed": false
   },
   "outputs": [
    {
     "data": {
      "text/html": [
       "<div>\n",
       "<table border=\"1\" class=\"dataframe\">\n",
       "  <thead>\n",
       "    <tr style=\"text-align: right;\">\n",
       "      <th></th>\n",
       "      <th>Age_years</th>\n",
       "      <th>retired</th>\n",
       "    </tr>\n",
       "  </thead>\n",
       "  <tbody>\n",
       "    <tr>\n",
       "      <th>9337</th>\n",
       "      <td>55.077344</td>\n",
       "      <td>1</td>\n",
       "    </tr>\n",
       "    <tr>\n",
       "      <th>68349</th>\n",
       "      <td>56.380561</td>\n",
       "      <td>0</td>\n",
       "    </tr>\n",
       "    <tr>\n",
       "      <th>36915</th>\n",
       "      <td>52.068446</td>\n",
       "      <td>0</td>\n",
       "    </tr>\n",
       "    <tr>\n",
       "      <th>79474</th>\n",
       "      <td>51.501711</td>\n",
       "      <td>0</td>\n",
       "    </tr>\n",
       "    <tr>\n",
       "      <th>79226</th>\n",
       "      <td>50.439425</td>\n",
       "      <td>0</td>\n",
       "    </tr>\n",
       "  </tbody>\n",
       "</table>\n",
       "</div>"
      ],
      "text/plain": [
       "       Age_years  retired\n",
       "9337   55.077344        1\n",
       "68349  56.380561        0\n",
       "36915  52.068446        0\n",
       "79474  51.501711        0\n",
       "79226  50.439425        0"
      ]
     },
     "execution_count": 84,
     "metadata": {},
     "output_type": "execute_result"
    }
   ],
   "source": [
    "o50eval[['Age_years','retired']].head()"
   ]
  },
  {
   "cell_type": "code",
   "execution_count": 86,
   "metadata": {
    "collapsed": false
   },
   "outputs": [
    {
     "data": {
      "text/html": [
       "<div>\n",
       "<table border=\"1\" class=\"dataframe\">\n",
       "  <thead>\n",
       "    <tr style=\"text-align: right;\">\n",
       "      <th></th>\n",
       "      <th>9337</th>\n",
       "      <th>68349</th>\n",
       "      <th>36915</th>\n",
       "      <th>79474</th>\n",
       "      <th>79226</th>\n",
       "    </tr>\n",
       "    <tr>\n",
       "      <th>event_at</th>\n",
       "      <th></th>\n",
       "      <th></th>\n",
       "      <th></th>\n",
       "      <th></th>\n",
       "      <th></th>\n",
       "    </tr>\n",
       "  </thead>\n",
       "  <tbody>\n",
       "    <tr>\n",
       "      <th>58.072553</th>\n",
       "      <td>7.585346e-01</td>\n",
       "      <td>0.818153</td>\n",
       "      <td>7.636698e-01</td>\n",
       "      <td>0.815065</td>\n",
       "      <td>0.814911</td>\n",
       "    </tr>\n",
       "    <tr>\n",
       "      <th>58.075291</th>\n",
       "      <td>7.582935e-01</td>\n",
       "      <td>0.817965</td>\n",
       "      <td>7.634331e-01</td>\n",
       "      <td>0.814873</td>\n",
       "      <td>0.814719</td>\n",
       "    </tr>\n",
       "    <tr>\n",
       "      <th>58.078029</th>\n",
       "      <td>7.580524e-01</td>\n",
       "      <td>0.817776</td>\n",
       "      <td>7.631962e-01</td>\n",
       "      <td>0.814681</td>\n",
       "      <td>0.814527</td>\n",
       "    </tr>\n",
       "    <tr>\n",
       "      <th>58.080767</th>\n",
       "      <td>7.578916e-01</td>\n",
       "      <td>0.817650</td>\n",
       "      <td>7.630383e-01</td>\n",
       "      <td>0.814553</td>\n",
       "      <td>0.814399</td>\n",
       "    </tr>\n",
       "    <tr>\n",
       "      <th>58.083504</th>\n",
       "      <td>7.578113e-01</td>\n",
       "      <td>0.817587</td>\n",
       "      <td>7.629594e-01</td>\n",
       "      <td>0.814490</td>\n",
       "      <td>0.814335</td>\n",
       "    </tr>\n",
       "    <tr>\n",
       "      <th>58.086242</th>\n",
       "      <td>7.576505e-01</td>\n",
       "      <td>0.817461</td>\n",
       "      <td>7.628015e-01</td>\n",
       "      <td>0.814362</td>\n",
       "      <td>0.814207</td>\n",
       "    </tr>\n",
       "    <tr>\n",
       "      <th>58.088980</th>\n",
       "      <td>7.575701e-01</td>\n",
       "      <td>0.817398</td>\n",
       "      <td>7.627225e-01</td>\n",
       "      <td>0.814298</td>\n",
       "      <td>0.814143</td>\n",
       "    </tr>\n",
       "    <tr>\n",
       "      <th>58.091718</th>\n",
       "      <td>7.574092e-01</td>\n",
       "      <td>0.817272</td>\n",
       "      <td>7.625645e-01</td>\n",
       "      <td>0.814170</td>\n",
       "      <td>0.814015</td>\n",
       "    </tr>\n",
       "    <tr>\n",
       "      <th>58.094456</th>\n",
       "      <td>7.570876e-01</td>\n",
       "      <td>0.817020</td>\n",
       "      <td>7.622485e-01</td>\n",
       "      <td>0.813914</td>\n",
       "      <td>0.813759</td>\n",
       "    </tr>\n",
       "    <tr>\n",
       "      <th>58.097194</th>\n",
       "      <td>7.570071e-01</td>\n",
       "      <td>0.816957</td>\n",
       "      <td>7.621695e-01</td>\n",
       "      <td>0.813850</td>\n",
       "      <td>0.813695</td>\n",
       "    </tr>\n",
       "    <tr>\n",
       "      <th>58.099932</th>\n",
       "      <td>7.566853e-01</td>\n",
       "      <td>0.816704</td>\n",
       "      <td>7.618534e-01</td>\n",
       "      <td>0.813594</td>\n",
       "      <td>0.813439</td>\n",
       "    </tr>\n",
       "    <tr>\n",
       "      <th>58.102669</th>\n",
       "      <td>7.566853e-01</td>\n",
       "      <td>0.816704</td>\n",
       "      <td>7.618534e-01</td>\n",
       "      <td>0.813594</td>\n",
       "      <td>0.813439</td>\n",
       "    </tr>\n",
       "    <tr>\n",
       "      <th>58.105407</th>\n",
       "      <td>7.564437e-01</td>\n",
       "      <td>0.816515</td>\n",
       "      <td>7.616161e-01</td>\n",
       "      <td>0.813402</td>\n",
       "      <td>0.813247</td>\n",
       "    </tr>\n",
       "    <tr>\n",
       "      <th>58.108145</th>\n",
       "      <td>7.562021e-01</td>\n",
       "      <td>0.816326</td>\n",
       "      <td>7.613788e-01</td>\n",
       "      <td>0.813210</td>\n",
       "      <td>0.813054</td>\n",
       "    </tr>\n",
       "    <tr>\n",
       "      <th>58.110883</th>\n",
       "      <td>7.560411e-01</td>\n",
       "      <td>0.816199</td>\n",
       "      <td>7.612206e-01</td>\n",
       "      <td>0.813081</td>\n",
       "      <td>0.812926</td>\n",
       "    </tr>\n",
       "    <tr>\n",
       "      <th>58.113621</th>\n",
       "      <td>7.557188e-01</td>\n",
       "      <td>0.815947</td>\n",
       "      <td>7.609041e-01</td>\n",
       "      <td>0.812825</td>\n",
       "      <td>0.812670</td>\n",
       "    </tr>\n",
       "    <tr>\n",
       "      <th>58.116359</th>\n",
       "      <td>7.557188e-01</td>\n",
       "      <td>0.815947</td>\n",
       "      <td>7.609041e-01</td>\n",
       "      <td>0.812825</td>\n",
       "      <td>0.812670</td>\n",
       "    </tr>\n",
       "    <tr>\n",
       "      <th>58.119097</th>\n",
       "      <td>7.553964e-01</td>\n",
       "      <td>0.815694</td>\n",
       "      <td>7.605873e-01</td>\n",
       "      <td>0.812568</td>\n",
       "      <td>0.812413</td>\n",
       "    </tr>\n",
       "    <tr>\n",
       "      <th>58.121834</th>\n",
       "      <td>7.551545e-01</td>\n",
       "      <td>0.815504</td>\n",
       "      <td>7.603497e-01</td>\n",
       "      <td>0.812376</td>\n",
       "      <td>0.812220</td>\n",
       "    </tr>\n",
       "    <tr>\n",
       "      <th>58.124572</th>\n",
       "      <td>7.549932e-01</td>\n",
       "      <td>0.815378</td>\n",
       "      <td>7.601913e-01</td>\n",
       "      <td>0.812247</td>\n",
       "      <td>0.812092</td>\n",
       "    </tr>\n",
       "    <tr>\n",
       "      <th>58.127310</th>\n",
       "      <td>7.546707e-01</td>\n",
       "      <td>0.815125</td>\n",
       "      <td>7.598745e-01</td>\n",
       "      <td>0.811991</td>\n",
       "      <td>0.811835</td>\n",
       "    </tr>\n",
       "    <tr>\n",
       "      <th>58.130048</th>\n",
       "      <td>7.545900e-01</td>\n",
       "      <td>0.815061</td>\n",
       "      <td>7.597952e-01</td>\n",
       "      <td>0.811926</td>\n",
       "      <td>0.811770</td>\n",
       "    </tr>\n",
       "    <tr>\n",
       "      <th>58.132786</th>\n",
       "      <td>7.545093e-01</td>\n",
       "      <td>0.814998</td>\n",
       "      <td>7.597160e-01</td>\n",
       "      <td>0.811862</td>\n",
       "      <td>0.811706</td>\n",
       "    </tr>\n",
       "    <tr>\n",
       "      <th>58.135524</th>\n",
       "      <td>7.539445e-01</td>\n",
       "      <td>0.814555</td>\n",
       "      <td>7.591611e-01</td>\n",
       "      <td>0.811412</td>\n",
       "      <td>0.811256</td>\n",
       "    </tr>\n",
       "    <tr>\n",
       "      <th>58.138261</th>\n",
       "      <td>7.537023e-01</td>\n",
       "      <td>0.814365</td>\n",
       "      <td>7.589232e-01</td>\n",
       "      <td>0.811220</td>\n",
       "      <td>0.811063</td>\n",
       "    </tr>\n",
       "    <tr>\n",
       "      <th>58.140999</th>\n",
       "      <td>7.536216e-01</td>\n",
       "      <td>0.814302</td>\n",
       "      <td>7.588439e-01</td>\n",
       "      <td>0.811155</td>\n",
       "      <td>0.810999</td>\n",
       "    </tr>\n",
       "    <tr>\n",
       "      <th>58.143737</th>\n",
       "      <td>7.533794e-01</td>\n",
       "      <td>0.814112</td>\n",
       "      <td>7.586060e-01</td>\n",
       "      <td>0.810962</td>\n",
       "      <td>0.810806</td>\n",
       "    </tr>\n",
       "    <tr>\n",
       "      <th>58.146475</th>\n",
       "      <td>7.533794e-01</td>\n",
       "      <td>0.814112</td>\n",
       "      <td>7.586060e-01</td>\n",
       "      <td>0.810962</td>\n",
       "      <td>0.810806</td>\n",
       "    </tr>\n",
       "    <tr>\n",
       "      <th>58.149213</th>\n",
       "      <td>7.533794e-01</td>\n",
       "      <td>0.814112</td>\n",
       "      <td>7.586060e-01</td>\n",
       "      <td>0.810962</td>\n",
       "      <td>0.810806</td>\n",
       "    </tr>\n",
       "    <tr>\n",
       "      <th>58.151951</th>\n",
       "      <td>7.532178e-01</td>\n",
       "      <td>0.813985</td>\n",
       "      <td>7.584472e-01</td>\n",
       "      <td>0.810834</td>\n",
       "      <td>0.810677</td>\n",
       "    </tr>\n",
       "    <tr>\n",
       "      <th>...</th>\n",
       "      <td>...</td>\n",
       "      <td>...</td>\n",
       "      <td>...</td>\n",
       "      <td>...</td>\n",
       "      <td>...</td>\n",
       "    </tr>\n",
       "    <tr>\n",
       "      <th>78.767967</th>\n",
       "      <td>1.808896e-04</td>\n",
       "      <td>0.001914</td>\n",
       "      <td>2.232461e-04</td>\n",
       "      <td>0.001701</td>\n",
       "      <td>0.001691</td>\n",
       "    </tr>\n",
       "    <tr>\n",
       "      <th>78.888433</th>\n",
       "      <td>1.704798e-04</td>\n",
       "      <td>0.001834</td>\n",
       "      <td>2.107035e-04</td>\n",
       "      <td>0.001628</td>\n",
       "      <td>0.001619</td>\n",
       "    </tr>\n",
       "    <tr>\n",
       "      <th>78.891170</th>\n",
       "      <td>1.603616e-04</td>\n",
       "      <td>0.001754</td>\n",
       "      <td>1.984942e-04</td>\n",
       "      <td>0.001556</td>\n",
       "      <td>0.001547</td>\n",
       "    </tr>\n",
       "    <tr>\n",
       "      <th>78.893908</th>\n",
       "      <td>1.507501e-04</td>\n",
       "      <td>0.001677</td>\n",
       "      <td>1.868790e-04</td>\n",
       "      <td>0.001487</td>\n",
       "      <td>0.001478</td>\n",
       "    </tr>\n",
       "    <tr>\n",
       "      <th>79.080082</th>\n",
       "      <td>1.415679e-04</td>\n",
       "      <td>0.001602</td>\n",
       "      <td>1.757656e-04</td>\n",
       "      <td>0.001419</td>\n",
       "      <td>0.001411</td>\n",
       "    </tr>\n",
       "    <tr>\n",
       "      <th>79.110198</th>\n",
       "      <td>1.415679e-04</td>\n",
       "      <td>0.001602</td>\n",
       "      <td>1.757656e-04</td>\n",
       "      <td>0.001419</td>\n",
       "      <td>0.001411</td>\n",
       "    </tr>\n",
       "    <tr>\n",
       "      <th>79.129363</th>\n",
       "      <td>1.415679e-04</td>\n",
       "      <td>0.001602</td>\n",
       "      <td>1.757656e-04</td>\n",
       "      <td>0.001419</td>\n",
       "      <td>0.001411</td>\n",
       "    </tr>\n",
       "    <tr>\n",
       "      <th>79.189596</th>\n",
       "      <td>1.319699e-04</td>\n",
       "      <td>0.001523</td>\n",
       "      <td>1.641301e-04</td>\n",
       "      <td>0.001347</td>\n",
       "      <td>0.001339</td>\n",
       "    </tr>\n",
       "    <tr>\n",
       "      <th>79.252567</th>\n",
       "      <td>1.223197e-04</td>\n",
       "      <td>0.001441</td>\n",
       "      <td>1.524105e-04</td>\n",
       "      <td>0.001274</td>\n",
       "      <td>0.001266</td>\n",
       "    </tr>\n",
       "    <tr>\n",
       "      <th>79.290897</th>\n",
       "      <td>1.223197e-04</td>\n",
       "      <td>0.001441</td>\n",
       "      <td>1.524105e-04</td>\n",
       "      <td>0.001274</td>\n",
       "      <td>0.001266</td>\n",
       "    </tr>\n",
       "    <tr>\n",
       "      <th>79.685147</th>\n",
       "      <td>1.121458e-04</td>\n",
       "      <td>0.001353</td>\n",
       "      <td>1.400304e-04</td>\n",
       "      <td>0.001194</td>\n",
       "      <td>0.001187</td>\n",
       "    </tr>\n",
       "    <tr>\n",
       "      <th>79.761807</th>\n",
       "      <td>1.021306e-04</td>\n",
       "      <td>0.001264</td>\n",
       "      <td>1.278166e-04</td>\n",
       "      <td>0.001115</td>\n",
       "      <td>0.001108</td>\n",
       "    </tr>\n",
       "    <tr>\n",
       "      <th>80.416153</th>\n",
       "      <td>9.185451e-05</td>\n",
       "      <td>0.001170</td>\n",
       "      <td>1.152540e-04</td>\n",
       "      <td>0.001030</td>\n",
       "      <td>0.001024</td>\n",
       "    </tr>\n",
       "    <tr>\n",
       "      <th>80.804928</th>\n",
       "      <td>8.191432e-05</td>\n",
       "      <td>0.001077</td>\n",
       "      <td>1.030694e-04</td>\n",
       "      <td>0.000947</td>\n",
       "      <td>0.000941</td>\n",
       "    </tr>\n",
       "    <tr>\n",
       "      <th>80.887064</th>\n",
       "      <td>7.194015e-05</td>\n",
       "      <td>0.000980</td>\n",
       "      <td>9.080669e-05</td>\n",
       "      <td>0.000860</td>\n",
       "      <td>0.000854</td>\n",
       "    </tr>\n",
       "    <tr>\n",
       "      <th>80.999316</th>\n",
       "      <td>6.295784e-05</td>\n",
       "      <td>0.000890</td>\n",
       "      <td>7.972792e-05</td>\n",
       "      <td>0.000779</td>\n",
       "      <td>0.000774</td>\n",
       "    </tr>\n",
       "    <tr>\n",
       "      <th>81.481177</th>\n",
       "      <td>5.412804e-05</td>\n",
       "      <td>0.000797</td>\n",
       "      <td>6.879947e-05</td>\n",
       "      <td>0.000697</td>\n",
       "      <td>0.000692</td>\n",
       "    </tr>\n",
       "    <tr>\n",
       "      <th>81.705681</th>\n",
       "      <td>4.539669e-05</td>\n",
       "      <td>0.000701</td>\n",
       "      <td>5.794983e-05</td>\n",
       "      <td>0.000612</td>\n",
       "      <td>0.000608</td>\n",
       "    </tr>\n",
       "    <tr>\n",
       "      <th>81.812457</th>\n",
       "      <td>3.775581e-05</td>\n",
       "      <td>0.000614</td>\n",
       "      <td>4.841343e-05</td>\n",
       "      <td>0.000534</td>\n",
       "      <td>0.000530</td>\n",
       "    </tr>\n",
       "    <tr>\n",
       "      <th>82.288843</th>\n",
       "      <td>3.068616e-05</td>\n",
       "      <td>0.000528</td>\n",
       "      <td>3.954785e-05</td>\n",
       "      <td>0.000458</td>\n",
       "      <td>0.000455</td>\n",
       "    </tr>\n",
       "    <tr>\n",
       "      <th>82.343600</th>\n",
       "      <td>2.472004e-05</td>\n",
       "      <td>0.000451</td>\n",
       "      <td>3.202740e-05</td>\n",
       "      <td>0.000390</td>\n",
       "      <td>0.000387</td>\n",
       "    </tr>\n",
       "    <tr>\n",
       "      <th>82.948665</th>\n",
       "      <td>1.968598e-05</td>\n",
       "      <td>0.000382</td>\n",
       "      <td>2.564743e-05</td>\n",
       "      <td>0.000330</td>\n",
       "      <td>0.000327</td>\n",
       "    </tr>\n",
       "    <tr>\n",
       "      <th>83.041752</th>\n",
       "      <td>1.968598e-05</td>\n",
       "      <td>0.000382</td>\n",
       "      <td>2.564743e-05</td>\n",
       "      <td>0.000330</td>\n",
       "      <td>0.000327</td>\n",
       "    </tr>\n",
       "    <tr>\n",
       "      <th>89.664613</th>\n",
       "      <td>1.503988e-05</td>\n",
       "      <td>0.000314</td>\n",
       "      <td>1.972357e-05</td>\n",
       "      <td>0.000270</td>\n",
       "      <td>0.000268</td>\n",
       "    </tr>\n",
       "    <tr>\n",
       "      <th>89.667351</th>\n",
       "      <td>1.029959e-05</td>\n",
       "      <td>0.000239</td>\n",
       "      <td>1.363249e-05</td>\n",
       "      <td>0.000204</td>\n",
       "      <td>0.000203</td>\n",
       "    </tr>\n",
       "    <tr>\n",
       "      <th>91.389459</th>\n",
       "      <td>6.545162e-06</td>\n",
       "      <td>0.000172</td>\n",
       "      <td>8.759571e-06</td>\n",
       "      <td>0.000146</td>\n",
       "      <td>0.000145</td>\n",
       "    </tr>\n",
       "    <tr>\n",
       "      <th>92.344969</th>\n",
       "      <td>6.545162e-06</td>\n",
       "      <td>0.000172</td>\n",
       "      <td>8.759571e-06</td>\n",
       "      <td>0.000146</td>\n",
       "      <td>0.000145</td>\n",
       "    </tr>\n",
       "    <tr>\n",
       "      <th>94.302533</th>\n",
       "      <td>3.215146e-06</td>\n",
       "      <td>0.000103</td>\n",
       "      <td>4.378246e-06</td>\n",
       "      <td>0.000086</td>\n",
       "      <td>0.000086</td>\n",
       "    </tr>\n",
       "    <tr>\n",
       "      <th>95.019849</th>\n",
       "      <td>8.703157e-07</td>\n",
       "      <td>0.000040</td>\n",
       "      <td>1.223578e-06</td>\n",
       "      <td>0.000033</td>\n",
       "      <td>0.000032</td>\n",
       "    </tr>\n",
       "    <tr>\n",
       "      <th>98.195756</th>\n",
       "      <td>1.543932e-07</td>\n",
       "      <td>0.000011</td>\n",
       "      <td>2.264221e-07</td>\n",
       "      <td>0.000009</td>\n",
       "      <td>0.000009</td>\n",
       "    </tr>\n",
       "  </tbody>\n",
       "</table>\n",
       "<p>3696 rows × 5 columns</p>\n",
       "</div>"
      ],
      "text/plain": [
       "                  9337      68349         36915     79474     79226\n",
       "event_at                                                           \n",
       "58.072553  7.585346e-01  0.818153  7.636698e-01  0.815065  0.814911\n",
       "58.075291  7.582935e-01  0.817965  7.634331e-01  0.814873  0.814719\n",
       "58.078029  7.580524e-01  0.817776  7.631962e-01  0.814681  0.814527\n",
       "58.080767  7.578916e-01  0.817650  7.630383e-01  0.814553  0.814399\n",
       "58.083504  7.578113e-01  0.817587  7.629594e-01  0.814490  0.814335\n",
       "58.086242  7.576505e-01  0.817461  7.628015e-01  0.814362  0.814207\n",
       "58.088980  7.575701e-01  0.817398  7.627225e-01  0.814298  0.814143\n",
       "58.091718  7.574092e-01  0.817272  7.625645e-01  0.814170  0.814015\n",
       "58.094456  7.570876e-01  0.817020  7.622485e-01  0.813914  0.813759\n",
       "58.097194  7.570071e-01  0.816957  7.621695e-01  0.813850  0.813695\n",
       "58.099932  7.566853e-01  0.816704  7.618534e-01  0.813594  0.813439\n",
       "58.102669  7.566853e-01  0.816704  7.618534e-01  0.813594  0.813439\n",
       "58.105407  7.564437e-01  0.816515  7.616161e-01  0.813402  0.813247\n",
       "58.108145  7.562021e-01  0.816326  7.613788e-01  0.813210  0.813054\n",
       "58.110883  7.560411e-01  0.816199  7.612206e-01  0.813081  0.812926\n",
       "58.113621  7.557188e-01  0.815947  7.609041e-01  0.812825  0.812670\n",
       "58.116359  7.557188e-01  0.815947  7.609041e-01  0.812825  0.812670\n",
       "58.119097  7.553964e-01  0.815694  7.605873e-01  0.812568  0.812413\n",
       "58.121834  7.551545e-01  0.815504  7.603497e-01  0.812376  0.812220\n",
       "58.124572  7.549932e-01  0.815378  7.601913e-01  0.812247  0.812092\n",
       "58.127310  7.546707e-01  0.815125  7.598745e-01  0.811991  0.811835\n",
       "58.130048  7.545900e-01  0.815061  7.597952e-01  0.811926  0.811770\n",
       "58.132786  7.545093e-01  0.814998  7.597160e-01  0.811862  0.811706\n",
       "58.135524  7.539445e-01  0.814555  7.591611e-01  0.811412  0.811256\n",
       "58.138261  7.537023e-01  0.814365  7.589232e-01  0.811220  0.811063\n",
       "58.140999  7.536216e-01  0.814302  7.588439e-01  0.811155  0.810999\n",
       "58.143737  7.533794e-01  0.814112  7.586060e-01  0.810962  0.810806\n",
       "58.146475  7.533794e-01  0.814112  7.586060e-01  0.810962  0.810806\n",
       "58.149213  7.533794e-01  0.814112  7.586060e-01  0.810962  0.810806\n",
       "58.151951  7.532178e-01  0.813985  7.584472e-01  0.810834  0.810677\n",
       "...                 ...       ...           ...       ...       ...\n",
       "78.767967  1.808896e-04  0.001914  2.232461e-04  0.001701  0.001691\n",
       "78.888433  1.704798e-04  0.001834  2.107035e-04  0.001628  0.001619\n",
       "78.891170  1.603616e-04  0.001754  1.984942e-04  0.001556  0.001547\n",
       "78.893908  1.507501e-04  0.001677  1.868790e-04  0.001487  0.001478\n",
       "79.080082  1.415679e-04  0.001602  1.757656e-04  0.001419  0.001411\n",
       "79.110198  1.415679e-04  0.001602  1.757656e-04  0.001419  0.001411\n",
       "79.129363  1.415679e-04  0.001602  1.757656e-04  0.001419  0.001411\n",
       "79.189596  1.319699e-04  0.001523  1.641301e-04  0.001347  0.001339\n",
       "79.252567  1.223197e-04  0.001441  1.524105e-04  0.001274  0.001266\n",
       "79.290897  1.223197e-04  0.001441  1.524105e-04  0.001274  0.001266\n",
       "79.685147  1.121458e-04  0.001353  1.400304e-04  0.001194  0.001187\n",
       "79.761807  1.021306e-04  0.001264  1.278166e-04  0.001115  0.001108\n",
       "80.416153  9.185451e-05  0.001170  1.152540e-04  0.001030  0.001024\n",
       "80.804928  8.191432e-05  0.001077  1.030694e-04  0.000947  0.000941\n",
       "80.887064  7.194015e-05  0.000980  9.080669e-05  0.000860  0.000854\n",
       "80.999316  6.295784e-05  0.000890  7.972792e-05  0.000779  0.000774\n",
       "81.481177  5.412804e-05  0.000797  6.879947e-05  0.000697  0.000692\n",
       "81.705681  4.539669e-05  0.000701  5.794983e-05  0.000612  0.000608\n",
       "81.812457  3.775581e-05  0.000614  4.841343e-05  0.000534  0.000530\n",
       "82.288843  3.068616e-05  0.000528  3.954785e-05  0.000458  0.000455\n",
       "82.343600  2.472004e-05  0.000451  3.202740e-05  0.000390  0.000387\n",
       "82.948665  1.968598e-05  0.000382  2.564743e-05  0.000330  0.000327\n",
       "83.041752  1.968598e-05  0.000382  2.564743e-05  0.000330  0.000327\n",
       "89.664613  1.503988e-05  0.000314  1.972357e-05  0.000270  0.000268\n",
       "89.667351  1.029959e-05  0.000239  1.363249e-05  0.000204  0.000203\n",
       "91.389459  6.545162e-06  0.000172  8.759571e-06  0.000146  0.000145\n",
       "92.344969  6.545162e-06  0.000172  8.759571e-06  0.000146  0.000145\n",
       "94.302533  3.215146e-06  0.000103  4.378246e-06  0.000086  0.000086\n",
       "95.019849  8.703157e-07  0.000040  1.223578e-06  0.000033  0.000032\n",
       "98.195756  1.543932e-07  0.000011  2.264221e-07  0.000009  0.000009\n",
       "\n",
       "[3696 rows x 5 columns]"
      ]
     },
     "execution_count": 86,
     "metadata": {},
     "output_type": "execute_result"
    }
   ],
   "source": [
    "cf_modA.predict_survival_function(o50eval.head()).ix[58.07:]"
   ]
  },
  {
   "cell_type": "code",
   "execution_count": 72,
   "metadata": {
    "collapsed": false
   },
   "outputs": [
    {
     "data": {
      "text/html": [
       "<div>\n",
       "<table border=\"1\" class=\"dataframe\">\n",
       "  <thead>\n",
       "    <tr style=\"text-align: right;\">\n",
       "      <th></th>\n",
       "      <th>years</th>\n",
       "      <th>0</th>\n",
       "      <th>1</th>\n",
       "      <th>2</th>\n",
       "      <th>3</th>\n",
       "      <th>4</th>\n",
       "      <th>5</th>\n",
       "      <th>6</th>\n",
       "      <th>7</th>\n",
       "      <th>8</th>\n",
       "      <th>...</th>\n",
       "      <th>8698</th>\n",
       "      <th>8699</th>\n",
       "      <th>8700</th>\n",
       "      <th>8701</th>\n",
       "      <th>8702</th>\n",
       "      <th>8703</th>\n",
       "      <th>8704</th>\n",
       "      <th>8705</th>\n",
       "      <th>8706</th>\n",
       "      <th>8707</th>\n",
       "    </tr>\n",
       "  </thead>\n",
       "  <tbody>\n",
       "    <tr>\n",
       "      <th>0</th>\n",
       "      <td>0.000000</td>\n",
       "      <td>1</td>\n",
       "      <td>1</td>\n",
       "      <td>1</td>\n",
       "      <td>1</td>\n",
       "      <td>1</td>\n",
       "      <td>1</td>\n",
       "      <td>1</td>\n",
       "      <td>1</td>\n",
       "      <td>1</td>\n",
       "      <td>...</td>\n",
       "      <td>1</td>\n",
       "      <td>1</td>\n",
       "      <td>1</td>\n",
       "      <td>1</td>\n",
       "      <td>1</td>\n",
       "      <td>1</td>\n",
       "      <td>1</td>\n",
       "      <td>1</td>\n",
       "      <td>1</td>\n",
       "      <td>1</td>\n",
       "    </tr>\n",
       "    <tr>\n",
       "      <th>1</th>\n",
       "      <td>50.001369</td>\n",
       "      <td>1</td>\n",
       "      <td>1</td>\n",
       "      <td>1</td>\n",
       "      <td>1</td>\n",
       "      <td>1</td>\n",
       "      <td>1</td>\n",
       "      <td>1</td>\n",
       "      <td>1</td>\n",
       "      <td>1</td>\n",
       "      <td>...</td>\n",
       "      <td>1</td>\n",
       "      <td>1</td>\n",
       "      <td>1</td>\n",
       "      <td>1</td>\n",
       "      <td>1</td>\n",
       "      <td>1</td>\n",
       "      <td>1</td>\n",
       "      <td>1</td>\n",
       "      <td>1</td>\n",
       "      <td>1</td>\n",
       "    </tr>\n",
       "    <tr>\n",
       "      <th>2</th>\n",
       "      <td>50.004107</td>\n",
       "      <td>1</td>\n",
       "      <td>1</td>\n",
       "      <td>1</td>\n",
       "      <td>1</td>\n",
       "      <td>1</td>\n",
       "      <td>1</td>\n",
       "      <td>1</td>\n",
       "      <td>1</td>\n",
       "      <td>1</td>\n",
       "      <td>...</td>\n",
       "      <td>1</td>\n",
       "      <td>1</td>\n",
       "      <td>1</td>\n",
       "      <td>1</td>\n",
       "      <td>1</td>\n",
       "      <td>1</td>\n",
       "      <td>1</td>\n",
       "      <td>1</td>\n",
       "      <td>1</td>\n",
       "      <td>1</td>\n",
       "    </tr>\n",
       "    <tr>\n",
       "      <th>3</th>\n",
       "      <td>50.006845</td>\n",
       "      <td>1</td>\n",
       "      <td>1</td>\n",
       "      <td>1</td>\n",
       "      <td>1</td>\n",
       "      <td>1</td>\n",
       "      <td>1</td>\n",
       "      <td>1</td>\n",
       "      <td>1</td>\n",
       "      <td>1</td>\n",
       "      <td>...</td>\n",
       "      <td>1</td>\n",
       "      <td>1</td>\n",
       "      <td>1</td>\n",
       "      <td>1</td>\n",
       "      <td>1</td>\n",
       "      <td>1</td>\n",
       "      <td>1</td>\n",
       "      <td>1</td>\n",
       "      <td>1</td>\n",
       "      <td>1</td>\n",
       "    </tr>\n",
       "    <tr>\n",
       "      <th>4</th>\n",
       "      <td>50.009582</td>\n",
       "      <td>1</td>\n",
       "      <td>1</td>\n",
       "      <td>1</td>\n",
       "      <td>1</td>\n",
       "      <td>1</td>\n",
       "      <td>1</td>\n",
       "      <td>1</td>\n",
       "      <td>1</td>\n",
       "      <td>1</td>\n",
       "      <td>...</td>\n",
       "      <td>1</td>\n",
       "      <td>1</td>\n",
       "      <td>1</td>\n",
       "      <td>1</td>\n",
       "      <td>1</td>\n",
       "      <td>1</td>\n",
       "      <td>1</td>\n",
       "      <td>1</td>\n",
       "      <td>1</td>\n",
       "      <td>1</td>\n",
       "    </tr>\n",
       "  </tbody>\n",
       "</table>\n",
       "<p>5 rows × 8709 columns</p>\n",
       "</div>"
      ],
      "text/plain": [
       "       years  0  1  2  3  4  5  6  7  8  ...   8698  8699  8700  8701  8702  \\\n",
       "0   0.000000  1  1  1  1  1  1  1  1  1  ...      1     1     1     1     1   \n",
       "1  50.001369  1  1  1  1  1  1  1  1  1  ...      1     1     1     1     1   \n",
       "2  50.004107  1  1  1  1  1  1  1  1  1  ...      1     1     1     1     1   \n",
       "3  50.006845  1  1  1  1  1  1  1  1  1  ...      1     1     1     1     1   \n",
       "4  50.009582  1  1  1  1  1  1  1  1  1  ...      1     1     1     1     1   \n",
       "\n",
       "   8703  8704  8705  8706  8707  \n",
       "0     1     1     1     1     1  \n",
       "1     1     1     1     1     1  \n",
       "2     1     1     1     1     1  \n",
       "3     1     1     1     1     1  \n",
       "4     1     1     1     1     1  \n",
       "\n",
       "[5 rows x 8709 columns]"
      ]
     },
     "execution_count": 72,
     "metadata": {},
     "output_type": "execute_result"
    }
   ],
   "source": [
    "cf2_pred = cf2.predict_survival_function(o50eval[retire_surv_cols1[2:]].values)\n",
    "cf2_pred.index.name='years'\n",
    "cf2_pred.reset_index(inplace=True)\n",
    "cf2_pred.head()"
   ]
  },
  {
   "cell_type": "markdown",
   "metadata": {},
   "source": [
    "## dec 17, 2015\n",
    "replace hire_age with Tenure_years"
   ]
  },
  {
   "cell_type": "code",
   "execution_count": 188,
   "metadata": {
    "collapsed": false
   },
   "outputs": [
    {
     "name": "stdout",
     "output_type": "stream",
     "text": [
      "n=34828, number of events=12036\n",
      "\n",
      "                   coef  exp(coef)  se(coef)          z         p  lower 0.95  upper 0.95     \n",
      "Tenure_years  1.301e-01  1.139e+00 8.871e-03  1.467e+01 1.016e-48   1.127e-01   1.475e-01  ***\n",
      "SAL1          4.112e-02  1.042e+00 9.696e-03  4.241e+00 2.228e-05   2.211e-02   6.012e-02  ***\n",
      "MERIT1       -8.619e-02  9.174e-01 7.356e-03 -1.172e+01 1.043e-31  -1.006e-01  -7.177e-02  ***\n",
      "PERF1         4.712e-02  1.048e+00 8.894e-03  5.298e+00 1.170e-07   2.969e-02   6.456e-02  ***\n",
      "BOX1          2.355e-02  1.024e+00 1.065e-02  2.211e+00 2.701e-02   2.673e-03   4.442e-02    *\n",
      "SEX          -1.072e-01  8.984e-01 1.070e-02 -1.002e+01 1.252e-23  -1.282e-01  -8.622e-02  ***\n",
      "HAVE_INS     -1.021e-01  9.029e-01 1.133e-02 -9.012e+00 2.020e-19  -1.243e-01  -7.990e-02  ***\n",
      "HAVE_DEP      8.121e-02  1.085e+00 1.111e-02  7.312e+00 2.626e-13   5.944e-02   1.030e-01  ***\n",
      "---\n",
      "Signif. codes:  0 '***' 0.001 '**' 0.01 '*' 0.05 '.' 0.1 ' ' 1 \n",
      "\n",
      "Concordance = 0.569\n"
     ]
    }
   ],
   "source": [
    "retire_surv_cols1 = ['retired','Age_years','Tenure_years','SAL1','MERIT1','PERF1','BOX1','SEX','HAVE_INS','HAVE_DEP']\n",
    "cf3 = CoxPHFitter()\n",
    "cf3.fit(o50build[retire_surv_cols1], 'Age_years', event_col='retired')\n",
    "\n",
    "cf3.print_summary()"
   ]
  },
  {
   "cell_type": "code",
   "execution_count": 189,
   "metadata": {
    "collapsed": false
   },
   "outputs": [
    {
     "name": "stdout",
     "output_type": "stream",
     "text": [
      "n=34828, number of events=12036\n",
      "\n",
      "               coef  exp(coef)  se(coef)          z         p  lower 0.95  upper 0.95     \n",
      "hire_age -4.004e-01  6.700e-01 9.157e-03 -4.373e+01 0.000e+00  -4.184e-01  -3.825e-01  ***\n",
      "SAL1     -4.233e-02  9.586e-01 1.045e-02 -4.051e+00 5.109e-05  -6.281e-02  -2.184e-02  ***\n",
      "MERIT1   -7.657e-02  9.263e-01 8.356e-03 -9.164e+00 5.018e-20  -9.295e-02  -6.019e-02  ***\n",
      "PERF1     7.019e-03  1.007e+00 1.117e-02  6.284e-01 5.297e-01  -1.488e-02   2.892e-02     \n",
      "BOX1      9.885e-03  1.010e+00 1.116e-02  8.855e-01 3.759e-01  -1.200e-02   3.177e-02     \n",
      "SEX      -7.263e-02  9.299e-01 1.086e-02 -6.687e+00 2.277e-11  -9.392e-02  -5.134e-02  ***\n",
      "HAVE_INS -1.404e-01  8.690e-01 1.135e-02 -1.237e+01 4.010e-35  -1.627e-01  -1.181e-01  ***\n",
      "HAVE_DEP  7.144e-02  1.074e+00 1.109e-02  6.443e+00 1.175e-10   4.970e-02   9.317e-02  ***\n",
      "---\n",
      "Signif. codes:  0 '***' 0.001 '**' 0.01 '*' 0.05 '.' 0.1 ' ' 1 \n",
      "\n",
      "Concordance = 0.640\n"
     ]
    }
   ],
   "source": [
    "cf2.print_summary()"
   ]
  },
  {
   "cell_type": "code",
   "execution_count": null,
   "metadata": {
    "collapsed": false
   },
   "outputs": [],
   "source": [
    "import scipy.interpolate\n",
    "def survival_predictions(edf,psf = cf_pred):\n",
    "    for employee_id,age in enumerate(ages):\n",
    "        prior_idx = np.where(psf.years<age+1.0)\n",
    "        posterior_idx = np.where(psf.years>age+1.0)\n",
    "        x= [psf.ix[prior_idx]['years'], psf.ix[posterior_idx]['years']]\n",
    "        y= [psf.ix[prior_idx][employee_id],psf.ix[posterior_idx][employee_id]]\n",
    "        print x,y, employee_id, age\n",
    "    ## now interpolate these\n",
    "        y_interp = scipy.interpolateinterp1d(x,y)\n",
    "        print y_interp\n",
    "    return y_interp\n",
    "    "
   ]
  },
  {
   "cell_type": "code",
   "execution_count": null,
   "metadata": {
    "collapsed": false
   },
   "outputs": [],
   "source": [
    "def get_survival_prediction(edf,psf=cf_pred, age_col='Age_years',yr_vals=[1,2,3,4,5]):\n",
    "    \n",
    "    pred_col_names = ['proba_'+str(y) for y in yr_vals]\n",
    "    df = pd.DataFrame(index=edf.index,columns=pred_col_names,dtype=float)\n",
    "    print pred_col_names\n",
    "    for employee_id,age in enumerate(edf['Age_years']):\n",
    "        if employee_id % 1000 ==0 :\n",
    "            print employee_id, age\n",
    "            \n",
    "        prob_vals =np.ones((len(yr_vals),))\n",
    "        #print prob_vals,\"\\n\"\n",
    "        \n",
    "        for idx,year in enumerate(yr_vals):\n",
    "            ck_yr = age+year\n",
    "            #if ck_yr in psf.years:\n",
    "            #    proba = psf[psf.years==ck_yr][employee_id]\n",
    "            #else:\n",
    "            #proba=np.nan\n",
    "            \n",
    "            try:\n",
    "                prior_idx = np.where(psf.years < ck_yr)[0][-1]\n",
    "                posterior_idx = np.where(psf.years > ck_yr)[0][0]\n",
    "                x= [psf.ix[prior_idx]['years'], psf.ix[posterior_idx]['years']]\n",
    "                y= [psf.ix[prior_idx][employee_id],psf.ix[posterior_idx][employee_id]]\n",
    "                #print x,y, year\n",
    "                ## now interpolate these\n",
    "                y_interp = scipy.interpolate.interp1d(x,y)\n",
    "                proba = y_interp(ck_yr)\n",
    "            except IndexError:\n",
    "                proba = psf.ix[np.where(psf.years == ck_yr)[0]][employee_id]\n",
    "            #print proba\n",
    "            \n",
    "            try:\n",
    "                prob_vals[idx] = proba\n",
    "                #print employee_id,age,ck_yr,proba, prob_vals[idx]\n",
    "            except ValueError: # case when age not found because too young\n",
    "                #lse:\n",
    "                pass #print idx, prob_vals[idx]\n",
    "                # just leave it as the default value of 1\n",
    "                    \n",
    "            #prob_vals[id]=1-proba    \n",
    "            #if len(yr_vals)>1:\n",
    "            #    empl_list.append(1-proba)# get prob of retirement\n",
    "            #else:\n",
    "            #    empl_list = 1-proba\n",
    "        #try:\n",
    "        df.loc[edf.index[employee_id]]=prob_vals\n",
    "        #except ValueError: # case when not found (because too young)\n",
    "        #    df.loc[edf.index[employee_id]]=0.0 # zero probability\n",
    "            #print employee_id, edf.index[employee_id]\n",
    "    df.fillna(0.0,inplace=True) # fillin missing values with zero\n",
    "    df[df<0] = 0.0 #replace negative probabilities with zero\n",
    "    #df.replace()\n",
    "    return df\n"
   ]
  },
  {
   "cell_type": "code",
   "execution_count": null,
   "metadata": {
    "collapsed": false
   },
   "outputs": [],
   "source": [
    "cfRetProb = get_survival_prediction(o50eval,psf=cf_pred)"
   ]
  },
  {
   "cell_type": "code",
   "execution_count": null,
   "metadata": {
    "collapsed": false
   },
   "outputs": [],
   "source": [
    "#pred_o50eval=pd.concat([o50eval[retire_surv_cols1[:2]],retireProb_df],axis=1)\n",
    "pred_o50eval_cf = pd.concat([o50eval[retire_surv_cols1[:2]],cfRetProb],axis=1)"
   ]
  },
  {
   "cell_type": "code",
   "execution_count": null,
   "metadata": {
    "collapsed": false
   },
   "outputs": [],
   "source": [
    "pred_o50eval_cf.head()"
   ]
  },
  {
   "cell_type": "markdown",
   "metadata": {},
   "source": [
    "### assess the prob_retired at current age for eval set"
   ]
  },
  {
   "cell_type": "code",
   "execution_count": null,
   "metadata": {
    "collapsed": false
   },
   "outputs": [],
   "source": [
    "curr_retire_age = get_survival_prediction(o50eval,yr_vals=[0])\n",
    "o50eval_curr = pd.concat([o50eval[retire_surv_cols1[:2]],curr_retire_age],axis=1)"
   ]
  },
  {
   "cell_type": "code",
   "execution_count": null,
   "metadata": {
    "collapsed": false
   },
   "outputs": [],
   "source": [
    "o50eval_curr.head() #proba is the probability of 'survival' so I want 1-proba for probability to retire"
   ]
  },
  {
   "cell_type": "code",
   "execution_count": null,
   "metadata": {
    "collapsed": true
   },
   "outputs": [],
   "source": [
    "def get_accuracy(df,true_col = 'retired', p_col = 'proba_0',thresh=0.5,verbose=False):\n",
    "    ckdf = (df[p_col]<=thresh).astype('int')\n",
    "    true_pos = df[ckdf==1][true_col].sum()\n",
    "    false_pos= len(df[ckdf==1])-true_pos\n",
    "    \n",
    "    false_neg=df[ckdf==0][true_col].sum()\n",
    "    true_neg =len(df[ckdf==0]) - false_neg\n",
    "    if verbose:\n",
    "        print \"threshold = {0}\".format(thresh)\n",
    "        print \"TP\\t FP\\t FN\\t TN\"\n",
    "        print true_pos, '\\t',false_pos,'\\t' ,false_neg,'\\t', true_neg\n",
    "    \n",
    "    acc = (true_pos + true_neg)/float(len(df))\n",
    "    \n",
    "    mcc = (true_pos*true_neg - false_pos*false_neg)/np.sqrt((true_pos+false_pos)*(true_pos+false_neg)*(true_neg+false_pos)*(true_neg+false_neg))\n",
    "    if verbose:\n",
    "        print \"Accuracy is {0:.3f}\".format(acc)\n",
    "        print \"Matthews correlation coefficient is {0:.3f}\".format(mcc)\n",
    "    tpr = true_pos/float(true_pos+false_neg)\n",
    "    fpr = false_pos/float(false_pos + true_neg)\n",
    "    return tpr,fpr,acc,mcc"
   ]
  },
  {
   "cell_type": "code",
   "execution_count": null,
   "metadata": {
    "collapsed": false
   },
   "outputs": [],
   "source": [
    "from sklearn import metrics\n",
    "metrics.roc_auc_score(o50eval_curr.retired.values,1-o50eval_curr.proba_0.values)"
   ]
  },
  {
   "cell_type": "code",
   "execution_count": null,
   "metadata": {
    "collapsed": false
   },
   "outputs": [],
   "source": [
    "roc_vals = []\n",
    "tvals = np.linspace(0,1,21)#,0.05)#:#xrange(0,1,0.05):\n",
    "for t in tvals:\n",
    "    roc_vals.append(get_accuracy(o50eval_curr,thresh=t))\n",
    "\n",
    "    \n",
    "roc_vals = np.array(roc_vals)"
   ]
  },
  {
   "cell_type": "code",
   "execution_count": null,
   "metadata": {
    "collapsed": false
   },
   "outputs": [],
   "source": [
    "roc_vals = np.array(roc_vals)\n",
    "plt.plot(roc_vals[:,1],roc_vals[:,0])\n",
    "plt.plot(tvals,tvals,color='k',ls='--')\n",
    "plt.xlabel('FPR')\n",
    "plt.ylabel('TPR')"
   ]
  },
  {
   "cell_type": "markdown",
   "metadata": {},
   "source": [
    "# Repeat for Separation\n",
    "* use all employees -- split into test & training"
   ]
  },
  {
   "cell_type": "code",
   "execution_count": null,
   "metadata": {
    "collapsed": false
   },
   "outputs": [],
   "source": [
    "# repeat the split\n",
    "\n",
    "# break into evaluation and build sets\n",
    "print \"Starting with subset of {0} employees.\".format(len(over50))\n",
    "eval_fraction = 0.20\n",
    "e2build, e2eval = cross_validation.train_test_split(em2002,test_size=eval_fraction,random_state = 88843)\n",
    "print \"Evaluation set has {0} employees; training set has {1} employees.\".format(len(e2eval),len(e2build))"
   ]
  },
  {
   "cell_type": "code",
   "execution_count": null,
   "metadata": {
    "collapsed": false
   },
   "outputs": [],
   "source": [
    "sep_surv_cols1=['former','Tenure_years','Age_years','SAL1','MERIT1','PERF1','BOX1','SEX','HAVE_INS','HAVE_DEP']\n",
    "#'SEX','FTE','HAVE_INS','HAVE_DEP','SAL1']"
   ]
  },
  {
   "cell_type": "code",
   "execution_count": null,
   "metadata": {
    "collapsed": false
   },
   "outputs": [],
   "source": [
    "sepCF = CoxPHFitter()\n",
    "sepCF.fit(e2build[sep_surv_cols1], 'Tenure_years', event_col='former')\n",
    "\n",
    "sepCF.print_summary()\n",
    "\n"
   ]
  },
  {
   "cell_type": "code",
   "execution_count": null,
   "metadata": {
    "collapsed": false
   },
   "outputs": [],
   "source": [
    "sepCF.hazards_"
   ]
  },
  {
   "cell_type": "code",
   "execution_count": null,
   "metadata": {
    "collapsed": false
   },
   "outputs": [],
   "source": [
    "sepcf_pred = sepCF.predict_survival_function(e2eval[sep_surv_cols1[2:]].values)\n",
    "sepcf_pred.index.name='years'\n",
    "sepcf_pred.reset_index(inplace=True)\n",
    "sepcf_pred.head()"
   ]
  },
  {
   "cell_type": "code",
   "execution_count": null,
   "metadata": {
    "collapsed": false
   },
   "outputs": [],
   "source": [
    "plt.plot(sepcf_pred.years, sepcf_pred[0])"
   ]
  },
  {
   "cell_type": "code",
   "execution_count": null,
   "metadata": {
    "collapsed": false
   },
   "outputs": [],
   "source": [
    "cfSepProb = get_survival_prediction(e2eval,psf=sepcf_pred)"
   ]
  },
  {
   "cell_type": "code",
   "execution_count": null,
   "metadata": {
    "collapsed": false
   },
   "outputs": [],
   "source": [
    "cfSepProb.head()"
   ]
  },
  {
   "cell_type": "markdown",
   "metadata": {},
   "source": [
    "## assess the current Sep probability"
   ]
  },
  {
   "cell_type": "code",
   "execution_count": null,
   "metadata": {
    "collapsed": false
   },
   "outputs": [],
   "source": [
    "curryear_sep_pred = get_survival_prediction(e2eval,yr_vals=[0],psf=sepcf_pred)\n"
   ]
  },
  {
   "cell_type": "code",
   "execution_count": null,
   "metadata": {
    "collapsed": false
   },
   "outputs": [],
   "source": [
    "e2eval_sepNow = pd.concat([e2eval[sep_surv_cols1[:2]],curryear_sep_pred],axis=1)"
   ]
  },
  {
   "cell_type": "code",
   "execution_count": null,
   "metadata": {
    "collapsed": false
   },
   "outputs": [],
   "source": [
    "e2eval_sepNow.head()"
   ]
  },
  {
   "cell_type": "code",
   "execution_count": null,
   "metadata": {
    "collapsed": false
   },
   "outputs": [],
   "source": [
    "metrics.roc_auc_score(e2eval_sepNow.former.values,1-e2eval_sepNow.proba_0.values)"
   ]
  },
  {
   "cell_type": "code",
   "execution_count": null,
   "metadata": {
    "collapsed": false
   },
   "outputs": [],
   "source": [
    "sep_roc_vals = []\n",
    "tvals = np.linspace(0,1,41)#,0.05)#:#xrange(0,1,0.05):\n",
    "for t in tvals:\n",
    "    sep_roc_vals.append(get_accuracy(e2eval_sepNow,thresh=t,true_col='former'))\n",
    "\n",
    "    \n",
    "sep_roc_vals = np.array(sep_roc_vals)"
   ]
  },
  {
   "cell_type": "code",
   "execution_count": null,
   "metadata": {
    "collapsed": false
   },
   "outputs": [],
   "source": [
    "plt.plot(sep_roc_vals[:,1],sep_roc_vals[:,0])\n",
    "plt.plot(tvals,tvals,color='k',ls='--')\n",
    "plt.xlabel('FPR')\n",
    "plt.ylabel('TPR')\n",
    "plt.title('Separation ROC curve; current values e2eval')"
   ]
  },
  {
   "cell_type": "markdown",
   "metadata": {},
   "source": [
    "## Examine the retirement Rates for current employees"
   ]
  },
  {
   "cell_type": "code",
   "execution_count": null,
   "metadata": {
    "collapsed": false
   },
   "outputs": [],
   "source": [
    "current = em2002[em2002.status==0].copy() \n",
    "np.shape(current)\n"
   ]
  },
  {
   "cell_type": "markdown",
   "metadata": {},
   "source": [
    "### apply retirement and separation for next 5 years to this set"
   ]
  },
  {
   "cell_type": "code",
   "execution_count": null,
   "metadata": {
    "collapsed": false
   },
   "outputs": [],
   "source": [
    "current_retcf_pred = cf.predict_survival_function(current[retire_surv_cols1[2:]].values)\n",
    "current_retcf_pred.index.name='years'\n",
    "current_retcf_pred.reset_index(inplace=True)\n",
    "current_retcf_pred.head()\n",
    "currentcfRetProb = get_survival_prediction(current,psf=current_retcf_pred)\n",
    "#current_sepcf_pred = sepCF.predict_survival_function(current[sep_surv_cols1[2:]].values)"
   ]
  },
  {
   "cell_type": "code",
   "execution_count": null,
   "metadata": {
    "collapsed": true
   },
   "outputs": [],
   "source": [
    "ret_fiveyrDF = pd.concat([current[retire_surv_cols1[:3]],currentcfRetProb],axis=1)"
   ]
  },
  {
   "cell_type": "code",
   "execution_count": null,
   "metadata": {
    "collapsed": false
   },
   "outputs": [],
   "source": [
    "ret_fiveyrDF[['yr1','yr2','yr3','yr4','yr5']]=1-ret_fiveyrDF[['proba_1','proba_2','proba_3','proba_4','proba_5']]\n"
   ]
  },
  {
   "cell_type": "code",
   "execution_count": null,
   "metadata": {
    "collapsed": false
   },
   "outputs": [],
   "source": [
    "tmp_rates = pd.DataFrame(ret_fiveyrDF[['yr1','yr2','yr3','yr4','yr5']].sum()/float(len(ret_fiveyrDF)))\n",
    "tmp_rates.index = ['yr1','yr2','yr3','yr4','yr5']\n",
    "tmp_rates.columns = ['Retirement']\n",
    "tmp_rates['Annual Retirement'] = tmp_rates.diff()\n",
    "tmp_rates.loc['yr1','Annual Retirement']= tmp_rates.loc['yr1','Retirement']"
   ]
  },
  {
   "cell_type": "code",
   "execution_count": null,
   "metadata": {
    "collapsed": true
   },
   "outputs": [],
   "source": []
  },
  {
   "cell_type": "code",
   "execution_count": null,
   "metadata": {
    "collapsed": true
   },
   "outputs": [],
   "source": []
  },
  {
   "cell_type": "code",
   "execution_count": null,
   "metadata": {
    "collapsed": true
   },
   "outputs": [],
   "source": []
  },
  {
   "cell_type": "code",
   "execution_count": null,
   "metadata": {
    "collapsed": false
   },
   "outputs": [],
   "source": [
    "current_sepcf_pred = sepCF.predict_survival_function(current[sep_surv_cols1[2:]].values)\n",
    "current_sepcf_pred.index.name='years'\n",
    "current_sepcf_pred.reset_index(inplace=True)\n",
    "current_sepcf_pred.head()\n",
    "currentcfSepProb = get_survival_prediction(current,psf=current_sepcf_pred)\n",
    "#current_sepcf_pred = sepCF.predict_survival_function(current[sep_surv_cols1[2:]].values)"
   ]
  },
  {
   "cell_type": "code",
   "execution_count": null,
   "metadata": {
    "collapsed": false
   },
   "outputs": [],
   "source": [
    "sep_fiveyrDF = pd.concat([current[sep_surv_cols1[:3]],currentcfSepProb],axis=1)\n"
   ]
  },
  {
   "cell_type": "code",
   "execution_count": null,
   "metadata": {
    "collapsed": false
   },
   "outputs": [],
   "source": [
    "sep_fiveyrDF[['Sep_1','Sep_2','Sep_3','Sep_4','Sep_5']]=1-sep_fiveyrDF[['proba_1','proba_2','proba_3','proba_4','proba_5']]\n"
   ]
  },
  {
   "cell_type": "code",
   "execution_count": null,
   "metadata": {
    "collapsed": false
   },
   "outputs": [],
   "source": [
    "sep_fiveyrDF.head()"
   ]
  },
  {
   "cell_type": "code",
   "execution_count": null,
   "metadata": {
    "collapsed": false
   },
   "outputs": [],
   "source": [
    "simple_rates = pd.DataFrame(sep_fiveyrDF[['Sep_1','Sep_2','Sep_3','Sep_4','Sep_5']].sum()/float(len(sep_fiveyrDF)))\n",
    "simple_rates.index = ['yr1','yr2','yr3','yr4','yr5']\n",
    "simple_rates.columns = ['Separation']\n",
    "simple_rates['Annual Separation'] = simple_rates.diff()\n",
    "simple_rates.loc['yr1','Annual Separation']= simple_rates.loc['yr1','Separation']\n"
   ]
  },
  {
   "cell_type": "code",
   "execution_count": null,
   "metadata": {
    "collapsed": false
   },
   "outputs": [],
   "source": [
    "simple_rates = pd.concat([simple_rates,tmp_rates],axis=1)\n",
    "simple_rates"
   ]
  },
  {
   "cell_type": "markdown",
   "metadata": {},
   "source": [
    "### Clean up missing & dummy encode/etc the categorical --> use a pipe"
   ]
  },
  {
   "cell_type": "code",
   "execution_count": null,
   "metadata": {
    "collapsed": false
   },
   "outputs": [],
   "source": [
    "missing_columns = br.get_columns_with_nulls(em2[all_cols3])\n",
    "print len(missing_columns)"
   ]
  },
  {
   "cell_type": "code",
   "execution_count": null,
   "metadata": {
    "collapsed": false
   },
   "outputs": [],
   "source": [
    "missing_cat_cols = br.get_columns_with_nulls(em2[cat_cols2])\n",
    "missing_cat_cols"
   ]
  },
  {
   "cell_type": "code",
   "execution_count": null,
   "metadata": {
    "collapsed": true
   },
   "outputs": [],
   "source": [
    "from sklearn.pipeline import Pipeline, FeatureUnion\n",
    "from sklearn import metrics\n",
    "from sklearn.cross_validation import train_test_split\n",
    "from sklearn.base import BaseEstimator,TransformerMixin\n"
   ]
  },
  {
   "cell_type": "code",
   "execution_count": null,
   "metadata": {
    "collapsed": true
   },
   "outputs": [],
   "source": [
    "mthl_tenure_range = np.linspace(0,65,781)\n",
    "def calculate_survival_functions_b(df,y, time_col, col_name,num_cutoff = 40,timerange =mthl_tenure_range):\n",
    "    \n",
    "    \"\"\" Function to generically return a dataframe of survival function, grouped by some categorical column\n",
    "    inputs:\n",
    "        df --> database to derive survival functions from\n",
    "        time_col --> the temporal column to use for SF modeling (Kaplan Meier fitter applied)\n",
    "        event_col --> the truncated column to use for SF modeling\n",
    "        col_name --> the column to group up and determine KMF sf for\n",
    "        num_cutoff --> number of groups to consider\n",
    "        timerange --> min and max range\n",
    "    outputs:\n",
    "        survivalfunc_df --> a data frame that contains survival function.\n",
    "\n",
    "    other options:\n",
    "        *frac_cutoff --> the fraction of unique elements that will be kept as separate groups\n",
    "        *min_size_cutoff --> min size to use for the cutoff.\n",
    "        * these last two are not implemented\n",
    "    \"\"\"\n",
    "    from lifelines import KaplanMeierFitter\n",
    "    kmf=KaplanMeierFitter()\n",
    "    # create example for all cases -- serves as background\n",
    "    # create a time range\n",
    "    \n",
    "    kmf.fit(df[time_col],timeline=timerange,event_observed=y,label='all')\n",
    "    survivalfunc_df = pd.DataFrame(kmf.survival_function_)\n",
    "    # groupify the dataframe\n",
    "    grp_value_counts = df[col_name].value_counts()\n",
    "    #if frac_cutoff == None:\n",
    "    #    #by default take 15 %\n",
    "    #    frac_cutoff = .15 \n",
    "    #top_n_groups = int(frac_cutoff *len(grp_value_counts))\n",
    "    #if min_size_cutoff == None:\n",
    "        # by default \n",
    "    # Take the top num_cutoff groups\n",
    "    #my_grps = grp_value_counts.ix[:num_cutoff].index.tolist() \n",
    "    my_grps = grp_value_counts.iloc[:num_cutoff].index.tolist() \n",
    "    \n",
    "    # make a list of elements in each of these groups\n",
    "    grp_dict = {}\n",
    "    for grp in my_grps: \n",
    "        grp_dict[grp] = df[df[col_name] == grp].index.tolist()\n",
    "    # loop through grps and create kmf survival function\n",
    "    for i,jgrp in enumerate(my_grps):\n",
    "        j_idx = grp_dict[jgrp]\n",
    "        #print i, jgrp, len(j_idx)\n",
    "        kmf.fit(df[time_col].ix[j_idx],timeline=mthl_tenure_range,event_observed=y.ix[j_idx],label=str(jgrp))\n",
    "        survivalfunc_df = pd.concat([survivalfunc_df,kmf.survival_function_],axis=1)\n",
    "    \n",
    "    \n",
    "    return survivalfunc_df\n",
    "\n",
    "def return_first_time_survival(sfdf,thresh=0.5):\n",
    "    from collections import defaultdict\n",
    "    \n",
    "    # assign all value to the default\n",
    "    default_value = sfdf[sfdf['all']<=thresh].index[0]\n",
    "    median_survival_dict = defaultdict(lambda: default_value)\n",
    "    for c in sfdf.columns[1:]:\n",
    "        #print c\n",
    "        try:\n",
    "            my_sf_date = sfdf[sfdf[c]<=thresh].index[0]\n",
    "        except IndexError: # because never reached that threshold value\n",
    "            my_sf_date = sfdf.index[-1]\n",
    "        except KeyError: # because of type of the key\n",
    "            my_sf_date = sfdf[sfdf[int(c)]<=thresh].index[0]\n",
    "\n",
    "        median_survival_dict[c]=my_sf_date\n",
    "        \n",
    "    return median_survival_dict"
   ]
  },
  {
   "cell_type": "code",
   "execution_count": null,
   "metadata": {
    "collapsed": true
   },
   "outputs": [],
   "source": [
    "class SurvivalEncodeColumn(BaseEstimator, TransformerMixin):\n",
    "    def __init__(self, columns_to_fix=[],rows_to_scan='all',method='median',max_number_groups=40, my_thresh=0.5):\n",
    "        self.method = method\n",
    "        self.columns_to_fix = columns_to_fix\n",
    "        self.rows_to_scan = rows_to_scan\n",
    "        self.max_num_groups = max_number_groups\n",
    "        self.thresh = my_thresh\n",
    "        \n",
    "    def fit(self,X,y):\n",
    "        self.survive_columns = {} # dictionary to map old columns to new\n",
    "        self.survive_values = {}\n",
    "        self.column_cutoff = {}\n",
    "        \n",
    "        \n",
    "        for col in self.columns_to_fix:\n",
    "            #(assumes these have previously been label encoded so the values should be ints)\"\n",
    "            ncol=str(col)+\"_le\"\n",
    "            num_cutoff = self.max_num_groups\n",
    "            survive_col = 'surv_'+ncol.lower()\n",
    "            nuniq = len(X[ncol].unique())\n",
    "            if nuniq < num_cutoff:\n",
    "                num_cutoff = nuniq\n",
    "                \n",
    "            self.column_cutoff[col]=num_cutoff\n",
    "            \n",
    "            #frac_accounted_for = X[col].value_counts().iloc[:num_cutoff].sum()/float(len(X))\n",
    "            #print i,col,newcol, nuniq, num_cutoff,num_cutoff/float(nuniq),frac_accounted_for\n",
    "            # I want to make this fraction close to 80%?\n",
    "            sf_df = calculate_survival_functions_b(X,y,'Tenure_years', ncol,num_cutoff)\n",
    "            self.survive_columns[col]=survive_col\n",
    "            ## create the dictionary\n",
    "            self.survive_values[col]=return_first_time_survival(sf_df,thresh=self.thresh)\n",
    "    \n",
    "        return self\n",
    "    def transform(self,X,y=None):\n",
    "        X_temp = X.copy()\n",
    "        original_cols = list(X_temp.columns)\n",
    "        for col in self.columns_to_fix:\n",
    "            ncol=str(col)+\"_le\" # assumes labelencoded\n",
    "            new_col = self.survive_columns[col]\n",
    "            col_dict = self.survive_values[col]\n",
    "            X_temp[new_col] = X_temp[ncol].apply(lambda x: col_dict[str(x)])\n",
    "            original_cols.remove(ncol)\n",
    "            original_cols.append(new_col)\n",
    "        \n",
    "        X_temp = X_temp[original_cols]\n",
    "        return X_temp\n",
    "    "
   ]
  },
  {
   "cell_type": "code",
   "execution_count": null,
   "metadata": {
    "collapsed": false
   },
   "outputs": [],
   "source": [
    "#my_cols_to_omit =list(set(all_cols)-set(all_cols3))\n",
    "#len(my_cols_to_omit)"
   ]
  },
  {
   "cell_type": "code",
   "execution_count": null,
   "metadata": {
    "collapsed": false
   },
   "outputs": [],
   "source": [
    "[a for a in all_cols4 if a.endswith('SFI')]"
   ]
  },
  {
   "cell_type": "code",
   "execution_count": null,
   "metadata": {
    "collapsed": false
   },
   "outputs": [],
   "source": [
    "cat_cols2 = list(set(all_cols3).intersection(set(cat_cols2)))\n",
    "[(c,len(em2[c].unique())) for c in cat_cols2]"
   ]
  },
  {
   "cell_type": "code",
   "execution_count": null,
   "metadata": {
    "collapsed": true
   },
   "outputs": [],
   "source": [
    "my_label_encode_cols = ['JOB_FAMILY', 'GRADE', 'JOB_FUNCTION',\n",
    " 'FLOR_SFI', 'FUNC_ID_SFI', 'EXT_FUNC_ID_SFI',\n",
    " 'JOBCODE', 'LOC_TYPE_DESCR_SFI',\n",
    " 'LOC_STATE']\n",
    "cat_cols_to_dummy_encode = ['EMPL_CLASS','EEO1CODE','EMPL_TYPE','FULL_PART_TIME','ETHNIC_GROUP','DIVISION_CODE_SFI','COMPANY']"
   ]
  },
  {
   "cell_type": "code",
   "execution_count": null,
   "metadata": {
    "collapsed": false
   },
   "outputs": [],
   "source": [
    "allcols = em2.columns.tolist()\n",
    "my_cols_to_omit = ['TOT_MO_SERVICE_SFI']"
   ]
  },
  {
   "cell_type": "code",
   "execution_count": null,
   "metadata": {
    "collapsed": true
   },
   "outputs": [],
   "source": [
    "my_minfix_cols = ['SAL1','MIN_RT_ANNUAL','MERIT1','PERF1']\n",
    "my_maxfix_cols = ['MAX_RT_ANNUAL']\n",
    "missing_zero_cols = ['BOX1','FUNC_CNT','EXTFUNC_CNT','TOTAL_RPT_CNT','DIRECT_RPT_CNT']\n",
    "mode_impute_cols = ['MERIT1','PERF1','ADDRCNT1']"
   ]
  },
  {
   "cell_type": "code",
   "execution_count": null,
   "metadata": {
    "collapsed": false
   },
   "outputs": [],
   "source": [
    "pipe2 = Pipeline([(\"null\",br.RemoveAllNull()),\n",
    "                 (\"drop\",br.DropColumns(columns_to_drop =my_cols_to_omit)),\n",
    "                 (\"label_encode\",br.LabelEncodeColumn(my_label_encode_cols)),\n",
    "                 \n",
    "                 #(\"dummy_encode\", br.DummyEncodeColumn(cat_cols_to_dummy_encode)),\n",
    "                 (\"survival_encode\",SurvivalEncodeColumn(my_label_encode_cols[:5],method='median')),\n",
    "                 (\"dummy_encode\",br.ConvertCategorical(categorical_columns=cat_cols_to_dummy_encode,method='dummy')),\n",
    "                 (\"fixout_min\",br.FixNumericOutlier(columns_to_fix=my_minfix_cols,criteria_coef=('percentile',2),\n",
    "                                                   method='lower',fill_with='nearest_value')),\n",
    "                 (\"fixout_max\",br.FixNumericOutlier(columns_to_fix=['MAX_ANNUAL_RT'],criteria_coef=('percentile',2),\n",
    "                                                   method='both',fill_with='nearest_value')),\n",
    "                 (\"fill_missingzero\",br.FillMissingValue(columns_to_fix=missing_zero_cols,fill_value=0)),\n",
    "                 (\"imp_mode\",br.ImputeData(columns_to_impute=mode_impute_cols,rows_to_scan=0.8))\n",
    "                 ])"
   ]
  },
  {
   "cell_type": "markdown",
   "metadata": {},
   "source": [
    "# pull out a build set to make the pipeline from"
   ]
  },
  {
   "cell_type": "code",
   "execution_count": null,
   "metadata": {
    "collapsed": false
   },
   "outputs": [],
   "source": [
    "print \"Starting with subest of {0} employees.\".format(len(em2))\n",
    "eval_fraction = 0.20\n",
    "em2build, em2eval = train_test_split(em2,test_size=eval_fraction,random_state=83221)\n",
    "print \"Evaluation set has {0} employees; training set has {1} employees.\".format(len(em2eval),len(em2build))"
   ]
  },
  {
   "cell_type": "code",
   "execution_count": null,
   "metadata": {
    "collapsed": false
   },
   "outputs": [],
   "source": [
    "y = em2build['former']\n",
    "build = pipe2.fit_transform(em2build,y)"
   ]
  },
  {
   "cell_type": "code",
   "execution_count": null,
   "metadata": {
    "collapsed": true
   },
   "outputs": [],
   "source": [
    "evaluation = pipe2.fit(em2build,y).transform(em2eval)"
   ]
  },
  {
   "cell_type": "code",
   "execution_count": null,
   "metadata": {
    "collapsed": true
   },
   "outputs": [],
   "source": [
    "list_of_columns = build.columns.tolist()"
   ]
  },
  {
   "cell_type": "code",
   "execution_count": null,
   "metadata": {
    "collapsed": false
   },
   "outputs": [],
   "source": [
    "[a for a in list_of_columns if a.endswith('SFI')]"
   ]
  },
  {
   "cell_type": "code",
   "execution_count": null,
   "metadata": {
    "collapsed": true
   },
   "outputs": [],
   "source": [
    "build.to_csv('trans_train.csv',index=False)\n",
    "evaluation.to_csv('trans_eval.csv',index=False)"
   ]
  },
  {
   "cell_type": "code",
   "execution_count": null,
   "metadata": {
    "collapsed": false
   },
   "outputs": [],
   "source": [
    "print len(list_of_columns)\n",
    "[a for a in list_of_columns if a in ['former','status','retired']]"
   ]
  },
  {
   "cell_type": "code",
   "execution_count": null,
   "metadata": {
    "collapsed": false
   },
   "outputs": [],
   "source": [
    "columns_for_modeling = [a for a in list_of_columns if a not in ['former','status','retired']]\n",
    "len(columns_for_modeling)"
   ]
  },
  {
   "cell_type": "code",
   "execution_count": null,
   "metadata": {
    "collapsed": false
   },
   "outputs": [],
   "source": [
    "br.perfect_collinearity_test(build[columns_for_modeling])"
   ]
  },
  {
   "cell_type": "code",
   "execution_count": null,
   "metadata": {
    "collapsed": false
   },
   "outputs": [],
   "source": [
    "tstmp_cols = [a for a in em2.columns if a.endswith('tstmp')]\n",
    "tstmp_cols"
   ]
  },
  {
   "cell_type": "code",
   "execution_count": null,
   "metadata": {
    "collapsed": false
   },
   "outputs": [],
   "source": [
    "redundant_cols = ['hire_age','FULLPART1','COMPANY','ETHNIC_GROUP',\n",
    "                  'EMPL_TYPE','DIVISION_CODE_SFI','ADDRCNT1_d','PERF1_d','MERIT_d',\n",
    "                  'EMPL_TYPE_E','FULL_PART_TIME_X','COMPANY_1','ETHNIC_GROUP_1.0','DIVISION_CODE_SFI_4',\n",
    "                 'EMPL_CLASS_1','EEO1CODE_6']\n",
    "columns_for_modeling2 = list(set(columns_for_modeling)-set(redundant_cols)-set(tstmp_cols))\n",
    "br.perfect_collinearity_test(build[columns_for_modeling2])"
   ]
  },
  {
   "cell_type": "code",
   "execution_count": null,
   "metadata": {
    "collapsed": false
   },
   "outputs": [],
   "source": [
    "len(columns_for_modeling2)"
   ]
  },
  {
   "cell_type": "markdown",
   "metadata": {},
   "source": [
    "# now build the time-kfolds"
   ]
  },
  {
   "cell_type": "code",
   "execution_count": null,
   "metadata": {
    "collapsed": false
   },
   "outputs": [],
   "source": [
    "# define the date range\n",
    "full_date_range = [str(a)+'-01-01' for a in np.arange(2002,2016)]\n",
    "print len(full_date_range)\n",
    "#full_date_range"
   ]
  },
  {
   "cell_type": "markdown",
   "metadata": {},
   "source": [
    "## Utilize temporal kfolds:\n",
    "1. split the training dataset into windows corresponding to the difference in time\n",
    "2. \n"
   ]
  },
  {
   "cell_type": "code",
   "execution_count": null,
   "metadata": {
    "collapsed": true
   },
   "outputs": [],
   "source": [
    "import itertools\n",
    "def create_temporal_kfolds(dates_df,date_range,time_delta):\n",
    "    \"\"\"\n",
    "    inputs: date_range\n",
    "            time_delta (in years)\n",
    "            dataframe_dates --> assumes 'hire_tstmp' and 'term_tstmp'\n",
    "    outputs:\n",
    "            kf is a list of list of list: \n",
    "            [indices from original df that are 'in' a fold, indices from original df that are 'out' of a fold]\n",
    "            each row in this corresponds to the temporal-kfold\n",
    "            filtered_pairs is a list of start and end times\n",
    "    \"\"\"\n",
    "    min_date = pd.to_datetime(date_range[0])\n",
    "    max_date = pd.to_datetime(date_range[-1])\n",
    "    my_index = dates_df[(dates_df.term_tstmp>=min_date)].index\n",
    "    # calculate number of kfolds\n",
    "    date_span_years = np.int(np.round((max_date-min_date).days/365.24,0))\n",
    "    nfolds = date_span_years - time_delta\n",
    "    print date_span_years, time_delta, nfolds, len(my_index)\n",
    "    all_pairs = list(itertools.combinations(date_range,2))\n",
    "    # now filter if difference in time  == time_delta\n",
    "    filtered_pairs = []\n",
    "    for i0,i1 in all_pairs:\n",
    "        if int(i1[:4])-int(i0[:4]) == time_delta:\n",
    "            filtered_pairs.append([i0,i1])\n",
    "            #print i0,i1\n",
    "    print len(filtered_pairs)\n",
    "    # now process each of these filtered pairs\n",
    "    kf = []\n",
    "    for j0,j1 in filtered_pairs: # omit the last one because it has no corresponding partner/endtime\n",
    "        start_date = pd.to_datetime(j0)\n",
    "        end_date = pd.to_datetime(j1)\n",
    "        #print j0,j1#,len(k)\n",
    "        \n",
    "        \n",
    "        kfold_idx = dates_df[(dates_df.term_tstmp >= start_date) & (dates_df.hire_tstmp<start_date)].index.tolist()\n",
    "        after_idx = dates_df[(dates_df.hire_tstmp>=end_date)].index.tolist()\n",
    "        before_idx = list(set(my_index)-set(kfold_idx)-set(after_idx))\n",
    "        #temporal_kfold(dates_df[dates_df.term_tstmp>=min_date],start_date,end_date)\n",
    "        #print \"\\t\",len(kfold_idx), len(after_idx),len(before_idx)\n",
    "        \n",
    "        # combined out of fold\n",
    "        not_kfold_idx = list(set(after_idx).union(set(before_idx)))\n",
    "        \n",
    "        print j0,j1,len(kfold_idx),len(not_kfold_idx)\n",
    "        kf.append([kfold_idx,not_kfold_idx])\n",
    "    \n",
    "    return kf,filtered_pairs"
   ]
  },
  {
   "cell_type": "code",
   "execution_count": null,
   "metadata": {
    "collapsed": true
   },
   "outputs": [],
   "source": [
    "def reset_years2(paired_times,indices,dates_df,cols_to_alter = ['Age_years','Tenure_years']):\n",
    "    # calc the Age at beginnning of time period\n",
    "    ## now calculate age at hire\n",
    "    reset_age_tdelta = pd.to_datetime(paired_times[0])-dates_df['birth_tstmp']#)/np.timedelta64(1,'D')\n",
    "    reset_tenure_tdelta = pd.to_datetime(paired_times[0])-dates_df['hire_tstmp']#)/np.timedelta64(1,'D')\n",
    "    # convert to days, months or years\n",
    "    reset_age = reset_age_tdelta/np.timedelta64(1,'Y')\n",
    "    reset_tenure = reset_tenure_tdelta/np.timedelta64(1,'Y')\n",
    "    # look at terminated or not\n",
    "    #empl_df['terminated']= 0\n",
    "    # push these as a data frame so I can merge\n",
    "    adj_times = pd.DataFrame()\n",
    "    adj_times['adj_age']=reset_age\n",
    "    adj_times['adj_tenure']=reset_tenure      \n",
    "    return adj_times\n"
   ]
  },
  {
   "cell_type": "code",
   "execution_count": null,
   "metadata": {
    "collapsed": true
   },
   "outputs": [],
   "source": [
    "def define_target_within_x_years(df,paired_dates,tfold,n_years,target_col):\n",
    "    \"\"\"\n",
    "    inputs:\n",
    "        df -- data frame\n",
    "        paired_dates (2nd output from create_temporal_kfolds)\n",
    "        tfold (1st output from create_temporal_kfolds)\n",
    "        targe_col --> desired target\n",
    "        \n",
    "    plan is to adjust the target, Age and tenure to match time frame of temporal kfold\n",
    "    outputs:\n",
    "    \"\"\"\n",
    "    print len(tfold)#, paired_dates\n",
    "\n",
    "    df_dict = {}\n",
    "    for i,tf in enumerate(tfold):\n",
    "        start_date = paired_dates[i][0]\n",
    "        end_date = paired_dates[i][1]\n",
    "        #print start_date,end_date,n_years\n",
    "        #altered_fold_df = pd.DataFrame(columns=['fold_mbr','adj_age','adj_tenure','adj_term'])\n",
    "        # if in the fold reset the age to start of fold; define new window of termination\n",
    "        in_fold_idx = tfold[i][0] # the index of the in_fold_observations \n",
    "        # note that \"sex\" is just used to create a value that then gets dummied out\n",
    "        cols_to_copy = ['SEX','Age_years','Tenure_years']\n",
    "        cols_to_copy.append(target_col)\n",
    "        \n",
    "        altered_fold_df = df[cols_to_copy].copy()\n",
    "        # adjust these\n",
    "        altered_fold_df.columns=['fold_mbr','adj_age','adj_tenure','adj_tgt']\n",
    "        altered_fold_df.fold_mbr = 0\n",
    "        \n",
    "        #ra,rt = reset_years(paired_dates[i],in_fold_idx,dates_df)\n",
    "        adj_df =reset_years2(paired_dates[i],in_fold_idx,df)\n",
    "        #altered_fold_df.ix[in_fold_idx]['adj_age']=ra\n",
    "        #altered_fold_df.ix[in_fold_idx]['adj_tenure']=rt\n",
    "        altered_fold_df.loc[in_fold_idx,['adj_age','adj_tenure']]=adj_df.ix[in_fold_idx] # assign to the altered values\n",
    "        new_tgt = (df.ix[in_fold_idx]['term_tstmp']<= end_date).as_matrix().astype(np.int)\n",
    "        #(em2mod.ix[kf[0][0]]['term_tstmp']<= fp[0][1]).as_matrix().astype(np.int)\n",
    "        # deal with last time-fold specially\n",
    "        if i == len(tfold)-1:\n",
    "            new_tgt = (df.ix[in_fold_idx]['term_tstmp']< end_date).as_matrix().astype(np.int)\n",
    "        #print \"\\t\", len(new_term),sum(new_term)\n",
    "        altered_fold_df.loc[in_fold_idx,'adj_tgt']=new_tgt\n",
    "        altered_fold_df.loc[in_fold_idx,'fold_mbr']=1\n",
    "        df_dict[i]=altered_fold_df\n",
    "    # now append this to a larger panel\n",
    "    tfold_panel = pd.Panel.from_dict(data =df_dict)\n",
    "    return tfold_panel"
   ]
  },
  {
   "cell_type": "code",
   "execution_count": null,
   "metadata": {
    "collapsed": false
   },
   "outputs": [],
   "source": [
    "def setup_tfolds(df, n_years, cols_to_model, tgt_value='former',\n",
    "                 time_cols=['Age_years','Tenure_years'], tstmp_cols = tstmp_cols, date_range=full_date_range):\n",
    "    \"\"\" Function to create the temporal kfolds\n",
    "    parameters:\n",
    "        df       - a pandas data frame (that has been preprocessed)\n",
    "        n_years  - size of the temporal window (in years)\n",
    "        cols_to_model - list of columns to use in the modeling procedure \n",
    "        tgt_value  - column name to use as the target variable\n",
    "        time_cols  - list of columns that are time senitive and must be adjusted\n",
    "        tstmp_cols - list of columns that contain timestamps for things like hiring, termination and birth\n",
    "        date_range - list comprising the inclusive annual starting dates from beginning to end of range.\n",
    "    output:\n",
    "        tfolds  - a list containing the indices of in and out of fold members for each of the tfolds created\n",
    "        tfold_panel - a pandas Panel (3D data frame) containing the membership in different folds, the adjusted targets,\n",
    "            the adjusted timesenitive data, and the columns to use for modeling.\n",
    "    \"\"\"    \n",
    "    # step 1 create the temporal_folds\n",
    "    if not [a for a in tstmp_cols if a in df.columns] == tstmp_cols:\n",
    "        print \"The list of required timestamp columns do not exist in the input dataframe.\"\n",
    "        print tstmp_cols\n",
    "        exit\n",
    "    tfolds, paired_dates = create_temporal_kfolds(df[tstmp_cols],date_range, n_years) \n",
    "    #defines the time-windows and assigns observations to folds\n",
    "    \n",
    "    # create the time-shifted tfolds and push into a pandas Panel (3D data frame)\n",
    "    tfold_panel=transform_df_to_tfold(df,tfolds,paired_dates,n_years,cols_to_model, tgt_value,tstmp_cols,time_cols)\n",
    "    return tfold_panel, tfolds\n",
    "   "
   ]
  },
  {
   "cell_type": "code",
   "execution_count": null,
   "metadata": {
    "collapsed": false
   },
   "outputs": [],
   "source": [
    "def transform_df_to_tfold(df,tfold,paired_dates,n_years,cols_to_keep,target_col,tstmp_cols,time_cols):\n",
    "    \"\"\"\n",
    "    Function to adjust the input data frame so that time_sensitive columns and target column\n",
    "    conform to the bounds of that temporal kfold (tfold). Specifically adjust the target, Age and tenure \n",
    "    to match time frame of temporal kfold\n",
    "    \n",
    "    Parameters:\n",
    "        df -- a pandas data frame\n",
    "        paired_dates (2nd output from create_temporal_kfolds)\n",
    "        tfolds (1st output from create_temporal_kfolds)\n",
    "        target_col --> desired target\n",
    "        cols_to_keep --> the list of columns within df that get expressed in df.\n",
    "        time_cols\n",
    "        \n",
    "    plan is to \n",
    "    outputs:\n",
    "        tfold_panel\n",
    "    \"\"\"\n",
    "    #print len(tfold)#, paired_dates\n",
    "    #print df.columns ,len(df.columns), len(cols_to_keep)\n",
    "    #return\n",
    "    # do some sanity checks\n",
    "    # 1. make sure cols_to_keep, target and tstmp_cols columns are in df.columns\n",
    "    input_column_list = df.columns.tolist()\n",
    "    n_total_columns = len(input_column_list)\n",
    "    #if (n_total_columns != len(cols_to_keep)+len(target_col)+len(tstmp_cols)):\n",
    "        # now look at each piece\n",
    "    targetlist = []\n",
    "    targetlist.append(target_col)\n",
    "    if not check_if_subset(targetlist,input_column_list):\n",
    "            #target_col in df.columns:\n",
    "            #print \"{0} target column not present in input set\".format(target_col)\n",
    "        return\n",
    "    if not check_if_subset(tstmp_cols,input_column_list):\n",
    "        return\n",
    "            #[a for a in tstmp_cols if a in input_column_list] == tstmp_cols: # requires\n",
    "            #print \"There are missing timestamp columns. Recheck the list {0}\".format(tstmp_cols)\n",
    "    #        return\n",
    "    if not check_if_subset(time_cols,input_column_list):\n",
    "            #[a for a in time_cols if a in input_column_list] == time_cols: # requires\n",
    "            #print \"There are missing timestamp columns. Recheck the list {0}\".format(tstmp_cols)\n",
    "        return    \n",
    "    if not check_if_subset(cols_to_keep,input_column_list):\n",
    "        return\n",
    "    \n",
    "    ## now set up the columns for manipulation\n",
    "    cols_to_copy = cols_to_keep\n",
    "    if not check_if_subset(time_cols,cols_to_keep):\n",
    "        cols_to_copy+=time_cols\n",
    "        print len(cols_to_copy)\n",
    "    \n",
    "    \n",
    "    df_dict = {}\n",
    "    \n",
    "    # identify which element of tstmp_cols corresponds to term_tstmp\n",
    "    term_id = tstmp_cols.index('term_tstmp')\n",
    "    birth_id = tstmp_cols.index('birth_tstmp')\n",
    "    hire_id = tstmp_cols.index('hire_tstmp')\n",
    "    #print term_id, tstmp_cols[term_id]\n",
    "    \n",
    "    for i,tf in enumerate(tfold):\n",
    "        start_date = paired_dates[i][0]\n",
    "        end_date = paired_dates[i][1]\n",
    "        \n",
    "        in_fold_idx = tfold[i][0] # the index of the in_fold_observations \n",
    "       \n",
    "        altered_fold_df = df[cols_to_copy].copy()\n",
    "        altered_fold_df['fold_mbr']=0 # create a new column to identify membership in that fold.\n",
    "        altered_fold_df.loc[in_fold_idx,'fold_mbr']=1 # assign the in_fold_indices to that fold membership\n",
    "        ####\n",
    "        # adjust the age and tenure for those in the fold\n",
    "        reset_age_tdelta = pd.to_datetime(start_date)-df.ix[in_fold_idx][tstmp_cols[birth_id]]\n",
    "        reset_age = reset_age_tdelta/np.timedelta64(1,'Y')\n",
    "        reset_tenure_tdelta = pd.to_datetime(start_date)-df.ix[in_fold_idx][tstmp_cols[hire_id]]\n",
    "        reset_tenure = reset_tenure_tdelta/np.timedelta64(1,'Y')\n",
    "        altered_fold_df.loc[in_fold_idx,'Age_years']=reset_age\n",
    "        altered_fold_df.loc[in_fold_idx,'Tenure_years']=reset_tenure\n",
    "        old_tgt = df.ix[tfold[i][1]][target_col]\n",
    "        new_tgt = (df.ix[in_fold_idx][tstmp_cols[term_id]]<= end_date).as_matrix().astype(np.int)\n",
    "        # deal with last time-fold specially\n",
    "        if i == len(tfold)-1:\n",
    "            new_tgt = (df.ix[in_fold_idx][tstmp_cols[term_id]]< end_date).as_matrix().astype(np.int)\n",
    "            \n",
    "        altered_fold_df.loc[in_fold_idx,target_col]=new_tgt\n",
    "        old_tgt = df.ix[tfold[i][1]][target_col]\n",
    "        altered_fold_df.loc[tfold[i][1],target_col] = old_tgt\n",
    "        #ra,rt = reset_years(paired_dates[i],in_fold_idx,dates_df)\n",
    "        \"\"\"adj_df =reset_years2(paired_dates[i],in_fold_idx,df)\n",
    "        #altered_fold_df.ix[in_fold_idx]['adj_age']=ra\n",
    "        #altered_fold_df.ix[in_fold_idx]['adj_tenure']=rt\n",
    "        altered_fold_df.loc[in_fold_idx,time_cols]=adj_df.ix[in_fold_idx] # assign to the altered values\n",
    "        \n",
    "        #(em2mod.ix[kf[0][0]]['term_tstmp']<= fp[0][1]).as_matrix().astype(np.int)\n",
    "        \n",
    "        #print \"\\t\", len(new_term),sum(new_term)\n",
    "        \n",
    "        \"\"\"\n",
    "        \n",
    "        df_dict[i]=altered_fold_df\n",
    "    # now append this to a larger panel\n",
    "    tfold_panel = pd.Panel.from_dict(data =df_dict)\n",
    "    return tfold_panel\n",
    "    \n",
    "    \n",
    "    "
   ]
  },
  {
   "cell_type": "code",
   "execution_count": null,
   "metadata": {
    "collapsed": false
   },
   "outputs": [],
   "source": [
    "def apply_tKfold_CV2(modeltype, in_panel, tkfolds, cols_to_use, tgt_column = 'former', ntrees=100):\n",
    "    \"\"\" Calculate the rmse for each cross-validated temporalFold\n",
    "    \n",
    "    Parameters:\n",
    "        model - a scikit learn model name\n",
    "        in_panel  - a pandas Panel with the observed input data adjusted \n",
    "        tgt_column -- the target variable\n",
    "        cols_to_use -- the input variables to be used in modeling\n",
    "        tkfolds -- teh temporal timefolds (list of dimension 2)\n",
    "    outputs:\n",
    "        models --> the list of fit models\n",
    "        RMSE --> the rmse error\n",
    "        \n",
    "    \"\"\"\n",
    "    RMSE = []\n",
    "    roc_auc = []\n",
    "    models = []\n",
    "    \n",
    "    \n",
    "    \n",
    "    for fold_id, indices in enumerate(tkfolds):\n",
    "        training = indices[0]\n",
    "        testing = indices[1]\n",
    "        #print fold_id, len(training),len(testing)\n",
    "        X_train, X_test = in_panel[fold_id][cols_to_use].ix[training].as_matrix(), in_panel[fold_id][cols_to_use].ix[testing].as_matrix()\n",
    "        y_train, y_test = in_panel[fold_id][tgt_column].ix[training].as_matrix(), in_panel[fold_id][tgt_column].ix[testing].as_matrix()\n",
    "        if modeltype == 'rfc':\n",
    "            model = ensemble.RandomForestClassifier(n_estimators=ntrees, max_features='auto', oob_score=True)\n",
    "        elif modeltype=='bgc':\n",
    "            model=ensemble.GradientBoostingClassifier(n_estimators=ntrees,max_features='auto')\n",
    "        else:\n",
    "            model=tree.DecisionTreeClassifier()\n",
    "            \n",
    "        # Train the model\n",
    "        model.fit(X_train,y_train)\n",
    "        # use the model to predict output\n",
    "        y_fitted = model.predict(X_test)\n",
    "        RMSE.append(np.sqrt(metrics.mean_squared_error(y_test,y_fitted)))\n",
    "        roc_auc.append(metrics.roc_auc_score(y_test,y_fitted))\n",
    "        models.append(model)\n",
    "    # leave the model fit to the entire dataset\n",
    "    #model.fit(in_x,in_y)\n",
    "    \n",
    "    return RMSE,roc_auc,models\n",
    "        "
   ]
  },
  {
   "cell_type": "code",
   "execution_count": null,
   "metadata": {
    "collapsed": true
   },
   "outputs": [],
   "source": [
    "def check_if_subset(list1,list2): #compare_column_lists(list1,list2):\n",
    "    if set(list1).issubset(set(list2)):\n",
    "        return 1\n",
    "    else:\n",
    "        print \"{0} is not contained in {1}. Recheck your lists.\".format(list1,list2)\n",
    "        return 0\n",
    "    \n",
    "    "
   ]
  },
  {
   "cell_type": "markdown",
   "metadata": {},
   "source": [
    "## reintroduce the tstmp columns"
   ]
  },
  {
   "cell_type": "code",
   "execution_count": null,
   "metadata": {
    "collapsed": false
   },
   "outputs": [],
   "source": []
  },
  {
   "cell_type": "code",
   "execution_count": null,
   "metadata": {
    "collapsed": true
   },
   "outputs": [],
   "source": [
    "build[tstmp_cols]=em2build[tstmp_cols].apply(lambda x:  pd.to_datetime(x))"
   ]
  },
  {
   "cell_type": "code",
   "execution_count": null,
   "metadata": {
    "collapsed": false
   },
   "outputs": [],
   "source": [
    "panel4, tfold4 = setup_tfolds(build, 4, columns_for_modeling2, tgt_value = 'former',\n",
    "                 time_cols=['Age_years','Tenure_years'], tstmp_cols=tstmp_cols, date_range=full_date_range)\n",
    "   "
   ]
  },
  {
   "cell_type": "markdown",
   "metadata": {},
   "source": [
    "# Now  apply gbc"
   ]
  },
  {
   "cell_type": "code",
   "execution_count": null,
   "metadata": {
    "collapsed": true
   },
   "outputs": [],
   "source": [
    "from sklearn import ensemble, tree, metrics"
   ]
  },
  {
   "cell_type": "code",
   "execution_count": null,
   "metadata": {
    "collapsed": false
   },
   "outputs": [],
   "source": [
    "rmse4,roc_auc4,gbmdl4 = apply_tKfold_CV2('gbc',panel4, tfold4,  cols_to_use = columns_for_modeling2, tgt_column='former',ntrees=500)#['columns_for_modeling'],em2mod['former'],)"
   ]
  },
  {
   "cell_type": "code",
   "execution_count": null,
   "metadata": {
    "collapsed": true
   },
   "outputs": [],
   "source": []
  },
  {
   "cell_type": "code",
   "execution_count": null,
   "metadata": {
    "collapsed": false
   },
   "outputs": [],
   "source": [
    "gbc_eval_pred4class, gbc_eval_pred4proba = evaluate_models(gbmdl4,X4eval)"
   ]
  },
  {
   "cell_type": "code",
   "execution_count": null,
   "metadata": {
    "collapsed": false
   },
   "outputs": [],
   "source": [
    "plot_roc_curve(y4eval,gbc_eval_pred4proba[:,:,:].mean(axis=2))"
   ]
  },
  {
   "cell_type": "code",
   "execution_count": null,
   "metadata": {
    "collapsed": false
   },
   "outputs": [],
   "source": [
    "plot_conf_matrix(y4eval,map(np.int,gbc_eval_pred4class.mean(axis=1)))"
   ]
  },
  {
   "cell_type": "markdown",
   "metadata": {},
   "source": [
    "## build rf model"
   ]
  },
  {
   "cell_type": "code",
   "execution_count": null,
   "metadata": {
    "collapsed": true
   },
   "outputs": [],
   "source": [
    "rmse4rf,roc_auc4rf,rfmdl4 = apply_tKfold_CV2('rfc',panel4, tfold4,  cols_to_use = columns_for_modeling2, tgt_column='former',ntrees=100)#['columns_for_modeling'],em2mod['former'],)"
   ]
  },
  {
   "cell_type": "code",
   "execution_count": null,
   "metadata": {
    "collapsed": true
   },
   "outputs": [],
   "source": [
    "rfc_eval_pred4class, rfc_eval_pred4proba = evaluate_models(rfmdl4,X4eval)"
   ]
  },
  {
   "cell_type": "code",
   "execution_count": null,
   "metadata": {
    "collapsed": false
   },
   "outputs": [],
   "source": [
    "evaluation[tstmp_cols]=em2eval[tstmp_cols].apply(lambda x: pd.to_datetime(x)) # append the tstmp files"
   ]
  },
  {
   "cell_type": "code",
   "execution_count": null,
   "metadata": {
    "collapsed": false
   },
   "outputs": [],
   "source": [
    "X4eval, y4eval =adjust_eval_by_x_years(evaluation,4,columns_for_modeling2)#,tstmp_cols=default_tstmps,target_col='former')"
   ]
  },
  {
   "cell_type": "code",
   "execution_count": null,
   "metadata": {
    "collapsed": false
   },
   "outputs": [],
   "source": [
    "rmse4, rmse4rf"
   ]
  },
  {
   "cell_type": "code",
   "execution_count": null,
   "metadata": {
    "collapsed": false
   },
   "outputs": [],
   "source": [
    "roc_auc4, roc_auc4rf"
   ]
  },
  {
   "cell_type": "code",
   "execution_count": null,
   "metadata": {
    "collapsed": false
   },
   "outputs": [],
   "source": [
    "#plot_roc_curve(y4eval,np.vstack([gbc_eval_pred4class.mean(axis=1), gbc_eval_pred4class.mean(axis=1)]).T)"
   ]
  },
  {
   "cell_type": "code",
   "execution_count": null,
   "metadata": {
    "collapsed": false
   },
   "outputs": [],
   "source": [
    "plot_roc_curve(y4eval,rfc_eval_pred4proba[:,:,:].mean(axis=2))"
   ]
  },
  {
   "cell_type": "markdown",
   "metadata": {},
   "source": [
    "#REPEAT for retirements"
   ]
  },
  {
   "cell_type": "code",
   "execution_count": null,
   "metadata": {
    "collapsed": false
   },
   "outputs": [],
   "source": [
    "Rpanel4, Rtfold4 = setup_tfolds(evaluation,4, columns_for_modeling2, tgt_value = 'retired',\n",
    "                 time_cols=['Age_years','Tenure_years'], tstmp_cols = default_tstmps, date_range=full_date_range)\n",
    "Rrmse4,Rroc_auc4,Rrfmdl4 = apply_tKfold_CV2('rfc',Rpanel4, Rtfold4, cols_to_use = columns_for_modeling2, tgt_column='retired')#['columns_for_modeling'],em2mod['former'],)\n"
   ]
  },
  {
   "cell_type": "code",
   "execution_count": null,
   "metadata": {
    "collapsed": false
   },
   "outputs": [],
   "source": [
    "#float(\n",
    "((today - evaluation[default_tstmps[2]].iloc[0]).days)/365.25"
   ]
  },
  {
   "cell_type": "code",
   "execution_count": null,
   "metadata": {
    "collapsed": false
   },
   "outputs": [],
   "source": [
    "RX4eval, Ry4eval = adjust_eval_by_x_yearsR(evaluation,4,columns_for_modeling2, today,target_col = 'retired')\n",
    "Reval_pred4class,Reval_pred4proba = evaluate_models(Rrfmdl4,RX4eval)\n",
    "plot_roc_curve(Ry4eval,Reval_pred4proba[:,:,:].mean(axis=2))"
   ]
  },
  {
   "cell_type": "markdown",
   "metadata": {},
   "source": [
    "## retry retirements using undersampling"
   ]
  },
  {
   "cell_type": "code",
   "execution_count": null,
   "metadata": {
    "collapsed": false
   },
   "outputs": [],
   "source": [
    "from unbalanced_dataset import UnderSampler, NearMiss, CondensedNearestNeighbour, OneSidedSelection,\\\n",
    "NeighbourhoodCleaningRule, TomekLinks, ClusterCentroids\n",
    "#OverSampler, SMOTE,\\\n",
    "#SMOTETomek, SMOTEENN, EasyEnsemble, BalanceCascade"
   ]
  },
  {
   "cell_type": "markdown",
   "metadata": {},
   "source": [
    "#### count the initial classes"
   ]
  },
  {
   "cell_type": "code",
   "execution_count": null,
   "metadata": {
    "collapsed": true
   },
   "outputs": [],
   "source": [
    "# 'Random under-sampling'\n",
    "US = UnderSampler(ratio=2)"
   ]
  },
  {
   "cell_type": "code",
   "execution_count": null,
   "metadata": {
    "collapsed": true
   },
   "outputs": [],
   "source": [
    "Rpanel4, Rtfold4 = setup_tfolds(evaluation,4, columns_for_modeling2, tgt_value = 'retired',\n",
    "                 time_cols=['Age_years','Tenure_years'], tstmp_cols = default_tstmps, date_range=full_date_range)"
   ]
  },
  {
   "cell_type": "code",
   "execution_count": null,
   "metadata": {
    "collapsed": false
   },
   "outputs": [],
   "source": [
    "print len(Rpanel4)\n",
    "len(Rpanel4[0])"
   ]
  },
  {
   "cell_type": "code",
   "execution_count": null,
   "metadata": {
    "collapsed": false
   },
   "outputs": [],
   "source": [
    "Rpanel4[0].retired.sum()"
   ]
  },
  {
   "cell_type": "code",
   "execution_count": null,
   "metadata": {
    "collapsed": false
   },
   "outputs": [],
   "source": [
    "Rpanel_cols = Rpanel4[0].columns.tolist()\n",
    "Rpanel_cols.remove('retired')\n"
   ]
  },
  {
   "cell_type": "code",
   "execution_count": null,
   "metadata": {
    "collapsed": false
   },
   "outputs": [],
   "source": [
    "usx,usy = US.fit_transform(Rpanel4[0][Rpanel_cols].values, Rpanel4[0]['retired'].values)"
   ]
  },
  {
   "cell_type": "code",
   "execution_count": null,
   "metadata": {
    "collapsed": true
   },
   "outputs": [],
   "source": [
    "usRpanel4[0] = pd.DataFrame(data=usx,columns=Rpanel_cols)\n",
    "usRpanel4[0]['retired']= usy\n"
   ]
  },
  {
   "cell_type": "code",
   "execution_count": null,
   "metadata": {
    "collapsed": false
   },
   "outputs": [],
   "source": [
    "for i in xrange(0,len(Rtfold4)):\n",
    "    print i, len(Rtfold4[i][0]), len(Rtfold4[i][1])"
   ]
  },
  {
   "cell_type": "code",
   "execution_count": null,
   "metadata": {
    "collapsed": false
   },
   "outputs": [],
   "source": [
    "Rpanel4[0].ix[Rtfold4[0][1]].retired.value_counts()"
   ]
  },
  {
   "cell_type": "code",
   "execution_count": null,
   "metadata": {
    "collapsed": false
   },
   "outputs": [],
   "source": [
    "def apply_tKfold_CV2_unBalanced(modeltype, in_panel, tkfolds, cols_to_use, unbalance_mtd='random', tgt_column = 'former', ntrees=100):\n",
    "    \"\"\" Calculate the rmse for each cross-validated temporalFold\n",
    "    \n",
    "    Parameters:\n",
    "        model - a scikit learn model name\n",
    "        in_panel  - a pandas Panel with the observed input data adjusted \n",
    "        tgt_column -- the target variable\n",
    "        cols_to_use -- the input variables to be used in modeling\n",
    "        tkfolds -- the temporal timefolds (list of dimension 2)\n",
    "        unbalance_mtd -- a method of how to deal with imbalanced classes\n",
    "    outputs:\n",
    "        models --> the list of fit models\n",
    "        RMSE --> the rmse error\n",
    "        \n",
    "    \"\"\"\n",
    "    RMSE = []\n",
    "    roc_auc = []\n",
    "    models = []\n",
    "    \n",
    "    \n",
    "    \n",
    "    for fold_id, indices in enumerate(tkfolds):\n",
    "        training = indices[0]\n",
    "        testing = indices[1]\n",
    "        \n",
    "        # 'Random under-sampling'\n",
    "        if unbalance_mtd == 'random':\n",
    "            sampler = UnderSampler(ratio=2)\n",
    "        else:\n",
    "            sampler = NearMiss(version=3)\n",
    "\n",
    "        \n",
    "        #print fold_id, len(training),len(testing)\n",
    "        X_train, X_test = in_panel[fold_id][cols_to_use].ix[training].as_matrix(), in_panel[fold_id][cols_to_use].ix[testing].as_matrix()\n",
    "        y_train, y_test = in_panel[fold_id][tgt_column].ix[training].as_matrix(), in_panel[fold_id][tgt_column].ix[testing].as_matrix()\n",
    "        usXtrain, usytrain = sampler.fit_transform(X_train,y_train)\n",
    "        \n",
    "        if modeltype == 'rfc':\n",
    "            model = ensemble.RandomForestClassifier(n_estimators=ntrees, max_features='auto', oob_score=True)\n",
    "        elif modeltype=='bgc':\n",
    "            model=ensemble.GradientBoostingClassifier(n_estimators=ntrees,max_features='auto')\n",
    "        else:\n",
    "            model=tree.DecisionTreeClassifier()\n",
    "            \n",
    "        # Train the model\n",
    "        print len(usXtrain)\n",
    "        model.fit(usXtrain,usytrain)\n",
    "        \n",
    "        # use the model to predict output\n",
    "        y_fitted = model.predict(X_test)\n",
    "        RMSE.append(np.sqrt(metrics.mean_squared_error(y_test,y_fitted)))\n",
    "        roc_auc.append(metrics.roc_auc_score(y_test,y_fitted))\n",
    "        models.append(model)\n",
    "    # leave the model fit to the entire dataset\n",
    "    #model.fit(in_x,in_y)\n",
    "    \n",
    "    return RMSE,roc_auc,models\n",
    "        "
   ]
  },
  {
   "cell_type": "code",
   "execution_count": null,
   "metadata": {
    "collapsed": false
   },
   "outputs": [],
   "source": [
    "uRrmse4,uRroc_auc4,uRrfmdl4 = apply_tKfold_CV2_unBalanced('rfc',Rpanel4, Rtfold4, cols_to_use = columns_for_modeling2, tgt_column='retired')"
   ]
  },
  {
   "cell_type": "code",
   "execution_count": null,
   "metadata": {
    "collapsed": false
   },
   "outputs": [],
   "source": [
    "#plt.scatter(uRroc_auc4, Rroc_auc4)\n",
    "plt.plot(uRroc_auc4)"
   ]
  },
  {
   "cell_type": "code",
   "execution_count": null,
   "metadata": {
    "collapsed": true
   },
   "outputs": [],
   "source": [
    "def evaluate_models(model_list,Xeval):\n",
    "    eval_pred_class = np.zeros((len(Xeval),len(model_list)))\n",
    "    eval_pred_proba = np.zeros((len(Xeval),2,len(model_list)))\n",
    "\n",
    "    for i,mdl in enumerate(model_list):\n",
    "        eval_proba = mdl.predict_proba(Xeval)\n",
    "        eval_pred_class[:,i]=mdl.predict(Xeval)\n",
    "        eval_pred_proba[:,:,i]=eval_proba\n",
    "    #print np.shape(eval_prediction_proba3)\n",
    "    return eval_pred_class, eval_pred_proba"
   ]
  },
  {
   "cell_type": "code",
   "execution_count": null,
   "metadata": {
    "collapsed": false
   },
   "outputs": [],
   "source": [
    "for a in xrange(0,len(uRrfmdl4)):\n",
    "    plot_roc_curve(Ry4eval,uReval_pred4proba[:,:,a])"
   ]
  },
  {
   "cell_type": "code",
   "execution_count": null,
   "metadata": {
    "collapsed": false
   },
   "outputs": [],
   "source": [
    "plot_roc_curve(Ry4eval,uReval_pred4proba[:,:,9])"
   ]
  },
  {
   "cell_type": "code",
   "execution_count": null,
   "metadata": {
    "collapsed": false
   },
   "outputs": [],
   "source": [
    "uReval_pred4class,uReval_pred4proba = evaluate_models(uRrfmdl4,RX4eval)\n",
    "plot_roc_curve(Ry4eval,uReval_pred4proba[:,:,:].mean(axis=2))"
   ]
  },
  {
   "cell_type": "code",
   "execution_count": null,
   "metadata": {
    "collapsed": false
   },
   "outputs": [],
   "source": [
    "print len(uReval_pred4proba[:,0,9])\n",
    "#len(uReval_pred4class)\n",
    "uReval_pred4class[:,8].sum(), Ry4eval.sum()"
   ]
  },
  {
   "cell_type": "code",
   "execution_count": null,
   "metadata": {
    "collapsed": false
   },
   "outputs": [],
   "source": [
    "uReval_pred4proba[:,:,4]"
   ]
  },
  {
   "cell_type": "code",
   "execution_count": null,
   "metadata": {
    "collapsed": false
   },
   "outputs": [],
   "source": [
    "plot_conf_matrix(Ry4eval,uReval_pred4class[:,7])"
   ]
  },
  {
   "cell_type": "code",
   "execution_count": null,
   "metadata": {
    "collapsed": false
   },
   "outputs": [],
   "source": [
    "#plt.plot(Ry4eval,'o')\n",
    "#plt.plot(uReval_pred4class[:,2],'d')\n",
    "#plt.scatter(Ry4eval,Ry4eval-uReval_pred4class[:,2])\n"
   ]
  },
  {
   "cell_type": "code",
   "execution_count": null,
   "metadata": {
    "collapsed": false
   },
   "outputs": [],
   "source": [
    "\n",
    "#zip(columns_for_modeling2, gbmdl4[0].feature_importances_)"
   ]
  },
  {
   "cell_type": "code",
   "execution_count": null,
   "metadata": {
    "collapsed": false
   },
   "outputs": [],
   "source": [
    "[columns_for_modeling2[a] for a in list(np.where(gbmdl4[1].feature_importances_ > 0.1)[0])]"
   ]
  },
  {
   "cell_type": "code",
   "execution_count": null,
   "metadata": {
    "collapsed": false
   },
   "outputs": [],
   "source": [
    "for i in xrange(0,len(gbmdl4)):\n",
    "    plt.plot(gbmdl4[i].feature_importances_)\n",
    "    \n",
    "#plt.plot(gbmdl4[1].feature_importances_)"
   ]
  },
  {
   "cell_type": "code",
   "execution_count": null,
   "metadata": {
    "collapsed": false
   },
   "outputs": [],
   "source": [
    "X5eval, y5eval = adjust_eval_by_x_years(evaluate,5,columns_for_modeling2)"
   ]
  },
  {
   "cell_type": "code",
   "execution_count": null,
   "metadata": {
    "collapsed": true
   },
   "outputs": [],
   "source": []
  },
  {
   "cell_type": "code",
   "execution_count": null,
   "metadata": {
    "collapsed": false
   },
   "outputs": [],
   "source": [
    "em2[em2.retired==1].Age_years.min()"
   ]
  },
  {
   "cell_type": "code",
   "execution_count": null,
   "metadata": {
    "collapsed": false
   },
   "outputs": [],
   "source": [
    "em2[em2.retired==1].Age_years.hist(bins=40)"
   ]
  },
  {
   "cell_type": "code",
   "execution_count": null,
   "metadata": {
    "collapsed": false
   },
   "outputs": [],
   "source": [
    "len(em2[(em2.retired == 1) & (em2.Age_years < 55)]), len(em2[em2.retired == 1])"
   ]
  },
  {
   "cell_type": "code",
   "execution_count": null,
   "metadata": {
    "collapsed": false
   },
   "outputs": [],
   "source": [
    "em2[(em2.retired == 1) & (em2.Age_years < 55)].Age_years.hist(bins=30)"
   ]
  },
  {
   "cell_type": "code",
   "execution_count": null,
   "metadata": {
    "collapsed": true
   },
   "outputs": [],
   "source": [
    "#save the over50 set\n",
    "over50.to_csv('over50.csv',index=False)"
   ]
  },
  {
   "cell_type": "code",
   "execution_count": null,
   "metadata": {
    "collapsed": false
   },
   "outputs": [],
   "source": [
    "over50.isnull().any()"
   ]
  },
  {
   "cell_type": "code",
   "execution_count": null,
   "metadata": {
    "collapsed": true
   },
   "outputs": [],
   "source": [
    "from sklearn import cross_validation"
   ]
  },
  {
   "cell_type": "code",
   "execution_count": null,
   "metadata": {
    "collapsed": false
   },
   "outputs": [],
   "source": [
    "# repeat the split\n",
    "\n",
    "# break into evaluation and build sets\n",
    "print \"Starting with subset of {0} employees.\".format(len(over50))\n",
    "eval_fraction = 0.20\n",
    "o50build, o50eval = cross_validation.train_test_split(over50,test_size=eval_fraction,random_state = 84)\n",
    "print \"Evaluation set has {0} employees; training set has {1} employees.\".format(len(o50eval),len(o50build))"
   ]
  },
  {
   "cell_type": "code",
   "execution_count": null,
   "metadata": {
    "collapsed": false
   },
   "outputs": [],
   "source": [
    "print over50.retired.value_counts()\n",
    "print \"----\"\n",
    "print o50eval.retired.value_counts()\n",
    "print \"----\"\n",
    "print o50build.retired.value_counts()\n",
    "print \"----\""
   ]
  },
  {
   "cell_type": "code",
   "execution_count": null,
   "metadata": {
    "collapsed": false
   },
   "outputs": [],
   "source": [
    "o50build['JOBCODE'].head()"
   ]
  },
  {
   "cell_type": "code",
   "execution_count": null,
   "metadata": {
    "collapsed": false
   },
   "outputs": [],
   "source": [
    "o50build.columns"
   ]
  },
  {
   "cell_type": "code",
   "execution_count": null,
   "metadata": {
    "collapsed": true
   },
   "outputs": [],
   "source": []
  },
  {
   "cell_type": "code",
   "execution_count": null,
   "metadata": {
    "collapsed": true
   },
   "outputs": [],
   "source": []
  },
  {
   "cell_type": "code",
   "execution_count": null,
   "metadata": {
    "collapsed": false
   },
   "outputs": [],
   "source": [
    "retire_surv_cols1 = ['retired','Age_years','hire_age','SEX','FTE','HAVE_INS','HAVE_DEP']\n",
    "cf.fit(o50build[retire_surv_cols1], 'Age_years', event_col='retired')\n",
    "\n",
    "cf.print_summary()"
   ]
  },
  {
   "cell_type": "code",
   "execution_count": null,
   "metadata": {
    "collapsed": false
   },
   "outputs": [],
   "source": [
    "cf.hazards_"
   ]
  },
  {
   "cell_type": "code",
   "execution_count": null,
   "metadata": {
    "collapsed": false
   },
   "outputs": [],
   "source": [
    "cf.baseline_cumulative_hazard_.plot()"
   ]
  },
  {
   "cell_type": "code",
   "execution_count": null,
   "metadata": {
    "collapsed": false
   },
   "outputs": [],
   "source": [
    "first10pred = cf.predict_survival_function(o50eval[retire_surv_cols1[2:]].iloc[:10].values)"
   ]
  },
  {
   "cell_type": "code",
   "execution_count": null,
   "metadata": {
    "collapsed": false
   },
   "outputs": [],
   "source": [
    "cf_pred = cf.predict_survival_function(o50eval[retire_surv_cols1[2:]].values)\n"
   ]
  },
  {
   "cell_type": "code",
   "execution_count": null,
   "metadata": {
    "collapsed": false
   },
   "outputs": [],
   "source": [
    "first10pred[1].plot()"
   ]
  },
  {
   "cell_type": "code",
   "execution_count": null,
   "metadata": {
    "collapsed": false
   },
   "outputs": [],
   "source": [
    "o50eval[retire_surv_cols1[:2]].head(10)"
   ]
  },
  {
   "cell_type": "code",
   "execution_count": null,
   "metadata": {
    "collapsed": false
   },
   "outputs": [],
   "source": [
    "[first10pred[first10pred[a]<0.5].index[0] for a in xrange(0,10)]"
   ]
  },
  {
   "cell_type": "code",
   "execution_count": null,
   "metadata": {
    "collapsed": true
   },
   "outputs": [],
   "source": [
    "from lifelines import AalenAdditiveFitter\n",
    "aaf = AalenAdditiveFitter(coef_penalizer=1.0, fit_intercept=True)"
   ]
  },
  {
   "cell_type": "code",
   "execution_count": null,
   "metadata": {
    "collapsed": false
   },
   "outputs": [],
   "source": [
    "aaf.fit(o50build[retire_surv_cols1], 'Age_years', event_col='retired')\n"
   ]
  },
  {
   "cell_type": "code",
   "execution_count": null,
   "metadata": {
    "collapsed": false
   },
   "outputs": [],
   "source": [
    "aaf.plot( columns=[ 'hire_age', 'baseline', 'SEX','FTE' ],ix=slice(53,70)) # cumulative hazard"
   ]
  },
  {
   "cell_type": "code",
   "execution_count": null,
   "metadata": {
    "collapsed": false
   },
   "outputs": [],
   "source": [
    "aaf.cumulative_hazards_.ix[:70].plot()"
   ]
  },
  {
   "cell_type": "code",
   "execution_count": null,
   "metadata": {
    "collapsed": false
   },
   "outputs": [],
   "source": [
    "aaf.predict_survival_function(o50eval[retire_surv_cols1[2:]].iloc[:3].values).plot()"
   ]
  },
  {
   "cell_type": "code",
   "execution_count": null,
   "metadata": {
    "collapsed": false
   },
   "outputs": [],
   "source": [
    "aaf.predict_survival_function(o50eval[retire_surv_cols1[2:]].iloc[:10].values).ix[:70].plot()"
   ]
  },
  {
   "cell_type": "markdown",
   "metadata": {},
   "source": [
    "## how to apply this\n",
    "1. take current age, add 1 yr, 2, yr, 3, yr, ,4yr, 5yr and report prob"
   ]
  },
  {
   "cell_type": "code",
   "execution_count": null,
   "metadata": {
    "collapsed": false
   },
   "outputs": [],
   "source": [
    "o50eval[retire_surv_cols1].head()"
   ]
  },
  {
   "cell_type": "code",
   "execution_count": null,
   "metadata": {
    "collapsed": false
   },
   "outputs": [],
   "source": [
    "#ages_to_check = o50eval['Age_years'].apply(lambda x: x+[1.0,2.0,3.0,4.0,5.0])"
   ]
  },
  {
   "cell_type": "code",
   "execution_count": null,
   "metadata": {
    "collapsed": true
   },
   "outputs": [],
   "source": [
    "pred_sf1 = aaf.predict_survival_function(o50eval[retire_surv_cols1[2:]].values)\n",
    "# columns are the indiviuals."
   ]
  },
  {
   "cell_type": "code",
   "execution_count": null,
   "metadata": {
    "collapsed": true
   },
   "outputs": [],
   "source": [
    "pred_sf1.index.name='years'\n",
    "pred_sf1.reset_index(inplace=True)"
   ]
  },
  {
   "cell_type": "code",
   "execution_count": null,
   "metadata": {
    "collapsed": false
   },
   "outputs": [],
   "source": [
    "cf_pred = cf.predict_survival_function(o50eval[retire_surv_cols1[2:]].values)\n",
    "cf_pred.index.name='years'\n",
    "cf_pred.reset_index(inplace=True)"
   ]
  },
  {
   "cell_type": "code",
   "execution_count": null,
   "metadata": {
    "collapsed": false
   },
   "outputs": [],
   "source": [
    "len(pred_sf1.T), len(o50eval)"
   ]
  },
  {
   "cell_type": "code",
   "execution_count": null,
   "metadata": {
    "collapsed": false
   },
   "outputs": [],
   "source": [
    "#cfRetProb.head(), retireProb_df.head()"
   ]
  },
  {
   "cell_type": "code",
   "execution_count": null,
   "metadata": {
    "collapsed": false
   },
   "outputs": [],
   "source": [
    "retireProb_df = get_survival_prediction(o50eval)"
   ]
  },
  {
   "cell_type": "code",
   "execution_count": null,
   "metadata": {
    "collapsed": false
   },
   "outputs": [],
   "source": [
    "pred_o50eval=pd.concat([o50eval[retire_surv_cols1],retireProb_df],axis=1)\n",
    "pred_o50eval_cf = pd.concat([o50eval[retire_surv_cols1],cfRetProb],axis=1)"
   ]
  },
  {
   "cell_type": "code",
   "execution_count": null,
   "metadata": {
    "collapsed": false
   },
   "outputs": [],
   "source": [
    "pred_o50eval.head()"
   ]
  },
  {
   "cell_type": "markdown",
   "metadata": {},
   "source": [
    "## try to assess current age for retired or not"
   ]
  },
  {
   "cell_type": "code",
   "execution_count": null,
   "metadata": {
    "collapsed": false
   },
   "outputs": [],
   "source": [
    "o50eval_curr.Age_years.hist()#tail()#proba_0.describe()\n"
   ]
  },
  {
   "cell_type": "code",
   "execution_count": null,
   "metadata": {
    "collapsed": false
   },
   "outputs": [],
   "source": [
    "o50eval_curr[o50eval_curr.retired==1].proba_0.hist(bins=30,label='retired',normed=True,alpha=0.8)\n",
    "print sum(o50eval_curr.retired==1), sum(o50eval_curr.retired==0)\n",
    "o50eval_curr[o50eval_curr.retired==0].proba_0.hist(bins=30,label='active',normed=True,alpha=0.3)\n",
    "plt.legend()\n",
    "plt.xlabel('Retirement Probability')\n",
    "plt.ylabel('Normed Counts')"
   ]
  },
  {
   "cell_type": "code",
   "execution_count": null,
   "metadata": {
    "collapsed": false
   },
   "outputs": [],
   "source": [
    "CFcurr_retire_age = get_survival_prediction(o50eval,psf=cf_pred,yr_vals=[0])\n",
    "o50eval_curr_cf = pd.concat([o50eval[retire_surv_cols1],CFcurr_retire_age],axis=1)"
   ]
  },
  {
   "cell_type": "markdown",
   "metadata": {
    "collapsed": true
   },
   "source": [
    "## assess the model\n",
    "* define a cutoff in probability and do a count/assessment"
   ]
  },
  {
   "cell_type": "code",
   "execution_count": null,
   "metadata": {
    "collapsed": true
   },
   "outputs": [],
   "source": [
    "def get_accuracy(df,true_col = 'retired', p_col = 'proba_0',thresh=0.5):\n",
    "    ckdf = (df[p_col]>thresh).astype('int')\n",
    "    true_pos = df[ckdf==1][true_col].sum()\n",
    "    false_pos= len(df[ckdf==1])-true_pos\n",
    "    \n",
    "    false_neg=df[ckdf==0][true_col].sum()\n",
    "    true_neg =len(df[ckdf==0]) - false_neg\n",
    "    print \"threshold = {0}\".format(thresh)\n",
    "    print \"TP\\t FP\\t FN\\t TN\"\n",
    "    print true_pos, '\\t',false_pos,'\\t' ,false_neg,'\\t', true_neg\n",
    "    acc = (true_pos + true_neg)/float(len(df))\n",
    "    print \"Accuracy is {0:.3f}\".format(acc)\n",
    "    mcc = (true_pos*true_neg - false_pos*false_neg)/np.sqrt((true_pos+false_pos)*(true_pos+false_neg)*(true_neg+false_pos)*(true_neg+false_neg))\n",
    "    print \"Matthews correlation coefficient is {0:.3f}\".format(mcc)\n",
    "    tpr = true_pos/float(true_pos+false_neg)\n",
    "    fpr = false_pos/float(false_pos + true_neg)\n",
    "    return tpr,fpr"
   ]
  },
  {
   "cell_type": "code",
   "execution_count": null,
   "metadata": {
    "collapsed": false
   },
   "outputs": [],
   "source": [
    "get_accuracy(o50eval_curr,thresh=0.5)"
   ]
  },
  {
   "cell_type": "code",
   "execution_count": null,
   "metadata": {
    "collapsed": false
   },
   "outputs": [],
   "source": [
    "roc_vals = []\n",
    "tvals = np.linspace(0,1,21)#,0.05)#:#xrange(0,1,0.05):\n",
    "for t in tvals:\n",
    "    roc_vals.append(get_accuracy(o50eval_curr,thresh=t))\n",
    "\n",
    "    \n",
    "roc_vals = np.array(roc_vals)\n",
    "#    print i"
   ]
  },
  {
   "cell_type": "code",
   "execution_count": null,
   "metadata": {
    "collapsed": false
   },
   "outputs": [],
   "source": [
    "roc_vals = np.array(roc_vals)\n",
    "plt.plot(roc_vals[:,0],roc_vals[:,1])\n",
    "plt.plot(tvals,tvals,color='k',ls='--')\n",
    "plt.xlabel('FPR')\n",
    "plt.ylabel('TPR')"
   ]
  },
  {
   "cell_type": "code",
   "execution_count": null,
   "metadata": {
    "collapsed": false
   },
   "outputs": [],
   "source": [
    "metrics.auc(roc_vals[:,0],roc_vals[:,1])"
   ]
  },
  {
   "cell_type": "code",
   "execution_count": null,
   "metadata": {
    "collapsed": false
   },
   "outputs": [],
   "source": [
    "roc_vals_cf = []\n",
    "tvals = np.linspace(0,1,21)#,0.05)#:#xrange(0,1,0.05):\n",
    "for t in tvals:\n",
    "    roc_vals_cf.append(get_accuracy(o50eval_curr_cf,thresh=t))\n",
    "\n",
    "    \n",
    "roc_vals_cf = np.array(roc_vals_cf)\n",
    "\n",
    "plt.plot(roc_vals_cf[:,1],roc_vals_cf[:,0])\n",
    "plt.plot(tvals,tvals,color='k',ls='--')\n",
    "plt.xlabel('FPR')\n",
    "plt.ylabel('TPR')\n",
    "plt.title('CoxPH Fitter of eval set')\n",
    "print metrics.auc(roc_vals_cf[:,0],roc_vals_cf[:,1])"
   ]
  },
  {
   "cell_type": "code",
   "execution_count": null,
   "metadata": {
    "collapsed": false
   },
   "outputs": [],
   "source": [
    "plt.plot(roc_vals_cf[:,0],roc_vals_cf[:,1])\n",
    "plt.plot(roc_vals[:,1],roc_vals[:,0])"
   ]
  },
  {
   "cell_type": "code",
   "execution_count": null,
   "metadata": {
    "collapsed": false
   },
   "outputs": [],
   "source": [
    "c02 = (o50eval_curr.proba_0 > 0.2).astype('int')\n",
    "sum(c02 == o50eval_curr.retired), len(o50eval_curr)"
   ]
  },
  {
   "cell_type": "code",
   "execution_count": null,
   "metadata": {
    "collapsed": false
   },
   "outputs": [],
   "source": [
    "o50eval_curr[c02==1].retired.sum(), len(o50eval_curr[c02==1]), o50eval_cur[c02==0].retired.sum()"
   ]
  },
  {
   "cell_type": "code",
   "execution_count": null,
   "metadata": {
    "collapsed": false
   },
   "outputs": [],
   "source": [
    "o50eval[retire_surv_cols1].head(10)"
   ]
  },
  {
   "cell_type": "code",
   "execution_count": null,
   "metadata": {
    "collapsed": false
   },
   "outputs": [],
   "source": [
    "cf_med_survAge = cf.predict(o50eval[retire_surv_cols1[2:]])\n"
   ]
  },
  {
   "cell_type": "code",
   "execution_count": null,
   "metadata": {
    "collapsed": false
   },
   "outputs": [],
   "source": [
    "cf_med_survAge.head()"
   ]
  },
  {
   "cell_type": "code",
   "execution_count": null,
   "metadata": {
    "collapsed": false
   },
   "outputs": [],
   "source": [
    "cf.predict_expectation(o50eval[retire_surv_cols1[2:]].head(10))"
   ]
  },
  {
   "cell_type": "markdown",
   "metadata": {},
   "source": [
    "## apply this model to all current to get workforce retirement predictions"
   ]
  },
  {
   "cell_type": "code",
   "execution_count": null,
   "metadata": {
    "collapsed": true
   },
   "outputs": [],
   "source": [
    "pred_current = aaf.predict_survival_function(all_current[retire_surv_cols1[2:]].values)"
   ]
  },
  {
   "cell_type": "code",
   "execution_count": null,
   "metadata": {
    "collapsed": false
   },
   "outputs": [],
   "source": [
    "pred_current.head()\n",
    "pred_current.index.name='years'\n",
    "pred_current.reset_index(inplace=True)"
   ]
  },
  {
   "cell_type": "code",
   "execution_count": null,
   "metadata": {
    "collapsed": false
   },
   "outputs": [],
   "source": [
    "pred_current[['years',0,1]]"
   ]
  },
  {
   "cell_type": "code",
   "execution_count": null,
   "metadata": {
    "collapsed": false
   },
   "outputs": [],
   "source": [
    "all_current[retire_surv_cols1].head()"
   ]
  },
  {
   "cell_type": "code",
   "execution_count": null,
   "metadata": {
    "collapsed": false
   },
   "outputs": [],
   "source": [
    "all_current[retire_surv_cols1].ix[65080:65093]"
   ]
  },
  {
   "cell_type": "code",
   "execution_count": null,
   "metadata": {
    "collapsed": false,
    "scrolled": false
   },
   "outputs": [],
   "source": [
    "current_retireProb_df = get_survival_prediction(all_current[retire_surv_cols1],psf=pred_current)"
   ]
  },
  {
   "cell_type": "code",
   "execution_count": null,
   "metadata": {
    "collapsed": true
   },
   "outputs": [],
   "source": [
    "current_retireProb_df.head()"
   ]
  },
  {
   "cell_type": "markdown",
   "metadata": {
    "collapsed": true
   },
   "source": [
    "## Create a set that is under 50 for separation modeling\n"
   ]
  },
  {
   "cell_type": "code",
   "execution_count": null,
   "metadata": {
    "collapsed": false
   },
   "outputs": [],
   "source": [
    "under50 = em2[em2.Age_years <= 50].copy()\n",
    "print len(under50)"
   ]
  },
  {
   "cell_type": "code",
   "execution_count": null,
   "metadata": {
    "collapsed": false
   },
   "outputs": [],
   "source": [
    "under50.HAVE_DEP.value_counts()"
   ]
  },
  {
   "cell_type": "code",
   "execution_count": null,
   "metadata": {
    "collapsed": false
   },
   "outputs": [],
   "source": [
    "sep_surv_cols1=['former','Tenure_years','hire_age','SEX','FTE','HAVE_INS','HAVE_DEP','SAL1']"
   ]
  },
  {
   "cell_type": "code",
   "execution_count": null,
   "metadata": {
    "collapsed": false
   },
   "outputs": [],
   "source": [
    "\n",
    "# break into evaluation and build sets\n",
    "print \"Starting with subset of {0} employees.\".format(len(under50))\n",
    "eval_fraction = 0.20\n",
    "u50build, u50eval = cross_validation.train_test_split(under50,test_size=eval_fraction,random_state = 84554)\n",
    "print \"Evaluation set has {0} employees; training set has {1} employees.\".format(len(u50eval),len(u50build))"
   ]
  },
  {
   "cell_type": "code",
   "execution_count": null,
   "metadata": {
    "collapsed": false
   },
   "outputs": [],
   "source": [
    "br.perfect_collinearity_test(u50build[sep_surv_cols1])"
   ]
  },
  {
   "cell_type": "code",
   "execution_count": null,
   "metadata": {
    "collapsed": false
   },
   "outputs": [],
   "source": [
    "cf.fit(u50build[sep_surv_cols1], 'Tenure_years', event_col='former')\n",
    "\n",
    "cf.print_summary()\n",
    "\n"
   ]
  },
  {
   "cell_type": "code",
   "execution_count": null,
   "metadata": {
    "collapsed": false
   },
   "outputs": [],
   "source": [
    "cf.hazards_"
   ]
  },
  {
   "cell_type": "code",
   "execution_count": null,
   "metadata": {
    "collapsed": true
   },
   "outputs": [],
   "source": [
    "sep_cf_pred = cf.predict_survival_function(u50eval[sep_surv_cols1])"
   ]
  },
  {
   "cell_type": "code",
   "execution_count": null,
   "metadata": {
    "collapsed": true
   },
   "outputs": [],
   "source": []
  },
  {
   "cell_type": "markdown",
   "metadata": {
    "collapsed": false
   },
   "source": [
    "## Now transform this panel into an h2o Frame"
   ]
  },
  {
   "cell_type": "code",
   "execution_count": null,
   "metadata": {
    "collapsed": true
   },
   "outputs": [],
   "source": []
  },
  {
   "cell_type": "code",
   "execution_count": null,
   "metadata": {
    "collapsed": false
   },
   "outputs": [],
   "source": [
    "len(panel4), len(tfold4)"
   ]
  },
  {
   "cell_type": "markdown",
   "metadata": {},
   "source": [
    "#### one off \n",
    "* for each mdl in len(panel4):\n",
    "    * train = panel4[mdl].ix[tfold4[mdl][0]]\n",
    "    * test = panel4[mdl].ix[tfold4[mdl][1]]"
   ]
  },
  {
   "cell_type": "code",
   "execution_count": null,
   "metadata": {
    "collapsed": false
   },
   "outputs": [],
   "source": [
    "my_train_df = panel4[0].ix[tfold4[0][0]]\n",
    "my_test_df =  panel4[0].ix[tfold4[0][1]]\n",
    "#train4_0 = h2o.H2OFrame(panel4[0][columns_for_modeling2].ix[tfold4[0][0]])\n",
    "#y4_0 = h2o.H2OFrame(python_obj=panel4[0]['former'].ix[tfold4[0][0]])\n",
    "my_train_df.shape, my_test_df.shape"
   ]
  },
  {
   "cell_type": "code",
   "execution_count": null,
   "metadata": {
    "collapsed": false
   },
   "outputs": [],
   "source": [
    "my_train_df[].shape"
   ]
  },
  {
   "cell_type": "code",
   "execution_count": null,
   "metadata": {
    "collapsed": false
   },
   "outputs": [],
   "source": [
    "h2o_cols = my_train_df.columns.tolist()\n",
    "h2o_cols.remove('fold_mbr')"
   ]
  },
  {
   "cell_type": "code",
   "execution_count": null,
   "metadata": {
    "collapsed": false
   },
   "outputs": [],
   "source": [
    "!mkdir tmp\n",
    "os.chdir('tmp')"
   ]
  },
  {
   "cell_type": "code",
   "execution_count": null,
   "metadata": {
    "collapsed": true
   },
   "outputs": [],
   "source": [
    "my_train_df[h2o_cols].to_csv('my_train.csv',index=False)\n",
    "my_test_df[h2o_cols].to_csv('my_test.csv',index=False)"
   ]
  },
  {
   "cell_type": "code",
   "execution_count": null,
   "metadata": {
    "collapsed": false
   },
   "outputs": [],
   "source": [
    "# dictionary does not preserve the colum order/data\n",
    "#train4_0 = h2o.H2OFrame(python_obj = my_train_df[h2o_cols].to_dict())\n",
    "#test4_0 = h2o.H2OFrame(python_obj = my_test_df[h2o_cols].to_dict())\n",
    "train4_0 = h2o.H2OFrame?"
   ]
  },
  {
   "cell_type": "code",
   "execution_count": null,
   "metadata": {
    "collapsed": false
   },
   "outputs": [],
   "source": [
    "!hdfs dfs -put *.csv /user/kesj/ajH2O_3"
   ]
  },
  {
   "cell_type": "code",
   "execution_count": null,
   "metadata": {
    "collapsed": false
   },
   "outputs": [],
   "source": [
    "train4_0 = h2o.import_file(path = 'hdfs://nameservice1/user/kesj/ajH2O_3/my_train.csv')\n",
    "test4_0 = h2o.import_file(path = 'hdfs://nameservice1/user/kesj/ajH2O_3/my_test.csv')"
   ]
  },
  {
   "cell_type": "code",
   "execution_count": null,
   "metadata": {
    "collapsed": false
   },
   "outputs": [],
   "source": [
    "h2o_gbm_mdl_0 = h2o.gbm(y = \"former\", x = columns_for_modeling2, training_frame = train4_0, validation_frame = test4_0, ntrees = 500 , max_depth = 4, learn_rate=0.1,distribution=\"AUTO\")"
   ]
  },
  {
   "cell_type": "code",
   "execution_count": null,
   "metadata": {
    "collapsed": false
   },
   "outputs": [],
   "source": [
    "h2o_gbm_mdl_0.deepfeatures"
   ]
  },
  {
   "cell_type": "code",
   "execution_count": null,
   "metadata": {
    "collapsed": false
   },
   "outputs": [],
   "source": [
    "gbm_0_vi = pd.DataFrame(data =h2o_gbm_mdl_0.varimp(return_list=True),columns=['variable','relative_importance','scaled_importance','percentage'])\n",
    "gbm_0_vi"
   ]
  },
  {
   "cell_type": "code",
   "execution_count": null,
   "metadata": {
    "collapsed": false
   },
   "outputs": [],
   "source": [
    "gbm_0_vi.percentage.cumsum().plot()"
   ]
  },
  {
   "cell_type": "markdown",
   "metadata": {},
   "source": [
    "## predict on the hold out set\n"
   ]
  },
  {
   "cell_type": "code",
   "execution_count": null,
   "metadata": {
    "collapsed": true
   },
   "outputs": [],
   "source": [
    "default_tstmps = ['birth_tstmp','hire_tstmp','term_tstmp']"
   ]
  },
  {
   "cell_type": "code",
   "execution_count": null,
   "metadata": {
    "collapsed": false
   },
   "outputs": [],
   "source": []
  },
  {
   "cell_type": "code",
   "execution_count": null,
   "metadata": {
    "collapsed": false
   },
   "outputs": [],
   "source": [
    "def adjust_eval_by_x_years(df,year_val,modeling_columns,tstmp_cols=default_tstmps,target_col='former'):\n",
    "    # construct\n",
    "  \n",
    "    ## set up method to assess the eval set\n",
    "    print \"There are {0} elements in the evaluation set\".format(len(df))\n",
    "   \n",
    "    print \"original target variable value counts:\", df[target_col].value_counts()\n",
    "    # restructure to deal with time_frame retirement (target variable)\n",
    "    yr_cut_val = year_val+0.5\n",
    "    # index of those that actually accomplish target within timeframe (allow 0.5 additional years)\n",
    "    eval_within_time_target_index = df[(df[target_col]==1) & (df.Tenure_years <= yr_cut_val)].index\n",
    "    # exclude indices that are active and have tenure less than this time\n",
    "    eval_excluded_index = df[(df[target_col]==0) & (df.Tenure_years  <= yr_cut_val)].index\n",
    "    \n",
    "    # the rest become my not-terminated set\n",
    "    eval_active_index = set(df.index) - set(eval_within_time_target_index) - set(eval_excluded_index)\n",
    "    print len(eval_excluded_index),len(eval_within_time_target_index), len(eval_active_index)\n",
    "    eval_idx_to_use =df.ix[set(df.index)-set(eval_excluded_index)].index\n",
    "    #len(eval_idx_to_use)\n",
    "    # reset the target to 0 for active\n",
    "    eval_new_target = df[target_col].copy()\n",
    "    eval_new_target.ix[eval_active_index] = 0\n",
    "    print \"new target variable value counts: \"\n",
    "    print eval_new_target.ix[eval_idx_to_use].value_counts()\n",
    "    print \"_____\"\n",
    "    y_eval = eval_new_target.ix[eval_idx_to_use].as_matrix().astype(np.int) # true values\n",
    "    eval_adj_tenure = df.ix[eval_idx_to_use].Tenure_years.apply(lambda x: x-year_val if (x>float(year_val)) else 0).values\n",
    "    print len(eval_adj_tenure), len(y_eval)\n",
    "    # now adjust age by length of time; use hire_age if not in set to use.\n",
    "    eval_adj_age = df.ix[eval_idx_to_use].Age_years.apply(lambda x: x-year_val)\n",
    "    hire_age = (df.ix[eval_within_time_target_index]['birth_tstmp']-df.ix[eval_within_time_target_index]['hire_tstmp'])/np.timedelta64(1,'Y')#.days/days_in_year\n",
    "    eval_adj_age.ix[eval_within_time_target_index] = hire_age #df.ix[eval_within_time_target_index]['birth_tstmp'#df_dates['hire_age']\n",
    "    \n",
    "    # construct the evaluation X matrix\n",
    "    print \"input matrix has {0} features\".format(len(modeling_columns))\n",
    "    Xeval = np.zeros((len(eval_idx_to_use),len(modeling_columns)))\n",
    "    # drop 'Age_years' and Tenure_years from the list\n",
    "    cols_to_use = []\n",
    "    cols_to_use+=modeling_columns\n",
    "    cols_to_use.remove('Age_years')\n",
    "    cols_to_use.remove('Tenure_years')#.copy()\n",
    "    \"\"\"\n",
    "    Xeval[:,:-2] = df.ix[eval_idx_to_use][cols_to_use].as_matrix().astype(np.float)\n",
    "    # now put the adjusted tenure and ages into this matrix\n",
    "    Xeval[:,-2] = eval_adj_age.values\n",
    "    Xeval[:,-1]=eval_adj_tenure\n",
    "    #print len(modeling_columns),np.shape(Xeval)\n",
    "    \"\"\"\n",
    "    # this version matches the changed ording of columns\n",
    "    Xeval[:,0]=eval_adj_age.values\n",
    "    Xeval[:,1]=eval_adj_tenure\n",
    "    Xeval[:,2:] = df.ix[eval_idx_to_use][cols_to_use].as_matrix().astype(np.float)\n",
    "    return Xeval, y_eval"
   ]
  },
  {
   "cell_type": "code",
   "execution_count": null,
   "metadata": {
    "collapsed": false
   },
   "outputs": [],
   "source": [
    "eval_dict = {}\n",
    "for idx,feature in enumerate(columns_for_modeling2):\n",
    "    print idx, feature\n",
    "    eval_dict[feature]=list(X4eval[:,idx])\n",
    "    \n",
    "eval_dict['former']=list(y4eval)"
   ]
  },
  {
   "cell_type": "code",
   "execution_count": null,
   "metadata": {
    "collapsed": false
   },
   "outputs": [],
   "source": [
    "eval4_frame = h2o.H2OFrame(python_obj=eval_dict)\n",
    "\n",
    "#h2o_gbm_mdl_0.predict()"
   ]
  },
  {
   "cell_type": "code",
   "execution_count": null,
   "metadata": {
    "collapsed": false
   },
   "outputs": [],
   "source": [
    "eval4_frame.as_data_frame().to_csv('eval_4.csv',index=False)"
   ]
  },
  {
   "cell_type": "code",
   "execution_count": null,
   "metadata": {
    "collapsed": false
   },
   "outputs": [],
   "source": [
    "['former' in eval4_frame.columns]"
   ]
  },
  {
   "cell_type": "code",
   "execution_count": null,
   "metadata": {
    "collapsed": true
   },
   "outputs": [],
   "source": [
    "pred4_0 = h2o_gbm_mdl_0.predict(eval4_frame).as_data_frame()"
   ]
  },
  {
   "cell_type": "code",
   "execution_count": null,
   "metadata": {
    "collapsed": false
   },
   "outputs": [],
   "source": [
    "pred4_0.head()"
   ]
  },
  {
   "cell_type": "code",
   "execution_count": null,
   "metadata": {
    "collapsed": false
   },
   "outputs": [],
   "source": [
    "plt.plot(pred4_0.predict.values,y4eval,'o')"
   ]
  },
  {
   "cell_type": "code",
   "execution_count": null,
   "metadata": {
    "collapsed": false
   },
   "outputs": [],
   "source": [
    "pred4_0.predict.apply(lambda x: np.int(x+0.6)).sum(), sum(y4eval)"
   ]
  },
  {
   "cell_type": "code",
   "execution_count": null,
   "metadata": {
    "collapsed": false
   },
   "outputs": [],
   "source": [
    "np.vstack([pred4_0.predict.values, pred4_0.predict.values])"
   ]
  },
  {
   "cell_type": "code",
   "execution_count": null,
   "metadata": {
    "collapsed": false
   },
   "outputs": [],
   "source": [
    "plot_roc_curve(y4eval,np.vstack([pred4_0.predict.values, pred4_0.predict.values]).T)"
   ]
  },
  {
   "cell_type": "code",
   "execution_count": null,
   "metadata": {
    "collapsed": false
   },
   "outputs": [],
   "source": [
    "h2o.save_model(h2o_gbm_mdl_0,path='hdfs://nameservice1/user/kesj/ajH2O_3/p4_0/')"
   ]
  },
  {
   "cell_type": "markdown",
   "metadata": {},
   "source": [
    "### Let me retry with an actual ENUM for the predictor/response variable"
   ]
  },
  {
   "cell_type": "code",
   "execution_count": null,
   "metadata": {
    "collapsed": false
   },
   "outputs": [],
   "source": [
    "train4_0['former'].describe()"
   ]
  },
  {
   "cell_type": "code",
   "execution_count": null,
   "metadata": {
    "collapsed": false
   },
   "outputs": [],
   "source": [
    "train4_0['former'] =train4_0['former'].asfactor()"
   ]
  },
  {
   "cell_type": "code",
   "execution_count": null,
   "metadata": {
    "collapsed": false
   },
   "outputs": [],
   "source": [
    "h2o_gbm_mdl_b0 = h2o.gbm(y = \"former\", x = columns_for_modeling2, training_frame = train4_0, validation_frame = test4_0, ntrees = 500 , max_depth = 4, learn_rate=0.1,distribution=\"bernoulli\")"
   ]
  },
  {
   "cell_type": "code",
   "execution_count": null,
   "metadata": {
    "collapsed": true
   },
   "outputs": [],
   "source": [
    "#h2o_gbm_mdl_b0\n",
    "pred4_b0 = h2o_gbm_mdl_b0.predict(eval4_frame).as_data_frame()"
   ]
  },
  {
   "cell_type": "code",
   "execution_count": null,
   "metadata": {
    "collapsed": false
   },
   "outputs": [],
   "source": [
    "print pred4_b0.predict.sum()\n",
    "pred4_b0.head()"
   ]
  },
  {
   "cell_type": "code",
   "execution_count": null,
   "metadata": {
    "collapsed": false
   },
   "outputs": [],
   "source": [
    "h2o.save_model(h2o_gbm_mdl_b0,path='hdfs://nameservice1/user/kesj/ajH2O_3/p4_b0/')"
   ]
  },
  {
   "cell_type": "code",
   "execution_count": null,
   "metadata": {
    "collapsed": true
   },
   "outputs": [],
   "source": []
  },
  {
   "cell_type": "code",
   "execution_count": null,
   "metadata": {
    "collapsed": true
   },
   "outputs": [],
   "source": [
    "from sklearn import metrics\n",
    "def plot_conf_matrix(y_true,y_pred,normed=True,**kwargs):\n",
    "    my_c = metrics.confusion_matrix(y_true,y_pred)\n",
    "    \n",
    "    print metrics.matthews_corrcoef(y_true,y_pred)\n",
    "    if normed:\n",
    "        cm_normalized = my_c.astype('float') / my_c.sum(axis=1)[:, np.newaxis]\n",
    "        my_c = cm_normalized\n",
    "        plt.title('Normalized RF Classifier Confusion Matrix')\n",
    "    else:\n",
    "        plt.title('Random Forest Classifier Confusion Matrix')\n",
    "        \n",
    "    sns.heatmap(my_c, annot=True,  fmt='',cmap='Blues')\n",
    "    plt.ylabel('True')\n",
    "    #plt.yticks\n",
    "    plt.xlabel('Assigned')\n",
    "    plt.show()\n",
    "    \n",
    "    return\n",
    "\n",
    "def plot_roc_curve(target_test, target_predicted_proba):\n",
    "    fpr, tpr, thresholds = metrics.roc_curve(target_test, target_predicted_proba[:, 1])\n",
    "    \n",
    "    roc_auc = metrics.auc(fpr, tpr)\n",
    "    # Plot ROC curve\n",
    "    plt.plot(fpr, tpr, label='ROC curve (area = %0.3f)' % roc_auc)\n",
    "    plt.plot([0, 1], [0, 1], 'k--')  # random predictions curve\n",
    "    plt.xlim([0.0, 1.0])\n",
    "    plt.ylim([0.0, 1.0])\n",
    "    plt.xlabel('False Positive Rate or (1 - Specifity)')\n",
    "    plt.ylabel('True Positive Rate or (Sensitivity)')\n",
    "    plt.title('Receiver Operating Characteristic')\n",
    "    plt.legend(loc=\"lower right\")\n",
    "    return roc_auc"
   ]
  },
  {
   "cell_type": "code",
   "execution_count": null,
   "metadata": {
    "collapsed": false
   },
   "outputs": [],
   "source": [
    "plot_conf_matrix(y4eval,pred4_b0.predict.values)\n"
   ]
  },
  {
   "cell_type": "code",
   "execution_count": null,
   "metadata": {
    "collapsed": true
   },
   "outputs": [],
   "source": [
    "def plot_roc_curve(target_test, target_predicted_proba):\n",
    "    fpr, tpr, thresholds = metrics.roc_curve(target_test, target_predicted_proba[:, 1])\n",
    "    \n",
    "    roc_auc = metrics.auc(fpr, tpr)\n",
    "    # Plot ROC curve\n",
    "    plt.plot(fpr, tpr, label='ROC curve (area = %0.3f)' % roc_auc)\n",
    "    plt.plot([0, 1], [0, 1], 'k--')  # random predictions curve\n",
    "    plt.xlim([0.0, 1.0])\n",
    "    plt.ylim([0.0, 1.0])\n",
    "    plt.xlabel('False Positive Rate or (1 - Specifity)')\n",
    "    plt.ylabel('True Positive Rate or (Sensitivity)')\n",
    "    plt.title('Receiver Operating Characteristic')\n",
    "    plt.legend(loc=\"lower right\")\n",
    "    return roc_auc"
   ]
  },
  {
   "cell_type": "code",
   "execution_count": null,
   "metadata": {
    "collapsed": false
   },
   "outputs": [],
   "source": [
    "tmp_pred = pred4_b0['p0'].copy()\n",
    "tmp_pred.ix[pred4_b0[pred4_b0.predict==0].index] = pred4_b0.ix[pred4_b0[pred4_b0.predict==0].index]['p1']"
   ]
  },
  {
   "cell_type": "code",
   "execution_count": null,
   "metadata": {
    "collapsed": false
   },
   "outputs": [],
   "source": [
    "pred4_b0[pred4_b0.predict==0]"
   ]
  },
  {
   "cell_type": "code",
   "execution_count": null,
   "metadata": {
    "collapsed": false
   },
   "outputs": [],
   "source": [
    "plt.scatter(pred4_b0.p0.values,tmp_pred.values)"
   ]
  },
  {
   "cell_type": "code",
   "execution_count": null,
   "metadata": {
    "collapsed": false
   },
   "outputs": [],
   "source": [
    "#tmp_pred.values\n",
    "plot_roc_curve(y4eval,np.vstack([1-tmp_pred.values, tmp_pred.values]).T)"
   ]
  },
  {
   "cell_type": "code",
   "execution_count": null,
   "metadata": {
    "collapsed": false
   },
   "outputs": [],
   "source": [
    "plot_roc_curve(y4eval, pred4_b0[['p0','p1']].as_matrix())"
   ]
  },
  {
   "cell_type": "code",
   "execution_count": null,
   "metadata": {
    "collapsed": true
   },
   "outputs": [],
   "source": [
    "plot_roc_curve(y4eval, pred4_b0[['p0','p1']].as_matrix())"
   ]
  },
  {
   "cell_type": "code",
   "execution_count": null,
   "metadata": {
    "collapsed": false
   },
   "outputs": [],
   "source": [
    "h2o_gbm_mdl_b0.varimp(return_list=True)"
   ]
  },
  {
   "cell_type": "markdown",
   "metadata": {},
   "source": [
    "### Eport the POJO to a local directory space"
   ]
  },
  {
   "cell_type": "code",
   "execution_count": null,
   "metadata": {
    "collapsed": true
   },
   "outputs": [],
   "source": [
    "dest_dir = '/home/kesj/work/hrsepara/proc/h2o/gbm_4yr_sep_b0/'\n",
    "os.chdir(dest_dir)"
   ]
  },
  {
   "cell_type": "code",
   "execution_count": null,
   "metadata": {
    "collapsed": false
   },
   "outputs": [],
   "source": [
    "!curl http://sfda74wbdn03.opr.statefarm.org:54321/3/h2o-genmodel.jar > h2o-genmodel.jar"
   ]
  },
  {
   "cell_type": "code",
   "execution_count": null,
   "metadata": {
    "collapsed": false
   },
   "outputs": [],
   "source": [
    "!curl http://sfda74wbdn03.opr.statefarm.org:54321/3/Models.java/GBM_model_python_1444141461056_19 > GBM_model_python_1444141461056_19.java\n"
   ]
  },
  {
   "cell_type": "code",
   "execution_count": null,
   "metadata": {
    "collapsed": false
   },
   "outputs": [],
   "source": [
    "#!javac -cp h2o-genmodel.jar -J-Xmx2g -J-XX:MaxPermSize=128m GBM_model_python_1444141461056_19.java"
   ]
  },
  {
   "cell_type": "markdown",
   "metadata": {},
   "source": [
    "### write a function to apply this each fold in a panel"
   ]
  },
  {
   "cell_type": "code",
   "execution_count": null,
   "metadata": {
    "collapsed": true
   },
   "outputs": [],
   "source": []
  },
  {
   "cell_type": "code",
   "execution_count": null,
   "metadata": {
    "collapsed": true
   },
   "outputs": [],
   "source": []
  },
  {
   "cell_type": "code",
   "execution_count": null,
   "metadata": {
    "collapsed": true
   },
   "outputs": [],
   "source": []
  },
  {
   "cell_type": "code",
   "execution_count": null,
   "metadata": {
    "collapsed": false
   },
   "outputs": [],
   "source": [
    "rmse4,roc_auc4,gbc_mdl4 = apply_tKfold_CV2('gbc',panel4, tfold4,  cols_to_use = columns_for_modeling3, tgt_column='former',ntrees=500)#['columns_for_modeling'],em2mod['former'],)"
   ]
  },
  {
   "cell_type": "code",
   "execution_count": null,
   "metadata": {
    "collapsed": false
   },
   "outputs": [],
   "source": [
    "#h2o.H2ODisplay(python_obj= list(\n",
    "panel4[0].ix[tfold4[0][0]].as_matrix()"
   ]
  },
  {
   "cell_type": "markdown",
   "metadata": {},
   "source": [
    "## Create a set of all the current employees \n",
    "### October 28, 2015"
   ]
  },
  {
   "cell_type": "code",
   "execution_count": null,
   "metadata": {
    "collapsed": false
   },
   "outputs": [],
   "source": [
    "raw2002 = pd.read_csv('../eda/employees_after2001_raw.csv',dtype={'KEY':np.str})"
   ]
  },
  {
   "cell_type": "code",
   "execution_count": null,
   "metadata": {
    "collapsed": false
   },
   "outputs": [],
   "source": [
    "len(raw2002),len(em2)"
   ]
  },
  {
   "cell_type": "code",
   "execution_count": null,
   "metadata": {
    "collapsed": false
   },
   "outputs": [],
   "source": [
    "# look at the list of ACTRES1 for  ReTIREMENT\n",
    "uniq_action_reasons_1 = raw2002.ACTRES1.unique()\n",
    "print len(uniq_action_reasons_1)\n",
    "temp_list = [str(x).split(';') for x in uniq_action_reasons_1]\n",
    "from itertools import chain\n",
    "act_reason_1_list = list(chain.from_iterable(temp_list))\n",
    "print len(act_reason_1_list)\n",
    "act_reason_1_set = set(act_reason_1_list)\n",
    "print len(act_reason_1_set)\n",
    "possible_retire_codes = [x for x in act_reason_1_set if ('RET' in x and  'RETURN' not in x) ]\n",
    "possible_retire_codes.append('DISABILITY')\n",
    "len(possible_retire_codes)\n",
    "possible_retire_codes.sort()\n",
    "\n"
   ]
  },
  {
   "cell_type": "code",
   "execution_count": null,
   "metadata": {
    "collapsed": true
   },
   "outputs": [],
   "source": [
    "def identify_retired(x,ret_codes =possible_retire_codes):\n",
    "    try:\n",
    "        matched = [a for a in x.split(';') if a in ret_codes]\n",
    "        if len(matched):\n",
    "            return 1\n",
    "        else:\n",
    "            return 0\n",
    "    except AttributeError:\n",
    "        return 0"
   ]
  },
  {
   "cell_type": "code",
   "execution_count": null,
   "metadata": {
    "collapsed": true
   },
   "outputs": [],
   "source": [
    "raw2002['retired'] = raw2002.ACTRES1.apply(lambda x: identify_retired(x))"
   ]
  },
  {
   "cell_type": "markdown",
   "metadata": {},
   "source": [
    "## remove the one case where it is retired but not separated"
   ]
  },
  {
   "cell_type": "code",
   "execution_count": null,
   "metadata": {
    "collapsed": false
   },
   "outputs": [],
   "source": [
    "print len(raw2002[~((raw2002.status == 0)& (raw2002.retired == 1))])\n",
    "raw2002 = raw2002[~((raw2002.status == 0)& (raw2002.retired == 1))]\n",
    "print len(raw2002), len(em2)"
   ]
  },
  {
   "cell_type": "code",
   "execution_count": null,
   "metadata": {
    "collapsed": false
   },
   "outputs": [],
   "source": [
    "raw2002[web_cols_to_keep].head()"
   ]
  },
  {
   "cell_type": "code",
   "execution_count": null,
   "metadata": {
    "collapsed": true
   },
   "outputs": [],
   "source": [
    "em2['KEY']=raw2002['KEY']\n"
   ]
  },
  {
   "cell_type": "code",
   "execution_count": null,
   "metadata": {
    "collapsed": true
   },
   "outputs": [],
   "source": [
    "web_cols_to_keep = ['KEY', 'HIRE_DT', 'BIRTHDATE', 'SAL1', 'MERIT1', 'PERF1', 'BOX1', 'SEX', 'HAVE_INS', 'HAVE_DEP']\n"
   ]
  },
  {
   "cell_type": "code",
   "execution_count": null,
   "metadata": {
    "collapsed": false
   },
   "outputs": [],
   "source": [
    "em2[['HIRE_DT','BIRTHDATE']]= raw2002[['HIRE_DT','BIRTHDATE']]#web_cols_to_keep].head()"
   ]
  },
  {
   "cell_type": "code",
   "execution_count": null,
   "metadata": {
    "collapsed": false
   },
   "outputs": [],
   "source": [
    "em2[web_cols_to_keep].isnull().any()"
   ]
  },
  {
   "cell_type": "code",
   "execution_count": null,
   "metadata": {
    "collapsed": false
   },
   "outputs": [],
   "source": [
    "all_current = raw2002[raw2002.status==0].copy()\n",
    "print \"there are {0} current employees\".format(len(all_current))\n",
    "#all_current.to_csv('current_employees.csv',index=False)"
   ]
  },
  {
   "cell_type": "code",
   "execution_count": null,
   "metadata": {
    "collapsed": false
   },
   "outputs": [],
   "source": [
    "all_current[web_cols_to_keep].isnull().any()"
   ]
  },
  {
   "cell_type": "code",
   "execution_count": null,
   "metadata": {
    "collapsed": false
   },
   "outputs": [],
   "source": [
    "all_current[['HAVE_INS','HAVE_DEP']]=all_current[['HAVE_INS','HAVE_DEP']].fillna('N').copy()\n",
    "all_current[web_cols_to_keep].isnull().any()"
   ]
  },
  {
   "cell_type": "code",
   "execution_count": null,
   "metadata": {
    "collapsed": true
   },
   "outputs": [],
   "source": []
  },
  {
   "cell_type": "code",
   "execution_count": null,
   "metadata": {
    "collapsed": true
   },
   "outputs": [],
   "source": [
    "all_current[web_cols_to_keep].to_csv('../../../lib/repo/hrseparation/web_app/uploads/current.ssv',index=False,sep=';')"
   ]
  },
  {
   "cell_type": "code",
   "execution_count": null,
   "metadata": {
    "collapsed": true
   },
   "outputs": [],
   "source": []
  },
  {
   "cell_type": "code",
   "execution_count": null,
   "metadata": {
    "collapsed": false
   },
   "outputs": [],
   "source": [
    "print \"For retirement:\"\n",
    "print \"training set:\\t\",\n",
    "print em2.retired.value_counts()/len(em2)\n",
    "print \"evaluation set:\\t\",\n",
    "print em2eval.retired.value_counts()/len(em2eval)\n",
    "print \"For Separation\"\n",
    "print \"training set:\\t\",\n",
    "print em2.former.value_counts()/len(em2)\n",
    "print \"evaluation set:\\t\",\n",
    "print em2eval.former.value_counts()/len(em2eval)\n"
   ]
  },
  {
   "cell_type": "markdown",
   "metadata": {},
   "source": [
    "## CREATE a Test-train split from this dataset\n"
   ]
  },
  {
   "cell_type": "code",
   "execution_count": null,
   "metadata": {
    "collapsed": false
   },
   "outputs": [],
   "source": [
    "list_of_indices = list(range(em2002.KEY.nunique()))\n",
    "print len(list_of_indices )\n",
    "random.seed(823321)\n",
    "#new_indices = [x for x in random.shuffle(list_of_indices)\n",
    "random.shuffle(list_of_indices)#, len(list_of_indices))\n",
    "em2002.index = list_of_indices # note that random.shuffle does this shuffling inplace\n",
    "em2002.sort_index(inplace=True)\n",
    "em2002.head()"
   ]
  },
  {
   "cell_type": "markdown",
   "metadata": {},
   "source": [
    "## what are the columns included?\n",
    "* examine building a model/models with minimal_input_col_list:\n",
    "    - minimal_input_col_list = ['KEY','HIRE_DT','BIRTHDATE','SAL1','HAVE_INS','HAVE_DEP','EMPL_TYPE','SEX', 'MAX_RT_ANNUAL','MIN_RT_ANNUAL','PERF1','MERIT1','BOX1','INTERN','HUBIND']\n",
    "* calculate Age_years & Tenure_years for each --> FeatureUnion\n",
    "\n",
    "## October -- making this bigger\n",
    "* go back to version 1.1 to see if I can construct the pipeline again\n"
   ]
  },
  {
   "cell_type": "code",
   "execution_count": null,
   "metadata": {
    "collapsed": true
   },
   "outputs": [],
   "source": []
  },
  {
   "cell_type": "markdown",
   "metadata": {},
   "source": [
    "### now deal with the columns used for modeling here\n"
   ]
  },
  {
   "cell_type": "code",
   "execution_count": null,
   "metadata": {
    "collapsed": true
   },
   "outputs": [],
   "source": [
    " = ['Age_years','Tenure_years','SAL1','MERIT1','PERF1','BOX1','SEX','HAVE_INS','HAVE_DEP']\n"
   ]
  },
  {
   "cell_type": "code",
   "execution_count": null,
   "metadata": {
    "collapsed": true
   },
   "outputs": [],
   "source": [
    "from sklearn import cross_validation"
   ]
  },
  {
   "cell_type": "code",
   "execution_count": null,
   "metadata": {
    "collapsed": false
   },
   "outputs": [],
   "source": [
    "# repeat the split\n",
    "# break into evaluation and build sets\n",
    "print \"Starting with subest of {0} employees.\".format(len(em2002))\n",
    "eval_fraction = 0.20\n",
    "em2, em2eval = cross_validation.train_test_split(em2002,test_size=eval_fraction)\n",
    "print \"Evaluation set has {0} employees; training set has {1} employees.\".format(len(em2eval),len(em2))"
   ]
  },
  {
   "cell_type": "code",
   "execution_count": null,
   "metadata": {
    "collapsed": true
   },
   "outputs": [],
   "source": [
    "em2_tgt_retired = em2.retired\n",
    "em2_tgt_former = em2.former\n",
    "eval_tgt_retired = em2eval.retired\n",
    "eval_tgt_former = em2eval.former"
   ]
  },
  {
   "cell_type": "markdown",
   "metadata": {},
   "source": [
    "### in an __ad hoc__ way convert these columns based upon our previous 'rules'"
   ]
  },
  {
   "cell_type": "code",
   "execution_count": null,
   "metadata": {
    "collapsed": true
   },
   "outputs": [],
   "source": [
    "other_required_cols = ['hire_tstmp','term_tstmp','birth_tstmp','former','retired']\n",
    "cols_for_model_prep = []\n",
    "cols_for_model_prep+=other_required_cols\n",
    "cols_for_model_prep+=columns_for_modeling\n"
   ]
  },
  {
   "cell_type": "code",
   "execution_count": null,
   "metadata": {
    "collapsed": false
   },
   "outputs": [],
   "source": [
    "# replace the Y with 1 and N with 0, M with 1 and F with 0\n",
    "def apply_preprocess_small(df,cols_to_use =[]):\n",
    "    empl=df[cols_to_use].copy()\n",
    "    #all_cols = empl.columns.tolist()\n",
    "    empl['SEX'].replace({'M':1,'F':0},inplace=True)\n",
    "    empl[['HAVE_INS','HAVE_DEP']]=empl[['HAVE_INS','HAVE_DEP']].replace({'Y':1,'N':0}).copy()\n",
    "    empl['BOX1']=empl['BOX1'].replace({'H':3,'S':2,'L':1}).copy()\n",
    "    \n",
    "    # now deal with ints\n",
    "    \n",
    "    # fix the dollar amounts\n",
    "    min_sal1 = 17621.76 #(based upon training set I have: 5 %tile cut off)\n",
    "    min_min_rt_ann = 17900. # same as above\n",
    "    min_max_rt_ann = 33155.70\n",
    "\n",
    "    max_max_rt_ann = 133068.91\n",
    "    min_merit1 = 0.0\n",
    "    min_perf1 = 0.0\n",
    "    fix_min_outlier_col_dict = {'SAL1': min_sal1, 'MERIT1': min_merit1, 'PERF1': min_perf1}\n",
    "    fix_max_outlier_col_dict = {'MAX_RT_ANNUAL': max_max_rt_ann}\n",
    "\n",
    "    # replae these values\n",
    "    for key,value in fix_min_outlier_col_dict.iteritems():\n",
    "        idx_to_replace = empl[empl[key]<value].index\n",
    "        empl.loc[idx_to_replace,key]=value\n",
    "    \n",
    "    # now fill in missing with zero\n",
    "    empl.fillna(0,inplace=True)\n",
    "        \n",
    "        \n",
    "    return empl"
   ]
  },
  {
   "cell_type": "code",
   "execution_count": null,
   "metadata": {
    "collapsed": false
   },
   "outputs": [],
   "source": [
    "em2[cols_for_model_prep].head()"
   ]
  },
  {
   "cell_type": "markdown",
   "metadata": {},
   "source": [
    "## so I want to use columns_for_modeling:\n",
    "['Age_years',\n",
    " 'Tenure_years',\n",
    " 'SAL1',\n",
    " 'MERIT1',\n",
    " 'PERF1',\n",
    " 'BOX1',\n",
    " 'SEX',\n",
    " 'HAVE_INS',\n",
    " 'HAVE_DEP']\n",
    "for my model building"
   ]
  },
  {
   "cell_type": "code",
   "execution_count": null,
   "metadata": {
    "collapsed": false
   },
   "outputs": [],
   "source": [
    "len(columns_for_modeling)"
   ]
  },
  {
   "cell_type": "code",
   "execution_count": null,
   "metadata": {
    "collapsed": false
   },
   "outputs": [],
   "source": [
    "kf,fp = create_temporal_kfolds(em2mod,full_date_range,5)\n",
    "len(kf),len(fp)"
   ]
  },
  {
   "cell_type": "code",
   "execution_count": null,
   "metadata": {
    "collapsed": false
   },
   "outputs": [],
   "source": [
    "len(kf[0][0]), len(kf[0][1]), fp[0]"
   ]
  },
  {
   "cell_type": "code",
   "execution_count": null,
   "metadata": {
    "collapsed": false
   },
   "outputs": [],
   "source": [
    "i = 0\n",
    "start_date = fp[i][0]\n",
    "end_date = fp[i][1]\n",
    "in_fold_idx=kf[i][0]\n",
    "target_col= 'former'\n",
    "cols_to_copy = ['SEX','Age_years','Tenure_years']\n",
    "cols_to_copy.append(target_col)\n",
    "cols_to_copy"
   ]
  },
  {
   "cell_type": "code",
   "execution_count": null,
   "metadata": {
    "collapsed": false
   },
   "outputs": [],
   "source": [
    "altered_fold_df = em2mod[cols_to_copy].copy()\n",
    "        # adjust these\n",
    "altered_fold_df.columns=['fold_mbr','adj_age','adj_tenure','adj_tgt']\n",
    "altered_fold_df.fold_mbr = 0\n",
    "adj_df =reset_years2(fp[i],in_fold_idx,em2mod)\n",
    "altered_fold_df.head()"
   ]
  },
  {
   "cell_type": "code",
   "execution_count": null,
   "metadata": {
    "collapsed": false
   },
   "outputs": [],
   "source": [
    "altered_fold_df.loc[in_fold_idx,['adj_age','adj_tenure']]= adj_df.ix[in_fold_idx]\n",
    "altered_fold_df.head()"
   ]
  },
  {
   "cell_type": "code",
   "execution_count": null,
   "metadata": {
    "collapsed": false
   },
   "outputs": [],
   "source": [
    "mypanel5 = define_target_within_x_years(em2mod,fp,kf,5,'former')"
   ]
  },
  {
   "cell_type": "code",
   "execution_count": null,
   "metadata": {
    "collapsed": false
   },
   "outputs": [],
   "source": [
    "mypanel5"
   ]
  },
  {
   "cell_type": "code",
   "execution_count": null,
   "metadata": {
    "collapsed": false
   },
   "outputs": [],
   "source": [
    "mypanel5[0].ix[kf[0][1]]"
   ]
  },
  {
   "cell_type": "code",
   "execution_count": null,
   "metadata": {
    "collapsed": false
   },
   "outputs": [],
   "source": [
    "fp"
   ]
  },
  {
   "cell_type": "code",
   "execution_count": null,
   "metadata": {
    "collapsed": false
   },
   "outputs": [],
   "source": [
    "columns_for_modeling"
   ]
  },
  {
   "cell_type": "code",
   "execution_count": null,
   "metadata": {
    "collapsed": false
   },
   "outputs": [],
   "source": [
    "print columns_for_modeling[2:]\n",
    "X5fold = np.zeros((len(em2mod),len(columns_for_modeling),len(kf)))\n",
    "y5fold = []\n",
    "for i in xrange(0,len(kf)):\n",
    "    X5fold[:,:-2,i]=em2mod[columns_for_modeling[2:]].as_matrix().astype(np.float)\n",
    "    X5fold[:,-2:,i]=mypanel5[i][['adj_age','adj_tenure']]\n",
    "    my_y=mypanel5[i][['adj_tgt']].as_matrix().astype(np.int)\n",
    "    y5fold.append(my_y)"
   ]
  },
  {
   "cell_type": "code",
   "execution_count": null,
   "metadata": {
    "collapsed": true
   },
   "outputs": [],
   "source": [
    "evalmod = apply_preprocess_small(em2eval,cols_for_model_prep)"
   ]
  },
  {
   "cell_type": "code",
   "execution_count": null,
   "metadata": {
    "collapsed": false
   },
   "outputs": [],
   "source": [
    "## now apply each model to my eval set\n",
    "def evaluate_models(model_list,Xeval):\n",
    "    eval_pred_class = np.zeros((len(Xeval),len(model_list)))\n",
    "    eval_pred_proba = np.zeros((len(Xeval),2,len(model_list)))\n",
    "\n",
    "    for i,mdl in enumerate(model_list):\n",
    "        eval_proba = mdl.predict_proba(Xeval)\n",
    "        eval_pred_class[:,i]=mdl.predict(Xeval)\n",
    "        eval_pred_proba[:,:,i]=eval_proba\n",
    "    #print np.shape(eval_prediction_proba3)\n",
    "    return eval_pred_class, eval_pred_proba"
   ]
  },
  {
   "cell_type": "markdown",
   "metadata": {
    "collapsed": true
   },
   "source": [
    "## Reworking this\n",
    "1. preprocess the test data \n",
    "    0. transform all to numbers and fill in missing (```apply_preprocess_small```)\n",
    "    1. define the time_range\n",
    "    2. define the time fields (both timestamps and temporally dependent columns)\n",
    "        1. default_tstmps\n",
    "        2. _years columns: Age_years & Tenure_years\n",
    "    3. define the columns to use (for modeling)\n",
    "2. setup_tfold_models\n",
    "    * create_temporal_kfolds\n",
    "    * define_target_within_x_years\n",
    "    * \n",
    "    "
   ]
  },
  {
   "cell_type": "code",
   "execution_count": null,
   "metadata": {
    "collapsed": false
   },
   "outputs": [],
   "source": [
    "len(kf)"
   ]
  },
  {
   "cell_type": "code",
   "execution_count": null,
   "metadata": {
    "collapsed": true
   },
   "outputs": [],
   "source": [
    "contrary_case = []\n",
    "contrary_case += default_tstmps \n",
    "contrary_case.append('jobchg_tstmp')\n"
   ]
  },
  {
   "cell_type": "code",
   "execution_count": null,
   "metadata": {
    "collapsed": false
   },
   "outputs": [],
   "source": [
    "if [a for a in default_tstmps if a in em2mod.columns] == default_tstmps"
   ]
  },
  {
   "cell_type": "code",
   "execution_count": null,
   "metadata": {
    "collapsed": false
   },
   "outputs": [],
   "source": [
    "if not [a for a in contrary_case if a in em2mod.columns] == contrary_case:\n",
    "    print \"some columns in contrary_case are missing.\""
   ]
  },
  {
   "cell_type": "code",
   "execution_count": null,
   "metadata": {
    "collapsed": true
   },
   "outputs": [],
   "source": []
  },
  {
   "cell_type": "code",
   "execution_count": null,
   "metadata": {
    "collapsed": false
   },
   "outputs": [],
   "source": [
    "pan1 = transform_df_to_tfold(em2mod,kf,fp,5,columns_for_modeling,'former',default_tstmps,['Age_years','Tenure_years'])\n",
    "                      \n",
    "    "
   ]
  },
  {
   "cell_type": "code",
   "execution_count": null,
   "metadata": {
    "collapsed": false,
    "scrolled": true
   },
   "outputs": [],
   "source": [
    "pan1.items\n"
   ]
  },
  {
   "cell_type": "code",
   "execution_count": null,
   "metadata": {
    "collapsed": false
   },
   "outputs": [],
   "source": [
    "[sum(pan1[a].former.isnull()) for a in xrange(0,len(pan1.items.tolist()))]"
   ]
  },
  {
   "cell_type": "code",
   "execution_count": null,
   "metadata": {
    "collapsed": false
   },
   "outputs": [],
   "source": [
    "pan1[8].head()"
   ]
  },
  {
   "cell_type": "code",
   "execution_count": null,
   "metadata": {
    "collapsed": false
   },
   "outputs": [],
   "source": [
    "pan1[0].head()"
   ]
  },
  {
   "cell_type": "code",
   "execution_count": null,
   "metadata": {
    "collapsed": false
   },
   "outputs": [],
   "source": [
    "em2mod.head()"
   ]
  },
  {
   "cell_type": "code",
   "execution_count": null,
   "metadata": {
    "collapsed": false
   },
   "outputs": [],
   "source": [
    "sum(pan1[0].former.isnull()), len(kf[0][1]), len(kf[0][0])"
   ]
  },
  {
   "cell_type": "markdown",
   "metadata": {},
   "source": [
    "## 10/01/15\n",
    "try gradient boosted classifier"
   ]
  },
  {
   "cell_type": "code",
   "execution_count": null,
   "metadata": {
    "collapsed": false
   },
   "outputs": [],
   "source": [
    "rmse5,roc_auc5,rfmdl5 = apply_tKfold_CV2('gbc',pan1, kf,  cols_to_use = columns_for_modeling, tgt_column='former')#['columns_for_modeling'],em2mod['former'],)"
   ]
  },
  {
   "cell_type": "code",
   "execution_count": null,
   "metadata": {
    "collapsed": false
   },
   "outputs": [],
   "source": []
  },
  {
   "cell_type": "markdown",
   "metadata": {},
   "source": [
    "## Stopped here for LABOR DAY\n",
    "\n"
   ]
  },
  {
   "cell_type": "code",
   "execution_count": null,
   "metadata": {
    "collapsed": false
   },
   "outputs": [],
   "source": [
    "panel4, tfold4 = setup_tfolds(em2mod, 4, columns_for_modeling, tgt_value = 'former',\n",
    "                 time_cols=['Age_years','Tenure_years'], tstmp_cols = default_tstmps, date_range=full_date_range)\n",
    "   "
   ]
  },
  {
   "cell_type": "code",
   "execution_count": null,
   "metadata": {
    "collapsed": false
   },
   "outputs": [],
   "source": [
    "for training, testing in tfold4: #len(tfold4[0][1]), len(tfold4[0][0])\n",
    "    print len(training),len(testing)"
   ]
  },
  {
   "cell_type": "markdown",
   "metadata": {},
   "source": [
    "# build a method/function to apply a model to the temporal_kfold"
   ]
  },
  {
   "cell_type": "code",
   "execution_count": null,
   "metadata": {
    "collapsed": false
   },
   "outputs": [],
   "source": [
    "#metrics.mean_squared_error\n",
    "from sklearn import ensemble\n",
    "from sklearn import tree"
   ]
  },
  {
   "cell_type": "code",
   "execution_count": null,
   "metadata": {
    "collapsed": false
   },
   "outputs": [],
   "source": [
    "def apply_tKfold_CV(model, in_panel, tkfolds, cols_to_use, tgt_column = 'former' ):\n",
    "    \"\"\" Calculate the rmse for each cross-validated temporalFold\n",
    "    \n",
    "    Parameters:\n",
    "        model - a scikit learn model\n",
    "        in_panel  - a pandas Panel with the observed input data adjusted \n",
    "        in_y - a pandas Series with the observed outcome\n",
    "        k - number of cross validation folds (test set will be 1/k of the data)\n",
    "    \"\"\"\n",
    "    RMSE = []\n",
    "    for fold_id, indices in enumerate(tkfolds):\n",
    "        training = indices[0]\n",
    "        testing = indices[1]\n",
    "        print fold_id, len(training),len(testing)\n",
    "        X_train, X_test = in_panel[fold_id][cols_to_use].ix[training].as_matrix(), in_panel[fold_id][cols_to_use].ix[testing].as_matrix()\n",
    "        y_train, y_test = in_panel[fold_id][tgt_column].ix[training].as_matrix(), in_panel[fold_id][tgt_column].ix[testing].as_matrix()\n",
    "        \n",
    "        # Train the model\n",
    "        model.fit(X_train,y_train)\n",
    "        # use the model to predict output\n",
    "        y_fitted = model.predict(X_test)\n",
    "        RMSE.append(np.sqrt(metrics.mean_squared_error(y_test,y_fitted)))\n",
    "    # leave the model fit to the entire dataset\n",
    "    #model.fit(in_x,in_y)\n",
    "    \n",
    "    return RMSE\n",
    "        "
   ]
  },
  {
   "cell_type": "code",
   "execution_count": null,
   "metadata": {
    "collapsed": false
   },
   "outputs": [],
   "source": [
    "def apply_tKfold_CV2(modeltype, in_panel, tkfolds, cols_to_use, tgt_column = 'former', ntrees=100):\n",
    "    \"\"\" Calculate the rmse for each cross-validated temporalFold\n",
    "    \n",
    "    Parameters:\n",
    "        model - a scikit learn model name\n",
    "        in_panel  - a pandas Panel with the observed input data adjusted \n",
    "        tgt_column -- the target variable\n",
    "        cols_to_use -- the input variables to be used in modeling\n",
    "        tkfolds -- teh temporal timefolds (list of dimension 2)\n",
    "    outputs:\n",
    "        models --> the list of fit models\n",
    "        RMSE --> the rmse error\n",
    "        \n",
    "    \"\"\"\n",
    "    RMSE = []\n",
    "    roc_auc = []\n",
    "    models = []\n",
    "    \n",
    "    \n",
    "    \n",
    "    for fold_id, indices in enumerate(tkfolds):\n",
    "        training = indices[0]\n",
    "        testing = indices[1]\n",
    "        #print fold_id, len(training),len(testing)\n",
    "        X_train, X_test = in_panel[fold_id][cols_to_use].ix[training].as_matrix(), in_panel[fold_id][cols_to_use].ix[testing].as_matrix()\n",
    "        y_train, y_test = in_panel[fold_id][tgt_column].ix[training].as_matrix(), in_panel[fold_id][tgt_column].ix[testing].as_matrix()\n",
    "        if modeltype == 'rfc':\n",
    "            model = ensemble.RandomForestClassifier(n_estimators=ntrees, max_features='auto', oob_score=True)\n",
    "        elif modeltype=='bgc':\n",
    "            model=ensemble.GradientBoostingClassifier(n_estimators=ntrees,max_features='auto')\n",
    "        else:\n",
    "            model=tree.DecisionTreeClassifier()\n",
    "            \n",
    "        # Train the model\n",
    "        model.fit(X_train,y_train)\n",
    "        # use the model to predict output\n",
    "        y_fitted = model.predict(X_test)\n",
    "        RMSE.append(np.sqrt(metrics.mean_squared_error(y_test,y_fitted)))\n",
    "        roc_auc.append(metrics.roc_auc_score(y_test,y_fitted))\n",
    "        models.append(model)\n",
    "    # leave the model fit to the entire dataset\n",
    "    #model.fit(in_x,in_y)\n",
    "    \n",
    "    return RMSE,roc_auc,models\n",
    "        "
   ]
  },
  {
   "cell_type": "markdown",
   "metadata": {},
   "source": [
    "### Now setup protocol for generating the models"
   ]
  },
  {
   "cell_type": "code",
   "execution_count": null,
   "metadata": {
    "collapsed": true
   },
   "outputs": [],
   "source": [
    "#random_forest = ensemble.RandomForestClassifier(n_estimators=100, max_features='auto')"
   ]
  },
  {
   "cell_type": "code",
   "execution_count": null,
   "metadata": {
    "collapsed": false
   },
   "outputs": [],
   "source": [
    "rmse4,roc_auc4,rfmdl4 = apply_tKfold_CV2('rfc',panel4, tfold4, cols_to_use = columns_for_modeling, tgt_column='former')#['columns_for_modeling'],em2mod['former'],)"
   ]
  },
  {
   "cell_type": "code",
   "execution_count": null,
   "metadata": {
    "collapsed": false
   },
   "outputs": [],
   "source": [
    "rmse4\n"
   ]
  },
  {
   "cell_type": "code",
   "execution_count": null,
   "metadata": {
    "collapsed": false
   },
   "outputs": [],
   "source": [
    "roc_auc4"
   ]
  },
  {
   "cell_type": "code",
   "execution_count": null,
   "metadata": {
    "collapsed": false
   },
   "outputs": [],
   "source": [
    "for a in xrange(0,len(panel4)):\n",
    "    print a, panel4[a][panel4[a].former==1].former.sum()"
   ]
  },
  {
   "cell_type": "markdown",
   "metadata": {},
   "source": [
    "## apply to the hold-out (EVAL) set"
   ]
  },
  {
   "cell_type": "code",
   "execution_count": null,
   "metadata": {
    "collapsed": false
   },
   "outputs": [],
   "source": [
    "pd.DataFrame(roc_auc4).boxplot()"
   ]
  },
  {
   "cell_type": "code",
   "execution_count": null,
   "metadata": {
    "collapsed": false,
    "scrolled": true
   },
   "outputs": [],
   "source": [
    "[(a,rfmdl4[a].oob_score_) for a in xrange(0,len(rfmdl4))]"
   ]
  },
  {
   "cell_type": "code",
   "execution_count": null,
   "metadata": {
    "collapsed": false
   },
   "outputs": [],
   "source": [
    "feature_list= pan1[0].columns\n",
    "feature_list = columns_for_modeling\n",
    "feature_list\n",
    "fi_5df = create_fi_df(rfmdl5,columns_for_modeling)"
   ]
  },
  {
   "cell_type": "code",
   "execution_count": null,
   "metadata": {
    "collapsed": false
   },
   "outputs": [],
   "source": []
  },
  {
   "cell_type": "code",
   "execution_count": null,
   "metadata": {
    "collapsed": false
   },
   "outputs": [],
   "source": []
  },
  {
   "cell_type": "code",
   "execution_count": null,
   "metadata": {
    "collapsed": false
   },
   "outputs": [],
   "source": [
    "fi_4df.head()"
   ]
  },
  {
   "cell_type": "code",
   "execution_count": null,
   "metadata": {
    "collapsed": false
   },
   "outputs": [],
   "source": [
    "fval_cols = [a for a in fi_4df.columns if 'value' in a]\n",
    "fi_4df[fval_cols].T.boxplot()\n",
    "plt.title('Feature Importances for 4year former')\n",
    "plt.ylabel('Feature Importances in Tfolds')"
   ]
  },
  {
   "cell_type": "code",
   "execution_count": null,
   "metadata": {
    "collapsed": false
   },
   "outputs": [],
   "source": [
    "X4eval, y4eval = adjust_eval_by_x_years(evalmod,4,columns_for_modeling)"
   ]
  },
  {
   "cell_type": "code",
   "execution_count": null,
   "metadata": {
    "collapsed": false
   },
   "outputs": [],
   "source": [
    "X4evalb, y4evalb = adjust_eval_by_x_years(evalmod,4,columns_for_modeling)"
   ]
  },
  {
   "cell_type": "code",
   "execution_count": null,
   "metadata": {
    "collapsed": false
   },
   "outputs": [],
   "source": [
    "beval_pred4class, beval_pred4proba = evaluate_models(rfmdl4,X4evalb)"
   ]
  },
  {
   "cell_type": "code",
   "execution_count": null,
   "metadata": {
    "collapsed": false
   },
   "outputs": [],
   "source": [
    "#plot_roc_curve(y4eval,map(eval_pred4class.mean(),np.int))\n",
    "plot_roc_curve(y4evalb,beval_pred4proba[:,:,:].mean(axis=2))"
   ]
  },
  {
   "cell_type": "code",
   "execution_count": null,
   "metadata": {
    "collapsed": false
   },
   "outputs": [],
   "source": [
    "beval_pred4class.mean(axis=1)"
   ]
  },
  {
   "cell_type": "code",
   "execution_count": null,
   "metadata": {
    "collapsed": false
   },
   "outputs": [],
   "source": [
    "beval_pred4class.min(axis=1)"
   ]
  },
  {
   "cell_type": "code",
   "execution_count": null,
   "metadata": {
    "collapsed": false
   },
   "outputs": [],
   "source": [
    "plot_conf_matrix(y4evalb,map(np.int,beval_pred4class.mean(axis=1)+0.7))"
   ]
  },
  {
   "cell_type": "code",
   "execution_count": null,
   "metadata": {
    "collapsed": false
   },
   "outputs": [],
   "source": [
    "#plot_roc_curve(y4eval,map(eval_pred4class.mean(),np.int))\n",
    "plot_roc_curve(y4eval,eval_pred4proba[:,:,:].mean(axis=2))"
   ]
  },
  {
   "cell_type": "code",
   "execution_count": null,
   "metadata": {
    "collapsed": false
   },
   "outputs": [],
   "source": [
    "plot_conf_matrix(y4eval,map(np.int,eval_pred4class.mean(axis=1)))"
   ]
  },
  {
   "cell_type": "code",
   "execution_count": null,
   "metadata": {
    "collapsed": false
   },
   "outputs": [],
   "source": [
    "evalmod.head()"
   ]
  },
  {
   "cell_type": "code",
   "execution_count": null,
   "metadata": {
    "collapsed": false
   },
   "outputs": [],
   "source": [
    "len(y5eval),len(evalmod)"
   ]
  },
  {
   "cell_type": "code",
   "execution_count": null,
   "metadata": {
    "collapsed": false
   },
   "outputs": [],
   "source": [
    "len(evalmod[evalmod.Tenure_years <=5.0+.5])"
   ]
  },
  {
   "cell_type": "code",
   "execution_count": null,
   "metadata": {
    "collapsed": false
   },
   "outputs": [],
   "source": [
    "panel5[0].head()"
   ]
  },
  {
   "cell_type": "code",
   "execution_count": null,
   "metadata": {
    "collapsed": false
   },
   "outputs": [],
   "source": [
    "X5eval"
   ]
  },
  {
   "cell_type": "code",
   "execution_count": null,
   "metadata": {
    "collapsed": false
   },
   "outputs": [],
   "source": [
    "evalmod.former.sum()"
   ]
  },
  {
   "cell_type": "code",
   "execution_count": null,
   "metadata": {
    "collapsed": false
   },
   "outputs": [],
   "source": [
    "print y5eval.sum()\n",
    "y5eval"
   ]
  },
  {
   "cell_type": "code",
   "execution_count": null,
   "metadata": {
    "collapsed": false
   },
   "outputs": [],
   "source": [
    "X5eval, y5eval = adjust_eval_by_x_years(evalmod,5,columns_for_modeling)"
   ]
  },
  {
   "cell_type": "code",
   "execution_count": null,
   "metadata": {
    "collapsed": false
   },
   "outputs": [],
   "source": [
    "## try for 5year\n",
    "panel5, tfold5 = setup_tfolds(em2mod, 5, columns_for_modeling, tgt_value = 'former',\n",
    "                 time_cols=['Age_years','Tenure_years'], tstmp_cols = default_tstmps, date_range=full_date_range)\n",
    "rmse5,roc_auc5,rfmdl5 = apply_tKfold_CV2('gbc',panel5, tfold5, cols_to_use = columns_for_modeling, tgt_column='former')#['columns_for_modeling'],em2mod['former'],)\n",
    "X5eval, y5eval = adjust_eval_by_x_years(evalmod,5,columns_for_modeling)"
   ]
  },
  {
   "cell_type": "code",
   "execution_count": null,
   "metadata": {
    "collapsed": false
   },
   "outputs": [],
   "source": [
    "## Repeat for more trees\n",
    "rmse5b,roc_auc5b,rfmdl5b = apply_tKfold_CV2('gbc',panel5, tfold5, cols_to_use = columns_for_modeling, tgt_column='former',ntrees=500)#['columns_for_modeling'],em2mod['former'],)\n",
    "X5evalb,y5evalb = adjust_eval_by_x_years(evalmod,5,columns_for_modeling)"
   ]
  },
  {
   "cell_type": "code",
   "execution_count": null,
   "metadata": {
    "collapsed": false
   },
   "outputs": [],
   "source": [
    "cv_scores5b = pd.DataFrame()\n",
    "cv_scores5b['rmse'] = rmse5b#pd.DataFrame(rmse5)#.boxplot()\n",
    "cv_scores5b['roc_auc']=roc_auc5b\n",
    "#pd.DataFrame(roc_auc5).boxplot()\n",
    "cv_scores5b.boxplot()"
   ]
  },
  {
   "cell_type": "code",
   "execution_count": null,
   "metadata": {
    "collapsed": false
   },
   "outputs": [],
   "source": [
    "cv_scores5 = pd.DataFrame()\n",
    "cv_scores5['rmse'] = rmse5#pd.DataFrame(rmse5)#.boxplot()\n",
    "cv_scores5['roc_auc']=roc_auc5\n",
    "#pd.DataFrame(roc_auc5).boxplot()\n",
    "cv_scores5.boxplot()"
   ]
  },
  {
   "cell_type": "code",
   "execution_count": null,
   "metadata": {
    "collapsed": false
   },
   "outputs": [],
   "source": [
    "rmse5, rmse5b"
   ]
  },
  {
   "cell_type": "code",
   "execution_count": null,
   "metadata": {
    "collapsed": false
   },
   "outputs": [],
   "source": [
    "ev5df = pd.DataFrame()\n",
    "ev5df['avg'] = eval_pred5class.mean(axis=1)\n",
    "#ev5df.head()\n",
    "ev5df['min'] = eval_pred5class.min(axis=1)\n",
    "ev5df['max']= eval_pred5"
   ]
  },
  {
   "cell_type": "code",
   "execution_count": null,
   "metadata": {
    "collapsed": false
   },
   "outputs": [],
   "source": [
    "eval_pred5class, eval_pred5proba = evaluate_models(rfmdl5,X5eval)\n",
    "plot_conf_matrix(y5eval,map(np.int,eval_pred5class.mean(axis=1)))"
   ]
  },
  {
   "cell_type": "code",
   "execution_count": null,
   "metadata": {
    "collapsed": false
   },
   "outputs": [],
   "source": [
    "plot_roc_curve(y5eval,eval_pred5proba[:,:,:].mean(axis=2))"
   ]
  },
  {
   "cell_type": "code",
   "execution_count": null,
   "metadata": {
    "collapsed": false
   },
   "outputs": [],
   "source": [
    "eval_pred5classb, eval_pred5probab = evaluate_models(rfmdl5b,X5eval)\n",
    "plot_conf_matrix(y5eval,map(np.int,eval_pred5classb.mean(axis=1)))"
   ]
  },
  {
   "cell_type": "code",
   "execution_count": null,
   "metadata": {
    "collapsed": false
   },
   "outputs": [],
   "source": [
    "np.sum(map(np.int,eval_pred5classb.mean(axis=1))), len(eval_pred5classb)"
   ]
  },
  {
   "cell_type": "code",
   "execution_count": null,
   "metadata": {
    "collapsed": false
   },
   "outputs": [],
   "source": [
    "plot_roc_curve(y5eval,eval_pred5probab[:,:,:].mean(axis=2))\n",
    "plot_roc_curve(y5eval,eval_pred5proba[:,:,:].mean(axis=2))"
   ]
  },
  {
   "cell_type": "code",
   "execution_count": null,
   "metadata": {
    "collapsed": false
   },
   "outputs": [],
   "source": [
    "fi_5df = create_fi_df(rfmdl5,columns_for_modeling)\n",
    "val_cols = [a for a in fi_5df.columns if 'value' in a]\n",
    "fi_5df[val_cols].T.boxplot()\n",
    "plt.title('Feature Importances for 5year former')\n",
    "plt.ylabel('Feature Importances in Tfolds')"
   ]
  },
  {
   "cell_type": "code",
   "execution_count": null,
   "metadata": {
    "collapsed": false
   },
   "outputs": [],
   "source": [
    "!mkdir 'gbc_5sep_pkl'\n",
    "%cd '/home/kesj/work/hrsepara/eda/gbc_5sep_pkl/'"
   ]
  },
  {
   "cell_type": "code",
   "execution_count": null,
   "metadata": {
    "collapsed": false
   },
   "outputs": [],
   "source": [
    "import pickle\n",
    "pickle.dump(rfmdl5,open('gbc5.pkl','wb'))\n",
    "#len(flist_5)"
   ]
  },
  {
   "cell_type": "markdown",
   "metadata": {},
   "source": [
    "## Try loading the previously pickled models"
   ]
  },
  {
   "cell_type": "code",
   "execution_count": null,
   "metadata": {
    "collapsed": false
   },
   "outputs": [],
   "source": [
    "%cd '/home/kesj/work/hrsepara/eda/jl_5yr_100auto/'"
   ]
  },
  {
   "cell_type": "code",
   "execution_count": null,
   "metadata": {
    "collapsed": false
   },
   "outputs": [],
   "source": [
    "stored_mdl = jl.load('frf100.pkl')"
   ]
  },
  {
   "cell_type": "code",
   "execution_count": null,
   "metadata": {
    "collapsed": true
   },
   "outputs": [],
   "source": [
    "Seval_pred5class,Seval_pred5proba = evaluate_models(stored_mdl,X5eval)"
   ]
  },
  {
   "cell_type": "code",
   "execution_count": null,
   "metadata": {
    "collapsed": false
   },
   "outputs": [],
   "source": [
    "plot_roc_curve(y5eval,Seval_pred5proba[:,:,:].mean(axis=2))"
   ]
  },
  {
   "cell_type": "markdown",
   "metadata": {},
   "source": [
    "## repeat for 3 years:"
   ]
  },
  {
   "cell_type": "code",
   "execution_count": null,
   "metadata": {
    "collapsed": false
   },
   "outputs": [],
   "source": [
    "panel3, tfold3 = setup_tfolds(em2mod, 3, columns_for_modeling, tgt_value = 'former',\n",
    "                 time_cols=['Age_years','Tenure_years'], tstmp_cols = default_tstmps, date_range=full_date_range)\n",
    "rmse3,roc_auc3,rfmdl3 = apply_tKfold_CV2('gbc',panel3, tfold3, cols_to_use = columns_for_modeling, tgt_column='former')#['columns_for_modeling'],em2mod['former'],)\n",
    "X3eval, y3eval = adjust_eval_by_x_years(evalmod,3,columns_for_modeling)"
   ]
  },
  {
   "cell_type": "code",
   "execution_count": null,
   "metadata": {
    "collapsed": false
   },
   "outputs": [],
   "source": [
    "eval_pred3class, eval_pred3proba = evaluate_models(rfmdl3,X3eval)\n",
    "plot_conf_matrix(y3eval,map(np.int,eval_pred3class.mean(axis=1)))"
   ]
  },
  {
   "cell_type": "code",
   "execution_count": null,
   "metadata": {
    "collapsed": false
   },
   "outputs": [],
   "source": [
    "plot_roc_curve(y3eval,eval_pred3proba[:,:,:].mean(axis=2))"
   ]
  },
  {
   "cell_type": "code",
   "execution_count": null,
   "metadata": {
    "collapsed": false
   },
   "outputs": [],
   "source": []
  },
  {
   "cell_type": "code",
   "execution_count": null,
   "metadata": {
    "collapsed": false
   },
   "outputs": [],
   "source": [
    "np.shape(eval_pred3proba)"
   ]
  },
  {
   "cell_type": "code",
   "execution_count": null,
   "metadata": {
    "collapsed": false
   },
   "outputs": [],
   "source": [
    "for i in xrange(0,len(panel3)):\n",
    "    #fpr,tpr,treshholds = roc_\n",
    "    plot_roc_curve(y3eval,eval_pred3proba[:,:,i])\n",
    "plot_roc_curve(y3eval,eval_pred3proba[:,:,:].mean(axis=2))"
   ]
  },
  {
   "cell_type": "code",
   "execution_count": null,
   "metadata": {
    "collapsed": false
   },
   "outputs": [],
   "source": [
    "plot_roc_curve(y3eval,eval_pred3proba[:,:,0])"
   ]
  },
  {
   "cell_type": "code",
   "execution_count": null,
   "metadata": {
    "collapsed": false
   },
   "outputs": [],
   "source": [
    "panel2, tfold2 = setup_tfolds(em2mod, 2, columns_for_modeling, tgt_value = 'former',\n",
    "                 time_cols=['Age_years','Tenure_years'], tstmp_cols = default_tstmps, date_range=full_date_range)\n",
    "rmse2,roc_auc2,rfmdl2 = apply_tKfold_CV2('rfc',panel2, tfold2, cols_to_use = columns_for_modeling, tgt_column='former')#['columns_for_modeling'],em2mod['former'],)\n",
    "X2eval, y2eval = adjust_eval_by_x_years(evalmod,2,columns_for_modeling)"
   ]
  },
  {
   "cell_type": "code",
   "execution_count": null,
   "metadata": {
    "collapsed": false
   },
   "outputs": [],
   "source": [
    "eval_pred2class, eval_pred2proba = evaluate_models(rfmdl2,X2eval)\n",
    "plot_conf_matrix(y2eval,map(np.int,eval_pred2class.mean(axis=1)))"
   ]
  },
  {
   "cell_type": "code",
   "execution_count": null,
   "metadata": {
    "collapsed": false
   },
   "outputs": [],
   "source": [
    "panel1, tfold1 = setup_tfolds(em2mod, 1, columns_for_modeling, tgt_value = 'former',\n",
    "                 time_cols=['Age_years','Tenure_years'], tstmp_cols = default_tstmps, date_range=full_date_range)\n",
    "rmse1,roc_auc1,rfmdl1 = apply_tKfold_CV2('rfc',panel1, tfold1, cols_to_use = columns_for_modeling, tgt_column='former')#['columns_for_modeling'],em2mod['former'],)\n",
    "X1eval, y1eval = adjust_eval_by_x_years(evalmod,1,columns_for_modeling)"
   ]
  },
  {
   "cell_type": "code",
   "execution_count": null,
   "metadata": {
    "collapsed": false
   },
   "outputs": [],
   "source": [
    "eval_pred1class, eval_pred1proba = evaluate_models(rfmdl1,X1eval)\n",
    "plot_conf_matrix(y1eval,map(np.int,eval_pred1class.mean(axis=1)))"
   ]
  },
  {
   "cell_type": "code",
   "execution_count": null,
   "metadata": {
    "collapsed": false
   },
   "outputs": [],
   "source": [
    "for i in xrange(0,len(panel1)):\n",
    "    #fpr,tpr,treshholds = roc_\n",
    "    plot_roc_curve(y1eval,eval_pred1proba[:,:,i])\n",
    "plot_roc_curve(y1eval,eval_pred1proba[:,:,:].mean(axis=2))"
   ]
  },
  {
   "cell_type": "code",
   "execution_count": null,
   "metadata": {
    "collapsed": false
   },
   "outputs": [],
   "source": [
    "em2mod.columns"
   ]
  },
  {
   "cell_type": "code",
   "execution_count": null,
   "metadata": {
    "collapsed": false
   },
   "outputs": [],
   "source": [
    "Rpanel2[0].head()"
   ]
  },
  {
   "cell_type": "markdown",
   "metadata": {},
   "source": [
    "## Try for 'retired'"
   ]
  },
  {
   "cell_type": "code",
   "execution_count": null,
   "metadata": {
    "collapsed": false
   },
   "outputs": [],
   "source": [
    "today = pd.to_datetime('2015-01-01')\n",
    "today"
   ]
  },
  {
   "cell_type": "code",
   "execution_count": null,
   "metadata": {
    "collapsed": false
   },
   "outputs": [],
   "source": [
    "\n",
    "evalmod[(evalmod['retired']==1) & (today - evalmod['term_tstmp']<= 1.5)]"
   ]
  },
  {
   "cell_type": "code",
   "execution_count": null,
   "metadata": {
    "collapsed": false
   },
   "outputs": [],
   "source": [
    "def adjust_eval_by_x_yearsR(df,year_val,modeling_columns,endtime,tstmp_cols=default_tstmps,target_col='retired'):\n",
    "    # construct\n",
    "  \n",
    "    ## set up method to assess the eval set\n",
    "    print \"There are {0} elements in the evaluation set\".format(len(df))\n",
    "   \n",
    "    print \"original target variable value counts:\", df[target_col].value_counts()\n",
    "    # restructure to deal with time_frame retirement (target variable)\n",
    "    yr_cut_val = year_val+0.5\n",
    "    df['rel_yrs'] = df['term_tstmp'].apply(lambda x: (endtime - x).days/365.25)\n",
    "    # index of those that actually accomplish target within timeframe (allow 0.5 additional years)\n",
    "    #eval_within_time_target_index = df[(df[target_col]==1) & (endtime - df['term_tstmp'] <= yr_cut_val)].index\n",
    "    eval_within_time_target_index = df[(df[target_col]==1) & (df['rel_yrs'] <= yr_cut_val)].index\n",
    "    # exclude indices that are active and have tenure less than this time\n",
    "    eval_excluded_index = df[(df[target_col]==0) & (df.Tenure_years  <= yr_cut_val)].index\n",
    "    \n",
    "    # the rest become my not-terminated set\n",
    "    eval_active_index = set(df.index) - set(eval_within_time_target_index) - set(eval_excluded_index)\n",
    "    print len(eval_excluded_index),len(eval_within_time_target_index), len(eval_active_index)\n",
    "    eval_idx_to_use =df.ix[set(df.index)-set(eval_excluded_index)].index\n",
    "    #len(eval_idx_to_use)\n",
    "    # reset the target to 0 for active\n",
    "    eval_new_target = df[target_col].copy()\n",
    "    eval_new_target.ix[eval_active_index] = 0\n",
    "    print \"new target variable value counts: \"\n",
    "    print eval_new_target.ix[eval_idx_to_use].value_counts()\n",
    "    print \"_____\"\n",
    "    y_eval = eval_new_target.ix[eval_idx_to_use].as_matrix().astype(np.int) # true values\n",
    "    eval_adj_tenure = df.ix[eval_idx_to_use].Tenure_years.apply(lambda x: x-year_val if (x>float(year_val)) else 0).values\n",
    "    print len(eval_adj_tenure), len(y_eval)\n",
    "    # now adjust age by length of time; use hire_age if not in set to use.\n",
    "    eval_adj_age = df.ix[eval_idx_to_use].Age_years.apply(lambda x: x-year_val)\n",
    "    hire_age = (df.ix[eval_within_time_target_index]['birth_tstmp']-df.ix[eval_within_time_target_index]['hire_tstmp'])/np.timedelta64(1,'Y')#.days/days_in_year\n",
    "    eval_adj_age.ix[eval_within_time_target_index] = hire_age #df.ix[eval_within_time_target_index]['birth_tstmp'#df_dates['hire_age']\n",
    "    \n",
    "    # construct the evaluation X matrix\n",
    "    print \"input matrix has {0} features\".format(len(modeling_columns))\n",
    "    Xeval = np.zeros((len(eval_idx_to_use),len(modeling_columns)))\n",
    "    # drop 'Age_years' and Tenure_years from the list\n",
    "    cols_to_use = []\n",
    "    cols_to_use+=modeling_columns\n",
    "    cols_to_use.remove('Age_years')\n",
    "    cols_to_use.remove('Tenure_years')#.copy()\n",
    "    \"\"\"\n",
    "    Xeval[:,:-2] = df.ix[eval_idx_to_use][cols_to_use].as_matrix().astype(np.float)\n",
    "    # now put the adjusted tenure and ages into this matrix\n",
    "    Xeval[:,-2] = eval_adj_age.values\n",
    "    Xeval[:,-1]=eval_adj_tenure\n",
    "    #print len(modeling_columns),np.shape(Xeval)\n",
    "    \"\"\"\n",
    "    # this version matches the changed ording of columns\n",
    "    Xeval[:,0]=eval_adj_age.values\n",
    "    Xeval[:,1]=eval_adj_tenure\n",
    "    Xeval[:,2:] = df.ix[eval_idx_to_use][cols_to_use].as_matrix().astype(np.float)\n",
    "    return Xeval, y_eval"
   ]
  },
  {
   "cell_type": "code",
   "execution_count": null,
   "metadata": {
    "collapsed": false
   },
   "outputs": [],
   "source": [
    "Rpanel2, Rtfold2 = setup_tfolds(em2mod, 2, columns_for_modeling, tgt_value = 'retired',\n",
    "                 time_cols=['Age_years','Tenure_years'], tstmp_cols = default_tstmps, date_range=full_date_range)\n",
    "Rrmse2,Rroc_auc2,Rrfmdl2 = apply_tKfold_CV2('rfc',Rpanel2, Rtfold2, cols_to_use = columns_for_modeling, tgt_column='retired')#['columns_for_modeling'],em2mod['former'],)\n"
   ]
  },
  {
   "cell_type": "code",
   "execution_count": null,
   "metadata": {
    "collapsed": false
   },
   "outputs": [],
   "source": [
    "Reval_pred2class,Reval_pred2proba = evaluate_models(Rrfmdl2,RX2eval)\n",
    "plot_roc_curve(Ry2eval,Reval_pred2proba[:,:,:].mean(axis=2))"
   ]
  },
  {
   "cell_type": "code",
   "execution_count": null,
   "metadata": {
    "collapsed": false
   },
   "outputs": [],
   "source": [
    "Rpanel5, Rtfold5 = setup_tfolds(em2mod, 5, columns_for_modeling, tgt_value = 'retired',\n",
    "                 time_cols=['Age_years','Tenure_years'], tstmp_cols = default_tstmps, date_range=full_date_range)\n",
    "Rrmse5,Rroc_auc5,Rrfmdl5 = apply_tKfold_CV2('rfc',Rpanel5, Rtfold5, cols_to_use = columns_for_modeling, tgt_column='retired')#['columns_for_modeling'],em2mod['former'],)\n",
    "RX5eval, Ry5eval = adjust_eval_by_x_yearsR(evalmod,5,columns_for_modeling, today,target_col = 'retired')"
   ]
  },
  {
   "cell_type": "code",
   "execution_count": null,
   "metadata": {
    "collapsed": false
   },
   "outputs": [],
   "source": [
    "Reval_pred5class,Reval_pred5proba = evaluate_models(Rrfmdl5,RX5eval)\n",
    "plot_roc_curve(Ry5eval,Reval_pred5proba[:,:,:].mean(axis=2))"
   ]
  },
  {
   "cell_type": "code",
   "execution_count": null,
   "metadata": {
    "collapsed": false
   },
   "outputs": [],
   "source": [
    "Rpanel4, Rtfold4 = setup_tfolds(em2mod,4, columns_for_modeling, tgt_value = 'retired',\n",
    "                 time_cols=['Age_years','Tenure_years'], tstmp_cols = default_tstmps, date_range=full_date_range)\n",
    "Rrmse4,Rroc_auc4,Rrfmdl4 = apply_tKfold_CV2('rfc',Rpanel4, Rtfold5, cols_to_use = columns_for_modeling, tgt_column='retired')#['columns_for_modeling'],em2mod['former'],)\n"
   ]
  },
  {
   "cell_type": "code",
   "execution_count": null,
   "metadata": {
    "collapsed": false
   },
   "outputs": [],
   "source": [
    "RX4eval, Ry4eval = adjust_eval_by_x_yearsR(evalmod,4,columns_for_modeling, today,target_col = 'retired')\n",
    "Reval_pred4class,Reval_pred4proba = evaluate_models(Rrfmdl4,RX4eval)\n",
    "plot_roc_curve(Ry4eval,Reval_pred4proba[:,:,:].mean(axis=2))"
   ]
  },
  {
   "cell_type": "code",
   "execution_count": null,
   "metadata": {
    "collapsed": false
   },
   "outputs": [],
   "source": [
    "Rpanel3, Rtfold3 = setup_tfolds(em2mod, 3, columns_for_modeling, tgt_value = 'retired',\n",
    "                 time_cols=['Age_years','Tenure_years'], tstmp_cols = default_tstmps, date_range=full_date_range)\n",
    "Rrmse3,Rroc_auc3,Rrfmdl3 = apply_tKfold_CV2('rfc',Rpanel3, Rtfold3, cols_to_use = columns_for_modeling, tgt_column='retired')#['columns_for_modeling'],em2mod['former'],)\n"
   ]
  },
  {
   "cell_type": "code",
   "execution_count": null,
   "metadata": {
    "collapsed": false
   },
   "outputs": [],
   "source": [
    "RX3eval, Ry3eval = adjust_eval_by_x_yearsR(evalmod,3,columns_for_modeling,today, target_col = 'retired')\n",
    "Reval_pred3class,Reval_pred3proba = evaluate_models(Rrfmdl3,RX3eval)\n",
    "plot_roc_curve(Ry3eval,Reval_pred3proba[:,:,:].mean(axis=2))"
   ]
  },
  {
   "cell_type": "code",
   "execution_count": null,
   "metadata": {
    "collapsed": false
   },
   "outputs": [],
   "source": [
    "Rpanel1, Rtfold1 = setup_tfolds(em2mod, 1, columns_for_modeling, tgt_value = 'retired',\n",
    "                 time_cols=['Age_years','Tenure_years'], tstmp_cols = default_tstmps, date_range=full_date_range)\n",
    "Rrmse1,Rroc_auc1,Rrfmdl1 = apply_tKfold_CV2('rfc',Rpanel5, Rtfold5, cols_to_use = columns_for_modeling, tgt_column='retired')#['columns_for_modeling'],em2mod['former'],)\n"
   ]
  },
  {
   "cell_type": "code",
   "execution_count": null,
   "metadata": {
    "collapsed": false
   },
   "outputs": [],
   "source": [
    "evalmod.head()"
   ]
  },
  {
   "cell_type": "code",
   "execution_count": null,
   "metadata": {
    "collapsed": false
   },
   "outputs": [],
   "source": [
    "RX1eval[:10]"
   ]
  },
  {
   "cell_type": "code",
   "execution_count": null,
   "metadata": {
    "collapsed": false
   },
   "outputs": [],
   "source": [
    "len(evalmod[(evalmod['retired']==1) & (today - evalmod['term_tstmp'] <= 5.5*365.25)])"
   ]
  },
  {
   "cell_type": "code",
   "execution_count": null,
   "metadata": {
    "collapsed": false
   },
   "outputs": [],
   "source": [
    "5.5*365.25"
   ]
  },
  {
   "cell_type": "code",
   "execution_count": null,
   "metadata": {
    "collapsed": false
   },
   "outputs": [],
   "source": [
    "sum((today - evalmod['term_tstmp']) <= 5.5*365.25)"
   ]
  },
  {
   "cell_type": "code",
   "execution_count": null,
   "metadata": {
    "collapsed": true
   },
   "outputs": [],
   "source": []
  },
  {
   "cell_type": "code",
   "execution_count": null,
   "metadata": {
    "collapsed": false
   },
   "outputs": [],
   "source": [
    "RX1eval, Ry1eval = adjust_eval_by_x_yearsR(evalmod,1,columns_for_modeling, today, target_col = 'retired')\n",
    "Reval_pred1class,Reval_pred1proba = evaluate_models(Rrfmdl1,RX1eval)\n",
    "plot_roc_curve(Ry1eval,Reval_pred1proba[:,:,:].mean(axis=2))"
   ]
  },
  {
   "cell_type": "code",
   "execution_count": null,
   "metadata": {
    "collapsed": false
   },
   "outputs": [],
   "source": []
  },
  {
   "cell_type": "code",
   "execution_count": null,
   "metadata": {
    "collapsed": true
   },
   "outputs": [],
   "source": []
  },
  {
   "cell_type": "markdown",
   "metadata": {},
   "source": [
    "## Save the models"
   ]
  },
  {
   "cell_type": "code",
   "execution_count": null,
   "metadata": {
    "collapsed": false
   },
   "outputs": [],
   "source": [
    "%cd ../"
   ]
  },
  {
   "cell_type": "code",
   "execution_count": null,
   "metadata": {
    "collapsed": true
   },
   "outputs": [],
   "source": [
    "!mkdir save_models_1"
   ]
  },
  {
   "cell_type": "code",
   "execution_count": null,
   "metadata": {
    "collapsed": false
   },
   "outputs": [],
   "source": [
    "%cd 'save_models_1/'"
   ]
  },
  {
   "cell_type": "code",
   "execution_count": null,
   "metadata": {
    "collapsed": true
   },
   "outputs": [],
   "source": [
    "!mkdir sep\n",
    "!mkdir ret"
   ]
  },
  {
   "cell_type": "code",
   "execution_count": null,
   "metadata": {
    "collapsed": false
   },
   "outputs": [],
   "source": []
  },
  {
   "cell_type": "code",
   "execution_count": null,
   "metadata": {
    "collapsed": false
   },
   "outputs": [],
   "source": [
    "## define the base directories\n",
    "case_dir = ['sep/','ret/']\n",
    "## define the model cases\n",
    "nyrs = map(str,np.arange(1,6))\n",
    "base='rfmdl'\n",
    "model_listing = []\n",
    "pkl_file_dict = {}\n",
    "#dump_file_listing= []\n",
    "for case in case_dir:\n",
    "    #!cd {case_dir}\n",
    "    for yr in nyrs:\n",
    "        #dir_name = case+yr+'/'\n",
    "        #!mkdir {yr}\n",
    "        #!cd {yr}\n",
    "        model_name = base+yr\n",
    "        file_name = 'rf'\n",
    "        if case == 'ret/':\n",
    "            model_name = 'R'+model_name\n",
    "            file_name = 'R'+file_name\n",
    "        file_name+=yr\n",
    "        file_name+='.pkl'\n",
    "        \n",
    "        print dir_name, model_name, file_name\n",
    "        model_listing.append(model_name)\n",
    "        pkl_file_dict[model_name]=file_name\n",
    "        #file_list = jl.dump(model_name,file_name)\n",
    "        #dump_file_listing.append(file_list)\n",
    "        #!cd ../\n",
    "    #!cd ../"
   ]
  },
  {
   "cell_type": "code",
   "execution_count": null,
   "metadata": {
    "collapsed": false
   },
   "outputs": [],
   "source": [
    "store_dir = '/home/kesj/work/hrsepara/save_models_1/'\n",
    "dump_file_listing = []\n",
    "for mdl in model_listing:\n",
    "    if mdl.startswith('R'):\n",
    "        base_dir = store_dir + 'ret'\n",
    "        #!cd {base_dir}#/home/kesj/work/hrsepara/save_models_1/ret        \n",
    "    else:\n",
    "        base_dir = store_dir + 'sep'\n",
    "    \n",
    "    os.chdir(base_dir)#!cd {base_dir}\n",
    "    yr = mdl[-1]\n",
    "    #os.makedirs(yr)#!mkdir {yr}\n",
    "    #os.chdir(yr)#!cd {yr}\n",
    "    print yr,mdl\n",
    "    #file_list =jl.dump(mdl,pkl_file_dict[mdl])\n",
    "    #dump_file_listing.append(file_list)"
   ]
  },
  {
   "cell_type": "code",
   "execution_count": null,
   "metadata": {
    "collapsed": false
   },
   "outputs": [],
   "source": [
    "os.chdir('/home/kesj/work/hrsepara/save_models_1/sep')"
   ]
  },
  {
   "cell_type": "code",
   "execution_count": null,
   "metadata": {
    "collapsed": false
   },
   "outputs": [],
   "source": [
    "os.mkdir('1')\n",
    "os.chdir('1')"
   ]
  },
  {
   "cell_type": "code",
   "execution_count": null,
   "metadata": {
    "collapsed": true
   },
   "outputs": [],
   "source": [
    "dump_file_listing = []"
   ]
  },
  {
   "cell_type": "code",
   "execution_count": null,
   "metadata": {
    "collapsed": false
   },
   "outputs": [],
   "source": [
    "flist = jl.dump(rfmdl1,'rf1.pkl')\n",
    "dump_file_listing.append(flist)"
   ]
  },
  {
   "cell_type": "code",
   "execution_count": null,
   "metadata": {
    "collapsed": false
   },
   "outputs": [],
   "source": [
    "os.chdir('/home/kesj/work/hrsepara/save_models_1/sep')\n",
    "os.mkdir('2')\n",
    "os.chdir('2')\n",
    "flist = jl.dump(rfmdl2,'rf2.pkl')\n",
    "dump_file_listing.append(flist)"
   ]
  },
  {
   "cell_type": "code",
   "execution_count": null,
   "metadata": {
    "collapsed": false
   },
   "outputs": [],
   "source": [
    "os.chdir('/home/kesj/work/hrsepara/save_models_1/sep')\n",
    "os.mkdir('3')\n",
    "os.chdir('3')\n",
    "flist = jl.dump(rfmdl3,'rf3.pkl')\n",
    "dump_file_listing.append(flist)"
   ]
  },
  {
   "cell_type": "code",
   "execution_count": null,
   "metadata": {
    "collapsed": false
   },
   "outputs": [],
   "source": [
    "os.chdir('/home/kesj/work/hrsepara/save_models_1/sep')\n",
    "os.mkdir('4')\n",
    "os.chdir('4')\n",
    "flist = jl.dump(rfmdl4,'rf4.pkl')\n",
    "dump_file_listing.append(flist)\n"
   ]
  },
  {
   "cell_type": "code",
   "execution_count": null,
   "metadata": {
    "collapsed": false
   },
   "outputs": [],
   "source": [
    "os.chdir('/home/kesj/work/hrsepara/save_models_1/sep')\n",
    "os.mkdir('5')\n",
    "os.chdir('5')\n",
    "flist = jl.dump(rfmdl5,'rf5.pkl')\n",
    "dump_file_listing.append(flist)"
   ]
  },
  {
   "cell_type": "code",
   "execution_count": null,
   "metadata": {
    "collapsed": false
   },
   "outputs": [],
   "source": [
    "k=5\n",
    "for yr in nyrs:\n",
    "    os.chdir('/home/kesj/work/hrsepara/save_models_1/ret')\n",
    "    os.mkdir(yr)\n",
    "    os.chdir(yr)\n",
    "    flist = jl.dump(,'rf5.pkl')\n",
    "dump_file_listing.append(flist)"
   ]
  },
  {
   "cell_type": "code",
   "execution_count": null,
   "metadata": {
    "collapsed": false
   },
   "outputs": [],
   "source": [
    "os.chdir('/home/kesj/work/hrsepara/save_models_1/ret')"
   ]
  },
  {
   "cell_type": "code",
   "execution_count": null,
   "metadata": {
    "collapsed": false
   },
   "outputs": [],
   "source": [
    "os.mkdir('1')\n",
    "os.chdir('1')\n",
    "flist = jl.dump(Rrfmdl1,'Rrf1.pkl')\n",
    "dump_file_listing.append(flist)\n",
    "\n",
    "os.chdir('/home/kesj/work/hrsepara/save_models_1/ret')\n",
    "os.mkdir('2')\n",
    "os.chdir('2')\n",
    "flist = jl.dump(Rrfmdl2,'Rrf2.pkl')\n",
    "dump_file_listing.append(flist)"
   ]
  },
  {
   "cell_type": "code",
   "execution_count": null,
   "metadata": {
    "collapsed": true
   },
   "outputs": [],
   "source": [
    "os.chdir('/home/kesj/work/hrsepara/save_models_1/ret')\n",
    "os.mkdir('3')\n",
    "os.chdir('3')\n",
    "flist = jl.dump(Rrfmdl3,'Rrf3.pkl')\n",
    "dump_file_listing.append(flist)\n",
    "\n",
    "os.chdir('/home/kesj/work/hrsepara/save_models_1/ret')\n",
    "os.mkdir('4')\n",
    "os.chdir('4')\n",
    "flist = jl.dump(Rrfmdl4,'Rrf4.pkl')\n",
    "dump_file_listing.append(flist)\n",
    "\n",
    "os.chdir('/home/kesj/work/hrsepara/save_models_1/ret')\n",
    "os.mkdir('5')\n",
    "os.chdir('5')\n",
    "flist = jl.dump(Rrfmdl5,'Rrf5.pkl')\n",
    "dump_file_listing.append(flist)"
   ]
  },
  {
   "cell_type": "code",
   "execution_count": null,
   "metadata": {
    "collapsed": false
   },
   "outputs": [],
   "source": [
    "panel4[0]"
   ]
  },
  {
   "cell_type": "markdown",
   "metadata": {},
   "source": [
    "### Aside:\n",
    "* KFold within sklearn does the following "
   ]
  },
  {
   "cell_type": "code",
   "execution_count": null,
   "metadata": {
    "collapsed": true
   },
   "outputs": [],
   "source": [
    "std_folds = cross_validation.KFold(n=len(em2mod),n_folds=3)"
   ]
  },
  {
   "cell_type": "code",
   "execution_count": null,
   "metadata": {
    "collapsed": false
   },
   "outputs": [],
   "source": [
    "for std_tr,std_test in std_folds:\n",
    "    print len(std_tr), len(std_test)"
   ]
  },
  {
   "cell_type": "markdown",
   "metadata": {},
   "source": [
    "## now build t_fold models\n"
   ]
  },
  {
   "cell_type": "code",
   "execution_count": null,
   "metadata": {
    "collapsed": true
   },
   "outputs": [],
   "source": [
    "from sklearn import ensemble"
   ]
  },
  {
   "cell_type": "code",
   "execution_count": null,
   "metadata": {
    "collapsed": false
   },
   "outputs": [],
   "source": [
    "len(tfold5)"
   ]
  },
  {
   "cell_type": "code",
   "execution_count": null,
   "metadata": {
    "collapsed": false
   },
   "outputs": [],
   "source": [
    "%%time\n",
    "five_rf_mdl_100A = []\n",
    "for i in xrange(0,len(kf)):\n",
    "    train_y = y5fold[i].flatten()[kf[i][0]]\n",
    "    train_X = X5fold[kf[i][0],:,i]\n",
    "    rfmdl = ensemble.RandomForestClassifier(n_estimators=100,max_features='auto',n_jobs=1)\n",
    "    rfmdl.fit(train_X,train_y)\n",
    "#baseline_singleRFC = ensemble.RandomForestClassifier(n_jobs=50,n_estimators=500,max_features=None)\n",
    "#baseline_singleRFC.fit(X,y_term)\n",
    "#baseline_singleRFC_importances= baseline_singleRFC.feature_importances_\n",
    "    five_rf_mdl_100A.append(rfmdl)"
   ]
  },
  {
   "cell_type": "code",
   "execution_count": null,
   "metadata": {
    "collapsed": false
   },
   "outputs": [],
   "source": [
    "five_rf_mdl_100A[0].feature_importances_"
   ]
  },
  {
   "cell_type": "code",
   "execution_count": null,
   "metadata": {
    "collapsed": true
   },
   "outputs": [],
   "source": []
  },
  {
   "cell_type": "code",
   "execution_count": null,
   "metadata": {
    "collapsed": false
   },
   "outputs": [],
   "source": [
    "X5eval, y5eval = adjust_eval_by_x_years(evalmod,5,columns_for_modeling)"
   ]
  },
  {
   "cell_type": "code",
   "execution_count": null,
   "metadata": {
    "collapsed": true
   },
   "outputs": [],
   "source": [
    "eval_pred5class,eval_pred5proba = evaluate_models(five_rf_mdl_100A,X5eval)"
   ]
  },
  {
   "cell_type": "code",
   "execution_count": null,
   "metadata": {
    "collapsed": true
   },
   "outputs": [],
   "source": []
  },
  {
   "cell_type": "code",
   "execution_count": null,
   "metadata": {
    "collapsed": false
   },
   "outputs": [],
   "source": [
    "plot_conf_matrix(y5eval,map(np.int,eval_pred5class.mean(axis=1)))"
   ]
  },
  {
   "cell_type": "code",
   "execution_count": null,
   "metadata": {
    "collapsed": true
   },
   "outputs": [],
   "source": []
  },
  {
   "cell_type": "code",
   "execution_count": null,
   "metadata": {
    "collapsed": false
   },
   "outputs": [],
   "source": [
    "#plot_roc_curve(y3eval,eval_prediction_proba3[:,])\n",
    "plot_roc_curve(y5eval,eval_pred5proba[:,:,:].mean(axis=2))\n",
    "plt.ylim([0,1.01])"
   ]
  },
  {
   "cell_type": "markdown",
   "metadata": {
    "collapsed": true
   },
   "source": [
    "### function to help explore the features"
   ]
  },
  {
   "cell_type": "code",
   "execution_count": null,
   "metadata": {
    "collapsed": true
   },
   "outputs": [],
   "source": [
    "# function to push feature_importances for a set of RF models into a dataframe\n",
    "def create_fi_df(mdl_list,feature_names):\n",
    "    list_feature_importances = []\n",
    "    col_list = []\n",
    "    for i,mdl in enumerate(mdl_list):\n",
    "        list_feature_importances.append(plotFI(mdl,feature_names,show_plot=False))\n",
    "        col_list.append('fold'+str(i)+'_value')\n",
    "        col_list.append('fold'+str(i)+'_std')\n",
    "\n",
    "    fi_df = pd.concat(list_feature_importances,axis=1)\n",
    "    # create column headings\n",
    "    fi_df.columns = col_list\n",
    "    # create the average of the values\n",
    "    value_cols = [x for x in col_list if x.endswith('value')]\n",
    "    \n",
    "    fi_df['avg_val']=fi_df[value_cols].mean(axis=1)\n",
    "    fi_df['avg_variance']=fi_df[value_cols].std(axis=1)\n",
    "#t2_eval_fi_df[['avg_val','avg_std']].sort('avg_val',ascending=False)\n",
    "    return fi_df\n",
    "\n",
    "def plotFI(forest,featureNames=[],show_plot=True):#,autoscale=True,headroom=0.05):\n",
    "    \"\"\"\n",
    "    forest is the model to be graphed.\n",
    "    featureNames is the list of features to be displayed\n",
    "    \n",
    "    \"\"\"\n",
    "    #if autoscale:\n",
    "    #    x_scale = forest.feature_importances_.max()+ headroom\n",
    "    #else:\n",
    "    #    x_scale = 1\n",
    "    \n",
    "    featureImportances=forest.feature_importances_\n",
    "    # sort the importances from biggest to least\n",
    "    indices = np.argsort(featureImportances)[::-1]\n",
    "    estimators = forest.estimators_\n",
    "    # calculate the variance over the forest \n",
    "    \n",
    "    std = np.std([tree.feature_importances_ for tree in estimators],axis=0)\n",
    "    # print summary statement\n",
    "    nfeatures = len(featureImportances)\n",
    "    print(\"Number of Features: %d\" % (nfeatures))\n",
    "    print(\"Number of Trees: %d\" %(len(estimators)))\n",
    "    \n",
    "    #print featureNames\n",
    "    if len(featureNames)==0:\n",
    "        featureNames = map(str,indices)\n",
    "    \n",
    "    fN2 = [featureNames[a] for a in indices]\n",
    "    print(\"Feature ranking:\")\n",
    "\n",
    "    for f in range(len(indices)):\n",
    "        print(\"%d. feature %d=%s (%f)\" % (f + 1, indices[f], featureNames[indices[f]],featureImportances[indices[f]]))\n",
    "\n",
    "    # Plot the feature importances of the forest\n",
    "    # define a cutoff in terms of feature_importance\n",
    "    if nfeatures <= 30:\n",
    "        kfeatures = nfeatures # keep all if smaller than 30\n",
    "    else:\n",
    "        kfeatures = 30\n",
    "        \n",
    "    kindices = indices[:kfeatures]\n",
    "    if show_plot:\n",
    "        plt.title(\"Feature importances\")\n",
    "        plt.barh(range(len(kindices)), featureImportances[kindices],\n",
    "           color=\"steelblue\", xerr=std[kindices], align=\"center\",ecolor='k')#,lw=2)\n",
    "    \n",
    "        plt.yticks(range(len(kindices)),fN2)\n",
    "        #grid(True)\n",
    "    \n",
    "    c1 = 'value'\n",
    "    c2 = 'std'\n",
    "    tdata = np.vstack([featureImportances[indices],std[indices]])\n",
    "    df = pd.DataFrame(data = tdata.T,index=fN2,columns=[c1,c2])\n",
    "    return df"
   ]
  },
  {
   "cell_type": "code",
   "execution_count": null,
   "metadata": {
    "collapsed": false
   },
   "outputs": [],
   "source": [
    "feature_list = [a for a in columns_for_modeling if 'years' not in a]\n",
    "feature_list += columns_for_modeling[:2]\n",
    "feature_list"
   ]
  },
  {
   "cell_type": "code",
   "execution_count": null,
   "metadata": {
    "collapsed": false
   },
   "outputs": [],
   "source": [
    "#[e for e in tree0.estimators_]\n",
    "np.shape(tree0.indices_)\n",
    "\n"
   ]
  },
  {
   "cell_type": "code",
   "execution_count": null,
   "metadata": {
    "collapsed": false
   },
   "outputs": [],
   "source": [
    "fi_5df = create_fi_df(five_rf_mdl_100A,feature_list)\n",
    "#tree0 = rfmdl[0]"
   ]
  },
  {
   "cell_type": "code",
   "execution_count": null,
   "metadata": {
    "collapsed": false
   },
   "outputs": [],
   "source": [
    "fi_5df.plot(kind='bar',y='avg_val')#,std='avg_var')"
   ]
  },
  {
   "cell_type": "code",
   "execution_count": null,
   "metadata": {
    "collapsed": false
   },
   "outputs": [],
   "source": [
    "fi_5df.plot(kind='bar',y='avg_variance')"
   ]
  },
  {
   "cell_type": "markdown",
   "metadata": {
    "collapsed": false
   },
   "source": [
    "##save this model to disk"
   ]
  },
  {
   "cell_type": "code",
   "execution_count": null,
   "metadata": {
    "collapsed": false
   },
   "outputs": [],
   "source": [
    "%cd '/home/kesj/work/hrsepara/eda/jl_5yr_100auto/'"
   ]
  },
  {
   "cell_type": "code",
   "execution_count": null,
   "metadata": {
    "collapsed": false
   },
   "outputs": [],
   "source": [
    "import joblib as jl"
   ]
  },
  {
   "cell_type": "code",
   "execution_count": null,
   "metadata": {
    "collapsed": false
   },
   "outputs": [],
   "source": []
  },
  {
   "cell_type": "code",
   "execution_count": null,
   "metadata": {
    "collapsed": false
   },
   "outputs": [],
   "source": [
    "%cd ../\n",
    "!du -h 'jl_5yr_100auto'"
   ]
  },
  {
   "cell_type": "markdown",
   "metadata": {},
   "source": [
    "## work through evaluating based upon a set of existing models\n",
    "* I want to save all the separations to a data frame and then save it to disk\n",
    "* likewise with the retirements"
   ]
  },
  {
   "cell_type": "code",
   "execution_count": null,
   "metadata": {
    "collapsed": false
   },
   "outputs": [],
   "source": [
    "#os.chdir('../../')\n",
    "\n",
    "os.chdir(stgdir1local)\n",
    "%ls"
   ]
  },
  {
   "cell_type": "code",
   "execution_count": null,
   "metadata": {
    "collapsed": true
   },
   "outputs": [],
   "source": [
    "MODEL_BASE_PATH='../save_models_1/'\n",
    "pred_cases = ['sep/','ret/']\n",
    "pred_years = map(np.str,np.arange(1,6))\n"
   ]
  },
  {
   "cell_type": "code",
   "execution_count": null,
   "metadata": {
    "collapsed": true
   },
   "outputs": [],
   "source": [
    "sep_proba_df = []\n",
    "ret_proba_df = []\n",
    "import joblib as jl\n"
   ]
  },
  {
   "cell_type": "code",
   "execution_count": null,
   "metadata": {
    "collapsed": true
   },
   "outputs": [],
   "source": [
    "def evaluate_models_simple(model_list,X,mode='mean',offset=0):\n",
    "    \"\"\" Function to apply a set of models to a given input and generate the predicted value(s)\n",
    "    :param model_list --> input list of models\n",
    "    :param X --> input array to apply models to\n",
    "    :param mode --> what sort of output to return; default is mean\n",
    "    intermediates\n",
    "        eval_pred_class --> array of classification prediction for each model\n",
    "        eval_pred_proba --> array of predicted probabilities for each model\n",
    "    \"\"\"\n",
    "    import numpy as np\n",
    "    eval_pred_class = np.zeros((len(X),len(model_list)))\n",
    "    eval_pred_proba = np.zeros((len(X),2,len(model_list)))\n",
    "\n",
    "    for i,mdl in enumerate(model_list):\n",
    "        eval_proba = mdl.predict_proba(X)\n",
    "        eval_pred_class[:,i]=mdl.predict(X)\n",
    "        eval_pred_proba[:,:,i]=eval_proba\n",
    "    if mode == 'mean':\n",
    "        # average the probabilities (for class=1) and return the mean predicted probability\n",
    "        prediction = np.mean(eval_pred_proba[:,1,:],axis=1)\n",
    "        #eval_pred_proba[:,1,:].mean(axis=2)\n",
    "\n",
    "    elif mode == 'class': # return the desired class prediction\n",
    "        prediction = map(np.int,eval_pred_class.mean(axis=1))\n",
    "    return prediction"
   ]
  },
  {
   "cell_type": "code",
   "execution_count": null,
   "metadata": {
    "collapsed": false
   },
   "outputs": [],
   "source": [
    "#del X\n",
    "np.shape(X5eval)\n",
    "X = X5eval[30:80,:]\n",
    "np.shape(X)"
   ]
  },
  {
   "cell_type": "code",
   "execution_count": null,
   "metadata": {
    "collapsed": false
   },
   "outputs": [],
   "source": [
    "sep_proba_df = []\n",
    "for idx,pyr in enumerate(pred_years):\n",
    "    pkl_name ='rf'+pyr+'.pkl'#5.pkl'\n",
    "    path_name =MODEL_BASE_PATH+pred_cases[0]+pyr+'/'\n",
    "    print path_name, pkl_name\n",
    "    #path_name = MODEL_BASE_PATH+pred_cases[0]+\"5/\"#pred_years[0]+'/'\n",
    "        # load a model, evaluate it and return the 'average' probability for each person\n",
    "        #abs_mdl_name = os.path.abspath(path_name+pkl_name)\n",
    "    mdl_name = path_name+pkl_name\n",
    "    stored_mdl = jl.load(mdl_name)\n",
    "    stored_prediction = evaluate_models_simple(stored_mdl,X)#stored_pred,stored_pred_proba = evaluate_models(stored_mdl,X)\n",
    "\n",
    "    df = pd.DataFrame(stored_prediction.T)\n",
    "    df.columns=['sep'+pyr+'yr']\n",
    "    #df.#print stored_prediction\n",
    "    sep_proba_df.append(df)\n",
    "\n"
   ]
  },
  {
   "cell_type": "code",
   "execution_count": null,
   "metadata": {
    "collapsed": false
   },
   "outputs": [],
   "source": [
    "len(sep_proba_df)\n",
    "#sep_df.shape()"
   ]
  },
  {
   "cell_type": "code",
   "execution_count": null,
   "metadata": {
    "collapsed": false
   },
   "outputs": [],
   "source": [
    "sep_df = pd.concat([a for a in sep_proba_df],axis=1)\n",
    "sep_df.head()"
   ]
  },
  {
   "cell_type": "code",
   "execution_count": null,
   "metadata": {
    "collapsed": false
   },
   "outputs": [],
   "source": [
    "#sep_df.T.plot()"
   ]
  },
  {
   "cell_type": "code",
   "execution_count": null,
   "metadata": {
    "collapsed": false
   },
   "outputs": [],
   "source": [
    "#df.rename(columns=['sep'+pyr+'yr'],inplace=True)\n",
    "df.columns=['sep'+pyr+'yr']\n",
    "df.head()"
   ]
  },
  {
   "cell_type": "code",
   "execution_count": null,
   "metadata": {
    "collapsed": false
   },
   "outputs": [],
   "source": [
    "#sep_proba_df = sep_proba_df[1:]\n",
    "pd.concat([a for a in sep_proba_df],axis=1)"
   ]
  },
  {
   "cell_type": "markdown",
   "metadata": {},
   "source": [
    "## Some miscellaneous, experimental visualizations of the predictions"
   ]
  },
  {
   "cell_type": "code",
   "execution_count": null,
   "metadata": {
    "collapsed": false
   },
   "outputs": [],
   "source": [
    "print len(np.mean(eval_pred5proba[:,1,:],axis=1))\n",
    "ev5df = pd.DataFrame(eval_pred5proba[:,1,:])\n",
    "ev5df.head()\n",
    "#ev5df['avg'] = eval_pred5proba[:,0,:].mean(axis=2)\n",
    "#ev5df['avg'] = eval_pred5proba[:,0,:].min(axis=2)"
   ]
  },
  {
   "cell_type": "code",
   "execution_count": null,
   "metadata": {
    "collapsed": false
   },
   "outputs": [],
   "source": [
    "nshow = 21\n",
    "ev5df.head(nshow).T.boxplot(vert=False)\n",
    "plt.xlabel('predicted probability of separation')\n",
    "plt.ylabel('employee')\n",
    "plt.title('5 year window')\n",
    "#plt.plot(x=y5eval[:30],y=np.arange(0,30),color='darkgoldenrod',marker='*')\n",
    "for x,y in np.vstack([y5eval[:nshow],np.arange(0,nshow)]).T:\n",
    "    plt.plot(x,y,'D',color='darkgoldenrod')\n",
    "for x,yhat in np.vstack([map(np.int,eval_pred5class.mean(axis=1))[:nshow],np.arange(0,nshow)]).T:\n",
    "    plt.plot(x,yhat,'o',color='darkorchid')"
   ]
  },
  {
   "cell_type": "code",
   "execution_count": null,
   "metadata": {
    "collapsed": false
   },
   "outputs": [],
   "source": [
    "p_class = ev5df.head(nshow).mean(axis=1) #map(np.int,ev5df.head(nshow).mean(axis=1))\n"
   ]
  },
  {
   "cell_type": "code",
   "execution_count": null,
   "metadata": {
    "collapsed": false
   },
   "outputs": [],
   "source": [
    "p_class = p_class.apply(lambda x: round(x,0))\n",
    "#p_class['color']= 'red'\n",
    "p_class"
   ]
  },
  {
   "cell_type": "code",
   "execution_count": null,
   "metadata": {
    "collapsed": false
   },
   "outputs": [],
   "source": [
    "cname = ['red']*21\n"
   ]
  },
  {
   "cell_type": "code",
   "execution_count": null,
   "metadata": {
    "collapsed": false
   },
   "outputs": [],
   "source": [
    "\n",
    "\n",
    "sns.violinplot(ev5df.head(nshow).T,vert=False)\n",
    "plt.xlabel('Probability of separation')\n",
    "plt.ylabel('employee')\n",
    "plt.xlim([0,1])"
   ]
  },
  {
   "cell_type": "markdown",
   "metadata": {
    "collapsed": true
   },
   "source": [
    "## Create a scoring measure for different models"
   ]
  },
  {
   "cell_type": "code",
   "execution_count": null,
   "metadata": {
    "collapsed": true
   },
   "outputs": [],
   "source": [
    "def perform_kfold_cross_validation(model, all_X, all_y, k=5):\n",
    "    \"\"\"Calculate root mean squared error for each cross-validation fold.\n",
    "    \n",
    "    Parameters:\n",
    "        model - a scikit learn model\n",
    "        all_X - a pandas DataFrame with the observed input data\n",
    "        all_y - a pandas Series with the observed outcome\n",
    "        k - number of cross validation folds (test set will be 1/k of the data)\n",
    "    \n",
    "    Return value:\n",
    "        An array of length 'k' with the root mean squared error\n",
    "        for each fold.\n",
    "    \"\"\"\n",
    "    # 'folds' is a generator that will yield pairs of arrays (train, test)\n",
    "    # selecting row numbers for training/testing\n",
    "    folds = cross_validation.KFold(n=len(all_y), n_folds=k)\n",
    "    RMSE = []    # root mean squared errors\n",
    "    # Loop over the cross-validation folds\n",
    "    for training, testing in folds:\n",
    "        # Get the training and test splits\n",
    "        training = all_X.index[training]\n",
    "        testing = all_X.index[testing]\n",
    "        X_train, X_test = all_X.ix[training], all_X.ix[testing]\n",
    "        y_train, y_test = all_y.ix[training], all_y.ix[testing]\n",
    "    \n",
    "        # Train the model\n",
    "        model.fit(X_train, y_train)\n",
    "        # Use the model to predict output\n",
    "        y_fitted = model.predict(X_test)\n",
    "        RMSE.append(np.sqrt(mean_squared_error(y_test, y_fitted)))\n",
    "    # Leave the model fit to the entire dataset\n",
    "    model.fit(all_X, all_y)\n",
    "    # And return the array of root mean squared errors\n",
    "    return RMSE"
   ]
  },
  {
   "cell_type": "markdown",
   "metadata": {},
   "source": [
    "### first try to generalize the temporalKfold as a class\n",
    "* base this upon the KFold(_BaseKfold): class in scikitlearn\n",
    "* returns an iterator"
   ]
  },
  {
   "cell_type": "code",
   "execution_count": null,
   "metadata": {
    "collapsed": true
   },
   "outputs": [],
   "source": [
    "from sklearn.cross_validation import _BaseKFold"
   ]
  },
  {
   "cell_type": "code",
   "execution_count": null,
   "metadata": {
    "collapsed": true
   },
   "outputs": [],
   "source": [
    "class windowKFold(_BaseKFold):\n",
    "    \"\"\"windowed or temporal K-Folds cross validation iterator.\n",
    "    Provides train/test indices to split data in train test sets. Split\n",
    "    dataset into k consecutive folds (without shuffling).\n",
    "    Each fold is then used a validation set once while the k - 1 remaining\n",
    "    fold form the training set.\n",
    "    Parameters\n",
    "    ----------\n",
    "    n : int\n",
    "        Total number of elements.\n",
    "    n_folds : int, default=3\n",
    "        Number of folds. Must be at least 2.\n",
    "    shuffle : boolean, optional\n",
    "        Whether to shuffle the data before splitting into batches.\n",
    "    random_state : None, int or RandomState\n",
    "        Pseudo-random number generator state used for random\n",
    "        sampling. If None, use default numpy RNG for shuffling\n",
    "    Examples\n",
    "    --------\n",
    "    >>> from sklearn import cross_validation\n",
    "    >>> X = np.array([[1, 2], [3, 4], [1, 2], [3, 4]])\n",
    "    >>> y = np.array([1, 2, 3, 4])\n",
    "    >>> kf = cross_validation.KFold(4, n_folds=2)\n",
    "    >>> len(kf)\n",
    "    2\n",
    "    >>> print(kf)  # doctest: +NORMALIZE_WHITESPACE\n",
    "    sklearn.cross_validation.KFold(n=4, n_folds=2, shuffle=False,\n",
    "                                   random_state=None)\n",
    "    >>> for train_index, test_index in kf:\n",
    "    ...    print(\"TRAIN:\", train_index, \"TEST:\", test_index)\n",
    "    ...    X_train, X_test = X[train_index], X[test_index]\n",
    "    ...    y_train, y_test = y[train_index], y[test_index]\n",
    "    TRAIN: [2 3] TEST: [0 1]\n",
    "    TRAIN: [0 1] TEST: [2 3]\n",
    "    Notes\n",
    "    -----\n",
    "    The first n % n_folds folds have size n // n_folds + 1, other folds have\n",
    "    size n // n_folds.\n",
    "    See also\n",
    "    --------\n",
    "    StratifiedKFold: take label information into account to avoid building\n",
    "    folds with imbalanced class distributions (for binary or multiclass\n",
    "    classification tasks).\n",
    "    \"\"\"\n",
    "\n",
    "    def __init__(self, n, n_folds=3, indices=None, shuffle=False,\n",
    "                 random_state=None):\n",
    "        super(KFold, self).__init__(n, n_folds, indices, shuffle, random_state)\n",
    "        self.idxs = np.arange(n)\n",
    "        if shuffle:\n",
    "            rng = check_random_state(self.random_state)\n",
    "            rng.shuffle(self.idxs)\n",
    "\n",
    "    def _iter_test_indices(self):\n",
    "        n = self.n\n",
    "        n_folds = self.n_folds\n",
    "        fold_sizes = (n // n_folds) * np.ones(n_folds, dtype=np.int)\n",
    "        fold_sizes[:n % n_folds] += 1\n",
    "        current = 0\n",
    "        for fold_size in fold_sizes:\n",
    "            start, stop = current, current + fold_size\n",
    "            yield self.idxs[start:stop]\n",
    "            current = stop\n",
    "\n",
    "    def __repr__(self):\n",
    "        return '%s.%s(n=%i, n_folds=%i, shuffle=%s, random_state=%s)' % (\n",
    "            self.__class__.__module__,\n",
    "            self.__class__.__name__,\n",
    "            self.n,\n",
    "            self.n_folds,\n",
    "            self.shuffle,\n",
    "            self.random_state,\n",
    "        )\n",
    "\n",
    "    def __len__(self):\n",
    "        return self.n_folds\n"
   ]
  },
  {
   "cell_type": "code",
   "execution_count": null,
   "metadata": {
    "collapsed": true
   },
   "outputs": [],
   "source": []
  },
  {
   "cell_type": "code",
   "execution_count": null,
   "metadata": {
    "collapsed": true
   },
   "outputs": [],
   "source": [
    "print(\"Size of the input set:\", input_data.shape)\n",
    "\n",
    "models = dict(\n",
    "    logistic = linear_model.LogisticRegression(),\n",
    "    gbc = ensemble.GradientBoostingClassifier(max_depth=5),\n",
    "    ridge = linear_model.RidgeClassifier(),\n",
    "    tree = tree.DecisionTreeClassifier(max_depth=5),\n",
    "    #svc = svm.LinearSVC(),\n",
    "    naive_bayes = naive_bayes.MultinomialNB(),  # Can only use if all inputs are positive\n",
    "    random_forest = ensemble.RandomForestClassifier(n_estimators=10, max_depth=5)\n",
    ")\n",
    "\n",
    "win = (spread > 0).astype(int)\n",
    "rmses = {}\n",
    "for name, model in models.items():\n",
    "    rmses[name] = perform_kfold_cross_validation(model, input_data, win, k=3)\n",
    "    \n",
    "pd.DataFrame(rmses).boxplot(vert=False, return_type='axes')\n",
    "plt.gcf().set_size_inches(9, 5)\n",
    "plt.xlabel(\"Error in prediction\"); plt.ylabel(\"Model\")\n",
    "plt.show()"
   ]
  },
  {
   "cell_type": "code",
   "execution_count": null,
   "metadata": {
    "collapsed": true
   },
   "outputs": [],
   "source": []
  },
  {
   "cell_type": "markdown",
   "metadata": {},
   "source": [
    "## try building a model with deeper splits? or more trees?"
   ]
  },
  {
   "cell_type": "code",
   "execution_count": null,
   "metadata": {
    "collapsed": false
   },
   "outputs": [],
   "source": [
    "np.shape(X5fold)"
   ]
  },
  {
   "cell_type": "code",
   "execution_count": null,
   "metadata": {
    "collapsed": false
   },
   "outputs": [],
   "source": [
    "columns_for_modeling"
   ]
  },
  {
   "cell_type": "code",
   "execution_count": null,
   "metadata": {
    "collapsed": false
   },
   "outputs": [],
   "source": [
    "jl.dump(five_rf_mdl_100A,'frf100.pkl')"
   ]
  },
  {
   "cell_type": "code",
   "execution_count": null,
   "metadata": {
    "collapsed": false
   },
   "outputs": [],
   "source": [
    "%cd ../\n",
    "%cd '/home/kesj/work/hrsepara/eda/jl_5yr_100'"
   ]
  },
  {
   "cell_type": "code",
   "execution_count": null,
   "metadata": {
    "collapsed": false
   },
   "outputs": [],
   "source": [
    "5.4 * 1000/250."
   ]
  },
  {
   "cell_type": "code",
   "execution_count": null,
   "metadata": {
    "collapsed": false
   },
   "outputs": [],
   "source": [
    "\n",
    "five_rf_mdl = []\n",
    "for i in xrange(0,len(tfold5)):\n",
    "    train_y = y5fold[i].flatten()#[tfold5[i][0]]\n",
    "    #train_X = #X5fold[tfold5[i][0],:,i]\n",
    "    train_X = X5fold[:,:,i]\n",
    "    rfmdl = ensemble.RandomForestClassifier(n_jobs=50,n_estimators=500,max_features=None)\n",
    "    rfmdl.fit(train_X,train_y)\n",
    "#baseline_singleRFC = ensemble.RandomForestClassifier(n_jobs=50,n_estimators=500,max_features=None)\n",
    "#baseline_singleRFC.fit(X,y_term)\n",
    "#baseline_singleRFC_importances= baseline_singleRFC.feature_importances_\n",
    "    five_rf_mdl.append(rfmdl)"
   ]
  },
  {
   "cell_type": "code",
   "execution_count": null,
   "metadata": {
    "collapsed": false
   },
   "outputs": [],
   "source": [
    "(evalmod['hire_tstmp']-evalmod['birth_tstmp'])/np.timedelta64(1,'Y')"
   ]
  },
  {
   "cell_type": "code",
   "execution_count": null,
   "metadata": {
    "collapsed": false
   },
   "outputs": [],
   "source": [
    "eval_pred_5class, eval_pred_proba5 = evaluate_models(five_rf_mdl,X5eval)"
   ]
  },
  {
   "cell_type": "code",
   "execution_count": null,
   "metadata": {
    "collapsed": true
   },
   "outputs": [],
   "source": [
    "eval_pred5class_100A, eval_pred5proba = evaluate_models(five_rf_mdl_100A,X5eval)"
   ]
  },
  {
   "cell_type": "code",
   "execution_count": null,
   "metadata": {
    "collapsed": false
   },
   "outputs": [],
   "source": [
    "len(eval_pred_5class), len(y5eval)"
   ]
  },
  {
   "cell_type": "code",
   "execution_count": null,
   "metadata": {
    "collapsed": false
   },
   "outputs": [],
   "source": [
    "plot_conf_matrix(y5eval,map(int,eval_pred_5class.mean(axis=1)))"
   ]
  },
  {
   "cell_type": "code",
   "execution_count": null,
   "metadata": {
    "collapsed": false
   },
   "outputs": [],
   "source": [
    "plot_conf_matrix(y5eval,map(int,eval_pred5class_100A.mean(axis=1)))"
   ]
  },
  {
   "cell_type": "code",
   "execution_count": null,
   "metadata": {
    "collapsed": false,
    "scrolled": true
   },
   "outputs": [],
   "source": [
    "#plot_roc_curve(y3eval,eval_prediction_proba3[:,])\n",
    "plot_roc_curve(y5eval,eval_pred5proba[:,:,:].mean(axis=2))\n",
    "plt.ylim([0,1.01])"
   ]
  },
  {
   "cell_type": "code",
   "execution_count": null,
   "metadata": {
    "collapsed": false
   },
   "outputs": [],
   "source": [
    "plot_conf_matrix(y5eval,map(int,eval_pred_5class.mean(axis=1)+0.3))"
   ]
  },
  {
   "cell_type": "code",
   "execution_count": null,
   "metadata": {
    "collapsed": false
   },
   "outputs": [],
   "source": [
    "from sklearn.externals import joblib\n",
    "joblib.dump(five_rf_mdl,'five_rf_mdljl.pkl')"
   ]
  },
  {
   "cell_type": "code",
   "execution_count": null,
   "metadata": {
    "collapsed": false
   },
   "outputs": [],
   "source": [
    "%cd five_rf_mdljl\n"
   ]
  },
  {
   "cell_type": "code",
   "execution_count": null,
   "metadata": {
    "collapsed": true
   },
   "outputs": [],
   "source": [
    "frf= joblib.load('five_rf_mdljl.pkl')"
   ]
  },
  {
   "cell_type": "code",
   "execution_count": null,
   "metadata": {
    "collapsed": false
   },
   "outputs": [],
   "source": [
    "Beval_pred_5class, Beval_pred_proba5 = evaluate_models(frf,X5eval)"
   ]
  },
  {
   "cell_type": "code",
   "execution_count": null,
   "metadata": {
    "collapsed": false
   },
   "outputs": [],
   "source": [
    "#plot_roc_curve(y3eval,eval_prediction_proba3[:,])\n",
    "plot_roc_curve(y5eval,Beval_pred_proba5[:,:,:].mean(axis=2))\n",
    "plt.ylim([0,1.01])"
   ]
  },
  {
   "cell_type": "code",
   "execution_count": null,
   "metadata": {
    "collapsed": false
   },
   "outputs": [],
   "source": [
    "Beval_pred5class0, Beval_pred5proba0 = evaluate_models(frf[0],X5eval)"
   ]
  },
  {
   "cell_type": "code",
   "execution_count": null,
   "metadata": {
    "collapsed": false
   },
   "outputs": [],
   "source": [
    "Beval_pred_proba5[:,:,0]"
   ]
  },
  {
   "cell_type": "code",
   "execution_count": null,
   "metadata": {
    "collapsed": false
   },
   "outputs": [],
   "source": [
    "#plot_roc_curve(y3eval,eval_prediction_proba3[:,])\n",
    "plot_roc_curve(y5eval,Beval_pred_proba5[:,:,4])\n",
    "plt.ylim([0,1.01])"
   ]
  },
  {
   "cell_type": "markdown",
   "metadata": {},
   "source": [
    "## Try again with joblib directly"
   ]
  },
  {
   "cell_type": "code",
   "execution_count": null,
   "metadata": {
    "collapsed": true
   },
   "outputs": [],
   "source": [
    "import joblib as jl"
   ]
  },
  {
   "cell_type": "code",
   "execution_count": null,
   "metadata": {
    "collapsed": false
   },
   "outputs": [],
   "source": [
    "%cd ../\n",
    "!mkdir jl_5yr\n"
   ]
  },
  {
   "cell_type": "code",
   "execution_count": null,
   "metadata": {
    "collapsed": false
   },
   "outputs": [],
   "source": [
    "jldir = '/home/kesj/work/hrsepara/eda/jl_5yr/' \n",
    "os.chdir(jldir)"
   ]
  },
  {
   "cell_type": "markdown",
   "metadata": {},
   "source": [
    "## repeat for 3 year"
   ]
  },
  {
   "cell_type": "code",
   "execution_count": null,
   "metadata": {
    "collapsed": false
   },
   "outputs": [],
   "source": [
    "tfold3,tfold3_times,panel3term,X3fold,y3fold = setup_tfold_models(em2mod,3,columns_for_modeling)\n",
    "print len(tfold3)"
   ]
  },
  {
   "cell_type": "code",
   "execution_count": null,
   "metadata": {
    "collapsed": false
   },
   "outputs": [],
   "source": [
    "%%time\n",
    "three_rf_mdl_100 = []\n",
    "for i in xrange(0,len(tfold3)):\n",
    "    train_y = y3fold[i].flatten()\n",
    "    train_X = X3fold[:,:,i]\n",
    "    rfmdl = ensemble.RandomForestClassifier(n_estimators=100,max_features='auto',n_jobs=1)\n",
    "    rfmdl.fit(train_X,train_y)\n",
    "#baseline_singleRFC = ensemble.RandomForestClassifier(n_jobs=50,n_estimators=500,max_features=None)\n",
    "#baseline_singleRFC.fit(X,y_term)\n",
    "#baseline_singleRFC_importances= baseline_singleRFC.feature_importances_\n",
    "    three_rf_mdl_100.append(rfmdl)"
   ]
  },
  {
   "cell_type": "markdown",
   "metadata": {},
   "source": [
    "## dump the results"
   ]
  },
  {
   "cell_type": "code",
   "execution_count": null,
   "metadata": {
    "collapsed": false
   },
   "outputs": [],
   "source": [
    "%cd '../'\n",
    "!mkdir 'jl_3yr_100'\n",
    "%cd '/home/kesj/work/hrsepara/eda/jl_3yr_100'\n",
    "three_100_list = jl.dump(three_rf_mdl_100,'trf100.pkl')"
   ]
  },
  {
   "cell_type": "code",
   "execution_count": null,
   "metadata": {
    "collapsed": false
   },
   "outputs": [],
   "source": [
    "len(three_100_list)"
   ]
  },
  {
   "cell_type": "code",
   "execution_count": null,
   "metadata": {
    "collapsed": false
   },
   "outputs": [],
   "source": [
    "X3eval, y3eval = adjust_eval_by_x_years(evalmod,3,columns_for_modeling)"
   ]
  },
  {
   "cell_type": "code",
   "execution_count": null,
   "metadata": {
    "collapsed": true
   },
   "outputs": [],
   "source": [
    "eval_pred3class,eval_pred3proba = evaluate_models(three_rf_mdl_100,X3eval)"
   ]
  },
  {
   "cell_type": "code",
   "execution_count": null,
   "metadata": {
    "collapsed": false
   },
   "outputs": [],
   "source": [
    "plot_roc_curve(y3eval,eval_pred3proba[:,:,:].mean(axis=2))\n",
    "plt.ylim([0,1.01])"
   ]
  },
  {
   "cell_type": "code",
   "execution_count": null,
   "metadata": {
    "collapsed": false
   },
   "outputs": [],
   "source": [
    "#plot_conf_matrix(y3eval,eval_)\n",
    "plot_conf_matrix(y3eval,map(int,eval_pred3class.mean(axis=1)))"
   ]
  },
  {
   "cell_type": "code",
   "execution_count": null,
   "metadata": {
    "collapsed": false
   },
   "outputs": [],
   "source": []
  },
  {
   "cell_type": "code",
   "execution_count": null,
   "metadata": {
    "collapsed": true
   },
   "outputs": [],
   "source": []
  },
  {
   "cell_type": "code",
   "execution_count": null,
   "metadata": {
    "collapsed": true
   },
   "outputs": [],
   "source": []
  },
  {
   "cell_type": "code",
   "execution_count": null,
   "metadata": {
    "collapsed": true
   },
   "outputs": [],
   "source": []
  },
  {
   "cell_type": "code",
   "execution_count": null,
   "metadata": {
    "collapsed": true
   },
   "outputs": [],
   "source": []
  },
  {
   "cell_type": "code",
   "execution_count": null,
   "metadata": {
    "collapsed": true
   },
   "outputs": [],
   "source": [
    "empl"
   ]
  },
  {
   "cell_type": "code",
   "execution_count": null,
   "metadata": {
    "collapsed": true
   },
   "outputs": [],
   "source": []
  },
  {
   "cell_type": "code",
   "execution_count": null,
   "metadata": {
    "collapsed": false
   },
   "outputs": [],
   "source": [
    "# omit those that have more than 25% missing:\n",
    "missing_threshold = 0.25\n",
    "columns_to_omit = list(sdf[sdf['x_missing'] > missing_threshold].Column.values)\n",
    "print len(columns_to_omit)\n",
    "print columns_to_omit"
   ]
  },
  {
   "cell_type": "code",
   "execution_count": null,
   "metadata": {
    "collapsed": true
   },
   "outputs": [],
   "source": []
  },
  {
   "cell_type": "code",
   "execution_count": null,
   "metadata": {
    "collapsed": true
   },
   "outputs": [],
   "source": []
  },
  {
   "cell_type": "markdown",
   "metadata": {},
   "source": [
    "## Construct a simple DataFrame of employee dates using Timestamps"
   ]
  },
  {
   "cell_type": "code",
   "execution_count": null,
   "metadata": {
    "collapsed": false
   },
   "outputs": [],
   "source": []
  },
  {
   "cell_type": "code",
   "execution_count": null,
   "metadata": {
    "collapsed": true
   },
   "outputs": [],
   "source": []
  },
  {
   "cell_type": "code",
   "execution_count": null,
   "metadata": {
    "collapsed": true
   },
   "outputs": [],
   "source": [
    "## Let me return to removing columns I don't want\n",
    "* keep "
   ]
  },
  {
   "cell_type": "code",
   "execution_count": null,
   "metadata": {
    "collapsed": false
   },
   "outputs": [],
   "source": [
    "\n",
    "columns_to_remove = ['']"
   ]
  },
  {
   "cell_type": "code",
   "execution_count": null,
   "metadata": {
    "collapsed": true
   },
   "outputs": [],
   "source": [
    "from sklearn.base import BaseEstimator, TransformerMixin\n",
    "from sklearn.pipeline import Pipeline\n",
    "from sklearn.pipeline import FeatureUnion"
   ]
  },
  {
   "cell_type": "code",
   "execution_count": null,
   "metadata": {
    "collapsed": true
   },
   "outputs": [],
   "source": []
  },
  {
   "cell_type": "code",
   "execution_count": null,
   "metadata": {
    "collapsed": true
   },
   "outputs": [],
   "source": [
    "pipeline = Pipeline([(\"DF_Converter\", br.DataFrameConverter(columns=X.columns)),\n",
    "                     (\"Cat_Converter\", br.ConvertCategorical(categorical_columns=categorical_columns)),\n",
    "                     (\"Impute\", br.ImputeData()),\n",
    "                     (\"clf\", RandomForestClassifier(n_jobs=50))])\n",
    "pipeline.fit(X, y)\n",
    "pipeline.predict_proba(X_2014_validation)"
   ]
  },
  {
   "cell_type": "markdown",
   "metadata": {},
   "source": [
    "## Add/replace some relevant columns to this dataframe\n",
    "* POSTAL_SFI --> zip5 \n",
    "* unempl_rate by joining on unemployment\n",
    "* Age_hire\n",
    "* terminated \n",
    "* sep_status\n",
    "\n",
    "use a parallel dataframe for dates/timestamps"
   ]
  },
  {
   "cell_type": "code",
   "execution_count": null,
   "metadata": {
    "collapsed": true
   },
   "outputs": [],
   "source": [
    "class ColumnSelector(TransformerMixin):\n",
    "    \"\"\" Selects column(s) from a pandas DataFrame\n",
    "    \"\"\"\n",
    "    def __init__(self,cols):\n",
    "        self.cols = cols\n",
    "    def tranform(self, X, y=None):\n",
    "        return X[:,self.cols]\n",
    "    def fit(self, X, y=None):\n",
    "        return self\n",
    "    "
   ]
  },
  {
   "cell_type": "code",
   "execution_count": null,
   "metadata": {
    "collapsed": true
   },
   "outputs": [],
   "source": [
    "## Per discussion with HR COE team decide to truncate data after a particular date\n"
   ]
  },
  {
   "cell_type": "markdown",
   "metadata": {},
   "source": [
    "### Helper Functions Follow\n",
    "* Most taken from ```bear.py```\n",
    "* "
   ]
  },
  {
   "cell_type": "code",
   "execution_count": null,
   "metadata": {
    "collapsed": true
   },
   "outputs": [],
   "source": []
  },
  {
   "cell_type": "markdown",
   "metadata": {},
   "source": [
    "## Note make sure you have run kinit before the following"
   ]
  },
  {
   "cell_type": "code",
   "execution_count": null,
   "metadata": {
    "collapsed": false
   },
   "outputs": [],
   "source": []
  },
  {
   "cell_type": "code",
   "execution_count": null,
   "metadata": {
    "collapsed": true
   },
   "outputs": [],
   "source": []
  },
  {
   "cell_type": "code",
   "execution_count": null,
   "metadata": {
    "collapsed": true
   },
   "outputs": [],
   "source": []
  },
  {
   "cell_type": "code",
   "execution_count": null,
   "metadata": {
    "collapsed": true
   },
   "outputs": [],
   "source": []
  },
  {
   "cell_type": "code",
   "execution_count": null,
   "metadata": {
    "collapsed": false
   },
   "outputs": [],
   "source": [
    "# now assign these values to the arrays\n",
    "emB['med_surv'] = emB['JOBCODE'].apply(lambda x: med_survival[x] )\n",
    "emB_eval['med_surv'] = emB_eval['JOBCODE'].apply(lambda x: med_survival[x] )"
   ]
  },
  {
   "cell_type": "code",
   "execution_count": null,
   "metadata": {
    "collapsed": true
   },
   "outputs": [],
   "source": [
    "modeling_cols"
   ]
  },
  {
   "cell_type": "code",
   "execution_count": null,
   "metadata": {
    "collapsed": false
   },
   "outputs": [],
   "source": [
    "print len(modeling_cols)\n",
    "sm_mod_cols = [a for a in modeling_cols]\n",
    "job_function_cols = [b for b in modeling_cols if b.startswith('JOB_FUNCTION')]\n",
    "job_function_cols\n",
    "#for a in ['JOBCODE','grade_code','loc_descr','job_fcode','']\n",
    "sm_mod_cols.remove('JOBCODE')\n",
    "sm_mod_cols+=['med_surv']\n",
    "print len(sm_mod_cols), len(modeling_cols)"
   ]
  },
  {
   "cell_type": "code",
   "execution_count": null,
   "metadata": {
    "collapsed": false
   },
   "outputs": [],
   "source": [
    "Xp = emB[sm_mod_cols].as_matrix().astype(np.float)\n",
    "print np.shape(Xp)\n",
    "#y_tenure = emB.Tenure_years.as_matrix().astype(np.float)\n",
    "Xeval_p = emB_eval[sm_mod_cols].as_matrix().astype(np.float)\n"
   ]
  },
  {
   "cell_type": "code",
   "execution_count": null,
   "metadata": {
    "collapsed": false
   },
   "outputs": [],
   "source": [
    "%%time \n",
    "RFRforest2 = ensemble.RandomForestRegressor(n_jobs=50,n_estimators=500,max_features=None)\n",
    "RFRforest2.fit(Xp,y_tenure)\n",
    "#importances= forest.feature_importances_\n",
    "## apply to the eval subset from emB\n",
    "pred_tenure_eval_2 = RFRforest2.predict(Xeval_p)\n",
    "np.shape(pred_tenure_eval_2)#, np.shape(y_tenure_class.ix[eval_index])\n"
   ]
  },
  {
   "cell_type": "code",
   "execution_count": null,
   "metadata": {
    "collapsed": false
   },
   "outputs": [],
   "source": [
    "graph_feature_importances(RFRforest2,sm_mod_cols)"
   ]
  },
  {
   "cell_type": "markdown",
   "metadata": {
    "collapsed": true
   },
   "source": [
    "## working on using the pickled version"
   ]
  },
  {
   "cell_type": "code",
   "execution_count": 120,
   "metadata": {
    "collapsed": false
   },
   "outputs": [],
   "source": [
    "# define the application of a series of time-based model\n",
    "#pred_years = map(np.str,np.arange(1,6))\n",
    "\n",
    "def apply_survival_models(df,MDL_BASE_PATH,pkl_name,pred_years):\n",
    "    #proba_df = []\n",
    "    #import joblib as jl\n",
    "    import pickle\n",
    "    import pandas as pd\n",
    "    mdl_name = MDL_BASE_PATH+pkl_name\n",
    "    #print mdl_name\n",
    "    \n",
    "    \n",
    "    \n",
    "    try:\n",
    "        stored_mdl = pickle.load(open(mdl_name,'rb'))\n",
    "        #stored_mdl = jl.load(mdl_name)\n",
    "                \n",
    "        sf_pred = stored_mdl.predict_survival_function(df)\n",
    "        sf_pred.index.name='years'\n",
    "        sf_pred.reset_index(inplace=True)\n",
    "        pred_proba = get_survival_prediction(df,sf_pred,yr_vals=pred_years)\n",
    "        \n",
    "        #df.loc[edf.index[employee_id]]=prob_vals\n",
    "        #except ValueError: # case when not found (because too young)\n",
    "        #    df.loc[edf.index[employee_id]]=0.0 # zero probability\n",
    "            #print employee_id, edf.index[employee_id]\n",
    "    #df.fillna(0.0,inplace=True) # fillin missing values with zero\n",
    "    #df[df<0] = 0.0 #replace negative probabilities with zero\n",
    "        \n",
    "    except IOError:\n",
    "        print \"requested pickle file not found {0}, using default parameters.\".format(mdl_name)\n",
    "        # TODO create default predictions from simple Survival model for retirement.\n",
    "        pred_proba = pd.DataFrame()\n",
    "        \n",
    "    return pred_proba"
   ]
  },
  {
   "cell_type": "code",
   "execution_count": 139,
   "metadata": {
    "collapsed": false
   },
   "outputs": [
    {
     "data": {
      "text/html": [
       "<div>\n",
       "<table border=\"1\" class=\"dataframe\">\n",
       "  <thead>\n",
       "    <tr style=\"text-align: right;\">\n",
       "      <th></th>\n",
       "      <th>years</th>\n",
       "      <th>134261</th>\n",
       "      <th>134262</th>\n",
       "      <th>134263</th>\n",
       "      <th>134264</th>\n",
       "      <th>134265</th>\n",
       "    </tr>\n",
       "  </thead>\n",
       "  <tbody>\n",
       "    <tr>\n",
       "      <th>0</th>\n",
       "      <td>0.000000</td>\n",
       "      <td>1</td>\n",
       "      <td>1</td>\n",
       "      <td>1</td>\n",
       "      <td>1</td>\n",
       "      <td>1</td>\n",
       "    </tr>\n",
       "    <tr>\n",
       "      <th>1</th>\n",
       "      <td>50.001369</td>\n",
       "      <td>1</td>\n",
       "      <td>1</td>\n",
       "      <td>1</td>\n",
       "      <td>1</td>\n",
       "      <td>1</td>\n",
       "    </tr>\n",
       "    <tr>\n",
       "      <th>2</th>\n",
       "      <td>50.004107</td>\n",
       "      <td>1</td>\n",
       "      <td>1</td>\n",
       "      <td>1</td>\n",
       "      <td>1</td>\n",
       "      <td>1</td>\n",
       "    </tr>\n",
       "    <tr>\n",
       "      <th>3</th>\n",
       "      <td>50.006845</td>\n",
       "      <td>1</td>\n",
       "      <td>1</td>\n",
       "      <td>1</td>\n",
       "      <td>1</td>\n",
       "      <td>1</td>\n",
       "    </tr>\n",
       "    <tr>\n",
       "      <th>4</th>\n",
       "      <td>50.009582</td>\n",
       "      <td>1</td>\n",
       "      <td>1</td>\n",
       "      <td>1</td>\n",
       "      <td>1</td>\n",
       "      <td>1</td>\n",
       "    </tr>\n",
       "  </tbody>\n",
       "</table>\n",
       "</div>"
      ],
      "text/plain": [
       "       years  134261  134262  134263  134264  134265\n",
       "0   0.000000       1       1       1       1       1\n",
       "1  50.001369       1       1       1       1       1\n",
       "2  50.004107       1       1       1       1       1\n",
       "3  50.006845       1       1       1       1       1\n",
       "4  50.009582       1       1       1       1       1"
      ]
     },
     "execution_count": 139,
     "metadata": {},
     "output_type": "execute_result"
    }
   ],
   "source": [
    "tmp_pred = ret_model.predict_survival_function(em2002.tail())\n",
    "tmp_pred.index.name='years'\n",
    "tmp_pred.reset_index(inplace=True)\n",
    "tmp_pred.head()"
   ]
  },
  {
   "cell_type": "code",
   "execution_count": 147,
   "metadata": {
    "collapsed": false
   },
   "outputs": [
    {
     "name": "stdout",
     "output_type": "stream",
     "text": [
      "0 40.3285420945\n",
      "0 1 0 1\n",
      "1 2 0 1\n",
      "2 3 0 1\n",
      "3 4 0 1\n",
      "4 5 0 1\n",
      "1 51.3976728268\n",
      "0 1 876 877\n",
      "1 2 1241 1242\n",
      "2 3 1606 1607\n",
      "3 4 1970 1972\n",
      "4 5 2336 2337\n",
      "2 38.1437371663\n",
      "0 1 0 1\n",
      "1 2 0 1\n",
      "2 3 0 1\n",
      "3 4 0 1\n",
      "4 5 0 1\n",
      "3 29.5578370979\n",
      "0 1 0 1\n",
      "1 2 0 1\n",
      "2 3 0 1\n",
      "3 4 0 1\n",
      "4 5 0 1\n",
      "4 27.5975359343\n",
      "0 1 0 1\n",
      "1 2 0 1\n",
      "2 3 0 1\n",
      "3 4 0 1\n",
      "4 5 0 1\n"
     ]
    }
   ],
   "source": [
    "from scipy import interpolate\n",
    "for employee_id,age in enumerate(em2002.Age_years.tail()):\n",
    "    print employee_id, age\n",
    "    if age< 50.0:\n",
    "        proba\n",
    "    for idx,year in enumerate(yr_range):\n",
    "        ck_yr = age+year\n",
    "        \n",
    "        prior_idx = np.where(tmp_pred.years < ck_yr)[0][-1]\n",
    "        posterior_idx = np.where(tmp_pred.years > ck_yr)[0][0]\n",
    "        print idx,year,prior_idx, posterior_idx\n",
    "        x= [tmp_pred.ix[prior_idx]['years'], tmp_pred.ix[posterior_idx]['years']]\n",
    "        y= [tmp_pred.ix[prior_idx][employee_id],tmp_pred.ix[posterior_idx][employee_id]]\n",
    "        #print x,y, year\n",
    "                ## now interpolate these\n",
    "        y_interp = interpolate.interp1d(x,y)\n",
    "        proba = y_interp(ck_yr)\n",
    "#prior_idx = np.where(psf.years < ck_yr)[0][-1]\n",
    "#                posterior_idx = np.where(psf.years > ck_yr)[0][0]"
   ]
  },
  {
   "cell_type": "code",
   "execution_count": 180,
   "metadata": {
    "collapsed": false
   },
   "outputs": [],
   "source": [
    "def get_survival_prediction(edf,psf, age_col='Age_years',yr_vals=[1,2,3,4,5]):\n",
    "    from scipy import interpolate\n",
    "    \n",
    "    pred_col_names = ['proba_'+str(y) for y in yr_vals]\n",
    "    df = pd.DataFrame(index=edf.index,columns=pred_col_names,dtype=float)\n",
    "    print pred_col_names\n",
    "    for employee_id,age in enumerate(edf['Age_years']):\n",
    "        if employee_id % 5000 ==0 :\n",
    "            print employee_id, age\n",
    "            \n",
    "        prob_vals =np.ones((len(yr_vals),))\n",
    "        #print prob_vals,\"\\n\"\n",
    "        if age >= 50.0: # only deal with over 50\n",
    "            for idx,year in enumerate(yr_vals):\n",
    "                ck_yr = age+year\n",
    "                try:\n",
    "                    prior_idx = np.where(psf.years < ck_yr)[0][-1]\n",
    "                    posterior_idx = np.where(psf.years > ck_yr)[0][0]\n",
    "                    #if employee_id == 0:\n",
    "                    #    print prior_idx, posterior_idx, employee_id\n",
    "                        \n",
    "                    x= [psf.ix[prior_idx]['years'], psf.ix[posterior_idx]['years']]\n",
    "                    y= [psf.ix[prior_idx][employee_id+1],psf.ix[posterior_idx][employee_id+1]]\n",
    "                    # there is an extra column in my processing\n",
    "                    #print x,y, year\n",
    "                    ## now interpolate these\n",
    "                    y_interp = interpolate.interp1d(x,y)\n",
    "                    proba = y_interp(ck_yr)\n",
    "                    #print proba\n",
    "                except IndexError:\n",
    "                    proba = psf.ix[np.where(psf.years == ck_yr)[0]][employee_id+1]\n",
    "            \n",
    "                prob_vals[idx] = proba\n",
    "                    \n",
    "        df.loc[edf.index[employee_id]]=prob_vals\n",
    "    df.fillna(1.0,inplace=True) # fillin missing values with zero\n",
    "    df[df<0] = 0.0 #replace negative probabilities with zero\n",
    "    \n",
    "    return 1-df # convert to probability of retirement"
   ]
  },
  {
   "cell_type": "code",
   "execution_count": 171,
   "metadata": {
    "collapsed": false
   },
   "outputs": [
    {
     "data": {
      "text/plain": [
       "array([ 60.94729637,  61.38809035,  61.06502396,  67.07734428,  51.17316906])"
      ]
     },
     "execution_count": 171,
     "metadata": {},
     "output_type": "execute_result"
    }
   ],
   "source": [
    "#for a,b in \n",
    "o50eval['Age_years'].tail().as_matrix()\n",
    "#    print a, b"
   ]
  },
  {
   "cell_type": "code",
   "execution_count": null,
   "metadata": {
    "collapsed": false
   },
   "outputs": [],
   "source": [
    "    \"\"\"\n",
    "    for idx,pyr in enumerate(pred_years):\n",
    "        #pkl_name ='rf'+pyr+'.pkl'#5.pkl'\n",
    "        #if pcase == 'ret/':\n",
    "        #    pkl_name = 'R'+pkl_name\n",
    "\n",
    "        #path_name =MODEL_BASE_PATH+pcase+pyr+'/'\n",
    "        #print path_name, pkl_name\n",
    "\n",
    "        # load a model, evaluate it and return the 'average' probability for each person\n",
    "        #abs_mdl_name = os.path.abspath(path_name+pkl_name)\n",
    "        #mdl_name = path_name+pkl_name\n",
    "        #stored_mdl = jl.load(mdl_name)\n",
    "        \n",
    "        stored_prediction = evaluate_models(stored_mdl,X)#stored_pred,stored_pred_proba = evaluate_models(stored_mdl,X)\n",
    "\n",
    "        df = pd.DataFrame(stored_prediction.T)\n",
    "        df.columns=[pcase[:-1]+pyr+'yr']\n",
    "\n",
    "        proba_df.append(df)\n",
    "\n",
    "    pred_df = pd.concat([a for a in proba_df], axis=1)\n",
    "    \"\"\""
   ]
  },
  {
   "cell_type": "code",
   "execution_count": 126,
   "metadata": {
    "collapsed": false
   },
   "outputs": [
    {
     "data": {
      "text/html": [
       "<div>\n",
       "<table border=\"1\" class=\"dataframe\">\n",
       "  <thead>\n",
       "    <tr style=\"text-align: right;\">\n",
       "      <th></th>\n",
       "      <th>Age_years</th>\n",
       "      <th>retired</th>\n",
       "    </tr>\n",
       "  </thead>\n",
       "  <tbody>\n",
       "    <tr>\n",
       "      <th>134261</th>\n",
       "      <td>40.328542</td>\n",
       "      <td>0</td>\n",
       "    </tr>\n",
       "    <tr>\n",
       "      <th>134262</th>\n",
       "      <td>51.397673</td>\n",
       "      <td>0</td>\n",
       "    </tr>\n",
       "    <tr>\n",
       "      <th>134263</th>\n",
       "      <td>38.143737</td>\n",
       "      <td>0</td>\n",
       "    </tr>\n",
       "    <tr>\n",
       "      <th>134264</th>\n",
       "      <td>29.557837</td>\n",
       "      <td>0</td>\n",
       "    </tr>\n",
       "    <tr>\n",
       "      <th>134265</th>\n",
       "      <td>27.597536</td>\n",
       "      <td>0</td>\n",
       "    </tr>\n",
       "  </tbody>\n",
       "</table>\n",
       "</div>"
      ],
      "text/plain": [
       "        Age_years  retired\n",
       "134261  40.328542        0\n",
       "134262  51.397673        0\n",
       "134263  38.143737        0\n",
       "134264  29.557837        0\n",
       "134265  27.597536        0"
      ]
     },
     "execution_count": 126,
     "metadata": {},
     "output_type": "execute_result"
    }
   ],
   "source": [
    "em2002[['Age_years','retired']].tail()"
   ]
  },
  {
   "cell_type": "code",
   "execution_count": 161,
   "metadata": {
    "collapsed": false
   },
   "outputs": [
    {
     "data": {
      "text/plain": [
       "108303    60.947296\n",
       "23224     61.388090\n",
       "54614     61.065024\n",
       "69730     67.077344\n",
       "101867    51.173169\n",
       "Name: Age_years, dtype: float64"
      ]
     },
     "execution_count": 161,
     "metadata": {},
     "output_type": "execute_result"
    }
   ],
   "source": [
    "o50eval['Age_years'].tail()"
   ]
  },
  {
   "cell_type": "code",
   "execution_count": 160,
   "metadata": {
    "collapsed": false
   },
   "outputs": [
    {
     "data": {
      "text/html": [
       "<div>\n",
       "<table border=\"1\" class=\"dataframe\">\n",
       "  <thead>\n",
       "    <tr style=\"text-align: right;\">\n",
       "      <th></th>\n",
       "      <th>years</th>\n",
       "      <th>108303</th>\n",
       "      <th>23224</th>\n",
       "      <th>54614</th>\n",
       "      <th>69730</th>\n",
       "      <th>101867</th>\n",
       "    </tr>\n",
       "  </thead>\n",
       "  <tbody>\n",
       "    <tr>\n",
       "      <th>0</th>\n",
       "      <td>0.000000</td>\n",
       "      <td>1</td>\n",
       "      <td>1</td>\n",
       "      <td>1</td>\n",
       "      <td>1</td>\n",
       "      <td>1</td>\n",
       "    </tr>\n",
       "    <tr>\n",
       "      <th>1</th>\n",
       "      <td>50.001369</td>\n",
       "      <td>1</td>\n",
       "      <td>1</td>\n",
       "      <td>1</td>\n",
       "      <td>1</td>\n",
       "      <td>1</td>\n",
       "    </tr>\n",
       "    <tr>\n",
       "      <th>2</th>\n",
       "      <td>50.004107</td>\n",
       "      <td>1</td>\n",
       "      <td>1</td>\n",
       "      <td>1</td>\n",
       "      <td>1</td>\n",
       "      <td>1</td>\n",
       "    </tr>\n",
       "    <tr>\n",
       "      <th>3</th>\n",
       "      <td>50.006845</td>\n",
       "      <td>1</td>\n",
       "      <td>1</td>\n",
       "      <td>1</td>\n",
       "      <td>1</td>\n",
       "      <td>1</td>\n",
       "    </tr>\n",
       "    <tr>\n",
       "      <th>4</th>\n",
       "      <td>50.009582</td>\n",
       "      <td>1</td>\n",
       "      <td>1</td>\n",
       "      <td>1</td>\n",
       "      <td>1</td>\n",
       "      <td>1</td>\n",
       "    </tr>\n",
       "  </tbody>\n",
       "</table>\n",
       "</div>"
      ],
      "text/plain": [
       "       years  108303  23224  54614  69730  101867\n",
       "0   0.000000       1      1      1      1       1\n",
       "1  50.001369       1      1      1      1       1\n",
       "2  50.004107       1      1      1      1       1\n",
       "3  50.006845       1      1      1      1       1\n",
       "4  50.009582       1      1      1      1       1"
      ]
     },
     "execution_count": 160,
     "metadata": {},
     "output_type": "execute_result"
    }
   ],
   "source": [
    "tmp2 = ret_model.predict_survival_function(o50eval.tail())\n",
    "tmp2.index.name = 'years'\n",
    "tmp2.reset_index(inplace=True)\n",
    "tmp2.head()"
   ]
  },
  {
   "cell_type": "code",
   "execution_count": 162,
   "metadata": {
    "collapsed": false
   },
   "outputs": [
    {
     "data": {
      "text/plain": [
       "4357"
      ]
     },
     "execution_count": 162,
     "metadata": {},
     "output_type": "execute_result"
    }
   ],
   "source": [
    "np.where(tmp2.years < 61.947296)[0][-1]"
   ]
  },
  {
   "cell_type": "code",
   "execution_count": 184,
   "metadata": {
    "collapsed": false
   },
   "outputs": [
    {
     "data": {
      "text/plain": [
       "array([1, 2, 3, 4, 5])"
      ]
     },
     "execution_count": 184,
     "metadata": {},
     "output_type": "execute_result"
    }
   ],
   "source": [
    "yr_range"
   ]
  },
  {
   "cell_type": "code",
   "execution_count": 181,
   "metadata": {
    "collapsed": false
   },
   "outputs": [
    {
     "name": "stdout",
     "output_type": "stream",
     "text": [
      "['proba_1', 'proba_2', 'proba_3', 'proba_4', 'proba_5']\n",
      "0 60.9472963723\n"
     ]
    }
   ],
   "source": [
    "MDL_BASE_PATH = '/home/kesj/work/hrsepara/proc/'\n",
    "yr_range = np.arange(1,6)\n",
    "ret_proba_df2 = apply_survival_models(o50eval.tail(),MDL_BASE_PATH,'retirement_sfA.pkl',yr_range)"
   ]
  },
  {
   "cell_type": "code",
   "execution_count": 182,
   "metadata": {
    "collapsed": false
   },
   "outputs": [
    {
     "data": {
      "text/html": [
       "<div>\n",
       "<table border=\"1\" class=\"dataframe\">\n",
       "  <thead>\n",
       "    <tr style=\"text-align: right;\">\n",
       "      <th></th>\n",
       "      <th>proba_1</th>\n",
       "      <th>proba_2</th>\n",
       "      <th>proba_3</th>\n",
       "      <th>proba_4</th>\n",
       "      <th>proba_5</th>\n",
       "    </tr>\n",
       "  </thead>\n",
       "  <tbody>\n",
       "    <tr>\n",
       "      <th>108303</th>\n",
       "      <td>0.435796</td>\n",
       "      <td>0.659508</td>\n",
       "      <td>0.749876</td>\n",
       "      <td>0.807650</td>\n",
       "      <td>0.883177</td>\n",
       "    </tr>\n",
       "    <tr>\n",
       "      <th>23224</th>\n",
       "      <td>0.376115</td>\n",
       "      <td>0.478729</td>\n",
       "      <td>0.555260</td>\n",
       "      <td>0.639479</td>\n",
       "      <td>0.724056</td>\n",
       "    </tr>\n",
       "    <tr>\n",
       "      <th>54614</th>\n",
       "      <td>0.606475</td>\n",
       "      <td>0.769713</td>\n",
       "      <td>0.846657</td>\n",
       "      <td>0.898669</td>\n",
       "      <td>0.948265</td>\n",
       "    </tr>\n",
       "    <tr>\n",
       "      <th>69730</th>\n",
       "      <td>0.765153</td>\n",
       "      <td>0.798855</td>\n",
       "      <td>0.825110</td>\n",
       "      <td>0.856206</td>\n",
       "      <td>0.874256</td>\n",
       "    </tr>\n",
       "    <tr>\n",
       "      <th>101867</th>\n",
       "      <td>0.000197</td>\n",
       "      <td>0.000264</td>\n",
       "      <td>0.000458</td>\n",
       "      <td>0.016617</td>\n",
       "      <td>0.049845</td>\n",
       "    </tr>\n",
       "  </tbody>\n",
       "</table>\n",
       "</div>"
      ],
      "text/plain": [
       "         proba_1   proba_2   proba_3   proba_4   proba_5\n",
       "108303  0.435796  0.659508  0.749876  0.807650  0.883177\n",
       "23224   0.376115  0.478729  0.555260  0.639479  0.724056\n",
       "54614   0.606475  0.769713  0.846657  0.898669  0.948265\n",
       "69730   0.765153  0.798855  0.825110  0.856206  0.874256\n",
       "101867  0.000197  0.000264  0.000458  0.016617  0.049845"
      ]
     },
     "execution_count": 182,
     "metadata": {},
     "output_type": "execute_result"
    }
   ],
   "source": [
    "ret_proba_df2.head()"
   ]
  },
  {
   "cell_type": "code",
   "execution_count": 175,
   "metadata": {
    "collapsed": false
   },
   "outputs": [
    {
     "data": {
      "text/html": [
       "<div>\n",
       "<table border=\"1\" class=\"dataframe\">\n",
       "  <thead>\n",
       "    <tr style=\"text-align: right;\">\n",
       "      <th></th>\n",
       "      <th>Age_years</th>\n",
       "      <th>retired</th>\n",
       "    </tr>\n",
       "  </thead>\n",
       "  <tbody>\n",
       "    <tr>\n",
       "      <th>108303</th>\n",
       "      <td>60.947296</td>\n",
       "      <td>0</td>\n",
       "    </tr>\n",
       "    <tr>\n",
       "      <th>23224</th>\n",
       "      <td>61.388090</td>\n",
       "      <td>0</td>\n",
       "    </tr>\n",
       "    <tr>\n",
       "      <th>54614</th>\n",
       "      <td>61.065024</td>\n",
       "      <td>1</td>\n",
       "    </tr>\n",
       "    <tr>\n",
       "      <th>69730</th>\n",
       "      <td>67.077344</td>\n",
       "      <td>0</td>\n",
       "    </tr>\n",
       "    <tr>\n",
       "      <th>101867</th>\n",
       "      <td>51.173169</td>\n",
       "      <td>0</td>\n",
       "    </tr>\n",
       "  </tbody>\n",
       "</table>\n",
       "</div>"
      ],
      "text/plain": [
       "        Age_years  retired\n",
       "108303  60.947296        0\n",
       "23224   61.388090        0\n",
       "54614   61.065024        1\n",
       "69730   67.077344        0\n",
       "101867  51.173169        0"
      ]
     },
     "execution_count": 175,
     "metadata": {},
     "output_type": "execute_result"
    }
   ],
   "source": [
    "o50eval[['Age_years','retired']].tail()"
   ]
  },
  {
   "cell_type": "code",
   "execution_count": 179,
   "metadata": {
    "collapsed": false
   },
   "outputs": [
    {
     "data": {
      "text/plain": [
       "69475"
      ]
     },
     "execution_count": 179,
     "metadata": {},
     "output_type": "execute_result"
    }
   ],
   "source": [
    "current = em2002[em2002.status==0].copy()\n",
    "len(current)"
   ]
  },
  {
   "cell_type": "code",
   "execution_count": 183,
   "metadata": {
    "collapsed": false
   },
   "outputs": [
    {
     "name": "stdout",
     "output_type": "stream",
     "text": [
      "['proba_1', 'proba_2', 'proba_3', 'proba_4', 'proba_5']\n",
      "0 58.4284736482\n",
      "5000 48.4188911704\n",
      "10000 48.6488706366\n",
      "15000 37.6536618754\n",
      "20000 52.2737850787\n",
      "25000 50.2395619439\n",
      "30000 44.9609856263\n",
      "35000 25.3388090349\n",
      "40000 56.0246406571\n",
      "45000 36.2518822724\n",
      "50000 49.3059548255\n",
      "55000 31.8466803559\n",
      "60000 48.0492813142\n",
      "65000 36.4325804244\n"
     ]
    }
   ],
   "source": [
    "current_ret_prob = apply_survival_models(current,MDL_BASE_PATH,'retirement_sfA.pkl',yr_range)"
   ]
  },
  {
   "cell_type": "code",
   "execution_count": null,
   "metadata": {
    "collapsed": true
   },
   "outputs": [],
   "source": []
  }
 ],
 "metadata": {
  "kernelspec": {
   "display_name": "Python 3",
   "language": "python",
   "name": "python3"
  },
  "language_info": {
   "codemirror_mode": {
    "name": "ipython",
    "version": 3
   },
   "file_extension": ".py",
   "mimetype": "text/x-python",
   "name": "python",
   "nbconvert_exporter": "python",
   "pygments_lexer": "ipython3",
   "version": "3.5.1"
  }
 },
 "nbformat": 4,
 "nbformat_minor": 0
}
