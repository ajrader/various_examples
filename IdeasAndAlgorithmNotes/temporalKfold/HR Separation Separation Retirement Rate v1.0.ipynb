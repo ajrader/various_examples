{
 "cells": [
  {
   "cell_type": "markdown",
   "metadata": {},
   "source": [
    "#HR Separation. \n",
    "Checking the annual retirement and separation rates given a model."
   ]
  },
  {
   "cell_type": "code",
   "execution_count": 1,
   "metadata": {
    "collapsed": true
   },
   "outputs": [],
   "source": [
    "coredir = '/data/discovery/hrsepara/core/'\n",
    "stgdir1 = '/data/discovery/hrsepara/staging/eda'\n",
    "stgdir1local = '/home/kesj/work/hrsepara/eda'\n",
    "stgdir2local = '/home/kesj/work/hrsepara/proc'\n",
    "repodir = '/home/kesj/lib/repo/'"
   ]
  },
  {
   "cell_type": "code",
   "execution_count": 2,
   "metadata": {
    "collapsed": false
   },
   "outputs": [
    {
     "name": "stderr",
     "output_type": "stream",
     "text": [
      "/opt/anaconda/2.3.0/lib/python2.7/site-packages/matplotlib/font_manager.py:273: UserWarning: Matplotlib is building the font cache using fc-list. This may take a moment.\n",
      "  warnings.warn('Matplotlib is building the font cache using fc-list. This may take a moment.')\n",
      "/opt/anaconda/2.3.0/lib/python2.7/site-packages/matplotlib/__init__.py:872: UserWarning: axes.color_cycle is deprecated and replaced with axes.prop_cycle; please use the latter.\n",
      "  warnings.warn(self.msg_depr % (key, alt_key))\n"
     ]
    }
   ],
   "source": [
    "### load the basic files\n",
    "import os,subprocess,sys\n",
    "import pandas as pd\n",
    "import numpy as np\n",
    "%matplotlib inline\n",
    "from datetime import datetime\n",
    "import matplotlib.pyplot as plt\n",
    "from itertools import chain\n",
    "import random\n",
    "import seaborn as sns\n",
    "from glob import glob\n",
    "plt.style.use('ggplot')"
   ]
  },
  {
   "cell_type": "markdown",
   "metadata": {},
   "source": [
    "## Plan of attack:\n",
    "1. read the data (after 2001)\n",
    "2. obtain the set of current employees\n",
    "3. Run through a model to get prediction(s) for retirement and separation\n",
    "    * based upon the given model, preprocess it appropriately: for the server model use the minimal set of features and processing of the web_app code.\n",
    "    * for the survival model ...\n",
    "4. calc the total separation and retirements for each year and derive the rate of separation/retirement.\n",
    "    * how do I determine the confidence intervals for these?"
   ]
  },
  {
   "cell_type": "code",
   "execution_count": 7,
   "metadata": {
    "collapsed": false
   },
   "outputs": [
    {
     "data": {
      "text/plain": [
       "(134267, 183)"
      ]
     },
     "execution_count": 7,
     "metadata": {},
     "output_type": "execute_result"
    }
   ],
   "source": [
    "os.chdir(stgdir1local)\n",
    "em2002 = pd.read_csv('employees_after2001_raw.csv',dtype={'EMPL_CLASS':np.str,'LOCATION':np.str,'EEO1CODE':np.str,'SHIFT':np.str,'VOLINVOL':np.str})\n",
    "em2002.shape\n",
    "#em2 = pd.read_csv('after2001_v1.csv')\n",
    "#em2.head()"
   ]
  },
  {
   "cell_type": "code",
   "execution_count": 11,
   "metadata": {
    "collapsed": false
   },
   "outputs": [
    {
     "data": {
      "text/plain": [
       "(134266, 164)"
      ]
     },
     "execution_count": 11,
     "metadata": {},
     "output_type": "execute_result"
    }
   ],
   "source": [
    "em2.shape"
   ]
  },
  {
   "cell_type": "markdown",
   "metadata": {},
   "source": [
    "## create a few additional target columns\n",
    "* retired\n",
    "* separated\n",
    "* invol_sep"
   ]
  },
  {
   "cell_type": "code",
   "execution_count": 15,
   "metadata": {
    "collapsed": false
   },
   "outputs": [
    {
     "name": "stdout",
     "output_type": "stream",
     "text": [
      "17459\n",
      "97164\n",
      "166\n"
     ]
    }
   ],
   "source": [
    "# look at the list of ACTRES1 for  ReTIREMENT\n",
    "uniq_action_reasons_1 = em2002.ACTRES1.unique()\n",
    "print len(uniq_action_reasons_1)\n",
    "temp_list = [str(x).split(';') for x in uniq_action_reasons_1]\n",
    "from itertools import chain\n",
    "act_reason_1_list = list(chain.from_iterable(temp_list))\n",
    "print len(act_reason_1_list)\n",
    "act_reason_1_set = set(act_reason_1_list)\n",
    "print len(act_reason_1_set)\n",
    "\n",
    "# subset these actions into those associated with retirement\n",
    "possible_retire_codes = [x for x in act_reason_1_set if ('RET' in x and  'RETURN' not in x) ]\n",
    "possible_retire_codes.append('DISABILITY')\n",
    "len(possible_retire_codes)\n",
    "possible_retire_codes.sort()\n"
   ]
  },
  {
   "cell_type": "code",
   "execution_count": 16,
   "metadata": {
    "collapsed": true
   },
   "outputs": [],
   "source": [
    "# define a function to identify retired\n",
    "def identify_retired(x,ret_codes =possible_retire_codes):\n",
    "    try:\n",
    "        matched = [a for a in x.split(';') if a in ret_codes]\n",
    "        if len(matched):\n",
    "            return 1\n",
    "        else:\n",
    "            return 0\n",
    "    except AttributeError:\n",
    "        return 0"
   ]
  },
  {
   "cell_type": "code",
   "execution_count": 17,
   "metadata": {
    "collapsed": false
   },
   "outputs": [
    {
     "data": {
      "text/plain": [
       "0    119149\n",
       "1     15118\n",
       "Name: retired, dtype: int64"
      ]
     },
     "execution_count": 17,
     "metadata": {},
     "output_type": "execute_result"
    }
   ],
   "source": [
    "em2002['retired']= em2002.ACTRES1.apply(lambda x: identify_retired(x))\n",
    "em2002.retired.value_counts()"
   ]
  },
  {
   "cell_type": "code",
   "execution_count": 18,
   "metadata": {
    "collapsed": false
   },
   "outputs": [
    {
     "name": "stdout",
     "output_type": "stream",
     "text": [
      "Out of 134267 rows, 49674 are separated and not retired.\n",
      "49674\n"
     ]
    }
   ],
   "source": [
    "## create a column for former (i.e. separated but NOT retired)\n",
    "em2002['former']= 0\n",
    "my_rows = em2002[(em2002.status==1) & (em2002.retired==0)].index\n",
    "print \"Out of {0} rows, {1} are separated and not retired.\".format(len(em2002),len(my_rows))\n",
    "#sum(empl_df['terminated']))#, len(my_rows)\n",
    "#em2002.iloc[my_rows,'former']=1\n",
    "em2002.loc[my_rows,'former']=1#.ix[my_rows]=1\n",
    "print sum(em2002.former)"
   ]
  },
  {
   "cell_type": "markdown",
   "metadata": {},
   "source": [
    "####There is one case where the person is 'retired' but has status of 0 is wrong -- I'm removing this row."
   ]
  },
  {
   "cell_type": "code",
   "execution_count": 20,
   "metadata": {
    "collapsed": false,
    "scrolled": true
   },
   "outputs": [
    {
     "data": {
      "text/html": [
       "<div>\n",
       "<table border=\"1\" class=\"dataframe\">\n",
       "  <thead>\n",
       "    <tr style=\"text-align: right;\">\n",
       "      <th>retired</th>\n",
       "      <th>0</th>\n",
       "      <th>1</th>\n",
       "    </tr>\n",
       "    <tr>\n",
       "      <th>status</th>\n",
       "      <th></th>\n",
       "      <th></th>\n",
       "    </tr>\n",
       "  </thead>\n",
       "  <tbody>\n",
       "    <tr>\n",
       "      <th>0</th>\n",
       "      <td>69475</td>\n",
       "      <td>1</td>\n",
       "    </tr>\n",
       "    <tr>\n",
       "      <th>1</th>\n",
       "      <td>49674</td>\n",
       "      <td>15117</td>\n",
       "    </tr>\n",
       "  </tbody>\n",
       "</table>\n",
       "</div>"
      ],
      "text/plain": [
       "retired      0      1\n",
       "status               \n",
       "0        69475      1\n",
       "1        49674  15117"
      ]
     },
     "execution_count": 20,
     "metadata": {},
     "output_type": "execute_result"
    }
   ],
   "source": [
    "pd.crosstab(em2002.status, em2002.retired)"
   ]
  },
  {
   "cell_type": "code",
   "execution_count": 21,
   "metadata": {
    "collapsed": false
   },
   "outputs": [
    {
     "name": "stdout",
     "output_type": "stream",
     "text": [
      "134266\n",
      "134266\n"
     ]
    }
   ],
   "source": [
    "print len(em2002[~((em2002.status == 0)& (em2002.retired == 1))])\n",
    "em2002 = em2002[~((em2002.status == 0)& (em2002.retired == 1))]\n",
    "print len(em2002)"
   ]
  },
  {
   "cell_type": "code",
   "execution_count": 22,
   "metadata": {
    "collapsed": true
   },
   "outputs": [],
   "source": [
    "## save this dataframe\n",
    "os.chdir(stgdir2local)\n",
    "em2002.to_csv('after2001_keyed.csv',index=False)"
   ]
  },
  {
   "cell_type": "markdown",
   "metadata": {},
   "source": [
    "# Start here April 15, 2016"
   ]
  },
  {
   "cell_type": "code",
   "execution_count": 9,
   "metadata": {
    "collapsed": false
   },
   "outputs": [
    {
     "data": {
      "text/plain": [
       "['EEO1CODE', 'EMPL_CLASS', 'LOCATION', 'SHIFT', 'VOLINVOL']"
      ]
     },
     "execution_count": 9,
     "metadata": {},
     "output_type": "execute_result"
    }
   ],
   "source": [
    "warning_cols = [42,47,92,165,178]\n",
    "[em2002.columns[a] for a in warning_cols]"
   ]
  },
  {
   "cell_type": "code",
   "execution_count": 10,
   "metadata": {
    "collapsed": false
   },
   "outputs": [],
   "source": [
    "os.chdir(stgdir2local)\n",
    "em2002 = pd.read_csv('after2001_keyed.csv',dtype={'EMPL_CLASS':np.str,'LOCATION':np.str,'EEO1CODE':np.str,'SHIFT':np.str,'VOLINVOL':np.str})"
   ]
  },
  {
   "cell_type": "markdown",
   "metadata": {},
   "source": [
    "## first define the current employees"
   ]
  },
  {
   "cell_type": "code",
   "execution_count": 11,
   "metadata": {
    "collapsed": true
   },
   "outputs": [],
   "source": [
    "current = em2002[em2002.status==0].copy() "
   ]
  },
  {
   "cell_type": "code",
   "execution_count": 12,
   "metadata": {
    "collapsed": false
   },
   "outputs": [
    {
     "data": {
      "text/plain": [
       "(69475, 185)"
      ]
     },
     "execution_count": 12,
     "metadata": {},
     "output_type": "execute_result"
    }
   ],
   "source": [
    "np.shape(current)"
   ]
  },
  {
   "cell_type": "markdown",
   "metadata": {},
   "source": [
    "## now look to apply the HRserver model (reduced column)"
   ]
  },
  {
   "cell_type": "code",
   "execution_count": 25,
   "metadata": {
    "collapsed": false
   },
   "outputs": [],
   "source": [
    "cols_to_keep = ['KEY','HIRE_DT','BIRTHDATE','SAL1','MERIT1','PERF1','BOX1','SEX','HAVE_INS','HAVE_DEP']\n"
   ]
  },
  {
   "cell_type": "code",
   "execution_count": 68,
   "metadata": {
    "collapsed": true
   },
   "outputs": [],
   "source": [
    "employee_df = current[cols_to_keep].copy()"
   ]
  },
  {
   "cell_type": "code",
   "execution_count": 69,
   "metadata": {
    "collapsed": false
   },
   "outputs": [
    {
     "data": {
      "text/plain": [
       "KEY          False\n",
       "HIRE_DT      False\n",
       "BIRTHDATE    False\n",
       "SAL1         False\n",
       "MERIT1        True\n",
       "PERF1         True\n",
       "BOX1          True\n",
       "SEX          False\n",
       "HAVE_INS      True\n",
       "HAVE_DEP      True\n",
       "dtype: bool"
      ]
     },
     "execution_count": 69,
     "metadata": {},
     "output_type": "execute_result"
    }
   ],
   "source": [
    "employee_df.isnull().any()"
   ]
  },
  {
   "cell_type": "code",
   "execution_count": 70,
   "metadata": {
    "collapsed": false
   },
   "outputs": [
    {
     "name": "stdout",
     "output_type": "stream",
     "text": [
      "2015-11-02 08:45:24.371272\n",
      "2015-01-01 00:00:00\n"
     ]
    }
   ],
   "source": [
    "# get the current date\n",
    "import datetime\n",
    "today_timestamp = pd.to_datetime(datetime.datetime.today())\n",
    "print today_timestamp\n",
    "# replace with Jan 01-15\n",
    "today_timestamp =pd.to_datetime(datetime.datetime.strptime('01JAN2015','%d%b%Y'))\n",
    "print today_timestamp"
   ]
  },
  {
   "cell_type": "code",
   "execution_count": 71,
   "metadata": {
    "collapsed": true
   },
   "outputs": [],
   "source": [
    "def calculate_years(timestamp1,timestamp2,days_in_year =365.25):\n",
    "    number_of_years = (timestamp2 - timestamp1).days/days_in_year\n",
    "    return number_of_years"
   ]
  },
  {
   "cell_type": "code",
   "execution_count": 72,
   "metadata": {
    "collapsed": false
   },
   "outputs": [],
   "source": [
    "## create timestamps for columns that are timestamps\n",
    "\n",
    "employee_df[['hire_tstmp','birth_tstmp']] = employee_df[['HIRE_DT','BIRTHDATE']].applymap(lambda x: pd.to_datetime(datetime.datetime.strptime(x,'%d%b%Y')))\n",
    "employee_df[['Age_years','Tenure_years']] = employee_df[['birth_tstmp','hire_tstmp']].applymap(lambda x: calculate_years(x,today_timestamp))\n",
    "\n",
    "# now deal with the the rest of the columns (map using the above  )\n",
    "columns_for_modeling = ['Age_years','Tenure_years','SAL1','MERIT1','PERF1','BOX1','SEX','HAVE_INS','HAVE_DEP',]\n",
    "    #'EMPL_TYPE']\n",
    "# replace Y with 1 and N with 0\n",
    "# replace M with 1 and F with 0 (in SEX)\n"
   ]
  },
  {
   "cell_type": "code",
   "execution_count": 73,
   "metadata": {
    "collapsed": false
   },
   "outputs": [
    {
     "data": {
      "text/plain": [
       "Age_years       False\n",
       "Tenure_years    False\n",
       "SAL1            False\n",
       "MERIT1          False\n",
       "PERF1           False\n",
       "BOX1            False\n",
       "SEX             False\n",
       "HAVE_INS        False\n",
       "HAVE_DEP        False\n",
       "dtype: bool"
      ]
     },
     "execution_count": 73,
     "metadata": {},
     "output_type": "execute_result"
    }
   ],
   "source": [
    "empl=employee_df[columns_for_modeling].copy()\n",
    "empl.fillna({'HAVE_INS':'N','HAVE_DEP':'N','BOX1':0,'MERIT1':0.0,'PERF1':0.0,'SAL1':0.0},inplace=True)\n",
    "empl.isnull().any()\n"
   ]
  },
  {
   "cell_type": "code",
   "execution_count": 74,
   "metadata": {
    "collapsed": true
   },
   "outputs": [],
   "source": [
    "## replace specific elements based upon dictionary\n",
    "replace_dict = {'HAVE_INS': {'Y':1,'N':0}, 'HAVE_DEP': {'Y':1,'N':0}, 'BOX1':{'H':3,'S':2,'L':1},'SEX':{'M':1,'F':0}}\n",
    "for key,value in replace_dict.iteritems():\n",
    "    empl[key].replace(value,inplace=True)\n"
   ]
  },
  {
   "cell_type": "code",
   "execution_count": 75,
   "metadata": {
    "collapsed": true
   },
   "outputs": [],
   "source": [
    "# fix the dollar amounts\n",
    "min_sal1 = 17621.76 #(based upon training set I have: 5 %tile cut off)\n",
    "min_min_rt_ann = 17900. # same as above\n",
    "min_max_rt_ann = 33155.70\n",
    "\n",
    "max_max_rt_ann = 133068.91\n",
    "min_merit1 = 0.0\n",
    "min_perf1 = 0.0\n",
    "fix_min_outlier_col_dict = {'SAL1': min_sal1, 'MERIT1': min_merit1, 'PERF1': min_perf1}\n",
    "fix_max_outlier_col_dict = {'MAX_RT_ANNUAL': max_max_rt_ann}\n",
    "\n",
    "# replace these values\n",
    "for key,value in fix_min_outlier_col_dict.iteritems():        \n",
    "    idx_to_replace = empl[empl[key]<value].index\n",
    "    empl.loc[idx_to_replace,key]=value\n",
    "\n",
    "    # dummy empl_type categories\n",
    "    #empl_type_dummy_cat = ['EMPL_TYPE_E', 'EMPL_TYPE_H', 'EMPL_TYPE_N', 'EMPL_TYPE_S', 'EMPL_TYPE_X', 'EMPL_TYPE_nan']\n"
   ]
  },
  {
   "cell_type": "code",
   "execution_count": 76,
   "metadata": {
    "collapsed": true
   },
   "outputs": [],
   "source": [
    "X = empl.as_matrix()"
   ]
  },
  {
   "cell_type": "code",
   "execution_count": 77,
   "metadata": {
    "collapsed": false
   },
   "outputs": [
    {
     "data": {
      "text/plain": [
       "(69475, 9)"
      ]
     },
     "execution_count": 77,
     "metadata": {},
     "output_type": "execute_result"
    }
   ],
   "source": [
    "np.shape(X)"
   ]
  },
  {
   "cell_type": "code",
   "execution_count": 41,
   "metadata": {
    "collapsed": true
   },
   "outputs": [],
   "source": [
    "# define the application of a series of time-based model\n",
    "def apply_time_models(X,MODEL_BASE_PATH,pcase,pred_years):\n",
    "    proba_df = []\n",
    "\n",
    "\n",
    "    import joblib as jl\n",
    "    import pandas as pd\n",
    "\n",
    "    for idx,pyr in enumerate(pred_years):\n",
    "        pkl_name ='rf'+pyr+'.pkl'#5.pkl'\n",
    "        if pcase == 'ret/':\n",
    "            pkl_name = 'R'+pkl_name\n",
    "\n",
    "        path_name =MODEL_BASE_PATH+pcase+pyr+'/'\n",
    "        print path_name, pkl_name\n",
    "\n",
    "        # load a model, evaluate it and return the 'average' probability for each person\n",
    "        #abs_mdl_name = os.path.abspath(path_name+pkl_name)\n",
    "        mdl_name = path_name+pkl_name\n",
    "        stored_mdl = jl.load(mdl_name)\n",
    "        stored_prediction = evaluate_models(stored_mdl,X)#stored_pred,stored_pred_proba = evaluate_models(stored_mdl,X)\n",
    "\n",
    "        df = pd.DataFrame(stored_prediction.T)\n",
    "        df.columns=[pcase[:-1]+pyr+'yr']\n",
    "\n",
    "        proba_df.append(df)\n",
    "\n",
    "    pred_df = pd.concat([a for a in proba_df], axis=1)\n",
    "    return pred_df\n",
    "\n",
    "# define a function to apply a set of models to a given prediction\n",
    "## now apply each model to my eval set\n",
    "def evaluate_models(model_list,X,mode='mean',offset=0):\n",
    "    \"\"\" Function to apply a set of models to a given input and generate the predicted value(s)\n",
    "    :param model_list --> input list of models\n",
    "    :param X --> input array to apply models to\n",
    "    :param mode --> what sort of output to return; default is mean\n",
    "    intermediates\n",
    "        eval_pred_class --> array of classification prediction for each model\n",
    "        eval_pred_proba --> array of predicted probabilities for each model\n",
    "    \"\"\"\n",
    "    import numpy as np\n",
    "    eval_pred_class = np.zeros((len(X),len(model_list)))\n",
    "    eval_pred_proba = np.zeros((len(X),2,len(model_list)))\n",
    "\n",
    "    for i,mdl in enumerate(model_list):\n",
    "        eval_proba = mdl.predict_proba(X)\n",
    "        eval_pred_class[:,i]=mdl.predict(X)\n",
    "        eval_pred_proba[:,:,i]=eval_proba\n",
    "    if mode == 'mean':\n",
    "        # average the probabilities (for class=1) and return the mean predicted probability\n",
    "        prediction = np.mean(eval_pred_proba[:,1,:],axis=1)\n",
    "        #eval_pred_proba[:,1,:].mean(axis=2)\n",
    "\n",
    "    elif mode == 'class': # return the desired class prediction\n",
    "        prediction = map(np.int,eval_pred_class.mean(axis=1))\n",
    "    return prediction\n"
   ]
  },
  {
   "cell_type": "code",
   "execution_count": 78,
   "metadata": {
    "collapsed": false
   },
   "outputs": [
    {
     "name": "stdout",
     "output_type": "stream",
     "text": [
      "/home/kesj/projects/hrsepara/model/sep/1/ rf1.pkl\n",
      "/home/kesj/projects/hrsepara/model/sep/2/ rf2.pkl\n",
      "/home/kesj/projects/hrsepara/model/sep/3/ rf3.pkl\n",
      "/home/kesj/projects/hrsepara/model/sep/4/ rf4.pkl\n",
      "/home/kesj/projects/hrsepara/model/sep/5/ rf5.pkl\n",
      "/home/kesj/projects/hrsepara/model/ret/1/ Rrf1.pkl\n",
      "/home/kesj/projects/hrsepara/model/ret/2/ Rrf2.pkl\n",
      "/home/kesj/projects/hrsepara/model/ret/3/ Rrf3.pkl\n",
      "/home/kesj/projects/hrsepara/model/ret/4/ Rrf4.pkl\n",
      "/home/kesj/projects/hrsepara/model/ret/5/ Rrf5.pkl\n"
     ]
    }
   ],
   "source": [
    "# load the model\n",
    "MODEL_BASE_PATH = '/home/kesj/projects/hrsepara/model/'\n",
    "#MODEL_BASE_PATH = 'C:\\\\Users\\\\kesj\\\\code\\\\hrsep1\\\\model_1\\\\'\n",
    "pred_cases = ['sep/','ret/']\n",
    "pred_years = map(np.str,np.arange(1,6))\n",
    "\n",
    "sep_proba_df = apply_time_models(X,MODEL_BASE_PATH,pred_cases[0],pred_years)\n",
    "ret_proba_df = apply_time_models(X,MODEL_BASE_PATH,pred_cases[1],pred_years)\n",
    "sep_proba_df.index=employee_df.KEY\n",
    "ret_proba_df.index=employee_df.KEY"
   ]
  },
  {
   "cell_type": "markdown",
   "metadata": {
    "collapsed": true
   },
   "source": [
    "## now check on the rates of retirements for each of the coming years\n",
    "* calculate the total number of retirements and rate of retirement.\n",
    "    * option 1: sum the probabilities\n",
    "    * option 2: apply a threshold and sum in binary way.\n",
    "    "
   ]
  },
  {
   "cell_type": "code",
   "execution_count": 79,
   "metadata": {
    "collapsed": false
   },
   "outputs": [
    {
     "data": {
      "text/plain": [
       "((69475, 5), (69475, 5))"
      ]
     },
     "execution_count": 79,
     "metadata": {},
     "output_type": "execute_result"
    }
   ],
   "source": [
    "np.shape(ret_proba_df), np.shape(sep_proba_df)"
   ]
  },
  {
   "cell_type": "code",
   "execution_count": 80,
   "metadata": {
    "collapsed": false
   },
   "outputs": [
    {
     "data": {
      "text/html": [
       "<div>\n",
       "<table border=\"1\" class=\"dataframe\">\n",
       "  <thead>\n",
       "    <tr style=\"text-align: right;\">\n",
       "      <th></th>\n",
       "      <th>sep1yr</th>\n",
       "      <th>sep2yr</th>\n",
       "      <th>sep3yr</th>\n",
       "      <th>sep4yr</th>\n",
       "      <th>sep5yr</th>\n",
       "    </tr>\n",
       "    <tr>\n",
       "      <th>KEY</th>\n",
       "      <th></th>\n",
       "      <th></th>\n",
       "      <th></th>\n",
       "      <th></th>\n",
       "      <th></th>\n",
       "    </tr>\n",
       "  </thead>\n",
       "  <tbody>\n",
       "    <tr>\n",
       "      <th>929965184037557</th>\n",
       "      <td>0.076923</td>\n",
       "      <td>0.170833</td>\n",
       "      <td>0.238182</td>\n",
       "      <td>0.473</td>\n",
       "      <td>0.570000</td>\n",
       "    </tr>\n",
       "    <tr>\n",
       "      <th>2396741883083</th>\n",
       "      <td>0.104615</td>\n",
       "      <td>0.200000</td>\n",
       "      <td>0.410000</td>\n",
       "      <td>0.535</td>\n",
       "      <td>0.610000</td>\n",
       "    </tr>\n",
       "    <tr>\n",
       "      <th>872454415016088</th>\n",
       "      <td>0.050769</td>\n",
       "      <td>0.089167</td>\n",
       "      <td>0.171818</td>\n",
       "      <td>0.205</td>\n",
       "      <td>0.298889</td>\n",
       "    </tr>\n",
       "    <tr>\n",
       "      <th>247046588569436</th>\n",
       "      <td>0.051538</td>\n",
       "      <td>0.134167</td>\n",
       "      <td>0.208182</td>\n",
       "      <td>0.253</td>\n",
       "      <td>0.393333</td>\n",
       "    </tr>\n",
       "    <tr>\n",
       "      <th>797202090638318</th>\n",
       "      <td>0.060769</td>\n",
       "      <td>0.142500</td>\n",
       "      <td>0.248182</td>\n",
       "      <td>0.385</td>\n",
       "      <td>0.542222</td>\n",
       "    </tr>\n",
       "  </tbody>\n",
       "</table>\n",
       "</div>"
      ],
      "text/plain": [
       "                   sep1yr    sep2yr    sep3yr  sep4yr    sep5yr\n",
       "KEY                                                            \n",
       "929965184037557  0.076923  0.170833  0.238182   0.473  0.570000\n",
       "2396741883083    0.104615  0.200000  0.410000   0.535  0.610000\n",
       "872454415016088  0.050769  0.089167  0.171818   0.205  0.298889\n",
       "247046588569436  0.051538  0.134167  0.208182   0.253  0.393333\n",
       "797202090638318  0.060769  0.142500  0.248182   0.385  0.542222"
      ]
     },
     "execution_count": 80,
     "metadata": {},
     "output_type": "execute_result"
    }
   ],
   "source": [
    "sep_proba_df.head()"
   ]
  },
  {
   "cell_type": "code",
   "execution_count": 86,
   "metadata": {
    "collapsed": false
   },
   "outputs": [],
   "source": [
    "simple_rates = pd.DataFrame(sep_proba_df.sum()/float(len(sep_proba_df)))\n",
    "simple_rates.index = ['yr1','yr2','yr3','yr4','yr5']\n",
    "simple_rates.columns = ['Separation']\n",
    "simple_rates['Annual Separation'] = simple_rates.diff()\n",
    "simple_rates.loc['yr1','Annual Separation']= simple_rates.loc['yr1','Separation']"
   ]
  },
  {
   "cell_type": "code",
   "execution_count": 88,
   "metadata": {
    "collapsed": false
   },
   "outputs": [
    {
     "data": {
      "text/html": [
       "<div>\n",
       "<table border=\"1\" class=\"dataframe\">\n",
       "  <thead>\n",
       "    <tr style=\"text-align: right;\">\n",
       "      <th></th>\n",
       "      <th>Separation</th>\n",
       "      <th>Annual Separation</th>\n",
       "      <th>Retirement</th>\n",
       "      <th>Annual Retirement</th>\n",
       "    </tr>\n",
       "  </thead>\n",
       "  <tbody>\n",
       "    <tr>\n",
       "      <th>yr1</th>\n",
       "      <td>0.076805</td>\n",
       "      <td>0.076805</td>\n",
       "      <td>0.250447</td>\n",
       "      <td>0.250447</td>\n",
       "    </tr>\n",
       "    <tr>\n",
       "      <th>yr2</th>\n",
       "      <td>0.130035</td>\n",
       "      <td>0.053230</td>\n",
       "      <td>0.129878</td>\n",
       "      <td>-0.120569</td>\n",
       "    </tr>\n",
       "    <tr>\n",
       "      <th>yr3</th>\n",
       "      <td>0.173409</td>\n",
       "      <td>0.043374</td>\n",
       "      <td>0.173168</td>\n",
       "      <td>0.043290</td>\n",
       "    </tr>\n",
       "    <tr>\n",
       "      <th>yr4</th>\n",
       "      <td>0.213233</td>\n",
       "      <td>0.039824</td>\n",
       "      <td>0.211291</td>\n",
       "      <td>0.038122</td>\n",
       "    </tr>\n",
       "    <tr>\n",
       "      <th>yr5</th>\n",
       "      <td>0.251367</td>\n",
       "      <td>0.038134</td>\n",
       "      <td>0.251376</td>\n",
       "      <td>0.040085</td>\n",
       "    </tr>\n",
       "  </tbody>\n",
       "</table>\n",
       "</div>"
      ],
      "text/plain": [
       "     Separation  Annual Separation  Retirement  Annual Retirement\n",
       "yr1    0.076805           0.076805    0.250447           0.250447\n",
       "yr2    0.130035           0.053230    0.129878          -0.120569\n",
       "yr3    0.173409           0.043374    0.173168           0.043290\n",
       "yr4    0.213233           0.039824    0.211291           0.038122\n",
       "yr5    0.251367           0.038134    0.251376           0.040085"
      ]
     },
     "execution_count": 88,
     "metadata": {},
     "output_type": "execute_result"
    }
   ],
   "source": [
    "tmp_rates = pd.DataFrame(ret_proba_df.sum()/float(len(ret_proba_df)))\n",
    "tmp_rates.index = ['yr1','yr2','yr3','yr4','yr5']\n",
    "tmp_rates.columns = ['Retirement']\n",
    "tmp_rates['Annual Retirement'] = tmp_rates.diff()\n",
    "tmp_rates.loc['yr1','Annual Retirement']= tmp_rates.loc['yr1','Retirement']\n",
    "simple_rates = pd.concat([simple_rates,tmp_rates],axis=1)\n",
    "simple_rates"
   ]
  },
  {
   "cell_type": "markdown",
   "metadata": {},
   "source": [
    "## what were historical rates?"
   ]
  },
  {
   "cell_type": "code",
   "execution_count": 89,
   "metadata": {
    "collapsed": false
   },
   "outputs": [
    {
     "name": "stderr",
     "output_type": "stream",
     "text": [
      "/home/kesj/envs/cutting/lib/python2.7/site-packages/IPython/kernel/__main__.py:6: FutureWarning: sort(columns=....) is deprecated, use sort_values(by=.....)\n",
      "/home/kesj/envs/cutting/lib/python2.7/site-packages/IPython/kernel/__main__.py:8: FutureWarning: sort(columns=....) is deprecated, use sort_values(by=.....)\n"
     ]
    },
    {
     "data": {
      "text/html": [
       "<div>\n",
       "<table border=\"1\" class=\"dataframe\">\n",
       "  <thead>\n",
       "    <tr style=\"text-align: right;\">\n",
       "      <th></th>\n",
       "      <th>Year</th>\n",
       "      <th>variable</th>\n",
       "      <th>value</th>\n",
       "      <th>date</th>\n",
       "    </tr>\n",
       "  </thead>\n",
       "  <tbody>\n",
       "    <tr>\n",
       "      <th>0</th>\n",
       "      <td>1987</td>\n",
       "      <td>Jan</td>\n",
       "      <td>6.6</td>\n",
       "      <td>1987-01-01</td>\n",
       "    </tr>\n",
       "    <tr>\n",
       "      <th>29</th>\n",
       "      <td>1987</td>\n",
       "      <td>Feb</td>\n",
       "      <td>6.6</td>\n",
       "      <td>1987-02-01</td>\n",
       "    </tr>\n",
       "    <tr>\n",
       "      <th>58</th>\n",
       "      <td>1987</td>\n",
       "      <td>Mar</td>\n",
       "      <td>6.6</td>\n",
       "      <td>1987-03-01</td>\n",
       "    </tr>\n",
       "    <tr>\n",
       "      <th>87</th>\n",
       "      <td>1987</td>\n",
       "      <td>Apr</td>\n",
       "      <td>6.3</td>\n",
       "      <td>1987-04-01</td>\n",
       "    </tr>\n",
       "    <tr>\n",
       "      <th>116</th>\n",
       "      <td>1987</td>\n",
       "      <td>May</td>\n",
       "      <td>6.3</td>\n",
       "      <td>1987-05-01</td>\n",
       "    </tr>\n",
       "  </tbody>\n",
       "</table>\n",
       "</div>"
      ],
      "text/plain": [
       "     Year variable  value       date\n",
       "0    1987      Jan    6.6 1987-01-01\n",
       "29   1987      Feb    6.6 1987-02-01\n",
       "58   1987      Mar    6.6 1987-03-01\n",
       "87   1987      Apr    6.3 1987-04-01\n",
       "116  1987      May    6.3 1987-05-01"
      ]
     },
     "execution_count": 89,
     "metadata": {},
     "output_type": "execute_result"
    }
   ],
   "source": [
    "### load in the federal unemployment data\n",
    "unempl_raw = pd.read_csv('../eda/us_unemployment_monthly_seas.csv')\n",
    "unempl_raw.head()\n",
    "### convert to useable format\n",
    "unempl = pd.melt(unempl_raw, id_vars='Year')\n",
    "unempl.sort('Year', inplace=True)\n",
    "unempl['date'] = unempl[['Year','variable']].apply(lambda x: pd.to_datetime(x[1]+str(x[0]),format='%b%Y'),axis=1)\n",
    "unempl.sort('date',inplace=True)\n",
    "unempl.head()"
   ]
  },
  {
   "cell_type": "code",
   "execution_count": 95,
   "metadata": {
    "collapsed": false
   },
   "outputs": [
    {
     "data": {
      "text/plain": [
       "[<matplotlib.lines.Line2D at 0x7f4682b1e750>]"
      ]
     },
     "execution_count": 95,
     "metadata": {},
     "output_type": "execute_result"
    },
    {
     "data": {
      "image/png": "[encoded data removed]",
      "text/plain": [
       "<matplotlib.figure.Figure at 0x7f4681dec190>"
      ]
     },
     "metadata": {},
     "output_type": "display_data"
    }
   ],
   "source": [
    "plt.plot(unempl.date,unempl.value)"
   ]
  },
  {
   "cell_type": "code",
   "execution_count": 96,
   "metadata": {
    "collapsed": false
   },
   "outputs": [
    {
     "data": {
      "text/plain": [
       "Year\n",
       "1987    6.175000\n",
       "1988    5.491667\n",
       "1989    5.258333\n",
       "1990    5.616667\n",
       "1991    6.850000\n",
       "1992    7.491667\n",
       "1993    6.908333\n",
       "1994    6.100000\n",
       "1995    5.591667\n",
       "1996    5.408333\n",
       "1997    4.941667\n",
       "1998    4.500000\n",
       "1999    4.216667\n",
       "2000    3.966667\n",
       "2001    4.741667\n",
       "2002    5.783333\n",
       "2003    5.991667\n",
       "2004    5.541667\n",
       "2005    5.083333\n",
       "2006    4.608333\n",
       "2007    4.616667\n",
       "2008    5.800000\n",
       "2009    9.283333\n",
       "2010    9.608333\n",
       "2011    8.941667\n",
       "2012    8.066667\n",
       "2013    7.366667\n",
       "2014    6.150000\n",
       "2015    5.525000\n",
       "Name: value, dtype: float64"
      ]
     },
     "execution_count": 96,
     "metadata": {},
     "output_type": "execute_result"
    }
   ],
   "source": [
    "unempl.groupby('Year')['value'].mean()"
   ]
  },
  {
   "cell_type": "markdown",
   "metadata": {},
   "source": [
    "## calculate the historical rates of retirement and separation"
   ]
  },
  {
   "cell_type": "code",
   "execution_count": 102,
   "metadata": {
    "collapsed": true
   },
   "outputs": [
    {
     "data": {
      "text/html": [
       "<div>\n",
       "<table border=\"1\" class=\"dataframe\">\n",
       "  <thead>\n",
       "    <tr style=\"text-align: right;\">\n",
       "      <th></th>\n",
       "      <th>hire_tstmp</th>\n",
       "    </tr>\n",
       "  </thead>\n",
       "  <tbody>\n",
       "    <tr>\n",
       "      <th>0</th>\n",
       "      <td>1974-06-03</td>\n",
       "    </tr>\n",
       "    <tr>\n",
       "      <th>1</th>\n",
       "      <td>1976-07-06</td>\n",
       "    </tr>\n",
       "    <tr>\n",
       "      <th>2</th>\n",
       "      <td>1974-05-06</td>\n",
       "    </tr>\n",
       "    <tr>\n",
       "      <th>3</th>\n",
       "      <td>1964-02-10</td>\n",
       "    </tr>\n",
       "    <tr>\n",
       "      <th>4</th>\n",
       "      <td>1949-11-16</td>\n",
       "    </tr>\n",
       "    <tr>\n",
       "      <th>5</th>\n",
       "      <td>1960-06-11</td>\n",
       "    </tr>\n",
       "    <tr>\n",
       "      <th>6</th>\n",
       "      <td>1956-06-19</td>\n",
       "    </tr>\n",
       "    <tr>\n",
       "      <th>7</th>\n",
       "      <td>1985-10-12</td>\n",
       "    </tr>\n",
       "    <tr>\n",
       "      <th>8</th>\n",
       "      <td>1967-07-03</td>\n",
       "    </tr>\n",
       "    <tr>\n",
       "      <th>9</th>\n",
       "      <td>1959-12-22</td>\n",
       "    </tr>\n",
       "    <tr>\n",
       "      <th>10</th>\n",
       "      <td>1981-06-01</td>\n",
       "    </tr>\n",
       "    <tr>\n",
       "      <th>11</th>\n",
       "      <td>1961-06-06</td>\n",
       "    </tr>\n",
       "    <tr>\n",
       "      <th>12</th>\n",
       "      <td>1962-09-05</td>\n",
       "    </tr>\n",
       "    <tr>\n",
       "      <th>13</th>\n",
       "      <td>1961-06-27</td>\n",
       "    </tr>\n",
       "    <tr>\n",
       "      <th>14</th>\n",
       "      <td>1963-10-07</td>\n",
       "    </tr>\n",
       "    <tr>\n",
       "      <th>15</th>\n",
       "      <td>1983-01-17</td>\n",
       "    </tr>\n",
       "    <tr>\n",
       "      <th>16</th>\n",
       "      <td>1958-04-20</td>\n",
       "    </tr>\n",
       "    <tr>\n",
       "      <th>17</th>\n",
       "      <td>1957-08-20</td>\n",
       "    </tr>\n",
       "    <tr>\n",
       "      <th>18</th>\n",
       "      <td>1966-11-28</td>\n",
       "    </tr>\n",
       "    <tr>\n",
       "      <th>19</th>\n",
       "      <td>1994-07-11</td>\n",
       "    </tr>\n",
       "    <tr>\n",
       "      <th>20</th>\n",
       "      <td>1987-03-02</td>\n",
       "    </tr>\n",
       "    <tr>\n",
       "      <th>21</th>\n",
       "      <td>1991-12-02</td>\n",
       "    </tr>\n",
       "    <tr>\n",
       "      <th>22</th>\n",
       "      <td>1993-08-16</td>\n",
       "    </tr>\n",
       "    <tr>\n",
       "      <th>23</th>\n",
       "      <td>1980-02-04</td>\n",
       "    </tr>\n",
       "    <tr>\n",
       "      <th>24</th>\n",
       "      <td>1995-07-31</td>\n",
       "    </tr>\n",
       "    <tr>\n",
       "      <th>25</th>\n",
       "      <td>1989-09-11</td>\n",
       "    </tr>\n",
       "    <tr>\n",
       "      <th>26</th>\n",
       "      <td>1994-09-12</td>\n",
       "    </tr>\n",
       "    <tr>\n",
       "      <th>27</th>\n",
       "      <td>1985-01-02</td>\n",
       "    </tr>\n",
       "    <tr>\n",
       "      <th>28</th>\n",
       "      <td>1992-06-22</td>\n",
       "    </tr>\n",
       "    <tr>\n",
       "      <th>29</th>\n",
       "      <td>1997-07-07</td>\n",
       "    </tr>\n",
       "    <tr>\n",
       "      <th>...</th>\n",
       "      <td>...</td>\n",
       "    </tr>\n",
       "    <tr>\n",
       "      <th>134237</th>\n",
       "      <td>1994-05-31</td>\n",
       "    </tr>\n",
       "    <tr>\n",
       "      <th>134238</th>\n",
       "      <td>1994-05-09</td>\n",
       "    </tr>\n",
       "    <tr>\n",
       "      <th>134239</th>\n",
       "      <td>1995-12-11</td>\n",
       "    </tr>\n",
       "    <tr>\n",
       "      <th>134240</th>\n",
       "      <td>1978-08-28</td>\n",
       "    </tr>\n",
       "    <tr>\n",
       "      <th>134241</th>\n",
       "      <td>1982-02-22</td>\n",
       "    </tr>\n",
       "    <tr>\n",
       "      <th>134242</th>\n",
       "      <td>1994-06-27</td>\n",
       "    </tr>\n",
       "    <tr>\n",
       "      <th>134243</th>\n",
       "      <td>1998-05-26</td>\n",
       "    </tr>\n",
       "    <tr>\n",
       "      <th>134244</th>\n",
       "      <td>1989-09-25</td>\n",
       "    </tr>\n",
       "    <tr>\n",
       "      <th>134245</th>\n",
       "      <td>1978-07-11</td>\n",
       "    </tr>\n",
       "    <tr>\n",
       "      <th>134246</th>\n",
       "      <td>1993-05-24</td>\n",
       "    </tr>\n",
       "    <tr>\n",
       "      <th>134247</th>\n",
       "      <td>1982-01-25</td>\n",
       "    </tr>\n",
       "    <tr>\n",
       "      <th>134248</th>\n",
       "      <td>1995-05-15</td>\n",
       "    </tr>\n",
       "    <tr>\n",
       "      <th>134249</th>\n",
       "      <td>1990-09-24</td>\n",
       "    </tr>\n",
       "    <tr>\n",
       "      <th>134250</th>\n",
       "      <td>1976-12-07</td>\n",
       "    </tr>\n",
       "    <tr>\n",
       "      <th>134251</th>\n",
       "      <td>1998-06-08</td>\n",
       "    </tr>\n",
       "    <tr>\n",
       "      <th>134252</th>\n",
       "      <td>1991-03-11</td>\n",
       "    </tr>\n",
       "    <tr>\n",
       "      <th>134253</th>\n",
       "      <td>1982-06-07</td>\n",
       "    </tr>\n",
       "    <tr>\n",
       "      <th>134254</th>\n",
       "      <td>1986-07-07</td>\n",
       "    </tr>\n",
       "    <tr>\n",
       "      <th>134255</th>\n",
       "      <td>1997-03-03</td>\n",
       "    </tr>\n",
       "    <tr>\n",
       "      <th>134256</th>\n",
       "      <td>1999-12-06</td>\n",
       "    </tr>\n",
       "    <tr>\n",
       "      <th>134257</th>\n",
       "      <td>2001-09-04</td>\n",
       "    </tr>\n",
       "    <tr>\n",
       "      <th>134258</th>\n",
       "      <td>2007-03-12</td>\n",
       "    </tr>\n",
       "    <tr>\n",
       "      <th>134259</th>\n",
       "      <td>1979-04-09</td>\n",
       "    </tr>\n",
       "    <tr>\n",
       "      <th>134260</th>\n",
       "      <td>1997-04-28</td>\n",
       "    </tr>\n",
       "    <tr>\n",
       "      <th>134261</th>\n",
       "      <td>1997-08-11</td>\n",
       "    </tr>\n",
       "    <tr>\n",
       "      <th>134262</th>\n",
       "      <td>1998-05-18</td>\n",
       "    </tr>\n",
       "    <tr>\n",
       "      <th>134263</th>\n",
       "      <td>1999-09-27</td>\n",
       "    </tr>\n",
       "    <tr>\n",
       "      <th>134264</th>\n",
       "      <td>2005-07-18</td>\n",
       "    </tr>\n",
       "    <tr>\n",
       "      <th>134265</th>\n",
       "      <td>2013-05-28</td>\n",
       "    </tr>\n",
       "    <tr>\n",
       "      <th>134266</th>\n",
       "      <td>2013-08-19</td>\n",
       "    </tr>\n",
       "  </tbody>\n",
       "</table>\n",
       "<p>134266 rows × 1 columns</p>\n",
       "</div>"
      ],
      "text/plain": [
       "       hire_tstmp\n",
       "0      1974-06-03\n",
       "1      1976-07-06\n",
       "2      1974-05-06\n",
       "3      1964-02-10\n",
       "4      1949-11-16\n",
       "5      1960-06-11\n",
       "6      1956-06-19\n",
       "7      1985-10-12\n",
       "8      1967-07-03\n",
       "9      1959-12-22\n",
       "10     1981-06-01\n",
       "11     1961-06-06\n",
       "12     1962-09-05\n",
       "13     1961-06-27\n",
       "14     1963-10-07\n",
       "15     1983-01-17\n",
       "16     1958-04-20\n",
       "17     1957-08-20\n",
       "18     1966-11-28\n",
       "19     1994-07-11\n",
       "20     1987-03-02\n",
       "21     1991-12-02\n",
       "22     1993-08-16\n",
       "23     1980-02-04\n",
       "24     1995-07-31\n",
       "25     1989-09-11\n",
       "26     1994-09-12\n",
       "27     1985-01-02\n",
       "28     1992-06-22\n",
       "29     1997-07-07\n",
       "...           ...\n",
       "134237 1994-05-31\n",
       "134238 1994-05-09\n",
       "134239 1995-12-11\n",
       "134240 1978-08-28\n",
       "134241 1982-02-22\n",
       "134242 1994-06-27\n",
       "134243 1998-05-26\n",
       "134244 1989-09-25\n",
       "134245 1978-07-11\n",
       "134246 1993-05-24\n",
       "134247 1982-01-25\n",
       "134248 1995-05-15\n",
       "134249 1990-09-24\n",
       "134250 1976-12-07\n",
       "134251 1998-06-08\n",
       "134252 1991-03-11\n",
       "134253 1982-06-07\n",
       "134254 1986-07-07\n",
       "134255 1997-03-03\n",
       "134256 1999-12-06\n",
       "134257 2001-09-04\n",
       "134258 2007-03-12\n",
       "134259 1979-04-09\n",
       "134260 1997-04-28\n",
       "134261 1997-08-11\n",
       "134262 1998-05-18\n",
       "134263 1999-09-27\n",
       "134264 2005-07-18\n",
       "134265 2013-05-28\n",
       "134266 2013-08-19\n",
       "\n",
       "[134266 rows x 1 columns]"
      ]
     },
     "execution_count": 102,
     "metadata": {},
     "output_type": "execute_result"
    }
   ],
   "source": [
    "em2002[['hire_tstmp','term_tstmp']] = em2002[['HIRE_DT','TERMINATION_DT']].applymap(lambda x: pd.to_datetime(datetime.datetime.strptime(x,'%d%b%Y')))\n"
   ]
  },
  {
   "cell_type": "code",
   "execution_count": 104,
   "metadata": {
    "collapsed": false
   },
   "outputs": [
    {
     "name": "stdout",
     "output_type": "stream",
     "text": [
      "156\n"
     ]
    },
    {
     "data": {
      "text/plain": [
       "DatetimeIndex(['2002-01-31', '2002-02-28', '2002-03-31', '2002-04-30',\n",
       "               '2002-05-31', '2002-06-30', '2002-07-31', '2002-08-31',\n",
       "               '2002-09-30', '2002-10-31',\n",
       "               ...\n",
       "               '2014-03-31', '2014-04-30', '2014-05-31', '2014-06-30',\n",
       "               '2014-07-31', '2014-08-31', '2014-09-30', '2014-10-31',\n",
       "               '2014-11-30', '2014-12-31'],\n",
       "              dtype='datetime64[ns]', length=156, freq='M')"
      ]
     },
     "execution_count": 104,
     "metadata": {},
     "output_type": "execute_result"
    }
   ],
   "source": [
    "monthly_range_terminations = pd.date_range(em2002.term_tstmp.min(),em2002.term_tstmp.max(),freq='M')\n",
    "print len(monthly_range_terminations)\n",
    "monthly_range_terminations"
   ]
  },
  {
   "cell_type": "code",
   "execution_count": 106,
   "metadata": {
    "collapsed": false
   },
   "outputs": [
    {
     "data": {
      "text/plain": [
       "Timestamp('2001-12-31 00:00:00', offset='M')"
      ]
     },
     "execution_count": 106,
     "metadata": {},
     "output_type": "execute_result"
    }
   ],
   "source": [
    "monthly_range_terminations[0]-1"
   ]
  },
  {
   "cell_type": "code",
   "execution_count": 111,
   "metadata": {
    "collapsed": false
   },
   "outputs": [
    {
     "data": {
      "text/plain": [
       "291"
      ]
     },
     "execution_count": 111,
     "metadata": {},
     "output_type": "execute_result"
    }
   ],
   "source": [
    "len(em2002[(em2002.term_tstmp <= monthly_range_terminations[1]) & (em2002.retired == 0) & (em2002.term_tstmp > monthly_range_terminations[0])])"
   ]
  },
  {
   "cell_type": "code",
   "execution_count": 112,
   "metadata": {
    "collapsed": true
   },
   "outputs": [],
   "source": [
    "nactive = []\n",
    "nsep2 = []\n",
    "nhired = []\n",
    "nretired = []\n",
    "prev_date = monthly_range_terminations[0]-1\n",
    "#nsep.append(0.0)\n",
    "for idx, my_date in enumerate(monthly_range_terminations):\n",
    "    nactive.append( len(em2002[(em2002.hire_tstmp < my_date) &(em2002.term_tstmp > my_date)]))\n",
    "    if idx == 0:\n",
    "        nsep2.append(len(em2002[(em2002.term_tstmp <= my_date) & (em2002.hire_tstmp < my_date)]))\n",
    "        nretired.append(len(em2002[(em2002.term_tstmp <= my_date) & (em2002.hire_tstmp < my_date) & (em2002.retired==1)]))\n",
    "        nhired.append( len(em2002[(em2002.hire_tstmp <= my_date) &(em2002.hire_tstmp > prev_date)]))\n",
    "    else:\n",
    "        nsep2.append(len(em2002[(em2002.term_tstmp <= my_date) & (em2002.hire_tstmp < my_date) &( em2002.term_tstmp > monthly_range_terminations[idx-1])]))\n",
    "        nretired.append(len(em2002[(em2002.term_tstmp <= my_date) & (em2002.hire_tstmp < my_date) & (em2002.retired==1) &( em2002.term_tstmp > monthly_range_terminations[idx-1])]) )\n",
    "        nhired.append( len(em2002[(em2002.hire_tstmp <= my_date) &(em2002.hire_tstmp > monthly_range_terminations[idx-1])]))\n",
    "        "
   ]
  },
  {
   "cell_type": "code",
   "execution_count": 114,
   "metadata": {
    "collapsed": false
   },
   "outputs": [
    {
     "data": {
      "text/html": [
       "<div>\n",
       "<table border=\"1\" class=\"dataframe\">\n",
       "  <thead>\n",
       "    <tr style=\"text-align: right;\">\n",
       "      <th></th>\n",
       "      <th>Active</th>\n",
       "      <th>netChange</th>\n",
       "      <th>AllSeparations</th>\n",
       "      <th>Hires</th>\n",
       "      <th>Retirements</th>\n",
       "    </tr>\n",
       "  </thead>\n",
       "  <tbody>\n",
       "    <tr>\n",
       "      <th>2002-01-31</th>\n",
       "      <td>78265</td>\n",
       "      <td>NaN</td>\n",
       "      <td>370</td>\n",
       "      <td>470</td>\n",
       "      <td>41</td>\n",
       "    </tr>\n",
       "    <tr>\n",
       "      <th>2002-02-28</th>\n",
       "      <td>78270</td>\n",
       "      <td>5</td>\n",
       "      <td>330</td>\n",
       "      <td>336</td>\n",
       "      <td>39</td>\n",
       "    </tr>\n",
       "    <tr>\n",
       "      <th>2002-03-31</th>\n",
       "      <td>78142</td>\n",
       "      <td>-128</td>\n",
       "      <td>398</td>\n",
       "      <td>268</td>\n",
       "      <td>39</td>\n",
       "    </tr>\n",
       "    <tr>\n",
       "      <th>2002-04-30</th>\n",
       "      <td>78102</td>\n",
       "      <td>-40</td>\n",
       "      <td>323</td>\n",
       "      <td>284</td>\n",
       "      <td>39</td>\n",
       "    </tr>\n",
       "    <tr>\n",
       "      <th>2002-05-31</th>\n",
       "      <td>78145</td>\n",
       "      <td>43</td>\n",
       "      <td>469</td>\n",
       "      <td>514</td>\n",
       "      <td>80</td>\n",
       "    </tr>\n",
       "  </tbody>\n",
       "</table>\n",
       "</div>"
      ],
      "text/plain": [
       "            Active  netChange  AllSeparations  Hires  Retirements\n",
       "2002-01-31   78265        NaN             370    470           41\n",
       "2002-02-28   78270          5             330    336           39\n",
       "2002-03-31   78142       -128             398    268           39\n",
       "2002-04-30   78102        -40             323    284           39\n",
       "2002-05-31   78145         43             469    514           80"
      ]
     },
     "execution_count": 114,
     "metadata": {},
     "output_type": "execute_result"
    }
   ],
   "source": [
    "workforce= pd.DataFrame(data =nactive,index=monthly_range_terminations,columns=['Active'])\n",
    "delta = workforce.diff()\n",
    "workforce['netChange'] = delta\n",
    "workforce['AllSeparations'] = nsep2\n",
    "workforce['Hires'] = nhired\n",
    "workforce['Retirements'] = nretired\n",
    "workforce.head()"
   ]
  },
  {
   "cell_type": "code",
   "execution_count": 115,
   "metadata": {
    "collapsed": false
   },
   "outputs": [
    {
     "data": {
      "text/plain": [
       "<matplotlib.text.Text at 0x7f4681defe10>"
      ]
     },
     "execution_count": 115,
     "metadata": {},
     "output_type": "execute_result"
    },
    {
     "data": {
      "image/png": "[encoded data removed]",
      "text/plain": [
       "<matplotlib.figure.Figure at 0x7f4681dfd850>"
      ]
     },
     "metadata": {},
     "output_type": "display_data"
    }
   ],
   "source": [
    "plt.plot(monthly_range_terminations,nactive)\n",
    "plt.xlabel('Date')\n",
    "plt.ylabel('Worforce Counts')"
   ]
  },
  {
   "cell_type": "code",
   "execution_count": 116,
   "metadata": {
    "collapsed": false
   },
   "outputs": [
    {
     "data": {
      "text/html": [
       "<div>\n",
       "<table border=\"1\" class=\"dataframe\">\n",
       "  <thead>\n",
       "    <tr style=\"text-align: right;\">\n",
       "      <th></th>\n",
       "      <th>AllSeparations</th>\n",
       "      <th>Hires</th>\n",
       "      <th>Retirements</th>\n",
       "      <th>Active</th>\n",
       "    </tr>\n",
       "  </thead>\n",
       "  <tbody>\n",
       "    <tr>\n",
       "      <th>2002-12-31</th>\n",
       "      <td>5740</td>\n",
       "      <td>3365</td>\n",
       "      <td>646</td>\n",
       "      <td>75790</td>\n",
       "    </tr>\n",
       "    <tr>\n",
       "      <th>2003-12-31</th>\n",
       "      <td>6095</td>\n",
       "      <td>2046</td>\n",
       "      <td>1159</td>\n",
       "      <td>71742</td>\n",
       "    </tr>\n",
       "    <tr>\n",
       "      <th>2004-12-31</th>\n",
       "      <td>6849</td>\n",
       "      <td>3166</td>\n",
       "      <td>1940</td>\n",
       "      <td>68058</td>\n",
       "    </tr>\n",
       "    <tr>\n",
       "      <th>2005-12-31</th>\n",
       "      <td>6534</td>\n",
       "      <td>4860</td>\n",
       "      <td>1501</td>\n",
       "      <td>66373</td>\n",
       "    </tr>\n",
       "    <tr>\n",
       "      <th>2006-12-31</th>\n",
       "      <td>5303</td>\n",
       "      <td>5068</td>\n",
       "      <td>1376</td>\n",
       "      <td>66149</td>\n",
       "    </tr>\n",
       "  </tbody>\n",
       "</table>\n",
       "</div>"
      ],
      "text/plain": [
       "            AllSeparations  Hires  Retirements  Active\n",
       "2002-12-31            5740   3365          646   75790\n",
       "2003-12-31            6095   2046         1159   71742\n",
       "2004-12-31            6849   3166         1940   68058\n",
       "2005-12-31            6534   4860         1501   66373\n",
       "2006-12-31            5303   5068         1376   66149"
      ]
     },
     "execution_count": 116,
     "metadata": {},
     "output_type": "execute_result"
    }
   ],
   "source": [
    "annualwf = pd.DataFrame()\n",
    "annualwf = workforce[['AllSeparations','Hires','Retirements']].resample('A',how='sum')#.plot()\n",
    "annualwf['Active'] =workforce['Active'].resample('A',how='last')\n",
    "annualwf.head()"
   ]
  },
  {
   "cell_type": "code",
   "execution_count": null,
   "metadata": {
    "collapsed": true
   },
   "outputs": [],
   "source": [
    "annualwf['Separations']=annualwf['AllSeparations']-annualwf['Retirements']\n",
    "annualwf['SepRate']=annualwf['Separations']/annualwf['Active']\n",
    "annualwf['RetRate']=annualwf['Separations']/annualwf['Active']\n"
   ]
  },
  {
   "cell_type": "code",
   "execution_count": 119,
   "metadata": {
    "collapsed": false
   },
   "outputs": [
    {
     "data": {
      "text/plain": [
       "<matplotlib.axes._subplots.AxesSubplot at 0x7f4681fb0c90>"
      ]
     },
     "execution_count": 119,
     "metadata": {},
     "output_type": "execute_result"
    },
    {
     "data": {
      "image/png": "[encoded data removed]",
      "text/plain": [
       "<matplotlib.figure.Figure at 0x7f46825a51d0>"
      ]
     },
     "metadata": {},
     "output_type": "display_data"
    }
   ],
   "source": [
    "(annualwf.AllSeparations/annualwf.Active).plot()"
   ]
  },
  {
   "cell_type": "code",
   "execution_count": null,
   "metadata": {
    "collapsed": true
   },
   "outputs": [],
   "source": []
  }
 ],
 "metadata": {
  "kernelspec": {
   "display_name": "Python 2",
   "language": "python",
   "name": "python2"
  },
  "language_info": {
   "codemirror_mode": {
    "name": "ipython",
    "version": 2
   },
   "file_extension": ".py",
   "mimetype": "text/x-python",
   "name": "python",
   "nbconvert_exporter": "python",
   "pygments_lexer": "ipython2",
   "version": "2.7.11"
  }
 },
 "nbformat": 4,
 "nbformat_minor": 0
}
