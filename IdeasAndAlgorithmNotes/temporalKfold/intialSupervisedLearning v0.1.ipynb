{
 "cells": [
  {
   "cell_type": "markdown",
   "metadata": {},
   "source": [
    "# Initial Supervised Learning Analysis for the HR Separation (hrsepara) project\n",
    "## Start with output from initialEDA v0.6\n",
    "### Identify the correct working directory for source data\n",
    "* '/data/discovery/hrsepara/core/'\n",
    "### Identify the correct working directory for the analysis (both HDFS and LFS)\n",
    "* '/data/discovery/hrsepara/staging/eda' and  '/home/kesj/working/hrsepara/eda/'\n",
    "## \n"
   ]
  },
  {
   "cell_type": "code",
   "execution_count": 1,
   "metadata": {
    "collapsed": true
   },
   "outputs": [],
   "source": [
    "coredir = '/data/discovery/hrsepara/core/'\n",
    "stgdir1 = '/data/discovery/hrsepara/staging/eda'\n",
    "stgdir1local = '/home/kesj/work/hrsepara/eda'\n"
   ]
  },
  {
   "cell_type": "code",
   "execution_count": 2,
   "metadata": {
    "collapsed": false
   },
   "outputs": [],
   "source": [
    "import os,subprocess\n",
    "import pandas as pd\n",
    "import numpy as np\n",
    "%matplotlib inline\n",
    "from datetime import datetime\n",
    "import matplotlib.pyplot as plt\n",
    "from sklearn import preprocessing\n",
    "from itertools import chain\n",
    "from random import random"
   ]
  },
  {
   "cell_type": "code",
   "execution_count": 3,
   "metadata": {
    "collapsed": false
   },
   "outputs": [],
   "source": [
    "plt.style.use('fivethirtyeight') # Good looking plots\n",
    "import seaborn as sns"
   ]
  },
  {
   "cell_type": "code",
   "execution_count": 4,
   "metadata": {
    "collapsed": false
   },
   "outputs": [
    {
     "data": {
      "text/plain": [
       "True"
      ]
     },
     "execution_count": 4,
     "metadata": {},
     "output_type": "execute_result"
    }
   ],
   "source": [
    "# check if the path exists\n",
    "os.path.exists(stgdir1local)"
   ]
  },
  {
   "cell_type": "code",
   "execution_count": 4,
   "metadata": {
    "collapsed": true
   },
   "outputs": [],
   "source": [
    "def hdfs_path_doesnt_exist(path):\n",
    "    return subprocess.call(['hdfs','dfs','-ls',path])\n",
    "    # returns 0 if doesnt_exist; 1 otherwise\n",
    "    "
   ]
  },
  {
   "cell_type": "code",
   "execution_count": 5,
   "metadata": {
    "collapsed": false
   },
   "outputs": [],
   "source": [
    "# make the remote directory\n",
    "if not hdfs_path_doesnt_exist(stgdir1):\n",
    "    !hdfs dfs -mkdir {stgdir1}"
   ]
  },
  {
   "cell_type": "code",
   "execution_count": 5,
   "metadata": {
    "collapsed": false
   },
   "outputs": [
    {
     "data": {
      "text/plain": [
       "u'/home/kesj/ipynb/HRsepara'"
      ]
     },
     "execution_count": 5,
     "metadata": {},
     "output_type": "execute_result"
    }
   ],
   "source": [
    "# check if the path exists\n",
    "if not os.path.exists(stgdir1local):\n",
    "    # make the local directory\n",
    "    !mkdir {stgdir1local}\n",
    "    #'/home/kesj/work/hrsepara/eda'\n",
    "\n",
    "\n",
    "%pwd"
   ]
  },
  {
   "cell_type": "code",
   "execution_count": 6,
   "metadata": {
    "collapsed": false
   },
   "outputs": [
    {
     "name": "stdout",
     "output_type": "stream",
     "text": [
      "/home/kesj/work/hrsepara/eda\n"
     ]
    }
   ],
   "source": [
    "%cd {stgdir1local}"
   ]
  },
  {
   "cell_type": "code",
   "execution_count": 7,
   "metadata": {
    "collapsed": false
   },
   "outputs": [
    {
     "name": "stdout",
     "output_type": "stream",
     "text": [
      "/home/kesj/work/hrsepara/eda\n"
     ]
    }
   ],
   "source": [
    "#define the currentworking directory:\n",
    "cwd = os.path.abspath(os.curdir)\n",
    "print cwd"
   ]
  },
  {
   "cell_type": "markdown",
   "metadata": {},
   "source": [
    "### READ the data May 5, 2015"
   ]
  },
  {
   "cell_type": "code",
   "execution_count": 36,
   "metadata": {
    "collapsed": false
   },
   "outputs": [
    {
     "data": {
      "text/html": [
       "<div style=\"max-height:1000px;max-width:1500px;overflow:auto;\">\n",
       "<table border=\"1\" class=\"dataframe\">\n",
       "  <thead>\n",
       "    <tr style=\"text-align: right;\">\n",
       "      <th></th>\n",
       "      <th>ACTRES1</th>\n",
       "      <th>ACTRES10</th>\n",
       "      <th>ACTRES2</th>\n",
       "      <th>ACTRES3</th>\n",
       "      <th>ACTRES4</th>\n",
       "      <th>ACTRES5</th>\n",
       "      <th>ACTRES6</th>\n",
       "      <th>ACTRES7</th>\n",
       "      <th>ACTRES8</th>\n",
       "      <th>ACTRES9</th>\n",
       "      <th>...</th>\n",
       "      <th>Tenure_tdelta</th>\n",
       "      <th>status</th>\n",
       "      <th>Tenure_years</th>\n",
       "      <th>HAVE_INS</th>\n",
       "      <th>HAVE_DEP</th>\n",
       "      <th>DEP_COUNT</th>\n",
       "      <th>sep_status</th>\n",
       "      <th>mar_status</th>\n",
       "      <th>zip5</th>\n",
       "      <th>retired</th>\n",
       "    </tr>\n",
       "  </thead>\n",
       "  <tbody>\n",
       "    <tr>\n",
       "      <th>0</th>\n",
       "      <td>              MERIT;WINDOW 2 - EARLY RET INCENTIVE</td>\n",
       "      <td>                                             MERIT</td>\n",
       "      <td> MERIT;MISCELLANEOUS DATA CHANGE;JOB RECLASSIFI...</td>\n",
       "      <td>  MERIT;LOCATION/FLOOR CHANGE;JOB RECLASSIFICATION</td>\n",
       "      <td>  REVIEW DATE CHANGE;MERIT;RATING SCALE CONVERSION</td>\n",
       "      <td> TRANSFER W/O JOB NUMBER CHANGE;COMPANY WIDE CO...</td>\n",
       "      <td>                   COST OF LIVING ADJUSTMENT;MERIT</td>\n",
       "      <td>                                           MERIT</td>\n",
       "      <td>   MERIT</td>\n",
       "      <td>           MERIT</td>\n",
       "      <td>...</td>\n",
       "      <td> 13490 days, 00:00:00</td>\n",
       "      <td> 1</td>\n",
       "      <td> 36.934366</td>\n",
       "      <td> 0</td>\n",
       "      <td> 0</td>\n",
       "      <td> 0</td>\n",
       "      <td> 2</td>\n",
       "      <td> 0</td>\n",
       "      <td> 35068</td>\n",
       "      <td> 1</td>\n",
       "    </tr>\n",
       "    <tr>\n",
       "      <th>1</th>\n",
       "      <td> MISCELLANEOUS DATA CHANGE;MISCELLANEOUS DATA C...</td>\n",
       "      <td>                                           MISSING</td>\n",
       "      <td>                                           MISSING</td>\n",
       "      <td>                                           MISSING</td>\n",
       "      <td>                                           MISSING</td>\n",
       "      <td>                                           MISSING</td>\n",
       "      <td>                                           MISSING</td>\n",
       "      <td>                                         MISSING</td>\n",
       "      <td> MISSING</td>\n",
       "      <td>         MISSING</td>\n",
       "      <td>...</td>\n",
       "      <td>   206 days, 00:00:00</td>\n",
       "      <td> 0</td>\n",
       "      <td>  0.564009</td>\n",
       "      <td> 0</td>\n",
       "      <td> 0</td>\n",
       "      <td> 0</td>\n",
       "      <td> 0</td>\n",
       "      <td> 1</td>\n",
       "      <td> 85281</td>\n",
       "      <td> 0</td>\n",
       "    </tr>\n",
       "    <tr>\n",
       "      <th>2</th>\n",
       "      <td> DISSATISFACTION;COMPANY WIDE CONVERSION;REGION...</td>\n",
       "      <td> TRANSFER W/O JOB NUMBER CHANGE;MERIT;COLA INDI...</td>\n",
       "      <td>                                             MERIT</td>\n",
       "      <td>                                             MERIT</td>\n",
       "      <td>                                             MERIT</td>\n",
       "      <td>                                             MERIT</td>\n",
       "      <td>                      ORGANIZATIONAL CHANGES;MERIT</td>\n",
       "      <td>                                           MERIT</td>\n",
       "      <td>   MERIT</td>\n",
       "      <td> MERIT;PROMOTION</td>\n",
       "      <td>...</td>\n",
       "      <td>  7168 days, 00:00:00</td>\n",
       "      <td> 1</td>\n",
       "      <td> 19.625317</td>\n",
       "      <td> 0</td>\n",
       "      <td> 0</td>\n",
       "      <td> 0</td>\n",
       "      <td> 1</td>\n",
       "      <td> 1</td>\n",
       "      <td> 43056</td>\n",
       "      <td> 0</td>\n",
       "    </tr>\n",
       "    <tr>\n",
       "      <th>3</th>\n",
       "      <td>              MERIT;WINDOW 4 - EARLY RET INCENTIVE</td>\n",
       "      <td> MERIT;RRTR W/JOB NUMBER CHANGE;COLA INDICATOR ...</td>\n",
       "      <td>                   MERIT;MISCELLANEOUS DATA CHANGE</td>\n",
       "      <td> MERIT;MISCELLANEOUS DATA CHANGE;MISCELLANEOUS ...</td>\n",
       "      <td> MERIT;MISCELLANEOUS DATA CHANGE;JOB RECLASSIFI...</td>\n",
       "      <td>           MERIT;PROMOTION;RATING SCALE CONVERSION</td>\n",
       "      <td> COMPANY WIDE CONVERSION;REGIONAL CONVERSION;CO...</td>\n",
       "      <td> JOB CODE CHANGE;COST OF LIVING ADJUSTMENT;MERIT</td>\n",
       "      <td>   MERIT</td>\n",
       "      <td> MERIT;PROMOTION</td>\n",
       "      <td>...</td>\n",
       "      <td> 10763 days, 00:00:00</td>\n",
       "      <td> 1</td>\n",
       "      <td> 29.468093</td>\n",
       "      <td> 1</td>\n",
       "      <td> 0</td>\n",
       "      <td> 0</td>\n",
       "      <td> 2</td>\n",
       "      <td> 1</td>\n",
       "      <td> 32128</td>\n",
       "      <td> 1</td>\n",
       "    </tr>\n",
       "    <tr>\n",
       "      <th>4</th>\n",
       "      <td> MISCELLANEOUS DATA CHANGE;SALARY ADJUSTMENT;TR...</td>\n",
       "      <td>                                           MISSING</td>\n",
       "      <td> MISCELLANEOUS DATA CHANGE;MISCELLANEOUS DATA C...</td>\n",
       "      <td>       MISCELLANEOUS DATA CHANGE;EMPLOYEE NEW HIRE</td>\n",
       "      <td>                                           MISSING</td>\n",
       "      <td>                                           MISSING</td>\n",
       "      <td>                                           MISSING</td>\n",
       "      <td>                                         MISSING</td>\n",
       "      <td> MISSING</td>\n",
       "      <td>         MISSING</td>\n",
       "      <td>...</td>\n",
       "      <td>   752 days, 00:00:00</td>\n",
       "      <td> 0</td>\n",
       "      <td>  2.058906</td>\n",
       "      <td> 1</td>\n",
       "      <td> 0</td>\n",
       "      <td> 0</td>\n",
       "      <td> 0</td>\n",
       "      <td> 1</td>\n",
       "      <td> 30082</td>\n",
       "      <td> 0</td>\n",
       "    </tr>\n",
       "  </tbody>\n",
       "</table>\n",
       "<p>5 rows × 184 columns</p>\n",
       "</div>"
      ],
      "text/plain": [
       "                                             ACTRES1  \\\n",
       "0               MERIT;WINDOW 2 - EARLY RET INCENTIVE   \n",
       "1  MISCELLANEOUS DATA CHANGE;MISCELLANEOUS DATA C...   \n",
       "2  DISSATISFACTION;COMPANY WIDE CONVERSION;REGION...   \n",
       "3               MERIT;WINDOW 4 - EARLY RET INCENTIVE   \n",
       "4  MISCELLANEOUS DATA CHANGE;SALARY ADJUSTMENT;TR...   \n",
       "\n",
       "                                            ACTRES10  \\\n",
       "0                                              MERIT   \n",
       "1                                            MISSING   \n",
       "2  TRANSFER W/O JOB NUMBER CHANGE;MERIT;COLA INDI...   \n",
       "3  MERIT;RRTR W/JOB NUMBER CHANGE;COLA INDICATOR ...   \n",
       "4                                            MISSING   \n",
       "\n",
       "                                             ACTRES2  \\\n",
       "0  MERIT;MISCELLANEOUS DATA CHANGE;JOB RECLASSIFI...   \n",
       "1                                            MISSING   \n",
       "2                                              MERIT   \n",
       "3                    MERIT;MISCELLANEOUS DATA CHANGE   \n",
       "4  MISCELLANEOUS DATA CHANGE;MISCELLANEOUS DATA C...   \n",
       "\n",
       "                                             ACTRES3  \\\n",
       "0   MERIT;LOCATION/FLOOR CHANGE;JOB RECLASSIFICATION   \n",
       "1                                            MISSING   \n",
       "2                                              MERIT   \n",
       "3  MERIT;MISCELLANEOUS DATA CHANGE;MISCELLANEOUS ...   \n",
       "4        MISCELLANEOUS DATA CHANGE;EMPLOYEE NEW HIRE   \n",
       "\n",
       "                                             ACTRES4  \\\n",
       "0   REVIEW DATE CHANGE;MERIT;RATING SCALE CONVERSION   \n",
       "1                                            MISSING   \n",
       "2                                              MERIT   \n",
       "3  MERIT;MISCELLANEOUS DATA CHANGE;JOB RECLASSIFI...   \n",
       "4                                            MISSING   \n",
       "\n",
       "                                             ACTRES5  \\\n",
       "0  TRANSFER W/O JOB NUMBER CHANGE;COMPANY WIDE CO...   \n",
       "1                                            MISSING   \n",
       "2                                              MERIT   \n",
       "3            MERIT;PROMOTION;RATING SCALE CONVERSION   \n",
       "4                                            MISSING   \n",
       "\n",
       "                                             ACTRES6  \\\n",
       "0                    COST OF LIVING ADJUSTMENT;MERIT   \n",
       "1                                            MISSING   \n",
       "2                       ORGANIZATIONAL CHANGES;MERIT   \n",
       "3  COMPANY WIDE CONVERSION;REGIONAL CONVERSION;CO...   \n",
       "4                                            MISSING   \n",
       "\n",
       "                                           ACTRES7  ACTRES8          ACTRES9  \\\n",
       "0                                            MERIT    MERIT            MERIT   \n",
       "1                                          MISSING  MISSING          MISSING   \n",
       "2                                            MERIT    MERIT  MERIT;PROMOTION   \n",
       "3  JOB CODE CHANGE;COST OF LIVING ADJUSTMENT;MERIT    MERIT  MERIT;PROMOTION   \n",
       "4                                          MISSING  MISSING          MISSING   \n",
       "\n",
       "        ...                Tenure_tdelta  status  Tenure_years  HAVE_INS  \\\n",
       "0       ...         13490 days, 00:00:00       1     36.934366         0   \n",
       "1       ...           206 days, 00:00:00       0      0.564009         0   \n",
       "2       ...          7168 days, 00:00:00       1     19.625317         0   \n",
       "3       ...         10763 days, 00:00:00       1     29.468093         1   \n",
       "4       ...           752 days, 00:00:00       0      2.058906         1   \n",
       "\n",
       "  HAVE_DEP  DEP_COUNT sep_status  mar_status   zip5  retired  \n",
       "0        0          0          2           0  35068        1  \n",
       "1        0          0          0           1  85281        0  \n",
       "2        0          0          1           1  43056        0  \n",
       "3        0          0          2           1  32128        1  \n",
       "4        0          0          0           1  30082        0  \n",
       "\n",
       "[5 rows x 184 columns]"
      ]
     },
     "execution_count": 36,
     "metadata": {},
     "output_type": "execute_result"
    }
   ],
   "source": [
    "new_read_dict = {'KEY':np.str,'LOCATION':np.str,'EEO1CODE':np.str,'SKEY':np.str,'JOBCODE':np.str,'EMPL_CLASS':np.str, \n",
    "                          'SHIFT':np.str,'COMPANY':np.str,'EXT_FUNC_ID_SFI':np.str,'FUNC_ID_SFI':np.str,\n",
    "                          'DIVISION_CODE_SFI':np.str,'JOB_FAMILY':np.str,'JOB_FUNCTION':np.str,'ACTRES1':np.str,\n",
    "                          'ACTRES2':np.str,'ACTRES3':np.str,'ACTRES4':np.str,'ACTRES5':np.str,'ACTRES6':np.str,\n",
    "                          'ACTRES7':np.str,'ACTRES8':np.str,'ACTRES9':np.str,'ACTRES10':np.str,'zip5':np.str}\n",
    "empl = pd.read_csv('employee_dataframe8.tsv',sep='\\t',dtype=new_read_dict)\n",
    "empl.head()"
   ]
  },
  {
   "cell_type": "markdown",
   "metadata": {},
   "source": [
    "### Replace mising values of floats with median"
   ]
  },
  {
   "cell_type": "code",
   "execution_count": 10,
   "metadata": {
    "collapsed": false
   },
   "outputs": [
    {
     "data": {
      "text/plain": [
       "(count     167884.000000\n",
       " mean       43299.389978\n",
       " std        39803.960684\n",
       " min            0.000000\n",
       " 25%            0.000000\n",
       " 50%        38257.205000\n",
       " 75%        65219.230000\n",
       " max      1750000.000000\n",
       " dtype: float64, 45885.389999999999)"
      ]
     },
     "execution_count": 10,
     "metadata": {},
     "output_type": "execute_result"
    }
   ],
   "source": [
    "## Look at medians of SAL*\n",
    "empl.SAL2.describe(), np.median(empl.SAL2)"
   ]
  },
  {
   "cell_type": "code",
   "execution_count": 37,
   "metadata": {
    "collapsed": false
   },
   "outputs": [
    {
     "data": {
      "text/plain": [
       "29"
      ]
     },
     "execution_count": 37,
     "metadata": {},
     "output_type": "execute_result"
    }
   ],
   "source": [
    "replace_float_cols = ['MERIT1', 'MERIT10', 'MERIT2', 'MERIT3', 'MERIT4', 'MERIT5', 'MERIT6', 'MERIT7', 'MERIT8', 'MERIT9', \n",
    "                      'PERF1','PERF2','PERF3','PERF4', 'PERF5','PERF6','PERF7','PERF8', 'PERF9', 'PERF10',\n",
    "                      'SAL10', 'SAL2', 'SAL3', 'SAL4', 'SAL5', 'SAL6', 'SAL7', 'SAL8', 'SAL9']\n",
    "len(replace_float_cols)"
   ]
  },
  {
   "cell_type": "code",
   "execution_count": 38,
   "metadata": {
    "collapsed": false
   },
   "outputs": [
    {
     "data": {
      "text/plain": [
       "{'MERIT1': 1195.4300000000001,\n",
       " 'MERIT10': 0.0,\n",
       " 'MERIT2': 1271.4200000000001,\n",
       " 'MERIT3': 1094.5599999999999,\n",
       " 'MERIT4': 871.88999999999999,\n",
       " 'MERIT5': 790.00999999999999,\n",
       " 'MERIT6': 726.21000000000004,\n",
       " 'MERIT7': 586.24000000000001,\n",
       " 'MERIT8': 0.0,\n",
       " 'MERIT9': 0.0,\n",
       " 'PERF1': 1153.3900000000001,\n",
       " 'PERF10': 0.0,\n",
       " 'PERF2': 997.5,\n",
       " 'PERF3': 801.84000000000003,\n",
       " 'PERF4': 494.83999999999997,\n",
       " 'PERF5': 0.0,\n",
       " 'PERF6': 0.0,\n",
       " 'PERF7': 0.0,\n",
       " 'PERF8': 0.0,\n",
       " 'PERF9': 0.0,\n",
       " 'SAL10': 0.0,\n",
       " 'SAL2': 45885.389999999999,\n",
       " 'SAL3': 43082.720000000001,\n",
       " 'SAL4': 39823.599999999999,\n",
       " 'SAL5': 36857.68,\n",
       " 'SAL6': 33953.010000000002,\n",
       " 'SAL7': 30237.73,\n",
       " 'SAL8': 25367.279999999999,\n",
       " 'SAL9': 0.0}"
      ]
     },
     "execution_count": 38,
     "metadata": {},
     "output_type": "execute_result"
    }
   ],
   "source": [
    "## replace by medians -- overal\n",
    "col_float_medians ={}\n",
    "for c in replace_float_cols:\n",
    "    col_float_medians[c] = np.median(empl[c])\n",
    "    empl[c].fillna(col_float_medians[c],inplace=True)\n",
    "\n",
    "col_float_medians\n"
   ]
  },
  {
   "cell_type": "markdown",
   "metadata": {},
   "source": [
    "## remove high-dimensional categorical data"
   ]
  },
  {
   "cell_type": "code",
   "execution_count": 14,
   "metadata": {
    "collapsed": true
   },
   "outputs": [],
   "source": [
    "# helper function\n",
    "def summarize_dataframe2(df,show_example=False):\n",
    "    nrow = len(df)\n",
    "    summary_df = pd.DataFrame(columns = ['Column','datatype','nmissing','arity','accepted values'])\n",
    "    len_df = len(summary_df)\n",
    "    for col in df.columns:\n",
    "        nmiss = nrow - df[col].value_counts().sum()\n",
    "        narity = len(df[col].unique())\n",
    "        if show_example:\n",
    "            print col, df[col].dtype,nmiss, \"\\t\", narity,\":\\t\", df[col].ix[8320]\n",
    "        else:\n",
    "            print col, df[col].dtype,nmiss, \"\\t\", narity\n",
    "        accept_val = None\n",
    "        if narity < 20:\n",
    "            accept_val = df[col].unique()\n",
    "        summary_df.loc[len_df] = [col,df[col].dtype,nmiss,narity,accept_val]\n",
    "        len_df+=1\n",
    "    # assing fraction of missing\n",
    "    summary_df['x_missing'] = summary_df['nmissing']/float(nrow)\n",
    "    \n",
    "    return summary_df"
   ]
  },
  {
   "cell_type": "code",
   "execution_count": 39,
   "metadata": {
    "collapsed": false
   },
   "outputs": [
    {
     "name": "stdout",
     "output_type": "stream",
     "text": [
      "ACTRES1 object 0 \t25528\n",
      "ACTRES10 object 0 \t12096\n",
      "ACTRES2 object 0 \t22260\n",
      "ACTRES3 object 0 \t19761\n",
      "ACTRES4 object 0 \t18075\n",
      "ACTRES5 object 0 \t14497\n",
      "ACTRES6 object 0 \t11931\n",
      "ACTRES7 object 0 \t12926\n",
      "ACTRES8 object 0 \t11037\n",
      "ACTRES9 object 0 \t11376\n",
      "ADDRCNT1 float64 0 \t6\n",
      "ADDRCNT10 float64 0 \t15\n",
      "ADDRCNT3 float64 0 \t10\n",
      "ADDRCNT5 float64 0 \t12\n",
      "ADDRESS1 object 0 \t190462\n",
      "ANNUAL_RT float64 0 \t123705\n",
      "Age_tdelta object 0 \t19297\n",
      "Age_years float64 0 \t19297\n",
      "BIRTHDATE object 0 \t24349\n",
      "BOX1 int64 0 \t4\n",
      "BOX10 int64 0 \t4\n",
      "BOX2 int64 0 \t4\n",
      "BOX3 int64 0 \t4\n",
      "BOX4 int64 0 \t4\n",
      "BOX5 int64 0 \t4\n",
      "BOX6 int64 0 \t4\n",
      "BOX7 int64 0 \t4\n",
      "BOX8 int64 0 \t4\n",
      "BOX9 int64 0 \t4\n",
      "COMPANY object 0 \t7\n",
      "COMP_FREQUENCY int64 0 \t2\n",
      "CUR_DEPT_MOS float64 0 \t5388\n",
      "CUR_EFUNC_MOS float64 0 \t7917\n",
      "CUR_FUNC_MOS float64 0 \t9046\n",
      "CUR_GRADE_MOS float64 0 \t4876\n",
      "CUR_JOB_MOS float64 0 \t6476\n",
      "CUR_LOC_MOS float64 0 \t7883\n",
      "DEPTCNT1 int64 0 \t8\n",
      "DEPTCNT10 int64 0 \t23\n",
      "DEPTCNT3 int64 0 \t12\n",
      "DEPTCNT5 int64 0 \t16\n",
      "DIRECT_RPT_CNT float64 0 \t176\n",
      "DIVISION_CODE_SFI object 0 \t10\n",
      "EEO1CODE object 0 \t11\n",
      "EFUNCCNT1 int64 0 \t6\n",
      "EFUNCCNT10 int64 0 \t14\n",
      "EFUNCCNT3 int64 0 \t9\n",
      "EFUNCCNT5 int64 0 \t11\n",
      "EMPL_CLASS object 0 \t12\n",
      "EMPL_TYPE object 0 \t5\n",
      "ETHNIC_GROUP float64 0 \t8\n",
      "EXTFUNC_CNT float64 0 \t10352\n",
      "EXT_FUNC_ID_SFI object 0 \t422\n",
      "FLOORCNT1 int64 0 \t6\n",
      "FLOORCNT10 int64 0 \t17\n",
      "FLOORCNT3 int64 0 \t9\n",
      "FLOORCNT5 int64 0 \t11\n",
      "FLOR_SFI int64 0 \t115\n",
      "FLSA_STATUS int64 0 \t3\n",
      "FTE float64 0 \t82\n",
      "FTPTCNT1 int64 0 \t3\n",
      "FTPTCNT10 int64 0 \t5\n",
      "FTPTCNT3 int64 0 \t3\n",
      "FTPTCNT5 int64 0 \t4\n",
      "FULLPART1 int64 0 \t2\n",
      "FULLPART10 int64 0 \t2\n",
      "FULLPART3 int64 0 \t2\n",
      "FULLPART5 int64 0 \t2\n",
      "FULL_PART_TIME object 0 \t4\n",
      "FUNCCNT1 int64 0 \t4\n",
      "FUNCCNT10 int64 0 \t11\n",
      "FUNCCNT3 int64 0 \t6\n",
      "FUNCCNT5 int64 0 \t9\n",
      "FUNC_CNT float64 0 \t12070\n",
      "FUNC_ID_SFI object 0 \t64\n",
      "GRADE object 0 \t164\n",
      "GRADECNT1 int64 0 \t5\n",
      "GRADECNT10 int64 0 \t14\n",
      "GRADECNT3 int64 0 \t7\n",
      "GRADECNT5 int64 0 \t9\n",
      "HIRE_DT object 0 \t11976\n",
      "HUBIND int64 0 \t2\n",
      "INTERN int64 0 \t2\n",
      "JOBCNT1 int64 0 \t7\n",
      "JOBCNT10 int64 0 \t14\n",
      "JOBCNT3 int64 0 \t9\n",
      "JOBCNT5 int64 0 \t11\n",
      "JOBCODE object 0 \t3791\n",
      "JOB_FAMILY object 0 \t1456\n",
      "JOB_FUNCTION object 0 \t19\n",
      "KEY object 0 \t199419\n",
      "LAST_HIRE_DT object 0 \t11318\n",
      "LEGACY_DEPT_SFI object 0 \t42660\n",
      "LOCATION object 0 \t13535\n",
      "LOCCNT1 int64 0 \t7\n",
      "LOCCNT10 int64 0 \t13\n",
      "LOCCNT3 int64 0 \t8\n",
      "LOCCNT5 int64 0 \t9\n",
      "LOCSTCNT1 int64 0 \t5\n",
      "LOCSTCNT10 int64 0 \t8\n",
      "LOCSTCNT3 int64 0 \t6\n",
      "LOCSTCNT5 int64 0 \t7\n",
      "LOC_CITY object 0 \t3667\n",
      "LOC_STATE object 0 \t52\n",
      "LOC_TYPE_DESCR_SFI object 0 \t34\n",
      "MAX_RT_ANNUAL float64 0 \t1210\n",
      "MERIT1 float64 0 \t78274\n",
      "MERIT10 float64 0 \t45400\n",
      "MERIT2 float64 0 \t81866\n",
      "MERIT3 float64 0 \t75514\n",
      "MERIT4 float64 0 \t69061\n",
      "MERIT5 float64 0 \t64523\n",
      "MERIT6 float64 0 \t61399\n",
      "MERIT7 float64 0 \t58303\n",
      "MERIT8 float64 0 \t53279\n",
      "MERIT9 float64 0 \t49444\n",
      "MIN_RT_ANNUAL float64 0 \t1441\n",
      "PARTFULL1 int64 0 \t2\n",
      "PARTFULL10 int64 0 \t2\n",
      "PARTFULL3 int64 0 \t2\n",
      "PARTFULL5 int64 0 \t2\n",
      "PERF1 float64 0 \t78698\n",
      "PERF10 float64 0 \t42171\n",
      "PERF2 float64 0 \t75373\n",
      "PERF3 float64 0 \t68836\n",
      "PERF4 float64 0 \t63065\n",
      "PERF5 float64 0 \t57979\n",
      "PERF6 float64 0 \t53702\n",
      "PERF7 float64 0 \t50459\n",
      "PERF8 float64 0 \t46875\n",
      "PERF9 float64 0 \t44603\n",
      "PTFTCNT1 int64 0 \t3\n",
      "PTFTCNT10 int64 0 \t5\n",
      "PTFTCNT3 int64 0 \t4\n",
      "PTFTCNT5 int64 0 \t4\n",
      "RATE1 int64 0 \t4\n",
      "RATE10 int64 0 \t4\n",
      "RATE2 int64 0 \t4\n",
      "RATE3 int64 0 \t4\n",
      "RATE4 int64 0 \t4\n",
      "RATE5 int64 0 \t4\n",
      "RATE6 int64 0 \t4\n",
      "RATE7 int64 0 \t4\n",
      "RATE8 int64 0 \t4\n",
      "RATE9 int64 0 \t4\n",
      "REH_CNT int64 0 \t18\n",
      "RELOCATE_ALL_SFI int64 0 \t2\n",
      "RELO_STATE_CNT_SFI int64 0 \t55\n",
      "REMOTE int64 0 \t2\n",
      "REMOTE_SUPV int64 0 \t2\n",
      "SAL1 float64 0 \t123705\n",
      "SAL10 float64 0 \t52214\n",
      "SAL2 float64 0 \t100053\n",
      "SAL3 float64 0 \t91678\n",
      "SAL4 float64 0 \t84585\n",
      "SAL5 float64 0 \t78365\n",
      "SAL6 float64 0 \t72384\n",
      "SAL7 float64 0 \t66288\n",
      "SAL8 float64 0 \t61112\n",
      "SAL9 float64 0 \t56752\n",
      "SERVICE_DT object 0 \t17077\n",
      "SEX int64 0 \t2\n",
      "SHIFT object 0 \t4\n",
      "SKEY object 0 \t15042\n",
      "STD_HOURS float64 0 \t144\n",
      "SUPVCNT1 int64 0 \t12\n",
      "SUPVCNT10 int64 0 \t31\n",
      "SUPVCNT3 int64 0 \t19\n",
      "SUPVCNT5 int64 0 \t22\n",
      "SUPV_DIFF_LOC object 0 \t2\n",
      "TELE_MOS float64 0 \t388\n",
      "TERMINATION_DT object 0 \t8549\n",
      "TOTAL_RPT_CNT float64 0 \t1040\n",
      "Tenure_months float64 0 \t15729\n",
      "Tenure_tdelta object 0 \t15729\n",
      "status int64 0 \t2\n",
      "Tenure_years float64 0 \t15729\n",
      "HAVE_INS float64 0 \t2\n",
      "HAVE_DEP float64 0 \t2\n",
      "DEP_COUNT float64 0 \t28\n",
      "sep_status int64 0 \t4\n",
      "mar_status int64 0 \t3\n",
      "zip5 object 0 \t16619\n",
      "retired int64 0 \t2\n"
     ]
    }
   ],
   "source": [
    "sdf2 = summarize_dataframe2(empl)"
   ]
  },
  {
   "cell_type": "code",
   "execution_count": 40,
   "metadata": {
    "collapsed": false
   },
   "outputs": [
    {
     "data": {
      "text/plain": [
       "['LOC_TYPE_DESCR_SFI',\n",
       " 'LOC_STATE',\n",
       " 'FUNC_ID_SFI',\n",
       " 'GRADE',\n",
       " 'EXT_FUNC_ID_SFI',\n",
       " 'JOB_FAMILY',\n",
       " 'LOC_CITY',\n",
       " 'JOBCODE',\n",
       " 'TERMINATION_DT',\n",
       " 'ACTRES8',\n",
       " 'LAST_HIRE_DT',\n",
       " 'ACTRES9',\n",
       " 'ACTRES6',\n",
       " 'HIRE_DT',\n",
       " 'ACTRES10',\n",
       " 'ACTRES7',\n",
       " 'LOCATION',\n",
       " 'ACTRES5',\n",
       " 'SKEY',\n",
       " 'Tenure_tdelta',\n",
       " 'zip5',\n",
       " 'SERVICE_DT',\n",
       " 'ACTRES4',\n",
       " 'Age_tdelta',\n",
       " 'ACTRES3',\n",
       " 'ACTRES2',\n",
       " 'BIRTHDATE',\n",
       " 'ACTRES1',\n",
       " 'LEGACY_DEPT_SFI',\n",
       " 'ADDRESS1',\n",
       " 'KEY']"
      ]
     },
     "execution_count": 40,
     "metadata": {},
     "output_type": "execute_result"
    }
   ],
   "source": [
    "other_categorical_cols = list(sdf2[(sdf2.datatype == 'object') & (sdf2.arity >19)].sort('arity').Column)\n",
    "other_categorical_cols"
   ]
  },
  {
   "cell_type": "code",
   "execution_count": 41,
   "metadata": {
    "collapsed": false
   },
   "outputs": [
    {
     "data": {
      "text/plain": [
       "['LOC_TYPE_DESCR_SFI',\n",
       " 'LOC_STATE',\n",
       " 'FUNC_ID_SFI',\n",
       " 'GRADE',\n",
       " 'EXT_FUNC_ID_SFI',\n",
       " 'JOB_FAMILY',\n",
       " 'JOBCODE']"
      ]
     },
     "execution_count": 41,
     "metadata": {},
     "output_type": "execute_result"
    }
   ],
   "source": [
    "cols_to_encode = other_categorical_cols[:6]\n",
    "cols_to_encode.append('JOBCODE')\n",
    "cols_to_encode"
   ]
  },
  {
   "cell_type": "code",
   "execution_count": 43,
   "metadata": {
    "collapsed": false
   },
   "outputs": [
    {
     "data": {
      "text/plain": [
       "['TERMINATION_DT',\n",
       " 'ACTRES8',\n",
       " 'LAST_HIRE_DT',\n",
       " 'ACTRES9',\n",
       " 'ACTRES6',\n",
       " 'HIRE_DT',\n",
       " 'ACTRES10',\n",
       " 'ACTRES7',\n",
       " 'LOCATION',\n",
       " 'ACTRES5',\n",
       " 'SKEY',\n",
       " 'Tenure_tdelta',\n",
       " 'zip5',\n",
       " 'SERVICE_DT',\n",
       " 'ACTRES4',\n",
       " 'Age_tdelta',\n",
       " 'ACTRES3',\n",
       " 'ACTRES2',\n",
       " 'BIRTHDATE',\n",
       " 'ACTRES1',\n",
       " 'LEGACY_DEPT_SFI',\n",
       " 'ADDRESS1',\n",
       " 'KEY',\n",
       " 'LOC_CITY']"
      ]
     },
     "execution_count": 43,
     "metadata": {},
     "output_type": "execute_result"
    }
   ],
   "source": [
    "cols_to_ignore = other_categorical_cols[8:]\n",
    "cols_to_ignore.append('LOC_CITY')\n",
    "cols_to_ignore"
   ]
  },
  {
   "cell_type": "code",
   "execution_count": 44,
   "metadata": {
    "collapsed": false
   },
   "outputs": [
    {
     "data": {
      "text/plain": [
       "(199419, 160)"
      ]
     },
     "execution_count": 44,
     "metadata": {},
     "output_type": "execute_result"
    }
   ],
   "source": [
    "empl.drop(cols_to_ignore,inplace=True,axis=1)\n",
    "empl.shape"
   ]
  },
  {
   "cell_type": "markdown",
   "metadata": {},
   "source": [
    "# Transform to categorical if <= 19 in arity\n",
    "* one-hot encoding"
   ]
  },
  {
   "cell_type": "code",
   "execution_count": 45,
   "metadata": {
    "collapsed": false
   },
   "outputs": [
    {
     "data": {
      "text/plain": [
       "['SUPV_DIFF_LOC',\n",
       " 'FULL_PART_TIME',\n",
       " 'SHIFT',\n",
       " 'EMPL_TYPE',\n",
       " 'COMPANY',\n",
       " 'DIVISION_CODE_SFI',\n",
       " 'EEO1CODE',\n",
       " 'EMPL_CLASS',\n",
       " 'JOB_FUNCTION']"
      ]
     },
     "execution_count": 45,
     "metadata": {},
     "output_type": "execute_result"
    }
   ],
   "source": [
    "#cols_to_cat = ['FULL_PART_TIME','EMPL_TYPE','COMPANY','EEO1CODE','EMPL_CLASS','JOB_FUNCTION']\n",
    "cols_to_cat = list(sdf2[(sdf2.datatype == 'object') & (sdf2.arity <=19)].sort('arity').Column)\n",
    "cols_to_cat"
   ]
  },
  {
   "cell_type": "code",
   "execution_count": 50,
   "metadata": {
    "collapsed": false
   },
   "outputs": [
    {
     "data": {
      "text/plain": [
       "001    166214\n",
       "005     29802\n",
       "002      1812\n",
       "003       628\n",
       "007       522\n",
       "049       371\n",
       "004        70\n",
       "dtype: int64"
      ]
     },
     "execution_count": 50,
     "metadata": {},
     "output_type": "execute_result"
    }
   ],
   "source": [
    "empl.COMPANY.value_counts()"
   ]
  },
  {
   "cell_type": "code",
   "execution_count": 23,
   "metadata": {
    "collapsed": false
   },
   "outputs": [
    {
     "data": {
      "text/plain": [
       "N    111147\n",
       "Y     88272\n",
       "dtype: int64"
      ]
     },
     "execution_count": 23,
     "metadata": {},
     "output_type": "execute_result"
    }
   ],
   "source": [
    "empl['SUPV_DIF_LOC'] #= label_eempl.SUPV_DIFF_LOC.value_counts()"
   ]
  },
  {
   "cell_type": "code",
   "execution_count": 46,
   "metadata": {
    "collapsed": true
   },
   "outputs": [],
   "source": [
    "label_encoder = preprocessing.LabelEncoder()\n",
    "empl['SUPV_DIFF_LOC'] = label_encoder.fit_transform(empl['SUPV_DIFF_LOC'])"
   ]
  },
  {
   "cell_type": "code",
   "execution_count": 52,
   "metadata": {
    "collapsed": false
   },
   "outputs": [
    {
     "ename": "ValueError",
     "evalue": "list.remove(x): x not in list",
     "output_type": "error",
     "traceback": [
      "\u001b[1;31m---------------------------------------------------------------------------\u001b[0m",
      "\u001b[1;31mValueError\u001b[0m                                Traceback (most recent call last)",
      "\u001b[1;32m<ipython-input-52-cedf07c83090>\u001b[0m in \u001b[0;36m<module>\u001b[1;34m()\u001b[0m\n\u001b[1;32m----> 1\u001b[1;33m \u001b[0mcols_to_cat\u001b[0m\u001b[1;33m.\u001b[0m\u001b[0mremove\u001b[0m\u001b[1;33m(\u001b[0m\u001b[1;34m'SHIFT'\u001b[0m\u001b[1;33m)\u001b[0m\u001b[1;33m\u001b[0m\u001b[0m\n\u001b[0m\u001b[0;32m      2\u001b[0m \u001b[0mcols_to_cat\u001b[0m\u001b[1;33m.\u001b[0m\u001b[0mremove\u001b[0m\u001b[1;33m(\u001b[0m\u001b[1;34m'DIVISION_CODE_SFI'\u001b[0m\u001b[1;33m)\u001b[0m\u001b[1;33m\u001b[0m\u001b[0m\n",
      "\u001b[1;31mValueError\u001b[0m: list.remove(x): x not in list"
     ]
    }
   ],
   "source": [
    "cols_to_cat.remove('SHIFT')\n"
   ]
  },
  {
   "cell_type": "code",
   "execution_count": 53,
   "metadata": {
    "collapsed": true
   },
   "outputs": [],
   "source": [
    "cols_to_cat.remove('DIVISION_CODE_SFI')"
   ]
  },
  {
   "cell_type": "code",
   "execution_count": 54,
   "metadata": {
    "collapsed": false
   },
   "outputs": [
    {
     "data": {
      "text/plain": [
       "[4, 5, 7, 11, 12, 19]"
      ]
     },
     "execution_count": 54,
     "metadata": {},
     "output_type": "execute_result"
    }
   ],
   "source": [
    "[len(empl[c].unique()) for c in cols_to_cat[1:]]"
   ]
  },
  {
   "cell_type": "code",
   "execution_count": 55,
   "metadata": {
    "collapsed": false
   },
   "outputs": [
    {
     "name": "stdout",
     "output_type": "stream",
     "text": [
      "base_categories\n",
      "------------------------\n"
     ]
    },
    {
     "data": {
      "text/plain": [
       "[('FULL_PART_TIME', F    171554\n",
       "  dtype: int64), ('EMPL_TYPE', E    116476\n",
       "  dtype: int64), ('COMPANY', 001    166214\n",
       "  dtype: int64), ('EEO1CODE', 5    93585\n",
       "  dtype: int64), ('EMPL_CLASS', 1    194163\n",
       "  dtype: int64), ('JOB_FUNCTION', XXX    68899\n",
       "  dtype: int64)]"
      ]
     },
     "execution_count": 55,
     "metadata": {},
     "output_type": "execute_result"
    }
   ],
   "source": [
    "print \"base_categories\"\n",
    "print \"------------------------\"\n",
    "[(a,empl[a].value_counts().head(1)) for a in cols_to_cat[1:]]"
   ]
  },
  {
   "cell_type": "code",
   "execution_count": 56,
   "metadata": {
    "collapsed": true
   },
   "outputs": [],
   "source": [
    "def create_factorized_df(input_df,column_name):\n",
    "    tmp_df = pd.get_dummies(input_df[column_name],prefix=column_name)\n",
    "    # now drop the largest category\n",
    "    lgst_category = input_df[column_name].value_counts().index[0]\n",
    "    #print tmp_df.shape, tmp_df.columns\n",
    "    #print lgst_category\n",
    "    base_category = column_name+'_'+str(lgst_category)\n",
    "    tmp_df.drop(base_category,axis=1,inplace=True)\n",
    "    print tmp_df.shape, base_category\n",
    "    return tmp_df,base_category\n",
    "    "
   ]
  },
  {
   "cell_type": "code",
   "execution_count": 57,
   "metadata": {
    "collapsed": false
   },
   "outputs": [
    {
     "name": "stdout",
     "output_type": "stream",
     "text": [
      "(199419, 160)\n",
      "FULL_PART_TIME\n",
      "(199419, 3) FULL_PART_TIME_F\n",
      "EMPL_TYPE\n",
      "(199419, 4) EMPL_TYPE_E\n",
      "COMPANY\n",
      "(199419, 6) COMPANY_001\n",
      "EEO1CODE\n",
      "(199419, 10) EEO1CODE_5\n",
      "EMPL_CLASS\n",
      "(199419, 11) EMPL_CLASS_1\n",
      "JOB_FUNCTION\n",
      "(199419, 18) JOB_FUNCTION_XXX\n",
      "(199419, 206) 6\n"
     ]
    }
   ],
   "source": [
    "# create a dummified dataframe.\n",
    "base_category_list =[]\n",
    "print empl.shape\n",
    "for acol in cols_to_cat[1:]:\n",
    "    print acol\n",
    "    t_df,bc1 = create_factorized_df(empl,acol)\n",
    "    # drop the original column\n",
    "    empl.drop(acol,inplace=True,axis=1)\n",
    "    # append the factorized categories\n",
    "    empl = pd.concat([empl,t_df],axis=1)\n",
    "    base_category_list.append(bc1)\n",
    "\n",
    "print empl.shape,len(base_category_list)"
   ]
  },
  {
   "cell_type": "markdown",
   "metadata": {},
   "source": [
    "## just use label_encoding -- need to improve this later\n"
   ]
  },
  {
   "cell_type": "code",
   "execution_count": 58,
   "metadata": {
    "collapsed": false
   },
   "outputs": [
    {
     "data": {
      "text/plain": [
       "['LOC_TYPE_DESCR_SFI',\n",
       " 'LOC_STATE',\n",
       " 'FUNC_ID_SFI',\n",
       " 'GRADE',\n",
       " 'EXT_FUNC_ID_SFI',\n",
       " 'JOB_FAMILY',\n",
       " 'JOBCODE']"
      ]
     },
     "execution_count": 58,
     "metadata": {},
     "output_type": "execute_result"
    }
   ],
   "source": [
    "cols_to_encode"
   ]
  },
  {
   "cell_type": "code",
   "execution_count": 59,
   "metadata": {
    "collapsed": false
   },
   "outputs": [],
   "source": [
    "for col in cols_to_encode:\n",
    "    empl[col] = label_encoder.fit_transform(empl[col]) # use sklearn.preprocesing.LabelEncoder()"
   ]
  },
  {
   "cell_type": "markdown",
   "metadata": {},
   "source": [
    "# Now it is ready to use as input into scikitLearn as a matrix\n",
    "The standard notation is to define this as X and save it as a float type\n",
    "Don't forget to create a response variable, y\n",
    "\n",
    "### since the goal is to determine number of separation in a future time point, maybe I should create a target that is the number of tenure years."
   ]
  },
  {
   "cell_type": "markdown",
   "metadata": {
    "collapsed": true
   },
   "source": [
    "## first test is to predict on separation at all (status)"
   ]
  },
  {
   "cell_type": "code",
   "execution_count": 60,
   "metadata": {
    "collapsed": true
   },
   "outputs": [],
   "source": [
    "y = empl.status.as_matrix().astype(np.int)\n",
    "df = empl.drop(['status','sep_status','retired'],axis=1).copy()\n",
    "X = df.as_matrix().astype(np.float)"
   ]
  },
  {
   "cell_type": "code",
   "execution_count": 61,
   "metadata": {
    "collapsed": false
   },
   "outputs": [
    {
     "data": {
      "text/plain": [
       "((199419,), (199419, 203))"
      ]
     },
     "execution_count": 61,
     "metadata": {},
     "output_type": "execute_result"
    }
   ],
   "source": [
    "y.shape, X.shape"
   ]
  },
  {
   "cell_type": "markdown",
   "metadata": {},
   "source": [
    "So I have 199419 instances and 203 features\n",
    "\n",
    "####Next scale them by removing mean and dividing by standar deviation."
   ]
  },
  {
   "cell_type": "code",
   "execution_count": 62,
   "metadata": {
    "collapsed": true
   },
   "outputs": [],
   "source": [
    "scaler = preprocessing.StandardScaler()\n",
    "X = scaler.fit_transform(X)\n"
   ]
  },
  {
   "cell_type": "code",
   "execution_count": 63,
   "metadata": {
    "collapsed": true
   },
   "outputs": [],
   "source": [
    "from sklearn import cross_validation"
   ]
  },
  {
   "cell_type": "code",
   "execution_count": 64,
   "metadata": {
    "collapsed": true
   },
   "outputs": [],
   "source": [
    "cross_validation.KFold?"
   ]
  },
  {
   "cell_type": "markdown",
   "metadata": {},
   "source": [
    "### use K-fold Cross-validation --> my classes are not too unbalanced"
   ]
  },
  {
   "cell_type": "code",
   "execution_count": 75,
   "metadata": {
    "collapsed": true
   },
   "outputs": [],
   "source": [
    "def kfold_cv(X, y, clf_class, shuffle=True, n_folds=10, **kwargs):\n",
    "    k_fold = cross_validation.KFold(len(y), n_folds=n_folds, shuffle=shuffle)\n",
    "    y_pred = y.copy()\n",
    "    for ii, jj in k_fold:\n",
    "        X_train, X_test = X[ii], X[jj]\n",
    "        y_train = y[ii]\n",
    "        clf = clf_class(**kwargs)\n",
    "        clf.fit(X_train,y_train)\n",
    "        y_pred[jj] = clf.predict(X_test)\n",
    "    return y_pred"
   ]
  },
  {
   "cell_type": "code",
   "execution_count": 72,
   "metadata": {
    "collapsed": false
   },
   "outputs": [
    {
     "data": {
      "text/plain": [
       "(199419,)"
      ]
     },
     "execution_count": 72,
     "metadata": {},
     "output_type": "execute_result"
    }
   ],
   "source": [
    "np.shape(y)"
   ]
  },
  {
   "cell_type": "code",
   "execution_count": 76,
   "metadata": {
    "collapsed": false
   },
   "outputs": [],
   "source": [
    "kf = cross_validation.KFold(len(y),n_folds =10,shuffle=True)\n"
   ]
  },
  {
   "cell_type": "code",
   "execution_count": 77,
   "metadata": {
    "collapsed": false
   },
   "outputs": [
    {
     "data": {
      "text/plain": [
       "array([1, 1, 1, ..., 1, 1, 1])"
      ]
     },
     "execution_count": 77,
     "metadata": {},
     "output_type": "execute_result"
    }
   ],
   "source": [
    "kfold_cv(X,y,linear_model.PassiveAggressiveClassifier)"
   ]
  },
  {
   "cell_type": "code",
   "execution_count": 66,
   "metadata": {
    "collapsed": true
   },
   "outputs": [],
   "source": [
    "from sklearn import cross_validation\n",
    "from sklearn import tree\n",
    "from sklearn import svm\n",
    "from sklearn import ensemble\n",
    "from sklearn import neighbors\n",
    "from sklearn import linear_model\n",
    "from sklearn import metrics"
   ]
  },
  {
   "cell_type": "code",
   "execution_count": 79,
   "metadata": {
    "collapsed": false
   },
   "outputs": [
    {
     "name": "stdout",
     "output_type": "stream",
     "text": [
      "Passive Aggressive Classifier: 0.92\n",
      "Gradient Boosting Classifier:  0.99\n",
      "Support vector machine(SVM):   0.97\n",
      "Random Forest Classifier:      0.98\n",
      "K Nearest Neighbor Classifier: 0.94\n",
      "Logistic Regression:           0.93\n"
     ]
    }
   ],
   "source": [
    "print('Passive Aggressive Classifier: {:.2f}'.format(metrics.accuracy_score(y, kfold_cv(X, y, linear_model.PassiveAggressiveClassifier))))\n",
    "print('Gradient Boosting Classifier:  {:.2f}'.format(metrics.accuracy_score(y, kfold_cv(X, y, ensemble.GradientBoostingClassifier))))\n",
    "print('Support vector machine(SVM):   {:.2f}'.format(metrics.accuracy_score(y, kfold_cv(X, y, svm.SVC))))\n",
    "print('Random Forest Classifier:      {:.2f}'.format(metrics.accuracy_score(y, kfold_cv(X, y, ensemble.RandomForestClassifier))))\n",
    "print('K Nearest Neighbor Classifier: {:.2f}'.format(metrics.accuracy_score(y, kfold_cv(X, y, neighbors.KNeighborsClassifier))))\n",
    "print('Logistic Regression:           {:.2f}'.format(metrics.accuracy_score(y, kfold_cv(X, y, linear_model.LogisticRegression))))"
   ]
  },
  {
   "cell_type": "code",
   "execution_count": null,
   "metadata": {
    "collapsed": false
   },
   "outputs": [],
   "source": [
    "print('Dump Classifier: {:.2f}'.format(metrics.accuracy_score(y, [0 for ii in y.tolist()])))"
   ]
  },
  {
   "cell_type": "markdown",
   "metadata": {},
   "source": [
    "## Confusion Matrix"
   ]
  },
  {
   "cell_type": "code",
   "execution_count": null,
   "metadata": {
    "collapsed": true
   },
   "outputs": [],
   "source": [
    "pass_agg_conf_matrix = metrics.confusion_matrix(y,kfold_cv(X, y, linear_model.PassiveAggressiveClassifier))\n",
    "grad_ens_conf_matrix = metrics.confusion_matrix(y, kfold_cv(X, y, ensemble.GradientBoostingClassifier))\n",
    "decision_conf_matrix = metrics.confusion_matrix(y, kfold_cv(X, y, tree.DecisionTreeClassifier))\n",
    "ridge_clf_conf_matrix = metrics.confusion_matrix(y, kfold_cv(X, y, linear_model.RidgeClassifier))\n",
    "svm_svc_conf_matrix = metrics.confusion_matrix(y, kfold_cv(X, y, svm.SVC))\n",
    "random_forest_conf_matrix = metrics.confusion_matrix(y, kfold_cv(X, y, ensemble.RandomForestClassifier))\n",
    "k_neighbors_conf_matrix = metrics.confusion_matrix(y, kfold_cv(X, y, neighbors.KNeighborsClassifier))\n",
    "logistic_reg_conf_matrix = metrics.confusion_matrix(y, kfold_cv(X, y, linear_model.LogisticRegression))\n",
    "dumb_conf_matrix = metrics.confusion_matrix(y, [0 for ii in y.tolist()]); # ignore the warning as they are all 0\n",
    "\n",
    "conf_matrix = {\n",
    "                1: {\n",
    "                    'matrix': pass_agg_conf_matrix,\n",
    "                    'title': 'Passive Aggressive',\n",
    "                   },\n",
    "                2: {\n",
    "                    'matrix': grad_ens_conf_matrix,\n",
    "                    'title': 'Gradient Boosting',\n",
    "                   },\n",
    "                3: {\n",
    "                    'matrix': decision_conf_matrix,\n",
    "                    'title': 'Decision Tree',\n",
    "                   },\n",
    "                4: {\n",
    "                    'matrix': ridge_clf_conf_matrix,\n",
    "                    'title': 'Ridge',\n",
    "                   },\n",
    "                5: {\n",
    "                    'matrix': svm_svc_conf_matrix,\n",
    "                    'title': 'Support Vector Machine',\n",
    "                   },\n",
    "                6: {\n",
    "                    'matrix': random_forest_conf_matrix,\n",
    "                    'title': 'Random Forest',\n",
    "                   },\n",
    "                7: {\n",
    "                    'matrix': k_neighbors_conf_matrix,\n",
    "                    'title': 'K Nearest Neighbors',\n",
    "                   },\n",
    "                8: {\n",
    "                    'matrix': logistic_reg_conf_matrix,\n",
    "                    'title': 'Logistic Regression',\n",
    "                   },\n",
    "                9: {\n",
    "                    'matrix': dumb_conf_matrix,\n",
    "                    'title': 'Dumb',\n",
    "                   },\n",
    "}"
   ]
  },
  {
   "cell_type": "code",
   "execution_count": null,
   "metadata": {
    "collapsed": true
   },
   "outputs": [],
   "source": [
    "fix, ax = plt.subplots(figsize=(16, 12))\n",
    "plt.suptitle('Confusion Matrix of Various Classifiers')\n",
    "for ii, values in conf_matrix.items():\n",
    "    matrix = values['matrix']\n",
    "    title = values['title']\n",
    "    plt.subplot(3, 3, ii) # starts from 1\n",
    "    plt.title(title);\n",
    "    sns.heatmap(matrix, annot=True,  fmt='');"
   ]
  },
  {
   "cell_type": "code",
   "execution_count": null,
   "metadata": {
    "collapsed": true
   },
   "outputs": [],
   "source": []
  },
  {
   "cell_type": "markdown",
   "metadata": {},
   "source": [
    "## try to apply a rule to grouping categories together\n",
    "* maybe insure that sum of others <= thresh hold (0.005)\n"
   ]
  },
  {
   "cell_type": "code",
   "execution_count": 284,
   "metadata": {
    "collapsed": false
   },
   "outputs": [
    {
     "data": {
      "text/html": [
       "<div style=\"max-height:1000px;max-width:1500px;overflow:auto;\">\n",
       "<table border=\"1\" class=\"dataframe\">\n",
       "  <thead>\n",
       "    <tr style=\"text-align: right;\">\n",
       "      <th></th>\n",
       "      <th>Column</th>\n",
       "      <th>datatype</th>\n",
       "      <th>nmissing</th>\n",
       "      <th>arity</th>\n",
       "      <th>accepted values</th>\n",
       "      <th>x_missing</th>\n",
       "    </tr>\n",
       "  </thead>\n",
       "  <tbody>\n",
       "    <tr>\n",
       "      <th>52 </th>\n",
       "      <td>    EXT_FUNC_ID_SFI</td>\n",
       "      <td> object</td>\n",
       "      <td> 0</td>\n",
       "      <td>  422</td>\n",
       "      <td> None</td>\n",
       "      <td> 0</td>\n",
       "    </tr>\n",
       "    <tr>\n",
       "      <th>74 </th>\n",
       "      <td>        FUNC_ID_SFI</td>\n",
       "      <td> object</td>\n",
       "      <td> 0</td>\n",
       "      <td>   64</td>\n",
       "      <td> None</td>\n",
       "      <td> 0</td>\n",
       "    </tr>\n",
       "    <tr>\n",
       "      <th>75 </th>\n",
       "      <td>              GRADE</td>\n",
       "      <td> object</td>\n",
       "      <td> 0</td>\n",
       "      <td>  164</td>\n",
       "      <td> None</td>\n",
       "      <td> 0</td>\n",
       "    </tr>\n",
       "    <tr>\n",
       "      <th>87 </th>\n",
       "      <td>            JOBCODE</td>\n",
       "      <td> object</td>\n",
       "      <td> 0</td>\n",
       "      <td> 3791</td>\n",
       "      <td> None</td>\n",
       "      <td> 0</td>\n",
       "    </tr>\n",
       "    <tr>\n",
       "      <th>88 </th>\n",
       "      <td>         JOB_FAMILY</td>\n",
       "      <td> object</td>\n",
       "      <td> 0</td>\n",
       "      <td> 1456</td>\n",
       "      <td> None</td>\n",
       "      <td> 0</td>\n",
       "    </tr>\n",
       "    <tr>\n",
       "      <th>103</th>\n",
       "      <td>          LOC_STATE</td>\n",
       "      <td> object</td>\n",
       "      <td> 0</td>\n",
       "      <td>   52</td>\n",
       "      <td> None</td>\n",
       "      <td> 0</td>\n",
       "    </tr>\n",
       "    <tr>\n",
       "      <th>104</th>\n",
       "      <td> LOC_TYPE_DESCR_SFI</td>\n",
       "      <td> object</td>\n",
       "      <td> 0</td>\n",
       "      <td>   34</td>\n",
       "      <td> None</td>\n",
       "      <td> 0</td>\n",
       "    </tr>\n",
       "  </tbody>\n",
       "</table>\n",
       "</div>"
      ],
      "text/plain": [
       "                 Column datatype nmissing arity accepted values x_missing\n",
       "52      EXT_FUNC_ID_SFI   object        0   422            None         0\n",
       "74          FUNC_ID_SFI   object        0    64            None         0\n",
       "75                GRADE   object        0   164            None         0\n",
       "87              JOBCODE   object        0  3791            None         0\n",
       "88           JOB_FAMILY   object        0  1456            None         0\n",
       "103           LOC_STATE   object        0    52            None         0\n",
       "104  LOC_TYPE_DESCR_SFI   object        0    34            None         0"
      ]
     },
     "execution_count": 284,
     "metadata": {},
     "output_type": "execute_result"
    }
   ],
   "source": [
    "sdf2[sdf2.Column.isin(cols_to_encode)]"
   ]
  },
  {
   "cell_type": "code",
   "execution_count": 286,
   "metadata": {
    "collapsed": false
   },
   "outputs": [
    {
     "data": {
      "text/plain": [
       "62     34719\n",
       "125    11803\n",
       "315     9851\n",
       "66      7947\n",
       "101     7031\n",
       "71      6570\n",
       "68      5555\n",
       "70      4445\n",
       "892     3368\n",
       "910     3287\n",
       "909     3201\n",
       "517     2964\n",
       "328     2962\n",
       "118     2770\n",
       "63      2084\n",
       "...\n",
       "149    1\n",
       "924    1\n",
       "342    1\n",
       "786    1\n",
       "218    1\n",
       "785    1\n",
       "219    1\n",
       "784    1\n",
       "737    1\n",
       "782    1\n",
       "286    1\n",
       "740    1\n",
       "613    1\n",
       "778    1\n",
       "147    1\n",
       "Length: 422, dtype: int64"
      ]
     },
     "execution_count": 286,
     "metadata": {},
     "output_type": "execute_result"
    }
   ],
   "source": [
    "empl.EXT_FUNC_ID_SFI.value_counts()"
   ]
  },
  {
   "cell_type": "code",
   "execution_count": 266,
   "metadata": {
    "collapsed": false
   },
   "outputs": [],
   "source": [
    "def apply_thresh(series,thresh=0.003,verbose=False):\n",
    "    myvals = series.value_counts()\n",
    "    n = len(series)\n",
    "    my_thresh = thresh*n\n",
    "    if verbose:\n",
    "        print \"ORIGINAL \\n\"\n",
    "        print myvals/n\n",
    "        print \"_++______\"\n",
    "    print \"{0} original categories reduced to {1} final categories\".format(len(myvals), len(myvals[myvals>my_thresh]))\n",
    "    catchall = myvals[myvals<=my_thresh]\n",
    "    \n",
    "    catchallfrac = catchall.sum()/float(n)\n",
    "    print \"{0} categories grouped into catch-all with {1:.6f} total fraction\".format(len(myvals[myvals<=my_thresh]),catchallfrac)\n",
    "    print \"__________________________\"\n",
    "    categories_to_group = list(catchall.index)\n",
    "    print categories_to_group\n",
    "    #series[series.isin(categories_to_group)] = 'ZZ_other'\n",
    "    return categories_to_group\n",
    "    #print myvals[myvals>my_thresh]\n",
    "    "
   ]
  },
  {
   "cell_type": "code",
   "execution_count": 269,
   "metadata": {
    "collapsed": false
   },
   "outputs": [
    {
     "name": "stdout",
     "output_type": "stream",
     "text": [
      "52 original categories reduced to 31 final categories\n",
      "21 categories grouped into catch-all with 0.027324 total fraction\n",
      "__________________________\n",
      "['IA', 'NV', 'WV', 'UT', 'MS', 'NM', 'CT', 'MT', 'ID', 'HI', 'DE', 'AK', 'WY', 'SD', 'NH', 'ME', 'ND', 'MA', 'VT', 'DC', 'RI']\n"
     ]
    }
   ],
   "source": [
    "e2 = apply_thresh(empl.LOC_STATE)\n"
   ]
  },
  {
   "cell_type": "code",
   "execution_count": 274,
   "metadata": {
    "collapsed": false
   },
   "outputs": [
    {
     "data": {
      "text/plain": [
       "ZZ_other    199419\n",
       "dtype: int64"
      ]
     },
     "execution_count": 274,
     "metadata": {},
     "output_type": "execute_result"
    }
   ],
   "source": [
    "empl.loc[empl.LOC_STATE.isin(e2),'LOC_STATE']='ZZ_other'\n",
    "empl.LOC_STATE.value_counts()"
   ]
  },
  {
   "cell_type": "code",
   "execution_count": 218,
   "metadata": {
    "collapsed": false
   },
   "outputs": [
    {
     "name": "stdout",
     "output_type": "stream",
     "text": [
      "ORIGINAL \n",
      "\n",
      "1    0.973643\n",
      "D    0.014968\n",
      "3    0.006745\n",
      "T    0.002457\n",
      "O    0.001700\n",
      "4    0.000276\n",
      "X    0.000115\n",
      "P    0.000065\n",
      "2    0.000015\n",
      "5    0.000005\n",
      "G    0.000005\n",
      "F    0.000005\n",
      "dtype: float64\n",
      "_++______\n",
      "12 original categories reduced to 5 final categories\n",
      "7 categories grouped into catch-all with 0.000486 total fraction\n",
      "__________________________\n"
     ]
    }
   ],
   "source": [
    "#apply_thresh(empl[cols_to_cat[5]])\n",
    "apply_thresh(empl['EMPL_CLASS'],thresh=0.001,verbose=True)"
   ]
  },
  {
   "cell_type": "code",
   "execution_count": 154,
   "metadata": {
    "collapsed": false
   },
   "outputs": [
    {
     "data": {
      "text/plain": [
       "OPERATIONS CENTER                 87175\n",
       "REGIONAL OFFICE                   26301\n",
       "CLAIM SERVICE CENTER(CSC)         24857\n",
       "CORPORATE HEADQUARTERS            22781\n",
       "TELEWORKER - MOBILE               10412\n",
       "UNKNOWN LOCATION TYPE              8811\n",
       "AGENCY FIELD OFFICE(AFO)           5434\n",
       "CLAIM LITIGATION COUNSEL(CLC)      4121\n",
       "MULT-USE FACILITY                  3044\n",
       "INSURANCE SUPPORT CENTER(ISC)      1726\n",
       "ADMINISTRATIVE BUILDING            1498\n",
       "VACANT FACILITY                     633\n",
       "TELECOMMUTER (HOME RESIDENCE)       482\n",
       "MULT-REGIONAL SERVICE FACILITY      434\n",
       "ESTIMATING STATION                  365\n",
       "TELECOMMUTER - EMP INITATED         282\n",
       "EMERGENCY SERVICE PROGRAM(ESP)      270\n",
       "TELECOMMUTERS(HOME RESIDENCE)       265\n",
       "WAREHOUSE                            92\n",
       "CUSTOMER SRVC DIV/MKT CENTER         80\n",
       "SPECIAL INVESTIGATIVE UNIT-SIU       53\n",
       "NON-STATE FARM TENANT                47\n",
       "MARKETING CENTER                     41\n",
       "MARKET AFO                           41\n",
       "AGENT OFFICE                         36\n",
       "VACANT LAND                          36\n",
       "MISSING                              26\n",
       "CATASTROPHE OFFICE                   26\n",
       "REGIONAL AUDIT CONSULTANT(RAC)       25\n",
       "TELEWORKER-REMOTE                     8\n",
       "TELECOMMUTER - COMP INITATED          7\n",
       "DEVELOPMENTAL AFO                     4\n",
       "PARKING                               4\n",
       "TELECOMMUTER-SPACE CONSTRAINTS        2\n",
       "dtype: int64"
      ]
     },
     "execution_count": 154,
     "metadata": {},
     "output_type": "execute_result"
    }
   ],
   "source": [
    "empl.LOC_TYPE_DESCR_SFI.value_counts()"
   ]
  },
  {
   "cell_type": "code",
   "execution_count": 156,
   "metadata": {
    "collapsed": false
   },
   "outputs": [
    {
     "name": "stdout",
     "output_type": "stream",
     "text": [
      "11458\n"
     ]
    },
    {
     "data": {
      "text/plain": [
       "TELEWORKER - MOBILE               10412\n",
       "TELECOMMUTER (HOME RESIDENCE)       482\n",
       "TELECOMMUTER - EMP INITATED         282\n",
       "TELECOMMUTERS(HOME RESIDENCE)       265\n",
       "TELEWORKER-REMOTE                     8\n",
       "TELECOMMUTER - COMP INITATED          7\n",
       "TELECOMMUTER-SPACE CONSTRAINTS        2\n",
       "dtype: int64"
      ]
     },
     "execution_count": 156,
     "metadata": {},
     "output_type": "execute_result"
    }
   ],
   "source": [
    "print len(empl[empl.REMOTE==1])\n",
    "empl[empl.REMOTE==1]['LOC_TYPE_DESCR_SFI'].value_counts()"
   ]
  },
  {
   "cell_type": "code",
   "execution_count": 149,
   "metadata": {
    "collapsed": false
   },
   "outputs": [
    {
     "data": {
      "text/plain": [
       "0090    9468\n",
       "0061    2762\n",
       "0062     254\n",
       "dtype: int64"
      ]
     },
     "execution_count": 149,
     "metadata": {},
     "output_type": "execute_result"
    }
   ],
   "source": [
    "empl[empl.JOB_FAMILY == 'CLMREP']['JOBCODE'].value_counts()"
   ]
  },
  {
   "cell_type": "code",
   "execution_count": null,
   "metadata": {
    "collapsed": false
   },
   "outputs": [],
   "source": [
    "#[sdf[x] for x in sdf.Column if x.endswith('SFI')]\n",
    "col_end_sfi = [x for x in list(sdf.Column.values) if x.endswith('SFI')]\n",
    "sdf[sdf.Column.isin(col_end_sfi)]"
   ]
  },
  {
   "cell_type": "code",
   "execution_count": null,
   "metadata": {
    "collapsed": false
   },
   "outputs": [],
   "source": [
    "empl_bene[empl_bene.EXT_FUNC_ID_SFI=='00000']#.unique()"
   ]
  },
  {
   "cell_type": "markdown",
   "metadata": {},
   "source": [
    "## get hire year"
   ]
  },
  {
   "cell_type": "code",
   "execution_count": null,
   "metadata": {
    "collapsed": false
   },
   "outputs": [],
   "source": [
    "atime = empl_bene['HIRE_DT'].ix[0]\n",
    "str(atime)"
   ]
  },
  {
   "cell_type": "code",
   "execution_count": null,
   "metadata": {
    "collapsed": false
   },
   "outputs": [],
   "source": [
    "str(atime)[5:7]"
   ]
  },
  {
   "cell_type": "code",
   "execution_count": null,
   "metadata": {
    "collapsed": false
   },
   "outputs": [],
   "source": [
    "empl_bene['hire_month'] = empl_bene['HIRE_DT'].apply(lambda x: int(str(x)[5:7]))\n",
    "empl_bene['hire_month'].hist(bins=12,color='darkorchid')"
   ]
  },
  {
   "cell_type": "code",
   "execution_count": null,
   "metadata": {
    "collapsed": false
   },
   "outputs": [],
   "source": [
    "empl_bene['hire_year'] = empl_bene['HIRE_DT'].apply(lambda x: int(str(x)[:4]))\n",
    "empl_bene.hire_year.describe()"
   ]
  },
  {
   "cell_type": "code",
   "execution_count": null,
   "metadata": {
    "collapsed": false
   },
   "outputs": [],
   "source": [
    "empl_bene.hire_year.hist(bins=70)"
   ]
  },
  {
   "cell_type": "markdown",
   "metadata": {},
   "source": [
    "## how many are there if we require hire_date > some date?\n"
   ]
  },
  {
   "cell_type": "code",
   "execution_count": null,
   "metadata": {
    "collapsed": false
   },
   "outputs": [],
   "source": [
    "empl_bene.HIRE_DT.ix[0]"
   ]
  },
  {
   "cell_type": "code",
   "execution_count": null,
   "metadata": {
    "collapsed": false
   },
   "outputs": [],
   "source": [
    "test_hire_date = pd.to_datetime('2002-11-30') #datetime(2002,11,30)\n",
    "test_hire_date"
   ]
  },
  {
   "cell_type": "code",
   "execution_count": null,
   "metadata": {
    "collapsed": false
   },
   "outputs": [],
   "source": [
    "emplB = empl_bene[empl_bene.HIRE_DT > test_hire_date].copy()\n",
    "print len(emplB)\n",
    "print emplB.status.value_counts()\n",
    "print emplB.sep_status.value_counts()\n"
   ]
  },
  {
   "cell_type": "code",
   "execution_count": null,
   "metadata": {
    "collapsed": false
   },
   "outputs": [],
   "source": [
    "#test_term_date = #test_hire_date\n",
    "test_term_date = pd.to_datetime('2002-12-31')\n",
    "emplC= empl[empl.TERMINATION_DT > test_term_date].copy()\n",
    "print len(emplC)\n",
    "print emplC.status.value_counts()\n",
    "print emplC.sep_status.value_counts()"
   ]
  },
  {
   "cell_type": "code",
   "execution_count": null,
   "metadata": {
    "collapsed": false
   },
   "outputs": [],
   "source": [
    "emplC.RATE1.value_counts()"
   ]
  },
  {
   "cell_type": "code",
   "execution_count": null,
   "metadata": {
    "collapsed": true
   },
   "outputs": [],
   "source": [
    "def split_rate_column(x):\n",
    "    list_of_defined_values = ['R1C1','R1C2','R1C3',\n",
    "                              'R2C1','R2C2','R2C3',\n",
    "                              'R3C1','R3C2','R3C3']\n",
    "    #rcol=[]\n",
    "    #ccol=[]\n",
    "    if x in list_of_defined_values:\n",
    "        rval = int(x[1])#col.append(x[1])\n",
    "        cval = int(x[3]) #col.append(x[3])\n",
    "        #print x[1],x[3]\n",
    "    else:\n",
    "        #rcol.append(0)\n",
    "        #ccol.append(0)\n",
    "        rval = 0\n",
    "        cval = 0\n",
    "    return rval,cval"
   ]
  },
  {
   "cell_type": "code",
   "execution_count": null,
   "metadata": {
    "collapsed": false
   },
   "outputs": [],
   "source": [
    "#rcol,ccol = \n",
    "input_column = 'RATE1'\n",
    "rval = [x[0] for x in emplC[input_column].apply(lambda(x): split_rate_column(x)).as_matrix()]\n",
    "cval = [x[1] for x in emplC[input_column].apply(lambda(x): split_rate_column(x)).as_matrix()]"
   ]
  },
  {
   "cell_type": "code",
   "execution_count": null,
   "metadata": {
    "collapsed": false
   },
   "outputs": [],
   "source": [
    "emplC[input_column+'_R'] = rval\n",
    "emplC[input_column+'_C'] = cval\n",
    "emplC[['RATE1','RATE1_R','RATE1_C']].head()"
   ]
  },
  {
   "cell_type": "code",
   "execution_count": null,
   "metadata": {
    "collapsed": true
   },
   "outputs": [],
   "source": [
    "def convert_rate_column(df,input_column):\n",
    "    rval = [x[0] for x in df[input_column].apply(lambda(x): split_rate_column(x)).as_matrix()]\n",
    "    cval = [x[1] for x in df[input_column].apply(lambda(x): split_rate_column(x)).as_matrix()]\n",
    "    df[input_column+'_R'] = rval\n",
    "    df[input_column+'_C'] = cval\n",
    "    df.drop(input_column,inplace=True,axis=1)\n",
    "    return df"
   ]
  },
  {
   "cell_type": "code",
   "execution_count": null,
   "metadata": {
    "collapsed": false
   },
   "outputs": [],
   "source": [
    "### convert the RATINGS columns\n",
    "for col in ['RATE1','RATE2','RATE3','RATE4','RATE5','RATE6','RATE7','RATE8','RATE9','RATE10']:\n",
    "    print col\n",
    "    emplC = convert_rate_column(emplC,col)"
   ]
  },
  {
   "cell_type": "code",
   "execution_count": null,
   "metadata": {
    "collapsed": false
   },
   "outputs": [],
   "source": [
    "emplC.shape"
   ]
  },
  {
   "cell_type": "markdown",
   "metadata": {
    "collapsed": false
   },
   "source": [
    "## begin to Standardize some of these other columns\n",
    "\n"
   ]
  },
  {
   "cell_type": "code",
   "execution_count": null,
   "metadata": {
    "collapsed": false
   },
   "outputs": [],
   "source": [
    "empltbl3.EMPL_CLASS.value_counts(), empltbl3.EMPL_CLASS.unique()"
   ]
  },
  {
   "cell_type": "code",
   "execution_count": null,
   "metadata": {
    "collapsed": false
   },
   "outputs": [],
   "source": [
    "empltbl3.EMPL_TYPE.value_counts()"
   ]
  },
  {
   "cell_type": "code",
   "execution_count": null,
   "metadata": {
    "collapsed": false
   },
   "outputs": [],
   "source": [
    "pd.crosstab(empltbl3.EMPL_TYPE,empltbl3.EMPL_CLASS)"
   ]
  },
  {
   "cell_type": "code",
   "execution_count": null,
   "metadata": {
    "collapsed": false
   },
   "outputs": [],
   "source": [
    "pd.crosstab(empl.COMPANY,empl.EMPL_TYPE)"
   ]
  },
  {
   "cell_type": "code",
   "execution_count": null,
   "metadata": {
    "collapsed": false
   },
   "outputs": [],
   "source": [
    "pd.crosstab(empl.COMPANY,empl.EMPL_CLASS)"
   ]
  },
  {
   "cell_type": "code",
   "execution_count": null,
   "metadata": {
    "collapsed": false
   },
   "outputs": [],
   "source": [
    "pd.crosstab(emplC.COMPANY,emplC.EMPL_CLASS)"
   ]
  },
  {
   "cell_type": "code",
   "execution_count": null,
   "metadata": {
    "collapsed": false
   },
   "outputs": [],
   "source": [
    "empl[empl.COMPANY=='049'].LOC_STATE.value_counts()"
   ]
  },
  {
   "cell_type": "code",
   "execution_count": null,
   "metadata": {
    "collapsed": false
   },
   "outputs": [],
   "source": []
  },
  {
   "cell_type": "code",
   "execution_count": null,
   "metadata": {
    "collapsed": false
   },
   "outputs": [],
   "source": [
    "empl.COMPANY.value_counts()"
   ]
  },
  {
   "cell_type": "code",
   "execution_count": null,
   "metadata": {
    "collapsed": false
   },
   "outputs": [],
   "source": [
    "sdfC[sdfC.arity>4].sort('arity')"
   ]
  },
  {
   "cell_type": "code",
   "execution_count": null,
   "metadata": {
    "collapsed": false
   },
   "outputs": [],
   "source": [
    "print len(empltbl3.LEGACY_DEPT_SFI.unique())"
   ]
  },
  {
   "cell_type": "code",
   "execution_count": null,
   "metadata": {
    "collapsed": false
   },
   "outputs": [],
   "source": [
    "empltbl3.LEGACY_DEPT_SFI.value_counts()"
   ]
  },
  {
   "cell_type": "code",
   "execution_count": null,
   "metadata": {
    "collapsed": false
   },
   "outputs": [],
   "source": [
    "sdfC[sdfC['arity']<40000].sort('arity',ascending=False)"
   ]
  },
  {
   "cell_type": "code",
   "execution_count": null,
   "metadata": {
    "collapsed": false
   },
   "outputs": [],
   "source": [
    "len(empltbl3.LOCATION.unique()"
   ]
  },
  {
   "cell_type": "code",
   "execution_count": null,
   "metadata": {
    "collapsed": false
   },
   "outputs": [],
   "source": [
    "Bcolumns_without_missing_values = list(sdfB[sdfB.x_missing == 0].Column.values)\n",
    "Bcolumns_with_missing_values = list(sdfB[sdfB.x_missing > 0].Column.values)\n",
    "print len(Bcolumns_with_missing_values), len(sdfB)"
   ]
  },
  {
   "cell_type": "code",
   "execution_count": null,
   "metadata": {
    "collapsed": false
   },
   "outputs": [],
   "source": [
    "sdfB.sort('x_missing',ascending=False)"
   ]
  },
  {
   "cell_type": "code",
   "execution_count": null,
   "metadata": {
    "collapsed": false
   },
   "outputs": [],
   "source": [
    "sdf2 = summarize_dataframe2(empl)"
   ]
  },
  {
   "cell_type": "code",
   "execution_count": null,
   "metadata": {
    "collapsed": false
   },
   "outputs": [],
   "source": [
    "sdf2['x_missing'] = sdf2['nmissing']/len(empl)\n",
    "sdf2.sort('x_missing',ascending=False)"
   ]
  },
  {
   "cell_type": "code",
   "execution_count": null,
   "metadata": {
    "collapsed": false
   },
   "outputs": [],
   "source": [
    "columns_with_missing_values2 = list(sdf2[sdf2.x_missing>0].Column.values)\n",
    "len(columns_with_missing_values2)"
   ]
  },
  {
   "cell_type": "code",
   "execution_count": null,
   "metadata": {
    "collapsed": false
   },
   "outputs": [],
   "source": [
    "sdf2[(sdf2.x_missing>0) & (sdf2.datatype != 'float64')]#.datatype.unique()"
   ]
  },
  {
   "cell_type": "code",
   "execution_count": null,
   "metadata": {
    "collapsed": false
   },
   "outputs": [],
   "source": [
    "print len(empl.RATE1.unique()), \n",
    "print empl.RATE1.unique()"
   ]
  },
  {
   "cell_type": "code",
   "execution_count": null,
   "metadata": {
    "collapsed": false
   },
   "outputs": [],
   "source": [
    "empl.RATE1.value_counts()"
   ]
  },
  {
   "cell_type": "code",
   "execution_count": null,
   "metadata": {
    "collapsed": false
   },
   "outputs": [],
   "source": [
    "len(empl[empl.RATE1 == 'R3C1'])"
   ]
  },
  {
   "cell_type": "code",
   "execution_count": null,
   "metadata": {
    "collapsed": false
   },
   "outputs": [],
   "source": [
    "empl[empl.RATE1 == 'COMM']['TERMINATION_DT'].describe()#max()#[['hire_year','TERMINATION_DT','status','sep_status']]"
   ]
  },
  {
   "cell_type": "code",
   "execution_count": null,
   "metadata": {
    "collapsed": true
   },
   "outputs": [],
   "source": []
  },
  {
   "cell_type": "code",
   "execution_count": null,
   "metadata": {
    "collapsed": false
   },
   "outputs": [],
   "source": [
    "print sum(empl_bene.MAR_STATUS_DT.isnull())\n",
    "empl_bene[empl_bene.MAR_STATUS_DT.isnull()][['HIRE_DT','TERMINATION_DT','MAR_STA_SNAME_SFI']]"
   ]
  },
  {
   "cell_type": "code",
   "execution_count": null,
   "metadata": {
    "collapsed": true
   },
   "outputs": [],
   "source": []
  },
  {
   "cell_type": "code",
   "execution_count": null,
   "metadata": {
    "collapsed": false
   },
   "outputs": [],
   "source": [
    "\n",
    "#empl_bene.drop('STATE',axis=1,inplace=True)\n",
    "#pd.crosstab(empl_bene['STATE'],empl_bene['LOC_STATE'])"
   ]
  },
  {
   "cell_type": "code",
   "execution_count": null,
   "metadata": {
    "collapsed": false
   },
   "outputs": [],
   "source": [
    "set(columns_with_missing_values)-set(Bcolumns_with_missing_values)"
   ]
  },
  {
   "cell_type": "code",
   "execution_count": null,
   "metadata": {
    "collapsed": false
   },
   "outputs": [],
   "source": [
    "# look at these distributions\n",
    "plt.figure(figsize=(12,8))\n",
    "emplC[emplC.status==0].Age_years.hist(bins=70,range=[15,84],color='darkred',label='current',alpha=0.8,normed=True)\n",
    "emplC[emplC.status==1].Age_years.hist(bins=70,range=[15,84],color='dodgerblue',label='former',alpha=0.5,normed=True)\n",
    "plt.legend()\n",
    "plt.xlabel('Age in years')\n",
    "plt.ylabel('Normed Counts')\n",
    "plt.title('Distribution of Worforce Ages')"
   ]
  },
  {
   "cell_type": "code",
   "execution_count": null,
   "metadata": {
    "collapsed": false
   },
   "outputs": [],
   "source": [
    "# look at these distributions\n",
    "plt.figure(figsize=(12,8))\n",
    "emplB[emplB.status==0].Tenure_years.hist(bins=36,range=[0,35],color='darkred',label='current',alpha=0.8,normed=True)\n",
    "emplB[emplB.status==1].Tenure_years.hist(bins=36,range=[0,35],color='dodgerblue',label='former',alpha=0.5,normed=True)\n",
    "plt.legend()\n",
    "plt.xlabel('Age in years')\n",
    "plt.ylabel('Normed Counts')\n",
    "plt.title('Distribution of Worforce Ages')"
   ]
  },
  {
   "cell_type": "code",
   "execution_count": null,
   "metadata": {
    "collapsed": false
   },
   "outputs": [],
   "source": [
    "empl_bene.zip5.value_counts()"
   ]
  },
  {
   "cell_type": "code",
   "execution_count": null,
   "metadata": {
    "collapsed": false
   },
   "outputs": [],
   "source": [
    "label_encoder.fit_transform(empl_bene['SEX'])\n",
    "#empl_bene.SEX.head() #df['State'] = label_encoder.fit_transform(df['State'])"
   ]
  },
  {
   "cell_type": "code",
   "execution_count": null,
   "metadata": {
    "collapsed": true
   },
   "outputs": [],
   "source": [
    "empl_bene['COMP_FREQ_HOURLY'] = label_encoder.fit_transform(empl_bene['COMP_FREQUENCY'])\n",
    "empl_bene.drop([],axis=1,inplace=True)\n"
   ]
  },
  {
   "cell_type": "code",
   "execution_count": null,
   "metadata": {
    "collapsed": false
   },
   "outputs": [],
   "source": [
    "empl_bene.COMP_FREQUENCY.head()"
   ]
  },
  {
   "cell_type": "code",
   "execution_count": null,
   "metadata": {
    "collapsed": true
   },
   "outputs": [],
   "source": [
    "##\n",
    "empl_bene['COMP_FREQ_ANNUAL'] = 1\n",
    "empl_bene.loc[empl_bene['COMP_FREQUENCY']=='H','COMP_FREQ_ANNUAL'] = 0\n",
    "empl_bene.drop('COMP_FREQUENCY',axis=1,inplace=True)"
   ]
  },
  {
   "cell_type": "markdown",
   "metadata": {},
   "source": [
    "## Save this dataframe as a tab separated file"
   ]
  },
  {
   "cell_type": "code",
   "execution_count": null,
   "metadata": {
    "collapsed": false
   },
   "outputs": [],
   "source": [
    "outfile1 = 'employee_dataframe.tsv'\n",
    "save_dataframe_file = True\n",
    "if save_dataframe_file:\n",
    "    empltbl3.to_csv(outfile1,sep='\\t')"
   ]
  },
  {
   "cell_type": "markdown",
   "metadata": {},
   "source": [
    "## convert datetime64[ns] format to a string ---> YYYY-MM-DD \n",
    "use date_columns"
   ]
  },
  {
   "cell_type": "code",
   "execution_count": null,
   "metadata": {
    "collapsed": false
   },
   "outputs": [],
   "source": [
    "for c in date_columns:\n",
    "    empltbl3[c]= empltbl3[c].apply(lambda x: str(x).split(' ')[0])"
   ]
  },
  {
   "cell_type": "code",
   "execution_count": null,
   "metadata": {
    "collapsed": false
   },
   "outputs": [],
   "source": [
    "for col in empltbl3.columns:\n",
    "    my_dtype = empltbl3[col].dtype\n",
    "    if my_dtype != 'object' and my_dtype != 'float64' and my_dtype != 'int64':\n",
    "        print col, \"\\t\", empltbl3[col].dtype, \"\\t\",empltbl3[col].ix[8] "
   ]
  },
  {
   "cell_type": "code",
   "execution_count": null,
   "metadata": {
    "collapsed": false
   },
   "outputs": [],
   "source": [
    "### try converting the timedeltas to floats\n",
    "empltbl3['Age_tdelta'].ix[3].astype('float')/(60*60*24*10**9)"
   ]
  },
  {
   "cell_type": "code",
   "execution_count": null,
   "metadata": {
    "collapsed": false
   },
   "outputs": [],
   "source": [
    "nano2days = 60.*60.*24.*10**9\n",
    "empltbl3['Age_days'] = empltbl3['Age_tdelta'].apply(lambda x: x.astype('float')/(nano2days))\n",
    "empltbl3['Tenure_days'] = empltbl3['Tenure_tdelta'].apply(lambda x: x.astype('float')/(nano2days))"
   ]
  },
  {
   "cell_type": "code",
   "execution_count": null,
   "metadata": {
    "collapsed": false
   },
   "outputs": [],
   "source": [
    "empltbl3.drop(['Age_tdelta','Tenure_tdelta'], axis=1,inplace=True)\n",
    "empltbl3.shape"
   ]
  },
  {
   "cell_type": "code",
   "execution_count": null,
   "metadata": {
    "collapsed": false
   },
   "outputs": [],
   "source": [
    "len(empltbl3.Age_days.unique()), len(empltbl3.Tenure_days.unique())"
   ]
  },
  {
   "cell_type": "code",
   "execution_count": null,
   "metadata": {
    "collapsed": false
   },
   "outputs": [],
   "source": [
    "empltbl.Age_years.ix[:10].apply(lambda x: int(np.round(x,0)))"
   ]
  },
  {
   "cell_type": "code",
   "execution_count": null,
   "metadata": {
    "collapsed": false
   },
   "outputs": [],
   "source": [
    "# Keep just the year\n",
    "empltbl_dates = empltbl[date_columns].copy() # save the dates.\n",
    "for c in date_columns:\n",
    "    #print c\n",
    "    if c.endswith('DT'):\n",
    "        c2 = c[:-2]+'YEAR'\n",
    "    else:\n",
    "        c2 = c[:-4]+'_YEAR'\n",
    "    #print c2\n",
    "    empltbl[c2]= empltbl[c].apply(lambda x: x[:4])"
   ]
  },
  {
   "cell_type": "code",
   "execution_count": null,
   "metadata": {
    "collapsed": false
   },
   "outputs": [],
   "source": [
    "empltbl.drop(date_columns,axis=1,inplace=True)"
   ]
  },
  {
   "cell_type": "code",
   "execution_count": null,
   "metadata": {
    "collapsed": true
   },
   "outputs": [],
   "source": [
    "empltbl['Age_year_int'] = empltbl['Age_years'].apply(lambda x: int(np.round(x,0)))\n",
    "empltbl['Tenure_year_int'] = empltbl['Tenure_months'].apply(lambda x: int(np.round(x/12,0)))"
   ]
  },
  {
   "cell_type": "code",
   "execution_count": null,
   "metadata": {
    "collapsed": false
   },
   "outputs": [],
   "source": [
    "len(empltbl.Age_year_int.unique()), len(empltbl.Tenure_year_int.unique())"
   ]
  },
  {
   "cell_type": "code",
   "execution_count": null,
   "metadata": {
    "collapsed": false
   },
   "outputs": [],
   "source": [
    "empltbl.Tenure_year_int.value_counts().plot(kind='bar',color='darkslateblue')"
   ]
  },
  {
   "cell_type": "code",
   "execution_count": null,
   "metadata": {
    "collapsed": false
   },
   "outputs": [],
   "source": [
    "#now save this version for H2O\n",
    "outfile2 = 'employee_dataframe2.ssv'\n",
    "save_dataframe_file = True\n",
    "if save_dataframe_file:\n",
    "    empltbl.to_csv(outfile2,sep=';')"
   ]
  },
  {
   "cell_type": "code",
   "execution_count": null,
   "metadata": {
    "collapsed": false
   },
   "outputs": [],
   "source": [
    "empltbl.shape"
   ]
  },
  {
   "cell_type": "code",
   "execution_count": null,
   "metadata": {
    "collapsed": false
   },
   "outputs": [],
   "source": [
    "# duplicated employee keys:\n",
    "#[empltbl.KEY.value_counts() > 1]\n",
    "dup_empl_keys = []\n",
    "empltblKEYcounts = empltbl.KEY.value_counts()\n",
    "for a in empltblKEYcounts[empltblKEYcounts>1].index:\n",
    "    print a\n",
    "    dup_empl_keys.append(a)\n",
    "\n",
    "for empkey in dup_empl_keys:\n",
    "    print empltbl[empltbl.KEY == empkey]"
   ]
  },
  {
   "cell_type": "markdown",
   "metadata": {},
   "source": [
    "## Continue to Refine the input data"
   ]
  },
  {
   "cell_type": "code",
   "execution_count": null,
   "metadata": {
    "collapsed": false
   },
   "outputs": [],
   "source": []
  },
  {
   "cell_type": "code",
   "execution_count": null,
   "metadata": {
    "collapsed": false
   },
   "outputs": [],
   "source": [
    "sum(empltbl3.zip5.isnull())"
   ]
  },
  {
   "cell_type": "code",
   "execution_count": null,
   "metadata": {
    "collapsed": false
   },
   "outputs": [],
   "source": [
    "empltbl3[empltbl3.zip5=='SW18 '].values"
   ]
  },
  {
   "cell_type": "code",
   "execution_count": null,
   "metadata": {
    "collapsed": false
   },
   "outputs": [],
   "source": [
    "empltbl3[empltbl3['STATE'].isnull()][['POSTAL_SFI','zip5','LOC_STATE','ADDRESS1']]"
   ]
  },
  {
   "cell_type": "code",
   "execution_count": null,
   "metadata": {
    "collapsed": false
   },
   "outputs": [],
   "source": [
    "sdf = summarize_dataframe2(empltbl3)"
   ]
  },
  {
   "cell_type": "markdown",
   "metadata": {
    "collapsed": true
   },
   "source": [
    "## Examine cleaning up the different feature (covariate) columns for anylysis on them.\n"
   ]
  },
  {
   "cell_type": "markdown",
   "metadata": {},
   "source": [
    "### restrict the dataframe to do linear-regression on.\n",
    "* first attempt is _ad hoc_ reduction of 185 columns\n",
    "    * keep age_years, tenure_months, status, sex for sure\n",
    "* look at cases where there is 'significant' correlation between columns:\n",
    "    * for example JOBCNTx, LOCCNTx, DEPTCNTx, ..."
   ]
  },
  {
   "cell_type": "code",
   "execution_count": null,
   "metadata": {
    "collapsed": false
   },
   "outputs": [],
   "source": [
    "# define the set of columns that have missing values smaller than some threshold \n",
    "sdf['x_missing'] = sdf['nmissing']/len(empltbl3)\n",
    "len(sdf[sdf['x_missing'] > 0]), len(sdf)"
   ]
  },
  {
   "cell_type": "code",
   "execution_count": null,
   "metadata": {
    "collapsed": false
   },
   "outputs": [],
   "source": [
    "sdf['y_arity'] = sdf['arity']/len(empltbl)\n",
    "sdf['y_arity'].hist(bins=30,color='deepskyblue')"
   ]
  },
  {
   "cell_type": "code",
   "execution_count": null,
   "metadata": {
    "collapsed": false
   },
   "outputs": [],
   "source": [
    "sdf['x_missing'].hist(bins=30,color='deeppink')"
   ]
  },
  {
   "cell_type": "code",
   "execution_count": null,
   "metadata": {
    "collapsed": false
   },
   "outputs": [],
   "source": [
    "sdf.to_csv('employee_table_summary_3.csv')\n",
    "# save to file"
   ]
  },
  {
   "cell_type": "code",
   "execution_count": null,
   "metadata": {
    "collapsed": false
   },
   "outputs": [],
   "source": [
    "len(sdf)"
   ]
  },
  {
   "cell_type": "code",
   "execution_count": null,
   "metadata": {
    "collapsed": true
   },
   "outputs": [],
   "source": [
    "# now apply some logic to these columns for keeping and not\n",
    "columns_to_fix_missing = []\n",
    "columns_to_fix_NY = []\n",
    "columns_to_omit = []"
   ]
  },
  {
   "cell_type": "markdown",
   "metadata": {},
   "source": [
    "### Procedure applies:\n",
    "* Omit those that more than 25% missing.\n",
    "* identify those that have between 0.1% and 25% missing\n",
    "* add back in 2 columns of interest:\n",
    "* Fix the missing values (imputation):\n",
    "    - if categorical create new column\n",
    "    - if float/int assign median\n",
    "* convert Y/N to 1/0\n",
    "* convert other columns\n",
    "\n"
   ]
  },
  {
   "cell_type": "code",
   "execution_count": null,
   "metadata": {
    "collapsed": false
   },
   "outputs": [],
   "source": [
    "# omit those that have more than 25% missing:\n",
    "missing_threshold = 0.25\n",
    "columns_to_omit = list(sdf[sdf['x_missing'] > missing_threshold].Column.values)\n",
    "print len(columns_to_omit)\n",
    "#columns_to_omit"
   ]
  },
  {
   "cell_type": "code",
   "execution_count": null,
   "metadata": {
    "collapsed": false
   },
   "outputs": [],
   "source": [
    "#missing_threshold = 0.25\n",
    "print len(sdf[(sdf['x_missing']>0) & (sdf['x_missing'] <= missing_threshold)])\n",
    "columns_to_fix_missing = list(sdf[(sdf['x_missing']>0) & (sdf['x_missing'] <= missing_threshold)].Column.values)\n",
    "#print len(columns_to_fix_missing)"
   ]
  },
  {
   "cell_type": "code",
   "execution_count": null,
   "metadata": {
    "collapsed": false
   },
   "outputs": [],
   "source": [
    "# add JOB_FAMILY and JOB_FUNCTION back into those to keep\n",
    "job_columns_of_interest = ['JOB_FAMILY','JOB_FUNCTION']\n",
    "for jcol in job_columns_of_interest:\n",
    "    columns_to_omit.remove(jcol)\n",
    "    columns_to_fix_missing.append(jcol)\n",
    "\n",
    "len(columns_to_omit), len(columns_to_fix_missing)"
   ]
  },
  {
   "cell_type": "markdown",
   "metadata": {},
   "source": [
    "### look at the ones to fix missing that are objects"
   ]
  },
  {
   "cell_type": "code",
   "execution_count": null,
   "metadata": {
    "collapsed": false,
    "scrolled": true
   },
   "outputs": [],
   "source": [
    "sdf[sdf.Column.isin(columns_to_fix_missing)]"
   ]
  },
  {
   "cell_type": "code",
   "execution_count": null,
   "metadata": {
    "collapsed": false
   },
   "outputs": [],
   "source": [
    "#sdf.ix[columns_to_fix_missing.index].datatype.value_counts()\n",
    "sdf[sdf.Column.isin(columns_to_fix_missing)].datatype.value_counts()"
   ]
  },
  {
   "cell_type": "markdown",
   "metadata": {},
   "source": [
    "## Logic to fix the missing (objects)"
   ]
  },
  {
   "cell_type": "code",
   "execution_count": null,
   "metadata": {
    "collapsed": false
   },
   "outputs": [],
   "source": [
    "sdf[(sdf.Column.isin(columns_to_fix_missing)) & (sdf.datatype == 'object')]"
   ]
  },
  {
   "cell_type": "code",
   "execution_count": null,
   "metadata": {
    "collapsed": false
   },
   "outputs": [],
   "source": [
    "## try to compare state & loc_state to resolve\n",
    "len(empltbl3[(empltbl3.STATE.isnull()) & (empltbl3.LOC_STATE.isnull())])"
   ]
  },
  {
   "cell_type": "code",
   "execution_count": null,
   "metadata": {
    "collapsed": false
   },
   "outputs": [],
   "source": [
    "empltbl3.LOC_TYPE_DESCR_SFI.ix[:10]"
   ]
  },
  {
   "cell_type": "markdown",
   "metadata": {},
   "source": [
    "### only 62 have both LOC_STATE and STATE missing --> compare the values of each"
   ]
  },
  {
   "cell_type": "code",
   "execution_count": null,
   "metadata": {
    "collapsed": false
   },
   "outputs": [],
   "source": [
    "len(empltbl3[(empltbl3.STATE!= empltbl3.LOC_STATE)][['STATE','LOC_STATE','zip5','LOC_CITY']])"
   ]
  },
  {
   "cell_type": "code",
   "execution_count": null,
   "metadata": {
    "collapsed": false
   },
   "outputs": [],
   "source": [
    "print len(empltbl3[(empltbl3.STATE.isnull()) & (empltbl3.LOC_STATE.notnull())][['STATE','LOC_STATE','zip5','LOC_CITY']])\n",
    "empltbl3[(empltbl3.STATE.isnull()) & (empltbl3.LOC_STATE.notnull())][['STATE','LOC_STATE','zip5','LOC_CITY']]"
   ]
  },
  {
   "cell_type": "markdown",
   "metadata": {},
   "source": [
    "* ACTRES1,ACTRES2,'ADDRESS1 --> to 'MISSING'\n",
    "* EXT_FUNC_ID_SFI,FUNC_ID_SFI,zip5 --> XXXXX\n",
    "* GRADE_JOB_FUNCTION --> XXX"
   ]
  },
  {
   "cell_type": "code",
   "execution_count": null,
   "metadata": {
    "collapsed": true
   },
   "outputs": [],
   "source": [
    "chg_to_MISSING =['ACTRES1','ACTRES2','ADDRESS1','POSTAL_SFI','JOB_FAMILY', 'LOC_CITY','LOC_TYPE_DESCR_SFI']\n",
    "chg_to_XXXXX = ['EXT_FUNC_ID_SFI','FUNC_ID_SFI','zip5']\n",
    "chg_to_XXX = ['GRADE','JOB_FUNCTION']\n",
    "chg_to_XX = ['STATE','LOC_STATE']"
   ]
  },
  {
   "cell_type": "code",
   "execution_count": null,
   "metadata": {
    "collapsed": false
   },
   "outputs": [],
   "source": [
    "#'MISSING' in empltbl3.LOC_STATE.unique()\n",
    "#empltbl3.LOC_STATE.ix[:10]\n",
    "for acolumn in chg_to_MISSING:\n",
    "    empltbl3.fillna({acolumn: 'MISSING'},inplace=True)\n",
    "\n",
    "for acolumn in chg_to_XXXXX:\n",
    "    empltbl3.fillna({acolumn: 'XXXXX'},inplace=True)\n",
    "\n",
    "for acolumn in chg_to_XXX:\n",
    "    empltbl3.fillna({acolumn: 'XXX'},inplace=True)\n",
    "\n",
    "for acolumn in chg_to_XX:\n",
    "    empltbl3.fillna({acolumn: 'XX'},inplace=True)\n"
   ]
  },
  {
   "cell_type": "markdown",
   "metadata": {},
   "source": [
    "* DIVISION_CODE_SFI --> 15 missing replace with -1 and cast as int"
   ]
  },
  {
   "cell_type": "code",
   "execution_count": null,
   "metadata": {
    "collapsed": false
   },
   "outputs": [],
   "source": [
    "empltbl3.fillna({'DIVISION_CODE_SFI': -1},inplace=True)\n",
    "empltbl3['DIVISION_CODE_SFI'] = empltbl3['DIVISION_CODE_SFI'].apply(lambda x: int(x)) \n",
    "empltbl3.DIVISION_CODE_SFI.ix[:10]"
   ]
  },
  {
   "cell_type": "code",
   "execution_count": null,
   "metadata": {
    "collapsed": false
   },
   "outputs": [],
   "source": [
    "### Now for non-objects that were missing:\n",
    "sdf[(sdf.Column.isin(columns_to_fix_missing)) & (sdf.datatype == 'float64')]"
   ]
  },
  {
   "cell_type": "markdown",
   "metadata": {},
   "source": [
    "###  logic\n",
    "* change a few floats to ints:\n",
    "    - ADDRCNT1,ADDRCNT10,ADDRCNT3,ADDRCNT5,EXTFUNC_CNT,FUNC_CNT\n",
    "    - assign -1 to missing\n",
    "* replace missing with median for others (PERF, MERIT, SAL)"
   ]
  },
  {
   "cell_type": "code",
   "execution_count": null,
   "metadata": {
    "collapsed": true
   },
   "outputs": [],
   "source": [
    "missing_float_to_int = ['ADDRCNT1','ADDRCNT10','ADDRCNT3','ADDRCNT5','EXTFUNC_CNT','FUNC_CNT']\n",
    "for acolumn in missing_float_to_int:\n",
    "    empltbl3.fillna({acolumn: -1},inplace=True)\n",
    "    empltbl3[acolumn] = empltbl3[acolumn].apply(lambda x: int(x)) \n",
    "    "
   ]
  },
  {
   "cell_type": "code",
   "execution_count": null,
   "metadata": {
    "collapsed": false
   },
   "outputs": [],
   "source": [
    "missing_float_to_median = list(sdf[(sdf.Column.isin(columns_to_fix_missing)) & (sdf.datatype == 'float64')].Column[6:].values)"
   ]
  },
  {
   "cell_type": "code",
   "execution_count": null,
   "metadata": {
    "collapsed": false
   },
   "outputs": [],
   "source": [
    "missing_median_values_series = empltbl3[missing_float_to_median].median()\n",
    "missing_median_values_series.head()"
   ]
  },
  {
   "cell_type": "code",
   "execution_count": null,
   "metadata": {
    "collapsed": false
   },
   "outputs": [],
   "source": [
    "missing_median_values_series.loc['PERF4']"
   ]
  },
  {
   "cell_type": "code",
   "execution_count": null,
   "metadata": {
    "collapsed": false
   },
   "outputs": [],
   "source": [
    "for acolumn in missing_float_to_median:\n",
    "    med_value = missing_median_values_series.loc[acolumn]\n",
    "    print acolumn, med_value\n",
    "    empltbl3.fillna({acolumn:med_value},inplace=True)"
   ]
  },
  {
   "cell_type": "markdown",
   "metadata": {
    "collapsed": false
   },
   "source": [
    "### Again from an  __ad hoc__ perspective, reduce the number of columns.\n",
    "The reasoning being that the data is historical or potentially redundant (e.g. Tenure_tdelta + Tenure_years)"
   ]
  },
  {
   "cell_type": "code",
   "execution_count": null,
   "metadata": {
    "collapsed": false
   },
   "outputs": [],
   "source": [
    "# add the ACTRES2/3 and ADDRESS1/2 lines\n",
    "# add *_tdelta, BIRTHDATE, PER_ORG\n",
    "# add POSTAL_SFI, zip5, MAR_STA_SNAME_SFI, LOC_TYPE_DESC_SFI\n",
    "others_to_omit = ['ADDRESS1','Age_tdelta','BIRTHDATE','LAST_HIRE_DT',\n",
    "                  'LOC_CITY','LOC_TYPE_DESCR_SFI','MAR_STATUS_DT','MAR_STA_SNAME_SFI',\n",
    "                  'PER_ORG','POSTAL_SFI','SKEY','SERVICE_DT','TERMINATION_DT',\n",
    "                  'Tenure_tdelta','zip5']#'TOT_MO_SERVICE_SFI','Tenure_months']\n",
    "                 #'MERIT1','MERIT2','MERIT3','MERIT4','MERIT5','MERIT6','MERIT7','MERIT8','MERIT9','MERIT10',\n",
    "                 #'PERF1','PERF2','PERF3','PERF4','PERF5','PERF6','PERF7','PERF8','PERF9','PERF10']\n",
    "history_to_omit = ['ADDRCNT10','ADDRCNT3','ADDRCNT5','DEPTCNT10','DEPTCNT3','DEPTCNT5',\n",
    "                   'EFUNCCNT10','EFUNCCNT3','EFUNCCNT5','FLOORCNT10','FLOORCNT3','FLOORCNT5',\n",
    "                  'FTPTCNT10','FTPTCNT3','FTPTCNT5','FULLPART10','FULLPART3','FULLPART5',\n",
    "                  'FUNCCNT10','FUNCCNT3','FUNCCNT5','GRADECNT10','GRADECNT3','GRADECNT5',\n",
    "                  'JOBCNT10','JOBCNT3','JOBCNT5','LOCCNT10','LOCCNT3','LOCCNT5','LOCSTCNT10','LOCSTCNT3','LOCSTCNT5',\n",
    "                  'PARTFULL10','PARTFULL3','PARTFULL5','PTFTCNT10','PTFTCNT3','PTFTCNT5',\n",
    "                   'SUPVCNT10','SUPVCNT3','SUPVCNT5','ACTRES2','SAL10','SAL9','SAL8','SAL7','SAL6','SAL5','SAL4','SAL3',\n",
    "                   'SAL2','MERIT2','MERIT3','MERIT4','MERIT5','MERIT6','MERIT7','MERIT8','MERIT9','MERIT10',\n",
    "                    'PERF2','PERF3','PERF4','PERF5','PERF6','PERF7','PERF8','PERF9','PERF10']\n",
    "cols_to_categorical = ['COMPANY','COMP_FREQUENCY','DIVISION_CODE_SFI','EEO1CODE','EMPL_CLASS','EMPL_TYPE','ETHNIC_GROUP',\n",
    "                       'FLSA_STATUS','FULLPART1','FULL_PART_TIME','GRADE','HUBIND','INTERN','JOB_FUNCTION','RELOCATE_ALL_SFI',\n",
    "                       'REMOTE','REMOTE_SUPV','SEX','SHIFT','SUPV_DIFF_LOC','VOLINVOL','status']\n",
    "for col in others_to_omit:\n",
    "    columns_to_omit.append(col)\n",
    "\n",
    "for col in history_to_omit:\n",
    "    columns_to_omit.append(col)\n",
    "    \n",
    "print len(columns_to_omit),len(cols_to_categorical)"
   ]
  },
  {
   "cell_type": "code",
   "execution_count": null,
   "metadata": {
    "collapsed": false
   },
   "outputs": [],
   "source": [
    "# define columns to keep\n",
    "columns_to_keep = list(set(empltbl3.columns)-set(columns_to_omit))\n",
    "len(columns_to_keep)"
   ]
  },
  {
   "cell_type": "code",
   "execution_count": null,
   "metadata": {
    "collapsed": false
   },
   "outputs": [],
   "source": [
    "empltbl4 = empltbl3[columns_to_keep].copy()\n",
    "print empltbl4.shape"
   ]
  },
  {
   "cell_type": "code",
   "execution_count": null,
   "metadata": {
    "collapsed": false
   },
   "outputs": [],
   "source": [
    "sdf4 = summarize_dataframe2(empltbl4)"
   ]
  },
  {
   "cell_type": "markdown",
   "metadata": {},
   "source": [
    "## convert binary columns to 0,1 in empl_bene and save"
   ]
  },
  {
   "cell_type": "code",
   "execution_count": null,
   "metadata": {
    "collapsed": false
   },
   "outputs": [],
   "source": [
    "[sum(empl_bene[c].isnull()) for c in columns_to_fix_NY]"
   ]
  },
  {
   "cell_type": "code",
   "execution_count": null,
   "metadata": {
    "collapsed": false
   },
   "outputs": [],
   "source": [
    "for c in columns_to_fix_NY:\n",
    "    if c == 'SEX':\n",
    "        empl_bene.replace({c:{'M':0,'F':1}},inplace=True)\n",
    "    else: \n",
    "        empl_bene.replace({c:{'N':0,'Y':1}},inplace=True)\n",
    "        \n",
    "empl_bene.INTERN.value_counts()"
   ]
  },
  {
   "cell_type": "code",
   "execution_count": null,
   "metadata": {
    "collapsed": false
   },
   "outputs": [],
   "source": [
    "pd.crosstab(empl_bene.FULLPART1,empl_bene.PARTFULL1)"
   ]
  },
  {
   "cell_type": "code",
   "execution_count": null,
   "metadata": {
    "collapsed": true
   },
   "outputs": [],
   "source": [
    "empl_bene['COMP_FREQ_ANNUAL'] = 1\n",
    "empl_bene.loc[empl_bene['COMP_FREQUENCY']=='H','COMP_FREQ_ANNUAL'] = 0\n",
    "empl_bene.drop('COMP_FREQUENCY',axis=1,inplace=True)"
   ]
  },
  {
   "cell_type": "code",
   "execution_count": null,
   "metadata": {
    "collapsed": true
   },
   "outputs": [],
   "source": []
  },
  {
   "cell_type": "code",
   "execution_count": null,
   "metadata": {
    "collapsed": true
   },
   "outputs": [],
   "source": [
    "empl_bene.to_csv('employee_dataframe7long.tsv',sep='\\t',index=False)"
   ]
  },
  {
   "cell_type": "code",
   "execution_count": null,
   "metadata": {
    "collapsed": true
   },
   "outputs": [],
   "source": [
    "save_this_file = True\n",
    "if save_this_file:\n",
    "    empltbl4.to_csv('employee_dataframe4.tsv',sep='\\t',ignore_index =True)"
   ]
  },
  {
   "cell_type": "code",
   "execution_count": null,
   "metadata": {
    "collapsed": false
   },
   "outputs": [],
   "source": [
    "sdf4[sdf4.arity==2]"
   ]
  },
  {
   "cell_type": "code",
   "execution_count": null,
   "metadata": {
    "collapsed": false
   },
   "outputs": [],
   "source": [
    "empltbl4.shape"
   ]
  },
  {
   "cell_type": "code",
   "execution_count": null,
   "metadata": {
    "collapsed": false
   },
   "outputs": [],
   "source": [
    "empltbl4.SHIFT.value_counts()"
   ]
  },
  {
   "cell_type": "markdown",
   "metadata": {},
   "source": [
    "### Logic to transform the binary categorical columns\n",
    "* column = SEX; 1 = Male, 0 = female\n",
    "* column = COMP_FREQUENCY --> new column: comp_frequency_annual (1 = A, 0 = H (hourly))\n",
    "* other columns Y == 1, N == 0"
   ]
  },
  {
   "cell_type": "code",
   "execution_count": null,
   "metadata": {
    "collapsed": false
   },
   "outputs": [],
   "source": [
    "empltbl4['COMP_FREQ_ANNUAL'] = 1\n",
    "empltbl4.loc[empltbl4['COMP_FREQUENCY']=='H','COMP_FREQ_ANNUAL'] = 0\n",
    "empltbl4.drop('COMP_FREQUENCY',axis=1,inplace=True)\n",
    "\n",
    "# now deal with male,female\n",
    "empltbl4.replace({'SEX':{'M': 1,'F':0}},inplace=True)\n",
    "empltbl4[['COMP_FREQ_ANNUAL','SEX','SHIFT']].head()"
   ]
  },
  {
   "cell_type": "code",
   "execution_count": null,
   "metadata": {
    "collapsed": true
   },
   "outputs": [],
   "source": [
    "# assign 1 to Y, 0 to N for the following columns\n",
    "columns_to_fix_NY = ['INTERN','FULLPART1','RELOCATE_ALL_SFI','HUBIND','REMOTE','REMOTE_SUPV','SUPV_DIFF_LOC','PARTFULL1']\n",
    "#empltbl4['COMP_FREQ_ANNUAL'] = empltbl4[\n",
    "for acol in columns_to_fix_NY:\n",
    "    empltbl4.replace({acol :{'Y':1,'N':0}},inplace=True) "
   ]
  },
  {
   "cell_type": "code",
   "execution_count": null,
   "metadata": {
    "collapsed": false
   },
   "outputs": [],
   "source": [
    "sdf4"
   ]
  },
  {
   "cell_type": "code",
   "execution_count": null,
   "metadata": {
    "collapsed": false
   },
   "outputs": [],
   "source": [
    "sdf4[(sdf4.datatype=='object') &(sdf4.arity > 2)]"
   ]
  },
  {
   "cell_type": "code",
   "execution_count": null,
   "metadata": {
    "collapsed": false
   },
   "outputs": [],
   "source": [
    "pd.crosstab(empltbl4.VOLINVOL,empltbl4.sep_status)"
   ]
  },
  {
   "cell_type": "code",
   "execution_count": null,
   "metadata": {
    "collapsed": false
   },
   "outputs": [],
   "source": [
    "sum(empltbl4.sep_status <=1)"
   ]
  },
  {
   "cell_type": "code",
   "execution_count": null,
   "metadata": {
    "collapsed": false
   },
   "outputs": [],
   "source": [
    "vc_empl4 = empltbl4[empltbl4.sep_status<=1].copy()\n"
   ]
  },
  {
   "cell_type": "code",
   "execution_count": null,
   "metadata": {
    "collapsed": false
   },
   "outputs": [],
   "source": [
    "kmf_vc = KaplanMeierFitter()\n",
    "kmf_vc.fit(vc_empl4.Tenure_months, vc_empl4.status,label='ALL')\n",
    "kmf_vc.plot(color='darkslateblue')\n",
    "plt.ylabel('Survival Function')\n",
    "plt.xlabel('Tenure_months')"
   ]
  },
  {
   "cell_type": "code",
   "execution_count": null,
   "metadata": {
    "collapsed": false
   },
   "outputs": [],
   "source": [
    "vc_empl4.JOB_FUNCTION.value_counts()"
   ]
  },
  {
   "cell_type": "code",
   "execution_count": null,
   "metadata": {
    "collapsed": false
   },
   "outputs": [],
   "source": [
    "### Repeat for mgrs\n",
    "print mg_codes\n",
    "mgr = empltbl3.GRADE.isin(mg_codes)\n",
    "sum(mgr)"
   ]
  },
  {
   "cell_type": "code",
   "execution_count": null,
   "metadata": {
    "collapsed": false
   },
   "outputs": [],
   "source": [
    "#sum(vc_empl4[\n",
    "print len(vc_empl4[vc_empl4.GRADE.isin(mg_codes)])\n",
    "mgrA = vc_empl4.GRADE.isin(mg_codes)"
   ]
  },
  {
   "cell_type": "code",
   "execution_count": null,
   "metadata": {
    "collapsed": false
   },
   "outputs": [],
   "source": [
    "fig = plt.figure(figsize=(12.5,5))\n",
    "\n",
    "kmf_mgr1=KaplanMeierFitter()\n",
    "\n",
    "kmf_mgr1.fit(vc_empl4[mgrA].Tenure_months, timeline=tenure_month_range, event_observed=vc_empl4[mgrA].status,label='managers')\n",
    "mgrA_sf_df = pd.DataFrame(kmf_mgr1.survival_function_)\n",
    "ax = fig.add_subplot(111)\n",
    "kmf_mgr1.plot(ax=ax,c='darkgreen')\n",
    "kmf_mgr1.fit(vc_empl4[~mgrA].Tenure_months, timeline=tenure_month_range,event_observed=vc_empl4[~mgrA].status,label='non-managers')\n",
    "kmf_mgr1.plot(ax=ax,color='darkslategray')\n",
    "mgrA_sf_df = pd.concat([mgrA_sf_df,kmf_mgr1.survival_function_],axis=1)\n",
    "plt.ylim(0,1.05)\n",
    "plt.ylabel('Survival Distribution Function')\n",
    "plt.xlabel('Tenure Months')"
   ]
  },
  {
   "cell_type": "code",
   "execution_count": null,
   "metadata": {
    "collapsed": false
   },
   "outputs": [],
   "source": [
    "pb = vc_empl4.GRADE.isin(pb_codes)\n",
    "fig = plt.figure(figsize=(12.5,5))\n",
    "\n",
    "kmf_grade=KaplanMeierFitter()\n",
    "\n",
    "kmf_grade.fit(vc_empl4[pb].Tenure_months, timeline=tenure_month_range, event_observed=vc_empl4[pb].status,label='PB')\n",
    "#grade_sf_df = pd.DataFrame(kmf_grade.survival_function_)\n",
    "ax = fig.add_subplot(111)\n",
    "kmf_grade.plot(ax=ax,c='deepskyblue')\n",
    "kmf_grade.fit(vc_empl4[~pb].Tenure_months, timeline=tenure_month_range,event_observed=vc_empl4[~pb].status,label='non PB')\n",
    "kmf_grade.plot(ax=ax,color='darkslategray')\n",
    "plt.ylim(0,1.05)\n",
    "plt.ylabel('Survival Distribution Function')\n",
    "plt.xlabel('Tenure Months')"
   ]
  },
  {
   "cell_type": "code",
   "execution_count": null,
   "metadata": {
    "collapsed": false
   },
   "outputs": [],
   "source": [
    "kmf_grade.fit(vc_empl4[pb].Tenure_months, timeline=tenure_month_range, event_observed=vc_empl4[pb].status,label='PB')\n",
    "kmf_grade.survival_function_"
   ]
  },
  {
   "cell_type": "code",
   "execution_count": null,
   "metadata": {
    "collapsed": false
   },
   "outputs": [],
   "source": [
    "print pb_codes\n",
    "sum(pb)"
   ]
  },
  {
   "cell_type": "code",
   "execution_count": null,
   "metadata": {
    "collapsed": false
   },
   "outputs": [],
   "source": [
    "mgrA_sf_df "
   ]
  },
  {
   "cell_type": "code",
   "execution_count": null,
   "metadata": {
    "collapsed": true
   },
   "outputs": [],
   "source": [
    "def lin_interpolate_df(df,index_to_find):\n",
    "    #x1,x2 = locate_closest_indices(df,x)\n",
    "    my_min = df.ix[:index_to_find].index[-1]\n",
    "    my_max = df.ix[index_to_find:].index[0]\n",
    "    deltax = my_max-my_min\n",
    "    #print my_min, my_max\n",
    "    y_1 = df.ix[my_min]\n",
    "    y_2 = df.ix[my_max]\n",
    "    #print y_1, y_2\n",
    "    \n",
    "    deltay=df.ix[my_max]- y_1\n",
    "    slope = deltay/deltax\n",
    "    #print slope, deltax, deltay\n",
    "    my_value = y_1+slope*(index_to_find-my_min)\n",
    "    return my_value"
   ]
  },
  {
   "cell_type": "code",
   "execution_count": null,
   "metadata": {
    "collapsed": true
   },
   "outputs": [],
   "source": [
    "def calc_future_survival_proba(input_df,grp,sf_df,future_year_list):\n",
    "    ## define a new data frame to hold the information\n",
    "    current_tenure = input_df[grp][input_df.status==0].Tenure_months.copy()\n",
    "    #current_mgr.columns='Current_tenure'#,inplace=True)\n",
    "    new_df = pd.DataFrame()\n",
    "    for future_year in future_years_list:\n",
    "        cname = 'plus_'+str(future_year)+'yr'\n",
    "        survival_prob = [lin_interpolate_df(sf_df,x) for x in current_tenure.values+future_year*12.0]\n",
    "        a_df = pd.DataFrame(survival_prob,columns=[cname])\n",
    "        new_df = pd.concat([new_df,a_df],axis=1)\n",
    "    \n",
    "    print new_df.shape\n",
    "    return new_df"
   ]
  },
  {
   "cell_type": "markdown",
   "metadata": {},
   "source": [
    "## this is alternatively able to be done by doing sum(kmf.predict(current.Tenure_months+t))/len(current)"
   ]
  },
  {
   "cell_type": "code",
   "execution_count": null,
   "metadata": {
    "collapsed": false
   },
   "outputs": [],
   "source": [
    "mgrA_sf_df['managers']"
   ]
  },
  {
   "cell_type": "code",
   "execution_count": null,
   "metadata": {
    "collapsed": true
   },
   "outputs": [],
   "source": [
    "fig = plt.figure(figsize=(12.5,5))\n",
    "\n",
    "kmf_mgr1=KaplanMeierFitter()\n",
    "\n",
    "kmf_mgr1.fit(vc_empl4[mgrA].Tenure_months, timeline=tenure_month_range, event_observed=vc_empl4[mgrA].status,label='managers')\n",
    "mgrA_sf_df = pd.DataFrame(kmf_mgr1.survival_function_)\n",
    "ax = fig.add_subplot(111)\n",
    "kmf_mgr1.plot(ax=ax,c='darkgreen')\n",
    "kmf_mgr1.fit(vc_empl4[~mgrA].Tenure_months, timeline=tenure_month_range,event_observed=vc_empl4[~mgrA].status,label='non-managers')\n",
    "kmf_mgr1.plot(ax=ax,color='darkslategray')\n",
    "mgrA_sf_df = pd.concat([mgrA_sf_df,kmf_mgr1.survival_function_],axis=1)\n",
    "plt.ylim(0,1.05)\n",
    "plt.ylabel('Survival Distribution Function')\n",
    "plt.xlabel('Tenure Months')"
   ]
  },
  {
   "cell_type": "code",
   "execution_count": null,
   "metadata": {
    "collapsed": false
   },
   "outputs": [],
   "source": [
    "mgrA_surv_prob = calc_future_survival_proba(vc_empl4,mgrA,mgrA_sf_df['managers'],future_years_list)"
   ]
  },
  {
   "cell_type": "code",
   "execution_count": null,
   "metadata": {
    "collapsed": false
   },
   "outputs": [],
   "source": [
    "plt.plot(future_years_list,mgrA_surv_prob.sum()/len(mgrA_surv_prob),'*:',color='steelblue')"
   ]
  },
  {
   "cell_type": "code",
   "execution_count": null,
   "metadata": {
    "collapsed": false
   },
   "outputs": [],
   "source": [
    "mgrA_surv_prob.sum()/len(mgrA_surv_prob)"
   ]
  },
  {
   "cell_type": "code",
   "execution_count": null,
   "metadata": {
    "collapsed": false
   },
   "outputs": [],
   "source": [
    "ues = vc_empl4.GRADE=='UES'\n",
    "print sum(ues)"
   ]
  },
  {
   "cell_type": "code",
   "execution_count": null,
   "metadata": {
    "collapsed": true
   },
   "outputs": [],
   "source": [
    "pd.crosstab(vc_empl4.GRADE,vc_empl4.status)"
   ]
  },
  {
   "cell_type": "code",
   "execution_count": null,
   "metadata": {
    "collapsed": false
   },
   "outputs": [],
   "source": [
    "fig = plt.figure(figsize=(12.5,5))\n",
    "\n",
    "kmf_ues=KaplanMeierFitter()\n",
    "\n",
    "kmf_ues.fit(vc_empl4[ues].Tenure_months, timeline=tenure_month_range, event_observed=vc_empl4[ues].status,label='UES')\n",
    "tmp_df = pd.DataFrame(kmf_ues.survival_function_)\n",
    "ax = fig.add_subplot(111)\n",
    "kmf_ues.plot(ax=ax,c='darkorange')\n",
    "kmf_ues.fit(vc_empl4[~ues].Tenure_months, timeline=tenure_month_range,event_observed=vc_empl4[~ues].status,label='non-UES')\n",
    "kmf_ues.plot(ax=ax,color='darkslategray')\n",
    "tmp_df = pd.concat([tmp_df,kmf_ues.survival_function_],axis=1)\n",
    "plt.ylim(0,1.05)\n",
    "plt.ylabel('Survival Distribution Function')\n",
    "plt.xlabel('Tenure Months')"
   ]
  },
  {
   "cell_type": "code",
   "execution_count": null,
   "metadata": {
    "collapsed": false
   },
   "outputs": [],
   "source": [
    "tmp_df.head()"
   ]
  },
  {
   "cell_type": "code",
   "execution_count": null,
   "metadata": {
    "collapsed": false
   },
   "outputs": [],
   "source": [
    "vc_empl4[ues][vc_empl4['status']==0].head()"
   ]
  },
  {
   "cell_type": "code",
   "execution_count": null,
   "metadata": {
    "collapsed": false
   },
   "outputs": [],
   "source": [
    "len(tmp_df)"
   ]
  },
  {
   "cell_type": "code",
   "execution_count": null,
   "metadata": {
    "collapsed": false
   },
   "outputs": [],
   "source": [
    "#kmf_grade.survival_function_\n",
    "#tmp_df = pd.DataFrame(kmf_grade.survival_function_)\n",
    "ues_surv_prob = calc_future_survival_proba(vc_empl4,ues,tmp_df['UES'],future_years_list)\n",
    "ues_surv_prob.sum()/len(vc_empl4[ues][vc_empl4.status==0])"
   ]
  },
  {
   "cell_type": "code",
   "execution_count": null,
   "metadata": {
    "collapsed": false
   },
   "outputs": [],
   "source": [
    "ues_surv_prob.sum()/sum(ues)"
   ]
  },
  {
   "cell_type": "code",
   "execution_count": null,
   "metadata": {
    "collapsed": false
   },
   "outputs": [],
   "source": [
    "empltbl4.columns"
   ]
  },
  {
   "cell_type": "code",
   "execution_count": null,
   "metadata": {
    "collapsed": false
   },
   "outputs": [],
   "source": [
    "vc_empl4.columns"
   ]
  },
  {
   "cell_type": "code",
   "execution_count": null,
   "metadata": {
    "collapsed": false
   },
   "outputs": [],
   "source": [
    "# encode the VOLINVOL column as ['INVOLUNTARY':2,'VOLUNTARY':1,'NOT':0,'\n",
    "empltbl4['sep_status'] = empltbl4['VOLINVOL'].replace({'NOT':0,'VOLUNTARY':1,'INVOLUNTARY':2,'OTHER':3,'UNKNOWN':3})\n",
    "empltbl4.sep_status.value_counts()"
   ]
  },
  {
   "cell_type": "code",
   "execution_count": null,
   "metadata": {
    "collapsed": false
   },
   "outputs": [],
   "source": [
    "pd.crosstab(empltbl4.status,empltbl4.sep_status)"
   ]
  },
  {
   "cell_type": "markdown",
   "metadata": {},
   "source": [
    "## Explore differences between voluntary/involuntary and Not "
   ]
  },
  {
   "cell_type": "code",
   "execution_count": null,
   "metadata": {
    "collapsed": false
   },
   "outputs": [],
   "source": [
    "volunt = empltbl3[empltbl3.VOLINVOL=='VOLUNTARY'].copy()\n",
    "current = empltbl3[empltbl3.VOLINVOL=='NOT'].copy()\n",
    "involu = empltbl3[empltbl3.VOLINVOL=='INVOLUNTARY'].copy()\n",
    "empl_df_list = [current,volunt,involu]\n",
    "print [len(a) for a in empl_df_list]"
   ]
  },
  {
   "cell_type": "code",
   "execution_count": null,
   "metadata": {
    "collapsed": false
   },
   "outputs": [],
   "source": [
    "len(empltbl3[(empltbl3.VOLINVOL=='VOLUNTARY') |(empltbl3.VOLINVOL=='NOT')])"
   ]
  },
  {
   "cell_type": "code",
   "execution_count": null,
   "metadata": {
    "collapsed": true
   },
   "outputs": [],
   "source": [
    "empl_df_list_colors =['indianred','steelblue','darkkhaki']\n",
    "empl_df_list_alphas =[1.0,0.7,0.4]\n",
    "empl_df_list_label = ['current','voluntary','involuntary']"
   ]
  },
  {
   "cell_type": "code",
   "execution_count": null,
   "metadata": {
    "collapsed": false
   },
   "outputs": [],
   "source": [
    "## define histogram bin ranges\n",
    "tenure_year_bin_range = [0,59]\n",
    "age_year_bin_range = [15,84]"
   ]
  },
  {
   "cell_type": "code",
   "execution_count": null,
   "metadata": {
    "collapsed": false
   },
   "outputs": [],
   "source": [
    "plt.figure(figsize=(12,8))\n",
    "for idx in xrange(0,len(empl_df_list)):\n",
    "    my_color = empl_df_list_colors[idx]\n",
    "    my_alpha = empl_df_list_alphas[idx]\n",
    "    empl_df_list[idx].Age_years.hist(bins=70,range=age_year_bin_range,color=my_color,alpha=my_alpha,normed=True,label=empl_df_list_label[idx])\n",
    "    plt.legend()\n",
    "    plt.xlabel('Age in Years')\n",
    "    plt.ylabel('Normed Counts')\n",
    "    plt.title('Distribution of Workforce Ages')"
   ]
  },
  {
   "cell_type": "code",
   "execution_count": null,
   "metadata": {
    "collapsed": false
   },
   "outputs": [],
   "source": [
    "len(empltbl3[(empltbl3.VOLINVOL=='VOLUNTARY') & (empltbl3.Age_years > 54)])"
   ]
  },
  {
   "cell_type": "code",
   "execution_count": null,
   "metadata": {
    "collapsed": false
   },
   "outputs": [],
   "source": [
    "plt.figure(figsize=(12,8))\n",
    "for idx in xrange(0,len(empl_df_list)):\n",
    "    my_color = empl_df_list_colors[idx]\n",
    "    my_alpha = empl_df_list_alphas[idx]\n",
    "    empl_df_list[idx].Tenure_years.hist(bins=60,range=tenure_year_bin_range,color=my_color,alpha=my_alpha,normed=True,label=empl_df_list_label[idx])\n",
    "    plt.legend()\n",
    "    plt.xlabel('Tenure in Years')\n",
    "    plt.ylabel('Normed Counts')\n",
    "    plt.title('Distribution of Workforce Tenures')"
   ]
  },
  {
   "cell_type": "code",
   "execution_count": null,
   "metadata": {
    "collapsed": false
   },
   "outputs": [],
   "source": [
    "empltbl3.DIVISION_CODE_SFI.value_counts()"
   ]
  },
  {
   "cell_type": "code",
   "execution_count": null,
   "metadata": {
    "collapsed": false
   },
   "outputs": [],
   "source": [
    "pd.crosstab(empltbl3.DIVISION_CODE_SFI,empltbl3.COMPANY)#.value_counts()"
   ]
  },
  {
   "cell_type": "code",
   "execution_count": null,
   "metadata": {
    "collapsed": false
   },
   "outputs": [],
   "source": [
    "empltbl3[empltbl2.INTERN=='Y'].Tenure_months.hist(color='darkslategray',bins=80,normed=True)\n",
    "empltbl3[empltbl2.INTERN=='N'].Tenure_months.hist(color='darkturquoise',bins=80,alpha=0.5, normed=True)"
   ]
  },
  {
   "cell_type": "markdown",
   "metadata": {},
   "source": [
    "## Look at how many have missing SKEY\n",
    "* only one in the current table."
   ]
  },
  {
   "cell_type": "code",
   "execution_count": null,
   "metadata": {
    "collapsed": false
   },
   "outputs": [],
   "source": [
    "#len(current[current.SKEY.isnull()][['Age_years','Tenure_months','COMPANY','GRADE','ANNUAL_RT','KEY']])\n",
    "ceo_key = current[current.SKEY.isnull()].KEY.values[0]\n",
    "print ceo_key\n",
    "print current[current.SKEY.isnull()][['Age_years','Tenure_months','COMPANY','GRADE','ANNUAL_RT','KEY']]"
   ]
  },
  {
   "cell_type": "code",
   "execution_count": null,
   "metadata": {
    "collapsed": false
   },
   "outputs": [],
   "source": [
    "len(empltbl3.KEY.unique()), len(empltbl3.SKEY.unique()),len(current.SKEY.unique())"
   ]
  },
  {
   "cell_type": "code",
   "execution_count": null,
   "metadata": {
    "collapsed": false
   },
   "outputs": [],
   "source": [
    "## How many are missing SKEY in retired.\n",
    "sum(empltbl3[empltbl3.status==1].SKEY.isnull())"
   ]
  },
  {
   "cell_type": "markdown",
   "metadata": {
    "collapsed": true
   },
   "source": [
    "# do survival analysis for each GRADE\n",
    "* column == 'GRADE' \n",
    "* arity = 164\n",
    "* Define a min-threshold of GRADE to look at.\n"
   ]
  },
  {
   "cell_type": "code",
   "execution_count": null,
   "metadata": {
    "collapsed": false
   },
   "outputs": [],
   "source": [
    "empltbl3.GRADE.value_counts().hist(color='forestgreen',bins=30)"
   ]
  },
  {
   "cell_type": "code",
   "execution_count": null,
   "metadata": {
    "collapsed": false
   },
   "outputs": [],
   "source": [
    "## start with top 20 grades:\n",
    "empltbl3.GRADE.value_counts()[:20]"
   ]
  },
  {
   "cell_type": "markdown",
   "metadata": {},
   "source": [
    "## Survival analysis"
   ]
  },
  {
   "cell_type": "code",
   "execution_count": null,
   "metadata": {
    "collapsed": true
   },
   "outputs": [],
   "source": [
    "#use lifelines\n",
    "from lifelines import KaplanMeierFitter\n",
    "kmf0 = KaplanMeierFitter()"
   ]
  },
  {
   "cell_type": "code",
   "execution_count": null,
   "metadata": {
    "collapsed": false
   },
   "outputs": [],
   "source": [
    "\n",
    "plt.figure(figsize=(14,6))\n",
    "\n",
    "kmf0.fit(empltbl3.Tenure_months, event_observed=empltbl3.status)\n",
    "kmf0.plot(color='darkslategray')\n",
    "plt.ylabel('Survival Distribution Function')\n",
    "plt.xlabel('Tenure months')\n",
    "plt.title('KaplanMeier Survival: ALL employees')"
   ]
  },
  {
   "cell_type": "code",
   "execution_count": null,
   "metadata": {
    "collapsed": false
   },
   "outputs": [],
   "source": [
    "## define the range so all are on the same scale\n",
    "min_tenure_months= empltbl3.Tenure_months.min()\n",
    "max_tenure_months = empltbl3.Tenure_months.max()\n",
    "print min_tenure_months, max_tenure_months\n",
    "tenure_month_range = np.linspace(min_tenure_months,max_tenure_months,66)\n",
    "len(tenure_month_range)"
   ]
  },
  {
   "cell_type": "code",
   "execution_count": null,
   "metadata": {
    "collapsed": false
   },
   "outputs": [],
   "source": [
    "empltbl3.GRADE.value_counts()[:40]"
   ]
  },
  {
   "cell_type": "code",
   "execution_count": null,
   "metadata": {
    "collapsed": true
   },
   "outputs": [],
   "source": [
    "## replace nan with 'XXX'\n",
    "empltbl3.GRADE.fillna('XXX',inplace=True)"
   ]
  },
  {
   "cell_type": "code",
   "execution_count": null,
   "metadata": {
    "collapsed": false
   },
   "outputs": [],
   "source": [
    "mg_codes = [x for x in list(empltbl3.GRADE.unique()) if  str(x).startswith('MG')]"
   ]
  },
  {
   "cell_type": "code",
   "execution_count": null,
   "metadata": {
    "collapsed": true
   },
   "outputs": [],
   "source": [
    "mg_codes = [x for x in list(empltbl3.GRADE.unique()) if  str(x).startswith('MG')]\n",
    "clvl_codes = [x for x in list(empltbl3.GRADE.unique()) if str(x).startswith('C')]\n",
    "ra_codes = [x for x in list(empltbl3.GRADE.unique()) if str(x).startswith('RA')]\n",
    "re_codes = [x for x in list(empltbl3.GRADE.unique()) if str(x).startswith('RE')]\n",
    "rd_codes = [x for x in list(empltbl3.GRADE.unique()) if str(x).startswith('RD')]\n",
    "pa_codes = [x for x in list(empltbl3.GRADE.unique()) if str(x).startswith('PA')]\n",
    "pb_codes = [x for x in list(empltbl3.GRADE.unique()) if str(x).startswith('PB')]\n",
    "ma_codes = [x for x in list(empltbl3.GRADE.unique()) if str(x).startswith('MA')]\n",
    "sf_codes = [x for x in list(empltbl3.GRADE.unique()) if str(x).startswith('SF')]\n",
    "rb_codes = [x for x in list(empltbl3.GRADE.unique()) if str(x).startswith('RB')]\n",
    "rc_codes = [x for x in list(empltbl3.GRADE.unique()) if str(x).startswith('RC')]\n",
    "pc_codes = [x for x in list(empltbl3.GRADE.unique()) if str(x).startswith('PC')]\n",
    "l_codes = [x for x in list(empltbl3.GRADE.unique()) if str(x).startswith('L')]\n",
    "fa_codes = [x for x in list(empltbl3.GRADE.unique()) if str(x).startswith('FA')]\n",
    "u_codes = [x for x in list(empltbl3.GRADE.unique()) if str(x).startswith('U')]\n",
    "i_codes = [x for x in list(empltbl3.GRADE.unique()) if str(x).startswith('I')]\n",
    "a_codes = [x for x in list(empltbl3.GRADE.unique()) if str(x).startswith('A')]\n",
    "b_codes = [x for x in list(empltbl3.GRADE.unique()) if str(x).startswith('B')]\n",
    "#ri_codes = [x for x in list(empltbl3.GRADE.unique()) if str(x).startswith('RI')]\n",
    "# assign missing and non to non_codes\n",
    "non_codes = ['NON','XXX']\n",
    "m_codes = ['M1N','M2N','M3N','M10']\n",
    "rx_codes = ['RF1', 'RF2', 'RF3', 'RG1', 'RG2', 'RG3', 'RG4', 'RH1', 'RH2', 'RH3', 'RH4', \n",
    "            'RI2', 'RI3', 'RJ2', 'RJ3', 'RJ4', 'RK3','RL1', 'RL2', 'RL3', 'RL4', 'RM2']\n",
    "# combine\n",
    "two_codes = [x for x in list(empltbl3.GRADE.unique()) if str(x).startswith('2')]\n",
    "t_codes = [x for x in list(empltbl3.GRADE.unique()) if str(x).startswith('T')]\n",
    "oth_codes = i_codes+two_codes+t_codes+a_codes\n",
    "oth_codes.append('ZFL')\n"
   ]
  },
  {
   "cell_type": "code",
   "execution_count": null,
   "metadata": {
    "collapsed": false
   },
   "outputs": [],
   "source": [
    "grade_groupings_list_A = [mg_codes,clvl_codes,ma_codes,pa_codes,pb_codes,sf_codes, ra_codes,rd_codes,re_codes, rb_codes, rc_codes,\n",
    "                          pc_codes,l_codes,fa_codes, u_codes,b_codes,non_codes,m_codes,rx_codes,oth_codes]\n",
    "len(grade_groupings_list_A)\n"
   ]
  },
  {
   "cell_type": "code",
   "execution_count": null,
   "metadata": {
    "collapsed": false
   },
   "outputs": [],
   "source": [
    "e3_grade_function_crosstab = pd.crosstab(empltbl3.GRADE,empltbl3.JOB_FUNCTION)\n",
    "e3_grade_function_crosstab.MGT "
   ]
  },
  {
   "cell_type": "code",
   "execution_count": null,
   "metadata": {
    "collapsed": false
   },
   "outputs": [],
   "source": [
    "e3_grade_function_crosstab[e3_grade_function_crosstab.MGT>0] "
   ]
  },
  {
   "cell_type": "code",
   "execution_count": null,
   "metadata": {
    "collapsed": false
   },
   "outputs": [],
   "source": [
    "e3_grade_function_crosstab[e3_grade_function_crosstab.PTB>0] "
   ]
  },
  {
   "cell_type": "code",
   "execution_count": null,
   "metadata": {
    "collapsed": false
   },
   "outputs": [],
   "source": [
    "for g in grade_groupings_list_A:\n",
    "    print sum(empltbl3.GRADE.isin(g)), g"
   ]
  },
  {
   "cell_type": "code",
   "execution_count": null,
   "metadata": {
    "collapsed": false
   },
   "outputs": [],
   "source": [
    "from itertools import chain\n",
    "used_grades = list(chain.from_iterable(grade_groupings_list_A))\n",
    "sum(empltbl3.GRADE.isin(used_grades)), len(empltbl3)"
   ]
  },
  {
   "cell_type": "code",
   "execution_count": null,
   "metadata": {
    "collapsed": false
   },
   "outputs": [],
   "source": [
    "sorted([x for x in empltbl3.GRADE.unique() if x.startswith('R')])"
   ]
  },
  {
   "cell_type": "code",
   "execution_count": null,
   "metadata": {
    "collapsed": false
   },
   "outputs": [],
   "source": [
    "empltbl3[~empltbl3.GRADE.isin(used_grades)].GRADE.value_counts()"
   ]
  },
  {
   "cell_type": "code",
   "execution_count": null,
   "metadata": {
    "collapsed": false
   },
   "outputs": [],
   "source": [
    "empltbl3.GRADE.value_counts()[40:85]"
   ]
  },
  {
   "cell_type": "markdown",
   "metadata": {},
   "source": [
    "## now look at each of the top 10 grades:"
   ]
  },
  {
   "cell_type": "code",
   "execution_count": null,
   "metadata": {
    "collapsed": false
   },
   "outputs": [],
   "source": [
    "# create a dataFrame of these survival functions.\n",
    "\n",
    "\n",
    "fig = plt.figure(figsize=(12.5,5))\n",
    "#figsize(16,8)\n",
    "\n",
    "top10grades = list(empltbl3.GRADE.value_counts()[:85].index)\n",
    "kmf_grade=KaplanMeierFitter()\n",
    "\n",
    "kmf_grade.fit(empltbl3.Tenure_months, timeline=tenure_month_range, event_observed=empltbl3.status,label='ALL')\n",
    "grade_sf_df = pd.DataFrame(kmf_grade.survival_function_)\n",
    "ax=fig.add_subplot(111)\n",
    "kmf_grade.plot(ax=ax,c='darkslategray')\n",
    "for grade in top10grades:\n",
    "    \n",
    "    #plt.figure(figsize=(20,10))\n",
    "    em_grade = empltbl3[empltbl3.GRADE == grade]\n",
    "    kmf_grade.fit(em_grade.Tenure_months, timeline=tenure_month_range,event_observed=em_grade.status,label=grade)\n",
    "    if grade.startswith('MG'):\n",
    "        kmf_grade.plot(ax=ax)\n",
    "    grade_sf_df = pd.concat([grade_sf_df,kmf_grade.survival_function_],axis=1)\n",
    "#kmf_gender.fit(female.Tenure_months,  timeline=tenure_month_range,event_observed=female.status)\n",
    "#kmf_gender.plot(ax=ax, c='deeppink',label='Female')\n",
    "\n",
    "plt.ylim(0,1.05)\n",
    "plt.ylabel('Survival Distribution Function')\n",
    "plt.xlabel('Tenure Months')\n"
   ]
  },
  {
   "cell_type": "code",
   "execution_count": null,
   "metadata": {
    "collapsed": false
   },
   "outputs": [],
   "source": [
    "grade_sf_df.columns"
   ]
  },
  {
   "cell_type": "code",
   "execution_count": null,
   "metadata": {
    "collapsed": false
   },
   "outputs": [],
   "source": [
    "mgr = ((empltbl3.GRADE == 'MG2') |(empltbl3.GRADE == 'MG3') | (empltbl3.GRADE == 'MG4'))\n",
    "sum(mgr)"
   ]
  },
  {
   "cell_type": "code",
   "execution_count": null,
   "metadata": {
    "collapsed": false
   },
   "outputs": [],
   "source": [
    "mgr = empltbl3.GRADE.isin(mg_codes)\n",
    "sum(mgr)"
   ]
  },
  {
   "cell_type": "code",
   "execution_count": null,
   "metadata": {
    "collapsed": false
   },
   "outputs": [],
   "source": [
    "from lifelines.statistics import logrank_test\n",
    "summary, p_value, test_results = logrank_test(empltbl3[mgr].Tenure_months, empltbl3[~mgr].Tenure_months, empltbl3[mgr].status, empltbl3[~mgr].status, alpha=.99 )\n",
    "print summary"
   ]
  },
  {
   "cell_type": "code",
   "execution_count": null,
   "metadata": {
    "collapsed": false
   },
   "outputs": [],
   "source": [
    "fig = plt.figure(figsize=(12.5,5))\n",
    "\n",
    "kmf_grade=KaplanMeierFitter()\n",
    "\n",
    "kmf_grade.fit(empltbl3[mgr].Tenure_months, timeline=tenure_month_range, event_observed=empltbl3[mgr].status,label='managers')\n",
    "mgr_sf_df = pd.DataFrame(kmf_grade.survival_function_)\n",
    "ax = fig.add_subplot(111)\n",
    "kmf_grade.plot(ax=ax,c='darkred')\n",
    "kmf_grade.fit(empltbl3[~mgr].Tenure_months, timeline=tenure_month_range,event_observed=empltbl3[~mgr].status,label='non-managers')\n",
    "kmf_grade.plot(ax=ax,color='darkslategray')\n",
    "mgr_sf_df = pd.concat([mgr_sf_df,kmf_grade.survival_function_],axis=1)\n",
    "plt.ylim(0,1.05)\n",
    "plt.ylabel('Survival Distribution Function')\n",
    "plt.xlabel('Tenure Months')"
   ]
  },
  {
   "cell_type": "markdown",
   "metadata": {},
   "source": [
    "## BIGGER QUESTION IS whether this tenure is descriptive or proscriptive\n"
   ]
  },
  {
   "cell_type": "code",
   "execution_count": null,
   "metadata": {
    "collapsed": false
   },
   "outputs": [],
   "source": [
    "empltbl3[mgr].Tenure_months.hist(normed=True,alpha=0.3)\n",
    "empltbl3[mgr][empltbl3.status==0].Tenure_months.hist(normed=True,color='indianred',alpha=.3)"
   ]
  },
  {
   "cell_type": "markdown",
   "metadata": {
    "collapsed": true
   },
   "source": [
    "## Take the set of employees that don't leave and calculate out their survival function in the future\n",
    "* look at [1,10] years in the future for each.\n",
    "* sum over all\n",
    "* also get lower CL and upper CL\n",
    "* divide sum by count to get % remaining.\n"
   ]
  },
  {
   "cell_type": "code",
   "execution_count": null,
   "metadata": {
    "collapsed": false
   },
   "outputs": [],
   "source": [
    "mgr_sf_df.head(), len(mgr_sf_df)"
   ]
  },
  {
   "cell_type": "code",
   "execution_count": null,
   "metadata": {
    "collapsed": false
   },
   "outputs": [],
   "source": [
    "mgr_df = pd.DataFrame(empltbl3[mgr].Tenure_months)"
   ]
  },
  {
   "cell_type": "code",
   "execution_count": null,
   "metadata": {
    "collapsed": false
   },
   "outputs": [],
   "source": [
    "[x for x in empltbl3[mgr][empltbl3.status==0].Tenure_months+12.0]"
   ]
  },
  {
   "cell_type": "code",
   "execution_count": null,
   "metadata": {
    "collapsed": false
   },
   "outputs": [],
   "source": [
    "mgr_sf_df.ix[:339.36].index[-1], mgr_sf_df.ix[339.36:].index[0]"
   ]
  },
  {
   "cell_type": "code",
   "execution_count": null,
   "metadata": {
    "collapsed": false
   },
   "outputs": [],
   "source": [
    "locate_closest_indices(mgr_sf_df, 339.36)"
   ]
  },
  {
   "cell_type": "code",
   "execution_count": null,
   "metadata": {
    "collapsed": true
   },
   "outputs": [],
   "source": [
    "def locate_closest_indices(df,index_to_find):\n",
    "    my_min = df.ix[:index_to_find].index[-1]\n",
    "    my_max = df.ix[index_to_find:].index[0]\n",
    "    #.index <= index_to_find\n",
    "    #my_max = df.index >=index_to_find\n",
    "    print index_to_find, my_min, my_max\n",
    "    return my_min,my_max"
   ]
  },
  {
   "cell_type": "code",
   "execution_count": null,
   "metadata": {
    "collapsed": true
   },
   "outputs": [],
   "source": [
    "def lin_interpolate(df,index_to_find,ycol):\n",
    "    #x1,x2 = locate_closest_indices(df,x)\n",
    "    my_min = df.ix[:index_to_find].index[-1]\n",
    "    my_max = df.ix[index_to_find:].index[0]\n",
    "    deltax = my_max-my_min\n",
    "    #print my_min, my_max\n",
    "    y_1 = df[ycol].ix[my_min]\n",
    "    y_2 = df[ycol].ix[my_max]\n",
    "    #print y_1, y_2\n",
    "    \n",
    "    deltay=df[ycol].ix[my_max]- y_1\n",
    "    slope = deltay/deltax\n",
    "    #print slope, deltax, deltay\n",
    "    my_value = y_1+slope*(index_to_find-my_min)\n",
    "    return my_value"
   ]
  },
  {
   "cell_type": "code",
   "execution_count": null,
   "metadata": {
    "collapsed": false
   },
   "outputs": [],
   "source": [
    "mgr_sf_df.ix[mgr_sf_df.ix[:339.36].index[-1]:mgr_sf_df.ix[339.36:].index[0]]#.plot()#.interpolate()"
   ]
  },
  {
   "cell_type": "code",
   "execution_count": null,
   "metadata": {
    "collapsed": false
   },
   "outputs": [],
   "source": [
    "lin_interpolate(mgr_sf_df,339.36,'managers')"
   ]
  },
  {
   "cell_type": "code",
   "execution_count": null,
   "metadata": {
    "collapsed": true
   },
   "outputs": [],
   "source": [
    "index_to_find = 371.1\n",
    "\n",
    "my_min = df['A'] <= value_to_find\n",
    "Max = df['A'] >= value_to_find\n",
    "idx_Min = df.ix[Min, 'A'].idxmax()\n",
    "idx_Max = df.ix[Max, 'A'].idxmin()\n",
    "df.ix[idx_Min:idx_Max, ['A','B']]"
   ]
  },
  {
   "cell_type": "code",
   "execution_count": null,
   "metadata": {
    "collapsed": false
   },
   "outputs": [],
   "source": [
    "# add 1 to 10 years in to future\n",
    "future_years_list = np.arange(1,11)\n",
    "future_years_list*12.0"
   ]
  },
  {
   "cell_type": "code",
   "execution_count": null,
   "metadata": {
    "collapsed": false
   },
   "outputs": [],
   "source": [
    "plus_1yr = [lin_interpolate(mgr_sf_df,x,'managers') for x in empltbl3[mgr][empltbl3.status==0].Tenure_months+12.0]"
   ]
  },
  {
   "cell_type": "code",
   "execution_count": null,
   "metadata": {
    "collapsed": false
   },
   "outputs": [],
   "source": [
    "len(plus_1yr)"
   ]
  },
  {
   "cell_type": "code",
   "execution_count": null,
   "metadata": {
    "collapsed": false
   },
   "outputs": [],
   "source": [
    "current_mgr.Tenure_months.values"
   ]
  },
  {
   "cell_type": "code",
   "execution_count": null,
   "metadata": {
    "collapsed": false
   },
   "outputs": [],
   "source": [
    "future_year"
   ]
  },
  {
   "cell_type": "code",
   "execution_count": null,
   "metadata": {
    "collapsed": false
   },
   "outputs": [],
   "source": [
    "## define a new data frame to hold the information\n",
    "current_mgr = empltbl3[mgr][empltbl3.status==0].Tenure_months.copy()\n",
    "#current_mgr.columns='Current_tenure'#,inplace=True)\n",
    "new_df = pd.DataFrame()\n",
    "for future_year in future_years_list:\n",
    "    cname = 'plus_'+str(future_year)+'yr'\n",
    "    survival_prob = [lin_interpolate(mgr_sf_df,x,'managers') for x in current_mgr.values+future_year*12.0]\n",
    "    a_df = pd.DataFrame(survival_prob,columns=[cname])\n",
    "    new_df = pd.concat([new_df,a_df],axis=1)\n",
    "    \n",
    "print new_df.shape"
   ]
  },
  {
   "cell_type": "code",
   "execution_count": null,
   "metadata": {
    "collapsed": false
   },
   "outputs": [],
   "source": [
    "new_df.head()"
   ]
  },
  {
   "cell_type": "code",
   "execution_count": null,
   "metadata": {
    "collapsed": false
   },
   "outputs": [],
   "source": [
    "new_df.sum()/len(new_df)"
   ]
  },
  {
   "cell_type": "code",
   "execution_count": null,
   "metadata": {
    "collapsed": true
   },
   "outputs": [],
   "source": []
  },
  {
   "cell_type": "code",
   "execution_count": null,
   "metadata": {
    "collapsed": false
   },
   "outputs": [],
   "source": [
    "hold_df = mgr_sf_df.copy()"
   ]
  },
  {
   "cell_type": "code",
   "execution_count": null,
   "metadata": {
    "collapsed": false
   },
   "outputs": [],
   "source": [
    "clvl_codes"
   ]
  },
  {
   "cell_type": "code",
   "execution_count": null,
   "metadata": {
    "collapsed": false
   },
   "outputs": [],
   "source": [
    "clvl = empltbl3.GRADE.isin(clvl_codes)\n",
    "sum(clvl)"
   ]
  },
  {
   "cell_type": "code",
   "execution_count": null,
   "metadata": {
    "collapsed": false
   },
   "outputs": [],
   "source": [
    "sum(empltbl3[clvl].status==0)"
   ]
  },
  {
   "cell_type": "code",
   "execution_count": null,
   "metadata": {
    "collapsed": false
   },
   "outputs": [],
   "source": [
    "fig = plt.figure(figsize=(12.5,5))\n",
    "\n",
    "kmf_grade=KaplanMeierFitter()\n",
    "\n",
    "kmf_grade.fit(empltbl3[clvl].Tenure_months, timeline=tenure_month_range, event_observed=empltbl3[clvl].status,label='C-Level')\n",
    "#grade_sf_df = pd.DataFrame(kmf_grade.survival_function_)\n",
    "ax = fig.add_subplot(111)\n",
    "kmf_grade.plot(ax=ax,c='darkred')\n",
    "kmf_grade.fit(empltbl3[~clvl].Tenure_months, timeline=tenure_month_range,event_observed=empltbl3[~clvl].status,label='non C-level')\n",
    "kmf_grade.plot(ax=ax,color='darkslategray')\n",
    "plt.ylim(0,1.05)\n",
    "plt.ylabel('Survival Distribution Function')\n",
    "plt.xlabel('Tenure Months')"
   ]
  },
  {
   "cell_type": "markdown",
   "metadata": {},
   "source": [
    "### look at different PA/RA"
   ]
  },
  {
   "cell_type": "code",
   "execution_count": null,
   "metadata": {
    "collapsed": false
   },
   "outputs": [],
   "source": [
    "ra = empltbl3.GRADE.isin(ra_codes)\n",
    "print sum(ra), ra_codes"
   ]
  },
  {
   "cell_type": "code",
   "execution_count": null,
   "metadata": {
    "collapsed": false
   },
   "outputs": [],
   "source": [
    "rd = empltbl3.GRADE.isin(rd_codes)\n",
    "print sum(rd), rd_codes\n",
    "for code in rd_codes:\n",
    "    print code,sum(empltbl3.GRADE == code)"
   ]
  },
  {
   "cell_type": "code",
   "execution_count": null,
   "metadata": {
    "collapsed": false
   },
   "outputs": [],
   "source": [
    "fig = plt.figure(figsize=(12.5,5))\n",
    "\n",
    "kmf_grade=KaplanMeierFitter()\n",
    "\n",
    "kmf_grade.fit(empltbl3[ra].Tenure_months, timeline=tenure_month_range, event_observed=empltbl3[ra].status,label='RA')\n",
    "#grade_sf_df = pd.DataFrame(kmf_grade.survival_function_)\n",
    "ax = fig.add_subplot(111)\n",
    "kmf_grade.plot(ax=ax,c='darkred')\n",
    "kmf_grade.fit(empltbl3[~ra].Tenure_months, timeline=tenure_month_range,event_observed=empltbl3[~ra].status,label='non RA')\n",
    "kmf_grade.plot(ax=ax,color='darkslategray')\n",
    "plt.ylim(0,1.05)\n",
    "plt.ylabel('Survival Distribution Function')\n",
    "plt.xlabel('Tenure Months')"
   ]
  },
  {
   "cell_type": "code",
   "execution_count": null,
   "metadata": {
    "collapsed": false
   },
   "outputs": [],
   "source": [
    "fig = plt.figure(figsize=(12.5,5))\n",
    "\n",
    "kmf_grade=KaplanMeierFitter()\n",
    "\n",
    "kmf_grade.fit(empltbl3[rd].Tenure_months, timeline=tenure_month_range, event_observed=empltbl3[rd].status,label='RD')\n",
    "#grade_sf_df = pd.DataFrame(kmf_grade.survival_function_)\n",
    "ax = fig.add_subplot(111)\n",
    "kmf_grade.plot(ax=ax,c='darkred')\n",
    "kmf_grade.fit(empltbl3[~rd].Tenure_months, timeline=tenure_month_range,event_observed=empltbl3[~rd].status,label='non RD')\n",
    "kmf_grade.plot(ax=ax,color='darkslategray')\n",
    "plt.ylim(0,1.05)\n",
    "plt.ylabel('Survival Distribution Function')\n",
    "plt.xlabel('Tenure Months')"
   ]
  },
  {
   "cell_type": "code",
   "execution_count": null,
   "metadata": {
    "collapsed": false
   },
   "outputs": [],
   "source": [
    "re = empltbl3.GRADE.isin(re_codes)\n",
    "print sum(re), re_codes"
   ]
  },
  {
   "cell_type": "code",
   "execution_count": null,
   "metadata": {
    "collapsed": false
   },
   "outputs": [],
   "source": [
    "fig = plt.figure(figsize=(12.5,5))\n",
    "\n",
    "kmf_grade=KaplanMeierFitter()\n",
    "\n",
    "kmf_grade.fit(empltbl3[re].Tenure_months, timeline=tenure_month_range, event_observed=empltbl3[re].status,label='RE')\n",
    "#grade_sf_df = pd.DataFrame(kmf_grade.survival_function_)\n",
    "ax = fig.add_subplot(111)\n",
    "kmf_grade.plot(ax=ax,c='darkred')\n",
    "kmf_grade.fit(empltbl3[~re].Tenure_months, timeline=tenure_month_range,event_observed=empltbl3[~re].status,label='non RE')\n",
    "kmf_grade.plot(ax=ax,color='darkslategray')\n",
    "plt.ylim(0,1.05)\n",
    "plt.ylabel('Survival Distribution Function')\n",
    "plt.xlabel('Tenure Months')"
   ]
  },
  {
   "cell_type": "code",
   "execution_count": null,
   "metadata": {
    "collapsed": false
   },
   "outputs": [],
   "source": [
    "pa = empltbl3.GRADE.isin(pa_codes)\n",
    "print sum(pa), pa_codes"
   ]
  },
  {
   "cell_type": "code",
   "execution_count": null,
   "metadata": {
    "collapsed": false
   },
   "outputs": [],
   "source": [
    "ma_codes"
   ]
  },
  {
   "cell_type": "code",
   "execution_count": null,
   "metadata": {
    "collapsed": false
   },
   "outputs": [],
   "source": [
    "empltbl3[empltbl3.GRADE=='MG2'].JOBCODE.value_counts()"
   ]
  },
  {
   "cell_type": "code",
   "execution_count": null,
   "metadata": {
    "collapsed": false
   },
   "outputs": [],
   "source": [
    "empltbl3.JOBCODE.value_counts()"
   ]
  },
  {
   "cell_type": "code",
   "execution_count": null,
   "metadata": {
    "collapsed": true
   },
   "outputs": [],
   "source": [
    "empltbl3[empltbl3['status'==1]]."
   ]
  },
  {
   "cell_type": "code",
   "execution_count": null,
   "metadata": {
    "collapsed": false
   },
   "outputs": [],
   "source": [
    "empltbl3.JOB_FUNCTION.value_counts()"
   ]
  },
  {
   "cell_type": "code",
   "execution_count": null,
   "metadata": {
    "collapsed": false
   },
   "outputs": [],
   "source": [
    "empl[empl.GRADE_MA1==1].status.value_counts()"
   ]
  },
  {
   "cell_type": "code",
   "execution_count": null,
   "metadata": {
    "collapsed": false
   },
   "outputs": [],
   "source": [
    "fig = plt.figure(figsize=(12.5,5))\n",
    "\n",
    "kmf_grade=KaplanMeierFitter()\n",
    "\n",
    "kmf_grade.fit(empltbl3[pa].Tenure_months, timeline=tenure_month_range, event_observed=empltbl3[pa].status,label='PA')\n",
    "#grade_sf_df = pd.DataFrame(kmf_grade.survival_function_)\n",
    "ax = fig.add_subplot(111)\n",
    "kmf_grade.plot(ax=ax,c='darkred')\n",
    "kmf_grade.fit(empltbl3[~pa].Tenure_months, timeline=tenure_month_range,event_observed=empltbl3[~pa].status,label='non PA')\n",
    "kmf_grade.plot(ax=ax,color='darkslategray')\n",
    "plt.ylim(0,1.05)\n",
    "plt.ylabel('Survival Distribution Function')\n",
    "plt.xlabel('Tenure Months')"
   ]
  },
  {
   "cell_type": "code",
   "execution_count": null,
   "metadata": {
    "collapsed": false
   },
   "outputs": [],
   "source": [
    "pb = empltbl3.GRADE.isin(pb_codes)\n",
    "print sum(pb), pb_codes"
   ]
  },
  {
   "cell_type": "code",
   "execution_count": null,
   "metadata": {
    "collapsed": false
   },
   "outputs": [],
   "source": [
    "fig = plt.figure(figsize=(12.5,5))\n",
    "\n",
    "kmf_grade=KaplanMeierFitter()\n",
    "\n",
    "kmf_grade.fit(empltbl3[pb].Tenure_months, timeline=tenure_month_range, event_observed=empltbl3[pb].status,label='PB')\n",
    "#grade_sf_df = pd.DataFrame(kmf_grade.survival_function_)\n",
    "ax = fig.add_subplot(111)\n",
    "kmf_grade.plot(ax=ax,c='darkred')\n",
    "kmf_grade.fit(empltbl3[~pb].Tenure_months, timeline=tenure_month_range,event_observed=empltbl3[~pb].status,label='non PB')\n",
    "kmf_grade.plot(ax=ax,color='darkslategray')\n",
    "plt.ylim(0,1.05)\n",
    "plt.ylabel('Survival Distribution Function')\n",
    "plt.xlabel('Tenure Months')"
   ]
  },
  {
   "cell_type": "code",
   "execution_count": null,
   "metadata": {
    "collapsed": false
   },
   "outputs": [],
   "source": [
    "sf = empltbl3.GRADE.isin(sf_codes)\n",
    "print sum(sf), sf_codes"
   ]
  },
  {
   "cell_type": "code",
   "execution_count": null,
   "metadata": {
    "collapsed": false
   },
   "outputs": [],
   "source": [
    "fig = plt.figure(figsize=(12.5,5))\n",
    "\n",
    "kmf_grade=KaplanMeierFitter()\n",
    "\n",
    "kmf_grade.fit(empltbl3[sf].Tenure_months, timeline=tenure_month_range, event_observed=empltbl3[sf].status,label='SF')\n",
    "#grade_sf_df = pd.DataFrame(kmf_grade.survival_function_)\n",
    "ax = fig.add_subplot(111)\n",
    "kmf_grade.plot(ax=ax,c='darkred')\n",
    "kmf_grade.fit(empltbl3[~sf].Tenure_months, timeline=tenure_month_range,event_observed=empltbl3[~sf].status,label='non SF')\n",
    "kmf_grade.plot(ax=ax,color='darkslategray')\n",
    "plt.ylim(0,1.05)\n",
    "plt.ylabel('Survival Distribution Function')\n",
    "plt.xlabel('Tenure Months')"
   ]
  },
  {
   "cell_type": "code",
   "execution_count": null,
   "metadata": {
    "collapsed": false
   },
   "outputs": [],
   "source": [
    "sf_codes"
   ]
  },
  {
   "cell_type": "code",
   "execution_count": null,
   "metadata": {
    "collapsed": false
   },
   "outputs": [],
   "source": [
    "ma = empltbl3.GRADE.isin(ma_codes)\n",
    "print sum(ma), ma_codes"
   ]
  },
  {
   "cell_type": "code",
   "execution_count": null,
   "metadata": {
    "collapsed": false
   },
   "outputs": [],
   "source": [
    "fig = plt.figure(figsize=(12.5,5))\n",
    "\n",
    "kmf_grade=KaplanMeierFitter()\n",
    "\n",
    "kmf_grade.fit(empltbl3[ma].Tenure_months, timeline=tenure_month_range, event_observed=empltbl3[ma].status,label='MA')\n",
    "#grade_sf_df = pd.DataFrame(kmf_grade.survival_function_)\n",
    "ax = fig.add_subplot(111)\n",
    "kmf_grade.plot(ax=ax,c='darkred')\n",
    "kmf_grade.fit(empltbl3[~ma].Tenure_months, timeline=tenure_month_range,event_observed=empltbl3[~ma].status,label='non MA')\n",
    "kmf_grade.plot(ax=ax,color='darkslategray')\n",
    "plt.ylim(0,1.05)\n",
    "plt.ylabel('Survival Distribution Function')\n",
    "plt.xlabel('Tenure Months')"
   ]
  },
  {
   "cell_type": "code",
   "execution_count": null,
   "metadata": {
    "collapsed": false
   },
   "outputs": [],
   "source": [
    "pa = empltbl3.GRADE.isin(pa_codes)\n",
    "print sum(pa), pa_codes"
   ]
  },
  {
   "cell_type": "code",
   "execution_count": null,
   "metadata": {
    "collapsed": false
   },
   "outputs": [],
   "source": [
    "grade_sf_df.columns"
   ]
  },
  {
   "cell_type": "code",
   "execution_count": null,
   "metadata": {
    "collapsed": false
   },
   "outputs": [],
   "source": [
    "### More directly look at these 20 groupings:\n",
    "# create a dataFrame of these survival functions.\n",
    "\n",
    "\n",
    "fig = plt.figure(figsize=(12.5,5))\n",
    "#figsize(16,8)\n",
    "\n",
    "#grade_groups = #list(empltbl3.GRADE.value_counts()[:85].index)\n",
    "kmf_grade=KaplanMeierFitter()\n",
    "\n",
    "kmf_grade.fit(empltbl3.Tenure_months, timeline=tenure_month_range, event_observed=empltbl3.status,label='ALL')\n",
    "gp_grade_sf_df = pd.DataFrame(kmf_grade.survival_function_)\n",
    "ax=fig.add_subplot(111)\n",
    "kmf_grade.plot(ax=ax,c='darkslategray')\n",
    "for g in grade_groupings_list_A:\n",
    "    \n",
    "    #plt.figure(figsize=(20,10))\n",
    "    gem_grade = empltbl3.GRADE.isin(g)\n",
    "    kmf_grade.fit(empltbl3[gem_grade].Tenure_months, timeline=tenure_month_range,event_observed=empltbl3[gem_grade].status)#,label=grade)\n",
    "    #if grade.startswith('MG'):\n",
    "    kmf_grade.plot(ax=ax)\n",
    "    gp_grade_sf_df = pd.concat([gp_grade_sf_df,kmf_grade.survival_function_],axis=1)\n",
    "#kmf_gender.fit(female.Tenure_months,  timeline=tenure_month_range,event_observed=female.status)\n",
    "#kmf_gender.plot(ax=ax, c='deeppink',label='Female')\n",
    "\n",
    "plt.ylim(0,1.05)\n",
    "plt.ylabel('Survival Distribution Function')\n",
    "plt.xlabel('Tenure Months')\n",
    "\n",
    "#print sum(empltbl3.GRADE.isin(g)), g"
   ]
  },
  {
   "cell_type": "code",
   "execution_count": null,
   "metadata": {
    "collapsed": false
   },
   "outputs": [],
   "source": [
    "gp_grade_sf_df.columns=['ALL','MG','C','MA','PA','PB','SF','RA','RD','RE','RB','RC','PC','L','FA', 'U', 'B', 'NON','M','R*','OTHR']#,inplace=True)\n",
    "                               #mg_codes,clvl_codes,ma_codes,pa_codes,pb_codes,sf_codes, ra_codes,rd_codes,re_codes, rb_codes, rc_codes,\n",
    "                          #pc_codes,l_codes,fa_codes, u_codes,b_codes,non_codes,m_codes,rx_codes,oth_codes\n",
    "\n",
    "gp_grade_sf_df.head()"
   ]
  },
  {
   "cell_type": "code",
   "execution_count": null,
   "metadata": {
    "collapsed": false
   },
   "outputs": [],
   "source": [
    "gp_grade_sf_df.iloc[1].plot(kind='bar',color='steelblue')\n",
    "plt.title('Survival Propensity at 1 year')\n",
    "plt.ylabel('Survival Distribution')\n",
    "plt.xlabel('Grouped Grade code')"
   ]
  },
  {
   "cell_type": "code",
   "execution_count": null,
   "metadata": {
    "collapsed": false
   },
   "outputs": [],
   "source": [
    "np.where(gp_grade_sf_df.ALL.values <=0.50)[0][0]"
   ]
  },
  {
   "cell_type": "code",
   "execution_count": null,
   "metadata": {
    "collapsed": false
   },
   "outputs": [],
   "source": [
    "gp_grade_sf_df[gp_grade_sf_df['ALL']<=0.50].index[0]/12.\n"
   ]
  },
  {
   "cell_type": "code",
   "execution_count": null,
   "metadata": {
    "collapsed": false
   },
   "outputs": [],
   "source": [
    "### Function to return the time when distribution falls to 50%\n",
    "def find_Npct_survival(x,npct=0.50):\n",
    "    first_index = np.where(x <=npct)[0][0]\n",
    "    #ten_years = \n",
    "    print first_index, x.iloc[first_index], x.index[first_index]#.timeline\n",
    "    #first_index-1\n",
    "    #, x.iloc[first_index-1]\n",
    "    return x.index[first_index]"
   ]
  },
  {
   "cell_type": "code",
   "execution_count": null,
   "metadata": {
    "collapsed": false
   },
   "outputs": [],
   "source": [
    "gp_grade_sf_df['ALL'].index[12]"
   ]
  },
  {
   "cell_type": "code",
   "execution_count": null,
   "metadata": {
    "collapsed": false
   },
   "outputs": [],
   "source": [
    "cnames = []\n",
    "fiftyPCT = []\n",
    "for c in gp_grade_sf_df.columns:\n",
    "    cnames.append(c)\n",
    "    fiftyPCT.append(find_Npct_survival(gp_grade_sf_df[c])/12.)#.apply(lambda x: find_Npct_survival(x))"
   ]
  },
  {
   "cell_type": "code",
   "execution_count": null,
   "metadata": {
    "collapsed": false
   },
   "outputs": [],
   "source": [
    "xvals= xrange(len(cnames))\n",
    "h = plt.bar(xvals,fiftyPCT,color='steelblue')\n",
    "plt.ylabel('Number of Tenure Years where SF <= 50%')\n",
    "#plt.xlim(0,21)\n",
    "plt.xlabel('Grouped Grades')\n",
    "plt.title('Job Grades impact on SF fraction.')\n",
    "\n",
    "xticks_pos = [0.65*patch.get_width() + patch.get_xy()[0] for patch in h]\n",
    "plt.xticks(xticks_pos,cnames,rotation='vertical')\n",
    "plt.grid(True)\n",
    "plt.xlim(0,21)"
   ]
  },
  {
   "cell_type": "markdown",
   "metadata": {},
   "source": [
    "## TRY To look at how age effects sF\n",
    "* bin this?"
   ]
  },
  {
   "cell_type": "code",
   "execution_count": null,
   "metadata": {
    "collapsed": false
   },
   "outputs": [],
   "source": [
    "empltbl3.Age_years.hist(bins=70,range=[15,84],color='darkorchid')"
   ]
  },
  {
   "cell_type": "code",
   "execution_count": null,
   "metadata": {
    "collapsed": false
   },
   "outputs": [],
   "source": [
    "empltbl3.Age_years.describe()"
   ]
  },
  {
   "cell_type": "code",
   "execution_count": null,
   "metadata": {
    "collapsed": false
   },
   "outputs": [],
   "source": [
    "empltbl3.Age_years.head()"
   ]
  },
  {
   "cell_type": "code",
   "execution_count": null,
   "metadata": {
    "collapsed": false
   },
   "outputs": [],
   "source": [
    "empltbl3['AgeGroup'] = pd.cut(empltbl3.Age_years,[0,24.5,34.5,44.5,54.5,64.5,100],labels=['0','1','2','3','4','5'])"
   ]
  },
  {
   "cell_type": "code",
   "execution_count": null,
   "metadata": {
    "collapsed": false
   },
   "outputs": [],
   "source": [
    "age_group_labels = ['0','1','2','3','4','5']\n",
    "fig = plt.figure(figsize=(12.5,5))\n",
    "kmf_agp = KaplanMeierFitter()\n",
    "kmf_agp.fit(empltbl3.Tenure_months, timeline=tenure_month_range, event_observed=empltbl3.status,label='ALL')\n",
    "    \n",
    "age_gp_sf_df = pd.DataFrame(kmf_agp.survival_function_)\n",
    "ax=fig.add_subplot(111)\n",
    "kmf_agp.plot(ax=ax,c='darkslategray')\n",
    "\n",
    "for ag in age_group_labels:\n",
    "    age_group = empltbl3[empltbl3.AgeGroup == ag]\n",
    "    print ag, len(age_group)\n",
    "    \n",
    "    \n",
    "        \n",
    "    kmf_agp.fit(age_group.Tenure_months, timeline=tenure_month_range,event_observed=age_group.status,label=ag)\n",
    "    \n",
    "    kmf_agp.plot(ax=ax)\n",
    "    age_gp_sf_df = pd.concat([age_gp_sf_df,kmf_grade.survival_function_],axis=1)\n",
    "\n",
    "plt.ylim(0,1.05)\n",
    "plt.ylabel('Survival Distribution Function')\n",
    "plt.xlabel('Tenure Months')\n",
    "plt.title('Survival for various age groups')\n",
    "\n",
    "#print sum(empltbl3.GRADE.isin(g)), g"
   ]
  },
  {
   "cell_type": "code",
   "execution_count": null,
   "metadata": {
    "collapsed": false
   },
   "outputs": [],
   "source": []
  },
  {
   "cell_type": "code",
   "execution_count": null,
   "metadata": {
    "collapsed": false
   },
   "outputs": [],
   "source": [
    "age_gp_sf_df.columns = ['ALL','0to25','25to35','35to45','45to55','55to65','65to100']#+=age_group_labels\n",
    "age_gp_sf_df.head()"
   ]
  },
  {
   "cell_type": "code",
   "execution_count": null,
   "metadata": {
    "collapsed": false
   },
   "outputs": [],
   "source": [
    "age_grp_types = empltbl3.AgeGroup.unique()\n",
    "kmf= KaplanMeierFitter()\n",
    "fig = plt.figure(figsize=(16,9))\n",
    "\n",
    "for i,agp_type in enumerate(age_grp_types):\n",
    "    ax = plt.subplot(2,3,i+1)\n",
    "    ix = empltbl3['AgeGroup'] == agp_type\n",
    "    kmf.fit( empltbl3[ix].Tenure_months, empltbl3[ix].status, label=age_gp_sf_df.columns[i+1])\n",
    "    kmf.plot(ax=ax, legend=False)\n",
    "    plt.title(age_gp_sf_df.columns[i+1])\n",
    "    plt.xlim(0,500)\n",
    "    if i==0:\n",
    "        plt.ylabel('Frac. Working after $n$ months')\n",
    "    if i == 3:\n",
    "        plt.xlabel(\"Tenure in Months\")\n",
    "plt.tight_layout()"
   ]
  },
  {
   "cell_type": "code",
   "execution_count": null,
   "metadata": {
    "collapsed": false
   },
   "outputs": [],
   "source": [
    "sdf[sdf.Column.isin(cols_to_categorical)]"
   ]
  },
  {
   "cell_type": "markdown",
   "metadata": {},
   "source": [
    "## this was descriptive, how to make it predictive?"
   ]
  },
  {
   "cell_type": "markdown",
   "metadata": {},
   "source": [
    "Try using `AalenAdditiveFitter`"
   ]
  },
  {
   "cell_type": "code",
   "execution_count": null,
   "metadata": {
    "collapsed": true
   },
   "outputs": [],
   "source": [
    "from lifelines import AalenAdditiveFitter\n",
    "import patsy"
   ]
  },
  {
   "cell_type": "code",
   "execution_count": null,
   "metadata": {
    "collapsed": false
   },
   "outputs": [],
   "source": [
    "X = patsy.dmatrix('Age_years + COMPANY + INTERN + SEX',empltbl4, return_type='dataframe')\n",
    "X.columns\n"
   ]
  },
  {
   "cell_type": "code",
   "execution_count": null,
   "metadata": {
    "collapsed": false
   },
   "outputs": [],
   "source": [
    "aaf = AalenAdditiveFitter(penalizer=1.0, fit_intercept=True)\n",
    "X['T'] = empltbl4['Tenure_years']\n",
    "X['E'] = empltbl4['status']"
   ]
  },
  {
   "cell_type": "code",
   "execution_count": null,
   "metadata": {
    "collapsed": false
   },
   "outputs": [],
   "source": [
    "aaf.fit(X,'T','E')"
   ]
  },
  {
   "cell_type": "code",
   "execution_count": null,
   "metadata": {
    "collapsed": false
   },
   "outputs": [],
   "source": [
    "aaf.plot()"
   ]
  },
  {
   "cell_type": "code",
   "execution_count": null,
   "metadata": {
    "collapsed": false
   },
   "outputs": [],
   "source": [
    "aaf.cumulative_hazards_.loc[40:]"
   ]
  },
  {
   "cell_type": "code",
   "execution_count": null,
   "metadata": {
    "collapsed": false
   },
   "outputs": [],
   "source": [
    "aaf."
   ]
  },
  {
   "cell_type": "code",
   "execution_count": null,
   "metadata": {
    "collapsed": true
   },
   "outputs": [],
   "source": []
  },
  {
   "cell_type": "code",
   "execution_count": null,
   "metadata": {
    "collapsed": true
   },
   "outputs": [],
   "source": []
  },
  {
   "cell_type": "code",
   "execution_count": null,
   "metadata": {
    "collapsed": false
   },
   "outputs": [],
   "source": [
    "#X = patsy.dmatrix('SEX + AgeGroup + INTERN + DIVISION_CODE_SFI -1', empltbl3, return_type='dataframe')\n",
    "X = patsy.dmatrix('AgeGroup + INTERN -1', empltbl3, return_type='dataframe')\n",
    "X.columns"
   ]
  },
  {
   "cell_type": "code",
   "execution_count": null,
   "metadata": {
    "collapsed": false
   },
   "outputs": [],
   "source": [
    "aaf = AalenAdditiveFitter(penalizer=1.0, fit_intercept=True)\n",
    "X['T'] = empltbl3['Tenure_years']\n",
    "X['E'] = empltbl3['status']"
   ]
  },
  {
   "cell_type": "code",
   "execution_count": null,
   "metadata": {
    "collapsed": false
   },
   "outputs": [],
   "source": [
    "aaf.fit(X,'T','E')"
   ]
  },
  {
   "cell_type": "code",
   "execution_count": null,
   "metadata": {
    "collapsed": false
   },
   "outputs": [],
   "source": [
    "aaf.cumulative_hazards_.head()"
   ]
  },
  {
   "cell_type": "markdown",
   "metadata": {},
   "source": [
    "### Plot the Estimates of cumulative $\\beta_i$"
   ]
  },
  {
   "cell_type": "code",
   "execution_count": null,
   "metadata": {
    "collapsed": false
   },
   "outputs": [],
   "source": [
    "aaf.plot( columns=[ 'AgeGroup[0]','AgeGroup[1]','AgeGroup[2]','INTERN[T.Y]', 'baseline' ], ix=slice(1,35) )"
   ]
  },
  {
   "cell_type": "markdown",
   "metadata": {},
   "source": [
    "## try to predict someone's tenure"
   ]
  },
  {
   "cell_type": "code",
   "execution_count": null,
   "metadata": {
    "collapsed": true
   },
   "outputs": [],
   "source": [
    "ix = (empltbl3['AgeGroup'] == '0')\n",
    "ib = (empltbl3['AgeGroup'] == '2')\n",
    "#harper = X[ix,:][-1,:][None,:]\n",
    "#harper[0,-1] = 2003\n",
    "#print \"Harper's unique data point\""
   ]
  },
  {
   "cell_type": "code",
   "execution_count": null,
   "metadata": {
    "collapsed": false
   },
   "outputs": [],
   "source": [
    "X[ix].iloc[[0,2],0:-2]"
   ]
  },
  {
   "cell_type": "code",
   "execution_count": null,
   "metadata": {
    "collapsed": false
   },
   "outputs": [],
   "source": [
    "X[ib].iloc[20:25]#,0:-2]"
   ]
  },
  {
   "cell_type": "code",
   "execution_count": null,
   "metadata": {
    "collapsed": false
   },
   "outputs": [],
   "source": [
    "test1 = X[ix].iloc[0] \n",
    "test2 = X[ix].iloc[2]"
   ]
  },
  {
   "cell_type": "code",
   "execution_count": null,
   "metadata": {
    "collapsed": false
   },
   "outputs": [],
   "source": [
    "test2.values"
   ]
  },
  {
   "cell_type": "code",
   "execution_count": null,
   "metadata": {
    "collapsed": false
   },
   "outputs": [],
   "source": [
    "aaf.predict_survival_function(X[ix].iloc[[0,2],0:-2]).plot()\n",
    "plt.xlim(0,10)\n",
    "aaf.predict_survival_function(X[ib].iloc[[20,21],0:-2]).plot()\n",
    "plt.xlim(0,10)"
   ]
  },
  {
   "cell_type": "code",
   "execution_count": null,
   "metadata": {
    "collapsed": false
   },
   "outputs": [],
   "source": [
    "fig = plt.figure(figsize=(12,5))\n",
    "ax = fig.add_subplot(2,1,1)\n",
    "aaf.predict_cumulative_hazard(test1.values).plot(ax=ax)"
   ]
  },
  {
   "cell_type": "code",
   "execution_count": null,
   "metadata": {
    "collapsed": false
   },
   "outputs": [],
   "source": [
    "[x for x in sdf.Column if x.startswith('JOB')]"
   ]
  },
  {
   "cell_type": "code",
   "execution_count": null,
   "metadata": {
    "collapsed": false
   },
   "outputs": [],
   "source": [
    "sdf[sdf.Column == 'GRADE']"
   ]
  },
  {
   "cell_type": "code",
   "execution_count": null,
   "metadata": {
    "collapsed": false
   },
   "outputs": [],
   "source": [
    "current.GRADE.value_counts()"
   ]
  },
  {
   "cell_type": "code",
   "execution_count": null,
   "metadata": {
    "collapsed": true
   },
   "outputs": [],
   "source": []
  },
  {
   "cell_type": "code",
   "execution_count": null,
   "metadata": {
    "collapsed": true
   },
   "outputs": [],
   "source": []
  },
  {
   "cell_type": "markdown",
   "metadata": {},
   "source": [
    "# Construct a graph out of the active employees\n",
    "* use the index from the dataframe as the node number"
   ]
  },
  {
   "cell_type": "code",
   "execution_count": null,
   "metadata": {
    "collapsed": false
   },
   "outputs": [],
   "source": [
    "import networkx as nx\n",
    "G=nx.DiGraph()\n"
   ]
  },
  {
   "cell_type": "code",
   "execution_count": null,
   "metadata": {
    "collapsed": false
   },
   "outputs": [],
   "source": [
    "#initialize with the ceo index\n",
    "#initialize with the ceo index\n",
    "#initialize with the ceo index\n",
    "ceo_index = list(current[current.KEY==ceo_key].index)[0]\n",
    "print ceo_index,ceo_key\n",
    "G.add_node(ceo_index)\n",
    "G.graph"
   ]
  },
  {
   "cell_type": "code",
   "execution_count": null,
   "metadata": {
    "collapsed": true
   },
   "outputs": [],
   "source": [
    "def id_dependents("
   ]
  },
  {
   "cell_type": "code",
   "execution_count": null,
   "metadata": {
    "collapsed": false
   },
   "outputs": [],
   "source": [
    "# now apply some logic to these columns for keeping and not\n",
    "columns_to_fix_missing = []\n",
    "columns_to_fix_NY = []\n",
    "columns_to_omit = []"
   ]
  },
  {
   "cell_type": "code",
   "execution_count": null,
   "metadata": {
    "collapsed": false
   },
   "outputs": [],
   "source": [
    "columns_to_fix_missing"
   ]
  },
  {
   "cell_type": "code",
   "execution_count": null,
   "metadata": {
    "collapsed": false
   },
   "outputs": [],
   "source": []
  },
  {
   "cell_type": "code",
   "execution_count": null,
   "metadata": {
    "collapsed": false
   },
   "outputs": [],
   "source": [
    "len(sdf[sdf['datatype']=='object'])"
   ]
  },
  {
   "cell_type": "code",
   "execution_count": null,
   "metadata": {
    "collapsed": false
   },
   "outputs": [],
   "source": [
    "sdf[(sdf['datatype']=='object') & (sdf['x_missing']<=missing_threshold) & (sdf['x_missing'] > 0)]"
   ]
  },
  {
   "cell_type": "code",
   "execution_count": null,
   "metadata": {
    "collapsed": false
   },
   "outputs": [],
   "source": [
    "empltbl3[empltbl3.STATE == 'NB'][['status','LOC_STATE','LOC_CITY','JOB_FUNCTION']]#,'zip5']]"
   ]
  },
  {
   "cell_type": "code",
   "execution_count": null,
   "metadata": {
    "collapsed": false
   },
   "outputs": [],
   "source": [
    "sdf.head()"
   ]
  },
  {
   "cell_type": "code",
   "execution_count": null,
   "metadata": {
    "collapsed": false
   },
   "outputs": [],
   "source": [
    "empltbl[empltbl.POSTAL_SFI.isnull()].zip5"
   ]
  },
  {
   "cell_type": "code",
   "execution_count": null,
   "metadata": {
    "collapsed": false
   },
   "outputs": [],
   "source": [
    "empltbl.ACTRES1.tail()"
   ]
  },
  {
   "cell_type": "code",
   "execution_count": null,
   "metadata": {
    "collapsed": false
   },
   "outputs": [],
   "source": [
    "# omit those that have more than 40% missing:\n",
    "columns_to_omit = sdf[sdf['x_missing'] > missing_threshold].Column.values\n",
    "print len(columns_to_omit)\n",
    "columns_to_omit"
   ]
  },
  {
   "cell_type": "code",
   "execution_count": null,
   "metadata": {
    "collapsed": false
   },
   "outputs": [],
   "source": []
  },
  {
   "cell_type": "code",
   "execution_count": null,
   "metadata": {
    "collapsed": false
   },
   "outputs": [],
   "source": [
    "pd.crosstab(empltbl['HUBIND'],empltbl['SUPV_DIFF_LOC'])"
   ]
  },
  {
   "cell_type": "code",
   "execution_count": null,
   "metadata": {
    "collapsed": false
   },
   "outputs": [],
   "source": [
    "empltbl.FLSA_STATUS.value_counts()"
   ]
  },
  {
   "cell_type": "code",
   "execution_count": null,
   "metadata": {
    "collapsed": false
   },
   "outputs": [],
   "source": [
    "empltbl.JOB_FAMILY.value_counts()[empltbl.JOB_FAMILY.value_counts()>100]"
   ]
  },
  {
   "cell_type": "code",
   "execution_count": null,
   "metadata": {
    "collapsed": false
   },
   "outputs": [],
   "source": [
    "sort(columns_to_keep)"
   ]
  },
  {
   "cell_type": "code",
   "execution_count": null,
   "metadata": {
    "collapsed": false
   },
   "outputs": [],
   "source": [
    "reduced_tbl = empltbl[columns_to_keep].copy()\n",
    "reduced_tbl.shape"
   ]
  },
  {
   "cell_type": "code",
   "execution_count": null,
   "metadata": {
    "collapsed": false
   },
   "outputs": [],
   "source": [
    "## drop those that are not VOL or NOT in VOLINVOL column\n",
    "sum(reduced_tbl.isin({'VOLINVOL':['NOT','VOLUNTARY']}))"
   ]
  },
  {
   "cell_type": "code",
   "execution_count": null,
   "metadata": {
    "collapsed": false
   },
   "outputs": [],
   "source": [
    "for cat_col in cols_to_categorical:\n",
    "    reduced_tbl[cat_col] = reduced_tbl[cat_col].astype('category')\n"
   ]
  },
  {
   "cell_type": "code",
   "execution_count": null,
   "metadata": {
    "collapsed": false
   },
   "outputs": [],
   "source": [
    "reduced_summary_df = summarize_dataframe2(red_tbl)"
   ]
  },
  {
   "cell_type": "code",
   "execution_count": null,
   "metadata": {
    "collapsed": false
   },
   "outputs": [],
   "source": [
    "reduced_tbl.head()"
   ]
  },
  {
   "cell_type": "code",
   "execution_count": null,
   "metadata": {
    "collapsed": false
   },
   "outputs": [],
   "source": [
    "reduced_tbl.columns"
   ]
  },
  {
   "cell_type": "code",
   "execution_count": null,
   "metadata": {
    "collapsed": false
   },
   "outputs": [],
   "source": [
    "pd.crosstab(reduced_tbl['REMOTE'],reduced_tbl['HUBIND'])"
   ]
  },
  {
   "cell_type": "code",
   "execution_count": null,
   "metadata": {
    "collapsed": false
   },
   "outputs": [],
   "source": [
    "pd.crosstab(reduced_tbl['FTPTCNT1'],reduced_tbl['PTFTCNT1'])"
   ]
  },
  {
   "cell_type": "code",
   "execution_count": null,
   "metadata": {
    "collapsed": false
   },
   "outputs": [],
   "source": [
    "reduced_tbl.FULL_PART_TIME.value_counts()"
   ]
  },
  {
   "cell_type": "code",
   "execution_count": null,
   "metadata": {
    "collapsed": false
   },
   "outputs": [],
   "source": [
    "## further reduce by removing\n",
    "FULL_PART_TIME, ACTRES1, KEY, "
   ]
  },
  {
   "cell_type": "code",
   "execution_count": null,
   "metadata": {
    "collapsed": true
   },
   "outputs": [],
   "source": []
  },
  {
   "cell_type": "code",
   "execution_count": null,
   "metadata": {
    "collapsed": false
   },
   "outputs": [],
   "source": [
    "len(reduced_tbl.JOB_FAMILY.unique()), len(reduced_tbl.JOB_FUNCTION.unique()), len(reduced_tbl.GRADE.unique()),len(reduced_tbl.JOBCODE.unique())"
   ]
  },
  {
   "cell_type": "code",
   "execution_count": null,
   "metadata": {
    "collapsed": false
   },
   "outputs": [],
   "source": [
    "reduced_tbl.JOB_FUNCTION.value_counts().plot(kind='bar',color='burlywood')"
   ]
  },
  {
   "cell_type": "code",
   "execution_count": null,
   "metadata": {
    "collapsed": false
   },
   "outputs": [],
   "source": [
    "reduced_tbl.GRADE.value_counts().plot(kind='bar',color='burlywood')"
   ]
  },
  {
   "cell_type": "code",
   "execution_count": null,
   "metadata": {
    "collapsed": false
   },
   "outputs": [],
   "source": [
    "#sum(reduced_tbl.MAX_RT_ANNUAL==0)\n",
    "reduced_tbl[reduced_tbl.ANNUAL_RT!=0].ANNUAL_RT.hist(bins=40,color='darkorchid')"
   ]
  },
  {
   "cell_type": "code",
   "execution_count": null,
   "metadata": {
    "collapsed": false
   },
   "outputs": [],
   "source": [
    "sum(reduced_tbl.ANNUAL_RT==0)"
   ]
  },
  {
   "cell_type": "code",
   "execution_count": null,
   "metadata": {
    "collapsed": false
   },
   "outputs": [],
   "source": [
    "reduced_tbl['JOB_FUNCTION'].unique()"
   ]
  },
  {
   "cell_type": "code",
   "execution_count": null,
   "metadata": {
    "collapsed": false
   },
   "outputs": [],
   "source": [
    "initial_columns_list = ['SEX','INTERN','FULL_PART_TIME']#,'COMPANY','VOLINVOL']#'JOB_FUNCTION','COMPANY','HUBIND','VOLINVOL']\n",
    "sum(reduced_tbl[initial_columns_list].isnull())"
   ]
  },
  {
   "cell_type": "code",
   "execution_count": null,
   "metadata": {
    "collapsed": false
   },
   "outputs": [],
   "source": [
    "jf_hold = reduced_tbl.JOB_FUNCTION.astype('object')\n",
    "jf_hold.fillna('XXX',inplace=True)\n",
    "reduced_tbl['JOB_FUNCTION'] = jf_hold\n",
    "reduced_tbl['JOB_FUNCTION'] = reduced_tbl['JOB_FUNCTION'].astype('category')"
   ]
  },
  {
   "cell_type": "code",
   "execution_count": null,
   "metadata": {
    "collapsed": false
   },
   "outputs": [],
   "source": [
    "initial_columns_list = ['SEX','Age_years','INTERN','FULL_PART_TIME','JOB_FUNCTION','COMPANY','HUBIND','VOLINVOL']\n",
    "sum(reduced_tbl[initial_columns_list].isnull())"
   ]
  },
  {
   "cell_type": "code",
   "execution_count": null,
   "metadata": {
    "collapsed": false
   },
   "outputs": [],
   "source": [
    "#pull out the reduced columns\n",
    "fill_flag = True\n",
    "reduced2 = reduced_tbl[initial_columns_list].copy()\n",
    "for c in reduced2.columns:\n",
    "    nmissing = sum(reduced2[c].isnull())\n",
    "    datatype = reduced2[c].dtype\n",
    "    if nmissing > 0 and fill_flag:\n",
    "        if datatype=='category':\n",
    "            reduced2[c].fillna('XNA',inplace=True)\n",
    "    \n",
    "        \n",
    "    print c, reduced2[c].dtype"
   ]
  },
  {
   "cell_type": "code",
   "execution_count": null,
   "metadata": {
    "collapsed": false
   },
   "outputs": [],
   "source": [
    "reduced2 = reduced_tbl[initial_columns_list].copy()\n",
    "reduced2.shape"
   ]
  },
  {
   "cell_type": "code",
   "execution_count": null,
   "metadata": {
    "collapsed": false
   },
   "outputs": [],
   "source": [
    "dummy_columns_list1 = list(reduced2.columns) #['SEX','INTERN','FULL_PART_TIME','JOB_FUNCTION','COMPANY','HUBIND','VOLINVOL']"
   ]
  },
  {
   "cell_type": "code",
   "execution_count": null,
   "metadata": {
    "collapsed": false
   },
   "outputs": [],
   "source": [
    "# create a dummified dataframe.\n",
    "reduced_dummies = pd.get_dummies(reduced2[dummy_columns_list1])\n",
    "print reduced_dummies.shape    "
   ]
  },
  {
   "cell_type": "code",
   "execution_count": null,
   "metadata": {
    "collapsed": false
   },
   "outputs": [],
   "source": [
    "dummy_column_list2 = list(reduced_dummies.columns)"
   ]
  },
  {
   "cell_type": "code",
   "execution_count": null,
   "metadata": {
    "collapsed": false
   },
   "outputs": [],
   "source": [
    "dummy_col_to_drop = []\n",
    "for col in dummy_columns_list1:\n",
    "    dclist = [x for x in dummy_column_list2 if x.startswith(col)]\n",
    "    print dclist\n",
    "    dummy_col_to_drop.append(dclist[0])\n",
    "\n",
    "dummy_col_to_keep = list(set(dummy_column_list2) - set(dummy_col_to_drop))\n",
    "\n",
    "reduced3 = reduced_dummies[dummy_col_to_keep].copy()\n",
    "#add the non-categorical back in\n",
    "#reduced3[initial_columns_list[1]] = reduced2[initial_columns_list[1]]\n",
    "reduced3.shape"
   ]
  },
  {
   "cell_type": "code",
   "execution_count": null,
   "metadata": {
    "collapsed": true
   },
   "outputs": [],
   "source": [
    "## add in status and time\n",
    "reduced3['Age'] = empltbl['Age_years']\n",
    "reduced3['status'] = empltbl['status']\n",
    "reduced3['Tenure'] = empltbl['Tenure_months']"
   ]
  },
  {
   "cell_type": "markdown",
   "metadata": {},
   "source": [
    "## Aalen's Additive model"
   ]
  },
  {
   "cell_type": "code",
   "execution_count": null,
   "metadata": {
    "collapsed": false
   },
   "outputs": [],
   "source": [
    "from lifelines import AalenAdditiveFitter\n",
    "reduced3.head()"
   ]
  },
  {
   "cell_type": "code",
   "execution_count": null,
   "metadata": {
    "collapsed": false
   },
   "outputs": [],
   "source": [
    "reduced3.columns"
   ]
  },
  {
   "cell_type": "code",
   "execution_count": null,
   "metadata": {
    "collapsed": false
   },
   "outputs": [],
   "source": [
    "aaf_tenure = AalenAdditiveFitter(penalizer=1.0,fit_intercept=True)"
   ]
  },
  {
   "cell_type": "code",
   "execution_count": null,
   "metadata": {
    "collapsed": false
   },
   "outputs": [],
   "source": [
    "aaf_tenure.fit(reduced3,'Tenure',event_col='status')"
   ]
  },
  {
   "cell_type": "code",
   "execution_count": null,
   "metadata": {
    "collapsed": false
   },
   "outputs": [],
   "source": [
    "aaf_tenure.plot(columns=['FULL_PART_TIME_P','Age','SEX_M','baseline'])"
   ]
  },
  {
   "cell_type": "code",
   "execution_count": null,
   "metadata": {
    "collapsed": false
   },
   "outputs": [],
   "source": [
    "aaf_tenure_b = AalenAdditiveFitter(penalizer=1.0,fit_intercept=True)"
   ]
  },
  {
   "cell_type": "code",
   "execution_count": null,
   "metadata": {
    "collapsed": false
   },
   "outputs": [],
   "source": [
    "aaf_tenure_b.fit(reduced3,'Tenure',event_col='status')"
   ]
  },
  {
   "cell_type": "code",
   "execution_count": null,
   "metadata": {
    "collapsed": true
   },
   "outputs": [],
   "source": []
  },
  {
   "cell_type": "markdown",
   "metadata": {},
   "source": [
    "## CoxPH"
   ]
  },
  {
   "cell_type": "code",
   "execution_count": null,
   "metadata": {
    "collapsed": true
   },
   "outputs": [],
   "source": [
    "from lifelines import CoxPHFitter"
   ]
  },
  {
   "cell_type": "code",
   "execution_count": null,
   "metadata": {
    "collapsed": false
   },
   "outputs": [],
   "source": [
    "cf_tenure = CoxPHFitter()\n",
    "cf_tenure.fit(reduced3,'Tenure',event_col='status')\n"
   ]
  },
  {
   "cell_type": "code",
   "execution_count": null,
   "metadata": {
    "collapsed": false
   },
   "outputs": [],
   "source": [
    "cf_tenure.summary()"
   ]
  },
  {
   "cell_type": "code",
   "execution_count": null,
   "metadata": {
    "collapsed": false
   },
   "outputs": [],
   "source": [
    "cf_tenure.plot(columns=['FULL_PART_TIME_P','Age','SEX_M','baseline'])"
   ]
  },
  {
   "cell_type": "code",
   "execution_count": null,
   "metadata": {
    "collapsed": false
   },
   "outputs": [],
   "source": [
    "cf_tenure.hazards_"
   ]
  },
  {
   "cell_type": "code",
   "execution_count": null,
   "metadata": {
    "collapsed": false
   },
   "outputs": [],
   "source": [
    "cf_tenure.baseline_cumulative_hazard_.plot()"
   ]
  },
  {
   "cell_type": "code",
   "execution_count": null,
   "metadata": {
    "collapsed": true
   },
   "outputs": [],
   "source": [
    "cf_tenurereenure.base"
   ]
  },
  {
   "cell_type": "code",
   "execution_count": null,
   "metadata": {
    "collapsed": true
   },
   "outputs": [],
   "source": [
    "reduced3.index = np.arange(0,len(reduced3))"
   ]
  },
  {
   "cell_type": "code",
   "execution_count": null,
   "metadata": {
    "collapsed": false
   },
   "outputs": [],
   "source": [
    "# k-fold\n",
    "\n",
    "from lifelines.utils import k_fold_cross_validation\n",
    "\n",
    "#regression_dataset = load_regression_dataset()\n",
    "cf = CoxPHFitter()\n",
    "scores = k_fold_cross_validation(cf, reduced3, 'Tenure', event_col='status', k=5)\n",
    "print scores\n",
    "print scores.mean()\n",
    "print scores.std()"
   ]
  },
  {
   "cell_type": "code",
   "execution_count": null,
   "metadata": {
    "collapsed": true
   },
   "outputs": [],
   "source": []
  },
  {
   "cell_type": "code",
   "execution_count": null,
   "metadata": {
    "collapsed": true
   },
   "outputs": [],
   "source": []
  },
  {
   "cell_type": "code",
   "execution_count": null,
   "metadata": {
    "collapsed": true
   },
   "outputs": [],
   "source": [
    "import patsy"
   ]
  },
  {
   "cell_type": "code",
   "execution_count": null,
   "metadata": {
    "collapsed": false
   },
   "outputs": [],
   "source": [
    "X = patsy.dmatrix('SEX + JOB_FUNCTION + Age_years + INTERN + COMPANY + VOLINVOL + HUBIND - 1', reduced2, return_type='dataframe')"
   ]
  },
  {
   "cell_type": "code",
   "execution_count": null,
   "metadata": {
    "collapsed": false
   },
   "outputs": [],
   "source": [
    "patsy.__version__"
   ]
  },
  {
   "cell_type": "code",
   "execution_count": null,
   "metadata": {
    "collapsed": true
   },
   "outputs": [],
   "source": [
    "# now use lifelines\n",
    "from lifelines import KaplanMeierFitter"
   ]
  },
  {
   "cell_type": "code",
   "execution_count": null,
   "metadata": {
    "collapsed": false
   },
   "outputs": [],
   "source": [
    "figsize(14,6)\n",
    "kmf = KaplanMeierFitter()\n",
    "kmf.fit(empltbl.Tenure_months, event_observed=empltbl.status)\n",
    "kmf.plot()\n",
    "plt.ylabel('Survival Distribution Function')\n",
    "plt.xlabel('Tenure months')\n",
    "plt.title('KaplanMeier Survival: ALL employees')"
   ]
  },
  {
   "cell_type": "code",
   "execution_count": null,
   "metadata": {
    "collapsed": true
   },
   "outputs": [],
   "source": [
    "kmf.survival_function_"
   ]
  },
  {
   "cell_type": "markdown",
   "metadata": {
    "collapsed": true
   },
   "source": [
    "### look at difference between M & F"
   ]
  },
  {
   "cell_type": "code",
   "execution_count": null,
   "metadata": {
    "collapsed": false
   },
   "outputs": [],
   "source": [
    "male = empltbl[empltbl['SEX'] =='M']\n",
    "female = empltbl[empltbl['SEX'] =='F']\n",
    "len(male),len(female)"
   ]
  },
  {
   "cell_type": "code",
   "execution_count": null,
   "metadata": {
    "collapsed": false
   },
   "outputs": [],
   "source": [
    "male.Tenure_months.describe(), female.Tenure_months.describe()"
   ]
  },
  {
   "cell_type": "code",
   "execution_count": null,
   "metadata": {
    "collapsed": false
   },
   "outputs": [],
   "source": [
    "min_tenure_months= empltbl.Tenure_months.min()\n",
    "max_tenure_months = empltbl.Tenure_months.max()\n",
    "print min_tenure_months, max_tenure_months\n",
    "tenure_month_range = np.linspace(min_tenure_months,max_tenure_months,65)\n",
    "len(tenure_month_range)"
   ]
  },
  {
   "cell_type": "code",
   "execution_count": null,
   "metadata": {
    "collapsed": false
   },
   "outputs": [],
   "source": [
    "male.Tenure_months.hist(normed=True,color='dodgerblue',bins=65,label='M')\n",
    "female.Tenure_months.hist(normed=True,color='deeppink',alpha=0.5,bins=65,label='F')\n",
    "plt.xlabel('Tenure_months')\n",
    "plt.ylabel('Normed Distribution')\n",
    "plt.legend()"
   ]
  },
  {
   "cell_type": "code",
   "execution_count": null,
   "metadata": {
    "collapsed": false
   },
   "outputs": [],
   "source": [
    "kmf_gender = KaplanMeierFitter()\n",
    "#plt.figure(figsize=(20,10))\n",
    "kmf_gender.fit(male.Tenure_months, timeline=tenure_month_range,event_observed=male.status)\n",
    "ax = kmf_gender.plot(c='dodgerblue',label='Male')\n",
    "kmf_gender.fit(female.Tenure_months,  timeline=tenure_month_range,event_observed=female.status)\n",
    "kmf_gender.plot(ax=ax, c='deeppink',label='Female')\n",
    "ylim(0,1.05)\n",
    "plt.ylabel('Survival Distribution Function')\n",
    "plt.xlabel('Tenure Months')"
   ]
  },
  {
   "cell_type": "markdown",
   "metadata": {
    "collapsed": true
   },
   "source": [
    "## Hazard Function"
   ]
  },
  {
   "cell_type": "code",
   "execution_count": null,
   "metadata": {
    "collapsed": false
   },
   "outputs": [],
   "source": [
    "from lifelines import NelsonAalenFitter\n",
    "#plt.figure(figsize=(12.5,8))\n",
    "naf = NelsonAalenFitter()\n",
    "naf.fit(male.Tenure_months,timeline=tenure_month_range, event_observed=male.status)\n",
    "ax = naf.plot(c='dodgerblue',label='Male')\n",
    "naf.fit(female.Tenure_months,  timeline=tenure_month_range,event_observed=female.status)\n",
    "naf.plot(ax=ax, c='deeppink',label='Female')\n",
    "#ylim(0,1.05)\n",
    "plt.ylabel('Hazard Function')\n",
    "plt.xlabel('Tenure Months')\n",
    "#fit(male.Tenure_months,timeline=tenure_month_range, event_observed=male.status)"
   ]
  },
  {
   "cell_type": "markdown",
   "metadata": {
    "collapsed": true
   },
   "source": [
    "### Repeat using age in years as timeline"
   ]
  },
  {
   "cell_type": "code",
   "execution_count": null,
   "metadata": {
    "collapsed": false
   },
   "outputs": [],
   "source": [
    "empltbl.Age_years.describe()"
   ]
  },
  {
   "cell_type": "code",
   "execution_count": null,
   "metadata": {
    "collapsed": false
   },
   "outputs": [],
   "source": [
    "sum(empltbl.Age_years > 80)"
   ]
  },
  {
   "cell_type": "code",
   "execution_count": null,
   "metadata": {
    "collapsed": false
   },
   "outputs": [],
   "source": [
    "min_age = empltbl.Age_years.min()\n",
    "max_age = empltbl.Age_years.max()\n",
    "print min_age, max_age, max_age - min_age\n",
    "delta_age= int(max_age - min_age)\n",
    "age_range = np.linspace(min_age,max_age,delta_age)\n",
    "len(age_range)"
   ]
  },
  {
   "cell_type": "code",
   "execution_count": null,
   "metadata": {
    "collapsed": false
   },
   "outputs": [],
   "source": [
    "kmf_age = KaplanMeierFitter()\n",
    "kmf_age.fit(empltbl.Age_years, timeline=age_range,event_observed=empltbl.status)\n",
    "kmf_age.plot(color='darkgoldenrod')\n",
    "plt.ylabel('Survival Distribution Function')"
   ]
  },
  {
   "cell_type": "code",
   "execution_count": null,
   "metadata": {
    "collapsed": false
   },
   "outputs": [],
   "source": [
    "male.Age_years.hist(normed=True,color='dodgerblue',bins=82,alpha=0.7,label='M')\n",
    "female.Age_years.hist(normed=True,color='deeppink',alpha=0.3,bins=82,label='F')\n",
    "plt.xlabel('Age_years')\n",
    "plt.ylabel('Normed Distribution')\n",
    "plt.legend()"
   ]
  },
  {
   "cell_type": "code",
   "execution_count": null,
   "metadata": {
    "collapsed": false
   },
   "outputs": [],
   "source": [
    "kmf_gender_age = KaplanMeierFitter()\n",
    "#plt.figure(figsize=(20,10))\n",
    "kmf_gender_age.fit(male.Age_years, timeline=age_range,event_observed=male.status)\n",
    "ax = kmf_gender_age.plot(c='dodgerblue',label='Male')\n",
    "kmf_gender_age.fit(female.Age_years,  timeline=age_range,event_observed=female.status)\n",
    "kmf_gender_age.plot(ax=ax, c='deeppink',label='Female')\n",
    "ylim(0,1.05)\n",
    "plt.ylabel('Survival Distribution Function')\n",
    "plt.xlabel('Age (years)')\n",
    "plt.title('Gender-split KM')"
   ]
  },
  {
   "cell_type": "markdown",
   "metadata": {},
   "source": [
    "## Cox Proportional Hazard Regression\n"
   ]
  },
  {
   "cell_type": "code",
   "execution_count": null,
   "metadata": {
    "collapsed": true
   },
   "outputs": [],
   "source": [
    "from lifelines import CoxPHFitter"
   ]
  },
  {
   "cell_type": "code",
   "execution_count": null,
   "metadata": {
    "collapsed": true
   },
   "outputs": [],
   "source": []
  },
  {
   "cell_type": "code",
   "execution_count": null,
   "metadata": {
    "collapsed": false
   },
   "outputs": [],
   "source": [
    "plt.scatter(empltbl.FLOORCNT1,empltbl.DEPTCNT1,color='burlywood',alpha=0.3)"
   ]
  },
  {
   "cell_type": "code",
   "execution_count": null,
   "metadata": {
    "collapsed": false
   },
   "outputs": [],
   "source": [
    "#pd.crosstab(empltbl, index = 'JOBCNT1',columns =\n",
    "#(empltbl, \n",
    "empltbl[['JOBCNT1','LOCCNT1','DEPTCNT1','GRADECNT1','FLOORCNT1','SUPVCNT1']].corr()"
   ]
  },
  {
   "cell_type": "code",
   "execution_count": null,
   "metadata": {
    "collapsed": false
   },
   "outputs": [],
   "source": [
    "c='EMPL_CLASS'\n",
    "empltbl[c].value_counts()"
   ]
  },
  {
   "cell_type": "code",
   "execution_count": null,
   "metadata": {
    "collapsed": false
   },
   "outputs": [],
   "source": [
    "\n",
    "len(empltbl[c].unique())"
   ]
  },
  {
   "cell_type": "code",
   "execution_count": null,
   "metadata": {
    "collapsed": false
   },
   "outputs": [],
   "source": [
    "plt.scatter(empltbl.ANNUAL_RT,empltbl.SAL1,color='burlywood',alpha=0.3)\n",
    "empltbl[['ANNUAL_RT','SAL1']].corr()"
   ]
  },
  {
   "cell_type": "code",
   "execution_count": null,
   "metadata": {
    "collapsed": false
   },
   "outputs": [],
   "source": [
    "len(empltbl[empltbl.ANNUAL_RT>0])"
   ]
  },
  {
   "cell_type": "code",
   "execution_count": null,
   "metadata": {
    "collapsed": false
   },
   "outputs": [],
   "source": [
    "np.log(empltbl.ANNUAL_RT+1).hist(bins=30)"
   ]
  },
  {
   "cell_type": "code",
   "execution_count": null,
   "metadata": {
    "collapsed": false
   },
   "outputs": [],
   "source": [
    "empltbl.SAL1.hist(bins=80)\n",
    "empltbl.SAL1.describe()"
   ]
  },
  {
   "cell_type": "code",
   "execution_count": null,
   "metadata": {
    "collapsed": false
   },
   "outputs": [],
   "source": [
    "sum(empltbl.SAL1 == 0.0)"
   ]
  },
  {
   "cell_type": "code",
   "execution_count": null,
   "metadata": {
    "collapsed": false
   },
   "outputs": [],
   "source": [
    "empltbl.RELOCATE_ALL_SFI.value_counts()"
   ]
  },
  {
   "cell_type": "code",
   "execution_count": null,
   "metadata": {
    "collapsed": false
   },
   "outputs": [],
   "source": [
    "empltbl.LOCATION.value_counts().hist(bins=50)"
   ]
  },
  {
   "cell_type": "code",
   "execution_count": null,
   "metadata": {
    "collapsed": false
   },
   "outputs": [],
   "source": [
    "empltbl.LOC_STATE.unique()"
   ]
  },
  {
   "cell_type": "markdown",
   "metadata": {
    "collapsed": false
   },
   "source": [
    "## encode some of the categorical columns"
   ]
  },
  {
   "cell_type": "markdown",
   "metadata": {
    "collapsed": true
   },
   "source": [
    "## Per discussion with HR TEAM on April 22, 2015"
   ]
  },
  {
   "cell_type": "code",
   "execution_count": null,
   "metadata": {
    "collapsed": true
   },
   "outputs": [],
   "source": [
    "empl = empltbl4[empltbl4.sep_status<=2] # Remove the OTHER & UNKNOWN reasons"
   ]
  },
  {
   "cell_type": "code",
   "execution_count": null,
   "metadata": {
    "collapsed": false
   },
   "outputs": [],
   "source": [
    "empl.shape"
   ]
  },
  {
   "cell_type": "code",
   "execution_count": null,
   "metadata": {
    "collapsed": false
   },
   "outputs": [],
   "source": [
    "# look at the list of ACTRES1 for  ReTIREMENT\n",
    "uniq_action_reasons_1 = empl.ACTRES1.unique()\n",
    "print len(uniq_action_reasons_1)\n",
    "#ret_action_reasons_1 = [x for x in uniq_action_reasons_1 if 'RETIREMENT' in x]\n",
    "#print len(ret_action_reasons_1)"
   ]
  },
  {
   "cell_type": "code",
   "execution_count": null,
   "metadata": {
    "collapsed": false
   },
   "outputs": [],
   "source": [
    "temp_list = [x.split(';') for x in uniq_action_reasons_1]\n",
    "from itertools import chain\n",
    "act_reason_1_list = list(chain.from_iterable(temp_list))\n",
    "print len(act_reason_1_list)"
   ]
  },
  {
   "cell_type": "code",
   "execution_count": null,
   "metadata": {
    "collapsed": true
   },
   "outputs": [],
   "source": [
    "act_reason_1_set = set(act_reason_1_list)"
   ]
  },
  {
   "cell_type": "code",
   "execution_count": null,
   "metadata": {
    "collapsed": false
   },
   "outputs": [],
   "source": [
    "len(act_reason_1_set)"
   ]
  },
  {
   "cell_type": "code",
   "execution_count": null,
   "metadata": {
    "collapsed": false
   },
   "outputs": [],
   "source": [
    "[x for x in act_reason_1_set if 'DISABI' in x]"
   ]
  },
  {
   "cell_type": "code",
   "execution_count": null,
   "metadata": {
    "collapsed": false
   },
   "outputs": [],
   "source": [
    "#possible_retire_codes = \n",
    "possible_retire_codes = [x for x in act_reason_1_set if ('RET' in x and  'RETURN' not in x) ]\n",
    "possible_retire_codes.append('DISABILITY')\n",
    "len(possible_retire_codes)"
   ]
  },
  {
   "cell_type": "code",
   "execution_count": null,
   "metadata": {
    "collapsed": false
   },
   "outputs": [],
   "source": [
    "possible_retire_codes.sort()"
   ]
  },
  {
   "cell_type": "code",
   "execution_count": null,
   "metadata": {
    "collapsed": false
   },
   "outputs": [],
   "source": [
    "possible_retire_codes"
   ]
  },
  {
   "cell_type": "code",
   "execution_count": null,
   "metadata": {
    "collapsed": false
   },
   "outputs": [],
   "source": [
    "t1 = empl.ACTRES1.ix[1]\n",
    "[a for a in t1.split(';') if a in possible_retire_codes ]"
   ]
  },
  {
   "cell_type": "code",
   "execution_count": null,
   "metadata": {
    "collapsed": false
   },
   "outputs": [],
   "source": [
    "possible_retire_codes"
   ]
  },
  {
   "cell_type": "code",
   "execution_count": null,
   "metadata": {
    "collapsed": false
   },
   "outputs": [],
   "source": [
    "empl['disabled'] = empl.ACTRES1.apply(lambda x: len([a for a in x.split(';') if a == 'DISABILITY']))\n",
    "empl[empl['disabled']!=0].Age_years.hist()"
   ]
  },
  {
   "cell_type": "code",
   "execution_count": null,
   "metadata": {
    "collapsed": false
   },
   "outputs": [],
   "source": [
    "sum(empl.disabled==1)"
   ]
  },
  {
   "cell_type": "code",
   "execution_count": null,
   "metadata": {
    "collapsed": false
   },
   "outputs": [],
   "source": [
    "empl.sep_status.value_counts()"
   ]
  },
  {
   "cell_type": "code",
   "execution_count": null,
   "metadata": {
    "collapsed": false
   },
   "outputs": [],
   "source": [
    "len(empl), len(empltbl4)"
   ]
  },
  {
   "cell_type": "code",
   "execution_count": null,
   "metadata": {
    "collapsed": false
   },
   "outputs": [],
   "source": [
    "empl[empl['retired']==1].Age_years.hist(bins=70,range=[16,85],color='darkorchid')\n",
    "empl[empl['retired']==0].Age_years.hist(bins=70,range=[16,86],color='forestgreen',alpha=0.7)"
   ]
  },
  {
   "cell_type": "code",
   "execution_count": null,
   "metadata": {
    "collapsed": false
   },
   "outputs": [],
   "source": [
    "sum(empl.retired==1)"
   ]
  },
  {
   "cell_type": "code",
   "execution_count": null,
   "metadata": {
    "collapsed": false
   },
   "outputs": [],
   "source": [
    "pd.crosstab(empl.retired,empl.sep_status)"
   ]
  },
  {
   "cell_type": "code",
   "execution_count": null,
   "metadata": {
    "collapsed": false
   },
   "outputs": [],
   "source": [
    "empl[(empl.sep_status==0) & (empl.retired==1)]['KEY']"
   ]
  },
  {
   "cell_type": "code",
   "execution_count": null,
   "metadata": {
    "collapsed": false
   },
   "outputs": [],
   "source": [
    "print empltbl[empltbl.KEY=='185980322857378'][date_columns]\n",
    "empltbl[empltbl.KEY=='185980322857378'].Age_years"
   ]
  },
  {
   "cell_type": "code",
   "execution_count": null,
   "metadata": {
    "collapsed": false
   },
   "outputs": [],
   "source": [
    "empltbl[empltbl.KEY=='185980322857378'][['ACTRES1','ACTRES2','ACTRES3','ACTRES4','ACTRES5','ACTRES6','ACTRES7','ACTRES9','ACTRES10']].values"
   ]
  },
  {
   "cell_type": "code",
   "execution_count": null,
   "metadata": {
    "collapsed": false
   },
   "outputs": [],
   "source": [
    "empl[empl['retired']==1].Age_years.hist(bins=70,range=[16,85],color='darkorchid',label='retired')\n",
    "empl[(empl['retired']==0) & (empl.status==1)].Age_years.hist(bins=70,range=[16,86],color='forestgreen',alpha=0.7,label='separated')\n",
    "empl[(empl['retired']==0) & (empl.status==0)].Age_years.hist(bins=70,range=[16,86],color='darkkhaki',alpha=0.7,label='current')\n",
    "#empl[(empl['retired']==0) & (empl.status==1)].Age_years.hist(bins=70,range=[16,86],color='forestgreen',alpha=0.7)\n",
    "plt.ylabel('Number of employees')\n",
    "plt.xlabel('Age')\n",
    "plt.legend()"
   ]
  },
  {
   "cell_type": "code",
   "execution_count": null,
   "metadata": {
    "collapsed": false
   },
   "outputs": [],
   "source": [
    "sum(empl.SAL1== 0.0)"
   ]
  },
  {
   "cell_type": "code",
   "execution_count": null,
   "metadata": {
    "collapsed": false
   },
   "outputs": [],
   "source": [
    "len(empl)"
   ]
  },
  {
   "cell_type": "markdown",
   "metadata": {},
   "source": [
    "## April 27, 2015 \n",
    "* need to categorize all data I can before loading into R"
   ]
  },
  {
   "cell_type": "code",
   "execution_count": null,
   "metadata": {
    "collapsed": false
   },
   "outputs": [],
   "source": [
    "empltbl4=pd.read_csv('employee_dataframe4.tsv',sep='\\t',index_col=0,dtype={'EMPL_CLASS':np.str,'EMPL_TYPE':np.str})\n",
    "empltbl4.shape"
   ]
  },
  {
   "cell_type": "code",
   "execution_count": null,
   "metadata": {
    "collapsed": false
   },
   "outputs": [],
   "source": [
    "sdf4 = summarize_dataframe2(empltbl4)"
   ]
  },
  {
   "cell_type": "code",
   "execution_count": null,
   "metadata": {
    "collapsed": false
   },
   "outputs": [],
   "source": [
    "sdf4[sdf4.datatype=='object']"
   ]
  },
  {
   "cell_type": "code",
   "execution_count": null,
   "metadata": {
    "collapsed": false
   },
   "outputs": [],
   "source": [
    "# convert ethnic_group to int\n",
    "empltbl4['ETHNIC_GROUP'] = empltbl4['ETHNIC_GROUP'].apply(lambda x: int(x))"
   ]
  },
  {
   "cell_type": "code",
   "execution_count": null,
   "metadata": {
    "collapsed": false
   },
   "outputs": [],
   "source": [
    "empltbl4.STATE.value_counts()[empltbl4.STATE.value_counts()<50]"
   ]
  },
  {
   "cell_type": "code",
   "execution_count": null,
   "metadata": {
    "collapsed": false
   },
   "outputs": [],
   "source": [
    "empltbl4.LOC_STATE.value_counts()[empltbl4.LOC_STATE.value_counts()<50]"
   ]
  },
  {
   "cell_type": "code",
   "execution_count": null,
   "metadata": {
    "collapsed": false
   },
   "outputs": [],
   "source": [
    "empltbl4[empltbl4.STATE=='HH'][['status','LOC_STATE','STATE','KEY']]#in [11,29]]"
   ]
  },
  {
   "cell_type": "code",
   "execution_count": null,
   "metadata": {
    "collapsed": false
   },
   "outputs": [],
   "source": [
    "empltbl[empltbl.STATE=='BC'][['KEY','LOC_STATE','STATE','status','POSTAL_SFI','ADDRESS1','ADDRESS2','TERMINATION_DT','GRADE','LOCATION']]"
   ]
  },
  {
   "cell_type": "code",
   "execution_count": null,
   "metadata": {
    "collapsed": false
   },
   "outputs": [],
   "source": [
    "empltbl[empltbl.KEY=='811710100533306'].values\n",
    "#empltbl[empltbl.KEY=='296979068916747'].values"
   ]
  },
  {
   "cell_type": "code",
   "execution_count": null,
   "metadata": {
    "collapsed": false
   },
   "outputs": [],
   "source": [
    "empltbl[empltbl.KEY=='811710100533306'][['ADDRESS1','ADDRESS2','LOCATION','POSTAL_SFI']]"
   ]
  },
  {
   "cell_type": "code",
   "execution_count": null,
   "metadata": {
    "collapsed": false
   },
   "outputs": [],
   "source": [
    "empltbl4.SEX.value_counts()\n",
    "empltbl4['COMP_FREQ_ANNUAL'] = 1\n",
    "empltbl4.loc[empltbl4['COMP_FREQUENCY']=='H','COMP_FREQ_ANNUAL'] = 0\n",
    "#empltbl4.drop('COMP_FREQUENCY',axis=1,inplace=True)\n",
    "\n",
    "# now deal with male,female\n",
    "empltbl4.replace({'SEX':{'M': 1,'F':0}},inplace=True)\n",
    "empltbl4[['COMP_FREQ_ANNUAL','SEX','SHIFT']].head()"
   ]
  },
  {
   "cell_type": "code",
   "execution_count": null,
   "metadata": {
    "collapsed": false
   },
   "outputs": [],
   "source": [
    "empltbl4.COMP_FREQ_ANNUAL.value_counts()"
   ]
  },
  {
   "cell_type": "code",
   "execution_count": null,
   "metadata": {
    "collapsed": false
   },
   "outputs": [],
   "source": [
    "empltbl4.drop('COMP_FREQUENCY',axis=1,inplace=True)\n",
    "empltbl4.drop('STATE',axis=1,inplace=True)\n",
    "empltbl4.shape\n"
   ]
  },
  {
   "cell_type": "code",
   "execution_count": null,
   "metadata": {
    "collapsed": true
   },
   "outputs": [],
   "source": [
    "# assign 1 to Y, 0 to N for the following columns\n",
    "columns_to_fix_NY = ['INTERN','FULLPART1','RELOCATE_ALL_SFI','HUBIND','REMOTE','REMOTE_SUPV','SUPV_DIFF_LOC','PARTFULL1']\n",
    "for acol in columns_to_fix_NY:\n",
    "    empltbl4.replace({acol :{'Y':1,'N':0}},inplace=True) "
   ]
  },
  {
   "cell_type": "code",
   "execution_count": null,
   "metadata": {
    "collapsed": true
   },
   "outputs": [],
   "source": [
    "cols_to_cat = ['FLSA_STATUS','FULL_PART_TIME','SHIFT','EMPL_TYPE','COMPANY','ETHNIC_GROUP','EEO1CODE','EMPL_CLASS','JOB_FUNCTION']"
   ]
  },
  {
   "cell_type": "code",
   "execution_count": null,
   "metadata": {
    "collapsed": false
   },
   "outputs": [],
   "source": [
    "sdf4.sort(['arity','datatype'],ascending =True)[sdf4.arity > 9]"
   ]
  },
  {
   "cell_type": "code",
   "execution_count": null,
   "metadata": {
    "collapsed": false
   },
   "outputs": [],
   "source": [
    "## convert HIRE_DT to HIRE_YEAR\n",
    "[c for c in empltbl4.columns if c.endswith('DT')]"
   ]
  },
  {
   "cell_type": "code",
   "execution_count": null,
   "metadata": {
    "collapsed": false
   },
   "outputs": [],
   "source": [
    "empltbl4['retired'] = empltbl4.ACTRES1.apply(lambda x: identify_retired(x))\n",
    "sum(empltbl4.retired==1)"
   ]
  },
  {
   "cell_type": "code",
   "execution_count": null,
   "metadata": {
    "collapsed": false
   },
   "outputs": [],
   "source": [
    "# encode the VOLINVOL column as ['INVOLUNTARY':2,'VOLUNTARY':1,'NOT':0,'\n",
    "empltbl4['sep_status'] = empltbl4['VOLINVOL'].replace({'NOT':0,'VOLUNTARY':1,'INVOLUNTARY':2,'OTHER':3,'UNKNOWN':3})\n",
    "empltbl4.sep_status.value_counts()"
   ]
  },
  {
   "cell_type": "code",
   "execution_count": null,
   "metadata": {
    "collapsed": true
   },
   "outputs": [],
   "source": [
    "empl = empltbl4.copy()"
   ]
  },
  {
   "cell_type": "code",
   "execution_count": null,
   "metadata": {
    "collapsed": false
   },
   "outputs": [],
   "source": [
    "empl = empltbl4.copy()\n",
    "empl.drop(['VOLINVOL','ACTRES1','HIRE_DT'],axis=1,inplace=True)\n",
    "empl.head()"
   ]
  },
  {
   "cell_type": "code",
   "execution_count": null,
   "metadata": {
    "collapsed": false
   },
   "outputs": [],
   "source": [
    "egrp, bc1 = create_factorized_df(empl,acol)"
   ]
  },
  {
   "cell_type": "code",
   "execution_count": null,
   "metadata": {
    "collapsed": false
   },
   "outputs": [],
   "source": [
    "sgrp, bc1 = create_factorized_dfrized_df(empl,'LOC_STATE')"
   ]
  },
  {
   "cell_type": "code",
   "execution_count": null,
   "metadata": {
    "collapsed": true
   },
   "outputs": [],
   "source": [
    "more_cols_to_cat = ['LOC_STATE','GRADE','EXT_FUNC_ID_SFI','JOB_FAMILY']"
   ]
  },
  {
   "cell_type": "code",
   "execution_count": null,
   "metadata": {
    "collapsed": false
   },
   "outputs": [],
   "source": [
    "## remove sep_status == 3\n",
    "empl=empl[empl.sep_status<3].copy()\n",
    "empl.shape"
   ]
  },
  {
   "cell_type": "code",
   "execution_count": null,
   "metadata": {
    "collapsed": false
   },
   "outputs": [],
   "source": [
    "for acol in more_cols_to_cat[:2]:\n",
    "    print acol\n",
    "    t_df,bc1 = create_factorized_df(empl,acol)\n",
    "    # drop the original column\n",
    "    empl.drop(acol,inplace=True,axis=1)\n",
    "    # append the factorized categories\n",
    "    empl = pd.concat([empl,t_df],axis=1)\n",
    "    base_category_list.append(bc1)\n"
   ]
  },
  {
   "cell_type": "code",
   "execution_count": null,
   "metadata": {
    "collapsed": false
   },
   "outputs": [],
   "source": [
    "empl.shape"
   ]
  },
  {
   "cell_type": "code",
   "execution_count": null,
   "metadata": {
    "collapsed": true
   },
   "outputs": [],
   "source": []
  },
  {
   "cell_type": "code",
   "execution_count": null,
   "metadata": {
    "collapsed": false
   },
   "outputs": [],
   "source": [
    "## save this to a file\n",
    "empl.drop(more_cols_to_cat[2:],axis=1,inplace=True)\n",
    "empl.drop('KEY',axis=1,inplace=True)\n",
    "empl.to_csv('employee_dataframe5.tsv',sep='\\t',index =False)"
   ]
  },
  {
   "cell_type": "markdown",
   "metadata": {
    "collapsed": true
   },
   "source": [
    "#### create integers for times; required for CoxPH in H2O."
   ]
  },
  {
   "cell_type": "code",
   "execution_count": null,
   "metadata": {
    "collapsed": false
   },
   "outputs": [],
   "source": [
    "empl[['Age','Tenure']] = empl[['Age_years','Tenure_years']].applymap(lambda x: int(round(x,0)))"
   ]
  },
  {
   "cell_type": "code",
   "execution_count": null,
   "metadata": {
    "collapsed": false
   },
   "outputs": [],
   "source": [
    "empl[['Age','Age_years']].head()"
   ]
  },
  {
   "cell_type": "code",
   "execution_count": null,
   "metadata": {
    "collapsed": false
   },
   "outputs": [],
   "source": [
    "empl.to_csv('employee_dataframe6.tsv',sep='\\t',index =False)"
   ]
  },
  {
   "cell_type": "code",
   "execution_count": null,
   "metadata": {
    "collapsed": false
   },
   "outputs": [],
   "source": [
    "sdfB = summarize_dataframe2(empl)"
   ]
  },
  {
   "cell_type": "code",
   "execution_count": null,
   "metadata": {
    "collapsed": false
   },
   "outputs": [],
   "source": [
    "sdfB.sort('arity')"
   ]
  },
  {
   "cell_type": "code",
   "execution_count": null,
   "metadata": {
    "collapsed": false
   },
   "outputs": [],
   "source": [
    "\n",
    "#empl.FUNC_ID_SFI.value_counts()"
   ]
  },
  {
   "cell_type": "code",
   "execution_count": null,
   "metadata": {
    "collapsed": false
   },
   "outputs": [],
   "source": [
    "def convert_to_int(x):\n",
    "    try:\n",
    "        x=int(x)\n",
    "    except:\n",
    "        x=-1\n",
    "    return x\n",
    "\n",
    "empl.FUNC_ID_SFI = empl.FUNC_ID_SFI.apply(lambda x: convert_to_int(x))\n",
    "len(empl.FUNC_ID_SFI.unique())"
   ]
  },
  {
   "cell_type": "code",
   "execution_count": null,
   "metadata": {
    "collapsed": false
   },
   "outputs": [],
   "source": [
    "len(empl)"
   ]
  },
  {
   "cell_type": "code",
   "execution_count": null,
   "metadata": {
    "collapsed": true
   },
   "outputs": [],
   "source": [
    "empl.drop(['LOCATION','LEGACY_DEPT_SFI','Tenure_months'],axis=1,inplace=True)"
   ]
  },
  {
   "cell_type": "code",
   "execution_count": null,
   "metadata": {
    "collapsed": true
   },
   "outputs": [],
   "source": [
    "empl.to_csv('employee_dataframe5.tsv',sep='\\t',ignore_index =True)"
   ]
  },
  {
   "cell_type": "code",
   "execution_count": null,
   "metadata": {
    "collapsed": false
   },
   "outputs": [],
   "source": [
    "[c for c  in enumerate(list(empl.columns))]"
   ]
  },
  {
   "cell_type": "code",
   "execution_count": null,
   "metadata": {
    "collapsed": false
   },
   "outputs": [],
   "source": [
    "empl.loc[:2000,'status'].value_counts()"
   ]
  },
  {
   "cell_type": "code",
   "execution_count": null,
   "metadata": {
    "collapsed": false
   },
   "outputs": [],
   "source": [
    "empl.loc[:2000,'retired'].value_counts()"
   ]
  },
  {
   "cell_type": "code",
   "execution_count": null,
   "metadata": {
    "collapsed": false
   },
   "outputs": [],
   "source": [
    "sum(empl.retired==1)"
   ]
  },
  {
   "cell_type": "code",
   "execution_count": null,
   "metadata": {
    "collapsed": false
   },
   "outputs": [],
   "source": [
    "empl.loc[:4000,'retired'].value_counts()\n"
   ]
  },
  {
   "cell_type": "code",
   "execution_count": null,
   "metadata": {
    "collapsed": true
   },
   "outputs": [],
   "source": [
    "#X = patsy.dmatrix('Age_years + COMPANY + INTERN + SEX',empltbl4, return_type='dataframe')\n",
    "#X.columns\n",
    "aaf = AalenAdditiveFitter(penalizer=1.0, fit_intercept=True)\n",
    "X['T'] = empltbl4['Tenure_years']\n",
    "X['E'] = empltbl4['status']"
   ]
  },
  {
   "cell_type": "code",
   "execution_count": null,
   "metadata": {
    "collapsed": true
   },
   "outputs": [],
   "source": [
    "empl.Age_years"
   ]
  },
  {
   "cell_type": "code",
   "execution_count": null,
   "metadata": {
    "collapsed": false
   },
   "outputs": [],
   "source": [
    "Xft = patsy.dmatrix( 'Age_years +ANNUAL_RT+PERF1+INTERN+SEX',empl,return_type='dataframe')\n",
    "Xft.shape"
   ]
  },
  {
   "cell_type": "code",
   "execution_count": null,
   "metadata": {
    "collapsed": true
   },
   "outputs": [],
   "source": [
    "Xft['T'] = empl.Tenure_years#empl.ix[:4010]['Tenure_years']\n",
    "Xft['E']=empl.retired#empl.ix[:4010]['retired']"
   ]
  },
  {
   "cell_type": "code",
   "execution_count": null,
   "metadata": {
    "collapsed": false
   },
   "outputs": [],
   "source": [
    "aaf_ret = AalenAdditiveFitter(penalizer=1.0, fit_intercept=True)\n",
    "aaf_ret.fit(Xft,'T','E')"
   ]
  },
  {
   "cell_type": "code",
   "execution_count": null,
   "metadata": {
    "collapsed": false
   },
   "outputs": [],
   "source": [
    "aaf_ret.plot(columns=['baseline','Age_years','INTERN','SEX','ANNUAL_RT'],ix=slice(1,15))"
   ]
  },
  {
   "cell_type": "code",
   "execution_count": null,
   "metadata": {
    "collapsed": false
   },
   "outputs": [],
   "source": [
    "from lifelines import CoxPHFitter\n",
    "cf = CoxPHFitter()"
   ]
  },
  {
   "cell_type": "code",
   "execution_count": null,
   "metadata": {
    "collapsed": false
   },
   "outputs": [],
   "source": [
    "%%time \n",
    "cf.fit(Xft[Xft.columns[1:]],'T','E')"
   ]
  },
  {
   "cell_type": "code",
   "execution_count": null,
   "metadata": {
    "collapsed": false
   },
   "outputs": [],
   "source": [
    "cf.summary()"
   ]
  },
  {
   "cell_type": "code",
   "execution_count": null,
   "metadata": {
    "collapsed": false
   },
   "outputs": [],
   "source": [
    "few_columns1=['Age_years','ANNUAL_RT','PERF1','INTERN','SEX','Tenure_years','retired']\n",
    "reduced1 = empl.loc[:,few_columns1].copy()\n",
    "reduced1.shape"
   ]
  },
  {
   "cell_type": "code",
   "execution_count": null,
   "metadata": {
    "collapsed": false
   },
   "outputs": [],
   "source": [
    "%%time \n",
    "cf.fit(reduced1,'Tenure_years','retired')"
   ]
  },
  {
   "cell_type": "code",
   "execution_count": null,
   "metadata": {
    "collapsed": false
   },
   "outputs": [],
   "source": [
    "cf.summary()"
   ]
  },
  {
   "cell_type": "code",
   "execution_count": null,
   "metadata": {
    "collapsed": false
   },
   "outputs": [],
   "source": [
    "cf.confidence_intervals_.head()"
   ]
  },
  {
   "cell_type": "code",
   "execution_count": null,
   "metadata": {
    "collapsed": false
   },
   "outputs": [],
   "source": [
    "cf.hazards_.head()"
   ]
  },
  {
   "cell_type": "code",
   "execution_count": null,
   "metadata": {
    "collapsed": false
   },
   "outputs": [],
   "source": [
    "sum(aaf_ret.event_observed)"
   ]
  },
  {
   "cell_type": "code",
   "execution_count": null,
   "metadata": {
    "collapsed": true
   },
   "outputs": [],
   "source": [
    "from lifelines.utils import k_fold_cross_validation\n",
    "xv_cf = CoxPHFitter()\n",
    "cf_scores = k_fold_cross_validation(xv_cf, reduced1,duration_col='Tenure_years',event_col='retired',k=10)"
   ]
  },
  {
   "cell_type": "code",
   "execution_count": null,
   "metadata": {
    "collapsed": false
   },
   "outputs": [],
   "source": [
    "cf_scores.mean(), cf_scores.std()"
   ]
  },
  {
   "cell_type": "code",
   "execution_count": null,
   "metadata": {
    "collapsed": false
   },
   "outputs": [],
   "source": [
    "xv_cf.hazards_"
   ]
  },
  {
   "cell_type": "code",
   "execution_count": null,
   "metadata": {
    "collapsed": false
   },
   "outputs": [],
   "source": [
    "reduced1.ix[44]"
   ]
  },
  {
   "cell_type": "code",
   "execution_count": null,
   "metadata": {
    "collapsed": false
   },
   "outputs": [],
   "source": [
    "np.shape(reduced1.iloc[4:5,:-2].values)\n",
    "retired_sf_avg = xv_cf.predict_survival_function(reduced1[reduced1.retired==1][reduced1.columns[:-2]].values).mean(axis=1)#.plot()#.iloc[34:35,:-2].values).plot()"
   ]
  },
  {
   "cell_type": "code",
   "execution_count": null,
   "metadata": {
    "collapsed": true
   },
   "outputs": [],
   "source": [
    "notretired_sf_avg = xv_cf.predict_survival_function(reduced1[reduced1.retired==0][reduced1.columns[:-2]].values).mean(axis=1)"
   ]
  },
  {
   "cell_type": "code",
   "execution_count": null,
   "metadata": {
    "collapsed": false
   },
   "outputs": [],
   "source": [
    "xv_cf.predict_survival_function(re"
   ]
  },
  {
   "cell_type": "code",
   "execution_count": null,
   "metadata": {
    "collapsed": false
   },
   "outputs": [],
   "source": [
    "retired_sf_avg.plot(label='retired')\n",
    "notretired_sf_avg.plot(label='not-retired')\n",
    "plt.xlabel('Tenure Years')\n",
    "plt.ylabel('Predicted Survival Function')"
   ]
  },
  {
   "cell_type": "code",
   "execution_count": null,
   "metadata": {
    "collapsed": false
   },
   "outputs": [],
   "source": [
    "reduced1.iloc[24:25,:-2]"
   ]
  },
  {
   "cell_type": "code",
   "execution_count": null,
   "metadata": {
    "collapsed": false
   },
   "outputs": [],
   "source": [
    "cf.baseline_survival_.plot()"
   ]
  },
  {
   "cell_type": "markdown",
   "metadata": {
    "collapsed": true
   },
   "source": [
    "## examining relationships (correlations) between columns"
   ]
  },
  {
   "cell_type": "code",
   "execution_count": null,
   "metadata": {
    "collapsed": false
   },
   "outputs": [],
   "source": [
    "empl[['Tenure_years','hire_year']].corr()"
   ]
  },
  {
   "cell_type": "code",
   "execution_count": null,
   "metadata": {
    "collapsed": false
   },
   "outputs": [],
   "source": [
    "empl.plot(kind='scatter',x='Tenure_years',y='hire_year',\n",
    "          alpha=0.3)"
   ]
  },
  {
   "cell_type": "code",
   "execution_count": null,
   "metadata": {
    "collapsed": false
   },
   "outputs": [],
   "source": [
    "empl.plot(kind='scatter',x='hire_year',y='Age_years',\n",
    "          alpha=0.3)"
   ]
  },
  {
   "cell_type": "code",
   "execution_count": null,
   "metadata": {
    "collapsed": false
   },
   "outputs": [],
   "source": [
    "[x for x in empl.columns if x.endswith('MOS')]"
   ]
  },
  {
   "cell_type": "code",
   "execution_count": null,
   "metadata": {
    "collapsed": false
   },
   "outputs": [],
   "source": [
    "empl.plot(kind='scatter',x='CUR_LOC_MOS',y='CUR_DEPT_MOS',color='chartreuse',          alpha=0.3)"
   ]
  },
  {
   "cell_type": "code",
   "execution_count": null,
   "metadata": {
    "collapsed": false
   },
   "outputs": [],
   "source": [
    "pd.crosstab(empl.CUR_DEPT_MOS,empl.CUR_FUNC_MOS)"
   ]
  },
  {
   "cell_type": "code",
   "execution_count": null,
   "metadata": {
    "collapsed": false
   },
   "outputs": [],
   "source": [
    "empl.Tenure.describe()\n"
   ]
  },
  {
   "cell_type": "code",
   "execution_count": null,
   "metadata": {
    "collapsed": false
   },
   "outputs": [],
   "source": [
    "empl.Tenure.hist(bins=65,color='steelblue')"
   ]
  },
  {
   "cell_type": "markdown",
   "metadata": {
    "collapsed": true
   },
   "source": [
    "## EXPLORE more about some of these features.\n",
    "* especially ones that may be missing or zeroed out\n",
    "* SAL1, MIN_RT_ANNUAL"
   ]
  },
  {
   "cell_type": "code",
   "execution_count": null,
   "metadata": {
    "collapsed": false
   },
   "outputs": [],
   "source": [
    "empl.MIN_RT_ANNUAL.describe()"
   ]
  },
  {
   "cell_type": "code",
   "execution_count": null,
   "metadata": {
    "collapsed": false
   },
   "outputs": [],
   "source": [
    "sum(empl.MIN_RT_ANNUAL==0.0), sum(empl.MAX_RT_ANNUAL==0.0)"
   ]
  },
  {
   "cell_type": "code",
   "execution_count": null,
   "metadata": {
    "collapsed": false
   },
   "outputs": [],
   "source": [
    "empl[empl.MIN_RT_ANNUAL==0.0]['Tenure'].hist(range=[0,64],normed=True,bins=65)\n",
    "empl[empl.MIN_RT_ANNUAL!=0.0]['Tenure'].hist(range=[0,64],normed=True,bins=65,alpha=0.6)"
   ]
  },
  {
   "cell_type": "code",
   "execution_count": null,
   "metadata": {
    "collapsed": false
   },
   "outputs": [],
   "source": [
    "empl[empl.MIN_RT_ANNUAL>0].MIN_RT_ANNUAL.hist(bins=30)"
   ]
  },
  {
   "cell_type": "code",
   "execution_count": null,
   "metadata": {
    "collapsed": false
   },
   "outputs": [],
   "source": [
    "empl[empl.MIN_RT_ANNUAL>1].MIN_RT_ANNUAL.describe()"
   ]
  },
  {
   "cell_type": "code",
   "execution_count": null,
   "metadata": {
    "collapsed": false
   },
   "outputs": [],
   "source": [
    "empl[empl.MAX_RT_ANNUAL>1].MAX_RT_ANNUAL.describe()"
   ]
  },
  {
   "cell_type": "code",
   "execution_count": null,
   "metadata": {
    "collapsed": false
   },
   "outputs": [],
   "source": [
    "print empl.TELE_MOS.describe()\n",
    "empl.plot(kind='scatter', x='TELE_MOS',y='status')"
   ]
  },
  {
   "cell_type": "code",
   "execution_count": null,
   "metadata": {
    "collapsed": false
   },
   "outputs": [],
   "source": [
    "[c for c in empl.columns if c.startswith('JOB_FUNCTION')]\n",
    "#pd.crosstab(empl.GRADE_MA1,empl.JOB_FUNCTION_OTH)"
   ]
  },
  {
   "cell_type": "code",
   "execution_count": null,
   "metadata": {
    "collapsed": false
   },
   "outputs": [],
   "source": [
    "pd.crosstab(empltbl4.GRADE,empltbl4.JOB_FUNCTION)"
   ]
  },
  {
   "cell_type": "code",
   "execution_count": null,
   "metadata": {
    "collapsed": true
   },
   "outputs": [],
   "source": []
  }
 ],
 "metadata": {
  "kernelspec": {
   "display_name": "Python 2",
   "language": "python",
   "name": "python2"
  }
 },
 "nbformat": 4,
 "nbformat_minor": 0
}
