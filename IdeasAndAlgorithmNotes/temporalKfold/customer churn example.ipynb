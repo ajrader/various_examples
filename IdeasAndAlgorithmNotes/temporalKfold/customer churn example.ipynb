{
 "cells": [
  {
   "cell_type": "markdown",
   "metadata": {},
   "source": [
    "# Predicting customer Churn\n",
    "yhat example at http://blog.yhathq.com/posts/predicting-customer-churn-with-sklearn.html\n",
    "\n",
    "\n",
    "data provided from their website"
   ]
  },
  {
   "cell_type": "code",
   "execution_count": 1,
   "metadata": {
    "collapsed": true
   },
   "outputs": [],
   "source": [
    "inputfile = '/san-data/personal/kesj/public_data/churn.csv'"
   ]
  },
  {
   "cell_type": "code",
   "execution_count": 2,
   "metadata": {
    "collapsed": true
   },
   "outputs": [],
   "source": [
    "from __future__ import division\n",
    "import pandas as pd\n",
    "import numpy as np"
   ]
  },
  {
   "cell_type": "code",
   "execution_count": 3,
   "metadata": {
    "collapsed": true
   },
   "outputs": [],
   "source": [
    "churn_df = pd.read_csv(inputfile)\n",
    "col_names = churn_df.columns.tolist()"
   ]
  },
  {
   "cell_type": "code",
   "execution_count": 4,
   "metadata": {
    "collapsed": false
   },
   "outputs": [
    {
     "name": "stdout",
     "output_type": "stream",
     "text": [
      "column names:\n",
      "['State', 'Account Length', 'Area Code', 'Phone', \"Int'l Plan\", 'VMail Plan', 'VMail Message', 'Day Mins', 'Day Calls', 'Day Charge', 'Eve Mins', 'Eve Calls', 'Eve Charge', 'Night Mins', 'Night Calls', 'Night Charge', 'Intl Mins', 'Intl Calls', 'Intl Charge', 'CustServ Calls', 'Churn?']\n"
     ]
    }
   ],
   "source": [
    "print \"column names:\"\n",
    "print col_names"
   ]
  },
  {
   "cell_type": "code",
   "execution_count": 5,
   "metadata": {
    "collapsed": true
   },
   "outputs": [],
   "source": [
    "# focus on 1st 6 and last 6 columns\n",
    "to_show = col_names[:6] + col_names[-6:]"
   ]
  },
  {
   "cell_type": "code",
   "execution_count": 6,
   "metadata": {
    "collapsed": false
   },
   "outputs": [
    {
     "name": "stdout",
     "output_type": "stream",
     "text": [
      "\n",
      "Sample data:\n"
     ]
    },
    {
     "data": {
      "text/html": [
       "<div style=\"max-height:1000px;max-width:1500px;overflow:auto;\">\n",
       "<table border=\"1\" class=\"dataframe\">\n",
       "  <thead>\n",
       "    <tr style=\"text-align: right;\">\n",
       "      <th></th>\n",
       "      <th>State</th>\n",
       "      <th>Account Length</th>\n",
       "      <th>Area Code</th>\n",
       "      <th>Phone</th>\n",
       "      <th>Int'l Plan</th>\n",
       "      <th>VMail Plan</th>\n",
       "      <th>Night Charge</th>\n",
       "      <th>Intl Mins</th>\n",
       "      <th>Intl Calls</th>\n",
       "      <th>Intl Charge</th>\n",
       "      <th>CustServ Calls</th>\n",
       "      <th>Churn?</th>\n",
       "    </tr>\n",
       "  </thead>\n",
       "  <tbody>\n",
       "    <tr>\n",
       "      <th>0</th>\n",
       "      <td> KS</td>\n",
       "      <td> 128</td>\n",
       "      <td> 415</td>\n",
       "      <td> 382-4657</td>\n",
       "      <td>  no</td>\n",
       "      <td> yes</td>\n",
       "      <td> 11.01</td>\n",
       "      <td> 10.0</td>\n",
       "      <td> 3</td>\n",
       "      <td> 2.70</td>\n",
       "      <td> 1</td>\n",
       "      <td> False.</td>\n",
       "    </tr>\n",
       "    <tr>\n",
       "      <th>1</th>\n",
       "      <td> OH</td>\n",
       "      <td> 107</td>\n",
       "      <td> 415</td>\n",
       "      <td> 371-7191</td>\n",
       "      <td>  no</td>\n",
       "      <td> yes</td>\n",
       "      <td> 11.45</td>\n",
       "      <td> 13.7</td>\n",
       "      <td> 3</td>\n",
       "      <td> 3.70</td>\n",
       "      <td> 1</td>\n",
       "      <td> False.</td>\n",
       "    </tr>\n",
       "    <tr>\n",
       "      <th>2</th>\n",
       "      <td> NJ</td>\n",
       "      <td> 137</td>\n",
       "      <td> 415</td>\n",
       "      <td> 358-1921</td>\n",
       "      <td>  no</td>\n",
       "      <td>  no</td>\n",
       "      <td>  7.32</td>\n",
       "      <td> 12.2</td>\n",
       "      <td> 5</td>\n",
       "      <td> 3.29</td>\n",
       "      <td> 0</td>\n",
       "      <td> False.</td>\n",
       "    </tr>\n",
       "    <tr>\n",
       "      <th>3</th>\n",
       "      <td> OH</td>\n",
       "      <td>  84</td>\n",
       "      <td> 408</td>\n",
       "      <td> 375-9999</td>\n",
       "      <td> yes</td>\n",
       "      <td>  no</td>\n",
       "      <td>  8.86</td>\n",
       "      <td>  6.6</td>\n",
       "      <td> 7</td>\n",
       "      <td> 1.78</td>\n",
       "      <td> 2</td>\n",
       "      <td> False.</td>\n",
       "    </tr>\n",
       "    <tr>\n",
       "      <th>4</th>\n",
       "      <td> OK</td>\n",
       "      <td>  75</td>\n",
       "      <td> 415</td>\n",
       "      <td> 330-6626</td>\n",
       "      <td> yes</td>\n",
       "      <td>  no</td>\n",
       "      <td>  8.41</td>\n",
       "      <td> 10.1</td>\n",
       "      <td> 3</td>\n",
       "      <td> 2.73</td>\n",
       "      <td> 3</td>\n",
       "      <td> False.</td>\n",
       "    </tr>\n",
       "    <tr>\n",
       "      <th>5</th>\n",
       "      <td> AL</td>\n",
       "      <td> 118</td>\n",
       "      <td> 510</td>\n",
       "      <td> 391-8027</td>\n",
       "      <td> yes</td>\n",
       "      <td>  no</td>\n",
       "      <td>  9.18</td>\n",
       "      <td>  6.3</td>\n",
       "      <td> 6</td>\n",
       "      <td> 1.70</td>\n",
       "      <td> 0</td>\n",
       "      <td> False.</td>\n",
       "    </tr>\n",
       "  </tbody>\n",
       "</table>\n",
       "</div>"
      ],
      "text/plain": [
       "  State  Account Length  Area Code     Phone Int'l Plan VMail Plan  \\\n",
       "0    KS             128        415  382-4657         no        yes   \n",
       "1    OH             107        415  371-7191         no        yes   \n",
       "2    NJ             137        415  358-1921         no         no   \n",
       "3    OH              84        408  375-9999        yes         no   \n",
       "4    OK              75        415  330-6626        yes         no   \n",
       "5    AL             118        510  391-8027        yes         no   \n",
       "\n",
       "   Night Charge  Intl Mins  Intl Calls  Intl Charge  CustServ Calls  Churn?  \n",
       "0         11.01       10.0           3         2.70               1  False.  \n",
       "1         11.45       13.7           3         3.70               1  False.  \n",
       "2          7.32       12.2           5         3.29               0  False.  \n",
       "3          8.86        6.6           7         1.78               2  False.  \n",
       "4          8.41       10.1           3         2.73               3  False.  \n",
       "5          9.18        6.3           6         1.70               0  False.  "
      ]
     },
     "execution_count": 6,
     "metadata": {},
     "output_type": "execute_result"
    }
   ],
   "source": [
    "print \"\\nSample data:\"\n",
    "churn_df[to_show].head(6)"
   ]
  },
  {
   "cell_type": "code",
   "execution_count": 7,
   "metadata": {
    "collapsed": false
   },
   "outputs": [
    {
     "name": "stdout",
     "output_type": "stream",
     "text": [
      "Feature space holds 3333 observations and 17 features\n",
      "Unique target labels: [0 1]\n"
     ]
    }
   ],
   "source": [
    "# Isolate target data\n",
    "churn_result = churn_df['Churn?']\n",
    "y = np.where(churn_result == 'True.',1,0)\n",
    "\n",
    "# We don't need these columns\n",
    "to_drop = ['State','Area Code','Phone','Churn?']\n",
    "churn_feat_space = churn_df.drop(to_drop,axis=1)\n",
    "\n",
    "# 'yes'/'no' has to be converted to boolean values\n",
    "# NumPy converts these from boolean to 1. and 0. later\n",
    "yes_no_cols = [\"Int'l Plan\",\"VMail Plan\"]\n",
    "churn_feat_space[yes_no_cols] = churn_feat_space[yes_no_cols] == 'yes'\n",
    "\n",
    "# Pull out features for future use\n",
    "features = churn_feat_space.columns\n",
    "\n",
    "X = churn_feat_space.as_matrix().astype(np.float)\n",
    "\n",
    "# This is important\n",
    "from sklearn.preprocessing import StandardScaler\n",
    "scaler = StandardScaler()\n",
    "X = scaler.fit_transform(X)\n",
    "\n",
    "print \"Feature space holds %d observations and %d features\" % X.shape\n",
    "print \"Unique target labels:\", np.unique(y)\n",
    "      "
   ]
  },
  {
   "cell_type": "markdown",
   "metadata": {},
   "source": [
    "#### Note that standardscaler  ensures that each feature is normalized to a range of [-1.0, 1.0]. This prevents some models from misbehaving, i.e. thinking order of magnitude of the feature determines importance. "
   ]
  },
  {
   "cell_type": "code",
   "execution_count": 8,
   "metadata": {
    "collapsed": false
   },
   "outputs": [
    {
     "data": {
      "text/plain": [
       "483"
      ]
     },
     "execution_count": 8,
     "metadata": {},
     "output_type": "execute_result"
    }
   ],
   "source": [
    "y.sum()"
   ]
  },
  {
   "cell_type": "code",
   "execution_count": null,
   "metadata": {
    "collapsed": true
   },
   "outputs": [],
   "source": []
  }
 ],
 "metadata": {
  "kernelspec": {
   "display_name": "Python 2",
   "language": "python",
   "name": "python2"
  },
  "language_info": {
   "codemirror_mode": {
    "name": "ipython",
    "version": 2
   },
   "file_extension": ".py",
   "mimetype": "text/x-python",
   "name": "python",
   "nbconvert_exporter": "python",
   "pygments_lexer": "ipython2",
   "version": "2.7.8"
  }
 },
 "nbformat": 4,
 "nbformat_minor": 0
}
