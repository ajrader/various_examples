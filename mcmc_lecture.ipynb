<!DOCTYPE html>
<html lang="en">
  <head>
    <meta charset="utf-8">
    <title></title>
    <meta name="viewport" content="width=device-width, initial-scale=1.0">
    <meta name="description" content="">
    <meta name="author" content="">
    <!--NEW RELIC Start Perf Measurement-->
    <script type="text/javascript">var NREUMQ=NREUMQ||[];NREUMQ.push(["mark","firstbyte",new Date().getTime()]);</script>
    <!--NREND-->

    <!-- Le styles -->
    <!--<link href="/static/css/bootstrap.css" rel="stylesheet">-->
    <link href="/static/css/docs.css" rel="stylesheet">
    <link href="/static/js/google-code-prettify/prettify.css" rel="stylesheet">
    <link href="/static/style.min.css" rel="stylesheet">
    <link href="/static/css/bootstrap-responsive.css" rel="stylesheet">

    <!-- Le HTML5 shim, for IE6-8 support of HTML5 elements -->
    <!--[if lt IE 9]>
      <script src="http://html5shim.googlecode.com/svn/trunk/html5.js"></script>
    <![endif]-->

    <!-- Le fav and touch icons -->
    <link rel="shortcut icon" href="/static/ico/ipynb_icon_16x16.png">
    <link rel="apple-touch-icon-precomposed" sizes="144x144" href="/static/ico/apple-touch-icon-144-precomposed.png">
    <link rel="apple-touch-icon-precomposed" sizes="114x114" href="/static/ico/apple-touch-icon-114-precomposed.png">
    <link rel="apple-touch-icon-precomposed" sizes="72x72" href="/static/ico/apple-touch-icon-72-precomposed.png">
    <link rel="apple-touch-icon-precomposed" href="/static/ico/apple-touch-icon-57-precomposed.png">
    
    <style type="text/css" media='screen and (min-width:980px)'>
    .navbar-inner {
        opacity: 0.5;
        transition: opacity 0.5s ease-in-out;
        -webkit-transition: opacity 0.5s ease-in-out;
    }

    .navbar-inner ul{
        opacity: 0.5;
        transition: opacity 0.5s ease-in-out;
        -webkit-transition: opacity 0.5s ease-in-out;
    }

    body{
        padding-top:50px;
    }

    </style>
    <style type="text/css" >
    .imgwrap {
        text-align: center;
    }
    .input_area{
        padding: 0.4em;
    }
    div.input_area > div.highlight > pre {
        margin: 0px;
    }

    .navbar-inner:hover {
        opacity: 1.0;
    }

    .navbar-inner:hover ul{
        opacity: 1.0;
    }

    </style>
    
    
    <link href="/static/css/pygments.css" rel="stylesheet">
    
    <script src="https://c328740.ssl.cf1.rackcdn.com/mathjax/latest/MathJax.js?config=TeX-AMS_HTML"type="text/javascript">
    </script>
    <script type="text/javascript">
    init_mathjax = function() {
        if (window.MathJax) {
            // MathJax loaded
            MathJax.Hub.Config({
                tex2jax: {
                    inlineMath: [ ['$','$'], ["\\(","\\)"] ],
                    displayMath: [ ['$$','$$'], ["\\[","\\]"] ]
                },
                displayAlign: 'left', // Change this to 'center' to center equations.
                "HTML-CSS": {
                    styles: {'.MathJax_Display': {"margin": 0}}
                }
            });
            MathJax.Hub.Queue(["Typeset",MathJax.Hub]);
        }
    }
    init_mathjax();
    </script>
    
  </head>

  <body data-spy="scroll" data-target=".subnav" data-offset="50">


  <!-- Navbar
  ================================================== -->
    <div class="navbar navbar-fixed-top">
      <div class="navbar-inner">
        <div class="container">
          <button type="button" class="btn btn-navbar" data-toggle="collapse" data-target=".nav-collapse">
            <span class="icon-bar"></span>
            <span class="icon-bar"></span>
            <span class="icon-bar"></span>
          </button>
          <div class="nav-collapse collapse">
            <ul class="nav">
              <li>
                <a href="/">Home</a>
              </li>
              <li>
                <a href="/faq">FAQ</a>
              </li>
              <li class="">
                <a href="http://www.ipython.org">IPython</a>
              </li>
              <li>
              <a href="http://penandpants.com/2012/10/16/open-in-nbviewer-bookmarklet/">Bookmarklet</a>
              </li>
              

            </ul>
              
    <ul class="nav pull-right"> 
        <li class="">
            <a href="https://github.com/profjsb/python-seminar/raw/master/DataFiles_and_Notebooks/10_MCMC_and_Symbolic/mcmc_lecture.ipynb" download="mcmc_lecture.ipynb">Download Notebook</a>
        </li>
    </ul>
    
          </div>
        </div>
      </div>
    </div>
    <div class="container">


    
<div class="text_cell_render border-box-sizing rendered_html">
<h1>$\textbf{Bayesian Inference for the Mining Disaster Data Set}$</h1>
</div>
<div class="cell border-box-sizing code_cell vbox">
<div class="input hbox">
<div class="prompt input_prompt">In&nbsp;[1]:</div>
<div class="input_area box-flex1">
<div class="highlight"><pre><span class="o">%</span><span class="k">pylab</span> <span class="n">inline</span>
<span class="kn">import</span> <span class="nn">DisasterModel</span>
<span class="kn">from</span> <span class="nn">pymc</span> <span class="kn">import</span> <span class="n">MCMC</span>

<span class="c"># instantiate MCMC object to handle our model</span>
<span class="n">M</span> <span class="o">=</span> <span class="n">MCMC</span><span class="p">(</span><span class="n">DisasterModel</span><span class="p">)</span>
</pre></div>

</div>
</div>
<div class="vbox output_wrapper">
<div class="hbox output_area">
<div class="prompt output_prompt"></div>
<div class="output vbox">
<div class="box-flex1 output_subarea output_stream output_stdout">
<pre>
Welcome to pylab, a matplotlib-based Python environment [backend: module://IPython.zmq.pylab.backend_inline].
For more information, type &apos;help(pylab)&apos;.
</pre>
</div>
</div>

</div>
</div>
</div>
<div class="text_cell_render border-box-sizing rendered_html">
<h1>We can visualize the model as a graphical model</h1>
<p>this allows us to check that the model is written as desired (must have pydot and GraphViz installed)</p>
</div>
<div class="cell border-box-sizing code_cell vbox">
<div class="input hbox">
<div class="prompt input_prompt">In&nbsp;[2]:</div>
<div class="input_area box-flex1">
<div class="highlight"><pre><span class="kn">import</span> <span class="nn">pydot</span>
<span class="kn">import</span> <span class="nn">pymc.graph</span>
<span class="n">pymc</span><span class="o">.</span><span class="n">graph</span><span class="o">.</span><span class="n">graph</span><span class="p">(</span><span class="n">M</span><span class="p">,</span><span class="n">format</span><span class="o">=</span><span class="s">&#39;png&#39;</span><span class="p">,</span><span class="n">path</span><span class="o">=</span><span class="s">&#39;&#39;</span><span class="p">,</span><span class="n">name</span><span class="o">=</span><span class="s">&#39;graph_mine&#39;</span><span class="p">,</span><span class="n">prog</span><span class="o">=</span><span class="s">&#39;dot&#39;</span><span class="p">)</span>

<span class="kn">import</span> <span class="nn">scipy.misc</span>
<span class="n">plt</span><span class="o">.</span><span class="n">figure</span><span class="p">(</span><span class="n">figsize</span><span class="o">=</span><span class="p">(</span><span class="mi">8</span><span class="p">,</span> <span class="mi">8</span><span class="p">))</span>
<span class="n">plt</span><span class="o">.</span><span class="n">imshow</span><span class="p">(</span><span class="n">scipy</span><span class="o">.</span><span class="n">misc</span><span class="o">.</span><span class="n">imread</span><span class="p">(</span><span class="s">&#39;graph_mine.png&#39;</span><span class="p">))</span>
</pre></div>

</div>
</div>
<div class="vbox output_wrapper">
<div class="hbox output_area">
<div class="prompt output_prompt">Out[2]:</div>
<div class="output vbox">
<div class="box-flex1 output_subarea output_pyout">

<pre>&lt;matplotlib.image.AxesImage at 0x92b6090&gt;</pre>
</div><div class="box-flex1 output_subarea output_display_data">

<img src="data:image/png;base64,iVBORw0KGgoAAAANSUhEUgAAAacAAAHcCAYAAAByCmWaAAAABHNCSVQICAgIfAhkiAAAAAlwSFlz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"></img>
</div>
</div>

</div>
</div>
</div>
<div class="cell border-box-sizing code_cell vbox">
<div class="input hbox">
<div class="prompt input_prompt">In&nbsp;[3]:</div>
<div class="input_area box-flex1">
<div class="highlight"><pre><span class="c"># current value of parameters</span>
<span class="k">print</span> <span class="s">&#39;current value of s: &#39;</span> <span class="o">+</span> <span class="nb">str</span><span class="p">(</span><span class="n">DisasterModel</span><span class="o">.</span><span class="n">s</span><span class="o">.</span><span class="n">value</span><span class="p">)</span>
<span class="k">print</span> <span class="s">&#39;current value of e: &#39;</span> <span class="o">+</span> <span class="nb">str</span><span class="p">(</span><span class="n">DisasterModel</span><span class="o">.</span><span class="n">e</span><span class="o">.</span><span class="n">value</span><span class="p">)</span>
<span class="k">print</span> <span class="s">&#39;current value of l: &#39;</span> <span class="o">+</span> <span class="nb">str</span><span class="p">(</span><span class="n">DisasterModel</span><span class="o">.</span><span class="n">l</span><span class="o">.</span><span class="n">value</span><span class="p">)</span>
<span class="c">#DisasterModel.r.value</span>
</pre></div>

</div>
</div>
<div class="vbox output_wrapper">
<div class="hbox output_area">
<div class="prompt output_prompt"></div>
<div class="output vbox">
<div class="box-flex1 output_subarea output_stream output_stdout">
<pre>current value of s: 30
current value of e: 0.823562203093
current value of l: 0.178671310508
</pre>
</div>
</div>

</div>
</div>
</div>
<div class="text_cell_render border-box-sizing rendered_html">
<h1>We can draw samples from the posterior using sample,</h1>
<p>but we first need to 'burn in' the MCMC until it converges to a stationary distribution
and thin the chain to overcome auto-correlations in the samples</p>
</div>
<div class="cell border-box-sizing code_cell vbox">
<div class="input hbox">
<div class="prompt input_prompt">In&nbsp;[10]:</div>
<div class="input_area box-flex1">
<div class="highlight"><pre><span class="c"># Run an MCMC chain of length 10,000 with 1000 burn-in and thinning by 10</span>
<span class="c"># using Metropolis-Hastings algorithm</span>
<span class="n">M</span><span class="o">.</span><span class="n">sample</span><span class="p">(</span><span class="nb">iter</span><span class="o">=</span><span class="mi">10000</span><span class="p">,</span> <span class="n">burn</span><span class="o">=</span><span class="mi">1000</span><span class="p">,</span> <span class="n">thin</span><span class="o">=</span><span class="mi">2</span><span class="p">)</span>

<span class="c"># isample does interactive MCMC fitting, sample does non-interactive fitting</span>
</pre></div>

</div>
</div>
</div>
<div class="cell border-box-sizing code_cell vbox">
<div class="input hbox">
<div class="prompt input_prompt">In&nbsp;[8]:</div>
<div class="input_area box-flex1">
<div class="highlight"><pre><span class="c"># we can obtain summary statistics from the MCMC easily</span>
<span class="n">M</span><span class="o">.</span><span class="n">stats</span><span class="p">()</span> <span class="c">#summary statistics</span>
</pre></div>

</div>
</div>
</div>
<div class="cell border-box-sizing code_cell vbox">
<div class="input hbox">
<div class="prompt input_prompt">In&nbsp;[11]:</div>
<div class="input_area box-flex1">
<div class="highlight"><pre><span class="c"># plot trace of the sampler</span>
<span class="n">plt</span><span class="o">.</span><span class="n">figure</span><span class="p">(</span><span class="n">figsize</span><span class="o">=</span><span class="p">(</span><span class="mi">15</span><span class="p">,</span> <span class="mi">8</span><span class="p">))</span>
<span class="n">plt</span><span class="o">.</span><span class="n">plot</span><span class="p">(</span><span class="n">M</span><span class="o">.</span><span class="n">trace</span><span class="p">(</span><span class="s">&#39;s&#39;</span><span class="p">)[:])</span>
</pre></div>

</div>
</div>
</div>
<div class="cell border-box-sizing code_cell vbox">
<div class="input hbox">
<div class="prompt input_prompt">In&nbsp;[12]:</div>
<div class="input_area box-flex1">
<div class="highlight"><pre><span class="c"># plot posterior density for l</span>
<span class="n">plt</span><span class="o">.</span><span class="n">figure</span><span class="p">(</span><span class="n">figsize</span><span class="o">=</span><span class="p">(</span><span class="mi">12</span><span class="p">,</span> <span class="mi">10</span><span class="p">))</span>
<span class="n">plt</span><span class="o">.</span><span class="n">hist</span><span class="p">(</span><span class="n">M</span><span class="o">.</span><span class="n">trace</span><span class="p">(</span><span class="s">&#39;l&#39;</span><span class="p">)[:],</span><span class="n">normed</span><span class="o">=</span><span class="bp">True</span><span class="p">,</span><span class="n">bins</span><span class="o">=</span><span class="mi">20</span><span class="p">)</span>
<span class="n">plt</span><span class="o">.</span><span class="n">xlabel</span><span class="p">(</span><span class="s">&#39;l (disasters per year)&#39;</span><span class="p">,</span><span class="n">fontsize</span><span class="o">=</span><span class="mi">20</span><span class="p">)</span>
<span class="n">plt</span><span class="o">.</span><span class="n">ylabel</span><span class="p">(</span><span class="s">&#39;Posterior Density&#39;</span><span class="p">,</span><span class="n">fontsize</span><span class="o">=</span><span class="mi">20</span><span class="p">)</span>

<span class="c"># plot posterior mean</span>
<span class="n">lpostmean</span> <span class="o">=</span> <span class="n">np</span><span class="o">.</span><span class="n">mean</span><span class="p">(</span><span class="n">M</span><span class="o">.</span><span class="n">trace</span><span class="p">(</span><span class="s">&#39;l&#39;</span><span class="p">)[:])</span>
<span class="n">plt</span><span class="o">.</span><span class="n">plot</span><span class="p">([</span><span class="n">lpostmean</span><span class="p">,</span><span class="n">lpostmean</span><span class="p">],[</span><span class="mi">0</span><span class="p">,</span> <span class="mf">3.5</span><span class="p">],</span><span class="s">&#39;r-&#39;</span><span class="p">,</span><span class="n">linewidth</span><span class="o">=</span><span class="mi">5</span><span class="p">)</span>

<span class="n">lpost2_5</span> <span class="o">=</span> <span class="n">M</span><span class="o">.</span><span class="n">stats</span><span class="p">()[</span><span class="s">&#39;l&#39;</span><span class="p">][</span><span class="s">&#39;quantiles&#39;</span><span class="p">][</span><span class="mf">2.5</span><span class="p">]</span>
<span class="n">lpost97_5</span> <span class="o">=</span> <span class="n">M</span><span class="o">.</span><span class="n">stats</span><span class="p">()[</span><span class="s">&#39;l&#39;</span><span class="p">][</span><span class="s">&#39;quantiles&#39;</span><span class="p">][</span><span class="mf">97.5</span><span class="p">]</span>
<span class="n">plt</span><span class="o">.</span><span class="n">plot</span><span class="p">([</span><span class="n">lpost2_5</span><span class="p">,</span><span class="n">lpost2_5</span><span class="p">],[</span><span class="mi">0</span><span class="p">,</span> <span class="mf">3.5</span><span class="p">],</span><span class="s">&#39;r--&#39;</span><span class="p">,</span><span class="n">linewidth</span><span class="o">=</span><span class="mi">3</span><span class="p">)</span>
<span class="n">plt</span><span class="o">.</span><span class="n">plot</span><span class="p">([</span><span class="n">lpost97_5</span><span class="p">,</span><span class="n">lpost97_5</span><span class="p">],[</span><span class="mi">0</span><span class="p">,</span> <span class="mf">3.5</span><span class="p">],</span><span class="s">&#39;r--&#39;</span><span class="p">,</span><span class="n">linewidth</span><span class="o">=</span><span class="mi">3</span><span class="p">)</span>
</pre></div>

</div>
</div>
</div>
<div class="cell border-box-sizing code_cell vbox">
<div class="input hbox">
<div class="prompt input_prompt">In&nbsp;[13]:</div>
<div class="input_area box-flex1">
<div class="highlight"><pre><span class="c"># PyMC has its own plotting functionality, via the Matplot module</span>
<span class="kn">from</span> <span class="nn">pymc</span> <span class="kn">import</span> <span class="n">Matplot</span>

<span class="c"># plot function takes the model (or a single parameter) as an argument:</span>
<span class="n">Matplot</span><span class="o">.</span><span class="n">plot</span><span class="p">(</span><span class="n">M</span><span class="p">)</span>
</pre></div>

</div>
</div>
</div>
<div class="cell border-box-sizing code_cell vbox">
<div class="input hbox">
<div class="prompt input_prompt">In&nbsp;[14]:</div>
<div class="input_area box-flex1">
<div class="highlight"><pre><span class="n">plt</span><span class="o">.</span><span class="n">figure</span><span class="p">(</span><span class="n">figsize</span><span class="o">=</span><span class="p">(</span><span class="mi">12</span><span class="p">,</span> <span class="mi">10</span><span class="p">))</span>
<span class="n">plt</span><span class="o">.</span><span class="n">plot</span><span class="p">(</span><span class="n">M</span><span class="o">.</span><span class="n">trace</span><span class="p">(</span><span class="s">&#39;e&#39;</span><span class="p">)[:],</span><span class="n">M</span><span class="o">.</span><span class="n">trace</span><span class="p">(</span><span class="s">&#39;s&#39;</span><span class="p">)[:],</span><span class="s">&#39;or&#39;</span><span class="p">,</span><span class="n">alpha</span><span class="o">=.</span><span class="mi">3</span><span class="p">)</span>
<span class="n">plt</span><span class="o">.</span><span class="n">xlabel</span><span class="p">(</span><span class="s">&#39;e (disasters per year)&#39;</span><span class="p">,</span><span class="n">fontsize</span><span class="o">=</span><span class="mi">20</span><span class="p">)</span>
<span class="n">plt</span><span class="o">.</span><span class="n">ylabel</span><span class="p">(</span><span class="s">&#39;s (changepoint + 1850)&#39;</span><span class="p">,</span><span class="n">fontsize</span><span class="o">=</span><span class="mi">20</span><span class="p">)</span>
</pre></div>

</div>
</div>
</div>
<div class="text_cell_render border-box-sizing rendered_html">
<h1>Of course, what we really want is to make inference about the parameters of interest!</h1>
</div>
<div class="cell border-box-sizing code_cell vbox">
<div class="input hbox">
<div class="prompt input_prompt">In&nbsp;[15]:</div>
<div class="input_area box-flex1">
<div class="highlight"><pre><span class="c"># posterior estimation and inference for the year of changepoint</span>

<span class="c"># posterior mean of year changepoint</span>
<span class="k">print</span> <span class="s">&#39;Posterior mean year for changepoint:  &#39;</span> <span class="o">+</span> <span class="nb">str</span><span class="p">(</span><span class="nb">round</span><span class="p">(</span><span class="mi">1850</span> <span class="o">+</span> <span class="n">M</span><span class="o">.</span><span class="n">stats</span><span class="p">()[</span><span class="s">&#39;s&#39;</span><span class="p">][</span><span class="s">&#39;mean&#39;</span><span class="p">]))</span>
<span class="c"># posterior 95% credible interval for s</span>
<span class="k">print</span> <span class="s">&#39;95</span><span class="si">% c</span><span class="s">redible interval for s:  (&#39;</span> <span class="o">+</span> <span class="nb">str</span><span class="p">(</span><span class="nb">round</span><span class="p">(</span><span class="mi">1850</span> <span class="o">+</span> <span class="n">M</span><span class="o">.</span><span class="n">stats</span><span class="p">()[</span><span class="s">&#39;s&#39;</span><span class="p">][</span><span class="s">&#39;quantiles&#39;</span><span class="p">][</span><span class="mf">2.5</span><span class="p">]))</span> <span class="o">+</span> \
<span class="s">&#39;,&#39;</span> <span class="o">+</span> <span class="nb">str</span><span class="p">(</span><span class="nb">round</span><span class="p">(</span><span class="mi">1850</span> <span class="o">+</span> <span class="n">M</span><span class="o">.</span><span class="n">stats</span><span class="p">()[</span><span class="s">&#39;s&#39;</span><span class="p">][</span><span class="s">&#39;quantiles&#39;</span><span class="p">][</span><span class="mf">97.5</span><span class="p">]))</span> <span class="o">+</span> <span class="s">&#39;)&#39;</span>
</pre></div>

</div>
</div>
</div>
<div class="cell border-box-sizing code_cell vbox">
<div class="input hbox">
<div class="prompt input_prompt">In&nbsp;[16]:</div>
<div class="input_area box-flex1">
<div class="highlight"><pre><span class="c"># posterior mean of magnitude of change (e - l)</span>
<span class="n">eminusl</span> <span class="o">=</span> <span class="n">M</span><span class="o">.</span><span class="n">trace</span><span class="p">(</span><span class="s">&#39;e&#39;</span><span class="p">)[:]</span> <span class="o">-</span> <span class="n">M</span><span class="o">.</span><span class="n">trace</span><span class="p">(</span><span class="s">&#39;l&#39;</span><span class="p">)[:]</span>
<span class="k">print</span> <span class="s">&#39;Posterior mean magnitude of change in rate:  &#39;</span> <span class="o">+</span> \
<span class="nb">str</span><span class="p">(</span><span class="nb">round</span><span class="p">(</span><span class="n">np</span><span class="o">.</span><span class="n">mean</span><span class="p">(</span><span class="n">eminusl</span><span class="p">),</span><span class="mi">2</span><span class="p">))</span> <span class="o">+</span> <span class="s">&#39; disasters per year&#39;</span>
<span class="c"># posterior 95% credible interval for s</span>
<span class="k">print</span> <span class="s">&#39;95</span><span class="si">% c</span><span class="s">redible interval for change in rate:  (&#39;</span> <span class="o">+</span> \
<span class="nb">str</span><span class="p">(</span><span class="nb">round</span><span class="p">(</span><span class="n">sort</span><span class="p">(</span><span class="n">eminusl</span><span class="p">)[</span><span class="n">np</span><span class="o">.</span><span class="n">floor</span><span class="p">(</span><span class="mf">0.025</span><span class="o">*</span><span class="nb">len</span><span class="p">(</span><span class="n">eminusl</span><span class="p">))],</span><span class="mi">2</span><span class="p">))</span> <span class="o">+</span> <span class="s">&#39;,&#39;</span> <span class="o">+</span> \
<span class="nb">str</span><span class="p">(</span><span class="nb">round</span><span class="p">(</span><span class="n">sort</span><span class="p">(</span><span class="n">eminusl</span><span class="p">)[</span><span class="n">np</span><span class="o">.</span><span class="n">floor</span><span class="p">(</span><span class="mf">0.975</span><span class="o">*</span><span class="nb">len</span><span class="p">(</span><span class="n">eminusl</span><span class="p">))],</span><span class="mi">2</span><span class="p">))</span> <span class="o">+</span> <span class="s">&#39;)&#39;</span>
</pre></div>

</div>
</div>
</div>
<div class="cell border-box-sizing code_cell vbox">
<div class="input hbox">
<div class="prompt input_prompt">In&nbsp;[17]:</div>
<div class="input_area box-flex1">
<div class="highlight"><pre><span class="c"># and we can also plot realizations of the model from the posterior!</span>
<span class="n">dates</span> <span class="o">=</span> <span class="n">np</span><span class="o">.</span><span class="n">arange</span><span class="p">(</span><span class="mi">1850</span><span class="p">,</span><span class="mi">1961</span><span class="p">)</span>
<span class="n">plt</span><span class="o">.</span><span class="n">figure</span><span class="p">(</span><span class="n">figsize</span><span class="o">=</span><span class="p">(</span><span class="mi">12</span><span class="p">,</span> <span class="mi">10</span><span class="p">))</span>
<span class="n">plt</span><span class="o">.</span><span class="n">plot</span><span class="p">(</span><span class="n">dates</span><span class="p">,</span><span class="n">DisasterModel</span><span class="o">.</span><span class="n">disasters_array</span><span class="p">,</span><span class="s">&#39;o-&#39;</span><span class="p">)</span>
<span class="n">plt</span><span class="o">.</span><span class="n">xlim</span><span class="p">([</span><span class="mi">1850</span><span class="p">,</span><span class="mi">1960</span><span class="p">])</span>
<span class="n">plt</span><span class="o">.</span><span class="n">xlabel</span><span class="p">(</span><span class="s">&#39;Year&#39;</span><span class="p">,</span><span class="n">fontsize</span><span class="o">=</span><span class="mi">20</span><span class="p">)</span>
<span class="n">plt</span><span class="o">.</span><span class="n">ylabel</span><span class="p">(</span><span class="s">&#39;# of Disasters&#39;</span><span class="p">,</span><span class="n">fontsize</span><span class="o">=</span><span class="mi">20</span><span class="p">)</span>
</pre></div>

</div>
</div>
</div>
<div class="cell border-box-sizing code_cell vbox">
<div class="input hbox">
<div class="prompt input_prompt">In&nbsp;[18]:</div>
<div class="input_area box-flex1">
<div class="highlight"><pre><span class="c"># now we can plot realizations of the model from the posterior!</span>
<span class="n">dates</span> <span class="o">=</span> <span class="n">np</span><span class="o">.</span><span class="n">arange</span><span class="p">(</span><span class="mi">1850</span><span class="p">,</span><span class="mi">1961</span><span class="p">)</span>
<span class="n">plt</span><span class="o">.</span><span class="n">figure</span><span class="p">(</span><span class="n">figsize</span><span class="o">=</span><span class="p">(</span><span class="mi">12</span><span class="p">,</span> <span class="mi">10</span><span class="p">))</span>
<span class="n">plt</span><span class="o">.</span><span class="n">plot</span><span class="p">(</span><span class="n">dates</span><span class="p">,</span><span class="n">DisasterModel</span><span class="o">.</span><span class="n">disasters_array</span><span class="p">,</span><span class="s">&#39;o-&#39;</span><span class="p">)</span>
<span class="n">plt</span><span class="o">.</span><span class="n">xlim</span><span class="p">([</span><span class="mi">1850</span><span class="p">,</span><span class="mi">1960</span><span class="p">])</span>
<span class="n">plt</span><span class="o">.</span><span class="n">xlabel</span><span class="p">(</span><span class="s">&#39;Year&#39;</span><span class="p">,</span><span class="n">fontsize</span><span class="o">=</span><span class="mi">20</span><span class="p">)</span>
<span class="n">plt</span><span class="o">.</span><span class="n">ylabel</span><span class="p">(</span><span class="s">&#39;# of Disasters&#39;</span><span class="p">,</span><span class="n">fontsize</span><span class="o">=</span><span class="mi">20</span><span class="p">)</span>

<span class="c"># plot first 250 MCMC samples</span>
<span class="k">for</span> <span class="n">i</span> <span class="ow">in</span> <span class="n">np</span><span class="o">.</span><span class="n">arange</span><span class="p">(</span><span class="mi">250</span><span class="p">):</span>
    <span class="n">ri</span> <span class="o">=</span> <span class="n">M</span><span class="o">.</span><span class="n">trace</span><span class="p">(</span><span class="s">&#39;r&#39;</span><span class="p">)[</span><span class="n">i</span><span class="p">]</span>
    <span class="n">plt</span><span class="o">.</span><span class="n">plot</span><span class="p">(</span><span class="n">dates</span><span class="p">,</span><span class="n">ri</span><span class="p">,</span><span class="s">&#39;-r&#39;</span><span class="p">,</span><span class="n">alpha</span><span class="o">=</span><span class="mf">0.3</span><span class="p">)</span>
</pre></div>

</div>
</div>
</div>
<div class="text_cell_render border-box-sizing rendered_html">
<h1>Convergence Diagnostics</h1>
<p>Geweke score = $\frac{\bar{\theta}_e - \bar{\theta}_b}{\sqrt{Var(\theta_e) + Var(\theta_b)}}$</p>
</div>
<div class="cell border-box-sizing code_cell vbox">
<div class="input hbox">
<div class="prompt input_prompt">In&nbsp;[128]:</div>
<div class="input_area box-flex1">
<div class="highlight"><pre><span class="kn">from</span> <span class="nn">pymc</span> <span class="kn">import</span> <span class="n">geweke</span>
<span class="kn">from</span> <span class="nn">pymc.Matplot</span> <span class="kn">import</span> <span class="n">geweke_plot</span>
<span class="n">scores</span> <span class="o">=</span> <span class="n">geweke</span><span class="p">(</span><span class="n">M</span><span class="p">)</span>
<span class="n">geweke_plot</span><span class="p">(</span><span class="n">scores</span><span class="p">)</span>
</pre></div>

</div>
</div>
</div>


     <!-- Footer
     ================================================== -->
      <footer class="footer">
      <p class="pull-right"><a href="#">Back to top</a></p>
      <p>More info on <a href='http://ipython.org'> IPython website </a>.
      <a href="https://github.com/ipython/nbviewer">The code for this site</a> is licensed under  <a href="https://github.com/ipython/nbviewer/blob/master/LICENSE.txt" target="_blank">BSD</a>.
      Some icons from <a href="http://glyphicons.com">Glyphicons Free</a>, built thanks to <a href="http://twitter.github.com/bootstrap/"> Twitter Bootstrap</a></p>
      <p>This web site does not host notebooks, it only renders notebooks available on other websites.
      Thanks to all our <a href="https://github.com/ipython/nbviewer/contributors">contributors</a>.</p>
      </footer>
    </div><!-- /container -->



    <!-- Le javascript
    ================================================== -->
    <!-- Placed at the end of the document so the pages load faster -->

    <!--<script type="text/javascript" src="http://platform.twitter.com/widgets.js"></script>-->
    <script src="/static/js/jquery.js"></script>
    <!--<script src="/static/js/google-code-prettify/prettify.js"></script>-->
    <!--<script src="/static/js/bootstrap-transition.js"></script>-->
    <!--<script src="/static/js/bootstrap-alert.js"></script>-->
    <!--<script src="/static/js/bootstrap-modal.js"></script>-->
    <!--<script src="/static/js/bootstrap-dropdown.js"></script>-->
    <!--<script src="/static/js/bootstrap-scrollspy.js"></script>-->
    <!--<script src="/static/js/bootstrap-tab.js"></script>-->
    <!--<script src="/static/js/bootstrap-tooltip.js"></script>-->
    <!--<script src="/static/js/bootstrap-popover.js"></script>-->
    <!--<script src="/static/js/bootstrap-button.js"></script>-->
    <script src="/static/js/bootstrap-collapse.js"></script>
    <!--<script src="/static/js/bootstrap-carousel.js"></script>-->
    <!--<script src="/static/js/bootstrap-typeahead.js"></script>-->
    <!--<script src="/static/js/application.js"></script>-->


    <!-- Analytics
    ================================================== -->
    <script type="text/javascript">
      var _gaq = _gaq || [];
      _gaq.push(['_setAccount', 'UA-38683231-2']);
      _gaq.push(['_trackPageview']);

      (function() {
        var ga = document.createElement('script'); ga.type = 'text/javascript'; ga.async = true;
        ga.src = ('https:' == document.location.protocol ? 'https://ssl' : 'http://www') + '.google-analytics.com/ga.js';
        var s = document.getElementsByTagName('script')[0]; s.parentNode.insertBefore(ga, s);
      })();

    </script>
    <!--NEW RELIC Stop Perf Measurement-->
    <script type="text/javascript">if(!NREUMQ.f){NREUMQ.f=function(){NREUMQ.push(["load",new Date().getTime()]);var e=document.createElement("script");e.type="text/javascript";e.src=(("http:"===document.location.protocol)?"http:":"https:")+"//"+"js-agent.newrelic.com/nr-100.js";document.body.appendChild(e);if(NREUMQ.a)NREUMQ.a();};NREUMQ.a=window.onload;window.onload=NREUMQ.f;};NREUMQ.push(["nrfj","beacon-3.newrelic.com","7c83165904","1528310","Y1YAMUFQXEZYUEcIVlocJBBdUkZcVl0cBlBHR1gXVl9WUEtsRhNVRw==",7,373,new Date().getTime(),"","","","",""]);</script>
    <!--NEW RELIC End-->
  </body>
</html>